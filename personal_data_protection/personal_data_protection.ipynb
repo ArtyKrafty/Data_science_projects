{
  "nbformat": 4,
  "nbformat_minor": 0,
  "metadata": {
    "ExecuteTimeLog": [
      {
        "duration": 1110,
        "start_time": "2021-06-15T08:11:41.859Z"
      },
      {
        "duration": 70,
        "start_time": "2021-06-15T08:13:22.179Z"
      },
      {
        "duration": 28,
        "start_time": "2021-06-15T08:13:32.402Z"
      },
      {
        "duration": 7,
        "start_time": "2021-06-15T08:14:47.491Z"
      },
      {
        "duration": 19,
        "start_time": "2021-06-15T08:14:53.521Z"
      },
      {
        "duration": 23,
        "start_time": "2021-06-15T08:14:58.459Z"
      },
      {
        "duration": 267,
        "start_time": "2021-06-15T08:15:22.940Z"
      },
      {
        "duration": 8,
        "start_time": "2021-06-15T08:15:25.894Z"
      },
      {
        "duration": 188,
        "start_time": "2021-06-15T08:15:49.879Z"
      },
      {
        "duration": 14,
        "start_time": "2021-06-15T08:16:01.250Z"
      },
      {
        "duration": 5,
        "start_time": "2021-06-15T08:17:35.078Z"
      },
      {
        "duration": 6,
        "start_time": "2021-06-15T08:17:40.855Z"
      },
      {
        "duration": 7,
        "start_time": "2021-06-15T08:17:45.639Z"
      },
      {
        "duration": 6,
        "start_time": "2021-06-15T08:17:50.549Z"
      },
      {
        "duration": 24,
        "start_time": "2021-06-15T08:18:19.241Z"
      },
      {
        "duration": 1937,
        "start_time": "2021-06-15T08:18:34.664Z"
      },
      {
        "duration": 1967,
        "start_time": "2021-06-15T08:19:22.488Z"
      },
      {
        "duration": 25,
        "start_time": "2021-06-15T08:44:46.764Z"
      },
      {
        "duration": 4,
        "start_time": "2021-06-15T08:46:28.215Z"
      },
      {
        "duration": 3,
        "start_time": "2021-06-15T08:47:17.687Z"
      },
      {
        "duration": 9,
        "start_time": "2021-06-15T08:47:28.018Z"
      },
      {
        "duration": 191,
        "start_time": "2021-06-15T08:49:44.005Z"
      },
      {
        "duration": 3,
        "start_time": "2021-06-15T08:49:46.076Z"
      },
      {
        "duration": 4,
        "start_time": "2021-06-15T08:49:46.649Z"
      },
      {
        "duration": 185,
        "start_time": "2021-06-15T08:50:01.122Z"
      },
      {
        "duration": 6,
        "start_time": "2021-06-15T08:51:30.634Z"
      },
      {
        "duration": 4,
        "start_time": "2021-06-15T08:52:07.746Z"
      },
      {
        "duration": 4,
        "start_time": "2021-06-15T08:52:36.451Z"
      },
      {
        "duration": 4,
        "start_time": "2021-06-15T08:53:29.433Z"
      },
      {
        "duration": 4,
        "start_time": "2021-06-15T09:08:48.978Z"
      },
      {
        "duration": 26,
        "start_time": "2021-06-15T09:08:50.266Z"
      },
      {
        "duration": 1999,
        "start_time": "2021-06-15T09:08:51.201Z"
      },
      {
        "duration": 27,
        "start_time": "2021-06-15T09:09:55.168Z"
      },
      {
        "duration": 7,
        "start_time": "2021-06-15T09:10:12.845Z"
      },
      {
        "duration": 7,
        "start_time": "2021-06-15T09:10:19.135Z"
      },
      {
        "duration": 5,
        "start_time": "2021-06-15T09:51:52.025Z"
      },
      {
        "duration": 5,
        "start_time": "2021-06-15T09:55:11.762Z"
      },
      {
        "duration": 9,
        "start_time": "2021-06-15T09:58:17.698Z"
      },
      {
        "duration": 10,
        "start_time": "2021-06-15T09:58:22.469Z"
      },
      {
        "duration": 4,
        "start_time": "2021-06-15T10:06:51.117Z"
      },
      {
        "duration": 16,
        "start_time": "2021-06-15T10:07:27.046Z"
      },
      {
        "duration": 8,
        "start_time": "2021-06-15T10:08:18.772Z"
      },
      {
        "duration": 8,
        "start_time": "2021-06-15T10:08:27.463Z"
      },
      {
        "duration": 5,
        "start_time": "2021-06-15T10:09:22.103Z"
      },
      {
        "duration": 6,
        "start_time": "2021-06-15T10:09:56.739Z"
      },
      {
        "duration": 301,
        "start_time": "2021-06-15T10:10:04.914Z"
      },
      {
        "duration": 5,
        "start_time": "2021-06-15T10:10:19.447Z"
      },
      {
        "duration": 120,
        "start_time": "2021-06-15T10:11:16.889Z"
      },
      {
        "duration": 7,
        "start_time": "2021-06-15T10:11:19.336Z"
      },
      {
        "duration": 10,
        "start_time": "2021-06-15T10:11:22.200Z"
      },
      {
        "duration": 3,
        "start_time": "2021-06-15T10:11:31.570Z"
      },
      {
        "duration": 7,
        "start_time": "2021-06-15T10:11:37.512Z"
      },
      {
        "duration": 7,
        "start_time": "2021-06-15T10:11:40.223Z"
      },
      {
        "duration": 4,
        "start_time": "2021-06-15T10:12:36.145Z"
      },
      {
        "duration": 8,
        "start_time": "2021-06-15T10:12:39.261Z"
      },
      {
        "duration": 8,
        "start_time": "2021-06-15T10:12:46.631Z"
      },
      {
        "duration": 3,
        "start_time": "2021-06-15T10:13:34.994Z"
      },
      {
        "duration": 185,
        "start_time": "2021-06-15T10:13:43.906Z"
      },
      {
        "duration": 58,
        "start_time": "2021-06-15T10:15:56.052Z"
      },
      {
        "duration": 4,
        "start_time": "2021-06-15T10:16:00.430Z"
      },
      {
        "duration": 4,
        "start_time": "2021-06-15T10:16:18.140Z"
      },
      {
        "duration": 3,
        "start_time": "2021-06-15T10:20:34.265Z"
      },
      {
        "duration": 64,
        "start_time": "2021-06-15T10:21:13.127Z"
      },
      {
        "duration": 57,
        "start_time": "2021-06-15T10:21:18.206Z"
      },
      {
        "duration": 467,
        "start_time": "2021-06-15T10:21:27.911Z"
      },
      {
        "duration": 60,
        "start_time": "2021-06-15T10:25:30.455Z"
      },
      {
        "duration": 6,
        "start_time": "2021-06-15T10:26:02.650Z"
      },
      {
        "duration": 19,
        "start_time": "2021-06-15T10:26:03.390Z"
      },
      {
        "duration": 3,
        "start_time": "2021-06-15T10:48:32.460Z"
      },
      {
        "duration": 16,
        "start_time": "2021-06-15T10:48:55.305Z"
      },
      {
        "duration": 3,
        "start_time": "2021-06-15T10:50:19.048Z"
      },
      {
        "duration": 16,
        "start_time": "2021-06-15T10:50:36.186Z"
      },
      {
        "duration": 9,
        "start_time": "2021-06-15T10:50:57.806Z"
      },
      {
        "duration": 5,
        "start_time": "2021-06-15T10:52:30.717Z"
      },
      {
        "duration": 4,
        "start_time": "2021-06-15T10:52:38.846Z"
      },
      {
        "duration": 13,
        "start_time": "2021-06-15T10:52:41.449Z"
      },
      {
        "duration": 541,
        "start_time": "2021-06-15T10:52:42.035Z"
      },
      {
        "duration": 4,
        "start_time": "2021-06-15T10:52:54.841Z"
      },
      {
        "duration": 15,
        "start_time": "2021-06-15T10:52:55.711Z"
      },
      {
        "duration": 14,
        "start_time": "2021-06-15T10:52:56.295Z"
      },
      {
        "duration": 4,
        "start_time": "2021-06-15T10:53:54.014Z"
      },
      {
        "duration": 8,
        "start_time": "2021-06-15T10:53:54.907Z"
      },
      {
        "duration": 361,
        "start_time": "2021-06-15T10:53:56.054Z"
      },
      {
        "duration": 5,
        "start_time": "2021-06-15T10:54:32.177Z"
      },
      {
        "duration": 8,
        "start_time": "2021-06-15T10:54:32.840Z"
      },
      {
        "duration": 673,
        "start_time": "2021-06-15T10:54:33.356Z"
      },
      {
        "duration": 4,
        "start_time": "2021-06-15T10:55:26.877Z"
      },
      {
        "duration": 8,
        "start_time": "2021-06-15T10:55:27.728Z"
      },
      {
        "duration": 657,
        "start_time": "2021-06-15T10:55:28.362Z"
      },
      {
        "duration": 4,
        "start_time": "2021-06-15T10:56:05.576Z"
      },
      {
        "duration": 10,
        "start_time": "2021-06-15T10:56:06.028Z"
      },
      {
        "duration": 9,
        "start_time": "2021-06-15T10:56:06.347Z"
      },
      {
        "duration": 4,
        "start_time": "2021-06-15T10:56:39.607Z"
      },
      {
        "duration": 8,
        "start_time": "2021-06-15T10:56:40.212Z"
      },
      {
        "duration": 9,
        "start_time": "2021-06-15T10:56:40.805Z"
      },
      {
        "duration": 4,
        "start_time": "2021-06-15T10:56:47.509Z"
      },
      {
        "duration": 15,
        "start_time": "2021-06-15T10:56:51.280Z"
      },
      {
        "duration": 55,
        "start_time": "2021-06-15T10:59:47.227Z"
      },
      {
        "duration": 9,
        "start_time": "2021-06-15T11:00:09.173Z"
      },
      {
        "duration": 17,
        "start_time": "2021-06-15T11:00:37.181Z"
      },
      {
        "duration": 4,
        "start_time": "2021-06-15T11:03:10.037Z"
      },
      {
        "duration": 172,
        "start_time": "2021-06-15T11:03:46.295Z"
      },
      {
        "duration": 5,
        "start_time": "2021-06-15T11:03:49.880Z"
      },
      {
        "duration": 185,
        "start_time": "2021-06-15T11:03:52.232Z"
      },
      {
        "duration": 9,
        "start_time": "2021-06-15T11:04:10.439Z"
      },
      {
        "duration": 10,
        "start_time": "2021-06-15T11:04:13.140Z"
      },
      {
        "duration": 359,
        "start_time": "2021-06-15T11:04:13.781Z"
      },
      {
        "duration": 4,
        "start_time": "2021-06-15T11:04:33.412Z"
      },
      {
        "duration": 10,
        "start_time": "2021-06-15T11:04:36.044Z"
      },
      {
        "duration": 8,
        "start_time": "2021-06-15T11:04:36.653Z"
      },
      {
        "duration": 23,
        "start_time": "2021-06-15T11:04:38.584Z"
      },
      {
        "duration": 9,
        "start_time": "2021-06-15T11:04:48.664Z"
      },
      {
        "duration": 15,
        "start_time": "2021-06-15T11:04:52.059Z"
      },
      {
        "duration": 4,
        "start_time": "2021-06-15T11:06:24.938Z"
      },
      {
        "duration": 10,
        "start_time": "2021-06-15T11:06:26.396Z"
      },
      {
        "duration": 10,
        "start_time": "2021-06-15T11:06:28.657Z"
      },
      {
        "duration": 10,
        "start_time": "2021-06-15T11:06:29.249Z"
      },
      {
        "duration": 4,
        "start_time": "2021-06-15T11:07:04.504Z"
      },
      {
        "duration": 12,
        "start_time": "2021-06-15T11:07:06.569Z"
      },
      {
        "duration": 13,
        "start_time": "2021-06-15T11:07:07.421Z"
      },
      {
        "duration": 13,
        "start_time": "2021-06-15T11:07:08.232Z"
      },
      {
        "duration": 6,
        "start_time": "2021-06-15T11:09:17.191Z"
      },
      {
        "duration": 10,
        "start_time": "2021-06-15T11:09:18.954Z"
      },
      {
        "duration": 12,
        "start_time": "2021-06-15T11:09:19.744Z"
      },
      {
        "duration": 389,
        "start_time": "2021-06-15T11:09:20.661Z"
      },
      {
        "duration": 3,
        "start_time": "2021-06-15T11:10:59.554Z"
      },
      {
        "duration": 10,
        "start_time": "2021-06-15T11:11:01.458Z"
      },
      {
        "duration": 71,
        "start_time": "2021-06-15T11:11:07.414Z"
      },
      {
        "duration": 348,
        "start_time": "2021-06-15T11:11:11.238Z"
      },
      {
        "duration": 4,
        "start_time": "2021-06-15T11:11:21.427Z"
      },
      {
        "duration": 9,
        "start_time": "2021-06-15T11:11:23.302Z"
      },
      {
        "duration": 10,
        "start_time": "2021-06-15T11:11:23.705Z"
      },
      {
        "duration": 15,
        "start_time": "2021-06-15T11:11:24.262Z"
      },
      {
        "duration": 15,
        "start_time": "2021-06-15T11:11:36.091Z"
      },
      {
        "duration": 10,
        "start_time": "2021-06-15T11:11:36.599Z"
      },
      {
        "duration": 13,
        "start_time": "2021-06-15T11:11:37.063Z"
      },
      {
        "duration": 4,
        "start_time": "2021-06-15T11:12:37.558Z"
      },
      {
        "duration": 182,
        "start_time": "2021-06-15T11:12:39.262Z"
      },
      {
        "duration": 4,
        "start_time": "2021-06-15T11:12:55.364Z"
      },
      {
        "duration": 11,
        "start_time": "2021-06-15T11:12:56.380Z"
      },
      {
        "duration": 66,
        "start_time": "2021-06-15T11:13:31.846Z"
      },
      {
        "duration": 4,
        "start_time": "2021-06-15T11:13:37.421Z"
      },
      {
        "duration": 10,
        "start_time": "2021-06-15T11:13:39.630Z"
      },
      {
        "duration": 84,
        "start_time": "2021-06-15T11:13:40.507Z"
      },
      {
        "duration": 10,
        "start_time": "2021-06-15T11:13:41.418Z"
      },
      {
        "duration": 12,
        "start_time": "2021-06-15T11:14:05.377Z"
      },
      {
        "duration": 16,
        "start_time": "2021-06-15T11:14:06.980Z"
      },
      {
        "duration": 4,
        "start_time": "2021-06-15T11:14:31.755Z"
      },
      {
        "duration": 4,
        "start_time": "2021-06-15T11:15:38.799Z"
      },
      {
        "duration": 4,
        "start_time": "2021-06-15T11:15:45.862Z"
      },
      {
        "duration": 345,
        "start_time": "2021-06-15T11:15:47.099Z"
      },
      {
        "duration": 17,
        "start_time": "2021-06-15T11:15:47.524Z"
      },
      {
        "duration": 4,
        "start_time": "2021-06-15T11:16:04.153Z"
      },
      {
        "duration": 4,
        "start_time": "2021-06-15T11:16:15.405Z"
      },
      {
        "duration": 381,
        "start_time": "2021-06-15T11:16:16.952Z"
      },
      {
        "duration": 6,
        "start_time": "2021-06-15T11:16:46.108Z"
      },
      {
        "duration": 393,
        "start_time": "2021-06-15T11:16:47.946Z"
      },
      {
        "duration": 4,
        "start_time": "2021-06-15T11:18:27.257Z"
      },
      {
        "duration": 378,
        "start_time": "2021-06-15T11:18:28.806Z"
      },
      {
        "duration": 4,
        "start_time": "2021-06-15T11:19:14.720Z"
      },
      {
        "duration": 357,
        "start_time": "2021-06-15T11:19:16.317Z"
      },
      {
        "duration": 4,
        "start_time": "2021-06-15T11:19:56.656Z"
      },
      {
        "duration": 4,
        "start_time": "2021-06-15T11:20:02.949Z"
      },
      {
        "duration": 10,
        "start_time": "2021-06-15T11:20:04.513Z"
      },
      {
        "duration": 14,
        "start_time": "2021-06-15T11:20:05.691Z"
      },
      {
        "duration": 10,
        "start_time": "2021-06-15T11:20:06.432Z"
      },
      {
        "duration": 5,
        "start_time": "2021-06-15T11:20:21.559Z"
      },
      {
        "duration": 4,
        "start_time": "2021-06-15T11:20:38.628Z"
      },
      {
        "duration": 356,
        "start_time": "2021-06-15T11:20:40.302Z"
      },
      {
        "duration": 4,
        "start_time": "2021-06-15T11:21:03.343Z"
      },
      {
        "duration": 355,
        "start_time": "2021-06-15T11:21:04.868Z"
      },
      {
        "duration": 5,
        "start_time": "2021-06-15T11:21:19.517Z"
      },
      {
        "duration": 10,
        "start_time": "2021-06-15T11:21:20.443Z"
      },
      {
        "duration": 8,
        "start_time": "2021-06-15T11:21:21.478Z"
      },
      {
        "duration": 234,
        "start_time": "2021-06-15T11:21:25.693Z"
      },
      {
        "duration": 4,
        "start_time": "2021-06-15T11:23:34.718Z"
      },
      {
        "duration": 12,
        "start_time": "2021-06-15T11:23:36.482Z"
      },
      {
        "duration": 13,
        "start_time": "2021-06-15T11:23:38.786Z"
      },
      {
        "duration": 220,
        "start_time": "2021-06-15T11:23:40.161Z"
      },
      {
        "duration": 6,
        "start_time": "2021-06-15T11:23:48.293Z"
      },
      {
        "duration": 11,
        "start_time": "2021-06-15T11:23:49.641Z"
      },
      {
        "duration": 14,
        "start_time": "2021-06-15T11:23:50.144Z"
      },
      {
        "duration": 184,
        "start_time": "2021-06-15T11:23:50.753Z"
      },
      {
        "duration": 4,
        "start_time": "2021-06-15T11:24:33.817Z"
      },
      {
        "duration": 10,
        "start_time": "2021-06-15T11:24:35.037Z"
      },
      {
        "duration": 64,
        "start_time": "2021-06-15T11:24:35.723Z"
      },
      {
        "duration": 204,
        "start_time": "2021-06-15T11:24:36.431Z"
      },
      {
        "duration": 4,
        "start_time": "2021-06-15T11:25:46.265Z"
      },
      {
        "duration": 10,
        "start_time": "2021-06-15T11:25:47.963Z"
      },
      {
        "duration": 9,
        "start_time": "2021-06-15T11:25:48.962Z"
      },
      {
        "duration": 180,
        "start_time": "2021-06-15T11:25:49.661Z"
      },
      {
        "duration": 14,
        "start_time": "2021-06-15T11:26:06.279Z"
      },
      {
        "duration": 9,
        "start_time": "2021-06-15T11:26:10.132Z"
      },
      {
        "duration": 10,
        "start_time": "2021-06-15T11:26:33.958Z"
      },
      {
        "duration": 4,
        "start_time": "2021-06-15T11:27:12.751Z"
      },
      {
        "duration": 388,
        "start_time": "2021-06-15T11:27:14.976Z"
      },
      {
        "duration": 66,
        "start_time": "2021-06-15T11:28:06.210Z"
      },
      {
        "duration": 455,
        "start_time": "2021-06-15T11:41:07.704Z"
      },
      {
        "duration": 4,
        "start_time": "2021-06-15T11:41:14.854Z"
      },
      {
        "duration": 6,
        "start_time": "2021-06-15T11:42:20.890Z"
      },
      {
        "duration": 358,
        "start_time": "2021-06-15T11:42:22.378Z"
      },
      {
        "duration": 5,
        "start_time": "2021-06-15T11:42:44.158Z"
      },
      {
        "duration": 10,
        "start_time": "2021-06-15T11:42:46.450Z"
      },
      {
        "duration": 20,
        "start_time": "2021-06-15T11:42:47.801Z"
      },
      {
        "duration": 11,
        "start_time": "2021-06-15T11:42:48.740Z"
      },
      {
        "duration": 4,
        "start_time": "2021-06-15T11:42:56.834Z"
      },
      {
        "duration": 10,
        "start_time": "2021-06-15T11:42:57.431Z"
      },
      {
        "duration": 19,
        "start_time": "2021-06-15T11:42:57.880Z"
      },
      {
        "duration": 10,
        "start_time": "2021-06-15T11:42:58.974Z"
      },
      {
        "duration": 1116,
        "start_time": "2021-06-15T11:43:09.520Z"
      },
      {
        "duration": 29,
        "start_time": "2021-06-15T11:43:10.638Z"
      },
      {
        "duration": 8,
        "start_time": "2021-06-15T11:43:10.669Z"
      },
      {
        "duration": 16,
        "start_time": "2021-06-15T11:43:10.679Z"
      },
      {
        "duration": 6,
        "start_time": "2021-06-15T11:43:10.697Z"
      },
      {
        "duration": 26,
        "start_time": "2021-06-15T11:43:10.705Z"
      },
      {
        "duration": 1900,
        "start_time": "2021-06-15T11:43:10.732Z"
      },
      {
        "duration": 6,
        "start_time": "2021-06-15T11:43:12.635Z"
      },
      {
        "duration": 5,
        "start_time": "2021-06-15T11:43:12.643Z"
      },
      {
        "duration": 5,
        "start_time": "2021-06-15T11:43:12.650Z"
      },
      {
        "duration": 32,
        "start_time": "2021-06-15T11:43:12.657Z"
      },
      {
        "duration": 17,
        "start_time": "2021-06-15T11:43:12.694Z"
      },
      {
        "duration": 92,
        "start_time": "2021-06-15T11:43:12.713Z"
      },
      {
        "duration": 6,
        "start_time": "2021-06-15T11:43:12.809Z"
      },
      {
        "duration": 12,
        "start_time": "2021-06-15T11:43:12.816Z"
      },
      {
        "duration": 15,
        "start_time": "2021-06-15T11:43:12.830Z"
      },
      {
        "duration": 19,
        "start_time": "2021-06-15T11:43:12.886Z"
      },
      {
        "duration": 95,
        "start_time": "2021-06-15T11:43:12.907Z"
      },
      {
        "duration": 14,
        "start_time": "2021-06-15T11:43:13.005Z"
      },
      {
        "duration": 92,
        "start_time": "2021-06-15T11:43:13.021Z"
      },
      {
        "duration": 85,
        "start_time": "2021-06-15T11:43:13.115Z"
      },
      {
        "duration": 23,
        "start_time": "2021-06-15T11:43:13.202Z"
      },
      {
        "duration": 159,
        "start_time": "2021-06-15T11:43:13.229Z"
      },
      {
        "duration": 10,
        "start_time": "2021-06-15T11:44:44.206Z"
      },
      {
        "duration": 10,
        "start_time": "2021-06-15T11:44:45.054Z"
      },
      {
        "duration": 14,
        "start_time": "2021-06-15T11:44:46.293Z"
      },
      {
        "duration": 4,
        "start_time": "2021-06-15T11:45:26.913Z"
      },
      {
        "duration": 459,
        "start_time": "2021-06-15T11:45:28.575Z"
      },
      {
        "duration": 4,
        "start_time": "2021-06-15T11:45:38.681Z"
      },
      {
        "duration": 10,
        "start_time": "2021-06-15T11:45:40.445Z"
      },
      {
        "duration": 10,
        "start_time": "2021-06-15T11:45:40.976Z"
      },
      {
        "duration": 11,
        "start_time": "2021-06-15T11:45:41.594Z"
      },
      {
        "duration": 6,
        "start_time": "2021-06-15T11:46:42.691Z"
      },
      {
        "duration": 10,
        "start_time": "2021-06-15T11:46:44.736Z"
      },
      {
        "duration": 9,
        "start_time": "2021-06-15T11:46:45.763Z"
      },
      {
        "duration": 10,
        "start_time": "2021-06-15T11:46:46.768Z"
      },
      {
        "duration": 13,
        "start_time": "2021-06-15T11:46:49.053Z"
      },
      {
        "duration": 17,
        "start_time": "2021-06-15T11:46:51.799Z"
      },
      {
        "duration": 10,
        "start_time": "2021-06-15T11:46:53.451Z"
      },
      {
        "duration": 10,
        "start_time": "2021-06-15T11:46:55.812Z"
      },
      {
        "duration": 11,
        "start_time": "2021-06-15T11:46:58.352Z"
      },
      {
        "duration": 14,
        "start_time": "2021-06-15T11:46:59.020Z"
      },
      {
        "duration": 18,
        "start_time": "2021-06-15T11:46:59.990Z"
      },
      {
        "duration": 12,
        "start_time": "2021-06-15T11:47:44.684Z"
      },
      {
        "duration": 10,
        "start_time": "2021-06-15T11:47:46.263Z"
      },
      {
        "duration": 10,
        "start_time": "2021-06-15T11:47:47.122Z"
      },
      {
        "duration": 10,
        "start_time": "2021-06-15T11:47:50.531Z"
      },
      {
        "duration": 8,
        "start_time": "2021-06-15T11:48:16.394Z"
      },
      {
        "duration": 17,
        "start_time": "2021-06-15T11:48:18.597Z"
      },
      {
        "duration": 16,
        "start_time": "2021-06-15T11:48:19.301Z"
      },
      {
        "duration": 20,
        "start_time": "2021-06-15T11:49:04.299Z"
      },
      {
        "duration": 10,
        "start_time": "2021-06-15T11:49:10.266Z"
      },
      {
        "duration": 16,
        "start_time": "2021-06-15T11:49:12.186Z"
      },
      {
        "duration": 10,
        "start_time": "2021-06-15T11:49:15.021Z"
      },
      {
        "duration": 185,
        "start_time": "2021-06-15T11:51:08.394Z"
      },
      {
        "duration": 6,
        "start_time": "2021-06-15T11:51:23.563Z"
      },
      {
        "duration": 183,
        "start_time": "2021-06-15T11:51:25.691Z"
      },
      {
        "duration": 6,
        "start_time": "2021-06-15T11:51:44.205Z"
      },
      {
        "duration": 196,
        "start_time": "2021-06-15T11:51:45.670Z"
      },
      {
        "duration": 18,
        "start_time": "2021-06-15T11:51:57.909Z"
      },
      {
        "duration": 66,
        "start_time": "2021-06-15T11:52:38.206Z"
      },
      {
        "duration": 4,
        "start_time": "2021-06-15T11:52:43.170Z"
      },
      {
        "duration": 16,
        "start_time": "2021-06-15T11:52:44.878Z"
      },
      {
        "duration": 9,
        "start_time": "2021-06-15T11:52:50.492Z"
      },
      {
        "duration": 15,
        "start_time": "2021-06-15T11:53:17.238Z"
      },
      {
        "duration": 1204,
        "start_time": "2021-06-15T11:53:35.994Z"
      },
      {
        "duration": 30,
        "start_time": "2021-06-15T11:53:37.204Z"
      },
      {
        "duration": 9,
        "start_time": "2021-06-15T11:53:37.236Z"
      },
      {
        "duration": 8,
        "start_time": "2021-06-15T11:53:37.247Z"
      },
      {
        "duration": 4,
        "start_time": "2021-06-15T11:53:37.257Z"
      },
      {
        "duration": 59,
        "start_time": "2021-06-15T11:53:37.263Z"
      },
      {
        "duration": 2067,
        "start_time": "2021-06-15T11:53:37.324Z"
      },
      {
        "duration": 8,
        "start_time": "2021-06-15T11:53:39.396Z"
      },
      {
        "duration": 16,
        "start_time": "2021-06-15T11:53:39.406Z"
      },
      {
        "duration": 17,
        "start_time": "2021-06-15T11:53:39.424Z"
      },
      {
        "duration": 6,
        "start_time": "2021-06-15T11:53:39.443Z"
      },
      {
        "duration": 19,
        "start_time": "2021-06-15T11:53:39.451Z"
      },
      {
        "duration": 101,
        "start_time": "2021-06-15T11:53:39.472Z"
      },
      {
        "duration": 12,
        "start_time": "2021-06-15T11:53:39.575Z"
      },
      {
        "duration": 17,
        "start_time": "2021-06-15T11:53:39.589Z"
      },
      {
        "duration": 86,
        "start_time": "2021-06-15T11:53:39.608Z"
      },
      {
        "duration": 8,
        "start_time": "2021-06-15T11:53:39.696Z"
      },
      {
        "duration": 81,
        "start_time": "2021-06-15T11:53:39.710Z"
      },
      {
        "duration": 13,
        "start_time": "2021-06-15T11:53:39.796Z"
      },
      {
        "duration": 82,
        "start_time": "2021-06-15T11:53:39.811Z"
      },
      {
        "duration": 32,
        "start_time": "2021-06-15T11:53:39.898Z"
      },
      {
        "duration": 64,
        "start_time": "2021-06-15T11:53:39.931Z"
      },
      {
        "duration": 88,
        "start_time": "2021-06-15T11:53:40.011Z"
      },
      {
        "duration": 843,
        "start_time": "2021-06-15T11:55:33.224Z"
      },
      {
        "duration": 17,
        "start_time": "2021-06-15T11:55:42.487Z"
      },
      {
        "duration": 13,
        "start_time": "2021-06-15T11:55:46.644Z"
      },
      {
        "duration": 18,
        "start_time": "2021-06-15T11:55:51.494Z"
      },
      {
        "duration": 6,
        "start_time": "2021-06-15T11:56:52.014Z"
      },
      {
        "duration": 24,
        "start_time": "2021-06-15T11:57:18.692Z"
      },
      {
        "duration": 1164,
        "start_time": "2021-06-15T11:57:25.589Z"
      },
      {
        "duration": 27,
        "start_time": "2021-06-15T11:57:26.755Z"
      },
      {
        "duration": 10,
        "start_time": "2021-06-15T11:57:26.784Z"
      },
      {
        "duration": 18,
        "start_time": "2021-06-15T11:57:26.796Z"
      },
      {
        "duration": 4,
        "start_time": "2021-06-15T11:57:26.817Z"
      },
      {
        "duration": 25,
        "start_time": "2021-06-15T11:57:26.823Z"
      },
      {
        "duration": 1926,
        "start_time": "2021-06-15T11:57:26.850Z"
      },
      {
        "duration": 15,
        "start_time": "2021-06-15T11:57:28.778Z"
      },
      {
        "duration": 8,
        "start_time": "2021-06-15T11:57:28.795Z"
      },
      {
        "duration": 12,
        "start_time": "2021-06-15T11:57:28.807Z"
      },
      {
        "duration": 3,
        "start_time": "2021-06-15T11:57:28.822Z"
      },
      {
        "duration": 8,
        "start_time": "2021-06-15T11:57:28.827Z"
      },
      {
        "duration": 5,
        "start_time": "2021-06-15T11:57:28.837Z"
      },
      {
        "duration": 5,
        "start_time": "2021-06-15T11:57:28.843Z"
      },
      {
        "duration": 124,
        "start_time": "2021-06-15T11:57:28.850Z"
      },
      {
        "duration": 42,
        "start_time": "2021-06-15T11:57:28.976Z"
      },
      {
        "duration": 10,
        "start_time": "2021-06-15T11:57:29.089Z"
      },
      {
        "duration": 101,
        "start_time": "2021-06-15T11:57:29.105Z"
      },
      {
        "duration": 10,
        "start_time": "2021-06-15T11:57:29.212Z"
      },
      {
        "duration": 58,
        "start_time": "2021-06-15T11:57:29.229Z"
      },
      {
        "duration": 15,
        "start_time": "2021-06-15T11:57:29.289Z"
      },
      {
        "duration": 98,
        "start_time": "2021-06-15T11:57:29.308Z"
      },
      {
        "duration": 78,
        "start_time": "2021-06-15T11:57:29.413Z"
      },
      {
        "duration": 11,
        "start_time": "2021-06-15T11:57:56.478Z"
      },
      {
        "duration": 6,
        "start_time": "2021-06-15T12:10:20.086Z"
      },
      {
        "duration": 4,
        "start_time": "2021-06-15T12:10:21.331Z"
      },
      {
        "duration": 5,
        "start_time": "2021-06-15T12:10:22.222Z"
      },
      {
        "duration": 4,
        "start_time": "2021-06-15T12:14:27.231Z"
      },
      {
        "duration": 8,
        "start_time": "2021-06-15T12:16:38.542Z"
      },
      {
        "duration": 12,
        "start_time": "2021-06-15T12:16:57.499Z"
      },
      {
        "duration": 7,
        "start_time": "2021-06-15T12:17:43.412Z"
      },
      {
        "duration": 1124,
        "start_time": "2021-06-15T12:19:23.562Z"
      },
      {
        "duration": 28,
        "start_time": "2021-06-15T12:19:24.688Z"
      },
      {
        "duration": 7,
        "start_time": "2021-06-15T12:19:24.718Z"
      },
      {
        "duration": 19,
        "start_time": "2021-06-15T12:19:24.727Z"
      },
      {
        "duration": 28,
        "start_time": "2021-06-15T12:19:24.748Z"
      },
      {
        "duration": 38,
        "start_time": "2021-06-15T12:19:24.778Z"
      },
      {
        "duration": 1863,
        "start_time": "2021-06-15T12:19:24.817Z"
      },
      {
        "duration": 9,
        "start_time": "2021-06-15T12:19:26.685Z"
      },
      {
        "duration": 6,
        "start_time": "2021-06-15T12:19:26.696Z"
      },
      {
        "duration": 6,
        "start_time": "2021-06-15T12:19:26.703Z"
      },
      {
        "duration": 4,
        "start_time": "2021-06-15T12:19:26.711Z"
      },
      {
        "duration": 9,
        "start_time": "2021-06-15T12:19:26.716Z"
      },
      {
        "duration": 162,
        "start_time": "2021-06-15T12:19:26.726Z"
      },
      {
        "duration": 7,
        "start_time": "2021-06-15T12:19:26.898Z"
      },
      {
        "duration": 89,
        "start_time": "2021-06-15T12:19:26.908Z"
      },
      {
        "duration": 6,
        "start_time": "2021-06-15T12:19:27.000Z"
      },
      {
        "duration": 93,
        "start_time": "2021-06-15T12:19:27.008Z"
      },
      {
        "duration": 84,
        "start_time": "2021-06-15T12:19:27.104Z"
      },
      {
        "duration": 19,
        "start_time": "2021-06-15T12:19:27.190Z"
      },
      {
        "duration": 181,
        "start_time": "2021-06-15T12:19:27.212Z"
      },
      {
        "duration": 91,
        "start_time": "2021-06-15T12:19:27.396Z"
      },
      {
        "duration": 14,
        "start_time": "2021-06-15T12:19:27.489Z"
      },
      {
        "duration": 7,
        "start_time": "2021-06-15T12:19:27.585Z"
      },
      {
        "duration": 5,
        "start_time": "2021-06-15T12:19:27.594Z"
      },
      {
        "duration": 8,
        "start_time": "2021-06-15T12:19:27.601Z"
      },
      {
        "duration": 11,
        "start_time": "2021-06-15T12:19:27.610Z"
      },
      {
        "duration": 7,
        "start_time": "2021-06-15T12:19:27.622Z"
      },
      {
        "duration": 4,
        "start_time": "2021-06-15T12:22:22.359Z"
      },
      {
        "duration": 5,
        "start_time": "2021-06-15T12:22:49.330Z"
      },
      {
        "duration": 7,
        "start_time": "2021-06-15T12:22:49.947Z"
      },
      {
        "duration": 10,
        "start_time": "2021-06-15T12:22:50.996Z"
      },
      {
        "duration": 5,
        "start_time": "2021-06-15T12:23:04.705Z"
      },
      {
        "duration": 7,
        "start_time": "2021-06-15T12:23:05.303Z"
      },
      {
        "duration": 7,
        "start_time": "2021-06-15T12:23:05.755Z"
      },
      {
        "duration": 7,
        "start_time": "2021-06-15T12:23:26.550Z"
      },
      {
        "duration": 6,
        "start_time": "2021-06-15T12:23:35.931Z"
      },
      {
        "duration": 8,
        "start_time": "2021-06-15T12:23:37.877Z"
      },
      {
        "duration": 15,
        "start_time": "2021-06-15T12:23:39.461Z"
      },
      {
        "duration": 21,
        "start_time": "2021-06-15T12:23:40.791Z"
      },
      {
        "duration": 6,
        "start_time": "2021-06-15T12:23:47.148Z"
      },
      {
        "duration": 5,
        "start_time": "2021-06-15T12:23:47.765Z"
      },
      {
        "duration": 5,
        "start_time": "2021-06-15T12:23:48.281Z"
      },
      {
        "duration": 5,
        "start_time": "2021-06-15T12:23:48.955Z"
      },
      {
        "duration": 10,
        "start_time": "2021-06-15T12:23:49.767Z"
      },
      {
        "duration": 320,
        "start_time": "2021-06-15T12:23:50.460Z"
      },
      {
        "duration": 5,
        "start_time": "2021-06-15T12:24:24.272Z"
      },
      {
        "duration": 9,
        "start_time": "2021-06-15T12:24:26.016Z"
      },
      {
        "duration": 7,
        "start_time": "2021-06-15T12:24:55.563Z"
      },
      {
        "duration": 7,
        "start_time": "2021-06-15T12:24:59.313Z"
      },
      {
        "duration": 9,
        "start_time": "2021-06-15T12:25:03.214Z"
      },
      {
        "duration": 5,
        "start_time": "2021-06-15T12:25:09.254Z"
      },
      {
        "duration": 9,
        "start_time": "2021-06-15T12:25:09.694Z"
      },
      {
        "duration": 10,
        "start_time": "2021-06-15T12:25:10.077Z"
      },
      {
        "duration": 6,
        "start_time": "2021-06-15T12:26:49.514Z"
      },
      {
        "duration": 7,
        "start_time": "2021-06-15T12:26:50.015Z"
      },
      {
        "duration": 7,
        "start_time": "2021-06-15T12:26:50.476Z"
      },
      {
        "duration": 5,
        "start_time": "2021-06-15T12:27:05.092Z"
      },
      {
        "duration": 4,
        "start_time": "2021-06-15T12:27:10.547Z"
      },
      {
        "duration": 8,
        "start_time": "2021-06-15T12:28:08.738Z"
      },
      {
        "duration": 9,
        "start_time": "2021-06-15T12:28:15.566Z"
      },
      {
        "duration": 9,
        "start_time": "2021-06-15T12:29:03.487Z"
      },
      {
        "duration": 10,
        "start_time": "2021-06-15T12:29:10.973Z"
      },
      {
        "duration": 10,
        "start_time": "2021-06-15T12:29:43.873Z"
      },
      {
        "duration": 5,
        "start_time": "2021-06-15T12:29:46.614Z"
      },
      {
        "duration": 5,
        "start_time": "2021-06-15T12:29:54.685Z"
      },
      {
        "duration": 4,
        "start_time": "2021-06-15T12:29:58.431Z"
      },
      {
        "duration": 5,
        "start_time": "2021-06-15T12:30:28.394Z"
      },
      {
        "duration": 7,
        "start_time": "2021-06-15T12:30:40.608Z"
      },
      {
        "duration": 7,
        "start_time": "2021-06-15T12:31:03.174Z"
      },
      {
        "duration": 1108,
        "start_time": "2021-06-15T12:31:09.741Z"
      },
      {
        "duration": 28,
        "start_time": "2021-06-15T12:31:10.851Z"
      },
      {
        "duration": 12,
        "start_time": "2021-06-15T12:31:10.881Z"
      },
      {
        "duration": 9,
        "start_time": "2021-06-15T12:31:10.895Z"
      },
      {
        "duration": 10,
        "start_time": "2021-06-15T12:31:10.905Z"
      },
      {
        "duration": 30,
        "start_time": "2021-06-15T12:31:10.917Z"
      },
      {
        "duration": 1940,
        "start_time": "2021-06-15T12:31:10.949Z"
      },
      {
        "duration": 12,
        "start_time": "2021-06-15T12:31:12.895Z"
      },
      {
        "duration": 5,
        "start_time": "2021-06-15T12:31:12.909Z"
      },
      {
        "duration": 7,
        "start_time": "2021-06-15T12:31:12.916Z"
      },
      {
        "duration": 4,
        "start_time": "2021-06-15T12:31:12.924Z"
      },
      {
        "duration": 10,
        "start_time": "2021-06-15T12:31:12.929Z"
      },
      {
        "duration": 150,
        "start_time": "2021-06-15T12:31:12.941Z"
      },
      {
        "duration": 7,
        "start_time": "2021-06-15T12:31:13.093Z"
      },
      {
        "duration": 110,
        "start_time": "2021-06-15T12:31:13.102Z"
      },
      {
        "duration": 8,
        "start_time": "2021-06-15T12:31:13.287Z"
      },
      {
        "duration": 10,
        "start_time": "2021-06-15T12:31:13.301Z"
      },
      {
        "duration": 11,
        "start_time": "2021-06-15T12:31:13.388Z"
      },
      {
        "duration": 13,
        "start_time": "2021-06-15T12:31:13.403Z"
      },
      {
        "duration": 92,
        "start_time": "2021-06-15T12:31:13.419Z"
      },
      {
        "duration": 91,
        "start_time": "2021-06-15T12:31:13.594Z"
      },
      {
        "duration": 101,
        "start_time": "2021-06-15T12:31:13.688Z"
      },
      {
        "duration": 7,
        "start_time": "2021-06-15T12:31:13.793Z"
      },
      {
        "duration": 5,
        "start_time": "2021-06-15T12:31:13.802Z"
      },
      {
        "duration": 5,
        "start_time": "2021-06-15T12:31:13.808Z"
      },
      {
        "duration": 7,
        "start_time": "2021-06-15T12:31:13.815Z"
      },
      {
        "duration": 6,
        "start_time": "2021-06-15T12:32:03.022Z"
      },
      {
        "duration": 6,
        "start_time": "2021-06-15T12:32:17.786Z"
      },
      {
        "duration": 4,
        "start_time": "2021-06-15T12:32:43.341Z"
      },
      {
        "duration": 9,
        "start_time": "2021-06-15T12:33:07.692Z"
      },
      {
        "duration": 9,
        "start_time": "2021-06-15T12:33:41.777Z"
      },
      {
        "duration": 3,
        "start_time": "2021-06-15T12:34:00.023Z"
      },
      {
        "duration": 4,
        "start_time": "2021-06-15T12:34:10.876Z"
      },
      {
        "duration": 7,
        "start_time": "2021-06-15T12:34:58.408Z"
      },
      {
        "duration": 9,
        "start_time": "2021-06-15T12:35:04.466Z"
      },
      {
        "duration": 58,
        "start_time": "2021-06-15T12:35:17.276Z"
      },
      {
        "duration": 63,
        "start_time": "2021-06-15T12:35:37.098Z"
      },
      {
        "duration": 7,
        "start_time": "2021-06-15T12:35:48.521Z"
      },
      {
        "duration": 324,
        "start_time": "2021-06-15T12:35:53.264Z"
      },
      {
        "duration": 7,
        "start_time": "2021-06-15T12:35:57.218Z"
      },
      {
        "duration": 277,
        "start_time": "2021-06-15T12:36:18.760Z"
      },
      {
        "duration": 61,
        "start_time": "2021-06-15T12:36:46.639Z"
      },
      {
        "duration": 8,
        "start_time": "2021-06-15T12:36:59.211Z"
      },
      {
        "duration": 10,
        "start_time": "2021-06-15T12:37:44.385Z"
      },
      {
        "duration": 14,
        "start_time": "2021-06-15T12:39:50.642Z"
      },
      {
        "duration": 11,
        "start_time": "2021-06-15T12:39:57.598Z"
      },
      {
        "duration": 9,
        "start_time": "2021-06-15T12:40:23.825Z"
      },
      {
        "duration": 8,
        "start_time": "2021-06-15T12:40:38.113Z"
      },
      {
        "duration": 10,
        "start_time": "2021-06-15T12:40:50.405Z"
      },
      {
        "duration": 14,
        "start_time": "2021-06-15T12:41:03.085Z"
      },
      {
        "duration": 4,
        "start_time": "2021-06-15T12:41:44.709Z"
      },
      {
        "duration": 13,
        "start_time": "2021-06-15T12:41:45.994Z"
      },
      {
        "duration": 1097,
        "start_time": "2021-06-15T12:42:42.569Z"
      },
      {
        "duration": 34,
        "start_time": "2021-06-15T12:42:43.668Z"
      },
      {
        "duration": 8,
        "start_time": "2021-06-15T12:42:43.705Z"
      },
      {
        "duration": 7,
        "start_time": "2021-06-15T12:42:43.715Z"
      },
      {
        "duration": 4,
        "start_time": "2021-06-15T12:42:43.723Z"
      },
      {
        "duration": 24,
        "start_time": "2021-06-15T12:42:43.728Z"
      },
      {
        "duration": 1877,
        "start_time": "2021-06-15T12:42:43.754Z"
      },
      {
        "duration": 6,
        "start_time": "2021-06-15T12:42:45.634Z"
      },
      {
        "duration": 8,
        "start_time": "2021-06-15T12:42:45.642Z"
      },
      {
        "duration": 6,
        "start_time": "2021-06-15T12:42:45.651Z"
      },
      {
        "duration": 4,
        "start_time": "2021-06-15T12:42:45.658Z"
      },
      {
        "duration": 13,
        "start_time": "2021-06-15T12:42:45.686Z"
      },
      {
        "duration": 101,
        "start_time": "2021-06-15T12:42:45.701Z"
      },
      {
        "duration": 82,
        "start_time": "2021-06-15T12:42:45.804Z"
      },
      {
        "duration": 107,
        "start_time": "2021-06-15T12:42:45.888Z"
      },
      {
        "duration": 92,
        "start_time": "2021-06-15T12:42:45.997Z"
      },
      {
        "duration": 99,
        "start_time": "2021-06-15T12:42:46.094Z"
      },
      {
        "duration": 9,
        "start_time": "2021-06-15T12:42:46.195Z"
      },
      {
        "duration": 8,
        "start_time": "2021-06-15T12:42:46.206Z"
      },
      {
        "duration": 173,
        "start_time": "2021-06-15T12:42:46.216Z"
      },
      {
        "duration": 10,
        "start_time": "2021-06-15T12:42:46.391Z"
      },
      {
        "duration": 105,
        "start_time": "2021-06-15T12:42:46.402Z"
      },
      {
        "duration": 13,
        "start_time": "2021-06-15T12:42:46.586Z"
      },
      {
        "duration": 4,
        "start_time": "2021-06-15T12:42:46.602Z"
      },
      {
        "duration": 6,
        "start_time": "2021-06-15T12:42:46.608Z"
      },
      {
        "duration": 7,
        "start_time": "2021-06-15T12:42:46.615Z"
      },
      {
        "duration": 5,
        "start_time": "2021-06-15T12:42:46.624Z"
      },
      {
        "duration": 5,
        "start_time": "2021-06-15T12:42:46.630Z"
      },
      {
        "duration": 6,
        "start_time": "2021-06-15T12:42:46.636Z"
      },
      {
        "duration": 6,
        "start_time": "2021-06-15T12:42:46.643Z"
      },
      {
        "duration": 49,
        "start_time": "2021-06-15T12:42:46.650Z"
      },
      {
        "duration": 13,
        "start_time": "2021-06-15T12:42:46.701Z"
      },
      {
        "duration": 73,
        "start_time": "2021-06-15T12:42:46.716Z"
      },
      {
        "duration": 21,
        "start_time": "2021-06-15T12:42:46.791Z"
      },
      {
        "duration": 2704,
        "start_time": "2021-06-15T12:54:26.958Z"
      },
      {
        "duration": 34,
        "start_time": "2021-06-15T12:54:29.664Z"
      },
      {
        "duration": 8,
        "start_time": "2021-06-15T12:54:29.700Z"
      },
      {
        "duration": 8,
        "start_time": "2021-06-15T12:54:29.710Z"
      },
      {
        "duration": 4,
        "start_time": "2021-06-15T12:54:29.720Z"
      },
      {
        "duration": 27,
        "start_time": "2021-06-15T12:54:29.726Z"
      },
      {
        "duration": 1803,
        "start_time": "2021-06-15T12:54:29.755Z"
      },
      {
        "duration": 6,
        "start_time": "2021-06-15T12:54:31.561Z"
      },
      {
        "duration": 18,
        "start_time": "2021-06-15T12:54:31.569Z"
      },
      {
        "duration": 10,
        "start_time": "2021-06-15T12:54:31.589Z"
      },
      {
        "duration": 4,
        "start_time": "2021-06-15T12:54:31.600Z"
      },
      {
        "duration": 8,
        "start_time": "2021-06-15T12:54:31.606Z"
      },
      {
        "duration": 168,
        "start_time": "2021-06-15T12:54:31.616Z"
      },
      {
        "duration": 13,
        "start_time": "2021-06-15T12:54:31.785Z"
      },
      {
        "duration": 99,
        "start_time": "2021-06-15T12:54:31.800Z"
      },
      {
        "duration": 84,
        "start_time": "2021-06-15T12:54:31.901Z"
      },
      {
        "duration": 7,
        "start_time": "2021-06-15T12:54:31.987Z"
      },
      {
        "duration": 96,
        "start_time": "2021-06-15T12:54:31.996Z"
      },
      {
        "duration": 21,
        "start_time": "2021-06-15T12:54:32.094Z"
      },
      {
        "duration": 102,
        "start_time": "2021-06-15T12:54:32.198Z"
      },
      {
        "duration": 100,
        "start_time": "2021-06-15T12:54:32.304Z"
      },
      {
        "duration": 15,
        "start_time": "2021-06-15T12:54:32.485Z"
      },
      {
        "duration": 5,
        "start_time": "2021-06-15T12:54:32.503Z"
      },
      {
        "duration": 5,
        "start_time": "2021-06-15T12:54:32.510Z"
      },
      {
        "duration": 6,
        "start_time": "2021-06-15T12:54:32.516Z"
      },
      {
        "duration": 70,
        "start_time": "2021-06-15T12:54:32.523Z"
      },
      {
        "duration": 7,
        "start_time": "2021-06-15T12:54:32.597Z"
      },
      {
        "duration": 7,
        "start_time": "2021-06-15T12:54:32.605Z"
      },
      {
        "duration": 7,
        "start_time": "2021-06-15T12:54:32.613Z"
      },
      {
        "duration": 8,
        "start_time": "2021-06-15T12:54:32.621Z"
      },
      {
        "duration": 8,
        "start_time": "2021-06-15T12:54:32.630Z"
      },
      {
        "duration": 57,
        "start_time": "2021-06-15T12:54:32.640Z"
      },
      {
        "duration": 4,
        "start_time": "2021-06-15T12:54:32.703Z"
      },
      {
        "duration": 90,
        "start_time": "2021-06-15T12:54:32.709Z"
      },
      {
        "duration": 8,
        "start_time": "2021-06-15T12:56:20.805Z"
      },
      {
        "duration": 7,
        "start_time": "2021-06-15T12:57:13.931Z"
      },
      {
        "duration": 7,
        "start_time": "2021-06-15T12:58:02.855Z"
      },
      {
        "duration": 1184,
        "start_time": "2021-06-15T12:58:10.505Z"
      },
      {
        "duration": 31,
        "start_time": "2021-06-15T12:58:11.691Z"
      },
      {
        "duration": 9,
        "start_time": "2021-06-15T12:58:11.725Z"
      },
      {
        "duration": 8,
        "start_time": "2021-06-15T12:58:11.736Z"
      },
      {
        "duration": 4,
        "start_time": "2021-06-15T12:58:11.747Z"
      },
      {
        "duration": 48,
        "start_time": "2021-06-15T12:58:11.752Z"
      },
      {
        "duration": 1910,
        "start_time": "2021-06-15T12:58:11.802Z"
      },
      {
        "duration": 7,
        "start_time": "2021-06-15T12:58:13.714Z"
      },
      {
        "duration": 5,
        "start_time": "2021-06-15T12:58:13.723Z"
      },
      {
        "duration": 6,
        "start_time": "2021-06-15T12:58:13.729Z"
      },
      {
        "duration": 4,
        "start_time": "2021-06-15T12:58:13.736Z"
      },
      {
        "duration": 9,
        "start_time": "2021-06-15T12:58:13.741Z"
      },
      {
        "duration": 139,
        "start_time": "2021-06-15T12:58:13.752Z"
      },
      {
        "duration": 6,
        "start_time": "2021-06-15T12:58:13.893Z"
      },
      {
        "duration": 106,
        "start_time": "2021-06-15T12:58:13.900Z"
      },
      {
        "duration": 90,
        "start_time": "2021-06-15T12:58:14.008Z"
      },
      {
        "duration": 10,
        "start_time": "2021-06-15T12:58:14.101Z"
      },
      {
        "duration": 13,
        "start_time": "2021-06-15T12:58:14.186Z"
      },
      {
        "duration": 9,
        "start_time": "2021-06-15T12:58:14.201Z"
      },
      {
        "duration": 9,
        "start_time": "2021-06-15T12:58:14.212Z"
      },
      {
        "duration": 84,
        "start_time": "2021-06-15T12:58:14.223Z"
      },
      {
        "duration": 91,
        "start_time": "2021-06-15T12:58:14.311Z"
      },
      {
        "duration": 101,
        "start_time": "2021-06-15T12:58:14.405Z"
      },
      {
        "duration": 86,
        "start_time": "2021-06-15T12:58:14.514Z"
      },
      {
        "duration": 5,
        "start_time": "2021-06-15T12:58:14.603Z"
      },
      {
        "duration": 7,
        "start_time": "2021-06-15T12:58:14.609Z"
      },
      {
        "duration": 5,
        "start_time": "2021-06-15T12:58:14.618Z"
      },
      {
        "duration": 7,
        "start_time": "2021-06-15T12:58:14.625Z"
      },
      {
        "duration": 6,
        "start_time": "2021-06-15T12:58:14.634Z"
      },
      {
        "duration": 5,
        "start_time": "2021-06-15T12:58:14.641Z"
      },
      {
        "duration": 43,
        "start_time": "2021-06-15T12:58:14.647Z"
      },
      {
        "duration": 10,
        "start_time": "2021-06-15T12:58:14.693Z"
      },
      {
        "duration": 7,
        "start_time": "2021-06-15T12:58:14.705Z"
      },
      {
        "duration": 18,
        "start_time": "2021-06-15T12:58:14.713Z"
      },
      {
        "duration": 12,
        "start_time": "2021-06-15T12:58:14.788Z"
      },
      {
        "duration": 87,
        "start_time": "2021-06-15T12:58:14.809Z"
      },
      {
        "duration": 10,
        "start_time": "2021-06-15T12:58:56.917Z"
      },
      {
        "duration": 13,
        "start_time": "2021-06-15T12:59:02.983Z"
      },
      {
        "duration": 1160,
        "start_time": "2021-06-15T12:59:46.698Z"
      },
      {
        "duration": 29,
        "start_time": "2021-06-15T12:59:47.860Z"
      },
      {
        "duration": 11,
        "start_time": "2021-06-15T12:59:47.891Z"
      },
      {
        "duration": 6,
        "start_time": "2021-06-15T12:59:47.904Z"
      },
      {
        "duration": 4,
        "start_time": "2021-06-15T12:59:47.912Z"
      },
      {
        "duration": 26,
        "start_time": "2021-06-15T12:59:47.918Z"
      },
      {
        "duration": 1865,
        "start_time": "2021-06-15T12:59:47.946Z"
      },
      {
        "duration": 6,
        "start_time": "2021-06-15T12:59:49.813Z"
      },
      {
        "duration": 6,
        "start_time": "2021-06-15T12:59:49.821Z"
      },
      {
        "duration": 6,
        "start_time": "2021-06-15T12:59:49.829Z"
      },
      {
        "duration": 4,
        "start_time": "2021-06-15T12:59:49.837Z"
      },
      {
        "duration": 9,
        "start_time": "2021-06-15T12:59:49.842Z"
      },
      {
        "duration": 144,
        "start_time": "2021-06-15T12:59:49.853Z"
      },
      {
        "duration": 88,
        "start_time": "2021-06-15T12:59:49.999Z"
      },
      {
        "duration": 19,
        "start_time": "2021-06-15T12:59:50.089Z"
      },
      {
        "duration": 18,
        "start_time": "2021-06-15T12:59:50.185Z"
      },
      {
        "duration": 80,
        "start_time": "2021-06-15T12:59:50.205Z"
      },
      {
        "duration": 17,
        "start_time": "2021-06-15T12:59:50.287Z"
      },
      {
        "duration": 10,
        "start_time": "2021-06-15T12:59:50.306Z"
      },
      {
        "duration": 14,
        "start_time": "2021-06-15T12:59:50.317Z"
      },
      {
        "duration": 156,
        "start_time": "2021-06-15T12:59:50.334Z"
      },
      {
        "duration": 12,
        "start_time": "2021-06-15T12:59:50.492Z"
      },
      {
        "duration": 89,
        "start_time": "2021-06-15T12:59:50.508Z"
      },
      {
        "duration": 92,
        "start_time": "2021-06-15T12:59:50.600Z"
      },
      {
        "duration": 6,
        "start_time": "2021-06-15T12:59:50.701Z"
      },
      {
        "duration": 13,
        "start_time": "2021-06-15T12:59:50.708Z"
      },
      {
        "duration": 7,
        "start_time": "2021-06-15T12:59:50.722Z"
      },
      {
        "duration": 9,
        "start_time": "2021-06-15T12:59:50.731Z"
      },
      {
        "duration": 5,
        "start_time": "2021-06-15T12:59:50.742Z"
      },
      {
        "duration": 8,
        "start_time": "2021-06-15T12:59:50.749Z"
      },
      {
        "duration": 6,
        "start_time": "2021-06-15T12:59:50.759Z"
      },
      {
        "duration": 23,
        "start_time": "2021-06-15T12:59:50.767Z"
      },
      {
        "duration": 9,
        "start_time": "2021-06-15T12:59:50.791Z"
      },
      {
        "duration": 11,
        "start_time": "2021-06-15T12:59:50.802Z"
      },
      {
        "duration": 70,
        "start_time": "2021-06-15T12:59:50.815Z"
      },
      {
        "duration": 14,
        "start_time": "2021-06-15T12:59:50.887Z"
      },
      {
        "duration": 9,
        "start_time": "2021-06-15T13:00:25.083Z"
      },
      {
        "duration": 1141,
        "start_time": "2021-06-15T13:00:35.816Z"
      },
      {
        "duration": 33,
        "start_time": "2021-06-15T13:00:36.960Z"
      },
      {
        "duration": 9,
        "start_time": "2021-06-15T13:00:36.995Z"
      },
      {
        "duration": 9,
        "start_time": "2021-06-15T13:00:37.006Z"
      },
      {
        "duration": 3,
        "start_time": "2021-06-15T13:00:37.017Z"
      },
      {
        "duration": 25,
        "start_time": "2021-06-15T13:00:37.022Z"
      },
      {
        "duration": 1917,
        "start_time": "2021-06-15T13:00:37.049Z"
      },
      {
        "duration": 13,
        "start_time": "2021-06-15T13:00:38.973Z"
      },
      {
        "duration": 11,
        "start_time": "2021-06-15T13:00:38.988Z"
      },
      {
        "duration": 14,
        "start_time": "2021-06-15T13:00:39.002Z"
      },
      {
        "duration": 4,
        "start_time": "2021-06-15T13:00:39.018Z"
      },
      {
        "duration": 10,
        "start_time": "2021-06-15T13:00:39.025Z"
      },
      {
        "duration": 148,
        "start_time": "2021-06-15T13:00:39.037Z"
      },
      {
        "duration": 9,
        "start_time": "2021-06-15T13:00:39.190Z"
      },
      {
        "duration": 95,
        "start_time": "2021-06-15T13:00:39.201Z"
      },
      {
        "duration": 91,
        "start_time": "2021-06-15T13:00:39.298Z"
      },
      {
        "duration": 15,
        "start_time": "2021-06-15T13:00:39.392Z"
      },
      {
        "duration": 18,
        "start_time": "2021-06-15T13:00:39.484Z"
      },
      {
        "duration": 13,
        "start_time": "2021-06-15T13:00:39.503Z"
      },
      {
        "duration": 10,
        "start_time": "2021-06-15T13:00:39.517Z"
      },
      {
        "duration": 157,
        "start_time": "2021-06-15T13:00:39.529Z"
      },
      {
        "duration": 192,
        "start_time": "2021-06-15T13:00:39.692Z"
      },
      {
        "duration": 10,
        "start_time": "2021-06-15T13:00:39.887Z"
      },
      {
        "duration": 10,
        "start_time": "2021-06-15T13:00:39.899Z"
      },
      {
        "duration": 7,
        "start_time": "2021-06-15T13:00:39.910Z"
      },
      {
        "duration": 6,
        "start_time": "2021-06-15T13:00:39.918Z"
      },
      {
        "duration": 8,
        "start_time": "2021-06-15T13:00:39.926Z"
      },
      {
        "duration": 7,
        "start_time": "2021-06-15T13:00:39.936Z"
      },
      {
        "duration": 6,
        "start_time": "2021-06-15T13:00:39.944Z"
      },
      {
        "duration": 41,
        "start_time": "2021-06-15T13:00:39.952Z"
      },
      {
        "duration": 5,
        "start_time": "2021-06-15T13:00:40.001Z"
      },
      {
        "duration": 10,
        "start_time": "2021-06-15T13:00:40.007Z"
      },
      {
        "duration": 9,
        "start_time": "2021-06-15T13:00:40.019Z"
      },
      {
        "duration": 59,
        "start_time": "2021-06-15T13:00:40.030Z"
      },
      {
        "duration": 13,
        "start_time": "2021-06-15T13:00:40.091Z"
      },
      {
        "duration": 82,
        "start_time": "2021-06-15T13:00:40.106Z"
      },
      {
        "duration": 13,
        "start_time": "2021-06-15T13:00:40.190Z"
      },
      {
        "duration": 59,
        "start_time": "2021-06-15T13:02:01.768Z"
      },
      {
        "duration": 294,
        "start_time": "2021-06-15T13:02:07.672Z"
      },
      {
        "duration": 215,
        "start_time": "2021-06-15T13:02:27.598Z"
      },
      {
        "duration": 186,
        "start_time": "2021-06-15T13:02:33.689Z"
      },
      {
        "duration": 177,
        "start_time": "2021-06-15T13:02:37.654Z"
      },
      {
        "duration": 202,
        "start_time": "2021-06-15T13:02:55.318Z"
      },
      {
        "duration": 6,
        "start_time": "2021-06-15T13:03:19.080Z"
      },
      {
        "duration": 6,
        "start_time": "2021-06-15T13:03:25.266Z"
      },
      {
        "duration": 7,
        "start_time": "2021-06-15T13:03:31.439Z"
      },
      {
        "duration": 9,
        "start_time": "2021-06-15T13:03:43.450Z"
      },
      {
        "duration": 1093,
        "start_time": "2021-06-15T13:04:13.656Z"
      },
      {
        "duration": 28,
        "start_time": "2021-06-15T13:04:14.750Z"
      },
      {
        "duration": 9,
        "start_time": "2021-06-15T13:04:14.780Z"
      },
      {
        "duration": 9,
        "start_time": "2021-06-15T13:04:14.792Z"
      },
      {
        "duration": 3,
        "start_time": "2021-06-15T13:04:14.803Z"
      },
      {
        "duration": 28,
        "start_time": "2021-06-15T13:04:14.808Z"
      },
      {
        "duration": 1836,
        "start_time": "2021-06-15T13:04:14.837Z"
      },
      {
        "duration": 16,
        "start_time": "2021-06-15T13:04:16.675Z"
      },
      {
        "duration": 5,
        "start_time": "2021-06-15T13:04:16.699Z"
      },
      {
        "duration": 7,
        "start_time": "2021-06-15T13:04:16.706Z"
      },
      {
        "duration": 4,
        "start_time": "2021-06-15T13:04:16.715Z"
      },
      {
        "duration": 7,
        "start_time": "2021-06-15T13:04:16.721Z"
      },
      {
        "duration": 154,
        "start_time": "2021-06-15T13:04:16.730Z"
      },
      {
        "duration": 11,
        "start_time": "2021-06-15T13:04:16.886Z"
      },
      {
        "duration": 105,
        "start_time": "2021-06-15T13:04:16.899Z"
      },
      {
        "duration": 98,
        "start_time": "2021-06-15T13:04:17.006Z"
      },
      {
        "duration": 93,
        "start_time": "2021-06-15T13:04:17.106Z"
      },
      {
        "duration": 8,
        "start_time": "2021-06-15T13:04:17.201Z"
      },
      {
        "duration": 9,
        "start_time": "2021-06-15T13:04:17.211Z"
      },
      {
        "duration": 11,
        "start_time": "2021-06-15T13:04:17.222Z"
      },
      {
        "duration": 99,
        "start_time": "2021-06-15T13:04:17.298Z"
      },
      {
        "duration": 11,
        "start_time": "2021-06-15T13:04:17.399Z"
      },
      {
        "duration": 10,
        "start_time": "2021-06-15T13:04:17.489Z"
      },
      {
        "duration": 96,
        "start_time": "2021-06-15T13:04:17.503Z"
      },
      {
        "duration": 6,
        "start_time": "2021-06-15T13:04:17.601Z"
      },
      {
        "duration": 6,
        "start_time": "2021-06-15T13:04:17.609Z"
      },
      {
        "duration": 13,
        "start_time": "2021-06-15T13:04:17.616Z"
      },
      {
        "duration": 9,
        "start_time": "2021-06-15T13:04:17.631Z"
      },
      {
        "duration": 6,
        "start_time": "2021-06-15T13:04:17.642Z"
      },
      {
        "duration": 5,
        "start_time": "2021-06-15T13:04:17.650Z"
      },
      {
        "duration": 11,
        "start_time": "2021-06-15T13:04:17.656Z"
      },
      {
        "duration": 25,
        "start_time": "2021-06-15T13:04:17.669Z"
      },
      {
        "duration": 7,
        "start_time": "2021-06-15T13:04:17.696Z"
      },
      {
        "duration": 13,
        "start_time": "2021-06-15T13:04:17.704Z"
      },
      {
        "duration": 71,
        "start_time": "2021-06-15T13:04:17.719Z"
      },
      {
        "duration": 4,
        "start_time": "2021-06-15T13:04:17.794Z"
      },
      {
        "duration": 102,
        "start_time": "2021-06-15T13:04:17.800Z"
      },
      {
        "duration": 303,
        "start_time": "2021-06-15T19:09:30.390Z"
      },
      {
        "duration": 1449,
        "start_time": "2021-06-15T19:09:38.433Z"
      },
      {
        "duration": 73,
        "start_time": "2021-06-15T19:09:39.885Z"
      },
      {
        "duration": 12,
        "start_time": "2021-06-15T19:09:39.960Z"
      },
      {
        "duration": 12,
        "start_time": "2021-06-15T19:09:39.975Z"
      },
      {
        "duration": 5,
        "start_time": "2021-06-15T19:09:39.989Z"
      },
      {
        "duration": 39,
        "start_time": "2021-06-15T19:09:39.996Z"
      },
      {
        "duration": 3118,
        "start_time": "2021-06-15T19:09:40.037Z"
      },
      {
        "duration": 10,
        "start_time": "2021-06-15T19:09:43.160Z"
      },
      {
        "duration": 31,
        "start_time": "2021-06-15T19:09:43.174Z"
      },
      {
        "duration": 8,
        "start_time": "2021-06-15T19:09:43.208Z"
      },
      {
        "duration": 400,
        "start_time": "2021-06-15T19:09:43.218Z"
      },
      {
        "duration": 36,
        "start_time": "2021-06-15T19:09:43.587Z"
      },
      {
        "duration": 35,
        "start_time": "2021-06-15T19:09:43.590Z"
      },
      {
        "duration": 34,
        "start_time": "2021-06-15T19:09:43.593Z"
      },
      {
        "duration": 66,
        "start_time": "2021-06-15T19:09:43.645Z"
      },
      {
        "duration": 64,
        "start_time": "2021-06-15T19:09:43.649Z"
      },
      {
        "duration": 64,
        "start_time": "2021-06-15T19:09:43.652Z"
      },
      {
        "duration": 63,
        "start_time": "2021-06-15T19:09:43.655Z"
      },
      {
        "duration": 63,
        "start_time": "2021-06-15T19:09:43.657Z"
      },
      {
        "duration": 60,
        "start_time": "2021-06-15T19:09:43.662Z"
      },
      {
        "duration": 60,
        "start_time": "2021-06-15T19:09:43.664Z"
      },
      {
        "duration": 58,
        "start_time": "2021-06-15T19:09:43.669Z"
      },
      {
        "duration": 58,
        "start_time": "2021-06-15T19:09:43.671Z"
      },
      {
        "duration": 55,
        "start_time": "2021-06-15T19:09:43.676Z"
      },
      {
        "duration": 55,
        "start_time": "2021-06-15T19:09:43.678Z"
      },
      {
        "duration": 55,
        "start_time": "2021-06-15T19:09:43.680Z"
      },
      {
        "duration": 3,
        "start_time": "2021-06-15T19:09:43.734Z"
      },
      {
        "duration": 3,
        "start_time": "2021-06-15T19:09:43.736Z"
      },
      {
        "duration": 3,
        "start_time": "2021-06-15T19:09:43.738Z"
      },
      {
        "duration": 4,
        "start_time": "2021-06-15T19:09:43.739Z"
      },
      {
        "duration": -6,
        "start_time": "2021-06-15T19:09:43.751Z"
      },
      {
        "duration": -4,
        "start_time": "2021-06-15T19:09:43.752Z"
      },
      {
        "duration": -5,
        "start_time": "2021-06-15T19:09:43.754Z"
      },
      {
        "duration": -4,
        "start_time": "2021-06-15T19:09:43.755Z"
      },
      {
        "duration": 41,
        "start_time": "2021-06-15T19:09:43.760Z"
      },
      {
        "duration": 41,
        "start_time": "2021-06-15T19:09:43.762Z"
      },
      {
        "duration": 40,
        "start_time": "2021-06-15T19:09:43.764Z"
      },
      {
        "duration": 1439,
        "start_time": "2021-06-15T19:14:22.864Z"
      },
      {
        "duration": 35,
        "start_time": "2021-06-15T19:14:24.306Z"
      },
      {
        "duration": 11,
        "start_time": "2021-06-15T19:14:24.344Z"
      },
      {
        "duration": 9,
        "start_time": "2021-06-15T19:14:24.358Z"
      },
      {
        "duration": 4,
        "start_time": "2021-06-15T19:14:24.370Z"
      },
      {
        "duration": 35,
        "start_time": "2021-06-15T19:14:24.401Z"
      },
      {
        "duration": 2750,
        "start_time": "2021-06-15T19:14:24.439Z"
      },
      {
        "duration": 13,
        "start_time": "2021-06-15T19:14:27.192Z"
      },
      {
        "duration": 6,
        "start_time": "2021-06-15T19:14:27.209Z"
      },
      {
        "duration": 11,
        "start_time": "2021-06-15T19:14:27.218Z"
      },
      {
        "duration": 6,
        "start_time": "2021-06-15T19:14:27.231Z"
      },
      {
        "duration": 14,
        "start_time": "2021-06-15T19:14:27.240Z"
      },
      {
        "duration": 152,
        "start_time": "2021-06-15T19:14:27.256Z"
      },
      {
        "duration": 8,
        "start_time": "2021-06-15T19:14:27.503Z"
      },
      {
        "duration": 100,
        "start_time": "2021-06-15T19:14:27.514Z"
      },
      {
        "duration": 100,
        "start_time": "2021-06-15T19:14:27.703Z"
      },
      {
        "duration": 7,
        "start_time": "2021-06-15T19:14:27.806Z"
      },
      {
        "duration": 11,
        "start_time": "2021-06-15T19:14:27.815Z"
      },
      {
        "duration": 13,
        "start_time": "2021-06-15T19:14:27.828Z"
      },
      {
        "duration": 65,
        "start_time": "2021-06-15T19:14:27.844Z"
      },
      {
        "duration": 101,
        "start_time": "2021-06-15T19:14:27.912Z"
      },
      {
        "duration": 104,
        "start_time": "2021-06-15T19:14:28.016Z"
      },
      {
        "duration": 97,
        "start_time": "2021-06-15T19:14:28.207Z"
      },
      {
        "duration": 14,
        "start_time": "2021-06-15T19:14:28.307Z"
      },
      {
        "duration": 7,
        "start_time": "2021-06-15T19:14:28.323Z"
      },
      {
        "duration": 10,
        "start_time": "2021-06-15T19:14:28.332Z"
      },
      {
        "duration": 5,
        "start_time": "2021-06-15T19:14:28.344Z"
      },
      {
        "duration": 54,
        "start_time": "2021-06-15T19:14:28.351Z"
      },
      {
        "duration": 6,
        "start_time": "2021-06-15T19:14:28.408Z"
      },
      {
        "duration": 6,
        "start_time": "2021-06-15T19:14:28.417Z"
      },
      {
        "duration": 10,
        "start_time": "2021-06-15T19:14:28.426Z"
      },
      {
        "duration": 13,
        "start_time": "2021-06-15T19:14:28.439Z"
      },
      {
        "duration": 54,
        "start_time": "2021-06-15T19:14:28.455Z"
      },
      {
        "duration": 27,
        "start_time": "2021-06-15T19:14:28.512Z"
      },
      {
        "duration": 12,
        "start_time": "2021-06-15T19:14:28.602Z"
      },
      {
        "duration": 93,
        "start_time": "2021-06-15T19:14:28.617Z"
      },
      {
        "duration": 23,
        "start_time": "2021-06-15T19:14:28.712Z"
      },
      {
        "duration": 1426,
        "start_time": "2021-06-15T19:19:14.177Z"
      },
      {
        "duration": 33,
        "start_time": "2021-06-15T19:19:15.605Z"
      },
      {
        "duration": 11,
        "start_time": "2021-06-15T19:19:15.641Z"
      },
      {
        "duration": 11,
        "start_time": "2021-06-15T19:19:15.655Z"
      },
      {
        "duration": 5,
        "start_time": "2021-06-15T19:19:15.669Z"
      },
      {
        "duration": 57,
        "start_time": "2021-06-15T19:19:15.676Z"
      },
      {
        "duration": 2752,
        "start_time": "2021-06-15T19:19:15.736Z"
      },
      {
        "duration": 8,
        "start_time": "2021-06-15T19:19:18.500Z"
      },
      {
        "duration": 7,
        "start_time": "2021-06-15T19:19:18.511Z"
      },
      {
        "duration": 9,
        "start_time": "2021-06-15T19:19:18.520Z"
      },
      {
        "duration": 6,
        "start_time": "2021-06-15T19:19:18.532Z"
      },
      {
        "duration": 10,
        "start_time": "2021-06-15T19:19:18.541Z"
      },
      {
        "duration": 156,
        "start_time": "2021-06-15T19:19:18.553Z"
      },
      {
        "duration": 92,
        "start_time": "2021-06-15T19:19:18.712Z"
      },
      {
        "duration": 100,
        "start_time": "2021-06-15T19:19:18.808Z"
      },
      {
        "duration": 93,
        "start_time": "2021-06-15T19:19:18.912Z"
      },
      {
        "duration": 94,
        "start_time": "2021-06-15T19:19:19.009Z"
      },
      {
        "duration": 9,
        "start_time": "2021-06-15T19:19:19.105Z"
      },
      {
        "duration": 11,
        "start_time": "2021-06-15T19:19:19.117Z"
      },
      {
        "duration": 11,
        "start_time": "2021-06-15T19:19:19.131Z"
      },
      {
        "duration": 101,
        "start_time": "2021-06-15T19:19:19.202Z"
      },
      {
        "duration": 97,
        "start_time": "2021-06-15T19:19:19.306Z"
      },
      {
        "duration": 10,
        "start_time": "2021-06-15T19:19:19.502Z"
      },
      {
        "duration": 12,
        "start_time": "2021-06-15T19:19:19.515Z"
      },
      {
        "duration": 11,
        "start_time": "2021-06-15T19:19:19.530Z"
      },
      {
        "duration": 11,
        "start_time": "2021-06-15T19:19:19.543Z"
      },
      {
        "duration": 9,
        "start_time": "2021-06-15T19:19:19.556Z"
      },
      {
        "duration": 10,
        "start_time": "2021-06-15T19:19:19.567Z"
      },
      {
        "duration": 6,
        "start_time": "2021-06-15T19:19:19.580Z"
      },
      {
        "duration": 5,
        "start_time": "2021-06-15T19:19:19.589Z"
      },
      {
        "duration": 6,
        "start_time": "2021-06-15T19:19:19.601Z"
      },
      {
        "duration": 9,
        "start_time": "2021-06-15T19:19:19.609Z"
      },
      {
        "duration": 9,
        "start_time": "2021-06-15T19:19:19.621Z"
      },
      {
        "duration": 71,
        "start_time": "2021-06-15T19:19:19.632Z"
      },
      {
        "duration": 95,
        "start_time": "2021-06-15T19:19:19.706Z"
      },
      {
        "duration": 5,
        "start_time": "2021-06-15T19:19:19.803Z"
      },
      {
        "duration": 22,
        "start_time": "2021-06-15T19:19:19.811Z"
      },
      {
        "duration": 1520,
        "start_time": "2021-06-15T19:39:10.095Z"
      },
      {
        "duration": 33,
        "start_time": "2021-06-15T19:39:11.618Z"
      },
      {
        "duration": 11,
        "start_time": "2021-06-15T19:39:11.654Z"
      },
      {
        "duration": 12,
        "start_time": "2021-06-15T19:39:11.667Z"
      },
      {
        "duration": 19,
        "start_time": "2021-06-15T19:39:11.682Z"
      },
      {
        "duration": 36,
        "start_time": "2021-06-15T19:39:11.703Z"
      },
      {
        "duration": 2803,
        "start_time": "2021-06-15T19:39:11.741Z"
      },
      {
        "duration": 9,
        "start_time": "2021-06-15T19:39:14.548Z"
      },
      {
        "duration": 9,
        "start_time": "2021-06-15T19:39:14.560Z"
      },
      {
        "duration": 31,
        "start_time": "2021-06-15T19:39:14.571Z"
      },
      {
        "duration": 7,
        "start_time": "2021-06-15T19:39:14.605Z"
      },
      {
        "duration": 12,
        "start_time": "2021-06-15T19:39:14.614Z"
      },
      {
        "duration": 179,
        "start_time": "2021-06-15T19:39:14.629Z"
      },
      {
        "duration": 7,
        "start_time": "2021-06-15T19:39:14.900Z"
      },
      {
        "duration": 97,
        "start_time": "2021-06-15T19:39:14.910Z"
      },
      {
        "duration": 100,
        "start_time": "2021-06-15T19:39:15.010Z"
      },
      {
        "duration": 11,
        "start_time": "2021-06-15T19:39:15.202Z"
      },
      {
        "duration": 14,
        "start_time": "2021-06-15T19:39:15.215Z"
      },
      {
        "duration": 15,
        "start_time": "2021-06-15T19:39:15.231Z"
      },
      {
        "duration": 12,
        "start_time": "2021-06-15T19:39:15.249Z"
      },
      {
        "duration": 151,
        "start_time": "2021-06-15T19:39:15.263Z"
      },
      {
        "duration": 92,
        "start_time": "2021-06-15T19:39:15.418Z"
      },
      {
        "duration": 185,
        "start_time": "2021-06-15T19:39:15.517Z"
      },
      {
        "duration": 13,
        "start_time": "2021-06-15T19:39:15.706Z"
      },
      {
        "duration": 11,
        "start_time": "2021-06-15T19:39:15.721Z"
      },
      {
        "duration": 10,
        "start_time": "2021-06-15T19:39:15.734Z"
      },
      {
        "duration": 8,
        "start_time": "2021-06-15T19:39:15.746Z"
      },
      {
        "duration": 51,
        "start_time": "2021-06-15T19:39:15.756Z"
      },
      {
        "duration": 7,
        "start_time": "2021-06-15T19:39:15.809Z"
      },
      {
        "duration": 8,
        "start_time": "2021-06-15T19:39:15.819Z"
      },
      {
        "duration": 7,
        "start_time": "2021-06-15T19:39:15.829Z"
      },
      {
        "duration": 9,
        "start_time": "2021-06-15T19:39:15.839Z"
      },
      {
        "duration": 11,
        "start_time": "2021-06-15T19:39:15.901Z"
      },
      {
        "duration": 14,
        "start_time": "2021-06-15T19:39:15.915Z"
      },
      {
        "duration": 78,
        "start_time": "2021-06-15T19:39:15.932Z"
      },
      {
        "duration": 90,
        "start_time": "2021-06-15T19:39:16.014Z"
      },
      {
        "duration": 23,
        "start_time": "2021-06-15T19:39:16.107Z"
      },
      {
        "duration": 1445,
        "start_time": "2021-06-15T21:02:45.393Z"
      },
      {
        "duration": 34,
        "start_time": "2021-06-15T21:02:46.841Z"
      },
      {
        "duration": 12,
        "start_time": "2021-06-15T21:02:46.878Z"
      },
      {
        "duration": 17,
        "start_time": "2021-06-15T21:02:46.900Z"
      },
      {
        "duration": 13,
        "start_time": "2021-06-15T21:02:46.920Z"
      },
      {
        "duration": 41,
        "start_time": "2021-06-15T21:02:46.935Z"
      },
      {
        "duration": 2744,
        "start_time": "2021-06-15T21:02:46.978Z"
      },
      {
        "duration": 8,
        "start_time": "2021-06-15T21:02:49.725Z"
      },
      {
        "duration": 7,
        "start_time": "2021-06-15T21:02:49.736Z"
      },
      {
        "duration": 8,
        "start_time": "2021-06-15T21:02:49.745Z"
      },
      {
        "duration": 5,
        "start_time": "2021-06-15T21:02:49.755Z"
      },
      {
        "duration": 42,
        "start_time": "2021-06-15T21:02:49.762Z"
      },
      {
        "duration": 195,
        "start_time": "2021-06-15T21:02:49.806Z"
      },
      {
        "duration": 6,
        "start_time": "2021-06-15T21:02:50.004Z"
      },
      {
        "duration": 103,
        "start_time": "2021-06-15T21:02:50.012Z"
      },
      {
        "duration": 103,
        "start_time": "2021-06-15T21:02:50.203Z"
      },
      {
        "duration": 7,
        "start_time": "2021-06-15T21:02:50.308Z"
      },
      {
        "duration": 15,
        "start_time": "2021-06-15T21:02:50.318Z"
      },
      {
        "duration": 18,
        "start_time": "2021-06-15T21:02:50.335Z"
      },
      {
        "duration": 46,
        "start_time": "2021-06-15T21:02:50.356Z"
      },
      {
        "duration": 109,
        "start_time": "2021-06-15T21:02:50.404Z"
      },
      {
        "duration": 94,
        "start_time": "2021-06-15T21:02:50.516Z"
      },
      {
        "duration": 99,
        "start_time": "2021-06-15T21:02:50.706Z"
      },
      {
        "duration": 17,
        "start_time": "2021-06-15T21:02:50.809Z"
      },
      {
        "duration": 9,
        "start_time": "2021-06-15T21:02:50.829Z"
      },
      {
        "duration": 10,
        "start_time": "2021-06-15T21:02:50.840Z"
      },
      {
        "duration": 52,
        "start_time": "2021-06-15T21:02:50.853Z"
      },
      {
        "duration": 13,
        "start_time": "2021-06-15T21:02:50.908Z"
      },
      {
        "duration": 8,
        "start_time": "2021-06-15T21:02:50.924Z"
      },
      {
        "duration": 12,
        "start_time": "2021-06-15T21:02:50.934Z"
      },
      {
        "duration": 9,
        "start_time": "2021-06-15T21:02:50.948Z"
      },
      {
        "duration": 48,
        "start_time": "2021-06-15T21:02:50.959Z"
      },
      {
        "duration": 11,
        "start_time": "2021-06-15T21:02:51.009Z"
      },
      {
        "duration": 15,
        "start_time": "2021-06-15T21:02:51.022Z"
      },
      {
        "duration": 12,
        "start_time": "2021-06-15T21:02:51.101Z"
      },
      {
        "duration": 85,
        "start_time": "2021-06-15T21:02:51.116Z"
      },
      {
        "duration": 20,
        "start_time": "2021-06-15T21:02:51.204Z"
      }
    ],
    "kernelspec": {
      "display_name": "Python 3",
      "language": "python",
      "name": "python3"
    },
    "language_info": {
      "codemirror_mode": {
        "name": "ipython",
        "version": 3
      },
      "file_extension": ".py",
      "mimetype": "text/x-python",
      "name": "python",
      "nbconvert_exporter": "python",
      "pygments_lexer": "ipython3",
      "version": "3.7.8"
    },
    "toc": {
      "base_numbering": 1,
      "nav_menu": {},
      "number_sections": true,
      "sideBar": true,
      "skip_h1_title": true,
      "title_cell": "Содержание",
      "title_sidebar": "Contents",
      "toc_cell": true,
      "toc_position": {
        "height": "calc(100% - 180px)",
        "left": "10px",
        "top": "150px",
        "width": "270.391px"
      },
      "toc_section_display": true,
      "toc_window_display": false
    },
    "colab": {
      "name": "personal_data_protection.ipynb",
      "provenance": [],
      "collapsed_sections": []
    }
  },
  "cells": [
    {
      "cell_type": "markdown",
      "metadata": {
        "toc": true,
        "id": "qOOkTmsBsTr3"
      },
      "source": [
        "<h1>Содержание<span class=\"tocSkip\"></span></h1>\n",
        "<div class=\"toc\"><ul class=\"toc-item\"><li><span><a href=\"#Загрузка-данных-и-первичный-осмотр\" data-toc-modified-id=\"Загрузка-данных-и-первичный-осмотр-1\"><span class=\"toc-item-num\">1&nbsp;&nbsp;</span>Загрузка данных и первичный осмотр</a></span><ul class=\"toc-item\"><li><span><a href=\"#Импорт-необходимых-библиотек\" data-toc-modified-id=\"Импорт-необходимых-библиотек-1.1\"><span class=\"toc-item-num\">1.1&nbsp;&nbsp;</span>Импорт необходимых библиотек</a></span></li><li><span><a href=\"#Загрузка-данных.-Осмотр-и-обработка.-Первичный-анализ\" data-toc-modified-id=\"Загрузка-данных.-Осмотр-и-обработка.-Первичный-анализ-1.2\"><span class=\"toc-item-num\">1.2&nbsp;&nbsp;</span>Загрузка данных. Осмотр и обработка. Первичный анализ</a></span></li><li><span><a href=\"#Вывод\" data-toc-modified-id=\"Вывод-1.3\"><span class=\"toc-item-num\">1.3&nbsp;&nbsp;</span>Вывод</a></span></li></ul></li><li><span><a href=\"#Умножение-матриц\" data-toc-modified-id=\"Умножение-матриц-2\"><span class=\"toc-item-num\">2&nbsp;&nbsp;</span>Умножение матриц</a></span><ul class=\"toc-item\"><li><span><a href=\"#Проверка-предположения-о-влиянии-преобразования-на-качество-модели\" data-toc-modified-id=\"Проверка-предположения-о-влиянии-преобразования-на-качество-модели-2.1\"><span class=\"toc-item-num\">2.1&nbsp;&nbsp;</span>Проверка предположения о влиянии преобразования на качество модели</a></span></li><li><span><a href=\"#Вывод\" data-toc-modified-id=\"Вывод-2.2\"><span class=\"toc-item-num\">2.2&nbsp;&nbsp;</span>Вывод</a></span></li></ul></li><li><span><a href=\"#Алгоритм-преобразования\" data-toc-modified-id=\"Алгоритм-преобразования-3\"><span class=\"toc-item-num\">3&nbsp;&nbsp;</span>Алгоритм преобразования</a></span><ul class=\"toc-item\"><li><span><a href=\"#Вывод\" data-toc-modified-id=\"Вывод-3.1\"><span class=\"toc-item-num\">3.1&nbsp;&nbsp;</span>Вывод</a></span></li></ul></li><li><span><a href=\"#Проверка-алгоритма\" data-toc-modified-id=\"Проверка-алгоритма-4\"><span class=\"toc-item-num\">4&nbsp;&nbsp;</span>Проверка алгоритма</a></span><ul class=\"toc-item\"><li><span><a href=\"#Деление-выборки-на-признаки-для-обучения-и-целевой-признак\" data-toc-modified-id=\"Деление-выборки-на-признаки-для-обучения-и-целевой-признак-4.1\"><span class=\"toc-item-num\">4.1&nbsp;&nbsp;</span>Деление выборки на признаки для обучения и целевой признак</a></span></li><li><span><a href=\"#Доработка-алгоритма\" data-toc-modified-id=\"Доработка-алгоритма-4.2\"><span class=\"toc-item-num\">4.2&nbsp;&nbsp;</span>Доработка алгоритма</a></span></li><li><span><a href=\"#Проверка-работы-модели-на-тестовой-выборке.\" data-toc-modified-id=\"Проверка-работы-модели-на-тестовой-выборке.-4.3\"><span class=\"toc-item-num\">4.3&nbsp;&nbsp;</span>Проверка работы модели на тестовой выборке.</a></span><ul class=\"toc-item\"><li><span><a href=\"#Преобразованная-выборка\" data-toc-modified-id=\"Преобразованная-выборка-4.3.1\"><span class=\"toc-item-num\">4.3.1&nbsp;&nbsp;</span>Преобразованная выборка</a></span></li><li><span><a href=\"#Начальная-выборка-(без-преобразования)\" data-toc-modified-id=\"Начальная-выборка-(без-преобразования)-4.3.2\"><span class=\"toc-item-num\">4.3.2&nbsp;&nbsp;</span>Начальная выборка (без преобразования)</a></span></li></ul></li></ul></li><li><span><a href=\"#Вывод\" data-toc-modified-id=\"Вывод-5\"><span class=\"toc-item-num\">5&nbsp;&nbsp;</span>Вывод</a></span></li><li><span><a href=\"#Чек-лист-проверки\" data-toc-modified-id=\"Чек-лист-проверки-6\"><span class=\"toc-item-num\">6&nbsp;&nbsp;</span>Чек-лист проверки</a></span></li></ul></div>"
      ]
    },
    {
      "cell_type": "markdown",
      "metadata": {
        "id": "64FTK8CIsTr4"
      },
      "source": [
        "<footer id=\"footer\"></footer>"
      ]
    },
    {
      "cell_type": "markdown",
      "metadata": {
        "id": "oJkSPfJOsTr5"
      },
      "source": [
        "# Защита персональных данных клиентов"
      ]
    },
    {
      "cell_type": "markdown",
      "metadata": {
        "id": "nuh3v_rOsTr5"
      },
      "source": [
        "![](https://i.ibb.co/5259qQF/bitva-za-personalnye-dannye-1.jpg)"
      ]
    },
    {
      "cell_type": "markdown",
      "metadata": {
        "id": "79_-R0G_sTr5"
      },
      "source": [
        "Нам необходимо защитить данные клиентов страховой компании «Хоть потоп».   \n",
        "\n",
        "Перед нами поставлена задача по разработке такого метод преобразования данных, чтобы по ним было сложно восстановить персональную информацию. \n",
        "\n",
        "Необходимо защитить данные, чтобы при преобразовании качество моделей машинного обучения не ухудшилось. Подбирать наилучшую модель не требуется."
      ]
    },
    {
      "cell_type": "markdown",
      "metadata": {
        "id": "fIdKkJrcsTr6"
      },
      "source": [
        "<a href=\"#footer\">К содержанию</a>\n",
        "\n",
        "<footer id=\"footer\"></footer>"
      ]
    },
    {
      "cell_type": "markdown",
      "metadata": {
        "id": "plEX_THesTr6"
      },
      "source": [
        "## Загрузка данных и первичный осмотр"
      ]
    },
    {
      "cell_type": "markdown",
      "metadata": {
        "id": "j3dCEIqdsTr6"
      },
      "source": [
        "### Импорт необходимых библиотек"
      ]
    },
    {
      "cell_type": "code",
      "metadata": {
        "id": "NZZRnWMxsTr6"
      },
      "source": [
        "import warnings\n",
        "warnings.filterwarnings(\"ignore\")\n",
        "import pandas as pd\n",
        "import numpy as np\n",
        "%matplotlib inline\n",
        "import matplotlib.pyplot as plt\n",
        "import seaborn as sns\n",
        "sns.set_style(\"darkgrid\")\n",
        "from sklearn.linear_model import LinearRegression\n",
        "from sklearn.model_selection import train_test_split\n",
        "from sklearn.metrics import r2_score\n",
        "np.random.seed(42)"
      ],
      "execution_count": 1,
      "outputs": []
    },
    {
      "cell_type": "markdown",
      "metadata": {
        "id": "87YH74JhsTr7"
      },
      "source": [
        "<a href=\"#footer\">К содержанию</a>\n",
        "\n",
        "<footer id=\"footer\"></footer>"
      ]
    },
    {
      "cell_type": "markdown",
      "metadata": {
        "id": "9X13-hyUsTr7"
      },
      "source": [
        "### Загрузка данных. Осмотр и обработка. Первичный анализ"
      ]
    },
    {
      "cell_type": "code",
      "metadata": {
        "colab": {
          "base_uri": "https://localhost:8080/"
        },
        "id": "e4TRA8WJsiXX",
        "outputId": "e0cf4f9f-c3d0-475a-b7ff-8de265bdbd2d"
      },
      "source": [
        "!gdown --id 1TLEqzG8u14rdVmdeM6CHYiSbyz8TK6s3"
      ],
      "execution_count": 2,
      "outputs": [
        {
          "output_type": "stream",
          "text": [
            "Downloading...\n",
            "From: https://drive.google.com/uc?id=1TLEqzG8u14rdVmdeM6CHYiSbyz8TK6s3\n",
            "To: /content/insurance.csv\n",
            "\r  0% 0.00/95.7k [00:00<?, ?B/s]\r100% 95.7k/95.7k [00:00<00:00, 839kB/s]\n"
          ],
          "name": "stdout"
        }
      ]
    },
    {
      "cell_type": "code",
      "metadata": {
        "colab": {
          "base_uri": "https://localhost:8080/",
          "height": 204
        },
        "id": "VtHkUqHXsTr8",
        "outputId": "0d996789-2fef-4fbc-f7d8-5979381b8714"
      },
      "source": [
        "df = pd.read_csv('/content/insurance.csv')\n",
        "df.head()"
      ],
      "execution_count": 3,
      "outputs": [
        {
          "output_type": "execute_result",
          "data": {
            "text/html": [
              "<div>\n",
              "<style scoped>\n",
              "    .dataframe tbody tr th:only-of-type {\n",
              "        vertical-align: middle;\n",
              "    }\n",
              "\n",
              "    .dataframe tbody tr th {\n",
              "        vertical-align: top;\n",
              "    }\n",
              "\n",
              "    .dataframe thead th {\n",
              "        text-align: right;\n",
              "    }\n",
              "</style>\n",
              "<table border=\"1\" class=\"dataframe\">\n",
              "  <thead>\n",
              "    <tr style=\"text-align: right;\">\n",
              "      <th></th>\n",
              "      <th>Пол</th>\n",
              "      <th>Возраст</th>\n",
              "      <th>Зарплата</th>\n",
              "      <th>Члены семьи</th>\n",
              "      <th>Страховые выплаты</th>\n",
              "    </tr>\n",
              "  </thead>\n",
              "  <tbody>\n",
              "    <tr>\n",
              "      <th>0</th>\n",
              "      <td>1</td>\n",
              "      <td>41.0</td>\n",
              "      <td>49600.0</td>\n",
              "      <td>1</td>\n",
              "      <td>0</td>\n",
              "    </tr>\n",
              "    <tr>\n",
              "      <th>1</th>\n",
              "      <td>0</td>\n",
              "      <td>46.0</td>\n",
              "      <td>38000.0</td>\n",
              "      <td>1</td>\n",
              "      <td>1</td>\n",
              "    </tr>\n",
              "    <tr>\n",
              "      <th>2</th>\n",
              "      <td>0</td>\n",
              "      <td>29.0</td>\n",
              "      <td>21000.0</td>\n",
              "      <td>0</td>\n",
              "      <td>0</td>\n",
              "    </tr>\n",
              "    <tr>\n",
              "      <th>3</th>\n",
              "      <td>0</td>\n",
              "      <td>21.0</td>\n",
              "      <td>41700.0</td>\n",
              "      <td>2</td>\n",
              "      <td>0</td>\n",
              "    </tr>\n",
              "    <tr>\n",
              "      <th>4</th>\n",
              "      <td>1</td>\n",
              "      <td>28.0</td>\n",
              "      <td>26100.0</td>\n",
              "      <td>0</td>\n",
              "      <td>0</td>\n",
              "    </tr>\n",
              "  </tbody>\n",
              "</table>\n",
              "</div>"
            ],
            "text/plain": [
              "   Пол  Возраст  Зарплата  Члены семьи  Страховые выплаты\n",
              "0    1     41.0   49600.0            1                  0\n",
              "1    0     46.0   38000.0            1                  1\n",
              "2    0     29.0   21000.0            0                  0\n",
              "3    0     21.0   41700.0            2                  0\n",
              "4    1     28.0   26100.0            0                  0"
            ]
          },
          "metadata": {
            "tags": []
          },
          "execution_count": 3
        }
      ]
    },
    {
      "cell_type": "markdown",
      "metadata": {
        "id": "Ue8eXMvesTr8"
      },
      "source": [
        "Переименуем названия признаков для нашего удобства"
      ]
    },
    {
      "cell_type": "code",
      "metadata": {
        "colab": {
          "base_uri": "https://localhost:8080/",
          "height": 204
        },
        "id": "37xsH4zHsTr8",
        "outputId": "89f28bd1-9a73-43a7-cf07-6e2b6e6d75c1"
      },
      "source": [
        "df.columns = ['gender', 'age', 'salary', 'family', 'ins_pay']\n",
        "df.head()"
      ],
      "execution_count": 4,
      "outputs": [
        {
          "output_type": "execute_result",
          "data": {
            "text/html": [
              "<div>\n",
              "<style scoped>\n",
              "    .dataframe tbody tr th:only-of-type {\n",
              "        vertical-align: middle;\n",
              "    }\n",
              "\n",
              "    .dataframe tbody tr th {\n",
              "        vertical-align: top;\n",
              "    }\n",
              "\n",
              "    .dataframe thead th {\n",
              "        text-align: right;\n",
              "    }\n",
              "</style>\n",
              "<table border=\"1\" class=\"dataframe\">\n",
              "  <thead>\n",
              "    <tr style=\"text-align: right;\">\n",
              "      <th></th>\n",
              "      <th>gender</th>\n",
              "      <th>age</th>\n",
              "      <th>salary</th>\n",
              "      <th>family</th>\n",
              "      <th>ins_pay</th>\n",
              "    </tr>\n",
              "  </thead>\n",
              "  <tbody>\n",
              "    <tr>\n",
              "      <th>0</th>\n",
              "      <td>1</td>\n",
              "      <td>41.0</td>\n",
              "      <td>49600.0</td>\n",
              "      <td>1</td>\n",
              "      <td>0</td>\n",
              "    </tr>\n",
              "    <tr>\n",
              "      <th>1</th>\n",
              "      <td>0</td>\n",
              "      <td>46.0</td>\n",
              "      <td>38000.0</td>\n",
              "      <td>1</td>\n",
              "      <td>1</td>\n",
              "    </tr>\n",
              "    <tr>\n",
              "      <th>2</th>\n",
              "      <td>0</td>\n",
              "      <td>29.0</td>\n",
              "      <td>21000.0</td>\n",
              "      <td>0</td>\n",
              "      <td>0</td>\n",
              "    </tr>\n",
              "    <tr>\n",
              "      <th>3</th>\n",
              "      <td>0</td>\n",
              "      <td>21.0</td>\n",
              "      <td>41700.0</td>\n",
              "      <td>2</td>\n",
              "      <td>0</td>\n",
              "    </tr>\n",
              "    <tr>\n",
              "      <th>4</th>\n",
              "      <td>1</td>\n",
              "      <td>28.0</td>\n",
              "      <td>26100.0</td>\n",
              "      <td>0</td>\n",
              "      <td>0</td>\n",
              "    </tr>\n",
              "  </tbody>\n",
              "</table>\n",
              "</div>"
            ],
            "text/plain": [
              "   gender   age   salary  family  ins_pay\n",
              "0       1  41.0  49600.0       1        0\n",
              "1       0  46.0  38000.0       1        1\n",
              "2       0  29.0  21000.0       0        0\n",
              "3       0  21.0  41700.0       2        0\n",
              "4       1  28.0  26100.0       0        0"
            ]
          },
          "metadata": {
            "tags": []
          },
          "execution_count": 4
        }
      ]
    },
    {
      "cell_type": "code",
      "metadata": {
        "colab": {
          "base_uri": "https://localhost:8080/"
        },
        "id": "O8TED8uXsTr9",
        "outputId": "c0451709-a9d5-4da0-db52-0a7327b89cf9"
      },
      "source": [
        "df.info()"
      ],
      "execution_count": 5,
      "outputs": [
        {
          "output_type": "stream",
          "text": [
            "<class 'pandas.core.frame.DataFrame'>\n",
            "RangeIndex: 5000 entries, 0 to 4999\n",
            "Data columns (total 5 columns):\n",
            " #   Column   Non-Null Count  Dtype  \n",
            "---  ------   --------------  -----  \n",
            " 0   gender   5000 non-null   int64  \n",
            " 1   age      5000 non-null   float64\n",
            " 2   salary   5000 non-null   float64\n",
            " 3   family   5000 non-null   int64  \n",
            " 4   ins_pay  5000 non-null   int64  \n",
            "dtypes: float64(2), int64(3)\n",
            "memory usage: 195.4 KB\n"
          ],
          "name": "stdout"
        }
      ]
    },
    {
      "cell_type": "code",
      "metadata": {
        "id": "3yn8w_YmsTr9"
      },
      "source": [
        "df['age'] = df['age'].astype('int64')"
      ],
      "execution_count": 6,
      "outputs": []
    },
    {
      "cell_type": "code",
      "metadata": {
        "colab": {
          "base_uri": "https://localhost:8080/",
          "height": 204
        },
        "id": "HCqRkZ-csTr9",
        "outputId": "a006cb5b-b648-4699-ff95-8abad6a1b8bf"
      },
      "source": [
        "df.describe().T"
      ],
      "execution_count": 7,
      "outputs": [
        {
          "output_type": "execute_result",
          "data": {
            "text/html": [
              "<div>\n",
              "<style scoped>\n",
              "    .dataframe tbody tr th:only-of-type {\n",
              "        vertical-align: middle;\n",
              "    }\n",
              "\n",
              "    .dataframe tbody tr th {\n",
              "        vertical-align: top;\n",
              "    }\n",
              "\n",
              "    .dataframe thead th {\n",
              "        text-align: right;\n",
              "    }\n",
              "</style>\n",
              "<table border=\"1\" class=\"dataframe\">\n",
              "  <thead>\n",
              "    <tr style=\"text-align: right;\">\n",
              "      <th></th>\n",
              "      <th>count</th>\n",
              "      <th>mean</th>\n",
              "      <th>std</th>\n",
              "      <th>min</th>\n",
              "      <th>25%</th>\n",
              "      <th>50%</th>\n",
              "      <th>75%</th>\n",
              "      <th>max</th>\n",
              "    </tr>\n",
              "  </thead>\n",
              "  <tbody>\n",
              "    <tr>\n",
              "      <th>gender</th>\n",
              "      <td>5000.0</td>\n",
              "      <td>0.4990</td>\n",
              "      <td>0.500049</td>\n",
              "      <td>0.0</td>\n",
              "      <td>0.0</td>\n",
              "      <td>0.0</td>\n",
              "      <td>1.0</td>\n",
              "      <td>1.0</td>\n",
              "    </tr>\n",
              "    <tr>\n",
              "      <th>age</th>\n",
              "      <td>5000.0</td>\n",
              "      <td>30.9528</td>\n",
              "      <td>8.440807</td>\n",
              "      <td>18.0</td>\n",
              "      <td>24.0</td>\n",
              "      <td>30.0</td>\n",
              "      <td>37.0</td>\n",
              "      <td>65.0</td>\n",
              "    </tr>\n",
              "    <tr>\n",
              "      <th>salary</th>\n",
              "      <td>5000.0</td>\n",
              "      <td>39916.3600</td>\n",
              "      <td>9900.083569</td>\n",
              "      <td>5300.0</td>\n",
              "      <td>33300.0</td>\n",
              "      <td>40200.0</td>\n",
              "      <td>46600.0</td>\n",
              "      <td>79000.0</td>\n",
              "    </tr>\n",
              "    <tr>\n",
              "      <th>family</th>\n",
              "      <td>5000.0</td>\n",
              "      <td>1.1942</td>\n",
              "      <td>1.091387</td>\n",
              "      <td>0.0</td>\n",
              "      <td>0.0</td>\n",
              "      <td>1.0</td>\n",
              "      <td>2.0</td>\n",
              "      <td>6.0</td>\n",
              "    </tr>\n",
              "    <tr>\n",
              "      <th>ins_pay</th>\n",
              "      <td>5000.0</td>\n",
              "      <td>0.1480</td>\n",
              "      <td>0.463183</td>\n",
              "      <td>0.0</td>\n",
              "      <td>0.0</td>\n",
              "      <td>0.0</td>\n",
              "      <td>0.0</td>\n",
              "      <td>5.0</td>\n",
              "    </tr>\n",
              "  </tbody>\n",
              "</table>\n",
              "</div>"
            ],
            "text/plain": [
              "          count        mean          std  ...      50%      75%      max\n",
              "gender   5000.0      0.4990     0.500049  ...      0.0      1.0      1.0\n",
              "age      5000.0     30.9528     8.440807  ...     30.0     37.0     65.0\n",
              "salary   5000.0  39916.3600  9900.083569  ...  40200.0  46600.0  79000.0\n",
              "family   5000.0      1.1942     1.091387  ...      1.0      2.0      6.0\n",
              "ins_pay  5000.0      0.1480     0.463183  ...      0.0      0.0      5.0\n",
              "\n",
              "[5 rows x 8 columns]"
            ]
          },
          "metadata": {
            "tags": []
          },
          "execution_count": 7
        }
      ]
    },
    {
      "cell_type": "code",
      "metadata": {
        "colab": {
          "base_uri": "https://localhost:8080/",
          "height": 879
        },
        "id": "go3_5wAUsTr9",
        "outputId": "5cdbe110-1c6f-4fea-c677-9196e38d0f82"
      },
      "source": [
        "df.hist(bins=50, figsize=(20,15), edgecolor='black', linewidth=2)\n",
        "plt.show()"
      ],
      "execution_count": 8,
      "outputs": [
        {
          "output_type": "display_data",
          "data": {
            "image/png": "[encoded data removed]",
            "text/plain": [
              "<Figure size 1440x1080 with 6 Axes>"
            ]
          },
          "metadata": {
            "tags": [],
            "needs_background": "light"
          }
        }
      ]
    },
    {
      "cell_type": "markdown",
      "metadata": {
        "id": "5NpwRRg6sTr9"
      },
      "source": [
        "Сет данных содержит 5 признаков, пропусков не наблюдается, типы данных соответствуют ожидаемым. `age` заменили на int64 целочисленный\n",
        "\n",
        "\n",
        "**Признаки для обучения модели и работы**: пол (`gender`), возраст (`age`) и зарплата застрахованного (`salary`), количество членов его семьи (`family`)  \n",
        "\n",
        "**Целевой признак**: количество страховых выплат клиенту за последние 5 лет.  (`ins_pay`)\n",
        "\n",
        "Проверим наличие дубликатов"
      ]
    },
    {
      "cell_type": "code",
      "metadata": {
        "colab": {
          "base_uri": "https://localhost:8080/"
        },
        "id": "b1pr5s25sTr-",
        "outputId": "caa5c67a-4c16-4dbb-fe85-11ebdd317c6c"
      },
      "source": [
        "df.duplicated().sum()"
      ],
      "execution_count": 9,
      "outputs": [
        {
          "output_type": "execute_result",
          "data": {
            "text/plain": [
              "153"
            ]
          },
          "metadata": {
            "tags": []
          },
          "execution_count": 9
        }
      ]
    },
    {
      "cell_type": "markdown",
      "metadata": {
        "id": "-3K70PAgsTr-"
      },
      "source": [
        "Выявлены 153 идентичных объекта. Возможно это связано с ошибкой записи и это разные объекты, так как нам предоставлены данные по выплатам за последние 5 лет, но в данном случае удалим их объектов для более точных результатов, так как среди целевого признака встречаются значения от 0 до 5 - будем считать объекты дубликатами"
      ]
    },
    {
      "cell_type": "code",
      "metadata": {
        "id": "_gKB2kNDsTr-"
      },
      "source": [
        "df.drop_duplicates(inplace=True)"
      ],
      "execution_count": 10,
      "outputs": []
    },
    {
      "cell_type": "code",
      "metadata": {
        "colab": {
          "base_uri": "https://localhost:8080/"
        },
        "id": "C59CQTZasTr-",
        "outputId": "a291b1ae-756c-4903-d814-77ae58915ee1"
      },
      "source": [
        "df.duplicated().sum()"
      ],
      "execution_count": 11,
      "outputs": [
        {
          "output_type": "execute_result",
          "data": {
            "text/plain": [
              "0"
            ]
          },
          "metadata": {
            "tags": []
          },
          "execution_count": 11
        }
      ]
    },
    {
      "cell_type": "markdown",
      "metadata": {
        "id": "5R_hYrQ0sTr-"
      },
      "source": [
        "### Вывод"
      ]
    },
    {
      "cell_type": "markdown",
      "metadata": {
        "id": "kgp-Uw6isTr-"
      },
      "source": [
        "Перед нами сет данных, содержащий информацию о поле, возрасте, зарплате застрахованного лица, количестве членов семьи и количестве страховых выплат за последние 5 лет.  \n",
        "\n",
        "Целевым признаком является количество выплат. Перед нами стоит задача регрессии, для изучения возьмем классическую линейную регрессию - перед нами не стоит цели построить лучшую модель МО. Для данной цели можно было бы применять ансамбль моделей на базе линейной регрессии, эластичной сети и SVR по методу hard-голосования\n",
        "\n",
        "В данных были обнаружены 153 дубликата объектов - принято решения удалить их из исследования. Типы данных изменили для признака `age` на целочисленный, пропусков не обнаружено."
      ]
    },
    {
      "cell_type": "markdown",
      "metadata": {
        "id": "-qg0RSL7sTr_"
      },
      "source": [
        "<a href=\"#footer\">К содержанию</a>\n",
        "\n",
        "<footer id=\"footer\"></footer>"
      ]
    },
    {
      "cell_type": "markdown",
      "metadata": {
        "id": "QKkBfGjosTr_"
      },
      "source": [
        "## Умножение матриц"
      ]
    },
    {
      "cell_type": "markdown",
      "metadata": {
        "id": "8kdm7jaasTsA"
      },
      "source": [
        "### Проверка предположения о влиянии преобразования на качество модели"
      ]
    },
    {
      "cell_type": "markdown",
      "metadata": {
        "id": "hSAaYGbbsTsA"
      },
      "source": [
        "Признаки умножают на обратимую матрицу. Необходимо проверить, изменится ли качество линейной регрессии и показать, как \n",
        "связаны параметры линейной регрессии в исходной задаче и в преобразованной"
      ]
    },
    {
      "cell_type": "markdown",
      "metadata": {
        "id": "JJcYwLSHsTsA"
      },
      "source": [
        "Обозначения:\n",
        "\n",
        "- $X$ — матрица признаков (нулевой столбец состоит из единиц)\n",
        "\n",
        "- $y$ — вектор целевого признака\n",
        "\n",
        "- $P$ — матрица, на которую умножаются признаки\n",
        "\n",
        "- $w$ — вектор весов линейной регрессии (нулевой элемент равен сдвигу)"
      ]
    },
    {
      "cell_type": "markdown",
      "metadata": {
        "id": "GqlCEK9OsTsA"
      },
      "source": [
        "Предсказания:\n",
        "\n",
        "$$\n",
        "a = Xw\n",
        "$$\n",
        "\n",
        "Задача обучения:\n",
        "\n",
        "$$\n",
        "w = \\arg\\min_w MSE(Xw, y)\n",
        "$$\n",
        "\n",
        "Формула обучения:\n",
        "\n",
        "$$\n",
        "w = (X^T X)^{-1} X^T y\n",
        "$$"
      ]
    },
    {
      "cell_type": "markdown",
      "metadata": {
        "id": "tCYDCXVhsTsA"
      },
      "source": [
        "Нам необходимо доказать что предсказания $a_1 = a_2$, где $a_1$ - предсказания до преобразования, $a_2$ - предсказания после преобразования  \n",
        "\n",
        "Добавим обозначения:  \n",
        "\n",
        "- $w_1$ — вектор весов линейной регрессии для $a_1$\n",
        "- $w_2$ — вектор весов линейной регрессии для $a_2$\n",
        "\n",
        "Условие:\n",
        "\n",
        "$$\n",
        "Xw_1 = PXw_2\n",
        "$$\n",
        "\n",
        "\n",
        "должно быть истинным\n",
        "\n",
        "\n",
        "Используем формулу обучения:\n",
        "\n",
        "$$\n",
        "w = (X^T X)^{-1} X^T y\n",
        "$$\n",
        "\n",
        "\n",
        "для $w_1$:\n",
        "\n",
        "$w_1 = (X^T X)^{-1} X^T y_1$  \n",
        "$w_2 = ((PX)^T (PX))^{-1} PX^T y_2$\n",
        "\n",
        "\n",
        "В итоге, требуемое к доказательство равенство имеет вид:  \n",
        "$$\n",
        "X(X^T X)^{-1} X^T y_1 = PX((PX)^T (PX))^{-1} PX^T y_2\n",
        "$$\n",
        "\n",
        "\n",
        "Обратная для квадратной матрицы A (англ. inverse matrix) — матрица A с верхним индексом -1, произведение которой на А равно единичной матрице.\n",
        "$$\n",
        "AA^{-1} = A^{-1}A = E\n",
        "$$\n",
        "Таким образом, если матрицы обратные, мы можем сделать следующие преобразования:\n",
        "\n",
        "$$\n",
        "XX^{-1}(X^T)^{-1}X^Ty_1 = PX(PX)^{-1}PX^T ((PX)^T)^{-1}y_2\n",
        "$$\n",
        "\n",
        "получим: \n",
        "\n",
        "\n",
        "$$\n",
        "EEy_1 = EEy_2\n",
        "$$\n",
        "$$\n",
        "y_1 = y_2\n",
        "$$\n",
        "\n",
        "\n",
        "\n",
        "таким образом, математически доказали равенство векторов целевых признаков. "
      ]
    },
    {
      "cell_type": "markdown",
      "metadata": {
        "id": "BwAUWFGHsTsB"
      },
      "source": [
        "Рассмотрим подробнее формулу обучения для вектора весов линейной регрессии в случае преобразования (умножения на случайную матрицу) и выведем, как связаны $w'$ и $w$, как связаны $a'$ и $a$\n",
        "\n",
        "Представим новую матрицу $X'$ как произведение начальной матрицы $X$ на случайную обратимую $P$:\n",
        "$X' = XP$ \n",
        "тогда:\n",
        "$w' = ((PX)^T(PX))^{-1}(PX)^T y = (P^T X^T PX) ^{-1} P^T X^T y = P^{-1}(X^TX)^{-1}(P^T)^{-1}P^T X^T y = P^{-1}(X^TX)^{-1} E X^T y = P^{-1}(X^T X)^{-1} X^T y$\n",
        "\n",
        "напомню, что: \n",
        "\n",
        "$ w = (X^T X)^{-1} X^T y$\n",
        "\n",
        "\n",
        "следовательно, равенство для $w'$ можно записать иначе: \n",
        "\n",
        "$w' = P^{-1} w$\n",
        "\n",
        "\n",
        "подставим новое значение в формулу предсказания линейной регресии ($a = Xw$) и найдем $a'$: \n",
        "\n",
        "$a' = X'w' = XPP^{-1} w = XEw = Xw = a $ \n",
        "\n",
        "\n",
        "Таким образом, мы явно получили что предсказания $a'$ для матрицы признаков, умноженных на обратимую матрицу $P$ равны предсказаниям $a$ - следовательно качество линейной регрессии не изменится\n",
        "\n"
      ]
    },
    {
      "cell_type": "markdown",
      "metadata": {
        "id": "3eP5W08gsTsC"
      },
      "source": [
        "<a href=\"#footer\">К содержанию</a>\n",
        "\n",
        "<footer id=\"footer\"></footer>"
      ]
    },
    {
      "cell_type": "markdown",
      "metadata": {
        "id": "7oY8todtsTsC"
      },
      "source": [
        "### Вывод"
      ]
    },
    {
      "cell_type": "markdown",
      "metadata": {
        "id": "LiKNnIn-sTsC"
      },
      "source": [
        "Проверили предположение: если умножить матрицу признаков на случайную матрицу - качество предсказаний не ухудашется, вектора целевых признаков равны. Аналогичный результат получим, при умножении случайно матрицы на любое число с последующим умножением на матрицу признаков.  "
      ]
    },
    {
      "cell_type": "markdown",
      "metadata": {
        "id": "QCUQKWzNsTsC"
      },
      "source": [
        "<a href=\"#footer\">К содержанию</a>\n",
        "\n",
        "<footer id=\"footer\"></footer>"
      ]
    },
    {
      "cell_type": "markdown",
      "metadata": {
        "id": "6LVj1fHJsTsC"
      },
      "source": [
        "## Алгоритм преобразования"
      ]
    },
    {
      "cell_type": "markdown",
      "metadata": {
        "id": "I96JYrY1sTsC"
      },
      "source": [
        "**Мы доказали, что качество модели не ухудшится, если матрицу признаков умножить на случайную матрицу, аналогично не повредит качеству и умножение на константу. Таким образом предлагаю следующий алгоритм для преобразования:**\n",
        "\n",
        "1. Делим выборку на обучающие признаки и целевой признак, т.е отделяем от данных количество страховых выплат;\n",
        "2. Создаем случайную матрицу размером `4х4` (в выборке 4 признака);\n",
        "3. Умножаем случайную матрицу на константу `42`;\n",
        "4. Матрицу признаков умножаем на созданную матрицу;\n",
        "5. Обучаем модель на новых признаках;\n",
        "6. Получаем предсказания;\n",
        "7. В качестве метрики берем коэффициент детерминации R2;\n",
        "8. Обучаем модель на исходных данных и получаем предсказания на исходных данных;\n",
        "9. Сравниваем два коэффициента детерминации и определяем работоспособность алгоритма\n",
        "\n",
        "\n",
        "**Если алгоритм подтвердит наши предположения, то для его улучшения**\n",
        "\n",
        "1. Проведем дополнительную проверку, разделив выборку на обучающую и тестовую\n",
        "2. Сделаем дополнительный преобразованный сет обучающий и тестовый\n",
        "3. найдем коэффициенты детерминации в данных условиях и сравним\n",
        "\n",
        "\n",
        "**Для удобства работы, в случае успеха - будет прописан класс для преобразований исходных признаков, получения ключа для дешифровки и дешифратор**"
      ]
    },
    {
      "cell_type": "markdown",
      "metadata": {
        "id": "0DtHUMmssTsD"
      },
      "source": [
        "### Вывод\n"
      ]
    },
    {
      "cell_type": "markdown",
      "metadata": {
        "id": "hBzvezBcsTsD"
      },
      "source": [
        "Проверять будем на общем сете, без деления на тестовую выборку и обучающую, если наше предположение подтвердится - тогда работать будем с двумя выборками - обучающей и тестовой и проверим работу нашего алгоритма. Стандартизацию применять не будем - перед нами не стоит цели получить лучшую модель. **Цель работы - проверка алгоритма защиты данных путем преобразования матрицы значений объектов**"
      ]
    },
    {
      "cell_type": "markdown",
      "metadata": {
        "id": "1i76QGSOsTsD"
      },
      "source": [
        "<a href=\"#footer\">К содержанию</a>\n",
        "\n",
        "<footer id=\"footer\"></footer>"
      ]
    },
    {
      "cell_type": "markdown",
      "metadata": {
        "id": "jhPulXGTsTsD"
      },
      "source": [
        "## Проверка алгоритма"
      ]
    },
    {
      "cell_type": "markdown",
      "metadata": {
        "id": "2OeX7CxOsTsE"
      },
      "source": [
        "### Деление выборки на признаки для обучения и целевой признак"
      ]
    },
    {
      "cell_type": "code",
      "metadata": {
        "id": "UYa88Ga1sTsE"
      },
      "source": [
        "def split_data(data, target_column):\n",
        "    return data.drop(columns=[target_column], axis=1), data[target_column]\n",
        "\n",
        "\n",
        "def print_info(data, x, x_val):\n",
        "    return print(' Количество образцов обучающей выборки:', len(x),'\\n',\n",
        "                 'Количество образцов валидационной выборки:', len(x_val),'\\n',\n",
        "                 'Сумма выборок:', len(x) + len(x_val),'\\n',\n",
        "                 'Количество образцов подготовленной выборки (контрольная сумма):', len(data))"
      ],
      "execution_count": 12,
      "outputs": []
    },
    {
      "cell_type": "code",
      "metadata": {
        "colab": {
          "base_uri": "https://localhost:8080/"
        },
        "id": "Fno7EBZwsTsE",
        "outputId": "f529741e-ecd9-4701-e5f5-78f4173ffe47"
      },
      "source": [
        "features, target = split_data(df,'ins_pay')\n",
        "features.shape, target.shape"
      ],
      "execution_count": 13,
      "outputs": [
        {
          "output_type": "execute_result",
          "data": {
            "text/plain": [
              "((4847, 4), (4847,))"
            ]
          },
          "metadata": {
            "tags": []
          },
          "execution_count": 13
        }
      ]
    },
    {
      "cell_type": "markdown",
      "metadata": {
        "id": "kRw9oa4PsTsE"
      },
      "source": [
        "Получили сеты для обучения моделей. Перед разделение выборок на тестовую и обучающую - проведем грубую проверку нашего алгоритма - обучим модель на начальных данных, затем преобразуем и снова обучим. Сравним коэффициенты детерминации"
      ]
    },
    {
      "cell_type": "code",
      "metadata": {
        "colab": {
          "base_uri": "https://localhost:8080/"
        },
        "id": "1wCT-B0FsTsE",
        "outputId": "14755c7e-9355-4bc1-ff06-1a5e4fe664e4"
      },
      "source": [
        "lin_reg = LinearRegression()\n",
        "lin_reg.fit(features, target)\n",
        "predict = lin_reg.predict(features)\n",
        "r_2 = r2_score (target, predict)\n",
        "print(f'Коэффициент детерминации: {r_2}')"
      ],
      "execution_count": 14,
      "outputs": [
        {
          "output_type": "stream",
          "text": [
            "Коэффициент детерминации: 0.4302010044852067\n"
          ],
          "name": "stdout"
        }
      ]
    },
    {
      "cell_type": "code",
      "metadata": {
        "id": "5LG8OZlrsTsE"
      },
      "source": [
        "rnd_matrix = np.random.rand(4,4)\n",
        "np.linalg.inv(rnd_matrix)\n",
        "new_features = features @ rnd_matrix"
      ],
      "execution_count": 15,
      "outputs": []
    },
    {
      "cell_type": "code",
      "metadata": {
        "colab": {
          "base_uri": "https://localhost:8080/"
        },
        "id": "J5jjbAJisTsG",
        "outputId": "93fd273b-1685-486d-974f-438b48fd7a2c"
      },
      "source": [
        "lin_reg_rnd = LinearRegression()\n",
        "lin_reg_rnd.fit(new_features, target)\n",
        "predict_rnd = lin_reg_rnd.predict(new_features)\n",
        "r_2_rnd = r2_score (target, predict_rnd)\n",
        "print(f'Коэффициент детерминации: {r_2_rnd}')"
      ],
      "execution_count": 16,
      "outputs": [
        {
          "output_type": "stream",
          "text": [
            "Коэффициент детерминации: 0.43020100448518894\n"
          ],
          "name": "stdout"
        }
      ]
    },
    {
      "cell_type": "code",
      "metadata": {
        "colab": {
          "base_uri": "https://localhost:8080/",
          "height": 111
        },
        "id": "cKCPE5_PsTsG",
        "outputId": "29c43f49-26e6-4dce-b99c-00a6fdc77e76"
      },
      "source": [
        "pd.Series([r_2, r_2_rnd], index=['Незашифрованная', 'Зашифрованная']).to_frame('R2')"
      ],
      "execution_count": 17,
      "outputs": [
        {
          "output_type": "execute_result",
          "data": {
            "text/html": [
              "<div>\n",
              "<style scoped>\n",
              "    .dataframe tbody tr th:only-of-type {\n",
              "        vertical-align: middle;\n",
              "    }\n",
              "\n",
              "    .dataframe tbody tr th {\n",
              "        vertical-align: top;\n",
              "    }\n",
              "\n",
              "    .dataframe thead th {\n",
              "        text-align: right;\n",
              "    }\n",
              "</style>\n",
              "<table border=\"1\" class=\"dataframe\">\n",
              "  <thead>\n",
              "    <tr style=\"text-align: right;\">\n",
              "      <th></th>\n",
              "      <th>R2</th>\n",
              "    </tr>\n",
              "  </thead>\n",
              "  <tbody>\n",
              "    <tr>\n",
              "      <th>Незашифрованная</th>\n",
              "      <td>0.430201</td>\n",
              "    </tr>\n",
              "    <tr>\n",
              "      <th>Зашифрованная</th>\n",
              "      <td>0.430201</td>\n",
              "    </tr>\n",
              "  </tbody>\n",
              "</table>\n",
              "</div>"
            ],
            "text/plain": [
              "                       R2\n",
              "Незашифрованная  0.430201\n",
              "Зашифрованная    0.430201"
            ]
          },
          "metadata": {
            "tags": []
          },
          "execution_count": 17
        }
      ]
    },
    {
      "cell_type": "markdown",
      "metadata": {
        "id": "fJmpZLufsTsG"
      },
      "source": [
        "Проверка подтверждает наше предположение. Можем приступать к доработке алгоритма"
      ]
    },
    {
      "cell_type": "markdown",
      "metadata": {
        "id": "va584VqNsTsH"
      },
      "source": [
        "<a href=\"#footer\">К содержанию</a>\n",
        "\n",
        "<footer id=\"footer\"></footer>"
      ]
    },
    {
      "cell_type": "markdown",
      "metadata": {
        "id": "PiOocoqDsTsH"
      },
      "source": [
        "### Доработка алгоритма"
      ]
    },
    {
      "cell_type": "markdown",
      "metadata": {
        "id": "6SGKobFJsTsH"
      },
      "source": [
        "Создадим класс для преобразования наших данных. Это позволит добавлять его в `Pipeline` модели при необходимости:\n",
        "\n",
        "Преобразование будем делать в следующем порядке:\n",
        "\n",
        "1. Создание случайно матрицы и умножение на константу `42`\n",
        "2. Умножение матрицы признаков на случайную матрицу для получения новых значений\n",
        "3. Возвращать класс будет матрицу-ключ для дешифратора и новую матрицу признаков\n",
        "\n",
        "\n",
        "Также создадим дескриптор - чтобы возвращать зашифрованные данные к изначальному виду"
      ]
    },
    {
      "cell_type": "code",
      "metadata": {
        "id": "i-2SoGUcsTsH"
      },
      "source": [
        "class MatrixMultiplication():\n",
        "\n",
        "    def __init__(self, multi = True):\n",
        "        self.multi = multi\n",
        "\n",
        "    def fit(self, X, y=None):\n",
        "        return self\n",
        "    def transform(self, X, matrix, y=None):\n",
        "        matrix_rnd = np.random.rand(4,4) * 42\n",
        "        X_new = X @ matrix_rnd\n",
        "        if matrix == True:\n",
        "            return X_new, matrix_rnd\n",
        "        else:\n",
        "            return X_new\n",
        "        \n",
        "        \n",
        "def decryptor(X_new, matrix):\n",
        "    X = X_new.dot(np.linalg.inv(matrix))\n",
        "    X.columns = ['gender', 'age', 'salary', 'family']\n",
        "    return round(X).astype('int64')"
      ],
      "execution_count": 18,
      "outputs": []
    },
    {
      "cell_type": "markdown",
      "metadata": {
        "id": "rFRtQpqCsTsH"
      },
      "source": [
        "Проверим работу нашего класса:"
      ]
    },
    {
      "cell_type": "code",
      "metadata": {
        "colab": {
          "base_uri": "https://localhost:8080/"
        },
        "id": "rkqar4GSsTsH",
        "outputId": "eeb05c76-3057-4687-95a8-ca1cbd63db72"
      },
      "source": [
        "attr_adder = MatrixMultiplication(multi=True)\n",
        "new_features, matrix  = attr_adder.transform(features, matrix=True)\n",
        "matrix"
      ],
      "execution_count": 19,
      "outputs": [
        {
          "output_type": "execute_result",
          "data": {
            "text/plain": [
              "array([[12.7781742 , 22.03977013, 18.14169078, 12.23162389],\n",
              "       [25.69782158,  5.85874215, 12.27007524, 15.38719742],\n",
              "       [19.15493934, 32.97739038,  8.38629885, 21.59784641],\n",
              "       [24.88141189,  1.95091733, 25.51688378,  7.16201319]])"
            ]
          },
          "metadata": {
            "tags": []
          },
          "execution_count": 19
        }
      ]
    },
    {
      "cell_type": "code",
      "metadata": {
        "colab": {
          "base_uri": "https://localhost:8080/",
          "height": 204
        },
        "id": "i4jNuLOosTsH",
        "outputId": "879890e7-99f4-4a74-e770-a954dbf5b56d"
      },
      "source": [
        "new_features.head()"
      ],
      "execution_count": 20,
      "outputs": [
        {
          "output_type": "execute_result",
          "data": {
            "text/html": [
              "<div>\n",
              "<style scoped>\n",
              "    .dataframe tbody tr th:only-of-type {\n",
              "        vertical-align: middle;\n",
              "    }\n",
              "\n",
              "    .dataframe tbody tr th {\n",
              "        vertical-align: top;\n",
              "    }\n",
              "\n",
              "    .dataframe thead th {\n",
              "        text-align: right;\n",
              "    }\n",
              "</style>\n",
              "<table border=\"1\" class=\"dataframe\">\n",
              "  <thead>\n",
              "    <tr style=\"text-align: right;\">\n",
              "      <th></th>\n",
              "      <th>0</th>\n",
              "      <th>1</th>\n",
              "      <th>2</th>\n",
              "      <th>3</th>\n",
              "    </tr>\n",
              "  </thead>\n",
              "  <tbody>\n",
              "    <tr>\n",
              "      <th>0</th>\n",
              "      <td>951176.261392</td>\n",
              "      <td>1.635943e+06</td>\n",
              "      <td>416507.154652</td>\n",
              "      <td>1.071903e+06</td>\n",
              "    </tr>\n",
              "    <tr>\n",
              "      <th>1</th>\n",
              "      <td>729094.676015</td>\n",
              "      <td>1.253412e+06</td>\n",
              "      <td>319269.296669</td>\n",
              "      <td>8.214331e+05</td>\n",
              "    </tr>\n",
              "    <tr>\n",
              "      <th>2</th>\n",
              "      <td>402998.962905</td>\n",
              "      <td>6.926951e+05</td>\n",
              "      <td>176468.108046</td>\n",
              "      <td>4.540010e+05</td>\n",
              "    </tr>\n",
              "    <tr>\n",
              "      <th>3</th>\n",
              "      <td>799350.387435</td>\n",
              "      <td>1.375284e+06</td>\n",
              "      <td>350017.367420</td>\n",
              "      <td>9.009677e+05</td>\n",
              "    </tr>\n",
              "    <tr>\n",
              "      <th>4</th>\n",
              "      <td>500676.233877</td>\n",
              "      <td>8.608960e+05</td>\n",
              "      <td>219244.103799</td>\n",
              "      <td>5.641469e+05</td>\n",
              "    </tr>\n",
              "  </tbody>\n",
              "</table>\n",
              "</div>"
            ],
            "text/plain": [
              "               0             1              2             3\n",
              "0  951176.261392  1.635943e+06  416507.154652  1.071903e+06\n",
              "1  729094.676015  1.253412e+06  319269.296669  8.214331e+05\n",
              "2  402998.962905  6.926951e+05  176468.108046  4.540010e+05\n",
              "3  799350.387435  1.375284e+06  350017.367420  9.009677e+05\n",
              "4  500676.233877  8.608960e+05  219244.103799  5.641469e+05"
            ]
          },
          "metadata": {
            "tags": []
          },
          "execution_count": 20
        }
      ]
    },
    {
      "cell_type": "markdown",
      "metadata": {
        "id": "QErjUcIZsTsI"
      },
      "source": [
        "Класс вернул матрицу-преобразователь и преобразованные значения наших признаков. Обучим модель линейной регрессии:"
      ]
    },
    {
      "cell_type": "code",
      "metadata": {
        "colab": {
          "base_uri": "https://localhost:8080/"
        },
        "id": "DHMhc097sTsI",
        "outputId": "68209df4-b2a1-4f7b-e3f7-a8723ff12d22"
      },
      "source": [
        "lin_reg_test = LinearRegression()\n",
        "lin_reg_test.fit(new_features, target)\n",
        "predict_rnd = lin_reg_test.predict(new_features)\n",
        "r_2_rnd_1 = r2_score (target, predict_rnd)\n",
        "print(f'Коэффициент детерминации: {r_2_rnd_1}')"
      ],
      "execution_count": 21,
      "outputs": [
        {
          "output_type": "stream",
          "text": [
            "Коэффициент детерминации: 0.43020100448519183\n"
          ],
          "name": "stdout"
        }
      ]
    },
    {
      "cell_type": "markdown",
      "metadata": {
        "id": "Mm4bI9VysTsI"
      },
      "source": [
        "Попробуем расшифровать данные нашим декриптором:"
      ]
    },
    {
      "cell_type": "code",
      "metadata": {
        "colab": {
          "base_uri": "https://localhost:8080/",
          "height": 204
        },
        "id": "6MfMkcg2sTsI",
        "outputId": "0ff027e3-849a-48a5-9cb3-c6521f516051"
      },
      "source": [
        "features = decryptor (new_features, matrix)\n",
        "features.head()"
      ],
      "execution_count": 22,
      "outputs": [
        {
          "output_type": "execute_result",
          "data": {
            "text/html": [
              "<div>\n",
              "<style scoped>\n",
              "    .dataframe tbody tr th:only-of-type {\n",
              "        vertical-align: middle;\n",
              "    }\n",
              "\n",
              "    .dataframe tbody tr th {\n",
              "        vertical-align: top;\n",
              "    }\n",
              "\n",
              "    .dataframe thead th {\n",
              "        text-align: right;\n",
              "    }\n",
              "</style>\n",
              "<table border=\"1\" class=\"dataframe\">\n",
              "  <thead>\n",
              "    <tr style=\"text-align: right;\">\n",
              "      <th></th>\n",
              "      <th>gender</th>\n",
              "      <th>age</th>\n",
              "      <th>salary</th>\n",
              "      <th>family</th>\n",
              "    </tr>\n",
              "  </thead>\n",
              "  <tbody>\n",
              "    <tr>\n",
              "      <th>0</th>\n",
              "      <td>1</td>\n",
              "      <td>41</td>\n",
              "      <td>49600</td>\n",
              "      <td>1</td>\n",
              "    </tr>\n",
              "    <tr>\n",
              "      <th>1</th>\n",
              "      <td>0</td>\n",
              "      <td>46</td>\n",
              "      <td>38000</td>\n",
              "      <td>1</td>\n",
              "    </tr>\n",
              "    <tr>\n",
              "      <th>2</th>\n",
              "      <td>0</td>\n",
              "      <td>29</td>\n",
              "      <td>21000</td>\n",
              "      <td>0</td>\n",
              "    </tr>\n",
              "    <tr>\n",
              "      <th>3</th>\n",
              "      <td>0</td>\n",
              "      <td>21</td>\n",
              "      <td>41700</td>\n",
              "      <td>2</td>\n",
              "    </tr>\n",
              "    <tr>\n",
              "      <th>4</th>\n",
              "      <td>1</td>\n",
              "      <td>28</td>\n",
              "      <td>26100</td>\n",
              "      <td>0</td>\n",
              "    </tr>\n",
              "  </tbody>\n",
              "</table>\n",
              "</div>"
            ],
            "text/plain": [
              "   gender  age  salary  family\n",
              "0       1   41   49600       1\n",
              "1       0   46   38000       1\n",
              "2       0   29   21000       0\n",
              "3       0   21   41700       2\n",
              "4       1   28   26100       0"
            ]
          },
          "metadata": {
            "tags": []
          },
          "execution_count": 22
        }
      ]
    },
    {
      "cell_type": "code",
      "metadata": {
        "colab": {
          "base_uri": "https://localhost:8080/"
        },
        "id": "HYUhCl70sTsI",
        "outputId": "cb2b6fce-4907-4215-875b-b10f58989286"
      },
      "source": [
        "lin_reg = LinearRegression()\n",
        "lin_reg.fit(features, target)\n",
        "predict = lin_reg.predict(features)\n",
        "r_2_1 = r2_score (target, predict)\n",
        "print(f'Коэффициент детерминации: {r_2_1}')"
      ],
      "execution_count": 23,
      "outputs": [
        {
          "output_type": "stream",
          "text": [
            "Коэффициент детерминации: 0.4302010044852067\n"
          ],
          "name": "stdout"
        }
      ]
    },
    {
      "cell_type": "code",
      "metadata": {
        "colab": {
          "base_uri": "https://localhost:8080/",
          "height": 111
        },
        "id": "mg2V7uvOsTsI",
        "outputId": "8a0ba006-3cb0-4754-b9ca-63231afa11c5"
      },
      "source": [
        "pd.Series([r_2_rnd_1, r_2_1], index=['Зашифрованная', 'Дешифрованная']).to_frame('R2')"
      ],
      "execution_count": 24,
      "outputs": [
        {
          "output_type": "execute_result",
          "data": {
            "text/html": [
              "<div>\n",
              "<style scoped>\n",
              "    .dataframe tbody tr th:only-of-type {\n",
              "        vertical-align: middle;\n",
              "    }\n",
              "\n",
              "    .dataframe tbody tr th {\n",
              "        vertical-align: top;\n",
              "    }\n",
              "\n",
              "    .dataframe thead th {\n",
              "        text-align: right;\n",
              "    }\n",
              "</style>\n",
              "<table border=\"1\" class=\"dataframe\">\n",
              "  <thead>\n",
              "    <tr style=\"text-align: right;\">\n",
              "      <th></th>\n",
              "      <th>R2</th>\n",
              "    </tr>\n",
              "  </thead>\n",
              "  <tbody>\n",
              "    <tr>\n",
              "      <th>Зашифрованная</th>\n",
              "      <td>0.430201</td>\n",
              "    </tr>\n",
              "    <tr>\n",
              "      <th>Дешифрованная</th>\n",
              "      <td>0.430201</td>\n",
              "    </tr>\n",
              "  </tbody>\n",
              "</table>\n",
              "</div>"
            ],
            "text/plain": [
              "                     R2\n",
              "Зашифрованная  0.430201\n",
              "Дешифрованная  0.430201"
            ]
          },
          "metadata": {
            "tags": []
          },
          "execution_count": 24
        }
      ]
    },
    {
      "cell_type": "markdown",
      "metadata": {
        "id": "bpbFxs3WsTsI"
      },
      "source": [
        "Получили точно такой же коэффициент детерминации.  \n",
        "\n",
        "Таким образом, мы создали класс обработки значений признаком для шифрования и добавили функцию расшифровки данных. Проверили обучением на начальных данных - алгоритм можно опробовать на тестовой выборке, предварительно обучив модель снова на разделенной выборке "
      ]
    },
    {
      "cell_type": "markdown",
      "metadata": {
        "id": "N10TOITmsTsJ"
      },
      "source": [
        "<a href=\"#footer\">К содержанию</a>\n",
        "\n",
        "<footer id=\"footer\"></footer>"
      ]
    },
    {
      "cell_type": "markdown",
      "metadata": {
        "id": "17FefNRGsTsJ"
      },
      "source": [
        "### Проверка работы модели на тестовой выборке. "
      ]
    },
    {
      "cell_type": "markdown",
      "metadata": {
        "id": "uTuwQ9wosTsJ"
      },
      "source": [
        "#### Преобразованная выборка"
      ]
    },
    {
      "cell_type": "code",
      "metadata": {
        "colab": {
          "base_uri": "https://localhost:8080/",
          "height": 204
        },
        "id": "oqBWLfIfsTsJ",
        "outputId": "aab7b0b9-b819-48cc-8b76-c632fb2a6bf2"
      },
      "source": [
        "attr_adder = MatrixMultiplication(multi=True)\n",
        "features_tr, matrix_1  = attr_adder.transform(features, matrix=True)\n",
        "features_tr.head()"
      ],
      "execution_count": 25,
      "outputs": [
        {
          "output_type": "execute_result",
          "data": {
            "text/html": [
              "<div>\n",
              "<style scoped>\n",
              "    .dataframe tbody tr th:only-of-type {\n",
              "        vertical-align: middle;\n",
              "    }\n",
              "\n",
              "    .dataframe tbody tr th {\n",
              "        vertical-align: top;\n",
              "    }\n",
              "\n",
              "    .dataframe thead th {\n",
              "        text-align: right;\n",
              "    }\n",
              "</style>\n",
              "<table border=\"1\" class=\"dataframe\">\n",
              "  <thead>\n",
              "    <tr style=\"text-align: right;\">\n",
              "      <th></th>\n",
              "      <th>0</th>\n",
              "      <th>1</th>\n",
              "      <th>2</th>\n",
              "      <th>3</th>\n",
              "    </tr>\n",
              "  </thead>\n",
              "  <tbody>\n",
              "    <tr>\n",
              "      <th>0</th>\n",
              "      <td>254768.196665</td>\n",
              "      <td>1.031788e+06</td>\n",
              "      <td>72870.064869</td>\n",
              "      <td>1.895110e+06</td>\n",
              "    </tr>\n",
              "    <tr>\n",
              "      <th>1</th>\n",
              "      <td>195372.405374</td>\n",
              "      <td>7.905189e+05</td>\n",
              "      <td>56219.109772</td>\n",
              "      <td>1.452148e+06</td>\n",
              "    </tr>\n",
              "    <tr>\n",
              "      <th>2</th>\n",
              "      <td>108008.742704</td>\n",
              "      <td>4.368650e+05</td>\n",
              "      <td>31164.071450</td>\n",
              "      <td>8.025567e+05</td>\n",
              "    </tr>\n",
              "    <tr>\n",
              "      <th>3</th>\n",
              "      <td>214028.171370</td>\n",
              "      <td>8.673946e+05</td>\n",
              "      <td>60857.733141</td>\n",
              "      <td>1.593016e+06</td>\n",
              "    </tr>\n",
              "    <tr>\n",
              "      <th>4</th>\n",
              "      <td>134139.270996</td>\n",
              "      <td>5.429676e+05</td>\n",
              "      <td>38541.911431</td>\n",
              "      <td>9.973486e+05</td>\n",
              "    </tr>\n",
              "  </tbody>\n",
              "</table>\n",
              "</div>"
            ],
            "text/plain": [
              "               0             1             2             3\n",
              "0  254768.196665  1.031788e+06  72870.064869  1.895110e+06\n",
              "1  195372.405374  7.905189e+05  56219.109772  1.452148e+06\n",
              "2  108008.742704  4.368650e+05  31164.071450  8.025567e+05\n",
              "3  214028.171370  8.673946e+05  60857.733141  1.593016e+06\n",
              "4  134139.270996  5.429676e+05  38541.911431  9.973486e+05"
            ]
          },
          "metadata": {
            "tags": []
          },
          "execution_count": 25
        }
      ]
    },
    {
      "cell_type": "markdown",
      "metadata": {
        "id": "KYANPoGpsTsJ"
      },
      "source": [
        "Разделим данные на обучающую выборку и тестовую выборку и еще раз проверим работу нашего алгоритма"
      ]
    },
    {
      "cell_type": "code",
      "metadata": {
        "id": "TMW02wZlsTsJ"
      },
      "source": [
        "X_train_tr, X_test_tr, y_train, y_test = (\n",
        "    train_test_split (\n",
        "        features_tr, target, test_size = .25 ,\n",
        "        random_state = 42 )\n",
        ")\n"
      ],
      "execution_count": 26,
      "outputs": []
    },
    {
      "cell_type": "code",
      "metadata": {
        "colab": {
          "base_uri": "https://localhost:8080/"
        },
        "id": "omKaCPe8sTsJ",
        "outputId": "80a7da55-a193-4327-f6b7-6c11c01649cf"
      },
      "source": [
        "print_info(features_tr, X_train_tr, X_test_tr)"
      ],
      "execution_count": 27,
      "outputs": [
        {
          "output_type": "stream",
          "text": [
            " Количество образцов обучающей выборки: 3635 \n",
            " Количество образцов валидационной выборки: 1212 \n",
            " Сумма выборок: 4847 \n",
            " Количество образцов подготовленной выборки (контрольная сумма): 4847\n"
          ],
          "name": "stdout"
        }
      ]
    },
    {
      "cell_type": "code",
      "metadata": {
        "colab": {
          "base_uri": "https://localhost:8080/"
        },
        "id": "EWnpWiu8sTsK",
        "outputId": "f3b1c7ff-ceec-4d9d-f3b5-7d10ef0ed960"
      },
      "source": [
        "X_train_tr.shape, X_test_tr.shape, y_train.shape, y_test.shape"
      ],
      "execution_count": 28,
      "outputs": [
        {
          "output_type": "execute_result",
          "data": {
            "text/plain": [
              "((3635, 4), (1212, 4), (3635,), (1212,))"
            ]
          },
          "metadata": {
            "tags": []
          },
          "execution_count": 28
        }
      ]
    },
    {
      "cell_type": "code",
      "metadata": {
        "colab": {
          "base_uri": "https://localhost:8080/"
        },
        "id": "vzkuEssasTsK",
        "outputId": "0f9bd979-b868-4815-ea69-8cd8caf5ac10"
      },
      "source": [
        "model_tr = LinearRegression()\n",
        "model_tr.fit(X_train_tr, y_train)\n",
        "y_pred_tr = model_tr.predict(X_test_tr)\n",
        "r2_tr = r2_score(y_test, y_pred_tr)\n",
        "print(f'Коэффициент детерминации: {r2_tr}')\n"
      ],
      "execution_count": 29,
      "outputs": [
        {
          "output_type": "stream",
          "text": [
            "Коэффициент детерминации: 0.44346330831680825\n"
          ],
          "name": "stdout"
        }
      ]
    },
    {
      "cell_type": "markdown",
      "metadata": {
        "id": "llpHrhEUsTsK"
      },
      "source": [
        "#### Начальная выборка (без преобразования)"
      ]
    },
    {
      "cell_type": "markdown",
      "metadata": {
        "id": "IhkOSbU3sTsK"
      },
      "source": [
        "Разделим данные на обучающую выборку и тестовую выборку и еще раз проверим работу нашего алгоритма. дальше мы сможем сравнить два коэффциента детерминации и подтвердить или опровергнуть наше предположение"
      ]
    },
    {
      "cell_type": "code",
      "metadata": {
        "id": "Qanq3HEFsTsK"
      },
      "source": [
        "X_train, X_test, y_train, y_test = (\n",
        "    train_test_split (\n",
        "        features, target, test_size = .25 ,\n",
        "        random_state = 42 )\n",
        ")\n"
      ],
      "execution_count": 30,
      "outputs": []
    },
    {
      "cell_type": "code",
      "metadata": {
        "colab": {
          "base_uri": "https://localhost:8080/"
        },
        "id": "_asRQEv-sTsK",
        "outputId": "289d049d-7231-4071-d718-3d4d1898e666"
      },
      "source": [
        "print_info(features, X_train, X_test)"
      ],
      "execution_count": 31,
      "outputs": [
        {
          "output_type": "stream",
          "text": [
            " Количество образцов обучающей выборки: 3635 \n",
            " Количество образцов валидационной выборки: 1212 \n",
            " Сумма выборок: 4847 \n",
            " Количество образцов подготовленной выборки (контрольная сумма): 4847\n"
          ],
          "name": "stdout"
        }
      ]
    },
    {
      "cell_type": "code",
      "metadata": {
        "colab": {
          "base_uri": "https://localhost:8080/"
        },
        "id": "LAsiVpuGsTsK",
        "outputId": "7365671a-1601-4052-e475-17456f01eb96"
      },
      "source": [
        "X_train.shape, X_test.shape, y_train.shape, y_test.shape"
      ],
      "execution_count": 32,
      "outputs": [
        {
          "output_type": "execute_result",
          "data": {
            "text/plain": [
              "((3635, 4), (1212, 4), (3635,), (1212,))"
            ]
          },
          "metadata": {
            "tags": []
          },
          "execution_count": 32
        }
      ]
    },
    {
      "cell_type": "code",
      "metadata": {
        "colab": {
          "base_uri": "https://localhost:8080/"
        },
        "id": "ICISqweYsTsK",
        "outputId": "ec4b71d0-2b58-46b4-cad3-d14853a8b271"
      },
      "source": [
        "model = LinearRegression()\n",
        "model.fit(X_train, y_train)\n",
        "y_pred = model.predict(X_test)\n",
        "r2_pred = r2_score(y_test, y_pred)\n",
        "print(f'Коэффициент детерминации: {r2_pred}')\n"
      ],
      "execution_count": 33,
      "outputs": [
        {
          "output_type": "stream",
          "text": [
            "Коэффициент детерминации: 0.44346330831611536\n"
          ],
          "name": "stdout"
        }
      ]
    },
    {
      "cell_type": "code",
      "metadata": {
        "colab": {
          "base_uri": "https://localhost:8080/",
          "height": 111
        },
        "id": "c7rdBk1qsTsL",
        "outputId": "5fffbe41-d171-4d17-d357-5e91887e8cb4"
      },
      "source": [
        "pd.Series([r2_tr, r2_pred], index=['Зашифрованная', 'Незашифрованная']).to_frame('R2')"
      ],
      "execution_count": 34,
      "outputs": [
        {
          "output_type": "execute_result",
          "data": {
            "text/html": [
              "<div>\n",
              "<style scoped>\n",
              "    .dataframe tbody tr th:only-of-type {\n",
              "        vertical-align: middle;\n",
              "    }\n",
              "\n",
              "    .dataframe tbody tr th {\n",
              "        vertical-align: top;\n",
              "    }\n",
              "\n",
              "    .dataframe thead th {\n",
              "        text-align: right;\n",
              "    }\n",
              "</style>\n",
              "<table border=\"1\" class=\"dataframe\">\n",
              "  <thead>\n",
              "    <tr style=\"text-align: right;\">\n",
              "      <th></th>\n",
              "      <th>R2</th>\n",
              "    </tr>\n",
              "  </thead>\n",
              "  <tbody>\n",
              "    <tr>\n",
              "      <th>Зашифрованная</th>\n",
              "      <td>0.443463</td>\n",
              "    </tr>\n",
              "    <tr>\n",
              "      <th>Незашифрованная</th>\n",
              "      <td>0.443463</td>\n",
              "    </tr>\n",
              "  </tbody>\n",
              "</table>\n",
              "</div>"
            ],
            "text/plain": [
              "                       R2\n",
              "Зашифрованная    0.443463\n",
              "Незашифрованная  0.443463"
            ]
          },
          "metadata": {
            "tags": []
          },
          "execution_count": 34
        }
      ]
    },
    {
      "cell_type": "markdown",
      "metadata": {
        "id": "lToEFQfYsTsL"
      },
      "source": [
        "Мы видим, что коэффициент детерминации не различается. Наш алгоритм работает. Попробуем также расшифровать сеты данных, например, тестовую выборку"
      ]
    },
    {
      "cell_type": "code",
      "metadata": {
        "colab": {
          "base_uri": "https://localhost:8080/",
          "height": 204
        },
        "id": "zkODW0susTsL",
        "outputId": "aac7295c-678c-4cda-bf64-d3b14abfe718"
      },
      "source": [
        "X_test_decr = decryptor (X_test_tr, matrix_1)\n",
        "X_test_decr.head()"
      ],
      "execution_count": 35,
      "outputs": [
        {
          "output_type": "execute_result",
          "data": {
            "text/html": [
              "<div>\n",
              "<style scoped>\n",
              "    .dataframe tbody tr th:only-of-type {\n",
              "        vertical-align: middle;\n",
              "    }\n",
              "\n",
              "    .dataframe tbody tr th {\n",
              "        vertical-align: top;\n",
              "    }\n",
              "\n",
              "    .dataframe thead th {\n",
              "        text-align: right;\n",
              "    }\n",
              "</style>\n",
              "<table border=\"1\" class=\"dataframe\">\n",
              "  <thead>\n",
              "    <tr style=\"text-align: right;\">\n",
              "      <th></th>\n",
              "      <th>gender</th>\n",
              "      <th>age</th>\n",
              "      <th>salary</th>\n",
              "      <th>family</th>\n",
              "    </tr>\n",
              "  </thead>\n",
              "  <tbody>\n",
              "    <tr>\n",
              "      <th>3991</th>\n",
              "      <td>0</td>\n",
              "      <td>19</td>\n",
              "      <td>33800</td>\n",
              "      <td>0</td>\n",
              "    </tr>\n",
              "    <tr>\n",
              "      <th>1706</th>\n",
              "      <td>0</td>\n",
              "      <td>29</td>\n",
              "      <td>48100</td>\n",
              "      <td>3</td>\n",
              "    </tr>\n",
              "    <tr>\n",
              "      <th>1052</th>\n",
              "      <td>0</td>\n",
              "      <td>29</td>\n",
              "      <td>40100</td>\n",
              "      <td>0</td>\n",
              "    </tr>\n",
              "    <tr>\n",
              "      <th>4959</th>\n",
              "      <td>0</td>\n",
              "      <td>43</td>\n",
              "      <td>34500</td>\n",
              "      <td>4</td>\n",
              "    </tr>\n",
              "    <tr>\n",
              "      <th>1554</th>\n",
              "      <td>0</td>\n",
              "      <td>31</td>\n",
              "      <td>48800</td>\n",
              "      <td>1</td>\n",
              "    </tr>\n",
              "  </tbody>\n",
              "</table>\n",
              "</div>"
            ],
            "text/plain": [
              "      gender  age  salary  family\n",
              "3991       0   19   33800       0\n",
              "1706       0   29   48100       3\n",
              "1052       0   29   40100       0\n",
              "4959       0   43   34500       4\n",
              "1554       0   31   48800       1"
            ]
          },
          "metadata": {
            "tags": []
          },
          "execution_count": 35
        }
      ]
    },
    {
      "cell_type": "code",
      "metadata": {
        "colab": {
          "base_uri": "https://localhost:8080/",
          "height": 204
        },
        "id": "LtQkIIMcsTsL",
        "outputId": "ea60c51c-8e8a-4ce2-b06f-1328277d84af"
      },
      "source": [
        "X_test.head()"
      ],
      "execution_count": 36,
      "outputs": [
        {
          "output_type": "execute_result",
          "data": {
            "text/html": [
              "<div>\n",
              "<style scoped>\n",
              "    .dataframe tbody tr th:only-of-type {\n",
              "        vertical-align: middle;\n",
              "    }\n",
              "\n",
              "    .dataframe tbody tr th {\n",
              "        vertical-align: top;\n",
              "    }\n",
              "\n",
              "    .dataframe thead th {\n",
              "        text-align: right;\n",
              "    }\n",
              "</style>\n",
              "<table border=\"1\" class=\"dataframe\">\n",
              "  <thead>\n",
              "    <tr style=\"text-align: right;\">\n",
              "      <th></th>\n",
              "      <th>gender</th>\n",
              "      <th>age</th>\n",
              "      <th>salary</th>\n",
              "      <th>family</th>\n",
              "    </tr>\n",
              "  </thead>\n",
              "  <tbody>\n",
              "    <tr>\n",
              "      <th>3991</th>\n",
              "      <td>0</td>\n",
              "      <td>19</td>\n",
              "      <td>33800</td>\n",
              "      <td>0</td>\n",
              "    </tr>\n",
              "    <tr>\n",
              "      <th>1706</th>\n",
              "      <td>0</td>\n",
              "      <td>29</td>\n",
              "      <td>48100</td>\n",
              "      <td>3</td>\n",
              "    </tr>\n",
              "    <tr>\n",
              "      <th>1052</th>\n",
              "      <td>0</td>\n",
              "      <td>29</td>\n",
              "      <td>40100</td>\n",
              "      <td>0</td>\n",
              "    </tr>\n",
              "    <tr>\n",
              "      <th>4959</th>\n",
              "      <td>0</td>\n",
              "      <td>43</td>\n",
              "      <td>34500</td>\n",
              "      <td>4</td>\n",
              "    </tr>\n",
              "    <tr>\n",
              "      <th>1554</th>\n",
              "      <td>0</td>\n",
              "      <td>31</td>\n",
              "      <td>48800</td>\n",
              "      <td>1</td>\n",
              "    </tr>\n",
              "  </tbody>\n",
              "</table>\n",
              "</div>"
            ],
            "text/plain": [
              "      gender  age  salary  family\n",
              "3991       0   19   33800       0\n",
              "1706       0   29   48100       3\n",
              "1052       0   29   40100       0\n",
              "4959       0   43   34500       4\n",
              "1554       0   31   48800       1"
            ]
          },
          "metadata": {
            "tags": []
          },
          "execution_count": 36
        }
      ]
    },
    {
      "cell_type": "code",
      "metadata": {
        "colab": {
          "base_uri": "https://localhost:8080/"
        },
        "id": "ZnpGh-assTsL",
        "outputId": "5c4a89c3-5188-4177-94ad-d08a007a39c8"
      },
      "source": [
        "print('Контрольная сумма для проверки:', X_test_decr.shape[0])"
      ],
      "execution_count": 37,
      "outputs": [
        {
          "output_type": "stream",
          "text": [
            "Контрольная сумма для проверки: 1212\n"
          ],
          "name": "stdout"
        }
      ]
    },
    {
      "cell_type": "code",
      "metadata": {
        "colab": {
          "base_uri": "https://localhost:8080/",
          "height": 173
        },
        "id": "QWiIgzpCsTsL",
        "outputId": "edefaf04-c977-4e5c-bae3-481e380932ab"
      },
      "source": [
        "(X_test == X_test_decr).count().to_frame(f'Количество совпадений, не менее {X_test_decr.shape[0]}')"
      ],
      "execution_count": 38,
      "outputs": [
        {
          "output_type": "execute_result",
          "data": {
            "text/html": [
              "<div>\n",
              "<style scoped>\n",
              "    .dataframe tbody tr th:only-of-type {\n",
              "        vertical-align: middle;\n",
              "    }\n",
              "\n",
              "    .dataframe tbody tr th {\n",
              "        vertical-align: top;\n",
              "    }\n",
              "\n",
              "    .dataframe thead th {\n",
              "        text-align: right;\n",
              "    }\n",
              "</style>\n",
              "<table border=\"1\" class=\"dataframe\">\n",
              "  <thead>\n",
              "    <tr style=\"text-align: right;\">\n",
              "      <th></th>\n",
              "      <th>Количество совпадений, не менее 1212</th>\n",
              "    </tr>\n",
              "  </thead>\n",
              "  <tbody>\n",
              "    <tr>\n",
              "      <th>gender</th>\n",
              "      <td>1212</td>\n",
              "    </tr>\n",
              "    <tr>\n",
              "      <th>age</th>\n",
              "      <td>1212</td>\n",
              "    </tr>\n",
              "    <tr>\n",
              "      <th>salary</th>\n",
              "      <td>1212</td>\n",
              "    </tr>\n",
              "    <tr>\n",
              "      <th>family</th>\n",
              "      <td>1212</td>\n",
              "    </tr>\n",
              "  </tbody>\n",
              "</table>\n",
              "</div>"
            ],
            "text/plain": [
              "        Количество совпадений, не менее 1212\n",
              "gender                                  1212\n",
              "age                                     1212\n",
              "salary                                  1212\n",
              "family                                  1212"
            ]
          },
          "metadata": {
            "tags": []
          },
          "execution_count": 38
        }
      ]
    },
    {
      "cell_type": "markdown",
      "metadata": {
        "id": "29a8YRH5sTsL"
      },
      "source": [
        "После преобразования - мы получили идентичный начальному сет данных. Алгоритм работает, не влияет на результаты работы модели линейной регресси"
      ]
    },
    {
      "cell_type": "markdown",
      "metadata": {
        "id": "bptBDMphsTsM"
      },
      "source": [
        "## Вывод"
      ]
    },
    {
      "cell_type": "markdown",
      "metadata": {
        "id": "z2WszeCAsTsM"
      },
      "source": [
        "Нам была поставлена задача по защите данных клиентов страховой компании «Хоть потоп».\n",
        "\n",
        "Нам удалось разработать метод преобразования данных, основанный на получении случайно матрицы и умножению ее на матрицу обучающих признаков. Это позволит исказить данные визуально, но при этом данные преобразования не влияют на эффективность работы модели машинного обучения - качество предсказаний не меняет.\n",
        "\n",
        "\n",
        "Также мы подготовили функцию по преобразованию данных к исходному виду и определили класс для добавления в Pipeline обучения при необходимости"
      ]
    }
  ]
}