{
 "cells": [
  {
   "cell_type": "markdown",
   "id": "ready-seventh",
   "metadata": {
    "id": "XkFz4FZ_OkBi",
    "papermill": {
     "duration": 0.045354,
     "end_time": "2021-04-27T14:11:58.997566",
     "exception": false,
     "start_time": "2021-04-27T14:11:58.952212",
     "status": "completed"
    },
    "tags": []
   },
   "source": [
    "# Heart Attack Analysis and Prediction (Catboost) (beginner)"
   ]
  },
  {
   "cell_type": "markdown",
   "id": "fixed-remark",
   "metadata": {
    "id": "gO0DSbmbL9iO",
    "papermill": {
     "duration": 0.040769,
     "end_time": "2021-04-27T14:11:59.080066",
     "exception": false,
     "start_time": "2021-04-27T14:11:59.039297",
     "status": "completed"
    },
    "tags": []
   },
   "source": [
    "![](https://i.ibb.co/bH86zpn/EKG-Heart-concept-ML1701-ts484297336.png)"
   ]
  },
  {
   "cell_type": "markdown",
   "id": "isolated-orchestra",
   "metadata": {
    "id": "i3pWZgh4MapF",
    "papermill": {
     "duration": 0.042891,
     "end_time": "2021-04-27T14:11:59.164032",
     "exception": false,
     "start_time": "2021-04-27T14:11:59.121141",
     "status": "completed"
    },
    "tags": []
   },
   "source": [
    "A heart attack occurs when the flow of blood to the heart is blocked.  \n",
    "\n",
    "The blockage is most often a buildup of fat, cholesterol and other substances, which form a plaque in the arteries that feed the heart (coronary arteries).  \n",
    "\n",
    "\n",
    "A heart attack, also called a **myocardial infarction**, can be **fatal** \n",
    "\n",
    "Lets try to analyze data set and find some insights to predict heart attacks"
   ]
  },
  {
   "cell_type": "markdown",
   "id": "turned-addiction",
   "metadata": {
    "id": "zZOKuTNDOaQA",
    "papermill": {
     "duration": 0.040651,
     "end_time": "2021-04-27T14:11:59.245889",
     "exception": false,
     "start_time": "2021-04-27T14:11:59.205238",
     "status": "completed"
    },
    "tags": []
   },
   "source": [
    "## General information about data"
   ]
  },
  {
   "cell_type": "code",
   "execution_count": 1,
   "id": "severe-semiconductor",
   "metadata": {
    "execution": {
     "iopub.execute_input": "2021-04-27T14:11:59.337073Z",
     "iopub.status.busy": "2021-04-27T14:11:59.336286Z",
     "iopub.status.idle": "2021-04-27T14:12:00.656081Z",
     "shell.execute_reply": "2021-04-27T14:12:00.654557Z"
    },
    "id": "iWYIfCIiIza5",
    "papermill": {
     "duration": 1.369756,
     "end_time": "2021-04-27T14:12:00.656259",
     "exception": false,
     "start_time": "2021-04-27T14:11:59.286503",
     "status": "completed"
    },
    "tags": []
   },
   "outputs": [],
   "source": [
    "import pandas as pd\n",
    "import numpy as np\n",
    "%matplotlib inline\n",
    "import matplotlib.pyplot as plt\n",
    "from tqdm.notebook import tqdm\n",
    "import seaborn as sns\n",
    "sns.set_style(\"darkgrid\")\n",
    "from sklearn.model_selection import train_test_split, GridSearchCV\n",
    "from sklearn.metrics import make_scorer, accuracy_score, f1_score\n",
    "from catboost import CatBoostClassifier\n",
    "from catboost import Pool, cv\n",
    "import warnings\n",
    "warnings.filterwarnings(\"ignore\")\n"
   ]
  },
  {
   "cell_type": "markdown",
   "id": "requested-detection",
   "metadata": {
    "id": "6_O0y4-bO9lG",
    "papermill": {
     "duration": 0.040693,
     "end_time": "2021-04-27T14:12:00.738114",
     "exception": false,
     "start_time": "2021-04-27T14:12:00.697421",
     "status": "completed"
    },
    "tags": []
   },
   "source": [
    "### Loading and previewing data"
   ]
  },
  {
   "cell_type": "code",
   "execution_count": 2,
   "id": "smooth-upper",
   "metadata": {
    "execution": {
     "iopub.execute_input": "2021-04-27T14:12:00.825303Z",
     "iopub.status.busy": "2021-04-27T14:12:00.824554Z",
     "iopub.status.idle": "2021-04-27T14:12:00.853880Z",
     "shell.execute_reply": "2021-04-27T14:12:00.853228Z"
    },
    "id": "wG-8cg-zJLlJ",
    "papermill": {
     "duration": 0.075058,
     "end_time": "2021-04-27T14:12:00.854037",
     "exception": false,
     "start_time": "2021-04-27T14:12:00.778979",
     "status": "completed"
    },
    "tags": []
   },
   "outputs": [],
   "source": [
    "heart = pd.read_csv('../input/heart-attack-analysis-prediction-dataset/heart.csv')\n",
    "o2_sat = pd.read_csv('../input/heart-attack-analysis-prediction-dataset/o2Saturation.csv')"
   ]
  },
  {
   "cell_type": "code",
   "execution_count": 3,
   "id": "therapeutic-seven",
   "metadata": {
    "execution": {
     "iopub.execute_input": "2021-04-27T14:12:00.947127Z",
     "iopub.status.busy": "2021-04-27T14:12:00.946422Z",
     "iopub.status.idle": "2021-04-27T14:12:00.971477Z",
     "shell.execute_reply": "2021-04-27T14:12:00.972033Z"
    },
    "id": "oO_o6bttJdus",
    "outputId": "e025f9b4-b8dd-4b28-bb71-9e5ddd5557d8",
    "papermill": {
     "duration": 0.077046,
     "end_time": "2021-04-27T14:12:00.972204",
     "exception": false,
     "start_time": "2021-04-27T14:12:00.895158",
     "status": "completed"
    },
    "tags": []
   },
   "outputs": [
    {
     "data": {
      "text/html": [
       "<div>\n",
       "<style scoped>\n",
       "    .dataframe tbody tr th:only-of-type {\n",
       "        vertical-align: middle;\n",
       "    }\n",
       "\n",
       "    .dataframe tbody tr th {\n",
       "        vertical-align: top;\n",
       "    }\n",
       "\n",
       "    .dataframe thead th {\n",
       "        text-align: right;\n",
       "    }\n",
       "</style>\n",
       "<table border=\"1\" class=\"dataframe\">\n",
       "  <thead>\n",
       "    <tr style=\"text-align: right;\">\n",
       "      <th></th>\n",
       "      <th>age</th>\n",
       "      <th>sex</th>\n",
       "      <th>cp</th>\n",
       "      <th>trtbps</th>\n",
       "      <th>chol</th>\n",
       "      <th>fbs</th>\n",
       "      <th>restecg</th>\n",
       "      <th>thalachh</th>\n",
       "      <th>exng</th>\n",
       "      <th>oldpeak</th>\n",
       "      <th>slp</th>\n",
       "      <th>caa</th>\n",
       "      <th>thall</th>\n",
       "      <th>output</th>\n",
       "    </tr>\n",
       "  </thead>\n",
       "  <tbody>\n",
       "    <tr>\n",
       "      <th>0</th>\n",
       "      <td>63</td>\n",
       "      <td>1</td>\n",
       "      <td>3</td>\n",
       "      <td>145</td>\n",
       "      <td>233</td>\n",
       "      <td>1</td>\n",
       "      <td>0</td>\n",
       "      <td>150</td>\n",
       "      <td>0</td>\n",
       "      <td>2.3</td>\n",
       "      <td>0</td>\n",
       "      <td>0</td>\n",
       "      <td>1</td>\n",
       "      <td>1</td>\n",
       "    </tr>\n",
       "    <tr>\n",
       "      <th>1</th>\n",
       "      <td>37</td>\n",
       "      <td>1</td>\n",
       "      <td>2</td>\n",
       "      <td>130</td>\n",
       "      <td>250</td>\n",
       "      <td>0</td>\n",
       "      <td>1</td>\n",
       "      <td>187</td>\n",
       "      <td>0</td>\n",
       "      <td>3.5</td>\n",
       "      <td>0</td>\n",
       "      <td>0</td>\n",
       "      <td>2</td>\n",
       "      <td>1</td>\n",
       "    </tr>\n",
       "    <tr>\n",
       "      <th>2</th>\n",
       "      <td>41</td>\n",
       "      <td>0</td>\n",
       "      <td>1</td>\n",
       "      <td>130</td>\n",
       "      <td>204</td>\n",
       "      <td>0</td>\n",
       "      <td>0</td>\n",
       "      <td>172</td>\n",
       "      <td>0</td>\n",
       "      <td>1.4</td>\n",
       "      <td>2</td>\n",
       "      <td>0</td>\n",
       "      <td>2</td>\n",
       "      <td>1</td>\n",
       "    </tr>\n",
       "    <tr>\n",
       "      <th>3</th>\n",
       "      <td>56</td>\n",
       "      <td>1</td>\n",
       "      <td>1</td>\n",
       "      <td>120</td>\n",
       "      <td>236</td>\n",
       "      <td>0</td>\n",
       "      <td>1</td>\n",
       "      <td>178</td>\n",
       "      <td>0</td>\n",
       "      <td>0.8</td>\n",
       "      <td>2</td>\n",
       "      <td>0</td>\n",
       "      <td>2</td>\n",
       "      <td>1</td>\n",
       "    </tr>\n",
       "    <tr>\n",
       "      <th>4</th>\n",
       "      <td>57</td>\n",
       "      <td>0</td>\n",
       "      <td>0</td>\n",
       "      <td>120</td>\n",
       "      <td>354</td>\n",
       "      <td>0</td>\n",
       "      <td>1</td>\n",
       "      <td>163</td>\n",
       "      <td>1</td>\n",
       "      <td>0.6</td>\n",
       "      <td>2</td>\n",
       "      <td>0</td>\n",
       "      <td>2</td>\n",
       "      <td>1</td>\n",
       "    </tr>\n",
       "  </tbody>\n",
       "</table>\n",
       "</div>"
      ],
      "text/plain": [
       "   age  sex  cp  trtbps  chol  fbs  restecg  thalachh  exng  oldpeak  slp  \\\n",
       "0   63    1   3     145   233    1        0       150     0      2.3    0   \n",
       "1   37    1   2     130   250    0        1       187     0      3.5    0   \n",
       "2   41    0   1     130   204    0        0       172     0      1.4    2   \n",
       "3   56    1   1     120   236    0        1       178     0      0.8    2   \n",
       "4   57    0   0     120   354    0        1       163     1      0.6    2   \n",
       "\n",
       "   caa  thall  output  \n",
       "0    0      1       1  \n",
       "1    0      2       1  \n",
       "2    0      2       1  \n",
       "3    0      2       1  \n",
       "4    0      2       1  "
      ]
     },
     "execution_count": 3,
     "metadata": {},
     "output_type": "execute_result"
    }
   ],
   "source": [
    "heart.head()"
   ]
  },
  {
   "cell_type": "markdown",
   "id": "round-melissa",
   "metadata": {
    "id": "WvJcL4gcKEX9",
    "papermill": {
     "duration": 0.042571,
     "end_time": "2021-04-27T14:12:01.057131",
     "exception": false,
     "start_time": "2021-04-27T14:12:01.014560",
     "status": "completed"
    },
    "tags": []
   },
   "source": [
    "\n",
    "We have a dateframe with the following features:\n",
    "\n",
    "- `Age`: Age of the patient\n",
    "- `Sex` : Sex of the patient *(1 = male; 0 = female)*\n",
    "- `exang`: exercise induced angina (1 = yes; 0 = no)\n",
    "- `ca`: number of major vessels (0-3)\n",
    "- `cp` : Chest Pain type chest pain type\n",
    "\n",
    "    -- Value 1: typical angina. \n",
    "\n",
    "    -- Value 2: atypical angina. \n",
    "\n",
    "    -- Value 3: non-anginal pain. \n",
    "\n",
    "    -- Value 4: asymptomatic. \n",
    "\n",
    "- `trtbps` : resting blood pressure (in mm Hg): *normal reading would be any blood pressure below 120/80 mm Hg and above 90/60 mm Hg in an adult*. \n",
    "\n",
    "- `chol` : cholestoral in mg/dl fetched via BMI sensor: *normal range is <200 mg/dL*. \n",
    "\n",
    "- `fbs` : (fasting blood sugar > 120 mg/dl) (1 = true; 0 = false)\n",
    "- `rest_ecg` : resting electrocardiographic results\n",
    "\n",
    "    -- Value 0: normal\n",
    "\n",
    "    -- Value 1: having ST-T wave abnormality (T wave inversions and/or ST elevation or depression of > 0.05 mV)\n",
    "\n",
    "    -- Value 2: showing probable or definite left ventricular hypertrophy by Estes' criteria\n",
    "\n",
    "- `thalach` : maximum heart rate achieved\n",
    "- `target` : 0= less chance of heart attack 1= more chance of heart attack"
   ]
  },
  {
   "cell_type": "code",
   "execution_count": 4,
   "id": "furnished-layout",
   "metadata": {
    "execution": {
     "iopub.execute_input": "2021-04-27T14:12:01.144807Z",
     "iopub.status.busy": "2021-04-27T14:12:01.144166Z",
     "iopub.status.idle": "2021-04-27T14:12:01.164957Z",
     "shell.execute_reply": "2021-04-27T14:12:01.165478Z"
    },
    "id": "Gv4XIgVzJr0I",
    "outputId": "366ac90a-e0df-46ad-d1e8-58d7fd5b4b41",
    "papermill": {
     "duration": 0.066284,
     "end_time": "2021-04-27T14:12:01.165657",
     "exception": false,
     "start_time": "2021-04-27T14:12:01.099373",
     "status": "completed"
    },
    "tags": []
   },
   "outputs": [
    {
     "name": "stdout",
     "output_type": "stream",
     "text": [
      "<class 'pandas.core.frame.DataFrame'>\n",
      "RangeIndex: 303 entries, 0 to 302\n",
      "Data columns (total 14 columns):\n",
      " #   Column    Non-Null Count  Dtype  \n",
      "---  ------    --------------  -----  \n",
      " 0   age       303 non-null    int64  \n",
      " 1   sex       303 non-null    int64  \n",
      " 2   cp        303 non-null    int64  \n",
      " 3   trtbps    303 non-null    int64  \n",
      " 4   chol      303 non-null    int64  \n",
      " 5   fbs       303 non-null    int64  \n",
      " 6   restecg   303 non-null    int64  \n",
      " 7   thalachh  303 non-null    int64  \n",
      " 8   exng      303 non-null    int64  \n",
      " 9   oldpeak   303 non-null    float64\n",
      " 10  slp       303 non-null    int64  \n",
      " 11  caa       303 non-null    int64  \n",
      " 12  thall     303 non-null    int64  \n",
      " 13  output    303 non-null    int64  \n",
      "dtypes: float64(1), int64(13)\n",
      "memory usage: 33.3 KB\n"
     ]
    }
   ],
   "source": [
    "heart.info()"
   ]
  },
  {
   "cell_type": "code",
   "execution_count": 5,
   "id": "fewer-reaction",
   "metadata": {
    "execution": {
     "iopub.execute_input": "2021-04-27T14:12:01.254973Z",
     "iopub.status.busy": "2021-04-27T14:12:01.254324Z",
     "iopub.status.idle": "2021-04-27T14:12:01.264228Z",
     "shell.execute_reply": "2021-04-27T14:12:01.263625Z"
    },
    "id": "ugiLSywoJngq",
    "outputId": "f063fbaa-8394-4e76-ee07-2f0f8503cf94",
    "papermill": {
     "duration": 0.055258,
     "end_time": "2021-04-27T14:12:01.264380",
     "exception": false,
     "start_time": "2021-04-27T14:12:01.209122",
     "status": "completed"
    },
    "tags": []
   },
   "outputs": [
    {
     "data": {
      "text/html": [
       "<div>\n",
       "<style scoped>\n",
       "    .dataframe tbody tr th:only-of-type {\n",
       "        vertical-align: middle;\n",
       "    }\n",
       "\n",
       "    .dataframe tbody tr th {\n",
       "        vertical-align: top;\n",
       "    }\n",
       "\n",
       "    .dataframe thead th {\n",
       "        text-align: right;\n",
       "    }\n",
       "</style>\n",
       "<table border=\"1\" class=\"dataframe\">\n",
       "  <thead>\n",
       "    <tr style=\"text-align: right;\">\n",
       "      <th></th>\n",
       "      <th>98.6</th>\n",
       "    </tr>\n",
       "  </thead>\n",
       "  <tbody>\n",
       "    <tr>\n",
       "      <th>0</th>\n",
       "      <td>98.6</td>\n",
       "    </tr>\n",
       "    <tr>\n",
       "      <th>1</th>\n",
       "      <td>98.6</td>\n",
       "    </tr>\n",
       "    <tr>\n",
       "      <th>2</th>\n",
       "      <td>98.6</td>\n",
       "    </tr>\n",
       "    <tr>\n",
       "      <th>3</th>\n",
       "      <td>98.1</td>\n",
       "    </tr>\n",
       "    <tr>\n",
       "      <th>4</th>\n",
       "      <td>97.5</td>\n",
       "    </tr>\n",
       "  </tbody>\n",
       "</table>\n",
       "</div>"
      ],
      "text/plain": [
       "   98.6\n",
       "0  98.6\n",
       "1  98.6\n",
       "2  98.6\n",
       "3  98.1\n",
       "4  97.5"
      ]
     },
     "execution_count": 5,
     "metadata": {},
     "output_type": "execute_result"
    }
   ],
   "source": [
    "o2_sat.head()"
   ]
  },
  {
   "cell_type": "code",
   "execution_count": 6,
   "id": "painful-fashion",
   "metadata": {
    "execution": {
     "iopub.execute_input": "2021-04-27T14:12:01.364092Z",
     "iopub.status.busy": "2021-04-27T14:12:01.363318Z",
     "iopub.status.idle": "2021-04-27T14:12:01.367106Z",
     "shell.execute_reply": "2021-04-27T14:12:01.367636Z"
    },
    "id": "mKY2L3wlJpWU",
    "outputId": "d82d31d4-557d-435a-f3c3-5c25c87f680d",
    "papermill": {
     "duration": 0.060421,
     "end_time": "2021-04-27T14:12:01.367825",
     "exception": false,
     "start_time": "2021-04-27T14:12:01.307404",
     "status": "completed"
    },
    "tags": []
   },
   "outputs": [
    {
     "name": "stdout",
     "output_type": "stream",
     "text": [
      "<class 'pandas.core.frame.DataFrame'>\n",
      "RangeIndex: 3585 entries, 0 to 3584\n",
      "Data columns (total 1 columns):\n",
      " #   Column  Non-Null Count  Dtype  \n",
      "---  ------  --------------  -----  \n",
      " 0   98.6    3585 non-null   float64\n",
      "dtypes: float64(1)\n",
      "memory usage: 28.1 KB\n"
     ]
    }
   ],
   "source": [
    "o2_sat.info()"
   ]
  },
  {
   "cell_type": "markdown",
   "id": "heated-exception",
   "metadata": {
    "id": "HU4hDDJQPgDg",
    "papermill": {
     "duration": 0.043625,
     "end_time": "2021-04-27T14:12:01.455223",
     "exception": false,
     "start_time": "2021-04-27T14:12:01.411598",
     "status": "completed"
    },
    "tags": []
   },
   "source": [
    "A normal level of oxygen is usually 95% or higher. Some people with chronic lung disease or sleep apnea can have normal levels around 90%."
   ]
  },
  {
   "cell_type": "code",
   "execution_count": 7,
   "id": "planned-thomson",
   "metadata": {
    "execution": {
     "iopub.execute_input": "2021-04-27T14:12:01.547206Z",
     "iopub.status.busy": "2021-04-27T14:12:01.546528Z",
     "iopub.status.idle": "2021-04-27T14:12:01.828439Z",
     "shell.execute_reply": "2021-04-27T14:12:01.827916Z"
    },
    "id": "Ntb--wgDJyrY",
    "outputId": "58d4d341-ba94-4cf1-cb9b-77cdc27a238d",
    "papermill": {
     "duration": 0.329603,
     "end_time": "2021-04-27T14:12:01.828580",
     "exception": false,
     "start_time": "2021-04-27T14:12:01.498977",
     "status": "completed"
    },
    "tags": []
   },
   "outputs": [
    {
     "data": {
      "image/png": "[encoded data removed]",
      "text/plain": [
       "<Figure size 432x288 with 1 Axes>"
      ]
     },
     "metadata": {},
     "output_type": "display_data"
    }
   ],
   "source": [
    "o2_sat.hist()\n",
    "plt.title('Oxigen saturation values')\n",
    "plt.show()"
   ]
  },
  {
   "cell_type": "code",
   "execution_count": 8,
   "id": "major-hospital",
   "metadata": {
    "execution": {
     "iopub.execute_input": "2021-04-27T14:12:01.929903Z",
     "iopub.status.busy": "2021-04-27T14:12:01.923646Z",
     "iopub.status.idle": "2021-04-27T14:12:01.934460Z",
     "shell.execute_reply": "2021-04-27T14:12:01.934943Z"
    },
    "id": "Zm-LjjRiPmzF",
    "outputId": "636caa4a-dbda-451e-d429-71e826838f97",
    "papermill": {
     "duration": 0.061183,
     "end_time": "2021-04-27T14:12:01.935219",
     "exception": false,
     "start_time": "2021-04-27T14:12:01.874036",
     "status": "completed"
    },
    "tags": []
   },
   "outputs": [
    {
     "data": {
      "text/plain": [
       "98.6\n",
       "98.6    1661\n",
       "97.5     704\n",
       "97.6     579\n",
       "99.6     359\n",
       "96.5     104\n",
       "98.2      32\n",
       "98.0      29\n",
       "97.9      25\n",
       "98.1      23\n",
       "99.3      21\n",
       "98.8      13\n",
       "97.1       9\n",
       "97.0       9\n",
       "98.9       8\n",
       "96.9       5\n",
       "97.2       3\n",
       "98.3       1\n",
       "dtype: int64"
      ]
     },
     "execution_count": 8,
     "metadata": {},
     "output_type": "execute_result"
    }
   ],
   "source": [
    "o2_sat.value_counts()"
   ]
  },
  {
   "cell_type": "markdown",
   "id": "selected-council",
   "metadata": {
    "id": "1Zu4yEGlP_hp",
    "papermill": {
     "duration": 0.044808,
     "end_time": "2021-04-27T14:12:02.025171",
     "exception": false,
     "start_time": "2021-04-27T14:12:01.980363",
     "status": "completed"
    },
    "tags": []
   },
   "source": [
    "We can see, that oxygen saturation tab consist of normal values of oxigen in blood. We will work only with `heart`-set further. \n",
    "\n",
    "Let check duplicates"
   ]
  },
  {
   "cell_type": "code",
   "execution_count": 9,
   "id": "metallic-pillow",
   "metadata": {
    "execution": {
     "iopub.execute_input": "2021-04-27T14:12:02.123133Z",
     "iopub.status.busy": "2021-04-27T14:12:02.121117Z",
     "iopub.status.idle": "2021-04-27T14:12:02.127787Z",
     "shell.execute_reply": "2021-04-27T14:12:02.128329Z"
    },
    "id": "_rKbzkM0QvS7",
    "outputId": "b6e8bf87-8682-420d-f604-94fe7979cacf",
    "papermill": {
     "duration": 0.058211,
     "end_time": "2021-04-27T14:12:02.128510",
     "exception": false,
     "start_time": "2021-04-27T14:12:02.070299",
     "status": "completed"
    },
    "tags": []
   },
   "outputs": [
    {
     "data": {
      "text/plain": [
       "1"
      ]
     },
     "execution_count": 9,
     "metadata": {},
     "output_type": "execute_result"
    }
   ],
   "source": [
    "heart.duplicated().sum()"
   ]
  },
  {
   "cell_type": "markdown",
   "id": "diagnostic-cruise",
   "metadata": {
    "id": "DSM_8NVTc9iO",
    "papermill": {
     "duration": 0.044991,
     "end_time": "2021-04-27T14:12:02.220277",
     "exception": false,
     "start_time": "2021-04-27T14:12:02.175286",
     "status": "completed"
    },
    "tags": []
   },
   "source": [
    "We have the only one duplicated object here - we can drop it"
   ]
  },
  {
   "cell_type": "code",
   "execution_count": 10,
   "id": "specified-sleeping",
   "metadata": {
    "execution": {
     "iopub.execute_input": "2021-04-27T14:12:02.319507Z",
     "iopub.status.busy": "2021-04-27T14:12:02.318481Z",
     "iopub.status.idle": "2021-04-27T14:12:02.325395Z",
     "shell.execute_reply": "2021-04-27T14:12:02.324728Z"
    },
    "id": "pLPnQ83NQ-4a",
    "papermill": {
     "duration": 0.058507,
     "end_time": "2021-04-27T14:12:02.325530",
     "exception": false,
     "start_time": "2021-04-27T14:12:02.267023",
     "status": "completed"
    },
    "tags": []
   },
   "outputs": [],
   "source": [
    "df = heart.drop_duplicates().reset_index(drop=True).copy()"
   ]
  },
  {
   "cell_type": "code",
   "execution_count": 11,
   "id": "wanted-native",
   "metadata": {
    "execution": {
     "iopub.execute_input": "2021-04-27T14:12:02.430710Z",
     "iopub.status.busy": "2021-04-27T14:12:02.429791Z",
     "iopub.status.idle": "2021-04-27T14:12:02.434470Z",
     "shell.execute_reply": "2021-04-27T14:12:02.433830Z"
    },
    "id": "P2vJ7rF5RVv4",
    "outputId": "7e48c8b9-fedb-43f4-e03e-7563038b9e3c",
    "papermill": {
     "duration": 0.063562,
     "end_time": "2021-04-27T14:12:02.434620",
     "exception": false,
     "start_time": "2021-04-27T14:12:02.371058",
     "status": "completed"
    },
    "tags": []
   },
   "outputs": [
    {
     "name": "stdout",
     "output_type": "stream",
     "text": [
      "<class 'pandas.core.frame.DataFrame'>\n",
      "RangeIndex: 302 entries, 0 to 301\n",
      "Data columns (total 14 columns):\n",
      " #   Column    Non-Null Count  Dtype  \n",
      "---  ------    --------------  -----  \n",
      " 0   age       302 non-null    int64  \n",
      " 1   sex       302 non-null    int64  \n",
      " 2   cp        302 non-null    int64  \n",
      " 3   trtbps    302 non-null    int64  \n",
      " 4   chol      302 non-null    int64  \n",
      " 5   fbs       302 non-null    int64  \n",
      " 6   restecg   302 non-null    int64  \n",
      " 7   thalachh  302 non-null    int64  \n",
      " 8   exng      302 non-null    int64  \n",
      " 9   oldpeak   302 non-null    float64\n",
      " 10  slp       302 non-null    int64  \n",
      " 11  caa       302 non-null    int64  \n",
      " 12  thall     302 non-null    int64  \n",
      " 13  output    302 non-null    int64  \n",
      "dtypes: float64(1), int64(13)\n",
      "memory usage: 33.2 KB\n"
     ]
    }
   ],
   "source": [
    "df.info()"
   ]
  },
  {
   "cell_type": "code",
   "execution_count": 12,
   "id": "seasonal-sacramento",
   "metadata": {
    "execution": {
     "iopub.execute_input": "2021-04-27T14:12:02.535669Z",
     "iopub.status.busy": "2021-04-27T14:12:02.535014Z",
     "iopub.status.idle": "2021-04-27T14:12:02.587265Z",
     "shell.execute_reply": "2021-04-27T14:12:02.587716Z"
    },
    "id": "1h_4p8ZzRnQG",
    "outputId": "0de5be3a-f54c-472f-80f7-f8755c6567a4",
    "papermill": {
     "duration": 0.10723,
     "end_time": "2021-04-27T14:12:02.587905",
     "exception": false,
     "start_time": "2021-04-27T14:12:02.480675",
     "status": "completed"
    },
    "tags": []
   },
   "outputs": [
    {
     "data": {
      "text/html": [
       "<div>\n",
       "<style scoped>\n",
       "    .dataframe tbody tr th:only-of-type {\n",
       "        vertical-align: middle;\n",
       "    }\n",
       "\n",
       "    .dataframe tbody tr th {\n",
       "        vertical-align: top;\n",
       "    }\n",
       "\n",
       "    .dataframe thead th {\n",
       "        text-align: right;\n",
       "    }\n",
       "</style>\n",
       "<table border=\"1\" class=\"dataframe\">\n",
       "  <thead>\n",
       "    <tr style=\"text-align: right;\">\n",
       "      <th></th>\n",
       "      <th>count</th>\n",
       "      <th>mean</th>\n",
       "      <th>std</th>\n",
       "      <th>min</th>\n",
       "      <th>25%</th>\n",
       "      <th>50%</th>\n",
       "      <th>75%</th>\n",
       "      <th>max</th>\n",
       "    </tr>\n",
       "  </thead>\n",
       "  <tbody>\n",
       "    <tr>\n",
       "      <th>age</th>\n",
       "      <td>302.0</td>\n",
       "      <td>54.420530</td>\n",
       "      <td>9.047970</td>\n",
       "      <td>29.0</td>\n",
       "      <td>48.00</td>\n",
       "      <td>55.5</td>\n",
       "      <td>61.00</td>\n",
       "      <td>77.0</td>\n",
       "    </tr>\n",
       "    <tr>\n",
       "      <th>sex</th>\n",
       "      <td>302.0</td>\n",
       "      <td>0.682119</td>\n",
       "      <td>0.466426</td>\n",
       "      <td>0.0</td>\n",
       "      <td>0.00</td>\n",
       "      <td>1.0</td>\n",
       "      <td>1.00</td>\n",
       "      <td>1.0</td>\n",
       "    </tr>\n",
       "    <tr>\n",
       "      <th>cp</th>\n",
       "      <td>302.0</td>\n",
       "      <td>0.963576</td>\n",
       "      <td>1.032044</td>\n",
       "      <td>0.0</td>\n",
       "      <td>0.00</td>\n",
       "      <td>1.0</td>\n",
       "      <td>2.00</td>\n",
       "      <td>3.0</td>\n",
       "    </tr>\n",
       "    <tr>\n",
       "      <th>trtbps</th>\n",
       "      <td>302.0</td>\n",
       "      <td>131.602649</td>\n",
       "      <td>17.563394</td>\n",
       "      <td>94.0</td>\n",
       "      <td>120.00</td>\n",
       "      <td>130.0</td>\n",
       "      <td>140.00</td>\n",
       "      <td>200.0</td>\n",
       "    </tr>\n",
       "    <tr>\n",
       "      <th>chol</th>\n",
       "      <td>302.0</td>\n",
       "      <td>246.500000</td>\n",
       "      <td>51.753489</td>\n",
       "      <td>126.0</td>\n",
       "      <td>211.00</td>\n",
       "      <td>240.5</td>\n",
       "      <td>274.75</td>\n",
       "      <td>564.0</td>\n",
       "    </tr>\n",
       "    <tr>\n",
       "      <th>fbs</th>\n",
       "      <td>302.0</td>\n",
       "      <td>0.149007</td>\n",
       "      <td>0.356686</td>\n",
       "      <td>0.0</td>\n",
       "      <td>0.00</td>\n",
       "      <td>0.0</td>\n",
       "      <td>0.00</td>\n",
       "      <td>1.0</td>\n",
       "    </tr>\n",
       "    <tr>\n",
       "      <th>restecg</th>\n",
       "      <td>302.0</td>\n",
       "      <td>0.526490</td>\n",
       "      <td>0.526027</td>\n",
       "      <td>0.0</td>\n",
       "      <td>0.00</td>\n",
       "      <td>1.0</td>\n",
       "      <td>1.00</td>\n",
       "      <td>2.0</td>\n",
       "    </tr>\n",
       "    <tr>\n",
       "      <th>thalachh</th>\n",
       "      <td>302.0</td>\n",
       "      <td>149.569536</td>\n",
       "      <td>22.903527</td>\n",
       "      <td>71.0</td>\n",
       "      <td>133.25</td>\n",
       "      <td>152.5</td>\n",
       "      <td>166.00</td>\n",
       "      <td>202.0</td>\n",
       "    </tr>\n",
       "    <tr>\n",
       "      <th>exng</th>\n",
       "      <td>302.0</td>\n",
       "      <td>0.327815</td>\n",
       "      <td>0.470196</td>\n",
       "      <td>0.0</td>\n",
       "      <td>0.00</td>\n",
       "      <td>0.0</td>\n",
       "      <td>1.00</td>\n",
       "      <td>1.0</td>\n",
       "    </tr>\n",
       "    <tr>\n",
       "      <th>oldpeak</th>\n",
       "      <td>302.0</td>\n",
       "      <td>1.043046</td>\n",
       "      <td>1.161452</td>\n",
       "      <td>0.0</td>\n",
       "      <td>0.00</td>\n",
       "      <td>0.8</td>\n",
       "      <td>1.60</td>\n",
       "      <td>6.2</td>\n",
       "    </tr>\n",
       "    <tr>\n",
       "      <th>slp</th>\n",
       "      <td>302.0</td>\n",
       "      <td>1.397351</td>\n",
       "      <td>0.616274</td>\n",
       "      <td>0.0</td>\n",
       "      <td>1.00</td>\n",
       "      <td>1.0</td>\n",
       "      <td>2.00</td>\n",
       "      <td>2.0</td>\n",
       "    </tr>\n",
       "    <tr>\n",
       "      <th>caa</th>\n",
       "      <td>302.0</td>\n",
       "      <td>0.718543</td>\n",
       "      <td>1.006748</td>\n",
       "      <td>0.0</td>\n",
       "      <td>0.00</td>\n",
       "      <td>0.0</td>\n",
       "      <td>1.00</td>\n",
       "      <td>4.0</td>\n",
       "    </tr>\n",
       "    <tr>\n",
       "      <th>thall</th>\n",
       "      <td>302.0</td>\n",
       "      <td>2.314570</td>\n",
       "      <td>0.613026</td>\n",
       "      <td>0.0</td>\n",
       "      <td>2.00</td>\n",
       "      <td>2.0</td>\n",
       "      <td>3.00</td>\n",
       "      <td>3.0</td>\n",
       "    </tr>\n",
       "    <tr>\n",
       "      <th>output</th>\n",
       "      <td>302.0</td>\n",
       "      <td>0.543046</td>\n",
       "      <td>0.498970</td>\n",
       "      <td>0.0</td>\n",
       "      <td>0.00</td>\n",
       "      <td>1.0</td>\n",
       "      <td>1.00</td>\n",
       "      <td>1.0</td>\n",
       "    </tr>\n",
       "  </tbody>\n",
       "</table>\n",
       "</div>"
      ],
      "text/plain": [
       "          count        mean        std    min     25%    50%     75%    max\n",
       "age       302.0   54.420530   9.047970   29.0   48.00   55.5   61.00   77.0\n",
       "sex       302.0    0.682119   0.466426    0.0    0.00    1.0    1.00    1.0\n",
       "cp        302.0    0.963576   1.032044    0.0    0.00    1.0    2.00    3.0\n",
       "trtbps    302.0  131.602649  17.563394   94.0  120.00  130.0  140.00  200.0\n",
       "chol      302.0  246.500000  51.753489  126.0  211.00  240.5  274.75  564.0\n",
       "fbs       302.0    0.149007   0.356686    0.0    0.00    0.0    0.00    1.0\n",
       "restecg   302.0    0.526490   0.526027    0.0    0.00    1.0    1.00    2.0\n",
       "thalachh  302.0  149.569536  22.903527   71.0  133.25  152.5  166.00  202.0\n",
       "exng      302.0    0.327815   0.470196    0.0    0.00    0.0    1.00    1.0\n",
       "oldpeak   302.0    1.043046   1.161452    0.0    0.00    0.8    1.60    6.2\n",
       "slp       302.0    1.397351   0.616274    0.0    1.00    1.0    2.00    2.0\n",
       "caa       302.0    0.718543   1.006748    0.0    0.00    0.0    1.00    4.0\n",
       "thall     302.0    2.314570   0.613026    0.0    2.00    2.0    3.00    3.0\n",
       "output    302.0    0.543046   0.498970    0.0    0.00    1.0    1.00    1.0"
      ]
     },
     "execution_count": 12,
     "metadata": {},
     "output_type": "execute_result"
    }
   ],
   "source": [
    "df.describe().T"
   ]
  },
  {
   "cell_type": "markdown",
   "id": "developing-aluminum",
   "metadata": {
    "id": "rxJ_SJfjRp_7",
    "papermill": {
     "duration": 0.046567,
     "end_time": "2021-04-27T14:12:02.682020",
     "exception": false,
     "start_time": "2021-04-27T14:12:02.635453",
     "status": "completed"
    },
    "tags": []
   },
   "source": [
    "### Conclusion\n",
    "\n",
    "\n",
    "At first glance, we do not see anomalies in the data. There are no missing values, duplicates are removed. There is no need to convert data to other types. Let's get started with exploratory data analysis. But before that let us devide set to train and test and hide our test data to prevent data snooping bias"
   ]
  },
  {
   "cell_type": "markdown",
   "id": "regular-synthetic",
   "metadata": {
    "id": "btDZdbCMXgnF",
    "papermill": {
     "duration": 0.046122,
     "end_time": "2021-04-27T14:12:02.774709",
     "exception": false,
     "start_time": "2021-04-27T14:12:02.728587",
     "status": "completed"
    },
    "tags": []
   },
   "source": [
    "## Dividing data"
   ]
  },
  {
   "cell_type": "markdown",
   "id": "honest-acoustic",
   "metadata": {
    "id": "Hw1Na5MDZwc6",
    "papermill": {
     "duration": 0.046369,
     "end_time": "2021-04-27T14:12:02.868174",
     "exception": false,
     "start_time": "2021-04-27T14:12:02.821805",
     "status": "completed"
    },
    "tags": []
   },
   "source": [
    "For dividing data we will use `train_test_split` from `scikit-Learn` library. Or we can use pandas method `sample()` with frac and random state.\n",
    "\n",
    "\n",
    "PS. you can do it also in this way:\n",
    "\n",
    "`train = df.sample(frac=0.8,random_state=42).copy()`. \n",
    "\n",
    "`test = df[~df.index.isin(train.index)].copy()`\n",
    "\n",
    "\n",
    "we will work with `scikit-Learn`\n"
   ]
  },
  {
   "cell_type": "code",
   "execution_count": 13,
   "id": "major-evaluation",
   "metadata": {
    "execution": {
     "iopub.execute_input": "2021-04-27T14:12:02.965928Z",
     "iopub.status.busy": "2021-04-27T14:12:02.965257Z",
     "iopub.status.idle": "2021-04-27T14:12:02.971277Z",
     "shell.execute_reply": "2021-04-27T14:12:02.971726Z"
    },
    "id": "yXdkfv9aXwuF",
    "papermill": {
     "duration": 0.056434,
     "end_time": "2021-04-27T14:12:02.971918",
     "exception": false,
     "start_time": "2021-04-27T14:12:02.915484",
     "status": "completed"
    },
    "tags": []
   },
   "outputs": [],
   "source": [
    "train_set, test_set = train_test_split(df, test_size=0.2, random_state=42)"
   ]
  },
  {
   "cell_type": "markdown",
   "id": "provincial-aerospace",
   "metadata": {
    "id": "vRPLFgHidR9C",
    "papermill": {
     "duration": 0.046922,
     "end_time": "2021-04-27T14:12:03.066433",
     "exception": false,
     "start_time": "2021-04-27T14:12:03.019511",
     "status": "completed"
    },
    "tags": []
   },
   "source": [
    "Check the lens"
   ]
  },
  {
   "cell_type": "code",
   "execution_count": 14,
   "id": "several-observer",
   "metadata": {
    "execution": {
     "iopub.execute_input": "2021-04-27T14:12:03.165647Z",
     "iopub.status.busy": "2021-04-27T14:12:03.165052Z",
     "iopub.status.idle": "2021-04-27T14:12:03.168966Z",
     "shell.execute_reply": "2021-04-27T14:12:03.169403Z"
    },
    "id": "FMI6krGKYR-z",
    "outputId": "73789771-3ba7-4481-eaed-c349e0866a24",
    "papermill": {
     "duration": 0.056092,
     "end_time": "2021-04-27T14:12:03.169568",
     "exception": false,
     "start_time": "2021-04-27T14:12:03.113476",
     "status": "completed"
    },
    "tags": []
   },
   "outputs": [
    {
     "data": {
      "text/plain": [
       "241"
      ]
     },
     "execution_count": 14,
     "metadata": {},
     "output_type": "execute_result"
    }
   ],
   "source": [
    "len(train_set)"
   ]
  },
  {
   "cell_type": "code",
   "execution_count": 15,
   "id": "incoming-warner",
   "metadata": {
    "execution": {
     "iopub.execute_input": "2021-04-27T14:12:03.269922Z",
     "iopub.status.busy": "2021-04-27T14:12:03.268974Z",
     "iopub.status.idle": "2021-04-27T14:12:03.273337Z",
     "shell.execute_reply": "2021-04-27T14:12:03.272699Z"
    },
    "id": "9d9mQT3JYV53",
    "outputId": "3d0db9c2-97d8-4ea8-a3cc-7ded78cf1c98",
    "papermill": {
     "duration": 0.056512,
     "end_time": "2021-04-27T14:12:03.273475",
     "exception": false,
     "start_time": "2021-04-27T14:12:03.216963",
     "status": "completed"
    },
    "tags": []
   },
   "outputs": [
    {
     "data": {
      "text/plain": [
       "61"
      ]
     },
     "execution_count": 15,
     "metadata": {},
     "output_type": "execute_result"
    }
   ],
   "source": [
    "len(test_set)"
   ]
  },
  {
   "cell_type": "code",
   "execution_count": 16,
   "id": "prospective-drinking",
   "metadata": {
    "execution": {
     "iopub.execute_input": "2021-04-27T14:12:03.372850Z",
     "iopub.status.busy": "2021-04-27T14:12:03.371885Z",
     "iopub.status.idle": "2021-04-27T14:12:03.377286Z",
     "shell.execute_reply": "2021-04-27T14:12:03.377718Z"
    },
    "id": "YO_oLdU7YZoA",
    "outputId": "12f7f2bc-f290-4f62-b095-0903dd64b259",
    "papermill": {
     "duration": 0.056877,
     "end_time": "2021-04-27T14:12:03.377897",
     "exception": false,
     "start_time": "2021-04-27T14:12:03.321020",
     "status": "completed"
    },
    "tags": []
   },
   "outputs": [
    {
     "data": {
      "text/plain": [
       "True"
      ]
     },
     "execution_count": 16,
     "metadata": {},
     "output_type": "execute_result"
    }
   ],
   "source": [
    "len(train_set) + len(test_set) == len(df)"
   ]
  },
  {
   "cell_type": "markdown",
   "id": "robust-elizabeth",
   "metadata": {
    "id": "DjriIAkXYg9y",
    "papermill": {
     "duration": 0.048204,
     "end_time": "2021-04-27T14:12:03.474017",
     "exception": false,
     "start_time": "2021-04-27T14:12:03.425813",
     "status": "completed"
    },
    "tags": []
   },
   "source": [
    "In my opinion iti is better to hide test now, before EDA - we have no NaN, we have no duplicates - in this case i decided to hide test to prevent snooping bias.  \n",
    "Now we have to sets - train for our model and test\n"
   ]
  },
  {
   "cell_type": "markdown",
   "id": "scenic-addition",
   "metadata": {
    "id": "Y9_wwLZHTI71",
    "papermill": {
     "duration": 0.04803,
     "end_time": "2021-04-27T14:12:03.570446",
     "exception": false,
     "start_time": "2021-04-27T14:12:03.522416",
     "status": "completed"
    },
    "tags": []
   },
   "source": [
    "## Exploratory data analysis"
   ]
  },
  {
   "cell_type": "code",
   "execution_count": 17,
   "id": "editorial-accordance",
   "metadata": {
    "execution": {
     "iopub.execute_input": "2021-04-27T14:12:03.670864Z",
     "iopub.status.busy": "2021-04-27T14:12:03.669904Z",
     "iopub.status.idle": "2021-04-27T14:12:03.685566Z",
     "shell.execute_reply": "2021-04-27T14:12:03.685059Z"
    },
    "id": "UvNfIOUpiwz8",
    "outputId": "ed0c6c8a-de2f-4174-a353-7f542faab7fd",
    "papermill": {
     "duration": 0.066866,
     "end_time": "2021-04-27T14:12:03.685705",
     "exception": false,
     "start_time": "2021-04-27T14:12:03.618839",
     "status": "completed"
    },
    "tags": []
   },
   "outputs": [
    {
     "data": {
      "text/html": [
       "<div>\n",
       "<style scoped>\n",
       "    .dataframe tbody tr th:only-of-type {\n",
       "        vertical-align: middle;\n",
       "    }\n",
       "\n",
       "    .dataframe tbody tr th {\n",
       "        vertical-align: top;\n",
       "    }\n",
       "\n",
       "    .dataframe thead th {\n",
       "        text-align: right;\n",
       "    }\n",
       "</style>\n",
       "<table border=\"1\" class=\"dataframe\">\n",
       "  <thead>\n",
       "    <tr style=\"text-align: right;\">\n",
       "      <th></th>\n",
       "      <th>age</th>\n",
       "      <th>sex</th>\n",
       "      <th>cp</th>\n",
       "      <th>trtbps</th>\n",
       "      <th>chol</th>\n",
       "      <th>fbs</th>\n",
       "      <th>restecg</th>\n",
       "      <th>thalachh</th>\n",
       "      <th>exng</th>\n",
       "      <th>oldpeak</th>\n",
       "      <th>slp</th>\n",
       "      <th>caa</th>\n",
       "      <th>thall</th>\n",
       "      <th>output</th>\n",
       "    </tr>\n",
       "  </thead>\n",
       "  <tbody>\n",
       "    <tr>\n",
       "      <th>132</th>\n",
       "      <td>42</td>\n",
       "      <td>1</td>\n",
       "      <td>1</td>\n",
       "      <td>120</td>\n",
       "      <td>295</td>\n",
       "      <td>0</td>\n",
       "      <td>1</td>\n",
       "      <td>162</td>\n",
       "      <td>0</td>\n",
       "      <td>0.0</td>\n",
       "      <td>2</td>\n",
       "      <td>0</td>\n",
       "      <td>2</td>\n",
       "      <td>1</td>\n",
       "    </tr>\n",
       "    <tr>\n",
       "      <th>202</th>\n",
       "      <td>68</td>\n",
       "      <td>1</td>\n",
       "      <td>2</td>\n",
       "      <td>180</td>\n",
       "      <td>274</td>\n",
       "      <td>1</td>\n",
       "      <td>0</td>\n",
       "      <td>150</td>\n",
       "      <td>1</td>\n",
       "      <td>1.6</td>\n",
       "      <td>1</td>\n",
       "      <td>0</td>\n",
       "      <td>3</td>\n",
       "      <td>0</td>\n",
       "    </tr>\n",
       "    <tr>\n",
       "      <th>196</th>\n",
       "      <td>67</td>\n",
       "      <td>1</td>\n",
       "      <td>0</td>\n",
       "      <td>125</td>\n",
       "      <td>254</td>\n",
       "      <td>1</td>\n",
       "      <td>1</td>\n",
       "      <td>163</td>\n",
       "      <td>0</td>\n",
       "      <td>0.2</td>\n",
       "      <td>1</td>\n",
       "      <td>2</td>\n",
       "      <td>3</td>\n",
       "      <td>0</td>\n",
       "    </tr>\n",
       "    <tr>\n",
       "      <th>75</th>\n",
       "      <td>55</td>\n",
       "      <td>0</td>\n",
       "      <td>1</td>\n",
       "      <td>135</td>\n",
       "      <td>250</td>\n",
       "      <td>0</td>\n",
       "      <td>0</td>\n",
       "      <td>161</td>\n",
       "      <td>0</td>\n",
       "      <td>1.4</td>\n",
       "      <td>1</td>\n",
       "      <td>0</td>\n",
       "      <td>2</td>\n",
       "      <td>1</td>\n",
       "    </tr>\n",
       "    <tr>\n",
       "      <th>176</th>\n",
       "      <td>64</td>\n",
       "      <td>1</td>\n",
       "      <td>2</td>\n",
       "      <td>140</td>\n",
       "      <td>335</td>\n",
       "      <td>0</td>\n",
       "      <td>1</td>\n",
       "      <td>158</td>\n",
       "      <td>0</td>\n",
       "      <td>0.0</td>\n",
       "      <td>2</td>\n",
       "      <td>0</td>\n",
       "      <td>2</td>\n",
       "      <td>0</td>\n",
       "    </tr>\n",
       "  </tbody>\n",
       "</table>\n",
       "</div>"
      ],
      "text/plain": [
       "     age  sex  cp  trtbps  chol  fbs  restecg  thalachh  exng  oldpeak  slp  \\\n",
       "132   42    1   1     120   295    0        1       162     0      0.0    2   \n",
       "202   68    1   2     180   274    1        0       150     1      1.6    1   \n",
       "196   67    1   0     125   254    1        1       163     0      0.2    1   \n",
       "75    55    0   1     135   250    0        0       161     0      1.4    1   \n",
       "176   64    1   2     140   335    0        1       158     0      0.0    2   \n",
       "\n",
       "     caa  thall  output  \n",
       "132    0      2       1  \n",
       "202    0      3       0  \n",
       "196    2      3       0  \n",
       "75     0      2       1  \n",
       "176    0      2       0  "
      ]
     },
     "execution_count": 17,
     "metadata": {},
     "output_type": "execute_result"
    }
   ],
   "source": [
    "train_set.head()"
   ]
  },
  {
   "cell_type": "markdown",
   "id": "residential-specialist",
   "metadata": {
    "id": "W6vK5R-yZSVI",
    "papermill": {
     "duration": 0.049224,
     "end_time": "2021-04-27T14:12:03.784457",
     "exception": false,
     "start_time": "2021-04-27T14:12:03.735233",
     "status": "completed"
    },
    "tags": []
   },
   "source": [
    "Let us plot hist of featires to see all values, that we have\n"
   ]
  },
  {
   "cell_type": "code",
   "execution_count": 18,
   "id": "electronic-engagement",
   "metadata": {
    "execution": {
     "iopub.execute_input": "2021-04-27T14:12:03.900427Z",
     "iopub.status.busy": "2021-04-27T14:12:03.899294Z",
     "iopub.status.idle": "2021-04-27T14:12:07.723616Z",
     "shell.execute_reply": "2021-04-27T14:12:07.724164Z"
    },
    "id": "G8ESaPCDYz6o",
    "outputId": "fa8a8057-c891-42ed-a3a1-31a299cd55d8",
    "papermill": {
     "duration": 3.890389,
     "end_time": "2021-04-27T14:12:07.724340",
     "exception": false,
     "start_time": "2021-04-27T14:12:03.833951",
     "status": "completed"
    },
    "tags": []
   },
   "outputs": [
    {
     "data": {
      "image/png": "[encoded data removed]",
      "text/plain": [
       "<Figure size 1440x1080 with 16 Axes>"
      ]
     },
     "metadata": {},
     "output_type": "display_data"
    }
   ],
   "source": [
    "train_set.hist(bins=50, figsize=(20,15), edgecolor='black', linewidth=2)\n",
    "plt.show()"
   ]
  },
  {
   "cell_type": "markdown",
   "id": "regulation-integrity",
   "metadata": {
    "id": "KYQNyHvMW0hk",
    "papermill": {
     "duration": 0.052728,
     "end_time": "2021-04-27T14:12:07.829874",
     "exception": false,
     "start_time": "2021-04-27T14:12:07.777146",
     "status": "completed"
    },
    "tags": []
   },
   "source": [
    "We have `age` feature with many values. It is"
   ]
  },
  {
   "cell_type": "code",
   "execution_count": 19,
   "id": "adjusted-resident",
   "metadata": {
    "execution": {
     "iopub.execute_input": "2021-04-27T14:12:07.941041Z",
     "iopub.status.busy": "2021-04-27T14:12:07.940383Z",
     "iopub.status.idle": "2021-04-27T14:12:08.131898Z",
     "shell.execute_reply": "2021-04-27T14:12:08.132393Z"
    },
    "id": "nrU8f2Spaf3C",
    "papermill": {
     "duration": 0.249608,
     "end_time": "2021-04-27T14:12:08.132585",
     "exception": false,
     "start_time": "2021-04-27T14:12:07.882977",
     "status": "completed"
    },
    "tags": []
   },
   "outputs": [],
   "source": [
    "train_set['age_group'] = pd.qcut(train_set['age'], 5)"
   ]
  },
  {
   "cell_type": "code",
   "execution_count": 20,
   "id": "radio-garlic",
   "metadata": {
    "execution": {
     "iopub.execute_input": "2021-04-27T14:12:08.241131Z",
     "iopub.status.busy": "2021-04-27T14:12:08.240347Z",
     "iopub.status.idle": "2021-04-27T14:12:08.254242Z",
     "shell.execute_reply": "2021-04-27T14:12:08.254693Z"
    },
    "id": "oFfblchsayM8",
    "outputId": "adad2aa3-7896-4bd1-dbd6-18e94007cdfc",
    "papermill": {
     "duration": 0.069353,
     "end_time": "2021-04-27T14:12:08.254890",
     "exception": false,
     "start_time": "2021-04-27T14:12:08.185537",
     "status": "completed"
    },
    "tags": []
   },
   "outputs": [
    {
     "data": {
      "text/html": [
       "<div>\n",
       "<style scoped>\n",
       "    .dataframe tbody tr th:only-of-type {\n",
       "        vertical-align: middle;\n",
       "    }\n",
       "\n",
       "    .dataframe tbody tr th {\n",
       "        vertical-align: top;\n",
       "    }\n",
       "\n",
       "    .dataframe thead th {\n",
       "        text-align: right;\n",
       "    }\n",
       "</style>\n",
       "<table border=\"1\" class=\"dataframe\">\n",
       "  <thead>\n",
       "    <tr style=\"text-align: right;\">\n",
       "      <th></th>\n",
       "      <th>count</th>\n",
       "      <th>mean</th>\n",
       "    </tr>\n",
       "    <tr>\n",
       "      <th>age_group</th>\n",
       "      <th></th>\n",
       "      <th></th>\n",
       "    </tr>\n",
       "  </thead>\n",
       "  <tbody>\n",
       "    <tr>\n",
       "      <th>(28.999, 45.0]</th>\n",
       "      <td>51</td>\n",
       "      <td>0.745098</td>\n",
       "    </tr>\n",
       "    <tr>\n",
       "      <th>(45.0, 53.0]</th>\n",
       "      <td>49</td>\n",
       "      <td>0.653061</td>\n",
       "    </tr>\n",
       "    <tr>\n",
       "      <th>(62.0, 77.0]</th>\n",
       "      <td>48</td>\n",
       "      <td>0.520833</td>\n",
       "    </tr>\n",
       "    <tr>\n",
       "      <th>(53.0, 58.0]</th>\n",
       "      <td>60</td>\n",
       "      <td>0.466667</td>\n",
       "    </tr>\n",
       "    <tr>\n",
       "      <th>(58.0, 62.0]</th>\n",
       "      <td>33</td>\n",
       "      <td>0.272727</td>\n",
       "    </tr>\n",
       "  </tbody>\n",
       "</table>\n",
       "</div>"
      ],
      "text/plain": [
       "                count      mean\n",
       "age_group                      \n",
       "(28.999, 45.0]     51  0.745098\n",
       "(45.0, 53.0]       49  0.653061\n",
       "(62.0, 77.0]       48  0.520833\n",
       "(53.0, 58.0]       60  0.466667\n",
       "(58.0, 62.0]       33  0.272727"
      ]
     },
     "execution_count": 20,
     "metadata": {},
     "output_type": "execute_result"
    }
   ],
   "source": [
    "train_set.groupby('age_group')['output'].agg(['count', 'mean']).sort_values(by='mean', ascending=False)"
   ]
  },
  {
   "cell_type": "markdown",
   "id": "dying-australia",
   "metadata": {
    "id": "-LiIDSv7djxf",
    "papermill": {
     "duration": 0.052792,
     "end_time": "2021-04-27T14:12:08.359532",
     "exception": false,
     "start_time": "2021-04-27T14:12:08.306740",
     "status": "completed"
    },
    "tags": []
   },
   "source": [
    "We see, that the highest amount of heart attack is in group of 29-44 years old. maybe it is due to irregular work, stress, poor nutrition, and the abuse of fast food smkoing and etc - a pretty young disease.  \n",
    "\n",
    "let us group by sex and age"
   ]
  },
  {
   "cell_type": "code",
   "execution_count": 21,
   "id": "corresponding-probe",
   "metadata": {
    "execution": {
     "iopub.execute_input": "2021-04-27T14:12:08.468170Z",
     "iopub.status.busy": "2021-04-27T14:12:08.467517Z",
     "iopub.status.idle": "2021-04-27T14:12:08.492543Z",
     "shell.execute_reply": "2021-04-27T14:12:08.493057Z"
    },
    "id": "tEw5Wfsvazau",
    "outputId": "0076d27e-70fc-454e-d8b5-74beb3b071fc",
    "papermill": {
     "duration": 0.081066,
     "end_time": "2021-04-27T14:12:08.493240",
     "exception": false,
     "start_time": "2021-04-27T14:12:08.412174",
     "status": "completed"
    },
    "tags": []
   },
   "outputs": [
    {
     "data": {
      "text/html": [
       "<div>\n",
       "<style scoped>\n",
       "    .dataframe tbody tr th:only-of-type {\n",
       "        vertical-align: middle;\n",
       "    }\n",
       "\n",
       "    .dataframe tbody tr th {\n",
       "        vertical-align: top;\n",
       "    }\n",
       "\n",
       "    .dataframe thead th {\n",
       "        text-align: right;\n",
       "    }\n",
       "</style>\n",
       "<table border=\"1\" class=\"dataframe\">\n",
       "  <thead>\n",
       "    <tr style=\"text-align: right;\">\n",
       "      <th></th>\n",
       "      <th></th>\n",
       "      <th>count</th>\n",
       "      <th>mean</th>\n",
       "    </tr>\n",
       "    <tr>\n",
       "      <th>age_group</th>\n",
       "      <th>sex</th>\n",
       "      <th></th>\n",
       "      <th></th>\n",
       "    </tr>\n",
       "  </thead>\n",
       "  <tbody>\n",
       "    <tr>\n",
       "      <th rowspan=\"2\" valign=\"top\">(28.999, 45.0]</th>\n",
       "      <th>0</th>\n",
       "      <td>16</td>\n",
       "      <td>0.937500</td>\n",
       "    </tr>\n",
       "    <tr>\n",
       "      <th>1</th>\n",
       "      <td>35</td>\n",
       "      <td>0.657143</td>\n",
       "    </tr>\n",
       "    <tr>\n",
       "      <th rowspan=\"2\" valign=\"top\">(45.0, 53.0]</th>\n",
       "      <th>0</th>\n",
       "      <td>14</td>\n",
       "      <td>0.928571</td>\n",
       "    </tr>\n",
       "    <tr>\n",
       "      <th>1</th>\n",
       "      <td>35</td>\n",
       "      <td>0.542857</td>\n",
       "    </tr>\n",
       "    <tr>\n",
       "      <th rowspan=\"2\" valign=\"top\">(53.0, 58.0]</th>\n",
       "      <th>0</th>\n",
       "      <td>21</td>\n",
       "      <td>0.666667</td>\n",
       "    </tr>\n",
       "    <tr>\n",
       "      <th>1</th>\n",
       "      <td>39</td>\n",
       "      <td>0.358974</td>\n",
       "    </tr>\n",
       "    <tr>\n",
       "      <th rowspan=\"2\" valign=\"top\">(58.0, 62.0]</th>\n",
       "      <th>0</th>\n",
       "      <td>12</td>\n",
       "      <td>0.333333</td>\n",
       "    </tr>\n",
       "    <tr>\n",
       "      <th>1</th>\n",
       "      <td>21</td>\n",
       "      <td>0.238095</td>\n",
       "    </tr>\n",
       "    <tr>\n",
       "      <th rowspan=\"2\" valign=\"top\">(62.0, 77.0]</th>\n",
       "      <th>0</th>\n",
       "      <td>21</td>\n",
       "      <td>0.809524</td>\n",
       "    </tr>\n",
       "    <tr>\n",
       "      <th>1</th>\n",
       "      <td>27</td>\n",
       "      <td>0.296296</td>\n",
       "    </tr>\n",
       "  </tbody>\n",
       "</table>\n",
       "</div>"
      ],
      "text/plain": [
       "                    count      mean\n",
       "age_group      sex                 \n",
       "(28.999, 45.0] 0       16  0.937500\n",
       "               1       35  0.657143\n",
       "(45.0, 53.0]   0       14  0.928571\n",
       "               1       35  0.542857\n",
       "(53.0, 58.0]   0       21  0.666667\n",
       "               1       39  0.358974\n",
       "(58.0, 62.0]   0       12  0.333333\n",
       "               1       21  0.238095\n",
       "(62.0, 77.0]   0       21  0.809524\n",
       "               1       27  0.296296"
      ]
     },
     "execution_count": 21,
     "metadata": {},
     "output_type": "execute_result"
    }
   ],
   "source": [
    "train_set.groupby(['age_group', 'sex'])['output'].agg(['count', 'mean'])"
   ]
  },
  {
   "cell_type": "code",
   "execution_count": 22,
   "id": "developing-sphere",
   "metadata": {
    "execution": {
     "iopub.execute_input": "2021-04-27T14:12:08.601841Z",
     "iopub.status.busy": "2021-04-27T14:12:08.601053Z",
     "iopub.status.idle": "2021-04-27T14:12:08.612033Z",
     "shell.execute_reply": "2021-04-27T14:12:08.612490Z"
    },
    "id": "n-RAWE3nbf2N",
    "outputId": "c998abc5-9414-4d4a-e7ed-10a16ef9ebd9",
    "papermill": {
     "duration": 0.067078,
     "end_time": "2021-04-27T14:12:08.612666",
     "exception": false,
     "start_time": "2021-04-27T14:12:08.545588",
     "status": "completed"
    },
    "tags": []
   },
   "outputs": [
    {
     "data": {
      "text/html": [
       "<div>\n",
       "<style scoped>\n",
       "    .dataframe tbody tr th:only-of-type {\n",
       "        vertical-align: middle;\n",
       "    }\n",
       "\n",
       "    .dataframe tbody tr th {\n",
       "        vertical-align: top;\n",
       "    }\n",
       "\n",
       "    .dataframe thead th {\n",
       "        text-align: right;\n",
       "    }\n",
       "</style>\n",
       "<table border=\"1\" class=\"dataframe\">\n",
       "  <thead>\n",
       "    <tr style=\"text-align: right;\">\n",
       "      <th></th>\n",
       "      <th>count</th>\n",
       "      <th>mean</th>\n",
       "    </tr>\n",
       "    <tr>\n",
       "      <th>sex</th>\n",
       "      <th></th>\n",
       "      <th></th>\n",
       "    </tr>\n",
       "  </thead>\n",
       "  <tbody>\n",
       "    <tr>\n",
       "      <th>0</th>\n",
       "      <td>84</td>\n",
       "      <td>0.75000</td>\n",
       "    </tr>\n",
       "    <tr>\n",
       "      <th>1</th>\n",
       "      <td>157</td>\n",
       "      <td>0.43949</td>\n",
       "    </tr>\n",
       "  </tbody>\n",
       "</table>\n",
       "</div>"
      ],
      "text/plain": [
       "     count     mean\n",
       "sex                \n",
       "0       84  0.75000\n",
       "1      157  0.43949"
      ]
     },
     "execution_count": 22,
     "metadata": {},
     "output_type": "execute_result"
    }
   ],
   "source": [
    "train_set.groupby(['sex'])['output'].agg(['count', 'mean'])"
   ]
  },
  {
   "cell_type": "markdown",
   "id": "strategic-production",
   "metadata": {
    "id": "bhYRNwX7byRT",
    "papermill": {
     "duration": 0.052834,
     "end_time": "2021-04-27T14:12:08.718725",
     "exception": false,
     "start_time": "2021-04-27T14:12:08.665891",
     "status": "completed"
    },
    "tags": []
   },
   "source": [
    "The main risk factor for the development of myocardial infarction is arterial hypertension. And it is among female that this disease occurs quite often\n",
    "\n",
    "also we can see, that the count of male with heart breaks is bigger than femal. One of the reasons for this is that fewer atherosclerotic plaques form in the vessels of the female body, and therefore there is less likelihood of blood clots in the arteries of the heart.\n",
    "\n",
    "Summary, heart aches more offen affect male, but with age it is affect more femal"
   ]
  },
  {
   "cell_type": "code",
   "execution_count": 23,
   "id": "needed-device",
   "metadata": {
    "execution": {
     "iopub.execute_input": "2021-04-27T14:12:08.836188Z",
     "iopub.status.busy": "2021-04-27T14:12:08.835158Z",
     "iopub.status.idle": "2021-04-27T14:12:09.366258Z",
     "shell.execute_reply": "2021-04-27T14:12:09.365137Z"
    },
    "id": "37IE1XLjlIXD",
    "outputId": "918aceb0-9815-4c79-892c-c7dd70a84145",
    "papermill": {
     "duration": 0.594103,
     "end_time": "2021-04-27T14:12:09.366401",
     "exception": false,
     "start_time": "2021-04-27T14:12:08.772298",
     "status": "completed"
    },
    "tags": []
   },
   "outputs": [
    {
     "data": {
      "application/vnd.jupyter.widget-view+json": {
       "model_id": "d761af92c6014e6fba7deafca84f5339",
       "version_major": 2,
       "version_minor": 0
      },
      "text/plain": [
       "  0%|          | 0/3 [00:00<?, ?it/s]"
      ]
     },
     "metadata": {},
     "output_type": "display_data"
    },
    {
     "data": {
      "image/png": "[encoded data removed]",
      "text/plain": [
       "<Figure size 1080x360 with 1 Axes>"
      ]
     },
     "metadata": {},
     "output_type": "display_data"
    },
    {
     "data": {
      "image/png": "[encoded data removed]",
      "text/plain": [
       "<Figure size 1080x360 with 1 Axes>"
      ]
     },
     "metadata": {},
     "output_type": "display_data"
    },
    {
     "data": {
      "image/png": "[encoded data removed]",
      "text/plain": [
       "<Figure size 1080x360 with 1 Axes>"
      ]
     },
     "metadata": {},
     "output_type": "display_data"
    }
   ],
   "source": [
    "\n",
    "columns_list = ['trtbps', 'chol', 'thalachh']\n",
    "title_list = ['Boxplot for resting blood pressure (in mm Hg)', 'Boxplot for chol values', \n",
    "              'Boxplot for thalach']\n",
    "\n",
    "color_list=['steelblue', 'skyblue', 'cyan']\n",
    "\n",
    "\n",
    "for i in tqdm(range(len(columns_list))):\n",
    "    q75 = train_set[columns_list[i]].quantile([.75])\n",
    "    q25 = train_set[columns_list[i]].quantile([.25])\n",
    "    iqr = q75 - q25\n",
    "    low_range = q25 - (1.5 * iqr)\n",
    "    high_range = q75 + (1.5 * iqr)\n",
    "    plt.figure(figsize=(15, 5))\n",
    "    sns.boxplot(train_set[columns_list[i]], color=color_list[i])\n",
    "    plt.xlim = (low_range, high_range)\n",
    "    plt.title(title_list[i])\n",
    "    plt.xlabel('')\n",
    "    plt.show()\n"
   ]
  },
  {
   "cell_type": "markdown",
   "id": "painful-championship",
   "metadata": {
    "id": "WnxIx-HWoCG-",
    "papermill": {
     "duration": 0.055818,
     "end_time": "2021-04-27T14:12:09.478921",
     "exception": false,
     "start_time": "2021-04-27T14:12:09.423103",
     "status": "completed"
    },
    "tags": []
   },
   "source": [
    "We have no big outliners or anomaly"
   ]
  },
  {
   "cell_type": "code",
   "execution_count": 24,
   "id": "backed-bacteria",
   "metadata": {
    "execution": {
     "iopub.execute_input": "2021-04-27T14:12:09.602210Z",
     "iopub.status.busy": "2021-04-27T14:12:09.601512Z",
     "iopub.status.idle": "2021-04-27T14:12:09.613334Z",
     "shell.execute_reply": "2021-04-27T14:12:09.612650Z"
    },
    "id": "yPdA2SD6oVEt",
    "outputId": "c14c6a51-b26b-4e10-d5db-0c987b9e095c",
    "papermill": {
     "duration": 0.078436,
     "end_time": "2021-04-27T14:12:09.613476",
     "exception": false,
     "start_time": "2021-04-27T14:12:09.535040",
     "status": "completed"
    },
    "tags": []
   },
   "outputs": [
    {
     "data": {
      "text/html": [
       "<div>\n",
       "<style scoped>\n",
       "    .dataframe tbody tr th:only-of-type {\n",
       "        vertical-align: middle;\n",
       "    }\n",
       "\n",
       "    .dataframe tbody tr th {\n",
       "        vertical-align: top;\n",
       "    }\n",
       "\n",
       "    .dataframe thead th {\n",
       "        text-align: right;\n",
       "    }\n",
       "</style>\n",
       "<table border=\"1\" class=\"dataframe\">\n",
       "  <thead>\n",
       "    <tr style=\"text-align: right;\">\n",
       "      <th></th>\n",
       "      <th>age</th>\n",
       "      <th>sex</th>\n",
       "      <th>cp</th>\n",
       "      <th>trtbps</th>\n",
       "      <th>chol</th>\n",
       "      <th>fbs</th>\n",
       "      <th>restecg</th>\n",
       "      <th>thalachh</th>\n",
       "      <th>exng</th>\n",
       "      <th>oldpeak</th>\n",
       "      <th>slp</th>\n",
       "      <th>caa</th>\n",
       "      <th>thall</th>\n",
       "      <th>output</th>\n",
       "      <th>age_group</th>\n",
       "    </tr>\n",
       "  </thead>\n",
       "  <tbody>\n",
       "    <tr>\n",
       "      <th>132</th>\n",
       "      <td>42</td>\n",
       "      <td>1</td>\n",
       "      <td>1</td>\n",
       "      <td>120</td>\n",
       "      <td>295</td>\n",
       "      <td>0</td>\n",
       "      <td>1</td>\n",
       "      <td>162</td>\n",
       "      <td>0</td>\n",
       "      <td>0.0</td>\n",
       "      <td>2</td>\n",
       "      <td>0</td>\n",
       "      <td>2</td>\n",
       "      <td>1</td>\n",
       "      <td>(28.999, 45.0]</td>\n",
       "    </tr>\n",
       "    <tr>\n",
       "      <th>202</th>\n",
       "      <td>68</td>\n",
       "      <td>1</td>\n",
       "      <td>2</td>\n",
       "      <td>180</td>\n",
       "      <td>274</td>\n",
       "      <td>1</td>\n",
       "      <td>0</td>\n",
       "      <td>150</td>\n",
       "      <td>1</td>\n",
       "      <td>1.6</td>\n",
       "      <td>1</td>\n",
       "      <td>0</td>\n",
       "      <td>3</td>\n",
       "      <td>0</td>\n",
       "      <td>(62.0, 77.0]</td>\n",
       "    </tr>\n",
       "    <tr>\n",
       "      <th>196</th>\n",
       "      <td>67</td>\n",
       "      <td>1</td>\n",
       "      <td>0</td>\n",
       "      <td>125</td>\n",
       "      <td>254</td>\n",
       "      <td>1</td>\n",
       "      <td>1</td>\n",
       "      <td>163</td>\n",
       "      <td>0</td>\n",
       "      <td>0.2</td>\n",
       "      <td>1</td>\n",
       "      <td>2</td>\n",
       "      <td>3</td>\n",
       "      <td>0</td>\n",
       "      <td>(62.0, 77.0]</td>\n",
       "    </tr>\n",
       "    <tr>\n",
       "      <th>75</th>\n",
       "      <td>55</td>\n",
       "      <td>0</td>\n",
       "      <td>1</td>\n",
       "      <td>135</td>\n",
       "      <td>250</td>\n",
       "      <td>0</td>\n",
       "      <td>0</td>\n",
       "      <td>161</td>\n",
       "      <td>0</td>\n",
       "      <td>1.4</td>\n",
       "      <td>1</td>\n",
       "      <td>0</td>\n",
       "      <td>2</td>\n",
       "      <td>1</td>\n",
       "      <td>(53.0, 58.0]</td>\n",
       "    </tr>\n",
       "    <tr>\n",
       "      <th>176</th>\n",
       "      <td>64</td>\n",
       "      <td>1</td>\n",
       "      <td>2</td>\n",
       "      <td>140</td>\n",
       "      <td>335</td>\n",
       "      <td>0</td>\n",
       "      <td>1</td>\n",
       "      <td>158</td>\n",
       "      <td>0</td>\n",
       "      <td>0.0</td>\n",
       "      <td>2</td>\n",
       "      <td>0</td>\n",
       "      <td>2</td>\n",
       "      <td>0</td>\n",
       "      <td>(62.0, 77.0]</td>\n",
       "    </tr>\n",
       "  </tbody>\n",
       "</table>\n",
       "</div>"
      ],
      "text/plain": [
       "     age  sex  cp  trtbps  chol  fbs  restecg  thalachh  exng  oldpeak  slp  \\\n",
       "132   42    1   1     120   295    0        1       162     0      0.0    2   \n",
       "202   68    1   2     180   274    1        0       150     1      1.6    1   \n",
       "196   67    1   0     125   254    1        1       163     0      0.2    1   \n",
       "75    55    0   1     135   250    0        0       161     0      1.4    1   \n",
       "176   64    1   2     140   335    0        1       158     0      0.0    2   \n",
       "\n",
       "     caa  thall  output       age_group  \n",
       "132    0      2       1  (28.999, 45.0]  \n",
       "202    0      3       0    (62.0, 77.0]  \n",
       "196    2      3       0    (62.0, 77.0]  \n",
       "75     0      2       1    (53.0, 58.0]  \n",
       "176    0      2       0    (62.0, 77.0]  "
      ]
     },
     "execution_count": 24,
     "metadata": {},
     "output_type": "execute_result"
    }
   ],
   "source": [
    "train_set.head()"
   ]
  },
  {
   "cell_type": "code",
   "execution_count": 25,
   "id": "given-arrival",
   "metadata": {
    "execution": {
     "iopub.execute_input": "2021-04-27T14:12:09.736546Z",
     "iopub.status.busy": "2021-04-27T14:12:09.732383Z",
     "iopub.status.idle": "2021-04-27T14:12:09.740154Z",
     "shell.execute_reply": "2021-04-27T14:12:09.739470Z"
    },
    "id": "0qq7fdIsqCoz",
    "papermill": {
     "duration": 0.069591,
     "end_time": "2021-04-27T14:12:09.740296",
     "exception": false,
     "start_time": "2021-04-27T14:12:09.670705",
     "status": "completed"
    },
    "tags": []
   },
   "outputs": [],
   "source": [
    "train_set['trtbps_group'] = pd.qcut(train_set['trtbps'], 5)"
   ]
  },
  {
   "cell_type": "code",
   "execution_count": 26,
   "id": "alert-reduction",
   "metadata": {
    "execution": {
     "iopub.execute_input": "2021-04-27T14:12:09.868848Z",
     "iopub.status.busy": "2021-04-27T14:12:09.868190Z",
     "iopub.status.idle": "2021-04-27T14:12:09.872059Z",
     "shell.execute_reply": "2021-04-27T14:12:09.872561Z"
    },
    "id": "rW1NFu6Mprhf",
    "outputId": "2f879ef8-71fd-41f1-ed26-f893d63ae853",
    "papermill": {
     "duration": 0.075495,
     "end_time": "2021-04-27T14:12:09.872826",
     "exception": false,
     "start_time": "2021-04-27T14:12:09.797331",
     "status": "completed"
    },
    "tags": []
   },
   "outputs": [
    {
     "data": {
      "text/html": [
       "<div>\n",
       "<style scoped>\n",
       "    .dataframe tbody tr th:only-of-type {\n",
       "        vertical-align: middle;\n",
       "    }\n",
       "\n",
       "    .dataframe tbody tr th {\n",
       "        vertical-align: top;\n",
       "    }\n",
       "\n",
       "    .dataframe thead th {\n",
       "        text-align: right;\n",
       "    }\n",
       "</style>\n",
       "<table border=\"1\" class=\"dataframe\">\n",
       "  <thead>\n",
       "    <tr style=\"text-align: right;\">\n",
       "      <th></th>\n",
       "      <th>count</th>\n",
       "      <th>mean</th>\n",
       "    </tr>\n",
       "    <tr>\n",
       "      <th>trtbps_group</th>\n",
       "      <th></th>\n",
       "      <th></th>\n",
       "    </tr>\n",
       "  </thead>\n",
       "  <tbody>\n",
       "    <tr>\n",
       "      <th>(93.999, 120.0]</th>\n",
       "      <td>81</td>\n",
       "      <td>0.617284</td>\n",
       "    </tr>\n",
       "    <tr>\n",
       "      <th>(120.0, 125.0]</th>\n",
       "      <td>17</td>\n",
       "      <td>0.352941</td>\n",
       "    </tr>\n",
       "    <tr>\n",
       "      <th>(125.0, 132.0]</th>\n",
       "      <td>50</td>\n",
       "      <td>0.580000</td>\n",
       "    </tr>\n",
       "    <tr>\n",
       "      <th>(132.0, 144.0]</th>\n",
       "      <td>45</td>\n",
       "      <td>0.622222</td>\n",
       "    </tr>\n",
       "    <tr>\n",
       "      <th>(144.0, 200.0]</th>\n",
       "      <td>48</td>\n",
       "      <td>0.395833</td>\n",
       "    </tr>\n",
       "  </tbody>\n",
       "</table>\n",
       "</div>"
      ],
      "text/plain": [
       "                 count      mean\n",
       "trtbps_group                    \n",
       "(93.999, 120.0]     81  0.617284\n",
       "(120.0, 125.0]      17  0.352941\n",
       "(125.0, 132.0]      50  0.580000\n",
       "(132.0, 144.0]      45  0.622222\n",
       "(144.0, 200.0]      48  0.395833"
      ]
     },
     "execution_count": 26,
     "metadata": {},
     "output_type": "execute_result"
    }
   ],
   "source": [
    "train_set.groupby(['trtbps_group'])['output'].agg(['count', 'mean'])"
   ]
  },
  {
   "cell_type": "code",
   "execution_count": 27,
   "id": "characteristic-setting",
   "metadata": {
    "execution": {
     "iopub.execute_input": "2021-04-27T14:12:09.994150Z",
     "iopub.status.busy": "2021-04-27T14:12:09.993192Z",
     "iopub.status.idle": "2021-04-27T14:12:10.000702Z",
     "shell.execute_reply": "2021-04-27T14:12:10.001219Z"
    },
    "id": "YeEttJ7HqPfz",
    "papermill": {
     "duration": 0.071614,
     "end_time": "2021-04-27T14:12:10.001403",
     "exception": false,
     "start_time": "2021-04-27T14:12:09.929789",
     "status": "completed"
    },
    "tags": []
   },
   "outputs": [],
   "source": [
    "train_set['chol_group'] = pd.qcut(train_set['chol'], 5)"
   ]
  },
  {
   "cell_type": "code",
   "execution_count": 28,
   "id": "baking-renaissance",
   "metadata": {
    "execution": {
     "iopub.execute_input": "2021-04-27T14:12:10.126405Z",
     "iopub.status.busy": "2021-04-27T14:12:10.125461Z",
     "iopub.status.idle": "2021-04-27T14:12:10.142023Z",
     "shell.execute_reply": "2021-04-27T14:12:10.141324Z"
    },
    "id": "9C-qHyueqUu9",
    "outputId": "d4fd61f8-862d-4dd0-8bb4-c1dbbd08f87f",
    "papermill": {
     "duration": 0.082728,
     "end_time": "2021-04-27T14:12:10.142178",
     "exception": false,
     "start_time": "2021-04-27T14:12:10.059450",
     "status": "completed"
    },
    "tags": []
   },
   "outputs": [
    {
     "data": {
      "text/html": [
       "<div>\n",
       "<style scoped>\n",
       "    .dataframe tbody tr th:only-of-type {\n",
       "        vertical-align: middle;\n",
       "    }\n",
       "\n",
       "    .dataframe tbody tr th {\n",
       "        vertical-align: top;\n",
       "    }\n",
       "\n",
       "    .dataframe thead th {\n",
       "        text-align: right;\n",
       "    }\n",
       "</style>\n",
       "<table border=\"1\" class=\"dataframe\">\n",
       "  <thead>\n",
       "    <tr style=\"text-align: right;\">\n",
       "      <th></th>\n",
       "      <th>count</th>\n",
       "      <th>mean</th>\n",
       "    </tr>\n",
       "    <tr>\n",
       "      <th>chol_group</th>\n",
       "      <th></th>\n",
       "      <th></th>\n",
       "    </tr>\n",
       "  </thead>\n",
       "  <tbody>\n",
       "    <tr>\n",
       "      <th>(130.999, 204.0]</th>\n",
       "      <td>50</td>\n",
       "      <td>0.600000</td>\n",
       "    </tr>\n",
       "    <tr>\n",
       "      <th>(204.0, 230.0]</th>\n",
       "      <td>47</td>\n",
       "      <td>0.574468</td>\n",
       "    </tr>\n",
       "    <tr>\n",
       "      <th>(230.0, 253.0]</th>\n",
       "      <td>48</td>\n",
       "      <td>0.645833</td>\n",
       "    </tr>\n",
       "    <tr>\n",
       "      <th>(253.0, 283.0]</th>\n",
       "      <td>48</td>\n",
       "      <td>0.395833</td>\n",
       "    </tr>\n",
       "    <tr>\n",
       "      <th>(283.0, 564.0]</th>\n",
       "      <td>48</td>\n",
       "      <td>0.520833</td>\n",
       "    </tr>\n",
       "  </tbody>\n",
       "</table>\n",
       "</div>"
      ],
      "text/plain": [
       "                  count      mean\n",
       "chol_group                       \n",
       "(130.999, 204.0]     50  0.600000\n",
       "(204.0, 230.0]       47  0.574468\n",
       "(230.0, 253.0]       48  0.645833\n",
       "(253.0, 283.0]       48  0.395833\n",
       "(283.0, 564.0]       48  0.520833"
      ]
     },
     "execution_count": 28,
     "metadata": {},
     "output_type": "execute_result"
    }
   ],
   "source": [
    "train_set.groupby(['chol_group'])['output'].agg(['count', 'mean'])"
   ]
  },
  {
   "cell_type": "markdown",
   "id": "abroad-signature",
   "metadata": {
    "id": "vw3YgJPaqtUH",
    "papermill": {
     "duration": 0.058066,
     "end_time": "2021-04-27T14:12:10.259549",
     "exception": false,
     "start_time": "2021-04-27T14:12:10.201483",
     "status": "completed"
    },
    "tags": []
   },
   "source": [
    "We can see that level of cholesterin and resting blood pressure (in mm Hg) is affects frequency of heart attacks"
   ]
  },
  {
   "cell_type": "markdown",
   "id": "valid-partition",
   "metadata": {
    "id": "k15qUEu9rWMf",
    "papermill": {
     "duration": 0.058403,
     "end_time": "2021-04-27T14:12:10.376633",
     "exception": false,
     "start_time": "2021-04-27T14:12:10.318230",
     "status": "completed"
    },
    "tags": []
   },
   "source": [
    "### Conclusion\n",
    "\n",
    "\n",
    "The main risk factor for the development of myocardial infarction is arterial hypertension. And it is among female that this disease occurs quite often\n",
    "\n",
    "also we can see, that the count of male with heart breaks is bigger than female. One of the reasons for this is that fewer atherosclerotic plaques form in the vessels of the female body, and therefore there is less likelihood of blood clots in the arteries of the heart.\n",
    "\n",
    "Summary, heart aches more offen affect male, but with age it is affect more femal\n",
    "\n",
    "We can see that level of cholesterin and resting blood pressure (in mm Hg) is affects frequency of heart attacks\n",
    "\n",
    "\n",
    "In summary age, gender, chol level and resting blood pressure is affect heart attacks"
   ]
  },
  {
   "cell_type": "markdown",
   "id": "consistent-vinyl",
   "metadata": {
    "id": "S6CIcPxVrKA8",
    "papermill": {
     "duration": 0.057641,
     "end_time": "2021-04-27T14:12:10.492321",
     "exception": false,
     "start_time": "2021-04-27T14:12:10.434680",
     "status": "completed"
    },
    "tags": []
   },
   "source": [
    "## Feature engeneering"
   ]
  },
  {
   "cell_type": "markdown",
   "id": "brave-elephant",
   "metadata": {
    "papermill": {
     "duration": 0.05754,
     "end_time": "2021-04-27T14:12:10.608082",
     "exception": false,
     "start_time": "2021-04-27T14:12:10.550542",
     "status": "completed"
    },
    "tags": []
   },
   "source": [
    "Lets split our train set for features and target"
   ]
  },
  {
   "cell_type": "code",
   "execution_count": 29,
   "id": "seven-breathing",
   "metadata": {
    "execution": {
     "iopub.execute_input": "2021-04-27T14:12:10.728170Z",
     "iopub.status.busy": "2021-04-27T14:12:10.727165Z",
     "iopub.status.idle": "2021-04-27T14:12:10.731707Z",
     "shell.execute_reply": "2021-04-27T14:12:10.732276Z"
    },
    "id": "Fj33QV2qqlY2",
    "papermill": {
     "duration": 0.066107,
     "end_time": "2021-04-27T14:12:10.732442",
     "exception": false,
     "start_time": "2021-04-27T14:12:10.666335",
     "status": "completed"
    },
    "tags": []
   },
   "outputs": [],
   "source": [
    "def split_data(data, target_column):\n",
    "    return data.drop(columns=[target_column], axis=1), data[target_column]"
   ]
  },
  {
   "cell_type": "code",
   "execution_count": 30,
   "id": "partial-shannon",
   "metadata": {
    "execution": {
     "iopub.execute_input": "2021-04-27T14:12:10.852664Z",
     "iopub.status.busy": "2021-04-27T14:12:10.851688Z",
     "iopub.status.idle": "2021-04-27T14:12:10.857229Z",
     "shell.execute_reply": "2021-04-27T14:12:10.857714Z"
    },
    "id": "zUCk0q2Wr0F_",
    "papermill": {
     "duration": 0.067021,
     "end_time": "2021-04-27T14:12:10.857904",
     "exception": false,
     "start_time": "2021-04-27T14:12:10.790883",
     "status": "completed"
    },
    "tags": []
   },
   "outputs": [],
   "source": [
    "train_features, train_target = split_data(train_set, 'output')"
   ]
  },
  {
   "cell_type": "code",
   "execution_count": 31,
   "id": "incomplete-sherman",
   "metadata": {
    "execution": {
     "iopub.execute_input": "2021-04-27T14:12:10.979310Z",
     "iopub.status.busy": "2021-04-27T14:12:10.978293Z",
     "iopub.status.idle": "2021-04-27T14:12:10.985642Z",
     "shell.execute_reply": "2021-04-27T14:12:10.984975Z"
    },
    "id": "IyTlCLRer4fb",
    "papermill": {
     "duration": 0.069741,
     "end_time": "2021-04-27T14:12:10.985800",
     "exception": false,
     "start_time": "2021-04-27T14:12:10.916059",
     "status": "completed"
    },
    "tags": []
   },
   "outputs": [],
   "source": [
    "train_features = train_features.drop(['age_group',\t'trtbps_group',\t'chol_group'], axis=1)"
   ]
  },
  {
   "cell_type": "code",
   "execution_count": 32,
   "id": "qualified-shark",
   "metadata": {
    "execution": {
     "iopub.execute_input": "2021-04-27T14:12:11.149964Z",
     "iopub.status.busy": "2021-04-27T14:12:11.149237Z",
     "iopub.status.idle": "2021-04-27T14:12:11.152594Z",
     "shell.execute_reply": "2021-04-27T14:12:11.153096Z"
    },
    "id": "ovCBhNlPurX5",
    "outputId": "292bd37e-6b72-466a-d519-4ea2b39c5ecf",
    "papermill": {
     "duration": 0.096802,
     "end_time": "2021-04-27T14:12:11.153263",
     "exception": false,
     "start_time": "2021-04-27T14:12:11.056461",
     "status": "completed"
    },
    "tags": []
   },
   "outputs": [
    {
     "data": {
      "text/html": [
       "<div>\n",
       "<style scoped>\n",
       "    .dataframe tbody tr th:only-of-type {\n",
       "        vertical-align: middle;\n",
       "    }\n",
       "\n",
       "    .dataframe tbody tr th {\n",
       "        vertical-align: top;\n",
       "    }\n",
       "\n",
       "    .dataframe thead th {\n",
       "        text-align: right;\n",
       "    }\n",
       "</style>\n",
       "<table border=\"1\" class=\"dataframe\">\n",
       "  <thead>\n",
       "    <tr style=\"text-align: right;\">\n",
       "      <th></th>\n",
       "      <th>age</th>\n",
       "      <th>sex</th>\n",
       "      <th>cp</th>\n",
       "      <th>trtbps</th>\n",
       "      <th>chol</th>\n",
       "      <th>fbs</th>\n",
       "      <th>restecg</th>\n",
       "      <th>thalachh</th>\n",
       "      <th>exng</th>\n",
       "      <th>oldpeak</th>\n",
       "      <th>slp</th>\n",
       "      <th>caa</th>\n",
       "      <th>thall</th>\n",
       "    </tr>\n",
       "  </thead>\n",
       "  <tbody>\n",
       "    <tr>\n",
       "      <th>132</th>\n",
       "      <td>42</td>\n",
       "      <td>1</td>\n",
       "      <td>1</td>\n",
       "      <td>120</td>\n",
       "      <td>295</td>\n",
       "      <td>0</td>\n",
       "      <td>1</td>\n",
       "      <td>162</td>\n",
       "      <td>0</td>\n",
       "      <td>0.0</td>\n",
       "      <td>2</td>\n",
       "      <td>0</td>\n",
       "      <td>2</td>\n",
       "    </tr>\n",
       "    <tr>\n",
       "      <th>202</th>\n",
       "      <td>68</td>\n",
       "      <td>1</td>\n",
       "      <td>2</td>\n",
       "      <td>180</td>\n",
       "      <td>274</td>\n",
       "      <td>1</td>\n",
       "      <td>0</td>\n",
       "      <td>150</td>\n",
       "      <td>1</td>\n",
       "      <td>1.6</td>\n",
       "      <td>1</td>\n",
       "      <td>0</td>\n",
       "      <td>3</td>\n",
       "    </tr>\n",
       "    <tr>\n",
       "      <th>196</th>\n",
       "      <td>67</td>\n",
       "      <td>1</td>\n",
       "      <td>0</td>\n",
       "      <td>125</td>\n",
       "      <td>254</td>\n",
       "      <td>1</td>\n",
       "      <td>1</td>\n",
       "      <td>163</td>\n",
       "      <td>0</td>\n",
       "      <td>0.2</td>\n",
       "      <td>1</td>\n",
       "      <td>2</td>\n",
       "      <td>3</td>\n",
       "    </tr>\n",
       "    <tr>\n",
       "      <th>75</th>\n",
       "      <td>55</td>\n",
       "      <td>0</td>\n",
       "      <td>1</td>\n",
       "      <td>135</td>\n",
       "      <td>250</td>\n",
       "      <td>0</td>\n",
       "      <td>0</td>\n",
       "      <td>161</td>\n",
       "      <td>0</td>\n",
       "      <td>1.4</td>\n",
       "      <td>1</td>\n",
       "      <td>0</td>\n",
       "      <td>2</td>\n",
       "    </tr>\n",
       "    <tr>\n",
       "      <th>176</th>\n",
       "      <td>64</td>\n",
       "      <td>1</td>\n",
       "      <td>2</td>\n",
       "      <td>140</td>\n",
       "      <td>335</td>\n",
       "      <td>0</td>\n",
       "      <td>1</td>\n",
       "      <td>158</td>\n",
       "      <td>0</td>\n",
       "      <td>0.0</td>\n",
       "      <td>2</td>\n",
       "      <td>0</td>\n",
       "      <td>2</td>\n",
       "    </tr>\n",
       "  </tbody>\n",
       "</table>\n",
       "</div>"
      ],
      "text/plain": [
       "     age  sex  cp  trtbps  chol  fbs  restecg  thalachh  exng  oldpeak  slp  \\\n",
       "132   42    1   1     120   295    0        1       162     0      0.0    2   \n",
       "202   68    1   2     180   274    1        0       150     1      1.6    1   \n",
       "196   67    1   0     125   254    1        1       163     0      0.2    1   \n",
       "75    55    0   1     135   250    0        0       161     0      1.4    1   \n",
       "176   64    1   2     140   335    0        1       158     0      0.0    2   \n",
       "\n",
       "     caa  thall  \n",
       "132    0      2  \n",
       "202    0      3  \n",
       "196    2      3  \n",
       "75     0      2  \n",
       "176    0      2  "
      ]
     },
     "execution_count": 32,
     "metadata": {},
     "output_type": "execute_result"
    }
   ],
   "source": [
    "train_features.head()"
   ]
  },
  {
   "cell_type": "markdown",
   "id": "hybrid-conclusion",
   "metadata": {
    "id": "oJvDAO2Tu2cF",
    "papermill": {
     "duration": 0.058426,
     "end_time": "2021-04-27T14:12:11.272153",
     "exception": false,
     "start_time": "2021-04-27T14:12:11.213727",
     "status": "completed"
    },
    "tags": []
   },
   "source": [
    "## Train model and tune"
   ]
  },
  {
   "cell_type": "markdown",
   "id": "raised-preparation",
   "metadata": {
    "id": "I5eAHUZQlCvS",
    "papermill": {
     "duration": 0.058744,
     "end_time": "2021-04-27T14:12:11.390266",
     "exception": false,
     "start_time": "2021-04-27T14:12:11.331522",
     "status": "completed"
    },
    "tags": []
   },
   "source": [
    "Let us try to choose parametrs of model via `GridSearchCV`"
   ]
  },
  {
   "cell_type": "code",
   "execution_count": 33,
   "id": "lonely-peace",
   "metadata": {
    "execution": {
     "iopub.execute_input": "2021-04-27T14:12:11.521886Z",
     "iopub.status.busy": "2021-04-27T14:12:11.521179Z",
     "iopub.status.idle": "2021-04-27T14:12:11.525432Z",
     "shell.execute_reply": "2021-04-27T14:12:11.524878Z"
    },
    "id": "1KCbxSVryXoL",
    "papermill": {
     "duration": 0.074773,
     "end_time": "2021-04-27T14:12:11.525590",
     "exception": false,
     "start_time": "2021-04-27T14:12:11.450817",
     "status": "completed"
    },
    "tags": []
   },
   "outputs": [],
   "source": [
    "cat_model = CatBoostClassifier()\n",
    "params = {'iterations': [100, 200, 500],\n",
    "          'depth': [4, 5, 6],\n",
    "          'loss_function': ['Logloss', 'CrossEntropy'],\n",
    "          'l2_leaf_reg': np.logspace(-20, -19, 3),\n",
    "          'leaf_estimation_iterations': [10],\n",
    "          'logging_level':['Silent'],\n",
    "          'random_seed': [42]\n",
    "         }\n",
    "scorer = make_scorer(accuracy_score)\n",
    "clf_grid = GridSearchCV(estimator=cat_model, param_grid=params, scoring=scorer, cv=5)"
   ]
  },
  {
   "cell_type": "markdown",
   "id": "loved-pitch",
   "metadata": {
    "id": "C260lLY_lSrt",
    "papermill": {
     "duration": 0.059282,
     "end_time": "2021-04-27T14:12:11.644879",
     "exception": false,
     "start_time": "2021-04-27T14:12:11.585597",
     "status": "completed"
    },
    "tags": []
   },
   "source": [
    "Train our model on train set"
   ]
  },
  {
   "cell_type": "code",
   "execution_count": 34,
   "id": "reverse-corrections",
   "metadata": {
    "execution": {
     "iopub.execute_input": "2021-04-27T14:12:11.789623Z",
     "iopub.status.busy": "2021-04-27T14:12:11.770379Z",
     "iopub.status.idle": "2021-04-27T14:13:08.966851Z",
     "shell.execute_reply": "2021-04-27T14:13:08.967376Z"
    },
    "id": "z-Cu6oGb01Ta",
    "outputId": "3a8e0287-b3cd-4478-cfcc-2c2ce76ef6f0",
    "papermill": {
     "duration": 57.262868,
     "end_time": "2021-04-27T14:13:08.967542",
     "exception": false,
     "start_time": "2021-04-27T14:12:11.704674",
     "status": "completed"
    },
    "tags": []
   },
   "outputs": [
    {
     "data": {
      "text/plain": [
       "{'depth': 5,\n",
       " 'iterations': 500,\n",
       " 'l2_leaf_reg': 1e-20,\n",
       " 'leaf_estimation_iterations': 10,\n",
       " 'logging_level': 'Silent',\n",
       " 'loss_function': 'Logloss',\n",
       " 'random_seed': 42}"
      ]
     },
     "execution_count": 34,
     "metadata": {},
     "output_type": "execute_result"
    }
   ],
   "source": [
    "clf_grid.fit(train_features, train_target)\n",
    "best_param = clf_grid.best_params_\n",
    "best_param"
   ]
  },
  {
   "cell_type": "markdown",
   "id": "persistent-solomon",
   "metadata": {
    "id": "FHBb_wYmlY7T",
    "papermill": {
     "duration": 0.059742,
     "end_time": "2021-04-27T14:13:09.087964",
     "exception": false,
     "start_time": "2021-04-27T14:13:09.028222",
     "status": "completed"
    },
    "tags": []
   },
   "source": [
    "Now we have can save the best model with the best parametrs and train it on train_pool for crossvalidation"
   ]
  },
  {
   "cell_type": "code",
   "execution_count": 35,
   "id": "bulgarian-baltimore",
   "metadata": {
    "execution": {
     "iopub.execute_input": "2021-04-27T14:13:09.213952Z",
     "iopub.status.busy": "2021-04-27T14:13:09.213179Z",
     "iopub.status.idle": "2021-04-27T14:13:09.216347Z",
     "shell.execute_reply": "2021-04-27T14:13:09.215831Z"
    },
    "id": "903-g2lrc0Fs",
    "papermill": {
     "duration": 0.067976,
     "end_time": "2021-04-27T14:13:09.216530",
     "exception": false,
     "start_time": "2021-04-27T14:13:09.148554",
     "status": "completed"
    },
    "tags": []
   },
   "outputs": [],
   "source": [
    "model = CatBoostClassifier(depth= 5,\n",
    "                           iterations = 500,\n",
    "                           l2_leaf_reg= 1e-20,\n",
    "                           leaf_estimation_iterations= 10,\n",
    "                           logging_level= 'Silent',\n",
    "                           loss_function= 'Logloss',\n",
    "                           random_seed= 42)"
   ]
  },
  {
   "cell_type": "code",
   "execution_count": 36,
   "id": "surprising-gazette",
   "metadata": {
    "execution": {
     "iopub.execute_input": "2021-04-27T14:13:09.347939Z",
     "iopub.status.busy": "2021-04-27T14:13:09.347147Z",
     "iopub.status.idle": "2021-04-27T14:13:09.350440Z",
     "shell.execute_reply": "2021-04-27T14:13:09.349805Z"
    },
    "id": "DrL2Way9dsUj",
    "outputId": "d00cbde7-79c4-4c0f-8382-8a082886f788",
    "papermill": {
     "duration": 0.0733,
     "end_time": "2021-04-27T14:13:09.350576",
     "exception": false,
     "start_time": "2021-04-27T14:13:09.277276",
     "status": "completed"
    },
    "tags": []
   },
   "outputs": [],
   "source": [
    "cat_features = [0]\n",
    "xtrain, xval, ytrain, yval = train_test_split(\n",
    "                            train_features, train_target, \n",
    "                            train_size=0.8,random_state=42\n",
    "                            )\n",
    "train_pool = Pool(xtrain, ytrain, cat_features=cat_features)\n",
    "\n",
    "params = {'depth': 5,\n",
    "          'iterations': 500,\n",
    "          'l2_leaf_reg': 1e-20,\n",
    "          'leaf_estimation_iterations': 10,\n",
    "          'logging_level': 'Silent',\n",
    "          'loss_function': 'Logloss',\n",
    "          'random_seed': 42}\n",
    "\n",
    "\n",
    "# Unfortunately plotting works only in Jupiter\n",
    "# scores = cv(train_pool,\n",
    "#             params,\n",
    "#             fold_count=2, \n",
    "#             plot=\"True\")"
   ]
  },
  {
   "cell_type": "code",
   "execution_count": 37,
   "id": "prescription-tennessee",
   "metadata": {
    "execution": {
     "iopub.execute_input": "2021-04-27T14:13:09.478122Z",
     "iopub.status.busy": "2021-04-27T14:13:09.477232Z",
     "iopub.status.idle": "2021-04-27T14:13:10.048134Z",
     "shell.execute_reply": "2021-04-27T14:13:10.048637Z"
    },
    "id": "BCUuffMZe8W0",
    "outputId": "cad19d99-bb9a-4ed1-9f93-97f96ad7c0fd",
    "papermill": {
     "duration": 0.638675,
     "end_time": "2021-04-27T14:13:10.048846",
     "exception": false,
     "start_time": "2021-04-27T14:13:09.410171",
     "status": "completed"
    },
    "tags": []
   },
   "outputs": [
    {
     "data": {
      "text/plain": [
       "<catboost.core.CatBoostClassifier at 0x7f74bfd42190>"
      ]
     },
     "execution_count": 37,
     "metadata": {},
     "output_type": "execute_result"
    }
   ],
   "source": [
    "model.fit(train_pool, eval_set=(xval, yval))"
   ]
  },
  {
   "cell_type": "markdown",
   "id": "effective-granny",
   "metadata": {
    "papermill": {
     "duration": 0.070409,
     "end_time": "2021-04-27T14:13:10.180444",
     "exception": false,
     "start_time": "2021-04-27T14:13:10.110035",
     "status": "completed"
    },
    "tags": []
   },
   "source": [
    "Now it is time to our test set"
   ]
  },
  {
   "cell_type": "code",
   "execution_count": 38,
   "id": "surface-mattress",
   "metadata": {
    "execution": {
     "iopub.execute_input": "2021-04-27T14:13:10.335434Z",
     "iopub.status.busy": "2021-04-27T14:13:10.334327Z",
     "iopub.status.idle": "2021-04-27T14:13:10.339652Z",
     "shell.execute_reply": "2021-04-27T14:13:10.339154Z"
    },
    "id": "x8o5-rGZiU2U",
    "outputId": "9eec3e0b-5495-47ca-b957-72451c2af0f0",
    "papermill": {
     "duration": 0.095234,
     "end_time": "2021-04-27T14:13:10.339832",
     "exception": false,
     "start_time": "2021-04-27T14:13:10.244598",
     "status": "completed"
    },
    "tags": []
   },
   "outputs": [
    {
     "data": {
      "text/html": [
       "<div>\n",
       "<style scoped>\n",
       "    .dataframe tbody tr th:only-of-type {\n",
       "        vertical-align: middle;\n",
       "    }\n",
       "\n",
       "    .dataframe tbody tr th {\n",
       "        vertical-align: top;\n",
       "    }\n",
       "\n",
       "    .dataframe thead th {\n",
       "        text-align: right;\n",
       "    }\n",
       "</style>\n",
       "<table border=\"1\" class=\"dataframe\">\n",
       "  <thead>\n",
       "    <tr style=\"text-align: right;\">\n",
       "      <th></th>\n",
       "      <th>age</th>\n",
       "      <th>sex</th>\n",
       "      <th>cp</th>\n",
       "      <th>trtbps</th>\n",
       "      <th>chol</th>\n",
       "      <th>fbs</th>\n",
       "      <th>restecg</th>\n",
       "      <th>thalachh</th>\n",
       "      <th>exng</th>\n",
       "      <th>oldpeak</th>\n",
       "      <th>slp</th>\n",
       "      <th>caa</th>\n",
       "      <th>thall</th>\n",
       "    </tr>\n",
       "  </thead>\n",
       "  <tbody>\n",
       "    <tr>\n",
       "      <th>179</th>\n",
       "      <td>55</td>\n",
       "      <td>1</td>\n",
       "      <td>0</td>\n",
       "      <td>132</td>\n",
       "      <td>353</td>\n",
       "      <td>0</td>\n",
       "      <td>1</td>\n",
       "      <td>132</td>\n",
       "      <td>1</td>\n",
       "      <td>1.2</td>\n",
       "      <td>1</td>\n",
       "      <td>1</td>\n",
       "      <td>3</td>\n",
       "    </tr>\n",
       "    <tr>\n",
       "      <th>228</th>\n",
       "      <td>64</td>\n",
       "      <td>1</td>\n",
       "      <td>2</td>\n",
       "      <td>125</td>\n",
       "      <td>309</td>\n",
       "      <td>0</td>\n",
       "      <td>1</td>\n",
       "      <td>131</td>\n",
       "      <td>1</td>\n",
       "      <td>1.8</td>\n",
       "      <td>1</td>\n",
       "      <td>0</td>\n",
       "      <td>3</td>\n",
       "    </tr>\n",
       "    <tr>\n",
       "      <th>111</th>\n",
       "      <td>57</td>\n",
       "      <td>1</td>\n",
       "      <td>2</td>\n",
       "      <td>150</td>\n",
       "      <td>126</td>\n",
       "      <td>1</td>\n",
       "      <td>1</td>\n",
       "      <td>173</td>\n",
       "      <td>0</td>\n",
       "      <td>0.2</td>\n",
       "      <td>2</td>\n",
       "      <td>1</td>\n",
       "      <td>3</td>\n",
       "    </tr>\n",
       "    <tr>\n",
       "      <th>246</th>\n",
       "      <td>66</td>\n",
       "      <td>1</td>\n",
       "      <td>1</td>\n",
       "      <td>160</td>\n",
       "      <td>246</td>\n",
       "      <td>0</td>\n",
       "      <td>1</td>\n",
       "      <td>120</td>\n",
       "      <td>1</td>\n",
       "      <td>0.0</td>\n",
       "      <td>1</td>\n",
       "      <td>3</td>\n",
       "      <td>1</td>\n",
       "    </tr>\n",
       "    <tr>\n",
       "      <th>60</th>\n",
       "      <td>71</td>\n",
       "      <td>0</td>\n",
       "      <td>2</td>\n",
       "      <td>110</td>\n",
       "      <td>265</td>\n",
       "      <td>1</td>\n",
       "      <td>0</td>\n",
       "      <td>130</td>\n",
       "      <td>0</td>\n",
       "      <td>0.0</td>\n",
       "      <td>2</td>\n",
       "      <td>1</td>\n",
       "      <td>2</td>\n",
       "    </tr>\n",
       "  </tbody>\n",
       "</table>\n",
       "</div>"
      ],
      "text/plain": [
       "     age  sex  cp  trtbps  chol  fbs  restecg  thalachh  exng  oldpeak  slp  \\\n",
       "179   55    1   0     132   353    0        1       132     1      1.2    1   \n",
       "228   64    1   2     125   309    0        1       131     1      1.8    1   \n",
       "111   57    1   2     150   126    1        1       173     0      0.2    2   \n",
       "246   66    1   1     160   246    0        1       120     1      0.0    1   \n",
       "60    71    0   2     110   265    1        0       130     0      0.0    2   \n",
       "\n",
       "     caa  thall  \n",
       "179    1      3  \n",
       "228    0      3  \n",
       "111    1      3  \n",
       "246    3      1  \n",
       "60     1      2  "
      ]
     },
     "execution_count": 38,
     "metadata": {},
     "output_type": "execute_result"
    }
   ],
   "source": [
    "test_features, test_target = split_data(test_set, 'output')\n",
    "test_features.head()"
   ]
  },
  {
   "cell_type": "markdown",
   "id": "numerical-congress",
   "metadata": {
    "id": "zF1I-BIgmtwf",
    "papermill": {
     "duration": 0.069591,
     "end_time": "2021-04-27T14:13:10.473961",
     "exception": false,
     "start_time": "2021-04-27T14:13:10.404370",
     "status": "completed"
    },
    "tags": []
   },
   "source": [
    "Now we can test our model on test set"
   ]
  },
  {
   "cell_type": "code",
   "execution_count": 39,
   "id": "fleet-updating",
   "metadata": {
    "execution": {
     "iopub.execute_input": "2021-04-27T14:13:10.605104Z",
     "iopub.status.busy": "2021-04-27T14:13:10.604402Z",
     "iopub.status.idle": "2021-04-27T14:13:10.612383Z",
     "shell.execute_reply": "2021-04-27T14:13:10.613120Z"
    },
    "id": "ghMySpdQib_q",
    "outputId": "c0219066-3d35-4361-f809-9d9f5316dcf8",
    "papermill": {
     "duration": 0.078741,
     "end_time": "2021-04-27T14:13:10.613437",
     "exception": false,
     "start_time": "2021-04-27T14:13:10.534696",
     "status": "completed"
    },
    "tags": []
   },
   "outputs": [
    {
     "name": "stdout",
     "output_type": "stream",
     "text": [
      "Accuracy\n",
      "Test set: 0.8524590163934426\n",
      "F1-score\n",
      "Test set: 0.8615384615384615\n"
     ]
    }
   ],
   "source": [
    "test_predictions = model.predict(test_features)\n",
    "test_acc = accuracy_score(test_target, test_predictions)\n",
    "test_f1 = f1_score(test_target, test_predictions)\n",
    "\n",
    "\n",
    "print(\"Accuracy\")\n",
    "print(\"Test set:\", test_acc)\n",
    "print(\"F1-score\")\n",
    "print(\"Test set:\", test_f1)"
   ]
  },
  {
   "cell_type": "markdown",
   "id": "vanilla-child",
   "metadata": {
    "id": "ErwyaxC3mzjd",
    "papermill": {
     "duration": 0.062498,
     "end_time": "2021-04-27T14:13:10.739797",
     "exception": false,
     "start_time": "2021-04-27T14:13:10.677299",
     "status": "completed"
    },
    "tags": []
   },
   "source": [
    "And senity test:"
   ]
  },
  {
   "cell_type": "code",
   "execution_count": 40,
   "id": "manual-basement",
   "metadata": {
    "execution": {
     "iopub.execute_input": "2021-04-27T14:13:10.881320Z",
     "iopub.status.busy": "2021-04-27T14:13:10.880576Z",
     "iopub.status.idle": "2021-04-27T14:13:10.884835Z",
     "shell.execute_reply": "2021-04-27T14:13:10.885592Z"
    },
    "id": "dTOw5KwggTqW",
    "outputId": "02e921cc-8802-47fd-829b-b6da5bdf920e",
    "papermill": {
     "duration": 0.082818,
     "end_time": "2021-04-27T14:13:10.885852",
     "exception": false,
     "start_time": "2021-04-27T14:13:10.803034",
     "status": "completed"
    },
    "tags": []
   },
   "outputs": [
    {
     "data": {
      "text/html": [
       "<div>\n",
       "<style scoped>\n",
       "    .dataframe tbody tr th:only-of-type {\n",
       "        vertical-align: middle;\n",
       "    }\n",
       "\n",
       "    .dataframe tbody tr th {\n",
       "        vertical-align: top;\n",
       "    }\n",
       "\n",
       "    .dataframe thead th {\n",
       "        text-align: right;\n",
       "    }\n",
       "</style>\n",
       "<table border=\"1\" class=\"dataframe\">\n",
       "  <thead>\n",
       "    <tr style=\"text-align: right;\">\n",
       "      <th></th>\n",
       "      <th>output</th>\n",
       "    </tr>\n",
       "  </thead>\n",
       "  <tbody>\n",
       "    <tr>\n",
       "      <th>1</th>\n",
       "      <td>0.543046</td>\n",
       "    </tr>\n",
       "    <tr>\n",
       "      <th>0</th>\n",
       "      <td>0.456954</td>\n",
       "    </tr>\n",
       "  </tbody>\n",
       "</table>\n",
       "</div>"
      ],
      "text/plain": [
       "     output\n",
       "1  0.543046\n",
       "0  0.456954"
      ]
     },
     "execution_count": 40,
     "metadata": {},
     "output_type": "execute_result"
    }
   ],
   "source": [
    "(df['output'].value_counts()/df.shape[0]).to_frame()"
   ]
  },
  {
   "cell_type": "markdown",
   "id": "foreign-startup",
   "metadata": {
    "papermill": {
     "duration": 0.063701,
     "end_time": "2021-04-27T14:13:11.017630",
     "exception": false,
     "start_time": "2021-04-27T14:13:10.953929",
     "status": "completed"
    },
    "tags": []
   },
   "source": [
    "Our model better than random. We can try it on another set if we have"
   ]
  },
  {
   "cell_type": "markdown",
   "id": "pretty-environment",
   "metadata": {
    "papermill": {
     "duration": 0.063077,
     "end_time": "2021-04-27T14:13:11.145162",
     "exception": false,
     "start_time": "2021-04-27T14:13:11.082085",
     "status": "completed"
    },
    "tags": []
   },
   "source": [
    "# Conclusion\n",
    "\n",
    "Know your blood pressure. High blood pressure is usually not accompanied by any symptoms, but it is one of the main causes of sudden stroke or heart attack. Check your blood pressure and know your numbers. If your blood pressure is high, you need to change your lifestyle - switch to a healthy diet, reduce your salt intake, and increase your levels of physical activity. You may need to take medication to control your blood pressure.\n",
    "\n",
    "\n",
    "Elevated blood cholesterol levels increase the risk of heart attacks and strokes. It is necessary to control blood cholesterol levels with a healthy diet and, if necessary, appropriate medications\n",
    "\n",
    "take care of yourself and loved ones"
   ]
  }
 ],
 "metadata": {
  "kernelspec": {
   "display_name": "Python 3",
   "language": "python",
   "name": "python3"
  },
  "language_info": {
   "codemirror_mode": {
    "name": "ipython",
    "version": 3
   },
   "file_extension": ".py",
   "mimetype": "text/x-python",
   "name": "python",
   "nbconvert_exporter": "python",
   "pygments_lexer": "ipython3",
   "version": "3.7.10"
  },
  "papermill": {
   "default_parameters": {},
   "duration": 81.834172,
   "end_time": "2021-04-27T14:13:12.018271",
   "environment_variables": {},
   "exception": null,
   "input_path": "__notebook__.ipynb",
   "output_path": "__notebook__.ipynb",
   "parameters": {},
   "start_time": "2021-04-27T14:11:50.184099",
   "version": "2.3.3"
  },
  "widgets": {
   "application/vnd.jupyter.widget-state+json": {
    "state": {
     "027a0f39a56544cab04f2fb20fe77b7f": {
      "model_module": "@jupyter-widgets/controls",
      "model_module_version": "1.5.0",
      "model_name": "ProgressStyleModel",
      "state": {
       "_model_module": "@jupyter-widgets/controls",
       "_model_module_version": "1.5.0",
       "_model_name": "ProgressStyleModel",
       "_view_count": null,
       "_view_module": "@jupyter-widgets/base",
       "_view_module_version": "1.2.0",
       "_view_name": "StyleView",
       "bar_color": null,
       "description_width": ""
      }
     },
     "05bc9bbf039947f9b38cc406ba911386": {
      "model_module": "@jupyter-widgets/base",
      "model_module_version": "1.2.0",
      "model_name": "LayoutModel",
      "state": {
       "_model_module": "@jupyter-widgets/base",
       "_model_module_version": "1.2.0",
       "_model_name": "LayoutModel",
       "_view_count": null,
       "_view_module": "@jupyter-widgets/base",
       "_view_module_version": "1.2.0",
       "_view_name": "LayoutView",
       "align_content": null,
       "align_items": null,
       "align_self": null,
       "border": null,
       "bottom": null,
       "display": null,
       "flex": null,
       "flex_flow": null,
       "grid_area": null,
       "grid_auto_columns": null,
       "grid_auto_flow": null,
       "grid_auto_rows": null,
       "grid_column": null,
       "grid_gap": null,
       "grid_row": null,
       "grid_template_areas": null,
       "grid_template_columns": null,
       "grid_template_rows": null,
       "height": null,
       "justify_content": null,
       "justify_items": null,
       "left": null,
       "margin": null,
       "max_height": null,
       "max_width": null,
       "min_height": null,
       "min_width": null,
       "object_fit": null,
       "object_position": null,
       "order": null,
       "overflow": null,
       "overflow_x": null,
       "overflow_y": null,
       "padding": null,
       "right": null,
       "top": null,
       "visibility": null,
       "width": null
      }
     },
     "5f9bffbbe33749638b23a4c64de7a518": {
      "model_module": "@jupyter-widgets/controls",
      "model_module_version": "1.5.0",
      "model_name": "FloatProgressModel",
      "state": {
       "_dom_classes": [],
       "_model_module": "@jupyter-widgets/controls",
       "_model_module_version": "1.5.0",
       "_model_name": "FloatProgressModel",
       "_view_count": null,
       "_view_module": "@jupyter-widgets/controls",
       "_view_module_version": "1.5.0",
       "_view_name": "ProgressView",
       "bar_style": "success",
       "description": "",
       "description_tooltip": null,
       "layout": "IPY_MODEL_f8b333fb4cc94f8bb9d943c841c6d72b",
       "max": 3.0,
       "min": 0.0,
       "orientation": "horizontal",
       "style": "IPY_MODEL_027a0f39a56544cab04f2fb20fe77b7f",
       "value": 3.0
      }
     },
     "6a6256be8e364ea58d4b2cecc38610f4": {
      "model_module": "@jupyter-widgets/base",
      "model_module_version": "1.2.0",
      "model_name": "LayoutModel",
      "state": {
       "_model_module": "@jupyter-widgets/base",
       "_model_module_version": "1.2.0",
       "_model_name": "LayoutModel",
       "_view_count": null,
       "_view_module": "@jupyter-widgets/base",
       "_view_module_version": "1.2.0",
       "_view_name": "LayoutView",
       "align_content": null,
       "align_items": null,
       "align_self": null,
       "border": null,
       "bottom": null,
       "display": null,
       "flex": null,
       "flex_flow": null,
       "grid_area": null,
       "grid_auto_columns": null,
       "grid_auto_flow": null,
       "grid_auto_rows": null,
       "grid_column": null,
       "grid_gap": null,
       "grid_row": null,
       "grid_template_areas": null,
       "grid_template_columns": null,
       "grid_template_rows": null,
       "height": null,
       "justify_content": null,
       "justify_items": null,
       "left": null,
       "margin": null,
       "max_height": null,
       "max_width": null,
       "min_height": null,
       "min_width": null,
       "object_fit": null,
       "object_position": null,
       "order": null,
       "overflow": null,
       "overflow_x": null,
       "overflow_y": null,
       "padding": null,
       "right": null,
       "top": null,
       "visibility": null,
       "width": null
      }
     },
     "9c768c34c83040c1a94d27b29949bd47": {
      "model_module": "@jupyter-widgets/controls",
      "model_module_version": "1.5.0",
      "model_name": "HTMLModel",
      "state": {
       "_dom_classes": [],
       "_model_module": "@jupyter-widgets/controls",
       "_model_module_version": "1.5.0",
       "_model_name": "HTMLModel",
       "_view_count": null,
       "_view_module": "@jupyter-widgets/controls",
       "_view_module_version": "1.5.0",
       "_view_name": "HTMLView",
       "description": "",
       "description_tooltip": null,
       "layout": "IPY_MODEL_6a6256be8e364ea58d4b2cecc38610f4",
       "placeholder": "​",
       "style": "IPY_MODEL_bbfdd1de8d514fad8e67d49b03b84848",
       "value": "100%"
      }
     },
     "bbfdd1de8d514fad8e67d49b03b84848": {
      "model_module": "@jupyter-widgets/controls",
      "model_module_version": "1.5.0",
      "model_name": "DescriptionStyleModel",
      "state": {
       "_model_module": "@jupyter-widgets/controls",
       "_model_module_version": "1.5.0",
       "_model_name": "DescriptionStyleModel",
       "_view_count": null,
       "_view_module": "@jupyter-widgets/base",
       "_view_module_version": "1.2.0",
       "_view_name": "StyleView",
       "description_width": ""
      }
     },
     "bc9993baf5b142f7a49f476ba1d25b45": {
      "model_module": "@jupyter-widgets/base",
      "model_module_version": "1.2.0",
      "model_name": "LayoutModel",
      "state": {
       "_model_module": "@jupyter-widgets/base",
       "_model_module_version": "1.2.0",
       "_model_name": "LayoutModel",
       "_view_count": null,
       "_view_module": "@jupyter-widgets/base",
       "_view_module_version": "1.2.0",
       "_view_name": "LayoutView",
       "align_content": null,
       "align_items": null,
       "align_self": null,
       "border": null,
       "bottom": null,
       "display": null,
       "flex": null,
       "flex_flow": null,
       "grid_area": null,
       "grid_auto_columns": null,
       "grid_auto_flow": null,
       "grid_auto_rows": null,
       "grid_column": null,
       "grid_gap": null,
       "grid_row": null,
       "grid_template_areas": null,
       "grid_template_columns": null,
       "grid_template_rows": null,
       "height": null,
       "justify_content": null,
       "justify_items": null,
       "left": null,
       "margin": null,
       "max_height": null,
       "max_width": null,
       "min_height": null,
       "min_width": null,
       "object_fit": null,
       "object_position": null,
       "order": null,
       "overflow": null,
       "overflow_x": null,
       "overflow_y": null,
       "padding": null,
       "right": null,
       "top": null,
       "visibility": null,
       "width": null
      }
     },
     "d72c454a6eff441dba701eb7fb8441da": {
      "model_module": "@jupyter-widgets/controls",
      "model_module_version": "1.5.0",
      "model_name": "DescriptionStyleModel",
      "state": {
       "_model_module": "@jupyter-widgets/controls",
       "_model_module_version": "1.5.0",
       "_model_name": "DescriptionStyleModel",
       "_view_count": null,
       "_view_module": "@jupyter-widgets/base",
       "_view_module_version": "1.2.0",
       "_view_name": "StyleView",
       "description_width": ""
      }
     },
     "d761af92c6014e6fba7deafca84f5339": {
      "model_module": "@jupyter-widgets/controls",
      "model_module_version": "1.5.0",
      "model_name": "HBoxModel",
      "state": {
       "_dom_classes": [],
       "_model_module": "@jupyter-widgets/controls",
       "_model_module_version": "1.5.0",
       "_model_name": "HBoxModel",
       "_view_count": null,
       "_view_module": "@jupyter-widgets/controls",
       "_view_module_version": "1.5.0",
       "_view_name": "HBoxView",
       "box_style": "",
       "children": [
        "IPY_MODEL_9c768c34c83040c1a94d27b29949bd47",
        "IPY_MODEL_5f9bffbbe33749638b23a4c64de7a518",
        "IPY_MODEL_ef1a8d7f44ce425b9ec46173e5430fad"
       ],
       "layout": "IPY_MODEL_bc9993baf5b142f7a49f476ba1d25b45"
      }
     },
     "ef1a8d7f44ce425b9ec46173e5430fad": {
      "model_module": "@jupyter-widgets/controls",
      "model_module_version": "1.5.0",
      "model_name": "HTMLModel",
      "state": {
       "_dom_classes": [],
       "_model_module": "@jupyter-widgets/controls",
       "_model_module_version": "1.5.0",
       "_model_name": "HTMLModel",
       "_view_count": null,
       "_view_module": "@jupyter-widgets/controls",
       "_view_module_version": "1.5.0",
       "_view_name": "HTMLView",
       "description": "",
       "description_tooltip": null,
       "layout": "IPY_MODEL_05bc9bbf039947f9b38cc406ba911386",
       "placeholder": "​",
       "style": "IPY_MODEL_d72c454a6eff441dba701eb7fb8441da",
       "value": " 3/3 [00:00&lt;00:00,  5.90it/s]"
      }
     },
     "f8b333fb4cc94f8bb9d943c841c6d72b": {
      "model_module": "@jupyter-widgets/base",
      "model_module_version": "1.2.0",
      "model_name": "LayoutModel",
      "state": {
       "_model_module": "@jupyter-widgets/base",
       "_model_module_version": "1.2.0",
       "_model_name": "LayoutModel",
       "_view_count": null,
       "_view_module": "@jupyter-widgets/base",
       "_view_module_version": "1.2.0",
       "_view_name": "LayoutView",
       "align_content": null,
       "align_items": null,
       "align_self": null,
       "border": null,
       "bottom": null,
       "display": null,
       "flex": null,
       "flex_flow": null,
       "grid_area": null,
       "grid_auto_columns": null,
       "grid_auto_flow": null,
       "grid_auto_rows": null,
       "grid_column": null,
       "grid_gap": null,
       "grid_row": null,
       "grid_template_areas": null,
       "grid_template_columns": null,
       "grid_template_rows": null,
       "height": null,
       "justify_content": null,
       "justify_items": null,
       "left": null,
       "margin": null,
       "max_height": null,
       "max_width": null,
       "min_height": null,
       "min_width": null,
       "object_fit": null,
       "object_position": null,
       "order": null,
       "overflow": null,
       "overflow_x": null,
       "overflow_y": null,
       "padding": null,
       "right": null,
       "top": null,
       "visibility": null,
       "width": null
      }
     }
    },
    "version_major": 2,
    "version_minor": 0
   }
  }
 },
 "nbformat": 4,
 "nbformat_minor": 5
}
