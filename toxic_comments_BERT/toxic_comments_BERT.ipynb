{
 "cells": [
  {
   "cell_type": "markdown",
   "metadata": {
    "id": "QNOxZAMC75AD"
   },
   "source": [
    "<footer id=\"footer\"></footer>"
   ]
  },
  {
   "cell_type": "markdown",
   "metadata": {
    "id": "npH1wChQ75AE"
   },
   "source": [
    "# <center> Проект для «Викишоп» с BERT </center> "
   ]
  },
  {
   "cell_type": "markdown",
   "metadata": {
    "id": "5XGMByv475AE"
   },
   "source": [
    "![](https://i.ibb.co/pjcBRMR/bbc87fcc-3bb9-422a-a925-60ae8f17b019.jpg)"
   ]
  },
  {
   "cell_type": "markdown",
   "metadata": {
    "id": "2m_9qEJs75AF"
   },
   "source": [
    "Интернет-магазин **«Викишоп»** запускает новый сервис. Теперь пользователи могут редактировать и дополнять описания товаров, как в вики-сообществах. То есть клиенты предлагают свои правки и комментируют изменения других. Магазину нужен инструмент, который будет искать токсичные комментарии и отправлять их на модерацию.  \n",
    "\n",
    "\n",
    "Необходимо обучить модель классифицировать комментарии на позитивные и негативные. В нашем распоряжении набор данных с разметкой о токсичности правок.  \n",
    "\n",
    "---\n",
    "<font size=\"2\">\n",
    "Примечание\n",
    "\n",
    "*Модель должна быть со значением метрики качества F1 не меньше 0.75*\n",
    "</font>     \n",
    "\n"
   ]
  },
  {
   "cell_type": "markdown",
   "metadata": {
    "id": "yO9SRKYY75AJ"
   },
   "source": [
    "## Подготовка"
   ]
  },
  {
   "cell_type": "markdown",
   "metadata": {
    "id": "EECiPmEg75AJ"
   },
   "source": [
    "### Загрузка необходимых библиотек"
   ]
  },
  {
   "cell_type": "code",
   "execution_count": 1,
   "metadata": {
    "id": "k0xzyIPoj4qd"
   },
   "outputs": [],
   "source": [
    "%%capture\n",
    "!pip install transformers;"
   ]
  },
  {
   "cell_type": "code",
   "execution_count": 2,
   "metadata": {
    "id": "YK5OK1rL75AK",
    "scrolled": true
   },
   "outputs": [],
   "source": [
    "%%capture\n",
    "!pip install wordcloud;"
   ]
  },
  {
   "cell_type": "code",
   "execution_count": 3,
   "metadata": {
    "id": "zSO7mtzw75AK"
   },
   "outputs": [],
   "source": [
    "%%capture\n",
    "!pip install tqdm;"
   ]
  },
  {
   "cell_type": "code",
   "execution_count": 4,
   "metadata": {
    "id": "99zpzQgT75AL"
   },
   "outputs": [],
   "source": [
    "%%capture\n",
    "!pip install textwrap3;"
   ]
  },
  {
   "cell_type": "code",
   "execution_count": 5,
   "metadata": {
    "colab": {
     "base_uri": "https://localhost:8080/"
    },
    "id": "WJFNN90HOvyj",
    "outputId": "4b682df9-c45a-4407-beb4-3f4a04f2b031"
   },
   "outputs": [
    {
     "name": "stderr",
     "output_type": "stream",
     "text": [
      "[nltk_data] Downloading package punkt to /Users/Arty/nltk_data...\n",
      "[nltk_data]   Package punkt is already up-to-date!\n",
      "[nltk_data] Downloading package wordnet to /Users/Arty/nltk_data...\n",
      "[nltk_data]   Package wordnet is already up-to-date!\n",
      "[nltk_data] Downloading package stopwords to /Users/Arty/nltk_data...\n",
      "[nltk_data]   Package stopwords is already up-to-date!\n"
     ]
    }
   ],
   "source": [
    "import pandas as pd\n",
    "import numpy as np\n",
    "import matplotlib.pyplot as plt\n",
    "import copy\n",
    "import re\n",
    "\n",
    "\n",
    "\n",
    "import nltk\n",
    "from nltk.corpus import stopwords\n",
    "from nltk.stem import WordNetLemmatizer\n",
    "\n",
    "from sklearn.feature_extraction.text import TfidfTransformer, CountVectorizer, TfidfVectorizer\n",
    "\n",
    "from sklearn.model_selection import train_test_split, GridSearchCV\n",
    "from sklearn.ensemble import RandomForestClassifier, VotingClassifier, ExtraTreesClassifier\n",
    "from sklearn.linear_model import LogisticRegression, SGDClassifier\n",
    "from sklearn.svm import LinearSVC\n",
    "from sklearn.neural_network import MLPClassifier\n",
    "from sklearn.pipeline import Pipeline\n",
    "from sklearn.dummy import DummyClassifier\n",
    "from sklearn.metrics import f1_score\n",
    "from sklearn.utils import shuffle\n",
    "from textwrap3 import wrap\n",
    "\n",
    "import torch\n",
    "import transformers\n",
    "import logging\n",
    "from wordcloud import WordCloud\n",
    "\n",
    "\n",
    "import warnings\n",
    "import seaborn as sns\n",
    "from tqdm import notebook\n",
    "from tqdm import tqdm\n",
    "from pprint import pprint\n",
    "from time import time\n",
    "\n",
    "sns.set_style('darkgrid')\n",
    "nltk.download('punkt')\n",
    "nltk.download('wordnet')\n",
    "warnings.filterwarnings('ignore', category=RuntimeWarning)\n",
    "nltk.download('stopwords')\n",
    "stopwords = set(stopwords.words('english'))\n",
    "\n",
    "np.random.seed(42)"
   ]
  },
  {
   "cell_type": "markdown",
   "metadata": {
    "id": "MI1oCwJ275AM"
   },
   "source": [
    "<a href=\"#footer\">К содержанию</a>\n",
    "<footer id=\"footer\"></footer>"
   ]
  },
  {
   "cell_type": "markdown",
   "metadata": {
    "id": "aUTVMeFRozE2"
   },
   "source": [
    "### Загрузка данных и первичный осмотр"
   ]
  },
  {
   "cell_type": "code",
   "execution_count": 6,
   "metadata": {
    "colab": {
     "base_uri": "https://localhost:8080/"
    },
    "id": "Rqt2yq_J8Jh1",
    "outputId": "a439a447-8d69-4f40-dadf-48359b9ebc6d"
   },
   "outputs": [],
   "source": [
    "%%capture\n",
    "! gdown --id 1QNQ79uPy6irNCA8hgNtDXtuc4ZPCzD0_;"
   ]
  },
  {
   "cell_type": "code",
   "execution_count": 7,
   "metadata": {
    "colab": {
     "base_uri": "https://localhost:8080/",
     "height": 204
    },
    "id": "NZ3aAMkUPGv6",
    "outputId": "746ee63f-9d8f-41e6-e340-29e047887fc5"
   },
   "outputs": [
    {
     "data": {
      "text/html": [
       "<div>\n",
       "<style scoped>\n",
       "    .dataframe tbody tr th:only-of-type {\n",
       "        vertical-align: middle;\n",
       "    }\n",
       "\n",
       "    .dataframe tbody tr th {\n",
       "        vertical-align: top;\n",
       "    }\n",
       "\n",
       "    .dataframe thead th {\n",
       "        text-align: right;\n",
       "    }\n",
       "</style>\n",
       "<table border=\"1\" class=\"dataframe\">\n",
       "  <thead>\n",
       "    <tr style=\"text-align: right;\">\n",
       "      <th></th>\n",
       "      <th>text</th>\n",
       "      <th>toxic</th>\n",
       "    </tr>\n",
       "  </thead>\n",
       "  <tbody>\n",
       "    <tr>\n",
       "      <td>0</td>\n",
       "      <td>Explanation\\nWhy the edits made under my usern...</td>\n",
       "      <td>0</td>\n",
       "    </tr>\n",
       "    <tr>\n",
       "      <td>1</td>\n",
       "      <td>D'aww! He matches this background colour I'm s...</td>\n",
       "      <td>0</td>\n",
       "    </tr>\n",
       "    <tr>\n",
       "      <td>2</td>\n",
       "      <td>Hey man, I'm really not trying to edit war. It...</td>\n",
       "      <td>0</td>\n",
       "    </tr>\n",
       "    <tr>\n",
       "      <td>3</td>\n",
       "      <td>\"\\nMore\\nI can't make any real suggestions on ...</td>\n",
       "      <td>0</td>\n",
       "    </tr>\n",
       "    <tr>\n",
       "      <td>4</td>\n",
       "      <td>You, sir, are my hero. Any chance you remember...</td>\n",
       "      <td>0</td>\n",
       "    </tr>\n",
       "  </tbody>\n",
       "</table>\n",
       "</div>"
      ],
      "text/plain": [
       "                                                text  toxic\n",
       "0  Explanation\\nWhy the edits made under my usern...      0\n",
       "1  D'aww! He matches this background colour I'm s...      0\n",
       "2  Hey man, I'm really not trying to edit war. It...      0\n",
       "3  \"\\nMore\\nI can't make any real suggestions on ...      0\n",
       "4  You, sir, are my hero. Any chance you remember...      0"
      ]
     },
     "execution_count": 7,
     "metadata": {},
     "output_type": "execute_result"
    }
   ],
   "source": [
    "try: \n",
    "    df = pd.read_csv('toxic_comments.csv')\n",
    "except:\n",
    "    df = pd.read_csv('/content/toxic_comments.csv')\n",
    "df.head()"
   ]
  },
  {
   "cell_type": "markdown",
   "metadata": {
    "id": "YvXdSs9P75AN"
   },
   "source": [
    "Столбец `text` содержит текст комментария, а `toxic` — целевой признак  \n",
    "\n",
    "Проверим пропуски"
   ]
  },
  {
   "cell_type": "code",
   "execution_count": 8,
   "metadata": {
    "colab": {
     "base_uri": "https://localhost:8080/"
    },
    "id": "MM0f8_c5PLQL",
    "outputId": "e2c10c96-25fa-4b3c-c6e5-615ae2b3c5cc"
   },
   "outputs": [
    {
     "data": {
      "text/plain": [
       "text     0.0\n",
       "toxic    0.0\n",
       "dtype: float64"
      ]
     },
     "execution_count": 8,
     "metadata": {},
     "output_type": "execute_result"
    }
   ],
   "source": [
    "df.isna().mean()"
   ]
  },
  {
   "cell_type": "code",
   "execution_count": 9,
   "metadata": {
    "colab": {
     "base_uri": "https://localhost:8080/"
    },
    "id": "-e-SKCb-Pc_m",
    "outputId": "45f7ddea-3830-4cd8-d61e-09eb0a79d8e5"
   },
   "outputs": [
    {
     "name": "stdout",
     "output_type": "stream",
     "text": [
      "<class 'pandas.core.frame.DataFrame'>\n",
      "RangeIndex: 159571 entries, 0 to 159570\n",
      "Data columns (total 2 columns):\n",
      "text     159571 non-null object\n",
      "toxic    159571 non-null int64\n",
      "dtypes: int64(1), object(1)\n",
      "memory usage: 2.4+ MB\n"
     ]
    }
   ],
   "source": [
    "df.info()"
   ]
  },
  {
   "cell_type": "markdown",
   "metadata": {
    "id": "1iuaPCiC75AN"
   },
   "source": [
    "Датасет содержит 159571 строку, типы данных соответствуют желаемым"
   ]
  },
  {
   "cell_type": "code",
   "execution_count": 10,
   "metadata": {
    "colab": {
     "base_uri": "https://localhost:8080/"
    },
    "id": "iM1UB8H7PgzJ",
    "outputId": "50f4db15-fe75-4902-ff66-eab0fb5cb6a4"
   },
   "outputs": [
    {
     "data": {
      "text/plain": [
       "0"
      ]
     },
     "execution_count": 10,
     "metadata": {},
     "output_type": "execute_result"
    }
   ],
   "source": [
    "df.duplicated().sum()"
   ]
  },
  {
   "cell_type": "markdown",
   "metadata": {
    "id": "13L1grbg75AO"
   },
   "source": [
    "Для удобства приведем текст к нижнему регистру"
   ]
  },
  {
   "cell_type": "code",
   "execution_count": 11,
   "metadata": {
    "id": "4Uyay4hHVn1V"
   },
   "outputs": [],
   "source": [
    "df['text'] = df['text'].str.lower()"
   ]
  },
  {
   "cell_type": "code",
   "execution_count": 12,
   "metadata": {
    "colab": {
     "base_uri": "https://localhost:8080/",
     "height": 204
    },
    "id": "WkTQPpGvVtSa",
    "outputId": "736aa45e-1104-4af8-d784-592e2407b24f"
   },
   "outputs": [
    {
     "data": {
      "text/html": [
       "<div>\n",
       "<style scoped>\n",
       "    .dataframe tbody tr th:only-of-type {\n",
       "        vertical-align: middle;\n",
       "    }\n",
       "\n",
       "    .dataframe tbody tr th {\n",
       "        vertical-align: top;\n",
       "    }\n",
       "\n",
       "    .dataframe thead th {\n",
       "        text-align: right;\n",
       "    }\n",
       "</style>\n",
       "<table border=\"1\" class=\"dataframe\">\n",
       "  <thead>\n",
       "    <tr style=\"text-align: right;\">\n",
       "      <th></th>\n",
       "      <th>text</th>\n",
       "      <th>toxic</th>\n",
       "    </tr>\n",
       "  </thead>\n",
       "  <tbody>\n",
       "    <tr>\n",
       "      <td>0</td>\n",
       "      <td>explanation\\nwhy the edits made under my usern...</td>\n",
       "      <td>0</td>\n",
       "    </tr>\n",
       "    <tr>\n",
       "      <td>1</td>\n",
       "      <td>d'aww! he matches this background colour i'm s...</td>\n",
       "      <td>0</td>\n",
       "    </tr>\n",
       "    <tr>\n",
       "      <td>2</td>\n",
       "      <td>hey man, i'm really not trying to edit war. it...</td>\n",
       "      <td>0</td>\n",
       "    </tr>\n",
       "    <tr>\n",
       "      <td>3</td>\n",
       "      <td>\"\\nmore\\ni can't make any real suggestions on ...</td>\n",
       "      <td>0</td>\n",
       "    </tr>\n",
       "    <tr>\n",
       "      <td>4</td>\n",
       "      <td>you, sir, are my hero. any chance you remember...</td>\n",
       "      <td>0</td>\n",
       "    </tr>\n",
       "  </tbody>\n",
       "</table>\n",
       "</div>"
      ],
      "text/plain": [
       "                                                text  toxic\n",
       "0  explanation\\nwhy the edits made under my usern...      0\n",
       "1  d'aww! he matches this background colour i'm s...      0\n",
       "2  hey man, i'm really not trying to edit war. it...      0\n",
       "3  \"\\nmore\\ni can't make any real suggestions on ...      0\n",
       "4  you, sir, are my hero. any chance you remember...      0"
      ]
     },
     "execution_count": 12,
     "metadata": {},
     "output_type": "execute_result"
    }
   ],
   "source": [
    "df.head()"
   ]
  },
  {
   "cell_type": "markdown",
   "metadata": {
    "id": "eehu7ukH75AO"
   },
   "source": [
    "**Вывод:** Преобразования первичные сделали, проверили на пропуски и дубликаты"
   ]
  },
  {
   "cell_type": "markdown",
   "metadata": {
    "id": "7SHT9-pM75AO"
   },
   "source": [
    "<a href=\"#footer\">К содержанию</a>\n",
    "<footer id=\"footer\"></footer>"
   ]
  },
  {
   "cell_type": "markdown",
   "metadata": {
    "id": "6GU1Dp1Y75AO"
   },
   "source": [
    "Создадим корпус, текст приведем к формату Unicode"
   ]
  },
  {
   "cell_type": "code",
   "execution_count": 13,
   "metadata": {
    "id": "xNgvJ7LqQZl4"
   },
   "outputs": [],
   "source": [
    "corpus = df['text'].values.astype('U')"
   ]
  },
  {
   "cell_type": "markdown",
   "metadata": {
    "id": "t-J6hyjQ75AP"
   },
   "source": [
    "Нам необходимо преобразовать текст, получить леммы, а также очистить от линих символов. Преобразования сделаем через функцию и библиотеку `nltk` и `re`"
   ]
  },
  {
   "cell_type": "code",
   "execution_count": 14,
   "metadata": {
    "id": "2WEGEIgLQlo9"
   },
   "outputs": [],
   "source": [
    "def text_preprocessing(text):\n",
    "    tokenized = nltk.word_tokenize(text)\n",
    "    joined = ' '.join(tokenized)\n",
    "    text_only = re.sub(r\"[^a-z0-9!@#\\$%\\^\\&\\*_\\-,\\.' ]\", ' ', joined)\n",
    "    final = ' '.join(text_only.split())\n",
    "    return final"
   ]
  },
  {
   "cell_type": "code",
   "execution_count": 15,
   "metadata": {
    "colab": {
     "base_uri": "https://localhost:8080/"
    },
    "id": "HKk-CzzDPxES",
    "outputId": "0c7fb0e1-f407-4694-c159-3e1c74727b13"
   },
   "outputs": [
    {
     "name": "stderr",
     "output_type": "stream",
     "text": [
      "100%|██████████| 159571/159571 [01:38<00:00, 1623.41it/s]\n"
     ]
    }
   ],
   "source": [
    "tqdm.pandas() \n",
    "df['token_text'] = df['text'].progress_apply(text_preprocessing)"
   ]
  },
  {
   "cell_type": "markdown",
   "metadata": {
    "id": "yO2XdUvI75AP"
   },
   "source": [
    "Получили леммы слов, можно продолжить работу с сетом"
   ]
  },
  {
   "cell_type": "code",
   "execution_count": 16,
   "metadata": {
    "colab": {
     "base_uri": "https://localhost:8080/",
     "height": 204
    },
    "id": "kpHtohRZpsF8",
    "outputId": "c7cf9302-a846-4c22-b073-aa0dd74d15e4"
   },
   "outputs": [
    {
     "data": {
      "text/html": [
       "<div>\n",
       "<style scoped>\n",
       "    .dataframe tbody tr th:only-of-type {\n",
       "        vertical-align: middle;\n",
       "    }\n",
       "\n",
       "    .dataframe tbody tr th {\n",
       "        vertical-align: top;\n",
       "    }\n",
       "\n",
       "    .dataframe thead th {\n",
       "        text-align: right;\n",
       "    }\n",
       "</style>\n",
       "<table border=\"1\" class=\"dataframe\">\n",
       "  <thead>\n",
       "    <tr style=\"text-align: right;\">\n",
       "      <th></th>\n",
       "      <th>text</th>\n",
       "      <th>toxic</th>\n",
       "      <th>token_text</th>\n",
       "    </tr>\n",
       "  </thead>\n",
       "  <tbody>\n",
       "    <tr>\n",
       "      <td>0</td>\n",
       "      <td>explanation\\nwhy the edits made under my usern...</td>\n",
       "      <td>0</td>\n",
       "      <td>explanation why the edits made under my userna...</td>\n",
       "    </tr>\n",
       "    <tr>\n",
       "      <td>1</td>\n",
       "      <td>d'aww! he matches this background colour i'm s...</td>\n",
       "      <td>0</td>\n",
       "      <td>d'aww ! he matches this background colour i 'm...</td>\n",
       "    </tr>\n",
       "    <tr>\n",
       "      <td>2</td>\n",
       "      <td>hey man, i'm really not trying to edit war. it...</td>\n",
       "      <td>0</td>\n",
       "      <td>hey man , i 'm really not trying to edit war ....</td>\n",
       "    </tr>\n",
       "    <tr>\n",
       "      <td>3</td>\n",
       "      <td>\"\\nmore\\ni can't make any real suggestions on ...</td>\n",
       "      <td>0</td>\n",
       "      <td>more i ca n't make any real suggestions on imp...</td>\n",
       "    </tr>\n",
       "    <tr>\n",
       "      <td>4</td>\n",
       "      <td>you, sir, are my hero. any chance you remember...</td>\n",
       "      <td>0</td>\n",
       "      <td>you , sir , are my hero . any chance you remem...</td>\n",
       "    </tr>\n",
       "  </tbody>\n",
       "</table>\n",
       "</div>"
      ],
      "text/plain": [
       "                                                text  toxic  \\\n",
       "0  explanation\\nwhy the edits made under my usern...      0   \n",
       "1  d'aww! he matches this background colour i'm s...      0   \n",
       "2  hey man, i'm really not trying to edit war. it...      0   \n",
       "3  \"\\nmore\\ni can't make any real suggestions on ...      0   \n",
       "4  you, sir, are my hero. any chance you remember...      0   \n",
       "\n",
       "                                          token_text  \n",
       "0  explanation why the edits made under my userna...  \n",
       "1  d'aww ! he matches this background colour i 'm...  \n",
       "2  hey man , i 'm really not trying to edit war ....  \n",
       "3  more i ca n't make any real suggestions on imp...  \n",
       "4  you , sir , are my hero . any chance you remem...  "
      ]
     },
     "execution_count": 16,
     "metadata": {},
     "output_type": "execute_result"
    }
   ],
   "source": [
    "df.head()"
   ]
  },
  {
   "cell_type": "markdown",
   "metadata": {
    "id": "wiqY-wOr75AP"
   },
   "source": [
    "Также преобразуем признак `token_text` к формату Unicode"
   ]
  },
  {
   "cell_type": "code",
   "execution_count": 17,
   "metadata": {
    "id": "4Fzp5rb9VU-K"
   },
   "outputs": [],
   "source": [
    "corpus_lemm = df['token_text'].values.astype('U')"
   ]
  },
  {
   "cell_type": "markdown",
   "metadata": {
    "id": "e6UytlON75AQ"
   },
   "source": [
    "Получили корпус для дальнейшей обработки"
   ]
  },
  {
   "cell_type": "code",
   "execution_count": 18,
   "metadata": {
    "id": "TtGyn5tS75AQ"
   },
   "outputs": [],
   "source": [
    "corpus_lemm_toxic = df['token_text'][df['toxic'] == 1].values.astype('U')"
   ]
  },
  {
   "cell_type": "code",
   "execution_count": 19,
   "metadata": {
    "colab": {
     "base_uri": "https://localhost:8080/",
     "height": 342
    },
    "id": "vnVbv8A-YnWt",
    "outputId": "bca2cc72-5d8c-412e-cad3-d878c3c5b91d"
   },
   "outputs": [
    {
     "data": {
      "image/png": "[encoded data removed]",
      "text/plain": [
       "<Figure size 630x420 with 1 Axes>"
      ]
     },
     "metadata": {},
     "output_type": "display_data"
    }
   ],
   "source": [
    "x, y = np.ogrid[:300, :300]\n",
    "\n",
    "mask = (x - 150) ** 2 + (y - 150) ** 2 > 150 ** 2\n",
    "mask = 255 * mask.astype(int)\n",
    "\n",
    "wc = WordCloud(background_color=\"white\", \n",
    "               random_state=42, mask=mask, repeat=True,\n",
    "               stopwords=stopwords).generate(corpus_lemm_toxic[0])\n",
    "\n",
    "plt.figure(figsize=(15, 10), dpi=42)\n",
    "plt.imshow(wc, interpolation='bilinear')\n",
    "plt.axis(\"off\")\n",
    "plt.show()"
   ]
  },
  {
   "cell_type": "markdown",
   "metadata": {
    "id": "z9I5szAM75AR"
   },
   "source": [
    "**Вывод:** Преобразовали датасет и получили леммы слов. В облаке слов чаще всего встречаются слова **cocksucker, piss** - попробуем обучить модели для предсказания токсичности текста. \n",
    "\n",
    "Учить будем ансамбль моделей на базе Логистической регрессии, Случайного леса и SGD классификатора, попробуем обучить отдельно SGD классификатор, а таже воспользуемся Word2vec классом моделей BERT для получения эммбендингов и предсказания на них - возможно нам удастся улучшить результаты базовых моделей\n",
    "\n",
    "Для ускорения процесса обучения BERT будет передаваться лишь часть датасета, что должно определнным образом сказаться на результате"
   ]
  },
  {
   "cell_type": "markdown",
   "metadata": {
    "id": "KfVqr7Er75AR"
   },
   "source": [
    "<a href=\"#footer\">К содержанию</a>\n",
    "<footer id=\"footer\"></footer>"
   ]
  },
  {
   "cell_type": "markdown",
   "metadata": {
    "id": "R8Zjje-k75AR"
   },
   "source": [
    "## Обучение моделей"
   ]
  },
  {
   "cell_type": "markdown",
   "metadata": {
    "id": "OQ5fUqOZ75AR"
   },
   "source": [
    "Выведем наш датасет еще раз и посмотрим на распределение классов"
   ]
  },
  {
   "cell_type": "code",
   "execution_count": 20,
   "metadata": {
    "colab": {
     "base_uri": "https://localhost:8080/",
     "height": 204
    },
    "id": "Ol8X6Qbeqyd5",
    "outputId": "749b52f4-ae49-4b1f-8d1b-9d602020e4c0"
   },
   "outputs": [
    {
     "data": {
      "text/html": [
       "<div>\n",
       "<style scoped>\n",
       "    .dataframe tbody tr th:only-of-type {\n",
       "        vertical-align: middle;\n",
       "    }\n",
       "\n",
       "    .dataframe tbody tr th {\n",
       "        vertical-align: top;\n",
       "    }\n",
       "\n",
       "    .dataframe thead th {\n",
       "        text-align: right;\n",
       "    }\n",
       "</style>\n",
       "<table border=\"1\" class=\"dataframe\">\n",
       "  <thead>\n",
       "    <tr style=\"text-align: right;\">\n",
       "      <th></th>\n",
       "      <th>text</th>\n",
       "      <th>toxic</th>\n",
       "      <th>token_text</th>\n",
       "    </tr>\n",
       "  </thead>\n",
       "  <tbody>\n",
       "    <tr>\n",
       "      <td>0</td>\n",
       "      <td>explanation\\nwhy the edits made under my usern...</td>\n",
       "      <td>0</td>\n",
       "      <td>explanation why the edits made under my userna...</td>\n",
       "    </tr>\n",
       "    <tr>\n",
       "      <td>1</td>\n",
       "      <td>d'aww! he matches this background colour i'm s...</td>\n",
       "      <td>0</td>\n",
       "      <td>d'aww ! he matches this background colour i 'm...</td>\n",
       "    </tr>\n",
       "    <tr>\n",
       "      <td>2</td>\n",
       "      <td>hey man, i'm really not trying to edit war. it...</td>\n",
       "      <td>0</td>\n",
       "      <td>hey man , i 'm really not trying to edit war ....</td>\n",
       "    </tr>\n",
       "    <tr>\n",
       "      <td>3</td>\n",
       "      <td>\"\\nmore\\ni can't make any real suggestions on ...</td>\n",
       "      <td>0</td>\n",
       "      <td>more i ca n't make any real suggestions on imp...</td>\n",
       "    </tr>\n",
       "    <tr>\n",
       "      <td>4</td>\n",
       "      <td>you, sir, are my hero. any chance you remember...</td>\n",
       "      <td>0</td>\n",
       "      <td>you , sir , are my hero . any chance you remem...</td>\n",
       "    </tr>\n",
       "  </tbody>\n",
       "</table>\n",
       "</div>"
      ],
      "text/plain": [
       "                                                text  toxic  \\\n",
       "0  explanation\\nwhy the edits made under my usern...      0   \n",
       "1  d'aww! he matches this background colour i'm s...      0   \n",
       "2  hey man, i'm really not trying to edit war. it...      0   \n",
       "3  \"\\nmore\\ni can't make any real suggestions on ...      0   \n",
       "4  you, sir, are my hero. any chance you remember...      0   \n",
       "\n",
       "                                          token_text  \n",
       "0  explanation why the edits made under my userna...  \n",
       "1  d'aww ! he matches this background colour i 'm...  \n",
       "2  hey man , i 'm really not trying to edit war ....  \n",
       "3  more i ca n't make any real suggestions on imp...  \n",
       "4  you , sir , are my hero . any chance you remem...  "
      ]
     },
     "execution_count": 20,
     "metadata": {},
     "output_type": "execute_result"
    }
   ],
   "source": [
    "df.head()"
   ]
  },
  {
   "cell_type": "code",
   "execution_count": 21,
   "metadata": {
    "colab": {
     "base_uri": "https://localhost:8080/",
     "height": 111
    },
    "id": "yJv37eYH23gz",
    "outputId": "dd452a45-8b47-4eb3-b08c-857c13dc19f1"
   },
   "outputs": [
    {
     "data": {
      "text/html": [
       "<div>\n",
       "<style scoped>\n",
       "    .dataframe tbody tr th:only-of-type {\n",
       "        vertical-align: middle;\n",
       "    }\n",
       "\n",
       "    .dataframe tbody tr th {\n",
       "        vertical-align: top;\n",
       "    }\n",
       "\n",
       "    .dataframe thead th {\n",
       "        text-align: right;\n",
       "    }\n",
       "</style>\n",
       "<table border=\"1\" class=\"dataframe\">\n",
       "  <thead>\n",
       "    <tr style=\"text-align: right;\">\n",
       "      <th></th>\n",
       "      <th>toxic</th>\n",
       "    </tr>\n",
       "  </thead>\n",
       "  <tbody>\n",
       "    <tr>\n",
       "      <td>0</td>\n",
       "      <td>0.898321</td>\n",
       "    </tr>\n",
       "    <tr>\n",
       "      <td>1</td>\n",
       "      <td>0.101679</td>\n",
       "    </tr>\n",
       "  </tbody>\n",
       "</table>\n",
       "</div>"
      ],
      "text/plain": [
       "      toxic\n",
       "0  0.898321\n",
       "1  0.101679"
      ]
     },
     "execution_count": 21,
     "metadata": {},
     "output_type": "execute_result"
    }
   ],
   "source": [
    "df['toxic'].value_counts(normalize=True).to_frame()"
   ]
  },
  {
   "cell_type": "markdown",
   "metadata": {
    "id": "tG-viHtA75AS"
   },
   "source": [
    "Токсичных комментариев в нашем сете всего 10%, наблюдается сильный дисбаланс классов. Попробуем пойти двумя путями:\n",
    "\n",
    "- обучим модель на сете с применением **downsampling**\n",
    "- обучим модель с выставлением параметра **class_weight='balanced'**"
   ]
  },
  {
   "cell_type": "markdown",
   "metadata": {
    "id": "jK6ahoJQ75AS"
   },
   "source": [
    "<a href=\"#footer\">К содержанию</a>\n",
    "<footer id=\"footer\"></footer>"
   ]
  },
  {
   "cell_type": "markdown",
   "metadata": {
    "id": "xbViK1Tz75AS"
   },
   "source": [
    "### Подготовка признаков"
   ]
  },
  {
   "cell_type": "markdown",
   "metadata": {
    "id": "HFv9LQda75AS"
   },
   "source": [
    "Выделим из дата сета целевой признак и обучающий признак - текст"
   ]
  },
  {
   "cell_type": "code",
   "execution_count": 22,
   "metadata": {
    "id": "MPS77C2z3RtM"
   },
   "outputs": [],
   "source": [
    "features = df['token_text']\n",
    "target = df['toxic']"
   ]
  },
  {
   "cell_type": "markdown",
   "metadata": {
    "id": "g7QekrSr75AS"
   },
   "source": [
    "Разделим нашу выборку, размер теста обозначим как 25%"
   ]
  },
  {
   "cell_type": "code",
   "execution_count": 23,
   "metadata": {
    "id": "zQLb1IO875AS"
   },
   "outputs": [],
   "source": [
    "features_train, features_test, target_train, target_test = train_test_split(\n",
    "    features, target, test_size=0.25, random_state=42)"
   ]
  },
  {
   "cell_type": "markdown",
   "metadata": {
    "id": "tP9ljJ2o75AS"
   },
   "source": [
    "Напишем функцию, пощволяющую достичь баланса класс, через downsampling"
   ]
  },
  {
   "cell_type": "code",
   "execution_count": 24,
   "metadata": {
    "id": "6Ye3NjeV28lK"
   },
   "outputs": [],
   "source": [
    "def downsample(features, target, fraction):\n",
    "    features_zeros = features[target == 0]\n",
    "    features_ones = features[target == 1]\n",
    "    target_zeros = target[target == 0]\n",
    "    target_ones = target[target == 1]\n",
    "\n",
    "    features_sample = features_zeros.sample(frac=0.1, random_state=42)\n",
    "    target_sample = target_zeros.sample(frac=0.1, random_state=42)\n",
    "    \n",
    "    features_downsampled = pd.concat([features_sample] + [features_ones])\n",
    "    target_downsampled = pd.concat([target_sample] + [target_ones])\n",
    "    \n",
    "    features_downsampled = shuffle(features_downsampled, random_state=42)\n",
    "    target_downsampled = shuffle(target_downsampled, random_state=42)\n",
    "    \n",
    "    return features_downsampled, target_downsampled"
   ]
  },
  {
   "cell_type": "markdown",
   "metadata": {
    "id": "fViK2yED75AT"
   },
   "source": [
    "Получим новые сеты"
   ]
  },
  {
   "cell_type": "code",
   "execution_count": 25,
   "metadata": {
    "colab": {
     "base_uri": "https://localhost:8080/"
    },
    "id": "LmxocO7075AT",
    "outputId": "6e1e256a-3562-459b-8870-439afc05d294"
   },
   "outputs": [
    {
     "name": "stdout",
     "output_type": "stream",
     "text": [
      "(22917,)\n",
      "(22917,)\n"
     ]
    }
   ],
   "source": [
    "features_downsampled, target_downsampled = downsample(features_train, target_train, 0.1)\n",
    "\n",
    "print(features_downsampled.shape)\n",
    "print(target_downsampled.shape)"
   ]
  },
  {
   "cell_type": "code",
   "execution_count": 26,
   "metadata": {
    "colab": {
     "base_uri": "https://localhost:8080/"
    },
    "id": "nIycaavL3ki0",
    "outputId": "1d5339c3-96e3-4367-fcb9-50c009a6ab37"
   },
   "outputs": [
    {
     "data": {
      "text/plain": [
       "1    0.530872\n",
       "0    0.469128\n",
       "Name: toxic, dtype: float64"
      ]
     },
     "execution_count": 26,
     "metadata": {},
     "output_type": "execute_result"
    }
   ],
   "source": [
    "target_downsampled.value_counts(normalize=True)"
   ]
  },
  {
   "cell_type": "markdown",
   "metadata": {
    "id": "H_ud_lkU75AT"
   },
   "source": [
    "Дисбаланс незначительный, с таким сетом можно попробовать обучить модель. Для начала получим TD-IDF меру для нового сета"
   ]
  },
  {
   "cell_type": "code",
   "execution_count": 27,
   "metadata": {
    "colab": {
     "base_uri": "https://localhost:8080/"
    },
    "id": "yRhVwfSL4hXI",
    "outputId": "512ac1be-4f48-4ed4-ed2b-2714d3e4d27b"
   },
   "outputs": [
    {
     "name": "stdout",
     "output_type": "stream",
     "text": [
      "Размер матрицы обучения: (22917, 52572)\n"
     ]
    }
   ],
   "source": [
    "count_tf_idf = TfidfVectorizer(stop_words=stopwords)\n",
    "tf_idf = count_tf_idf.fit_transform(features_downsampled)\n",
    "\n",
    "print(\"Размер матрицы обучения:\", tf_idf.shape)"
   ]
  },
  {
   "cell_type": "code",
   "execution_count": 28,
   "metadata": {
    "id": "2k_6e8jj75AT"
   },
   "outputs": [],
   "source": [
    "model_name = []\n",
    "fscore = []"
   ]
  },
  {
   "cell_type": "markdown",
   "metadata": {
    "id": "Hpv73BlU75AT"
   },
   "source": [
    "<a href=\"#footer\">К содержанию</a>\n",
    "<footer id=\"footer\"></footer>"
   ]
  },
  {
   "cell_type": "markdown",
   "metadata": {
    "id": "jQcOR6qw75AT"
   },
   "source": [
    "### Обучение ансамбля Логистической регрессии, Случайного леса и SGD моделей c downsampling"
   ]
  },
  {
   "cell_type": "markdown",
   "metadata": {
    "id": "QKNJvEI775AT"
   },
   "source": [
    "Обучим ансамбль моделей с применением техники downsampling"
   ]
  },
  {
   "cell_type": "code",
   "execution_count": 29,
   "metadata": {
    "id": "PhUuCQWg4zbz"
   },
   "outputs": [],
   "source": [
    "X_train_ans = tf_idf\n",
    "y_train_ans = target_downsampled"
   ]
  },
  {
   "cell_type": "code",
   "execution_count": 30,
   "metadata": {
    "colab": {
     "base_uri": "https://localhost:8080/"
    },
    "id": "R_iiOfls4nnY",
    "outputId": "d72b726a-f7bb-4d56-bbc1-ea5ab905e6b0"
   },
   "outputs": [
    {
     "name": "stdout",
     "output_type": "stream",
     "text": [
      "0.6525618618342379\n",
      "CPU times: user 5.45 s, sys: 3.67 s, total: 9.13 s\n",
      "Wall time: 4.97 s\n"
     ]
    }
   ],
   "source": [
    "%%time\n",
    "log_clf = LogisticRegression(solver=\"liblinear\", random_state=42)\n",
    "rnd_clf = RandomForestClassifier(n_estimators=10, random_state=42)\n",
    "sgb_clf = SGDClassifier(max_iter = 1000, random_state=42, loss='modified_huber')\n",
    "\n",
    "voting_clf = VotingClassifier(\n",
    "    estimators=[('lr', log_clf), ('rf', rnd_clf), ('sgb', sgb_clf)],\n",
    "    voting='soft')\n",
    "\n",
    "X_test_ans = count_tf_idf.transform(features_test)\n",
    "\n",
    "voting_clf.fit(X_train_ans, y_train_ans)\n",
    "predict = voting_clf.predict(X_test_ans)\n",
    "f_score = f1_score(predict, target_test)\n",
    "\n",
    "print('{}'.format(f_score))"
   ]
  },
  {
   "cell_type": "markdown",
   "metadata": {
    "id": "G5XOiM8j75AU"
   },
   "source": [
    "F1 мера ниже проходной 0.75, модель плохо обобщается на тесте - попробуем обучение без downsampling с балансом классов"
   ]
  },
  {
   "cell_type": "code",
   "execution_count": 31,
   "metadata": {
    "id": "geeZRRgM75AU"
   },
   "outputs": [],
   "source": [
    "model_name.append(str(voting_clf.__class__.__name__)+str(' ')+str('downsampling LR, RF, SGD'))\n",
    "fscore.append(round(f_score, 2))"
   ]
  },
  {
   "cell_type": "markdown",
   "metadata": {
    "id": "sRqidFhT75AU"
   },
   "source": [
    "<a href=\"#footer\">К содержанию</a>\n",
    "<footer id=\"footer\"></footer>"
   ]
  },
  {
   "cell_type": "markdown",
   "metadata": {
    "id": "GZCu9ecGA7T7"
   },
   "source": [
    "### Обучение ансамбля Логистической регрессии, Случайного леса и SGD моделей  без downsampling"
   ]
  },
  {
   "cell_type": "markdown",
   "metadata": {
    "id": "R63Gm_HI75AU"
   },
   "source": [
    "Обучим модель на базе того же ансамбля, но вместо сбалансированного сета используем базовый лемматизированный и вес классов установим как сбалансированный"
   ]
  },
  {
   "cell_type": "code",
   "execution_count": 32,
   "metadata": {
    "id": "p8dQ-Zmq75AU"
   },
   "outputs": [],
   "source": [
    "count_tf = TfidfVectorizer(stop_words=stopwords)\n",
    "tf_idf_new = count_tf.fit_transform(features_train)"
   ]
  },
  {
   "cell_type": "markdown",
   "metadata": {},
   "source": [
    "Получили TD IDF для нашей обучающей выборки. Составим ансмабль моделей"
   ]
  },
  {
   "cell_type": "code",
   "execution_count": 33,
   "metadata": {
    "colab": {
     "base_uri": "https://localhost:8080/"
    },
    "id": "pfx3oeqSBYHU",
    "outputId": "bb61f3dc-e4a4-4fc2-f1a5-2b4274f60316"
   },
   "outputs": [
    {
     "name": "stdout",
     "output_type": "stream",
     "text": [
      "CPU times: user 4min 59s, sys: 13.9 s, total: 5min 13s\n",
      "Wall time: 4min 58s\n"
     ]
    }
   ],
   "source": [
    "%%time\n",
    "X_train = tf_idf_new\n",
    "y_train = target_train\n",
    "\n",
    "X_test = count_tf.transform(features_test)\n",
    "\n",
    "\n",
    "log_clf = LogisticRegression(solver=\"liblinear\", random_state=42,\n",
    "                            class_weight='balanced')\n",
    "rnd_clf = RandomForestClassifier(n_estimators=100, random_state=42, \n",
    "                            class_weight='balanced')\n",
    "sgb_clf = SGDClassifier(max_iter = 1000, random_state=42, \n",
    "                        loss='modified_huber')\n",
    "\n",
    "voting_clf = VotingClassifier(\n",
    "    estimators=[('lr', log_clf), ('rf', rnd_clf), ('sgb', sgb_clf)],\n",
    "    voting='soft')\n",
    "\n",
    "voting_clf.fit(X_train, y_train)\n",
    "predict_new = voting_clf.predict(X_test)"
   ]
  },
  {
   "cell_type": "code",
   "execution_count": 34,
   "metadata": {
    "colab": {
     "base_uri": "https://localhost:8080/"
    },
    "id": "qvnnTLQzIeUr",
    "outputId": "07adf800-57e7-4a10-a2b2-1ee36112ee9c"
   },
   "outputs": [
    {
     "name": "stdout",
     "output_type": "stream",
     "text": [
      "0.7879455070868308\n"
     ]
    }
   ],
   "source": [
    "f_score = f1_score(predict_new, target_test)\n",
    "print(f_score)"
   ]
  },
  {
   "cell_type": "markdown",
   "metadata": {
    "id": "Rw7x_5zV75AU"
   },
   "source": [
    "С таким подходом удалось увеличить F1 меру до проходной"
   ]
  },
  {
   "cell_type": "code",
   "execution_count": 35,
   "metadata": {
    "id": "R3CYcgTS75AU"
   },
   "outputs": [],
   "source": [
    "(model_name.append(str(voting_clf.__class__.__name__)\n",
    "                   +str(' ')\n",
    "                   +str('class_weight balanced, LR, RF, SGD')))\n",
    "fscore.append(round(f_score, 2))"
   ]
  },
  {
   "cell_type": "markdown",
   "metadata": {
    "id": "teK7qyxc75AU"
   },
   "source": [
    "<a href=\"#footer\">К содержанию</a>\n",
    "<footer id=\"footer\"></footer>"
   ]
  },
  {
   "cell_type": "markdown",
   "metadata": {
    "id": "8IpXZhrsItBF"
   },
   "source": [
    "### Обучение модели SGD без downsampling c GS и Pipeline"
   ]
  },
  {
   "cell_type": "markdown",
   "metadata": {
    "id": "_APhmliP75AU"
   },
   "source": [
    "Попробуем модель с стохастическим градиентным спуском отдельно, без downsampling с использованием CountVectorizer и TfidfTransformer через Pipeline"
   ]
  },
  {
   "cell_type": "code",
   "execution_count": 36,
   "metadata": {},
   "outputs": [],
   "source": [
    "X_train = features_train\n",
    "y_train = target_train"
   ]
  },
  {
   "cell_type": "code",
   "execution_count": 37,
   "metadata": {},
   "outputs": [],
   "source": [
    "%%capture\n",
    "logging.basicConfig(level=logging.INFO,\n",
    "                    format='%(asctime)s %(levelname)s %(message)s')\n",
    "# подготовим Pipeline\n",
    "\n",
    "pipeline = Pipeline([\n",
    "    ('vect', CountVectorizer()),\n",
    "    ('tfidf', TfidfTransformer()),\n",
    "    ('clf', SGDClassifier(class_weight='balanced',\n",
    "                         early_stopping=True, loss='modified_huber')),\n",
    "])\n",
    "\n",
    "# соберем словарь параметров для GS_CV\n",
    "\n",
    "parameters = {\n",
    "\n",
    "    'vect__max_features': (50000, 60000),\n",
    "    'tfidf__use_idf': (True, False),\n",
    "    'clf__alpha': (0.0001, 0.0001),\n",
    "    'clf__penalty': ('l2', 'elasticnet'),\n",
    "    'clf__max_iter': (1000, 750),\n",
    "}\n",
    "\n",
    "# проведем поиск лучших параметров и обучим лучшую модель\n",
    "\n",
    "grid_search = GridSearchCV(pipeline, parameters, verbose=100,\n",
    "                          cv=5, scoring='f1')\n",
    "\n",
    "print(\"Выполнение grid search...\")\n",
    "print(\"pipeline:\", [name for name, _ in pipeline.steps])\n",
    "print(\"параметры:\")\n",
    "pprint(parameters)\n",
    "t0 = time()\n",
    "grid_search.fit(X_train, y_train)\n",
    "print(\"сделано за %0.3fs\" % (time() - t0))\n",
    "print()\n",
    "\n",
    "print(\"лучший score: %0.3f\" % grid_search.best_score_)\n",
    "print(\"лучшие параметры:\")\n",
    "best_parameters = grid_search.best_estimator_.get_params()\n",
    "for param_name in sorted(parameters.keys()):\n",
    "    print(\"\\t%s: %r\" % (param_name, best_parameters[param_name]))\n",
    "\n"
   ]
  },
  {
   "cell_type": "code",
   "execution_count": 38,
   "metadata": {},
   "outputs": [],
   "source": [
    "sgb_clf_gv = grid_search.best_estimator_"
   ]
  },
  {
   "cell_type": "code",
   "execution_count": 39,
   "metadata": {
    "colab": {
     "base_uri": "https://localhost:8080/"
    },
    "id": "Q9Mg6BDEEErl",
    "outputId": "fffc6539-1c49-4d5d-fabe-62b3387f6dfa"
   },
   "outputs": [
    {
     "name": "stdout",
     "output_type": "stream",
     "text": [
      "0.736645576185043\n",
      "CPU times: user 1.71 s, sys: 145 ms, total: 1.86 s\n",
      "Wall time: 1.71 s\n"
     ]
    }
   ],
   "source": [
    "%%time\n",
    "\n",
    "predict = sgb_clf_gv.predict(features_test)\n",
    "f_score = f1_score(predict, target_test)\n",
    "print(f_score)"
   ]
  },
  {
   "cell_type": "markdown",
   "metadata": {
    "id": "3Cp7Lw1P75AV"
   },
   "source": [
    "Результат неудовлетворительный, стоит отметит, что скорость обучения такаже достаточно низкая"
   ]
  },
  {
   "cell_type": "code",
   "execution_count": 40,
   "metadata": {
    "id": "9oEEngY575AV"
   },
   "outputs": [],
   "source": [
    "model_name.append(str(sgb_clf.__class__.__name__)+str(' ')+str('class_weight balanced'))\n",
    "fscore.append(round(f_score, 2))"
   ]
  },
  {
   "cell_type": "markdown",
   "metadata": {
    "id": "fcGnizRS75AV"
   },
   "source": [
    "<a href=\"#footer\">К содержанию</a>\n",
    "<footer id=\"footer\"></footer>"
   ]
  },
  {
   "cell_type": "markdown",
   "metadata": {},
   "source": [
    "### Ансамбль на базе Случайного леса, Особо случайного леса, Опорных векторов и MLPClassifier"
   ]
  },
  {
   "cell_type": "markdown",
   "metadata": {},
   "source": [
    "Создадим валидационную выборку для отсройки модели и обучающую"
   ]
  },
  {
   "cell_type": "code",
   "execution_count": 41,
   "metadata": {},
   "outputs": [],
   "source": [
    "X_train, X_val, y_train, y_val = train_test_split(\n",
    "    features_train, target_train, test_size=0.2, random_state=42)"
   ]
  },
  {
   "cell_type": "code",
   "execution_count": 42,
   "metadata": {},
   "outputs": [],
   "source": [
    "count_tf = TfidfVectorizer(stop_words=stopwords)\n",
    "X_train_idf = count_tf.fit_transform(X_train)\n",
    "X_val_idf = count_tf.transform(X_val)\n",
    "X_test = count_tf.transform(features_test)"
   ]
  },
  {
   "cell_type": "markdown",
   "metadata": {},
   "source": [
    "Создадим модели на базе RandomForestClassifier, ExtraTreesClassifier, LinearSVC, MLPClassifier и проверим их производительность по отдельности - если результаты будут схожими - составим из них ансамбль"
   ]
  },
  {
   "cell_type": "code",
   "execution_count": 43,
   "metadata": {},
   "outputs": [],
   "source": [
    "random_forest_clf = RandomForestClassifier(n_estimators=10, random_state=42, \n",
    "                                           class_weight='balanced')\n",
    "extra_trees_clf = ExtraTreesClassifier(n_estimators=10, random_state=42, \n",
    "                                       class_weight='balanced')\n",
    "svm_clf = LinearSVC(random_state=42, class_weight='balanced')\n",
    "mlp_clf = MLPClassifier(random_state=42, early_stopping=True)"
   ]
  },
  {
   "cell_type": "code",
   "execution_count": 44,
   "metadata": {},
   "outputs": [
    {
     "name": "stdout",
     "output_type": "stream",
     "text": [
      "Обучение RandomForestClassifier(bootstrap=True, class_weight='balanced',\n",
      "                       criterion='gini', max_depth=None, max_features='auto',\n",
      "                       max_leaf_nodes=None, min_impurity_decrease=0.0,\n",
      "                       min_impurity_split=None, min_samples_leaf=1,\n",
      "                       min_samples_split=2, min_weight_fraction_leaf=0.0,\n",
      "                       n_estimators=10, n_jobs=None, oob_score=False,\n",
      "                       random_state=42, verbose=0, warm_start=False)\n",
      "Обучение ExtraTreesClassifier(bootstrap=False, class_weight='balanced', criterion='gini',\n",
      "                     max_depth=None, max_features='auto', max_leaf_nodes=None,\n",
      "                     min_impurity_decrease=0.0, min_impurity_split=None,\n",
      "                     min_samples_leaf=1, min_samples_split=2,\n",
      "                     min_weight_fraction_leaf=0.0, n_estimators=10, n_jobs=None,\n",
      "                     oob_score=False, random_state=42, verbose=0,\n",
      "                     warm_start=False)\n",
      "Обучение LinearSVC(C=1.0, class_weight='balanced', dual=True, fit_intercept=True,\n",
      "          intercept_scaling=1, loss='squared_hinge', max_iter=1000,\n",
      "          multi_class='ovr', penalty='l2', random_state=42, tol=0.0001,\n",
      "          verbose=0)\n",
      "Обучение MLPClassifier(activation='relu', alpha=0.0001, batch_size='auto', beta_1=0.9,\n",
      "              beta_2=0.999, early_stopping=True, epsilon=1e-08,\n",
      "              hidden_layer_sizes=(100,), learning_rate='constant',\n",
      "              learning_rate_init=0.001, max_iter=200, momentum=0.9,\n",
      "              n_iter_no_change=10, nesterovs_momentum=True, power_t=0.5,\n",
      "              random_state=42, shuffle=True, solver='adam', tol=0.0001,\n",
      "              validation_fraction=0.1, verbose=False, warm_start=False)\n"
     ]
    }
   ],
   "source": [
    "estimators = [random_forest_clf, extra_trees_clf, svm_clf, mlp_clf]\n",
    "for estimator in estimators:\n",
    "    print('Обучение', estimator)\n",
    "    estimator.fit(X_train_idf, y_train)"
   ]
  },
  {
   "cell_type": "markdown",
   "metadata": {},
   "source": [
    "Посмотрим производительность наших моделей на валидационной выборке"
   ]
  },
  {
   "cell_type": "code",
   "execution_count": 45,
   "metadata": {},
   "outputs": [
    {
     "data": {
      "text/plain": [
       "[0.9350350935828877,\n",
       " 0.9347008689839572,\n",
       " 0.9488218582887701,\n",
       " 0.9553810160427807]"
      ]
     },
     "execution_count": 45,
     "metadata": {},
     "output_type": "execute_result"
    }
   ],
   "source": [
    "[estimator.score(X_val_idf, y_val) for estimator in estimators]"
   ]
  },
  {
   "cell_type": "markdown",
   "metadata": {},
   "source": [
    "Результаты достаточно хорошие на всех моделях - соберем из них ансамбль с мягким голосованием"
   ]
  },
  {
   "cell_type": "code",
   "execution_count": 46,
   "metadata": {},
   "outputs": [],
   "source": [
    "estimators = [\n",
    "    (\"random_forest_clf\", random_forest_clf),\n",
    "    (\"extra_trees_clf\", extra_trees_clf),\n",
    "    (\"svm_clf\", svm_clf),\n",
    "    (\"mlp_clf\", mlp_clf),\n",
    "]"
   ]
  },
  {
   "cell_type": "code",
   "execution_count": 47,
   "metadata": {},
   "outputs": [],
   "source": [
    "voting_clf = VotingClassifier(estimators, voting = \"soft\")"
   ]
  },
  {
   "cell_type": "code",
   "execution_count": 48,
   "metadata": {},
   "outputs": [
    {
     "data": {
      "text/plain": [
       "VotingClassifier(estimators=[('random_forest_clf',\n",
       "                              RandomForestClassifier(bootstrap=True,\n",
       "                                                     class_weight='balanced',\n",
       "                                                     criterion='gini',\n",
       "                                                     max_depth=None,\n",
       "                                                     max_features='auto',\n",
       "                                                     max_leaf_nodes=None,\n",
       "                                                     min_impurity_decrease=0.0,\n",
       "                                                     min_impurity_split=None,\n",
       "                                                     min_samples_leaf=1,\n",
       "                                                     min_samples_split=2,\n",
       "                                                     min_weight_fraction_leaf=0.0,\n",
       "                                                     n_estimators=10,\n",
       "                                                     n_jobs=None,\n",
       "                                                     oob_score=False,\n",
       "                                                     rand...\n",
       "                                            beta_2=0.999, early_stopping=True,\n",
       "                                            epsilon=1e-08,\n",
       "                                            hidden_layer_sizes=(100,),\n",
       "                                            learning_rate='constant',\n",
       "                                            learning_rate_init=0.001,\n",
       "                                            max_iter=200, momentum=0.9,\n",
       "                                            n_iter_no_change=10,\n",
       "                                            nesterovs_momentum=True,\n",
       "                                            power_t=0.5, random_state=42,\n",
       "                                            shuffle=True, solver='adam',\n",
       "                                            tol=0.0001, validation_fraction=0.1,\n",
       "                                            verbose=False, warm_start=False))],\n",
       "                 flatten_transform=True, n_jobs=None, voting='soft',\n",
       "                 weights=None)"
      ]
     },
     "execution_count": 48,
     "metadata": {},
     "output_type": "execute_result"
    }
   ],
   "source": [
    "voting_clf.fit(X_train_idf, y_train)"
   ]
  },
  {
   "cell_type": "code",
   "execution_count": 51,
   "metadata": {},
   "outputs": [],
   "source": [
    "del voting_clf.estimators_[2]"
   ]
  },
  {
   "cell_type": "code",
   "execution_count": 52,
   "metadata": {},
   "outputs": [
    {
     "data": {
      "text/plain": [
       "[RandomForestClassifier(bootstrap=True, class_weight='balanced',\n",
       "                        criterion='gini', max_depth=None, max_features='auto',\n",
       "                        max_leaf_nodes=None, min_impurity_decrease=0.0,\n",
       "                        min_impurity_split=None, min_samples_leaf=1,\n",
       "                        min_samples_split=2, min_weight_fraction_leaf=0.0,\n",
       "                        n_estimators=10, n_jobs=None, oob_score=False,\n",
       "                        random_state=42, verbose=0, warm_start=False),\n",
       " ExtraTreesClassifier(bootstrap=False, class_weight='balanced', criterion='gini',\n",
       "                      max_depth=None, max_features='auto', max_leaf_nodes=None,\n",
       "                      min_impurity_decrease=0.0, min_impurity_split=None,\n",
       "                      min_samples_leaf=1, min_samples_split=2,\n",
       "                      min_weight_fraction_leaf=0.0, n_estimators=10, n_jobs=None,\n",
       "                      oob_score=False, random_state=42, verbose=0,\n",
       "                      warm_start=False),\n",
       " MLPClassifier(activation='relu', alpha=0.0001, batch_size='auto', beta_1=0.9,\n",
       "               beta_2=0.999, early_stopping=True, epsilon=1e-08,\n",
       "               hidden_layer_sizes=(100,), learning_rate='constant',\n",
       "               learning_rate_init=0.001, max_iter=200, momentum=0.9,\n",
       "               n_iter_no_change=10, nesterovs_momentum=True, power_t=0.5,\n",
       "               random_state=42, shuffle=True, solver='adam', tol=0.0001,\n",
       "               validation_fraction=0.1, verbose=False, warm_start=False)]"
      ]
     },
     "execution_count": 52,
     "metadata": {},
     "output_type": "execute_result"
    }
   ],
   "source": [
    "voting_clf.estimators_"
   ]
  },
  {
   "cell_type": "code",
   "execution_count": 53,
   "metadata": {},
   "outputs": [
    {
     "name": "stdout",
     "output_type": "stream",
     "text": [
      "0.7386882829771555\n",
      "CPU times: user 1.13 s, sys: 104 ms, total: 1.24 s\n",
      "Wall time: 1.19 s\n"
     ]
    }
   ],
   "source": [
    "%%time\n",
    "\n",
    "predict = voting_clf.predict(X_test)\n",
    "f_score = f1_score(predict, target_test)\n",
    "print(f_score)"
   ]
  },
  {
   "cell_type": "markdown",
   "metadata": {},
   "source": [
    "Результат неудовлетворительный, стоит отметит, что скорость обучения такаже достаточно низкая"
   ]
  },
  {
   "cell_type": "code",
   "execution_count": 54,
   "metadata": {},
   "outputs": [],
   "source": [
    "model_name.append(str(voting_clf.__class__.__name__)+str(' ')+str('RF, ERF, LSVC, MLP'))\n",
    "fscore.append(round(f_score, 2))"
   ]
  },
  {
   "cell_type": "markdown",
   "metadata": {},
   "source": [
    "<a href=\"#footer\">К содержанию</a>\n",
    "<footer id=\"footer\"></footer>"
   ]
  },
  {
   "cell_type": "markdown",
   "metadata": {
    "id": "Eaw-LDsHIxyp"
   },
   "source": [
    "### Обучение модели BERT (DistilBertModel)"
   ]
  },
  {
   "cell_type": "markdown",
   "metadata": {
    "id": "CRIIFtS075AV"
   },
   "source": [
    "Для обучения модели с предподготовкой с помощью BERT построим новый сет, сбалансированный, так как нам придется передавать на порядок меньше строк для обучения, что является не совсем адекватной оценкой производительности"
   ]
  },
  {
   "cell_type": "markdown",
   "metadata": {
    "id": "4mBm9RYa75AV"
   },
   "source": [
    "Создадим выборки для BERT и уберем дисбаланс классов в обучающей выборке. Тестовую выборку отложим и трогать не будем"
   ]
  },
  {
   "cell_type": "code",
   "execution_count": 55,
   "metadata": {
    "colab": {
     "base_uri": "https://localhost:8080/",
     "height": 111
    },
    "id": "27qLXxvF75AV",
    "outputId": "2bcb699a-ac39-42f4-c4da-e95eaee63860"
   },
   "outputs": [
    {
     "data": {
      "text/html": [
       "<div>\n",
       "<style scoped>\n",
       "    .dataframe tbody tr th:only-of-type {\n",
       "        vertical-align: middle;\n",
       "    }\n",
       "\n",
       "    .dataframe tbody tr th {\n",
       "        vertical-align: top;\n",
       "    }\n",
       "\n",
       "    .dataframe thead th {\n",
       "        text-align: right;\n",
       "    }\n",
       "</style>\n",
       "<table border=\"1\" class=\"dataframe\">\n",
       "  <thead>\n",
       "    <tr style=\"text-align: right;\">\n",
       "      <th></th>\n",
       "      <th>toxic</th>\n",
       "    </tr>\n",
       "  </thead>\n",
       "  <tbody>\n",
       "    <tr>\n",
       "      <td>1</td>\n",
       "      <td>0.530872</td>\n",
       "    </tr>\n",
       "    <tr>\n",
       "      <td>0</td>\n",
       "      <td>0.469128</td>\n",
       "    </tr>\n",
       "  </tbody>\n",
       "</table>\n",
       "</div>"
      ],
      "text/plain": [
       "      toxic\n",
       "1  0.530872\n",
       "0  0.469128"
      ]
     },
     "execution_count": 55,
     "metadata": {},
     "output_type": "execute_result"
    }
   ],
   "source": [
    "features = df['text']\n",
    "target = df['toxic']\n",
    "\n",
    "features_train, features_test, target_train, target_test = train_test_split(\n",
    "    features, target, test_size=0.25, random_state=42)\n",
    "\n",
    "features_downsampled, target_downsampled = downsample(features_train, target_train, 0.1)\n",
    "\n",
    "target_downsampled.value_counts(normalize=True).to_frame()"
   ]
  },
  {
   "cell_type": "markdown",
   "metadata": {
    "id": "0b8HFvjB75AW"
   },
   "source": [
    "Создадим сет из обучабщей сбалансированной выборки, из него удалим дубликаты и возьмем образец в 500 значений"
   ]
  },
  {
   "cell_type": "code",
   "execution_count": 56,
   "metadata": {
    "colab": {
     "base_uri": "https://localhost:8080/",
     "height": 204
    },
    "id": "pAuPX9Ek75AW",
    "outputId": "0fbe295e-861b-4bf4-e614-61556bf1a76a"
   },
   "outputs": [
    {
     "data": {
      "text/html": [
       "<div>\n",
       "<style scoped>\n",
       "    .dataframe tbody tr th:only-of-type {\n",
       "        vertical-align: middle;\n",
       "    }\n",
       "\n",
       "    .dataframe tbody tr th {\n",
       "        vertical-align: top;\n",
       "    }\n",
       "\n",
       "    .dataframe thead th {\n",
       "        text-align: right;\n",
       "    }\n",
       "</style>\n",
       "<table border=\"1\" class=\"dataframe\">\n",
       "  <thead>\n",
       "    <tr style=\"text-align: right;\">\n",
       "      <th></th>\n",
       "      <th>text</th>\n",
       "      <th>toxic</th>\n",
       "    </tr>\n",
       "  </thead>\n",
       "  <tbody>\n",
       "    <tr>\n",
       "      <td>118312</td>\n",
       "      <td>anybody that has dived the devil's throat plea...</td>\n",
       "      <td>0</td>\n",
       "    </tr>\n",
       "    <tr>\n",
       "      <td>9946</td>\n",
       "      <td>\"\\ngoal of operation tko\\n\"\"the original goal ...</td>\n",
       "      <td>0</td>\n",
       "    </tr>\n",
       "    <tr>\n",
       "      <td>62211</td>\n",
       "      <td>better just that she-dog.  here girl, here gir...</td>\n",
       "      <td>1</td>\n",
       "    </tr>\n",
       "    <tr>\n",
       "      <td>128078</td>\n",
       "      <td>i'd rather not revert you any further. tell me...</td>\n",
       "      <td>1</td>\n",
       "    </tr>\n",
       "    <tr>\n",
       "      <td>144243</td>\n",
       "      <td>\"\\n\\n rutherford b. hayes edits \\n\\n\"\"please r...</td>\n",
       "      <td>1</td>\n",
       "    </tr>\n",
       "  </tbody>\n",
       "</table>\n",
       "</div>"
      ],
      "text/plain": [
       "                                                     text  toxic\n",
       "118312  anybody that has dived the devil's throat plea...      0\n",
       "9946    \"\\ngoal of operation tko\\n\"\"the original goal ...      0\n",
       "62211   better just that she-dog.  here girl, here gir...      1\n",
       "128078  i'd rather not revert you any further. tell me...      1\n",
       "144243  \"\\n\\n rutherford b. hayes edits \\n\\n\"\"please r...      1"
      ]
     },
     "execution_count": 56,
     "metadata": {},
     "output_type": "execute_result"
    }
   ],
   "source": [
    "df_bert = features_downsampled.to_frame().join(\n",
    "    target_downsampled.to_frame())\n",
    "df_bert.head()"
   ]
  },
  {
   "cell_type": "code",
   "execution_count": 57,
   "metadata": {
    "colab": {
     "base_uri": "https://localhost:8080/"
    },
    "id": "SttaL8wU75AW",
    "outputId": "0fb15d53-27d8-4671-df78-185980e9ebba"
   },
   "outputs": [
    {
     "data": {
      "text/plain": [
       "9"
      ]
     },
     "execution_count": 57,
     "metadata": {},
     "output_type": "execute_result"
    }
   ],
   "source": [
    "df_bert.duplicated().sum()"
   ]
  },
  {
   "cell_type": "code",
   "execution_count": 58,
   "metadata": {
    "colab": {
     "base_uri": "https://localhost:8080/"
    },
    "id": "sABdyIms75AW",
    "outputId": "777fbb11-4f85-4b53-83bf-5ed500972766"
   },
   "outputs": [
    {
     "data": {
      "text/plain": [
       "0"
      ]
     },
     "execution_count": 58,
     "metadata": {},
     "output_type": "execute_result"
    }
   ],
   "source": [
    "df_bert.drop_duplicates(inplace=True)\n",
    "df_bert.duplicated().sum()"
   ]
  },
  {
   "cell_type": "code",
   "execution_count": 59,
   "metadata": {
    "colab": {
     "base_uri": "https://localhost:8080/",
     "height": 80
    },
    "id": "ZpRQweWs75AW",
    "outputId": "15160223-af15-4335-8e5c-eece2a78b00f"
   },
   "outputs": [
    {
     "data": {
      "text/html": [
       "<div>\n",
       "<style scoped>\n",
       "    .dataframe tbody tr th:only-of-type {\n",
       "        vertical-align: middle;\n",
       "    }\n",
       "\n",
       "    .dataframe tbody tr th {\n",
       "        vertical-align: top;\n",
       "    }\n",
       "\n",
       "    .dataframe thead th {\n",
       "        text-align: right;\n",
       "    }\n",
       "</style>\n",
       "<table border=\"1\" class=\"dataframe\">\n",
       "  <thead>\n",
       "    <tr style=\"text-align: right;\">\n",
       "      <th></th>\n",
       "      <th>text</th>\n",
       "      <th>toxic</th>\n",
       "    </tr>\n",
       "  </thead>\n",
       "  <tbody>\n",
       "    <tr>\n",
       "      <td>118312</td>\n",
       "      <td>anybody that has dived the devil's throat plea...</td>\n",
       "      <td>0</td>\n",
       "    </tr>\n",
       "  </tbody>\n",
       "</table>\n",
       "</div>"
      ],
      "text/plain": [
       "                                                     text  toxic\n",
       "118312  anybody that has dived the devil's throat plea...      0"
      ]
     },
     "execution_count": 59,
     "metadata": {},
     "output_type": "execute_result"
    }
   ],
   "source": [
    "df_bert[df_bert.index == 118312]"
   ]
  },
  {
   "cell_type": "markdown",
   "metadata": {
    "id": "bJuuid8q75AW"
   },
   "source": [
    "Таким образом получили новый сет, из которого будем брать срезы, при этом удалили все дубликаты, проверили один индекс для того, чтобы удостовериться, что сет собрался адекватно"
   ]
  },
  {
   "cell_type": "code",
   "execution_count": 60,
   "metadata": {
    "colab": {
     "base_uri": "https://localhost:8080/",
     "height": 204
    },
    "id": "R-6R0DkBgTdt",
    "outputId": "d1ebfdcb-a070-4de2-d494-e5aa4044a2a2"
   },
   "outputs": [
    {
     "data": {
      "text/html": [
       "<div>\n",
       "<style scoped>\n",
       "    .dataframe tbody tr th:only-of-type {\n",
       "        vertical-align: middle;\n",
       "    }\n",
       "\n",
       "    .dataframe tbody tr th {\n",
       "        vertical-align: top;\n",
       "    }\n",
       "\n",
       "    .dataframe thead th {\n",
       "        text-align: right;\n",
       "    }\n",
       "</style>\n",
       "<table border=\"1\" class=\"dataframe\">\n",
       "  <thead>\n",
       "    <tr style=\"text-align: right;\">\n",
       "      <th></th>\n",
       "      <th>text</th>\n",
       "      <th>toxic</th>\n",
       "    </tr>\n",
       "  </thead>\n",
       "  <tbody>\n",
       "    <tr>\n",
       "      <td>0</td>\n",
       "      <td>\"\"\"casual relationship\"\" is far too nonspecifi...</td>\n",
       "      <td>1</td>\n",
       "    </tr>\n",
       "    <tr>\n",
       "      <td>1</td>\n",
       "      <td>\"\\n\\nchicken-ryu?\\nall the ip addresses you us...</td>\n",
       "      <td>0</td>\n",
       "    </tr>\n",
       "    <tr>\n",
       "      <td>2</td>\n",
       "      <td>categorization\\ncorrect me if i'm wrong, but i...</td>\n",
       "      <td>0</td>\n",
       "    </tr>\n",
       "    <tr>\n",
       "      <td>3</td>\n",
       "      <td>yea yea yea you fucking dunce. since the first...</td>\n",
       "      <td>1</td>\n",
       "    </tr>\n",
       "    <tr>\n",
       "      <td>4</td>\n",
       "      <td>\"\\n\\nplease, have | has any of you heard the \"...</td>\n",
       "      <td>0</td>\n",
       "    </tr>\n",
       "  </tbody>\n",
       "</table>\n",
       "</div>"
      ],
      "text/plain": [
       "                                                text  toxic\n",
       "0  \"\"\"casual relationship\"\" is far too nonspecifi...      1\n",
       "1  \"\\n\\nchicken-ryu?\\nall the ip addresses you us...      0\n",
       "2  categorization\\ncorrect me if i'm wrong, but i...      0\n",
       "3  yea yea yea you fucking dunce. since the first...      1\n",
       "4  \"\\n\\nplease, have | has any of you heard the \"...      0"
      ]
     },
     "execution_count": 60,
     "metadata": {},
     "output_type": "execute_result"
    }
   ],
   "source": [
    "df_comm = df_bert.sample(500).reset_index(\n",
    "    drop=True)\n",
    "df_comm.head()"
   ]
  },
  {
   "cell_type": "code",
   "execution_count": 61,
   "metadata": {
    "colab": {
     "base_uri": "https://localhost:8080/",
     "height": 111
    },
    "id": "x9ZSqLbA2oY3",
    "outputId": "97311f56-1b74-4512-b923-f3f003afdd85"
   },
   "outputs": [
    {
     "data": {
      "text/html": [
       "<div>\n",
       "<style scoped>\n",
       "    .dataframe tbody tr th:only-of-type {\n",
       "        vertical-align: middle;\n",
       "    }\n",
       "\n",
       "    .dataframe tbody tr th {\n",
       "        vertical-align: top;\n",
       "    }\n",
       "\n",
       "    .dataframe thead th {\n",
       "        text-align: right;\n",
       "    }\n",
       "</style>\n",
       "<table border=\"1\" class=\"dataframe\">\n",
       "  <thead>\n",
       "    <tr style=\"text-align: right;\">\n",
       "      <th></th>\n",
       "      <th>toxic</th>\n",
       "    </tr>\n",
       "  </thead>\n",
       "  <tbody>\n",
       "    <tr>\n",
       "      <td>1</td>\n",
       "      <td>0.548</td>\n",
       "    </tr>\n",
       "    <tr>\n",
       "      <td>0</td>\n",
       "      <td>0.452</td>\n",
       "    </tr>\n",
       "  </tbody>\n",
       "</table>\n",
       "</div>"
      ],
      "text/plain": [
       "   toxic\n",
       "1  0.548\n",
       "0  0.452"
      ]
     },
     "execution_count": 61,
     "metadata": {},
     "output_type": "execute_result"
    }
   ],
   "source": [
    "df_comm['toxic'].value_counts(normalize=True).to_frame()"
   ]
  },
  {
   "cell_type": "markdown",
   "metadata": {
    "id": "LtDW9Fo175AW"
   },
   "source": [
    "Получили достаточно сбалансированную выборку.  \n",
    "\n",
    "Преобразуем наши признаки с целью получения эммбендингов"
   ]
  },
  {
   "cell_type": "code",
   "execution_count": 62,
   "metadata": {
    "id": "z0D7ND_-75AW"
   },
   "outputs": [],
   "source": [
    "configuration = transformers.DistilBertConfig()\n",
    "model = transformers.DistilBertModel(configuration)\n",
    "pretrained_weights = 'distilbert-base-uncased'\n",
    "tokenizer_class = transformers.DistilBertTokenizer"
   ]
  },
  {
   "cell_type": "markdown",
   "metadata": {
    "id": "Z0cvSYtB75AW"
   },
   "source": [
    "Стоит отметить, что модель обучена для работы с предложениями до 512 символов. Необходим обрезать наши предложения, если они превышают данный лимит. Это также модет сказаться на результатах"
   ]
  },
  {
   "cell_type": "code",
   "execution_count": 63,
   "metadata": {
    "colab": {
     "base_uri": "https://localhost:8080/",
     "height": 164,
     "referenced_widgets": [
      "8b421b4c6cd34d519f86d3d13ff0f98c",
      "828a9ee308064ea99d0b01e0f6666d8a",
      "ee3a73fec9484b11a828b2667b652d16",
      "fb269d20d87a45d1b90b1e2cbea4ac64",
      "c9abb7e846d04f1a8f094e7e55741281",
      "1d6db8f3fffb45e08cfbbc87be94e4fc",
      "9f6024f9871f4b4e9e12e851cdd6ebee",
      "359bb2fe1c114c24b92e120720649726",
      "22fa0aa29206402f9d912b12617d4089",
      "8399adf9ecb1453fbdcbb870669d8063",
      "40f09b8a26ef4ef2937405587b7293d7",
      "f4e88d3be62744e281ea9fa4a0d4cc19",
      "5da140312b0b4452990e3b622517a09c",
      "7eec9f596585450da239f9bb8cdf772b",
      "2e98fb6fff1d41ecb9ffd65d0d47a5c2",
      "8ea295b2fcf045fe94e701808dffcb97",
      "777961dd548640c2944575f9e2786dc0",
      "4b52b740167e4d378443a25b37f2a0e8",
      "00b44376bcef494092136bc297e83f00",
      "292d07e3a83549d8b0a150ac6cc72421",
      "86b8166437064e06bce26a1f7becf63c",
      "a76b037660e84acba54399c2190c8aea",
      "cebe062735aa4601abdb2ec41191c363",
      "728bd69f4df045b7a391f0c3ac563c91"
     ]
    },
    "id": "UAXwdVosgvVt",
    "outputId": "a78645ee-cc31-4f0e-e674-0d1347a34b68"
   },
   "outputs": [],
   "source": [
    "tokenizer = tokenizer_class.from_pretrained(pretrained_weights)\n",
    "\n",
    "tokenized = df_comm['text'].apply(\n",
    "    lambda x: tokenizer.encode(x[:512], add_special_tokens=True))\n",
    "\n",
    "padded = np.array([i + [0]*(512 - len(i)) for i in tokenized.values])\n",
    "\n",
    "attention_mask = np.where(padded != 0, 1, 0)"
   ]
  },
  {
   "cell_type": "code",
   "execution_count": 64,
   "metadata": {
    "colab": {
     "base_uri": "https://localhost:8080/"
    },
    "id": "V6Aa2uBY36XP",
    "outputId": "635929fe-d82e-495c-d615-17460e1115d4"
   },
   "outputs": [
    {
     "data": {
      "text/plain": [
       "512"
      ]
     },
     "execution_count": 64,
     "metadata": {},
     "output_type": "execute_result"
    }
   ],
   "source": [
    "len(padded[0])"
   ]
  },
  {
   "cell_type": "code",
   "execution_count": 65,
   "metadata": {
    "colab": {
     "base_uri": "https://localhost:8080/"
    },
    "id": "fsULiGD675AX",
    "outputId": "21a006c1-5f70-44a9-8e6f-3b6614f8b747"
   },
   "outputs": [
    {
     "data": {
      "text/plain": [
       "((500, 512), (500, 512))"
      ]
     },
     "execution_count": 65,
     "metadata": {},
     "output_type": "execute_result"
    }
   ],
   "source": [
    "padded.shape, attention_mask.shape"
   ]
  },
  {
   "cell_type": "code",
   "execution_count": 66,
   "metadata": {
    "colab": {
     "base_uri": "https://localhost:8080/",
     "height": 49,
     "referenced_widgets": [
      "364bacacc9a940d9aef0439dec0c3299",
      "d417f77b20274010b6916f29d524cb79",
      "9f873a3024cc4d09a98e5d801dab8d4d",
      "9f410ddc383e4337838f0b1fbf827977",
      "68b8e07033e54bbfb623e15d28e98fd1",
      "cae151aed8514a3e9b0fa72873c4c1dd",
      "5f7f7b2f5d4c4bc2a0a1b3eac435e451",
      "e24490db1e42406db001a2a95fb33892"
     ]
    },
    "id": "iMb8tYYfg1D-",
    "outputId": "c3dfc068-2e98-4de6-d28b-a08ae8081461"
   },
   "outputs": [
    {
     "data": {
      "application/vnd.jupyter.widget-view+json": {
       "model_id": "786fcadac3ed42febe30b954c6f985d9",
       "version_major": 2,
       "version_minor": 0
      },
      "text/plain": [
       "  0%|          | 0/5 [00:00<?, ?it/s]"
      ]
     },
     "metadata": {},
     "output_type": "display_data"
    }
   ],
   "source": [
    "batch_size = 100\n",
    "embeddings = []\n",
    "for i in notebook.tqdm(range(padded.shape[0] // batch_size)):\n",
    "        batch = torch.LongTensor(padded[batch_size*i:batch_size*(i+1)]) \n",
    "        attention_mask_batch = torch.LongTensor(attention_mask[batch_size*i:batch_size*(i+1)])\n",
    "        \n",
    "        with torch.no_grad():\n",
    "            batch_embeddings = model(batch, attention_mask=attention_mask_batch)\n",
    "        \n",
    "        \n",
    "        embeddings.append(batch_embeddings[0][:,0,:].numpy())"
   ]
  },
  {
   "cell_type": "markdown",
   "metadata": {
    "id": "zEL6I1So75AX"
   },
   "source": [
    "Создаим обучающий и целевой наборы данных для нашей модели"
   ]
  },
  {
   "cell_type": "code",
   "execution_count": 67,
   "metadata": {
    "id": "98jIov54g2Yf"
   },
   "outputs": [],
   "source": [
    "X_train = np.concatenate(embeddings)\n",
    "y_train = df_comm['toxic'][:padded.shape[0]]"
   ]
  },
  {
   "cell_type": "markdown",
   "metadata": {
    "id": "KGDfMIv_75AX"
   },
   "source": [
    "Проверим визуально правильно ли отобрались целевые классы"
   ]
  },
  {
   "cell_type": "code",
   "execution_count": 68,
   "metadata": {
    "id": "PZbtiewN75AX"
   },
   "outputs": [
    {
     "data": {
      "text/plain": [
       "array([1, 0, 0, 1, 0, 1, 1, 0, 0, 1, 1, 0, 0, 0, 0, 0, 0, 1, 0, 1, 1, 0,\n",
       "       1, 1, 0, 1, 0, 1, 0, 1, 1, 1, 1, 0, 1, 0, 1, 0, 1, 1, 0, 1, 0, 0,\n",
       "       1, 1, 0, 0, 1, 1])"
      ]
     },
     "execution_count": 68,
     "metadata": {},
     "output_type": "execute_result"
    }
   ],
   "source": [
    "y_train.values[:50]"
   ]
  },
  {
   "cell_type": "code",
   "execution_count": 69,
   "metadata": {
    "id": "qy_4v61m75AX"
   },
   "outputs": [
    {
     "data": {
      "text/plain": [
       "array([1, 0, 0, 1, 0, 1, 1, 0, 0, 1, 1, 0, 0, 0, 0, 0, 0, 1, 0, 1, 1, 0,\n",
       "       1, 1, 0, 1, 0, 1, 0, 1, 1, 1, 1, 0, 1, 0, 1, 0, 1, 1, 0, 1, 0, 0,\n",
       "       1, 1, 0, 0, 1, 1])"
      ]
     },
     "execution_count": 69,
     "metadata": {},
     "output_type": "execute_result"
    }
   ],
   "source": [
    "df_comm['toxic'].values[:50]"
   ]
  },
  {
   "cell_type": "markdown",
   "metadata": {
    "id": "WYU9LMRG75AX"
   },
   "source": [
    "Проверим сеты на форму"
   ]
  },
  {
   "cell_type": "code",
   "execution_count": 70,
   "metadata": {
    "id": "zqX87lQNg3zQ"
   },
   "outputs": [
    {
     "data": {
      "text/plain": [
       "((500, 768), (500,))"
      ]
     },
     "execution_count": 70,
     "metadata": {},
     "output_type": "execute_result"
    }
   ],
   "source": [
    "X_train.shape, y_train.shape"
   ]
  },
  {
   "cell_type": "code",
   "execution_count": 71,
   "metadata": {
    "id": "oTTMTTfi75AX"
   },
   "outputs": [
    {
     "data": {
      "text/html": [
       "<div>\n",
       "<style scoped>\n",
       "    .dataframe tbody tr th:only-of-type {\n",
       "        vertical-align: middle;\n",
       "    }\n",
       "\n",
       "    .dataframe tbody tr th {\n",
       "        vertical-align: top;\n",
       "    }\n",
       "\n",
       "    .dataframe thead th {\n",
       "        text-align: right;\n",
       "    }\n",
       "</style>\n",
       "<table border=\"1\" class=\"dataframe\">\n",
       "  <thead>\n",
       "    <tr style=\"text-align: right;\">\n",
       "      <th></th>\n",
       "      <th>toxic</th>\n",
       "    </tr>\n",
       "  </thead>\n",
       "  <tbody>\n",
       "    <tr>\n",
       "      <td>1</td>\n",
       "      <td>0.548</td>\n",
       "    </tr>\n",
       "    <tr>\n",
       "      <td>0</td>\n",
       "      <td>0.452</td>\n",
       "    </tr>\n",
       "  </tbody>\n",
       "</table>\n",
       "</div>"
      ],
      "text/plain": [
       "   toxic\n",
       "1  0.548\n",
       "0  0.452"
      ]
     },
     "execution_count": 71,
     "metadata": {},
     "output_type": "execute_result"
    }
   ],
   "source": [
    "y_train.value_counts(normalize=True).to_frame()"
   ]
  },
  {
   "cell_type": "markdown",
   "metadata": {
    "id": "L-QxZBRl75AZ"
   },
   "source": [
    "Целевой признак сбалансирован на обучающей выборке"
   ]
  },
  {
   "cell_type": "markdown",
   "metadata": {
    "id": "1Tb8ZqPX75AZ"
   },
   "source": [
    "Подготовим тестовую выборку. Возьмем 200 случайных значений и получим эмбенддинги для теста"
   ]
  },
  {
   "cell_type": "code",
   "execution_count": 72,
   "metadata": {
    "id": "UYwSe7jr75AZ"
   },
   "outputs": [
    {
     "data": {
      "text/html": [
       "<div>\n",
       "<style scoped>\n",
       "    .dataframe tbody tr th:only-of-type {\n",
       "        vertical-align: middle;\n",
       "    }\n",
       "\n",
       "    .dataframe tbody tr th {\n",
       "        vertical-align: top;\n",
       "    }\n",
       "\n",
       "    .dataframe thead th {\n",
       "        text-align: right;\n",
       "    }\n",
       "</style>\n",
       "<table border=\"1\" class=\"dataframe\">\n",
       "  <thead>\n",
       "    <tr style=\"text-align: right;\">\n",
       "      <th></th>\n",
       "      <th>text</th>\n",
       "      <th>toxic</th>\n",
       "    </tr>\n",
       "  </thead>\n",
       "  <tbody>\n",
       "    <tr>\n",
       "      <td>0</td>\n",
       "      <td>edinburgh one of europe's main financial cente...</td>\n",
       "      <td>0</td>\n",
       "    </tr>\n",
       "    <tr>\n",
       "      <td>1</td>\n",
       "      <td>\"\\n fascinating.  well, thank you for your tim...</td>\n",
       "      <td>0</td>\n",
       "    </tr>\n",
       "    <tr>\n",
       "      <td>2</td>\n",
       "      <td>katr67, i apologize if that came across as unc...</td>\n",
       "      <td>0</td>\n",
       "    </tr>\n",
       "    <tr>\n",
       "      <td>3</td>\n",
       "      <td>no. this decision is not democratic and is out...</td>\n",
       "      <td>0</td>\n",
       "    </tr>\n",
       "    <tr>\n",
       "      <td>4</td>\n",
       "      <td>thanks for the update. the work you are doing ...</td>\n",
       "      <td>0</td>\n",
       "    </tr>\n",
       "  </tbody>\n",
       "</table>\n",
       "</div>"
      ],
      "text/plain": [
       "                                                text  toxic\n",
       "0  edinburgh one of europe's main financial cente...      0\n",
       "1  \"\\n fascinating.  well, thank you for your tim...      0\n",
       "2  katr67, i apologize if that came across as unc...      0\n",
       "3  no. this decision is not democratic and is out...      0\n",
       "4  thanks for the update. the work you are doing ...      0"
      ]
     },
     "execution_count": 72,
     "metadata": {},
     "output_type": "execute_result"
    }
   ],
   "source": [
    "test = features_test.to_frame().join(\n",
    "    target_test.to_frame()).sample(200).reset_index(\n",
    "    drop=True)\n",
    "test.head()"
   ]
  },
  {
   "cell_type": "code",
   "execution_count": 73,
   "metadata": {
    "id": "cmkx8dkd75AZ"
   },
   "outputs": [],
   "source": [
    "tokenizer = tokenizer_class.from_pretrained(pretrained_weights)\n",
    "\n",
    "tokenized = test['text'].apply(\n",
    "    lambda x: tokenizer.encode(x[:512], add_special_tokens=True))\n",
    "\n",
    "padded = np.array([i + [0]*(512 - len(i)) for i in tokenized.values])\n",
    "\n",
    "attention_mask = np.where(padded != 0, 1, 0)"
   ]
  },
  {
   "cell_type": "code",
   "execution_count": 74,
   "metadata": {
    "id": "1hE7XwUo75AZ"
   },
   "outputs": [
    {
     "data": {
      "application/vnd.jupyter.widget-view+json": {
       "model_id": "3f083ddf8a8f4913b1e87a21c0e5ac93",
       "version_major": 2,
       "version_minor": 0
      },
      "text/plain": [
       "  0%|          | 0/2 [00:00<?, ?it/s]"
      ]
     },
     "metadata": {},
     "output_type": "display_data"
    }
   ],
   "source": [
    "batch_size = 100\n",
    "embeddings = []\n",
    "for i in notebook.tqdm(range(padded.shape[0] // batch_size)):\n",
    "        batch = torch.LongTensor(padded[batch_size*i:batch_size*(i+1)]) \n",
    "        attention_mask_batch = torch.LongTensor(attention_mask[batch_size*i:batch_size*(i+1)])\n",
    "        \n",
    "        with torch.no_grad():\n",
    "            batch_embeddings = model(batch, attention_mask=attention_mask_batch)\n",
    "        \n",
    "        \n",
    "        embeddings.append(batch_embeddings[0][:,0,:].numpy())"
   ]
  },
  {
   "cell_type": "code",
   "execution_count": 75,
   "metadata": {
    "id": "lgzIk96p75AZ"
   },
   "outputs": [],
   "source": [
    "X_test = np.concatenate(embeddings)\n",
    "y_test = test['toxic'][:X_test.shape[0]]"
   ]
  },
  {
   "cell_type": "code",
   "execution_count": 76,
   "metadata": {
    "id": "R2SXVI3E75AZ"
   },
   "outputs": [
    {
     "data": {
      "text/html": [
       "<div>\n",
       "<style scoped>\n",
       "    .dataframe tbody tr th:only-of-type {\n",
       "        vertical-align: middle;\n",
       "    }\n",
       "\n",
       "    .dataframe tbody tr th {\n",
       "        vertical-align: top;\n",
       "    }\n",
       "\n",
       "    .dataframe thead th {\n",
       "        text-align: right;\n",
       "    }\n",
       "</style>\n",
       "<table border=\"1\" class=\"dataframe\">\n",
       "  <thead>\n",
       "    <tr style=\"text-align: right;\">\n",
       "      <th></th>\n",
       "      <th>toxic</th>\n",
       "    </tr>\n",
       "  </thead>\n",
       "  <tbody>\n",
       "    <tr>\n",
       "      <td>0</td>\n",
       "      <td>0.905</td>\n",
       "    </tr>\n",
       "    <tr>\n",
       "      <td>1</td>\n",
       "      <td>0.095</td>\n",
       "    </tr>\n",
       "  </tbody>\n",
       "</table>\n",
       "</div>"
      ],
      "text/plain": [
       "   toxic\n",
       "0  0.905\n",
       "1  0.095"
      ]
     },
     "execution_count": 76,
     "metadata": {},
     "output_type": "execute_result"
    }
   ],
   "source": [
    "y_test.value_counts(normalize=True).to_frame()"
   ]
  },
  {
   "cell_type": "markdown",
   "metadata": {
    "id": "TgPwAnIh75AZ"
   },
   "source": [
    "В тестовой выборке наблюдается дисбаланс классов. Обучим модель ансамбль с MLP из пункта 2.5"
   ]
  },
  {
   "cell_type": "code",
   "execution_count": 77,
   "metadata": {
    "id": "yTfYAIwS75AZ"
   },
   "outputs": [
    {
     "name": "stdout",
     "output_type": "stream",
     "text": [
      "CPU times: user 884 ms, sys: 556 ms, total: 1.44 s\n",
      "Wall time: 623 ms\n"
     ]
    },
    {
     "data": {
      "text/plain": [
       "VotingClassifier(estimators=[('random_forest_clf',\n",
       "                              RandomForestClassifier(bootstrap=True,\n",
       "                                                     class_weight='balanced',\n",
       "                                                     criterion='gini',\n",
       "                                                     max_depth=None,\n",
       "                                                     max_features='auto',\n",
       "                                                     max_leaf_nodes=None,\n",
       "                                                     min_impurity_decrease=0.0,\n",
       "                                                     min_impurity_split=None,\n",
       "                                                     min_samples_leaf=1,\n",
       "                                                     min_samples_split=2,\n",
       "                                                     min_weight_fraction_leaf=0.0,\n",
       "                                                     n_estimators=10,\n",
       "                                                     n_jobs=None,\n",
       "                                                     oob_score=False,\n",
       "                                                     rand...\n",
       "                                            beta_2=0.999, early_stopping=True,\n",
       "                                            epsilon=1e-08,\n",
       "                                            hidden_layer_sizes=(100,),\n",
       "                                            learning_rate='constant',\n",
       "                                            learning_rate_init=0.001,\n",
       "                                            max_iter=200, momentum=0.9,\n",
       "                                            n_iter_no_change=10,\n",
       "                                            nesterovs_momentum=True,\n",
       "                                            power_t=0.5, random_state=42,\n",
       "                                            shuffle=True, solver='adam',\n",
       "                                            tol=0.0001, validation_fraction=0.1,\n",
       "                                            verbose=False, warm_start=False))],\n",
       "                 flatten_transform=True, n_jobs=None, voting='soft',\n",
       "                 weights=None)"
      ]
     },
     "execution_count": 77,
     "metadata": {},
     "output_type": "execute_result"
    }
   ],
   "source": [
    "%%time\n",
    "voting_clf.fit(X_train, y_train)"
   ]
  },
  {
   "cell_type": "code",
   "execution_count": 79,
   "metadata": {},
   "outputs": [],
   "source": [
    "del voting_clf.estimators_[2]"
   ]
  },
  {
   "cell_type": "code",
   "execution_count": 80,
   "metadata": {
    "id": "Nub6hm0O75AZ"
   },
   "outputs": [],
   "source": [
    "predict = voting_clf.predict(X_test)"
   ]
  },
  {
   "cell_type": "code",
   "execution_count": 81,
   "metadata": {
    "id": "8TN7wB0y75AZ"
   },
   "outputs": [
    {
     "name": "stdout",
     "output_type": "stream",
     "text": [
      "0.21359223300970875\n"
     ]
    }
   ],
   "source": [
    "f_score = f1_score(predict, y_test)\n",
    "print(f_score)"
   ]
  },
  {
   "cell_type": "markdown",
   "metadata": {
    "id": "pArGGIR875AZ"
   },
   "source": [
    "К сожалению мы получили достаточно низкий результат. Но данный факт связан с тем, что с целью уменьшения времени обучения нам пришлось передавать не весь сет на обучение, и нам пришлось обрезать предложения, что модель могла с ними работать, что могло повлиять на контекст"
   ]
  },
  {
   "cell_type": "code",
   "execution_count": 82,
   "metadata": {
    "id": "_9PrQ5W075AZ"
   },
   "outputs": [],
   "source": [
    "model_name.append(str(voting_clf.__class__.__name__)+str(' ')+str('BERT_MLP'))\n",
    "fscore.append(round(f_score, 2))"
   ]
  },
  {
   "cell_type": "markdown",
   "metadata": {},
   "source": [
    "<a href=\"#footer\">К содержанию</a>\n",
    "<footer id=\"footer\"></footer>"
   ]
  },
  {
   "cell_type": "markdown",
   "metadata": {
    "id": "VKAQhnZE75Aa"
   },
   "source": [
    "### Проверка на адекватность (sanity check)"
   ]
  },
  {
   "cell_type": "markdown",
   "metadata": {
    "id": "2jyaXHJD75Aa"
   },
   "source": [
    "Построим константную модель. Она будет везде предсказывать 1 - токсиный комментарий, так как наша цель - выявлять именно их"
   ]
  },
  {
   "cell_type": "code",
   "execution_count": 83,
   "metadata": {
    "id": "HI5ec3uF75Aa"
   },
   "outputs": [],
   "source": [
    "dummy = DummyClassifier(random_state=42, strategy='constant', constant=1)"
   ]
  },
  {
   "cell_type": "code",
   "execution_count": 84,
   "metadata": {
    "id": "O0B2YaJU75Aa"
   },
   "outputs": [],
   "source": [
    "dummy.fit(features_train, target_train)\n",
    "dummy_pred = dummy.predict(features_test)"
   ]
  },
  {
   "cell_type": "code",
   "execution_count": 85,
   "metadata": {
    "id": "FpNh-I7i75Aa"
   },
   "outputs": [
    {
     "name": "stdout",
     "output_type": "stream",
     "text": [
      "Константа: 0.1847014925373134\n"
     ]
    }
   ],
   "source": [
    "f1_const = f1_score(target_test, dummy_pred)\n",
    "\n",
    "print(\"Константа:\", f1_const)"
   ]
  },
  {
   "cell_type": "code",
   "execution_count": 86,
   "metadata": {
    "id": "bDmRtARp75Aa"
   },
   "outputs": [],
   "source": [
    "model_name.append(str(dummy.__class__.__name__)+str(' ')+str('constant 1'))\n",
    "fscore.append(round(f1_const, 2))"
   ]
  },
  {
   "cell_type": "markdown",
   "metadata": {
    "id": "iOuOHTu475Aa"
   },
   "source": [
    "<a href=\"#footer\">К содержанию</a>\n",
    "<footer id=\"footer\"></footer>"
   ]
  },
  {
   "cell_type": "markdown",
   "metadata": {
    "id": "scP1Q6jR75Aa"
   },
   "source": [
    "## Выводы"
   ]
  },
  {
   "cell_type": "code",
   "execution_count": 87,
   "metadata": {
    "id": "wTKvqrwm75Aa"
   },
   "outputs": [
    {
     "data": {
      "text/html": [
       "<style  type=\"text/css\" >\n",
       "    #T_b8c8640c_f323_11eb_86b1_1e00ea021662row0_col1 {\n",
       "            background-color:  green;\n",
       "        }</style><table id=\"T_b8c8640c_f323_11eb_86b1_1e00ea021662\" ><thead>    <tr>        <th class=\"blank level0\" ></th>        <th class=\"col_heading level0 col0\" >model</th>        <th class=\"col_heading level0 col1\" >F1</th>        <th class=\"col_heading level0 col2\" >approved</th>    </tr></thead><tbody>\n",
       "                <tr>\n",
       "                        <th id=\"T_b8c8640c_f323_11eb_86b1_1e00ea021662level0_row0\" class=\"row_heading level0 row0\" >1</th>\n",
       "                        <td id=\"T_b8c8640c_f323_11eb_86b1_1e00ea021662row0_col0\" class=\"data row0 col0\" >VotingClassifier class_weight balanced, LR, RF, SGD</td>\n",
       "                        <td id=\"T_b8c8640c_f323_11eb_86b1_1e00ea021662row0_col1\" class=\"data row0 col1\" >0.79</td>\n",
       "                        <td id=\"T_b8c8640c_f323_11eb_86b1_1e00ea021662row0_col2\" class=\"data row0 col2\" >yes</td>\n",
       "            </tr>\n",
       "            <tr>\n",
       "                        <th id=\"T_b8c8640c_f323_11eb_86b1_1e00ea021662level0_row1\" class=\"row_heading level0 row1\" >2</th>\n",
       "                        <td id=\"T_b8c8640c_f323_11eb_86b1_1e00ea021662row1_col0\" class=\"data row1 col0\" >SGDClassifier class_weight balanced</td>\n",
       "                        <td id=\"T_b8c8640c_f323_11eb_86b1_1e00ea021662row1_col1\" class=\"data row1 col1\" >0.74</td>\n",
       "                        <td id=\"T_b8c8640c_f323_11eb_86b1_1e00ea021662row1_col2\" class=\"data row1 col2\" >not</td>\n",
       "            </tr>\n",
       "            <tr>\n",
       "                        <th id=\"T_b8c8640c_f323_11eb_86b1_1e00ea021662level0_row2\" class=\"row_heading level0 row2\" >3</th>\n",
       "                        <td id=\"T_b8c8640c_f323_11eb_86b1_1e00ea021662row2_col0\" class=\"data row2 col0\" >VotingClassifier RF, ERF, LSVC, MLP</td>\n",
       "                        <td id=\"T_b8c8640c_f323_11eb_86b1_1e00ea021662row2_col1\" class=\"data row2 col1\" >0.74</td>\n",
       "                        <td id=\"T_b8c8640c_f323_11eb_86b1_1e00ea021662row2_col2\" class=\"data row2 col2\" >not</td>\n",
       "            </tr>\n",
       "            <tr>\n",
       "                        <th id=\"T_b8c8640c_f323_11eb_86b1_1e00ea021662level0_row3\" class=\"row_heading level0 row3\" >0</th>\n",
       "                        <td id=\"T_b8c8640c_f323_11eb_86b1_1e00ea021662row3_col0\" class=\"data row3 col0\" >VotingClassifier downsampling LR, RF, SGD</td>\n",
       "                        <td id=\"T_b8c8640c_f323_11eb_86b1_1e00ea021662row3_col1\" class=\"data row3 col1\" >0.65</td>\n",
       "                        <td id=\"T_b8c8640c_f323_11eb_86b1_1e00ea021662row3_col2\" class=\"data row3 col2\" >not</td>\n",
       "            </tr>\n",
       "            <tr>\n",
       "                        <th id=\"T_b8c8640c_f323_11eb_86b1_1e00ea021662level0_row4\" class=\"row_heading level0 row4\" >4</th>\n",
       "                        <td id=\"T_b8c8640c_f323_11eb_86b1_1e00ea021662row4_col0\" class=\"data row4 col0\" >VotingClassifier BERT_MLP</td>\n",
       "                        <td id=\"T_b8c8640c_f323_11eb_86b1_1e00ea021662row4_col1\" class=\"data row4 col1\" >0.21</td>\n",
       "                        <td id=\"T_b8c8640c_f323_11eb_86b1_1e00ea021662row4_col2\" class=\"data row4 col2\" >not</td>\n",
       "            </tr>\n",
       "            <tr>\n",
       "                        <th id=\"T_b8c8640c_f323_11eb_86b1_1e00ea021662level0_row5\" class=\"row_heading level0 row5\" >5</th>\n",
       "                        <td id=\"T_b8c8640c_f323_11eb_86b1_1e00ea021662row5_col0\" class=\"data row5 col0\" >DummyClassifier constant 1</td>\n",
       "                        <td id=\"T_b8c8640c_f323_11eb_86b1_1e00ea021662row5_col1\" class=\"data row5 col1\" >0.18</td>\n",
       "                        <td id=\"T_b8c8640c_f323_11eb_86b1_1e00ea021662row5_col2\" class=\"data row5 col2\" >not</td>\n",
       "            </tr>\n",
       "    </tbody></table>"
      ],
      "text/plain": [
       "<pandas.io.formats.style.Styler at 0x7ff67439c910>"
      ]
     },
     "execution_count": 87,
     "metadata": {},
     "output_type": "execute_result"
    }
   ],
   "source": [
    "summary = pd.DataFrame(\n",
    "    { 'model' : model_name , 'F1' : fscore }\n",
    "    ).reset_index( drop = True ).sort_values(by='F1', ascending=False)\n",
    "summary['approved'] = summary['F1'].apply(lambda x: 'yes' if x >= 0.75 else 'not')\n",
    "summary.style.highlight_max( 'F1' , color = 'green' , axis = 0 )\n"
   ]
  },
  {
   "cell_type": "markdown",
   "metadata": {
    "id": "yw7_Ny-975Aa"
   },
   "source": [
    "Таким образом, приемлемые результаты получили на ансамбле моделей Логистической регрессии, случайного леса и SGD - он адекватно соотносятся и со временем работы и с качеством F1 меры. Ансамбль с MLP на базе BERT для классификации длинных текстов, таких как комментарии для данных целей не стоит - приходится обрезать текст, что может повлиять на контекст, приходится ограничивать количество данных для обучения и предсказания. \n",
    "\n",
    "\n",
    "Считаю, что для данных целей лучшая модель - основанная на ансамбле моделей на базе Логистической регрессии, SGDклассификаторе с l2 регуляризацией и Случайным лесом с установленным параметром весов классов - как 'balanced'"
   ]
  },
  {
   "cell_type": "markdown",
   "metadata": {
    "id": "52R_cb0T75Ab"
   },
   "source": [
    "<a href=\"#footer\">К содержанию</a>\n",
    "<footer id=\"footer\"></footer>"
   ]
  },
  {
   "cell_type": "markdown",
   "metadata": {
    "id": "NYrtd7WMANIV"
   },
   "source": [
    "\n",
    "---\n",
    "<font size=\"1\">\n",
    "ArtyKraftyy\n",
    "</font>     \n"
   ]
  }
 ],
 "metadata": {
  "ExecuteTimeLog": [
   {
    "duration": 161330,
    "start_time": "2021-07-21T04:08:38.139Z"
   },
   {
    "duration": 153960,
    "start_time": "2021-07-21T04:26:20.439Z"
   },
   {
    "duration": 155815,
    "start_time": "2021-07-21T04:29:52.300Z"
   },
   {
    "duration": 156343,
    "start_time": "2021-07-21T04:34:41.904Z"
   },
   {
    "duration": 8704,
    "start_time": "2021-07-21T04:38:24.953Z"
   },
   {
    "duration": 340,
    "start_time": "2021-07-21T04:39:38.525Z"
   },
   {
    "duration": 1028,
    "start_time": "2021-07-21T04:39:45.576Z"
   },
   {
    "duration": 38,
    "start_time": "2021-07-21T04:39:48.246Z"
   },
   {
    "duration": 32,
    "start_time": "2021-07-21T04:39:49.096Z"
   },
   {
    "duration": 299,
    "start_time": "2021-07-21T04:39:50.286Z"
   },
   {
    "duration": 374,
    "start_time": "2021-07-21T04:39:51.745Z"
   },
   {
    "duration": 10,
    "start_time": "2021-07-21T04:39:52.556Z"
   },
   {
    "duration": 5,
    "start_time": "2021-07-21T04:40:00.975Z"
   },
   {
    "duration": 181498,
    "start_time": "2021-07-21T04:40:06.876Z"
   },
   {
    "duration": 11,
    "start_time": "2021-07-21T04:49:21.168Z"
   },
   {
    "duration": 366,
    "start_time": "2021-07-21T04:49:27.441Z"
   },
   {
    "duration": 4,
    "start_time": "2021-07-21T04:49:39.924Z"
   },
   {
    "duration": 10864,
    "start_time": "2021-07-21T04:49:41.362Z"
   },
   {
    "duration": 1411,
    "start_time": "2021-07-21T04:51:04.667Z"
   },
   {
    "duration": 15,
    "start_time": "2021-07-21T04:52:23.061Z"
   },
   {
    "duration": 15,
    "start_time": "2021-07-21T04:52:25.346Z"
   },
   {
    "duration": 4,
    "start_time": "2021-07-21T04:52:28.847Z"
   },
   {
    "duration": 38,
    "start_time": "2021-07-21T04:52:30.059Z"
   },
   {
    "duration": 7,
    "start_time": "2021-07-21T04:52:31.420Z"
   },
   {
    "duration": 39,
    "start_time": "2021-07-21T04:52:35.506Z"
   },
   {
    "duration": 9,
    "start_time": "2021-07-21T04:52:36.645Z"
   },
   {
    "duration": 1534,
    "start_time": "2021-07-21T04:52:38.955Z"
   },
   {
    "duration": 4,
    "start_time": "2021-07-21T04:52:43.966Z"
   },
   {
    "duration": 4,
    "start_time": "2021-07-21T04:52:46.795Z"
   },
   {
    "duration": 14326,
    "start_time": "2021-07-21T04:52:48.563Z"
   },
   {
    "duration": 5,
    "start_time": "2021-07-21T04:53:05.594Z"
   },
   {
    "duration": 8969,
    "start_time": "2021-07-21T04:53:09.126Z"
   },
   {
    "duration": 941353,
    "start_time": "2021-07-21T04:53:19.315Z"
   },
   {
    "duration": 19,
    "start_time": "2021-07-21T05:09:00.671Z"
   },
   {
    "duration": 5,
    "start_time": "2021-07-21T05:09:00.696Z"
   },
   {
    "duration": 1510,
    "start_time": "2021-07-21T05:13:06.313Z"
   },
   {
    "duration": 3,
    "start_time": "2021-07-21T05:13:07.826Z"
   },
   {
    "duration": 4,
    "start_time": "2021-07-21T05:13:10.879Z"
   },
   {
    "duration": 2857,
    "start_time": "2021-07-21T05:13:15.780Z"
   },
   {
    "duration": 4,
    "start_time": "2021-07-21T05:13:21.226Z"
   },
   {
    "duration": 46,
    "start_time": "2021-07-21T05:13:31.231Z"
   },
   {
    "duration": 30,
    "start_time": "2021-07-21T05:13:36.115Z"
   },
   {
    "duration": 110,
    "start_time": "2021-07-21T05:13:40.586Z"
   },
   {
    "duration": 185,
    "start_time": "2021-07-21T05:13:41.265Z"
   },
   {
    "duration": 14,
    "start_time": "2021-07-21T05:13:41.802Z"
   },
   {
    "duration": 6,
    "start_time": "2021-07-21T05:13:43.172Z"
   },
   {
    "duration": 8,
    "start_time": "2021-07-21T05:13:44.132Z"
   },
   {
    "duration": 2098,
    "start_time": "2021-07-21T05:13:48.595Z"
   },
   {
    "duration": 1401,
    "start_time": "2021-07-21T05:18:59.790Z"
   },
   {
    "duration": 5,
    "start_time": "2021-07-21T05:19:02.021Z"
   },
   {
    "duration": 5,
    "start_time": "2021-07-21T05:19:02.802Z"
   },
   {
    "duration": 308,
    "start_time": "2021-07-21T06:59:01.510Z"
   }
  ],
  "colab": {
   "collapsed_sections": [],
   "name": "toxic_comments_BERT.ipynb",
   "provenance": []
  },
  "kernelspec": {
   "display_name": "Python 3",
   "language": "python",
   "name": "python3"
  },
  "language_info": {
   "codemirror_mode": {
    "name": "ipython",
    "version": 3
   },
   "file_extension": ".py",
   "mimetype": "text/x-python",
   "name": "python",
   "nbconvert_exporter": "python",
   "pygments_lexer": "ipython3",
   "version": "3.7.10"
  },
  "toc": {
   "base_numbering": 1,
   "nav_menu": {},
   "number_sections": true,
   "sideBar": true,
   "skip_h1_title": true,
   "title_cell": "Содержание",
   "title_sidebar": "Содержание",
   "toc_cell": false,
   "toc_position": {
    "height": "calc(100% - 180px)",
    "left": "10px",
    "top": "150px",
    "width": "261.047px"
   },
   "toc_section_display": true,
   "toc_window_display": true
  },
  "widgets": {
   "application/vnd.jupyter.widget-state+json": {
    "00b44376bcef494092136bc297e83f00": {
     "model_module": "@jupyter-widgets/controls",
     "model_name": "FloatProgressModel",
     "state": {
      "_dom_classes": [],
      "_model_module": "@jupyter-widgets/controls",
      "_model_module_version": "1.5.0",
      "_model_name": "FloatProgressModel",
      "_view_count": null,
      "_view_module": "@jupyter-widgets/controls",
      "_view_module_version": "1.5.0",
      "_view_name": "ProgressView",
      "bar_style": "success",
      "description": "Downloading: 100%",
      "description_tooltip": null,
      "layout": "IPY_MODEL_a76b037660e84acba54399c2190c8aea",
      "max": 466062,
      "min": 0,
      "orientation": "horizontal",
      "style": "IPY_MODEL_86b8166437064e06bce26a1f7becf63c",
      "value": 466062
     }
    },
    "1d6db8f3fffb45e08cfbbc87be94e4fc": {
     "model_module": "@jupyter-widgets/base",
     "model_name": "LayoutModel",
     "state": {
      "_model_module": "@jupyter-widgets/base",
      "_model_module_version": "1.2.0",
      "_model_name": "LayoutModel",
      "_view_count": null,
      "_view_module": "@jupyter-widgets/base",
      "_view_module_version": "1.2.0",
      "_view_name": "LayoutView",
      "align_content": null,
      "align_items": null,
      "align_self": null,
      "border": null,
      "bottom": null,
      "display": null,
      "flex": null,
      "flex_flow": null,
      "grid_area": null,
      "grid_auto_columns": null,
      "grid_auto_flow": null,
      "grid_auto_rows": null,
      "grid_column": null,
      "grid_gap": null,
      "grid_row": null,
      "grid_template_areas": null,
      "grid_template_columns": null,
      "grid_template_rows": null,
      "height": null,
      "justify_content": null,
      "justify_items": null,
      "left": null,
      "margin": null,
      "max_height": null,
      "max_width": null,
      "min_height": null,
      "min_width": null,
      "object_fit": null,
      "object_position": null,
      "order": null,
      "overflow": null,
      "overflow_x": null,
      "overflow_y": null,
      "padding": null,
      "right": null,
      "top": null,
      "visibility": null,
      "width": null
     }
    },
    "22fa0aa29206402f9d912b12617d4089": {
     "model_module": "@jupyter-widgets/controls",
     "model_name": "HBoxModel",
     "state": {
      "_dom_classes": [],
      "_model_module": "@jupyter-widgets/controls",
      "_model_module_version": "1.5.0",
      "_model_name": "HBoxModel",
      "_view_count": null,
      "_view_module": "@jupyter-widgets/controls",
      "_view_module_version": "1.5.0",
      "_view_name": "HBoxView",
      "box_style": "",
      "children": [
       "IPY_MODEL_40f09b8a26ef4ef2937405587b7293d7",
       "IPY_MODEL_f4e88d3be62744e281ea9fa4a0d4cc19"
      ],
      "layout": "IPY_MODEL_8399adf9ecb1453fbdcbb870669d8063"
     }
    },
    "292d07e3a83549d8b0a150ac6cc72421": {
     "model_module": "@jupyter-widgets/controls",
     "model_name": "HTMLModel",
     "state": {
      "_dom_classes": [],
      "_model_module": "@jupyter-widgets/controls",
      "_model_module_version": "1.5.0",
      "_model_name": "HTMLModel",
      "_view_count": null,
      "_view_module": "@jupyter-widgets/controls",
      "_view_module_version": "1.5.0",
      "_view_name": "HTMLView",
      "description": "",
      "description_tooltip": null,
      "layout": "IPY_MODEL_728bd69f4df045b7a391f0c3ac563c91",
      "placeholder": "​",
      "style": "IPY_MODEL_cebe062735aa4601abdb2ec41191c363",
      "value": " 466k/466k [00:00&lt;00:00, 1.98MB/s]"
     }
    },
    "2e98fb6fff1d41ecb9ffd65d0d47a5c2": {
     "model_module": "@jupyter-widgets/controls",
     "model_name": "DescriptionStyleModel",
     "state": {
      "_model_module": "@jupyter-widgets/controls",
      "_model_module_version": "1.5.0",
      "_model_name": "DescriptionStyleModel",
      "_view_count": null,
      "_view_module": "@jupyter-widgets/base",
      "_view_module_version": "1.2.0",
      "_view_name": "StyleView",
      "description_width": ""
     }
    },
    "359bb2fe1c114c24b92e120720649726": {
     "model_module": "@jupyter-widgets/base",
     "model_name": "LayoutModel",
     "state": {
      "_model_module": "@jupyter-widgets/base",
      "_model_module_version": "1.2.0",
      "_model_name": "LayoutModel",
      "_view_count": null,
      "_view_module": "@jupyter-widgets/base",
      "_view_module_version": "1.2.0",
      "_view_name": "LayoutView",
      "align_content": null,
      "align_items": null,
      "align_self": null,
      "border": null,
      "bottom": null,
      "display": null,
      "flex": null,
      "flex_flow": null,
      "grid_area": null,
      "grid_auto_columns": null,
      "grid_auto_flow": null,
      "grid_auto_rows": null,
      "grid_column": null,
      "grid_gap": null,
      "grid_row": null,
      "grid_template_areas": null,
      "grid_template_columns": null,
      "grid_template_rows": null,
      "height": null,
      "justify_content": null,
      "justify_items": null,
      "left": null,
      "margin": null,
      "max_height": null,
      "max_width": null,
      "min_height": null,
      "min_width": null,
      "object_fit": null,
      "object_position": null,
      "order": null,
      "overflow": null,
      "overflow_x": null,
      "overflow_y": null,
      "padding": null,
      "right": null,
      "top": null,
      "visibility": null,
      "width": null
     }
    },
    "364bacacc9a940d9aef0439dec0c3299": {
     "model_module": "@jupyter-widgets/controls",
     "model_name": "HBoxModel",
     "state": {
      "_dom_classes": [],
      "_model_module": "@jupyter-widgets/controls",
      "_model_module_version": "1.5.0",
      "_model_name": "HBoxModel",
      "_view_count": null,
      "_view_module": "@jupyter-widgets/controls",
      "_view_module_version": "1.5.0",
      "_view_name": "HBoxView",
      "box_style": "",
      "children": [
       "IPY_MODEL_9f873a3024cc4d09a98e5d801dab8d4d",
       "IPY_MODEL_9f410ddc383e4337838f0b1fbf827977"
      ],
      "layout": "IPY_MODEL_d417f77b20274010b6916f29d524cb79"
     }
    },
    "40f09b8a26ef4ef2937405587b7293d7": {
     "model_module": "@jupyter-widgets/controls",
     "model_name": "FloatProgressModel",
     "state": {
      "_dom_classes": [],
      "_model_module": "@jupyter-widgets/controls",
      "_model_module_version": "1.5.0",
      "_model_name": "FloatProgressModel",
      "_view_count": null,
      "_view_module": "@jupyter-widgets/controls",
      "_view_module_version": "1.5.0",
      "_view_name": "ProgressView",
      "bar_style": "success",
      "description": "Downloading: 100%",
      "description_tooltip": null,
      "layout": "IPY_MODEL_7eec9f596585450da239f9bb8cdf772b",
      "max": 28,
      "min": 0,
      "orientation": "horizontal",
      "style": "IPY_MODEL_5da140312b0b4452990e3b622517a09c",
      "value": 28
     }
    },
    "4b52b740167e4d378443a25b37f2a0e8": {
     "model_module": "@jupyter-widgets/base",
     "model_name": "LayoutModel",
     "state": {
      "_model_module": "@jupyter-widgets/base",
      "_model_module_version": "1.2.0",
      "_model_name": "LayoutModel",
      "_view_count": null,
      "_view_module": "@jupyter-widgets/base",
      "_view_module_version": "1.2.0",
      "_view_name": "LayoutView",
      "align_content": null,
      "align_items": null,
      "align_self": null,
      "border": null,
      "bottom": null,
      "display": null,
      "flex": null,
      "flex_flow": null,
      "grid_area": null,
      "grid_auto_columns": null,
      "grid_auto_flow": null,
      "grid_auto_rows": null,
      "grid_column": null,
      "grid_gap": null,
      "grid_row": null,
      "grid_template_areas": null,
      "grid_template_columns": null,
      "grid_template_rows": null,
      "height": null,
      "justify_content": null,
      "justify_items": null,
      "left": null,
      "margin": null,
      "max_height": null,
      "max_width": null,
      "min_height": null,
      "min_width": null,
      "object_fit": null,
      "object_position": null,
      "order": null,
      "overflow": null,
      "overflow_x": null,
      "overflow_y": null,
      "padding": null,
      "right": null,
      "top": null,
      "visibility": null,
      "width": null
     }
    },
    "5da140312b0b4452990e3b622517a09c": {
     "model_module": "@jupyter-widgets/controls",
     "model_name": "ProgressStyleModel",
     "state": {
      "_model_module": "@jupyter-widgets/controls",
      "_model_module_version": "1.5.0",
      "_model_name": "ProgressStyleModel",
      "_view_count": null,
      "_view_module": "@jupyter-widgets/base",
      "_view_module_version": "1.2.0",
      "_view_name": "StyleView",
      "bar_color": null,
      "description_width": "initial"
     }
    },
    "5f7f7b2f5d4c4bc2a0a1b3eac435e451": {
     "model_module": "@jupyter-widgets/controls",
     "model_name": "DescriptionStyleModel",
     "state": {
      "_model_module": "@jupyter-widgets/controls",
      "_model_module_version": "1.5.0",
      "_model_name": "DescriptionStyleModel",
      "_view_count": null,
      "_view_module": "@jupyter-widgets/base",
      "_view_module_version": "1.2.0",
      "_view_name": "StyleView",
      "description_width": ""
     }
    },
    "68b8e07033e54bbfb623e15d28e98fd1": {
     "model_module": "@jupyter-widgets/controls",
     "model_name": "ProgressStyleModel",
     "state": {
      "_model_module": "@jupyter-widgets/controls",
      "_model_module_version": "1.5.0",
      "_model_name": "ProgressStyleModel",
      "_view_count": null,
      "_view_module": "@jupyter-widgets/base",
      "_view_module_version": "1.2.0",
      "_view_name": "StyleView",
      "bar_color": null,
      "description_width": "initial"
     }
    },
    "728bd69f4df045b7a391f0c3ac563c91": {
     "model_module": "@jupyter-widgets/base",
     "model_name": "LayoutModel",
     "state": {
      "_model_module": "@jupyter-widgets/base",
      "_model_module_version": "1.2.0",
      "_model_name": "LayoutModel",
      "_view_count": null,
      "_view_module": "@jupyter-widgets/base",
      "_view_module_version": "1.2.0",
      "_view_name": "LayoutView",
      "align_content": null,
      "align_items": null,
      "align_self": null,
      "border": null,
      "bottom": null,
      "display": null,
      "flex": null,
      "flex_flow": null,
      "grid_area": null,
      "grid_auto_columns": null,
      "grid_auto_flow": null,
      "grid_auto_rows": null,
      "grid_column": null,
      "grid_gap": null,
      "grid_row": null,
      "grid_template_areas": null,
      "grid_template_columns": null,
      "grid_template_rows": null,
      "height": null,
      "justify_content": null,
      "justify_items": null,
      "left": null,
      "margin": null,
      "max_height": null,
      "max_width": null,
      "min_height": null,
      "min_width": null,
      "object_fit": null,
      "object_position": null,
      "order": null,
      "overflow": null,
      "overflow_x": null,
      "overflow_y": null,
      "padding": null,
      "right": null,
      "top": null,
      "visibility": null,
      "width": null
     }
    },
    "777961dd548640c2944575f9e2786dc0": {
     "model_module": "@jupyter-widgets/controls",
     "model_name": "HBoxModel",
     "state": {
      "_dom_classes": [],
      "_model_module": "@jupyter-widgets/controls",
      "_model_module_version": "1.5.0",
      "_model_name": "HBoxModel",
      "_view_count": null,
      "_view_module": "@jupyter-widgets/controls",
      "_view_module_version": "1.5.0",
      "_view_name": "HBoxView",
      "box_style": "",
      "children": [
       "IPY_MODEL_00b44376bcef494092136bc297e83f00",
       "IPY_MODEL_292d07e3a83549d8b0a150ac6cc72421"
      ],
      "layout": "IPY_MODEL_4b52b740167e4d378443a25b37f2a0e8"
     }
    },
    "7eec9f596585450da239f9bb8cdf772b": {
     "model_module": "@jupyter-widgets/base",
     "model_name": "LayoutModel",
     "state": {
      "_model_module": "@jupyter-widgets/base",
      "_model_module_version": "1.2.0",
      "_model_name": "LayoutModel",
      "_view_count": null,
      "_view_module": "@jupyter-widgets/base",
      "_view_module_version": "1.2.0",
      "_view_name": "LayoutView",
      "align_content": null,
      "align_items": null,
      "align_self": null,
      "border": null,
      "bottom": null,
      "display": null,
      "flex": null,
      "flex_flow": null,
      "grid_area": null,
      "grid_auto_columns": null,
      "grid_auto_flow": null,
      "grid_auto_rows": null,
      "grid_column": null,
      "grid_gap": null,
      "grid_row": null,
      "grid_template_areas": null,
      "grid_template_columns": null,
      "grid_template_rows": null,
      "height": null,
      "justify_content": null,
      "justify_items": null,
      "left": null,
      "margin": null,
      "max_height": null,
      "max_width": null,
      "min_height": null,
      "min_width": null,
      "object_fit": null,
      "object_position": null,
      "order": null,
      "overflow": null,
      "overflow_x": null,
      "overflow_y": null,
      "padding": null,
      "right": null,
      "top": null,
      "visibility": null,
      "width": null
     }
    },
    "828a9ee308064ea99d0b01e0f6666d8a": {
     "model_module": "@jupyter-widgets/base",
     "model_name": "LayoutModel",
     "state": {
      "_model_module": "@jupyter-widgets/base",
      "_model_module_version": "1.2.0",
      "_model_name": "LayoutModel",
      "_view_count": null,
      "_view_module": "@jupyter-widgets/base",
      "_view_module_version": "1.2.0",
      "_view_name": "LayoutView",
      "align_content": null,
      "align_items": null,
      "align_self": null,
      "border": null,
      "bottom": null,
      "display": null,
      "flex": null,
      "flex_flow": null,
      "grid_area": null,
      "grid_auto_columns": null,
      "grid_auto_flow": null,
      "grid_auto_rows": null,
      "grid_column": null,
      "grid_gap": null,
      "grid_row": null,
      "grid_template_areas": null,
      "grid_template_columns": null,
      "grid_template_rows": null,
      "height": null,
      "justify_content": null,
      "justify_items": null,
      "left": null,
      "margin": null,
      "max_height": null,
      "max_width": null,
      "min_height": null,
      "min_width": null,
      "object_fit": null,
      "object_position": null,
      "order": null,
      "overflow": null,
      "overflow_x": null,
      "overflow_y": null,
      "padding": null,
      "right": null,
      "top": null,
      "visibility": null,
      "width": null
     }
    },
    "8399adf9ecb1453fbdcbb870669d8063": {
     "model_module": "@jupyter-widgets/base",
     "model_name": "LayoutModel",
     "state": {
      "_model_module": "@jupyter-widgets/base",
      "_model_module_version": "1.2.0",
      "_model_name": "LayoutModel",
      "_view_count": null,
      "_view_module": "@jupyter-widgets/base",
      "_view_module_version": "1.2.0",
      "_view_name": "LayoutView",
      "align_content": null,
      "align_items": null,
      "align_self": null,
      "border": null,
      "bottom": null,
      "display": null,
      "flex": null,
      "flex_flow": null,
      "grid_area": null,
      "grid_auto_columns": null,
      "grid_auto_flow": null,
      "grid_auto_rows": null,
      "grid_column": null,
      "grid_gap": null,
      "grid_row": null,
      "grid_template_areas": null,
      "grid_template_columns": null,
      "grid_template_rows": null,
      "height": null,
      "justify_content": null,
      "justify_items": null,
      "left": null,
      "margin": null,
      "max_height": null,
      "max_width": null,
      "min_height": null,
      "min_width": null,
      "object_fit": null,
      "object_position": null,
      "order": null,
      "overflow": null,
      "overflow_x": null,
      "overflow_y": null,
      "padding": null,
      "right": null,
      "top": null,
      "visibility": null,
      "width": null
     }
    },
    "86b8166437064e06bce26a1f7becf63c": {
     "model_module": "@jupyter-widgets/controls",
     "model_name": "ProgressStyleModel",
     "state": {
      "_model_module": "@jupyter-widgets/controls",
      "_model_module_version": "1.5.0",
      "_model_name": "ProgressStyleModel",
      "_view_count": null,
      "_view_module": "@jupyter-widgets/base",
      "_view_module_version": "1.2.0",
      "_view_name": "StyleView",
      "bar_color": null,
      "description_width": "initial"
     }
    },
    "8b421b4c6cd34d519f86d3d13ff0f98c": {
     "model_module": "@jupyter-widgets/controls",
     "model_name": "HBoxModel",
     "state": {
      "_dom_classes": [],
      "_model_module": "@jupyter-widgets/controls",
      "_model_module_version": "1.5.0",
      "_model_name": "HBoxModel",
      "_view_count": null,
      "_view_module": "@jupyter-widgets/controls",
      "_view_module_version": "1.5.0",
      "_view_name": "HBoxView",
      "box_style": "",
      "children": [
       "IPY_MODEL_ee3a73fec9484b11a828b2667b652d16",
       "IPY_MODEL_fb269d20d87a45d1b90b1e2cbea4ac64"
      ],
      "layout": "IPY_MODEL_828a9ee308064ea99d0b01e0f6666d8a"
     }
    },
    "8ea295b2fcf045fe94e701808dffcb97": {
     "model_module": "@jupyter-widgets/base",
     "model_name": "LayoutModel",
     "state": {
      "_model_module": "@jupyter-widgets/base",
      "_model_module_version": "1.2.0",
      "_model_name": "LayoutModel",
      "_view_count": null,
      "_view_module": "@jupyter-widgets/base",
      "_view_module_version": "1.2.0",
      "_view_name": "LayoutView",
      "align_content": null,
      "align_items": null,
      "align_self": null,
      "border": null,
      "bottom": null,
      "display": null,
      "flex": null,
      "flex_flow": null,
      "grid_area": null,
      "grid_auto_columns": null,
      "grid_auto_flow": null,
      "grid_auto_rows": null,
      "grid_column": null,
      "grid_gap": null,
      "grid_row": null,
      "grid_template_areas": null,
      "grid_template_columns": null,
      "grid_template_rows": null,
      "height": null,
      "justify_content": null,
      "justify_items": null,
      "left": null,
      "margin": null,
      "max_height": null,
      "max_width": null,
      "min_height": null,
      "min_width": null,
      "object_fit": null,
      "object_position": null,
      "order": null,
      "overflow": null,
      "overflow_x": null,
      "overflow_y": null,
      "padding": null,
      "right": null,
      "top": null,
      "visibility": null,
      "width": null
     }
    },
    "9f410ddc383e4337838f0b1fbf827977": {
     "model_module": "@jupyter-widgets/controls",
     "model_name": "HTMLModel",
     "state": {
      "_dom_classes": [],
      "_model_module": "@jupyter-widgets/controls",
      "_model_module_version": "1.5.0",
      "_model_name": "HTMLModel",
      "_view_count": null,
      "_view_module": "@jupyter-widgets/controls",
      "_view_module_version": "1.5.0",
      "_view_name": "HTMLView",
      "description": "",
      "description_tooltip": null,
      "layout": "IPY_MODEL_e24490db1e42406db001a2a95fb33892",
      "placeholder": "​",
      "style": "IPY_MODEL_5f7f7b2f5d4c4bc2a0a1b3eac435e451",
      "value": " 0/3 [00:00&lt;?, ?it/s]"
     }
    },
    "9f6024f9871f4b4e9e12e851cdd6ebee": {
     "model_module": "@jupyter-widgets/controls",
     "model_name": "DescriptionStyleModel",
     "state": {
      "_model_module": "@jupyter-widgets/controls",
      "_model_module_version": "1.5.0",
      "_model_name": "DescriptionStyleModel",
      "_view_count": null,
      "_view_module": "@jupyter-widgets/base",
      "_view_module_version": "1.2.0",
      "_view_name": "StyleView",
      "description_width": ""
     }
    },
    "9f873a3024cc4d09a98e5d801dab8d4d": {
     "model_module": "@jupyter-widgets/controls",
     "model_name": "FloatProgressModel",
     "state": {
      "_dom_classes": [],
      "_model_module": "@jupyter-widgets/controls",
      "_model_module_version": "1.5.0",
      "_model_name": "FloatProgressModel",
      "_view_count": null,
      "_view_module": "@jupyter-widgets/controls",
      "_view_module_version": "1.5.0",
      "_view_name": "ProgressView",
      "bar_style": "",
      "description": "  0%",
      "description_tooltip": null,
      "layout": "IPY_MODEL_cae151aed8514a3e9b0fa72873c4c1dd",
      "max": 3,
      "min": 0,
      "orientation": "horizontal",
      "style": "IPY_MODEL_68b8e07033e54bbfb623e15d28e98fd1",
      "value": 0
     }
    },
    "a76b037660e84acba54399c2190c8aea": {
     "model_module": "@jupyter-widgets/base",
     "model_name": "LayoutModel",
     "state": {
      "_model_module": "@jupyter-widgets/base",
      "_model_module_version": "1.2.0",
      "_model_name": "LayoutModel",
      "_view_count": null,
      "_view_module": "@jupyter-widgets/base",
      "_view_module_version": "1.2.0",
      "_view_name": "LayoutView",
      "align_content": null,
      "align_items": null,
      "align_self": null,
      "border": null,
      "bottom": null,
      "display": null,
      "flex": null,
      "flex_flow": null,
      "grid_area": null,
      "grid_auto_columns": null,
      "grid_auto_flow": null,
      "grid_auto_rows": null,
      "grid_column": null,
      "grid_gap": null,
      "grid_row": null,
      "grid_template_areas": null,
      "grid_template_columns": null,
      "grid_template_rows": null,
      "height": null,
      "justify_content": null,
      "justify_items": null,
      "left": null,
      "margin": null,
      "max_height": null,
      "max_width": null,
      "min_height": null,
      "min_width": null,
      "object_fit": null,
      "object_position": null,
      "order": null,
      "overflow": null,
      "overflow_x": null,
      "overflow_y": null,
      "padding": null,
      "right": null,
      "top": null,
      "visibility": null,
      "width": null
     }
    },
    "c9abb7e846d04f1a8f094e7e55741281": {
     "model_module": "@jupyter-widgets/controls",
     "model_name": "ProgressStyleModel",
     "state": {
      "_model_module": "@jupyter-widgets/controls",
      "_model_module_version": "1.5.0",
      "_model_name": "ProgressStyleModel",
      "_view_count": null,
      "_view_module": "@jupyter-widgets/base",
      "_view_module_version": "1.2.0",
      "_view_name": "StyleView",
      "bar_color": null,
      "description_width": "initial"
     }
    },
    "cae151aed8514a3e9b0fa72873c4c1dd": {
     "model_module": "@jupyter-widgets/base",
     "model_name": "LayoutModel",
     "state": {
      "_model_module": "@jupyter-widgets/base",
      "_model_module_version": "1.2.0",
      "_model_name": "LayoutModel",
      "_view_count": null,
      "_view_module": "@jupyter-widgets/base",
      "_view_module_version": "1.2.0",
      "_view_name": "LayoutView",
      "align_content": null,
      "align_items": null,
      "align_self": null,
      "border": null,
      "bottom": null,
      "display": null,
      "flex": null,
      "flex_flow": null,
      "grid_area": null,
      "grid_auto_columns": null,
      "grid_auto_flow": null,
      "grid_auto_rows": null,
      "grid_column": null,
      "grid_gap": null,
      "grid_row": null,
      "grid_template_areas": null,
      "grid_template_columns": null,
      "grid_template_rows": null,
      "height": null,
      "justify_content": null,
      "justify_items": null,
      "left": null,
      "margin": null,
      "max_height": null,
      "max_width": null,
      "min_height": null,
      "min_width": null,
      "object_fit": null,
      "object_position": null,
      "order": null,
      "overflow": null,
      "overflow_x": null,
      "overflow_y": null,
      "padding": null,
      "right": null,
      "top": null,
      "visibility": null,
      "width": null
     }
    },
    "cebe062735aa4601abdb2ec41191c363": {
     "model_module": "@jupyter-widgets/controls",
     "model_name": "DescriptionStyleModel",
     "state": {
      "_model_module": "@jupyter-widgets/controls",
      "_model_module_version": "1.5.0",
      "_model_name": "DescriptionStyleModel",
      "_view_count": null,
      "_view_module": "@jupyter-widgets/base",
      "_view_module_version": "1.2.0",
      "_view_name": "StyleView",
      "description_width": ""
     }
    },
    "d417f77b20274010b6916f29d524cb79": {
     "model_module": "@jupyter-widgets/base",
     "model_name": "LayoutModel",
     "state": {
      "_model_module": "@jupyter-widgets/base",
      "_model_module_version": "1.2.0",
      "_model_name": "LayoutModel",
      "_view_count": null,
      "_view_module": "@jupyter-widgets/base",
      "_view_module_version": "1.2.0",
      "_view_name": "LayoutView",
      "align_content": null,
      "align_items": null,
      "align_self": null,
      "border": null,
      "bottom": null,
      "display": null,
      "flex": null,
      "flex_flow": null,
      "grid_area": null,
      "grid_auto_columns": null,
      "grid_auto_flow": null,
      "grid_auto_rows": null,
      "grid_column": null,
      "grid_gap": null,
      "grid_row": null,
      "grid_template_areas": null,
      "grid_template_columns": null,
      "grid_template_rows": null,
      "height": null,
      "justify_content": null,
      "justify_items": null,
      "left": null,
      "margin": null,
      "max_height": null,
      "max_width": null,
      "min_height": null,
      "min_width": null,
      "object_fit": null,
      "object_position": null,
      "order": null,
      "overflow": null,
      "overflow_x": null,
      "overflow_y": null,
      "padding": null,
      "right": null,
      "top": null,
      "visibility": null,
      "width": null
     }
    },
    "e24490db1e42406db001a2a95fb33892": {
     "model_module": "@jupyter-widgets/base",
     "model_name": "LayoutModel",
     "state": {
      "_model_module": "@jupyter-widgets/base",
      "_model_module_version": "1.2.0",
      "_model_name": "LayoutModel",
      "_view_count": null,
      "_view_module": "@jupyter-widgets/base",
      "_view_module_version": "1.2.0",
      "_view_name": "LayoutView",
      "align_content": null,
      "align_items": null,
      "align_self": null,
      "border": null,
      "bottom": null,
      "display": null,
      "flex": null,
      "flex_flow": null,
      "grid_area": null,
      "grid_auto_columns": null,
      "grid_auto_flow": null,
      "grid_auto_rows": null,
      "grid_column": null,
      "grid_gap": null,
      "grid_row": null,
      "grid_template_areas": null,
      "grid_template_columns": null,
      "grid_template_rows": null,
      "height": null,
      "justify_content": null,
      "justify_items": null,
      "left": null,
      "margin": null,
      "max_height": null,
      "max_width": null,
      "min_height": null,
      "min_width": null,
      "object_fit": null,
      "object_position": null,
      "order": null,
      "overflow": null,
      "overflow_x": null,
      "overflow_y": null,
      "padding": null,
      "right": null,
      "top": null,
      "visibility": null,
      "width": null
     }
    },
    "ee3a73fec9484b11a828b2667b652d16": {
     "model_module": "@jupyter-widgets/controls",
     "model_name": "FloatProgressModel",
     "state": {
      "_dom_classes": [],
      "_model_module": "@jupyter-widgets/controls",
      "_model_module_version": "1.5.0",
      "_model_name": "FloatProgressModel",
      "_view_count": null,
      "_view_module": "@jupyter-widgets/controls",
      "_view_module_version": "1.5.0",
      "_view_name": "ProgressView",
      "bar_style": "success",
      "description": "Downloading: 100%",
      "description_tooltip": null,
      "layout": "IPY_MODEL_1d6db8f3fffb45e08cfbbc87be94e4fc",
      "max": 231508,
      "min": 0,
      "orientation": "horizontal",
      "style": "IPY_MODEL_c9abb7e846d04f1a8f094e7e55741281",
      "value": 231508
     }
    },
    "f4e88d3be62744e281ea9fa4a0d4cc19": {
     "model_module": "@jupyter-widgets/controls",
     "model_name": "HTMLModel",
     "state": {
      "_dom_classes": [],
      "_model_module": "@jupyter-widgets/controls",
      "_model_module_version": "1.5.0",
      "_model_name": "HTMLModel",
      "_view_count": null,
      "_view_module": "@jupyter-widgets/controls",
      "_view_module_version": "1.5.0",
      "_view_name": "HTMLView",
      "description": "",
      "description_tooltip": null,
      "layout": "IPY_MODEL_8ea295b2fcf045fe94e701808dffcb97",
      "placeholder": "​",
      "style": "IPY_MODEL_2e98fb6fff1d41ecb9ffd65d0d47a5c2",
      "value": " 28.0/28.0 [00:00&lt;00:00, 44.3B/s]"
     }
    },
    "fb269d20d87a45d1b90b1e2cbea4ac64": {
     "model_module": "@jupyter-widgets/controls",
     "model_name": "HTMLModel",
     "state": {
      "_dom_classes": [],
      "_model_module": "@jupyter-widgets/controls",
      "_model_module_version": "1.5.0",
      "_model_name": "HTMLModel",
      "_view_count": null,
      "_view_module": "@jupyter-widgets/controls",
      "_view_module_version": "1.5.0",
      "_view_name": "HTMLView",
      "description": "",
      "description_tooltip": null,
      "layout": "IPY_MODEL_359bb2fe1c114c24b92e120720649726",
      "placeholder": "​",
      "style": "IPY_MODEL_9f6024f9871f4b4e9e12e851cdd6ebee",
      "value": " 232k/232k [00:01&lt;00:00, 122kB/s]"
     }
    }
   }
  }
 },
 "nbformat": 4,
 "nbformat_minor": 1
}
