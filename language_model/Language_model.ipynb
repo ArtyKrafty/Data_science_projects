{
  "nbformat": 4,
  "nbformat_minor": 0,
  "metadata": {
    "colab": {
      "name": "Language_model",
      "provenance": [],
      "collapsed_sections": [],
      "toc_visible": true
    },
    "kernelspec": {
      "display_name": "Python 3",
      "language": "python",
      "name": "python3"
    },
    "language_info": {
      "codemirror_mode": {
        "name": "ipython",
        "version": 3
      },
      "file_extension": ".py",
      "mimetype": "text/x-python",
      "name": "python",
      "nbconvert_exporter": "python",
      "pygments_lexer": "ipython3",
      "version": "3.7.4"
    },
    "toc": {
      "base_numbering": 1,
      "nav_menu": {},
      "number_sections": false,
      "sideBar": true,
      "skip_h1_title": false,
      "title_cell": "Table of Contents",
      "title_sidebar": "Contents",
      "toc_cell": false,
      "toc_position": {},
      "toc_section_display": true,
      "toc_window_display": false
    },
    "varInspector": {
      "cols": {
        "lenName": 16,
        "lenType": 16,
        "lenVar": 40
      },
      "kernels_config": {
        "python": {
          "delete_cmd_postfix": "",
          "delete_cmd_prefix": "del ",
          "library": "var_list.py",
          "varRefreshCmd": "print(var_dic_list())"
        },
        "r": {
          "delete_cmd_postfix": ") ",
          "delete_cmd_prefix": "rm(",
          "library": "var_list.r",
          "varRefreshCmd": "cat(var_dic_list()) "
        }
      },
      "types_to_exclude": [
        "module",
        "function",
        "builtin_function_or_method",
        "instance",
        "_Feature"
      ],
      "window_display": false
    }
  },
  "cells": [
    {
      "cell_type": "markdown",
      "source": [
        "<footer id=\"footer\"></footer>"
      ],
      "metadata": {
        "id": "bUFz778oW0-k"
      }
    },
    {
      "cell_type": "markdown",
      "metadata": {
        "id": "Ot3c4fjZwC4T"
      },
      "source": [
        "<h1 align='center'>Languages models. Part-Of-Speech Tagger</h1>\n",
        "<p align=\"center\"><img src=\"https://drive.google.com/uc?id=1oAlTVkQ-v0bioVY0VgUMKbJq8MWvr8tx\" alt=\"churn\" border=\"0\"></a></p>\n",
        "\n",
        "\n",
        "\n"
      ]
    },
    {
      "cell_type": "markdown",
      "metadata": {
        "id": "P2JdzEXmwRU5"
      },
      "source": [
        "---"
      ]
    },
    {
      "cell_type": "markdown",
      "source": [
        "<b> **Baseline** подготовлен [Deep learning school](#https://www.dlschool.org/pro-track)"
      ],
      "metadata": {
        "id": "MNnOiByIY2yr"
      }
    },
    {
      "cell_type": "markdown",
      "source": [
        "<div style=\"float:left;margin:0 10px 10px 0\" markdown=\"1\">\n",
        "    <a href=\"#footer\"><img src='https://img.shields.io/badge/К содержанию-&#x21A9-blue'></a>\n",
        "</div>\n",
        "\n",
        "___\n"
      ],
      "metadata": {
        "id": "1I1Mh98yY43T"
      }
    },
    {
      "cell_type": "markdown",
      "metadata": {
        "id": "oMohh_6CwC4W"
      },
      "source": [
        "### Задача определения частей речи, Part-Of-Speech Tagger (POS)"
      ]
    },
    {
      "cell_type": "markdown",
      "metadata": {
        "id": "2Aad2tmBwC4Y"
      },
      "source": [
        "Мы будем решать задачу определения частей речи (`POS-теггинга`) с помощью скрытой марковской модели (`HMM`)."
      ]
    },
    {
      "cell_type": "code",
      "source": [
        "!pip install -q rnnmorph"
      ],
      "metadata": {
        "id": "vURUf3FiZusk"
      },
      "execution_count": null,
      "outputs": []
    },
    {
      "cell_type": "code",
      "source": [
        "!pip install -q torchtext==0.6.0"
      ],
      "metadata": {
        "id": "o_mgi6YqX3E4"
      },
      "execution_count": null,
      "outputs": []
    },
    {
      "cell_type": "code",
      "metadata": {
        "id": "gYYV0mdmwC4f",
        "scrolled": false,
        "colab": {
          "base_uri": "https://localhost:8080/"
        },
        "outputId": "2b20aecd-afba-4bf1-9693-c0d962786004"
      },
      "source": [
        "import time\n",
        "import nltk\n",
        "import math\n",
        "import matplotlib\n",
        "\n",
        "import warnings\n",
        "import numpy as np\n",
        "import pandas as pd\n",
        "from nltk.corpus import brown\n",
        "import matplotlib.pyplot as plt\n",
        "from IPython.display import clear_output\n",
        "from collections import OrderedDict, deque, Counter\n",
        "from copy import deepcopy\n",
        "from tqdm.autonotebook import tqdm\n",
        "import torch\n",
        "\n",
        "from torch import nn\n",
        "import torch.optim as optim\n",
        "import torch.nn.functional as F\n",
        "from nltk.tag import DefaultTagger\n",
        "from nltk.tag.mapping import map_tag\n",
        "from rnnmorph.predictor import RNNMorphPredictor\n",
        "from sklearn.model_selection import train_test_split\n",
        "import torchtext\n",
        "from torchtext import datasets\n",
        "from torchtext import data\n",
        "\n",
        "\n",
        "%matplotlib inline\n",
        "matplotlib.rcParams.update({'figure.figsize': (15, 10), 'font.size': 11})\n",
        "warnings.filterwarnings(\"ignore\")\n",
        "\n",
        "report = pd.DataFrame()"
      ],
      "execution_count": null,
      "outputs": [
        {
          "output_type": "stream",
          "name": "stderr",
          "text": [
            "/usr/local/lib/python3.7/dist-packages/ipykernel_launcher.py:14: TqdmExperimentalWarning: Using `tqdm.autonotebook.tqdm` in notebook mode. Use `tqdm.tqdm` instead to force console mode (e.g. in jupyter console)\n",
            "  \n"
          ]
        }
      ]
    },
    {
      "cell_type": "markdown",
      "metadata": {
        "id": "FPgI52lRwC4n"
      },
      "source": [
        "Руководство: http://www.nltk.org/book/"
      ]
    },
    {
      "cell_type": "markdown",
      "metadata": {
        "id": "hxdJxMEAwC4o"
      },
      "source": [
        "Загрузим brown корпус"
      ]
    },
    {
      "cell_type": "code",
      "metadata": {
        "id": "ZvhXAL_9wC4q",
        "scrolled": true,
        "colab": {
          "base_uri": "https://localhost:8080/"
        },
        "outputId": "c7ea741e-f5b1-4e6c-b1ec-f4155a6f117e"
      },
      "source": [
        "nltk.download('brown')"
      ],
      "execution_count": null,
      "outputs": [
        {
          "output_type": "stream",
          "name": "stdout",
          "text": [
            "[nltk_data] Downloading package brown to /root/nltk_data...\n",
            "[nltk_data]   Package brown is already up-to-date!\n"
          ]
        },
        {
          "output_type": "execute_result",
          "data": {
            "text/plain": [
              "True"
            ]
          },
          "metadata": {},
          "execution_count": 4
        }
      ]
    },
    {
      "cell_type": "markdown",
      "metadata": {
        "id": "ASm3Dpggs25b"
      },
      "source": [
        "Существует множество наборов грамматических тегов, или тегсетов, например:\n",
        "* `НКРЯ`\n",
        "* `Mystem`\n",
        "* `UPenn`\n",
        "* `OpenCorpora` (его использует `pymorphy2`)\n",
        "* `Universal Dependencies`"
      ]
    },
    {
      "cell_type": "markdown",
      "metadata": {
        "id": "wto8PSC6wC4v"
      },
      "source": [
        "<b>Существует не одна система тегирования, поэтому будьте внимательны, когда прогнозируете тег слов в тексте и вычисляете качество прогноза. Можете получить несправедливо низкое качество вашего решения."
      ]
    },
    {
      "cell_type": "markdown",
      "metadata": {
        "id": "eJ6tuHA_wC4z"
      },
      "source": [
        "На данный момент стандартом является **Universal Dependencies**. Подробнее про проект можно почитать [вот тут](http://universaldependencies.org/), а про теги — [вот тут](http://universaldependencies.org/u/pos/)"
      ]
    },
    {
      "cell_type": "code",
      "metadata": {
        "id": "Cht7dImWwC42",
        "colab": {
          "base_uri": "https://localhost:8080/"
        },
        "outputId": "76dc99d7-841f-4922-e1df-be2fb2b2f748"
      },
      "source": [
        "nltk.download('universal_tagset')"
      ],
      "execution_count": null,
      "outputs": [
        {
          "output_type": "stream",
          "name": "stdout",
          "text": [
            "[nltk_data] Downloading package universal_tagset to /root/nltk_data...\n",
            "[nltk_data]   Package universal_tagset is already up-to-date!\n"
          ]
        },
        {
          "output_type": "execute_result",
          "data": {
            "text/plain": [
              "True"
            ]
          },
          "metadata": {},
          "execution_count": 5
        }
      ]
    },
    {
      "cell_type": "markdown",
      "metadata": {
        "id": "iyDBMcBSwC48"
      },
      "source": [
        "Мы имеем массив предложений пар (слово-тег)"
      ]
    },
    {
      "cell_type": "code",
      "metadata": {
        "id": "BobflewQwC4-",
        "scrolled": false
      },
      "source": [
        "brown_tagged_sents = brown.tagged_sents(tagset=\"universal\")"
      ],
      "execution_count": null,
      "outputs": []
    },
    {
      "cell_type": "markdown",
      "metadata": {
        "id": "jSu1KqRrwC5L"
      },
      "source": [
        "Первое предложение"
      ]
    },
    {
      "cell_type": "code",
      "metadata": {
        "id": "zCHCZPlkwC5N",
        "colab": {
          "base_uri": "https://localhost:8080/"
        },
        "outputId": "f229adf9-a434-4a17-e4b6-515bac029999"
      },
      "source": [
        "brown_tagged_sents[0]"
      ],
      "execution_count": null,
      "outputs": [
        {
          "output_type": "execute_result",
          "data": {
            "text/plain": [
              "[('The', 'DET'),\n",
              " ('Fulton', 'NOUN'),\n",
              " ('County', 'NOUN'),\n",
              " ('Grand', 'ADJ'),\n",
              " ('Jury', 'NOUN'),\n",
              " ('said', 'VERB'),\n",
              " ('Friday', 'NOUN'),\n",
              " ('an', 'DET'),\n",
              " ('investigation', 'NOUN'),\n",
              " ('of', 'ADP'),\n",
              " (\"Atlanta's\", 'NOUN'),\n",
              " ('recent', 'ADJ'),\n",
              " ('primary', 'NOUN'),\n",
              " ('election', 'NOUN'),\n",
              " ('produced', 'VERB'),\n",
              " ('``', '.'),\n",
              " ('no', 'DET'),\n",
              " ('evidence', 'NOUN'),\n",
              " (\"''\", '.'),\n",
              " ('that', 'ADP'),\n",
              " ('any', 'DET'),\n",
              " ('irregularities', 'NOUN'),\n",
              " ('took', 'VERB'),\n",
              " ('place', 'NOUN'),\n",
              " ('.', '.')]"
            ]
          },
          "metadata": {},
          "execution_count": 7
        }
      ]
    },
    {
      "cell_type": "markdown",
      "metadata": {
        "id": "SIV2MiRxwC5Q"
      },
      "source": [
        "Все пары (слово-тег)"
      ]
    },
    {
      "cell_type": "code",
      "metadata": {
        "id": "dVx9e9HcwC5R",
        "colab": {
          "base_uri": "https://localhost:8080/"
        },
        "outputId": "523433d9-880b-4a32-8bcf-43cfed42fcce"
      },
      "source": [
        "brown_tagged_words = brown.tagged_words(tagset='universal')\n",
        "brown_tagged_words"
      ],
      "execution_count": null,
      "outputs": [
        {
          "output_type": "execute_result",
          "data": {
            "text/plain": [
              "[('The', 'DET'), ('Fulton', 'NOUN'), ...]"
            ]
          },
          "metadata": {},
          "execution_count": 8
        }
      ]
    },
    {
      "cell_type": "markdown",
      "metadata": {
        "id": "y-ADby6LwC5V"
      },
      "source": [
        "Проанализируйте данные, с которыми Вы работаете. Используйте `nltk.FreqDist()` для подсчета частоты встречаемости тега и слова в нашем корпусе. Под частой элемента подразумевается кол-во этого элемента в корпусе."
      ]
    },
    {
      "cell_type": "code",
      "metadata": {
        "scrolled": false,
        "id": "JzRoXuKFcMZK"
      },
      "source": [
        "# Приведем слова к нижнему регистру\n",
        "brown_tagged_words = list(map(lambda x: (x[0].lower(), x[1]), brown_tagged_words))"
      ],
      "execution_count": null,
      "outputs": []
    },
    {
      "cell_type": "code",
      "metadata": {
        "id": "4giWaqXjwC5W",
        "colab": {
          "base_uri": "https://localhost:8080/"
        },
        "outputId": "7ef32b94-ca65-4202-9cc4-f0ccf8486a45"
      },
      "source": [
        "print('Кол-во предложений: ', len(brown_tagged_sents))\n",
        "tags = [tag for (word, tag) in brown_tagged_words] # наши теги\n",
        "words = [word for (word, tag) in brown_tagged_words] # наши слова\n",
        "\n",
        "tag_num = pd.Series(nltk.FreqDist(tags)).sort_values(ascending=False)\\\n",
        "                                        .rename({\".\": \"PUNCT\"}) # тег - кол-во тега в корпусе\n",
        "word_num = pd.Series(nltk.FreqDist(words)).sort_values(ascending=False) # слово - кол-во слова в корпусе"
      ],
      "execution_count": null,
      "outputs": [
        {
          "output_type": "stream",
          "name": "stdout",
          "text": [
            "Кол-во предложений:  57340\n"
          ]
        }
      ]
    },
    {
      "cell_type": "code",
      "metadata": {
        "id": "8Y1huw7TwC5b",
        "colab": {
          "base_uri": "https://localhost:8080/",
          "height": 336
        },
        "outputId": "74772960-c2e4-4121-88f8-3aa42287ae3a"
      },
      "source": [
        "# для красоты переимновали . в PUNCT\n",
        "plt.style.use('dark_background')\n",
        "plt.figure(figsize=(15, 5))\n",
        "plt.bar(tag_num.index, tag_num.values)\n",
        "plt.title(\"Tag_frequency\")\n",
        "plt.show()"
      ],
      "execution_count": null,
      "outputs": [
        {
          "output_type": "display_data",
          "data": {
            "text/plain": [
              "<Figure size 1080x360 with 1 Axes>"
            ],
            "image/png": "[encoded data removed]"
          },
          "metadata": {}
        }
      ]
    },
    {
      "cell_type": "code",
      "metadata": {
        "id": "gBbhnJsmwC5f",
        "colab": {
          "base_uri": "https://localhost:8080/",
          "height": 206
        },
        "outputId": "94e20947-4678-4b34-ac1e-9370a36faf04"
      },
      "source": [
        "word_num[:5].to_frame('cnt')"
      ],
      "execution_count": null,
      "outputs": [
        {
          "output_type": "execute_result",
          "data": {
            "text/plain": [
              "       cnt\n",
              "the  69971\n",
              ",    58334\n",
              ".    49346\n",
              "of   36412\n",
              "and  28853"
            ],
            "text/html": [
              "\n",
              "  <div id=\"df-66078e45-e7a1-412c-84c6-7deb6f78d5bd\">\n",
              "    <div class=\"colab-df-container\">\n",
              "      <div>\n",
              "<style scoped>\n",
              "    .dataframe tbody tr th:only-of-type {\n",
              "        vertical-align: middle;\n",
              "    }\n",
              "\n",
              "    .dataframe tbody tr th {\n",
              "        vertical-align: top;\n",
              "    }\n",
              "\n",
              "    .dataframe thead th {\n",
              "        text-align: right;\n",
              "    }\n",
              "</style>\n",
              "<table border=\"1\" class=\"dataframe\">\n",
              "  <thead>\n",
              "    <tr style=\"text-align: right;\">\n",
              "      <th></th>\n",
              "      <th>cnt</th>\n",
              "    </tr>\n",
              "  </thead>\n",
              "  <tbody>\n",
              "    <tr>\n",
              "      <th>the</th>\n",
              "      <td>69971</td>\n",
              "    </tr>\n",
              "    <tr>\n",
              "      <th>,</th>\n",
              "      <td>58334</td>\n",
              "    </tr>\n",
              "    <tr>\n",
              "      <th>.</th>\n",
              "      <td>49346</td>\n",
              "    </tr>\n",
              "    <tr>\n",
              "      <th>of</th>\n",
              "      <td>36412</td>\n",
              "    </tr>\n",
              "    <tr>\n",
              "      <th>and</th>\n",
              "      <td>28853</td>\n",
              "    </tr>\n",
              "  </tbody>\n",
              "</table>\n",
              "</div>\n",
              "      <button class=\"colab-df-convert\" onclick=\"convertToInteractive('df-66078e45-e7a1-412c-84c6-7deb6f78d5bd')\"\n",
              "              title=\"Convert this dataframe to an interactive table.\"\n",
              "              style=\"display:none;\">\n",
              "        \n",
              "  <svg xmlns=\"http://www.w3.org/2000/svg\" height=\"24px\"viewBox=\"0 0 24 24\"\n",
              "       width=\"24px\">\n",
              "    <path d=\"M0 0h24v24H0V0z\" fill=\"none\"/>\n",
              "    <path d=\"M18.56 5.44l.94 2.06.94-2.06 2.06-.94-2.06-.94-.94-2.06-.94 2.06-2.06.94zm-11 1L8.5 8.5l.94-2.06 2.06-.94-2.06-.94L8.5 2.5l-.94 2.06-2.06.94zm10 10l.94 2.06.94-2.06 2.06-.94-2.06-.94-.94-2.06-.94 2.06-2.06.94z\"/><path d=\"M17.41 7.96l-1.37-1.37c-.4-.4-.92-.59-1.43-.59-.52 0-1.04.2-1.43.59L10.3 9.45l-7.72 7.72c-.78.78-.78 2.05 0 2.83L4 21.41c.39.39.9.59 1.41.59.51 0 1.02-.2 1.41-.59l7.78-7.78 2.81-2.81c.8-.78.8-2.07 0-2.86zM5.41 20L4 18.59l7.72-7.72 1.47 1.35L5.41 20z\"/>\n",
              "  </svg>\n",
              "      </button>\n",
              "      \n",
              "  <style>\n",
              "    .colab-df-container {\n",
              "      display:flex;\n",
              "      flex-wrap:wrap;\n",
              "      gap: 12px;\n",
              "    }\n",
              "\n",
              "    .colab-df-convert {\n",
              "      background-color: #E8F0FE;\n",
              "      border: none;\n",
              "      border-radius: 50%;\n",
              "      cursor: pointer;\n",
              "      display: none;\n",
              "      fill: #1967D2;\n",
              "      height: 32px;\n",
              "      padding: 0 0 0 0;\n",
              "      width: 32px;\n",
              "    }\n",
              "\n",
              "    .colab-df-convert:hover {\n",
              "      background-color: #E2EBFA;\n",
              "      box-shadow: 0px 1px 2px rgba(60, 64, 67, 0.3), 0px 1px 3px 1px rgba(60, 64, 67, 0.15);\n",
              "      fill: #174EA6;\n",
              "    }\n",
              "\n",
              "    [theme=dark] .colab-df-convert {\n",
              "      background-color: #3B4455;\n",
              "      fill: #D2E3FC;\n",
              "    }\n",
              "\n",
              "    [theme=dark] .colab-df-convert:hover {\n",
              "      background-color: #434B5C;\n",
              "      box-shadow: 0px 1px 3px 1px rgba(0, 0, 0, 0.15);\n",
              "      filter: drop-shadow(0px 1px 2px rgba(0, 0, 0, 0.3));\n",
              "      fill: #FFFFFF;\n",
              "    }\n",
              "  </style>\n",
              "\n",
              "      <script>\n",
              "        const buttonEl =\n",
              "          document.querySelector('#df-66078e45-e7a1-412c-84c6-7deb6f78d5bd button.colab-df-convert');\n",
              "        buttonEl.style.display =\n",
              "          google.colab.kernel.accessAllowed ? 'block' : 'none';\n",
              "\n",
              "        async function convertToInteractive(key) {\n",
              "          const element = document.querySelector('#df-66078e45-e7a1-412c-84c6-7deb6f78d5bd');\n",
              "          const dataTable =\n",
              "            await google.colab.kernel.invokeFunction('convertToInteractive',\n",
              "                                                     [key], {});\n",
              "          if (!dataTable) return;\n",
              "\n",
              "          const docLinkHtml = 'Like what you see? Visit the ' +\n",
              "            '<a target=\"_blank\" href=https://colab.research.google.com/notebooks/data_table.ipynb>data table notebook</a>'\n",
              "            + ' to learn more about interactive tables.';\n",
              "          element.innerHTML = '';\n",
              "          dataTable['output_type'] = 'display_data';\n",
              "          await google.colab.output.renderOutput(dataTable, element);\n",
              "          const docLink = document.createElement('div');\n",
              "          docLink.innerHTML = docLinkHtml;\n",
              "          element.appendChild(docLink);\n",
              "        }\n",
              "      </script>\n",
              "    </div>\n",
              "  </div>\n",
              "  "
            ]
          },
          "metadata": {},
          "execution_count": 12
        }
      ]
    },
    {
      "cell_type": "code",
      "metadata": {
        "id": "1WmEOBMkwC5i",
        "colab": {
          "base_uri": "https://localhost:8080/",
          "height": 336
        },
        "outputId": "dc48cd28-cf11-4512-aa7e-d7fb93548c4c"
      },
      "source": [
        "plt.figure(figsize=(12, 5))\n",
        "plt.bar(word_num.index[:10], word_num.values[:10])\n",
        "plt.title(\"Word_frequency\")\n",
        "plt.show()"
      ],
      "execution_count": null,
      "outputs": [
        {
          "output_type": "display_data",
          "data": {
            "text/plain": [
              "<Figure size 864x360 with 1 Axes>"
            ],
            "image/png": "[encoded data removed]"
          },
          "metadata": {}
        }
      ]
    },
    {
      "cell_type": "code",
      "metadata": {
        "id": "jhB7di3YwC5p",
        "colab": {
          "base_uri": "https://localhost:8080/"
        },
        "outputId": "12a66add-d5b4-42d3-bf41-aca782386e0c"
      },
      "source": [
        "cat_nums = word_num[\"cat\"]\n",
        "print(f\"Количество слова \\033[1m'cat'\\033[0m в корпусе: {cat_nums} слов(-а)\")"
      ],
      "execution_count": null,
      "outputs": [
        {
          "output_type": "stream",
          "name": "stdout",
          "text": [
            "Количество слова \u001b[1m'cat'\u001b[0m в корпусе: 23 слов(-а)\n"
          ]
        }
      ]
    },
    {
      "cell_type": "markdown",
      "source": [
        "<div style=\"float:left;margin:0 10px 10px 0\" markdown=\"1\">\n",
        "    <a href=\"#footer\"><img src='https://img.shields.io/badge/К содержанию-&#x21A9-blue'></a>\n",
        "</div>\n",
        "\n",
        "___\n"
      ],
      "metadata": {
        "id": "-emfEwDXhIKU"
      }
    },
    {
      "cell_type": "code",
      "metadata": {
        "id": "oio-XBYkwC5t",
        "colab": {
          "base_uri": "https://localhost:8080/"
        },
        "outputId": "f1d9b2bf-5478-4b78-d218-0a557c958050"
      },
      "source": [
        "pop_tag = tag_num.nlargest(1).index.item()\n",
        "words_with_poptag = [word for (word, tag) in brown_tagged_words if tag == pop_tag]\n",
        "word_num_pop = pd.Series(nltk.FreqDist(words_with_poptag)).sort_values(ascending=False)\n",
        "pop_word = word_num_pop.nlargest(1).index.item()\n",
        "print(f\"Самое популярное слово в корпусе: \\033[1m{pop_word}\\033[0m\")"
      ],
      "execution_count": null,
      "outputs": [
        {
          "output_type": "stream",
          "name": "stdout",
          "text": [
            "Самое популярное слово в корпусе: \u001b[1mtime\u001b[0m\n"
          ]
        }
      ]
    },
    {
      "cell_type": "markdown",
      "source": [
        "<div style=\"float:left;margin:0 10px 10px 0\" markdown=\"1\">\n",
        "    <a href=\"#footer\"><img src='https://img.shields.io/badge/К содержанию-&#x21A9-blue'></a>\n",
        "</div>\n",
        "\n",
        "___\n"
      ],
      "metadata": {
        "id": "542zV7-1hJp0"
      }
    },
    {
      "cell_type": "markdown",
      "metadata": {
        "id": "K-OGc1rSwC5x"
      },
      "source": [
        "Обучение может занимать много времени - иногда, хорошим решением будет работа с подвыборкой. Мы можем помостреть категории корпуса:"
      ]
    },
    {
      "cell_type": "code",
      "metadata": {
        "id": "GSiVcP1TwC51",
        "colab": {
          "base_uri": "https://localhost:8080/"
        },
        "outputId": "2514eec6-4d03-4c9e-ddec-3d88139833ed"
      },
      "source": [
        "brown.categories()"
      ],
      "execution_count": null,
      "outputs": [
        {
          "output_type": "execute_result",
          "data": {
            "text/plain": [
              "['adventure',\n",
              " 'belles_lettres',\n",
              " 'editorial',\n",
              " 'fiction',\n",
              " 'government',\n",
              " 'hobbies',\n",
              " 'humor',\n",
              " 'learned',\n",
              " 'lore',\n",
              " 'mystery',\n",
              " 'news',\n",
              " 'religion',\n",
              " 'reviews',\n",
              " 'romance',\n",
              " 'science_fiction']"
            ]
          },
          "metadata": {},
          "execution_count": 16
        }
      ]
    },
    {
      "cell_type": "markdown",
      "metadata": {
        "id": "MjSlFatJwC53"
      },
      "source": [
        "Будем работать с категорией `humor`\n",
        "\n",
        "**UPDATE**. Во второй итерации работаем со всем сетом. Данные по обучению в `subset` - `humor` - хранится в итоговой таблице"
      ]
    },
    {
      "cell_type": "markdown",
      "metadata": {
        "id": "_f1rl5x0wC55"
      },
      "source": [
        "Сделаем случайное разбиение выборки на обучение и контроль в отношении 9:1. "
      ]
    },
    {
      "cell_type": "code",
      "metadata": {
        "id": "GX9t-1qowC58"
      },
      "source": [
        "# brown_tagged_sents = brown.tagged_sents(tagset=\"universal\", categories='humor')\n",
        "# вторая итерация - весь сет\n",
        "\n",
        "brown_tagged_sents = brown.tagged_sents(tagset=\"universal\")\n",
        "\n",
        "# Приведем слова к нижнему регистру\n",
        "my_brown_tagged_sents = []\n",
        "for sent in brown_tagged_sents:\n",
        "    my_brown_tagged_sents.append(list(map(lambda x: (x[0].lower(), x[1]), sent)))\n",
        "my_brown_tagged_sents = np.array(my_brown_tagged_sents)\n",
        "\n",
        "\n",
        "train_sents, test_sents = train_test_split(my_brown_tagged_sents, test_size=.1, random_state=42)\n",
        "assert (test_sents.shape[0] + train_sents.shape[0], ) == my_brown_tagged_sents.shape"
      ],
      "execution_count": null,
      "outputs": []
    },
    {
      "cell_type": "markdown",
      "metadata": {
        "id": "_rEasLVcwC6G"
      },
      "source": [
        "### Метод максимального правдоподобия для обучения модели\n",
        "\n",
        "* $\\normalsize S = s_0, s_1, ..., s_N$ - скрытые состояния, то есть различные теги\n",
        "* $\\normalsize O = o_0, o_1, ..., o_M$ - различные слова\n",
        "* $\\normalsize a_{i,j} = p(s_j|s_i)$ - вероятность того, что, находясь в скрытом состоянии $s_i$, мы попадем в состояние $s_j$ (элемент матрицы $A$)\n",
        "* $\\normalsize b_{k,j}=p(o_k|s_j)$ - вероятность того, что при скрытом состоянии $s_j$ находится слово $o_k$(элемент матрицы $B$)\n",
        "\n",
        "$$\\normalsize x_t \\in O, y_t \\in S$$\n",
        "$\\normalsize (x_t, y_t)$ - слово и тег, стоящие на месте $t$ $\\Rightarrow$ \n",
        "* $\\normalsize X$ - последовательность слов\n",
        "* $\\normalsize Y$ - последовательность тегов\n",
        "\n",
        "Требуется построить скрытую марковскую модель (`class HiddenMarkovModel`) и написать метод `fit` для настройки всех её параметров с помощью оценок максимального правдоподобия по размеченным данным (последовательности пар слово+тег):\n",
        "\n",
        "- Вероятности переходов между скрытыми состояниями $p(y_t | y_{t - 1})$ посчитайте на основе частот биграмм POS-тегов.\n",
        "\n",
        "\n",
        "- Вероятности эмиссий наблюдаемых состояний $p(x_t | y_t)$ посчитайте на основе частот \"POS-тег - слово\".\n",
        "\n",
        "\n",
        "- Распределение вероятностей начальных состояний $p(y_0)$ задайте равномерным.\n",
        "\n",
        "Пример $X = [x_0, x_1], Y = [y_0, y_1]$:<br><br>\n",
        "$$p(X, Y) = p(x_0, x_1, y_0, y_1) = p(y_0) \\cdot p(x_0, x_1, y_1 | y_0) = p(y_0) \\cdot p(x_0 | y_0) \\cdot\n",
        "p(x_1, y_1 | x_0, y_0) = \\\\ = p(y_0) \\cdot p(x_0 | y_0) \\cdot p(y_1 | x_0, y_0) \\cdot p(x_1 | x_0, y_0, y_1)\n",
        "= (\\text{в силу условий нашей модели}) = \\\\ = p(y_0) \\cdot p(x_0 | y_0) \\cdot p(y_1 | y_0) \\cdot p(x_1 | y_1) \\Rightarrow$$ <br>\n",
        "Для последовательности длины $n + 1$:<br>\n",
        "$$p(X, Y) = p(x_0 ... x_{n - 1}, y_0 ... y_{n - 1}) \\cdot p(y_n | y_{n - 1}) \\cdot p(x_n | y_n)$$"
      ]
    },
    {
      "cell_type": "markdown",
      "metadata": {
        "id": "tysPoe5rwC6I"
      },
      "source": [
        "#### Алгоритм Витерби для применения модели\n",
        "\n",
        "\n",
        "Требуется написать метод `.predict` для определения частей речи на тестовой выборке. Чтобы использовать обученную модель на новых данных, необходимо реализовать алгоритм Витерби. Это алгоритм динамиеского программирования, с помощью которого мы будем находить наиболее вероятную последовательность скрытых состояний модели для фиксированной последовательности слов:\n",
        "\n",
        "$$ \\hat{Y} = \\arg \\max_{Y} p(Y|X) = \\arg \\max_{Y} p(Y, X) $$\n",
        "\n",
        "Пусть $\\normalsize Q_{t,s}$ - самая вероятная последовательность скрытых состояний длины $t$ с окончанием в состоянии $s$. $\\normalsize q_{t, s}$ - вероятность этой последовательности.\n",
        "$$(1)\\: \\normalsize q_{t,s} = \\max_{s'} q_{t - 1, s'} \\cdot p(s | s') \\cdot p(o_t | s)$$\n",
        "$\\normalsize Q_{t,s}$ можно восстановить по argmax-ам."
      ]
    },
    {
      "cell_type": "code",
      "metadata": {
        "id": "QpEXdhOfwC6J"
      },
      "source": [
        "class HiddenMarkovModel:    \n",
        "    def __init__(self):\n",
        "    \n",
        "        pass\n",
        "        \n",
        "    def fit(self, train_tokens_tags_list):\n",
        "        \"\"\"\n",
        "        train_tokens_tags_list: массив предложений пар слово-тег (выборка для train) \n",
        "        \"\"\"\n",
        "        tags = [tag for sent in train_tokens_tags_list\n",
        "                for (word, tag) in sent]\n",
        "        words = [word for sent in train_tokens_tags_list\n",
        "                 for (word, tag) in sent]\n",
        "        \n",
        "        tag_num = pd.Series(nltk.FreqDist(tags)).sort_index()\n",
        "        word_num = pd.Series(nltk.FreqDist(words)).sort_values(ascending=False)\n",
        "         \n",
        "        self.tags = tag_num.index\n",
        "        self.words = word_num.index\n",
        "        self.pop_word = HiddenMarkovModel._find_pop_word(train_tokens_tags_list)\n",
        "        \n",
        "        A = pd.DataFrame({'{}'.format(tag) : [0] * len(tag_num) for tag in tag_num.index}, index=tag_num.index)\n",
        "        B = pd.DataFrame({'{}'.format(tag) : [0] * len(word_num) for tag in tag_num.index}, index=word_num.index)\n",
        "        \n",
        "        # Вычисляем матрицу A и B по частотам слов и тегов\n",
        "        \n",
        "        # sent - предложение\n",
        "        # sent[i][0] - i слово в этом предложении, sent[i][1] - i тег в этом предложении\n",
        "        for sent in train_tokens_tags_list:\n",
        "            for i in range(len(sent)):\n",
        "                B.loc[sent[i][0], sent[i][1]] += 1 # текущая i-пара слово-тег (обновите матрицу B аналогично A)\n",
        "                if len(sent) - 1 != i: # для последнего тега нет следующего тега\n",
        "                    A.loc[sent[i][1], sent[i + 1][1]] += 1 # пара тег-тег\n",
        "                \n",
        "        \n",
        "        # переходим к вероятностям\n",
        "        \n",
        "        # нормируем по строке, то есть по всем всевозможным следующим тегам\n",
        "        A = A.divide(A.sum(axis=1), axis=0)\n",
        "        \n",
        "        # нормируем по столбцу, то есть по всем всевозможным текущим словам\n",
        "        B = B / np.sum(B, axis=0)\n",
        "        \n",
        "        self.A = A\n",
        "        self.B = B\n",
        "        \n",
        "        return self\n",
        "        \n",
        "    \n",
        "    def predict(self, test_tokens_tags_list):\n",
        "        \"\"\"\n",
        "        test_tokens_list : массив предложений пар слово-тег (выборка для test)\n",
        "        \"\"\"\n",
        "        test_tokens_list = deepcopy(test_tokens_tags_list)\n",
        "        predict_tags = OrderedDict({i : np.array([]) for i in range(len(test_tokens_list))})\n",
        "        \n",
        "        for i_sent in range(len(test_tokens_list)):\n",
        "            \n",
        "            current_sent = test_tokens_list[i_sent] # текущее предложение\n",
        "            len_sent = len(current_sent) # длина предложения \n",
        "            \n",
        "            q = np.zeros(shape=(len_sent + 1, len(self.tags)))\n",
        "            q[0] = 1 # нулевое состояние (равномерная инициализация по всем s)\n",
        "            back_point = np.zeros(shape=(len_sent + 1, len(self.tags))) # argmax\n",
        "            \n",
        "            for t in range(len_sent):\n",
        "                \n",
        "                # если мы не встречали такое слово в обучении, то вместо него будет \n",
        "                # самое популярное слово с самым популярным тегом (вопрос 2)\n",
        "                if current_sent[t] not in self.words:\n",
        "                    current_sent[t] = self.pop_word\n",
        "                    \n",
        "                # через max выбираем следующий тег\n",
        "                for i_s in range(len(self.tags)):\n",
        "                    \n",
        "                    s = self.tags[i_s]\n",
        "                    proba = q[t, :] * self.A.loc[:, s] * self.B.loc[current_sent[t], s]\n",
        "                    # формула (1)\n",
        "                    q[t + 1][i_s] = np.max(proba) \n",
        "\n",
        "                    # argmax формула(1)\n",
        "                    \n",
        "                    # argmax, чтобы восстановить последовательность тегов\n",
        "                    back_point[t + 1][i_s] = (proba).reset_index()[s].idxmax() # индекс \n",
        "                    \n",
        "            back_point = back_point.astype('int')\n",
        "            \n",
        "            # выписываем теги, меняя порядок на реальный\n",
        "            back_tag = deque()\n",
        "            current_tag = np.argmax(q[len_sent])\n",
        "            for t in range(len_sent, 0, -1):\n",
        "                back_tag.appendleft(self.tags[current_tag])\n",
        "                current_tag = back_point[t, current_tag]\n",
        "             \n",
        "            predict_tags[i_sent] = np.array(back_tag)\n",
        "        return predict_tags     \n",
        "\n",
        "    @classmethod\n",
        "    def _find_pop_word(cls, train_tokens_tags_list):\n",
        "\n",
        "      tags = [tag for sent in train_tokens_tags_list\n",
        "        for (word, tag) in sent]\n",
        "      words = [word for sent in train_tokens_tags_list\n",
        "                for (word, tag) in sent]\n",
        "\n",
        "      tag_num = pd.Series(nltk.FreqDist(tags)).sort_values(ascending=False)\n",
        "      word_num = pd.Series(nltk.FreqDist(words)).sort_values(ascending=False)\n",
        "\n",
        "      pop_tag = tag_num.nlargest(1).index.item()\n",
        "      words_with_poptag = [word for sent in train_tokens_tags_list\n",
        "                          for (word, tag) in sent if tag == pop_tag]\n",
        "      word_num_pop = pd.Series(nltk.FreqDist(words_with_poptag)).sort_values(ascending=False)\n",
        "      pop_word = word_num_pop.nlargest(1).index.item()\n",
        "\n",
        "      return pop_word"
      ],
      "execution_count": null,
      "outputs": []
    },
    {
      "cell_type": "markdown",
      "metadata": {
        "id": "y0BLgsWkwC6M"
      },
      "source": [
        "Обучите скрытую марковскую модель:"
      ]
    },
    {
      "cell_type": "code",
      "metadata": {
        "id": "ZcSoyUAxwC6M",
        "colab": {
          "base_uri": "https://localhost:8080/"
        },
        "outputId": "e0e9ff24-fd10-4bb3-8851-b72cd82f51ed"
      },
      "source": [
        "model = HiddenMarkovModel()\n",
        "model.fit(train_sents)"
      ],
      "execution_count": null,
      "outputs": [
        {
          "output_type": "execute_result",
          "data": {
            "text/plain": [
              "<__main__.HiddenMarkovModel at 0x7f8052971cd0>"
            ]
          },
          "metadata": {},
          "execution_count": 67
        }
      ]
    },
    {
      "cell_type": "markdown",
      "metadata": {
        "id": "FeVNt19kwC6P"
      },
      "source": [
        "Проверьте работу реализованного алгоритма на следующих модельных примерах, проинтерпретируйте результат.\n",
        "\n",
        "- 'He can stay'\n",
        "- 'a cat and a dog'\n",
        "- 'I have a television'\n",
        "- 'My favourite character'"
      ]
    },
    {
      "cell_type": "code",
      "metadata": {
        "id": "cMJErf7NwC6Q"
      },
      "source": [
        "sents = [['He', 'can', 'stay'], ['a', 'cat', 'and', 'a', 'dog'], ['I', 'have', 'a', 'television'],\n",
        "         ['My', 'favourite', 'character']]"
      ],
      "execution_count": null,
      "outputs": []
    },
    {
      "cell_type": "code",
      "source": [
        "predictions = model.predict(sents)"
      ],
      "metadata": {
        "id": "e7qBQ5E321fB"
      },
      "execution_count": null,
      "outputs": []
    },
    {
      "cell_type": "code",
      "source": [
        "predictions"
      ],
      "metadata": {
        "colab": {
          "base_uri": "https://localhost:8080/"
        },
        "id": "5nvK2D3U0Hiw",
        "outputId": "4d1e01b6-7efb-44b2-9561-885a1c0cdb02"
      },
      "execution_count": null,
      "outputs": [
        {
          "output_type": "execute_result",
          "data": {
            "text/plain": [
              "OrderedDict([(0, array(['NOUN', 'VERB', 'VERB'], dtype='<U4')),\n",
              "             (1, array(['DET', 'NOUN', 'CONJ', 'DET', 'NOUN'], dtype='<U4')),\n",
              "             (2, array(['NOUN', 'VERB', 'DET', 'NOUN'], dtype='<U4')),\n",
              "             (3, array(['NOUN', 'NOUN', 'NOUN'], dtype='<U4'))])"
            ]
          },
          "metadata": {},
          "execution_count": 70
        }
      ]
    },
    {
      "cell_type": "markdown",
      "source": [
        "Мы видим, что по всем предложениям предсказан правильный `tag`, есть вопросы только к последнему - слово `favorite` - предсказали `NOUN`, но в данном контексте `ADJ`"
      ],
      "metadata": {
        "id": "KZ38359Q0IdW"
      }
    },
    {
      "cell_type": "code",
      "source": [
        "nltk.FreqDist([(word, tag) for (word, tag) in brown_tagged_words if word == 'favorite'])"
      ],
      "metadata": {
        "colab": {
          "base_uri": "https://localhost:8080/"
        },
        "id": "W6pt64cu0gK3",
        "outputId": "1e18b980-ede1-4d7d-ed6a-981abbffca31"
      },
      "execution_count": null,
      "outputs": [
        {
          "output_type": "execute_result",
          "data": {
            "text/plain": [
              "FreqDist({('favorite', 'ADJ'): 37, ('favorite', 'NOUN'): 4})"
            ]
          },
          "metadata": {},
          "execution_count": 71
        }
      ]
    },
    {
      "cell_type": "markdown",
      "source": [
        "Но как мы видим, что слово `favorite` представлено в двух вариантах. Но стоит отметить, что в нашем случае - лучшим вариантом было бы проставить `ADJ`, но модель решила, что верно - `NOUN`"
      ],
      "metadata": {
        "id": "PU59bDNR1hRD"
      }
    },
    {
      "cell_type": "markdown",
      "source": [
        "<div style=\"float:left;margin:0 10px 10px 0\" markdown=\"1\">\n",
        "    <a href=\"#footer\"><img src='https://img.shields.io/badge/К содержанию-&#x21A9-blue'></a>\n",
        "</div>\n",
        "\n",
        "___\n"
      ],
      "metadata": {
        "id": "HBuE9JeA48cI"
      }
    },
    {
      "cell_type": "code",
      "metadata": {
        "id": "ReHeG3IjwC6U",
        "colab": {
          "base_uri": "https://localhost:8080/"
        },
        "outputId": "31eb3db2-d3e4-4619-dbec-82a91837b895"
      },
      "source": [
        "idx = sents[0].index(\"can\")\n",
        "print(f\"Для слова 'can' получили тэг: {predictions[0][idx]}\")"
      ],
      "execution_count": null,
      "outputs": [
        {
          "output_type": "stream",
          "name": "stdout",
          "text": [
            "Для слова 'can' получили тэг: VERB\n"
          ]
        }
      ]
    },
    {
      "cell_type": "markdown",
      "source": [
        "<div style=\"float:left;margin:0 10px 10px 0\" markdown=\"1\">\n",
        "    <a href=\"#footer\"><img src='https://img.shields.io/badge/К содержанию-&#x21A9-blue'></a>\n",
        "</div>\n",
        "\n",
        "___\n"
      ],
      "metadata": {
        "id": "cyuP39MW49bw"
      }
    },
    {
      "cell_type": "code",
      "metadata": {
        "id": "94crVrrXwC6Y",
        "colab": {
          "base_uri": "https://localhost:8080/"
        },
        "outputId": "466e54af-3fb6-421b-b958-284d2e16fb71"
      },
      "source": [
        "idx = sents[3].index(\"favourite\")\n",
        "print(f\"Для слова 'favourite' получили тэг: {predictions[3][idx]}\")"
      ],
      "execution_count": null,
      "outputs": [
        {
          "output_type": "stream",
          "name": "stdout",
          "text": [
            "Для слова 'favourite' получили тэг: NOUN\n"
          ]
        }
      ]
    },
    {
      "cell_type": "markdown",
      "metadata": {
        "id": "YPC4NZ4HwC6a"
      },
      "source": [
        "Примените модель к отложенной выборке Брауновского корпуса и подсчитайте точность определения тегов (accuracy). Сделайте выводы. "
      ]
    },
    {
      "cell_type": "code",
      "metadata": {
        "id": "-7aioBc1wC6b"
      },
      "source": [
        "def accuracy_score(model, sents, subset='_humor'):\n",
        "    report = pd.Series()\n",
        "    true_pred = 0\n",
        "    num_pred = 0\n",
        "\n",
        "    for sent in sents:  \n",
        "      tags = np.array([tag for (word, tag) in sent])\n",
        "      words = [word for (word, tag) in sent]\n",
        "      preds = np.array(list(dict(model.predict([words])).values())[0].tolist())\n",
        "      true_pred += np.sum(preds == tags)\n",
        "      num_pred += len(words)\n",
        "      acc = round(true_pred / num_pred * 100, 1)\n",
        "    print(\"Accuracy, %:\", round(true_pred / num_pred * 100, 1))\n",
        "    return pd.Series({\"model\": model.__class__.__name__ + subset, \"acc\": acc})"
      ],
      "execution_count": null,
      "outputs": []
    },
    {
      "cell_type": "code",
      "metadata": {
        "id": "ptvlpc-6wC6f",
        "colab": {
          "base_uri": "https://localhost:8080/"
        },
        "outputId": "6ea14756-5797-4939-a512-bead7fd6ca72"
      },
      "source": [
        "rep_005 = accuracy_score(model, test_sents, subset=\"_whole\")"
      ],
      "execution_count": null,
      "outputs": [
        {
          "output_type": "stream",
          "name": "stdout",
          "text": [
            "Accuracy, %: 96.2\n"
          ]
        }
      ]
    },
    {
      "cell_type": "markdown",
      "source": [
        "<div style=\"float:left;margin:0 10px 10px 0\" markdown=\"1\">\n",
        "    <a href=\"#footer\"><img src='https://img.shields.io/badge/К содержанию-&#x21A9-blue'></a>\n",
        "</div>\n",
        "\n",
        "___\n"
      ],
      "metadata": {
        "id": "oTe7Hmt-AKmk"
      }
    },
    {
      "cell_type": "markdown",
      "metadata": {
        "id": "FpAgfZRTwC6h"
      },
      "source": [
        "## DefaultTagger"
      ]
    },
    {
      "cell_type": "markdown",
      "metadata": {
        "id": "Td-0Pe0vwC6k"
      },
      "source": [
        "Вы можете испоьзовать `DefaultTagger`(метод `tag` для предсказания частей речи предложения)"
      ]
    },
    {
      "cell_type": "code",
      "source": [
        "def accuracy_score_default(default_tagger, sents, subset='_humor'):\n",
        "    true_pred = 0\n",
        "    num_pred = 0\n",
        "    for sent in sents:  \n",
        "      tags = np.array([tag for (word, tag) in sent])\n",
        "      words = [word for (word, tag) in sent]\n",
        "      preds = [tag for s in default_tagger.tag_sents([words]) for (word, tag) in s]\n",
        "      true_pred += np.sum(preds == tags)\n",
        "      num_pred += len(words)\n",
        "      acc = round(true_pred / num_pred * 100, 1)\n",
        "    print(\"Accuracy, %:\", acc)\n",
        "    return pd.Series({\"model\": default_tagger.__class__.__name__+subset, \"acc\": acc})"
      ],
      "metadata": {
        "id": "Tsz-PIe6Brq0"
      },
      "execution_count": null,
      "outputs": []
    },
    {
      "cell_type": "code",
      "source": [
        "default_tagger = DefaultTagger(pop_tag)"
      ],
      "metadata": {
        "id": "UX3uyPvSCIi8"
      },
      "execution_count": null,
      "outputs": []
    },
    {
      "cell_type": "code",
      "metadata": {
        "id": "9CXKibo_cMcB",
        "colab": {
          "base_uri": "https://localhost:8080/"
        },
        "outputId": "37c88996-024f-4356-d037-e192617734f1"
      },
      "source": [
        "rep_006 = accuracy_score_default(default_tagger, test_sents, subset=\"_whole\")"
      ],
      "execution_count": null,
      "outputs": [
        {
          "output_type": "stream",
          "name": "stdout",
          "text": [
            "Accuracy, %: 23.6\n"
          ]
        }
      ]
    },
    {
      "cell_type": "markdown",
      "source": [
        "<div style=\"float:left;margin:0 10px 10px 0\" markdown=\"1\">\n",
        "    <a href=\"#footer\"><img src='https://img.shields.io/badge/К содержанию-&#x21A9-blue'></a>\n",
        "</div>\n",
        "\n",
        "___\n"
      ],
      "metadata": {
        "id": "d149zBshA9qn"
      }
    },
    {
      "cell_type": "markdown",
      "metadata": {
        "id": "lz7Q3BfbwC6o"
      },
      "source": [
        "## NLTK, Rnnmorph"
      ]
    },
    {
      "cell_type": "markdown",
      "metadata": {
        "id": "PZvdB22Oyycz"
      },
      "source": [
        "\n",
        "Не забудьте преобразовать систему тэгов из `'en-ptb' в 'universal'` с помощью функции `map_tag` или используйте `tagset='universal'`"
      ]
    },
    {
      "cell_type": "code",
      "metadata": {
        "id": "JJQFfbp8A_cj",
        "colab": {
          "base_uri": "https://localhost:8080/"
        },
        "outputId": "4c2d81dd-dd40-460a-a705-0376ab5a75a7"
      },
      "source": [
        "nltk.download('averaged_perceptron_tagger')"
      ],
      "execution_count": null,
      "outputs": [
        {
          "output_type": "stream",
          "name": "stdout",
          "text": [
            "[nltk_data] Downloading package averaged_perceptron_tagger to\n",
            "[nltk_data]     /root/nltk_data...\n",
            "[nltk_data]   Package averaged_perceptron_tagger is already up-to-\n",
            "[nltk_data]       date!\n"
          ]
        },
        {
          "output_type": "execute_result",
          "data": {
            "text/plain": [
              "True"
            ]
          },
          "metadata": {},
          "execution_count": 79
        }
      ]
    },
    {
      "cell_type": "code",
      "metadata": {
        "id": "8LD_61W7N35q",
        "colab": {
          "base_uri": "https://localhost:8080/"
        },
        "outputId": "2e4ca401-6010-477c-f375-f96f7d068655"
      },
      "source": [
        "predictor = RNNMorphPredictor(language=\"en\")"
      ],
      "execution_count": null,
      "outputs": [
        {
          "output_type": "stream",
          "name": "stdout",
          "text": [
            "[nltk_data] Downloading package wordnet to /root/nltk_data...\n",
            "[nltk_data]   Package wordnet is already up-to-date!\n",
            "[nltk_data] Downloading package averaged_perceptron_tagger to\n",
            "[nltk_data]     /root/nltk_data...\n",
            "[nltk_data]   Package averaged_perceptron_tagger is already up-to-\n",
            "[nltk_data]       date!\n",
            "[nltk_data] Downloading package universal_tagset to /root/nltk_data...\n",
            "[nltk_data]   Package universal_tagset is already up-to-date!\n"
          ]
        }
      ]
    },
    {
      "cell_type": "code",
      "source": [
        "def accuracy_score_RNN(model, sents, subset='_humor'):\n",
        "    report = pd.Series()\n",
        "    true_pred = 0\n",
        "    num_pred = 0\n",
        "\n",
        "    for sent in sents[:1]:  \n",
        "      tags = np.array([tag for (word, tag) in sent])\n",
        "      words = [word for (word, tag) in sent]\n",
        "      preds = [[token.pos for token in predictor.predict([word])][0] for word in words]\n",
        "      true_pred += np.sum(preds == tags)\n",
        "      num_pred += len(words)\n",
        "      acc = round(true_pred / num_pred * 100, 1)\n",
        "    print(\"Accuracy, %:\", round(true_pred / num_pred * 100, 1))\n",
        "    return pd.Series({\"model\": model.__class__.__name__+subset, \"acc\": acc})"
      ],
      "metadata": {
        "id": "kKP2utrzQxPV"
      },
      "execution_count": null,
      "outputs": []
    },
    {
      "cell_type": "code",
      "source": [
        "rep_007 = accuracy_score_RNN(predictor, test_sents, subset=\"_whole\")"
      ],
      "metadata": {
        "id": "72A3iEBvLQCP"
      },
      "execution_count": null,
      "outputs": []
    },
    {
      "cell_type": "markdown",
      "source": [
        "При импользовании `humor`-subset - получили `50%` качества Accuracy"
      ],
      "metadata": {
        "id": "9dDxKWX8C-B9"
      }
    },
    {
      "cell_type": "code",
      "metadata": {
        "id": "GBd3RgqVwC6s",
        "colab": {
          "base_uri": "https://localhost:8080/",
          "height": 178
        },
        "outputId": "10590a91-29f9-4f49-8c72-cbe010e4f3f2"
      },
      "source": [
        "(pd.DataFrame([rep_001, rep_002, rep_003])\n",
        " .sort_values(by=\"acc\", ascending=False)\n",
        " .reset_index(drop=True)\n",
        " .style\n",
        " .highlight_max(subset=\"acc\", color=\"green\")\n",
        " .highlight_min(subset=\"acc\", color=\"red\")\n",
        " .set_caption('Сравнительная таблица результатов POS-предсказаний трех моделей')\n",
        ")"
      ],
      "execution_count": null,
      "outputs": [
        {
          "output_type": "execute_result",
          "data": {
            "text/plain": [
              "<pandas.io.formats.style.Styler at 0x7f804f8fd350>"
            ],
            "text/html": [
              "<style type=\"text/css\">\n",
              "#T_82f86_row0_col1 {\n",
              "  background-color: green;\n",
              "}\n",
              "#T_82f86_row2_col1 {\n",
              "  background-color: red;\n",
              "}\n",
              "</style>\n",
              "<table id=\"T_82f86_\" class=\"dataframe\">\n",
              "  <caption>Сравнительная таблица результатов POS-предсказаний трех моделей</caption>\n",
              "  <thead>\n",
              "    <tr>\n",
              "      <th class=\"blank level0\" >&nbsp;</th>\n",
              "      <th class=\"col_heading level0 col0\" >model</th>\n",
              "      <th class=\"col_heading level0 col1\" >acc</th>\n",
              "    </tr>\n",
              "  </thead>\n",
              "  <tbody>\n",
              "    <tr>\n",
              "      <th id=\"T_82f86_level0_row0\" class=\"row_heading level0 row0\" >0</th>\n",
              "      <td id=\"T_82f86_row0_col0\" class=\"data row0 col0\" >HiddenMarkovModel_humor</td>\n",
              "      <td id=\"T_82f86_row0_col1\" class=\"data row0 col1\" >88.900000</td>\n",
              "    </tr>\n",
              "    <tr>\n",
              "      <th id=\"T_82f86_level0_row1\" class=\"row_heading level0 row1\" >1</th>\n",
              "      <td id=\"T_82f86_row1_col0\" class=\"data row1 col0\" >RNNMorphPredictorhumor</td>\n",
              "      <td id=\"T_82f86_row1_col1\" class=\"data row1 col1\" >50.000000</td>\n",
              "    </tr>\n",
              "    <tr>\n",
              "      <th id=\"T_82f86_level0_row2\" class=\"row_heading level0 row2\" >2</th>\n",
              "      <td id=\"T_82f86_row2_col0\" class=\"data row2 col0\" >DefaultTagger_humor</td>\n",
              "      <td id=\"T_82f86_row2_col1\" class=\"data row2 col1\" >19.600000</td>\n",
              "    </tr>\n",
              "  </tbody>\n",
              "</table>\n"
            ]
          },
          "metadata": {},
          "execution_count": 36
        }
      ]
    },
    {
      "cell_type": "markdown",
      "source": [
        "В `RNNMorphPredictor` более строго и независимо от регистра ставится тэг `pronoun`, тогда как ранее для местоимений - в нижнем регистре проставлялся тэг `Noun`"
      ],
      "metadata": {
        "id": "FPy-aR6Dsy8B"
      }
    },
    {
      "cell_type": "markdown",
      "source": [
        "Лучшие результаты получены на скрытой марковской модели. Худшие - на `DefaultTagger`"
      ],
      "metadata": {
        "id": "ZZlczxaKT9ml"
      }
    },
    {
      "cell_type": "markdown",
      "metadata": {
        "id": "5w1W5hSkcMcV"
      },
      "source": [
        "## BiLSTMTagger"
      ]
    },
    {
      "cell_type": "markdown",
      "metadata": {
        "id": "mm1-S3t2cMcW"
      },
      "source": [
        "### Подготовка данных"
      ]
    },
    {
      "cell_type": "markdown",
      "metadata": {
        "id": "GayTl7mUcMcX"
      },
      "source": [
        "Изменим структуру данных"
      ]
    },
    {
      "cell_type": "code",
      "metadata": {
        "id": "CnXcI64fxoj4",
        "scrolled": false,
        "colab": {
          "base_uri": "https://localhost:8080/"
        },
        "outputId": "3da9ceda-1475-4bb9-da4b-be32336da9c0"
      },
      "source": [
        "pos_data = [list(zip(*sent)) for sent in brown_tagged_sents]\n",
        "print(pos_data[0][:1])"
      ],
      "execution_count": null,
      "outputs": [
        {
          "output_type": "stream",
          "name": "stdout",
          "text": [
            "[('The', 'Fulton', 'County', 'Grand', 'Jury', 'said', 'Friday', 'an', 'investigation', 'of', \"Atlanta's\", 'recent', 'primary', 'election', 'produced', '``', 'no', 'evidence', \"''\", 'that', 'any', 'irregularities', 'took', 'place', '.')]\n"
          ]
        }
      ]
    },
    {
      "cell_type": "markdown",
      "metadata": {
        "id": "DpRE3c-3cMcc"
      },
      "source": [
        "До этого мы писали много кода сами, теперь пора эксплуатировать pytorch"
      ]
    },
    {
      "cell_type": "code",
      "metadata": {
        "id": "gvFlzrYnxokE"
      },
      "source": [
        "# наши поля\n",
        "WORD = data.Field(lower=True)\n",
        "TAG = data.Field(unk_token=None) # все токены нам известны\n",
        "\n",
        "# создаем примеры\n",
        "examples = []\n",
        "for words, tags in pos_data:\n",
        "    examples.append(torchtext.data.Example.fromlist([list(words), list(tags)], fields=[('words', WORD), ('tags', TAG)]))"
      ],
      "execution_count": null,
      "outputs": []
    },
    {
      "cell_type": "markdown",
      "metadata": {
        "id": "tjl6u6cpOc1u"
      },
      "source": [
        "Вот один наш пример:"
      ]
    },
    {
      "cell_type": "code",
      "metadata": {
        "id": "dnrzktytN9rL",
        "colab": {
          "base_uri": "https://localhost:8080/"
        },
        "outputId": "f00706ec-c329-4178-9058-d069c135df8e"
      },
      "source": [
        "print(vars(examples[0]))"
      ],
      "execution_count": null,
      "outputs": [
        {
          "output_type": "stream",
          "name": "stdout",
          "text": [
            "{'words': ['the', 'fulton', 'county', 'grand', 'jury', 'said', 'friday', 'an', 'investigation', 'of', \"atlanta's\", 'recent', 'primary', 'election', 'produced', '``', 'no', 'evidence', \"''\", 'that', 'any', 'irregularities', 'took', 'place', '.'], 'tags': ['DET', 'NOUN', 'NOUN', 'ADJ', 'NOUN', 'VERB', 'NOUN', 'DET', 'NOUN', 'ADP', 'NOUN', 'ADJ', 'NOUN', 'NOUN', 'VERB', '.', 'DET', 'NOUN', '.', 'ADP', 'DET', 'NOUN', 'VERB', 'NOUN', '.']}\n"
          ]
        }
      ]
    },
    {
      "cell_type": "markdown",
      "metadata": {
        "id": "nUhTrWCWcMcj"
      },
      "source": [
        "Теперь формируем наш датасет"
      ]
    },
    {
      "cell_type": "code",
      "metadata": {
        "id": "LGKkbZUIxokO",
        "scrolled": true,
        "colab": {
          "base_uri": "https://localhost:8080/"
        },
        "outputId": "cef83e1c-3b10-4eda-a998-51b83f990a12"
      },
      "source": [
        "# кладем примеры в наш датасет\n",
        "dataset = torchtext.data.Dataset(examples, fields=[('words', WORD), ('tags', TAG)])\n",
        "\n",
        "train_data, valid_data, test_data = dataset.split(split_ratio=[0.8, 0.1, 0.1])\n",
        "\n",
        "print(f\"Number of training examples: {len(train_data.examples)}\")\n",
        "print(f\"Number of validation examples: {len(valid_data.examples)}\")\n",
        "print(f\"Number of testing examples: {len(test_data.examples)}\")"
      ],
      "execution_count": null,
      "outputs": [
        {
          "output_type": "stream",
          "name": "stdout",
          "text": [
            "Number of training examples: 45872\n",
            "Number of validation examples: 5734\n",
            "Number of testing examples: 5734\n"
          ]
        }
      ]
    },
    {
      "cell_type": "markdown",
      "metadata": {
        "id": "T89unpppcMcp"
      },
      "source": [
        "Построим словари. Параметр `min_freq` выберете сами. При построении словаря испольузем только **train**"
      ]
    },
    {
      "cell_type": "code",
      "metadata": {
        "id": "tZwkwhlrxoka",
        "scrolled": true,
        "colab": {
          "base_uri": "https://localhost:8080/"
        },
        "outputId": "d65d900d-c8bf-4935-abae-36fe85ff1309"
      },
      "source": [
        "WORD.build_vocab(train_data, min_freq=2)\n",
        "TAG.build_vocab(train_data)\n",
        "\n",
        "print(f\"Unique tokens in source (ru) vocabulary: {len(WORD.vocab)}\")\n",
        "print(f\"Unique tokens in target (en) vocabulary: {len(TAG.vocab)}\")\n",
        "\n",
        "print(WORD.vocab.itos[::200])\n",
        "print(TAG.vocab.itos)"
      ],
      "execution_count": null,
      "outputs": [
        {
          "output_type": "stream",
          "name": "stdout",
          "text": [
            "Unique tokens in source (ru) vocabulary: 24763\n",
            "Unique tokens in target (en) vocabulary: 13\n",
            "['<unk>', 'away', 'office', 'range', 'immediately', \"i'd\", 'mary', 'economy', 'mercer', 'academic', 'loose', 'silent', 'bonds', 'determination', 'maris', 'stick', 'bus', 'cried', 'signals', 'extending', 'promotion', 'voted', 'backward', 'basically', 'uncertain', 'sheep', 'mistakes', 'dare', 'superintendent', 'hiding', '800', 'lecture', 'array', 'marty', 'aegean', 'hemisphere', 'scotland', 'commercially', 'instrumental', 'shed', 'bin', 'gigantic', 'pour', 'unnatural', 'climbing', 'fresco', 'occupying', 'spade', 'aaron', 'coins', 'fille', 'keel', 'postponed', 'spherical', '$2,000', 'blurred', 'criticality', 'forgiven', 'juicy', 'out-of-doors', 'roasted', 'technician', '29th', 'biscuits', 'consoles', 'dynasty', 'gasped', 'insignificant', 'milstein', 'perverse', 'resolutions', 'solvent', 'twelfth', '0.3', 'allusion', 'beguiling', 'cesium-137', 'courtiers', 'dorado', 'fearfully', 'grandson', 'imminent', 'kindergarten', 'matt', 'observable', 'plump', 'ref.', 'sedgwick', 'sprouted', 'throbbing', 'vaulting', '109-degrees-f', '8.6', 'anchors', 'barking', 'bobbing', 'calinda', 'cityscapes', 'consign', 'dalloway', 'disagreed', 'edifice', 'exposes', 'foreign-policy', 'gogh', 'helpfully', 'illusive', 'ironical', 'leak', 'magistrate', 'miscalculation', 'newsboy', \"out'n\", 'petrified', 'presupposes', 'rasa', 'rewriting', 'scudding', 'skylights', 'steinhager', 'talkative', 'torrid', 'unjust', 'websterville']\n",
            "['<pad>', 'NOUN', 'VERB', '.', 'ADP', 'DET', 'ADJ', 'ADV', 'PRON', 'CONJ', 'PRT', 'NUM', 'X']\n"
          ]
        }
      ]
    },
    {
      "cell_type": "code",
      "source": [
        "TAG.vocab.freqs.most_common()"
      ],
      "metadata": {
        "colab": {
          "base_uri": "https://localhost:8080/"
        },
        "id": "BDzNKSBhiyum",
        "outputId": "8928fd9b-3c46-4069-cf76-cfe043b1404e"
      },
      "execution_count": null,
      "outputs": [
        {
          "output_type": "execute_result",
          "data": {
            "text/plain": [
              "[('NOUN', 220576),\n",
              " ('VERB', 146179),\n",
              " ('.', 118244),\n",
              " ('ADP', 115550),\n",
              " ('DET', 109633),\n",
              " ('ADJ', 66972),\n",
              " ('ADV', 44983),\n",
              " ('PRON', 39360),\n",
              " ('CONJ', 30618),\n",
              " ('PRT', 23909),\n",
              " ('NUM', 11862),\n",
              " ('X', 1103)]"
            ]
          },
          "metadata": {},
          "execution_count": 88
        }
      ]
    },
    {
      "cell_type": "code",
      "metadata": {
        "id": "vjn07NP-xokl",
        "scrolled": true,
        "colab": {
          "base_uri": "https://localhost:8080/"
        },
        "outputId": "d3fb2034-9fa3-41f1-d284-3b9f44282b2e"
      },
      "source": [
        "print(vars(train_data.examples[9]))"
      ],
      "execution_count": null,
      "outputs": [
        {
          "output_type": "stream",
          "name": "stdout",
          "text": [
            "{'words': ['the', 'director', 'of', 'the', 'peace', 'corps', ',', 'r.', 'sargent', 'shriver', ',', 'jr.', ',', 'a', 'kennedy', 'brother-in-law', ',', 'collects', 'heavily', 'among', 'the', 'moderns', ',', 'including', 'kenzo', 'okada', 'and', 'josef', 'albers', '.'], 'tags': ['DET', 'NOUN', 'ADP', 'DET', 'NOUN', 'NOUN', '.', 'NOUN', 'NOUN', 'NOUN', '.', 'NOUN', '.', 'DET', 'NOUN', 'NOUN', '.', 'VERB', 'ADV', 'ADP', 'DET', 'NOUN', '.', 'ADP', 'NOUN', 'NOUN', 'CONJ', 'NOUN', 'NOUN', '.']}\n"
          ]
        }
      ]
    },
    {
      "cell_type": "markdown",
      "metadata": {
        "id": "LxgkU4cZcMcz"
      },
      "source": [
        "Посмотрим с насколько большими предложениями мы имеем дело"
      ]
    },
    {
      "cell_type": "code",
      "metadata": {
        "id": "dVpMi1_0xoku",
        "scrolled": true,
        "colab": {
          "base_uri": "https://localhost:8080/",
          "height": 281
        },
        "outputId": "ef6143c4-7591-4f68-b72a-13ebffa6d049"
      },
      "source": [
        "length = map(len, [vars(x)['words'] for x in train_data.examples])\n",
        "\n",
        "plt.figure(figsize=[8, 4])\n",
        "plt.title(\"Length distribution in Train data\")\n",
        "plt.hist(list(length), bins=20, ec='black');"
      ],
      "execution_count": null,
      "outputs": [
        {
          "output_type": "display_data",
          "data": {
            "text/plain": [
              "<Figure size 576x288 with 1 Axes>"
            ],
            "image/png": "[encoded data removed]"
          },
          "metadata": {}
        }
      ]
    },
    {
      "cell_type": "markdown",
      "metadata": {
        "id": "yi28N2RBcMc5"
      },
      "source": [
        "Для обучения `BiLSTM` лучше использовать colab"
      ]
    },
    {
      "cell_type": "code",
      "metadata": {
        "id": "LAGSrqWsxok2",
        "scrolled": true,
        "colab": {
          "base_uri": "https://localhost:8080/"
        },
        "outputId": "9fcaefe5-49ae-4b74-8128-9b7a06a585b8"
      },
      "source": [
        "device = torch.device('cuda' if torch.cuda.is_available() else 'cpu')\n",
        "device"
      ],
      "execution_count": null,
      "outputs": [
        {
          "output_type": "execute_result",
          "data": {
            "text/plain": [
              "device(type='cpu')"
            ]
          },
          "metadata": {},
          "execution_count": 91
        }
      ]
    },
    {
      "cell_type": "markdown",
      "metadata": {
        "id": "2DSWm0UjcMc-"
      },
      "source": [
        "Для более быстрого и устойчивого обучения сгруппируем наши данные по батчам"
      ]
    },
    {
      "cell_type": "code",
      "metadata": {
        "id": "dmwAyhNgxok_"
      },
      "source": [
        "# бьем нашу выборку на батч, не забывая сначала отсортировать выборку по длине\n",
        "def _len_sort_key(x):\n",
        "    return len(x.words)\n",
        "\n",
        "BATCH_SIZE = 32\n",
        "\n",
        "train_iterator, valid_iterator, test_iterator = data.BucketIterator.splits(\n",
        "    (train_data, valid_data, test_data), \n",
        "    batch_size = BATCH_SIZE, \n",
        "    device = device,\n",
        "    sort_key=_len_sort_key\n",
        ")"
      ],
      "execution_count": null,
      "outputs": []
    },
    {
      "cell_type": "code",
      "metadata": {
        "id": "6aTjW00nxolI",
        "colab": {
          "base_uri": "https://localhost:8080/"
        },
        "outputId": "846c5be6-cd60-4d72-ad10-3e8898606f34"
      },
      "source": [
        "# посморим  на количество батчей\n",
        "list(map(len, [train_iterator, valid_iterator, test_iterator]))"
      ],
      "execution_count": null,
      "outputs": [
        {
          "output_type": "execute_result",
          "data": {
            "text/plain": [
              "[1434, 180, 180]"
            ]
          },
          "metadata": {},
          "execution_count": 93
        }
      ]
    },
    {
      "cell_type": "markdown",
      "metadata": {
        "id": "zyLQsizhcMdI"
      },
      "source": [
        "### Модель и её обучение"
      ]
    },
    {
      "cell_type": "markdown",
      "metadata": {
        "id": "-i9oHzcrcMdJ"
      },
      "source": [
        "Инициализируем нашу модель"
      ]
    },
    {
      "cell_type": "code",
      "metadata": {
        "id": "Ff7BLWs_xolS",
        "scrolled": true,
        "colab": {
          "base_uri": "https://localhost:8080/"
        },
        "outputId": "bac679f1-1b6f-42ef-ec03-a45fedd1f0a6"
      },
      "source": [
        "class LSTMTagger(nn.Module):\n",
        "\n",
        "    def __init__(self, \n",
        "                 input_dim, \n",
        "                 emb_dim, \n",
        "                 hid_dim, \n",
        "                 output_dim,\n",
        "                 dropout, \n",
        "                 pad_idx,\n",
        "                 bidirectional=False):\n",
        "        super().__init__()\n",
        "        \n",
        "  \n",
        "        self.embeddings = nn.Embedding(input_dim, \n",
        "                                       emb_dim,\n",
        "                                       pad_idx)\n",
        "        self.dropout = nn.Dropout(dropout)\n",
        "        \n",
        "        self.rnn = nn.LSTM(emb_dim,\n",
        "                           hid_dim, \n",
        "                           num_layers=2,\n",
        "                           bidirectional=bidirectional)\n",
        "        # если bidirectional, то предсказываем на основе конкатенации двух hidden\n",
        "        \n",
        "        self.tag = nn.Linear((1 + bidirectional) * hid_dim, output_dim)\n",
        "        \n",
        "    def forward(self, sent):\n",
        "        \n",
        "        #sent = [sent len, batch size] \n",
        "        \n",
        "        # не забываем применить dropout к embedding\n",
        "        embedded = self.dropout(self.embeddings(sent))\n",
        "        #output = [sent len, batch size, hid dim * n directions]\n",
        "\n",
        "        output, _ = self.rnn(embedded)\n",
        "        prediction = self.tag(self.dropout(output))\n",
        "        return prediction\n",
        "        \n",
        "# параметры модели\n",
        "INPUT_DIM = len(WORD.vocab)\n",
        "OUTPUT_DIM = len(TAG.vocab)\n",
        "EMB_DIM = 64\n",
        "HID_DIM = 64\n",
        "DROPOUT = .1\n",
        "BIDIRECTIONAL = True\n",
        "PAD_IDX = TAG.vocab.stoi[TAG.pad_token]\n",
        "\n",
        "model = LSTMTagger(input_dim=INPUT_DIM, \n",
        "                   emb_dim=EMB_DIM, \n",
        "                   hid_dim=HID_DIM,\n",
        "                   output_dim=OUTPUT_DIM,\n",
        "                   dropout=DROPOUT,\n",
        "                   pad_idx=PAD_IDX,\n",
        "                   bidirectional=BIDIRECTIONAL).to(device)\n",
        "\n",
        "# инициализируем веса\n",
        "def init_weights(m):\n",
        "    for name, param in m.named_parameters():\n",
        "        nn.init.uniform_(param, -0.08, 0.08)\n",
        "        \n",
        "model.apply(init_weights)"
      ],
      "execution_count": null,
      "outputs": [
        {
          "output_type": "execute_result",
          "data": {
            "text/plain": [
              "LSTMTagger(\n",
              "  (embeddings): Embedding(24763, 64, padding_idx=0)\n",
              "  (dropout): Dropout(p=0.1, inplace=False)\n",
              "  (rnn): LSTM(64, 64, num_layers=2, bidirectional=True)\n",
              "  (tag): Linear(in_features=128, out_features=13, bias=True)\n",
              ")"
            ]
          },
          "metadata": {},
          "execution_count": 94
        }
      ]
    },
    {
      "cell_type": "markdown",
      "metadata": {
        "id": "EJLqq8IHcMdQ"
      },
      "source": [
        "Подсчитаем количество обучаемых параметров нашей модели"
      ]
    },
    {
      "cell_type": "code",
      "metadata": {
        "id": "_Auu53Kdxolm",
        "colab": {
          "base_uri": "https://localhost:8080/"
        },
        "outputId": "dffeada0-2832-4b5a-d773-13c24c087ec9"
      },
      "source": [
        "def count_parameters(model):\n",
        "    return sum(p.numel() for p in model.parameters() if p.requires_grad)\n",
        "\n",
        "print(f'The model has {count_parameters(model):,} trainable parameters')"
      ],
      "execution_count": null,
      "outputs": [
        {
          "output_type": "stream",
          "name": "stdout",
          "text": [
            "The model has 1,752,397 trainable parameters\n"
          ]
        }
      ]
    },
    {
      "cell_type": "markdown",
      "metadata": {
        "id": "oSBfvf9HcMd9"
      },
      "source": [
        "Время обучать"
      ]
    },
    {
      "cell_type": "code",
      "metadata": {
        "id": "AjD1Y7Rmxolu",
        "scrolled": true
      },
      "source": [
        "optimizer = optim.Adam(model.parameters())\n",
        "criterion = nn.CrossEntropyLoss(ignore_index = PAD_IDX)\n",
        "\n",
        "def train(model, iterator, optimizer, criterion, clip, train_history=None, valid_history=None):\n",
        "    model.train()\n",
        "    epoch_loss = 0\n",
        "    history = []\n",
        "    for i, batch in enumerate(iterator):\n",
        "        optimizer.zero_grad()\n",
        "        tags = batch.tags\n",
        "        features = batch.words\n",
        "        #tags = [sent len, batch size]\n",
        "        #output = [sent len, batch size, output dim]\n",
        "        output = model(features)\n",
        "\n",
        "        #tags = [sent len * batch size]\n",
        "        #output = [sent len * batch size, output dim]\n",
        "\n",
        "        output = output.view(-1, output.shape[-1])\n",
        "        tags = tags.view(-1)\n",
        "        loss = criterion(output, tags)\n",
        "        loss.backward()\n",
        "\n",
        "        torch.nn.utils.clip_grad_norm_(model.parameters(), max_norm=clip)\n",
        "\n",
        "        optimizer.step()\n",
        "        epoch_loss += loss.item()\n",
        "        \n",
        "        history.append(loss.cpu().data.numpy())\n",
        "        if (i+1)%10==0:\n",
        "            fig, ax = plt.subplots(nrows=1, ncols=2, figsize=(12, 8))\n",
        "\n",
        "            clear_output(True)\n",
        "            ax[0].plot(history, label='train loss')\n",
        "            ax[0].set_xlabel('Batch')\n",
        "            ax[0].set_title('Train loss')\n",
        "            \n",
        "            if train_history is not None:\n",
        "                ax[1].plot(train_history, label='general train history')\n",
        "                ax[1].set_xlabel('Epoch')\n",
        "            if valid_history is not None:\n",
        "                ax[1].plot(valid_history, label='general valid history')\n",
        "            plt.legend()\n",
        "            \n",
        "            plt.show()\n",
        "    return epoch_loss / len(iterator)\n",
        "\n",
        "def evaluate(model, iterator, criterion):\n",
        "    model.eval()\n",
        "    epoch_loss = 0\n",
        "    history = []\n",
        "    \n",
        "    with torch.no_grad():\n",
        "        for i, batch in enumerate(iterator):\n",
        "\n",
        "            tags = batch.tags\n",
        "            features = batch.words\n",
        "            #tags = [sent len, batch size]\n",
        "            #output = [sent len, batch size, output dim]\n",
        "            output = model(features)\n",
        "\n",
        "            #tags = [sent len * batch size]\n",
        "            #output = [sent len * batch size, output dim]\n",
        "            \n",
        "            output = output.view(-1, output.shape[-1])\n",
        "            tags = tags.view(-1)\n",
        "            loss = criterion(output, tags)\n",
        "            epoch_loss += loss.item()\n",
        "        \n",
        "    return epoch_loss / len(iterator)\n",
        "\n",
        "def epoch_time(start_time, end_time):\n",
        "    elapsed_time = end_time - start_time\n",
        "    elapsed_mins = int(elapsed_time / 60)\n",
        "    elapsed_secs = int(elapsed_time - (elapsed_mins * 60))\n",
        "    return elapsed_mins, elapsed_secs"
      ],
      "execution_count": null,
      "outputs": []
    },
    {
      "cell_type": "code",
      "metadata": {
        "id": "TJdXIyTHxol2",
        "scrolled": false,
        "colab": {
          "base_uri": "https://localhost:8080/",
          "height": 565
        },
        "outputId": "34557b82-0fa3-4a66-aac0-45293ba1a463"
      },
      "source": [
        "train_history = []\n",
        "valid_history = []\n",
        "\n",
        "N_EPOCHS = 10\n",
        "CLIP = 1\n",
        "\n",
        "best_valid_loss = float('inf')\n",
        "\n",
        "for epoch in range(N_EPOCHS):\n",
        "\n",
        "    start_time = time.time()\n",
        "    \n",
        "    train_loss = train(model, train_iterator, optimizer, criterion, CLIP, train_history, valid_history)\n",
        "    valid_loss = evaluate(model, valid_iterator, criterion)\n",
        "    \n",
        "    end_time = time.time()\n",
        "\n",
        "    epoch_mins, epoch_secs = epoch_time(start_time, end_time)\n",
        "    \n",
        "    if valid_loss < best_valid_loss:\n",
        "        best_valid_loss = valid_loss\n",
        "        torch.save(model.state_dict(), 'best-val-model.pt')\n",
        "\n",
        "    train_history.append(train_loss)\n",
        "    valid_history.append(valid_loss)\n",
        "    print(f'Epoch: {epoch+1:02} | Time: {epoch_mins}m {epoch_secs}s')\n",
        "    print(f'\\tTrain Loss: {train_loss:.3f} | Train PPL: {math.exp(train_loss):7.3f}')\n",
        "    print(f'\\t Val. Loss: {valid_loss:.3f} |  Val. PPL: {math.exp(valid_loss):7.3f}')"
      ],
      "execution_count": null,
      "outputs": [
        {
          "output_type": "display_data",
          "data": {
            "text/plain": [
              "<Figure size 864x576 with 2 Axes>"
            ],
            "image/png": "[encoded data removed]"
          },
          "metadata": {}
        },
        {
          "output_type": "stream",
          "name": "stdout",
          "text": [
            "Epoch: 10 | Time: 4m 3s\n",
            "\tTrain Loss: 0.030 | Train PPL:   1.031\n",
            "\t Val. Loss: 0.098 |  Val. PPL:   1.103\n"
          ]
        }
      ]
    },
    {
      "cell_type": "markdown",
      "metadata": {
        "id": "Fr860UPacMeI"
      },
      "source": [
        "### Применение модели"
      ]
    },
    {
      "cell_type": "code",
      "metadata": {
        "id": "5sDAfAq9xol9"
      },
      "source": [
        "def accuracy_model(model, iterator, subset='humor'):\n",
        "    model.eval()\n",
        "    \n",
        "    true_pred = 0\n",
        "    num_pred = 0\n",
        "    \n",
        "    with torch.no_grad():\n",
        "        for i, batch in enumerate(iterator):\n",
        "\n",
        "            tags = batch.tags\n",
        "            features = batch.words\n",
        "\n",
        "            output = model(features)\n",
        "            \n",
        "            output = output.view(-1, output.shape[-1])\n",
        "            output = torch.argmax(output, 1).long()\n",
        "            predict_tags = output.cpu().numpy()\n",
        "            true_tags = tags.view(-1).cpu().numpy()\n",
        "            \n",
        "            true_pred += np.sum((true_tags == predict_tags) & (true_tags != PAD_IDX))\n",
        "            num_pred += np.prod(true_tags.shape) - (true_tags == PAD_IDX).sum()\n",
        "    acc = round(true_pred / num_pred * 100, 3)\n",
        "    print(\"Accuracy:\", acc , '%')\n",
        "    return pd.Series({\"model\": model.__class__.__name__+subset, \"acc\": acc}) "
      ],
      "execution_count": null,
      "outputs": []
    },
    {
      "cell_type": "code",
      "metadata": {
        "id": "V2n0H85mxomE",
        "scrolled": true,
        "colab": {
          "base_uri": "https://localhost:8080/"
        },
        "outputId": "7dd92ed2-4046-4620-af66-2f08317ac8fa"
      },
      "source": [
        "res_008 = accuracy_model(model, test_iterator, subset=\"_whole\")"
      ],
      "execution_count": null,
      "outputs": [
        {
          "output_type": "stream",
          "name": "stdout",
          "text": [
            "Accuracy: 97.372 %\n"
          ]
        }
      ]
    },
    {
      "cell_type": "markdown",
      "metadata": {
        "id": "FacTKSPJcMeP"
      },
      "source": [
        "Вы можете улучшить качество, изменяя параметры модели. Но чтобы добиться нужного качества, вам неообходимо взять все выборку, а не только категорию `humor`."
      ]
    },
    {
      "cell_type": "code",
      "metadata": {
        "id": "QXqXg0gbcMeR"
      },
      "source": [
        "brown_tagged_sents = brown.tagged_sents(tagset=\"universal\")"
      ],
      "execution_count": null,
      "outputs": []
    },
    {
      "cell_type": "markdown",
      "metadata": {
        "id": "gnpi2R6rcMeU"
      },
      "source": [
        "Нам неоходимо добиться качества не меньше, чем `accuracy = 93 %`. Попробуем взять весь сет"
      ]
    },
    {
      "cell_type": "code",
      "metadata": {
        "id": "TqD1lZuwxomK",
        "scrolled": true,
        "colab": {
          "base_uri": "https://localhost:8080/"
        },
        "outputId": "6c0ccbdf-af1a-4444-a2ae-18ee2fda9673"
      },
      "source": [
        "best_model = LSTMTagger(input_dim=INPUT_DIM, \n",
        "                   emb_dim=EMB_DIM, \n",
        "                   hid_dim=HID_DIM,\n",
        "                   output_dim=OUTPUT_DIM,\n",
        "                   dropout=DROPOUT,\n",
        "                   pad_idx=PAD_IDX,\n",
        "                   bidirectional=BIDIRECTIONAL).to(device)\n",
        "best_model.load_state_dict(torch.load('best-val-model.pt'))\n",
        "res = accuracy_model(model, test_iterator)[\"acc\"].item()\n",
        "assert res >= 93"
      ],
      "execution_count": null,
      "outputs": [
        {
          "output_type": "stream",
          "name": "stdout",
          "text": [
            "Accuracy: 97.372 %\n"
          ]
        }
      ]
    },
    {
      "cell_type": "markdown",
      "metadata": {
        "id": "nVfdJM-lcMeZ"
      },
      "source": [
        "Пример решение нашей задачи:"
      ]
    },
    {
      "cell_type": "code",
      "metadata": {
        "id": "W3GUbwldxomW"
      },
      "source": [
        "def print_tags(model, data):\n",
        "    model.eval()\n",
        "    \n",
        "    with torch.no_grad():\n",
        "        words, _ = data\n",
        "        example = torch.LongTensor([WORD.vocab.stoi[elem] for elem in words]).unsqueeze(1).to(device)\n",
        "        \n",
        "        output = model(example).argmax(dim=-1).cpu().numpy()\n",
        "        tags = [TAG.vocab.itos[int(elem)] for elem in output]\n",
        "\n",
        "        for token, tag in zip(words, tags):\n",
        "            print(f'{token:15s}{tag}')"
      ],
      "execution_count": null,
      "outputs": []
    },
    {
      "cell_type": "code",
      "metadata": {
        "scrolled": false,
        "id": "4mQoHc_EcMed",
        "colab": {
          "base_uri": "https://localhost:8080/"
        },
        "outputId": "bd0ed7c6-626d-4df1-bed4-072a8c098ad3"
      },
      "source": [
        "print_tags(model, pos_data[-1])"
      ],
      "execution_count": null,
      "outputs": [
        {
          "output_type": "stream",
          "name": "stdout",
          "text": [
            "From           VERB\n",
            "what           DET\n",
            "I              NOUN\n",
            "was            VERB\n",
            "able           ADJ\n",
            "to             ADP\n",
            "gauge          NOUN\n",
            "in             ADP\n",
            "a              DET\n",
            "swift          ADJ\n",
            ",              .\n",
            "greedy         ADJ\n",
            "glance         NOUN\n",
            ",              .\n",
            "the            DET\n",
            "figure         NOUN\n",
            "inside         ADP\n",
            "the            DET\n",
            "coral-colored  ADJ\n",
            "boucle         NOUN\n",
            "dress          NOUN\n",
            "was            VERB\n",
            "stupefying     VERB\n",
            ".              .\n"
          ]
        }
      ]
    },
    {
      "cell_type": "markdown",
      "source": [
        "Достаточно неплохое качество `POS`-предсказний. Посмотрим в сравнении с вероятностной моделью"
      ],
      "metadata": {
        "id": "NKahToKuEp5e"
      }
    },
    {
      "cell_type": "markdown",
      "source": [
        "<div style=\"float:left;margin:0 10px 10px 0\" markdown=\"1\">\n",
        "    <a href=\"#footer\"><img src='https://img.shields.io/badge/К содержанию-&#x21A9-blue'></a>\n",
        "</div>\n",
        "\n",
        "___\n"
      ],
      "metadata": {
        "id": "C28eHIxu0DJS"
      }
    },
    {
      "cell_type": "markdown",
      "metadata": {
        "heading_collapsed": true,
        "id": "zMIJDOBmwC6v"
      },
      "source": [
        "## Сравнение результатов моделей:\n",
        "* при обучение на маленькой части корпуса - `humor`\n",
        "* при обучении на всем корпусе"
      ]
    },
    {
      "cell_type": "code",
      "metadata": {
        "id": "uDdsG2AjO-sp",
        "colab": {
          "base_uri": "https://localhost:8080/",
          "height": 210
        },
        "outputId": "e169a7c7-da8d-4f21-9467-8ce2e3d8837c"
      },
      "source": [
        "(pd.DataFrame([rep_001, res_004,\n",
        "               rep_005, res_008])\n",
        " .sort_values(by=\"acc\", ascending=False)\n",
        " .reset_index(drop=True)\n",
        " .style\n",
        " .highlight_max(subset=\"acc\", color=\"green\")\n",
        " .highlight_min(subset=\"acc\", color=\"red\")\n",
        " .set_caption('Сравнительная таблица результатов POS-предсказаний моделей')\n",
        ")"
      ],
      "execution_count": null,
      "outputs": [
        {
          "output_type": "execute_result",
          "data": {
            "text/plain": [
              "<pandas.io.formats.style.Styler at 0x7f8032fe8710>"
            ],
            "text/html": [
              "<style type=\"text/css\">\n",
              "#T_bc18f_row0_col1 {\n",
              "  background-color: green;\n",
              "}\n",
              "#T_bc18f_row3_col1 {\n",
              "  background-color: red;\n",
              "}\n",
              "</style>\n",
              "<table id=\"T_bc18f_\" class=\"dataframe\">\n",
              "  <caption>Сравнительная таблица результатов POS-предсказаний моделей</caption>\n",
              "  <thead>\n",
              "    <tr>\n",
              "      <th class=\"blank level0\" >&nbsp;</th>\n",
              "      <th class=\"col_heading level0 col0\" >model</th>\n",
              "      <th class=\"col_heading level0 col1\" >acc</th>\n",
              "    </tr>\n",
              "  </thead>\n",
              "  <tbody>\n",
              "    <tr>\n",
              "      <th id=\"T_bc18f_level0_row0\" class=\"row_heading level0 row0\" >0</th>\n",
              "      <td id=\"T_bc18f_row0_col0\" class=\"data row0 col0\" >LSTMTagger_whole</td>\n",
              "      <td id=\"T_bc18f_row0_col1\" class=\"data row0 col1\" >97.372000</td>\n",
              "    </tr>\n",
              "    <tr>\n",
              "      <th id=\"T_bc18f_level0_row1\" class=\"row_heading level0 row1\" >1</th>\n",
              "      <td id=\"T_bc18f_row1_col0\" class=\"data row1 col0\" >HiddenMarkovModel_whole</td>\n",
              "      <td id=\"T_bc18f_row1_col1\" class=\"data row1 col1\" >96.200000</td>\n",
              "    </tr>\n",
              "    <tr>\n",
              "      <th id=\"T_bc18f_level0_row2\" class=\"row_heading level0 row2\" >2</th>\n",
              "      <td id=\"T_bc18f_row2_col0\" class=\"data row2 col0\" >HiddenMarkovModel_humor</td>\n",
              "      <td id=\"T_bc18f_row2_col1\" class=\"data row2 col1\" >88.900000</td>\n",
              "    </tr>\n",
              "    <tr>\n",
              "      <th id=\"T_bc18f_level0_row3\" class=\"row_heading level0 row3\" >3</th>\n",
              "      <td id=\"T_bc18f_row3_col0\" class=\"data row3 col0\" >LSTMTaggerhumor</td>\n",
              "      <td id=\"T_bc18f_row3_col1\" class=\"data row3 col1\" >85.908000</td>\n",
              "    </tr>\n",
              "  </tbody>\n",
              "</table>\n"
            ]
          },
          "metadata": {},
          "execution_count": 104
        }
      ]
    },
    {
      "cell_type": "markdown",
      "source": [
        "На всем сете - лучше всего работаем модель на базе `LSTM`, при этом у нее быстрее скорость работы, относительно `HiddenMarkovModel`, но при этом она проигрывает, если обучаться на `subset` - `humor`. Таким образом, обучение модели на всем доступном датасете позволило увеличить точность предсказаний до `97%`, но вероятностный подход не сильно уступает работе модели на базе `NN`"
      ],
      "metadata": {
        "id": "frw5Qm_6EPSg"
      }
    },
    {
      "cell_type": "markdown",
      "source": [
        "<div style=\"float:left;margin:0 10px 10px 0\" markdown=\"1\">\n",
        "    <a href=\"#footer\"><img src='https://img.shields.io/badge/К содержанию-&#x21A9-blue'></a>\n",
        "</div>\n",
        "\n",
        "___\n"
      ],
      "metadata": {
        "id": "3AgjOnVq0Bmm"
      }
    }
  ]
}