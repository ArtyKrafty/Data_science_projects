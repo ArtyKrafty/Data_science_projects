{
  "nbformat": 4,
  "nbformat_minor": 0,
  "metadata": {
    "colab": {
      "name": "w/o_data_EVRAZ_sandbox.ipynb\"",
      "provenance": [],
      "collapsed_sections": [
        "yRNhZBcJdoBU",
        "uJLXD-j7c5Pa",
        "zq814JvhtkQE",
        "4tMiGE0oIKjq",
        "QbCWT36DnlwM",
        "_BNWj8h3nqx2"
      ],
      "toc_visible": true
    },
    "kernelspec": {
      "name": "python3",
      "display_name": "Python 3"
    },
    "language_info": {
      "name": "python"
    }
  },
  "cells": [
    {
      "cell_type": "markdown",
      "metadata": {
        "id": "r-DjxvEpbCMd"
      },
      "source": [
        "<footer id=\"footer\"></footer>"
      ]
    },
    {
      "cell_type": "markdown",
      "metadata": {
        "id": "H72Ml8RxbFoh"
      },
      "source": [
        "<p style=\"align: center;\"><img align=center src=\"https://i.ibb.co/6bWrQPS/213.jpg\"/></p>\n",
        "\n",
        "<h2 style=\"text-align: center;\"><b>EVRAZ AI challenge</b></h2>\n",
        "\n",
        "<h4 style=\"text-align: center;\"><b>Команда: EVRAZ Promising</b></h4>\n",
        "\n",
        "**Состав команды:**  \n",
        "\n",
        "- Сергей Земсков (капитан)\n",
        "- Милана Шишко\n",
        "- Артём Соломко\n",
        "- Александр Миндеров\n",
        "\n",
        "\n",
        "---\n",
        "    \n",
        " <font size=\"1\"> Примечание: ИЗМЕНИТЕ РАБОТУ МЕЖДУНАРОДНОЙ\n",
        "ГОРНО-МЕТАЛЛУРГИЧЕСКОЙ КОМПАНИИ С ПОМОЩЬЮ DATA SCIENCE </font>\n",
        "\n",
        "\n",
        "\n",
        "\n",
        "\n",
        "\n",
        "\n",
        "\n",
        "\n",
        "\n"
      ]
    },
    {
      "cell_type": "markdown",
      "metadata": {
        "id": "OqO5K2LzdFFs"
      },
      "source": [
        "Конекст:  \n",
        "\n",
        "При производстве стали чугун \"продувается\" кислородом для удаления примесей. Этот процесс идёт в среднем 15-25 минут при температуре около 1600 градусов. За процессом следит машинист дистрибутора, который на основе своего опыта и специальных знаний определяет момент, когда процесс продувки нужно остановить. В процессе продувки металл насыщается кислородом, а его температура увеличивается. Если \"передуть\" чугун – сгорит больше металла и на выходе будет меньше стали, что приведет к потере прибыли, если \"недодуть\", то марка стали не будет удовлетворять заданным критериям и нужно будет \"додувать\", что замедляет производительность цеха.\n",
        "\n",
        "Вам предстоит разработать алгоритм прогнозирования параметров чугуна – что может стать отличным помощником для машиниста и существенно улучшить производство ЕВРАЗа"
      ]
    },
    {
      "cell_type": "markdown",
      "metadata": {
        "id": "e9KjKKrmdJIn"
      },
      "source": [
        "- **produv** – Таблица содержит основные параметры продувки - мгновенный расход кислорода и положение (наклон) фурмы\n",
        "- **lom** – Вместе с чугуном в фурму засыпают лом - это часть технологического процесса. Таблица содержит вес и тип ломов, использованных в каждой плавке\n",
        "- **plavki** – Основная информация по плавке - характеристики плавки (марка металла, направление разливки) и оборудования\n",
        "- **sip** – Сыпучие добавки, используемые в технологическом процессе\n",
        "- **chronom** – хронометраж - время начала и конца различных операций во время плавки\n",
        "- **chugun** – Химический состав и характеристики чугуна\n",
        "- **gas** – Информация об анализе отходящих газов\n",
        "- **target** – целевые значения"
      ]
    },
    {
      "cell_type": "markdown",
      "metadata": {
        "id": "ee6XXb6vfRPA"
      },
      "source": [
        "```\n",
        "def metric(answers, user_csv):\n",
        "\n",
        "    delta_c = np.abs(np.array(answers['C']) - np.array(user_csv['C']))\n",
        "    hit_rate_c = np.int64(delta_c < 0.02)\n",
        "\n",
        "    delta_t = np.abs(np.array(answers['TST']) - np.array(user_csv['TST']))\n",
        "    hit_rate_t = np.int64(delta_t < 20)\n",
        "\n",
        "    N = np.size(answers['C'])\n",
        "\n",
        "    return np.sum(hit_rate_c + hit_rate_t) / 2 / N\n",
        "    \n",
        "```"
      ]
    },
    {
      "cell_type": "markdown",
      "metadata": {
        "id": "yRNhZBcJdoBU"
      },
      "source": [
        "## Атрибутный состав данных"
      ]
    },
    {
      "cell_type": "markdown",
      "metadata": {
        "id": "um2hb52SdRr9"
      },
      "source": [
        "1. `produv`: содержит основные параметры продувки - мгновенный расход кислорода и   положение (наклон) фурмы\n",
        "\n",
        "```\n",
        "NPLV\tномер плавки\n",
        "SEC\tвремя измерения\n",
        "RAS\tрасход кислорода на продувку\n",
        "POL\tположение фурмы для продувки\n",
        "\n",
        "```"
      ]
    },
    {
      "cell_type": "markdown",
      "metadata": {
        "id": "ilzStBztdX41"
      },
      "source": [
        "2. `lom`:  лом - это часть технологического процесса. Таблица содержит вес и тип ломов, использованных в каждой плавке\n",
        "\n",
        "```\n",
        "NPLV\tномер плавки\n",
        "VDL\tкод лома\n",
        "NML\tнаименование лома\n",
        "VES\tвес лома\n",
        "\n",
        "```"
      ]
    },
    {
      "cell_type": "markdown",
      "metadata": {
        "id": "r2Bx9Gwidh8F"
      },
      "source": [
        "3. `plavki`: Основная информация по плавке -   характеристики плавки (марка металла, направление разливки) и обородувания\n",
        "\n",
        "```\n",
        "NPLV\tномер плавки\n",
        "plavka_VR_NACH\tвремя начала плавки\n",
        "plavka_VR_KON\tвремя окончания плавки\n",
        "plavka_NMZ\tмарка заданная \n",
        "plavka_NAPR_ZAD\tнаправление разливки\n",
        "plavka_STFUT\tстойкость футеровки конвертера\n",
        "plavka_TIPE_FUR\tтип фурмы\n",
        "plavka_ST_FURM\tстойкость фурмы\n",
        "plavka_TIPE_GOL\tтип головки фурмы\n",
        "plavka_ST_GOL\tстойкость головки фурмы\n",
        "```"
      ]
    },
    {
      "cell_type": "markdown",
      "metadata": {
        "id": "H3RbMC_9dtsm"
      },
      "source": [
        "4. `sip`: Сыпучие добавки, используемые в технологическом процессе\n",
        "\n",
        "```\n",
        "NPLV\tномер плавки\n",
        "VDSYP\tвид сыпучих\n",
        "NMSYP\tнаименование сыпучих\n",
        "VSSYP\tвес сыпучих\n",
        "DAT_OTD\tдата и время отдачи\n",
        "```"
      ]
    },
    {
      "cell_type": "markdown",
      "metadata": {
        "id": "dlz6_eUZeARL"
      },
      "source": [
        "5. `chronom`: хронометраж - время начала и конца различных операций во время плавки\n",
        "\n",
        "```\n",
        "NPLV\tномер плавки\n",
        "TYPE_OPER\tтип операции\n",
        "NOP\tнаименование операции\n",
        "VR_NACH\tвремя начала операции\n",
        "VR_KON\tвремя окончания операции\n",
        "O2\tколичество кислорода, израсходованное на операцию\n",
        "```"
      ]
    },
    {
      "cell_type": "markdown",
      "metadata": {
        "id": "qe3xcdKleHqI"
      },
      "source": [
        "6. `chugun`: Химический состав и характеристики чугуна\n",
        "\n",
        "```\n",
        "NPLV\tномер плавки\n",
        "VES\tвес чугуна\n",
        "T\tтемпература чугуна\n",
        "SI\tSI вчугуне\n",
        "MN\tMN в чугуне\n",
        "S\tS в чугуне\n",
        "P\tP в чугуне\n",
        "CR\tCR в чугуне\n",
        "NI\tNI в чугуне\n",
        "CU\tCU в чугуне\n",
        "DATA_ZAMERA\tдата и время замера хим. состава чугуна\n",
        "TI\tTI в чугуне\n",
        "V\tV в чугуне\n",
        "```"
      ]
    },
    {
      "cell_type": "markdown",
      "metadata": {
        "id": "WcMSUEtLeQ7u"
      },
      "source": [
        "7. `gas`: Информация об анализе отходящих\n",
        "  газов\n",
        "\n",
        "```\n",
        "O2_pressure\tДавление кислорода\n",
        "T фурмы 2\tТемпература 2-ой фурмы\n",
        "T фурмы 1\tТемпература 1-ой фурмы\n",
        "AR\tдоля AR в отх. газах \n",
        "CO\tдоля CO в отх. газах \n",
        "CO2\tдоля CO2 в отх. газах \n",
        "H2\tдоля H2 в отх. газах \n",
        "N2\tдоля N2 в отх. газах \n",
        "O2\tдоля O2 в отх. газах \n",
        "T\tтемпература отходящих газов\n",
        "V\tобъем выходящих газов\n",
        "NPLV\tномер плавки\n",
        "Time\tдата и время замера хим. состава отходящих газов\n",
        "```"
      ]
    },
    {
      "cell_type": "markdown",
      "metadata": {
        "id": "bWKCuKVibxt8"
      },
      "source": [
        "<a href=\"#footer\">К содержанию</a>\n",
        "<footer id=\"footer\"></footer>\n",
        "\n",
        "___"
      ]
    },
    {
      "cell_type": "markdown",
      "metadata": {
        "id": "uJLXD-j7c5Pa"
      },
      "source": [
        "## Импорт библиотек и данных"
      ]
    },
    {
      "cell_type": "code",
      "metadata": {
        "id": "GS9wRMCUcC8w"
      },
      "source": [
        "%%capture\n",
        "!pip install optuna"
      ],
      "execution_count": null,
      "outputs": []
    },
    {
      "cell_type": "code",
      "metadata": {
        "id": "QjQAmZFYcFuG"
      },
      "source": [
        "%%capture\n",
        "!pip install phik"
      ],
      "execution_count": null,
      "outputs": []
    },
    {
      "cell_type": "code",
      "metadata": {
        "id": "IULMr9occ1is"
      },
      "source": [
        "%%capture\n",
        "!pip install catalyst"
      ],
      "execution_count": null,
      "outputs": []
    },
    {
      "cell_type": "code",
      "metadata": {
        "id": "ZD32-wS1q49e"
      },
      "source": [
        "%%capture\n",
        "!pip install catboost"
      ],
      "execution_count": null,
      "outputs": []
    },
    {
      "cell_type": "code",
      "metadata": {
        "id": "X9MHAS9QDiwl"
      },
      "source": [
        "%%capture\n",
        "!pip install category-encoders"
      ],
      "execution_count": null,
      "outputs": []
    },
    {
      "cell_type": "code",
      "metadata": {
        "id": "rnC_sw5TGVm7"
      },
      "source": [
        "%%capture\n",
        "!pip install shap"
      ],
      "execution_count": null,
      "outputs": []
    },
    {
      "cell_type": "code",
      "metadata": {
        "id": "sYd7q426amTD"
      },
      "source": [
        "import pandas as pd\n",
        "import numpy as np \n",
        "import pylab\n",
        "import scipy.stats as stats\n",
        "import warnings\n",
        "import optuna\n",
        "import hyperopt\n",
        "\n",
        "\n",
        "import pickle\n",
        "import phik\n",
        "from phik.report import plot_correlation_matrix\n",
        "from phik import report\n",
        "from category_encoders import MEstimateEncoder\n",
        "from sklearn.metrics import mean_squared_error\n",
        "from sklearn.model_selection import train_test_split, StratifiedKFold, KFold\n",
        "from sklearn.model_selection import cross_validate, cross_val_predict\n",
        "from sklearn.model_selection import ShuffleSplit, GridSearchCV\n",
        "from sklearn.pipeline import Pipeline\n",
        "from sklearn.multioutput import MultiOutputRegressor, RegressorChain\n",
        "from sklearn.preprocessing import StandardScaler, OrdinalEncoder, OneHotEncoder\n",
        "from sklearn.compose import ColumnTransformer\n",
        "from sklearn.svm import LinearSVR\n",
        "import shap\n",
        "from sklearn.utils import class_weight, shuffle\n",
        "from sklearn.feature_selection import mutual_info_regression\n",
        "from sklearn.metrics import make_scorer\n",
        "from sklearn.cluster import KMeans\n",
        "from sklearn.base import BaseEstimator, TransformerMixin, clone\n",
        "from sklearn.preprocessing import FunctionTransformer\n",
        "from sklearn.impute import SimpleImputer\n",
        "from datetime import datetime, timedelta\n",
        "from sklearn.preprocessing import PowerTransformer, QuantileTransformer\n",
        "from xgboost import XGBRegressor\n",
        "\n",
        "\n",
        "from sklearn.preprocessing import MinMaxScaler\n",
        "import matplotlib.pyplot as plt\n",
        "import seaborn as sns\n",
        "from tqdm import tqdm\n",
        "from catboost import Pool\n",
        "from catboost import CatBoostRegressor\n",
        "from google.colab import files\n",
        "\n",
        "sns.set_style('darkgrid')\n",
        "warnings.filterwarnings(\"ignore\")\n",
        "np.random.seed(42)\n",
        "\n",
        "%matplotlib inline"
      ],
      "execution_count": null,
      "outputs": []
    },
    {
      "cell_type": "markdown",
      "metadata": {
        "id": "w9Vdg0QQetNZ"
      },
      "source": [
        "<a href=\"#footer\">К содержанию</a>\n",
        "<footer id=\"footer\"></footer>\n",
        "\n",
        "___"
      ]
    },
    {
      "cell_type": "markdown",
      "metadata": {
        "id": "nbRwPWTxuxsd"
      },
      "source": [
        "Исследовательский анализ данных проводили в другом ноутбуке. Ниже представлено решение задачи по предсказанию двух целевых переменных - Температура и содержание углерода"
      ]
    },
    {
      "cell_type": "markdown",
      "metadata": {
        "id": "5D1pnuDauUYO"
      },
      "source": [
        "[EDA капитана](https://colab.research.google.com/drive/1OJfzasyatVWl4Dw3UlEghEMwfXRPQf7n)"
      ]
    },
    {
      "cell_type": "markdown",
      "metadata": {
        "id": "zq814JvhtkQE"
      },
      "source": [
        "### Сбор сета"
      ]
    },
    {
      "cell_type": "markdown",
      "metadata": {
        "id": "x1BsdU3vu8BF"
      },
      "source": [
        "Для начала подготовим обучающую выборку. Далее составит функции для ускорения обработки - в разделе Pipiline"
      ]
    },
    {
      "cell_type": "markdown",
      "metadata": {
        "id": "bKO3nczDV7w4"
      },
      "source": [
        "#### Подготовка обучающей выборки"
      ]
    },
    {
      "cell_type": "code",
      "metadata": {
        "id": "jXLpn9N71tM1"
      },
      "source": [
        "class FeatureSelection (BaseEstimator, TransformerMixin):\n",
        "\n",
        "\n",
        "  def __init__(self, estimator, n_features_to_select=None, columns=None):\n",
        "    self.estimator = estimator\n",
        "    self.n_features_to_select = n_features_to_select\n",
        "    self.columns = columns\n",
        "\n",
        "  def fit(self, X, y, **fit_params):\n",
        "    # разделить выборку на обучение и валидацию\n",
        "    X_train, self.X_val, y_train, y_val = train_test_split(\n",
        "                                      X, y, test_size=.25, random_state=42)\n",
        "    \n",
        "    assert X_train.shape[0] + self.X_val.shape[0] == X.shape[0], 'Неправильно разделена выборка'\n",
        "    # обучить модель\n",
        "    self.estimator.fit(X_train, y_train, eval_set = [(self.X_val, y_val)],\n",
        "                       early_stopping_rounds = 200\n",
        "                       , use_best_model=True)\n",
        "\n",
        "    # получаем предсказание веростности классов\n",
        "    self.fi = (pd.DataFrame({'feature': list(X_train.columns), \n",
        "                    'importance': self.estimator.feature_importances_})\n",
        "    .sort_values(by='importance', ascending=False))\n",
        "    self.fi.sort_values(by=['importance'],ascending=False,inplace=True)\n",
        "    self.idx = list(self.fi['importance'].index)[:self.n_features_to_select]\n",
        "    # собираем сет данных\n",
        "   \n",
        "\n",
        "    return self\n",
        "\n",
        "  def transform(self, X, y=None):\n",
        "    X_selected = X.iloc[:, self.idx]\n",
        "    return X_selected\n",
        "\n",
        "  def get_index(self):\n",
        "    return self.idx"
      ],
      "execution_count": null,
      "outputs": []
    },
    {
      "cell_type": "code",
      "metadata": {
        "id": "AUGIOF3CQ3ei"
      },
      "source": [
        "sample_sub = pd.read_csv('/content/sample_submission.csv')\n",
        "\n",
        "produv_train = pd.read_csv('/content/data_task1/produv_train.csv', index_col=0)\n",
        "lom_train = pd.read_csv('/content/data_task1/lom_train.csv')\n",
        "plavki = pd.read_csv('/content/data_task1/plavki_train.csv', index_col=0)\n",
        "sip_train = pd.read_csv('/content/data_task1/sip_train.csv')\n",
        "chronom_train = pd.read_csv('/content/data_task1/chronom_train.csv', index_col=0)\n",
        "chugun_train = pd.read_csv('/content/data_task1/chugun_train.csv', index_col=0)\n",
        "gas_train = pd.read_csv('/content/data_task1/gas_train.csv', index_col=0)\n",
        "target_train = pd.read_csv('/content/data_task1/target_train.csv', index_col=0)"
      ],
      "execution_count": null,
      "outputs": []
    },
    {
      "cell_type": "markdown",
      "metadata": {
        "id": "9NovYt-tvDZb"
      },
      "source": [
        "Необходимо собрать готовый сет. Для этого, из данных про хноронометражу выделяем процесс Продувки, находим время продувки в секундах. Также обозначим дату завершения продувки и по ней агрегируем газы и плавки (содержание газов и химических элементов).\n",
        "\n",
        "Лом агрегируем по компонентам. Из плавок удаляем аномалии в виде повторов номера плавки, сыпучие добавки сагрегируем по компонентам"
      ]
    },
    {
      "cell_type": "code",
      "metadata": {
        "id": "AbY21TsojKoW"
      },
      "source": [
        "# обработка лома и сип https://github.com/waico/evraz-hack/blob/main/FinalSubmission.ipynb\n",
        "\n",
        "\n",
        "chron = chronom_train[chronom_train['NOP'] =='Продувка']\n",
        "\n",
        "cols = ['VR_NACH', 'VR_KON']\n",
        "\n",
        "for col in cols: \n",
        "  chron[col] = pd.to_datetime(chron[col], format=\"%Y-%m-%d %H:%M:%S\")\n",
        "chron['produv_time'] = (chron['VR_KON'] - chron['VR_NACH'])/ np.timedelta64(1, 's')\n",
        "chron = chron.drop('O2', axis=1)\n",
        "chron['End'] = chron['VR_KON'].dt.floor('Min')\n",
        "\n",
        "\n",
        "end_time = chron[['NPLV', 'End']].groupby('NPLV', as_index=False)['End'].agg('max').drop_duplicates()\n",
        "\n",
        "gas_train['Time'] = pd.to_datetime(gas_train['Time'], format=\"%Y-%m-%d %H:%M:%S\")\n",
        "gas_train['Oper'] = gas_train['Time'].dt.floor('Min')\n",
        "gas_train = gas_train.reset_index()\n",
        "gas_train.merge(end_time, on='NPLV', how='left').head()\n",
        "\n",
        "\n",
        "gas_aggregated = end_time.apply(\n",
        "    lambda x: gas_train[\n",
        "        np.logical_and(\n",
        "            gas_train['Oper'] <= x['End'], gas_train['NPLV'] == x['NPLV']\n",
        "        )\n",
        "    ].agg(\n",
        "        {\n",
        "            'Oper': 'max',\n",
        "            'NPLV': 'max',\n",
        "            'V': 'sum',\n",
        "            'T':'sum',\n",
        "            'AR':'sum',\n",
        "            'O2': 'sum',\n",
        "            'N2': 'sum',\n",
        "            'H2': 'sum',\n",
        "            'CO2': 'sum',\n",
        "            'CO': 'sum',\n",
        "            'T фурмы 1': 'sum',\n",
        "            'T фурмы 2': 'sum',\n",
        "            'O2_pressure': 'sum',\n",
        "         \n",
        "\n",
        "        }\n",
        "    ),\n",
        "    axis=1,\n",
        ").sort_values(by=['Oper', 'NPLV'])\n",
        "gas_aggregated_train = gas_aggregated.drop('Oper', axis=1)\n",
        "\n",
        "\n",
        "lom_train = lom_train.drop(columns='NML')\n",
        "lom_train = (pd.pivot(lom_train, index='NPLV', columns='VDL', values='VES')\n",
        ".fillna(0).astype(int)\n",
        ".add_prefix('lom_VES_VLD'))\n",
        "lom_train['lom_components'] = lom_train.apply(lambda x: (x > 0).sum(), axis=1)\n",
        "\n",
        "df_lom_train = (lom_train[[x for x in lom_train.columns if x.startswith('lom_VES_VLD')]]\n",
        "                                           .apply(lambda x: x.sum(), axis=1)\n",
        "                                           )\n",
        "df_plavki_train = plavki[~plavki.index.duplicated(keep='first')]\n",
        "\n",
        "df_plavki_train = df_plavki_train.drop(['plavka_VR_NACH', 'plavka_VR_KON'], axis=1)\n",
        "\n",
        "produv_train['SEC'] = pd.to_datetime(produv_train['SEC'], format=\"%Y-%m-%d %H:%M:%S\")\n",
        "produv_train['Oper_sec'] = produv_train['SEC'].dt.floor('Min')\n",
        "produv_train = produv_train.reset_index()\n",
        "produv_train.merge(end_time, on='NPLV', how='left').head()\n",
        "\n",
        "\n",
        "produv_train_aggregated = end_time.apply(\n",
        "    lambda x: produv_train[\n",
        "        np.logical_and(\n",
        "            produv_train['Oper_sec'] <= x['End'], produv_train['NPLV'] == x['NPLV']\n",
        "        )\n",
        "    ].agg(\n",
        "        {\n",
        "            'Oper_sec': 'max',\n",
        "            'NPLV': 'max',\n",
        "            'RAS': 'max',\n",
        "            'POL':'max',\n",
        "        \n",
        "\n",
        "        }\n",
        "    ),\n",
        "    axis=1,\n",
        ").sort_values(by=['Oper_sec', 'NPLV'])\n",
        "produv_train_aggregated = produv_train_aggregated.drop('Oper_sec', axis=1)\n",
        "\n",
        "df_chronom_train = chron.groupby(['NPLV'], as_index=False)['produv_time'].agg('max')\n",
        "\n",
        "sip_train = sip_train.drop(columns=['NMSYP', 'DAT_OTD'])\n",
        "sip_train = sip_train.groupby(['NPLV', 'VDSYP'])['VSSYP'].sum().reset_index()\n",
        "df_sip_train = (pd.pivot(sip_train, index='NPLV', columns='VDSYP', values='VSSYP')\n",
        ".fillna(0).astype(int)\n",
        ".add_prefix('sip_VES_VDSYP')\n",
        ")\n",
        "df_chugun_train = chugun_train.drop('DATA_ZAMERA', axis=1)\n"
      ],
      "execution_count": null,
      "outputs": []
    },
    {
      "cell_type": "markdown",
      "metadata": {
        "id": "6XfSYGJdWEOR"
      },
      "source": [
        "#### Подготовка тестовой выборки"
      ]
    },
    {
      "cell_type": "markdown",
      "metadata": {
        "id": "q5JwEzrh1DRo"
      },
      "source": [
        "Аналогично по тестовой выборке"
      ]
    },
    {
      "cell_type": "code",
      "metadata": {
        "id": "myS0i5nJQ3en"
      },
      "source": [
        "# обработка лома и сип https://github.com/waico/evraz-hack/blob/main/FinalSubmission.ipynb\n",
        "\n",
        "produv_test = pd.read_csv('/content/data_task1/produv_test.csv', index_col=0)\n",
        "lom_test = pd.read_csv('/content/data_task1/lom_test.csv')\n",
        "plavki_test = pd.read_csv('/content/data_task1/plavki_test.csv', index_col=0)\n",
        "chronom_test = pd.read_csv('/content/data_task1/chronom_test.csv', index_col=0)\n",
        "chugun_test = pd.read_csv('/content/data_task1/chugun_test.csv', index_col=0)\n",
        "gas_test = pd.read_csv('/content/data_task1/gas_test.csv', index_col=0)\n",
        "sip_test = pd.read_csv('/content/data_task1/sip_test.csv')\n",
        "\n",
        "\n",
        "\n",
        "chron = chronom_test[chronom_test['NOP'] =='Продувка']\n",
        "\n",
        "cols = ['VR_NACH', 'VR_KON']\n",
        "\n",
        "for col in cols: \n",
        "  chron[col] = pd.to_datetime(chron[col], format=\"%Y-%m-%d %H:%M:%S\")\n",
        "chron['produv_time'] = (chron['VR_KON'] - chron['VR_NACH'])/ np.timedelta64(1, 's')\n",
        "chron = chron.drop('O2', axis=1)\n",
        "chron['End'] = chron['VR_KON'].dt.floor('Min')\n",
        "\n",
        "\n",
        "end_time = chron[['NPLV', 'End']].groupby('NPLV', as_index=False)['End'].agg('max').drop_duplicates()\n",
        "\n",
        "gas_test['Time'] = pd.to_datetime(gas_test['Time'], format=\"%Y-%m-%d %H:%M:%S\")\n",
        "gas_test['Oper'] = gas_test['Time'].dt.floor('Min')\n",
        "gas_test = gas_test.reset_index()\n",
        "gas_test.merge(end_time, on='NPLV', how='left').head()\n",
        "\n",
        "end_time = chron[['NPLV', 'End']].groupby('NPLV', as_index=False)['End'].agg('max').drop_duplicates()\n",
        "gas_aggregated = end_time.apply(\n",
        "    lambda x: gas_test[\n",
        "        np.logical_and(\n",
        "            gas_test['Oper'] <= x['End'], gas_test['NPLV'] == x['NPLV']\n",
        "        )\n",
        "    ].agg(\n",
        "        {\n",
        "            'Oper': 'max',\n",
        "            'NPLV': 'max',\n",
        "            'V': 'sum',\n",
        "            'T':'sum',\n",
        "            'AR':'sum',\n",
        "            'O2': 'sum',\n",
        "            'N2': 'sum',\n",
        "            'H2': 'sum',\n",
        "            'CO2': 'sum',\n",
        "            'CO': 'sum',\n",
        "            'T фурмы 1': 'sum',\n",
        "            'T фурмы 2': 'sum',\n",
        "            'O2_pressure': 'sum',\n",
        "         \n",
        "\n",
        "        }\n",
        "    ),\n",
        "    axis=1,\n",
        ").sort_values(by=['Oper', 'NPLV'])\n",
        "\n",
        "gas_aggregated = gas_aggregated.drop('Oper', axis=1)\n",
        "\n",
        "\n",
        "df_chronom_test = chron.groupby(['NPLV'], as_index=False)['produv_time'].agg('max')\n",
        "lom_test = lom_test.drop(columns='NML')\n",
        "lom_test = (pd.pivot(lom_test, index='NPLV', columns='VDL', values='VES')\n",
        ".fillna(0).astype(int)\n",
        ".add_prefix('lom_VES_VLD'))\n",
        "lom_test['lom_components'] = lom_test.apply(lambda x: (x > 0).sum(), axis=1)\n",
        "\n",
        "df_lom_test = (lom_test[[x for x in lom_test.columns if x.startswith('lom_VES_VLD')]]\n",
        "                                           .apply(lambda x: x.sum(), axis=1)\n",
        "                                           ).to_frame()\n",
        "df_lom_train = df_lom_train.to_frame()\n",
        "df_lom_train = df_lom_train[df_lom_test.columns]\n",
        "cols = ['plavka_VR_NACH', 'plavka_VR_KON']\n",
        "df_plavki_test = plavki_test[~plavki_test.index.duplicated(keep='first')]\n",
        "df_plavki_test = df_plavki_test.drop(['plavka_VR_NACH', 'plavka_VR_KON'], axis=1)\n",
        "\n",
        "\n",
        "produv_test['SEC'] = pd.to_datetime(produv_test['SEC'], format=\"%Y-%m-%d %H:%M:%S\")\n",
        "produv_test['Oper_sec'] = produv_test['SEC'].dt.floor('Min')\n",
        "produv_test = produv_test.reset_index()\n",
        "produv_test.merge(end_time, on='NPLV', how='left').head()\n",
        "\n",
        "\n",
        "produv_test_aggregated = end_time.apply(\n",
        "    lambda x: produv_test[\n",
        "        np.logical_and(\n",
        "            produv_test['Oper_sec'] <= x['End'], produv_test['NPLV'] == x['NPLV']\n",
        "        )\n",
        "    ].agg(\n",
        "        {\n",
        "            'Oper_sec': 'max',\n",
        "            'NPLV': 'max',\n",
        "            'RAS': 'max',\n",
        "            'POL':'max',\n",
        "        \n",
        "\n",
        "        }\n",
        "    ),\n",
        "    axis=1,\n",
        ").sort_values(by=['Oper_sec', 'NPLV'])\n",
        "produv_test_aggregated = produv_test_aggregated.drop('Oper_sec', axis=1)\n",
        "sip_test = sip_test.drop(columns=['NMSYP', 'DAT_OTD'])\n",
        "sip_test = sip_test.groupby(['NPLV', 'VDSYP'])['VSSYP'].sum().reset_index()\n",
        "df_sip_test = (pd.pivot(sip_test, index='NPLV', columns='VDSYP', values='VSSYP')\n",
        ".fillna(0).astype(int)\n",
        ".add_prefix('sip_VES_VDSYP')\n",
        ")\n",
        "\n",
        "df_sip_test = df_sip_test[df_sip_train.columns]\n",
        "df_chugun_test = chugun_test.drop('DATA_ZAMERA', axis=1)\n"
      ],
      "execution_count": null,
      "outputs": []
    },
    {
      "cell_type": "markdown",
      "metadata": {
        "id": "wNGPFSDK1UHw"
      },
      "source": [
        "Проверем наши выборки на формы"
      ]
    },
    {
      "cell_type": "code",
      "metadata": {
        "id": "l9REiDmUAGyp"
      },
      "source": [
        "test_set = [df_chronom_test, df_lom_test, \n",
        "             df_plavki_test, produv_test_aggregated, df_sip_test, \n",
        "             df_chugun_test, gas_aggregated]"
      ],
      "execution_count": null,
      "outputs": []
    },
    {
      "cell_type": "code",
      "metadata": {
        "id": "jfSH1uncQ3ek"
      },
      "source": [
        "train_set = [df_chronom_train, df_lom_train, \n",
        "             df_plavki_train, produv_train_aggregated, df_sip_train, \n",
        "             df_chugun_train, \n",
        "             gas_aggregated_train ]"
      ],
      "execution_count": null,
      "outputs": []
    },
    {
      "cell_type": "code",
      "metadata": {
        "id": "P7S3cqQnQ3ek",
        "colab": {
          "base_uri": "https://localhost:8080/"
        },
        "outputId": "844d1915-bfe5-45da-d7fe-ceebcfba3b49"
      },
      "source": [
        "for df in train_set:\n",
        "    print(df.shape)"
      ],
      "execution_count": null,
      "outputs": [
        {
          "output_type": "stream",
          "name": "stdout",
          "text": [
            "(2063, 2)\n",
            "(2063, 1)\n",
            "(2063, 7)\n",
            "(2063, 3)\n",
            "(2063, 7)\n",
            "(2063, 11)\n",
            "(2063, 12)\n"
          ]
        }
      ]
    },
    {
      "cell_type": "code",
      "metadata": {
        "id": "xIdqonCtQ3eo",
        "colab": {
          "base_uri": "https://localhost:8080/"
        },
        "outputId": "83c59f9c-bf04-4847-ea30-665e1414dc9f"
      },
      "source": [
        "for df in test_set:\n",
        "    print(df.shape)"
      ],
      "execution_count": null,
      "outputs": [
        {
          "output_type": "stream",
          "name": "stdout",
          "text": [
            "(780, 2)\n",
            "(780, 1)\n",
            "(780, 7)\n",
            "(780, 3)\n",
            "(780, 7)\n",
            "(780, 11)\n",
            "(780, 12)\n"
          ]
        }
      ]
    },
    {
      "cell_type": "markdown",
      "metadata": {
        "id": "V0MscsjG1XDP"
      },
      "source": [
        "Теперь можем объединить сагрегированные данные в единые датасеты"
      ]
    },
    {
      "cell_type": "code",
      "metadata": {
        "id": "fHNOuESQQ3eo"
      },
      "source": [
        "test = (df_chronom_test.merge(df_lom_test, on='NPLV', how='left')\n",
        "            .merge(df_plavki_test, on='NPLV', how='left')\n",
        "            .merge(produv_test_aggregated, on='NPLV', how='left')\n",
        "            .merge(df_sip_test, on='NPLV', how='left')\n",
        "            .merge(df_chugun_test, on='NPLV', how='left')\n",
        "            .merge(gas_aggregated, on='NPLV', how='left')\n",
        "            )\n"
      ],
      "execution_count": null,
      "outputs": []
    },
    {
      "cell_type": "code",
      "metadata": {
        "colab": {
          "base_uri": "https://localhost:8080/",
          "height": 272
        },
        "id": "5BTDAt6BUypv",
        "outputId": "32ba9de6-d6e4-4e11-8a96-af3609cf86af"
      },
      "source": [
        "cols = ['plavka_ST_GOL', \n",
        "        'plavka_STFUT', \n",
        "        'plavka_ST_FURM', \n",
        "        'plavka_TIPE_FUR', \n",
        "        'plavka_TIPE_GOL']\n",
        "test = test.set_index(test['NPLV']).drop(['NPLV'], axis=1)\n",
        "for col in cols:\n",
        "  test[col] = test[col].astype('category')\n",
        "\n",
        "test['VES/O2'] = test['VES'] / test['O2']\n",
        "test.head()"
      ],
      "execution_count": null,
      "outputs": [
        {
          "output_type": "execute_result",
          "data": {
            "text/html": [
              "<div>\n",
              "<style scoped>\n",
              "    .dataframe tbody tr th:only-of-type {\n",
              "        vertical-align: middle;\n",
              "    }\n",
              "\n",
              "    .dataframe tbody tr th {\n",
              "        vertical-align: top;\n",
              "    }\n",
              "\n",
              "    .dataframe thead th {\n",
              "        text-align: right;\n",
              "    }\n",
              "</style>\n",
              "<table border=\"1\" class=\"dataframe\">\n",
              "  <thead>\n",
              "    <tr style=\"text-align: right;\">\n",
              "      <th></th>\n",
              "      <th>produv_time</th>\n",
              "      <th>0</th>\n",
              "      <th>plavka_NMZ</th>\n",
              "      <th>plavka_NAPR_ZAD</th>\n",
              "      <th>plavka_STFUT</th>\n",
              "      <th>plavka_TIPE_FUR</th>\n",
              "      <th>plavka_ST_FURM</th>\n",
              "      <th>plavka_TIPE_GOL</th>\n",
              "      <th>plavka_ST_GOL</th>\n",
              "      <th>RAS</th>\n",
              "      <th>POL</th>\n",
              "      <th>sip_VES_VDSYP104</th>\n",
              "      <th>sip_VES_VDSYP119</th>\n",
              "      <th>sip_VES_VDSYP171</th>\n",
              "      <th>sip_VES_VDSYP346</th>\n",
              "      <th>sip_VES_VDSYP397</th>\n",
              "      <th>sip_VES_VDSYP408</th>\n",
              "      <th>sip_VES_VDSYP442</th>\n",
              "      <th>VES</th>\n",
              "      <th>T_x</th>\n",
              "      <th>SI</th>\n",
              "      <th>MN</th>\n",
              "      <th>S</th>\n",
              "      <th>P</th>\n",
              "      <th>CR</th>\n",
              "      <th>NI</th>\n",
              "      <th>CU</th>\n",
              "      <th>V_x</th>\n",
              "      <th>TI</th>\n",
              "      <th>V_y</th>\n",
              "      <th>T_y</th>\n",
              "      <th>AR</th>\n",
              "      <th>O2</th>\n",
              "      <th>N2</th>\n",
              "      <th>H2</th>\n",
              "      <th>CO2</th>\n",
              "      <th>CO</th>\n",
              "      <th>T фурмы 1</th>\n",
              "      <th>T фурмы 2</th>\n",
              "      <th>O2_pressure</th>\n",
              "      <th>VES/O2</th>\n",
              "    </tr>\n",
              "    <tr>\n",
              "      <th>NPLV</th>\n",
              "      <th></th>\n",
              "      <th></th>\n",
              "      <th></th>\n",
              "      <th></th>\n",
              "      <th></th>\n",
              "      <th></th>\n",
              "      <th></th>\n",
              "      <th></th>\n",
              "      <th></th>\n",
              "      <th></th>\n",
              "      <th></th>\n",
              "      <th></th>\n",
              "      <th></th>\n",
              "      <th></th>\n",
              "      <th></th>\n",
              "      <th></th>\n",
              "      <th></th>\n",
              "      <th></th>\n",
              "      <th></th>\n",
              "      <th></th>\n",
              "      <th></th>\n",
              "      <th></th>\n",
              "      <th></th>\n",
              "      <th></th>\n",
              "      <th></th>\n",
              "      <th></th>\n",
              "      <th></th>\n",
              "      <th></th>\n",
              "      <th></th>\n",
              "      <th></th>\n",
              "      <th></th>\n",
              "      <th></th>\n",
              "      <th></th>\n",
              "      <th></th>\n",
              "      <th></th>\n",
              "      <th></th>\n",
              "      <th></th>\n",
              "      <th></th>\n",
              "      <th></th>\n",
              "      <th></th>\n",
              "      <th></th>\n",
              "    </tr>\n",
              "  </thead>\n",
              "  <tbody>\n",
              "    <tr>\n",
              "      <th>512324</th>\n",
              "      <td>1263.0</td>\n",
              "      <td>45700</td>\n",
              "      <td>Ст3пс/Э</td>\n",
              "      <td>Изл</td>\n",
              "      <td>2</td>\n",
              "      <td>цилиндрическая</td>\n",
              "      <td>2</td>\n",
              "      <td>4-сопл х54</td>\n",
              "      <td>2</td>\n",
              "      <td>1035.0</td>\n",
              "      <td>10.73</td>\n",
              "      <td>0</td>\n",
              "      <td>0</td>\n",
              "      <td>0</td>\n",
              "      <td>1310</td>\n",
              "      <td>0</td>\n",
              "      <td>13960</td>\n",
              "      <td>1670</td>\n",
              "      <td>240100.0</td>\n",
              "      <td>1355.0</td>\n",
              "      <td>0.46</td>\n",
              "      <td>0.33</td>\n",
              "      <td>0.027</td>\n",
              "      <td>0.079</td>\n",
              "      <td>0.01</td>\n",
              "      <td>0.01</td>\n",
              "      <td>0.02</td>\n",
              "      <td>0.048</td>\n",
              "      <td>0.030</td>\n",
              "      <td>5.393148e+08</td>\n",
              "      <td>1.193083e+06</td>\n",
              "      <td>2160.567790</td>\n",
              "      <td>27126.556055</td>\n",
              "      <td>164497.106958</td>\n",
              "      <td>454.433420</td>\n",
              "      <td>32845.012237</td>\n",
              "      <td>32525.098456</td>\n",
              "      <td>68738.811684</td>\n",
              "      <td>81622.620889</td>\n",
              "      <td>38574.537699</td>\n",
              "      <td>8.851105</td>\n",
              "    </tr>\n",
              "    <tr>\n",
              "      <th>512327</th>\n",
              "      <td>1074.0</td>\n",
              "      <td>71000</td>\n",
              "      <td>C121TM/ЭТ</td>\n",
              "      <td>МНЛС</td>\n",
              "      <td>5</td>\n",
              "      <td>цилиндрическая</td>\n",
              "      <td>5</td>\n",
              "      <td>4-сопл х54</td>\n",
              "      <td>5</td>\n",
              "      <td>1062.0</td>\n",
              "      <td>8.54</td>\n",
              "      <td>0</td>\n",
              "      <td>0</td>\n",
              "      <td>0</td>\n",
              "      <td>0</td>\n",
              "      <td>0</td>\n",
              "      <td>15290</td>\n",
              "      <td>0</td>\n",
              "      <td>266400.0</td>\n",
              "      <td>1390.0</td>\n",
              "      <td>0.30</td>\n",
              "      <td>0.33</td>\n",
              "      <td>0.032</td>\n",
              "      <td>0.099</td>\n",
              "      <td>0.01</td>\n",
              "      <td>0.00</td>\n",
              "      <td>0.00</td>\n",
              "      <td>0.050</td>\n",
              "      <td>0.024</td>\n",
              "      <td>4.097842e+08</td>\n",
              "      <td>9.565915e+05</td>\n",
              "      <td>1446.970845</td>\n",
              "      <td>8021.613781</td>\n",
              "      <td>98544.123551</td>\n",
              "      <td>307.358604</td>\n",
              "      <td>29345.450131</td>\n",
              "      <td>40636.683622</td>\n",
              "      <td>45997.616008</td>\n",
              "      <td>56322.421869</td>\n",
              "      <td>28555.574051</td>\n",
              "      <td>33.210275</td>\n",
              "    </tr>\n",
              "    <tr>\n",
              "      <th>512328</th>\n",
              "      <td>1122.0</td>\n",
              "      <td>71700</td>\n",
              "      <td>Ст3пс/Э</td>\n",
              "      <td>Изл</td>\n",
              "      <td>6</td>\n",
              "      <td>цилиндрическая</td>\n",
              "      <td>6</td>\n",
              "      <td>4-сопл х54</td>\n",
              "      <td>6</td>\n",
              "      <td>1057.0</td>\n",
              "      <td>8.59</td>\n",
              "      <td>0</td>\n",
              "      <td>0</td>\n",
              "      <td>0</td>\n",
              "      <td>0</td>\n",
              "      <td>0</td>\n",
              "      <td>20010</td>\n",
              "      <td>0</td>\n",
              "      <td>270200.0</td>\n",
              "      <td>1373.0</td>\n",
              "      <td>0.00</td>\n",
              "      <td>0.00</td>\n",
              "      <td>0.000</td>\n",
              "      <td>0.000</td>\n",
              "      <td>0.00</td>\n",
              "      <td>0.00</td>\n",
              "      <td>0.00</td>\n",
              "      <td>0.000</td>\n",
              "      <td>0.000</td>\n",
              "      <td>7.846157e+08</td>\n",
              "      <td>1.122610e+06</td>\n",
              "      <td>3128.204497</td>\n",
              "      <td>33010.916617</td>\n",
              "      <td>219246.380732</td>\n",
              "      <td>549.788415</td>\n",
              "      <td>37961.654629</td>\n",
              "      <td>44423.588566</td>\n",
              "      <td>86843.390038</td>\n",
              "      <td>100022.678747</td>\n",
              "      <td>54286.829340</td>\n",
              "      <td>8.185171</td>\n",
              "    </tr>\n",
              "    <tr>\n",
              "      <th>512331</th>\n",
              "      <td>1103.0</td>\n",
              "      <td>70500</td>\n",
              "      <td>25Г2С</td>\n",
              "      <td>Изл</td>\n",
              "      <td>9</td>\n",
              "      <td>цилиндрическая</td>\n",
              "      <td>9</td>\n",
              "      <td>4-сопл х54</td>\n",
              "      <td>9</td>\n",
              "      <td>1064.0</td>\n",
              "      <td>8.99</td>\n",
              "      <td>0</td>\n",
              "      <td>0</td>\n",
              "      <td>0</td>\n",
              "      <td>0</td>\n",
              "      <td>0</td>\n",
              "      <td>14060</td>\n",
              "      <td>0</td>\n",
              "      <td>266700.0</td>\n",
              "      <td>1383.0</td>\n",
              "      <td>0.54</td>\n",
              "      <td>0.39</td>\n",
              "      <td>0.028</td>\n",
              "      <td>0.115</td>\n",
              "      <td>0.02</td>\n",
              "      <td>0.01</td>\n",
              "      <td>0.03</td>\n",
              "      <td>0.059</td>\n",
              "      <td>0.042</td>\n",
              "      <td>9.669072e+08</td>\n",
              "      <td>1.185351e+06</td>\n",
              "      <td>3676.185884</td>\n",
              "      <td>1629.514292</td>\n",
              "      <td>250551.238444</td>\n",
              "      <td>532.044444</td>\n",
              "      <td>118634.304227</td>\n",
              "      <td>60558.058177</td>\n",
              "      <td>108643.783149</td>\n",
              "      <td>120696.749365</td>\n",
              "      <td>70107.365150</td>\n",
              "      <td>163.668402</td>\n",
              "    </tr>\n",
              "    <tr>\n",
              "      <th>512333</th>\n",
              "      <td>1096.0</td>\n",
              "      <td>104500</td>\n",
              "      <td>C091TM.z01/ЭТ</td>\n",
              "      <td>МНЛС</td>\n",
              "      <td>11</td>\n",
              "      <td>цилиндрическая</td>\n",
              "      <td>11</td>\n",
              "      <td>4-сопл х54</td>\n",
              "      <td>11</td>\n",
              "      <td>1066.0</td>\n",
              "      <td>8.47</td>\n",
              "      <td>0</td>\n",
              "      <td>0</td>\n",
              "      <td>0</td>\n",
              "      <td>0</td>\n",
              "      <td>0</td>\n",
              "      <td>20100</td>\n",
              "      <td>0</td>\n",
              "      <td>267400.0</td>\n",
              "      <td>1387.0</td>\n",
              "      <td>0.00</td>\n",
              "      <td>0.00</td>\n",
              "      <td>0.000</td>\n",
              "      <td>0.000</td>\n",
              "      <td>0.00</td>\n",
              "      <td>0.00</td>\n",
              "      <td>0.00</td>\n",
              "      <td>0.000</td>\n",
              "      <td>0.000</td>\n",
              "      <td>6.101418e+08</td>\n",
              "      <td>1.013535e+06</td>\n",
              "      <td>2334.360643</td>\n",
              "      <td>3338.917157</td>\n",
              "      <td>163346.761684</td>\n",
              "      <td>417.674345</td>\n",
              "      <td>61346.862749</td>\n",
              "      <td>48436.316562</td>\n",
              "      <td>68596.184386</td>\n",
              "      <td>79120.983128</td>\n",
              "      <td>44554.573607</td>\n",
              "      <td>80.085844</td>\n",
              "    </tr>\n",
              "  </tbody>\n",
              "</table>\n",
              "</div>"
            ],
            "text/plain": [
              "        produv_time       0  ...   O2_pressure      VES/O2\n",
              "NPLV                         ...                          \n",
              "512324       1263.0   45700  ...  38574.537699    8.851105\n",
              "512327       1074.0   71000  ...  28555.574051   33.210275\n",
              "512328       1122.0   71700  ...  54286.829340    8.185171\n",
              "512331       1103.0   70500  ...  70107.365150  163.668402\n",
              "512333       1096.0  104500  ...  44554.573607   80.085844\n",
              "\n",
              "[5 rows x 41 columns]"
            ]
          },
          "metadata": {},
          "execution_count": 406
        }
      ]
    },
    {
      "cell_type": "code",
      "metadata": {
        "id": "O5IQiG54Q3el"
      },
      "source": [
        "features = (df_chronom_train.merge(df_lom_train, on='NPLV', how='left')\n",
        "            .merge(df_plavki_train, on='NPLV', how='left')\n",
        "            .merge(produv_train_aggregated, on='NPLV', how='left')\n",
        "            .merge(df_sip_train, on='NPLV', how='left')\n",
        "            .merge(df_chugun_train, on='NPLV', how='left')\n",
        "            .merge(gas_aggregated_train, on='NPLV', how='left')\n",
        "            )"
      ],
      "execution_count": null,
      "outputs": []
    },
    {
      "cell_type": "code",
      "metadata": {
        "id": "QbubvkeoQ3el",
        "colab": {
          "base_uri": "https://localhost:8080/",
          "height": 289
        },
        "outputId": "35585ef6-da13-4953-d032-25fdf749e75c"
      },
      "source": [
        "cols = ['plavka_ST_GOL', \n",
        "        'plavka_STFUT', \n",
        "        'plavka_ST_FURM', \n",
        "        'plavka_TIPE_FUR', \n",
        "        'plavka_TIPE_GOL']\n",
        "for col in cols:\n",
        "  features[col] = features[col].astype('category')\n",
        "features['VES/O2'] = features['VES'] / features['O2']\n",
        "features = features.set_index(features['NPLV']).drop('NPLV', axis=1)\n",
        "features.head()"
      ],
      "execution_count": null,
      "outputs": [
        {
          "output_type": "execute_result",
          "data": {
            "text/html": [
              "<div>\n",
              "<style scoped>\n",
              "    .dataframe tbody tr th:only-of-type {\n",
              "        vertical-align: middle;\n",
              "    }\n",
              "\n",
              "    .dataframe tbody tr th {\n",
              "        vertical-align: top;\n",
              "    }\n",
              "\n",
              "    .dataframe thead th {\n",
              "        text-align: right;\n",
              "    }\n",
              "</style>\n",
              "<table border=\"1\" class=\"dataframe\">\n",
              "  <thead>\n",
              "    <tr style=\"text-align: right;\">\n",
              "      <th></th>\n",
              "      <th>produv_time</th>\n",
              "      <th>0</th>\n",
              "      <th>plavka_NMZ</th>\n",
              "      <th>plavka_NAPR_ZAD</th>\n",
              "      <th>plavka_STFUT</th>\n",
              "      <th>plavka_TIPE_FUR</th>\n",
              "      <th>plavka_ST_FURM</th>\n",
              "      <th>plavka_TIPE_GOL</th>\n",
              "      <th>plavka_ST_GOL</th>\n",
              "      <th>RAS</th>\n",
              "      <th>POL</th>\n",
              "      <th>sip_VES_VDSYP104</th>\n",
              "      <th>sip_VES_VDSYP119</th>\n",
              "      <th>sip_VES_VDSYP171</th>\n",
              "      <th>sip_VES_VDSYP346</th>\n",
              "      <th>sip_VES_VDSYP397</th>\n",
              "      <th>sip_VES_VDSYP408</th>\n",
              "      <th>sip_VES_VDSYP442</th>\n",
              "      <th>VES</th>\n",
              "      <th>T_x</th>\n",
              "      <th>SI</th>\n",
              "      <th>MN</th>\n",
              "      <th>S</th>\n",
              "      <th>P</th>\n",
              "      <th>CR</th>\n",
              "      <th>NI</th>\n",
              "      <th>CU</th>\n",
              "      <th>V_x</th>\n",
              "      <th>TI</th>\n",
              "      <th>V_y</th>\n",
              "      <th>T_y</th>\n",
              "      <th>AR</th>\n",
              "      <th>O2</th>\n",
              "      <th>N2</th>\n",
              "      <th>H2</th>\n",
              "      <th>CO2</th>\n",
              "      <th>CO</th>\n",
              "      <th>T фурмы 1</th>\n",
              "      <th>T фурмы 2</th>\n",
              "      <th>O2_pressure</th>\n",
              "      <th>VES/O2</th>\n",
              "    </tr>\n",
              "    <tr>\n",
              "      <th>NPLV</th>\n",
              "      <th></th>\n",
              "      <th></th>\n",
              "      <th></th>\n",
              "      <th></th>\n",
              "      <th></th>\n",
              "      <th></th>\n",
              "      <th></th>\n",
              "      <th></th>\n",
              "      <th></th>\n",
              "      <th></th>\n",
              "      <th></th>\n",
              "      <th></th>\n",
              "      <th></th>\n",
              "      <th></th>\n",
              "      <th></th>\n",
              "      <th></th>\n",
              "      <th></th>\n",
              "      <th></th>\n",
              "      <th></th>\n",
              "      <th></th>\n",
              "      <th></th>\n",
              "      <th></th>\n",
              "      <th></th>\n",
              "      <th></th>\n",
              "      <th></th>\n",
              "      <th></th>\n",
              "      <th></th>\n",
              "      <th></th>\n",
              "      <th></th>\n",
              "      <th></th>\n",
              "      <th></th>\n",
              "      <th></th>\n",
              "      <th></th>\n",
              "      <th></th>\n",
              "      <th></th>\n",
              "      <th></th>\n",
              "      <th></th>\n",
              "      <th></th>\n",
              "      <th></th>\n",
              "      <th></th>\n",
              "      <th></th>\n",
              "    </tr>\n",
              "  </thead>\n",
              "  <tbody>\n",
              "    <tr>\n",
              "      <th>510008</th>\n",
              "      <td>1170.0</td>\n",
              "      <td>76200</td>\n",
              "      <td>С255</td>\n",
              "      <td>МНЛЗ</td>\n",
              "      <td>971</td>\n",
              "      <td>цилиндрическая</td>\n",
              "      <td>11</td>\n",
              "      <td>5 сопловая</td>\n",
              "      <td>11</td>\n",
              "      <td>965.0</td>\n",
              "      <td>7.070000</td>\n",
              "      <td>0</td>\n",
              "      <td>0</td>\n",
              "      <td>980</td>\n",
              "      <td>2950</td>\n",
              "      <td>0</td>\n",
              "      <td>14080</td>\n",
              "      <td>2960</td>\n",
              "      <td>263700.0</td>\n",
              "      <td>1396.0</td>\n",
              "      <td>0.44</td>\n",
              "      <td>0.22</td>\n",
              "      <td>0.023</td>\n",
              "      <td>0.097</td>\n",
              "      <td>0.03</td>\n",
              "      <td>0.01</td>\n",
              "      <td>0.03</td>\n",
              "      <td>0.103</td>\n",
              "      <td>0.084</td>\n",
              "      <td>3.846172e+08</td>\n",
              "      <td>1.086623e+06</td>\n",
              "      <td>1285.446128</td>\n",
              "      <td>13558.359520</td>\n",
              "      <td>94893.277851</td>\n",
              "      <td>768.501531</td>\n",
              "      <td>26198.693282</td>\n",
              "      <td>41090.015328</td>\n",
              "      <td>0.0</td>\n",
              "      <td>0.0</td>\n",
              "      <td>23590.059203</td>\n",
              "      <td>19.449256</td>\n",
              "    </tr>\n",
              "    <tr>\n",
              "      <th>510009</th>\n",
              "      <td>1230.0</td>\n",
              "      <td>78600</td>\n",
              "      <td>С255</td>\n",
              "      <td>МНЛЗ</td>\n",
              "      <td>972</td>\n",
              "      <td>цилиндрическая</td>\n",
              "      <td>12</td>\n",
              "      <td>5 сопловая</td>\n",
              "      <td>12</td>\n",
              "      <td>1026.0</td>\n",
              "      <td>4.760000</td>\n",
              "      <td>1060</td>\n",
              "      <td>0</td>\n",
              "      <td>960</td>\n",
              "      <td>2930</td>\n",
              "      <td>0</td>\n",
              "      <td>18830</td>\n",
              "      <td>0</td>\n",
              "      <td>264500.0</td>\n",
              "      <td>1419.0</td>\n",
              "      <td>0.68</td>\n",
              "      <td>0.20</td>\n",
              "      <td>0.017</td>\n",
              "      <td>0.087</td>\n",
              "      <td>0.02</td>\n",
              "      <td>0.01</td>\n",
              "      <td>0.03</td>\n",
              "      <td>0.084</td>\n",
              "      <td>0.096</td>\n",
              "      <td>6.096518e+08</td>\n",
              "      <td>1.224648e+06</td>\n",
              "      <td>2178.819530</td>\n",
              "      <td>37257.286306</td>\n",
              "      <td>167603.328371</td>\n",
              "      <td>644.838259</td>\n",
              "      <td>28763.522472</td>\n",
              "      <td>44161.639846</td>\n",
              "      <td>0.0</td>\n",
              "      <td>0.0</td>\n",
              "      <td>39933.847095</td>\n",
              "      <td>7.099282</td>\n",
              "    </tr>\n",
              "    <tr>\n",
              "      <th>510010</th>\n",
              "      <td>1226.0</td>\n",
              "      <td>76300</td>\n",
              "      <td>Ст3пс/Э</td>\n",
              "      <td>Изл</td>\n",
              "      <td>973</td>\n",
              "      <td>цилиндрическая</td>\n",
              "      <td>13</td>\n",
              "      <td>5 сопловая</td>\n",
              "      <td>13</td>\n",
              "      <td>1029.0</td>\n",
              "      <td>4.083052</td>\n",
              "      <td>990</td>\n",
              "      <td>0</td>\n",
              "      <td>1050</td>\n",
              "      <td>2990</td>\n",
              "      <td>0</td>\n",
              "      <td>16080</td>\n",
              "      <td>2960</td>\n",
              "      <td>263800.0</td>\n",
              "      <td>1384.0</td>\n",
              "      <td>0.56</td>\n",
              "      <td>0.26</td>\n",
              "      <td>0.017</td>\n",
              "      <td>0.096</td>\n",
              "      <td>0.03</td>\n",
              "      <td>0.01</td>\n",
              "      <td>0.03</td>\n",
              "      <td>0.115</td>\n",
              "      <td>0.110</td>\n",
              "      <td>4.293470e+08</td>\n",
              "      <td>1.182742e+06</td>\n",
              "      <td>1488.770399</td>\n",
              "      <td>17434.697154</td>\n",
              "      <td>109578.402957</td>\n",
              "      <td>880.935583</td>\n",
              "      <td>27734.861027</td>\n",
              "      <td>41790.572992</td>\n",
              "      <td>0.0</td>\n",
              "      <td>0.0</td>\n",
              "      <td>27790.498377</td>\n",
              "      <td>15.130747</td>\n",
              "    </tr>\n",
              "    <tr>\n",
              "      <th>510011</th>\n",
              "      <td>1058.0</td>\n",
              "      <td>84100</td>\n",
              "      <td>Св-08А.z02</td>\n",
              "      <td>Изл</td>\n",
              "      <td>974</td>\n",
              "      <td>цилиндрическая</td>\n",
              "      <td>14</td>\n",
              "      <td>5 сопловая</td>\n",
              "      <td>14</td>\n",
              "      <td>988.0</td>\n",
              "      <td>12.490000</td>\n",
              "      <td>550</td>\n",
              "      <td>0</td>\n",
              "      <td>980</td>\n",
              "      <td>3620</td>\n",
              "      <td>0</td>\n",
              "      <td>22150</td>\n",
              "      <td>0</td>\n",
              "      <td>264000.0</td>\n",
              "      <td>1401.0</td>\n",
              "      <td>0.48</td>\n",
              "      <td>0.27</td>\n",
              "      <td>0.018</td>\n",
              "      <td>0.091</td>\n",
              "      <td>0.03</td>\n",
              "      <td>0.01</td>\n",
              "      <td>0.02</td>\n",
              "      <td>0.112</td>\n",
              "      <td>0.110</td>\n",
              "      <td>3.671527e+08</td>\n",
              "      <td>9.548288e+05</td>\n",
              "      <td>1192.092174</td>\n",
              "      <td>13590.607952</td>\n",
              "      <td>89712.537841</td>\n",
              "      <td>306.418999</td>\n",
              "      <td>24205.811431</td>\n",
              "      <td>38422.515437</td>\n",
              "      <td>0.0</td>\n",
              "      <td>0.0</td>\n",
              "      <td>23337.250315</td>\n",
              "      <td>19.425180</td>\n",
              "    </tr>\n",
              "    <tr>\n",
              "      <th>510012</th>\n",
              "      <td>1239.0</td>\n",
              "      <td>76100</td>\n",
              "      <td>SC2M/ЭТ</td>\n",
              "      <td>МНЛС</td>\n",
              "      <td>975</td>\n",
              "      <td>цилиндрическая</td>\n",
              "      <td>15</td>\n",
              "      <td>5 сопловая</td>\n",
              "      <td>15</td>\n",
              "      <td>995.0</td>\n",
              "      <td>5.000000</td>\n",
              "      <td>2050</td>\n",
              "      <td>0</td>\n",
              "      <td>1000</td>\n",
              "      <td>2930</td>\n",
              "      <td>0</td>\n",
              "      <td>19550</td>\n",
              "      <td>3010</td>\n",
              "      <td>263300.0</td>\n",
              "      <td>1422.0</td>\n",
              "      <td>0.47</td>\n",
              "      <td>0.23</td>\n",
              "      <td>0.018</td>\n",
              "      <td>0.096</td>\n",
              "      <td>0.02</td>\n",
              "      <td>0.01</td>\n",
              "      <td>0.03</td>\n",
              "      <td>0.083</td>\n",
              "      <td>0.070</td>\n",
              "      <td>4.280773e+08</td>\n",
              "      <td>1.114291e+06</td>\n",
              "      <td>1442.993013</td>\n",
              "      <td>16094.969178</td>\n",
              "      <td>109741.064986</td>\n",
              "      <td>1262.575700</td>\n",
              "      <td>27679.008329</td>\n",
              "      <td>40544.277759</td>\n",
              "      <td>0.0</td>\n",
              "      <td>0.0</td>\n",
              "      <td>27702.971729</td>\n",
              "      <td>16.359149</td>\n",
              "    </tr>\n",
              "  </tbody>\n",
              "</table>\n",
              "</div>"
            ],
            "text/plain": [
              "        produv_time      0       plavka_NMZ  ... T фурмы 2   O2_pressure     VES/O2\n",
              "NPLV                                         ...                                   \n",
              "510008       1170.0  76200  С255             ...       0.0  23590.059203  19.449256\n",
              "510009       1230.0  78600  С255             ...       0.0  39933.847095   7.099282\n",
              "510010       1226.0  76300  Ст3пс/Э          ...       0.0  27790.498377  15.130747\n",
              "510011       1058.0  84100  Св-08А.z02       ...       0.0  23337.250315  19.425180\n",
              "510012       1239.0  76100  SC2M/ЭТ          ...       0.0  27702.971729  16.359149\n",
              "\n",
              "[5 rows x 41 columns]"
            ]
          },
          "metadata": {},
          "execution_count": 408
        }
      ]
    },
    {
      "cell_type": "markdown",
      "metadata": {
        "id": "UzDAEbd91cwj"
      },
      "source": [
        "В целевой переменной пропуски. Заменим на медиану"
      ]
    },
    {
      "cell_type": "code",
      "metadata": {
        "id": "2ZB7GLKjKKV3"
      },
      "source": [
        "target_train['C'] = target_train['C'].fillna(target_train['C'].median())\n",
        "X_train = features.merge(target_train, on='NPLV', how='left')"
      ],
      "execution_count": null,
      "outputs": []
    },
    {
      "cell_type": "markdown",
      "metadata": {
        "id": "GuBiU5TiuWr3"
      },
      "source": [
        "<a href=\"#footer\">К содержанию</a>\n",
        "<footer id=\"footer\"></footer>\n",
        "\n",
        "___"
      ]
    },
    {
      "cell_type": "markdown",
      "metadata": {
        "id": "4tMiGE0oIKjq"
      },
      "source": [
        "## Отбор признаков"
      ]
    },
    {
      "cell_type": "markdown",
      "metadata": {
        "id": "Utk6VTup1gj_"
      },
      "source": [
        "Провдем отбор признаков. Предсказывать будет отдельно целевые переменные. Темепратуру и углерод - отдельно. Для каждого отбирать свои признаки"
      ]
    },
    {
      "cell_type": "code",
      "metadata": {
        "id": "EfPLMGNMIZLv"
      },
      "source": [
        "X_t = X_train.drop(['TST', 'C'], axis=1)\n",
        "y_temerature = X_train['TST']\n",
        "y_carbon = X_train['C']"
      ],
      "execution_count": null,
      "outputs": []
    },
    {
      "cell_type": "code",
      "metadata": {
        "id": "Wy7S06LhISsm"
      },
      "source": [
        "cols = list(X_t.columns)\n",
        "cat_cols = list(X_t.select_dtypes(['object', 'category']).columns)\n",
        "params = { 'eval_metric': 'RMSE', \n",
        "          'objective': 'RMSE', \n",
        "          'eta':0.05,\n",
        "          'n_estimators': 10000,           \n",
        "          'l2_leaf_reg': 50,  \n",
        "          'random_state': 42,\n",
        "          'cat_features':cat_cols, \n",
        "          'verbose':200            \n",
        "               }"
      ],
      "execution_count": null,
      "outputs": []
    },
    {
      "cell_type": "markdown",
      "metadata": {
        "id": "fWVL23FJBPxF"
      },
      "source": [
        "### Температура отбор"
      ]
    },
    {
      "cell_type": "markdown",
      "metadata": {
        "id": "zWzBIA1H1oPI"
      },
      "source": [
        "Для начала отберем для температуры"
      ]
    },
    {
      "cell_type": "code",
      "metadata": {
        "colab": {
          "base_uri": "https://localhost:8080/"
        },
        "id": "eCG6I94LBTsj",
        "outputId": "74c339a3-c0e1-4276-d139-5b65e86dd03d"
      },
      "source": [
        "estimator = CatBoostRegressor(**params, )\n",
        "selector = FeatureSelection(estimator, n_features_to_select=20, columns=cols)\n",
        "selector.fit(X_t, y_temerature)"
      ],
      "execution_count": null,
      "outputs": [
        {
          "output_type": "stream",
          "name": "stdout",
          "text": [
            "0:\tlearn: 30.6563183\ttest: 30.1323345\tbest: 30.1323345 (0)\ttotal: 13.2ms\tremaining: 2m 12s\n",
            "200:\tlearn: 24.8115227\ttest: 25.7428294\tbest: 25.7428294 (200)\ttotal: 2.25s\tremaining: 1m 49s\n",
            "400:\tlearn: 21.9777476\ttest: 25.1199829\tbest: 25.1140969 (397)\ttotal: 4.44s\tremaining: 1m 46s\n",
            "600:\tlearn: 20.3036427\ttest: 24.9324237\tbest: 24.9267112 (595)\ttotal: 6.63s\tremaining: 1m 43s\n",
            "800:\tlearn: 18.9943449\ttest: 24.8170455\tbest: 24.8170455 (800)\ttotal: 8.79s\tremaining: 1m 40s\n",
            "1000:\tlearn: 17.6776641\ttest: 24.7232661\tbest: 24.7149237 (964)\ttotal: 11s\tremaining: 1m 38s\n",
            "1200:\tlearn: 16.5815014\ttest: 24.6813066\tbest: 24.6772112 (1188)\ttotal: 13.2s\tremaining: 1m 36s\n",
            "1400:\tlearn: 15.5948799\ttest: 24.7041538\tbest: 24.6730522 (1232)\ttotal: 15.3s\tremaining: 1m 34s\n",
            "Stopped by overfitting detector  (200 iterations wait)\n",
            "\n",
            "bestTest = 24.67305217\n",
            "bestIteration = 1232\n",
            "\n",
            "Shrink model to first 1233 iterations.\n"
          ]
        },
        {
          "output_type": "execute_result",
          "data": {
            "text/plain": [
              "FeatureSelection(columns=['produv_time', 0, 'plavka_NMZ', 'plavka_NAPR_ZAD',\n",
              "                          'plavka_STFUT', 'plavka_TIPE_FUR', 'plavka_ST_FURM',\n",
              "                          'plavka_TIPE_GOL', 'plavka_ST_GOL', 'RAS', 'POL',\n",
              "                          'sip_VES_VDSYP104', 'sip_VES_VDSYP119',\n",
              "                          'sip_VES_VDSYP171', 'sip_VES_VDSYP346',\n",
              "                          'sip_VES_VDSYP397', 'sip_VES_VDSYP408',\n",
              "                          'sip_VES_VDSYP442', 'VES', 'T_x', 'SI', 'MN', 'S',\n",
              "                          'P', 'CR', 'NI', 'CU', 'V_x', 'TI', 'V_y', ...],\n",
              "                 estimator=<catboost.core.CatBoostRegressor object at 0x7f4fc0eca6d0>,\n",
              "                 n_features_to_select=20)"
            ]
          },
          "metadata": {},
          "execution_count": 412
        }
      ]
    },
    {
      "cell_type": "code",
      "metadata": {
        "id": "nUuCt7XmIp-6"
      },
      "source": [
        "X_temperature = selector.transform(X_t)\n",
        "X_test_temperature = selector.transform(test)"
      ],
      "execution_count": null,
      "outputs": []
    },
    {
      "cell_type": "code",
      "metadata": {
        "colab": {
          "base_uri": "https://localhost:8080/",
          "height": 255
        },
        "id": "adRenWpII1gt",
        "outputId": "da5f3aef-4f0c-4c29-a010-4ee68b4fa7bf"
      },
      "source": [
        "X_temperature.head()"
      ],
      "execution_count": null,
      "outputs": [
        {
          "output_type": "execute_result",
          "data": {
            "text/html": [
              "<div>\n",
              "<style scoped>\n",
              "    .dataframe tbody tr th:only-of-type {\n",
              "        vertical-align: middle;\n",
              "    }\n",
              "\n",
              "    .dataframe tbody tr th {\n",
              "        vertical-align: top;\n",
              "    }\n",
              "\n",
              "    .dataframe thead th {\n",
              "        text-align: right;\n",
              "    }\n",
              "</style>\n",
              "<table border=\"1\" class=\"dataframe\">\n",
              "  <thead>\n",
              "    <tr style=\"text-align: right;\">\n",
              "      <th></th>\n",
              "      <th>produv_time</th>\n",
              "      <th>plavka_NMZ</th>\n",
              "      <th>H2</th>\n",
              "      <th>CO</th>\n",
              "      <th>T_x</th>\n",
              "      <th>plavka_NAPR_ZAD</th>\n",
              "      <th>POL</th>\n",
              "      <th>sip_VES_VDSYP346</th>\n",
              "      <th>0</th>\n",
              "      <th>T_y</th>\n",
              "      <th>sip_VES_VDSYP442</th>\n",
              "      <th>RAS</th>\n",
              "      <th>CO2</th>\n",
              "      <th>VES</th>\n",
              "      <th>sip_VES_VDSYP408</th>\n",
              "      <th>plavka_ST_GOL</th>\n",
              "      <th>plavka_ST_FURM</th>\n",
              "      <th>SI</th>\n",
              "      <th>MN</th>\n",
              "      <th>O2</th>\n",
              "    </tr>\n",
              "    <tr>\n",
              "      <th>NPLV</th>\n",
              "      <th></th>\n",
              "      <th></th>\n",
              "      <th></th>\n",
              "      <th></th>\n",
              "      <th></th>\n",
              "      <th></th>\n",
              "      <th></th>\n",
              "      <th></th>\n",
              "      <th></th>\n",
              "      <th></th>\n",
              "      <th></th>\n",
              "      <th></th>\n",
              "      <th></th>\n",
              "      <th></th>\n",
              "      <th></th>\n",
              "      <th></th>\n",
              "      <th></th>\n",
              "      <th></th>\n",
              "      <th></th>\n",
              "      <th></th>\n",
              "    </tr>\n",
              "  </thead>\n",
              "  <tbody>\n",
              "    <tr>\n",
              "      <th>510008</th>\n",
              "      <td>1170.0</td>\n",
              "      <td>С255</td>\n",
              "      <td>768.501531</td>\n",
              "      <td>41090.015328</td>\n",
              "      <td>1396.0</td>\n",
              "      <td>МНЛЗ</td>\n",
              "      <td>7.070000</td>\n",
              "      <td>2950</td>\n",
              "      <td>76200</td>\n",
              "      <td>1.086623e+06</td>\n",
              "      <td>2960</td>\n",
              "      <td>965.0</td>\n",
              "      <td>26198.693282</td>\n",
              "      <td>263700.0</td>\n",
              "      <td>14080</td>\n",
              "      <td>11</td>\n",
              "      <td>11</td>\n",
              "      <td>0.44</td>\n",
              "      <td>0.22</td>\n",
              "      <td>13558.359520</td>\n",
              "    </tr>\n",
              "    <tr>\n",
              "      <th>510009</th>\n",
              "      <td>1230.0</td>\n",
              "      <td>С255</td>\n",
              "      <td>644.838259</td>\n",
              "      <td>44161.639846</td>\n",
              "      <td>1419.0</td>\n",
              "      <td>МНЛЗ</td>\n",
              "      <td>4.760000</td>\n",
              "      <td>2930</td>\n",
              "      <td>78600</td>\n",
              "      <td>1.224648e+06</td>\n",
              "      <td>0</td>\n",
              "      <td>1026.0</td>\n",
              "      <td>28763.522472</td>\n",
              "      <td>264500.0</td>\n",
              "      <td>18830</td>\n",
              "      <td>12</td>\n",
              "      <td>12</td>\n",
              "      <td>0.68</td>\n",
              "      <td>0.20</td>\n",
              "      <td>37257.286306</td>\n",
              "    </tr>\n",
              "    <tr>\n",
              "      <th>510010</th>\n",
              "      <td>1226.0</td>\n",
              "      <td>Ст3пс/Э</td>\n",
              "      <td>880.935583</td>\n",
              "      <td>41790.572992</td>\n",
              "      <td>1384.0</td>\n",
              "      <td>Изл</td>\n",
              "      <td>4.083052</td>\n",
              "      <td>2990</td>\n",
              "      <td>76300</td>\n",
              "      <td>1.182742e+06</td>\n",
              "      <td>2960</td>\n",
              "      <td>1029.0</td>\n",
              "      <td>27734.861027</td>\n",
              "      <td>263800.0</td>\n",
              "      <td>16080</td>\n",
              "      <td>13</td>\n",
              "      <td>13</td>\n",
              "      <td>0.56</td>\n",
              "      <td>0.26</td>\n",
              "      <td>17434.697154</td>\n",
              "    </tr>\n",
              "    <tr>\n",
              "      <th>510011</th>\n",
              "      <td>1058.0</td>\n",
              "      <td>Св-08А.z02</td>\n",
              "      <td>306.418999</td>\n",
              "      <td>38422.515437</td>\n",
              "      <td>1401.0</td>\n",
              "      <td>Изл</td>\n",
              "      <td>12.490000</td>\n",
              "      <td>3620</td>\n",
              "      <td>84100</td>\n",
              "      <td>9.548288e+05</td>\n",
              "      <td>0</td>\n",
              "      <td>988.0</td>\n",
              "      <td>24205.811431</td>\n",
              "      <td>264000.0</td>\n",
              "      <td>22150</td>\n",
              "      <td>14</td>\n",
              "      <td>14</td>\n",
              "      <td>0.48</td>\n",
              "      <td>0.27</td>\n",
              "      <td>13590.607952</td>\n",
              "    </tr>\n",
              "    <tr>\n",
              "      <th>510012</th>\n",
              "      <td>1239.0</td>\n",
              "      <td>SC2M/ЭТ</td>\n",
              "      <td>1262.575700</td>\n",
              "      <td>40544.277759</td>\n",
              "      <td>1422.0</td>\n",
              "      <td>МНЛС</td>\n",
              "      <td>5.000000</td>\n",
              "      <td>2930</td>\n",
              "      <td>76100</td>\n",
              "      <td>1.114291e+06</td>\n",
              "      <td>3010</td>\n",
              "      <td>995.0</td>\n",
              "      <td>27679.008329</td>\n",
              "      <td>263300.0</td>\n",
              "      <td>19550</td>\n",
              "      <td>15</td>\n",
              "      <td>15</td>\n",
              "      <td>0.47</td>\n",
              "      <td>0.23</td>\n",
              "      <td>16094.969178</td>\n",
              "    </tr>\n",
              "  </tbody>\n",
              "</table>\n",
              "</div>"
            ],
            "text/plain": [
              "        produv_time       plavka_NMZ           H2  ...    SI    MN            O2\n",
              "NPLV                                               ...                          \n",
              "510008       1170.0  С255              768.501531  ...  0.44  0.22  13558.359520\n",
              "510009       1230.0  С255              644.838259  ...  0.68  0.20  37257.286306\n",
              "510010       1226.0  Ст3пс/Э           880.935583  ...  0.56  0.26  17434.697154\n",
              "510011       1058.0  Св-08А.z02        306.418999  ...  0.48  0.27  13590.607952\n",
              "510012       1239.0  SC2M/ЭТ          1262.575700  ...  0.47  0.23  16094.969178\n",
              "\n",
              "[5 rows x 20 columns]"
            ]
          },
          "metadata": {},
          "execution_count": 414
        }
      ]
    },
    {
      "cell_type": "markdown",
      "metadata": {
        "id": "LL7HFoeYJb_q"
      },
      "source": [
        "### TargetEncoding"
      ]
    },
    {
      "cell_type": "markdown",
      "metadata": {
        "id": "1yTuXyN-1yKQ"
      },
      "source": [
        "Закодируем категориальные переменные через целевую. Чтобы не было утечек - обучать класс будем на валидации"
      ]
    },
    {
      "cell_type": "code",
      "metadata": {
        "id": "SymY6bWEQ3eo"
      },
      "source": [
        "X = X_temperature.copy()\n",
        "X_test = X_test_temperature.copy()"
      ],
      "execution_count": null,
      "outputs": []
    },
    {
      "cell_type": "code",
      "metadata": {
        "id": "Rv-UVoyrHgDi"
      },
      "source": [
        "X_encode = X.sample(frac=0.25)\n",
        "y_encode = y_temerature.loc[X_encode.index]\n",
        "X_pretrain = X.drop(X_encode.index)\n",
        "y_train = y_temerature.loc[X_pretrain.index]"
      ],
      "execution_count": null,
      "outputs": []
    },
    {
      "cell_type": "code",
      "metadata": {
        "id": "mTakFXvUG6Hu"
      },
      "source": [
        "encoder = MEstimateEncoder(cols=['plavka_NMZ'], m=5)\n",
        "encoder.fit(X_encode, y_encode)\n",
        "\n",
        "X_train = encoder.transform(X_pretrain)\n",
        "X_test  = encoder.transform(X_test)"
      ],
      "execution_count": null,
      "outputs": []
    },
    {
      "cell_type": "code",
      "metadata": {
        "id": "HmVz3zuacmF_"
      },
      "source": [
        "cat_features = list(X_train.select_dtypes(include=(['object', 'category'])).columns)"
      ],
      "execution_count": null,
      "outputs": []
    },
    {
      "cell_type": "code",
      "metadata": {
        "colab": {
          "base_uri": "https://localhost:8080/"
        },
        "id": "wvUwbqUUvz1S",
        "outputId": "d8622637-4e53-4ae4-9071-ede19ef25f5e"
      },
      "source": [
        "cat_features"
      ],
      "execution_count": null,
      "outputs": [
        {
          "output_type": "execute_result",
          "data": {
            "text/plain": [
              "['plavka_NAPR_ZAD', 'plavka_ST_GOL', 'plavka_ST_FURM']"
            ]
          },
          "metadata": {},
          "execution_count": 419
        }
      ]
    },
    {
      "cell_type": "markdown",
      "metadata": {
        "id": "BJpu9ihE14GQ"
      },
      "source": [
        "Теперь можем получить первые предсказания для первой переменной"
      ]
    },
    {
      "cell_type": "markdown",
      "metadata": {
        "id": "NkBQQ-IuWh1a"
      },
      "source": [
        "### CatBoost"
      ]
    },
    {
      "cell_type": "code",
      "metadata": {
        "id": "HS79DCN8D6ES"
      },
      "source": [
        "params = { 'eval_metric': 'RMSE', \n",
        "          'objective': 'RMSE', \n",
        "          'eta':0.05,\n",
        "          'n_estimators': 10000,           \n",
        "          'l2_leaf_reg': 50,  \n",
        "          'random_state': 42,\n",
        "          'cat_features':cat_features, \n",
        "          'verbose':200            \n",
        "               }"
      ],
      "execution_count": null,
      "outputs": []
    },
    {
      "cell_type": "markdown",
      "metadata": {
        "id": "TikQ1JyX_r44"
      },
      "source": [
        "#### Температура\n"
      ]
    },
    {
      "cell_type": "code",
      "metadata": {
        "colab": {
          "base_uri": "https://localhost:8080/"
        },
        "id": "kOTBc2xdQ3eo",
        "outputId": "996bcd5c-a048-4156-9ac7-66c521f1b478"
      },
      "source": [
        "folds = 5\n",
        "kfold = KFold(n_splits=folds, random_state=42, shuffle = True)\n",
        "\n",
        "predictions_valid = np.zeros((X_train.shape[0]))\n",
        "predictions = np.zeros((X_test_temperature.shape[0]))\n",
        "score = 0\n",
        "\n",
        "for fold, (train_idx, valid_idx) in enumerate(kfold.split(X_train)):\n",
        "    train_X = X_train.iloc[train_idx]\n",
        "    valid_X = X_train.iloc[valid_idx]\n",
        "    train_y = y_train.iloc[train_idx]\n",
        "    valid_y = y_train.iloc[valid_idx]        \n",
        "\n",
        "\n",
        "    \n",
        "\n",
        "    model = CatBoostRegressor(**params)\n",
        "    model.fit(train_X, train_y,\n",
        "              eval_set = [(valid_X, valid_y)],\n",
        "              early_stopping_rounds = 200,\n",
        "              verbose = 200\n",
        "             )\n",
        "\n",
        "\n",
        "    predictions += model.predict(X_test) / folds\n",
        "\n",
        "    predictions_valid = model.predict(valid_X)\n",
        "    fold_score = ((valid_y - predictions_valid).abs() < 20).mean()\n",
        "    print(f\"Fold {fold} | Metric: {fold_score:.3f}\\n\")\n",
        "\n",
        "    score += fold_score / folds\n",
        "    \n",
        "print(f\"Overall Metric: {score:.6f}\\n\")"
      ],
      "execution_count": null,
      "outputs": [
        {
          "output_type": "stream",
          "name": "stdout",
          "text": [
            "0:\tlearn: 30.0942958\ttest: 32.6282965\tbest: 32.6282965 (0)\ttotal: 6.57ms\tremaining: 1m 5s\n",
            "200:\tlearn: 23.7131196\ttest: 28.5525956\tbest: 28.5525956 (200)\ttotal: 1.18s\tremaining: 57.4s\n",
            "400:\tlearn: 20.4507847\ttest: 28.0999980\tbest: 28.0979181 (390)\ttotal: 2.35s\tremaining: 56.4s\n",
            "600:\tlearn: 18.5064696\ttest: 27.9924960\tbest: 27.9862800 (574)\ttotal: 3.56s\tremaining: 55.7s\n",
            "800:\tlearn: 17.0456335\ttest: 27.8854547\tbest: 27.8852327 (799)\ttotal: 4.72s\tremaining: 54.2s\n",
            "1000:\tlearn: 15.9798917\ttest: 27.8880758\tbest: 27.8614801 (850)\ttotal: 5.86s\tremaining: 52.7s\n",
            "Stopped by overfitting detector  (200 iterations wait)\n",
            "\n",
            "bestTest = 27.86148014\n",
            "bestIteration = 850\n",
            "\n",
            "Shrink model to first 851 iterations.\n",
            "Fold 0 | Metric: 0.552\n",
            "\n",
            "0:\tlearn: 31.0620361\ttest: 28.6458686\tbest: 28.6458686 (0)\ttotal: 6.24ms\tremaining: 1m 2s\n",
            "200:\tlearn: 24.3754024\ttest: 25.1928884\tbest: 25.1928884 (200)\ttotal: 1.14s\tremaining: 55.4s\n",
            "400:\tlearn: 21.4071093\ttest: 24.6980541\tbest: 24.6971276 (399)\ttotal: 2.28s\tremaining: 54.5s\n",
            "600:\tlearn: 19.6705757\ttest: 24.5035352\tbest: 24.4999127 (597)\ttotal: 3.42s\tremaining: 53.5s\n",
            "800:\tlearn: 18.2323043\ttest: 24.3952567\tbest: 24.3950208 (799)\ttotal: 4.56s\tremaining: 52.4s\n",
            "1000:\tlearn: 16.8696244\ttest: 24.3007282\tbest: 24.2996943 (996)\ttotal: 5.73s\tremaining: 51.5s\n",
            "1200:\tlearn: 15.7066724\ttest: 24.2502326\tbest: 24.2497665 (1198)\ttotal: 6.91s\tremaining: 50.6s\n",
            "1400:\tlearn: 14.8467877\ttest: 24.1924648\tbest: 24.1907663 (1371)\ttotal: 8.08s\tremaining: 49.6s\n",
            "1600:\tlearn: 14.0476417\ttest: 24.1525354\tbest: 24.1457125 (1582)\ttotal: 9.21s\tremaining: 48.3s\n",
            "1800:\tlearn: 13.2318739\ttest: 24.1458898\tbest: 24.1229311 (1728)\ttotal: 10.3s\tremaining: 47.1s\n",
            "Stopped by overfitting detector  (200 iterations wait)\n",
            "\n",
            "bestTest = 24.12293108\n",
            "bestIteration = 1728\n",
            "\n",
            "Shrink model to first 1729 iterations.\n",
            "Fold 1 | Metric: 0.632\n",
            "\n",
            "0:\tlearn: 30.3350090\ttest: 31.7323899\tbest: 31.7323899 (0)\ttotal: 9.18ms\tremaining: 1m 31s\n",
            "200:\tlearn: 23.3808464\ttest: 29.0787610\tbest: 29.0750129 (199)\ttotal: 1.12s\tremaining: 54.6s\n",
            "400:\tlearn: 20.4171922\ttest: 28.6805338\tbest: 28.6742015 (390)\ttotal: 2.27s\tremaining: 54.4s\n",
            "600:\tlearn: 18.8963432\ttest: 28.5583925\tbest: 28.5545123 (565)\ttotal: 3.4s\tremaining: 53.2s\n",
            "800:\tlearn: 17.4016512\ttest: 28.4228116\tbest: 28.4221137 (796)\ttotal: 4.56s\tremaining: 52.4s\n",
            "1000:\tlearn: 16.0636031\ttest: 28.4199834\tbest: 28.4106075 (991)\ttotal: 5.72s\tremaining: 51.4s\n",
            "1200:\tlearn: 15.0810071\ttest: 28.3622463\tbest: 28.3450561 (1138)\ttotal: 6.9s\tremaining: 50.5s\n",
            "1400:\tlearn: 14.1163467\ttest: 28.3694544\tbest: 28.3218420 (1328)\ttotal: 8.05s\tremaining: 49.4s\n",
            "Stopped by overfitting detector  (200 iterations wait)\n",
            "\n",
            "bestTest = 28.32184202\n",
            "bestIteration = 1328\n",
            "\n",
            "Shrink model to first 1329 iterations.\n",
            "Fold 2 | Metric: 0.573\n",
            "\n",
            "0:\tlearn: 30.6554107\ttest: 30.4624357\tbest: 30.4624357 (0)\ttotal: 6.53ms\tremaining: 1m 5s\n",
            "200:\tlearn: 24.4173726\ttest: 26.2863332\tbest: 26.2863332 (200)\ttotal: 1.15s\tremaining: 56s\n",
            "400:\tlearn: 22.6912853\ttest: 26.0934335\tbest: 26.0717196 (387)\ttotal: 2.27s\tremaining: 54.3s\n",
            "600:\tlearn: 20.1079731\ttest: 25.9305196\tbest: 25.9250825 (597)\ttotal: 3.41s\tremaining: 53.3s\n",
            "800:\tlearn: 17.7919673\ttest: 25.8450283\tbest: 25.8304377 (757)\ttotal: 4.55s\tremaining: 52.3s\n",
            "1000:\tlearn: 16.2998753\ttest: 25.8805389\tbest: 25.8233657 (830)\ttotal: 5.74s\tremaining: 51.6s\n",
            "Stopped by overfitting detector  (200 iterations wait)\n",
            "\n",
            "bestTest = 25.82336569\n",
            "bestIteration = 830\n",
            "\n",
            "Shrink model to first 831 iterations.\n",
            "Fold 3 | Metric: 0.557\n",
            "\n",
            "0:\tlearn: 30.8183893\ttest: 29.6799086\tbest: 29.6799086 (0)\ttotal: 7.23ms\tremaining: 1m 12s\n",
            "200:\tlearn: 24.0696607\ttest: 26.8357830\tbest: 26.8357830 (200)\ttotal: 1.12s\tremaining: 54.8s\n",
            "400:\tlearn: 21.6457028\ttest: 26.5416432\tbest: 26.5369827 (363)\ttotal: 2.26s\tremaining: 54.2s\n",
            "600:\tlearn: 19.6608948\ttest: 26.4141817\tbest: 26.3872740 (592)\ttotal: 3.4s\tremaining: 53.2s\n",
            "800:\tlearn: 17.4546502\ttest: 26.3189891\tbest: 26.2930381 (732)\ttotal: 4.57s\tremaining: 52.4s\n",
            "Stopped by overfitting detector  (200 iterations wait)\n",
            "\n",
            "bestTest = 26.2930381\n",
            "bestIteration = 732\n",
            "\n",
            "Shrink model to first 733 iterations.\n",
            "Fold 4 | Metric: 0.563\n",
            "\n",
            "Overall Metric: 0.575286\n",
            "\n"
          ]
        }
      ]
    },
    {
      "cell_type": "code",
      "metadata": {
        "colab": {
          "base_uri": "https://localhost:8080/"
        },
        "id": "0Z8kaAeHQ3ep",
        "outputId": "d81fe9de-8fde-46f6-a403-fa8f6c19882a"
      },
      "source": [
        "predictions[:5]"
      ],
      "execution_count": null,
      "outputs": [
        {
          "output_type": "execute_result",
          "data": {
            "text/plain": [
              "array([1658.20420761, 1651.12610315, 1656.16316032, 1666.53585339,\n",
              "       1646.81480941])"
            ]
          },
          "metadata": {},
          "execution_count": 423
        }
      ]
    },
    {
      "cell_type": "code",
      "metadata": {
        "id": "0HuEIAHqQ3ep"
      },
      "source": [
        "sample_sub['TST'] = predictions"
      ],
      "execution_count": null,
      "outputs": []
    },
    {
      "cell_type": "code",
      "metadata": {
        "colab": {
          "base_uri": "https://localhost:8080/",
          "height": 204
        },
        "id": "uCKYOX3uErn3",
        "outputId": "49d0a462-666e-4b6b-ea78-fbdeb3350d5e"
      },
      "source": [
        "sample_sub.head()"
      ],
      "execution_count": null,
      "outputs": [
        {
          "output_type": "execute_result",
          "data": {
            "text/html": [
              "<div>\n",
              "<style scoped>\n",
              "    .dataframe tbody tr th:only-of-type {\n",
              "        vertical-align: middle;\n",
              "    }\n",
              "\n",
              "    .dataframe tbody tr th {\n",
              "        vertical-align: top;\n",
              "    }\n",
              "\n",
              "    .dataframe thead th {\n",
              "        text-align: right;\n",
              "    }\n",
              "</style>\n",
              "<table border=\"1\" class=\"dataframe\">\n",
              "  <thead>\n",
              "    <tr style=\"text-align: right;\">\n",
              "      <th></th>\n",
              "      <th>NPLV</th>\n",
              "      <th>TST</th>\n",
              "      <th>C</th>\n",
              "    </tr>\n",
              "  </thead>\n",
              "  <tbody>\n",
              "    <tr>\n",
              "      <th>0</th>\n",
              "      <td>512324</td>\n",
              "      <td>1658.204208</td>\n",
              "      <td>0.046000</td>\n",
              "    </tr>\n",
              "    <tr>\n",
              "      <th>1</th>\n",
              "      <td>512327</td>\n",
              "      <td>1651.126103</td>\n",
              "      <td>0.056606</td>\n",
              "    </tr>\n",
              "    <tr>\n",
              "      <th>2</th>\n",
              "      <td>512328</td>\n",
              "      <td>1656.163160</td>\n",
              "      <td>0.067866</td>\n",
              "    </tr>\n",
              "    <tr>\n",
              "      <th>3</th>\n",
              "      <td>512331</td>\n",
              "      <td>1666.535853</td>\n",
              "      <td>0.057567</td>\n",
              "    </tr>\n",
              "    <tr>\n",
              "      <th>4</th>\n",
              "      <td>512333</td>\n",
              "      <td>1646.814809</td>\n",
              "      <td>0.070200</td>\n",
              "    </tr>\n",
              "  </tbody>\n",
              "</table>\n",
              "</div>"
            ],
            "text/plain": [
              "     NPLV          TST         C\n",
              "0  512324  1658.204208  0.046000\n",
              "1  512327  1651.126103  0.056606\n",
              "2  512328  1656.163160  0.067866\n",
              "3  512331  1666.535853  0.057567\n",
              "4  512333  1646.814809  0.070200"
            ]
          },
          "metadata": {},
          "execution_count": 425
        }
      ]
    },
    {
      "cell_type": "markdown",
      "metadata": {
        "id": "oEdoFOSC19ed"
      },
      "source": [
        "Пока есть трудности с предсказаниями длинных хвостов"
      ]
    },
    {
      "cell_type": "code",
      "metadata": {
        "colab": {
          "base_uri": "https://localhost:8080/",
          "height": 334
        },
        "id": "V_J5cLyrNrEw",
        "outputId": "7abb7f95-5e98-4a8c-cb3b-96bfa196123d"
      },
      "source": [
        "fig = plt.figure(figsize=(15,5))\n",
        "sns.kdeplot(data=y_train, x=y_train, label='real')\n",
        "sns.kdeplot(data=sample_sub, x='TST', label='overfitted')\n",
        "plt.legend(loc=\"upper right\")\n",
        "plt.show()"
      ],
      "execution_count": null,
      "outputs": [
        {
          "output_type": "display_data",
          "data": {
            "image/png": "[encoded data removed]",
            "text/plain": [
              "<Figure size 1080x360 with 1 Axes>"
            ]
          },
          "metadata": {
            "needs_background": "light"
          }
        }
      ]
    },
    {
      "cell_type": "code",
      "metadata": {
        "id": "1Gz0hgteF4qx"
      },
      "source": [
        "cols = list(X_t.columns)\n",
        "cat_cols = list(X_t.select_dtypes(['object', 'category']).columns)\n",
        "params = { 'eval_metric': 'RMSE', \n",
        "          'objective': 'RMSE',            \n",
        "          'l2_leaf_reg': 50,  \n",
        "          'random_state': 42,\n",
        "          'cat_features':cat_cols, \n",
        "          'verbose':200            \n",
        "               }"
      ],
      "execution_count": null,
      "outputs": []
    },
    {
      "cell_type": "markdown",
      "metadata": {
        "id": "tUKRD8_VF4qx"
      },
      "source": [
        "### Углеродный отбор"
      ]
    },
    {
      "cell_type": "markdown",
      "metadata": {
        "id": "v2qV--T82B2x"
      },
      "source": [
        "Отберем признаки для углерода"
      ]
    },
    {
      "cell_type": "code",
      "metadata": {
        "colab": {
          "base_uri": "https://localhost:8080/"
        },
        "id": "Z3wqidcEF4qx",
        "outputId": "85099dbc-3ff1-465f-9b77-316d0595daf6"
      },
      "source": [
        "estimator = CatBoostRegressor(**params, )\n",
        "selector = FeatureSelection(estimator, n_features_to_select=20, columns=cols)\n",
        "X = selector.fit(X_t, y_carbon)"
      ],
      "execution_count": null,
      "outputs": [
        {
          "output_type": "stream",
          "name": "stderr",
          "text": [
            "Custom logger is already specified. Specify more than one logger at same time is not thread safe."
          ]
        },
        {
          "output_type": "stream",
          "name": "stdout",
          "text": [
            "0:\tlearn: 0.1021531\ttest: 0.0926118\tbest: 0.0926118 (0)\ttotal: 12.6ms\tremaining: 12.6s\n",
            "200:\tlearn: 0.0647954\ttest: 0.0560252\tbest: 0.0560252 (200)\ttotal: 2.07s\tremaining: 8.22s\n",
            "400:\tlearn: 0.0556800\ttest: 0.0528268\tbest: 0.0528268 (400)\ttotal: 4.2s\tremaining: 6.28s\n",
            "600:\tlearn: 0.0506037\ttest: 0.0517420\tbest: 0.0517418 (598)\ttotal: 6.29s\tremaining: 4.18s\n",
            "800:\tlearn: 0.0473024\ttest: 0.0513967\tbest: 0.0513915 (793)\ttotal: 8.39s\tremaining: 2.08s\n",
            "999:\tlearn: 0.0444584\ttest: 0.0510508\tbest: 0.0510436 (990)\ttotal: 10.5s\tremaining: 0us\n",
            "\n",
            "bestTest = 0.05104357549\n",
            "bestIteration = 990\n",
            "\n",
            "Shrink model to first 991 iterations.\n"
          ]
        }
      ]
    },
    {
      "cell_type": "code",
      "metadata": {
        "id": "_lBQQSdAF4qx"
      },
      "source": [
        "X_carbon = selector.transform(X_t)\n",
        "X_test_carbon = selector.transform(test)"
      ],
      "execution_count": null,
      "outputs": []
    },
    {
      "cell_type": "code",
      "metadata": {
        "colab": {
          "base_uri": "https://localhost:8080/",
          "height": 255
        },
        "id": "_5_G5I8PF4qx",
        "outputId": "d3a2fae5-84cb-456a-f4f2-6838b4197310"
      },
      "source": [
        "X_carbon.head()"
      ],
      "execution_count": null,
      "outputs": [
        {
          "output_type": "execute_result",
          "data": {
            "text/html": [
              "<div>\n",
              "<style scoped>\n",
              "    .dataframe tbody tr th:only-of-type {\n",
              "        vertical-align: middle;\n",
              "    }\n",
              "\n",
              "    .dataframe tbody tr th {\n",
              "        vertical-align: top;\n",
              "    }\n",
              "\n",
              "    .dataframe thead th {\n",
              "        text-align: right;\n",
              "    }\n",
              "</style>\n",
              "<table border=\"1\" class=\"dataframe\">\n",
              "  <thead>\n",
              "    <tr style=\"text-align: right;\">\n",
              "      <th></th>\n",
              "      <th>plavka_NMZ</th>\n",
              "      <th>VES</th>\n",
              "      <th>sip_VES_VDSYP408</th>\n",
              "      <th>produv_time</th>\n",
              "      <th>plavka_NAPR_ZAD</th>\n",
              "      <th>CO</th>\n",
              "      <th>sip_VES_VDSYP346</th>\n",
              "      <th>POL</th>\n",
              "      <th>0</th>\n",
              "      <th>S</th>\n",
              "      <th>V_y</th>\n",
              "      <th>RAS</th>\n",
              "      <th>plavka_TIPE_GOL</th>\n",
              "      <th>sip_VES_VDSYP171</th>\n",
              "      <th>sip_VES_VDSYP442</th>\n",
              "      <th>T_x</th>\n",
              "      <th>TI</th>\n",
              "      <th>H2</th>\n",
              "      <th>plavka_ST_GOL</th>\n",
              "      <th>N2</th>\n",
              "    </tr>\n",
              "    <tr>\n",
              "      <th>NPLV</th>\n",
              "      <th></th>\n",
              "      <th></th>\n",
              "      <th></th>\n",
              "      <th></th>\n",
              "      <th></th>\n",
              "      <th></th>\n",
              "      <th></th>\n",
              "      <th></th>\n",
              "      <th></th>\n",
              "      <th></th>\n",
              "      <th></th>\n",
              "      <th></th>\n",
              "      <th></th>\n",
              "      <th></th>\n",
              "      <th></th>\n",
              "      <th></th>\n",
              "      <th></th>\n",
              "      <th></th>\n",
              "      <th></th>\n",
              "      <th></th>\n",
              "    </tr>\n",
              "  </thead>\n",
              "  <tbody>\n",
              "    <tr>\n",
              "      <th>510008</th>\n",
              "      <td>С255</td>\n",
              "      <td>263700.0</td>\n",
              "      <td>14080</td>\n",
              "      <td>1170.0</td>\n",
              "      <td>МНЛЗ</td>\n",
              "      <td>41090.015328</td>\n",
              "      <td>2950</td>\n",
              "      <td>7.070000</td>\n",
              "      <td>76200</td>\n",
              "      <td>0.023</td>\n",
              "      <td>3.846172e+08</td>\n",
              "      <td>965.0</td>\n",
              "      <td>5 сопловая</td>\n",
              "      <td>980</td>\n",
              "      <td>2960</td>\n",
              "      <td>1396.0</td>\n",
              "      <td>0.084</td>\n",
              "      <td>768.501531</td>\n",
              "      <td>11</td>\n",
              "      <td>94893.277851</td>\n",
              "    </tr>\n",
              "    <tr>\n",
              "      <th>510009</th>\n",
              "      <td>С255</td>\n",
              "      <td>264500.0</td>\n",
              "      <td>18830</td>\n",
              "      <td>1230.0</td>\n",
              "      <td>МНЛЗ</td>\n",
              "      <td>44161.639846</td>\n",
              "      <td>2930</td>\n",
              "      <td>4.760000</td>\n",
              "      <td>78600</td>\n",
              "      <td>0.017</td>\n",
              "      <td>6.096518e+08</td>\n",
              "      <td>1026.0</td>\n",
              "      <td>5 сопловая</td>\n",
              "      <td>960</td>\n",
              "      <td>0</td>\n",
              "      <td>1419.0</td>\n",
              "      <td>0.096</td>\n",
              "      <td>644.838259</td>\n",
              "      <td>12</td>\n",
              "      <td>167603.328371</td>\n",
              "    </tr>\n",
              "    <tr>\n",
              "      <th>510010</th>\n",
              "      <td>Ст3пс/Э</td>\n",
              "      <td>263800.0</td>\n",
              "      <td>16080</td>\n",
              "      <td>1226.0</td>\n",
              "      <td>Изл</td>\n",
              "      <td>41790.572992</td>\n",
              "      <td>2990</td>\n",
              "      <td>4.083052</td>\n",
              "      <td>76300</td>\n",
              "      <td>0.017</td>\n",
              "      <td>4.293470e+08</td>\n",
              "      <td>1029.0</td>\n",
              "      <td>5 сопловая</td>\n",
              "      <td>1050</td>\n",
              "      <td>2960</td>\n",
              "      <td>1384.0</td>\n",
              "      <td>0.110</td>\n",
              "      <td>880.935583</td>\n",
              "      <td>13</td>\n",
              "      <td>109578.402957</td>\n",
              "    </tr>\n",
              "    <tr>\n",
              "      <th>510011</th>\n",
              "      <td>Св-08А.z02</td>\n",
              "      <td>264000.0</td>\n",
              "      <td>22150</td>\n",
              "      <td>1058.0</td>\n",
              "      <td>Изл</td>\n",
              "      <td>38422.515437</td>\n",
              "      <td>3620</td>\n",
              "      <td>12.490000</td>\n",
              "      <td>84100</td>\n",
              "      <td>0.018</td>\n",
              "      <td>3.671527e+08</td>\n",
              "      <td>988.0</td>\n",
              "      <td>5 сопловая</td>\n",
              "      <td>980</td>\n",
              "      <td>0</td>\n",
              "      <td>1401.0</td>\n",
              "      <td>0.110</td>\n",
              "      <td>306.418999</td>\n",
              "      <td>14</td>\n",
              "      <td>89712.537841</td>\n",
              "    </tr>\n",
              "    <tr>\n",
              "      <th>510012</th>\n",
              "      <td>SC2M/ЭТ</td>\n",
              "      <td>263300.0</td>\n",
              "      <td>19550</td>\n",
              "      <td>1239.0</td>\n",
              "      <td>МНЛС</td>\n",
              "      <td>40544.277759</td>\n",
              "      <td>2930</td>\n",
              "      <td>5.000000</td>\n",
              "      <td>76100</td>\n",
              "      <td>0.018</td>\n",
              "      <td>4.280773e+08</td>\n",
              "      <td>995.0</td>\n",
              "      <td>5 сопловая</td>\n",
              "      <td>1000</td>\n",
              "      <td>3010</td>\n",
              "      <td>1422.0</td>\n",
              "      <td>0.070</td>\n",
              "      <td>1262.575700</td>\n",
              "      <td>15</td>\n",
              "      <td>109741.064986</td>\n",
              "    </tr>\n",
              "  </tbody>\n",
              "</table>\n",
              "</div>"
            ],
            "text/plain": [
              "             plavka_NMZ       VES  ...  plavka_ST_GOL             N2\n",
              "NPLV                               ...                              \n",
              "510008  С255             263700.0  ...             11   94893.277851\n",
              "510009  С255             264500.0  ...             12  167603.328371\n",
              "510010  Ст3пс/Э          263800.0  ...             13  109578.402957\n",
              "510011  Св-08А.z02       264000.0  ...             14   89712.537841\n",
              "510012  SC2M/ЭТ          263300.0  ...             15  109741.064986\n",
              "\n",
              "[5 rows x 20 columns]"
            ]
          },
          "metadata": {},
          "execution_count": 431
        }
      ]
    },
    {
      "cell_type": "markdown",
      "metadata": {
        "id": "xHEJxpE-F4qx"
      },
      "source": [
        "### TargetEncoding"
      ]
    },
    {
      "cell_type": "markdown",
      "metadata": {
        "id": "PjI4EsxS2EMJ"
      },
      "source": [
        "Аналогично закодируем через TargetEncoding категориальный признак"
      ]
    },
    {
      "cell_type": "code",
      "metadata": {
        "id": "FaC5Uz2pF4qx"
      },
      "source": [
        "X = X_carbon.copy()\n",
        "X_test = X_test_carbon.copy()"
      ],
      "execution_count": null,
      "outputs": []
    },
    {
      "cell_type": "code",
      "metadata": {
        "id": "dAtSD7XyF4qx"
      },
      "source": [
        "X_encode = X.sample(frac=0.25)\n",
        "y_encode = y_carbon.loc[X_encode.index]\n",
        "X_pretrain = X.drop(X_encode.index)\n",
        "y_train = y_carbon.loc[X_pretrain.index]"
      ],
      "execution_count": null,
      "outputs": []
    },
    {
      "cell_type": "code",
      "metadata": {
        "id": "BT57BuhyF4qx"
      },
      "source": [
        "encoder = MEstimateEncoder(cols=['plavka_NMZ'], m=5)\n",
        "encoder.fit(X_encode, y_encode)\n",
        "\n",
        "X_train = encoder.transform(X_pretrain)\n",
        "X_test  = encoder.transform(X_test)"
      ],
      "execution_count": null,
      "outputs": []
    },
    {
      "cell_type": "code",
      "metadata": {
        "id": "jeQVMmnNF4qx"
      },
      "source": [
        "cat_features = list(X_train.select_dtypes(include=(['object', 'category'])).columns)"
      ],
      "execution_count": null,
      "outputs": []
    },
    {
      "cell_type": "code",
      "metadata": {
        "colab": {
          "base_uri": "https://localhost:8080/"
        },
        "id": "AfAaOAhcF4qx",
        "outputId": "f1fda080-0791-4ae6-f8a8-b3b2cbf22174"
      },
      "source": [
        "cat_features"
      ],
      "execution_count": null,
      "outputs": [
        {
          "output_type": "execute_result",
          "data": {
            "text/plain": [
              "['plavka_NAPR_ZAD', 'plavka_TIPE_GOL', 'plavka_ST_GOL']"
            ]
          },
          "metadata": {},
          "execution_count": 436
        }
      ]
    },
    {
      "cell_type": "markdown",
      "metadata": {
        "id": "b1SsQiUEF4qx"
      },
      "source": [
        "### CatBoost"
      ]
    },
    {
      "cell_type": "code",
      "metadata": {
        "id": "Ub_yLF1qF4qx"
      },
      "source": [
        "params = { 'eval_metric': 'RMSE', \n",
        "          'objective': 'RMSE',            \n",
        "          'l2_leaf_reg': 50,  \n",
        "          'random_state': 42,\n",
        "          'cat_features':cat_features, \n",
        "          'verbose':200            \n",
        "               }"
      ],
      "execution_count": null,
      "outputs": []
    },
    {
      "cell_type": "markdown",
      "metadata": {
        "id": "6HIKhWHdF4qy"
      },
      "source": [
        "#### Углерод\n"
      ]
    },
    {
      "cell_type": "markdown",
      "metadata": {
        "id": "on5Sd9Wo2KgE"
      },
      "source": [
        "Получим предсказания"
      ]
    },
    {
      "cell_type": "code",
      "metadata": {
        "colab": {
          "base_uri": "https://localhost:8080/"
        },
        "id": "yw4kWjyOF4qy",
        "outputId": "4af2a2b7-7791-4570-80c1-bee20e9d94d8"
      },
      "source": [
        "folds = 5\n",
        "kfold = KFold(n_splits=folds, random_state=42, shuffle = True)\n",
        "\n",
        "predictions_valid = np.zeros((X_train.shape[0]))\n",
        "predictions = np.zeros((X_test.shape[0]))\n",
        "score = 0\n",
        "\n",
        "for fold, (train_idx, valid_idx) in enumerate(kfold.split(X_train)):\n",
        "    train_X = X_train.iloc[train_idx]\n",
        "    valid_X = X_train.iloc[valid_idx]\n",
        "    train_y = y_train.iloc[train_idx]\n",
        "    valid_y = y_train.iloc[valid_idx]        \n",
        "\n",
        "    transformer = QuantileTransformer(n_quantiles=1000, random_state=42)\n",
        "    transformer.fit(train_y.values.reshape(1, -1).T)\n",
        "\n",
        "\n",
        "    y = transformer.transform(train_y.values.reshape(1, -1).T)[:,0]\n",
        "    y_val = transformer.transform(valid_y.values.reshape(1, -1).T)[:,0]\n",
        "\n",
        "\n",
        "    model = CatBoostRegressor(**params)\n",
        "    model.fit(train_X, y,\n",
        "              eval_set = [(valid_X, y_val)],\n",
        "              early_stopping_rounds = 200,\n",
        "              verbose = 200\n",
        "             )\n",
        "\n",
        "      \n",
        "    predictions += transformer.inverse_transform(model.predict(X_test).reshape(1, -1).T)[:,0]\n",
        "\n",
        "    predictions_valid = transformer.inverse_transform(model.predict(valid_X).reshape(1, -1).T)[:,0]\n",
        "    fold_score = ((valid_y - predictions_valid).abs() < 0.02).mean()\n",
        "    print(f\"Fold {fold} | Metric: {fold_score:.3f}\\n\")\n",
        "\n",
        "    score += fold_score / folds\n",
        "predictions = predictions / folds   \n",
        "print(f\"Overall Metric: {score:.6f}\\n\")"
      ],
      "execution_count": null,
      "outputs": [
        {
          "output_type": "stream",
          "name": "stdout",
          "text": [
            "0:\tlearn: 0.2882064\ttest: 0.2883137\tbest: 0.2883137 (0)\ttotal: 6.03ms\tremaining: 6.03s\n",
            "200:\tlearn: 0.2256524\ttest: 0.2521483\tbest: 0.2521483 (200)\ttotal: 1.06s\tremaining: 4.24s\n",
            "400:\tlearn: 0.2047486\ttest: 0.2466525\tbest: 0.2466110 (399)\ttotal: 2.18s\tremaining: 3.26s\n",
            "600:\tlearn: 0.1901663\ttest: 0.2456939\tbest: 0.2455532 (538)\ttotal: 3.31s\tremaining: 2.19s\n",
            "800:\tlearn: 0.1777843\ttest: 0.2453296\tbest: 0.2452275 (669)\ttotal: 4.43s\tremaining: 1.1s\n",
            "999:\tlearn: 0.1689942\ttest: 0.2449291\tbest: 0.2449291 (999)\ttotal: 5.55s\tremaining: 0us\n",
            "\n",
            "bestTest = 0.2449290549\n",
            "bestIteration = 999\n",
            "\n",
            "Fold 0 | Metric: 0.687\n",
            "\n",
            "0:\tlearn: 0.2883166\ttest: 0.2807838\tbest: 0.2807838 (0)\ttotal: 6.02ms\tremaining: 6.02s\n",
            "200:\tlearn: 0.2325753\ttest: 0.2238057\tbest: 0.2238057 (200)\ttotal: 1.03s\tremaining: 4.1s\n",
            "400:\tlearn: 0.2115613\ttest: 0.2127013\tbest: 0.2127013 (400)\ttotal: 2.15s\tremaining: 3.21s\n",
            "600:\tlearn: 0.1979211\ttest: 0.2093230\tbest: 0.2093230 (600)\ttotal: 3.26s\tremaining: 2.17s\n",
            "800:\tlearn: 0.1875088\ttest: 0.2075155\tbest: 0.2075040 (797)\ttotal: 4.38s\tremaining: 1.09s\n",
            "999:\tlearn: 0.1799168\ttest: 0.2063283\tbest: 0.2063283 (999)\ttotal: 5.5s\tremaining: 0us\n",
            "\n",
            "bestTest = 0.2063283207\n",
            "bestIteration = 999\n",
            "\n",
            "Fold 1 | Metric: 0.745\n",
            "\n",
            "0:\tlearn: 0.2883232\ttest: 0.2947021\tbest: 0.2947021 (0)\ttotal: 3.18ms\tremaining: 3.18s\n",
            "200:\tlearn: 0.2300079\ttest: 0.2444322\tbest: 0.2444322 (200)\ttotal: 1.04s\tremaining: 4.14s\n",
            "400:\tlearn: 0.2096624\ttest: 0.2368002\tbest: 0.2367871 (399)\ttotal: 2.12s\tremaining: 3.17s\n",
            "600:\tlearn: 0.1963014\ttest: 0.2347335\tbest: 0.2347335 (600)\ttotal: 3.25s\tremaining: 2.16s\n",
            "800:\tlearn: 0.1863337\ttest: 0.2338042\tbest: 0.2338042 (800)\ttotal: 4.36s\tremaining: 1.08s\n",
            "999:\tlearn: 0.1780036\ttest: 0.2333617\tbest: 0.2333617 (999)\ttotal: 5.47s\tremaining: 0us\n",
            "\n",
            "bestTest = 0.2333617016\n",
            "bestIteration = 999\n",
            "\n",
            "Fold 2 | Metric: 0.670\n",
            "\n",
            "0:\tlearn: 0.2881410\ttest: 0.2774796\tbest: 0.2774796 (0)\ttotal: 5.95ms\tremaining: 5.94s\n",
            "200:\tlearn: 0.2270343\ttest: 0.2349878\tbest: 0.2349878 (200)\ttotal: 1.09s\tremaining: 4.35s\n",
            "400:\tlearn: 0.2041986\ttest: 0.2282668\tbest: 0.2282580 (396)\ttotal: 2.21s\tremaining: 3.3s\n",
            "600:\tlearn: 0.1931635\ttest: 0.2266520\tbest: 0.2265482 (588)\ttotal: 3.35s\tremaining: 2.22s\n",
            "800:\tlearn: 0.1836960\ttest: 0.2258338\tbest: 0.2258278 (799)\ttotal: 4.48s\tremaining: 1.11s\n",
            "999:\tlearn: 0.1761000\ttest: 0.2256468\tbest: 0.2255373 (942)\ttotal: 5.57s\tremaining: 0us\n",
            "\n",
            "bestTest = 0.2255373384\n",
            "bestIteration = 942\n",
            "\n",
            "Shrink model to first 943 iterations.\n",
            "Fold 3 | Metric: 0.706\n",
            "\n",
            "0:\tlearn: 0.2879890\ttest: 0.3001985\tbest: 0.3001985 (0)\ttotal: 6.39ms\tremaining: 6.38s\n",
            "200:\tlearn: 0.2278410\ttest: 0.2581398\tbest: 0.2581398 (200)\ttotal: 1.03s\tremaining: 4.09s\n",
            "400:\tlearn: 0.2049927\ttest: 0.2525178\tbest: 0.2524782 (395)\ttotal: 2.12s\tremaining: 3.16s\n",
            "600:\tlearn: 0.1913479\ttest: 0.2509310\tbest: 0.2509193 (599)\ttotal: 3.22s\tremaining: 2.14s\n",
            "800:\tlearn: 0.1824505\ttest: 0.2504775\tbest: 0.2504501 (795)\ttotal: 4.34s\tremaining: 1.08s\n",
            "Stopped by overfitting detector  (200 iterations wait)\n",
            "\n",
            "bestTest = 0.2504501134\n",
            "bestIteration = 795\n",
            "\n",
            "Shrink model to first 796 iterations.\n",
            "Fold 4 | Metric: 0.673\n",
            "\n",
            "Overall Metric: 0.696160\n",
            "\n"
          ]
        }
      ]
    },
    {
      "cell_type": "code",
      "metadata": {
        "colab": {
          "base_uri": "https://localhost:8080/"
        },
        "id": "S9qJ-zGcF4qy",
        "outputId": "3b96cbf0-f7f1-425d-8106-1106a5b78c29"
      },
      "source": [
        "predictions[:5]"
      ],
      "execution_count": null,
      "outputs": [
        {
          "output_type": "execute_result",
          "data": {
            "text/plain": [
              "array([0.044     , 0.05072567, 0.0582    , 0.05037021, 0.0574    ])"
            ]
          },
          "metadata": {},
          "execution_count": 439
        }
      ]
    },
    {
      "cell_type": "code",
      "metadata": {
        "id": "SnsiheNAF4qy"
      },
      "source": [
        "sample_sub['C'] = predictions"
      ],
      "execution_count": null,
      "outputs": []
    },
    {
      "cell_type": "code",
      "metadata": {
        "colab": {
          "base_uri": "https://localhost:8080/",
          "height": 204
        },
        "id": "3l1JI8oAF4qy",
        "outputId": "5e1a2dbc-dace-4e46-8f62-3ffa0015c504"
      },
      "source": [
        "sample_sub.head()"
      ],
      "execution_count": null,
      "outputs": [
        {
          "output_type": "execute_result",
          "data": {
            "text/html": [
              "<div>\n",
              "<style scoped>\n",
              "    .dataframe tbody tr th:only-of-type {\n",
              "        vertical-align: middle;\n",
              "    }\n",
              "\n",
              "    .dataframe tbody tr th {\n",
              "        vertical-align: top;\n",
              "    }\n",
              "\n",
              "    .dataframe thead th {\n",
              "        text-align: right;\n",
              "    }\n",
              "</style>\n",
              "<table border=\"1\" class=\"dataframe\">\n",
              "  <thead>\n",
              "    <tr style=\"text-align: right;\">\n",
              "      <th></th>\n",
              "      <th>NPLV</th>\n",
              "      <th>TST</th>\n",
              "      <th>C</th>\n",
              "    </tr>\n",
              "  </thead>\n",
              "  <tbody>\n",
              "    <tr>\n",
              "      <th>0</th>\n",
              "      <td>512324</td>\n",
              "      <td>1658.204208</td>\n",
              "      <td>0.044000</td>\n",
              "    </tr>\n",
              "    <tr>\n",
              "      <th>1</th>\n",
              "      <td>512327</td>\n",
              "      <td>1651.126103</td>\n",
              "      <td>0.050726</td>\n",
              "    </tr>\n",
              "    <tr>\n",
              "      <th>2</th>\n",
              "      <td>512328</td>\n",
              "      <td>1656.163160</td>\n",
              "      <td>0.058200</td>\n",
              "    </tr>\n",
              "    <tr>\n",
              "      <th>3</th>\n",
              "      <td>512331</td>\n",
              "      <td>1666.535853</td>\n",
              "      <td>0.050370</td>\n",
              "    </tr>\n",
              "    <tr>\n",
              "      <th>4</th>\n",
              "      <td>512333</td>\n",
              "      <td>1646.814809</td>\n",
              "      <td>0.057400</td>\n",
              "    </tr>\n",
              "  </tbody>\n",
              "</table>\n",
              "</div>"
            ],
            "text/plain": [
              "     NPLV          TST         C\n",
              "0  512324  1658.204208  0.044000\n",
              "1  512327  1651.126103  0.050726\n",
              "2  512328  1656.163160  0.058200\n",
              "3  512331  1666.535853  0.050370\n",
              "4  512333  1646.814809  0.057400"
            ]
          },
          "metadata": {},
          "execution_count": 441
        }
      ]
    },
    {
      "cell_type": "markdown",
      "metadata": {
        "id": "qGra7DTF2NLz"
      },
      "source": [
        "Здесь также не улавливаем длинный хвост"
      ]
    },
    {
      "cell_type": "code",
      "metadata": {
        "colab": {
          "base_uri": "https://localhost:8080/",
          "height": 334
        },
        "id": "iThiQ9z6Q1AJ",
        "outputId": "d8bcc89c-c241-452a-dbd7-69e524ac14dc"
      },
      "source": [
        "fig = plt.figure(figsize=(15,5))\n",
        "sns.kdeplot(data=y_train, x=y_train, label='real')\n",
        "sns.kdeplot(data=sample_sub, x='C', label='overfitted')\n",
        "plt.legend(loc=\"upper right\")\n",
        "plt.show()"
      ],
      "execution_count": null,
      "outputs": [
        {
          "output_type": "display_data",
          "data": {
            "image/png": "[encoded data removed]",
            "text/plain": [
              "<Figure size 1080x360 with 1 Axes>"
            ]
          },
          "metadata": {
            "needs_background": "light"
          }
        }
      ]
    },
    {
      "cell_type": "markdown",
      "metadata": {
        "id": "ji_J-YceQ3ep"
      },
      "source": [
        "### FI"
      ]
    },
    {
      "cell_type": "code",
      "metadata": {
        "id": "xd9fkFkIQ3ep"
      },
      "source": [
        "fi = (pd.DataFrame({'feature': list(X_train.columns), \n",
        "                    'importance': model.feature_importances_})\n",
        ".sort_values(by='importance', ascending=False))"
      ],
      "execution_count": null,
      "outputs": []
    },
    {
      "cell_type": "code",
      "metadata": {
        "colab": {
          "base_uri": "https://localhost:8080/",
          "height": 404
        },
        "id": "jK0hxQTBQ3ep",
        "outputId": "f76e59c7-7a07-4082-9c48-37ba1268ffd1"
      },
      "source": [
        "plt.figure(figsize=(12, 6));\n",
        "sns.barplot(x=\"importance\", y=\"feature\", data=fi);\n",
        "plt.title('cat features importance:');"
      ],
      "execution_count": null,
      "outputs": [
        {
          "output_type": "display_data",
          "data": {
            "image/png": "[encoded data removed]",
            "text/plain": [
              "<Figure size 864x432 with 1 Axes>"
            ]
          },
          "metadata": {
            "needs_background": "light"
          }
        }
      ]
    },
    {
      "cell_type": "code",
      "metadata": {
        "colab": {
          "base_uri": "https://localhost:8080/",
          "height": 17
        },
        "id": "ZwDWIeAiMyv9",
        "outputId": "b3f6fa25-cc7e-456c-8d9b-51820efa0a07"
      },
      "source": [
        "sample_sub.to_csv('sub.csv', index=False)\n",
        "files.download('sub.csv')"
      ],
      "execution_count": null,
      "outputs": [
        {
          "output_type": "display_data",
          "data": {
            "application/javascript": [
              "\n",
              "    async function download(id, filename, size) {\n",
              "      if (!google.colab.kernel.accessAllowed) {\n",
              "        return;\n",
              "      }\n",
              "      const div = document.createElement('div');\n",
              "      const label = document.createElement('label');\n",
              "      label.textContent = `Downloading \"${filename}\": `;\n",
              "      div.appendChild(label);\n",
              "      const progress = document.createElement('progress');\n",
              "      progress.max = size;\n",
              "      div.appendChild(progress);\n",
              "      document.body.appendChild(div);\n",
              "\n",
              "      const buffers = [];\n",
              "      let downloaded = 0;\n",
              "\n",
              "      const channel = await google.colab.kernel.comms.open(id);\n",
              "      // Send a message to notify the kernel that we're ready.\n",
              "      channel.send({})\n",
              "\n",
              "      for await (const message of channel.messages) {\n",
              "        // Send a message to notify the kernel that we're ready.\n",
              "        channel.send({})\n",
              "        if (message.buffers) {\n",
              "          for (const buffer of message.buffers) {\n",
              "            buffers.push(buffer);\n",
              "            downloaded += buffer.byteLength;\n",
              "            progress.value = downloaded;\n",
              "          }\n",
              "        }\n",
              "      }\n",
              "      const blob = new Blob(buffers, {type: 'application/binary'});\n",
              "      const a = document.createElement('a');\n",
              "      a.href = window.URL.createObjectURL(blob);\n",
              "      a.download = filename;\n",
              "      div.appendChild(a);\n",
              "      a.click();\n",
              "      div.remove();\n",
              "    }\n",
              "  "
            ],
            "text/plain": [
              "<IPython.core.display.Javascript object>"
            ]
          },
          "metadata": {}
        },
        {
          "output_type": "display_data",
          "data": {
            "application/javascript": [
              "download(\"download_900bf91d-139e-492c-aeed-ca7d46c0f9c4\", \"sub.csv\", 32511)"
            ],
            "text/plain": [
              "<IPython.core.display.Javascript object>"
            ]
          },
          "metadata": {}
        }
      ]
    },
    {
      "cell_type": "markdown",
      "metadata": {
        "id": "ePTxrl0cuXls"
      },
      "source": [
        "<a href=\"#footer\">К содержанию</a>\n",
        "<footer id=\"footer\"></footer>\n",
        "\n",
        "___"
      ]
    },
    {
      "cell_type": "markdown",
      "metadata": {
        "id": "U1q18QfwXK-6"
      },
      "source": [
        "## Pipeline"
      ]
    },
    {
      "cell_type": "markdown",
      "metadata": {
        "id": "xumRe95a2XQo"
      },
      "source": [
        "Для ускорения процесса обучения обернем все в функции и классы"
      ]
    },
    {
      "cell_type": "markdown",
      "metadata": {
        "id": "QbCWT36DnlwM"
      },
      "source": [
        "### Класс отбора"
      ]
    },
    {
      "cell_type": "markdown",
      "metadata": {
        "id": "BIMEoGT62b3o"
      },
      "source": [
        "Два класса на отбор признаков - на Shap и на feature importance модели"
      ]
    },
    {
      "cell_type": "code",
      "metadata": {
        "id": "wcDcB9vGcn41"
      },
      "source": [
        "class FeatureSelection (BaseEstimator, TransformerMixin):\n",
        "\n",
        "\n",
        "  def __init__(self, estimator, n_features_to_select=None, columns=None):\n",
        "    self.estimator = estimator\n",
        "    self.n_features_to_select = n_features_to_select\n",
        "    self.columns = columns\n",
        "\n",
        "  def fit(self, X, y, **fit_params):\n",
        "    # разделить выборку на обучение и валидацию\n",
        "    X_train, self.X_val, y_train, y_val = train_test_split(\n",
        "                                      X, y, test_size=.25, random_state=42)\n",
        "    \n",
        "    assert X_train.shape[0] + self.X_val.shape[0] == X.shape[0], 'Неправильно разделена выборка'\n",
        "    # обучить модель\n",
        "    self.estimator.fit(X_train, y_train, eval_set = [(self.X_val, y_val)],\n",
        "                       early_stopping_rounds = 200\n",
        "                       , use_best_model=True)\n",
        "\n",
        "    # получаем предсказание веростности классов\n",
        "    self.fi = (pd.DataFrame({'feature': list(X_train.columns), \n",
        "                    'importance': self.estimator.feature_importances_})\n",
        "    .sort_values(by='importance', ascending=False))\n",
        "    self.fi.sort_values(by=['importance'],ascending=False,inplace=True)\n",
        "    self.idx = list(self.fi['importance'].index)[:self.n_features_to_select]\n",
        "    # собираем сет данных\n",
        "   \n",
        "\n",
        "    return self\n",
        "\n",
        "  def transform(self, X, y=None):\n",
        "    X_selected = X.iloc[:, self.idx]\n",
        "    return X_selected\n",
        "\n",
        "  def get_index(self):\n",
        "    return self.idx"
      ],
      "execution_count": null,
      "outputs": []
    },
    {
      "cell_type": "code",
      "metadata": {
        "id": "aePXYa4DGKM8"
      },
      "source": [
        "class ShapFeatureSelection (BaseEstimator, TransformerMixin):\n",
        "  \"\"\"\n",
        "  Класс вычисляет  важность признаков на основе библиотеки Shap. Работает \n",
        "  только с деревьями для большей эффективности или моделями на основе \n",
        "  градиентного бустинга. Приоритетно использовать такие модели как:\n",
        "   \n",
        "\n",
        "\n",
        "  Для работы необходимо импортировать:\n",
        "\n",
        "    from sklearn.base import BaseEstimator, TransformerMixin\n",
        "    import shap\n",
        "\n",
        "  Параметры\n",
        "    ----------\n",
        "    estimator : \n",
        "        Обучение с учителем с методом fit позволит получить и отобрать индексы\n",
        "        самых важных признаков\n",
        "    n_features_to_select : int, default=None\n",
        "        Количество признаков для отбора, по умолчанию значение None\n",
        "    columns: List, default=None\n",
        "        Список признаков исходного сета, по умолчанию значение None\n",
        "    \n",
        "  Методы\n",
        "    ----------\n",
        "    fit - обучается и выявляет наиболее важные признаки\n",
        "    tranform - изменяет исходный сет и вовзращает отобранные признаки\n",
        "    get_index - возвращает отобранные признаки индексов\n",
        "    plot_values - построение графика shap values\n",
        "    _estimator_type - метод @property - возвращает тип модели\n",
        "    get_feature_importance - возвращает DataFrame FI\n",
        "  Примечание\n",
        "    -----\n",
        "    Не работает с категориальными признаками. Nan/Inf разрешены в случае, если \n",
        "    их принимает модель метода fit\n",
        "\n",
        "    \"\"\"\n",
        "\n",
        "  def __init__(self, estimator, n_features_to_select=None, columns=None):\n",
        "    self.estimator = estimator\n",
        "    self.n_features_to_select = n_features_to_select\n",
        "    self.columns = columns\n",
        "\n",
        "  def fit(self, X, y, **fit_params):\n",
        "    # разделить выборку на обучение и валидацию\n",
        "    X_train, self.X_val, y_train, y_val = train_test_split(\n",
        "                                      X, y, test_size=.25, random_state=42)\n",
        "    \n",
        "    assert X_train.shape[0] + self.X_val.shape[0] == X.shape[0], 'Неправильно разделена выборка'\n",
        "    # обучить модель\n",
        "    self.estimator.fit(X_train, y_train, eval_set = [(self.X_val, y_val)],\n",
        "                       early_stopping_rounds = 200\n",
        "                       , use_best_model=True)\n",
        "\n",
        "    # получаем предсказание веростности классов\n",
        "    preds = self.estimator.predict(self.X_val)\n",
        "    explainer = shap.TreeExplainer(self.estimator)\n",
        "    self.shap_values = explainer.shap_values(self.X_val)\n",
        "    # собираем сет данных\n",
        "    try:\n",
        "    \n",
        "      vals = np.abs(self.shap_values).mean(0)\n",
        "      self.feature_importance = pd.DataFrame(list(zip(self.columns, vals)),columns=['col_name','feature_importance_vals'])\n",
        "      self.feature_importance.sort_values(by=['feature_importance_vals'],ascending=False,inplace=True)\n",
        "      self.idx = list(self.feature_importance['feature_importance_vals'].index)[:self.n_features_to_select]\n",
        "      \n",
        "    except:\n",
        "      \n",
        "      vals = np.abs(self.shap_values[:1]).mean(0)\n",
        "      self.feature_importance = pd.DataFrame(list(zip(self.columns, vals)),columns=['col_name','feature_importance_vals'])\n",
        "      self.feature_importance.sort_values(by=['feature_importance_vals'],ascending=False,inplace=True)\n",
        "      self.idx = list(self.feature_importance['feature_importance_vals'].index)[:self.n_features_to_select]\n",
        "\n",
        "    return self\n",
        "\n",
        "  def transform(self, X, y=None):\n",
        "    X_selected = X.iloc[:, self.idx]\n",
        "    return X_selected\n",
        "\n",
        "  def get_index(self):\n",
        "    return self.idx\n",
        "\n",
        "  def plot_values(self):\n",
        "    return shap.summary_plot(self.shap_values, self.X_val)\n",
        "\n",
        "  @property\n",
        "  def _estimator_type(self):\n",
        "    return self.estimator._estimator_type\n",
        "\n",
        "  def get_feature_importance(self):\n",
        "    return self.feature_importance\n"
      ],
      "execution_count": null,
      "outputs": []
    },
    {
      "cell_type": "markdown",
      "metadata": {
        "id": "ClTxRc2MuZjx"
      },
      "source": [
        "<a href=\"#footer\">К содержанию</a>\n",
        "<footer id=\"footer\"></footer>\n",
        "\n",
        "___"
      ]
    },
    {
      "cell_type": "markdown",
      "metadata": {
        "id": "_BNWj8h3nqx2"
      },
      "source": [
        "### Функции"
      ]
    },
    {
      "cell_type": "markdown",
      "metadata": {
        "id": "t6FT8N6U2hHF"
      },
      "source": [
        "Всю нашу обработку обернем в функции"
      ]
    },
    {
      "cell_type": "code",
      "metadata": {
        "id": "AvYGAXaqcqMJ"
      },
      "source": [
        "def concat_data(produv_train,\n",
        "                lom_train,\n",
        "                plavki,\n",
        "                sip_train,\n",
        "                chronom_train,\n",
        "                chugun_train,\n",
        "                gas_train,\n",
        "                target_train,\n",
        "                produv_test,\n",
        "                lom_test,\n",
        "                plavki_test,\n",
        "                chronom_test,\n",
        "                chugun_test,\n",
        "                gas_test,\n",
        "                sip_test):\n",
        "  \n",
        "\n",
        "    '''\n",
        "    Функция вовзращает готовый собранный обучающий сет\n",
        "    тестовый сет и целевой сет из двух переменных\n",
        "    '''\n",
        "    # Подготовка хрономо-сета\n",
        "    chron = chronom_train[chronom_train['NOP'] =='Продувка']\n",
        "    cols = ['VR_NACH', 'VR_KON']\n",
        "    for col in cols: \n",
        "      chron[col] = pd.to_datetime(chron[col], format=\"%Y-%m-%d %H:%M:%S\")\n",
        "    chron['produv_time'] = (chron['VR_KON'] - chron['VR_NACH'])/ np.timedelta64(1, 's')\n",
        "    chron = chron.drop('O2', axis=1)\n",
        "    chron['End'] = chron['VR_KON'].dt.floor('Min')\n",
        "    # Подготовка газа\n",
        "    end_time = chron[['NPLV', 'End']].groupby('NPLV', as_index=False)['End'].agg('max').drop_duplicates()\n",
        "    gas_train['Time'] = pd.to_datetime(gas_train['Time'], format=\"%Y-%m-%d %H:%M:%S\")\n",
        "    gas_train['Oper'] = gas_train['Time'].dt.floor('Min')\n",
        "    gas_train = gas_train.reset_index()\n",
        "    gas_train.merge(end_time, on='NPLV', how='left').head()\n",
        "    gas_aggregated = end_time.apply(\n",
        "        lambda x: gas_train[\n",
        "            np.logical_and(\n",
        "                gas_train['Oper'] <= x['End'], gas_train['NPLV'] == x['NPLV']\n",
        "            )\n",
        "        ].agg(\n",
        "            {\n",
        "                'Oper': 'max',\n",
        "                'NPLV': 'max',\n",
        "                'V': 'sum',\n",
        "                'T':'sum',\n",
        "                'AR':'sum',\n",
        "                'O2': 'sum',\n",
        "                'N2': 'sum',\n",
        "                'H2': 'sum',\n",
        "                'CO2': 'sum',\n",
        "                'CO': 'sum',\n",
        "                'T фурмы 1': 'sum',\n",
        "                'T фурмы 2': 'sum',\n",
        "                'O2_pressure': 'sum',\n",
        "            \n",
        "\n",
        "            }\n",
        "        ),\n",
        "        axis=1,\n",
        "    ).sort_values(by=['Oper', 'NPLV'])\n",
        "    gas_aggregated_train = gas_aggregated.drop('Oper', axis=1)\n",
        "\n",
        "    # Подготовка лома (https://github.com/waico)\n",
        "    lom_train = lom_train.drop(columns='NML')\n",
        "    \n",
        "    lom_train = (pd.pivot(lom_train, index='NPLV', columns='VDL', values='VES')\n",
        "    .fillna(0).astype(int)\n",
        "    .add_prefix('lom_VES_VLD'))\n",
        "    lom_train['lom_components'] = lom_train.apply(lambda x: (x > 0).sum(), axis=1)\n",
        "    df_lom_train = (lom_train[[x for x in lom_train.columns if x.startswith('lom_VES_VLD')]]\n",
        "                                              .apply(lambda x: x.sum(), axis=1)\n",
        "                                              )\n",
        "    \n",
        "    # Подготовка плавки\n",
        "    df_plavki_train = plavki[~plavki.index.duplicated(keep='first')]\n",
        "    df_plavki_train = df_plavki_train.drop(['plavka_VR_NACH', 'plavka_VR_KON'], axis=1)\n",
        "\n",
        "    # Подготовка продув\n",
        "    produv_train['SEC'] = pd.to_datetime(produv_train['SEC'], format=\"%Y-%m-%d %H:%M:%S\")\n",
        "    produv_train['Oper_sec'] = produv_train['SEC'].dt.floor('Min')\n",
        "    produv_train = produv_train.reset_index()\n",
        "    produv_train.merge(end_time, on='NPLV', how='left').head()\n",
        "    produv_train_aggregated = end_time.apply(\n",
        "        lambda x: produv_train[\n",
        "            np.logical_and(\n",
        "                produv_train['Oper_sec'] <= x['End'], produv_train['NPLV'] == x['NPLV']\n",
        "            )\n",
        "        ].agg(\n",
        "            {\n",
        "                'Oper_sec': 'max',\n",
        "                'NPLV': 'max',\n",
        "                'RAS': 'max',\n",
        "                'POL':'max',\n",
        "            \n",
        "\n",
        "            }\n",
        "        ),\n",
        "        axis=1,\n",
        "    ).sort_values(by=['Oper_sec', 'NPLV'])\n",
        "    produv_train_aggregated = produv_train_aggregated.drop('Oper_sec', axis=1)\n",
        "    df_chronom_train = chron.groupby(['NPLV'], as_index=False)['produv_time'].agg('max')\n",
        "    # Подготовка лома (https://github.com/waico)\n",
        "    sip_train = sip_train.drop(columns=['NMSYP', 'DAT_OTD'])\n",
        "    sip_train = sip_train.groupby(['NPLV', 'VDSYP'])['VSSYP'].sum().reset_index()\n",
        "    df_sip_train = (pd.pivot(sip_train, index='NPLV', columns='VDSYP', values='VSSYP')\n",
        "    .fillna(0).astype(int)\n",
        "    .add_prefix('sip_VES_VDSYP')\n",
        "    )\n",
        "    # Подготовка чугун\n",
        "    df_chugun_train = chugun_train.drop('DATA_ZAMERA', axis=1)\n",
        "\n",
        "    # Подготовка тестовой выборки (этапы аналогичные)\n",
        "\n",
        "    chron = chronom_test[chronom_test['NOP'] =='Продувка']\n",
        "\n",
        "    cols = ['VR_NACH', 'VR_KON']\n",
        "    for col in cols: \n",
        "      chron[col] = pd.to_datetime(chron[col], format=\"%Y-%m-%d %H:%M:%S\")\n",
        "    chron['produv_time'] = (chron['VR_KON'] - chron['VR_NACH'])/ np.timedelta64(1, 's')\n",
        "    chron = chron.drop('O2', axis=1)\n",
        "    chron['End'] = chron['VR_KON'].dt.floor('Min')\n",
        "\n",
        "\n",
        "    end_time = chron[['NPLV', 'End']].groupby('NPLV', as_index=False)['End'].agg('max').drop_duplicates()\n",
        "    gas_test['Time'] = pd.to_datetime(gas_test['Time'], format=\"%Y-%m-%d %H:%M:%S\")\n",
        "    gas_test['Oper'] = gas_test['Time'].dt.floor('Min')\n",
        "    gas_test = gas_test.reset_index()\n",
        "    gas_test.merge(end_time, on='NPLV', how='left').head()\n",
        "    end_time = chron[['NPLV', 'End']].groupby('NPLV', as_index=False)['End'].agg('max').drop_duplicates()\n",
        "    gas_aggregated = end_time.apply(\n",
        "        lambda x: gas_test[\n",
        "            np.logical_and(\n",
        "                gas_test['Oper'] <= x['End'], gas_test['NPLV'] == x['NPLV']\n",
        "            )\n",
        "        ].agg(\n",
        "            {\n",
        "                'Oper': 'max',\n",
        "                'NPLV': 'max',\n",
        "                'V': 'sum',\n",
        "                'T':'sum',\n",
        "                'AR':'sum',\n",
        "                'O2': 'sum',\n",
        "                'N2': 'sum',\n",
        "                'H2': 'sum',\n",
        "                'CO2': 'sum',\n",
        "                'CO': 'sum',\n",
        "                'T фурмы 1': 'sum',\n",
        "                'T фурмы 2': 'sum',\n",
        "                'O2_pressure': 'sum',\n",
        "            \n",
        "\n",
        "            }\n",
        "        ),\n",
        "        axis=1,\n",
        "    ).sort_values(by=['Oper', 'NPLV'])\n",
        "\n",
        "    gas_aggregated = gas_aggregated.drop('Oper', axis=1)\n",
        "    df_chronom_test = chron.groupby(['NPLV'], as_index=False)['produv_time'].agg('max')\n",
        "    lom_test = lom_test.drop(columns='NML')\n",
        "    lom_test = (pd.pivot(lom_test, index='NPLV', columns='VDL', values='VES')\n",
        "    .fillna(0).astype(int)\n",
        "    .add_prefix('lom_VES_VLD'))\n",
        "    lom_test['lom_components'] = lom_test.apply(lambda x: (x > 0).sum(), axis=1)\n",
        "\n",
        "    df_lom_test = (lom_test[[x for x in lom_test.columns if x.startswith('lom_VES_VLD')]]\n",
        "                                              .apply(lambda x: x.sum(), axis=1)\n",
        "                                              ).to_frame()\n",
        "    df_lom_train = df_lom_train.to_frame()\n",
        "    df_lom_train = df_lom_train[df_lom_test.columns]\n",
        "    cols = ['plavka_VR_NACH', 'plavka_VR_KON']\n",
        "    df_plavki_test = plavki_test[~plavki_test.index.duplicated(keep='first')]\n",
        "    df_plavki_test = df_plavki_test.drop(['plavka_VR_NACH', 'plavka_VR_KON'], axis=1)\n",
        "\n",
        "\n",
        "    produv_test['SEC'] = pd.to_datetime(produv_test['SEC'], format=\"%Y-%m-%d %H:%M:%S\")\n",
        "    produv_test['Oper_sec'] = produv_test['SEC'].dt.floor('Min')\n",
        "    produv_test = produv_test.reset_index()\n",
        "    produv_test.merge(end_time, on='NPLV', how='left').head()\n",
        "    produv_test_aggregated = end_time.apply(\n",
        "        lambda x: produv_test[\n",
        "            np.logical_and(\n",
        "                produv_test['Oper_sec'] <= x['End'], produv_test['NPLV'] == x['NPLV']\n",
        "            )\n",
        "        ].agg(\n",
        "            {\n",
        "                'Oper_sec': 'max',\n",
        "                'NPLV': 'max',\n",
        "                'RAS': 'max',\n",
        "                'POL':'max',\n",
        "            \n",
        "\n",
        "            }\n",
        "        ),\n",
        "        axis=1,\n",
        "    ).sort_values(by=['Oper_sec', 'NPLV'])\n",
        "    produv_test_aggregated = produv_test_aggregated.drop('Oper_sec', axis=1)\n",
        "    sip_test = sip_test.drop(columns=['NMSYP', 'DAT_OTD'])\n",
        "    sip_test = sip_test.groupby(['NPLV', 'VDSYP'])['VSSYP'].sum().reset_index()\n",
        "    df_sip_test = (pd.pivot(sip_test, index='NPLV', columns='VDSYP', values='VSSYP')\n",
        "    .fillna(0).astype(int)\n",
        "    .add_prefix('sip_VES_VDSYP')\n",
        "    )\n",
        "\n",
        "    df_sip_test = df_sip_test[df_sip_train.columns]\n",
        "    df_chugun_test = chugun_test.drop('DATA_ZAMERA', axis=1)\n",
        "   # Объединение сетов для теста и трейна\n",
        "    test = (df_chronom_test.merge(df_lom_test, on='NPLV', how='left')\n",
        "            .merge(df_plavki_test, on='NPLV', how='left')\n",
        "            .merge(produv_test_aggregated, on='NPLV', how='left')\n",
        "            .merge(df_sip_test, on='NPLV', how='left')\n",
        "            .merge(df_chugun_test, on='NPLV', how='left')\n",
        "            .merge(gas_aggregated, on='NPLV', how='left')\n",
        "            )\n",
        "    cols = ['plavka_ST_GOL', \n",
        "        'plavka_STFUT', \n",
        "        'plavka_ST_FURM', \n",
        "        'plavka_TIPE_FUR', \n",
        "        'plavka_TIPE_GOL']\n",
        "    test = test.set_index(test['NPLV']).drop(['NPLV'], axis=1)\n",
        "    for col in cols:\n",
        "      test[col] = test[col].astype('category')\n",
        "    # Подготовка теста - признак взят (https://github.com/waico)\n",
        "    test['VES/O2'] = test['VES'] / test['O2']\n",
        "\n",
        "    feat = (df_chronom_train.merge(df_lom_train, on='NPLV', how='left')\n",
        "            .merge(df_plavki_train, on='NPLV', how='left')\n",
        "            .merge(produv_train_aggregated, on='NPLV', how='left')\n",
        "            .merge(df_sip_train, on='NPLV', how='left')\n",
        "            .merge(df_chugun_train, on='NPLV', how='left')\n",
        "            .merge(gas_aggregated_train, on='NPLV', how='left')\n",
        "            )\n",
        "\n",
        "    cols = ['plavka_ST_GOL', \n",
        "        'plavka_STFUT', \n",
        "        'plavka_ST_FURM', \n",
        "        'plavka_TIPE_FUR', \n",
        "        'plavka_TIPE_GOL']\n",
        "    for col in cols:\n",
        "      feat[col] = feat[col].astype('category')\n",
        "    # Подготовка обучабщей - признак взят (https://github.com/waico)\n",
        "    feat['VES/O2'] = feat['VES'] / feat['O2']\n",
        "    feat = feat.set_index(feat['NPLV']).drop('NPLV', axis=1)\n",
        "\n",
        "    target_train['C'] = target_train['C'].fillna(target_train['C'].median())\n",
        "\n",
        "    assert feat.shape[1] == test.shape[1], 'ошибка при сборе сета'\n",
        "    return feat, test, target_train\n",
        "\n",
        "def metric(answers, user_csv):\n",
        "    ''' \n",
        "    Метрика качества\n",
        "    '''\n",
        "    delta_c = np.abs(np.array(answers['C']) - np.array(user_csv['C']))\n",
        "    hit_rate_c = np.int64(delta_c < 0.02)\n",
        "\n",
        "    delta_t = np.abs(np.array(answers['TST']) - np.array(user_csv['TST']))\n",
        "    hit_rate_t = np.int64(delta_t < 20)\n",
        "\n",
        "    N = np.size(answers['C'])\n",
        "\n",
        "    return np.sum(hit_rate_c + hit_rate_t) / 2 / N\n",
        "\n",
        "def prepared_date(X, test, target_train):\n",
        "    ''' \n",
        "    Подготовка двух целевых признаков\n",
        "    '''\n",
        "    X_train = X.merge(target_train, on='NPLV', how='left')\n",
        "    X_t = X_train.drop(['TST', 'C'], axis=1)\n",
        "    y_temperature = X_train['TST']\n",
        "    y_carbon = X_train['C']\n",
        "    return X_t, y_temperature, y_carbon\n",
        "\n",
        "\n",
        "def select_and_transform(X_t, y, n_features_to_select):\n",
        "    ''' \n",
        "    Отбор признаков и таргетэнкодинг\n",
        "    '''\n",
        "    cols = list(X_t.columns)\n",
        "    cat_cols = list(X_t.select_dtypes(['object', 'category']).columns)\n",
        "    params = { 'eval_metric': 'RMSE', \n",
        "              'objective': 'RMSE', \n",
        "              'eta':0.05,\n",
        "              'n_estimators': 10000,           \n",
        "              'l2_leaf_reg': 50,  \n",
        "              'random_state': 42,\n",
        "              'cat_features':cat_cols, \n",
        "              'verbose':200            \n",
        "                  }\n",
        "\n",
        "    estimator = CatBoostRegressor(**params, )\n",
        "    selector = FeatureSelection(estimator, n_features_to_select=n_features_to_select, columns=cols)\n",
        "    selector.fit(X_t, y)\n",
        "\n",
        "    X_temperature = selector.transform(X_t)\n",
        "    X_test_temperature = selector.transform(test)\n",
        "    X = X_temperature.copy()\n",
        "    X_test = X_test_temperature.copy()\n",
        "    \n",
        "    X_encode = X.sample(frac=0.25)\n",
        "    y_encode = y.loc[X_encode.index]\n",
        "    X_pretrain = X.drop(X_encode.index)\n",
        "    y_train = y.loc[X_pretrain.index]\n",
        "    encoder = MEstimateEncoder(cols=['plavka_NMZ'], m=5)\n",
        "    encoder.fit(X_encode, y_encode)\n",
        "\n",
        "    X_train = encoder.transform(X_pretrain)\n",
        "    X_test  = encoder.transform(X_test)\n",
        "    cat_features = list(X_train.select_dtypes(include=(['object', 'category'])).columns)\n",
        "    return X_train, X_test, cat_features, y_train\n",
        "\n",
        "def select_and_transform_SHAP(X_t, y, n_features_to_select):\n",
        "    ''' \n",
        "    Отбор признаков и таргетэнкодинг\n",
        "    '''\n",
        "    cols = list(X_t.columns)\n",
        "    cat_cols = list(X_t.select_dtypes(['object', 'category']).columns)\n",
        "    params = { 'eval_metric': 'RMSE', \n",
        "              'objective': 'RMSE', \n",
        "              'eta':0.05,\n",
        "              'n_estimators': 10000,           \n",
        "              'l2_leaf_reg': 50,  \n",
        "              'random_state': 42,\n",
        "              'cat_features':cat_cols, \n",
        "              'verbose':200            \n",
        "                  }\n",
        "\n",
        "    estimator = CatBoostRegressor(**params, )\n",
        "    selector = ShapFeatureSelection(estimator, n_features_to_select=n_features_to_select, columns=cols)\n",
        "    selector.fit(X_t, y)\n",
        "\n",
        "    X_temperature = selector.transform(X_t)\n",
        "    X_test_temperature = selector.transform(test)\n",
        "    X = X_temperature.copy()\n",
        "    X_test = X_test_temperature.copy()\n",
        "    \n",
        "    X_encode = X.sample(frac=0.25)\n",
        "    y_encode = y.loc[X_encode.index]\n",
        "    X_pretrain = X.drop(X_encode.index)\n",
        "    y_train = y.loc[X_pretrain.index]\n",
        "    encoder = MEstimateEncoder(cols=['plavka_NMZ'], m=5)\n",
        "    encoder.fit(X_encode, y_encode)\n",
        "\n",
        "    X_train = encoder.transform(X_pretrain)\n",
        "    X_test  = encoder.transform(X_test)\n",
        "    cat_features = list(X_train.select_dtypes(include=(['object', 'category'])).columns)\n",
        "    return X_train, X_test, cat_features, y_train\n",
        "\n",
        "\n",
        "def predict_(X_train, X_test, cat_features, y_train):\n",
        "\n",
        "    ''' \n",
        "    Предсказания. Для углерода нормирование\n",
        "    '''\n",
        "    folds = 8\n",
        "    kfold = KFold(n_splits=folds, random_state=42, shuffle = True)\n",
        "\n",
        "    predictions_valid = np.zeros((X_train.shape[0]))\n",
        "    predictions = np.zeros((X_test.shape[0]))\n",
        "    score = 0\n",
        "    if y_train.name == 'TST':\n",
        "      for fold, (train_idx, valid_idx) in enumerate(kfold.split(X_train)):\n",
        "        train_X = X_train.iloc[train_idx]\n",
        "        valid_X = X_train.iloc[valid_idx]\n",
        "        train_y = y_train.iloc[train_idx]\n",
        "        valid_y = y_train.iloc[valid_idx]    \n",
        "\n",
        "        train_dataset = Pool(data=train_X, label=train_y,\n",
        "                             cat_features=cat_features)\n",
        "        eval_dataset = Pool(data=valid_X, label=valid_y,\n",
        "                            cat_features=cat_features)\n",
        "\n",
        "        model = CatBoostRegressor(**params)\n",
        "        model.fit(train_dataset, \n",
        "                eval_set = eval_dataset,\n",
        "                verbose = 200\n",
        "              )\n",
        "\n",
        "\n",
        "        predictions += model.predict(X_test) / folds\n",
        "\n",
        "        predictions_valid = model.predict(valid_X)\n",
        "        fold_score = ((valid_y - predictions_valid).abs() < 20).mean()\n",
        "        print(f\"Fold {fold} | Metric: {fold_score:.3f}\\n\")\n",
        "\n",
        "        score += fold_score / folds\n",
        "      return predictions\n",
        "    else:\n",
        "        for fold, (train_idx, valid_idx) in enumerate(kfold.split(X_train)):\n",
        "          train_X = X_train.iloc[train_idx]\n",
        "          valid_X = X_train.iloc[valid_idx]\n",
        "          train_y = y_train.iloc[train_idx]\n",
        "          valid_y = y_train.iloc[valid_idx]  \n",
        "          transformer = QuantileTransformer(random_state=42)\n",
        "          transformer.fit(train_y.values.reshape(1, -1).T)\n",
        "\n",
        "          y = transformer.transform(train_y.values.reshape(1, -1).T)[:,0]\n",
        "          y_val = transformer.transform(valid_y.values.reshape(1, -1).T)[:,0]\n",
        "\n",
        "          model = CatBoostRegressor(**params)\n",
        "          model.fit(train_X, y, \n",
        "                eval_set = (valid_X, y_val),\n",
        "                verbose = 200\n",
        "              )\n",
        "\n",
        "\n",
        "          predictions += transformer.inverse_transform(model.predict(X_test).reshape(1, -1).T)[:,0]\n",
        "\n",
        "          predictions_valid = transformer.inverse_transform(model.predict(valid_X).reshape(1, -1).T)[:,0]\n",
        "          fold_score = ((valid_y - predictions_valid).abs() < 0.02).mean()\n",
        "          print(f\"Fold {fold} | Metric: {fold_score:.3f}\\n\")\n",
        "\n",
        "          score += fold_score / folds\n",
        "        predictions = predictions / folds  \n",
        "    return  predictions\n"
      ],
      "execution_count": null,
      "outputs": []
    },
    {
      "cell_type": "markdown",
      "metadata": {
        "id": "3S_2sDv7uaSz"
      },
      "source": [
        "<a href=\"#footer\">К содержанию</a>\n",
        "<footer id=\"footer\"></footer>\n",
        "\n",
        "___"
      ]
    },
    {
      "cell_type": "markdown",
      "metadata": {
        "id": "Lf8D5Sm1o-Np"
      },
      "source": [
        "### Отработка"
      ]
    },
    {
      "cell_type": "markdown",
      "metadata": {
        "id": "P2gDI6IZ3kiA"
      },
      "source": [
        "### Загрузка сетов"
      ]
    },
    {
      "cell_type": "markdown",
      "metadata": {
        "id": "jokI_CN32lGF"
      },
      "source": [
        "Загрузим сеты, дальше с помощью функций проведем все действия, что делали выше. Получим отдельные предсказания для каждой переменной"
      ]
    },
    {
      "cell_type": "code",
      "metadata": {
        "id": "HP4VDlhz3c2h"
      },
      "source": [
        "PATH = '/content/data_task1/'\n",
        "\n",
        "               \n",
        "sample_sub = pd.read_csv('/content/sample_submission.csv')\n",
        "produv_train = pd.read_csv(PATH + 'produv_train.csv', index_col=0)\n",
        "lom_train = pd.read_csv(PATH + 'lom_train.csv')\n",
        "plavki = pd.read_csv(PATH + 'plavki_train.csv', index_col=0)\n",
        "sip_train = pd.read_csv(PATH + 'sip_train.csv')\n",
        "chronom_train = pd.read_csv(PATH + 'chronom_train.csv', index_col=0)\n",
        "chugun_train = pd.read_csv(PATH + 'chugun_train.csv', index_col=0)\n",
        "gas_train = pd.read_csv(PATH + 'gas_train.csv', index_col=0)\n",
        "target_train = pd.read_csv(PATH + 'target_train.csv', index_col=0)\n",
        "produv_test = pd.read_csv(PATH + 'produv_test.csv', index_col=0)\n",
        "lom_test = pd.read_csv(PATH + 'lom_test.csv')\n",
        "plavki_test = pd.read_csv(PATH + 'plavki_test.csv', index_col=0)\n",
        "chronom_test = pd.read_csv(PATH + 'chronom_test.csv', index_col=0)\n",
        "chugun_test = pd.read_csv(PATH + 'chugun_test.csv', index_col=0)\n",
        "gas_test = pd.read_csv(PATH + 'gas_test.csv', index_col=0)\n",
        "sip_test = pd.read_csv(PATH + 'sip_test.csv')"
      ],
      "execution_count": null,
      "outputs": []
    },
    {
      "cell_type": "markdown",
      "metadata": {
        "id": "apYcSAOG3pQh"
      },
      "source": [
        "### Сбор и обработка данных"
      ]
    },
    {
      "cell_type": "code",
      "metadata": {
        "id": "vFODk83V3foP"
      },
      "source": [
        "features, test, target_train = concat_data(produv_train,\n",
        "                                            lom_train,\n",
        "                                            plavki,\n",
        "                                            sip_train,\n",
        "                                            chronom_train,\n",
        "                                            chugun_train,\n",
        "                                            gas_train,\n",
        "                                            target_train,\n",
        "                                            produv_test,\n",
        "                                            lom_test,\n",
        "                                            plavki_test,\n",
        "                                            chronom_test,\n",
        "                                            chugun_test,\n",
        "                                            gas_test,\n",
        "                                            sip_test\n",
        "                                           )"
      ],
      "execution_count": null,
      "outputs": []
    },
    {
      "cell_type": "markdown",
      "metadata": {
        "id": "Fz-WOBmv3rpx"
      },
      "source": [
        "### Предсказания температуры"
      ]
    },
    {
      "cell_type": "code",
      "metadata": {
        "colab": {
          "base_uri": "https://localhost:8080/"
        },
        "id": "dqxH9HJo3iXJ",
        "outputId": "4008e843-d874-4d02-b9a2-c51895ff911a"
      },
      "source": [
        "X_t, y_tst, y_c = prepared_date(features, test, target_train)\n",
        "\n",
        "X_train, X_test, cat_features, y_temperature = select_and_transform_SHAP(X_t, y_tst, 10)\n",
        "\n",
        "params = { 'eval_metric': 'RMSE', \n",
        "          'objective': 'RMSE', \n",
        "          'eta':0.05,\n",
        "          'depth': 3,\n",
        "          'n_estimators': 1500,           \n",
        "          'l2_leaf_reg': 50,  \n",
        "          'random_state': 42,\n",
        "          'verbose':200 ,\n",
        "          'one_hot_max_size': 15\n",
        "               }\n",
        "\n",
        "sample_sub['TST'] = predict_(X_train, X_test, cat_features, y_temperature)"
      ],
      "execution_count": null,
      "outputs": [
        {
          "output_type": "stream",
          "name": "stdout",
          "text": [
            "0:\tlearn: 30.6563183\ttest: 30.1323345\tbest: 30.1323345 (0)\ttotal: 12.2ms\tremaining: 2m 1s\n",
            "200:\tlearn: 24.8115227\ttest: 25.7428294\tbest: 25.7428294 (200)\ttotal: 2.16s\tremaining: 1m 45s\n",
            "400:\tlearn: 21.9777476\ttest: 25.1199829\tbest: 25.1140969 (397)\ttotal: 4.37s\tremaining: 1m 44s\n",
            "600:\tlearn: 20.3036427\ttest: 24.9324237\tbest: 24.9267112 (595)\ttotal: 6.58s\tremaining: 1m 42s\n",
            "800:\tlearn: 18.9943449\ttest: 24.8170455\tbest: 24.8170455 (800)\ttotal: 8.81s\tremaining: 1m 41s\n",
            "1000:\tlearn: 17.6776641\ttest: 24.7232661\tbest: 24.7149237 (964)\ttotal: 11s\tremaining: 1m 39s\n",
            "1200:\tlearn: 16.5815014\ttest: 24.6813066\tbest: 24.6772112 (1188)\ttotal: 13.2s\tremaining: 1m 36s\n",
            "1400:\tlearn: 15.5948799\ttest: 24.7041538\tbest: 24.6730522 (1232)\ttotal: 15.4s\tremaining: 1m 34s\n",
            "Stopped by overfitting detector  (200 iterations wait)\n",
            "\n",
            "bestTest = 24.67305217\n",
            "bestIteration = 1232\n",
            "\n",
            "Shrink model to first 1233 iterations.\n",
            "0:\tlearn: 29.5965259\ttest: 32.2945898\tbest: 32.2945898 (0)\ttotal: 923us\tremaining: 1.38s\n",
            "200:\tlearn: 24.5725997\ttest: 28.2637460\tbest: 28.2637460 (200)\ttotal: 150ms\tremaining: 971ms\n",
            "400:\tlearn: 23.2596426\ttest: 27.9067315\tbest: 27.8991581 (383)\ttotal: 303ms\tremaining: 831ms\n",
            "600:\tlearn: 22.3971568\ttest: 27.8905211\tbest: 27.8448901 (484)\ttotal: 450ms\tremaining: 673ms\n",
            "800:\tlearn: 21.6673887\ttest: 28.0254519\tbest: 27.8448901 (484)\ttotal: 602ms\tremaining: 525ms\n",
            "1000:\tlearn: 21.0314698\ttest: 28.1443819\tbest: 27.8448901 (484)\ttotal: 763ms\tremaining: 381ms\n",
            "1200:\tlearn: 20.3705551\ttest: 28.1080663\tbest: 27.8448901 (484)\ttotal: 920ms\tremaining: 229ms\n",
            "1400:\tlearn: 19.8387645\ttest: 28.2191838\tbest: 27.8448901 (484)\ttotal: 1.07s\tremaining: 75.5ms\n",
            "1499:\tlearn: 19.5881856\ttest: 28.2000593\tbest: 27.8448901 (484)\ttotal: 1.15s\tremaining: 0us\n",
            "\n",
            "bestTest = 27.84489012\n",
            "bestIteration = 484\n",
            "\n",
            "Shrink model to first 485 iterations.\n",
            "Fold 0 | Metric: 0.546\n",
            "\n",
            "0:\tlearn: 29.8740883\ttest: 30.3516830\tbest: 30.3516830 (0)\ttotal: 928us\tremaining: 1.39s\n",
            "200:\tlearn: 24.7922766\ttest: 26.6235530\tbest: 26.6235530 (200)\ttotal: 154ms\tremaining: 998ms\n",
            "400:\tlearn: 23.6557875\ttest: 26.3453826\tbest: 26.3341691 (375)\ttotal: 301ms\tremaining: 826ms\n",
            "600:\tlearn: 22.7809491\ttest: 26.3410674\tbest: 26.2957644 (491)\ttotal: 453ms\tremaining: 677ms\n",
            "800:\tlearn: 22.0802214\ttest: 26.3839634\tbest: 26.2957644 (491)\ttotal: 616ms\tremaining: 537ms\n",
            "1000:\tlearn: 21.3903726\ttest: 26.3993539\tbest: 26.2957644 (491)\ttotal: 766ms\tremaining: 382ms\n",
            "1200:\tlearn: 20.7763921\ttest: 26.3140536\tbest: 26.2957644 (491)\ttotal: 924ms\tremaining: 230ms\n",
            "1400:\tlearn: 20.3433935\ttest: 26.2648103\tbest: 26.2648103 (1400)\ttotal: 1.08s\tremaining: 76.1ms\n",
            "1499:\tlearn: 20.0992289\ttest: 26.2501015\tbest: 26.2394711 (1436)\ttotal: 1.15s\tremaining: 0us\n",
            "\n",
            "bestTest = 26.23947111\n",
            "bestIteration = 1436\n",
            "\n",
            "Shrink model to first 1437 iterations.\n",
            "Fold 1 | Metric: 0.562\n",
            "\n",
            "0:\tlearn: 30.0343280\ttest: 29.3600460\tbest: 29.3600460 (0)\ttotal: 1.07ms\tremaining: 1.61s\n",
            "200:\tlearn: 24.7494815\ttest: 26.4058852\tbest: 26.4047773 (198)\ttotal: 156ms\tremaining: 1.01s\n",
            "400:\tlearn: 23.4902223\ttest: 26.2423927\tbest: 26.2423927 (400)\ttotal: 318ms\tremaining: 871ms\n",
            "600:\tlearn: 22.5466194\ttest: 26.1635427\tbest: 26.1576280 (557)\ttotal: 471ms\tremaining: 704ms\n",
            "800:\tlearn: 21.7935165\ttest: 26.1466756\tbest: 26.1412776 (793)\ttotal: 627ms\tremaining: 547ms\n",
            "1000:\tlearn: 21.1423066\ttest: 26.1730500\tbest: 26.1412776 (793)\ttotal: 778ms\tremaining: 388ms\n",
            "1200:\tlearn: 20.5937562\ttest: 26.1464929\tbest: 26.1177812 (1105)\ttotal: 931ms\tremaining: 232ms\n",
            "1400:\tlearn: 20.1052526\ttest: 26.1506412\tbest: 26.1177812 (1105)\ttotal: 1.08s\tremaining: 76.5ms\n",
            "1499:\tlearn: 19.8626808\ttest: 26.1532763\tbest: 26.1177812 (1105)\ttotal: 1.16s\tremaining: 0us\n",
            "\n",
            "bestTest = 26.11778121\n",
            "bestIteration = 1105\n",
            "\n",
            "Shrink model to first 1106 iterations.\n",
            "Fold 2 | Metric: 0.567\n",
            "\n",
            "0:\tlearn: 30.3653108\ttest: 26.7936095\tbest: 26.7936095 (0)\ttotal: 908us\tremaining: 1.36s\n",
            "200:\tlearn: 25.2185859\ttest: 23.2492092\tbest: 23.1957083 (161)\ttotal: 153ms\tremaining: 986ms\n",
            "400:\tlearn: 24.1643962\ttest: 23.2120330\tbest: 23.1957083 (161)\ttotal: 310ms\tremaining: 851ms\n",
            "600:\tlearn: 23.1915024\ttest: 23.2051733\tbest: 23.1596690 (554)\ttotal: 459ms\tremaining: 687ms\n",
            "800:\tlearn: 22.5446587\ttest: 23.2121182\tbest: 23.1596690 (554)\ttotal: 607ms\tremaining: 530ms\n",
            "1000:\tlearn: 21.9719641\ttest: 23.2568865\tbest: 23.1596690 (554)\ttotal: 756ms\tremaining: 377ms\n",
            "1200:\tlearn: 21.3730355\ttest: 23.2602709\tbest: 23.1596690 (554)\ttotal: 919ms\tremaining: 229ms\n",
            "1400:\tlearn: 20.8771467\ttest: 23.3566582\tbest: 23.1596690 (554)\ttotal: 1.07s\tremaining: 75.9ms\n",
            "1499:\tlearn: 20.6167928\ttest: 23.4336231\tbest: 23.1596690 (554)\ttotal: 1.15s\tremaining: 0us\n",
            "\n",
            "bestTest = 23.15966896\n",
            "bestIteration = 554\n",
            "\n",
            "Shrink model to first 555 iterations.\n",
            "Fold 3 | Metric: 0.642\n",
            "\n",
            "0:\tlearn: 30.1551280\ttest: 28.2430343\tbest: 28.2430343 (0)\ttotal: 1.13ms\tremaining: 1.7s\n",
            "200:\tlearn: 24.8428045\ttest: 25.7038589\tbest: 25.6987630 (199)\ttotal: 154ms\tremaining: 993ms\n",
            "400:\tlearn: 23.7972504\ttest: 25.5312997\tbest: 25.5312997 (400)\ttotal: 302ms\tremaining: 828ms\n",
            "600:\tlearn: 22.9382495\ttest: 25.4060519\tbest: 25.3963128 (580)\ttotal: 451ms\tremaining: 675ms\n",
            "800:\tlearn: 22.1615633\ttest: 25.3376239\tbest: 25.3296314 (747)\ttotal: 605ms\tremaining: 528ms\n",
            "1000:\tlearn: 21.4828826\ttest: 25.3524367\tbest: 25.3288644 (944)\ttotal: 769ms\tremaining: 383ms\n",
            "1200:\tlearn: 20.8718427\ttest: 25.2851152\tbest: 25.2776961 (1198)\ttotal: 920ms\tremaining: 229ms\n",
            "1400:\tlearn: 20.3620587\ttest: 25.2373336\tbest: 25.2373336 (1400)\ttotal: 1.07s\tremaining: 75.5ms\n",
            "1499:\tlearn: 20.1209761\ttest: 25.1862479\tbest: 25.1812424 (1481)\ttotal: 1.14s\tremaining: 0us\n",
            "\n",
            "bestTest = 25.18124236\n",
            "bestIteration = 1481\n",
            "\n",
            "Shrink model to first 1482 iterations.\n",
            "Fold 4 | Metric: 0.528\n",
            "\n",
            "0:\tlearn: 29.6871286\ttest: 31.5336453\tbest: 31.5336453 (0)\ttotal: 846us\tremaining: 1.27s\n",
            "200:\tlearn: 24.5670128\ttest: 27.9157743\tbest: 27.9064489 (197)\ttotal: 156ms\tremaining: 1.01s\n",
            "400:\tlearn: 23.2837189\ttest: 27.4278302\tbest: 27.4255326 (397)\ttotal: 306ms\tremaining: 839ms\n",
            "600:\tlearn: 22.5514554\ttest: 27.2744609\tbest: 27.2744609 (600)\ttotal: 465ms\tremaining: 695ms\n",
            "800:\tlearn: 21.9408407\ttest: 27.1461624\tbest: 27.1282492 (789)\ttotal: 615ms\tremaining: 537ms\n",
            "1000:\tlearn: 21.3816056\ttest: 27.1007693\tbest: 27.0923512 (984)\ttotal: 768ms\tremaining: 383ms\n",
            "1200:\tlearn: 20.8695097\ttest: 27.1297812\tbest: 27.0875849 (1080)\ttotal: 921ms\tremaining: 229ms\n",
            "1400:\tlearn: 20.4117319\ttest: 27.1551668\tbest: 27.0875849 (1080)\ttotal: 1.08s\tremaining: 76.3ms\n",
            "1499:\tlearn: 20.1578266\ttest: 27.1144353\tbest: 27.0875849 (1080)\ttotal: 1.16s\tremaining: 0us\n",
            "\n",
            "bestTest = 27.0875849\n",
            "bestIteration = 1080\n",
            "\n",
            "Shrink model to first 1081 iterations.\n",
            "Fold 5 | Metric: 0.487\n",
            "\n",
            "0:\tlearn: 29.7093246\ttest: 31.4836593\tbest: 31.4836593 (0)\ttotal: 861us\tremaining: 1.29s\n",
            "200:\tlearn: 24.8213625\ttest: 27.4492182\tbest: 27.4410862 (191)\ttotal: 166ms\tremaining: 1.07s\n",
            "400:\tlearn: 23.6961591\ttest: 27.2606124\tbest: 27.2411925 (392)\ttotal: 312ms\tremaining: 856ms\n",
            "600:\tlearn: 22.7611367\ttest: 27.0859654\tbest: 27.0808932 (599)\ttotal: 469ms\tremaining: 702ms\n",
            "800:\tlearn: 21.9825813\ttest: 26.9862780\tbest: 26.9862780 (800)\ttotal: 616ms\tremaining: 538ms\n",
            "1000:\tlearn: 21.4289328\ttest: 27.0008882\tbest: 26.9807005 (837)\ttotal: 769ms\tremaining: 383ms\n",
            "1200:\tlearn: 20.8898081\ttest: 26.9964336\tbest: 26.9757760 (1086)\ttotal: 925ms\tremaining: 230ms\n",
            "1400:\tlearn: 20.3880998\ttest: 27.0244765\tbest: 26.9757760 (1086)\ttotal: 1.09s\tremaining: 76.8ms\n",
            "1499:\tlearn: 20.2033399\ttest: 27.0527810\tbest: 26.9757760 (1086)\ttotal: 1.16s\tremaining: 0us\n",
            "\n",
            "bestTest = 26.97577597\n",
            "bestIteration = 1086\n",
            "\n",
            "Shrink model to first 1087 iterations.\n",
            "Fold 6 | Metric: 0.591\n",
            "\n",
            "0:\tlearn: 30.0713223\ttest: 29.2731589\tbest: 29.2731589 (0)\ttotal: 1.07ms\tremaining: 1.6s\n",
            "200:\tlearn: 25.1811836\ttest: 23.9342049\tbest: 23.9342049 (200)\ttotal: 156ms\tremaining: 1s\n",
            "400:\tlearn: 24.0134151\ttest: 23.6467217\tbest: 23.6291772 (390)\ttotal: 303ms\tremaining: 830ms\n",
            "600:\tlearn: 23.1378533\ttest: 23.6416173\tbest: 23.6047604 (472)\ttotal: 463ms\tremaining: 693ms\n",
            "800:\tlearn: 22.4219020\ttest: 23.6633094\tbest: 23.6047604 (472)\ttotal: 613ms\tremaining: 535ms\n",
            "1000:\tlearn: 21.8077925\ttest: 23.7349233\tbest: 23.6047604 (472)\ttotal: 775ms\tremaining: 386ms\n",
            "1200:\tlearn: 21.2692948\ttest: 23.7904447\tbest: 23.6047604 (472)\ttotal: 924ms\tremaining: 230ms\n",
            "1400:\tlearn: 20.7367745\ttest: 23.8411748\tbest: 23.6047604 (472)\ttotal: 1.08s\tremaining: 76.2ms\n",
            "1499:\tlearn: 20.5256586\ttest: 23.8412566\tbest: 23.6047604 (472)\ttotal: 1.15s\tremaining: 0us\n",
            "\n",
            "bestTest = 23.6047604\n",
            "bestIteration = 472\n",
            "\n",
            "Shrink model to first 473 iterations.\n",
            "Fold 7 | Metric: 0.653\n",
            "\n"
          ]
        }
      ]
    },
    {
      "cell_type": "code",
      "metadata": {
        "colab": {
          "base_uri": "https://localhost:8080/",
          "height": 255
        },
        "id": "S8_r_vFaHzxH",
        "outputId": "17c517bb-df00-49b7-d1cb-274e5a1c2192"
      },
      "source": [
        "X_train.head()"
      ],
      "execution_count": null,
      "outputs": [
        {
          "output_type": "execute_result",
          "data": {
            "text/html": [
              "<div>\n",
              "<style scoped>\n",
              "    .dataframe tbody tr th:only-of-type {\n",
              "        vertical-align: middle;\n",
              "    }\n",
              "\n",
              "    .dataframe tbody tr th {\n",
              "        vertical-align: top;\n",
              "    }\n",
              "\n",
              "    .dataframe thead th {\n",
              "        text-align: right;\n",
              "    }\n",
              "</style>\n",
              "<table border=\"1\" class=\"dataframe\">\n",
              "  <thead>\n",
              "    <tr style=\"text-align: right;\">\n",
              "      <th></th>\n",
              "      <th>produv_time</th>\n",
              "      <th>plavka_NAPR_ZAD</th>\n",
              "      <th>H2</th>\n",
              "      <th>plavka_NMZ</th>\n",
              "      <th>T_x</th>\n",
              "      <th>CO</th>\n",
              "      <th>POL</th>\n",
              "      <th>0</th>\n",
              "      <th>sip_VES_VDSYP346</th>\n",
              "      <th>T_y</th>\n",
              "    </tr>\n",
              "    <tr>\n",
              "      <th>NPLV</th>\n",
              "      <th></th>\n",
              "      <th></th>\n",
              "      <th></th>\n",
              "      <th></th>\n",
              "      <th></th>\n",
              "      <th></th>\n",
              "      <th></th>\n",
              "      <th></th>\n",
              "      <th></th>\n",
              "      <th></th>\n",
              "    </tr>\n",
              "  </thead>\n",
              "  <tbody>\n",
              "    <tr>\n",
              "      <th>510008</th>\n",
              "      <td>1170.0</td>\n",
              "      <td>МНЛЗ</td>\n",
              "      <td>768.501531</td>\n",
              "      <td>1661.948690</td>\n",
              "      <td>1396.0</td>\n",
              "      <td>41090.015328</td>\n",
              "      <td>7.070000</td>\n",
              "      <td>76200</td>\n",
              "      <td>2950</td>\n",
              "      <td>1.086623e+06</td>\n",
              "    </tr>\n",
              "    <tr>\n",
              "      <th>510009</th>\n",
              "      <td>1230.0</td>\n",
              "      <td>МНЛЗ</td>\n",
              "      <td>644.838259</td>\n",
              "      <td>1661.948690</td>\n",
              "      <td>1419.0</td>\n",
              "      <td>44161.639846</td>\n",
              "      <td>4.760000</td>\n",
              "      <td>78600</td>\n",
              "      <td>2930</td>\n",
              "      <td>1.224648e+06</td>\n",
              "    </tr>\n",
              "    <tr>\n",
              "      <th>510010</th>\n",
              "      <td>1226.0</td>\n",
              "      <td>Изл</td>\n",
              "      <td>880.935583</td>\n",
              "      <td>1654.954185</td>\n",
              "      <td>1384.0</td>\n",
              "      <td>41790.572992</td>\n",
              "      <td>4.083052</td>\n",
              "      <td>76300</td>\n",
              "      <td>2990</td>\n",
              "      <td>1.182742e+06</td>\n",
              "    </tr>\n",
              "    <tr>\n",
              "      <th>510011</th>\n",
              "      <td>1058.0</td>\n",
              "      <td>Изл</td>\n",
              "      <td>306.418999</td>\n",
              "      <td>1647.984496</td>\n",
              "      <td>1401.0</td>\n",
              "      <td>38422.515437</td>\n",
              "      <td>12.490000</td>\n",
              "      <td>84100</td>\n",
              "      <td>3620</td>\n",
              "      <td>9.548288e+05</td>\n",
              "    </tr>\n",
              "    <tr>\n",
              "      <th>510012</th>\n",
              "      <td>1239.0</td>\n",
              "      <td>МНЛС</td>\n",
              "      <td>1262.575700</td>\n",
              "      <td>1638.376055</td>\n",
              "      <td>1422.0</td>\n",
              "      <td>40544.277759</td>\n",
              "      <td>5.000000</td>\n",
              "      <td>76100</td>\n",
              "      <td>2930</td>\n",
              "      <td>1.114291e+06</td>\n",
              "    </tr>\n",
              "  </tbody>\n",
              "</table>\n",
              "</div>"
            ],
            "text/plain": [
              "        produv_time plavka_NAPR_ZAD  ...  sip_VES_VDSYP346           T_y\n",
              "NPLV                                 ...                                \n",
              "510008       1170.0            МНЛЗ  ...              2950  1.086623e+06\n",
              "510009       1230.0            МНЛЗ  ...              2930  1.224648e+06\n",
              "510010       1226.0             Изл  ...              2990  1.182742e+06\n",
              "510011       1058.0             Изл  ...              3620  9.548288e+05\n",
              "510012       1239.0            МНЛС  ...              2930  1.114291e+06\n",
              "\n",
              "[5 rows x 10 columns]"
            ]
          },
          "metadata": {},
          "execution_count": 126
        }
      ]
    },
    {
      "cell_type": "code",
      "metadata": {
        "colab": {
          "base_uri": "https://localhost:8080/",
          "height": 334
        },
        "id": "hyIboXVl6sJs",
        "outputId": "450edf0a-7b60-4ba6-d414-e974b7fc1a47"
      },
      "source": [
        "fig = plt.figure(figsize=(15,5))\n",
        "sns.kdeplot(data=y_temperature, x=y_temperature, label='real')\n",
        "sns.kdeplot(data=sample_sub, x='TST', label='overfitted')\n",
        "plt.legend(loc=\"upper right\")\n",
        "plt.show()"
      ],
      "execution_count": null,
      "outputs": [
        {
          "output_type": "display_data",
          "data": {
            "image/png": "[encoded data removed]",
            "text/plain": [
              "<Figure size 1080x360 with 1 Axes>"
            ]
          },
          "metadata": {
            "needs_background": "light"
          }
        }
      ]
    },
    {
      "cell_type": "markdown",
      "metadata": {
        "id": "rpLZ30lO2swQ"
      },
      "source": [
        "С хвостами стало лучше"
      ]
    },
    {
      "cell_type": "markdown",
      "metadata": {
        "id": "x9ZLIiyN3uMa"
      },
      "source": [
        "### Предсказание углерода"
      ]
    },
    {
      "cell_type": "code",
      "metadata": {
        "colab": {
          "base_uri": "https://localhost:8080/"
        },
        "id": "kgDUw0ToXNA2",
        "outputId": "d318361f-6374-4136-f2fd-7f408a54fe5c"
      },
      "source": [
        "X_train, X_test, cat_features, y_carbon = select_and_transform(X_t, y_c, 8)\n",
        "\n",
        "params = { 'eval_metric': 'RMSE', \n",
        "          'objective': 'RMSE', \n",
        "          'eta':0.05,\n",
        "          'depth': 3,\n",
        "          'n_estimators': 2500,   \n",
        "          'one_hot_max_size': 30,        \n",
        "          'l2_leaf_reg': 50,  \n",
        "          'random_state': 42, \n",
        "          'cat_features':cat_features, \n",
        "          'verbose':200     \n",
        "               }\n",
        "\n",
        "sample_sub['C'] = predict_(X_train, X_test, cat_features, y_carbon)"
      ],
      "execution_count": null,
      "outputs": [
        {
          "output_type": "stream",
          "name": "stdout",
          "text": [
            "0:\tlearn: 0.1017599\ttest: 0.0922378\tbest: 0.0922378 (0)\ttotal: 12.9ms\tremaining: 2m 9s\n",
            "200:\tlearn: 0.0575083\ttest: 0.0535473\tbest: 0.0535473 (200)\ttotal: 2.12s\tremaining: 1m 43s\n",
            "400:\tlearn: 0.0488016\ttest: 0.0518759\tbest: 0.0518674 (398)\ttotal: 4.25s\tremaining: 1m 41s\n",
            "600:\tlearn: 0.0443610\ttest: 0.0513639\tbest: 0.0513639 (600)\ttotal: 6.4s\tremaining: 1m 40s\n",
            "800:\tlearn: 0.0415692\ttest: 0.0509940\tbest: 0.0509865 (794)\ttotal: 8.55s\tremaining: 1m 38s\n",
            "1000:\tlearn: 0.0392425\ttest: 0.0506928\tbest: 0.0506577 (950)\ttotal: 10.7s\tremaining: 1m 36s\n",
            "1200:\tlearn: 0.0375854\ttest: 0.0503824\tbest: 0.0503816 (1196)\ttotal: 12.8s\tremaining: 1m 34s\n",
            "1400:\tlearn: 0.0365473\ttest: 0.0502637\tbest: 0.0502637 (1400)\ttotal: 14.9s\tremaining: 1m 31s\n",
            "1600:\tlearn: 0.0352737\ttest: 0.0501779\tbest: 0.0501779 (1600)\ttotal: 17s\tremaining: 1m 29s\n",
            "1800:\tlearn: 0.0337350\ttest: 0.0501394\tbest: 0.0500957 (1767)\ttotal: 19.2s\tremaining: 1m 27s\n",
            "Stopped by overfitting detector  (200 iterations wait)\n",
            "\n",
            "bestTest = 0.05009567904\n",
            "bestIteration = 1767\n",
            "\n",
            "Shrink model to first 1768 iterations.\n",
            "0:\tlearn: 0.2872104\ttest: 0.2764346\tbest: 0.2764346 (0)\ttotal: 790us\tremaining: 1.98s\n",
            "200:\tlearn: 0.2260675\ttest: 0.2313185\tbest: 0.2309391 (172)\ttotal: 132ms\tremaining: 1.5s\n",
            "400:\tlearn: 0.2189209\ttest: 0.2322715\tbest: 0.2309391 (172)\ttotal: 257ms\tremaining: 1.34s\n",
            "600:\tlearn: 0.2128837\ttest: 0.2344339\tbest: 0.2309391 (172)\ttotal: 395ms\tremaining: 1.25s\n",
            "800:\tlearn: 0.2088406\ttest: 0.2356139\tbest: 0.2309391 (172)\ttotal: 551ms\tremaining: 1.17s\n",
            "1000:\tlearn: 0.2043962\ttest: 0.2369556\tbest: 0.2309391 (172)\ttotal: 688ms\tremaining: 1.03s\n",
            "1200:\tlearn: 0.2002024\ttest: 0.2383784\tbest: 0.2309391 (172)\ttotal: 814ms\tremaining: 880ms\n",
            "1400:\tlearn: 0.1958655\ttest: 0.2398954\tbest: 0.2309391 (172)\ttotal: 951ms\tremaining: 746ms\n",
            "1600:\tlearn: 0.1920465\ttest: 0.2411802\tbest: 0.2309391 (172)\ttotal: 1.08s\tremaining: 605ms\n",
            "1800:\tlearn: 0.1880624\ttest: 0.2427193\tbest: 0.2309391 (172)\ttotal: 1.22s\tremaining: 472ms\n",
            "2000:\tlearn: 0.1844682\ttest: 0.2429117\tbest: 0.2309391 (172)\ttotal: 1.34s\tremaining: 335ms\n",
            "2200:\tlearn: 0.1808148\ttest: 0.2443410\tbest: 0.2309391 (172)\ttotal: 1.48s\tremaining: 201ms\n",
            "2400:\tlearn: 0.1769743\ttest: 0.2453378\tbest: 0.2309391 (172)\ttotal: 1.6s\tremaining: 66ms\n",
            "2499:\tlearn: 0.1754177\ttest: 0.2455291\tbest: 0.2309391 (172)\ttotal: 1.67s\tremaining: 0us\n",
            "\n",
            "bestTest = 0.230939068\n",
            "bestIteration = 172\n",
            "\n",
            "Shrink model to first 173 iterations.\n",
            "Fold 0 | Metric: 0.660\n",
            "\n",
            "0:\tlearn: 0.2873164\ttest: 0.2756344\tbest: 0.2756344 (0)\ttotal: 909us\tremaining: 2.27s\n",
            "200:\tlearn: 0.2266927\ttest: 0.2223453\tbest: 0.2223399 (190)\ttotal: 128ms\tremaining: 1.47s\n",
            "400:\tlearn: 0.2187812\ttest: 0.2229299\tbest: 0.2222556 (245)\ttotal: 257ms\tremaining: 1.35s\n",
            "600:\tlearn: 0.2129735\ttest: 0.2240411\tbest: 0.2222556 (245)\ttotal: 393ms\tremaining: 1.24s\n",
            "800:\tlearn: 0.2079390\ttest: 0.2256859\tbest: 0.2222556 (245)\ttotal: 526ms\tremaining: 1.11s\n",
            "1000:\tlearn: 0.2038888\ttest: 0.2259783\tbest: 0.2222556 (245)\ttotal: 657ms\tremaining: 983ms\n",
            "1200:\tlearn: 0.1996821\ttest: 0.2261506\tbest: 0.2222556 (245)\ttotal: 786ms\tremaining: 851ms\n",
            "1400:\tlearn: 0.1953655\ttest: 0.2260856\tbest: 0.2222556 (245)\ttotal: 917ms\tremaining: 719ms\n",
            "1600:\tlearn: 0.1915552\ttest: 0.2266540\tbest: 0.2222556 (245)\ttotal: 1.04s\tremaining: 587ms\n",
            "1800:\tlearn: 0.1878749\ttest: 0.2267115\tbest: 0.2222556 (245)\ttotal: 1.17s\tremaining: 455ms\n",
            "2000:\tlearn: 0.1843775\ttest: 0.2272170\tbest: 0.2222556 (245)\ttotal: 1.3s\tremaining: 324ms\n",
            "2200:\tlearn: 0.1810608\ttest: 0.2275653\tbest: 0.2222556 (245)\ttotal: 1.44s\tremaining: 195ms\n",
            "2400:\tlearn: 0.1778061\ttest: 0.2281562\tbest: 0.2222556 (245)\ttotal: 1.57s\tremaining: 64.6ms\n",
            "2499:\tlearn: 0.1762577\ttest: 0.2284780\tbest: 0.2222556 (245)\ttotal: 1.63s\tremaining: 0us\n",
            "\n",
            "bestTest = 0.2222556306\n",
            "bestIteration = 245\n",
            "\n",
            "Shrink model to first 246 iterations.\n",
            "Fold 1 | Metric: 0.711\n",
            "\n",
            "0:\tlearn: 0.2869117\ttest: 0.2854997\tbest: 0.2854997 (0)\ttotal: 865us\tremaining: 2.16s\n",
            "200:\tlearn: 0.2255529\ttest: 0.2403385\tbest: 0.2403371 (199)\ttotal: 134ms\tremaining: 1.53s\n",
            "400:\tlearn: 0.2185774\ttest: 0.2402913\tbest: 0.2401194 (370)\ttotal: 262ms\tremaining: 1.37s\n",
            "600:\tlearn: 0.2113229\ttest: 0.2407147\tbest: 0.2400880 (481)\ttotal: 396ms\tremaining: 1.25s\n",
            "800:\tlearn: 0.2058647\ttest: 0.2417156\tbest: 0.2400880 (481)\ttotal: 539ms\tremaining: 1.14s\n",
            "1000:\tlearn: 0.2005557\ttest: 0.2440627\tbest: 0.2400880 (481)\ttotal: 677ms\tremaining: 1.01s\n",
            "1200:\tlearn: 0.1955669\ttest: 0.2463933\tbest: 0.2400880 (481)\ttotal: 806ms\tremaining: 872ms\n",
            "1400:\tlearn: 0.1907887\ttest: 0.2482435\tbest: 0.2400880 (481)\ttotal: 944ms\tremaining: 741ms\n",
            "1600:\tlearn: 0.1864312\ttest: 0.2490498\tbest: 0.2400880 (481)\ttotal: 1.07s\tremaining: 601ms\n",
            "1800:\tlearn: 0.1825024\ttest: 0.2497183\tbest: 0.2400880 (481)\ttotal: 1.21s\tremaining: 472ms\n",
            "2000:\tlearn: 0.1785544\ttest: 0.2499829\tbest: 0.2400880 (481)\ttotal: 1.34s\tremaining: 334ms\n",
            "2200:\tlearn: 0.1747523\ttest: 0.2509640\tbest: 0.2400880 (481)\ttotal: 1.48s\tremaining: 201ms\n",
            "2400:\tlearn: 0.1710940\ttest: 0.2518510\tbest: 0.2400880 (481)\ttotal: 1.61s\tremaining: 66.5ms\n",
            "2499:\tlearn: 0.1694515\ttest: 0.2520687\tbest: 0.2400880 (481)\ttotal: 1.68s\tremaining: 0us\n",
            "\n",
            "bestTest = 0.2400879629\n",
            "bestIteration = 481\n",
            "\n",
            "Shrink model to first 482 iterations.\n",
            "Fold 2 | Metric: 0.711\n",
            "\n",
            "0:\tlearn: 0.2868805\ttest: 0.2812063\tbest: 0.2812063 (0)\ttotal: 772us\tremaining: 1.93s\n",
            "200:\tlearn: 0.2274942\ttest: 0.2289707\tbest: 0.2289570 (197)\ttotal: 131ms\tremaining: 1.49s\n",
            "400:\tlearn: 0.2202485\ttest: 0.2250450\tbest: 0.2250373 (399)\ttotal: 261ms\tremaining: 1.37s\n",
            "600:\tlearn: 0.2158504\ttest: 0.2239325\tbest: 0.2238544 (557)\ttotal: 385ms\tremaining: 1.22s\n",
            "800:\tlearn: 0.2119186\ttest: 0.2226612\tbest: 0.2226578 (799)\ttotal: 518ms\tremaining: 1.1s\n",
            "1000:\tlearn: 0.2078214\ttest: 0.2222068\tbest: 0.2221433 (953)\ttotal: 641ms\tremaining: 959ms\n",
            "1200:\tlearn: 0.2037933\ttest: 0.2217372\tbest: 0.2216533 (1148)\ttotal: 784ms\tremaining: 847ms\n",
            "1400:\tlearn: 0.1998877\ttest: 0.2218214\tbest: 0.2216533 (1148)\ttotal: 908ms\tremaining: 712ms\n",
            "1600:\tlearn: 0.1961899\ttest: 0.2221215\tbest: 0.2216533 (1148)\ttotal: 1.04s\tremaining: 583ms\n",
            "1800:\tlearn: 0.1926885\ttest: 0.2222677\tbest: 0.2216533 (1148)\ttotal: 1.17s\tremaining: 456ms\n",
            "2000:\tlearn: 0.1887039\ttest: 0.2223203\tbest: 0.2216533 (1148)\ttotal: 1.3s\tremaining: 325ms\n",
            "2200:\tlearn: 0.1851918\ttest: 0.2223582\tbest: 0.2216533 (1148)\ttotal: 1.43s\tremaining: 194ms\n",
            "2400:\tlearn: 0.1817438\ttest: 0.2223706\tbest: 0.2216533 (1148)\ttotal: 1.55s\tremaining: 64.1ms\n",
            "2499:\tlearn: 0.1802767\ttest: 0.2227415\tbest: 0.2216533 (1148)\ttotal: 1.63s\tremaining: 0us\n",
            "\n",
            "bestTest = 0.2216533283\n",
            "bestIteration = 1148\n",
            "\n",
            "Shrink model to first 1149 iterations.\n",
            "Fold 3 | Metric: 0.699\n",
            "\n",
            "0:\tlearn: 0.2870476\ttest: 0.2786231\tbest: 0.2786231 (0)\ttotal: 809us\tremaining: 2.02s\n",
            "200:\tlearn: 0.2266094\ttest: 0.2330856\tbest: 0.2329878 (174)\ttotal: 137ms\tremaining: 1.56s\n",
            "400:\tlearn: 0.2190323\ttest: 0.2327304\tbest: 0.2323577 (335)\ttotal: 267ms\tremaining: 1.4s\n",
            "600:\tlearn: 0.2144768\ttest: 0.2334240\tbest: 0.2323577 (335)\ttotal: 402ms\tremaining: 1.27s\n",
            "800:\tlearn: 0.2106308\ttest: 0.2336403\tbest: 0.2323577 (335)\ttotal: 529ms\tremaining: 1.12s\n",
            "1000:\tlearn: 0.2066056\ttest: 0.2338168\tbest: 0.2323577 (335)\ttotal: 670ms\tremaining: 1s\n",
            "1200:\tlearn: 0.2028873\ttest: 0.2334361\tbest: 0.2323577 (335)\ttotal: 799ms\tremaining: 864ms\n",
            "1400:\tlearn: 0.1997965\ttest: 0.2333257\tbest: 0.2323577 (335)\ttotal: 938ms\tremaining: 735ms\n",
            "1600:\tlearn: 0.1968514\ttest: 0.2333831\tbest: 0.2323577 (335)\ttotal: 1.06s\tremaining: 597ms\n",
            "1800:\tlearn: 0.1933521\ttest: 0.2330599\tbest: 0.2323577 (335)\ttotal: 1.2s\tremaining: 464ms\n",
            "2000:\tlearn: 0.1903132\ttest: 0.2330652\tbest: 0.2323577 (335)\ttotal: 1.32s\tremaining: 329ms\n",
            "2200:\tlearn: 0.1871120\ttest: 0.2335478\tbest: 0.2323577 (335)\ttotal: 1.46s\tremaining: 198ms\n",
            "2400:\tlearn: 0.1841561\ttest: 0.2335987\tbest: 0.2323577 (335)\ttotal: 1.58s\tremaining: 65.1ms\n",
            "2499:\tlearn: 0.1828223\ttest: 0.2336536\tbest: 0.2323577 (335)\ttotal: 1.64s\tremaining: 0us\n",
            "\n",
            "bestTest = 0.2323576821\n",
            "bestIteration = 335\n",
            "\n",
            "Shrink model to first 336 iterations.\n",
            "Fold 4 | Metric: 0.658\n",
            "\n",
            "0:\tlearn: 0.2867506\ttest: 0.3010632\tbest: 0.3010632 (0)\ttotal: 799us\tremaining: 2s\n",
            "200:\tlearn: 0.2275399\ttest: 0.2479962\tbest: 0.2479962 (200)\ttotal: 141ms\tremaining: 1.62s\n",
            "400:\tlearn: 0.2192242\ttest: 0.2465580\tbest: 0.2464480 (355)\ttotal: 270ms\tremaining: 1.41s\n",
            "600:\tlearn: 0.2138804\ttest: 0.2462103\tbest: 0.2460793 (576)\ttotal: 400ms\tremaining: 1.26s\n",
            "800:\tlearn: 0.2095578\ttest: 0.2464959\tbest: 0.2460793 (576)\ttotal: 524ms\tremaining: 1.11s\n",
            "1000:\tlearn: 0.2048651\ttest: 0.2469878\tbest: 0.2460793 (576)\ttotal: 665ms\tremaining: 996ms\n",
            "1200:\tlearn: 0.2009861\ttest: 0.2478072\tbest: 0.2460793 (576)\ttotal: 791ms\tremaining: 856ms\n",
            "1400:\tlearn: 0.1970300\ttest: 0.2483795\tbest: 0.2460793 (576)\ttotal: 926ms\tremaining: 726ms\n",
            "1600:\tlearn: 0.1932195\ttest: 0.2488556\tbest: 0.2460793 (576)\ttotal: 1.06s\tremaining: 595ms\n",
            "1800:\tlearn: 0.1902311\ttest: 0.2488486\tbest: 0.2460793 (576)\ttotal: 1.19s\tremaining: 462ms\n",
            "2000:\tlearn: 0.1869636\ttest: 0.2500493\tbest: 0.2460793 (576)\ttotal: 1.34s\tremaining: 333ms\n",
            "2200:\tlearn: 0.1836099\ttest: 0.2510366\tbest: 0.2460793 (576)\ttotal: 1.47s\tremaining: 200ms\n",
            "2400:\tlearn: 0.1807180\ttest: 0.2517298\tbest: 0.2460793 (576)\ttotal: 1.59s\tremaining: 65.6ms\n",
            "2499:\tlearn: 0.1791582\ttest: 0.2520311\tbest: 0.2460793 (576)\ttotal: 1.66s\tremaining: 0us\n",
            "\n",
            "bestTest = 0.2460792904\n",
            "bestIteration = 576\n",
            "\n",
            "Shrink model to first 577 iterations.\n",
            "Fold 5 | Metric: 0.642\n",
            "\n",
            "0:\tlearn: 0.2868968\ttest: 0.2959049\tbest: 0.2959049 (0)\ttotal: 739us\tremaining: 1.85s\n",
            "200:\tlearn: 0.2273738\ttest: 0.2401742\tbest: 0.2401742 (200)\ttotal: 131ms\tremaining: 1.5s\n",
            "400:\tlearn: 0.2182718\ttest: 0.2381881\tbest: 0.2381054 (397)\ttotal: 269ms\tremaining: 1.41s\n",
            "600:\tlearn: 0.2124577\ttest: 0.2376108\tbest: 0.2374879 (583)\ttotal: 399ms\tremaining: 1.26s\n",
            "800:\tlearn: 0.2084563\ttest: 0.2376959\tbest: 0.2374414 (662)\ttotal: 532ms\tremaining: 1.13s\n",
            "1000:\tlearn: 0.2047028\ttest: 0.2376492\tbest: 0.2374414 (662)\ttotal: 656ms\tremaining: 982ms\n",
            "1200:\tlearn: 0.1999454\ttest: 0.2380896\tbest: 0.2374414 (662)\ttotal: 787ms\tremaining: 851ms\n",
            "1400:\tlearn: 0.1961421\ttest: 0.2383830\tbest: 0.2374414 (662)\ttotal: 911ms\tremaining: 715ms\n",
            "1600:\tlearn: 0.1922916\ttest: 0.2388070\tbest: 0.2374414 (662)\ttotal: 1.04s\tremaining: 582ms\n",
            "1800:\tlearn: 0.1882402\ttest: 0.2394213\tbest: 0.2374414 (662)\ttotal: 1.18s\tremaining: 457ms\n",
            "2000:\tlearn: 0.1848318\ttest: 0.2397232\tbest: 0.2374414 (662)\ttotal: 1.31s\tremaining: 326ms\n",
            "2200:\tlearn: 0.1811883\ttest: 0.2402182\tbest: 0.2374414 (662)\ttotal: 1.44s\tremaining: 196ms\n",
            "2400:\tlearn: 0.1782231\ttest: 0.2405085\tbest: 0.2374414 (662)\ttotal: 1.58s\tremaining: 65.1ms\n",
            "2499:\tlearn: 0.1770985\ttest: 0.2405927\tbest: 0.2374414 (662)\ttotal: 1.64s\tremaining: 0us\n",
            "\n",
            "bestTest = 0.2374414096\n",
            "bestIteration = 662\n",
            "\n",
            "Shrink model to first 663 iterations.\n",
            "Fold 6 | Metric: 0.731\n",
            "\n",
            "0:\tlearn: 0.2869170\ttest: 0.3027239\tbest: 0.3027239 (0)\ttotal: 839us\tremaining: 2.1s\n",
            "200:\tlearn: 0.2257902\ttest: 0.2563336\tbest: 0.2563336 (200)\ttotal: 136ms\tremaining: 1.55s\n",
            "400:\tlearn: 0.2188423\ttest: 0.2560020\tbest: 0.2558118 (340)\ttotal: 267ms\tremaining: 1.4s\n",
            "600:\tlearn: 0.2137835\ttest: 0.2563652\tbest: 0.2558118 (340)\ttotal: 408ms\tremaining: 1.29s\n",
            "800:\tlearn: 0.2093640\ttest: 0.2565549\tbest: 0.2558118 (340)\ttotal: 549ms\tremaining: 1.16s\n",
            "1000:\tlearn: 0.2048245\ttest: 0.2565768\tbest: 0.2558118 (340)\ttotal: 680ms\tremaining: 1.02s\n",
            "1200:\tlearn: 0.2005369\ttest: 0.2572556\tbest: 0.2558118 (340)\ttotal: 818ms\tremaining: 885ms\n",
            "1400:\tlearn: 0.1966250\ttest: 0.2575299\tbest: 0.2558118 (340)\ttotal: 945ms\tremaining: 741ms\n",
            "1600:\tlearn: 0.1925275\ttest: 0.2579152\tbest: 0.2558118 (340)\ttotal: 1.07s\tremaining: 602ms\n",
            "1800:\tlearn: 0.1888022\ttest: 0.2581770\tbest: 0.2558118 (340)\ttotal: 1.21s\tremaining: 468ms\n",
            "2000:\tlearn: 0.1852154\ttest: 0.2583096\tbest: 0.2558118 (340)\ttotal: 1.34s\tremaining: 335ms\n",
            "2200:\tlearn: 0.1815259\ttest: 0.2580712\tbest: 0.2558118 (340)\ttotal: 1.48s\tremaining: 201ms\n",
            "2400:\tlearn: 0.1779873\ttest: 0.2588126\tbest: 0.2558118 (340)\ttotal: 1.6s\tremaining: 66.1ms\n",
            "2499:\tlearn: 0.1762773\ttest: 0.2591558\tbest: 0.2558118 (340)\ttotal: 1.67s\tremaining: 0us\n",
            "\n",
            "bestTest = 0.2558118184\n",
            "bestIteration = 340\n",
            "\n",
            "Shrink model to first 341 iterations.\n",
            "Fold 7 | Metric: 0.617\n",
            "\n"
          ]
        }
      ]
    },
    {
      "cell_type": "code",
      "metadata": {
        "colab": {
          "base_uri": "https://localhost:8080/",
          "height": 235
        },
        "id": "h96nvimcIoVN",
        "outputId": "52cbed78-886b-4bce-d75e-b2c3887b8336"
      },
      "source": [
        "X_train.head()"
      ],
      "execution_count": null,
      "outputs": [
        {
          "output_type": "execute_result",
          "data": {
            "text/html": [
              "<div>\n",
              "<style scoped>\n",
              "    .dataframe tbody tr th:only-of-type {\n",
              "        vertical-align: middle;\n",
              "    }\n",
              "\n",
              "    .dataframe tbody tr th {\n",
              "        vertical-align: top;\n",
              "    }\n",
              "\n",
              "    .dataframe thead th {\n",
              "        text-align: right;\n",
              "    }\n",
              "</style>\n",
              "<table border=\"1\" class=\"dataframe\">\n",
              "  <thead>\n",
              "    <tr style=\"text-align: right;\">\n",
              "      <th></th>\n",
              "      <th>plavka_NMZ</th>\n",
              "      <th>VES</th>\n",
              "      <th>sip_VES_VDSYP408</th>\n",
              "      <th>produv_time</th>\n",
              "      <th>plavka_NAPR_ZAD</th>\n",
              "      <th>CO</th>\n",
              "      <th>sip_VES_VDSYP346</th>\n",
              "      <th>POL</th>\n",
              "    </tr>\n",
              "    <tr>\n",
              "      <th>NPLV</th>\n",
              "      <th></th>\n",
              "      <th></th>\n",
              "      <th></th>\n",
              "      <th></th>\n",
              "      <th></th>\n",
              "      <th></th>\n",
              "      <th></th>\n",
              "      <th></th>\n",
              "    </tr>\n",
              "  </thead>\n",
              "  <tbody>\n",
              "    <tr>\n",
              "      <th>510013</th>\n",
              "      <td>0.071139</td>\n",
              "      <td>263500.0</td>\n",
              "      <td>19130</td>\n",
              "      <td>1179.0</td>\n",
              "      <td>МНЛС</td>\n",
              "      <td>42137.650407</td>\n",
              "      <td>2190</td>\n",
              "      <td>9.00</td>\n",
              "    </tr>\n",
              "    <tr>\n",
              "      <th>510014</th>\n",
              "      <td>0.071139</td>\n",
              "      <td>264500.0</td>\n",
              "      <td>21160</td>\n",
              "      <td>1167.0</td>\n",
              "      <td>МНЛС</td>\n",
              "      <td>47549.384963</td>\n",
              "      <td>160</td>\n",
              "      <td>9.33</td>\n",
              "    </tr>\n",
              "    <tr>\n",
              "      <th>510016</th>\n",
              "      <td>0.071139</td>\n",
              "      <td>264900.0</td>\n",
              "      <td>19260</td>\n",
              "      <td>1190.0</td>\n",
              "      <td>МНЛС</td>\n",
              "      <td>85308.709535</td>\n",
              "      <td>2130</td>\n",
              "      <td>7.79</td>\n",
              "    </tr>\n",
              "    <tr>\n",
              "      <th>510017</th>\n",
              "      <td>0.325017</td>\n",
              "      <td>279200.0</td>\n",
              "      <td>21320</td>\n",
              "      <td>1031.0</td>\n",
              "      <td>МНЛЗ</td>\n",
              "      <td>40265.429420</td>\n",
              "      <td>1350</td>\n",
              "      <td>8.34</td>\n",
              "    </tr>\n",
              "    <tr>\n",
              "      <th>510018</th>\n",
              "      <td>0.325017</td>\n",
              "      <td>277000.0</td>\n",
              "      <td>19940</td>\n",
              "      <td>1136.0</td>\n",
              "      <td>МНЛЗ</td>\n",
              "      <td>40712.207192</td>\n",
              "      <td>160</td>\n",
              "      <td>7.48</td>\n",
              "    </tr>\n",
              "  </tbody>\n",
              "</table>\n",
              "</div>"
            ],
            "text/plain": [
              "        plavka_NMZ       VES  ...  sip_VES_VDSYP346   POL\n",
              "NPLV                          ...                        \n",
              "510013    0.071139  263500.0  ...              2190  9.00\n",
              "510014    0.071139  264500.0  ...               160  9.33\n",
              "510016    0.071139  264900.0  ...              2130  7.79\n",
              "510017    0.325017  279200.0  ...              1350  8.34\n",
              "510018    0.325017  277000.0  ...               160  7.48\n",
              "\n",
              "[5 rows x 8 columns]"
            ]
          },
          "metadata": {},
          "execution_count": 135
        }
      ]
    },
    {
      "cell_type": "code",
      "metadata": {
        "colab": {
          "base_uri": "https://localhost:8080/",
          "height": 334
        },
        "id": "siFHAJi46v1l",
        "outputId": "fe706aaf-b675-4503-89cd-27def3e05341"
      },
      "source": [
        "fig = plt.figure(figsize=(15,5))\n",
        "sns.kdeplot(data=y_carbon, x=y_carbon, label='real')\n",
        "sns.kdeplot(data=sample_sub, x='C', label='overfitted')\n",
        "plt.legend(loc=\"upper right\")\n",
        "plt.show()"
      ],
      "execution_count": null,
      "outputs": [
        {
          "output_type": "display_data",
          "data": {
            "image/png": "[encoded data removed]",
            "text/plain": [
              "<Figure size 1080x360 with 1 Axes>"
            ]
          },
          "metadata": {
            "needs_background": "light"
          }
        }
      ]
    },
    {
      "cell_type": "markdown",
      "metadata": {
        "id": "JqXL8Omo2vPx"
      },
      "source": [
        "По углероду гораздо лучше стала способность улавливать длинный хвост"
      ]
    },
    {
      "cell_type": "markdown",
      "metadata": {
        "id": "lpRwDltl3xhz"
      },
      "source": [
        "### Сабмит"
      ]
    },
    {
      "cell_type": "code",
      "metadata": {
        "colab": {
          "base_uri": "https://localhost:8080/",
          "height": 204
        },
        "id": "XDANhcSy0OP6",
        "outputId": "e1dacfc2-f713-428c-bd01-9df3d33fef3c"
      },
      "source": [
        "sample_sub.head()"
      ],
      "execution_count": null,
      "outputs": [
        {
          "output_type": "execute_result",
          "data": {
            "text/html": [
              "<div>\n",
              "<style scoped>\n",
              "    .dataframe tbody tr th:only-of-type {\n",
              "        vertical-align: middle;\n",
              "    }\n",
              "\n",
              "    .dataframe tbody tr th {\n",
              "        vertical-align: top;\n",
              "    }\n",
              "\n",
              "    .dataframe thead th {\n",
              "        text-align: right;\n",
              "    }\n",
              "</style>\n",
              "<table border=\"1\" class=\"dataframe\">\n",
              "  <thead>\n",
              "    <tr style=\"text-align: right;\">\n",
              "      <th></th>\n",
              "      <th>NPLV</th>\n",
              "      <th>TST</th>\n",
              "      <th>C</th>\n",
              "    </tr>\n",
              "  </thead>\n",
              "  <tbody>\n",
              "    <tr>\n",
              "      <th>0</th>\n",
              "      <td>512324</td>\n",
              "      <td>1655.027464</td>\n",
              "      <td>0.047197</td>\n",
              "    </tr>\n",
              "    <tr>\n",
              "      <th>1</th>\n",
              "      <td>512327</td>\n",
              "      <td>1643.917127</td>\n",
              "      <td>0.061125</td>\n",
              "    </tr>\n",
              "    <tr>\n",
              "      <th>2</th>\n",
              "      <td>512328</td>\n",
              "      <td>1656.861948</td>\n",
              "      <td>0.069512</td>\n",
              "    </tr>\n",
              "    <tr>\n",
              "      <th>3</th>\n",
              "      <td>512331</td>\n",
              "      <td>1662.529279</td>\n",
              "      <td>0.059434</td>\n",
              "    </tr>\n",
              "    <tr>\n",
              "      <th>4</th>\n",
              "      <td>512333</td>\n",
              "      <td>1646.362243</td>\n",
              "      <td>0.063972</td>\n",
              "    </tr>\n",
              "  </tbody>\n",
              "</table>\n",
              "</div>"
            ],
            "text/plain": [
              "     NPLV          TST         C\n",
              "0  512324  1655.027464  0.047197\n",
              "1  512327  1643.917127  0.061125\n",
              "2  512328  1656.861948  0.069512\n",
              "3  512331  1662.529279  0.059434\n",
              "4  512333  1646.362243  0.063972"
            ]
          },
          "metadata": {},
          "execution_count": 133
        }
      ]
    },
    {
      "cell_type": "code",
      "metadata": {
        "colab": {
          "base_uri": "https://localhost:8080/",
          "height": 17
        },
        "id": "k7DJBPyo2pU1",
        "outputId": "ff0e94f6-fc8d-4d56-f2cb-41747c50b349"
      },
      "source": [
        "sample_sub.to_csv('sub.csv', index=False)\n",
        "files.download('sub.csv')"
      ],
      "execution_count": null,
      "outputs": [
        {
          "output_type": "display_data",
          "data": {
            "application/javascript": [
              "\n",
              "    async function download(id, filename, size) {\n",
              "      if (!google.colab.kernel.accessAllowed) {\n",
              "        return;\n",
              "      }\n",
              "      const div = document.createElement('div');\n",
              "      const label = document.createElement('label');\n",
              "      label.textContent = `Downloading \"${filename}\": `;\n",
              "      div.appendChild(label);\n",
              "      const progress = document.createElement('progress');\n",
              "      progress.max = size;\n",
              "      div.appendChild(progress);\n",
              "      document.body.appendChild(div);\n",
              "\n",
              "      const buffers = [];\n",
              "      let downloaded = 0;\n",
              "\n",
              "      const channel = await google.colab.kernel.comms.open(id);\n",
              "      // Send a message to notify the kernel that we're ready.\n",
              "      channel.send({})\n",
              "\n",
              "      for await (const message of channel.messages) {\n",
              "        // Send a message to notify the kernel that we're ready.\n",
              "        channel.send({})\n",
              "        if (message.buffers) {\n",
              "          for (const buffer of message.buffers) {\n",
              "            buffers.push(buffer);\n",
              "            downloaded += buffer.byteLength;\n",
              "            progress.value = downloaded;\n",
              "          }\n",
              "        }\n",
              "      }\n",
              "      const blob = new Blob(buffers, {type: 'application/binary'});\n",
              "      const a = document.createElement('a');\n",
              "      a.href = window.URL.createObjectURL(blob);\n",
              "      a.download = filename;\n",
              "      div.appendChild(a);\n",
              "      a.click();\n",
              "      div.remove();\n",
              "    }\n",
              "  "
            ],
            "text/plain": [
              "<IPython.core.display.Javascript object>"
            ]
          },
          "metadata": {}
        },
        {
          "output_type": "display_data",
          "data": {
            "application/javascript": [
              "download(\"download_766c70ce-50f0-4610-9d0f-a8410ab451e4\", \"sub.csv\", 33568)"
            ],
            "text/plain": [
              "<IPython.core.display.Javascript object>"
            ]
          },
          "metadata": {}
        }
      ]
    }
  ]
}