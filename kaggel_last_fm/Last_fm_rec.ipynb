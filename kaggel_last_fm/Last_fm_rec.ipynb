{
  "nbformat": 4,
  "nbformat_minor": 0,
  "metadata": {
    "colab": {
      "name": "Last_fm_rec.ipynb",
      "provenance": [],
      "collapsed_sections": []
    },
    "kernelspec": {
      "name": "python3",
      "display_name": "Python 3"
    },
    "language_info": {
      "name": "python"
    }
  },
  "cells": [
    {
      "cell_type": "markdown",
      "metadata": {
        "id": "3ZD_QdQ5-T1e"
      },
      "source": [
        "![](https://i.ibb.co/SvMwJk3/gtr2.jpg)"
      ]
    },
    {
      "cell_type": "code",
      "metadata": {
        "colab": {
          "base_uri": "https://localhost:8080/"
        },
        "id": "zn0dG1JZuigD",
        "outputId": "3a162deb-1d39-4167-cbd5-f61c87ac2a95"
      },
      "source": [
        "!gdown --id 18lHOUi_yBw3ITZ0QK2v4Zz8S3hsXmDtd\n",
        "!gdown --id 1rLM9m-wNklIOr2dpaOUgW6SrzP3qkUGV"
      ],
      "execution_count": null,
      "outputs": [
        {
          "output_type": "stream",
          "name": "stdout",
          "text": [
            "Downloading...\n",
            "From: https://drive.google.com/uc?id=18lHOUi_yBw3ITZ0QK2v4Zz8S3hsXmDtd\n",
            "To: /content/lastfm_user_scrobbles.csv.zip\n",
            "100% 471k/471k [00:00<00:00, 31.8MB/s]\n",
            "Downloading...\n",
            "From: https://drive.google.com/uc?id=1rLM9m-wNklIOr2dpaOUgW6SrzP3qkUGV\n",
            "To: /content/lastfm_artist_list.csv\n",
            "100% 330k/330k [00:00<00:00, 48.3MB/s]\n"
          ]
        }
      ]
    },
    {
      "cell_type": "code",
      "metadata": {
        "id": "WjCT-3ogulYv"
      },
      "source": [
        "import pandas as pd\n",
        "import numpy as np\n",
        "from scipy import sparse\n",
        "from sklearn.preprocessing import normalize\n",
        "import re\n",
        "import seaborn as sns\n",
        "import warnings\n",
        "warnings.filterwarnings(\"ignore\")\n",
        "sns.set_style(\"darkgrid\")\n",
        "%matplotlib inline"
      ],
      "execution_count": null,
      "outputs": []
    },
    {
      "cell_type": "code",
      "metadata": {
        "id": "KBXzXGcuvtG0"
      },
      "source": [
        "df_scrobbles = pd.read_csv('/content/lastfm_user_scrobbles.csv.zip')\n",
        "df_artist = pd.read_csv('/content/lastfm_artist_list.csv')"
      ],
      "execution_count": null,
      "outputs": []
    },
    {
      "cell_type": "code",
      "metadata": {
        "id": "JAzeeLaVwFEr"
      },
      "source": [
        "def get_info(data):\n",
        "    display(data.head().style.set_caption('Dataset info'))\n",
        "    display(data.describe().T)\n",
        "    print('----')\n",
        "    print('Other info')\n",
        "    print('----')\n",
        "    print()\n",
        "    display(data.info())\n",
        "    print('----')\n",
        "    print()"
      ],
      "execution_count": null,
      "outputs": []
    },
    {
      "cell_type": "code",
      "metadata": {
        "colab": {
          "base_uri": "https://localhost:8080/",
          "height": 576
        },
        "id": "wtHzxkwqv8yk",
        "outputId": "753384c5-1dfa-4807-bf8d-69edd3207899"
      },
      "source": [
        "get_info(df_scrobbles)"
      ],
      "execution_count": null,
      "outputs": [
        {
          "output_type": "display_data",
          "data": {
            "text/html": [
              "<style  type=\"text/css\" >\n",
              "</style><table id=\"T_cc4f0858_0ff4_11ec_8fff_0242ac1c0002\" ><caption>Dataset info</caption><thead>    <tr>        <th class=\"blank level0\" ></th>        <th class=\"col_heading level0 col0\" >user_id</th>        <th class=\"col_heading level0 col1\" >artist_id</th>        <th class=\"col_heading level0 col2\" >scrobbles</th>    </tr></thead><tbody>\n",
              "                <tr>\n",
              "                        <th id=\"T_cc4f0858_0ff4_11ec_8fff_0242ac1c0002level0_row0\" class=\"row_heading level0 row0\" >0</th>\n",
              "                        <td id=\"T_cc4f0858_0ff4_11ec_8fff_0242ac1c0002row0_col0\" class=\"data row0 col0\" >1</td>\n",
              "                        <td id=\"T_cc4f0858_0ff4_11ec_8fff_0242ac1c0002row0_col1\" class=\"data row0 col1\" >4562</td>\n",
              "                        <td id=\"T_cc4f0858_0ff4_11ec_8fff_0242ac1c0002row0_col2\" class=\"data row0 col2\" >13883</td>\n",
              "            </tr>\n",
              "            <tr>\n",
              "                        <th id=\"T_cc4f0858_0ff4_11ec_8fff_0242ac1c0002level0_row1\" class=\"row_heading level0 row1\" >1</th>\n",
              "                        <td id=\"T_cc4f0858_0ff4_11ec_8fff_0242ac1c0002row1_col0\" class=\"data row1 col0\" >1</td>\n",
              "                        <td id=\"T_cc4f0858_0ff4_11ec_8fff_0242ac1c0002row1_col1\" class=\"data row1 col1\" >10191</td>\n",
              "                        <td id=\"T_cc4f0858_0ff4_11ec_8fff_0242ac1c0002row1_col2\" class=\"data row1 col2\" >11690</td>\n",
              "            </tr>\n",
              "            <tr>\n",
              "                        <th id=\"T_cc4f0858_0ff4_11ec_8fff_0242ac1c0002level0_row2\" class=\"row_heading level0 row2\" >2</th>\n",
              "                        <td id=\"T_cc4f0858_0ff4_11ec_8fff_0242ac1c0002row2_col0\" class=\"data row2 col0\" >1</td>\n",
              "                        <td id=\"T_cc4f0858_0ff4_11ec_8fff_0242ac1c0002row2_col1\" class=\"data row2 col1\" >494</td>\n",
              "                        <td id=\"T_cc4f0858_0ff4_11ec_8fff_0242ac1c0002row2_col2\" class=\"data row2 col2\" >11351</td>\n",
              "            </tr>\n",
              "            <tr>\n",
              "                        <th id=\"T_cc4f0858_0ff4_11ec_8fff_0242ac1c0002level0_row3\" class=\"row_heading level0 row3\" >3</th>\n",
              "                        <td id=\"T_cc4f0858_0ff4_11ec_8fff_0242ac1c0002row3_col0\" class=\"data row3 col0\" >1</td>\n",
              "                        <td id=\"T_cc4f0858_0ff4_11ec_8fff_0242ac1c0002row3_col1\" class=\"data row3 col1\" >6673</td>\n",
              "                        <td id=\"T_cc4f0858_0ff4_11ec_8fff_0242ac1c0002row3_col2\" class=\"data row3 col2\" >10300</td>\n",
              "            </tr>\n",
              "            <tr>\n",
              "                        <th id=\"T_cc4f0858_0ff4_11ec_8fff_0242ac1c0002level0_row4\" class=\"row_heading level0 row4\" >4</th>\n",
              "                        <td id=\"T_cc4f0858_0ff4_11ec_8fff_0242ac1c0002row4_col0\" class=\"data row4 col0\" >1</td>\n",
              "                        <td id=\"T_cc4f0858_0ff4_11ec_8fff_0242ac1c0002row4_col1\" class=\"data row4 col1\" >8402</td>\n",
              "                        <td id=\"T_cc4f0858_0ff4_11ec_8fff_0242ac1c0002row4_col2\" class=\"data row4 col2\" >8983</td>\n",
              "            </tr>\n",
              "    </tbody></table>"
            ],
            "text/plain": [
              "<pandas.io.formats.style.Styler at 0x7fcbe7117890>"
            ]
          },
          "metadata": {}
        },
        {
          "output_type": "display_data",
          "data": {
            "text/html": [
              "<div>\n",
              "<style scoped>\n",
              "    .dataframe tbody tr th:only-of-type {\n",
              "        vertical-align: middle;\n",
              "    }\n",
              "\n",
              "    .dataframe tbody tr th {\n",
              "        vertical-align: top;\n",
              "    }\n",
              "\n",
              "    .dataframe thead th {\n",
              "        text-align: right;\n",
              "    }\n",
              "</style>\n",
              "<table border=\"1\" class=\"dataframe\">\n",
              "  <thead>\n",
              "    <tr style=\"text-align: right;\">\n",
              "      <th></th>\n",
              "      <th>count</th>\n",
              "      <th>mean</th>\n",
              "      <th>std</th>\n",
              "      <th>min</th>\n",
              "      <th>25%</th>\n",
              "      <th>50%</th>\n",
              "      <th>75%</th>\n",
              "      <th>max</th>\n",
              "    </tr>\n",
              "  </thead>\n",
              "  <tbody>\n",
              "    <tr>\n",
              "      <th>user_id</th>\n",
              "      <td>92792.0</td>\n",
              "      <td>945.175845</td>\n",
              "      <td>546.755311</td>\n",
              "      <td>1.0</td>\n",
              "      <td>471.0</td>\n",
              "      <td>945.0</td>\n",
              "      <td>1417.0</td>\n",
              "      <td>1892.0</td>\n",
              "    </tr>\n",
              "    <tr>\n",
              "      <th>artist_id</th>\n",
              "      <td>92792.0</td>\n",
              "      <td>8440.215687</td>\n",
              "      <td>4879.112200</td>\n",
              "      <td>1.0</td>\n",
              "      <td>4037.0</td>\n",
              "      <td>8460.0</td>\n",
              "      <td>12435.0</td>\n",
              "      <td>17493.0</td>\n",
              "    </tr>\n",
              "    <tr>\n",
              "      <th>scrobbles</th>\n",
              "      <td>92792.0</td>\n",
              "      <td>745.521521</td>\n",
              "      <td>3752.146187</td>\n",
              "      <td>1.0</td>\n",
              "      <td>107.0</td>\n",
              "      <td>260.0</td>\n",
              "      <td>614.0</td>\n",
              "      <td>352698.0</td>\n",
              "    </tr>\n",
              "  </tbody>\n",
              "</table>\n",
              "</div>"
            ],
            "text/plain": [
              "             count         mean          std  ...     50%      75%       max\n",
              "user_id    92792.0   945.175845   546.755311  ...   945.0   1417.0    1892.0\n",
              "artist_id  92792.0  8440.215687  4879.112200  ...  8460.0  12435.0   17493.0\n",
              "scrobbles  92792.0   745.521521  3752.146187  ...   260.0    614.0  352698.0\n",
              "\n",
              "[3 rows x 8 columns]"
            ]
          },
          "metadata": {}
        },
        {
          "output_type": "stream",
          "name": "stdout",
          "text": [
            "----\n",
            "Other info\n",
            "----\n",
            "\n",
            "<class 'pandas.core.frame.DataFrame'>\n",
            "RangeIndex: 92792 entries, 0 to 92791\n",
            "Data columns (total 3 columns):\n",
            " #   Column     Non-Null Count  Dtype\n",
            "---  ------     --------------  -----\n",
            " 0   user_id    92792 non-null  int64\n",
            " 1   artist_id  92792 non-null  int64\n",
            " 2   scrobbles  92792 non-null  int64\n",
            "dtypes: int64(3)\n",
            "memory usage: 2.1 MB\n"
          ]
        },
        {
          "output_type": "display_data",
          "data": {
            "text/plain": [
              "None"
            ]
          },
          "metadata": {}
        },
        {
          "output_type": "stream",
          "name": "stdout",
          "text": [
            "----\n",
            "\n"
          ]
        }
      ]
    },
    {
      "cell_type": "code",
      "metadata": {
        "colab": {
          "base_uri": "https://localhost:8080/",
          "height": 497
        },
        "id": "_s2Q_3QDv-Oy",
        "outputId": "ae09dfaa-c597-436c-a246-cff6031d02bb"
      },
      "source": [
        "get_info(df_artist)"
      ],
      "execution_count": null,
      "outputs": [
        {
          "output_type": "display_data",
          "data": {
            "text/html": [
              "<style  type=\"text/css\" >\n",
              "</style><table id=\"T_cc5b1d32_0ff4_11ec_8fff_0242ac1c0002\" ><caption>Dataset info</caption><thead>    <tr>        <th class=\"blank level0\" ></th>        <th class=\"col_heading level0 col0\" >artist_id</th>        <th class=\"col_heading level0 col1\" >artist_name</th>    </tr></thead><tbody>\n",
              "                <tr>\n",
              "                        <th id=\"T_cc5b1d32_0ff4_11ec_8fff_0242ac1c0002level0_row0\" class=\"row_heading level0 row0\" >0</th>\n",
              "                        <td id=\"T_cc5b1d32_0ff4_11ec_8fff_0242ac1c0002row0_col0\" class=\"data row0 col0\" >1</td>\n",
              "                        <td id=\"T_cc5b1d32_0ff4_11ec_8fff_0242ac1c0002row0_col1\" class=\"data row0 col1\" >__Max__</td>\n",
              "            </tr>\n",
              "            <tr>\n",
              "                        <th id=\"T_cc5b1d32_0ff4_11ec_8fff_0242ac1c0002level0_row1\" class=\"row_heading level0 row1\" >1</th>\n",
              "                        <td id=\"T_cc5b1d32_0ff4_11ec_8fff_0242ac1c0002row1_col0\" class=\"data row1 col0\" >2</td>\n",
              "                        <td id=\"T_cc5b1d32_0ff4_11ec_8fff_0242ac1c0002row1_col1\" class=\"data row1 col1\" >_Algol_</td>\n",
              "            </tr>\n",
              "            <tr>\n",
              "                        <th id=\"T_cc5b1d32_0ff4_11ec_8fff_0242ac1c0002level0_row2\" class=\"row_heading level0 row2\" >2</th>\n",
              "                        <td id=\"T_cc5b1d32_0ff4_11ec_8fff_0242ac1c0002row2_col0\" class=\"data row2 col0\" >3</td>\n",
              "                        <td id=\"T_cc5b1d32_0ff4_11ec_8fff_0242ac1c0002row2_col1\" class=\"data row2 col1\" >-123 Min.</td>\n",
              "            </tr>\n",
              "            <tr>\n",
              "                        <th id=\"T_cc5b1d32_0ff4_11ec_8fff_0242ac1c0002level0_row3\" class=\"row_heading level0 row3\" >3</th>\n",
              "                        <td id=\"T_cc5b1d32_0ff4_11ec_8fff_0242ac1c0002row3_col0\" class=\"data row3 col0\" >4</td>\n",
              "                        <td id=\"T_cc5b1d32_0ff4_11ec_8fff_0242ac1c0002row3_col1\" class=\"data row3 col1\" >-Oz-</td>\n",
              "            </tr>\n",
              "            <tr>\n",
              "                        <th id=\"T_cc5b1d32_0ff4_11ec_8fff_0242ac1c0002level0_row4\" class=\"row_heading level0 row4\" >4</th>\n",
              "                        <td id=\"T_cc5b1d32_0ff4_11ec_8fff_0242ac1c0002row4_col0\" class=\"data row4 col0\" >5</td>\n",
              "                        <td id=\"T_cc5b1d32_0ff4_11ec_8fff_0242ac1c0002row4_col1\" class=\"data row4 col1\" >-T De Sangre</td>\n",
              "            </tr>\n",
              "    </tbody></table>"
            ],
            "text/plain": [
              "<pandas.io.formats.style.Styler at 0x7fcbe6dda690>"
            ]
          },
          "metadata": {}
        },
        {
          "output_type": "display_data",
          "data": {
            "text/html": [
              "<div>\n",
              "<style scoped>\n",
              "    .dataframe tbody tr th:only-of-type {\n",
              "        vertical-align: middle;\n",
              "    }\n",
              "\n",
              "    .dataframe tbody tr th {\n",
              "        vertical-align: top;\n",
              "    }\n",
              "\n",
              "    .dataframe thead th {\n",
              "        text-align: right;\n",
              "    }\n",
              "</style>\n",
              "<table border=\"1\" class=\"dataframe\">\n",
              "  <thead>\n",
              "    <tr style=\"text-align: right;\">\n",
              "      <th></th>\n",
              "      <th>count</th>\n",
              "      <th>mean</th>\n",
              "      <th>std</th>\n",
              "      <th>min</th>\n",
              "      <th>25%</th>\n",
              "      <th>50%</th>\n",
              "      <th>75%</th>\n",
              "      <th>max</th>\n",
              "    </tr>\n",
              "  </thead>\n",
              "  <tbody>\n",
              "    <tr>\n",
              "      <th>artist_id</th>\n",
              "      <td>17493.0</td>\n",
              "      <td>8747.0</td>\n",
              "      <td>5049.938465</td>\n",
              "      <td>1.0</td>\n",
              "      <td>4374.0</td>\n",
              "      <td>8747.0</td>\n",
              "      <td>13120.0</td>\n",
              "      <td>17493.0</td>\n",
              "    </tr>\n",
              "  </tbody>\n",
              "</table>\n",
              "</div>"
            ],
            "text/plain": [
              "             count    mean          std  min     25%     50%      75%      max\n",
              "artist_id  17493.0  8747.0  5049.938465  1.0  4374.0  8747.0  13120.0  17493.0"
            ]
          },
          "metadata": {}
        },
        {
          "output_type": "stream",
          "name": "stdout",
          "text": [
            "----\n",
            "Other info\n",
            "----\n",
            "\n",
            "<class 'pandas.core.frame.DataFrame'>\n",
            "RangeIndex: 17493 entries, 0 to 17492\n",
            "Data columns (total 2 columns):\n",
            " #   Column       Non-Null Count  Dtype \n",
            "---  ------       --------------  ----- \n",
            " 0   artist_id    17493 non-null  int64 \n",
            " 1   artist_name  17493 non-null  object\n",
            "dtypes: int64(1), object(1)\n",
            "memory usage: 273.5+ KB\n"
          ]
        },
        {
          "output_type": "display_data",
          "data": {
            "text/plain": [
              "None"
            ]
          },
          "metadata": {}
        },
        {
          "output_type": "stream",
          "name": "stdout",
          "text": [
            "----\n",
            "\n"
          ]
        }
      ]
    },
    {
      "cell_type": "code",
      "metadata": {
        "colab": {
          "base_uri": "https://localhost:8080/",
          "height": 111
        },
        "id": "or_gb57Rv_t0",
        "outputId": "23714d05-42b7-4708-9c9b-9da5e7147140"
      },
      "source": [
        "df_scrobbles.groupby('user_id').count().mean().to_frame('counts, %')"
      ],
      "execution_count": null,
      "outputs": [
        {
          "output_type": "execute_result",
          "data": {
            "text/html": [
              "<div>\n",
              "<style scoped>\n",
              "    .dataframe tbody tr th:only-of-type {\n",
              "        vertical-align: middle;\n",
              "    }\n",
              "\n",
              "    .dataframe tbody tr th {\n",
              "        vertical-align: top;\n",
              "    }\n",
              "\n",
              "    .dataframe thead th {\n",
              "        text-align: right;\n",
              "    }\n",
              "</style>\n",
              "<table border=\"1\" class=\"dataframe\">\n",
              "  <thead>\n",
              "    <tr style=\"text-align: right;\">\n",
              "      <th></th>\n",
              "      <th>counts, %</th>\n",
              "    </tr>\n",
              "  </thead>\n",
              "  <tbody>\n",
              "    <tr>\n",
              "      <th>artist_id</th>\n",
              "      <td>49.044397</td>\n",
              "    </tr>\n",
              "    <tr>\n",
              "      <th>scrobbles</th>\n",
              "      <td>49.044397</td>\n",
              "    </tr>\n",
              "  </tbody>\n",
              "</table>\n",
              "</div>"
            ],
            "text/plain": [
              "           counts, %\n",
              "artist_id  49.044397\n",
              "scrobbles  49.044397"
            ]
          },
          "metadata": {},
          "execution_count": 7
        }
      ]
    },
    {
      "cell_type": "code",
      "metadata": {
        "id": "YQItB26_xIle"
      },
      "source": [
        "df_artist.index = df_artist['artist_id']\n",
        "artist_dict = df_artist['artist_name'].to_dict()"
      ],
      "execution_count": null,
      "outputs": []
    },
    {
      "cell_type": "code",
      "metadata": {
        "id": "wIMtwBjPx6rx"
      },
      "source": [
        "#UI\n",
        "\n",
        "rows, r_pos = np.unique(df_scrobbles.values[:, 0], return_inverse=True)\n",
        "cols, c_pos = np.unique(df_scrobbles.values[:, 1], return_inverse=True)"
      ],
      "execution_count": null,
      "outputs": []
    },
    {
      "cell_type": "code",
      "metadata": {
        "id": "45HVzE5Wyduy"
      },
      "source": [
        "df_sparse = sparse.csr_matrix((df_scrobbles.values[:, 2], (r_pos, c_pos)))"
      ],
      "execution_count": null,
      "outputs": []
    },
    {
      "cell_type": "code",
      "metadata": {
        "colab": {
          "base_uri": "https://localhost:8080/"
        },
        "id": "uXzrtF4myfdt",
        "outputId": "6eeb986a-0cc9-47e4-a1a7-2eed9536db59"
      },
      "source": [
        "df_sparse"
      ],
      "execution_count": null,
      "outputs": [
        {
          "output_type": "execute_result",
          "data": {
            "text/plain": [
              "<1892x17493 sparse matrix of type '<class 'numpy.longlong'>'\n",
              "\twith 92723 stored elements in Compressed Sparse Row format>"
            ]
          },
          "metadata": {},
          "execution_count": 11
        }
      ]
    },
    {
      "cell_type": "code",
      "metadata": {
        "id": "NCCOkFcvzT6K"
      },
      "source": [
        "# similar\n",
        "\n",
        "pui = normalize(df_sparse, norm='l2', axis=1)\n",
        "sim = pui.T * pui"
      ],
      "execution_count": null,
      "outputs": []
    },
    {
      "cell_type": "code",
      "metadata": {
        "colab": {
          "base_uri": "https://localhost:8080/"
        },
        "id": "8sn1sn_9zrRC",
        "outputId": "5a3dc5b9-5084-49b4-a40e-f161141ccc2e"
      },
      "source": [
        "# with cos-dist\n",
        "sim.todense()"
      ],
      "execution_count": null,
      "outputs": [
        {
          "output_type": "execute_result",
          "data": {
            "text/plain": [
              "matrix([[0.00120405, 0.        , 0.        , ..., 0.        , 0.        ,\n",
              "         0.        ],\n",
              "        [0.        , 0.00258841, 0.        , ..., 0.        , 0.        ,\n",
              "         0.        ],\n",
              "        [0.        , 0.        , 0.00383689, ..., 0.        , 0.        ,\n",
              "         0.        ],\n",
              "        ...,\n",
              "        [0.        , 0.        , 0.        , ..., 0.0228355 , 0.        ,\n",
              "         0.        ],\n",
              "        [0.        , 0.        , 0.        , ..., 0.        , 0.00827076,\n",
              "         0.        ],\n",
              "        [0.        , 0.        , 0.        , ..., 0.        , 0.        ,\n",
              "         0.0010429 ]])"
            ]
          },
          "metadata": {},
          "execution_count": 13
        }
      ]
    },
    {
      "cell_type": "markdown",
      "metadata": {
        "id": "Ur57zqvR5Op6"
      },
      "source": [
        "Guns N' Roses = id 6240"
      ]
    },
    {
      "cell_type": "code",
      "metadata": {
        "colab": {
          "base_uri": "https://localhost:8080/"
        },
        "id": "nh5R00gaztSu",
        "outputId": "fb49aebb-db77-41b5-cb90-c77ea00178c2"
      },
      "source": [
        "[artist_dict[i+1] for i in sim[6239].toarray().argsort()[0][-20:]]"
      ],
      "execution_count": null,
      "outputs": [
        {
          "output_type": "execute_result",
          "data": {
            "text/plain": [
              "['Black Sabbath',\n",
              " 'Skid Row',\n",
              " 'Van Halen',\n",
              " 'Nirvana',\n",
              " 'Kiss',\n",
              " 'The Doors',\n",
              " 'System Of A Down',\n",
              " 'Bon Jovi',\n",
              " 'Megadeth',\n",
              " 'Red Hot Chili Peppers',\n",
              " 'Pink Floyd',\n",
              " 'Mötley Crüe',\n",
              " 'Iron Maiden',\n",
              " 'Metallica',\n",
              " 'Aerosmith',\n",
              " 'Queen',\n",
              " 'Led Zeppelin',\n",
              " 'Ac/Dc',\n",
              " 'The Beatles',\n",
              " \"Guns N' Roses\"]"
            ]
          },
          "metadata": {},
          "execution_count": 14
        }
      ]
    },
    {
      "cell_type": "code",
      "metadata": {
        "id": "88lrTnru0mco"
      },
      "source": [
        "df_sparse_transposed = df_sparse.transpose(copy=True)\n",
        "piu = normalize(df_sparse_transposed, norm='l2', axis=1)"
      ],
      "execution_count": null,
      "outputs": []
    },
    {
      "cell_type": "code",
      "metadata": {
        "id": "RFG1j6T-5tA2"
      },
      "source": [
        "fit = pui * piu * pui"
      ],
      "execution_count": null,
      "outputs": []
    },
    {
      "cell_type": "code",
      "metadata": {
        "colab": {
          "base_uri": "https://localhost:8080/"
        },
        "id": "KUvcfJB15v6-",
        "outputId": "f054e6a2-93e3-4485-f22f-9c9d419f3848"
      },
      "source": [
        "fit.shape"
      ],
      "execution_count": null,
      "outputs": [
        {
          "output_type": "execute_result",
          "data": {
            "text/plain": [
              "(1892, 17493)"
            ]
          },
          "metadata": {},
          "execution_count": 17
        }
      ]
    },
    {
      "cell_type": "code",
      "metadata": {
        "id": "5x-RwEgS6nGp"
      },
      "source": [
        "data = [artist_dict[i+1] for i in np.nonzero(df_sparse[520])[1].tolist()]"
      ],
      "execution_count": null,
      "outputs": []
    },
    {
      "cell_type": "code",
      "metadata": {
        "id": "kho7oyUD6-Nx"
      },
      "source": [
        "preds = [artist_dict[i+1] for i in fit[520].toarray().argsort()[0][-70:].tolist()]"
      ],
      "execution_count": null,
      "outputs": []
    },
    {
      "cell_type": "code",
      "metadata": {
        "colab": {
          "base_uri": "https://localhost:8080/"
        },
        "id": "oevdNCjE7eu3",
        "outputId": "212ca252-1a6d-4ad4-b2a6-d0e7eabd258b"
      },
      "source": [
        "set(preds) - set(data)"
      ],
      "execution_count": null,
      "outputs": [
        {
          "output_type": "execute_result",
          "data": {
            "text/plain": [
              "{'30 Seconds To Mars',\n",
              " 'Britney Spears',\n",
              " 'Christina Aguilera',\n",
              " 'Coldplay',\n",
              " 'David Bowie',\n",
              " 'Duran Duran',\n",
              " 'Evanescence',\n",
              " 'Flyleaf',\n",
              " 'Him',\n",
              " 'Iron Maiden',\n",
              " 'Joy Division',\n",
              " 'Kings Of Leon',\n",
              " 'Lady Gaga',\n",
              " 'Linkin Park',\n",
              " 'Madonna',\n",
              " 'Marilyn Manson',\n",
              " 'Metallica',\n",
              " 'Muse',\n",
              " 'Nightwish',\n",
              " 'Nine Inch Nails',\n",
              " 'Oasis',\n",
              " 'Opeth',\n",
              " 'Pink Floyd',\n",
              " 'Porcupine Tree',\n",
              " 'Radiohead',\n",
              " 'Rammstein',\n",
              " 'System Of A Down',\n",
              " 'The Beatles',\n",
              " 'The Killers',\n",
              " 'The Smashing Pumpkins',\n",
              " 'The Smiths',\n",
              " 'U2'}"
            ]
          },
          "metadata": {},
          "execution_count": 20
        }
      ]
    }
  ]
}