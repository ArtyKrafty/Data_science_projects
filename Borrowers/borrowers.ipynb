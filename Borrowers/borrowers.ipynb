{
  "nbformat": 4,
  "nbformat_minor": 0,
  "metadata": {
    "kernelspec": {
      "display_name": "Python 3",
      "language": "python",
      "name": "python3"
    },
    "language_info": {
      "codemirror_mode": {
        "name": "ipython",
        "version": 3
      },
      "file_extension": ".py",
      "mimetype": "text/x-python",
      "name": "python",
      "nbconvert_exporter": "python",
      "pygments_lexer": "ipython3",
      "version": "3.7.8"
    },
    "toc": {
      "base_numbering": 1,
      "nav_menu": {},
      "number_sections": true,
      "sideBar": true,
      "skip_h1_title": true,
      "title_cell": "Table of Contents",
      "title_sidebar": "Contents",
      "toc_cell": false,
      "toc_position": {
        "height": "calc(100% - 180px)",
        "left": "10px",
        "top": "150px",
        "width": "384px"
      },
      "toc_section_display": true,
      "toc_window_display": false
    },
    "colab": {
      "name": "Заёмщики.ipynb",
      "provenance": [],
      "collapsed_sections": [
        "ZvufcJRHgnE7"
      ]
    }
  },
  "cells": [
    {
      "cell_type": "markdown",
      "metadata": {
        "id": "G5eQWNnMgnEQ"
      },
      "source": [
        "## Получение данных"
      ]
    },
    {
      "cell_type": "markdown",
      "metadata": {
        "id": "_c_uAkG_gnER"
      },
      "source": [
        "### Загрузка и просмотр данных"
      ]
    },
    {
      "cell_type": "markdown",
      "metadata": {
        "id": "-gCQgU6OgnER"
      },
      "source": [
        "прочитаем файл `data.csv` и результат сохраним в переменной `borrowers`. Получим 10 случайных строк таблицы\n"
      ]
    },
    {
      "cell_type": "code",
      "metadata": {
        "scrolled": true,
        "colab": {
          "base_uri": "https://localhost:8080/",
          "height": 359
        },
        "id": "n5cMAURggnER",
        "outputId": "ce103b21-f89d-421b-92fd-4f279a54614b"
      },
      "source": [
        "import pandas as pd\n",
        "\n",
        "borrowers = pd.read_csv('/content/data.csv')\n",
        "borrowers.sample(10)\n",
        "\n"
      ],
      "execution_count": null,
      "outputs": [
        {
          "output_type": "execute_result",
          "data": {
            "text/html": [
              "<div>\n",
              "<style scoped>\n",
              "    .dataframe tbody tr th:only-of-type {\n",
              "        vertical-align: middle;\n",
              "    }\n",
              "\n",
              "    .dataframe tbody tr th {\n",
              "        vertical-align: top;\n",
              "    }\n",
              "\n",
              "    .dataframe thead th {\n",
              "        text-align: right;\n",
              "    }\n",
              "</style>\n",
              "<table border=\"1\" class=\"dataframe\">\n",
              "  <thead>\n",
              "    <tr style=\"text-align: right;\">\n",
              "      <th></th>\n",
              "      <th>children</th>\n",
              "      <th>days_employed</th>\n",
              "      <th>dob_years</th>\n",
              "      <th>education</th>\n",
              "      <th>education_id</th>\n",
              "      <th>family_status</th>\n",
              "      <th>family_status_id</th>\n",
              "      <th>gender</th>\n",
              "      <th>income_type</th>\n",
              "      <th>debt</th>\n",
              "      <th>total_income</th>\n",
              "      <th>purpose</th>\n",
              "    </tr>\n",
              "  </thead>\n",
              "  <tbody>\n",
              "    <tr>\n",
              "      <th>15692</th>\n",
              "      <td>2</td>\n",
              "      <td>-81.571681</td>\n",
              "      <td>56</td>\n",
              "      <td>среднее</td>\n",
              "      <td>1</td>\n",
              "      <td>Не женат / не замужем</td>\n",
              "      <td>4</td>\n",
              "      <td>F</td>\n",
              "      <td>сотрудник</td>\n",
              "      <td>0</td>\n",
              "      <td>163533.194058</td>\n",
              "      <td>строительство собственной недвижимости</td>\n",
              "    </tr>\n",
              "    <tr>\n",
              "      <th>13636</th>\n",
              "      <td>0</td>\n",
              "      <td>-3794.440187</td>\n",
              "      <td>56</td>\n",
              "      <td>ВЫСШЕЕ</td>\n",
              "      <td>0</td>\n",
              "      <td>женат / замужем</td>\n",
              "      <td>0</td>\n",
              "      <td>F</td>\n",
              "      <td>сотрудник</td>\n",
              "      <td>0</td>\n",
              "      <td>80665.513551</td>\n",
              "      <td>строительство собственной недвижимости</td>\n",
              "    </tr>\n",
              "    <tr>\n",
              "      <th>9814</th>\n",
              "      <td>3</td>\n",
              "      <td>NaN</td>\n",
              "      <td>31</td>\n",
              "      <td>среднее</td>\n",
              "      <td>1</td>\n",
              "      <td>женат / замужем</td>\n",
              "      <td>0</td>\n",
              "      <td>F</td>\n",
              "      <td>сотрудник</td>\n",
              "      <td>0</td>\n",
              "      <td>NaN</td>\n",
              "      <td>свой автомобиль</td>\n",
              "    </tr>\n",
              "    <tr>\n",
              "      <th>16224</th>\n",
              "      <td>0</td>\n",
              "      <td>-2793.328819</td>\n",
              "      <td>48</td>\n",
              "      <td>среднее</td>\n",
              "      <td>1</td>\n",
              "      <td>женат / замужем</td>\n",
              "      <td>0</td>\n",
              "      <td>F</td>\n",
              "      <td>сотрудник</td>\n",
              "      <td>0</td>\n",
              "      <td>117638.391094</td>\n",
              "      <td>строительство собственной недвижимости</td>\n",
              "    </tr>\n",
              "    <tr>\n",
              "      <th>17632</th>\n",
              "      <td>0</td>\n",
              "      <td>-11485.419727</td>\n",
              "      <td>63</td>\n",
              "      <td>высшее</td>\n",
              "      <td>0</td>\n",
              "      <td>женат / замужем</td>\n",
              "      <td>0</td>\n",
              "      <td>M</td>\n",
              "      <td>компаньон</td>\n",
              "      <td>0</td>\n",
              "      <td>193660.935812</td>\n",
              "      <td>операции с недвижимостью</td>\n",
              "    </tr>\n",
              "    <tr>\n",
              "      <th>19573</th>\n",
              "      <td>0</td>\n",
              "      <td>-929.122673</td>\n",
              "      <td>43</td>\n",
              "      <td>среднее</td>\n",
              "      <td>1</td>\n",
              "      <td>гражданский брак</td>\n",
              "      <td>1</td>\n",
              "      <td>F</td>\n",
              "      <td>компаньон</td>\n",
              "      <td>0</td>\n",
              "      <td>333948.163599</td>\n",
              "      <td>покупка жилья для сдачи</td>\n",
              "    </tr>\n",
              "    <tr>\n",
              "      <th>9213</th>\n",
              "      <td>1</td>\n",
              "      <td>-1646.841004</td>\n",
              "      <td>21</td>\n",
              "      <td>среднее</td>\n",
              "      <td>1</td>\n",
              "      <td>женат / замужем</td>\n",
              "      <td>0</td>\n",
              "      <td>F</td>\n",
              "      <td>госслужащий</td>\n",
              "      <td>0</td>\n",
              "      <td>81570.579349</td>\n",
              "      <td>приобретение автомобиля</td>\n",
              "    </tr>\n",
              "    <tr>\n",
              "      <th>8827</th>\n",
              "      <td>1</td>\n",
              "      <td>-516.050288</td>\n",
              "      <td>45</td>\n",
              "      <td>среднее</td>\n",
              "      <td>1</td>\n",
              "      <td>женат / замужем</td>\n",
              "      <td>0</td>\n",
              "      <td>F</td>\n",
              "      <td>компаньон</td>\n",
              "      <td>0</td>\n",
              "      <td>103257.421241</td>\n",
              "      <td>автомобили</td>\n",
              "    </tr>\n",
              "    <tr>\n",
              "      <th>2683</th>\n",
              "      <td>0</td>\n",
              "      <td>-3442.298864</td>\n",
              "      <td>38</td>\n",
              "      <td>среднее</td>\n",
              "      <td>1</td>\n",
              "      <td>Не женат / не замужем</td>\n",
              "      <td>4</td>\n",
              "      <td>M</td>\n",
              "      <td>компаньон</td>\n",
              "      <td>0</td>\n",
              "      <td>255223.578031</td>\n",
              "      <td>получение высшего образования</td>\n",
              "    </tr>\n",
              "    <tr>\n",
              "      <th>13310</th>\n",
              "      <td>1</td>\n",
              "      <td>-3826.557851</td>\n",
              "      <td>27</td>\n",
              "      <td>Среднее</td>\n",
              "      <td>1</td>\n",
              "      <td>женат / замужем</td>\n",
              "      <td>0</td>\n",
              "      <td>F</td>\n",
              "      <td>сотрудник</td>\n",
              "      <td>0</td>\n",
              "      <td>141596.376352</td>\n",
              "      <td>покупка недвижимости</td>\n",
              "    </tr>\n",
              "  </tbody>\n",
              "</table>\n",
              "</div>"
            ],
            "text/plain": [
              "       children  ...                                 purpose\n",
              "15692         2  ...  строительство собственной недвижимости\n",
              "13636         0  ...  строительство собственной недвижимости\n",
              "9814          3  ...                         свой автомобиль\n",
              "16224         0  ...  строительство собственной недвижимости\n",
              "17632         0  ...                операции с недвижимостью\n",
              "19573         0  ...                 покупка жилья для сдачи\n",
              "9213          1  ...                 приобретение автомобиля\n",
              "8827          1  ...                              автомобили\n",
              "2683          0  ...           получение высшего образования\n",
              "13310         1  ...                    покупка недвижимости\n",
              "\n",
              "[10 rows x 12 columns]"
            ]
          },
          "metadata": {
            "tags": []
          },
          "execution_count": 6
        }
      ]
    },
    {
      "cell_type": "markdown",
      "metadata": {
        "id": "FZOufvrMgnET"
      },
      "source": [
        "Узнаем уровень разброса значений в исследуемых данных `borrowers`. Для этого применим метод describe()"
      ]
    },
    {
      "cell_type": "code",
      "metadata": {
        "id": "6xJs49_qgnEU"
      },
      "source": [
        "borrowers.describe()"
      ],
      "execution_count": null,
      "outputs": []
    },
    {
      "cell_type": "markdown",
      "metadata": {
        "id": "ZhYYZCTvgnEU"
      },
      "source": [
        "Получим общую информацию о данных таблицы `borrowers`, применив метод info()"
      ]
    },
    {
      "cell_type": "code",
      "metadata": {
        "id": "Df6k6ysBgnEU"
      },
      "source": [
        "borrowers.info()"
      ],
      "execution_count": null,
      "outputs": []
    },
    {
      "cell_type": "markdown",
      "metadata": {
        "id": "LY7wKyMUgnEV"
      },
      "source": [
        "**Рассмотрим полученную информацию подробнее**"
      ]
    },
    {
      "cell_type": "markdown",
      "metadata": {
        "id": "gUxnkbAmgnEV"
      },
      "source": [
        "Всего в таблице 12 столбцов, тип данных столбцов различается. Разбереме подробно, какие в `borrowers` столбцы и какую информацию они содержат:\n",
        "\n",
        "- *children* — количество детей в семье  \n",
        "- *days_employed* — общий трудовой стаж в днях  \n",
        "- *dob_years* — возраст клиента в годах  \n",
        "- *education* — уровень образования клиента  \n",
        "- *education_id* — идентификатор уровня образования  \n",
        "- *family_status* — семейное положение  \n",
        "- *family_status_id* — идентификатор семейного положения  \n",
        "- *gender* — пол клиента  \n",
        "- *income_type* — тип занятости  \n",
        "- *debt* — имел ли задолженность по возврату кредитов  \n",
        "- *total_income* — ежемесячный доход  \n",
        "- *purpose* — цель получения кредита  \n",
        "\n",
        "\n"
      ]
    },
    {
      "cell_type": "markdown",
      "metadata": {
        "id": "BmCjIq24gnEW"
      },
      "source": [
        "### **Выводы**\n",
        "\n",
        "  \n",
        "Каждая строка таблицы содержит информацию об определенном физическом лице, запрашивающем кредитные средства на известную цель. Из таблицы можем видеть семейное положение, количество дейтей, возрат, трудовой стаж. Исходя из количества данных, можно сделать вывод что имеем отсутствующие значения в столбцах `days_employed` и `total_income`. Благодаря методу `describe()` мы выявили, что в столбце `children` находится min значение - 1 и значение max для этого столбца 20, что отклоняется от общего. В столбце `days_employed`мы наблюдаем отрицательные значения. Также необходимо проверить данный столбце на наличие артефактов, так как среднее по столбцу - `63046.497661` дня. Также минимальное значение возраста значится как \"0\".\n",
        "\n",
        "Необходимо:\n",
        "\n",
        "- проверить столбец `children` на наличие артефактов и некорректных значений\n",
        "- проверить наличие минусовых значений в столбце `days_employed` и выявить характер данного явления\n",
        "- убрать пропуски данных\n",
        "- проверить наличие дупликатов\n",
        "- привести к единому регистру столбец `education` и `family_status`\n",
        "- столбцам `days_employed` и `total_income` присвоить целоцисленные значения Int, это не повлияет на анализ, но упростит обработку\n",
        "- исправить значение возраста 0\n",
        "\n",
        "Попробуем решить данные задачи и тогда сможем приступить к обработке данных\n"
      ]
    },
    {
      "cell_type": "markdown",
      "metadata": {
        "id": "xPINFAj6gnEX"
      },
      "source": [
        "## Предобработка данных"
      ]
    },
    {
      "cell_type": "markdown",
      "metadata": {
        "id": "lMj9XGLQgnEX"
      },
      "source": [
        "### Подсчет пропусков\n"
      ]
    },
    {
      "cell_type": "markdown",
      "metadata": {
        "id": "51uTUTsIgnEY"
      },
      "source": [
        "Подсчитаем количество пропусков в сете `borrowers`"
      ]
    },
    {
      "cell_type": "code",
      "metadata": {
        "id": "ywd5AvtdgnEY",
        "outputId": "5dfae85b-ec87-4b78-833a-b32a3bd8df68"
      },
      "source": [
        "borrowers.isnull().sum()"
      ],
      "execution_count": null,
      "outputs": [
        {
          "output_type": "execute_result",
          "data": {
            "text/plain": [
              "children               0\n",
              "days_employed       2174\n",
              "dob_years              0\n",
              "education              0\n",
              "education_id           0\n",
              "family_status          0\n",
              "family_status_id       0\n",
              "gender                 0\n",
              "income_type            0\n",
              "debt                   0\n",
              "total_income        2174\n",
              "purpose                0\n",
              "dtype: int64"
            ]
          },
          "metadata": {
            "tags": []
          },
          "execution_count": 4
        }
      ]
    },
    {
      "cell_type": "markdown",
      "metadata": {
        "id": "ukLBXDGzgnEZ"
      },
      "source": [
        "Пропуски обнаружены в столбцах `days_employed` и `total_income`. Они носят неслучайный характер. если люди не работают, то и дохода, по крайней мере, официального не получают. Проверим, в одних и тех же строках наблюдаются значения NaN?"
      ]
    },
    {
      "cell_type": "code",
      "metadata": {
        "id": "fuyjRv9IgnEZ",
        "outputId": "fb794ef6-1082-4a9b-9e18-3e798c96f5eb"
      },
      "source": [
        "# вызовем метод info () при одновременном выполнении двух условий:\n",
        "borrowers[(borrowers['total_income'].isnull() == True) & (borrowers['days_employed'].isnull() == True)].info()"
      ],
      "execution_count": null,
      "outputs": [
        {
          "output_type": "stream",
          "text": [
            "<class 'pandas.core.frame.DataFrame'>\n",
            "Int64Index: 2174 entries, 12 to 21510\n",
            "Data columns (total 12 columns):\n",
            " #   Column            Non-Null Count  Dtype  \n",
            "---  ------            --------------  -----  \n",
            " 0   children          2174 non-null   int64  \n",
            " 1   days_employed     0 non-null      float64\n",
            " 2   dob_years         2174 non-null   int64  \n",
            " 3   education         2174 non-null   object \n",
            " 4   education_id      2174 non-null   int64  \n",
            " 5   family_status     2174 non-null   object \n",
            " 6   family_status_id  2174 non-null   int64  \n",
            " 7   gender            2174 non-null   object \n",
            " 8   income_type       2174 non-null   object \n",
            " 9   debt              2174 non-null   int64  \n",
            " 10  total_income      0 non-null      float64\n",
            " 11  purpose           2174 non-null   object \n",
            "dtypes: float64(2), int64(5), object(5)\n",
            "memory usage: 220.8+ KB\n"
          ],
          "name": "stdout"
        }
      ]
    },
    {
      "cell_type": "markdown",
      "metadata": {
        "id": "vxY51qpUgnEb"
      },
      "source": [
        "Соответственно, пропуски наблюдаются в одних и тех же строках. Это могут быть неработающие студенты, люди в отпуске по уходу за ребенком. Перед тем как перейти к удалению пропусков, необходимо разобраться со столбцами `children` и `days_employed`"
      ]
    },
    {
      "cell_type": "markdown",
      "metadata": {
        "id": "ETx0NElzgnEb"
      },
      "source": [
        "### Изучение столбцов `children` и `days_employed`\n",
        "#### столбец `children`\n",
        "\n",
        "Для начала давайте разберемся \"артефактами\" столбца `children`\n",
        "Для наглядности выведем первые 10 строк нашей таблицы"
      ]
    },
    {
      "cell_type": "code",
      "metadata": {
        "id": "VttKqjZqgnEc",
        "outputId": "85083010-1217-4a9c-a9fa-7d03af134ca7"
      },
      "source": [
        "borrowers.head(10)"
      ],
      "execution_count": null,
      "outputs": [
        {
          "output_type": "execute_result",
          "data": {
            "text/html": [
              "<div>\n",
              "<style scoped>\n",
              "    .dataframe tbody tr th:only-of-type {\n",
              "        vertical-align: middle;\n",
              "    }\n",
              "\n",
              "    .dataframe tbody tr th {\n",
              "        vertical-align: top;\n",
              "    }\n",
              "\n",
              "    .dataframe thead th {\n",
              "        text-align: right;\n",
              "    }\n",
              "</style>\n",
              "<table border=\"1\" class=\"dataframe\">\n",
              "  <thead>\n",
              "    <tr style=\"text-align: right;\">\n",
              "      <th></th>\n",
              "      <th>children</th>\n",
              "      <th>days_employed</th>\n",
              "      <th>dob_years</th>\n",
              "      <th>education</th>\n",
              "      <th>education_id</th>\n",
              "      <th>family_status</th>\n",
              "      <th>family_status_id</th>\n",
              "      <th>gender</th>\n",
              "      <th>income_type</th>\n",
              "      <th>debt</th>\n",
              "      <th>total_income</th>\n",
              "      <th>purpose</th>\n",
              "    </tr>\n",
              "  </thead>\n",
              "  <tbody>\n",
              "    <tr>\n",
              "      <th>0</th>\n",
              "      <td>1</td>\n",
              "      <td>-8437.673028</td>\n",
              "      <td>42</td>\n",
              "      <td>высшее</td>\n",
              "      <td>0</td>\n",
              "      <td>женат / замужем</td>\n",
              "      <td>0</td>\n",
              "      <td>F</td>\n",
              "      <td>сотрудник</td>\n",
              "      <td>0</td>\n",
              "      <td>253875.639453</td>\n",
              "      <td>покупка жилья</td>\n",
              "    </tr>\n",
              "    <tr>\n",
              "      <th>1</th>\n",
              "      <td>1</td>\n",
              "      <td>-4024.803754</td>\n",
              "      <td>36</td>\n",
              "      <td>среднее</td>\n",
              "      <td>1</td>\n",
              "      <td>женат / замужем</td>\n",
              "      <td>0</td>\n",
              "      <td>F</td>\n",
              "      <td>сотрудник</td>\n",
              "      <td>0</td>\n",
              "      <td>112080.014102</td>\n",
              "      <td>приобретение автомобиля</td>\n",
              "    </tr>\n",
              "    <tr>\n",
              "      <th>2</th>\n",
              "      <td>0</td>\n",
              "      <td>-5623.422610</td>\n",
              "      <td>33</td>\n",
              "      <td>Среднее</td>\n",
              "      <td>1</td>\n",
              "      <td>женат / замужем</td>\n",
              "      <td>0</td>\n",
              "      <td>M</td>\n",
              "      <td>сотрудник</td>\n",
              "      <td>0</td>\n",
              "      <td>145885.952297</td>\n",
              "      <td>покупка жилья</td>\n",
              "    </tr>\n",
              "    <tr>\n",
              "      <th>3</th>\n",
              "      <td>3</td>\n",
              "      <td>-4124.747207</td>\n",
              "      <td>32</td>\n",
              "      <td>среднее</td>\n",
              "      <td>1</td>\n",
              "      <td>женат / замужем</td>\n",
              "      <td>0</td>\n",
              "      <td>M</td>\n",
              "      <td>сотрудник</td>\n",
              "      <td>0</td>\n",
              "      <td>267628.550329</td>\n",
              "      <td>дополнительное образование</td>\n",
              "    </tr>\n",
              "    <tr>\n",
              "      <th>4</th>\n",
              "      <td>0</td>\n",
              "      <td>340266.072047</td>\n",
              "      <td>53</td>\n",
              "      <td>среднее</td>\n",
              "      <td>1</td>\n",
              "      <td>гражданский брак</td>\n",
              "      <td>1</td>\n",
              "      <td>F</td>\n",
              "      <td>пенсионер</td>\n",
              "      <td>0</td>\n",
              "      <td>158616.077870</td>\n",
              "      <td>сыграть свадьбу</td>\n",
              "    </tr>\n",
              "    <tr>\n",
              "      <th>5</th>\n",
              "      <td>0</td>\n",
              "      <td>-926.185831</td>\n",
              "      <td>27</td>\n",
              "      <td>высшее</td>\n",
              "      <td>0</td>\n",
              "      <td>гражданский брак</td>\n",
              "      <td>1</td>\n",
              "      <td>M</td>\n",
              "      <td>компаньон</td>\n",
              "      <td>0</td>\n",
              "      <td>255763.565419</td>\n",
              "      <td>покупка жилья</td>\n",
              "    </tr>\n",
              "    <tr>\n",
              "      <th>6</th>\n",
              "      <td>0</td>\n",
              "      <td>-2879.202052</td>\n",
              "      <td>43</td>\n",
              "      <td>высшее</td>\n",
              "      <td>0</td>\n",
              "      <td>женат / замужем</td>\n",
              "      <td>0</td>\n",
              "      <td>F</td>\n",
              "      <td>компаньон</td>\n",
              "      <td>0</td>\n",
              "      <td>240525.971920</td>\n",
              "      <td>операции с жильем</td>\n",
              "    </tr>\n",
              "    <tr>\n",
              "      <th>7</th>\n",
              "      <td>0</td>\n",
              "      <td>-152.779569</td>\n",
              "      <td>50</td>\n",
              "      <td>СРЕДНЕЕ</td>\n",
              "      <td>1</td>\n",
              "      <td>женат / замужем</td>\n",
              "      <td>0</td>\n",
              "      <td>M</td>\n",
              "      <td>сотрудник</td>\n",
              "      <td>0</td>\n",
              "      <td>135823.934197</td>\n",
              "      <td>образование</td>\n",
              "    </tr>\n",
              "    <tr>\n",
              "      <th>8</th>\n",
              "      <td>2</td>\n",
              "      <td>-6929.865299</td>\n",
              "      <td>35</td>\n",
              "      <td>ВЫСШЕЕ</td>\n",
              "      <td>0</td>\n",
              "      <td>гражданский брак</td>\n",
              "      <td>1</td>\n",
              "      <td>F</td>\n",
              "      <td>сотрудник</td>\n",
              "      <td>0</td>\n",
              "      <td>95856.832424</td>\n",
              "      <td>на проведение свадьбы</td>\n",
              "    </tr>\n",
              "    <tr>\n",
              "      <th>9</th>\n",
              "      <td>0</td>\n",
              "      <td>-2188.756445</td>\n",
              "      <td>41</td>\n",
              "      <td>среднее</td>\n",
              "      <td>1</td>\n",
              "      <td>женат / замужем</td>\n",
              "      <td>0</td>\n",
              "      <td>M</td>\n",
              "      <td>сотрудник</td>\n",
              "      <td>0</td>\n",
              "      <td>144425.938277</td>\n",
              "      <td>покупка жилья для семьи</td>\n",
              "    </tr>\n",
              "  </tbody>\n",
              "</table>\n",
              "</div>"
            ],
            "text/plain": [
              "   children  days_employed  dob_years education  education_id  \\\n",
              "0         1   -8437.673028         42    высшее             0   \n",
              "1         1   -4024.803754         36   среднее             1   \n",
              "2         0   -5623.422610         33   Среднее             1   \n",
              "3         3   -4124.747207         32   среднее             1   \n",
              "4         0  340266.072047         53   среднее             1   \n",
              "5         0    -926.185831         27    высшее             0   \n",
              "6         0   -2879.202052         43    высшее             0   \n",
              "7         0    -152.779569         50   СРЕДНЕЕ             1   \n",
              "8         2   -6929.865299         35    ВЫСШЕЕ             0   \n",
              "9         0   -2188.756445         41   среднее             1   \n",
              "\n",
              "      family_status  family_status_id gender income_type  debt   total_income  \\\n",
              "0   женат / замужем                 0      F   сотрудник     0  253875.639453   \n",
              "1   женат / замужем                 0      F   сотрудник     0  112080.014102   \n",
              "2   женат / замужем                 0      M   сотрудник     0  145885.952297   \n",
              "3   женат / замужем                 0      M   сотрудник     0  267628.550329   \n",
              "4  гражданский брак                 1      F   пенсионер     0  158616.077870   \n",
              "5  гражданский брак                 1      M   компаньон     0  255763.565419   \n",
              "6   женат / замужем                 0      F   компаньон     0  240525.971920   \n",
              "7   женат / замужем                 0      M   сотрудник     0  135823.934197   \n",
              "8  гражданский брак                 1      F   сотрудник     0   95856.832424   \n",
              "9   женат / замужем                 0      M   сотрудник     0  144425.938277   \n",
              "\n",
              "                      purpose  \n",
              "0               покупка жилья  \n",
              "1     приобретение автомобиля  \n",
              "2               покупка жилья  \n",
              "3  дополнительное образование  \n",
              "4             сыграть свадьбу  \n",
              "5               покупка жилья  \n",
              "6           операции с жильем  \n",
              "7                 образование  \n",
              "8       на проведение свадьбы  \n",
              "9     покупка жилья для семьи  "
            ]
          },
          "metadata": {
            "tags": []
          },
          "execution_count": 6
        }
      ]
    },
    {
      "cell_type": "code",
      "metadata": {
        "id": "ZXpWZ4mLgnEc"
      },
      "source": [
        ""
      ],
      "execution_count": null,
      "outputs": []
    },
    {
      "cell_type": "markdown",
      "metadata": {
        "id": "1ihsH-jOgnEc"
      },
      "source": [
        "Посчитаем количество людей с необычным количеством детей:"
      ]
    },
    {
      "cell_type": "code",
      "metadata": {
        "id": "sCUA-0DAgnEd",
        "outputId": "a28254b3-e0c1-4fab-e0f5-fc61b807de75"
      },
      "source": [
        "#подсчет количества с -1 ребенком\n",
        "print('Количество людей с \"- 1\" ребенком:', borrowers[borrowers['children'] == -1].count()[0])\n",
        "\n",
        "#подсчет количества с 20 детьми\n",
        "print('Количество людей с \"20\" детьми: ', borrowers[borrowers['children'] == 20].count()[0])"
      ],
      "execution_count": null,
      "outputs": [
        {
          "output_type": "stream",
          "text": [
            "Количество людей с \"- 1\" ребенком: 47\n",
            "Количество людей с \"20\" детьми:  76\n"
          ],
          "name": "stdout"
        }
      ]
    },
    {
      "cell_type": "markdown",
      "metadata": {
        "id": "Pt3KPKgngnEd"
      },
      "source": [
        "Скорее всего, данные попали ошибочно в таблицу, либо это означает утрату ребенка. Для анализа \"-1\" исправим на \"0\", \"20\" не исправляем, чтобы не искажать статистику - будем считать, что это \"многодетные\" <a id=\"#category\"> </a>:"
      ]
    },
    {
      "cell_type": "code",
      "metadata": {
        "id": "GQ9uxEJognEd",
        "outputId": "aa4f334e-e66b-4cf0-c690-f5ba5e965305"
      },
      "source": [
        "borrowers['children'] = borrowers['children'].replace(-1,0) # замена -1 ребенка на 0\n",
        "print('Количество людей с \"- 1\" ребенком: ', borrowers[borrowers['children'] == -1].count()[0]) # Проверка замены\n",
        "\n"
      ],
      "execution_count": null,
      "outputs": [
        {
          "output_type": "stream",
          "text": [
            "Количество людей с \"- 1\" ребенком:  0\n"
          ],
          "name": "stdout"
        }
      ]
    },
    {
      "cell_type": "markdown",
      "metadata": {
        "id": "6J3rwOHngnEe"
      },
      "source": [
        "#### столбец `days_employed`"
      ]
    },
    {
      "cell_type": "markdown",
      "metadata": {
        "id": "t1AaJ0aPgnEf"
      },
      "source": [
        "Проверим количество строк со значениями больше или равное 0, и строк со значением меньше 0. Также посмотрим, сколько пенсионеров имеют отрицательный стаж работы."
      ]
    },
    {
      "cell_type": "code",
      "metadata": {
        "id": "yZntd20ygnEf",
        "outputId": "68bc99da-4ff4-44e1-b5d3-d9e51690a2f4"
      },
      "source": [
        "print('Количество строк трудового стажа больше или равное 0:', borrowers[borrowers['days_employed'] >= 0].shape[0])\n",
        "print('Количество строк трудового стажа меньше 0:', borrowers[borrowers['days_employed'] < 0].shape[0])\n",
        "\n",
        "#поместим в переменнную двойное условие: пенсионеры и трудовой стаж больше или равное 0\n",
        "\n",
        "borrowers_oldest = borrowers[(borrowers['days_employed'] >= 0)&(borrowers['income_type'] == 'пенсионер')].shape[0]\n",
        "print('Количество пенсионеров с трудовым стажем больше или равное 0:', borrowers_oldest)\n",
        "\n",
        "\n"
      ],
      "execution_count": null,
      "outputs": [
        {
          "output_type": "stream",
          "text": [
            "Количество строк трудового стажа больше или равное 0: 3445\n",
            "Количество строк трудового стажа меньше 0: 15906\n",
            "Количество пенсионеров с трудовым стажем больше или равное 0: 3443\n"
          ],
          "name": "stdout"
        }
      ]
    },
    {
      "cell_type": "markdown",
      "metadata": {
        "id": "6NsL4m5NgnEf"
      },
      "source": [
        "Получаем, что почти все положительные значения относятся к пенсионерам, соответственно полагаем, что весь трудовой стаж можно принимать как \"положительный\", минусовые значения появились ошибочно либо по неизвестному алгоритму, на анализ это столбец влияние не окажет. Произведем замену"
      ]
    },
    {
      "cell_type": "code",
      "metadata": {
        "id": "kZwWnywpgnEf",
        "outputId": "a0011103-e6d8-416d-96bb-9d3d691dd6b5"
      },
      "source": [
        "# применим метод abs() для получения значений по модулю\n",
        "borrowers ['days_employed'] = borrowers ['days_employed'].abs()\n",
        "\n",
        "# вызовем метод describe() для проверки \n",
        "borrowers.describe() "
      ],
      "execution_count": null,
      "outputs": [
        {
          "output_type": "execute_result",
          "data": {
            "text/html": [
              "<div>\n",
              "<style scoped>\n",
              "    .dataframe tbody tr th:only-of-type {\n",
              "        vertical-align: middle;\n",
              "    }\n",
              "\n",
              "    .dataframe tbody tr th {\n",
              "        vertical-align: top;\n",
              "    }\n",
              "\n",
              "    .dataframe thead th {\n",
              "        text-align: right;\n",
              "    }\n",
              "</style>\n",
              "<table border=\"1\" class=\"dataframe\">\n",
              "  <thead>\n",
              "    <tr style=\"text-align: right;\">\n",
              "      <th></th>\n",
              "      <th>children</th>\n",
              "      <th>days_employed</th>\n",
              "      <th>dob_years</th>\n",
              "      <th>education_id</th>\n",
              "      <th>family_status_id</th>\n",
              "      <th>debt</th>\n",
              "      <th>total_income</th>\n",
              "    </tr>\n",
              "  </thead>\n",
              "  <tbody>\n",
              "    <tr>\n",
              "      <th>count</th>\n",
              "      <td>21525.000000</td>\n",
              "      <td>19351.000000</td>\n",
              "      <td>21525.000000</td>\n",
              "      <td>21525.000000</td>\n",
              "      <td>21525.000000</td>\n",
              "      <td>21525.000000</td>\n",
              "      <td>1.935100e+04</td>\n",
              "    </tr>\n",
              "    <tr>\n",
              "      <th>mean</th>\n",
              "      <td>0.541092</td>\n",
              "      <td>66914.728907</td>\n",
              "      <td>43.293380</td>\n",
              "      <td>0.817236</td>\n",
              "      <td>0.972544</td>\n",
              "      <td>0.080883</td>\n",
              "      <td>1.674223e+05</td>\n",
              "    </tr>\n",
              "    <tr>\n",
              "      <th>std</th>\n",
              "      <td>1.379943</td>\n",
              "      <td>139030.880527</td>\n",
              "      <td>12.574584</td>\n",
              "      <td>0.548138</td>\n",
              "      <td>1.420324</td>\n",
              "      <td>0.272661</td>\n",
              "      <td>1.029716e+05</td>\n",
              "    </tr>\n",
              "    <tr>\n",
              "      <th>min</th>\n",
              "      <td>0.000000</td>\n",
              "      <td>24.141633</td>\n",
              "      <td>0.000000</td>\n",
              "      <td>0.000000</td>\n",
              "      <td>0.000000</td>\n",
              "      <td>0.000000</td>\n",
              "      <td>2.066726e+04</td>\n",
              "    </tr>\n",
              "    <tr>\n",
              "      <th>25%</th>\n",
              "      <td>0.000000</td>\n",
              "      <td>927.009265</td>\n",
              "      <td>33.000000</td>\n",
              "      <td>1.000000</td>\n",
              "      <td>0.000000</td>\n",
              "      <td>0.000000</td>\n",
              "      <td>1.030532e+05</td>\n",
              "    </tr>\n",
              "    <tr>\n",
              "      <th>50%</th>\n",
              "      <td>0.000000</td>\n",
              "      <td>2194.220567</td>\n",
              "      <td>42.000000</td>\n",
              "      <td>1.000000</td>\n",
              "      <td>0.000000</td>\n",
              "      <td>0.000000</td>\n",
              "      <td>1.450179e+05</td>\n",
              "    </tr>\n",
              "    <tr>\n",
              "      <th>75%</th>\n",
              "      <td>1.000000</td>\n",
              "      <td>5537.882441</td>\n",
              "      <td>53.000000</td>\n",
              "      <td>1.000000</td>\n",
              "      <td>1.000000</td>\n",
              "      <td>0.000000</td>\n",
              "      <td>2.034351e+05</td>\n",
              "    </tr>\n",
              "    <tr>\n",
              "      <th>max</th>\n",
              "      <td>20.000000</td>\n",
              "      <td>401755.400475</td>\n",
              "      <td>75.000000</td>\n",
              "      <td>4.000000</td>\n",
              "      <td>4.000000</td>\n",
              "      <td>1.000000</td>\n",
              "      <td>2.265604e+06</td>\n",
              "    </tr>\n",
              "  </tbody>\n",
              "</table>\n",
              "</div>"
            ],
            "text/plain": [
              "           children  days_employed     dob_years  education_id  \\\n",
              "count  21525.000000   19351.000000  21525.000000  21525.000000   \n",
              "mean       0.541092   66914.728907     43.293380      0.817236   \n",
              "std        1.379943  139030.880527     12.574584      0.548138   \n",
              "min        0.000000      24.141633      0.000000      0.000000   \n",
              "25%        0.000000     927.009265     33.000000      1.000000   \n",
              "50%        0.000000    2194.220567     42.000000      1.000000   \n",
              "75%        1.000000    5537.882441     53.000000      1.000000   \n",
              "max       20.000000  401755.400475     75.000000      4.000000   \n",
              "\n",
              "       family_status_id          debt  total_income  \n",
              "count      21525.000000  21525.000000  1.935100e+04  \n",
              "mean           0.972544      0.080883  1.674223e+05  \n",
              "std            1.420324      0.272661  1.029716e+05  \n",
              "min            0.000000      0.000000  2.066726e+04  \n",
              "25%            0.000000      0.000000  1.030532e+05  \n",
              "50%            0.000000      0.000000  1.450179e+05  \n",
              "75%            1.000000      0.000000  2.034351e+05  \n",
              "max            4.000000      1.000000  2.265604e+06  "
            ]
          },
          "metadata": {
            "tags": []
          },
          "execution_count": 10
        }
      ]
    },
    {
      "cell_type": "markdown",
      "metadata": {
        "id": "uamkahD3gnEg"
      },
      "source": [
        "**Отрицательных значений в таблице нет**"
      ]
    },
    {
      "cell_type": "markdown",
      "metadata": {
        "id": "oV93STPignEg"
      },
      "source": [
        "### Обработка пропусков и нулевых значений\n"
      ]
    },
    {
      "cell_type": "markdown",
      "metadata": {
        "id": "7kB4aqPpgnEg"
      },
      "source": [
        "В результате применения метода `describe()` у столбца `days_employed` наблюдается явное отклонение. Посчитаем среднее в годах:"
      ]
    },
    {
      "cell_type": "code",
      "metadata": {
        "id": "S2k7I32JgnEh",
        "outputId": "a2c6219b-d864-4952-b196-85c57f039811"
      },
      "source": [
        "# объявим константу\n",
        "DAYS_IN_YEAR = 365\n",
        "\n",
        "# выведем средний трудовой стаж в годах\n",
        "\n",
        "print('Средний трудовой стаж в годах: {:.2f}'.format((borrowers['days_employed'].mean())/DAYS_IN_YEAR))\n",
        "\n"
      ],
      "execution_count": null,
      "outputs": [
        {
          "output_type": "stream",
          "text": [
            "Средний трудовой стаж в годах: 183.33\n"
          ],
          "name": "stdout"
        }
      ]
    },
    {
      "cell_type": "markdown",
      "metadata": {
        "id": "m9RzikJjgnEh"
      },
      "source": [
        "Выявлены отклонения, из-за наличия которых, заменять NaN средним не стоит при таких данных в рамках всего сета. Давайте найдем другой путь. Например, попробуем заменить NaN на медианные значения. Проверим.\n",
        "\n",
        "Согласно ст. [63](http://tkodeksrf.ru/ch-3/rzd-3/gl-11/st-63-tk-rf)\n",
        "ТК РФ \"В общем случае заключение трудового договора допускается с работниками в возрасте не моложе 16 лет\". Попробуем рассчитать максимально возможный трудовой стаж для каждого возраста. \n",
        "\n",
        "Для этого добавим в таблицу дополнительный столбец `days_employed_ratio`, который будет отражать отношение трудового стажа из данных к рассчетному теоритечески возможному трудовому стажу `(borrowers['dob_years'] - 16) *  DAYS_IN_YEAR`\n",
        "\n",
        "*Примечение частный случай 15 лет рассматривать не будет*"
      ]
    },
    {
      "cell_type": "code",
      "metadata": {
        "id": "HeSNTafsgnEi",
        "outputId": "2c4214a8-6d57-4309-89a3-a18035fb4235"
      },
      "source": [
        "borrowers['days_employed_ratio'] = borrowers ['days_employed'] / ((borrowers['dob_years'] - 16) *  DAYS_IN_YEAR)\n",
        "borrowers.head(10)"
      ],
      "execution_count": null,
      "outputs": [
        {
          "output_type": "execute_result",
          "data": {
            "text/html": [
              "<div>\n",
              "<style scoped>\n",
              "    .dataframe tbody tr th:only-of-type {\n",
              "        vertical-align: middle;\n",
              "    }\n",
              "\n",
              "    .dataframe tbody tr th {\n",
              "        vertical-align: top;\n",
              "    }\n",
              "\n",
              "    .dataframe thead th {\n",
              "        text-align: right;\n",
              "    }\n",
              "</style>\n",
              "<table border=\"1\" class=\"dataframe\">\n",
              "  <thead>\n",
              "    <tr style=\"text-align: right;\">\n",
              "      <th></th>\n",
              "      <th>children</th>\n",
              "      <th>days_employed</th>\n",
              "      <th>dob_years</th>\n",
              "      <th>education</th>\n",
              "      <th>education_id</th>\n",
              "      <th>family_status</th>\n",
              "      <th>family_status_id</th>\n",
              "      <th>gender</th>\n",
              "      <th>income_type</th>\n",
              "      <th>debt</th>\n",
              "      <th>total_income</th>\n",
              "      <th>purpose</th>\n",
              "      <th>days_employed_ratio</th>\n",
              "    </tr>\n",
              "  </thead>\n",
              "  <tbody>\n",
              "    <tr>\n",
              "      <th>0</th>\n",
              "      <td>1</td>\n",
              "      <td>8437.673028</td>\n",
              "      <td>42</td>\n",
              "      <td>высшее</td>\n",
              "      <td>0</td>\n",
              "      <td>женат / замужем</td>\n",
              "      <td>0</td>\n",
              "      <td>F</td>\n",
              "      <td>сотрудник</td>\n",
              "      <td>0</td>\n",
              "      <td>253875.639453</td>\n",
              "      <td>покупка жилья</td>\n",
              "      <td>0.889112</td>\n",
              "    </tr>\n",
              "    <tr>\n",
              "      <th>1</th>\n",
              "      <td>1</td>\n",
              "      <td>4024.803754</td>\n",
              "      <td>36</td>\n",
              "      <td>среднее</td>\n",
              "      <td>1</td>\n",
              "      <td>женат / замужем</td>\n",
              "      <td>0</td>\n",
              "      <td>F</td>\n",
              "      <td>сотрудник</td>\n",
              "      <td>0</td>\n",
              "      <td>112080.014102</td>\n",
              "      <td>приобретение автомобиля</td>\n",
              "      <td>0.551343</td>\n",
              "    </tr>\n",
              "    <tr>\n",
              "      <th>2</th>\n",
              "      <td>0</td>\n",
              "      <td>5623.422610</td>\n",
              "      <td>33</td>\n",
              "      <td>Среднее</td>\n",
              "      <td>1</td>\n",
              "      <td>женат / замужем</td>\n",
              "      <td>0</td>\n",
              "      <td>M</td>\n",
              "      <td>сотрудник</td>\n",
              "      <td>0</td>\n",
              "      <td>145885.952297</td>\n",
              "      <td>покупка жилья</td>\n",
              "      <td>0.906273</td>\n",
              "    </tr>\n",
              "    <tr>\n",
              "      <th>3</th>\n",
              "      <td>3</td>\n",
              "      <td>4124.747207</td>\n",
              "      <td>32</td>\n",
              "      <td>среднее</td>\n",
              "      <td>1</td>\n",
              "      <td>женат / замужем</td>\n",
              "      <td>0</td>\n",
              "      <td>M</td>\n",
              "      <td>сотрудник</td>\n",
              "      <td>0</td>\n",
              "      <td>267628.550329</td>\n",
              "      <td>дополнительное образование</td>\n",
              "      <td>0.706292</td>\n",
              "    </tr>\n",
              "    <tr>\n",
              "      <th>4</th>\n",
              "      <td>0</td>\n",
              "      <td>340266.072047</td>\n",
              "      <td>53</td>\n",
              "      <td>среднее</td>\n",
              "      <td>1</td>\n",
              "      <td>гражданский брак</td>\n",
              "      <td>1</td>\n",
              "      <td>F</td>\n",
              "      <td>пенсионер</td>\n",
              "      <td>0</td>\n",
              "      <td>158616.077870</td>\n",
              "      <td>сыграть свадьбу</td>\n",
              "      <td>25.195563</td>\n",
              "    </tr>\n",
              "    <tr>\n",
              "      <th>5</th>\n",
              "      <td>0</td>\n",
              "      <td>926.185831</td>\n",
              "      <td>27</td>\n",
              "      <td>высшее</td>\n",
              "      <td>0</td>\n",
              "      <td>гражданский брак</td>\n",
              "      <td>1</td>\n",
              "      <td>M</td>\n",
              "      <td>компаньон</td>\n",
              "      <td>0</td>\n",
              "      <td>255763.565419</td>\n",
              "      <td>покупка жилья</td>\n",
              "      <td>0.230681</td>\n",
              "    </tr>\n",
              "    <tr>\n",
              "      <th>6</th>\n",
              "      <td>0</td>\n",
              "      <td>2879.202052</td>\n",
              "      <td>43</td>\n",
              "      <td>высшее</td>\n",
              "      <td>0</td>\n",
              "      <td>женат / замужем</td>\n",
              "      <td>0</td>\n",
              "      <td>F</td>\n",
              "      <td>компаньон</td>\n",
              "      <td>0</td>\n",
              "      <td>240525.971920</td>\n",
              "      <td>операции с жильем</td>\n",
              "      <td>0.292156</td>\n",
              "    </tr>\n",
              "    <tr>\n",
              "      <th>7</th>\n",
              "      <td>0</td>\n",
              "      <td>152.779569</td>\n",
              "      <td>50</td>\n",
              "      <td>СРЕДНЕЕ</td>\n",
              "      <td>1</td>\n",
              "      <td>женат / замужем</td>\n",
              "      <td>0</td>\n",
              "      <td>M</td>\n",
              "      <td>сотрудник</td>\n",
              "      <td>0</td>\n",
              "      <td>135823.934197</td>\n",
              "      <td>образование</td>\n",
              "      <td>0.012311</td>\n",
              "    </tr>\n",
              "    <tr>\n",
              "      <th>8</th>\n",
              "      <td>2</td>\n",
              "      <td>6929.865299</td>\n",
              "      <td>35</td>\n",
              "      <td>ВЫСШЕЕ</td>\n",
              "      <td>0</td>\n",
              "      <td>гражданский брак</td>\n",
              "      <td>1</td>\n",
              "      <td>F</td>\n",
              "      <td>сотрудник</td>\n",
              "      <td>0</td>\n",
              "      <td>95856.832424</td>\n",
              "      <td>на проведение свадьбы</td>\n",
              "      <td>0.999260</td>\n",
              "    </tr>\n",
              "    <tr>\n",
              "      <th>9</th>\n",
              "      <td>0</td>\n",
              "      <td>2188.756445</td>\n",
              "      <td>41</td>\n",
              "      <td>среднее</td>\n",
              "      <td>1</td>\n",
              "      <td>женат / замужем</td>\n",
              "      <td>0</td>\n",
              "      <td>M</td>\n",
              "      <td>сотрудник</td>\n",
              "      <td>0</td>\n",
              "      <td>144425.938277</td>\n",
              "      <td>покупка жилья для семьи</td>\n",
              "      <td>0.239864</td>\n",
              "    </tr>\n",
              "  </tbody>\n",
              "</table>\n",
              "</div>"
            ],
            "text/plain": [
              "   children  days_employed  dob_years education  education_id  \\\n",
              "0         1    8437.673028         42    высшее             0   \n",
              "1         1    4024.803754         36   среднее             1   \n",
              "2         0    5623.422610         33   Среднее             1   \n",
              "3         3    4124.747207         32   среднее             1   \n",
              "4         0  340266.072047         53   среднее             1   \n",
              "5         0     926.185831         27    высшее             0   \n",
              "6         0    2879.202052         43    высшее             0   \n",
              "7         0     152.779569         50   СРЕДНЕЕ             1   \n",
              "8         2    6929.865299         35    ВЫСШЕЕ             0   \n",
              "9         0    2188.756445         41   среднее             1   \n",
              "\n",
              "      family_status  family_status_id gender income_type  debt   total_income  \\\n",
              "0   женат / замужем                 0      F   сотрудник     0  253875.639453   \n",
              "1   женат / замужем                 0      F   сотрудник     0  112080.014102   \n",
              "2   женат / замужем                 0      M   сотрудник     0  145885.952297   \n",
              "3   женат / замужем                 0      M   сотрудник     0  267628.550329   \n",
              "4  гражданский брак                 1      F   пенсионер     0  158616.077870   \n",
              "5  гражданский брак                 1      M   компаньон     0  255763.565419   \n",
              "6   женат / замужем                 0      F   компаньон     0  240525.971920   \n",
              "7   женат / замужем                 0      M   сотрудник     0  135823.934197   \n",
              "8  гражданский брак                 1      F   сотрудник     0   95856.832424   \n",
              "9   женат / замужем                 0      M   сотрудник     0  144425.938277   \n",
              "\n",
              "                      purpose  days_employed_ratio  \n",
              "0               покупка жилья             0.889112  \n",
              "1     приобретение автомобиля             0.551343  \n",
              "2               покупка жилья             0.906273  \n",
              "3  дополнительное образование             0.706292  \n",
              "4             сыграть свадьбу            25.195563  \n",
              "5               покупка жилья             0.230681  \n",
              "6           операции с жильем             0.292156  \n",
              "7                 образование             0.012311  \n",
              "8       на проведение свадьбы             0.999260  \n",
              "9     покупка жилья для семьи             0.239864  "
            ]
          },
          "metadata": {
            "tags": []
          },
          "execution_count": 12
        }
      ]
    },
    {
      "cell_type": "markdown",
      "metadata": {
        "id": "lnqb79o1gnEj"
      },
      "source": [
        "Если оценивать рейтинг, складывается впечатление, что верным решением будет заменить значение в столбце `days_employed` на теоретическое значение трудового стажа, если рейтинг выше 1, но учтем данный факт в последcтвии при категорировании, чтобы не искажать данные. Заменять данные не будем, ограничимся заменой NaN на медиану, так как у нас есть артефакты в данных и замена на среднее сильно исказит результат, вспомогательный столбец удалим"
      ]
    },
    {
      "cell_type": "code",
      "metadata": {
        "id": "9TzYPMhzgnEj",
        "outputId": "0c14bc37-2562-4afe-d6bc-804054a82068"
      },
      "source": [
        "# переведем стаж в года\n",
        "borrowers['days_employed'] = borrowers['days_employed'].apply(lambda x: x/DAYS_IN_YEAR)\n",
        "\n",
        "# посчитаем медиану для стажа и для ежемесячного дохода\n",
        "\n",
        "borrowers_median = borrowers['days_employed'].median() \n",
        "stat_total_median = borrowers['total_income'].median()\n",
        "\n",
        "#заполним пропуски медианой\n",
        "\n",
        "borrowers['days_employed'] = borrowers['days_employed'].fillna(value=borrowers_median)\n",
        "borrowers['total_income'] = borrowers['total_income'].fillna(value=stat_total_median)\n",
        "\n",
        "#удалим столбец days_employed_ratio за ненадобностью:\n",
        "\n",
        "borrowers = borrowers.drop('days_employed_ratio', axis=1)\n",
        "\n",
        "#переименуем столбец days_employed на years_employed\n",
        "\n",
        "borrowers = borrowers.rename(columns={'days_employed':'years_employed'})\n",
        "\n",
        "#получим информацию о таблице после изменений:\n",
        "\n",
        "borrowers.info()\n",
        "borrowers.head()\n"
      ],
      "execution_count": null,
      "outputs": [
        {
          "output_type": "stream",
          "text": [
            "<class 'pandas.core.frame.DataFrame'>\n",
            "RangeIndex: 21525 entries, 0 to 21524\n",
            "Data columns (total 12 columns):\n",
            " #   Column            Non-Null Count  Dtype  \n",
            "---  ------            --------------  -----  \n",
            " 0   children          21525 non-null  int64  \n",
            " 1   years_employed    21525 non-null  float64\n",
            " 2   dob_years         21525 non-null  int64  \n",
            " 3   education         21525 non-null  object \n",
            " 4   education_id      21525 non-null  int64  \n",
            " 5   family_status     21525 non-null  object \n",
            " 6   family_status_id  21525 non-null  int64  \n",
            " 7   gender            21525 non-null  object \n",
            " 8   income_type       21525 non-null  object \n",
            " 9   debt              21525 non-null  int64  \n",
            " 10  total_income      21525 non-null  float64\n",
            " 11  purpose           21525 non-null  object \n",
            "dtypes: float64(2), int64(5), object(5)\n",
            "memory usage: 2.0+ MB\n"
          ],
          "name": "stdout"
        },
        {
          "output_type": "execute_result",
          "data": {
            "text/html": [
              "<div>\n",
              "<style scoped>\n",
              "    .dataframe tbody tr th:only-of-type {\n",
              "        vertical-align: middle;\n",
              "    }\n",
              "\n",
              "    .dataframe tbody tr th {\n",
              "        vertical-align: top;\n",
              "    }\n",
              "\n",
              "    .dataframe thead th {\n",
              "        text-align: right;\n",
              "    }\n",
              "</style>\n",
              "<table border=\"1\" class=\"dataframe\">\n",
              "  <thead>\n",
              "    <tr style=\"text-align: right;\">\n",
              "      <th></th>\n",
              "      <th>children</th>\n",
              "      <th>years_employed</th>\n",
              "      <th>dob_years</th>\n",
              "      <th>education</th>\n",
              "      <th>education_id</th>\n",
              "      <th>family_status</th>\n",
              "      <th>family_status_id</th>\n",
              "      <th>gender</th>\n",
              "      <th>income_type</th>\n",
              "      <th>debt</th>\n",
              "      <th>total_income</th>\n",
              "      <th>purpose</th>\n",
              "    </tr>\n",
              "  </thead>\n",
              "  <tbody>\n",
              "    <tr>\n",
              "      <th>0</th>\n",
              "      <td>1</td>\n",
              "      <td>23.116912</td>\n",
              "      <td>42</td>\n",
              "      <td>высшее</td>\n",
              "      <td>0</td>\n",
              "      <td>женат / замужем</td>\n",
              "      <td>0</td>\n",
              "      <td>F</td>\n",
              "      <td>сотрудник</td>\n",
              "      <td>0</td>\n",
              "      <td>253875.639453</td>\n",
              "      <td>покупка жилья</td>\n",
              "    </tr>\n",
              "    <tr>\n",
              "      <th>1</th>\n",
              "      <td>1</td>\n",
              "      <td>11.026860</td>\n",
              "      <td>36</td>\n",
              "      <td>среднее</td>\n",
              "      <td>1</td>\n",
              "      <td>женат / замужем</td>\n",
              "      <td>0</td>\n",
              "      <td>F</td>\n",
              "      <td>сотрудник</td>\n",
              "      <td>0</td>\n",
              "      <td>112080.014102</td>\n",
              "      <td>приобретение автомобиля</td>\n",
              "    </tr>\n",
              "    <tr>\n",
              "      <th>2</th>\n",
              "      <td>0</td>\n",
              "      <td>15.406637</td>\n",
              "      <td>33</td>\n",
              "      <td>Среднее</td>\n",
              "      <td>1</td>\n",
              "      <td>женат / замужем</td>\n",
              "      <td>0</td>\n",
              "      <td>M</td>\n",
              "      <td>сотрудник</td>\n",
              "      <td>0</td>\n",
              "      <td>145885.952297</td>\n",
              "      <td>покупка жилья</td>\n",
              "    </tr>\n",
              "    <tr>\n",
              "      <th>3</th>\n",
              "      <td>3</td>\n",
              "      <td>11.300677</td>\n",
              "      <td>32</td>\n",
              "      <td>среднее</td>\n",
              "      <td>1</td>\n",
              "      <td>женат / замужем</td>\n",
              "      <td>0</td>\n",
              "      <td>M</td>\n",
              "      <td>сотрудник</td>\n",
              "      <td>0</td>\n",
              "      <td>267628.550329</td>\n",
              "      <td>дополнительное образование</td>\n",
              "    </tr>\n",
              "    <tr>\n",
              "      <th>4</th>\n",
              "      <td>0</td>\n",
              "      <td>932.235814</td>\n",
              "      <td>53</td>\n",
              "      <td>среднее</td>\n",
              "      <td>1</td>\n",
              "      <td>гражданский брак</td>\n",
              "      <td>1</td>\n",
              "      <td>F</td>\n",
              "      <td>пенсионер</td>\n",
              "      <td>0</td>\n",
              "      <td>158616.077870</td>\n",
              "      <td>сыграть свадьбу</td>\n",
              "    </tr>\n",
              "  </tbody>\n",
              "</table>\n",
              "</div>"
            ],
            "text/plain": [
              "   children  years_employed  dob_years education  education_id  \\\n",
              "0         1       23.116912         42    высшее             0   \n",
              "1         1       11.026860         36   среднее             1   \n",
              "2         0       15.406637         33   Среднее             1   \n",
              "3         3       11.300677         32   среднее             1   \n",
              "4         0      932.235814         53   среднее             1   \n",
              "\n",
              "      family_status  family_status_id gender income_type  debt   total_income  \\\n",
              "0   женат / замужем                 0      F   сотрудник     0  253875.639453   \n",
              "1   женат / замужем                 0      F   сотрудник     0  112080.014102   \n",
              "2   женат / замужем                 0      M   сотрудник     0  145885.952297   \n",
              "3   женат / замужем                 0      M   сотрудник     0  267628.550329   \n",
              "4  гражданский брак                 1      F   пенсионер     0  158616.077870   \n",
              "\n",
              "                      purpose  \n",
              "0               покупка жилья  \n",
              "1     приобретение автомобиля  \n",
              "2               покупка жилья  \n",
              "3  дополнительное образование  \n",
              "4             сыграть свадьбу  "
            ]
          },
          "metadata": {
            "tags": []
          },
          "execution_count": 13
        }
      ]
    },
    {
      "cell_type": "code",
      "metadata": {
        "id": "DXi2EOTvgnEk"
      },
      "source": [
        ""
      ],
      "execution_count": null,
      "outputs": []
    },
    {
      "cell_type": "markdown",
      "metadata": {
        "id": "0Pv4lsxxgnEl"
      },
      "source": [
        "#### **Вывод**"
      ]
    },
    {
      "cell_type": "markdown",
      "metadata": {
        "id": "jR5Wjgh9gnEl"
      },
      "source": [
        "NaN-значения решили заменить на медиану, так как разброс данных велик, замену столбцов решили не приводить, рейтинг стажа удалили, столбец дней переименовали в года. Согласно последнему вызову метода info - NaN-значения отсутствуют. Переходим к замене типа данных"
      ]
    },
    {
      "cell_type": "markdown",
      "metadata": {
        "id": "vpo7h1HtgnEl"
      },
      "source": [
        "### Замена типа данных"
      ]
    },
    {
      "cell_type": "markdown",
      "metadata": {
        "id": "dnkk3E7ygnEm"
      },
      "source": [
        "Замени тип данных в столбцах `years_employed` и `total_income` на **int64**. Сейчас столбцы представлены в виде **float64**. Для этого вызовем метод `astype()`"
      ]
    },
    {
      "cell_type": "code",
      "metadata": {
        "id": "8wgzBQm3gnEm",
        "outputId": "86e89940-796f-4865-9ec5-f876fc07febb"
      },
      "source": [
        "borrowers['years_employed'] = borrowers ['years_employed'].astype('int64')\n",
        "borrowers['total_income'] = borrowers ['total_income'].astype('int64')\n",
        "borrowers.info()"
      ],
      "execution_count": null,
      "outputs": [
        {
          "output_type": "stream",
          "text": [
            "<class 'pandas.core.frame.DataFrame'>\n",
            "RangeIndex: 21525 entries, 0 to 21524\n",
            "Data columns (total 12 columns):\n",
            " #   Column            Non-Null Count  Dtype \n",
            "---  ------            --------------  ----- \n",
            " 0   children          21525 non-null  int64 \n",
            " 1   years_employed    21525 non-null  int64 \n",
            " 2   dob_years         21525 non-null  int64 \n",
            " 3   education         21525 non-null  object\n",
            " 4   education_id      21525 non-null  int64 \n",
            " 5   family_status     21525 non-null  object\n",
            " 6   family_status_id  21525 non-null  int64 \n",
            " 7   gender            21525 non-null  object\n",
            " 8   income_type       21525 non-null  object\n",
            " 9   debt              21525 non-null  int64 \n",
            " 10  total_income      21525 non-null  int64 \n",
            " 11  purpose           21525 non-null  object\n",
            "dtypes: int64(7), object(5)\n",
            "memory usage: 2.0+ MB\n"
          ],
          "name": "stdout"
        }
      ]
    },
    {
      "cell_type": "markdown",
      "metadata": {
        "id": "ious0h1ygnEm"
      },
      "source": [
        "Осталось изменить регистр столбца `education` и `family_status`, приведем все буквы к нижнему регистру"
      ]
    },
    {
      "cell_type": "code",
      "metadata": {
        "id": "LEXb6kaNgnEn",
        "outputId": "91b24a07-d90e-4955-c703-2d38eee6f5eb"
      },
      "source": [
        "borrowers['education'] = borrowers['education'].str.lower()\n",
        "borrowers['family_status'] = borrowers['family_status'].str.lower()\n",
        "\n",
        "borrowers.head(10)"
      ],
      "execution_count": null,
      "outputs": [
        {
          "output_type": "execute_result",
          "data": {
            "text/html": [
              "<div>\n",
              "<style scoped>\n",
              "    .dataframe tbody tr th:only-of-type {\n",
              "        vertical-align: middle;\n",
              "    }\n",
              "\n",
              "    .dataframe tbody tr th {\n",
              "        vertical-align: top;\n",
              "    }\n",
              "\n",
              "    .dataframe thead th {\n",
              "        text-align: right;\n",
              "    }\n",
              "</style>\n",
              "<table border=\"1\" class=\"dataframe\">\n",
              "  <thead>\n",
              "    <tr style=\"text-align: right;\">\n",
              "      <th></th>\n",
              "      <th>children</th>\n",
              "      <th>years_employed</th>\n",
              "      <th>dob_years</th>\n",
              "      <th>education</th>\n",
              "      <th>education_id</th>\n",
              "      <th>family_status</th>\n",
              "      <th>family_status_id</th>\n",
              "      <th>gender</th>\n",
              "      <th>income_type</th>\n",
              "      <th>debt</th>\n",
              "      <th>total_income</th>\n",
              "      <th>purpose</th>\n",
              "    </tr>\n",
              "  </thead>\n",
              "  <tbody>\n",
              "    <tr>\n",
              "      <th>0</th>\n",
              "      <td>1</td>\n",
              "      <td>23</td>\n",
              "      <td>42</td>\n",
              "      <td>высшее</td>\n",
              "      <td>0</td>\n",
              "      <td>женат / замужем</td>\n",
              "      <td>0</td>\n",
              "      <td>F</td>\n",
              "      <td>сотрудник</td>\n",
              "      <td>0</td>\n",
              "      <td>253875</td>\n",
              "      <td>покупка жилья</td>\n",
              "    </tr>\n",
              "    <tr>\n",
              "      <th>1</th>\n",
              "      <td>1</td>\n",
              "      <td>11</td>\n",
              "      <td>36</td>\n",
              "      <td>среднее</td>\n",
              "      <td>1</td>\n",
              "      <td>женат / замужем</td>\n",
              "      <td>0</td>\n",
              "      <td>F</td>\n",
              "      <td>сотрудник</td>\n",
              "      <td>0</td>\n",
              "      <td>112080</td>\n",
              "      <td>приобретение автомобиля</td>\n",
              "    </tr>\n",
              "    <tr>\n",
              "      <th>2</th>\n",
              "      <td>0</td>\n",
              "      <td>15</td>\n",
              "      <td>33</td>\n",
              "      <td>среднее</td>\n",
              "      <td>1</td>\n",
              "      <td>женат / замужем</td>\n",
              "      <td>0</td>\n",
              "      <td>M</td>\n",
              "      <td>сотрудник</td>\n",
              "      <td>0</td>\n",
              "      <td>145885</td>\n",
              "      <td>покупка жилья</td>\n",
              "    </tr>\n",
              "    <tr>\n",
              "      <th>3</th>\n",
              "      <td>3</td>\n",
              "      <td>11</td>\n",
              "      <td>32</td>\n",
              "      <td>среднее</td>\n",
              "      <td>1</td>\n",
              "      <td>женат / замужем</td>\n",
              "      <td>0</td>\n",
              "      <td>M</td>\n",
              "      <td>сотрудник</td>\n",
              "      <td>0</td>\n",
              "      <td>267628</td>\n",
              "      <td>дополнительное образование</td>\n",
              "    </tr>\n",
              "    <tr>\n",
              "      <th>4</th>\n",
              "      <td>0</td>\n",
              "      <td>932</td>\n",
              "      <td>53</td>\n",
              "      <td>среднее</td>\n",
              "      <td>1</td>\n",
              "      <td>гражданский брак</td>\n",
              "      <td>1</td>\n",
              "      <td>F</td>\n",
              "      <td>пенсионер</td>\n",
              "      <td>0</td>\n",
              "      <td>158616</td>\n",
              "      <td>сыграть свадьбу</td>\n",
              "    </tr>\n",
              "    <tr>\n",
              "      <th>5</th>\n",
              "      <td>0</td>\n",
              "      <td>2</td>\n",
              "      <td>27</td>\n",
              "      <td>высшее</td>\n",
              "      <td>0</td>\n",
              "      <td>гражданский брак</td>\n",
              "      <td>1</td>\n",
              "      <td>M</td>\n",
              "      <td>компаньон</td>\n",
              "      <td>0</td>\n",
              "      <td>255763</td>\n",
              "      <td>покупка жилья</td>\n",
              "    </tr>\n",
              "    <tr>\n",
              "      <th>6</th>\n",
              "      <td>0</td>\n",
              "      <td>7</td>\n",
              "      <td>43</td>\n",
              "      <td>высшее</td>\n",
              "      <td>0</td>\n",
              "      <td>женат / замужем</td>\n",
              "      <td>0</td>\n",
              "      <td>F</td>\n",
              "      <td>компаньон</td>\n",
              "      <td>0</td>\n",
              "      <td>240525</td>\n",
              "      <td>операции с жильем</td>\n",
              "    </tr>\n",
              "    <tr>\n",
              "      <th>7</th>\n",
              "      <td>0</td>\n",
              "      <td>0</td>\n",
              "      <td>50</td>\n",
              "      <td>среднее</td>\n",
              "      <td>1</td>\n",
              "      <td>женат / замужем</td>\n",
              "      <td>0</td>\n",
              "      <td>M</td>\n",
              "      <td>сотрудник</td>\n",
              "      <td>0</td>\n",
              "      <td>135823</td>\n",
              "      <td>образование</td>\n",
              "    </tr>\n",
              "    <tr>\n",
              "      <th>8</th>\n",
              "      <td>2</td>\n",
              "      <td>18</td>\n",
              "      <td>35</td>\n",
              "      <td>высшее</td>\n",
              "      <td>0</td>\n",
              "      <td>гражданский брак</td>\n",
              "      <td>1</td>\n",
              "      <td>F</td>\n",
              "      <td>сотрудник</td>\n",
              "      <td>0</td>\n",
              "      <td>95856</td>\n",
              "      <td>на проведение свадьбы</td>\n",
              "    </tr>\n",
              "    <tr>\n",
              "      <th>9</th>\n",
              "      <td>0</td>\n",
              "      <td>5</td>\n",
              "      <td>41</td>\n",
              "      <td>среднее</td>\n",
              "      <td>1</td>\n",
              "      <td>женат / замужем</td>\n",
              "      <td>0</td>\n",
              "      <td>M</td>\n",
              "      <td>сотрудник</td>\n",
              "      <td>0</td>\n",
              "      <td>144425</td>\n",
              "      <td>покупка жилья для семьи</td>\n",
              "    </tr>\n",
              "  </tbody>\n",
              "</table>\n",
              "</div>"
            ],
            "text/plain": [
              "   children  years_employed  dob_years education  education_id  \\\n",
              "0         1              23         42    высшее             0   \n",
              "1         1              11         36   среднее             1   \n",
              "2         0              15         33   среднее             1   \n",
              "3         3              11         32   среднее             1   \n",
              "4         0             932         53   среднее             1   \n",
              "5         0               2         27    высшее             0   \n",
              "6         0               7         43    высшее             0   \n",
              "7         0               0         50   среднее             1   \n",
              "8         2              18         35    высшее             0   \n",
              "9         0               5         41   среднее             1   \n",
              "\n",
              "      family_status  family_status_id gender income_type  debt  total_income  \\\n",
              "0   женат / замужем                 0      F   сотрудник     0        253875   \n",
              "1   женат / замужем                 0      F   сотрудник     0        112080   \n",
              "2   женат / замужем                 0      M   сотрудник     0        145885   \n",
              "3   женат / замужем                 0      M   сотрудник     0        267628   \n",
              "4  гражданский брак                 1      F   пенсионер     0        158616   \n",
              "5  гражданский брак                 1      M   компаньон     0        255763   \n",
              "6   женат / замужем                 0      F   компаньон     0        240525   \n",
              "7   женат / замужем                 0      M   сотрудник     0        135823   \n",
              "8  гражданский брак                 1      F   сотрудник     0         95856   \n",
              "9   женат / замужем                 0      M   сотрудник     0        144425   \n",
              "\n",
              "                      purpose  \n",
              "0               покупка жилья  \n",
              "1     приобретение автомобиля  \n",
              "2               покупка жилья  \n",
              "3  дополнительное образование  \n",
              "4             сыграть свадьбу  \n",
              "5               покупка жилья  \n",
              "6           операции с жильем  \n",
              "7                 образование  \n",
              "8       на проведение свадьбы  \n",
              "9     покупка жилья для семьи  "
            ]
          },
          "metadata": {
            "tags": []
          },
          "execution_count": 15
        }
      ]
    },
    {
      "cell_type": "markdown",
      "metadata": {
        "id": "GolD3p3rgnEn"
      },
      "source": [
        "#### **Вывод**"
      ]
    },
    {
      "cell_type": "markdown",
      "metadata": {
        "id": "hvJeMHa9gnEn"
      },
      "source": [
        "Замену произвели все данные представлены в виде int64, что позволит видеть целочисленные значения, либо object. NaN убрали, регистр столбца `education` привели к единому, можем приступать к обработке дубликатов"
      ]
    },
    {
      "cell_type": "markdown",
      "metadata": {
        "id": "lGzwSWG_gnEn"
      },
      "source": [
        "### Обработка дубликатов"
      ]
    },
    {
      "cell_type": "markdown",
      "metadata": {
        "id": "2R0EzE8RgnEo"
      },
      "source": [
        "Установим наличие дубликатов в сете данных. Если найдутся - удаляем и проверим все ли удалили."
      ]
    },
    {
      "cell_type": "code",
      "metadata": {
        "id": "9-An2jl6gnEo",
        "outputId": "29e8490f-2248-483d-d99b-025f50c63060"
      },
      "source": [
        "borrowers.duplicated().sum()\n"
      ],
      "execution_count": null,
      "outputs": [
        {
          "output_type": "execute_result",
          "data": {
            "text/plain": [
              "71"
            ]
          },
          "metadata": {
            "tags": []
          },
          "execution_count": 16
        }
      ]
    },
    {
      "cell_type": "markdown",
      "metadata": {
        "id": "2jDMwz83gnEo"
      },
      "source": [
        "Выявили по всему сету 71 дубликат. Дубликаты могли появится в результате сбоя записи данных. Стоит обратить на это внимание и разобраться с причинами появления. Удалим дубликаты, сброим индекс"
      ]
    },
    {
      "cell_type": "code",
      "metadata": {
        "id": "CippDc4rgnEo",
        "outputId": "1cecc3cd-b763-4240-9b1e-1b0698ed0ccd"
      },
      "source": [
        "borrowers = borrowers.drop_duplicates().reset_index(drop=True) # удаляем дубликаты\n",
        "borrowers.duplicated().sum() #проверяем их наличие снова"
      ],
      "execution_count": null,
      "outputs": [
        {
          "output_type": "execute_result",
          "data": {
            "text/plain": [
              "0"
            ]
          },
          "metadata": {
            "tags": []
          },
          "execution_count": 17
        }
      ]
    },
    {
      "cell_type": "markdown",
      "metadata": {
        "id": "EY3MUcxignEp"
      },
      "source": [
        "#### **Вывод**"
      ]
    },
    {
      "cell_type": "markdown",
      "metadata": {
        "id": "bAthJCINgnEp"
      },
      "source": [
        "Произвели замену дубликатов. Может приступать к дальнейшей обработке. Нам необходимо выделить в столбце `purpose` уникальные слова"
      ]
    },
    {
      "cell_type": "markdown",
      "metadata": {
        "id": "vfDvfHZGgnEq"
      },
      "source": [
        "### Лемматизация"
      ]
    },
    {
      "cell_type": "markdown",
      "metadata": {
        "id": "AuAGdMQfgnEq"
      },
      "source": [
        "В результате рассмотрения сета данных, в столбце `purpose` наблюдались схожие цели, но записанные разными выражениями. Для дальней категоризации нам необходимо привести их к единообразию. Для этого впосользуемся модулем `Pymystem3`. \n",
        "\n",
        "Ознакомимся со столбцом `purpose` более подробно."
      ]
    },
    {
      "cell_type": "code",
      "metadata": {
        "id": "h3pfOUP5gnEq",
        "outputId": "813721fb-e212-4ba7-f19b-aab791dd586d"
      },
      "source": [
        " # посчитаем уникальные значения столбца Purpose\n",
        "unique_purposes = borrowers['purpose'].value_counts()\n",
        "\n",
        "# выведем на экран количество тех или иных запросов\n",
        "\n",
        "\n",
        "print(borrowers['purpose'].value_counts().sort_values(ascending=False))\n",
        "\n"
      ],
      "execution_count": null,
      "outputs": [
        {
          "output_type": "stream",
          "text": [
            "свадьба                                   791\n",
            "на проведение свадьбы                     768\n",
            "сыграть свадьбу                           765\n",
            "операции с недвижимостью                  675\n",
            "покупка коммерческой недвижимости         661\n",
            "операции с жильем                         652\n",
            "покупка жилья для сдачи                   651\n",
            "операции с коммерческой недвижимостью     650\n",
            "покупка жилья                             646\n",
            "жилье                                     646\n",
            "покупка жилья для семьи                   638\n",
            "строительство собственной недвижимости    635\n",
            "недвижимость                              633\n",
            "операции со своей недвижимостью           627\n",
            "строительство жилой недвижимости          624\n",
            "покупка недвижимости                      621\n",
            "покупка своего жилья                      620\n",
            "строительство недвижимости                619\n",
            "ремонт жилью                              607\n",
            "покупка жилой недвижимости                606\n",
            "на покупку своего автомобиля              505\n",
            "заняться высшим образованием              496\n",
            "автомобиль                                494\n",
            "сделка с подержанным автомобилем          486\n",
            "автомобили                                478\n",
            "свой автомобиль                           478\n",
            "на покупку подержанного автомобиля        478\n",
            "на покупку автомобиля                     471\n",
            "приобретение автомобиля                   461\n",
            "дополнительное образование                460\n",
            "сделка с автомобилем                      455\n",
            "высшее образование                        452\n",
            "образование                               447\n",
            "получение дополнительного образования     446\n",
            "получение образования                     442\n",
            "профильное образование                    436\n",
            "получение высшего образования             426\n",
            "заняться образованием                     408\n",
            "Name: purpose, dtype: int64\n"
          ],
          "name": "stdout"
        }
      ]
    },
    {
      "cell_type": "code",
      "metadata": {
        "id": "HYZxW3HXgnEr",
        "outputId": "f20d370f-34a7-4e81-d9c3-fceb14427237"
      },
      "source": [
        "# получим лемматизатор\\стеммер из модуля Pymystem3\n",
        "\n",
        "from pymystem3 import Mystem\n",
        "\n",
        "# вызовем коллекцию Counter\n",
        "\n",
        "from collections import Counter\n",
        "\n",
        "\n",
        "m = Mystem()\n",
        "list_of_lemmas = []\n",
        "for purpose in borrowers['purpose']:\n",
        "    lemma = m.lemmatize(purpose)\n",
        "    list_of_lemmas.extend(lemma)\n",
        "    \n",
        "# подсчитаем уникалльные леммы\n",
        "\n",
        "unique_lemmas = Counter(list_of_lemmas)\n",
        "\n",
        "# отсортируем уникальные значения\n",
        "\n",
        "sorted(unique_lemmas.items(), key = lambda pair: pair[1], reverse=True)\n",
        "\n",
        "\n",
        "\n",
        "\n",
        "\n",
        "\n"
      ],
      "execution_count": null,
      "outputs": [
        {
          "output_type": "execute_result",
          "data": {
            "text/plain": [
              "[(' ', 33570),\n",
              " ('\\n', 21454),\n",
              " ('недвижимость', 6351),\n",
              " ('покупка', 5897),\n",
              " ('жилье', 4460),\n",
              " ('автомобиль', 4306),\n",
              " ('образование', 4013),\n",
              " ('с', 2918),\n",
              " ('операция', 2604),\n",
              " ('свадьба', 2324),\n",
              " ('свой', 2230),\n",
              " ('на', 2222),\n",
              " ('строительство', 1878),\n",
              " ('высокий', 1374),\n",
              " ('получение', 1314),\n",
              " ('коммерческий', 1311),\n",
              " ('для', 1289),\n",
              " ('жилой', 1230),\n",
              " ('сделка', 941),\n",
              " ('дополнительный', 906),\n",
              " ('заниматься', 904),\n",
              " ('проведение', 768),\n",
              " ('сыграть', 765),\n",
              " ('сдача', 651),\n",
              " ('семья', 638),\n",
              " ('собственный', 635),\n",
              " ('со', 627),\n",
              " ('ремонт', 607),\n",
              " ('подержанный', 486),\n",
              " ('подержать', 478),\n",
              " ('приобретение', 461),\n",
              " ('профильный', 436)]"
            ]
          },
          "metadata": {
            "tags": []
          },
          "execution_count": 19
        }
      ]
    },
    {
      "cell_type": "markdown",
      "metadata": {
        "id": "QfOUblUcgnEr"
      },
      "source": [
        "Получили список лемм, встречающихся в столбце `purpose`. Для выделения четких категорий, давайте оставим в списке только существительные, исключим пробелы, предлоги и прилагательные."
      ]
    },
    {
      "cell_type": "code",
      "metadata": {
        "id": "n9DbPuLGgnEs",
        "outputId": "8791ea80-1a33-45e0-dc8a-ed45e9b3adbb"
      },
      "source": [
        "#исключим из списка unique_lemmas слова, короче 2 символов (для исключения предлогов и пробелов) и получим новый список\n",
        "list_of_purposes = [length for length in sorted(unique_lemmas, key=unique_lemmas.get, reverse=True)\n",
        "                          if len(length) > 2]\n",
        "print(list_of_purposes)"
      ],
      "execution_count": null,
      "outputs": [
        {
          "output_type": "stream",
          "text": [
            "['недвижимость', 'покупка', 'жилье', 'автомобиль', 'образование', 'операция', 'свадьба', 'свой', 'строительство', 'высокий', 'получение', 'коммерческий', 'для', 'жилой', 'сделка', 'дополнительный', 'заниматься', 'проведение', 'сыграть', 'сдача', 'семья', 'собственный', 'ремонт', 'подержанный', 'подержать', 'приобретение', 'профильный']\n"
          ],
          "name": "stdout"
        }
      ]
    },
    {
      "cell_type": "markdown",
      "metadata": {
        "id": "nIQXEzuygnEs"
      },
      "source": [
        "Исключим из списка прилагательные и схожие по значению цели, остается:\n",
        "\n",
        "**недвижимость, жилье, автомобиль, образование, операция, свадьба, строительство, ремонт**\n",
        "\n",
        "\n",
        "*Примечание **жилье** пришлось включать, так как часто встречается и исключение \"жил\" не позволит точно категорировать*\n",
        "\n",
        "\n"
      ]
    },
    {
      "cell_type": "markdown",
      "metadata": {
        "id": "dB8tiS3-gnEs"
      },
      "source": [
        "Создадим новый список и из него соберем словарь"
      ]
    },
    {
      "cell_type": "code",
      "metadata": {
        "id": "vbaYbeyugnEt",
        "outputId": "a7735f88-d69d-4199-ad98-c2c3a2569e8f"
      },
      "source": [
        "list_of_purpose = {'недвиж':1, 'авто':2, 'образ':3, 'опер':4, 'свад':5, 'строит':6, 'ремо':7, 'жил':1}\n",
        "# применим словрь к нашему сету и создадим столбец с категориями товара\n",
        "\n",
        "borrowers['purpose_category'] = 0\n",
        "\n",
        "#напишем цикл, который будет принимать значение из словаря и подставлять  столбец 11 сета, \n",
        "#и если слова из словаря находится в столбце 11 - выставлять категорию в столбец 12. Применим iloc\n",
        "\n",
        "for row in range(len(borrowers)):\n",
        "    for purpose in list_of_purpose:\n",
        "        if purpose in borrowers.iloc[row, 11]:\n",
        "            borrowers.iloc[row, 12] = list_of_purpose[purpose]\n",
        "        \n",
        "borrowers.head(10)"
      ],
      "execution_count": null,
      "outputs": [
        {
          "output_type": "execute_result",
          "data": {
            "text/html": [
              "<div>\n",
              "<style scoped>\n",
              "    .dataframe tbody tr th:only-of-type {\n",
              "        vertical-align: middle;\n",
              "    }\n",
              "\n",
              "    .dataframe tbody tr th {\n",
              "        vertical-align: top;\n",
              "    }\n",
              "\n",
              "    .dataframe thead th {\n",
              "        text-align: right;\n",
              "    }\n",
              "</style>\n",
              "<table border=\"1\" class=\"dataframe\">\n",
              "  <thead>\n",
              "    <tr style=\"text-align: right;\">\n",
              "      <th></th>\n",
              "      <th>children</th>\n",
              "      <th>years_employed</th>\n",
              "      <th>dob_years</th>\n",
              "      <th>education</th>\n",
              "      <th>education_id</th>\n",
              "      <th>family_status</th>\n",
              "      <th>family_status_id</th>\n",
              "      <th>gender</th>\n",
              "      <th>income_type</th>\n",
              "      <th>debt</th>\n",
              "      <th>total_income</th>\n",
              "      <th>purpose</th>\n",
              "      <th>purpose_category</th>\n",
              "    </tr>\n",
              "  </thead>\n",
              "  <tbody>\n",
              "    <tr>\n",
              "      <th>0</th>\n",
              "      <td>1</td>\n",
              "      <td>23</td>\n",
              "      <td>42</td>\n",
              "      <td>высшее</td>\n",
              "      <td>0</td>\n",
              "      <td>женат / замужем</td>\n",
              "      <td>0</td>\n",
              "      <td>F</td>\n",
              "      <td>сотрудник</td>\n",
              "      <td>0</td>\n",
              "      <td>253875</td>\n",
              "      <td>покупка жилья</td>\n",
              "      <td>1</td>\n",
              "    </tr>\n",
              "    <tr>\n",
              "      <th>1</th>\n",
              "      <td>1</td>\n",
              "      <td>11</td>\n",
              "      <td>36</td>\n",
              "      <td>среднее</td>\n",
              "      <td>1</td>\n",
              "      <td>женат / замужем</td>\n",
              "      <td>0</td>\n",
              "      <td>F</td>\n",
              "      <td>сотрудник</td>\n",
              "      <td>0</td>\n",
              "      <td>112080</td>\n",
              "      <td>приобретение автомобиля</td>\n",
              "      <td>2</td>\n",
              "    </tr>\n",
              "    <tr>\n",
              "      <th>2</th>\n",
              "      <td>0</td>\n",
              "      <td>15</td>\n",
              "      <td>33</td>\n",
              "      <td>среднее</td>\n",
              "      <td>1</td>\n",
              "      <td>женат / замужем</td>\n",
              "      <td>0</td>\n",
              "      <td>M</td>\n",
              "      <td>сотрудник</td>\n",
              "      <td>0</td>\n",
              "      <td>145885</td>\n",
              "      <td>покупка жилья</td>\n",
              "      <td>1</td>\n",
              "    </tr>\n",
              "    <tr>\n",
              "      <th>3</th>\n",
              "      <td>3</td>\n",
              "      <td>11</td>\n",
              "      <td>32</td>\n",
              "      <td>среднее</td>\n",
              "      <td>1</td>\n",
              "      <td>женат / замужем</td>\n",
              "      <td>0</td>\n",
              "      <td>M</td>\n",
              "      <td>сотрудник</td>\n",
              "      <td>0</td>\n",
              "      <td>267628</td>\n",
              "      <td>дополнительное образование</td>\n",
              "      <td>3</td>\n",
              "    </tr>\n",
              "    <tr>\n",
              "      <th>4</th>\n",
              "      <td>0</td>\n",
              "      <td>932</td>\n",
              "      <td>53</td>\n",
              "      <td>среднее</td>\n",
              "      <td>1</td>\n",
              "      <td>гражданский брак</td>\n",
              "      <td>1</td>\n",
              "      <td>F</td>\n",
              "      <td>пенсионер</td>\n",
              "      <td>0</td>\n",
              "      <td>158616</td>\n",
              "      <td>сыграть свадьбу</td>\n",
              "      <td>5</td>\n",
              "    </tr>\n",
              "    <tr>\n",
              "      <th>5</th>\n",
              "      <td>0</td>\n",
              "      <td>2</td>\n",
              "      <td>27</td>\n",
              "      <td>высшее</td>\n",
              "      <td>0</td>\n",
              "      <td>гражданский брак</td>\n",
              "      <td>1</td>\n",
              "      <td>M</td>\n",
              "      <td>компаньон</td>\n",
              "      <td>0</td>\n",
              "      <td>255763</td>\n",
              "      <td>покупка жилья</td>\n",
              "      <td>1</td>\n",
              "    </tr>\n",
              "    <tr>\n",
              "      <th>6</th>\n",
              "      <td>0</td>\n",
              "      <td>7</td>\n",
              "      <td>43</td>\n",
              "      <td>высшее</td>\n",
              "      <td>0</td>\n",
              "      <td>женат / замужем</td>\n",
              "      <td>0</td>\n",
              "      <td>F</td>\n",
              "      <td>компаньон</td>\n",
              "      <td>0</td>\n",
              "      <td>240525</td>\n",
              "      <td>операции с жильем</td>\n",
              "      <td>1</td>\n",
              "    </tr>\n",
              "    <tr>\n",
              "      <th>7</th>\n",
              "      <td>0</td>\n",
              "      <td>0</td>\n",
              "      <td>50</td>\n",
              "      <td>среднее</td>\n",
              "      <td>1</td>\n",
              "      <td>женат / замужем</td>\n",
              "      <td>0</td>\n",
              "      <td>M</td>\n",
              "      <td>сотрудник</td>\n",
              "      <td>0</td>\n",
              "      <td>135823</td>\n",
              "      <td>образование</td>\n",
              "      <td>3</td>\n",
              "    </tr>\n",
              "    <tr>\n",
              "      <th>8</th>\n",
              "      <td>2</td>\n",
              "      <td>18</td>\n",
              "      <td>35</td>\n",
              "      <td>высшее</td>\n",
              "      <td>0</td>\n",
              "      <td>гражданский брак</td>\n",
              "      <td>1</td>\n",
              "      <td>F</td>\n",
              "      <td>сотрудник</td>\n",
              "      <td>0</td>\n",
              "      <td>95856</td>\n",
              "      <td>на проведение свадьбы</td>\n",
              "      <td>5</td>\n",
              "    </tr>\n",
              "    <tr>\n",
              "      <th>9</th>\n",
              "      <td>0</td>\n",
              "      <td>5</td>\n",
              "      <td>41</td>\n",
              "      <td>среднее</td>\n",
              "      <td>1</td>\n",
              "      <td>женат / замужем</td>\n",
              "      <td>0</td>\n",
              "      <td>M</td>\n",
              "      <td>сотрудник</td>\n",
              "      <td>0</td>\n",
              "      <td>144425</td>\n",
              "      <td>покупка жилья для семьи</td>\n",
              "      <td>1</td>\n",
              "    </tr>\n",
              "  </tbody>\n",
              "</table>\n",
              "</div>"
            ],
            "text/plain": [
              "   children  years_employed  dob_years education  education_id  \\\n",
              "0         1              23         42    высшее             0   \n",
              "1         1              11         36   среднее             1   \n",
              "2         0              15         33   среднее             1   \n",
              "3         3              11         32   среднее             1   \n",
              "4         0             932         53   среднее             1   \n",
              "5         0               2         27    высшее             0   \n",
              "6         0               7         43    высшее             0   \n",
              "7         0               0         50   среднее             1   \n",
              "8         2              18         35    высшее             0   \n",
              "9         0               5         41   среднее             1   \n",
              "\n",
              "      family_status  family_status_id gender income_type  debt  total_income  \\\n",
              "0   женат / замужем                 0      F   сотрудник     0        253875   \n",
              "1   женат / замужем                 0      F   сотрудник     0        112080   \n",
              "2   женат / замужем                 0      M   сотрудник     0        145885   \n",
              "3   женат / замужем                 0      M   сотрудник     0        267628   \n",
              "4  гражданский брак                 1      F   пенсионер     0        158616   \n",
              "5  гражданский брак                 1      M   компаньон     0        255763   \n",
              "6   женат / замужем                 0      F   компаньон     0        240525   \n",
              "7   женат / замужем                 0      M   сотрудник     0        135823   \n",
              "8  гражданский брак                 1      F   сотрудник     0         95856   \n",
              "9   женат / замужем                 0      M   сотрудник     0        144425   \n",
              "\n",
              "                      purpose  purpose_category  \n",
              "0               покупка жилья                 1  \n",
              "1     приобретение автомобиля                 2  \n",
              "2               покупка жилья                 1  \n",
              "3  дополнительное образование                 3  \n",
              "4             сыграть свадьбу                 5  \n",
              "5               покупка жилья                 1  \n",
              "6           операции с жильем                 1  \n",
              "7                 образование                 3  \n",
              "8       на проведение свадьбы                 5  \n",
              "9     покупка жилья для семьи                 1  "
            ]
          },
          "metadata": {
            "tags": []
          },
          "execution_count": 21
        }
      ]
    },
    {
      "cell_type": "code",
      "metadata": {
        "id": "SIyLOn0HgnEt",
        "outputId": "4803f437-22be-48e9-e2fa-b15a547dde06"
      },
      "source": [
        "#проверим количество 0 в новом столбце, если все верно - они должны отсутствовать\n",
        "borrowers[borrowers['purpose_category'] == 0].count().sum()\n"
      ],
      "execution_count": null,
      "outputs": [
        {
          "output_type": "execute_result",
          "data": {
            "text/plain": [
              "0"
            ]
          },
          "metadata": {
            "tags": []
          },
          "execution_count": 22
        }
      ]
    },
    {
      "cell_type": "markdown",
      "metadata": {
        "id": "CC9apo9tgnEu"
      },
      "source": [
        "#### **Вывод**"
      ]
    },
    {
      "cell_type": "markdown",
      "metadata": {
        "id": "Ddzf-MLAgnEu"
      },
      "source": [
        "По результатм лемматизации столбца `purpose` выявили топ целей для получения кредитов\n",
        "\n",
        "  - недвижимость\n",
        "  - автомобиль\n",
        "  - образование\n",
        "  - операция\n",
        "  - свадьба\n",
        "  - строительство/ремонт\n",
        "  \n",
        "  \n",
        "  Вполне ожидаемые цели, связанные с бытовой необходимостью. Можем переходить к категорированию данных и ответу на поставленные вопросы"
      ]
    },
    {
      "cell_type": "markdown",
      "metadata": {
        "id": "a36XHzKGgnEu"
      },
      "source": [
        "### Категоризация данных"
      ]
    },
    {
      "cell_type": "markdown",
      "metadata": {
        "id": "rX5diEakgnEu"
      },
      "source": [
        "Перед нами поставлены следующая задача:\n",
        "\n",
        "влияет ли семейное положение и количество детей клиента на факт погашения кредита.\n",
        "\n",
        "\n",
        "Разобьем категории (#category) следующим образом: \n",
        "\n",
        "- по возрасту (`dob_years`):  \n",
        "\n",
        "    - до 35 лет ([молодежь](https://www.vedomosti.ru/society/news/2020/11/11/846620-gosduma-odobrila-v-pervom-chtenii-povishenie-vozrasta-molodezhi-do-35-let))  \n",
        "    - 36-45 лет  \n",
        "    - 46-65 лет  \n",
        "    - более 65 лет  \n",
        "    \n",
        "    \n",
        "\n",
        "- по стажу (`year_employed`):  \n",
        "\n",
        "    - до 10 лет  \n",
        "    - 10-30 лет  \n",
        "    - более 30 лет  \n",
        "    \n",
        "    \n",
        "- по количеству детей (`children`):  \n",
        "\n",
        "    - нет детей  \n",
        "    - 1-2 ребенка  \n",
        "    - многодетные (больше 3 детей)\n",
        "    \n",
        "    \n",
        "- по [доходу](https://www.factograph.info/a/30497993.html) (`total_income`):  \n",
        "\n",
        "    - низкий доход (менее 50000)\n",
        "    - средний доход (от 50000 до 100000);\n",
        "    - высокий доход (от 100000 до 350000);\n",
        "\n",
        "\n",
        "\n",
        "\n",
        "\n",
        "\n"
      ]
    },
    {
      "cell_type": "code",
      "metadata": {
        "id": "XjuBbk3-gnEv",
        "outputId": "98d9da1b-c306-44c4-d0b0-0779e999b44e"
      },
      "source": [
        "#функция категорирования по возрасту\n",
        "\n",
        "def dob_years_cat(row):\n",
        "    if row['dob_years'] <= 35:\n",
        "        return 'до 35 лет'\n",
        "    elif 36 <= row['dob_years'] < 45:\n",
        "        return '36-45 лет'\n",
        "    elif 46 <= row['dob_years'] <= 65:\n",
        "        return '46-65 лет'\n",
        "    else:\n",
        "        return 'более 65 лет'\n",
        "    \n",
        "#функция категорирования по трудовому стажу\n",
        "\n",
        "def years_employed_cat(row):\n",
        "    if row['years_employed'] <= 10:\n",
        "        return 'трудовой стаж до 10 лет'\n",
        "    elif 10 < row['years_employed'] <= 30:\n",
        "        return 'трудовой стаж 10-30 лет'\n",
        "    else:\n",
        "        return 'трудовой стаж более 30 лет'\n",
        "    \n",
        "#функция категорирования по количеству детей \n",
        "\n",
        "def children_cat(row):\n",
        "    if row['children'] == 0:\n",
        "        return 'нет детей'\n",
        "    elif 1 <= row['children'] <= 2:\n",
        "        return '1-2 ребенка'\n",
        "    else:\n",
        "        return 'многодетные'  \n",
        "    \n",
        "# функция категориварояни по доходу\n",
        "\n",
        "def total_income_cat(row):\n",
        "    if row['total_income'] <= 50000:\n",
        "        return 'низкий доход'\n",
        "    elif 50000 < row['total_income'] <= 100000:\n",
        "        return 'средний доход'\n",
        "    else:\n",
        "        return 'высокий доход'\n",
        "    \n",
        "#этот столбец добавим для перевода значений возрата кредита в словесные значения\n",
        "\n",
        "def debt_in_words(row):\n",
        "    if row['debt'] == 0:\n",
        "        return 'not_expired'\n",
        "    else:\n",
        "        return 'expired'    \n",
        "    \n",
        "    \n",
        "#применим функции к таблице\n",
        "\n",
        "borrowers ['dob_years_cat'] = borrowers.apply(dob_years_cat, axis=1)\n",
        "borrowers['years_employed_cat'] = borrowers.apply(years_employed_cat, axis=1)\n",
        "borrowers ['children_cat'] = borrowers.apply(children_cat, axis=1)\n",
        "borrowers['total_income_cat'] = borrowers.apply(total_income_cat, axis=1)\n",
        "borrowers['debt_in_words'] = borrowers.apply(debt_in_words, axis=1)\n",
        "\n",
        "\n",
        "#выведем новую таблицу\n",
        "\n",
        "borrowers.head(10)"
      ],
      "execution_count": null,
      "outputs": [
        {
          "output_type": "execute_result",
          "data": {
            "text/html": [
              "<div>\n",
              "<style scoped>\n",
              "    .dataframe tbody tr th:only-of-type {\n",
              "        vertical-align: middle;\n",
              "    }\n",
              "\n",
              "    .dataframe tbody tr th {\n",
              "        vertical-align: top;\n",
              "    }\n",
              "\n",
              "    .dataframe thead th {\n",
              "        text-align: right;\n",
              "    }\n",
              "</style>\n",
              "<table border=\"1\" class=\"dataframe\">\n",
              "  <thead>\n",
              "    <tr style=\"text-align: right;\">\n",
              "      <th></th>\n",
              "      <th>children</th>\n",
              "      <th>years_employed</th>\n",
              "      <th>dob_years</th>\n",
              "      <th>education</th>\n",
              "      <th>education_id</th>\n",
              "      <th>family_status</th>\n",
              "      <th>family_status_id</th>\n",
              "      <th>gender</th>\n",
              "      <th>income_type</th>\n",
              "      <th>debt</th>\n",
              "      <th>total_income</th>\n",
              "      <th>purpose</th>\n",
              "      <th>purpose_category</th>\n",
              "      <th>dob_years_cat</th>\n",
              "      <th>years_employed_cat</th>\n",
              "      <th>children_cat</th>\n",
              "      <th>total_income_cat</th>\n",
              "      <th>debt_in_words</th>\n",
              "    </tr>\n",
              "  </thead>\n",
              "  <tbody>\n",
              "    <tr>\n",
              "      <th>0</th>\n",
              "      <td>1</td>\n",
              "      <td>23</td>\n",
              "      <td>42</td>\n",
              "      <td>высшее</td>\n",
              "      <td>0</td>\n",
              "      <td>женат / замужем</td>\n",
              "      <td>0</td>\n",
              "      <td>F</td>\n",
              "      <td>сотрудник</td>\n",
              "      <td>0</td>\n",
              "      <td>253875</td>\n",
              "      <td>покупка жилья</td>\n",
              "      <td>1</td>\n",
              "      <td>36-45 лет</td>\n",
              "      <td>трудовой стаж 10-30 лет</td>\n",
              "      <td>1-2 ребенка</td>\n",
              "      <td>высокий доход</td>\n",
              "      <td>not_expired</td>\n",
              "    </tr>\n",
              "    <tr>\n",
              "      <th>1</th>\n",
              "      <td>1</td>\n",
              "      <td>11</td>\n",
              "      <td>36</td>\n",
              "      <td>среднее</td>\n",
              "      <td>1</td>\n",
              "      <td>женат / замужем</td>\n",
              "      <td>0</td>\n",
              "      <td>F</td>\n",
              "      <td>сотрудник</td>\n",
              "      <td>0</td>\n",
              "      <td>112080</td>\n",
              "      <td>приобретение автомобиля</td>\n",
              "      <td>2</td>\n",
              "      <td>36-45 лет</td>\n",
              "      <td>трудовой стаж 10-30 лет</td>\n",
              "      <td>1-2 ребенка</td>\n",
              "      <td>высокий доход</td>\n",
              "      <td>not_expired</td>\n",
              "    </tr>\n",
              "    <tr>\n",
              "      <th>2</th>\n",
              "      <td>0</td>\n",
              "      <td>15</td>\n",
              "      <td>33</td>\n",
              "      <td>среднее</td>\n",
              "      <td>1</td>\n",
              "      <td>женат / замужем</td>\n",
              "      <td>0</td>\n",
              "      <td>M</td>\n",
              "      <td>сотрудник</td>\n",
              "      <td>0</td>\n",
              "      <td>145885</td>\n",
              "      <td>покупка жилья</td>\n",
              "      <td>1</td>\n",
              "      <td>до 35 лет</td>\n",
              "      <td>трудовой стаж 10-30 лет</td>\n",
              "      <td>нет детей</td>\n",
              "      <td>высокий доход</td>\n",
              "      <td>not_expired</td>\n",
              "    </tr>\n",
              "    <tr>\n",
              "      <th>3</th>\n",
              "      <td>3</td>\n",
              "      <td>11</td>\n",
              "      <td>32</td>\n",
              "      <td>среднее</td>\n",
              "      <td>1</td>\n",
              "      <td>женат / замужем</td>\n",
              "      <td>0</td>\n",
              "      <td>M</td>\n",
              "      <td>сотрудник</td>\n",
              "      <td>0</td>\n",
              "      <td>267628</td>\n",
              "      <td>дополнительное образование</td>\n",
              "      <td>3</td>\n",
              "      <td>до 35 лет</td>\n",
              "      <td>трудовой стаж 10-30 лет</td>\n",
              "      <td>многодетные</td>\n",
              "      <td>высокий доход</td>\n",
              "      <td>not_expired</td>\n",
              "    </tr>\n",
              "    <tr>\n",
              "      <th>4</th>\n",
              "      <td>0</td>\n",
              "      <td>932</td>\n",
              "      <td>53</td>\n",
              "      <td>среднее</td>\n",
              "      <td>1</td>\n",
              "      <td>гражданский брак</td>\n",
              "      <td>1</td>\n",
              "      <td>F</td>\n",
              "      <td>пенсионер</td>\n",
              "      <td>0</td>\n",
              "      <td>158616</td>\n",
              "      <td>сыграть свадьбу</td>\n",
              "      <td>5</td>\n",
              "      <td>46-65 лет</td>\n",
              "      <td>трудовой стаж более 30 лет</td>\n",
              "      <td>нет детей</td>\n",
              "      <td>высокий доход</td>\n",
              "      <td>not_expired</td>\n",
              "    </tr>\n",
              "    <tr>\n",
              "      <th>5</th>\n",
              "      <td>0</td>\n",
              "      <td>2</td>\n",
              "      <td>27</td>\n",
              "      <td>высшее</td>\n",
              "      <td>0</td>\n",
              "      <td>гражданский брак</td>\n",
              "      <td>1</td>\n",
              "      <td>M</td>\n",
              "      <td>компаньон</td>\n",
              "      <td>0</td>\n",
              "      <td>255763</td>\n",
              "      <td>покупка жилья</td>\n",
              "      <td>1</td>\n",
              "      <td>до 35 лет</td>\n",
              "      <td>трудовой стаж до 10 лет</td>\n",
              "      <td>нет детей</td>\n",
              "      <td>высокий доход</td>\n",
              "      <td>not_expired</td>\n",
              "    </tr>\n",
              "    <tr>\n",
              "      <th>6</th>\n",
              "      <td>0</td>\n",
              "      <td>7</td>\n",
              "      <td>43</td>\n",
              "      <td>высшее</td>\n",
              "      <td>0</td>\n",
              "      <td>женат / замужем</td>\n",
              "      <td>0</td>\n",
              "      <td>F</td>\n",
              "      <td>компаньон</td>\n",
              "      <td>0</td>\n",
              "      <td>240525</td>\n",
              "      <td>операции с жильем</td>\n",
              "      <td>1</td>\n",
              "      <td>36-45 лет</td>\n",
              "      <td>трудовой стаж до 10 лет</td>\n",
              "      <td>нет детей</td>\n",
              "      <td>высокий доход</td>\n",
              "      <td>not_expired</td>\n",
              "    </tr>\n",
              "    <tr>\n",
              "      <th>7</th>\n",
              "      <td>0</td>\n",
              "      <td>0</td>\n",
              "      <td>50</td>\n",
              "      <td>среднее</td>\n",
              "      <td>1</td>\n",
              "      <td>женат / замужем</td>\n",
              "      <td>0</td>\n",
              "      <td>M</td>\n",
              "      <td>сотрудник</td>\n",
              "      <td>0</td>\n",
              "      <td>135823</td>\n",
              "      <td>образование</td>\n",
              "      <td>3</td>\n",
              "      <td>46-65 лет</td>\n",
              "      <td>трудовой стаж до 10 лет</td>\n",
              "      <td>нет детей</td>\n",
              "      <td>высокий доход</td>\n",
              "      <td>not_expired</td>\n",
              "    </tr>\n",
              "    <tr>\n",
              "      <th>8</th>\n",
              "      <td>2</td>\n",
              "      <td>18</td>\n",
              "      <td>35</td>\n",
              "      <td>высшее</td>\n",
              "      <td>0</td>\n",
              "      <td>гражданский брак</td>\n",
              "      <td>1</td>\n",
              "      <td>F</td>\n",
              "      <td>сотрудник</td>\n",
              "      <td>0</td>\n",
              "      <td>95856</td>\n",
              "      <td>на проведение свадьбы</td>\n",
              "      <td>5</td>\n",
              "      <td>до 35 лет</td>\n",
              "      <td>трудовой стаж 10-30 лет</td>\n",
              "      <td>1-2 ребенка</td>\n",
              "      <td>средний доход</td>\n",
              "      <td>not_expired</td>\n",
              "    </tr>\n",
              "    <tr>\n",
              "      <th>9</th>\n",
              "      <td>0</td>\n",
              "      <td>5</td>\n",
              "      <td>41</td>\n",
              "      <td>среднее</td>\n",
              "      <td>1</td>\n",
              "      <td>женат / замужем</td>\n",
              "      <td>0</td>\n",
              "      <td>M</td>\n",
              "      <td>сотрудник</td>\n",
              "      <td>0</td>\n",
              "      <td>144425</td>\n",
              "      <td>покупка жилья для семьи</td>\n",
              "      <td>1</td>\n",
              "      <td>36-45 лет</td>\n",
              "      <td>трудовой стаж до 10 лет</td>\n",
              "      <td>нет детей</td>\n",
              "      <td>высокий доход</td>\n",
              "      <td>not_expired</td>\n",
              "    </tr>\n",
              "  </tbody>\n",
              "</table>\n",
              "</div>"
            ],
            "text/plain": [
              "   children  years_employed  dob_years education  education_id  \\\n",
              "0         1              23         42    высшее             0   \n",
              "1         1              11         36   среднее             1   \n",
              "2         0              15         33   среднее             1   \n",
              "3         3              11         32   среднее             1   \n",
              "4         0             932         53   среднее             1   \n",
              "5         0               2         27    высшее             0   \n",
              "6         0               7         43    высшее             0   \n",
              "7         0               0         50   среднее             1   \n",
              "8         2              18         35    высшее             0   \n",
              "9         0               5         41   среднее             1   \n",
              "\n",
              "      family_status  family_status_id gender income_type  debt  total_income  \\\n",
              "0   женат / замужем                 0      F   сотрудник     0        253875   \n",
              "1   женат / замужем                 0      F   сотрудник     0        112080   \n",
              "2   женат / замужем                 0      M   сотрудник     0        145885   \n",
              "3   женат / замужем                 0      M   сотрудник     0        267628   \n",
              "4  гражданский брак                 1      F   пенсионер     0        158616   \n",
              "5  гражданский брак                 1      M   компаньон     0        255763   \n",
              "6   женат / замужем                 0      F   компаньон     0        240525   \n",
              "7   женат / замужем                 0      M   сотрудник     0        135823   \n",
              "8  гражданский брак                 1      F   сотрудник     0         95856   \n",
              "9   женат / замужем                 0      M   сотрудник     0        144425   \n",
              "\n",
              "                      purpose  purpose_category dob_years_cat  \\\n",
              "0               покупка жилья                 1     36-45 лет   \n",
              "1     приобретение автомобиля                 2     36-45 лет   \n",
              "2               покупка жилья                 1     до 35 лет   \n",
              "3  дополнительное образование                 3     до 35 лет   \n",
              "4             сыграть свадьбу                 5     46-65 лет   \n",
              "5               покупка жилья                 1     до 35 лет   \n",
              "6           операции с жильем                 1     36-45 лет   \n",
              "7                 образование                 3     46-65 лет   \n",
              "8       на проведение свадьбы                 5     до 35 лет   \n",
              "9     покупка жилья для семьи                 1     36-45 лет   \n",
              "\n",
              "           years_employed_cat children_cat total_income_cat debt_in_words  \n",
              "0     трудовой стаж 10-30 лет  1-2 ребенка    высокий доход   not_expired  \n",
              "1     трудовой стаж 10-30 лет  1-2 ребенка    высокий доход   not_expired  \n",
              "2     трудовой стаж 10-30 лет    нет детей    высокий доход   not_expired  \n",
              "3     трудовой стаж 10-30 лет  многодетные    высокий доход   not_expired  \n",
              "4  трудовой стаж более 30 лет    нет детей    высокий доход   not_expired  \n",
              "5     трудовой стаж до 10 лет    нет детей    высокий доход   not_expired  \n",
              "6     трудовой стаж до 10 лет    нет детей    высокий доход   not_expired  \n",
              "7     трудовой стаж до 10 лет    нет детей    высокий доход   not_expired  \n",
              "8     трудовой стаж 10-30 лет  1-2 ребенка    средний доход   not_expired  \n",
              "9     трудовой стаж до 10 лет    нет детей    высокий доход   not_expired  "
            ]
          },
          "metadata": {
            "tags": []
          },
          "execution_count": 31
        }
      ]
    },
    {
      "cell_type": "markdown",
      "metadata": {
        "id": "zY89R5EYgnEw"
      },
      "source": [
        "#### **Вывод**"
      ]
    },
    {
      "cell_type": "markdown",
      "metadata": {
        "id": "keoGAjyBgnEw"
      },
      "source": [
        "Получили дата сет со следующими категориями новыми категориями:\n",
        "\n",
        "- **purpose_category** - цель кредитования\n",
        "- **years_employed_cat** - трудовой стаж в годах\n",
        "- **children_cat** - количество детей\n",
        "- **total_income_cat** - категория дохода\n",
        "- **dob_years_cat**\t- возрастная категория\n",
        "\n",
        "\n",
        "Можем переходить к анализу и ответу на вопросы\n"
      ]
    },
    {
      "cell_type": "markdown",
      "metadata": {
        "id": "Z-XctcoWgnEw"
      },
      "source": [
        "## Ответы на поставленные вопросы"
      ]
    },
    {
      "cell_type": "markdown",
      "metadata": {
        "id": "aKBfBFlWgnEw"
      },
      "source": [
        "### Есть ли зависимость между наличием детей и возвратом кредита в срок?\n",
        "\n",
        "Для выявления взаимосвязи наличия детей и возарата кредитных средств получим сводную таблицу и проверим гипотезу этой взаимосвязи:"
      ]
    },
    {
      "cell_type": "code",
      "metadata": {
        "id": "Kw6nwWOIgnEx",
        "outputId": "facdd82e-84c5-4260-e712-078655921762"
      },
      "source": [
        "# получим сводную таблицу по столбцу - категории людей с детьми и невыполнению кредитных обязательств \n",
        "\n",
        "\n",
        "borr_pivot_child = borrowers.pivot_table(index=['children_cat'], columns=['debt_in_words'], values='debt', aggfunc='sum')\n",
        "\n",
        "# назначим переменную для суммы всех просроченных кредитов\n",
        "\n",
        "debt_expired = borrowers['debt'].sum()\n",
        "\n",
        "# рассчитаем рейтинг невозврата в разрезе всех просроченных кредитов\n",
        "borr_pivot_child ['ratio'] = borr_pivot_child ['expired']/debt_expired\n",
        "\n",
        "# удалим вспомогательный столбец not_expired\n",
        "\n",
        "borr_pivot_child = borr_pivot_child.drop('not_expired', axis=1)\n",
        "borr_pivot_child.sort_values(by='expired')\n"
      ],
      "execution_count": null,
      "outputs": [
        {
          "output_type": "execute_result",
          "data": {
            "text/html": [
              "<div>\n",
              "<style scoped>\n",
              "    .dataframe tbody tr th:only-of-type {\n",
              "        vertical-align: middle;\n",
              "    }\n",
              "\n",
              "    .dataframe tbody tr th {\n",
              "        vertical-align: top;\n",
              "    }\n",
              "\n",
              "    .dataframe thead th {\n",
              "        text-align: right;\n",
              "    }\n",
              "</style>\n",
              "<table border=\"1\" class=\"dataframe\">\n",
              "  <thead>\n",
              "    <tr style=\"text-align: right;\">\n",
              "      <th>debt_in_words</th>\n",
              "      <th>expired</th>\n",
              "      <th>ratio</th>\n",
              "    </tr>\n",
              "    <tr>\n",
              "      <th>children_cat</th>\n",
              "      <th></th>\n",
              "      <th></th>\n",
              "    </tr>\n",
              "  </thead>\n",
              "  <tbody>\n",
              "    <tr>\n",
              "      <th>многодетные</th>\n",
              "      <td>39</td>\n",
              "      <td>0.022401</td>\n",
              "    </tr>\n",
              "    <tr>\n",
              "      <th>1-2 ребенка</th>\n",
              "      <td>638</td>\n",
              "      <td>0.366456</td>\n",
              "    </tr>\n",
              "    <tr>\n",
              "      <th>нет детей</th>\n",
              "      <td>1064</td>\n",
              "      <td>0.611143</td>\n",
              "    </tr>\n",
              "  </tbody>\n",
              "</table>\n",
              "</div>"
            ],
            "text/plain": [
              "debt_in_words  expired     ratio\n",
              "children_cat                    \n",
              "многодетные         39  0.022401\n",
              "1-2 ребенка        638  0.366456\n",
              "нет детей         1064  0.611143"
            ]
          },
          "metadata": {
            "tags": []
          },
          "execution_count": 24
        }
      ]
    },
    {
      "cell_type": "markdown",
      "metadata": {
        "id": "cE1v26YmgnEx"
      },
      "source": [
        "#### **Вывод**"
      ]
    },
    {
      "cell_type": "markdown",
      "metadata": {
        "id": "KYQiutMNgnEx"
      },
      "source": [
        "Можно сказать, что заёмщики с детьми дисциплинированы и чаще возвращают кредиты в срок. Таким образом, можно считать - что наличие детей - это преимущество и увеличивает вероятность у банка получать свои средства обратно в срок, что позволит потенциальным заемщикам увеличить свой бал. \n",
        "\n",
        "\n",
        "**Идеальный заемщик** с 1-2 детьми"
      ]
    },
    {
      "cell_type": "markdown",
      "metadata": {
        "id": "11dTFG9KgnEy"
      },
      "source": [
        "### Есть ли зависимость между семейным положением и возвратом кредита в срок?"
      ]
    },
    {
      "cell_type": "code",
      "metadata": {
        "id": "DTZHHvmygnEy",
        "outputId": "ba2f1c77-d24a-4cbb-d87f-abf3e8b96a79"
      },
      "source": [
        "# Получим сводную таблицу по столбцу family_status\n",
        "\n",
        "\n",
        "borr_pivot_fs = borrowers.pivot_table(index=['family_status'], columns=['debt_in_words'], values='debt', aggfunc='sum')\n",
        "\n",
        "# рассчитаем рейтинг невозврата в разрезе всех просроченных кредитов\n",
        "\n",
        "borr_pivot_fs ['ratio'] = borr_pivot_fs ['expired']/debt_expired\n",
        "\n",
        "# удалим вспомогательный столбец not_expired\n",
        "\n",
        "\n",
        "borr_pivot_fs = borr_pivot_fs.drop('not_expired', axis=1)\n",
        "borr_pivot_fs.sort_values(by='expired', ascending=False)\n",
        "\n"
      ],
      "execution_count": null,
      "outputs": [
        {
          "output_type": "execute_result",
          "data": {
            "text/html": [
              "<div>\n",
              "<style scoped>\n",
              "    .dataframe tbody tr th:only-of-type {\n",
              "        vertical-align: middle;\n",
              "    }\n",
              "\n",
              "    .dataframe tbody tr th {\n",
              "        vertical-align: top;\n",
              "    }\n",
              "\n",
              "    .dataframe thead th {\n",
              "        text-align: right;\n",
              "    }\n",
              "</style>\n",
              "<table border=\"1\" class=\"dataframe\">\n",
              "  <thead>\n",
              "    <tr style=\"text-align: right;\">\n",
              "      <th>debt_in_words</th>\n",
              "      <th>expired</th>\n",
              "      <th>ratio</th>\n",
              "    </tr>\n",
              "    <tr>\n",
              "      <th>family_status</th>\n",
              "      <th></th>\n",
              "      <th></th>\n",
              "    </tr>\n",
              "  </thead>\n",
              "  <tbody>\n",
              "    <tr>\n",
              "      <th>женат / замужем</th>\n",
              "      <td>931</td>\n",
              "      <td>0.534750</td>\n",
              "    </tr>\n",
              "    <tr>\n",
              "      <th>гражданский брак</th>\n",
              "      <td>388</td>\n",
              "      <td>0.222860</td>\n",
              "    </tr>\n",
              "    <tr>\n",
              "      <th>не женат / не замужем</th>\n",
              "      <td>274</td>\n",
              "      <td>0.157381</td>\n",
              "    </tr>\n",
              "    <tr>\n",
              "      <th>в разводе</th>\n",
              "      <td>85</td>\n",
              "      <td>0.048823</td>\n",
              "    </tr>\n",
              "    <tr>\n",
              "      <th>вдовец / вдова</th>\n",
              "      <td>63</td>\n",
              "      <td>0.036186</td>\n",
              "    </tr>\n",
              "  </tbody>\n",
              "</table>\n",
              "</div>"
            ],
            "text/plain": [
              "debt_in_words          expired     ratio\n",
              "family_status                           \n",
              "женат / замужем            931  0.534750\n",
              "гражданский брак           388  0.222860\n",
              "не женат / не замужем      274  0.157381\n",
              "в разводе                   85  0.048823\n",
              "вдовец / вдова              63  0.036186"
            ]
          },
          "metadata": {
            "tags": []
          },
          "execution_count": 25
        }
      ]
    },
    {
      "cell_type": "markdown",
      "metadata": {
        "id": "DRpvVOYygnEy"
      },
      "source": [
        "#### **Вывод**"
      ]
    },
    {
      "cell_type": "markdown",
      "metadata": {
        "id": "rbe39_FDgnEz"
      },
      "source": [
        "Можно сказать, что женатые/замужние чаще допускают просрочку, чем не женатые/не замужние, но категории можно приравнять, так как в случае с женатыми/замужними людьми - супруги выступают созаемщиками. На основании этого факта:\n",
        "\n",
        "**Идеальный заемщик** состоит в браке"
      ]
    },
    {
      "cell_type": "markdown",
      "metadata": {
        "id": "5HqghHi1gnE0"
      },
      "source": [
        "### Есть ли зависимость между уровнем дохода и возвратом кредита в срок?"
      ]
    },
    {
      "cell_type": "code",
      "metadata": {
        "id": "cWBDdohNgnE0",
        "outputId": "f7bf51c0-4fa7-48b8-92a6-74b6b7db3873"
      },
      "source": [
        "# Получим сводную таблицу по столбцу total_income_cat\n",
        "\n",
        "borr_pivot_tot_income = borrowers.pivot_table(index=['total_income_cat'], columns=['debt_in_words'], values='debt', aggfunc='sum')\n",
        "\n",
        "# рассчитаем рейтинг невозврата в разрезе всех просроченных кредитов\n",
        "\n",
        "borr_pivot_tot_income ['ratio'] = borr_pivot_tot_income ['expired']/debt_expired\n",
        "\n",
        "# удалим вспомогательный столбец not_expired\n",
        "\n",
        "borr_pivot_tot_income = borr_pivot_tot_income.drop('not_expired', axis=1)\n",
        "borr_pivot_tot_income.sort_values(by='expired', ascending=False)\n",
        "\n",
        "\n",
        "\n"
      ],
      "execution_count": null,
      "outputs": [
        {
          "output_type": "execute_result",
          "data": {
            "text/html": [
              "<div>\n",
              "<style scoped>\n",
              "    .dataframe tbody tr th:only-of-type {\n",
              "        vertical-align: middle;\n",
              "    }\n",
              "\n",
              "    .dataframe tbody tr th {\n",
              "        vertical-align: top;\n",
              "    }\n",
              "\n",
              "    .dataframe thead th {\n",
              "        text-align: right;\n",
              "    }\n",
              "</style>\n",
              "<table border=\"1\" class=\"dataframe\">\n",
              "  <thead>\n",
              "    <tr style=\"text-align: right;\">\n",
              "      <th>debt_in_words</th>\n",
              "      <th>expired</th>\n",
              "      <th>ratio</th>\n",
              "    </tr>\n",
              "    <tr>\n",
              "      <th>total_income_cat</th>\n",
              "      <th></th>\n",
              "      <th></th>\n",
              "    </tr>\n",
              "  </thead>\n",
              "  <tbody>\n",
              "    <tr>\n",
              "      <th>высокий доход</th>\n",
              "      <td>1387</td>\n",
              "      <td>0.796669</td>\n",
              "    </tr>\n",
              "    <tr>\n",
              "      <th>средний доход</th>\n",
              "      <td>331</td>\n",
              "      <td>0.190121</td>\n",
              "    </tr>\n",
              "    <tr>\n",
              "      <th>низкий доход</th>\n",
              "      <td>23</td>\n",
              "      <td>0.013211</td>\n",
              "    </tr>\n",
              "  </tbody>\n",
              "</table>\n",
              "</div>"
            ],
            "text/plain": [
              "debt_in_words     expired     ratio\n",
              "total_income_cat                   \n",
              "высокий доход        1387  0.796669\n",
              "средний доход         331  0.190121\n",
              "низкий доход           23  0.013211"
            ]
          },
          "metadata": {
            "tags": []
          },
          "execution_count": 26
        }
      ]
    },
    {
      "cell_type": "markdown",
      "metadata": {
        "id": "vb7ZLYv_gnE1"
      },
      "source": [
        "#### **Вывод**"
      ]
    },
    {
      "cell_type": "markdown",
      "metadata": {
        "id": "Z0fO5LWXgnE1"
      },
      "source": [
        "Получаем, что люди с высоким доходом чаще допускают просрочку кредита, нежеле люди со средним доходом. Люди с доходом как средний - более надежные заемщики.\n",
        "\n",
        "**Идеальный заемщик** с доходом от 50 000,00 рублей до 100 000 рублей"
      ]
    },
    {
      "cell_type": "markdown",
      "metadata": {
        "id": "EBdewFPJgnE1"
      },
      "source": [
        "###  Как разные цели кредита влияют на его возврат в срок?"
      ]
    },
    {
      "cell_type": "code",
      "metadata": {
        "id": "aRSVubsmgnE2",
        "outputId": "5c71b70c-dbde-48a0-828d-f93bd05a0cee"
      },
      "source": [
        "# Вызовем словарь\n",
        "print(list_of_purpose)"
      ],
      "execution_count": null,
      "outputs": [
        {
          "output_type": "stream",
          "text": [
            "{'недвиж': 1, 'авто': 2, 'образ': 3, 'опер': 4, 'свад': 5, 'строит': 6, 'ремо': 7, 'жил': 1}\n"
          ],
          "name": "stdout"
        }
      ]
    },
    {
      "cell_type": "code",
      "metadata": {
        "id": "syRZPUaHgnE2",
        "outputId": "d0561ccb-6c63-4398-8f82-50e08e3f7331"
      },
      "source": [
        "# Получим сводную таблицу по столбцу purpose_category\n",
        "\n",
        "borr_pivot_purpose = borrowers.pivot_table(index=['purpose_category'], columns=['debt_in_words'], values='debt', aggfunc='sum')\n",
        "\n",
        "# рассчитаем рейтинг невозврата в разрезе всех просроченных кредитов\n",
        "\n",
        "borr_pivot_purpose ['ratio'] = borr_pivot_purpose ['expired']/debt_expired\n",
        "\n",
        "#рассчитаем рейтинг для определения доли кредитов среди выданных\n",
        "borr_pivot_purpose ['ratio_inside'] = (borr_pivot_purpose ['expired']/len(borrowers))*100\n",
        "\n",
        "# удалим вспомогательный столбец not_expired\n",
        "\n",
        "borr_pivot_purpose = borr_pivot_purpose.drop('not_expired', axis=1)\n",
        "borr_pivot_purpose.sort_values(by='expired', ascending=False)\n",
        "\n",
        "\n"
      ],
      "execution_count": null,
      "outputs": [
        {
          "output_type": "execute_result",
          "data": {
            "text/html": [
              "<div>\n",
              "<style scoped>\n",
              "    .dataframe tbody tr th:only-of-type {\n",
              "        vertical-align: middle;\n",
              "    }\n",
              "\n",
              "    .dataframe tbody tr th {\n",
              "        vertical-align: top;\n",
              "    }\n",
              "\n",
              "    .dataframe thead th {\n",
              "        text-align: right;\n",
              "    }\n",
              "</style>\n",
              "<table border=\"1\" class=\"dataframe\">\n",
              "  <thead>\n",
              "    <tr style=\"text-align: right;\">\n",
              "      <th>debt_in_words</th>\n",
              "      <th>expired</th>\n",
              "      <th>ratio</th>\n",
              "      <th>ratio_inside</th>\n",
              "    </tr>\n",
              "    <tr>\n",
              "      <th>purpose_category</th>\n",
              "      <th></th>\n",
              "      <th></th>\n",
              "      <th></th>\n",
              "    </tr>\n",
              "  </thead>\n",
              "  <tbody>\n",
              "    <tr>\n",
              "      <th>1</th>\n",
              "      <td>529</td>\n",
              "      <td>0.303848</td>\n",
              "      <td>2.465741</td>\n",
              "    </tr>\n",
              "    <tr>\n",
              "      <th>2</th>\n",
              "      <td>403</td>\n",
              "      <td>0.231476</td>\n",
              "      <td>1.878438</td>\n",
              "    </tr>\n",
              "    <tr>\n",
              "      <th>3</th>\n",
              "      <td>370</td>\n",
              "      <td>0.212522</td>\n",
              "      <td>1.724620</td>\n",
              "    </tr>\n",
              "    <tr>\n",
              "      <th>5</th>\n",
              "      <td>186</td>\n",
              "      <td>0.106835</td>\n",
              "      <td>0.866971</td>\n",
              "    </tr>\n",
              "    <tr>\n",
              "      <th>4</th>\n",
              "      <td>157</td>\n",
              "      <td>0.090178</td>\n",
              "      <td>0.731798</td>\n",
              "    </tr>\n",
              "    <tr>\n",
              "      <th>6</th>\n",
              "      <td>96</td>\n",
              "      <td>0.055141</td>\n",
              "      <td>0.447469</td>\n",
              "    </tr>\n",
              "  </tbody>\n",
              "</table>\n",
              "</div>"
            ],
            "text/plain": [
              "debt_in_words     expired     ratio  ratio_inside\n",
              "purpose_category                                 \n",
              "1                     529  0.303848      2.465741\n",
              "2                     403  0.231476      1.878438\n",
              "3                     370  0.212522      1.724620\n",
              "5                     186  0.106835      0.866971\n",
              "4                     157  0.090178      0.731798\n",
              "6                      96  0.055141      0.447469"
            ]
          },
          "metadata": {
            "tags": []
          },
          "execution_count": 28
        }
      ]
    },
    {
      "cell_type": "markdown",
      "metadata": {
        "id": "hDKtwZ7fgnE2"
      },
      "source": [
        "#### **Вывод**"
      ]
    },
    {
      "cell_type": "markdown",
      "metadata": {
        "id": "PK_zeodLgnE3"
      },
      "source": [
        "Получаем, что чаще всего заемщики допускают просрочку кредитов, взятых с целью приобретения недвижимости, автомобиля и образование. Недвижимость и автомобиль, зачастую, берутся под залог - соответственно банк защищен в данных сделках, образование является более рисковым предметом кредитования.\n",
        "\n",
        "**Идеальный заёмщик** берет в кредит недвижимость"
      ]
    },
    {
      "cell_type": "markdown",
      "metadata": {
        "id": "qYRu-qHCgnE3"
      },
      "source": [
        "###  Как возрастная категория влияют на возврат кредита в срок?"
      ]
    },
    {
      "cell_type": "code",
      "metadata": {
        "id": "SEBeiwL7gnE3",
        "outputId": "cc0b8124-14c0-4204-8784-e3f323d8c2b9"
      },
      "source": [
        "# Получим сводную таблицу по столбцу dob_years_cat\n",
        "\n",
        "borr_pivot_years_old = borrowers.pivot_table(index=['dob_years_cat'], columns=['debt_in_words'], values='debt', aggfunc='sum')\n",
        "\n",
        "# рассчитаем рейтинг невозврата в разрезе всех просроченных кредитов\n",
        "\n",
        "borr_pivot_years_old ['ratio'] = borr_pivot_years_old ['expired']/debt_expired\n",
        "\n",
        "# удалим вспомогательный столбец not_expired\n",
        "\n",
        "\n",
        "borr_pivot_years_old = borr_pivot_years_old.drop('not_expired', axis=1)\n",
        "borr_pivot_years_old.sort_values(by='expired', ascending=False)\n",
        "\n",
        "\n"
      ],
      "execution_count": null,
      "outputs": [
        {
          "output_type": "execute_result",
          "data": {
            "text/html": [
              "<div>\n",
              "<style scoped>\n",
              "    .dataframe tbody tr th:only-of-type {\n",
              "        vertical-align: middle;\n",
              "    }\n",
              "\n",
              "    .dataframe tbody tr th {\n",
              "        vertical-align: top;\n",
              "    }\n",
              "\n",
              "    .dataframe thead th {\n",
              "        text-align: right;\n",
              "    }\n",
              "</style>\n",
              "<table border=\"1\" class=\"dataframe\">\n",
              "  <thead>\n",
              "    <tr style=\"text-align: right;\">\n",
              "      <th>debt_in_words</th>\n",
              "      <th>expired</th>\n",
              "      <th>ratio</th>\n",
              "    </tr>\n",
              "    <tr>\n",
              "      <th>dob_years_cat</th>\n",
              "      <th></th>\n",
              "      <th></th>\n",
              "    </tr>\n",
              "  </thead>\n",
              "  <tbody>\n",
              "    <tr>\n",
              "      <th>до 35 лет</th>\n",
              "      <td>706</td>\n",
              "      <td>0.405514</td>\n",
              "    </tr>\n",
              "    <tr>\n",
              "      <th>46-65 лет</th>\n",
              "      <td>533</td>\n",
              "      <td>0.306146</td>\n",
              "    </tr>\n",
              "    <tr>\n",
              "      <th>36-45 лет</th>\n",
              "      <td>427</td>\n",
              "      <td>0.245261</td>\n",
              "    </tr>\n",
              "    <tr>\n",
              "      <th>более 65 лет</th>\n",
              "      <td>75</td>\n",
              "      <td>0.043079</td>\n",
              "    </tr>\n",
              "  </tbody>\n",
              "</table>\n",
              "</div>"
            ],
            "text/plain": [
              "debt_in_words  expired     ratio\n",
              "dob_years_cat                   \n",
              "до 35 лет          706  0.405514\n",
              "46-65 лет          533  0.306146\n",
              "36-45 лет          427  0.245261\n",
              "более 65 лет        75  0.043079"
            ]
          },
          "metadata": {
            "tags": []
          },
          "execution_count": 29
        }
      ]
    },
    {
      "cell_type": "markdown",
      "metadata": {
        "id": "F-g3m5hVgnE3"
      },
      "source": [
        "#### **Вывод**"
      ]
    },
    {
      "cell_type": "markdown",
      "metadata": {
        "id": "15A73vYignE4"
      },
      "source": [
        "Приходим к выводу, что чаще всего нарушают сроки выплат - молодые люди до 35 лет. Таким образом получаем:\n",
        "\n",
        "**Идеальный заёмщик** в возрасте 36-45 лет"
      ]
    },
    {
      "cell_type": "markdown",
      "metadata": {
        "id": "i__3KVPrgnE4"
      },
      "source": [
        "###  Как пол и семеное положение влияет на возврат кредита в срок?"
      ]
    },
    {
      "cell_type": "code",
      "metadata": {
        "id": "nnXcHTyggnE4",
        "outputId": "b54e2555-08cc-4fb6-f008-8af61a5fa85b"
      },
      "source": [
        "# Получим сводную таблицу по столбцу borr_pivot_gender\n",
        "\n",
        "borr_pivot_gender = borrowers.pivot_table(index=['gender','family_status'], columns=['debt_in_words'], values='debt', aggfunc='sum')\n",
        "\n",
        "# рассчитаем рейтинг невозврата в разрезе всех просроченных кредитов\n",
        "\n",
        "borr_pivot_gender ['ratio'] = borr_pivot_gender ['expired']/debt_expired\n",
        "\n",
        "# удалим вспомогательный столбец not_expired\n",
        "\n",
        "\n",
        "borr_pivot_gender = borr_pivot_gender.drop('not_expired', axis=1)\n",
        "borr_pivot_gender.dropna().sort_values(by='expired', ascending=False)\n",
        "\n"
      ],
      "execution_count": null,
      "outputs": [
        {
          "output_type": "execute_result",
          "data": {
            "text/html": [
              "<div>\n",
              "<style scoped>\n",
              "    .dataframe tbody tr th:only-of-type {\n",
              "        vertical-align: middle;\n",
              "    }\n",
              "\n",
              "    .dataframe tbody tr th {\n",
              "        vertical-align: top;\n",
              "    }\n",
              "\n",
              "    .dataframe thead th {\n",
              "        text-align: right;\n",
              "    }\n",
              "</style>\n",
              "<table border=\"1\" class=\"dataframe\">\n",
              "  <thead>\n",
              "    <tr style=\"text-align: right;\">\n",
              "      <th></th>\n",
              "      <th>debt_in_words</th>\n",
              "      <th>expired</th>\n",
              "      <th>ratio</th>\n",
              "    </tr>\n",
              "    <tr>\n",
              "      <th>gender</th>\n",
              "      <th>family_status</th>\n",
              "      <th></th>\n",
              "      <th></th>\n",
              "    </tr>\n",
              "  </thead>\n",
              "  <tbody>\n",
              "    <tr>\n",
              "      <th>F</th>\n",
              "      <th>женат / замужем</th>\n",
              "      <td>530.0</td>\n",
              "      <td>0.304423</td>\n",
              "    </tr>\n",
              "    <tr>\n",
              "      <th>M</th>\n",
              "      <th>женат / замужем</th>\n",
              "      <td>401.0</td>\n",
              "      <td>0.230327</td>\n",
              "    </tr>\n",
              "    <tr>\n",
              "      <th>F</th>\n",
              "      <th>гражданский брак</th>\n",
              "      <td>233.0</td>\n",
              "      <td>0.133831</td>\n",
              "    </tr>\n",
              "    <tr>\n",
              "      <th rowspan=\"2\" valign=\"top\">M</th>\n",
              "      <th>не женат / не замужем</th>\n",
              "      <td>156.0</td>\n",
              "      <td>0.089604</td>\n",
              "    </tr>\n",
              "    <tr>\n",
              "      <th>гражданский брак</th>\n",
              "      <td>155.0</td>\n",
              "      <td>0.089029</td>\n",
              "    </tr>\n",
              "    <tr>\n",
              "      <th rowspan=\"3\" valign=\"top\">F</th>\n",
              "      <th>не женат / не замужем</th>\n",
              "      <td>118.0</td>\n",
              "      <td>0.067777</td>\n",
              "    </tr>\n",
              "    <tr>\n",
              "      <th>в разводе</th>\n",
              "      <td>61.0</td>\n",
              "      <td>0.035037</td>\n",
              "    </tr>\n",
              "    <tr>\n",
              "      <th>вдовец / вдова</th>\n",
              "      <td>52.0</td>\n",
              "      <td>0.029868</td>\n",
              "    </tr>\n",
              "    <tr>\n",
              "      <th rowspan=\"2\" valign=\"top\">M</th>\n",
              "      <th>в разводе</th>\n",
              "      <td>24.0</td>\n",
              "      <td>0.013785</td>\n",
              "    </tr>\n",
              "    <tr>\n",
              "      <th>вдовец / вдова</th>\n",
              "      <td>11.0</td>\n",
              "      <td>0.006318</td>\n",
              "    </tr>\n",
              "  </tbody>\n",
              "</table>\n",
              "</div>"
            ],
            "text/plain": [
              "debt_in_words                 expired     ratio\n",
              "gender family_status                           \n",
              "F      женат / замужем          530.0  0.304423\n",
              "M      женат / замужем          401.0  0.230327\n",
              "F      гражданский брак         233.0  0.133831\n",
              "M      не женат / не замужем    156.0  0.089604\n",
              "       гражданский брак         155.0  0.089029\n",
              "F      не женат / не замужем    118.0  0.067777\n",
              "       в разводе                 61.0  0.035037\n",
              "       вдовец / вдова            52.0  0.029868\n",
              "M      в разводе                 24.0  0.013785\n",
              "       вдовец / вдова            11.0  0.006318"
            ]
          },
          "metadata": {
            "tags": []
          },
          "execution_count": 30
        }
      ]
    },
    {
      "cell_type": "markdown",
      "metadata": {
        "id": "ZvufcJRHgnE7"
      },
      "source": [
        "#### Вывод"
      ]
    },
    {
      "cell_type": "markdown",
      "metadata": {
        "id": "vaCuncT5gnE7"
      },
      "source": [
        "Чаще всего женщины допускают просрочку выплаты кредитных средств, что может быть связано с отпуском по беременности и родам. Сильного влияния пол не оказывает, но для банка гендер может стать важным при выдаче краткосрочных кредитов без залога имущества."
      ]
    },
    {
      "cell_type": "markdown",
      "metadata": {
        "id": "THyOJ7JvgnE7"
      },
      "source": [
        "## Общий вывод"
      ]
    },
    {
      "cell_type": "markdown",
      "metadata": {
        "id": "3HIhsDzFgnE8"
      },
      "source": [
        "Провели исследование статистики о платёжеспособности клиентов. Пришли к следующим выводам:\n",
        "\n",
        "1. Рисковые цели выдачей кредитных средств - покупка недвижимости и автомобиля. Однако, данные цели подкреплены залогом, стоимость высока, соответственно и выгода банка выше.\n",
        "2. Люди, находящиеся в гражданском браке более ответственные, чем находящиеся в официальных отношениях, однако супруги, оформившие официальные отношения - выступают автоматически в качестве созаемщика, что защищает банк\n",
        "3. Люди с высоким доходом являются менее дисциплинированными, чем заёмщики со средним доходом.\n",
        "4. Заёмщики без детей - чаще допускают просрочку, нежеле люди с 1-2 ребенком в семье\n",
        "\n",
        "\n",
        "**Попробуем нарисовать портет идеального заёмщика**:\n",
        "\n",
        "Идеальный заёмщик в возрасте 36-45 лет, состоящий в официальном браке с 1-2 ребенком, доход средний 50 000 рублей - 100 000 рублей\n",
        "\n",
        "\n",
        "Таким образом, семейное положение и количество детей **влияет** на факт погашения кредита\n",
        "\n"
      ]
    }
  ]
}