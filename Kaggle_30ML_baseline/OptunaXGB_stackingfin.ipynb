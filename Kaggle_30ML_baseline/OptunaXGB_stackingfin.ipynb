{
  "nbformat": 4,
  "nbformat_minor": 0,
  "metadata": {
    "colab": {
      "name": "OptunaXGB",
      "provenance": [],
      "collapsed_sections": [],
      "toc_visible": true
    },
    "kernelspec": {
      "name": "python3",
      "display_name": "Python 3"
    },
    "language_info": {
      "name": "python"
    }
  },
  "cells": [
    {
      "cell_type": "markdown",
      "metadata": {
        "id": "tnE8BR8xS2Bg"
      },
      "source": [
        "![](https://i.ibb.co/G0sLBVs/30-Days-ML-Hero.png). \n",
        "\n",
        "\n",
        "Machine learning beginner → Kaggle competitor in 30 days. Non-coders welcome.\n",
        "\n",
        "\n",
        "\n",
        "The dataset is used for this competition is synthetic, but based on a real dataset. The original dataset deals with predicting the amount of an insurance claim. Although the features are anonymized, they have properties relating to real-world features."
      ]
    },
    {
      "cell_type": "markdown",
      "metadata": {
        "id": "ZDF_mHu0uZTW"
      },
      "source": [
        "# Loading data"
      ]
    },
    {
      "cell_type": "code",
      "metadata": {
        "id": "4d2K-X8S-jm_",
        "colab": {
          "resources": {
            "http://localhost:8080/nbextensions/google.colab/files.js": {
              "data": "Ly8gQ29weXJpZ2h0IDIwMTcgR29vZ2xlIExMQwovLwovLyBMaWNlbnNlZCB1bmRlciB0aGUgQXBhY2hlIExpY2Vuc2UsIFZlcnNpb24gMi4wICh0aGUgIkxpY2Vuc2UiKTsKLy8geW91IG1heSBub3QgdXNlIHRoaXMgZmlsZSBleGNlcHQgaW4gY29tcGxpYW5jZSB3aXRoIHRoZSBMaWNlbnNlLgovLyBZb3UgbWF5IG9idGFpbiBhIGNvcHkgb2YgdGhlIExpY2Vuc2UgYXQKLy8KLy8gICAgICBodHRwOi8vd3d3LmFwYWNoZS5vcmcvbGljZW5zZXMvTElDRU5TRS0yLjAKLy8KLy8gVW5sZXNzIHJlcXVpcmVkIGJ5IGFwcGxpY2FibGUgbGF3IG9yIGFncmVlZCB0byBpbiB3cml0aW5nLCBzb2Z0d2FyZQovLyBkaXN0cmlidXRlZCB1bmRlciB0aGUgTGljZW5zZSBpcyBkaXN0cmlidXRlZCBvbiBhbiAiQVMgSVMiIEJBU0lTLAovLyBXSVRIT1VUIFdBUlJBTlRJRVMgT1IgQ09ORElUSU9OUyBPRiBBTlkgS0lORCwgZWl0aGVyIGV4cHJlc3Mgb3IgaW1wbGllZC4KLy8gU2VlIHRoZSBMaWNlbnNlIGZvciB0aGUgc3BlY2lmaWMgbGFuZ3VhZ2UgZ292ZXJuaW5nIHBlcm1pc3Npb25zIGFuZAovLyBsaW1pdGF0aW9ucyB1bmRlciB0aGUgTGljZW5zZS4KCi8qKgogKiBAZmlsZW92ZXJ2aWV3IEhlbHBlcnMgZm9yIGdvb2dsZS5jb2xhYiBQeXRob24gbW9kdWxlLgogKi8KKGZ1bmN0aW9uKHNjb3BlKSB7CmZ1bmN0aW9uIHNwYW4odGV4dCwgc3R5bGVBdHRyaWJ1dGVzID0ge30pIHsKICBjb25zdCBlbGVtZW50ID0gZG9jdW1lbnQuY3JlYXRlRWxlbWVudCgnc3BhbicpOwogIGVsZW1lbnQudGV4dENvbnRlbnQgPSB0ZXh0OwogIGZvciAoY29uc3Qga2V5IG9mIE9iamVjdC5rZXlzKHN0eWxlQXR0cmlidXRlcykpIHsKICAgIGVsZW1lbnQuc3R5bGVba2V5XSA9IHN0eWxlQXR0cmlidXRlc1trZXldOwogIH0KICByZXR1cm4gZWxlbWVudDsKfQoKLy8gTWF4IG51bWJlciBvZiBieXRlcyB3aGljaCB3aWxsIGJlIHVwbG9hZGVkIGF0IGEgdGltZS4KY29uc3QgTUFYX1BBWUxPQURfU0laRSA9IDEwMCAqIDEwMjQ7CgpmdW5jdGlvbiBfdXBsb2FkRmlsZXMoaW5wdXRJZCwgb3V0cHV0SWQpIHsKICBjb25zdCBzdGVwcyA9IHVwbG9hZEZpbGVzU3RlcChpbnB1dElkLCBvdXRwdXRJZCk7CiAgY29uc3Qgb3V0cHV0RWxlbWVudCA9IGRvY3VtZW50LmdldEVsZW1lbnRCeUlkKG91dHB1dElkKTsKICAvLyBDYWNoZSBzdGVwcyBvbiB0aGUgb3V0cHV0RWxlbWVudCB0byBtYWtlIGl0IGF2YWlsYWJsZSBmb3IgdGhlIG5leHQgY2FsbAogIC8vIHRvIHVwbG9hZEZpbGVzQ29udGludWUgZnJvbSBQeXRob24uCiAgb3V0cHV0RWxlbWVudC5zdGVwcyA9IHN0ZXBzOwoKICByZXR1cm4gX3VwbG9hZEZpbGVzQ29udGludWUob3V0cHV0SWQpOwp9CgovLyBUaGlzIGlzIHJvdWdobHkgYW4gYXN5bmMgZ2VuZXJhdG9yIChub3Qgc3VwcG9ydGVkIGluIHRoZSBicm93c2VyIHlldCksCi8vIHdoZXJlIHRoZXJlIGFyZSBtdWx0aXBsZSBhc3luY2hyb25vdXMgc3RlcHMgYW5kIHRoZSBQeXRob24gc2lkZSBpcyBnb2luZwovLyB0byBwb2xsIGZvciBjb21wbGV0aW9uIG9mIGVhY2ggc3RlcC4KLy8gVGhpcyB1c2VzIGEgUHJvbWlzZSB0byBibG9jayB0aGUgcHl0aG9uIHNpZGUgb24gY29tcGxldGlvbiBvZiBlYWNoIHN0ZXAsCi8vIHRoZW4gcGFzc2VzIHRoZSByZXN1bHQgb2YgdGhlIHByZXZpb3VzIHN0ZXAgYXMgdGhlIGlucHV0IHRvIHRoZSBuZXh0IHN0ZXAuCmZ1bmN0aW9uIF91cGxvYWRGaWxlc0NvbnRpbnVlKG91dHB1dElkKSB7CiAgY29uc3Qgb3V0cHV0RWxlbWVudCA9IGRvY3VtZW50LmdldEVsZW1lbnRCeUlkKG91dHB1dElkKTsKICBjb25zdCBzdGVwcyA9IG91dHB1dEVsZW1lbnQuc3RlcHM7CgogIGNvbnN0IG5leHQgPSBzdGVwcy5uZXh0KG91dHB1dEVsZW1lbnQubGFzdFByb21pc2VWYWx1ZSk7CiAgcmV0dXJuIFByb21pc2UucmVzb2x2ZShuZXh0LnZhbHVlLnByb21pc2UpLnRoZW4oKHZhbHVlKSA9PiB7CiAgICAvLyBDYWNoZSB0aGUgbGFzdCBwcm9taXNlIHZhbHVlIHRvIG1ha2UgaXQgYXZhaWxhYmxlIHRvIHRoZSBuZXh0CiAgICAvLyBzdGVwIG9mIHRoZSBnZW5lcmF0b3IuCiAgICBvdXRwdXRFbGVtZW50Lmxhc3RQcm9taXNlVmFsdWUgPSB2YWx1ZTsKICAgIHJldHVybiBuZXh0LnZhbHVlLnJlc3BvbnNlOwogIH0pOwp9CgovKioKICogR2VuZXJhdG9yIGZ1bmN0aW9uIHdoaWNoIGlzIGNhbGxlZCBiZXR3ZWVuIGVhY2ggYXN5bmMgc3RlcCBvZiB0aGUgdXBsb2FkCiAqIHByb2Nlc3MuCiAqIEBwYXJhbSB7c3RyaW5nfSBpbnB1dElkIEVsZW1lbnQgSUQgb2YgdGhlIGlucHV0IGZpbGUgcGlja2VyIGVsZW1lbnQuCiAqIEBwYXJhbSB7c3RyaW5nfSBvdXRwdXRJZCBFbGVtZW50IElEIG9mIHRoZSBvdXRwdXQgZGlzcGxheS4KICogQHJldHVybiB7IUl0ZXJhYmxlPCFPYmplY3Q+fSBJdGVyYWJsZSBvZiBuZXh0IHN0ZXBzLgogKi8KZnVuY3Rpb24qIHVwbG9hZEZpbGVzU3RlcChpbnB1dElkLCBvdXRwdXRJZCkgewogIGNvbnN0IGlucHV0RWxlbWVudCA9IGRvY3VtZW50LmdldEVsZW1lbnRCeUlkKGlucHV0SWQpOwogIGlucHV0RWxlbWVudC5kaXNhYmxlZCA9IGZhbHNlOwoKICBjb25zdCBvdXRwdXRFbGVtZW50ID0gZG9jdW1lbnQuZ2V0RWxlbWVudEJ5SWQob3V0cHV0SWQpOwogIG91dHB1dEVsZW1lbnQuaW5uZXJIVE1MID0gJyc7CgogIGNvbnN0IHBpY2tlZFByb21pc2UgPSBuZXcgUHJvbWlzZSgocmVzb2x2ZSkgPT4gewogICAgaW5wdXRFbGVtZW50LmFkZEV2ZW50TGlzdGVuZXIoJ2NoYW5nZScsIChlKSA9PiB7CiAgICAgIHJlc29sdmUoZS50YXJnZXQuZmlsZXMpOwogICAgfSk7CiAgfSk7CgogIGNvbnN0IGNhbmNlbCA9IGRvY3VtZW50LmNyZWF0ZUVsZW1lbnQoJ2J1dHRvbicpOwogIGlucHV0RWxlbWVudC5wYXJlbnRFbGVtZW50LmFwcGVuZENoaWxkKGNhbmNlbCk7CiAgY2FuY2VsLnRleHRDb250ZW50ID0gJ0NhbmNlbCB1cGxvYWQnOwogIGNvbnN0IGNhbmNlbFByb21pc2UgPSBuZXcgUHJvbWlzZSgocmVzb2x2ZSkgPT4gewogICAgY2FuY2VsLm9uY2xpY2sgPSAoKSA9PiB7CiAgICAgIHJlc29sdmUobnVsbCk7CiAgICB9OwogIH0pOwoKICAvLyBXYWl0IGZvciB0aGUgdXNlciB0byBwaWNrIHRoZSBmaWxlcy4KICBjb25zdCBmaWxlcyA9IHlpZWxkIHsKICAgIHByb21pc2U6IFByb21pc2UucmFjZShbcGlja2VkUHJvbWlzZSwgY2FuY2VsUHJvbWlzZV0pLAogICAgcmVzcG9uc2U6IHsKICAgICAgYWN0aW9uOiAnc3RhcnRpbmcnLAogICAgfQogIH07CgogIGNhbmNlbC5yZW1vdmUoKTsKCiAgLy8gRGlzYWJsZSB0aGUgaW5wdXQgZWxlbWVudCBzaW5jZSBmdXJ0aGVyIHBpY2tzIGFyZSBub3QgYWxsb3dlZC4KICBpbnB1dEVsZW1lbnQuZGlzYWJsZWQgPSB0cnVlOwoKICBpZiAoIWZpbGVzKSB7CiAgICByZXR1cm4gewogICAgICByZXNwb25zZTogewogICAgICAgIGFjdGlvbjogJ2NvbXBsZXRlJywKICAgICAgfQogICAgfTsKICB9CgogIGZvciAoY29uc3QgZmlsZSBvZiBmaWxlcykgewogICAgY29uc3QgbGkgPSBkb2N1bWVudC5jcmVhdGVFbGVtZW50KCdsaScpOwogICAgbGkuYXBwZW5kKHNwYW4oZmlsZS5uYW1lLCB7Zm9udFdlaWdodDogJ2JvbGQnfSkpOwogICAgbGkuYXBwZW5kKHNwYW4oCiAgICAgICAgYCgke2ZpbGUudHlwZSB8fCAnbi9hJ30pIC0gJHtmaWxlLnNpemV9IGJ5dGVzLCBgICsKICAgICAgICBgbGFzdCBtb2RpZmllZDogJHsKICAgICAgICAgICAgZmlsZS5sYXN0TW9kaWZpZWREYXRlID8gZmlsZS5sYXN0TW9kaWZpZWREYXRlLnRvTG9jYWxlRGF0ZVN0cmluZygpIDoKICAgICAgICAgICAgICAgICAgICAgICAgICAgICAgICAgICAgJ24vYSd9IC0gYCkpOwogICAgY29uc3QgcGVyY2VudCA9IHNwYW4oJzAlIGRvbmUnKTsKICAgIGxpLmFwcGVuZENoaWxkKHBlcmNlbnQpOwoKICAgIG91dHB1dEVsZW1lbnQuYXBwZW5kQ2hpbGQobGkpOwoKICAgIGNvbnN0IGZpbGVEYXRhUHJvbWlzZSA9IG5ldyBQcm9taXNlKChyZXNvbHZlKSA9PiB7CiAgICAgIGNvbnN0IHJlYWRlciA9IG5ldyBGaWxlUmVhZGVyKCk7CiAgICAgIHJlYWRlci5vbmxvYWQgPSAoZSkgPT4gewogICAgICAgIHJlc29sdmUoZS50YXJnZXQucmVzdWx0KTsKICAgICAgfTsKICAgICAgcmVhZGVyLnJlYWRBc0FycmF5QnVmZmVyKGZpbGUpOwogICAgfSk7CiAgICAvLyBXYWl0IGZvciB0aGUgZGF0YSB0byBiZSByZWFkeS4KICAgIGxldCBmaWxlRGF0YSA9IHlpZWxkIHsKICAgICAgcHJvbWlzZTogZmlsZURhdGFQcm9taXNlLAogICAgICByZXNwb25zZTogewogICAgICAgIGFjdGlvbjogJ2NvbnRpbnVlJywKICAgICAgfQogICAgfTsKCiAgICAvLyBVc2UgYSBjaHVua2VkIHNlbmRpbmcgdG8gYXZvaWQgbWVzc2FnZSBzaXplIGxpbWl0cy4gU2VlIGIvNjIxMTU2NjAuCiAgICBsZXQgcG9zaXRpb24gPSAwOwogICAgZG8gewogICAgICBjb25zdCBsZW5ndGggPSBNYXRoLm1pbihmaWxlRGF0YS5ieXRlTGVuZ3RoIC0gcG9zaXRpb24sIE1BWF9QQVlMT0FEX1NJWkUpOwogICAgICBjb25zdCBjaHVuayA9IG5ldyBVaW50OEFycmF5KGZpbGVEYXRhLCBwb3NpdGlvbiwgbGVuZ3RoKTsKICAgICAgcG9zaXRpb24gKz0gbGVuZ3RoOwoKICAgICAgY29uc3QgYmFzZTY0ID0gYnRvYShTdHJpbmcuZnJvbUNoYXJDb2RlLmFwcGx5KG51bGwsIGNodW5rKSk7CiAgICAgIHlpZWxkIHsKICAgICAgICByZXNwb25zZTogewogICAgICAgICAgYWN0aW9uOiAnYXBwZW5kJywKICAgICAgICAgIGZpbGU6IGZpbGUubmFtZSwKICAgICAgICAgIGRhdGE6IGJhc2U2NCwKICAgICAgICB9LAogICAgICB9OwoKICAgICAgbGV0IHBlcmNlbnREb25lID0gZmlsZURhdGEuYnl0ZUxlbmd0aCA9PT0gMCA/CiAgICAgICAgICAxMDAgOgogICAgICAgICAgTWF0aC5yb3VuZCgocG9zaXRpb24gLyBmaWxlRGF0YS5ieXRlTGVuZ3RoKSAqIDEwMCk7CiAgICAgIHBlcmNlbnQudGV4dENvbnRlbnQgPSBgJHtwZXJjZW50RG9uZX0lIGRvbmVgOwoKICAgIH0gd2hpbGUgKHBvc2l0aW9uIDwgZmlsZURhdGEuYnl0ZUxlbmd0aCk7CiAgfQoKICAvLyBBbGwgZG9uZS4KICB5aWVsZCB7CiAgICByZXNwb25zZTogewogICAgICBhY3Rpb246ICdjb21wbGV0ZScsCiAgICB9CiAgfTsKfQoKc2NvcGUuZ29vZ2xlID0gc2NvcGUuZ29vZ2xlIHx8IHt9OwpzY29wZS5nb29nbGUuY29sYWIgPSBzY29wZS5nb29nbGUuY29sYWIgfHwge307CnNjb3BlLmdvb2dsZS5jb2xhYi5fZmlsZXMgPSB7CiAgX3VwbG9hZEZpbGVzLAogIF91cGxvYWRGaWxlc0NvbnRpbnVlLAp9Owp9KShzZWxmKTsK",
              "ok": true,
              "headers": [
                [
                  "content-type",
                  "application/javascript"
                ]
              ],
              "status": 200,
              "status_text": ""
            }
          },
          "base_uri": "https://localhost:8080/",
          "height": 89
        },
        "outputId": "520ebe4e-137f-4e07-cec5-9ea60c969b84"
      },
      "source": [
        "from google.colab import files\n",
        "files.upload()\n",
        "!pip install -q kaggle\n",
        "!mkdir -p ~/.kaggle\n",
        "!cp kaggle.json ~/.kaggle/\n",
        "!ls ~/.kaggle\n",
        "!chmod 600 /root/.kaggle/kaggle.json"
      ],
      "execution_count": null,
      "outputs": [
        {
          "output_type": "display_data",
          "data": {
            "text/html": [
              "\n",
              "     <input type=\"file\" id=\"files-71a424d6-7fd3-4473-85c3-8c7f408649d7\" name=\"files[]\" multiple disabled\n",
              "        style=\"border:none\" />\n",
              "     <output id=\"result-71a424d6-7fd3-4473-85c3-8c7f408649d7\">\n",
              "      Upload widget is only available when the cell has been executed in the\n",
              "      current browser session. Please rerun this cell to enable.\n",
              "      </output>\n",
              "      <script src=\"/nbextensions/google.colab/files.js\"></script> "
            ],
            "text/plain": [
              "<IPython.core.display.HTML object>"
            ]
          },
          "metadata": {}
        },
        {
          "output_type": "stream",
          "text": [
            "Saving kaggle.json to kaggle.json\n",
            "kaggle.json\n"
          ],
          "name": "stdout"
        }
      ]
    },
    {
      "cell_type": "code",
      "metadata": {
        "id": "jNS_BNPtBv3p",
        "colab": {
          "base_uri": "https://localhost:8080/"
        },
        "outputId": "002557bd-ae92-449e-c4e2-6b5a4b7f08c4"
      },
      "source": [
        "! kaggle competitions download -c 30-days-of-ml -p /content/drive/My\\Drive/kaggle/30_ML"
      ],
      "execution_count": null,
      "outputs": [
        {
          "output_type": "stream",
          "text": [
            "Warning: Looks like you're using an outdated API Version, please consider updating (server 1.5.12 / client 1.5.4)\n",
            "Downloading test.csv.zip to /content/drive/MyDrive/kaggle/30_ML\n",
            " 36% 9.00M/25.2M [00:00<00:00, 74.0MB/s]\n",
            "100% 25.2M/25.2M [00:00<00:00, 99.0MB/s]\n",
            "Downloading train.csv.zip to /content/drive/MyDrive/kaggle/30_ML\n",
            " 87% 35.0M/40.3M [00:00<00:00, 61.8MB/s]\n",
            "100% 40.3M/40.3M [00:00<00:00, 89.6MB/s]\n",
            "Downloading sample_submission.csv.zip to /content/drive/MyDrive/kaggle/30_ML\n",
            "  0% 0.00/470k [00:00<?, ?B/s]\n",
            "100% 470k/470k [00:00<00:00, 155MB/s]\n"
          ],
          "name": "stdout"
        }
      ]
    },
    {
      "cell_type": "code",
      "metadata": {
        "id": "CsxEWf5q-yWX"
      },
      "source": [
        "%%capture\n",
        "!pip install catboost"
      ],
      "execution_count": null,
      "outputs": []
    },
    {
      "cell_type": "code",
      "metadata": {
        "id": "HAgwkJmE5pjY"
      },
      "source": [
        "%%capture\n",
        "!pip install category_encoders"
      ],
      "execution_count": null,
      "outputs": []
    },
    {
      "cell_type": "code",
      "metadata": {
        "id": "XDA0jHruqlhr"
      },
      "source": [
        "%%capture\n",
        "!pip install -U keras-tuner"
      ],
      "execution_count": null,
      "outputs": []
    },
    {
      "cell_type": "code",
      "metadata": {
        "id": "y5KCVfiHZTR5"
      },
      "source": [
        "%%capture\n",
        "!pip install hyperopt"
      ],
      "execution_count": null,
      "outputs": []
    },
    {
      "cell_type": "code",
      "metadata": {
        "id": "CAJYCejs_MDZ",
        "colab": {
          "base_uri": "https://localhost:8080/"
        },
        "outputId": "e14d1858-0f2b-4921-fa13-40338f27fbb9"
      },
      "source": [
        "import pandas as pd\n",
        "import numpy as np\n",
        "\n",
        "import hyperopt\n",
        "\n",
        "from tensorflow.keras import Sequential\n",
        "from tensorflow.keras.layers import Dense, Dropout, BatchNormalization, LeakyReLU\n",
        "from sklearn.metrics import mean_squared_error, mean_absolute_error\n",
        "from xgboost import XGBRegressor\n",
        "from tensorflow.keras.optimizers import Adam, Nadam\n",
        "\n",
        "from sklearn.cluster import KMeans\n",
        "from sklearn.preprocessing import StandardScaler\n",
        "from sklearn.model_selection import train_test_split\n",
        "from sklearn.model_selection import KFold, GridSearchCV, RandomizedSearchCV\n",
        "from sklearn.linear_model import ElasticNet\n",
        "import warnings\n",
        "from kerastuner.tuners import RandomSearch, BayesianOptimization\n",
        "from sklearn.preprocessing import OrdinalEncoder \n",
        "from sklearn.preprocessing import LabelEncoder\n",
        "from tensorflow.keras.optimizers import \n",
        "\n",
        "from tensorflow import keras\n",
        "from tensorflow.keras import layers, callbacks\n",
        "from tensorflow.keras.callbacks import EarlyStopping\n",
        "from keras import backend as K\n",
        "from category_encoders import MEstimateEncoder\n",
        "\n",
        "from sklearn.ensemble import VotingRegressor\n",
        "from scipy.stats import reciprocal, uniform\n",
        "\n",
        "from catboost import CatBoostRegressor\n",
        "from catboost import Pool\n",
        "import lightgbm as lgb\n",
        "from lightgbm import LGBMRegressor\n",
        "\n",
        "\n",
        "warnings.filterwarnings(\"ignore\")\n",
        "sns.set_style(\"darkgrid\")\n",
        "%matplotlib inline\n"
      ],
      "execution_count": null,
      "outputs": [
        {
          "output_type": "stream",
          "text": [
            "/usr/local/lib/python3.7/dist-packages/ipykernel_launcher.py:20: DeprecationWarning: `import kerastuner` is deprecated, please use `import keras_tuner`.\n",
            "/usr/local/lib/python3.7/dist-packages/statsmodels/tools/_testing.py:19: FutureWarning: pandas.util.testing is deprecated. Use the functions in the public API at pandas.testing instead.\n",
            "  import pandas.util.testing as tm\n"
          ],
          "name": "stderr"
        }
      ]
    },
    {
      "cell_type": "code",
      "metadata": {
        "id": "dFQivx9IAFp5"
      },
      "source": [
        "\n",
        "train = pd.read_csv('/content/drive/MyDrive/kaggle/30_ML/train.csv.zip')\n",
        "test = pd.read_csv('/content/drive/MyDrive/kaggle/30_ML/test.csv.zip')"
      ],
      "execution_count": null,
      "outputs": []
    },
    {
      "cell_type": "code",
      "metadata": {
        "id": "iY51YQRcq7ou",
        "colab": {
          "base_uri": "https://localhost:8080/",
          "height": 224
        },
        "outputId": "0f7f00ca-dab4-4e7c-d8c2-360e051c3a40"
      },
      "source": [
        "train.head()"
      ],
      "execution_count": null,
      "outputs": [
        {
          "output_type": "execute_result",
          "data": {
            "text/html": [
              "<div>\n",
              "<style scoped>\n",
              "    .dataframe tbody tr th:only-of-type {\n",
              "        vertical-align: middle;\n",
              "    }\n",
              "\n",
              "    .dataframe tbody tr th {\n",
              "        vertical-align: top;\n",
              "    }\n",
              "\n",
              "    .dataframe thead th {\n",
              "        text-align: right;\n",
              "    }\n",
              "</style>\n",
              "<table border=\"1\" class=\"dataframe\">\n",
              "  <thead>\n",
              "    <tr style=\"text-align: right;\">\n",
              "      <th></th>\n",
              "      <th>id</th>\n",
              "      <th>cat0</th>\n",
              "      <th>cat1</th>\n",
              "      <th>cat2</th>\n",
              "      <th>cat3</th>\n",
              "      <th>cat4</th>\n",
              "      <th>cat5</th>\n",
              "      <th>cat6</th>\n",
              "      <th>cat7</th>\n",
              "      <th>cat8</th>\n",
              "      <th>cat9</th>\n",
              "      <th>cont0</th>\n",
              "      <th>cont1</th>\n",
              "      <th>cont2</th>\n",
              "      <th>cont3</th>\n",
              "      <th>cont4</th>\n",
              "      <th>cont5</th>\n",
              "      <th>cont6</th>\n",
              "      <th>cont7</th>\n",
              "      <th>cont8</th>\n",
              "      <th>cont9</th>\n",
              "      <th>cont10</th>\n",
              "      <th>cont11</th>\n",
              "      <th>cont12</th>\n",
              "      <th>cont13</th>\n",
              "      <th>target</th>\n",
              "    </tr>\n",
              "  </thead>\n",
              "  <tbody>\n",
              "    <tr>\n",
              "      <th>0</th>\n",
              "      <td>1</td>\n",
              "      <td>B</td>\n",
              "      <td>B</td>\n",
              "      <td>B</td>\n",
              "      <td>C</td>\n",
              "      <td>B</td>\n",
              "      <td>B</td>\n",
              "      <td>A</td>\n",
              "      <td>E</td>\n",
              "      <td>C</td>\n",
              "      <td>N</td>\n",
              "      <td>0.201470</td>\n",
              "      <td>-0.014822</td>\n",
              "      <td>0.669699</td>\n",
              "      <td>0.136278</td>\n",
              "      <td>0.610706</td>\n",
              "      <td>0.400361</td>\n",
              "      <td>0.160266</td>\n",
              "      <td>0.310921</td>\n",
              "      <td>0.389470</td>\n",
              "      <td>0.267559</td>\n",
              "      <td>0.237281</td>\n",
              "      <td>0.377873</td>\n",
              "      <td>0.322401</td>\n",
              "      <td>0.869850</td>\n",
              "      <td>8.113634</td>\n",
              "    </tr>\n",
              "    <tr>\n",
              "      <th>1</th>\n",
              "      <td>2</td>\n",
              "      <td>B</td>\n",
              "      <td>B</td>\n",
              "      <td>A</td>\n",
              "      <td>A</td>\n",
              "      <td>B</td>\n",
              "      <td>D</td>\n",
              "      <td>A</td>\n",
              "      <td>F</td>\n",
              "      <td>A</td>\n",
              "      <td>O</td>\n",
              "      <td>0.743068</td>\n",
              "      <td>0.367411</td>\n",
              "      <td>1.021605</td>\n",
              "      <td>0.365798</td>\n",
              "      <td>0.276853</td>\n",
              "      <td>0.533087</td>\n",
              "      <td>0.558922</td>\n",
              "      <td>0.516294</td>\n",
              "      <td>0.594928</td>\n",
              "      <td>0.341439</td>\n",
              "      <td>0.906013</td>\n",
              "      <td>0.921701</td>\n",
              "      <td>0.261975</td>\n",
              "      <td>0.465083</td>\n",
              "      <td>8.481233</td>\n",
              "    </tr>\n",
              "    <tr>\n",
              "      <th>2</th>\n",
              "      <td>3</td>\n",
              "      <td>A</td>\n",
              "      <td>A</td>\n",
              "      <td>A</td>\n",
              "      <td>C</td>\n",
              "      <td>B</td>\n",
              "      <td>D</td>\n",
              "      <td>A</td>\n",
              "      <td>D</td>\n",
              "      <td>A</td>\n",
              "      <td>F</td>\n",
              "      <td>0.742708</td>\n",
              "      <td>0.310383</td>\n",
              "      <td>-0.012673</td>\n",
              "      <td>0.576957</td>\n",
              "      <td>0.285074</td>\n",
              "      <td>0.650609</td>\n",
              "      <td>0.375348</td>\n",
              "      <td>0.902567</td>\n",
              "      <td>0.555205</td>\n",
              "      <td>0.843531</td>\n",
              "      <td>0.748809</td>\n",
              "      <td>0.620126</td>\n",
              "      <td>0.541474</td>\n",
              "      <td>0.763846</td>\n",
              "      <td>8.364351</td>\n",
              "    </tr>\n",
              "    <tr>\n",
              "      <th>3</th>\n",
              "      <td>4</td>\n",
              "      <td>B</td>\n",
              "      <td>B</td>\n",
              "      <td>A</td>\n",
              "      <td>C</td>\n",
              "      <td>B</td>\n",
              "      <td>D</td>\n",
              "      <td>A</td>\n",
              "      <td>E</td>\n",
              "      <td>C</td>\n",
              "      <td>K</td>\n",
              "      <td>0.429551</td>\n",
              "      <td>0.620998</td>\n",
              "      <td>0.577942</td>\n",
              "      <td>0.280610</td>\n",
              "      <td>0.284667</td>\n",
              "      <td>0.668980</td>\n",
              "      <td>0.239061</td>\n",
              "      <td>0.732948</td>\n",
              "      <td>0.679618</td>\n",
              "      <td>0.574844</td>\n",
              "      <td>0.346010</td>\n",
              "      <td>0.714610</td>\n",
              "      <td>0.540150</td>\n",
              "      <td>0.280682</td>\n",
              "      <td>8.049253</td>\n",
              "    </tr>\n",
              "    <tr>\n",
              "      <th>4</th>\n",
              "      <td>6</td>\n",
              "      <td>A</td>\n",
              "      <td>A</td>\n",
              "      <td>A</td>\n",
              "      <td>C</td>\n",
              "      <td>B</td>\n",
              "      <td>D</td>\n",
              "      <td>A</td>\n",
              "      <td>E</td>\n",
              "      <td>A</td>\n",
              "      <td>N</td>\n",
              "      <td>1.058291</td>\n",
              "      <td>0.367492</td>\n",
              "      <td>-0.052389</td>\n",
              "      <td>0.232407</td>\n",
              "      <td>0.287595</td>\n",
              "      <td>0.686964</td>\n",
              "      <td>0.420667</td>\n",
              "      <td>0.648182</td>\n",
              "      <td>0.684501</td>\n",
              "      <td>0.956692</td>\n",
              "      <td>1.000773</td>\n",
              "      <td>0.776742</td>\n",
              "      <td>0.625849</td>\n",
              "      <td>0.250823</td>\n",
              "      <td>7.972260</td>\n",
              "    </tr>\n",
              "  </tbody>\n",
              "</table>\n",
              "</div>"
            ],
            "text/plain": [
              "   id cat0 cat1 cat2 cat3  ...    cont10    cont11    cont12    cont13    target\n",
              "0   1    B    B    B    C  ...  0.237281  0.377873  0.322401  0.869850  8.113634\n",
              "1   2    B    B    A    A  ...  0.906013  0.921701  0.261975  0.465083  8.481233\n",
              "2   3    A    A    A    C  ...  0.748809  0.620126  0.541474  0.763846  8.364351\n",
              "3   4    B    B    A    C  ...  0.346010  0.714610  0.540150  0.280682  8.049253\n",
              "4   6    A    A    A    C  ...  1.000773  0.776742  0.625849  0.250823  7.972260\n",
              "\n",
              "[5 rows x 26 columns]"
            ]
          },
          "metadata": {},
          "execution_count": 9
        }
      ]
    },
    {
      "cell_type": "code",
      "metadata": {
        "id": "AU6V-cVUeQtV",
        "colab": {
          "base_uri": "https://localhost:8080/",
          "height": 224
        },
        "outputId": "c5734203-0ada-4068-a6b4-28c04f067771"
      },
      "source": [
        "test.head()"
      ],
      "execution_count": null,
      "outputs": [
        {
          "output_type": "execute_result",
          "data": {
            "text/html": [
              "<div>\n",
              "<style scoped>\n",
              "    .dataframe tbody tr th:only-of-type {\n",
              "        vertical-align: middle;\n",
              "    }\n",
              "\n",
              "    .dataframe tbody tr th {\n",
              "        vertical-align: top;\n",
              "    }\n",
              "\n",
              "    .dataframe thead th {\n",
              "        text-align: right;\n",
              "    }\n",
              "</style>\n",
              "<table border=\"1\" class=\"dataframe\">\n",
              "  <thead>\n",
              "    <tr style=\"text-align: right;\">\n",
              "      <th></th>\n",
              "      <th>id</th>\n",
              "      <th>cat0</th>\n",
              "      <th>cat1</th>\n",
              "      <th>cat2</th>\n",
              "      <th>cat3</th>\n",
              "      <th>cat4</th>\n",
              "      <th>cat5</th>\n",
              "      <th>cat6</th>\n",
              "      <th>cat7</th>\n",
              "      <th>cat8</th>\n",
              "      <th>cat9</th>\n",
              "      <th>cont0</th>\n",
              "      <th>cont1</th>\n",
              "      <th>cont2</th>\n",
              "      <th>cont3</th>\n",
              "      <th>cont4</th>\n",
              "      <th>cont5</th>\n",
              "      <th>cont6</th>\n",
              "      <th>cont7</th>\n",
              "      <th>cont8</th>\n",
              "      <th>cont9</th>\n",
              "      <th>cont10</th>\n",
              "      <th>cont11</th>\n",
              "      <th>cont12</th>\n",
              "      <th>cont13</th>\n",
              "    </tr>\n",
              "  </thead>\n",
              "  <tbody>\n",
              "    <tr>\n",
              "      <th>0</th>\n",
              "      <td>0</td>\n",
              "      <td>B</td>\n",
              "      <td>B</td>\n",
              "      <td>B</td>\n",
              "      <td>C</td>\n",
              "      <td>B</td>\n",
              "      <td>B</td>\n",
              "      <td>A</td>\n",
              "      <td>E</td>\n",
              "      <td>E</td>\n",
              "      <td>I</td>\n",
              "      <td>0.296227</td>\n",
              "      <td>0.686757</td>\n",
              "      <td>0.587731</td>\n",
              "      <td>0.392753</td>\n",
              "      <td>0.476739</td>\n",
              "      <td>0.376350</td>\n",
              "      <td>0.337884</td>\n",
              "      <td>0.321832</td>\n",
              "      <td>0.445212</td>\n",
              "      <td>0.290258</td>\n",
              "      <td>0.244476</td>\n",
              "      <td>0.087914</td>\n",
              "      <td>0.301831</td>\n",
              "      <td>0.845702</td>\n",
              "    </tr>\n",
              "    <tr>\n",
              "      <th>1</th>\n",
              "      <td>5</td>\n",
              "      <td>A</td>\n",
              "      <td>B</td>\n",
              "      <td>A</td>\n",
              "      <td>C</td>\n",
              "      <td>B</td>\n",
              "      <td>C</td>\n",
              "      <td>A</td>\n",
              "      <td>E</td>\n",
              "      <td>C</td>\n",
              "      <td>H</td>\n",
              "      <td>0.543707</td>\n",
              "      <td>0.364761</td>\n",
              "      <td>0.452967</td>\n",
              "      <td>0.929645</td>\n",
              "      <td>0.285509</td>\n",
              "      <td>0.860046</td>\n",
              "      <td>0.798712</td>\n",
              "      <td>0.835961</td>\n",
              "      <td>0.391657</td>\n",
              "      <td>0.288276</td>\n",
              "      <td>0.549568</td>\n",
              "      <td>0.905097</td>\n",
              "      <td>0.850684</td>\n",
              "      <td>0.693940</td>\n",
              "    </tr>\n",
              "    <tr>\n",
              "      <th>2</th>\n",
              "      <td>15</td>\n",
              "      <td>B</td>\n",
              "      <td>A</td>\n",
              "      <td>A</td>\n",
              "      <td>A</td>\n",
              "      <td>B</td>\n",
              "      <td>B</td>\n",
              "      <td>A</td>\n",
              "      <td>E</td>\n",
              "      <td>D</td>\n",
              "      <td>K</td>\n",
              "      <td>0.408961</td>\n",
              "      <td>0.296129</td>\n",
              "      <td>0.690999</td>\n",
              "      <td>0.740027</td>\n",
              "      <td>0.697272</td>\n",
              "      <td>0.683600</td>\n",
              "      <td>0.404089</td>\n",
              "      <td>0.879379</td>\n",
              "      <td>0.275549</td>\n",
              "      <td>0.427871</td>\n",
              "      <td>0.491667</td>\n",
              "      <td>0.384315</td>\n",
              "      <td>0.376689</td>\n",
              "      <td>0.508099</td>\n",
              "    </tr>\n",
              "    <tr>\n",
              "      <th>3</th>\n",
              "      <td>16</td>\n",
              "      <td>B</td>\n",
              "      <td>B</td>\n",
              "      <td>A</td>\n",
              "      <td>C</td>\n",
              "      <td>B</td>\n",
              "      <td>D</td>\n",
              "      <td>A</td>\n",
              "      <td>E</td>\n",
              "      <td>A</td>\n",
              "      <td>N</td>\n",
              "      <td>1.031239</td>\n",
              "      <td>0.356062</td>\n",
              "      <td>0.303651</td>\n",
              "      <td>0.895591</td>\n",
              "      <td>0.719306</td>\n",
              "      <td>0.777890</td>\n",
              "      <td>0.730954</td>\n",
              "      <td>0.644315</td>\n",
              "      <td>1.024017</td>\n",
              "      <td>0.391090</td>\n",
              "      <td>0.988340</td>\n",
              "      <td>0.411828</td>\n",
              "      <td>0.393585</td>\n",
              "      <td>0.461372</td>\n",
              "    </tr>\n",
              "    <tr>\n",
              "      <th>4</th>\n",
              "      <td>17</td>\n",
              "      <td>B</td>\n",
              "      <td>B</td>\n",
              "      <td>A</td>\n",
              "      <td>C</td>\n",
              "      <td>B</td>\n",
              "      <td>C</td>\n",
              "      <td>A</td>\n",
              "      <td>E</td>\n",
              "      <td>C</td>\n",
              "      <td>F</td>\n",
              "      <td>0.530447</td>\n",
              "      <td>0.729004</td>\n",
              "      <td>0.281723</td>\n",
              "      <td>0.444698</td>\n",
              "      <td>0.313032</td>\n",
              "      <td>0.431007</td>\n",
              "      <td>0.390992</td>\n",
              "      <td>0.408874</td>\n",
              "      <td>0.447887</td>\n",
              "      <td>0.390253</td>\n",
              "      <td>0.648932</td>\n",
              "      <td>0.385935</td>\n",
              "      <td>0.370401</td>\n",
              "      <td>0.900412</td>\n",
              "    </tr>\n",
              "  </tbody>\n",
              "</table>\n",
              "</div>"
            ],
            "text/plain": [
              "   id cat0 cat1 cat2 cat3  ...     cont9    cont10    cont11    cont12    cont13\n",
              "0   0    B    B    B    C  ...  0.290258  0.244476  0.087914  0.301831  0.845702\n",
              "1   5    A    B    A    C  ...  0.288276  0.549568  0.905097  0.850684  0.693940\n",
              "2  15    B    A    A    A  ...  0.427871  0.491667  0.384315  0.376689  0.508099\n",
              "3  16    B    B    A    C  ...  0.391090  0.988340  0.411828  0.393585  0.461372\n",
              "4  17    B    B    A    C  ...  0.390253  0.648932  0.385935  0.370401  0.900412\n",
              "\n",
              "[5 rows x 25 columns]"
            ]
          },
          "metadata": {},
          "execution_count": 10
        }
      ]
    },
    {
      "cell_type": "code",
      "metadata": {
        "id": "iaMUFP5le_XN"
      },
      "source": [
        "def split_data(data, target_column):\n",
        "    return data.drop(columns=[target_column], axis=1), data[target_column]"
      ],
      "execution_count": null,
      "outputs": []
    },
    {
      "cell_type": "code",
      "metadata": {
        "id": "zQe_tX1HgAuv"
      },
      "source": [
        "X_test = test.drop(['id'], axis=1)"
      ],
      "execution_count": null,
      "outputs": []
    },
    {
      "cell_type": "markdown",
      "metadata": {
        "id": "cv2KjN9UiDzX"
      },
      "source": [
        "# Ensemble"
      ]
    },
    {
      "cell_type": "code",
      "metadata": {
        "id": "FqzfuZsq4xag"
      },
      "source": [
        "features, target = split_data(train, 'target')"
      ],
      "execution_count": null,
      "outputs": []
    },
    {
      "cell_type": "code",
      "metadata": {
        "colab": {
          "base_uri": "https://localhost:8080/"
        },
        "id": "25kaq6sPiZhC",
        "outputId": "6c0c7bc5-4c9d-4e6e-85de-ecc00703ce57"
      },
      "source": [
        "cat_feature = list(features.select_dtypes(include=['object', 'category']))\n",
        "cat_feature "
      ],
      "execution_count": null,
      "outputs": [
        {
          "output_type": "execute_result",
          "data": {
            "text/plain": [
              "['cat0',\n",
              " 'cat1',\n",
              " 'cat2',\n",
              " 'cat3',\n",
              " 'cat4',\n",
              " 'cat5',\n",
              " 'cat6',\n",
              " 'cat7',\n",
              " 'cat8',\n",
              " 'cat9']"
            ]
          },
          "metadata": {},
          "execution_count": 14
        }
      ]
    },
    {
      "cell_type": "code",
      "metadata": {
        "id": "Q1SWB4AWiZhC"
      },
      "source": [
        "encoder = LabelEncoder()\n",
        "# encoder = OrdinalEncoder()"
      ],
      "execution_count": null,
      "outputs": []
    },
    {
      "cell_type": "code",
      "metadata": {
        "id": "1PBJIzSQiZhC"
      },
      "source": [
        "for cat in cat_feature:\n",
        "    encoder = LabelEncoder()\n",
        "    encoder.fit(list(features[cat].values)) \n",
        "    features[cat] = encoder.transform(list(features[cat].values))\n"
      ],
      "execution_count": null,
      "outputs": []
    },
    {
      "cell_type": "code",
      "metadata": {
        "colab": {
          "base_uri": "https://localhost:8080/",
          "height": 224
        },
        "id": "MOzkVAEdiZhC",
        "outputId": "ed487b98-6dca-4143-83b2-ced8641285f4"
      },
      "source": [
        "features.head()"
      ],
      "execution_count": null,
      "outputs": [
        {
          "output_type": "execute_result",
          "data": {
            "text/html": [
              "<div>\n",
              "<style scoped>\n",
              "    .dataframe tbody tr th:only-of-type {\n",
              "        vertical-align: middle;\n",
              "    }\n",
              "\n",
              "    .dataframe tbody tr th {\n",
              "        vertical-align: top;\n",
              "    }\n",
              "\n",
              "    .dataframe thead th {\n",
              "        text-align: right;\n",
              "    }\n",
              "</style>\n",
              "<table border=\"1\" class=\"dataframe\">\n",
              "  <thead>\n",
              "    <tr style=\"text-align: right;\">\n",
              "      <th></th>\n",
              "      <th>id</th>\n",
              "      <th>cat0</th>\n",
              "      <th>cat1</th>\n",
              "      <th>cat2</th>\n",
              "      <th>cat3</th>\n",
              "      <th>cat4</th>\n",
              "      <th>cat5</th>\n",
              "      <th>cat6</th>\n",
              "      <th>cat7</th>\n",
              "      <th>cat8</th>\n",
              "      <th>cat9</th>\n",
              "      <th>cont0</th>\n",
              "      <th>cont1</th>\n",
              "      <th>cont2</th>\n",
              "      <th>cont3</th>\n",
              "      <th>cont4</th>\n",
              "      <th>cont5</th>\n",
              "      <th>cont6</th>\n",
              "      <th>cont7</th>\n",
              "      <th>cont8</th>\n",
              "      <th>cont9</th>\n",
              "      <th>cont10</th>\n",
              "      <th>cont11</th>\n",
              "      <th>cont12</th>\n",
              "      <th>cont13</th>\n",
              "    </tr>\n",
              "  </thead>\n",
              "  <tbody>\n",
              "    <tr>\n",
              "      <th>0</th>\n",
              "      <td>1</td>\n",
              "      <td>1</td>\n",
              "      <td>1</td>\n",
              "      <td>1</td>\n",
              "      <td>2</td>\n",
              "      <td>1</td>\n",
              "      <td>1</td>\n",
              "      <td>0</td>\n",
              "      <td>4</td>\n",
              "      <td>2</td>\n",
              "      <td>13</td>\n",
              "      <td>0.201470</td>\n",
              "      <td>-0.014822</td>\n",
              "      <td>0.669699</td>\n",
              "      <td>0.136278</td>\n",
              "      <td>0.610706</td>\n",
              "      <td>0.400361</td>\n",
              "      <td>0.160266</td>\n",
              "      <td>0.310921</td>\n",
              "      <td>0.389470</td>\n",
              "      <td>0.267559</td>\n",
              "      <td>0.237281</td>\n",
              "      <td>0.377873</td>\n",
              "      <td>0.322401</td>\n",
              "      <td>0.869850</td>\n",
              "    </tr>\n",
              "    <tr>\n",
              "      <th>1</th>\n",
              "      <td>2</td>\n",
              "      <td>1</td>\n",
              "      <td>1</td>\n",
              "      <td>0</td>\n",
              "      <td>0</td>\n",
              "      <td>1</td>\n",
              "      <td>3</td>\n",
              "      <td>0</td>\n",
              "      <td>5</td>\n",
              "      <td>0</td>\n",
              "      <td>14</td>\n",
              "      <td>0.743068</td>\n",
              "      <td>0.367411</td>\n",
              "      <td>1.021605</td>\n",
              "      <td>0.365798</td>\n",
              "      <td>0.276853</td>\n",
              "      <td>0.533087</td>\n",
              "      <td>0.558922</td>\n",
              "      <td>0.516294</td>\n",
              "      <td>0.594928</td>\n",
              "      <td>0.341439</td>\n",
              "      <td>0.906013</td>\n",
              "      <td>0.921701</td>\n",
              "      <td>0.261975</td>\n",
              "      <td>0.465083</td>\n",
              "    </tr>\n",
              "    <tr>\n",
              "      <th>2</th>\n",
              "      <td>3</td>\n",
              "      <td>0</td>\n",
              "      <td>0</td>\n",
              "      <td>0</td>\n",
              "      <td>2</td>\n",
              "      <td>1</td>\n",
              "      <td>3</td>\n",
              "      <td>0</td>\n",
              "      <td>3</td>\n",
              "      <td>0</td>\n",
              "      <td>5</td>\n",
              "      <td>0.742708</td>\n",
              "      <td>0.310383</td>\n",
              "      <td>-0.012673</td>\n",
              "      <td>0.576957</td>\n",
              "      <td>0.285074</td>\n",
              "      <td>0.650609</td>\n",
              "      <td>0.375348</td>\n",
              "      <td>0.902567</td>\n",
              "      <td>0.555205</td>\n",
              "      <td>0.843531</td>\n",
              "      <td>0.748809</td>\n",
              "      <td>0.620126</td>\n",
              "      <td>0.541474</td>\n",
              "      <td>0.763846</td>\n",
              "    </tr>\n",
              "    <tr>\n",
              "      <th>3</th>\n",
              "      <td>4</td>\n",
              "      <td>1</td>\n",
              "      <td>1</td>\n",
              "      <td>0</td>\n",
              "      <td>2</td>\n",
              "      <td>1</td>\n",
              "      <td>3</td>\n",
              "      <td>0</td>\n",
              "      <td>4</td>\n",
              "      <td>2</td>\n",
              "      <td>10</td>\n",
              "      <td>0.429551</td>\n",
              "      <td>0.620998</td>\n",
              "      <td>0.577942</td>\n",
              "      <td>0.280610</td>\n",
              "      <td>0.284667</td>\n",
              "      <td>0.668980</td>\n",
              "      <td>0.239061</td>\n",
              "      <td>0.732948</td>\n",
              "      <td>0.679618</td>\n",
              "      <td>0.574844</td>\n",
              "      <td>0.346010</td>\n",
              "      <td>0.714610</td>\n",
              "      <td>0.540150</td>\n",
              "      <td>0.280682</td>\n",
              "    </tr>\n",
              "    <tr>\n",
              "      <th>4</th>\n",
              "      <td>6</td>\n",
              "      <td>0</td>\n",
              "      <td>0</td>\n",
              "      <td>0</td>\n",
              "      <td>2</td>\n",
              "      <td>1</td>\n",
              "      <td>3</td>\n",
              "      <td>0</td>\n",
              "      <td>4</td>\n",
              "      <td>0</td>\n",
              "      <td>13</td>\n",
              "      <td>1.058291</td>\n",
              "      <td>0.367492</td>\n",
              "      <td>-0.052389</td>\n",
              "      <td>0.232407</td>\n",
              "      <td>0.287595</td>\n",
              "      <td>0.686964</td>\n",
              "      <td>0.420667</td>\n",
              "      <td>0.648182</td>\n",
              "      <td>0.684501</td>\n",
              "      <td>0.956692</td>\n",
              "      <td>1.000773</td>\n",
              "      <td>0.776742</td>\n",
              "      <td>0.625849</td>\n",
              "      <td>0.250823</td>\n",
              "    </tr>\n",
              "  </tbody>\n",
              "</table>\n",
              "</div>"
            ],
            "text/plain": [
              "   id  cat0  cat1  cat2  cat3  ...     cont9    cont10    cont11    cont12    cont13\n",
              "0   1     1     1     1     2  ...  0.267559  0.237281  0.377873  0.322401  0.869850\n",
              "1   2     1     1     0     0  ...  0.341439  0.906013  0.921701  0.261975  0.465083\n",
              "2   3     0     0     0     2  ...  0.843531  0.748809  0.620126  0.541474  0.763846\n",
              "3   4     1     1     0     2  ...  0.574844  0.346010  0.714610  0.540150  0.280682\n",
              "4   6     0     0     0     2  ...  0.956692  1.000773  0.776742  0.625849  0.250823\n",
              "\n",
              "[5 rows x 25 columns]"
            ]
          },
          "metadata": {},
          "execution_count": 17
        }
      ]
    },
    {
      "cell_type": "code",
      "metadata": {
        "id": "dAP7TudB6ZQB"
      },
      "source": [
        "features = features.drop('id', axis=1)"
      ],
      "execution_count": null,
      "outputs": []
    },
    {
      "cell_type": "code",
      "metadata": {
        "id": "2g554IbXkH_u"
      },
      "source": [
        "test_id = test ['id']"
      ],
      "execution_count": null,
      "outputs": []
    },
    {
      "cell_type": "code",
      "metadata": {
        "id": "crYCA-_IiD78"
      },
      "source": [
        "# X_test_cv_1 = X_test.copy()\n",
        "# X_test_cv = encoder_1.transform(X_test_cv_1)\n",
        "# X_test_cv[cat_feature] = encoder.transform(X_test_cv[cat_feature])\n",
        "\n",
        "for cat in cat_feature:\n",
        "    X_test[cat] = encoder.transform(list(X_test[cat].values))\n"
      ],
      "execution_count": null,
      "outputs": []
    },
    {
      "cell_type": "code",
      "metadata": {
        "colab": {
          "base_uri": "https://localhost:8080/"
        },
        "id": "izYn40v2Cdb_",
        "outputId": "3d75aec4-e879-4d50-c34d-95f569b1cf13"
      },
      "source": [
        "X_test.shape"
      ],
      "execution_count": null,
      "outputs": [
        {
          "output_type": "execute_result",
          "data": {
            "text/plain": [
              "(200000, 24)"
            ]
          },
          "metadata": {},
          "execution_count": 21
        }
      ]
    },
    {
      "cell_type": "markdown",
      "metadata": {
        "id": "BEHWK9kCq1P0"
      },
      "source": [
        "#Keras\n"
      ]
    },
    {
      "cell_type": "code",
      "metadata": {
        "id": "wqEPUY1zq_gv",
        "colab": {
          "base_uri": "https://localhost:8080/"
        },
        "outputId": "0034400b-ece7-40e7-8c01-cc0fac626808"
      },
      "source": [
        "features.shape, X_test.shape"
      ],
      "execution_count": null,
      "outputs": [
        {
          "output_type": "execute_result",
          "data": {
            "text/plain": [
              "((300000, 24), (200000, 24))"
            ]
          },
          "metadata": {},
          "execution_count": 22
        }
      ]
    },
    {
      "cell_type": "code",
      "metadata": {
        "id": "q0uYO06CrFll"
      },
      "source": [
        "X_train_XGB, X_val_XGB, y_train_XGB,y_val_XGB = train_test_split(features, target, test_size=0.25,\n",
        "                                                                  random_state=42)"
      ],
      "execution_count": null,
      "outputs": []
    },
    {
      "cell_type": "code",
      "metadata": {
        "colab": {
          "base_uri": "https://localhost:8080/"
        },
        "id": "i-wtG4lEKLm1",
        "outputId": "9a20b11c-0353-4fd8-a97e-5aabf156eda8"
      },
      "source": [
        "y_val_XGB.mean()"
      ],
      "execution_count": null,
      "outputs": [
        {
          "output_type": "execute_result",
          "data": {
            "text/plain": [
              "8.242420668044563"
            ]
          },
          "metadata": {},
          "execution_count": 74
        }
      ]
    },
    {
      "cell_type": "code",
      "metadata": {
        "id": "OfCsIpnUKb8p"
      },
      "source": [
        "y_sanity = np.ones(y_val_XGB.shape[0])*y_val_XGB.mean()"
      ],
      "execution_count": null,
      "outputs": []
    },
    {
      "cell_type": "code",
      "metadata": {
        "colab": {
          "base_uri": "https://localhost:8080/"
        },
        "id": "Dt5aqVu-Kuyj",
        "outputId": "fd989606-cdc1-4757-f379-25c7ef8c0a1b"
      },
      "source": [
        "y_sanity"
      ],
      "execution_count": null,
      "outputs": [
        {
          "output_type": "execute_result",
          "data": {
            "text/plain": [
              "array([8.24242067, 8.24242067, 8.24242067, ..., 8.24242067, 8.24242067,\n",
              "       8.24242067])"
            ]
          },
          "metadata": {},
          "execution_count": 78
        }
      ]
    },
    {
      "cell_type": "code",
      "metadata": {
        "colab": {
          "base_uri": "https://localhost:8080/"
        },
        "id": "a1KByACErGZD",
        "outputId": "de47c467-59ea-4fb7-b881-f334a7a8cde8"
      },
      "source": [
        "X_train_XGB.shape"
      ],
      "execution_count": null,
      "outputs": [
        {
          "output_type": "execute_result",
          "data": {
            "text/plain": [
              "(225000, 24)"
            ]
          },
          "metadata": {},
          "execution_count": 24
        }
      ]
    },
    {
      "cell_type": "code",
      "metadata": {
        "id": "t3KcitoUq1M2"
      },
      "source": [
        "def build_model(hp):\n",
        "\n",
        "    model = Sequential()\n",
        "  \n",
        "    model.add(Dense(units=hp.Int('units_input',    \n",
        "                                   min_value=200,    \n",
        "                                   max_value=300,   \n",
        "                                   step=25),  \n",
        "                    input_dim=24, activation='elu'))\n",
        "    model.add(BatchNormalization())\n",
        "    model.add(Dense(units=hp.Int('units_input_1',    \n",
        "                                   min_value=150,    \n",
        "                                   max_value=250,   \n",
        "                                   step=25), \n",
        "                    activation='elu'))\n",
        "    model.add(BatchNormalization())\n",
        "    model.add(Dense(units=hp.Int('units_input_2',    \n",
        "                                   min_value=50,    \n",
        "                                   max_value=100,   \n",
        "                                   step=25), \n",
        "                    activation='elu'))\n",
        "    model.add(BatchNormalization())\n",
        "    model.add(Dense(1))\n",
        "    \n",
        "    model.compile(\n",
        "        optimizer=keras.optimizers.Nadam(\n",
        "        hp.Choice(\"learning_rate\", values=[0.001, 0.0001])\n",
        "        ),\n",
        "        loss='mae',\n",
        "        metrics=['mse'])\n",
        "    return model"
      ],
      "execution_count": null,
      "outputs": []
    },
    {
      "cell_type": "code",
      "metadata": {
        "id": "_Hl1MfQ6q1J2",
        "colab": {
          "base_uri": "https://localhost:8080/",
          "height": 232
        },
        "outputId": "3b2577be-9ab7-4990-ed2a-ba212527f915"
      },
      "source": [
        "tuner = RandomSearch(\n",
        "    build_model,                 \n",
        "    objective='mse',    \n",
        "                                 \n",
        "    max_trials=5,                \n",
        "    directory='test_directory_24',\n",
        "    overwrite=True   \n",
        "    )\n",
        "\n",
        "\n",
        "early_stopping = EarlyStopping(\n",
        "\n",
        "    mode='min', \n",
        "    patience=20,\n",
        "    restore_best_weights=True,\n",
        ")"
      ],
      "execution_count": null,
      "outputs": [
        {
          "output_type": "error",
          "ename": "NameError",
          "evalue": "ignored",
          "traceback": [
            "\u001b[0;31m---------------------------------------------------------------------------\u001b[0m",
            "\u001b[0;31mNameError\u001b[0m                                 Traceback (most recent call last)",
            "\u001b[0;32m<ipython-input-87-c9dfdefa8fe3>\u001b[0m in \u001b[0;36m<module>\u001b[0;34m()\u001b[0m\n\u001b[0;32m----> 1\u001b[0;31m tuner = BayesianOptimization(\n\u001b[0m\u001b[1;32m      2\u001b[0m     \u001b[0mbuild_model\u001b[0m\u001b[0;34m,\u001b[0m\u001b[0;34m\u001b[0m\u001b[0;34m\u001b[0m\u001b[0m\n\u001b[1;32m      3\u001b[0m     \u001b[0mobjective\u001b[0m\u001b[0;34m=\u001b[0m\u001b[0;34m'mse'\u001b[0m\u001b[0;34m,\u001b[0m\u001b[0;34m\u001b[0m\u001b[0;34m\u001b[0m\u001b[0m\n\u001b[1;32m      4\u001b[0m \u001b[0;34m\u001b[0m\u001b[0m\n\u001b[1;32m      5\u001b[0m     \u001b[0mmax_trials\u001b[0m\u001b[0;34m=\u001b[0m\u001b[0;36m5\u001b[0m\u001b[0;34m,\u001b[0m\u001b[0;34m\u001b[0m\u001b[0;34m\u001b[0m\u001b[0m\n",
            "\u001b[0;31mNameError\u001b[0m: name 'BayesianOptimization' is not defined"
          ]
        }
      ]
    },
    {
      "cell_type": "code",
      "metadata": {
        "colab": {
          "base_uri": "https://localhost:8080/"
        },
        "id": "j8rujKvuq1HC",
        "outputId": "6d5def6f-013e-4ea4-965c-5b5b594d7395"
      },
      "source": [
        "tuner.search_space_summary()"
      ],
      "execution_count": null,
      "outputs": [
        {
          "output_type": "stream",
          "text": [
            "Search space summary\n",
            "Default search space size: 4\n",
            "units_input (Int)\n",
            "{'default': None, 'conditions': [], 'min_value': 200, 'max_value': 300, 'step': 25, 'sampling': None}\n",
            "units_input_1 (Int)\n",
            "{'default': None, 'conditions': [], 'min_value': 150, 'max_value': 250, 'step': 25, 'sampling': None}\n",
            "units_input_2 (Int)\n",
            "{'default': None, 'conditions': [], 'min_value': 50, 'max_value': 100, 'step': 25, 'sampling': None}\n",
            "learning_rate (Choice)\n",
            "{'default': 0.001, 'conditions': [], 'values': [0.001, 0.0001], 'ordered': True}\n"
          ],
          "name": "stdout"
        }
      ]
    },
    {
      "cell_type": "code",
      "metadata": {
        "id": "8F4Z23swq1EC"
      },
      "source": [
        "tuner.search(X_train_XGB,                  \n",
        "             y_train_XGB,                  \n",
        "             batch_size=256,           \n",
        "             epochs=50, validation_data=(X_val_XGB, y_val_XGB)\n",
        "             )"
      ],
      "execution_count": null,
      "outputs": []
    },
    {
      "cell_type": "code",
      "metadata": {
        "id": "l7tZpfzEq1A4"
      },
      "source": [
        "models = tuner.get_best_models(num_models=2)"
      ],
      "execution_count": null,
      "outputs": []
    },
    {
      "cell_type": "code",
      "metadata": {
        "colab": {
          "base_uri": "https://localhost:8080/"
        },
        "id": "iQJ34gKHvCtE",
        "outputId": "0948b449-c6e4-4a7d-fc11-b8233bbb9141"
      },
      "source": [
        "for model in models:\n",
        "  model.summary()\n",
        "  model.evaluate(X_val_XGB, y_val_XGB)\n",
        "  print() "
      ],
      "execution_count": null,
      "outputs": [
        {
          "output_type": "stream",
          "text": [
            "Model: \"sequential\"\n",
            "_________________________________________________________________\n",
            "Layer (type)                 Output Shape              Param #   \n",
            "=================================================================\n",
            "dense (Dense)                (None, 200)               5000      \n",
            "_________________________________________________________________\n",
            "batch_normalization (BatchNo (None, 200)               800       \n",
            "_________________________________________________________________\n",
            "dense_1 (Dense)              (None, 200)               40200     \n",
            "_________________________________________________________________\n",
            "batch_normalization_1 (Batch (None, 200)               800       \n",
            "_________________________________________________________________\n",
            "dense_2 (Dense)              (None, 75)                15075     \n",
            "_________________________________________________________________\n",
            "batch_normalization_2 (Batch (None, 75)                300       \n",
            "_________________________________________________________________\n",
            "dense_3 (Dense)              (None, 1)                 76        \n",
            "=================================================================\n",
            "Total params: 62,251\n",
            "Trainable params: 61,301\n",
            "Non-trainable params: 950\n",
            "_________________________________________________________________\n",
            "2344/2344 [==============================] - 6s 2ms/step - loss: 0.5863 - mse: 0.5516\n",
            "\n",
            "Model: \"sequential\"\n",
            "_________________________________________________________________\n",
            "Layer (type)                 Output Shape              Param #   \n",
            "=================================================================\n",
            "dense (Dense)                (None, 250)               6250      \n",
            "_________________________________________________________________\n",
            "batch_normalization (BatchNo (None, 250)               1000      \n",
            "_________________________________________________________________\n",
            "dense_1 (Dense)              (None, 250)               62750     \n",
            "_________________________________________________________________\n",
            "batch_normalization_1 (Batch (None, 250)               1000      \n",
            "_________________________________________________________________\n",
            "dense_2 (Dense)              (None, 100)               25100     \n",
            "_________________________________________________________________\n",
            "batch_normalization_2 (Batch (None, 100)               400       \n",
            "_________________________________________________________________\n",
            "dense_3 (Dense)              (None, 1)                 101       \n",
            "=================================================================\n",
            "Total params: 96,601\n",
            "Trainable params: 95,401\n",
            "Non-trainable params: 1,200\n",
            "_________________________________________________________________\n",
            "2344/2344 [==============================] - 6s 2ms/step - loss: 0.5872 - mse: 0.5560\n",
            "\n"
          ],
          "name": "stdout"
        }
      ]
    },
    {
      "cell_type": "code",
      "metadata": {
        "id": "NumLYnZ_NVSx"
      },
      "source": [
        "UNITS = 200\n",
        "UNITS_HIDDEN_1 = 200\n",
        "UNITS_HIDDEN_2 = 75\n",
        "\n",
        "OPTIMIZER = Nadam(lr=0.0001)\n",
        "BATCH_SIZE_PER_REPLICA = 256\n",
        "\n",
        "ACTIVATION='elu'"
      ],
      "execution_count": null,
      "outputs": []
    },
    {
      "cell_type": "code",
      "metadata": {
        "id": "zAjs6MN0Jfzp"
      },
      "source": [
        "\n",
        "model = Sequential()\n",
        "\n",
        "model.add(Dense(units=200, \n",
        "                input_dim=24, activation=elu))\n",
        "model.add(BatchNormalization())\n",
        "model.add(Dense(units=200, activation=elu))\n",
        "model.add(BatchNormalization())\n",
        "model.add(Dense(units=UNITS75_HIDDEN_2, activation=elu))\n",
        "model.add(BatchNormalization())\n",
        "model.add(Dense(1))\n",
        "model.compile(\n",
        "    optimizer=OPTIMIZER,\n",
        "    loss='mae',\n",
        "    metrics=['mse'])\n",
        "\n",
        "\n",
        "early_stopping = EarlyStopping(\n",
        "    min_delta=0.0005,\n",
        "    mode='min', \n",
        "    patience=20,\n",
        "    restore_best_weights=True,\n",
        ")"
      ],
      "execution_count": null,
      "outputs": []
    },
    {
      "cell_type": "code",
      "metadata": {
        "id": "BFHncwE_a6V5",
        "colab": {
          "base_uri": "https://localhost:8080/",
          "height": 1000
        },
        "outputId": "d3040938-57c0-4412-abed-b01024991ee1"
      },
      "source": [
        "history = model.fit(\n",
        "    X_train_XGB, y_train_XGB,\n",
        "    validation_data=(X_val_XGB, y_val_XGB),\n",
        "    batch_size=BATCH_SIZE_PER_REPLICA,\n",
        "    epochs=100,\n",
        "    callbacks=early_stopping,\n",
        "    verbose=1,\n",
        ")\n",
        "\n",
        "\n",
        "history_df = pd.DataFrame(history.history)\n",
        "history_df.loc[:, ['loss', 'val_loss']].plot()\n",
        "print(\"Minimum Validation Loss: {:0.4f}\".format(history_df['val_loss'].min()))"
      ],
      "execution_count": null,
      "outputs": [
        {
          "output_type": "stream",
          "text": [
            "Epoch 1/100\n",
            "879/879 [==============================] - 9s 9ms/step - loss: 7.3307 - mse: 57.6553 - val_loss: 6.0962 - val_mse: 40.4301\n",
            "Epoch 2/100\n",
            "879/879 [==============================] - 7s 8ms/step - loss: 3.8555 - mse: 18.4188 - val_loss: 1.2551 - val_mse: 2.1768\n",
            "Epoch 3/100\n",
            "879/879 [==============================] - 7s 8ms/step - loss: 0.6900 - mse: 0.7867 - val_loss: 0.5910 - val_mse: 0.5585\n",
            "Epoch 4/100\n",
            "879/879 [==============================] - 7s 8ms/step - loss: 0.5929 - mse: 0.5625 - val_loss: 0.5867 - val_mse: 0.5527\n",
            "Epoch 5/100\n",
            "879/879 [==============================] - 7s 8ms/step - loss: 0.5905 - mse: 0.5582 - val_loss: 0.5864 - val_mse: 0.5497\n",
            "Epoch 6/100\n",
            "879/879 [==============================] - 7s 8ms/step - loss: 0.5892 - mse: 0.5565 - val_loss: 0.5901 - val_mse: 0.5590\n",
            "Epoch 7/100\n",
            "879/879 [==============================] - 7s 8ms/step - loss: 0.5887 - mse: 0.5557 - val_loss: 0.5891 - val_mse: 0.5560\n",
            "Epoch 8/100\n",
            "879/879 [==============================] - 7s 8ms/step - loss: 0.5884 - mse: 0.5550 - val_loss: 0.5863 - val_mse: 0.5477\n",
            "Epoch 9/100\n",
            "879/879 [==============================] - 7s 8ms/step - loss: 0.5880 - mse: 0.5540 - val_loss: 0.5870 - val_mse: 0.5500\n",
            "Epoch 10/100\n",
            "879/879 [==============================] - 7s 8ms/step - loss: 0.5875 - mse: 0.5537 - val_loss: 0.5869 - val_mse: 0.5544\n",
            "Epoch 11/100\n",
            "879/879 [==============================] - 7s 8ms/step - loss: 0.5876 - mse: 0.5534 - val_loss: 0.5865 - val_mse: 0.5518\n",
            "Epoch 12/100\n",
            "879/879 [==============================] - 7s 8ms/step - loss: 0.5872 - mse: 0.5530 - val_loss: 0.5854 - val_mse: 0.5491\n",
            "Epoch 13/100\n",
            "879/879 [==============================] - 7s 8ms/step - loss: 0.5873 - mse: 0.5529 - val_loss: 0.5878 - val_mse: 0.5543\n",
            "Epoch 14/100\n",
            "879/879 [==============================] - 7s 8ms/step - loss: 0.5872 - mse: 0.5526 - val_loss: 0.5892 - val_mse: 0.5553\n",
            "Epoch 15/100\n",
            "879/879 [==============================] - 7s 8ms/step - loss: 0.5867 - mse: 0.5520 - val_loss: 0.5850 - val_mse: 0.5485\n",
            "Epoch 16/100\n",
            "879/879 [==============================] - 7s 8ms/step - loss: 0.5866 - mse: 0.5518 - val_loss: 0.5857 - val_mse: 0.5505\n",
            "Epoch 17/100\n",
            "879/879 [==============================] - 7s 8ms/step - loss: 0.5865 - mse: 0.5517 - val_loss: 0.5849 - val_mse: 0.5497\n",
            "Epoch 18/100\n",
            "879/879 [==============================] - 7s 8ms/step - loss: 0.5863 - mse: 0.5512 - val_loss: 0.5850 - val_mse: 0.5516\n",
            "Epoch 19/100\n",
            "879/879 [==============================] - 7s 8ms/step - loss: 0.5863 - mse: 0.5515 - val_loss: 0.5842 - val_mse: 0.5484\n",
            "Epoch 20/100\n",
            "879/879 [==============================] - 7s 8ms/step - loss: 0.5864 - mse: 0.5516 - val_loss: 0.5864 - val_mse: 0.5492\n",
            "Epoch 21/100\n",
            "879/879 [==============================] - 7s 8ms/step - loss: 0.5863 - mse: 0.5514 - val_loss: 0.5857 - val_mse: 0.5527\n",
            "Epoch 22/100\n",
            "879/879 [==============================] - 7s 8ms/step - loss: 0.5862 - mse: 0.5511 - val_loss: 0.5853 - val_mse: 0.5498\n",
            "Epoch 23/100\n",
            "879/879 [==============================] - 7s 8ms/step - loss: 0.5861 - mse: 0.5512 - val_loss: 0.5860 - val_mse: 0.5497\n",
            "Epoch 24/100\n",
            "879/879 [==============================] - 7s 8ms/step - loss: 0.5861 - mse: 0.5511 - val_loss: 0.5853 - val_mse: 0.5516\n",
            "Epoch 25/100\n",
            "879/879 [==============================] - 7s 8ms/step - loss: 0.5858 - mse: 0.5508 - val_loss: 0.5852 - val_mse: 0.5483\n",
            "Epoch 26/100\n",
            "879/879 [==============================] - 7s 8ms/step - loss: 0.5858 - mse: 0.5506 - val_loss: 0.5847 - val_mse: 0.5497\n",
            "Epoch 27/100\n",
            "879/879 [==============================] - 7s 8ms/step - loss: 0.5857 - mse: 0.5506 - val_loss: 0.5872 - val_mse: 0.5548\n",
            "Epoch 28/100\n",
            "879/879 [==============================] - 7s 8ms/step - loss: 0.5858 - mse: 0.5504 - val_loss: 0.5858 - val_mse: 0.5533\n",
            "Epoch 29/100\n",
            "879/879 [==============================] - 7s 8ms/step - loss: 0.5856 - mse: 0.5502 - val_loss: 0.5844 - val_mse: 0.5474\n",
            "Epoch 30/100\n",
            "879/879 [==============================] - 7s 8ms/step - loss: 0.5857 - mse: 0.5505 - val_loss: 0.5849 - val_mse: 0.5498\n",
            "Epoch 31/100\n",
            "879/879 [==============================] - 7s 8ms/step - loss: 0.5857 - mse: 0.5502 - val_loss: 0.5857 - val_mse: 0.5496\n",
            "Epoch 32/100\n",
            "879/879 [==============================] - 7s 8ms/step - loss: 0.5854 - mse: 0.5501 - val_loss: 0.5857 - val_mse: 0.5482\n",
            "Epoch 33/100\n",
            "879/879 [==============================] - 7s 8ms/step - loss: 0.5853 - mse: 0.5498 - val_loss: 0.5853 - val_mse: 0.5479\n",
            "Epoch 34/100\n",
            "879/879 [==============================] - 7s 8ms/step - loss: 0.5852 - mse: 0.5497 - val_loss: 0.5842 - val_mse: 0.5478\n",
            "Epoch 35/100\n",
            "879/879 [==============================] - 7s 8ms/step - loss: 0.5851 - mse: 0.5494 - val_loss: 0.5857 - val_mse: 0.5479\n",
            "Epoch 36/100\n",
            "879/879 [==============================] - 7s 8ms/step - loss: 0.5850 - mse: 0.5495 - val_loss: 0.5873 - val_mse: 0.5549\n",
            "Epoch 37/100\n",
            "879/879 [==============================] - 7s 8ms/step - loss: 0.5850 - mse: 0.5499 - val_loss: 0.5862 - val_mse: 0.5543\n",
            "Epoch 38/100\n",
            "879/879 [==============================] - 7s 8ms/step - loss: 0.5849 - mse: 0.5492 - val_loss: 0.5852 - val_mse: 0.5497\n",
            "Epoch 39/100\n",
            "879/879 [==============================] - 7s 8ms/step - loss: 0.5848 - mse: 0.5492 - val_loss: 0.5844 - val_mse: 0.5497\n",
            "Minimum Validation Loss: 0.5842\n"
          ],
          "name": "stdout"
        },
        {
          "output_type": "display_data",
          "data": {
            "image/png": "[encoded data removed]",
            "text/plain": [
              "<Figure size 432x288 with 1 Axes>"
            ]
          },
          "metadata": {
            "needs_background": "light"
          }
        }
      ]
    },
    {
      "cell_type": "code",
      "metadata": {
        "id": "AMVtOlyNdCUZ",
        "colab": {
          "base_uri": "https://localhost:8080/"
        },
        "outputId": "a2b816f5-38b4-4594-b68f-4d8c508b018a"
      },
      "source": [
        "print(mean_squared_error(y_val_XGB, model.predict(X_val_XGB), squared=False))"
      ],
      "execution_count": null,
      "outputs": [
        {
          "output_type": "stream",
          "text": [
            "0.7405098758285182\n"
          ],
          "name": "stdout"
        }
      ]
    },
    {
      "cell_type": "code",
      "metadata": {
        "id": "yR4oJVjcq097"
      },
      "source": [
        "UNITS = 2048\n",
        "UNITS_HIDDEN_1 = 2048\n",
        "UNITS_HIDDEN_2 = 2048\n",
        "UNITS_HIDDEN_3 = 2048\n",
        "\n",
        "\n",
        "optimizer=Nadam(learning_rate=0.001) \n",
        "\n",
        "ACTIVATION='relu'\n",
        "BATCH_SIZE_PER_REPLICA = 50"
      ],
      "execution_count": null,
      "outputs": []
    },
    {
      "cell_type": "code",
      "metadata": {
        "id": "MZEUdK58vmhv"
      },
      "source": [
        "early_stopping = EarlyStopping(\n",
        "    min_delta=0.0005,\n",
        "    mode='min', \n",
        "    patience=20,\n",
        "    restore_best_weights=True,\n",
        ")\n",
        "\n",
        "\n",
        "model = Sequential()\n",
        "model.add(Dense(72, input_dim = 24, kernel_initializer='normal')\n",
        "model.add(Dropout(0.2))\n",
        "model.add(LeakyReLU(alpha=0.2))\n",
        "model.add(Dense(72, kernel_initializer='normal')\n",
        "model.add(LeakyReLU(alpha=0.2))\n",
        "model.add(Dropout(0.2))\n",
        "model.add(Dense(1))\n",
        "\n"
      ],
      "execution_count": null,
      "outputs": []
    },
    {
      "cell_type": "code",
      "metadata": {
        "id": "mThXD9DDvmec"
      },
      "source": [
        "model.compile(\n",
        "    optimizer=optimizer, \n",
        "    loss='mae'\n",
        ")"
      ],
      "execution_count": null,
      "outputs": []
    },
    {
      "cell_type": "code",
      "metadata": {
        "id": "tgt-6mIhvmbZ",
        "colab": {
          "base_uri": "https://localhost:8080/",
          "height": 1000
        },
        "outputId": "d139057a-d7a4-4e7f-baa4-5bc663fa8f5c"
      },
      "source": [
        "history = model.fit(\n",
        "    X_train_XGB, y_train_XGB,\n",
        "    validation_data=(X_val_XGB, y_val_XGB),\n",
        "    batch_size=BATCH_SIZE_PER_REPLICA,\n",
        "    epochs=70,\n",
        "    callbacks=early_stopping,\n",
        "    verbose=2,\n",
        ")\n",
        "\n",
        "\n",
        "history_df = pd.DataFrame(history.history)\n",
        "history_df.loc[:, ['loss', 'val_loss']].plot()\n",
        "print(\"Minimum Validation Loss: {:0.4f}\".format(history_df['val_loss'].min()))"
      ],
      "execution_count": null,
      "outputs": [
        {
          "output_type": "stream",
          "text": [
            "Epoch 1/70\n",
            "4500/4500 - 5s - loss: 0.6123 - val_loss: 0.5932\n",
            "Epoch 2/70\n",
            "4500/4500 - 5s - loss: 0.5883 - val_loss: 0.5833\n",
            "Epoch 3/70\n",
            "4500/4500 - 5s - loss: 0.5874 - val_loss: 0.5903\n",
            "Epoch 4/70\n",
            "4500/4500 - 5s - loss: 0.5874 - val_loss: 0.5838\n",
            "Epoch 5/70\n",
            "4500/4500 - 5s - loss: 0.5870 - val_loss: 0.5861\n",
            "Epoch 6/70\n",
            "4500/4500 - 5s - loss: 0.5869 - val_loss: 0.5840\n",
            "Epoch 7/70\n",
            "4500/4500 - 5s - loss: 0.5867 - val_loss: 0.5837\n",
            "Epoch 8/70\n",
            "4500/4500 - 5s - loss: 0.5868 - val_loss: 0.5835\n",
            "Epoch 9/70\n",
            "4500/4500 - 5s - loss: 0.5868 - val_loss: 0.5831\n",
            "Epoch 10/70\n",
            "4500/4500 - 5s - loss: 0.5866 - val_loss: 0.5856\n",
            "Epoch 11/70\n",
            "4500/4500 - 5s - loss: 0.5866 - val_loss: 0.5862\n",
            "Epoch 12/70\n",
            "4500/4500 - 5s - loss: 0.5865 - val_loss: 0.5830\n",
            "Epoch 13/70\n",
            "4500/4500 - 5s - loss: 0.5864 - val_loss: 0.5832\n",
            "Epoch 14/70\n",
            "4500/4500 - 5s - loss: 0.5864 - val_loss: 0.5844\n",
            "Epoch 15/70\n",
            "4500/4500 - 5s - loss: 0.5864 - val_loss: 0.5824\n",
            "Epoch 16/70\n",
            "4500/4500 - 5s - loss: 0.5863 - val_loss: 0.5826\n",
            "Epoch 17/70\n",
            "4500/4500 - 5s - loss: 0.5865 - val_loss: 0.5843\n",
            "Epoch 18/70\n",
            "4500/4500 - 5s - loss: 0.5863 - val_loss: 0.5955\n",
            "Epoch 19/70\n",
            "4500/4500 - 5s - loss: 0.5862 - val_loss: 0.5829\n",
            "Epoch 20/70\n",
            "4500/4500 - 5s - loss: 0.5861 - val_loss: 0.5836\n",
            "Epoch 21/70\n",
            "4500/4500 - 5s - loss: 0.5862 - val_loss: 0.5841\n",
            "Epoch 22/70\n",
            "4500/4500 - 5s - loss: 0.5861 - val_loss: 0.5832\n",
            "Epoch 23/70\n",
            "4500/4500 - 5s - loss: 0.5861 - val_loss: 0.5821\n",
            "Epoch 24/70\n",
            "4500/4500 - 5s - loss: 0.5859 - val_loss: 0.5828\n",
            "Epoch 25/70\n",
            "4500/4500 - 5s - loss: 0.5861 - val_loss: 0.6003\n",
            "Epoch 26/70\n",
            "4500/4500 - 5s - loss: 0.5859 - val_loss: 0.5832\n",
            "Epoch 27/70\n",
            "4500/4500 - 5s - loss: 0.5858 - val_loss: 0.5823\n",
            "Epoch 28/70\n",
            "4500/4500 - 5s - loss: 0.5858 - val_loss: 0.5884\n",
            "Epoch 29/70\n",
            "4500/4500 - 5s - loss: 0.5854 - val_loss: 0.5855\n",
            "Epoch 30/70\n",
            "4500/4500 - 5s - loss: 0.5852 - val_loss: 0.5866\n",
            "Epoch 31/70\n",
            "4500/4500 - 5s - loss: 0.5853 - val_loss: 0.5820\n",
            "Epoch 32/70\n",
            "4500/4500 - 5s - loss: 0.5853 - val_loss: 0.5819\n",
            "Epoch 33/70\n",
            "4500/4500 - 5s - loss: 0.5853 - val_loss: 0.5836\n",
            "Epoch 34/70\n",
            "4500/4500 - 5s - loss: 0.5850 - val_loss: 0.5829\n",
            "Epoch 35/70\n",
            "4500/4500 - 5s - loss: 0.5854 - val_loss: 0.5842\n",
            "Epoch 36/70\n",
            "4500/4500 - 5s - loss: 0.5851 - val_loss: 0.5819\n",
            "Epoch 37/70\n",
            "4500/4500 - 5s - loss: 0.5848 - val_loss: 0.5820\n",
            "Epoch 38/70\n",
            "4500/4500 - 5s - loss: 0.5850 - val_loss: 0.5822\n",
            "Epoch 39/70\n",
            "4500/4500 - 5s - loss: 0.5849 - val_loss: 0.5849\n",
            "Epoch 40/70\n",
            "4500/4500 - 5s - loss: 0.5848 - val_loss: 0.5875\n",
            "Epoch 41/70\n",
            "4500/4500 - 5s - loss: 0.5848 - val_loss: 0.5832\n",
            "Epoch 42/70\n",
            "4500/4500 - 5s - loss: 0.5848 - val_loss: 0.5828\n",
            "Epoch 43/70\n",
            "4500/4500 - 5s - loss: 0.5848 - val_loss: 0.5902\n",
            "Epoch 44/70\n",
            "4500/4500 - 5s - loss: 0.5848 - val_loss: 0.5869\n",
            "Epoch 45/70\n",
            "4500/4500 - 5s - loss: 0.5846 - val_loss: 0.5824\n",
            "Epoch 46/70\n",
            "4500/4500 - 5s - loss: 0.5848 - val_loss: 0.5823\n",
            "Epoch 47/70\n",
            "4500/4500 - 5s - loss: 0.5846 - val_loss: 0.5831\n",
            "Epoch 48/70\n",
            "4500/4500 - 5s - loss: 0.5845 - val_loss: 0.5845\n",
            "Epoch 49/70\n",
            "4500/4500 - 5s - loss: 0.5845 - val_loss: 0.5864\n",
            "Epoch 50/70\n",
            "4500/4500 - 5s - loss: 0.5845 - val_loss: 0.5821\n",
            "Epoch 51/70\n",
            "4500/4500 - 5s - loss: 0.5843 - val_loss: 0.5827\n",
            "Epoch 52/70\n",
            "4500/4500 - 5s - loss: 0.5844 - val_loss: 0.5844\n",
            "Minimum Validation Loss: 0.5819\n"
          ],
          "name": "stdout"
        },
        {
          "output_type": "display_data",
          "data": {
            "image/png": "[encoded data removed]",
            "text/plain": [
              "<Figure size 432x288 with 1 Axes>"
            ]
          },
          "metadata": {
            "needs_background": "light"
          }
        }
      ]
    },
    {
      "cell_type": "code",
      "metadata": {
        "colab": {
          "base_uri": "https://localhost:8080/"
        },
        "id": "TkDu1Lzi76Ex",
        "outputId": "36809711-115c-4760-85bc-4c24974114be"
      },
      "source": [
        "print(mean_squared_error(y_val_XGB, model.predict(X_val_XGB), squared=False))"
      ],
      "execution_count": null,
      "outputs": [
        {
          "output_type": "stream",
          "text": [
            "0.7360686302975115\n"
          ],
          "name": "stdout"
        }
      ]
    },
    {
      "cell_type": "code",
      "metadata": {
        "colab": {
          "base_uri": "https://localhost:8080/",
          "height": 224
        },
        "id": "RLxQhA7x5FIt",
        "outputId": "c0981f9b-6278-4b1c-ebdd-b47022e0f9be"
      },
      "source": [
        "X_test.head()"
      ],
      "execution_count": null,
      "outputs": [
        {
          "output_type": "execute_result",
          "data": {
            "text/html": [
              "<div>\n",
              "<style scoped>\n",
              "    .dataframe tbody tr th:only-of-type {\n",
              "        vertical-align: middle;\n",
              "    }\n",
              "\n",
              "    .dataframe tbody tr th {\n",
              "        vertical-align: top;\n",
              "    }\n",
              "\n",
              "    .dataframe thead th {\n",
              "        text-align: right;\n",
              "    }\n",
              "</style>\n",
              "<table border=\"1\" class=\"dataframe\">\n",
              "  <thead>\n",
              "    <tr style=\"text-align: right;\">\n",
              "      <th></th>\n",
              "      <th>cat0</th>\n",
              "      <th>cat1</th>\n",
              "      <th>cat2</th>\n",
              "      <th>cat3</th>\n",
              "      <th>cat4</th>\n",
              "      <th>cat5</th>\n",
              "      <th>cat6</th>\n",
              "      <th>cat7</th>\n",
              "      <th>cat8</th>\n",
              "      <th>cat9</th>\n",
              "      <th>cont0</th>\n",
              "      <th>cont1</th>\n",
              "      <th>cont2</th>\n",
              "      <th>cont3</th>\n",
              "      <th>cont4</th>\n",
              "      <th>cont5</th>\n",
              "      <th>cont6</th>\n",
              "      <th>cont7</th>\n",
              "      <th>cont8</th>\n",
              "      <th>cont9</th>\n",
              "      <th>cont10</th>\n",
              "      <th>cont11</th>\n",
              "      <th>cont12</th>\n",
              "      <th>cont13</th>\n",
              "    </tr>\n",
              "  </thead>\n",
              "  <tbody>\n",
              "    <tr>\n",
              "      <th>0</th>\n",
              "      <td>1</td>\n",
              "      <td>1</td>\n",
              "      <td>1</td>\n",
              "      <td>2</td>\n",
              "      <td>1</td>\n",
              "      <td>1</td>\n",
              "      <td>0</td>\n",
              "      <td>4</td>\n",
              "      <td>4</td>\n",
              "      <td>8</td>\n",
              "      <td>0.296227</td>\n",
              "      <td>0.686757</td>\n",
              "      <td>0.587731</td>\n",
              "      <td>0.392753</td>\n",
              "      <td>0.476739</td>\n",
              "      <td>0.376350</td>\n",
              "      <td>0.337884</td>\n",
              "      <td>0.321832</td>\n",
              "      <td>0.445212</td>\n",
              "      <td>0.290258</td>\n",
              "      <td>0.244476</td>\n",
              "      <td>0.087914</td>\n",
              "      <td>0.301831</td>\n",
              "      <td>0.845702</td>\n",
              "    </tr>\n",
              "    <tr>\n",
              "      <th>1</th>\n",
              "      <td>0</td>\n",
              "      <td>1</td>\n",
              "      <td>0</td>\n",
              "      <td>2</td>\n",
              "      <td>1</td>\n",
              "      <td>2</td>\n",
              "      <td>0</td>\n",
              "      <td>4</td>\n",
              "      <td>2</td>\n",
              "      <td>7</td>\n",
              "      <td>0.543707</td>\n",
              "      <td>0.364761</td>\n",
              "      <td>0.452967</td>\n",
              "      <td>0.929645</td>\n",
              "      <td>0.285509</td>\n",
              "      <td>0.860046</td>\n",
              "      <td>0.798712</td>\n",
              "      <td>0.835961</td>\n",
              "      <td>0.391657</td>\n",
              "      <td>0.288276</td>\n",
              "      <td>0.549568</td>\n",
              "      <td>0.905097</td>\n",
              "      <td>0.850684</td>\n",
              "      <td>0.693940</td>\n",
              "    </tr>\n",
              "    <tr>\n",
              "      <th>2</th>\n",
              "      <td>1</td>\n",
              "      <td>0</td>\n",
              "      <td>0</td>\n",
              "      <td>0</td>\n",
              "      <td>1</td>\n",
              "      <td>1</td>\n",
              "      <td>0</td>\n",
              "      <td>4</td>\n",
              "      <td>3</td>\n",
              "      <td>10</td>\n",
              "      <td>0.408961</td>\n",
              "      <td>0.296129</td>\n",
              "      <td>0.690999</td>\n",
              "      <td>0.740027</td>\n",
              "      <td>0.697272</td>\n",
              "      <td>0.683600</td>\n",
              "      <td>0.404089</td>\n",
              "      <td>0.879379</td>\n",
              "      <td>0.275549</td>\n",
              "      <td>0.427871</td>\n",
              "      <td>0.491667</td>\n",
              "      <td>0.384315</td>\n",
              "      <td>0.376689</td>\n",
              "      <td>0.508099</td>\n",
              "    </tr>\n",
              "    <tr>\n",
              "      <th>3</th>\n",
              "      <td>1</td>\n",
              "      <td>1</td>\n",
              "      <td>0</td>\n",
              "      <td>2</td>\n",
              "      <td>1</td>\n",
              "      <td>3</td>\n",
              "      <td>0</td>\n",
              "      <td>4</td>\n",
              "      <td>0</td>\n",
              "      <td>13</td>\n",
              "      <td>1.031239</td>\n",
              "      <td>0.356062</td>\n",
              "      <td>0.303651</td>\n",
              "      <td>0.895591</td>\n",
              "      <td>0.719306</td>\n",
              "      <td>0.777890</td>\n",
              "      <td>0.730954</td>\n",
              "      <td>0.644315</td>\n",
              "      <td>1.024017</td>\n",
              "      <td>0.391090</td>\n",
              "      <td>0.988340</td>\n",
              "      <td>0.411828</td>\n",
              "      <td>0.393585</td>\n",
              "      <td>0.461372</td>\n",
              "    </tr>\n",
              "    <tr>\n",
              "      <th>4</th>\n",
              "      <td>1</td>\n",
              "      <td>1</td>\n",
              "      <td>0</td>\n",
              "      <td>2</td>\n",
              "      <td>1</td>\n",
              "      <td>2</td>\n",
              "      <td>0</td>\n",
              "      <td>4</td>\n",
              "      <td>2</td>\n",
              "      <td>5</td>\n",
              "      <td>0.530447</td>\n",
              "      <td>0.729004</td>\n",
              "      <td>0.281723</td>\n",
              "      <td>0.444698</td>\n",
              "      <td>0.313032</td>\n",
              "      <td>0.431007</td>\n",
              "      <td>0.390992</td>\n",
              "      <td>0.408874</td>\n",
              "      <td>0.447887</td>\n",
              "      <td>0.390253</td>\n",
              "      <td>0.648932</td>\n",
              "      <td>0.385935</td>\n",
              "      <td>0.370401</td>\n",
              "      <td>0.900412</td>\n",
              "    </tr>\n",
              "  </tbody>\n",
              "</table>\n",
              "</div>"
            ],
            "text/plain": [
              "   cat0  cat1  cat2  cat3  ...    cont10    cont11    cont12    cont13\n",
              "0     1     1     1     2  ...  0.244476  0.087914  0.301831  0.845702\n",
              "1     0     1     0     2  ...  0.549568  0.905097  0.850684  0.693940\n",
              "2     1     0     0     0  ...  0.491667  0.384315  0.376689  0.508099\n",
              "3     1     1     0     2  ...  0.988340  0.411828  0.393585  0.461372\n",
              "4     1     1     0     2  ...  0.648932  0.385935  0.370401  0.900412\n",
              "\n",
              "[5 rows x 24 columns]"
            ]
          },
          "metadata": {},
          "execution_count": 42
        }
      ]
    },
    {
      "cell_type": "code",
      "metadata": {
        "id": "m6UI7QqQ5FFb"
      },
      "source": [
        "preds = model.predict(X_test)"
      ],
      "execution_count": null,
      "outputs": []
    },
    {
      "cell_type": "code",
      "metadata": {
        "colab": {
          "base_uri": "https://localhost:8080/",
          "height": 17
        },
        "id": "mjjSY4Nx5FCG",
        "outputId": "38c556d7-fb56-4420-f9d9-165c97a2c09d"
      },
      "source": [
        "sub = pd.DataFrame()\n",
        "sub['Id'] = test['id']\n",
        "sub['target'] = preds\n",
        "sub.to_csv('my_submission_keras.csv',index=False)\n",
        "from google.colab import files\n",
        "files.download(\"my_submission_keras.csv\")"
      ],
      "execution_count": null,
      "outputs": [
        {
          "output_type": "display_data",
          "data": {
            "application/javascript": [
              "\n",
              "    async function download(id, filename, size) {\n",
              "      if (!google.colab.kernel.accessAllowed) {\n",
              "        return;\n",
              "      }\n",
              "      const div = document.createElement('div');\n",
              "      const label = document.createElement('label');\n",
              "      label.textContent = `Downloading \"${filename}\": `;\n",
              "      div.appendChild(label);\n",
              "      const progress = document.createElement('progress');\n",
              "      progress.max = size;\n",
              "      div.appendChild(progress);\n",
              "      document.body.appendChild(div);\n",
              "\n",
              "      const buffers = [];\n",
              "      let downloaded = 0;\n",
              "\n",
              "      const channel = await google.colab.kernel.comms.open(id);\n",
              "      // Send a message to notify the kernel that we're ready.\n",
              "      channel.send({})\n",
              "\n",
              "      for await (const message of channel.messages) {\n",
              "        // Send a message to notify the kernel that we're ready.\n",
              "        channel.send({})\n",
              "        if (message.buffers) {\n",
              "          for (const buffer of message.buffers) {\n",
              "            buffers.push(buffer);\n",
              "            downloaded += buffer.byteLength;\n",
              "            progress.value = downloaded;\n",
              "          }\n",
              "        }\n",
              "      }\n",
              "      const blob = new Blob(buffers, {type: 'application/binary'});\n",
              "      const a = document.createElement('a');\n",
              "      a.href = window.URL.createObjectURL(blob);\n",
              "      a.download = filename;\n",
              "      div.appendChild(a);\n",
              "      a.click();\n",
              "      div.remove();\n",
              "    }\n",
              "  "
            ],
            "text/plain": [
              "<IPython.core.display.Javascript object>"
            ]
          },
          "metadata": {}
        },
        {
          "output_type": "display_data",
          "data": {
            "application/javascript": [
              "download(\"download_3be11eb1-6d66-47c7-84c7-1f183b3053d0\", \"my_submission_keras.csv\", 3146043)"
            ],
            "text/plain": [
              "<IPython.core.display.Javascript object>"
            ]
          },
          "metadata": {}
        }
      ]
    },
    {
      "cell_type": "code",
      "metadata": {
        "colab": {
          "base_uri": "https://localhost:8080/",
          "height": 204
        },
        "id": "XcNUlHlLABWG",
        "outputId": "3066ee2f-c05d-4138-abca-fb4894fe3019"
      },
      "source": [
        "sub.head()"
      ],
      "execution_count": null,
      "outputs": [
        {
          "output_type": "execute_result",
          "data": {
            "text/html": [
              "<div>\n",
              "<style scoped>\n",
              "    .dataframe tbody tr th:only-of-type {\n",
              "        vertical-align: middle;\n",
              "    }\n",
              "\n",
              "    .dataframe tbody tr th {\n",
              "        vertical-align: top;\n",
              "    }\n",
              "\n",
              "    .dataframe thead th {\n",
              "        text-align: right;\n",
              "    }\n",
              "</style>\n",
              "<table border=\"1\" class=\"dataframe\">\n",
              "  <thead>\n",
              "    <tr style=\"text-align: right;\">\n",
              "      <th></th>\n",
              "      <th>Id</th>\n",
              "      <th>target</th>\n",
              "    </tr>\n",
              "  </thead>\n",
              "  <tbody>\n",
              "    <tr>\n",
              "      <th>0</th>\n",
              "      <td>0</td>\n",
              "      <td>8.016157</td>\n",
              "    </tr>\n",
              "    <tr>\n",
              "      <th>1</th>\n",
              "      <td>5</td>\n",
              "      <td>8.234062</td>\n",
              "    </tr>\n",
              "    <tr>\n",
              "      <th>2</th>\n",
              "      <td>15</td>\n",
              "      <td>8.317445</td>\n",
              "    </tr>\n",
              "    <tr>\n",
              "      <th>3</th>\n",
              "      <td>16</td>\n",
              "      <td>8.186908</td>\n",
              "    </tr>\n",
              "    <tr>\n",
              "      <th>4</th>\n",
              "      <td>17</td>\n",
              "      <td>8.254500</td>\n",
              "    </tr>\n",
              "  </tbody>\n",
              "</table>\n",
              "</div>"
            ],
            "text/plain": [
              "   Id    target\n",
              "0   0  8.016157\n",
              "1   5  8.234062\n",
              "2  15  8.317445\n",
              "3  16  8.186908\n",
              "4  17  8.254500"
            ]
          },
          "metadata": {},
          "execution_count": 46
        }
      ]
    },
    {
      "cell_type": "markdown",
      "metadata": {
        "id": "jKeUp3yDANeT"
      },
      "source": [
        "#Keras 2"
      ]
    },
    {
      "cell_type": "code",
      "metadata": {
        "id": "dWyfx9kDAV4m"
      },
      "source": [
        "def build_model(hp):\n",
        "    model = Sequential()\n",
        "    activation_choice = hp.Choice('activation', values=['relu', 'tanh'])    \n",
        "    model.add(Dense(units=hp.Int('units_input',    \n",
        "                                   min_value=64,    \n",
        "                                   max_value=1024,   \n",
        "                                   step=32),\n",
        "                    input_dim=24,\n",
        "                    activation=activation_choice))\n",
        "    model.add(Dense(units=hp.Int('units_hidden',        \n",
        "                                   min_value=64,   \n",
        "                                   max_value=256,   \n",
        "                                   step=32),\n",
        "                    activation=activation_choice))  \n",
        "    model.add(Dropout(0.3))   \n",
        "    model.add(Dense(units=hp.Int('units_hidden',        \n",
        "                                   min_value=64,   \n",
        "                                   max_value=256,   \n",
        "                                   step=32),\n",
        "                    activation=activation_choice))   \n",
        "    model.add(Dense(1))\n",
        "    model.compile(\n",
        "        optimizer=hp.Choice('optimizer', values=['adam','SGD']),\n",
        "        loss='mae',\n",
        "        metrics=['mae'])\n",
        "    return model"
      ],
      "execution_count": null,
      "outputs": []
    },
    {
      "cell_type": "code",
      "metadata": {
        "id": "5rS-Hl1cAV4n"
      },
      "source": [
        "tuner = RandomSearch(\n",
        "    build_model,                 \n",
        "    objective='mae',    \n",
        "                                 \n",
        "    max_trials=42,                \n",
        "    directory='test_directory_2'     \n",
        "    )"
      ],
      "execution_count": null,
      "outputs": []
    },
    {
      "cell_type": "code",
      "metadata": {
        "colab": {
          "base_uri": "https://localhost:8080/"
        },
        "id": "VX7Jn68ZAV4n",
        "outputId": "63de10da-d8a5-4272-be85-5f9436a293a0"
      },
      "source": [
        "tuner.search_space_summary()"
      ],
      "execution_count": null,
      "outputs": [
        {
          "output_type": "stream",
          "text": [
            "Search space summary\n",
            "Default search space size: 4\n",
            "activation (Choice)\n",
            "{'default': 'relu', 'conditions': [], 'values': ['relu', 'tanh'], 'ordered': False}\n",
            "units_input (Int)\n",
            "{'default': None, 'conditions': [], 'min_value': 64, 'max_value': 1024, 'step': 32, 'sampling': None}\n",
            "units_hidden (Int)\n",
            "{'default': None, 'conditions': [], 'min_value': 64, 'max_value': 256, 'step': 32, 'sampling': None}\n",
            "optimizer (Choice)\n",
            "{'default': 'adam', 'conditions': [], 'values': ['adam', 'SGD'], 'ordered': False}\n"
          ],
          "name": "stdout"
        }
      ]
    },
    {
      "cell_type": "code",
      "metadata": {
        "colab": {
          "base_uri": "https://localhost:8080/"
        },
        "id": "K44VmwRGAV4n",
        "outputId": "5d492aa6-679d-4b6f-bd6f-f12d7938e0f1"
      },
      "source": [
        "tuner.search(X_train_XGB,                  \n",
        "             y_train_XGB,                  \n",
        "             batch_size=256,           \n",
        "             epochs=20,                 \n",
        "             validation_split=0.2,     \n",
        "             )"
      ],
      "execution_count": null,
      "outputs": [
        {
          "output_type": "stream",
          "text": [
            "Trial 42 Complete [00h 00m 41s]\n",
            "mae: 0.5903564095497131\n",
            "\n",
            "Best mae So Far: 0.586026668548584\n",
            "Total elapsed time: 00h 38m 07s\n",
            "INFO:tensorflow:Oracle triggered exit\n"
          ],
          "name": "stdout"
        }
      ]
    },
    {
      "cell_type": "code",
      "metadata": {
        "id": "ehhHTJv4AV4n"
      },
      "source": [
        "models = tuner.get_best_models(num_models=3)"
      ],
      "execution_count": null,
      "outputs": []
    },
    {
      "cell_type": "code",
      "metadata": {
        "colab": {
          "base_uri": "https://localhost:8080/"
        },
        "id": "kuNyTI4BAV4n",
        "outputId": "b5513c7c-3dcc-4d53-df00-6a2ad651c3ba"
      },
      "source": [
        "for model in models:\n",
        "  model.summary()\n",
        "  model.evaluate(X_val_XGB, y_val_XGB)\n",
        "  print() "
      ],
      "execution_count": null,
      "outputs": [
        {
          "output_type": "stream",
          "text": [
            "Model: \"sequential\"\n",
            "_________________________________________________________________\n",
            "Layer (type)                 Output Shape              Param #   \n",
            "=================================================================\n",
            "dense (Dense)                (None, 960)               24000     \n",
            "_________________________________________________________________\n",
            "dense_1 (Dense)              (None, 192)               184512    \n",
            "_________________________________________________________________\n",
            "dropout (Dropout)            (None, 192)               0         \n",
            "_________________________________________________________________\n",
            "dense_2 (Dense)              (None, 192)               37056     \n",
            "_________________________________________________________________\n",
            "dense_3 (Dense)              (None, 1)                 193       \n",
            "=================================================================\n",
            "Total params: 245,761\n",
            "Trainable params: 245,761\n",
            "Non-trainable params: 0\n",
            "_________________________________________________________________\n",
            "2344/2344 [==============================] - 4s 2ms/step - loss: 0.6233 - mae: 0.6233\n",
            "\n",
            "Model: \"sequential\"\n",
            "_________________________________________________________________\n",
            "Layer (type)                 Output Shape              Param #   \n",
            "=================================================================\n",
            "dense (Dense)                (None, 128)               3200      \n",
            "_________________________________________________________________\n",
            "dense_1 (Dense)              (None, 192)               24768     \n",
            "_________________________________________________________________\n",
            "dropout (Dropout)            (None, 192)               0         \n",
            "_________________________________________________________________\n",
            "dense_2 (Dense)              (None, 192)               37056     \n",
            "_________________________________________________________________\n",
            "dense_3 (Dense)              (None, 1)                 193       \n",
            "=================================================================\n",
            "Total params: 65,217\n",
            "Trainable params: 65,217\n",
            "Non-trainable params: 0\n",
            "_________________________________________________________________\n",
            "2344/2344 [==============================] - 4s 2ms/step - loss: 0.5837 - mae: 0.5837\n",
            "\n"
          ],
          "name": "stdout"
        }
      ]
    },
    {
      "cell_type": "code",
      "metadata": {
        "id": "whINwVftAV4n"
      },
      "source": [
        "UNITS = 128\n",
        "UNITS_HIDDEN_1 = 192\n",
        "\n",
        "UNITS_HIDDEN_2 = 192\n",
        "ACTIVATION = 'relu'\n",
        "\n",
        "BATCH_SIZE_PER_REPLICA = 256"
      ],
      "execution_count": null,
      "outputs": []
    },
    {
      "cell_type": "code",
      "metadata": {
        "id": "XP54uhisAV4n"
      },
      "source": [
        "early_stopping = EarlyStopping(\n",
        "    min_delta=0.001, \n",
        "    patience=50, \n",
        "    restore_best_weights=True,\n",
        ")\n",
        "\n",
        "\n",
        "model = keras.Sequential([\n",
        "    layers.Dense(UNITS, ACTIVATION, input_shape=[X_train_XGB.shape[1]]),\n",
        "    layers.Dense(UNITS_HIDDEN_1, ACTIVATION),\n",
        "    layers.Dropout(rate=0.3),\n",
        "    layers.Dense(UNITS_HIDDEN_2, ACTIVATION),\n",
        "    layers.Dense(1)\n",
        "\n",
        "])"
      ],
      "execution_count": null,
      "outputs": []
    },
    {
      "cell_type": "code",
      "metadata": {
        "id": "gVv-W6yyAV4n"
      },
      "source": [
        "model.compile(\n",
        "    optimizer='adam', \n",
        "    loss='mae'\n",
        ")"
      ],
      "execution_count": null,
      "outputs": []
    },
    {
      "cell_type": "code",
      "metadata": {
        "colab": {
          "base_uri": "https://localhost:8080/",
          "height": 282
        },
        "id": "lzZgKw4zAV4n",
        "outputId": "7fd51f7c-e731-49e3-f4b2-2ebf9b353289"
      },
      "source": [
        "history = model.fit(\n",
        "    X_train_XGB, y_train_XGB,\n",
        "    validation_data=(X_val_XGB, y_val_XGB),\n",
        "    batch_size=BATCH_SIZE_PER_REPLICA,\n",
        "    epochs=1000,\n",
        "    callbacks=early_stopping,\n",
        "    verbose=0,\n",
        ")\n",
        "\n",
        "\n",
        "history_df = pd.DataFrame(history.history)\n",
        "history_df.loc[:, ['loss', 'val_loss']].plot()\n",
        "print(\"Minimum Validation Loss: {:0.4f}\".format(history_df['val_loss'].min()))"
      ],
      "execution_count": null,
      "outputs": [
        {
          "output_type": "stream",
          "text": [
            "Minimum Validation Loss: 0.5825\n"
          ],
          "name": "stdout"
        },
        {
          "output_type": "display_data",
          "data": {
            "image/png": "[encoded data removed]",
            "text/plain": [
              "<Figure size 432x288 with 1 Axes>"
            ]
          },
          "metadata": {
            "needs_background": "light"
          }
        }
      ]
    },
    {
      "cell_type": "code",
      "metadata": {
        "colab": {
          "base_uri": "https://localhost:8080/"
        },
        "id": "MjPsCjHVAV4o",
        "outputId": "5d8c4058-4d71-4ea3-8ee5-d27638ab91e9"
      },
      "source": [
        "print(mean_squared_error(y_val_XGB, model.predict(X_val_XGB), squared=False))"
      ],
      "execution_count": null,
      "outputs": [
        {
          "output_type": "stream",
          "text": [
            "0.7381312326719619\n"
          ],
          "name": "stdout"
        }
      ]
    },
    {
      "cell_type": "code",
      "metadata": {
        "colab": {
          "base_uri": "https://localhost:8080/",
          "height": 224
        },
        "id": "NpECQX6JAV4o",
        "outputId": "bb528bf3-83d0-4d2b-f7be-c3e7c5bf93ae"
      },
      "source": [
        "X_test_cv.head()"
      ],
      "execution_count": null,
      "outputs": [
        {
          "output_type": "execute_result",
          "data": {
            "text/html": [
              "<div>\n",
              "<style scoped>\n",
              "    .dataframe tbody tr th:only-of-type {\n",
              "        vertical-align: middle;\n",
              "    }\n",
              "\n",
              "    .dataframe tbody tr th {\n",
              "        vertical-align: top;\n",
              "    }\n",
              "\n",
              "    .dataframe thead th {\n",
              "        text-align: right;\n",
              "    }\n",
              "</style>\n",
              "<table border=\"1\" class=\"dataframe\">\n",
              "  <thead>\n",
              "    <tr style=\"text-align: right;\">\n",
              "      <th></th>\n",
              "      <th>cat0</th>\n",
              "      <th>cat1</th>\n",
              "      <th>cat2</th>\n",
              "      <th>cat3</th>\n",
              "      <th>cat4</th>\n",
              "      <th>cat5</th>\n",
              "      <th>cat6</th>\n",
              "      <th>cat7</th>\n",
              "      <th>cat8</th>\n",
              "      <th>cat9</th>\n",
              "      <th>cont0</th>\n",
              "      <th>cont1</th>\n",
              "      <th>cont2</th>\n",
              "      <th>cont3</th>\n",
              "      <th>cont4</th>\n",
              "      <th>cont5</th>\n",
              "      <th>cont6</th>\n",
              "      <th>cont7</th>\n",
              "      <th>cont8</th>\n",
              "      <th>cont9</th>\n",
              "      <th>cont10</th>\n",
              "      <th>cont11</th>\n",
              "      <th>cont12</th>\n",
              "      <th>cont13</th>\n",
              "    </tr>\n",
              "  </thead>\n",
              "  <tbody>\n",
              "    <tr>\n",
              "      <th>0</th>\n",
              "      <td>1</td>\n",
              "      <td>1</td>\n",
              "      <td>1</td>\n",
              "      <td>2</td>\n",
              "      <td>1</td>\n",
              "      <td>1</td>\n",
              "      <td>0</td>\n",
              "      <td>4</td>\n",
              "      <td>4</td>\n",
              "      <td>8</td>\n",
              "      <td>0.296227</td>\n",
              "      <td>0.686757</td>\n",
              "      <td>0.587731</td>\n",
              "      <td>0.392753</td>\n",
              "      <td>0.476739</td>\n",
              "      <td>0.376350</td>\n",
              "      <td>0.337884</td>\n",
              "      <td>0.321832</td>\n",
              "      <td>0.445212</td>\n",
              "      <td>0.290258</td>\n",
              "      <td>0.244476</td>\n",
              "      <td>0.087914</td>\n",
              "      <td>0.301831</td>\n",
              "      <td>0.845702</td>\n",
              "    </tr>\n",
              "    <tr>\n",
              "      <th>1</th>\n",
              "      <td>0</td>\n",
              "      <td>1</td>\n",
              "      <td>0</td>\n",
              "      <td>2</td>\n",
              "      <td>1</td>\n",
              "      <td>2</td>\n",
              "      <td>0</td>\n",
              "      <td>4</td>\n",
              "      <td>2</td>\n",
              "      <td>7</td>\n",
              "      <td>0.543707</td>\n",
              "      <td>0.364761</td>\n",
              "      <td>0.452967</td>\n",
              "      <td>0.929645</td>\n",
              "      <td>0.285509</td>\n",
              "      <td>0.860046</td>\n",
              "      <td>0.798712</td>\n",
              "      <td>0.835961</td>\n",
              "      <td>0.391657</td>\n",
              "      <td>0.288276</td>\n",
              "      <td>0.549568</td>\n",
              "      <td>0.905097</td>\n",
              "      <td>0.850684</td>\n",
              "      <td>0.693940</td>\n",
              "    </tr>\n",
              "    <tr>\n",
              "      <th>2</th>\n",
              "      <td>1</td>\n",
              "      <td>0</td>\n",
              "      <td>0</td>\n",
              "      <td>0</td>\n",
              "      <td>1</td>\n",
              "      <td>1</td>\n",
              "      <td>0</td>\n",
              "      <td>4</td>\n",
              "      <td>3</td>\n",
              "      <td>10</td>\n",
              "      <td>0.408961</td>\n",
              "      <td>0.296129</td>\n",
              "      <td>0.690999</td>\n",
              "      <td>0.740027</td>\n",
              "      <td>0.697272</td>\n",
              "      <td>0.683600</td>\n",
              "      <td>0.404089</td>\n",
              "      <td>0.879379</td>\n",
              "      <td>0.275549</td>\n",
              "      <td>0.427871</td>\n",
              "      <td>0.491667</td>\n",
              "      <td>0.384315</td>\n",
              "      <td>0.376689</td>\n",
              "      <td>0.508099</td>\n",
              "    </tr>\n",
              "    <tr>\n",
              "      <th>3</th>\n",
              "      <td>1</td>\n",
              "      <td>1</td>\n",
              "      <td>0</td>\n",
              "      <td>2</td>\n",
              "      <td>1</td>\n",
              "      <td>3</td>\n",
              "      <td>0</td>\n",
              "      <td>4</td>\n",
              "      <td>0</td>\n",
              "      <td>13</td>\n",
              "      <td>1.031239</td>\n",
              "      <td>0.356062</td>\n",
              "      <td>0.303651</td>\n",
              "      <td>0.895591</td>\n",
              "      <td>0.719306</td>\n",
              "      <td>0.777890</td>\n",
              "      <td>0.730954</td>\n",
              "      <td>0.644315</td>\n",
              "      <td>1.024017</td>\n",
              "      <td>0.391090</td>\n",
              "      <td>0.988340</td>\n",
              "      <td>0.411828</td>\n",
              "      <td>0.393585</td>\n",
              "      <td>0.461372</td>\n",
              "    </tr>\n",
              "    <tr>\n",
              "      <th>4</th>\n",
              "      <td>1</td>\n",
              "      <td>1</td>\n",
              "      <td>0</td>\n",
              "      <td>2</td>\n",
              "      <td>1</td>\n",
              "      <td>2</td>\n",
              "      <td>0</td>\n",
              "      <td>4</td>\n",
              "      <td>2</td>\n",
              "      <td>5</td>\n",
              "      <td>0.530447</td>\n",
              "      <td>0.729004</td>\n",
              "      <td>0.281723</td>\n",
              "      <td>0.444698</td>\n",
              "      <td>0.313032</td>\n",
              "      <td>0.431007</td>\n",
              "      <td>0.390992</td>\n",
              "      <td>0.408874</td>\n",
              "      <td>0.447887</td>\n",
              "      <td>0.390253</td>\n",
              "      <td>0.648932</td>\n",
              "      <td>0.385935</td>\n",
              "      <td>0.370401</td>\n",
              "      <td>0.900412</td>\n",
              "    </tr>\n",
              "  </tbody>\n",
              "</table>\n",
              "</div>"
            ],
            "text/plain": [
              "   cat0  cat1  cat2  cat3  ...    cont10    cont11    cont12    cont13\n",
              "0     1     1     1     2  ...  0.244476  0.087914  0.301831  0.845702\n",
              "1     0     1     0     2  ...  0.549568  0.905097  0.850684  0.693940\n",
              "2     1     0     0     0  ...  0.491667  0.384315  0.376689  0.508099\n",
              "3     1     1     0     2  ...  0.988340  0.411828  0.393585  0.461372\n",
              "4     1     1     0     2  ...  0.648932  0.385935  0.370401  0.900412\n",
              "\n",
              "[5 rows x 24 columns]"
            ]
          },
          "metadata": {},
          "execution_count": 67
        }
      ]
    },
    {
      "cell_type": "code",
      "metadata": {
        "id": "WwckYa7xAV4o"
      },
      "source": [
        "preds = model.predict(X_test_cv)"
      ],
      "execution_count": null,
      "outputs": []
    },
    {
      "cell_type": "code",
      "metadata": {
        "colab": {
          "base_uri": "https://localhost:8080/",
          "height": 17
        },
        "id": "HXOvre-dAV4o",
        "outputId": "f663292d-b6f9-4b1d-93ff-b883ffb1714a"
      },
      "source": [
        "sub = pd.DataFrame()\n",
        "sub['Id'] = test['id']\n",
        "sub['target'] = preds\n",
        "sub.to_csv('my_submission_keras_3lay.csv',index=False)\n",
        "from google.colab import files\n",
        "files.download(\"my_submission_keras_3lay.csv\")"
      ],
      "execution_count": null,
      "outputs": [
        {
          "output_type": "display_data",
          "data": {
            "application/javascript": [
              "\n",
              "    async function download(id, filename, size) {\n",
              "      if (!google.colab.kernel.accessAllowed) {\n",
              "        return;\n",
              "      }\n",
              "      const div = document.createElement('div');\n",
              "      const label = document.createElement('label');\n",
              "      label.textContent = `Downloading \"${filename}\": `;\n",
              "      div.appendChild(label);\n",
              "      const progress = document.createElement('progress');\n",
              "      progress.max = size;\n",
              "      div.appendChild(progress);\n",
              "      document.body.appendChild(div);\n",
              "\n",
              "      const buffers = [];\n",
              "      let downloaded = 0;\n",
              "\n",
              "      const channel = await google.colab.kernel.comms.open(id);\n",
              "      // Send a message to notify the kernel that we're ready.\n",
              "      channel.send({})\n",
              "\n",
              "      for await (const message of channel.messages) {\n",
              "        // Send a message to notify the kernel that we're ready.\n",
              "        channel.send({})\n",
              "        if (message.buffers) {\n",
              "          for (const buffer of message.buffers) {\n",
              "            buffers.push(buffer);\n",
              "            downloaded += buffer.byteLength;\n",
              "            progress.value = downloaded;\n",
              "          }\n",
              "        }\n",
              "      }\n",
              "      const blob = new Blob(buffers, {type: 'application/binary'});\n",
              "      const a = document.createElement('a');\n",
              "      a.href = window.URL.createObjectURL(blob);\n",
              "      a.download = filename;\n",
              "      div.appendChild(a);\n",
              "      a.click();\n",
              "      div.remove();\n",
              "    }\n",
              "  "
            ],
            "text/plain": [
              "<IPython.core.display.Javascript object>"
            ]
          },
          "metadata": {}
        },
        {
          "output_type": "display_data",
          "data": {
            "application/javascript": [
              "download(\"download_b6c71c29-b0ea-437e-968f-f2ddcc3864f9\", \"my_submission_keras_3lay.csv\", 3145769)"
            ],
            "text/plain": [
              "<IPython.core.display.Javascript object>"
            ]
          },
          "metadata": {}
        }
      ]
    },
    {
      "cell_type": "code",
      "metadata": {
        "id": "sL4K5Jk5LJVQ",
        "colab": {
          "base_uri": "https://localhost:8080/",
          "height": 204
        },
        "outputId": "c81f4f52-1929-4300-db8c-2e1a21d2f730"
      },
      "source": [
        "sub.head()"
      ],
      "execution_count": null,
      "outputs": [
        {
          "output_type": "execute_result",
          "data": {
            "text/html": [
              "<div>\n",
              "<style scoped>\n",
              "    .dataframe tbody tr th:only-of-type {\n",
              "        vertical-align: middle;\n",
              "    }\n",
              "\n",
              "    .dataframe tbody tr th {\n",
              "        vertical-align: top;\n",
              "    }\n",
              "\n",
              "    .dataframe thead th {\n",
              "        text-align: right;\n",
              "    }\n",
              "</style>\n",
              "<table border=\"1\" class=\"dataframe\">\n",
              "  <thead>\n",
              "    <tr style=\"text-align: right;\">\n",
              "      <th></th>\n",
              "      <th>Id</th>\n",
              "      <th>target</th>\n",
              "    </tr>\n",
              "  </thead>\n",
              "  <tbody>\n",
              "    <tr>\n",
              "      <th>0</th>\n",
              "      <td>0</td>\n",
              "      <td>8.032942</td>\n",
              "    </tr>\n",
              "    <tr>\n",
              "      <th>1</th>\n",
              "      <td>5</td>\n",
              "      <td>8.287011</td>\n",
              "    </tr>\n",
              "    <tr>\n",
              "      <th>2</th>\n",
              "      <td>15</td>\n",
              "      <td>8.326889</td>\n",
              "    </tr>\n",
              "    <tr>\n",
              "      <th>3</th>\n",
              "      <td>16</td>\n",
              "      <td>8.106340</td>\n",
              "    </tr>\n",
              "    <tr>\n",
              "      <th>4</th>\n",
              "      <td>17</td>\n",
              "      <td>8.170339</td>\n",
              "    </tr>\n",
              "  </tbody>\n",
              "</table>\n",
              "</div>"
            ],
            "text/plain": [
              "   Id    target\n",
              "0   0  8.032942\n",
              "1   5  8.287011\n",
              "2  15  8.326889\n",
              "3  16  8.106340\n",
              "4  17  8.170339"
            ]
          },
          "metadata": {},
          "execution_count": 70
        }
      ]
    },
    {
      "cell_type": "markdown",
      "metadata": {
        "id": "2yUn_62KTgyc"
      },
      "source": [
        "#Keras 3 (reBoot)"
      ]
    },
    {
      "cell_type": "code",
      "metadata": {
        "id": "JKZ-40HATjYA"
      },
      "source": [
        "def build_model(hp):\n",
        "    model = Sequential()\n",
        "    activation_choice = hp.Choice('activation', values=['relu', 'tanh'])    \n",
        "    model.add(Dense(units=hp.Int('units_input',    \n",
        "                                   min_value=32,    \n",
        "                                   max_value=512,   \n",
        "                                   step=32),\n",
        "                    input_dim=24,\n",
        "                    activation=activation_choice))\n",
        "    model.add(Dense(units=hp.Int('units_hidden',        \n",
        "                                   min_value=32,   \n",
        "                                   max_value=512,   \n",
        "                                   step=32),\n",
        "                    activation=activation_choice))   \n",
        "    model.add(Dense(1))\n",
        "    model.compile(\n",
        "        optimizer=hp.Choice('optimizer', values=['adam','SGD']),\n",
        "        loss='mae',\n",
        "        metrics=['mae'])\n",
        "    return model"
      ],
      "execution_count": null,
      "outputs": []
    },
    {
      "cell_type": "code",
      "metadata": {
        "id": "YOA9ISArTjYA"
      },
      "source": [
        "tuner = RandomSearch(\n",
        "    build_model,                 \n",
        "    objective='mae',    \n",
        "                                 \n",
        "    max_trials=42,                \n",
        "    directory='test_directory_8'     \n",
        "    )"
      ],
      "execution_count": null,
      "outputs": []
    },
    {
      "cell_type": "code",
      "metadata": {
        "colab": {
          "base_uri": "https://localhost:8080/"
        },
        "id": "valMxO2TTjYA",
        "outputId": "ad00ab3c-54d5-4247-f303-b8b5291f8cc4"
      },
      "source": [
        "tuner.search_space_summary()"
      ],
      "execution_count": null,
      "outputs": [
        {
          "output_type": "stream",
          "text": [
            "Search space summary\n",
            "Default search space size: 4\n",
            "activation (Choice)\n",
            "{'default': 'relu', 'conditions': [], 'values': ['relu', 'tanh'], 'ordered': False}\n",
            "units_input (Int)\n",
            "{'default': None, 'conditions': [], 'min_value': 32, 'max_value': 512, 'step': 32, 'sampling': None}\n",
            "units_hidden (Int)\n",
            "{'default': None, 'conditions': [], 'min_value': 32, 'max_value': 512, 'step': 32, 'sampling': None}\n",
            "optimizer (Choice)\n",
            "{'default': 'adam', 'conditions': [], 'values': ['adam', 'SGD'], 'ordered': False}\n"
          ],
          "name": "stdout"
        }
      ]
    },
    {
      "cell_type": "code",
      "metadata": {
        "colab": {
          "base_uri": "https://localhost:8080/"
        },
        "id": "N5Htd7giTjYA",
        "outputId": "667c814c-15f7-4753-ff3e-1348c99e8cd2"
      },
      "source": [
        "tuner.search(X_train_XGB,                  \n",
        "             y_train_XGB,                  \n",
        "             batch_size=256,           \n",
        "             epochs=30,                 \n",
        "             validation_split=0.2,     \n",
        "             )"
      ],
      "execution_count": null,
      "outputs": [
        {
          "output_type": "stream",
          "text": [
            "Trial 43 Complete [00h 02m 22s]\n",
            "mae: 0.586673378944397\n",
            "\n",
            "Best mae So Far: 0.5848336815834045\n",
            "Total elapsed time: 01h 22m 20s\n",
            "INFO:tensorflow:Oracle triggered exit\n"
          ],
          "name": "stdout"
        }
      ]
    },
    {
      "cell_type": "code",
      "metadata": {
        "id": "ZXYxrHUMTjYA"
      },
      "source": [
        "models = tuner.get_best_models(num_models=2)"
      ],
      "execution_count": null,
      "outputs": []
    },
    {
      "cell_type": "code",
      "metadata": {
        "colab": {
          "base_uri": "https://localhost:8080/"
        },
        "id": "lJq-Nz3gTjYB",
        "outputId": "e6357ea1-0fa1-446f-ecdf-b628970c9a0f"
      },
      "source": [
        "for model in models:\n",
        "  model.summary()\n",
        "  model.evaluate(X_val_XGB, y_val_XGB)\n",
        "  print() "
      ],
      "execution_count": null,
      "outputs": [
        {
          "output_type": "stream",
          "text": [
            "Model: \"sequential\"\n",
            "_________________________________________________________________\n",
            "Layer (type)                 Output Shape              Param #   \n",
            "=================================================================\n",
            "dense (Dense)                (None, 64)                1600      \n",
            "_________________________________________________________________\n",
            "dense_1 (Dense)              (None, 32)                2080      \n",
            "_________________________________________________________________\n",
            "dense_2 (Dense)              (None, 1)                 33        \n",
            "=================================================================\n",
            "Total params: 3,713\n",
            "Trainable params: 3,713\n",
            "Non-trainable params: 0\n",
            "_________________________________________________________________\n",
            "2344/2344 [==============================] - 6s 2ms/step - loss: 0.5825 - mae: 0.5825\n",
            "\n",
            "Model: \"sequential\"\n",
            "_________________________________________________________________\n",
            "Layer (type)                 Output Shape              Param #   \n",
            "=================================================================\n",
            "dense (Dense)                (None, 320)               8000      \n",
            "_________________________________________________________________\n",
            "dense_1 (Dense)              (None, 64)                20544     \n",
            "_________________________________________________________________\n",
            "dense_2 (Dense)              (None, 1)                 65        \n",
            "=================================================================\n",
            "Total params: 28,609\n",
            "Trainable params: 28,609\n",
            "Non-trainable params: 0\n",
            "_________________________________________________________________\n",
            "2344/2344 [==============================] - 6s 2ms/step - loss: 0.5854 - mae: 0.5854\n",
            "\n"
          ],
          "name": "stdout"
        }
      ]
    },
    {
      "cell_type": "code",
      "metadata": {
        "id": "w49hEG_TTjYB"
      },
      "source": [
        "UNITS = 128\n",
        "UNITS_HIDDEN_1 = 192\n",
        "UNITS_HIDDEN_2 = 192\n",
        "optimizer = Adam(lr=0.0005) \n",
        "ACTIVATION='relu'\n",
        "\n",
        "BATCH_SIZE_PER_REPLICA = 16"
      ],
      "execution_count": null,
      "outputs": []
    },
    {
      "cell_type": "code",
      "metadata": {
        "id": "vTKI_XBeTjYB"
      },
      "source": [
        "early_stopping = EarlyStopping(\n",
        "    mode='min', \n",
        "    patience=50,\n",
        "    restore_best_weights=True,\n",
        ")\n",
        "\n",
        "model = keras.Sequential([\n",
        "    layers.Dense(UNITS, ACTIVATION, input_shape=[X_train_XGB.shape[1]]),\n",
        "    layers.Dense(UNITS_HIDDEN_1, ACTIVATION),\n",
        "    layers.Dropout(rate=0.3),\n",
        "    layers.Dense(UNITS_HIDDEN_2, ACTIVATION),\n",
        "    layers.Dense(1)\n",
        "\n",
        "])"
      ],
      "execution_count": null,
      "outputs": []
    },
    {
      "cell_type": "code",
      "metadata": {
        "id": "-tyzzF2-TjYB"
      },
      "source": [
        "model.compile(\n",
        "    optimizer=optimizer, \n",
        "    loss='mae'\n",
        ")"
      ],
      "execution_count": null,
      "outputs": []
    },
    {
      "cell_type": "code",
      "metadata": {
        "colab": {
          "base_uri": "https://localhost:8080/",
          "height": 282
        },
        "id": "CHF2SsF8TjYB",
        "outputId": "c9d93db4-831c-4589-d385-027a7f70317a"
      },
      "source": [
        "history = model.fit(\n",
        "    X_train_XGB, y_train_XGB,\n",
        "    validation_data=(X_val_XGB, y_val_XGB),\n",
        "    batch_size=BATCH_SIZE_PER_REPLICA,\n",
        "    epochs=10000,\n",
        "    callbacks=early_stopping,\n",
        "    verbose=0,\n",
        ")\n",
        "\n",
        "\n",
        "history_df = pd.DataFrame(history.history)\n",
        "history_df.loc[:, ['loss', 'val_loss']].plot()\n",
        "print(\"Minimum Validation Loss: {:0.4f}\".format(history_df['val_loss'].min()))"
      ],
      "execution_count": null,
      "outputs": [
        {
          "output_type": "stream",
          "text": [
            "Minimum Validation Loss: 0.5828\n"
          ],
          "name": "stdout"
        },
        {
          "output_type": "display_data",
          "data": {
            "image/png": "[encoded data removed]",
            "text/plain": [
              "<Figure size 432x288 with 1 Axes>"
            ]
          },
          "metadata": {
            "needs_background": "light"
          }
        }
      ]
    },
    {
      "cell_type": "code",
      "metadata": {
        "colab": {
          "base_uri": "https://localhost:8080/"
        },
        "id": "l8ws0i5YTjYB",
        "outputId": "d6235f73-3d4e-4686-82d2-79e5ba960962"
      },
      "source": [
        "print(mean_squared_error(y_val_XGB, model.predict(X_val_XGB), squared=False))"
      ],
      "execution_count": null,
      "outputs": [
        {
          "output_type": "stream",
          "text": [
            "0.7378086856116519\n"
          ],
          "name": "stdout"
        }
      ]
    },
    {
      "cell_type": "code",
      "metadata": {
        "colab": {
          "base_uri": "https://localhost:8080/",
          "height": 224
        },
        "id": "n6FN49AtTjYB",
        "outputId": "2e68bd65-0061-42fc-ef3d-244b36f8cea2"
      },
      "source": [
        "X_test_cv.head()"
      ],
      "execution_count": null,
      "outputs": [
        {
          "output_type": "execute_result",
          "data": {
            "text/html": [
              "<div>\n",
              "<style scoped>\n",
              "    .dataframe tbody tr th:only-of-type {\n",
              "        vertical-align: middle;\n",
              "    }\n",
              "\n",
              "    .dataframe tbody tr th {\n",
              "        vertical-align: top;\n",
              "    }\n",
              "\n",
              "    .dataframe thead th {\n",
              "        text-align: right;\n",
              "    }\n",
              "</style>\n",
              "<table border=\"1\" class=\"dataframe\">\n",
              "  <thead>\n",
              "    <tr style=\"text-align: right;\">\n",
              "      <th></th>\n",
              "      <th>cat0</th>\n",
              "      <th>cat1</th>\n",
              "      <th>cat2</th>\n",
              "      <th>cat3</th>\n",
              "      <th>cat4</th>\n",
              "      <th>cat5</th>\n",
              "      <th>cat6</th>\n",
              "      <th>cat7</th>\n",
              "      <th>cat8</th>\n",
              "      <th>cat9</th>\n",
              "      <th>cont0</th>\n",
              "      <th>cont1</th>\n",
              "      <th>cont2</th>\n",
              "      <th>cont3</th>\n",
              "      <th>cont4</th>\n",
              "      <th>cont5</th>\n",
              "      <th>cont6</th>\n",
              "      <th>cont7</th>\n",
              "      <th>cont8</th>\n",
              "      <th>cont9</th>\n",
              "      <th>cont10</th>\n",
              "      <th>cont11</th>\n",
              "      <th>cont12</th>\n",
              "      <th>cont13</th>\n",
              "    </tr>\n",
              "  </thead>\n",
              "  <tbody>\n",
              "    <tr>\n",
              "      <th>0</th>\n",
              "      <td>1</td>\n",
              "      <td>1</td>\n",
              "      <td>1</td>\n",
              "      <td>2</td>\n",
              "      <td>1</td>\n",
              "      <td>1</td>\n",
              "      <td>0</td>\n",
              "      <td>4</td>\n",
              "      <td>4</td>\n",
              "      <td>8</td>\n",
              "      <td>0.296227</td>\n",
              "      <td>0.686757</td>\n",
              "      <td>0.587731</td>\n",
              "      <td>0.392753</td>\n",
              "      <td>0.476739</td>\n",
              "      <td>0.376350</td>\n",
              "      <td>0.337884</td>\n",
              "      <td>0.321832</td>\n",
              "      <td>0.445212</td>\n",
              "      <td>0.290258</td>\n",
              "      <td>0.244476</td>\n",
              "      <td>0.087914</td>\n",
              "      <td>0.301831</td>\n",
              "      <td>0.845702</td>\n",
              "    </tr>\n",
              "    <tr>\n",
              "      <th>1</th>\n",
              "      <td>0</td>\n",
              "      <td>1</td>\n",
              "      <td>0</td>\n",
              "      <td>2</td>\n",
              "      <td>1</td>\n",
              "      <td>2</td>\n",
              "      <td>0</td>\n",
              "      <td>4</td>\n",
              "      <td>2</td>\n",
              "      <td>7</td>\n",
              "      <td>0.543707</td>\n",
              "      <td>0.364761</td>\n",
              "      <td>0.452967</td>\n",
              "      <td>0.929645</td>\n",
              "      <td>0.285509</td>\n",
              "      <td>0.860046</td>\n",
              "      <td>0.798712</td>\n",
              "      <td>0.835961</td>\n",
              "      <td>0.391657</td>\n",
              "      <td>0.288276</td>\n",
              "      <td>0.549568</td>\n",
              "      <td>0.905097</td>\n",
              "      <td>0.850684</td>\n",
              "      <td>0.693940</td>\n",
              "    </tr>\n",
              "    <tr>\n",
              "      <th>2</th>\n",
              "      <td>1</td>\n",
              "      <td>0</td>\n",
              "      <td>0</td>\n",
              "      <td>0</td>\n",
              "      <td>1</td>\n",
              "      <td>1</td>\n",
              "      <td>0</td>\n",
              "      <td>4</td>\n",
              "      <td>3</td>\n",
              "      <td>10</td>\n",
              "      <td>0.408961</td>\n",
              "      <td>0.296129</td>\n",
              "      <td>0.690999</td>\n",
              "      <td>0.740027</td>\n",
              "      <td>0.697272</td>\n",
              "      <td>0.683600</td>\n",
              "      <td>0.404089</td>\n",
              "      <td>0.879379</td>\n",
              "      <td>0.275549</td>\n",
              "      <td>0.427871</td>\n",
              "      <td>0.491667</td>\n",
              "      <td>0.384315</td>\n",
              "      <td>0.376689</td>\n",
              "      <td>0.508099</td>\n",
              "    </tr>\n",
              "    <tr>\n",
              "      <th>3</th>\n",
              "      <td>1</td>\n",
              "      <td>1</td>\n",
              "      <td>0</td>\n",
              "      <td>2</td>\n",
              "      <td>1</td>\n",
              "      <td>3</td>\n",
              "      <td>0</td>\n",
              "      <td>4</td>\n",
              "      <td>0</td>\n",
              "      <td>13</td>\n",
              "      <td>1.031239</td>\n",
              "      <td>0.356062</td>\n",
              "      <td>0.303651</td>\n",
              "      <td>0.895591</td>\n",
              "      <td>0.719306</td>\n",
              "      <td>0.777890</td>\n",
              "      <td>0.730954</td>\n",
              "      <td>0.644315</td>\n",
              "      <td>1.024017</td>\n",
              "      <td>0.391090</td>\n",
              "      <td>0.988340</td>\n",
              "      <td>0.411828</td>\n",
              "      <td>0.393585</td>\n",
              "      <td>0.461372</td>\n",
              "    </tr>\n",
              "    <tr>\n",
              "      <th>4</th>\n",
              "      <td>1</td>\n",
              "      <td>1</td>\n",
              "      <td>0</td>\n",
              "      <td>2</td>\n",
              "      <td>1</td>\n",
              "      <td>2</td>\n",
              "      <td>0</td>\n",
              "      <td>4</td>\n",
              "      <td>2</td>\n",
              "      <td>5</td>\n",
              "      <td>0.530447</td>\n",
              "      <td>0.729004</td>\n",
              "      <td>0.281723</td>\n",
              "      <td>0.444698</td>\n",
              "      <td>0.313032</td>\n",
              "      <td>0.431007</td>\n",
              "      <td>0.390992</td>\n",
              "      <td>0.408874</td>\n",
              "      <td>0.447887</td>\n",
              "      <td>0.390253</td>\n",
              "      <td>0.648932</td>\n",
              "      <td>0.385935</td>\n",
              "      <td>0.370401</td>\n",
              "      <td>0.900412</td>\n",
              "    </tr>\n",
              "  </tbody>\n",
              "</table>\n",
              "</div>"
            ],
            "text/plain": [
              "   cat0  cat1  cat2  cat3  ...    cont10    cont11    cont12    cont13\n",
              "0     1     1     1     2  ...  0.244476  0.087914  0.301831  0.845702\n",
              "1     0     1     0     2  ...  0.549568  0.905097  0.850684  0.693940\n",
              "2     1     0     0     0  ...  0.491667  0.384315  0.376689  0.508099\n",
              "3     1     1     0     2  ...  0.988340  0.411828  0.393585  0.461372\n",
              "4     1     1     0     2  ...  0.648932  0.385935  0.370401  0.900412\n",
              "\n",
              "[5 rows x 24 columns]"
            ]
          },
          "metadata": {},
          "execution_count": 50
        }
      ]
    },
    {
      "cell_type": "code",
      "metadata": {
        "id": "GO19seGcTjYC"
      },
      "source": [
        "preds = model.predict(X_test_cv)"
      ],
      "execution_count": null,
      "outputs": []
    },
    {
      "cell_type": "code",
      "metadata": {
        "colab": {
          "base_uri": "https://localhost:8080/",
          "height": 17
        },
        "id": "1IeEHG0ETjYC",
        "outputId": "d594908e-b350-414f-821b-48bf0f0c0050"
      },
      "source": [
        "sub = pd.DataFrame()\n",
        "sub['Id'] = test['id']\n",
        "sub['target'] = preds\n",
        "sub.to_csv('my_submission_keras_adam2layv2.csv',index=False)\n",
        "from google.colab import files\n",
        "files.download(\"my_submission_keras_adam2layv2.csv\")"
      ],
      "execution_count": null,
      "outputs": [
        {
          "output_type": "display_data",
          "data": {
            "application/javascript": [
              "\n",
              "    async function download(id, filename, size) {\n",
              "      if (!google.colab.kernel.accessAllowed) {\n",
              "        return;\n",
              "      }\n",
              "      const div = document.createElement('div');\n",
              "      const label = document.createElement('label');\n",
              "      label.textContent = `Downloading \"${filename}\": `;\n",
              "      div.appendChild(label);\n",
              "      const progress = document.createElement('progress');\n",
              "      progress.max = size;\n",
              "      div.appendChild(progress);\n",
              "      document.body.appendChild(div);\n",
              "\n",
              "      const buffers = [];\n",
              "      let downloaded = 0;\n",
              "\n",
              "      const channel = await google.colab.kernel.comms.open(id);\n",
              "      // Send a message to notify the kernel that we're ready.\n",
              "      channel.send({})\n",
              "\n",
              "      for await (const message of channel.messages) {\n",
              "        // Send a message to notify the kernel that we're ready.\n",
              "        channel.send({})\n",
              "        if (message.buffers) {\n",
              "          for (const buffer of message.buffers) {\n",
              "            buffers.push(buffer);\n",
              "            downloaded += buffer.byteLength;\n",
              "            progress.value = downloaded;\n",
              "          }\n",
              "        }\n",
              "      }\n",
              "      const blob = new Blob(buffers, {type: 'application/binary'});\n",
              "      const a = document.createElement('a');\n",
              "      a.href = window.URL.createObjectURL(blob);\n",
              "      a.download = filename;\n",
              "      div.appendChild(a);\n",
              "      a.click();\n",
              "      div.remove();\n",
              "    }\n",
              "  "
            ],
            "text/plain": [
              "<IPython.core.display.Javascript object>"
            ]
          },
          "metadata": {}
        },
        {
          "output_type": "display_data",
          "data": {
            "application/javascript": [
              "download(\"download_c82560a6-d894-4445-a864-7a9443451871\", \"my_submission_keras_adam2layv2.csv\", 3137421)"
            ],
            "text/plain": [
              "<IPython.core.display.Javascript object>"
            ]
          },
          "metadata": {}
        }
      ]
    },
    {
      "cell_type": "code",
      "metadata": {
        "colab": {
          "base_uri": "https://localhost:8080/",
          "height": 204
        },
        "id": "daUXG83BTjYC",
        "outputId": "cbaf2059-c459-4caa-e52d-1b0cff03ebad"
      },
      "source": [
        "sub.head()"
      ],
      "execution_count": null,
      "outputs": [
        {
          "output_type": "execute_result",
          "data": {
            "text/html": [
              "<div>\n",
              "<style scoped>\n",
              "    .dataframe tbody tr th:only-of-type {\n",
              "        vertical-align: middle;\n",
              "    }\n",
              "\n",
              "    .dataframe tbody tr th {\n",
              "        vertical-align: top;\n",
              "    }\n",
              "\n",
              "    .dataframe thead th {\n",
              "        text-align: right;\n",
              "    }\n",
              "</style>\n",
              "<table border=\"1\" class=\"dataframe\">\n",
              "  <thead>\n",
              "    <tr style=\"text-align: right;\">\n",
              "      <th></th>\n",
              "      <th>Id</th>\n",
              "      <th>target</th>\n",
              "    </tr>\n",
              "  </thead>\n",
              "  <tbody>\n",
              "    <tr>\n",
              "      <th>0</th>\n",
              "      <td>0</td>\n",
              "      <td>8.129260</td>\n",
              "    </tr>\n",
              "    <tr>\n",
              "      <th>1</th>\n",
              "      <td>5</td>\n",
              "      <td>8.274261</td>\n",
              "    </tr>\n",
              "    <tr>\n",
              "      <th>2</th>\n",
              "      <td>15</td>\n",
              "      <td>8.342939</td>\n",
              "    </tr>\n",
              "    <tr>\n",
              "      <th>3</th>\n",
              "      <td>16</td>\n",
              "      <td>8.193087</td>\n",
              "    </tr>\n",
              "    <tr>\n",
              "      <th>4</th>\n",
              "      <td>17</td>\n",
              "      <td>8.249970</td>\n",
              "    </tr>\n",
              "  </tbody>\n",
              "</table>\n",
              "</div>"
            ],
            "text/plain": [
              "   Id    target\n",
              "0   0  8.129260\n",
              "1   5  8.274261\n",
              "2  15  8.342939\n",
              "3  16  8.193087\n",
              "4  17  8.249970"
            ]
          },
          "metadata": {},
          "execution_count": 53
        }
      ]
    },
    {
      "cell_type": "markdown",
      "metadata": {
        "id": "Juhp2izkigOW"
      },
      "source": [
        "#Keras 4"
      ]
    },
    {
      "cell_type": "code",
      "metadata": {
        "id": "FHHpQsH-iiW-"
      },
      "source": [
        "def build_model(hp):\n",
        "    model = Sequential()\n",
        "       \n",
        "    model.add(Dense(units=hp.Int('units_input',    \n",
        "                                   min_value=64,    \n",
        "                                   max_value=512,   \n",
        "                                   step=32),\n",
        "                    input_dim=24, \n",
        "                    activation='relu'))\n",
        "    model.add(Dropout(0.3))\n",
        "    model.add(BatchNormalization())\n",
        "    model.add(Dense(units=hp.Int('units_hidden',        \n",
        "                                   min_value=64,   \n",
        "                                   max_value=512,   \n",
        "                                   step=32),\n",
        "                    activation='relu'))\n",
        "    model.add(Dropout(0.3))\n",
        "    model.add(BatchNormalization())\n",
        "    model.add(Dense(1)) \n",
        "    model.compile(\n",
        "        optimizer=hp.Choice('optimizer', values=['adam','SGD']),\n",
        "        loss='mae',\n",
        "        metrics=['mae'])\n",
        "    return model"
      ],
      "execution_count": null,
      "outputs": []
    },
    {
      "cell_type": "code",
      "metadata": {
        "id": "P2sqguR_iiW-"
      },
      "source": [
        "tuner = RandomSearch(\n",
        "    build_model,                 \n",
        "    objective='mae',    \n",
        "                                 \n",
        "    max_trials=10,                \n",
        "    directory='test_directory_7'     \n",
        "    )"
      ],
      "execution_count": null,
      "outputs": []
    },
    {
      "cell_type": "code",
      "metadata": {
        "colab": {
          "base_uri": "https://localhost:8080/"
        },
        "id": "pUe69iMNiiW-",
        "outputId": "13e85198-9e70-444b-a111-cf0a4e63db98"
      },
      "source": [
        "tuner.search_space_summary()"
      ],
      "execution_count": null,
      "outputs": [
        {
          "output_type": "stream",
          "text": [
            "Search space summary\n",
            "Default search space size: 3\n",
            "units_input (Int)\n",
            "{'default': None, 'conditions': [], 'min_value': 64, 'max_value': 512, 'step': 32, 'sampling': None}\n",
            "units_hidden (Int)\n",
            "{'default': None, 'conditions': [], 'min_value': 64, 'max_value': 512, 'step': 32, 'sampling': None}\n",
            "optimizer (Choice)\n",
            "{'default': 'adam', 'conditions': [], 'values': ['adam', 'SGD'], 'ordered': False}\n"
          ],
          "name": "stdout"
        }
      ]
    },
    {
      "cell_type": "code",
      "metadata": {
        "colab": {
          "base_uri": "https://localhost:8080/"
        },
        "id": "eQVY1SlliiW_",
        "outputId": "d6ea9b4f-9b1d-46b2-d58f-b9f7f8a71972"
      },
      "source": [
        "tuner.search(X_train_XGB,                  \n",
        "             y_train_XGB,                  \n",
        "             batch_size=512,           \n",
        "             epochs=20,                 \n",
        "             validation_split=0.2,     \n",
        "             )"
      ],
      "execution_count": null,
      "outputs": [
        {
          "output_type": "stream",
          "text": [
            "Trial 10 Complete [00h 00m 48s]\n",
            "mae: 0.5911945104598999\n",
            "\n",
            "Best mae So Far: 0.5876796841621399\n",
            "Total elapsed time: 00h 10m 21s\n",
            "INFO:tensorflow:Oracle triggered exit\n"
          ],
          "name": "stdout"
        }
      ]
    },
    {
      "cell_type": "code",
      "metadata": {
        "id": "s3Dc2_DyiiW_"
      },
      "source": [
        "models = tuner.get_best_models(num_models=2)"
      ],
      "execution_count": null,
      "outputs": []
    },
    {
      "cell_type": "code",
      "metadata": {
        "colab": {
          "base_uri": "https://localhost:8080/"
        },
        "id": "ToBVqDDJiiW_",
        "outputId": "e6ad99d4-9469-4ff2-e98f-b17aeb6f2808"
      },
      "source": [
        "for model in models:\n",
        "  model.summary()\n",
        "  model.evaluate(X_val_XGB, y_val_XGB)\n",
        "  print() "
      ],
      "execution_count": null,
      "outputs": [
        {
          "output_type": "stream",
          "text": [
            "Model: \"sequential\"\n",
            "_________________________________________________________________\n",
            "Layer (type)                 Output Shape              Param #   \n",
            "=================================================================\n",
            "dense (Dense)                (None, 192)               4800      \n",
            "_________________________________________________________________\n",
            "dropout (Dropout)            (None, 192)               0         \n",
            "_________________________________________________________________\n",
            "batch_normalization (BatchNo (None, 192)               768       \n",
            "_________________________________________________________________\n",
            "dense_1 (Dense)              (None, 352)               67936     \n",
            "_________________________________________________________________\n",
            "dropout_1 (Dropout)          (None, 352)               0         \n",
            "_________________________________________________________________\n",
            "batch_normalization_1 (Batch (None, 352)               1408      \n",
            "_________________________________________________________________\n",
            "dense_2 (Dense)              (None, 1)                 353       \n",
            "=================================================================\n",
            "Total params: 75,265\n",
            "Trainable params: 74,177\n",
            "Non-trainable params: 1,088\n",
            "_________________________________________________________________\n",
            "2344/2344 [==============================] - 7s 3ms/step - loss: 0.5885 - mae: 0.5885\n",
            "\n",
            "Model: \"sequential\"\n",
            "_________________________________________________________________\n",
            "Layer (type)                 Output Shape              Param #   \n",
            "=================================================================\n",
            "dense (Dense)                (None, 288)               7200      \n",
            "_________________________________________________________________\n",
            "dropout (Dropout)            (None, 288)               0         \n",
            "_________________________________________________________________\n",
            "batch_normalization (BatchNo (None, 288)               1152      \n",
            "_________________________________________________________________\n",
            "dense_1 (Dense)              (None, 352)               101728    \n",
            "_________________________________________________________________\n",
            "dropout_1 (Dropout)          (None, 352)               0         \n",
            "_________________________________________________________________\n",
            "batch_normalization_1 (Batch (None, 352)               1408      \n",
            "_________________________________________________________________\n",
            "dense_2 (Dense)              (None, 1)                 353       \n",
            "=================================================================\n",
            "Total params: 111,841\n",
            "Trainable params: 110,561\n",
            "Non-trainable params: 1,280\n",
            "_________________________________________________________________\n",
            "2344/2344 [==============================] - 6s 3ms/step - loss: 0.5871 - mae: 0.5871\n",
            "\n"
          ],
          "name": "stdout"
        }
      ]
    },
    {
      "cell_type": "code",
      "metadata": {
        "id": "7rk2RAd0iiW_"
      },
      "source": [
        "UNITS = 288\n",
        "UNITS_HIDDEN_1 = 352\n",
        "ACTIVATION = 'relu'\n",
        "BATCH_SIZE_PER_REPLICA = 512"
      ],
      "execution_count": null,
      "outputs": []
    },
    {
      "cell_type": "code",
      "metadata": {
        "id": "KL0cuy64iiW_"
      },
      "source": [
        "early_stopping = EarlyStopping(\n",
        "    min_delta=0.001, \n",
        "    patience=50, \n",
        "    restore_best_weights=True,\n",
        ")\n",
        "\n",
        "\n",
        "model = keras.Sequential([\n",
        "    layers.Dense(UNITS, ACTIVATION, input_shape=[X_train_XGB.shape[1]]),\n",
        "    layers.Dropout(0.3),\n",
        "    layers.BatchNormalization(),\n",
        "    layers.Dense(UNITS_HIDDEN_1, ACTIVATION),\n",
        "    layers.Dropout(0.3),\n",
        "    layers.BatchNormalization(),\n",
        "    layers.Dense(1)\n",
        "\n",
        "])"
      ],
      "execution_count": null,
      "outputs": []
    },
    {
      "cell_type": "code",
      "metadata": {
        "id": "xVccjNVliiW_"
      },
      "source": [
        "model.compile(\n",
        "    optimizer='adam', \n",
        "    loss='mae'\n",
        ")"
      ],
      "execution_count": null,
      "outputs": []
    },
    {
      "cell_type": "code",
      "metadata": {
        "colab": {
          "base_uri": "https://localhost:8080/",
          "height": 283
        },
        "id": "7szhISBTiiW_",
        "outputId": "99c116a1-73a0-4d9d-a9e7-81794faba1b1"
      },
      "source": [
        "history = model.fit(\n",
        "    X_train_XGB, y_train_XGB,\n",
        "    validation_data=(X_val_XGB, y_val_XGB),\n",
        "    batch_size=BATCH_SIZE_PER_REPLICA,\n",
        "    epochs=1000,\n",
        "    callbacks=early_stopping,\n",
        "    verbose=0,\n",
        ")\n",
        "\n",
        "\n",
        "history_df = pd.DataFrame(history.history)\n",
        "history_df.loc[:, ['loss', 'val_loss']].plot()\n",
        "print(\"Minimum Validation Loss: {:0.4f}\".format(history_df['val_loss'].min()))"
      ],
      "execution_count": null,
      "outputs": [
        {
          "output_type": "stream",
          "text": [
            "Minimum Validation Loss: 0.5830\n"
          ],
          "name": "stdout"
        },
        {
          "output_type": "display_data",
          "data": {
            "image/png": "[encoded data removed]",
            "text/plain": [
              "<Figure size 432x288 with 1 Axes>"
            ]
          },
          "metadata": {
            "needs_background": "light"
          }
        }
      ]
    },
    {
      "cell_type": "code",
      "metadata": {
        "colab": {
          "base_uri": "https://localhost:8080/"
        },
        "id": "VqrqgdzTiiW_",
        "outputId": "93da1d7c-4ce5-4e1c-ae1a-6beb7fd7b4c4"
      },
      "source": [
        "print(mean_squared_error(y_val_XGB, model.predict(X_val_XGB), squared=False))"
      ],
      "execution_count": null,
      "outputs": [
        {
          "output_type": "stream",
          "text": [
            "0.7388541738165599\n"
          ],
          "name": "stdout"
        }
      ]
    },
    {
      "cell_type": "code",
      "metadata": {
        "colab": {
          "base_uri": "https://localhost:8080/",
          "height": 224
        },
        "id": "rTifmZZdiiW_",
        "outputId": "7fe968f3-954c-4e90-8670-bb550b5c84de"
      },
      "source": [
        "X_test_cv.head()"
      ],
      "execution_count": null,
      "outputs": [
        {
          "output_type": "execute_result",
          "data": {
            "text/html": [
              "<div>\n",
              "<style scoped>\n",
              "    .dataframe tbody tr th:only-of-type {\n",
              "        vertical-align: middle;\n",
              "    }\n",
              "\n",
              "    .dataframe tbody tr th {\n",
              "        vertical-align: top;\n",
              "    }\n",
              "\n",
              "    .dataframe thead th {\n",
              "        text-align: right;\n",
              "    }\n",
              "</style>\n",
              "<table border=\"1\" class=\"dataframe\">\n",
              "  <thead>\n",
              "    <tr style=\"text-align: right;\">\n",
              "      <th></th>\n",
              "      <th>cat0</th>\n",
              "      <th>cat1</th>\n",
              "      <th>cat2</th>\n",
              "      <th>cat3</th>\n",
              "      <th>cat4</th>\n",
              "      <th>cat5</th>\n",
              "      <th>cat6</th>\n",
              "      <th>cat7</th>\n",
              "      <th>cat8</th>\n",
              "      <th>cat9</th>\n",
              "      <th>cont0</th>\n",
              "      <th>cont1</th>\n",
              "      <th>cont2</th>\n",
              "      <th>cont3</th>\n",
              "      <th>cont4</th>\n",
              "      <th>cont5</th>\n",
              "      <th>cont6</th>\n",
              "      <th>cont7</th>\n",
              "      <th>cont8</th>\n",
              "      <th>cont9</th>\n",
              "      <th>cont10</th>\n",
              "      <th>cont11</th>\n",
              "      <th>cont12</th>\n",
              "      <th>cont13</th>\n",
              "    </tr>\n",
              "  </thead>\n",
              "  <tbody>\n",
              "    <tr>\n",
              "      <th>0</th>\n",
              "      <td>1</td>\n",
              "      <td>1</td>\n",
              "      <td>1</td>\n",
              "      <td>2</td>\n",
              "      <td>1</td>\n",
              "      <td>1</td>\n",
              "      <td>0</td>\n",
              "      <td>4</td>\n",
              "      <td>4</td>\n",
              "      <td>8</td>\n",
              "      <td>0.296227</td>\n",
              "      <td>0.686757</td>\n",
              "      <td>0.587731</td>\n",
              "      <td>0.392753</td>\n",
              "      <td>0.476739</td>\n",
              "      <td>0.376350</td>\n",
              "      <td>0.337884</td>\n",
              "      <td>0.321832</td>\n",
              "      <td>0.445212</td>\n",
              "      <td>0.290258</td>\n",
              "      <td>0.244476</td>\n",
              "      <td>0.087914</td>\n",
              "      <td>0.301831</td>\n",
              "      <td>0.845702</td>\n",
              "    </tr>\n",
              "    <tr>\n",
              "      <th>1</th>\n",
              "      <td>0</td>\n",
              "      <td>1</td>\n",
              "      <td>0</td>\n",
              "      <td>2</td>\n",
              "      <td>1</td>\n",
              "      <td>2</td>\n",
              "      <td>0</td>\n",
              "      <td>4</td>\n",
              "      <td>2</td>\n",
              "      <td>7</td>\n",
              "      <td>0.543707</td>\n",
              "      <td>0.364761</td>\n",
              "      <td>0.452967</td>\n",
              "      <td>0.929645</td>\n",
              "      <td>0.285509</td>\n",
              "      <td>0.860046</td>\n",
              "      <td>0.798712</td>\n",
              "      <td>0.835961</td>\n",
              "      <td>0.391657</td>\n",
              "      <td>0.288276</td>\n",
              "      <td>0.549568</td>\n",
              "      <td>0.905097</td>\n",
              "      <td>0.850684</td>\n",
              "      <td>0.693940</td>\n",
              "    </tr>\n",
              "    <tr>\n",
              "      <th>2</th>\n",
              "      <td>1</td>\n",
              "      <td>0</td>\n",
              "      <td>0</td>\n",
              "      <td>0</td>\n",
              "      <td>1</td>\n",
              "      <td>1</td>\n",
              "      <td>0</td>\n",
              "      <td>4</td>\n",
              "      <td>3</td>\n",
              "      <td>10</td>\n",
              "      <td>0.408961</td>\n",
              "      <td>0.296129</td>\n",
              "      <td>0.690999</td>\n",
              "      <td>0.740027</td>\n",
              "      <td>0.697272</td>\n",
              "      <td>0.683600</td>\n",
              "      <td>0.404089</td>\n",
              "      <td>0.879379</td>\n",
              "      <td>0.275549</td>\n",
              "      <td>0.427871</td>\n",
              "      <td>0.491667</td>\n",
              "      <td>0.384315</td>\n",
              "      <td>0.376689</td>\n",
              "      <td>0.508099</td>\n",
              "    </tr>\n",
              "    <tr>\n",
              "      <th>3</th>\n",
              "      <td>1</td>\n",
              "      <td>1</td>\n",
              "      <td>0</td>\n",
              "      <td>2</td>\n",
              "      <td>1</td>\n",
              "      <td>3</td>\n",
              "      <td>0</td>\n",
              "      <td>4</td>\n",
              "      <td>0</td>\n",
              "      <td>13</td>\n",
              "      <td>1.031239</td>\n",
              "      <td>0.356062</td>\n",
              "      <td>0.303651</td>\n",
              "      <td>0.895591</td>\n",
              "      <td>0.719306</td>\n",
              "      <td>0.777890</td>\n",
              "      <td>0.730954</td>\n",
              "      <td>0.644315</td>\n",
              "      <td>1.024017</td>\n",
              "      <td>0.391090</td>\n",
              "      <td>0.988340</td>\n",
              "      <td>0.411828</td>\n",
              "      <td>0.393585</td>\n",
              "      <td>0.461372</td>\n",
              "    </tr>\n",
              "    <tr>\n",
              "      <th>4</th>\n",
              "      <td>1</td>\n",
              "      <td>1</td>\n",
              "      <td>0</td>\n",
              "      <td>2</td>\n",
              "      <td>1</td>\n",
              "      <td>2</td>\n",
              "      <td>0</td>\n",
              "      <td>4</td>\n",
              "      <td>2</td>\n",
              "      <td>5</td>\n",
              "      <td>0.530447</td>\n",
              "      <td>0.729004</td>\n",
              "      <td>0.281723</td>\n",
              "      <td>0.444698</td>\n",
              "      <td>0.313032</td>\n",
              "      <td>0.431007</td>\n",
              "      <td>0.390992</td>\n",
              "      <td>0.408874</td>\n",
              "      <td>0.447887</td>\n",
              "      <td>0.390253</td>\n",
              "      <td>0.648932</td>\n",
              "      <td>0.385935</td>\n",
              "      <td>0.370401</td>\n",
              "      <td>0.900412</td>\n",
              "    </tr>\n",
              "  </tbody>\n",
              "</table>\n",
              "</div>"
            ],
            "text/plain": [
              "   cat0  cat1  cat2  cat3  ...    cont10    cont11    cont12    cont13\n",
              "0     1     1     1     2  ...  0.244476  0.087914  0.301831  0.845702\n",
              "1     0     1     0     2  ...  0.549568  0.905097  0.850684  0.693940\n",
              "2     1     0     0     0  ...  0.491667  0.384315  0.376689  0.508099\n",
              "3     1     1     0     2  ...  0.988340  0.411828  0.393585  0.461372\n",
              "4     1     1     0     2  ...  0.648932  0.385935  0.370401  0.900412\n",
              "\n",
              "[5 rows x 24 columns]"
            ]
          },
          "metadata": {},
          "execution_count": 67
        }
      ]
    },
    {
      "cell_type": "code",
      "metadata": {
        "id": "q-u2qvohiiW_"
      },
      "source": [
        "preds = model.predict(X_test_cv)"
      ],
      "execution_count": null,
      "outputs": []
    },
    {
      "cell_type": "code",
      "metadata": {
        "colab": {
          "base_uri": "https://localhost:8080/",
          "height": 17
        },
        "id": "FJiQYHOOiiW_",
        "outputId": "1244f298-d8a8-468f-e8ca-bffb81786ae3"
      },
      "source": [
        "sub = pd.DataFrame()\n",
        "sub['Id'] = test['id']\n",
        "sub['target'] = preds\n",
        "sub.to_csv('my_submission_keras_4.csv',index=False)\n",
        "from google.colab import files\n",
        "files.download(\"my_submission_keras_4.csv\")"
      ],
      "execution_count": null,
      "outputs": [
        {
          "output_type": "display_data",
          "data": {
            "application/javascript": [
              "\n",
              "    async function download(id, filename, size) {\n",
              "      if (!google.colab.kernel.accessAllowed) {\n",
              "        return;\n",
              "      }\n",
              "      const div = document.createElement('div');\n",
              "      const label = document.createElement('label');\n",
              "      label.textContent = `Downloading \"${filename}\": `;\n",
              "      div.appendChild(label);\n",
              "      const progress = document.createElement('progress');\n",
              "      progress.max = size;\n",
              "      div.appendChild(progress);\n",
              "      document.body.appendChild(div);\n",
              "\n",
              "      const buffers = [];\n",
              "      let downloaded = 0;\n",
              "\n",
              "      const channel = await google.colab.kernel.comms.open(id);\n",
              "      // Send a message to notify the kernel that we're ready.\n",
              "      channel.send({})\n",
              "\n",
              "      for await (const message of channel.messages) {\n",
              "        // Send a message to notify the kernel that we're ready.\n",
              "        channel.send({})\n",
              "        if (message.buffers) {\n",
              "          for (const buffer of message.buffers) {\n",
              "            buffers.push(buffer);\n",
              "            downloaded += buffer.byteLength;\n",
              "            progress.value = downloaded;\n",
              "          }\n",
              "        }\n",
              "      }\n",
              "      const blob = new Blob(buffers, {type: 'application/binary'});\n",
              "      const a = document.createElement('a');\n",
              "      a.href = window.URL.createObjectURL(blob);\n",
              "      a.download = filename;\n",
              "      div.appendChild(a);\n",
              "      a.click();\n",
              "      div.remove();\n",
              "    }\n",
              "  "
            ],
            "text/plain": [
              "<IPython.core.display.Javascript object>"
            ]
          },
          "metadata": {}
        },
        {
          "output_type": "display_data",
          "data": {
            "application/javascript": [
              "download(\"download_997f0f2c-c12b-4de4-ba26-270795138610\", \"my_submission_keras_4.csv\", 3144479)"
            ],
            "text/plain": [
              "<IPython.core.display.Javascript object>"
            ]
          },
          "metadata": {}
        }
      ]
    },
    {
      "cell_type": "code",
      "metadata": {
        "colab": {
          "base_uri": "https://localhost:8080/",
          "height": 204
        },
        "id": "RECOKxIxiiW_",
        "outputId": "c37ae3d3-8812-4604-bf62-0bc5f35e7c01"
      },
      "source": [
        "sub.head()"
      ],
      "execution_count": null,
      "outputs": [
        {
          "output_type": "execute_result",
          "data": {
            "text/html": [
              "<div>\n",
              "<style scoped>\n",
              "    .dataframe tbody tr th:only-of-type {\n",
              "        vertical-align: middle;\n",
              "    }\n",
              "\n",
              "    .dataframe tbody tr th {\n",
              "        vertical-align: top;\n",
              "    }\n",
              "\n",
              "    .dataframe thead th {\n",
              "        text-align: right;\n",
              "    }\n",
              "</style>\n",
              "<table border=\"1\" class=\"dataframe\">\n",
              "  <thead>\n",
              "    <tr style=\"text-align: right;\">\n",
              "      <th></th>\n",
              "      <th>Id</th>\n",
              "      <th>target</th>\n",
              "    </tr>\n",
              "  </thead>\n",
              "  <tbody>\n",
              "    <tr>\n",
              "      <th>0</th>\n",
              "      <td>0</td>\n",
              "      <td>8.043885</td>\n",
              "    </tr>\n",
              "    <tr>\n",
              "      <th>1</th>\n",
              "      <td>5</td>\n",
              "      <td>8.237064</td>\n",
              "    </tr>\n",
              "    <tr>\n",
              "      <th>2</th>\n",
              "      <td>15</td>\n",
              "      <td>8.298949</td>\n",
              "    </tr>\n",
              "    <tr>\n",
              "      <th>3</th>\n",
              "      <td>16</td>\n",
              "      <td>8.102369</td>\n",
              "    </tr>\n",
              "    <tr>\n",
              "      <th>4</th>\n",
              "      <td>17</td>\n",
              "      <td>8.143108</td>\n",
              "    </tr>\n",
              "  </tbody>\n",
              "</table>\n",
              "</div>"
            ],
            "text/plain": [
              "   Id    target\n",
              "0   0  8.043885\n",
              "1   5  8.237064\n",
              "2  15  8.298949\n",
              "3  16  8.102369\n",
              "4  17  8.143108"
            ]
          },
          "metadata": {},
          "execution_count": 70
        }
      ]
    },
    {
      "cell_type": "markdown",
      "metadata": {
        "id": "90ZMbmaYjPVj"
      },
      "source": [
        "# Keras 5"
      ]
    },
    {
      "cell_type": "code",
      "metadata": {
        "id": "cJ79MtpPjPqi"
      },
      "source": [
        "def build_model(hp):\n",
        "    model = Sequential()\n",
        "       \n",
        "    model.add(Dense(units=hp.Int('units_input',    \n",
        "                                   min_value=24,    \n",
        "                                   max_value=216,   \n",
        "                                   step=12),\n",
        "                    input_dim=24, \n",
        "                    activation='relu'))\n",
        "    model.add(Dropout(0.3))\n",
        "    model.add(BatchNormalization())\n",
        "    model.add(Dense(units=hp.Int('units_hidden',        \n",
        "                                   min_value=24,   \n",
        "                                   max_value=128,   \n",
        "                                   step=24),\n",
        "                    activation='relu'))\n",
        "    model.add(Dense(1)) \n",
        "    model.compile(\n",
        "        optimizer=hp.Choice('optimizer', values=['adam','SGD']),\n",
        "        loss='mae',\n",
        "        metrics=['mae'])\n",
        "    return model"
      ],
      "execution_count": null,
      "outputs": []
    },
    {
      "cell_type": "code",
      "metadata": {
        "id": "VhdCR6_WjPqj"
      },
      "source": [
        "tuner = RandomSearch(\n",
        "    build_model,                 \n",
        "    objective='mae',    \n",
        "                                 \n",
        "    max_trials=10,                \n",
        "    directory='test_directory_8'     \n",
        "    )"
      ],
      "execution_count": null,
      "outputs": []
    },
    {
      "cell_type": "code",
      "metadata": {
        "colab": {
          "base_uri": "https://localhost:8080/"
        },
        "id": "tjgPsWsbjPqj",
        "outputId": "253eaa91-fb39-4c47-f254-7c9cb09283b1"
      },
      "source": [
        "tuner.search_space_summary()"
      ],
      "execution_count": null,
      "outputs": [
        {
          "output_type": "stream",
          "text": [
            "Search space summary\n",
            "Default search space size: 3\n",
            "units_input (Int)\n",
            "{'default': None, 'conditions': [], 'min_value': 24, 'max_value': 216, 'step': 12, 'sampling': None}\n",
            "units_hidden (Int)\n",
            "{'default': None, 'conditions': [], 'min_value': 24, 'max_value': 128, 'step': 24, 'sampling': None}\n",
            "optimizer (Choice)\n",
            "{'default': 'adam', 'conditions': [], 'values': ['adam', 'SGD'], 'ordered': False}\n"
          ],
          "name": "stdout"
        }
      ]
    },
    {
      "cell_type": "code",
      "metadata": {
        "colab": {
          "base_uri": "https://localhost:8080/"
        },
        "id": "r09ATr8fjPqk",
        "outputId": "9a16e195-b436-4dd9-9030-667c8d142374"
      },
      "source": [
        "tuner.search(X_train_XGB,                  \n",
        "             y_train_XGB,                  \n",
        "             batch_size=16,           \n",
        "             epochs=10,                 \n",
        "             validation_split=0.2,     \n",
        "             )"
      ],
      "execution_count": null,
      "outputs": [
        {
          "output_type": "stream",
          "text": [
            "Trial 10 Complete [00h 04m 22s]\n",
            "mae: 0.593205451965332\n",
            "\n",
            "Best mae So Far: 0.5923649072647095\n",
            "Total elapsed time: 00h 51m 25s\n",
            "INFO:tensorflow:Oracle triggered exit\n"
          ],
          "name": "stdout"
        }
      ]
    },
    {
      "cell_type": "code",
      "metadata": {
        "id": "P4YvSmE4jPqk"
      },
      "source": [
        "models = tuner.get_best_models(num_models=2)"
      ],
      "execution_count": null,
      "outputs": []
    },
    {
      "cell_type": "code",
      "metadata": {
        "colab": {
          "base_uri": "https://localhost:8080/"
        },
        "id": "0d7bZP6ujPqk",
        "outputId": "c953b5d6-916b-4840-bb5d-1b9749b5ee36"
      },
      "source": [
        "for model in models:\n",
        "  model.summary()\n",
        "  model.evaluate(X_val_XGB, y_val_XGB)\n",
        "  print() "
      ],
      "execution_count": null,
      "outputs": [
        {
          "output_type": "stream",
          "text": [
            "Model: \"sequential\"\n",
            "_________________________________________________________________\n",
            "Layer (type)                 Output Shape              Param #   \n",
            "=================================================================\n",
            "dense (Dense)                (None, 84)                2100      \n",
            "_________________________________________________________________\n",
            "dropout (Dropout)            (None, 84)                0         \n",
            "_________________________________________________________________\n",
            "batch_normalization (BatchNo (None, 84)                336       \n",
            "_________________________________________________________________\n",
            "dense_1 (Dense)              (None, 120)               10200     \n",
            "_________________________________________________________________\n",
            "dense_2 (Dense)              (None, 1)                 121       \n",
            "=================================================================\n",
            "Total params: 12,757\n",
            "Trainable params: 12,589\n",
            "Non-trainable params: 168\n",
            "_________________________________________________________________\n",
            "2344/2344 [==============================] - 3s 1ms/step - loss: 0.5896 - mae: 0.5896\n",
            "\n",
            "Model: \"sequential\"\n",
            "_________________________________________________________________\n",
            "Layer (type)                 Output Shape              Param #   \n",
            "=================================================================\n",
            "dense (Dense)                (None, 48)                1200      \n",
            "_________________________________________________________________\n",
            "dropout (Dropout)            (None, 48)                0         \n",
            "_________________________________________________________________\n",
            "batch_normalization (BatchNo (None, 48)                192       \n",
            "_________________________________________________________________\n",
            "dense_1 (Dense)              (None, 72)                3528      \n",
            "_________________________________________________________________\n",
            "dense_2 (Dense)              (None, 1)                 73        \n",
            "=================================================================\n",
            "Total params: 4,993\n",
            "Trainable params: 4,897\n",
            "Non-trainable params: 96\n",
            "_________________________________________________________________\n",
            "2344/2344 [==============================] - 3s 1ms/step - loss: 0.5865 - mae: 0.5865\n",
            "\n"
          ],
          "name": "stdout"
        }
      ]
    },
    {
      "cell_type": "code",
      "metadata": {
        "id": "HqGriIbBjPqk"
      },
      "source": [
        "UNITS = 48\n",
        "UNITS_HIDDEN_1 = 72\n",
        "ACTIVATION = 'relu'\n",
        "BATCH_SIZE_PER_REPLICA = 16"
      ],
      "execution_count": null,
      "outputs": []
    },
    {
      "cell_type": "code",
      "metadata": {
        "id": "SJMurXKjjPqk"
      },
      "source": [
        "early_stopping = EarlyStopping(\n",
        "    mode='min', \n",
        "    patience=200,\n",
        "    restore_best_weights=True,\n",
        ")\n",
        "\n",
        "\n",
        "model = keras.Sequential([\n",
        "    layers.Dense(UNITS, ACTIVATION, input_shape=[X_train_XGB.shape[1]]),\n",
        "    layers.Dropout(0.3),\n",
        "    layers.BatchNormalization(),\n",
        "    layers.Dense(UNITS_HIDDEN_1, ACTIVATION),\n",
        "    layers.Dense(1)\n",
        "\n",
        "])"
      ],
      "execution_count": null,
      "outputs": []
    },
    {
      "cell_type": "code",
      "metadata": {
        "id": "AWurOvErjPqk"
      },
      "source": [
        "model.compile(\n",
        "    optimizer='adam', \n",
        "    loss='mae'\n",
        ")"
      ],
      "execution_count": null,
      "outputs": []
    },
    {
      "cell_type": "code",
      "metadata": {
        "colab": {
          "base_uri": "https://localhost:8080/",
          "height": 282
        },
        "id": "UZb7CnycjPqk",
        "outputId": "c4ffcc9d-892c-4bac-b8b7-2fd1274c4cf8"
      },
      "source": [
        "history = model.fit(\n",
        "    X_train_XGB, y_train_XGB,\n",
        "    validation_data=(X_val_XGB, y_val_XGB),\n",
        "    batch_size=BATCH_SIZE_PER_REPLICA,\n",
        "    epochs=1000,\n",
        "    callbacks=early_stopping,\n",
        "    verbose=0,\n",
        ")\n",
        "\n",
        "\n",
        "history_df = pd.DataFrame(history.history)\n",
        "history_df.loc[:, ['loss', 'val_loss']].plot()\n",
        "print(\"Minimum Validation Loss: {:0.4f}\".format(history_df['val_loss'].min()))"
      ],
      "execution_count": null,
      "outputs": [
        {
          "output_type": "stream",
          "text": [
            "Minimum Validation Loss: 0.5841\n"
          ],
          "name": "stdout"
        },
        {
          "output_type": "display_data",
          "data": {
            "image/png": "[encoded data removed]",
            "text/plain": [
              "<Figure size 432x288 with 1 Axes>"
            ]
          },
          "metadata": {
            "needs_background": "light"
          }
        }
      ]
    },
    {
      "cell_type": "code",
      "metadata": {
        "colab": {
          "base_uri": "https://localhost:8080/"
        },
        "id": "Mjwhf021jPql",
        "outputId": "623e2dec-1bfd-4c41-ff1c-12c9d7c8f13a"
      },
      "source": [
        "print(mean_squared_error(y_val_XGB, model.predict(X_val_XGB), squared=False))"
      ],
      "execution_count": null,
      "outputs": [
        {
          "output_type": "stream",
          "text": [
            "0.7397565453850714\n"
          ],
          "name": "stdout"
        }
      ]
    },
    {
      "cell_type": "code",
      "metadata": {
        "colab": {
          "base_uri": "https://localhost:8080/",
          "height": 224
        },
        "id": "riByQ-cSjPql",
        "outputId": "2e3cd59b-9c11-49ee-dd18-555decac2417"
      },
      "source": [
        "X_test_cv.head()"
      ],
      "execution_count": null,
      "outputs": [
        {
          "output_type": "execute_result",
          "data": {
            "text/html": [
              "<div>\n",
              "<style scoped>\n",
              "    .dataframe tbody tr th:only-of-type {\n",
              "        vertical-align: middle;\n",
              "    }\n",
              "\n",
              "    .dataframe tbody tr th {\n",
              "        vertical-align: top;\n",
              "    }\n",
              "\n",
              "    .dataframe thead th {\n",
              "        text-align: right;\n",
              "    }\n",
              "</style>\n",
              "<table border=\"1\" class=\"dataframe\">\n",
              "  <thead>\n",
              "    <tr style=\"text-align: right;\">\n",
              "      <th></th>\n",
              "      <th>cat0</th>\n",
              "      <th>cat1</th>\n",
              "      <th>cat2</th>\n",
              "      <th>cat3</th>\n",
              "      <th>cat4</th>\n",
              "      <th>cat5</th>\n",
              "      <th>cat6</th>\n",
              "      <th>cat7</th>\n",
              "      <th>cat8</th>\n",
              "      <th>cat9</th>\n",
              "      <th>cont0</th>\n",
              "      <th>cont1</th>\n",
              "      <th>cont2</th>\n",
              "      <th>cont3</th>\n",
              "      <th>cont4</th>\n",
              "      <th>cont5</th>\n",
              "      <th>cont6</th>\n",
              "      <th>cont7</th>\n",
              "      <th>cont8</th>\n",
              "      <th>cont9</th>\n",
              "      <th>cont10</th>\n",
              "      <th>cont11</th>\n",
              "      <th>cont12</th>\n",
              "      <th>cont13</th>\n",
              "    </tr>\n",
              "  </thead>\n",
              "  <tbody>\n",
              "    <tr>\n",
              "      <th>0</th>\n",
              "      <td>1</td>\n",
              "      <td>1</td>\n",
              "      <td>1</td>\n",
              "      <td>2</td>\n",
              "      <td>1</td>\n",
              "      <td>1</td>\n",
              "      <td>0</td>\n",
              "      <td>4</td>\n",
              "      <td>4</td>\n",
              "      <td>8</td>\n",
              "      <td>0.296227</td>\n",
              "      <td>0.686757</td>\n",
              "      <td>0.587731</td>\n",
              "      <td>0.392753</td>\n",
              "      <td>0.476739</td>\n",
              "      <td>0.376350</td>\n",
              "      <td>0.337884</td>\n",
              "      <td>0.321832</td>\n",
              "      <td>0.445212</td>\n",
              "      <td>0.290258</td>\n",
              "      <td>0.244476</td>\n",
              "      <td>0.087914</td>\n",
              "      <td>0.301831</td>\n",
              "      <td>0.845702</td>\n",
              "    </tr>\n",
              "    <tr>\n",
              "      <th>1</th>\n",
              "      <td>0</td>\n",
              "      <td>1</td>\n",
              "      <td>0</td>\n",
              "      <td>2</td>\n",
              "      <td>1</td>\n",
              "      <td>2</td>\n",
              "      <td>0</td>\n",
              "      <td>4</td>\n",
              "      <td>2</td>\n",
              "      <td>7</td>\n",
              "      <td>0.543707</td>\n",
              "      <td>0.364761</td>\n",
              "      <td>0.452967</td>\n",
              "      <td>0.929645</td>\n",
              "      <td>0.285509</td>\n",
              "      <td>0.860046</td>\n",
              "      <td>0.798712</td>\n",
              "      <td>0.835961</td>\n",
              "      <td>0.391657</td>\n",
              "      <td>0.288276</td>\n",
              "      <td>0.549568</td>\n",
              "      <td>0.905097</td>\n",
              "      <td>0.850684</td>\n",
              "      <td>0.693940</td>\n",
              "    </tr>\n",
              "    <tr>\n",
              "      <th>2</th>\n",
              "      <td>1</td>\n",
              "      <td>0</td>\n",
              "      <td>0</td>\n",
              "      <td>0</td>\n",
              "      <td>1</td>\n",
              "      <td>1</td>\n",
              "      <td>0</td>\n",
              "      <td>4</td>\n",
              "      <td>3</td>\n",
              "      <td>10</td>\n",
              "      <td>0.408961</td>\n",
              "      <td>0.296129</td>\n",
              "      <td>0.690999</td>\n",
              "      <td>0.740027</td>\n",
              "      <td>0.697272</td>\n",
              "      <td>0.683600</td>\n",
              "      <td>0.404089</td>\n",
              "      <td>0.879379</td>\n",
              "      <td>0.275549</td>\n",
              "      <td>0.427871</td>\n",
              "      <td>0.491667</td>\n",
              "      <td>0.384315</td>\n",
              "      <td>0.376689</td>\n",
              "      <td>0.508099</td>\n",
              "    </tr>\n",
              "    <tr>\n",
              "      <th>3</th>\n",
              "      <td>1</td>\n",
              "      <td>1</td>\n",
              "      <td>0</td>\n",
              "      <td>2</td>\n",
              "      <td>1</td>\n",
              "      <td>3</td>\n",
              "      <td>0</td>\n",
              "      <td>4</td>\n",
              "      <td>0</td>\n",
              "      <td>13</td>\n",
              "      <td>1.031239</td>\n",
              "      <td>0.356062</td>\n",
              "      <td>0.303651</td>\n",
              "      <td>0.895591</td>\n",
              "      <td>0.719306</td>\n",
              "      <td>0.777890</td>\n",
              "      <td>0.730954</td>\n",
              "      <td>0.644315</td>\n",
              "      <td>1.024017</td>\n",
              "      <td>0.391090</td>\n",
              "      <td>0.988340</td>\n",
              "      <td>0.411828</td>\n",
              "      <td>0.393585</td>\n",
              "      <td>0.461372</td>\n",
              "    </tr>\n",
              "    <tr>\n",
              "      <th>4</th>\n",
              "      <td>1</td>\n",
              "      <td>1</td>\n",
              "      <td>0</td>\n",
              "      <td>2</td>\n",
              "      <td>1</td>\n",
              "      <td>2</td>\n",
              "      <td>0</td>\n",
              "      <td>4</td>\n",
              "      <td>2</td>\n",
              "      <td>5</td>\n",
              "      <td>0.530447</td>\n",
              "      <td>0.729004</td>\n",
              "      <td>0.281723</td>\n",
              "      <td>0.444698</td>\n",
              "      <td>0.313032</td>\n",
              "      <td>0.431007</td>\n",
              "      <td>0.390992</td>\n",
              "      <td>0.408874</td>\n",
              "      <td>0.447887</td>\n",
              "      <td>0.390253</td>\n",
              "      <td>0.648932</td>\n",
              "      <td>0.385935</td>\n",
              "      <td>0.370401</td>\n",
              "      <td>0.900412</td>\n",
              "    </tr>\n",
              "  </tbody>\n",
              "</table>\n",
              "</div>"
            ],
            "text/plain": [
              "   cat0  cat1  cat2  cat3  ...    cont10    cont11    cont12    cont13\n",
              "0     1     1     1     2  ...  0.244476  0.087914  0.301831  0.845702\n",
              "1     0     1     0     2  ...  0.549568  0.905097  0.850684  0.693940\n",
              "2     1     0     0     0  ...  0.491667  0.384315  0.376689  0.508099\n",
              "3     1     1     0     2  ...  0.988340  0.411828  0.393585  0.461372\n",
              "4     1     1     0     2  ...  0.648932  0.385935  0.370401  0.900412\n",
              "\n",
              "[5 rows x 24 columns]"
            ]
          },
          "metadata": {},
          "execution_count": 69
        }
      ]
    },
    {
      "cell_type": "code",
      "metadata": {
        "id": "54DwmnTjjPql"
      },
      "source": [
        "preds = model.predict(X_test_cv)"
      ],
      "execution_count": null,
      "outputs": []
    },
    {
      "cell_type": "code",
      "metadata": {
        "colab": {
          "base_uri": "https://localhost:8080/",
          "height": 17
        },
        "id": "_zoV-Xi0jPql",
        "outputId": "b442939b-0394-4ddb-b55e-fe1a084299f1"
      },
      "source": [
        "sub = pd.DataFrame()\n",
        "sub['Id'] = test['id']\n",
        "sub['target'] = preds\n",
        "sub.to_csv('my_submission_keras_5.csv',index=False)\n",
        "from google.colab import files\n",
        "files.download(\"my_submission_keras_5.csv\")"
      ],
      "execution_count": null,
      "outputs": [
        {
          "output_type": "display_data",
          "data": {
            "application/javascript": [
              "\n",
              "    async function download(id, filename, size) {\n",
              "      if (!google.colab.kernel.accessAllowed) {\n",
              "        return;\n",
              "      }\n",
              "      const div = document.createElement('div');\n",
              "      const label = document.createElement('label');\n",
              "      label.textContent = `Downloading \"${filename}\": `;\n",
              "      div.appendChild(label);\n",
              "      const progress = document.createElement('progress');\n",
              "      progress.max = size;\n",
              "      div.appendChild(progress);\n",
              "      document.body.appendChild(div);\n",
              "\n",
              "      const buffers = [];\n",
              "      let downloaded = 0;\n",
              "\n",
              "      const channel = await google.colab.kernel.comms.open(id);\n",
              "      // Send a message to notify the kernel that we're ready.\n",
              "      channel.send({})\n",
              "\n",
              "      for await (const message of channel.messages) {\n",
              "        // Send a message to notify the kernel that we're ready.\n",
              "        channel.send({})\n",
              "        if (message.buffers) {\n",
              "          for (const buffer of message.buffers) {\n",
              "            buffers.push(buffer);\n",
              "            downloaded += buffer.byteLength;\n",
              "            progress.value = downloaded;\n",
              "          }\n",
              "        }\n",
              "      }\n",
              "      const blob = new Blob(buffers, {type: 'application/binary'});\n",
              "      const a = document.createElement('a');\n",
              "      a.href = window.URL.createObjectURL(blob);\n",
              "      a.download = filename;\n",
              "      div.appendChild(a);\n",
              "      a.click();\n",
              "      div.remove();\n",
              "    }\n",
              "  "
            ],
            "text/plain": [
              "<IPython.core.display.Javascript object>"
            ]
          },
          "metadata": {}
        },
        {
          "output_type": "display_data",
          "data": {
            "application/javascript": [
              "download(\"download_e503a65e-9df0-4881-a22e-d6b8e251447a\", \"my_submission_keras_5.csv\", 3145818)"
            ],
            "text/plain": [
              "<IPython.core.display.Javascript object>"
            ]
          },
          "metadata": {}
        }
      ]
    },
    {
      "cell_type": "code",
      "metadata": {
        "colab": {
          "base_uri": "https://localhost:8080/",
          "height": 204
        },
        "id": "GJr7kF-yjPql",
        "outputId": "d6904408-ec18-415b-db14-11f60d25b1f3"
      },
      "source": [
        "sub.head()"
      ],
      "execution_count": null,
      "outputs": [
        {
          "output_type": "execute_result",
          "data": {
            "text/html": [
              "<div>\n",
              "<style scoped>\n",
              "    .dataframe tbody tr th:only-of-type {\n",
              "        vertical-align: middle;\n",
              "    }\n",
              "\n",
              "    .dataframe tbody tr th {\n",
              "        vertical-align: top;\n",
              "    }\n",
              "\n",
              "    .dataframe thead th {\n",
              "        text-align: right;\n",
              "    }\n",
              "</style>\n",
              "<table border=\"1\" class=\"dataframe\">\n",
              "  <thead>\n",
              "    <tr style=\"text-align: right;\">\n",
              "      <th></th>\n",
              "      <th>Id</th>\n",
              "      <th>target</th>\n",
              "    </tr>\n",
              "  </thead>\n",
              "  <tbody>\n",
              "    <tr>\n",
              "      <th>0</th>\n",
              "      <td>0</td>\n",
              "      <td>8.097563</td>\n",
              "    </tr>\n",
              "    <tr>\n",
              "      <th>1</th>\n",
              "      <td>5</td>\n",
              "      <td>8.221552</td>\n",
              "    </tr>\n",
              "    <tr>\n",
              "      <th>2</th>\n",
              "      <td>15</td>\n",
              "      <td>8.291040</td>\n",
              "    </tr>\n",
              "    <tr>\n",
              "      <th>3</th>\n",
              "      <td>16</td>\n",
              "      <td>8.098898</td>\n",
              "    </tr>\n",
              "    <tr>\n",
              "      <th>4</th>\n",
              "      <td>17</td>\n",
              "      <td>8.120381</td>\n",
              "    </tr>\n",
              "  </tbody>\n",
              "</table>\n",
              "</div>"
            ],
            "text/plain": [
              "   Id    target\n",
              "0   0  8.097563\n",
              "1   5  8.221552\n",
              "2  15  8.291040\n",
              "3  16  8.098898\n",
              "4  17  8.120381"
            ]
          },
          "metadata": {},
          "execution_count": 72
        }
      ]
    },
    {
      "cell_type": "markdown",
      "metadata": {
        "id": "KLMzHbFB5E-4"
      },
      "source": [
        "#LGMB/XGB\n"
      ]
    },
    {
      "cell_type": "code",
      "metadata": {
        "id": "0BXzceZmiD2J"
      },
      "source": [
        "#LGMB\n",
        "\n",
        "params_lgb =  {'n_estimators' : 20000, \n",
        "                             'max_depth' : 2, \n",
        "                             'learning_rate' : 0.1, \n",
        "                             'subsample' : 0.95, 'colsample_bytree' : 0.85, \n",
        "                             'reg_alpha' : 30.0, \n",
        "                             'reg_lambda' : 25.0 , \n",
        "                             'num_leaves' : 4, \n",
        "                             'max_bin' : 512,\n",
        "                              'random_state':42,\n",
        "    \n",
        "\n",
        "}\n",
        "\n",
        "\n",
        "#XGBboost\n",
        "\n",
        "xgb_params = {\n",
        "    'n_estimators': 20000,\n",
        "    'learning_rate': 0.036283,\n",
        "    'subsample': 0.95,\n",
        "    'colsample_bytree': 0.11,\n",
        "    'max_depth': 2,\n",
        "    'booster': 'gbtree', \n",
        "    'reg_lambda': 66.1,\n",
        "    'reg_alpha': 15.9,\n",
        "    'random_state':42,\n",
        "    'verbosity': 0,\n",
        "    'n_jobs': 4\n",
        "}\n",
        "\n",
        "\n",
        "xgb_params_2 = {\n",
        "    'n_estimators': 20000, \n",
        "      'max_depth': 3, \n",
        "      'learning_rate': 0.03628302216953097, \n",
        "      'gamma': 0, \n",
        "      'min_child_weight': 1, \n",
        "      'subsample': 0.7875490025178415, \n",
        "      'colsample_bytree': 0.11807135201147481, \n",
        "      'reg_alpha': 23.13181079976304, \n",
        "      'reg_lambda': 0.0008746338866473539,\n",
        "      'random_state':42,\n",
        "      'verbosity': 0,\n",
        "      'n_jobs': 4\n",
        "}\n",
        "\n",
        "\n",
        "xgb_params_3 = {'n_jobs': 4,\n",
        "    'booster': 'gbtree',\n",
        "    'n_estimators': 20000,\n",
        "    'learning_rate': 0.036283,\n",
        "    'reg_lambda': 0.0008746,\n",
        "    'reg_alpha': 23.13181,\n",
        "    'subsample': 0.787549,\n",
        "    'colsample_bytree': 0.11807,\n",
        "    'max_depth':3,\n",
        "\n",
        "    }\n",
        "\n",
        "cat_params = {'depth': 2, \n",
        "              'learning_rate': 0.09926804171774896, \n",
        "              'boosting_type': 'Plain', \n",
        "              'bootstrap_type': 'Bernoulli', \n",
        "              'l2_leaf_reg': 4.772285782383867, \n",
        "              'iterations': 20000, \n",
        "              'subsample': 0.8695598930707127,\n",
        "              'random_state': 42}\n"
      ],
      "execution_count": null,
      "outputs": []
    },
    {
      "cell_type": "markdown",
      "metadata": {
        "id": "bJe8Dn3fqcRQ"
      },
      "source": [
        "### Stacking"
      ]
    },
    {
      "cell_type": "code",
      "metadata": {
        "id": "1wc1b5kxyF4q"
      },
      "source": [
        "XGB_1 = XGBRegressor(**xgb_params)\n",
        "XGB_2 = XGBRegressor(**xgb_params_2)\n",
        "XGB_3 = XGBRegressor(**xgb_params_3)\n",
        "LGBM = LGBMRegressor(**params_lgb)\n",
        "CAT = CatBoostRegressor(**cat_params)"
      ],
      "execution_count": null,
      "outputs": []
    },
    {
      "cell_type": "code",
      "metadata": {
        "id": "4iJ6y2CiEnLt"
      },
      "source": [
        "estimators = [XGB_1, XGB_2, LGBM, XGB_3, CAT]"
      ],
      "execution_count": null,
      "outputs": []
    },
    {
      "cell_type": "code",
      "metadata": {
        "id": "gyW012YN74NI"
      },
      "source": [
        "X_train_XGB, X_val_XGB, y_train_XGB,y_val_XGB = train_test_split(features, target, test_size=0.25,\n",
        "                                                                  random_state=42)"
      ],
      "execution_count": null,
      "outputs": []
    },
    {
      "cell_type": "code",
      "metadata": {
        "colab": {
          "base_uri": "https://localhost:8080/"
        },
        "id": "02C_diCrYQwK",
        "outputId": "852a11cf-fa0d-44c7-c105-6a6c339da12f"
      },
      "source": [
        "X, X_val, y,y_val = train_test_split(X_train_XGB, y_train_XGB, test_size=0.25,\n",
        "                                                                  random_state=42)\n",
        "for estimator in estimators:\n",
        "    print('Обучение', estimator)\n",
        "\n",
        "    estimator.fit(X, y, eval_set=[(X_val, y_val)], verbose=400,\n",
        "                  early_stopping_rounds=2000)"
      ],
      "execution_count": null,
      "outputs": [
        {
          "output_type": "stream",
          "text": [
            "Обучение XGBRegressor(base_score=0.5, booster='gbtree', colsample_bylevel=1,\n",
            "             colsample_bynode=1, colsample_bytree=0.11, gamma=0,\n",
            "             importance_type='gain', learning_rate=0.036283, max_delta_step=0,\n",
            "             max_depth=2, min_child_weight=1, missing=None, n_estimators=20000,\n",
            "             n_jobs=4, nthread=None, objective='reg:linear', random_state=42,\n",
            "             reg_alpha=15.9, reg_lambda=66.1, scale_pos_weight=1, seed=None,\n",
            "             silent=None, subsample=0.95, verbosity=0)\n",
            "[0]\tvalidation_0-rmse:7.49965\n",
            "Will train until validation_0-rmse hasn't improved in 2000 rounds.\n",
            "[400]\tvalidation_0-rmse:0.736946\n",
            "[800]\tvalidation_0-rmse:0.732241\n",
            "[1200]\tvalidation_0-rmse:0.72943\n",
            "[1600]\tvalidation_0-rmse:0.727771\n",
            "[2000]\tvalidation_0-rmse:0.726539\n",
            "[2400]\tvalidation_0-rmse:0.725532\n",
            "[2800]\tvalidation_0-rmse:0.724644\n",
            "[3200]\tvalidation_0-rmse:0.723956\n",
            "[3600]\tvalidation_0-rmse:0.723347\n",
            "[4000]\tvalidation_0-rmse:0.722898\n",
            "[4400]\tvalidation_0-rmse:0.722492\n",
            "[4800]\tvalidation_0-rmse:0.722094\n",
            "[5200]\tvalidation_0-rmse:0.721773\n",
            "[5600]\tvalidation_0-rmse:0.721497\n",
            "[6000]\tvalidation_0-rmse:0.721231\n",
            "[6400]\tvalidation_0-rmse:0.721009\n",
            "[6800]\tvalidation_0-rmse:0.720802\n",
            "[7200]\tvalidation_0-rmse:0.720619\n",
            "[7600]\tvalidation_0-rmse:0.720502\n",
            "[8000]\tvalidation_0-rmse:0.720341\n",
            "[8400]\tvalidation_0-rmse:0.720199\n",
            "[8800]\tvalidation_0-rmse:0.720059\n",
            "[9200]\tvalidation_0-rmse:0.719919\n",
            "[9600]\tvalidation_0-rmse:0.71982\n",
            "[10000]\tvalidation_0-rmse:0.719726\n",
            "[10400]\tvalidation_0-rmse:0.719639\n",
            "[10800]\tvalidation_0-rmse:0.719565\n",
            "[11200]\tvalidation_0-rmse:0.719481\n",
            "[11600]\tvalidation_0-rmse:0.719425\n",
            "[12000]\tvalidation_0-rmse:0.719356\n",
            "[12400]\tvalidation_0-rmse:0.719317\n",
            "[12800]\tvalidation_0-rmse:0.719296\n",
            "[13200]\tvalidation_0-rmse:0.719268\n",
            "[13600]\tvalidation_0-rmse:0.719242\n",
            "[14000]\tvalidation_0-rmse:0.719217\n",
            "[14400]\tvalidation_0-rmse:0.719207\n",
            "[14800]\tvalidation_0-rmse:0.719212\n",
            "[15200]\tvalidation_0-rmse:0.719204\n",
            "[15600]\tvalidation_0-rmse:0.719185\n",
            "[16000]\tvalidation_0-rmse:0.719193\n",
            "[16400]\tvalidation_0-rmse:0.719194\n",
            "[16800]\tvalidation_0-rmse:0.719184\n",
            "[17200]\tvalidation_0-rmse:0.719181\n",
            "[17600]\tvalidation_0-rmse:0.719189\n",
            "[18000]\tvalidation_0-rmse:0.7192\n",
            "[18400]\tvalidation_0-rmse:0.719208\n",
            "[18800]\tvalidation_0-rmse:0.71923\n",
            "[19200]\tvalidation_0-rmse:0.719253\n",
            "Stopping. Best iteration:\n",
            "[17299]\tvalidation_0-rmse:0.719178\n",
            "\n",
            "Обучение XGBRegressor(base_score=0.5, booster='gbtree', colsample_bylevel=1,\n",
            "             colsample_bynode=1, colsample_bytree=0.11807135201147481, gamma=0,\n",
            "             importance_type='gain', learning_rate=0.03628302216953097,\n",
            "             max_delta_step=0, max_depth=3, min_child_weight=1, missing=None,\n",
            "             n_estimators=20000, n_jobs=4, nthread=None, objective='reg:linear',\n",
            "             random_state=42, reg_alpha=23.13181079976304,\n",
            "             reg_lambda=0.0008746338866473539, scale_pos_weight=1, seed=None,\n",
            "             silent=None, subsample=0.7875490025178415, verbosity=0)\n",
            "[0]\tvalidation_0-rmse:7.49955\n",
            "Will train until validation_0-rmse hasn't improved in 2000 rounds.\n",
            "[400]\tvalidation_0-rmse:0.733364\n",
            "[800]\tvalidation_0-rmse:0.72753\n",
            "[1200]\tvalidation_0-rmse:0.724737\n",
            "[1600]\tvalidation_0-rmse:0.722995\n",
            "[2000]\tvalidation_0-rmse:0.721951\n",
            "[2400]\tvalidation_0-rmse:0.72115\n",
            "[2800]\tvalidation_0-rmse:0.720524\n",
            "[3200]\tvalidation_0-rmse:0.720081\n",
            "[3600]\tvalidation_0-rmse:0.719736\n",
            "[4000]\tvalidation_0-rmse:0.719549\n",
            "[4400]\tvalidation_0-rmse:0.719339\n",
            "[4800]\tvalidation_0-rmse:0.719205\n",
            "[5200]\tvalidation_0-rmse:0.719105\n",
            "[5600]\tvalidation_0-rmse:0.719015\n",
            "[6000]\tvalidation_0-rmse:0.718963\n",
            "[6400]\tvalidation_0-rmse:0.718935\n",
            "[6800]\tvalidation_0-rmse:0.718922\n",
            "[7200]\tvalidation_0-rmse:0.718911\n",
            "[7600]\tvalidation_0-rmse:0.718902\n",
            "[8000]\tvalidation_0-rmse:0.718928\n",
            "[8400]\tvalidation_0-rmse:0.718942\n",
            "[8800]\tvalidation_0-rmse:0.718955\n",
            "[9200]\tvalidation_0-rmse:0.718962\n",
            "Stopping. Best iteration:\n",
            "[7485]\tvalidation_0-rmse:0.718885\n",
            "\n",
            "Обучение LGBMRegressor(boosting_type='gbdt', class_weight=None, colsample_bytree=0.85,\n",
            "              importance_type='split', learning_rate=0.1, max_bin=512,\n",
            "              max_depth=2, min_child_samples=20, min_child_weight=0.001,\n",
            "              min_split_gain=0.0, n_estimators=20000, n_jobs=-1, num_leaves=4,\n",
            "              objective=None, random_state=42, reg_alpha=30.0, reg_lambda=25.0,\n",
            "              silent=True, subsample=0.95, subsample_for_bin=200000,\n",
            "              subsample_freq=0)\n",
            "Training until validation scores don't improve for 2000 rounds.\n",
            "[400]\tvalid_0's l2: 0.530464\n",
            "[800]\tvalid_0's l2: 0.524993\n",
            "[1200]\tvalid_0's l2: 0.522339\n",
            "[1600]\tvalid_0's l2: 0.52062\n",
            "[2000]\tvalid_0's l2: 0.519786\n",
            "[2400]\tvalid_0's l2: 0.519225\n",
            "[2800]\tvalid_0's l2: 0.518869\n",
            "[3200]\tvalid_0's l2: 0.518658\n",
            "[3600]\tvalid_0's l2: 0.518519\n",
            "[4000]\tvalid_0's l2: 0.518463\n",
            "[4400]\tvalid_0's l2: 0.518458\n",
            "[4800]\tvalid_0's l2: 0.518455\n",
            "[5200]\tvalid_0's l2: 0.518471\n",
            "[5600]\tvalid_0's l2: 0.518501\n",
            "[6000]\tvalid_0's l2: 0.518547\n",
            "[6400]\tvalid_0's l2: 0.518556\n",
            "[6800]\tvalid_0's l2: 0.518582\n",
            "Early stopping, best iteration is:\n",
            "[4892]\tvalid_0's l2: 0.518435\n",
            "Обучение XGBRegressor(base_score=0.5, booster='gbtree', colsample_bylevel=1,\n",
            "             colsample_bynode=1, colsample_bytree=0.11807, gamma=0,\n",
            "             importance_type='gain', learning_rate=0.036283, max_delta_step=0,\n",
            "             max_depth=3, min_child_weight=1, missing=None, n_estimators=20000,\n",
            "             n_jobs=4, nthread=None, objective='reg:linear', random_state=0,\n",
            "             reg_alpha=23.13181, reg_lambda=0.0008746, scale_pos_weight=1,\n",
            "             seed=None, silent=None, subsample=0.787549, verbosity=1)\n",
            "[13:05:45] WARNING: /workspace/src/objective/regression_obj.cu:152: reg:linear is now deprecated in favor of reg:squarederror.\n",
            "[0]\tvalidation_0-rmse:7.49959\n",
            "Will train until validation_0-rmse hasn't improved in 2000 rounds.\n",
            "[400]\tvalidation_0-rmse:0.732964\n",
            "[800]\tvalidation_0-rmse:0.727472\n",
            "[1200]\tvalidation_0-rmse:0.72463\n",
            "[1600]\tvalidation_0-rmse:0.723069\n",
            "[2000]\tvalidation_0-rmse:0.721887\n",
            "[2400]\tvalidation_0-rmse:0.721032\n",
            "[2800]\tvalidation_0-rmse:0.720439\n",
            "[3200]\tvalidation_0-rmse:0.719973\n",
            "[3600]\tvalidation_0-rmse:0.719682\n",
            "[4000]\tvalidation_0-rmse:0.719454\n",
            "[4400]\tvalidation_0-rmse:0.719284\n",
            "[4800]\tvalidation_0-rmse:0.719152\n",
            "[5200]\tvalidation_0-rmse:0.719047\n",
            "[5600]\tvalidation_0-rmse:0.718995\n",
            "[6000]\tvalidation_0-rmse:0.718951\n",
            "[6400]\tvalidation_0-rmse:0.71893\n",
            "[6800]\tvalidation_0-rmse:0.718871\n",
            "[7200]\tvalidation_0-rmse:0.718844\n",
            "[7600]\tvalidation_0-rmse:0.718802\n",
            "[8000]\tvalidation_0-rmse:0.718826\n",
            "[8400]\tvalidation_0-rmse:0.718869\n",
            "[8800]\tvalidation_0-rmse:0.718868\n",
            "[9200]\tvalidation_0-rmse:0.718884\n",
            "[9600]\tvalidation_0-rmse:0.718904\n",
            "Stopping. Best iteration:\n",
            "[7600]\tvalidation_0-rmse:0.718802\n",
            "\n",
            "Обучение <catboost.core.CatBoostRegressor object at 0x7fccc5035490>\n",
            "0:\tlearn: 0.7460940\ttest: 0.7474322\tbest: 0.7474322 (0)\ttotal: 34.9ms\tremaining: 11m 37s\n",
            "400:\tlearn: 0.7271571\ttest: 0.7299385\tbest: 0.7299385 (400)\ttotal: 6.6s\tremaining: 5m 22s\n",
            "800:\tlearn: 0.7227299\ttest: 0.7264363\tbest: 0.7264363 (800)\ttotal: 13.1s\tremaining: 5m 13s\n",
            "1200:\tlearn: 0.7199087\ttest: 0.7246375\tbest: 0.7246375 (1200)\ttotal: 19.5s\tremaining: 5m 5s\n",
            "1600:\tlearn: 0.7177619\ttest: 0.7234799\tbest: 0.7234775 (1598)\ttotal: 26.1s\tremaining: 4m 59s\n",
            "2000:\tlearn: 0.7161604\ttest: 0.7228948\tbest: 0.7228935 (1999)\ttotal: 32.6s\tremaining: 4m 52s\n",
            "2400:\tlearn: 0.7148557\ttest: 0.7224828\tbest: 0.7224828 (2400)\ttotal: 39s\tremaining: 4m 46s\n",
            "2800:\tlearn: 0.7137312\ttest: 0.7222673\tbest: 0.7222618 (2777)\ttotal: 45.5s\tremaining: 4m 39s\n",
            "3200:\tlearn: 0.7127197\ttest: 0.7220890\tbest: 0.7220889 (3199)\ttotal: 51.9s\tremaining: 4m 32s\n",
            "3600:\tlearn: 0.7118169\ttest: 0.7219629\tbest: 0.7219437 (3528)\ttotal: 58.3s\tremaining: 4m 25s\n",
            "4000:\tlearn: 0.7109548\ttest: 0.7218787\tbest: 0.7218695 (3976)\ttotal: 1m 4s\tremaining: 4m 19s\n",
            "4400:\tlearn: 0.7101702\ttest: 0.7218061\tbest: 0.7217997 (4295)\ttotal: 1m 11s\tremaining: 4m 12s\n",
            "4800:\tlearn: 0.7094258\ttest: 0.7217230\tbest: 0.7217230 (4800)\ttotal: 1m 17s\tremaining: 4m 5s\n",
            "5200:\tlearn: 0.7087259\ttest: 0.7217696\tbest: 0.7217013 (4813)\ttotal: 1m 23s\tremaining: 3m 59s\n",
            "5600:\tlearn: 0.7080756\ttest: 0.7217791\tbest: 0.7217013 (4813)\ttotal: 1m 30s\tremaining: 3m 52s\n",
            "6000:\tlearn: 0.7074520\ttest: 0.7218373\tbest: 0.7217013 (4813)\ttotal: 1m 36s\tremaining: 3m 45s\n",
            "6400:\tlearn: 0.7068503\ttest: 0.7218755\tbest: 0.7217013 (4813)\ttotal: 1m 43s\tremaining: 3m 39s\n",
            "6800:\tlearn: 0.7062752\ttest: 0.7218986\tbest: 0.7217013 (4813)\ttotal: 1m 49s\tremaining: 3m 32s\n",
            "Stopped by overfitting detector  (2000 iterations wait)\n",
            "\n",
            "bestTest = 0.7217013043\n",
            "bestIteration = 4813\n",
            "\n",
            "Shrink model to first 4814 iterations.\n"
          ],
          "name": "stdout"
        }
      ]
    },
    {
      "cell_type": "code",
      "metadata": {
        "id": "N_9nMSHw-gyy"
      },
      "source": [
        "mse = np.zeros(5)\n",
        "for index, estimator in enumerate(estimators):\n",
        "   mse[index] = mean_squared_error(y_val, estimator.predict(X_val), squared=False)"
      ],
      "execution_count": null,
      "outputs": []
    },
    {
      "cell_type": "code",
      "metadata": {
        "colab": {
          "base_uri": "https://localhost:8080/"
        },
        "id": "cBXGub1wFFaH",
        "outputId": "66c06feb-54d3-4cf6-919d-aebbf1fbd9a1"
      },
      "source": [
        "mse"
      ],
      "execution_count": null,
      "outputs": [
        {
          "output_type": "execute_result",
          "data": {
            "text/plain": [
              "array([0.71917944, 0.71888615, 0.7200241 , 0.71880307, 0.72170131])"
            ]
          },
          "metadata": {},
          "execution_count": 264
        }
      ]
    },
    {
      "cell_type": "code",
      "metadata": {
        "id": "K9xWlWwtFXEX"
      },
      "source": [
        ""
      ],
      "execution_count": null,
      "outputs": []
    },
    {
      "cell_type": "code",
      "metadata": {
        "id": "VFiabeBIYQtC"
      },
      "source": [
        "X_val_predictions = np.empty((X_val_XGB.shape[0], len(estimators)), dtype=np.float64)\n",
        "\n",
        "for index, estimator in enumerate(estimators):\n",
        "    X_val_predictions[:, index] = estimator.predict(X_val_XGB)"
      ],
      "execution_count": null,
      "outputs": []
    },
    {
      "cell_type": "code",
      "metadata": {
        "id": "4IQOisvLY3nJ",
        "colab": {
          "base_uri": "https://localhost:8080/"
        },
        "outputId": "3d995e6a-8dd4-493d-8c87-552dfe1fcbf7"
      },
      "source": [
        "X_val_predictions"
      ],
      "execution_count": null,
      "outputs": [
        {
          "output_type": "execute_result",
          "data": {
            "text/plain": [
              "array([[8.24831676, 8.23445129, 8.28648282, 8.25332737, 8.25822505],\n",
              "       [8.45505714, 8.43789196, 8.43109263, 8.43840981, 8.38646514],\n",
              "       [8.32421875, 8.33506775, 8.33097076, 8.31651688, 8.33980802],\n",
              "       ...,\n",
              "       [8.50166702, 8.48759842, 8.42260913, 8.50744629, 8.41014027],\n",
              "       [8.00345993, 8.05562115, 8.06452948, 8.0523653 , 8.08887131],\n",
              "       [8.46993256, 8.46299934, 8.46212868, 8.46055984, 8.40022989]])"
            ]
          },
          "metadata": {},
          "execution_count": 301
        }
      ]
    },
    {
      "cell_type": "code",
      "metadata": {
        "id": "q8WyS26vZJ_5"
      },
      "source": [
        "def build_model(hp):\n",
        "\n",
        "    model = Sequential()\n",
        "    activation_choice = hp.Choice('activation', values=['relu', 'selu', 'elu'])\n",
        "    model.add(Dense(units=hp.Int('units_input',    \n",
        "                                   min_value=4,    \n",
        "                                   max_value=8,   \n",
        "                                   step=2),  \n",
        "                    input_dim=X_val_predictions.shape[1], activation=activation_choice))\n",
        "    model.add(Dense(units=1, activation=activation_choice))\n",
        "    \n",
        "    model.compile(\n",
        "        optimizer=keras.optimizers.Nadam(lr=0.0001),\n",
        "        loss='mae',\n",
        "        metrics=['mse'])\n",
        "    return model"
      ],
      "execution_count": null,
      "outputs": []
    },
    {
      "cell_type": "code",
      "metadata": {
        "id": "PoYSSg4Vv2Us"
      },
      "source": [
        "tuner = RandomSearch(\n",
        "    build_model,                 \n",
        "    objective='mse',    \n",
        "                        \n",
        "    max_trials=5,                \n",
        "    directory='test_directory_24',\n",
        "    overwrite=True   \n",
        "    )\n",
        "\n",
        "\n",
        "early_stopping = EarlyStopping(\n",
        "\n",
        "    mode='min', \n",
        "    patience=20,\n",
        "    restore_best_weights=True,\n",
        ")"
      ],
      "execution_count": null,
      "outputs": []
    },
    {
      "cell_type": "code",
      "metadata": {
        "colab": {
          "base_uri": "https://localhost:8080/"
        },
        "id": "g6dX0iuHv2Ut",
        "outputId": "af3a65a3-25f8-4671-a1b9-f1df2ae17d96"
      },
      "source": [
        "tuner.search_space_summary()"
      ],
      "execution_count": null,
      "outputs": [
        {
          "output_type": "stream",
          "text": [
            "Search space summary\n",
            "Default search space size: 2\n",
            "activation (Choice)\n",
            "{'default': 'relu', 'conditions': [], 'values': ['relu', 'selu', 'elu'], 'ordered': False}\n",
            "units_input (Int)\n",
            "{'default': None, 'conditions': [], 'min_value': 4, 'max_value': 8, 'step': 2, 'sampling': None}\n"
          ],
          "name": "stdout"
        }
      ]
    },
    {
      "cell_type": "code",
      "metadata": {
        "id": "mp_Ga9Lzv2Ut",
        "colab": {
          "base_uri": "https://localhost:8080/"
        },
        "outputId": "a865d8e1-b8d6-4a42-ce0b-c8d4fbaf5ef5"
      },
      "source": [
        "tuner.search(X_val_predictions,                  \n",
        "             y_val_XGB,                  \n",
        "             batch_size=8,           \n",
        "             epochs=10, validation_split=0.25\n",
        "             )"
      ],
      "execution_count": null,
      "outputs": [
        {
          "output_type": "stream",
          "text": [
            "Trial 5 Complete [00h 02m 22s]\n",
            "mse: 0.5166059136390686\n",
            "\n",
            "Best mse So Far: 0.5164284110069275\n",
            "Total elapsed time: 00h 11m 53s\n",
            "INFO:tensorflow:Oracle triggered exit\n"
          ],
          "name": "stdout"
        }
      ]
    },
    {
      "cell_type": "code",
      "metadata": {
        "id": "FAe-9pDwgeV6"
      },
      "source": [
        "models = tuner.get_best_models(num_models=2)"
      ],
      "execution_count": null,
      "outputs": []
    },
    {
      "cell_type": "code",
      "metadata": {
        "colab": {
          "base_uri": "https://localhost:8080/"
        },
        "id": "NtJ7j6s8geV6",
        "outputId": "d52afd6c-bc84-4534-c466-d326a41e6610"
      },
      "source": [
        "for model in models:\n",
        "  model.summary()\n",
        "  model.evaluate(X_val_predictions, y_val_XGB)\n",
        "  print() "
      ],
      "execution_count": null,
      "outputs": [
        {
          "output_type": "stream",
          "text": [
            "Model: \"sequential\"\n",
            "_________________________________________________________________\n",
            "Layer (type)                 Output Shape              Param #   \n",
            "=================================================================\n",
            "dense (Dense)                (None, 4)                 16        \n",
            "_________________________________________________________________\n",
            "dense_1 (Dense)              (None, 1)                 5         \n",
            "=================================================================\n",
            "Total params: 21\n",
            "Trainable params: 21\n",
            "Non-trainable params: 0\n",
            "_________________________________________________________________\n",
            "2344/2344 [==============================] - 3s 1ms/step - loss: 0.5705 - mse: 0.5204\n",
            "\n",
            "Model: \"sequential\"\n",
            "_________________________________________________________________\n",
            "Layer (type)                 Output Shape              Param #   \n",
            "=================================================================\n",
            "dense (Dense)                (None, 4)                 16        \n",
            "_________________________________________________________________\n",
            "dense_1 (Dense)              (None, 1)                 5         \n",
            "=================================================================\n",
            "Total params: 21\n",
            "Trainable params: 21\n",
            "Non-trainable params: 0\n",
            "_________________________________________________________________\n",
            "2344/2344 [==============================] - 2s 967us/step - loss: 0.5699 - mse: 0.5195\n",
            "\n"
          ],
          "name": "stdout"
        }
      ]
    },
    {
      "cell_type": "code",
      "metadata": {
        "id": "U0m_Q5GH09jF"
      },
      "source": [
        "X_s, X_val_s, y_s, y_val_s = train_test_split(X_val_predictions, y_val_XGB)"
      ],
      "execution_count": null,
      "outputs": []
    },
    {
      "cell_type": "code",
      "metadata": {
        "id": "IPG3xJv0zH1k"
      },
      "source": [
        "def baseline_model():\n",
        "    model = Sequential()\n",
        "    model.add(Dense(units=4, input_dim=X_s.shape[1], \n",
        "                    activation='selu'))\n",
        "    model.add(Dense(units=1, \n",
        "                    activation='selu'))\n",
        "\n",
        "    model.compile(\n",
        "        optimizer=Nadam(lr=0.0001),\n",
        "        loss='mse',\n",
        "        metrics=['mse'])\n",
        "\n",
        "\n",
        "    return model"
      ],
      "execution_count": null,
      "outputs": []
    },
    {
      "cell_type": "code",
      "metadata": {
        "id": "aDQz_fwHzH1l"
      },
      "source": [
        "blender_3 = KerasRegressor(build_fn=baseline_model, epochs=10, batch_size=32, verbose=1)"
      ],
      "execution_count": null,
      "outputs": []
    },
    {
      "cell_type": "code",
      "metadata": {
        "colab": {
          "base_uri": "https://localhost:8080/"
        },
        "id": "Lbe1bDAG1ph-",
        "outputId": "f88ba2a8-67bd-44e8-f9a3-12c07e7cb4b5"
      },
      "source": [
        "X_s.shape, X_val_s.shape, y_s.shape, y_val_s.shape"
      ],
      "execution_count": null,
      "outputs": [
        {
          "output_type": "execute_result",
          "data": {
            "text/plain": [
              "((56250, 5), (18750, 5), (56250,), (18750,))"
            ]
          },
          "metadata": {},
          "execution_count": 367
        }
      ]
    },
    {
      "cell_type": "code",
      "metadata": {
        "colab": {
          "base_uri": "https://localhost:8080/"
        },
        "id": "xJKZohQ1zSaA",
        "outputId": "c7350788-6501-4944-97c0-6b3f7db1efdc"
      },
      "source": [
        "blender_3.fit(X_s, y_s, validation_data=(X_val_s, y_val_s))\n"
      ],
      "execution_count": null,
      "outputs": [
        {
          "output_type": "stream",
          "text": [
            "Epoch 1/10\n",
            "1758/1758 [==============================] - 4s 2ms/step - loss: 12.2288 - mse: 12.2288 - val_loss: 0.5154 - val_mse: 0.5154\n",
            "Epoch 2/10\n",
            "1758/1758 [==============================] - 3s 2ms/step - loss: 0.5150 - mse: 0.5150 - val_loss: 0.5153 - val_mse: 0.5153\n",
            "Epoch 3/10\n",
            "1758/1758 [==============================] - 3s 2ms/step - loss: 0.5152 - mse: 0.5152 - val_loss: 0.5153 - val_mse: 0.5153\n",
            "Epoch 4/10\n",
            "1758/1758 [==============================] - 3s 2ms/step - loss: 0.5152 - mse: 0.5152 - val_loss: 0.5160 - val_mse: 0.5160\n",
            "Epoch 5/10\n",
            "1758/1758 [==============================] - 3s 2ms/step - loss: 0.5154 - mse: 0.5154 - val_loss: 0.5159 - val_mse: 0.5159\n",
            "Epoch 6/10\n",
            "1758/1758 [==============================] - 3s 2ms/step - loss: 0.5154 - mse: 0.5154 - val_loss: 0.5152 - val_mse: 0.5152\n",
            "Epoch 7/10\n",
            "1758/1758 [==============================] - 3s 2ms/step - loss: 0.5155 - mse: 0.5155 - val_loss: 0.5176 - val_mse: 0.5176\n",
            "Epoch 8/10\n",
            "1758/1758 [==============================] - 3s 2ms/step - loss: 0.5155 - mse: 0.5155 - val_loss: 0.5156 - val_mse: 0.5156\n",
            "Epoch 9/10\n",
            "1758/1758 [==============================] - 3s 2ms/step - loss: 0.5155 - mse: 0.5155 - val_loss: 0.5152 - val_mse: 0.5152\n",
            "Epoch 10/10\n",
            "1758/1758 [==============================] - 3s 2ms/step - loss: 0.5152 - mse: 0.5152 - val_loss: 0.5152 - val_mse: 0.5152\n"
          ],
          "name": "stdout"
        },
        {
          "output_type": "execute_result",
          "data": {
            "text/plain": [
              "<keras.callbacks.History at 0x7fccd1378cd0>"
            ]
          },
          "metadata": {},
          "execution_count": 368
        }
      ]
    },
    {
      "cell_type": "code",
      "metadata": {
        "colab": {
          "base_uri": "https://localhost:8080/"
        },
        "id": "tTwEYuedzYSW",
        "outputId": "9ca4f55e-305b-4c05-d369-bcaea497e3b8"
      },
      "source": [
        "mean_squared_error(y_val_s, blender_3.predict(X_val_s), squared=False)"
      ],
      "execution_count": null,
      "outputs": [
        {
          "output_type": "stream",
          "text": [
            "586/586 [==============================] - 0s 774us/step\n"
          ],
          "name": "stdout"
        },
        {
          "output_type": "execute_result",
          "data": {
            "text/plain": [
              "0.7177549518761311"
            ]
          },
          "metadata": {},
          "execution_count": 369
        }
      ]
    },
    {
      "cell_type": "code",
      "metadata": {
        "id": "PWm4VyBTY1Gn"
      },
      "source": [
        "X_test_predictions = np.empty((X_test.shape[0], len(estimators)), dtype=np.float64)\n",
        "\n",
        "for index, estimator in enumerate(estimators):\n",
        "    X_test_predictions[:, index] = estimator.predict(X_test)"
      ],
      "execution_count": null,
      "outputs": []
    },
    {
      "cell_type": "code",
      "metadata": {
        "colab": {
          "base_uri": "https://localhost:8080/"
        },
        "id": "gZ53SNgE3W6X",
        "outputId": "39bb93d5-633b-4fe6-ab31-4f10439e6e93"
      },
      "source": [
        "X_test_predictions"
      ],
      "execution_count": null,
      "outputs": [
        {
          "output_type": "execute_result",
          "data": {
            "text/plain": [
              "array([[8.06883144, 8.07603264, 8.03916723, 8.05741692, 8.11884922],\n",
              "       [8.42753792, 8.41668415, 8.3546598 , 8.42126465, 8.36307229],\n",
              "       [8.44049835, 8.40356445, 8.36588972, 8.41151428, 8.39028354],\n",
              "       ...,\n",
              "       [8.52402401, 8.51181126, 8.52182473, 8.53293896, 8.46899224],\n",
              "       [8.23051453, 8.22060394, 8.19437744, 8.22787094, 8.24009629],\n",
              "       [8.0121212 , 7.98695421, 7.97422924, 7.97746849, 7.91360682]])"
            ]
          },
          "metadata": {},
          "execution_count": 315
        }
      ]
    },
    {
      "cell_type": "code",
      "metadata": {
        "id": "C98F7lB4ZKTp",
        "colab": {
          "base_uri": "https://localhost:8080/"
        },
        "outputId": "f2c8ab5d-4032-471c-d966-04512de645e3"
      },
      "source": [
        "stacks = blender_3.predict(X_test_predictions)"
      ],
      "execution_count": null,
      "outputs": [
        {
          "output_type": "stream",
          "text": [
            "6250/6250 [==============================] - 7s 1ms/step\n"
          ],
          "name": "stdout"
        }
      ]
    },
    {
      "cell_type": "code",
      "metadata": {
        "colab": {
          "base_uri": "https://localhost:8080/"
        },
        "id": "Z9GnxFyo4HXy",
        "outputId": "fd21cf06-51da-4490-d581-4435a4763633"
      },
      "source": [
        "stacks"
      ],
      "execution_count": null,
      "outputs": [
        {
          "output_type": "execute_result",
          "data": {
            "text/plain": [
              "array([8.0722065, 8.347902 , 8.352164 , ..., 8.484744 , 8.208104 ,\n",
              "       7.925245 ], dtype=float32)"
            ]
          },
          "metadata": {},
          "execution_count": 371
        }
      ]
    },
    {
      "cell_type": "code",
      "metadata": {
        "id": "v1yA1hGQZz-b",
        "colab": {
          "base_uri": "https://localhost:8080/",
          "height": 17
        },
        "outputId": "acaf6ee4-4300-4342-fba8-e23d83e80b59"
      },
      "source": [
        "Stacking = pd.DataFrame()\n",
        "Stacking['Id'] = test['id']\n",
        "Stacking['target'] = stacks\n",
        "\n",
        "\n",
        "Stacking.to_csv('Stacking_blender_3.csv', index=False)\n",
        "files.download('Stacking_blender_3.csv')"
      ],
      "execution_count": null,
      "outputs": [
        {
          "output_type": "display_data",
          "data": {
            "application/javascript": [
              "\n",
              "    async function download(id, filename, size) {\n",
              "      if (!google.colab.kernel.accessAllowed) {\n",
              "        return;\n",
              "      }\n",
              "      const div = document.createElement('div');\n",
              "      const label = document.createElement('label');\n",
              "      label.textContent = `Downloading \"${filename}\": `;\n",
              "      div.appendChild(label);\n",
              "      const progress = document.createElement('progress');\n",
              "      progress.max = size;\n",
              "      div.appendChild(progress);\n",
              "      document.body.appendChild(div);\n",
              "\n",
              "      const buffers = [];\n",
              "      let downloaded = 0;\n",
              "\n",
              "      const channel = await google.colab.kernel.comms.open(id);\n",
              "      // Send a message to notify the kernel that we're ready.\n",
              "      channel.send({})\n",
              "\n",
              "      for await (const message of channel.messages) {\n",
              "        // Send a message to notify the kernel that we're ready.\n",
              "        channel.send({})\n",
              "        if (message.buffers) {\n",
              "          for (const buffer of message.buffers) {\n",
              "            buffers.push(buffer);\n",
              "            downloaded += buffer.byteLength;\n",
              "            progress.value = downloaded;\n",
              "          }\n",
              "        }\n",
              "      }\n",
              "      const blob = new Blob(buffers, {type: 'application/binary'});\n",
              "      const a = document.createElement('a');\n",
              "      a.href = window.URL.createObjectURL(blob);\n",
              "      a.download = filename;\n",
              "      div.appendChild(a);\n",
              "      a.click();\n",
              "      div.remove();\n",
              "    }\n",
              "  "
            ],
            "text/plain": [
              "<IPython.core.display.Javascript object>"
            ]
          },
          "metadata": {}
        },
        {
          "output_type": "display_data",
          "data": {
            "application/javascript": [
              "download(\"download_97bafa31-42a4-4a23-92b8-255e8ab6ee6f\", \"Stacking_blender_3.csv\", 3156048)"
            ],
            "text/plain": [
              "<IPython.core.display.Javascript object>"
            ]
          },
          "metadata": {}
        }
      ]
    },
    {
      "cell_type": "markdown",
      "metadata": {
        "id": "ykmXe1oHZTtt"
      },
      "source": [
        "### XGB Full"
      ]
    },
    {
      "cell_type": "code",
      "metadata": {
        "colab": {
          "base_uri": "https://localhost:8080/"
        },
        "id": "PhsuvepzGwcs",
        "outputId": "e3863d7b-23ca-4b8f-a0a1-e4034c529ebb"
      },
      "source": [
        "features.shape, X_test_cv.shape"
      ],
      "execution_count": null,
      "outputs": [
        {
          "output_type": "execute_result",
          "data": {
            "text/plain": [
              "((300000, 24), (200000, 24))"
            ]
          },
          "metadata": {},
          "execution_count": 37
        }
      ]
    },
    {
      "cell_type": "code",
      "metadata": {
        "colab": {
          "base_uri": "https://localhost:8080/"
        },
        "id": "I7244mRF7LJ9",
        "outputId": "5f1905aa-1db2-4a74-8713-b897658a8ec6"
      },
      "source": [
        "model = XGBRegressor(**xgb_params)\n",
        "model.fit(X_train_XGB, y_train_XGB, eval_set = [(X_val_XGB, y_val_XGB)],\n",
        "          early_stopping_rounds=200, verbose=200)\n",
        "\n",
        "preds = model.predict(X_test_cv)\n",
        "print(mean_squared_error(y_val_XGB, model.predict(X_val_XGB), squared=False))\n"
      ],
      "execution_count": null,
      "outputs": [
        {
          "output_type": "stream",
          "text": [
            "[0]\tvalidation_0-rmse:6.82735\n",
            "Will train until validation_0-rmse hasn't improved in 200 rounds.\n",
            "[200]\tvalidation_0-rmse:0.730233\n",
            "[400]\tvalidation_0-rmse:0.725708\n",
            "[600]\tvalidation_0-rmse:0.723184\n",
            "[800]\tvalidation_0-rmse:0.721784\n",
            "[1000]\tvalidation_0-rmse:0.720679\n",
            "[1200]\tvalidation_0-rmse:0.719899\n",
            "[1400]\tvalidation_0-rmse:0.719098\n",
            "[1600]\tvalidation_0-rmse:0.718482\n",
            "[1800]\tvalidation_0-rmse:0.71794\n",
            "[2000]\tvalidation_0-rmse:0.717557\n",
            "[2200]\tvalidation_0-rmse:0.71723\n",
            "[2400]\tvalidation_0-rmse:0.716876\n",
            "[2600]\tvalidation_0-rmse:0.716574\n",
            "[2800]\tvalidation_0-rmse:0.71637\n",
            "[3000]\tvalidation_0-rmse:0.716221\n",
            "[3200]\tvalidation_0-rmse:0.716056\n",
            "[3400]\tvalidation_0-rmse:0.715954\n",
            "[3600]\tvalidation_0-rmse:0.715861\n",
            "[3800]\tvalidation_0-rmse:0.715852\n",
            "[4000]\tvalidation_0-rmse:0.715806\n",
            "[4200]\tvalidation_0-rmse:0.715749\n",
            "[4400]\tvalidation_0-rmse:0.715708\n",
            "[4600]\tvalidation_0-rmse:0.71567\n",
            "[4800]\tvalidation_0-rmse:0.715667\n",
            "[4999]\tvalidation_0-rmse:0.715623\n",
            "0.7156304751640391\n"
          ],
          "name": "stdout"
        }
      ]
    },
    {
      "cell_type": "code",
      "metadata": {
        "colab": {
          "base_uri": "https://localhost:8080/",
          "height": 17
        },
        "id": "D5ZWMNv18eu6",
        "outputId": "53d53fba-4259-4604-be2d-9a2806b2dc6c"
      },
      "source": [
        "sub_XG_full = pd.DataFrame()\n",
        "sub_XG_full['Id'] = test_id\n",
        "sub_XG_full['target'] = preds\n",
        "\n",
        "\n",
        "sub_XG_full.to_csv('XGB_full-ensemble.csv', index=False)\n",
        "files.download('XGB_full-ensemble.csv')"
      ],
      "execution_count": null,
      "outputs": [
        {
          "output_type": "display_data",
          "data": {
            "application/javascript": [
              "\n",
              "    async function download(id, filename, size) {\n",
              "      if (!google.colab.kernel.accessAllowed) {\n",
              "        return;\n",
              "      }\n",
              "      const div = document.createElement('div');\n",
              "      const label = document.createElement('label');\n",
              "      label.textContent = `Downloading \"${filename}\": `;\n",
              "      div.appendChild(label);\n",
              "      const progress = document.createElement('progress');\n",
              "      progress.max = size;\n",
              "      div.appendChild(progress);\n",
              "      document.body.appendChild(div);\n",
              "\n",
              "      const buffers = [];\n",
              "      let downloaded = 0;\n",
              "\n",
              "      const channel = await google.colab.kernel.comms.open(id);\n",
              "      // Send a message to notify the kernel that we're ready.\n",
              "      channel.send({})\n",
              "\n",
              "      for await (const message of channel.messages) {\n",
              "        // Send a message to notify the kernel that we're ready.\n",
              "        channel.send({})\n",
              "        if (message.buffers) {\n",
              "          for (const buffer of message.buffers) {\n",
              "            buffers.push(buffer);\n",
              "            downloaded += buffer.byteLength;\n",
              "            progress.value = downloaded;\n",
              "          }\n",
              "        }\n",
              "      }\n",
              "      const blob = new Blob(buffers, {type: 'application/binary'});\n",
              "      const a = document.createElement('a');\n",
              "      a.href = window.URL.createObjectURL(blob);\n",
              "      a.download = filename;\n",
              "      div.appendChild(a);\n",
              "      a.click();\n",
              "      div.remove();\n",
              "    }\n",
              "  "
            ],
            "text/plain": [
              "<IPython.core.display.Javascript object>"
            ]
          },
          "metadata": {}
        },
        {
          "output_type": "display_data",
          "data": {
            "application/javascript": [
              "download(\"download_1cc2d5e7-2125-4a9c-a20f-a7571acc9da7\", \"XGB_full-ensemble.csv\", 3156789)"
            ],
            "text/plain": [
              "<IPython.core.display.Javascript object>"
            ]
          },
          "metadata": {}
        }
      ]
    },
    {
      "cell_type": "code",
      "metadata": {
        "colab": {
          "base_uri": "https://localhost:8080/",
          "height": 204
        },
        "id": "wIeOZ_Pi944Y",
        "outputId": "9ab61ded-748d-4f7d-adee-008f2eb95453"
      },
      "source": [
        "sub_XG_full.head()"
      ],
      "execution_count": null,
      "outputs": [
        {
          "output_type": "execute_result",
          "data": {
            "text/html": [
              "<div>\n",
              "<style scoped>\n",
              "    .dataframe tbody tr th:only-of-type {\n",
              "        vertical-align: middle;\n",
              "    }\n",
              "\n",
              "    .dataframe tbody tr th {\n",
              "        vertical-align: top;\n",
              "    }\n",
              "\n",
              "    .dataframe thead th {\n",
              "        text-align: right;\n",
              "    }\n",
              "</style>\n",
              "<table border=\"1\" class=\"dataframe\">\n",
              "  <thead>\n",
              "    <tr style=\"text-align: right;\">\n",
              "      <th></th>\n",
              "      <th>Id</th>\n",
              "      <th>target</th>\n",
              "    </tr>\n",
              "  </thead>\n",
              "  <tbody>\n",
              "    <tr>\n",
              "      <th>0</th>\n",
              "      <td>0</td>\n",
              "      <td>8.114770</td>\n",
              "    </tr>\n",
              "    <tr>\n",
              "      <th>1</th>\n",
              "      <td>5</td>\n",
              "      <td>8.451990</td>\n",
              "    </tr>\n",
              "    <tr>\n",
              "      <th>2</th>\n",
              "      <td>15</td>\n",
              "      <td>8.433565</td>\n",
              "    </tr>\n",
              "    <tr>\n",
              "      <th>3</th>\n",
              "      <td>16</td>\n",
              "      <td>8.485857</td>\n",
              "    </tr>\n",
              "    <tr>\n",
              "      <th>4</th>\n",
              "      <td>17</td>\n",
              "      <td>8.129815</td>\n",
              "    </tr>\n",
              "  </tbody>\n",
              "</table>\n",
              "</div>"
            ],
            "text/plain": [
              "   Id    target\n",
              "0   0  8.114770\n",
              "1   5  8.451990\n",
              "2  15  8.433565\n",
              "3  16  8.485857\n",
              "4  17  8.129815"
            ]
          },
          "metadata": {},
          "execution_count": 40
        }
      ]
    },
    {
      "cell_type": "markdown",
      "metadata": {
        "id": "WMoVH1YyqkCh"
      },
      "source": [
        "### XGB Kfolds v2 "
      ]
    },
    {
      "cell_type": "markdown",
      "metadata": {
        "id": "RIbVWDzuzhgJ"
      },
      "source": [
        "X_train_XGB, X_val_XGB, y_train_XGB,y_val_XGB "
      ]
    },
    {
      "cell_type": "code",
      "metadata": {
        "id": "QIXmhTD-Zz7L"
      },
      "source": [
        "X_test_cv = X_test.copy()"
      ],
      "execution_count": null,
      "outputs": []
    },
    {
      "cell_type": "markdown",
      "metadata": {
        "id": "qjhuCFWnaUOH"
      },
      "source": [
        "```\n",
        "#XGBboost\n",
        "\n",
        "xgb_params = {\n",
        "    'n_estimators': 5000,\n",
        "    'learning_rate': 0.1235,\n",
        "    'subsample': 0.95,\n",
        "    'colsample_bytree': 0.11,\n",
        "    'max_depth': 2,\n",
        "    'booster': 'gbtree', \n",
        "    'reg_lambda': 66.1,\n",
        "    'reg_alpha': 15.9,\n",
        "    'random_state':42,\n",
        "    'verbosity': 0\n",
        "}\n",
        "\n",
        "\n",
        "xgb_params_2 = {\n",
        "    'n_estimators': 5000,\n",
        "    'learning_rate': 0.247,\n",
        "    'subsample': 0.95,\n",
        "    'colsample_bytree': 0.11,\n",
        "    'max_depth': 2,\n",
        "    'booster': 'gbtree', \n",
        "    'reg_lambda': 66.1,\n",
        "    'reg_alpha': 15.9,\n",
        "    'random_state':42,\n",
        "    'verbosity': 0\n",
        "}\n",
        "\n",
        "\n",
        "xgb_params_3 = {'n_jobs': 4,\n",
        "    'booster': 'gbtree',\n",
        "    'n_estimators': 10000,\n",
        "    'learning_rate': 0.036283,\n",
        "    'reg_lambda': 0.0008746,\n",
        "    'reg_alpha': 23.13181,\n",
        "    'subsample': 0.787549,\n",
        "    'colsample_bytree': 0.11807,\n",
        "    'max_depth':3\n",
        "    }\n",
        "```"
      ]
    },
    {
      "cell_type": "code",
      "metadata": {
        "id": "2vIlWyyKjJGo"
      },
      "source": [
        "%%capture\n",
        "!pip install optuna \n",
        "import optuna"
      ],
      "execution_count": null,
      "outputs": []
    },
    {
      "cell_type": "code",
      "metadata": {
        "id": "cb3k53mmaj5u"
      },
      "source": [
        "def objective(trial,data=X_train_XGB,target=y_train_XGB):\n",
        "    \n",
        "    train_x, test_x, train_y, test_y = train_test_split(X_train_XGB, y_train_XGB, test_size=0.25,\n",
        "                                                        random_state=42)\n",
        "    param = {\n",
        "\n",
        "        'lambda': 1,\n",
        "        'alpha': 0.0001,\n",
        "        'colsample_bytree': trial.suggest_categorical('colsample_bytree', [0.1,0.2,0.3]),\n",
        "        'subsample': trial.suggest_categorical('subsample', [0.7,0.9]),\n",
        "        'learning_rate': trial.suggest_categorical('learning_rate', [0.035,0.075,0.15,0.25]),\n",
        "        'n_estimators': 10000,\n",
        "        'max_depth': trial.suggest_categorical('max_depth', [1, 2,3,5]),\n",
        "        'random_state': 42,\n",
        "        'booster': 'gbtree',\n",
        "        'objective':'reg:squarederror',\n",
        "        'n_jobs': 4\n",
        "    }\n",
        "    model = XGBRegressor(**param)  \n",
        "    \n",
        "    model.fit(train_x,train_y,eval_set=[(test_x,test_y)],early_stopping_rounds=100,verbose=400)\n",
        "    \n",
        "    preds = model.predict(test_x)\n",
        "    \n",
        "    mse =  mean_squared_error(test_y, preds, squared=False)\n",
        "    \n",
        "    return mse\n",
        "\n"
      ],
      "execution_count": null,
      "outputs": []
    },
    {
      "cell_type": "code",
      "metadata": {
        "id": "fFXiacMQkcLq"
      },
      "source": [
        "study = optuna.create_study(direction='minimize')\n",
        "study.optimize(objective, n_trials=25)\n",
        "print('Number of finished trials:', len(study.trials))\n",
        "print('Best trial:', study.best_trial.params)"
      ],
      "execution_count": null,
      "outputs": []
    },
    {
      "cell_type": "code",
      "metadata": {
        "colab": {
          "base_uri": "https://localhost:8080/",
          "height": 542
        },
        "id": "o89xy4emp5NA",
        "outputId": "bff99f15-5db1-465b-b471-ffd0bee88c7f"
      },
      "source": [
        "optuna.visualization.plot_optimization_history(study)"
      ],
      "execution_count": null,
      "outputs": [
        {
          "output_type": "display_data",
          "data": {
            "text/html": [
              "<html>\n",
              "<head><meta charset=\"utf-8\" /></head>\n",
              "<body>\n",
              "    <div>\n",
              "            <script src=\"https://cdnjs.cloudflare.com/ajax/libs/mathjax/2.7.5/MathJax.js?config=TeX-AMS-MML_SVG\"></script><script type=\"text/javascript\">if (window.MathJax) {MathJax.Hub.Config({SVG: {font: \"STIX-Web\"}});}</script>\n",
              "                <script type=\"text/javascript\">window.PlotlyConfig = {MathJaxConfig: 'local'};</script>\n",
              "        <script src=\"https://cdn.plot.ly/plotly-latest.min.js\"></script>    \n",
              "            <div id=\"721c6921-b1d2-4e9a-aff5-70c21350547f\" class=\"plotly-graph-div\" style=\"height:525px; width:100%;\"></div>\n",
              "            <script type=\"text/javascript\">\n",
              "                \n",
              "                    window.PLOTLYENV=window.PLOTLYENV || {};\n",
              "                    \n",
              "                if (document.getElementById(\"721c6921-b1d2-4e9a-aff5-70c21350547f\")) {\n",
              "                    Plotly.newPlot(\n",
              "                        '721c6921-b1d2-4e9a-aff5-70c21350547f',\n",
              "                        [{\"mode\": \"markers\", \"name\": \"Objective Value\", \"type\": \"scatter\", \"x\": [0, 1, 2, 3], \"y\": [0.7227104330248819, 0.7210443455091837, 0.7210392259016067, 0.7244452868348393]}, {\"name\": \"Best Value\", \"type\": \"scatter\", \"x\": [0, 1, 2, 3], \"y\": [0.7227104330248819, 0.7210443455091837, 0.7210392259016067, 0.7210392259016067]}],\n",
              "                        {\"template\": {\"data\": {\"bar\": [{\"error_x\": {\"color\": \"#2a3f5f\"}, \"error_y\": {\"color\": \"#2a3f5f\"}, \"marker\": {\"line\": {\"color\": \"#E5ECF6\", \"width\": 0.5}}, \"type\": \"bar\"}], \"barpolar\": [{\"marker\": {\"line\": {\"color\": \"#E5ECF6\", \"width\": 0.5}}, \"type\": \"barpolar\"}], \"carpet\": [{\"aaxis\": {\"endlinecolor\": \"#2a3f5f\", \"gridcolor\": \"white\", \"linecolor\": \"white\", \"minorgridcolor\": \"white\", \"startlinecolor\": \"#2a3f5f\"}, \"baxis\": {\"endlinecolor\": \"#2a3f5f\", \"gridcolor\": \"white\", \"linecolor\": \"white\", \"minorgridcolor\": \"white\", \"startlinecolor\": \"#2a3f5f\"}, \"type\": \"carpet\"}], \"choropleth\": [{\"colorbar\": {\"outlinewidth\": 0, \"ticks\": \"\"}, \"type\": \"choropleth\"}], \"contour\": [{\"colorbar\": {\"outlinewidth\": 0, \"ticks\": \"\"}, \"colorscale\": [[0.0, \"#0d0887\"], [0.1111111111111111, \"#46039f\"], [0.2222222222222222, \"#7201a8\"], [0.3333333333333333, \"#9c179e\"], [0.4444444444444444, \"#bd3786\"], [0.5555555555555556, \"#d8576b\"], [0.6666666666666666, \"#ed7953\"], [0.7777777777777778, \"#fb9f3a\"], [0.8888888888888888, \"#fdca26\"], [1.0, \"#f0f921\"]], \"type\": \"contour\"}], \"contourcarpet\": [{\"colorbar\": {\"outlinewidth\": 0, \"ticks\": \"\"}, \"type\": \"contourcarpet\"}], \"heatmap\": [{\"colorbar\": {\"outlinewidth\": 0, \"ticks\": \"\"}, \"colorscale\": [[0.0, \"#0d0887\"], [0.1111111111111111, \"#46039f\"], [0.2222222222222222, \"#7201a8\"], [0.3333333333333333, \"#9c179e\"], [0.4444444444444444, \"#bd3786\"], [0.5555555555555556, \"#d8576b\"], [0.6666666666666666, \"#ed7953\"], [0.7777777777777778, \"#fb9f3a\"], [0.8888888888888888, \"#fdca26\"], [1.0, \"#f0f921\"]], \"type\": \"heatmap\"}], \"heatmapgl\": [{\"colorbar\": {\"outlinewidth\": 0, \"ticks\": \"\"}, \"colorscale\": [[0.0, \"#0d0887\"], [0.1111111111111111, \"#46039f\"], [0.2222222222222222, \"#7201a8\"], [0.3333333333333333, \"#9c179e\"], [0.4444444444444444, \"#bd3786\"], [0.5555555555555556, \"#d8576b\"], [0.6666666666666666, \"#ed7953\"], [0.7777777777777778, \"#fb9f3a\"], [0.8888888888888888, \"#fdca26\"], [1.0, \"#f0f921\"]], \"type\": \"heatmapgl\"}], \"histogram\": [{\"marker\": {\"colorbar\": {\"outlinewidth\": 0, \"ticks\": \"\"}}, \"type\": \"histogram\"}], \"histogram2d\": [{\"colorbar\": {\"outlinewidth\": 0, \"ticks\": \"\"}, \"colorscale\": [[0.0, \"#0d0887\"], [0.1111111111111111, \"#46039f\"], [0.2222222222222222, \"#7201a8\"], [0.3333333333333333, \"#9c179e\"], [0.4444444444444444, \"#bd3786\"], [0.5555555555555556, \"#d8576b\"], [0.6666666666666666, \"#ed7953\"], [0.7777777777777778, \"#fb9f3a\"], [0.8888888888888888, \"#fdca26\"], [1.0, \"#f0f921\"]], \"type\": \"histogram2d\"}], \"histogram2dcontour\": [{\"colorbar\": {\"outlinewidth\": 0, \"ticks\": \"\"}, \"colorscale\": [[0.0, \"#0d0887\"], [0.1111111111111111, \"#46039f\"], [0.2222222222222222, \"#7201a8\"], [0.3333333333333333, \"#9c179e\"], [0.4444444444444444, \"#bd3786\"], [0.5555555555555556, \"#d8576b\"], [0.6666666666666666, \"#ed7953\"], [0.7777777777777778, \"#fb9f3a\"], [0.8888888888888888, \"#fdca26\"], [1.0, \"#f0f921\"]], \"type\": \"histogram2dcontour\"}], \"mesh3d\": [{\"colorbar\": {\"outlinewidth\": 0, \"ticks\": \"\"}, \"type\": \"mesh3d\"}], \"parcoords\": [{\"line\": {\"colorbar\": {\"outlinewidth\": 0, \"ticks\": \"\"}}, \"type\": \"parcoords\"}], \"pie\": [{\"automargin\": true, \"type\": \"pie\"}], \"scatter\": [{\"marker\": {\"colorbar\": {\"outlinewidth\": 0, \"ticks\": \"\"}}, \"type\": \"scatter\"}], \"scatter3d\": [{\"line\": {\"colorbar\": {\"outlinewidth\": 0, \"ticks\": \"\"}}, \"marker\": {\"colorbar\": {\"outlinewidth\": 0, \"ticks\": \"\"}}, \"type\": \"scatter3d\"}], \"scattercarpet\": [{\"marker\": {\"colorbar\": {\"outlinewidth\": 0, \"ticks\": \"\"}}, \"type\": \"scattercarpet\"}], \"scattergeo\": [{\"marker\": {\"colorbar\": {\"outlinewidth\": 0, \"ticks\": \"\"}}, \"type\": \"scattergeo\"}], \"scattergl\": [{\"marker\": {\"colorbar\": {\"outlinewidth\": 0, \"ticks\": \"\"}}, \"type\": \"scattergl\"}], \"scattermapbox\": [{\"marker\": {\"colorbar\": {\"outlinewidth\": 0, \"ticks\": \"\"}}, \"type\": \"scattermapbox\"}], \"scatterpolar\": [{\"marker\": {\"colorbar\": {\"outlinewidth\": 0, \"ticks\": \"\"}}, \"type\": \"scatterpolar\"}], \"scatterpolargl\": [{\"marker\": {\"colorbar\": {\"outlinewidth\": 0, \"ticks\": \"\"}}, \"type\": \"scatterpolargl\"}], \"scatterternary\": [{\"marker\": {\"colorbar\": {\"outlinewidth\": 0, \"ticks\": \"\"}}, \"type\": \"scatterternary\"}], \"surface\": [{\"colorbar\": {\"outlinewidth\": 0, \"ticks\": \"\"}, \"colorscale\": [[0.0, \"#0d0887\"], [0.1111111111111111, \"#46039f\"], [0.2222222222222222, \"#7201a8\"], [0.3333333333333333, \"#9c179e\"], [0.4444444444444444, \"#bd3786\"], [0.5555555555555556, \"#d8576b\"], [0.6666666666666666, \"#ed7953\"], [0.7777777777777778, \"#fb9f3a\"], [0.8888888888888888, \"#fdca26\"], [1.0, \"#f0f921\"]], \"type\": \"surface\"}], \"table\": [{\"cells\": {\"fill\": {\"color\": \"#EBF0F8\"}, \"line\": {\"color\": \"white\"}}, \"header\": {\"fill\": {\"color\": \"#C8D4E3\"}, \"line\": {\"color\": \"white\"}}, \"type\": \"table\"}]}, \"layout\": {\"annotationdefaults\": {\"arrowcolor\": \"#2a3f5f\", \"arrowhead\": 0, \"arrowwidth\": 1}, \"coloraxis\": {\"colorbar\": {\"outlinewidth\": 0, \"ticks\": \"\"}}, \"colorscale\": {\"diverging\": [[0, \"#8e0152\"], [0.1, \"#c51b7d\"], [0.2, \"#de77ae\"], [0.3, \"#f1b6da\"], [0.4, \"#fde0ef\"], [0.5, \"#f7f7f7\"], [0.6, \"#e6f5d0\"], [0.7, \"#b8e186\"], [0.8, \"#7fbc41\"], [0.9, \"#4d9221\"], [1, \"#276419\"]], \"sequential\": [[0.0, \"#0d0887\"], [0.1111111111111111, \"#46039f\"], [0.2222222222222222, \"#7201a8\"], [0.3333333333333333, \"#9c179e\"], [0.4444444444444444, \"#bd3786\"], [0.5555555555555556, \"#d8576b\"], [0.6666666666666666, \"#ed7953\"], [0.7777777777777778, \"#fb9f3a\"], [0.8888888888888888, \"#fdca26\"], [1.0, \"#f0f921\"]], \"sequentialminus\": [[0.0, \"#0d0887\"], [0.1111111111111111, \"#46039f\"], [0.2222222222222222, \"#7201a8\"], [0.3333333333333333, \"#9c179e\"], [0.4444444444444444, \"#bd3786\"], [0.5555555555555556, \"#d8576b\"], [0.6666666666666666, \"#ed7953\"], [0.7777777777777778, \"#fb9f3a\"], [0.8888888888888888, \"#fdca26\"], [1.0, \"#f0f921\"]]}, \"colorway\": [\"#636efa\", \"#EF553B\", \"#00cc96\", \"#ab63fa\", \"#FFA15A\", \"#19d3f3\", \"#FF6692\", \"#B6E880\", \"#FF97FF\", \"#FECB52\"], \"font\": {\"color\": \"#2a3f5f\"}, \"geo\": {\"bgcolor\": \"white\", \"lakecolor\": \"white\", \"landcolor\": \"#E5ECF6\", \"showlakes\": true, \"showland\": true, \"subunitcolor\": \"white\"}, \"hoverlabel\": {\"align\": \"left\"}, \"hovermode\": \"closest\", \"mapbox\": {\"style\": \"light\"}, \"paper_bgcolor\": \"white\", \"plot_bgcolor\": \"#E5ECF6\", \"polar\": {\"angularaxis\": {\"gridcolor\": \"white\", \"linecolor\": \"white\", \"ticks\": \"\"}, \"bgcolor\": \"#E5ECF6\", \"radialaxis\": {\"gridcolor\": \"white\", \"linecolor\": \"white\", \"ticks\": \"\"}}, \"scene\": {\"xaxis\": {\"backgroundcolor\": \"#E5ECF6\", \"gridcolor\": \"white\", \"gridwidth\": 2, \"linecolor\": \"white\", \"showbackground\": true, \"ticks\": \"\", \"zerolinecolor\": \"white\"}, \"yaxis\": {\"backgroundcolor\": \"#E5ECF6\", \"gridcolor\": \"white\", \"gridwidth\": 2, \"linecolor\": \"white\", \"showbackground\": true, \"ticks\": \"\", \"zerolinecolor\": \"white\"}, \"zaxis\": {\"backgroundcolor\": \"#E5ECF6\", \"gridcolor\": \"white\", \"gridwidth\": 2, \"linecolor\": \"white\", \"showbackground\": true, \"ticks\": \"\", \"zerolinecolor\": \"white\"}}, \"shapedefaults\": {\"line\": {\"color\": \"#2a3f5f\"}}, \"ternary\": {\"aaxis\": {\"gridcolor\": \"white\", \"linecolor\": \"white\", \"ticks\": \"\"}, \"baxis\": {\"gridcolor\": \"white\", \"linecolor\": \"white\", \"ticks\": \"\"}, \"bgcolor\": \"#E5ECF6\", \"caxis\": {\"gridcolor\": \"white\", \"linecolor\": \"white\", \"ticks\": \"\"}}, \"title\": {\"x\": 0.05}, \"xaxis\": {\"automargin\": true, \"gridcolor\": \"white\", \"linecolor\": \"white\", \"ticks\": \"\", \"title\": {\"standoff\": 15}, \"zerolinecolor\": \"white\", \"zerolinewidth\": 2}, \"yaxis\": {\"automargin\": true, \"gridcolor\": \"white\", \"linecolor\": \"white\", \"ticks\": \"\", \"title\": {\"standoff\": 15}, \"zerolinecolor\": \"white\", \"zerolinewidth\": 2}}}, \"title\": {\"text\": \"Optimization History Plot\"}, \"xaxis\": {\"title\": {\"text\": \"#Trials\"}}, \"yaxis\": {\"title\": {\"text\": \"Objective Value\"}}},\n",
              "                        {\"responsive\": true}\n",
              "                    ).then(function(){\n",
              "                            \n",
              "var gd = document.getElementById('721c6921-b1d2-4e9a-aff5-70c21350547f');\n",
              "var x = new MutationObserver(function (mutations, observer) {{\n",
              "        var display = window.getComputedStyle(gd).display;\n",
              "        if (!display || display === 'none') {{\n",
              "            console.log([gd, 'removed!']);\n",
              "            Plotly.purge(gd);\n",
              "            observer.disconnect();\n",
              "        }}\n",
              "}});\n",
              "\n",
              "// Listen for the removal of the full notebook cells\n",
              "var notebookContainer = gd.closest('#notebook-container');\n",
              "if (notebookContainer) {{\n",
              "    x.observe(notebookContainer, {childList: true});\n",
              "}}\n",
              "\n",
              "// Listen for the clearing of the current output cell\n",
              "var outputEl = gd.closest('.output');\n",
              "if (outputEl) {{\n",
              "    x.observe(outputEl, {childList: true});\n",
              "}}\n",
              "\n",
              "                        })\n",
              "                };\n",
              "                \n",
              "            </script>\n",
              "        </div>\n",
              "</body>\n",
              "</html>"
            ]
          },
          "metadata": {}
        }
      ]
    },
    {
      "cell_type": "code",
      "metadata": {
        "id": "YzaKX1wnNvZL"
      },
      "source": [
        ""
      ],
      "execution_count": null,
      "outputs": []
    },
    {
      "cell_type": "code",
      "metadata": {
        "id": "C03Ds5jIp5-9"
      },
      "source": [
        "# xgb_params_3 = {'reg_lambda': 0.03192180574256998,\n",
        "#                 'reg_alpha': 13.989271571542066,\n",
        "#                 'colsample_bytree': 0.12, \n",
        "#                 'subsample': 0.8, \n",
        "#                 'learning_rate': 0.042, \n",
        "#                 'max_depth': 3, \n",
        "#                 'n_estimators': 10000,   \n",
        "#                 'random_state': 42,\n",
        "#                 'booster': 'gbtree',\n",
        "#                 'objective':'reg:squarederror',\n",
        "#                 'n_jobs': 4}\n",
        "\n",
        "xgb_params_3 = {'n_jobs': 4,\n",
        "    'booster': 'gbtree',\n",
        "    'n_estimators': 10000,\n",
        "    'learning_rate': 0.036283,\n",
        "    'reg_lambda': 0.0008746,\n",
        "    'reg_alpha': 23.13181,\n",
        "    'subsample': 0.787549,\n",
        "    'colsample_bytree': 0.11807,\n",
        "    'max_depth':3\n",
        "    }"
      ],
      "execution_count": null,
      "outputs": []
    },
    {
      "cell_type": "code",
      "metadata": {
        "id": "67GDbCq_Rma_"
      },
      "source": [
        "X_test_cv = X_test.copy()"
      ],
      "execution_count": null,
      "outputs": []
    },
    {
      "cell_type": "code",
      "metadata": {
        "colab": {
          "base_uri": "https://localhost:8080/"
        },
        "id": "4nJYAVX8iD_T",
        "outputId": "e709f809-04cf-4c8f-b24c-b984a1012f68"
      },
      "source": [
        "preds = np.zeros(X_test_cv.shape[0])\n",
        "kf = KFold(n_splits=5, random_state=42, shuffle=True)\n",
        "rmse=[]\n",
        "mae=[]\n",
        "idx=0\n",
        "\n",
        "\n",
        "for train_idx, test_idx in kf.split(X_train_XGB, y_train_XGB):\n",
        "\n",
        "    X_train_g, X_val_g = X_train_XGB.iloc[train_idx], X_train_XGB.iloc[test_idx]\n",
        "    y_tr_g, y_val_g = y_train_XGB.iloc[train_idx], y_train_XGB.iloc[test_idx]\n",
        "\n",
        "\n",
        "# XGBRegressor  v2.0\n",
        "\n",
        "    model = XGBRegressor(**xgb_params_3)\n",
        "    model.fit(X_train_g, y_tr_g, eval_set = [(X_val_g, y_val_g)],\n",
        "              early_stopping_rounds=200, verbose=400)\n",
        "             \n",
        "\n",
        "\n",
        "    preds += model.predict(X_test_cv)/kf.n_splits\n",
        "\n",
        "    rmse.append(mean_squared_error(y_val_g, model.predict(X_val_g), squared=False))\n",
        "    mae.append(mean_absolute_error(y_val_g, model.predict(X_val_g)))\n",
        "    print(idx+1,rmse[idx])\n",
        "    print(idx+1,mae[idx])\n",
        "    idx +=1\n"
      ],
      "execution_count": null,
      "outputs": [
        {
          "output_type": "stream",
          "text": [
            "[17:42:16] WARNING: /workspace/src/objective/regression_obj.cu:152: reg:linear is now deprecated in favor of reg:squarederror.\n",
            "[0]\tvalidation_0-rmse:7.49901\n",
            "Will train until validation_0-rmse hasn't improved in 200 rounds.\n",
            "[400]\tvalidation_0-rmse:0.733694\n",
            "[800]\tvalidation_0-rmse:0.728264\n",
            "[1200]\tvalidation_0-rmse:0.725536\n",
            "[1600]\tvalidation_0-rmse:0.723791\n",
            "[2000]\tvalidation_0-rmse:0.722681\n",
            "[2400]\tvalidation_0-rmse:0.721936\n",
            "[2800]\tvalidation_0-rmse:0.721363\n",
            "[3200]\tvalidation_0-rmse:0.72093\n",
            "[3600]\tvalidation_0-rmse:0.72062\n",
            "[4000]\tvalidation_0-rmse:0.720353\n",
            "[4400]\tvalidation_0-rmse:0.720173\n",
            "[4800]\tvalidation_0-rmse:0.720063\n",
            "[5200]\tvalidation_0-rmse:0.719985\n",
            "[5600]\tvalidation_0-rmse:0.719935\n",
            "[6000]\tvalidation_0-rmse:0.719923\n",
            "[6400]\tvalidation_0-rmse:0.719889\n",
            "Stopping. Best iteration:\n",
            "[6402]\tvalidation_0-rmse:0.719887\n",
            "\n",
            "1 0.7198872848789593\n",
            "1 0.5731496466861211\n",
            "[17:48:51] WARNING: /workspace/src/objective/regression_obj.cu:152: reg:linear is now deprecated in favor of reg:squarederror.\n",
            "[0]\tvalidation_0-rmse:7.50118\n",
            "Will train until validation_0-rmse hasn't improved in 200 rounds.\n",
            "[400]\tvalidation_0-rmse:0.733957\n"
          ],
          "name": "stdout"
        }
      ]
    },
    {
      "cell_type": "code",
      "metadata": {
        "colab": {
          "base_uri": "https://localhost:8080/"
        },
        "id": "dN1E-WuaUscZ",
        "outputId": "40493ba3-6fa5-479a-faad-4df9b6279cea"
      },
      "source": [
        "!gdown --id 1B9AzsqMDKT3IKBviJiULpKyLUiHW8eSc"
      ],
      "execution_count": null,
      "outputs": [
        {
          "output_type": "stream",
          "text": [
            "Downloading...\n",
            "From: https://drive.google.com/uc?id=1B9AzsqMDKT3IKBviJiULpKyLUiHW8eSc\n",
            "To: /content/XGB_v2.csv\n",
            "4.92MB [00:00, 30.1MB/s]\n"
          ],
          "name": "stdout"
        }
      ]
    },
    {
      "cell_type": "code",
      "metadata": {
        "id": "VJroIa1dU-uD"
      },
      "source": [
        "sub = pd.read_csv('/content/XGB_v2.csv')"
      ],
      "execution_count": null,
      "outputs": []
    },
    {
      "cell_type": "code",
      "metadata": {
        "id": "9WNYK-VrhWK-",
        "colab": {
          "base_uri": "https://localhost:8080/",
          "height": 17
        },
        "outputId": "57e6a36d-6c73-436f-ea35-8a132a1d1adb"
      },
      "source": [
        "sub_XG_v2 = pd.DataFrame()\n",
        "sub_XG_v2['Id'] = test['id']\n",
        "sub_XG_v2['target'] = preds\n",
        "\n",
        "sub_XG_v2.to_csv('XGB_v2.csv', index=False)\n",
        "files.download('XGB_v2.csv')"
      ],
      "execution_count": null,
      "outputs": [
        {
          "output_type": "display_data",
          "data": {
            "application/javascript": [
              "\n",
              "    async function download(id, filename, size) {\n",
              "      if (!google.colab.kernel.accessAllowed) {\n",
              "        return;\n",
              "      }\n",
              "      const div = document.createElement('div');\n",
              "      const label = document.createElement('label');\n",
              "      label.textContent = `Downloading \"${filename}\": `;\n",
              "      div.appendChild(label);\n",
              "      const progress = document.createElement('progress');\n",
              "      progress.max = size;\n",
              "      div.appendChild(progress);\n",
              "      document.body.appendChild(div);\n",
              "\n",
              "      const buffers = [];\n",
              "      let downloaded = 0;\n",
              "\n",
              "      const channel = await google.colab.kernel.comms.open(id);\n",
              "      // Send a message to notify the kernel that we're ready.\n",
              "      channel.send({})\n",
              "\n",
              "      for await (const message of channel.messages) {\n",
              "        // Send a message to notify the kernel that we're ready.\n",
              "        channel.send({})\n",
              "        if (message.buffers) {\n",
              "          for (const buffer of message.buffers) {\n",
              "            buffers.push(buffer);\n",
              "            downloaded += buffer.byteLength;\n",
              "            progress.value = downloaded;\n",
              "          }\n",
              "        }\n",
              "      }\n",
              "      const blob = new Blob(buffers, {type: 'application/binary'});\n",
              "      const a = document.createElement('a');\n",
              "      a.href = window.URL.createObjectURL(blob);\n",
              "      a.download = filename;\n",
              "      div.appendChild(a);\n",
              "      a.click();\n",
              "      div.remove();\n",
              "    }\n",
              "  "
            ],
            "text/plain": [
              "<IPython.core.display.Javascript object>"
            ]
          },
          "metadata": {}
        },
        {
          "output_type": "display_data",
          "data": {
            "application/javascript": [
              "download(\"download_ceec2fd5-cfc3-4aa4-b40b-4d00a436fb0e\", \"XGB_v2.csv\", 4920971)"
            ],
            "text/plain": [
              "<IPython.core.display.Javascript object>"
            ]
          },
          "metadata": {}
        }
      ]
    },
    {
      "cell_type": "code",
      "metadata": {
        "colab": {
          "base_uri": "https://localhost:8080/",
          "height": 204
        },
        "id": "UZ-kx6Z3h8hC",
        "outputId": "b43487a1-3615-4a39-e8ff-cdd7b8f32ddf"
      },
      "source": [
        "sub_XG_v2.head()"
      ],
      "execution_count": null,
      "outputs": [
        {
          "output_type": "execute_result",
          "data": {
            "text/html": [
              "<div>\n",
              "<style scoped>\n",
              "    .dataframe tbody tr th:only-of-type {\n",
              "        vertical-align: middle;\n",
              "    }\n",
              "\n",
              "    .dataframe tbody tr th {\n",
              "        vertical-align: top;\n",
              "    }\n",
              "\n",
              "    .dataframe thead th {\n",
              "        text-align: right;\n",
              "    }\n",
              "</style>\n",
              "<table border=\"1\" class=\"dataframe\">\n",
              "  <thead>\n",
              "    <tr style=\"text-align: right;\">\n",
              "      <th></th>\n",
              "      <th>Id</th>\n",
              "      <th>target</th>\n",
              "    </tr>\n",
              "  </thead>\n",
              "  <tbody>\n",
              "    <tr>\n",
              "      <th>0</th>\n",
              "      <td>0</td>\n",
              "      <td>8.083860</td>\n",
              "    </tr>\n",
              "    <tr>\n",
              "      <th>1</th>\n",
              "      <td>5</td>\n",
              "      <td>8.412835</td>\n",
              "    </tr>\n",
              "    <tr>\n",
              "      <th>2</th>\n",
              "      <td>15</td>\n",
              "      <td>8.399357</td>\n",
              "    </tr>\n",
              "    <tr>\n",
              "      <th>3</th>\n",
              "      <td>16</td>\n",
              "      <td>8.461291</td>\n",
              "    </tr>\n",
              "    <tr>\n",
              "      <th>4</th>\n",
              "      <td>17</td>\n",
              "      <td>8.164056</td>\n",
              "    </tr>\n",
              "  </tbody>\n",
              "</table>\n",
              "</div>"
            ],
            "text/plain": [
              "   Id    target\n",
              "0   0  8.083860\n",
              "1   5  8.412835\n",
              "2  15  8.399357\n",
              "3  16  8.461291\n",
              "4  17  8.164056"
            ]
          },
          "metadata": {},
          "execution_count": 62
        }
      ]
    },
    {
      "cell_type": "code",
      "metadata": {
        "id": "i21nUO6dVFfI"
      },
      "source": [
        "weights = [.5, .5]"
      ],
      "execution_count": null,
      "outputs": []
    },
    {
      "cell_type": "code",
      "metadata": {
        "id": "0IT_dXHIUzsG"
      },
      "source": [
        "sub_ense = pd.DataFrame()\n",
        "sub_ense['Id'] = test['id']\n",
        "sub_ense['target'] = (sub['target'] * weights[0] + \n",
        "                      sub_XG_v2['target'] * weights[1])"
      ],
      "execution_count": null,
      "outputs": []
    },
    {
      "cell_type": "code",
      "metadata": {
        "id": "OY_ySzd0VNoR"
      },
      "source": [
        "sub_ense.to_csv('ensemble_.5.csv', index=False)"
      ],
      "execution_count": null,
      "outputs": []
    },
    {
      "cell_type": "code",
      "metadata": {
        "id": "Nelt4__yVNoR"
      },
      "source": [
        "files.download('ensemble_.csv')"
      ],
      "execution_count": null,
      "outputs": []
    },
    {
      "cell_type": "code",
      "metadata": {
        "colab": {
          "base_uri": "https://localhost:8080/",
          "height": 204
        },
        "id": "Xh-DYLKPfBnL",
        "outputId": "f39e132f-c309-4149-f79a-84ec30cb56c0"
      },
      "source": [
        "sub_ense.head()"
      ],
      "execution_count": null,
      "outputs": [
        {
          "output_type": "execute_result",
          "data": {
            "text/html": [
              "<div>\n",
              "<style scoped>\n",
              "    .dataframe tbody tr th:only-of-type {\n",
              "        vertical-align: middle;\n",
              "    }\n",
              "\n",
              "    .dataframe tbody tr th {\n",
              "        vertical-align: top;\n",
              "    }\n",
              "\n",
              "    .dataframe thead th {\n",
              "        text-align: right;\n",
              "    }\n",
              "</style>\n",
              "<table border=\"1\" class=\"dataframe\">\n",
              "  <thead>\n",
              "    <tr style=\"text-align: right;\">\n",
              "      <th></th>\n",
              "      <th>Id</th>\n",
              "      <th>target</th>\n",
              "    </tr>\n",
              "  </thead>\n",
              "  <tbody>\n",
              "    <tr>\n",
              "      <th>0</th>\n",
              "      <td>0</td>\n",
              "      <td>8.083784</td>\n",
              "    </tr>\n",
              "    <tr>\n",
              "      <th>1</th>\n",
              "      <td>5</td>\n",
              "      <td>8.405377</td>\n",
              "    </tr>\n",
              "    <tr>\n",
              "      <th>2</th>\n",
              "      <td>15</td>\n",
              "      <td>8.408888</td>\n",
              "    </tr>\n",
              "    <tr>\n",
              "      <th>3</th>\n",
              "      <td>16</td>\n",
              "      <td>8.483880</td>\n",
              "    </tr>\n",
              "    <tr>\n",
              "      <th>4</th>\n",
              "      <td>17</td>\n",
              "      <td>8.146574</td>\n",
              "    </tr>\n",
              "  </tbody>\n",
              "</table>\n",
              "</div>"
            ],
            "text/plain": [
              "   Id    target\n",
              "0   0  8.083784\n",
              "1   5  8.405377\n",
              "2  15  8.408888\n",
              "3  16  8.483880\n",
              "4  17  8.146574"
            ]
          },
          "metadata": {},
          "execution_count": 78
        }
      ]
    },
    {
      "cell_type": "markdown",
      "metadata": {
        "id": "Eej1bTOUWjcQ"
      },
      "source": [
        "```\n",
        "[15:54:38] WARNING: /workspace/src/objective/regression_obj.cu:152: reg:linear is now deprecated in favor of reg:squarederror.\n",
        "[0]\tvalidation_0-rmse:7.50032\n",
        "Will train until validation_0-rmse hasn't improved in 200 rounds.\n",
        "[400]\tvalidation_0-rmse:0.730936\n",
        "[800]\tvalidation_0-rmse:0.725057\n",
        "[1200]\tvalidation_0-rmse:0.722353\n",
        "[1600]\tvalidation_0-rmse:0.720538\n",
        "[2000]\tvalidation_0-rmse:0.719247\n",
        "[2400]\tvalidation_0-rmse:0.718399\n",
        "[2800]\tvalidation_0-rmse:0.717695\n",
        "[3200]\tvalidation_0-rmse:0.717176\n",
        "[3600]\tvalidation_0-rmse:0.716832\n",
        "[4000]\tvalidation_0-rmse:0.71657\n",
        "[4400]\tvalidation_0-rmse:0.716325\n",
        "[4800]\tvalidation_0-rmse:0.716149\n",
        "[5200]\tvalidation_0-rmse:0.715962\n",
        "[5600]\tvalidation_0-rmse:0.715833\n",
        "[6000]\tvalidation_0-rmse:0.715743\n",
        "[6400]\tvalidation_0-rmse:0.715674\n",
        "[6800]\tvalidation_0-rmse:0.715632\n",
        "[7200]\tvalidation_0-rmse:0.715577\n",
        "[7600]\tvalidation_0-rmse:0.715587\n",
        "Stopping. Best iteration:\n",
        "[7484]\tvalidation_0-rmse:0.715571\n",
        "\n",
        "1 0.7155720006649872\n",
        "1 0.5686853944724195\n",
        "[16:08:16] WARNING: /workspace/src/objective/regression_obj.cu:152: reg:linear is now deprecated in favor of reg:squarederror.\n",
        "[0]\tvalidation_0-rmse:7.49707\n",
        "Will train until validation_0-rmse hasn't improved in 200 rounds.\n",
        "[400]\tvalidation_0-rmse:0.730961\n",
        "[800]\tvalidation_0-rmse:0.724801\n",
        "[1200]\tvalidation_0-rmse:0.722014\n",
        "[1600]\tvalidation_0-rmse:0.7202\n",
        "[2000]\tvalidation_0-rmse:0.718939\n",
        "[2400]\tvalidation_0-rmse:0.718117\n",
        "[2800]\tvalidation_0-rmse:0.717504\n",
        "[3200]\tvalidation_0-rmse:0.717031\n",
        "[3600]\tvalidation_0-rmse:0.71674\n",
        "[4000]\tvalidation_0-rmse:0.716487\n",
        "[4400]\tvalidation_0-rmse:0.716315\n",
        "[4800]\tvalidation_0-rmse:0.71615\n",
        "[5200]\tvalidation_0-rmse:0.716047\n",
        "[5600]\tvalidation_0-rmse:0.715988\n",
        "[6000]\tvalidation_0-rmse:0.715948\n",
        "[6400]\tvalidation_0-rmse:0.715917\n",
        "Stopping. Best iteration:\n",
        "[6310]\tvalidation_0-rmse:0.715908\n",
        "\n",
        "2 0.7159082460658261\n",
        "2 0.5704762703852017\n",
        "[16:20:03] WARNING: /workspace/src/objective/regression_obj.cu:152: reg:linear is now deprecated in favor of reg:squarederror.\n",
        "[0]\tvalidation_0-rmse:7.49477\n",
        "Will train until validation_0-rmse hasn't improved in 200 rounds.\n",
        "[400]\tvalidation_0-rmse:0.73231\n",
        "[800]\tvalidation_0-rmse:0.726502\n",
        "[1200]\tvalidation_0-rmse:0.723609\n",
        "[1600]\tvalidation_0-rmse:0.721945\n",
        "[2000]\tvalidation_0-rmse:0.720683\n",
        "[2400]\tvalidation_0-rmse:0.719958\n",
        "[2800]\tvalidation_0-rmse:0.719311\n",
        "[3200]\tvalidation_0-rmse:0.718845\n",
        "[3600]\tvalidation_0-rmse:0.718504\n",
        "[4000]\tvalidation_0-rmse:0.718242\n",
        "[4400]\tvalidation_0-rmse:0.718055\n",
        "[4800]\tvalidation_0-rmse:0.717912\n",
        "[5200]\tvalidation_0-rmse:0.717768\n",
        "[5600]\tvalidation_0-rmse:0.717685\n",
        "[6000]\tvalidation_0-rmse:0.717645\n",
        "[6400]\tvalidation_0-rmse:0.717626\n",
        "[6800]\tvalidation_0-rmse:0.717571\n",
        "[7200]\tvalidation_0-rmse:0.717547\n",
        "Stopping. Best iteration:\n",
        "[7387]\tvalidation_0-rmse:0.71754\n",
        "\n",
        "3 0.7175402173591973\n",
        "3 0.5718355066397238\n",
        "[16:33:56] WARNING: /workspace/src/objective/regression_obj.cu:152: reg:linear is now deprecated in favor of reg:squarederror.\n",
        "[0]\tvalidation_0-rmse:7.49705\n",
        "Will train until validation_0-rmse hasn't improved in 200 rounds.\n",
        "[400]\tvalidation_0-rmse:0.732167\n",
        "[800]\tvalidation_0-rmse:0.726381\n",
        "[1200]\tvalidation_0-rmse:0.723682\n",
        "[1600]\tvalidation_0-rmse:0.721938\n",
        "[2000]\tvalidation_0-rmse:0.720684\n",
        "[2400]\tvalidation_0-rmse:0.719919\n",
        "[2800]\tvalidation_0-rmse:0.719249\n",
        "[3200]\tvalidation_0-rmse:0.718787\n",
        "[3600]\tvalidation_0-rmse:0.718439\n",
        "[4000]\tvalidation_0-rmse:0.718172\n",
        "[4400]\tvalidation_0-rmse:0.717971\n",
        "[4800]\tvalidation_0-rmse:0.717805\n",
        "[5200]\tvalidation_0-rmse:0.717693\n",
        "[5600]\tvalidation_0-rmse:0.717631\n",
        "[6000]\tvalidation_0-rmse:0.717582\n",
        "[6400]\tvalidation_0-rmse:0.71754\n",
        "Stopping. Best iteration:\n",
        "[6531]\tvalidation_0-rmse:0.717509\n",
        "\n",
        "4 0.7175102208969639\n",
        "4 0.5721077816803888\n",
        "[16:46:16] WARNING: /workspace/src/objective/regression_obj.cu:152: reg:linear is now deprecated in favor of reg:squarederror.\n",
        "[0]\tvalidation_0-rmse:7.50246\n",
        "Will train until validation_0-rmse hasn't improved in 200 rounds.\n",
        "[400]\tvalidation_0-rmse:0.732152\n",
        "[800]\tvalidation_0-rmse:0.725905\n",
        "[1200]\tvalidation_0-rmse:0.722886\n",
        "[1600]\tvalidation_0-rmse:0.721004\n",
        "[2000]\tvalidation_0-rmse:0.719525\n",
        "[2400]\tvalidation_0-rmse:0.718635\n",
        "[2800]\tvalidation_0-rmse:0.717964\n",
        "[3200]\tvalidation_0-rmse:0.717409\n",
        "[3600]\tvalidation_0-rmse:0.717012\n",
        "[4000]\tvalidation_0-rmse:0.71668\n",
        "[4400]\tvalidation_0-rmse:0.716429\n",
        "[4800]\tvalidation_0-rmse:0.716265\n",
        "[5200]\tvalidation_0-rmse:0.716108\n",
        "[5600]\tvalidation_0-rmse:0.71599\n",
        "[6000]\tvalidation_0-rmse:0.715905\n",
        "[6400]\tvalidation_0-rmse:0.715863\n",
        "[6800]\tvalidation_0-rmse:0.715797\n",
        "Stopping. Best iteration:\n",
        "[6988]\tvalidation_0-rmse:0.715758\n",
        "\n",
        "5 0.7157589035088991\n",
        "5 0.5690510140061027\n",
        "\n",
        "```"
      ]
    },
    {
      "cell_type": "markdown",
      "metadata": {
        "id": "OxCjUNU5qm5R"
      },
      "source": [
        "### XGB Kfolds v1"
      ]
    },
    {
      "cell_type": "code",
      "metadata": {
        "colab": {
          "base_uri": "https://localhost:8080/"
        },
        "id": "p3W9sVQMmeWC",
        "outputId": "987e1aa6-2b5f-4b64-c8f8-16bfe4d7f7d9"
      },
      "source": [
        "preds = np.zeros(test.shape[0])\n",
        "kf = KFold(n_splits=5, random_state=42, shuffle=True)\n",
        "rmse=[]\n",
        "idx=0\n",
        "\n",
        "\n",
        "for train_idx, test_idx in kf.split(features, target):\n",
        "\n",
        "    X_train_g, X_val_g = features.iloc[train_idx], features.iloc[test_idx]\n",
        "    y_tr_g, y_val_g = target.iloc[train_idx], target.iloc[test_idx]\n",
        "\n",
        "\n",
        "# XGBRegressor\n",
        "\n",
        "    model = XGBRegressor(**xgb_params)\n",
        "    model.fit(X_train_g, y_tr_g, eval_set = [(X_val_g, y_val_g)],\n",
        "              early_stopping_rounds=200, verbose=200)\n",
        "             \n",
        "\n",
        "\n",
        "    preds += model.predict(X_test_cv)/kf.n_splits\n",
        "\n",
        "    rmse.append(mean_squared_error(y_val_g, model.predict(X_val_g), squared=False))\n",
        "    print(idx+1,rmse[idx])\n",
        "    idx +=1\n"
      ],
      "execution_count": null,
      "outputs": [
        {
          "output_type": "stream",
          "text": [
            "[0]\tvalidation_0-rmse:6.82899\n",
            "Will train until validation_0-rmse hasn't improved in 200 rounds.\n",
            "[200]\tvalidation_0-rmse:0.730917\n",
            "[400]\tvalidation_0-rmse:0.726661\n",
            "[600]\tvalidation_0-rmse:0.724249\n",
            "[800]\tvalidation_0-rmse:0.722665\n",
            "[1000]\tvalidation_0-rmse:0.721542\n",
            "[1200]\tvalidation_0-rmse:0.720639\n",
            "[1400]\tvalidation_0-rmse:0.719825\n",
            "[1600]\tvalidation_0-rmse:0.719194\n",
            "[1800]\tvalidation_0-rmse:0.718644\n",
            "[2000]\tvalidation_0-rmse:0.718141\n",
            "[2200]\tvalidation_0-rmse:0.717751\n",
            "[2400]\tvalidation_0-rmse:0.71743\n",
            "[2600]\tvalidation_0-rmse:0.717137\n",
            "[2800]\tvalidation_0-rmse:0.716849\n",
            "[3000]\tvalidation_0-rmse:0.716724\n",
            "[3200]\tvalidation_0-rmse:0.716618\n",
            "[3400]\tvalidation_0-rmse:0.716467\n",
            "[3600]\tvalidation_0-rmse:0.716305\n",
            "[3800]\tvalidation_0-rmse:0.716239\n",
            "[4000]\tvalidation_0-rmse:0.716188\n",
            "[4200]\tvalidation_0-rmse:0.716174\n",
            "[4400]\tvalidation_0-rmse:0.716123\n",
            "[4600]\tvalidation_0-rmse:0.716072\n",
            "[4800]\tvalidation_0-rmse:0.71606\n",
            "Stopping. Best iteration:\n",
            "[4772]\tvalidation_0-rmse:0.716041\n",
            "\n",
            "1 0.7160439239219227\n",
            "[0]\tvalidation_0-rmse:6.82569\n",
            "Will train until validation_0-rmse hasn't improved in 200 rounds.\n",
            "[200]\tvalidation_0-rmse:0.730726\n",
            "[400]\tvalidation_0-rmse:0.726504\n",
            "[600]\tvalidation_0-rmse:0.723943\n",
            "[800]\tvalidation_0-rmse:0.722199\n",
            "[1000]\tvalidation_0-rmse:0.721128\n",
            "[1200]\tvalidation_0-rmse:0.720267\n",
            "[1400]\tvalidation_0-rmse:0.719583\n",
            "[1600]\tvalidation_0-rmse:0.71895\n",
            "[1800]\tvalidation_0-rmse:0.718425\n",
            "[2000]\tvalidation_0-rmse:0.717966\n",
            "[2200]\tvalidation_0-rmse:0.717591\n",
            "[2400]\tvalidation_0-rmse:0.717273\n",
            "[2600]\tvalidation_0-rmse:0.717014\n",
            "[2800]\tvalidation_0-rmse:0.716845\n",
            "[3000]\tvalidation_0-rmse:0.716705\n",
            "[3200]\tvalidation_0-rmse:0.716566\n",
            "[3400]\tvalidation_0-rmse:0.716499\n",
            "[3600]\tvalidation_0-rmse:0.716391\n",
            "[3800]\tvalidation_0-rmse:0.716317\n",
            "[4000]\tvalidation_0-rmse:0.716269\n",
            "[4200]\tvalidation_0-rmse:0.716185\n",
            "[4400]\tvalidation_0-rmse:0.716184\n",
            "Stopping. Best iteration:\n",
            "[4272]\tvalidation_0-rmse:0.716171\n",
            "\n",
            "2 0.7161756373079893\n",
            "[0]\tvalidation_0-rmse:6.82341\n",
            "Will train until validation_0-rmse hasn't improved in 200 rounds.\n",
            "[200]\tvalidation_0-rmse:0.732368\n",
            "[400]\tvalidation_0-rmse:0.728188\n",
            "[600]\tvalidation_0-rmse:0.725897\n",
            "[800]\tvalidation_0-rmse:0.724229\n",
            "[1000]\tvalidation_0-rmse:0.723099\n",
            "[1200]\tvalidation_0-rmse:0.722162\n",
            "[1400]\tvalidation_0-rmse:0.721384\n",
            "[1600]\tvalidation_0-rmse:0.72071\n",
            "[1800]\tvalidation_0-rmse:0.720205\n",
            "[2000]\tvalidation_0-rmse:0.719767\n",
            "[2200]\tvalidation_0-rmse:0.719341\n",
            "[2400]\tvalidation_0-rmse:0.719082\n",
            "[2600]\tvalidation_0-rmse:0.718828\n",
            "[2800]\tvalidation_0-rmse:0.718621\n",
            "[3000]\tvalidation_0-rmse:0.718444\n",
            "[3200]\tvalidation_0-rmse:0.718378\n",
            "[3400]\tvalidation_0-rmse:0.718323\n",
            "[3600]\tvalidation_0-rmse:0.718197\n",
            "[3800]\tvalidation_0-rmse:0.718089\n",
            "[4000]\tvalidation_0-rmse:0.718046\n",
            "[4200]\tvalidation_0-rmse:0.718024\n",
            "[4400]\tvalidation_0-rmse:0.717977\n",
            "[4600]\tvalidation_0-rmse:0.717908\n",
            "[4800]\tvalidation_0-rmse:0.717907\n",
            "[4999]\tvalidation_0-rmse:0.717928\n",
            "3 0.7178958566890385\n",
            "[0]\tvalidation_0-rmse:6.82577\n",
            "Will train until validation_0-rmse hasn't improved in 200 rounds.\n",
            "[200]\tvalidation_0-rmse:0.732204\n",
            "[400]\tvalidation_0-rmse:0.727958\n",
            "[600]\tvalidation_0-rmse:0.725528\n",
            "[800]\tvalidation_0-rmse:0.723937\n",
            "[1000]\tvalidation_0-rmse:0.723033\n",
            "[1200]\tvalidation_0-rmse:0.722146\n",
            "[1400]\tvalidation_0-rmse:0.72139\n",
            "[1600]\tvalidation_0-rmse:0.720732\n",
            "[1800]\tvalidation_0-rmse:0.720184\n",
            "[2000]\tvalidation_0-rmse:0.719719\n",
            "[2200]\tvalidation_0-rmse:0.719262\n",
            "[2400]\tvalidation_0-rmse:0.719007\n",
            "[2600]\tvalidation_0-rmse:0.718773\n",
            "[2800]\tvalidation_0-rmse:0.718549\n",
            "[3000]\tvalidation_0-rmse:0.7184\n",
            "[3200]\tvalidation_0-rmse:0.7183\n",
            "[3400]\tvalidation_0-rmse:0.718273\n",
            "[3600]\tvalidation_0-rmse:0.71812\n",
            "[3800]\tvalidation_0-rmse:0.718019\n",
            "[4000]\tvalidation_0-rmse:0.71797\n",
            "[4200]\tvalidation_0-rmse:0.717944\n",
            "[4400]\tvalidation_0-rmse:0.717904\n",
            "[4600]\tvalidation_0-rmse:0.717864\n",
            "[4800]\tvalidation_0-rmse:0.717879\n",
            "Stopping. Best iteration:\n",
            "[4676]\tvalidation_0-rmse:0.717843\n",
            "\n",
            "4 0.7178480664428779\n",
            "[0]\tvalidation_0-rmse:6.83133\n",
            "Will train until validation_0-rmse hasn't improved in 200 rounds.\n",
            "[200]\tvalidation_0-rmse:0.73206\n",
            "[400]\tvalidation_0-rmse:0.727402\n",
            "[600]\tvalidation_0-rmse:0.724834\n",
            "[800]\tvalidation_0-rmse:0.723007\n",
            "[1000]\tvalidation_0-rmse:0.721882\n",
            "[1200]\tvalidation_0-rmse:0.720912\n",
            "[1400]\tvalidation_0-rmse:0.720079\n",
            "[1600]\tvalidation_0-rmse:0.719408\n",
            "[1800]\tvalidation_0-rmse:0.718807\n",
            "[2000]\tvalidation_0-rmse:0.718347\n",
            "[2200]\tvalidation_0-rmse:0.717842\n",
            "[2400]\tvalidation_0-rmse:0.717521\n",
            "[2600]\tvalidation_0-rmse:0.717263\n",
            "[2800]\tvalidation_0-rmse:0.717013\n",
            "[3000]\tvalidation_0-rmse:0.71681\n",
            "[3200]\tvalidation_0-rmse:0.716651\n",
            "[3400]\tvalidation_0-rmse:0.716467\n",
            "[3600]\tvalidation_0-rmse:0.716351\n",
            "[3800]\tvalidation_0-rmse:0.716287\n",
            "[4000]\tvalidation_0-rmse:0.716175\n",
            "[4200]\tvalidation_0-rmse:0.716103\n",
            "[4400]\tvalidation_0-rmse:0.716083\n",
            "[4600]\tvalidation_0-rmse:0.715998\n",
            "[4800]\tvalidation_0-rmse:0.715999\n",
            "Stopping. Best iteration:\n",
            "[4642]\tvalidation_0-rmse:0.715977\n",
            "\n",
            "5 0.7159780938002998\n"
          ],
          "name": "stdout"
        }
      ]
    },
    {
      "cell_type": "code",
      "metadata": {
        "id": "0Q9MwiyumeWD"
      },
      "source": [
        "sub_XG = pd.DataFrame()\n",
        "sub_XG['Id'] = test_id\n",
        "sub_XG['target'] = preds"
      ],
      "execution_count": null,
      "outputs": []
    },
    {
      "cell_type": "code",
      "metadata": {
        "colab": {
          "base_uri": "https://localhost:8080/",
          "height": 204
        },
        "id": "eT53pICbmeWD",
        "outputId": "a694a063-5d42-4c23-9124-a109ba7ed4fc"
      },
      "source": [
        "sub_XG.head()"
      ],
      "execution_count": null,
      "outputs": [
        {
          "output_type": "execute_result",
          "data": {
            "text/html": [
              "<div>\n",
              "<style scoped>\n",
              "    .dataframe tbody tr th:only-of-type {\n",
              "        vertical-align: middle;\n",
              "    }\n",
              "\n",
              "    .dataframe tbody tr th {\n",
              "        vertical-align: top;\n",
              "    }\n",
              "\n",
              "    .dataframe thead th {\n",
              "        text-align: right;\n",
              "    }\n",
              "</style>\n",
              "<table border=\"1\" class=\"dataframe\">\n",
              "  <thead>\n",
              "    <tr style=\"text-align: right;\">\n",
              "      <th></th>\n",
              "      <th>Id</th>\n",
              "      <th>target</th>\n",
              "    </tr>\n",
              "  </thead>\n",
              "  <tbody>\n",
              "    <tr>\n",
              "      <th>0</th>\n",
              "      <td>0</td>\n",
              "      <td>8.086397</td>\n",
              "    </tr>\n",
              "    <tr>\n",
              "      <th>1</th>\n",
              "      <td>5</td>\n",
              "      <td>8.407320</td>\n",
              "    </tr>\n",
              "    <tr>\n",
              "      <th>2</th>\n",
              "      <td>15</td>\n",
              "      <td>8.421388</td>\n",
              "    </tr>\n",
              "    <tr>\n",
              "      <th>3</th>\n",
              "      <td>16</td>\n",
              "      <td>8.506218</td>\n",
              "    </tr>\n",
              "    <tr>\n",
              "      <th>4</th>\n",
              "      <td>17</td>\n",
              "      <td>8.109425</td>\n",
              "    </tr>\n",
              "  </tbody>\n",
              "</table>\n",
              "</div>"
            ],
            "text/plain": [
              "   Id    target\n",
              "0   0  8.086397\n",
              "1   5  8.407320\n",
              "2  15  8.421388\n",
              "3  16  8.506218\n",
              "4  17  8.109425"
            ]
          },
          "metadata": {},
          "execution_count": 43
        }
      ]
    },
    {
      "cell_type": "markdown",
      "metadata": {
        "id": "zcPqbkyeqqLf"
      },
      "source": [
        "### LGBM"
      ]
    },
    {
      "cell_type": "code",
      "metadata": {
        "id": "ATfMlF6DhQMe",
        "colab": {
          "base_uri": "https://localhost:8080/"
        },
        "outputId": "f8afcc61-5206-430b-e708-a90830e00e25"
      },
      "source": [
        "preds = np.zeros(test.shape[0])\n",
        "kf = KFold(n_splits=5, random_state=42, shuffle=True)\n",
        "rmse=[]\n",
        "idx=0\n",
        "\n",
        "\n",
        "for train_idx, test_idx in kf.split(features, target):\n",
        "\n",
        "    X_train_g, X_val_g = features.iloc[train_idx], features.iloc[test_idx]\n",
        "    y_tr_g, y_val_g = target.iloc[train_idx], target.iloc[test_idx]\n",
        "\n",
        "# LGBMRegressor    \n",
        "\n",
        "    model = LGBMRegressor(**params_lgb)\n",
        "    model.fit(X_train_g, y_tr_g, eval_set = [(X_val_g, y_val_g)],\n",
        "              early_stopping_rounds=200,verbose=False)\n",
        "    preds += model.predict(X_test_cv)/kf.n_splits\n",
        "\n",
        "    rmse.append(mean_squared_error(y_val_g, model.predict(X_val_g), squared=False))\n",
        "    print(idx+1,rmse[idx])\n",
        "    idx +=1"
      ],
      "execution_count": null,
      "outputs": [
        {
          "output_type": "stream",
          "text": [
            "1 0.7166541135702886\n",
            "2 0.7167587046434112\n",
            "3 0.7185340457413194\n",
            "4 0.7184551586950905\n",
            "5 0.7169656524800676\n"
          ],
          "name": "stdout"
        }
      ]
    },
    {
      "cell_type": "code",
      "metadata": {
        "id": "T6uih_Iwhdbw"
      },
      "source": [
        "sub_LGBM = pd.DataFrame()\n",
        "sub_LGBM['Id'] = test_id\n",
        "sub_LGBM['target'] = preds"
      ],
      "execution_count": null,
      "outputs": []
    },
    {
      "cell_type": "code",
      "metadata": {
        "colab": {
          "base_uri": "https://localhost:8080/",
          "height": 204
        },
        "id": "KhcML_7Rh_n7",
        "outputId": "d4d8acc4-a964-4832-bd47-ff8ef9691953"
      },
      "source": [
        "sub_LGBM.head()"
      ],
      "execution_count": null,
      "outputs": [
        {
          "output_type": "execute_result",
          "data": {
            "text/html": [
              "<div>\n",
              "<style scoped>\n",
              "    .dataframe tbody tr th:only-of-type {\n",
              "        vertical-align: middle;\n",
              "    }\n",
              "\n",
              "    .dataframe tbody tr th {\n",
              "        vertical-align: top;\n",
              "    }\n",
              "\n",
              "    .dataframe thead th {\n",
              "        text-align: right;\n",
              "    }\n",
              "</style>\n",
              "<table border=\"1\" class=\"dataframe\">\n",
              "  <thead>\n",
              "    <tr style=\"text-align: right;\">\n",
              "      <th></th>\n",
              "      <th>Id</th>\n",
              "      <th>target</th>\n",
              "    </tr>\n",
              "  </thead>\n",
              "  <tbody>\n",
              "    <tr>\n",
              "      <th>0</th>\n",
              "      <td>0</td>\n",
              "      <td>8.057325</td>\n",
              "    </tr>\n",
              "    <tr>\n",
              "      <th>1</th>\n",
              "      <td>5</td>\n",
              "      <td>8.317713</td>\n",
              "    </tr>\n",
              "    <tr>\n",
              "      <th>2</th>\n",
              "      <td>15</td>\n",
              "      <td>8.403558</td>\n",
              "    </tr>\n",
              "    <tr>\n",
              "      <th>3</th>\n",
              "      <td>16</td>\n",
              "      <td>8.475143</td>\n",
              "    </tr>\n",
              "    <tr>\n",
              "      <th>4</th>\n",
              "      <td>17</td>\n",
              "      <td>8.125825</td>\n",
              "    </tr>\n",
              "  </tbody>\n",
              "</table>\n",
              "</div>"
            ],
            "text/plain": [
              "   Id    target\n",
              "0   0  8.057325\n",
              "1   5  8.317713\n",
              "2  15  8.403558\n",
              "3  16  8.475143\n",
              "4  17  8.125825"
            ]
          },
          "metadata": {},
          "execution_count": 27
        }
      ]
    },
    {
      "cell_type": "markdown",
      "metadata": {
        "id": "JjqR0giKwRQw"
      },
      "source": [
        "# Weighted"
      ]
    },
    {
      "cell_type": "code",
      "metadata": {
        "colab": {
          "base_uri": "https://localhost:8080/"
        },
        "id": "TmGE-CXFhtR6",
        "outputId": "e7b20a1e-e7d2-430e-ba1c-6e3290d76f2a"
      },
      "source": [
        "!gdown --id 1xbEa--ywDx0ZubS8dayzFtb1_ztpVSNj\n",
        "!gdown --id 1pwmoNVxZ9WjW71vdBj_Gt5ADZiFzRarE\n",
        "!gdown --id 1vJJTxsbtIKt6FU8uj1bOOAlWxJs_QgFD\n",
        "!gdown --id 15MAlhnZAP6gPsplr7S_IV403HGC8UWqW"
      ],
      "execution_count": null,
      "outputs": [
        {
          "output_type": "stream",
          "text": [
            "Downloading...\n",
            "From: https://drive.google.com/uc?id=1xbEa--ywDx0ZubS8dayzFtb1_ztpVSNj\n",
            "To: /content/XGB-ensembleKF.csv\n",
            "4.92MB [00:00, 77.9MB/s]\n",
            "Downloading...\n",
            "From: https://drive.google.com/uc?id=1pwmoNVxZ9WjW71vdBj_Gt5ADZiFzRarE\n",
            "To: /content/XGB_full-ensemble.csv\n",
            "3.16MB [00:00, 97.8MB/s]\n",
            "Downloading...\n",
            "From: https://drive.google.com/uc?id=1vJJTxsbtIKt6FU8uj1bOOAlWxJs_QgFD\n",
            "To: /content/LGBM-ensemble.csv\n",
            "4.92MB [00:00, 76.6MB/s]\n",
            "Downloading...\n",
            "From: https://drive.google.com/uc?id=15MAlhnZAP6gPsplr7S_IV403HGC8UWqW\n",
            "To: /content/submission.csv\n",
            "4.92MB [00:00, 76.3MB/s]\n"
          ],
          "name": "stdout"
        }
      ]
    },
    {
      "cell_type": "code",
      "metadata": {
        "id": "j7AcNNCmsTKM"
      },
      "source": [
        "sub_XG = pd.read_csv('/content/XGB-ensembleKF.csv')"
      ],
      "execution_count": null,
      "outputs": []
    },
    {
      "cell_type": "code",
      "metadata": {
        "id": "YceGEmEpsTAA"
      },
      "source": [
        "sub_XG_full = pd.read_csv('/content/XGB_full-ensemble.csv')"
      ],
      "execution_count": null,
      "outputs": []
    },
    {
      "cell_type": "code",
      "metadata": {
        "id": "nQ-wP2p6vODG"
      },
      "source": [
        "sub_LGBM = pd.read_csv('/content/LGBM-ensemble.csv')"
      ],
      "execution_count": null,
      "outputs": []
    },
    {
      "cell_type": "code",
      "metadata": {
        "id": "cLBWsAfkUvVS"
      },
      "source": [
        "sub_ensemble = pd.read_csv('/content/submission.csv')"
      ],
      "execution_count": null,
      "outputs": []
    },
    {
      "cell_type": "code",
      "metadata": {
        "colab": {
          "base_uri": "https://localhost:8080/",
          "height": 750
        },
        "id": "5FYmGVT-vZ_g",
        "outputId": "cd60f2d6-0820-4ab0-c488-08979aff1cc2"
      },
      "source": [
        "display(sub_LGBM.head().style.set_caption('LGBM - 0.71871'))\n",
        "print()\n",
        "print()\n",
        "display(sub_XG.head().style.set_caption('XGB Kfold - 0.71769'))\n",
        "print()\n",
        "print()\n",
        "display(sub_XG_full.head().style.set_caption('XGB - 0.71848'))\n",
        "print()\n",
        "print()\n",
        "display(sub_ensemble.head().style.set_caption('Ensemble - 0.71759'))"
      ],
      "execution_count": null,
      "outputs": [
        {
          "output_type": "display_data",
          "data": {
            "text/html": [
              "<style  type=\"text/css\" >\n",
              "</style><table id=\"T_4b6a4a9c_078c_11ec_94f8_0242ac1c0002\" ><caption>LGBM - 0.71871</caption><thead>    <tr>        <th class=\"blank level0\" ></th>        <th class=\"col_heading level0 col0\" >Id</th>        <th class=\"col_heading level0 col1\" >target</th>    </tr></thead><tbody>\n",
              "                <tr>\n",
              "                        <th id=\"T_4b6a4a9c_078c_11ec_94f8_0242ac1c0002level0_row0\" class=\"row_heading level0 row0\" >0</th>\n",
              "                        <td id=\"T_4b6a4a9c_078c_11ec_94f8_0242ac1c0002row0_col0\" class=\"data row0 col0\" >0</td>\n",
              "                        <td id=\"T_4b6a4a9c_078c_11ec_94f8_0242ac1c0002row0_col1\" class=\"data row0 col1\" >8.057325</td>\n",
              "            </tr>\n",
              "            <tr>\n",
              "                        <th id=\"T_4b6a4a9c_078c_11ec_94f8_0242ac1c0002level0_row1\" class=\"row_heading level0 row1\" >1</th>\n",
              "                        <td id=\"T_4b6a4a9c_078c_11ec_94f8_0242ac1c0002row1_col0\" class=\"data row1 col0\" >5</td>\n",
              "                        <td id=\"T_4b6a4a9c_078c_11ec_94f8_0242ac1c0002row1_col1\" class=\"data row1 col1\" >8.317713</td>\n",
              "            </tr>\n",
              "            <tr>\n",
              "                        <th id=\"T_4b6a4a9c_078c_11ec_94f8_0242ac1c0002level0_row2\" class=\"row_heading level0 row2\" >2</th>\n",
              "                        <td id=\"T_4b6a4a9c_078c_11ec_94f8_0242ac1c0002row2_col0\" class=\"data row2 col0\" >15</td>\n",
              "                        <td id=\"T_4b6a4a9c_078c_11ec_94f8_0242ac1c0002row2_col1\" class=\"data row2 col1\" >8.403558</td>\n",
              "            </tr>\n",
              "            <tr>\n",
              "                        <th id=\"T_4b6a4a9c_078c_11ec_94f8_0242ac1c0002level0_row3\" class=\"row_heading level0 row3\" >3</th>\n",
              "                        <td id=\"T_4b6a4a9c_078c_11ec_94f8_0242ac1c0002row3_col0\" class=\"data row3 col0\" >16</td>\n",
              "                        <td id=\"T_4b6a4a9c_078c_11ec_94f8_0242ac1c0002row3_col1\" class=\"data row3 col1\" >8.475143</td>\n",
              "            </tr>\n",
              "            <tr>\n",
              "                        <th id=\"T_4b6a4a9c_078c_11ec_94f8_0242ac1c0002level0_row4\" class=\"row_heading level0 row4\" >4</th>\n",
              "                        <td id=\"T_4b6a4a9c_078c_11ec_94f8_0242ac1c0002row4_col0\" class=\"data row4 col0\" >17</td>\n",
              "                        <td id=\"T_4b6a4a9c_078c_11ec_94f8_0242ac1c0002row4_col1\" class=\"data row4 col1\" >8.125825</td>\n",
              "            </tr>\n",
              "    </tbody></table>"
            ],
            "text/plain": [
              "<pandas.io.formats.style.Styler at 0x7f320d26e3d0>"
            ]
          },
          "metadata": {}
        },
        {
          "output_type": "stream",
          "text": [
            "\n",
            "\n"
          ],
          "name": "stdout"
        },
        {
          "output_type": "display_data",
          "data": {
            "text/html": [
              "<style  type=\"text/css\" >\n",
              "</style><table id=\"T_4b6b8e8e_078c_11ec_94f8_0242ac1c0002\" ><caption>XGB Kfold - 0.71769</caption><thead>    <tr>        <th class=\"blank level0\" ></th>        <th class=\"col_heading level0 col0\" >Id</th>        <th class=\"col_heading level0 col1\" >target</th>    </tr></thead><tbody>\n",
              "                <tr>\n",
              "                        <th id=\"T_4b6b8e8e_078c_11ec_94f8_0242ac1c0002level0_row0\" class=\"row_heading level0 row0\" >0</th>\n",
              "                        <td id=\"T_4b6b8e8e_078c_11ec_94f8_0242ac1c0002row0_col0\" class=\"data row0 col0\" >0</td>\n",
              "                        <td id=\"T_4b6b8e8e_078c_11ec_94f8_0242ac1c0002row0_col1\" class=\"data row0 col1\" >8.086397</td>\n",
              "            </tr>\n",
              "            <tr>\n",
              "                        <th id=\"T_4b6b8e8e_078c_11ec_94f8_0242ac1c0002level0_row1\" class=\"row_heading level0 row1\" >1</th>\n",
              "                        <td id=\"T_4b6b8e8e_078c_11ec_94f8_0242ac1c0002row1_col0\" class=\"data row1 col0\" >5</td>\n",
              "                        <td id=\"T_4b6b8e8e_078c_11ec_94f8_0242ac1c0002row1_col1\" class=\"data row1 col1\" >8.407320</td>\n",
              "            </tr>\n",
              "            <tr>\n",
              "                        <th id=\"T_4b6b8e8e_078c_11ec_94f8_0242ac1c0002level0_row2\" class=\"row_heading level0 row2\" >2</th>\n",
              "                        <td id=\"T_4b6b8e8e_078c_11ec_94f8_0242ac1c0002row2_col0\" class=\"data row2 col0\" >15</td>\n",
              "                        <td id=\"T_4b6b8e8e_078c_11ec_94f8_0242ac1c0002row2_col1\" class=\"data row2 col1\" >8.421388</td>\n",
              "            </tr>\n",
              "            <tr>\n",
              "                        <th id=\"T_4b6b8e8e_078c_11ec_94f8_0242ac1c0002level0_row3\" class=\"row_heading level0 row3\" >3</th>\n",
              "                        <td id=\"T_4b6b8e8e_078c_11ec_94f8_0242ac1c0002row3_col0\" class=\"data row3 col0\" >16</td>\n",
              "                        <td id=\"T_4b6b8e8e_078c_11ec_94f8_0242ac1c0002row3_col1\" class=\"data row3 col1\" >8.506218</td>\n",
              "            </tr>\n",
              "            <tr>\n",
              "                        <th id=\"T_4b6b8e8e_078c_11ec_94f8_0242ac1c0002level0_row4\" class=\"row_heading level0 row4\" >4</th>\n",
              "                        <td id=\"T_4b6b8e8e_078c_11ec_94f8_0242ac1c0002row4_col0\" class=\"data row4 col0\" >17</td>\n",
              "                        <td id=\"T_4b6b8e8e_078c_11ec_94f8_0242ac1c0002row4_col1\" class=\"data row4 col1\" >8.109425</td>\n",
              "            </tr>\n",
              "    </tbody></table>"
            ],
            "text/plain": [
              "<pandas.io.formats.style.Styler at 0x7f31f74858d0>"
            ]
          },
          "metadata": {}
        },
        {
          "output_type": "stream",
          "text": [
            "\n",
            "\n"
          ],
          "name": "stdout"
        },
        {
          "output_type": "display_data",
          "data": {
            "text/html": [
              "<style  type=\"text/css\" >\n",
              "</style><table id=\"T_4b6cdcda_078c_11ec_94f8_0242ac1c0002\" ><caption>XGB - 0.71848</caption><thead>    <tr>        <th class=\"blank level0\" ></th>        <th class=\"col_heading level0 col0\" >Id</th>        <th class=\"col_heading level0 col1\" >target</th>    </tr></thead><tbody>\n",
              "                <tr>\n",
              "                        <th id=\"T_4b6cdcda_078c_11ec_94f8_0242ac1c0002level0_row0\" class=\"row_heading level0 row0\" >0</th>\n",
              "                        <td id=\"T_4b6cdcda_078c_11ec_94f8_0242ac1c0002row0_col0\" class=\"data row0 col0\" >0</td>\n",
              "                        <td id=\"T_4b6cdcda_078c_11ec_94f8_0242ac1c0002row0_col1\" class=\"data row0 col1\" >8.114770</td>\n",
              "            </tr>\n",
              "            <tr>\n",
              "                        <th id=\"T_4b6cdcda_078c_11ec_94f8_0242ac1c0002level0_row1\" class=\"row_heading level0 row1\" >1</th>\n",
              "                        <td id=\"T_4b6cdcda_078c_11ec_94f8_0242ac1c0002row1_col0\" class=\"data row1 col0\" >5</td>\n",
              "                        <td id=\"T_4b6cdcda_078c_11ec_94f8_0242ac1c0002row1_col1\" class=\"data row1 col1\" >8.451990</td>\n",
              "            </tr>\n",
              "            <tr>\n",
              "                        <th id=\"T_4b6cdcda_078c_11ec_94f8_0242ac1c0002level0_row2\" class=\"row_heading level0 row2\" >2</th>\n",
              "                        <td id=\"T_4b6cdcda_078c_11ec_94f8_0242ac1c0002row2_col0\" class=\"data row2 col0\" >15</td>\n",
              "                        <td id=\"T_4b6cdcda_078c_11ec_94f8_0242ac1c0002row2_col1\" class=\"data row2 col1\" >8.433565</td>\n",
              "            </tr>\n",
              "            <tr>\n",
              "                        <th id=\"T_4b6cdcda_078c_11ec_94f8_0242ac1c0002level0_row3\" class=\"row_heading level0 row3\" >3</th>\n",
              "                        <td id=\"T_4b6cdcda_078c_11ec_94f8_0242ac1c0002row3_col0\" class=\"data row3 col0\" >16</td>\n",
              "                        <td id=\"T_4b6cdcda_078c_11ec_94f8_0242ac1c0002row3_col1\" class=\"data row3 col1\" >8.485857</td>\n",
              "            </tr>\n",
              "            <tr>\n",
              "                        <th id=\"T_4b6cdcda_078c_11ec_94f8_0242ac1c0002level0_row4\" class=\"row_heading level0 row4\" >4</th>\n",
              "                        <td id=\"T_4b6cdcda_078c_11ec_94f8_0242ac1c0002row4_col0\" class=\"data row4 col0\" >17</td>\n",
              "                        <td id=\"T_4b6cdcda_078c_11ec_94f8_0242ac1c0002row4_col1\" class=\"data row4 col1\" >8.129815</td>\n",
              "            </tr>\n",
              "    </tbody></table>"
            ],
            "text/plain": [
              "<pandas.io.formats.style.Styler at 0x7f31f7481b10>"
            ]
          },
          "metadata": {}
        },
        {
          "output_type": "stream",
          "text": [
            "\n",
            "\n"
          ],
          "name": "stdout"
        },
        {
          "output_type": "display_data",
          "data": {
            "text/html": [
              "<style  type=\"text/css\" >\n",
              "</style><table id=\"T_4b7213f8_078c_11ec_94f8_0242ac1c0002\" ><caption>Ensemble - 0.71759</caption><thead>    <tr>        <th class=\"blank level0\" ></th>        <th class=\"col_heading level0 col0\" >id</th>        <th class=\"col_heading level0 col1\" >target</th>    </tr></thead><tbody>\n",
              "                <tr>\n",
              "                        <th id=\"T_4b7213f8_078c_11ec_94f8_0242ac1c0002level0_row0\" class=\"row_heading level0 row0\" >0</th>\n",
              "                        <td id=\"T_4b7213f8_078c_11ec_94f8_0242ac1c0002row0_col0\" class=\"data row0 col0\" >0</td>\n",
              "                        <td id=\"T_4b7213f8_078c_11ec_94f8_0242ac1c0002row0_col1\" class=\"data row0 col1\" >8.085423</td>\n",
              "            </tr>\n",
              "            <tr>\n",
              "                        <th id=\"T_4b7213f8_078c_11ec_94f8_0242ac1c0002level0_row1\" class=\"row_heading level0 row1\" >1</th>\n",
              "                        <td id=\"T_4b7213f8_078c_11ec_94f8_0242ac1c0002row1_col0\" class=\"data row1 col0\" >5</td>\n",
              "                        <td id=\"T_4b7213f8_078c_11ec_94f8_0242ac1c0002row1_col1\" class=\"data row1 col1\" >8.393361</td>\n",
              "            </tr>\n",
              "            <tr>\n",
              "                        <th id=\"T_4b7213f8_078c_11ec_94f8_0242ac1c0002level0_row2\" class=\"row_heading level0 row2\" >2</th>\n",
              "                        <td id=\"T_4b7213f8_078c_11ec_94f8_0242ac1c0002row2_col0\" class=\"data row2 col0\" >15</td>\n",
              "                        <td id=\"T_4b7213f8_078c_11ec_94f8_0242ac1c0002row2_col1\" class=\"data row2 col1\" >8.419000</td>\n",
              "            </tr>\n",
              "            <tr>\n",
              "                        <th id=\"T_4b7213f8_078c_11ec_94f8_0242ac1c0002level0_row3\" class=\"row_heading level0 row3\" >3</th>\n",
              "                        <td id=\"T_4b7213f8_078c_11ec_94f8_0242ac1c0002row3_col0\" class=\"data row3 col0\" >16</td>\n",
              "                        <td id=\"T_4b7213f8_078c_11ec_94f8_0242ac1c0002row3_col1\" class=\"data row3 col1\" >8.512267</td>\n",
              "            </tr>\n",
              "            <tr>\n",
              "                        <th id=\"T_4b7213f8_078c_11ec_94f8_0242ac1c0002level0_row4\" class=\"row_heading level0 row4\" >4</th>\n",
              "                        <td id=\"T_4b7213f8_078c_11ec_94f8_0242ac1c0002row4_col0\" class=\"data row4 col0\" >17</td>\n",
              "                        <td id=\"T_4b7213f8_078c_11ec_94f8_0242ac1c0002row4_col1\" class=\"data row4 col1\" >8.127342</td>\n",
              "            </tr>\n",
              "    </tbody></table>"
            ],
            "text/plain": [
              "<pandas.io.formats.style.Styler at 0x7f31f74857d0>"
            ]
          },
          "metadata": {}
        }
      ]
    },
    {
      "cell_type": "code",
      "metadata": {
        "id": "9e_wD4UIh_lB"
      },
      "source": [
        "#XGB Kfold - 0.71769, LGBM - 0.71871, XGB - 0.71848, Ensemble - 0.71759 - Итог 0.71761\n",
        "weights = [.45, .00, .05, .5]"
      ],
      "execution_count": null,
      "outputs": []
    },
    {
      "cell_type": "code",
      "metadata": {
        "id": "tX08ZLF7WOgq"
      },
      "source": [
        "#XGB Kfold - 0.71769, LGBM - 0.71871, XGB - 0.71848, Ensemble - 0.71759 - Итог \n",
        "weights = [.25, .00, .05, .7]"
      ],
      "execution_count": null,
      "outputs": []
    },
    {
      "cell_type": "code",
      "metadata": {
        "id": "CwlN7mjkaZ_v"
      },
      "source": [
        "#XGB Kfold - 0.71769, LGBM - 0.71871, XGB - 0.71848, Ensemble - 0.71759 \n",
        "weights = [.15, .00, .00, .85]"
      ],
      "execution_count": null,
      "outputs": []
    },
    {
      "cell_type": "code",
      "metadata": {
        "id": "6x6a6Yo9adTD"
      },
      "source": [
        "#XGB Kfold - 0.71769, LGBM - 0.71871, XGB - 0.71848, Ensemble - 0.71759 \n",
        "weights = [.1, .00, .00, .9]"
      ],
      "execution_count": null,
      "outputs": []
    },
    {
      "cell_type": "code",
      "metadata": {
        "id": "dFCz8EQ9fG13"
      },
      "source": [
        "#XGB Kfold - 0.71769, LGBM - 0.71871, XGB - 0.71848, Ensemble - 0.71759 \n",
        "weights = [.05, .00, .00, .95]"
      ],
      "execution_count": null,
      "outputs": []
    },
    {
      "cell_type": "code",
      "metadata": {
        "id": "_RpM17RxfOyO"
      },
      "source": [
        "#XGB Kfold - 0.71769, LGBM - 0.71871, XGB - 0.71848, Ensemble - 0.71759 \n",
        "weights = [.5, .00, .00, .5]"
      ],
      "execution_count": null,
      "outputs": []
    },
    {
      "cell_type": "code",
      "metadata": {
        "id": "ORKdQAVxYEI1"
      },
      "source": [
        "#XGB Kfold - 0.71769, LGBM - 0.71871, XGB - 0.71848, Ensemble - 0.71759 \n",
        "weights = [.4, .10, .10, .4]"
      ],
      "execution_count": null,
      "outputs": []
    },
    {
      "cell_type": "code",
      "metadata": {
        "id": "IyhHPaGNolCm"
      },
      "source": [
        "#XGB Kfold - 0.71769, LGBM - 0.71871, XGB - 0.71848, Ensemble - 0.71759 \n",
        "weights = [.05, .00, .05, .9]"
      ],
      "execution_count": null,
      "outputs": []
    },
    {
      "cell_type": "code",
      "metadata": {
        "id": "kUUuuQw4qV-g"
      },
      "source": [
        "#XGB Kfold - 0.71769, LGBM - 0.71871, XGB - 0.71848, Ensemble - 0.71759 \n",
        "weights = [.00, .00, .00, 0.99931]"
      ],
      "execution_count": null,
      "outputs": []
    },
    {
      "cell_type": "code",
      "metadata": {
        "id": "uFMsTEiR5oS3"
      },
      "source": [
        "sum(weights)"
      ],
      "execution_count": null,
      "outputs": []
    },
    {
      "cell_type": "code",
      "metadata": {
        "id": "fEfaHKq6itkS"
      },
      "source": [
        "sub_ense = pd.DataFrame()\n",
        "sub_ense['Id'] = test['id']\n",
        "sub_ense['target'] = (sub_XG['target'] * weights[0] + \n",
        "                      sub_LGBM['target'] * weights[1] +\n",
        "                      sub_XG_full['target'] * weights[2]+\n",
        "                      sub_ensemble['target'] * weights [3]\n",
        "                      )"
      ],
      "execution_count": null,
      "outputs": []
    },
    {
      "cell_type": "code",
      "metadata": {
        "colab": {
          "base_uri": "https://localhost:8080/",
          "height": 204
        },
        "id": "CgETrChSi-Tj",
        "outputId": "397e76f6-b481-4e5a-e514-d2136e3534eb"
      },
      "source": [
        "sub_ense.head()"
      ],
      "execution_count": null,
      "outputs": [
        {
          "output_type": "execute_result",
          "data": {
            "text/html": [
              "<div>\n",
              "<style scoped>\n",
              "    .dataframe tbody tr th:only-of-type {\n",
              "        vertical-align: middle;\n",
              "    }\n",
              "\n",
              "    .dataframe tbody tr th {\n",
              "        vertical-align: top;\n",
              "    }\n",
              "\n",
              "    .dataframe thead th {\n",
              "        text-align: right;\n",
              "    }\n",
              "</style>\n",
              "<table border=\"1\" class=\"dataframe\">\n",
              "  <thead>\n",
              "    <tr style=\"text-align: right;\">\n",
              "      <th></th>\n",
              "      <th>Id</th>\n",
              "      <th>target</th>\n",
              "    </tr>\n",
              "  </thead>\n",
              "  <tbody>\n",
              "    <tr>\n",
              "      <th>0</th>\n",
              "      <td>0</td>\n",
              "      <td>8.079359</td>\n",
              "    </tr>\n",
              "    <tr>\n",
              "      <th>1</th>\n",
              "      <td>5</td>\n",
              "      <td>8.387066</td>\n",
              "    </tr>\n",
              "    <tr>\n",
              "      <th>2</th>\n",
              "      <td>15</td>\n",
              "      <td>8.412686</td>\n",
              "    </tr>\n",
              "    <tr>\n",
              "      <th>3</th>\n",
              "      <td>16</td>\n",
              "      <td>8.505882</td>\n",
              "    </tr>\n",
              "    <tr>\n",
              "      <th>4</th>\n",
              "      <td>17</td>\n",
              "      <td>8.121246</td>\n",
              "    </tr>\n",
              "  </tbody>\n",
              "</table>\n",
              "</div>"
            ],
            "text/plain": [
              "   Id    target\n",
              "0   0  8.079359\n",
              "1   5  8.387066\n",
              "2  15  8.412686\n",
              "3  16  8.505882\n",
              "4  17  8.121246"
            ]
          },
          "metadata": {},
          "execution_count": 77
        }
      ]
    },
    {
      "cell_type": "code",
      "metadata": {
        "id": "-YtSn74133zS"
      },
      "source": [
        "sub_ense.to_csv('ensemble.csv', index=False)"
      ],
      "execution_count": null,
      "outputs": []
    },
    {
      "cell_type": "code",
      "metadata": {
        "colab": {
          "base_uri": "https://localhost:8080/",
          "height": 17
        },
        "id": "cFZ7Lz2WiF6P",
        "outputId": "c38767fe-64b4-4562-bdbe-52bd12f98b20"
      },
      "source": [
        "files.download('ensemble.csv')"
      ],
      "execution_count": null,
      "outputs": [
        {
          "output_type": "display_data",
          "data": {
            "application/javascript": [
              "\n",
              "    async function download(id, filename, size) {\n",
              "      if (!google.colab.kernel.accessAllowed) {\n",
              "        return;\n",
              "      }\n",
              "      const div = document.createElement('div');\n",
              "      const label = document.createElement('label');\n",
              "      label.textContent = `Downloading \"${filename}\": `;\n",
              "      div.appendChild(label);\n",
              "      const progress = document.createElement('progress');\n",
              "      progress.max = size;\n",
              "      div.appendChild(progress);\n",
              "      document.body.appendChild(div);\n",
              "\n",
              "      const buffers = [];\n",
              "      let downloaded = 0;\n",
              "\n",
              "      const channel = await google.colab.kernel.comms.open(id);\n",
              "      // Send a message to notify the kernel that we're ready.\n",
              "      channel.send({})\n",
              "\n",
              "      for await (const message of channel.messages) {\n",
              "        // Send a message to notify the kernel that we're ready.\n",
              "        channel.send({})\n",
              "        if (message.buffers) {\n",
              "          for (const buffer of message.buffers) {\n",
              "            buffers.push(buffer);\n",
              "            downloaded += buffer.byteLength;\n",
              "            progress.value = downloaded;\n",
              "          }\n",
              "        }\n",
              "      }\n",
              "      const blob = new Blob(buffers, {type: 'application/binary'});\n",
              "      const a = document.createElement('a');\n",
              "      a.href = window.URL.createObjectURL(blob);\n",
              "      a.download = filename;\n",
              "      div.appendChild(a);\n",
              "      a.click();\n",
              "      div.remove();\n",
              "    }\n",
              "  "
            ],
            "text/plain": [
              "<IPython.core.display.Javascript object>"
            ]
          },
          "metadata": {}
        },
        {
          "output_type": "display_data",
          "data": {
            "application/javascript": [
              "download(\"download_b1ac7a0e-f476-4d4e-a35a-1c1dd1f47da6\", \"ensemble.csv\", 4921016)"
            ],
            "text/plain": [
              "<IPython.core.display.Javascript object>"
            ]
          },
          "metadata": {}
        }
      ]
    },
    {
      "cell_type": "markdown",
      "metadata": {
        "id": "QDcBHzT46Jsc"
      },
      "source": [
        "### MLP"
      ]
    },
    {
      "cell_type": "code",
      "metadata": {
        "id": "nRqdsTGk4QdZ"
      },
      "source": [
        "from sklearn.neural_network import MLPRegressor"
      ],
      "execution_count": null,
      "outputs": []
    },
    {
      "cell_type": "code",
      "metadata": {
        "id": "vCYL5h6t4QsW"
      },
      "source": [
        "def objective(trial,data=X_train_XGB,target=y_train_XGB):\n",
        "    \n",
        "    train_x, test_x, train_y, test_y = train_test_split(X_train_XGB, y_train_XGB, test_size=0.25,\n",
        "                                                        random_state=42)\n",
        "    param = {\n",
        "\n",
        "\n",
        "        'learning_rate': 'adaptive',\n",
        "        'hidden_layer_sizes': trial.suggest_categorical('hidden_layer_sizes', [200,100]),\n",
        "        'random_state': 42,\n",
        "        'activation': 'relu',\n",
        "        'learning_rate_init':trial.suggest_categorical('learning_rate_init', [0.001,0.01,0.05,0.2]),\n",
        "        'validation_fraction': 0.25,\n",
        "        'max_iter': trial.suggest_categorical('max_iter', [200, 400, 100]),\n",
        "        'solver':'sgd',\n",
        "        'verbose':False,\n",
        "        'alpha': trial.suggest_categorical('alpha', [0.0001, 0.001, 0.01]),\n",
        "        'early_stopping': True\n",
        "    }\n",
        "    model = MLPRegressor(**param)  \n",
        "    \n",
        "    model.fit(train_x,train_y)\n",
        "    \n",
        "    preds = model.predict(test_x)\n",
        "    \n",
        "    mse =  mean_squared_error(test_y, preds, squared=False)\n",
        "    \n",
        "    return mse\n",
        "\n"
      ],
      "execution_count": null,
      "outputs": []
    },
    {
      "cell_type": "code",
      "metadata": {
        "id": "7WbhI4jq4QsW"
      },
      "source": [
        "study = optuna.create_study(direction='minimize')\n",
        "study.optimize(objective, n_trials=25)\n",
        "print('Number of finished trials:', len(study.trials))\n",
        "print('Best trial:', study.best_trial.params)"
      ],
      "execution_count": null,
      "outputs": []
    },
    {
      "cell_type": "code",
      "metadata": {
        "colab": {
          "base_uri": "https://localhost:8080/",
          "height": 542
        },
        "id": "dM4IFk5D4QsW",
        "outputId": "0f26d5c6-5d24-4f99-ea5f-43463bb83c7a"
      },
      "source": [
        "optuna.visualization.plot_optimization_history(study)"
      ],
      "execution_count": null,
      "outputs": [
        {
          "output_type": "display_data",
          "data": {
            "text/html": [
              "<html>\n",
              "<head><meta charset=\"utf-8\" /></head>\n",
              "<body>\n",
              "    <div>\n",
              "            <script src=\"https://cdnjs.cloudflare.com/ajax/libs/mathjax/2.7.5/MathJax.js?config=TeX-AMS-MML_SVG\"></script><script type=\"text/javascript\">if (window.MathJax) {MathJax.Hub.Config({SVG: {font: \"STIX-Web\"}});}</script>\n",
              "                <script type=\"text/javascript\">window.PlotlyConfig = {MathJaxConfig: 'local'};</script>\n",
              "        <script src=\"https://cdn.plot.ly/plotly-latest.min.js\"></script>    \n",
              "            <div id=\"86f6a346-41d9-4aee-8d6a-aedd3ef044e2\" class=\"plotly-graph-div\" style=\"height:525px; width:100%;\"></div>\n",
              "            <script type=\"text/javascript\">\n",
              "                \n",
              "                    window.PLOTLYENV=window.PLOTLYENV || {};\n",
              "                    \n",
              "                if (document.getElementById(\"86f6a346-41d9-4aee-8d6a-aedd3ef044e2\")) {\n",
              "                    Plotly.newPlot(\n",
              "                        '86f6a346-41d9-4aee-8d6a-aedd3ef044e2',\n",
              "                        [{\"mode\": \"markers\", \"name\": \"Objective Value\", \"type\": \"scatter\", \"x\": [0, 1, 2, 3, 4, 5], \"y\": [0.748027402026386, 0.7405626656543663, 0.7405303902697027, 0.7409443943697611, 0.7396275492815145, 0.7480273897168995]}, {\"name\": \"Best Value\", \"type\": \"scatter\", \"x\": [0, 1, 2, 3, 4, 5], \"y\": [0.748027402026386, 0.7405626656543663, 0.7405303902697027, 0.7405303902697027, 0.7396275492815145, 0.7396275492815145]}],\n",
              "                        {\"template\": {\"data\": {\"bar\": [{\"error_x\": {\"color\": \"#2a3f5f\"}, \"error_y\": {\"color\": \"#2a3f5f\"}, \"marker\": {\"line\": {\"color\": \"#E5ECF6\", \"width\": 0.5}}, \"type\": \"bar\"}], \"barpolar\": [{\"marker\": {\"line\": {\"color\": \"#E5ECF6\", \"width\": 0.5}}, \"type\": \"barpolar\"}], \"carpet\": [{\"aaxis\": {\"endlinecolor\": \"#2a3f5f\", \"gridcolor\": \"white\", \"linecolor\": \"white\", \"minorgridcolor\": \"white\", \"startlinecolor\": \"#2a3f5f\"}, \"baxis\": {\"endlinecolor\": \"#2a3f5f\", \"gridcolor\": \"white\", \"linecolor\": \"white\", \"minorgridcolor\": \"white\", \"startlinecolor\": \"#2a3f5f\"}, \"type\": \"carpet\"}], \"choropleth\": [{\"colorbar\": {\"outlinewidth\": 0, \"ticks\": \"\"}, \"type\": \"choropleth\"}], \"contour\": [{\"colorbar\": {\"outlinewidth\": 0, \"ticks\": \"\"}, \"colorscale\": [[0.0, \"#0d0887\"], [0.1111111111111111, \"#46039f\"], [0.2222222222222222, \"#7201a8\"], [0.3333333333333333, \"#9c179e\"], [0.4444444444444444, \"#bd3786\"], [0.5555555555555556, \"#d8576b\"], [0.6666666666666666, \"#ed7953\"], [0.7777777777777778, \"#fb9f3a\"], [0.8888888888888888, \"#fdca26\"], [1.0, \"#f0f921\"]], \"type\": \"contour\"}], \"contourcarpet\": [{\"colorbar\": {\"outlinewidth\": 0, \"ticks\": \"\"}, \"type\": \"contourcarpet\"}], \"heatmap\": [{\"colorbar\": {\"outlinewidth\": 0, \"ticks\": \"\"}, \"colorscale\": [[0.0, \"#0d0887\"], [0.1111111111111111, \"#46039f\"], [0.2222222222222222, \"#7201a8\"], [0.3333333333333333, \"#9c179e\"], [0.4444444444444444, \"#bd3786\"], [0.5555555555555556, \"#d8576b\"], [0.6666666666666666, \"#ed7953\"], [0.7777777777777778, \"#fb9f3a\"], [0.8888888888888888, \"#fdca26\"], [1.0, \"#f0f921\"]], \"type\": \"heatmap\"}], \"heatmapgl\": [{\"colorbar\": {\"outlinewidth\": 0, \"ticks\": \"\"}, \"colorscale\": [[0.0, \"#0d0887\"], [0.1111111111111111, \"#46039f\"], [0.2222222222222222, \"#7201a8\"], [0.3333333333333333, \"#9c179e\"], [0.4444444444444444, \"#bd3786\"], [0.5555555555555556, \"#d8576b\"], [0.6666666666666666, \"#ed7953\"], [0.7777777777777778, \"#fb9f3a\"], [0.8888888888888888, \"#fdca26\"], [1.0, \"#f0f921\"]], \"type\": \"heatmapgl\"}], \"histogram\": [{\"marker\": {\"colorbar\": {\"outlinewidth\": 0, \"ticks\": \"\"}}, \"type\": \"histogram\"}], \"histogram2d\": [{\"colorbar\": {\"outlinewidth\": 0, \"ticks\": \"\"}, \"colorscale\": [[0.0, \"#0d0887\"], [0.1111111111111111, \"#46039f\"], [0.2222222222222222, \"#7201a8\"], [0.3333333333333333, \"#9c179e\"], [0.4444444444444444, \"#bd3786\"], [0.5555555555555556, \"#d8576b\"], [0.6666666666666666, \"#ed7953\"], [0.7777777777777778, \"#fb9f3a\"], [0.8888888888888888, \"#fdca26\"], [1.0, \"#f0f921\"]], \"type\": \"histogram2d\"}], \"histogram2dcontour\": [{\"colorbar\": {\"outlinewidth\": 0, \"ticks\": \"\"}, \"colorscale\": [[0.0, \"#0d0887\"], [0.1111111111111111, \"#46039f\"], [0.2222222222222222, \"#7201a8\"], [0.3333333333333333, \"#9c179e\"], [0.4444444444444444, \"#bd3786\"], [0.5555555555555556, \"#d8576b\"], [0.6666666666666666, \"#ed7953\"], [0.7777777777777778, \"#fb9f3a\"], [0.8888888888888888, \"#fdca26\"], [1.0, \"#f0f921\"]], \"type\": \"histogram2dcontour\"}], \"mesh3d\": [{\"colorbar\": {\"outlinewidth\": 0, \"ticks\": \"\"}, \"type\": \"mesh3d\"}], \"parcoords\": [{\"line\": {\"colorbar\": {\"outlinewidth\": 0, \"ticks\": \"\"}}, \"type\": \"parcoords\"}], \"pie\": [{\"automargin\": true, \"type\": \"pie\"}], \"scatter\": [{\"marker\": {\"colorbar\": {\"outlinewidth\": 0, \"ticks\": \"\"}}, \"type\": \"scatter\"}], \"scatter3d\": [{\"line\": {\"colorbar\": {\"outlinewidth\": 0, \"ticks\": \"\"}}, \"marker\": {\"colorbar\": {\"outlinewidth\": 0, \"ticks\": \"\"}}, \"type\": \"scatter3d\"}], \"scattercarpet\": [{\"marker\": {\"colorbar\": {\"outlinewidth\": 0, \"ticks\": \"\"}}, \"type\": \"scattercarpet\"}], \"scattergeo\": [{\"marker\": {\"colorbar\": {\"outlinewidth\": 0, \"ticks\": \"\"}}, \"type\": \"scattergeo\"}], \"scattergl\": [{\"marker\": {\"colorbar\": {\"outlinewidth\": 0, \"ticks\": \"\"}}, \"type\": \"scattergl\"}], \"scattermapbox\": [{\"marker\": {\"colorbar\": {\"outlinewidth\": 0, \"ticks\": \"\"}}, \"type\": \"scattermapbox\"}], \"scatterpolar\": [{\"marker\": {\"colorbar\": {\"outlinewidth\": 0, \"ticks\": \"\"}}, \"type\": \"scatterpolar\"}], \"scatterpolargl\": [{\"marker\": {\"colorbar\": {\"outlinewidth\": 0, \"ticks\": \"\"}}, \"type\": \"scatterpolargl\"}], \"scatterternary\": [{\"marker\": {\"colorbar\": {\"outlinewidth\": 0, \"ticks\": \"\"}}, \"type\": \"scatterternary\"}], \"surface\": [{\"colorbar\": {\"outlinewidth\": 0, \"ticks\": \"\"}, \"colorscale\": [[0.0, \"#0d0887\"], [0.1111111111111111, \"#46039f\"], [0.2222222222222222, \"#7201a8\"], [0.3333333333333333, \"#9c179e\"], [0.4444444444444444, \"#bd3786\"], [0.5555555555555556, \"#d8576b\"], [0.6666666666666666, \"#ed7953\"], [0.7777777777777778, \"#fb9f3a\"], [0.8888888888888888, \"#fdca26\"], [1.0, \"#f0f921\"]], \"type\": \"surface\"}], \"table\": [{\"cells\": {\"fill\": {\"color\": \"#EBF0F8\"}, \"line\": {\"color\": \"white\"}}, \"header\": {\"fill\": {\"color\": \"#C8D4E3\"}, \"line\": {\"color\": \"white\"}}, \"type\": \"table\"}]}, \"layout\": {\"annotationdefaults\": {\"arrowcolor\": \"#2a3f5f\", \"arrowhead\": 0, \"arrowwidth\": 1}, \"coloraxis\": {\"colorbar\": {\"outlinewidth\": 0, \"ticks\": \"\"}}, \"colorscale\": {\"diverging\": [[0, \"#8e0152\"], [0.1, \"#c51b7d\"], [0.2, \"#de77ae\"], [0.3, \"#f1b6da\"], [0.4, \"#fde0ef\"], [0.5, \"#f7f7f7\"], [0.6, \"#e6f5d0\"], [0.7, \"#b8e186\"], [0.8, \"#7fbc41\"], [0.9, \"#4d9221\"], [1, \"#276419\"]], \"sequential\": [[0.0, \"#0d0887\"], [0.1111111111111111, \"#46039f\"], [0.2222222222222222, \"#7201a8\"], [0.3333333333333333, \"#9c179e\"], [0.4444444444444444, \"#bd3786\"], [0.5555555555555556, \"#d8576b\"], [0.6666666666666666, \"#ed7953\"], [0.7777777777777778, \"#fb9f3a\"], [0.8888888888888888, \"#fdca26\"], [1.0, \"#f0f921\"]], \"sequentialminus\": [[0.0, \"#0d0887\"], [0.1111111111111111, \"#46039f\"], [0.2222222222222222, \"#7201a8\"], [0.3333333333333333, \"#9c179e\"], [0.4444444444444444, \"#bd3786\"], [0.5555555555555556, \"#d8576b\"], [0.6666666666666666, \"#ed7953\"], [0.7777777777777778, \"#fb9f3a\"], [0.8888888888888888, \"#fdca26\"], [1.0, \"#f0f921\"]]}, \"colorway\": [\"#636efa\", \"#EF553B\", \"#00cc96\", \"#ab63fa\", \"#FFA15A\", \"#19d3f3\", \"#FF6692\", \"#B6E880\", \"#FF97FF\", \"#FECB52\"], \"font\": {\"color\": \"#2a3f5f\"}, \"geo\": {\"bgcolor\": \"white\", \"lakecolor\": \"white\", \"landcolor\": \"#E5ECF6\", \"showlakes\": true, \"showland\": true, \"subunitcolor\": \"white\"}, \"hoverlabel\": {\"align\": \"left\"}, \"hovermode\": \"closest\", \"mapbox\": {\"style\": \"light\"}, \"paper_bgcolor\": \"white\", \"plot_bgcolor\": \"#E5ECF6\", \"polar\": {\"angularaxis\": {\"gridcolor\": \"white\", \"linecolor\": \"white\", \"ticks\": \"\"}, \"bgcolor\": \"#E5ECF6\", \"radialaxis\": {\"gridcolor\": \"white\", \"linecolor\": \"white\", \"ticks\": \"\"}}, \"scene\": {\"xaxis\": {\"backgroundcolor\": \"#E5ECF6\", \"gridcolor\": \"white\", \"gridwidth\": 2, \"linecolor\": \"white\", \"showbackground\": true, \"ticks\": \"\", \"zerolinecolor\": \"white\"}, \"yaxis\": {\"backgroundcolor\": \"#E5ECF6\", \"gridcolor\": \"white\", \"gridwidth\": 2, \"linecolor\": \"white\", \"showbackground\": true, \"ticks\": \"\", \"zerolinecolor\": \"white\"}, \"zaxis\": {\"backgroundcolor\": \"#E5ECF6\", \"gridcolor\": \"white\", \"gridwidth\": 2, \"linecolor\": \"white\", \"showbackground\": true, \"ticks\": \"\", \"zerolinecolor\": \"white\"}}, \"shapedefaults\": {\"line\": {\"color\": \"#2a3f5f\"}}, \"ternary\": {\"aaxis\": {\"gridcolor\": \"white\", \"linecolor\": \"white\", \"ticks\": \"\"}, \"baxis\": {\"gridcolor\": \"white\", \"linecolor\": \"white\", \"ticks\": \"\"}, \"bgcolor\": \"#E5ECF6\", \"caxis\": {\"gridcolor\": \"white\", \"linecolor\": \"white\", \"ticks\": \"\"}}, \"title\": {\"x\": 0.05}, \"xaxis\": {\"automargin\": true, \"gridcolor\": \"white\", \"linecolor\": \"white\", \"ticks\": \"\", \"title\": {\"standoff\": 15}, \"zerolinecolor\": \"white\", \"zerolinewidth\": 2}, \"yaxis\": {\"automargin\": true, \"gridcolor\": \"white\", \"linecolor\": \"white\", \"ticks\": \"\", \"title\": {\"standoff\": 15}, \"zerolinecolor\": \"white\", \"zerolinewidth\": 2}}}, \"title\": {\"text\": \"Optimization History Plot\"}, \"xaxis\": {\"title\": {\"text\": \"#Trials\"}}, \"yaxis\": {\"title\": {\"text\": \"Objective Value\"}}},\n",
              "                        {\"responsive\": true}\n",
              "                    ).then(function(){\n",
              "                            \n",
              "var gd = document.getElementById('86f6a346-41d9-4aee-8d6a-aedd3ef044e2');\n",
              "var x = new MutationObserver(function (mutations, observer) {{\n",
              "        var display = window.getComputedStyle(gd).display;\n",
              "        if (!display || display === 'none') {{\n",
              "            console.log([gd, 'removed!']);\n",
              "            Plotly.purge(gd);\n",
              "            observer.disconnect();\n",
              "        }}\n",
              "}});\n",
              "\n",
              "// Listen for the removal of the full notebook cells\n",
              "var notebookContainer = gd.closest('#notebook-container');\n",
              "if (notebookContainer) {{\n",
              "    x.observe(notebookContainer, {childList: true});\n",
              "}}\n",
              "\n",
              "// Listen for the clearing of the current output cell\n",
              "var outputEl = gd.closest('.output');\n",
              "if (outputEl) {{\n",
              "    x.observe(outputEl, {childList: true});\n",
              "}}\n",
              "\n",
              "                        })\n",
              "                };\n",
              "                \n",
              "            </script>\n",
              "        </div>\n",
              "</body>\n",
              "</html>"
            ]
          },
          "metadata": {}
        }
      ]
    },
    {
      "cell_type": "code",
      "metadata": {
        "colab": {
          "base_uri": "https://localhost:8080/"
        },
        "id": "SgyueGue93Z9",
        "outputId": "c3fdf7be-90bc-4e82-c0c6-b9b78eb8b7cf"
      },
      "source": [
        "print('Best trial:', study.best_trial.params)"
      ],
      "execution_count": null,
      "outputs": [
        {
          "output_type": "stream",
          "text": [
            "Best trial: {'hidden_layer_sizes': 200, 'learning_rate_init': 0.01, 'max_iter': 100, 'alpha': 0.01}\n"
          ],
          "name": "stdout"
        }
      ]
    },
    {
      "cell_type": "code",
      "metadata": {
        "id": "4LsypupaDUIh"
      },
      "source": [
        "param = {\n",
        "\n",
        "\n",
        "        'learning_rate': 'adaptive',\n",
        "        'hidden_layer_sizes': (200,100,50),\n",
        "        'random_state': 42,\n",
        "        'activation': 'relu',\n",
        "        'validation_fraction': 0.25,\n",
        "         'learning_rate_init': 0.01,\n",
        "        'max_iter': 5000,\n",
        "        'solver':'sgd',\n",
        "        'momentum':0.99,\n",
        "        'verbose': 1,\n",
        "        'alpha': 0.001,\n",
        "        'early_stopping': True\n",
        "    }"
      ],
      "execution_count": null,
      "outputs": []
    },
    {
      "cell_type": "code",
      "metadata": {
        "id": "vapfGiZ-9ybR"
      },
      "source": [
        "X_test_cv = X_test.copy()"
      ],
      "execution_count": null,
      "outputs": []
    },
    {
      "cell_type": "code",
      "metadata": {
        "id": "Wj1RWz8HAEoW"
      },
      "source": [
        "from sklearn.preprocessing import MinMaxScaler\n",
        "scaler = MinMaxScaler()\n",
        "X_train_norm = scaler.fit_transform(X_train_XGB)\n",
        "X_test_norm = scaler.transform(X_test_cv)"
      ],
      "execution_count": null,
      "outputs": []
    },
    {
      "cell_type": "code",
      "metadata": {
        "colab": {
          "base_uri": "https://localhost:8080/"
        },
        "id": "ikdPCREdGsfI",
        "outputId": "e756c1cd-4c2d-4c95-bf93-c9760afa66dd"
      },
      "source": [
        "X_train_norm[:,10]"
      ],
      "execution_count": null,
      "outputs": [
        {
          "output_type": "execute_result",
          "data": {
            "text/plain": [
              "array([0.36593041, 0.44035027, 0.73249435, ..., 0.60064   , 0.95899029,\n",
              "       0.17954225])"
            ]
          },
          "metadata": {},
          "execution_count": 61
        }
      ]
    },
    {
      "cell_type": "code",
      "metadata": {
        "colab": {
          "base_uri": "https://localhost:8080/"
        },
        "id": "h9BmeCvFG5Jh",
        "outputId": "a4a26639-9684-426e-e6f8-2db5e4f27de3"
      },
      "source": [
        "model = MLPRegressor(**param)  \n",
        "model.fit(X_train_norm, y_train_XGB)"
      ],
      "execution_count": null,
      "outputs": [
        {
          "output_type": "stream",
          "text": [
            "Iteration 1, loss = 0.45802975\n",
            "Validation score: 0.018594\n",
            "Iteration 2, loss = 0.27999396\n",
            "Validation score: -0.000145\n",
            "Iteration 3, loss = 0.27923581\n",
            "Validation score: 0.014723\n",
            "Iteration 4, loss = 0.27848677\n",
            "Validation score: 0.020606\n",
            "Iteration 5, loss = 0.27830364\n",
            "Validation score: -0.022200\n",
            "Iteration 6, loss = 0.27785053\n",
            "Validation score: 0.013113\n",
            "Iteration 7, loss = 0.27815549\n",
            "Validation score: 0.014707\n",
            "Iteration 8, loss = 0.27770955\n",
            "Validation score: 0.010791\n",
            "Iteration 9, loss = 0.27777065\n",
            "Validation score: 0.020356\n",
            "Iteration 10, loss = 0.27775900\n",
            "Validation score: 0.015954\n",
            "Iteration 11, loss = 0.27758492\n",
            "Validation score: 0.020482\n",
            "Iteration 12, loss = 0.27742704\n",
            "Validation score: 0.015346\n",
            "Iteration 13, loss = 0.27719324\n",
            "Validation score: 0.019383\n",
            "Iteration 14, loss = 0.27735230\n",
            "Validation score: 0.019266\n",
            "Iteration 15, loss = 0.27735015\n",
            "Validation score: 0.016545\n",
            "Validation score did not improve more than tol=0.000100 for 10 consecutive epochs. Setting learning rate to 0.002000\n",
            "Iteration 16, loss = 0.27596007\n",
            "Validation score: 0.022437\n",
            "Iteration 17, loss = 0.27571064\n",
            "Validation score: 0.022402\n",
            "Iteration 18, loss = 0.27581078\n",
            "Validation score: 0.018791\n",
            "Iteration 19, loss = 0.27585807\n",
            "Validation score: 0.022341\n",
            "Iteration 20, loss = 0.27568308\n",
            "Validation score: 0.012509\n",
            "Iteration 21, loss = 0.27573448\n",
            "Validation score: 0.021953\n",
            "Iteration 22, loss = 0.27593019\n",
            "Validation score: 0.020460\n",
            "Iteration 23, loss = 0.27557120\n",
            "Validation score: 0.016678\n",
            "Iteration 24, loss = 0.27556407\n",
            "Validation score: 0.020330\n",
            "Iteration 25, loss = 0.27552394\n",
            "Validation score: 0.022849\n",
            "Iteration 26, loss = 0.27564064\n",
            "Validation score: 0.013101\n",
            "Iteration 27, loss = 0.27562065\n",
            "Validation score: 0.023049\n",
            "Iteration 28, loss = 0.27546338\n",
            "Validation score: 0.015036\n",
            "Iteration 29, loss = 0.27561265\n",
            "Validation score: 0.020944\n",
            "Iteration 30, loss = 0.27547590\n",
            "Validation score: 0.020035\n",
            "Iteration 31, loss = 0.27541192\n",
            "Validation score: 0.014527\n",
            "Iteration 32, loss = 0.27546907\n",
            "Validation score: 0.020219\n",
            "Iteration 33, loss = 0.27532201\n",
            "Validation score: 0.002594\n",
            "Iteration 34, loss = 0.27539872\n",
            "Validation score: 0.023274\n",
            "Iteration 35, loss = 0.27527065\n",
            "Validation score: 0.020195\n",
            "Iteration 36, loss = 0.27523233\n",
            "Validation score: 0.022821\n",
            "Iteration 37, loss = 0.27529930\n",
            "Validation score: 0.022142\n",
            "Iteration 38, loss = 0.27511746\n",
            "Validation score: 0.023066\n",
            "Iteration 39, loss = 0.27516818\n",
            "Validation score: 0.023291\n",
            "Iteration 40, loss = 0.27500839\n",
            "Validation score: 0.019781\n",
            "Iteration 41, loss = 0.27503541\n",
            "Validation score: 0.023403\n",
            "Iteration 42, loss = 0.27512308\n",
            "Validation score: 0.022666\n",
            "Iteration 43, loss = 0.27488067\n",
            "Validation score: 0.022441\n",
            "Iteration 44, loss = 0.27528858\n",
            "Validation score: 0.023374\n",
            "Iteration 45, loss = 0.27517678\n",
            "Validation score: -0.000971\n",
            "Iteration 46, loss = 0.27518417\n",
            "Validation score: 0.023463\n",
            "Iteration 47, loss = 0.27505082\n",
            "Validation score: 0.017704\n",
            "Iteration 48, loss = 0.27521477\n",
            "Validation score: 0.022588\n",
            "Iteration 49, loss = 0.27500798\n",
            "Validation score: 0.023863\n",
            "Iteration 50, loss = 0.27488688\n",
            "Validation score: 0.022021\n",
            "Iteration 51, loss = 0.27502408\n",
            "Validation score: 0.021555\n",
            "Iteration 52, loss = 0.27493205\n",
            "Validation score: 0.017143\n",
            "Iteration 53, loss = 0.27495167\n",
            "Validation score: 0.024293\n",
            "Iteration 54, loss = 0.27488033\n",
            "Validation score: 0.022213\n",
            "Iteration 55, loss = 0.27482593\n",
            "Validation score: 0.020361\n",
            "Iteration 56, loss = 0.27481821\n",
            "Validation score: 0.024169\n",
            "Iteration 57, loss = 0.27491344\n",
            "Validation score: 0.021798\n",
            "Iteration 58, loss = 0.27480895\n",
            "Validation score: 0.022225\n",
            "Iteration 59, loss = 0.27463677\n",
            "Validation score: 0.023743\n",
            "Iteration 60, loss = 0.27473758\n",
            "Validation score: 0.024548\n",
            "Iteration 61, loss = 0.27463711\n",
            "Validation score: 0.023132\n",
            "Iteration 62, loss = 0.27479459\n",
            "Validation score: 0.015640\n",
            "Iteration 63, loss = 0.27470409\n",
            "Validation score: 0.024750\n",
            "Iteration 64, loss = 0.27448747\n",
            "Validation score: 0.021808\n",
            "Iteration 65, loss = 0.27472238\n",
            "Validation score: 0.022506\n",
            "Iteration 66, loss = 0.27474906\n",
            "Validation score: 0.023925\n",
            "Iteration 67, loss = 0.27457800\n",
            "Validation score: 0.023452\n",
            "Iteration 68, loss = 0.27462014\n",
            "Validation score: 0.025104\n",
            "Iteration 69, loss = 0.27447942\n",
            "Validation score: 0.024327\n",
            "Iteration 70, loss = 0.27440959\n",
            "Validation score: 0.013075\n",
            "Iteration 71, loss = 0.27460246\n",
            "Validation score: 0.024664\n",
            "Iteration 72, loss = 0.27478347\n",
            "Validation score: 0.021430\n",
            "Iteration 73, loss = 0.27449652\n",
            "Validation score: 0.024018\n",
            "Iteration 74, loss = 0.27487127\n",
            "Validation score: 0.025251\n",
            "Iteration 75, loss = 0.27443322\n",
            "Validation score: 0.024189\n",
            "Iteration 76, loss = 0.27447555\n",
            "Validation score: 0.023849\n",
            "Iteration 77, loss = 0.27443412\n",
            "Validation score: 0.024068\n",
            "Iteration 78, loss = 0.27436911\n",
            "Validation score: 0.025416\n",
            "Iteration 79, loss = 0.27439333\n",
            "Validation score: 0.020872\n",
            "Iteration 80, loss = 0.27434316\n",
            "Validation score: 0.025697\n",
            "Iteration 81, loss = 0.27449049\n",
            "Validation score: 0.025264\n",
            "Iteration 82, loss = 0.27429783\n",
            "Validation score: 0.022876\n",
            "Iteration 83, loss = 0.27429001\n",
            "Validation score: 0.025115\n",
            "Iteration 84, loss = 0.27429746\n",
            "Validation score: 0.025234\n",
            "Iteration 85, loss = 0.27450991\n",
            "Validation score: 0.025150\n",
            "Iteration 86, loss = 0.27443856\n",
            "Validation score: 0.023021\n",
            "Iteration 87, loss = 0.27437790\n",
            "Validation score: 0.024750\n",
            "Iteration 88, loss = 0.27415765\n",
            "Validation score: 0.020964\n",
            "Iteration 89, loss = 0.27421134\n",
            "Validation score: 0.010872\n",
            "Iteration 90, loss = 0.27405425\n",
            "Validation score: 0.024385\n",
            "Iteration 91, loss = 0.27436027\n",
            "Validation score: 0.025330\n",
            "Validation score did not improve more than tol=0.000100 for 10 consecutive epochs. Setting learning rate to 0.000400\n",
            "Iteration 92, loss = 0.27439429\n",
            "Validation score: 0.025694\n",
            "Iteration 93, loss = 0.27379032\n",
            "Validation score: 0.023620\n",
            "Iteration 94, loss = 0.27345148\n",
            "Validation score: 0.023403\n",
            "Iteration 95, loss = 0.27355250\n",
            "Validation score: 0.024038\n",
            "Iteration 96, loss = 0.27400012\n",
            "Validation score: 0.024919\n",
            "Iteration 97, loss = 0.27340484\n",
            "Validation score: 0.025868\n",
            "Iteration 98, loss = 0.27370810\n",
            "Validation score: 0.023535\n",
            "Iteration 99, loss = 0.27343428\n",
            "Validation score: 0.024058\n",
            "Iteration 100, loss = 0.27349196\n",
            "Validation score: 0.024427\n",
            "Iteration 101, loss = 0.27365276\n",
            "Validation score: 0.025822\n",
            "Iteration 102, loss = 0.27345197\n",
            "Validation score: 0.024943\n",
            "Iteration 103, loss = 0.27342478\n",
            "Validation score: 0.025848\n",
            "Iteration 104, loss = 0.27337799\n",
            "Validation score: 0.024538\n",
            "Iteration 105, loss = 0.27360135\n",
            "Validation score: 0.025989\n",
            "Iteration 106, loss = 0.27347931\n",
            "Validation score: 0.025248\n",
            "Iteration 107, loss = 0.27363895\n",
            "Validation score: 0.026272\n",
            "Iteration 108, loss = 0.27362030\n",
            "Validation score: 0.025702\n",
            "Iteration 109, loss = 0.27360409\n",
            "Validation score: 0.018857\n",
            "Iteration 110, loss = 0.27371802\n",
            "Validation score: 0.025620\n",
            "Iteration 111, loss = 0.27366403\n",
            "Validation score: 0.025191\n",
            "Iteration 112, loss = 0.27347935\n",
            "Validation score: 0.025716\n",
            "Iteration 113, loss = 0.27364912\n",
            "Validation score: 0.025962\n",
            "Iteration 114, loss = 0.27350554\n",
            "Validation score: 0.026158\n",
            "Iteration 115, loss = 0.27343230\n",
            "Validation score: 0.026109\n",
            "Iteration 116, loss = 0.27341025\n",
            "Validation score: 0.023572\n",
            "Iteration 117, loss = 0.27343947\n",
            "Validation score: 0.026028\n",
            "Iteration 118, loss = 0.27353715\n",
            "Validation score: 0.024797\n",
            "Validation score did not improve more than tol=0.000100 for 10 consecutive epochs. Setting learning rate to 0.000080\n",
            "Iteration 119, loss = 0.27335727\n",
            "Validation score: 0.026156\n",
            "Iteration 120, loss = 0.27312621\n",
            "Validation score: 0.024768\n",
            "Iteration 121, loss = 0.27315040\n",
            "Validation score: 0.025478\n",
            "Iteration 122, loss = 0.27307811\n",
            "Validation score: 0.025638\n",
            "Iteration 123, loss = 0.27308923\n",
            "Validation score: 0.025203\n",
            "Iteration 124, loss = 0.27315129\n",
            "Validation score: 0.026134\n",
            "Iteration 125, loss = 0.27309777\n",
            "Validation score: 0.025358\n",
            "Iteration 126, loss = 0.27316779\n",
            "Validation score: 0.026267\n",
            "Iteration 127, loss = 0.27313512\n",
            "Validation score: 0.023785\n",
            "Iteration 128, loss = 0.27314693\n",
            "Validation score: 0.024254\n",
            "Iteration 129, loss = 0.27321343\n",
            "Validation score: 0.024250\n",
            "Validation score did not improve more than tol=0.000100 for 10 consecutive epochs. Setting learning rate to 0.000016\n",
            "Iteration 130, loss = 0.27305537\n",
            "Validation score: 0.026085\n",
            "Iteration 131, loss = 0.27296735\n",
            "Validation score: 0.026253\n",
            "Iteration 132, loss = 0.27296459\n",
            "Validation score: 0.026202\n",
            "Iteration 133, loss = 0.27297608\n",
            "Validation score: 0.026208\n",
            "Iteration 134, loss = 0.27300324\n",
            "Validation score: 0.026158\n",
            "Iteration 135, loss = 0.27303083\n",
            "Validation score: 0.026250\n",
            "Iteration 136, loss = 0.27297862\n",
            "Validation score: 0.026236\n",
            "Iteration 137, loss = 0.27300845\n",
            "Validation score: 0.026066\n",
            "Iteration 138, loss = 0.27310621\n",
            "Validation score: 0.025862\n",
            "Iteration 139, loss = 0.27294675\n",
            "Validation score: 0.025775\n",
            "Iteration 140, loss = 0.27295986\n",
            "Validation score: 0.026206\n",
            "Validation score did not improve more than tol=0.000100 for 10 consecutive epochs. Setting learning rate to 0.000003\n",
            "Iteration 141, loss = 0.27295249\n",
            "Validation score: 0.026162\n",
            "Iteration 142, loss = 0.27293918\n",
            "Validation score: 0.026245\n",
            "Iteration 143, loss = 0.27293360\n",
            "Validation score: 0.026255\n",
            "Iteration 144, loss = 0.27293617\n",
            "Validation score: 0.026212\n",
            "Iteration 145, loss = 0.27294376\n",
            "Validation score: 0.026253\n",
            "Iteration 146, loss = 0.27293120\n",
            "Validation score: 0.026195\n",
            "Iteration 147, loss = 0.27293841\n",
            "Validation score: 0.026240\n",
            "Iteration 148, loss = 0.27294202\n",
            "Validation score: 0.026255\n",
            "Iteration 149, loss = 0.27293337\n",
            "Validation score: 0.026244\n",
            "Iteration 150, loss = 0.27292810\n",
            "Validation score: 0.026183\n",
            "Iteration 151, loss = 0.27293912\n",
            "Validation score: 0.026248\n",
            "Validation score did not improve more than tol=0.000100 for 10 consecutive epochs. Setting learning rate to 0.000001\n",
            "Iteration 152, loss = 0.27292895\n",
            "Validation score: 0.026254\n",
            "Iteration 153, loss = 0.27292690\n",
            "Validation score: 0.026254\n",
            "Iteration 154, loss = 0.27292566\n",
            "Validation score: 0.026249\n",
            "Iteration 155, loss = 0.27292715\n",
            "Validation score: 0.026250\n",
            "Iteration 156, loss = 0.27292687\n",
            "Validation score: 0.026251\n",
            "Iteration 157, loss = 0.27292594\n",
            "Validation score: 0.026254\n",
            "Iteration 158, loss = 0.27292647\n",
            "Validation score: 0.026249\n",
            "Iteration 159, loss = 0.27292656\n",
            "Validation score: 0.026254\n",
            "Iteration 160, loss = 0.27292697\n",
            "Validation score: 0.026253\n",
            "Iteration 161, loss = 0.27292497\n",
            "Validation score: 0.026245\n",
            "Iteration 162, loss = 0.27292764\n",
            "Validation score: 0.026254\n",
            "Validation score did not improve more than tol=0.000100 for 10 consecutive epochs. Learning rate too small. Stopping.\n"
          ],
          "name": "stdout"
        },
        {
          "output_type": "execute_result",
          "data": {
            "text/plain": [
              "MLPRegressor(activation='relu', alpha=0.001, batch_size='auto', beta_1=0.9,\n",
              "             beta_2=0.999, early_stopping=True, epsilon=1e-08,\n",
              "             hidden_layer_sizes=(200, 100, 50), learning_rate='adaptive',\n",
              "             learning_rate_init=0.01, max_fun=15000, max_iter=5000,\n",
              "             momentum=0.99, n_iter_no_change=10, nesterovs_momentum=True,\n",
              "             power_t=0.5, random_state=42, shuffle=True, solver='sgd',\n",
              "             tol=0.0001, validation_fraction=0.25, verbose=1, warm_start=False)"
            ]
          },
          "metadata": {},
          "execution_count": 65
        }
      ]
    },
    {
      "cell_type": "code",
      "metadata": {
        "id": "fLmJyAd7JRJ9"
      },
      "source": [
        "X_val_XGB = scaler.fit_transform(X_val_XGB)"
      ],
      "execution_count": null,
      "outputs": []
    },
    {
      "cell_type": "code",
      "metadata": {
        "colab": {
          "base_uri": "https://localhost:8080/"
        },
        "id": "Qz5r7BVBHOu0",
        "outputId": "eaa18537-754e-468d-a759-194ef72d6240"
      },
      "source": [
        "print(mean_squared_error(y_sanity, y_val_XGB))\n",
        "print(mean_absolute_error(y_sanity, y_val_XGB))"
      ],
      "execution_count": null,
      "outputs": [
        {
          "output_type": "stream",
          "text": [
            "0.5552372295086838\n",
            "0.5902937515851268\n"
          ],
          "name": "stdout"
        }
      ]
    },
    {
      "cell_type": "code",
      "metadata": {
        "id": "HJh_3P0cH41s"
      },
      "source": [
        "preds = model.predict(X_test_norm)"
      ],
      "execution_count": null,
      "outputs": []
    },
    {
      "cell_type": "code",
      "metadata": {
        "colab": {
          "base_uri": "https://localhost:8080/"
        },
        "id": "8duulmGIH4yP",
        "outputId": "d8c7ab0d-f852-4ce7-ec89-f8fabbb3a6ed"
      },
      "source": [
        "preds"
      ],
      "execution_count": null,
      "outputs": [
        {
          "output_type": "execute_result",
          "data": {
            "text/plain": [
              "array([8.01143346, 8.30268438, 8.36312168, ..., 8.36647525, 8.15659797,\n",
              "       8.24235826])"
            ]
          },
          "metadata": {},
          "execution_count": 70
        }
      ]
    },
    {
      "cell_type": "code",
      "metadata": {
        "colab": {
          "base_uri": "https://localhost:8080/",
          "height": 17
        },
        "id": "zdbaAmsyH4v5",
        "outputId": "36c57340-d427-4dfa-e85b-274913700709"
      },
      "source": [
        "PerLP = pd.DataFrame()\n",
        "PerLP['Id'] = test['id']\n",
        "PerLP['target'] = preds\n",
        "\n",
        "PerLP.to_csv('PerLP.csv', index=False)\n",
        "files.download('PerLP.csv')"
      ],
      "execution_count": null,
      "outputs": [
        {
          "output_type": "display_data",
          "data": {
            "application/javascript": [
              "\n",
              "    async function download(id, filename, size) {\n",
              "      if (!google.colab.kernel.accessAllowed) {\n",
              "        return;\n",
              "      }\n",
              "      const div = document.createElement('div');\n",
              "      const label = document.createElement('label');\n",
              "      label.textContent = `Downloading \"${filename}\": `;\n",
              "      div.appendChild(label);\n",
              "      const progress = document.createElement('progress');\n",
              "      progress.max = size;\n",
              "      div.appendChild(progress);\n",
              "      document.body.appendChild(div);\n",
              "\n",
              "      const buffers = [];\n",
              "      let downloaded = 0;\n",
              "\n",
              "      const channel = await google.colab.kernel.comms.open(id);\n",
              "      // Send a message to notify the kernel that we're ready.\n",
              "      channel.send({})\n",
              "\n",
              "      for await (const message of channel.messages) {\n",
              "        // Send a message to notify the kernel that we're ready.\n",
              "        channel.send({})\n",
              "        if (message.buffers) {\n",
              "          for (const buffer of message.buffers) {\n",
              "            buffers.push(buffer);\n",
              "            downloaded += buffer.byteLength;\n",
              "            progress.value = downloaded;\n",
              "          }\n",
              "        }\n",
              "      }\n",
              "      const blob = new Blob(buffers, {type: 'application/binary'});\n",
              "      const a = document.createElement('a');\n",
              "      a.href = window.URL.createObjectURL(blob);\n",
              "      a.download = filename;\n",
              "      div.appendChild(a);\n",
              "      a.click();\n",
              "      div.remove();\n",
              "    }\n",
              "  "
            ],
            "text/plain": [
              "<IPython.core.display.Javascript object>"
            ]
          },
          "metadata": {}
        },
        {
          "output_type": "display_data",
          "data": {
            "application/javascript": [
              "download(\"download_e792992b-d9d0-45f8-b734-6e35201ef3ef\", \"PerLP.csv\", 4917851)"
            ],
            "text/plain": [
              "<IPython.core.display.Javascript object>"
            ]
          },
          "metadata": {}
        }
      ]
    },
    {
      "cell_type": "code",
      "metadata": {
        "id": "00FviSNOH4sB"
      },
      "source": [
        ""
      ],
      "execution_count": null,
      "outputs": []
    },
    {
      "cell_type": "code",
      "metadata": {
        "id": "KEpabhqfH4cY"
      },
      "source": [
        "X_train_XGB, X_val_XGB, y_train_XGB,y_val_XGB = train_test_split(features, target, test_size=0.25,\n",
        "                                                                  random_state=42)"
      ],
      "execution_count": null,
      "outputs": []
    },
    {
      "cell_type": "code",
      "metadata": {
        "id": "sQbSI4YZ_X4B"
      },
      "source": [
        "preds = np.zeros(X_test_cv.shape[0])\n",
        "kf = KFold(n_splits=5, random_state=42, shuffle=True)\n",
        "rmse=[]\n",
        "mae=[]\n",
        "idx=0\n",
        "\n",
        "\n",
        "for train_idx, test_idx in kf.split(X_train_XGB, y_train_XGB):\n",
        "\n",
        "    X_train_g, X_val_g = X_train_XGB.iloc[train_idx], X_train_XGB.iloc[test_idx]\n",
        "    y_tr_g, y_val_g = y_train_XGB.iloc[train_idx], y_train_XGB.iloc[test_idx]\n",
        "\n",
        "\n",
        "\n",
        "    model = MLPRegressor(**param)  \n",
        "    model.fit(X_train_g, y_tr_g)\n",
        "             \n",
        "\n",
        "\n",
        "    preds += model.predict(X_test_cv)/kf.n_splits\n",
        "\n",
        "    rmse.append(mean_squared_error(y_val_g, model.predict(X_val_g), squared=False))\n",
        "    mae.append(mean_absolute_error(y_val_g, model.predict(X_val_g)))\n",
        "    print(idx+1,rmse[idx])\n",
        "    print(idx+1,mae[idx])\n",
        "    idx +=1\n"
      ],
      "execution_count": null,
      "outputs": []
    },
    {
      "cell_type": "code",
      "metadata": {
        "colab": {
          "base_uri": "https://localhost:8080/",
          "height": 17
        },
        "id": "WooJ8ZcZ_Xw_",
        "outputId": "746a6d11-28c7-4ec6-8dad-89e5f76b267f"
      },
      "source": [
        "PerLP = pd.DataFrame()\n",
        "PerLP['Id'] = test['id']\n",
        "PerLP['target'] = preds\n",
        "\n",
        "PerLP.to_csv('PerLP.csv', index=False)\n",
        "files.download('PerLP.csv')"
      ],
      "execution_count": null,
      "outputs": [
        {
          "output_type": "display_data",
          "data": {
            "application/javascript": [
              "\n",
              "    async function download(id, filename, size) {\n",
              "      if (!google.colab.kernel.accessAllowed) {\n",
              "        return;\n",
              "      }\n",
              "      const div = document.createElement('div');\n",
              "      const label = document.createElement('label');\n",
              "      label.textContent = `Downloading \"${filename}\": `;\n",
              "      div.appendChild(label);\n",
              "      const progress = document.createElement('progress');\n",
              "      progress.max = size;\n",
              "      div.appendChild(progress);\n",
              "      document.body.appendChild(div);\n",
              "\n",
              "      const buffers = [];\n",
              "      let downloaded = 0;\n",
              "\n",
              "      const channel = await google.colab.kernel.comms.open(id);\n",
              "      // Send a message to notify the kernel that we're ready.\n",
              "      channel.send({})\n",
              "\n",
              "      for await (const message of channel.messages) {\n",
              "        // Send a message to notify the kernel that we're ready.\n",
              "        channel.send({})\n",
              "        if (message.buffers) {\n",
              "          for (const buffer of message.buffers) {\n",
              "            buffers.push(buffer);\n",
              "            downloaded += buffer.byteLength;\n",
              "            progress.value = downloaded;\n",
              "          }\n",
              "        }\n",
              "      }\n",
              "      const blob = new Blob(buffers, {type: 'application/binary'});\n",
              "      const a = document.createElement('a');\n",
              "      a.href = window.URL.createObjectURL(blob);\n",
              "      a.download = filename;\n",
              "      div.appendChild(a);\n",
              "      a.click();\n",
              "      div.remove();\n",
              "    }\n",
              "  "
            ],
            "text/plain": [
              "<IPython.core.display.Javascript object>"
            ]
          },
          "metadata": {}
        },
        {
          "output_type": "display_data",
          "data": {
            "application/javascript": [
              "download(\"download_d7bbfef8-e5e3-4b19-8470-8824448128fa\", \"PerLP.csv\", 4916302)"
            ],
            "text/plain": [
              "<IPython.core.display.Javascript object>"
            ]
          },
          "metadata": {}
        }
      ]
    },
    {
      "cell_type": "code",
      "metadata": {
        "colab": {
          "base_uri": "https://localhost:8080/",
          "height": 204
        },
        "id": "juLPwF91GTsY",
        "outputId": "8ca2fdde-6caa-4de7-a0a5-e57f7065572e"
      },
      "source": [
        "PerLP.head()"
      ],
      "execution_count": null,
      "outputs": [
        {
          "output_type": "execute_result",
          "data": {
            "text/html": [
              "<div>\n",
              "<style scoped>\n",
              "    .dataframe tbody tr th:only-of-type {\n",
              "        vertical-align: middle;\n",
              "    }\n",
              "\n",
              "    .dataframe tbody tr th {\n",
              "        vertical-align: top;\n",
              "    }\n",
              "\n",
              "    .dataframe thead th {\n",
              "        text-align: right;\n",
              "    }\n",
              "</style>\n",
              "<table border=\"1\" class=\"dataframe\">\n",
              "  <thead>\n",
              "    <tr style=\"text-align: right;\">\n",
              "      <th></th>\n",
              "      <th>Id</th>\n",
              "      <th>target</th>\n",
              "    </tr>\n",
              "  </thead>\n",
              "  <tbody>\n",
              "    <tr>\n",
              "      <th>0</th>\n",
              "      <td>0</td>\n",
              "      <td>8.041856</td>\n",
              "    </tr>\n",
              "    <tr>\n",
              "      <th>1</th>\n",
              "      <td>5</td>\n",
              "      <td>8.294926</td>\n",
              "    </tr>\n",
              "    <tr>\n",
              "      <th>2</th>\n",
              "      <td>15</td>\n",
              "      <td>8.322548</td>\n",
              "    </tr>\n",
              "    <tr>\n",
              "      <th>3</th>\n",
              "      <td>16</td>\n",
              "      <td>8.133322</td>\n",
              "    </tr>\n",
              "    <tr>\n",
              "      <th>4</th>\n",
              "      <td>17</td>\n",
              "      <td>8.205613</td>\n",
              "    </tr>\n",
              "  </tbody>\n",
              "</table>\n",
              "</div>"
            ],
            "text/plain": [
              "   Id    target\n",
              "0   0  8.041856\n",
              "1   5  8.294926\n",
              "2  15  8.322548\n",
              "3  16  8.133322\n",
              "4  17  8.205613"
            ]
          },
          "metadata": {},
          "execution_count": 80
        }
      ]
    },
    {
      "cell_type": "code",
      "metadata": {
        "id": "xnhLmjRaPg0O"
      },
      "source": [
        "X_train_XGB, X_val_XGB, y_train_XGB,y_val_XGB = train_test_split(features, target, test_size=0.25,\n",
        "                                                                  random_state=42)"
      ],
      "execution_count": null,
      "outputs": []
    },
    {
      "cell_type": "code",
      "metadata": {
        "id": "cmSSqdLdOg6e"
      },
      "source": [
        "from keras.wrappers.scikit_learn import KerasRegressor\n",
        "from sklearn.preprocessing import MinMaxScaler"
      ],
      "execution_count": null,
      "outputs": []
    },
    {
      "cell_type": "code",
      "metadata": {
        "id": "RIQHd3rrOg6f"
      },
      "source": [
        "def baseline_model():\n",
        "\n",
        "    model = Sequential()\n",
        "\n",
        "    model.add(Dense(units=16, \n",
        "                  input_dim=24, activation='elu'))\n",
        "    model.add(BatchNormalization())\n",
        "    model.add(Dense(units=16, activation='elu'))\n",
        "    model.add(BatchNormalization())\n",
        "    model.add(Dense(units=8, activation='elu'))\n",
        "    model.add(BatchNormalization())\n",
        "    model.add(Dense(1))\n",
        "    \n",
        "    model.compile(\n",
        "    optimizer=Nadam(learning_rate=0.036283),  \n",
        "    loss='mse')\n",
        "\n",
        "    return model"
      ],
      "execution_count": null,
      "outputs": []
    },
    {
      "cell_type": "code",
      "metadata": {
        "id": "7a4KiF4vOsBh"
      },
      "source": [
        "estimator = KerasRegressor(build_fn=baseline_model, epochs=10, batch_size=16, verbose=1)"
      ],
      "execution_count": null,
      "outputs": []
    },
    {
      "cell_type": "code",
      "metadata": {
        "id": "m2cXD2CJOnge"
      },
      "source": [
        "preds = np.zeros(X_test_cv.shape[0])\n",
        "kf = KFold(n_splits=5, random_state=42, shuffle=True)\n",
        "rmse=[]\n",
        "mae=[]\n",
        "idx=0\n",
        "\n",
        "\n",
        "for train_idx, test_idx in kf.split(X_train_XGB, y_train_XGB):\n",
        "\n",
        "    X_train_g, X_val_g = X_train_XGB.iloc[train_idx], X_train_XGB.iloc[test_idx]\n",
        "    y_tr_g, y_val_g = y_train_XGB.iloc[train_idx], y_train_XGB.iloc[test_idx]\n",
        "\n",
        "\n",
        "\n",
        "    model = estimator  \n",
        "    model.fit(X_train_g, y_tr_g)\n",
        "             \n",
        "\n",
        "\n",
        "    preds += model.predict(X_test_cv)/kf.n_splits\n",
        "\n",
        "    rmse.append(mean_squared_error(y_val_g, model.predict(X_val_g), squared=False))\n",
        "    mae.append(mean_absolute_error(y_val_g, model.predict(X_val_g)))\n",
        "    print(idx+1,rmse[idx])\n",
        "    print(idx+1,mae[idx])\n",
        "    idx +=1\n"
      ],
      "execution_count": null,
      "outputs": []
    },
    {
      "cell_type": "code",
      "metadata": {
        "id": "JrRBNP3pP8oi"
      },
      "source": [
        ""
      ],
      "execution_count": null,
      "outputs": []
    }
  ]
}