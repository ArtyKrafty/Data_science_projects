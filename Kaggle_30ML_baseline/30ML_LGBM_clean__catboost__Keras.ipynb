{
  "nbformat": 4,
  "nbformat_minor": 0,
  "metadata": {
    "colab": {
      "name": "30ML_LGBM_clean _catboost _Keras.ipynb",
      "provenance": [],
      "collapsed_sections": []
    },
    "kernelspec": {
      "name": "python3",
      "display_name": "Python 3"
    },
    "language_info": {
      "name": "python"
    },
    "accelerator": "GPU"
  },
  "cells": [
    {
      "cell_type": "markdown",
      "metadata": {
        "id": "tnE8BR8xS2Bg"
      },
      "source": [
        "![](https://i.ibb.co/G0sLBVs/30-Days-ML-Hero.png). \n",
        "\n",
        "\n",
        "Machine learning beginner → Kaggle competitor in 30 days. Non-coders welcome.\n",
        "\n",
        "\n",
        "\n",
        "The dataset is used for this competition is synthetic, but based on a real dataset. The original dataset deals with predicting the amount of an insurance claim. Although the features are anonymized, they have properties relating to real-world features."
      ]
    },
    {
      "cell_type": "markdown",
      "metadata": {
        "id": "ZDF_mHu0uZTW"
      },
      "source": [
        "## Загрузка"
      ]
    },
    {
      "cell_type": "code",
      "metadata": {
        "id": "4d2K-X8S-jm_",
        "colab": {
          "resources": {
            "http://localhost:8080/nbextensions/google.colab/files.js": {
              "data": "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",
              "ok": true,
              "headers": [
                [
                  "content-type",
                  "application/javascript"
                ]
              ],
              "status": 200,
              "status_text": ""
            }
          },
          "base_uri": "https://localhost:8080/",
          "height": 89
        },
        "outputId": "8be2a5de-6aed-405e-a8e8-6a9a593d4808"
      },
      "source": [
        "from google.colab import files\n",
        "files.upload()\n",
        "!pip install -q kaggle\n",
        "!mkdir -p ~/.kaggle\n",
        "!cp kaggle.json ~/.kaggle/\n",
        "!ls ~/.kaggle\n",
        "!chmod 600 /root/.kaggle/kaggle.json"
      ],
      "execution_count": null,
      "outputs": [
        {
          "output_type": "display_data",
          "data": {
            "text/html": [
              "\n",
              "     <input type=\"file\" id=\"files-43035a62-83bc-4921-9ec6-ad665bd6d3d4\" name=\"files[]\" multiple disabled\n",
              "        style=\"border:none\" />\n",
              "     <output id=\"result-43035a62-83bc-4921-9ec6-ad665bd6d3d4\">\n",
              "      Upload widget is only available when the cell has been executed in the\n",
              "      current browser session. Please rerun this cell to enable.\n",
              "      </output>\n",
              "      <script src=\"/nbextensions/google.colab/files.js\"></script> "
            ],
            "text/plain": [
              "<IPython.core.display.HTML object>"
            ]
          },
          "metadata": {}
        },
        {
          "output_type": "stream",
          "text": [
            "Saving kaggle.json to kaggle.json\n",
            "kaggle.json\n"
          ],
          "name": "stdout"
        }
      ]
    },
    {
      "cell_type": "code",
      "metadata": {
        "id": "jNS_BNPtBv3p",
        "colab": {
          "base_uri": "https://localhost:8080/"
        },
        "outputId": "1061d6e5-6f57-4582-80f3-99eabccd69c0"
      },
      "source": [
        "! kaggle competitions download -c 30-days-of-ml -p /content/drive/My\\Drive/kaggle/30_ML"
      ],
      "execution_count": null,
      "outputs": [
        {
          "output_type": "stream",
          "text": [
            "Warning: Looks like you're using an outdated API Version, please consider updating (server 1.5.12 / client 1.5.4)\n",
            "Downloading test.csv.zip to /content/drive/MyDrive/kaggle/30_ML\n",
            " 87% 22.0M/25.2M [00:01<00:00, 5.17MB/s]\n",
            "100% 25.2M/25.2M [00:01<00:00, 16.8MB/s]\n",
            "Downloading sample_submission.csv.zip to /content/drive/MyDrive/kaggle/30_ML\n",
            "  0% 0.00/470k [00:00<?, ?B/s]\n",
            "100% 470k/470k [00:00<00:00, 129MB/s]\n",
            "Downloading train.csv.zip to /content/drive/MyDrive/kaggle/30_ML\n",
            " 82% 33.0M/40.3M [00:03<00:01, 6.08MB/s]\n",
            "100% 40.3M/40.3M [00:03<00:00, 13.8MB/s]\n"
          ],
          "name": "stdout"
        }
      ]
    },
    {
      "cell_type": "code",
      "metadata": {
        "id": "CsxEWf5q-yWX"
      },
      "source": [
        "%%capture\n",
        "!pip install catboost"
      ],
      "execution_count": null,
      "outputs": []
    },
    {
      "cell_type": "code",
      "metadata": {
        "id": "HAgwkJmE5pjY"
      },
      "source": [
        "%%capture\n",
        "!pip install category_encoders"
      ],
      "execution_count": null,
      "outputs": []
    },
    {
      "cell_type": "code",
      "metadata": {
        "id": "CAJYCejs_MDZ"
      },
      "source": [
        "import pandas as pd\n",
        "import numpy as np\n",
        "\n",
        "import matplotlib.pyplot as plt\n",
        "import seaborn as sns\n",
        "\n",
        "from sklearn.metrics import mean_squared_error\n",
        "\n",
        "from sklearn.cluster import KMeans\n",
        "from sklearn.preprocessing import StandardScaler\n",
        "from sklearn.model_selection import train_test_split\n",
        "from sklearn.model_selection import KFold, GridSearchCV, RandomizedSearchCV\n",
        "\n",
        "import warnings\n",
        "\n",
        "from sklearn.preprocessing import OrdinalEncoder \n",
        "from sklearn.preprocessing import LabelEncoder\n",
        "\n",
        "\n",
        "from tensorflow import keras\n",
        "from tensorflow.keras import layers, callbacks\n",
        "from tensorflow.keras.callbacks import EarlyStopping\n",
        "from keras import backend as K\n",
        "from category_encoders import MEstimateEncoder\n",
        "\n",
        "from scipy.stats import reciprocal, uniform\n",
        "\n",
        "from catboost import CatBoostRegressor\n",
        "from catboost import Pool\n",
        "import lightgbm as lgb\n",
        "from lightgbm import LGBMRegressor\n",
        "\n",
        "\n",
        "warnings.filterwarnings(\"ignore\")\n",
        "sns.set_style(\"darkgrid\")\n",
        "%matplotlib inline\n"
      ],
      "execution_count": null,
      "outputs": []
    },
    {
      "cell_type": "code",
      "metadata": {
        "id": "dFQivx9IAFp5"
      },
      "source": [
        "train = pd.read_csv('/content/drive/MyDrive/kaggle/30_ML/train.csv.zip')\n",
        "test = pd.read_csv('/content/drive/MyDrive/kaggle/30_ML/test.csv.zip')"
      ],
      "execution_count": null,
      "outputs": []
    },
    {
      "cell_type": "code",
      "metadata": {
        "id": "m7s-3aiCAN9f",
        "colab": {
          "base_uri": "https://localhost:8080/"
        },
        "outputId": "8c428f14-69b8-4d79-af04-a601dad1077d"
      },
      "source": [
        "train.info()"
      ],
      "execution_count": null,
      "outputs": [
        {
          "output_type": "stream",
          "text": [
            "<class 'pandas.core.frame.DataFrame'>\n",
            "RangeIndex: 300000 entries, 0 to 299999\n",
            "Data columns (total 26 columns):\n",
            " #   Column  Non-Null Count   Dtype  \n",
            "---  ------  --------------   -----  \n",
            " 0   id      300000 non-null  int64  \n",
            " 1   cat0    300000 non-null  object \n",
            " 2   cat1    300000 non-null  object \n",
            " 3   cat2    300000 non-null  object \n",
            " 4   cat3    300000 non-null  object \n",
            " 5   cat4    300000 non-null  object \n",
            " 6   cat5    300000 non-null  object \n",
            " 7   cat6    300000 non-null  object \n",
            " 8   cat7    300000 non-null  object \n",
            " 9   cat8    300000 non-null  object \n",
            " 10  cat9    300000 non-null  object \n",
            " 11  cont0   300000 non-null  float64\n",
            " 12  cont1   300000 non-null  float64\n",
            " 13  cont2   300000 non-null  float64\n",
            " 14  cont3   300000 non-null  float64\n",
            " 15  cont4   300000 non-null  float64\n",
            " 16  cont5   300000 non-null  float64\n",
            " 17  cont6   300000 non-null  float64\n",
            " 18  cont7   300000 non-null  float64\n",
            " 19  cont8   300000 non-null  float64\n",
            " 20  cont9   300000 non-null  float64\n",
            " 21  cont10  300000 non-null  float64\n",
            " 22  cont11  300000 non-null  float64\n",
            " 23  cont12  300000 non-null  float64\n",
            " 24  cont13  300000 non-null  float64\n",
            " 25  target  300000 non-null  float64\n",
            "dtypes: float64(15), int64(1), object(10)\n",
            "memory usage: 59.5+ MB\n"
          ],
          "name": "stdout"
        }
      ]
    },
    {
      "cell_type": "code",
      "metadata": {
        "colab": {
          "base_uri": "https://localhost:8080/"
        },
        "id": "j-11OP4uOUzd",
        "outputId": "fe85394d-8a34-435e-8643-f4f9002ed9bd"
      },
      "source": [
        "train.duplicated().sum()"
      ],
      "execution_count": null,
      "outputs": [
        {
          "output_type": "execute_result",
          "data": {
            "text/plain": [
              "0"
            ]
          },
          "metadata": {
            "tags": []
          },
          "execution_count": 7
        }
      ]
    },
    {
      "cell_type": "markdown",
      "metadata": {
        "id": "foq3sfeIuyw8"
      },
      "source": [
        "## Подготовка"
      ]
    },
    {
      "cell_type": "code",
      "metadata": {
        "id": "UnopMSbaOkMH"
      },
      "source": [
        "nums = list(train.iloc[:, 11:25].columns)"
      ],
      "execution_count": null,
      "outputs": []
    },
    {
      "cell_type": "code",
      "metadata": {
        "colab": {
          "base_uri": "https://localhost:8080/",
          "height": 592
        },
        "id": "WoQUYuhQOy31",
        "outputId": "0a14bc4a-7804-45ab-8031-7b92c27f1c0e"
      },
      "source": [
        "cols = nums\n",
        "plt.figure(figsize=(15,10))\n",
        "sns.boxplot(data=train[cols], linewidth=0.42, palette=\"Set2\")\n",
        "plt.show()"
      ],
      "execution_count": null,
      "outputs": [
        {
          "output_type": "display_data",
          "data": {
            "image/png": "[encoded data removed]",
            "text/plain": [
              "<Figure size 1080x720 with 1 Axes>"
            ]
          },
          "metadata": {
            "tags": [],
            "needs_background": "light"
          }
        }
      ]
    },
    {
      "cell_type": "code",
      "metadata": {
        "colab": {
          "base_uri": "https://localhost:8080/",
          "height": 204
        },
        "id": "uo8xtoLmPQI8",
        "outputId": "6ce9c644-0321-438e-a423-d0938b7758a9"
      },
      "source": [
        "cols_clean = ['cont0', 'cont6', 'cont8']\n",
        "\n",
        "low = .01\n",
        "high = .99\n",
        "quant_df = train[cols_clean].quantile([low, high])\n",
        "df_clean = train[cols_clean].apply(lambda x: x[(x > quant_df.loc[low, x.name]) & \n",
        "                                     (x < quant_df.loc[high, x.name])], axis=0)\n",
        "df_clean.dropna(inplace=True)\n",
        "df_clean.head()\n",
        "\n"
      ],
      "execution_count": null,
      "outputs": [
        {
          "output_type": "execute_result",
          "data": {
            "text/html": [
              "<div>\n",
              "<style scoped>\n",
              "    .dataframe tbody tr th:only-of-type {\n",
              "        vertical-align: middle;\n",
              "    }\n",
              "\n",
              "    .dataframe tbody tr th {\n",
              "        vertical-align: top;\n",
              "    }\n",
              "\n",
              "    .dataframe thead th {\n",
              "        text-align: right;\n",
              "    }\n",
              "</style>\n",
              "<table border=\"1\" class=\"dataframe\">\n",
              "  <thead>\n",
              "    <tr style=\"text-align: right;\">\n",
              "      <th></th>\n",
              "      <th>cont0</th>\n",
              "      <th>cont6</th>\n",
              "      <th>cont8</th>\n",
              "    </tr>\n",
              "  </thead>\n",
              "  <tbody>\n",
              "    <tr>\n",
              "      <th>0</th>\n",
              "      <td>0.201470</td>\n",
              "      <td>0.160266</td>\n",
              "      <td>0.389470</td>\n",
              "    </tr>\n",
              "    <tr>\n",
              "      <th>1</th>\n",
              "      <td>0.743068</td>\n",
              "      <td>0.558922</td>\n",
              "      <td>0.594928</td>\n",
              "    </tr>\n",
              "    <tr>\n",
              "      <th>2</th>\n",
              "      <td>0.742708</td>\n",
              "      <td>0.375348</td>\n",
              "      <td>0.555205</td>\n",
              "    </tr>\n",
              "    <tr>\n",
              "      <th>3</th>\n",
              "      <td>0.429551</td>\n",
              "      <td>0.239061</td>\n",
              "      <td>0.679618</td>\n",
              "    </tr>\n",
              "    <tr>\n",
              "      <th>5</th>\n",
              "      <td>0.402056</td>\n",
              "      <td>0.658169</td>\n",
              "      <td>0.569874</td>\n",
              "    </tr>\n",
              "  </tbody>\n",
              "</table>\n",
              "</div>"
            ],
            "text/plain": [
              "      cont0     cont6     cont8\n",
              "0  0.201470  0.160266  0.389470\n",
              "1  0.743068  0.558922  0.594928\n",
              "2  0.742708  0.375348  0.555205\n",
              "3  0.429551  0.239061  0.679618\n",
              "5  0.402056  0.658169  0.569874"
            ]
          },
          "metadata": {
            "tags": []
          },
          "execution_count": 13
        }
      ]
    },
    {
      "cell_type": "code",
      "metadata": {
        "id": "PI8QEbgNXDkE",
        "colab": {
          "base_uri": "https://localhost:8080/"
        },
        "outputId": "a2c70573-f2d3-4148-a07a-eee89645a342"
      },
      "source": [
        "test.info()"
      ],
      "execution_count": null,
      "outputs": [
        {
          "output_type": "stream",
          "text": [
            "<class 'pandas.core.frame.DataFrame'>\n",
            "RangeIndex: 200000 entries, 0 to 199999\n",
            "Data columns (total 25 columns):\n",
            " #   Column  Non-Null Count   Dtype  \n",
            "---  ------  --------------   -----  \n",
            " 0   id      200000 non-null  int64  \n",
            " 1   cat0    200000 non-null  object \n",
            " 2   cat1    200000 non-null  object \n",
            " 3   cat2    200000 non-null  object \n",
            " 4   cat3    200000 non-null  object \n",
            " 5   cat4    200000 non-null  object \n",
            " 6   cat5    200000 non-null  object \n",
            " 7   cat6    200000 non-null  object \n",
            " 8   cat7    200000 non-null  object \n",
            " 9   cat8    200000 non-null  object \n",
            " 10  cat9    200000 non-null  object \n",
            " 11  cont0   200000 non-null  float64\n",
            " 12  cont1   200000 non-null  float64\n",
            " 13  cont2   200000 non-null  float64\n",
            " 14  cont3   200000 non-null  float64\n",
            " 15  cont4   200000 non-null  float64\n",
            " 16  cont5   200000 non-null  float64\n",
            " 17  cont6   200000 non-null  float64\n",
            " 18  cont7   200000 non-null  float64\n",
            " 19  cont8   200000 non-null  float64\n",
            " 20  cont9   200000 non-null  float64\n",
            " 21  cont10  200000 non-null  float64\n",
            " 22  cont11  200000 non-null  float64\n",
            " 23  cont12  200000 non-null  float64\n",
            " 24  cont13  200000 non-null  float64\n",
            "dtypes: float64(14), int64(1), object(10)\n",
            "memory usage: 38.1+ MB\n"
          ],
          "name": "stdout"
        }
      ]
    },
    {
      "cell_type": "code",
      "metadata": {
        "id": "iY51YQRcq7ou",
        "colab": {
          "base_uri": "https://localhost:8080/",
          "height": 224
        },
        "outputId": "5dc0d514-bb25-4c72-c2ac-2b4bf5e909d5"
      },
      "source": [
        "train.head()"
      ],
      "execution_count": null,
      "outputs": [
        {
          "output_type": "execute_result",
          "data": {
            "text/html": [
              "<div>\n",
              "<style scoped>\n",
              "    .dataframe tbody tr th:only-of-type {\n",
              "        vertical-align: middle;\n",
              "    }\n",
              "\n",
              "    .dataframe tbody tr th {\n",
              "        vertical-align: top;\n",
              "    }\n",
              "\n",
              "    .dataframe thead th {\n",
              "        text-align: right;\n",
              "    }\n",
              "</style>\n",
              "<table border=\"1\" class=\"dataframe\">\n",
              "  <thead>\n",
              "    <tr style=\"text-align: right;\">\n",
              "      <th></th>\n",
              "      <th>id</th>\n",
              "      <th>cat0</th>\n",
              "      <th>cat1</th>\n",
              "      <th>cat2</th>\n",
              "      <th>cat3</th>\n",
              "      <th>cat4</th>\n",
              "      <th>cat5</th>\n",
              "      <th>cat6</th>\n",
              "      <th>cat7</th>\n",
              "      <th>cat8</th>\n",
              "      <th>cat9</th>\n",
              "      <th>cont0</th>\n",
              "      <th>cont1</th>\n",
              "      <th>cont2</th>\n",
              "      <th>cont3</th>\n",
              "      <th>cont4</th>\n",
              "      <th>cont5</th>\n",
              "      <th>cont6</th>\n",
              "      <th>cont7</th>\n",
              "      <th>cont8</th>\n",
              "      <th>cont9</th>\n",
              "      <th>cont10</th>\n",
              "      <th>cont11</th>\n",
              "      <th>cont12</th>\n",
              "      <th>cont13</th>\n",
              "      <th>target</th>\n",
              "    </tr>\n",
              "  </thead>\n",
              "  <tbody>\n",
              "    <tr>\n",
              "      <th>0</th>\n",
              "      <td>1</td>\n",
              "      <td>B</td>\n",
              "      <td>B</td>\n",
              "      <td>B</td>\n",
              "      <td>C</td>\n",
              "      <td>B</td>\n",
              "      <td>B</td>\n",
              "      <td>A</td>\n",
              "      <td>E</td>\n",
              "      <td>C</td>\n",
              "      <td>N</td>\n",
              "      <td>0.201470</td>\n",
              "      <td>-0.014822</td>\n",
              "      <td>0.669699</td>\n",
              "      <td>0.136278</td>\n",
              "      <td>0.610706</td>\n",
              "      <td>0.400361</td>\n",
              "      <td>0.160266</td>\n",
              "      <td>0.310921</td>\n",
              "      <td>0.389470</td>\n",
              "      <td>0.267559</td>\n",
              "      <td>0.237281</td>\n",
              "      <td>0.377873</td>\n",
              "      <td>0.322401</td>\n",
              "      <td>0.869850</td>\n",
              "      <td>8.113634</td>\n",
              "    </tr>\n",
              "    <tr>\n",
              "      <th>1</th>\n",
              "      <td>2</td>\n",
              "      <td>B</td>\n",
              "      <td>B</td>\n",
              "      <td>A</td>\n",
              "      <td>A</td>\n",
              "      <td>B</td>\n",
              "      <td>D</td>\n",
              "      <td>A</td>\n",
              "      <td>F</td>\n",
              "      <td>A</td>\n",
              "      <td>O</td>\n",
              "      <td>0.743068</td>\n",
              "      <td>0.367411</td>\n",
              "      <td>1.021605</td>\n",
              "      <td>0.365798</td>\n",
              "      <td>0.276853</td>\n",
              "      <td>0.533087</td>\n",
              "      <td>0.558922</td>\n",
              "      <td>0.516294</td>\n",
              "      <td>0.594928</td>\n",
              "      <td>0.341439</td>\n",
              "      <td>0.906013</td>\n",
              "      <td>0.921701</td>\n",
              "      <td>0.261975</td>\n",
              "      <td>0.465083</td>\n",
              "      <td>8.481233</td>\n",
              "    </tr>\n",
              "    <tr>\n",
              "      <th>2</th>\n",
              "      <td>3</td>\n",
              "      <td>A</td>\n",
              "      <td>A</td>\n",
              "      <td>A</td>\n",
              "      <td>C</td>\n",
              "      <td>B</td>\n",
              "      <td>D</td>\n",
              "      <td>A</td>\n",
              "      <td>D</td>\n",
              "      <td>A</td>\n",
              "      <td>F</td>\n",
              "      <td>0.742708</td>\n",
              "      <td>0.310383</td>\n",
              "      <td>-0.012673</td>\n",
              "      <td>0.576957</td>\n",
              "      <td>0.285074</td>\n",
              "      <td>0.650609</td>\n",
              "      <td>0.375348</td>\n",
              "      <td>0.902567</td>\n",
              "      <td>0.555205</td>\n",
              "      <td>0.843531</td>\n",
              "      <td>0.748809</td>\n",
              "      <td>0.620126</td>\n",
              "      <td>0.541474</td>\n",
              "      <td>0.763846</td>\n",
              "      <td>8.364351</td>\n",
              "    </tr>\n",
              "    <tr>\n",
              "      <th>3</th>\n",
              "      <td>4</td>\n",
              "      <td>B</td>\n",
              "      <td>B</td>\n",
              "      <td>A</td>\n",
              "      <td>C</td>\n",
              "      <td>B</td>\n",
              "      <td>D</td>\n",
              "      <td>A</td>\n",
              "      <td>E</td>\n",
              "      <td>C</td>\n",
              "      <td>K</td>\n",
              "      <td>0.429551</td>\n",
              "      <td>0.620998</td>\n",
              "      <td>0.577942</td>\n",
              "      <td>0.280610</td>\n",
              "      <td>0.284667</td>\n",
              "      <td>0.668980</td>\n",
              "      <td>0.239061</td>\n",
              "      <td>0.732948</td>\n",
              "      <td>0.679618</td>\n",
              "      <td>0.574844</td>\n",
              "      <td>0.346010</td>\n",
              "      <td>0.714610</td>\n",
              "      <td>0.540150</td>\n",
              "      <td>0.280682</td>\n",
              "      <td>8.049253</td>\n",
              "    </tr>\n",
              "    <tr>\n",
              "      <th>4</th>\n",
              "      <td>6</td>\n",
              "      <td>A</td>\n",
              "      <td>A</td>\n",
              "      <td>A</td>\n",
              "      <td>C</td>\n",
              "      <td>B</td>\n",
              "      <td>D</td>\n",
              "      <td>A</td>\n",
              "      <td>E</td>\n",
              "      <td>A</td>\n",
              "      <td>N</td>\n",
              "      <td>1.058291</td>\n",
              "      <td>0.367492</td>\n",
              "      <td>-0.052389</td>\n",
              "      <td>0.232407</td>\n",
              "      <td>0.287595</td>\n",
              "      <td>0.686964</td>\n",
              "      <td>0.420667</td>\n",
              "      <td>0.648182</td>\n",
              "      <td>0.684501</td>\n",
              "      <td>0.956692</td>\n",
              "      <td>1.000773</td>\n",
              "      <td>0.776742</td>\n",
              "      <td>0.625849</td>\n",
              "      <td>0.250823</td>\n",
              "      <td>7.972260</td>\n",
              "    </tr>\n",
              "  </tbody>\n",
              "</table>\n",
              "</div>"
            ],
            "text/plain": [
              "   id cat0 cat1 cat2 cat3  ...    cont10    cont11    cont12    cont13    target\n",
              "0   1    B    B    B    C  ...  0.237281  0.377873  0.322401  0.869850  8.113634\n",
              "1   2    B    B    A    A  ...  0.906013  0.921701  0.261975  0.465083  8.481233\n",
              "2   3    A    A    A    C  ...  0.748809  0.620126  0.541474  0.763846  8.364351\n",
              "3   4    B    B    A    C  ...  0.346010  0.714610  0.540150  0.280682  8.049253\n",
              "4   6    A    A    A    C  ...  1.000773  0.776742  0.625849  0.250823  7.972260\n",
              "\n",
              "[5 rows x 26 columns]"
            ]
          },
          "metadata": {
            "tags": []
          },
          "execution_count": 15
        }
      ]
    },
    {
      "cell_type": "code",
      "metadata": {
        "id": "AU6V-cVUeQtV",
        "colab": {
          "base_uri": "https://localhost:8080/",
          "height": 224
        },
        "outputId": "799d3031-5581-4e9d-b1bf-6803d305e9f6"
      },
      "source": [
        "test.head()"
      ],
      "execution_count": null,
      "outputs": [
        {
          "output_type": "execute_result",
          "data": {
            "text/html": [
              "<div>\n",
              "<style scoped>\n",
              "    .dataframe tbody tr th:only-of-type {\n",
              "        vertical-align: middle;\n",
              "    }\n",
              "\n",
              "    .dataframe tbody tr th {\n",
              "        vertical-align: top;\n",
              "    }\n",
              "\n",
              "    .dataframe thead th {\n",
              "        text-align: right;\n",
              "    }\n",
              "</style>\n",
              "<table border=\"1\" class=\"dataframe\">\n",
              "  <thead>\n",
              "    <tr style=\"text-align: right;\">\n",
              "      <th></th>\n",
              "      <th>id</th>\n",
              "      <th>cat0</th>\n",
              "      <th>cat1</th>\n",
              "      <th>cat2</th>\n",
              "      <th>cat3</th>\n",
              "      <th>cat4</th>\n",
              "      <th>cat5</th>\n",
              "      <th>cat6</th>\n",
              "      <th>cat7</th>\n",
              "      <th>cat8</th>\n",
              "      <th>cat9</th>\n",
              "      <th>cont0</th>\n",
              "      <th>cont1</th>\n",
              "      <th>cont2</th>\n",
              "      <th>cont3</th>\n",
              "      <th>cont4</th>\n",
              "      <th>cont5</th>\n",
              "      <th>cont6</th>\n",
              "      <th>cont7</th>\n",
              "      <th>cont8</th>\n",
              "      <th>cont9</th>\n",
              "      <th>cont10</th>\n",
              "      <th>cont11</th>\n",
              "      <th>cont12</th>\n",
              "      <th>cont13</th>\n",
              "    </tr>\n",
              "  </thead>\n",
              "  <tbody>\n",
              "    <tr>\n",
              "      <th>0</th>\n",
              "      <td>0</td>\n",
              "      <td>B</td>\n",
              "      <td>B</td>\n",
              "      <td>B</td>\n",
              "      <td>C</td>\n",
              "      <td>B</td>\n",
              "      <td>B</td>\n",
              "      <td>A</td>\n",
              "      <td>E</td>\n",
              "      <td>E</td>\n",
              "      <td>I</td>\n",
              "      <td>0.296227</td>\n",
              "      <td>0.686757</td>\n",
              "      <td>0.587731</td>\n",
              "      <td>0.392753</td>\n",
              "      <td>0.476739</td>\n",
              "      <td>0.376350</td>\n",
              "      <td>0.337884</td>\n",
              "      <td>0.321832</td>\n",
              "      <td>0.445212</td>\n",
              "      <td>0.290258</td>\n",
              "      <td>0.244476</td>\n",
              "      <td>0.087914</td>\n",
              "      <td>0.301831</td>\n",
              "      <td>0.845702</td>\n",
              "    </tr>\n",
              "    <tr>\n",
              "      <th>1</th>\n",
              "      <td>5</td>\n",
              "      <td>A</td>\n",
              "      <td>B</td>\n",
              "      <td>A</td>\n",
              "      <td>C</td>\n",
              "      <td>B</td>\n",
              "      <td>C</td>\n",
              "      <td>A</td>\n",
              "      <td>E</td>\n",
              "      <td>C</td>\n",
              "      <td>H</td>\n",
              "      <td>0.543707</td>\n",
              "      <td>0.364761</td>\n",
              "      <td>0.452967</td>\n",
              "      <td>0.929645</td>\n",
              "      <td>0.285509</td>\n",
              "      <td>0.860046</td>\n",
              "      <td>0.798712</td>\n",
              "      <td>0.835961</td>\n",
              "      <td>0.391657</td>\n",
              "      <td>0.288276</td>\n",
              "      <td>0.549568</td>\n",
              "      <td>0.905097</td>\n",
              "      <td>0.850684</td>\n",
              "      <td>0.693940</td>\n",
              "    </tr>\n",
              "    <tr>\n",
              "      <th>2</th>\n",
              "      <td>15</td>\n",
              "      <td>B</td>\n",
              "      <td>A</td>\n",
              "      <td>A</td>\n",
              "      <td>A</td>\n",
              "      <td>B</td>\n",
              "      <td>B</td>\n",
              "      <td>A</td>\n",
              "      <td>E</td>\n",
              "      <td>D</td>\n",
              "      <td>K</td>\n",
              "      <td>0.408961</td>\n",
              "      <td>0.296129</td>\n",
              "      <td>0.690999</td>\n",
              "      <td>0.740027</td>\n",
              "      <td>0.697272</td>\n",
              "      <td>0.683600</td>\n",
              "      <td>0.404089</td>\n",
              "      <td>0.879379</td>\n",
              "      <td>0.275549</td>\n",
              "      <td>0.427871</td>\n",
              "      <td>0.491667</td>\n",
              "      <td>0.384315</td>\n",
              "      <td>0.376689</td>\n",
              "      <td>0.508099</td>\n",
              "    </tr>\n",
              "    <tr>\n",
              "      <th>3</th>\n",
              "      <td>16</td>\n",
              "      <td>B</td>\n",
              "      <td>B</td>\n",
              "      <td>A</td>\n",
              "      <td>C</td>\n",
              "      <td>B</td>\n",
              "      <td>D</td>\n",
              "      <td>A</td>\n",
              "      <td>E</td>\n",
              "      <td>A</td>\n",
              "      <td>N</td>\n",
              "      <td>1.031239</td>\n",
              "      <td>0.356062</td>\n",
              "      <td>0.303651</td>\n",
              "      <td>0.895591</td>\n",
              "      <td>0.719306</td>\n",
              "      <td>0.777890</td>\n",
              "      <td>0.730954</td>\n",
              "      <td>0.644315</td>\n",
              "      <td>1.024017</td>\n",
              "      <td>0.391090</td>\n",
              "      <td>0.988340</td>\n",
              "      <td>0.411828</td>\n",
              "      <td>0.393585</td>\n",
              "      <td>0.461372</td>\n",
              "    </tr>\n",
              "    <tr>\n",
              "      <th>4</th>\n",
              "      <td>17</td>\n",
              "      <td>B</td>\n",
              "      <td>B</td>\n",
              "      <td>A</td>\n",
              "      <td>C</td>\n",
              "      <td>B</td>\n",
              "      <td>C</td>\n",
              "      <td>A</td>\n",
              "      <td>E</td>\n",
              "      <td>C</td>\n",
              "      <td>F</td>\n",
              "      <td>0.530447</td>\n",
              "      <td>0.729004</td>\n",
              "      <td>0.281723</td>\n",
              "      <td>0.444698</td>\n",
              "      <td>0.313032</td>\n",
              "      <td>0.431007</td>\n",
              "      <td>0.390992</td>\n",
              "      <td>0.408874</td>\n",
              "      <td>0.447887</td>\n",
              "      <td>0.390253</td>\n",
              "      <td>0.648932</td>\n",
              "      <td>0.385935</td>\n",
              "      <td>0.370401</td>\n",
              "      <td>0.900412</td>\n",
              "    </tr>\n",
              "  </tbody>\n",
              "</table>\n",
              "</div>"
            ],
            "text/plain": [
              "   id cat0 cat1 cat2 cat3  ...     cont9    cont10    cont11    cont12    cont13\n",
              "0   0    B    B    B    C  ...  0.290258  0.244476  0.087914  0.301831  0.845702\n",
              "1   5    A    B    A    C  ...  0.288276  0.549568  0.905097  0.850684  0.693940\n",
              "2  15    B    A    A    A  ...  0.427871  0.491667  0.384315  0.376689  0.508099\n",
              "3  16    B    B    A    C  ...  0.391090  0.988340  0.411828  0.393585  0.461372\n",
              "4  17    B    B    A    C  ...  0.390253  0.648932  0.385935  0.370401  0.900412\n",
              "\n",
              "[5 rows x 25 columns]"
            ]
          },
          "metadata": {
            "tags": []
          },
          "execution_count": 16
        }
      ]
    },
    {
      "cell_type": "code",
      "metadata": {
        "id": "ERoQ5i1YevuL",
        "colab": {
          "base_uri": "https://localhost:8080/"
        },
        "outputId": "7b4572f5-cd93-40e4-fa3f-84ab2446c4b4"
      },
      "source": [
        "train.columns"
      ],
      "execution_count": null,
      "outputs": [
        {
          "output_type": "execute_result",
          "data": {
            "text/plain": [
              "Index(['id', 'cat0', 'cat1', 'cat2', 'cat3', 'cat4', 'cat5', 'cat6', 'cat7',\n",
              "       'cat8', 'cat9', 'cont0', 'cont1', 'cont2', 'cont3', 'cont4', 'cont5',\n",
              "       'cont6', 'cont7', 'cont8', 'cont9', 'cont10', 'cont11', 'cont12',\n",
              "       'cont13', 'target'],\n",
              "      dtype='object')"
            ]
          },
          "metadata": {
            "tags": []
          },
          "execution_count": 17
        }
      ]
    },
    {
      "cell_type": "code",
      "metadata": {
        "id": "iaMUFP5le_XN"
      },
      "source": [
        "def split_data(data, target_column):\n",
        "    return data.drop(columns=[target_column], axis=1), data[target_column]"
      ],
      "execution_count": null,
      "outputs": []
    },
    {
      "cell_type": "code",
      "metadata": {
        "id": "5X2bhpIMfIet"
      },
      "source": [
        "features, target = split_data(train, 'target')"
      ],
      "execution_count": null,
      "outputs": []
    },
    {
      "cell_type": "code",
      "metadata": {
        "id": "0heDp_ctfP5s",
        "colab": {
          "base_uri": "https://localhost:8080/",
          "height": 224
        },
        "outputId": "5ddf7fe2-44c6-4031-c0e0-e89f4dc263a8"
      },
      "source": [
        "features.head()"
      ],
      "execution_count": null,
      "outputs": [
        {
          "output_type": "execute_result",
          "data": {
            "text/html": [
              "<div>\n",
              "<style scoped>\n",
              "    .dataframe tbody tr th:only-of-type {\n",
              "        vertical-align: middle;\n",
              "    }\n",
              "\n",
              "    .dataframe tbody tr th {\n",
              "        vertical-align: top;\n",
              "    }\n",
              "\n",
              "    .dataframe thead th {\n",
              "        text-align: right;\n",
              "    }\n",
              "</style>\n",
              "<table border=\"1\" class=\"dataframe\">\n",
              "  <thead>\n",
              "    <tr style=\"text-align: right;\">\n",
              "      <th></th>\n",
              "      <th>id</th>\n",
              "      <th>cat0</th>\n",
              "      <th>cat1</th>\n",
              "      <th>cat2</th>\n",
              "      <th>cat3</th>\n",
              "      <th>cat4</th>\n",
              "      <th>cat5</th>\n",
              "      <th>cat6</th>\n",
              "      <th>cat7</th>\n",
              "      <th>cat8</th>\n",
              "      <th>cat9</th>\n",
              "      <th>cont0</th>\n",
              "      <th>cont1</th>\n",
              "      <th>cont2</th>\n",
              "      <th>cont3</th>\n",
              "      <th>cont4</th>\n",
              "      <th>cont5</th>\n",
              "      <th>cont6</th>\n",
              "      <th>cont7</th>\n",
              "      <th>cont8</th>\n",
              "      <th>cont9</th>\n",
              "      <th>cont10</th>\n",
              "      <th>cont11</th>\n",
              "      <th>cont12</th>\n",
              "      <th>cont13</th>\n",
              "    </tr>\n",
              "  </thead>\n",
              "  <tbody>\n",
              "    <tr>\n",
              "      <th>0</th>\n",
              "      <td>1</td>\n",
              "      <td>B</td>\n",
              "      <td>B</td>\n",
              "      <td>B</td>\n",
              "      <td>C</td>\n",
              "      <td>B</td>\n",
              "      <td>B</td>\n",
              "      <td>A</td>\n",
              "      <td>E</td>\n",
              "      <td>C</td>\n",
              "      <td>N</td>\n",
              "      <td>0.201470</td>\n",
              "      <td>-0.014822</td>\n",
              "      <td>0.669699</td>\n",
              "      <td>0.136278</td>\n",
              "      <td>0.610706</td>\n",
              "      <td>0.400361</td>\n",
              "      <td>0.160266</td>\n",
              "      <td>0.310921</td>\n",
              "      <td>0.389470</td>\n",
              "      <td>0.267559</td>\n",
              "      <td>0.237281</td>\n",
              "      <td>0.377873</td>\n",
              "      <td>0.322401</td>\n",
              "      <td>0.869850</td>\n",
              "    </tr>\n",
              "    <tr>\n",
              "      <th>1</th>\n",
              "      <td>2</td>\n",
              "      <td>B</td>\n",
              "      <td>B</td>\n",
              "      <td>A</td>\n",
              "      <td>A</td>\n",
              "      <td>B</td>\n",
              "      <td>D</td>\n",
              "      <td>A</td>\n",
              "      <td>F</td>\n",
              "      <td>A</td>\n",
              "      <td>O</td>\n",
              "      <td>0.743068</td>\n",
              "      <td>0.367411</td>\n",
              "      <td>1.021605</td>\n",
              "      <td>0.365798</td>\n",
              "      <td>0.276853</td>\n",
              "      <td>0.533087</td>\n",
              "      <td>0.558922</td>\n",
              "      <td>0.516294</td>\n",
              "      <td>0.594928</td>\n",
              "      <td>0.341439</td>\n",
              "      <td>0.906013</td>\n",
              "      <td>0.921701</td>\n",
              "      <td>0.261975</td>\n",
              "      <td>0.465083</td>\n",
              "    </tr>\n",
              "    <tr>\n",
              "      <th>2</th>\n",
              "      <td>3</td>\n",
              "      <td>A</td>\n",
              "      <td>A</td>\n",
              "      <td>A</td>\n",
              "      <td>C</td>\n",
              "      <td>B</td>\n",
              "      <td>D</td>\n",
              "      <td>A</td>\n",
              "      <td>D</td>\n",
              "      <td>A</td>\n",
              "      <td>F</td>\n",
              "      <td>0.742708</td>\n",
              "      <td>0.310383</td>\n",
              "      <td>-0.012673</td>\n",
              "      <td>0.576957</td>\n",
              "      <td>0.285074</td>\n",
              "      <td>0.650609</td>\n",
              "      <td>0.375348</td>\n",
              "      <td>0.902567</td>\n",
              "      <td>0.555205</td>\n",
              "      <td>0.843531</td>\n",
              "      <td>0.748809</td>\n",
              "      <td>0.620126</td>\n",
              "      <td>0.541474</td>\n",
              "      <td>0.763846</td>\n",
              "    </tr>\n",
              "    <tr>\n",
              "      <th>3</th>\n",
              "      <td>4</td>\n",
              "      <td>B</td>\n",
              "      <td>B</td>\n",
              "      <td>A</td>\n",
              "      <td>C</td>\n",
              "      <td>B</td>\n",
              "      <td>D</td>\n",
              "      <td>A</td>\n",
              "      <td>E</td>\n",
              "      <td>C</td>\n",
              "      <td>K</td>\n",
              "      <td>0.429551</td>\n",
              "      <td>0.620998</td>\n",
              "      <td>0.577942</td>\n",
              "      <td>0.280610</td>\n",
              "      <td>0.284667</td>\n",
              "      <td>0.668980</td>\n",
              "      <td>0.239061</td>\n",
              "      <td>0.732948</td>\n",
              "      <td>0.679618</td>\n",
              "      <td>0.574844</td>\n",
              "      <td>0.346010</td>\n",
              "      <td>0.714610</td>\n",
              "      <td>0.540150</td>\n",
              "      <td>0.280682</td>\n",
              "    </tr>\n",
              "    <tr>\n",
              "      <th>4</th>\n",
              "      <td>6</td>\n",
              "      <td>A</td>\n",
              "      <td>A</td>\n",
              "      <td>A</td>\n",
              "      <td>C</td>\n",
              "      <td>B</td>\n",
              "      <td>D</td>\n",
              "      <td>A</td>\n",
              "      <td>E</td>\n",
              "      <td>A</td>\n",
              "      <td>N</td>\n",
              "      <td>1.058291</td>\n",
              "      <td>0.367492</td>\n",
              "      <td>-0.052389</td>\n",
              "      <td>0.232407</td>\n",
              "      <td>0.287595</td>\n",
              "      <td>0.686964</td>\n",
              "      <td>0.420667</td>\n",
              "      <td>0.648182</td>\n",
              "      <td>0.684501</td>\n",
              "      <td>0.956692</td>\n",
              "      <td>1.000773</td>\n",
              "      <td>0.776742</td>\n",
              "      <td>0.625849</td>\n",
              "      <td>0.250823</td>\n",
              "    </tr>\n",
              "  </tbody>\n",
              "</table>\n",
              "</div>"
            ],
            "text/plain": [
              "   id cat0 cat1 cat2 cat3  ...     cont9    cont10    cont11    cont12    cont13\n",
              "0   1    B    B    B    C  ...  0.267559  0.237281  0.377873  0.322401  0.869850\n",
              "1   2    B    B    A    A  ...  0.341439  0.906013  0.921701  0.261975  0.465083\n",
              "2   3    A    A    A    C  ...  0.843531  0.748809  0.620126  0.541474  0.763846\n",
              "3   4    B    B    A    C  ...  0.574844  0.346010  0.714610  0.540150  0.280682\n",
              "4   6    A    A    A    C  ...  0.956692  1.000773  0.776742  0.625849  0.250823\n",
              "\n",
              "[5 rows x 25 columns]"
            ]
          },
          "metadata": {
            "tags": []
          },
          "execution_count": 20
        }
      ]
    },
    {
      "cell_type": "code",
      "metadata": {
        "colab": {
          "base_uri": "https://localhost:8080/"
        },
        "id": "a9fNFSiCtV0w",
        "outputId": "3dd573c5-49f8-42fa-cf7b-af57f114a57a"
      },
      "source": [
        "features.columns"
      ],
      "execution_count": null,
      "outputs": [
        {
          "output_type": "execute_result",
          "data": {
            "text/plain": [
              "Index(['id', 'cat0', 'cat1', 'cat2', 'cat3', 'cat4', 'cat5', 'cat6', 'cat7',\n",
              "       'cat8', 'cat9', 'cont0', 'cont1', 'cont2', 'cont3', 'cont4', 'cont5',\n",
              "       'cont6', 'cont7', 'cont8', 'cont9', 'cont10', 'cont11', 'cont12',\n",
              "       'cont13'],\n",
              "      dtype='object')"
            ]
          },
          "metadata": {
            "tags": []
          },
          "execution_count": 21
        }
      ]
    },
    {
      "cell_type": "code",
      "metadata": {
        "id": "ij9Q7dQrfRVm"
      },
      "source": [
        "features = features.drop(['id'], axis=1)"
      ],
      "execution_count": null,
      "outputs": []
    },
    {
      "cell_type": "code",
      "metadata": {
        "id": "j2IllBi0Z_zV"
      },
      "source": [
        "float_num = list(features.select_dtypes(include='float64'))"
      ],
      "execution_count": null,
      "outputs": []
    },
    {
      "cell_type": "code",
      "metadata": {
        "colab": {
          "base_uri": "https://localhost:8080/",
          "height": 204
        },
        "id": "II_iGtJgaTax",
        "outputId": "a8466f4b-c5bb-4df4-ccd9-1650a40c1aef"
      },
      "source": [
        "features[float_num].head()"
      ],
      "execution_count": null,
      "outputs": [
        {
          "output_type": "execute_result",
          "data": {
            "text/html": [
              "<div>\n",
              "<style scoped>\n",
              "    .dataframe tbody tr th:only-of-type {\n",
              "        vertical-align: middle;\n",
              "    }\n",
              "\n",
              "    .dataframe tbody tr th {\n",
              "        vertical-align: top;\n",
              "    }\n",
              "\n",
              "    .dataframe thead th {\n",
              "        text-align: right;\n",
              "    }\n",
              "</style>\n",
              "<table border=\"1\" class=\"dataframe\">\n",
              "  <thead>\n",
              "    <tr style=\"text-align: right;\">\n",
              "      <th></th>\n",
              "      <th>cont0</th>\n",
              "      <th>cont1</th>\n",
              "      <th>cont2</th>\n",
              "      <th>cont3</th>\n",
              "      <th>cont4</th>\n",
              "      <th>cont5</th>\n",
              "      <th>cont6</th>\n",
              "      <th>cont7</th>\n",
              "      <th>cont8</th>\n",
              "      <th>cont9</th>\n",
              "      <th>cont10</th>\n",
              "      <th>cont11</th>\n",
              "      <th>cont12</th>\n",
              "      <th>cont13</th>\n",
              "    </tr>\n",
              "  </thead>\n",
              "  <tbody>\n",
              "    <tr>\n",
              "      <th>0</th>\n",
              "      <td>0.201470</td>\n",
              "      <td>-0.014822</td>\n",
              "      <td>0.669699</td>\n",
              "      <td>0.136278</td>\n",
              "      <td>0.610706</td>\n",
              "      <td>0.400361</td>\n",
              "      <td>0.160266</td>\n",
              "      <td>0.310921</td>\n",
              "      <td>0.389470</td>\n",
              "      <td>0.267559</td>\n",
              "      <td>0.237281</td>\n",
              "      <td>0.377873</td>\n",
              "      <td>0.322401</td>\n",
              "      <td>0.869850</td>\n",
              "    </tr>\n",
              "    <tr>\n",
              "      <th>1</th>\n",
              "      <td>0.743068</td>\n",
              "      <td>0.367411</td>\n",
              "      <td>1.021605</td>\n",
              "      <td>0.365798</td>\n",
              "      <td>0.276853</td>\n",
              "      <td>0.533087</td>\n",
              "      <td>0.558922</td>\n",
              "      <td>0.516294</td>\n",
              "      <td>0.594928</td>\n",
              "      <td>0.341439</td>\n",
              "      <td>0.906013</td>\n",
              "      <td>0.921701</td>\n",
              "      <td>0.261975</td>\n",
              "      <td>0.465083</td>\n",
              "    </tr>\n",
              "    <tr>\n",
              "      <th>2</th>\n",
              "      <td>0.742708</td>\n",
              "      <td>0.310383</td>\n",
              "      <td>-0.012673</td>\n",
              "      <td>0.576957</td>\n",
              "      <td>0.285074</td>\n",
              "      <td>0.650609</td>\n",
              "      <td>0.375348</td>\n",
              "      <td>0.902567</td>\n",
              "      <td>0.555205</td>\n",
              "      <td>0.843531</td>\n",
              "      <td>0.748809</td>\n",
              "      <td>0.620126</td>\n",
              "      <td>0.541474</td>\n",
              "      <td>0.763846</td>\n",
              "    </tr>\n",
              "    <tr>\n",
              "      <th>3</th>\n",
              "      <td>0.429551</td>\n",
              "      <td>0.620998</td>\n",
              "      <td>0.577942</td>\n",
              "      <td>0.280610</td>\n",
              "      <td>0.284667</td>\n",
              "      <td>0.668980</td>\n",
              "      <td>0.239061</td>\n",
              "      <td>0.732948</td>\n",
              "      <td>0.679618</td>\n",
              "      <td>0.574844</td>\n",
              "      <td>0.346010</td>\n",
              "      <td>0.714610</td>\n",
              "      <td>0.540150</td>\n",
              "      <td>0.280682</td>\n",
              "    </tr>\n",
              "    <tr>\n",
              "      <th>4</th>\n",
              "      <td>1.058291</td>\n",
              "      <td>0.367492</td>\n",
              "      <td>-0.052389</td>\n",
              "      <td>0.232407</td>\n",
              "      <td>0.287595</td>\n",
              "      <td>0.686964</td>\n",
              "      <td>0.420667</td>\n",
              "      <td>0.648182</td>\n",
              "      <td>0.684501</td>\n",
              "      <td>0.956692</td>\n",
              "      <td>1.000773</td>\n",
              "      <td>0.776742</td>\n",
              "      <td>0.625849</td>\n",
              "      <td>0.250823</td>\n",
              "    </tr>\n",
              "  </tbody>\n",
              "</table>\n",
              "</div>"
            ],
            "text/plain": [
              "      cont0     cont1     cont2  ...    cont11    cont12    cont13\n",
              "0  0.201470 -0.014822  0.669699  ...  0.377873  0.322401  0.869850\n",
              "1  0.743068  0.367411  1.021605  ...  0.921701  0.261975  0.465083\n",
              "2  0.742708  0.310383 -0.012673  ...  0.620126  0.541474  0.763846\n",
              "3  0.429551  0.620998  0.577942  ...  0.714610  0.540150  0.280682\n",
              "4  1.058291  0.367492 -0.052389  ...  0.776742  0.625849  0.250823\n",
              "\n",
              "[5 rows x 14 columns]"
            ]
          },
          "metadata": {
            "tags": []
          },
          "execution_count": 24
        }
      ]
    },
    {
      "cell_type": "code",
      "metadata": {
        "id": "utH9vVgaZhqt"
      },
      "source": [
        "kmeans = KMeans(n_clusters=6)\n",
        "features[\"Cluster\"] = kmeans.fit_predict(features[float_num])\n",
        "features[\"Cluster\"] = features[\"Cluster\"].astype(\"category\")"
      ],
      "execution_count": null,
      "outputs": []
    },
    {
      "cell_type": "code",
      "metadata": {
        "id": "HlULptNGfWKx"
      },
      "source": [
        "X_train, X_val, y_train, y_val = ( \n",
        "                                train_test_split(\n",
        "                                features, target, test_size=0.25, random_state=42)\n",
        ")\n"
      ],
      "execution_count": null,
      "outputs": []
    },
    {
      "cell_type": "code",
      "metadata": {
        "colab": {
          "base_uri": "https://localhost:8080/"
        },
        "id": "G7utw88ml8uH",
        "outputId": "353ab187-f8d9-4742-fcf9-a4ae02b83a33"
      },
      "source": [
        "X_train[nums].shape"
      ],
      "execution_count": null,
      "outputs": [
        {
          "output_type": "execute_result",
          "data": {
            "text/plain": [
              "(225000, 14)"
            ]
          },
          "metadata": {
            "tags": []
          },
          "execution_count": 29
        }
      ]
    },
    {
      "cell_type": "code",
      "metadata": {
        "colab": {
          "base_uri": "https://localhost:8080/",
          "height": 592
        },
        "id": "TPsOM1cuUHNj",
        "outputId": "560eb66b-ed52-43e3-ef94-fe543c04ad04"
      },
      "source": [
        "plt.figure(figsize=(15,10))\n",
        "mask = np.triu(np.ones_like(X_train[nums].corr()))\n",
        "sns.heatmap(X_train[nums].corr(), annot=True, mask=mask, cmap=\"RdBu\");"
      ],
      "execution_count": null,
      "outputs": [
        {
          "output_type": "display_data",
          "data": {
            "image/png": "[encoded data removed]",
            "text/plain": [
              "<Figure size 1080x720 with 2 Axes>"
            ]
          },
          "metadata": {
            "tags": [],
            "needs_background": "light"
          }
        }
      ]
    },
    {
      "cell_type": "code",
      "metadata": {
        "id": "LQd9qWcIP5AN"
      },
      "source": [
        "X_train_clean = X_train[X_train.index.isin(df_clean.index)]\n",
        "X_val_clean = X_val[X_val.index.isin(df_clean.index)]\n",
        "y_train_clean = y_train[y_train.index.isin(df_clean.index)]\n",
        "y_val_clean = y_val[y_val.index.isin(df_clean.index)]\n",
        "X_train_clean.shape, X_val_clean.shape, y_train_clean.shape, y_val_clean.shape"
      ],
      "execution_count": null,
      "outputs": []
    },
    {
      "cell_type": "code",
      "metadata": {
        "colab": {
          "base_uri": "https://localhost:8080/"
        },
        "id": "tVR5aAGHPw37",
        "outputId": "7c826648-367f-46b0-f931-0fe8a70ad9bd"
      },
      "source": [
        "X_train.shape"
      ],
      "execution_count": null,
      "outputs": [
        {
          "output_type": "execute_result",
          "data": {
            "text/plain": [
              "(225000, 25)"
            ]
          },
          "metadata": {
            "tags": []
          },
          "execution_count": 27
        }
      ]
    },
    {
      "cell_type": "code",
      "metadata": {
        "colab": {
          "base_uri": "https://localhost:8080/"
        },
        "id": "XIavXakCbJgP",
        "outputId": "e3b820ad-0998-437d-9df8-3cd291afd30a"
      },
      "source": [
        "cat_feature = list(X_train.select_dtypes(include=['object', 'category']))\n",
        "cat_feature "
      ],
      "execution_count": null,
      "outputs": [
        {
          "output_type": "execute_result",
          "data": {
            "text/plain": [
              "['cat0',\n",
              " 'cat1',\n",
              " 'cat2',\n",
              " 'cat3',\n",
              " 'cat4',\n",
              " 'cat5',\n",
              " 'cat6',\n",
              " 'cat7',\n",
              " 'cat8',\n",
              " 'cat9',\n",
              " 'Cluster']"
            ]
          },
          "metadata": {
            "tags": []
          },
          "execution_count": 32
        }
      ]
    },
    {
      "cell_type": "markdown",
      "metadata": {
        "id": "XDxP7vEWu57R"
      },
      "source": [
        "## LGBM с CV prediction"
      ]
    },
    {
      "cell_type": "code",
      "metadata": {
        "id": "whvJTrKDj3FQ"
      },
      "source": [
        "# gbm_features = list(X_train.columns)\n",
        "# X_train_gbm = X_train_clean.copy()\n",
        "\n",
        "\n",
        "\n",
        "# for cat in cat_feature:\n",
        "#     X_train_gbm[cat_feature] = X_train_gbm[cat_feature].astype('category')\n",
        "\n",
        "# train_data = lgb.Dataset ( X_train_gbm , label = y_train_clean, feature_name = gbm_features ,\n",
        "#                            categorical_feature = cat_feature, free_raw_data=False\n",
        "#                            )\n",
        "\n",
        "# формирование сета данных для модели\n",
        "\n",
        "\n",
        "# lgbm_params =  {\n",
        "#     'task': 'train',\n",
        "#     'boosting_type': 'gbdt',\n",
        "#     'objective': 'regression',\n",
        "#     'metric': 'rmse',\n",
        "#     \"learning_rate\": 0.02,\n",
        "#     \"num_leaves\": 20,\n",
        "#     \"feature_fraction\": 0.5,\n",
        "#     \"bagging_fraction\": 0.5,\n",
        "#     'bagging_freq': 100,\n",
        "#     \"reg_alpha\": 0.5,\n",
        "#     \"reg_lambda\": 0.5,\n",
        "#     'zero_as_missing':True\n",
        "#                 }\n",
        "\n",
        "# lgbm_params =  {\n",
        "#     'task': 'train',\n",
        "#     'boosting_type': 'gbdt',\n",
        "#     'objective': 'regression',\n",
        "#     'metric': 'rmse',\n",
        "#     \"learning_rate\": 0.008,\n",
        "#     \"num_leaves\": 111,\n",
        "#     \"min_child_samples\": 285,\n",
        "#     \"subsample\": 0.8,\n",
        "#     'max_depth': 20,\n",
        "#     \"reg_alpha\": 6.15,\n",
        "#     \"reg_lambda\": 0.002,\n",
        "#     'colsample_bytree': 0.3,\n",
        "#     'n_estimators':2000,\n",
        "#     'cat_smooth':42,\n",
        "#     'random_state':42\n",
        "#                 }\n",
        "\n",
        "# lgbm_params =  {\n",
        "#     'task': 'train',\n",
        "#     'boosting_type': 'gbdt',\n",
        "#     'objective': 'regression',\n",
        "#     'metric': 'rmse',\n",
        "#     \"learning_rate\": 0.008,\n",
        "#     \"num_leaves\": 100,\n",
        "#     \"min_child_samples\": 256,\n",
        "#     \"subsample\": 0.8,\n",
        "#     'max_depth': 20,\n",
        "#     \"reg_alpha\": 6.15,\n",
        "#     \"reg_lambda\": 0.002,\n",
        "#     'colsample_bytree': 0.3,\n",
        "#     'n_estimators':20000,\n",
        "#     'cat_smooth':42,\n",
        "#     'random_state':42\n",
        "#                 }\n",
        "\n",
        "\n",
        "\n",
        "#### lgbm_params = {\n",
        "#     \"boosting_type\": \"gbdt\",\n",
        "#     \"objective\": \"regression\",\n",
        "#     \"metric\": \"rmse\",\n",
        "#     \"learning_rate\": 0.008,\n",
        "#     \"num_leaves\": 77,\n",
        "#     \"max_depth\": 77,\n",
        "#     \"feature_fraction\": 0.225,\n",
        "#     \"bagging_fraction\": 0.771,\n",
        "#     \"min_child_samples\": 290,\n",
        "#     \"reg_alpha\": 9.42,\n",
        "#     \"reg_lambda\": 9.42,\n",
        "#     \"max_bin\": 772,\n",
        "#     \"min_data_per_group\": 177,\n",
        "#     \"bagging_freq\": 1,\n",
        "#     \"cat_smooth\": 96,\n",
        "#     \"cat_l2\": 17,\n",
        "#     \"verbosity\": -1,\n",
        "#     \"bagging_seed\": 42,\n",
        "#     \"feature_fraction_seed\": 42,\n",
        "#     \"seed\": 42,\n",
        "#     'num_boost_round': 100000\n",
        "# }\n",
        "\n",
        "\n",
        "# lgbm_params = {'n_estimators': 10000,\n",
        "#               'learning_rate': 0.35,\n",
        "#               'subsample': 0.926,\n",
        "#               'colsample_bytree': 0.84,\n",
        "#               'max_depth': 2,\n",
        "#               'booster': 'gbdt', \n",
        "#               'reg_lambda': 35.1,\n",
        "#               'reg_alpha': 34.9,\n",
        "#               'random_state': 42,\n",
        "#               'n_jobs': 4}\n",
        "\n",
        "\n",
        "\n",
        "\n",
        "# lgbm_params = {\n",
        "#     \"boosting_type\": \"gbdt\",\n",
        "#     \"objective\": \"regression\",\n",
        "#     \"metric\": \"rmse\",\n",
        "#     \"learning_rate\": 0.008,\n",
        "#     \"num_leaves\": 77,\n",
        "#     \"max_depth\": 77,\n",
        "#     \"feature_fraction\": 0.225,\n",
        "#     \"bagging_fraction\": 0.771,\n",
        "#     \"min_child_samples\": 290,\n",
        "#     \"reg_alpha\": 35.3,\n",
        "#     \"reg_lambda\": 35.1,\n",
        "#     \"max_bin\": 772,\n",
        "#     \"min_data_per_group\": 177,\n",
        "#     \"bagging_freq\": 1,\n",
        "#     \"cat_smooth\": 96,\n",
        "#     \"cat_l2\": 10,\n",
        "#     \"verbosity\": -1,\n",
        "#     \"bagging_seed\": 42,\n",
        "#     \"feature_fraction_seed\": 42,\n",
        "#     \"seed\": 42,\n",
        "#     'num_boost_round': 100000,\n",
        "#     'colsample_bytree': 0.84\n",
        "# }\n",
        "\n",
        "\n",
        "\n",
        "\n",
        "\n",
        "# lgb_cv = lgb.cv(\n",
        "#     params = lgbm_params,\n",
        "#     train_set = train_data,\n",
        "#     num_boost_round=5000,\n",
        "#     stratified=False,\n",
        "#     nfold = 5,\n",
        "#     verbose_eval=100,\n",
        "#     seed = 42,\n",
        "#     early_stopping_rounds=500)\n",
        "\n",
        "\n"
      ],
      "execution_count": null,
      "outputs": []
    },
    {
      "cell_type": "code",
      "metadata": {
        "id": "zQe_tX1HgAuv"
      },
      "source": [
        "X_test = test.drop(['id'], axis=1)"
      ],
      "execution_count": null,
      "outputs": []
    },
    {
      "cell_type": "code",
      "metadata": {
        "id": "OwKAzRf-rwYt"
      },
      "source": [
        "# train_data = lgb.Dataset ( X_train_gbm , label = y_train_clean , feature_name = gbm_features ,\n",
        "#                            categorical_feature = cat_feature, free_raw_data=False\n",
        "#                            )"
      ],
      "execution_count": null,
      "outputs": []
    },
    {
      "cell_type": "code",
      "metadata": {
        "id": "DU_FThNfrcN-"
      },
      "source": [
        "# num_round = 3000\n",
        "# lgb_model = lgb.train(lgbm_params, train_data, num_round)"
      ],
      "execution_count": null,
      "outputs": []
    },
    {
      "cell_type": "code",
      "metadata": {
        "id": "_S6D7PtKRoHp"
      },
      "source": [
        "# X_val_gbm = X_val_clean.copy()\n",
        "\n",
        "\n",
        "\n",
        "# for cat in cat_feature:\n",
        "#     X_val_gbm[cat_feature] = X_val_gbm[cat_feature].astype('category')\n",
        "\n",
        "# y_pred = lgb_model.predict(X_val_gbm)\n",
        "# rmse = (mean_squared_error(y_val_clean, y_pred)) ** 0.5\n",
        "# rmse"
      ],
      "execution_count": null,
      "outputs": []
    },
    {
      "cell_type": "code",
      "metadata": {
        "id": "WHOmGox7TOOz"
      },
      "source": [
        "# lgb.plot_importance(lgb_model, figsize = (12, 5))\n",
        "# plt.show()"
      ],
      "execution_count": null,
      "outputs": []
    },
    {
      "cell_type": "code",
      "metadata": {
        "id": "gHVCFJkoXHDv"
      },
      "source": [
        "# cat_feature = list(X_train.select_dtypes(include=['object', 'category']))\n",
        "# cat_feature "
      ],
      "execution_count": null,
      "outputs": []
    },
    {
      "cell_type": "markdown",
      "metadata": {
        "id": "ZaWOu1-hEZOI"
      },
      "source": [
        "## LGBM с GS и CV"
      ]
    },
    {
      "cell_type": "code",
      "metadata": {
        "id": "WkLAF_xCEcpt"
      },
      "source": [
        "features, target = split_data(train, 'target')"
      ],
      "execution_count": null,
      "outputs": []
    },
    {
      "cell_type": "code",
      "metadata": {
        "colab": {
          "base_uri": "https://localhost:8080/"
        },
        "id": "00AjSGv3psb-",
        "outputId": "ea186b04-de0c-4e61-e387-9275e6bd3f47"
      },
      "source": [
        "features.shape"
      ],
      "execution_count": null,
      "outputs": [
        {
          "output_type": "execute_result",
          "data": {
            "text/plain": [
              "(300000, 25)"
            ]
          },
          "metadata": {
            "tags": []
          },
          "execution_count": 198
        }
      ]
    },
    {
      "cell_type": "code",
      "metadata": {
        "colab": {
          "base_uri": "https://localhost:8080/"
        },
        "id": "8IkbGJ9gE01C",
        "outputId": "b665c78f-6cf8-4a20-bb6f-90df2d8ca2dd"
      },
      "source": [
        "cat_feature = list(features.select_dtypes(include=['object']))\n",
        "cat_feature "
      ],
      "execution_count": null,
      "outputs": [
        {
          "output_type": "execute_result",
          "data": {
            "text/plain": [
              "[]"
            ]
          },
          "metadata": {
            "tags": []
          },
          "execution_count": 77
        }
      ]
    },
    {
      "cell_type": "code",
      "metadata": {
        "id": "YpI73IN0Ecpu"
      },
      "source": [
        "encoder = OrdinalEncoder()\n"
      ],
      "execution_count": null,
      "outputs": []
    },
    {
      "cell_type": "code",
      "metadata": {
        "id": "capJUtqqEcpu"
      },
      "source": [
        "features[cat_feature] = encoder.fit_transform(features[cat_feature])"
      ],
      "execution_count": null,
      "outputs": []
    },
    {
      "cell_type": "code",
      "metadata": {
        "colab": {
          "base_uri": "https://localhost:8080/",
          "height": 224
        },
        "id": "VVbUWFJaEcpu",
        "outputId": "ee406077-d594-42b9-863a-cb4f01d5f6c4"
      },
      "source": [
        "features.head()"
      ],
      "execution_count": null,
      "outputs": [
        {
          "output_type": "execute_result",
          "data": {
            "text/html": [
              "<div>\n",
              "<style scoped>\n",
              "    .dataframe tbody tr th:only-of-type {\n",
              "        vertical-align: middle;\n",
              "    }\n",
              "\n",
              "    .dataframe tbody tr th {\n",
              "        vertical-align: top;\n",
              "    }\n",
              "\n",
              "    .dataframe thead th {\n",
              "        text-align: right;\n",
              "    }\n",
              "</style>\n",
              "<table border=\"1\" class=\"dataframe\">\n",
              "  <thead>\n",
              "    <tr style=\"text-align: right;\">\n",
              "      <th></th>\n",
              "      <th>id</th>\n",
              "      <th>cat0</th>\n",
              "      <th>cat1</th>\n",
              "      <th>cat2</th>\n",
              "      <th>cat3</th>\n",
              "      <th>cat4</th>\n",
              "      <th>cat5</th>\n",
              "      <th>cat6</th>\n",
              "      <th>cat7</th>\n",
              "      <th>cat8</th>\n",
              "      <th>cat9</th>\n",
              "      <th>cont0</th>\n",
              "      <th>cont1</th>\n",
              "      <th>cont2</th>\n",
              "      <th>cont3</th>\n",
              "      <th>cont4</th>\n",
              "      <th>cont5</th>\n",
              "      <th>cont6</th>\n",
              "      <th>cont7</th>\n",
              "      <th>cont8</th>\n",
              "      <th>cont9</th>\n",
              "      <th>cont10</th>\n",
              "      <th>cont11</th>\n",
              "      <th>cont12</th>\n",
              "      <th>cont13</th>\n",
              "    </tr>\n",
              "  </thead>\n",
              "  <tbody>\n",
              "    <tr>\n",
              "      <th>0</th>\n",
              "      <td>1</td>\n",
              "      <td>1.0</td>\n",
              "      <td>1.0</td>\n",
              "      <td>1.0</td>\n",
              "      <td>2.0</td>\n",
              "      <td>1.0</td>\n",
              "      <td>1.0</td>\n",
              "      <td>0.0</td>\n",
              "      <td>4.0</td>\n",
              "      <td>2.0</td>\n",
              "      <td>13.0</td>\n",
              "      <td>0.201470</td>\n",
              "      <td>-0.014822</td>\n",
              "      <td>0.669699</td>\n",
              "      <td>0.136278</td>\n",
              "      <td>0.610706</td>\n",
              "      <td>0.400361</td>\n",
              "      <td>0.160266</td>\n",
              "      <td>0.310921</td>\n",
              "      <td>0.389470</td>\n",
              "      <td>0.267559</td>\n",
              "      <td>0.237281</td>\n",
              "      <td>0.377873</td>\n",
              "      <td>0.322401</td>\n",
              "      <td>0.869850</td>\n",
              "    </tr>\n",
              "    <tr>\n",
              "      <th>1</th>\n",
              "      <td>2</td>\n",
              "      <td>1.0</td>\n",
              "      <td>1.0</td>\n",
              "      <td>0.0</td>\n",
              "      <td>0.0</td>\n",
              "      <td>1.0</td>\n",
              "      <td>3.0</td>\n",
              "      <td>0.0</td>\n",
              "      <td>5.0</td>\n",
              "      <td>0.0</td>\n",
              "      <td>14.0</td>\n",
              "      <td>0.743068</td>\n",
              "      <td>0.367411</td>\n",
              "      <td>1.021605</td>\n",
              "      <td>0.365798</td>\n",
              "      <td>0.276853</td>\n",
              "      <td>0.533087</td>\n",
              "      <td>0.558922</td>\n",
              "      <td>0.516294</td>\n",
              "      <td>0.594928</td>\n",
              "      <td>0.341439</td>\n",
              "      <td>0.906013</td>\n",
              "      <td>0.921701</td>\n",
              "      <td>0.261975</td>\n",
              "      <td>0.465083</td>\n",
              "    </tr>\n",
              "    <tr>\n",
              "      <th>2</th>\n",
              "      <td>3</td>\n",
              "      <td>0.0</td>\n",
              "      <td>0.0</td>\n",
              "      <td>0.0</td>\n",
              "      <td>2.0</td>\n",
              "      <td>1.0</td>\n",
              "      <td>3.0</td>\n",
              "      <td>0.0</td>\n",
              "      <td>3.0</td>\n",
              "      <td>0.0</td>\n",
              "      <td>5.0</td>\n",
              "      <td>0.742708</td>\n",
              "      <td>0.310383</td>\n",
              "      <td>-0.012673</td>\n",
              "      <td>0.576957</td>\n",
              "      <td>0.285074</td>\n",
              "      <td>0.650609</td>\n",
              "      <td>0.375348</td>\n",
              "      <td>0.902567</td>\n",
              "      <td>0.555205</td>\n",
              "      <td>0.843531</td>\n",
              "      <td>0.748809</td>\n",
              "      <td>0.620126</td>\n",
              "      <td>0.541474</td>\n",
              "      <td>0.763846</td>\n",
              "    </tr>\n",
              "    <tr>\n",
              "      <th>3</th>\n",
              "      <td>4</td>\n",
              "      <td>1.0</td>\n",
              "      <td>1.0</td>\n",
              "      <td>0.0</td>\n",
              "      <td>2.0</td>\n",
              "      <td>1.0</td>\n",
              "      <td>3.0</td>\n",
              "      <td>0.0</td>\n",
              "      <td>4.0</td>\n",
              "      <td>2.0</td>\n",
              "      <td>10.0</td>\n",
              "      <td>0.429551</td>\n",
              "      <td>0.620998</td>\n",
              "      <td>0.577942</td>\n",
              "      <td>0.280610</td>\n",
              "      <td>0.284667</td>\n",
              "      <td>0.668980</td>\n",
              "      <td>0.239061</td>\n",
              "      <td>0.732948</td>\n",
              "      <td>0.679618</td>\n",
              "      <td>0.574844</td>\n",
              "      <td>0.346010</td>\n",
              "      <td>0.714610</td>\n",
              "      <td>0.540150</td>\n",
              "      <td>0.280682</td>\n",
              "    </tr>\n",
              "    <tr>\n",
              "      <th>4</th>\n",
              "      <td>6</td>\n",
              "      <td>0.0</td>\n",
              "      <td>0.0</td>\n",
              "      <td>0.0</td>\n",
              "      <td>2.0</td>\n",
              "      <td>1.0</td>\n",
              "      <td>3.0</td>\n",
              "      <td>0.0</td>\n",
              "      <td>4.0</td>\n",
              "      <td>0.0</td>\n",
              "      <td>13.0</td>\n",
              "      <td>1.058291</td>\n",
              "      <td>0.367492</td>\n",
              "      <td>-0.052389</td>\n",
              "      <td>0.232407</td>\n",
              "      <td>0.287595</td>\n",
              "      <td>0.686964</td>\n",
              "      <td>0.420667</td>\n",
              "      <td>0.648182</td>\n",
              "      <td>0.684501</td>\n",
              "      <td>0.956692</td>\n",
              "      <td>1.000773</td>\n",
              "      <td>0.776742</td>\n",
              "      <td>0.625849</td>\n",
              "      <td>0.250823</td>\n",
              "    </tr>\n",
              "  </tbody>\n",
              "</table>\n",
              "</div>"
            ],
            "text/plain": [
              "   id  cat0  cat1  cat2  cat3  ...     cont9    cont10    cont11    cont12    cont13\n",
              "0   1   1.0   1.0   1.0   2.0  ...  0.267559  0.237281  0.377873  0.322401  0.869850\n",
              "1   2   1.0   1.0   0.0   0.0  ...  0.341439  0.906013  0.921701  0.261975  0.465083\n",
              "2   3   0.0   0.0   0.0   2.0  ...  0.843531  0.748809  0.620126  0.541474  0.763846\n",
              "3   4   1.0   1.0   0.0   2.0  ...  0.574844  0.346010  0.714610  0.540150  0.280682\n",
              "4   6   0.0   0.0   0.0   2.0  ...  0.956692  1.000773  0.776742  0.625849  0.250823\n",
              "\n",
              "[5 rows x 25 columns]"
            ]
          },
          "metadata": {
            "tags": []
          },
          "execution_count": 202
        }
      ]
    },
    {
      "cell_type": "code",
      "metadata": {
        "id": "n7FqjiinEcpu"
      },
      "source": [
        "features = features.drop('id', axis=1)"
      ],
      "execution_count": null,
      "outputs": []
    },
    {
      "cell_type": "code",
      "metadata": {
        "id": "t_DO9P4q1HjT"
      },
      "source": [
        "params = {\"learning_rate\": [0.003899, 0.008, 0.35],\n",
        "              \"num_leaves\": [62, 77]}\n",
        "\n",
        "\n",
        "\n",
        "\n",
        "params_lgb = {\n",
        "    \"task\": \"train\",\n",
        "    \"boosting_type\": \"gbdt\",\n",
        "    \"objective\": \"regression\",\n",
        "    \"metric\": \"rmse\",\n",
        "    \"max_depth\": 95,\n",
        "    \"feature_fraction\": 0.2256,\n",
        "    \"bagging_fraction\": 0.8805,\n",
        "    \"min_child_samples\": 290,\n",
        "    \"reg_alpha\": 9.562925,\n",
        "    \"reg_lambda\": 9.35581,\n",
        "    \"max_bin\": 881,\n",
        "    \"min_data_per_group\": 125,\n",
        "    \"bagging_freq\": 1,\n",
        "    \"cat_smooth\": 96,\n",
        "    \"cat_l2\": 19,\n",
        "    \"verbosity\": -1,\n",
        "    \"bagging_seed\": 42,\n",
        "    \"feature_fraction_seed\": 42,\n",
        "    \"seed\": 42\n",
        "}\n",
        "model = LGBMRegressor(random_state=42, **params_lgb)\n",
        "\n",
        "grid = GridSearchCV(model, params, \n",
        "                    scoring='r2', cv=5)"
      ],
      "execution_count": null,
      "outputs": []
    },
    {
      "cell_type": "code",
      "metadata": {
        "colab": {
          "base_uri": "https://localhost:8080/"
        },
        "id": "xcORUCnH3HuR",
        "outputId": "751fd842-2136-45e0-b5f3-b945c6ad463f"
      },
      "source": [
        "# grid.fit(features, target)"
      ],
      "execution_count": null,
      "outputs": [
        {
          "output_type": "execute_result",
          "data": {
            "text/plain": [
              "GridSearchCV(cv=5, error_score=nan,\n",
              "             estimator=LGBMRegressor(bagging_fraction=0.8805, bagging_freq=1,\n",
              "                                     bagging_seed=42, boosting_type='gbdt',\n",
              "                                     cat_l2=19, cat_smooth=96,\n",
              "                                     class_weight=None, colsample_bytree=1.0,\n",
              "                                     feature_fraction=0.2256,\n",
              "                                     feature_fraction_seed=42,\n",
              "                                     importance_type='split', learning_rate=0.1,\n",
              "                                     max_bin=881, max_depth=95, metric='rmse',\n",
              "                                     min_child_samples=290,\n",
              "                                     m...\n",
              "                                     n_estimators=100, n_jobs=-1, num_leaves=31,\n",
              "                                     objective='regression', random_state=42,\n",
              "                                     reg_alpha=9.562925, reg_lambda=9.35581,\n",
              "                                     seed=42, silent=True, subsample=1.0,\n",
              "                                     subsample_for_bin=200000, ...),\n",
              "             iid='deprecated', n_jobs=None,\n",
              "             param_grid={'learning_rate': [0.003899, 0.008, 0.35],\n",
              "                         'num_leaves': [62, 77]},\n",
              "             pre_dispatch='2*n_jobs', refit=True, return_train_score=False,\n",
              "             scoring='r2', verbose=0)"
            ]
          },
          "metadata": {
            "tags": []
          },
          "execution_count": 138
        }
      ]
    },
    {
      "cell_type": "code",
      "metadata": {
        "id": "bm-btiIynT1n"
      },
      "source": [
        "lgbm_tuned = grid.best_estimator_"
      ],
      "execution_count": null,
      "outputs": []
    },
    {
      "cell_type": "code",
      "metadata": {
        "id": "YXnu01HeFD4Z"
      },
      "source": [
        "X_test_cv = X_test.copy()\n",
        "\n",
        "X_test_cv[cat_feature] = encoder.transform(X_test_cv[cat_feature])"
      ],
      "execution_count": null,
      "outputs": []
    },
    {
      "cell_type": "code",
      "metadata": {
        "id": "umeSFCpkeeqp"
      },
      "source": [
        "# X_test[\"Cluster\"] = kmeans.predict(X_test[float_num])\n",
        "# X_test[\"Cluster\"] = X_test[\"Cluster\"].astype(\"category\")\n",
        "\n",
        "# X_test_gbm = X_test.copy()"
      ],
      "execution_count": null,
      "outputs": []
    },
    {
      "cell_type": "code",
      "metadata": {
        "colab": {
          "base_uri": "https://localhost:8080/"
        },
        "id": "re7HrOV5AEw4",
        "outputId": "40588e65-27dc-4604-8e0c-7b9d3f6f56bd"
      },
      "source": [
        "preds = np.zeros(test.shape[0])\n",
        "kf = KFold(n_splits=5, random_state=42, shuffle=True)\n",
        "rmse=[]\n",
        "n=0\n",
        "\n",
        "\n",
        "for train_idx, test_idx in kf.split(features, target):\n",
        "\n",
        "    X_train_g, X_val_g = features.iloc[train_idx], features.iloc[test_idx]\n",
        "    y_tr_g, y_val_g = target.iloc[train_idx], target.iloc[test_idx]\n",
        "\n",
        "\n",
        "\n",
        "\n",
        "\n",
        "    model = LGBMRegressor(**lgbm_params)\n",
        "\n",
        "    model.fit(X_train_g, y_tr_g, eval_set = [(X_val_g, y_val_g)],\n",
        "              early_stopping_rounds=200,verbose=False)\n",
        "    \n",
        "\n",
        "    preds += model.predict(X_test_cv)/kf.n_splits\n",
        "\n",
        "    rmse.append(mean_squared_error(y_val_g, model.predict(X_val_g), squared=False))\n",
        "    print(n+1,rmse[n])\n",
        "    n+=1"
      ],
      "execution_count": null,
      "outputs": [
        {
          "output_type": "stream",
          "text": [
            "1 0.7201913732657195\n",
            "2 0.7198413046481426\n",
            "3 0.721691343092229\n",
            "4 0.7212107743268916\n",
            "5 0.7207240903325187\n"
          ],
          "name": "stdout"
        }
      ]
    },
    {
      "cell_type": "markdown",
      "metadata": {
        "id": "hc99pd_n5o18"
      },
      "source": [
        "1 0.7195126241945157.  \n",
        "2 0.7210475109871509.  \n",
        "3 0.7188888805297217.  \n",
        "4 0.7192378725031316.  \n",
        "5 0.7152799830372809.  \n"
      ]
    },
    {
      "cell_type": "code",
      "metadata": {
        "id": "9JCjLcmuhKy8"
      },
      "source": [
        "\n",
        "# for cat in cat_feature:\n",
        "#     X_test_gbm[cat] = X_test_gbm[cat].astype('category')\n",
        "\n",
        "\n",
        "\n",
        "# ypred = lgb_model.predict(X_test_gbm)\n"
      ],
      "execution_count": null,
      "outputs": []
    },
    {
      "cell_type": "code",
      "metadata": {
        "id": "sy8dZ2-0hjy6"
      },
      "source": [
        "test_id = test['id']"
      ],
      "execution_count": null,
      "outputs": []
    },
    {
      "cell_type": "code",
      "metadata": {
        "id": "c697B_iVgb9Q"
      },
      "source": [
        "# sub = pd.DataFrame()\n",
        "# sub['Id'] = test_id\n",
        "# sub['target'] = ypred\n",
        "# sub.to_csv('my_submission_lgbm.csv',index=False)\n",
        "# from google.colab import files\n",
        "# # files.download(\"my_submission_lgbm.csv\")"
      ],
      "execution_count": null,
      "outputs": []
    },
    {
      "cell_type": "code",
      "metadata": {
        "id": "O105gA8rFlCz"
      },
      "source": [
        "# sub = pd.DataFrame()\n",
        "# sub['Id'] = test_id\n",
        "# sub['target'] = preds\n",
        "# sub.to_csv('my_submission_lgbm_CV.csv',index=False)\n",
        "# from google.colab import files\n",
        "# files.download(\"my_submission_lgbm_CV.csv\")"
      ],
      "execution_count": null,
      "outputs": []
    },
    {
      "cell_type": "code",
      "metadata": {
        "id": "dF03LqfvJdRK"
      },
      "source": [
        "# sub = pd.DataFrame()\n",
        "# sub['Id'] = test_id\n",
        "# sub['target'] = preds\n",
        "# sub.to_csv('my_submission_lgbm_CV_new.csv',index=False)\n",
        "# from google.colab import files\n",
        "# files.download(\"my_submission_lgbm_CV_new.csv\")"
      ],
      "execution_count": null,
      "outputs": []
    },
    {
      "cell_type": "code",
      "metadata": {
        "id": "awBTvEJ4oSGk"
      },
      "source": [
        "sub = pd.DataFrame()\n",
        "sub['Id'] = test_id\n",
        "sub['target'] = preds\n",
        "sub.to_csv('my_submission_lgbm_CGV_new_param.csv',index=False)\n",
        "from google.colab import files\n",
        "# files.download(\"my_submission_lgbm_CGV_new_param.csv\")"
      ],
      "execution_count": null,
      "outputs": []
    },
    {
      "cell_type": "code",
      "metadata": {
        "id": "iSooHSSuWjO4"
      },
      "source": [
        "# sub = pd.DataFrame()\n",
        "# sub['Id'] = test_id\n",
        "# sub['target'] = preds\n",
        "# sub.to_csv('my_submission_lgbm_CV_XG.csv',index=False)\n",
        "# from google.colab import files\n",
        "# files.download(\"my_submission_lgbm_CV_XG.csv\")"
      ],
      "execution_count": null,
      "outputs": []
    },
    {
      "cell_type": "code",
      "metadata": {
        "id": "bJgeUADup5VW"
      },
      "source": [
        "# sub = pd.DataFrame()\n",
        "# sub['Id'] = test_id\n",
        "# sub['target'] = preds\n",
        "# sub.to_csv('my_submission_lgbm_CV_Clean.csv',index=False)\n",
        "# from google.colab import files\n",
        "# files.download(\"my_submission_lgbm_CV_Clean.csv\")"
      ],
      "execution_count": null,
      "outputs": []
    },
    {
      "cell_type": "code",
      "metadata": {
        "id": "F8gJYQ4slCAN",
        "colab": {
          "base_uri": "https://localhost:8080/",
          "height": 204
        },
        "outputId": "7654d03a-8f78-4db7-cdab-72ed03049645"
      },
      "source": [
        "sub.head()"
      ],
      "execution_count": null,
      "outputs": [
        {
          "output_type": "execute_result",
          "data": {
            "text/html": [
              "<div>\n",
              "<style scoped>\n",
              "    .dataframe tbody tr th:only-of-type {\n",
              "        vertical-align: middle;\n",
              "    }\n",
              "\n",
              "    .dataframe tbody tr th {\n",
              "        vertical-align: top;\n",
              "    }\n",
              "\n",
              "    .dataframe thead th {\n",
              "        text-align: right;\n",
              "    }\n",
              "</style>\n",
              "<table border=\"1\" class=\"dataframe\">\n",
              "  <thead>\n",
              "    <tr style=\"text-align: right;\">\n",
              "      <th></th>\n",
              "      <th>Id</th>\n",
              "      <th>target</th>\n",
              "    </tr>\n",
              "  </thead>\n",
              "  <tbody>\n",
              "    <tr>\n",
              "      <th>0</th>\n",
              "      <td>0</td>\n",
              "      <td>8.088469</td>\n",
              "    </tr>\n",
              "    <tr>\n",
              "      <th>1</th>\n",
              "      <td>5</td>\n",
              "      <td>8.255259</td>\n",
              "    </tr>\n",
              "    <tr>\n",
              "      <th>2</th>\n",
              "      <td>15</td>\n",
              "      <td>8.412655</td>\n",
              "    </tr>\n",
              "    <tr>\n",
              "      <th>3</th>\n",
              "      <td>16</td>\n",
              "      <td>8.465137</td>\n",
              "    </tr>\n",
              "    <tr>\n",
              "      <th>4</th>\n",
              "      <td>17</td>\n",
              "      <td>8.146321</td>\n",
              "    </tr>\n",
              "  </tbody>\n",
              "</table>\n",
              "</div>"
            ],
            "text/plain": [
              "   Id    target\n",
              "0   0  8.088469\n",
              "1   5  8.255259\n",
              "2  15  8.412655\n",
              "3  16  8.465137\n",
              "4  17  8.146321"
            ]
          },
          "metadata": {
            "tags": []
          },
          "execution_count": 209
        }
      ]
    },
    {
      "cell_type": "markdown",
      "metadata": {
        "id": "cv2KjN9UiDzX"
      },
      "source": [
        "## LGBM with labeling"
      ]
    },
    {
      "cell_type": "code",
      "metadata": {
        "id": "0BXzceZmiD2J"
      },
      "source": [
        "#\"my_submission_lgbm_CGV_new_param.csv\"\n",
        "params_lgb = {\n",
        "    \"task\": \"train\",\n",
        "    \"boosting_type\": \"gbdt\",\n",
        "    \"objective\": \"regression\",\n",
        "    \"metric\": \"rmse\",\n",
        "    \"learning_rate\": 0.003899,\n",
        "    'num_boost_round': 100000,\n",
        "    \"num_leaves\": 62,\n",
        "    \"max_depth\": 95,\n",
        "    \"feature_fraction\": 0.2256,\n",
        "    \"bagging_fraction\": 0.8805,\n",
        "    \"min_child_samples\": 290,\n",
        "    \"reg_alpha\": 9.562925,\n",
        "    \"reg_lambda\": 9.35581,\n",
        "    \"max_bin\": 881,\n",
        "    \"min_data_per_group\": 125,\n",
        "    \"bagging_freq\": 1,\n",
        "    \"cat_smooth\": 96,\n",
        "    \"cat_l2\": 19,\n",
        "    \"verbosity\": -1,\n",
        "    \"bagging_seed\": 42,\n",
        "    \"feature_fraction_seed\": 42,\n",
        "    \"seed\": 42\n",
        "}\n",
        "\n",
        "\n",
        "#my_submission_lgbm_label_0.008\n",
        "# params_lgb = {\n",
        "\n",
        "#     \"boosting_type\": \"gbdt\",\n",
        "#     \"objective\": \"regression\",\n",
        "#     \"metric\": \"rmse\",\n",
        "#     'num_boost_round': 100000,\n",
        "#     \"learning_rate\": 0.008,\n",
        "#     \"num_leaves\": 62,\n",
        "#     \"max_depth\": 95,\n",
        "#     \"feature_fraction\": 0.2256,\n",
        "#     \"bagging_fraction\": 0.8805,\n",
        "#     \"min_child_samples\": 290,\n",
        "#     \"reg_alpha\": 9.562925,\n",
        "#     \"reg_lambda\": 9.35581,\n",
        "#     \"max_bin\": 881,\n",
        "#     \"min_data_per_group\": 125,\n",
        "#     \"bagging_freq\": 1,\n",
        "#     \"cat_smooth\": 96,\n",
        "#     \"cat_l2\": 19,\n",
        "#     \"verbosity\": -1,\n",
        "#     \"bagging_seed\": 42,\n",
        "#     \"feature_fraction_seed\": 42,\n",
        "#     \"seed\": 42,\n",
        "#     'n_jobs': 4\n",
        "# }\n",
        "\n",
        "#my_submission_lgbm_label_0.008-77\n",
        "# params_lgb = {\n",
        "#     \"boosting_type\": \"gbdt\",\n",
        "#     \"objective\": \"regression\",\n",
        "#     \"metric\": \"rmse\",\n",
        "#     \"learning_rate\": 0.008,\n",
        "#     \"num_leaves\": 77,\n",
        "#     \"max_depth\": 77,\n",
        "#     \"feature_fraction\": 0.225,\n",
        "#     \"bagging_fraction\": 0.771,\n",
        "#     \"min_child_samples\": 290,\n",
        "#     \"reg_alpha\": 35.3,\n",
        "#     \"reg_lambda\": 35.1,\n",
        "#     \"max_bin\": 772,\n",
        "#     \"min_data_per_group\": 177,\n",
        "#     \"bagging_freq\": 1,\n",
        "#     \"cat_smooth\": 96,\n",
        "#     \"cat_l2\": 10,\n",
        "#     \"verbosity\": -1,\n",
        "#     \"bagging_seed\": 42,\n",
        "#     \"feature_fraction_seed\": 42,\n",
        "#     \"seed\": 42,\n",
        "#     'num_boost_round': 100000,\n",
        "#     'colsample_bytree': 0.84,\n",
        "#     'n_jobs': 4\n",
        "# }\n"
      ],
      "execution_count": null,
      "outputs": []
    },
    {
      "cell_type": "code",
      "metadata": {
        "id": "1JuGtNGmiZhB"
      },
      "source": [
        "X_encode, y_encode = split_data(train, 'target')"
      ],
      "execution_count": null,
      "outputs": []
    },
    {
      "cell_type": "code",
      "metadata": {
        "id": "cd_8BZK16tI9"
      },
      "source": [
        "X_encode = X_encode.drop('id', axis=1)"
      ],
      "execution_count": null,
      "outputs": []
    },
    {
      "cell_type": "code",
      "metadata": {
        "id": "plAuKJr63358"
      },
      "source": [
        "X_en = X_encode.sample(frac=0.25)\n",
        "y_en = y_encode[X_en.index]\n",
        "X_pretrain = X_encode.drop(X_en.index)\n",
        "y_train = y_encode[X_pretrain.index]"
      ],
      "execution_count": null,
      "outputs": []
    },
    {
      "cell_type": "code",
      "metadata": {
        "id": "pCuYcic14Gym"
      },
      "source": [
        "encoder_1 = MEstimateEncoder(cols=[\"cat9\"], m=4.0)\n",
        "encoder_1.fit(X_encode, y_encode)\n",
        "\n",
        "X_train = encoder_1.transform(X_pretrain)\n",
        "\n"
      ],
      "execution_count": null,
      "outputs": []
    },
    {
      "cell_type": "code",
      "metadata": {
        "id": "FqzfuZsq4xag"
      },
      "source": [
        "features = X_train.copy()\n",
        "target = y_train"
      ],
      "execution_count": null,
      "outputs": []
    },
    {
      "cell_type": "code",
      "metadata": {
        "colab": {
          "base_uri": "https://localhost:8080/"
        },
        "id": "dDpkgKOiiZhB",
        "outputId": "f9a400ba-2b90-4cd8-d2b9-47db9b63183e"
      },
      "source": [
        "features.shape"
      ],
      "execution_count": null,
      "outputs": [
        {
          "output_type": "execute_result",
          "data": {
            "text/plain": [
              "(225000, 24)"
            ]
          },
          "metadata": {},
          "execution_count": 96
        }
      ]
    },
    {
      "cell_type": "code",
      "metadata": {
        "colab": {
          "base_uri": "https://localhost:8080/"
        },
        "id": "25kaq6sPiZhC",
        "outputId": "ad7f014b-b930-4372-d10b-cab3028d7833"
      },
      "source": [
        "cat_feature = list(features.select_dtypes(include=['object']))\n",
        "cat_feature "
      ],
      "execution_count": null,
      "outputs": [
        {
          "output_type": "execute_result",
          "data": {
            "text/plain": [
              "['cat0', 'cat1', 'cat2', 'cat3', 'cat4', 'cat5', 'cat6', 'cat7', 'cat8']"
            ]
          },
          "metadata": {},
          "execution_count": 97
        }
      ]
    },
    {
      "cell_type": "code",
      "metadata": {
        "id": "Q1SWB4AWiZhC"
      },
      "source": [
        "encoder = OrdinalEncoder()\n"
      ],
      "execution_count": null,
      "outputs": []
    },
    {
      "cell_type": "code",
      "metadata": {
        "id": "1PBJIzSQiZhC"
      },
      "source": [
        "features[cat_feature] = encoder.fit_transform(features[cat_feature])"
      ],
      "execution_count": null,
      "outputs": []
    },
    {
      "cell_type": "code",
      "metadata": {
        "colab": {
          "base_uri": "https://localhost:8080/",
          "height": 224
        },
        "id": "MOzkVAEdiZhC",
        "outputId": "59c94e0f-7076-4d4f-803c-9b0a674c4f7e"
      },
      "source": [
        "features.head()"
      ],
      "execution_count": null,
      "outputs": [
        {
          "output_type": "execute_result",
          "data": {
            "text/html": [
              "<div>\n",
              "<style scoped>\n",
              "    .dataframe tbody tr th:only-of-type {\n",
              "        vertical-align: middle;\n",
              "    }\n",
              "\n",
              "    .dataframe tbody tr th {\n",
              "        vertical-align: top;\n",
              "    }\n",
              "\n",
              "    .dataframe thead th {\n",
              "        text-align: right;\n",
              "    }\n",
              "</style>\n",
              "<table border=\"1\" class=\"dataframe\">\n",
              "  <thead>\n",
              "    <tr style=\"text-align: right;\">\n",
              "      <th></th>\n",
              "      <th>cat0</th>\n",
              "      <th>cat1</th>\n",
              "      <th>cat2</th>\n",
              "      <th>cat3</th>\n",
              "      <th>cat4</th>\n",
              "      <th>cat5</th>\n",
              "      <th>cat6</th>\n",
              "      <th>cat7</th>\n",
              "      <th>cat8</th>\n",
              "      <th>cat9</th>\n",
              "      <th>cont0</th>\n",
              "      <th>cont1</th>\n",
              "      <th>cont2</th>\n",
              "      <th>cont3</th>\n",
              "      <th>cont4</th>\n",
              "      <th>cont5</th>\n",
              "      <th>cont6</th>\n",
              "      <th>cont7</th>\n",
              "      <th>cont8</th>\n",
              "      <th>cont9</th>\n",
              "      <th>cont10</th>\n",
              "      <th>cont11</th>\n",
              "      <th>cont12</th>\n",
              "      <th>cont13</th>\n",
              "    </tr>\n",
              "  </thead>\n",
              "  <tbody>\n",
              "    <tr>\n",
              "      <th>0</th>\n",
              "      <td>1.0</td>\n",
              "      <td>1.0</td>\n",
              "      <td>1.0</td>\n",
              "      <td>2.0</td>\n",
              "      <td>1.0</td>\n",
              "      <td>1.0</td>\n",
              "      <td>0.0</td>\n",
              "      <td>4.0</td>\n",
              "      <td>2.0</td>\n",
              "      <td>8.249952</td>\n",
              "      <td>0.201470</td>\n",
              "      <td>-0.014822</td>\n",
              "      <td>0.669699</td>\n",
              "      <td>0.136278</td>\n",
              "      <td>0.610706</td>\n",
              "      <td>0.400361</td>\n",
              "      <td>0.160266</td>\n",
              "      <td>0.310921</td>\n",
              "      <td>0.389470</td>\n",
              "      <td>0.267559</td>\n",
              "      <td>0.237281</td>\n",
              "      <td>0.377873</td>\n",
              "      <td>0.322401</td>\n",
              "      <td>0.869850</td>\n",
              "    </tr>\n",
              "    <tr>\n",
              "      <th>1</th>\n",
              "      <td>1.0</td>\n",
              "      <td>1.0</td>\n",
              "      <td>0.0</td>\n",
              "      <td>0.0</td>\n",
              "      <td>1.0</td>\n",
              "      <td>3.0</td>\n",
              "      <td>0.0</td>\n",
              "      <td>5.0</td>\n",
              "      <td>0.0</td>\n",
              "      <td>8.240612</td>\n",
              "      <td>0.743068</td>\n",
              "      <td>0.367411</td>\n",
              "      <td>1.021605</td>\n",
              "      <td>0.365798</td>\n",
              "      <td>0.276853</td>\n",
              "      <td>0.533087</td>\n",
              "      <td>0.558922</td>\n",
              "      <td>0.516294</td>\n",
              "      <td>0.594928</td>\n",
              "      <td>0.341439</td>\n",
              "      <td>0.906013</td>\n",
              "      <td>0.921701</td>\n",
              "      <td>0.261975</td>\n",
              "      <td>0.465083</td>\n",
              "    </tr>\n",
              "    <tr>\n",
              "      <th>2</th>\n",
              "      <td>0.0</td>\n",
              "      <td>0.0</td>\n",
              "      <td>0.0</td>\n",
              "      <td>2.0</td>\n",
              "      <td>1.0</td>\n",
              "      <td>3.0</td>\n",
              "      <td>0.0</td>\n",
              "      <td>3.0</td>\n",
              "      <td>0.0</td>\n",
              "      <td>8.259044</td>\n",
              "      <td>0.742708</td>\n",
              "      <td>0.310383</td>\n",
              "      <td>-0.012673</td>\n",
              "      <td>0.576957</td>\n",
              "      <td>0.285074</td>\n",
              "      <td>0.650609</td>\n",
              "      <td>0.375348</td>\n",
              "      <td>0.902567</td>\n",
              "      <td>0.555205</td>\n",
              "      <td>0.843531</td>\n",
              "      <td>0.748809</td>\n",
              "      <td>0.620126</td>\n",
              "      <td>0.541474</td>\n",
              "      <td>0.763846</td>\n",
              "    </tr>\n",
              "    <tr>\n",
              "      <th>3</th>\n",
              "      <td>1.0</td>\n",
              "      <td>1.0</td>\n",
              "      <td>0.0</td>\n",
              "      <td>2.0</td>\n",
              "      <td>1.0</td>\n",
              "      <td>3.0</td>\n",
              "      <td>0.0</td>\n",
              "      <td>4.0</td>\n",
              "      <td>2.0</td>\n",
              "      <td>8.269889</td>\n",
              "      <td>0.429551</td>\n",
              "      <td>0.620998</td>\n",
              "      <td>0.577942</td>\n",
              "      <td>0.280610</td>\n",
              "      <td>0.284667</td>\n",
              "      <td>0.668980</td>\n",
              "      <td>0.239061</td>\n",
              "      <td>0.732948</td>\n",
              "      <td>0.679618</td>\n",
              "      <td>0.574844</td>\n",
              "      <td>0.346010</td>\n",
              "      <td>0.714610</td>\n",
              "      <td>0.540150</td>\n",
              "      <td>0.280682</td>\n",
              "    </tr>\n",
              "    <tr>\n",
              "      <th>4</th>\n",
              "      <td>0.0</td>\n",
              "      <td>0.0</td>\n",
              "      <td>0.0</td>\n",
              "      <td>2.0</td>\n",
              "      <td>1.0</td>\n",
              "      <td>3.0</td>\n",
              "      <td>0.0</td>\n",
              "      <td>4.0</td>\n",
              "      <td>0.0</td>\n",
              "      <td>8.249952</td>\n",
              "      <td>1.058291</td>\n",
              "      <td>0.367492</td>\n",
              "      <td>-0.052389</td>\n",
              "      <td>0.232407</td>\n",
              "      <td>0.287595</td>\n",
              "      <td>0.686964</td>\n",
              "      <td>0.420667</td>\n",
              "      <td>0.648182</td>\n",
              "      <td>0.684501</td>\n",
              "      <td>0.956692</td>\n",
              "      <td>1.000773</td>\n",
              "      <td>0.776742</td>\n",
              "      <td>0.625849</td>\n",
              "      <td>0.250823</td>\n",
              "    </tr>\n",
              "  </tbody>\n",
              "</table>\n",
              "</div>"
            ],
            "text/plain": [
              "   cat0  cat1  cat2  cat3  ...    cont10    cont11    cont12    cont13\n",
              "0   1.0   1.0   1.0   2.0  ...  0.237281  0.377873  0.322401  0.869850\n",
              "1   1.0   1.0   0.0   0.0  ...  0.906013  0.921701  0.261975  0.465083\n",
              "2   0.0   0.0   0.0   2.0  ...  0.748809  0.620126  0.541474  0.763846\n",
              "3   1.0   1.0   0.0   2.0  ...  0.346010  0.714610  0.540150  0.280682\n",
              "4   0.0   0.0   0.0   2.0  ...  1.000773  0.776742  0.625849  0.250823\n",
              "\n",
              "[5 rows x 24 columns]"
            ]
          },
          "metadata": {},
          "execution_count": 100
        }
      ]
    },
    {
      "cell_type": "code",
      "metadata": {
        "colab": {
          "base_uri": "https://localhost:8080/"
        },
        "id": "dAP7TudB6ZQB",
        "outputId": "30e431ad-c27d-4c93-e196-cae8f1eb86da"
      },
      "source": [
        "features.dtypes"
      ],
      "execution_count": null,
      "outputs": [
        {
          "output_type": "execute_result",
          "data": {
            "text/plain": [
              "cat0      float64\n",
              "cat1      float64\n",
              "cat2      float64\n",
              "cat3      float64\n",
              "cat4      float64\n",
              "cat5      float64\n",
              "cat6      float64\n",
              "cat7      float64\n",
              "cat8      float64\n",
              "cat9      float64\n",
              "cont0     float64\n",
              "cont1     float64\n",
              "cont2     float64\n",
              "cont3     float64\n",
              "cont4     float64\n",
              "cont5     float64\n",
              "cont6     float64\n",
              "cont7     float64\n",
              "cont8     float64\n",
              "cont9     float64\n",
              "cont10    float64\n",
              "cont11    float64\n",
              "cont12    float64\n",
              "cont13    float64\n",
              "dtype: object"
            ]
          },
          "metadata": {},
          "execution_count": 101
        }
      ]
    },
    {
      "cell_type": "code",
      "metadata": {
        "id": "crYCA-_IiD78"
      },
      "source": [
        "X_test = test.drop(['id'], axis=1)\n",
        "\n",
        "X_test_cv_1 = X_test.copy()\n",
        "X_test_cv = encoder_1.transform(X_test_cv_1)\n",
        "X_test_cv[cat_feature] = encoder.transform(X_test_cv[cat_feature])"
      ],
      "execution_count": null,
      "outputs": []
    },
    {
      "cell_type": "code",
      "metadata": {
        "colab": {
          "base_uri": "https://localhost:8080/"
        },
        "id": "4nJYAVX8iD_T",
        "outputId": "ab6a2ffe-304f-4b0d-d274-1ccaf21e35e5"
      },
      "source": [
        "preds = np.zeros(test.shape[0])\n",
        "kf = KFold(n_splits=5, random_state=42, shuffle=True)\n",
        "rmse=[]\n",
        "n=0\n",
        "\n",
        "for train_idx, test_idx in kf.split(features, target):\n",
        "\n",
        "    X_train_g, X_val_g = features.iloc[train_idx], features.iloc[test_idx]\n",
        "    y_tr_g, y_val_g = target.iloc[train_idx], target.iloc[test_idx]\n",
        "\n",
        "    model = LGBMRegressor(**params_lgb)\n",
        "    model.fit(X_train_g, y_tr_g, eval_set = [(X_val_g, y_val_g)],\n",
        "              early_stopping_rounds=200,verbose=False)\n",
        "    \n",
        "\n",
        "    preds += model.predict(X_test_cv)/kf.n_splits\n",
        "    rmse.append(mean_squared_error(y_val_g, model.predict(X_val_g), \n",
        "                                   squared=False))\n",
        "    print(n+1,rmse[n])\n",
        "    n+=1"
      ],
      "execution_count": null,
      "outputs": [
        {
          "output_type": "stream",
          "text": [
            "1 0.7227393507652368\n",
            "2 0.7163609635789291\n",
            "3 0.7158938462965407\n",
            "4 0.7173986634697292\n",
            "5 0.717332459966237\n"
          ],
          "name": "stdout"
        }
      ]
    },
    {
      "cell_type": "code",
      "metadata": {
        "colab": {
          "base_uri": "https://localhost:8080/"
        },
        "id": "YXz61yOSiEBl",
        "outputId": "4ab6a699-1995-4550-b8e7-2c6a5809c800"
      },
      "source": [
        "preds"
      ],
      "execution_count": null,
      "outputs": [
        {
          "output_type": "execute_result",
          "data": {
            "text/plain": [
              "array([8.04922993, 8.35047868, 8.44423928, ..., 8.50515574, 8.13254779,\n",
              "       8.00392631])"
            ]
          },
          "metadata": {},
          "execution_count": 104
        }
      ]
    },
    {
      "cell_type": "code",
      "metadata": {
        "id": "H1eMTisuGg-X"
      },
      "source": [
        "sub = pd.DataFrame()\n",
        "sub['Id'] = test_id\n",
        "sub['target'] = preds\n",
        "sub.to_csv('my_submission_lgbm_wolabel_0.003DR.csv',index=False)\n",
        "# from google.colab import files"
      ],
      "execution_count": null,
      "outputs": []
    },
    {
      "cell_type": "code",
      "metadata": {
        "id": "Gjy0ODUWKtGl"
      },
      "source": [
        "preds_label = pd.Series(preds)"
      ],
      "execution_count": null,
      "outputs": []
    },
    {
      "cell_type": "code",
      "metadata": {
        "colab": {
          "base_uri": "https://localhost:8080/"
        },
        "id": "S-Mxu77NK0TF",
        "outputId": "47567328-8e2b-4ed4-f162-22ad69bd4408"
      },
      "source": [
        "preds_label[:5]"
      ],
      "execution_count": null,
      "outputs": [
        {
          "output_type": "execute_result",
          "data": {
            "text/plain": [
              "0    8.049230\n",
              "1    8.350479\n",
              "2    8.444239\n",
              "3    8.500391\n",
              "4    8.152910\n",
              "dtype: float64"
            ]
          },
          "metadata": {},
          "execution_count": 107
        }
      ]
    },
    {
      "cell_type": "code",
      "metadata": {
        "colab": {
          "base_uri": "https://localhost:8080/"
        },
        "id": "-Jylu6iEiEHD",
        "outputId": "6a9610fc-e9fa-4c6e-9e8a-682027f51819"
      },
      "source": [
        "X = pd.concat([features, X_test_cv], axis=0).reset_index(drop=True)\n",
        "y = pd.concat([target, preds_label], axis=0).reset_index(drop=True)\n",
        "\n",
        "print(\"X.shape: \", X.shape)\n",
        "print(\"y.shape: \", y.shape)"
      ],
      "execution_count": null,
      "outputs": [
        {
          "output_type": "stream",
          "text": [
            "X.shape:  (425000, 24)\n",
            "y.shape:  (425000,)\n"
          ],
          "name": "stdout"
        }
      ]
    },
    {
      "cell_type": "code",
      "metadata": {
        "colab": {
          "base_uri": "https://localhost:8080/",
          "height": 224
        },
        "id": "gpDe-ekcDXA9",
        "outputId": "e3cbf46c-5140-4e1f-d62e-f78fba2ce611"
      },
      "source": [
        "X.head()"
      ],
      "execution_count": null,
      "outputs": [
        {
          "output_type": "execute_result",
          "data": {
            "text/html": [
              "<div>\n",
              "<style scoped>\n",
              "    .dataframe tbody tr th:only-of-type {\n",
              "        vertical-align: middle;\n",
              "    }\n",
              "\n",
              "    .dataframe tbody tr th {\n",
              "        vertical-align: top;\n",
              "    }\n",
              "\n",
              "    .dataframe thead th {\n",
              "        text-align: right;\n",
              "    }\n",
              "</style>\n",
              "<table border=\"1\" class=\"dataframe\">\n",
              "  <thead>\n",
              "    <tr style=\"text-align: right;\">\n",
              "      <th></th>\n",
              "      <th>cat0</th>\n",
              "      <th>cat1</th>\n",
              "      <th>cat2</th>\n",
              "      <th>cat3</th>\n",
              "      <th>cat4</th>\n",
              "      <th>cat5</th>\n",
              "      <th>cat6</th>\n",
              "      <th>cat7</th>\n",
              "      <th>cat8</th>\n",
              "      <th>cat9</th>\n",
              "      <th>cont0</th>\n",
              "      <th>cont1</th>\n",
              "      <th>cont2</th>\n",
              "      <th>cont3</th>\n",
              "      <th>cont4</th>\n",
              "      <th>cont5</th>\n",
              "      <th>cont6</th>\n",
              "      <th>cont7</th>\n",
              "      <th>cont8</th>\n",
              "      <th>cont9</th>\n",
              "      <th>cont10</th>\n",
              "      <th>cont11</th>\n",
              "      <th>cont12</th>\n",
              "      <th>cont13</th>\n",
              "    </tr>\n",
              "  </thead>\n",
              "  <tbody>\n",
              "    <tr>\n",
              "      <th>0</th>\n",
              "      <td>1.0</td>\n",
              "      <td>1.0</td>\n",
              "      <td>1.0</td>\n",
              "      <td>2.0</td>\n",
              "      <td>1.0</td>\n",
              "      <td>1.0</td>\n",
              "      <td>0.0</td>\n",
              "      <td>4.0</td>\n",
              "      <td>2.0</td>\n",
              "      <td>8.249952</td>\n",
              "      <td>0.201470</td>\n",
              "      <td>-0.014822</td>\n",
              "      <td>0.669699</td>\n",
              "      <td>0.136278</td>\n",
              "      <td>0.610706</td>\n",
              "      <td>0.400361</td>\n",
              "      <td>0.160266</td>\n",
              "      <td>0.310921</td>\n",
              "      <td>0.389470</td>\n",
              "      <td>0.267559</td>\n",
              "      <td>0.237281</td>\n",
              "      <td>0.377873</td>\n",
              "      <td>0.322401</td>\n",
              "      <td>0.869850</td>\n",
              "    </tr>\n",
              "    <tr>\n",
              "      <th>1</th>\n",
              "      <td>1.0</td>\n",
              "      <td>1.0</td>\n",
              "      <td>0.0</td>\n",
              "      <td>0.0</td>\n",
              "      <td>1.0</td>\n",
              "      <td>3.0</td>\n",
              "      <td>0.0</td>\n",
              "      <td>5.0</td>\n",
              "      <td>0.0</td>\n",
              "      <td>8.240612</td>\n",
              "      <td>0.743068</td>\n",
              "      <td>0.367411</td>\n",
              "      <td>1.021605</td>\n",
              "      <td>0.365798</td>\n",
              "      <td>0.276853</td>\n",
              "      <td>0.533087</td>\n",
              "      <td>0.558922</td>\n",
              "      <td>0.516294</td>\n",
              "      <td>0.594928</td>\n",
              "      <td>0.341439</td>\n",
              "      <td>0.906013</td>\n",
              "      <td>0.921701</td>\n",
              "      <td>0.261975</td>\n",
              "      <td>0.465083</td>\n",
              "    </tr>\n",
              "    <tr>\n",
              "      <th>2</th>\n",
              "      <td>0.0</td>\n",
              "      <td>0.0</td>\n",
              "      <td>0.0</td>\n",
              "      <td>2.0</td>\n",
              "      <td>1.0</td>\n",
              "      <td>3.0</td>\n",
              "      <td>0.0</td>\n",
              "      <td>3.0</td>\n",
              "      <td>0.0</td>\n",
              "      <td>8.259044</td>\n",
              "      <td>0.742708</td>\n",
              "      <td>0.310383</td>\n",
              "      <td>-0.012673</td>\n",
              "      <td>0.576957</td>\n",
              "      <td>0.285074</td>\n",
              "      <td>0.650609</td>\n",
              "      <td>0.375348</td>\n",
              "      <td>0.902567</td>\n",
              "      <td>0.555205</td>\n",
              "      <td>0.843531</td>\n",
              "      <td>0.748809</td>\n",
              "      <td>0.620126</td>\n",
              "      <td>0.541474</td>\n",
              "      <td>0.763846</td>\n",
              "    </tr>\n",
              "    <tr>\n",
              "      <th>3</th>\n",
              "      <td>1.0</td>\n",
              "      <td>1.0</td>\n",
              "      <td>0.0</td>\n",
              "      <td>2.0</td>\n",
              "      <td>1.0</td>\n",
              "      <td>3.0</td>\n",
              "      <td>0.0</td>\n",
              "      <td>4.0</td>\n",
              "      <td>2.0</td>\n",
              "      <td>8.269889</td>\n",
              "      <td>0.429551</td>\n",
              "      <td>0.620998</td>\n",
              "      <td>0.577942</td>\n",
              "      <td>0.280610</td>\n",
              "      <td>0.284667</td>\n",
              "      <td>0.668980</td>\n",
              "      <td>0.239061</td>\n",
              "      <td>0.732948</td>\n",
              "      <td>0.679618</td>\n",
              "      <td>0.574844</td>\n",
              "      <td>0.346010</td>\n",
              "      <td>0.714610</td>\n",
              "      <td>0.540150</td>\n",
              "      <td>0.280682</td>\n",
              "    </tr>\n",
              "    <tr>\n",
              "      <th>4</th>\n",
              "      <td>0.0</td>\n",
              "      <td>0.0</td>\n",
              "      <td>0.0</td>\n",
              "      <td>2.0</td>\n",
              "      <td>1.0</td>\n",
              "      <td>3.0</td>\n",
              "      <td>0.0</td>\n",
              "      <td>4.0</td>\n",
              "      <td>0.0</td>\n",
              "      <td>8.249952</td>\n",
              "      <td>1.058291</td>\n",
              "      <td>0.367492</td>\n",
              "      <td>-0.052389</td>\n",
              "      <td>0.232407</td>\n",
              "      <td>0.287595</td>\n",
              "      <td>0.686964</td>\n",
              "      <td>0.420667</td>\n",
              "      <td>0.648182</td>\n",
              "      <td>0.684501</td>\n",
              "      <td>0.956692</td>\n",
              "      <td>1.000773</td>\n",
              "      <td>0.776742</td>\n",
              "      <td>0.625849</td>\n",
              "      <td>0.250823</td>\n",
              "    </tr>\n",
              "  </tbody>\n",
              "</table>\n",
              "</div>"
            ],
            "text/plain": [
              "   cat0  cat1  cat2  cat3  ...    cont10    cont11    cont12    cont13\n",
              "0   1.0   1.0   1.0   2.0  ...  0.237281  0.377873  0.322401  0.869850\n",
              "1   1.0   1.0   0.0   0.0  ...  0.906013  0.921701  0.261975  0.465083\n",
              "2   0.0   0.0   0.0   2.0  ...  0.748809  0.620126  0.541474  0.763846\n",
              "3   1.0   1.0   0.0   2.0  ...  0.346010  0.714610  0.540150  0.280682\n",
              "4   0.0   0.0   0.0   2.0  ...  1.000773  0.776742  0.625849  0.250823\n",
              "\n",
              "[5 rows x 24 columns]"
            ]
          },
          "metadata": {},
          "execution_count": 109
        }
      ]
    },
    {
      "cell_type": "code",
      "metadata": {
        "colab": {
          "base_uri": "https://localhost:8080/"
        },
        "id": "_9mfp2bFkACA",
        "outputId": "3f136f01-57cb-4e2d-c009-1b76a38af171"
      },
      "source": [
        "preds = np.zeros(test.shape[0])\n",
        "kf = KFold(n_splits=5, random_state=42, shuffle=True)\n",
        "rmse=[]\n",
        "n=0\n",
        "\n",
        "for train_idx, test_idx in kf.split(X, y):\n",
        "\n",
        "    X_train_g, X_val_g = X.iloc[train_idx], X.iloc[test_idx]\n",
        "    y_tr_g, y_val_g = y.iloc[train_idx], y.iloc[test_idx]\n",
        "\n",
        "    model = LGBMRegressor(**params_lgb)\n",
        "    model.fit(X_train_g, y_tr_g, eval_set = [(X_val_g, y_val_g)],\n",
        "              early_stopping_rounds=200,verbose=False)\n",
        "    \n",
        "\n",
        "    preds += model.predict(X_test_cv)/kf.n_splits\n",
        "    rmse.append(mean_squared_error(y_val_g, model.predict(X_val_g), \n",
        "                                   squared=False))\n",
        "    print(n+1,rmse[n])\n",
        "    n+=1\n"
      ],
      "execution_count": null,
      "outputs": [
        {
          "output_type": "stream",
          "text": [
            "1 0.5226563114681195\n",
            "2 0.5185047048153425\n",
            "3 0.5192669827472048\n",
            "4 0.5201421335687793\n",
            "5 0.5224300456105727\n"
          ],
          "name": "stdout"
        }
      ]
    },
    {
      "cell_type": "markdown",
      "metadata": {
        "id": "C6C1hYQOatOT"
      },
      "source": [
        "1 0.7166541135702886.  \n",
        "2 0.7167587046434112.  \n",
        "3 0.7185340457413194.  \n",
        "4 0.7184551586950905.  \n",
        "5 0.7169656524800676.  "
      ]
    },
    {
      "cell_type": "code",
      "metadata": {
        "id": "3vXl8qizknye"
      },
      "source": [
        "# sub = pd.DataFrame()\n",
        "# sub['Id'] = test_id\n",
        "# sub['target'] = preds\n",
        "# sub.to_csv('my_submission_lgbm_label_0.003.csv',index=False)"
      ],
      "execution_count": null,
      "outputs": []
    },
    {
      "cell_type": "code",
      "metadata": {
        "id": "aCVmEV7gFUNX"
      },
      "source": [
        "sub = pd.DataFrame()\n",
        "sub['Id'] = test_id\n",
        "sub['target'] = preds\n",
        "sub.to_csv('my_submission_lgbm_label_0.003DR.csv',index=False)"
      ],
      "execution_count": null,
      "outputs": []
    },
    {
      "cell_type": "code",
      "metadata": {
        "id": "yloKsaznFV2U"
      },
      "source": [
        "# sub = pd.DataFrame()\n",
        "# sub['Id'] = test_id\n",
        "# sub['target'] = preds\n",
        "sub.to_csv('my_submission_lgbm_label_0.008-77.csv',index=False)"
      ],
      "execution_count": null,
      "outputs": []
    },
    {
      "cell_type": "code",
      "metadata": {
        "colab": {
          "base_uri": "https://localhost:8080/",
          "height": 204
        },
        "id": "g2H2KWqalbYP",
        "outputId": "8bb48ce0-3fa2-49c9-c275-be303c6c6131"
      },
      "source": [
        "sub.head()"
      ],
      "execution_count": null,
      "outputs": [
        {
          "output_type": "execute_result",
          "data": {
            "text/html": [
              "<div>\n",
              "<style scoped>\n",
              "    .dataframe tbody tr th:only-of-type {\n",
              "        vertical-align: middle;\n",
              "    }\n",
              "\n",
              "    .dataframe tbody tr th {\n",
              "        vertical-align: top;\n",
              "    }\n",
              "\n",
              "    .dataframe thead th {\n",
              "        text-align: right;\n",
              "    }\n",
              "</style>\n",
              "<table border=\"1\" class=\"dataframe\">\n",
              "  <thead>\n",
              "    <tr style=\"text-align: right;\">\n",
              "      <th></th>\n",
              "      <th>Id</th>\n",
              "      <th>target</th>\n",
              "    </tr>\n",
              "  </thead>\n",
              "  <tbody>\n",
              "    <tr>\n",
              "      <th>0</th>\n",
              "      <td>0</td>\n",
              "      <td>8.055925</td>\n",
              "    </tr>\n",
              "    <tr>\n",
              "      <th>1</th>\n",
              "      <td>5</td>\n",
              "      <td>8.352449</td>\n",
              "    </tr>\n",
              "    <tr>\n",
              "      <th>2</th>\n",
              "      <td>15</td>\n",
              "      <td>8.420666</td>\n",
              "    </tr>\n",
              "    <tr>\n",
              "      <th>3</th>\n",
              "      <td>16</td>\n",
              "      <td>8.493415</td>\n",
              "    </tr>\n",
              "    <tr>\n",
              "      <th>4</th>\n",
              "      <td>17</td>\n",
              "      <td>8.153562</td>\n",
              "    </tr>\n",
              "  </tbody>\n",
              "</table>\n",
              "</div>"
            ],
            "text/plain": [
              "   Id    target\n",
              "0   0  8.055925\n",
              "1   5  8.352449\n",
              "2  15  8.420666\n",
              "3  16  8.493415\n",
              "4  17  8.153562"
            ]
          },
          "metadata": {},
          "execution_count": 112
        }
      ]
    },
    {
      "cell_type": "markdown",
      "metadata": {
        "id": "Z2lmhrRY-wr0"
      },
      "source": [
        "## Catboost с СV"
      ]
    },
    {
      "cell_type": "code",
      "metadata": {
        "id": "autlMG5eH6N9",
        "colab": {
          "base_uri": "https://localhost:8080/"
        },
        "outputId": "72ce775d-f17b-4384-88d7-ce7185ab24bd"
      },
      "source": [
        "# X_train_cat = features[features.index.isin(df_clean.index)]\n",
        "# y_train_cat = target[target.index.isin(df_clean.index)]\n",
        "\n",
        "def split_data(data, target_column):\n",
        "    return data.drop(columns=[target_column], axis=1), data[target_column]\n",
        "\n",
        "\n",
        "    \n",
        "X_test = test.drop(['id'], axis=1)\n",
        "features, target = split_data(train, 'target')\n",
        "features = features.drop('id', axis=1)\n",
        "X_train_cat = features\n",
        "y_train_cat = target\n",
        "\n",
        "cat_feature = list(features.select_dtypes(include=['object']))\n",
        "cat_feature"
      ],
      "execution_count": null,
      "outputs": [
        {
          "output_type": "execute_result",
          "data": {
            "text/plain": [
              "['cat0',\n",
              " 'cat1',\n",
              " 'cat2',\n",
              " 'cat3',\n",
              " 'cat4',\n",
              " 'cat5',\n",
              " 'cat6',\n",
              " 'cat7',\n",
              " 'cat8',\n",
              " 'cat9']"
            ]
          },
          "metadata": {},
          "execution_count": 6
        }
      ]
    },
    {
      "cell_type": "code",
      "metadata": {
        "id": "dr3VkEDM-wYI",
        "colab": {
          "base_uri": "https://localhost:8080/"
        },
        "outputId": "ff631a5d-f767-4eab-fb1a-39d6ce4780e2"
      },
      "source": [
        "\n",
        "n_fold = 5 \n",
        "folds = KFold(n_splits=n_fold, shuffle=True, random_state=42)\n",
        "\n",
        "# params = {\"loss_function\": \"RMSE\",\n",
        "#           'eval_metric':'RMSE', \"early_stopping_rounds\":200}\n",
        "\n",
        "\n",
        "params = {\n",
        "    'iterations': 10000,\n",
        "    'learning_rate': 0.245,\n",
        "    'subsample': 0.95,\n",
        "\n",
        "    'depth': 8,\n",
        "    'l2_leaf_reg': 15.1,\n",
        "    'random_state':42,\n",
        "    'bootstrap_type': 'Poisson',\n",
        "    'early_stopping_rounds':200,\n",
        "    'loss_function': \"RMSE\",\n",
        "    'eval_metric':'RMSE',\n",
        "     'task_type': 'GPU',\n",
        "     'devices':'0:1'\n",
        "}\n",
        "\n",
        "test_data = Pool(data=X_test,\n",
        "                 cat_features=cat_feature)\n",
        "\n",
        "scores = []\n",
        "prediction = np.zeros(test.shape[0])\n",
        "for fold_n, (train_index, valid_index) in enumerate(folds.split(X_train_cat, y_train_cat)):\n",
        "    \n",
        "    X_train, X_valid = X_train_cat.iloc[train_index], X_train_cat.iloc[valid_index] \n",
        "    y_train, y_valid = y_train_cat.iloc[train_index], y_train_cat.iloc[valid_index]\n",
        "    \n",
        "    train_data = Pool(data=X_train, \n",
        "                      label=y_train,\n",
        "                      cat_features=cat_feature)\n",
        "    valid_data = Pool(data=X_valid, \n",
        "                      label=y_valid,\n",
        "                      cat_features=cat_feature)\n",
        "    \n",
        "    model = CatBoostRegressor(verbose=400, **params)\n",
        "    model.fit(train_data,\n",
        "              eval_set=valid_data, \n",
        "              use_best_model=True\n",
        "             )\n",
        "    \n",
        "    score = model.get_best_score()['validation']['RMSE']\n",
        "    scores.append(score)\n",
        "\n",
        "    y_pred = model.predict(test_data)\n",
        "    prediction += y_pred\n",
        "\n",
        "prediction /= n_fold\n",
        "print('CV mean: {:.4f}, CV std: {:.4f}'.format(np.mean(scores), np.std(scores)))"
      ],
      "execution_count": null,
      "outputs": [
        {
          "output_type": "stream",
          "text": [
            "Custom logger is already specified. Specify more than one logger at same time is not thread safe."
          ],
          "name": "stderr"
        },
        {
          "output_type": "stream",
          "text": [
            "0:\tlearn: 0.7454330\ttest: 0.7444683\tbest: 0.7444683 (0)\ttotal: 102ms\tremaining: 17m 3s\n",
            "400:\tlearn: 0.7123430\ttest: 0.7251839\tbest: 0.7251626 (394)\ttotal: 31s\tremaining: 12m 22s\n",
            "800:\tlearn: 0.6983611\ttest: 0.7233835\tbest: 0.7233770 (798)\ttotal: 1m 2s\tremaining: 11m 58s\n",
            "bestTest = 0.7232676186\n",
            "bestIteration = 991\n",
            "Shrink model to first 992 iterations.\n",
            "0:\tlearn: 0.7454446\ttest: 0.7444168\tbest: 0.7444168 (0)\ttotal: 85.5ms\tremaining: 14m 14s\n",
            "400:\tlearn: 0.7124498\ttest: 0.7249297\tbest: 0.7249297 (400)\ttotal: 30.7s\tremaining: 12m 14s\n",
            "800:\tlearn: 0.6987803\ttest: 0.7231778\tbest: 0.7231778 (800)\ttotal: 1m 2s\tremaining: 11m 59s\n",
            "1200:\tlearn: 0.6875299\ttest: 0.7230732\tbest: 0.7229372 (1024)\ttotal: 1m 34s\tremaining: 11m 30s\n",
            "bestTest = 0.722937192\n",
            "bestIteration = 1024\n",
            "Shrink model to first 1025 iterations.\n",
            "0:\tlearn: 0.7450939\ttest: 0.7455329\tbest: 0.7455329 (0)\ttotal: 88ms\tremaining: 14m 40s\n",
            "400:\tlearn: 0.7125044\ttest: 0.7263836\tbest: 0.7263836 (400)\ttotal: 30.9s\tremaining: 12m 20s\n",
            "800:\tlearn: 0.6985387\ttest: 0.7247536\tbest: 0.7247536 (800)\ttotal: 1m 2s\tremaining: 12m 1s\n",
            "1200:\tlearn: 0.6873861\ttest: 0.7248579\tbest: 0.7246835 (1079)\ttotal: 1m 34s\tremaining: 11m 34s\n",
            "bestTest = 0.7246834573\n",
            "bestIteration = 1079\n",
            "Shrink model to first 1080 iterations.\n",
            "0:\tlearn: 0.7450620\ttest: 0.7455375\tbest: 0.7455375 (0)\ttotal: 74.4ms\tremaining: 12m 23s\n",
            "400:\tlearn: 0.7121947\ttest: 0.7262148\tbest: 0.7262148 (400)\ttotal: 30.3s\tremaining: 12m 5s\n",
            "800:\tlearn: 0.6983563\ttest: 0.7245805\tbest: 0.7245362 (773)\ttotal: 1m 1s\tremaining: 11m 48s\n",
            "1200:\tlearn: 0.6873396\ttest: 0.7246731\tbest: 0.7243522 (1054)\ttotal: 1m 33s\tremaining: 11m 25s\n",
            "bestTest = 0.724352216\n",
            "bestIteration = 1054\n",
            "Shrink model to first 1055 iterations.\n",
            "0:\tlearn: 0.7449246\ttest: 0.7462785\tbest: 0.7462785 (0)\ttotal: 79.9ms\tremaining: 13m 18s\n",
            "400:\tlearn: 0.7119544\ttest: 0.7256664\tbest: 0.7256568 (399)\ttotal: 30.9s\tremaining: 12m 18s\n",
            "800:\tlearn: 0.6981673\ttest: 0.7236555\tbest: 0.7236487 (795)\ttotal: 1m 2s\tremaining: 11m 59s\n",
            "bestTest = 0.7234895365\n",
            "bestIteration = 907\n",
            "Shrink model to first 908 iterations.\n",
            "CV mean: 0.7237, CV std: 0.0007\n"
          ],
          "name": "stdout"
        }
      ]
    },
    {
      "cell_type": "code",
      "metadata": {
        "id": "jzWzmcZsFone",
        "colab": {
          "base_uri": "https://localhost:8080/"
        },
        "outputId": "d6448275-1ab1-43be-d7a5-314452c0e8d9"
      },
      "source": [
        "prediction[:5]"
      ],
      "execution_count": null,
      "outputs": [
        {
          "output_type": "execute_result",
          "data": {
            "text/plain": [
              "array([8.08369836, 8.34205391, 8.33999655, 8.52426641, 8.21100937])"
            ]
          },
          "metadata": {},
          "execution_count": 10
        }
      ]
    },
    {
      "cell_type": "code",
      "metadata": {
        "id": "qHFW0AbzFmUD"
      },
      "source": [
        "test_id = test['id']"
      ],
      "execution_count": null,
      "outputs": []
    },
    {
      "cell_type": "code",
      "metadata": {
        "id": "jEWU9cd9FmUD"
      },
      "source": [
        "# sub = pd.DataFrame()\n",
        "# sub['Id'] = test_id\n",
        "# sub['target'] = prediction\n",
        "# sub.to_csv('my_submission_catboost.csv',index=False)\n",
        "# from google.colab import files\n",
        "# files.download(\"my_submission_catboost.csv\")"
      ],
      "execution_count": null,
      "outputs": []
    },
    {
      "cell_type": "code",
      "metadata": {
        "id": "PAtH8bFqaZd6"
      },
      "source": [
        "sub = pd.DataFrame()\n",
        "sub['Id'] = test_id\n",
        "sub['target'] = prediction\n",
        "sub.to_csv('my_submission_catboost_X.csv',index=False)\n",
        "from google.colab import files\n",
        "# files.download(\"my_submission_catboost_X.csv\")"
      ],
      "execution_count": null,
      "outputs": []
    },
    {
      "cell_type": "code",
      "metadata": {
        "id": "xbQ0fZA-FmUE",
        "colab": {
          "base_uri": "https://localhost:8080/",
          "height": 204
        },
        "outputId": "bdd04273-a56a-437e-a9d2-56f462846122"
      },
      "source": [
        "sub.head()"
      ],
      "execution_count": null,
      "outputs": [
        {
          "output_type": "execute_result",
          "data": {
            "text/html": [
              "<div>\n",
              "<style scoped>\n",
              "    .dataframe tbody tr th:only-of-type {\n",
              "        vertical-align: middle;\n",
              "    }\n",
              "\n",
              "    .dataframe tbody tr th {\n",
              "        vertical-align: top;\n",
              "    }\n",
              "\n",
              "    .dataframe thead th {\n",
              "        text-align: right;\n",
              "    }\n",
              "</style>\n",
              "<table border=\"1\" class=\"dataframe\">\n",
              "  <thead>\n",
              "    <tr style=\"text-align: right;\">\n",
              "      <th></th>\n",
              "      <th>Id</th>\n",
              "      <th>target</th>\n",
              "    </tr>\n",
              "  </thead>\n",
              "  <tbody>\n",
              "    <tr>\n",
              "      <th>0</th>\n",
              "      <td>0</td>\n",
              "      <td>8.065320</td>\n",
              "    </tr>\n",
              "    <tr>\n",
              "      <th>1</th>\n",
              "      <td>5</td>\n",
              "      <td>8.366917</td>\n",
              "    </tr>\n",
              "    <tr>\n",
              "      <th>2</th>\n",
              "      <td>15</td>\n",
              "      <td>8.390120</td>\n",
              "    </tr>\n",
              "    <tr>\n",
              "      <th>3</th>\n",
              "      <td>16</td>\n",
              "      <td>8.550495</td>\n",
              "    </tr>\n",
              "    <tr>\n",
              "      <th>4</th>\n",
              "      <td>17</td>\n",
              "      <td>8.221561</td>\n",
              "    </tr>\n",
              "  </tbody>\n",
              "</table>\n",
              "</div>"
            ],
            "text/plain": [
              "   Id    target\n",
              "0   0  8.065320\n",
              "1   5  8.366917\n",
              "2  15  8.390120\n",
              "3  16  8.550495\n",
              "4  17  8.221561"
            ]
          },
          "metadata": {
            "tags": []
          },
          "execution_count": 50
        }
      ]
    },
    {
      "cell_type": "markdown",
      "metadata": {
        "id": "Bcw2e_Mch3f8"
      },
      "source": [
        "## KERAS"
      ]
    },
    {
      "cell_type": "code",
      "metadata": {
        "id": "yINqORRHco-j"
      },
      "source": [
        "features, target = split_data(train, 'target')"
      ],
      "execution_count": null,
      "outputs": []
    },
    {
      "cell_type": "code",
      "metadata": {
        "id": "J2AtPcjmco-q"
      },
      "source": [
        "features.head()"
      ],
      "execution_count": null,
      "outputs": []
    },
    {
      "cell_type": "code",
      "metadata": {
        "id": "MDq7fmDDco-q"
      },
      "source": [
        "features = features.drop('id', axis=1)"
      ],
      "execution_count": null,
      "outputs": []
    },
    {
      "cell_type": "code",
      "metadata": {
        "id": "VdcyxK2Xc6no"
      },
      "source": [
        "cat_fea = list(features.select_dtypes(include='object'))\n",
        "\n",
        "\n",
        "for c in cat_fea:\n",
        "    lbl = LabelEncoder() \n",
        "    lbl.fit(list(features[c].values)) \n",
        "    features[c] = lbl.transform(list(features[c].values))"
      ],
      "execution_count": null,
      "outputs": []
    },
    {
      "cell_type": "code",
      "metadata": {
        "id": "FB19QxNRdikM"
      },
      "source": [
        "features.head()"
      ],
      "execution_count": null,
      "outputs": []
    },
    {
      "cell_type": "code",
      "metadata": {
        "id": "vyk8pLHiff3g"
      },
      "source": [
        "discrete_features = features.dtypes == int"
      ],
      "execution_count": null,
      "outputs": []
    },
    {
      "cell_type": "code",
      "metadata": {
        "id": "2XeRtGbXf4bk"
      },
      "source": [
        "X_train, X_val, y_train, y_val = ( \n",
        "                                train_test_split(\n",
        "                                features, target, test_size=0.25, random_state=42)\n",
        ")\n"
      ],
      "execution_count": null,
      "outputs": []
    },
    {
      "cell_type": "code",
      "metadata": {
        "id": "Nye9dtJ5fcTf"
      },
      "source": [
        "from sklearn.feature_selection import mutual_info_regression\n",
        "\n",
        "def make_mi_scores(X, y, discrete_features):\n",
        "    mi_scores = mutual_info_regression(X, y, discrete_features=discrete_features)\n",
        "    mi_scores = pd.Series(mi_scores, name=\"MI Scores\", index=X.columns)\n",
        "    mi_scores = mi_scores.sort_values(ascending=False)\n",
        "    return mi_scores\n",
        "\n",
        "mi_scores = make_mi_scores(X_train, y_train, discrete_features)\n",
        "mi_scores[::3]"
      ],
      "execution_count": null,
      "outputs": []
    },
    {
      "cell_type": "code",
      "metadata": {
        "id": "da6rYoVQfcTg"
      },
      "source": [
        "def plot_mi_scores(scores):\n",
        "    scores = scores.sort_values(ascending=True)\n",
        "    width = np.arange(len(scores))\n",
        "    ticks = list(scores.index)\n",
        "    plt.barh(width, scores)\n",
        "    plt.yticks(width, ticks)\n",
        "    plt.title(\"Mutual Information Scores\")\n",
        "\n",
        "\n",
        "plt.figure(dpi=100, figsize=(8, 5))\n",
        "plot_mi_scores(mi_scores)"
      ],
      "execution_count": null,
      "outputs": []
    },
    {
      "cell_type": "code",
      "metadata": {
        "id": "D1AAF1HUg1i0"
      },
      "source": [
        "features, target = split_data(train, 'target')"
      ],
      "execution_count": null,
      "outputs": []
    },
    {
      "cell_type": "code",
      "metadata": {
        "id": "BC72rCN7g-iB"
      },
      "source": [
        "encoder = OrdinalEncoder()"
      ],
      "execution_count": null,
      "outputs": []
    },
    {
      "cell_type": "code",
      "metadata": {
        "id": "sNsGOLIUhALe"
      },
      "source": [
        "features[cat_fea] = encoder.fit_transform(features[cat_fea])"
      ],
      "execution_count": null,
      "outputs": []
    },
    {
      "cell_type": "code",
      "metadata": {
        "id": "iqgjJEV6hI4g"
      },
      "source": [
        "features.head()"
      ],
      "execution_count": null,
      "outputs": []
    },
    {
      "cell_type": "code",
      "metadata": {
        "id": "6AicwMmOhpma"
      },
      "source": [
        "features = features.drop('id', axis=1)"
      ],
      "execution_count": null,
      "outputs": []
    },
    {
      "cell_type": "code",
      "metadata": {
        "id": "JGnv2DNJhvdg"
      },
      "source": [
        "X_train, X_val, y_train, y_val = ( \n",
        "                                train_test_split(\n",
        "                                features, target, test_size=0.25, random_state=42)\n",
        ")\n"
      ],
      "execution_count": null,
      "outputs": []
    },
    {
      "cell_type": "code",
      "metadata": {
        "id": "_5iPHdoakFO8"
      },
      "source": [
        "UNITS = 2048\n",
        "ACTIVATION = 'relu'\n",
        "\n",
        "\n",
        "\n",
        "BATCH_SIZE_PER_REPLICA = 512"
      ],
      "execution_count": null,
      "outputs": []
    },
    {
      "cell_type": "code",
      "metadata": {
        "id": "QKoNtaUidqyK"
      },
      "source": [
        "early_stopping = EarlyStopping(\n",
        "    min_delta=0.001, \n",
        "    patience=50, \n",
        "    restore_best_weights=True,\n",
        ")\n",
        "\n",
        "\n",
        "model = keras.Sequential([\n",
        "    layers.Dense(UNITS, ACTIVATION, input_shape=[X_train.shape[1]]),\n",
        "    layers.Dropout(rate=0.1),\n",
        "    layers.Dense(UNITS, ACTIVATION),\n",
        "    layers.Dense(1)\n",
        "\n",
        "])"
      ],
      "execution_count": null,
      "outputs": []
    },
    {
      "cell_type": "code",
      "metadata": {
        "id": "OCkOQAZsd4JJ"
      },
      "source": [
        "model.compile(\n",
        "    optimizer='adam', \n",
        "    loss='mae'\n",
        ")"
      ],
      "execution_count": null,
      "outputs": []
    },
    {
      "cell_type": "code",
      "metadata": {
        "id": "BcvanfHvonQN"
      },
      "source": [
        "import tensorflow as tf\n",
        "tf.test.gpu_device_name()"
      ],
      "execution_count": null,
      "outputs": []
    },
    {
      "cell_type": "code",
      "metadata": {
        "id": "hIqK1kd5d52g"
      },
      "source": [
        "history = model.fit(\n",
        "    X_train, y_train,\n",
        "    validation_data=(X_val, y_val),\n",
        "    batch_size=BATCH_SIZE_PER_REPLICA,\n",
        "    epochs=1000,\n",
        "    callbacks=early_stopping,\n",
        "    verbose=0,\n",
        ")\n",
        "\n",
        "\n",
        "history_df = pd.DataFrame(history.history)\n",
        "history_df.loc[:, ['loss', 'val_loss']].plot()\n",
        "print(\"Minimum Validation Loss: {:0.4f}\".format(history_df['val_loss'].min()))"
      ],
      "execution_count": null,
      "outputs": []
    },
    {
      "cell_type": "code",
      "metadata": {
        "id": "totvFS0viRYb"
      },
      "source": [
        "X_test = test.copy()"
      ],
      "execution_count": null,
      "outputs": []
    },
    {
      "cell_type": "code",
      "metadata": {
        "id": "3BNRjLt6iitc"
      },
      "source": [
        "X_test = X_test.drop('id', axis=1)"
      ],
      "execution_count": null,
      "outputs": []
    },
    {
      "cell_type": "code",
      "metadata": {
        "id": "YRXTffwliktM"
      },
      "source": [
        "X_test[cat_fea] = encoder.transform(X_test[cat_fea])"
      ],
      "execution_count": null,
      "outputs": []
    },
    {
      "cell_type": "code",
      "metadata": {
        "id": "z7k8LlveqdwS"
      },
      "source": [
        "X_test.head()"
      ],
      "execution_count": null,
      "outputs": []
    },
    {
      "cell_type": "code",
      "metadata": {
        "id": "TdmMWCcLpz7k"
      },
      "source": [
        "pred = model.predict(X_test)"
      ],
      "execution_count": null,
      "outputs": []
    },
    {
      "cell_type": "code",
      "metadata": {
        "id": "5lX5wcLhpz4Z"
      },
      "source": [
        "pred[:5]"
      ],
      "execution_count": null,
      "outputs": []
    },
    {
      "cell_type": "code",
      "metadata": {
        "id": "Msb9LPL7iFtV"
      },
      "source": [
        "test_id = test['id']"
      ],
      "execution_count": null,
      "outputs": []
    },
    {
      "cell_type": "code",
      "metadata": {
        "id": "k9ydK_IdiFtW"
      },
      "source": [
        "sub = pd.DataFrame()\n",
        "sub['Id'] = test_id\n",
        "sub['target'] = pred\n",
        "sub.to_csv('my_submission_keras.csv',index=False)\n",
        "from google.colab import files\n",
        "# files.download(\"my_submission_keras.csv\")"
      ],
      "execution_count": null,
      "outputs": []
    },
    {
      "cell_type": "code",
      "metadata": {
        "id": "HIG8LF1fiJb3"
      },
      "source": [
        "sub.head()"
      ],
      "execution_count": null,
      "outputs": []
    },
    {
      "cell_type": "markdown",
      "metadata": {
        "id": "KByfFP4bsW4A"
      },
      "source": [
        "# Mixing"
      ]
    },
    {
      "cell_type": "code",
      "metadata": {
        "colab": {
          "base_uri": "https://localhost:8080/"
        },
        "id": "vQBFjpk7l0g7",
        "outputId": "79a653f9-0fb4-4874-9d84-626c3509552e"
      },
      "source": [
        "!gdown --id 1giNAcDB2Qjrsm_TkBEunM_bH6uc_4Cn9"
      ],
      "execution_count": null,
      "outputs": [
        {
          "output_type": "stream",
          "text": [
            "Downloading...\n",
            "From: https://drive.google.com/uc?id=1giNAcDB2Qjrsm_TkBEunM_bH6uc_4Cn9\n",
            "To: /content/30_ML.rar\n",
            "10.4MB [00:01, 6.06MB/s]\n"
          ],
          "name": "stdout"
        }
      ]
    },
    {
      "cell_type": "code",
      "metadata": {
        "colab": {
          "base_uri": "https://localhost:8080/"
        },
        "id": "5J7AfuB_l0bh",
        "outputId": "ca6b326e-8ab4-40e9-b1d7-b16bf2d9bb9d"
      },
      "source": [
        "!unrar x  /content/30_ML.rar"
      ],
      "execution_count": null,
      "outputs": [
        {
          "output_type": "stream",
          "text": [
            "\n",
            "UNRAR 5.50 freeware      Copyright (c) 1993-2017 Alexander Roshal\n",
            "\n",
            "\n",
            "Extracting from /content/30_ML.rar\n",
            "\n",
            "Extracting  my_submission_lgbm_label_0.008-77.csv                        \b\b\b\b 20%\b\b\b\b\b  OK \n",
            "Extracting  my_submission_lgbm_label_0.003.csv                           \b\b\b\b 39%\b\b\b\b\b  OK \n",
            "Extracting  my_submission_lgbm_label_0.008.csv                           \b\b\b\b 60%\b\b\b\b\b  OK \n",
            "Extracting  my_submission_lgbm_CV_new_param.csv                          \b\b\b\b 80%\b\b\b\b\b  OK \n",
            "Extracting  my_submission_lgbm_wolabel_0.003.csv                         \b\b\b\b 99%\b\b\b\b\b  OK \n",
            "All OK\n"
          ],
          "name": "stdout"
        }
      ]
    },
    {
      "cell_type": "code",
      "metadata": {
        "id": "tk0uIE65npvo"
      },
      "source": [
        "weights = [0.03, 0.2, 0.03, 0.74]\n",
        "sub = pd.concat([w*x.target for x, w in zip(all_s, weights)], axis=1).sum(axis=1"
      ],
      "execution_count": null,
      "outputs": []
    },
    {
      "cell_type": "code",
      "metadata": {
        "id": "VzWaeDnenprR"
      },
      "source": [
        "\n",
        "best = '/content/my_submission_lgbm_label_0.003.csv'\n",
        "best_1 = '/content/my_submission_lgbm_label_0.008.csv'\n",
        "best_2 = '/content/my_submission_lgbm_CV_new_param.csv'\n",
        "best_3 = '/content/my_submission_lgbm_wolabel_0.003.csv'\n",
        "summary = []\n",
        "for sub in [best, best_1, best_2, best_3]:\n",
        "    summary.append(pd.read_csv(sub))"
      ],
      "execution_count": null,
      "outputs": []
    },
    {
      "cell_type": "code",
      "metadata": {
        "id": "P4HSpVxpoZOQ"
      },
      "source": [
        "weights = [0.8, 0.1, 0.05, 0.05]"
      ],
      "execution_count": null,
      "outputs": []
    },
    {
      "cell_type": "code",
      "metadata": {
        "id": "xU9PnQBgombW"
      },
      "source": [
        "sub = pd.concat([w*x.target for x, w in zip(summary, weights)], axis=1).sum(axis=1)\n",
        "sub['name']='target'\n",
        "sub = pd.concat([summary[0]['Id'], sub], axis=1)\n",
        "sub.to_csv(\"submission_blended.csv\", index=False)"
      ],
      "execution_count": null,
      "outputs": []
    },
    {
      "cell_type": "code",
      "metadata": {
        "colab": {
          "base_uri": "https://localhost:8080/",
          "height": 204
        },
        "id": "qDdw_H-3pWDR",
        "outputId": "4d20ea40-9931-4fb0-e189-cb7e9653998d"
      },
      "source": [
        "sub.head()"
      ],
      "execution_count": null,
      "outputs": [
        {
          "output_type": "execute_result",
          "data": {
            "text/html": [
              "<div>\n",
              "<style scoped>\n",
              "    .dataframe tbody tr th:only-of-type {\n",
              "        vertical-align: middle;\n",
              "    }\n",
              "\n",
              "    .dataframe tbody tr th {\n",
              "        vertical-align: top;\n",
              "    }\n",
              "\n",
              "    .dataframe thead th {\n",
              "        text-align: right;\n",
              "    }\n",
              "</style>\n",
              "<table border=\"1\" class=\"dataframe\">\n",
              "  <thead>\n",
              "    <tr style=\"text-align: right;\">\n",
              "      <th></th>\n",
              "      <th>Id</th>\n",
              "      <th>0</th>\n",
              "    </tr>\n",
              "  </thead>\n",
              "  <tbody>\n",
              "    <tr>\n",
              "      <th>0</th>\n",
              "      <td>0.0</td>\n",
              "      <td>8.05741</td>\n",
              "    </tr>\n",
              "    <tr>\n",
              "      <th>1</th>\n",
              "      <td>5.0</td>\n",
              "      <td>8.32593</td>\n",
              "    </tr>\n",
              "    <tr>\n",
              "      <th>2</th>\n",
              "      <td>15.0</td>\n",
              "      <td>8.40934</td>\n",
              "    </tr>\n",
              "    <tr>\n",
              "      <th>3</th>\n",
              "      <td>16.0</td>\n",
              "      <td>8.48348</td>\n",
              "    </tr>\n",
              "    <tr>\n",
              "      <th>4</th>\n",
              "      <td>17.0</td>\n",
              "      <td>8.13573</td>\n",
              "    </tr>\n",
              "  </tbody>\n",
              "</table>\n",
              "</div>"
            ],
            "text/plain": [
              "     Id        0\n",
              "0   0.0  8.05741\n",
              "1   5.0  8.32593\n",
              "2  15.0  8.40934\n",
              "3  16.0  8.48348\n",
              "4  17.0  8.13573"
            ]
          },
          "metadata": {},
          "execution_count": 36
        }
      ]
    }
  ]
}