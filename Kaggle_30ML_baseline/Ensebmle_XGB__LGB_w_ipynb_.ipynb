{
  "nbformat": 4,
  "nbformat_minor": 0,
  "metadata": {
    "colab": {
      "name": "Ensebmle_XGB _LGB_w.ipynb\"",
      "provenance": [],
      "collapsed_sections": []
    },
    "kernelspec": {
      "name": "python3",
      "display_name": "Python 3"
    },
    "language_info": {
      "name": "python"
    }
  },
  "cells": [
    {
      "cell_type": "markdown",
      "metadata": {
        "id": "tnE8BR8xS2Bg"
      },
      "source": [
        "![](https://i.ibb.co/G0sLBVs/30-Days-ML-Hero.png). \n",
        "\n",
        "\n",
        "Machine learning beginner → Kaggle competitor in 30 days. Non-coders welcome.\n",
        "\n",
        "\n",
        "\n",
        "The dataset is used for this competition is synthetic, but based on a real dataset. The original dataset deals with predicting the amount of an insurance claim. Although the features are anonymized, they have properties relating to real-world features."
      ]
    },
    {
      "cell_type": "markdown",
      "metadata": {
        "id": "ZDF_mHu0uZTW"
      },
      "source": [
        "# Loading data"
      ]
    },
    {
      "cell_type": "code",
      "metadata": {
        "id": "4d2K-X8S-jm_",
        "colab": {
          "resources": {
            "http://localhost:8080/nbextensions/google.colab/files.js": {
              "data": "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",
              "ok": true,
              "headers": [
                [
                  "content-type",
                  "application/javascript"
                ]
              ],
              "status": 200,
              "status_text": ""
            }
          },
          "base_uri": "https://localhost:8080/",
          "height": 89
        },
        "outputId": "b9cb4c21-6645-4787-c558-b548f02c3e5f"
      },
      "source": [
        "from google.colab import files\n",
        "files.upload()\n",
        "!pip install -q kaggle\n",
        "!mkdir -p ~/.kaggle\n",
        "!cp kaggle.json ~/.kaggle/\n",
        "!ls ~/.kaggle\n",
        "!chmod 600 /root/.kaggle/kaggle.json"
      ],
      "execution_count": null,
      "outputs": [
        {
          "output_type": "display_data",
          "data": {
            "text/html": [
              "\n",
              "     <input type=\"file\" id=\"files-a6c986f1-1421-4663-9fda-9e43bc4048ff\" name=\"files[]\" multiple disabled\n",
              "        style=\"border:none\" />\n",
              "     <output id=\"result-a6c986f1-1421-4663-9fda-9e43bc4048ff\">\n",
              "      Upload widget is only available when the cell has been executed in the\n",
              "      current browser session. Please rerun this cell to enable.\n",
              "      </output>\n",
              "      <script src=\"/nbextensions/google.colab/files.js\"></script> "
            ],
            "text/plain": [
              "<IPython.core.display.HTML object>"
            ]
          },
          "metadata": {}
        },
        {
          "output_type": "stream",
          "text": [
            "Saving kaggle.json to kaggle.json\n",
            "kaggle.json\n"
          ],
          "name": "stdout"
        }
      ]
    },
    {
      "cell_type": "code",
      "metadata": {
        "id": "jNS_BNPtBv3p",
        "colab": {
          "base_uri": "https://localhost:8080/"
        },
        "outputId": "946b457d-94ce-453f-a5f5-4621518f7d78"
      },
      "source": [
        "! kaggle competitions download -c 30-days-of-ml -p /content/drive/My\\Drive/kaggle/30_ML"
      ],
      "execution_count": null,
      "outputs": [
        {
          "output_type": "stream",
          "text": [
            "Warning: Looks like you're using an outdated API Version, please consider updating (server 1.5.12 / client 1.5.4)\n",
            "test.csv.zip: Skipping, found more recently modified local copy (use --force to force download)\n",
            "sample_submission.csv.zip: Skipping, found more recently modified local copy (use --force to force download)\n",
            "train.csv.zip: Skipping, found more recently modified local copy (use --force to force download)\n"
          ],
          "name": "stdout"
        }
      ]
    },
    {
      "cell_type": "code",
      "metadata": {
        "id": "CsxEWf5q-yWX"
      },
      "source": [
        "%%capture\n",
        "!pip install catboost"
      ],
      "execution_count": null,
      "outputs": []
    },
    {
      "cell_type": "code",
      "metadata": {
        "id": "HAgwkJmE5pjY"
      },
      "source": [
        "%%capture\n",
        "!pip install category_encoders"
      ],
      "execution_count": null,
      "outputs": []
    },
    {
      "cell_type": "code",
      "metadata": {
        "id": "CAJYCejs_MDZ",
        "colab": {
          "base_uri": "https://localhost:8080/"
        },
        "outputId": "df6965b1-04fc-4b16-a29a-da659562e520"
      },
      "source": [
        "import pandas as pd\n",
        "import numpy as np\n",
        "\n",
        "import matplotlib.pyplot as plt\n",
        "import seaborn as sns\n",
        "\n",
        "from sklearn.metrics import mean_squared_error\n",
        "from xgboost import XGBRegressor\n",
        "\n",
        "from sklearn.cluster import KMeans\n",
        "from sklearn.preprocessing import StandardScaler\n",
        "from sklearn.model_selection import train_test_split\n",
        "from sklearn.model_selection import KFold, GridSearchCV, RandomizedSearchCV\n",
        "\n",
        "import warnings\n",
        "\n",
        "from sklearn.preprocessing import OrdinalEncoder \n",
        "from sklearn.preprocessing import LabelEncoder\n",
        "\n",
        "\n",
        "from tensorflow import keras\n",
        "from tensorflow.keras import layers, callbacks\n",
        "from tensorflow.keras.callbacks import EarlyStopping\n",
        "from keras import backend as K\n",
        "from category_encoders import MEstimateEncoder\n",
        "\n",
        "from sklearn.ensemble import VotingRegressor\n",
        "from scipy.stats import reciprocal, uniform\n",
        "\n",
        "from catboost import CatBoostRegressor\n",
        "from catboost import Pool\n",
        "import lightgbm as lgb\n",
        "from lightgbm import LGBMRegressor\n",
        "\n",
        "\n",
        "warnings.filterwarnings(\"ignore\")\n",
        "sns.set_style(\"darkgrid\")\n",
        "%matplotlib inline\n"
      ],
      "execution_count": null,
      "outputs": [
        {
          "output_type": "stream",
          "text": [
            "/usr/local/lib/python3.7/dist-packages/statsmodels/tools/_testing.py:19: FutureWarning: pandas.util.testing is deprecated. Use the functions in the public API at pandas.testing instead.\n",
            "  import pandas.util.testing as tm\n"
          ],
          "name": "stderr"
        }
      ]
    },
    {
      "cell_type": "code",
      "metadata": {
        "id": "dFQivx9IAFp5"
      },
      "source": [
        "train = pd.read_csv('/content/drive/MyDrive/kaggle/30_ML/train.csv.zip')\n",
        "test = pd.read_csv('/content/drive/MyDrive/kaggle/30_ML/test.csv.zip')"
      ],
      "execution_count": null,
      "outputs": []
    },
    {
      "cell_type": "code",
      "metadata": {
        "id": "iY51YQRcq7ou",
        "colab": {
          "base_uri": "https://localhost:8080/",
          "height": 224
        },
        "outputId": "0838ec5d-a686-40ed-b075-e834ef1cbf5d"
      },
      "source": [
        "train.head()"
      ],
      "execution_count": null,
      "outputs": [
        {
          "output_type": "execute_result",
          "data": {
            "text/html": [
              "<div>\n",
              "<style scoped>\n",
              "    .dataframe tbody tr th:only-of-type {\n",
              "        vertical-align: middle;\n",
              "    }\n",
              "\n",
              "    .dataframe tbody tr th {\n",
              "        vertical-align: top;\n",
              "    }\n",
              "\n",
              "    .dataframe thead th {\n",
              "        text-align: right;\n",
              "    }\n",
              "</style>\n",
              "<table border=\"1\" class=\"dataframe\">\n",
              "  <thead>\n",
              "    <tr style=\"text-align: right;\">\n",
              "      <th></th>\n",
              "      <th>id</th>\n",
              "      <th>cat0</th>\n",
              "      <th>cat1</th>\n",
              "      <th>cat2</th>\n",
              "      <th>cat3</th>\n",
              "      <th>cat4</th>\n",
              "      <th>cat5</th>\n",
              "      <th>cat6</th>\n",
              "      <th>cat7</th>\n",
              "      <th>cat8</th>\n",
              "      <th>cat9</th>\n",
              "      <th>cont0</th>\n",
              "      <th>cont1</th>\n",
              "      <th>cont2</th>\n",
              "      <th>cont3</th>\n",
              "      <th>cont4</th>\n",
              "      <th>cont5</th>\n",
              "      <th>cont6</th>\n",
              "      <th>cont7</th>\n",
              "      <th>cont8</th>\n",
              "      <th>cont9</th>\n",
              "      <th>cont10</th>\n",
              "      <th>cont11</th>\n",
              "      <th>cont12</th>\n",
              "      <th>cont13</th>\n",
              "      <th>target</th>\n",
              "    </tr>\n",
              "  </thead>\n",
              "  <tbody>\n",
              "    <tr>\n",
              "      <th>0</th>\n",
              "      <td>1</td>\n",
              "      <td>B</td>\n",
              "      <td>B</td>\n",
              "      <td>B</td>\n",
              "      <td>C</td>\n",
              "      <td>B</td>\n",
              "      <td>B</td>\n",
              "      <td>A</td>\n",
              "      <td>E</td>\n",
              "      <td>C</td>\n",
              "      <td>N</td>\n",
              "      <td>0.201470</td>\n",
              "      <td>-0.014822</td>\n",
              "      <td>0.669699</td>\n",
              "      <td>0.136278</td>\n",
              "      <td>0.610706</td>\n",
              "      <td>0.400361</td>\n",
              "      <td>0.160266</td>\n",
              "      <td>0.310921</td>\n",
              "      <td>0.389470</td>\n",
              "      <td>0.267559</td>\n",
              "      <td>0.237281</td>\n",
              "      <td>0.377873</td>\n",
              "      <td>0.322401</td>\n",
              "      <td>0.869850</td>\n",
              "      <td>8.113634</td>\n",
              "    </tr>\n",
              "    <tr>\n",
              "      <th>1</th>\n",
              "      <td>2</td>\n",
              "      <td>B</td>\n",
              "      <td>B</td>\n",
              "      <td>A</td>\n",
              "      <td>A</td>\n",
              "      <td>B</td>\n",
              "      <td>D</td>\n",
              "      <td>A</td>\n",
              "      <td>F</td>\n",
              "      <td>A</td>\n",
              "      <td>O</td>\n",
              "      <td>0.743068</td>\n",
              "      <td>0.367411</td>\n",
              "      <td>1.021605</td>\n",
              "      <td>0.365798</td>\n",
              "      <td>0.276853</td>\n",
              "      <td>0.533087</td>\n",
              "      <td>0.558922</td>\n",
              "      <td>0.516294</td>\n",
              "      <td>0.594928</td>\n",
              "      <td>0.341439</td>\n",
              "      <td>0.906013</td>\n",
              "      <td>0.921701</td>\n",
              "      <td>0.261975</td>\n",
              "      <td>0.465083</td>\n",
              "      <td>8.481233</td>\n",
              "    </tr>\n",
              "    <tr>\n",
              "      <th>2</th>\n",
              "      <td>3</td>\n",
              "      <td>A</td>\n",
              "      <td>A</td>\n",
              "      <td>A</td>\n",
              "      <td>C</td>\n",
              "      <td>B</td>\n",
              "      <td>D</td>\n",
              "      <td>A</td>\n",
              "      <td>D</td>\n",
              "      <td>A</td>\n",
              "      <td>F</td>\n",
              "      <td>0.742708</td>\n",
              "      <td>0.310383</td>\n",
              "      <td>-0.012673</td>\n",
              "      <td>0.576957</td>\n",
              "      <td>0.285074</td>\n",
              "      <td>0.650609</td>\n",
              "      <td>0.375348</td>\n",
              "      <td>0.902567</td>\n",
              "      <td>0.555205</td>\n",
              "      <td>0.843531</td>\n",
              "      <td>0.748809</td>\n",
              "      <td>0.620126</td>\n",
              "      <td>0.541474</td>\n",
              "      <td>0.763846</td>\n",
              "      <td>8.364351</td>\n",
              "    </tr>\n",
              "    <tr>\n",
              "      <th>3</th>\n",
              "      <td>4</td>\n",
              "      <td>B</td>\n",
              "      <td>B</td>\n",
              "      <td>A</td>\n",
              "      <td>C</td>\n",
              "      <td>B</td>\n",
              "      <td>D</td>\n",
              "      <td>A</td>\n",
              "      <td>E</td>\n",
              "      <td>C</td>\n",
              "      <td>K</td>\n",
              "      <td>0.429551</td>\n",
              "      <td>0.620998</td>\n",
              "      <td>0.577942</td>\n",
              "      <td>0.280610</td>\n",
              "      <td>0.284667</td>\n",
              "      <td>0.668980</td>\n",
              "      <td>0.239061</td>\n",
              "      <td>0.732948</td>\n",
              "      <td>0.679618</td>\n",
              "      <td>0.574844</td>\n",
              "      <td>0.346010</td>\n",
              "      <td>0.714610</td>\n",
              "      <td>0.540150</td>\n",
              "      <td>0.280682</td>\n",
              "      <td>8.049253</td>\n",
              "    </tr>\n",
              "    <tr>\n",
              "      <th>4</th>\n",
              "      <td>6</td>\n",
              "      <td>A</td>\n",
              "      <td>A</td>\n",
              "      <td>A</td>\n",
              "      <td>C</td>\n",
              "      <td>B</td>\n",
              "      <td>D</td>\n",
              "      <td>A</td>\n",
              "      <td>E</td>\n",
              "      <td>A</td>\n",
              "      <td>N</td>\n",
              "      <td>1.058291</td>\n",
              "      <td>0.367492</td>\n",
              "      <td>-0.052389</td>\n",
              "      <td>0.232407</td>\n",
              "      <td>0.287595</td>\n",
              "      <td>0.686964</td>\n",
              "      <td>0.420667</td>\n",
              "      <td>0.648182</td>\n",
              "      <td>0.684501</td>\n",
              "      <td>0.956692</td>\n",
              "      <td>1.000773</td>\n",
              "      <td>0.776742</td>\n",
              "      <td>0.625849</td>\n",
              "      <td>0.250823</td>\n",
              "      <td>7.972260</td>\n",
              "    </tr>\n",
              "  </tbody>\n",
              "</table>\n",
              "</div>"
            ],
            "text/plain": [
              "   id cat0 cat1 cat2 cat3  ...    cont10    cont11    cont12    cont13    target\n",
              "0   1    B    B    B    C  ...  0.237281  0.377873  0.322401  0.869850  8.113634\n",
              "1   2    B    B    A    A  ...  0.906013  0.921701  0.261975  0.465083  8.481233\n",
              "2   3    A    A    A    C  ...  0.748809  0.620126  0.541474  0.763846  8.364351\n",
              "3   4    B    B    A    C  ...  0.346010  0.714610  0.540150  0.280682  8.049253\n",
              "4   6    A    A    A    C  ...  1.000773  0.776742  0.625849  0.250823  7.972260\n",
              "\n",
              "[5 rows x 26 columns]"
            ]
          },
          "metadata": {},
          "execution_count": 7
        }
      ]
    },
    {
      "cell_type": "code",
      "metadata": {
        "id": "AU6V-cVUeQtV",
        "colab": {
          "base_uri": "https://localhost:8080/",
          "height": 224
        },
        "outputId": "8124c3b5-44c7-4cbc-ad69-0a45f4d5f7e9"
      },
      "source": [
        "test.head()"
      ],
      "execution_count": null,
      "outputs": [
        {
          "output_type": "execute_result",
          "data": {
            "text/html": [
              "<div>\n",
              "<style scoped>\n",
              "    .dataframe tbody tr th:only-of-type {\n",
              "        vertical-align: middle;\n",
              "    }\n",
              "\n",
              "    .dataframe tbody tr th {\n",
              "        vertical-align: top;\n",
              "    }\n",
              "\n",
              "    .dataframe thead th {\n",
              "        text-align: right;\n",
              "    }\n",
              "</style>\n",
              "<table border=\"1\" class=\"dataframe\">\n",
              "  <thead>\n",
              "    <tr style=\"text-align: right;\">\n",
              "      <th></th>\n",
              "      <th>id</th>\n",
              "      <th>cat0</th>\n",
              "      <th>cat1</th>\n",
              "      <th>cat2</th>\n",
              "      <th>cat3</th>\n",
              "      <th>cat4</th>\n",
              "      <th>cat5</th>\n",
              "      <th>cat6</th>\n",
              "      <th>cat7</th>\n",
              "      <th>cat8</th>\n",
              "      <th>cat9</th>\n",
              "      <th>cont0</th>\n",
              "      <th>cont1</th>\n",
              "      <th>cont2</th>\n",
              "      <th>cont3</th>\n",
              "      <th>cont4</th>\n",
              "      <th>cont5</th>\n",
              "      <th>cont6</th>\n",
              "      <th>cont7</th>\n",
              "      <th>cont8</th>\n",
              "      <th>cont9</th>\n",
              "      <th>cont10</th>\n",
              "      <th>cont11</th>\n",
              "      <th>cont12</th>\n",
              "      <th>cont13</th>\n",
              "    </tr>\n",
              "  </thead>\n",
              "  <tbody>\n",
              "    <tr>\n",
              "      <th>0</th>\n",
              "      <td>0</td>\n",
              "      <td>B</td>\n",
              "      <td>B</td>\n",
              "      <td>B</td>\n",
              "      <td>C</td>\n",
              "      <td>B</td>\n",
              "      <td>B</td>\n",
              "      <td>A</td>\n",
              "      <td>E</td>\n",
              "      <td>E</td>\n",
              "      <td>I</td>\n",
              "      <td>0.296227</td>\n",
              "      <td>0.686757</td>\n",
              "      <td>0.587731</td>\n",
              "      <td>0.392753</td>\n",
              "      <td>0.476739</td>\n",
              "      <td>0.376350</td>\n",
              "      <td>0.337884</td>\n",
              "      <td>0.321832</td>\n",
              "      <td>0.445212</td>\n",
              "      <td>0.290258</td>\n",
              "      <td>0.244476</td>\n",
              "      <td>0.087914</td>\n",
              "      <td>0.301831</td>\n",
              "      <td>0.845702</td>\n",
              "    </tr>\n",
              "    <tr>\n",
              "      <th>1</th>\n",
              "      <td>5</td>\n",
              "      <td>A</td>\n",
              "      <td>B</td>\n",
              "      <td>A</td>\n",
              "      <td>C</td>\n",
              "      <td>B</td>\n",
              "      <td>C</td>\n",
              "      <td>A</td>\n",
              "      <td>E</td>\n",
              "      <td>C</td>\n",
              "      <td>H</td>\n",
              "      <td>0.543707</td>\n",
              "      <td>0.364761</td>\n",
              "      <td>0.452967</td>\n",
              "      <td>0.929645</td>\n",
              "      <td>0.285509</td>\n",
              "      <td>0.860046</td>\n",
              "      <td>0.798712</td>\n",
              "      <td>0.835961</td>\n",
              "      <td>0.391657</td>\n",
              "      <td>0.288276</td>\n",
              "      <td>0.549568</td>\n",
              "      <td>0.905097</td>\n",
              "      <td>0.850684</td>\n",
              "      <td>0.693940</td>\n",
              "    </tr>\n",
              "    <tr>\n",
              "      <th>2</th>\n",
              "      <td>15</td>\n",
              "      <td>B</td>\n",
              "      <td>A</td>\n",
              "      <td>A</td>\n",
              "      <td>A</td>\n",
              "      <td>B</td>\n",
              "      <td>B</td>\n",
              "      <td>A</td>\n",
              "      <td>E</td>\n",
              "      <td>D</td>\n",
              "      <td>K</td>\n",
              "      <td>0.408961</td>\n",
              "      <td>0.296129</td>\n",
              "      <td>0.690999</td>\n",
              "      <td>0.740027</td>\n",
              "      <td>0.697272</td>\n",
              "      <td>0.683600</td>\n",
              "      <td>0.404089</td>\n",
              "      <td>0.879379</td>\n",
              "      <td>0.275549</td>\n",
              "      <td>0.427871</td>\n",
              "      <td>0.491667</td>\n",
              "      <td>0.384315</td>\n",
              "      <td>0.376689</td>\n",
              "      <td>0.508099</td>\n",
              "    </tr>\n",
              "    <tr>\n",
              "      <th>3</th>\n",
              "      <td>16</td>\n",
              "      <td>B</td>\n",
              "      <td>B</td>\n",
              "      <td>A</td>\n",
              "      <td>C</td>\n",
              "      <td>B</td>\n",
              "      <td>D</td>\n",
              "      <td>A</td>\n",
              "      <td>E</td>\n",
              "      <td>A</td>\n",
              "      <td>N</td>\n",
              "      <td>1.031239</td>\n",
              "      <td>0.356062</td>\n",
              "      <td>0.303651</td>\n",
              "      <td>0.895591</td>\n",
              "      <td>0.719306</td>\n",
              "      <td>0.777890</td>\n",
              "      <td>0.730954</td>\n",
              "      <td>0.644315</td>\n",
              "      <td>1.024017</td>\n",
              "      <td>0.391090</td>\n",
              "      <td>0.988340</td>\n",
              "      <td>0.411828</td>\n",
              "      <td>0.393585</td>\n",
              "      <td>0.461372</td>\n",
              "    </tr>\n",
              "    <tr>\n",
              "      <th>4</th>\n",
              "      <td>17</td>\n",
              "      <td>B</td>\n",
              "      <td>B</td>\n",
              "      <td>A</td>\n",
              "      <td>C</td>\n",
              "      <td>B</td>\n",
              "      <td>C</td>\n",
              "      <td>A</td>\n",
              "      <td>E</td>\n",
              "      <td>C</td>\n",
              "      <td>F</td>\n",
              "      <td>0.530447</td>\n",
              "      <td>0.729004</td>\n",
              "      <td>0.281723</td>\n",
              "      <td>0.444698</td>\n",
              "      <td>0.313032</td>\n",
              "      <td>0.431007</td>\n",
              "      <td>0.390992</td>\n",
              "      <td>0.408874</td>\n",
              "      <td>0.447887</td>\n",
              "      <td>0.390253</td>\n",
              "      <td>0.648932</td>\n",
              "      <td>0.385935</td>\n",
              "      <td>0.370401</td>\n",
              "      <td>0.900412</td>\n",
              "    </tr>\n",
              "  </tbody>\n",
              "</table>\n",
              "</div>"
            ],
            "text/plain": [
              "   id cat0 cat1 cat2 cat3  ...     cont9    cont10    cont11    cont12    cont13\n",
              "0   0    B    B    B    C  ...  0.290258  0.244476  0.087914  0.301831  0.845702\n",
              "1   5    A    B    A    C  ...  0.288276  0.549568  0.905097  0.850684  0.693940\n",
              "2  15    B    A    A    A  ...  0.427871  0.491667  0.384315  0.376689  0.508099\n",
              "3  16    B    B    A    C  ...  0.391090  0.988340  0.411828  0.393585  0.461372\n",
              "4  17    B    B    A    C  ...  0.390253  0.648932  0.385935  0.370401  0.900412\n",
              "\n",
              "[5 rows x 25 columns]"
            ]
          },
          "metadata": {},
          "execution_count": 8
        }
      ]
    },
    {
      "cell_type": "code",
      "metadata": {
        "id": "iaMUFP5le_XN"
      },
      "source": [
        "def split_data(data, target_column):\n",
        "    return data.drop(columns=[target_column], axis=1), data[target_column]"
      ],
      "execution_count": null,
      "outputs": []
    },
    {
      "cell_type": "code",
      "metadata": {
        "id": "zQe_tX1HgAuv"
      },
      "source": [
        "X_test = test.drop(['id'], axis=1)"
      ],
      "execution_count": null,
      "outputs": []
    },
    {
      "cell_type": "markdown",
      "metadata": {
        "id": "cv2KjN9UiDzX"
      },
      "source": [
        "# Ensemble"
      ]
    },
    {
      "cell_type": "code",
      "metadata": {
        "id": "1JuGtNGmiZhB"
      },
      "source": [
        "# X_encode, y_encode = split_data(train, 'target')"
      ],
      "execution_count": null,
      "outputs": []
    },
    {
      "cell_type": "code",
      "metadata": {
        "id": "cd_8BZK16tI9"
      },
      "source": [
        "# X_encode = X_encode.drop('id', axis=1)"
      ],
      "execution_count": null,
      "outputs": []
    },
    {
      "cell_type": "code",
      "metadata": {
        "id": "plAuKJr63358"
      },
      "source": [
        "# X_en = X_encode.sample(frac=0.25)\n",
        "# y_en = y_encode[X_en.index]\n",
        "# X_pretrain = X_encode.drop(X_en.index)\n",
        "# y_train = y_encode[X_pretrain.index]"
      ],
      "execution_count": null,
      "outputs": []
    },
    {
      "cell_type": "code",
      "metadata": {
        "id": "pCuYcic14Gym"
      },
      "source": [
        "# encoder_1 = MEstimateEncoder(cols=[\"cat9\"], m=4.0)\n",
        "# encoder_1.fit(X_encode, y_encode)\n",
        "\n",
        "# X_train = encoder_1.transform(X_pretrain)\n",
        "\n"
      ],
      "execution_count": null,
      "outputs": []
    },
    {
      "cell_type": "code",
      "metadata": {
        "id": "FqzfuZsq4xag"
      },
      "source": [
        "# features = X_train.copy()\n",
        "# target = y_train\n",
        "features, target = split_data(train, 'target')\n"
      ],
      "execution_count": null,
      "outputs": []
    },
    {
      "cell_type": "code",
      "metadata": {
        "colab": {
          "base_uri": "https://localhost:8080/"
        },
        "id": "dDpkgKOiiZhB",
        "outputId": "b13a8278-9c41-407b-e9a7-6cb3f37922d1"
      },
      "source": [
        "features.shape"
      ],
      "execution_count": null,
      "outputs": [
        {
          "output_type": "execute_result",
          "data": {
            "text/plain": [
              "(300000, 25)"
            ]
          },
          "metadata": {},
          "execution_count": 12
        }
      ]
    },
    {
      "cell_type": "code",
      "metadata": {
        "colab": {
          "base_uri": "https://localhost:8080/"
        },
        "id": "25kaq6sPiZhC",
        "outputId": "fadc6f1e-53e4-4238-9052-ef10d19b5c35"
      },
      "source": [
        "cat_feature = list(features.select_dtypes(include=['object']))\n",
        "cat_feature "
      ],
      "execution_count": null,
      "outputs": [
        {
          "output_type": "execute_result",
          "data": {
            "text/plain": [
              "['cat0',\n",
              " 'cat1',\n",
              " 'cat2',\n",
              " 'cat3',\n",
              " 'cat4',\n",
              " 'cat5',\n",
              " 'cat6',\n",
              " 'cat7',\n",
              " 'cat8',\n",
              " 'cat9']"
            ]
          },
          "metadata": {},
          "execution_count": 13
        }
      ]
    },
    {
      "cell_type": "code",
      "metadata": {
        "id": "Q1SWB4AWiZhC"
      },
      "source": [
        "# encoder = OrdinalEncoder()\n",
        "\n",
        "encoder = LabelEncoder()"
      ],
      "execution_count": null,
      "outputs": []
    },
    {
      "cell_type": "code",
      "metadata": {
        "id": "1PBJIzSQiZhC"
      },
      "source": [
        "# features[cat_feature] = encoder.fit_transform(features[cat_feature])\n",
        "for cat in cat_feature:\n",
        "    encoder = LabelEncoder()\n",
        "    encoder.fit(list(features[cat].values)) \n",
        "    features[cat] = encoder.transform(list(features[cat].values))\n"
      ],
      "execution_count": null,
      "outputs": []
    },
    {
      "cell_type": "code",
      "metadata": {
        "colab": {
          "base_uri": "https://localhost:8080/",
          "height": 224
        },
        "id": "MOzkVAEdiZhC",
        "outputId": "d3f5686d-de17-4c8b-8b03-5580f3349496"
      },
      "source": [
        "features.head()"
      ],
      "execution_count": null,
      "outputs": [
        {
          "output_type": "execute_result",
          "data": {
            "text/html": [
              "<div>\n",
              "<style scoped>\n",
              "    .dataframe tbody tr th:only-of-type {\n",
              "        vertical-align: middle;\n",
              "    }\n",
              "\n",
              "    .dataframe tbody tr th {\n",
              "        vertical-align: top;\n",
              "    }\n",
              "\n",
              "    .dataframe thead th {\n",
              "        text-align: right;\n",
              "    }\n",
              "</style>\n",
              "<table border=\"1\" class=\"dataframe\">\n",
              "  <thead>\n",
              "    <tr style=\"text-align: right;\">\n",
              "      <th></th>\n",
              "      <th>id</th>\n",
              "      <th>cat0</th>\n",
              "      <th>cat1</th>\n",
              "      <th>cat2</th>\n",
              "      <th>cat3</th>\n",
              "      <th>cat4</th>\n",
              "      <th>cat5</th>\n",
              "      <th>cat6</th>\n",
              "      <th>cat7</th>\n",
              "      <th>cat8</th>\n",
              "      <th>cat9</th>\n",
              "      <th>cont0</th>\n",
              "      <th>cont1</th>\n",
              "      <th>cont2</th>\n",
              "      <th>cont3</th>\n",
              "      <th>cont4</th>\n",
              "      <th>cont5</th>\n",
              "      <th>cont6</th>\n",
              "      <th>cont7</th>\n",
              "      <th>cont8</th>\n",
              "      <th>cont9</th>\n",
              "      <th>cont10</th>\n",
              "      <th>cont11</th>\n",
              "      <th>cont12</th>\n",
              "      <th>cont13</th>\n",
              "    </tr>\n",
              "  </thead>\n",
              "  <tbody>\n",
              "    <tr>\n",
              "      <th>0</th>\n",
              "      <td>1</td>\n",
              "      <td>1</td>\n",
              "      <td>1</td>\n",
              "      <td>1</td>\n",
              "      <td>2</td>\n",
              "      <td>1</td>\n",
              "      <td>1</td>\n",
              "      <td>0</td>\n",
              "      <td>4</td>\n",
              "      <td>2</td>\n",
              "      <td>13</td>\n",
              "      <td>0.201470</td>\n",
              "      <td>-0.014822</td>\n",
              "      <td>0.669699</td>\n",
              "      <td>0.136278</td>\n",
              "      <td>0.610706</td>\n",
              "      <td>0.400361</td>\n",
              "      <td>0.160266</td>\n",
              "      <td>0.310921</td>\n",
              "      <td>0.389470</td>\n",
              "      <td>0.267559</td>\n",
              "      <td>0.237281</td>\n",
              "      <td>0.377873</td>\n",
              "      <td>0.322401</td>\n",
              "      <td>0.869850</td>\n",
              "    </tr>\n",
              "    <tr>\n",
              "      <th>1</th>\n",
              "      <td>2</td>\n",
              "      <td>1</td>\n",
              "      <td>1</td>\n",
              "      <td>0</td>\n",
              "      <td>0</td>\n",
              "      <td>1</td>\n",
              "      <td>3</td>\n",
              "      <td>0</td>\n",
              "      <td>5</td>\n",
              "      <td>0</td>\n",
              "      <td>14</td>\n",
              "      <td>0.743068</td>\n",
              "      <td>0.367411</td>\n",
              "      <td>1.021605</td>\n",
              "      <td>0.365798</td>\n",
              "      <td>0.276853</td>\n",
              "      <td>0.533087</td>\n",
              "      <td>0.558922</td>\n",
              "      <td>0.516294</td>\n",
              "      <td>0.594928</td>\n",
              "      <td>0.341439</td>\n",
              "      <td>0.906013</td>\n",
              "      <td>0.921701</td>\n",
              "      <td>0.261975</td>\n",
              "      <td>0.465083</td>\n",
              "    </tr>\n",
              "    <tr>\n",
              "      <th>2</th>\n",
              "      <td>3</td>\n",
              "      <td>0</td>\n",
              "      <td>0</td>\n",
              "      <td>0</td>\n",
              "      <td>2</td>\n",
              "      <td>1</td>\n",
              "      <td>3</td>\n",
              "      <td>0</td>\n",
              "      <td>3</td>\n",
              "      <td>0</td>\n",
              "      <td>5</td>\n",
              "      <td>0.742708</td>\n",
              "      <td>0.310383</td>\n",
              "      <td>-0.012673</td>\n",
              "      <td>0.576957</td>\n",
              "      <td>0.285074</td>\n",
              "      <td>0.650609</td>\n",
              "      <td>0.375348</td>\n",
              "      <td>0.902567</td>\n",
              "      <td>0.555205</td>\n",
              "      <td>0.843531</td>\n",
              "      <td>0.748809</td>\n",
              "      <td>0.620126</td>\n",
              "      <td>0.541474</td>\n",
              "      <td>0.763846</td>\n",
              "    </tr>\n",
              "    <tr>\n",
              "      <th>3</th>\n",
              "      <td>4</td>\n",
              "      <td>1</td>\n",
              "      <td>1</td>\n",
              "      <td>0</td>\n",
              "      <td>2</td>\n",
              "      <td>1</td>\n",
              "      <td>3</td>\n",
              "      <td>0</td>\n",
              "      <td>4</td>\n",
              "      <td>2</td>\n",
              "      <td>10</td>\n",
              "      <td>0.429551</td>\n",
              "      <td>0.620998</td>\n",
              "      <td>0.577942</td>\n",
              "      <td>0.280610</td>\n",
              "      <td>0.284667</td>\n",
              "      <td>0.668980</td>\n",
              "      <td>0.239061</td>\n",
              "      <td>0.732948</td>\n",
              "      <td>0.679618</td>\n",
              "      <td>0.574844</td>\n",
              "      <td>0.346010</td>\n",
              "      <td>0.714610</td>\n",
              "      <td>0.540150</td>\n",
              "      <td>0.280682</td>\n",
              "    </tr>\n",
              "    <tr>\n",
              "      <th>4</th>\n",
              "      <td>6</td>\n",
              "      <td>0</td>\n",
              "      <td>0</td>\n",
              "      <td>0</td>\n",
              "      <td>2</td>\n",
              "      <td>1</td>\n",
              "      <td>3</td>\n",
              "      <td>0</td>\n",
              "      <td>4</td>\n",
              "      <td>0</td>\n",
              "      <td>13</td>\n",
              "      <td>1.058291</td>\n",
              "      <td>0.367492</td>\n",
              "      <td>-0.052389</td>\n",
              "      <td>0.232407</td>\n",
              "      <td>0.287595</td>\n",
              "      <td>0.686964</td>\n",
              "      <td>0.420667</td>\n",
              "      <td>0.648182</td>\n",
              "      <td>0.684501</td>\n",
              "      <td>0.956692</td>\n",
              "      <td>1.000773</td>\n",
              "      <td>0.776742</td>\n",
              "      <td>0.625849</td>\n",
              "      <td>0.250823</td>\n",
              "    </tr>\n",
              "  </tbody>\n",
              "</table>\n",
              "</div>"
            ],
            "text/plain": [
              "   id  cat0  cat1  cat2  cat3  ...     cont9    cont10    cont11    cont12    cont13\n",
              "0   1     1     1     1     2  ...  0.267559  0.237281  0.377873  0.322401  0.869850\n",
              "1   2     1     1     0     0  ...  0.341439  0.906013  0.921701  0.261975  0.465083\n",
              "2   3     0     0     0     2  ...  0.843531  0.748809  0.620126  0.541474  0.763846\n",
              "3   4     1     1     0     2  ...  0.574844  0.346010  0.714610  0.540150  0.280682\n",
              "4   6     0     0     0     2  ...  0.956692  1.000773  0.776742  0.625849  0.250823\n",
              "\n",
              "[5 rows x 25 columns]"
            ]
          },
          "metadata": {},
          "execution_count": 16
        }
      ]
    },
    {
      "cell_type": "code",
      "metadata": {
        "id": "dAP7TudB6ZQB"
      },
      "source": [
        "features = features.drop('id', axis=1)"
      ],
      "execution_count": null,
      "outputs": []
    },
    {
      "cell_type": "code",
      "metadata": {
        "id": "2g554IbXkH_u"
      },
      "source": [
        "test_id = test ['id']"
      ],
      "execution_count": null,
      "outputs": []
    },
    {
      "cell_type": "code",
      "metadata": {
        "id": "crYCA-_IiD78"
      },
      "source": [
        "X_test = test.copy()\n",
        "# X_test_cv_1 = X_test.copy()\n",
        "# X_test_cv = encoder_1.transform(X_test_cv_1)\n",
        "# X_test_cv[cat_feature] = encoder.transform(X_test_cv[cat_feature])\n",
        "for cat in cat_feature:\n",
        "    X_test[cat] = encoder.transform(list(X_test[cat].values))\n",
        "\n",
        "\n",
        "X_test_cv = X_test.drop(['id'], axis=1)"
      ],
      "execution_count": null,
      "outputs": []
    },
    {
      "cell_type": "code",
      "metadata": {
        "colab": {
          "base_uri": "https://localhost:8080/",
          "height": 224
        },
        "id": "izYn40v2Cdb_",
        "outputId": "11e19bb2-c892-47ae-8d44-2f71576414a2"
      },
      "source": [
        "X_test_cv.head()"
      ],
      "execution_count": null,
      "outputs": [
        {
          "output_type": "execute_result",
          "data": {
            "text/html": [
              "<div>\n",
              "<style scoped>\n",
              "    .dataframe tbody tr th:only-of-type {\n",
              "        vertical-align: middle;\n",
              "    }\n",
              "\n",
              "    .dataframe tbody tr th {\n",
              "        vertical-align: top;\n",
              "    }\n",
              "\n",
              "    .dataframe thead th {\n",
              "        text-align: right;\n",
              "    }\n",
              "</style>\n",
              "<table border=\"1\" class=\"dataframe\">\n",
              "  <thead>\n",
              "    <tr style=\"text-align: right;\">\n",
              "      <th></th>\n",
              "      <th>cat0</th>\n",
              "      <th>cat1</th>\n",
              "      <th>cat2</th>\n",
              "      <th>cat3</th>\n",
              "      <th>cat4</th>\n",
              "      <th>cat5</th>\n",
              "      <th>cat6</th>\n",
              "      <th>cat7</th>\n",
              "      <th>cat8</th>\n",
              "      <th>cat9</th>\n",
              "      <th>cont0</th>\n",
              "      <th>cont1</th>\n",
              "      <th>cont2</th>\n",
              "      <th>cont3</th>\n",
              "      <th>cont4</th>\n",
              "      <th>cont5</th>\n",
              "      <th>cont6</th>\n",
              "      <th>cont7</th>\n",
              "      <th>cont8</th>\n",
              "      <th>cont9</th>\n",
              "      <th>cont10</th>\n",
              "      <th>cont11</th>\n",
              "      <th>cont12</th>\n",
              "      <th>cont13</th>\n",
              "    </tr>\n",
              "  </thead>\n",
              "  <tbody>\n",
              "    <tr>\n",
              "      <th>0</th>\n",
              "      <td>1</td>\n",
              "      <td>1</td>\n",
              "      <td>1</td>\n",
              "      <td>2</td>\n",
              "      <td>1</td>\n",
              "      <td>1</td>\n",
              "      <td>0</td>\n",
              "      <td>4</td>\n",
              "      <td>4</td>\n",
              "      <td>8</td>\n",
              "      <td>0.296227</td>\n",
              "      <td>0.686757</td>\n",
              "      <td>0.587731</td>\n",
              "      <td>0.392753</td>\n",
              "      <td>0.476739</td>\n",
              "      <td>0.376350</td>\n",
              "      <td>0.337884</td>\n",
              "      <td>0.321832</td>\n",
              "      <td>0.445212</td>\n",
              "      <td>0.290258</td>\n",
              "      <td>0.244476</td>\n",
              "      <td>0.087914</td>\n",
              "      <td>0.301831</td>\n",
              "      <td>0.845702</td>\n",
              "    </tr>\n",
              "    <tr>\n",
              "      <th>1</th>\n",
              "      <td>0</td>\n",
              "      <td>1</td>\n",
              "      <td>0</td>\n",
              "      <td>2</td>\n",
              "      <td>1</td>\n",
              "      <td>2</td>\n",
              "      <td>0</td>\n",
              "      <td>4</td>\n",
              "      <td>2</td>\n",
              "      <td>7</td>\n",
              "      <td>0.543707</td>\n",
              "      <td>0.364761</td>\n",
              "      <td>0.452967</td>\n",
              "      <td>0.929645</td>\n",
              "      <td>0.285509</td>\n",
              "      <td>0.860046</td>\n",
              "      <td>0.798712</td>\n",
              "      <td>0.835961</td>\n",
              "      <td>0.391657</td>\n",
              "      <td>0.288276</td>\n",
              "      <td>0.549568</td>\n",
              "      <td>0.905097</td>\n",
              "      <td>0.850684</td>\n",
              "      <td>0.693940</td>\n",
              "    </tr>\n",
              "    <tr>\n",
              "      <th>2</th>\n",
              "      <td>1</td>\n",
              "      <td>0</td>\n",
              "      <td>0</td>\n",
              "      <td>0</td>\n",
              "      <td>1</td>\n",
              "      <td>1</td>\n",
              "      <td>0</td>\n",
              "      <td>4</td>\n",
              "      <td>3</td>\n",
              "      <td>10</td>\n",
              "      <td>0.408961</td>\n",
              "      <td>0.296129</td>\n",
              "      <td>0.690999</td>\n",
              "      <td>0.740027</td>\n",
              "      <td>0.697272</td>\n",
              "      <td>0.683600</td>\n",
              "      <td>0.404089</td>\n",
              "      <td>0.879379</td>\n",
              "      <td>0.275549</td>\n",
              "      <td>0.427871</td>\n",
              "      <td>0.491667</td>\n",
              "      <td>0.384315</td>\n",
              "      <td>0.376689</td>\n",
              "      <td>0.508099</td>\n",
              "    </tr>\n",
              "    <tr>\n",
              "      <th>3</th>\n",
              "      <td>1</td>\n",
              "      <td>1</td>\n",
              "      <td>0</td>\n",
              "      <td>2</td>\n",
              "      <td>1</td>\n",
              "      <td>3</td>\n",
              "      <td>0</td>\n",
              "      <td>4</td>\n",
              "      <td>0</td>\n",
              "      <td>13</td>\n",
              "      <td>1.031239</td>\n",
              "      <td>0.356062</td>\n",
              "      <td>0.303651</td>\n",
              "      <td>0.895591</td>\n",
              "      <td>0.719306</td>\n",
              "      <td>0.777890</td>\n",
              "      <td>0.730954</td>\n",
              "      <td>0.644315</td>\n",
              "      <td>1.024017</td>\n",
              "      <td>0.391090</td>\n",
              "      <td>0.988340</td>\n",
              "      <td>0.411828</td>\n",
              "      <td>0.393585</td>\n",
              "      <td>0.461372</td>\n",
              "    </tr>\n",
              "    <tr>\n",
              "      <th>4</th>\n",
              "      <td>1</td>\n",
              "      <td>1</td>\n",
              "      <td>0</td>\n",
              "      <td>2</td>\n",
              "      <td>1</td>\n",
              "      <td>2</td>\n",
              "      <td>0</td>\n",
              "      <td>4</td>\n",
              "      <td>2</td>\n",
              "      <td>5</td>\n",
              "      <td>0.530447</td>\n",
              "      <td>0.729004</td>\n",
              "      <td>0.281723</td>\n",
              "      <td>0.444698</td>\n",
              "      <td>0.313032</td>\n",
              "      <td>0.431007</td>\n",
              "      <td>0.390992</td>\n",
              "      <td>0.408874</td>\n",
              "      <td>0.447887</td>\n",
              "      <td>0.390253</td>\n",
              "      <td>0.648932</td>\n",
              "      <td>0.385935</td>\n",
              "      <td>0.370401</td>\n",
              "      <td>0.900412</td>\n",
              "    </tr>\n",
              "  </tbody>\n",
              "</table>\n",
              "</div>"
            ],
            "text/plain": [
              "   cat0  cat1  cat2  cat3  ...    cont10    cont11    cont12    cont13\n",
              "0     1     1     1     2  ...  0.244476  0.087914  0.301831  0.845702\n",
              "1     0     1     0     2  ...  0.549568  0.905097  0.850684  0.693940\n",
              "2     1     0     0     0  ...  0.491667  0.384315  0.376689  0.508099\n",
              "3     1     1     0     2  ...  0.988340  0.411828  0.393585  0.461372\n",
              "4     1     1     0     2  ...  0.648932  0.385935  0.370401  0.900412\n",
              "\n",
              "[5 rows x 24 columns]"
            ]
          },
          "metadata": {},
          "execution_count": 20
        }
      ]
    },
    {
      "cell_type": "code",
      "metadata": {
        "id": "0BXzceZmiD2J"
      },
      "source": [
        "#LGMB\n",
        "\n",
        "params_lgb = {\n",
        "    \"task\": \"train\",\n",
        "    \"boosting_type\": \"gbdt\",\n",
        "    \"objective\": \"regression\",\n",
        "    \"metric\": \"rmse\",\n",
        "    \"learning_rate\": 0.003899,\n",
        "    'num_boost_round': 100000,\n",
        "    \"num_leaves\": 62,\n",
        "    \"max_depth\": 95,\n",
        "    \"feature_fraction\": 0.2256,\n",
        "    \"bagging_fraction\": 0.8805,\n",
        "    \"min_child_samples\": 290,\n",
        "    \"reg_alpha\": 9.562925,\n",
        "    \"reg_lambda\": 9.35581,\n",
        "    \"max_bin\": 881,\n",
        "    \"min_data_per_group\": 125,\n",
        "    \"bagging_freq\": 1,\n",
        "    \"cat_smooth\": 96,\n",
        "    \"cat_l2\": 19,\n",
        "    \"verbosity\": -1,\n",
        "    \"bagging_seed\": 42,\n",
        "    \"feature_fraction_seed\": 42,\n",
        "    \"seed\": 42,\n",
        "    'random_state':42\n",
        "}\n",
        "\n",
        "\n",
        "#XGBboost\n",
        "\n",
        "xgb_params = {\n",
        "    'n_estimators': 5000,\n",
        "    'learning_rate': 0.1235,\n",
        "    'subsample': 0.95,\n",
        "    'colsample_bytree': 0.11,\n",
        "    'max_depth': 2,\n",
        "    'booster': 'gbtree', \n",
        "    'reg_lambda': 66.1,\n",
        "    'reg_alpha': 15.9,\n",
        "    'random_state':42,\n",
        "    'verbosity': 0\n",
        "}"
      ],
      "execution_count": null,
      "outputs": []
    },
    {
      "cell_type": "code",
      "metadata": {
        "id": "1wc1b5kxyF4q"
      },
      "source": [
        "XGB_ = XGBRegressor(**xgb_params)\n",
        "LGBM = LGBMRegressor(**params_lgb)"
      ],
      "execution_count": null,
      "outputs": []
    },
    {
      "cell_type": "code",
      "metadata": {
        "id": "4iJ6y2CiEnLt"
      },
      "source": [
        "estimators = [XGB_, LGBM]"
      ],
      "execution_count": null,
      "outputs": []
    },
    {
      "cell_type": "code",
      "metadata": {
        "id": "gyW012YN74NI"
      },
      "source": [
        "X_train_XGB, X_val_XGB, y_train_XGB,y_val_XGB = train_test_split(features, target, test_size=0.25,\n",
        "                                                                  random_state=42)"
      ],
      "execution_count": null,
      "outputs": []
    },
    {
      "cell_type": "code",
      "metadata": {
        "colab": {
          "base_uri": "https://localhost:8080/"
        },
        "id": "PhsuvepzGwcs",
        "outputId": "e3863d7b-23ca-4b8f-a0a1-e4034c529ebb"
      },
      "source": [
        "features.shape, X_test_cv.shape"
      ],
      "execution_count": null,
      "outputs": [
        {
          "output_type": "execute_result",
          "data": {
            "text/plain": [
              "((300000, 24), (200000, 24))"
            ]
          },
          "metadata": {},
          "execution_count": 37
        }
      ]
    },
    {
      "cell_type": "code",
      "metadata": {
        "colab": {
          "base_uri": "https://localhost:8080/"
        },
        "id": "I7244mRF7LJ9",
        "outputId": "5f1905aa-1db2-4a74-8713-b897658a8ec6"
      },
      "source": [
        "model = XGBRegressor(**xgb_params)\n",
        "model.fit(X_train_XGB, y_train_XGB, eval_set = [(X_val_XGB, y_val_XGB)],\n",
        "          early_stopping_rounds=200, verbose=200)\n",
        "\n",
        "preds = model.predict(X_test_cv)\n",
        "print(mean_squared_error(y_val_XGB, model.predict(X_val_XGB), squared=False))\n"
      ],
      "execution_count": null,
      "outputs": [
        {
          "output_type": "stream",
          "text": [
            "[0]\tvalidation_0-rmse:6.82735\n",
            "Will train until validation_0-rmse hasn't improved in 200 rounds.\n",
            "[200]\tvalidation_0-rmse:0.730233\n",
            "[400]\tvalidation_0-rmse:0.725708\n",
            "[600]\tvalidation_0-rmse:0.723184\n",
            "[800]\tvalidation_0-rmse:0.721784\n",
            "[1000]\tvalidation_0-rmse:0.720679\n",
            "[1200]\tvalidation_0-rmse:0.719899\n",
            "[1400]\tvalidation_0-rmse:0.719098\n",
            "[1600]\tvalidation_0-rmse:0.718482\n",
            "[1800]\tvalidation_0-rmse:0.71794\n",
            "[2000]\tvalidation_0-rmse:0.717557\n",
            "[2200]\tvalidation_0-rmse:0.71723\n",
            "[2400]\tvalidation_0-rmse:0.716876\n",
            "[2600]\tvalidation_0-rmse:0.716574\n",
            "[2800]\tvalidation_0-rmse:0.71637\n",
            "[3000]\tvalidation_0-rmse:0.716221\n",
            "[3200]\tvalidation_0-rmse:0.716056\n",
            "[3400]\tvalidation_0-rmse:0.715954\n",
            "[3600]\tvalidation_0-rmse:0.715861\n",
            "[3800]\tvalidation_0-rmse:0.715852\n",
            "[4000]\tvalidation_0-rmse:0.715806\n",
            "[4200]\tvalidation_0-rmse:0.715749\n",
            "[4400]\tvalidation_0-rmse:0.715708\n",
            "[4600]\tvalidation_0-rmse:0.71567\n",
            "[4800]\tvalidation_0-rmse:0.715667\n",
            "[4999]\tvalidation_0-rmse:0.715623\n",
            "0.7156304751640391\n"
          ],
          "name": "stdout"
        }
      ]
    },
    {
      "cell_type": "code",
      "metadata": {
        "colab": {
          "base_uri": "https://localhost:8080/",
          "height": 17
        },
        "id": "D5ZWMNv18eu6",
        "outputId": "53d53fba-4259-4604-be2d-9a2806b2dc6c"
      },
      "source": [
        "sub_XG_full = pd.DataFrame()\n",
        "sub_XG_full['Id'] = test_id\n",
        "sub_XG_full['target'] = preds\n",
        "\n",
        "\n",
        "sub_XG_full.to_csv('XGB_full-ensemble.csv', index=False)\n",
        "files.download('XGB_full-ensemble.csv')"
      ],
      "execution_count": null,
      "outputs": [
        {
          "output_type": "display_data",
          "data": {
            "application/javascript": [
              "\n",
              "    async function download(id, filename, size) {\n",
              "      if (!google.colab.kernel.accessAllowed) {\n",
              "        return;\n",
              "      }\n",
              "      const div = document.createElement('div');\n",
              "      const label = document.createElement('label');\n",
              "      label.textContent = `Downloading \"${filename}\": `;\n",
              "      div.appendChild(label);\n",
              "      const progress = document.createElement('progress');\n",
              "      progress.max = size;\n",
              "      div.appendChild(progress);\n",
              "      document.body.appendChild(div);\n",
              "\n",
              "      const buffers = [];\n",
              "      let downloaded = 0;\n",
              "\n",
              "      const channel = await google.colab.kernel.comms.open(id);\n",
              "      // Send a message to notify the kernel that we're ready.\n",
              "      channel.send({})\n",
              "\n",
              "      for await (const message of channel.messages) {\n",
              "        // Send a message to notify the kernel that we're ready.\n",
              "        channel.send({})\n",
              "        if (message.buffers) {\n",
              "          for (const buffer of message.buffers) {\n",
              "            buffers.push(buffer);\n",
              "            downloaded += buffer.byteLength;\n",
              "            progress.value = downloaded;\n",
              "          }\n",
              "        }\n",
              "      }\n",
              "      const blob = new Blob(buffers, {type: 'application/binary'});\n",
              "      const a = document.createElement('a');\n",
              "      a.href = window.URL.createObjectURL(blob);\n",
              "      a.download = filename;\n",
              "      div.appendChild(a);\n",
              "      a.click();\n",
              "      div.remove();\n",
              "    }\n",
              "  "
            ],
            "text/plain": [
              "<IPython.core.display.Javascript object>"
            ]
          },
          "metadata": {}
        },
        {
          "output_type": "display_data",
          "data": {
            "application/javascript": [
              "download(\"download_1cc2d5e7-2125-4a9c-a20f-a7571acc9da7\", \"XGB_full-ensemble.csv\", 3156789)"
            ],
            "text/plain": [
              "<IPython.core.display.Javascript object>"
            ]
          },
          "metadata": {}
        }
      ]
    },
    {
      "cell_type": "code",
      "metadata": {
        "colab": {
          "base_uri": "https://localhost:8080/",
          "height": 204
        },
        "id": "wIeOZ_Pi944Y",
        "outputId": "9ab61ded-748d-4f7d-adee-008f2eb95453"
      },
      "source": [
        "sub_XG_full.head()"
      ],
      "execution_count": null,
      "outputs": [
        {
          "output_type": "execute_result",
          "data": {
            "text/html": [
              "<div>\n",
              "<style scoped>\n",
              "    .dataframe tbody tr th:only-of-type {\n",
              "        vertical-align: middle;\n",
              "    }\n",
              "\n",
              "    .dataframe tbody tr th {\n",
              "        vertical-align: top;\n",
              "    }\n",
              "\n",
              "    .dataframe thead th {\n",
              "        text-align: right;\n",
              "    }\n",
              "</style>\n",
              "<table border=\"1\" class=\"dataframe\">\n",
              "  <thead>\n",
              "    <tr style=\"text-align: right;\">\n",
              "      <th></th>\n",
              "      <th>Id</th>\n",
              "      <th>target</th>\n",
              "    </tr>\n",
              "  </thead>\n",
              "  <tbody>\n",
              "    <tr>\n",
              "      <th>0</th>\n",
              "      <td>0</td>\n",
              "      <td>8.114770</td>\n",
              "    </tr>\n",
              "    <tr>\n",
              "      <th>1</th>\n",
              "      <td>5</td>\n",
              "      <td>8.451990</td>\n",
              "    </tr>\n",
              "    <tr>\n",
              "      <th>2</th>\n",
              "      <td>15</td>\n",
              "      <td>8.433565</td>\n",
              "    </tr>\n",
              "    <tr>\n",
              "      <th>3</th>\n",
              "      <td>16</td>\n",
              "      <td>8.485857</td>\n",
              "    </tr>\n",
              "    <tr>\n",
              "      <th>4</th>\n",
              "      <td>17</td>\n",
              "      <td>8.129815</td>\n",
              "    </tr>\n",
              "  </tbody>\n",
              "</table>\n",
              "</div>"
            ],
            "text/plain": [
              "   Id    target\n",
              "0   0  8.114770\n",
              "1   5  8.451990\n",
              "2  15  8.433565\n",
              "3  16  8.485857\n",
              "4  17  8.129815"
            ]
          },
          "metadata": {},
          "execution_count": 40
        }
      ]
    },
    {
      "cell_type": "code",
      "metadata": {
        "colab": {
          "base_uri": "https://localhost:8080/"
        },
        "id": "4nJYAVX8iD_T",
        "outputId": "987e1aa6-2b5f-4b64-c8f8-16bfe4d7f7d9"
      },
      "source": [
        "preds = np.zeros(test.shape[0])\n",
        "kf = KFold(n_splits=5, random_state=42, shuffle=True)\n",
        "rmse=[]\n",
        "idx=0\n",
        "\n",
        "\n",
        "for train_idx, test_idx in kf.split(features, target):\n",
        "\n",
        "    X_train_g, X_val_g = features.iloc[train_idx], features.iloc[test_idx]\n",
        "    y_tr_g, y_val_g = target.iloc[train_idx], target.iloc[test_idx]\n",
        "\n",
        "\n",
        "# XGBRegressor    \n",
        "\n",
        "    model = XGBRegressor(**xgb_params)\n",
        "    model.fit(X_train_g, y_tr_g, eval_set = [(X_val_g, y_val_g)],\n",
        "              early_stopping_rounds=200, verbose=200)\n",
        "             \n",
        "\n",
        "\n",
        "    preds += model.predict(X_test_cv)/kf.n_splits\n",
        "\n",
        "    rmse.append(mean_squared_error(y_val_g, model.predict(X_val_g), squared=False))\n",
        "    print(idx+1,rmse[idx])\n",
        "    idx +=1\n"
      ],
      "execution_count": null,
      "outputs": [
        {
          "output_type": "stream",
          "text": [
            "[0]\tvalidation_0-rmse:6.82899\n",
            "Will train until validation_0-rmse hasn't improved in 200 rounds.\n",
            "[200]\tvalidation_0-rmse:0.730917\n",
            "[400]\tvalidation_0-rmse:0.726661\n",
            "[600]\tvalidation_0-rmse:0.724249\n",
            "[800]\tvalidation_0-rmse:0.722665\n",
            "[1000]\tvalidation_0-rmse:0.721542\n",
            "[1200]\tvalidation_0-rmse:0.720639\n",
            "[1400]\tvalidation_0-rmse:0.719825\n",
            "[1600]\tvalidation_0-rmse:0.719194\n",
            "[1800]\tvalidation_0-rmse:0.718644\n",
            "[2000]\tvalidation_0-rmse:0.718141\n",
            "[2200]\tvalidation_0-rmse:0.717751\n",
            "[2400]\tvalidation_0-rmse:0.71743\n",
            "[2600]\tvalidation_0-rmse:0.717137\n",
            "[2800]\tvalidation_0-rmse:0.716849\n",
            "[3000]\tvalidation_0-rmse:0.716724\n",
            "[3200]\tvalidation_0-rmse:0.716618\n",
            "[3400]\tvalidation_0-rmse:0.716467\n",
            "[3600]\tvalidation_0-rmse:0.716305\n",
            "[3800]\tvalidation_0-rmse:0.716239\n",
            "[4000]\tvalidation_0-rmse:0.716188\n",
            "[4200]\tvalidation_0-rmse:0.716174\n",
            "[4400]\tvalidation_0-rmse:0.716123\n",
            "[4600]\tvalidation_0-rmse:0.716072\n",
            "[4800]\tvalidation_0-rmse:0.71606\n",
            "Stopping. Best iteration:\n",
            "[4772]\tvalidation_0-rmse:0.716041\n",
            "\n",
            "1 0.7160439239219227\n",
            "[0]\tvalidation_0-rmse:6.82569\n",
            "Will train until validation_0-rmse hasn't improved in 200 rounds.\n",
            "[200]\tvalidation_0-rmse:0.730726\n",
            "[400]\tvalidation_0-rmse:0.726504\n",
            "[600]\tvalidation_0-rmse:0.723943\n",
            "[800]\tvalidation_0-rmse:0.722199\n",
            "[1000]\tvalidation_0-rmse:0.721128\n",
            "[1200]\tvalidation_0-rmse:0.720267\n",
            "[1400]\tvalidation_0-rmse:0.719583\n",
            "[1600]\tvalidation_0-rmse:0.71895\n",
            "[1800]\tvalidation_0-rmse:0.718425\n",
            "[2000]\tvalidation_0-rmse:0.717966\n",
            "[2200]\tvalidation_0-rmse:0.717591\n",
            "[2400]\tvalidation_0-rmse:0.717273\n",
            "[2600]\tvalidation_0-rmse:0.717014\n",
            "[2800]\tvalidation_0-rmse:0.716845\n",
            "[3000]\tvalidation_0-rmse:0.716705\n",
            "[3200]\tvalidation_0-rmse:0.716566\n",
            "[3400]\tvalidation_0-rmse:0.716499\n",
            "[3600]\tvalidation_0-rmse:0.716391\n",
            "[3800]\tvalidation_0-rmse:0.716317\n",
            "[4000]\tvalidation_0-rmse:0.716269\n",
            "[4200]\tvalidation_0-rmse:0.716185\n",
            "[4400]\tvalidation_0-rmse:0.716184\n",
            "Stopping. Best iteration:\n",
            "[4272]\tvalidation_0-rmse:0.716171\n",
            "\n",
            "2 0.7161756373079893\n",
            "[0]\tvalidation_0-rmse:6.82341\n",
            "Will train until validation_0-rmse hasn't improved in 200 rounds.\n",
            "[200]\tvalidation_0-rmse:0.732368\n",
            "[400]\tvalidation_0-rmse:0.728188\n",
            "[600]\tvalidation_0-rmse:0.725897\n",
            "[800]\tvalidation_0-rmse:0.724229\n",
            "[1000]\tvalidation_0-rmse:0.723099\n",
            "[1200]\tvalidation_0-rmse:0.722162\n",
            "[1400]\tvalidation_0-rmse:0.721384\n",
            "[1600]\tvalidation_0-rmse:0.72071\n",
            "[1800]\tvalidation_0-rmse:0.720205\n",
            "[2000]\tvalidation_0-rmse:0.719767\n",
            "[2200]\tvalidation_0-rmse:0.719341\n",
            "[2400]\tvalidation_0-rmse:0.719082\n",
            "[2600]\tvalidation_0-rmse:0.718828\n",
            "[2800]\tvalidation_0-rmse:0.718621\n",
            "[3000]\tvalidation_0-rmse:0.718444\n",
            "[3200]\tvalidation_0-rmse:0.718378\n",
            "[3400]\tvalidation_0-rmse:0.718323\n",
            "[3600]\tvalidation_0-rmse:0.718197\n",
            "[3800]\tvalidation_0-rmse:0.718089\n",
            "[4000]\tvalidation_0-rmse:0.718046\n",
            "[4200]\tvalidation_0-rmse:0.718024\n",
            "[4400]\tvalidation_0-rmse:0.717977\n",
            "[4600]\tvalidation_0-rmse:0.717908\n",
            "[4800]\tvalidation_0-rmse:0.717907\n",
            "[4999]\tvalidation_0-rmse:0.717928\n",
            "3 0.7178958566890385\n",
            "[0]\tvalidation_0-rmse:6.82577\n",
            "Will train until validation_0-rmse hasn't improved in 200 rounds.\n",
            "[200]\tvalidation_0-rmse:0.732204\n",
            "[400]\tvalidation_0-rmse:0.727958\n",
            "[600]\tvalidation_0-rmse:0.725528\n",
            "[800]\tvalidation_0-rmse:0.723937\n",
            "[1000]\tvalidation_0-rmse:0.723033\n",
            "[1200]\tvalidation_0-rmse:0.722146\n",
            "[1400]\tvalidation_0-rmse:0.72139\n",
            "[1600]\tvalidation_0-rmse:0.720732\n",
            "[1800]\tvalidation_0-rmse:0.720184\n",
            "[2000]\tvalidation_0-rmse:0.719719\n",
            "[2200]\tvalidation_0-rmse:0.719262\n",
            "[2400]\tvalidation_0-rmse:0.719007\n",
            "[2600]\tvalidation_0-rmse:0.718773\n",
            "[2800]\tvalidation_0-rmse:0.718549\n",
            "[3000]\tvalidation_0-rmse:0.7184\n",
            "[3200]\tvalidation_0-rmse:0.7183\n",
            "[3400]\tvalidation_0-rmse:0.718273\n",
            "[3600]\tvalidation_0-rmse:0.71812\n",
            "[3800]\tvalidation_0-rmse:0.718019\n",
            "[4000]\tvalidation_0-rmse:0.71797\n",
            "[4200]\tvalidation_0-rmse:0.717944\n",
            "[4400]\tvalidation_0-rmse:0.717904\n",
            "[4600]\tvalidation_0-rmse:0.717864\n",
            "[4800]\tvalidation_0-rmse:0.717879\n",
            "Stopping. Best iteration:\n",
            "[4676]\tvalidation_0-rmse:0.717843\n",
            "\n",
            "4 0.7178480664428779\n",
            "[0]\tvalidation_0-rmse:6.83133\n",
            "Will train until validation_0-rmse hasn't improved in 200 rounds.\n",
            "[200]\tvalidation_0-rmse:0.73206\n",
            "[400]\tvalidation_0-rmse:0.727402\n",
            "[600]\tvalidation_0-rmse:0.724834\n",
            "[800]\tvalidation_0-rmse:0.723007\n",
            "[1000]\tvalidation_0-rmse:0.721882\n",
            "[1200]\tvalidation_0-rmse:0.720912\n",
            "[1400]\tvalidation_0-rmse:0.720079\n",
            "[1600]\tvalidation_0-rmse:0.719408\n",
            "[1800]\tvalidation_0-rmse:0.718807\n",
            "[2000]\tvalidation_0-rmse:0.718347\n",
            "[2200]\tvalidation_0-rmse:0.717842\n",
            "[2400]\tvalidation_0-rmse:0.717521\n",
            "[2600]\tvalidation_0-rmse:0.717263\n",
            "[2800]\tvalidation_0-rmse:0.717013\n",
            "[3000]\tvalidation_0-rmse:0.71681\n",
            "[3200]\tvalidation_0-rmse:0.716651\n",
            "[3400]\tvalidation_0-rmse:0.716467\n",
            "[3600]\tvalidation_0-rmse:0.716351\n",
            "[3800]\tvalidation_0-rmse:0.716287\n",
            "[4000]\tvalidation_0-rmse:0.716175\n",
            "[4200]\tvalidation_0-rmse:0.716103\n",
            "[4400]\tvalidation_0-rmse:0.716083\n",
            "[4600]\tvalidation_0-rmse:0.715998\n",
            "[4800]\tvalidation_0-rmse:0.715999\n",
            "Stopping. Best iteration:\n",
            "[4642]\tvalidation_0-rmse:0.715977\n",
            "\n",
            "5 0.7159780938002998\n"
          ],
          "name": "stdout"
        }
      ]
    },
    {
      "cell_type": "code",
      "metadata": {
        "id": "9WNYK-VrhWK-"
      },
      "source": [
        "sub_XG = pd.DataFrame()\n",
        "sub_XG['Id'] = test_id\n",
        "sub_XG['target'] = preds"
      ],
      "execution_count": null,
      "outputs": []
    },
    {
      "cell_type": "code",
      "metadata": {
        "colab": {
          "base_uri": "https://localhost:8080/",
          "height": 204
        },
        "id": "UZ-kx6Z3h8hC",
        "outputId": "a694a063-5d42-4c23-9124-a109ba7ed4fc"
      },
      "source": [
        "sub_XG.head()"
      ],
      "execution_count": null,
      "outputs": [
        {
          "output_type": "execute_result",
          "data": {
            "text/html": [
              "<div>\n",
              "<style scoped>\n",
              "    .dataframe tbody tr th:only-of-type {\n",
              "        vertical-align: middle;\n",
              "    }\n",
              "\n",
              "    .dataframe tbody tr th {\n",
              "        vertical-align: top;\n",
              "    }\n",
              "\n",
              "    .dataframe thead th {\n",
              "        text-align: right;\n",
              "    }\n",
              "</style>\n",
              "<table border=\"1\" class=\"dataframe\">\n",
              "  <thead>\n",
              "    <tr style=\"text-align: right;\">\n",
              "      <th></th>\n",
              "      <th>Id</th>\n",
              "      <th>target</th>\n",
              "    </tr>\n",
              "  </thead>\n",
              "  <tbody>\n",
              "    <tr>\n",
              "      <th>0</th>\n",
              "      <td>0</td>\n",
              "      <td>8.086397</td>\n",
              "    </tr>\n",
              "    <tr>\n",
              "      <th>1</th>\n",
              "      <td>5</td>\n",
              "      <td>8.407320</td>\n",
              "    </tr>\n",
              "    <tr>\n",
              "      <th>2</th>\n",
              "      <td>15</td>\n",
              "      <td>8.421388</td>\n",
              "    </tr>\n",
              "    <tr>\n",
              "      <th>3</th>\n",
              "      <td>16</td>\n",
              "      <td>8.506218</td>\n",
              "    </tr>\n",
              "    <tr>\n",
              "      <th>4</th>\n",
              "      <td>17</td>\n",
              "      <td>8.109425</td>\n",
              "    </tr>\n",
              "  </tbody>\n",
              "</table>\n",
              "</div>"
            ],
            "text/plain": [
              "   Id    target\n",
              "0   0  8.086397\n",
              "1   5  8.407320\n",
              "2  15  8.421388\n",
              "3  16  8.506218\n",
              "4  17  8.109425"
            ]
          },
          "metadata": {},
          "execution_count": 43
        }
      ]
    },
    {
      "cell_type": "code",
      "metadata": {
        "id": "ATfMlF6DhQMe",
        "colab": {
          "base_uri": "https://localhost:8080/"
        },
        "outputId": "f8afcc61-5206-430b-e708-a90830e00e25"
      },
      "source": [
        "preds = np.zeros(test.shape[0])\n",
        "kf = KFold(n_splits=5, random_state=42, shuffle=True)\n",
        "rmse=[]\n",
        "idx=0\n",
        "\n",
        "\n",
        "for train_idx, test_idx in kf.split(features, target):\n",
        "\n",
        "    X_train_g, X_val_g = features.iloc[train_idx], features.iloc[test_idx]\n",
        "    y_tr_g, y_val_g = target.iloc[train_idx], target.iloc[test_idx]\n",
        "\n",
        "# LGBMRegressor    \n",
        "\n",
        "    model = LGBMRegressor(**params_lgb)\n",
        "    model.fit(X_train_g, y_tr_g, eval_set = [(X_val_g, y_val_g)],\n",
        "              early_stopping_rounds=200,verbose=False)\n",
        "    preds += model.predict(X_test_cv)/kf.n_splits\n",
        "\n",
        "    rmse.append(mean_squared_error(y_val_g, model.predict(X_val_g), squared=False))\n",
        "    print(idx+1,rmse[idx])\n",
        "    idx +=1"
      ],
      "execution_count": null,
      "outputs": [
        {
          "output_type": "stream",
          "text": [
            "1 0.7166541135702886\n",
            "2 0.7167587046434112\n",
            "3 0.7185340457413194\n",
            "4 0.7184551586950905\n",
            "5 0.7169656524800676\n"
          ],
          "name": "stdout"
        }
      ]
    },
    {
      "cell_type": "code",
      "metadata": {
        "id": "T6uih_Iwhdbw"
      },
      "source": [
        "sub_LGBM = pd.DataFrame()\n",
        "sub_LGBM['Id'] = test_id\n",
        "sub_LGBM['target'] = preds"
      ],
      "execution_count": null,
      "outputs": []
    },
    {
      "cell_type": "code",
      "metadata": {
        "colab": {
          "base_uri": "https://localhost:8080/",
          "height": 204
        },
        "id": "KhcML_7Rh_n7",
        "outputId": "d4d8acc4-a964-4832-bd47-ff8ef9691953"
      },
      "source": [
        "sub_LGBM.head()"
      ],
      "execution_count": null,
      "outputs": [
        {
          "output_type": "execute_result",
          "data": {
            "text/html": [
              "<div>\n",
              "<style scoped>\n",
              "    .dataframe tbody tr th:only-of-type {\n",
              "        vertical-align: middle;\n",
              "    }\n",
              "\n",
              "    .dataframe tbody tr th {\n",
              "        vertical-align: top;\n",
              "    }\n",
              "\n",
              "    .dataframe thead th {\n",
              "        text-align: right;\n",
              "    }\n",
              "</style>\n",
              "<table border=\"1\" class=\"dataframe\">\n",
              "  <thead>\n",
              "    <tr style=\"text-align: right;\">\n",
              "      <th></th>\n",
              "      <th>Id</th>\n",
              "      <th>target</th>\n",
              "    </tr>\n",
              "  </thead>\n",
              "  <tbody>\n",
              "    <tr>\n",
              "      <th>0</th>\n",
              "      <td>0</td>\n",
              "      <td>8.057325</td>\n",
              "    </tr>\n",
              "    <tr>\n",
              "      <th>1</th>\n",
              "      <td>5</td>\n",
              "      <td>8.317713</td>\n",
              "    </tr>\n",
              "    <tr>\n",
              "      <th>2</th>\n",
              "      <td>15</td>\n",
              "      <td>8.403558</td>\n",
              "    </tr>\n",
              "    <tr>\n",
              "      <th>3</th>\n",
              "      <td>16</td>\n",
              "      <td>8.475143</td>\n",
              "    </tr>\n",
              "    <tr>\n",
              "      <th>4</th>\n",
              "      <td>17</td>\n",
              "      <td>8.125825</td>\n",
              "    </tr>\n",
              "  </tbody>\n",
              "</table>\n",
              "</div>"
            ],
            "text/plain": [
              "   Id    target\n",
              "0   0  8.057325\n",
              "1   5  8.317713\n",
              "2  15  8.403558\n",
              "3  16  8.475143\n",
              "4  17  8.125825"
            ]
          },
          "metadata": {},
          "execution_count": 27
        }
      ]
    },
    {
      "cell_type": "markdown",
      "metadata": {
        "id": "JjqR0giKwRQw"
      },
      "source": [
        "#Развесовка"
      ]
    },
    {
      "cell_type": "code",
      "metadata": {
        "colab": {
          "base_uri": "https://localhost:8080/"
        },
        "id": "TmGE-CXFhtR6",
        "outputId": "79dc7bb2-1c5d-49ea-cb98-6de10ad4b737"
      },
      "source": [
        "!gdown --id 1xbEa--ywDx0ZubS8dayzFtb1_ztpVSNj\n",
        "!gdown --id 1pwmoNVxZ9WjW71vdBj_Gt5ADZiFzRarE\n",
        "!gdown --id 1vJJTxsbtIKt6FU8uj1bOOAlWxJs_QgFD"
      ],
      "execution_count": null,
      "outputs": [
        {
          "output_type": "stream",
          "text": [
            "Downloading...\n",
            "From: https://drive.google.com/uc?id=1xbEa--ywDx0ZubS8dayzFtb1_ztpVSNj\n",
            "To: /content/XGB-ensembleKF.csv\n",
            "4.92MB [00:00, 43.4MB/s]\n",
            "Downloading...\n",
            "From: https://drive.google.com/uc?id=1pwmoNVxZ9WjW71vdBj_Gt5ADZiFzRarE\n",
            "To: /content/XGB_full-ensemble.csv\n",
            "3.16MB [00:00, 49.9MB/s]\n",
            "Downloading...\n",
            "From: https://drive.google.com/uc?id=1vJJTxsbtIKt6FU8uj1bOOAlWxJs_QgFD\n",
            "To: /content/LGBM-ensemble.csv\n",
            "4.92MB [00:00, 43.1MB/s]\n"
          ],
          "name": "stdout"
        }
      ]
    },
    {
      "cell_type": "code",
      "metadata": {
        "id": "j7AcNNCmsTKM"
      },
      "source": [
        "sub_XG = pd.read_csv('/content/XGB-ensembleKF.csv')"
      ],
      "execution_count": null,
      "outputs": []
    },
    {
      "cell_type": "code",
      "metadata": {
        "id": "YceGEmEpsTAA"
      },
      "source": [
        "sub_XG_full = pd.read_csv('/content/XGB_full-ensemble.csv')"
      ],
      "execution_count": null,
      "outputs": []
    },
    {
      "cell_type": "code",
      "metadata": {
        "id": "nQ-wP2p6vODG"
      },
      "source": [
        "sub_LGBM = pd.read_csv('/content/LGBM-ensemble.csv')"
      ],
      "execution_count": null,
      "outputs": []
    },
    {
      "cell_type": "code",
      "metadata": {
        "colab": {
          "base_uri": "https://localhost:8080/",
          "height": 554
        },
        "id": "5FYmGVT-vZ_g",
        "outputId": "e6230693-3542-481b-fa3c-50e9e8fd7258"
      },
      "source": [
        "display(sub_LGBM.head().style.set_caption('LGBM - 0.71871'))\n",
        "print()\n",
        "print()\n",
        "display(sub_XG.head().style.set_caption('XGB Kfold - 0.71769'))\n",
        "print()\n",
        "print()\n",
        "display(sub_XG_full.head().style.set_caption('XGB - 0.71848'))"
      ],
      "execution_count": null,
      "outputs": [
        {
          "output_type": "display_data",
          "data": {
            "text/html": [
              "<style  type=\"text/css\" >\n",
              "</style><table id=\"T_c59cfd4a_031e_11ec_9141_0242ac1c0002\" ><caption>LGBM - 0.71871</caption><thead>    <tr>        <th class=\"blank level0\" ></th>        <th class=\"col_heading level0 col0\" >Id</th>        <th class=\"col_heading level0 col1\" >target</th>    </tr></thead><tbody>\n",
              "                <tr>\n",
              "                        <th id=\"T_c59cfd4a_031e_11ec_9141_0242ac1c0002level0_row0\" class=\"row_heading level0 row0\" >0</th>\n",
              "                        <td id=\"T_c59cfd4a_031e_11ec_9141_0242ac1c0002row0_col0\" class=\"data row0 col0\" >0</td>\n",
              "                        <td id=\"T_c59cfd4a_031e_11ec_9141_0242ac1c0002row0_col1\" class=\"data row0 col1\" >8.057325</td>\n",
              "            </tr>\n",
              "            <tr>\n",
              "                        <th id=\"T_c59cfd4a_031e_11ec_9141_0242ac1c0002level0_row1\" class=\"row_heading level0 row1\" >1</th>\n",
              "                        <td id=\"T_c59cfd4a_031e_11ec_9141_0242ac1c0002row1_col0\" class=\"data row1 col0\" >5</td>\n",
              "                        <td id=\"T_c59cfd4a_031e_11ec_9141_0242ac1c0002row1_col1\" class=\"data row1 col1\" >8.317713</td>\n",
              "            </tr>\n",
              "            <tr>\n",
              "                        <th id=\"T_c59cfd4a_031e_11ec_9141_0242ac1c0002level0_row2\" class=\"row_heading level0 row2\" >2</th>\n",
              "                        <td id=\"T_c59cfd4a_031e_11ec_9141_0242ac1c0002row2_col0\" class=\"data row2 col0\" >15</td>\n",
              "                        <td id=\"T_c59cfd4a_031e_11ec_9141_0242ac1c0002row2_col1\" class=\"data row2 col1\" >8.403558</td>\n",
              "            </tr>\n",
              "            <tr>\n",
              "                        <th id=\"T_c59cfd4a_031e_11ec_9141_0242ac1c0002level0_row3\" class=\"row_heading level0 row3\" >3</th>\n",
              "                        <td id=\"T_c59cfd4a_031e_11ec_9141_0242ac1c0002row3_col0\" class=\"data row3 col0\" >16</td>\n",
              "                        <td id=\"T_c59cfd4a_031e_11ec_9141_0242ac1c0002row3_col1\" class=\"data row3 col1\" >8.475143</td>\n",
              "            </tr>\n",
              "            <tr>\n",
              "                        <th id=\"T_c59cfd4a_031e_11ec_9141_0242ac1c0002level0_row4\" class=\"row_heading level0 row4\" >4</th>\n",
              "                        <td id=\"T_c59cfd4a_031e_11ec_9141_0242ac1c0002row4_col0\" class=\"data row4 col0\" >17</td>\n",
              "                        <td id=\"T_c59cfd4a_031e_11ec_9141_0242ac1c0002row4_col1\" class=\"data row4 col1\" >8.125825</td>\n",
              "            </tr>\n",
              "    </tbody></table>"
            ],
            "text/plain": [
              "<pandas.io.formats.style.Styler at 0x7f636b25d690>"
            ]
          },
          "metadata": {}
        },
        {
          "output_type": "stream",
          "text": [
            "\n",
            "\n"
          ],
          "name": "stdout"
        },
        {
          "output_type": "display_data",
          "data": {
            "text/html": [
              "<style  type=\"text/css\" >\n",
              "</style><table id=\"T_c59de138_031e_11ec_9141_0242ac1c0002\" ><caption>XGB Kfold - 0.71769</caption><thead>    <tr>        <th class=\"blank level0\" ></th>        <th class=\"col_heading level0 col0\" >Id</th>        <th class=\"col_heading level0 col1\" >target</th>    </tr></thead><tbody>\n",
              "                <tr>\n",
              "                        <th id=\"T_c59de138_031e_11ec_9141_0242ac1c0002level0_row0\" class=\"row_heading level0 row0\" >0</th>\n",
              "                        <td id=\"T_c59de138_031e_11ec_9141_0242ac1c0002row0_col0\" class=\"data row0 col0\" >0</td>\n",
              "                        <td id=\"T_c59de138_031e_11ec_9141_0242ac1c0002row0_col1\" class=\"data row0 col1\" >8.086397</td>\n",
              "            </tr>\n",
              "            <tr>\n",
              "                        <th id=\"T_c59de138_031e_11ec_9141_0242ac1c0002level0_row1\" class=\"row_heading level0 row1\" >1</th>\n",
              "                        <td id=\"T_c59de138_031e_11ec_9141_0242ac1c0002row1_col0\" class=\"data row1 col0\" >5</td>\n",
              "                        <td id=\"T_c59de138_031e_11ec_9141_0242ac1c0002row1_col1\" class=\"data row1 col1\" >8.407320</td>\n",
              "            </tr>\n",
              "            <tr>\n",
              "                        <th id=\"T_c59de138_031e_11ec_9141_0242ac1c0002level0_row2\" class=\"row_heading level0 row2\" >2</th>\n",
              "                        <td id=\"T_c59de138_031e_11ec_9141_0242ac1c0002row2_col0\" class=\"data row2 col0\" >15</td>\n",
              "                        <td id=\"T_c59de138_031e_11ec_9141_0242ac1c0002row2_col1\" class=\"data row2 col1\" >8.421388</td>\n",
              "            </tr>\n",
              "            <tr>\n",
              "                        <th id=\"T_c59de138_031e_11ec_9141_0242ac1c0002level0_row3\" class=\"row_heading level0 row3\" >3</th>\n",
              "                        <td id=\"T_c59de138_031e_11ec_9141_0242ac1c0002row3_col0\" class=\"data row3 col0\" >16</td>\n",
              "                        <td id=\"T_c59de138_031e_11ec_9141_0242ac1c0002row3_col1\" class=\"data row3 col1\" >8.506218</td>\n",
              "            </tr>\n",
              "            <tr>\n",
              "                        <th id=\"T_c59de138_031e_11ec_9141_0242ac1c0002level0_row4\" class=\"row_heading level0 row4\" >4</th>\n",
              "                        <td id=\"T_c59de138_031e_11ec_9141_0242ac1c0002row4_col0\" class=\"data row4 col0\" >17</td>\n",
              "                        <td id=\"T_c59de138_031e_11ec_9141_0242ac1c0002row4_col1\" class=\"data row4 col1\" >8.109425</td>\n",
              "            </tr>\n",
              "    </tbody></table>"
            ],
            "text/plain": [
              "<pandas.io.formats.style.Styler at 0x7f636af69690>"
            ]
          },
          "metadata": {}
        },
        {
          "output_type": "stream",
          "text": [
            "\n",
            "\n"
          ],
          "name": "stdout"
        },
        {
          "output_type": "display_data",
          "data": {
            "text/html": [
              "<style  type=\"text/css\" >\n",
              "</style><table id=\"T_c59f412c_031e_11ec_9141_0242ac1c0002\" ><caption>XGB - 0.71848</caption><thead>    <tr>        <th class=\"blank level0\" ></th>        <th class=\"col_heading level0 col0\" >Id</th>        <th class=\"col_heading level0 col1\" >target</th>    </tr></thead><tbody>\n",
              "                <tr>\n",
              "                        <th id=\"T_c59f412c_031e_11ec_9141_0242ac1c0002level0_row0\" class=\"row_heading level0 row0\" >0</th>\n",
              "                        <td id=\"T_c59f412c_031e_11ec_9141_0242ac1c0002row0_col0\" class=\"data row0 col0\" >0</td>\n",
              "                        <td id=\"T_c59f412c_031e_11ec_9141_0242ac1c0002row0_col1\" class=\"data row0 col1\" >8.114770</td>\n",
              "            </tr>\n",
              "            <tr>\n",
              "                        <th id=\"T_c59f412c_031e_11ec_9141_0242ac1c0002level0_row1\" class=\"row_heading level0 row1\" >1</th>\n",
              "                        <td id=\"T_c59f412c_031e_11ec_9141_0242ac1c0002row1_col0\" class=\"data row1 col0\" >5</td>\n",
              "                        <td id=\"T_c59f412c_031e_11ec_9141_0242ac1c0002row1_col1\" class=\"data row1 col1\" >8.451990</td>\n",
              "            </tr>\n",
              "            <tr>\n",
              "                        <th id=\"T_c59f412c_031e_11ec_9141_0242ac1c0002level0_row2\" class=\"row_heading level0 row2\" >2</th>\n",
              "                        <td id=\"T_c59f412c_031e_11ec_9141_0242ac1c0002row2_col0\" class=\"data row2 col0\" >15</td>\n",
              "                        <td id=\"T_c59f412c_031e_11ec_9141_0242ac1c0002row2_col1\" class=\"data row2 col1\" >8.433565</td>\n",
              "            </tr>\n",
              "            <tr>\n",
              "                        <th id=\"T_c59f412c_031e_11ec_9141_0242ac1c0002level0_row3\" class=\"row_heading level0 row3\" >3</th>\n",
              "                        <td id=\"T_c59f412c_031e_11ec_9141_0242ac1c0002row3_col0\" class=\"data row3 col0\" >16</td>\n",
              "                        <td id=\"T_c59f412c_031e_11ec_9141_0242ac1c0002row3_col1\" class=\"data row3 col1\" >8.485857</td>\n",
              "            </tr>\n",
              "            <tr>\n",
              "                        <th id=\"T_c59f412c_031e_11ec_9141_0242ac1c0002level0_row4\" class=\"row_heading level0 row4\" >4</th>\n",
              "                        <td id=\"T_c59f412c_031e_11ec_9141_0242ac1c0002row4_col0\" class=\"data row4 col0\" >17</td>\n",
              "                        <td id=\"T_c59f412c_031e_11ec_9141_0242ac1c0002row4_col1\" class=\"data row4 col1\" >8.129815</td>\n",
              "            </tr>\n",
              "    </tbody></table>"
            ],
            "text/plain": [
              "<pandas.io.formats.style.Styler at 0x7f636af7e9d0>"
            ]
          },
          "metadata": {}
        }
      ]
    },
    {
      "cell_type": "code",
      "metadata": {
        "id": "9e_wD4UIh_lB"
      },
      "source": [
        "#XGB Kfold - 0.71769, LGBM - 0.71871, XGB - 0.71848\n",
        "weights = [.90, .05, .05]"
      ],
      "execution_count": null,
      "outputs": []
    },
    {
      "cell_type": "code",
      "metadata": {
        "colab": {
          "base_uri": "https://localhost:8080/"
        },
        "id": "uFMsTEiR5oS3",
        "outputId": "ad6caaf6-c9b0-484f-9b08-23280d772a3c"
      },
      "source": [
        "sum(weights)"
      ],
      "execution_count": null,
      "outputs": [
        {
          "output_type": "execute_result",
          "data": {
            "text/plain": [
              "1.0"
            ]
          },
          "metadata": {},
          "execution_count": 62
        }
      ]
    },
    {
      "cell_type": "code",
      "metadata": {
        "id": "fEfaHKq6itkS"
      },
      "source": [
        "sub_ense = pd.DataFrame()\n",
        "sub_ense['Id'] = test['id']\n",
        "sub_ense['target'] = (sub_XG['target'] * weights[0] + \n",
        "                      sub_LGBM['target'] * weights[1] +\n",
        "                      sub_XG_full['target'] * weights[2]\n",
        "                      )"
      ],
      "execution_count": null,
      "outputs": []
    },
    {
      "cell_type": "code",
      "metadata": {
        "colab": {
          "base_uri": "https://localhost:8080/",
          "height": 204
        },
        "id": "CgETrChSi-Tj",
        "outputId": "1b5f320f-19d3-45cb-eb0c-08a8592bb0b0"
      },
      "source": [
        "sub_ense.head()"
      ],
      "execution_count": null,
      "outputs": [
        {
          "output_type": "execute_result",
          "data": {
            "text/html": [
              "<div>\n",
              "<style scoped>\n",
              "    .dataframe tbody tr th:only-of-type {\n",
              "        vertical-align: middle;\n",
              "    }\n",
              "\n",
              "    .dataframe tbody tr th {\n",
              "        vertical-align: top;\n",
              "    }\n",
              "\n",
              "    .dataframe thead th {\n",
              "        text-align: right;\n",
              "    }\n",
              "</style>\n",
              "<table border=\"1\" class=\"dataframe\">\n",
              "  <thead>\n",
              "    <tr style=\"text-align: right;\">\n",
              "      <th></th>\n",
              "      <th>Id</th>\n",
              "      <th>target</th>\n",
              "    </tr>\n",
              "  </thead>\n",
              "  <tbody>\n",
              "    <tr>\n",
              "      <th>0</th>\n",
              "      <td>0</td>\n",
              "      <td>8.086362</td>\n",
              "    </tr>\n",
              "    <tr>\n",
              "      <th>1</th>\n",
              "      <td>5</td>\n",
              "      <td>8.405074</td>\n",
              "    </tr>\n",
              "    <tr>\n",
              "      <th>2</th>\n",
              "      <td>15</td>\n",
              "      <td>8.421106</td>\n",
              "    </tr>\n",
              "    <tr>\n",
              "      <th>3</th>\n",
              "      <td>16</td>\n",
              "      <td>8.503646</td>\n",
              "    </tr>\n",
              "    <tr>\n",
              "      <th>4</th>\n",
              "      <td>17</td>\n",
              "      <td>8.111264</td>\n",
              "    </tr>\n",
              "  </tbody>\n",
              "</table>\n",
              "</div>"
            ],
            "text/plain": [
              "   Id    target\n",
              "0   0  8.086362\n",
              "1   5  8.405074\n",
              "2  15  8.421106\n",
              "3  16  8.503646\n",
              "4  17  8.111264"
            ]
          },
          "metadata": {},
          "execution_count": 64
        }
      ]
    },
    {
      "cell_type": "code",
      "metadata": {
        "id": "-YtSn74133zS"
      },
      "source": [
        "sub_ense.to_csv('ensemble.csv', index=False)"
      ],
      "execution_count": null,
      "outputs": []
    },
    {
      "cell_type": "code",
      "metadata": {
        "id": "Na1Aml_1iGFB"
      },
      "source": [
        "# sub_XG.to_csv('XGB-ensembleKF.csv', index=False)\n",
        "sub_LGBM.to_csv('LGBM-ensemble.csv', index=False)\n",
        "# sub_ense.to_csv('ensemble.csv', index=False)"
      ],
      "execution_count": null,
      "outputs": []
    },
    {
      "cell_type": "code",
      "metadata": {
        "id": "1xR9ayVCiGCH",
        "colab": {
          "base_uri": "https://localhost:8080/",
          "height": 17
        },
        "outputId": "03fd2e3a-fbac-4294-d2ac-b7d654df7f2e"
      },
      "source": [
        "files.download('LGBM-ensemble.csv')"
      ],
      "execution_count": null,
      "outputs": [
        {
          "output_type": "display_data",
          "data": {
            "application/javascript": [
              "\n",
              "    async function download(id, filename, size) {\n",
              "      if (!google.colab.kernel.accessAllowed) {\n",
              "        return;\n",
              "      }\n",
              "      const div = document.createElement('div');\n",
              "      const label = document.createElement('label');\n",
              "      label.textContent = `Downloading \"${filename}\": `;\n",
              "      div.appendChild(label);\n",
              "      const progress = document.createElement('progress');\n",
              "      progress.max = size;\n",
              "      div.appendChild(progress);\n",
              "      document.body.appendChild(div);\n",
              "\n",
              "      const buffers = [];\n",
              "      let downloaded = 0;\n",
              "\n",
              "      const channel = await google.colab.kernel.comms.open(id);\n",
              "      // Send a message to notify the kernel that we're ready.\n",
              "      channel.send({})\n",
              "\n",
              "      for await (const message of channel.messages) {\n",
              "        // Send a message to notify the kernel that we're ready.\n",
              "        channel.send({})\n",
              "        if (message.buffers) {\n",
              "          for (const buffer of message.buffers) {\n",
              "            buffers.push(buffer);\n",
              "            downloaded += buffer.byteLength;\n",
              "            progress.value = downloaded;\n",
              "          }\n",
              "        }\n",
              "      }\n",
              "      const blob = new Blob(buffers, {type: 'application/binary'});\n",
              "      const a = document.createElement('a');\n",
              "      a.href = window.URL.createObjectURL(blob);\n",
              "      a.download = filename;\n",
              "      div.appendChild(a);\n",
              "      a.click();\n",
              "      div.remove();\n",
              "    }\n",
              "  "
            ],
            "text/plain": [
              "<IPython.core.display.Javascript object>"
            ]
          },
          "metadata": {}
        },
        {
          "output_type": "display_data",
          "data": {
            "application/javascript": [
              "download(\"download_db4bf359-dc64-42b0-8da0-855511a6910f\", \"LGBM-ensemble.csv\", 4920671)"
            ],
            "text/plain": [
              "<IPython.core.display.Javascript object>"
            ]
          },
          "metadata": {}
        }
      ]
    },
    {
      "cell_type": "code",
      "metadata": {
        "colab": {
          "base_uri": "https://localhost:8080/",
          "height": 34
        },
        "id": "cFZ7Lz2WiF6P",
        "outputId": "64a9042b-c8fd-466e-b4e9-1be27115d922"
      },
      "source": [
        "files.download('ensemble.csv')"
      ],
      "execution_count": null,
      "outputs": [
        {
          "output_type": "display_data",
          "data": {
            "application/javascript": [
              "\n",
              "    async function download(id, filename, size) {\n",
              "      if (!google.colab.kernel.accessAllowed) {\n",
              "        return;\n",
              "      }\n",
              "      const div = document.createElement('div');\n",
              "      const label = document.createElement('label');\n",
              "      label.textContent = `Downloading \"${filename}\": `;\n",
              "      div.appendChild(label);\n",
              "      const progress = document.createElement('progress');\n",
              "      progress.max = size;\n",
              "      div.appendChild(progress);\n",
              "      document.body.appendChild(div);\n",
              "\n",
              "      const buffers = [];\n",
              "      let downloaded = 0;\n",
              "\n",
              "      const channel = await google.colab.kernel.comms.open(id);\n",
              "      // Send a message to notify the kernel that we're ready.\n",
              "      channel.send({})\n",
              "\n",
              "      for await (const message of channel.messages) {\n",
              "        // Send a message to notify the kernel that we're ready.\n",
              "        channel.send({})\n",
              "        if (message.buffers) {\n",
              "          for (const buffer of message.buffers) {\n",
              "            buffers.push(buffer);\n",
              "            downloaded += buffer.byteLength;\n",
              "            progress.value = downloaded;\n",
              "          }\n",
              "        }\n",
              "      }\n",
              "      const blob = new Blob(buffers, {type: 'application/binary'});\n",
              "      const a = document.createElement('a');\n",
              "      a.href = window.URL.createObjectURL(blob);\n",
              "      a.download = filename;\n",
              "      div.appendChild(a);\n",
              "      a.click();\n",
              "      div.remove();\n",
              "    }\n",
              "  "
            ],
            "text/plain": [
              "<IPython.core.display.Javascript object>"
            ]
          },
          "metadata": {}
        },
        {
          "output_type": "display_data",
          "data": {
            "application/javascript": [
              "download(\"download_a25699a6-b3c9-41c7-b8a6-83ffbe60ae97\", \"ensemble.csv\", 4921289)"
            ],
            "text/plain": [
              "<IPython.core.display.Javascript object>"
            ]
          },
          "metadata": {}
        }
      ]
    },
    {
      "cell_type": "code",
      "metadata": {
        "id": "v94GbR6B31k_"
      },
      "source": [
        ""
      ],
      "execution_count": null,
      "outputs": []
    }
  ]
}