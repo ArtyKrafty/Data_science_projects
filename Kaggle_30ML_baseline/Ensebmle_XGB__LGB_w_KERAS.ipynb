{
  "nbformat": 4,
  "nbformat_minor": 0,
  "metadata": {
    "colab": {
      "name": "Ensebmle_XGB _LGB_w_KERAS",
      "provenance": [],
      "collapsed_sections": [],
      "toc_visible": true
    },
    "kernelspec": {
      "name": "python3",
      "display_name": "Python 3"
    },
    "language_info": {
      "name": "python"
    },
    "accelerator": "GPU"
  },
  "cells": [
    {
      "cell_type": "markdown",
      "metadata": {
        "id": "tnE8BR8xS2Bg"
      },
      "source": [
        "![](https://i.ibb.co/G0sLBVs/30-Days-ML-Hero.png). \n",
        "\n",
        "\n",
        "Machine learning beginner → Kaggle competitor in 30 days. Non-coders welcome.\n",
        "\n",
        "\n",
        "\n",
        "The dataset is used for this competition is synthetic, but based on a real dataset. The original dataset deals with predicting the amount of an insurance claim. Although the features are anonymized, they have properties relating to real-world features."
      ]
    },
    {
      "cell_type": "markdown",
      "metadata": {
        "id": "ZDF_mHu0uZTW"
      },
      "source": [
        "# Loading data"
      ]
    },
    {
      "cell_type": "code",
      "metadata": {
        "id": "4d2K-X8S-jm_",
        "colab": {
          "resources": {
            "http://localhost:8080/nbextensions/google.colab/files.js": {
              "data": "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",
              "ok": true,
              "headers": [
                [
                  "content-type",
                  "application/javascript"
                ]
              ],
              "status": 200,
              "status_text": ""
            }
          },
          "base_uri": "https://localhost:8080/",
          "height": 89
        },
        "outputId": "80cbf354-a2f5-450e-d9da-641088100995"
      },
      "source": [
        "from google.colab import files\n",
        "files.upload()\n",
        "!pip install -q kaggle\n",
        "!mkdir -p ~/.kaggle\n",
        "!cp kaggle.json ~/.kaggle/\n",
        "!ls ~/.kaggle\n",
        "!chmod 600 /root/.kaggle/kaggle.json"
      ],
      "execution_count": 2,
      "outputs": [
        {
          "output_type": "display_data",
          "data": {
            "text/html": [
              "\n",
              "     <input type=\"file\" id=\"files-50ef7abb-44a0-41b6-8e54-b3732e61e94a\" name=\"files[]\" multiple disabled\n",
              "        style=\"border:none\" />\n",
              "     <output id=\"result-50ef7abb-44a0-41b6-8e54-b3732e61e94a\">\n",
              "      Upload widget is only available when the cell has been executed in the\n",
              "      current browser session. Please rerun this cell to enable.\n",
              "      </output>\n",
              "      <script src=\"/nbextensions/google.colab/files.js\"></script> "
            ],
            "text/plain": [
              "<IPython.core.display.HTML object>"
            ]
          },
          "metadata": {}
        },
        {
          "output_type": "stream",
          "text": [
            "Saving kaggle.json to kaggle.json\n",
            "kaggle.json\n"
          ],
          "name": "stdout"
        }
      ]
    },
    {
      "cell_type": "code",
      "metadata": {
        "id": "jNS_BNPtBv3p",
        "colab": {
          "base_uri": "https://localhost:8080/"
        },
        "outputId": "06012e28-5b3a-4838-e56e-44e37424e36c"
      },
      "source": [
        "! kaggle competitions download -c 30-days-of-ml -p /content/drive/My\\Drive/kaggle/30_ML"
      ],
      "execution_count": 3,
      "outputs": [
        {
          "output_type": "stream",
          "text": [
            "Warning: Looks like you're using an outdated API Version, please consider updating (server 1.5.12 / client 1.5.4)\n",
            "Downloading sample_submission.csv.zip to /content/drive/MyDrive/kaggle/30_ML\n",
            "  0% 0.00/470k [00:00<?, ?B/s]\n",
            "100% 470k/470k [00:00<00:00, 68.7MB/s]\n",
            "Downloading test.csv.zip to /content/drive/MyDrive/kaggle/30_ML\n",
            " 44% 11.0M/25.2M [00:00<00:00, 114MB/s]\n",
            "100% 25.2M/25.2M [00:00<00:00, 121MB/s]\n",
            "Downloading train.csv.zip to /content/drive/MyDrive/kaggle/30_ML\n",
            " 60% 24.0M/40.3M [00:00<00:00, 88.2MB/s]\n",
            "100% 40.3M/40.3M [00:00<00:00, 134MB/s] \n"
          ],
          "name": "stdout"
        }
      ]
    },
    {
      "cell_type": "code",
      "metadata": {
        "id": "CsxEWf5q-yWX"
      },
      "source": [
        "%%capture\n",
        "!pip install catboost"
      ],
      "execution_count": 4,
      "outputs": []
    },
    {
      "cell_type": "code",
      "metadata": {
        "id": "HAgwkJmE5pjY"
      },
      "source": [
        "%%capture\n",
        "!pip install category_encoders"
      ],
      "execution_count": 5,
      "outputs": []
    },
    {
      "cell_type": "code",
      "metadata": {
        "id": "XDA0jHruqlhr"
      },
      "source": [
        "%%capture\n",
        "!pip install -U keras-tuner"
      ],
      "execution_count": 6,
      "outputs": []
    },
    {
      "cell_type": "code",
      "metadata": {
        "id": "CAJYCejs_MDZ",
        "colab": {
          "base_uri": "https://localhost:8080/"
        },
        "outputId": "73bf8992-cec8-4873-8e4f-0d6800758793"
      },
      "source": [
        "import pandas as pd\n",
        "import numpy as np\n",
        "\n",
        "import matplotlib.pyplot as plt\n",
        "import seaborn as sns\n",
        "\n",
        "from tensorflow.keras import Sequential\n",
        "from tensorflow.keras.layers import Conv2D, Flatten, Dense, MaxPooling2D, Dropout, BatchNormalization\n",
        "from sklearn.metrics import mean_squared_error, mean_absolute_error\n",
        "from xgboost import XGBRegressor\n",
        "from tensorflow.keras.optimizers import Adam\n",
        "\n",
        "from sklearn.cluster import KMeans\n",
        "from sklearn.preprocessing import StandardScaler\n",
        "from sklearn.model_selection import train_test_split\n",
        "from sklearn.model_selection import KFold, GridSearchCV, RandomizedSearchCV\n",
        "from sklearn.linear_model import ElasticNet\n",
        "import warnings\n",
        "from kerastuner.tuners import RandomSearch\n",
        "from sklearn.preprocessing import OrdinalEncoder \n",
        "from sklearn.preprocessing import LabelEncoder\n",
        "\n",
        "\n",
        "from tensorflow import keras\n",
        "from tensorflow.keras import layers, callbacks\n",
        "from tensorflow.keras.callbacks import EarlyStopping\n",
        "from keras import backend as K\n",
        "from category_encoders import MEstimateEncoder\n",
        "\n",
        "from sklearn.ensemble import VotingRegressor\n",
        "from scipy.stats import reciprocal, uniform\n",
        "\n",
        "from catboost import CatBoostRegressor\n",
        "from catboost import Pool\n",
        "import lightgbm as lgb\n",
        "from lightgbm import LGBMRegressor\n",
        "\n",
        "\n",
        "warnings.filterwarnings(\"ignore\")\n",
        "sns.set_style(\"darkgrid\")\n",
        "%matplotlib inline\n"
      ],
      "execution_count": 7,
      "outputs": [
        {
          "output_type": "stream",
          "text": [
            "/usr/local/lib/python3.7/dist-packages/ipykernel_launcher.py:18: DeprecationWarning: `import kerastuner` is deprecated, please use `import keras_tuner`.\n",
            "/usr/local/lib/python3.7/dist-packages/statsmodels/tools/_testing.py:19: FutureWarning: pandas.util.testing is deprecated. Use the functions in the public API at pandas.testing instead.\n",
            "  import pandas.util.testing as tm\n"
          ],
          "name": "stderr"
        }
      ]
    },
    {
      "cell_type": "code",
      "metadata": {
        "id": "dFQivx9IAFp5"
      },
      "source": [
        "train = pd.read_csv('/content/drive/MyDrive/kaggle/30_ML/train.csv.zip')\n",
        "test = pd.read_csv('/content/drive/MyDrive/kaggle/30_ML/test.csv.zip')"
      ],
      "execution_count": 8,
      "outputs": []
    },
    {
      "cell_type": "code",
      "metadata": {
        "id": "iY51YQRcq7ou",
        "colab": {
          "base_uri": "https://localhost:8080/",
          "height": 224
        },
        "outputId": "2a9d41a4-a44e-4c5a-f4c8-a2b677e0844b"
      },
      "source": [
        "train.head()"
      ],
      "execution_count": 9,
      "outputs": [
        {
          "output_type": "execute_result",
          "data": {
            "text/html": [
              "<div>\n",
              "<style scoped>\n",
              "    .dataframe tbody tr th:only-of-type {\n",
              "        vertical-align: middle;\n",
              "    }\n",
              "\n",
              "    .dataframe tbody tr th {\n",
              "        vertical-align: top;\n",
              "    }\n",
              "\n",
              "    .dataframe thead th {\n",
              "        text-align: right;\n",
              "    }\n",
              "</style>\n",
              "<table border=\"1\" class=\"dataframe\">\n",
              "  <thead>\n",
              "    <tr style=\"text-align: right;\">\n",
              "      <th></th>\n",
              "      <th>id</th>\n",
              "      <th>cat0</th>\n",
              "      <th>cat1</th>\n",
              "      <th>cat2</th>\n",
              "      <th>cat3</th>\n",
              "      <th>cat4</th>\n",
              "      <th>cat5</th>\n",
              "      <th>cat6</th>\n",
              "      <th>cat7</th>\n",
              "      <th>cat8</th>\n",
              "      <th>cat9</th>\n",
              "      <th>cont0</th>\n",
              "      <th>cont1</th>\n",
              "      <th>cont2</th>\n",
              "      <th>cont3</th>\n",
              "      <th>cont4</th>\n",
              "      <th>cont5</th>\n",
              "      <th>cont6</th>\n",
              "      <th>cont7</th>\n",
              "      <th>cont8</th>\n",
              "      <th>cont9</th>\n",
              "      <th>cont10</th>\n",
              "      <th>cont11</th>\n",
              "      <th>cont12</th>\n",
              "      <th>cont13</th>\n",
              "      <th>target</th>\n",
              "    </tr>\n",
              "  </thead>\n",
              "  <tbody>\n",
              "    <tr>\n",
              "      <th>0</th>\n",
              "      <td>1</td>\n",
              "      <td>B</td>\n",
              "      <td>B</td>\n",
              "      <td>B</td>\n",
              "      <td>C</td>\n",
              "      <td>B</td>\n",
              "      <td>B</td>\n",
              "      <td>A</td>\n",
              "      <td>E</td>\n",
              "      <td>C</td>\n",
              "      <td>N</td>\n",
              "      <td>0.201470</td>\n",
              "      <td>-0.014822</td>\n",
              "      <td>0.669699</td>\n",
              "      <td>0.136278</td>\n",
              "      <td>0.610706</td>\n",
              "      <td>0.400361</td>\n",
              "      <td>0.160266</td>\n",
              "      <td>0.310921</td>\n",
              "      <td>0.389470</td>\n",
              "      <td>0.267559</td>\n",
              "      <td>0.237281</td>\n",
              "      <td>0.377873</td>\n",
              "      <td>0.322401</td>\n",
              "      <td>0.869850</td>\n",
              "      <td>8.113634</td>\n",
              "    </tr>\n",
              "    <tr>\n",
              "      <th>1</th>\n",
              "      <td>2</td>\n",
              "      <td>B</td>\n",
              "      <td>B</td>\n",
              "      <td>A</td>\n",
              "      <td>A</td>\n",
              "      <td>B</td>\n",
              "      <td>D</td>\n",
              "      <td>A</td>\n",
              "      <td>F</td>\n",
              "      <td>A</td>\n",
              "      <td>O</td>\n",
              "      <td>0.743068</td>\n",
              "      <td>0.367411</td>\n",
              "      <td>1.021605</td>\n",
              "      <td>0.365798</td>\n",
              "      <td>0.276853</td>\n",
              "      <td>0.533087</td>\n",
              "      <td>0.558922</td>\n",
              "      <td>0.516294</td>\n",
              "      <td>0.594928</td>\n",
              "      <td>0.341439</td>\n",
              "      <td>0.906013</td>\n",
              "      <td>0.921701</td>\n",
              "      <td>0.261975</td>\n",
              "      <td>0.465083</td>\n",
              "      <td>8.481233</td>\n",
              "    </tr>\n",
              "    <tr>\n",
              "      <th>2</th>\n",
              "      <td>3</td>\n",
              "      <td>A</td>\n",
              "      <td>A</td>\n",
              "      <td>A</td>\n",
              "      <td>C</td>\n",
              "      <td>B</td>\n",
              "      <td>D</td>\n",
              "      <td>A</td>\n",
              "      <td>D</td>\n",
              "      <td>A</td>\n",
              "      <td>F</td>\n",
              "      <td>0.742708</td>\n",
              "      <td>0.310383</td>\n",
              "      <td>-0.012673</td>\n",
              "      <td>0.576957</td>\n",
              "      <td>0.285074</td>\n",
              "      <td>0.650609</td>\n",
              "      <td>0.375348</td>\n",
              "      <td>0.902567</td>\n",
              "      <td>0.555205</td>\n",
              "      <td>0.843531</td>\n",
              "      <td>0.748809</td>\n",
              "      <td>0.620126</td>\n",
              "      <td>0.541474</td>\n",
              "      <td>0.763846</td>\n",
              "      <td>8.364351</td>\n",
              "    </tr>\n",
              "    <tr>\n",
              "      <th>3</th>\n",
              "      <td>4</td>\n",
              "      <td>B</td>\n",
              "      <td>B</td>\n",
              "      <td>A</td>\n",
              "      <td>C</td>\n",
              "      <td>B</td>\n",
              "      <td>D</td>\n",
              "      <td>A</td>\n",
              "      <td>E</td>\n",
              "      <td>C</td>\n",
              "      <td>K</td>\n",
              "      <td>0.429551</td>\n",
              "      <td>0.620998</td>\n",
              "      <td>0.577942</td>\n",
              "      <td>0.280610</td>\n",
              "      <td>0.284667</td>\n",
              "      <td>0.668980</td>\n",
              "      <td>0.239061</td>\n",
              "      <td>0.732948</td>\n",
              "      <td>0.679618</td>\n",
              "      <td>0.574844</td>\n",
              "      <td>0.346010</td>\n",
              "      <td>0.714610</td>\n",
              "      <td>0.540150</td>\n",
              "      <td>0.280682</td>\n",
              "      <td>8.049253</td>\n",
              "    </tr>\n",
              "    <tr>\n",
              "      <th>4</th>\n",
              "      <td>6</td>\n",
              "      <td>A</td>\n",
              "      <td>A</td>\n",
              "      <td>A</td>\n",
              "      <td>C</td>\n",
              "      <td>B</td>\n",
              "      <td>D</td>\n",
              "      <td>A</td>\n",
              "      <td>E</td>\n",
              "      <td>A</td>\n",
              "      <td>N</td>\n",
              "      <td>1.058291</td>\n",
              "      <td>0.367492</td>\n",
              "      <td>-0.052389</td>\n",
              "      <td>0.232407</td>\n",
              "      <td>0.287595</td>\n",
              "      <td>0.686964</td>\n",
              "      <td>0.420667</td>\n",
              "      <td>0.648182</td>\n",
              "      <td>0.684501</td>\n",
              "      <td>0.956692</td>\n",
              "      <td>1.000773</td>\n",
              "      <td>0.776742</td>\n",
              "      <td>0.625849</td>\n",
              "      <td>0.250823</td>\n",
              "      <td>7.972260</td>\n",
              "    </tr>\n",
              "  </tbody>\n",
              "</table>\n",
              "</div>"
            ],
            "text/plain": [
              "   id cat0 cat1 cat2 cat3  ...    cont10    cont11    cont12    cont13    target\n",
              "0   1    B    B    B    C  ...  0.237281  0.377873  0.322401  0.869850  8.113634\n",
              "1   2    B    B    A    A  ...  0.906013  0.921701  0.261975  0.465083  8.481233\n",
              "2   3    A    A    A    C  ...  0.748809  0.620126  0.541474  0.763846  8.364351\n",
              "3   4    B    B    A    C  ...  0.346010  0.714610  0.540150  0.280682  8.049253\n",
              "4   6    A    A    A    C  ...  1.000773  0.776742  0.625849  0.250823  7.972260\n",
              "\n",
              "[5 rows x 26 columns]"
            ]
          },
          "metadata": {},
          "execution_count": 9
        }
      ]
    },
    {
      "cell_type": "code",
      "metadata": {
        "id": "AU6V-cVUeQtV",
        "colab": {
          "base_uri": "https://localhost:8080/",
          "height": 224
        },
        "outputId": "38839231-d462-4a46-c7ae-87e81a1a2f39"
      },
      "source": [
        "test.head()"
      ],
      "execution_count": 10,
      "outputs": [
        {
          "output_type": "execute_result",
          "data": {
            "text/html": [
              "<div>\n",
              "<style scoped>\n",
              "    .dataframe tbody tr th:only-of-type {\n",
              "        vertical-align: middle;\n",
              "    }\n",
              "\n",
              "    .dataframe tbody tr th {\n",
              "        vertical-align: top;\n",
              "    }\n",
              "\n",
              "    .dataframe thead th {\n",
              "        text-align: right;\n",
              "    }\n",
              "</style>\n",
              "<table border=\"1\" class=\"dataframe\">\n",
              "  <thead>\n",
              "    <tr style=\"text-align: right;\">\n",
              "      <th></th>\n",
              "      <th>id</th>\n",
              "      <th>cat0</th>\n",
              "      <th>cat1</th>\n",
              "      <th>cat2</th>\n",
              "      <th>cat3</th>\n",
              "      <th>cat4</th>\n",
              "      <th>cat5</th>\n",
              "      <th>cat6</th>\n",
              "      <th>cat7</th>\n",
              "      <th>cat8</th>\n",
              "      <th>cat9</th>\n",
              "      <th>cont0</th>\n",
              "      <th>cont1</th>\n",
              "      <th>cont2</th>\n",
              "      <th>cont3</th>\n",
              "      <th>cont4</th>\n",
              "      <th>cont5</th>\n",
              "      <th>cont6</th>\n",
              "      <th>cont7</th>\n",
              "      <th>cont8</th>\n",
              "      <th>cont9</th>\n",
              "      <th>cont10</th>\n",
              "      <th>cont11</th>\n",
              "      <th>cont12</th>\n",
              "      <th>cont13</th>\n",
              "    </tr>\n",
              "  </thead>\n",
              "  <tbody>\n",
              "    <tr>\n",
              "      <th>0</th>\n",
              "      <td>0</td>\n",
              "      <td>B</td>\n",
              "      <td>B</td>\n",
              "      <td>B</td>\n",
              "      <td>C</td>\n",
              "      <td>B</td>\n",
              "      <td>B</td>\n",
              "      <td>A</td>\n",
              "      <td>E</td>\n",
              "      <td>E</td>\n",
              "      <td>I</td>\n",
              "      <td>0.296227</td>\n",
              "      <td>0.686757</td>\n",
              "      <td>0.587731</td>\n",
              "      <td>0.392753</td>\n",
              "      <td>0.476739</td>\n",
              "      <td>0.376350</td>\n",
              "      <td>0.337884</td>\n",
              "      <td>0.321832</td>\n",
              "      <td>0.445212</td>\n",
              "      <td>0.290258</td>\n",
              "      <td>0.244476</td>\n",
              "      <td>0.087914</td>\n",
              "      <td>0.301831</td>\n",
              "      <td>0.845702</td>\n",
              "    </tr>\n",
              "    <tr>\n",
              "      <th>1</th>\n",
              "      <td>5</td>\n",
              "      <td>A</td>\n",
              "      <td>B</td>\n",
              "      <td>A</td>\n",
              "      <td>C</td>\n",
              "      <td>B</td>\n",
              "      <td>C</td>\n",
              "      <td>A</td>\n",
              "      <td>E</td>\n",
              "      <td>C</td>\n",
              "      <td>H</td>\n",
              "      <td>0.543707</td>\n",
              "      <td>0.364761</td>\n",
              "      <td>0.452967</td>\n",
              "      <td>0.929645</td>\n",
              "      <td>0.285509</td>\n",
              "      <td>0.860046</td>\n",
              "      <td>0.798712</td>\n",
              "      <td>0.835961</td>\n",
              "      <td>0.391657</td>\n",
              "      <td>0.288276</td>\n",
              "      <td>0.549568</td>\n",
              "      <td>0.905097</td>\n",
              "      <td>0.850684</td>\n",
              "      <td>0.693940</td>\n",
              "    </tr>\n",
              "    <tr>\n",
              "      <th>2</th>\n",
              "      <td>15</td>\n",
              "      <td>B</td>\n",
              "      <td>A</td>\n",
              "      <td>A</td>\n",
              "      <td>A</td>\n",
              "      <td>B</td>\n",
              "      <td>B</td>\n",
              "      <td>A</td>\n",
              "      <td>E</td>\n",
              "      <td>D</td>\n",
              "      <td>K</td>\n",
              "      <td>0.408961</td>\n",
              "      <td>0.296129</td>\n",
              "      <td>0.690999</td>\n",
              "      <td>0.740027</td>\n",
              "      <td>0.697272</td>\n",
              "      <td>0.683600</td>\n",
              "      <td>0.404089</td>\n",
              "      <td>0.879379</td>\n",
              "      <td>0.275549</td>\n",
              "      <td>0.427871</td>\n",
              "      <td>0.491667</td>\n",
              "      <td>0.384315</td>\n",
              "      <td>0.376689</td>\n",
              "      <td>0.508099</td>\n",
              "    </tr>\n",
              "    <tr>\n",
              "      <th>3</th>\n",
              "      <td>16</td>\n",
              "      <td>B</td>\n",
              "      <td>B</td>\n",
              "      <td>A</td>\n",
              "      <td>C</td>\n",
              "      <td>B</td>\n",
              "      <td>D</td>\n",
              "      <td>A</td>\n",
              "      <td>E</td>\n",
              "      <td>A</td>\n",
              "      <td>N</td>\n",
              "      <td>1.031239</td>\n",
              "      <td>0.356062</td>\n",
              "      <td>0.303651</td>\n",
              "      <td>0.895591</td>\n",
              "      <td>0.719306</td>\n",
              "      <td>0.777890</td>\n",
              "      <td>0.730954</td>\n",
              "      <td>0.644315</td>\n",
              "      <td>1.024017</td>\n",
              "      <td>0.391090</td>\n",
              "      <td>0.988340</td>\n",
              "      <td>0.411828</td>\n",
              "      <td>0.393585</td>\n",
              "      <td>0.461372</td>\n",
              "    </tr>\n",
              "    <tr>\n",
              "      <th>4</th>\n",
              "      <td>17</td>\n",
              "      <td>B</td>\n",
              "      <td>B</td>\n",
              "      <td>A</td>\n",
              "      <td>C</td>\n",
              "      <td>B</td>\n",
              "      <td>C</td>\n",
              "      <td>A</td>\n",
              "      <td>E</td>\n",
              "      <td>C</td>\n",
              "      <td>F</td>\n",
              "      <td>0.530447</td>\n",
              "      <td>0.729004</td>\n",
              "      <td>0.281723</td>\n",
              "      <td>0.444698</td>\n",
              "      <td>0.313032</td>\n",
              "      <td>0.431007</td>\n",
              "      <td>0.390992</td>\n",
              "      <td>0.408874</td>\n",
              "      <td>0.447887</td>\n",
              "      <td>0.390253</td>\n",
              "      <td>0.648932</td>\n",
              "      <td>0.385935</td>\n",
              "      <td>0.370401</td>\n",
              "      <td>0.900412</td>\n",
              "    </tr>\n",
              "  </tbody>\n",
              "</table>\n",
              "</div>"
            ],
            "text/plain": [
              "   id cat0 cat1 cat2 cat3  ...     cont9    cont10    cont11    cont12    cont13\n",
              "0   0    B    B    B    C  ...  0.290258  0.244476  0.087914  0.301831  0.845702\n",
              "1   5    A    B    A    C  ...  0.288276  0.549568  0.905097  0.850684  0.693940\n",
              "2  15    B    A    A    A  ...  0.427871  0.491667  0.384315  0.376689  0.508099\n",
              "3  16    B    B    A    C  ...  0.391090  0.988340  0.411828  0.393585  0.461372\n",
              "4  17    B    B    A    C  ...  0.390253  0.648932  0.385935  0.370401  0.900412\n",
              "\n",
              "[5 rows x 25 columns]"
            ]
          },
          "metadata": {},
          "execution_count": 10
        }
      ]
    },
    {
      "cell_type": "code",
      "metadata": {
        "id": "iaMUFP5le_XN"
      },
      "source": [
        "def split_data(data, target_column):\n",
        "    return data.drop(columns=[target_column], axis=1), data[target_column]"
      ],
      "execution_count": 11,
      "outputs": []
    },
    {
      "cell_type": "code",
      "metadata": {
        "id": "zQe_tX1HgAuv"
      },
      "source": [
        "X_test = test.drop(['id'], axis=1)"
      ],
      "execution_count": 12,
      "outputs": []
    },
    {
      "cell_type": "markdown",
      "metadata": {
        "id": "cv2KjN9UiDzX"
      },
      "source": [
        "# Ensemble"
      ]
    },
    {
      "cell_type": "code",
      "metadata": {
        "id": "FqzfuZsq4xag"
      },
      "source": [
        "features, target = split_data(train, 'target')\n"
      ],
      "execution_count": 13,
      "outputs": []
    },
    {
      "cell_type": "code",
      "metadata": {
        "colab": {
          "base_uri": "https://localhost:8080/"
        },
        "id": "dDpkgKOiiZhB",
        "outputId": "a11064d7-57bc-4aaa-a1e4-b9d945f6901c"
      },
      "source": [
        "features.shape"
      ],
      "execution_count": 13,
      "outputs": [
        {
          "output_type": "execute_result",
          "data": {
            "text/plain": [
              "(300000, 25)"
            ]
          },
          "metadata": {},
          "execution_count": 13
        }
      ]
    },
    {
      "cell_type": "code",
      "metadata": {
        "colab": {
          "base_uri": "https://localhost:8080/"
        },
        "id": "25kaq6sPiZhC",
        "outputId": "e5a9b33f-9f2d-457e-8bd4-53f3ccbd6669"
      },
      "source": [
        "cat_feature = list(features.select_dtypes(include=['object']))\n",
        "cat_feature "
      ],
      "execution_count": 14,
      "outputs": [
        {
          "output_type": "execute_result",
          "data": {
            "text/plain": [
              "['cat0',\n",
              " 'cat1',\n",
              " 'cat2',\n",
              " 'cat3',\n",
              " 'cat4',\n",
              " 'cat5',\n",
              " 'cat6',\n",
              " 'cat7',\n",
              " 'cat8',\n",
              " 'cat9']"
            ]
          },
          "metadata": {},
          "execution_count": 14
        }
      ]
    },
    {
      "cell_type": "code",
      "metadata": {
        "id": "Q1SWB4AWiZhC"
      },
      "source": [
        "encoder = LabelEncoder()"
      ],
      "execution_count": 15,
      "outputs": []
    },
    {
      "cell_type": "code",
      "metadata": {
        "id": "1PBJIzSQiZhC"
      },
      "source": [
        "for cat in cat_feature:\n",
        "    encoder = LabelEncoder()\n",
        "    encoder.fit(list(features[cat].values)) \n",
        "    features[cat] = encoder.transform(list(features[cat].values))\n"
      ],
      "execution_count": 16,
      "outputs": []
    },
    {
      "cell_type": "code",
      "metadata": {
        "colab": {
          "base_uri": "https://localhost:8080/",
          "height": 224
        },
        "id": "MOzkVAEdiZhC",
        "outputId": "c9ad6228-f434-4028-ab7a-7e413295e05c"
      },
      "source": [
        "features.head()"
      ],
      "execution_count": 17,
      "outputs": [
        {
          "output_type": "execute_result",
          "data": {
            "text/html": [
              "<div>\n",
              "<style scoped>\n",
              "    .dataframe tbody tr th:only-of-type {\n",
              "        vertical-align: middle;\n",
              "    }\n",
              "\n",
              "    .dataframe tbody tr th {\n",
              "        vertical-align: top;\n",
              "    }\n",
              "\n",
              "    .dataframe thead th {\n",
              "        text-align: right;\n",
              "    }\n",
              "</style>\n",
              "<table border=\"1\" class=\"dataframe\">\n",
              "  <thead>\n",
              "    <tr style=\"text-align: right;\">\n",
              "      <th></th>\n",
              "      <th>id</th>\n",
              "      <th>cat0</th>\n",
              "      <th>cat1</th>\n",
              "      <th>cat2</th>\n",
              "      <th>cat3</th>\n",
              "      <th>cat4</th>\n",
              "      <th>cat5</th>\n",
              "      <th>cat6</th>\n",
              "      <th>cat7</th>\n",
              "      <th>cat8</th>\n",
              "      <th>cat9</th>\n",
              "      <th>cont0</th>\n",
              "      <th>cont1</th>\n",
              "      <th>cont2</th>\n",
              "      <th>cont3</th>\n",
              "      <th>cont4</th>\n",
              "      <th>cont5</th>\n",
              "      <th>cont6</th>\n",
              "      <th>cont7</th>\n",
              "      <th>cont8</th>\n",
              "      <th>cont9</th>\n",
              "      <th>cont10</th>\n",
              "      <th>cont11</th>\n",
              "      <th>cont12</th>\n",
              "      <th>cont13</th>\n",
              "    </tr>\n",
              "  </thead>\n",
              "  <tbody>\n",
              "    <tr>\n",
              "      <th>0</th>\n",
              "      <td>1</td>\n",
              "      <td>1</td>\n",
              "      <td>1</td>\n",
              "      <td>1</td>\n",
              "      <td>2</td>\n",
              "      <td>1</td>\n",
              "      <td>1</td>\n",
              "      <td>0</td>\n",
              "      <td>4</td>\n",
              "      <td>2</td>\n",
              "      <td>13</td>\n",
              "      <td>0.201470</td>\n",
              "      <td>-0.014822</td>\n",
              "      <td>0.669699</td>\n",
              "      <td>0.136278</td>\n",
              "      <td>0.610706</td>\n",
              "      <td>0.400361</td>\n",
              "      <td>0.160266</td>\n",
              "      <td>0.310921</td>\n",
              "      <td>0.389470</td>\n",
              "      <td>0.267559</td>\n",
              "      <td>0.237281</td>\n",
              "      <td>0.377873</td>\n",
              "      <td>0.322401</td>\n",
              "      <td>0.869850</td>\n",
              "    </tr>\n",
              "    <tr>\n",
              "      <th>1</th>\n",
              "      <td>2</td>\n",
              "      <td>1</td>\n",
              "      <td>1</td>\n",
              "      <td>0</td>\n",
              "      <td>0</td>\n",
              "      <td>1</td>\n",
              "      <td>3</td>\n",
              "      <td>0</td>\n",
              "      <td>5</td>\n",
              "      <td>0</td>\n",
              "      <td>14</td>\n",
              "      <td>0.743068</td>\n",
              "      <td>0.367411</td>\n",
              "      <td>1.021605</td>\n",
              "      <td>0.365798</td>\n",
              "      <td>0.276853</td>\n",
              "      <td>0.533087</td>\n",
              "      <td>0.558922</td>\n",
              "      <td>0.516294</td>\n",
              "      <td>0.594928</td>\n",
              "      <td>0.341439</td>\n",
              "      <td>0.906013</td>\n",
              "      <td>0.921701</td>\n",
              "      <td>0.261975</td>\n",
              "      <td>0.465083</td>\n",
              "    </tr>\n",
              "    <tr>\n",
              "      <th>2</th>\n",
              "      <td>3</td>\n",
              "      <td>0</td>\n",
              "      <td>0</td>\n",
              "      <td>0</td>\n",
              "      <td>2</td>\n",
              "      <td>1</td>\n",
              "      <td>3</td>\n",
              "      <td>0</td>\n",
              "      <td>3</td>\n",
              "      <td>0</td>\n",
              "      <td>5</td>\n",
              "      <td>0.742708</td>\n",
              "      <td>0.310383</td>\n",
              "      <td>-0.012673</td>\n",
              "      <td>0.576957</td>\n",
              "      <td>0.285074</td>\n",
              "      <td>0.650609</td>\n",
              "      <td>0.375348</td>\n",
              "      <td>0.902567</td>\n",
              "      <td>0.555205</td>\n",
              "      <td>0.843531</td>\n",
              "      <td>0.748809</td>\n",
              "      <td>0.620126</td>\n",
              "      <td>0.541474</td>\n",
              "      <td>0.763846</td>\n",
              "    </tr>\n",
              "    <tr>\n",
              "      <th>3</th>\n",
              "      <td>4</td>\n",
              "      <td>1</td>\n",
              "      <td>1</td>\n",
              "      <td>0</td>\n",
              "      <td>2</td>\n",
              "      <td>1</td>\n",
              "      <td>3</td>\n",
              "      <td>0</td>\n",
              "      <td>4</td>\n",
              "      <td>2</td>\n",
              "      <td>10</td>\n",
              "      <td>0.429551</td>\n",
              "      <td>0.620998</td>\n",
              "      <td>0.577942</td>\n",
              "      <td>0.280610</td>\n",
              "      <td>0.284667</td>\n",
              "      <td>0.668980</td>\n",
              "      <td>0.239061</td>\n",
              "      <td>0.732948</td>\n",
              "      <td>0.679618</td>\n",
              "      <td>0.574844</td>\n",
              "      <td>0.346010</td>\n",
              "      <td>0.714610</td>\n",
              "      <td>0.540150</td>\n",
              "      <td>0.280682</td>\n",
              "    </tr>\n",
              "    <tr>\n",
              "      <th>4</th>\n",
              "      <td>6</td>\n",
              "      <td>0</td>\n",
              "      <td>0</td>\n",
              "      <td>0</td>\n",
              "      <td>2</td>\n",
              "      <td>1</td>\n",
              "      <td>3</td>\n",
              "      <td>0</td>\n",
              "      <td>4</td>\n",
              "      <td>0</td>\n",
              "      <td>13</td>\n",
              "      <td>1.058291</td>\n",
              "      <td>0.367492</td>\n",
              "      <td>-0.052389</td>\n",
              "      <td>0.232407</td>\n",
              "      <td>0.287595</td>\n",
              "      <td>0.686964</td>\n",
              "      <td>0.420667</td>\n",
              "      <td>0.648182</td>\n",
              "      <td>0.684501</td>\n",
              "      <td>0.956692</td>\n",
              "      <td>1.000773</td>\n",
              "      <td>0.776742</td>\n",
              "      <td>0.625849</td>\n",
              "      <td>0.250823</td>\n",
              "    </tr>\n",
              "  </tbody>\n",
              "</table>\n",
              "</div>"
            ],
            "text/plain": [
              "   id  cat0  cat1  cat2  cat3  ...     cont9    cont10    cont11    cont12    cont13\n",
              "0   1     1     1     1     2  ...  0.267559  0.237281  0.377873  0.322401  0.869850\n",
              "1   2     1     1     0     0  ...  0.341439  0.906013  0.921701  0.261975  0.465083\n",
              "2   3     0     0     0     2  ...  0.843531  0.748809  0.620126  0.541474  0.763846\n",
              "3   4     1     1     0     2  ...  0.574844  0.346010  0.714610  0.540150  0.280682\n",
              "4   6     0     0     0     2  ...  0.956692  1.000773  0.776742  0.625849  0.250823\n",
              "\n",
              "[5 rows x 25 columns]"
            ]
          },
          "metadata": {},
          "execution_count": 17
        }
      ]
    },
    {
      "cell_type": "code",
      "metadata": {
        "id": "dAP7TudB6ZQB"
      },
      "source": [
        "features = features.drop('id', axis=1)"
      ],
      "execution_count": 18,
      "outputs": []
    },
    {
      "cell_type": "code",
      "metadata": {
        "id": "2g554IbXkH_u"
      },
      "source": [
        "test_id = test ['id']"
      ],
      "execution_count": 19,
      "outputs": []
    },
    {
      "cell_type": "code",
      "metadata": {
        "id": "crYCA-_IiD78"
      },
      "source": [
        "X_test = test.copy()\n",
        "for cat in cat_feature:\n",
        "    X_test[cat] = encoder.transform(list(X_test[cat].values))\n",
        "\n",
        "\n",
        "X_test_cv = X_test.drop(['id'], axis=1)"
      ],
      "execution_count": 20,
      "outputs": []
    },
    {
      "cell_type": "code",
      "metadata": {
        "colab": {
          "base_uri": "https://localhost:8080/",
          "height": 224
        },
        "id": "izYn40v2Cdb_",
        "outputId": "954eb826-eb3e-4743-b97b-3d6ad11399c4"
      },
      "source": [
        "X_test_cv.head()"
      ],
      "execution_count": 21,
      "outputs": [
        {
          "output_type": "execute_result",
          "data": {
            "text/html": [
              "<div>\n",
              "<style scoped>\n",
              "    .dataframe tbody tr th:only-of-type {\n",
              "        vertical-align: middle;\n",
              "    }\n",
              "\n",
              "    .dataframe tbody tr th {\n",
              "        vertical-align: top;\n",
              "    }\n",
              "\n",
              "    .dataframe thead th {\n",
              "        text-align: right;\n",
              "    }\n",
              "</style>\n",
              "<table border=\"1\" class=\"dataframe\">\n",
              "  <thead>\n",
              "    <tr style=\"text-align: right;\">\n",
              "      <th></th>\n",
              "      <th>cat0</th>\n",
              "      <th>cat1</th>\n",
              "      <th>cat2</th>\n",
              "      <th>cat3</th>\n",
              "      <th>cat4</th>\n",
              "      <th>cat5</th>\n",
              "      <th>cat6</th>\n",
              "      <th>cat7</th>\n",
              "      <th>cat8</th>\n",
              "      <th>cat9</th>\n",
              "      <th>cont0</th>\n",
              "      <th>cont1</th>\n",
              "      <th>cont2</th>\n",
              "      <th>cont3</th>\n",
              "      <th>cont4</th>\n",
              "      <th>cont5</th>\n",
              "      <th>cont6</th>\n",
              "      <th>cont7</th>\n",
              "      <th>cont8</th>\n",
              "      <th>cont9</th>\n",
              "      <th>cont10</th>\n",
              "      <th>cont11</th>\n",
              "      <th>cont12</th>\n",
              "      <th>cont13</th>\n",
              "    </tr>\n",
              "  </thead>\n",
              "  <tbody>\n",
              "    <tr>\n",
              "      <th>0</th>\n",
              "      <td>1</td>\n",
              "      <td>1</td>\n",
              "      <td>1</td>\n",
              "      <td>2</td>\n",
              "      <td>1</td>\n",
              "      <td>1</td>\n",
              "      <td>0</td>\n",
              "      <td>4</td>\n",
              "      <td>4</td>\n",
              "      <td>8</td>\n",
              "      <td>0.296227</td>\n",
              "      <td>0.686757</td>\n",
              "      <td>0.587731</td>\n",
              "      <td>0.392753</td>\n",
              "      <td>0.476739</td>\n",
              "      <td>0.376350</td>\n",
              "      <td>0.337884</td>\n",
              "      <td>0.321832</td>\n",
              "      <td>0.445212</td>\n",
              "      <td>0.290258</td>\n",
              "      <td>0.244476</td>\n",
              "      <td>0.087914</td>\n",
              "      <td>0.301831</td>\n",
              "      <td>0.845702</td>\n",
              "    </tr>\n",
              "    <tr>\n",
              "      <th>1</th>\n",
              "      <td>0</td>\n",
              "      <td>1</td>\n",
              "      <td>0</td>\n",
              "      <td>2</td>\n",
              "      <td>1</td>\n",
              "      <td>2</td>\n",
              "      <td>0</td>\n",
              "      <td>4</td>\n",
              "      <td>2</td>\n",
              "      <td>7</td>\n",
              "      <td>0.543707</td>\n",
              "      <td>0.364761</td>\n",
              "      <td>0.452967</td>\n",
              "      <td>0.929645</td>\n",
              "      <td>0.285509</td>\n",
              "      <td>0.860046</td>\n",
              "      <td>0.798712</td>\n",
              "      <td>0.835961</td>\n",
              "      <td>0.391657</td>\n",
              "      <td>0.288276</td>\n",
              "      <td>0.549568</td>\n",
              "      <td>0.905097</td>\n",
              "      <td>0.850684</td>\n",
              "      <td>0.693940</td>\n",
              "    </tr>\n",
              "    <tr>\n",
              "      <th>2</th>\n",
              "      <td>1</td>\n",
              "      <td>0</td>\n",
              "      <td>0</td>\n",
              "      <td>0</td>\n",
              "      <td>1</td>\n",
              "      <td>1</td>\n",
              "      <td>0</td>\n",
              "      <td>4</td>\n",
              "      <td>3</td>\n",
              "      <td>10</td>\n",
              "      <td>0.408961</td>\n",
              "      <td>0.296129</td>\n",
              "      <td>0.690999</td>\n",
              "      <td>0.740027</td>\n",
              "      <td>0.697272</td>\n",
              "      <td>0.683600</td>\n",
              "      <td>0.404089</td>\n",
              "      <td>0.879379</td>\n",
              "      <td>0.275549</td>\n",
              "      <td>0.427871</td>\n",
              "      <td>0.491667</td>\n",
              "      <td>0.384315</td>\n",
              "      <td>0.376689</td>\n",
              "      <td>0.508099</td>\n",
              "    </tr>\n",
              "    <tr>\n",
              "      <th>3</th>\n",
              "      <td>1</td>\n",
              "      <td>1</td>\n",
              "      <td>0</td>\n",
              "      <td>2</td>\n",
              "      <td>1</td>\n",
              "      <td>3</td>\n",
              "      <td>0</td>\n",
              "      <td>4</td>\n",
              "      <td>0</td>\n",
              "      <td>13</td>\n",
              "      <td>1.031239</td>\n",
              "      <td>0.356062</td>\n",
              "      <td>0.303651</td>\n",
              "      <td>0.895591</td>\n",
              "      <td>0.719306</td>\n",
              "      <td>0.777890</td>\n",
              "      <td>0.730954</td>\n",
              "      <td>0.644315</td>\n",
              "      <td>1.024017</td>\n",
              "      <td>0.391090</td>\n",
              "      <td>0.988340</td>\n",
              "      <td>0.411828</td>\n",
              "      <td>0.393585</td>\n",
              "      <td>0.461372</td>\n",
              "    </tr>\n",
              "    <tr>\n",
              "      <th>4</th>\n",
              "      <td>1</td>\n",
              "      <td>1</td>\n",
              "      <td>0</td>\n",
              "      <td>2</td>\n",
              "      <td>1</td>\n",
              "      <td>2</td>\n",
              "      <td>0</td>\n",
              "      <td>4</td>\n",
              "      <td>2</td>\n",
              "      <td>5</td>\n",
              "      <td>0.530447</td>\n",
              "      <td>0.729004</td>\n",
              "      <td>0.281723</td>\n",
              "      <td>0.444698</td>\n",
              "      <td>0.313032</td>\n",
              "      <td>0.431007</td>\n",
              "      <td>0.390992</td>\n",
              "      <td>0.408874</td>\n",
              "      <td>0.447887</td>\n",
              "      <td>0.390253</td>\n",
              "      <td>0.648932</td>\n",
              "      <td>0.385935</td>\n",
              "      <td>0.370401</td>\n",
              "      <td>0.900412</td>\n",
              "    </tr>\n",
              "  </tbody>\n",
              "</table>\n",
              "</div>"
            ],
            "text/plain": [
              "   cat0  cat1  cat2  cat3  ...    cont10    cont11    cont12    cont13\n",
              "0     1     1     1     2  ...  0.244476  0.087914  0.301831  0.845702\n",
              "1     0     1     0     2  ...  0.549568  0.905097  0.850684  0.693940\n",
              "2     1     0     0     0  ...  0.491667  0.384315  0.376689  0.508099\n",
              "3     1     1     0     2  ...  0.988340  0.411828  0.393585  0.461372\n",
              "4     1     1     0     2  ...  0.648932  0.385935  0.370401  0.900412\n",
              "\n",
              "[5 rows x 24 columns]"
            ]
          },
          "metadata": {},
          "execution_count": 21
        }
      ]
    },
    {
      "cell_type": "markdown",
      "metadata": {
        "id": "BEHWK9kCq1P0"
      },
      "source": [
        "#Keras\n"
      ]
    },
    {
      "cell_type": "code",
      "metadata": {
        "colab": {
          "base_uri": "https://localhost:8080/"
        },
        "id": "wqEPUY1zq_gv",
        "outputId": "e7dac8b2-d028-456f-af92-eba39c8b3fe6"
      },
      "source": [
        "features.shape, X_test_cv.shape"
      ],
      "execution_count": 22,
      "outputs": [
        {
          "output_type": "execute_result",
          "data": {
            "text/plain": [
              "((300000, 24), (200000, 24))"
            ]
          },
          "metadata": {},
          "execution_count": 22
        }
      ]
    },
    {
      "cell_type": "code",
      "metadata": {
        "id": "q0uYO06CrFll"
      },
      "source": [
        "X_train_XGB, X_val_XGB, y_train_XGB,y_val_XGB = train_test_split(features, target, test_size=0.25,\n",
        "                                                                  random_state=42)"
      ],
      "execution_count": 23,
      "outputs": []
    },
    {
      "cell_type": "code",
      "metadata": {
        "colab": {
          "base_uri": "https://localhost:8080/"
        },
        "id": "a1KByACErGZD",
        "outputId": "260175b2-e624-4323-bee8-c1cd3eeb2f81"
      },
      "source": [
        "X_train_XGB.shape"
      ],
      "execution_count": 24,
      "outputs": [
        {
          "output_type": "execute_result",
          "data": {
            "text/plain": [
              "(225000, 24)"
            ]
          },
          "metadata": {},
          "execution_count": 24
        }
      ]
    },
    {
      "cell_type": "code",
      "metadata": {
        "id": "t3KcitoUq1M2"
      },
      "source": [
        "def build_model(hp):\n",
        "    model = Sequential()\n",
        "    activation_choice = hp.Choice('activation', values=['relu', 'tanh'])    \n",
        "    model.add(Dense(units=hp.Int('units_input',    \n",
        "                                   min_value=512,    \n",
        "                                   max_value=4096,   \n",
        "                                   step=32),\n",
        "                    input_dim=24,\n",
        "                    activation=activation_choice))\n",
        "    model.add(Dense(units=hp.Int('units_hidden',        \n",
        "                                   min_value=128,   \n",
        "                                   max_value=600,   \n",
        "                                   step=32),\n",
        "                    activation=activation_choice))   \n",
        "    model.add(Dense(1))\n",
        "    model.compile(\n",
        "        optimizer=hp.Choice('optimizer', values=['adam','SGD']),\n",
        "        loss='mae',\n",
        "        metrics=['mae'])\n",
        "    return model"
      ],
      "execution_count": null,
      "outputs": []
    },
    {
      "cell_type": "code",
      "metadata": {
        "id": "_Hl1MfQ6q1J2"
      },
      "source": [
        "tuner = RandomSearch(\n",
        "    build_model,                 \n",
        "    objective='mae',    \n",
        "                                 \n",
        "    max_trials=80,                \n",
        "    directory='test_directory'     \n",
        "    )"
      ],
      "execution_count": null,
      "outputs": []
    },
    {
      "cell_type": "code",
      "metadata": {
        "colab": {
          "base_uri": "https://localhost:8080/"
        },
        "id": "j8rujKvuq1HC",
        "outputId": "4dc89014-2f45-40cb-afd1-610a3ef474b6"
      },
      "source": [
        "tuner.search_space_summary()"
      ],
      "execution_count": null,
      "outputs": [
        {
          "output_type": "stream",
          "text": [
            "Search space summary\n",
            "Default search space size: 4\n",
            "activation (Choice)\n",
            "{'default': 'relu', 'conditions': [], 'values': ['relu', 'tanh'], 'ordered': False}\n",
            "units_input (Int)\n",
            "{'default': None, 'conditions': [], 'min_value': 512, 'max_value': 4096, 'step': 32, 'sampling': None}\n",
            "units_hidden (Int)\n",
            "{'default': None, 'conditions': [], 'min_value': 128, 'max_value': 600, 'step': 32, 'sampling': None}\n",
            "optimizer (Choice)\n",
            "{'default': 'adam', 'conditions': [], 'values': ['adam', 'SGD'], 'ordered': False}\n"
          ],
          "name": "stdout"
        }
      ]
    },
    {
      "cell_type": "code",
      "metadata": {
        "colab": {
          "base_uri": "https://localhost:8080/"
        },
        "id": "8F4Z23swq1EC",
        "outputId": "ff7e66de-d01f-4f96-d438-b0263b1354f6"
      },
      "source": [
        "tuner.search(X_train_XGB,                  \n",
        "             y_train_XGB,                  \n",
        "             batch_size=256,           \n",
        "             epochs=20,                 \n",
        "             validation_split=0.2,     \n",
        "             )"
      ],
      "execution_count": null,
      "outputs": [
        {
          "output_type": "stream",
          "text": [
            "Trial 80 Complete [00h 01m 22s]\n",
            "mae: 0.5901838541030884\n",
            "\n",
            "Best mae So Far: 0.5868509411811829\n",
            "Total elapsed time: 01h 10m 46s\n",
            "INFO:tensorflow:Oracle triggered exit\n"
          ],
          "name": "stdout"
        }
      ]
    },
    {
      "cell_type": "code",
      "metadata": {
        "id": "l7tZpfzEq1A4"
      },
      "source": [
        "models = tuner.get_best_models(num_models=2)"
      ],
      "execution_count": null,
      "outputs": []
    },
    {
      "cell_type": "code",
      "metadata": {
        "colab": {
          "base_uri": "https://localhost:8080/"
        },
        "id": "iQJ34gKHvCtE",
        "outputId": "e6a3944d-7381-49f9-de8e-ccdb70c9247e"
      },
      "source": [
        "for model in models:\n",
        "  model.summary()\n",
        "  model.evaluate(X_val_XGB, y_val_XGB)\n",
        "  print() "
      ],
      "execution_count": null,
      "outputs": [
        {
          "output_type": "stream",
          "text": [
            "Model: \"sequential\"\n",
            "_________________________________________________________________\n",
            "Layer (type)                 Output Shape              Param #   \n",
            "=================================================================\n",
            "dense (Dense)                (None, 576)               14400     \n",
            "_________________________________________________________________\n",
            "dense_1 (Dense)              (None, 192)               110784    \n",
            "_________________________________________________________________\n",
            "dense_2 (Dense)              (None, 1)                 193       \n",
            "=================================================================\n",
            "Total params: 125,377\n",
            "Trainable params: 125,377\n",
            "Non-trainable params: 0\n",
            "_________________________________________________________________\n",
            "2344/2344 [==============================] - 4s 2ms/step - loss: 0.5866 - mae: 0.5866\n",
            "\n",
            "Model: \"sequential\"\n",
            "_________________________________________________________________\n",
            "Layer (type)                 Output Shape              Param #   \n",
            "=================================================================\n",
            "dense (Dense)                (None, 1248)              31200     \n",
            "_________________________________________________________________\n",
            "dense_1 (Dense)              (None, 192)               239808    \n",
            "_________________________________________________________________\n",
            "dense_2 (Dense)              (None, 1)                 193       \n",
            "=================================================================\n",
            "Total params: 271,201\n",
            "Trainable params: 271,201\n",
            "Non-trainable params: 0\n",
            "_________________________________________________________________\n",
            "2344/2344 [==============================] - 4s 2ms/step - loss: 0.5884 - mae: 0.5884\n",
            "\n"
          ],
          "name": "stdout"
        }
      ]
    },
    {
      "cell_type": "code",
      "metadata": {
        "id": "yR4oJVjcq097"
      },
      "source": [
        "UNITS = 576\n",
        "UNITS_HIDDEN = 192\n",
        "ACTIVATION = 'tanh'\n",
        "\n",
        "\n",
        "\n",
        "BATCH_SIZE_PER_REPLICA = 256"
      ],
      "execution_count": null,
      "outputs": []
    },
    {
      "cell_type": "code",
      "metadata": {
        "id": "MZEUdK58vmhv"
      },
      "source": [
        "early_stopping = EarlyStopping(\n",
        "    min_delta=0.001, \n",
        "    patience=50, \n",
        "    restore_best_weights=True,\n",
        ")\n",
        "\n",
        "\n",
        "model = keras.Sequential([\n",
        "    layers.Dense(UNITS, ACTIVATION, input_shape=[X_train_XGB.shape[1]]),\n",
        "    layers.Dense(UNITS_HIDDEN, ACTIVATION),\n",
        "    layers.Dense(1)\n",
        "\n",
        "])"
      ],
      "execution_count": null,
      "outputs": []
    },
    {
      "cell_type": "code",
      "metadata": {
        "id": "mThXD9DDvmec"
      },
      "source": [
        "model.compile(\n",
        "    optimizer='adam', \n",
        "    loss='mae'\n",
        ")"
      ],
      "execution_count": null,
      "outputs": []
    },
    {
      "cell_type": "code",
      "metadata": {
        "colab": {
          "base_uri": "https://localhost:8080/",
          "height": 282
        },
        "id": "tgt-6mIhvmbZ",
        "outputId": "255bddf3-0985-4156-e54b-d416d4eb25a9"
      },
      "source": [
        "history = model.fit(\n",
        "    X_train_XGB, y_train_XGB,\n",
        "    validation_data=(X_val_XGB, y_val_XGB),\n",
        "    batch_size=BATCH_SIZE_PER_REPLICA,\n",
        "    epochs=1000,\n",
        "    callbacks=early_stopping,\n",
        "    verbose=0,\n",
        ")\n",
        "\n",
        "\n",
        "history_df = pd.DataFrame(history.history)\n",
        "history_df.loc[:, ['loss', 'val_loss']].plot()\n",
        "print(\"Minimum Validation Loss: {:0.4f}\".format(history_df['val_loss'].min()))"
      ],
      "execution_count": null,
      "outputs": [
        {
          "output_type": "stream",
          "text": [
            "Minimum Validation Loss: 0.5824\n"
          ],
          "name": "stdout"
        },
        {
          "output_type": "display_data",
          "data": {
            "image/png": "[encoded data removed]",
            "text/plain": [
              "<Figure size 432x288 with 1 Axes>"
            ]
          },
          "metadata": {
            "needs_background": "light"
          }
        }
      ]
    },
    {
      "cell_type": "code",
      "metadata": {
        "colab": {
          "base_uri": "https://localhost:8080/"
        },
        "id": "TkDu1Lzi76Ex",
        "outputId": "2c005edc-a58e-400f-86ab-669eb168a3af"
      },
      "source": [
        "print(mean_squared_error(y_val_XGB, model.predict(X_val_XGB), squared=False))"
      ],
      "execution_count": null,
      "outputs": [
        {
          "output_type": "stream",
          "text": [
            "0.7399807801764727\n"
          ],
          "name": "stdout"
        }
      ]
    },
    {
      "cell_type": "code",
      "metadata": {
        "colab": {
          "base_uri": "https://localhost:8080/",
          "height": 224
        },
        "id": "RLxQhA7x5FIt",
        "outputId": "7a1930fd-b072-4cb7-dcf6-3d35024e90f6"
      },
      "source": [
        "X_test_cv.head()"
      ],
      "execution_count": null,
      "outputs": [
        {
          "output_type": "execute_result",
          "data": {
            "text/html": [
              "<div>\n",
              "<style scoped>\n",
              "    .dataframe tbody tr th:only-of-type {\n",
              "        vertical-align: middle;\n",
              "    }\n",
              "\n",
              "    .dataframe tbody tr th {\n",
              "        vertical-align: top;\n",
              "    }\n",
              "\n",
              "    .dataframe thead th {\n",
              "        text-align: right;\n",
              "    }\n",
              "</style>\n",
              "<table border=\"1\" class=\"dataframe\">\n",
              "  <thead>\n",
              "    <tr style=\"text-align: right;\">\n",
              "      <th></th>\n",
              "      <th>cat0</th>\n",
              "      <th>cat1</th>\n",
              "      <th>cat2</th>\n",
              "      <th>cat3</th>\n",
              "      <th>cat4</th>\n",
              "      <th>cat5</th>\n",
              "      <th>cat6</th>\n",
              "      <th>cat7</th>\n",
              "      <th>cat8</th>\n",
              "      <th>cat9</th>\n",
              "      <th>cont0</th>\n",
              "      <th>cont1</th>\n",
              "      <th>cont2</th>\n",
              "      <th>cont3</th>\n",
              "      <th>cont4</th>\n",
              "      <th>cont5</th>\n",
              "      <th>cont6</th>\n",
              "      <th>cont7</th>\n",
              "      <th>cont8</th>\n",
              "      <th>cont9</th>\n",
              "      <th>cont10</th>\n",
              "      <th>cont11</th>\n",
              "      <th>cont12</th>\n",
              "      <th>cont13</th>\n",
              "    </tr>\n",
              "  </thead>\n",
              "  <tbody>\n",
              "    <tr>\n",
              "      <th>0</th>\n",
              "      <td>1</td>\n",
              "      <td>1</td>\n",
              "      <td>1</td>\n",
              "      <td>2</td>\n",
              "      <td>1</td>\n",
              "      <td>1</td>\n",
              "      <td>0</td>\n",
              "      <td>4</td>\n",
              "      <td>4</td>\n",
              "      <td>8</td>\n",
              "      <td>0.296227</td>\n",
              "      <td>0.686757</td>\n",
              "      <td>0.587731</td>\n",
              "      <td>0.392753</td>\n",
              "      <td>0.476739</td>\n",
              "      <td>0.376350</td>\n",
              "      <td>0.337884</td>\n",
              "      <td>0.321832</td>\n",
              "      <td>0.445212</td>\n",
              "      <td>0.290258</td>\n",
              "      <td>0.244476</td>\n",
              "      <td>0.087914</td>\n",
              "      <td>0.301831</td>\n",
              "      <td>0.845702</td>\n",
              "    </tr>\n",
              "    <tr>\n",
              "      <th>1</th>\n",
              "      <td>0</td>\n",
              "      <td>1</td>\n",
              "      <td>0</td>\n",
              "      <td>2</td>\n",
              "      <td>1</td>\n",
              "      <td>2</td>\n",
              "      <td>0</td>\n",
              "      <td>4</td>\n",
              "      <td>2</td>\n",
              "      <td>7</td>\n",
              "      <td>0.543707</td>\n",
              "      <td>0.364761</td>\n",
              "      <td>0.452967</td>\n",
              "      <td>0.929645</td>\n",
              "      <td>0.285509</td>\n",
              "      <td>0.860046</td>\n",
              "      <td>0.798712</td>\n",
              "      <td>0.835961</td>\n",
              "      <td>0.391657</td>\n",
              "      <td>0.288276</td>\n",
              "      <td>0.549568</td>\n",
              "      <td>0.905097</td>\n",
              "      <td>0.850684</td>\n",
              "      <td>0.693940</td>\n",
              "    </tr>\n",
              "    <tr>\n",
              "      <th>2</th>\n",
              "      <td>1</td>\n",
              "      <td>0</td>\n",
              "      <td>0</td>\n",
              "      <td>0</td>\n",
              "      <td>1</td>\n",
              "      <td>1</td>\n",
              "      <td>0</td>\n",
              "      <td>4</td>\n",
              "      <td>3</td>\n",
              "      <td>10</td>\n",
              "      <td>0.408961</td>\n",
              "      <td>0.296129</td>\n",
              "      <td>0.690999</td>\n",
              "      <td>0.740027</td>\n",
              "      <td>0.697272</td>\n",
              "      <td>0.683600</td>\n",
              "      <td>0.404089</td>\n",
              "      <td>0.879379</td>\n",
              "      <td>0.275549</td>\n",
              "      <td>0.427871</td>\n",
              "      <td>0.491667</td>\n",
              "      <td>0.384315</td>\n",
              "      <td>0.376689</td>\n",
              "      <td>0.508099</td>\n",
              "    </tr>\n",
              "    <tr>\n",
              "      <th>3</th>\n",
              "      <td>1</td>\n",
              "      <td>1</td>\n",
              "      <td>0</td>\n",
              "      <td>2</td>\n",
              "      <td>1</td>\n",
              "      <td>3</td>\n",
              "      <td>0</td>\n",
              "      <td>4</td>\n",
              "      <td>0</td>\n",
              "      <td>13</td>\n",
              "      <td>1.031239</td>\n",
              "      <td>0.356062</td>\n",
              "      <td>0.303651</td>\n",
              "      <td>0.895591</td>\n",
              "      <td>0.719306</td>\n",
              "      <td>0.777890</td>\n",
              "      <td>0.730954</td>\n",
              "      <td>0.644315</td>\n",
              "      <td>1.024017</td>\n",
              "      <td>0.391090</td>\n",
              "      <td>0.988340</td>\n",
              "      <td>0.411828</td>\n",
              "      <td>0.393585</td>\n",
              "      <td>0.461372</td>\n",
              "    </tr>\n",
              "    <tr>\n",
              "      <th>4</th>\n",
              "      <td>1</td>\n",
              "      <td>1</td>\n",
              "      <td>0</td>\n",
              "      <td>2</td>\n",
              "      <td>1</td>\n",
              "      <td>2</td>\n",
              "      <td>0</td>\n",
              "      <td>4</td>\n",
              "      <td>2</td>\n",
              "      <td>5</td>\n",
              "      <td>0.530447</td>\n",
              "      <td>0.729004</td>\n",
              "      <td>0.281723</td>\n",
              "      <td>0.444698</td>\n",
              "      <td>0.313032</td>\n",
              "      <td>0.431007</td>\n",
              "      <td>0.390992</td>\n",
              "      <td>0.408874</td>\n",
              "      <td>0.447887</td>\n",
              "      <td>0.390253</td>\n",
              "      <td>0.648932</td>\n",
              "      <td>0.385935</td>\n",
              "      <td>0.370401</td>\n",
              "      <td>0.900412</td>\n",
              "    </tr>\n",
              "  </tbody>\n",
              "</table>\n",
              "</div>"
            ],
            "text/plain": [
              "   cat0  cat1  cat2  cat3  ...    cont10    cont11    cont12    cont13\n",
              "0     1     1     1     2  ...  0.244476  0.087914  0.301831  0.845702\n",
              "1     0     1     0     2  ...  0.549568  0.905097  0.850684  0.693940\n",
              "2     1     0     0     0  ...  0.491667  0.384315  0.376689  0.508099\n",
              "3     1     1     0     2  ...  0.988340  0.411828  0.393585  0.461372\n",
              "4     1     1     0     2  ...  0.648932  0.385935  0.370401  0.900412\n",
              "\n",
              "[5 rows x 24 columns]"
            ]
          },
          "metadata": {},
          "execution_count": 41
        }
      ]
    },
    {
      "cell_type": "code",
      "metadata": {
        "id": "m6UI7QqQ5FFb"
      },
      "source": [
        "preds = model.predict(X_test_cv)"
      ],
      "execution_count": null,
      "outputs": []
    },
    {
      "cell_type": "code",
      "metadata": {
        "colab": {
          "base_uri": "https://localhost:8080/",
          "height": 17
        },
        "id": "mjjSY4Nx5FCG",
        "outputId": "ef948af1-00f0-4890-f503-75d2bef11b14"
      },
      "source": [
        "sub = pd.DataFrame()\n",
        "sub['Id'] = test['id']\n",
        "sub['target'] = preds\n",
        "sub.to_csv('my_submission_keras.csv',index=False)\n",
        "from google.colab import files\n",
        "files.download(\"my_submission_keras.csv\")"
      ],
      "execution_count": null,
      "outputs": [
        {
          "output_type": "display_data",
          "data": {
            "application/javascript": [
              "\n",
              "    async function download(id, filename, size) {\n",
              "      if (!google.colab.kernel.accessAllowed) {\n",
              "        return;\n",
              "      }\n",
              "      const div = document.createElement('div');\n",
              "      const label = document.createElement('label');\n",
              "      label.textContent = `Downloading \"${filename}\": `;\n",
              "      div.appendChild(label);\n",
              "      const progress = document.createElement('progress');\n",
              "      progress.max = size;\n",
              "      div.appendChild(progress);\n",
              "      document.body.appendChild(div);\n",
              "\n",
              "      const buffers = [];\n",
              "      let downloaded = 0;\n",
              "\n",
              "      const channel = await google.colab.kernel.comms.open(id);\n",
              "      // Send a message to notify the kernel that we're ready.\n",
              "      channel.send({})\n",
              "\n",
              "      for await (const message of channel.messages) {\n",
              "        // Send a message to notify the kernel that we're ready.\n",
              "        channel.send({})\n",
              "        if (message.buffers) {\n",
              "          for (const buffer of message.buffers) {\n",
              "            buffers.push(buffer);\n",
              "            downloaded += buffer.byteLength;\n",
              "            progress.value = downloaded;\n",
              "          }\n",
              "        }\n",
              "      }\n",
              "      const blob = new Blob(buffers, {type: 'application/binary'});\n",
              "      const a = document.createElement('a');\n",
              "      a.href = window.URL.createObjectURL(blob);\n",
              "      a.download = filename;\n",
              "      div.appendChild(a);\n",
              "      a.click();\n",
              "      div.remove();\n",
              "    }\n",
              "  "
            ],
            "text/plain": [
              "<IPython.core.display.Javascript object>"
            ]
          },
          "metadata": {}
        },
        {
          "output_type": "display_data",
          "data": {
            "application/javascript": [
              "download(\"download_d3e2ae29-86ca-4056-a357-ad6a2bff55e7\", \"my_submission_keras.csv\", 3148320)"
            ],
            "text/plain": [
              "<IPython.core.display.Javascript object>"
            ]
          },
          "metadata": {}
        }
      ]
    },
    {
      "cell_type": "code",
      "metadata": {
        "colab": {
          "base_uri": "https://localhost:8080/",
          "height": 204
        },
        "id": "XcNUlHlLABWG",
        "outputId": "6ac190f6-cbeb-4d50-e7b6-f3b872939b2b"
      },
      "source": [
        "sub.head()"
      ],
      "execution_count": null,
      "outputs": [
        {
          "output_type": "execute_result",
          "data": {
            "text/html": [
              "<div>\n",
              "<style scoped>\n",
              "    .dataframe tbody tr th:only-of-type {\n",
              "        vertical-align: middle;\n",
              "    }\n",
              "\n",
              "    .dataframe tbody tr th {\n",
              "        vertical-align: top;\n",
              "    }\n",
              "\n",
              "    .dataframe thead th {\n",
              "        text-align: right;\n",
              "    }\n",
              "</style>\n",
              "<table border=\"1\" class=\"dataframe\">\n",
              "  <thead>\n",
              "    <tr style=\"text-align: right;\">\n",
              "      <th></th>\n",
              "      <th>Id</th>\n",
              "      <th>target</th>\n",
              "    </tr>\n",
              "  </thead>\n",
              "  <tbody>\n",
              "    <tr>\n",
              "      <th>0</th>\n",
              "      <td>0</td>\n",
              "      <td>8.010722</td>\n",
              "    </tr>\n",
              "    <tr>\n",
              "      <th>1</th>\n",
              "      <td>5</td>\n",
              "      <td>8.218580</td>\n",
              "    </tr>\n",
              "    <tr>\n",
              "      <th>2</th>\n",
              "      <td>15</td>\n",
              "      <td>8.283298</td>\n",
              "    </tr>\n",
              "    <tr>\n",
              "      <th>3</th>\n",
              "      <td>16</td>\n",
              "      <td>8.125624</td>\n",
              "    </tr>\n",
              "    <tr>\n",
              "      <th>4</th>\n",
              "      <td>17</td>\n",
              "      <td>8.140952</td>\n",
              "    </tr>\n",
              "  </tbody>\n",
              "</table>\n",
              "</div>"
            ],
            "text/plain": [
              "   Id    target\n",
              "0   0  8.010722\n",
              "1   5  8.218580\n",
              "2  15  8.283298\n",
              "3  16  8.125624\n",
              "4  17  8.140952"
            ]
          },
          "metadata": {},
          "execution_count": 44
        }
      ]
    },
    {
      "cell_type": "markdown",
      "metadata": {
        "id": "jKeUp3yDANeT"
      },
      "source": [
        "#Keras 2"
      ]
    },
    {
      "cell_type": "code",
      "metadata": {
        "id": "dWyfx9kDAV4m"
      },
      "source": [
        "def build_model(hp):\n",
        "    model = Sequential()\n",
        "    activation_choice = hp.Choice('activation', values=['relu', 'tanh'])    \n",
        "    model.add(Dense(units=hp.Int('units_input',    \n",
        "                                   min_value=64,    \n",
        "                                   max_value=1024,   \n",
        "                                   step=32),\n",
        "                    input_dim=24,\n",
        "                    activation=activation_choice))\n",
        "    model.add(Dense(units=hp.Int('units_hidden',        \n",
        "                                   min_value=64,   \n",
        "                                   max_value=256,   \n",
        "                                   step=32),\n",
        "                    activation=activation_choice))  \n",
        "    model.add(Dropout(0.3))   \n",
        "    model.add(Dense(units=hp.Int('units_hidden',        \n",
        "                                   min_value=64,   \n",
        "                                   max_value=256,   \n",
        "                                   step=32),\n",
        "                    activation=activation_choice))   \n",
        "    model.add(Dense(1))\n",
        "    model.compile(\n",
        "        optimizer=hp.Choice('optimizer', values=['adam','SGD']),\n",
        "        loss='mae',\n",
        "        metrics=['mae'])\n",
        "    return model"
      ],
      "execution_count": null,
      "outputs": []
    },
    {
      "cell_type": "code",
      "metadata": {
        "id": "5rS-Hl1cAV4n"
      },
      "source": [
        "tuner = RandomSearch(\n",
        "    build_model,                 \n",
        "    objective='mae',    \n",
        "                                 \n",
        "    max_trials=42,                \n",
        "    directory='test_directory_2'     \n",
        "    )"
      ],
      "execution_count": null,
      "outputs": []
    },
    {
      "cell_type": "code",
      "metadata": {
        "colab": {
          "base_uri": "https://localhost:8080/"
        },
        "id": "VX7Jn68ZAV4n",
        "outputId": "63de10da-d8a5-4272-be85-5f9436a293a0"
      },
      "source": [
        "tuner.search_space_summary()"
      ],
      "execution_count": null,
      "outputs": [
        {
          "output_type": "stream",
          "text": [
            "Search space summary\n",
            "Default search space size: 4\n",
            "activation (Choice)\n",
            "{'default': 'relu', 'conditions': [], 'values': ['relu', 'tanh'], 'ordered': False}\n",
            "units_input (Int)\n",
            "{'default': None, 'conditions': [], 'min_value': 64, 'max_value': 1024, 'step': 32, 'sampling': None}\n",
            "units_hidden (Int)\n",
            "{'default': None, 'conditions': [], 'min_value': 64, 'max_value': 256, 'step': 32, 'sampling': None}\n",
            "optimizer (Choice)\n",
            "{'default': 'adam', 'conditions': [], 'values': ['adam', 'SGD'], 'ordered': False}\n"
          ],
          "name": "stdout"
        }
      ]
    },
    {
      "cell_type": "code",
      "metadata": {
        "colab": {
          "base_uri": "https://localhost:8080/"
        },
        "id": "K44VmwRGAV4n",
        "outputId": "5d492aa6-679d-4b6f-bd6f-f12d7938e0f1"
      },
      "source": [
        "tuner.search(X_train_XGB,                  \n",
        "             y_train_XGB,                  \n",
        "             batch_size=256,           \n",
        "             epochs=20,                 \n",
        "             validation_split=0.2,     \n",
        "             )"
      ],
      "execution_count": null,
      "outputs": [
        {
          "output_type": "stream",
          "text": [
            "Trial 42 Complete [00h 00m 41s]\n",
            "mae: 0.5903564095497131\n",
            "\n",
            "Best mae So Far: 0.586026668548584\n",
            "Total elapsed time: 00h 38m 07s\n",
            "INFO:tensorflow:Oracle triggered exit\n"
          ],
          "name": "stdout"
        }
      ]
    },
    {
      "cell_type": "code",
      "metadata": {
        "id": "ehhHTJv4AV4n"
      },
      "source": [
        "models = tuner.get_best_models(num_models=3)"
      ],
      "execution_count": null,
      "outputs": []
    },
    {
      "cell_type": "code",
      "metadata": {
        "colab": {
          "base_uri": "https://localhost:8080/"
        },
        "id": "kuNyTI4BAV4n",
        "outputId": "b5513c7c-3dcc-4d53-df00-6a2ad651c3ba"
      },
      "source": [
        "for model in models:\n",
        "  model.summary()\n",
        "  model.evaluate(X_val_XGB, y_val_XGB)\n",
        "  print() "
      ],
      "execution_count": null,
      "outputs": [
        {
          "output_type": "stream",
          "text": [
            "Model: \"sequential\"\n",
            "_________________________________________________________________\n",
            "Layer (type)                 Output Shape              Param #   \n",
            "=================================================================\n",
            "dense (Dense)                (None, 960)               24000     \n",
            "_________________________________________________________________\n",
            "dense_1 (Dense)              (None, 192)               184512    \n",
            "_________________________________________________________________\n",
            "dropout (Dropout)            (None, 192)               0         \n",
            "_________________________________________________________________\n",
            "dense_2 (Dense)              (None, 192)               37056     \n",
            "_________________________________________________________________\n",
            "dense_3 (Dense)              (None, 1)                 193       \n",
            "=================================================================\n",
            "Total params: 245,761\n",
            "Trainable params: 245,761\n",
            "Non-trainable params: 0\n",
            "_________________________________________________________________\n",
            "2344/2344 [==============================] - 4s 2ms/step - loss: 0.6233 - mae: 0.6233\n",
            "\n",
            "Model: \"sequential\"\n",
            "_________________________________________________________________\n",
            "Layer (type)                 Output Shape              Param #   \n",
            "=================================================================\n",
            "dense (Dense)                (None, 128)               3200      \n",
            "_________________________________________________________________\n",
            "dense_1 (Dense)              (None, 192)               24768     \n",
            "_________________________________________________________________\n",
            "dropout (Dropout)            (None, 192)               0         \n",
            "_________________________________________________________________\n",
            "dense_2 (Dense)              (None, 192)               37056     \n",
            "_________________________________________________________________\n",
            "dense_3 (Dense)              (None, 1)                 193       \n",
            "=================================================================\n",
            "Total params: 65,217\n",
            "Trainable params: 65,217\n",
            "Non-trainable params: 0\n",
            "_________________________________________________________________\n",
            "2344/2344 [==============================] - 4s 2ms/step - loss: 0.5837 - mae: 0.5837\n",
            "\n"
          ],
          "name": "stdout"
        }
      ]
    },
    {
      "cell_type": "code",
      "metadata": {
        "id": "whINwVftAV4n"
      },
      "source": [
        "UNITS = 128\n",
        "UNITS_HIDDEN_1 = 192\n",
        "\n",
        "UNITS_HIDDEN_2 = 192\n",
        "ACTIVATION = 'relu'\n",
        "\n",
        "BATCH_SIZE_PER_REPLICA = 256"
      ],
      "execution_count": null,
      "outputs": []
    },
    {
      "cell_type": "code",
      "metadata": {
        "id": "XP54uhisAV4n"
      },
      "source": [
        "early_stopping = EarlyStopping(\n",
        "    min_delta=0.001, \n",
        "    patience=50, \n",
        "    restore_best_weights=True,\n",
        ")\n",
        "\n",
        "\n",
        "model = keras.Sequential([\n",
        "    layers.Dense(UNITS, ACTIVATION, input_shape=[X_train_XGB.shape[1]]),\n",
        "    layers.Dense(UNITS_HIDDEN_1, ACTIVATION),\n",
        "    layers.Dropout(rate=0.3),\n",
        "    layers.Dense(UNITS_HIDDEN_2, ACTIVATION),\n",
        "    layers.Dense(1)\n",
        "\n",
        "])"
      ],
      "execution_count": null,
      "outputs": []
    },
    {
      "cell_type": "code",
      "metadata": {
        "id": "gVv-W6yyAV4n"
      },
      "source": [
        "model.compile(\n",
        "    optimizer='adam', \n",
        "    loss='mae'\n",
        ")"
      ],
      "execution_count": null,
      "outputs": []
    },
    {
      "cell_type": "code",
      "metadata": {
        "colab": {
          "base_uri": "https://localhost:8080/",
          "height": 282
        },
        "id": "lzZgKw4zAV4n",
        "outputId": "7fd51f7c-e731-49e3-f4b2-2ebf9b353289"
      },
      "source": [
        "history = model.fit(\n",
        "    X_train_XGB, y_train_XGB,\n",
        "    validation_data=(X_val_XGB, y_val_XGB),\n",
        "    batch_size=BATCH_SIZE_PER_REPLICA,\n",
        "    epochs=1000,\n",
        "    callbacks=early_stopping,\n",
        "    verbose=0,\n",
        ")\n",
        "\n",
        "\n",
        "history_df = pd.DataFrame(history.history)\n",
        "history_df.loc[:, ['loss', 'val_loss']].plot()\n",
        "print(\"Minimum Validation Loss: {:0.4f}\".format(history_df['val_loss'].min()))"
      ],
      "execution_count": null,
      "outputs": [
        {
          "output_type": "stream",
          "text": [
            "Minimum Validation Loss: 0.5825\n"
          ],
          "name": "stdout"
        },
        {
          "output_type": "display_data",
          "data": {
            "image/png": "[encoded data removed]",
            "text/plain": [
              "<Figure size 432x288 with 1 Axes>"
            ]
          },
          "metadata": {
            "needs_background": "light"
          }
        }
      ]
    },
    {
      "cell_type": "code",
      "metadata": {
        "colab": {
          "base_uri": "https://localhost:8080/"
        },
        "id": "MjPsCjHVAV4o",
        "outputId": "5d8c4058-4d71-4ea3-8ee5-d27638ab91e9"
      },
      "source": [
        "print(mean_squared_error(y_val_XGB, model.predict(X_val_XGB), squared=False))"
      ],
      "execution_count": null,
      "outputs": [
        {
          "output_type": "stream",
          "text": [
            "0.7381312326719619\n"
          ],
          "name": "stdout"
        }
      ]
    },
    {
      "cell_type": "code",
      "metadata": {
        "colab": {
          "base_uri": "https://localhost:8080/",
          "height": 224
        },
        "id": "NpECQX6JAV4o",
        "outputId": "bb528bf3-83d0-4d2b-f7be-c3e7c5bf93ae"
      },
      "source": [
        "X_test_cv.head()"
      ],
      "execution_count": null,
      "outputs": [
        {
          "output_type": "execute_result",
          "data": {
            "text/html": [
              "<div>\n",
              "<style scoped>\n",
              "    .dataframe tbody tr th:only-of-type {\n",
              "        vertical-align: middle;\n",
              "    }\n",
              "\n",
              "    .dataframe tbody tr th {\n",
              "        vertical-align: top;\n",
              "    }\n",
              "\n",
              "    .dataframe thead th {\n",
              "        text-align: right;\n",
              "    }\n",
              "</style>\n",
              "<table border=\"1\" class=\"dataframe\">\n",
              "  <thead>\n",
              "    <tr style=\"text-align: right;\">\n",
              "      <th></th>\n",
              "      <th>cat0</th>\n",
              "      <th>cat1</th>\n",
              "      <th>cat2</th>\n",
              "      <th>cat3</th>\n",
              "      <th>cat4</th>\n",
              "      <th>cat5</th>\n",
              "      <th>cat6</th>\n",
              "      <th>cat7</th>\n",
              "      <th>cat8</th>\n",
              "      <th>cat9</th>\n",
              "      <th>cont0</th>\n",
              "      <th>cont1</th>\n",
              "      <th>cont2</th>\n",
              "      <th>cont3</th>\n",
              "      <th>cont4</th>\n",
              "      <th>cont5</th>\n",
              "      <th>cont6</th>\n",
              "      <th>cont7</th>\n",
              "      <th>cont8</th>\n",
              "      <th>cont9</th>\n",
              "      <th>cont10</th>\n",
              "      <th>cont11</th>\n",
              "      <th>cont12</th>\n",
              "      <th>cont13</th>\n",
              "    </tr>\n",
              "  </thead>\n",
              "  <tbody>\n",
              "    <tr>\n",
              "      <th>0</th>\n",
              "      <td>1</td>\n",
              "      <td>1</td>\n",
              "      <td>1</td>\n",
              "      <td>2</td>\n",
              "      <td>1</td>\n",
              "      <td>1</td>\n",
              "      <td>0</td>\n",
              "      <td>4</td>\n",
              "      <td>4</td>\n",
              "      <td>8</td>\n",
              "      <td>0.296227</td>\n",
              "      <td>0.686757</td>\n",
              "      <td>0.587731</td>\n",
              "      <td>0.392753</td>\n",
              "      <td>0.476739</td>\n",
              "      <td>0.376350</td>\n",
              "      <td>0.337884</td>\n",
              "      <td>0.321832</td>\n",
              "      <td>0.445212</td>\n",
              "      <td>0.290258</td>\n",
              "      <td>0.244476</td>\n",
              "      <td>0.087914</td>\n",
              "      <td>0.301831</td>\n",
              "      <td>0.845702</td>\n",
              "    </tr>\n",
              "    <tr>\n",
              "      <th>1</th>\n",
              "      <td>0</td>\n",
              "      <td>1</td>\n",
              "      <td>0</td>\n",
              "      <td>2</td>\n",
              "      <td>1</td>\n",
              "      <td>2</td>\n",
              "      <td>0</td>\n",
              "      <td>4</td>\n",
              "      <td>2</td>\n",
              "      <td>7</td>\n",
              "      <td>0.543707</td>\n",
              "      <td>0.364761</td>\n",
              "      <td>0.452967</td>\n",
              "      <td>0.929645</td>\n",
              "      <td>0.285509</td>\n",
              "      <td>0.860046</td>\n",
              "      <td>0.798712</td>\n",
              "      <td>0.835961</td>\n",
              "      <td>0.391657</td>\n",
              "      <td>0.288276</td>\n",
              "      <td>0.549568</td>\n",
              "      <td>0.905097</td>\n",
              "      <td>0.850684</td>\n",
              "      <td>0.693940</td>\n",
              "    </tr>\n",
              "    <tr>\n",
              "      <th>2</th>\n",
              "      <td>1</td>\n",
              "      <td>0</td>\n",
              "      <td>0</td>\n",
              "      <td>0</td>\n",
              "      <td>1</td>\n",
              "      <td>1</td>\n",
              "      <td>0</td>\n",
              "      <td>4</td>\n",
              "      <td>3</td>\n",
              "      <td>10</td>\n",
              "      <td>0.408961</td>\n",
              "      <td>0.296129</td>\n",
              "      <td>0.690999</td>\n",
              "      <td>0.740027</td>\n",
              "      <td>0.697272</td>\n",
              "      <td>0.683600</td>\n",
              "      <td>0.404089</td>\n",
              "      <td>0.879379</td>\n",
              "      <td>0.275549</td>\n",
              "      <td>0.427871</td>\n",
              "      <td>0.491667</td>\n",
              "      <td>0.384315</td>\n",
              "      <td>0.376689</td>\n",
              "      <td>0.508099</td>\n",
              "    </tr>\n",
              "    <tr>\n",
              "      <th>3</th>\n",
              "      <td>1</td>\n",
              "      <td>1</td>\n",
              "      <td>0</td>\n",
              "      <td>2</td>\n",
              "      <td>1</td>\n",
              "      <td>3</td>\n",
              "      <td>0</td>\n",
              "      <td>4</td>\n",
              "      <td>0</td>\n",
              "      <td>13</td>\n",
              "      <td>1.031239</td>\n",
              "      <td>0.356062</td>\n",
              "      <td>0.303651</td>\n",
              "      <td>0.895591</td>\n",
              "      <td>0.719306</td>\n",
              "      <td>0.777890</td>\n",
              "      <td>0.730954</td>\n",
              "      <td>0.644315</td>\n",
              "      <td>1.024017</td>\n",
              "      <td>0.391090</td>\n",
              "      <td>0.988340</td>\n",
              "      <td>0.411828</td>\n",
              "      <td>0.393585</td>\n",
              "      <td>0.461372</td>\n",
              "    </tr>\n",
              "    <tr>\n",
              "      <th>4</th>\n",
              "      <td>1</td>\n",
              "      <td>1</td>\n",
              "      <td>0</td>\n",
              "      <td>2</td>\n",
              "      <td>1</td>\n",
              "      <td>2</td>\n",
              "      <td>0</td>\n",
              "      <td>4</td>\n",
              "      <td>2</td>\n",
              "      <td>5</td>\n",
              "      <td>0.530447</td>\n",
              "      <td>0.729004</td>\n",
              "      <td>0.281723</td>\n",
              "      <td>0.444698</td>\n",
              "      <td>0.313032</td>\n",
              "      <td>0.431007</td>\n",
              "      <td>0.390992</td>\n",
              "      <td>0.408874</td>\n",
              "      <td>0.447887</td>\n",
              "      <td>0.390253</td>\n",
              "      <td>0.648932</td>\n",
              "      <td>0.385935</td>\n",
              "      <td>0.370401</td>\n",
              "      <td>0.900412</td>\n",
              "    </tr>\n",
              "  </tbody>\n",
              "</table>\n",
              "</div>"
            ],
            "text/plain": [
              "   cat0  cat1  cat2  cat3  ...    cont10    cont11    cont12    cont13\n",
              "0     1     1     1     2  ...  0.244476  0.087914  0.301831  0.845702\n",
              "1     0     1     0     2  ...  0.549568  0.905097  0.850684  0.693940\n",
              "2     1     0     0     0  ...  0.491667  0.384315  0.376689  0.508099\n",
              "3     1     1     0     2  ...  0.988340  0.411828  0.393585  0.461372\n",
              "4     1     1     0     2  ...  0.648932  0.385935  0.370401  0.900412\n",
              "\n",
              "[5 rows x 24 columns]"
            ]
          },
          "metadata": {},
          "execution_count": 67
        }
      ]
    },
    {
      "cell_type": "code",
      "metadata": {
        "id": "WwckYa7xAV4o"
      },
      "source": [
        "preds = model.predict(X_test_cv)"
      ],
      "execution_count": null,
      "outputs": []
    },
    {
      "cell_type": "code",
      "metadata": {
        "colab": {
          "base_uri": "https://localhost:8080/",
          "height": 17
        },
        "id": "HXOvre-dAV4o",
        "outputId": "f663292d-b6f9-4b1d-93ff-b883ffb1714a"
      },
      "source": [
        "sub = pd.DataFrame()\n",
        "sub['Id'] = test['id']\n",
        "sub['target'] = preds\n",
        "sub.to_csv('my_submission_keras_3lay.csv',index=False)\n",
        "from google.colab import files\n",
        "files.download(\"my_submission_keras_3lay.csv\")"
      ],
      "execution_count": null,
      "outputs": [
        {
          "output_type": "display_data",
          "data": {
            "application/javascript": [
              "\n",
              "    async function download(id, filename, size) {\n",
              "      if (!google.colab.kernel.accessAllowed) {\n",
              "        return;\n",
              "      }\n",
              "      const div = document.createElement('div');\n",
              "      const label = document.createElement('label');\n",
              "      label.textContent = `Downloading \"${filename}\": `;\n",
              "      div.appendChild(label);\n",
              "      const progress = document.createElement('progress');\n",
              "      progress.max = size;\n",
              "      div.appendChild(progress);\n",
              "      document.body.appendChild(div);\n",
              "\n",
              "      const buffers = [];\n",
              "      let downloaded = 0;\n",
              "\n",
              "      const channel = await google.colab.kernel.comms.open(id);\n",
              "      // Send a message to notify the kernel that we're ready.\n",
              "      channel.send({})\n",
              "\n",
              "      for await (const message of channel.messages) {\n",
              "        // Send a message to notify the kernel that we're ready.\n",
              "        channel.send({})\n",
              "        if (message.buffers) {\n",
              "          for (const buffer of message.buffers) {\n",
              "            buffers.push(buffer);\n",
              "            downloaded += buffer.byteLength;\n",
              "            progress.value = downloaded;\n",
              "          }\n",
              "        }\n",
              "      }\n",
              "      const blob = new Blob(buffers, {type: 'application/binary'});\n",
              "      const a = document.createElement('a');\n",
              "      a.href = window.URL.createObjectURL(blob);\n",
              "      a.download = filename;\n",
              "      div.appendChild(a);\n",
              "      a.click();\n",
              "      div.remove();\n",
              "    }\n",
              "  "
            ],
            "text/plain": [
              "<IPython.core.display.Javascript object>"
            ]
          },
          "metadata": {}
        },
        {
          "output_type": "display_data",
          "data": {
            "application/javascript": [
              "download(\"download_b6c71c29-b0ea-437e-968f-f2ddcc3864f9\", \"my_submission_keras_3lay.csv\", 3145769)"
            ],
            "text/plain": [
              "<IPython.core.display.Javascript object>"
            ]
          },
          "metadata": {}
        }
      ]
    },
    {
      "cell_type": "code",
      "metadata": {
        "id": "sL4K5Jk5LJVQ",
        "colab": {
          "base_uri": "https://localhost:8080/",
          "height": 204
        },
        "outputId": "c81f4f52-1929-4300-db8c-2e1a21d2f730"
      },
      "source": [
        "sub.head()"
      ],
      "execution_count": null,
      "outputs": [
        {
          "output_type": "execute_result",
          "data": {
            "text/html": [
              "<div>\n",
              "<style scoped>\n",
              "    .dataframe tbody tr th:only-of-type {\n",
              "        vertical-align: middle;\n",
              "    }\n",
              "\n",
              "    .dataframe tbody tr th {\n",
              "        vertical-align: top;\n",
              "    }\n",
              "\n",
              "    .dataframe thead th {\n",
              "        text-align: right;\n",
              "    }\n",
              "</style>\n",
              "<table border=\"1\" class=\"dataframe\">\n",
              "  <thead>\n",
              "    <tr style=\"text-align: right;\">\n",
              "      <th></th>\n",
              "      <th>Id</th>\n",
              "      <th>target</th>\n",
              "    </tr>\n",
              "  </thead>\n",
              "  <tbody>\n",
              "    <tr>\n",
              "      <th>0</th>\n",
              "      <td>0</td>\n",
              "      <td>8.032942</td>\n",
              "    </tr>\n",
              "    <tr>\n",
              "      <th>1</th>\n",
              "      <td>5</td>\n",
              "      <td>8.287011</td>\n",
              "    </tr>\n",
              "    <tr>\n",
              "      <th>2</th>\n",
              "      <td>15</td>\n",
              "      <td>8.326889</td>\n",
              "    </tr>\n",
              "    <tr>\n",
              "      <th>3</th>\n",
              "      <td>16</td>\n",
              "      <td>8.106340</td>\n",
              "    </tr>\n",
              "    <tr>\n",
              "      <th>4</th>\n",
              "      <td>17</td>\n",
              "      <td>8.170339</td>\n",
              "    </tr>\n",
              "  </tbody>\n",
              "</table>\n",
              "</div>"
            ],
            "text/plain": [
              "   Id    target\n",
              "0   0  8.032942\n",
              "1   5  8.287011\n",
              "2  15  8.326889\n",
              "3  16  8.106340\n",
              "4  17  8.170339"
            ]
          },
          "metadata": {},
          "execution_count": 70
        }
      ]
    },
    {
      "cell_type": "markdown",
      "metadata": {
        "id": "2yUn_62KTgyc"
      },
      "source": [
        "#Keras 3 (reBoot)"
      ]
    },
    {
      "cell_type": "code",
      "metadata": {
        "id": "JKZ-40HATjYA"
      },
      "source": [
        "def build_model(hp):\n",
        "    model = Sequential()\n",
        "    activation_choice = hp.Choice('activation', values=['relu', 'tanh'])    \n",
        "    model.add(Dense(units=hp.Int('units_input',    \n",
        "                                   min_value=32,    \n",
        "                                   max_value=512,   \n",
        "                                   step=32),\n",
        "                    input_dim=24,\n",
        "                    activation=activation_choice))\n",
        "    model.add(Dense(units=hp.Int('units_hidden',        \n",
        "                                   min_value=32,   \n",
        "                                   max_value=512,   \n",
        "                                   step=32),\n",
        "                    activation=activation_choice))   \n",
        "    model.add(Dense(1))\n",
        "    model.compile(\n",
        "        optimizer=hp.Choice('optimizer', values=['adam','SGD']),\n",
        "        loss='mae',\n",
        "        metrics=['mae'])\n",
        "    return model"
      ],
      "execution_count": 25,
      "outputs": []
    },
    {
      "cell_type": "code",
      "metadata": {
        "id": "YOA9ISArTjYA"
      },
      "source": [
        "tuner = RandomSearch(\n",
        "    build_model,                 \n",
        "    objective='mae',    \n",
        "                                 \n",
        "    max_trials=42,                \n",
        "    directory='test_directory_8'     \n",
        "    )"
      ],
      "execution_count": 27,
      "outputs": []
    },
    {
      "cell_type": "code",
      "metadata": {
        "colab": {
          "base_uri": "https://localhost:8080/"
        },
        "id": "valMxO2TTjYA",
        "outputId": "ad00ab3c-54d5-4247-f303-b8b5291f8cc4"
      },
      "source": [
        "tuner.search_space_summary()"
      ],
      "execution_count": 28,
      "outputs": [
        {
          "output_type": "stream",
          "text": [
            "Search space summary\n",
            "Default search space size: 4\n",
            "activation (Choice)\n",
            "{'default': 'relu', 'conditions': [], 'values': ['relu', 'tanh'], 'ordered': False}\n",
            "units_input (Int)\n",
            "{'default': None, 'conditions': [], 'min_value': 32, 'max_value': 512, 'step': 32, 'sampling': None}\n",
            "units_hidden (Int)\n",
            "{'default': None, 'conditions': [], 'min_value': 32, 'max_value': 512, 'step': 32, 'sampling': None}\n",
            "optimizer (Choice)\n",
            "{'default': 'adam', 'conditions': [], 'values': ['adam', 'SGD'], 'ordered': False}\n"
          ],
          "name": "stdout"
        }
      ]
    },
    {
      "cell_type": "code",
      "metadata": {
        "colab": {
          "base_uri": "https://localhost:8080/"
        },
        "id": "N5Htd7giTjYA",
        "outputId": "667c814c-15f7-4753-ff3e-1348c99e8cd2"
      },
      "source": [
        "tuner.search(X_train_XGB,                  \n",
        "             y_train_XGB,                  \n",
        "             batch_size=256,           \n",
        "             epochs=30,                 \n",
        "             validation_split=0.2,     \n",
        "             )"
      ],
      "execution_count": 30,
      "outputs": [
        {
          "output_type": "stream",
          "text": [
            "Trial 43 Complete [00h 02m 22s]\n",
            "mae: 0.586673378944397\n",
            "\n",
            "Best mae So Far: 0.5848336815834045\n",
            "Total elapsed time: 01h 22m 20s\n",
            "INFO:tensorflow:Oracle triggered exit\n"
          ],
          "name": "stdout"
        }
      ]
    },
    {
      "cell_type": "code",
      "metadata": {
        "id": "ZXYxrHUMTjYA"
      },
      "source": [
        "models = tuner.get_best_models(num_models=2)"
      ],
      "execution_count": 31,
      "outputs": []
    },
    {
      "cell_type": "code",
      "metadata": {
        "colab": {
          "base_uri": "https://localhost:8080/"
        },
        "id": "lJq-Nz3gTjYB",
        "outputId": "e6357ea1-0fa1-446f-ecdf-b628970c9a0f"
      },
      "source": [
        "for model in models:\n",
        "  model.summary()\n",
        "  model.evaluate(X_val_XGB, y_val_XGB)\n",
        "  print() "
      ],
      "execution_count": 32,
      "outputs": [
        {
          "output_type": "stream",
          "text": [
            "Model: \"sequential\"\n",
            "_________________________________________________________________\n",
            "Layer (type)                 Output Shape              Param #   \n",
            "=================================================================\n",
            "dense (Dense)                (None, 64)                1600      \n",
            "_________________________________________________________________\n",
            "dense_1 (Dense)              (None, 32)                2080      \n",
            "_________________________________________________________________\n",
            "dense_2 (Dense)              (None, 1)                 33        \n",
            "=================================================================\n",
            "Total params: 3,713\n",
            "Trainable params: 3,713\n",
            "Non-trainable params: 0\n",
            "_________________________________________________________________\n",
            "2344/2344 [==============================] - 6s 2ms/step - loss: 0.5825 - mae: 0.5825\n",
            "\n",
            "Model: \"sequential\"\n",
            "_________________________________________________________________\n",
            "Layer (type)                 Output Shape              Param #   \n",
            "=================================================================\n",
            "dense (Dense)                (None, 320)               8000      \n",
            "_________________________________________________________________\n",
            "dense_1 (Dense)              (None, 64)                20544     \n",
            "_________________________________________________________________\n",
            "dense_2 (Dense)              (None, 1)                 65        \n",
            "=================================================================\n",
            "Total params: 28,609\n",
            "Trainable params: 28,609\n",
            "Non-trainable params: 0\n",
            "_________________________________________________________________\n",
            "2344/2344 [==============================] - 6s 2ms/step - loss: 0.5854 - mae: 0.5854\n",
            "\n"
          ],
          "name": "stdout"
        }
      ]
    },
    {
      "cell_type": "code",
      "metadata": {
        "id": "w49hEG_TTjYB"
      },
      "source": [
        "UNITS = 64\n",
        "UNITS_HIDDEN = 32\n",
        "ACTIVATION = 'relu'\n",
        "optimizer = Adam(lr=0.035) \n",
        "\n",
        "\n",
        "BATCH_SIZE_PER_REPLICA = 256"
      ],
      "execution_count": 33,
      "outputs": []
    },
    {
      "cell_type": "code",
      "metadata": {
        "id": "vTKI_XBeTjYB"
      },
      "source": [
        "early_stopping = EarlyStopping(\n",
        "    mode='min', \n",
        "    patience=200, \n",
        "    restore_best_weights=True,\n",
        ")\n",
        "\n",
        "\n",
        "model = keras.Sequential([\n",
        "    layers.Dense(UNITS, ACTIVATION, input_shape=[X_train_XGB.shape[1]]),\n",
        "    layers.Dense(UNITS_HIDDEN, ACTIVATION),\n",
        "    layers.Dense(1)\n",
        "\n",
        "])"
      ],
      "execution_count": 34,
      "outputs": []
    },
    {
      "cell_type": "code",
      "metadata": {
        "id": "-tyzzF2-TjYB"
      },
      "source": [
        "model.compile(\n",
        "    optimizer=optimizer, \n",
        "    loss='mae'\n",
        ")"
      ],
      "execution_count": 35,
      "outputs": []
    },
    {
      "cell_type": "code",
      "metadata": {
        "colab": {
          "base_uri": "https://localhost:8080/",
          "height": 282
        },
        "id": "CHF2SsF8TjYB",
        "outputId": "a2821001-1169-454f-d24f-f00958b4ce06"
      },
      "source": [
        "history = model.fit(\n",
        "    X_train_XGB, y_train_XGB,\n",
        "    validation_data=(X_val_XGB, y_val_XGB),\n",
        "    batch_size=BATCH_SIZE_PER_REPLICA,\n",
        "    epochs=10000,\n",
        "    callbacks=early_stopping,\n",
        "    verbose=0,\n",
        ")\n",
        "\n",
        "\n",
        "history_df = pd.DataFrame(history.history)\n",
        "history_df.loc[:, ['loss', 'val_loss']].plot()\n",
        "print(\"Minimum Validation Loss: {:0.4f}\".format(history_df['val_loss'].min()))"
      ],
      "execution_count": 36,
      "outputs": [
        {
          "output_type": "stream",
          "text": [
            "Minimum Validation Loss: 0.5823\n"
          ],
          "name": "stdout"
        },
        {
          "output_type": "display_data",
          "data": {
            "image/png": "[encoded data removed]",
            "text/plain": [
              "<Figure size 432x288 with 1 Axes>"
            ]
          },
          "metadata": {
            "needs_background": "light"
          }
        }
      ]
    },
    {
      "cell_type": "code",
      "metadata": {
        "colab": {
          "base_uri": "https://localhost:8080/"
        },
        "id": "l8ws0i5YTjYB",
        "outputId": "59878cb0-de2e-46eb-b145-c649b0530032"
      },
      "source": [
        "print(mean_squared_error(y_val_XGB, model.predict(X_val_XGB), squared=False))"
      ],
      "execution_count": 37,
      "outputs": [
        {
          "output_type": "stream",
          "text": [
            "0.7369633747728616\n"
          ],
          "name": "stdout"
        }
      ]
    },
    {
      "cell_type": "code",
      "metadata": {
        "colab": {
          "base_uri": "https://localhost:8080/",
          "height": 224
        },
        "id": "n6FN49AtTjYB",
        "outputId": "01c190bf-dcc7-48d0-c895-851695dbd9b4"
      },
      "source": [
        "X_test_cv.head()"
      ],
      "execution_count": 38,
      "outputs": [
        {
          "output_type": "execute_result",
          "data": {
            "text/html": [
              "<div>\n",
              "<style scoped>\n",
              "    .dataframe tbody tr th:only-of-type {\n",
              "        vertical-align: middle;\n",
              "    }\n",
              "\n",
              "    .dataframe tbody tr th {\n",
              "        vertical-align: top;\n",
              "    }\n",
              "\n",
              "    .dataframe thead th {\n",
              "        text-align: right;\n",
              "    }\n",
              "</style>\n",
              "<table border=\"1\" class=\"dataframe\">\n",
              "  <thead>\n",
              "    <tr style=\"text-align: right;\">\n",
              "      <th></th>\n",
              "      <th>cat0</th>\n",
              "      <th>cat1</th>\n",
              "      <th>cat2</th>\n",
              "      <th>cat3</th>\n",
              "      <th>cat4</th>\n",
              "      <th>cat5</th>\n",
              "      <th>cat6</th>\n",
              "      <th>cat7</th>\n",
              "      <th>cat8</th>\n",
              "      <th>cat9</th>\n",
              "      <th>cont0</th>\n",
              "      <th>cont1</th>\n",
              "      <th>cont2</th>\n",
              "      <th>cont3</th>\n",
              "      <th>cont4</th>\n",
              "      <th>cont5</th>\n",
              "      <th>cont6</th>\n",
              "      <th>cont7</th>\n",
              "      <th>cont8</th>\n",
              "      <th>cont9</th>\n",
              "      <th>cont10</th>\n",
              "      <th>cont11</th>\n",
              "      <th>cont12</th>\n",
              "      <th>cont13</th>\n",
              "    </tr>\n",
              "  </thead>\n",
              "  <tbody>\n",
              "    <tr>\n",
              "      <th>0</th>\n",
              "      <td>1</td>\n",
              "      <td>1</td>\n",
              "      <td>1</td>\n",
              "      <td>2</td>\n",
              "      <td>1</td>\n",
              "      <td>1</td>\n",
              "      <td>0</td>\n",
              "      <td>4</td>\n",
              "      <td>4</td>\n",
              "      <td>8</td>\n",
              "      <td>0.296227</td>\n",
              "      <td>0.686757</td>\n",
              "      <td>0.587731</td>\n",
              "      <td>0.392753</td>\n",
              "      <td>0.476739</td>\n",
              "      <td>0.376350</td>\n",
              "      <td>0.337884</td>\n",
              "      <td>0.321832</td>\n",
              "      <td>0.445212</td>\n",
              "      <td>0.290258</td>\n",
              "      <td>0.244476</td>\n",
              "      <td>0.087914</td>\n",
              "      <td>0.301831</td>\n",
              "      <td>0.845702</td>\n",
              "    </tr>\n",
              "    <tr>\n",
              "      <th>1</th>\n",
              "      <td>0</td>\n",
              "      <td>1</td>\n",
              "      <td>0</td>\n",
              "      <td>2</td>\n",
              "      <td>1</td>\n",
              "      <td>2</td>\n",
              "      <td>0</td>\n",
              "      <td>4</td>\n",
              "      <td>2</td>\n",
              "      <td>7</td>\n",
              "      <td>0.543707</td>\n",
              "      <td>0.364761</td>\n",
              "      <td>0.452967</td>\n",
              "      <td>0.929645</td>\n",
              "      <td>0.285509</td>\n",
              "      <td>0.860046</td>\n",
              "      <td>0.798712</td>\n",
              "      <td>0.835961</td>\n",
              "      <td>0.391657</td>\n",
              "      <td>0.288276</td>\n",
              "      <td>0.549568</td>\n",
              "      <td>0.905097</td>\n",
              "      <td>0.850684</td>\n",
              "      <td>0.693940</td>\n",
              "    </tr>\n",
              "    <tr>\n",
              "      <th>2</th>\n",
              "      <td>1</td>\n",
              "      <td>0</td>\n",
              "      <td>0</td>\n",
              "      <td>0</td>\n",
              "      <td>1</td>\n",
              "      <td>1</td>\n",
              "      <td>0</td>\n",
              "      <td>4</td>\n",
              "      <td>3</td>\n",
              "      <td>10</td>\n",
              "      <td>0.408961</td>\n",
              "      <td>0.296129</td>\n",
              "      <td>0.690999</td>\n",
              "      <td>0.740027</td>\n",
              "      <td>0.697272</td>\n",
              "      <td>0.683600</td>\n",
              "      <td>0.404089</td>\n",
              "      <td>0.879379</td>\n",
              "      <td>0.275549</td>\n",
              "      <td>0.427871</td>\n",
              "      <td>0.491667</td>\n",
              "      <td>0.384315</td>\n",
              "      <td>0.376689</td>\n",
              "      <td>0.508099</td>\n",
              "    </tr>\n",
              "    <tr>\n",
              "      <th>3</th>\n",
              "      <td>1</td>\n",
              "      <td>1</td>\n",
              "      <td>0</td>\n",
              "      <td>2</td>\n",
              "      <td>1</td>\n",
              "      <td>3</td>\n",
              "      <td>0</td>\n",
              "      <td>4</td>\n",
              "      <td>0</td>\n",
              "      <td>13</td>\n",
              "      <td>1.031239</td>\n",
              "      <td>0.356062</td>\n",
              "      <td>0.303651</td>\n",
              "      <td>0.895591</td>\n",
              "      <td>0.719306</td>\n",
              "      <td>0.777890</td>\n",
              "      <td>0.730954</td>\n",
              "      <td>0.644315</td>\n",
              "      <td>1.024017</td>\n",
              "      <td>0.391090</td>\n",
              "      <td>0.988340</td>\n",
              "      <td>0.411828</td>\n",
              "      <td>0.393585</td>\n",
              "      <td>0.461372</td>\n",
              "    </tr>\n",
              "    <tr>\n",
              "      <th>4</th>\n",
              "      <td>1</td>\n",
              "      <td>1</td>\n",
              "      <td>0</td>\n",
              "      <td>2</td>\n",
              "      <td>1</td>\n",
              "      <td>2</td>\n",
              "      <td>0</td>\n",
              "      <td>4</td>\n",
              "      <td>2</td>\n",
              "      <td>5</td>\n",
              "      <td>0.530447</td>\n",
              "      <td>0.729004</td>\n",
              "      <td>0.281723</td>\n",
              "      <td>0.444698</td>\n",
              "      <td>0.313032</td>\n",
              "      <td>0.431007</td>\n",
              "      <td>0.390992</td>\n",
              "      <td>0.408874</td>\n",
              "      <td>0.447887</td>\n",
              "      <td>0.390253</td>\n",
              "      <td>0.648932</td>\n",
              "      <td>0.385935</td>\n",
              "      <td>0.370401</td>\n",
              "      <td>0.900412</td>\n",
              "    </tr>\n",
              "  </tbody>\n",
              "</table>\n",
              "</div>"
            ],
            "text/plain": [
              "   cat0  cat1  cat2  cat3  ...    cont10    cont11    cont12    cont13\n",
              "0     1     1     1     2  ...  0.244476  0.087914  0.301831  0.845702\n",
              "1     0     1     0     2  ...  0.549568  0.905097  0.850684  0.693940\n",
              "2     1     0     0     0  ...  0.491667  0.384315  0.376689  0.508099\n",
              "3     1     1     0     2  ...  0.988340  0.411828  0.393585  0.461372\n",
              "4     1     1     0     2  ...  0.648932  0.385935  0.370401  0.900412\n",
              "\n",
              "[5 rows x 24 columns]"
            ]
          },
          "metadata": {},
          "execution_count": 38
        }
      ]
    },
    {
      "cell_type": "code",
      "metadata": {
        "id": "GO19seGcTjYC"
      },
      "source": [
        "preds = model.predict(X_test_cv)"
      ],
      "execution_count": 39,
      "outputs": []
    },
    {
      "cell_type": "code",
      "metadata": {
        "colab": {
          "base_uri": "https://localhost:8080/",
          "height": 17
        },
        "id": "1IeEHG0ETjYC",
        "outputId": "5d4358f1-9e90-4935-e944-a7f726559742"
      },
      "source": [
        "sub = pd.DataFrame()\n",
        "sub['Id'] = test['id']\n",
        "sub['target'] = preds\n",
        "sub.to_csv('my_submission_keras_adam.csv',index=False)\n",
        "from google.colab import files\n",
        "files.download(\"my_submission_keras_adam.csv\")"
      ],
      "execution_count": 40,
      "outputs": [
        {
          "output_type": "display_data",
          "data": {
            "application/javascript": [
              "\n",
              "    async function download(id, filename, size) {\n",
              "      if (!google.colab.kernel.accessAllowed) {\n",
              "        return;\n",
              "      }\n",
              "      const div = document.createElement('div');\n",
              "      const label = document.createElement('label');\n",
              "      label.textContent = `Downloading \"${filename}\": `;\n",
              "      div.appendChild(label);\n",
              "      const progress = document.createElement('progress');\n",
              "      progress.max = size;\n",
              "      div.appendChild(progress);\n",
              "      document.body.appendChild(div);\n",
              "\n",
              "      const buffers = [];\n",
              "      let downloaded = 0;\n",
              "\n",
              "      const channel = await google.colab.kernel.comms.open(id);\n",
              "      // Send a message to notify the kernel that we're ready.\n",
              "      channel.send({})\n",
              "\n",
              "      for await (const message of channel.messages) {\n",
              "        // Send a message to notify the kernel that we're ready.\n",
              "        channel.send({})\n",
              "        if (message.buffers) {\n",
              "          for (const buffer of message.buffers) {\n",
              "            buffers.push(buffer);\n",
              "            downloaded += buffer.byteLength;\n",
              "            progress.value = downloaded;\n",
              "          }\n",
              "        }\n",
              "      }\n",
              "      const blob = new Blob(buffers, {type: 'application/binary'});\n",
              "      const a = document.createElement('a');\n",
              "      a.href = window.URL.createObjectURL(blob);\n",
              "      a.download = filename;\n",
              "      div.appendChild(a);\n",
              "      a.click();\n",
              "      div.remove();\n",
              "    }\n",
              "  "
            ],
            "text/plain": [
              "<IPython.core.display.Javascript object>"
            ]
          },
          "metadata": {}
        },
        {
          "output_type": "display_data",
          "data": {
            "application/javascript": [
              "download(\"download_7ffa6eab-f9e7-44a9-8f1f-ef6aa6ee5177\", \"my_submission_keras_3.csv\", 3146225)"
            ],
            "text/plain": [
              "<IPython.core.display.Javascript object>"
            ]
          },
          "metadata": {}
        }
      ]
    },
    {
      "cell_type": "code",
      "metadata": {
        "colab": {
          "base_uri": "https://localhost:8080/",
          "height": 204
        },
        "id": "daUXG83BTjYC",
        "outputId": "b1202c2c-b595-40ef-cb6f-71205aaba3c8"
      },
      "source": [
        "sub.head()"
      ],
      "execution_count": 41,
      "outputs": [
        {
          "output_type": "execute_result",
          "data": {
            "text/html": [
              "<div>\n",
              "<style scoped>\n",
              "    .dataframe tbody tr th:only-of-type {\n",
              "        vertical-align: middle;\n",
              "    }\n",
              "\n",
              "    .dataframe tbody tr th {\n",
              "        vertical-align: top;\n",
              "    }\n",
              "\n",
              "    .dataframe thead th {\n",
              "        text-align: right;\n",
              "    }\n",
              "</style>\n",
              "<table border=\"1\" class=\"dataframe\">\n",
              "  <thead>\n",
              "    <tr style=\"text-align: right;\">\n",
              "      <th></th>\n",
              "      <th>Id</th>\n",
              "      <th>target</th>\n",
              "    </tr>\n",
              "  </thead>\n",
              "  <tbody>\n",
              "    <tr>\n",
              "      <th>0</th>\n",
              "      <td>0</td>\n",
              "      <td>8.027167</td>\n",
              "    </tr>\n",
              "    <tr>\n",
              "      <th>1</th>\n",
              "      <td>5</td>\n",
              "      <td>8.287356</td>\n",
              "    </tr>\n",
              "    <tr>\n",
              "      <th>2</th>\n",
              "      <td>15</td>\n",
              "      <td>8.339341</td>\n",
              "    </tr>\n",
              "    <tr>\n",
              "      <th>3</th>\n",
              "      <td>16</td>\n",
              "      <td>8.072139</td>\n",
              "    </tr>\n",
              "    <tr>\n",
              "      <th>4</th>\n",
              "      <td>17</td>\n",
              "      <td>8.193595</td>\n",
              "    </tr>\n",
              "  </tbody>\n",
              "</table>\n",
              "</div>"
            ],
            "text/plain": [
              "   Id    target\n",
              "0   0  8.027167\n",
              "1   5  8.287356\n",
              "2  15  8.339341\n",
              "3  16  8.072139\n",
              "4  17  8.193595"
            ]
          },
          "metadata": {},
          "execution_count": 41
        }
      ]
    },
    {
      "cell_type": "markdown",
      "metadata": {
        "id": "Juhp2izkigOW"
      },
      "source": [
        "#Keras 4"
      ]
    },
    {
      "cell_type": "code",
      "metadata": {
        "id": "FHHpQsH-iiW-"
      },
      "source": [
        "def build_model(hp):\n",
        "    model = Sequential()\n",
        "       \n",
        "    model.add(Dense(units=hp.Int('units_input',    \n",
        "                                   min_value=64,    \n",
        "                                   max_value=512,   \n",
        "                                   step=32),\n",
        "                    input_dim=24, \n",
        "                    activation='relu'))\n",
        "    model.add(Dropout(0.3))\n",
        "    model.add(BatchNormalization())\n",
        "    model.add(Dense(units=hp.Int('units_hidden',        \n",
        "                                   min_value=64,   \n",
        "                                   max_value=512,   \n",
        "                                   step=32),\n",
        "                    activation='relu'))\n",
        "    model.add(Dropout(0.3))\n",
        "    model.add(BatchNormalization())\n",
        "    model.add(Dense(1)) \n",
        "    model.compile(\n",
        "        optimizer=hp.Choice('optimizer', values=['adam','SGD']),\n",
        "        loss='mae',\n",
        "        metrics=['mae'])\n",
        "    return model"
      ],
      "execution_count": 48,
      "outputs": []
    },
    {
      "cell_type": "code",
      "metadata": {
        "id": "P2sqguR_iiW-"
      },
      "source": [
        "tuner = RandomSearch(\n",
        "    build_model,                 \n",
        "    objective='mae',    \n",
        "                                 \n",
        "    max_trials=10,                \n",
        "    directory='test_directory_7'     \n",
        "    )"
      ],
      "execution_count": 57,
      "outputs": []
    },
    {
      "cell_type": "code",
      "metadata": {
        "colab": {
          "base_uri": "https://localhost:8080/"
        },
        "id": "pUe69iMNiiW-",
        "outputId": "13e85198-9e70-444b-a111-cf0a4e63db98"
      },
      "source": [
        "tuner.search_space_summary()"
      ],
      "execution_count": 58,
      "outputs": [
        {
          "output_type": "stream",
          "text": [
            "Search space summary\n",
            "Default search space size: 3\n",
            "units_input (Int)\n",
            "{'default': None, 'conditions': [], 'min_value': 64, 'max_value': 512, 'step': 32, 'sampling': None}\n",
            "units_hidden (Int)\n",
            "{'default': None, 'conditions': [], 'min_value': 64, 'max_value': 512, 'step': 32, 'sampling': None}\n",
            "optimizer (Choice)\n",
            "{'default': 'adam', 'conditions': [], 'values': ['adam', 'SGD'], 'ordered': False}\n"
          ],
          "name": "stdout"
        }
      ]
    },
    {
      "cell_type": "code",
      "metadata": {
        "colab": {
          "base_uri": "https://localhost:8080/"
        },
        "id": "eQVY1SlliiW_",
        "outputId": "d6ea9b4f-9b1d-46b2-d58f-b9f7f8a71972"
      },
      "source": [
        "tuner.search(X_train_XGB,                  \n",
        "             y_train_XGB,                  \n",
        "             batch_size=512,           \n",
        "             epochs=20,                 \n",
        "             validation_split=0.2,     \n",
        "             )"
      ],
      "execution_count": 59,
      "outputs": [
        {
          "output_type": "stream",
          "text": [
            "Trial 10 Complete [00h 00m 48s]\n",
            "mae: 0.5911945104598999\n",
            "\n",
            "Best mae So Far: 0.5876796841621399\n",
            "Total elapsed time: 00h 10m 21s\n",
            "INFO:tensorflow:Oracle triggered exit\n"
          ],
          "name": "stdout"
        }
      ]
    },
    {
      "cell_type": "code",
      "metadata": {
        "id": "s3Dc2_DyiiW_"
      },
      "source": [
        "models = tuner.get_best_models(num_models=2)"
      ],
      "execution_count": 60,
      "outputs": []
    },
    {
      "cell_type": "code",
      "metadata": {
        "colab": {
          "base_uri": "https://localhost:8080/"
        },
        "id": "ToBVqDDJiiW_",
        "outputId": "e6ad99d4-9469-4ff2-e98f-b17aeb6f2808"
      },
      "source": [
        "for model in models:\n",
        "  model.summary()\n",
        "  model.evaluate(X_val_XGB, y_val_XGB)\n",
        "  print() "
      ],
      "execution_count": 61,
      "outputs": [
        {
          "output_type": "stream",
          "text": [
            "Model: \"sequential\"\n",
            "_________________________________________________________________\n",
            "Layer (type)                 Output Shape              Param #   \n",
            "=================================================================\n",
            "dense (Dense)                (None, 192)               4800      \n",
            "_________________________________________________________________\n",
            "dropout (Dropout)            (None, 192)               0         \n",
            "_________________________________________________________________\n",
            "batch_normalization (BatchNo (None, 192)               768       \n",
            "_________________________________________________________________\n",
            "dense_1 (Dense)              (None, 352)               67936     \n",
            "_________________________________________________________________\n",
            "dropout_1 (Dropout)          (None, 352)               0         \n",
            "_________________________________________________________________\n",
            "batch_normalization_1 (Batch (None, 352)               1408      \n",
            "_________________________________________________________________\n",
            "dense_2 (Dense)              (None, 1)                 353       \n",
            "=================================================================\n",
            "Total params: 75,265\n",
            "Trainable params: 74,177\n",
            "Non-trainable params: 1,088\n",
            "_________________________________________________________________\n",
            "2344/2344 [==============================] - 7s 3ms/step - loss: 0.5885 - mae: 0.5885\n",
            "\n",
            "Model: \"sequential\"\n",
            "_________________________________________________________________\n",
            "Layer (type)                 Output Shape              Param #   \n",
            "=================================================================\n",
            "dense (Dense)                (None, 288)               7200      \n",
            "_________________________________________________________________\n",
            "dropout (Dropout)            (None, 288)               0         \n",
            "_________________________________________________________________\n",
            "batch_normalization (BatchNo (None, 288)               1152      \n",
            "_________________________________________________________________\n",
            "dense_1 (Dense)              (None, 352)               101728    \n",
            "_________________________________________________________________\n",
            "dropout_1 (Dropout)          (None, 352)               0         \n",
            "_________________________________________________________________\n",
            "batch_normalization_1 (Batch (None, 352)               1408      \n",
            "_________________________________________________________________\n",
            "dense_2 (Dense)              (None, 1)                 353       \n",
            "=================================================================\n",
            "Total params: 111,841\n",
            "Trainable params: 110,561\n",
            "Non-trainable params: 1,280\n",
            "_________________________________________________________________\n",
            "2344/2344 [==============================] - 6s 3ms/step - loss: 0.5871 - mae: 0.5871\n",
            "\n"
          ],
          "name": "stdout"
        }
      ]
    },
    {
      "cell_type": "code",
      "metadata": {
        "id": "7rk2RAd0iiW_"
      },
      "source": [
        "UNITS = 288\n",
        "UNITS_HIDDEN_1 = 352\n",
        "ACTIVATION = 'relu'\n",
        "BATCH_SIZE_PER_REPLICA = 512"
      ],
      "execution_count": 62,
      "outputs": []
    },
    {
      "cell_type": "code",
      "metadata": {
        "id": "KL0cuy64iiW_"
      },
      "source": [
        "early_stopping = EarlyStopping(\n",
        "    min_delta=0.001, \n",
        "    patience=50, \n",
        "    restore_best_weights=True,\n",
        ")\n",
        "\n",
        "\n",
        "model = keras.Sequential([\n",
        "    layers.Dense(UNITS, ACTIVATION, input_shape=[X_train_XGB.shape[1]]),\n",
        "    layers.Dropout(0.3),\n",
        "    layers.BatchNormalization(),\n",
        "    layers.Dense(UNITS_HIDDEN_1, ACTIVATION),\n",
        "    layers.Dropout(0.3),\n",
        "    layers.BatchNormalization(),\n",
        "    layers.Dense(1)\n",
        "\n",
        "])"
      ],
      "execution_count": 63,
      "outputs": []
    },
    {
      "cell_type": "code",
      "metadata": {
        "id": "xVccjNVliiW_"
      },
      "source": [
        "model.compile(\n",
        "    optimizer='adam', \n",
        "    loss='mae'\n",
        ")"
      ],
      "execution_count": 64,
      "outputs": []
    },
    {
      "cell_type": "code",
      "metadata": {
        "colab": {
          "base_uri": "https://localhost:8080/",
          "height": 283
        },
        "id": "7szhISBTiiW_",
        "outputId": "99c116a1-73a0-4d9d-a9e7-81794faba1b1"
      },
      "source": [
        "history = model.fit(\n",
        "    X_train_XGB, y_train_XGB,\n",
        "    validation_data=(X_val_XGB, y_val_XGB),\n",
        "    batch_size=BATCH_SIZE_PER_REPLICA,\n",
        "    epochs=1000,\n",
        "    callbacks=early_stopping,\n",
        "    verbose=0,\n",
        ")\n",
        "\n",
        "\n",
        "history_df = pd.DataFrame(history.history)\n",
        "history_df.loc[:, ['loss', 'val_loss']].plot()\n",
        "print(\"Minimum Validation Loss: {:0.4f}\".format(history_df['val_loss'].min()))"
      ],
      "execution_count": 65,
      "outputs": [
        {
          "output_type": "stream",
          "text": [
            "Minimum Validation Loss: 0.5830\n"
          ],
          "name": "stdout"
        },
        {
          "output_type": "display_data",
          "data": {
            "image/png": "[encoded data removed]",
            "text/plain": [
              "<Figure size 432x288 with 1 Axes>"
            ]
          },
          "metadata": {
            "needs_background": "light"
          }
        }
      ]
    },
    {
      "cell_type": "code",
      "metadata": {
        "colab": {
          "base_uri": "https://localhost:8080/"
        },
        "id": "VqrqgdzTiiW_",
        "outputId": "93da1d7c-4ce5-4e1c-ae1a-6beb7fd7b4c4"
      },
      "source": [
        "print(mean_squared_error(y_val_XGB, model.predict(X_val_XGB), squared=False))"
      ],
      "execution_count": 66,
      "outputs": [
        {
          "output_type": "stream",
          "text": [
            "0.7388541738165599\n"
          ],
          "name": "stdout"
        }
      ]
    },
    {
      "cell_type": "code",
      "metadata": {
        "colab": {
          "base_uri": "https://localhost:8080/",
          "height": 224
        },
        "id": "rTifmZZdiiW_",
        "outputId": "7fe968f3-954c-4e90-8670-bb550b5c84de"
      },
      "source": [
        "X_test_cv.head()"
      ],
      "execution_count": 67,
      "outputs": [
        {
          "output_type": "execute_result",
          "data": {
            "text/html": [
              "<div>\n",
              "<style scoped>\n",
              "    .dataframe tbody tr th:only-of-type {\n",
              "        vertical-align: middle;\n",
              "    }\n",
              "\n",
              "    .dataframe tbody tr th {\n",
              "        vertical-align: top;\n",
              "    }\n",
              "\n",
              "    .dataframe thead th {\n",
              "        text-align: right;\n",
              "    }\n",
              "</style>\n",
              "<table border=\"1\" class=\"dataframe\">\n",
              "  <thead>\n",
              "    <tr style=\"text-align: right;\">\n",
              "      <th></th>\n",
              "      <th>cat0</th>\n",
              "      <th>cat1</th>\n",
              "      <th>cat2</th>\n",
              "      <th>cat3</th>\n",
              "      <th>cat4</th>\n",
              "      <th>cat5</th>\n",
              "      <th>cat6</th>\n",
              "      <th>cat7</th>\n",
              "      <th>cat8</th>\n",
              "      <th>cat9</th>\n",
              "      <th>cont0</th>\n",
              "      <th>cont1</th>\n",
              "      <th>cont2</th>\n",
              "      <th>cont3</th>\n",
              "      <th>cont4</th>\n",
              "      <th>cont5</th>\n",
              "      <th>cont6</th>\n",
              "      <th>cont7</th>\n",
              "      <th>cont8</th>\n",
              "      <th>cont9</th>\n",
              "      <th>cont10</th>\n",
              "      <th>cont11</th>\n",
              "      <th>cont12</th>\n",
              "      <th>cont13</th>\n",
              "    </tr>\n",
              "  </thead>\n",
              "  <tbody>\n",
              "    <tr>\n",
              "      <th>0</th>\n",
              "      <td>1</td>\n",
              "      <td>1</td>\n",
              "      <td>1</td>\n",
              "      <td>2</td>\n",
              "      <td>1</td>\n",
              "      <td>1</td>\n",
              "      <td>0</td>\n",
              "      <td>4</td>\n",
              "      <td>4</td>\n",
              "      <td>8</td>\n",
              "      <td>0.296227</td>\n",
              "      <td>0.686757</td>\n",
              "      <td>0.587731</td>\n",
              "      <td>0.392753</td>\n",
              "      <td>0.476739</td>\n",
              "      <td>0.376350</td>\n",
              "      <td>0.337884</td>\n",
              "      <td>0.321832</td>\n",
              "      <td>0.445212</td>\n",
              "      <td>0.290258</td>\n",
              "      <td>0.244476</td>\n",
              "      <td>0.087914</td>\n",
              "      <td>0.301831</td>\n",
              "      <td>0.845702</td>\n",
              "    </tr>\n",
              "    <tr>\n",
              "      <th>1</th>\n",
              "      <td>0</td>\n",
              "      <td>1</td>\n",
              "      <td>0</td>\n",
              "      <td>2</td>\n",
              "      <td>1</td>\n",
              "      <td>2</td>\n",
              "      <td>0</td>\n",
              "      <td>4</td>\n",
              "      <td>2</td>\n",
              "      <td>7</td>\n",
              "      <td>0.543707</td>\n",
              "      <td>0.364761</td>\n",
              "      <td>0.452967</td>\n",
              "      <td>0.929645</td>\n",
              "      <td>0.285509</td>\n",
              "      <td>0.860046</td>\n",
              "      <td>0.798712</td>\n",
              "      <td>0.835961</td>\n",
              "      <td>0.391657</td>\n",
              "      <td>0.288276</td>\n",
              "      <td>0.549568</td>\n",
              "      <td>0.905097</td>\n",
              "      <td>0.850684</td>\n",
              "      <td>0.693940</td>\n",
              "    </tr>\n",
              "    <tr>\n",
              "      <th>2</th>\n",
              "      <td>1</td>\n",
              "      <td>0</td>\n",
              "      <td>0</td>\n",
              "      <td>0</td>\n",
              "      <td>1</td>\n",
              "      <td>1</td>\n",
              "      <td>0</td>\n",
              "      <td>4</td>\n",
              "      <td>3</td>\n",
              "      <td>10</td>\n",
              "      <td>0.408961</td>\n",
              "      <td>0.296129</td>\n",
              "      <td>0.690999</td>\n",
              "      <td>0.740027</td>\n",
              "      <td>0.697272</td>\n",
              "      <td>0.683600</td>\n",
              "      <td>0.404089</td>\n",
              "      <td>0.879379</td>\n",
              "      <td>0.275549</td>\n",
              "      <td>0.427871</td>\n",
              "      <td>0.491667</td>\n",
              "      <td>0.384315</td>\n",
              "      <td>0.376689</td>\n",
              "      <td>0.508099</td>\n",
              "    </tr>\n",
              "    <tr>\n",
              "      <th>3</th>\n",
              "      <td>1</td>\n",
              "      <td>1</td>\n",
              "      <td>0</td>\n",
              "      <td>2</td>\n",
              "      <td>1</td>\n",
              "      <td>3</td>\n",
              "      <td>0</td>\n",
              "      <td>4</td>\n",
              "      <td>0</td>\n",
              "      <td>13</td>\n",
              "      <td>1.031239</td>\n",
              "      <td>0.356062</td>\n",
              "      <td>0.303651</td>\n",
              "      <td>0.895591</td>\n",
              "      <td>0.719306</td>\n",
              "      <td>0.777890</td>\n",
              "      <td>0.730954</td>\n",
              "      <td>0.644315</td>\n",
              "      <td>1.024017</td>\n",
              "      <td>0.391090</td>\n",
              "      <td>0.988340</td>\n",
              "      <td>0.411828</td>\n",
              "      <td>0.393585</td>\n",
              "      <td>0.461372</td>\n",
              "    </tr>\n",
              "    <tr>\n",
              "      <th>4</th>\n",
              "      <td>1</td>\n",
              "      <td>1</td>\n",
              "      <td>0</td>\n",
              "      <td>2</td>\n",
              "      <td>1</td>\n",
              "      <td>2</td>\n",
              "      <td>0</td>\n",
              "      <td>4</td>\n",
              "      <td>2</td>\n",
              "      <td>5</td>\n",
              "      <td>0.530447</td>\n",
              "      <td>0.729004</td>\n",
              "      <td>0.281723</td>\n",
              "      <td>0.444698</td>\n",
              "      <td>0.313032</td>\n",
              "      <td>0.431007</td>\n",
              "      <td>0.390992</td>\n",
              "      <td>0.408874</td>\n",
              "      <td>0.447887</td>\n",
              "      <td>0.390253</td>\n",
              "      <td>0.648932</td>\n",
              "      <td>0.385935</td>\n",
              "      <td>0.370401</td>\n",
              "      <td>0.900412</td>\n",
              "    </tr>\n",
              "  </tbody>\n",
              "</table>\n",
              "</div>"
            ],
            "text/plain": [
              "   cat0  cat1  cat2  cat3  ...    cont10    cont11    cont12    cont13\n",
              "0     1     1     1     2  ...  0.244476  0.087914  0.301831  0.845702\n",
              "1     0     1     0     2  ...  0.549568  0.905097  0.850684  0.693940\n",
              "2     1     0     0     0  ...  0.491667  0.384315  0.376689  0.508099\n",
              "3     1     1     0     2  ...  0.988340  0.411828  0.393585  0.461372\n",
              "4     1     1     0     2  ...  0.648932  0.385935  0.370401  0.900412\n",
              "\n",
              "[5 rows x 24 columns]"
            ]
          },
          "metadata": {},
          "execution_count": 67
        }
      ]
    },
    {
      "cell_type": "code",
      "metadata": {
        "id": "q-u2qvohiiW_"
      },
      "source": [
        "preds = model.predict(X_test_cv)"
      ],
      "execution_count": 68,
      "outputs": []
    },
    {
      "cell_type": "code",
      "metadata": {
        "colab": {
          "base_uri": "https://localhost:8080/",
          "height": 17
        },
        "id": "FJiQYHOOiiW_",
        "outputId": "1244f298-d8a8-468f-e8ca-bffb81786ae3"
      },
      "source": [
        "sub = pd.DataFrame()\n",
        "sub['Id'] = test['id']\n",
        "sub['target'] = preds\n",
        "sub.to_csv('my_submission_keras_4.csv',index=False)\n",
        "from google.colab import files\n",
        "files.download(\"my_submission_keras_4.csv\")"
      ],
      "execution_count": 69,
      "outputs": [
        {
          "output_type": "display_data",
          "data": {
            "application/javascript": [
              "\n",
              "    async function download(id, filename, size) {\n",
              "      if (!google.colab.kernel.accessAllowed) {\n",
              "        return;\n",
              "      }\n",
              "      const div = document.createElement('div');\n",
              "      const label = document.createElement('label');\n",
              "      label.textContent = `Downloading \"${filename}\": `;\n",
              "      div.appendChild(label);\n",
              "      const progress = document.createElement('progress');\n",
              "      progress.max = size;\n",
              "      div.appendChild(progress);\n",
              "      document.body.appendChild(div);\n",
              "\n",
              "      const buffers = [];\n",
              "      let downloaded = 0;\n",
              "\n",
              "      const channel = await google.colab.kernel.comms.open(id);\n",
              "      // Send a message to notify the kernel that we're ready.\n",
              "      channel.send({})\n",
              "\n",
              "      for await (const message of channel.messages) {\n",
              "        // Send a message to notify the kernel that we're ready.\n",
              "        channel.send({})\n",
              "        if (message.buffers) {\n",
              "          for (const buffer of message.buffers) {\n",
              "            buffers.push(buffer);\n",
              "            downloaded += buffer.byteLength;\n",
              "            progress.value = downloaded;\n",
              "          }\n",
              "        }\n",
              "      }\n",
              "      const blob = new Blob(buffers, {type: 'application/binary'});\n",
              "      const a = document.createElement('a');\n",
              "      a.href = window.URL.createObjectURL(blob);\n",
              "      a.download = filename;\n",
              "      div.appendChild(a);\n",
              "      a.click();\n",
              "      div.remove();\n",
              "    }\n",
              "  "
            ],
            "text/plain": [
              "<IPython.core.display.Javascript object>"
            ]
          },
          "metadata": {}
        },
        {
          "output_type": "display_data",
          "data": {
            "application/javascript": [
              "download(\"download_997f0f2c-c12b-4de4-ba26-270795138610\", \"my_submission_keras_4.csv\", 3144479)"
            ],
            "text/plain": [
              "<IPython.core.display.Javascript object>"
            ]
          },
          "metadata": {}
        }
      ]
    },
    {
      "cell_type": "code",
      "metadata": {
        "colab": {
          "base_uri": "https://localhost:8080/",
          "height": 204
        },
        "id": "RECOKxIxiiW_",
        "outputId": "c37ae3d3-8812-4604-bf62-0bc5f35e7c01"
      },
      "source": [
        "sub.head()"
      ],
      "execution_count": 70,
      "outputs": [
        {
          "output_type": "execute_result",
          "data": {
            "text/html": [
              "<div>\n",
              "<style scoped>\n",
              "    .dataframe tbody tr th:only-of-type {\n",
              "        vertical-align: middle;\n",
              "    }\n",
              "\n",
              "    .dataframe tbody tr th {\n",
              "        vertical-align: top;\n",
              "    }\n",
              "\n",
              "    .dataframe thead th {\n",
              "        text-align: right;\n",
              "    }\n",
              "</style>\n",
              "<table border=\"1\" class=\"dataframe\">\n",
              "  <thead>\n",
              "    <tr style=\"text-align: right;\">\n",
              "      <th></th>\n",
              "      <th>Id</th>\n",
              "      <th>target</th>\n",
              "    </tr>\n",
              "  </thead>\n",
              "  <tbody>\n",
              "    <tr>\n",
              "      <th>0</th>\n",
              "      <td>0</td>\n",
              "      <td>8.043885</td>\n",
              "    </tr>\n",
              "    <tr>\n",
              "      <th>1</th>\n",
              "      <td>5</td>\n",
              "      <td>8.237064</td>\n",
              "    </tr>\n",
              "    <tr>\n",
              "      <th>2</th>\n",
              "      <td>15</td>\n",
              "      <td>8.298949</td>\n",
              "    </tr>\n",
              "    <tr>\n",
              "      <th>3</th>\n",
              "      <td>16</td>\n",
              "      <td>8.102369</td>\n",
              "    </tr>\n",
              "    <tr>\n",
              "      <th>4</th>\n",
              "      <td>17</td>\n",
              "      <td>8.143108</td>\n",
              "    </tr>\n",
              "  </tbody>\n",
              "</table>\n",
              "</div>"
            ],
            "text/plain": [
              "   Id    target\n",
              "0   0  8.043885\n",
              "1   5  8.237064\n",
              "2  15  8.298949\n",
              "3  16  8.102369\n",
              "4  17  8.143108"
            ]
          },
          "metadata": {},
          "execution_count": 70
        }
      ]
    },
    {
      "cell_type": "markdown",
      "metadata": {
        "id": "KLMzHbFB5E-4"
      },
      "source": [
        "#LGMB/XGB\n"
      ]
    },
    {
      "cell_type": "code",
      "metadata": {
        "id": "0BXzceZmiD2J"
      },
      "source": [
        "#LGMB\n",
        "\n",
        "params_lgb = {\n",
        "    \"task\": \"train\",\n",
        "    \"boosting_type\": \"gbdt\",\n",
        "    \"objective\": \"regression\",\n",
        "    \"metric\": \"rmse\",\n",
        "    \"learning_rate\": 0.003899,\n",
        "    'num_boost_round': 100000,\n",
        "    \"num_leaves\": 62,\n",
        "    \"max_depth\": 95,\n",
        "    \"feature_fraction\": 0.2256,\n",
        "    \"bagging_fraction\": 0.8805,\n",
        "    \"min_child_samples\": 290,\n",
        "    \"reg_alpha\": 9.562925,\n",
        "    \"reg_lambda\": 9.35581,\n",
        "    \"max_bin\": 881,\n",
        "    \"min_data_per_group\": 125,\n",
        "    \"bagging_freq\": 1,\n",
        "    \"cat_smooth\": 96,\n",
        "    \"cat_l2\": 19,\n",
        "    \"verbosity\": -1,\n",
        "    \"bagging_seed\": 42,\n",
        "    \"feature_fraction_seed\": 42,\n",
        "    \"seed\": 42,\n",
        "    'random_state':42\n",
        "}\n",
        "\n",
        "\n",
        "#XGBboost\n",
        "\n",
        "xgb_params = {\n",
        "    'n_estimators': 5000,\n",
        "    'learning_rate': 0.1235,\n",
        "    'subsample': 0.95,\n",
        "    'colsample_bytree': 0.11,\n",
        "    'max_depth': 2,\n",
        "    'booster': 'gbtree', \n",
        "    'reg_lambda': 66.1,\n",
        "    'reg_alpha': 15.9,\n",
        "    'random_state':42,\n",
        "    'verbosity': 0\n",
        "}\n",
        "\n",
        "\n",
        "xgb_params_2 = {\n",
        "    'n_estimators': 5000,\n",
        "    'learning_rate': 0.247,\n",
        "    'subsample': 0.95,\n",
        "    'colsample_bytree': 0.11,\n",
        "    'max_depth': 2,\n",
        "    'booster': 'gbtree', \n",
        "    'reg_lambda': 66.1,\n",
        "    'reg_alpha': 15.9,\n",
        "    'random_state':42,\n",
        "    'verbosity': 0\n",
        "}\n",
        "\n",
        "\n",
        "xgb_params_3 = {'n_jobs': 4,\n",
        "    'booster': 'gbtree',\n",
        "    'n_estimators': 10000,\n",
        "    'learning_rate': 0.036283,\n",
        "    'reg_lambda': 0.0008746,\n",
        "    'reg_alpha': 23.13181,\n",
        "    'subsample': 0.787549,\n",
        "    'colsample_bytree': 0.11807,\n",
        "    'max_depth':3\n",
        "    }\n"
      ],
      "execution_count": 22,
      "outputs": []
    },
    {
      "cell_type": "markdown",
      "metadata": {
        "id": "bJe8Dn3fqcRQ"
      },
      "source": [
        "### Stacking"
      ]
    },
    {
      "cell_type": "code",
      "metadata": {
        "id": "1wc1b5kxyF4q"
      },
      "source": [
        "XGB_1 = XGBRegressor(**xgb_params)\n",
        "XGB_2 = XGBRegressor(**xgb_params_2)\n",
        "XGB_3 = XGBRegressor(**xgb_params_3)\n",
        "LGBM = LGBMRegressor(**params_lgb)"
      ],
      "execution_count": null,
      "outputs": []
    },
    {
      "cell_type": "code",
      "metadata": {
        "id": "4iJ6y2CiEnLt"
      },
      "source": [
        "estimators = [XGB_1, XGB_2, LGBM]"
      ],
      "execution_count": null,
      "outputs": []
    },
    {
      "cell_type": "code",
      "metadata": {
        "id": "gyW012YN74NI"
      },
      "source": [
        "X_train_XGB, X_val_XGB, y_train_XGB,y_val_XGB = train_test_split(features, target, test_size=0.25,\n",
        "                                                                  random_state=42)"
      ],
      "execution_count": 23,
      "outputs": []
    },
    {
      "cell_type": "code",
      "metadata": {
        "colab": {
          "base_uri": "https://localhost:8080/"
        },
        "id": "02C_diCrYQwK",
        "outputId": "5ecb312e-640f-4d5d-ee7c-cec995381984"
      },
      "source": [
        "for estimator in estimators:\n",
        "    print('Обучение', estimator)\n",
        "    estimator.fit(X_train_XGB, y_train_XGB)"
      ],
      "execution_count": null,
      "outputs": [
        {
          "output_type": "stream",
          "text": [
            "Обучение XGBRegressor(base_score=0.5, booster='gbtree', colsample_bylevel=1,\n",
            "             colsample_bynode=1, colsample_bytree=0.11, gamma=0,\n",
            "             importance_type='gain', learning_rate=0.1235, max_delta_step=0,\n",
            "             max_depth=2, min_child_weight=1, missing=None, n_estimators=5000,\n",
            "             n_jobs=1, nthread=None, objective='reg:linear', random_state=42,\n",
            "             reg_alpha=15.9, reg_lambda=66.1, scale_pos_weight=1, seed=None,\n",
            "             silent=None, subsample=0.95, verbosity=0)\n",
            "Обучение XGBRegressor(base_score=0.5, booster='gbtree', colsample_bylevel=1,\n",
            "             colsample_bynode=1, colsample_bytree=0.11, gamma=0,\n",
            "             importance_type='gain', learning_rate=0.247, max_delta_step=0,\n",
            "             max_depth=2, min_child_weight=1, missing=None, n_estimators=5000,\n",
            "             n_jobs=1, nthread=None, objective='reg:linear', random_state=42,\n",
            "             reg_alpha=15.9, reg_lambda=66.1, scale_pos_weight=1, seed=None,\n",
            "             silent=None, subsample=0.95, verbosity=0)\n",
            "Обучение LGBMRegressor(bagging_fraction=0.8805, bagging_freq=1, bagging_seed=42,\n",
            "              boosting_type='gbdt', cat_l2=19, cat_smooth=96, class_weight=None,\n",
            "              colsample_bytree=1.0, feature_fraction=0.2256,\n",
            "              feature_fraction_seed=42, importance_type='split',\n",
            "              learning_rate=0.003899, max_bin=881, max_depth=95, metric='rmse',\n",
            "              min_child_samples=290, min_child_weight=0.001,\n",
            "              min_data_per_group=125, min_split_gain=0.0, n_estimators=100,\n",
            "              n_jobs=-1, num_boost_round=100000, num_leaves=62,\n",
            "              objective='regression', random_state=42, reg_alpha=9.562925,\n",
            "              reg_lambda=9.35581, seed=42, silent=True, subsample=1.0, ...)\n"
          ],
          "name": "stdout"
        }
      ]
    },
    {
      "cell_type": "code",
      "metadata": {
        "id": "VFiabeBIYQtC"
      },
      "source": [
        "X_val_predictions = np.empty((X_val_XGB.shape[0], len(estimators)), dtype=np.float32)\n",
        "\n",
        "for index, estimator in enumerate(estimators):\n",
        "    X_val_predictions[:, index] = estimator.predict(X_val_XGB)"
      ],
      "execution_count": null,
      "outputs": []
    },
    {
      "cell_type": "code",
      "metadata": {
        "id": "4IQOisvLY3nJ",
        "colab": {
          "base_uri": "https://localhost:8080/"
        },
        "outputId": "ad6b8067-4f82-44e9-dab4-aec3f8dd0a9a"
      },
      "source": [
        "X_val_predictions"
      ],
      "execution_count": null,
      "outputs": [
        {
          "output_type": "execute_result",
          "data": {
            "text/plain": [
              "array([[8.195625 , 8.164467 , 8.057371 ],\n",
              "       [8.447451 , 8.398245 , 8.246388 ],\n",
              "       [8.319532 , 8.307602 , 8.265125 ],\n",
              "       ...,\n",
              "       [8.499247 , 8.52269  , 8.911269 ],\n",
              "       [8.040552 , 7.920083 , 7.7536707],\n",
              "       [8.469873 , 8.4031925, 8.254602 ]], dtype=float32)"
            ]
          },
          "metadata": {},
          "execution_count": 61
        }
      ]
    },
    {
      "cell_type": "code",
      "metadata": {
        "id": "I7mXodLKYQpp"
      },
      "source": [
        "blender = XGB_1"
      ],
      "execution_count": null,
      "outputs": []
    },
    {
      "cell_type": "code",
      "metadata": {
        "id": "IhCCKXb6YQmh",
        "colab": {
          "base_uri": "https://localhost:8080/"
        },
        "outputId": "7bfce2a3-489b-4a53-a322-ddf5c79cb2b0"
      },
      "source": [
        "blender.fit(X_val_predictions, y_val_XGB)"
      ],
      "execution_count": null,
      "outputs": [
        {
          "output_type": "execute_result",
          "data": {
            "text/plain": [
              "XGBRegressor(base_score=0.5, booster='gbtree', colsample_bylevel=1,\n",
              "             colsample_bynode=1, colsample_bytree=0.11, gamma=0,\n",
              "             importance_type='gain', learning_rate=0.1235, max_delta_step=0,\n",
              "             max_depth=2, min_child_weight=1, missing=None, n_estimators=5000,\n",
              "             n_jobs=1, nthread=None, objective='reg:linear', random_state=42,\n",
              "             reg_alpha=15.9, reg_lambda=66.1, scale_pos_weight=1, seed=None,\n",
              "             silent=None, subsample=0.95, verbosity=0)"
            ]
          },
          "metadata": {},
          "execution_count": 72
        }
      ]
    },
    {
      "cell_type": "code",
      "metadata": {
        "id": "PWm4VyBTY1Gn"
      },
      "source": [
        "X_test_predictions = np.empty((X_test.shape[0], len(estimators)), dtype=np.float32)\n",
        "\n",
        "for index, estimator in enumerate(estimators):\n",
        "    X_test_predictions[:, index] = estimator.predict(X_test_cv)"
      ],
      "execution_count": null,
      "outputs": []
    },
    {
      "cell_type": "code",
      "metadata": {
        "id": "-F4_x0xBY1D1",
        "colab": {
          "base_uri": "https://localhost:8080/"
        },
        "outputId": "5555d4ce-53c7-4897-c4bb-c4b97a4418b9"
      },
      "source": [
        "X_test_predictions"
      ],
      "execution_count": null,
      "outputs": [
        {
          "output_type": "execute_result",
          "data": {
            "text/plain": [
              "array([[8.11477  , 8.114196 , 8.12039  ],\n",
              "       [8.45199  , 8.5224285, 8.324602 ],\n",
              "       [8.433565 , 8.444759 , 8.477477 ],\n",
              "       ...,\n",
              "       [8.510586 , 8.595936 , 8.581106 ],\n",
              "       [8.251127 , 8.238838 , 8.188286 ],\n",
              "       [8.00691  , 8.006392 , 7.7700253]], dtype=float32)"
            ]
          },
          "metadata": {},
          "execution_count": 65
        }
      ]
    },
    {
      "cell_type": "code",
      "metadata": {
        "id": "C98F7lB4ZKTp"
      },
      "source": [
        "stacks = blender.predict(X_test_predictions)"
      ],
      "execution_count": null,
      "outputs": []
    },
    {
      "cell_type": "code",
      "metadata": {
        "id": "Ov_AWQuBZKRA",
        "colab": {
          "base_uri": "https://localhost:8080/"
        },
        "outputId": "57832919-cc8f-43b5-f519-baaf6a4daba7"
      },
      "source": [
        "pd.Series(stacks)"
      ],
      "execution_count": null,
      "outputs": [
        {
          "output_type": "execute_result",
          "data": {
            "text/plain": [
              "0         8.102695\n",
              "1         8.451283\n",
              "2         8.363199\n",
              "3         8.441261\n",
              "4         8.155249\n",
              "            ...   \n",
              "199995    7.941524\n",
              "199996    8.432581\n",
              "199997    8.471201\n",
              "199998    8.356403\n",
              "199999    8.041707\n",
              "Length: 200000, dtype: float32"
            ]
          },
          "metadata": {},
          "execution_count": 74
        }
      ]
    },
    {
      "cell_type": "code",
      "metadata": {
        "id": "v1yA1hGQZz-b",
        "colab": {
          "base_uri": "https://localhost:8080/",
          "height": 17
        },
        "outputId": "e81ce0c8-08b5-44ab-ddeb-1f6d12bf39cf"
      },
      "source": [
        "Stacking = pd.DataFrame()\n",
        "Stacking['Id'] = test['id']\n",
        "Stacking['target'] = stacks\n",
        "\n",
        "\n",
        "Stacking.to_csv('Stacking.csv', index=False)\n",
        "files.download('Stacking.csv')"
      ],
      "execution_count": null,
      "outputs": [
        {
          "output_type": "display_data",
          "data": {
            "application/javascript": [
              "\n",
              "    async function download(id, filename, size) {\n",
              "      if (!google.colab.kernel.accessAllowed) {\n",
              "        return;\n",
              "      }\n",
              "      const div = document.createElement('div');\n",
              "      const label = document.createElement('label');\n",
              "      label.textContent = `Downloading \"${filename}\": `;\n",
              "      div.appendChild(label);\n",
              "      const progress = document.createElement('progress');\n",
              "      progress.max = size;\n",
              "      div.appendChild(progress);\n",
              "      document.body.appendChild(div);\n",
              "\n",
              "      const buffers = [];\n",
              "      let downloaded = 0;\n",
              "\n",
              "      const channel = await google.colab.kernel.comms.open(id);\n",
              "      // Send a message to notify the kernel that we're ready.\n",
              "      channel.send({})\n",
              "\n",
              "      for await (const message of channel.messages) {\n",
              "        // Send a message to notify the kernel that we're ready.\n",
              "        channel.send({})\n",
              "        if (message.buffers) {\n",
              "          for (const buffer of message.buffers) {\n",
              "            buffers.push(buffer);\n",
              "            downloaded += buffer.byteLength;\n",
              "            progress.value = downloaded;\n",
              "          }\n",
              "        }\n",
              "      }\n",
              "      const blob = new Blob(buffers, {type: 'application/binary'});\n",
              "      const a = document.createElement('a');\n",
              "      a.href = window.URL.createObjectURL(blob);\n",
              "      a.download = filename;\n",
              "      div.appendChild(a);\n",
              "      a.click();\n",
              "      div.remove();\n",
              "    }\n",
              "  "
            ],
            "text/plain": [
              "<IPython.core.display.Javascript object>"
            ]
          },
          "metadata": {}
        },
        {
          "output_type": "display_data",
          "data": {
            "application/javascript": [
              "download(\"download_a24bda21-ea7e-4d91-b19b-76c245267e68\", \"Stacking.csv\", 3158917)"
            ],
            "text/plain": [
              "<IPython.core.display.Javascript object>"
            ]
          },
          "metadata": {}
        }
      ]
    },
    {
      "cell_type": "markdown",
      "metadata": {
        "id": "ykmXe1oHZTtt"
      },
      "source": [
        "### XGB Full"
      ]
    },
    {
      "cell_type": "code",
      "metadata": {
        "colab": {
          "base_uri": "https://localhost:8080/"
        },
        "id": "PhsuvepzGwcs",
        "outputId": "e3863d7b-23ca-4b8f-a0a1-e4034c529ebb"
      },
      "source": [
        "features.shape, X_test_cv.shape"
      ],
      "execution_count": null,
      "outputs": [
        {
          "output_type": "execute_result",
          "data": {
            "text/plain": [
              "((300000, 24), (200000, 24))"
            ]
          },
          "metadata": {},
          "execution_count": 37
        }
      ]
    },
    {
      "cell_type": "code",
      "metadata": {
        "colab": {
          "base_uri": "https://localhost:8080/"
        },
        "id": "I7244mRF7LJ9",
        "outputId": "5f1905aa-1db2-4a74-8713-b897658a8ec6"
      },
      "source": [
        "model = XGBRegressor(**xgb_params)\n",
        "model.fit(X_train_XGB, y_train_XGB, eval_set = [(X_val_XGB, y_val_XGB)],\n",
        "          early_stopping_rounds=200, verbose=200)\n",
        "\n",
        "preds = model.predict(X_test_cv)\n",
        "print(mean_squared_error(y_val_XGB, model.predict(X_val_XGB), squared=False))\n"
      ],
      "execution_count": null,
      "outputs": [
        {
          "output_type": "stream",
          "text": [
            "[0]\tvalidation_0-rmse:6.82735\n",
            "Will train until validation_0-rmse hasn't improved in 200 rounds.\n",
            "[200]\tvalidation_0-rmse:0.730233\n",
            "[400]\tvalidation_0-rmse:0.725708\n",
            "[600]\tvalidation_0-rmse:0.723184\n",
            "[800]\tvalidation_0-rmse:0.721784\n",
            "[1000]\tvalidation_0-rmse:0.720679\n",
            "[1200]\tvalidation_0-rmse:0.719899\n",
            "[1400]\tvalidation_0-rmse:0.719098\n",
            "[1600]\tvalidation_0-rmse:0.718482\n",
            "[1800]\tvalidation_0-rmse:0.71794\n",
            "[2000]\tvalidation_0-rmse:0.717557\n",
            "[2200]\tvalidation_0-rmse:0.71723\n",
            "[2400]\tvalidation_0-rmse:0.716876\n",
            "[2600]\tvalidation_0-rmse:0.716574\n",
            "[2800]\tvalidation_0-rmse:0.71637\n",
            "[3000]\tvalidation_0-rmse:0.716221\n",
            "[3200]\tvalidation_0-rmse:0.716056\n",
            "[3400]\tvalidation_0-rmse:0.715954\n",
            "[3600]\tvalidation_0-rmse:0.715861\n",
            "[3800]\tvalidation_0-rmse:0.715852\n",
            "[4000]\tvalidation_0-rmse:0.715806\n",
            "[4200]\tvalidation_0-rmse:0.715749\n",
            "[4400]\tvalidation_0-rmse:0.715708\n",
            "[4600]\tvalidation_0-rmse:0.71567\n",
            "[4800]\tvalidation_0-rmse:0.715667\n",
            "[4999]\tvalidation_0-rmse:0.715623\n",
            "0.7156304751640391\n"
          ],
          "name": "stdout"
        }
      ]
    },
    {
      "cell_type": "code",
      "metadata": {
        "colab": {
          "base_uri": "https://localhost:8080/",
          "height": 17
        },
        "id": "D5ZWMNv18eu6",
        "outputId": "53d53fba-4259-4604-be2d-9a2806b2dc6c"
      },
      "source": [
        "sub_XG_full = pd.DataFrame()\n",
        "sub_XG_full['Id'] = test_id\n",
        "sub_XG_full['target'] = preds\n",
        "\n",
        "\n",
        "sub_XG_full.to_csv('XGB_full-ensemble.csv', index=False)\n",
        "files.download('XGB_full-ensemble.csv')"
      ],
      "execution_count": null,
      "outputs": [
        {
          "output_type": "display_data",
          "data": {
            "application/javascript": [
              "\n",
              "    async function download(id, filename, size) {\n",
              "      if (!google.colab.kernel.accessAllowed) {\n",
              "        return;\n",
              "      }\n",
              "      const div = document.createElement('div');\n",
              "      const label = document.createElement('label');\n",
              "      label.textContent = `Downloading \"${filename}\": `;\n",
              "      div.appendChild(label);\n",
              "      const progress = document.createElement('progress');\n",
              "      progress.max = size;\n",
              "      div.appendChild(progress);\n",
              "      document.body.appendChild(div);\n",
              "\n",
              "      const buffers = [];\n",
              "      let downloaded = 0;\n",
              "\n",
              "      const channel = await google.colab.kernel.comms.open(id);\n",
              "      // Send a message to notify the kernel that we're ready.\n",
              "      channel.send({})\n",
              "\n",
              "      for await (const message of channel.messages) {\n",
              "        // Send a message to notify the kernel that we're ready.\n",
              "        channel.send({})\n",
              "        if (message.buffers) {\n",
              "          for (const buffer of message.buffers) {\n",
              "            buffers.push(buffer);\n",
              "            downloaded += buffer.byteLength;\n",
              "            progress.value = downloaded;\n",
              "          }\n",
              "        }\n",
              "      }\n",
              "      const blob = new Blob(buffers, {type: 'application/binary'});\n",
              "      const a = document.createElement('a');\n",
              "      a.href = window.URL.createObjectURL(blob);\n",
              "      a.download = filename;\n",
              "      div.appendChild(a);\n",
              "      a.click();\n",
              "      div.remove();\n",
              "    }\n",
              "  "
            ],
            "text/plain": [
              "<IPython.core.display.Javascript object>"
            ]
          },
          "metadata": {}
        },
        {
          "output_type": "display_data",
          "data": {
            "application/javascript": [
              "download(\"download_1cc2d5e7-2125-4a9c-a20f-a7571acc9da7\", \"XGB_full-ensemble.csv\", 3156789)"
            ],
            "text/plain": [
              "<IPython.core.display.Javascript object>"
            ]
          },
          "metadata": {}
        }
      ]
    },
    {
      "cell_type": "code",
      "metadata": {
        "colab": {
          "base_uri": "https://localhost:8080/",
          "height": 204
        },
        "id": "wIeOZ_Pi944Y",
        "outputId": "9ab61ded-748d-4f7d-adee-008f2eb95453"
      },
      "source": [
        "sub_XG_full.head()"
      ],
      "execution_count": null,
      "outputs": [
        {
          "output_type": "execute_result",
          "data": {
            "text/html": [
              "<div>\n",
              "<style scoped>\n",
              "    .dataframe tbody tr th:only-of-type {\n",
              "        vertical-align: middle;\n",
              "    }\n",
              "\n",
              "    .dataframe tbody tr th {\n",
              "        vertical-align: top;\n",
              "    }\n",
              "\n",
              "    .dataframe thead th {\n",
              "        text-align: right;\n",
              "    }\n",
              "</style>\n",
              "<table border=\"1\" class=\"dataframe\">\n",
              "  <thead>\n",
              "    <tr style=\"text-align: right;\">\n",
              "      <th></th>\n",
              "      <th>Id</th>\n",
              "      <th>target</th>\n",
              "    </tr>\n",
              "  </thead>\n",
              "  <tbody>\n",
              "    <tr>\n",
              "      <th>0</th>\n",
              "      <td>0</td>\n",
              "      <td>8.114770</td>\n",
              "    </tr>\n",
              "    <tr>\n",
              "      <th>1</th>\n",
              "      <td>5</td>\n",
              "      <td>8.451990</td>\n",
              "    </tr>\n",
              "    <tr>\n",
              "      <th>2</th>\n",
              "      <td>15</td>\n",
              "      <td>8.433565</td>\n",
              "    </tr>\n",
              "    <tr>\n",
              "      <th>3</th>\n",
              "      <td>16</td>\n",
              "      <td>8.485857</td>\n",
              "    </tr>\n",
              "    <tr>\n",
              "      <th>4</th>\n",
              "      <td>17</td>\n",
              "      <td>8.129815</td>\n",
              "    </tr>\n",
              "  </tbody>\n",
              "</table>\n",
              "</div>"
            ],
            "text/plain": [
              "   Id    target\n",
              "0   0  8.114770\n",
              "1   5  8.451990\n",
              "2  15  8.433565\n",
              "3  16  8.485857\n",
              "4  17  8.129815"
            ]
          },
          "metadata": {},
          "execution_count": 40
        }
      ]
    },
    {
      "cell_type": "markdown",
      "metadata": {
        "id": "WMoVH1YyqkCh"
      },
      "source": [
        "### XGB Kfolds v2 "
      ]
    },
    {
      "cell_type": "code",
      "metadata": {
        "colab": {
          "base_uri": "https://localhost:8080/"
        },
        "id": "4nJYAVX8iD_T",
        "outputId": "f01cf90d-f527-4737-e192-a90c37897e29"
      },
      "source": [
        "preds = np.zeros(test.shape[0])\n",
        "kf = KFold(n_splits=5, random_state=42, shuffle=True)\n",
        "rmse=[]\n",
        "mae=[]\n",
        "idx=0\n",
        "\n",
        "\n",
        "for train_idx, test_idx in kf.split(features, target):\n",
        "\n",
        "    X_train_g, X_val_g = features.iloc[train_idx], features.iloc[test_idx]\n",
        "    y_tr_g, y_val_g = target.iloc[train_idx], target.iloc[test_idx]\n",
        "\n",
        "\n",
        "# XGBRegressor  v2.0\n",
        "\n",
        "    model = XGBRegressor(**xgb_params_3)\n",
        "    model.fit(X_train_g, y_tr_g, eval_set = [(X_val_g, y_val_g)],\n",
        "              early_stopping_rounds=200, verbose=400)\n",
        "             \n",
        "\n",
        "\n",
        "    preds += model.predict(X_test_cv)/kf.n_splits\n",
        "\n",
        "    rmse.append(mean_squared_error(y_val_g, model.predict(X_val_g), squared=False))\n",
        "    mae.append(mean_absolute_error(y_val_g, model.predict(X_val_g)))\n",
        "    print(idx+1,rmse[idx])\n",
        "    print(idx+1,mae[idx])\n",
        "    idx +=1\n"
      ],
      "execution_count": 24,
      "outputs": [
        {
          "output_type": "stream",
          "text": [
            "[15:54:38] WARNING: /workspace/src/objective/regression_obj.cu:152: reg:linear is now deprecated in favor of reg:squarederror.\n",
            "[0]\tvalidation_0-rmse:7.50032\n",
            "Will train until validation_0-rmse hasn't improved in 200 rounds.\n",
            "[400]\tvalidation_0-rmse:0.730936\n",
            "[800]\tvalidation_0-rmse:0.725057\n",
            "[1200]\tvalidation_0-rmse:0.722353\n",
            "[1600]\tvalidation_0-rmse:0.720538\n",
            "[2000]\tvalidation_0-rmse:0.719247\n",
            "[2400]\tvalidation_0-rmse:0.718399\n",
            "[2800]\tvalidation_0-rmse:0.717695\n",
            "[3200]\tvalidation_0-rmse:0.717176\n",
            "[3600]\tvalidation_0-rmse:0.716832\n",
            "[4000]\tvalidation_0-rmse:0.71657\n",
            "[4400]\tvalidation_0-rmse:0.716325\n",
            "[4800]\tvalidation_0-rmse:0.716149\n",
            "[5200]\tvalidation_0-rmse:0.715962\n",
            "[5600]\tvalidation_0-rmse:0.715833\n",
            "[6000]\tvalidation_0-rmse:0.715743\n",
            "[6400]\tvalidation_0-rmse:0.715674\n",
            "[6800]\tvalidation_0-rmse:0.715632\n",
            "[7200]\tvalidation_0-rmse:0.715577\n",
            "[7600]\tvalidation_0-rmse:0.715587\n",
            "Stopping. Best iteration:\n",
            "[7484]\tvalidation_0-rmse:0.715571\n",
            "\n",
            "1 0.7155720006649872\n",
            "1 0.5686853944724195\n",
            "[16:08:16] WARNING: /workspace/src/objective/regression_obj.cu:152: reg:linear is now deprecated in favor of reg:squarederror.\n",
            "[0]\tvalidation_0-rmse:7.49707\n",
            "Will train until validation_0-rmse hasn't improved in 200 rounds.\n",
            "[400]\tvalidation_0-rmse:0.730961\n",
            "[800]\tvalidation_0-rmse:0.724801\n",
            "[1200]\tvalidation_0-rmse:0.722014\n",
            "[1600]\tvalidation_0-rmse:0.7202\n",
            "[2000]\tvalidation_0-rmse:0.718939\n",
            "[2400]\tvalidation_0-rmse:0.718117\n",
            "[2800]\tvalidation_0-rmse:0.717504\n",
            "[3200]\tvalidation_0-rmse:0.717031\n",
            "[3600]\tvalidation_0-rmse:0.71674\n",
            "[4000]\tvalidation_0-rmse:0.716487\n",
            "[4400]\tvalidation_0-rmse:0.716315\n",
            "[4800]\tvalidation_0-rmse:0.71615\n",
            "[5200]\tvalidation_0-rmse:0.716047\n",
            "[5600]\tvalidation_0-rmse:0.715988\n",
            "[6000]\tvalidation_0-rmse:0.715948\n",
            "[6400]\tvalidation_0-rmse:0.715917\n",
            "Stopping. Best iteration:\n",
            "[6310]\tvalidation_0-rmse:0.715908\n",
            "\n",
            "2 0.7159082460658261\n",
            "2 0.5704762703852017\n",
            "[16:20:03] WARNING: /workspace/src/objective/regression_obj.cu:152: reg:linear is now deprecated in favor of reg:squarederror.\n",
            "[0]\tvalidation_0-rmse:7.49477\n",
            "Will train until validation_0-rmse hasn't improved in 200 rounds.\n",
            "[400]\tvalidation_0-rmse:0.73231\n",
            "[800]\tvalidation_0-rmse:0.726502\n",
            "[1200]\tvalidation_0-rmse:0.723609\n",
            "[1600]\tvalidation_0-rmse:0.721945\n",
            "[2000]\tvalidation_0-rmse:0.720683\n",
            "[2400]\tvalidation_0-rmse:0.719958\n",
            "[2800]\tvalidation_0-rmse:0.719311\n",
            "[3200]\tvalidation_0-rmse:0.718845\n",
            "[3600]\tvalidation_0-rmse:0.718504\n",
            "[4000]\tvalidation_0-rmse:0.718242\n",
            "[4400]\tvalidation_0-rmse:0.718055\n",
            "[4800]\tvalidation_0-rmse:0.717912\n",
            "[5200]\tvalidation_0-rmse:0.717768\n",
            "[5600]\tvalidation_0-rmse:0.717685\n",
            "[6000]\tvalidation_0-rmse:0.717645\n",
            "[6400]\tvalidation_0-rmse:0.717626\n",
            "[6800]\tvalidation_0-rmse:0.717571\n",
            "[7200]\tvalidation_0-rmse:0.717547\n",
            "Stopping. Best iteration:\n",
            "[7387]\tvalidation_0-rmse:0.71754\n",
            "\n",
            "3 0.7175402173591973\n",
            "3 0.5718355066397238\n",
            "[16:33:56] WARNING: /workspace/src/objective/regression_obj.cu:152: reg:linear is now deprecated in favor of reg:squarederror.\n",
            "[0]\tvalidation_0-rmse:7.49705\n",
            "Will train until validation_0-rmse hasn't improved in 200 rounds.\n",
            "[400]\tvalidation_0-rmse:0.732167\n",
            "[800]\tvalidation_0-rmse:0.726381\n",
            "[1200]\tvalidation_0-rmse:0.723682\n",
            "[1600]\tvalidation_0-rmse:0.721938\n",
            "[2000]\tvalidation_0-rmse:0.720684\n",
            "[2400]\tvalidation_0-rmse:0.719919\n",
            "[2800]\tvalidation_0-rmse:0.719249\n",
            "[3200]\tvalidation_0-rmse:0.718787\n",
            "[3600]\tvalidation_0-rmse:0.718439\n",
            "[4000]\tvalidation_0-rmse:0.718172\n",
            "[4400]\tvalidation_0-rmse:0.717971\n",
            "[4800]\tvalidation_0-rmse:0.717805\n",
            "[5200]\tvalidation_0-rmse:0.717693\n",
            "[5600]\tvalidation_0-rmse:0.717631\n",
            "[6000]\tvalidation_0-rmse:0.717582\n",
            "[6400]\tvalidation_0-rmse:0.71754\n",
            "Stopping. Best iteration:\n",
            "[6531]\tvalidation_0-rmse:0.717509\n",
            "\n",
            "4 0.7175102208969639\n",
            "4 0.5721077816803888\n",
            "[16:46:16] WARNING: /workspace/src/objective/regression_obj.cu:152: reg:linear is now deprecated in favor of reg:squarederror.\n",
            "[0]\tvalidation_0-rmse:7.50246\n",
            "Will train until validation_0-rmse hasn't improved in 200 rounds.\n",
            "[400]\tvalidation_0-rmse:0.732152\n",
            "[800]\tvalidation_0-rmse:0.725905\n",
            "[1200]\tvalidation_0-rmse:0.722886\n",
            "[1600]\tvalidation_0-rmse:0.721004\n",
            "[2000]\tvalidation_0-rmse:0.719525\n",
            "[2400]\tvalidation_0-rmse:0.718635\n",
            "[2800]\tvalidation_0-rmse:0.717964\n",
            "[3200]\tvalidation_0-rmse:0.717409\n",
            "[3600]\tvalidation_0-rmse:0.717012\n",
            "[4000]\tvalidation_0-rmse:0.71668\n",
            "[4400]\tvalidation_0-rmse:0.716429\n",
            "[4800]\tvalidation_0-rmse:0.716265\n",
            "[5200]\tvalidation_0-rmse:0.716108\n",
            "[5600]\tvalidation_0-rmse:0.71599\n",
            "[6000]\tvalidation_0-rmse:0.715905\n",
            "[6400]\tvalidation_0-rmse:0.715863\n",
            "[6800]\tvalidation_0-rmse:0.715797\n",
            "Stopping. Best iteration:\n",
            "[6988]\tvalidation_0-rmse:0.715758\n",
            "\n",
            "5 0.7157589035088991\n",
            "5 0.5690510140061027\n"
          ],
          "name": "stdout"
        }
      ]
    },
    {
      "cell_type": "code",
      "metadata": {
        "id": "9WNYK-VrhWK-",
        "colab": {
          "base_uri": "https://localhost:8080/",
          "height": 17
        },
        "outputId": "a27615fa-f192-415c-84b0-9420d27669ec"
      },
      "source": [
        "sub_XG_v2 = pd.DataFrame()\n",
        "sub_XG_v2['Id'] = test['id']\n",
        "sub_XG_v2['target'] = preds\n",
        "\n",
        "sub_XG_v2.to_csv('XGB_v2.csv', index=False)\n",
        "files.download('XGB_v2.csv')"
      ],
      "execution_count": 25,
      "outputs": [
        {
          "output_type": "display_data",
          "data": {
            "application/javascript": [
              "\n",
              "    async function download(id, filename, size) {\n",
              "      if (!google.colab.kernel.accessAllowed) {\n",
              "        return;\n",
              "      }\n",
              "      const div = document.createElement('div');\n",
              "      const label = document.createElement('label');\n",
              "      label.textContent = `Downloading \"${filename}\": `;\n",
              "      div.appendChild(label);\n",
              "      const progress = document.createElement('progress');\n",
              "      progress.max = size;\n",
              "      div.appendChild(progress);\n",
              "      document.body.appendChild(div);\n",
              "\n",
              "      const buffers = [];\n",
              "      let downloaded = 0;\n",
              "\n",
              "      const channel = await google.colab.kernel.comms.open(id);\n",
              "      // Send a message to notify the kernel that we're ready.\n",
              "      channel.send({})\n",
              "\n",
              "      for await (const message of channel.messages) {\n",
              "        // Send a message to notify the kernel that we're ready.\n",
              "        channel.send({})\n",
              "        if (message.buffers) {\n",
              "          for (const buffer of message.buffers) {\n",
              "            buffers.push(buffer);\n",
              "            downloaded += buffer.byteLength;\n",
              "            progress.value = downloaded;\n",
              "          }\n",
              "        }\n",
              "      }\n",
              "      const blob = new Blob(buffers, {type: 'application/binary'});\n",
              "      const a = document.createElement('a');\n",
              "      a.href = window.URL.createObjectURL(blob);\n",
              "      a.download = filename;\n",
              "      div.appendChild(a);\n",
              "      a.click();\n",
              "      div.remove();\n",
              "    }\n",
              "  "
            ],
            "text/plain": [
              "<IPython.core.display.Javascript object>"
            ]
          },
          "metadata": {}
        },
        {
          "output_type": "display_data",
          "data": {
            "application/javascript": [
              "download(\"download_f5e21f89-01ce-4b48-96d5-e00e5b5046e3\", \"XGB_v2.csv\", 4921108)"
            ],
            "text/plain": [
              "<IPython.core.display.Javascript object>"
            ]
          },
          "metadata": {}
        }
      ]
    },
    {
      "cell_type": "code",
      "metadata": {
        "colab": {
          "base_uri": "https://localhost:8080/",
          "height": 204
        },
        "id": "UZ-kx6Z3h8hC",
        "outputId": "5fb442b0-f92c-456d-c1b3-a1e59b3a1e96"
      },
      "source": [
        "sub_XG_v2.head()"
      ],
      "execution_count": 27,
      "outputs": [
        {
          "output_type": "execute_result",
          "data": {
            "text/html": [
              "<div>\n",
              "<style scoped>\n",
              "    .dataframe tbody tr th:only-of-type {\n",
              "        vertical-align: middle;\n",
              "    }\n",
              "\n",
              "    .dataframe tbody tr th {\n",
              "        vertical-align: top;\n",
              "    }\n",
              "\n",
              "    .dataframe thead th {\n",
              "        text-align: right;\n",
              "    }\n",
              "</style>\n",
              "<table border=\"1\" class=\"dataframe\">\n",
              "  <thead>\n",
              "    <tr style=\"text-align: right;\">\n",
              "      <th></th>\n",
              "      <th>Id</th>\n",
              "      <th>target</th>\n",
              "    </tr>\n",
              "  </thead>\n",
              "  <tbody>\n",
              "    <tr>\n",
              "      <th>0</th>\n",
              "      <td>0</td>\n",
              "      <td>8.083709</td>\n",
              "    </tr>\n",
              "    <tr>\n",
              "      <th>1</th>\n",
              "      <td>5</td>\n",
              "      <td>8.397919</td>\n",
              "    </tr>\n",
              "    <tr>\n",
              "      <th>2</th>\n",
              "      <td>15</td>\n",
              "      <td>8.418420</td>\n",
              "    </tr>\n",
              "    <tr>\n",
              "      <th>3</th>\n",
              "      <td>16</td>\n",
              "      <td>8.506469</td>\n",
              "    </tr>\n",
              "    <tr>\n",
              "      <th>4</th>\n",
              "      <td>17</td>\n",
              "      <td>8.129091</td>\n",
              "    </tr>\n",
              "  </tbody>\n",
              "</table>\n",
              "</div>"
            ],
            "text/plain": [
              "   Id    target\n",
              "0   0  8.083709\n",
              "1   5  8.397919\n",
              "2  15  8.418420\n",
              "3  16  8.506469\n",
              "4  17  8.129091"
            ]
          },
          "metadata": {},
          "execution_count": 27
        }
      ]
    },
    {
      "cell_type": "markdown",
      "metadata": {
        "id": "OxCjUNU5qm5R"
      },
      "source": [
        "### XGB Kfolds v1"
      ]
    },
    {
      "cell_type": "code",
      "metadata": {
        "colab": {
          "base_uri": "https://localhost:8080/"
        },
        "id": "p3W9sVQMmeWC",
        "outputId": "987e1aa6-2b5f-4b64-c8f8-16bfe4d7f7d9"
      },
      "source": [
        "preds = np.zeros(test.shape[0])\n",
        "kf = KFold(n_splits=5, random_state=42, shuffle=True)\n",
        "rmse=[]\n",
        "idx=0\n",
        "\n",
        "\n",
        "for train_idx, test_idx in kf.split(features, target):\n",
        "\n",
        "    X_train_g, X_val_g = features.iloc[train_idx], features.iloc[test_idx]\n",
        "    y_tr_g, y_val_g = target.iloc[train_idx], target.iloc[test_idx]\n",
        "\n",
        "\n",
        "# XGBRegressor\n",
        "\n",
        "    model = XGBRegressor(**xgb_params)\n",
        "    model.fit(X_train_g, y_tr_g, eval_set = [(X_val_g, y_val_g)],\n",
        "              early_stopping_rounds=200, verbose=200)\n",
        "             \n",
        "\n",
        "\n",
        "    preds += model.predict(X_test_cv)/kf.n_splits\n",
        "\n",
        "    rmse.append(mean_squared_error(y_val_g, model.predict(X_val_g), squared=False))\n",
        "    print(idx+1,rmse[idx])\n",
        "    idx +=1\n"
      ],
      "execution_count": null,
      "outputs": [
        {
          "output_type": "stream",
          "text": [
            "[0]\tvalidation_0-rmse:6.82899\n",
            "Will train until validation_0-rmse hasn't improved in 200 rounds.\n",
            "[200]\tvalidation_0-rmse:0.730917\n",
            "[400]\tvalidation_0-rmse:0.726661\n",
            "[600]\tvalidation_0-rmse:0.724249\n",
            "[800]\tvalidation_0-rmse:0.722665\n",
            "[1000]\tvalidation_0-rmse:0.721542\n",
            "[1200]\tvalidation_0-rmse:0.720639\n",
            "[1400]\tvalidation_0-rmse:0.719825\n",
            "[1600]\tvalidation_0-rmse:0.719194\n",
            "[1800]\tvalidation_0-rmse:0.718644\n",
            "[2000]\tvalidation_0-rmse:0.718141\n",
            "[2200]\tvalidation_0-rmse:0.717751\n",
            "[2400]\tvalidation_0-rmse:0.71743\n",
            "[2600]\tvalidation_0-rmse:0.717137\n",
            "[2800]\tvalidation_0-rmse:0.716849\n",
            "[3000]\tvalidation_0-rmse:0.716724\n",
            "[3200]\tvalidation_0-rmse:0.716618\n",
            "[3400]\tvalidation_0-rmse:0.716467\n",
            "[3600]\tvalidation_0-rmse:0.716305\n",
            "[3800]\tvalidation_0-rmse:0.716239\n",
            "[4000]\tvalidation_0-rmse:0.716188\n",
            "[4200]\tvalidation_0-rmse:0.716174\n",
            "[4400]\tvalidation_0-rmse:0.716123\n",
            "[4600]\tvalidation_0-rmse:0.716072\n",
            "[4800]\tvalidation_0-rmse:0.71606\n",
            "Stopping. Best iteration:\n",
            "[4772]\tvalidation_0-rmse:0.716041\n",
            "\n",
            "1 0.7160439239219227\n",
            "[0]\tvalidation_0-rmse:6.82569\n",
            "Will train until validation_0-rmse hasn't improved in 200 rounds.\n",
            "[200]\tvalidation_0-rmse:0.730726\n",
            "[400]\tvalidation_0-rmse:0.726504\n",
            "[600]\tvalidation_0-rmse:0.723943\n",
            "[800]\tvalidation_0-rmse:0.722199\n",
            "[1000]\tvalidation_0-rmse:0.721128\n",
            "[1200]\tvalidation_0-rmse:0.720267\n",
            "[1400]\tvalidation_0-rmse:0.719583\n",
            "[1600]\tvalidation_0-rmse:0.71895\n",
            "[1800]\tvalidation_0-rmse:0.718425\n",
            "[2000]\tvalidation_0-rmse:0.717966\n",
            "[2200]\tvalidation_0-rmse:0.717591\n",
            "[2400]\tvalidation_0-rmse:0.717273\n",
            "[2600]\tvalidation_0-rmse:0.717014\n",
            "[2800]\tvalidation_0-rmse:0.716845\n",
            "[3000]\tvalidation_0-rmse:0.716705\n",
            "[3200]\tvalidation_0-rmse:0.716566\n",
            "[3400]\tvalidation_0-rmse:0.716499\n",
            "[3600]\tvalidation_0-rmse:0.716391\n",
            "[3800]\tvalidation_0-rmse:0.716317\n",
            "[4000]\tvalidation_0-rmse:0.716269\n",
            "[4200]\tvalidation_0-rmse:0.716185\n",
            "[4400]\tvalidation_0-rmse:0.716184\n",
            "Stopping. Best iteration:\n",
            "[4272]\tvalidation_0-rmse:0.716171\n",
            "\n",
            "2 0.7161756373079893\n",
            "[0]\tvalidation_0-rmse:6.82341\n",
            "Will train until validation_0-rmse hasn't improved in 200 rounds.\n",
            "[200]\tvalidation_0-rmse:0.732368\n",
            "[400]\tvalidation_0-rmse:0.728188\n",
            "[600]\tvalidation_0-rmse:0.725897\n",
            "[800]\tvalidation_0-rmse:0.724229\n",
            "[1000]\tvalidation_0-rmse:0.723099\n",
            "[1200]\tvalidation_0-rmse:0.722162\n",
            "[1400]\tvalidation_0-rmse:0.721384\n",
            "[1600]\tvalidation_0-rmse:0.72071\n",
            "[1800]\tvalidation_0-rmse:0.720205\n",
            "[2000]\tvalidation_0-rmse:0.719767\n",
            "[2200]\tvalidation_0-rmse:0.719341\n",
            "[2400]\tvalidation_0-rmse:0.719082\n",
            "[2600]\tvalidation_0-rmse:0.718828\n",
            "[2800]\tvalidation_0-rmse:0.718621\n",
            "[3000]\tvalidation_0-rmse:0.718444\n",
            "[3200]\tvalidation_0-rmse:0.718378\n",
            "[3400]\tvalidation_0-rmse:0.718323\n",
            "[3600]\tvalidation_0-rmse:0.718197\n",
            "[3800]\tvalidation_0-rmse:0.718089\n",
            "[4000]\tvalidation_0-rmse:0.718046\n",
            "[4200]\tvalidation_0-rmse:0.718024\n",
            "[4400]\tvalidation_0-rmse:0.717977\n",
            "[4600]\tvalidation_0-rmse:0.717908\n",
            "[4800]\tvalidation_0-rmse:0.717907\n",
            "[4999]\tvalidation_0-rmse:0.717928\n",
            "3 0.7178958566890385\n",
            "[0]\tvalidation_0-rmse:6.82577\n",
            "Will train until validation_0-rmse hasn't improved in 200 rounds.\n",
            "[200]\tvalidation_0-rmse:0.732204\n",
            "[400]\tvalidation_0-rmse:0.727958\n",
            "[600]\tvalidation_0-rmse:0.725528\n",
            "[800]\tvalidation_0-rmse:0.723937\n",
            "[1000]\tvalidation_0-rmse:0.723033\n",
            "[1200]\tvalidation_0-rmse:0.722146\n",
            "[1400]\tvalidation_0-rmse:0.72139\n",
            "[1600]\tvalidation_0-rmse:0.720732\n",
            "[1800]\tvalidation_0-rmse:0.720184\n",
            "[2000]\tvalidation_0-rmse:0.719719\n",
            "[2200]\tvalidation_0-rmse:0.719262\n",
            "[2400]\tvalidation_0-rmse:0.719007\n",
            "[2600]\tvalidation_0-rmse:0.718773\n",
            "[2800]\tvalidation_0-rmse:0.718549\n",
            "[3000]\tvalidation_0-rmse:0.7184\n",
            "[3200]\tvalidation_0-rmse:0.7183\n",
            "[3400]\tvalidation_0-rmse:0.718273\n",
            "[3600]\tvalidation_0-rmse:0.71812\n",
            "[3800]\tvalidation_0-rmse:0.718019\n",
            "[4000]\tvalidation_0-rmse:0.71797\n",
            "[4200]\tvalidation_0-rmse:0.717944\n",
            "[4400]\tvalidation_0-rmse:0.717904\n",
            "[4600]\tvalidation_0-rmse:0.717864\n",
            "[4800]\tvalidation_0-rmse:0.717879\n",
            "Stopping. Best iteration:\n",
            "[4676]\tvalidation_0-rmse:0.717843\n",
            "\n",
            "4 0.7178480664428779\n",
            "[0]\tvalidation_0-rmse:6.83133\n",
            "Will train until validation_0-rmse hasn't improved in 200 rounds.\n",
            "[200]\tvalidation_0-rmse:0.73206\n",
            "[400]\tvalidation_0-rmse:0.727402\n",
            "[600]\tvalidation_0-rmse:0.724834\n",
            "[800]\tvalidation_0-rmse:0.723007\n",
            "[1000]\tvalidation_0-rmse:0.721882\n",
            "[1200]\tvalidation_0-rmse:0.720912\n",
            "[1400]\tvalidation_0-rmse:0.720079\n",
            "[1600]\tvalidation_0-rmse:0.719408\n",
            "[1800]\tvalidation_0-rmse:0.718807\n",
            "[2000]\tvalidation_0-rmse:0.718347\n",
            "[2200]\tvalidation_0-rmse:0.717842\n",
            "[2400]\tvalidation_0-rmse:0.717521\n",
            "[2600]\tvalidation_0-rmse:0.717263\n",
            "[2800]\tvalidation_0-rmse:0.717013\n",
            "[3000]\tvalidation_0-rmse:0.71681\n",
            "[3200]\tvalidation_0-rmse:0.716651\n",
            "[3400]\tvalidation_0-rmse:0.716467\n",
            "[3600]\tvalidation_0-rmse:0.716351\n",
            "[3800]\tvalidation_0-rmse:0.716287\n",
            "[4000]\tvalidation_0-rmse:0.716175\n",
            "[4200]\tvalidation_0-rmse:0.716103\n",
            "[4400]\tvalidation_0-rmse:0.716083\n",
            "[4600]\tvalidation_0-rmse:0.715998\n",
            "[4800]\tvalidation_0-rmse:0.715999\n",
            "Stopping. Best iteration:\n",
            "[4642]\tvalidation_0-rmse:0.715977\n",
            "\n",
            "5 0.7159780938002998\n"
          ],
          "name": "stdout"
        }
      ]
    },
    {
      "cell_type": "code",
      "metadata": {
        "id": "0Q9MwiyumeWD"
      },
      "source": [
        "sub_XG = pd.DataFrame()\n",
        "sub_XG['Id'] = test_id\n",
        "sub_XG['target'] = preds"
      ],
      "execution_count": null,
      "outputs": []
    },
    {
      "cell_type": "code",
      "metadata": {
        "colab": {
          "base_uri": "https://localhost:8080/",
          "height": 204
        },
        "id": "eT53pICbmeWD",
        "outputId": "a694a063-5d42-4c23-9124-a109ba7ed4fc"
      },
      "source": [
        "sub_XG.head()"
      ],
      "execution_count": null,
      "outputs": [
        {
          "output_type": "execute_result",
          "data": {
            "text/html": [
              "<div>\n",
              "<style scoped>\n",
              "    .dataframe tbody tr th:only-of-type {\n",
              "        vertical-align: middle;\n",
              "    }\n",
              "\n",
              "    .dataframe tbody tr th {\n",
              "        vertical-align: top;\n",
              "    }\n",
              "\n",
              "    .dataframe thead th {\n",
              "        text-align: right;\n",
              "    }\n",
              "</style>\n",
              "<table border=\"1\" class=\"dataframe\">\n",
              "  <thead>\n",
              "    <tr style=\"text-align: right;\">\n",
              "      <th></th>\n",
              "      <th>Id</th>\n",
              "      <th>target</th>\n",
              "    </tr>\n",
              "  </thead>\n",
              "  <tbody>\n",
              "    <tr>\n",
              "      <th>0</th>\n",
              "      <td>0</td>\n",
              "      <td>8.086397</td>\n",
              "    </tr>\n",
              "    <tr>\n",
              "      <th>1</th>\n",
              "      <td>5</td>\n",
              "      <td>8.407320</td>\n",
              "    </tr>\n",
              "    <tr>\n",
              "      <th>2</th>\n",
              "      <td>15</td>\n",
              "      <td>8.421388</td>\n",
              "    </tr>\n",
              "    <tr>\n",
              "      <th>3</th>\n",
              "      <td>16</td>\n",
              "      <td>8.506218</td>\n",
              "    </tr>\n",
              "    <tr>\n",
              "      <th>4</th>\n",
              "      <td>17</td>\n",
              "      <td>8.109425</td>\n",
              "    </tr>\n",
              "  </tbody>\n",
              "</table>\n",
              "</div>"
            ],
            "text/plain": [
              "   Id    target\n",
              "0   0  8.086397\n",
              "1   5  8.407320\n",
              "2  15  8.421388\n",
              "3  16  8.506218\n",
              "4  17  8.109425"
            ]
          },
          "metadata": {},
          "execution_count": 43
        }
      ]
    },
    {
      "cell_type": "markdown",
      "metadata": {
        "id": "zcPqbkyeqqLf"
      },
      "source": [
        "### LGBM"
      ]
    },
    {
      "cell_type": "code",
      "metadata": {
        "id": "ATfMlF6DhQMe",
        "colab": {
          "base_uri": "https://localhost:8080/"
        },
        "outputId": "f8afcc61-5206-430b-e708-a90830e00e25"
      },
      "source": [
        "preds = np.zeros(test.shape[0])\n",
        "kf = KFold(n_splits=5, random_state=42, shuffle=True)\n",
        "rmse=[]\n",
        "idx=0\n",
        "\n",
        "\n",
        "for train_idx, test_idx in kf.split(features, target):\n",
        "\n",
        "    X_train_g, X_val_g = features.iloc[train_idx], features.iloc[test_idx]\n",
        "    y_tr_g, y_val_g = target.iloc[train_idx], target.iloc[test_idx]\n",
        "\n",
        "# LGBMRegressor    \n",
        "\n",
        "    model = LGBMRegressor(**params_lgb)\n",
        "    model.fit(X_train_g, y_tr_g, eval_set = [(X_val_g, y_val_g)],\n",
        "              early_stopping_rounds=200,verbose=False)\n",
        "    preds += model.predict(X_test_cv)/kf.n_splits\n",
        "\n",
        "    rmse.append(mean_squared_error(y_val_g, model.predict(X_val_g), squared=False))\n",
        "    print(idx+1,rmse[idx])\n",
        "    idx +=1"
      ],
      "execution_count": null,
      "outputs": [
        {
          "output_type": "stream",
          "text": [
            "1 0.7166541135702886\n",
            "2 0.7167587046434112\n",
            "3 0.7185340457413194\n",
            "4 0.7184551586950905\n",
            "5 0.7169656524800676\n"
          ],
          "name": "stdout"
        }
      ]
    },
    {
      "cell_type": "code",
      "metadata": {
        "id": "T6uih_Iwhdbw"
      },
      "source": [
        "sub_LGBM = pd.DataFrame()\n",
        "sub_LGBM['Id'] = test_id\n",
        "sub_LGBM['target'] = preds"
      ],
      "execution_count": null,
      "outputs": []
    },
    {
      "cell_type": "code",
      "metadata": {
        "colab": {
          "base_uri": "https://localhost:8080/",
          "height": 204
        },
        "id": "KhcML_7Rh_n7",
        "outputId": "d4d8acc4-a964-4832-bd47-ff8ef9691953"
      },
      "source": [
        "sub_LGBM.head()"
      ],
      "execution_count": null,
      "outputs": [
        {
          "output_type": "execute_result",
          "data": {
            "text/html": [
              "<div>\n",
              "<style scoped>\n",
              "    .dataframe tbody tr th:only-of-type {\n",
              "        vertical-align: middle;\n",
              "    }\n",
              "\n",
              "    .dataframe tbody tr th {\n",
              "        vertical-align: top;\n",
              "    }\n",
              "\n",
              "    .dataframe thead th {\n",
              "        text-align: right;\n",
              "    }\n",
              "</style>\n",
              "<table border=\"1\" class=\"dataframe\">\n",
              "  <thead>\n",
              "    <tr style=\"text-align: right;\">\n",
              "      <th></th>\n",
              "      <th>Id</th>\n",
              "      <th>target</th>\n",
              "    </tr>\n",
              "  </thead>\n",
              "  <tbody>\n",
              "    <tr>\n",
              "      <th>0</th>\n",
              "      <td>0</td>\n",
              "      <td>8.057325</td>\n",
              "    </tr>\n",
              "    <tr>\n",
              "      <th>1</th>\n",
              "      <td>5</td>\n",
              "      <td>8.317713</td>\n",
              "    </tr>\n",
              "    <tr>\n",
              "      <th>2</th>\n",
              "      <td>15</td>\n",
              "      <td>8.403558</td>\n",
              "    </tr>\n",
              "    <tr>\n",
              "      <th>3</th>\n",
              "      <td>16</td>\n",
              "      <td>8.475143</td>\n",
              "    </tr>\n",
              "    <tr>\n",
              "      <th>4</th>\n",
              "      <td>17</td>\n",
              "      <td>8.125825</td>\n",
              "    </tr>\n",
              "  </tbody>\n",
              "</table>\n",
              "</div>"
            ],
            "text/plain": [
              "   Id    target\n",
              "0   0  8.057325\n",
              "1   5  8.317713\n",
              "2  15  8.403558\n",
              "3  16  8.475143\n",
              "4  17  8.125825"
            ]
          },
          "metadata": {},
          "execution_count": 27
        }
      ]
    },
    {
      "cell_type": "markdown",
      "metadata": {
        "id": "JjqR0giKwRQw"
      },
      "source": [
        "# Weighted"
      ]
    },
    {
      "cell_type": "code",
      "metadata": {
        "colab": {
          "base_uri": "https://localhost:8080/"
        },
        "id": "TmGE-CXFhtR6",
        "outputId": "c48dbb46-6beb-48dc-f311-2bf004e95efc"
      },
      "source": [
        "!gdown --id 1xbEa--ywDx0ZubS8dayzFtb1_ztpVSNj\n",
        "!gdown --id 1pwmoNVxZ9WjW71vdBj_Gt5ADZiFzRarE\n",
        "!gdown --id 1vJJTxsbtIKt6FU8uj1bOOAlWxJs_QgFD\n",
        "!gdown --id 15MAlhnZAP6gPsplr7S_IV403HGC8UWqW"
      ],
      "execution_count": null,
      "outputs": [
        {
          "output_type": "stream",
          "text": [
            "Downloading...\n",
            "From: https://drive.google.com/uc?id=1xbEa--ywDx0ZubS8dayzFtb1_ztpVSNj\n",
            "To: /content/XGB-ensembleKF.csv\n",
            "4.92MB [00:00, 43.3MB/s]\n",
            "Downloading...\n",
            "From: https://drive.google.com/uc?id=1pwmoNVxZ9WjW71vdBj_Gt5ADZiFzRarE\n",
            "To: /content/XGB_full-ensemble.csv\n",
            "3.16MB [00:00, 49.9MB/s]\n",
            "Downloading...\n",
            "From: https://drive.google.com/uc?id=1vJJTxsbtIKt6FU8uj1bOOAlWxJs_QgFD\n",
            "To: /content/LGBM-ensemble.csv\n",
            "4.92MB [00:00, 43.2MB/s]\n",
            "Downloading...\n",
            "From: https://drive.google.com/uc?id=15MAlhnZAP6gPsplr7S_IV403HGC8UWqW\n",
            "To: /content/submission.csv\n",
            "4.92MB [00:00, 43.2MB/s]\n"
          ],
          "name": "stdout"
        }
      ]
    },
    {
      "cell_type": "code",
      "metadata": {
        "id": "j7AcNNCmsTKM"
      },
      "source": [
        "sub_XG = pd.read_csv('/content/XGB-ensembleKF.csv')"
      ],
      "execution_count": null,
      "outputs": []
    },
    {
      "cell_type": "code",
      "metadata": {
        "id": "YceGEmEpsTAA"
      },
      "source": [
        "sub_XG_full = pd.read_csv('/content/XGB_full-ensemble.csv')"
      ],
      "execution_count": null,
      "outputs": []
    },
    {
      "cell_type": "code",
      "metadata": {
        "id": "nQ-wP2p6vODG"
      },
      "source": [
        "sub_LGBM = pd.read_csv('/content/LGBM-ensemble.csv')"
      ],
      "execution_count": null,
      "outputs": []
    },
    {
      "cell_type": "code",
      "metadata": {
        "id": "cLBWsAfkUvVS"
      },
      "source": [
        "sub_ensemble = pd.read_csv('/content/submission.csv')"
      ],
      "execution_count": null,
      "outputs": []
    },
    {
      "cell_type": "code",
      "metadata": {
        "colab": {
          "base_uri": "https://localhost:8080/",
          "height": 750
        },
        "id": "5FYmGVT-vZ_g",
        "outputId": "577e7292-5248-4a2c-e154-c4326bb4cbba"
      },
      "source": [
        "display(sub_LGBM.head().style.set_caption('LGBM - 0.71871'))\n",
        "print()\n",
        "print()\n",
        "display(sub_XG.head().style.set_caption('XGB Kfold - 0.71769'))\n",
        "print()\n",
        "print()\n",
        "display(sub_XG_full.head().style.set_caption('XGB - 0.71848'))\n",
        "print()\n",
        "print()\n",
        "display(sub_ensemble.head().style.set_caption('Ensemble - 0.71759'))"
      ],
      "execution_count": null,
      "outputs": [
        {
          "output_type": "display_data",
          "data": {
            "text/html": [
              "<style  type=\"text/css\" >\n",
              "</style><table id=\"T_d30fdfbe_048c_11ec_a480_0242ac1c0002\" ><caption>LGBM - 0.71871</caption><thead>    <tr>        <th class=\"blank level0\" ></th>        <th class=\"col_heading level0 col0\" >Id</th>        <th class=\"col_heading level0 col1\" >target</th>    </tr></thead><tbody>\n",
              "                <tr>\n",
              "                        <th id=\"T_d30fdfbe_048c_11ec_a480_0242ac1c0002level0_row0\" class=\"row_heading level0 row0\" >0</th>\n",
              "                        <td id=\"T_d30fdfbe_048c_11ec_a480_0242ac1c0002row0_col0\" class=\"data row0 col0\" >0</td>\n",
              "                        <td id=\"T_d30fdfbe_048c_11ec_a480_0242ac1c0002row0_col1\" class=\"data row0 col1\" >8.057325</td>\n",
              "            </tr>\n",
              "            <tr>\n",
              "                        <th id=\"T_d30fdfbe_048c_11ec_a480_0242ac1c0002level0_row1\" class=\"row_heading level0 row1\" >1</th>\n",
              "                        <td id=\"T_d30fdfbe_048c_11ec_a480_0242ac1c0002row1_col0\" class=\"data row1 col0\" >5</td>\n",
              "                        <td id=\"T_d30fdfbe_048c_11ec_a480_0242ac1c0002row1_col1\" class=\"data row1 col1\" >8.317713</td>\n",
              "            </tr>\n",
              "            <tr>\n",
              "                        <th id=\"T_d30fdfbe_048c_11ec_a480_0242ac1c0002level0_row2\" class=\"row_heading level0 row2\" >2</th>\n",
              "                        <td id=\"T_d30fdfbe_048c_11ec_a480_0242ac1c0002row2_col0\" class=\"data row2 col0\" >15</td>\n",
              "                        <td id=\"T_d30fdfbe_048c_11ec_a480_0242ac1c0002row2_col1\" class=\"data row2 col1\" >8.403558</td>\n",
              "            </tr>\n",
              "            <tr>\n",
              "                        <th id=\"T_d30fdfbe_048c_11ec_a480_0242ac1c0002level0_row3\" class=\"row_heading level0 row3\" >3</th>\n",
              "                        <td id=\"T_d30fdfbe_048c_11ec_a480_0242ac1c0002row3_col0\" class=\"data row3 col0\" >16</td>\n",
              "                        <td id=\"T_d30fdfbe_048c_11ec_a480_0242ac1c0002row3_col1\" class=\"data row3 col1\" >8.475143</td>\n",
              "            </tr>\n",
              "            <tr>\n",
              "                        <th id=\"T_d30fdfbe_048c_11ec_a480_0242ac1c0002level0_row4\" class=\"row_heading level0 row4\" >4</th>\n",
              "                        <td id=\"T_d30fdfbe_048c_11ec_a480_0242ac1c0002row4_col0\" class=\"data row4 col0\" >17</td>\n",
              "                        <td id=\"T_d30fdfbe_048c_11ec_a480_0242ac1c0002row4_col1\" class=\"data row4 col1\" >8.125825</td>\n",
              "            </tr>\n",
              "    </tbody></table>"
            ],
            "text/plain": [
              "<pandas.io.formats.style.Styler at 0x7f460cec0a10>"
            ]
          },
          "metadata": {}
        },
        {
          "output_type": "stream",
          "text": [
            "\n",
            "\n"
          ],
          "name": "stdout"
        },
        {
          "output_type": "display_data",
          "data": {
            "text/html": [
              "<style  type=\"text/css\" >\n",
              "</style><table id=\"T_d3108fae_048c_11ec_a480_0242ac1c0002\" ><caption>XGB Kfold - 0.71769</caption><thead>    <tr>        <th class=\"blank level0\" ></th>        <th class=\"col_heading level0 col0\" >Id</th>        <th class=\"col_heading level0 col1\" >target</th>    </tr></thead><tbody>\n",
              "                <tr>\n",
              "                        <th id=\"T_d3108fae_048c_11ec_a480_0242ac1c0002level0_row0\" class=\"row_heading level0 row0\" >0</th>\n",
              "                        <td id=\"T_d3108fae_048c_11ec_a480_0242ac1c0002row0_col0\" class=\"data row0 col0\" >0</td>\n",
              "                        <td id=\"T_d3108fae_048c_11ec_a480_0242ac1c0002row0_col1\" class=\"data row0 col1\" >8.086397</td>\n",
              "            </tr>\n",
              "            <tr>\n",
              "                        <th id=\"T_d3108fae_048c_11ec_a480_0242ac1c0002level0_row1\" class=\"row_heading level0 row1\" >1</th>\n",
              "                        <td id=\"T_d3108fae_048c_11ec_a480_0242ac1c0002row1_col0\" class=\"data row1 col0\" >5</td>\n",
              "                        <td id=\"T_d3108fae_048c_11ec_a480_0242ac1c0002row1_col1\" class=\"data row1 col1\" >8.407320</td>\n",
              "            </tr>\n",
              "            <tr>\n",
              "                        <th id=\"T_d3108fae_048c_11ec_a480_0242ac1c0002level0_row2\" class=\"row_heading level0 row2\" >2</th>\n",
              "                        <td id=\"T_d3108fae_048c_11ec_a480_0242ac1c0002row2_col0\" class=\"data row2 col0\" >15</td>\n",
              "                        <td id=\"T_d3108fae_048c_11ec_a480_0242ac1c0002row2_col1\" class=\"data row2 col1\" >8.421388</td>\n",
              "            </tr>\n",
              "            <tr>\n",
              "                        <th id=\"T_d3108fae_048c_11ec_a480_0242ac1c0002level0_row3\" class=\"row_heading level0 row3\" >3</th>\n",
              "                        <td id=\"T_d3108fae_048c_11ec_a480_0242ac1c0002row3_col0\" class=\"data row3 col0\" >16</td>\n",
              "                        <td id=\"T_d3108fae_048c_11ec_a480_0242ac1c0002row3_col1\" class=\"data row3 col1\" >8.506218</td>\n",
              "            </tr>\n",
              "            <tr>\n",
              "                        <th id=\"T_d3108fae_048c_11ec_a480_0242ac1c0002level0_row4\" class=\"row_heading level0 row4\" >4</th>\n",
              "                        <td id=\"T_d3108fae_048c_11ec_a480_0242ac1c0002row4_col0\" class=\"data row4 col0\" >17</td>\n",
              "                        <td id=\"T_d3108fae_048c_11ec_a480_0242ac1c0002row4_col1\" class=\"data row4 col1\" >8.109425</td>\n",
              "            </tr>\n",
              "    </tbody></table>"
            ],
            "text/plain": [
              "<pandas.io.formats.style.Styler at 0x7f460cbd4d10>"
            ]
          },
          "metadata": {}
        },
        {
          "output_type": "stream",
          "text": [
            "\n",
            "\n"
          ],
          "name": "stdout"
        },
        {
          "output_type": "display_data",
          "data": {
            "text/html": [
              "<style  type=\"text/css\" >\n",
              "</style><table id=\"T_d312b3ec_048c_11ec_a480_0242ac1c0002\" ><caption>XGB - 0.71848</caption><thead>    <tr>        <th class=\"blank level0\" ></th>        <th class=\"col_heading level0 col0\" >Id</th>        <th class=\"col_heading level0 col1\" >target</th>    </tr></thead><tbody>\n",
              "                <tr>\n",
              "                        <th id=\"T_d312b3ec_048c_11ec_a480_0242ac1c0002level0_row0\" class=\"row_heading level0 row0\" >0</th>\n",
              "                        <td id=\"T_d312b3ec_048c_11ec_a480_0242ac1c0002row0_col0\" class=\"data row0 col0\" >0</td>\n",
              "                        <td id=\"T_d312b3ec_048c_11ec_a480_0242ac1c0002row0_col1\" class=\"data row0 col1\" >8.114770</td>\n",
              "            </tr>\n",
              "            <tr>\n",
              "                        <th id=\"T_d312b3ec_048c_11ec_a480_0242ac1c0002level0_row1\" class=\"row_heading level0 row1\" >1</th>\n",
              "                        <td id=\"T_d312b3ec_048c_11ec_a480_0242ac1c0002row1_col0\" class=\"data row1 col0\" >5</td>\n",
              "                        <td id=\"T_d312b3ec_048c_11ec_a480_0242ac1c0002row1_col1\" class=\"data row1 col1\" >8.451990</td>\n",
              "            </tr>\n",
              "            <tr>\n",
              "                        <th id=\"T_d312b3ec_048c_11ec_a480_0242ac1c0002level0_row2\" class=\"row_heading level0 row2\" >2</th>\n",
              "                        <td id=\"T_d312b3ec_048c_11ec_a480_0242ac1c0002row2_col0\" class=\"data row2 col0\" >15</td>\n",
              "                        <td id=\"T_d312b3ec_048c_11ec_a480_0242ac1c0002row2_col1\" class=\"data row2 col1\" >8.433565</td>\n",
              "            </tr>\n",
              "            <tr>\n",
              "                        <th id=\"T_d312b3ec_048c_11ec_a480_0242ac1c0002level0_row3\" class=\"row_heading level0 row3\" >3</th>\n",
              "                        <td id=\"T_d312b3ec_048c_11ec_a480_0242ac1c0002row3_col0\" class=\"data row3 col0\" >16</td>\n",
              "                        <td id=\"T_d312b3ec_048c_11ec_a480_0242ac1c0002row3_col1\" class=\"data row3 col1\" >8.485857</td>\n",
              "            </tr>\n",
              "            <tr>\n",
              "                        <th id=\"T_d312b3ec_048c_11ec_a480_0242ac1c0002level0_row4\" class=\"row_heading level0 row4\" >4</th>\n",
              "                        <td id=\"T_d312b3ec_048c_11ec_a480_0242ac1c0002row4_col0\" class=\"data row4 col0\" >17</td>\n",
              "                        <td id=\"T_d312b3ec_048c_11ec_a480_0242ac1c0002row4_col1\" class=\"data row4 col1\" >8.129815</td>\n",
              "            </tr>\n",
              "    </tbody></table>"
            ],
            "text/plain": [
              "<pandas.io.formats.style.Styler at 0x7f4680a48e90>"
            ]
          },
          "metadata": {}
        },
        {
          "output_type": "stream",
          "text": [
            "\n",
            "\n"
          ],
          "name": "stdout"
        },
        {
          "output_type": "display_data",
          "data": {
            "text/html": [
              "<style  type=\"text/css\" >\n",
              "</style><table id=\"T_d313d02e_048c_11ec_a480_0242ac1c0002\" ><caption>Ensemble - 0.71759</caption><thead>    <tr>        <th class=\"blank level0\" ></th>        <th class=\"col_heading level0 col0\" >id</th>        <th class=\"col_heading level0 col1\" >target</th>    </tr></thead><tbody>\n",
              "                <tr>\n",
              "                        <th id=\"T_d313d02e_048c_11ec_a480_0242ac1c0002level0_row0\" class=\"row_heading level0 row0\" >0</th>\n",
              "                        <td id=\"T_d313d02e_048c_11ec_a480_0242ac1c0002row0_col0\" class=\"data row0 col0\" >0</td>\n",
              "                        <td id=\"T_d313d02e_048c_11ec_a480_0242ac1c0002row0_col1\" class=\"data row0 col1\" >8.085423</td>\n",
              "            </tr>\n",
              "            <tr>\n",
              "                        <th id=\"T_d313d02e_048c_11ec_a480_0242ac1c0002level0_row1\" class=\"row_heading level0 row1\" >1</th>\n",
              "                        <td id=\"T_d313d02e_048c_11ec_a480_0242ac1c0002row1_col0\" class=\"data row1 col0\" >5</td>\n",
              "                        <td id=\"T_d313d02e_048c_11ec_a480_0242ac1c0002row1_col1\" class=\"data row1 col1\" >8.393361</td>\n",
              "            </tr>\n",
              "            <tr>\n",
              "                        <th id=\"T_d313d02e_048c_11ec_a480_0242ac1c0002level0_row2\" class=\"row_heading level0 row2\" >2</th>\n",
              "                        <td id=\"T_d313d02e_048c_11ec_a480_0242ac1c0002row2_col0\" class=\"data row2 col0\" >15</td>\n",
              "                        <td id=\"T_d313d02e_048c_11ec_a480_0242ac1c0002row2_col1\" class=\"data row2 col1\" >8.419000</td>\n",
              "            </tr>\n",
              "            <tr>\n",
              "                        <th id=\"T_d313d02e_048c_11ec_a480_0242ac1c0002level0_row3\" class=\"row_heading level0 row3\" >3</th>\n",
              "                        <td id=\"T_d313d02e_048c_11ec_a480_0242ac1c0002row3_col0\" class=\"data row3 col0\" >16</td>\n",
              "                        <td id=\"T_d313d02e_048c_11ec_a480_0242ac1c0002row3_col1\" class=\"data row3 col1\" >8.512267</td>\n",
              "            </tr>\n",
              "            <tr>\n",
              "                        <th id=\"T_d313d02e_048c_11ec_a480_0242ac1c0002level0_row4\" class=\"row_heading level0 row4\" >4</th>\n",
              "                        <td id=\"T_d313d02e_048c_11ec_a480_0242ac1c0002row4_col0\" class=\"data row4 col0\" >17</td>\n",
              "                        <td id=\"T_d313d02e_048c_11ec_a480_0242ac1c0002row4_col1\" class=\"data row4 col1\" >8.127342</td>\n",
              "            </tr>\n",
              "    </tbody></table>"
            ],
            "text/plain": [
              "<pandas.io.formats.style.Styler at 0x7f460cbd4a90>"
            ]
          },
          "metadata": {}
        }
      ]
    },
    {
      "cell_type": "code",
      "metadata": {
        "id": "9e_wD4UIh_lB"
      },
      "source": [
        "#XGB Kfold - 0.71769, LGBM - 0.71871, XGB - 0.71848, Ensemble - 0.71759 - Итог 0.71761\n",
        "weights = [.45, .00, .05, .5]"
      ],
      "execution_count": null,
      "outputs": []
    },
    {
      "cell_type": "code",
      "metadata": {
        "id": "tX08ZLF7WOgq"
      },
      "source": [
        "#XGB Kfold - 0.71769, LGBM - 0.71871, XGB - 0.71848, Ensemble - 0.71759 - Итог \n",
        "weights = [.25, .00, .05, .7]"
      ],
      "execution_count": null,
      "outputs": []
    },
    {
      "cell_type": "code",
      "metadata": {
        "id": "CwlN7mjkaZ_v"
      },
      "source": [
        "#XGB Kfold - 0.71769, LGBM - 0.71871, XGB - 0.71848, Ensemble - 0.71759 \n",
        "weights = [.15, .00, .00, .85]"
      ],
      "execution_count": null,
      "outputs": []
    },
    {
      "cell_type": "code",
      "metadata": {
        "id": "6x6a6Yo9adTD"
      },
      "source": [
        "#XGB Kfold - 0.71769, LGBM - 0.71871, XGB - 0.71848, Ensemble - 0.71759 \n",
        "weights = [.1, .00, .00, .9]"
      ],
      "execution_count": null,
      "outputs": []
    },
    {
      "cell_type": "code",
      "metadata": {
        "id": "dFCz8EQ9fG13"
      },
      "source": [
        "#XGB Kfold - 0.71769, LGBM - 0.71871, XGB - 0.71848, Ensemble - 0.71759 \n",
        "weights = [.05, .00, .00, .95]"
      ],
      "execution_count": null,
      "outputs": []
    },
    {
      "cell_type": "code",
      "metadata": {
        "id": "_RpM17RxfOyO"
      },
      "source": [
        "#XGB Kfold - 0.71769, LGBM - 0.71871, XGB - 0.71848, Ensemble - 0.71759 \n",
        "weights = [.5, .00, .00, .5]"
      ],
      "execution_count": null,
      "outputs": []
    },
    {
      "cell_type": "code",
      "metadata": {
        "id": "ORKdQAVxYEI1"
      },
      "source": [
        "#XGB Kfold - 0.71769, LGBM - 0.71871, XGB - 0.71848, Ensemble - 0.71759 \n",
        "weights = [.4, .10, .10, .4]"
      ],
      "execution_count": null,
      "outputs": []
    },
    {
      "cell_type": "code",
      "metadata": {
        "id": "IyhHPaGNolCm"
      },
      "source": [
        "#XGB Kfold - 0.71769, LGBM - 0.71871, XGB - 0.71848, Ensemble - 0.71759 \n",
        "weights = [.05, .00, .05, .9]"
      ],
      "execution_count": null,
      "outputs": []
    },
    {
      "cell_type": "code",
      "metadata": {
        "id": "kUUuuQw4qV-g"
      },
      "source": [
        "#XGB Kfold - 0.71769, LGBM - 0.71871, XGB - 0.71848, Ensemble - 0.71759 \n",
        "weights = [.00, .00, .00, 0.99931]"
      ],
      "execution_count": null,
      "outputs": []
    },
    {
      "cell_type": "code",
      "metadata": {
        "id": "uFMsTEiR5oS3"
      },
      "source": [
        "sum(weights)"
      ],
      "execution_count": null,
      "outputs": []
    },
    {
      "cell_type": "code",
      "metadata": {
        "id": "fEfaHKq6itkS"
      },
      "source": [
        "sub_ense = pd.DataFrame()\n",
        "sub_ense['Id'] = test['id']\n",
        "sub_ense['target'] = (sub_XG['target'] * weights[0] + \n",
        "                      sub_LGBM['target'] * weights[1] +\n",
        "                      sub_XG_full['target'] * weights[2]+\n",
        "                      sub_ensemble['target'] * weights [3]\n",
        "                      )"
      ],
      "execution_count": null,
      "outputs": []
    },
    {
      "cell_type": "code",
      "metadata": {
        "colab": {
          "base_uri": "https://localhost:8080/",
          "height": 204
        },
        "id": "CgETrChSi-Tj",
        "outputId": "397e76f6-b481-4e5a-e514-d2136e3534eb"
      },
      "source": [
        "sub_ense.head()"
      ],
      "execution_count": null,
      "outputs": [
        {
          "output_type": "execute_result",
          "data": {
            "text/html": [
              "<div>\n",
              "<style scoped>\n",
              "    .dataframe tbody tr th:only-of-type {\n",
              "        vertical-align: middle;\n",
              "    }\n",
              "\n",
              "    .dataframe tbody tr th {\n",
              "        vertical-align: top;\n",
              "    }\n",
              "\n",
              "    .dataframe thead th {\n",
              "        text-align: right;\n",
              "    }\n",
              "</style>\n",
              "<table border=\"1\" class=\"dataframe\">\n",
              "  <thead>\n",
              "    <tr style=\"text-align: right;\">\n",
              "      <th></th>\n",
              "      <th>Id</th>\n",
              "      <th>target</th>\n",
              "    </tr>\n",
              "  </thead>\n",
              "  <tbody>\n",
              "    <tr>\n",
              "      <th>0</th>\n",
              "      <td>0</td>\n",
              "      <td>8.079359</td>\n",
              "    </tr>\n",
              "    <tr>\n",
              "      <th>1</th>\n",
              "      <td>5</td>\n",
              "      <td>8.387066</td>\n",
              "    </tr>\n",
              "    <tr>\n",
              "      <th>2</th>\n",
              "      <td>15</td>\n",
              "      <td>8.412686</td>\n",
              "    </tr>\n",
              "    <tr>\n",
              "      <th>3</th>\n",
              "      <td>16</td>\n",
              "      <td>8.505882</td>\n",
              "    </tr>\n",
              "    <tr>\n",
              "      <th>4</th>\n",
              "      <td>17</td>\n",
              "      <td>8.121246</td>\n",
              "    </tr>\n",
              "  </tbody>\n",
              "</table>\n",
              "</div>"
            ],
            "text/plain": [
              "   Id    target\n",
              "0   0  8.079359\n",
              "1   5  8.387066\n",
              "2  15  8.412686\n",
              "3  16  8.505882\n",
              "4  17  8.121246"
            ]
          },
          "metadata": {},
          "execution_count": 77
        }
      ]
    },
    {
      "cell_type": "code",
      "metadata": {
        "id": "-YtSn74133zS"
      },
      "source": [
        "sub_ense.to_csv('ensemble.csv', index=False)"
      ],
      "execution_count": null,
      "outputs": []
    },
    {
      "cell_type": "code",
      "metadata": {
        "colab": {
          "base_uri": "https://localhost:8080/",
          "height": 17
        },
        "id": "cFZ7Lz2WiF6P",
        "outputId": "c38767fe-64b4-4562-bdbe-52bd12f98b20"
      },
      "source": [
        "files.download('ensemble.csv')"
      ],
      "execution_count": null,
      "outputs": [
        {
          "output_type": "display_data",
          "data": {
            "application/javascript": [
              "\n",
              "    async function download(id, filename, size) {\n",
              "      if (!google.colab.kernel.accessAllowed) {\n",
              "        return;\n",
              "      }\n",
              "      const div = document.createElement('div');\n",
              "      const label = document.createElement('label');\n",
              "      label.textContent = `Downloading \"${filename}\": `;\n",
              "      div.appendChild(label);\n",
              "      const progress = document.createElement('progress');\n",
              "      progress.max = size;\n",
              "      div.appendChild(progress);\n",
              "      document.body.appendChild(div);\n",
              "\n",
              "      const buffers = [];\n",
              "      let downloaded = 0;\n",
              "\n",
              "      const channel = await google.colab.kernel.comms.open(id);\n",
              "      // Send a message to notify the kernel that we're ready.\n",
              "      channel.send({})\n",
              "\n",
              "      for await (const message of channel.messages) {\n",
              "        // Send a message to notify the kernel that we're ready.\n",
              "        channel.send({})\n",
              "        if (message.buffers) {\n",
              "          for (const buffer of message.buffers) {\n",
              "            buffers.push(buffer);\n",
              "            downloaded += buffer.byteLength;\n",
              "            progress.value = downloaded;\n",
              "          }\n",
              "        }\n",
              "      }\n",
              "      const blob = new Blob(buffers, {type: 'application/binary'});\n",
              "      const a = document.createElement('a');\n",
              "      a.href = window.URL.createObjectURL(blob);\n",
              "      a.download = filename;\n",
              "      div.appendChild(a);\n",
              "      a.click();\n",
              "      div.remove();\n",
              "    }\n",
              "  "
            ],
            "text/plain": [
              "<IPython.core.display.Javascript object>"
            ]
          },
          "metadata": {}
        },
        {
          "output_type": "display_data",
          "data": {
            "application/javascript": [
              "download(\"download_b1ac7a0e-f476-4d4e-a35a-1c1dd1f47da6\", \"ensemble.csv\", 4921016)"
            ],
            "text/plain": [
              "<IPython.core.display.Javascript object>"
            ]
          },
          "metadata": {}
        }
      ]
    }
  ]
}