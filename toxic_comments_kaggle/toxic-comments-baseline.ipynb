{
 "cells": [
  {
   "cell_type": "markdown",
   "id": "d88f6e00",
   "metadata": {
    "id": "QNOxZAMC75AD",
    "papermill": {
     "duration": 0.054217,
     "end_time": "2021-07-26T10:33:55.644834",
     "exception": false,
     "start_time": "2021-07-26T10:33:55.590617",
     "status": "completed"
    },
    "tags": []
   },
   "source": [
    "<footer id=\"footer\"></footer>"
   ]
  },
  {
   "cell_type": "markdown",
   "id": "ac95efb2",
   "metadata": {
    "id": "npH1wChQ75AE",
    "papermill": {
     "duration": 0.04955,
     "end_time": "2021-07-26T10:33:55.747193",
     "exception": false,
     "start_time": "2021-07-26T10:33:55.697643",
     "status": "completed"
    },
    "tags": []
   },
   "source": [
    "# Cleaned Toxic Comments"
   ]
  },
  {
   "cell_type": "markdown",
   "id": "03dd73bb",
   "metadata": {
    "id": "5XGMByv475AE",
    "papermill": {
     "duration": 0.065773,
     "end_time": "2021-07-26T10:33:55.867176",
     "exception": false,
     "start_time": "2021-07-26T10:33:55.801403",
     "status": "completed"
    },
    "tags": []
   },
   "source": [
    "![](https://i.ibb.co/pjcBRMR/bbc87fcc-3bb9-422a-a925-60ae8f17b019.jpg)"
   ]
  },
  {
   "cell_type": "markdown",
   "id": "722a567d",
   "metadata": {
    "id": "2m_9qEJs75AF",
    "papermill": {
     "duration": 0.052316,
     "end_time": "2021-07-26T10:33:55.970588",
     "exception": false,
     "start_time": "2021-07-26T10:33:55.918272",
     "status": "completed"
    },
    "tags": []
   },
   "source": [
    "Discussing things you care about can be difficult. The threat of abuse and harassment online means that many people stop expressing themselves and give up on seeking different opinions. Platforms struggle to effectively facilitate conversations, leading many communities to limit or completely shut down user comments.\n",
    "\n",
    "We have several target features, but let us work only with toxic in this data because of kernel limits (and try to use simple models - now voting classifiers - only RandomForest, SGD and try some BERT)\n",
    "\n",
    "\n",
    "**Due to the computational limitations of the kernel - i have to abandon voting during classification and choose only one target feature. I hope the procedure will be useful to someone. It is just a baseline for beginners, thank you for reading**"
   ]
  },
  {
   "cell_type": "markdown",
   "id": "4e10c188",
   "metadata": {
    "id": "yO9SRKYY75AJ",
    "papermill": {
     "duration": 0.050012,
     "end_time": "2021-07-26T10:33:56.072186",
     "exception": false,
     "start_time": "2021-07-26T10:33:56.022174",
     "status": "completed"
    },
    "tags": []
   },
   "source": [
    "## Preprocessing"
   ]
  },
  {
   "cell_type": "markdown",
   "id": "af14e3d1",
   "metadata": {
    "id": "EECiPmEg75AJ",
    "papermill": {
     "duration": 0.070307,
     "end_time": "2021-07-26T10:33:56.192669",
     "exception": false,
     "start_time": "2021-07-26T10:33:56.122362",
     "status": "completed"
    },
    "tags": []
   },
   "source": [
    "### Imports"
   ]
  },
  {
   "cell_type": "code",
   "execution_count": 1,
   "id": "1216c108",
   "metadata": {
    "execution": {
     "iopub.execute_input": "2021-07-26T10:33:56.301555Z",
     "iopub.status.busy": "2021-07-26T10:33:56.300484Z",
     "iopub.status.idle": "2021-07-26T10:34:03.971444Z",
     "shell.execute_reply": "2021-07-26T10:34:03.970744Z"
    },
    "id": "k0xzyIPoj4qd",
    "papermill": {
     "duration": 7.72714,
     "end_time": "2021-07-26T10:34:03.971644",
     "exception": false,
     "start_time": "2021-07-26T10:33:56.244504",
     "status": "completed"
    },
    "tags": []
   },
   "outputs": [],
   "source": [
    "%%capture\n",
    "!pip install transformers;"
   ]
  },
  {
   "cell_type": "code",
   "execution_count": 2,
   "id": "102c7abe",
   "metadata": {
    "execution": {
     "iopub.execute_input": "2021-07-26T10:34:04.089170Z",
     "iopub.status.busy": "2021-07-26T10:34:04.084702Z",
     "iopub.status.idle": "2021-07-26T10:34:10.397326Z",
     "shell.execute_reply": "2021-07-26T10:34:10.396603Z"
    },
    "id": "YK5OK1rL75AK",
    "papermill": {
     "duration": 6.369972,
     "end_time": "2021-07-26T10:34:10.397487",
     "exception": false,
     "start_time": "2021-07-26T10:34:04.027515",
     "status": "completed"
    },
    "scrolled": true,
    "tags": []
   },
   "outputs": [],
   "source": [
    "%%capture\n",
    "!pip install wordcloud;"
   ]
  },
  {
   "cell_type": "code",
   "execution_count": 3,
   "id": "9f2d2ef8",
   "metadata": {
    "execution": {
     "iopub.execute_input": "2021-07-26T10:34:10.511296Z",
     "iopub.status.busy": "2021-07-26T10:34:10.510400Z",
     "iopub.status.idle": "2021-07-26T10:34:16.592403Z",
     "shell.execute_reply": "2021-07-26T10:34:16.591794Z"
    },
    "id": "zSO7mtzw75AK",
    "papermill": {
     "duration": 6.143885,
     "end_time": "2021-07-26T10:34:16.592559",
     "exception": false,
     "start_time": "2021-07-26T10:34:10.448674",
     "status": "completed"
    },
    "tags": []
   },
   "outputs": [],
   "source": [
    "%%capture\n",
    "!pip install tqdm;"
   ]
  },
  {
   "cell_type": "code",
   "execution_count": 4,
   "id": "e5fe4d7b",
   "metadata": {
    "execution": {
     "iopub.execute_input": "2021-07-26T10:34:16.703419Z",
     "iopub.status.busy": "2021-07-26T10:34:16.702684Z",
     "iopub.status.idle": "2021-07-26T10:34:20.299036Z",
     "shell.execute_reply": "2021-07-26T10:34:20.298148Z"
    },
    "id": "WJFNN90HOvyj",
    "outputId": "f32ed9ff-7016-43a6-fea1-e1ec36bd9758",
    "papermill": {
     "duration": 3.655571,
     "end_time": "2021-07-26T10:34:20.299235",
     "exception": false,
     "start_time": "2021-07-26T10:34:16.643664",
     "status": "completed"
    },
    "tags": []
   },
   "outputs": [
    {
     "name": "stdout",
     "output_type": "stream",
     "text": [
      "[nltk_data] Downloading package punkt to /usr/share/nltk_data...\n",
      "[nltk_data]   Package punkt is already up-to-date!\n",
      "[nltk_data] Downloading package wordnet to /usr/share/nltk_data...\n",
      "[nltk_data]   Package wordnet is already up-to-date!\n",
      "[nltk_data] Downloading package stopwords to /usr/share/nltk_data...\n",
      "[nltk_data]   Package stopwords is already up-to-date!\n"
     ]
    }
   ],
   "source": [
    "import pandas as pd\n",
    "import numpy as np\n",
    "import matplotlib.pyplot as plt\n",
    "import re\n",
    "\n",
    "import nltk\n",
    "from nltk.corpus import stopwords\n",
    "from nltk.stem import WordNetLemmatizer\n",
    "\n",
    "from sklearn.feature_extraction.text import TfidfVectorizer\n",
    "from sklearn.model_selection import train_test_split\n",
    "from sklearn.ensemble import RandomForestClassifier\n",
    "from sklearn.linear_model import SGDClassifier, LogisticRegression\n",
    "from sklearn.dummy import DummyClassifier\n",
    "from sklearn.metrics import f1_score, accuracy_score\n",
    "from sklearn.utils import shuffle\n",
    "\n",
    "\n",
    "import torch\n",
    "import transformers\n",
    "from wordcloud import WordCloud\n",
    "\n",
    "\n",
    "import warnings\n",
    "import seaborn as sns\n",
    "from tqdm import notebook\n",
    "from tqdm import tqdm\n",
    "\n",
    "sns.set_style('darkgrid')\n",
    "nltk.download('punkt')\n",
    "nltk.download('wordnet')\n",
    "warnings.filterwarnings('ignore')\n",
    "nltk.download('stopwords')\n",
    "stopwords = set(stopwords.words('english'))\n",
    "\n",
    "np.random.seed(42)"
   ]
  },
  {
   "cell_type": "markdown",
   "id": "7f4724ef",
   "metadata": {
    "id": "aUTVMeFRozE2",
    "papermill": {
     "duration": 0.050837,
     "end_time": "2021-07-26T10:34:20.402535",
     "exception": false,
     "start_time": "2021-07-26T10:34:20.351698",
     "status": "completed"
    },
    "tags": []
   },
   "source": [
    "### Downloading data and review"
   ]
  },
  {
   "cell_type": "code",
   "execution_count": 5,
   "id": "7fa78646",
   "metadata": {
    "execution": {
     "iopub.execute_input": "2021-07-26T10:34:20.510455Z",
     "iopub.status.busy": "2021-07-26T10:34:20.509705Z",
     "iopub.status.idle": "2021-07-26T10:34:22.234002Z",
     "shell.execute_reply": "2021-07-26T10:34:22.233513Z"
    },
    "id": "NZ3aAMkUPGv6",
    "outputId": "91cdbb3a-175a-464c-e82c-96d5b661a7de",
    "papermill": {
     "duration": 1.780781,
     "end_time": "2021-07-26T10:34:22.234159",
     "exception": false,
     "start_time": "2021-07-26T10:34:20.453378",
     "status": "completed"
    },
    "tags": []
   },
   "outputs": [
    {
     "data": {
      "text/html": [
       "<div>\n",
       "<style scoped>\n",
       "    .dataframe tbody tr th:only-of-type {\n",
       "        vertical-align: middle;\n",
       "    }\n",
       "\n",
       "    .dataframe tbody tr th {\n",
       "        vertical-align: top;\n",
       "    }\n",
       "\n",
       "    .dataframe thead th {\n",
       "        text-align: right;\n",
       "    }\n",
       "</style>\n",
       "<table border=\"1\" class=\"dataframe\">\n",
       "  <thead>\n",
       "    <tr style=\"text-align: right;\">\n",
       "      <th></th>\n",
       "      <th>comment_text</th>\n",
       "      <th>identity_hate</th>\n",
       "      <th>insult</th>\n",
       "      <th>obscene</th>\n",
       "      <th>severe_toxic</th>\n",
       "      <th>threat</th>\n",
       "      <th>toxic</th>\n",
       "    </tr>\n",
       "  </thead>\n",
       "  <tbody>\n",
       "    <tr>\n",
       "      <th>0</th>\n",
       "      <td>explanation why the edits made under my userna...</td>\n",
       "      <td>0.0</td>\n",
       "      <td>0.0</td>\n",
       "      <td>0.0</td>\n",
       "      <td>0.0</td>\n",
       "      <td>0.0</td>\n",
       "      <td>0.0</td>\n",
       "    </tr>\n",
       "    <tr>\n",
       "      <th>1</th>\n",
       "      <td>d aww  he matches this background colour i m s...</td>\n",
       "      <td>0.0</td>\n",
       "      <td>0.0</td>\n",
       "      <td>0.0</td>\n",
       "      <td>0.0</td>\n",
       "      <td>0.0</td>\n",
       "      <td>0.0</td>\n",
       "    </tr>\n",
       "    <tr>\n",
       "      <th>2</th>\n",
       "      <td>hey man  i m really not trying to edit war  it...</td>\n",
       "      <td>0.0</td>\n",
       "      <td>0.0</td>\n",
       "      <td>0.0</td>\n",
       "      <td>0.0</td>\n",
       "      <td>0.0</td>\n",
       "      <td>0.0</td>\n",
       "    </tr>\n",
       "    <tr>\n",
       "      <th>3</th>\n",
       "      <td>more i can t make any real suggestions on im...</td>\n",
       "      <td>0.0</td>\n",
       "      <td>0.0</td>\n",
       "      <td>0.0</td>\n",
       "      <td>0.0</td>\n",
       "      <td>0.0</td>\n",
       "      <td>0.0</td>\n",
       "    </tr>\n",
       "    <tr>\n",
       "      <th>4</th>\n",
       "      <td>you  sir  are my hero  any chance you remember...</td>\n",
       "      <td>0.0</td>\n",
       "      <td>0.0</td>\n",
       "      <td>0.0</td>\n",
       "      <td>0.0</td>\n",
       "      <td>0.0</td>\n",
       "      <td>0.0</td>\n",
       "    </tr>\n",
       "  </tbody>\n",
       "</table>\n",
       "</div>"
      ],
      "text/plain": [
       "                                        comment_text  identity_hate  insult  \\\n",
       "0  explanation why the edits made under my userna...            0.0     0.0   \n",
       "1  d aww  he matches this background colour i m s...            0.0     0.0   \n",
       "2  hey man  i m really not trying to edit war  it...            0.0     0.0   \n",
       "3    more i can t make any real suggestions on im...            0.0     0.0   \n",
       "4  you  sir  are my hero  any chance you remember...            0.0     0.0   \n",
       "\n",
       "   obscene  severe_toxic  threat  toxic  \n",
       "0      0.0           0.0     0.0    0.0  \n",
       "1      0.0           0.0     0.0    0.0  \n",
       "2      0.0           0.0     0.0    0.0  \n",
       "3      0.0           0.0     0.0    0.0  \n",
       "4      0.0           0.0     0.0    0.0  "
      ]
     },
     "metadata": {},
     "output_type": "display_data"
    },
    {
     "data": {
      "text/plain": [
       "Index(['comment_text', 'identity_hate', 'insult', 'obscene', 'severe_toxic',\n",
       "       'threat', 'toxic'],\n",
       "      dtype='object')"
      ]
     },
     "metadata": {},
     "output_type": "display_data"
    }
   ],
   "source": [
    "train = pd.read_csv('../input/cleaned-toxic-comments/train_preprocessed.csv')\n",
    "train.drop(['set', 'id', 'toxicity'], axis=1, inplace=True)\n",
    "display(train.head())\n",
    "display(train.columns)"
   ]
  },
  {
   "cell_type": "markdown",
   "id": "01fdb20a",
   "metadata": {
    "id": "YvXdSs9P75AN",
    "papermill": {
     "duration": 0.05153,
     "end_time": "2021-07-26T10:34:22.337419",
     "exception": false,
     "start_time": "2021-07-26T10:34:22.285889",
     "status": "completed"
    },
    "tags": []
   },
   "source": [
    "the column `comment_text` contains the text of the comment, and `identity_hate`, `insult`, `obscene`, `severe_toxic`, `threat`, `toxic` — target features\n",
    "\n",
    "Check the gaps"
   ]
  },
  {
   "cell_type": "code",
   "execution_count": 6,
   "id": "5bc32339",
   "metadata": {
    "execution": {
     "iopub.execute_input": "2021-07-26T10:34:22.472969Z",
     "iopub.status.busy": "2021-07-26T10:34:22.472311Z",
     "iopub.status.idle": "2021-07-26T10:34:22.483253Z",
     "shell.execute_reply": "2021-07-26T10:34:22.483679Z"
    },
    "id": "MM0f8_c5PLQL",
    "outputId": "4f925254-f3c7-4696-b8de-fb9bbbcb132e",
    "papermill": {
     "duration": 0.094439,
     "end_time": "2021-07-26T10:34:22.483867",
     "exception": false,
     "start_time": "2021-07-26T10:34:22.389428",
     "status": "completed"
    },
    "tags": []
   },
   "outputs": [
    {
     "data": {
      "text/plain": [
       "comment_text     0.0\n",
       "identity_hate    0.0\n",
       "insult           0.0\n",
       "obscene          0.0\n",
       "severe_toxic     0.0\n",
       "threat           0.0\n",
       "toxic            0.0\n",
       "dtype: float64"
      ]
     },
     "execution_count": 6,
     "metadata": {},
     "output_type": "execute_result"
    }
   ],
   "source": [
    "train.isna().mean()"
   ]
  },
  {
   "cell_type": "code",
   "execution_count": 7,
   "id": "0130215d",
   "metadata": {
    "execution": {
     "iopub.execute_input": "2021-07-26T10:34:22.620870Z",
     "iopub.status.busy": "2021-07-26T10:34:22.620233Z",
     "iopub.status.idle": "2021-07-26T10:34:22.640710Z",
     "shell.execute_reply": "2021-07-26T10:34:22.641425Z"
    },
    "id": "-e-SKCb-Pc_m",
    "outputId": "2ba4bc3d-79b5-48e1-a2f5-e4457e227032",
    "papermill": {
     "duration": 0.105929,
     "end_time": "2021-07-26T10:34:22.641688",
     "exception": false,
     "start_time": "2021-07-26T10:34:22.535759",
     "status": "completed"
    },
    "tags": []
   },
   "outputs": [
    {
     "name": "stdout",
     "output_type": "stream",
     "text": [
      "<class 'pandas.core.frame.DataFrame'>\n",
      "RangeIndex: 159571 entries, 0 to 159570\n",
      "Data columns (total 7 columns):\n",
      " #   Column         Non-Null Count   Dtype  \n",
      "---  ------         --------------   -----  \n",
      " 0   comment_text   159571 non-null  object \n",
      " 1   identity_hate  159571 non-null  float64\n",
      " 2   insult         159571 non-null  float64\n",
      " 3   obscene        159571 non-null  float64\n",
      " 4   severe_toxic   159571 non-null  float64\n",
      " 5   threat         159571 non-null  float64\n",
      " 6   toxic          159571 non-null  float64\n",
      "dtypes: float64(6), object(1)\n",
      "memory usage: 8.5+ MB\n"
     ]
    }
   ],
   "source": [
    "train.info()"
   ]
  },
  {
   "cell_type": "markdown",
   "id": "faafa33c",
   "metadata": {
    "id": "1iuaPCiC75AN",
    "papermill": {
     "duration": 0.05243,
     "end_time": "2021-07-26T10:34:22.747264",
     "exception": false,
     "start_time": "2021-07-26T10:34:22.694834",
     "status": "completed"
    },
    "tags": []
   },
   "source": [
    "The dataset contains 159571 lines, the data types correspond to the desired ones"
   ]
  },
  {
   "cell_type": "code",
   "execution_count": 8,
   "id": "7de6e242",
   "metadata": {
    "execution": {
     "iopub.execute_input": "2021-07-26T10:34:22.873871Z",
     "iopub.status.busy": "2021-07-26T10:34:22.873180Z",
     "iopub.status.idle": "2021-07-26T10:34:23.107115Z",
     "shell.execute_reply": "2021-07-26T10:34:23.106602Z"
    },
    "id": "iM1UB8H7PgzJ",
    "outputId": "bb6387d8-6888-4bca-a960-3af0b134c267",
    "papermill": {
     "duration": 0.307493,
     "end_time": "2021-07-26T10:34:23.107271",
     "exception": false,
     "start_time": "2021-07-26T10:34:22.799778",
     "status": "completed"
    },
    "tags": []
   },
   "outputs": [
    {
     "data": {
      "text/plain": [
       "717"
      ]
     },
     "execution_count": 8,
     "metadata": {},
     "output_type": "execute_result"
    }
   ],
   "source": [
    "train.duplicated().sum()"
   ]
  },
  {
   "cell_type": "markdown",
   "id": "eddad7b9",
   "metadata": {
    "id": "13L1grbg75AO",
    "papermill": {
     "duration": 0.053834,
     "end_time": "2021-07-26T10:34:23.215107",
     "exception": false,
     "start_time": "2021-07-26T10:34:23.161273",
     "status": "completed"
    },
    "tags": []
   },
   "source": [
    "For convenience, we will convert the text to lower case"
   ]
  },
  {
   "cell_type": "code",
   "execution_count": 9,
   "id": "6e7f3de9",
   "metadata": {
    "execution": {
     "iopub.execute_input": "2021-07-26T10:34:23.356074Z",
     "iopub.status.busy": "2021-07-26T10:34:23.355411Z",
     "iopub.status.idle": "2021-07-26T10:34:23.552953Z",
     "shell.execute_reply": "2021-07-26T10:34:23.552364Z"
    },
    "id": "4Uyay4hHVn1V",
    "papermill": {
     "duration": 0.284706,
     "end_time": "2021-07-26T10:34:23.553116",
     "exception": false,
     "start_time": "2021-07-26T10:34:23.268410",
     "status": "completed"
    },
    "tags": []
   },
   "outputs": [],
   "source": [
    "train['comment_text'] = train['comment_text'].str.lower()"
   ]
  },
  {
   "cell_type": "code",
   "execution_count": 10,
   "id": "5916e743",
   "metadata": {
    "execution": {
     "iopub.execute_input": "2021-07-26T10:34:23.676259Z",
     "iopub.status.busy": "2021-07-26T10:34:23.675107Z",
     "iopub.status.idle": "2021-07-26T10:34:23.679970Z",
     "shell.execute_reply": "2021-07-26T10:34:23.679372Z"
    },
    "id": "WkTQPpGvVtSa",
    "outputId": "544a1577-2af3-4ca0-c0f6-42bbd138ce73",
    "papermill": {
     "duration": 0.073371,
     "end_time": "2021-07-26T10:34:23.680141",
     "exception": false,
     "start_time": "2021-07-26T10:34:23.606770",
     "status": "completed"
    },
    "tags": []
   },
   "outputs": [
    {
     "data": {
      "text/html": [
       "<div>\n",
       "<style scoped>\n",
       "    .dataframe tbody tr th:only-of-type {\n",
       "        vertical-align: middle;\n",
       "    }\n",
       "\n",
       "    .dataframe tbody tr th {\n",
       "        vertical-align: top;\n",
       "    }\n",
       "\n",
       "    .dataframe thead th {\n",
       "        text-align: right;\n",
       "    }\n",
       "</style>\n",
       "<table border=\"1\" class=\"dataframe\">\n",
       "  <thead>\n",
       "    <tr style=\"text-align: right;\">\n",
       "      <th></th>\n",
       "      <th>comment_text</th>\n",
       "      <th>identity_hate</th>\n",
       "      <th>insult</th>\n",
       "      <th>obscene</th>\n",
       "      <th>severe_toxic</th>\n",
       "      <th>threat</th>\n",
       "      <th>toxic</th>\n",
       "    </tr>\n",
       "  </thead>\n",
       "  <tbody>\n",
       "    <tr>\n",
       "      <th>0</th>\n",
       "      <td>explanation why the edits made under my userna...</td>\n",
       "      <td>0.0</td>\n",
       "      <td>0.0</td>\n",
       "      <td>0.0</td>\n",
       "      <td>0.0</td>\n",
       "      <td>0.0</td>\n",
       "      <td>0.0</td>\n",
       "    </tr>\n",
       "    <tr>\n",
       "      <th>1</th>\n",
       "      <td>d aww  he matches this background colour i m s...</td>\n",
       "      <td>0.0</td>\n",
       "      <td>0.0</td>\n",
       "      <td>0.0</td>\n",
       "      <td>0.0</td>\n",
       "      <td>0.0</td>\n",
       "      <td>0.0</td>\n",
       "    </tr>\n",
       "    <tr>\n",
       "      <th>2</th>\n",
       "      <td>hey man  i m really not trying to edit war  it...</td>\n",
       "      <td>0.0</td>\n",
       "      <td>0.0</td>\n",
       "      <td>0.0</td>\n",
       "      <td>0.0</td>\n",
       "      <td>0.0</td>\n",
       "      <td>0.0</td>\n",
       "    </tr>\n",
       "    <tr>\n",
       "      <th>3</th>\n",
       "      <td>more i can t make any real suggestions on im...</td>\n",
       "      <td>0.0</td>\n",
       "      <td>0.0</td>\n",
       "      <td>0.0</td>\n",
       "      <td>0.0</td>\n",
       "      <td>0.0</td>\n",
       "      <td>0.0</td>\n",
       "    </tr>\n",
       "    <tr>\n",
       "      <th>4</th>\n",
       "      <td>you  sir  are my hero  any chance you remember...</td>\n",
       "      <td>0.0</td>\n",
       "      <td>0.0</td>\n",
       "      <td>0.0</td>\n",
       "      <td>0.0</td>\n",
       "      <td>0.0</td>\n",
       "      <td>0.0</td>\n",
       "    </tr>\n",
       "  </tbody>\n",
       "</table>\n",
       "</div>"
      ],
      "text/plain": [
       "                                        comment_text  identity_hate  insult  \\\n",
       "0  explanation why the edits made under my userna...            0.0     0.0   \n",
       "1  d aww  he matches this background colour i m s...            0.0     0.0   \n",
       "2  hey man  i m really not trying to edit war  it...            0.0     0.0   \n",
       "3    more i can t make any real suggestions on im...            0.0     0.0   \n",
       "4  you  sir  are my hero  any chance you remember...            0.0     0.0   \n",
       "\n",
       "   obscene  severe_toxic  threat  toxic  \n",
       "0      0.0           0.0     0.0    0.0  \n",
       "1      0.0           0.0     0.0    0.0  \n",
       "2      0.0           0.0     0.0    0.0  \n",
       "3      0.0           0.0     0.0    0.0  \n",
       "4      0.0           0.0     0.0    0.0  "
      ]
     },
     "execution_count": 10,
     "metadata": {},
     "output_type": "execute_result"
    }
   ],
   "source": [
    "train.head()"
   ]
  },
  {
   "cell_type": "code",
   "execution_count": 11,
   "id": "594efb5a",
   "metadata": {
    "execution": {
     "iopub.execute_input": "2021-07-26T10:34:23.794794Z",
     "iopub.status.busy": "2021-07-26T10:34:23.793856Z",
     "iopub.status.idle": "2021-07-26T10:34:23.851510Z",
     "shell.execute_reply": "2021-07-26T10:34:23.851014Z"
    },
    "id": "OJG72ZHA0FAE",
    "outputId": "aab5b77b-d61e-417f-b001-86d437fa03c7",
    "papermill": {
     "duration": 0.116929,
     "end_time": "2021-07-26T10:34:23.851661",
     "exception": false,
     "start_time": "2021-07-26T10:34:23.734732",
     "status": "completed"
    },
    "tags": []
   },
   "outputs": [
    {
     "data": {
      "text/plain": [
       "0.0    0.991195\n",
       "1.0    0.008805\n",
       "Name: identity_hate, dtype: float64"
      ]
     },
     "metadata": {},
     "output_type": "display_data"
    },
    {
     "data": {
      "text/plain": [
       "0.0    0.950636\n",
       "1.0    0.049364\n",
       "Name: insult, dtype: float64"
      ]
     },
     "metadata": {},
     "output_type": "display_data"
    },
    {
     "data": {
      "text/plain": [
       "0.0    0.947052\n",
       "1.0    0.052948\n",
       "Name: obscene, dtype: float64"
      ]
     },
     "metadata": {},
     "output_type": "display_data"
    },
    {
     "data": {
      "text/plain": [
       "0.0    0.990004\n",
       "1.0    0.009996\n",
       "Name: severe_toxic, dtype: float64"
      ]
     },
     "metadata": {},
     "output_type": "display_data"
    },
    {
     "data": {
      "text/plain": [
       "0.0    0.997004\n",
       "1.0    0.002996\n",
       "Name: threat, dtype: float64"
      ]
     },
     "metadata": {},
     "output_type": "display_data"
    },
    {
     "data": {
      "text/plain": [
       "0.0    0.904156\n",
       "1.0    0.095844\n",
       "Name: toxic, dtype: float64"
      ]
     },
     "metadata": {},
     "output_type": "display_data"
    }
   ],
   "source": [
    "cols = ['identity_hate', 'insult', 'obscene', 'severe_toxic', 'threat', 'toxic']\n",
    "for col in cols:\n",
    "  display(train[col].value_counts(normalize=True))"
   ]
  },
  {
   "cell_type": "markdown",
   "id": "3f4615d0",
   "metadata": {
    "id": "eehu7ukH75AO",
    "papermill": {
     "duration": 0.056335,
     "end_time": "2021-07-26T10:34:23.963900",
     "exception": false,
     "start_time": "2021-07-26T10:34:23.907565",
     "status": "completed"
    },
    "tags": []
   },
   "source": [
    "**Conclusion:** Primary transformations were made, checked for gaps and duplicates. we observe an imbalance in the target class"
   ]
  },
  {
   "cell_type": "markdown",
   "id": "823213c2",
   "metadata": {
    "id": "t-J6hyjQ75AP",
    "papermill": {
     "duration": 0.055265,
     "end_time": "2021-07-26T10:34:24.077562",
     "exception": false,
     "start_time": "2021-07-26T10:34:24.022297",
     "status": "completed"
    },
    "tags": []
   },
   "source": [
    "We need to transform the text, get tokens, and also clear lines of characters. We will make the transformations through the function and library `nltk` and` re`"
   ]
  },
  {
   "cell_type": "code",
   "execution_count": 12,
   "id": "839c3a99",
   "metadata": {
    "execution": {
     "iopub.execute_input": "2021-07-26T10:34:24.195078Z",
     "iopub.status.busy": "2021-07-26T10:34:24.194338Z",
     "iopub.status.idle": "2021-07-26T10:34:24.197292Z",
     "shell.execute_reply": "2021-07-26T10:34:24.196656Z"
    },
    "id": "2WEGEIgLQlo9",
    "papermill": {
     "duration": 0.06479,
     "end_time": "2021-07-26T10:34:24.197439",
     "exception": false,
     "start_time": "2021-07-26T10:34:24.132649",
     "status": "completed"
    },
    "tags": []
   },
   "outputs": [],
   "source": [
    "def text_preprocessing(text):\n",
    "    tokenized = nltk.word_tokenize(text)\n",
    "    joined = ' '.join(tokenized)\n",
    "    text_only = re.sub(r'[^a-zA-Z]', ' ', joined)\n",
    "    final = ' '.join(text_only.split())\n",
    "    return final"
   ]
  },
  {
   "cell_type": "code",
   "execution_count": 13,
   "id": "9506b841",
   "metadata": {
    "execution": {
     "iopub.execute_input": "2021-07-26T10:34:24.317904Z",
     "iopub.status.busy": "2021-07-26T10:34:24.317285Z",
     "iopub.status.idle": "2021-07-26T10:35:18.251080Z",
     "shell.execute_reply": "2021-07-26T10:35:18.251756Z"
    },
    "id": "HKk-CzzDPxES",
    "outputId": "320139a8-bc99-4449-b621-c0a8519424b6",
    "papermill": {
     "duration": 53.998838,
     "end_time": "2021-07-26T10:35:18.251960",
     "exception": false,
     "start_time": "2021-07-26T10:34:24.253122",
     "status": "completed"
    },
    "tags": []
   },
   "outputs": [
    {
     "name": "stderr",
     "output_type": "stream",
     "text": [
      "100%|██████████| 159571/159571 [00:53<00:00, 2959.48it/s]\n"
     ]
    }
   ],
   "source": [
    "tqdm.pandas() \n",
    "train['token_text'] = train['comment_text'].progress_apply(text_preprocessing)"
   ]
  },
  {
   "cell_type": "markdown",
   "id": "666c1e9d",
   "metadata": {
    "id": "yO2XdUvI75AP",
    "papermill": {
     "duration": 0.173794,
     "end_time": "2021-07-26T10:35:18.602487",
     "exception": false,
     "start_time": "2021-07-26T10:35:18.428693",
     "status": "completed"
    },
    "tags": []
   },
   "source": [
    "We got tokens of words, we can continue working with the set"
   ]
  },
  {
   "cell_type": "code",
   "execution_count": 14,
   "id": "a0eae979",
   "metadata": {
    "execution": {
     "iopub.execute_input": "2021-07-26T10:35:18.953749Z",
     "iopub.status.busy": "2021-07-26T10:35:18.953204Z",
     "iopub.status.idle": "2021-07-26T10:35:18.957109Z",
     "shell.execute_reply": "2021-07-26T10:35:18.957566Z"
    },
    "id": "4Fzp5rb9VU-K",
    "papermill": {
     "duration": 0.181446,
     "end_time": "2021-07-26T10:35:18.957743",
     "exception": false,
     "start_time": "2021-07-26T10:35:18.776297",
     "status": "completed"
    },
    "tags": []
   },
   "outputs": [],
   "source": [
    "corpus_lemm = train['token_text']"
   ]
  },
  {
   "cell_type": "code",
   "execution_count": 15,
   "id": "6a725b8a",
   "metadata": {
    "execution": {
     "iopub.execute_input": "2021-07-26T10:35:19.316945Z",
     "iopub.status.busy": "2021-07-26T10:35:19.316250Z",
     "iopub.status.idle": "2021-07-26T10:35:19.321320Z",
     "shell.execute_reply": "2021-07-26T10:35:19.321767Z"
    },
    "id": "v1fFoUTW3m7X",
    "outputId": "1d8c4ce6-5c9f-4fc7-9565-f5c5a2957a7c",
    "papermill": {
     "duration": 0.187371,
     "end_time": "2021-07-26T10:35:19.321958",
     "exception": false,
     "start_time": "2021-07-26T10:35:19.134587",
     "status": "completed"
    },
    "tags": []
   },
   "outputs": [
    {
     "data": {
      "text/plain": [
       "'explanation why the edits made under my username hardcore metallica fan were reverted they weren t vandalisms just closure on some gas after i voted at new york dolls fac and please don t remove the template from the talk page since i m retired now'"
      ]
     },
     "execution_count": 15,
     "metadata": {},
     "output_type": "execute_result"
    }
   ],
   "source": [
    "corpus_lemm[0]"
   ]
  },
  {
   "cell_type": "markdown",
   "id": "a996fbd5",
   "metadata": {
    "id": "e6UytlON75AQ",
    "papermill": {
     "duration": 0.174704,
     "end_time": "2021-07-26T10:35:19.673442",
     "exception": false,
     "start_time": "2021-07-26T10:35:19.498738",
     "status": "completed"
    },
    "tags": []
   },
   "source": [
    "Received a body for further processing"
   ]
  },
  {
   "cell_type": "code",
   "execution_count": 16,
   "id": "28e7772d",
   "metadata": {
    "execution": {
     "iopub.execute_input": "2021-07-26T10:35:20.098094Z",
     "iopub.status.busy": "2021-07-26T10:35:20.097353Z",
     "iopub.status.idle": "2021-07-26T10:35:20.769188Z",
     "shell.execute_reply": "2021-07-26T10:35:20.769684Z"
    },
    "id": "vnVbv8A-YnWt",
    "outputId": "af80731f-61aa-41a5-f8d1-a23ee484c9b8",
    "papermill": {
     "duration": 0.92165,
     "end_time": "2021-07-26T10:35:20.769872",
     "exception": false,
     "start_time": "2021-07-26T10:35:19.848222",
     "status": "completed"
    },
    "tags": []
   },
   "outputs": [
    {
     "data": {
      "image/png": "[encoded data removed]",
      "text/plain": [
       "<Figure size 630x420 with 1 Axes>"
      ]
     },
     "metadata": {},
     "output_type": "display_data"
    }
   ],
   "source": [
    "x, y = np.ogrid[:300, :300]\n",
    "\n",
    "mask = (x - 150) ** 2 + (y - 150) ** 2 > 150 ** 2\n",
    "mask = 255 * mask.astype(int)\n",
    "\n",
    "wc = WordCloud(background_color=\"white\", \n",
    "               random_state=42, mask=mask, repeat=True,\n",
    "               stopwords=stopwords).generate(corpus_lemm[0])\n",
    "\n",
    "plt.figure(figsize=(15, 10), dpi=42)\n",
    "plt.imshow(wc, interpolation='bilinear')\n",
    "plt.axis(\"off\")\n",
    "plt.show()"
   ]
  },
  {
   "cell_type": "markdown",
   "id": "9f5586eb",
   "metadata": {
    "id": "z9I5szAM75AR",
    "papermill": {
     "duration": 0.181843,
     "end_time": "2021-07-26T10:35:21.133950",
     "exception": false,
     "start_time": "2021-07-26T10:35:20.952107",
     "status": "completed"
    },
    "tags": []
   },
   "source": [
    "**Conclusion:** Transformed the dataset and got word lemmas. In the word cloud, the most common words are explanation, dolls, edits - let's try to train the models to predict the toxicity of the text.\n",
    "\n",
    "We going to use an Random Forest and SGD classifier, and we will also use the Word2vec class of BERT models to obtain and predict embeddings - perhaps we will be able to improve the results of the basic models\n",
    "\n",
    "To speed up the BERT learning process, only a part of the dataset will be transmitted, which should have a definite effect on the result. Also we will use only toxic target"
   ]
  },
  {
   "cell_type": "markdown",
   "id": "de77a047",
   "metadata": {
    "id": "R8Zjje-k75AR",
    "papermill": {
     "duration": 0.178139,
     "end_time": "2021-07-26T10:35:21.491895",
     "exception": false,
     "start_time": "2021-07-26T10:35:21.313756",
     "status": "completed"
    },
    "tags": []
   },
   "source": [
    "## Model training"
   ]
  },
  {
   "cell_type": "markdown",
   "id": "e2546fd5",
   "metadata": {
    "id": "tG-viHtA75AS",
    "papermill": {
     "duration": 0.178721,
     "end_time": "2021-07-26T10:35:21.848841",
     "exception": false,
     "start_time": "2021-07-26T10:35:21.670120",
     "status": "completed"
    },
    "tags": []
   },
   "source": [
    "there is a strong class imbalance. Let's try to go in two ways:\n",
    "\n",
    "- train the model on the network using **downsampling**\n",
    "- train the model with the parameter **class_weight = 'balanced'**"
   ]
  },
  {
   "cell_type": "markdown",
   "id": "fe9767dc",
   "metadata": {
    "id": "xbViK1Tz75AS",
    "papermill": {
     "duration": 0.180818,
     "end_time": "2021-07-26T10:35:22.209928",
     "exception": false,
     "start_time": "2021-07-26T10:35:22.029110",
     "status": "completed"
    },
    "tags": []
   },
   "source": [
    "### Preparing characteristics"
   ]
  },
  {
   "cell_type": "markdown",
   "id": "0ba6e927",
   "metadata": {
    "id": "HFv9LQda75AS",
    "papermill": {
     "duration": 0.179082,
     "end_time": "2021-07-26T10:35:22.569251",
     "exception": false,
     "start_time": "2021-07-26T10:35:22.390169",
     "status": "completed"
    },
    "tags": []
   },
   "source": [
    "\n",
    "Let's select from the set date the target feature and the training feature - the text"
   ]
  },
  {
   "cell_type": "code",
   "execution_count": 17,
   "id": "d77d0b5a",
   "metadata": {
    "execution": {
     "iopub.execute_input": "2021-07-26T10:35:22.948664Z",
     "iopub.status.busy": "2021-07-26T10:35:22.947943Z",
     "iopub.status.idle": "2021-07-26T10:35:22.950659Z",
     "shell.execute_reply": "2021-07-26T10:35:22.951135Z"
    },
    "papermill": {
     "duration": 0.200147,
     "end_time": "2021-07-26T10:35:22.951320",
     "exception": false,
     "start_time": "2021-07-26T10:35:22.751173",
     "status": "completed"
    },
    "tags": []
   },
   "outputs": [
    {
     "data": {
      "text/html": [
       "<div>\n",
       "<style scoped>\n",
       "    .dataframe tbody tr th:only-of-type {\n",
       "        vertical-align: middle;\n",
       "    }\n",
       "\n",
       "    .dataframe tbody tr th {\n",
       "        vertical-align: top;\n",
       "    }\n",
       "\n",
       "    .dataframe thead th {\n",
       "        text-align: right;\n",
       "    }\n",
       "</style>\n",
       "<table border=\"1\" class=\"dataframe\">\n",
       "  <thead>\n",
       "    <tr style=\"text-align: right;\">\n",
       "      <th></th>\n",
       "      <th>comment_text</th>\n",
       "      <th>identity_hate</th>\n",
       "      <th>insult</th>\n",
       "      <th>obscene</th>\n",
       "      <th>severe_toxic</th>\n",
       "      <th>threat</th>\n",
       "      <th>toxic</th>\n",
       "      <th>token_text</th>\n",
       "    </tr>\n",
       "  </thead>\n",
       "  <tbody>\n",
       "    <tr>\n",
       "      <th>0</th>\n",
       "      <td>explanation why the edits made under my userna...</td>\n",
       "      <td>0.0</td>\n",
       "      <td>0.0</td>\n",
       "      <td>0.0</td>\n",
       "      <td>0.0</td>\n",
       "      <td>0.0</td>\n",
       "      <td>0.0</td>\n",
       "      <td>explanation why the edits made under my userna...</td>\n",
       "    </tr>\n",
       "    <tr>\n",
       "      <th>1</th>\n",
       "      <td>d aww  he matches this background colour i m s...</td>\n",
       "      <td>0.0</td>\n",
       "      <td>0.0</td>\n",
       "      <td>0.0</td>\n",
       "      <td>0.0</td>\n",
       "      <td>0.0</td>\n",
       "      <td>0.0</td>\n",
       "      <td>d aww he matches this background colour i m se...</td>\n",
       "    </tr>\n",
       "    <tr>\n",
       "      <th>2</th>\n",
       "      <td>hey man  i m really not trying to edit war  it...</td>\n",
       "      <td>0.0</td>\n",
       "      <td>0.0</td>\n",
       "      <td>0.0</td>\n",
       "      <td>0.0</td>\n",
       "      <td>0.0</td>\n",
       "      <td>0.0</td>\n",
       "      <td>hey man i m really not trying to edit war it s...</td>\n",
       "    </tr>\n",
       "    <tr>\n",
       "      <th>3</th>\n",
       "      <td>more i can t make any real suggestions on im...</td>\n",
       "      <td>0.0</td>\n",
       "      <td>0.0</td>\n",
       "      <td>0.0</td>\n",
       "      <td>0.0</td>\n",
       "      <td>0.0</td>\n",
       "      <td>0.0</td>\n",
       "      <td>more i can t make any real suggestions on impr...</td>\n",
       "    </tr>\n",
       "    <tr>\n",
       "      <th>4</th>\n",
       "      <td>you  sir  are my hero  any chance you remember...</td>\n",
       "      <td>0.0</td>\n",
       "      <td>0.0</td>\n",
       "      <td>0.0</td>\n",
       "      <td>0.0</td>\n",
       "      <td>0.0</td>\n",
       "      <td>0.0</td>\n",
       "      <td>you sir are my hero any chance you remember wh...</td>\n",
       "    </tr>\n",
       "  </tbody>\n",
       "</table>\n",
       "</div>"
      ],
      "text/plain": [
       "                                        comment_text  identity_hate  insult  \\\n",
       "0  explanation why the edits made under my userna...            0.0     0.0   \n",
       "1  d aww  he matches this background colour i m s...            0.0     0.0   \n",
       "2  hey man  i m really not trying to edit war  it...            0.0     0.0   \n",
       "3    more i can t make any real suggestions on im...            0.0     0.0   \n",
       "4  you  sir  are my hero  any chance you remember...            0.0     0.0   \n",
       "\n",
       "   obscene  severe_toxic  threat  toxic  \\\n",
       "0      0.0           0.0     0.0    0.0   \n",
       "1      0.0           0.0     0.0    0.0   \n",
       "2      0.0           0.0     0.0    0.0   \n",
       "3      0.0           0.0     0.0    0.0   \n",
       "4      0.0           0.0     0.0    0.0   \n",
       "\n",
       "                                          token_text  \n",
       "0  explanation why the edits made under my userna...  \n",
       "1  d aww he matches this background colour i m se...  \n",
       "2  hey man i m really not trying to edit war it s...  \n",
       "3  more i can t make any real suggestions on impr...  \n",
       "4  you sir are my hero any chance you remember wh...  "
      ]
     },
     "execution_count": 17,
     "metadata": {},
     "output_type": "execute_result"
    }
   ],
   "source": [
    "train.head()"
   ]
  },
  {
   "cell_type": "code",
   "execution_count": 18,
   "id": "a22727cc",
   "metadata": {
    "execution": {
     "iopub.execute_input": "2021-07-26T10:35:23.318065Z",
     "iopub.status.busy": "2021-07-26T10:35:23.317420Z",
     "iopub.status.idle": "2021-07-26T10:35:23.321242Z",
     "shell.execute_reply": "2021-07-26T10:35:23.321936Z"
    },
    "id": "MPS77C2z3RtM",
    "papermill": {
     "duration": 0.188288,
     "end_time": "2021-07-26T10:35:23.322186",
     "exception": false,
     "start_time": "2021-07-26T10:35:23.133898",
     "status": "completed"
    },
    "tags": []
   },
   "outputs": [],
   "source": [
    "features = train['token_text']\n",
    "target = train['toxic']"
   ]
  },
  {
   "cell_type": "markdown",
   "id": "4f733ee7",
   "metadata": {
    "id": "g7QekrSr75AS",
    "papermill": {
     "duration": 0.179342,
     "end_time": "2021-07-26T10:35:23.682307",
     "exception": false,
     "start_time": "2021-07-26T10:35:23.502965",
     "status": "completed"
    },
    "tags": []
   },
   "source": [
    "Divide our sample, denote the test size as 25%"
   ]
  },
  {
   "cell_type": "code",
   "execution_count": 19,
   "id": "74bc2c06",
   "metadata": {
    "execution": {
     "iopub.execute_input": "2021-07-26T10:35:24.047618Z",
     "iopub.status.busy": "2021-07-26T10:35:24.047056Z",
     "iopub.status.idle": "2021-07-26T10:35:24.089179Z",
     "shell.execute_reply": "2021-07-26T10:35:24.089721Z"
    },
    "id": "zQLb1IO875AS",
    "papermill": {
     "duration": 0.22621,
     "end_time": "2021-07-26T10:35:24.089940",
     "exception": false,
     "start_time": "2021-07-26T10:35:23.863730",
     "status": "completed"
    },
    "tags": []
   },
   "outputs": [],
   "source": [
    "features_train, features_test, target_train, target_test = train_test_split(\n",
    "    features, target, test_size=0.25, random_state=42)"
   ]
  },
  {
   "cell_type": "markdown",
   "id": "c0fdd98b",
   "metadata": {
    "id": "tP9ljJ2o75AS",
    "papermill": {
     "duration": 0.179538,
     "end_time": "2021-07-26T10:35:24.450330",
     "exception": false,
     "start_time": "2021-07-26T10:35:24.270792",
     "status": "completed"
    },
    "tags": []
   },
   "source": [
    "Let's write a function that allows you to achieve a balance of the class, through downsampling"
   ]
  },
  {
   "cell_type": "code",
   "execution_count": 20,
   "id": "42c42983",
   "metadata": {
    "execution": {
     "iopub.execute_input": "2021-07-26T10:35:24.816064Z",
     "iopub.status.busy": "2021-07-26T10:35:24.815426Z",
     "iopub.status.idle": "2021-07-26T10:35:24.821292Z",
     "shell.execute_reply": "2021-07-26T10:35:24.821860Z"
    },
    "id": "6Ye3NjeV28lK",
    "papermill": {
     "duration": 0.190845,
     "end_time": "2021-07-26T10:35:24.822084",
     "exception": false,
     "start_time": "2021-07-26T10:35:24.631239",
     "status": "completed"
    },
    "tags": []
   },
   "outputs": [],
   "source": [
    "def downsample(features, target, fraction):\n",
    "    features_zeros = features[target == 0]\n",
    "    features_ones = features[target == 1]\n",
    "    target_zeros = target[target == 0]\n",
    "    target_ones = target[target == 1]\n",
    "\n",
    "    features_sample = features_zeros.sample(frac=0.1, random_state=42)\n",
    "    target_sample = target_zeros.sample(frac=0.1, random_state=42)\n",
    "    \n",
    "    features_downsampled = pd.concat([features_sample] + [features_ones])\n",
    "    target_downsampled = pd.concat([target_sample] + [target_ones])\n",
    "    \n",
    "    features_downsampled = shuffle(features_downsampled, random_state=42)\n",
    "    target_downsampled = shuffle(target_downsampled, random_state=42)\n",
    "    \n",
    "    return features_downsampled, target_downsampled"
   ]
  },
  {
   "cell_type": "markdown",
   "id": "31776556",
   "metadata": {
    "id": "fViK2yED75AT",
    "papermill": {
     "duration": 0.184713,
     "end_time": "2021-07-26T10:35:25.188971",
     "exception": false,
     "start_time": "2021-07-26T10:35:25.004258",
     "status": "completed"
    },
    "tags": []
   },
   "source": [
    "We will receive new sets"
   ]
  },
  {
   "cell_type": "code",
   "execution_count": 21,
   "id": "01b72844",
   "metadata": {
    "execution": {
     "iopub.execute_input": "2021-07-26T10:35:25.550508Z",
     "iopub.status.busy": "2021-07-26T10:35:25.549741Z",
     "iopub.status.idle": "2021-07-26T10:35:25.591653Z",
     "shell.execute_reply": "2021-07-26T10:35:25.592605Z"
    },
    "id": "LmxocO7075AT",
    "papermill": {
     "duration": 0.2249,
     "end_time": "2021-07-26T10:35:25.592867",
     "exception": false,
     "start_time": "2021-07-26T10:35:25.367967",
     "status": "completed"
    },
    "tags": []
   },
   "outputs": [
    {
     "name": "stdout",
     "output_type": "stream",
     "text": [
      "(22299,)\n",
      "(22299,)\n"
     ]
    }
   ],
   "source": [
    "features_downsampled, target_downsampled = downsample(features_train, target_train, 0.1)\n",
    "\n",
    "print(features_downsampled.shape)\n",
    "print(target_downsampled.shape)"
   ]
  },
  {
   "cell_type": "code",
   "execution_count": 22,
   "id": "cb9e4e52",
   "metadata": {
    "execution": {
     "iopub.execute_input": "2021-07-26T10:35:25.991269Z",
     "iopub.status.busy": "2021-07-26T10:35:25.990573Z",
     "iopub.status.idle": "2021-07-26T10:35:25.997844Z",
     "shell.execute_reply": "2021-07-26T10:35:25.998313Z"
    },
    "id": "nIycaavL3ki0",
    "papermill": {
     "duration": 0.224549,
     "end_time": "2021-07-26T10:35:25.998493",
     "exception": false,
     "start_time": "2021-07-26T10:35:25.773944",
     "status": "completed"
    },
    "tags": []
   },
   "outputs": [
    {
     "data": {
      "text/plain": [
       "1.0    0.514776\n",
       "0.0    0.485224\n",
       "Name: toxic, dtype: float64"
      ]
     },
     "execution_count": 22,
     "metadata": {},
     "output_type": "execute_result"
    }
   ],
   "source": [
    "target_downsampled.value_counts(normalize=True)"
   ]
  },
  {
   "cell_type": "markdown",
   "id": "6a55433e",
   "metadata": {
    "id": "H_ud_lkU75AT",
    "papermill": {
     "duration": 0.181263,
     "end_time": "2021-07-26T10:35:26.361380",
     "exception": false,
     "start_time": "2021-07-26T10:35:26.180117",
     "status": "completed"
    },
    "tags": []
   },
   "source": [
    "The imbalance is insignificant, with such a set, you can try to train the model. First, let's get the TD-IDF measure for the new set."
   ]
  },
  {
   "cell_type": "code",
   "execution_count": 23,
   "id": "586bdbc1",
   "metadata": {
    "execution": {
     "iopub.execute_input": "2021-07-26T10:35:26.737261Z",
     "iopub.status.busy": "2021-07-26T10:35:26.731873Z",
     "iopub.status.idle": "2021-07-26T10:35:27.872696Z",
     "shell.execute_reply": "2021-07-26T10:35:27.871921Z"
    },
    "id": "yRhVwfSL4hXI",
    "papermill": {
     "duration": 1.330261,
     "end_time": "2021-07-26T10:35:27.872913",
     "exception": false,
     "start_time": "2021-07-26T10:35:26.542652",
     "status": "completed"
    },
    "tags": []
   },
   "outputs": [
    {
     "name": "stdout",
     "output_type": "stream",
     "text": [
      "Learning Matrix Size: (22299, 48434)\n"
     ]
    }
   ],
   "source": [
    "count_tf_idf = TfidfVectorizer(stop_words=stopwords)\n",
    "tf_idf = count_tf_idf.fit_transform(features_downsampled)\n",
    "\n",
    "print(\"Learning Matrix Size:\", tf_idf.shape)"
   ]
  },
  {
   "cell_type": "code",
   "execution_count": 24,
   "id": "092dad46",
   "metadata": {
    "execution": {
     "iopub.execute_input": "2021-07-26T10:35:28.243863Z",
     "iopub.status.busy": "2021-07-26T10:35:28.242850Z",
     "iopub.status.idle": "2021-07-26T10:35:28.246043Z",
     "shell.execute_reply": "2021-07-26T10:35:28.245425Z"
    },
    "id": "2k_6e8jj75AT",
    "papermill": {
     "duration": 0.192475,
     "end_time": "2021-07-26T10:35:28.246200",
     "exception": false,
     "start_time": "2021-07-26T10:35:28.053725",
     "status": "completed"
    },
    "tags": []
   },
   "outputs": [],
   "source": [
    "model_name = []\n",
    "fscore = []"
   ]
  },
  {
   "cell_type": "markdown",
   "id": "8917d387",
   "metadata": {
    "id": "jQcOR6qw75AT",
    "papermill": {
     "duration": 0.18107,
     "end_time": "2021-07-26T10:35:28.607772",
     "exception": false,
     "start_time": "2021-07-26T10:35:28.426702",
     "status": "completed"
    },
    "tags": []
   },
   "source": [
    "### Training a random forest with downsampling"
   ]
  },
  {
   "cell_type": "markdown",
   "id": "179219f0",
   "metadata": {
    "id": "QKNJvEI775AT",
    "papermill": {
     "duration": 0.181352,
     "end_time": "2021-07-26T10:35:28.970428",
     "exception": false,
     "start_time": "2021-07-26T10:35:28.789076",
     "status": "completed"
    },
    "tags": []
   },
   "source": [
    "\n",
    "Train an ensemble of models using the downsampling technique"
   ]
  },
  {
   "cell_type": "code",
   "execution_count": 25,
   "id": "7458de00",
   "metadata": {
    "execution": {
     "iopub.execute_input": "2021-07-26T10:35:29.341422Z",
     "iopub.status.busy": "2021-07-26T10:35:29.340750Z",
     "iopub.status.idle": "2021-07-26T10:35:29.343849Z",
     "shell.execute_reply": "2021-07-26T10:35:29.343385Z"
    },
    "id": "PhUuCQWg4zbz",
    "papermill": {
     "duration": 0.189429,
     "end_time": "2021-07-26T10:35:29.344013",
     "exception": false,
     "start_time": "2021-07-26T10:35:29.154584",
     "status": "completed"
    },
    "tags": []
   },
   "outputs": [],
   "source": [
    "X_train_ans = tf_idf\n",
    "y_train_ans = target_downsampled"
   ]
  },
  {
   "cell_type": "code",
   "execution_count": 26,
   "id": "daa355e6",
   "metadata": {
    "execution": {
     "iopub.execute_input": "2021-07-26T10:35:29.737074Z",
     "iopub.status.busy": "2021-07-26T10:35:29.736380Z",
     "iopub.status.idle": "2021-07-26T10:35:37.760639Z",
     "shell.execute_reply": "2021-07-26T10:35:37.761309Z"
    },
    "id": "R_iiOfls4nnY",
    "papermill": {
     "duration": 8.238982,
     "end_time": "2021-07-26T10:35:37.761583",
     "exception": false,
     "start_time": "2021-07-26T10:35:29.522601",
     "status": "completed"
    },
    "tags": []
   },
   "outputs": [
    {
     "name": "stdout",
     "output_type": "stream",
     "text": [
      "0.6455312702878165\n",
      "CPU times: user 8.02 s, sys: 17.1 ms, total: 8.04 s\n",
      "Wall time: 8.05 s\n"
     ]
    }
   ],
   "source": [
    "%%time\n",
    "\n",
    "rnd_clf = RandomForestClassifier(n_estimators=10, random_state=42)\n",
    "\n",
    "\n",
    "\n",
    "X_test_ans = count_tf_idf.transform(features_test)\n",
    "\n",
    "rnd_clf.fit(X_train_ans, y_train_ans)\n",
    "predict = rnd_clf.predict(X_test_ans)\n",
    "f_score = f1_score(predict, target_test)\n",
    "\n",
    "print('{}'.format(f_score))"
   ]
  },
  {
   "cell_type": "markdown",
   "id": "7654d0dc",
   "metadata": {
    "id": "G5XOiM8j75AU",
    "papermill": {
     "duration": 0.18505,
     "end_time": "2021-07-26T10:35:38.131301",
     "exception": false,
     "start_time": "2021-07-26T10:35:37.946251",
     "status": "completed"
    },
    "tags": []
   },
   "source": [
    "F1 measure is not good, the model converges poorly on the test - let's try learning without downsampling with class balance and SGD\n"
   ]
  },
  {
   "cell_type": "code",
   "execution_count": 27,
   "id": "9dc12b36",
   "metadata": {
    "execution": {
     "iopub.execute_input": "2021-07-26T10:35:38.505231Z",
     "iopub.status.busy": "2021-07-26T10:35:38.504571Z",
     "iopub.status.idle": "2021-07-26T10:35:38.507358Z",
     "shell.execute_reply": "2021-07-26T10:35:38.506829Z"
    },
    "id": "geeZRRgM75AU",
    "papermill": {
     "duration": 0.191103,
     "end_time": "2021-07-26T10:35:38.507501",
     "exception": false,
     "start_time": "2021-07-26T10:35:38.316398",
     "status": "completed"
    },
    "tags": []
   },
   "outputs": [],
   "source": [
    "model_name.append(str(rnd_clf.__class__.__name__)+str(' ')+str('downsampling)'))\n",
    "fscore.append(round(f_score, 2))"
   ]
  },
  {
   "cell_type": "markdown",
   "id": "d00e9e29",
   "metadata": {
    "id": "GZCu9ecGA7T7",
    "papermill": {
     "duration": 0.179713,
     "end_time": "2021-07-26T10:35:38.866810",
     "exception": false,
     "start_time": "2021-07-26T10:35:38.687097",
     "status": "completed"
    },
    "tags": []
   },
   "source": [
    "### Training a random forest without downsampling"
   ]
  },
  {
   "cell_type": "markdown",
   "id": "f4276df7",
   "metadata": {
    "id": "R63Gm_HI75AU",
    "papermill": {
     "duration": 0.184516,
     "end_time": "2021-07-26T10:35:39.232519",
     "exception": false,
     "start_time": "2021-07-26T10:35:39.048003",
     "status": "completed"
    },
    "tags": []
   },
   "source": [
    "Let's train a model based on the same ensemble, but instead of a balanced set, we use the basic lemmatized one and set the class weight as balanced "
   ]
  },
  {
   "cell_type": "code",
   "execution_count": 28,
   "id": "32c45bc0",
   "metadata": {
    "execution": {
     "iopub.execute_input": "2021-07-26T10:35:39.622380Z",
     "iopub.status.busy": "2021-07-26T10:35:39.617041Z",
     "iopub.status.idle": "2021-07-26T10:35:46.381306Z",
     "shell.execute_reply": "2021-07-26T10:35:46.381783Z"
    },
    "id": "p8dQ-Zmq75AU",
    "papermill": {
     "duration": 6.969179,
     "end_time": "2021-07-26T10:35:46.382019",
     "exception": false,
     "start_time": "2021-07-26T10:35:39.412840",
     "status": "completed"
    },
    "tags": []
   },
   "outputs": [],
   "source": [
    "count_tf = TfidfVectorizer(stop_words=stopwords)\n",
    "tf_idf_new = count_tf.fit_transform(features_train)"
   ]
  },
  {
   "cell_type": "code",
   "execution_count": 29,
   "id": "97ef8b06",
   "metadata": {
    "execution": {
     "iopub.execute_input": "2021-07-26T10:35:46.750540Z",
     "iopub.status.busy": "2021-07-26T10:35:46.749805Z",
     "iopub.status.idle": "2021-07-26T10:51:30.185109Z",
     "shell.execute_reply": "2021-07-26T10:51:30.185814Z"
    },
    "id": "pfx3oeqSBYHU",
    "papermill": {
     "duration": 943.621901,
     "end_time": "2021-07-26T10:51:30.186080",
     "exception": false,
     "start_time": "2021-07-26T10:35:46.564179",
     "status": "completed"
    },
    "tags": []
   },
   "outputs": [
    {
     "name": "stdout",
     "output_type": "stream",
     "text": [
      "CPU times: user 15min 42s, sys: 800 ms, total: 15min 43s\n",
      "Wall time: 15min 43s\n"
     ]
    }
   ],
   "source": [
    "%%time\n",
    "X_train = tf_idf_new\n",
    "y_train = target_train\n",
    "\n",
    "X_test = count_tf.transform(features_test)\n",
    "\n",
    "\n",
    "rnd_clf = RandomForestClassifier(n_estimators=100, random_state=42, \n",
    "                            class_weight='balanced')\n",
    "\n",
    "\n",
    "\n",
    "rnd_clf.fit(X_train, y_train)\n",
    "predict_new = rnd_clf.predict(X_test)"
   ]
  },
  {
   "cell_type": "code",
   "execution_count": 30,
   "id": "7117180e",
   "metadata": {
    "execution": {
     "iopub.execute_input": "2021-07-26T10:51:30.618030Z",
     "iopub.status.busy": "2021-07-26T10:51:30.617103Z",
     "iopub.status.idle": "2021-07-26T10:51:30.644395Z",
     "shell.execute_reply": "2021-07-26T10:51:30.645031Z"
    },
    "id": "qvnnTLQzIeUr",
    "papermill": {
     "duration": 0.214238,
     "end_time": "2021-07-26T10:51:30.645286",
     "exception": false,
     "start_time": "2021-07-26T10:51:30.431048",
     "status": "completed"
    },
    "tags": []
   },
   "outputs": [
    {
     "name": "stdout",
     "output_type": "stream",
     "text": [
      "0.6771180787191462\n"
     ]
    }
   ],
   "source": [
    "f_score = f1_score(predict_new, target_test)\n",
    "print(f_score)"
   ]
  },
  {
   "cell_type": "markdown",
   "id": "65dd06d4",
   "metadata": {
    "id": "Rw7x_5zV75AU",
    "papermill": {
     "duration": 0.180092,
     "end_time": "2021-07-26T10:51:31.007752",
     "exception": false,
     "start_time": "2021-07-26T10:51:30.827660",
     "status": "completed"
    },
    "tags": []
   },
   "source": [
    "\n",
    "With this approach, it was possible to increase the F1 measure"
   ]
  },
  {
   "cell_type": "code",
   "execution_count": 31,
   "id": "5b3f87fa",
   "metadata": {
    "execution": {
     "iopub.execute_input": "2021-07-26T10:51:31.373594Z",
     "iopub.status.busy": "2021-07-26T10:51:31.372955Z",
     "iopub.status.idle": "2021-07-26T10:51:31.374900Z",
     "shell.execute_reply": "2021-07-26T10:51:31.375407Z"
    },
    "id": "R3CYcgTS75AU",
    "papermill": {
     "duration": 0.186399,
     "end_time": "2021-07-26T10:51:31.375592",
     "exception": false,
     "start_time": "2021-07-26T10:51:31.189193",
     "status": "completed"
    },
    "tags": []
   },
   "outputs": [],
   "source": [
    "model_name.append(str(rnd_clf.__class__.__name__)+str(' ')+str('class_weight balanced'))\n",
    "fscore.append(round(f_score, 2))"
   ]
  },
  {
   "cell_type": "markdown",
   "id": "d73fa71e",
   "metadata": {
    "id": "8IpXZhrsItBF",
    "papermill": {
     "duration": 0.179068,
     "end_time": "2021-07-26T10:51:31.735453",
     "exception": false,
     "start_time": "2021-07-26T10:51:31.556385",
     "status": "completed"
    },
    "tags": []
   },
   "source": [
    "### Train SGD model without downsampling"
   ]
  },
  {
   "cell_type": "markdown",
   "id": "a9edeea1",
   "metadata": {
    "id": "_APhmliP75AU",
    "papermill": {
     "duration": 0.185878,
     "end_time": "2021-07-26T10:51:32.105473",
     "exception": false,
     "start_time": "2021-07-26T10:51:31.919595",
     "status": "completed"
    },
    "tags": []
   },
   "source": [
    "Let's try the stochastic gradient descent model separately, without downsampling."
   ]
  },
  {
   "cell_type": "code",
   "execution_count": 32,
   "id": "3d399924",
   "metadata": {
    "execution": {
     "iopub.execute_input": "2021-07-26T10:51:32.493316Z",
     "iopub.status.busy": "2021-07-26T10:51:32.471429Z",
     "iopub.status.idle": "2021-07-26T10:51:33.613488Z",
     "shell.execute_reply": "2021-07-26T10:51:33.612775Z"
    },
    "id": "LIZDKPqNDxCJ",
    "papermill": {
     "duration": 1.325004,
     "end_time": "2021-07-26T10:51:33.613646",
     "exception": false,
     "start_time": "2021-07-26T10:51:32.288642",
     "status": "completed"
    },
    "tags": []
   },
   "outputs": [
    {
     "name": "stdout",
     "output_type": "stream",
     "text": [
      "Matrix size: (22299, 48434)\n"
     ]
    }
   ],
   "source": [
    "count_tf_idf = TfidfVectorizer(stop_words=stopwords)\n",
    "tf_idf = count_tf_idf.fit_transform(features_downsampled)\n",
    "\n",
    "print(\"Matrix size:\", tf_idf.shape)"
   ]
  },
  {
   "cell_type": "code",
   "execution_count": 33,
   "id": "7199c055",
   "metadata": {
    "execution": {
     "iopub.execute_input": "2021-07-26T10:51:34.024029Z",
     "iopub.status.busy": "2021-07-26T10:51:34.023408Z",
     "iopub.status.idle": "2021-07-26T10:51:34.026669Z",
     "shell.execute_reply": "2021-07-26T10:51:34.026087Z"
    },
    "id": "wM2wK4MoDxCN",
    "papermill": {
     "duration": 0.225726,
     "end_time": "2021-07-26T10:51:34.026809",
     "exception": false,
     "start_time": "2021-07-26T10:51:33.801083",
     "status": "completed"
    },
    "tags": []
   },
   "outputs": [],
   "source": [
    "X_train = tf_idf\n",
    "y_train = target_downsampled"
   ]
  },
  {
   "cell_type": "code",
   "execution_count": 34,
   "id": "1cf13a30",
   "metadata": {
    "execution": {
     "iopub.execute_input": "2021-07-26T10:51:34.395087Z",
     "iopub.status.busy": "2021-07-26T10:51:34.394458Z",
     "iopub.status.idle": "2021-07-26T10:51:34.397909Z",
     "shell.execute_reply": "2021-07-26T10:51:34.398317Z"
    },
    "id": "sO6LJj0hECQE",
    "papermill": {
     "duration": 0.188203,
     "end_time": "2021-07-26T10:51:34.398498",
     "exception": false,
     "start_time": "2021-07-26T10:51:34.210295",
     "status": "completed"
    },
    "tags": []
   },
   "outputs": [],
   "source": [
    "sgb_clf = SGDClassifier(l1_ratio=0.1, random_state=42,\n",
    "                            class_weight='balanced')"
   ]
  },
  {
   "cell_type": "code",
   "execution_count": 35,
   "id": "9e095851",
   "metadata": {
    "execution": {
     "iopub.execute_input": "2021-07-26T10:51:34.765899Z",
     "iopub.status.busy": "2021-07-26T10:51:34.765279Z",
     "iopub.status.idle": "2021-07-26T10:51:36.834674Z",
     "shell.execute_reply": "2021-07-26T10:51:36.835146Z"
    },
    "id": "Q9Mg6BDEEErl",
    "papermill": {
     "duration": 2.253102,
     "end_time": "2021-07-26T10:51:36.835347",
     "exception": false,
     "start_time": "2021-07-26T10:51:34.582245",
     "status": "completed"
    },
    "tags": []
   },
   "outputs": [
    {
     "name": "stdout",
     "output_type": "stream",
     "text": [
      "0.6771180787191462\n",
      "CPU times: user 2.03 s, sys: 5 ms, total: 2.04 s\n",
      "Wall time: 2.06 s\n"
     ]
    }
   ],
   "source": [
    "%%time\n",
    "sgb_clf.fit(X_train, y_train)\n",
    "\n",
    "X_test = count_tf_idf.transform(features_test)\n",
    "\n",
    "predict = sgb_clf.predict(X_test)\n",
    "f_score = f1_score(predict_new, target_test)\n",
    "print(f_score)"
   ]
  },
  {
   "cell_type": "markdown",
   "id": "cec6a368",
   "metadata": {
    "id": "3Cp7Lw1P75AV",
    "papermill": {
     "duration": 0.183073,
     "end_time": "2021-07-26T10:51:37.203003",
     "exception": false,
     "start_time": "2021-07-26T10:51:37.019930",
     "status": "completed"
    },
    "tags": []
   },
   "source": [
    "The result is also satisfactory, but it should be noted that the learning rate is much higher and, accordingly, it is more optimal to use this model for our purposes."
   ]
  },
  {
   "cell_type": "code",
   "execution_count": 36,
   "id": "12836e6c",
   "metadata": {
    "execution": {
     "iopub.execute_input": "2021-07-26T10:51:37.574302Z",
     "iopub.status.busy": "2021-07-26T10:51:37.573324Z",
     "iopub.status.idle": "2021-07-26T10:51:37.575535Z",
     "shell.execute_reply": "2021-07-26T10:51:37.575959Z"
    },
    "id": "9oEEngY575AV",
    "papermill": {
     "duration": 0.191084,
     "end_time": "2021-07-26T10:51:37.576173",
     "exception": false,
     "start_time": "2021-07-26T10:51:37.385089",
     "status": "completed"
    },
    "tags": []
   },
   "outputs": [],
   "source": [
    "model_name.append(str(sgb_clf.__class__.__name__)+str(' ')+str('class_weight balanced'))\n",
    "fscore.append(round(f_score, 2))"
   ]
  },
  {
   "cell_type": "markdown",
   "id": "c2136e13",
   "metadata": {
    "id": "fcGnizRS75AV",
    "papermill": {
     "duration": 0.183035,
     "end_time": "2021-07-26T10:51:37.940944",
     "exception": false,
     "start_time": "2021-07-26T10:51:37.757909",
     "status": "completed"
    },
    "tags": []
   },
   "source": [
    "<a href=\"#footer\">К содержанию</a>\n",
    "<footer id=\"footer\"></footer>"
   ]
  },
  {
   "cell_type": "markdown",
   "id": "1b5bf89a",
   "metadata": {
    "id": "Eaw-LDsHIxyp",
    "papermill": {
     "duration": 0.183524,
     "end_time": "2021-07-26T10:51:38.306260",
     "exception": false,
     "start_time": "2021-07-26T10:51:38.122736",
     "status": "completed"
    },
    "tags": []
   },
   "source": [
    "### Train BERT Model (DistilBertModel)"
   ]
  },
  {
   "cell_type": "markdown",
   "id": "96bcc3c5",
   "metadata": {
    "id": "CRIIFtS075AV",
    "papermill": {
     "duration": 0.18482,
     "end_time": "2021-07-26T10:51:38.673778",
     "exception": false,
     "start_time": "2021-07-26T10:51:38.488958",
     "status": "completed"
    },
    "tags": []
   },
   "source": [
    "To train the model with pretraining using BERT, we will build a new set, balanced, since we will have to transfer an order of magnitude fewer rows for training, which is not an entirely adequate performance estimate"
   ]
  },
  {
   "cell_type": "markdown",
   "id": "10ce5206",
   "metadata": {
    "id": "4mBm9RYa75AV",
    "papermill": {
     "duration": 0.180426,
     "end_time": "2021-07-26T10:51:39.035635",
     "exception": false,
     "start_time": "2021-07-26T10:51:38.855209",
     "status": "completed"
    },
    "tags": []
   },
   "source": [
    "Let's create samples for BERT and remove the class imbalance in the training sample. We will postpone the test sample and will not touch it."
   ]
  },
  {
   "cell_type": "code",
   "execution_count": 37,
   "id": "30db2c72",
   "metadata": {
    "execution": {
     "iopub.execute_input": "2021-07-26T10:51:39.404963Z",
     "iopub.status.busy": "2021-07-26T10:51:39.404005Z",
     "iopub.status.idle": "2021-07-26T10:51:39.489716Z",
     "shell.execute_reply": "2021-07-26T10:51:39.490501Z"
    },
    "id": "27qLXxvF75AV",
    "papermill": {
     "duration": 0.273018,
     "end_time": "2021-07-26T10:51:39.490749",
     "exception": false,
     "start_time": "2021-07-26T10:51:39.217731",
     "status": "completed"
    },
    "tags": []
   },
   "outputs": [
    {
     "data": {
      "text/html": [
       "<div>\n",
       "<style scoped>\n",
       "    .dataframe tbody tr th:only-of-type {\n",
       "        vertical-align: middle;\n",
       "    }\n",
       "\n",
       "    .dataframe tbody tr th {\n",
       "        vertical-align: top;\n",
       "    }\n",
       "\n",
       "    .dataframe thead th {\n",
       "        text-align: right;\n",
       "    }\n",
       "</style>\n",
       "<table border=\"1\" class=\"dataframe\">\n",
       "  <thead>\n",
       "    <tr style=\"text-align: right;\">\n",
       "      <th></th>\n",
       "      <th>toxic</th>\n",
       "    </tr>\n",
       "  </thead>\n",
       "  <tbody>\n",
       "    <tr>\n",
       "      <th>1.0</th>\n",
       "      <td>0.514776</td>\n",
       "    </tr>\n",
       "    <tr>\n",
       "      <th>0.0</th>\n",
       "      <td>0.485224</td>\n",
       "    </tr>\n",
       "  </tbody>\n",
       "</table>\n",
       "</div>"
      ],
      "text/plain": [
       "        toxic\n",
       "1.0  0.514776\n",
       "0.0  0.485224"
      ]
     },
     "execution_count": 37,
     "metadata": {},
     "output_type": "execute_result"
    }
   ],
   "source": [
    "features = train['comment_text']\n",
    "target = train['toxic']\n",
    "\n",
    "features_train, features_test, target_train, target_test = train_test_split(\n",
    "    features, target, test_size=0.25, random_state=42)\n",
    "\n",
    "features_downsampled, target_downsampled = downsample(features_train, target_train, 0.1)\n",
    "\n",
    "target_downsampled.value_counts(normalize=True).to_frame()"
   ]
  },
  {
   "cell_type": "markdown",
   "id": "5794be01",
   "metadata": {
    "id": "0b8HFvjB75AW",
    "papermill": {
     "duration": 0.182693,
     "end_time": "2021-07-26T10:51:39.855341",
     "exception": false,
     "start_time": "2021-07-26T10:51:39.672648",
     "status": "completed"
    },
    "tags": []
   },
   "source": [
    "Let's create a set from the training balanced sample, remove duplicates from it and take a sample of 500 values"
   ]
  },
  {
   "cell_type": "code",
   "execution_count": 38,
   "id": "2f288668",
   "metadata": {
    "execution": {
     "iopub.execute_input": "2021-07-26T10:51:40.226114Z",
     "iopub.status.busy": "2021-07-26T10:51:40.225445Z",
     "iopub.status.idle": "2021-07-26T10:51:40.252209Z",
     "shell.execute_reply": "2021-07-26T10:51:40.252630Z"
    },
    "id": "pAuPX9Ek75AW",
    "papermill": {
     "duration": 0.215251,
     "end_time": "2021-07-26T10:51:40.252819",
     "exception": false,
     "start_time": "2021-07-26T10:51:40.037568",
     "status": "completed"
    },
    "tags": []
   },
   "outputs": [
    {
     "data": {
      "text/html": [
       "<div>\n",
       "<style scoped>\n",
       "    .dataframe tbody tr th:only-of-type {\n",
       "        vertical-align: middle;\n",
       "    }\n",
       "\n",
       "    .dataframe tbody tr th {\n",
       "        vertical-align: top;\n",
       "    }\n",
       "\n",
       "    .dataframe thead th {\n",
       "        text-align: right;\n",
       "    }\n",
       "</style>\n",
       "<table border=\"1\" class=\"dataframe\">\n",
       "  <thead>\n",
       "    <tr style=\"text-align: right;\">\n",
       "      <th></th>\n",
       "      <th>comment_text</th>\n",
       "      <th>toxic</th>\n",
       "    </tr>\n",
       "  </thead>\n",
       "  <tbody>\n",
       "    <tr>\n",
       "      <th>78488</th>\n",
       "      <td>wikipedia appears to work on the basis that a ...</td>\n",
       "      <td>1.0</td>\n",
       "    </tr>\n",
       "    <tr>\n",
       "      <th>133294</th>\n",
       "      <td>yeah  like the fact that he is  gay i mean  he...</td>\n",
       "      <td>1.0</td>\n",
       "    </tr>\n",
       "    <tr>\n",
       "      <th>18393</th>\n",
       "      <td>warning for doing nothing  fuck  u  why the  f...</td>\n",
       "      <td>1.0</td>\n",
       "    </tr>\n",
       "    <tr>\n",
       "      <th>115222</th>\n",
       "      <td>hey fuck you  cunt  bag  you dont own wikpedia...</td>\n",
       "      <td>1.0</td>\n",
       "    </tr>\n",
       "    <tr>\n",
       "      <th>54584</th>\n",
       "      <td>you little bitch trying to get away with your ...</td>\n",
       "      <td>1.0</td>\n",
       "    </tr>\n",
       "  </tbody>\n",
       "</table>\n",
       "</div>"
      ],
      "text/plain": [
       "                                             comment_text  toxic\n",
       "78488   wikipedia appears to work on the basis that a ...    1.0\n",
       "133294  yeah  like the fact that he is  gay i mean  he...    1.0\n",
       "18393   warning for doing nothing  fuck  u  why the  f...    1.0\n",
       "115222  hey fuck you  cunt  bag  you dont own wikpedia...    1.0\n",
       "54584   you little bitch trying to get away with your ...    1.0"
      ]
     },
     "execution_count": 38,
     "metadata": {},
     "output_type": "execute_result"
    }
   ],
   "source": [
    "df_bert = features_downsampled.to_frame().join(\n",
    "    target_downsampled.to_frame())\n",
    "df_bert.head()"
   ]
  },
  {
   "cell_type": "code",
   "execution_count": 39,
   "id": "27bcabd8",
   "metadata": {
    "execution": {
     "iopub.execute_input": "2021-07-26T10:51:40.630162Z",
     "iopub.status.busy": "2021-07-26T10:51:40.629265Z",
     "iopub.status.idle": "2021-07-26T10:51:40.663416Z",
     "shell.execute_reply": "2021-07-26T10:51:40.662740Z"
    },
    "id": "SttaL8wU75AW",
    "papermill": {
     "duration": 0.228818,
     "end_time": "2021-07-26T10:51:40.663578",
     "exception": false,
     "start_time": "2021-07-26T10:51:40.434760",
     "status": "completed"
    },
    "tags": []
   },
   "outputs": [
    {
     "data": {
      "text/plain": [
       "47"
      ]
     },
     "execution_count": 39,
     "metadata": {},
     "output_type": "execute_result"
    }
   ],
   "source": [
    "df_bert.duplicated().sum()"
   ]
  },
  {
   "cell_type": "code",
   "execution_count": 40,
   "id": "44cf71f1",
   "metadata": {
    "execution": {
     "iopub.execute_input": "2021-07-26T10:51:41.036900Z",
     "iopub.status.busy": "2021-07-26T10:51:41.036286Z",
     "iopub.status.idle": "2021-07-26T10:51:41.108709Z",
     "shell.execute_reply": "2021-07-26T10:51:41.109278Z"
    },
    "id": "sABdyIms75AW",
    "papermill": {
     "duration": 0.260784,
     "end_time": "2021-07-26T10:51:41.109475",
     "exception": false,
     "start_time": "2021-07-26T10:51:40.848691",
     "status": "completed"
    },
    "tags": []
   },
   "outputs": [
    {
     "data": {
      "text/plain": [
       "0"
      ]
     },
     "execution_count": 40,
     "metadata": {},
     "output_type": "execute_result"
    }
   ],
   "source": [
    "df_bert.drop_duplicates(inplace=True)\n",
    "df_bert.duplicated().sum()"
   ]
  },
  {
   "cell_type": "code",
   "execution_count": 41,
   "id": "fc95db33",
   "metadata": {
    "execution": {
     "iopub.execute_input": "2021-07-26T10:51:41.481619Z",
     "iopub.status.busy": "2021-07-26T10:51:41.480925Z",
     "iopub.status.idle": "2021-07-26T10:51:41.492062Z",
     "shell.execute_reply": "2021-07-26T10:51:41.491577Z"
    },
    "id": "ZpRQweWs75AW",
    "papermill": {
     "duration": 0.197521,
     "end_time": "2021-07-26T10:51:41.492218",
     "exception": false,
     "start_time": "2021-07-26T10:51:41.294697",
     "status": "completed"
    },
    "tags": []
   },
   "outputs": [
    {
     "data": {
      "text/html": [
       "<div>\n",
       "<style scoped>\n",
       "    .dataframe tbody tr th:only-of-type {\n",
       "        vertical-align: middle;\n",
       "    }\n",
       "\n",
       "    .dataframe tbody tr th {\n",
       "        vertical-align: top;\n",
       "    }\n",
       "\n",
       "    .dataframe thead th {\n",
       "        text-align: right;\n",
       "    }\n",
       "</style>\n",
       "<table border=\"1\" class=\"dataframe\">\n",
       "  <thead>\n",
       "    <tr style=\"text-align: right;\">\n",
       "      <th></th>\n",
       "      <th>comment_text</th>\n",
       "      <th>toxic</th>\n",
       "    </tr>\n",
       "  </thead>\n",
       "  <tbody>\n",
       "    <tr>\n",
       "      <th>115222</th>\n",
       "      <td>hey fuck you  cunt  bag  you dont own wikpedia...</td>\n",
       "      <td>1.0</td>\n",
       "    </tr>\n",
       "  </tbody>\n",
       "</table>\n",
       "</div>"
      ],
      "text/plain": [
       "                                             comment_text  toxic\n",
       "115222  hey fuck you  cunt  bag  you dont own wikpedia...    1.0"
      ]
     },
     "execution_count": 41,
     "metadata": {},
     "output_type": "execute_result"
    }
   ],
   "source": [
    "df_bert[df_bert.index == 115222]"
   ]
  },
  {
   "cell_type": "markdown",
   "id": "9426b952",
   "metadata": {
    "id": "bJuuid8q75AW",
    "papermill": {
     "duration": 0.187697,
     "end_time": "2021-07-26T10:51:41.865047",
     "exception": false,
     "start_time": "2021-07-26T10:51:41.677350",
     "status": "completed"
    },
    "tags": []
   },
   "source": [
    "Thus, we got a new set, from which we will take slices, while deleting all duplicates, checking one index in order to make sure that the set was assembled adequately"
   ]
  },
  {
   "cell_type": "code",
   "execution_count": 42,
   "id": "07e58d84",
   "metadata": {
    "execution": {
     "iopub.execute_input": "2021-07-26T10:51:42.268159Z",
     "iopub.status.busy": "2021-07-26T10:51:42.267497Z",
     "iopub.status.idle": "2021-07-26T10:51:42.270053Z",
     "shell.execute_reply": "2021-07-26T10:51:42.270497Z"
    },
    "id": "R-6R0DkBgTdt",
    "papermill": {
     "duration": 0.209285,
     "end_time": "2021-07-26T10:51:42.270681",
     "exception": false,
     "start_time": "2021-07-26T10:51:42.061396",
     "status": "completed"
    },
    "tags": []
   },
   "outputs": [
    {
     "data": {
      "text/html": [
       "<div>\n",
       "<style scoped>\n",
       "    .dataframe tbody tr th:only-of-type {\n",
       "        vertical-align: middle;\n",
       "    }\n",
       "\n",
       "    .dataframe tbody tr th {\n",
       "        vertical-align: top;\n",
       "    }\n",
       "\n",
       "    .dataframe thead th {\n",
       "        text-align: right;\n",
       "    }\n",
       "</style>\n",
       "<table border=\"1\" class=\"dataframe\">\n",
       "  <thead>\n",
       "    <tr style=\"text-align: right;\">\n",
       "      <th></th>\n",
       "      <th>comment_text</th>\n",
       "      <th>toxic</th>\n",
       "    </tr>\n",
       "  </thead>\n",
       "  <tbody>\n",
       "    <tr>\n",
       "      <th>0</th>\n",
       "      <td>dude you crazy  dude  you are totally not cool...</td>\n",
       "      <td>1.0</td>\n",
       "    </tr>\n",
       "    <tr>\n",
       "      <th>1</th>\n",
       "      <td>crapman is a murdering  cunt</td>\n",
       "      <td>1.0</td>\n",
       "    </tr>\n",
       "    <tr>\n",
       "      <th>2</th>\n",
       "      <td>ooh i m scared fuck you</td>\n",
       "      <td>1.0</td>\n",
       "    </tr>\n",
       "    <tr>\n",
       "      <th>3</th>\n",
       "      <td>ok no problem  i d rather ask someone with a ...</td>\n",
       "      <td>0.0</td>\n",
       "    </tr>\n",
       "    <tr>\n",
       "      <th>4</th>\n",
       "      <td>hi  believe it or not  i don t enjoy cruising ...</td>\n",
       "      <td>0.0</td>\n",
       "    </tr>\n",
       "  </tbody>\n",
       "</table>\n",
       "</div>"
      ],
      "text/plain": [
       "                                        comment_text  toxic\n",
       "0  dude you crazy  dude  you are totally not cool...    1.0\n",
       "1                     crapman is a murdering  cunt      1.0\n",
       "2                            ooh i m scared fuck you    1.0\n",
       "3   ok no problem  i d rather ask someone with a ...    0.0\n",
       "4  hi  believe it or not  i don t enjoy cruising ...    0.0"
      ]
     },
     "execution_count": 42,
     "metadata": {},
     "output_type": "execute_result"
    }
   ],
   "source": [
    "df_comm = df_bert.sample(300).reset_index(\n",
    "    drop=True)\n",
    "df_comm.head()"
   ]
  },
  {
   "cell_type": "code",
   "execution_count": 43,
   "id": "20b72412",
   "metadata": {
    "execution": {
     "iopub.execute_input": "2021-07-26T10:51:42.655902Z",
     "iopub.status.busy": "2021-07-26T10:51:42.655277Z",
     "iopub.status.idle": "2021-07-26T10:51:42.665734Z",
     "shell.execute_reply": "2021-07-26T10:51:42.666191Z"
    },
    "id": "x9ZSqLbA2oY3",
    "papermill": {
     "duration": 0.205832,
     "end_time": "2021-07-26T10:51:42.666408",
     "exception": false,
     "start_time": "2021-07-26T10:51:42.460576",
     "status": "completed"
    },
    "tags": []
   },
   "outputs": [
    {
     "data": {
      "text/html": [
       "<div>\n",
       "<style scoped>\n",
       "    .dataframe tbody tr th:only-of-type {\n",
       "        vertical-align: middle;\n",
       "    }\n",
       "\n",
       "    .dataframe tbody tr th {\n",
       "        vertical-align: top;\n",
       "    }\n",
       "\n",
       "    .dataframe thead th {\n",
       "        text-align: right;\n",
       "    }\n",
       "</style>\n",
       "<table border=\"1\" class=\"dataframe\">\n",
       "  <thead>\n",
       "    <tr style=\"text-align: right;\">\n",
       "      <th></th>\n",
       "      <th>toxic</th>\n",
       "    </tr>\n",
       "  </thead>\n",
       "  <tbody>\n",
       "    <tr>\n",
       "      <th>1.0</th>\n",
       "      <td>0.516667</td>\n",
       "    </tr>\n",
       "    <tr>\n",
       "      <th>0.0</th>\n",
       "      <td>0.483333</td>\n",
       "    </tr>\n",
       "  </tbody>\n",
       "</table>\n",
       "</div>"
      ],
      "text/plain": [
       "        toxic\n",
       "1.0  0.516667\n",
       "0.0  0.483333"
      ]
     },
     "execution_count": 43,
     "metadata": {},
     "output_type": "execute_result"
    }
   ],
   "source": [
    "df_comm['toxic'].value_counts(normalize=True).to_frame()"
   ]
  },
  {
   "cell_type": "markdown",
   "id": "175f3212",
   "metadata": {
    "id": "LtDW9Fo175AW",
    "papermill": {
     "duration": 0.185705,
     "end_time": "2021-07-26T10:51:43.036064",
     "exception": false,
     "start_time": "2021-07-26T10:51:42.850359",
     "status": "completed"
    },
    "tags": []
   },
   "source": [
    "We got a fairly balanced sample.\n",
    "\n",
    "We transform our signs in order to obtain embeddings"
   ]
  },
  {
   "cell_type": "code",
   "execution_count": 44,
   "id": "b3b32bc7",
   "metadata": {
    "execution": {
     "iopub.execute_input": "2021-07-26T10:51:43.408212Z",
     "iopub.status.busy": "2021-07-26T10:51:43.407530Z",
     "iopub.status.idle": "2021-07-26T10:51:50.768043Z",
     "shell.execute_reply": "2021-07-26T10:51:50.766783Z"
    },
    "id": "z0D7ND_-75AW",
    "papermill": {
     "duration": 7.547974,
     "end_time": "2021-07-26T10:51:50.768233",
     "exception": false,
     "start_time": "2021-07-26T10:51:43.220259",
     "status": "completed"
    },
    "tags": []
   },
   "outputs": [],
   "source": [
    "configuration = transformers.DistilBertConfig()\n",
    "model = transformers.DistilBertModel(configuration)\n",
    "configuration = model.config\n",
    "\n",
    "pretrained_weights = 'distilbert-base-uncased'\n",
    "\n",
    "tokenizer_class = transformers.DistilBertTokenizer"
   ]
  },
  {
   "cell_type": "markdown",
   "id": "0e75d157",
   "metadata": {
    "id": "Z0cvSYtB75AW",
    "papermill": {
     "duration": 0.185513,
     "end_time": "2021-07-26T10:51:51.139205",
     "exception": false,
     "start_time": "2021-07-26T10:51:50.953692",
     "status": "completed"
    },
    "tags": []
   },
   "source": [
    "It is worth noting that the model is trained to work with sentences up to 512 characters. It is necessary to cut our offers if they exceed this limit. It can also affect the results"
   ]
  },
  {
   "cell_type": "code",
   "execution_count": 45,
   "id": "e23043b0",
   "metadata": {
    "execution": {
     "iopub.execute_input": "2021-07-26T10:51:51.515586Z",
     "iopub.status.busy": "2021-07-26T10:51:51.514947Z",
     "iopub.status.idle": "2021-07-26T10:51:55.933152Z",
     "shell.execute_reply": "2021-07-26T10:51:55.933663Z"
    },
    "id": "UAXwdVosgvVt",
    "papermill": {
     "duration": 4.607883,
     "end_time": "2021-07-26T10:51:55.933856",
     "exception": false,
     "start_time": "2021-07-26T10:51:51.325973",
     "status": "completed"
    },
    "tags": []
   },
   "outputs": [
    {
     "data": {
      "application/vnd.jupyter.widget-view+json": {
       "model_id": "ebb0b16524c94e63af7a5c66f6f413ec",
       "version_major": 2,
       "version_minor": 0
      },
      "text/plain": [
       "Downloading:   0%|          | 0.00/232k [00:00<?, ?B/s]"
      ]
     },
     "metadata": {},
     "output_type": "display_data"
    },
    {
     "data": {
      "application/vnd.jupyter.widget-view+json": {
       "model_id": "68999c7f39dc4c3f8f707f15e3e1118b",
       "version_major": 2,
       "version_minor": 0
      },
      "text/plain": [
       "Downloading:   0%|          | 0.00/28.0 [00:00<?, ?B/s]"
      ]
     },
     "metadata": {},
     "output_type": "display_data"
    },
    {
     "data": {
      "application/vnd.jupyter.widget-view+json": {
       "model_id": "02c1fdbe8c4844479a01cfd40e1e1a44",
       "version_major": 2,
       "version_minor": 0
      },
      "text/plain": [
       "Downloading:   0%|          | 0.00/466k [00:00<?, ?B/s]"
      ]
     },
     "metadata": {},
     "output_type": "display_data"
    }
   ],
   "source": [
    "tokenizer = tokenizer_class.from_pretrained(pretrained_weights)\n",
    "\n",
    "tokenized = df_comm['comment_text'].apply(\n",
    "    lambda x: tokenizer.encode(x[:512], add_special_tokens=True))\n",
    "\n",
    "padded = np.array([i + [0]*(512 - len(i)) for i in tokenized.values])\n",
    "\n",
    "attention_mask = np.where(padded != 0, 1, 0)"
   ]
  },
  {
   "cell_type": "code",
   "execution_count": 46,
   "id": "de0d39f5",
   "metadata": {
    "execution": {
     "iopub.execute_input": "2021-07-26T10:51:56.319031Z",
     "iopub.status.busy": "2021-07-26T10:51:56.318017Z",
     "iopub.status.idle": "2021-07-26T10:51:56.322589Z",
     "shell.execute_reply": "2021-07-26T10:51:56.322008Z"
    },
    "id": "V6Aa2uBY36XP",
    "papermill": {
     "duration": 0.201325,
     "end_time": "2021-07-26T10:51:56.322730",
     "exception": false,
     "start_time": "2021-07-26T10:51:56.121405",
     "status": "completed"
    },
    "tags": []
   },
   "outputs": [
    {
     "data": {
      "text/plain": [
       "512"
      ]
     },
     "execution_count": 46,
     "metadata": {},
     "output_type": "execute_result"
    }
   ],
   "source": [
    "len(padded[0])"
   ]
  },
  {
   "cell_type": "code",
   "execution_count": 47,
   "id": "7ee18688",
   "metadata": {
    "execution": {
     "iopub.execute_input": "2021-07-26T10:51:56.705941Z",
     "iopub.status.busy": "2021-07-26T10:51:56.705309Z",
     "iopub.status.idle": "2021-07-26T10:51:56.707882Z",
     "shell.execute_reply": "2021-07-26T10:51:56.708335Z"
    },
    "id": "fsULiGD675AX",
    "papermill": {
     "duration": 0.197988,
     "end_time": "2021-07-26T10:51:56.708515",
     "exception": false,
     "start_time": "2021-07-26T10:51:56.510527",
     "status": "completed"
    },
    "tags": []
   },
   "outputs": [
    {
     "data": {
      "text/plain": [
       "((300, 512), (300, 512))"
      ]
     },
     "execution_count": 47,
     "metadata": {},
     "output_type": "execute_result"
    }
   ],
   "source": [
    "padded.shape, attention_mask.shape"
   ]
  },
  {
   "cell_type": "code",
   "execution_count": 48,
   "id": "dcecec6d",
   "metadata": {
    "execution": {
     "iopub.execute_input": "2021-07-26T10:51:57.085891Z",
     "iopub.status.busy": "2021-07-26T10:51:57.085251Z",
     "iopub.status.idle": "2021-07-26T10:55:23.407902Z",
     "shell.execute_reply": "2021-07-26T10:55:23.406190Z"
    },
    "id": "iMb8tYYfg1D-",
    "papermill": {
     "duration": 206.512841,
     "end_time": "2021-07-26T10:55:23.408210",
     "exception": false,
     "start_time": "2021-07-26T10:51:56.895369",
     "status": "completed"
    },
    "tags": []
   },
   "outputs": [
    {
     "data": {
      "application/vnd.jupyter.widget-view+json": {
       "model_id": "36c888a70b834308b5d89ff153f6eeaa",
       "version_major": 2,
       "version_minor": 0
      },
      "text/plain": [
       "  0%|          | 0/3 [00:00<?, ?it/s]"
      ]
     },
     "metadata": {},
     "output_type": "display_data"
    }
   ],
   "source": [
    "batch_size = 100\n",
    "embeddings = []\n",
    "for i in notebook.tqdm(range(padded.shape[0] // batch_size)):\n",
    "        batch = torch.LongTensor(padded[batch_size*i:batch_size*(i+1)]) \n",
    "        attention_mask_batch = torch.LongTensor(attention_mask[batch_size*i:batch_size*(i+1)])\n",
    "        \n",
    "        with torch.no_grad():\n",
    "            batch_embeddings = model(batch, attention_mask=attention_mask_batch)\n",
    "        \n",
    "        \n",
    "        embeddings.append(batch_embeddings[0][:,0,:].numpy())"
   ]
  },
  {
   "cell_type": "markdown",
   "id": "e168cdec",
   "metadata": {
    "id": "zEL6I1So75AX",
    "papermill": {
     "duration": 0.282048,
     "end_time": "2021-07-26T10:55:23.885354",
     "exception": false,
     "start_time": "2021-07-26T10:55:23.603306",
     "status": "completed"
    },
    "tags": []
   },
   "source": [
    "Create training and target datasets for our model"
   ]
  },
  {
   "cell_type": "code",
   "execution_count": 49,
   "id": "51759fe7",
   "metadata": {
    "execution": {
     "iopub.execute_input": "2021-07-26T10:55:24.280331Z",
     "iopub.status.busy": "2021-07-26T10:55:24.279620Z",
     "iopub.status.idle": "2021-07-26T10:55:24.286358Z",
     "shell.execute_reply": "2021-07-26T10:55:24.286922Z"
    },
    "id": "98jIov54g2Yf",
    "papermill": {
     "duration": 0.207228,
     "end_time": "2021-07-26T10:55:24.287133",
     "exception": false,
     "start_time": "2021-07-26T10:55:24.079905",
     "status": "completed"
    },
    "tags": []
   },
   "outputs": [],
   "source": [
    "X_train = np.concatenate(embeddings)\n",
    "y_train = df_comm['toxic'][:padded.shape[0]]"
   ]
  },
  {
   "cell_type": "markdown",
   "id": "d1531432",
   "metadata": {
    "id": "KGDfMIv_75AX",
    "papermill": {
     "duration": 0.187674,
     "end_time": "2021-07-26T10:55:24.661717",
     "exception": false,
     "start_time": "2021-07-26T10:55:24.474043",
     "status": "completed"
    },
    "tags": []
   },
   "source": [
    "We will check visually whether the target classes were selected correctly"
   ]
  },
  {
   "cell_type": "code",
   "execution_count": 50,
   "id": "fd8ab25b",
   "metadata": {
    "execution": {
     "iopub.execute_input": "2021-07-26T10:55:25.077117Z",
     "iopub.status.busy": "2021-07-26T10:55:25.071530Z",
     "iopub.status.idle": "2021-07-26T10:55:25.081278Z",
     "shell.execute_reply": "2021-07-26T10:55:25.080698Z"
    },
    "id": "PZbtiewN75AX",
    "papermill": {
     "duration": 0.210894,
     "end_time": "2021-07-26T10:55:25.081438",
     "exception": false,
     "start_time": "2021-07-26T10:55:24.870544",
     "status": "completed"
    },
    "tags": []
   },
   "outputs": [
    {
     "data": {
      "text/plain": [
       "array([1., 1., 1., 0., 0., 0., 1., 1., 1., 0., 1., 1., 0., 0., 1., 1., 0.,\n",
       "       1., 0., 1., 1., 1., 0., 1., 1., 0., 0., 1., 0., 1., 1., 1., 1., 1.,\n",
       "       1., 1., 0., 0., 0., 1., 0., 0., 0., 1., 1., 1., 1., 1., 0., 1.])"
      ]
     },
     "execution_count": 50,
     "metadata": {},
     "output_type": "execute_result"
    }
   ],
   "source": [
    "y_train.values[:50]"
   ]
  },
  {
   "cell_type": "code",
   "execution_count": 51,
   "id": "0842d474",
   "metadata": {
    "execution": {
     "iopub.execute_input": "2021-07-26T10:55:25.478444Z",
     "iopub.status.busy": "2021-07-26T10:55:25.477801Z",
     "iopub.status.idle": "2021-07-26T10:55:25.480691Z",
     "shell.execute_reply": "2021-07-26T10:55:25.481244Z"
    },
    "id": "qy_4v61m75AX",
    "papermill": {
     "duration": 0.202863,
     "end_time": "2021-07-26T10:55:25.481433",
     "exception": false,
     "start_time": "2021-07-26T10:55:25.278570",
     "status": "completed"
    },
    "tags": []
   },
   "outputs": [
    {
     "data": {
      "text/plain": [
       "array([1., 1., 1., 0., 0., 0., 1., 1., 1., 0., 1., 1., 0., 0., 1., 1., 0.,\n",
       "       1., 0., 1., 1., 1., 0., 1., 1., 0., 0., 1., 0., 1., 1., 1., 1., 1.,\n",
       "       1., 1., 0., 0., 0., 1., 0., 0., 0., 1., 1., 1., 1., 1., 0., 1.])"
      ]
     },
     "execution_count": 51,
     "metadata": {},
     "output_type": "execute_result"
    }
   ],
   "source": [
    "df_comm['toxic'].values[:50]"
   ]
  },
  {
   "cell_type": "markdown",
   "id": "c93dfcf0",
   "metadata": {
    "id": "WYU9LMRG75AX",
    "papermill": {
     "duration": 0.192785,
     "end_time": "2021-07-26T10:55:25.865749",
     "exception": false,
     "start_time": "2021-07-26T10:55:25.672964",
     "status": "completed"
    },
    "tags": []
   },
   "source": [
    "Check the sets for the form"
   ]
  },
  {
   "cell_type": "code",
   "execution_count": 52,
   "id": "67869e1b",
   "metadata": {
    "execution": {
     "iopub.execute_input": "2021-07-26T10:55:26.245604Z",
     "iopub.status.busy": "2021-07-26T10:55:26.245046Z",
     "iopub.status.idle": "2021-07-26T10:55:26.250047Z",
     "shell.execute_reply": "2021-07-26T10:55:26.250513Z"
    },
    "id": "zqX87lQNg3zQ",
    "papermill": {
     "duration": 0.197713,
     "end_time": "2021-07-26T10:55:26.250689",
     "exception": false,
     "start_time": "2021-07-26T10:55:26.052976",
     "status": "completed"
    },
    "tags": []
   },
   "outputs": [
    {
     "data": {
      "text/plain": [
       "((300, 768), (300,))"
      ]
     },
     "execution_count": 52,
     "metadata": {},
     "output_type": "execute_result"
    }
   ],
   "source": [
    "X_train.shape, y_train.shape"
   ]
  },
  {
   "cell_type": "code",
   "execution_count": 53,
   "id": "a8d36f77",
   "metadata": {
    "execution": {
     "iopub.execute_input": "2021-07-26T10:55:26.630573Z",
     "iopub.status.busy": "2021-07-26T10:55:26.629994Z",
     "iopub.status.idle": "2021-07-26T10:55:26.645905Z",
     "shell.execute_reply": "2021-07-26T10:55:26.646425Z"
    },
    "id": "oTTMTTfi75AX",
    "papermill": {
     "duration": 0.207135,
     "end_time": "2021-07-26T10:55:26.646606",
     "exception": false,
     "start_time": "2021-07-26T10:55:26.439471",
     "status": "completed"
    },
    "tags": []
   },
   "outputs": [
    {
     "data": {
      "text/html": [
       "<div>\n",
       "<style scoped>\n",
       "    .dataframe tbody tr th:only-of-type {\n",
       "        vertical-align: middle;\n",
       "    }\n",
       "\n",
       "    .dataframe tbody tr th {\n",
       "        vertical-align: top;\n",
       "    }\n",
       "\n",
       "    .dataframe thead th {\n",
       "        text-align: right;\n",
       "    }\n",
       "</style>\n",
       "<table border=\"1\" class=\"dataframe\">\n",
       "  <thead>\n",
       "    <tr style=\"text-align: right;\">\n",
       "      <th></th>\n",
       "      <th>toxic</th>\n",
       "    </tr>\n",
       "  </thead>\n",
       "  <tbody>\n",
       "    <tr>\n",
       "      <th>1.0</th>\n",
       "      <td>0.516667</td>\n",
       "    </tr>\n",
       "    <tr>\n",
       "      <th>0.0</th>\n",
       "      <td>0.483333</td>\n",
       "    </tr>\n",
       "  </tbody>\n",
       "</table>\n",
       "</div>"
      ],
      "text/plain": [
       "        toxic\n",
       "1.0  0.516667\n",
       "0.0  0.483333"
      ]
     },
     "execution_count": 53,
     "metadata": {},
     "output_type": "execute_result"
    }
   ],
   "source": [
    "y_train.value_counts(normalize=True).to_frame()"
   ]
  },
  {
   "cell_type": "markdown",
   "id": "94852572",
   "metadata": {
    "id": "L-QxZBRl75AZ",
    "papermill": {
     "duration": 0.189469,
     "end_time": "2021-07-26T10:55:27.025241",
     "exception": false,
     "start_time": "2021-07-26T10:55:26.835772",
     "status": "completed"
    },
    "tags": []
   },
   "source": [
    "The target feature is balanced on the training sample"
   ]
  },
  {
   "cell_type": "markdown",
   "id": "91fb3729",
   "metadata": {
    "id": "1Tb8ZqPX75AZ",
    "papermill": {
     "duration": 0.187743,
     "end_time": "2021-07-26T10:55:27.403584",
     "exception": false,
     "start_time": "2021-07-26T10:55:27.215841",
     "status": "completed"
    },
    "tags": []
   },
   "source": [
    "Let's prepare a test sample. Let's take 200 random values ​​and get embeddings for the test"
   ]
  },
  {
   "cell_type": "code",
   "execution_count": 54,
   "id": "3c2533d4",
   "metadata": {
    "execution": {
     "iopub.execute_input": "2021-07-26T10:55:27.784442Z",
     "iopub.status.busy": "2021-07-26T10:55:27.783784Z",
     "iopub.status.idle": "2021-07-26T10:55:27.833106Z",
     "shell.execute_reply": "2021-07-26T10:55:27.833585Z"
    },
    "id": "UYwSe7jr75AZ",
    "papermill": {
     "duration": 0.241289,
     "end_time": "2021-07-26T10:55:27.833775",
     "exception": false,
     "start_time": "2021-07-26T10:55:27.592486",
     "status": "completed"
    },
    "tags": []
   },
   "outputs": [
    {
     "data": {
      "text/html": [
       "<div>\n",
       "<style scoped>\n",
       "    .dataframe tbody tr th:only-of-type {\n",
       "        vertical-align: middle;\n",
       "    }\n",
       "\n",
       "    .dataframe tbody tr th {\n",
       "        vertical-align: top;\n",
       "    }\n",
       "\n",
       "    .dataframe thead th {\n",
       "        text-align: right;\n",
       "    }\n",
       "</style>\n",
       "<table border=\"1\" class=\"dataframe\">\n",
       "  <thead>\n",
       "    <tr style=\"text-align: right;\">\n",
       "      <th></th>\n",
       "      <th>comment_text</th>\n",
       "      <th>toxic</th>\n",
       "    </tr>\n",
       "  </thead>\n",
       "  <tbody>\n",
       "    <tr>\n",
       "      <th>0</th>\n",
       "      <td>nixon s enemies list i noticed  that you comp...</td>\n",
       "      <td>0.0</td>\n",
       "    </tr>\n",
       "    <tr>\n",
       "      <th>1</th>\n",
       "      <td>how about this  go fuck yourself</td>\n",
       "      <td>1.0</td>\n",
       "    </tr>\n",
       "    <tr>\n",
       "      <th>2</th>\n",
       "      <td>fuck you  block me  you faggot pussy</td>\n",
       "      <td>1.0</td>\n",
       "    </tr>\n",
       "    <tr>\n",
       "      <th>3</th>\n",
       "      <td>user aperson promised me some help</td>\n",
       "      <td>0.0</td>\n",
       "    </tr>\n",
       "    <tr>\n",
       "      <th>4</th>\n",
       "      <td>david  oh wow  rob a bank  and why would we ja...</td>\n",
       "      <td>1.0</td>\n",
       "    </tr>\n",
       "  </tbody>\n",
       "</table>\n",
       "</div>"
      ],
      "text/plain": [
       "                                        comment_text  toxic\n",
       "0   nixon s enemies list i noticed  that you comp...    0.0\n",
       "1                 how about this  go fuck yourself      1.0\n",
       "2              fuck you  block me  you faggot pussy     1.0\n",
       "3                user aperson promised me some help     0.0\n",
       "4  david  oh wow  rob a bank  and why would we ja...    1.0"
      ]
     },
     "execution_count": 54,
     "metadata": {},
     "output_type": "execute_result"
    }
   ],
   "source": [
    "test = features_test.to_frame().join(\n",
    "    target_test.to_frame()).sample(200).reset_index(\n",
    "    drop=True)\n",
    "test.head()"
   ]
  },
  {
   "cell_type": "code",
   "execution_count": 55,
   "id": "9fc48dd6",
   "metadata": {
    "execution": {
     "iopub.execute_input": "2021-07-26T10:55:28.218870Z",
     "iopub.status.busy": "2021-07-26T10:55:28.218218Z",
     "iopub.status.idle": "2021-07-26T10:55:30.767444Z",
     "shell.execute_reply": "2021-07-26T10:55:30.766758Z"
    },
    "id": "cmkx8dkd75AZ",
    "papermill": {
     "duration": 2.741982,
     "end_time": "2021-07-26T10:55:30.767623",
     "exception": false,
     "start_time": "2021-07-26T10:55:28.025641",
     "status": "completed"
    },
    "tags": []
   },
   "outputs": [],
   "source": [
    "tokenizer = tokenizer_class.from_pretrained(pretrained_weights)\n",
    "\n",
    "tokenized = test['comment_text'].apply(\n",
    "    lambda x: tokenizer.encode(x[:512], add_special_tokens=True))\n",
    "\n",
    "padded = np.array([i + [0]*(512 - len(i)) for i in tokenized.values])\n",
    "\n",
    "attention_mask = np.where(padded != 0, 1, 0)"
   ]
  },
  {
   "cell_type": "code",
   "execution_count": 56,
   "id": "85bf51f2",
   "metadata": {
    "execution": {
     "iopub.execute_input": "2021-07-26T10:55:31.196165Z",
     "iopub.status.busy": "2021-07-26T10:55:31.195482Z",
     "iopub.status.idle": "2021-07-26T10:57:48.403290Z",
     "shell.execute_reply": "2021-07-26T10:57:48.401725Z"
    },
    "id": "1hE7XwUo75AZ",
    "papermill": {
     "duration": 137.445139,
     "end_time": "2021-07-26T10:57:48.403480",
     "exception": false,
     "start_time": "2021-07-26T10:55:30.958341",
     "status": "completed"
    },
    "tags": []
   },
   "outputs": [
    {
     "data": {
      "application/vnd.jupyter.widget-view+json": {
       "model_id": "e10a30cd05c6416d90eeaedb3c6c4336",
       "version_major": 2,
       "version_minor": 0
      },
      "text/plain": [
       "  0%|          | 0/2 [00:00<?, ?it/s]"
      ]
     },
     "metadata": {},
     "output_type": "display_data"
    }
   ],
   "source": [
    "batch_size = 100\n",
    "embeddings = []\n",
    "for i in notebook.tqdm(range(padded.shape[0] // batch_size)):\n",
    "        batch = torch.LongTensor(padded[batch_size*i:batch_size*(i+1)]) \n",
    "        attention_mask_batch = torch.LongTensor(attention_mask[batch_size*i:batch_size*(i+1)])\n",
    "        \n",
    "        with torch.no_grad():\n",
    "            batch_embeddings = model(batch, attention_mask=attention_mask_batch)\n",
    "        \n",
    "        \n",
    "        embeddings.append(batch_embeddings[0][:,0,:].numpy())"
   ]
  },
  {
   "cell_type": "code",
   "execution_count": 57,
   "id": "c96de17f",
   "metadata": {
    "execution": {
     "iopub.execute_input": "2021-07-26T10:57:48.791268Z",
     "iopub.status.busy": "2021-07-26T10:57:48.790592Z",
     "iopub.status.idle": "2021-07-26T10:57:48.795320Z",
     "shell.execute_reply": "2021-07-26T10:57:48.794824Z"
    },
    "id": "lgzIk96p75AZ",
    "papermill": {
     "duration": 0.201257,
     "end_time": "2021-07-26T10:57:48.795478",
     "exception": false,
     "start_time": "2021-07-26T10:57:48.594221",
     "status": "completed"
    },
    "tags": []
   },
   "outputs": [],
   "source": [
    "X_test = np.concatenate(embeddings)\n",
    "y_test = test['toxic'][:X_test.shape[0]]"
   ]
  },
  {
   "cell_type": "code",
   "execution_count": 58,
   "id": "bafd3f31",
   "metadata": {
    "execution": {
     "iopub.execute_input": "2021-07-26T10:57:49.192012Z",
     "iopub.status.busy": "2021-07-26T10:57:49.191371Z",
     "iopub.status.idle": "2021-07-26T10:57:49.193996Z",
     "shell.execute_reply": "2021-07-26T10:57:49.194475Z"
    },
    "id": "R2SXVI3E75AZ",
    "papermill": {
     "duration": 0.207601,
     "end_time": "2021-07-26T10:57:49.194652",
     "exception": false,
     "start_time": "2021-07-26T10:57:48.987051",
     "status": "completed"
    },
    "tags": []
   },
   "outputs": [
    {
     "data": {
      "text/html": [
       "<div>\n",
       "<style scoped>\n",
       "    .dataframe tbody tr th:only-of-type {\n",
       "        vertical-align: middle;\n",
       "    }\n",
       "\n",
       "    .dataframe tbody tr th {\n",
       "        vertical-align: top;\n",
       "    }\n",
       "\n",
       "    .dataframe thead th {\n",
       "        text-align: right;\n",
       "    }\n",
       "</style>\n",
       "<table border=\"1\" class=\"dataframe\">\n",
       "  <thead>\n",
       "    <tr style=\"text-align: right;\">\n",
       "      <th></th>\n",
       "      <th>toxic</th>\n",
       "    </tr>\n",
       "  </thead>\n",
       "  <tbody>\n",
       "    <tr>\n",
       "      <th>0.0</th>\n",
       "      <td>0.92</td>\n",
       "    </tr>\n",
       "    <tr>\n",
       "      <th>1.0</th>\n",
       "      <td>0.08</td>\n",
       "    </tr>\n",
       "  </tbody>\n",
       "</table>\n",
       "</div>"
      ],
      "text/plain": [
       "     toxic\n",
       "0.0   0.92\n",
       "1.0   0.08"
      ]
     },
     "execution_count": 58,
     "metadata": {},
     "output_type": "execute_result"
    }
   ],
   "source": [
    "y_test.value_counts(normalize=True).to_frame()"
   ]
  },
  {
   "cell_type": "markdown",
   "id": "a13916e0",
   "metadata": {
    "id": "TgPwAnIh75AZ",
    "papermill": {
     "duration": 0.188815,
     "end_time": "2021-07-26T10:57:49.574164",
     "exception": false,
     "start_time": "2021-07-26T10:57:49.385349",
     "status": "completed"
    },
    "tags": []
   },
   "source": [
    "There is an imbalance of classes in the test sample. Let's train a logistic regression model, with a balance"
   ]
  },
  {
   "cell_type": "code",
   "execution_count": 59,
   "id": "a79f7f9a",
   "metadata": {
    "execution": {
     "iopub.execute_input": "2021-07-26T10:57:49.957229Z",
     "iopub.status.busy": "2021-07-26T10:57:49.956562Z",
     "iopub.status.idle": "2021-07-26T10:57:50.018711Z",
     "shell.execute_reply": "2021-07-26T10:57:50.017881Z"
    },
    "id": "yTfYAIwS75AZ",
    "papermill": {
     "duration": 0.256073,
     "end_time": "2021-07-26T10:57:50.018909",
     "exception": false,
     "start_time": "2021-07-26T10:57:49.762836",
     "status": "completed"
    },
    "tags": []
   },
   "outputs": [
    {
     "name": "stdout",
     "output_type": "stream",
     "text": [
      "CPU times: user 43.1 ms, sys: 894 µs, total: 44 ms\n",
      "Wall time: 46.7 ms\n"
     ]
    },
    {
     "data": {
      "text/plain": [
       "LogisticRegression(class_weight='balanced', random_state=42, solver='liblinear')"
      ]
     },
     "execution_count": 59,
     "metadata": {},
     "output_type": "execute_result"
    }
   ],
   "source": [
    "%%time\n",
    "log_clf = LogisticRegression(solver=\"liblinear\", random_state=42,\n",
    "                             class_weight='balanced')\n",
    "\n",
    "log_clf.fit(X_train, y_train)"
   ]
  },
  {
   "cell_type": "code",
   "execution_count": 60,
   "id": "6c806ea1",
   "metadata": {
    "execution": {
     "iopub.execute_input": "2021-07-26T10:57:50.408607Z",
     "iopub.status.busy": "2021-07-26T10:57:50.408003Z",
     "iopub.status.idle": "2021-07-26T10:57:50.413599Z",
     "shell.execute_reply": "2021-07-26T10:57:50.414077Z"
    },
    "id": "Nub6hm0O75AZ",
    "papermill": {
     "duration": 0.201836,
     "end_time": "2021-07-26T10:57:50.414297",
     "exception": false,
     "start_time": "2021-07-26T10:57:50.212461",
     "status": "completed"
    },
    "tags": []
   },
   "outputs": [],
   "source": [
    "predict = log_clf.predict(X_test)"
   ]
  },
  {
   "cell_type": "code",
   "execution_count": 61,
   "id": "7d2fdf6f",
   "metadata": {
    "execution": {
     "iopub.execute_input": "2021-07-26T10:57:50.852635Z",
     "iopub.status.busy": "2021-07-26T10:57:50.851687Z",
     "iopub.status.idle": "2021-07-26T10:57:50.857810Z",
     "shell.execute_reply": "2021-07-26T10:57:50.857150Z"
    },
    "id": "8TN7wB0y75AZ",
    "papermill": {
     "duration": 0.203234,
     "end_time": "2021-07-26T10:57:50.858020",
     "exception": false,
     "start_time": "2021-07-26T10:57:50.654786",
     "status": "completed"
    },
    "tags": []
   },
   "outputs": [
    {
     "name": "stdout",
     "output_type": "stream",
     "text": [
      "0.25000000000000006\n"
     ]
    }
   ],
   "source": [
    "f_score = f1_score(predict, y_test)\n",
    "print(f_score)"
   ]
  },
  {
   "cell_type": "markdown",
   "id": "19e13ba8",
   "metadata": {
    "id": "pArGGIR875AZ",
    "papermill": {
     "duration": 0.190885,
     "end_time": "2021-07-26T10:57:51.239543",
     "exception": false,
     "start_time": "2021-07-26T10:57:51.048658",
     "status": "completed"
    },
    "tags": []
   },
   "source": [
    "Unfortunately, we got a rather low result. But this fact is due to the fact that in order to reduce the training time, we had to transfer not the entire set for training, and we had to cut off the sentences that the model could work with them, which could affect the context"
   ]
  },
  {
   "cell_type": "code",
   "execution_count": 62,
   "id": "4331b6e5",
   "metadata": {
    "execution": {
     "iopub.execute_input": "2021-07-26T10:57:51.627000Z",
     "iopub.status.busy": "2021-07-26T10:57:51.626350Z",
     "iopub.status.idle": "2021-07-26T10:57:51.629341Z",
     "shell.execute_reply": "2021-07-26T10:57:51.628852Z"
    },
    "id": "_9PrQ5W075AZ",
    "papermill": {
     "duration": 0.199433,
     "end_time": "2021-07-26T10:57:51.629484",
     "exception": false,
     "start_time": "2021-07-26T10:57:51.430051",
     "status": "completed"
    },
    "tags": []
   },
   "outputs": [],
   "source": [
    "model_name.append(str(log_clf.__class__.__name__)+str(' ')+str('BERT'))\n",
    "fscore.append(round(f_score, 2))"
   ]
  },
  {
   "cell_type": "markdown",
   "id": "a1c736ce",
   "metadata": {
    "id": "VKAQhnZE75Aa",
    "papermill": {
     "duration": 0.192265,
     "end_time": "2021-07-26T10:57:52.012708",
     "exception": false,
     "start_time": "2021-07-26T10:57:51.820443",
     "status": "completed"
    },
    "tags": []
   },
   "source": [
    "### Sanity check"
   ]
  },
  {
   "cell_type": "markdown",
   "id": "eb8bf0c0",
   "metadata": {
    "id": "2jyaXHJD75Aa",
    "papermill": {
     "duration": 0.19161,
     "end_time": "2021-07-26T10:57:52.397156",
     "exception": false,
     "start_time": "2021-07-26T10:57:52.205546",
     "status": "completed"
    },
    "tags": []
   },
   "source": [
    "Let's build a constant model. She will predict 1 - toxic comment everywhere, since our goal is to identify them."
   ]
  },
  {
   "cell_type": "code",
   "execution_count": 63,
   "id": "d7942dcc",
   "metadata": {
    "execution": {
     "iopub.execute_input": "2021-07-26T10:57:52.782135Z",
     "iopub.status.busy": "2021-07-26T10:57:52.781517Z",
     "iopub.status.idle": "2021-07-26T10:57:52.786404Z",
     "shell.execute_reply": "2021-07-26T10:57:52.785820Z"
    },
    "id": "HI5ec3uF75Aa",
    "papermill": {
     "duration": 0.198895,
     "end_time": "2021-07-26T10:57:52.786544",
     "exception": false,
     "start_time": "2021-07-26T10:57:52.587649",
     "status": "completed"
    },
    "tags": []
   },
   "outputs": [],
   "source": [
    "dummy = DummyClassifier(random_state=42, strategy='constant', constant=1)"
   ]
  },
  {
   "cell_type": "code",
   "execution_count": 64,
   "id": "e65fb441",
   "metadata": {
    "execution": {
     "iopub.execute_input": "2021-07-26T10:57:53.176900Z",
     "iopub.status.busy": "2021-07-26T10:57:53.176250Z",
     "iopub.status.idle": "2021-07-26T10:57:53.186862Z",
     "shell.execute_reply": "2021-07-26T10:57:53.186375Z"
    },
    "id": "O0B2YaJU75Aa",
    "papermill": {
     "duration": 0.209675,
     "end_time": "2021-07-26T10:57:53.187030",
     "exception": false,
     "start_time": "2021-07-26T10:57:52.977355",
     "status": "completed"
    },
    "tags": []
   },
   "outputs": [],
   "source": [
    "dummy.fit(features_train, target_train)\n",
    "dummy_pred = dummy.predict(features_test)"
   ]
  },
  {
   "cell_type": "code",
   "execution_count": 65,
   "id": "a787dc8a",
   "metadata": {
    "execution": {
     "iopub.execute_input": "2021-07-26T10:57:53.572852Z",
     "iopub.status.busy": "2021-07-26T10:57:53.572224Z",
     "iopub.status.idle": "2021-07-26T10:57:53.596654Z",
     "shell.execute_reply": "2021-07-26T10:57:53.597249Z"
    },
    "id": "FpNh-I7i75Aa",
    "papermill": {
     "duration": 0.22098,
     "end_time": "2021-07-26T10:57:53.597437",
     "exception": false,
     "start_time": "2021-07-26T10:57:53.376457",
     "status": "completed"
    },
    "tags": []
   },
   "outputs": [
    {
     "name": "stdout",
     "output_type": "stream",
     "text": [
      "Const: 0.17456758488148622\n"
     ]
    }
   ],
   "source": [
    "f1_const = f1_score(target_test, dummy_pred)\n",
    "\n",
    "print(\"Const:\", f1_const)"
   ]
  },
  {
   "cell_type": "code",
   "execution_count": 66,
   "id": "15348459",
   "metadata": {
    "execution": {
     "iopub.execute_input": "2021-07-26T10:57:53.988130Z",
     "iopub.status.busy": "2021-07-26T10:57:53.987484Z",
     "iopub.status.idle": "2021-07-26T10:57:53.991104Z",
     "shell.execute_reply": "2021-07-26T10:57:53.990036Z"
    },
    "id": "bDmRtARp75Aa",
    "papermill": {
     "duration": 0.204503,
     "end_time": "2021-07-26T10:57:53.991268",
     "exception": false,
     "start_time": "2021-07-26T10:57:53.786765",
     "status": "completed"
    },
    "tags": []
   },
   "outputs": [],
   "source": [
    "model_name.append(str(dummy.__class__.__name__)+str(' ')+str('const 1'))\n",
    "fscore.append(round(f1_const, 2))"
   ]
  },
  {
   "cell_type": "markdown",
   "id": "032c2edd",
   "metadata": {
    "id": "scP1Q6jR75Aa",
    "papermill": {
     "duration": 0.192918,
     "end_time": "2021-07-26T10:57:54.375832",
     "exception": false,
     "start_time": "2021-07-26T10:57:54.182914",
     "status": "completed"
    },
    "tags": []
   },
   "source": [
    "## Summary"
   ]
  },
  {
   "cell_type": "code",
   "execution_count": 67,
   "id": "e359011f",
   "metadata": {
    "execution": {
     "iopub.execute_input": "2021-07-26T10:57:54.770451Z",
     "iopub.status.busy": "2021-07-26T10:57:54.769737Z",
     "iopub.status.idle": "2021-07-26T10:57:54.813777Z",
     "shell.execute_reply": "2021-07-26T10:57:54.813278Z"
    },
    "id": "wTKvqrwm75Aa",
    "papermill": {
     "duration": 0.246864,
     "end_time": "2021-07-26T10:57:54.813929",
     "exception": false,
     "start_time": "2021-07-26T10:57:54.567065",
     "status": "completed"
    },
    "tags": []
   },
   "outputs": [
    {
     "data": {
      "text/html": [
       "<style  type=\"text/css\" >\n",
       "#T_dff1b_row0_col1,#T_dff1b_row1_col1{\n",
       "            background-color:  green;\n",
       "        }</style><table id=\"T_dff1b_\" ><thead>    <tr>        <th class=\"blank level0\" ></th>        <th class=\"col_heading level0 col0\" >model</th>        <th class=\"col_heading level0 col1\" >F1</th>    </tr></thead><tbody>\n",
       "                <tr>\n",
       "                        <th id=\"T_dff1b_level0_row0\" class=\"row_heading level0 row0\" >1</th>\n",
       "                        <td id=\"T_dff1b_row0_col0\" class=\"data row0 col0\" >RandomForestClassifier class_weight balanced</td>\n",
       "                        <td id=\"T_dff1b_row0_col1\" class=\"data row0 col1\" >0.680000</td>\n",
       "            </tr>\n",
       "            <tr>\n",
       "                        <th id=\"T_dff1b_level0_row1\" class=\"row_heading level0 row1\" >2</th>\n",
       "                        <td id=\"T_dff1b_row1_col0\" class=\"data row1 col0\" >SGDClassifier class_weight balanced</td>\n",
       "                        <td id=\"T_dff1b_row1_col1\" class=\"data row1 col1\" >0.680000</td>\n",
       "            </tr>\n",
       "            <tr>\n",
       "                        <th id=\"T_dff1b_level0_row2\" class=\"row_heading level0 row2\" >0</th>\n",
       "                        <td id=\"T_dff1b_row2_col0\" class=\"data row2 col0\" >RandomForestClassifier downsampling)</td>\n",
       "                        <td id=\"T_dff1b_row2_col1\" class=\"data row2 col1\" >0.650000</td>\n",
       "            </tr>\n",
       "            <tr>\n",
       "                        <th id=\"T_dff1b_level0_row3\" class=\"row_heading level0 row3\" >3</th>\n",
       "                        <td id=\"T_dff1b_row3_col0\" class=\"data row3 col0\" >LogisticRegression BERT</td>\n",
       "                        <td id=\"T_dff1b_row3_col1\" class=\"data row3 col1\" >0.250000</td>\n",
       "            </tr>\n",
       "            <tr>\n",
       "                        <th id=\"T_dff1b_level0_row4\" class=\"row_heading level0 row4\" >4</th>\n",
       "                        <td id=\"T_dff1b_row4_col0\" class=\"data row4 col0\" >DummyClassifier const 1</td>\n",
       "                        <td id=\"T_dff1b_row4_col1\" class=\"data row4 col1\" >0.170000</td>\n",
       "            </tr>\n",
       "    </tbody></table>"
      ],
      "text/plain": [
       "<pandas.io.formats.style.Styler at 0x7eff32896f10>"
      ]
     },
     "execution_count": 67,
     "metadata": {},
     "output_type": "execute_result"
    }
   ],
   "source": [
    "summary = pd.DataFrame(\n",
    "    { 'model' : model_name , 'F1' : fscore }\n",
    "    ).reset_index( drop = True ).sort_values(by='F1', ascending=False)\n",
    "\n",
    "summary.style.highlight_max( 'F1' , color = 'green' , axis = 0 )\n"
   ]
  },
  {
   "cell_type": "markdown",
   "id": "224db219",
   "metadata": {
    "id": "yw7_Ny-975Aa",
    "papermill": {
     "duration": 0.194821,
     "end_time": "2021-07-26T10:57:55.205077",
     "exception": false,
     "start_time": "2021-07-26T10:57:55.010256",
     "status": "completed"
    },
    "tags": []
   },
   "source": [
    "Thus, acceptable results were obtained on randomforest and a model based on the SGB algorithm - they adequately correlate with both the operating time and the quality of the F1 measure. Logistic regression based on BERT to classify long texts such as comments for these purposes is not worth it - you have to truncate the text, which can affect the context, you have to limit the amount of data for training and prediction.\n",
    "\n",
    "\n",
    "I believe that for these purposes the best model is based on stochastic gradient descent from the sklearn library - SGDClassifier with the class weights parameter set - as 'balanced'"
   ]
  },
  {
   "cell_type": "markdown",
   "id": "a89cb157",
   "metadata": {
    "id": "NYrtd7WMANIV",
    "papermill": {
     "duration": 0.192613,
     "end_time": "2021-07-26T10:57:55.591103",
     "exception": false,
     "start_time": "2021-07-26T10:57:55.398490",
     "status": "completed"
    },
    "tags": []
   },
   "source": [
    "\n",
    "---\n",
    "<font size=\"1\">\n",
    "ArtyKraftyy\n",
    "</font>     \n"
   ]
  }
 ],
 "metadata": {
  "kernelspec": {
   "display_name": "Python 3",
   "language": "python",
   "name": "python3"
  },
  "language_info": {
   "codemirror_mode": {
    "name": "ipython",
    "version": 3
   },
   "file_extension": ".py",
   "mimetype": "text/x-python",
   "name": "python",
   "nbconvert_exporter": "python",
   "pygments_lexer": "ipython3",
   "version": "3.7.10"
  },
  "papermill": {
   "default_parameters": {},
   "duration": 1450.772823,
   "end_time": "2021-07-26T10:57:58.829488",
   "environment_variables": {},
   "exception": null,
   "input_path": "__notebook__.ipynb",
   "output_path": "__notebook__.ipynb",
   "parameters": {},
   "start_time": "2021-07-26T10:33:48.056665",
   "version": "2.3.3"
  },
  "widgets": {
   "application/vnd.jupyter.widget-state+json": {
    "state": {
     "028f71c6a4024d4eac95e6ac26b45433": {
      "model_module": "@jupyter-widgets/controls",
      "model_module_version": "1.5.0",
      "model_name": "HTMLModel",
      "state": {
       "_dom_classes": [],
       "_model_module": "@jupyter-widgets/controls",
       "_model_module_version": "1.5.0",
       "_model_name": "HTMLModel",
       "_view_count": null,
       "_view_module": "@jupyter-widgets/controls",
       "_view_module_version": "1.5.0",
       "_view_name": "HTMLView",
       "description": "",
       "description_tooltip": null,
       "layout": "IPY_MODEL_f77eed00a08c4efc86f13d0bb352e842",
       "placeholder": "​",
       "style": "IPY_MODEL_c564902dc42a4e2995e97d741d2eed77",
       "value": " 466k/466k [00:00&lt;00:00, 1.60MB/s]"
      }
     },
     "02c1fdbe8c4844479a01cfd40e1e1a44": {
      "model_module": "@jupyter-widgets/controls",
      "model_module_version": "1.5.0",
      "model_name": "HBoxModel",
      "state": {
       "_dom_classes": [],
       "_model_module": "@jupyter-widgets/controls",
       "_model_module_version": "1.5.0",
       "_model_name": "HBoxModel",
       "_view_count": null,
       "_view_module": "@jupyter-widgets/controls",
       "_view_module_version": "1.5.0",
       "_view_name": "HBoxView",
       "box_style": "",
       "children": [
        "IPY_MODEL_75843131d5744335861441f447d11585",
        "IPY_MODEL_2f74cf9e6be6490e9be28826f03ab9a0",
        "IPY_MODEL_028f71c6a4024d4eac95e6ac26b45433"
       ],
       "layout": "IPY_MODEL_4bd6582af954406096236498714f3321"
      }
     },
     "03ec3b2e639d47bba1d29872d101cf6e": {
      "model_module": "@jupyter-widgets/base",
      "model_module_version": "1.2.0",
      "model_name": "LayoutModel",
      "state": {
       "_model_module": "@jupyter-widgets/base",
       "_model_module_version": "1.2.0",
       "_model_name": "LayoutModel",
       "_view_count": null,
       "_view_module": "@jupyter-widgets/base",
       "_view_module_version": "1.2.0",
       "_view_name": "LayoutView",
       "align_content": null,
       "align_items": null,
       "align_self": null,
       "border": null,
       "bottom": null,
       "display": null,
       "flex": null,
       "flex_flow": null,
       "grid_area": null,
       "grid_auto_columns": null,
       "grid_auto_flow": null,
       "grid_auto_rows": null,
       "grid_column": null,
       "grid_gap": null,
       "grid_row": null,
       "grid_template_areas": null,
       "grid_template_columns": null,
       "grid_template_rows": null,
       "height": null,
       "justify_content": null,
       "justify_items": null,
       "left": null,
       "margin": null,
       "max_height": null,
       "max_width": null,
       "min_height": null,
       "min_width": null,
       "object_fit": null,
       "object_position": null,
       "order": null,
       "overflow": null,
       "overflow_x": null,
       "overflow_y": null,
       "padding": null,
       "right": null,
       "top": null,
       "visibility": null,
       "width": null
      }
     },
     "0735c8f400f84d9fb1462d7ef5854418": {
      "model_module": "@jupyter-widgets/controls",
      "model_module_version": "1.5.0",
      "model_name": "DescriptionStyleModel",
      "state": {
       "_model_module": "@jupyter-widgets/controls",
       "_model_module_version": "1.5.0",
       "_model_name": "DescriptionStyleModel",
       "_view_count": null,
       "_view_module": "@jupyter-widgets/base",
       "_view_module_version": "1.2.0",
       "_view_name": "StyleView",
       "description_width": ""
      }
     },
     "16f13b9df21b42dea747af88b127cb9f": {
      "model_module": "@jupyter-widgets/base",
      "model_module_version": "1.2.0",
      "model_name": "LayoutModel",
      "state": {
       "_model_module": "@jupyter-widgets/base",
       "_model_module_version": "1.2.0",
       "_model_name": "LayoutModel",
       "_view_count": null,
       "_view_module": "@jupyter-widgets/base",
       "_view_module_version": "1.2.0",
       "_view_name": "LayoutView",
       "align_content": null,
       "align_items": null,
       "align_self": null,
       "border": null,
       "bottom": null,
       "display": null,
       "flex": null,
       "flex_flow": null,
       "grid_area": null,
       "grid_auto_columns": null,
       "grid_auto_flow": null,
       "grid_auto_rows": null,
       "grid_column": null,
       "grid_gap": null,
       "grid_row": null,
       "grid_template_areas": null,
       "grid_template_columns": null,
       "grid_template_rows": null,
       "height": null,
       "justify_content": null,
       "justify_items": null,
       "left": null,
       "margin": null,
       "max_height": null,
       "max_width": null,
       "min_height": null,
       "min_width": null,
       "object_fit": null,
       "object_position": null,
       "order": null,
       "overflow": null,
       "overflow_x": null,
       "overflow_y": null,
       "padding": null,
       "right": null,
       "top": null,
       "visibility": null,
       "width": null
      }
     },
     "1ef56aadf8584643a5802c592335a765": {
      "model_module": "@jupyter-widgets/controls",
      "model_module_version": "1.5.0",
      "model_name": "ProgressStyleModel",
      "state": {
       "_model_module": "@jupyter-widgets/controls",
       "_model_module_version": "1.5.0",
       "_model_name": "ProgressStyleModel",
       "_view_count": null,
       "_view_module": "@jupyter-widgets/base",
       "_view_module_version": "1.2.0",
       "_view_name": "StyleView",
       "bar_color": null,
       "description_width": ""
      }
     },
     "2c9505be4cc54b02b35a1321bae813b9": {
      "model_module": "@jupyter-widgets/base",
      "model_module_version": "1.2.0",
      "model_name": "LayoutModel",
      "state": {
       "_model_module": "@jupyter-widgets/base",
       "_model_module_version": "1.2.0",
       "_model_name": "LayoutModel",
       "_view_count": null,
       "_view_module": "@jupyter-widgets/base",
       "_view_module_version": "1.2.0",
       "_view_name": "LayoutView",
       "align_content": null,
       "align_items": null,
       "align_self": null,
       "border": null,
       "bottom": null,
       "display": null,
       "flex": null,
       "flex_flow": null,
       "grid_area": null,
       "grid_auto_columns": null,
       "grid_auto_flow": null,
       "grid_auto_rows": null,
       "grid_column": null,
       "grid_gap": null,
       "grid_row": null,
       "grid_template_areas": null,
       "grid_template_columns": null,
       "grid_template_rows": null,
       "height": null,
       "justify_content": null,
       "justify_items": null,
       "left": null,
       "margin": null,
       "max_height": null,
       "max_width": null,
       "min_height": null,
       "min_width": null,
       "object_fit": null,
       "object_position": null,
       "order": null,
       "overflow": null,
       "overflow_x": null,
       "overflow_y": null,
       "padding": null,
       "right": null,
       "top": null,
       "visibility": null,
       "width": null
      }
     },
     "2f74cf9e6be6490e9be28826f03ab9a0": {
      "model_module": "@jupyter-widgets/controls",
      "model_module_version": "1.5.0",
      "model_name": "FloatProgressModel",
      "state": {
       "_dom_classes": [],
       "_model_module": "@jupyter-widgets/controls",
       "_model_module_version": "1.5.0",
       "_model_name": "FloatProgressModel",
       "_view_count": null,
       "_view_module": "@jupyter-widgets/controls",
       "_view_module_version": "1.5.0",
       "_view_name": "ProgressView",
       "bar_style": "success",
       "description": "",
       "description_tooltip": null,
       "layout": "IPY_MODEL_bac3f61eb3f24488a0a2cf82b9b49a14",
       "max": 466062.0,
       "min": 0.0,
       "orientation": "horizontal",
       "style": "IPY_MODEL_7620d639740f43669c9097945d3c5cad",
       "value": 466062.0
      }
     },
     "36c888a70b834308b5d89ff153f6eeaa": {
      "model_module": "@jupyter-widgets/controls",
      "model_module_version": "1.5.0",
      "model_name": "HBoxModel",
      "state": {
       "_dom_classes": [],
       "_model_module": "@jupyter-widgets/controls",
       "_model_module_version": "1.5.0",
       "_model_name": "HBoxModel",
       "_view_count": null,
       "_view_module": "@jupyter-widgets/controls",
       "_view_module_version": "1.5.0",
       "_view_name": "HBoxView",
       "box_style": "",
       "children": [
        "IPY_MODEL_4704930401c24258952ec1e3b427738d",
        "IPY_MODEL_5acd959050d14b74b27994c091fbf7cc",
        "IPY_MODEL_917a6801609a4259a03238f8b6975785"
       ],
       "layout": "IPY_MODEL_bced4e50bfaa41b5aa8d32c02b947425"
      }
     },
     "3bb9480df46b4bf69fab4200ea4f0d1b": {
      "model_module": "@jupyter-widgets/controls",
      "model_module_version": "1.5.0",
      "model_name": "DescriptionStyleModel",
      "state": {
       "_model_module": "@jupyter-widgets/controls",
       "_model_module_version": "1.5.0",
       "_model_name": "DescriptionStyleModel",
       "_view_count": null,
       "_view_module": "@jupyter-widgets/base",
       "_view_module_version": "1.2.0",
       "_view_name": "StyleView",
       "description_width": ""
      }
     },
     "3ef97c78e21844289b02f4ffaf847d0d": {
      "model_module": "@jupyter-widgets/controls",
      "model_module_version": "1.5.0",
      "model_name": "ProgressStyleModel",
      "state": {
       "_model_module": "@jupyter-widgets/controls",
       "_model_module_version": "1.5.0",
       "_model_name": "ProgressStyleModel",
       "_view_count": null,
       "_view_module": "@jupyter-widgets/base",
       "_view_module_version": "1.2.0",
       "_view_name": "StyleView",
       "bar_color": null,
       "description_width": ""
      }
     },
     "409f8058e1ff497092f23f11a0ada7cf": {
      "model_module": "@jupyter-widgets/base",
      "model_module_version": "1.2.0",
      "model_name": "LayoutModel",
      "state": {
       "_model_module": "@jupyter-widgets/base",
       "_model_module_version": "1.2.0",
       "_model_name": "LayoutModel",
       "_view_count": null,
       "_view_module": "@jupyter-widgets/base",
       "_view_module_version": "1.2.0",
       "_view_name": "LayoutView",
       "align_content": null,
       "align_items": null,
       "align_self": null,
       "border": null,
       "bottom": null,
       "display": null,
       "flex": null,
       "flex_flow": null,
       "grid_area": null,
       "grid_auto_columns": null,
       "grid_auto_flow": null,
       "grid_auto_rows": null,
       "grid_column": null,
       "grid_gap": null,
       "grid_row": null,
       "grid_template_areas": null,
       "grid_template_columns": null,
       "grid_template_rows": null,
       "height": null,
       "justify_content": null,
       "justify_items": null,
       "left": null,
       "margin": null,
       "max_height": null,
       "max_width": null,
       "min_height": null,
       "min_width": null,
       "object_fit": null,
       "object_position": null,
       "order": null,
       "overflow": null,
       "overflow_x": null,
       "overflow_y": null,
       "padding": null,
       "right": null,
       "top": null,
       "visibility": null,
       "width": null
      }
     },
     "410fd00bb4a94ecfab2833029ead96d2": {
      "model_module": "@jupyter-widgets/controls",
      "model_module_version": "1.5.0",
      "model_name": "HTMLModel",
      "state": {
       "_dom_classes": [],
       "_model_module": "@jupyter-widgets/controls",
       "_model_module_version": "1.5.0",
       "_model_name": "HTMLModel",
       "_view_count": null,
       "_view_module": "@jupyter-widgets/controls",
       "_view_module_version": "1.5.0",
       "_view_name": "HTMLView",
       "description": "",
       "description_tooltip": null,
       "layout": "IPY_MODEL_a3a6ef07eea14d0bb5fe63173f134325",
       "placeholder": "​",
       "style": "IPY_MODEL_63ab9c1cd3e34d3ab5642f711f170b0d",
       "value": " 28.0/28.0 [00:00&lt;00:00, 997B/s]"
      }
     },
     "438a075b8b104383856bb234655023df": {
      "model_module": "@jupyter-widgets/base",
      "model_module_version": "1.2.0",
      "model_name": "LayoutModel",
      "state": {
       "_model_module": "@jupyter-widgets/base",
       "_model_module_version": "1.2.0",
       "_model_name": "LayoutModel",
       "_view_count": null,
       "_view_module": "@jupyter-widgets/base",
       "_view_module_version": "1.2.0",
       "_view_name": "LayoutView",
       "align_content": null,
       "align_items": null,
       "align_self": null,
       "border": null,
       "bottom": null,
       "display": null,
       "flex": null,
       "flex_flow": null,
       "grid_area": null,
       "grid_auto_columns": null,
       "grid_auto_flow": null,
       "grid_auto_rows": null,
       "grid_column": null,
       "grid_gap": null,
       "grid_row": null,
       "grid_template_areas": null,
       "grid_template_columns": null,
       "grid_template_rows": null,
       "height": null,
       "justify_content": null,
       "justify_items": null,
       "left": null,
       "margin": null,
       "max_height": null,
       "max_width": null,
       "min_height": null,
       "min_width": null,
       "object_fit": null,
       "object_position": null,
       "order": null,
       "overflow": null,
       "overflow_x": null,
       "overflow_y": null,
       "padding": null,
       "right": null,
       "top": null,
       "visibility": null,
       "width": null
      }
     },
     "439f5f36749f449c9029c1387876a2d8": {
      "model_module": "@jupyter-widgets/controls",
      "model_module_version": "1.5.0",
      "model_name": "HTMLModel",
      "state": {
       "_dom_classes": [],
       "_model_module": "@jupyter-widgets/controls",
       "_model_module_version": "1.5.0",
       "_model_name": "HTMLModel",
       "_view_count": null,
       "_view_module": "@jupyter-widgets/controls",
       "_view_module_version": "1.5.0",
       "_view_name": "HTMLView",
       "description": "",
       "description_tooltip": null,
       "layout": "IPY_MODEL_16f13b9df21b42dea747af88b127cb9f",
       "placeholder": "​",
       "style": "IPY_MODEL_3bb9480df46b4bf69fab4200ea4f0d1b",
       "value": "Downloading: 100%"
      }
     },
     "45608e22abbc46298e5c3c3deeb74a0a": {
      "model_module": "@jupyter-widgets/base",
      "model_module_version": "1.2.0",
      "model_name": "LayoutModel",
      "state": {
       "_model_module": "@jupyter-widgets/base",
       "_model_module_version": "1.2.0",
       "_model_name": "LayoutModel",
       "_view_count": null,
       "_view_module": "@jupyter-widgets/base",
       "_view_module_version": "1.2.0",
       "_view_name": "LayoutView",
       "align_content": null,
       "align_items": null,
       "align_self": null,
       "border": null,
       "bottom": null,
       "display": null,
       "flex": null,
       "flex_flow": null,
       "grid_area": null,
       "grid_auto_columns": null,
       "grid_auto_flow": null,
       "grid_auto_rows": null,
       "grid_column": null,
       "grid_gap": null,
       "grid_row": null,
       "grid_template_areas": null,
       "grid_template_columns": null,
       "grid_template_rows": null,
       "height": null,
       "justify_content": null,
       "justify_items": null,
       "left": null,
       "margin": null,
       "max_height": null,
       "max_width": null,
       "min_height": null,
       "min_width": null,
       "object_fit": null,
       "object_position": null,
       "order": null,
       "overflow": null,
       "overflow_x": null,
       "overflow_y": null,
       "padding": null,
       "right": null,
       "top": null,
       "visibility": null,
       "width": null
      }
     },
     "4704930401c24258952ec1e3b427738d": {
      "model_module": "@jupyter-widgets/controls",
      "model_module_version": "1.5.0",
      "model_name": "HTMLModel",
      "state": {
       "_dom_classes": [],
       "_model_module": "@jupyter-widgets/controls",
       "_model_module_version": "1.5.0",
       "_model_name": "HTMLModel",
       "_view_count": null,
       "_view_module": "@jupyter-widgets/controls",
       "_view_module_version": "1.5.0",
       "_view_name": "HTMLView",
       "description": "",
       "description_tooltip": null,
       "layout": "IPY_MODEL_c2f7d5b1378e4be2aa8cd642659c561a",
       "placeholder": "​",
       "style": "IPY_MODEL_0735c8f400f84d9fb1462d7ef5854418",
       "value": "100%"
      }
     },
     "4bd6582af954406096236498714f3321": {
      "model_module": "@jupyter-widgets/base",
      "model_module_version": "1.2.0",
      "model_name": "LayoutModel",
      "state": {
       "_model_module": "@jupyter-widgets/base",
       "_model_module_version": "1.2.0",
       "_model_name": "LayoutModel",
       "_view_count": null,
       "_view_module": "@jupyter-widgets/base",
       "_view_module_version": "1.2.0",
       "_view_name": "LayoutView",
       "align_content": null,
       "align_items": null,
       "align_self": null,
       "border": null,
       "bottom": null,
       "display": null,
       "flex": null,
       "flex_flow": null,
       "grid_area": null,
       "grid_auto_columns": null,
       "grid_auto_flow": null,
       "grid_auto_rows": null,
       "grid_column": null,
       "grid_gap": null,
       "grid_row": null,
       "grid_template_areas": null,
       "grid_template_columns": null,
       "grid_template_rows": null,
       "height": null,
       "justify_content": null,
       "justify_items": null,
       "left": null,
       "margin": null,
       "max_height": null,
       "max_width": null,
       "min_height": null,
       "min_width": null,
       "object_fit": null,
       "object_position": null,
       "order": null,
       "overflow": null,
       "overflow_x": null,
       "overflow_y": null,
       "padding": null,
       "right": null,
       "top": null,
       "visibility": null,
       "width": null
      }
     },
     "4bdd754d33dd45fa82931b93463cc911": {
      "model_module": "@jupyter-widgets/base",
      "model_module_version": "1.2.0",
      "model_name": "LayoutModel",
      "state": {
       "_model_module": "@jupyter-widgets/base",
       "_model_module_version": "1.2.0",
       "_model_name": "LayoutModel",
       "_view_count": null,
       "_view_module": "@jupyter-widgets/base",
       "_view_module_version": "1.2.0",
       "_view_name": "LayoutView",
       "align_content": null,
       "align_items": null,
       "align_self": null,
       "border": null,
       "bottom": null,
       "display": null,
       "flex": null,
       "flex_flow": null,
       "grid_area": null,
       "grid_auto_columns": null,
       "grid_auto_flow": null,
       "grid_auto_rows": null,
       "grid_column": null,
       "grid_gap": null,
       "grid_row": null,
       "grid_template_areas": null,
       "grid_template_columns": null,
       "grid_template_rows": null,
       "height": null,
       "justify_content": null,
       "justify_items": null,
       "left": null,
       "margin": null,
       "max_height": null,
       "max_width": null,
       "min_height": null,
       "min_width": null,
       "object_fit": null,
       "object_position": null,
       "order": null,
       "overflow": null,
       "overflow_x": null,
       "overflow_y": null,
       "padding": null,
       "right": null,
       "top": null,
       "visibility": null,
       "width": null
      }
     },
     "50dd4dba6a904fae85b23b8e57750cf0": {
      "model_module": "@jupyter-widgets/base",
      "model_module_version": "1.2.0",
      "model_name": "LayoutModel",
      "state": {
       "_model_module": "@jupyter-widgets/base",
       "_model_module_version": "1.2.0",
       "_model_name": "LayoutModel",
       "_view_count": null,
       "_view_module": "@jupyter-widgets/base",
       "_view_module_version": "1.2.0",
       "_view_name": "LayoutView",
       "align_content": null,
       "align_items": null,
       "align_self": null,
       "border": null,
       "bottom": null,
       "display": null,
       "flex": null,
       "flex_flow": null,
       "grid_area": null,
       "grid_auto_columns": null,
       "grid_auto_flow": null,
       "grid_auto_rows": null,
       "grid_column": null,
       "grid_gap": null,
       "grid_row": null,
       "grid_template_areas": null,
       "grid_template_columns": null,
       "grid_template_rows": null,
       "height": null,
       "justify_content": null,
       "justify_items": null,
       "left": null,
       "margin": null,
       "max_height": null,
       "max_width": null,
       "min_height": null,
       "min_width": null,
       "object_fit": null,
       "object_position": null,
       "order": null,
       "overflow": null,
       "overflow_x": null,
       "overflow_y": null,
       "padding": null,
       "right": null,
       "top": null,
       "visibility": null,
       "width": null
      }
     },
     "5acd959050d14b74b27994c091fbf7cc": {
      "model_module": "@jupyter-widgets/controls",
      "model_module_version": "1.5.0",
      "model_name": "FloatProgressModel",
      "state": {
       "_dom_classes": [],
       "_model_module": "@jupyter-widgets/controls",
       "_model_module_version": "1.5.0",
       "_model_name": "FloatProgressModel",
       "_view_count": null,
       "_view_module": "@jupyter-widgets/controls",
       "_view_module_version": "1.5.0",
       "_view_name": "ProgressView",
       "bar_style": "success",
       "description": "",
       "description_tooltip": null,
       "layout": "IPY_MODEL_8b13dad162e247ac87d74e9252f9a275",
       "max": 3.0,
       "min": 0.0,
       "orientation": "horizontal",
       "style": "IPY_MODEL_d8cedfb2a8e544ff813f4aee32d664f9",
       "value": 3.0
      }
     },
     "628cbd4976d74879846c6e4b07c31067": {
      "model_module": "@jupyter-widgets/base",
      "model_module_version": "1.2.0",
      "model_name": "LayoutModel",
      "state": {
       "_model_module": "@jupyter-widgets/base",
       "_model_module_version": "1.2.0",
       "_model_name": "LayoutModel",
       "_view_count": null,
       "_view_module": "@jupyter-widgets/base",
       "_view_module_version": "1.2.0",
       "_view_name": "LayoutView",
       "align_content": null,
       "align_items": null,
       "align_self": null,
       "border": null,
       "bottom": null,
       "display": null,
       "flex": null,
       "flex_flow": null,
       "grid_area": null,
       "grid_auto_columns": null,
       "grid_auto_flow": null,
       "grid_auto_rows": null,
       "grid_column": null,
       "grid_gap": null,
       "grid_row": null,
       "grid_template_areas": null,
       "grid_template_columns": null,
       "grid_template_rows": null,
       "height": null,
       "justify_content": null,
       "justify_items": null,
       "left": null,
       "margin": null,
       "max_height": null,
       "max_width": null,
       "min_height": null,
       "min_width": null,
       "object_fit": null,
       "object_position": null,
       "order": null,
       "overflow": null,
       "overflow_x": null,
       "overflow_y": null,
       "padding": null,
       "right": null,
       "top": null,
       "visibility": null,
       "width": null
      }
     },
     "63ab9c1cd3e34d3ab5642f711f170b0d": {
      "model_module": "@jupyter-widgets/controls",
      "model_module_version": "1.5.0",
      "model_name": "DescriptionStyleModel",
      "state": {
       "_model_module": "@jupyter-widgets/controls",
       "_model_module_version": "1.5.0",
       "_model_name": "DescriptionStyleModel",
       "_view_count": null,
       "_view_module": "@jupyter-widgets/base",
       "_view_module_version": "1.2.0",
       "_view_name": "StyleView",
       "description_width": ""
      }
     },
     "65a21bf2ca03438bab510302d72d5705": {
      "model_module": "@jupyter-widgets/controls",
      "model_module_version": "1.5.0",
      "model_name": "ProgressStyleModel",
      "state": {
       "_model_module": "@jupyter-widgets/controls",
       "_model_module_version": "1.5.0",
       "_model_name": "ProgressStyleModel",
       "_view_count": null,
       "_view_module": "@jupyter-widgets/base",
       "_view_module_version": "1.2.0",
       "_view_name": "StyleView",
       "bar_color": null,
       "description_width": ""
      }
     },
     "68999c7f39dc4c3f8f707f15e3e1118b": {
      "model_module": "@jupyter-widgets/controls",
      "model_module_version": "1.5.0",
      "model_name": "HBoxModel",
      "state": {
       "_dom_classes": [],
       "_model_module": "@jupyter-widgets/controls",
       "_model_module_version": "1.5.0",
       "_model_name": "HBoxModel",
       "_view_count": null,
       "_view_module": "@jupyter-widgets/controls",
       "_view_module_version": "1.5.0",
       "_view_name": "HBoxView",
       "box_style": "",
       "children": [
        "IPY_MODEL_439f5f36749f449c9029c1387876a2d8",
        "IPY_MODEL_9669a5e0961a46ae8ec5b0658213874e",
        "IPY_MODEL_410fd00bb4a94ecfab2833029ead96d2"
       ],
       "layout": "IPY_MODEL_f6b207bc6e9f4969a2ba7f765ff1b675"
      }
     },
     "75843131d5744335861441f447d11585": {
      "model_module": "@jupyter-widgets/controls",
      "model_module_version": "1.5.0",
      "model_name": "HTMLModel",
      "state": {
       "_dom_classes": [],
       "_model_module": "@jupyter-widgets/controls",
       "_model_module_version": "1.5.0",
       "_model_name": "HTMLModel",
       "_view_count": null,
       "_view_module": "@jupyter-widgets/controls",
       "_view_module_version": "1.5.0",
       "_view_name": "HTMLView",
       "description": "",
       "description_tooltip": null,
       "layout": "IPY_MODEL_50dd4dba6a904fae85b23b8e57750cf0",
       "placeholder": "​",
       "style": "IPY_MODEL_dc57f093c4b3491c82e0d05762d1bfdd",
       "value": "Downloading: 100%"
      }
     },
     "7620d639740f43669c9097945d3c5cad": {
      "model_module": "@jupyter-widgets/controls",
      "model_module_version": "1.5.0",
      "model_name": "ProgressStyleModel",
      "state": {
       "_model_module": "@jupyter-widgets/controls",
       "_model_module_version": "1.5.0",
       "_model_name": "ProgressStyleModel",
       "_view_count": null,
       "_view_module": "@jupyter-widgets/base",
       "_view_module_version": "1.2.0",
       "_view_name": "StyleView",
       "bar_color": null,
       "description_width": ""
      }
     },
     "7cd1ec7d8d0d4e1d987441e69800a70d": {
      "model_module": "@jupyter-widgets/controls",
      "model_module_version": "1.5.0",
      "model_name": "DescriptionStyleModel",
      "state": {
       "_model_module": "@jupyter-widgets/controls",
       "_model_module_version": "1.5.0",
       "_model_name": "DescriptionStyleModel",
       "_view_count": null,
       "_view_module": "@jupyter-widgets/base",
       "_view_module_version": "1.2.0",
       "_view_name": "StyleView",
       "description_width": ""
      }
     },
     "7d7042e327c9453daf1a6451feb6d60a": {
      "model_module": "@jupyter-widgets/controls",
      "model_module_version": "1.5.0",
      "model_name": "HTMLModel",
      "state": {
       "_dom_classes": [],
       "_model_module": "@jupyter-widgets/controls",
       "_model_module_version": "1.5.0",
       "_model_name": "HTMLModel",
       "_view_count": null,
       "_view_module": "@jupyter-widgets/controls",
       "_view_module_version": "1.5.0",
       "_view_name": "HTMLView",
       "description": "",
       "description_tooltip": null,
       "layout": "IPY_MODEL_4bdd754d33dd45fa82931b93463cc911",
       "placeholder": "​",
       "style": "IPY_MODEL_83a8c320af794c26876b13f3b2aded20",
       "value": " 2/2 [02:17&lt;00:00, 69.08s/it]"
      }
     },
     "83a8c320af794c26876b13f3b2aded20": {
      "model_module": "@jupyter-widgets/controls",
      "model_module_version": "1.5.0",
      "model_name": "DescriptionStyleModel",
      "state": {
       "_model_module": "@jupyter-widgets/controls",
       "_model_module_version": "1.5.0",
       "_model_name": "DescriptionStyleModel",
       "_view_count": null,
       "_view_module": "@jupyter-widgets/base",
       "_view_module_version": "1.2.0",
       "_view_name": "StyleView",
       "description_width": ""
      }
     },
     "86df9c97d5a04ac89e68fe60f6dc45f3": {
      "model_module": "@jupyter-widgets/controls",
      "model_module_version": "1.5.0",
      "model_name": "FloatProgressModel",
      "state": {
       "_dom_classes": [],
       "_model_module": "@jupyter-widgets/controls",
       "_model_module_version": "1.5.0",
       "_model_name": "FloatProgressModel",
       "_view_count": null,
       "_view_module": "@jupyter-widgets/controls",
       "_view_module_version": "1.5.0",
       "_view_name": "ProgressView",
       "bar_style": "success",
       "description": "",
       "description_tooltip": null,
       "layout": "IPY_MODEL_fc1a8053848241959a9a06860bf5d22a",
       "max": 2.0,
       "min": 0.0,
       "orientation": "horizontal",
       "style": "IPY_MODEL_3ef97c78e21844289b02f4ffaf847d0d",
       "value": 2.0
      }
     },
     "8b13dad162e247ac87d74e9252f9a275": {
      "model_module": "@jupyter-widgets/base",
      "model_module_version": "1.2.0",
      "model_name": "LayoutModel",
      "state": {
       "_model_module": "@jupyter-widgets/base",
       "_model_module_version": "1.2.0",
       "_model_name": "LayoutModel",
       "_view_count": null,
       "_view_module": "@jupyter-widgets/base",
       "_view_module_version": "1.2.0",
       "_view_name": "LayoutView",
       "align_content": null,
       "align_items": null,
       "align_self": null,
       "border": null,
       "bottom": null,
       "display": null,
       "flex": null,
       "flex_flow": null,
       "grid_area": null,
       "grid_auto_columns": null,
       "grid_auto_flow": null,
       "grid_auto_rows": null,
       "grid_column": null,
       "grid_gap": null,
       "grid_row": null,
       "grid_template_areas": null,
       "grid_template_columns": null,
       "grid_template_rows": null,
       "height": null,
       "justify_content": null,
       "justify_items": null,
       "left": null,
       "margin": null,
       "max_height": null,
       "max_width": null,
       "min_height": null,
       "min_width": null,
       "object_fit": null,
       "object_position": null,
       "order": null,
       "overflow": null,
       "overflow_x": null,
       "overflow_y": null,
       "padding": null,
       "right": null,
       "top": null,
       "visibility": null,
       "width": null
      }
     },
     "917a6801609a4259a03238f8b6975785": {
      "model_module": "@jupyter-widgets/controls",
      "model_module_version": "1.5.0",
      "model_name": "HTMLModel",
      "state": {
       "_dom_classes": [],
       "_model_module": "@jupyter-widgets/controls",
       "_model_module_version": "1.5.0",
       "_model_name": "HTMLModel",
       "_view_count": null,
       "_view_module": "@jupyter-widgets/controls",
       "_view_module_version": "1.5.0",
       "_view_name": "HTMLView",
       "description": "",
       "description_tooltip": null,
       "layout": "IPY_MODEL_2c9505be4cc54b02b35a1321bae813b9",
       "placeholder": "​",
       "style": "IPY_MODEL_9c6e2ab1c5d343409f1ab78c5405d9cf",
       "value": " 3/3 [03:26&lt;00:00, 67.47s/it]"
      }
     },
     "9669a5e0961a46ae8ec5b0658213874e": {
      "model_module": "@jupyter-widgets/controls",
      "model_module_version": "1.5.0",
      "model_name": "FloatProgressModel",
      "state": {
       "_dom_classes": [],
       "_model_module": "@jupyter-widgets/controls",
       "_model_module_version": "1.5.0",
       "_model_name": "FloatProgressModel",
       "_view_count": null,
       "_view_module": "@jupyter-widgets/controls",
       "_view_module_version": "1.5.0",
       "_view_name": "ProgressView",
       "bar_style": "success",
       "description": "",
       "description_tooltip": null,
       "layout": "IPY_MODEL_fdfdb34a6d3f4895869432daf78c52f0",
       "max": 28.0,
       "min": 0.0,
       "orientation": "horizontal",
       "style": "IPY_MODEL_1ef56aadf8584643a5802c592335a765",
       "value": 28.0
      }
     },
     "9c6e2ab1c5d343409f1ab78c5405d9cf": {
      "model_module": "@jupyter-widgets/controls",
      "model_module_version": "1.5.0",
      "model_name": "DescriptionStyleModel",
      "state": {
       "_model_module": "@jupyter-widgets/controls",
       "_model_module_version": "1.5.0",
       "_model_name": "DescriptionStyleModel",
       "_view_count": null,
       "_view_module": "@jupyter-widgets/base",
       "_view_module_version": "1.2.0",
       "_view_name": "StyleView",
       "description_width": ""
      }
     },
     "a3a6ef07eea14d0bb5fe63173f134325": {
      "model_module": "@jupyter-widgets/base",
      "model_module_version": "1.2.0",
      "model_name": "LayoutModel",
      "state": {
       "_model_module": "@jupyter-widgets/base",
       "_model_module_version": "1.2.0",
       "_model_name": "LayoutModel",
       "_view_count": null,
       "_view_module": "@jupyter-widgets/base",
       "_view_module_version": "1.2.0",
       "_view_name": "LayoutView",
       "align_content": null,
       "align_items": null,
       "align_self": null,
       "border": null,
       "bottom": null,
       "display": null,
       "flex": null,
       "flex_flow": null,
       "grid_area": null,
       "grid_auto_columns": null,
       "grid_auto_flow": null,
       "grid_auto_rows": null,
       "grid_column": null,
       "grid_gap": null,
       "grid_row": null,
       "grid_template_areas": null,
       "grid_template_columns": null,
       "grid_template_rows": null,
       "height": null,
       "justify_content": null,
       "justify_items": null,
       "left": null,
       "margin": null,
       "max_height": null,
       "max_width": null,
       "min_height": null,
       "min_width": null,
       "object_fit": null,
       "object_position": null,
       "order": null,
       "overflow": null,
       "overflow_x": null,
       "overflow_y": null,
       "padding": null,
       "right": null,
       "top": null,
       "visibility": null,
       "width": null
      }
     },
     "a3d274f64a0e4dffa9a0d4fac933a859": {
      "model_module": "@jupyter-widgets/controls",
      "model_module_version": "1.5.0",
      "model_name": "DescriptionStyleModel",
      "state": {
       "_model_module": "@jupyter-widgets/controls",
       "_model_module_version": "1.5.0",
       "_model_name": "DescriptionStyleModel",
       "_view_count": null,
       "_view_module": "@jupyter-widgets/base",
       "_view_module_version": "1.2.0",
       "_view_name": "StyleView",
       "description_width": ""
      }
     },
     "aeee47a3ecfe45e4aea2aed949f0ba9a": {
      "model_module": "@jupyter-widgets/base",
      "model_module_version": "1.2.0",
      "model_name": "LayoutModel",
      "state": {
       "_model_module": "@jupyter-widgets/base",
       "_model_module_version": "1.2.0",
       "_model_name": "LayoutModel",
       "_view_count": null,
       "_view_module": "@jupyter-widgets/base",
       "_view_module_version": "1.2.0",
       "_view_name": "LayoutView",
       "align_content": null,
       "align_items": null,
       "align_self": null,
       "border": null,
       "bottom": null,
       "display": null,
       "flex": null,
       "flex_flow": null,
       "grid_area": null,
       "grid_auto_columns": null,
       "grid_auto_flow": null,
       "grid_auto_rows": null,
       "grid_column": null,
       "grid_gap": null,
       "grid_row": null,
       "grid_template_areas": null,
       "grid_template_columns": null,
       "grid_template_rows": null,
       "height": null,
       "justify_content": null,
       "justify_items": null,
       "left": null,
       "margin": null,
       "max_height": null,
       "max_width": null,
       "min_height": null,
       "min_width": null,
       "object_fit": null,
       "object_position": null,
       "order": null,
       "overflow": null,
       "overflow_x": null,
       "overflow_y": null,
       "padding": null,
       "right": null,
       "top": null,
       "visibility": null,
       "width": null
      }
     },
     "bac3f61eb3f24488a0a2cf82b9b49a14": {
      "model_module": "@jupyter-widgets/base",
      "model_module_version": "1.2.0",
      "model_name": "LayoutModel",
      "state": {
       "_model_module": "@jupyter-widgets/base",
       "_model_module_version": "1.2.0",
       "_model_name": "LayoutModel",
       "_view_count": null,
       "_view_module": "@jupyter-widgets/base",
       "_view_module_version": "1.2.0",
       "_view_name": "LayoutView",
       "align_content": null,
       "align_items": null,
       "align_self": null,
       "border": null,
       "bottom": null,
       "display": null,
       "flex": null,
       "flex_flow": null,
       "grid_area": null,
       "grid_auto_columns": null,
       "grid_auto_flow": null,
       "grid_auto_rows": null,
       "grid_column": null,
       "grid_gap": null,
       "grid_row": null,
       "grid_template_areas": null,
       "grid_template_columns": null,
       "grid_template_rows": null,
       "height": null,
       "justify_content": null,
       "justify_items": null,
       "left": null,
       "margin": null,
       "max_height": null,
       "max_width": null,
       "min_height": null,
       "min_width": null,
       "object_fit": null,
       "object_position": null,
       "order": null,
       "overflow": null,
       "overflow_x": null,
       "overflow_y": null,
       "padding": null,
       "right": null,
       "top": null,
       "visibility": null,
       "width": null
      }
     },
     "bc7fb519094a4564ae4853d573244596": {
      "model_module": "@jupyter-widgets/controls",
      "model_module_version": "1.5.0",
      "model_name": "HTMLModel",
      "state": {
       "_dom_classes": [],
       "_model_module": "@jupyter-widgets/controls",
       "_model_module_version": "1.5.0",
       "_model_name": "HTMLModel",
       "_view_count": null,
       "_view_module": "@jupyter-widgets/controls",
       "_view_module_version": "1.5.0",
       "_view_name": "HTMLView",
       "description": "",
       "description_tooltip": null,
       "layout": "IPY_MODEL_438a075b8b104383856bb234655023df",
       "placeholder": "​",
       "style": "IPY_MODEL_a3d274f64a0e4dffa9a0d4fac933a859",
       "value": "100%"
      }
     },
     "bced4e50bfaa41b5aa8d32c02b947425": {
      "model_module": "@jupyter-widgets/base",
      "model_module_version": "1.2.0",
      "model_name": "LayoutModel",
      "state": {
       "_model_module": "@jupyter-widgets/base",
       "_model_module_version": "1.2.0",
       "_model_name": "LayoutModel",
       "_view_count": null,
       "_view_module": "@jupyter-widgets/base",
       "_view_module_version": "1.2.0",
       "_view_name": "LayoutView",
       "align_content": null,
       "align_items": null,
       "align_self": null,
       "border": null,
       "bottom": null,
       "display": null,
       "flex": null,
       "flex_flow": null,
       "grid_area": null,
       "grid_auto_columns": null,
       "grid_auto_flow": null,
       "grid_auto_rows": null,
       "grid_column": null,
       "grid_gap": null,
       "grid_row": null,
       "grid_template_areas": null,
       "grid_template_columns": null,
       "grid_template_rows": null,
       "height": null,
       "justify_content": null,
       "justify_items": null,
       "left": null,
       "margin": null,
       "max_height": null,
       "max_width": null,
       "min_height": null,
       "min_width": null,
       "object_fit": null,
       "object_position": null,
       "order": null,
       "overflow": null,
       "overflow_x": null,
       "overflow_y": null,
       "padding": null,
       "right": null,
       "top": null,
       "visibility": null,
       "width": null
      }
     },
     "c2f7d5b1378e4be2aa8cd642659c561a": {
      "model_module": "@jupyter-widgets/base",
      "model_module_version": "1.2.0",
      "model_name": "LayoutModel",
      "state": {
       "_model_module": "@jupyter-widgets/base",
       "_model_module_version": "1.2.0",
       "_model_name": "LayoutModel",
       "_view_count": null,
       "_view_module": "@jupyter-widgets/base",
       "_view_module_version": "1.2.0",
       "_view_name": "LayoutView",
       "align_content": null,
       "align_items": null,
       "align_self": null,
       "border": null,
       "bottom": null,
       "display": null,
       "flex": null,
       "flex_flow": null,
       "grid_area": null,
       "grid_auto_columns": null,
       "grid_auto_flow": null,
       "grid_auto_rows": null,
       "grid_column": null,
       "grid_gap": null,
       "grid_row": null,
       "grid_template_areas": null,
       "grid_template_columns": null,
       "grid_template_rows": null,
       "height": null,
       "justify_content": null,
       "justify_items": null,
       "left": null,
       "margin": null,
       "max_height": null,
       "max_width": null,
       "min_height": null,
       "min_width": null,
       "object_fit": null,
       "object_position": null,
       "order": null,
       "overflow": null,
       "overflow_x": null,
       "overflow_y": null,
       "padding": null,
       "right": null,
       "top": null,
       "visibility": null,
       "width": null
      }
     },
     "c564902dc42a4e2995e97d741d2eed77": {
      "model_module": "@jupyter-widgets/controls",
      "model_module_version": "1.5.0",
      "model_name": "DescriptionStyleModel",
      "state": {
       "_model_module": "@jupyter-widgets/controls",
       "_model_module_version": "1.5.0",
       "_model_name": "DescriptionStyleModel",
       "_view_count": null,
       "_view_module": "@jupyter-widgets/base",
       "_view_module_version": "1.2.0",
       "_view_name": "StyleView",
       "description_width": ""
      }
     },
     "cbfe260f7a9b414d8df4eac470456a30": {
      "model_module": "@jupyter-widgets/controls",
      "model_module_version": "1.5.0",
      "model_name": "FloatProgressModel",
      "state": {
       "_dom_classes": [],
       "_model_module": "@jupyter-widgets/controls",
       "_model_module_version": "1.5.0",
       "_model_name": "FloatProgressModel",
       "_view_count": null,
       "_view_module": "@jupyter-widgets/controls",
       "_view_module_version": "1.5.0",
       "_view_name": "ProgressView",
       "bar_style": "success",
       "description": "",
       "description_tooltip": null,
       "layout": "IPY_MODEL_409f8058e1ff497092f23f11a0ada7cf",
       "max": 231508.0,
       "min": 0.0,
       "orientation": "horizontal",
       "style": "IPY_MODEL_65a21bf2ca03438bab510302d72d5705",
       "value": 231508.0
      }
     },
     "d8cedfb2a8e544ff813f4aee32d664f9": {
      "model_module": "@jupyter-widgets/controls",
      "model_module_version": "1.5.0",
      "model_name": "ProgressStyleModel",
      "state": {
       "_model_module": "@jupyter-widgets/controls",
       "_model_module_version": "1.5.0",
       "_model_name": "ProgressStyleModel",
       "_view_count": null,
       "_view_module": "@jupyter-widgets/base",
       "_view_module_version": "1.2.0",
       "_view_name": "StyleView",
       "bar_color": null,
       "description_width": ""
      }
     },
     "d9a1361569624cf69624699a7f75b9be": {
      "model_module": "@jupyter-widgets/controls",
      "model_module_version": "1.5.0",
      "model_name": "HTMLModel",
      "state": {
       "_dom_classes": [],
       "_model_module": "@jupyter-widgets/controls",
       "_model_module_version": "1.5.0",
       "_model_name": "HTMLModel",
       "_view_count": null,
       "_view_module": "@jupyter-widgets/controls",
       "_view_module_version": "1.5.0",
       "_view_name": "HTMLView",
       "description": "",
       "description_tooltip": null,
       "layout": "IPY_MODEL_03ec3b2e639d47bba1d29872d101cf6e",
       "placeholder": "​",
       "style": "IPY_MODEL_f33d08f9b5d34ccfa9576713a4f7e40d",
       "value": "Downloading: 100%"
      }
     },
     "dc57f093c4b3491c82e0d05762d1bfdd": {
      "model_module": "@jupyter-widgets/controls",
      "model_module_version": "1.5.0",
      "model_name": "DescriptionStyleModel",
      "state": {
       "_model_module": "@jupyter-widgets/controls",
       "_model_module_version": "1.5.0",
       "_model_name": "DescriptionStyleModel",
       "_view_count": null,
       "_view_module": "@jupyter-widgets/base",
       "_view_module_version": "1.2.0",
       "_view_name": "StyleView",
       "description_width": ""
      }
     },
     "dc67a86d88ac42499f7d00b444d0ea48": {
      "model_module": "@jupyter-widgets/controls",
      "model_module_version": "1.5.0",
      "model_name": "HTMLModel",
      "state": {
       "_dom_classes": [],
       "_model_module": "@jupyter-widgets/controls",
       "_model_module_version": "1.5.0",
       "_model_name": "HTMLModel",
       "_view_count": null,
       "_view_module": "@jupyter-widgets/controls",
       "_view_module_version": "1.5.0",
       "_view_name": "HTMLView",
       "description": "",
       "description_tooltip": null,
       "layout": "IPY_MODEL_628cbd4976d74879846c6e4b07c31067",
       "placeholder": "​",
       "style": "IPY_MODEL_7cd1ec7d8d0d4e1d987441e69800a70d",
       "value": " 232k/232k [00:00&lt;00:00, 943kB/s]"
      }
     },
     "e10a30cd05c6416d90eeaedb3c6c4336": {
      "model_module": "@jupyter-widgets/controls",
      "model_module_version": "1.5.0",
      "model_name": "HBoxModel",
      "state": {
       "_dom_classes": [],
       "_model_module": "@jupyter-widgets/controls",
       "_model_module_version": "1.5.0",
       "_model_name": "HBoxModel",
       "_view_count": null,
       "_view_module": "@jupyter-widgets/controls",
       "_view_module_version": "1.5.0",
       "_view_name": "HBoxView",
       "box_style": "",
       "children": [
        "IPY_MODEL_bc7fb519094a4564ae4853d573244596",
        "IPY_MODEL_86df9c97d5a04ac89e68fe60f6dc45f3",
        "IPY_MODEL_7d7042e327c9453daf1a6451feb6d60a"
       ],
       "layout": "IPY_MODEL_aeee47a3ecfe45e4aea2aed949f0ba9a"
      }
     },
     "ebb0b16524c94e63af7a5c66f6f413ec": {
      "model_module": "@jupyter-widgets/controls",
      "model_module_version": "1.5.0",
      "model_name": "HBoxModel",
      "state": {
       "_dom_classes": [],
       "_model_module": "@jupyter-widgets/controls",
       "_model_module_version": "1.5.0",
       "_model_name": "HBoxModel",
       "_view_count": null,
       "_view_module": "@jupyter-widgets/controls",
       "_view_module_version": "1.5.0",
       "_view_name": "HBoxView",
       "box_style": "",
       "children": [
        "IPY_MODEL_d9a1361569624cf69624699a7f75b9be",
        "IPY_MODEL_cbfe260f7a9b414d8df4eac470456a30",
        "IPY_MODEL_dc67a86d88ac42499f7d00b444d0ea48"
       ],
       "layout": "IPY_MODEL_45608e22abbc46298e5c3c3deeb74a0a"
      }
     },
     "f33d08f9b5d34ccfa9576713a4f7e40d": {
      "model_module": "@jupyter-widgets/controls",
      "model_module_version": "1.5.0",
      "model_name": "DescriptionStyleModel",
      "state": {
       "_model_module": "@jupyter-widgets/controls",
       "_model_module_version": "1.5.0",
       "_model_name": "DescriptionStyleModel",
       "_view_count": null,
       "_view_module": "@jupyter-widgets/base",
       "_view_module_version": "1.2.0",
       "_view_name": "StyleView",
       "description_width": ""
      }
     },
     "f6b207bc6e9f4969a2ba7f765ff1b675": {
      "model_module": "@jupyter-widgets/base",
      "model_module_version": "1.2.0",
      "model_name": "LayoutModel",
      "state": {
       "_model_module": "@jupyter-widgets/base",
       "_model_module_version": "1.2.0",
       "_model_name": "LayoutModel",
       "_view_count": null,
       "_view_module": "@jupyter-widgets/base",
       "_view_module_version": "1.2.0",
       "_view_name": "LayoutView",
       "align_content": null,
       "align_items": null,
       "align_self": null,
       "border": null,
       "bottom": null,
       "display": null,
       "flex": null,
       "flex_flow": null,
       "grid_area": null,
       "grid_auto_columns": null,
       "grid_auto_flow": null,
       "grid_auto_rows": null,
       "grid_column": null,
       "grid_gap": null,
       "grid_row": null,
       "grid_template_areas": null,
       "grid_template_columns": null,
       "grid_template_rows": null,
       "height": null,
       "justify_content": null,
       "justify_items": null,
       "left": null,
       "margin": null,
       "max_height": null,
       "max_width": null,
       "min_height": null,
       "min_width": null,
       "object_fit": null,
       "object_position": null,
       "order": null,
       "overflow": null,
       "overflow_x": null,
       "overflow_y": null,
       "padding": null,
       "right": null,
       "top": null,
       "visibility": null,
       "width": null
      }
     },
     "f77eed00a08c4efc86f13d0bb352e842": {
      "model_module": "@jupyter-widgets/base",
      "model_module_version": "1.2.0",
      "model_name": "LayoutModel",
      "state": {
       "_model_module": "@jupyter-widgets/base",
       "_model_module_version": "1.2.0",
       "_model_name": "LayoutModel",
       "_view_count": null,
       "_view_module": "@jupyter-widgets/base",
       "_view_module_version": "1.2.0",
       "_view_name": "LayoutView",
       "align_content": null,
       "align_items": null,
       "align_self": null,
       "border": null,
       "bottom": null,
       "display": null,
       "flex": null,
       "flex_flow": null,
       "grid_area": null,
       "grid_auto_columns": null,
       "grid_auto_flow": null,
       "grid_auto_rows": null,
       "grid_column": null,
       "grid_gap": null,
       "grid_row": null,
       "grid_template_areas": null,
       "grid_template_columns": null,
       "grid_template_rows": null,
       "height": null,
       "justify_content": null,
       "justify_items": null,
       "left": null,
       "margin": null,
       "max_height": null,
       "max_width": null,
       "min_height": null,
       "min_width": null,
       "object_fit": null,
       "object_position": null,
       "order": null,
       "overflow": null,
       "overflow_x": null,
       "overflow_y": null,
       "padding": null,
       "right": null,
       "top": null,
       "visibility": null,
       "width": null
      }
     },
     "fc1a8053848241959a9a06860bf5d22a": {
      "model_module": "@jupyter-widgets/base",
      "model_module_version": "1.2.0",
      "model_name": "LayoutModel",
      "state": {
       "_model_module": "@jupyter-widgets/base",
       "_model_module_version": "1.2.0",
       "_model_name": "LayoutModel",
       "_view_count": null,
       "_view_module": "@jupyter-widgets/base",
       "_view_module_version": "1.2.0",
       "_view_name": "LayoutView",
       "align_content": null,
       "align_items": null,
       "align_self": null,
       "border": null,
       "bottom": null,
       "display": null,
       "flex": null,
       "flex_flow": null,
       "grid_area": null,
       "grid_auto_columns": null,
       "grid_auto_flow": null,
       "grid_auto_rows": null,
       "grid_column": null,
       "grid_gap": null,
       "grid_row": null,
       "grid_template_areas": null,
       "grid_template_columns": null,
       "grid_template_rows": null,
       "height": null,
       "justify_content": null,
       "justify_items": null,
       "left": null,
       "margin": null,
       "max_height": null,
       "max_width": null,
       "min_height": null,
       "min_width": null,
       "object_fit": null,
       "object_position": null,
       "order": null,
       "overflow": null,
       "overflow_x": null,
       "overflow_y": null,
       "padding": null,
       "right": null,
       "top": null,
       "visibility": null,
       "width": null
      }
     },
     "fdfdb34a6d3f4895869432daf78c52f0": {
      "model_module": "@jupyter-widgets/base",
      "model_module_version": "1.2.0",
      "model_name": "LayoutModel",
      "state": {
       "_model_module": "@jupyter-widgets/base",
       "_model_module_version": "1.2.0",
       "_model_name": "LayoutModel",
       "_view_count": null,
       "_view_module": "@jupyter-widgets/base",
       "_view_module_version": "1.2.0",
       "_view_name": "LayoutView",
       "align_content": null,
       "align_items": null,
       "align_self": null,
       "border": null,
       "bottom": null,
       "display": null,
       "flex": null,
       "flex_flow": null,
       "grid_area": null,
       "grid_auto_columns": null,
       "grid_auto_flow": null,
       "grid_auto_rows": null,
       "grid_column": null,
       "grid_gap": null,
       "grid_row": null,
       "grid_template_areas": null,
       "grid_template_columns": null,
       "grid_template_rows": null,
       "height": null,
       "justify_content": null,
       "justify_items": null,
       "left": null,
       "margin": null,
       "max_height": null,
       "max_width": null,
       "min_height": null,
       "min_width": null,
       "object_fit": null,
       "object_position": null,
       "order": null,
       "overflow": null,
       "overflow_x": null,
       "overflow_y": null,
       "padding": null,
       "right": null,
       "top": null,
       "visibility": null,
       "width": null
      }
     }
    },
    "version_major": 2,
    "version_minor": 0
   }
  }
 },
 "nbformat": 4,
 "nbformat_minor": 5
}
