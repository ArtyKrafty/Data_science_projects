{
 "cells": [
  {
   "cell_type": "markdown",
   "metadata": {},
   "source": [
    "Привет, меня зовут Люман Аблаев. Сегодня я проверю твой проект.\n",
    "<br> Дальнейшее общение будет происходить на \"ты\" если это не вызывает никаких проблем.\n",
    "<br> Желательно реагировать на каждый мой комментарий ('исправил', 'не понятно как исправить ошибку', ...)\n",
    "<br> Пожалуйста, не удаляй комментарии ревьюера, так как они повышают качество повторного ревью.\n",
    "\n",
    "Комментарии будут в <font color='green'>зеленой</font>, <font color='blue'>синей</font> или <font color='red'>красной</font> рамках:\n",
    "\n",
    "<div class=\"alert alert-block alert-success\">\n",
    "<b>Успех:</b> Если все сделано отлично\n",
    "</div>\n",
    "\n",
    "<div class=\"alert alert-block alert-info\">\n",
    "<b>Совет: </b> Если можно немного улучшить\n",
    "</div>\n",
    "\n",
    "<div class=\"alert alert-block alert-danger\">\n",
    "<b>Ошибка:</b> Если требуются исправления. Работа не может быть принята с красными комментариями.\n",
    "</div>\n",
    "\n",
    "\n",
    "<font color='orange' style='font-size:24px; font-weight:bold'>Общее впечатление</font>\n",
    "* Спасибо за то, что прислал такую хорошую работу, мне она очень понравилась, я бы назвал ее практически идеальной.\n",
    "* Каждый шаг выполнен хорошо, и подкреплен твердой аргументацией. \n",
    "* Понравилось оформление выводов и таблиц - приятно проверять такие работы.\n",
    "- Я местами оставил небольшие советы, надеюсь они будут полезными или интересными.\n",
    "- Я с радостью принимаю твою работу и желаю удачи в дальнейшем обучении.\n",
    "- Продолжай в том же духе. У тебя большой потенциал."
   ]
  },
  {
   "cell_type": "markdown",
   "metadata": {},
   "source": [
    "<div class=\"alert alert-info\"> \n",
    "<h4> Комментарий студента: <a class=\"tocSkip\"> </h4>\n",
    "\n",
    "Привет)  \n",
    "Не против, если я на - 'Ты'. Хотел заранее предупредить, что код долг грузит - попробовал поэкспериментировать и использовал также Catboost с кроссвалидацией - попробовал реализовать, без тюнинга - на пункте 3.4.3 немного повисит :) - я успевал сходить за чашечкой кофе))\n",
    "\n",
    "</div>"
   ]
  },
  {
   "cell_type": "markdown",
   "metadata": {},
   "source": [
    "<div class=\"alert alert-block alert-success\">\n",
    "<b>Успех:</b> Спасибо, принял,  пойдем смотреть работу =)\n",
    "</div>"
   ]
  },
  {
   "cell_type": "markdown",
   "metadata": {
    "toc": true
   },
   "source": [
    "<h1>Содержание<span class=\"tocSkip\"></span></h1>\n",
    "<div class=\"toc\"><ul class=\"toc-item\"><li><span><a href=\"#Общая-информация-о-данных-в-работе-и-предварительный-осмотр\" data-toc-modified-id=\"Общая-информация-о-данных-в-работе-и-предварительный-осмотр-1\"><span class=\"toc-item-num\">1&nbsp;&nbsp;</span>Общая информация о данных в работе и предварительный осмотр</a></span><ul class=\"toc-item\"><li><span><a href=\"#Импорт-необходимых-библиотек\" data-toc-modified-id=\"Импорт-необходимых-библиотек-1.1\"><span class=\"toc-item-num\">1.1&nbsp;&nbsp;</span>Импорт необходимых библиотек</a></span></li><li><span><a href=\"#Изучение-сета-данных\" data-toc-modified-id=\"Изучение-сета-данных-1.2\"><span class=\"toc-item-num\">1.2&nbsp;&nbsp;</span>Изучение сета данных</a></span></li><li><span><a href=\"#Вывод\" data-toc-modified-id=\"Вывод-1.3\"><span class=\"toc-item-num\">1.3&nbsp;&nbsp;</span>Вывод</a></span></li></ul></li><li><span><a href=\"#Исследование-задачи\" data-toc-modified-id=\"Исследование-задачи-2\"><span class=\"toc-item-num\">2&nbsp;&nbsp;</span>Исследование задачи</a></span><ul class=\"toc-item\"><li><span><a href=\"#Подготовка-признаков\" data-toc-modified-id=\"Подготовка-признаков-2.1\"><span class=\"toc-item-num\">2.1&nbsp;&nbsp;</span>Подготовка признаков</a></span></li><li><span><a href=\"#One-hot-Encoding\" data-toc-modified-id=\"One-hot-Encoding-2.2\"><span class=\"toc-item-num\">2.2&nbsp;&nbsp;</span>One-hot Encoding</a></span></li><li><span><a href=\"#Масштабирование\" data-toc-modified-id=\"Масштабирование-2.3\"><span class=\"toc-item-num\">2.3&nbsp;&nbsp;</span>Масштабирование</a></span></li><li><span><a href=\"#Разделение-выборки\" data-toc-modified-id=\"Разделение-выборки-2.4\"><span class=\"toc-item-num\">2.4&nbsp;&nbsp;</span>Разделение выборки</a></span></li><li><span><a href=\"#Пробное-обучение-моделей-без-учета-дисбаланса-классов\" data-toc-modified-id=\"Пробное-обучение-моделей-без-учета-дисбаланса-классов-2.5\"><span class=\"toc-item-num\">2.5&nbsp;&nbsp;</span>Пробное обучение моделей без учета дисбаланса классов</a></span><ul class=\"toc-item\"><li><span><a href=\"#Логистическая-регрессиия\" data-toc-modified-id=\"Логистическая-регрессиия-2.5.1\"><span class=\"toc-item-num\">2.5.1&nbsp;&nbsp;</span>Логистическая регрессиия</a></span></li><li><span><a href=\"#Случайный-лес\" data-toc-modified-id=\"Случайный-лес-2.5.2\"><span class=\"toc-item-num\">2.5.2&nbsp;&nbsp;</span>Случайный лес</a></span></li><li><span><a href=\"#Catboost\" data-toc-modified-id=\"Catboost-2.5.3\"><span class=\"toc-item-num\">2.5.3&nbsp;&nbsp;</span>Catboost</a></span></li></ul></li><li><span><a href=\"#Вывод\" data-toc-modified-id=\"Вывод-2.6\"><span class=\"toc-item-num\">2.6&nbsp;&nbsp;</span>Вывод</a></span></li></ul></li><li><span><a href=\"#Борьба-с-дисбалансом-и-улучшение-моделей\" data-toc-modified-id=\"Борьба-с-дисбалансом-и-улучшение-моделей-3\"><span class=\"toc-item-num\">3&nbsp;&nbsp;</span>Борьба с дисбалансом и улучшение моделей</a></span><ul class=\"toc-item\"><li><span><a href=\"#Увеличение-выборки-upsampling\" data-toc-modified-id=\"Увеличение-выборки-upsampling-3.1\"><span class=\"toc-item-num\">3.1&nbsp;&nbsp;</span>Увеличение выборки upsampling</a></span><ul class=\"toc-item\"><li><span><a href=\"#Логистическая-регрессия\" data-toc-modified-id=\"Логистическая-регрессия-3.1.1\"><span class=\"toc-item-num\">3.1.1&nbsp;&nbsp;</span>Логистическая регрессия</a></span></li><li><span><a href=\"#Случайный-лес\" data-toc-modified-id=\"Случайный-лес-3.1.2\"><span class=\"toc-item-num\">3.1.2&nbsp;&nbsp;</span>Случайный лес</a></span></li><li><span><a href=\"#Catboost\" data-toc-modified-id=\"Catboost-3.1.3\"><span class=\"toc-item-num\">3.1.3&nbsp;&nbsp;</span>Catboost</a></span></li></ul></li><li><span><a href=\"#Уменьшение-выборки-downsampling\" data-toc-modified-id=\"Уменьшение-выборки-downsampling-3.2\"><span class=\"toc-item-num\">3.2&nbsp;&nbsp;</span>Уменьшение выборки downsampling</a></span><ul class=\"toc-item\"><li><span><a href=\"#Логистическая-регрессия\" data-toc-modified-id=\"Логистическая-регрессия-3.2.1\"><span class=\"toc-item-num\">3.2.1&nbsp;&nbsp;</span>Логистическая регрессия</a></span></li><li><span><a href=\"#Случайный-лес\" data-toc-modified-id=\"Случайный-лес-3.2.2\"><span class=\"toc-item-num\">3.2.2&nbsp;&nbsp;</span>Случайный лес</a></span></li><li><span><a href=\"#Catboost\" data-toc-modified-id=\"Catboost-3.2.3\"><span class=\"toc-item-num\">3.2.3&nbsp;&nbsp;</span>Catboost</a></span></li></ul></li><li><span><a href=\"#Изменение-порога\" data-toc-modified-id=\"Изменение-порога-3.3\"><span class=\"toc-item-num\">3.3&nbsp;&nbsp;</span>Изменение порога</a></span><ul class=\"toc-item\"><li><span><a href=\"#Логистическая-регрессия\" data-toc-modified-id=\"Логистическая-регрессия-3.3.1\"><span class=\"toc-item-num\">3.3.1&nbsp;&nbsp;</span>Логистическая регрессия</a></span></li><li><span><a href=\"#Случайный-лес\" data-toc-modified-id=\"Случайный-лес-3.3.2\"><span class=\"toc-item-num\">3.3.2&nbsp;&nbsp;</span>Случайный лес</a></span></li></ul></li><li><span><a href=\"#Обучение-моделей-и-настройка-гиперпараметров\" data-toc-modified-id=\"Обучение-моделей-и-настройка-гиперпараметров-3.4\"><span class=\"toc-item-num\">3.4&nbsp;&nbsp;</span>Обучение моделей и настройка гиперпараметров</a></span><ul class=\"toc-item\"><li><span><a href=\"#Логистическая-регрессия\" data-toc-modified-id=\"Логистическая-регрессия-3.4.1\"><span class=\"toc-item-num\">3.4.1&nbsp;&nbsp;</span>Логистическая регрессия</a></span></li><li><span><a href=\"#Случайный-лес\" data-toc-modified-id=\"Случайный-лес-3.4.2\"><span class=\"toc-item-num\">3.4.2&nbsp;&nbsp;</span>Случайный лес</a></span></li><li><span><a href=\"#Catboost-(bonus)\" data-toc-modified-id=\"Catboost-(bonus)-3.4.3\"><span class=\"toc-item-num\">3.4.3&nbsp;&nbsp;</span>Catboost (bonus)</a></span></li></ul></li></ul></li><li><span><a href=\"#Тестирование-моделей-и-проверка-на-адекватность\" data-toc-modified-id=\"Тестирование-моделей-и-проверка-на-адекватность-4\"><span class=\"toc-item-num\">4&nbsp;&nbsp;</span>Тестирование моделей и проверка на адекватность</a></span><ul class=\"toc-item\"><li><span><a href=\"#Тестирование-моделей\" data-toc-modified-id=\"Тестирование-моделей-4.1\"><span class=\"toc-item-num\">4.1&nbsp;&nbsp;</span>Тестирование моделей</a></span><ul class=\"toc-item\"><li><span><a href=\"#Логистическая-регрессия\" data-toc-modified-id=\"Логистическая-регрессия-4.1.1\"><span class=\"toc-item-num\">4.1.1&nbsp;&nbsp;</span>Логистическая регрессия</a></span></li><li><span><a href=\"#Случайный-лес\" data-toc-modified-id=\"Случайный-лес-4.1.2\"><span class=\"toc-item-num\">4.1.2&nbsp;&nbsp;</span>Случайный лес</a></span></li><li><span><a href=\"#Catboost\" data-toc-modified-id=\"Catboost-4.1.3\"><span class=\"toc-item-num\">4.1.3&nbsp;&nbsp;</span>Catboost</a></span></li><li><span><a href=\"#Вывод\" data-toc-modified-id=\"Вывод-4.1.4\"><span class=\"toc-item-num\">4.1.4&nbsp;&nbsp;</span>Вывод</a></span></li></ul></li><li><span><a href=\"#Проверка-адекватности-моделей\" data-toc-modified-id=\"Проверка-адекватности-моделей-4.2\"><span class=\"toc-item-num\">4.2&nbsp;&nbsp;</span>Проверка адекватности моделей</a></span><ul class=\"toc-item\"><li><span><a href=\"#Сравнение-с-константой\" data-toc-modified-id=\"Сравнение-с-константой-4.2.1\"><span class=\"toc-item-num\">4.2.1&nbsp;&nbsp;</span>Сравнение с константой</a></span></li></ul></li></ul></li><li><span><a href=\"#Вывод\" data-toc-modified-id=\"Вывод-5\"><span class=\"toc-item-num\">5&nbsp;&nbsp;</span>Вывод</a></span></li><li><span><a href=\"#Чек-лист-готовности-проекта\" data-toc-modified-id=\"Чек-лист-готовности-проекта-6\"><span class=\"toc-item-num\">6&nbsp;&nbsp;</span>Чек-лист готовности проекта</a></span></li></ul></div>"
   ]
  },
  {
   "cell_type": "markdown",
   "metadata": {},
   "source": [
    "![](https://i.ibb.co/yQ3D64X/face.jpg)\n",
    "\n",
    "# Отток клиентов\n",
    "\n",
    "*Из банка стали уходить клиенты. Каждый месяц. Немного, но заметно. Банковские маркетологи посчитали: сохранять текущих клиентов дешевле, чем привлекать новых.*\n",
    "\n",
    "*Необходимо спрогнозировать, уйдёт клиент из банка в ближайшее время или нет.  \n",
    "Нам предоставлены исторические данные о поведении клиентов и расторжении договоров с банком.* \n"
   ]
  },
  {
   "cell_type": "markdown",
   "metadata": {},
   "source": [
    "<div class=\"alert alert-block alert-success\">\n",
    "<b>Успех:</b> Спасибо за подробное описание проекта\n",
    "</div>"
   ]
  },
  {
   "cell_type": "markdown",
   "metadata": {},
   "source": [
    "## Общая информация о данных в работе и предварительный осмотр"
   ]
  },
  {
   "cell_type": "markdown",
   "metadata": {},
   "source": [
    "### Импорт необходимых библиотек"
   ]
  },
  {
   "cell_type": "code",
   "execution_count": 1,
   "metadata": {},
   "outputs": [],
   "source": [
    "import pandas as pd\n",
    "import numpy as np\n",
    "%matplotlib inline\n",
    "import matplotlib.pyplot as plt\n",
    "import seaborn as sns\n",
    "sns.set_style(\"darkgrid\")\n",
    "from sklearn.linear_model import LogisticRegression\n",
    "from sklearn.ensemble import RandomForestClassifier\n",
    "from sklearn.metrics import f1_score, roc_auc_score, roc_curve, precision_score, recall_score\n",
    "from sklearn.metrics import precision_recall_curve, accuracy_score\n",
    "from catboost import CatBoostClassifier\n",
    "from sklearn.preprocessing import StandardScaler\n",
    "from sklearn.model_selection import train_test_split, GridSearchCV\n",
    "from catboost import Pool, cv\n",
    "from sklearn.utils import shuffle\n",
    "import warnings\n",
    "warnings.filterwarnings(\"ignore\")\n",
    "\n"
   ]
  },
  {
   "cell_type": "markdown",
   "metadata": {},
   "source": [
    "<div class=\"alert alert-block alert-success\">\n",
    "<b>Успех:</b> Молодец, что собираешь все импорты и настройки в начале проекта.\n",
    "</div>"
   ]
  },
  {
   "cell_type": "markdown",
   "metadata": {},
   "source": [
    "### Изучение сета данных"
   ]
  },
  {
   "cell_type": "code",
   "execution_count": 2,
   "metadata": {},
   "outputs": [
    {
     "data": {
      "text/html": [
       "<div>\n",
       "<style scoped>\n",
       "    .dataframe tbody tr th:only-of-type {\n",
       "        vertical-align: middle;\n",
       "    }\n",
       "\n",
       "    .dataframe tbody tr th {\n",
       "        vertical-align: top;\n",
       "    }\n",
       "\n",
       "    .dataframe thead th {\n",
       "        text-align: right;\n",
       "    }\n",
       "</style>\n",
       "<table border=\"1\" class=\"dataframe\">\n",
       "  <thead>\n",
       "    <tr style=\"text-align: right;\">\n",
       "      <th></th>\n",
       "      <th>RowNumber</th>\n",
       "      <th>CustomerId</th>\n",
       "      <th>Surname</th>\n",
       "      <th>CreditScore</th>\n",
       "      <th>Geography</th>\n",
       "      <th>Gender</th>\n",
       "      <th>Age</th>\n",
       "      <th>Tenure</th>\n",
       "      <th>Balance</th>\n",
       "      <th>NumOfProducts</th>\n",
       "      <th>HasCrCard</th>\n",
       "      <th>IsActiveMember</th>\n",
       "      <th>EstimatedSalary</th>\n",
       "      <th>Exited</th>\n",
       "    </tr>\n",
       "  </thead>\n",
       "  <tbody>\n",
       "    <tr>\n",
       "      <td>0</td>\n",
       "      <td>1</td>\n",
       "      <td>15634602</td>\n",
       "      <td>Hargrave</td>\n",
       "      <td>619</td>\n",
       "      <td>France</td>\n",
       "      <td>Female</td>\n",
       "      <td>42</td>\n",
       "      <td>2.0</td>\n",
       "      <td>0.00</td>\n",
       "      <td>1</td>\n",
       "      <td>1</td>\n",
       "      <td>1</td>\n",
       "      <td>101348.88</td>\n",
       "      <td>1</td>\n",
       "    </tr>\n",
       "    <tr>\n",
       "      <td>1</td>\n",
       "      <td>2</td>\n",
       "      <td>15647311</td>\n",
       "      <td>Hill</td>\n",
       "      <td>608</td>\n",
       "      <td>Spain</td>\n",
       "      <td>Female</td>\n",
       "      <td>41</td>\n",
       "      <td>1.0</td>\n",
       "      <td>83807.86</td>\n",
       "      <td>1</td>\n",
       "      <td>0</td>\n",
       "      <td>1</td>\n",
       "      <td>112542.58</td>\n",
       "      <td>0</td>\n",
       "    </tr>\n",
       "    <tr>\n",
       "      <td>2</td>\n",
       "      <td>3</td>\n",
       "      <td>15619304</td>\n",
       "      <td>Onio</td>\n",
       "      <td>502</td>\n",
       "      <td>France</td>\n",
       "      <td>Female</td>\n",
       "      <td>42</td>\n",
       "      <td>8.0</td>\n",
       "      <td>159660.80</td>\n",
       "      <td>3</td>\n",
       "      <td>1</td>\n",
       "      <td>0</td>\n",
       "      <td>113931.57</td>\n",
       "      <td>1</td>\n",
       "    </tr>\n",
       "    <tr>\n",
       "      <td>3</td>\n",
       "      <td>4</td>\n",
       "      <td>15701354</td>\n",
       "      <td>Boni</td>\n",
       "      <td>699</td>\n",
       "      <td>France</td>\n",
       "      <td>Female</td>\n",
       "      <td>39</td>\n",
       "      <td>1.0</td>\n",
       "      <td>0.00</td>\n",
       "      <td>2</td>\n",
       "      <td>0</td>\n",
       "      <td>0</td>\n",
       "      <td>93826.63</td>\n",
       "      <td>0</td>\n",
       "    </tr>\n",
       "    <tr>\n",
       "      <td>4</td>\n",
       "      <td>5</td>\n",
       "      <td>15737888</td>\n",
       "      <td>Mitchell</td>\n",
       "      <td>850</td>\n",
       "      <td>Spain</td>\n",
       "      <td>Female</td>\n",
       "      <td>43</td>\n",
       "      <td>2.0</td>\n",
       "      <td>125510.82</td>\n",
       "      <td>1</td>\n",
       "      <td>1</td>\n",
       "      <td>1</td>\n",
       "      <td>79084.10</td>\n",
       "      <td>0</td>\n",
       "    </tr>\n",
       "  </tbody>\n",
       "</table>\n",
       "</div>"
      ],
      "text/plain": [
       "   RowNumber  CustomerId   Surname  CreditScore Geography  Gender  Age  \\\n",
       "0          1    15634602  Hargrave          619    France  Female   42   \n",
       "1          2    15647311      Hill          608     Spain  Female   41   \n",
       "2          3    15619304      Onio          502    France  Female   42   \n",
       "3          4    15701354      Boni          699    France  Female   39   \n",
       "4          5    15737888  Mitchell          850     Spain  Female   43   \n",
       "\n",
       "   Tenure    Balance  NumOfProducts  HasCrCard  IsActiveMember  \\\n",
       "0     2.0       0.00              1          1               1   \n",
       "1     1.0   83807.86              1          0               1   \n",
       "2     8.0  159660.80              3          1               0   \n",
       "3     1.0       0.00              2          0               0   \n",
       "4     2.0  125510.82              1          1               1   \n",
       "\n",
       "   EstimatedSalary  Exited  \n",
       "0        101348.88       1  \n",
       "1        112542.58       0  \n",
       "2        113931.57       1  \n",
       "3         93826.63       0  \n",
       "4         79084.10       0  "
      ]
     },
     "execution_count": 2,
     "metadata": {},
     "output_type": "execute_result"
    }
   ],
   "source": [
    "df = pd.read_csv('/datasets/Churn.csv')\n",
    "df.head()"
   ]
  },
  {
   "cell_type": "markdown",
   "metadata": {},
   "source": [
    "Описание признаков: \n",
    "\n",
    "- `RowNumber` — индекс строки в данных\n",
    "- `CustomerId` — уникальный идентификатор клиента\n",
    "- `Surname` — фамилия\n",
    "- `CreditScore` — кредитный рейтинг\n",
    "- `Geography` — страна проживания\n",
    "- `Gender` — пол\n",
    "- `Age` — возраст\n",
    "- `Tenure` — сколько лет человек является клиентом банка\n",
    "- `Balance` — баланс на счёте\n",
    "- `NumOfProducts` — количество продуктов банка, используемых клиентом\n",
    "- `HasCrCard` — наличие кредитной карты\n",
    "- `IsActiveMember` — активность клиента\n",
    "- `EstimatedSalary` — предполагаемая зарплата\n",
    "\n",
    "Целевой столбец:\n",
    "\n",
    "- `Exited` — факт ухода клиента"
   ]
  },
  {
   "cell_type": "markdown",
   "metadata": {},
   "source": [
    "Для нашего удобства приведем название столбцов к нижнему регистру и приведем их к змеиному регистру"
   ]
  },
  {
   "cell_type": "code",
   "execution_count": 3,
   "metadata": {},
   "outputs": [
    {
     "data": {
      "text/plain": [
       "Index(['rownumber', 'customerid', 'surname', 'creditscore', 'geography',\n",
       "       'gender', 'age', 'tenure', 'balance', 'numofproducts', 'hascrcard',\n",
       "       'isactivemember', 'estimatedsalary', 'exited'],\n",
       "      dtype='object')"
      ]
     },
     "execution_count": 3,
     "metadata": {},
     "output_type": "execute_result"
    }
   ],
   "source": [
    "df.columns = df.columns.str.lower()\n",
    "df.columns"
   ]
  },
  {
   "cell_type": "code",
   "execution_count": 4,
   "metadata": {},
   "outputs": [
    {
     "data": {
      "text/plain": [
       "Index(['row_number', 'customer_id', 'surname', 'creditscore', 'geography',\n",
       "       'gender', 'age', 'tenure', 'balance', 'num_of_products', 'has_crcard',\n",
       "       'isactive_member', 'estimated_salary', 'exited'],\n",
       "      dtype='object')"
      ]
     },
     "execution_count": 4,
     "metadata": {},
     "output_type": "execute_result"
    }
   ],
   "source": [
    "df.columns = ['row_number', 'customer_id', 'surname', 'creditscore', 'geography',\n",
    "       'gender', 'age', 'tenure', 'balance', 'num_of_products', 'has_crcard',\n",
    "       'isactive_member', 'estimated_salary', 'exited']\n",
    "df.columns"
   ]
  },
  {
   "cell_type": "markdown",
   "metadata": {},
   "source": [
    "Посмотрим общую информацию о данных в работе"
   ]
  },
  {
   "cell_type": "code",
   "execution_count": 5,
   "metadata": {},
   "outputs": [
    {
     "name": "stdout",
     "output_type": "stream",
     "text": [
      "(10000, 14)\n",
      "<class 'pandas.core.frame.DataFrame'>\n",
      "RangeIndex: 10000 entries, 0 to 9999\n",
      "Data columns (total 14 columns):\n",
      "row_number          10000 non-null int64\n",
      "customer_id         10000 non-null int64\n",
      "surname             10000 non-null object\n",
      "creditscore         10000 non-null int64\n",
      "geography           10000 non-null object\n",
      "gender              10000 non-null object\n",
      "age                 10000 non-null int64\n",
      "tenure              9091 non-null float64\n",
      "balance             10000 non-null float64\n",
      "num_of_products     10000 non-null int64\n",
      "has_crcard          10000 non-null int64\n",
      "isactive_member     10000 non-null int64\n",
      "estimated_salary    10000 non-null float64\n",
      "exited              10000 non-null int64\n",
      "dtypes: float64(3), int64(8), object(3)\n",
      "memory usage: 1.1+ MB\n"
     ]
    }
   ],
   "source": [
    "print(df.shape)\n",
    "df.info()"
   ]
  },
  {
   "cell_type": "markdown",
   "metadata": {},
   "source": [
    "Наблюдаем пропуски в столбце `tenure`. Решим в дальнейшем, что с ними делать - здесь имеет место быть либо технические особенности (например, если клиент в банке менее 1 года - ставится NaN) - так или иначе, восстановить по другим признакам данные мы не можем.  \n",
    "Вероятнее, лучшим вариантом будет оставить NaN и анализировать с ними, так и попробовать удалить строки и анализировать без них."
   ]
  },
  {
   "cell_type": "markdown",
   "metadata": {},
   "source": [
    "<div class=\"alert alert-block alert-success\">\n",
    "<b>Успех:</b> Загрузка данных и первичный анализ выполнены корректно\n",
    "</div>"
   ]
  },
  {
   "cell_type": "code",
   "execution_count": 6,
   "metadata": {},
   "outputs": [
    {
     "data": {
      "text/plain": [
       "0.0909"
      ]
     },
     "execution_count": 6,
     "metadata": {},
     "output_type": "execute_result"
    }
   ],
   "source": [
    "df['tenure'].isna().mean()"
   ]
  },
  {
   "cell_type": "markdown",
   "metadata": {},
   "source": [
    "Таким образом имеем 9% пропусков. Относительно незначительное количество"
   ]
  },
  {
   "cell_type": "markdown",
   "metadata": {},
   "source": [
    "Отдельно посмотрим типы данных в нашем датафрейме:"
   ]
  },
  {
   "cell_type": "code",
   "execution_count": 7,
   "metadata": {},
   "outputs": [
    {
     "data": {
      "text/plain": [
       "row_number            int64\n",
       "customer_id           int64\n",
       "surname              object\n",
       "creditscore           int64\n",
       "geography            object\n",
       "gender               object\n",
       "age                   int64\n",
       "tenure              float64\n",
       "balance             float64\n",
       "num_of_products       int64\n",
       "has_crcard            int64\n",
       "isactive_member       int64\n",
       "estimated_salary    float64\n",
       "exited                int64\n",
       "dtype: object"
      ]
     },
     "execution_count": 7,
     "metadata": {},
     "output_type": "execute_result"
    }
   ],
   "source": [
    "df.dtypes"
   ]
  },
  {
   "cell_type": "markdown",
   "metadata": {},
   "source": [
    "`tenure` можно привести к целоцисленному для удобства"
   ]
  },
  {
   "cell_type": "code",
   "execution_count": 8,
   "metadata": {},
   "outputs": [
    {
     "data": {
      "text/html": [
       "<div>\n",
       "<style scoped>\n",
       "    .dataframe tbody tr th:only-of-type {\n",
       "        vertical-align: middle;\n",
       "    }\n",
       "\n",
       "    .dataframe tbody tr th {\n",
       "        vertical-align: top;\n",
       "    }\n",
       "\n",
       "    .dataframe thead th {\n",
       "        text-align: right;\n",
       "    }\n",
       "</style>\n",
       "<table border=\"1\" class=\"dataframe\">\n",
       "  <thead>\n",
       "    <tr style=\"text-align: right;\">\n",
       "      <th></th>\n",
       "      <th>count</th>\n",
       "      <th>mean</th>\n",
       "      <th>std</th>\n",
       "      <th>min</th>\n",
       "      <th>25%</th>\n",
       "      <th>50%</th>\n",
       "      <th>75%</th>\n",
       "      <th>max</th>\n",
       "    </tr>\n",
       "  </thead>\n",
       "  <tbody>\n",
       "    <tr>\n",
       "      <td>row_number</td>\n",
       "      <td>10000.0</td>\n",
       "      <td>5.000500e+03</td>\n",
       "      <td>2886.895680</td>\n",
       "      <td>1.00</td>\n",
       "      <td>2500.75</td>\n",
       "      <td>5.000500e+03</td>\n",
       "      <td>7.500250e+03</td>\n",
       "      <td>10000.00</td>\n",
       "    </tr>\n",
       "    <tr>\n",
       "      <td>customer_id</td>\n",
       "      <td>10000.0</td>\n",
       "      <td>1.569094e+07</td>\n",
       "      <td>71936.186123</td>\n",
       "      <td>15565701.00</td>\n",
       "      <td>15628528.25</td>\n",
       "      <td>1.569074e+07</td>\n",
       "      <td>1.575323e+07</td>\n",
       "      <td>15815690.00</td>\n",
       "    </tr>\n",
       "    <tr>\n",
       "      <td>creditscore</td>\n",
       "      <td>10000.0</td>\n",
       "      <td>6.505288e+02</td>\n",
       "      <td>96.653299</td>\n",
       "      <td>350.00</td>\n",
       "      <td>584.00</td>\n",
       "      <td>6.520000e+02</td>\n",
       "      <td>7.180000e+02</td>\n",
       "      <td>850.00</td>\n",
       "    </tr>\n",
       "    <tr>\n",
       "      <td>age</td>\n",
       "      <td>10000.0</td>\n",
       "      <td>3.892180e+01</td>\n",
       "      <td>10.487806</td>\n",
       "      <td>18.00</td>\n",
       "      <td>32.00</td>\n",
       "      <td>3.700000e+01</td>\n",
       "      <td>4.400000e+01</td>\n",
       "      <td>92.00</td>\n",
       "    </tr>\n",
       "    <tr>\n",
       "      <td>tenure</td>\n",
       "      <td>9091.0</td>\n",
       "      <td>4.997690e+00</td>\n",
       "      <td>2.894723</td>\n",
       "      <td>0.00</td>\n",
       "      <td>2.00</td>\n",
       "      <td>5.000000e+00</td>\n",
       "      <td>7.000000e+00</td>\n",
       "      <td>10.00</td>\n",
       "    </tr>\n",
       "    <tr>\n",
       "      <td>balance</td>\n",
       "      <td>10000.0</td>\n",
       "      <td>7.648589e+04</td>\n",
       "      <td>62397.405202</td>\n",
       "      <td>0.00</td>\n",
       "      <td>0.00</td>\n",
       "      <td>9.719854e+04</td>\n",
       "      <td>1.276442e+05</td>\n",
       "      <td>250898.09</td>\n",
       "    </tr>\n",
       "    <tr>\n",
       "      <td>num_of_products</td>\n",
       "      <td>10000.0</td>\n",
       "      <td>1.530200e+00</td>\n",
       "      <td>0.581654</td>\n",
       "      <td>1.00</td>\n",
       "      <td>1.00</td>\n",
       "      <td>1.000000e+00</td>\n",
       "      <td>2.000000e+00</td>\n",
       "      <td>4.00</td>\n",
       "    </tr>\n",
       "    <tr>\n",
       "      <td>has_crcard</td>\n",
       "      <td>10000.0</td>\n",
       "      <td>7.055000e-01</td>\n",
       "      <td>0.455840</td>\n",
       "      <td>0.00</td>\n",
       "      <td>0.00</td>\n",
       "      <td>1.000000e+00</td>\n",
       "      <td>1.000000e+00</td>\n",
       "      <td>1.00</td>\n",
       "    </tr>\n",
       "    <tr>\n",
       "      <td>isactive_member</td>\n",
       "      <td>10000.0</td>\n",
       "      <td>5.151000e-01</td>\n",
       "      <td>0.499797</td>\n",
       "      <td>0.00</td>\n",
       "      <td>0.00</td>\n",
       "      <td>1.000000e+00</td>\n",
       "      <td>1.000000e+00</td>\n",
       "      <td>1.00</td>\n",
       "    </tr>\n",
       "    <tr>\n",
       "      <td>estimated_salary</td>\n",
       "      <td>10000.0</td>\n",
       "      <td>1.000902e+05</td>\n",
       "      <td>57510.492818</td>\n",
       "      <td>11.58</td>\n",
       "      <td>51002.11</td>\n",
       "      <td>1.001939e+05</td>\n",
       "      <td>1.493882e+05</td>\n",
       "      <td>199992.48</td>\n",
       "    </tr>\n",
       "    <tr>\n",
       "      <td>exited</td>\n",
       "      <td>10000.0</td>\n",
       "      <td>2.037000e-01</td>\n",
       "      <td>0.402769</td>\n",
       "      <td>0.00</td>\n",
       "      <td>0.00</td>\n",
       "      <td>0.000000e+00</td>\n",
       "      <td>0.000000e+00</td>\n",
       "      <td>1.00</td>\n",
       "    </tr>\n",
       "  </tbody>\n",
       "</table>\n",
       "</div>"
      ],
      "text/plain": [
       "                    count          mean           std          min  \\\n",
       "row_number        10000.0  5.000500e+03   2886.895680         1.00   \n",
       "customer_id       10000.0  1.569094e+07  71936.186123  15565701.00   \n",
       "creditscore       10000.0  6.505288e+02     96.653299       350.00   \n",
       "age               10000.0  3.892180e+01     10.487806        18.00   \n",
       "tenure             9091.0  4.997690e+00      2.894723         0.00   \n",
       "balance           10000.0  7.648589e+04  62397.405202         0.00   \n",
       "num_of_products   10000.0  1.530200e+00      0.581654         1.00   \n",
       "has_crcard        10000.0  7.055000e-01      0.455840         0.00   \n",
       "isactive_member   10000.0  5.151000e-01      0.499797         0.00   \n",
       "estimated_salary  10000.0  1.000902e+05  57510.492818        11.58   \n",
       "exited            10000.0  2.037000e-01      0.402769         0.00   \n",
       "\n",
       "                          25%           50%           75%          max  \n",
       "row_number            2500.75  5.000500e+03  7.500250e+03     10000.00  \n",
       "customer_id       15628528.25  1.569074e+07  1.575323e+07  15815690.00  \n",
       "creditscore            584.00  6.520000e+02  7.180000e+02       850.00  \n",
       "age                     32.00  3.700000e+01  4.400000e+01        92.00  \n",
       "tenure                   2.00  5.000000e+00  7.000000e+00        10.00  \n",
       "balance                  0.00  9.719854e+04  1.276442e+05    250898.09  \n",
       "num_of_products          1.00  1.000000e+00  2.000000e+00         4.00  \n",
       "has_crcard               0.00  1.000000e+00  1.000000e+00         1.00  \n",
       "isactive_member          0.00  1.000000e+00  1.000000e+00         1.00  \n",
       "estimated_salary     51002.11  1.001939e+05  1.493882e+05    199992.48  \n",
       "exited                   0.00  0.000000e+00  0.000000e+00         1.00  "
      ]
     },
     "execution_count": 8,
     "metadata": {},
     "output_type": "execute_result"
    }
   ],
   "source": [
    "df.describe().T"
   ]
  },
  {
   "cell_type": "markdown",
   "metadata": {},
   "source": [
    "На первый взгляд не наблюдаем аномалий в данных, значительных выбросов. Например, по возрасту, минимальный 18 лет - максимальный 92 года, что может соответствовать действительности.  \n",
    "\n",
    "Посмотрим целевой столбец `exited`"
   ]
  },
  {
   "cell_type": "code",
   "execution_count": 9,
   "metadata": {},
   "outputs": [
    {
     "data": {
      "text/html": [
       "<div>\n",
       "<style scoped>\n",
       "    .dataframe tbody tr th:only-of-type {\n",
       "        vertical-align: middle;\n",
       "    }\n",
       "\n",
       "    .dataframe tbody tr th {\n",
       "        vertical-align: top;\n",
       "    }\n",
       "\n",
       "    .dataframe thead th {\n",
       "        text-align: right;\n",
       "    }\n",
       "</style>\n",
       "<table border=\"1\" class=\"dataframe\">\n",
       "  <thead>\n",
       "    <tr style=\"text-align: right;\">\n",
       "      <th></th>\n",
       "      <th>exited</th>\n",
       "    </tr>\n",
       "  </thead>\n",
       "  <tbody>\n",
       "    <tr>\n",
       "      <td>0</td>\n",
       "      <td>7963</td>\n",
       "    </tr>\n",
       "    <tr>\n",
       "      <td>1</td>\n",
       "      <td>2037</td>\n",
       "    </tr>\n",
       "  </tbody>\n",
       "</table>\n",
       "</div>"
      ],
      "text/plain": [
       "   exited\n",
       "0    7963\n",
       "1    2037"
      ]
     },
     "execution_count": 9,
     "metadata": {},
     "output_type": "execute_result"
    }
   ],
   "source": [
    "df['exited'].value_counts().to_frame()"
   ]
  },
  {
   "cell_type": "code",
   "execution_count": 10,
   "metadata": {},
   "outputs": [
    {
     "name": "stdout",
     "output_type": "stream",
     "text": [
      "Доля положительных меток: 20.37%\n"
     ]
    }
   ],
   "source": [
    "print('Доля положительных меток: {:.2%}'.format(df['exited'].mean()))"
   ]
  },
  {
   "cell_type": "markdown",
   "metadata": {},
   "source": [
    "<div class=\"alert alert-block alert-success\">\n",
    "<b>Успех:</b> Дисбаланс исследован\n",
    "</div>"
   ]
  },
  {
   "cell_type": "markdown",
   "metadata": {},
   "source": [
    "Наблюдается дисбаланс классов. Будем обучать модель на первоначальных данных, затем попробуем побороться с дисбалансом и обучить еще раз. Посмотрим на результаты в дальнейшем.  \n",
    "\n",
    "Предлагаю посмотреть те NaN признака `tenure`, где целевое значение равно 0"
   ]
  },
  {
   "cell_type": "code",
   "execution_count": 11,
   "metadata": {},
   "outputs": [
    {
     "name": "stdout",
     "output_type": "stream",
     "text": [
      "<class 'pandas.core.frame.DataFrame'>\n",
      "Int64Index: 726 entries, 48 to 9999\n",
      "Data columns (total 14 columns):\n",
      "row_number          726 non-null int64\n",
      "customer_id         726 non-null int64\n",
      "surname             726 non-null object\n",
      "creditscore         726 non-null int64\n",
      "geography           726 non-null object\n",
      "gender              726 non-null object\n",
      "age                 726 non-null int64\n",
      "tenure              0 non-null float64\n",
      "balance             726 non-null float64\n",
      "num_of_products     726 non-null int64\n",
      "has_crcard          726 non-null int64\n",
      "isactive_member     726 non-null int64\n",
      "estimated_salary    726 non-null float64\n",
      "exited              726 non-null int64\n",
      "dtypes: float64(3), int64(8), object(3)\n",
      "memory usage: 85.1+ KB\n"
     ]
    }
   ],
   "source": [
    "df[(df['tenure'].isna() == True) & (df['exited'] == 0)].info()"
   ]
  },
  {
   "cell_type": "markdown",
   "metadata": {},
   "source": [
    "Выходит, что в 726 случаях с признаком 0 имеем пропуски в признаке `tenure`"
   ]
  },
  {
   "cell_type": "code",
   "execution_count": 12,
   "metadata": {},
   "outputs": [
    {
     "data": {
      "text/html": [
       "<div>\n",
       "<style scoped>\n",
       "    .dataframe tbody tr th:only-of-type {\n",
       "        vertical-align: middle;\n",
       "    }\n",
       "\n",
       "    .dataframe tbody tr th {\n",
       "        vertical-align: top;\n",
       "    }\n",
       "\n",
       "    .dataframe thead th {\n",
       "        text-align: right;\n",
       "    }\n",
       "</style>\n",
       "<table border=\"1\" class=\"dataframe\">\n",
       "  <thead>\n",
       "    <tr style=\"text-align: right;\">\n",
       "      <th></th>\n",
       "      <th>num_of_products</th>\n",
       "    </tr>\n",
       "  </thead>\n",
       "  <tbody>\n",
       "    <tr>\n",
       "      <td>1</td>\n",
       "      <td>467</td>\n",
       "    </tr>\n",
       "    <tr>\n",
       "      <td>2</td>\n",
       "      <td>406</td>\n",
       "    </tr>\n",
       "    <tr>\n",
       "      <td>3</td>\n",
       "      <td>32</td>\n",
       "    </tr>\n",
       "    <tr>\n",
       "      <td>4</td>\n",
       "      <td>4</td>\n",
       "    </tr>\n",
       "  </tbody>\n",
       "</table>\n",
       "</div>"
      ],
      "text/plain": [
       "   num_of_products\n",
       "1              467\n",
       "2              406\n",
       "3               32\n",
       "4                4"
      ]
     },
     "execution_count": 12,
     "metadata": {},
     "output_type": "execute_result"
    }
   ],
   "source": [
    "df[(df['tenure'].isna() == True)]['num_of_products'].value_counts().to_frame()"
   ]
  },
  {
   "cell_type": "code",
   "execution_count": 13,
   "metadata": {},
   "outputs": [
    {
     "data": {
      "text/plain": [
       "5.0"
      ]
     },
     "execution_count": 13,
     "metadata": {},
     "output_type": "execute_result"
    }
   ],
   "source": [
    "df['tenure'].median()"
   ]
  },
  {
   "cell_type": "code",
   "execution_count": 14,
   "metadata": {},
   "outputs": [
    {
     "data": {
      "text/plain": [
       "1.0     952\n",
       "2.0     950\n",
       "8.0     933\n",
       "3.0     928\n",
       "5.0     927\n",
       "7.0     925\n",
       "4.0     885\n",
       "9.0     882\n",
       "6.0     881\n",
       "10.0    446\n",
       "0.0     382\n",
       "Name: tenure, dtype: int64"
      ]
     },
     "execution_count": 14,
     "metadata": {},
     "output_type": "execute_result"
    }
   ],
   "source": [
    "df['tenure'].value_counts()"
   ]
  },
  {
   "cell_type": "markdown",
   "metadata": {},
   "source": [
    "У таких клиентов есть продукты банка, в основном, 1-2, предлагаю заменить пропуски на `0`.  Также есть вариант не трогать, удалить или заменить на медиану.   \n",
    "\n",
    "\n",
    "Уточним у коллег причину появления. В данном случае меняем на 0 - предполагаю, что клиенты у банка новые, до года"
   ]
  },
  {
   "cell_type": "code",
   "execution_count": 15,
   "metadata": {
    "scrolled": true
   },
   "outputs": [
    {
     "name": "stdout",
     "output_type": "stream",
     "text": [
      "<class 'pandas.core.frame.DataFrame'>\n",
      "RangeIndex: 10000 entries, 0 to 9999\n",
      "Data columns (total 14 columns):\n",
      "row_number          10000 non-null int64\n",
      "customer_id         10000 non-null int64\n",
      "surname             10000 non-null object\n",
      "creditscore         10000 non-null int64\n",
      "geography           10000 non-null object\n",
      "gender              10000 non-null object\n",
      "age                 10000 non-null int64\n",
      "tenure              10000 non-null int64\n",
      "balance             10000 non-null float64\n",
      "num_of_products     10000 non-null int64\n",
      "has_crcard          10000 non-null int64\n",
      "isactive_member     10000 non-null int64\n",
      "estimated_salary    10000 non-null float64\n",
      "exited              10000 non-null int64\n",
      "dtypes: float64(2), int64(9), object(3)\n",
      "memory usage: 1.1+ MB\n"
     ]
    }
   ],
   "source": [
    "df['tenure'] = df['tenure'].fillna(0).median().astype('int64')\n",
    "df.info()"
   ]
  },
  {
   "cell_type": "markdown",
   "metadata": {},
   "source": [
    "Пропуски убрали, привели признак `tenure` к целочисленному"
   ]
  },
  {
   "cell_type": "markdown",
   "metadata": {},
   "source": [
    "<div class=\"alert alert-block alert-success\">\n",
    "<b>Успех:</b> Пропуски обработаны допустимым образом, и это решение можно считать верным - так как оно логично аргументировано\n",
    "</div>"
   ]
  },
  {
   "cell_type": "code",
   "execution_count": 16,
   "metadata": {},
   "outputs": [
    {
     "data": {
      "text/plain": [
       "4    10000\n",
       "Name: tenure, dtype: int64"
      ]
     },
     "execution_count": 16,
     "metadata": {},
     "output_type": "execute_result"
    }
   ],
   "source": [
    "df['tenure'].value_counts()"
   ]
  },
  {
   "cell_type": "code",
   "execution_count": 17,
   "metadata": {},
   "outputs": [
    {
     "data": {
      "image/png": "[encoded data removed]",
      "text/plain": [
       "<Figure size 1440x1080 with 12 Axes>"
      ]
     },
     "metadata": {},
     "output_type": "display_data"
    }
   ],
   "source": [
    "df.hist(bins=50, figsize=(20,15), edgecolor='black', linewidth=2)\n",
    "plt.show()"
   ]
  },
  {
   "cell_type": "markdown",
   "metadata": {},
   "source": [
    "В процессе формирования признаков для нашей модели - можно будет удалить три столбца - `customer_id`, `row_number` и `surname`, который не несут полезной нагрузки в нашем случае"
   ]
  },
  {
   "cell_type": "code",
   "execution_count": 18,
   "metadata": {},
   "outputs": [
    {
     "data": {
      "text/plain": [
       "0"
      ]
     },
     "execution_count": 18,
     "metadata": {},
     "output_type": "execute_result"
    }
   ],
   "source": [
    "df.duplicated().sum()"
   ]
  },
  {
   "cell_type": "markdown",
   "metadata": {},
   "source": [
    "### Вывод"
   ]
  },
  {
   "cell_type": "markdown",
   "metadata": {},
   "source": [
    "Отток клиентов – это потеря клиентов, выраженное в отсутствии покупок или платежей в течение определенного периода времени. Показатель оттока крайне важен для компаний с подписной и транзакционной моделью бизнеса, подразумевающих регулярные платежи в сторону компании. \n",
    "\n",
    "Мы предварительно рассмотрели наш сет данных:\n",
    "\n",
    "- пропусков обнаружены в одном столбце `tenure` - заменили на 0, необходимо уточнить причину появления\n",
    "- дубликатов не обнаружено, удалять строки не требуется\n",
    "- в процессе подготовки признаков для анализа - удалим столбцы `customer_id`, `row_number` и `surname`\n",
    "\n",
    "\n",
    "Можем приступать к подготовке признаков"
   ]
  },
  {
   "cell_type": "markdown",
   "metadata": {},
   "source": [
    "<div class=\"alert alert-block alert-success\">\n",
    "<b>Успех:</b> В целом хорошая и детальная предобработка данных, идем дальше.\n",
    "</div>"
   ]
  },
  {
   "cell_type": "markdown",
   "metadata": {},
   "source": [
    "## Исследование задачи"
   ]
  },
  {
   "cell_type": "markdown",
   "metadata": {},
   "source": [
    "Перед нами стоит задача классификации - необходимо определить - уйдет клиент в ближайшее время или нет. Таким образом, для достижения целей данной задачи предлагаю использовать алгоритмы Логистической регрессии, Случайного леса и Catboost. \n",
    "\n",
    "Для оценки моделей будем использовать F1 меру (`F1 score`)\n",
    "\n",
    "Для оценки итоговой модели используем ROC кривую с ее площадью (`ROC-AUC`).  \n",
    "\n",
    "Как мы выяснили, у нас наблюдается дисбаланс классов, правильность (accuracy) нам не подходит."
   ]
  },
  {
   "cell_type": "markdown",
   "metadata": {},
   "source": [
    "### Подготовка признаков"
   ]
  },
  {
   "cell_type": "code",
   "execution_count": 19,
   "metadata": {},
   "outputs": [
    {
     "data": {
      "text/html": [
       "<div>\n",
       "<style scoped>\n",
       "    .dataframe tbody tr th:only-of-type {\n",
       "        vertical-align: middle;\n",
       "    }\n",
       "\n",
       "    .dataframe tbody tr th {\n",
       "        vertical-align: top;\n",
       "    }\n",
       "\n",
       "    .dataframe thead th {\n",
       "        text-align: right;\n",
       "    }\n",
       "</style>\n",
       "<table border=\"1\" class=\"dataframe\">\n",
       "  <thead>\n",
       "    <tr style=\"text-align: right;\">\n",
       "      <th></th>\n",
       "      <th>row_number</th>\n",
       "      <th>customer_id</th>\n",
       "      <th>surname</th>\n",
       "      <th>creditscore</th>\n",
       "      <th>geography</th>\n",
       "      <th>gender</th>\n",
       "      <th>age</th>\n",
       "      <th>tenure</th>\n",
       "      <th>balance</th>\n",
       "      <th>num_of_products</th>\n",
       "      <th>has_crcard</th>\n",
       "      <th>isactive_member</th>\n",
       "      <th>estimated_salary</th>\n",
       "      <th>exited</th>\n",
       "    </tr>\n",
       "  </thead>\n",
       "  <tbody>\n",
       "    <tr>\n",
       "      <td>0</td>\n",
       "      <td>1</td>\n",
       "      <td>15634602</td>\n",
       "      <td>Hargrave</td>\n",
       "      <td>619</td>\n",
       "      <td>France</td>\n",
       "      <td>Female</td>\n",
       "      <td>42</td>\n",
       "      <td>4</td>\n",
       "      <td>0.00</td>\n",
       "      <td>1</td>\n",
       "      <td>1</td>\n",
       "      <td>1</td>\n",
       "      <td>101348.88</td>\n",
       "      <td>1</td>\n",
       "    </tr>\n",
       "    <tr>\n",
       "      <td>1</td>\n",
       "      <td>2</td>\n",
       "      <td>15647311</td>\n",
       "      <td>Hill</td>\n",
       "      <td>608</td>\n",
       "      <td>Spain</td>\n",
       "      <td>Female</td>\n",
       "      <td>41</td>\n",
       "      <td>4</td>\n",
       "      <td>83807.86</td>\n",
       "      <td>1</td>\n",
       "      <td>0</td>\n",
       "      <td>1</td>\n",
       "      <td>112542.58</td>\n",
       "      <td>0</td>\n",
       "    </tr>\n",
       "    <tr>\n",
       "      <td>2</td>\n",
       "      <td>3</td>\n",
       "      <td>15619304</td>\n",
       "      <td>Onio</td>\n",
       "      <td>502</td>\n",
       "      <td>France</td>\n",
       "      <td>Female</td>\n",
       "      <td>42</td>\n",
       "      <td>4</td>\n",
       "      <td>159660.80</td>\n",
       "      <td>3</td>\n",
       "      <td>1</td>\n",
       "      <td>0</td>\n",
       "      <td>113931.57</td>\n",
       "      <td>1</td>\n",
       "    </tr>\n",
       "    <tr>\n",
       "      <td>3</td>\n",
       "      <td>4</td>\n",
       "      <td>15701354</td>\n",
       "      <td>Boni</td>\n",
       "      <td>699</td>\n",
       "      <td>France</td>\n",
       "      <td>Female</td>\n",
       "      <td>39</td>\n",
       "      <td>4</td>\n",
       "      <td>0.00</td>\n",
       "      <td>2</td>\n",
       "      <td>0</td>\n",
       "      <td>0</td>\n",
       "      <td>93826.63</td>\n",
       "      <td>0</td>\n",
       "    </tr>\n",
       "    <tr>\n",
       "      <td>4</td>\n",
       "      <td>5</td>\n",
       "      <td>15737888</td>\n",
       "      <td>Mitchell</td>\n",
       "      <td>850</td>\n",
       "      <td>Spain</td>\n",
       "      <td>Female</td>\n",
       "      <td>43</td>\n",
       "      <td>4</td>\n",
       "      <td>125510.82</td>\n",
       "      <td>1</td>\n",
       "      <td>1</td>\n",
       "      <td>1</td>\n",
       "      <td>79084.10</td>\n",
       "      <td>0</td>\n",
       "    </tr>\n",
       "  </tbody>\n",
       "</table>\n",
       "</div>"
      ],
      "text/plain": [
       "   row_number  customer_id   surname  creditscore geography  gender  age  \\\n",
       "0           1     15634602  Hargrave          619    France  Female   42   \n",
       "1           2     15647311      Hill          608     Spain  Female   41   \n",
       "2           3     15619304      Onio          502    France  Female   42   \n",
       "3           4     15701354      Boni          699    France  Female   39   \n",
       "4           5     15737888  Mitchell          850     Spain  Female   43   \n",
       "\n",
       "   tenure    balance  num_of_products  has_crcard  isactive_member  \\\n",
       "0       4       0.00                1           1                1   \n",
       "1       4   83807.86                1           0                1   \n",
       "2       4  159660.80                3           1                0   \n",
       "3       4       0.00                2           0                0   \n",
       "4       4  125510.82                1           1                1   \n",
       "\n",
       "   estimated_salary  exited  \n",
       "0         101348.88       1  \n",
       "1         112542.58       0  \n",
       "2         113931.57       1  \n",
       "3          93826.63       0  \n",
       "4          79084.10       0  "
      ]
     },
     "execution_count": 19,
     "metadata": {},
     "output_type": "execute_result"
    }
   ],
   "source": [
    "df.head()"
   ]
  },
  {
   "cell_type": "markdown",
   "metadata": {},
   "source": [
    "Удалим ненужные признаки и сформируем новый дата сет, чтобы не перезаписывать переменные"
   ]
  },
  {
   "cell_type": "code",
   "execution_count": 20,
   "metadata": {
    "scrolled": true
   },
   "outputs": [
    {
     "data": {
      "text/html": [
       "<div>\n",
       "<style scoped>\n",
       "    .dataframe tbody tr th:only-of-type {\n",
       "        vertical-align: middle;\n",
       "    }\n",
       "\n",
       "    .dataframe tbody tr th {\n",
       "        vertical-align: top;\n",
       "    }\n",
       "\n",
       "    .dataframe thead th {\n",
       "        text-align: right;\n",
       "    }\n",
       "</style>\n",
       "<table border=\"1\" class=\"dataframe\">\n",
       "  <thead>\n",
       "    <tr style=\"text-align: right;\">\n",
       "      <th></th>\n",
       "      <th>creditscore</th>\n",
       "      <th>geography</th>\n",
       "      <th>gender</th>\n",
       "      <th>age</th>\n",
       "      <th>tenure</th>\n",
       "      <th>balance</th>\n",
       "      <th>num_of_products</th>\n",
       "      <th>has_crcard</th>\n",
       "      <th>isactive_member</th>\n",
       "      <th>estimated_salary</th>\n",
       "      <th>exited</th>\n",
       "    </tr>\n",
       "  </thead>\n",
       "  <tbody>\n",
       "    <tr>\n",
       "      <td>0</td>\n",
       "      <td>619</td>\n",
       "      <td>France</td>\n",
       "      <td>Female</td>\n",
       "      <td>42</td>\n",
       "      <td>4</td>\n",
       "      <td>0.00</td>\n",
       "      <td>1</td>\n",
       "      <td>1</td>\n",
       "      <td>1</td>\n",
       "      <td>101348.88</td>\n",
       "      <td>1</td>\n",
       "    </tr>\n",
       "    <tr>\n",
       "      <td>1</td>\n",
       "      <td>608</td>\n",
       "      <td>Spain</td>\n",
       "      <td>Female</td>\n",
       "      <td>41</td>\n",
       "      <td>4</td>\n",
       "      <td>83807.86</td>\n",
       "      <td>1</td>\n",
       "      <td>0</td>\n",
       "      <td>1</td>\n",
       "      <td>112542.58</td>\n",
       "      <td>0</td>\n",
       "    </tr>\n",
       "    <tr>\n",
       "      <td>2</td>\n",
       "      <td>502</td>\n",
       "      <td>France</td>\n",
       "      <td>Female</td>\n",
       "      <td>42</td>\n",
       "      <td>4</td>\n",
       "      <td>159660.80</td>\n",
       "      <td>3</td>\n",
       "      <td>1</td>\n",
       "      <td>0</td>\n",
       "      <td>113931.57</td>\n",
       "      <td>1</td>\n",
       "    </tr>\n",
       "    <tr>\n",
       "      <td>3</td>\n",
       "      <td>699</td>\n",
       "      <td>France</td>\n",
       "      <td>Female</td>\n",
       "      <td>39</td>\n",
       "      <td>4</td>\n",
       "      <td>0.00</td>\n",
       "      <td>2</td>\n",
       "      <td>0</td>\n",
       "      <td>0</td>\n",
       "      <td>93826.63</td>\n",
       "      <td>0</td>\n",
       "    </tr>\n",
       "    <tr>\n",
       "      <td>4</td>\n",
       "      <td>850</td>\n",
       "      <td>Spain</td>\n",
       "      <td>Female</td>\n",
       "      <td>43</td>\n",
       "      <td>4</td>\n",
       "      <td>125510.82</td>\n",
       "      <td>1</td>\n",
       "      <td>1</td>\n",
       "      <td>1</td>\n",
       "      <td>79084.10</td>\n",
       "      <td>0</td>\n",
       "    </tr>\n",
       "  </tbody>\n",
       "</table>\n",
       "</div>"
      ],
      "text/plain": [
       "   creditscore geography  gender  age  tenure    balance  num_of_products  \\\n",
       "0          619    France  Female   42       4       0.00                1   \n",
       "1          608     Spain  Female   41       4   83807.86                1   \n",
       "2          502    France  Female   42       4  159660.80                3   \n",
       "3          699    France  Female   39       4       0.00                2   \n",
       "4          850     Spain  Female   43       4  125510.82                1   \n",
       "\n",
       "   has_crcard  isactive_member  estimated_salary  exited  \n",
       "0           1                1         101348.88       1  \n",
       "1           0                1         112542.58       0  \n",
       "2           1                0         113931.57       1  \n",
       "3           0                0          93826.63       0  \n",
       "4           1                1          79084.10       0  "
      ]
     },
     "execution_count": 20,
     "metadata": {},
     "output_type": "execute_result"
    }
   ],
   "source": [
    "data = df.drop(['row_number', 'customer_id', 'surname'], axis=1).copy()\n",
    "data.head()"
   ]
  },
  {
   "cell_type": "markdown",
   "metadata": {},
   "source": [
    "<div class=\"alert alert-block alert-success\">\n",
    "<b>Успех:</b> Удалить неинформативные признаки - хорошее решение.\n",
    "</div>"
   ]
  },
  {
   "cell_type": "markdown",
   "metadata": {},
   "source": [
    "### One-hot Encoding"
   ]
  },
  {
   "cell_type": "markdown",
   "metadata": {},
   "source": [
    "Категориальные признаки `geography` и `gender` необходимо преобразовать в численные с помощью техники прямого кодирования, или отображения (англ. One-Hot Encoding, OHE). Нам нужны количественные признаки для большей точности. Для того, чтобы не "
   ]
  },
  {
   "cell_type": "code",
   "execution_count": 21,
   "metadata": {},
   "outputs": [
    {
     "data": {
      "text/plain": [
       "France     5014\n",
       "Germany    2509\n",
       "Spain      2477\n",
       "Name: geography, dtype: int64"
      ]
     },
     "execution_count": 21,
     "metadata": {},
     "output_type": "execute_result"
    }
   ],
   "source": [
    "data['geography'].value_counts()"
   ]
  },
  {
   "cell_type": "code",
   "execution_count": 22,
   "metadata": {},
   "outputs": [
    {
     "data": {
      "text/plain": [
       "Male      5457\n",
       "Female    4543\n",
       "Name: gender, dtype: int64"
      ]
     },
     "execution_count": 22,
     "metadata": {},
     "output_type": "execute_result"
    }
   ],
   "source": [
    "data['gender'].value_counts()"
   ]
  },
  {
   "cell_type": "code",
   "execution_count": 23,
   "metadata": {},
   "outputs": [
    {
     "data": {
      "text/html": [
       "<div>\n",
       "<style scoped>\n",
       "    .dataframe tbody tr th:only-of-type {\n",
       "        vertical-align: middle;\n",
       "    }\n",
       "\n",
       "    .dataframe tbody tr th {\n",
       "        vertical-align: top;\n",
       "    }\n",
       "\n",
       "    .dataframe thead th {\n",
       "        text-align: right;\n",
       "    }\n",
       "</style>\n",
       "<table border=\"1\" class=\"dataframe\">\n",
       "  <thead>\n",
       "    <tr style=\"text-align: right;\">\n",
       "      <th></th>\n",
       "      <th>creditscore</th>\n",
       "      <th>age</th>\n",
       "      <th>tenure</th>\n",
       "      <th>balance</th>\n",
       "      <th>num_of_products</th>\n",
       "      <th>has_crcard</th>\n",
       "      <th>isactive_member</th>\n",
       "      <th>estimated_salary</th>\n",
       "      <th>exited</th>\n",
       "      <th>Male</th>\n",
       "      <th>Germany</th>\n",
       "      <th>Spain</th>\n",
       "    </tr>\n",
       "  </thead>\n",
       "  <tbody>\n",
       "    <tr>\n",
       "      <td>0</td>\n",
       "      <td>619</td>\n",
       "      <td>42</td>\n",
       "      <td>4</td>\n",
       "      <td>0.00</td>\n",
       "      <td>1</td>\n",
       "      <td>1</td>\n",
       "      <td>1</td>\n",
       "      <td>101348.88</td>\n",
       "      <td>1</td>\n",
       "      <td>0</td>\n",
       "      <td>0</td>\n",
       "      <td>0</td>\n",
       "    </tr>\n",
       "    <tr>\n",
       "      <td>1</td>\n",
       "      <td>608</td>\n",
       "      <td>41</td>\n",
       "      <td>4</td>\n",
       "      <td>83807.86</td>\n",
       "      <td>1</td>\n",
       "      <td>0</td>\n",
       "      <td>1</td>\n",
       "      <td>112542.58</td>\n",
       "      <td>0</td>\n",
       "      <td>0</td>\n",
       "      <td>0</td>\n",
       "      <td>1</td>\n",
       "    </tr>\n",
       "    <tr>\n",
       "      <td>2</td>\n",
       "      <td>502</td>\n",
       "      <td>42</td>\n",
       "      <td>4</td>\n",
       "      <td>159660.80</td>\n",
       "      <td>3</td>\n",
       "      <td>1</td>\n",
       "      <td>0</td>\n",
       "      <td>113931.57</td>\n",
       "      <td>1</td>\n",
       "      <td>0</td>\n",
       "      <td>0</td>\n",
       "      <td>0</td>\n",
       "    </tr>\n",
       "    <tr>\n",
       "      <td>3</td>\n",
       "      <td>699</td>\n",
       "      <td>39</td>\n",
       "      <td>4</td>\n",
       "      <td>0.00</td>\n",
       "      <td>2</td>\n",
       "      <td>0</td>\n",
       "      <td>0</td>\n",
       "      <td>93826.63</td>\n",
       "      <td>0</td>\n",
       "      <td>0</td>\n",
       "      <td>0</td>\n",
       "      <td>0</td>\n",
       "    </tr>\n",
       "    <tr>\n",
       "      <td>4</td>\n",
       "      <td>850</td>\n",
       "      <td>43</td>\n",
       "      <td>4</td>\n",
       "      <td>125510.82</td>\n",
       "      <td>1</td>\n",
       "      <td>1</td>\n",
       "      <td>1</td>\n",
       "      <td>79084.10</td>\n",
       "      <td>0</td>\n",
       "      <td>0</td>\n",
       "      <td>0</td>\n",
       "      <td>1</td>\n",
       "    </tr>\n",
       "  </tbody>\n",
       "</table>\n",
       "</div>"
      ],
      "text/plain": [
       "   creditscore  age  tenure    balance  num_of_products  has_crcard  \\\n",
       "0          619   42       4       0.00                1           1   \n",
       "1          608   41       4   83807.86                1           0   \n",
       "2          502   42       4  159660.80                3           1   \n",
       "3          699   39       4       0.00                2           0   \n",
       "4          850   43       4  125510.82                1           1   \n",
       "\n",
       "   isactive_member  estimated_salary  exited  Male  Germany  Spain  \n",
       "0                1         101348.88       1     0        0      0  \n",
       "1                1         112542.58       0     0        0      1  \n",
       "2                0         113931.57       1     0        0      0  \n",
       "3                0          93826.63       0     0        0      0  \n",
       "4                1          79084.10       0     0        0      1  "
      ]
     },
     "execution_count": 23,
     "metadata": {},
     "output_type": "execute_result"
    }
   ],
   "source": [
    "# проведем кодирования двух признаков\n",
    "gender_ohe = pd.get_dummies(df[\"gender\"], drop_first=True)\n",
    "country_ohe = pd.get_dummies(df[\"geography\"], drop_first=True)\n",
    "\n",
    "#удалим категориальные признаки\n",
    "data.drop([\"gender\", \"geography\"], axis=1, inplace=True)\n",
    "\n",
    "#объединим новые столбцы\n",
    "df_ohe = pd.concat([data, gender_ohe, country_ohe], axis=1)\n",
    "\n",
    "df_ohe.head()"
   ]
  },
  {
   "cell_type": "code",
   "execution_count": 24,
   "metadata": {},
   "outputs": [
    {
     "name": "stdout",
     "output_type": "stream",
     "text": [
      "<class 'pandas.core.frame.DataFrame'>\n",
      "RangeIndex: 10000 entries, 0 to 9999\n",
      "Data columns (total 12 columns):\n",
      "creditscore         10000 non-null int64\n",
      "age                 10000 non-null int64\n",
      "tenure              10000 non-null int64\n",
      "balance             10000 non-null float64\n",
      "num_of_products     10000 non-null int64\n",
      "has_crcard          10000 non-null int64\n",
      "isactive_member     10000 non-null int64\n",
      "estimated_salary    10000 non-null float64\n",
      "exited              10000 non-null int64\n",
      "Male                10000 non-null uint8\n",
      "Germany             10000 non-null uint8\n",
      "Spain               10000 non-null uint8\n",
      "dtypes: float64(2), int64(7), uint8(3)\n",
      "memory usage: 732.5 KB\n"
     ]
    }
   ],
   "source": [
    "df_ohe.info()"
   ]
  },
  {
   "cell_type": "markdown",
   "metadata": {},
   "source": [
    "Столбцы закодировали, удалили лишние. Необходимо также стандартизировать признаки, так как количественные значения сильно разнятся. Стандартизацию не будем применять к стобцам `tenure`, `num_of_products`, `has_crcard`, `isactive_member` и к целему с преобразованными категориальными"
   ]
  },
  {
   "cell_type": "markdown",
   "metadata": {},
   "source": [
    "<div class=\"alert alert-block alert-success\">\n",
    "<b>Успех:</b> OHE применен верно\n",
    "</div>"
   ]
  },
  {
   "cell_type": "markdown",
   "metadata": {},
   "source": [
    "### Масштабирование"
   ]
  },
  {
   "cell_type": "code",
   "execution_count": 25,
   "metadata": {
    "scrolled": true
   },
   "outputs": [
    {
     "data": {
      "text/html": [
       "<div>\n",
       "<style scoped>\n",
       "    .dataframe tbody tr th:only-of-type {\n",
       "        vertical-align: middle;\n",
       "    }\n",
       "\n",
       "    .dataframe tbody tr th {\n",
       "        vertical-align: top;\n",
       "    }\n",
       "\n",
       "    .dataframe thead th {\n",
       "        text-align: right;\n",
       "    }\n",
       "</style>\n",
       "<table border=\"1\" class=\"dataframe\">\n",
       "  <thead>\n",
       "    <tr style=\"text-align: right;\">\n",
       "      <th></th>\n",
       "      <th>creditscore</th>\n",
       "      <th>age</th>\n",
       "      <th>tenure</th>\n",
       "      <th>balance</th>\n",
       "      <th>num_of_products</th>\n",
       "      <th>has_crcard</th>\n",
       "      <th>isactive_member</th>\n",
       "      <th>estimated_salary</th>\n",
       "      <th>exited</th>\n",
       "      <th>Male</th>\n",
       "      <th>Germany</th>\n",
       "      <th>Spain</th>\n",
       "    </tr>\n",
       "  </thead>\n",
       "  <tbody>\n",
       "    <tr>\n",
       "      <td>0</td>\n",
       "      <td>-0.326221</td>\n",
       "      <td>0.293517</td>\n",
       "      <td>4</td>\n",
       "      <td>-1.225848</td>\n",
       "      <td>1</td>\n",
       "      <td>1</td>\n",
       "      <td>1</td>\n",
       "      <td>0.021886</td>\n",
       "      <td>1</td>\n",
       "      <td>0</td>\n",
       "      <td>0</td>\n",
       "      <td>0</td>\n",
       "    </tr>\n",
       "    <tr>\n",
       "      <td>1</td>\n",
       "      <td>-0.440036</td>\n",
       "      <td>0.198164</td>\n",
       "      <td>4</td>\n",
       "      <td>0.117350</td>\n",
       "      <td>1</td>\n",
       "      <td>0</td>\n",
       "      <td>1</td>\n",
       "      <td>0.216534</td>\n",
       "      <td>0</td>\n",
       "      <td>0</td>\n",
       "      <td>0</td>\n",
       "      <td>1</td>\n",
       "    </tr>\n",
       "    <tr>\n",
       "      <td>2</td>\n",
       "      <td>-1.536794</td>\n",
       "      <td>0.293517</td>\n",
       "      <td>4</td>\n",
       "      <td>1.333053</td>\n",
       "      <td>3</td>\n",
       "      <td>1</td>\n",
       "      <td>0</td>\n",
       "      <td>0.240687</td>\n",
       "      <td>1</td>\n",
       "      <td>0</td>\n",
       "      <td>0</td>\n",
       "      <td>0</td>\n",
       "    </tr>\n",
       "    <tr>\n",
       "      <td>3</td>\n",
       "      <td>0.501521</td>\n",
       "      <td>0.007457</td>\n",
       "      <td>4</td>\n",
       "      <td>-1.225848</td>\n",
       "      <td>2</td>\n",
       "      <td>0</td>\n",
       "      <td>0</td>\n",
       "      <td>-0.108918</td>\n",
       "      <td>0</td>\n",
       "      <td>0</td>\n",
       "      <td>0</td>\n",
       "      <td>0</td>\n",
       "    </tr>\n",
       "    <tr>\n",
       "      <td>4</td>\n",
       "      <td>2.063884</td>\n",
       "      <td>0.388871</td>\n",
       "      <td>4</td>\n",
       "      <td>0.785728</td>\n",
       "      <td>1</td>\n",
       "      <td>1</td>\n",
       "      <td>1</td>\n",
       "      <td>-0.365276</td>\n",
       "      <td>0</td>\n",
       "      <td>0</td>\n",
       "      <td>0</td>\n",
       "      <td>1</td>\n",
       "    </tr>\n",
       "  </tbody>\n",
       "</table>\n",
       "</div>"
      ],
      "text/plain": [
       "   creditscore       age  tenure   balance  num_of_products  has_crcard  \\\n",
       "0    -0.326221  0.293517       4 -1.225848                1           1   \n",
       "1    -0.440036  0.198164       4  0.117350                1           0   \n",
       "2    -1.536794  0.293517       4  1.333053                3           1   \n",
       "3     0.501521  0.007457       4 -1.225848                2           0   \n",
       "4     2.063884  0.388871       4  0.785728                1           1   \n",
       "\n",
       "   isactive_member  estimated_salary  exited  Male  Germany  Spain  \n",
       "0                1          0.021886       1     0        0      0  \n",
       "1                1          0.216534       0     0        0      1  \n",
       "2                0          0.240687       1     0        0      0  \n",
       "3                0         -0.108918       0     0        0      0  \n",
       "4                1         -0.365276       0     0        0      1  "
      ]
     },
     "execution_count": 25,
     "metadata": {},
     "output_type": "execute_result"
    }
   ],
   "source": [
    "numeric = ['creditscore', 'age', 'balance', 'estimated_salary']\n",
    "scaler = StandardScaler()\n",
    "scaler.fit(df_ohe[numeric])\n",
    "pd.options.mode.chained_assignment = None\n",
    "df_ohe[numeric] = scaler.transform(df_ohe[numeric])\n",
    "df_ohe.head()"
   ]
  },
  {
   "cell_type": "markdown",
   "metadata": {},
   "source": [
    "<div class=\"alert alert-block alert-info\">\n",
    "<b>Совет:</b> Упс.... здесь небольшая ошибка, но она не критическая<br>\n",
    "Масштабировать признаки на всем датасете может привести к утечке данных (data leak). Обучать scaler нужно только на трейне.\n",
    "Про Data Leaks можно почитать подробнее по следующим ссылкам:\n",
    "\n",
    "[Ссылка 1](https://towardsdatascience.com/preventing-data-leakage-in-your-machine-learning-model-9ae54b3cd1fb) <br>\n",
    "[Ссылка 2](https://machinelearningmastery.com/data-preparation-without-data-leakage/)\n",
    "</div>"
   ]
  },
  {
   "cell_type": "markdown",
   "metadata": {},
   "source": [
    "### Разделение выборки"
   ]
  },
  {
   "cell_type": "markdown",
   "metadata": {},
   "source": [
    "Мы подготовили признаки. Теперь разделим наши выборки на обучающую, валидационную для подбора гиперпараметров и тестовую, на которой мы проверим нашу модель. Тестовую выборку до конца трогать не будем, на ней отработаем лучшую модель"
   ]
  },
  {
   "cell_type": "code",
   "execution_count": 26,
   "metadata": {},
   "outputs": [],
   "source": [
    "def split_data(data, target_column):\n",
    "    return data.drop(columns=[target_column], axis=1), data[target_column]"
   ]
  },
  {
   "cell_type": "code",
   "execution_count": 27,
   "metadata": {},
   "outputs": [],
   "source": [
    "features, target = split_data(df_ohe,'exited')"
   ]
  },
  {
   "cell_type": "markdown",
   "metadata": {},
   "source": [
    "Для начала получим валидационную выборку 20% и оставшиеся 80% разделим еще раз для получения тестовой выборки. Обучение будем проводить на 60% данных"
   ]
  },
  {
   "cell_type": "code",
   "execution_count": 28,
   "metadata": {},
   "outputs": [],
   "source": [
    "features_df, features_valid, target_df, target_valid = ( \n",
    "                                train_test_split(\n",
    "                                features, target, test_size=0.20, random_state=42)\n",
    ")\n"
   ]
  },
  {
   "cell_type": "code",
   "execution_count": 29,
   "metadata": {},
   "outputs": [],
   "source": [
    "features_train, features_test, target_train, target_test = ( \n",
    "                                train_test_split(\n",
    "                                features_df, target_df, test_size=0.25, random_state=42)\n",
    ")\n"
   ]
  },
  {
   "cell_type": "code",
   "execution_count": 30,
   "metadata": {},
   "outputs": [
    {
     "name": "stdout",
     "output_type": "stream",
     "text": [
      "Количество образцов обучающей выборки: 6000\n",
      "Количество образцов валидационной выборки: 2000\n",
      "Количество образцов тестовой выборки: 2000\n",
      "Сумма выборок: 10000\n",
      "\n",
      "Количество образцов подготовленной выборки (контрольная сумма): 10000\n"
     ]
    }
   ],
   "source": [
    "print('Количество образцов обучающей выборки:', len(features_train))\n",
    "print('Количество образцов валидационной выборки:', len(features_valid))\n",
    "print('Количество образцов тестовой выборки:', len(features_test))\n",
    "print('Сумма выборок:', len(features_train) + len(features_test) + len(features_test))\n",
    "print()\n",
    "print('Количество образцов подготовленной выборки (контрольная сумма):', len(df_ohe))"
   ]
  },
  {
   "cell_type": "markdown",
   "metadata": {},
   "source": [
    "Выборку разделили, можем переходить к пробному обучению моделей. В нашей задаче наблюдается сильный дисбаланс классов (англ. class imbalance), что плохо сказывается на обучении модели. Посмотрим на результаты, оценивать модели будем по F1 мере - она является хорошим кандидатом на формальную метрику оценки качества классификатора. Она сводит к одному числу две других основополагающих метрики: точность и полноту (`precision` и `recall`)"
   ]
  },
  {
   "cell_type": "markdown",
   "metadata": {},
   "source": [
    "<div class=\"alert alert-block alert-success\">\n",
    "<b>Успех:</b> Разбиение выполнено корректно, молодец, что проверяешь размеры полученных выборок.\n",
    "</div>"
   ]
  },
  {
   "cell_type": "markdown",
   "metadata": {},
   "source": [
    "### Пробное обучение моделей без учета дисбаланса классов"
   ]
  },
  {
   "cell_type": "markdown",
   "metadata": {},
   "source": [
    "#### Логистическая регрессиия"
   ]
  },
  {
   "cell_type": "markdown",
   "metadata": {},
   "source": [
    "Начнем с базовой логистической регрессии. Вес классов не указываем"
   ]
  },
  {
   "cell_type": "code",
   "execution_count": 31,
   "metadata": {},
   "outputs": [
    {
     "name": "stdout",
     "output_type": "stream",
     "text": [
      "F1: 0.2990654205607477\n"
     ]
    }
   ],
   "source": [
    "model = LogisticRegression(random_state=42, solver='liblinear')\n",
    "model.fit(features_train, target_train)\n",
    "predicted_valid = model.predict(features_valid)\n",
    "print(\"F1:\", f1_score(target_valid, predicted_valid))"
   ]
  },
  {
   "cell_type": "markdown",
   "metadata": {},
   "source": [
    "Достаточно плохой показатель. Попробуем указать `class_weight='balanced'`"
   ]
  },
  {
   "cell_type": "code",
   "execution_count": 32,
   "metadata": {},
   "outputs": [
    {
     "name": "stdout",
     "output_type": "stream",
     "text": [
      "F1: 0.5067144136078783\n"
     ]
    }
   ],
   "source": [
    "model = LogisticRegression(random_state=42, solver='liblinear', class_weight='balanced')\n",
    "model.fit(features_train, target_train)\n",
    "predicted_valid = model.predict(features_valid)\n",
    "print(\"F1:\", f1_score(target_valid, predicted_valid))"
   ]
  },
  {
   "cell_type": "markdown",
   "metadata": {},
   "source": [
    "Уже лучше. На данном этапе подбирать гиперпараметры не будем, перейдем к следующему алгоритму"
   ]
  },
  {
   "cell_type": "markdown",
   "metadata": {},
   "source": [
    "#### Случайный лес"
   ]
  },
  {
   "cell_type": "code",
   "execution_count": 33,
   "metadata": {},
   "outputs": [
    {
     "name": "stdout",
     "output_type": "stream",
     "text": [
      "F1: 0.5070422535211268\n"
     ]
    }
   ],
   "source": [
    "model = RandomForestClassifier(random_state=42, n_estimators=10)\n",
    "model.fit(features_train, target_train)\n",
    "predicted_valid = model.predict(features_valid)\n",
    "print(\"F1:\", f1_score(target_valid, predicted_valid))"
   ]
  },
  {
   "cell_type": "markdown",
   "metadata": {},
   "source": [
    "Случайный лес лучше справился в условиях дисбаланса классов. Аналогично логистической регресси, попробуем установить параметр `class_weight` "
   ]
  },
  {
   "cell_type": "code",
   "execution_count": 34,
   "metadata": {},
   "outputs": [
    {
     "name": "stdout",
     "output_type": "stream",
     "text": [
      "F1: 0.5451664025356577\n"
     ]
    }
   ],
   "source": [
    "model = RandomForestClassifier(random_state=42, n_estimators=10, class_weight='balanced')\n",
    "model.fit(features_train, target_train)\n",
    "predicted_valid = model.predict(features_valid)\n",
    "print(\"F1:\", f1_score(target_valid, predicted_valid))"
   ]
  },
  {
   "cell_type": "markdown",
   "metadata": {},
   "source": [
    "Показатель ухудшился. также сейчас не будем менять гиперпараметры, вернем к этому после того, как исправим проблему дисбаланса"
   ]
  },
  {
   "cell_type": "markdown",
   "metadata": {},
   "source": [
    "#### Catboost"
   ]
  },
  {
   "cell_type": "code",
   "execution_count": 35,
   "metadata": {},
   "outputs": [
    {
     "name": "stdout",
     "output_type": "stream",
     "text": [
      "Learning rate set to 0.027819\n",
      "0:\tlearn: 0.6690519\ttotal: 55.6ms\tremaining: 55.5s\n",
      "100:\tlearn: 0.3282381\ttotal: 3.86s\tremaining: 34.3s\n",
      "200:\tlearn: 0.3066115\ttotal: 7.7s\tremaining: 30.6s\n",
      "300:\tlearn: 0.2924481\ttotal: 11.5s\tremaining: 26.6s\n",
      "400:\tlearn: 0.2782585\ttotal: 15.2s\tremaining: 22.7s\n",
      "500:\tlearn: 0.2656929\ttotal: 18.9s\tremaining: 18.8s\n",
      "600:\tlearn: 0.2544038\ttotal: 22.7s\tremaining: 15.1s\n",
      "700:\tlearn: 0.2437668\ttotal: 26.6s\tremaining: 11.3s\n",
      "800:\tlearn: 0.2336659\ttotal: 30.2s\tremaining: 7.51s\n",
      "900:\tlearn: 0.2245091\ttotal: 34s\tremaining: 3.73s\n",
      "999:\tlearn: 0.2160464\ttotal: 37.7s\tremaining: 0us\n",
      "F1: 0.5975975975975977\n"
     ]
    }
   ],
   "source": [
    "model = CatBoostClassifier(verbose=100, random_state=42)\n",
    "model.fit(features_train, target_train)\n",
    "predicted_valid = model.predict(features_valid)\n",
    "print(\"F1:\", f1_score(target_valid, predicted_valid))"
   ]
  },
  {
   "cell_type": "markdown",
   "metadata": {},
   "source": [
    "F1 мера достаточно высокая, посмотрим на результаты, после того как подберем гиперпараметры и протестируем модель на тестовой выборке"
   ]
  },
  {
   "cell_type": "markdown",
   "metadata": {},
   "source": [
    "### Вывод"
   ]
  },
  {
   "cell_type": "markdown",
   "metadata": {},
   "source": [
    "Перед нами стоит задача классификации. Для того, чтобы улучшить результаты прогнозирования и облегчить обучение модели, мы преобразовали данны:\n",
    "\n",
    "- удалили лишние признаки - такие как фамилия, id клиента и номер строки\n",
    "- провели кодирование категорийных переменных\n",
    "- провели масштабирование количетвенных переменных\n",
    "- разделили выборки в соотношении 60%:20%:20% - обучающую, валидационную для подбора гиперпараметров и проверке модели, тестовую - для итоговой проверки модели и проведении оценки\n",
    "\n",
    "Мы попробовали обучить модели на объектах с дисбалансом классов. Теперь попробуем избавится от этой проблемы, подобрать гиперпараметры моделей."
   ]
  },
  {
   "cell_type": "markdown",
   "metadata": {},
   "source": [
    "<div class=\"alert alert-block alert-info\">\n",
    "<b>Совет:</b> Хорошо было бы для наглядности посмотреть здесь не только на F-меру, но и на AUC значение для ROC-кривой\n",
    "</div>"
   ]
  },
  {
   "cell_type": "markdown",
   "metadata": {},
   "source": [
    "## Борьба с дисбалансом и улучшение моделей"
   ]
  },
  {
   "cell_type": "markdown",
   "metadata": {},
   "source": [
    "Классы не представлены одинаково в нашей задаче, посмотрим еще раз:"
   ]
  },
  {
   "cell_type": "code",
   "execution_count": 36,
   "metadata": {},
   "outputs": [
    {
     "data": {
      "text/html": [
       "<div>\n",
       "<style scoped>\n",
       "    .dataframe tbody tr th:only-of-type {\n",
       "        vertical-align: middle;\n",
       "    }\n",
       "\n",
       "    .dataframe tbody tr th {\n",
       "        vertical-align: top;\n",
       "    }\n",
       "\n",
       "    .dataframe thead th {\n",
       "        text-align: right;\n",
       "    }\n",
       "</style>\n",
       "<table border=\"1\" class=\"dataframe\">\n",
       "  <thead>\n",
       "    <tr style=\"text-align: right;\">\n",
       "      <th></th>\n",
       "      <th>exited</th>\n",
       "    </tr>\n",
       "  </thead>\n",
       "  <tbody>\n",
       "    <tr>\n",
       "      <td>0</td>\n",
       "      <td>7963</td>\n",
       "    </tr>\n",
       "    <tr>\n",
       "      <td>1</td>\n",
       "      <td>2037</td>\n",
       "    </tr>\n",
       "  </tbody>\n",
       "</table>\n",
       "</div>"
      ],
      "text/plain": [
       "   exited\n",
       "0    7963\n",
       "1    2037"
      ]
     },
     "execution_count": 36,
     "metadata": {},
     "output_type": "execute_result"
    }
   ],
   "source": [
    "df['exited'].value_counts().to_frame()"
   ]
  },
  {
   "cell_type": "markdown",
   "metadata": {},
   "source": [
    "Попробуем решить эту проблему, тремя способами. Выберем лучший и на нем будем улучшать нашу модель"
   ]
  },
  {
   "cell_type": "markdown",
   "metadata": {},
   "source": [
    "### Увеличение выборки upsampling"
   ]
  },
  {
   "cell_type": "markdown",
   "metadata": {},
   "source": [
    "Для этого применим функцию, выполняющую следующие преобразования: \n",
    "\n",
    "- разделим обучающую выборку на отрицательные и положительные объекты\n",
    "- скопируем несколько раз положительные объекты\n",
    "- с учётом полученных данных создадим новую обучающую выборку\n",
    "- перемешаем данные"
   ]
  },
  {
   "cell_type": "code",
   "execution_count": 37,
   "metadata": {},
   "outputs": [
    {
     "name": "stdout",
     "output_type": "stream",
     "text": [
      "(10924, 11)\n",
      "(10924,)\n"
     ]
    }
   ],
   "source": [
    "def upsample(features, target, repeat):\n",
    "    \n",
    "    features_zeros = features[target == 0]\n",
    "    features_ones = features[target == 1]\n",
    "    target_zeros = target[target == 0]\n",
    "    target_ones = target[target == 1]\n",
    "    \n",
    "    features_upsampled = pd.concat([features_zeros] + [features_ones] * repeat)\n",
    "    target_upsampled = pd.concat([target_zeros] + [target_ones] * repeat)\n",
    "    \n",
    "    features_upsampled = shuffle(features_upsampled, random_state=12345)\n",
    "    target_upsampled = shuffle(target_upsampled, random_state=12345)\n",
    "    \n",
    "    return features_upsampled, target_upsampled\n",
    "\n",
    "    \n",
    "    \n",
    "features_upsampled, target_upsampled = upsample(features_train, target_train, 5)\n",
    "\n",
    "print(features_upsampled.shape)\n",
    "print(target_upsampled.shape)"
   ]
  },
  {
   "cell_type": "markdown",
   "metadata": {},
   "source": [
    "#### Логистическая регрессия"
   ]
  },
  {
   "cell_type": "code",
   "execution_count": 38,
   "metadata": {},
   "outputs": [
    {
     "name": "stdout",
     "output_type": "stream",
     "text": [
      "F1: 0.4664634146341463\n"
     ]
    }
   ],
   "source": [
    "model = LogisticRegression(random_state=42, solver='liblinear')\n",
    "model.fit(features_upsampled, target_upsampled)\n",
    "predicted_valid = model.predict(features_valid)\n",
    "print(\"F1:\", f1_score(target_valid, predicted_valid))"
   ]
  },
  {
   "cell_type": "markdown",
   "metadata": {},
   "source": [
    "Наблюдаем некоторое увеличение метрики, близкое к той, что мы получили указав параметр `class_weight`"
   ]
  },
  {
   "cell_type": "markdown",
   "metadata": {},
   "source": [
    "#### Случайный лес"
   ]
  },
  {
   "cell_type": "code",
   "execution_count": 39,
   "metadata": {},
   "outputs": [
    {
     "name": "stdout",
     "output_type": "stream",
     "text": [
      "F1: 0.5517241379310345\n"
     ]
    }
   ],
   "source": [
    "model = RandomForestClassifier(random_state=42, n_estimators=10)\n",
    "model.fit(features_upsampled, target_upsampled)\n",
    "predicted_valid = model.predict(features_valid)\n",
    "print(\"F1:\", f1_score(target_valid, predicted_valid))"
   ]
  },
  {
   "cell_type": "markdown",
   "metadata": {},
   "source": [
    "Здесь также наблюдается улучшение"
   ]
  },
  {
   "cell_type": "markdown",
   "metadata": {},
   "source": [
    "#### Catboost"
   ]
  },
  {
   "cell_type": "code",
   "execution_count": 40,
   "metadata": {},
   "outputs": [
    {
     "name": "stdout",
     "output_type": "stream",
     "text": [
      "Learning rate set to 0.03296\n",
      "0:\tlearn: 0.6751679\ttotal: 95.1ms\tremaining: 1m 34s\n",
      "100:\tlearn: 0.4231603\ttotal: 12s\tremaining: 1m 47s\n",
      "200:\tlearn: 0.3878931\ttotal: 19.6s\tremaining: 1m 17s\n",
      "300:\tlearn: 0.3588294\ttotal: 26.4s\tremaining: 1m 1s\n",
      "400:\tlearn: 0.3329453\ttotal: 33.8s\tremaining: 50.4s\n",
      "500:\tlearn: 0.3095207\ttotal: 43.3s\tremaining: 43.2s\n",
      "600:\tlearn: 0.2893997\ttotal: 54.9s\tremaining: 36.4s\n",
      "700:\tlearn: 0.2718421\ttotal: 1m 6s\tremaining: 28.3s\n",
      "800:\tlearn: 0.2558225\ttotal: 1m 18s\tremaining: 19.4s\n",
      "900:\tlearn: 0.2404305\ttotal: 1m 30s\tremaining: 9.89s\n",
      "999:\tlearn: 0.2272875\ttotal: 1m 41s\tremaining: 0us\n",
      "F1: 0.6188436830835118\n"
     ]
    }
   ],
   "source": [
    "model = CatBoostClassifier(verbose=100, random_state=42)\n",
    "model.fit(features_upsampled, target_upsampled)\n",
    "predicted_valid = model.predict(features_valid)\n",
    "print(\"F1:\", f1_score(target_valid, predicted_valid))"
   ]
  },
  {
   "cell_type": "markdown",
   "metadata": {},
   "source": [
    "Catboost снова показывает лучший результат на валидационной выборке  \n",
    "\n",
    "Попробуем другой способ - уменьшение выборки"
   ]
  },
  {
   "cell_type": "markdown",
   "metadata": {},
   "source": [
    "### Уменьшение выборки downsampling"
   ]
  },
  {
   "cell_type": "markdown",
   "metadata": {},
   "source": [
    "Для этого применим функцию, выполняющую следующие преобразования: \n",
    "\n",
    "- разделим обучающую выборку на отрицательные и положительные объекты\n",
    "- случайным образом отбросим часть из отрицательных объектов\n",
    "- с учётом полученных данных создадим новую обучающую выборку\n",
    "- перемешаем данные"
   ]
  },
  {
   "cell_type": "code",
   "execution_count": 41,
   "metadata": {},
   "outputs": [
    {
     "name": "stdout",
     "output_type": "stream",
     "text": [
      "(1708, 11)\n",
      "(1708,)\n"
     ]
    }
   ],
   "source": [
    "def downsample(features, target, fraction):\n",
    "    features_zeros = features[target == 0]\n",
    "    features_ones = features[target == 1]\n",
    "    target_zeros = target[target == 0]\n",
    "    target_ones = target[target == 1]\n",
    "\n",
    "    features_sample = features_zeros.sample(frac=0.1, random_state=12345)\n",
    "    target_sample = target_zeros.sample(frac=0.1, random_state=12345)\n",
    "    \n",
    "    features_downsampled = pd.concat([features_sample] + [features_ones])\n",
    "    target_downsampled = pd.concat([target_sample] + [target_ones])\n",
    "    \n",
    "    features_downsampled = shuffle(features_downsampled, random_state=12345)\n",
    "    target_downsampled = shuffle(target_downsampled, random_state=12345)\n",
    "    \n",
    "\n",
    "    \n",
    "    return features_downsampled, target_downsampled\n",
    "\n",
    "features_downsampled, target_downsampled = downsample(features_train, target_train, 0.1)\n",
    "\n",
    "print(features_downsampled.shape)\n",
    "print(target_downsampled.shape)"
   ]
  },
  {
   "cell_type": "markdown",
   "metadata": {},
   "source": [
    "#### Логистическая регрессия"
   ]
  },
  {
   "cell_type": "code",
   "execution_count": 42,
   "metadata": {},
   "outputs": [
    {
     "name": "stdout",
     "output_type": "stream",
     "text": [
      "F1: 0.3974011911207363\n"
     ]
    }
   ],
   "source": [
    "model = LogisticRegression(random_state=42, solver='liblinear')\n",
    "model.fit(features_downsampled, target_downsampled)\n",
    "predicted_valid = model.predict(features_valid)\n",
    "print(\"F1:\", f1_score(target_valid, predicted_valid))"
   ]
  },
  {
   "cell_type": "markdown",
   "metadata": {},
   "source": [
    "#### Случайный лес"
   ]
  },
  {
   "cell_type": "code",
   "execution_count": 43,
   "metadata": {},
   "outputs": [
    {
     "name": "stdout",
     "output_type": "stream",
     "text": [
      "F1: 0.4653665097511769\n"
     ]
    }
   ],
   "source": [
    "model = RandomForestClassifier(random_state=42, n_estimators=10)\n",
    "model.fit(features_downsampled, target_downsampled)\n",
    "predicted_valid = model.predict(features_valid)\n",
    "print(\"F1:\", f1_score(target_valid, predicted_valid))"
   ]
  },
  {
   "cell_type": "markdown",
   "metadata": {},
   "source": [
    "#### Catboost"
   ]
  },
  {
   "cell_type": "code",
   "execution_count": 44,
   "metadata": {},
   "outputs": [
    {
     "name": "stdout",
     "output_type": "stream",
     "text": [
      "Learning rate set to 0.019495\n",
      "0:\tlearn: 0.6797754\ttotal: 2.49ms\tremaining: 2.49s\n",
      "100:\tlearn: 0.3880871\ttotal: 1.49s\tremaining: 13.3s\n",
      "200:\tlearn: 0.3451663\ttotal: 2.89s\tremaining: 11.5s\n",
      "300:\tlearn: 0.3148995\ttotal: 4.36s\tremaining: 10.1s\n",
      "400:\tlearn: 0.2893632\ttotal: 5.75s\tremaining: 8.58s\n",
      "500:\tlearn: 0.2672808\ttotal: 7.21s\tremaining: 7.18s\n",
      "600:\tlearn: 0.2464482\ttotal: 8.67s\tremaining: 5.76s\n",
      "700:\tlearn: 0.2279430\ttotal: 10.1s\tremaining: 4.29s\n",
      "800:\tlearn: 0.2110871\ttotal: 11.7s\tremaining: 2.91s\n",
      "900:\tlearn: 0.1956139\ttotal: 13.3s\tremaining: 1.46s\n",
      "999:\tlearn: 0.1812308\ttotal: 14.8s\tremaining: 0us\n",
      "F1: 0.4723148765843896\n"
     ]
    }
   ],
   "source": [
    "model = CatBoostClassifier(verbose=100, random_state=42)\n",
    "model.fit(features_downsampled, target_downsampled)\n",
    "predicted_valid = model.predict(features_valid)\n",
    "print(\"F1:\", f1_score(target_valid, predicted_valid))\n",
    "\n"
   ]
  },
  {
   "cell_type": "markdown",
   "metadata": {},
   "source": [
    "`Downsampling` показывает результаты хуже, чем `upsampling` у всех трех алгоритмов. \n",
    "\n",
    "Попробуем изменение порога и посмотрим какие будут метрики - в этот раз обратимся к `recall` и `precision`"
   ]
  },
  {
   "cell_type": "markdown",
   "metadata": {},
   "source": [
    "### Изменение порога"
   ]
  },
  {
   "cell_type": "markdown",
   "metadata": {},
   "source": [
    "Для удобства близость к классам переведём в вероятность классов (у нас два класса - 0 и 1). Нам достаточно вероятности класса «1». По умолчанию он равен 0.5 - попробуем разные параметры, например, до 0.95"
   ]
  },
  {
   "cell_type": "markdown",
   "metadata": {},
   "source": [
    "#### Логистическая регрессия"
   ]
  },
  {
   "cell_type": "code",
   "execution_count": 45,
   "metadata": {},
   "outputs": [
    {
     "name": "stdout",
     "output_type": "stream",
     "text": [
      "Порог = 0.00 | Точность = 0.197, Полнота = 1.000 | F1-мера = 0.328\n",
      "Порог = 0.05 | Точность = 0.212, Полнота = 0.980 | F1-мера = 0.348\n",
      "Порог = 0.10 | Точность = 0.260, Полнота = 0.931 | F1-мера = 0.407\n",
      "Порог = 0.15 | Точность = 0.313, Полнота = 0.837 | F1-мера = 0.455\n",
      "Порог = 0.20 | Точность = 0.374, Полнота = 0.725 | F1-мера = 0.493\n",
      "Порог = 0.25 | Точность = 0.424, Полнота = 0.631 | F1-мера = 0.507\n",
      "Порог = 0.30 | Точность = 0.488, Полнота = 0.522 | F1-мера = 0.504\n",
      "Порог = 0.35 | Точность = 0.515, Полнота = 0.427 | F1-мера = 0.467\n",
      "Порог = 0.40 | Точность = 0.535, Полнота = 0.328 | F1-мера = 0.407\n",
      "Порог = 0.45 | Точность = 0.538, Полнота = 0.249 | F1-мера = 0.341\n",
      "Порог = 0.50 | Точность = 0.563, Полнота = 0.204 | F1-мера = 0.299\n",
      "Порог = 0.55 | Точность = 0.610, Полнота = 0.155 | F1-мера = 0.247\n",
      "Порог = 0.60 | Точность = 0.634, Полнота = 0.115 | F1-мера = 0.194\n",
      "Порог = 0.65 | Точность = 0.636, Полнота = 0.071 | F1-мера = 0.128\n",
      "Порог = 0.70 | Точность = 0.607, Полнота = 0.043 | F1-мера = 0.081\n",
      "Порог = 0.75 | Точность = 0.714, Полнота = 0.025 | F1-мера = 0.049\n",
      "Порог = 0.80 | Точность = 0.667, Полнота = 0.015 | F1-мера = 0.030\n",
      "Порог = 0.85 | Точность = 0.000, Полнота = 0.000 | F1-мера = 0.000\n",
      "Порог = 0.90 | Точность = 0.000, Полнота = 0.000 | F1-мера = 0.000\n"
     ]
    },
    {
     "data": {
      "image/png": "[encoded data removed]",
      "text/plain": [
       "<Figure size 720x720 with 1 Axes>"
      ]
     },
     "metadata": {},
     "output_type": "display_data"
    }
   ],
   "source": [
    "model = LogisticRegression(random_state=42, solver='liblinear')\n",
    "model.fit(features_train, target_train)\n",
    "probabilities_valid = model.predict_proba(features_valid)\n",
    "probabilities_one_valid = probabilities_valid[:, 1]\n",
    "\n",
    "for threshold in np.arange(0, 0.95, 0.05):\n",
    "    predicted_valid = probabilities_one_valid > threshold\n",
    "    precision = precision_score(target_valid, predicted_valid)\n",
    "    recall = recall_score(target_valid, predicted_valid)\n",
    "    f1 = f1_score(target_valid, predicted_valid)\n",
    "    print(\"Порог = {:.2f} | Точность = {:.3f}, Полнота = {:.3f} | F1-мера = {:.3f}\".format(\n",
    "        threshold, precision, recall, f1))\n",
    "\n",
    "precision, recall, thresholds = precision_recall_curve(target_valid, probabilities_valid[:, 1])    \n",
    "plt.figure(figsize=(10, 10))\n",
    "plt.step(recall, precision, where='post')\n",
    "plt.xlabel('Recall')\n",
    "plt.ylabel('Precision')\n",
    "plt.ylim([0.0, 1.05])\n",
    "plt.xlim([0.0, 1.0])\n",
    "plt.title('PR кривая')\n",
    "plt.show() "
   ]
  },
  {
   "cell_type": "markdown",
   "metadata": {},
   "source": [
    "Для порога 0 полнота равна 1 - все ответы положительные. При пороге 0.85 модель перестает давать правильные ответы. Самый высокий показатель F1 наблюдаем с порогом 0.25"
   ]
  },
  {
   "cell_type": "markdown",
   "metadata": {},
   "source": [
    "#### Случайный лес"
   ]
  },
  {
   "cell_type": "code",
   "execution_count": 46,
   "metadata": {},
   "outputs": [
    {
     "name": "stdout",
     "output_type": "stream",
     "text": [
      "Порог = 0.00 | Точность = 0.290, Полнота = 0.903 | F1-мера = 0.439\n",
      "Порог = 0.05 | Точность = 0.290, Полнота = 0.903 | F1-мера = 0.439\n",
      "Порог = 0.10 | Точность = 0.387, Полнота = 0.789 | F1-мера = 0.519\n",
      "Порог = 0.15 | Точность = 0.387, Полнота = 0.789 | F1-мера = 0.519\n",
      "Порог = 0.20 | Точность = 0.463, Полнота = 0.700 | F1-мера = 0.557\n",
      "Порог = 0.25 | Точность = 0.463, Полнота = 0.700 | F1-мера = 0.557\n",
      "Порог = 0.30 | Точность = 0.525, Полнота = 0.608 | F1-мера = 0.564\n",
      "Порог = 0.35 | Точность = 0.525, Полнота = 0.608 | F1-мера = 0.564\n",
      "Порог = 0.40 | Точность = 0.593, Полнота = 0.511 | F1-мера = 0.549\n",
      "Порог = 0.45 | Точность = 0.593, Полнота = 0.511 | F1-мера = 0.549\n",
      "Порог = 0.50 | Точность = 0.659, Полнота = 0.412 | F1-мера = 0.507\n",
      "Порог = 0.55 | Точность = 0.659, Полнота = 0.412 | F1-мера = 0.507\n",
      "Порог = 0.60 | Точность = 0.737, Полнота = 0.328 | F1-мера = 0.454\n",
      "Порог = 0.65 | Точность = 0.737, Полнота = 0.328 | F1-мера = 0.454\n",
      "Порог = 0.70 | Точность = 0.819, Полнота = 0.242 | F1-мера = 0.373\n",
      "Порог = 0.75 | Точность = 0.819, Полнота = 0.242 | F1-мера = 0.373\n",
      "Порог = 0.80 | Точность = 0.859, Полнота = 0.155 | F1-мера = 0.263\n",
      "Порог = 0.85 | Точность = 0.859, Полнота = 0.155 | F1-мера = 0.263\n",
      "Порог = 0.90 | Точность = 0.848, Полнота = 0.071 | F1-мера = 0.131\n"
     ]
    },
    {
     "data": {
      "image/png": "[encoded data removed]",
      "text/plain": [
       "<Figure size 720x720 with 1 Axes>"
      ]
     },
     "metadata": {},
     "output_type": "display_data"
    }
   ],
   "source": [
    "model = RandomForestClassifier(random_state=42, n_estimators=10)\n",
    "model.fit(features_train, target_train)\n",
    "probabilities_valid = model.predict_proba(features_valid)\n",
    "probabilities_one_valid = probabilities_valid[:, 1]\n",
    "\n",
    "for threshold in np.arange(0, 0.95, 0.05):\n",
    "    predicted_valid = probabilities_one_valid > threshold\n",
    "    precision = precision_score(target_valid, predicted_valid)\n",
    "    recall = recall_score(target_valid, predicted_valid)\n",
    "    f1 = f1_score(target_valid, predicted_valid)\n",
    "    print(\"Порог = {:.2f} | Точность = {:.3f}, Полнота = {:.3f} | F1-мера = {:.3f}\".format(\n",
    "        threshold, precision, recall, f1))\n",
    "    \n",
    "precision, recall, thresholds = precision_recall_curve(target_valid, probabilities_valid[:, 1])    \n",
    "plt.figure(figsize=(10, 10))\n",
    "plt.step(recall, precision, where='post')\n",
    "plt.xlabel('Recall')\n",
    "plt.ylabel('Precision')\n",
    "plt.ylim([0.0, 1.05])\n",
    "plt.xlim([0.0, 1.0])\n",
    "plt.title('PR кривая')\n",
    "plt.show() "
   ]
  },
  {
   "cell_type": "markdown",
   "metadata": {},
   "source": [
    "Самый высокий показатель достигаем при пороге 0.3"
   ]
  },
  {
   "cell_type": "markdown",
   "metadata": {},
   "source": [
    "Остановимся на upsampling увеличении выборки. На ней обучим наши модели и подберем гиперпараметры. Изменять порог или уменьшать выборку не будем"
   ]
  },
  {
   "cell_type": "markdown",
   "metadata": {},
   "source": [
    "### Обучение моделей и настройка гиперпараметров"
   ]
  },
  {
   "cell_type": "markdown",
   "metadata": {},
   "source": [
    "Обучать модели будем на увеличенной выборке, проверять параметры будем на валидачионной выборке и оценивать по F1-мере, кросс-валидацию для логистической регрессии и случайного леса применять не будем.  \n",
    "\n",
    "Параметры будем подбирать черезе `GridSearchCV`. цикл и перебор применять не будем"
   ]
  },
  {
   "cell_type": "markdown",
   "metadata": {},
   "source": [
    "#### Логистическая регрессия"
   ]
  },
  {
   "cell_type": "code",
   "execution_count": 47,
   "metadata": {},
   "outputs": [
    {
     "data": {
      "text/plain": [
       "GridSearchCV(cv=5, error_score='raise-deprecating',\n",
       "             estimator=LogisticRegression(C=1.0, class_weight=None, dual=False,\n",
       "                                          fit_intercept=True,\n",
       "                                          intercept_scaling=1, l1_ratio=None,\n",
       "                                          max_iter=100, multi_class='warn',\n",
       "                                          n_jobs=None, penalty='l2',\n",
       "                                          random_state=42, solver='liblinear',\n",
       "                                          tol=0.0001, verbose=0,\n",
       "                                          warm_start=False),\n",
       "             iid='warn', n_jobs=None,\n",
       "             param_grid={'C': [0.5, 1, 1.5], 'class_weight': [None, 'balanced'],\n",
       "                         'intercept_scaling': [0.5, 1.0, 1.5]},\n",
       "             pre_dispatch='2*n_jobs', refit=True, return_train_score=False,\n",
       "             scoring='f1', verbose=0)"
      ]
     },
     "execution_count": 47,
     "metadata": {},
     "output_type": "execute_result"
    }
   ],
   "source": [
    "par_grid_logist = {\n",
    "                   'intercept_scaling': [0.5, 1.0, 1.5],\n",
    "                   'class_weight': [None, 'balanced'],\n",
    "                   'C': [0.5, 1, 1.5]\n",
    "                   }\n",
    "model = LogisticRegression(solver='liblinear',random_state=42)\n",
    "\n",
    "grid_search = GridSearchCV(model, par_grid_logist, cv=5,\n",
    "                           scoring='f1')\n",
    "grid_search.fit(features_upsampled, target_upsampled)"
   ]
  },
  {
   "cell_type": "code",
   "execution_count": 48,
   "metadata": {},
   "outputs": [
    {
     "data": {
      "text/plain": [
       "{'C': 0.5, 'class_weight': None, 'intercept_scaling': 0.5}"
      ]
     },
     "execution_count": 48,
     "metadata": {},
     "output_type": "execute_result"
    }
   ],
   "source": [
    "grid_search.best_params_"
   ]
  },
  {
   "cell_type": "markdown",
   "metadata": {},
   "source": [
    "Применим наши параметры и посмотрим результат:"
   ]
  },
  {
   "cell_type": "code",
   "execution_count": 49,
   "metadata": {},
   "outputs": [
    {
     "name": "stdout",
     "output_type": "stream",
     "text": [
      "F1: 0.4664634146341463\n"
     ]
    }
   ],
   "source": [
    "model_lreg = LogisticRegression(C=0.5, class_weight=None, intercept_scaling=0.5,\n",
    "                                solver='liblinear', random_state=42\n",
    ")\n",
    "model_lreg.fit(features_upsampled, target_upsampled)\n",
    "predicted_valid = model_lreg.predict(features_valid)\n",
    "print(\"F1:\", f1_score(target_valid, predicted_valid))\n"
   ]
  },
  {
   "cell_type": "markdown",
   "metadata": {},
   "source": [
    "Ниже порога 0.59, посмотрим как поведет себя модель при тестировании"
   ]
  },
  {
   "cell_type": "code",
   "execution_count": 50,
   "metadata": {},
   "outputs": [
    {
     "data": {
      "image/png": "[encoded data removed]",
      "text/plain": [
       "<Figure size 720x720 with 1 Axes>"
      ]
     },
     "metadata": {},
     "output_type": "display_data"
    },
    {
     "name": "stdout",
     "output_type": "stream",
     "text": [
      "AUC: 0.7821616939882923\n"
     ]
    }
   ],
   "source": [
    "probabilities_valid = model_lreg.predict_proba(features_valid)\n",
    "probabilities_one_valid = probabilities_valid[:, 1]\n",
    "\n",
    "fpr, tpr, thresholds = roc_curve(target_valid, probabilities_one_valid) \n",
    "\n",
    "plt.figure(figsize=(10, 10))\n",
    "plt.plot(fpr, tpr, linestyle='-')\n",
    "plt.plot([0, 1], [0, 1], linestyle='--')\n",
    "plt.xlim([0.0, 1.0])\n",
    "plt.ylim([0.0, 1.0])\n",
    "plt.xlabel('False Positive Rate')\n",
    "plt.ylabel('True Positive Rate')\n",
    "plt.title('ROC-кривая')\n",
    "\n",
    "plt.show()\n",
    "\n",
    "auc_roc = roc_auc_score (target_valid, probabilities_one_valid)\n",
    "\n",
    "print(\"AUC:\", auc_roc)"
   ]
  },
  {
   "cell_type": "markdown",
   "metadata": {},
   "source": [
    "AUC больше 0.5, наша модель лучше случайной"
   ]
  },
  {
   "cell_type": "markdown",
   "metadata": {},
   "source": [
    "#### Случайный лес"
   ]
  },
  {
   "cell_type": "code",
   "execution_count": 51,
   "metadata": {},
   "outputs": [
    {
     "data": {
      "text/plain": [
       "GridSearchCV(cv=5, error_score='raise-deprecating',\n",
       "             estimator=RandomForestClassifier(bootstrap=True, class_weight=None,\n",
       "                                              criterion='gini', max_depth=None,\n",
       "                                              max_features='auto',\n",
       "                                              max_leaf_nodes=None,\n",
       "                                              min_impurity_decrease=0.0,\n",
       "                                              min_impurity_split=None,\n",
       "                                              min_samples_leaf=1,\n",
       "                                              min_samples_split=2,\n",
       "                                              min_weight_fraction_leaf=0.0,\n",
       "                                              n_estimators='warn', n_jobs=None,\n",
       "                                              oob_score=False, random_state=42,\n",
       "                                              verbose=0, warm_start=False),\n",
       "             iid='warn', n_jobs=None,\n",
       "             param_grid={'criterion': ['gini', 'entropy'],\n",
       "                         'min_samples_split': range(5, 15),\n",
       "                         'n_estimators': [3, 10, 30]},\n",
       "             pre_dispatch='2*n_jobs', refit=True, return_train_score=False,\n",
       "             scoring='accuracy', verbose=0)"
      ]
     },
     "execution_count": 51,
     "metadata": {},
     "output_type": "execute_result"
    }
   ],
   "source": [
    "par_grid_ensemble = {'n_estimators': [3, 10, 30],\n",
    "                     'criterion': ['gini', 'entropy'],\n",
    "                     'min_samples_split': range(5, 15)\n",
    "                    }\n",
    "model = RandomForestClassifier(random_state=42)\n",
    "\n",
    "grid_search = GridSearchCV(model, par_grid_ensemble, cv=5,\n",
    "                           scoring='accuracy'\n",
    "                          )\n",
    "grid_search.fit(features_upsampled, target_upsampled)"
   ]
  },
  {
   "cell_type": "code",
   "execution_count": 52,
   "metadata": {},
   "outputs": [
    {
     "data": {
      "text/plain": [
       "{'criterion': 'gini', 'min_samples_split': 5, 'n_estimators': 30}"
      ]
     },
     "execution_count": 52,
     "metadata": {},
     "output_type": "execute_result"
    }
   ],
   "source": [
    "grid_search.best_params_"
   ]
  },
  {
   "cell_type": "code",
   "execution_count": 53,
   "metadata": {},
   "outputs": [
    {
     "name": "stdout",
     "output_type": "stream",
     "text": [
      "F1: 0.6133682830930537\n"
     ]
    }
   ],
   "source": [
    "model_rfc = RandomForestClassifier(random_state=42, criterion='gini', \n",
    "                               min_samples_split=5, n_estimators=30\n",
    "                              )\n",
    "model_rfc.fit(features_upsampled, target_upsampled)\n",
    "predicted_valid = model_rfc.predict(features_valid)\n",
    "print(\"F1:\", f1_score(target_valid, predicted_valid))"
   ]
  },
  {
   "cell_type": "markdown",
   "metadata": {},
   "source": [
    "Выше порога 0.59 на валидационной выборке. Попробуем на тест выборке и посмотрим как ведет себя модель на незнакомых данных"
   ]
  },
  {
   "cell_type": "code",
   "execution_count": 54,
   "metadata": {},
   "outputs": [
    {
     "data": {
      "image/png": "[encoded data removed]",
      "text/plain": [
       "<Figure size 720x720 with 1 Axes>"
      ]
     },
     "metadata": {},
     "output_type": "display_data"
    },
    {
     "name": "stdout",
     "output_type": "stream",
     "text": [
      "AUC: 0.8463797856388479\n"
     ]
    }
   ],
   "source": [
    "probabilities_valid = model_rfc.predict_proba(features_valid)\n",
    "probabilities_one_valid = probabilities_valid[:, 1]\n",
    "\n",
    "fpr, tpr, thresholds = roc_curve(target_valid, probabilities_one_valid) \n",
    "\n",
    "plt.figure(figsize=(10, 10))\n",
    "plt.plot(fpr, tpr, linestyle='-')\n",
    "plt.plot([0, 1], [0, 1], linestyle='--')\n",
    "plt.xlim([0.0, 1.0])\n",
    "plt.ylim([0.0, 1.0])\n",
    "plt.xlabel('False Positive Rate')\n",
    "plt.ylabel('True Positive Rate')\n",
    "plt.title('ROC-кривая')\n",
    "plt.show()\n",
    "\n",
    "auc_roc = roc_auc_score (target_valid, probabilities_one_valid)\n",
    "\n",
    "print(\"AUC:\", auc_roc)"
   ]
  },
  {
   "cell_type": "markdown",
   "metadata": {},
   "source": [
    "AUC также говорит нам о том, что модель лучше, случайной, при этом и лучше логистической регрессии"
   ]
  },
  {
   "cell_type": "markdown",
   "metadata": {},
   "source": [
    "#### Catboost (bonus)"
   ]
  },
  {
   "cell_type": "markdown",
   "metadata": {},
   "source": [
    "Попробуем настроить Catboost с применением кроссвалидации. Получим базовую модель, проверять будем по F1-мере"
   ]
  },
  {
   "cell_type": "code",
   "execution_count": 55,
   "metadata": {},
   "outputs": [],
   "source": [
    "model_cat = CatBoostClassifier(\n",
    "                           custom_loss=['F1'],\n",
    "                           random_seed=42,\n",
    "                           logging_level='Silent'\n",
    ")"
   ]
  },
  {
   "cell_type": "code",
   "execution_count": 56,
   "metadata": {},
   "outputs": [
    {
     "data": {
      "text/plain": [
       "<catboost.core.CatBoostClassifier at 0x7fc2a1ab5ed0>"
      ]
     },
     "execution_count": 56,
     "metadata": {},
     "output_type": "execute_result"
    }
   ],
   "source": [
    "model_cat.fit(\n",
    "          features_upsampled, target_upsampled,\n",
    "          eval_set=(features_valid, target_valid)\n",
    "\n",
    ")"
   ]
  },
  {
   "cell_type": "markdown",
   "metadata": {},
   "source": [
    "Получим сетку параметров и проведем кроссвалидацию с помощию встроенной функции Pool"
   ]
  },
  {
   "cell_type": "code",
   "execution_count": 72,
   "metadata": {},
   "outputs": [],
   "source": [
    "cv_params = model_cat.get_params()\n",
    "cv_params.update({\n",
    "                 'loss_function': 'Logloss'\n",
    "})\n",
    "cv_data = cv(\n",
    "             Pool(features_upsampled, target_upsampled),\n",
    "             cv_params\n",
    ")"
   ]
  },
  {
   "cell_type": "code",
   "execution_count": 58,
   "metadata": {},
   "outputs": [
    {
     "name": "stdout",
     "output_type": "stream",
     "text": [
      "Точная F1-мера: 0.898606937309661\n"
     ]
    }
   ],
   "source": [
    "print('Точная F1-мера: {}'.format(np.max(cv_data['test-F1-mean'])))"
   ]
  },
  {
   "cell_type": "markdown",
   "metadata": {},
   "source": [
    "<div class=\"alert alert-block alert-info\">\n",
    "<b>Совет:</b> Не совсем хорошо получилось использовать кросс-валидацию на upsampled-данных. Получается, что из-за увеличения выборки данных одни и те же объекты попадают и в обучающую и валидационную выборку, из-за этого большой f1\n",
    "</div>"
   ]
  },
  {
   "cell_type": "code",
   "execution_count": 59,
   "metadata": {},
   "outputs": [
    {
     "data": {
      "image/png": "[encoded data removed]",
      "text/plain": [
       "<Figure size 720x720 with 1 Axes>"
      ]
     },
     "metadata": {},
     "output_type": "display_data"
    },
    {
     "name": "stdout",
     "output_type": "stream",
     "text": [
      "AUC: 0.8489559829689132\n"
     ]
    }
   ],
   "source": [
    "probabilities_valid = model_cat.predict_proba(features_valid)\n",
    "probabilities_one_valid = probabilities_valid[:, 1]\n",
    "\n",
    "fpr, tpr, thresholds = roc_curve(target_valid, probabilities_one_valid) \n",
    "\n",
    "plt.figure(figsize=(10, 10))\n",
    "plt.plot(fpr, tpr, linestyle='-')\n",
    "plt.plot([0, 1], [0, 1], linestyle='--')\n",
    "plt.xlim([0.0, 1.0])\n",
    "plt.ylim([0.0, 1.0])\n",
    "plt.xlabel('False Positive Rate')\n",
    "plt.ylabel('True Positive Rate')\n",
    "plt.title('ROC-кривая')\n",
    "plt.show()\n",
    "\n",
    "auc_roc = roc_auc_score (target_valid, probabilities_one_valid)\n",
    "\n",
    "print(\"AUC:\", auc_roc)"
   ]
  },
  {
   "cell_type": "markdown",
   "metadata": {},
   "source": [
    "Получили очень хороший результат, посмотрим как модель будет вести себя на тестовой выборке. Модель лучше случайной"
   ]
  },
  {
   "cell_type": "markdown",
   "metadata": {},
   "source": [
    "<div class=\"alert alert-block alert-success\">\n",
    "<b>Успех:</b> Замечательная работа с моделями! <br> Радует большое количество методов для борьбы с дисбалансом.<br> Кросс-валидационные методы корректны применены. \n",
    "</div>"
   ]
  },
  {
   "cell_type": "markdown",
   "metadata": {},
   "source": [
    "<div class=\"alert alert-block alert-info\">\n",
    "<b>Совет:</b> Некоторые модели из семейства бустингов имеют под капотом собственный метод для кодировки данных, советую в будущем   его попробовать.\n",
    "</div>"
   ]
  },
  {
   "cell_type": "markdown",
   "metadata": {},
   "source": [
    "## Тестирование моделей и проверка на адекватность"
   ]
  },
  {
   "cell_type": "code",
   "execution_count": 60,
   "metadata": {},
   "outputs": [],
   "source": [
    "#для удобства вывода в дальнейшем - соберем показатели в списки\n",
    "\n",
    "table_of_model = []\n",
    "table_of_prec = []\n",
    "table_of_acc = []"
   ]
  },
  {
   "cell_type": "markdown",
   "metadata": {},
   "source": [
    "### Тестирование моделей"
   ]
  },
  {
   "cell_type": "markdown",
   "metadata": {},
   "source": [
    "#### Логистическая регрессия"
   ]
  },
  {
   "cell_type": "code",
   "execution_count": 61,
   "metadata": {},
   "outputs": [
    {
     "name": "stdout",
     "output_type": "stream",
     "text": [
      "Accuracy\n",
      "Тестовая выборка: 0.666\n",
      "F1-мера\n",
      "Тестовая выборка: 0.5007473841554558\n"
     ]
    }
   ],
   "source": [
    "predictions_test = model_lreg.predict(features_test)\n",
    "test_f1 = f1_score(target_test, predictions_test)\n",
    "test_acc = accuracy_score(target_test, predictions_test)\n",
    "\n",
    "print(\"Accuracy\")\n",
    "print(\"Тестовая выборка:\", test_acc)\n",
    "print(\"F1-мера\")\n",
    "print(\"Тестовая выборка:\", test_f1)\n",
    "\n",
    "table_of_acc.append(round(test_acc, 2))\n",
    "table_of_prec.append(round(test_f1, 2))\n",
    "table_of_model.append('LogisticRegression')"
   ]
  },
  {
   "cell_type": "markdown",
   "metadata": {},
   "source": [
    "#### Случайный лес"
   ]
  },
  {
   "cell_type": "code",
   "execution_count": 62,
   "metadata": {},
   "outputs": [
    {
     "name": "stdout",
     "output_type": "stream",
     "text": [
      "Accuracy\n",
      "Тестовая выборка: 0.8515\n",
      "F1-мера\n",
      "Тестовая выборка: 0.6264150943396226\n"
     ]
    }
   ],
   "source": [
    "predictions_test = model_rfc.predict(features_test)\n",
    "test_f1 = f1_score(target_test, predictions_test)\n",
    "test_acc = accuracy_score(target_test, predictions_test)\n",
    "\n",
    "print(\"Accuracy\")\n",
    "print(\"Тестовая выборка:\", test_acc)\n",
    "print(\"F1-мера\")\n",
    "print(\"Тестовая выборка:\", test_f1)\n",
    "\n",
    "table_of_acc.append(round(test_acc, 2))\n",
    "table_of_prec.append(round(test_f1, 2))\n",
    "table_of_model.append('RandomForestClassifier')"
   ]
  },
  {
   "cell_type": "code",
   "execution_count": 63,
   "metadata": {},
   "outputs": [
    {
     "data": {
      "text/plain": [
       "array([0.154553  , 0.26458423, 0.        , 0.15546659, 0.1387574 ,\n",
       "       0.01858832, 0.03480114, 0.16525592, 0.02135833, 0.03117346,\n",
       "       0.01546162])"
      ]
     },
     "execution_count": 63,
     "metadata": {},
     "output_type": "execute_result"
    }
   ],
   "source": [
    "model_rfc.feature_importances_"
   ]
  },
  {
   "cell_type": "code",
   "execution_count": 64,
   "metadata": {},
   "outputs": [
    {
     "data": {
      "text/plain": [
       "Index(['creditscore', 'age', 'tenure', 'balance', 'num_of_products',\n",
       "       'has_crcard', 'isactive_member', 'estimated_salary', 'Male', 'Germany',\n",
       "       'Spain'],\n",
       "      dtype='object')"
      ]
     },
     "execution_count": 64,
     "metadata": {},
     "output_type": "execute_result"
    }
   ],
   "source": [
    "features_test.columns"
   ]
  },
  {
   "cell_type": "code",
   "execution_count": 65,
   "metadata": {},
   "outputs": [
    {
     "data": {
      "text/html": [
       "<div>\n",
       "<style scoped>\n",
       "    .dataframe tbody tr th:only-of-type {\n",
       "        vertical-align: middle;\n",
       "    }\n",
       "\n",
       "    .dataframe tbody tr th {\n",
       "        vertical-align: top;\n",
       "    }\n",
       "\n",
       "    .dataframe thead th {\n",
       "        text-align: right;\n",
       "    }\n",
       "</style>\n",
       "<table border=\"1\" class=\"dataframe\">\n",
       "  <thead>\n",
       "    <tr style=\"text-align: right;\">\n",
       "      <th></th>\n",
       "      <th>name</th>\n",
       "      <th>fi</th>\n",
       "    </tr>\n",
       "  </thead>\n",
       "  <tbody>\n",
       "    <tr>\n",
       "      <td>1</td>\n",
       "      <td>age</td>\n",
       "      <td>0.264584</td>\n",
       "    </tr>\n",
       "    <tr>\n",
       "      <td>7</td>\n",
       "      <td>estimated_salary</td>\n",
       "      <td>0.165256</td>\n",
       "    </tr>\n",
       "    <tr>\n",
       "      <td>3</td>\n",
       "      <td>balance</td>\n",
       "      <td>0.155467</td>\n",
       "    </tr>\n",
       "    <tr>\n",
       "      <td>0</td>\n",
       "      <td>creditscore</td>\n",
       "      <td>0.154553</td>\n",
       "    </tr>\n",
       "    <tr>\n",
       "      <td>4</td>\n",
       "      <td>num_of_products</td>\n",
       "      <td>0.138757</td>\n",
       "    </tr>\n",
       "    <tr>\n",
       "      <td>6</td>\n",
       "      <td>isactive_member</td>\n",
       "      <td>0.034801</td>\n",
       "    </tr>\n",
       "    <tr>\n",
       "      <td>9</td>\n",
       "      <td>Germany</td>\n",
       "      <td>0.031173</td>\n",
       "    </tr>\n",
       "    <tr>\n",
       "      <td>8</td>\n",
       "      <td>Male</td>\n",
       "      <td>0.021358</td>\n",
       "    </tr>\n",
       "    <tr>\n",
       "      <td>5</td>\n",
       "      <td>has_crcard</td>\n",
       "      <td>0.018588</td>\n",
       "    </tr>\n",
       "    <tr>\n",
       "      <td>10</td>\n",
       "      <td>Spain</td>\n",
       "      <td>0.015462</td>\n",
       "    </tr>\n",
       "    <tr>\n",
       "      <td>2</td>\n",
       "      <td>tenure</td>\n",
       "      <td>0.000000</td>\n",
       "    </tr>\n",
       "  </tbody>\n",
       "</table>\n",
       "</div>"
      ],
      "text/plain": [
       "                name        fi\n",
       "1                age  0.264584\n",
       "7   estimated_salary  0.165256\n",
       "3            balance  0.155467\n",
       "0        creditscore  0.154553\n",
       "4    num_of_products  0.138757\n",
       "6    isactive_member  0.034801\n",
       "9            Germany  0.031173\n",
       "8               Male  0.021358\n",
       "5         has_crcard  0.018588\n",
       "10             Spain  0.015462\n",
       "2             tenure  0.000000"
      ]
     },
     "execution_count": 65,
     "metadata": {},
     "output_type": "execute_result"
    }
   ],
   "source": [
    "fi = pd.DataFrame({'name':features_test.columns,'fi':model_rfc.feature_importances_})\n",
    "fi.sort_values('fi',ascending=False)"
   ]
  },
  {
   "cell_type": "markdown",
   "metadata": {},
   "source": [
    "#### Catboost"
   ]
  },
  {
   "cell_type": "code",
   "execution_count": 66,
   "metadata": {},
   "outputs": [
    {
     "name": "stdout",
     "output_type": "stream",
     "text": [
      "Accuracy\n",
      "Тестовая выборка: 0.8515\n",
      "F1-мера\n",
      "Тестовая выборка: 0.6264150943396226\n"
     ]
    }
   ],
   "source": [
    "predictions = model_cat.predict(features_test)\n",
    "test_f1 = f1_score(target_test, predictions_test)\n",
    "test_acc = accuracy_score(target_test, predictions_test)\n",
    "\n",
    "print(\"Accuracy\")\n",
    "print(\"Тестовая выборка:\", test_acc)\n",
    "print(\"F1-мера\")\n",
    "print(\"Тестовая выборка:\", test_f1)\n",
    "\n",
    "table_of_acc.append(round(test_acc, 2))\n",
    "table_of_prec.append(round(test_f1, 2))\n",
    "table_of_model.append('Catboost')"
   ]
  },
  {
   "cell_type": "code",
   "execution_count": 67,
   "metadata": {},
   "outputs": [
    {
     "data": {
      "text/plain": [
       "array([17.38169374, 18.7655911 ,  0.        , 16.01212043, 14.12446457,\n",
       "        1.96491039,  5.41505697, 17.26866435,  3.15250072,  4.07000567,\n",
       "        1.84499206])"
      ]
     },
     "execution_count": 67,
     "metadata": {},
     "output_type": "execute_result"
    }
   ],
   "source": [
    "model_cat.feature_importances_"
   ]
  },
  {
   "cell_type": "code",
   "execution_count": 68,
   "metadata": {
    "scrolled": true
   },
   "outputs": [
    {
     "data": {
      "text/html": [
       "<div>\n",
       "<style scoped>\n",
       "    .dataframe tbody tr th:only-of-type {\n",
       "        vertical-align: middle;\n",
       "    }\n",
       "\n",
       "    .dataframe tbody tr th {\n",
       "        vertical-align: top;\n",
       "    }\n",
       "\n",
       "    .dataframe thead th {\n",
       "        text-align: right;\n",
       "    }\n",
       "</style>\n",
       "<table border=\"1\" class=\"dataframe\">\n",
       "  <thead>\n",
       "    <tr style=\"text-align: right;\">\n",
       "      <th></th>\n",
       "      <th>name</th>\n",
       "      <th>fi_cat</th>\n",
       "    </tr>\n",
       "  </thead>\n",
       "  <tbody>\n",
       "    <tr>\n",
       "      <td>1</td>\n",
       "      <td>age</td>\n",
       "      <td>18.765591</td>\n",
       "    </tr>\n",
       "    <tr>\n",
       "      <td>0</td>\n",
       "      <td>creditscore</td>\n",
       "      <td>17.381694</td>\n",
       "    </tr>\n",
       "    <tr>\n",
       "      <td>7</td>\n",
       "      <td>estimated_salary</td>\n",
       "      <td>17.268664</td>\n",
       "    </tr>\n",
       "    <tr>\n",
       "      <td>3</td>\n",
       "      <td>balance</td>\n",
       "      <td>16.012120</td>\n",
       "    </tr>\n",
       "    <tr>\n",
       "      <td>4</td>\n",
       "      <td>num_of_products</td>\n",
       "      <td>14.124465</td>\n",
       "    </tr>\n",
       "    <tr>\n",
       "      <td>6</td>\n",
       "      <td>isactive_member</td>\n",
       "      <td>5.415057</td>\n",
       "    </tr>\n",
       "    <tr>\n",
       "      <td>9</td>\n",
       "      <td>Germany</td>\n",
       "      <td>4.070006</td>\n",
       "    </tr>\n",
       "    <tr>\n",
       "      <td>8</td>\n",
       "      <td>Male</td>\n",
       "      <td>3.152501</td>\n",
       "    </tr>\n",
       "    <tr>\n",
       "      <td>5</td>\n",
       "      <td>has_crcard</td>\n",
       "      <td>1.964910</td>\n",
       "    </tr>\n",
       "    <tr>\n",
       "      <td>10</td>\n",
       "      <td>Spain</td>\n",
       "      <td>1.844992</td>\n",
       "    </tr>\n",
       "    <tr>\n",
       "      <td>2</td>\n",
       "      <td>tenure</td>\n",
       "      <td>0.000000</td>\n",
       "    </tr>\n",
       "  </tbody>\n",
       "</table>\n",
       "</div>"
      ],
      "text/plain": [
       "                name     fi_cat\n",
       "1                age  18.765591\n",
       "0        creditscore  17.381694\n",
       "7   estimated_salary  17.268664\n",
       "3            balance  16.012120\n",
       "4    num_of_products  14.124465\n",
       "6    isactive_member   5.415057\n",
       "9            Germany   4.070006\n",
       "8               Male   3.152501\n",
       "5         has_crcard   1.964910\n",
       "10             Spain   1.844992\n",
       "2             tenure   0.000000"
      ]
     },
     "execution_count": 68,
     "metadata": {},
     "output_type": "execute_result"
    }
   ],
   "source": [
    "fi_cat = pd.DataFrame({'name':features_test.columns,'fi_cat':model_cat.feature_importances_})\n",
    "fi_cat.sort_values('fi_cat',ascending=False)"
   ]
  },
  {
   "cell_type": "markdown",
   "metadata": {},
   "source": [
    "<div class=\"alert alert-block alert-success\">\n",
    "<b>Успех:</b> Тестирование проведено корректно, тебе удалось достичь хороших показетелей на тесте.\n",
    "</div>"
   ]
  },
  {
   "cell_type": "markdown",
   "metadata": {},
   "source": [
    "#### Вывод"
   ]
  },
  {
   "cell_type": "markdown",
   "metadata": {},
   "source": [
    "Для удобства выведем таблицу наших параметров по моделям:"
   ]
  },
  {
   "cell_type": "code",
   "execution_count": 69,
   "metadata": {},
   "outputs": [
    {
     "data": {
      "text/html": [
       "<div>\n",
       "<style scoped>\n",
       "    .dataframe tbody tr th:only-of-type {\n",
       "        vertical-align: middle;\n",
       "    }\n",
       "\n",
       "    .dataframe tbody tr th {\n",
       "        vertical-align: top;\n",
       "    }\n",
       "\n",
       "    .dataframe thead th {\n",
       "        text-align: right;\n",
       "    }\n",
       "</style>\n",
       "<table border=\"1\" class=\"dataframe\">\n",
       "  <thead>\n",
       "    <tr style=\"text-align: right;\">\n",
       "      <th></th>\n",
       "      <th>Model</th>\n",
       "      <th>Accuracy</th>\n",
       "      <th>F1 score</th>\n",
       "      <th>Порог тестирования</th>\n",
       "    </tr>\n",
       "  </thead>\n",
       "  <tbody>\n",
       "    <tr>\n",
       "      <td>0</td>\n",
       "      <td>RandomForestClassifier</td>\n",
       "      <td>0.85</td>\n",
       "      <td>0.63</td>\n",
       "      <td>Прошла тест</td>\n",
       "    </tr>\n",
       "    <tr>\n",
       "      <td>1</td>\n",
       "      <td>Catboost</td>\n",
       "      <td>0.85</td>\n",
       "      <td>0.63</td>\n",
       "      <td>Прошла тест</td>\n",
       "    </tr>\n",
       "    <tr>\n",
       "      <td>2</td>\n",
       "      <td>LogisticRegression</td>\n",
       "      <td>0.67</td>\n",
       "      <td>0.50</td>\n",
       "      <td>Не прошла тест</td>\n",
       "    </tr>\n",
       "  </tbody>\n",
       "</table>\n",
       "</div>"
      ],
      "text/plain": [
       "                    Model  Accuracy  F1 score Порог тестирования\n",
       "0  RandomForestClassifier      0.85      0.63        Прошла тест\n",
       "1                Catboost      0.85      0.63        Прошла тест\n",
       "2      LogisticRegression      0.67      0.50     Не прошла тест"
      ]
     },
     "execution_count": 69,
     "metadata": {},
     "output_type": "execute_result"
    }
   ],
   "source": [
    "table_of_models = (pd.DataFrame({'Model':table_of_model, 'Accuracy':table_of_acc, \n",
    "                                'F1 score':table_of_prec}).sort_values(by='F1 score', ascending=False).\n",
    "                  reset_index(drop=True))\n",
    "table_of_models['Порог тестирования'] = (\n",
    "                   table_of_models['F1 score'].apply(lambda x: 'Прошла тест' if x>0.59 else 'Не прошла тест')\n",
    ")\n",
    "table_of_models"
   ]
  },
  {
   "cell_type": "markdown",
   "metadata": {},
   "source": [
    "Наилучший результат получили на Случайном лесе - 0.63, второе место занимает Catboost, логистическая регрессия не смогла преодолеть пороговое значение F1-меры 0.59\n",
    "\n",
    "Также мы посмотрели, какие признаки важны моделям для классификации:\n",
    "возраст, ожидаемая зарплата, кредитный скор, баланс и количество продуктов - лидирующую позицию занимает возраст"
   ]
  },
  {
   "cell_type": "markdown",
   "metadata": {},
   "source": [
    "### Проверка адекватности моделей"
   ]
  },
  {
   "cell_type": "markdown",
   "metadata": {},
   "source": [
    "#### Сравнение с константой"
   ]
  },
  {
   "cell_type": "markdown",
   "metadata": {},
   "source": [
    "Сравним наши модели с константной моделью: любому объекту она прогнозирует класс «0»"
   ]
  },
  {
   "cell_type": "code",
   "execution_count": 70,
   "metadata": {},
   "outputs": [
    {
     "name": "stdout",
     "output_type": "stream",
     "text": [
      "Accuracy\n",
      "Константа: 0.7963\n"
     ]
    }
   ],
   "source": [
    "target_const = target*0\n",
    "acc_const = accuracy_score(target, target_const)\n",
    "\n",
    "\n",
    "print(\"Accuracy\")\n",
    "print(\"Константа:\", acc_const)\n"
   ]
  },
  {
   "cell_type": "markdown",
   "metadata": {},
   "source": [
    "Случайный лес и Catboost прошли проверку на адекватность. Правильность наших моделей выше, чем у случайной. Также мы смотрели ROC-AUC на валидации, наши модели показывали результаты лучше."
   ]
  },
  {
   "cell_type": "markdown",
   "metadata": {},
   "source": [
    "## Вывод"
   ]
  },
  {
   "cell_type": "markdown",
   "metadata": {},
   "source": [
    "Нам были предоставлены исторические данные о поведении клиентов и расторжении договоров с банком. На основе этих данных мы сформировали признаки для обучения модели с целью прогнозирования оттока клиентов. Лучших результатов мы достигли с моделью на основе алгоритма Случайного леса - F1 мера - `0.63`. \n",
    "\n",
    "На основе проведенного анализа (на примере лучшей модели):"
   ]
  },
  {
   "cell_type": "code",
   "execution_count": 71,
   "metadata": {},
   "outputs": [
    {
     "data": {
      "text/html": [
       "<div>\n",
       "<style scoped>\n",
       "    .dataframe tbody tr th:only-of-type {\n",
       "        vertical-align: middle;\n",
       "    }\n",
       "\n",
       "    .dataframe tbody tr th {\n",
       "        vertical-align: top;\n",
       "    }\n",
       "\n",
       "    .dataframe thead th {\n",
       "        text-align: right;\n",
       "    }\n",
       "</style>\n",
       "<table border=\"1\" class=\"dataframe\">\n",
       "  <thead>\n",
       "    <tr style=\"text-align: right;\">\n",
       "      <th></th>\n",
       "      <th>name</th>\n",
       "      <th>fi</th>\n",
       "    </tr>\n",
       "  </thead>\n",
       "  <tbody>\n",
       "    <tr>\n",
       "      <td>0</td>\n",
       "      <td>age</td>\n",
       "      <td>0.264584</td>\n",
       "    </tr>\n",
       "    <tr>\n",
       "      <td>1</td>\n",
       "      <td>estimated_salary</td>\n",
       "      <td>0.165256</td>\n",
       "    </tr>\n",
       "    <tr>\n",
       "      <td>2</td>\n",
       "      <td>balance</td>\n",
       "      <td>0.155467</td>\n",
       "    </tr>\n",
       "    <tr>\n",
       "      <td>3</td>\n",
       "      <td>creditscore</td>\n",
       "      <td>0.154553</td>\n",
       "    </tr>\n",
       "    <tr>\n",
       "      <td>4</td>\n",
       "      <td>num_of_products</td>\n",
       "      <td>0.138757</td>\n",
       "    </tr>\n",
       "  </tbody>\n",
       "</table>\n",
       "</div>"
      ],
      "text/plain": [
       "               name        fi\n",
       "0               age  0.264584\n",
       "1  estimated_salary  0.165256\n",
       "2           balance  0.155467\n",
       "3       creditscore  0.154553\n",
       "4   num_of_products  0.138757"
      ]
     },
     "execution_count": 71,
     "metadata": {},
     "output_type": "execute_result"
    }
   ],
   "source": [
    "fi.sort_values('fi',ascending=False).reset_index(drop=True).head()"
   ]
  },
  {
   "cell_type": "markdown",
   "metadata": {},
   "source": [
    "Самые важные признаки, на которые стоит обратить внимание: \n",
    "\n",
    " - возраст клиента\n",
    " - кредитный скор\n",
    " - ожидаемая прибыль\n",
    " - баланс на счете\n",
    " - количество продуктов\n",
    " \n",
    " \n",
    " Для прогнозирования оттока, можно использовать модель на основе алгоритма Случайного леса\n"
   ]
  },
  {
   "cell_type": "markdown",
   "metadata": {},
   "source": [
    "<div class=\"alert alert-block alert-success\">\n",
    "<b>Успех:</b> Всегда приятно наблюдать итоговый, структурированный вывод в конце работы. Анализ проведен очень хорошо, заказчику было бы приятно читать информативные таблицы, которые понятно демонстрируют проделанную работу. \n",
    "</div>"
   ]
  },
  {
   "cell_type": "markdown",
   "metadata": {},
   "source": [
    "## Чек-лист готовности проекта"
   ]
  },
  {
   "cell_type": "markdown",
   "metadata": {},
   "source": [
    "Поставьте 'x' в выполненных пунктах. Далее нажмите Shift+Enter."
   ]
  },
  {
   "cell_type": "markdown",
   "metadata": {},
   "source": [
    "- [x]  Jupyter Notebook открыт\n",
    "- [x]  Весь код выполняется без ошибок\n",
    "- [x]  Ячейки с кодом расположены в порядке исполнения\n",
    "- [x]  Выполнен шаг 1: данные подготовлены\n",
    "- [x]  Выполнен шаг 2: задача исследована\n",
    "    - [x]  Исследован баланс классов\n",
    "    - [x]  Изучены модели без учёта дисбаланса\n",
    "    - [x]  Написаны выводы по результатам исследования\n",
    "- [x]  Выполнен шаг 3: учтён дисбаланс\n",
    "    - [x]  Применено несколько способов борьбы с дисбалансом\n",
    "    - [x]  Написаны выводы по результатам исследования\n",
    "- [x]  Выполнен шаг 4: проведено тестирование\n",
    "- [x]  Удалось достичь *F1*-меры не менее 0.59\n",
    "- [x]  Исследована метрика *AUC-ROC*"
   ]
  }
 ],
 "metadata": {
  "kernelspec": {
   "display_name": "Python 3",
   "language": "python",
   "name": "python3"
  },
  "language_info": {
   "codemirror_mode": {
    "name": "ipython",
    "version": 3
   },
   "file_extension": ".py",
   "mimetype": "text/x-python",
   "name": "python",
   "nbconvert_exporter": "python",
   "pygments_lexer": "ipython3",
   "version": "3.7.8"
  },
  "toc": {
   "base_numbering": 1,
   "nav_menu": {},
   "number_sections": true,
   "sideBar": true,
   "skip_h1_title": true,
   "title_cell": "Содержание",
   "title_sidebar": "Contents",
   "toc_cell": true,
   "toc_position": {
    "height": "calc(100% - 180px)",
    "left": "10px",
    "top": "150px",
    "width": "270.391px"
   },
   "toc_section_display": true,
   "toc_window_display": true
  }
 },
 "nbformat": 4,
 "nbformat_minor": 2
}
