{
  "nbformat": 4,
  "nbformat_minor": 0,
  "metadata": {
    "kernelspec": {
      "display_name": "Python 3",
      "language": "python",
      "name": "python3"
    },
    "language_info": {
      "codemirror_mode": {
        "name": "ipython",
        "version": 3
      },
      "file_extension": ".py",
      "mimetype": "text/x-python",
      "name": "python",
      "nbconvert_exporter": "python",
      "pygments_lexer": "ipython3",
      "version": "3.7.8"
    },
    "toc": {
      "base_numbering": 1,
      "nav_menu": {},
      "number_sections": true,
      "sideBar": true,
      "skip_h1_title": true,
      "title_cell": "Содержание",
      "title_sidebar": "Contents",
      "toc_cell": true,
      "toc_position": {
        "height": "calc(100% - 180px)",
        "left": "10px",
        "top": "150px",
        "width": "270.391px"
      },
      "toc_section_display": true,
      "toc_window_display": true
    },
    "colab": {
      "name": "churn_bank.ipynb",
      "provenance": [],
      "collapsed_sections": []
    }
  },
  "cells": [
    {
      "cell_type": "markdown",
      "metadata": {
        "toc": true,
        "id": "BPyPLAzmBlA1"
      },
      "source": [
        "<h1>Содержание<span class=\"tocSkip\"></span></h1>\n",
        "<div class=\"toc\"><ul class=\"toc-item\"><li><span><a href=\"#Общая-информация-о-данных-в-работе-и-предварительный-осмотр\" data-toc-modified-id=\"Общая-информация-о-данных-в-работе-и-предварительный-осмотр-1\"><span class=\"toc-item-num\">1&nbsp;&nbsp;</span>Общая информация о данных в работе и предварительный осмотр</a></span><ul class=\"toc-item\"><li><span><a href=\"#Импорт-необходимых-библиотек\" data-toc-modified-id=\"Импорт-необходимых-библиотек-1.1\"><span class=\"toc-item-num\">1.1&nbsp;&nbsp;</span>Импорт необходимых библиотек</a></span></li><li><span><a href=\"#Изучение-сета-данных\" data-toc-modified-id=\"Изучение-сета-данных-1.2\"><span class=\"toc-item-num\">1.2&nbsp;&nbsp;</span>Изучение сета данных</a></span></li><li><span><a href=\"#Вывод\" data-toc-modified-id=\"Вывод-1.3\"><span class=\"toc-item-num\">1.3&nbsp;&nbsp;</span>Вывод</a></span></li></ul></li><li><span><a href=\"#Исследование-задачи\" data-toc-modified-id=\"Исследование-задачи-2\"><span class=\"toc-item-num\">2&nbsp;&nbsp;</span>Исследование задачи</a></span><ul class=\"toc-item\"><li><span><a href=\"#Подготовка-признаков\" data-toc-modified-id=\"Подготовка-признаков-2.1\"><span class=\"toc-item-num\">2.1&nbsp;&nbsp;</span>Подготовка признаков</a></span></li><li><span><a href=\"#One-hot-Encoding\" data-toc-modified-id=\"One-hot-Encoding-2.2\"><span class=\"toc-item-num\">2.2&nbsp;&nbsp;</span>One-hot Encoding</a></span></li><li><span><a href=\"#Масштабирование\" data-toc-modified-id=\"Масштабирование-2.3\"><span class=\"toc-item-num\">2.3&nbsp;&nbsp;</span>Масштабирование</a></span></li><li><span><a href=\"#Разделение-выборки\" data-toc-modified-id=\"Разделение-выборки-2.4\"><span class=\"toc-item-num\">2.4&nbsp;&nbsp;</span>Разделение выборки</a></span></li><li><span><a href=\"#Пробное-обучение-моделей-без-учета-дисбаланса-классов\" data-toc-modified-id=\"Пробное-обучение-моделей-без-учета-дисбаланса-классов-2.5\"><span class=\"toc-item-num\">2.5&nbsp;&nbsp;</span>Пробное обучение моделей без учета дисбаланса классов</a></span><ul class=\"toc-item\"><li><span><a href=\"#Логистическая-регрессиия\" data-toc-modified-id=\"Логистическая-регрессиия-2.5.1\"><span class=\"toc-item-num\">2.5.1&nbsp;&nbsp;</span>Логистическая регрессиия</a></span></li><li><span><a href=\"#Случайный-лес\" data-toc-modified-id=\"Случайный-лес-2.5.2\"><span class=\"toc-item-num\">2.5.2&nbsp;&nbsp;</span>Случайный лес</a></span></li><li><span><a href=\"#Catboost\" data-toc-modified-id=\"Catboost-2.5.3\"><span class=\"toc-item-num\">2.5.3&nbsp;&nbsp;</span>Catboost</a></span></li></ul></li><li><span><a href=\"#Вывод\" data-toc-modified-id=\"Вывод-2.6\"><span class=\"toc-item-num\">2.6&nbsp;&nbsp;</span>Вывод</a></span></li></ul></li><li><span><a href=\"#Борьба-с-дисбалансом-и-улучшение-моделей\" data-toc-modified-id=\"Борьба-с-дисбалансом-и-улучшение-моделей-3\"><span class=\"toc-item-num\">3&nbsp;&nbsp;</span>Борьба с дисбалансом и улучшение моделей</a></span><ul class=\"toc-item\"><li><span><a href=\"#Увеличение-выборки-upsampling\" data-toc-modified-id=\"Увеличение-выборки-upsampling-3.1\"><span class=\"toc-item-num\">3.1&nbsp;&nbsp;</span>Увеличение выборки upsampling</a></span><ul class=\"toc-item\"><li><span><a href=\"#Логистическая-регрессия\" data-toc-modified-id=\"Логистическая-регрессия-3.1.1\"><span class=\"toc-item-num\">3.1.1&nbsp;&nbsp;</span>Логистическая регрессия</a></span></li><li><span><a href=\"#Случайный-лес\" data-toc-modified-id=\"Случайный-лес-3.1.2\"><span class=\"toc-item-num\">3.1.2&nbsp;&nbsp;</span>Случайный лес</a></span></li><li><span><a href=\"#Catboost\" data-toc-modified-id=\"Catboost-3.1.3\"><span class=\"toc-item-num\">3.1.3&nbsp;&nbsp;</span>Catboost</a></span></li></ul></li><li><span><a href=\"#Уменьшение-выборки-downsampling\" data-toc-modified-id=\"Уменьшение-выборки-downsampling-3.2\"><span class=\"toc-item-num\">3.2&nbsp;&nbsp;</span>Уменьшение выборки downsampling</a></span><ul class=\"toc-item\"><li><span><a href=\"#Логистическая-регрессия\" data-toc-modified-id=\"Логистическая-регрессия-3.2.1\"><span class=\"toc-item-num\">3.2.1&nbsp;&nbsp;</span>Логистическая регрессия</a></span></li><li><span><a href=\"#Случайный-лес\" data-toc-modified-id=\"Случайный-лес-3.2.2\"><span class=\"toc-item-num\">3.2.2&nbsp;&nbsp;</span>Случайный лес</a></span></li><li><span><a href=\"#Catboost\" data-toc-modified-id=\"Catboost-3.2.3\"><span class=\"toc-item-num\">3.2.3&nbsp;&nbsp;</span>Catboost</a></span></li></ul></li><li><span><a href=\"#Изменение-порога\" data-toc-modified-id=\"Изменение-порога-3.3\"><span class=\"toc-item-num\">3.3&nbsp;&nbsp;</span>Изменение порога</a></span><ul class=\"toc-item\"><li><span><a href=\"#Логистическая-регрессия\" data-toc-modified-id=\"Логистическая-регрессия-3.3.1\"><span class=\"toc-item-num\">3.3.1&nbsp;&nbsp;</span>Логистическая регрессия</a></span></li><li><span><a href=\"#Случайный-лес\" data-toc-modified-id=\"Случайный-лес-3.3.2\"><span class=\"toc-item-num\">3.3.2&nbsp;&nbsp;</span>Случайный лес</a></span></li></ul></li><li><span><a href=\"#Обучение-моделей-и-настройка-гиперпараметров\" data-toc-modified-id=\"Обучение-моделей-и-настройка-гиперпараметров-3.4\"><span class=\"toc-item-num\">3.4&nbsp;&nbsp;</span>Обучение моделей и настройка гиперпараметров</a></span><ul class=\"toc-item\"><li><span><a href=\"#Логистическая-регрессия\" data-toc-modified-id=\"Логистическая-регрессия-3.4.1\"><span class=\"toc-item-num\">3.4.1&nbsp;&nbsp;</span>Логистическая регрессия</a></span></li><li><span><a href=\"#Случайный-лес\" data-toc-modified-id=\"Случайный-лес-3.4.2\"><span class=\"toc-item-num\">3.4.2&nbsp;&nbsp;</span>Случайный лес</a></span></li><li><span><a href=\"#Catboost-(bonus)\" data-toc-modified-id=\"Catboost-(bonus)-3.4.3\"><span class=\"toc-item-num\">3.4.3&nbsp;&nbsp;</span>Catboost (bonus)</a></span></li></ul></li></ul></li><li><span><a href=\"#Тестирование-моделей-и-проверка-на-адекватность\" data-toc-modified-id=\"Тестирование-моделей-и-проверка-на-адекватность-4\"><span class=\"toc-item-num\">4&nbsp;&nbsp;</span>Тестирование моделей и проверка на адекватность</a></span><ul class=\"toc-item\"><li><span><a href=\"#Тестирование-моделей\" data-toc-modified-id=\"Тестирование-моделей-4.1\"><span class=\"toc-item-num\">4.1&nbsp;&nbsp;</span>Тестирование моделей</a></span><ul class=\"toc-item\"><li><span><a href=\"#Логистическая-регрессия\" data-toc-modified-id=\"Логистическая-регрессия-4.1.1\"><span class=\"toc-item-num\">4.1.1&nbsp;&nbsp;</span>Логистическая регрессия</a></span></li><li><span><a href=\"#Случайный-лес\" data-toc-modified-id=\"Случайный-лес-4.1.2\"><span class=\"toc-item-num\">4.1.2&nbsp;&nbsp;</span>Случайный лес</a></span></li><li><span><a href=\"#Catboost\" data-toc-modified-id=\"Catboost-4.1.3\"><span class=\"toc-item-num\">4.1.3&nbsp;&nbsp;</span>Catboost</a></span></li><li><span><a href=\"#Вывод\" data-toc-modified-id=\"Вывод-4.1.4\"><span class=\"toc-item-num\">4.1.4&nbsp;&nbsp;</span>Вывод</a></span></li></ul></li><li><span><a href=\"#Проверка-адекватности-моделей\" data-toc-modified-id=\"Проверка-адекватности-моделей-4.2\"><span class=\"toc-item-num\">4.2&nbsp;&nbsp;</span>Проверка адекватности моделей</a></span><ul class=\"toc-item\"><li><span><a href=\"#Сравнение-с-константой\" data-toc-modified-id=\"Сравнение-с-константой-4.2.1\"><span class=\"toc-item-num\">4.2.1&nbsp;&nbsp;</span>Сравнение с константой</a></span></li></ul></li></ul></li><li><span><a href=\"#Вывод\" data-toc-modified-id=\"Вывод-5\"><span class=\"toc-item-num\">5&nbsp;&nbsp;</span>Вывод</a></span></li><li><span><a href=\"#Чек-лист-готовности-проекта\" data-toc-modified-id=\"Чек-лист-готовности-проекта-6\"><span class=\"toc-item-num\">6&nbsp;&nbsp;</span>Чек-лист готовности проекта</a></span></li></ul></div>"
      ]
    },
    {
      "cell_type": "markdown",
      "metadata": {
        "id": "aCaCNgXqBlA3"
      },
      "source": [
        "![](https://i.ibb.co/yQ3D64X/face.jpg)\n",
        "\n",
        "# Отток клиентов\n",
        "\n",
        "*Из банка стали уходить клиенты. Каждый месяц. Немного, но заметно. Банковские маркетологи посчитали: сохранять текущих клиентов дешевле, чем привлекать новых.*\n",
        "\n",
        "*Необходимо спрогнозировать, уйдёт клиент из банка в ближайшее время или нет.  \n",
        "Нам предоставлены исторические данные о поведении клиентов и расторжении договоров с банком.* \n"
      ]
    },
    {
      "cell_type": "markdown",
      "metadata": {
        "id": "9fvbQR_aBlA4"
      },
      "source": [
        "## Общая информация о данных в работе и предварительный осмотр"
      ]
    },
    {
      "cell_type": "markdown",
      "metadata": {
        "id": "AtXxcBqGBlA4"
      },
      "source": [
        "### Импорт необходимых библиотек"
      ]
    },
    {
      "cell_type": "code",
      "metadata": {
        "colab": {
          "base_uri": "https://localhost:8080/"
        },
        "id": "ifukmtZ8B-_-",
        "outputId": "4c15601c-a414-401a-a17f-bbec4810c31b"
      },
      "source": [
        "!pip install catboost"
      ],
      "execution_count": 1,
      "outputs": [
        {
          "output_type": "stream",
          "text": [
            "Collecting catboost\n",
            "\u001b[?25l  Downloading https://files.pythonhosted.org/packages/47/80/8e9c57ec32dfed6ba2922bc5c96462cbf8596ce1a6f5de532ad1e43e53fe/catboost-0.25.1-cp37-none-manylinux1_x86_64.whl (67.3MB)\n",
            "\u001b[K     |████████████████████████████████| 67.3MB 62kB/s \n",
            "\u001b[?25hRequirement already satisfied: six in /usr/local/lib/python3.7/dist-packages (from catboost) (1.15.0)\n",
            "Requirement already satisfied: pandas>=0.24.0 in /usr/local/lib/python3.7/dist-packages (from catboost) (1.1.5)\n",
            "Requirement already satisfied: graphviz in /usr/local/lib/python3.7/dist-packages (from catboost) (0.10.1)\n",
            "Requirement already satisfied: numpy>=1.16.0 in /usr/local/lib/python3.7/dist-packages (from catboost) (1.19.5)\n",
            "Requirement already satisfied: scipy in /usr/local/lib/python3.7/dist-packages (from catboost) (1.4.1)\n",
            "Requirement already satisfied: plotly in /usr/local/lib/python3.7/dist-packages (from catboost) (4.4.1)\n",
            "Requirement already satisfied: matplotlib in /usr/local/lib/python3.7/dist-packages (from catboost) (3.2.2)\n",
            "Requirement already satisfied: pytz>=2017.2 in /usr/local/lib/python3.7/dist-packages (from pandas>=0.24.0->catboost) (2018.9)\n",
            "Requirement already satisfied: python-dateutil>=2.7.3 in /usr/local/lib/python3.7/dist-packages (from pandas>=0.24.0->catboost) (2.8.1)\n",
            "Requirement already satisfied: retrying>=1.3.3 in /usr/local/lib/python3.7/dist-packages (from plotly->catboost) (1.3.3)\n",
            "Requirement already satisfied: kiwisolver>=1.0.1 in /usr/local/lib/python3.7/dist-packages (from matplotlib->catboost) (1.3.1)\n",
            "Requirement already satisfied: pyparsing!=2.0.4,!=2.1.2,!=2.1.6,>=2.0.1 in /usr/local/lib/python3.7/dist-packages (from matplotlib->catboost) (2.4.7)\n",
            "Requirement already satisfied: cycler>=0.10 in /usr/local/lib/python3.7/dist-packages (from matplotlib->catboost) (0.10.0)\n",
            "Installing collected packages: catboost\n",
            "Successfully installed catboost-0.25.1\n"
          ],
          "name": "stdout"
        }
      ]
    },
    {
      "cell_type": "code",
      "metadata": {
        "colab": {
          "base_uri": "https://localhost:8080/"
        },
        "id": "NoS7CgjRCCYL",
        "outputId": "7379bcf4-c629-4fe2-eff5-f45e18eb4f2e"
      },
      "source": [
        "!gdown --id 1OsHipyJVKKQ-8Nc_wi8jlbtKH1e2I7vI"
      ],
      "execution_count": 2,
      "outputs": [
        {
          "output_type": "stream",
          "text": [
            "Downloading...\n",
            "From: https://drive.google.com/uc?id=1OsHipyJVKKQ-8Nc_wi8jlbtKH1e2I7vI\n",
            "To: /content/Churn.csv\n",
            "\r  0% 0.00/710k [00:00<?, ?B/s]\r100% 710k/710k [00:00<00:00, 46.9MB/s]\n"
          ],
          "name": "stdout"
        }
      ]
    },
    {
      "cell_type": "code",
      "metadata": {
        "id": "9MmuTFM6BlA4"
      },
      "source": [
        "import pandas as pd\n",
        "import numpy as np\n",
        "%matplotlib inline\n",
        "import matplotlib.pyplot as plt\n",
        "import seaborn as sns\n",
        "sns.set_style(\"darkgrid\")\n",
        "from sklearn.linear_model import LogisticRegression\n",
        "from sklearn.ensemble import RandomForestClassifier\n",
        "from sklearn.metrics import f1_score, roc_auc_score, roc_curve, precision_score, recall_score\n",
        "from sklearn.metrics import precision_recall_curve, accuracy_score\n",
        "from catboost import CatBoostClassifier\n",
        "from sklearn.preprocessing import StandardScaler\n",
        "from sklearn.model_selection import train_test_split, GridSearchCV\n",
        "from catboost import Pool, cv\n",
        "from sklearn.utils import shuffle\n",
        "import warnings\n",
        "warnings.filterwarnings(\"ignore\")\n",
        "\n"
      ],
      "execution_count": 3,
      "outputs": []
    },
    {
      "cell_type": "markdown",
      "metadata": {
        "id": "Bu2hLpL5BlA5"
      },
      "source": [
        "### Изучение сета данных"
      ]
    },
    {
      "cell_type": "code",
      "metadata": {
        "colab": {
          "base_uri": "https://localhost:8080/",
          "height": 204
        },
        "id": "89u_dXeuBlA5",
        "outputId": "304d0214-5a9a-4b7d-89ae-9eb8a41b83fc"
      },
      "source": [
        "df = pd.read_csv('/content/Churn.csv')\n",
        "df.head()"
      ],
      "execution_count": 4,
      "outputs": [
        {
          "output_type": "execute_result",
          "data": {
            "text/html": [
              "<div>\n",
              "<style scoped>\n",
              "    .dataframe tbody tr th:only-of-type {\n",
              "        vertical-align: middle;\n",
              "    }\n",
              "\n",
              "    .dataframe tbody tr th {\n",
              "        vertical-align: top;\n",
              "    }\n",
              "\n",
              "    .dataframe thead th {\n",
              "        text-align: right;\n",
              "    }\n",
              "</style>\n",
              "<table border=\"1\" class=\"dataframe\">\n",
              "  <thead>\n",
              "    <tr style=\"text-align: right;\">\n",
              "      <th></th>\n",
              "      <th>RowNumber</th>\n",
              "      <th>CustomerId</th>\n",
              "      <th>Surname</th>\n",
              "      <th>CreditScore</th>\n",
              "      <th>Geography</th>\n",
              "      <th>Gender</th>\n",
              "      <th>Age</th>\n",
              "      <th>Tenure</th>\n",
              "      <th>Balance</th>\n",
              "      <th>NumOfProducts</th>\n",
              "      <th>HasCrCard</th>\n",
              "      <th>IsActiveMember</th>\n",
              "      <th>EstimatedSalary</th>\n",
              "      <th>Exited</th>\n",
              "    </tr>\n",
              "  </thead>\n",
              "  <tbody>\n",
              "    <tr>\n",
              "      <th>0</th>\n",
              "      <td>1</td>\n",
              "      <td>15634602</td>\n",
              "      <td>Hargrave</td>\n",
              "      <td>619</td>\n",
              "      <td>France</td>\n",
              "      <td>Female</td>\n",
              "      <td>42</td>\n",
              "      <td>2.0</td>\n",
              "      <td>0.00</td>\n",
              "      <td>1</td>\n",
              "      <td>1</td>\n",
              "      <td>1</td>\n",
              "      <td>101348.88</td>\n",
              "      <td>1</td>\n",
              "    </tr>\n",
              "    <tr>\n",
              "      <th>1</th>\n",
              "      <td>2</td>\n",
              "      <td>15647311</td>\n",
              "      <td>Hill</td>\n",
              "      <td>608</td>\n",
              "      <td>Spain</td>\n",
              "      <td>Female</td>\n",
              "      <td>41</td>\n",
              "      <td>1.0</td>\n",
              "      <td>83807.86</td>\n",
              "      <td>1</td>\n",
              "      <td>0</td>\n",
              "      <td>1</td>\n",
              "      <td>112542.58</td>\n",
              "      <td>0</td>\n",
              "    </tr>\n",
              "    <tr>\n",
              "      <th>2</th>\n",
              "      <td>3</td>\n",
              "      <td>15619304</td>\n",
              "      <td>Onio</td>\n",
              "      <td>502</td>\n",
              "      <td>France</td>\n",
              "      <td>Female</td>\n",
              "      <td>42</td>\n",
              "      <td>8.0</td>\n",
              "      <td>159660.80</td>\n",
              "      <td>3</td>\n",
              "      <td>1</td>\n",
              "      <td>0</td>\n",
              "      <td>113931.57</td>\n",
              "      <td>1</td>\n",
              "    </tr>\n",
              "    <tr>\n",
              "      <th>3</th>\n",
              "      <td>4</td>\n",
              "      <td>15701354</td>\n",
              "      <td>Boni</td>\n",
              "      <td>699</td>\n",
              "      <td>France</td>\n",
              "      <td>Female</td>\n",
              "      <td>39</td>\n",
              "      <td>1.0</td>\n",
              "      <td>0.00</td>\n",
              "      <td>2</td>\n",
              "      <td>0</td>\n",
              "      <td>0</td>\n",
              "      <td>93826.63</td>\n",
              "      <td>0</td>\n",
              "    </tr>\n",
              "    <tr>\n",
              "      <th>4</th>\n",
              "      <td>5</td>\n",
              "      <td>15737888</td>\n",
              "      <td>Mitchell</td>\n",
              "      <td>850</td>\n",
              "      <td>Spain</td>\n",
              "      <td>Female</td>\n",
              "      <td>43</td>\n",
              "      <td>2.0</td>\n",
              "      <td>125510.82</td>\n",
              "      <td>1</td>\n",
              "      <td>1</td>\n",
              "      <td>1</td>\n",
              "      <td>79084.10</td>\n",
              "      <td>0</td>\n",
              "    </tr>\n",
              "  </tbody>\n",
              "</table>\n",
              "</div>"
            ],
            "text/plain": [
              "   RowNumber  CustomerId   Surname  ...  IsActiveMember EstimatedSalary Exited\n",
              "0          1    15634602  Hargrave  ...               1       101348.88      1\n",
              "1          2    15647311      Hill  ...               1       112542.58      0\n",
              "2          3    15619304      Onio  ...               0       113931.57      1\n",
              "3          4    15701354      Boni  ...               0        93826.63      0\n",
              "4          5    15737888  Mitchell  ...               1        79084.10      0\n",
              "\n",
              "[5 rows x 14 columns]"
            ]
          },
          "metadata": {
            "tags": []
          },
          "execution_count": 4
        }
      ]
    },
    {
      "cell_type": "markdown",
      "metadata": {
        "id": "3cnVG3SSBlA6"
      },
      "source": [
        "Описание признаков: \n",
        "\n",
        "- `RowNumber` — индекс строки в данных\n",
        "- `CustomerId` — уникальный идентификатор клиента\n",
        "- `Surname` — фамилия\n",
        "- `CreditScore` — кредитный рейтинг\n",
        "- `Geography` — страна проживания\n",
        "- `Gender` — пол\n",
        "- `Age` — возраст\n",
        "- `Tenure` — сколько лет человек является клиентом банка\n",
        "- `Balance` — баланс на счёте\n",
        "- `NumOfProducts` — количество продуктов банка, используемых клиентом\n",
        "- `HasCrCard` — наличие кредитной карты\n",
        "- `IsActiveMember` — активность клиента\n",
        "- `EstimatedSalary` — предполагаемая зарплата\n",
        "\n",
        "Целевой столбец:\n",
        "\n",
        "- `Exited` — факт ухода клиента"
      ]
    },
    {
      "cell_type": "markdown",
      "metadata": {
        "id": "Xki_f4a6BlA6"
      },
      "source": [
        "Для нашего удобства приведем название столбцов к нижнему регистру и приведем их к змеиному регистру"
      ]
    },
    {
      "cell_type": "code",
      "metadata": {
        "colab": {
          "base_uri": "https://localhost:8080/"
        },
        "id": "E9-ItOP7BlA6",
        "outputId": "8b9977c6-48b6-4f6a-9d68-fe098c6b03e6"
      },
      "source": [
        "df.columns = df.columns.str.lower()\n",
        "df.columns"
      ],
      "execution_count": 5,
      "outputs": [
        {
          "output_type": "execute_result",
          "data": {
            "text/plain": [
              "Index(['rownumber', 'customerid', 'surname', 'creditscore', 'geography',\n",
              "       'gender', 'age', 'tenure', 'balance', 'numofproducts', 'hascrcard',\n",
              "       'isactivemember', 'estimatedsalary', 'exited'],\n",
              "      dtype='object')"
            ]
          },
          "metadata": {
            "tags": []
          },
          "execution_count": 5
        }
      ]
    },
    {
      "cell_type": "code",
      "metadata": {
        "colab": {
          "base_uri": "https://localhost:8080/"
        },
        "id": "dJkfisMpBlA6",
        "outputId": "6fd4db62-729a-4bd7-ffd5-c3f4d6aab067"
      },
      "source": [
        "df.columns = ['row_number', 'customer_id', 'surname', 'creditscore', 'geography',\n",
        "       'gender', 'age', 'tenure', 'balance', 'num_of_products', 'has_crcard',\n",
        "       'isactive_member', 'estimated_salary', 'exited']\n",
        "df.columns"
      ],
      "execution_count": 6,
      "outputs": [
        {
          "output_type": "execute_result",
          "data": {
            "text/plain": [
              "Index(['row_number', 'customer_id', 'surname', 'creditscore', 'geography',\n",
              "       'gender', 'age', 'tenure', 'balance', 'num_of_products', 'has_crcard',\n",
              "       'isactive_member', 'estimated_salary', 'exited'],\n",
              "      dtype='object')"
            ]
          },
          "metadata": {
            "tags": []
          },
          "execution_count": 6
        }
      ]
    },
    {
      "cell_type": "markdown",
      "metadata": {
        "id": "mpMqlgQQBlA7"
      },
      "source": [
        "Посмотрим общую информацию о данных в работе"
      ]
    },
    {
      "cell_type": "code",
      "metadata": {
        "colab": {
          "base_uri": "https://localhost:8080/"
        },
        "id": "OPEse60xBlA7",
        "outputId": "ad920090-1786-4b16-a0f7-2c030e08b071"
      },
      "source": [
        "print(df.shape)\n",
        "df.info()"
      ],
      "execution_count": 7,
      "outputs": [
        {
          "output_type": "stream",
          "text": [
            "(10000, 14)\n",
            "<class 'pandas.core.frame.DataFrame'>\n",
            "RangeIndex: 10000 entries, 0 to 9999\n",
            "Data columns (total 14 columns):\n",
            " #   Column            Non-Null Count  Dtype  \n",
            "---  ------            --------------  -----  \n",
            " 0   row_number        10000 non-null  int64  \n",
            " 1   customer_id       10000 non-null  int64  \n",
            " 2   surname           10000 non-null  object \n",
            " 3   creditscore       10000 non-null  int64  \n",
            " 4   geography         10000 non-null  object \n",
            " 5   gender            10000 non-null  object \n",
            " 6   age               10000 non-null  int64  \n",
            " 7   tenure            9091 non-null   float64\n",
            " 8   balance           10000 non-null  float64\n",
            " 9   num_of_products   10000 non-null  int64  \n",
            " 10  has_crcard        10000 non-null  int64  \n",
            " 11  isactive_member   10000 non-null  int64  \n",
            " 12  estimated_salary  10000 non-null  float64\n",
            " 13  exited            10000 non-null  int64  \n",
            "dtypes: float64(3), int64(8), object(3)\n",
            "memory usage: 1.1+ MB\n"
          ],
          "name": "stdout"
        }
      ]
    },
    {
      "cell_type": "markdown",
      "metadata": {
        "id": "6k2dnVRRBlA7"
      },
      "source": [
        "Наблюдаем пропуски в столбце `tenure`. Решим в дальнейшем, что с ними делать - здесь имеет место быть либо технические особенности (например, если клиент в банке менее 1 года - ставится NaN) - так или иначе, восстановить по другим признакам данные мы не можем.  \n",
        "Вероятнее, лучшим вариантом будет оставить NaN и анализировать с ними, так и попробовать удалить строки и анализировать без них."
      ]
    },
    {
      "cell_type": "code",
      "metadata": {
        "colab": {
          "base_uri": "https://localhost:8080/"
        },
        "id": "NlU4HXuXBlA7",
        "outputId": "3320f201-5a19-44b1-e485-a18fbaf29785"
      },
      "source": [
        "df['tenure'].isna().mean()"
      ],
      "execution_count": 8,
      "outputs": [
        {
          "output_type": "execute_result",
          "data": {
            "text/plain": [
              "0.0909"
            ]
          },
          "metadata": {
            "tags": []
          },
          "execution_count": 8
        }
      ]
    },
    {
      "cell_type": "markdown",
      "metadata": {
        "id": "-tbZJZcTBlA7"
      },
      "source": [
        "Таким образом имеем 9% пропусков. Относительно незначительное количество"
      ]
    },
    {
      "cell_type": "markdown",
      "metadata": {
        "id": "HL9IY_AXBlA8"
      },
      "source": [
        "Отдельно посмотрим типы данных в нашем датафрейме:"
      ]
    },
    {
      "cell_type": "code",
      "metadata": {
        "colab": {
          "base_uri": "https://localhost:8080/"
        },
        "id": "uuZh1aEXBlA8",
        "outputId": "51b0d176-76d9-470c-d36e-d78a5b85be79"
      },
      "source": [
        "df.dtypes"
      ],
      "execution_count": 9,
      "outputs": [
        {
          "output_type": "execute_result",
          "data": {
            "text/plain": [
              "row_number            int64\n",
              "customer_id           int64\n",
              "surname              object\n",
              "creditscore           int64\n",
              "geography            object\n",
              "gender               object\n",
              "age                   int64\n",
              "tenure              float64\n",
              "balance             float64\n",
              "num_of_products       int64\n",
              "has_crcard            int64\n",
              "isactive_member       int64\n",
              "estimated_salary    float64\n",
              "exited                int64\n",
              "dtype: object"
            ]
          },
          "metadata": {
            "tags": []
          },
          "execution_count": 9
        }
      ]
    },
    {
      "cell_type": "markdown",
      "metadata": {
        "id": "ZKgADEObBlA8"
      },
      "source": [
        "`tenure` можно привести к целоцисленному для удобства"
      ]
    },
    {
      "cell_type": "code",
      "metadata": {
        "colab": {
          "base_uri": "https://localhost:8080/",
          "height": 390
        },
        "id": "nsdthm8LBlA8",
        "outputId": "1933658e-c844-42a9-ff43-7058f28c5c05"
      },
      "source": [
        "df.describe().T"
      ],
      "execution_count": 10,
      "outputs": [
        {
          "output_type": "execute_result",
          "data": {
            "text/html": [
              "<div>\n",
              "<style scoped>\n",
              "    .dataframe tbody tr th:only-of-type {\n",
              "        vertical-align: middle;\n",
              "    }\n",
              "\n",
              "    .dataframe tbody tr th {\n",
              "        vertical-align: top;\n",
              "    }\n",
              "\n",
              "    .dataframe thead th {\n",
              "        text-align: right;\n",
              "    }\n",
              "</style>\n",
              "<table border=\"1\" class=\"dataframe\">\n",
              "  <thead>\n",
              "    <tr style=\"text-align: right;\">\n",
              "      <th></th>\n",
              "      <th>count</th>\n",
              "      <th>mean</th>\n",
              "      <th>std</th>\n",
              "      <th>min</th>\n",
              "      <th>25%</th>\n",
              "      <th>50%</th>\n",
              "      <th>75%</th>\n",
              "      <th>max</th>\n",
              "    </tr>\n",
              "  </thead>\n",
              "  <tbody>\n",
              "    <tr>\n",
              "      <th>row_number</th>\n",
              "      <td>10000.0</td>\n",
              "      <td>5.000500e+03</td>\n",
              "      <td>2886.895680</td>\n",
              "      <td>1.00</td>\n",
              "      <td>2500.75</td>\n",
              "      <td>5.000500e+03</td>\n",
              "      <td>7.500250e+03</td>\n",
              "      <td>10000.00</td>\n",
              "    </tr>\n",
              "    <tr>\n",
              "      <th>customer_id</th>\n",
              "      <td>10000.0</td>\n",
              "      <td>1.569094e+07</td>\n",
              "      <td>71936.186123</td>\n",
              "      <td>15565701.00</td>\n",
              "      <td>15628528.25</td>\n",
              "      <td>1.569074e+07</td>\n",
              "      <td>1.575323e+07</td>\n",
              "      <td>15815690.00</td>\n",
              "    </tr>\n",
              "    <tr>\n",
              "      <th>creditscore</th>\n",
              "      <td>10000.0</td>\n",
              "      <td>6.505288e+02</td>\n",
              "      <td>96.653299</td>\n",
              "      <td>350.00</td>\n",
              "      <td>584.00</td>\n",
              "      <td>6.520000e+02</td>\n",
              "      <td>7.180000e+02</td>\n",
              "      <td>850.00</td>\n",
              "    </tr>\n",
              "    <tr>\n",
              "      <th>age</th>\n",
              "      <td>10000.0</td>\n",
              "      <td>3.892180e+01</td>\n",
              "      <td>10.487806</td>\n",
              "      <td>18.00</td>\n",
              "      <td>32.00</td>\n",
              "      <td>3.700000e+01</td>\n",
              "      <td>4.400000e+01</td>\n",
              "      <td>92.00</td>\n",
              "    </tr>\n",
              "    <tr>\n",
              "      <th>tenure</th>\n",
              "      <td>9091.0</td>\n",
              "      <td>4.997690e+00</td>\n",
              "      <td>2.894723</td>\n",
              "      <td>0.00</td>\n",
              "      <td>2.00</td>\n",
              "      <td>5.000000e+00</td>\n",
              "      <td>7.000000e+00</td>\n",
              "      <td>10.00</td>\n",
              "    </tr>\n",
              "    <tr>\n",
              "      <th>balance</th>\n",
              "      <td>10000.0</td>\n",
              "      <td>7.648589e+04</td>\n",
              "      <td>62397.405202</td>\n",
              "      <td>0.00</td>\n",
              "      <td>0.00</td>\n",
              "      <td>9.719854e+04</td>\n",
              "      <td>1.276442e+05</td>\n",
              "      <td>250898.09</td>\n",
              "    </tr>\n",
              "    <tr>\n",
              "      <th>num_of_products</th>\n",
              "      <td>10000.0</td>\n",
              "      <td>1.530200e+00</td>\n",
              "      <td>0.581654</td>\n",
              "      <td>1.00</td>\n",
              "      <td>1.00</td>\n",
              "      <td>1.000000e+00</td>\n",
              "      <td>2.000000e+00</td>\n",
              "      <td>4.00</td>\n",
              "    </tr>\n",
              "    <tr>\n",
              "      <th>has_crcard</th>\n",
              "      <td>10000.0</td>\n",
              "      <td>7.055000e-01</td>\n",
              "      <td>0.455840</td>\n",
              "      <td>0.00</td>\n",
              "      <td>0.00</td>\n",
              "      <td>1.000000e+00</td>\n",
              "      <td>1.000000e+00</td>\n",
              "      <td>1.00</td>\n",
              "    </tr>\n",
              "    <tr>\n",
              "      <th>isactive_member</th>\n",
              "      <td>10000.0</td>\n",
              "      <td>5.151000e-01</td>\n",
              "      <td>0.499797</td>\n",
              "      <td>0.00</td>\n",
              "      <td>0.00</td>\n",
              "      <td>1.000000e+00</td>\n",
              "      <td>1.000000e+00</td>\n",
              "      <td>1.00</td>\n",
              "    </tr>\n",
              "    <tr>\n",
              "      <th>estimated_salary</th>\n",
              "      <td>10000.0</td>\n",
              "      <td>1.000902e+05</td>\n",
              "      <td>57510.492818</td>\n",
              "      <td>11.58</td>\n",
              "      <td>51002.11</td>\n",
              "      <td>1.001939e+05</td>\n",
              "      <td>1.493882e+05</td>\n",
              "      <td>199992.48</td>\n",
              "    </tr>\n",
              "    <tr>\n",
              "      <th>exited</th>\n",
              "      <td>10000.0</td>\n",
              "      <td>2.037000e-01</td>\n",
              "      <td>0.402769</td>\n",
              "      <td>0.00</td>\n",
              "      <td>0.00</td>\n",
              "      <td>0.000000e+00</td>\n",
              "      <td>0.000000e+00</td>\n",
              "      <td>1.00</td>\n",
              "    </tr>\n",
              "  </tbody>\n",
              "</table>\n",
              "</div>"
            ],
            "text/plain": [
              "                    count          mean  ...           75%          max\n",
              "row_number        10000.0  5.000500e+03  ...  7.500250e+03     10000.00\n",
              "customer_id       10000.0  1.569094e+07  ...  1.575323e+07  15815690.00\n",
              "creditscore       10000.0  6.505288e+02  ...  7.180000e+02       850.00\n",
              "age               10000.0  3.892180e+01  ...  4.400000e+01        92.00\n",
              "tenure             9091.0  4.997690e+00  ...  7.000000e+00        10.00\n",
              "balance           10000.0  7.648589e+04  ...  1.276442e+05    250898.09\n",
              "num_of_products   10000.0  1.530200e+00  ...  2.000000e+00         4.00\n",
              "has_crcard        10000.0  7.055000e-01  ...  1.000000e+00         1.00\n",
              "isactive_member   10000.0  5.151000e-01  ...  1.000000e+00         1.00\n",
              "estimated_salary  10000.0  1.000902e+05  ...  1.493882e+05    199992.48\n",
              "exited            10000.0  2.037000e-01  ...  0.000000e+00         1.00\n",
              "\n",
              "[11 rows x 8 columns]"
            ]
          },
          "metadata": {
            "tags": []
          },
          "execution_count": 10
        }
      ]
    },
    {
      "cell_type": "markdown",
      "metadata": {
        "id": "qXwt8rNjBlA8"
      },
      "source": [
        "На первый взгляд не наблюдаем аномалий в данных, значительных выбросов. Например, по возрасту, минимальный 18 лет - максимальный 92 года, что может соответствовать действительности.  \n",
        "\n",
        "Посмотрим целевой столбец `exited`"
      ]
    },
    {
      "cell_type": "code",
      "metadata": {
        "colab": {
          "base_uri": "https://localhost:8080/",
          "height": 111
        },
        "id": "DR5oO2btBlA8",
        "outputId": "849337c3-348b-48d6-e75b-0317bc4ed925"
      },
      "source": [
        "df['exited'].value_counts().to_frame()"
      ],
      "execution_count": 11,
      "outputs": [
        {
          "output_type": "execute_result",
          "data": {
            "text/html": [
              "<div>\n",
              "<style scoped>\n",
              "    .dataframe tbody tr th:only-of-type {\n",
              "        vertical-align: middle;\n",
              "    }\n",
              "\n",
              "    .dataframe tbody tr th {\n",
              "        vertical-align: top;\n",
              "    }\n",
              "\n",
              "    .dataframe thead th {\n",
              "        text-align: right;\n",
              "    }\n",
              "</style>\n",
              "<table border=\"1\" class=\"dataframe\">\n",
              "  <thead>\n",
              "    <tr style=\"text-align: right;\">\n",
              "      <th></th>\n",
              "      <th>exited</th>\n",
              "    </tr>\n",
              "  </thead>\n",
              "  <tbody>\n",
              "    <tr>\n",
              "      <th>0</th>\n",
              "      <td>7963</td>\n",
              "    </tr>\n",
              "    <tr>\n",
              "      <th>1</th>\n",
              "      <td>2037</td>\n",
              "    </tr>\n",
              "  </tbody>\n",
              "</table>\n",
              "</div>"
            ],
            "text/plain": [
              "   exited\n",
              "0    7963\n",
              "1    2037"
            ]
          },
          "metadata": {
            "tags": []
          },
          "execution_count": 11
        }
      ]
    },
    {
      "cell_type": "code",
      "metadata": {
        "colab": {
          "base_uri": "https://localhost:8080/"
        },
        "id": "PreN2TYCBlA8",
        "outputId": "fc985481-1723-431e-febf-51f7664bc509"
      },
      "source": [
        "print('Доля положительных меток: {:.2%}'.format(df['exited'].mean()))"
      ],
      "execution_count": 12,
      "outputs": [
        {
          "output_type": "stream",
          "text": [
            "Доля положительных меток: 20.37%\n"
          ],
          "name": "stdout"
        }
      ]
    },
    {
      "cell_type": "markdown",
      "metadata": {
        "id": "ZBEPkvwjBlA9"
      },
      "source": [
        "Наблюдается дисбаланс классов. Будем обучать модель на первоначальных данных, затем попробуем побороться с дисбалансом и обучить еще раз. Посмотрим на результаты в дальнейшем.  \n",
        "\n",
        "Предлагаю посмотреть те NaN признака `tenure`, где целевое значение равно 0"
      ]
    },
    {
      "cell_type": "code",
      "metadata": {
        "colab": {
          "base_uri": "https://localhost:8080/"
        },
        "id": "igONgfjHBlA9",
        "outputId": "3afa8201-60a1-4fbf-c8e7-88f176e65130"
      },
      "source": [
        "df[(df['tenure'].isna() == True) & (df['exited'] == 0)].info()"
      ],
      "execution_count": 13,
      "outputs": [
        {
          "output_type": "stream",
          "text": [
            "<class 'pandas.core.frame.DataFrame'>\n",
            "Int64Index: 726 entries, 48 to 9999\n",
            "Data columns (total 14 columns):\n",
            " #   Column            Non-Null Count  Dtype  \n",
            "---  ------            --------------  -----  \n",
            " 0   row_number        726 non-null    int64  \n",
            " 1   customer_id       726 non-null    int64  \n",
            " 2   surname           726 non-null    object \n",
            " 3   creditscore       726 non-null    int64  \n",
            " 4   geography         726 non-null    object \n",
            " 5   gender            726 non-null    object \n",
            " 6   age               726 non-null    int64  \n",
            " 7   tenure            0 non-null      float64\n",
            " 8   balance           726 non-null    float64\n",
            " 9   num_of_products   726 non-null    int64  \n",
            " 10  has_crcard        726 non-null    int64  \n",
            " 11  isactive_member   726 non-null    int64  \n",
            " 12  estimated_salary  726 non-null    float64\n",
            " 13  exited            726 non-null    int64  \n",
            "dtypes: float64(3), int64(8), object(3)\n",
            "memory usage: 85.1+ KB\n"
          ],
          "name": "stdout"
        }
      ]
    },
    {
      "cell_type": "markdown",
      "metadata": {
        "id": "i0R_IV6tBlA9"
      },
      "source": [
        "Выходит, что в 726 случаях с признаком 0 имеем пропуски в признаке `tenure`"
      ]
    },
    {
      "cell_type": "code",
      "metadata": {
        "colab": {
          "base_uri": "https://localhost:8080/",
          "height": 173
        },
        "id": "h_VFKYaLBlA9",
        "outputId": "3c516206-6213-4a55-92c1-1d63fd3fd516"
      },
      "source": [
        "df[(df['tenure'].isna() == True)]['num_of_products'].value_counts().to_frame()"
      ],
      "execution_count": 14,
      "outputs": [
        {
          "output_type": "execute_result",
          "data": {
            "text/html": [
              "<div>\n",
              "<style scoped>\n",
              "    .dataframe tbody tr th:only-of-type {\n",
              "        vertical-align: middle;\n",
              "    }\n",
              "\n",
              "    .dataframe tbody tr th {\n",
              "        vertical-align: top;\n",
              "    }\n",
              "\n",
              "    .dataframe thead th {\n",
              "        text-align: right;\n",
              "    }\n",
              "</style>\n",
              "<table border=\"1\" class=\"dataframe\">\n",
              "  <thead>\n",
              "    <tr style=\"text-align: right;\">\n",
              "      <th></th>\n",
              "      <th>num_of_products</th>\n",
              "    </tr>\n",
              "  </thead>\n",
              "  <tbody>\n",
              "    <tr>\n",
              "      <th>1</th>\n",
              "      <td>467</td>\n",
              "    </tr>\n",
              "    <tr>\n",
              "      <th>2</th>\n",
              "      <td>406</td>\n",
              "    </tr>\n",
              "    <tr>\n",
              "      <th>3</th>\n",
              "      <td>32</td>\n",
              "    </tr>\n",
              "    <tr>\n",
              "      <th>4</th>\n",
              "      <td>4</td>\n",
              "    </tr>\n",
              "  </tbody>\n",
              "</table>\n",
              "</div>"
            ],
            "text/plain": [
              "   num_of_products\n",
              "1              467\n",
              "2              406\n",
              "3               32\n",
              "4                4"
            ]
          },
          "metadata": {
            "tags": []
          },
          "execution_count": 14
        }
      ]
    },
    {
      "cell_type": "code",
      "metadata": {
        "colab": {
          "base_uri": "https://localhost:8080/"
        },
        "id": "RHuI3xp-BlA9",
        "outputId": "79dd436d-28d1-4050-c966-c654047a069a"
      },
      "source": [
        "df['tenure'].median()"
      ],
      "execution_count": 15,
      "outputs": [
        {
          "output_type": "execute_result",
          "data": {
            "text/plain": [
              "5.0"
            ]
          },
          "metadata": {
            "tags": []
          },
          "execution_count": 15
        }
      ]
    },
    {
      "cell_type": "code",
      "metadata": {
        "colab": {
          "base_uri": "https://localhost:8080/"
        },
        "id": "t-cMeCjsBlA9",
        "outputId": "a6414584-6090-4fa0-dfaa-9bb93dc51554"
      },
      "source": [
        "df['tenure'].value_counts()"
      ],
      "execution_count": 18,
      "outputs": [
        {
          "output_type": "execute_result",
          "data": {
            "text/plain": [
              "1.0     952\n",
              "2.0     950\n",
              "8.0     933\n",
              "3.0     928\n",
              "5.0     927\n",
              "7.0     925\n",
              "4.0     885\n",
              "9.0     882\n",
              "6.0     881\n",
              "10.0    446\n",
              "0.0     382\n",
              "Name: tenure, dtype: int64"
            ]
          },
          "metadata": {
            "tags": []
          },
          "execution_count": 18
        }
      ]
    },
    {
      "cell_type": "markdown",
      "metadata": {
        "id": "RmNwYpWiBlA-"
      },
      "source": [
        "У таких клиентов есть продукты банка, в основном, 1-2, предлагаю заменить пропуски на `0`.  Также есть вариант не трогать, удалить или заменить на медиану.   \n",
        "\n",
        "\n",
        "Уточним у коллег причину появления. В данном случае меняем на 0 - предполагаю, что клиенты у банка новые, до года"
      ]
    },
    {
      "cell_type": "code",
      "metadata": {
        "scrolled": true,
        "colab": {
          "base_uri": "https://localhost:8080/"
        },
        "id": "Zu58T3JnBlA-",
        "outputId": "4069a560-e95b-4887-d6c5-cce43275effa"
      },
      "source": [
        "df['tenure'] = df['tenure'].fillna(0).astype('int64')\n",
        "df.info()"
      ],
      "execution_count": 21,
      "outputs": [
        {
          "output_type": "stream",
          "text": [
            "<class 'pandas.core.frame.DataFrame'>\n",
            "RangeIndex: 10000 entries, 0 to 9999\n",
            "Data columns (total 14 columns):\n",
            " #   Column            Non-Null Count  Dtype  \n",
            "---  ------            --------------  -----  \n",
            " 0   row_number        10000 non-null  int64  \n",
            " 1   customer_id       10000 non-null  int64  \n",
            " 2   surname           10000 non-null  object \n",
            " 3   creditscore       10000 non-null  int64  \n",
            " 4   geography         10000 non-null  object \n",
            " 5   gender            10000 non-null  object \n",
            " 6   age               10000 non-null  int64  \n",
            " 7   tenure            10000 non-null  int64  \n",
            " 8   balance           10000 non-null  float64\n",
            " 9   num_of_products   10000 non-null  int64  \n",
            " 10  has_crcard        10000 non-null  int64  \n",
            " 11  isactive_member   10000 non-null  int64  \n",
            " 12  estimated_salary  10000 non-null  float64\n",
            " 13  exited            10000 non-null  int64  \n",
            "dtypes: float64(2), int64(9), object(3)\n",
            "memory usage: 1.1+ MB\n"
          ],
          "name": "stdout"
        }
      ]
    },
    {
      "cell_type": "markdown",
      "metadata": {
        "id": "RD3CMC7-BlA-"
      },
      "source": [
        "Пропуски убрали, привели признак `tenure` к целочисленному"
      ]
    },
    {
      "cell_type": "code",
      "metadata": {
        "colab": {
          "base_uri": "https://localhost:8080/"
        },
        "id": "0yELx9dOBlA-",
        "outputId": "58e844f9-9d6e-4853-a155-20fdc426084d"
      },
      "source": [
        "df['tenure'].value_counts()"
      ],
      "execution_count": 22,
      "outputs": [
        {
          "output_type": "execute_result",
          "data": {
            "text/plain": [
              "0     1291\n",
              "1      952\n",
              "2      950\n",
              "8      933\n",
              "3      928\n",
              "5      927\n",
              "7      925\n",
              "4      885\n",
              "9      882\n",
              "6      881\n",
              "10     446\n",
              "Name: tenure, dtype: int64"
            ]
          },
          "metadata": {
            "tags": []
          },
          "execution_count": 22
        }
      ]
    },
    {
      "cell_type": "code",
      "metadata": {
        "colab": {
          "base_uri": "https://localhost:8080/",
          "height": 879
        },
        "id": "wKK_U3eQBlA-",
        "outputId": "58f8477f-6fc9-4897-e3e5-67fa34601e5a"
      },
      "source": [
        "df.hist(bins=50, figsize=(20,15), edgecolor='black', linewidth=2)\n",
        "plt.show()"
      ],
      "execution_count": 23,
      "outputs": [
        {
          "output_type": "display_data",
          "data": {
            "image/png": "[encoded data removed]",
            "text/plain": [
              "<Figure size 1440x1080 with 12 Axes>"
            ]
          },
          "metadata": {
            "tags": []
          }
        }
      ]
    },
    {
      "cell_type": "markdown",
      "metadata": {
        "id": "MKlrjmmfBlA_"
      },
      "source": [
        "В процессе формирования признаков для нашей модели - можно будет удалить три столбца - `customer_id`, `row_number` и `surname`, который не несут полезной нагрузки в нашем случае"
      ]
    },
    {
      "cell_type": "code",
      "metadata": {
        "colab": {
          "base_uri": "https://localhost:8080/"
        },
        "id": "3PTGOQpyBlA_",
        "outputId": "efa4e78d-ca4b-4f56-d2fa-6f6867e6ec2e"
      },
      "source": [
        "df.duplicated().sum()"
      ],
      "execution_count": 32,
      "outputs": [
        {
          "output_type": "execute_result",
          "data": {
            "text/plain": [
              "0"
            ]
          },
          "metadata": {
            "tags": []
          },
          "execution_count": 32
        }
      ]
    },
    {
      "cell_type": "markdown",
      "metadata": {
        "id": "rMgN_6hRBlA_"
      },
      "source": [
        "### Вывод"
      ]
    },
    {
      "cell_type": "markdown",
      "metadata": {
        "id": "4HG_yiTPBlA_"
      },
      "source": [
        "Отток клиентов – это потеря клиентов, выраженное в отсутствии покупок или платежей в течение определенного периода времени. Показатель оттока крайне важен для компаний с подписной и транзакционной моделью бизнеса, подразумевающих регулярные платежи в сторону компании. \n",
        "\n",
        "Мы предварительно рассмотрели наш сет данных:\n",
        "\n",
        "- пропусков обнаружены в одном столбце `tenure` - заменили на 0, необходимо уточнить причину появления\n",
        "- дубликатов не обнаружено, удалять строки не требуется\n",
        "- в процессе подготовки признаков для анализа - удалим столбцы `customer_id`, `row_number` и `surname`\n",
        "\n",
        "\n",
        "Можем приступать к подготовке признаков"
      ]
    },
    {
      "cell_type": "markdown",
      "metadata": {
        "id": "pq_wzUotBlA_"
      },
      "source": [
        "## Исследование задачи"
      ]
    },
    {
      "cell_type": "markdown",
      "metadata": {
        "id": "h_j_B6A1BlA_"
      },
      "source": [
        "Перед нами стоит задача классификации - необходимо определить - уйдет клиент в ближайшее время или нет. Таким образом, для достижения целей данной задачи предлагаю использовать алгоритмы Логистической регрессии, Случайного леса и Catboost. \n",
        "\n",
        "Для оценки моделей будем использовать F1 меру (`F1 score`)\n",
        "\n",
        "Для оценки итоговой модели используем ROC кривую с ее площадью (`ROC-AUC`).  \n",
        "\n",
        "Как мы выяснили, у нас наблюдается дисбаланс классов, правильность (accuracy) нам не подходит."
      ]
    },
    {
      "cell_type": "markdown",
      "metadata": {
        "id": "-jTMmUmRBlA_"
      },
      "source": [
        "### Подготовка признаков"
      ]
    },
    {
      "cell_type": "code",
      "metadata": {
        "colab": {
          "base_uri": "https://localhost:8080/",
          "height": 224
        },
        "id": "PrCfq7gDBlA_",
        "outputId": "7d26fc2c-8fc1-4a4b-aa81-1ed13a343b68"
      },
      "source": [
        "df.head()"
      ],
      "execution_count": 33,
      "outputs": [
        {
          "output_type": "execute_result",
          "data": {
            "text/html": [
              "<div>\n",
              "<style scoped>\n",
              "    .dataframe tbody tr th:only-of-type {\n",
              "        vertical-align: middle;\n",
              "    }\n",
              "\n",
              "    .dataframe tbody tr th {\n",
              "        vertical-align: top;\n",
              "    }\n",
              "\n",
              "    .dataframe thead th {\n",
              "        text-align: right;\n",
              "    }\n",
              "</style>\n",
              "<table border=\"1\" class=\"dataframe\">\n",
              "  <thead>\n",
              "    <tr style=\"text-align: right;\">\n",
              "      <th></th>\n",
              "      <th>row_number</th>\n",
              "      <th>customer_id</th>\n",
              "      <th>surname</th>\n",
              "      <th>creditscore</th>\n",
              "      <th>geography</th>\n",
              "      <th>gender</th>\n",
              "      <th>age</th>\n",
              "      <th>tenure</th>\n",
              "      <th>balance</th>\n",
              "      <th>num_of_products</th>\n",
              "      <th>has_crcard</th>\n",
              "      <th>isactive_member</th>\n",
              "      <th>estimated_salary</th>\n",
              "      <th>exited</th>\n",
              "    </tr>\n",
              "  </thead>\n",
              "  <tbody>\n",
              "    <tr>\n",
              "      <th>0</th>\n",
              "      <td>1</td>\n",
              "      <td>15634602</td>\n",
              "      <td>Hargrave</td>\n",
              "      <td>619</td>\n",
              "      <td>France</td>\n",
              "      <td>Female</td>\n",
              "      <td>42</td>\n",
              "      <td>2</td>\n",
              "      <td>0.00</td>\n",
              "      <td>1</td>\n",
              "      <td>1</td>\n",
              "      <td>1</td>\n",
              "      <td>101348.88</td>\n",
              "      <td>1</td>\n",
              "    </tr>\n",
              "    <tr>\n",
              "      <th>1</th>\n",
              "      <td>2</td>\n",
              "      <td>15647311</td>\n",
              "      <td>Hill</td>\n",
              "      <td>608</td>\n",
              "      <td>Spain</td>\n",
              "      <td>Female</td>\n",
              "      <td>41</td>\n",
              "      <td>1</td>\n",
              "      <td>83807.86</td>\n",
              "      <td>1</td>\n",
              "      <td>0</td>\n",
              "      <td>1</td>\n",
              "      <td>112542.58</td>\n",
              "      <td>0</td>\n",
              "    </tr>\n",
              "    <tr>\n",
              "      <th>2</th>\n",
              "      <td>3</td>\n",
              "      <td>15619304</td>\n",
              "      <td>Onio</td>\n",
              "      <td>502</td>\n",
              "      <td>France</td>\n",
              "      <td>Female</td>\n",
              "      <td>42</td>\n",
              "      <td>8</td>\n",
              "      <td>159660.80</td>\n",
              "      <td>3</td>\n",
              "      <td>1</td>\n",
              "      <td>0</td>\n",
              "      <td>113931.57</td>\n",
              "      <td>1</td>\n",
              "    </tr>\n",
              "    <tr>\n",
              "      <th>3</th>\n",
              "      <td>4</td>\n",
              "      <td>15701354</td>\n",
              "      <td>Boni</td>\n",
              "      <td>699</td>\n",
              "      <td>France</td>\n",
              "      <td>Female</td>\n",
              "      <td>39</td>\n",
              "      <td>1</td>\n",
              "      <td>0.00</td>\n",
              "      <td>2</td>\n",
              "      <td>0</td>\n",
              "      <td>0</td>\n",
              "      <td>93826.63</td>\n",
              "      <td>0</td>\n",
              "    </tr>\n",
              "    <tr>\n",
              "      <th>4</th>\n",
              "      <td>5</td>\n",
              "      <td>15737888</td>\n",
              "      <td>Mitchell</td>\n",
              "      <td>850</td>\n",
              "      <td>Spain</td>\n",
              "      <td>Female</td>\n",
              "      <td>43</td>\n",
              "      <td>2</td>\n",
              "      <td>125510.82</td>\n",
              "      <td>1</td>\n",
              "      <td>1</td>\n",
              "      <td>1</td>\n",
              "      <td>79084.10</td>\n",
              "      <td>0</td>\n",
              "    </tr>\n",
              "  </tbody>\n",
              "</table>\n",
              "</div>"
            ],
            "text/plain": [
              "   row_number  customer_id   surname  ...  isactive_member estimated_salary exited\n",
              "0           1     15634602  Hargrave  ...                1        101348.88      1\n",
              "1           2     15647311      Hill  ...                1        112542.58      0\n",
              "2           3     15619304      Onio  ...                0        113931.57      1\n",
              "3           4     15701354      Boni  ...                0         93826.63      0\n",
              "4           5     15737888  Mitchell  ...                1         79084.10      0\n",
              "\n",
              "[5 rows x 14 columns]"
            ]
          },
          "metadata": {
            "tags": []
          },
          "execution_count": 33
        }
      ]
    },
    {
      "cell_type": "markdown",
      "metadata": {
        "id": "RiSx5KcnBlBA"
      },
      "source": [
        "Удалим ненужные признаки и сформируем новый дата сет, чтобы не перезаписывать переменные"
      ]
    },
    {
      "cell_type": "code",
      "metadata": {
        "scrolled": true,
        "colab": {
          "base_uri": "https://localhost:8080/",
          "height": 204
        },
        "id": "R3VVgmExBlBA",
        "outputId": "d3c81604-4d98-473e-b4e8-6c915bd90523"
      },
      "source": [
        "data = df.drop(['row_number', 'customer_id', 'surname'], axis=1).copy()\n",
        "data.head()"
      ],
      "execution_count": 34,
      "outputs": [
        {
          "output_type": "execute_result",
          "data": {
            "text/html": [
              "<div>\n",
              "<style scoped>\n",
              "    .dataframe tbody tr th:only-of-type {\n",
              "        vertical-align: middle;\n",
              "    }\n",
              "\n",
              "    .dataframe tbody tr th {\n",
              "        vertical-align: top;\n",
              "    }\n",
              "\n",
              "    .dataframe thead th {\n",
              "        text-align: right;\n",
              "    }\n",
              "</style>\n",
              "<table border=\"1\" class=\"dataframe\">\n",
              "  <thead>\n",
              "    <tr style=\"text-align: right;\">\n",
              "      <th></th>\n",
              "      <th>creditscore</th>\n",
              "      <th>geography</th>\n",
              "      <th>gender</th>\n",
              "      <th>age</th>\n",
              "      <th>tenure</th>\n",
              "      <th>balance</th>\n",
              "      <th>num_of_products</th>\n",
              "      <th>has_crcard</th>\n",
              "      <th>isactive_member</th>\n",
              "      <th>estimated_salary</th>\n",
              "      <th>exited</th>\n",
              "    </tr>\n",
              "  </thead>\n",
              "  <tbody>\n",
              "    <tr>\n",
              "      <th>0</th>\n",
              "      <td>619</td>\n",
              "      <td>France</td>\n",
              "      <td>Female</td>\n",
              "      <td>42</td>\n",
              "      <td>2</td>\n",
              "      <td>0.00</td>\n",
              "      <td>1</td>\n",
              "      <td>1</td>\n",
              "      <td>1</td>\n",
              "      <td>101348.88</td>\n",
              "      <td>1</td>\n",
              "    </tr>\n",
              "    <tr>\n",
              "      <th>1</th>\n",
              "      <td>608</td>\n",
              "      <td>Spain</td>\n",
              "      <td>Female</td>\n",
              "      <td>41</td>\n",
              "      <td>1</td>\n",
              "      <td>83807.86</td>\n",
              "      <td>1</td>\n",
              "      <td>0</td>\n",
              "      <td>1</td>\n",
              "      <td>112542.58</td>\n",
              "      <td>0</td>\n",
              "    </tr>\n",
              "    <tr>\n",
              "      <th>2</th>\n",
              "      <td>502</td>\n",
              "      <td>France</td>\n",
              "      <td>Female</td>\n",
              "      <td>42</td>\n",
              "      <td>8</td>\n",
              "      <td>159660.80</td>\n",
              "      <td>3</td>\n",
              "      <td>1</td>\n",
              "      <td>0</td>\n",
              "      <td>113931.57</td>\n",
              "      <td>1</td>\n",
              "    </tr>\n",
              "    <tr>\n",
              "      <th>3</th>\n",
              "      <td>699</td>\n",
              "      <td>France</td>\n",
              "      <td>Female</td>\n",
              "      <td>39</td>\n",
              "      <td>1</td>\n",
              "      <td>0.00</td>\n",
              "      <td>2</td>\n",
              "      <td>0</td>\n",
              "      <td>0</td>\n",
              "      <td>93826.63</td>\n",
              "      <td>0</td>\n",
              "    </tr>\n",
              "    <tr>\n",
              "      <th>4</th>\n",
              "      <td>850</td>\n",
              "      <td>Spain</td>\n",
              "      <td>Female</td>\n",
              "      <td>43</td>\n",
              "      <td>2</td>\n",
              "      <td>125510.82</td>\n",
              "      <td>1</td>\n",
              "      <td>1</td>\n",
              "      <td>1</td>\n",
              "      <td>79084.10</td>\n",
              "      <td>0</td>\n",
              "    </tr>\n",
              "  </tbody>\n",
              "</table>\n",
              "</div>"
            ],
            "text/plain": [
              "   creditscore geography  gender  ...  isactive_member  estimated_salary  exited\n",
              "0          619    France  Female  ...                1         101348.88       1\n",
              "1          608     Spain  Female  ...                1         112542.58       0\n",
              "2          502    France  Female  ...                0         113931.57       1\n",
              "3          699    France  Female  ...                0          93826.63       0\n",
              "4          850     Spain  Female  ...                1          79084.10       0\n",
              "\n",
              "[5 rows x 11 columns]"
            ]
          },
          "metadata": {
            "tags": []
          },
          "execution_count": 34
        }
      ]
    },
    {
      "cell_type": "markdown",
      "metadata": {
        "id": "TWU1FKZjBlBA"
      },
      "source": [
        "### One-hot Encoding"
      ]
    },
    {
      "cell_type": "markdown",
      "metadata": {
        "id": "V5InfGiWBlBA"
      },
      "source": [
        "Категориальные признаки `geography` и `gender` необходимо преобразовать в численные с помощью техники прямого кодирования, или отображения (англ. One-Hot Encoding, OHE). Нам нужны количественные признаки для большей точности. Для того, чтобы не "
      ]
    },
    {
      "cell_type": "code",
      "metadata": {
        "colab": {
          "base_uri": "https://localhost:8080/"
        },
        "id": "hNyfwGfbBlBA",
        "outputId": "925b052c-b48b-4a19-df57-a209954568f8"
      },
      "source": [
        "data['geography'].value_counts()"
      ],
      "execution_count": 35,
      "outputs": [
        {
          "output_type": "execute_result",
          "data": {
            "text/plain": [
              "France     5014\n",
              "Germany    2509\n",
              "Spain      2477\n",
              "Name: geography, dtype: int64"
            ]
          },
          "metadata": {
            "tags": []
          },
          "execution_count": 35
        }
      ]
    },
    {
      "cell_type": "code",
      "metadata": {
        "colab": {
          "base_uri": "https://localhost:8080/"
        },
        "id": "I5mGLzdRBlBA",
        "outputId": "f068db67-b6b3-49ad-8597-3527696b4463"
      },
      "source": [
        "data['gender'].value_counts()"
      ],
      "execution_count": 36,
      "outputs": [
        {
          "output_type": "execute_result",
          "data": {
            "text/plain": [
              "Male      5457\n",
              "Female    4543\n",
              "Name: gender, dtype: int64"
            ]
          },
          "metadata": {
            "tags": []
          },
          "execution_count": 36
        }
      ]
    },
    {
      "cell_type": "code",
      "metadata": {
        "colab": {
          "base_uri": "https://localhost:8080/",
          "height": 204
        },
        "id": "cGP-z9YVBlBB",
        "outputId": "fe8b83b6-9cdb-4c88-e0a5-b7a3e0056e61"
      },
      "source": [
        "# проведем кодирования двух признаков\n",
        "gender_ohe = pd.get_dummies(df[\"gender\"], drop_first=True)\n",
        "country_ohe = pd.get_dummies(df[\"geography\"], drop_first=True)\n",
        "\n",
        "#удалим категориальные признаки\n",
        "data.drop([\"gender\", \"geography\"], axis=1, inplace=True)\n",
        "\n",
        "#объединим новые столбцы\n",
        "df_ohe = pd.concat([data, gender_ohe, country_ohe], axis=1)\n",
        "\n",
        "df_ohe.head()"
      ],
      "execution_count": 37,
      "outputs": [
        {
          "output_type": "execute_result",
          "data": {
            "text/html": [
              "<div>\n",
              "<style scoped>\n",
              "    .dataframe tbody tr th:only-of-type {\n",
              "        vertical-align: middle;\n",
              "    }\n",
              "\n",
              "    .dataframe tbody tr th {\n",
              "        vertical-align: top;\n",
              "    }\n",
              "\n",
              "    .dataframe thead th {\n",
              "        text-align: right;\n",
              "    }\n",
              "</style>\n",
              "<table border=\"1\" class=\"dataframe\">\n",
              "  <thead>\n",
              "    <tr style=\"text-align: right;\">\n",
              "      <th></th>\n",
              "      <th>creditscore</th>\n",
              "      <th>age</th>\n",
              "      <th>tenure</th>\n",
              "      <th>balance</th>\n",
              "      <th>num_of_products</th>\n",
              "      <th>has_crcard</th>\n",
              "      <th>isactive_member</th>\n",
              "      <th>estimated_salary</th>\n",
              "      <th>exited</th>\n",
              "      <th>Male</th>\n",
              "      <th>Germany</th>\n",
              "      <th>Spain</th>\n",
              "    </tr>\n",
              "  </thead>\n",
              "  <tbody>\n",
              "    <tr>\n",
              "      <th>0</th>\n",
              "      <td>619</td>\n",
              "      <td>42</td>\n",
              "      <td>2</td>\n",
              "      <td>0.00</td>\n",
              "      <td>1</td>\n",
              "      <td>1</td>\n",
              "      <td>1</td>\n",
              "      <td>101348.88</td>\n",
              "      <td>1</td>\n",
              "      <td>0</td>\n",
              "      <td>0</td>\n",
              "      <td>0</td>\n",
              "    </tr>\n",
              "    <tr>\n",
              "      <th>1</th>\n",
              "      <td>608</td>\n",
              "      <td>41</td>\n",
              "      <td>1</td>\n",
              "      <td>83807.86</td>\n",
              "      <td>1</td>\n",
              "      <td>0</td>\n",
              "      <td>1</td>\n",
              "      <td>112542.58</td>\n",
              "      <td>0</td>\n",
              "      <td>0</td>\n",
              "      <td>0</td>\n",
              "      <td>1</td>\n",
              "    </tr>\n",
              "    <tr>\n",
              "      <th>2</th>\n",
              "      <td>502</td>\n",
              "      <td>42</td>\n",
              "      <td>8</td>\n",
              "      <td>159660.80</td>\n",
              "      <td>3</td>\n",
              "      <td>1</td>\n",
              "      <td>0</td>\n",
              "      <td>113931.57</td>\n",
              "      <td>1</td>\n",
              "      <td>0</td>\n",
              "      <td>0</td>\n",
              "      <td>0</td>\n",
              "    </tr>\n",
              "    <tr>\n",
              "      <th>3</th>\n",
              "      <td>699</td>\n",
              "      <td>39</td>\n",
              "      <td>1</td>\n",
              "      <td>0.00</td>\n",
              "      <td>2</td>\n",
              "      <td>0</td>\n",
              "      <td>0</td>\n",
              "      <td>93826.63</td>\n",
              "      <td>0</td>\n",
              "      <td>0</td>\n",
              "      <td>0</td>\n",
              "      <td>0</td>\n",
              "    </tr>\n",
              "    <tr>\n",
              "      <th>4</th>\n",
              "      <td>850</td>\n",
              "      <td>43</td>\n",
              "      <td>2</td>\n",
              "      <td>125510.82</td>\n",
              "      <td>1</td>\n",
              "      <td>1</td>\n",
              "      <td>1</td>\n",
              "      <td>79084.10</td>\n",
              "      <td>0</td>\n",
              "      <td>0</td>\n",
              "      <td>0</td>\n",
              "      <td>1</td>\n",
              "    </tr>\n",
              "  </tbody>\n",
              "</table>\n",
              "</div>"
            ],
            "text/plain": [
              "   creditscore  age  tenure    balance  ...  exited  Male  Germany  Spain\n",
              "0          619   42       2       0.00  ...       1     0        0      0\n",
              "1          608   41       1   83807.86  ...       0     0        0      1\n",
              "2          502   42       8  159660.80  ...       1     0        0      0\n",
              "3          699   39       1       0.00  ...       0     0        0      0\n",
              "4          850   43       2  125510.82  ...       0     0        0      1\n",
              "\n",
              "[5 rows x 12 columns]"
            ]
          },
          "metadata": {
            "tags": []
          },
          "execution_count": 37
        }
      ]
    },
    {
      "cell_type": "code",
      "metadata": {
        "colab": {
          "base_uri": "https://localhost:8080/"
        },
        "id": "cnR8yFlMBlBB",
        "outputId": "d547b7b8-dcd4-4ad2-efbc-80884e6734da"
      },
      "source": [
        "df_ohe.info()"
      ],
      "execution_count": 38,
      "outputs": [
        {
          "output_type": "stream",
          "text": [
            "<class 'pandas.core.frame.DataFrame'>\n",
            "RangeIndex: 10000 entries, 0 to 9999\n",
            "Data columns (total 12 columns):\n",
            " #   Column            Non-Null Count  Dtype  \n",
            "---  ------            --------------  -----  \n",
            " 0   creditscore       10000 non-null  int64  \n",
            " 1   age               10000 non-null  int64  \n",
            " 2   tenure            10000 non-null  int64  \n",
            " 3   balance           10000 non-null  float64\n",
            " 4   num_of_products   10000 non-null  int64  \n",
            " 5   has_crcard        10000 non-null  int64  \n",
            " 6   isactive_member   10000 non-null  int64  \n",
            " 7   estimated_salary  10000 non-null  float64\n",
            " 8   exited            10000 non-null  int64  \n",
            " 9   Male              10000 non-null  uint8  \n",
            " 10  Germany           10000 non-null  uint8  \n",
            " 11  Spain             10000 non-null  uint8  \n",
            "dtypes: float64(2), int64(7), uint8(3)\n",
            "memory usage: 732.5 KB\n"
          ],
          "name": "stdout"
        }
      ]
    },
    {
      "cell_type": "markdown",
      "metadata": {
        "id": "XhN2fYiQBlBB"
      },
      "source": [
        "Столбцы закодировали, удалили лишние. Необходимо также стандартизировать признаки, так как количественные значения сильно разнятся. Стандартизацию не будем применять к стобцам `tenure`, `num_of_products`, `has_crcard`, `isactive_member` и к целему с преобразованными категориальными"
      ]
    },
    {
      "cell_type": "markdown",
      "metadata": {
        "id": "61LYvcO8BlBC"
      },
      "source": [
        "### Разделение выборки"
      ]
    },
    {
      "cell_type": "markdown",
      "metadata": {
        "id": "4KTQHZhKBlBC"
      },
      "source": [
        "Мы подготовили признаки. Теперь разделим наши выборки на обучающую, валидационную для подбора гиперпараметров и тестовую, на которой мы проверим нашу модель. Тестовую выборку до конца трогать не будем, на ней отработаем лучшую модель"
      ]
    },
    {
      "cell_type": "code",
      "metadata": {
        "id": "Lmvvec2NBlBC"
      },
      "source": [
        "def split_data(data, target_column):\n",
        "    return data.drop(columns=[target_column], axis=1), data[target_column]"
      ],
      "execution_count": 39,
      "outputs": []
    },
    {
      "cell_type": "code",
      "metadata": {
        "id": "Ri8aprjfBlBC"
      },
      "source": [
        "features, target = split_data(df_ohe,'exited')"
      ],
      "execution_count": 40,
      "outputs": []
    },
    {
      "cell_type": "markdown",
      "metadata": {
        "id": "RYQH87RSBlBC"
      },
      "source": [
        "Для начала получим валидационную выборку 20% и оставшиеся 80% разделим еще раз для получения тестовой выборки. Обучение будем проводить на 60% данных"
      ]
    },
    {
      "cell_type": "code",
      "metadata": {
        "id": "zyHYCfj_BlBC"
      },
      "source": [
        "features_df, features_valid, target_df, target_valid = ( \n",
        "                                train_test_split(\n",
        "                                features, target, test_size=0.20, random_state=42)\n",
        ")\n"
      ],
      "execution_count": 41,
      "outputs": []
    },
    {
      "cell_type": "code",
      "metadata": {
        "id": "AkbZkLFjBlBC"
      },
      "source": [
        "features_train, features_test, target_train, target_test = ( \n",
        "                                train_test_split(\n",
        "                                features_df, target_df, test_size=0.25, random_state=42)\n",
        ")\n"
      ],
      "execution_count": 42,
      "outputs": []
    },
    {
      "cell_type": "code",
      "metadata": {
        "colab": {
          "base_uri": "https://localhost:8080/"
        },
        "id": "gfADQLbiBlBC",
        "outputId": "3a930bf5-ed7e-4c03-a9ff-d7647a3615ff"
      },
      "source": [
        "print('Количество образцов обучающей выборки:', len(features_train))\n",
        "print('Количество образцов валидационной выборки:', len(features_valid))\n",
        "print('Количество образцов тестовой выборки:', len(features_test))\n",
        "print('Сумма выборок:', len(features_train) + len(features_test) + len(features_test))\n",
        "print()\n",
        "print('Количество образцов подготовленной выборки (контрольная сумма):', len(df_ohe))"
      ],
      "execution_count": 43,
      "outputs": [
        {
          "output_type": "stream",
          "text": [
            "Количество образцов обучающей выборки: 6000\n",
            "Количество образцов валидационной выборки: 2000\n",
            "Количество образцов тестовой выборки: 2000\n",
            "Сумма выборок: 10000\n",
            "\n",
            "Количество образцов подготовленной выборки (контрольная сумма): 10000\n"
          ],
          "name": "stdout"
        }
      ]
    },
    {
      "cell_type": "markdown",
      "metadata": {
        "id": "wQGJCY-JBlBD"
      },
      "source": [
        "Выборку разделили, можем переходить к пробному обучению моделей. В нашей задаче наблюдается сильный дисбаланс классов (англ. class imbalance), что плохо сказывается на обучении модели. Посмотрим на результаты, оценивать модели будем по F1 мере - она является хорошим кандидатом на формальную метрику оценки качества классификатора. Она сводит к одному числу две других основополагающих метрики: точность и полноту (`precision` и `recall`)"
      ]
    },
    {
      "cell_type": "markdown",
      "metadata": {
        "id": "jZ-7XE2ADbFH"
      },
      "source": [
        "### Масштабирование"
      ]
    },
    {
      "cell_type": "markdown",
      "metadata": {
        "id": "kF-NoHuzDSIQ"
      },
      "source": [
        "Масштабировать признаки на всем датасете может привести к утечке данных (data leak). Обучать scaler нужно только на трейне.  \n",
        "\n",
        "Обучим и после применим на наши выборки"
      ]
    },
    {
      "cell_type": "code",
      "metadata": {
        "scrolled": true,
        "colab": {
          "base_uri": "https://localhost:8080/",
          "height": 204
        },
        "id": "5fMSRArQDSId",
        "outputId": "e846169d-3689-428c-9b28-f7acf1c9c0bd"
      },
      "source": [
        "numeric = ['creditscore', 'age', 'balance', 'estimated_salary']\n",
        "scaler = StandardScaler()\n",
        "scaler.fit(features_train[numeric])\n",
        "pd.options.mode.chained_assignment = None\n",
        "features_train[numeric] = scaler.transform(features_train[numeric])\n",
        "features_train.head()"
      ],
      "execution_count": 44,
      "outputs": [
        {
          "output_type": "execute_result",
          "data": {
            "text/html": [
              "<div>\n",
              "<style scoped>\n",
              "    .dataframe tbody tr th:only-of-type {\n",
              "        vertical-align: middle;\n",
              "    }\n",
              "\n",
              "    .dataframe tbody tr th {\n",
              "        vertical-align: top;\n",
              "    }\n",
              "\n",
              "    .dataframe thead th {\n",
              "        text-align: right;\n",
              "    }\n",
              "</style>\n",
              "<table border=\"1\" class=\"dataframe\">\n",
              "  <thead>\n",
              "    <tr style=\"text-align: right;\">\n",
              "      <th></th>\n",
              "      <th>creditscore</th>\n",
              "      <th>age</th>\n",
              "      <th>tenure</th>\n",
              "      <th>balance</th>\n",
              "      <th>num_of_products</th>\n",
              "      <th>has_crcard</th>\n",
              "      <th>isactive_member</th>\n",
              "      <th>estimated_salary</th>\n",
              "      <th>Male</th>\n",
              "      <th>Germany</th>\n",
              "      <th>Spain</th>\n",
              "    </tr>\n",
              "  </thead>\n",
              "  <tbody>\n",
              "    <tr>\n",
              "      <th>8588</th>\n",
              "      <td>0.626553</td>\n",
              "      <td>-0.948125</td>\n",
              "      <td>7</td>\n",
              "      <td>0.026803</td>\n",
              "      <td>1</td>\n",
              "      <td>1</td>\n",
              "      <td>0</td>\n",
              "      <td>0.389943</td>\n",
              "      <td>0</td>\n",
              "      <td>0</td>\n",
              "      <td>1</td>\n",
              "    </tr>\n",
              "    <tr>\n",
              "      <th>3178</th>\n",
              "      <td>-1.143262</td>\n",
              "      <td>0.006684</td>\n",
              "      <td>4</td>\n",
              "      <td>0.538874</td>\n",
              "      <td>2</td>\n",
              "      <td>1</td>\n",
              "      <td>1</td>\n",
              "      <td>-1.026089</td>\n",
              "      <td>0</td>\n",
              "      <td>0</td>\n",
              "      <td>0</td>\n",
              "    </tr>\n",
              "    <tr>\n",
              "      <th>5200</th>\n",
              "      <td>-1.455583</td>\n",
              "      <td>0.293126</td>\n",
              "      <td>9</td>\n",
              "      <td>0.283178</td>\n",
              "      <td>2</td>\n",
              "      <td>1</td>\n",
              "      <td>0</td>\n",
              "      <td>-1.486725</td>\n",
              "      <td>1</td>\n",
              "      <td>1</td>\n",
              "      <td>0</td>\n",
              "    </tr>\n",
              "    <tr>\n",
              "      <th>8889</th>\n",
              "      <td>-0.747657</td>\n",
              "      <td>0.006684</td>\n",
              "      <td>9</td>\n",
              "      <td>0.833254</td>\n",
              "      <td>1</td>\n",
              "      <td>1</td>\n",
              "      <td>0</td>\n",
              "      <td>-0.246001</td>\n",
              "      <td>0</td>\n",
              "      <td>0</td>\n",
              "      <td>0</td>\n",
              "    </tr>\n",
              "    <tr>\n",
              "      <th>5789</th>\n",
              "      <td>0.387107</td>\n",
              "      <td>1.534377</td>\n",
              "      <td>1</td>\n",
              "      <td>0.000856</td>\n",
              "      <td>1</td>\n",
              "      <td>1</td>\n",
              "      <td>0</td>\n",
              "      <td>-1.006993</td>\n",
              "      <td>0</td>\n",
              "      <td>1</td>\n",
              "      <td>0</td>\n",
              "    </tr>\n",
              "  </tbody>\n",
              "</table>\n",
              "</div>"
            ],
            "text/plain": [
              "      creditscore       age  tenure  ...  Male  Germany  Spain\n",
              "8588     0.626553 -0.948125       7  ...     0        0      1\n",
              "3178    -1.143262  0.006684       4  ...     0        0      0\n",
              "5200    -1.455583  0.293126       9  ...     1        1      0\n",
              "8889    -0.747657  0.006684       9  ...     0        0      0\n",
              "5789     0.387107  1.534377       1  ...     0        1      0\n",
              "\n",
              "[5 rows x 11 columns]"
            ]
          },
          "metadata": {
            "tags": []
          },
          "execution_count": 44
        }
      ]
    },
    {
      "cell_type": "markdown",
      "metadata": {
        "id": "0HKws3zvEJIN"
      },
      "source": [
        "Применим на валидационнуб выборку scaller, обученный на трейне"
      ]
    },
    {
      "cell_type": "code",
      "metadata": {
        "colab": {
          "base_uri": "https://localhost:8080/",
          "height": 204
        },
        "id": "lGf7249TDx_k",
        "outputId": "64f1d6ac-0632-4825-b720-d36d43e2754d"
      },
      "source": [
        "features_valid[numeric] = scaler.transform(features_valid[numeric])\n",
        "features_valid.head()"
      ],
      "execution_count": 45,
      "outputs": [
        {
          "output_type": "execute_result",
          "data": {
            "text/html": [
              "<div>\n",
              "<style scoped>\n",
              "    .dataframe tbody tr th:only-of-type {\n",
              "        vertical-align: middle;\n",
              "    }\n",
              "\n",
              "    .dataframe tbody tr th {\n",
              "        vertical-align: top;\n",
              "    }\n",
              "\n",
              "    .dataframe thead th {\n",
              "        text-align: right;\n",
              "    }\n",
              "</style>\n",
              "<table border=\"1\" class=\"dataframe\">\n",
              "  <thead>\n",
              "    <tr style=\"text-align: right;\">\n",
              "      <th></th>\n",
              "      <th>creditscore</th>\n",
              "      <th>age</th>\n",
              "      <th>tenure</th>\n",
              "      <th>balance</th>\n",
              "      <th>num_of_products</th>\n",
              "      <th>has_crcard</th>\n",
              "      <th>isactive_member</th>\n",
              "      <th>estimated_salary</th>\n",
              "      <th>Male</th>\n",
              "      <th>Germany</th>\n",
              "      <th>Spain</th>\n",
              "    </tr>\n",
              "  </thead>\n",
              "  <tbody>\n",
              "    <tr>\n",
              "      <th>6252</th>\n",
              "      <td>-0.581086</td>\n",
              "      <td>-0.661682</td>\n",
              "      <td>3</td>\n",
              "      <td>0.327195</td>\n",
              "      <td>2</td>\n",
              "      <td>0</td>\n",
              "      <td>0</td>\n",
              "      <td>-1.017034</td>\n",
              "      <td>1</td>\n",
              "      <td>1</td>\n",
              "      <td>0</td>\n",
              "    </tr>\n",
              "    <tr>\n",
              "      <th>4684</th>\n",
              "      <td>-0.299998</td>\n",
              "      <td>0.388607</td>\n",
              "      <td>1</td>\n",
              "      <td>-1.218934</td>\n",
              "      <td>2</td>\n",
              "      <td>1</td>\n",
              "      <td>1</td>\n",
              "      <td>0.805136</td>\n",
              "      <td>1</td>\n",
              "      <td>0</td>\n",
              "      <td>0</td>\n",
              "    </tr>\n",
              "    <tr>\n",
              "      <th>1731</th>\n",
              "      <td>-0.529032</td>\n",
              "      <td>0.484088</td>\n",
              "      <td>4</td>\n",
              "      <td>-1.218934</td>\n",
              "      <td>2</td>\n",
              "      <td>1</td>\n",
              "      <td>0</td>\n",
              "      <td>-0.724818</td>\n",
              "      <td>0</td>\n",
              "      <td>0</td>\n",
              "      <td>1</td>\n",
              "    </tr>\n",
              "    <tr>\n",
              "      <th>4742</th>\n",
              "      <td>-1.518047</td>\n",
              "      <td>1.916301</td>\n",
              "      <td>8</td>\n",
              "      <td>0.686002</td>\n",
              "      <td>2</td>\n",
              "      <td>1</td>\n",
              "      <td>1</td>\n",
              "      <td>1.228495</td>\n",
              "      <td>1</td>\n",
              "      <td>1</td>\n",
              "      <td>0</td>\n",
              "    </tr>\n",
              "    <tr>\n",
              "      <th>4521</th>\n",
              "      <td>-0.955870</td>\n",
              "      <td>-1.139087</td>\n",
              "      <td>7</td>\n",
              "      <td>0.779430</td>\n",
              "      <td>1</td>\n",
              "      <td>1</td>\n",
              "      <td>1</td>\n",
              "      <td>0.252697</td>\n",
              "      <td>0</td>\n",
              "      <td>0</td>\n",
              "      <td>1</td>\n",
              "    </tr>\n",
              "  </tbody>\n",
              "</table>\n",
              "</div>"
            ],
            "text/plain": [
              "      creditscore       age  tenure  ...  Male  Germany  Spain\n",
              "6252    -0.581086 -0.661682       3  ...     1        1      0\n",
              "4684    -0.299998  0.388607       1  ...     1        0      0\n",
              "1731    -0.529032  0.484088       4  ...     0        0      1\n",
              "4742    -1.518047  1.916301       8  ...     1        1      0\n",
              "4521    -0.955870 -1.139087       7  ...     0        0      1\n",
              "\n",
              "[5 rows x 11 columns]"
            ]
          },
          "metadata": {
            "tags": []
          },
          "execution_count": 45
        }
      ]
    },
    {
      "cell_type": "markdown",
      "metadata": {
        "id": "v0JrOGKDETL7"
      },
      "source": [
        "Применим на тестовую выборку scaller, обученный на трейне"
      ]
    },
    {
      "cell_type": "code",
      "metadata": {
        "colab": {
          "base_uri": "https://localhost:8080/",
          "height": 204
        },
        "id": "3sLuclFMD63u",
        "outputId": "9e2ab20c-e9f0-4e29-f37a-826e77d72b05"
      },
      "source": [
        "features_test[numeric] = scaler.transform(features_test[numeric])\n",
        "features_test.head()"
      ],
      "execution_count": 46,
      "outputs": [
        {
          "output_type": "execute_result",
          "data": {
            "text/html": [
              "<div>\n",
              "<style scoped>\n",
              "    .dataframe tbody tr th:only-of-type {\n",
              "        vertical-align: middle;\n",
              "    }\n",
              "\n",
              "    .dataframe tbody tr th {\n",
              "        vertical-align: top;\n",
              "    }\n",
              "\n",
              "    .dataframe thead th {\n",
              "        text-align: right;\n",
              "    }\n",
              "</style>\n",
              "<table border=\"1\" class=\"dataframe\">\n",
              "  <thead>\n",
              "    <tr style=\"text-align: right;\">\n",
              "      <th></th>\n",
              "      <th>creditscore</th>\n",
              "      <th>age</th>\n",
              "      <th>tenure</th>\n",
              "      <th>balance</th>\n",
              "      <th>num_of_products</th>\n",
              "      <th>has_crcard</th>\n",
              "      <th>isactive_member</th>\n",
              "      <th>estimated_salary</th>\n",
              "      <th>Male</th>\n",
              "      <th>Germany</th>\n",
              "      <th>Spain</th>\n",
              "    </tr>\n",
              "  </thead>\n",
              "  <tbody>\n",
              "    <tr>\n",
              "      <th>3188</th>\n",
              "      <td>1.553103</td>\n",
              "      <td>-0.661682</td>\n",
              "      <td>4</td>\n",
              "      <td>-0.017150</td>\n",
              "      <td>1</td>\n",
              "      <td>1</td>\n",
              "      <td>1</td>\n",
              "      <td>-1.084803</td>\n",
              "      <td>0</td>\n",
              "      <td>0</td>\n",
              "      <td>0</td>\n",
              "    </tr>\n",
              "    <tr>\n",
              "      <th>8293</th>\n",
              "      <td>1.188729</td>\n",
              "      <td>-1.043606</td>\n",
              "      <td>4</td>\n",
              "      <td>0.231074</td>\n",
              "      <td>1</td>\n",
              "      <td>0</td>\n",
              "      <td>1</td>\n",
              "      <td>-1.368802</td>\n",
              "      <td>0</td>\n",
              "      <td>1</td>\n",
              "      <td>0</td>\n",
              "    </tr>\n",
              "    <tr>\n",
              "      <th>1710</th>\n",
              "      <td>1.834191</td>\n",
              "      <td>-1.043606</td>\n",
              "      <td>8</td>\n",
              "      <td>0.935642</td>\n",
              "      <td>1</td>\n",
              "      <td>1</td>\n",
              "      <td>0</td>\n",
              "      <td>-0.362538</td>\n",
              "      <td>1</td>\n",
              "      <td>0</td>\n",
              "      <td>1</td>\n",
              "    </tr>\n",
              "    <tr>\n",
              "      <th>7510</th>\n",
              "      <td>1.521871</td>\n",
              "      <td>-0.279759</td>\n",
              "      <td>1</td>\n",
              "      <td>-1.218934</td>\n",
              "      <td>2</td>\n",
              "      <td>1</td>\n",
              "      <td>1</td>\n",
              "      <td>1.025781</td>\n",
              "      <td>1</td>\n",
              "      <td>0</td>\n",
              "      <td>0</td>\n",
              "    </tr>\n",
              "    <tr>\n",
              "      <th>1461</th>\n",
              "      <td>-0.424926</td>\n",
              "      <td>-0.470721</td>\n",
              "      <td>4</td>\n",
              "      <td>-1.218934</td>\n",
              "      <td>2</td>\n",
              "      <td>1</td>\n",
              "      <td>0</td>\n",
              "      <td>1.233214</td>\n",
              "      <td>1</td>\n",
              "      <td>0</td>\n",
              "      <td>1</td>\n",
              "    </tr>\n",
              "  </tbody>\n",
              "</table>\n",
              "</div>"
            ],
            "text/plain": [
              "      creditscore       age  tenure  ...  Male  Germany  Spain\n",
              "3188     1.553103 -0.661682       4  ...     0        0      0\n",
              "8293     1.188729 -1.043606       4  ...     0        1      0\n",
              "1710     1.834191 -1.043606       8  ...     1        0      1\n",
              "7510     1.521871 -0.279759       1  ...     1        0      0\n",
              "1461    -0.424926 -0.470721       4  ...     1        0      1\n",
              "\n",
              "[5 rows x 11 columns]"
            ]
          },
          "metadata": {
            "tags": []
          },
          "execution_count": 46
        }
      ]
    },
    {
      "cell_type": "markdown",
      "metadata": {
        "id": "AdmRuLFJBlBD"
      },
      "source": [
        "### Пробное обучение моделей без учета дисбаланса классов"
      ]
    },
    {
      "cell_type": "markdown",
      "metadata": {
        "id": "KXnZKx0WBlBD"
      },
      "source": [
        "#### Логистическая регрессиия"
      ]
    },
    {
      "cell_type": "markdown",
      "metadata": {
        "id": "HULjf__0BlBD"
      },
      "source": [
        "Начнем с базовой логистической регрессии. Вес классов не указываем"
      ]
    },
    {
      "cell_type": "code",
      "metadata": {
        "colab": {
          "base_uri": "https://localhost:8080/"
        },
        "id": "FbxhaPthBlBD",
        "outputId": "07423177-acd2-4ddb-8484-0d7ec2549d78"
      },
      "source": [
        "model = LogisticRegression(random_state=42, solver='liblinear')\n",
        "model.fit(features_train, target_train)\n",
        "predicted_valid = model.predict(features_valid)\n",
        "print(\"F1:\", f1_score(target_valid, predicted_valid))"
      ],
      "execution_count": 47,
      "outputs": [
        {
          "output_type": "stream",
          "text": [
            "F1: 0.29158878504672897\n"
          ],
          "name": "stdout"
        }
      ]
    },
    {
      "cell_type": "markdown",
      "metadata": {
        "id": "dvCo4YtuBlBD"
      },
      "source": [
        "Достаточно плохой показатель. Попробуем указать `class_weight='balanced'`"
      ]
    },
    {
      "cell_type": "code",
      "metadata": {
        "colab": {
          "base_uri": "https://localhost:8080/"
        },
        "id": "LxMotO4RBlBE",
        "outputId": "d5740f91-44b8-4f82-f3e2-7c41b5772d1c"
      },
      "source": [
        "model = LogisticRegression(random_state=42, solver='liblinear', class_weight='balanced')\n",
        "model.fit(features_train, target_train)\n",
        "predicted_valid = model.predict(features_valid)\n",
        "print(\"F1:\", f1_score(target_valid, predicted_valid))"
      ],
      "execution_count": 48,
      "outputs": [
        {
          "output_type": "stream",
          "text": [
            "F1: 0.5071428571428571\n"
          ],
          "name": "stdout"
        }
      ]
    },
    {
      "cell_type": "markdown",
      "metadata": {
        "id": "KUKGnVAcBlBE"
      },
      "source": [
        "Уже лучше. На данном этапе подбирать гиперпараметры не будем, перейдем к следующему алгоритму"
      ]
    },
    {
      "cell_type": "markdown",
      "metadata": {
        "id": "odBPdiJCBlBE"
      },
      "source": [
        "#### Случайный лес"
      ]
    },
    {
      "cell_type": "code",
      "metadata": {
        "colab": {
          "base_uri": "https://localhost:8080/"
        },
        "id": "Crwx3_GlBlBE",
        "outputId": "5ecda209-dfa2-4178-dc92-4a4e4d111774"
      },
      "source": [
        "model = RandomForestClassifier(random_state=42, n_estimators=10)\n",
        "model.fit(features_train, target_train)\n",
        "predicted_valid = model.predict(features_valid)\n",
        "print(\"F1:\", f1_score(target_valid, predicted_valid))"
      ],
      "execution_count": 49,
      "outputs": [
        {
          "output_type": "stream",
          "text": [
            "F1: 0.5365079365079365\n"
          ],
          "name": "stdout"
        }
      ]
    },
    {
      "cell_type": "markdown",
      "metadata": {
        "id": "LA4JKci-BlBE"
      },
      "source": [
        "Случайный лес лучше справился в условиях дисбаланса классов. Аналогично логистической регресси, попробуем установить параметр `class_weight` "
      ]
    },
    {
      "cell_type": "code",
      "metadata": {
        "colab": {
          "base_uri": "https://localhost:8080/"
        },
        "id": "AGHK87iNBlBE",
        "outputId": "f88e2aba-58b1-4c66-b2f1-156cf166b66f"
      },
      "source": [
        "model = RandomForestClassifier(random_state=42, n_estimators=10, class_weight='balanced')\n",
        "model.fit(features_train, target_train)\n",
        "predicted_valid = model.predict(features_valid)\n",
        "print(\"F1:\", f1_score(target_valid, predicted_valid))"
      ],
      "execution_count": 50,
      "outputs": [
        {
          "output_type": "stream",
          "text": [
            "F1: 0.5048231511254019\n"
          ],
          "name": "stdout"
        }
      ]
    },
    {
      "cell_type": "markdown",
      "metadata": {
        "id": "bR3h35gdBlBE"
      },
      "source": [
        "Показатель ухудшился. также сейчас не будем менять гиперпараметры, вернем к этому после того, как исправим проблему дисбаланса"
      ]
    },
    {
      "cell_type": "markdown",
      "metadata": {
        "id": "hSFDixdQBlBE"
      },
      "source": [
        "#### Catboost"
      ]
    },
    {
      "cell_type": "code",
      "metadata": {
        "colab": {
          "base_uri": "https://localhost:8080/"
        },
        "id": "81EI8qtcBlBF",
        "outputId": "2e8f60bc-3d3d-4a19-bf59-19839949bf30"
      },
      "source": [
        "model = CatBoostClassifier(verbose=100, random_state=42)\n",
        "model.fit(features_train, target_train)\n",
        "predicted_valid = model.predict(features_valid)\n",
        "print(\"F1:\", f1_score(target_valid, predicted_valid))"
      ],
      "execution_count": 51,
      "outputs": [
        {
          "output_type": "stream",
          "text": [
            "Learning rate set to 0.022141\n",
            "0:\tlearn: 0.6745639\ttotal: 52.9ms\tremaining: 52.8s\n",
            "100:\tlearn: 0.3381411\ttotal: 455ms\tremaining: 4.05s\n",
            "200:\tlearn: 0.3134668\ttotal: 860ms\tremaining: 3.42s\n",
            "300:\tlearn: 0.2986541\ttotal: 1.26s\tremaining: 2.94s\n",
            "400:\tlearn: 0.2855135\ttotal: 1.66s\tremaining: 2.48s\n",
            "500:\tlearn: 0.2734870\ttotal: 2.07s\tremaining: 2.06s\n",
            "600:\tlearn: 0.2626296\ttotal: 2.47s\tremaining: 1.64s\n",
            "700:\tlearn: 0.2525554\ttotal: 2.87s\tremaining: 1.23s\n",
            "800:\tlearn: 0.2433984\ttotal: 3.27s\tremaining: 813ms\n",
            "900:\tlearn: 0.2349175\ttotal: 3.68s\tremaining: 404ms\n",
            "999:\tlearn: 0.2266112\ttotal: 4.09s\tremaining: 0us\n",
            "F1: 0.5918057663125948\n"
          ],
          "name": "stdout"
        }
      ]
    },
    {
      "cell_type": "markdown",
      "metadata": {
        "id": "8IML3MLyBlBF"
      },
      "source": [
        "F1 мера достаточно высокая, посмотрим на результаты, после того как подберем гиперпараметры и протестируем модель на тестовой выборке"
      ]
    },
    {
      "cell_type": "markdown",
      "metadata": {
        "id": "GgDLmtP1BlBF"
      },
      "source": [
        "### Вывод"
      ]
    },
    {
      "cell_type": "markdown",
      "metadata": {
        "id": "HDy2Z5vmBlBF"
      },
      "source": [
        "Перед нами стоит задача классификации. Для того, чтобы улучшить результаты прогнозирования и облегчить обучение модели, мы преобразовали данны:\n",
        "\n",
        "- удалили лишние признаки - такие как фамилия, id клиента и номер строки\n",
        "- провели кодирование категорийных переменных\n",
        "- провели масштабирование количетвенных переменных\n",
        "- разделили выборки в соотношении 60%:20%:20% - обучающую, валидационную для подбора гиперпараметров и проверке модели, тестовую - для итоговой проверки модели и проведении оценки\n",
        "\n",
        "Мы попробовали обучить модели на объектах с дисбалансом классов. Теперь попробуем избавится от этой проблемы, подобрать гиперпараметры моделей."
      ]
    },
    {
      "cell_type": "markdown",
      "metadata": {
        "id": "uD-i-lRdBlBF"
      },
      "source": [
        "## Борьба с дисбалансом и улучшение моделей"
      ]
    },
    {
      "cell_type": "markdown",
      "metadata": {
        "id": "eVC3PFMJBlBF"
      },
      "source": [
        "Классы не представлены одинаково в нашей задаче, посмотрим еще раз:"
      ]
    },
    {
      "cell_type": "code",
      "metadata": {
        "colab": {
          "base_uri": "https://localhost:8080/",
          "height": 111
        },
        "id": "his-n0s4BlBF",
        "outputId": "b997de3d-c6cb-432d-8d5d-96d844ab6ff3"
      },
      "source": [
        "df['exited'].value_counts().to_frame()"
      ],
      "execution_count": 52,
      "outputs": [
        {
          "output_type": "execute_result",
          "data": {
            "text/html": [
              "<div>\n",
              "<style scoped>\n",
              "    .dataframe tbody tr th:only-of-type {\n",
              "        vertical-align: middle;\n",
              "    }\n",
              "\n",
              "    .dataframe tbody tr th {\n",
              "        vertical-align: top;\n",
              "    }\n",
              "\n",
              "    .dataframe thead th {\n",
              "        text-align: right;\n",
              "    }\n",
              "</style>\n",
              "<table border=\"1\" class=\"dataframe\">\n",
              "  <thead>\n",
              "    <tr style=\"text-align: right;\">\n",
              "      <th></th>\n",
              "      <th>exited</th>\n",
              "    </tr>\n",
              "  </thead>\n",
              "  <tbody>\n",
              "    <tr>\n",
              "      <th>0</th>\n",
              "      <td>7963</td>\n",
              "    </tr>\n",
              "    <tr>\n",
              "      <th>1</th>\n",
              "      <td>2037</td>\n",
              "    </tr>\n",
              "  </tbody>\n",
              "</table>\n",
              "</div>"
            ],
            "text/plain": [
              "   exited\n",
              "0    7963\n",
              "1    2037"
            ]
          },
          "metadata": {
            "tags": []
          },
          "execution_count": 52
        }
      ]
    },
    {
      "cell_type": "markdown",
      "metadata": {
        "id": "4yx64HseBlBF"
      },
      "source": [
        "Попробуем решить эту проблему, тремя способами. Выберем лучший и на нем будем улучшать нашу модель"
      ]
    },
    {
      "cell_type": "markdown",
      "metadata": {
        "id": "h1Yl5qXbBlBG"
      },
      "source": [
        "### Увеличение выборки upsampling"
      ]
    },
    {
      "cell_type": "markdown",
      "metadata": {
        "id": "x1BdjWZABlBG"
      },
      "source": [
        "Для этого применим функцию, выполняющую следующие преобразования: \n",
        "\n",
        "- разделим обучающую выборку на отрицательные и положительные объекты\n",
        "- скопируем несколько раз положительные объекты\n",
        "- с учётом полученных данных создадим новую обучающую выборку\n",
        "- перемешаем данные"
      ]
    },
    {
      "cell_type": "code",
      "metadata": {
        "colab": {
          "base_uri": "https://localhost:8080/"
        },
        "id": "eHe58QxZBlBG",
        "outputId": "cfa4816e-1e7f-426b-b9e2-3d2e21044b4a"
      },
      "source": [
        "def upsample(features, target, repeat):\n",
        "    \n",
        "    features_zeros = features[target == 0]\n",
        "    features_ones = features[target == 1]\n",
        "    target_zeros = target[target == 0]\n",
        "    target_ones = target[target == 1]\n",
        "    \n",
        "    features_upsampled = pd.concat([features_zeros] + [features_ones] * repeat)\n",
        "    target_upsampled = pd.concat([target_zeros] + [target_ones] * repeat)\n",
        "    \n",
        "    features_upsampled = shuffle(features_upsampled, random_state=12345)\n",
        "    target_upsampled = shuffle(target_upsampled, random_state=12345)\n",
        "    \n",
        "    return features_upsampled, target_upsampled\n",
        "\n",
        "    \n",
        "    \n",
        "features_upsampled, target_upsampled = upsample(features_train, target_train, 5)\n",
        "\n",
        "print(features_upsampled.shape)\n",
        "print(target_upsampled.shape)"
      ],
      "execution_count": 53,
      "outputs": [
        {
          "output_type": "stream",
          "text": [
            "(10924, 11)\n",
            "(10924,)\n"
          ],
          "name": "stdout"
        }
      ]
    },
    {
      "cell_type": "markdown",
      "metadata": {
        "id": "SLkcDntjBlBG"
      },
      "source": [
        "#### Логистическая регрессия"
      ]
    },
    {
      "cell_type": "code",
      "metadata": {
        "colab": {
          "base_uri": "https://localhost:8080/"
        },
        "id": "DNl3pmNPBlBG",
        "outputId": "78832f5a-c82c-4281-b8c1-6e5b88e75be6"
      },
      "source": [
        "model = LogisticRegression(random_state=42, solver='liblinear')\n",
        "model.fit(features_upsampled, target_upsampled)\n",
        "predicted_valid = model.predict(features_valid)\n",
        "print(\"F1:\", f1_score(target_valid, predicted_valid))"
      ],
      "execution_count": 54,
      "outputs": [
        {
          "output_type": "stream",
          "text": [
            "F1: 0.4695121951219512\n"
          ],
          "name": "stdout"
        }
      ]
    },
    {
      "cell_type": "markdown",
      "metadata": {
        "id": "cjA8YqcGBlBG"
      },
      "source": [
        "Наблюдаем некоторое увеличение метрики, близкое к той, что мы получили указав параметр `class_weight`"
      ]
    },
    {
      "cell_type": "markdown",
      "metadata": {
        "id": "tkigeebsBlBG"
      },
      "source": [
        "#### Случайный лес"
      ]
    },
    {
      "cell_type": "code",
      "metadata": {
        "colab": {
          "base_uri": "https://localhost:8080/"
        },
        "id": "Sx0RVnK5BlBG",
        "outputId": "66ace6df-7c3a-4be0-e29d-2325f8e58606"
      },
      "source": [
        "model = RandomForestClassifier(random_state=42, n_estimators=10)\n",
        "model.fit(features_upsampled, target_upsampled)\n",
        "predicted_valid = model.predict(features_valid)\n",
        "print(\"F1:\", f1_score(target_valid, predicted_valid))"
      ],
      "execution_count": 55,
      "outputs": [
        {
          "output_type": "stream",
          "text": [
            "F1: 0.5670816044260027\n"
          ],
          "name": "stdout"
        }
      ]
    },
    {
      "cell_type": "markdown",
      "metadata": {
        "id": "wyASaWyOBlBH"
      },
      "source": [
        "Здесь также наблюдается улучшение"
      ]
    },
    {
      "cell_type": "markdown",
      "metadata": {
        "id": "LHTtRPWmBlBH"
      },
      "source": [
        "#### Catboost"
      ]
    },
    {
      "cell_type": "code",
      "metadata": {
        "colab": {
          "base_uri": "https://localhost:8080/"
        },
        "id": "ZeaRIsNGBlBH",
        "outputId": "1733be5c-0138-4a08-8060-bab8d607b104"
      },
      "source": [
        "model = CatBoostClassifier(verbose=100, random_state=42)\n",
        "model.fit(features_upsampled, target_upsampled)\n",
        "predicted_valid = model.predict(features_valid)\n",
        "print(\"F1:\", f1_score(target_valid, predicted_valid))"
      ],
      "execution_count": 56,
      "outputs": [
        {
          "output_type": "stream",
          "text": [
            "Learning rate set to 0.028597\n",
            "0:\tlearn: 0.6778999\ttotal: 8.95ms\tremaining: 8.94s\n",
            "100:\tlearn: 0.4284140\ttotal: 779ms\tremaining: 6.94s\n",
            "200:\tlearn: 0.3911555\ttotal: 1.54s\tremaining: 6.11s\n",
            "300:\tlearn: 0.3629121\ttotal: 2.29s\tremaining: 5.32s\n",
            "400:\tlearn: 0.3381529\ttotal: 3.03s\tremaining: 4.53s\n",
            "500:\tlearn: 0.3155715\ttotal: 3.8s\tremaining: 3.78s\n",
            "600:\tlearn: 0.2953407\ttotal: 4.54s\tremaining: 3.01s\n",
            "700:\tlearn: 0.2779801\ttotal: 5.28s\tremaining: 2.25s\n",
            "800:\tlearn: 0.2621138\ttotal: 5.99s\tremaining: 1.49s\n",
            "900:\tlearn: 0.2481145\ttotal: 6.73s\tremaining: 739ms\n",
            "999:\tlearn: 0.2350211\ttotal: 7.44s\tremaining: 0us\n",
            "F1: 0.6134185303514377\n"
          ],
          "name": "stdout"
        }
      ]
    },
    {
      "cell_type": "markdown",
      "metadata": {
        "id": "lJyG0lz2BlBH"
      },
      "source": [
        "Catboost снова показывает лучший результат на валидационной выборке  \n",
        "\n",
        "Попробуем другой способ - уменьшение выборки"
      ]
    },
    {
      "cell_type": "markdown",
      "metadata": {
        "id": "M7nnkB6bBlBH"
      },
      "source": [
        "### Уменьшение выборки downsampling"
      ]
    },
    {
      "cell_type": "markdown",
      "metadata": {
        "id": "O9ZynFToBlBH"
      },
      "source": [
        "Для этого применим функцию, выполняющую следующие преобразования: \n",
        "\n",
        "- разделим обучающую выборку на отрицательные и положительные объекты\n",
        "- случайным образом отбросим часть из отрицательных объектов\n",
        "- с учётом полученных данных создадим новую обучающую выборку\n",
        "- перемешаем данные"
      ]
    },
    {
      "cell_type": "code",
      "metadata": {
        "colab": {
          "base_uri": "https://localhost:8080/"
        },
        "id": "J_W6H9mXBlBH",
        "outputId": "6efebdb3-8713-48a9-bc3d-b9b5b6891284"
      },
      "source": [
        "def downsample(features, target, fraction):\n",
        "    features_zeros = features[target == 0]\n",
        "    features_ones = features[target == 1]\n",
        "    target_zeros = target[target == 0]\n",
        "    target_ones = target[target == 1]\n",
        "\n",
        "    features_sample = features_zeros.sample(frac=0.1, random_state=12345)\n",
        "    target_sample = target_zeros.sample(frac=0.1, random_state=12345)\n",
        "    \n",
        "    features_downsampled = pd.concat([features_sample] + [features_ones])\n",
        "    target_downsampled = pd.concat([target_sample] + [target_ones])\n",
        "    \n",
        "    features_downsampled = shuffle(features_downsampled, random_state=12345)\n",
        "    target_downsampled = shuffle(target_downsampled, random_state=12345)\n",
        "    \n",
        "\n",
        "    \n",
        "    return features_downsampled, target_downsampled\n",
        "\n",
        "features_downsampled, target_downsampled = downsample(features_train, target_train, 0.1)\n",
        "\n",
        "print(features_downsampled.shape)\n",
        "print(target_downsampled.shape)"
      ],
      "execution_count": 57,
      "outputs": [
        {
          "output_type": "stream",
          "text": [
            "(1708, 11)\n",
            "(1708,)\n"
          ],
          "name": "stdout"
        }
      ]
    },
    {
      "cell_type": "markdown",
      "metadata": {
        "id": "3x4qKBGaBlBH"
      },
      "source": [
        "#### Логистическая регрессия"
      ]
    },
    {
      "cell_type": "code",
      "metadata": {
        "colab": {
          "base_uri": "https://localhost:8080/"
        },
        "id": "duKDZ9RMBlBH",
        "outputId": "36f9511d-78f3-444e-a1b1-0e43b895deb7"
      },
      "source": [
        "model = LogisticRegression(random_state=42, solver='liblinear')\n",
        "model.fit(features_downsampled, target_downsampled)\n",
        "predicted_valid = model.predict(features_valid)\n",
        "print(\"F1:\", f1_score(target_valid, predicted_valid))"
      ],
      "execution_count": 58,
      "outputs": [
        {
          "output_type": "stream",
          "text": [
            "F1: 0.4006550218340612\n"
          ],
          "name": "stdout"
        }
      ]
    },
    {
      "cell_type": "markdown",
      "metadata": {
        "id": "AY1w6U6zBlBI"
      },
      "source": [
        "#### Случайный лес"
      ]
    },
    {
      "cell_type": "code",
      "metadata": {
        "colab": {
          "base_uri": "https://localhost:8080/"
        },
        "id": "yZMUo3b0BlBI",
        "outputId": "9eb239dd-7f74-4927-997d-a6f68e604bc9"
      },
      "source": [
        "model = RandomForestClassifier(random_state=42, n_estimators=10)\n",
        "model.fit(features_downsampled, target_downsampled)\n",
        "predicted_valid = model.predict(features_valid)\n",
        "print(\"F1:\", f1_score(target_valid, predicted_valid))"
      ],
      "execution_count": 59,
      "outputs": [
        {
          "output_type": "stream",
          "text": [
            "F1: 0.4715558601782042\n"
          ],
          "name": "stdout"
        }
      ]
    },
    {
      "cell_type": "markdown",
      "metadata": {
        "id": "p2vGnJPeBlBI"
      },
      "source": [
        "#### Catboost"
      ]
    },
    {
      "cell_type": "code",
      "metadata": {
        "colab": {
          "base_uri": "https://localhost:8080/"
        },
        "id": "Tof6g0-KBlBI",
        "outputId": "7e016aff-5948-4bbf-9bc7-277161d85fd0"
      },
      "source": [
        "model = CatBoostClassifier(verbose=100, random_state=42)\n",
        "model.fit(features_downsampled, target_downsampled)\n",
        "predicted_valid = model.predict(features_valid)\n",
        "print(\"F1:\", f1_score(target_valid, predicted_valid))\n",
        "\n"
      ],
      "execution_count": 60,
      "outputs": [
        {
          "output_type": "stream",
          "text": [
            "Learning rate set to 0.012948\n",
            "0:\tlearn: 0.6839809\ttotal: 9.09ms\tremaining: 9.08s\n",
            "100:\tlearn: 0.4175960\ttotal: 232ms\tremaining: 2.06s\n",
            "200:\tlearn: 0.3663089\ttotal: 461ms\tremaining: 1.83s\n",
            "300:\tlearn: 0.3389698\ttotal: 684ms\tremaining: 1.59s\n",
            "400:\tlearn: 0.3171304\ttotal: 903ms\tremaining: 1.35s\n",
            "500:\tlearn: 0.2992443\ttotal: 1.13s\tremaining: 1.12s\n",
            "600:\tlearn: 0.2824109\ttotal: 1.37s\tremaining: 912ms\n",
            "700:\tlearn: 0.2670146\ttotal: 1.6s\tremaining: 682ms\n",
            "800:\tlearn: 0.2516653\ttotal: 1.82s\tremaining: 452ms\n",
            "900:\tlearn: 0.2369044\ttotal: 2.05s\tremaining: 225ms\n",
            "999:\tlearn: 0.2237793\ttotal: 2.28s\tremaining: 0us\n",
            "F1: 0.4756828780812791\n"
          ],
          "name": "stdout"
        }
      ]
    },
    {
      "cell_type": "markdown",
      "metadata": {
        "id": "85LNO44iBlBI"
      },
      "source": [
        "`Downsampling` показывает результаты хуже, чем `upsampling` у всех трех алгоритмов. \n",
        "\n",
        "Попробуем изменение порога и посмотрим какие будут метрики - в этот раз обратимся к `recall` и `precision`"
      ]
    },
    {
      "cell_type": "markdown",
      "metadata": {
        "id": "5F1k7Lg-BlBI"
      },
      "source": [
        "### Изменение порога"
      ]
    },
    {
      "cell_type": "markdown",
      "metadata": {
        "id": "PagerJKeBlBI"
      },
      "source": [
        "Для удобства близость к классам переведём в вероятность классов (у нас два класса - 0 и 1). Нам достаточно вероятности класса «1». По умолчанию он равен 0.5 - попробуем разные параметры, например, до 0.95"
      ]
    },
    {
      "cell_type": "markdown",
      "metadata": {
        "id": "i5FPaB4SBlBI"
      },
      "source": [
        "#### Логистическая регрессия"
      ]
    },
    {
      "cell_type": "code",
      "metadata": {
        "colab": {
          "base_uri": "https://localhost:8080/",
          "height": 944
        },
        "id": "8Afk3GesBlBI",
        "outputId": "38af1c16-500f-44e8-8404-ec40b80ff1d3"
      },
      "source": [
        "model = LogisticRegression(random_state=42, solver='liblinear')\n",
        "model.fit(features_train, target_train)\n",
        "probabilities_valid = model.predict_proba(features_valid)\n",
        "probabilities_one_valid = probabilities_valid[:, 1]\n",
        "\n",
        "for threshold in np.arange(0, 0.95, 0.05):\n",
        "    predicted_valid = probabilities_one_valid > threshold\n",
        "    precision = precision_score(target_valid, predicted_valid)\n",
        "    recall = recall_score(target_valid, predicted_valid)\n",
        "    f1 = f1_score(target_valid, predicted_valid)\n",
        "    print(\"Порог = {:.2f} | Точность = {:.3f}, Полнота = {:.3f} | F1-мера = {:.3f}\".format(\n",
        "        threshold, precision, recall, f1))\n",
        "\n",
        "precision, recall, thresholds = precision_recall_curve(target_valid, probabilities_valid[:, 1])    \n",
        "plt.figure(figsize=(10, 10))\n",
        "plt.step(recall, precision, where='post')\n",
        "plt.xlabel('Recall')\n",
        "plt.ylabel('Precision')\n",
        "plt.ylim([0.0, 1.05])\n",
        "plt.xlim([0.0, 1.0])\n",
        "plt.title('PR кривая')\n",
        "plt.show() "
      ],
      "execution_count": 61,
      "outputs": [
        {
          "output_type": "stream",
          "text": [
            "Порог = 0.00 | Точность = 0.197, Полнота = 1.000 | F1-мера = 0.328\n",
            "Порог = 0.05 | Точность = 0.213, Полнота = 0.980 | F1-мера = 0.349\n",
            "Порог = 0.10 | Точность = 0.259, Полнота = 0.924 | F1-мера = 0.405\n",
            "Порог = 0.15 | Точность = 0.309, Полнота = 0.832 | F1-мера = 0.451\n",
            "Порог = 0.20 | Точность = 0.375, Полнота = 0.728 | F1-мера = 0.495\n",
            "Порог = 0.25 | Точность = 0.418, Полнота = 0.616 | F1-мера = 0.498\n",
            "Порог = 0.30 | Точность = 0.485, Полнота = 0.524 | F1-мера = 0.504\n",
            "Порог = 0.35 | Точность = 0.514, Полнота = 0.430 | F1-мера = 0.468\n",
            "Порог = 0.40 | Точность = 0.539, Полнота = 0.331 | F1-мера = 0.410\n",
            "Порог = 0.45 | Точность = 0.546, Полнота = 0.257 | F1-мера = 0.349\n",
            "Порог = 0.50 | Точность = 0.549, Полнота = 0.198 | F1-мера = 0.292\n",
            "Порог = 0.55 | Точность = 0.634, Полнота = 0.150 | F1-мера = 0.243\n",
            "Порог = 0.60 | Точность = 0.662, Полнота = 0.120 | F1-мера = 0.203\n",
            "Порог = 0.65 | Точность = 0.609, Полнота = 0.071 | F1-мера = 0.128\n",
            "Порог = 0.70 | Точность = 0.708, Полнота = 0.043 | F1-мера = 0.082\n",
            "Порог = 0.75 | Точность = 0.714, Полнота = 0.025 | F1-мера = 0.049\n",
            "Порог = 0.80 | Точность = 0.625, Полнота = 0.013 | F1-мера = 0.025\n",
            "Порог = 0.85 | Точность = 0.333, Полнота = 0.003 | F1-мера = 0.005\n",
            "Порог = 0.90 | Точность = 0.000, Полнота = 0.000 | F1-мера = 0.000\n"
          ],
          "name": "stdout"
        },
        {
          "output_type": "display_data",
          "data": {
            "image/png": "[encoded data removed]",
            "text/plain": [
              "<Figure size 720x720 with 1 Axes>"
            ]
          },
          "metadata": {
            "tags": []
          }
        }
      ]
    },
    {
      "cell_type": "markdown",
      "metadata": {
        "id": "LytUC0-xBlBJ"
      },
      "source": [
        "Для порога 0 полнота равна 1 - все ответы положительные. При пороге 0.85 модель перестает давать правильные ответы. Самый высокий показатель F1 наблюдаем с порогом 0.25"
      ]
    },
    {
      "cell_type": "markdown",
      "metadata": {
        "id": "SzPaDANhBlBJ"
      },
      "source": [
        "#### Случайный лес"
      ]
    },
    {
      "cell_type": "code",
      "metadata": {
        "colab": {
          "base_uri": "https://localhost:8080/",
          "height": 944
        },
        "id": "f31WTiwhBlBJ",
        "outputId": "bfe59732-54da-46a7-9972-17e3f59d93a7"
      },
      "source": [
        "model = RandomForestClassifier(random_state=42, n_estimators=10)\n",
        "model.fit(features_train, target_train)\n",
        "probabilities_valid = model.predict_proba(features_valid)\n",
        "probabilities_one_valid = probabilities_valid[:, 1]\n",
        "\n",
        "for threshold in np.arange(0, 0.95, 0.05):\n",
        "    predicted_valid = probabilities_one_valid > threshold\n",
        "    precision = precision_score(target_valid, predicted_valid)\n",
        "    recall = recall_score(target_valid, predicted_valid)\n",
        "    f1 = f1_score(target_valid, predicted_valid)\n",
        "    print(\"Порог = {:.2f} | Точность = {:.3f}, Полнота = {:.3f} | F1-мера = {:.3f}\".format(\n",
        "        threshold, precision, recall, f1))\n",
        "    \n",
        "precision, recall, thresholds = precision_recall_curve(target_valid, probabilities_valid[:, 1])    \n",
        "plt.figure(figsize=(10, 10))\n",
        "plt.step(recall, precision, where='post')\n",
        "plt.xlabel('Recall')\n",
        "plt.ylabel('Precision')\n",
        "plt.ylim([0.0, 1.05])\n",
        "plt.xlim([0.0, 1.0])\n",
        "plt.title('PR кривая')\n",
        "plt.show() "
      ],
      "execution_count": 62,
      "outputs": [
        {
          "output_type": "stream",
          "text": [
            "Порог = 0.00 | Точность = 0.278, Полнота = 0.908 | F1-мера = 0.426\n",
            "Порог = 0.05 | Точность = 0.278, Полнота = 0.908 | F1-мера = 0.426\n",
            "Порог = 0.10 | Точность = 0.372, Полнота = 0.804 | F1-мера = 0.509\n",
            "Порог = 0.15 | Точность = 0.372, Полнота = 0.804 | F1-мера = 0.509\n",
            "Порог = 0.20 | Точность = 0.463, Полнота = 0.718 | F1-мера = 0.563\n",
            "Порог = 0.25 | Точность = 0.463, Полнота = 0.718 | F1-мера = 0.563\n",
            "Порог = 0.30 | Точность = 0.553, Полнота = 0.641 | F1-мера = 0.594\n",
            "Порог = 0.35 | Точность = 0.553, Полнота = 0.641 | F1-мера = 0.594\n",
            "Порог = 0.40 | Точность = 0.607, Полнота = 0.522 | F1-мера = 0.561\n",
            "Порог = 0.45 | Точность = 0.607, Полнота = 0.522 | F1-мера = 0.561\n",
            "Порог = 0.50 | Точность = 0.713, Полнота = 0.430 | F1-мера = 0.537\n",
            "Порог = 0.55 | Точность = 0.713, Полнота = 0.430 | F1-мера = 0.537\n",
            "Порог = 0.60 | Точность = 0.770, Полнота = 0.366 | F1-мера = 0.497\n",
            "Порог = 0.65 | Точность = 0.770, Полнота = 0.366 | F1-мера = 0.497\n",
            "Порог = 0.70 | Точность = 0.856, Полнота = 0.257 | F1-мера = 0.395\n",
            "Порог = 0.75 | Точность = 0.856, Полнота = 0.257 | F1-мера = 0.395\n",
            "Порог = 0.80 | Точность = 0.896, Полнота = 0.153 | F1-мера = 0.261\n",
            "Порог = 0.85 | Точность = 0.896, Полнота = 0.153 | F1-мера = 0.261\n",
            "Порог = 0.90 | Точность = 1.000, Полнота = 0.087 | F1-мера = 0.159\n"
          ],
          "name": "stdout"
        },
        {
          "output_type": "display_data",
          "data": {
            "image/png": "[encoded data removed]",
            "text/plain": [
              "<Figure size 720x720 with 1 Axes>"
            ]
          },
          "metadata": {
            "tags": []
          }
        }
      ]
    },
    {
      "cell_type": "markdown",
      "metadata": {
        "id": "aQFroQAYBlBJ"
      },
      "source": [
        "Самый высокий показатель достигаем при пороге 0.3"
      ]
    },
    {
      "cell_type": "markdown",
      "metadata": {
        "id": "_jNK0dCiBlBJ"
      },
      "source": [
        "Остановимся на upsampling увеличении выборки. На ней обучим наши модели и подберем гиперпараметры. Изменять порог или уменьшать выборку не будем"
      ]
    },
    {
      "cell_type": "markdown",
      "metadata": {
        "id": "lFm3rrapBlBJ"
      },
      "source": [
        "### Обучение моделей и настройка гиперпараметров"
      ]
    },
    {
      "cell_type": "markdown",
      "metadata": {
        "id": "ShcKO72UBlBJ"
      },
      "source": [
        "Обучать модели будем на увеличенной выборке, проверять параметры будем на валидачионной выборке и оценивать по F1-мере, кросс-валидацию для логистической регрессии и случайного леса применять не будем.  \n",
        "\n",
        "Параметры будем подбирать черезе `GridSearchCV`. цикл и перебор применять не будем"
      ]
    },
    {
      "cell_type": "markdown",
      "metadata": {
        "id": "1q2oi_qXBlBJ"
      },
      "source": [
        "#### Логистическая регрессия"
      ]
    },
    {
      "cell_type": "code",
      "metadata": {
        "colab": {
          "base_uri": "https://localhost:8080/"
        },
        "id": "TKGxVFwWBlBK",
        "outputId": "c2fff79a-0857-4446-d01f-4052eccfef73"
      },
      "source": [
        "par_grid_logist = {\n",
        "                   'intercept_scaling': [0.5, 1.0, 1.5],\n",
        "                   'class_weight': [None, 'balanced'],\n",
        "                   'C': [0.5, 1, 1.5]\n",
        "                   }\n",
        "model = LogisticRegression(solver='liblinear',random_state=42)\n",
        "\n",
        "grid_search = GridSearchCV(model, par_grid_logist, cv=5,\n",
        "                           scoring='f1')\n",
        "grid_search.fit(features_upsampled, target_upsampled)"
      ],
      "execution_count": 63,
      "outputs": [
        {
          "output_type": "execute_result",
          "data": {
            "text/plain": [
              "GridSearchCV(cv=5, error_score=nan,\n",
              "             estimator=LogisticRegression(C=1.0, class_weight=None, dual=False,\n",
              "                                          fit_intercept=True,\n",
              "                                          intercept_scaling=1, l1_ratio=None,\n",
              "                                          max_iter=100, multi_class='auto',\n",
              "                                          n_jobs=None, penalty='l2',\n",
              "                                          random_state=42, solver='liblinear',\n",
              "                                          tol=0.0001, verbose=0,\n",
              "                                          warm_start=False),\n",
              "             iid='deprecated', n_jobs=None,\n",
              "             param_grid={'C': [0.5, 1, 1.5], 'class_weight': [None, 'balanced'],\n",
              "                         'intercept_scaling': [0.5, 1.0, 1.5]},\n",
              "             pre_dispatch='2*n_jobs', refit=True, return_train_score=False,\n",
              "             scoring='f1', verbose=0)"
            ]
          },
          "metadata": {
            "tags": []
          },
          "execution_count": 63
        }
      ]
    },
    {
      "cell_type": "code",
      "metadata": {
        "colab": {
          "base_uri": "https://localhost:8080/"
        },
        "id": "AokzuulgBlBK",
        "outputId": "0d9bdc48-9bc3-4d4e-873c-7eb354ab3d21"
      },
      "source": [
        "grid_search.best_params_"
      ],
      "execution_count": 64,
      "outputs": [
        {
          "output_type": "execute_result",
          "data": {
            "text/plain": [
              "{'C': 1.5, 'class_weight': None, 'intercept_scaling': 0.5}"
            ]
          },
          "metadata": {
            "tags": []
          },
          "execution_count": 64
        }
      ]
    },
    {
      "cell_type": "markdown",
      "metadata": {
        "id": "3DTofTPhBlBK"
      },
      "source": [
        "Применим наши параметры и посмотрим результат:"
      ]
    },
    {
      "cell_type": "code",
      "metadata": {
        "colab": {
          "base_uri": "https://localhost:8080/"
        },
        "id": "7GuCJNZgBlBK",
        "outputId": "1631b8e8-4f36-425a-d129-dd9ad778ab3c"
      },
      "source": [
        "model_lreg = LogisticRegression(C=1.5, class_weight=None, intercept_scaling=0.5,\n",
        "                                solver='liblinear', random_state=42\n",
        ")\n",
        "model_lreg.fit(features_upsampled, target_upsampled)\n",
        "predicted_valid = model_lreg.predict(features_valid)\n",
        "print(\"F1:\", f1_score(target_valid, predicted_valid))\n"
      ],
      "execution_count": 65,
      "outputs": [
        {
          "output_type": "stream",
          "text": [
            "F1: 0.46987032799389783\n"
          ],
          "name": "stdout"
        }
      ]
    },
    {
      "cell_type": "markdown",
      "metadata": {
        "id": "FLQb50psBlBK"
      },
      "source": [
        "Ниже порога 0.59, посмотрим как поведет себя модель при тестировании"
      ]
    },
    {
      "cell_type": "code",
      "metadata": {
        "colab": {
          "base_uri": "https://localhost:8080/",
          "height": 638
        },
        "id": "219b9RvrBlBK",
        "outputId": "7c60a95d-fea1-4bed-c6fd-20b216d2e9fd"
      },
      "source": [
        "probabilities_valid = model_lreg.predict_proba(features_valid)\n",
        "probabilities_one_valid = probabilities_valid[:, 1]\n",
        "\n",
        "fpr, tpr, thresholds = roc_curve(target_valid, probabilities_one_valid) \n",
        "\n",
        "plt.figure(figsize=(10, 10))\n",
        "plt.plot(fpr, tpr, linestyle='-')\n",
        "plt.plot([0, 1], [0, 1], linestyle='--')\n",
        "plt.xlim([0.0, 1.0])\n",
        "plt.ylim([0.0, 1.0])\n",
        "plt.xlabel('False Positive Rate')\n",
        "plt.ylabel('True Positive Rate')\n",
        "plt.title('ROC-кривая')\n",
        "\n",
        "plt.show()\n",
        "\n",
        "auc_roc = roc_auc_score (target_valid, probabilities_one_valid)\n",
        "\n",
        "print(\"AUC:\", auc_roc)"
      ],
      "execution_count": 66,
      "outputs": [
        {
          "output_type": "display_data",
          "data": {
            "image/png": "[encoded data removed]",
            "text/plain": [
              "<Figure size 720x720 with 1 Axes>"
            ]
          },
          "metadata": {
            "tags": []
          }
        },
        {
          "output_type": "stream",
          "text": [
            "AUC: 0.7819875196144096\n"
          ],
          "name": "stdout"
        }
      ]
    },
    {
      "cell_type": "markdown",
      "metadata": {
        "id": "zXqCfj28BlBK"
      },
      "source": [
        "AUC больше 0.5, наша модель лучше случайной"
      ]
    },
    {
      "cell_type": "markdown",
      "metadata": {
        "id": "-0rEIhj_BlBK"
      },
      "source": [
        "#### Случайный лес"
      ]
    },
    {
      "cell_type": "code",
      "metadata": {
        "colab": {
          "base_uri": "https://localhost:8080/"
        },
        "id": "QnHJUXonBlBL",
        "outputId": "22f740a3-22a6-4b79-b1f2-3e5cdf11033c"
      },
      "source": [
        "par_grid_ensemble = {'n_estimators': [3, 10, 30],\n",
        "                     'criterion': ['gini', 'entropy'],\n",
        "                     'min_samples_split': range(5, 15)\n",
        "                    }\n",
        "model = RandomForestClassifier(random_state=42)\n",
        "\n",
        "grid_search = GridSearchCV(model, par_grid_ensemble, cv=5,\n",
        "                           scoring='accuracy'\n",
        "                          )\n",
        "grid_search.fit(features_upsampled, target_upsampled)"
      ],
      "execution_count": 67,
      "outputs": [
        {
          "output_type": "execute_result",
          "data": {
            "text/plain": [
              "GridSearchCV(cv=5, error_score=nan,\n",
              "             estimator=RandomForestClassifier(bootstrap=True, ccp_alpha=0.0,\n",
              "                                              class_weight=None,\n",
              "                                              criterion='gini', max_depth=None,\n",
              "                                              max_features='auto',\n",
              "                                              max_leaf_nodes=None,\n",
              "                                              max_samples=None,\n",
              "                                              min_impurity_decrease=0.0,\n",
              "                                              min_impurity_split=None,\n",
              "                                              min_samples_leaf=1,\n",
              "                                              min_samples_split=2,\n",
              "                                              min_weight_fraction_leaf=0.0,\n",
              "                                              n_estimators=100, n_jobs=None,\n",
              "                                              oob_score=False, random_state=42,\n",
              "                                              verbose=0, warm_start=False),\n",
              "             iid='deprecated', n_jobs=None,\n",
              "             param_grid={'criterion': ['gini', 'entropy'],\n",
              "                         'min_samples_split': range(5, 15),\n",
              "                         'n_estimators': [3, 10, 30]},\n",
              "             pre_dispatch='2*n_jobs', refit=True, return_train_score=False,\n",
              "             scoring='accuracy', verbose=0)"
            ]
          },
          "metadata": {
            "tags": []
          },
          "execution_count": 67
        }
      ]
    },
    {
      "cell_type": "code",
      "metadata": {
        "colab": {
          "base_uri": "https://localhost:8080/"
        },
        "id": "CERTPRRuBlBL",
        "outputId": "0b20f582-d17a-4f75-d208-95714669c49c"
      },
      "source": [
        "grid_search.best_params_"
      ],
      "execution_count": 68,
      "outputs": [
        {
          "output_type": "execute_result",
          "data": {
            "text/plain": [
              "{'criterion': 'entropy', 'min_samples_split': 5, 'n_estimators': 30}"
            ]
          },
          "metadata": {
            "tags": []
          },
          "execution_count": 68
        }
      ]
    },
    {
      "cell_type": "code",
      "metadata": {
        "colab": {
          "base_uri": "https://localhost:8080/"
        },
        "id": "tGFZchs8BlBL",
        "outputId": "1adc85ac-bdca-494a-9954-9c0107f7213a"
      },
      "source": [
        "model_rfc = RandomForestClassifier(random_state=42, criterion='gini', \n",
        "                               min_samples_split=5, n_estimators=30\n",
        "                              )\n",
        "model_rfc.fit(features_upsampled, target_upsampled)\n",
        "predicted_valid = model_rfc.predict(features_valid)\n",
        "print(\"F1:\", f1_score(target_valid, predicted_valid))"
      ],
      "execution_count": 69,
      "outputs": [
        {
          "output_type": "stream",
          "text": [
            "F1: 0.5922974767596282\n"
          ],
          "name": "stdout"
        }
      ]
    },
    {
      "cell_type": "markdown",
      "metadata": {
        "id": "rEficog7BlBL"
      },
      "source": [
        "Выше порога 0.59 на валидационной выборке. Попробуем на тест выборке и посмотрим как ведет себя модель на незнакомых данных"
      ]
    },
    {
      "cell_type": "code",
      "metadata": {
        "colab": {
          "base_uri": "https://localhost:8080/",
          "height": 638
        },
        "id": "aR7Qqc5pBlBL",
        "outputId": "66320c8b-4545-4eee-8c61-2de0b2a02b75"
      },
      "source": [
        "probabilities_valid = model_rfc.predict_proba(features_valid)\n",
        "probabilities_one_valid = probabilities_valid[:, 1]\n",
        "\n",
        "fpr, tpr, thresholds = roc_curve(target_valid, probabilities_one_valid) \n",
        "\n",
        "plt.figure(figsize=(10, 10))\n",
        "plt.plot(fpr, tpr, linestyle='-')\n",
        "plt.plot([0, 1], [0, 1], linestyle='--')\n",
        "plt.xlim([0.0, 1.0])\n",
        "plt.ylim([0.0, 1.0])\n",
        "plt.xlabel('False Positive Rate')\n",
        "plt.ylabel('True Positive Rate')\n",
        "plt.title('ROC-кривая')\n",
        "plt.show()\n",
        "\n",
        "auc_roc = roc_auc_score (target_valid, probabilities_one_valid)\n",
        "\n",
        "print(\"AUC:\", auc_roc)"
      ],
      "execution_count": 70,
      "outputs": [
        {
          "output_type": "display_data",
          "data": {
            "image/png": "[encoded data removed]",
            "text/plain": [
              "<Figure size 720x720 with 1 Axes>"
            ]
          },
          "metadata": {
            "tags": []
          }
        },
        {
          "output_type": "stream",
          "text": [
            "AUC: 0.8377969475149276\n"
          ],
          "name": "stdout"
        }
      ]
    },
    {
      "cell_type": "markdown",
      "metadata": {
        "id": "EE3yOOQaBlBL"
      },
      "source": [
        "AUC также говорит нам о том, что модель лучше, случайной, при этом и лучше логистической регрессии"
      ]
    },
    {
      "cell_type": "markdown",
      "metadata": {
        "id": "knTbpIxaBlBL"
      },
      "source": [
        "#### Catboost (bonus)"
      ]
    },
    {
      "cell_type": "markdown",
      "metadata": {
        "id": "XaeSaYx0BlBM"
      },
      "source": [
        "Попробуем настроить Catboost с применением кроссвалидации. Получим базовую модель, проверять будем по F1-мере. Без учета дисбаланса классов"
      ]
    },
    {
      "cell_type": "code",
      "metadata": {
        "id": "AR_B-1pZBlBM"
      },
      "source": [
        "model_cat = CatBoostClassifier(\n",
        "                           custom_loss=['F1'],\n",
        "                           random_seed=42,\n",
        "                           logging_level='Silent'\n",
        ")"
      ],
      "execution_count": 72,
      "outputs": []
    },
    {
      "cell_type": "code",
      "metadata": {
        "colab": {
          "base_uri": "https://localhost:8080/"
        },
        "id": "qi14KbuzBlBM",
        "outputId": "35662b24-9889-49b7-ba98-9cd0643c9f25"
      },
      "source": [
        "model_cat.fit(\n",
        "          features_train, target_train,\n",
        "          eval_set=(features_valid, target_valid)\n",
        "\n",
        ")"
      ],
      "execution_count": 73,
      "outputs": [
        {
          "output_type": "execute_result",
          "data": {
            "text/plain": [
              "<catboost.core.CatBoostClassifier at 0x7f99e053ab10>"
            ]
          },
          "metadata": {
            "tags": []
          },
          "execution_count": 73
        }
      ]
    },
    {
      "cell_type": "markdown",
      "metadata": {
        "id": "SMDE5XVLBlBM"
      },
      "source": [
        "Получим сетку параметров и проведем кроссвалидацию с помощию встроенной функции Pool"
      ]
    },
    {
      "cell_type": "code",
      "metadata": {
        "id": "g8Yg39EyBlBM"
      },
      "source": [
        "cv_params = model_cat.get_params()\n",
        "cv_params.update({\n",
        "                 'loss_function': 'Logloss'\n",
        "})\n",
        "cv_data = cv(\n",
        "             Pool(features_train, target_train),\n",
        "             cv_params\n",
        ")"
      ],
      "execution_count": 74,
      "outputs": []
    },
    {
      "cell_type": "code",
      "metadata": {
        "colab": {
          "base_uri": "https://localhost:8080/"
        },
        "id": "kTFp0yyaBlBM",
        "outputId": "1ae7f4a7-a76e-415e-c85e-155775f82340"
      },
      "source": [
        "print('Точная F1-мера: {}'.format(np.max(cv_data['test-F1-mean'])))"
      ],
      "execution_count": 75,
      "outputs": [
        {
          "output_type": "stream",
          "text": [
            "Точная F1-мера: 0.5982828932919334\n"
          ],
          "name": "stdout"
        }
      ]
    },
    {
      "cell_type": "code",
      "metadata": {
        "colab": {
          "base_uri": "https://localhost:8080/",
          "height": 638
        },
        "id": "nh3R7PVPBlBM",
        "outputId": "bdec98b7-a42b-4aed-ac47-21b8d67eb597"
      },
      "source": [
        "probabilities_valid = model_cat.predict_proba(features_valid)\n",
        "probabilities_one_valid = probabilities_valid[:, 1]\n",
        "\n",
        "fpr, tpr, thresholds = roc_curve(target_valid, probabilities_one_valid) \n",
        "\n",
        "plt.figure(figsize=(10, 10))\n",
        "plt.plot(fpr, tpr, linestyle='-')\n",
        "plt.plot([0, 1], [0, 1], linestyle='--')\n",
        "plt.xlim([0.0, 1.0])\n",
        "plt.ylim([0.0, 1.0])\n",
        "plt.xlabel('False Positive Rate')\n",
        "plt.ylabel('True Positive Rate')\n",
        "plt.title('ROC-кривая')\n",
        "plt.show()\n",
        "\n",
        "auc_roc = roc_auc_score (target_valid, probabilities_one_valid)\n",
        "\n",
        "print(\"AUC:\", auc_roc)"
      ],
      "execution_count": 76,
      "outputs": [
        {
          "output_type": "display_data",
          "data": {
            "image/png": "[encoded data removed]",
            "text/plain": [
              "<Figure size 720x720 with 1 Axes>"
            ]
          },
          "metadata": {
            "tags": []
          }
        },
        {
          "output_type": "stream",
          "text": [
            "AUC: 0.872540776596031\n"
          ],
          "name": "stdout"
        }
      ]
    },
    {
      "cell_type": "markdown",
      "metadata": {
        "id": "18-eUgMlBlBM"
      },
      "source": [
        "Получили очень хороший результат, посмотрим как модель будет вести себя на тестовой выборке. Модель лучше случайной"
      ]
    },
    {
      "cell_type": "markdown",
      "metadata": {
        "id": "bJCrHoltBlBN"
      },
      "source": [
        "## Тестирование моделей и проверка на адекватность"
      ]
    },
    {
      "cell_type": "code",
      "metadata": {
        "id": "1IiKv3fdBlBN"
      },
      "source": [
        "#для удобства вывода в дальнейшем - соберем показатели в списки\n",
        "\n",
        "table_of_model = []\n",
        "table_of_prec = []\n",
        "table_of_acc = []"
      ],
      "execution_count": 77,
      "outputs": []
    },
    {
      "cell_type": "markdown",
      "metadata": {
        "id": "RLGU5gkABlBN"
      },
      "source": [
        "### Тестирование моделей"
      ]
    },
    {
      "cell_type": "markdown",
      "metadata": {
        "id": "_FNjSBLnBlBN"
      },
      "source": [
        "#### Логистическая регрессия"
      ]
    },
    {
      "cell_type": "code",
      "metadata": {
        "colab": {
          "base_uri": "https://localhost:8080/"
        },
        "id": "uNyjZSUSBlBN",
        "outputId": "f813d27b-df24-4937-ea75-845cc9a26205"
      },
      "source": [
        "predictions_test = model_lreg.predict(features_test)\n",
        "test_f1 = f1_score(target_test, predictions_test)\n",
        "test_acc = accuracy_score(target_test, predictions_test)\n",
        "\n",
        "print(\"Accuracy\")\n",
        "print(\"Тестовая выборка:\", test_acc)\n",
        "print(\"F1-мера\")\n",
        "print(\"Тестовая выборка:\", test_f1)\n",
        "\n",
        "table_of_acc.append(round(test_acc, 2))\n",
        "table_of_prec.append(round(test_f1, 2))\n",
        "table_of_model.append('LogisticRegression')"
      ],
      "execution_count": 78,
      "outputs": [
        {
          "output_type": "stream",
          "text": [
            "Accuracy\n",
            "Тестовая выборка: 0.6675\n",
            "F1-мера\n",
            "Тестовая выборка: 0.5041014168530947\n"
          ],
          "name": "stdout"
        }
      ]
    },
    {
      "cell_type": "markdown",
      "metadata": {
        "id": "a2ZmgPQIBlBN"
      },
      "source": [
        "#### Случайный лес"
      ]
    },
    {
      "cell_type": "code",
      "metadata": {
        "colab": {
          "base_uri": "https://localhost:8080/"
        },
        "id": "ERx6K32BBlBN",
        "outputId": "39f3b008-f7b6-48e5-d8f7-4b920cd51a6e"
      },
      "source": [
        "predictions_test = model_rfc.predict(features_test)\n",
        "test_f1 = f1_score(target_test, predictions_test)\n",
        "test_acc = accuracy_score(target_test, predictions_test)\n",
        "\n",
        "print(\"Accuracy\")\n",
        "print(\"Тестовая выборка:\", test_acc)\n",
        "print(\"F1-мера\")\n",
        "print(\"Тестовая выборка:\", test_f1)\n",
        "\n",
        "table_of_acc.append(round(test_acc, 2))\n",
        "table_of_prec.append(round(test_f1, 2))\n",
        "table_of_model.append('RandomForestClassifier')"
      ],
      "execution_count": 79,
      "outputs": [
        {
          "output_type": "stream",
          "text": [
            "Accuracy\n",
            "Тестовая выборка: 0.85\n",
            "F1-мера\n",
            "Тестовая выборка: 0.6124031007751938\n"
          ],
          "name": "stdout"
        }
      ]
    },
    {
      "cell_type": "code",
      "metadata": {
        "colab": {
          "base_uri": "https://localhost:8080/"
        },
        "id": "8_7IQ4XrBlBO",
        "outputId": "8cefd704-2674-4a8e-a6a8-80faeae3665a"
      },
      "source": [
        "model_rfc.feature_importances_"
      ],
      "execution_count": 80,
      "outputs": [
        {
          "output_type": "execute_result",
          "data": {
            "text/plain": [
              "array([0.1331455 , 0.25286522, 0.08074677, 0.1412647 , 0.13306449,\n",
              "       0.01851208, 0.03407288, 0.13772004, 0.02159708, 0.03121515,\n",
              "       0.0157961 ])"
            ]
          },
          "metadata": {
            "tags": []
          },
          "execution_count": 80
        }
      ]
    },
    {
      "cell_type": "code",
      "metadata": {
        "colab": {
          "base_uri": "https://localhost:8080/"
        },
        "id": "DLCxa30RBlBO",
        "outputId": "771ae420-25ca-44a5-8150-58f48f8cc498"
      },
      "source": [
        "features_test.columns"
      ],
      "execution_count": 81,
      "outputs": [
        {
          "output_type": "execute_result",
          "data": {
            "text/plain": [
              "Index(['creditscore', 'age', 'tenure', 'balance', 'num_of_products',\n",
              "       'has_crcard', 'isactive_member', 'estimated_salary', 'Male', 'Germany',\n",
              "       'Spain'],\n",
              "      dtype='object')"
            ]
          },
          "metadata": {
            "tags": []
          },
          "execution_count": 81
        }
      ]
    },
    {
      "cell_type": "code",
      "metadata": {
        "colab": {
          "base_uri": "https://localhost:8080/",
          "height": 390
        },
        "id": "XmT_w3LzBlBO",
        "outputId": "ac4cf6ab-9c68-420e-a7e2-38e0b8712b5e"
      },
      "source": [
        "fi = pd.DataFrame({'name':features_test.columns,'fi':model_rfc.feature_importances_})\n",
        "fi.sort_values('fi',ascending=False)"
      ],
      "execution_count": 82,
      "outputs": [
        {
          "output_type": "execute_result",
          "data": {
            "text/html": [
              "<div>\n",
              "<style scoped>\n",
              "    .dataframe tbody tr th:only-of-type {\n",
              "        vertical-align: middle;\n",
              "    }\n",
              "\n",
              "    .dataframe tbody tr th {\n",
              "        vertical-align: top;\n",
              "    }\n",
              "\n",
              "    .dataframe thead th {\n",
              "        text-align: right;\n",
              "    }\n",
              "</style>\n",
              "<table border=\"1\" class=\"dataframe\">\n",
              "  <thead>\n",
              "    <tr style=\"text-align: right;\">\n",
              "      <th></th>\n",
              "      <th>name</th>\n",
              "      <th>fi</th>\n",
              "    </tr>\n",
              "  </thead>\n",
              "  <tbody>\n",
              "    <tr>\n",
              "      <th>1</th>\n",
              "      <td>age</td>\n",
              "      <td>0.252865</td>\n",
              "    </tr>\n",
              "    <tr>\n",
              "      <th>3</th>\n",
              "      <td>balance</td>\n",
              "      <td>0.141265</td>\n",
              "    </tr>\n",
              "    <tr>\n",
              "      <th>7</th>\n",
              "      <td>estimated_salary</td>\n",
              "      <td>0.137720</td>\n",
              "    </tr>\n",
              "    <tr>\n",
              "      <th>0</th>\n",
              "      <td>creditscore</td>\n",
              "      <td>0.133145</td>\n",
              "    </tr>\n",
              "    <tr>\n",
              "      <th>4</th>\n",
              "      <td>num_of_products</td>\n",
              "      <td>0.133064</td>\n",
              "    </tr>\n",
              "    <tr>\n",
              "      <th>2</th>\n",
              "      <td>tenure</td>\n",
              "      <td>0.080747</td>\n",
              "    </tr>\n",
              "    <tr>\n",
              "      <th>6</th>\n",
              "      <td>isactive_member</td>\n",
              "      <td>0.034073</td>\n",
              "    </tr>\n",
              "    <tr>\n",
              "      <th>9</th>\n",
              "      <td>Germany</td>\n",
              "      <td>0.031215</td>\n",
              "    </tr>\n",
              "    <tr>\n",
              "      <th>8</th>\n",
              "      <td>Male</td>\n",
              "      <td>0.021597</td>\n",
              "    </tr>\n",
              "    <tr>\n",
              "      <th>5</th>\n",
              "      <td>has_crcard</td>\n",
              "      <td>0.018512</td>\n",
              "    </tr>\n",
              "    <tr>\n",
              "      <th>10</th>\n",
              "      <td>Spain</td>\n",
              "      <td>0.015796</td>\n",
              "    </tr>\n",
              "  </tbody>\n",
              "</table>\n",
              "</div>"
            ],
            "text/plain": [
              "                name        fi\n",
              "1                age  0.252865\n",
              "3            balance  0.141265\n",
              "7   estimated_salary  0.137720\n",
              "0        creditscore  0.133145\n",
              "4    num_of_products  0.133064\n",
              "2             tenure  0.080747\n",
              "6    isactive_member  0.034073\n",
              "9            Germany  0.031215\n",
              "8               Male  0.021597\n",
              "5         has_crcard  0.018512\n",
              "10             Spain  0.015796"
            ]
          },
          "metadata": {
            "tags": []
          },
          "execution_count": 82
        }
      ]
    },
    {
      "cell_type": "markdown",
      "metadata": {
        "id": "yNEEKBgDBlBO"
      },
      "source": [
        "#### Catboost"
      ]
    },
    {
      "cell_type": "code",
      "metadata": {
        "colab": {
          "base_uri": "https://localhost:8080/"
        },
        "id": "Fdh7-K5RBlBO",
        "outputId": "2ff48b81-0d5b-487b-f7ab-7269efe69d5b"
      },
      "source": [
        "predictions = model_cat.predict(features_test)\n",
        "test_f1 = f1_score(target_test, predictions_test)\n",
        "test_acc = accuracy_score(target_test, predictions_test)\n",
        "\n",
        "print(\"Accuracy\")\n",
        "print(\"Тестовая выборка:\", test_acc)\n",
        "print(\"F1-мера\")\n",
        "print(\"Тестовая выборка:\", test_f1)\n",
        "\n",
        "table_of_acc.append(round(test_acc, 2))\n",
        "table_of_prec.append(round(test_f1, 2))\n",
        "table_of_model.append('Catboost')"
      ],
      "execution_count": 83,
      "outputs": [
        {
          "output_type": "stream",
          "text": [
            "Accuracy\n",
            "Тестовая выборка: 0.85\n",
            "F1-мера\n",
            "Тестовая выборка: 0.6124031007751938\n"
          ],
          "name": "stdout"
        }
      ]
    },
    {
      "cell_type": "code",
      "metadata": {
        "colab": {
          "base_uri": "https://localhost:8080/"
        },
        "id": "tosByFEHBlBO",
        "outputId": "c4c87d5f-184c-468e-d4b6-bab7802995bc"
      },
      "source": [
        "model_cat.feature_importances_"
      ],
      "execution_count": 84,
      "outputs": [
        {
          "output_type": "execute_result",
          "data": {
            "text/plain": [
              "array([ 5.50984841, 22.15392177,  5.27414511, 12.56982249, 28.26908957,\n",
              "        1.43311365,  7.58678482,  4.83741586,  3.34071047,  7.35275853,\n",
              "        1.67238933])"
            ]
          },
          "metadata": {
            "tags": []
          },
          "execution_count": 84
        }
      ]
    },
    {
      "cell_type": "code",
      "metadata": {
        "scrolled": true,
        "colab": {
          "base_uri": "https://localhost:8080/",
          "height": 390
        },
        "id": "-v1wfqAgBlBO",
        "outputId": "8a474d64-caf6-49a3-a48c-a9ca030f4f7f"
      },
      "source": [
        "fi_cat = pd.DataFrame({'name':features_test.columns,'fi_cat':model_cat.feature_importances_})\n",
        "fi_cat.sort_values('fi_cat',ascending=False)"
      ],
      "execution_count": 85,
      "outputs": [
        {
          "output_type": "execute_result",
          "data": {
            "text/html": [
              "<div>\n",
              "<style scoped>\n",
              "    .dataframe tbody tr th:only-of-type {\n",
              "        vertical-align: middle;\n",
              "    }\n",
              "\n",
              "    .dataframe tbody tr th {\n",
              "        vertical-align: top;\n",
              "    }\n",
              "\n",
              "    .dataframe thead th {\n",
              "        text-align: right;\n",
              "    }\n",
              "</style>\n",
              "<table border=\"1\" class=\"dataframe\">\n",
              "  <thead>\n",
              "    <tr style=\"text-align: right;\">\n",
              "      <th></th>\n",
              "      <th>name</th>\n",
              "      <th>fi_cat</th>\n",
              "    </tr>\n",
              "  </thead>\n",
              "  <tbody>\n",
              "    <tr>\n",
              "      <th>4</th>\n",
              "      <td>num_of_products</td>\n",
              "      <td>28.269090</td>\n",
              "    </tr>\n",
              "    <tr>\n",
              "      <th>1</th>\n",
              "      <td>age</td>\n",
              "      <td>22.153922</td>\n",
              "    </tr>\n",
              "    <tr>\n",
              "      <th>3</th>\n",
              "      <td>balance</td>\n",
              "      <td>12.569822</td>\n",
              "    </tr>\n",
              "    <tr>\n",
              "      <th>6</th>\n",
              "      <td>isactive_member</td>\n",
              "      <td>7.586785</td>\n",
              "    </tr>\n",
              "    <tr>\n",
              "      <th>9</th>\n",
              "      <td>Germany</td>\n",
              "      <td>7.352759</td>\n",
              "    </tr>\n",
              "    <tr>\n",
              "      <th>0</th>\n",
              "      <td>creditscore</td>\n",
              "      <td>5.509848</td>\n",
              "    </tr>\n",
              "    <tr>\n",
              "      <th>2</th>\n",
              "      <td>tenure</td>\n",
              "      <td>5.274145</td>\n",
              "    </tr>\n",
              "    <tr>\n",
              "      <th>7</th>\n",
              "      <td>estimated_salary</td>\n",
              "      <td>4.837416</td>\n",
              "    </tr>\n",
              "    <tr>\n",
              "      <th>8</th>\n",
              "      <td>Male</td>\n",
              "      <td>3.340710</td>\n",
              "    </tr>\n",
              "    <tr>\n",
              "      <th>10</th>\n",
              "      <td>Spain</td>\n",
              "      <td>1.672389</td>\n",
              "    </tr>\n",
              "    <tr>\n",
              "      <th>5</th>\n",
              "      <td>has_crcard</td>\n",
              "      <td>1.433114</td>\n",
              "    </tr>\n",
              "  </tbody>\n",
              "</table>\n",
              "</div>"
            ],
            "text/plain": [
              "                name     fi_cat\n",
              "4    num_of_products  28.269090\n",
              "1                age  22.153922\n",
              "3            balance  12.569822\n",
              "6    isactive_member   7.586785\n",
              "9            Germany   7.352759\n",
              "0        creditscore   5.509848\n",
              "2             tenure   5.274145\n",
              "7   estimated_salary   4.837416\n",
              "8               Male   3.340710\n",
              "10             Spain   1.672389\n",
              "5         has_crcard   1.433114"
            ]
          },
          "metadata": {
            "tags": []
          },
          "execution_count": 85
        }
      ]
    },
    {
      "cell_type": "markdown",
      "metadata": {
        "id": "f0C8v4uaBlBP"
      },
      "source": [
        "#### Вывод"
      ]
    },
    {
      "cell_type": "markdown",
      "metadata": {
        "id": "EuqeMnCuBlBP"
      },
      "source": [
        "Для удобства выведем таблицу наших параметров по моделям:"
      ]
    },
    {
      "cell_type": "code",
      "metadata": {
        "colab": {
          "base_uri": "https://localhost:8080/",
          "height": 142
        },
        "id": "ZSBEjHEUBlBP",
        "outputId": "b21134b0-1b06-4e8f-dccd-9b77ef35713f"
      },
      "source": [
        "table_of_models = (pd.DataFrame({'Model':table_of_model, 'Accuracy':table_of_acc, \n",
        "                                'F1 score':table_of_prec}).sort_values(by='F1 score', ascending=False).\n",
        "                  reset_index(drop=True))\n",
        "table_of_models['Порог тестирования'] = (\n",
        "                   table_of_models['F1 score'].apply(lambda x: 'Прошла тест' if x>0.59 else 'Не прошла тест')\n",
        ")\n",
        "table_of_models"
      ],
      "execution_count": 86,
      "outputs": [
        {
          "output_type": "execute_result",
          "data": {
            "text/html": [
              "<div>\n",
              "<style scoped>\n",
              "    .dataframe tbody tr th:only-of-type {\n",
              "        vertical-align: middle;\n",
              "    }\n",
              "\n",
              "    .dataframe tbody tr th {\n",
              "        vertical-align: top;\n",
              "    }\n",
              "\n",
              "    .dataframe thead th {\n",
              "        text-align: right;\n",
              "    }\n",
              "</style>\n",
              "<table border=\"1\" class=\"dataframe\">\n",
              "  <thead>\n",
              "    <tr style=\"text-align: right;\">\n",
              "      <th></th>\n",
              "      <th>Model</th>\n",
              "      <th>Accuracy</th>\n",
              "      <th>F1 score</th>\n",
              "      <th>Порог тестирования</th>\n",
              "    </tr>\n",
              "  </thead>\n",
              "  <tbody>\n",
              "    <tr>\n",
              "      <th>0</th>\n",
              "      <td>RandomForestClassifier</td>\n",
              "      <td>0.85</td>\n",
              "      <td>0.61</td>\n",
              "      <td>Прошла тест</td>\n",
              "    </tr>\n",
              "    <tr>\n",
              "      <th>1</th>\n",
              "      <td>Catboost</td>\n",
              "      <td>0.85</td>\n",
              "      <td>0.61</td>\n",
              "      <td>Прошла тест</td>\n",
              "    </tr>\n",
              "    <tr>\n",
              "      <th>2</th>\n",
              "      <td>LogisticRegression</td>\n",
              "      <td>0.67</td>\n",
              "      <td>0.50</td>\n",
              "      <td>Не прошла тест</td>\n",
              "    </tr>\n",
              "  </tbody>\n",
              "</table>\n",
              "</div>"
            ],
            "text/plain": [
              "                    Model  Accuracy  F1 score Порог тестирования\n",
              "0  RandomForestClassifier      0.85      0.61        Прошла тест\n",
              "1                Catboost      0.85      0.61        Прошла тест\n",
              "2      LogisticRegression      0.67      0.50     Не прошла тест"
            ]
          },
          "metadata": {
            "tags": []
          },
          "execution_count": 86
        }
      ]
    },
    {
      "cell_type": "markdown",
      "metadata": {
        "id": "NZDVP_tBBlBP"
      },
      "source": [
        "Наилучший результат получили на Случайном лесе - 0.61, второе место занимает Catboost - но это без исправления проблемы дисбаланса!, логистическая регрессия не смогла преодолеть пороговое значение F1-меры 0.59\n",
        "\n",
        "Также мы посмотрели, какие признаки важны моделям для классификации:\n",
        "возраст, ожидаемая зарплата, кредитный скор, баланс и количество продуктов - лидирующую позицию занимает возраст"
      ]
    },
    {
      "cell_type": "markdown",
      "metadata": {
        "id": "qGCW7i58BlBP"
      },
      "source": [
        "### Проверка адекватности моделей"
      ]
    },
    {
      "cell_type": "markdown",
      "metadata": {
        "id": "MD1cg7HkBlBP"
      },
      "source": [
        "#### Сравнение с константой"
      ]
    },
    {
      "cell_type": "markdown",
      "metadata": {
        "id": "xp1qW79EBlBP"
      },
      "source": [
        "Сравним наши модели с константной моделью: любому объекту она прогнозирует класс «0»"
      ]
    },
    {
      "cell_type": "code",
      "metadata": {
        "id": "NC3pohwIBlBP",
        "outputId": "3c0e721f-46c7-439b-d378-447bfb4fbb02"
      },
      "source": [
        "target_const = target*0\n",
        "acc_const = accuracy_score(target, target_const)\n",
        "\n",
        "\n",
        "print(\"Accuracy\")\n",
        "print(\"Константа:\", acc_const)\n"
      ],
      "execution_count": null,
      "outputs": [
        {
          "output_type": "stream",
          "text": [
            "Accuracy\n",
            "Константа: 0.7963\n"
          ],
          "name": "stdout"
        }
      ]
    },
    {
      "cell_type": "markdown",
      "metadata": {
        "id": "scJ2haACBlBP"
      },
      "source": [
        "Случайный лес и Catboost прошли проверку на адекватность. Правильность наших моделей выше, чем у случайной. Также мы смотрели ROC-AUC на валидации, наши модели показывали результаты лучше."
      ]
    },
    {
      "cell_type": "markdown",
      "metadata": {
        "id": "OFPbTUxRBlBQ"
      },
      "source": [
        "## Вывод"
      ]
    },
    {
      "cell_type": "markdown",
      "metadata": {
        "id": "5CrerqzrBlBQ"
      },
      "source": [
        "Нам были предоставлены исторические данные о поведении клиентов и расторжении договоров с банком. На основе этих данных мы сформировали признаки для обучения модели с целью прогнозирования оттока клиентов. Лучших результатов мы достигли с моделью на основе алгоритма Случайного леса - F1 мера - `0.63`. \n",
        "\n",
        "На основе проведенного анализа (на примере лучшей модели):"
      ]
    },
    {
      "cell_type": "code",
      "metadata": {
        "id": "26vScDkKBlBQ",
        "outputId": "256d5f2c-171c-4bfe-9020-06e2e7fdeb21"
      },
      "source": [
        "fi.sort_values('fi',ascending=False).reset_index(drop=True).head()"
      ],
      "execution_count": null,
      "outputs": [
        {
          "output_type": "execute_result",
          "data": {
            "text/html": [
              "<div>\n",
              "<style scoped>\n",
              "    .dataframe tbody tr th:only-of-type {\n",
              "        vertical-align: middle;\n",
              "    }\n",
              "\n",
              "    .dataframe tbody tr th {\n",
              "        vertical-align: top;\n",
              "    }\n",
              "\n",
              "    .dataframe thead th {\n",
              "        text-align: right;\n",
              "    }\n",
              "</style>\n",
              "<table border=\"1\" class=\"dataframe\">\n",
              "  <thead>\n",
              "    <tr style=\"text-align: right;\">\n",
              "      <th></th>\n",
              "      <th>name</th>\n",
              "      <th>fi</th>\n",
              "    </tr>\n",
              "  </thead>\n",
              "  <tbody>\n",
              "    <tr>\n",
              "      <td>0</td>\n",
              "      <td>age</td>\n",
              "      <td>0.264584</td>\n",
              "    </tr>\n",
              "    <tr>\n",
              "      <td>1</td>\n",
              "      <td>estimated_salary</td>\n",
              "      <td>0.165256</td>\n",
              "    </tr>\n",
              "    <tr>\n",
              "      <td>2</td>\n",
              "      <td>balance</td>\n",
              "      <td>0.155467</td>\n",
              "    </tr>\n",
              "    <tr>\n",
              "      <td>3</td>\n",
              "      <td>creditscore</td>\n",
              "      <td>0.154553</td>\n",
              "    </tr>\n",
              "    <tr>\n",
              "      <td>4</td>\n",
              "      <td>num_of_products</td>\n",
              "      <td>0.138757</td>\n",
              "    </tr>\n",
              "  </tbody>\n",
              "</table>\n",
              "</div>"
            ],
            "text/plain": [
              "               name        fi\n",
              "0               age  0.264584\n",
              "1  estimated_salary  0.165256\n",
              "2           balance  0.155467\n",
              "3       creditscore  0.154553\n",
              "4   num_of_products  0.138757"
            ]
          },
          "metadata": {
            "tags": []
          },
          "execution_count": 71
        }
      ]
    },
    {
      "cell_type": "markdown",
      "metadata": {
        "id": "DROEiUOMBlBQ"
      },
      "source": [
        "Самые важные признаки, на которые стоит обратить внимание: \n",
        "\n",
        " - возраст клиента\n",
        " - кредитный скор\n",
        " - ожидаемая прибыль\n",
        " - баланс на счете\n",
        " - количество продуктов\n",
        " \n",
        " \n",
        " Для прогнозирования оттока, можно использовать модель на основе алгоритма Случайного леса\n"
      ]
    }
  ]
}