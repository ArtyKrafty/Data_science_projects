{
  "nbformat": 4,
  "nbformat_minor": 0,
  "metadata": {
    "kernelspec": {
      "display_name": "Python 3",
      "language": "python",
      "name": "python3"
    },
    "language_info": {
      "codemirror_mode": {
        "name": "ipython",
        "version": 3
      },
      "file_extension": ".py",
      "mimetype": "text/x-python",
      "name": "python",
      "nbconvert_exporter": "python",
      "pygments_lexer": "ipython3",
      "version": "3.7.8"
    },
    "toc": {
      "base_numbering": 1,
      "nav_menu": {},
      "number_sections": true,
      "sideBar": true,
      "skip_h1_title": true,
      "title_cell": "Содержание",
      "title_sidebar": "Содержание",
      "toc_cell": true,
      "toc_position": {
        "height": "calc(100% - 180px)",
        "left": "10px",
        "top": "150px",
        "width": "270.391px"
      },
      "toc_section_display": true,
      "toc_window_display": false
    },
    "colab": {
      "name": "geo_data.ipynb",
      "provenance": [],
      "collapsed_sections": []
    }
  },
  "cells": [
    {
      "cell_type": "markdown",
      "metadata": {
        "id": "JOzExNyvS60k"
      },
      "source": [
        "# Выбор локации для скважины"
      ]
    },
    {
      "cell_type": "markdown",
      "metadata": {
        "id": "OHLsx4aiS60k"
      },
      "source": [
        "![](https://i.ibb.co/L9xzghV/thumbs-b-c-aa4c409904c3cff6ed60747c8e617e94.jpg)  \n",
        "\n",
        "\n",
        "\n",
        "\n",
        "Нам предоставлены пробы нефти в трёх регионах: в каждом 10 000 месторождений, где измерили качество нефти и объём её запасов.  \n",
        "Необходимо построить модель машинного обучения, которая поможет определить регион, где добыча принесёт наибольшую прибыль, а также проанализируйте возможную прибыль и риски техникой *Bootstrap.*\n",
        "\n",
        "Шаги для выбора локации:\n",
        "\n",
        "- В избранном регионе ищут месторождения, для каждого определяют значения признаков;\n",
        "- Строят модель и оценивают объём запасов;\n",
        "- Выбирают месторождения с самым высокими оценками значений. Количество месторождений зависит от бюджета компании и стоимости разработки одной скважины;\n",
        "- Прибыль равна суммарной прибыли отобранных месторождений."
      ]
    },
    {
      "cell_type": "markdown",
      "metadata": {
        "id": "o1YAjUwqS60l"
      },
      "source": [
        "*Примечание*:  \n",
        "\n",
        "- *Для обучения модели подходит только линейная регрессия (остальные — недостаточно предсказуемые).*\n",
        "- *При разведке региона исследуют 500 точек, из которых с помощью машинного обучения выбирают 200 лучших для разработки.*\n",
        "- *Бюджет на разработку скважин в регионе — 10 млрд рублей.*\n",
        "- *При нынешних ценах один баррель сырья приносит 450 рублей дохода. Доход с каждой единицы продукта составляет 450 тыс. рублей, поскольку объём указан в тысячах баррелей.*\n",
        "- *После оценки рисков нужно оставить лишь те регионы, в которых вероятность убытков меньше 2.5%. Среди них выбирают регион с наибольшей средней прибылью.*\n",
        "- *Данные синтетические: детали контрактов и характеристики месторождений не разглашаются.*"
      ]
    },
    {
      "cell_type": "markdown",
      "metadata": {
        "id": "BH8KGUMiS60l"
      },
      "source": [
        "<footer id=\"footer\"></footer>"
      ]
    },
    {
      "cell_type": "markdown",
      "metadata": {
        "toc": true,
        "id": "Bx4jCUdQS60m"
      },
      "source": [
        "<h1>Содержание<span class=\"tocSkip\"></span></h1>\n",
        "</a></span></li></ul></li><li><span><a href=\"#Общая-информация-о-данных-в-работе-и-предварительный-осмотр\" data-toc-modified-id=\"Общая-информация-о-данных-в-работе-и-предварительный-осмотр-1\"><span class=\"toc-item-num\">1&nbsp;&nbsp;</span>Общая информация о данных в работе и предварительный осмотр</a></span><ul class=\"toc-item\"><li><span><a href=\"#Импорт-необходимых-библиотек\" data-toc-modified-id=\"Импорт-необходимых-библиотек-1.1\"><span class=\"toc-item-num\">1.1&nbsp;&nbsp;</span>Импорт необходимых библиотек</a></span></li><li><span><a href=\"#Изучение-сетов-данных\" data-toc-modified-id=\"Изучение-сетов-данных-1.2\"><span class=\"toc-item-num\">1.2&nbsp;&nbsp;</span>Изучение сетов данных</a></span></li><li><span><a href=\"#Общая-статистика-данных-и-проверка-на-уникальные-значения-и-дубликаты\" data-toc-modified-id=\"Общая-статистика-данных-и-проверка-на-уникальные-значения-и-дубликаты-1.3\"><span class=\"toc-item-num\">1.3&nbsp;&nbsp;</span>Общая статистика данных и проверка на уникальные значения и дубликаты</a></span><ul class=\"toc-item\"><li><span><a href=\"#Общая-статистика\" data-toc-modified-id=\"Общая-статистика-1.3.1\"><span class=\"toc-item-num\">1.3.1&nbsp;&nbsp;</span>Общая статистика</a></span></li><li><span><a href=\"#Проверка-дубликатов-и-уникальных-значений\" data-toc-modified-id=\"Проверка-дубликатов-и-уникальных-значений-1.3.2\"><span class=\"toc-item-num\">1.3.2&nbsp;&nbsp;</span>Проверка дубликатов и уникальных значений</a></span><ul class=\"toc-item\"><li><span><a href=\"#Регион-1\" data-toc-modified-id=\"Регион-1-1.3.2.1\"><span class=\"toc-item-num\">1.3.2.1&nbsp;&nbsp;</span>Регион 1</a></span></li><li><span><a href=\"#Регион-2\" data-toc-modified-id=\"Регион-2-1.3.2.2\"><span class=\"toc-item-num\">1.3.2.2&nbsp;&nbsp;</span>Регион 2</a></span></li><li><span><a href=\"#Регион-3\" data-toc-modified-id=\"Регион-3-1.3.2.3\"><span class=\"toc-item-num\">1.3.2.3&nbsp;&nbsp;</span>Регион 3</a></span></li></ul></li></ul></li><li><span><a href=\"#Удаление-столбцов-и-подготовка-данных\" data-toc-modified-id=\"Удаление-столбцов-и-подготовка-данных-1.4\"><span class=\"toc-item-num\">1.4&nbsp;&nbsp;</span>Удаление столбцов и подготовка данных</a></span></li><li><span><a href=\"#Вывод\" data-toc-modified-id=\"Вывод-1.5\"><span class=\"toc-item-num\">1.5&nbsp;&nbsp;</span>Вывод</a></span></li></ul></li><li><span><a href=\"#Обучение-и-проверка-модели\" data-toc-modified-id=\"Обучение-и-проверка-модели-2\"><span class=\"toc-item-num\">2&nbsp;&nbsp;</span>Обучение и проверка модели</a></span><ul class=\"toc-item\"><li><span><a href=\"#Регион-1\" data-toc-modified-id=\"Регион-1-2.1\"><span class=\"toc-item-num\">2.1&nbsp;&nbsp;</span>Регион 1</a></span></li><li><span><a href=\"#Регион-2\" data-toc-modified-id=\"Регион-2-2.2\"><span class=\"toc-item-num\">2.2&nbsp;&nbsp;</span>Регион 2</a></span></li><li><span><a href=\"#Регион-3\" data-toc-modified-id=\"Регион-3-2.3\"><span class=\"toc-item-num\">2.3&nbsp;&nbsp;</span>Регион 3</a></span></li><li><span><a href=\"#Вывод\" data-toc-modified-id=\"Вывод-2.4\"><span class=\"toc-item-num\">2.4&nbsp;&nbsp;</span>Вывод</a></span></li></ul></li><li><span><a href=\"#Подготовка-к-расчёту-прибыли\" data-toc-modified-id=\"Подготовка-к-расчёту-прибыли-3\"><span class=\"toc-item-num\">3&nbsp;&nbsp;</span>Подготовка к расчёту прибыли</a></span><ul class=\"toc-item\"><li><span><a href=\"#Назначение-переменных-для-ключевых-параметров\" data-toc-modified-id=\"Назначение-переменных-для-ключевых-параметров-3.1\"><span class=\"toc-item-num\">3.1&nbsp;&nbsp;</span>Назначение переменных для ключевых параметров</a></span></li><li><span><a href=\"#Вывод\" data-toc-modified-id=\"Вывод-3.2\"><span class=\"toc-item-num\">3.2&nbsp;&nbsp;</span>Вывод</a></span></li></ul></li><li><span><a href=\"#Расчёт-прибыли-и-рисков\" data-toc-modified-id=\"Расчёт-прибыли-и-рисков-4\"><span class=\"toc-item-num\">4&nbsp;&nbsp;</span>Расчёт прибыли и рисков</a></span><ul class=\"toc-item\"><li><span><a href=\"#Рассчет-прибыли-на-основе-прогнозов-модели\" data-toc-modified-id=\"Рассчет-прибыли-на-основе-прогнозов-модели-4.1\"><span class=\"toc-item-num\">4.1&nbsp;&nbsp;</span>Рассчет прибыли на основе прогнозов модели</a></span></li></ul></li><li><span><a href=\"#Рассчет-рисков-и-прибыль-для-каждого-региона\" data-toc-modified-id=\"Рассчет-рисков-и-прибыль-для-каждого-региона-5\"><span class=\"toc-item-num\">5&nbsp;&nbsp;</span>Рассчет рисков и прибыль для каждого региона</a></span><ul class=\"toc-item\"><li><span><a href=\"#Регион-1\" data-toc-modified-id=\"Регион-1-5.1\"><span class=\"toc-item-num\">5.1&nbsp;&nbsp;</span>Регион 1</a></span></li><li><span><a href=\"#Регион-2\" data-toc-modified-id=\"Регион-2-5.2\"><span class=\"toc-item-num\">5.2&nbsp;&nbsp;</span>Регион 2</a></span></li><li><span><a href=\"#Регион-3\" data-toc-modified-id=\"Регион-3-5.3\"><span class=\"toc-item-num\">5.3&nbsp;&nbsp;</span>Регион 3</a></span></li></ul></li><li><span><a href=\"#Вывод\" data-toc-modified-id=\"Вывод-6\"><span class=\"toc-item-num\">6&nbsp;&nbsp;</span>Вывод</a></span></li><li><span><a href=\"#Чек-лист-готовности-проекта\" data-toc-modified-id=\"Чек-лист-готовности-проекта-7\"><span class=\"toc-item-num\">7&nbsp;&nbsp;</span>Чек-лист готовности проекта</a></span></li></ul></div>"
      ]
    },
    {
      "cell_type": "markdown",
      "metadata": {
        "id": "3xbMc1vgS60n"
      },
      "source": [
        "## Общая информация о данных в работе и предварительный осмотр"
      ]
    },
    {
      "cell_type": "code",
      "metadata": {
        "colab": {
          "base_uri": "https://localhost:8080/"
        },
        "id": "7z9RLa-lTiqu",
        "outputId": "52659cf5-bb2f-4728-e78f-bb5ed2a6bd4b"
      },
      "source": [
        "!gdown --id 1QbvD4L9NWAXq116HgjwLnnndqKkoNaht\n",
        "!gdown --id 1n__DBE4TdLuDCSSh0qujRxuVg37sTMuH\n",
        "!gdown --id 1sRH6QWyVOixJ6sPaGxi_q971ecJ36YP3"
      ],
      "execution_count": 1,
      "outputs": [
        {
          "output_type": "stream",
          "text": [
            "Downloading...\n",
            "From: https://drive.google.com/uc?id=1QbvD4L9NWAXq116HgjwLnnndqKkoNaht\n",
            "To: /content/geo_data_0.csv\n",
            "8.21MB [00:00, 128MB/s]\n",
            "Downloading...\n",
            "From: https://drive.google.com/uc?id=1n__DBE4TdLuDCSSh0qujRxuVg37sTMuH\n",
            "To: /content/geo_data_1.csv\n",
            "8.03MB [00:00, 70.2MB/s]\n",
            "Downloading...\n",
            "From: https://drive.google.com/uc?id=1sRH6QWyVOixJ6sPaGxi_q971ecJ36YP3\n",
            "To: /content/geo_data_2.csv\n",
            "8.19MB [00:00, 71.4MB/s]\n"
          ],
          "name": "stdout"
        }
      ]
    },
    {
      "cell_type": "markdown",
      "metadata": {
        "id": "jwz5JmL7S60n"
      },
      "source": [
        "### Импорт необходимых библиотек"
      ]
    },
    {
      "cell_type": "code",
      "metadata": {
        "id": "VlK4NVYES60n"
      },
      "source": [
        "import pandas as pd\n",
        "import numpy as np\n",
        "%matplotlib inline\n",
        "import matplotlib.pyplot as plt\n",
        "import seaborn as sns\n",
        "sns.set_style(\"darkgrid\")\n",
        "from sklearn.linear_model import LinearRegression\n",
        "from sklearn.metrics import mean_squared_error, mean_absolute_error, r2_score\n",
        "from sklearn.model_selection import train_test_split, GridSearchCV\n",
        "from scipy import stats as st\n",
        "import warnings\n",
        "warnings.filterwarnings(\"ignore\")"
      ],
      "execution_count": 2,
      "outputs": []
    },
    {
      "cell_type": "markdown",
      "metadata": {
        "id": "HPVo95NTS60o"
      },
      "source": [
        "<a href=\"#footer\">К содержанию</a>\n",
        "\n",
        "<footer id=\"footer\"></footer>"
      ]
    },
    {
      "cell_type": "markdown",
      "metadata": {
        "id": "cxB8JgEoS60o"
      },
      "source": [
        "### Изучение сетов данных"
      ]
    },
    {
      "cell_type": "code",
      "metadata": {
        "id": "VapxE5CyS60o"
      },
      "source": [
        "reg_1 = pd.read_csv('/content/geo_data_0.csv')\n",
        "reg_2 = pd.read_csv('/content/geo_data_1.csv')\n",
        "reg_3 = pd.read_csv('/content/geo_data_2.csv')"
      ],
      "execution_count": 3,
      "outputs": []
    },
    {
      "cell_type": "code",
      "metadata": {
        "colab": {
          "base_uri": "https://localhost:8080/",
          "height": 204
        },
        "id": "9PRiEqE4S60o",
        "outputId": "e8a71183-f229-4cd6-e1f2-aa3e03c6f59e"
      },
      "source": [
        "reg_1.head()"
      ],
      "execution_count": 4,
      "outputs": [
        {
          "output_type": "execute_result",
          "data": {
            "text/html": [
              "<div>\n",
              "<style scoped>\n",
              "    .dataframe tbody tr th:only-of-type {\n",
              "        vertical-align: middle;\n",
              "    }\n",
              "\n",
              "    .dataframe tbody tr th {\n",
              "        vertical-align: top;\n",
              "    }\n",
              "\n",
              "    .dataframe thead th {\n",
              "        text-align: right;\n",
              "    }\n",
              "</style>\n",
              "<table border=\"1\" class=\"dataframe\">\n",
              "  <thead>\n",
              "    <tr style=\"text-align: right;\">\n",
              "      <th></th>\n",
              "      <th>id</th>\n",
              "      <th>f0</th>\n",
              "      <th>f1</th>\n",
              "      <th>f2</th>\n",
              "      <th>product</th>\n",
              "    </tr>\n",
              "  </thead>\n",
              "  <tbody>\n",
              "    <tr>\n",
              "      <th>0</th>\n",
              "      <td>txEyH</td>\n",
              "      <td>0.705745</td>\n",
              "      <td>-0.497823</td>\n",
              "      <td>1.221170</td>\n",
              "      <td>105.280062</td>\n",
              "    </tr>\n",
              "    <tr>\n",
              "      <th>1</th>\n",
              "      <td>2acmU</td>\n",
              "      <td>1.334711</td>\n",
              "      <td>-0.340164</td>\n",
              "      <td>4.365080</td>\n",
              "      <td>73.037750</td>\n",
              "    </tr>\n",
              "    <tr>\n",
              "      <th>2</th>\n",
              "      <td>409Wp</td>\n",
              "      <td>1.022732</td>\n",
              "      <td>0.151990</td>\n",
              "      <td>1.419926</td>\n",
              "      <td>85.265647</td>\n",
              "    </tr>\n",
              "    <tr>\n",
              "      <th>3</th>\n",
              "      <td>iJLyR</td>\n",
              "      <td>-0.032172</td>\n",
              "      <td>0.139033</td>\n",
              "      <td>2.978566</td>\n",
              "      <td>168.620776</td>\n",
              "    </tr>\n",
              "    <tr>\n",
              "      <th>4</th>\n",
              "      <td>Xdl7t</td>\n",
              "      <td>1.988431</td>\n",
              "      <td>0.155413</td>\n",
              "      <td>4.751769</td>\n",
              "      <td>154.036647</td>\n",
              "    </tr>\n",
              "  </tbody>\n",
              "</table>\n",
              "</div>"
            ],
            "text/plain": [
              "      id        f0        f1        f2     product\n",
              "0  txEyH  0.705745 -0.497823  1.221170  105.280062\n",
              "1  2acmU  1.334711 -0.340164  4.365080   73.037750\n",
              "2  409Wp  1.022732  0.151990  1.419926   85.265647\n",
              "3  iJLyR -0.032172  0.139033  2.978566  168.620776\n",
              "4  Xdl7t  1.988431  0.155413  4.751769  154.036647"
            ]
          },
          "metadata": {
            "tags": []
          },
          "execution_count": 4
        }
      ]
    },
    {
      "cell_type": "code",
      "metadata": {
        "colab": {
          "base_uri": "https://localhost:8080/"
        },
        "id": "jAUJtZUeS60p",
        "outputId": "be9f8512-5abd-4a08-cf61-932840067eb3"
      },
      "source": [
        "reg_1.info()"
      ],
      "execution_count": 5,
      "outputs": [
        {
          "output_type": "stream",
          "text": [
            "<class 'pandas.core.frame.DataFrame'>\n",
            "RangeIndex: 100000 entries, 0 to 99999\n",
            "Data columns (total 5 columns):\n",
            " #   Column   Non-Null Count   Dtype  \n",
            "---  ------   --------------   -----  \n",
            " 0   id       100000 non-null  object \n",
            " 1   f0       100000 non-null  float64\n",
            " 2   f1       100000 non-null  float64\n",
            " 3   f2       100000 non-null  float64\n",
            " 4   product  100000 non-null  float64\n",
            "dtypes: float64(4), object(1)\n",
            "memory usage: 3.8+ MB\n"
          ],
          "name": "stdout"
        }
      ]
    },
    {
      "cell_type": "markdown",
      "metadata": {
        "id": "fJhL6iztS60p"
      },
      "source": [
        "В данных первого региона не наблюдаем пропусков и проблем с типами данных"
      ]
    },
    {
      "cell_type": "code",
      "metadata": {
        "colab": {
          "base_uri": "https://localhost:8080/",
          "height": 204
        },
        "id": "Iu_nb1vXS60p",
        "outputId": "71a7f2af-2c84-4ab3-f3a7-51d6912e059b"
      },
      "source": [
        "reg_2.head()"
      ],
      "execution_count": 6,
      "outputs": [
        {
          "output_type": "execute_result",
          "data": {
            "text/html": [
              "<div>\n",
              "<style scoped>\n",
              "    .dataframe tbody tr th:only-of-type {\n",
              "        vertical-align: middle;\n",
              "    }\n",
              "\n",
              "    .dataframe tbody tr th {\n",
              "        vertical-align: top;\n",
              "    }\n",
              "\n",
              "    .dataframe thead th {\n",
              "        text-align: right;\n",
              "    }\n",
              "</style>\n",
              "<table border=\"1\" class=\"dataframe\">\n",
              "  <thead>\n",
              "    <tr style=\"text-align: right;\">\n",
              "      <th></th>\n",
              "      <th>id</th>\n",
              "      <th>f0</th>\n",
              "      <th>f1</th>\n",
              "      <th>f2</th>\n",
              "      <th>product</th>\n",
              "    </tr>\n",
              "  </thead>\n",
              "  <tbody>\n",
              "    <tr>\n",
              "      <th>0</th>\n",
              "      <td>kBEdx</td>\n",
              "      <td>-15.001348</td>\n",
              "      <td>-8.276000</td>\n",
              "      <td>-0.005876</td>\n",
              "      <td>3.179103</td>\n",
              "    </tr>\n",
              "    <tr>\n",
              "      <th>1</th>\n",
              "      <td>62mP7</td>\n",
              "      <td>14.272088</td>\n",
              "      <td>-3.475083</td>\n",
              "      <td>0.999183</td>\n",
              "      <td>26.953261</td>\n",
              "    </tr>\n",
              "    <tr>\n",
              "      <th>2</th>\n",
              "      <td>vyE1P</td>\n",
              "      <td>6.263187</td>\n",
              "      <td>-5.948386</td>\n",
              "      <td>5.001160</td>\n",
              "      <td>134.766305</td>\n",
              "    </tr>\n",
              "    <tr>\n",
              "      <th>3</th>\n",
              "      <td>KcrkZ</td>\n",
              "      <td>-13.081196</td>\n",
              "      <td>-11.506057</td>\n",
              "      <td>4.999415</td>\n",
              "      <td>137.945408</td>\n",
              "    </tr>\n",
              "    <tr>\n",
              "      <th>4</th>\n",
              "      <td>AHL4O</td>\n",
              "      <td>12.702195</td>\n",
              "      <td>-8.147433</td>\n",
              "      <td>5.004363</td>\n",
              "      <td>134.766305</td>\n",
              "    </tr>\n",
              "  </tbody>\n",
              "</table>\n",
              "</div>"
            ],
            "text/plain": [
              "      id         f0         f1        f2     product\n",
              "0  kBEdx -15.001348  -8.276000 -0.005876    3.179103\n",
              "1  62mP7  14.272088  -3.475083  0.999183   26.953261\n",
              "2  vyE1P   6.263187  -5.948386  5.001160  134.766305\n",
              "3  KcrkZ -13.081196 -11.506057  4.999415  137.945408\n",
              "4  AHL4O  12.702195  -8.147433  5.004363  134.766305"
            ]
          },
          "metadata": {
            "tags": []
          },
          "execution_count": 6
        }
      ]
    },
    {
      "cell_type": "code",
      "metadata": {
        "colab": {
          "base_uri": "https://localhost:8080/"
        },
        "id": "aSwyQAK6S60q",
        "outputId": "fd387741-5539-4df8-9808-9b5d87c68dd0"
      },
      "source": [
        "reg_2.info()"
      ],
      "execution_count": 7,
      "outputs": [
        {
          "output_type": "stream",
          "text": [
            "<class 'pandas.core.frame.DataFrame'>\n",
            "RangeIndex: 100000 entries, 0 to 99999\n",
            "Data columns (total 5 columns):\n",
            " #   Column   Non-Null Count   Dtype  \n",
            "---  ------   --------------   -----  \n",
            " 0   id       100000 non-null  object \n",
            " 1   f0       100000 non-null  float64\n",
            " 2   f1       100000 non-null  float64\n",
            " 3   f2       100000 non-null  float64\n",
            " 4   product  100000 non-null  float64\n",
            "dtypes: float64(4), object(1)\n",
            "memory usage: 3.8+ MB\n"
          ],
          "name": "stdout"
        }
      ]
    },
    {
      "cell_type": "markdown",
      "metadata": {
        "id": "2Oh2WzV5S60q"
      },
      "source": [
        "В данных второго региона не наблюдаем пропусков и проблем с типами данных"
      ]
    },
    {
      "cell_type": "code",
      "metadata": {
        "colab": {
          "base_uri": "https://localhost:8080/",
          "height": 204
        },
        "id": "VFs6KzuKS60q",
        "outputId": "3d964fec-d495-4f13-9592-c54637ce1edc"
      },
      "source": [
        "reg_3.head()"
      ],
      "execution_count": 8,
      "outputs": [
        {
          "output_type": "execute_result",
          "data": {
            "text/html": [
              "<div>\n",
              "<style scoped>\n",
              "    .dataframe tbody tr th:only-of-type {\n",
              "        vertical-align: middle;\n",
              "    }\n",
              "\n",
              "    .dataframe tbody tr th {\n",
              "        vertical-align: top;\n",
              "    }\n",
              "\n",
              "    .dataframe thead th {\n",
              "        text-align: right;\n",
              "    }\n",
              "</style>\n",
              "<table border=\"1\" class=\"dataframe\">\n",
              "  <thead>\n",
              "    <tr style=\"text-align: right;\">\n",
              "      <th></th>\n",
              "      <th>id</th>\n",
              "      <th>f0</th>\n",
              "      <th>f1</th>\n",
              "      <th>f2</th>\n",
              "      <th>product</th>\n",
              "    </tr>\n",
              "  </thead>\n",
              "  <tbody>\n",
              "    <tr>\n",
              "      <th>0</th>\n",
              "      <td>fwXo0</td>\n",
              "      <td>-1.146987</td>\n",
              "      <td>0.963328</td>\n",
              "      <td>-0.828965</td>\n",
              "      <td>27.758673</td>\n",
              "    </tr>\n",
              "    <tr>\n",
              "      <th>1</th>\n",
              "      <td>WJtFt</td>\n",
              "      <td>0.262778</td>\n",
              "      <td>0.269839</td>\n",
              "      <td>-2.530187</td>\n",
              "      <td>56.069697</td>\n",
              "    </tr>\n",
              "    <tr>\n",
              "      <th>2</th>\n",
              "      <td>ovLUW</td>\n",
              "      <td>0.194587</td>\n",
              "      <td>0.289035</td>\n",
              "      <td>-5.586433</td>\n",
              "      <td>62.871910</td>\n",
              "    </tr>\n",
              "    <tr>\n",
              "      <th>3</th>\n",
              "      <td>q6cA6</td>\n",
              "      <td>2.236060</td>\n",
              "      <td>-0.553760</td>\n",
              "      <td>0.930038</td>\n",
              "      <td>114.572842</td>\n",
              "    </tr>\n",
              "    <tr>\n",
              "      <th>4</th>\n",
              "      <td>WPMUX</td>\n",
              "      <td>-0.515993</td>\n",
              "      <td>1.716266</td>\n",
              "      <td>5.899011</td>\n",
              "      <td>149.600746</td>\n",
              "    </tr>\n",
              "  </tbody>\n",
              "</table>\n",
              "</div>"
            ],
            "text/plain": [
              "      id        f0        f1        f2     product\n",
              "0  fwXo0 -1.146987  0.963328 -0.828965   27.758673\n",
              "1  WJtFt  0.262778  0.269839 -2.530187   56.069697\n",
              "2  ovLUW  0.194587  0.289035 -5.586433   62.871910\n",
              "3  q6cA6  2.236060 -0.553760  0.930038  114.572842\n",
              "4  WPMUX -0.515993  1.716266  5.899011  149.600746"
            ]
          },
          "metadata": {
            "tags": []
          },
          "execution_count": 8
        }
      ]
    },
    {
      "cell_type": "code",
      "metadata": {
        "colab": {
          "base_uri": "https://localhost:8080/"
        },
        "id": "4gyw53m7S60q",
        "outputId": "89522edf-1bca-4b26-db2c-e9e1a10b8ae1"
      },
      "source": [
        "reg_3.info()"
      ],
      "execution_count": 9,
      "outputs": [
        {
          "output_type": "stream",
          "text": [
            "<class 'pandas.core.frame.DataFrame'>\n",
            "RangeIndex: 100000 entries, 0 to 99999\n",
            "Data columns (total 5 columns):\n",
            " #   Column   Non-Null Count   Dtype  \n",
            "---  ------   --------------   -----  \n",
            " 0   id       100000 non-null  object \n",
            " 1   f0       100000 non-null  float64\n",
            " 2   f1       100000 non-null  float64\n",
            " 3   f2       100000 non-null  float64\n",
            " 4   product  100000 non-null  float64\n",
            "dtypes: float64(4), object(1)\n",
            "memory usage: 3.8+ MB\n"
          ],
          "name": "stdout"
        }
      ]
    },
    {
      "cell_type": "markdown",
      "metadata": {
        "id": "YdhQ89AvS60q"
      },
      "source": [
        "В данных третьего региона не наблюдаем пропусков и проблем с типами данных"
      ]
    },
    {
      "cell_type": "markdown",
      "metadata": {
        "id": "eJZerlArS60q"
      },
      "source": [
        "`id` — уникальный идентификатор скважины;  \n",
        "`f0`, `f1`, `f2` — три признака точек;  \n",
        "`product` — объём запасов в скважине (тыс. баррелей)."
      ]
    },
    {
      "cell_type": "markdown",
      "metadata": {
        "id": "0IEgtE3ES60q"
      },
      "source": [
        "<a href=\"#footer\">К содержанию</a>\n",
        "\n",
        "<footer id=\"footer\"></footer>"
      ]
    },
    {
      "cell_type": "markdown",
      "metadata": {
        "id": "X3wavhGhS60r"
      },
      "source": [
        "### Общая статистика данных и проверка на уникальные значения и дубликаты"
      ]
    },
    {
      "cell_type": "markdown",
      "metadata": {
        "id": "euRmE9FuS60r"
      },
      "source": [
        "#### Общая статистика"
      ]
    },
    {
      "cell_type": "code",
      "metadata": {
        "colab": {
          "base_uri": "https://localhost:8080/",
          "height": 173
        },
        "id": "N_cgn7WaS60r",
        "outputId": "0eeb5d79-85a2-4889-aa7b-5876f8f412a0"
      },
      "source": [
        "reg_1.describe().T"
      ],
      "execution_count": 10,
      "outputs": [
        {
          "output_type": "execute_result",
          "data": {
            "text/html": [
              "<div>\n",
              "<style scoped>\n",
              "    .dataframe tbody tr th:only-of-type {\n",
              "        vertical-align: middle;\n",
              "    }\n",
              "\n",
              "    .dataframe tbody tr th {\n",
              "        vertical-align: top;\n",
              "    }\n",
              "\n",
              "    .dataframe thead th {\n",
              "        text-align: right;\n",
              "    }\n",
              "</style>\n",
              "<table border=\"1\" class=\"dataframe\">\n",
              "  <thead>\n",
              "    <tr style=\"text-align: right;\">\n",
              "      <th></th>\n",
              "      <th>count</th>\n",
              "      <th>mean</th>\n",
              "      <th>std</th>\n",
              "      <th>min</th>\n",
              "      <th>25%</th>\n",
              "      <th>50%</th>\n",
              "      <th>75%</th>\n",
              "      <th>max</th>\n",
              "    </tr>\n",
              "  </thead>\n",
              "  <tbody>\n",
              "    <tr>\n",
              "      <th>f0</th>\n",
              "      <td>100000.0</td>\n",
              "      <td>0.500419</td>\n",
              "      <td>0.871832</td>\n",
              "      <td>-1.408605</td>\n",
              "      <td>-0.072580</td>\n",
              "      <td>0.502360</td>\n",
              "      <td>1.073581</td>\n",
              "      <td>2.362331</td>\n",
              "    </tr>\n",
              "    <tr>\n",
              "      <th>f1</th>\n",
              "      <td>100000.0</td>\n",
              "      <td>0.250143</td>\n",
              "      <td>0.504433</td>\n",
              "      <td>-0.848218</td>\n",
              "      <td>-0.200881</td>\n",
              "      <td>0.250252</td>\n",
              "      <td>0.700646</td>\n",
              "      <td>1.343769</td>\n",
              "    </tr>\n",
              "    <tr>\n",
              "      <th>f2</th>\n",
              "      <td>100000.0</td>\n",
              "      <td>2.502647</td>\n",
              "      <td>3.248248</td>\n",
              "      <td>-12.088328</td>\n",
              "      <td>0.287748</td>\n",
              "      <td>2.515969</td>\n",
              "      <td>4.715088</td>\n",
              "      <td>16.003790</td>\n",
              "    </tr>\n",
              "    <tr>\n",
              "      <th>product</th>\n",
              "      <td>100000.0</td>\n",
              "      <td>92.500000</td>\n",
              "      <td>44.288691</td>\n",
              "      <td>0.000000</td>\n",
              "      <td>56.497507</td>\n",
              "      <td>91.849972</td>\n",
              "      <td>128.564089</td>\n",
              "      <td>185.364347</td>\n",
              "    </tr>\n",
              "  </tbody>\n",
              "</table>\n",
              "</div>"
            ],
            "text/plain": [
              "            count       mean        std  ...        50%         75%         max\n",
              "f0       100000.0   0.500419   0.871832  ...   0.502360    1.073581    2.362331\n",
              "f1       100000.0   0.250143   0.504433  ...   0.250252    0.700646    1.343769\n",
              "f2       100000.0   2.502647   3.248248  ...   2.515969    4.715088   16.003790\n",
              "product  100000.0  92.500000  44.288691  ...  91.849972  128.564089  185.364347\n",
              "\n",
              "[4 rows x 8 columns]"
            ]
          },
          "metadata": {
            "tags": []
          },
          "execution_count": 10
        }
      ]
    },
    {
      "cell_type": "code",
      "metadata": {
        "colab": {
          "base_uri": "https://localhost:8080/",
          "height": 173
        },
        "id": "5Z4fNe-xS60r",
        "outputId": "dac8446f-5dc0-4ade-af2b-4c9bab116aba"
      },
      "source": [
        "reg_2.describe().T"
      ],
      "execution_count": 11,
      "outputs": [
        {
          "output_type": "execute_result",
          "data": {
            "text/html": [
              "<div>\n",
              "<style scoped>\n",
              "    .dataframe tbody tr th:only-of-type {\n",
              "        vertical-align: middle;\n",
              "    }\n",
              "\n",
              "    .dataframe tbody tr th {\n",
              "        vertical-align: top;\n",
              "    }\n",
              "\n",
              "    .dataframe thead th {\n",
              "        text-align: right;\n",
              "    }\n",
              "</style>\n",
              "<table border=\"1\" class=\"dataframe\">\n",
              "  <thead>\n",
              "    <tr style=\"text-align: right;\">\n",
              "      <th></th>\n",
              "      <th>count</th>\n",
              "      <th>mean</th>\n",
              "      <th>std</th>\n",
              "      <th>min</th>\n",
              "      <th>25%</th>\n",
              "      <th>50%</th>\n",
              "      <th>75%</th>\n",
              "      <th>max</th>\n",
              "    </tr>\n",
              "  </thead>\n",
              "  <tbody>\n",
              "    <tr>\n",
              "      <th>f0</th>\n",
              "      <td>100000.0</td>\n",
              "      <td>1.141296</td>\n",
              "      <td>8.965932</td>\n",
              "      <td>-31.609576</td>\n",
              "      <td>-6.298551</td>\n",
              "      <td>1.153055</td>\n",
              "      <td>8.621015</td>\n",
              "      <td>29.421755</td>\n",
              "    </tr>\n",
              "    <tr>\n",
              "      <th>f1</th>\n",
              "      <td>100000.0</td>\n",
              "      <td>-4.796579</td>\n",
              "      <td>5.119872</td>\n",
              "      <td>-26.358598</td>\n",
              "      <td>-8.267985</td>\n",
              "      <td>-4.813172</td>\n",
              "      <td>-1.332816</td>\n",
              "      <td>18.734063</td>\n",
              "    </tr>\n",
              "    <tr>\n",
              "      <th>f2</th>\n",
              "      <td>100000.0</td>\n",
              "      <td>2.494541</td>\n",
              "      <td>1.703572</td>\n",
              "      <td>-0.018144</td>\n",
              "      <td>1.000021</td>\n",
              "      <td>2.011479</td>\n",
              "      <td>3.999904</td>\n",
              "      <td>5.019721</td>\n",
              "    </tr>\n",
              "    <tr>\n",
              "      <th>product</th>\n",
              "      <td>100000.0</td>\n",
              "      <td>68.825000</td>\n",
              "      <td>45.944423</td>\n",
              "      <td>0.000000</td>\n",
              "      <td>26.953261</td>\n",
              "      <td>57.085625</td>\n",
              "      <td>107.813044</td>\n",
              "      <td>137.945408</td>\n",
              "    </tr>\n",
              "  </tbody>\n",
              "</table>\n",
              "</div>"
            ],
            "text/plain": [
              "            count       mean        std  ...        50%         75%         max\n",
              "f0       100000.0   1.141296   8.965932  ...   1.153055    8.621015   29.421755\n",
              "f1       100000.0  -4.796579   5.119872  ...  -4.813172   -1.332816   18.734063\n",
              "f2       100000.0   2.494541   1.703572  ...   2.011479    3.999904    5.019721\n",
              "product  100000.0  68.825000  45.944423  ...  57.085625  107.813044  137.945408\n",
              "\n",
              "[4 rows x 8 columns]"
            ]
          },
          "metadata": {
            "tags": []
          },
          "execution_count": 11
        }
      ]
    },
    {
      "cell_type": "code",
      "metadata": {
        "colab": {
          "base_uri": "https://localhost:8080/",
          "height": 173
        },
        "id": "IqwQ40hZS60r",
        "outputId": "40532db2-9649-49ed-cb22-89d70c505ea2"
      },
      "source": [
        "reg_3.describe().T"
      ],
      "execution_count": 12,
      "outputs": [
        {
          "output_type": "execute_result",
          "data": {
            "text/html": [
              "<div>\n",
              "<style scoped>\n",
              "    .dataframe tbody tr th:only-of-type {\n",
              "        vertical-align: middle;\n",
              "    }\n",
              "\n",
              "    .dataframe tbody tr th {\n",
              "        vertical-align: top;\n",
              "    }\n",
              "\n",
              "    .dataframe thead th {\n",
              "        text-align: right;\n",
              "    }\n",
              "</style>\n",
              "<table border=\"1\" class=\"dataframe\">\n",
              "  <thead>\n",
              "    <tr style=\"text-align: right;\">\n",
              "      <th></th>\n",
              "      <th>count</th>\n",
              "      <th>mean</th>\n",
              "      <th>std</th>\n",
              "      <th>min</th>\n",
              "      <th>25%</th>\n",
              "      <th>50%</th>\n",
              "      <th>75%</th>\n",
              "      <th>max</th>\n",
              "    </tr>\n",
              "  </thead>\n",
              "  <tbody>\n",
              "    <tr>\n",
              "      <th>f0</th>\n",
              "      <td>100000.0</td>\n",
              "      <td>0.002023</td>\n",
              "      <td>1.732045</td>\n",
              "      <td>-8.760004</td>\n",
              "      <td>-1.162288</td>\n",
              "      <td>0.009424</td>\n",
              "      <td>1.158535</td>\n",
              "      <td>7.238262</td>\n",
              "    </tr>\n",
              "    <tr>\n",
              "      <th>f1</th>\n",
              "      <td>100000.0</td>\n",
              "      <td>-0.002081</td>\n",
              "      <td>1.730417</td>\n",
              "      <td>-7.084020</td>\n",
              "      <td>-1.174820</td>\n",
              "      <td>-0.009482</td>\n",
              "      <td>1.163678</td>\n",
              "      <td>7.844801</td>\n",
              "    </tr>\n",
              "    <tr>\n",
              "      <th>f2</th>\n",
              "      <td>100000.0</td>\n",
              "      <td>2.495128</td>\n",
              "      <td>3.473445</td>\n",
              "      <td>-11.970335</td>\n",
              "      <td>0.130359</td>\n",
              "      <td>2.484236</td>\n",
              "      <td>4.858794</td>\n",
              "      <td>16.739402</td>\n",
              "    </tr>\n",
              "    <tr>\n",
              "      <th>product</th>\n",
              "      <td>100000.0</td>\n",
              "      <td>95.000000</td>\n",
              "      <td>44.749921</td>\n",
              "      <td>0.000000</td>\n",
              "      <td>59.450441</td>\n",
              "      <td>94.925613</td>\n",
              "      <td>130.595027</td>\n",
              "      <td>190.029838</td>\n",
              "    </tr>\n",
              "  </tbody>\n",
              "</table>\n",
              "</div>"
            ],
            "text/plain": [
              "            count       mean        std  ...        50%         75%         max\n",
              "f0       100000.0   0.002023   1.732045  ...   0.009424    1.158535    7.238262\n",
              "f1       100000.0  -0.002081   1.730417  ...  -0.009482    1.163678    7.844801\n",
              "f2       100000.0   2.495128   3.473445  ...   2.484236    4.858794   16.739402\n",
              "product  100000.0  95.000000  44.749921  ...  94.925613  130.595027  190.029838\n",
              "\n",
              "[4 rows x 8 columns]"
            ]
          },
          "metadata": {
            "tags": []
          },
          "execution_count": 12
        }
      ]
    },
    {
      "cell_type": "markdown",
      "metadata": {
        "id": "9C_DGiYsS60r"
      },
      "source": [
        "Общая статистика малоинформативна. Взглянем на значения признаков:  \n",
        "\n",
        "- `id` — уникальный идентификатор скважины;\n",
        "- `f0`, `f1`, `f2` — три признака точек (неизвестно, что они означают, но сами признаки значимы);\n",
        "- `product` — объём запасов в скважине (тыс. баррелей).\n",
        "\n",
        "Таким образом сказать имеет ли место быть аномалии или выборосы не представляется возможным, ведь мы не знаем какого рода атрибуты заложены в признаки `f0`, `f1`, `f2`, но однозначно можно сказать, что признак `id`в обучении моделей можно не использовать, так как он не несет полезной нагрузки и значимости"
      ]
    },
    {
      "cell_type": "markdown",
      "metadata": {
        "id": "_lcv2PbHS60s"
      },
      "source": [
        "Проведем тест Левена и рассмотрим различатся ли дисперсии наших выборок по признаку `product`. "
      ]
    },
    {
      "cell_type": "markdown",
      "metadata": {
        "id": "Xs2QHFztS60s"
      },
      "source": [
        "**Для первого региона и второго**:"
      ]
    },
    {
      "cell_type": "code",
      "metadata": {
        "colab": {
          "base_uri": "https://localhost:8080/"
        },
        "id": "neuBkarZS60s",
        "outputId": "09e7c368-70a0-4e6d-a631-e2d2b47e419d"
      },
      "source": [
        "sample_1 = reg_1['product']\n",
        "sample_2 = reg_2['product']\n",
        "\n",
        "alpha = .05\n",
        "stat, p = st.levene(sample_1, sample_2)\n",
        "result_levene = p\n",
        "\n",
        "# проведем тест Левена\n",
        "\n",
        "if result_levene < alpha:\n",
        "    print('Отвергаем Н0, дисперсии различаются')\n",
        "else:\n",
        "    print(\"Не отвергаем Н0, дисперсии не различаются\")\n",
        "\n",
        "var_sample = [np.var(x, ddof=1) for x in [sample_1, sample_2]]\n",
        "print('Дисперсии по выборкам: ', var_sample)"
      ],
      "execution_count": 13,
      "outputs": [
        {
          "output_type": "stream",
          "text": [
            "Отвергаем Н0, дисперсии различаются\n",
            "Дисперсии по выборкам:  [1961.4881626155943, 2110.8899951518642]\n"
          ],
          "name": "stdout"
        }
      ]
    },
    {
      "cell_type": "markdown",
      "metadata": {
        "id": "IZF8eSeWS60s"
      },
      "source": [
        "**Для первого региона и третьего:**"
      ]
    },
    {
      "cell_type": "code",
      "metadata": {
        "colab": {
          "base_uri": "https://localhost:8080/"
        },
        "id": "A_lpY9SFS60s",
        "outputId": "5574f245-e3d2-4e8c-a338-c33dbcc6c01f"
      },
      "source": [
        "sample_1 = reg_1['product']\n",
        "sample_3 = reg_3['product']\n",
        "\n",
        "alpha = .05\n",
        "stat, p = st.levene(sample_1, sample_3)\n",
        "result_levene = p\n",
        "\n",
        "# проведем тест Левена\n",
        "\n",
        "if result_levene < alpha:\n",
        "    print('Отвергаем Н0, дисперсии различаются')\n",
        "else:\n",
        "    print(\"Не отвергаем Н0, дисперсии не различаются\")\n",
        "\n",
        "var_sample = [np.var(x, ddof=1) for x in [sample_1, sample_3]]\n",
        "print('Дисперсии по выборкам: ', var_sample)"
      ],
      "execution_count": 14,
      "outputs": [
        {
          "output_type": "stream",
          "text": [
            "Не отвергаем Н0, дисперсии не различаются\n",
            "Дисперсии по выборкам:  [1961.4881626155943, 2002.5554356774542]\n"
          ],
          "name": "stdout"
        }
      ]
    },
    {
      "cell_type": "markdown",
      "metadata": {
        "id": "jd08zqG3S60s"
      },
      "source": [
        "**Для второго региона и третьего:**"
      ]
    },
    {
      "cell_type": "code",
      "metadata": {
        "colab": {
          "base_uri": "https://localhost:8080/"
        },
        "id": "E67DrKt1S60t",
        "outputId": "44702282-a155-47f1-fc91-20a68aa3a1ee"
      },
      "source": [
        "sample_2 = reg_2['product']\n",
        "sample_3 = reg_3['product']\n",
        "\n",
        "alpha = .05\n",
        "stat, p = st.levene(sample_2, sample_3)\n",
        "result_levene = p\n",
        "\n",
        "# проведем тест Левена\n",
        "\n",
        "if result_levene < alpha:\n",
        "    print('Отвергаем Н0, дисперсии различаются')\n",
        "else:\n",
        "    print(\"Не отвергаем Н0, дисперсии не различаются\")\n",
        "\n",
        "var_sample = [np.var(x, ddof=1) for x in [sample_2, sample_3]]\n",
        "print('Дисперсии по выборкам: ', var_sample)"
      ],
      "execution_count": 15,
      "outputs": [
        {
          "output_type": "stream",
          "text": [
            "Отвергаем Н0, дисперсии различаются\n",
            "Дисперсии по выборкам:  [2110.8899951518642, 2002.5554356774542]\n"
          ],
          "name": "stdout"
        }
      ]
    },
    {
      "cell_type": "markdown",
      "metadata": {
        "id": "lJqDJPETS60t"
      },
      "source": [
        "<a href=\"#footer\">К содержанию</a>\n",
        "\n",
        "<footer id=\"footer\"></footer>"
      ]
    },
    {
      "cell_type": "markdown",
      "metadata": {
        "id": "Z-jj8qWDS60t"
      },
      "source": [
        "#### Проверка дубликатов и уникальных значений"
      ]
    },
    {
      "cell_type": "code",
      "metadata": {
        "colab": {
          "base_uri": "https://localhost:8080/"
        },
        "id": "MDfm4lyDS60t",
        "outputId": "2ceae621-67f8-43b9-a639-e3c56bb7b7c0"
      },
      "source": [
        "print('Количество полных дубликатов объектов по региону 1:', reg_1.duplicated().sum())\n",
        "print('Количество полных дубликатов объектов по региону 2:', reg_2.duplicated().sum())\n",
        "print('Количество полных дубликатов объектов по региону 3:', reg_3.duplicated().sum())"
      ],
      "execution_count": 16,
      "outputs": [
        {
          "output_type": "stream",
          "text": [
            "Количество полных дубликатов объектов по региону 1: 0\n",
            "Количество полных дубликатов объектов по региону 2: 0\n",
            "Количество полных дубликатов объектов по региону 3: 0\n"
          ],
          "name": "stdout"
        }
      ]
    },
    {
      "cell_type": "markdown",
      "metadata": {
        "id": "sjvod2M0S60t"
      },
      "source": [
        "Дубликатов не обнаружено. Проверим количество уникальных значений для всех регионов"
      ]
    },
    {
      "cell_type": "code",
      "metadata": {
        "colab": {
          "base_uri": "https://localhost:8080/",
          "height": 204
        },
        "id": "Wy3x09pNS60t",
        "outputId": "d9d8bc06-bae3-48dd-915d-d0f6f3b8c638"
      },
      "source": [
        "reg_1.nunique().to_frame(name='Количество')"
      ],
      "execution_count": 17,
      "outputs": [
        {
          "output_type": "execute_result",
          "data": {
            "text/html": [
              "<div>\n",
              "<style scoped>\n",
              "    .dataframe tbody tr th:only-of-type {\n",
              "        vertical-align: middle;\n",
              "    }\n",
              "\n",
              "    .dataframe tbody tr th {\n",
              "        vertical-align: top;\n",
              "    }\n",
              "\n",
              "    .dataframe thead th {\n",
              "        text-align: right;\n",
              "    }\n",
              "</style>\n",
              "<table border=\"1\" class=\"dataframe\">\n",
              "  <thead>\n",
              "    <tr style=\"text-align: right;\">\n",
              "      <th></th>\n",
              "      <th>Количество</th>\n",
              "    </tr>\n",
              "  </thead>\n",
              "  <tbody>\n",
              "    <tr>\n",
              "      <th>id</th>\n",
              "      <td>99990</td>\n",
              "    </tr>\n",
              "    <tr>\n",
              "      <th>f0</th>\n",
              "      <td>100000</td>\n",
              "    </tr>\n",
              "    <tr>\n",
              "      <th>f1</th>\n",
              "      <td>100000</td>\n",
              "    </tr>\n",
              "    <tr>\n",
              "      <th>f2</th>\n",
              "      <td>100000</td>\n",
              "    </tr>\n",
              "    <tr>\n",
              "      <th>product</th>\n",
              "      <td>100000</td>\n",
              "    </tr>\n",
              "  </tbody>\n",
              "</table>\n",
              "</div>"
            ],
            "text/plain": [
              "         Количество\n",
              "id            99990\n",
              "f0           100000\n",
              "f1           100000\n",
              "f2           100000\n",
              "product      100000"
            ]
          },
          "metadata": {
            "tags": []
          },
          "execution_count": 17
        }
      ]
    },
    {
      "cell_type": "code",
      "metadata": {
        "colab": {
          "base_uri": "https://localhost:8080/"
        },
        "id": "6jKiQO7eS60u",
        "outputId": "8076a9fd-b413-4ee3-ad05-57aaf49737d6"
      },
      "source": [
        "print('Доля неуникальных значений признака `id`, в %:{}'.format(\n",
        "       ((reg_1['id'].count() - reg_1['id'].nunique())/reg_1['id'].count()))\n",
        "     )"
      ],
      "execution_count": 18,
      "outputs": [
        {
          "output_type": "stream",
          "text": [
            "Доля неуникальных значений признака `id`, в %:0.0001\n"
          ],
          "name": "stdout"
        }
      ]
    },
    {
      "cell_type": "code",
      "metadata": {
        "colab": {
          "base_uri": "https://localhost:8080/",
          "height": 204
        },
        "id": "6XeiiqhCS60u",
        "outputId": "bf7037cd-5a60-40cb-f71f-10dc61b51be5"
      },
      "source": [
        "reg_2.nunique().to_frame(name='Количество')"
      ],
      "execution_count": 19,
      "outputs": [
        {
          "output_type": "execute_result",
          "data": {
            "text/html": [
              "<div>\n",
              "<style scoped>\n",
              "    .dataframe tbody tr th:only-of-type {\n",
              "        vertical-align: middle;\n",
              "    }\n",
              "\n",
              "    .dataframe tbody tr th {\n",
              "        vertical-align: top;\n",
              "    }\n",
              "\n",
              "    .dataframe thead th {\n",
              "        text-align: right;\n",
              "    }\n",
              "</style>\n",
              "<table border=\"1\" class=\"dataframe\">\n",
              "  <thead>\n",
              "    <tr style=\"text-align: right;\">\n",
              "      <th></th>\n",
              "      <th>Количество</th>\n",
              "    </tr>\n",
              "  </thead>\n",
              "  <tbody>\n",
              "    <tr>\n",
              "      <th>id</th>\n",
              "      <td>99996</td>\n",
              "    </tr>\n",
              "    <tr>\n",
              "      <th>f0</th>\n",
              "      <td>100000</td>\n",
              "    </tr>\n",
              "    <tr>\n",
              "      <th>f1</th>\n",
              "      <td>100000</td>\n",
              "    </tr>\n",
              "    <tr>\n",
              "      <th>f2</th>\n",
              "      <td>100000</td>\n",
              "    </tr>\n",
              "    <tr>\n",
              "      <th>product</th>\n",
              "      <td>12</td>\n",
              "    </tr>\n",
              "  </tbody>\n",
              "</table>\n",
              "</div>"
            ],
            "text/plain": [
              "         Количество\n",
              "id            99996\n",
              "f0           100000\n",
              "f1           100000\n",
              "f2           100000\n",
              "product          12"
            ]
          },
          "metadata": {
            "tags": []
          },
          "execution_count": 19
        }
      ]
    },
    {
      "cell_type": "code",
      "metadata": {
        "colab": {
          "base_uri": "https://localhost:8080/"
        },
        "id": "937hwgnGS60u",
        "outputId": "0f6f86a3-c329-42ac-e9ab-7f37baa4df6e"
      },
      "source": [
        "print('Доля неуникальных значений признака `id`, в %:{:.5f}'.format(\n",
        "       ((reg_2['id'].count() - reg_2['id'].nunique())/reg_2['id'].count()))\n",
        "     )\n",
        "print('Доля неуникальных значений признака `product`, в %:{}'.format(\n",
        "       ((reg_2['product'].count() - reg_2['product'].nunique())/reg_2['product'].count()))\n",
        "     )"
      ],
      "execution_count": 20,
      "outputs": [
        {
          "output_type": "stream",
          "text": [
            "Доля неуникальных значений признака `id`, в %:0.00004\n",
            "Доля неуникальных значений признака `product`, в %:0.99988\n"
          ],
          "name": "stdout"
        }
      ]
    },
    {
      "cell_type": "code",
      "metadata": {
        "colab": {
          "base_uri": "https://localhost:8080/",
          "height": 204
        },
        "id": "soZa6GKvS60u",
        "outputId": "d31b04d8-e7c8-474e-bded-eb3fb4bb2c0f"
      },
      "source": [
        "reg_3.nunique().to_frame(name='Количество')"
      ],
      "execution_count": 21,
      "outputs": [
        {
          "output_type": "execute_result",
          "data": {
            "text/html": [
              "<div>\n",
              "<style scoped>\n",
              "    .dataframe tbody tr th:only-of-type {\n",
              "        vertical-align: middle;\n",
              "    }\n",
              "\n",
              "    .dataframe tbody tr th {\n",
              "        vertical-align: top;\n",
              "    }\n",
              "\n",
              "    .dataframe thead th {\n",
              "        text-align: right;\n",
              "    }\n",
              "</style>\n",
              "<table border=\"1\" class=\"dataframe\">\n",
              "  <thead>\n",
              "    <tr style=\"text-align: right;\">\n",
              "      <th></th>\n",
              "      <th>Количество</th>\n",
              "    </tr>\n",
              "  </thead>\n",
              "  <tbody>\n",
              "    <tr>\n",
              "      <th>id</th>\n",
              "      <td>99996</td>\n",
              "    </tr>\n",
              "    <tr>\n",
              "      <th>f0</th>\n",
              "      <td>100000</td>\n",
              "    </tr>\n",
              "    <tr>\n",
              "      <th>f1</th>\n",
              "      <td>100000</td>\n",
              "    </tr>\n",
              "    <tr>\n",
              "      <th>f2</th>\n",
              "      <td>100000</td>\n",
              "    </tr>\n",
              "    <tr>\n",
              "      <th>product</th>\n",
              "      <td>100000</td>\n",
              "    </tr>\n",
              "  </tbody>\n",
              "</table>\n",
              "</div>"
            ],
            "text/plain": [
              "         Количество\n",
              "id            99996\n",
              "f0           100000\n",
              "f1           100000\n",
              "f2           100000\n",
              "product      100000"
            ]
          },
          "metadata": {
            "tags": []
          },
          "execution_count": 21
        }
      ]
    },
    {
      "cell_type": "code",
      "metadata": {
        "colab": {
          "base_uri": "https://localhost:8080/"
        },
        "id": "nclYPoKBS60u",
        "outputId": "227740c6-d158-4c59-8fe6-59959f4df186"
      },
      "source": [
        "print('Доля неуникальных значений признака `id`, в %:{:.5f}'.format(\n",
        "       ((reg_3['id'].count() - reg_3['id'].nunique())/reg_3['id'].count()))\n",
        "     )"
      ],
      "execution_count": 22,
      "outputs": [
        {
          "output_type": "stream",
          "text": [
            "Доля неуникальных значений признака `id`, в %:0.00004\n"
          ],
          "name": "stdout"
        }
      ]
    },
    {
      "cell_type": "markdown",
      "metadata": {
        "id": "LHI8uPbkS60u"
      },
      "source": [
        "Посмотрим наши значений на графиках по регионам:"
      ]
    },
    {
      "cell_type": "markdown",
      "metadata": {
        "id": "zkgg0T8bS60v"
      },
      "source": [
        "##### Регион 1"
      ]
    },
    {
      "cell_type": "code",
      "metadata": {
        "colab": {
          "base_uri": "https://localhost:8080/",
          "height": 879
        },
        "id": "Y7eM3gTNS60v",
        "outputId": "94c4c358-1cc4-48cf-e39c-75cd763216d6"
      },
      "source": [
        "reg_1.hist(bins=50, figsize=(20,15), edgecolor='black', linewidth=2)\n",
        "plt.show()"
      ],
      "execution_count": 23,
      "outputs": [
        {
          "output_type": "display_data",
          "data": {
            "image/png": "[encoded data removed]",
            "text/plain": [
              "<Figure size 1440x1080 with 4 Axes>"
            ]
          },
          "metadata": {
            "tags": []
          }
        }
      ]
    },
    {
      "cell_type": "markdown",
      "metadata": {
        "id": "hQIrLD6kS60v"
      },
      "source": [
        "На первый взгляд здесь все нормально, исследуем наши призаки позже"
      ]
    },
    {
      "cell_type": "markdown",
      "metadata": {
        "id": "tp35PlHVS60v"
      },
      "source": [
        "##### Регион 2"
      ]
    },
    {
      "cell_type": "code",
      "metadata": {
        "colab": {
          "base_uri": "https://localhost:8080/",
          "height": 879
        },
        "id": "fpWqjuuwS60v",
        "outputId": "a50af589-7b03-4398-af2c-9448c83a7c43"
      },
      "source": [
        "reg_2.hist(bins=50, figsize=(20,15), edgecolor='black', linewidth=2)\n",
        "plt.show()"
      ],
      "execution_count": 24,
      "outputs": [
        {
          "output_type": "display_data",
          "data": {
            "image/png": "[encoded data removed]",
            "text/plain": [
              "<Figure size 1440x1080 with 4 Axes>"
            ]
          },
          "metadata": {
            "tags": []
          }
        }
      ]
    },
    {
      "cell_type": "markdown",
      "metadata": {
        "id": "QVs_hDNTS60v"
      },
      "source": [
        "Значения признаков f2 и product у второго региона довольна подозрительно имеют повторяющиеся значения - возможно эта ошибка сбора данных. Изучим модель на данном сете и сделаем выводы"
      ]
    },
    {
      "cell_type": "markdown",
      "metadata": {
        "id": "Fyy3AxOeS60v"
      },
      "source": [
        "##### Регион 3"
      ]
    },
    {
      "cell_type": "code",
      "metadata": {
        "colab": {
          "base_uri": "https://localhost:8080/",
          "height": 879
        },
        "id": "w-knKZ3uS60v",
        "outputId": "798a7392-b23a-4e60-9ea5-8ebe866dcdd7"
      },
      "source": [
        "reg_3.hist(bins=50, figsize=(20,15), edgecolor='black', linewidth=2)\n",
        "plt.show()"
      ],
      "execution_count": 25,
      "outputs": [
        {
          "output_type": "display_data",
          "data": {
            "image/png": "[encoded data removed]",
            "text/plain": [
              "<Figure size 1440x1080 with 4 Axes>"
            ]
          },
          "metadata": {
            "tags": []
          }
        }
      ]
    },
    {
      "cell_type": "markdown",
      "metadata": {
        "id": "QpB5V-8JS60w"
      },
      "source": [
        "Здесь также, как и в первом сете, на первый взгляд все достаточно неплохо"
      ]
    },
    {
      "cell_type": "markdown",
      "metadata": {
        "id": "dzjRHrAqS60w"
      },
      "source": [
        "<a href=\"#footer\">К содержанию</a>\n",
        "\n",
        "<footer id=\"footer\"></footer>"
      ]
    },
    {
      "cell_type": "markdown",
      "metadata": {
        "id": "NPKH8FSQS60w"
      },
      "source": [
        "### Удаление столбцов и подготовка данных"
      ]
    },
    {
      "cell_type": "code",
      "metadata": {
        "id": "KwBaSo2iS60w"
      },
      "source": [
        "df_1 = reg_1.drop('id', axis=1)\n",
        "df_2 = reg_2.drop('id', axis=1)\n",
        "df_3 = reg_3.drop('id', axis=1)"
      ],
      "execution_count": 26,
      "outputs": []
    },
    {
      "cell_type": "markdown",
      "metadata": {
        "id": "jbkxs1fWS60w"
      },
      "source": [
        "Столбец удалили. Посмотрим корреляцию между признакми для информации"
      ]
    },
    {
      "cell_type": "code",
      "metadata": {
        "colab": {
          "base_uri": "https://localhost:8080/",
          "height": 173
        },
        "id": "9urxCLmYS60w",
        "outputId": "3d91c786-6cff-4625-ce32-e728348ebf3e"
      },
      "source": [
        "df_1.corr()"
      ],
      "execution_count": 27,
      "outputs": [
        {
          "output_type": "execute_result",
          "data": {
            "text/html": [
              "<div>\n",
              "<style scoped>\n",
              "    .dataframe tbody tr th:only-of-type {\n",
              "        vertical-align: middle;\n",
              "    }\n",
              "\n",
              "    .dataframe tbody tr th {\n",
              "        vertical-align: top;\n",
              "    }\n",
              "\n",
              "    .dataframe thead th {\n",
              "        text-align: right;\n",
              "    }\n",
              "</style>\n",
              "<table border=\"1\" class=\"dataframe\">\n",
              "  <thead>\n",
              "    <tr style=\"text-align: right;\">\n",
              "      <th></th>\n",
              "      <th>f0</th>\n",
              "      <th>f1</th>\n",
              "      <th>f2</th>\n",
              "      <th>product</th>\n",
              "    </tr>\n",
              "  </thead>\n",
              "  <tbody>\n",
              "    <tr>\n",
              "      <th>f0</th>\n",
              "      <td>1.000000</td>\n",
              "      <td>-0.440723</td>\n",
              "      <td>-0.003153</td>\n",
              "      <td>0.143536</td>\n",
              "    </tr>\n",
              "    <tr>\n",
              "      <th>f1</th>\n",
              "      <td>-0.440723</td>\n",
              "      <td>1.000000</td>\n",
              "      <td>0.001724</td>\n",
              "      <td>-0.192356</td>\n",
              "    </tr>\n",
              "    <tr>\n",
              "      <th>f2</th>\n",
              "      <td>-0.003153</td>\n",
              "      <td>0.001724</td>\n",
              "      <td>1.000000</td>\n",
              "      <td>0.483663</td>\n",
              "    </tr>\n",
              "    <tr>\n",
              "      <th>product</th>\n",
              "      <td>0.143536</td>\n",
              "      <td>-0.192356</td>\n",
              "      <td>0.483663</td>\n",
              "      <td>1.000000</td>\n",
              "    </tr>\n",
              "  </tbody>\n",
              "</table>\n",
              "</div>"
            ],
            "text/plain": [
              "               f0        f1        f2   product\n",
              "f0       1.000000 -0.440723 -0.003153  0.143536\n",
              "f1      -0.440723  1.000000  0.001724 -0.192356\n",
              "f2      -0.003153  0.001724  1.000000  0.483663\n",
              "product  0.143536 -0.192356  0.483663  1.000000"
            ]
          },
          "metadata": {
            "tags": []
          },
          "execution_count": 27
        }
      ]
    },
    {
      "cell_type": "code",
      "metadata": {
        "colab": {
          "base_uri": "https://localhost:8080/",
          "height": 173
        },
        "id": "I0TYIWiuS60w",
        "outputId": "6af7e947-45c0-4891-ffeb-f7e2594a6cd3"
      },
      "source": [
        "df_2.corr()"
      ],
      "execution_count": 28,
      "outputs": [
        {
          "output_type": "execute_result",
          "data": {
            "text/html": [
              "<div>\n",
              "<style scoped>\n",
              "    .dataframe tbody tr th:only-of-type {\n",
              "        vertical-align: middle;\n",
              "    }\n",
              "\n",
              "    .dataframe tbody tr th {\n",
              "        vertical-align: top;\n",
              "    }\n",
              "\n",
              "    .dataframe thead th {\n",
              "        text-align: right;\n",
              "    }\n",
              "</style>\n",
              "<table border=\"1\" class=\"dataframe\">\n",
              "  <thead>\n",
              "    <tr style=\"text-align: right;\">\n",
              "      <th></th>\n",
              "      <th>f0</th>\n",
              "      <th>f1</th>\n",
              "      <th>f2</th>\n",
              "      <th>product</th>\n",
              "    </tr>\n",
              "  </thead>\n",
              "  <tbody>\n",
              "    <tr>\n",
              "      <th>f0</th>\n",
              "      <td>1.000000</td>\n",
              "      <td>0.182287</td>\n",
              "      <td>-0.001777</td>\n",
              "      <td>-0.030491</td>\n",
              "    </tr>\n",
              "    <tr>\n",
              "      <th>f1</th>\n",
              "      <td>0.182287</td>\n",
              "      <td>1.000000</td>\n",
              "      <td>-0.002595</td>\n",
              "      <td>-0.010155</td>\n",
              "    </tr>\n",
              "    <tr>\n",
              "      <th>f2</th>\n",
              "      <td>-0.001777</td>\n",
              "      <td>-0.002595</td>\n",
              "      <td>1.000000</td>\n",
              "      <td>0.999397</td>\n",
              "    </tr>\n",
              "    <tr>\n",
              "      <th>product</th>\n",
              "      <td>-0.030491</td>\n",
              "      <td>-0.010155</td>\n",
              "      <td>0.999397</td>\n",
              "      <td>1.000000</td>\n",
              "    </tr>\n",
              "  </tbody>\n",
              "</table>\n",
              "</div>"
            ],
            "text/plain": [
              "               f0        f1        f2   product\n",
              "f0       1.000000  0.182287 -0.001777 -0.030491\n",
              "f1       0.182287  1.000000 -0.002595 -0.010155\n",
              "f2      -0.001777 -0.002595  1.000000  0.999397\n",
              "product -0.030491 -0.010155  0.999397  1.000000"
            ]
          },
          "metadata": {
            "tags": []
          },
          "execution_count": 28
        }
      ]
    },
    {
      "cell_type": "code",
      "metadata": {
        "colab": {
          "base_uri": "https://localhost:8080/",
          "height": 173
        },
        "id": "Z4BE-PAbS60x",
        "outputId": "6139c5aa-d53b-4ff2-9a09-0fb8418a43dd"
      },
      "source": [
        "df_3.corr()"
      ],
      "execution_count": 29,
      "outputs": [
        {
          "output_type": "execute_result",
          "data": {
            "text/html": [
              "<div>\n",
              "<style scoped>\n",
              "    .dataframe tbody tr th:only-of-type {\n",
              "        vertical-align: middle;\n",
              "    }\n",
              "\n",
              "    .dataframe tbody tr th {\n",
              "        vertical-align: top;\n",
              "    }\n",
              "\n",
              "    .dataframe thead th {\n",
              "        text-align: right;\n",
              "    }\n",
              "</style>\n",
              "<table border=\"1\" class=\"dataframe\">\n",
              "  <thead>\n",
              "    <tr style=\"text-align: right;\">\n",
              "      <th></th>\n",
              "      <th>f0</th>\n",
              "      <th>f1</th>\n",
              "      <th>f2</th>\n",
              "      <th>product</th>\n",
              "    </tr>\n",
              "  </thead>\n",
              "  <tbody>\n",
              "    <tr>\n",
              "      <th>f0</th>\n",
              "      <td>1.000000</td>\n",
              "      <td>0.000528</td>\n",
              "      <td>-0.000448</td>\n",
              "      <td>-0.001987</td>\n",
              "    </tr>\n",
              "    <tr>\n",
              "      <th>f1</th>\n",
              "      <td>0.000528</td>\n",
              "      <td>1.000000</td>\n",
              "      <td>0.000779</td>\n",
              "      <td>-0.001012</td>\n",
              "    </tr>\n",
              "    <tr>\n",
              "      <th>f2</th>\n",
              "      <td>-0.000448</td>\n",
              "      <td>0.000779</td>\n",
              "      <td>1.000000</td>\n",
              "      <td>0.445871</td>\n",
              "    </tr>\n",
              "    <tr>\n",
              "      <th>product</th>\n",
              "      <td>-0.001987</td>\n",
              "      <td>-0.001012</td>\n",
              "      <td>0.445871</td>\n",
              "      <td>1.000000</td>\n",
              "    </tr>\n",
              "  </tbody>\n",
              "</table>\n",
              "</div>"
            ],
            "text/plain": [
              "               f0        f1        f2   product\n",
              "f0       1.000000  0.000528 -0.000448 -0.001987\n",
              "f1       0.000528  1.000000  0.000779 -0.001012\n",
              "f2      -0.000448  0.000779  1.000000  0.445871\n",
              "product -0.001987 -0.001012  0.445871  1.000000"
            ]
          },
          "metadata": {
            "tags": []
          },
          "execution_count": 29
        }
      ]
    },
    {
      "cell_type": "markdown",
      "metadata": {
        "id": "dNX5jynSS60x"
      },
      "source": [
        "Есть корреляция между признаками `f2` и `product` - самая значительная у второго сета, где были обнаружены идентичные значения по продукции. Думаю, что модель, обученная на втором сете данных будет показывать плохие результаты. Проверим"
      ]
    },
    {
      "cell_type": "markdown",
      "metadata": {
        "id": "wavkzqcwS60x"
      },
      "source": [
        "<a href=\"#footer\">К содержанию</a>\n",
        "\n",
        "<footer id=\"footer\"></footer>"
      ]
    },
    {
      "cell_type": "markdown",
      "metadata": {
        "id": "0mbp9fz_S60x"
      },
      "source": [
        "### Вывод"
      ]
    },
    {
      "cell_type": "markdown",
      "metadata": {
        "id": "um8g5HILS60x"
      },
      "source": [
        "- вводных данных достаточно мало, чтобы точно определить значения признаков `f0`, `f1`, `f2` - это могут быть стандартизированные характеристики качества месторождения, вязкости нефтепродуктов - так или иначе признаки значимы и работать будем с ними в будущем  \n",
        "- в сетах данных наблюдаются повторения по `id`, незначительные - но они есть - вероятнее всего данный факт связан с тем, что замеры брались несколько раз из различных скважин. \n",
        "- стоит отметит, что в `регионе 2` достаточно мало уникальных значений в признаке `product` - вероятнее всего имеет место быть некоторого рода ошибка\n",
        "- признак `id` удалили из сетов - чтобы он не мешал обучению моделей"
      ]
    },
    {
      "cell_type": "markdown",
      "metadata": {
        "id": "DM5win-5S60x"
      },
      "source": [
        "<a href=\"#footer\">К содержанию</a>\n",
        "\n",
        "<footer id=\"footer\"></footer>"
      ]
    },
    {
      "cell_type": "markdown",
      "metadata": {
        "id": "DjMbK12PS60x"
      },
      "source": [
        "## Обучение и проверка модели"
      ]
    },
    {
      "cell_type": "code",
      "metadata": {
        "id": "b_I7BnRXS60x"
      },
      "source": [
        "model = LinearRegression()"
      ],
      "execution_count": 30,
      "outputs": []
    },
    {
      "cell_type": "code",
      "metadata": {
        "id": "9jAGpsvQS60x"
      },
      "source": [
        "par_grid = {\n",
        "          'fit_intercept':[True, False], \n",
        "          'normalize':[True, False], \n",
        "          'copy_X':[True, False]\n",
        "         }"
      ],
      "execution_count": 31,
      "outputs": []
    },
    {
      "cell_type": "code",
      "metadata": {
        "id": "PsOhu97uS60y"
      },
      "source": [
        "# для выделения целевого признака\n",
        "def split_data(data, target_column):\n",
        "    return data.drop(columns=[target_column], axis=1), data[target_column]\n",
        "\n",
        "# для контроля длины выборок\n",
        "\n",
        "def print_info(data, x, x_val):\n",
        "    return print(' Количество образцов обучающей выборки:', len(x),'\\n',\n",
        "                 'Количество образцов валидационной выборки:', len(x_val),'\\n',\n",
        "                 'Сумма выборок:', len(x) + len(x_val),'\\n',\n",
        "                 'Количество образцов подготовленной выборки (контрольная сумма):', len(data))\n",
        "# для получения лучшей модели\n",
        "\n",
        "def grid_search(x,y):\n",
        "    grid_search = GridSearchCV(model, par_grid, cv=5)\n",
        "    grid_search.fit(x, y)\n",
        "    return grid_search.best_estimator_\n",
        "\n",
        "# для получения таблицы предсказаний и ответов\n",
        "\n",
        "def report(rep, y, region, pred):\n",
        "    rep = pd.DataFrame(y)\n",
        "    rep['predicted'] = pred\n",
        "    rep['region'] = region\n",
        "    return rep\n",
        "\n",
        "# для получения отчета по региону\n",
        "\n",
        "def params(report, true, pred):\n",
        "    return print(' Средние запасы по региону, предсказанные моделью: {:.2f}'.format(report.mean()),'\\n',\n",
        "                'MSE модели: {:.3f}'.format(mean_squared_error(true, pred)),'\\n',\n",
        "                'RMSE модели: {:.3f}'.format(np.sqrt(mean_squared_error(true, pred))),'\\n',\n",
        "                'MAE модели: {:.3f}'.format(mean_absolute_error(true, pred)),'\\n',\n",
        "                'Коэффициент детерминации R2:{:.3f}'.format(r2_score(true, pred))\n",
        "                )\n",
        "# для добавления данных в общую таблицу\n",
        "\n",
        "def summary(report, true, pred, name):\n",
        "    mean_prod = report.mean()\n",
        "    mse = mean_squared_error(true, pred)\n",
        "    rmse = np.sqrt(mse)\n",
        "    mae = mean_absolute_error(true, pred)\n",
        "    r2 = r2_score(true, pred)\n",
        "    return results.append((name, mean_prod, mse, rmse, mae, r2))\n",
        "\n",
        "#график для построяние пересечений значений\n",
        "\n",
        "def plot_hex(x,y, data):\n",
        "    sns.jointplot(x=x, y=y, data=data, kind='hex', height=9, space=.05);\n",
        "\n",
        "    \n",
        "    \n",
        "    "
      ],
      "execution_count": 32,
      "outputs": []
    },
    {
      "cell_type": "code",
      "metadata": {
        "id": "x4E6e1VES60y"
      },
      "source": [
        "results = []"
      ],
      "execution_count": 33,
      "outputs": []
    },
    {
      "cell_type": "markdown",
      "metadata": {
        "id": "D3jYiun_S60y"
      },
      "source": [
        "<a href=\"#footer\">К содержанию</a>\n",
        "\n",
        "<footer id=\"footer\"></footer>"
      ]
    },
    {
      "cell_type": "markdown",
      "metadata": {
        "id": "yqWmRwVbS60y"
      },
      "source": [
        "### Регион 1"
      ]
    },
    {
      "cell_type": "code",
      "metadata": {
        "id": "DQpqcNgjS60y"
      },
      "source": [
        "features_1, target_1 = split_data(df_1,'product')"
      ],
      "execution_count": 34,
      "outputs": []
    },
    {
      "cell_type": "code",
      "metadata": {
        "id": "7BDo7Z3dS60y"
      },
      "source": [
        "X_train_1, X_test_1, y_train_1, y_test_1 = ( \n",
        "                                     train_test_split(\n",
        "                                     features_1, target_1, test_size=.25, \n",
        "                                      random_state=42)\n",
        "                                     )\n"
      ],
      "execution_count": 35,
      "outputs": []
    },
    {
      "cell_type": "code",
      "metadata": {
        "colab": {
          "base_uri": "https://localhost:8080/"
        },
        "id": "5N6cHrDpS60y",
        "outputId": "90bdc65b-5fca-409d-99b7-c39c509a1df3"
      },
      "source": [
        "print_info(df_1, X_train_1, X_test_1)"
      ],
      "execution_count": 36,
      "outputs": [
        {
          "output_type": "stream",
          "text": [
            " Количество образцов обучающей выборки: 75000 \n",
            " Количество образцов валидационной выборки: 25000 \n",
            " Сумма выборок: 100000 \n",
            " Количество образцов подготовленной выборки (контрольная сумма): 100000\n"
          ],
          "name": "stdout"
        }
      ]
    },
    {
      "cell_type": "code",
      "metadata": {
        "colab": {
          "base_uri": "https://localhost:8080/"
        },
        "id": "F8wqMQefS60y",
        "outputId": "69559bd0-b63e-4839-b79c-fd179a0eb7e2"
      },
      "source": [
        "X_train_1.shape, X_test_1.shape, y_train_1.shape, y_test_1.shape"
      ],
      "execution_count": 37,
      "outputs": [
        {
          "output_type": "execute_result",
          "data": {
            "text/plain": [
              "((75000, 3), (25000, 3), (75000,), (25000,))"
            ]
          },
          "metadata": {
            "tags": []
          },
          "execution_count": 37
        }
      ]
    },
    {
      "cell_type": "code",
      "metadata": {
        "id": "fHuktHNrS60z"
      },
      "source": [
        "lr_1 = grid_search(X_train_1, y_train_1)\n",
        "predicted_prod_1 = lr_1.predict(X_test_1)"
      ],
      "execution_count": 38,
      "outputs": []
    },
    {
      "cell_type": "code",
      "metadata": {
        "colab": {
          "base_uri": "https://localhost:8080/",
          "height": 204
        },
        "id": "eB68m_67S60z",
        "outputId": "a8c08425-00c6-494c-869f-2a162596db26"
      },
      "source": [
        "reg_1_report = []\n",
        "reg_1_report = report(reg_1_report, y_test_1, 1, predicted_prod_1)\n",
        "reg_1_report.head()"
      ],
      "execution_count": 39,
      "outputs": [
        {
          "output_type": "execute_result",
          "data": {
            "text/html": [
              "<div>\n",
              "<style scoped>\n",
              "    .dataframe tbody tr th:only-of-type {\n",
              "        vertical-align: middle;\n",
              "    }\n",
              "\n",
              "    .dataframe tbody tr th {\n",
              "        vertical-align: top;\n",
              "    }\n",
              "\n",
              "    .dataframe thead th {\n",
              "        text-align: right;\n",
              "    }\n",
              "</style>\n",
              "<table border=\"1\" class=\"dataframe\">\n",
              "  <thead>\n",
              "    <tr style=\"text-align: right;\">\n",
              "      <th></th>\n",
              "      <th>product</th>\n",
              "      <th>predicted</th>\n",
              "      <th>region</th>\n",
              "    </tr>\n",
              "  </thead>\n",
              "  <tbody>\n",
              "    <tr>\n",
              "      <th>75721</th>\n",
              "      <td>122.073350</td>\n",
              "      <td>101.901017</td>\n",
              "      <td>1</td>\n",
              "    </tr>\n",
              "    <tr>\n",
              "      <th>80184</th>\n",
              "      <td>48.738540</td>\n",
              "      <td>78.217774</td>\n",
              "      <td>1</td>\n",
              "    </tr>\n",
              "    <tr>\n",
              "      <th>19864</th>\n",
              "      <td>131.338088</td>\n",
              "      <td>115.266901</td>\n",
              "      <td>1</td>\n",
              "    </tr>\n",
              "    <tr>\n",
              "      <th>76699</th>\n",
              "      <td>88.327757</td>\n",
              "      <td>105.618618</td>\n",
              "      <td>1</td>\n",
              "    </tr>\n",
              "    <tr>\n",
              "      <th>92991</th>\n",
              "      <td>36.959266</td>\n",
              "      <td>97.980185</td>\n",
              "      <td>1</td>\n",
              "    </tr>\n",
              "  </tbody>\n",
              "</table>\n",
              "</div>"
            ],
            "text/plain": [
              "          product   predicted  region\n",
              "75721  122.073350  101.901017       1\n",
              "80184   48.738540   78.217774       1\n",
              "19864  131.338088  115.266901       1\n",
              "76699   88.327757  105.618618       1\n",
              "92991   36.959266   97.980185       1"
            ]
          },
          "metadata": {
            "tags": []
          },
          "execution_count": 39
        }
      ]
    },
    {
      "cell_type": "code",
      "metadata": {
        "colab": {
          "base_uri": "https://localhost:8080/",
          "height": 657
        },
        "id": "3LVS9Jc5S60z",
        "outputId": "a11e1a45-46f8-4d7e-88c6-40342af976d6"
      },
      "source": [
        "plot_hex('predicted','product', reg_1_report)"
      ],
      "execution_count": 40,
      "outputs": [
        {
          "output_type": "display_data",
          "data": {
            "image/png": "[encoded data removed]",
            "text/plain": [
              "<Figure size 648x648 with 3 Axes>"
            ]
          },
          "metadata": {
            "tags": []
          }
        }
      ]
    },
    {
      "cell_type": "code",
      "metadata": {
        "colab": {
          "base_uri": "https://localhost:8080/"
        },
        "id": "tYJ474pSS60z",
        "outputId": "3123fb29-95ed-40ca-c0f4-869b36f92ef7"
      },
      "source": [
        "params(reg_1_report['predicted'], y_test_1, predicted_prod_1)"
      ],
      "execution_count": 41,
      "outputs": [
        {
          "output_type": "stream",
          "text": [
            " Средние запасы по региону, предсказанные моделью: 92.40 \n",
            " MSE модели: 1425.561 \n",
            " RMSE модели: 37.757 \n",
            " MAE модели: 31.048 \n",
            " Коэффициент детерминации R2:0.273\n"
          ],
          "name": "stdout"
        }
      ]
    },
    {
      "cell_type": "code",
      "metadata": {
        "id": "nEomUPJXS60z"
      },
      "source": [
        "summary(reg_1_report['predicted'], y_test_1, predicted_prod_1, 'Region_1')"
      ],
      "execution_count": 42,
      "outputs": []
    },
    {
      "cell_type": "markdown",
      "metadata": {
        "id": "nYE1cdU3S60z"
      },
      "source": [
        "Проверим модель на адекватность - возьмем константное значение - медиану"
      ]
    },
    {
      "cell_type": "code",
      "metadata": {
        "colab": {
          "base_uri": "https://localhost:8080/"
        },
        "id": "qEAsR3xFS60z",
        "outputId": "0ffb6d7c-0ec0-421e-9982-a5fc26191ad9"
      },
      "source": [
        "pred_const_1 = pd.Series(y_train_1.median(), index=y_test_1.index)\n",
        "print(\"Median\")\n",
        "print('MAE константы: {:.3f}'.format(mean_absolute_error(y_test_1, pred_const_1)))"
      ],
      "execution_count": 43,
      "outputs": [
        {
          "output_type": "stream",
          "text": [
            "Median\n",
            "MAE константы: 37.643\n"
          ],
          "name": "stdout"
        }
      ]
    },
    {
      "cell_type": "markdown",
      "metadata": {
        "id": "LSKj3siGS60z"
      },
      "source": [
        "Вывод:  \n",
        "\n",
        "- в среднем модель предсказывает 92.4 тыс. баррелей нефти по первому региону\n",
        "- среднеквадратичная ошибка прогноза - 1425.561\n",
        "- квадратный корень из среднеквадратичной ошибки - 37.757\n",
        "- средняя абсолютная ошибка для первого региона - 31.048 - достаточно много, при условии что измеряем в тыс. баррелей, но лучше константы\n",
        "- R2 достаточно низкий"
      ]
    },
    {
      "cell_type": "markdown",
      "metadata": {
        "id": "HbgEzb4wS600"
      },
      "source": [
        "<a href=\"#footer\">К содержанию</a>\n",
        "\n",
        "<footer id=\"footer\"></footer>"
      ]
    },
    {
      "cell_type": "markdown",
      "metadata": {
        "id": "8BiM58MHS600"
      },
      "source": [
        "### Регион 2"
      ]
    },
    {
      "cell_type": "code",
      "metadata": {
        "id": "A7B8cPgXS600"
      },
      "source": [
        "features_2, target_2 = split_data(df_2,'product')"
      ],
      "execution_count": 44,
      "outputs": []
    },
    {
      "cell_type": "code",
      "metadata": {
        "id": "naVAZNbeS600"
      },
      "source": [
        "X_train_2, X_test_2, y_train_2, y_test_2 = ( \n",
        "                                     train_test_split(\n",
        "                                     features_2, target_2, test_size=.25, \n",
        "                                      random_state=42)\n",
        "                                     )\n"
      ],
      "execution_count": 45,
      "outputs": []
    },
    {
      "cell_type": "code",
      "metadata": {
        "colab": {
          "base_uri": "https://localhost:8080/"
        },
        "id": "K5qe79ZVS600",
        "outputId": "5448b404-b71f-4919-ee0b-b03c2e1d421a"
      },
      "source": [
        "print_info(df_2, X_train_2, X_test_2)"
      ],
      "execution_count": 46,
      "outputs": [
        {
          "output_type": "stream",
          "text": [
            " Количество образцов обучающей выборки: 75000 \n",
            " Количество образцов валидационной выборки: 25000 \n",
            " Сумма выборок: 100000 \n",
            " Количество образцов подготовленной выборки (контрольная сумма): 100000\n"
          ],
          "name": "stdout"
        }
      ]
    },
    {
      "cell_type": "code",
      "metadata": {
        "id": "q03oe9vsS600"
      },
      "source": [
        "lr_2 = grid_search(X_train_2, y_train_2)\n",
        "predicted_prod_2 = lr_2.predict(X_test_2)"
      ],
      "execution_count": 47,
      "outputs": []
    },
    {
      "cell_type": "code",
      "metadata": {
        "colab": {
          "base_uri": "https://localhost:8080/",
          "height": 204
        },
        "id": "Afk1PBOxS600",
        "outputId": "63391bee-7f0f-4fcd-e26c-5107d2d74697"
      },
      "source": [
        "reg_2_report = []\n",
        "reg_2_report = report(reg_2_report, y_test_2, 2, predicted_prod_2)\n",
        "reg_2_report.head()"
      ],
      "execution_count": 48,
      "outputs": [
        {
          "output_type": "execute_result",
          "data": {
            "text/html": [
              "<div>\n",
              "<style scoped>\n",
              "    .dataframe tbody tr th:only-of-type {\n",
              "        vertical-align: middle;\n",
              "    }\n",
              "\n",
              "    .dataframe tbody tr th {\n",
              "        vertical-align: top;\n",
              "    }\n",
              "\n",
              "    .dataframe thead th {\n",
              "        text-align: right;\n",
              "    }\n",
              "</style>\n",
              "<table border=\"1\" class=\"dataframe\">\n",
              "  <thead>\n",
              "    <tr style=\"text-align: right;\">\n",
              "      <th></th>\n",
              "      <th>product</th>\n",
              "      <th>predicted</th>\n",
              "      <th>region</th>\n",
              "    </tr>\n",
              "  </thead>\n",
              "  <tbody>\n",
              "    <tr>\n",
              "      <th>75721</th>\n",
              "      <td>0.000000</td>\n",
              "      <td>0.844738</td>\n",
              "      <td>2</td>\n",
              "    </tr>\n",
              "    <tr>\n",
              "      <th>80184</th>\n",
              "      <td>53.906522</td>\n",
              "      <td>52.921612</td>\n",
              "      <td>2</td>\n",
              "    </tr>\n",
              "    <tr>\n",
              "      <th>19864</th>\n",
              "      <td>134.766305</td>\n",
              "      <td>135.110385</td>\n",
              "      <td>2</td>\n",
              "    </tr>\n",
              "    <tr>\n",
              "      <th>76699</th>\n",
              "      <td>107.813044</td>\n",
              "      <td>109.494863</td>\n",
              "      <td>2</td>\n",
              "    </tr>\n",
              "    <tr>\n",
              "      <th>92991</th>\n",
              "      <td>0.000000</td>\n",
              "      <td>-0.047292</td>\n",
              "      <td>2</td>\n",
              "    </tr>\n",
              "  </tbody>\n",
              "</table>\n",
              "</div>"
            ],
            "text/plain": [
              "          product   predicted  region\n",
              "75721    0.000000    0.844738       2\n",
              "80184   53.906522   52.921612       2\n",
              "19864  134.766305  135.110385       2\n",
              "76699  107.813044  109.494863       2\n",
              "92991    0.000000   -0.047292       2"
            ]
          },
          "metadata": {
            "tags": []
          },
          "execution_count": 48
        }
      ]
    },
    {
      "cell_type": "code",
      "metadata": {
        "colab": {
          "base_uri": "https://localhost:8080/",
          "height": 657
        },
        "id": "N4mRDemeS600",
        "outputId": "e4703940-e089-46b4-ab49-52cead29cf44"
      },
      "source": [
        "plot_hex('predicted','product', reg_2_report)"
      ],
      "execution_count": 49,
      "outputs": [
        {
          "output_type": "display_data",
          "data": {
            "image/png": "[encoded data removed]",
            "text/plain": [
              "<Figure size 648x648 with 3 Axes>"
            ]
          },
          "metadata": {
            "tags": []
          }
        }
      ]
    },
    {
      "cell_type": "code",
      "metadata": {
        "colab": {
          "base_uri": "https://localhost:8080/"
        },
        "id": "LcWz55EDS600",
        "outputId": "de5b120d-d769-4751-c42e-21ed65282649"
      },
      "source": [
        "params(reg_2_report['predicted'], y_test_2, predicted_prod_2)"
      ],
      "execution_count": 50,
      "outputs": [
        {
          "output_type": "stream",
          "text": [
            " Средние запасы по региону, предсказанные моделью: 68.71 \n",
            " MSE модели: 0.793 \n",
            " RMSE модели: 0.890 \n",
            " MAE модели: 0.717 \n",
            " Коэффициент детерминации R2:1.000\n"
          ],
          "name": "stdout"
        }
      ]
    },
    {
      "cell_type": "code",
      "metadata": {
        "id": "dbgo2R0DS601"
      },
      "source": [
        "summary(reg_2_report['predicted'], y_test_2, predicted_prod_2, 'Region_2')"
      ],
      "execution_count": 51,
      "outputs": []
    },
    {
      "cell_type": "markdown",
      "metadata": {
        "id": "D4uBuoDqS601"
      },
      "source": [
        "Проверим модель на адекватность - возьмем константное значение - медиану"
      ]
    },
    {
      "cell_type": "code",
      "metadata": {
        "colab": {
          "base_uri": "https://localhost:8080/"
        },
        "id": "Dyq3WMxLS601",
        "outputId": "1798d3bc-992d-4987-9d3e-7a6ec61885fe"
      },
      "source": [
        "pred_const_2 = pd.Series(y_train_2.median(), index=y_test_2.index)\n",
        "print(\"Median\")\n",
        "print('MAE константы: {:.3f}'.format(mean_absolute_error(y_test_2, pred_const_2)))"
      ],
      "execution_count": 52,
      "outputs": [
        {
          "output_type": "stream",
          "text": [
            "Median\n",
            "MAE константы: 40.216\n"
          ],
          "name": "stdout"
        }
      ]
    },
    {
      "cell_type": "markdown",
      "metadata": {
        "id": "Z5l-N8I0S601"
      },
      "source": [
        "Вывод:  \n",
        "\n",
        "- в среднем модель предсказывает 68.71 тыс. баррелей нефти по первому региону\n",
        "- среднеквадратичная ошибка прогноза - 0.793\n",
        "- квадратный корень из среднеквадратичной ошибки - 0.890\n",
        "- средняя абсолютная ошибка для первого региона - 0.717 \n",
        "\n",
        "Казалось бы, отличная модель - предсказывает все почти без ошибок. Но у данных достатточно подозрительное распределение, что мы видели выше. К этим предсказаниям стоит относиться с подозрением и уточнить у коллег причину, почему данные распределены таким образом по целевому показателю и признаку f2\n",
        "\n"
      ]
    },
    {
      "cell_type": "markdown",
      "metadata": {
        "id": "0p7ftkVBS601"
      },
      "source": [
        "<a href=\"#footer\">К содержанию</a>\n",
        "\n",
        "<footer id=\"footer\"></footer>"
      ]
    },
    {
      "cell_type": "markdown",
      "metadata": {
        "id": "t0MBphBxS601"
      },
      "source": [
        "### Регион 3"
      ]
    },
    {
      "cell_type": "code",
      "metadata": {
        "id": "ouo5gJ2pS601"
      },
      "source": [
        "features_3, target_3 = split_data(df_3,'product')"
      ],
      "execution_count": 53,
      "outputs": []
    },
    {
      "cell_type": "code",
      "metadata": {
        "id": "WEk_NKiXS601"
      },
      "source": [
        "X_train_3, X_test_3, y_train_3, y_test_3 = ( \n",
        "                                     train_test_split(\n",
        "                                     features_3, target_3, test_size=.25, \n",
        "                                      random_state=42)\n",
        "                                     )\n"
      ],
      "execution_count": 54,
      "outputs": []
    },
    {
      "cell_type": "code",
      "metadata": {
        "colab": {
          "base_uri": "https://localhost:8080/"
        },
        "id": "nKc8FcIuS601",
        "outputId": "e3c9c7ad-f780-4d44-b8ae-daf9b61f0cf6"
      },
      "source": [
        "print_info(df_3, X_train_3, X_test_3)"
      ],
      "execution_count": 55,
      "outputs": [
        {
          "output_type": "stream",
          "text": [
            " Количество образцов обучающей выборки: 75000 \n",
            " Количество образцов валидационной выборки: 25000 \n",
            " Сумма выборок: 100000 \n",
            " Количество образцов подготовленной выборки (контрольная сумма): 100000\n"
          ],
          "name": "stdout"
        }
      ]
    },
    {
      "cell_type": "code",
      "metadata": {
        "id": "XHA7dPVLS602"
      },
      "source": [
        "lr_3 = grid_search(X_train_3, y_train_3)\n",
        "predicted_prod_3 = lr_3.predict(X_test_3)"
      ],
      "execution_count": 56,
      "outputs": []
    },
    {
      "cell_type": "code",
      "metadata": {
        "colab": {
          "base_uri": "https://localhost:8080/",
          "height": 204
        },
        "id": "0NfO3-8nS602",
        "outputId": "8fc64d94-bf11-4953-df17-277ed9067dfc"
      },
      "source": [
        "reg_3_report = []\n",
        "reg_3_report = report(reg_3_report, y_test_3, 3, predicted_prod_3)\n",
        "reg_3_report.head()"
      ],
      "execution_count": 57,
      "outputs": [
        {
          "output_type": "execute_result",
          "data": {
            "text/html": [
              "<div>\n",
              "<style scoped>\n",
              "    .dataframe tbody tr th:only-of-type {\n",
              "        vertical-align: middle;\n",
              "    }\n",
              "\n",
              "    .dataframe tbody tr th {\n",
              "        vertical-align: top;\n",
              "    }\n",
              "\n",
              "    .dataframe thead th {\n",
              "        text-align: right;\n",
              "    }\n",
              "</style>\n",
              "<table border=\"1\" class=\"dataframe\">\n",
              "  <thead>\n",
              "    <tr style=\"text-align: right;\">\n",
              "      <th></th>\n",
              "      <th>product</th>\n",
              "      <th>predicted</th>\n",
              "      <th>region</th>\n",
              "    </tr>\n",
              "  </thead>\n",
              "  <tbody>\n",
              "    <tr>\n",
              "      <th>75721</th>\n",
              "      <td>117.441301</td>\n",
              "      <td>98.301916</td>\n",
              "      <td>3</td>\n",
              "    </tr>\n",
              "    <tr>\n",
              "      <th>80184</th>\n",
              "      <td>47.841249</td>\n",
              "      <td>101.592461</td>\n",
              "      <td>3</td>\n",
              "    </tr>\n",
              "    <tr>\n",
              "      <th>19864</th>\n",
              "      <td>45.883483</td>\n",
              "      <td>52.449099</td>\n",
              "      <td>3</td>\n",
              "    </tr>\n",
              "    <tr>\n",
              "      <th>76699</th>\n",
              "      <td>139.014608</td>\n",
              "      <td>109.922127</td>\n",
              "      <td>3</td>\n",
              "    </tr>\n",
              "    <tr>\n",
              "      <th>92991</th>\n",
              "      <td>84.004276</td>\n",
              "      <td>72.411847</td>\n",
              "      <td>3</td>\n",
              "    </tr>\n",
              "  </tbody>\n",
              "</table>\n",
              "</div>"
            ],
            "text/plain": [
              "          product   predicted  region\n",
              "75721  117.441301   98.301916       3\n",
              "80184   47.841249  101.592461       3\n",
              "19864   45.883483   52.449099       3\n",
              "76699  139.014608  109.922127       3\n",
              "92991   84.004276   72.411847       3"
            ]
          },
          "metadata": {
            "tags": []
          },
          "execution_count": 57
        }
      ]
    },
    {
      "cell_type": "code",
      "metadata": {
        "colab": {
          "base_uri": "https://localhost:8080/",
          "height": 657
        },
        "id": "9tQ1UcJLS602",
        "outputId": "d6b67ae1-2c35-4158-f18e-c078047c02de"
      },
      "source": [
        "plot_hex('predicted','product', reg_3_report)"
      ],
      "execution_count": 58,
      "outputs": [
        {
          "output_type": "display_data",
          "data": {
            "image/png": "[encoded data removed]",
            "text/plain": [
              "<Figure size 648x648 with 3 Axes>"
            ]
          },
          "metadata": {
            "tags": []
          }
        }
      ]
    },
    {
      "cell_type": "code",
      "metadata": {
        "colab": {
          "base_uri": "https://localhost:8080/"
        },
        "id": "s3xdfk4eS602",
        "outputId": "1532bc11-4829-4a9e-874f-f4fb7f996e32"
      },
      "source": [
        "params(reg_3_report['predicted'], y_test_3, predicted_prod_3)"
      ],
      "execution_count": 59,
      "outputs": [
        {
          "output_type": "stream",
          "text": [
            " Средние запасы по региону, предсказанные моделью: 94.77 \n",
            " MSE модели: 1611.691 \n",
            " RMSE модели: 40.146 \n",
            " MAE модели: 32.897 \n",
            " Коэффициент детерминации R2:0.196\n"
          ],
          "name": "stdout"
        }
      ]
    },
    {
      "cell_type": "code",
      "metadata": {
        "id": "oz_beJfVS602"
      },
      "source": [
        "summary(reg_3_report['predicted'], y_test_3, predicted_prod_3, 'Region_3')"
      ],
      "execution_count": 60,
      "outputs": []
    },
    {
      "cell_type": "markdown",
      "metadata": {
        "id": "sDaPoaNQS602"
      },
      "source": [
        "Проверим модель на адекватность - возьмем константное значение - медиану"
      ]
    },
    {
      "cell_type": "code",
      "metadata": {
        "colab": {
          "base_uri": "https://localhost:8080/"
        },
        "id": "7tSs86EkS602",
        "outputId": "93cc949e-2c25-4aca-a275-7ce6cb1f502f"
      },
      "source": [
        "pred_const_3 = pd.Series(y_train_3.median(), index=y_test_3.index)\n",
        "print(\"Median\")\n",
        "print('MAE константы: {:.3f}'.format(mean_absolute_error(y_test_3, pred_const_3)))"
      ],
      "execution_count": 61,
      "outputs": [
        {
          "output_type": "stream",
          "text": [
            "Median\n",
            "MAE константы: 37.831\n"
          ],
          "name": "stdout"
        }
      ]
    },
    {
      "cell_type": "markdown",
      "metadata": {
        "id": "830jmmd6S602"
      },
      "source": [
        "Вывод:  \n",
        "\n",
        "- в среднем модель предсказывает 94.77 тыс. баррелей нефти по первому региону\n",
        "- среднеквадратичная ошибка прогноза - 1611.691\n",
        "- квадратный корень из среднеквадратичной ошибки - 40.146\n",
        "- средняя абсолютная ошибка для первого региона - 32.897 и также лучше константы\n",
        "\n",
        "Результаты немногим хуже, чем у первого региона"
      ]
    },
    {
      "cell_type": "markdown",
      "metadata": {
        "id": "LQRbz7FRS603"
      },
      "source": [
        "**Выведем общую информацию**"
      ]
    },
    {
      "cell_type": "code",
      "metadata": {
        "colab": {
          "base_uri": "https://localhost:8080/",
          "height": 103
        },
        "id": "SUiTRQ8tS603",
        "outputId": "e9ae4b19-5ea9-4874-d110-10a28c99329c"
      },
      "source": [
        "summary = pd.DataFrame(results, columns=['model', 'mean', 'mse', 'rmse', 'mae', 'r2'])\n",
        "summary.style.highlight_max(color = 'lightblue', axis = 0).highlight_min(color = 'pink', axis = 0)"
      ],
      "execution_count": 62,
      "outputs": [
        {
          "output_type": "execute_result",
          "data": {
            "text/html": [
              "<style  type=\"text/css\" >\n",
              "#T_3ab439ee_ba19_11eb_b4ba_0242ac1c0002row1_col1,#T_3ab439ee_ba19_11eb_b4ba_0242ac1c0002row1_col2,#T_3ab439ee_ba19_11eb_b4ba_0242ac1c0002row1_col3,#T_3ab439ee_ba19_11eb_b4ba_0242ac1c0002row1_col4,#T_3ab439ee_ba19_11eb_b4ba_0242ac1c0002row2_col5{\n",
              "            background-color:  pink;\n",
              "        }#T_3ab439ee_ba19_11eb_b4ba_0242ac1c0002row1_col5,#T_3ab439ee_ba19_11eb_b4ba_0242ac1c0002row2_col1,#T_3ab439ee_ba19_11eb_b4ba_0242ac1c0002row2_col2,#T_3ab439ee_ba19_11eb_b4ba_0242ac1c0002row2_col3,#T_3ab439ee_ba19_11eb_b4ba_0242ac1c0002row2_col4{\n",
              "            background-color:  lightblue;\n",
              "        }</style><table id=\"T_3ab439ee_ba19_11eb_b4ba_0242ac1c0002\" ><thead>    <tr>        <th class=\"blank level0\" ></th>        <th class=\"col_heading level0 col0\" >model</th>        <th class=\"col_heading level0 col1\" >mean</th>        <th class=\"col_heading level0 col2\" >mse</th>        <th class=\"col_heading level0 col3\" >rmse</th>        <th class=\"col_heading level0 col4\" >mae</th>        <th class=\"col_heading level0 col5\" >r2</th>    </tr></thead><tbody>\n",
              "                <tr>\n",
              "                        <th id=\"T_3ab439ee_ba19_11eb_b4ba_0242ac1c0002level0_row0\" class=\"row_heading level0 row0\" >0</th>\n",
              "                        <td id=\"T_3ab439ee_ba19_11eb_b4ba_0242ac1c0002row0_col0\" class=\"data row0 col0\" >Region_1</td>\n",
              "                        <td id=\"T_3ab439ee_ba19_11eb_b4ba_0242ac1c0002row0_col1\" class=\"data row0 col1\" >92.398800</td>\n",
              "                        <td id=\"T_3ab439ee_ba19_11eb_b4ba_0242ac1c0002row0_col2\" class=\"data row0 col2\" >1425.560870</td>\n",
              "                        <td id=\"T_3ab439ee_ba19_11eb_b4ba_0242ac1c0002row0_col3\" class=\"data row0 col3\" >37.756600</td>\n",
              "                        <td id=\"T_3ab439ee_ba19_11eb_b4ba_0242ac1c0002row0_col4\" class=\"data row0 col4\" >31.047682</td>\n",
              "                        <td id=\"T_3ab439ee_ba19_11eb_b4ba_0242ac1c0002row0_col5\" class=\"data row0 col5\" >0.272829</td>\n",
              "            </tr>\n",
              "            <tr>\n",
              "                        <th id=\"T_3ab439ee_ba19_11eb_b4ba_0242ac1c0002level0_row1\" class=\"row_heading level0 row1\" >1</th>\n",
              "                        <td id=\"T_3ab439ee_ba19_11eb_b4ba_0242ac1c0002row1_col0\" class=\"data row1 col0\" >Region_2</td>\n",
              "                        <td id=\"T_3ab439ee_ba19_11eb_b4ba_0242ac1c0002row1_col1\" class=\"data row1 col1\" >68.712878</td>\n",
              "                        <td id=\"T_3ab439ee_ba19_11eb_b4ba_0242ac1c0002row1_col2\" class=\"data row1 col2\" >0.792599</td>\n",
              "                        <td id=\"T_3ab439ee_ba19_11eb_b4ba_0242ac1c0002row1_col3\" class=\"data row1 col3\" >0.890280</td>\n",
              "                        <td id=\"T_3ab439ee_ba19_11eb_b4ba_0242ac1c0002row1_col4\" class=\"data row1 col4\" >0.717012</td>\n",
              "                        <td id=\"T_3ab439ee_ba19_11eb_b4ba_0242ac1c0002row1_col5\" class=\"data row1 col5\" >0.999625</td>\n",
              "            </tr>\n",
              "            <tr>\n",
              "                        <th id=\"T_3ab439ee_ba19_11eb_b4ba_0242ac1c0002level0_row2\" class=\"row_heading level0 row2\" >2</th>\n",
              "                        <td id=\"T_3ab439ee_ba19_11eb_b4ba_0242ac1c0002row2_col0\" class=\"data row2 col0\" >Region_3</td>\n",
              "                        <td id=\"T_3ab439ee_ba19_11eb_b4ba_0242ac1c0002row2_col1\" class=\"data row2 col1\" >94.771024</td>\n",
              "                        <td id=\"T_3ab439ee_ba19_11eb_b4ba_0242ac1c0002row2_col2\" class=\"data row2 col2\" >1611.691064</td>\n",
              "                        <td id=\"T_3ab439ee_ba19_11eb_b4ba_0242ac1c0002row2_col3\" class=\"data row2 col3\" >40.145872</td>\n",
              "                        <td id=\"T_3ab439ee_ba19_11eb_b4ba_0242ac1c0002row2_col4\" class=\"data row2 col4\" >32.896959</td>\n",
              "                        <td id=\"T_3ab439ee_ba19_11eb_b4ba_0242ac1c0002row2_col5\" class=\"data row2 col5\" >0.196347</td>\n",
              "            </tr>\n",
              "    </tbody></table>"
            ],
            "text/plain": [
              "<pandas.io.formats.style.Styler at 0x7f953b0ea790>"
            ]
          },
          "metadata": {
            "tags": []
          },
          "execution_count": 62
        }
      ]
    },
    {
      "cell_type": "markdown",
      "metadata": {
        "id": "fdJ9TnwjS603"
      },
      "source": [
        "По второму региону модель ведет себя слишком идеально, чтобы это было правдой. Лучшая модель и регион для исследования считаю - регион 1"
      ]
    },
    {
      "cell_type": "markdown",
      "metadata": {
        "id": "GiJP3zLDS603"
      },
      "source": [
        "### Вывод"
      ]
    },
    {
      "cell_type": "markdown",
      "metadata": {
        "id": "xvbKrF8fS603"
      },
      "source": [
        "1. построили три модели линейно регрессии:  \n",
        "  \n",
        "  - RMSE 1 модели: 37.757\n",
        "  - RMSE 2 модели: 0.890\n",
        "  - RMSE 3 модели: 40.146\n",
        "  \n",
        "Результаты сложно назвать удовлетворительными, при этом стоит отметить, что модель 2 не стоит брать в рассчет - результаты слишком хорошие, а мы видели, что признак `product` просто сгруппирован по 6 группам. Необходимо уточнить причины таких группировок и сделать перерасчет. По 1 и 3 модели - стоит уточнить данные и возможно улучшить прогнозы  \n",
        "\n",
        "2. средние запасы по региону, предсказанные моделью:  \n",
        "\n",
        "  - Среднее 1 модели: 92.3988 (по данным реальным: 92.500)\n",
        "  - Среднее 2 модели: 68.7129 (по данным реальным: 68.825)\n",
        "  - Среднее 3 модели: 94.771 (по данным реальным: 95.000)\n",
        "  \n",
        "Средние предсказанные значения достаточно близки к тем, что мы получили в исходных сетах в п. 1.3.1  \n",
        "\n",
        "Так или иначе, использование моделей для принятия решения с такими показателями является выскоим риском, рекомендуется добавить дополнительные признаки и сделать перерасчет. Но стоит отметить, что модель лучше, чем случайная, поэтому при выборе - случайная модель на основе средних или медианы или модель - выбор предлагаю оставить за моделью."
      ]
    },
    {
      "cell_type": "markdown",
      "metadata": {
        "id": "95nSj_6cS603"
      },
      "source": [
        "<a href=\"#footer\">К содержанию</a>\n",
        "\n",
        "<footer id=\"footer\"></footer>"
      ]
    },
    {
      "cell_type": "markdown",
      "metadata": {
        "id": "kI-UvCjoS603"
      },
      "source": [
        "## Подготовка к расчёту прибыли"
      ]
    },
    {
      "cell_type": "markdown",
      "metadata": {
        "id": "04AbzU6zS603"
      },
      "source": [
        "### Назначение переменных для ключевых параметров"
      ]
    },
    {
      "cell_type": "code",
      "metadata": {
        "colab": {
          "base_uri": "https://localhost:8080/",
          "height": 173
        },
        "id": "2r27RQ1XS604",
        "outputId": "6a2f178e-f017-4679-8048-199fdc531d29"
      },
      "source": [
        "budget = 10*10**9\n",
        "points_of_well = 200\n",
        "price_per_1000b = 450*10**3\n",
        "well_price = int(budget / points_of_well)\n",
        "variable = pd.DataFrame({'Бюджет, руб': [budget], 'Количество скважин, ед.':[points_of_well],\n",
        "                        'Стоимость бурения, руб': [well_price], 'Цена за 1000 баррелей, руб':[price_per_1000b]}\n",
        "                       ).T\n",
        "\n",
        "variable"
      ],
      "execution_count": 63,
      "outputs": [
        {
          "output_type": "execute_result",
          "data": {
            "text/html": [
              "<div>\n",
              "<style scoped>\n",
              "    .dataframe tbody tr th:only-of-type {\n",
              "        vertical-align: middle;\n",
              "    }\n",
              "\n",
              "    .dataframe tbody tr th {\n",
              "        vertical-align: top;\n",
              "    }\n",
              "\n",
              "    .dataframe thead th {\n",
              "        text-align: right;\n",
              "    }\n",
              "</style>\n",
              "<table border=\"1\" class=\"dataframe\">\n",
              "  <thead>\n",
              "    <tr style=\"text-align: right;\">\n",
              "      <th></th>\n",
              "      <th>0</th>\n",
              "    </tr>\n",
              "  </thead>\n",
              "  <tbody>\n",
              "    <tr>\n",
              "      <th>Бюджет, руб</th>\n",
              "      <td>10000000000</td>\n",
              "    </tr>\n",
              "    <tr>\n",
              "      <th>Количество скважин, ед.</th>\n",
              "      <td>200</td>\n",
              "    </tr>\n",
              "    <tr>\n",
              "      <th>Стоимость бурения, руб</th>\n",
              "      <td>50000000</td>\n",
              "    </tr>\n",
              "    <tr>\n",
              "      <th>Цена за 1000 баррелей, руб</th>\n",
              "      <td>450000</td>\n",
              "    </tr>\n",
              "  </tbody>\n",
              "</table>\n",
              "</div>"
            ],
            "text/plain": [
              "                                      0\n",
              "Бюджет, руб                 10000000000\n",
              "Количество скважин, ед.             200\n",
              "Стоимость бурения, руб         50000000\n",
              "Цена за 1000 баррелей, руб       450000"
            ]
          },
          "metadata": {
            "tags": []
          },
          "execution_count": 63
        }
      ]
    },
    {
      "cell_type": "markdown",
      "metadata": {
        "id": "dfX8qGQcS604"
      },
      "source": [
        "<div class=\"alert alert-block alert-info\">\n",
        "<b>Совет: </b> В названиях константных переменных лучше использовать только БОЛЬШИЕ буквы. Это соглашение между программистами.\n",
        "</div>"
      ]
    },
    {
      "cell_type": "code",
      "metadata": {
        "colab": {
          "base_uri": "https://localhost:8080/"
        },
        "id": "u6N4yT9YS604",
        "outputId": "b6fa51ca-ca80-4573-d287-43b588661a78"
      },
      "source": [
        "oil_deposits = well_price / price_per_1000b\n",
        "\n",
        "print('Минимальный запас нефти на скважину, тыс. бар.: {:.2f}'.format(oil_deposits))"
      ],
      "execution_count": 64,
      "outputs": [
        {
          "output_type": "stream",
          "text": [
            "Минимальный запас нефти на скважину, тыс. бар.: 111.11\n"
          ],
          "name": "stdout"
        }
      ]
    },
    {
      "cell_type": "code",
      "metadata": {
        "colab": {
          "base_uri": "https://localhost:8080/",
          "height": 142
        },
        "id": "TBM0qLY0S604",
        "outputId": "3fabb608-1a8e-44fd-de5b-8279eed72e1d"
      },
      "source": [
        "summary ['difference'] = summary['mean'] - oil_deposits\n",
        "summary"
      ],
      "execution_count": 65,
      "outputs": [
        {
          "output_type": "execute_result",
          "data": {
            "text/html": [
              "<div>\n",
              "<style scoped>\n",
              "    .dataframe tbody tr th:only-of-type {\n",
              "        vertical-align: middle;\n",
              "    }\n",
              "\n",
              "    .dataframe tbody tr th {\n",
              "        vertical-align: top;\n",
              "    }\n",
              "\n",
              "    .dataframe thead th {\n",
              "        text-align: right;\n",
              "    }\n",
              "</style>\n",
              "<table border=\"1\" class=\"dataframe\">\n",
              "  <thead>\n",
              "    <tr style=\"text-align: right;\">\n",
              "      <th></th>\n",
              "      <th>model</th>\n",
              "      <th>mean</th>\n",
              "      <th>mse</th>\n",
              "      <th>rmse</th>\n",
              "      <th>mae</th>\n",
              "      <th>r2</th>\n",
              "      <th>difference</th>\n",
              "    </tr>\n",
              "  </thead>\n",
              "  <tbody>\n",
              "    <tr>\n",
              "      <th>0</th>\n",
              "      <td>Region_1</td>\n",
              "      <td>92.398800</td>\n",
              "      <td>1425.560870</td>\n",
              "      <td>37.756600</td>\n",
              "      <td>31.047682</td>\n",
              "      <td>0.272829</td>\n",
              "      <td>-18.712311</td>\n",
              "    </tr>\n",
              "    <tr>\n",
              "      <th>1</th>\n",
              "      <td>Region_2</td>\n",
              "      <td>68.712878</td>\n",
              "      <td>0.792599</td>\n",
              "      <td>0.890280</td>\n",
              "      <td>0.717012</td>\n",
              "      <td>0.999625</td>\n",
              "      <td>-42.398233</td>\n",
              "    </tr>\n",
              "    <tr>\n",
              "      <th>2</th>\n",
              "      <td>Region_3</td>\n",
              "      <td>94.771024</td>\n",
              "      <td>1611.691064</td>\n",
              "      <td>40.145872</td>\n",
              "      <td>32.896959</td>\n",
              "      <td>0.196347</td>\n",
              "      <td>-16.340087</td>\n",
              "    </tr>\n",
              "  </tbody>\n",
              "</table>\n",
              "</div>"
            ],
            "text/plain": [
              "      model       mean          mse       rmse        mae        r2  difference\n",
              "0  Region_1  92.398800  1425.560870  37.756600  31.047682  0.272829  -18.712311\n",
              "1  Region_2  68.712878     0.792599   0.890280   0.717012  0.999625  -42.398233\n",
              "2  Region_3  94.771024  1611.691064  40.145872  32.896959  0.196347  -16.340087"
            ]
          },
          "metadata": {
            "tags": []
          },
          "execution_count": 65
        }
      ]
    },
    {
      "cell_type": "markdown",
      "metadata": {
        "id": "uXF2aZbFS604"
      },
      "source": [
        "Назначили основные переменные: для бюджета, количества скважин, стоимости бурения одной скважины, цену за 1000 баррелей (так как именно это является единицей продукции). Также мы посчитали минимальный запас скважины (точка безубыточности), чтобы она смогла окупить. Следует обратить внимание, что по всем регионам среднее значение запасов ниже допустимого безубыточного. Посмотрим доли 'хороших скважин'"
      ]
    },
    {
      "cell_type": "code",
      "metadata": {
        "colab": {
          "base_uri": "https://localhost:8080/"
        },
        "id": "7K_GGMtGS604",
        "outputId": "d6ed6d73-a486-41bc-ee77-2e2e46a91721"
      },
      "source": [
        "good_reg_1 = (reg_1_report.query('product >= 111.11').shape[0]) / (reg_1_report.shape[0])\n",
        "print('Доля безубыточных скважин в регионе: {:.2%}'.format(good_reg_1))"
      ],
      "execution_count": 66,
      "outputs": [
        {
          "output_type": "stream",
          "text": [
            "Доля безубыточных скважин в регионе: 36.40%\n"
          ],
          "name": "stdout"
        }
      ]
    },
    {
      "cell_type": "code",
      "metadata": {
        "colab": {
          "base_uri": "https://localhost:8080/"
        },
        "id": "tFXWbF7zS604",
        "outputId": "271cbe49-8072-460d-aed3-c1a82066c562"
      },
      "source": [
        "good_reg_2 = (reg_2_report.query('product >= 111.11').shape[0]) / (reg_2_report.shape[0])\n",
        "print('Доля безубыточных скважин в регионе: {:.2%}'.format(good_reg_2))"
      ],
      "execution_count": 67,
      "outputs": [
        {
          "output_type": "stream",
          "text": [
            "Доля безубыточных скважин в регионе: 16.50%\n"
          ],
          "name": "stdout"
        }
      ]
    },
    {
      "cell_type": "code",
      "metadata": {
        "colab": {
          "base_uri": "https://localhost:8080/"
        },
        "id": "HusDzhiqS604",
        "outputId": "277bf95a-2c62-4bca-e095-c327bb6dd04f"
      },
      "source": [
        "good_reg_3 = (reg_3_report.query('product >= 111.11').shape[0]) / (reg_2_report.shape[0])\n",
        "print('Доля безубыточных скважин в регионе: {:.2%}'.format(good_reg_3))"
      ],
      "execution_count": 68,
      "outputs": [
        {
          "output_type": "stream",
          "text": [
            "Доля безубыточных скважин в регионе: 38.14%\n"
          ],
          "name": "stdout"
        }
      ]
    },
    {
      "cell_type": "markdown",
      "metadata": {
        "id": "KsJ7j_HeS605"
      },
      "source": [
        "### Вывод"
      ]
    },
    {
      "cell_type": "code",
      "metadata": {
        "colab": {
          "base_uri": "https://localhost:8080/",
          "height": 173
        },
        "id": "V9gxZKJzS605",
        "outputId": "250bcc2d-79c8-4c94-93e3-bcfedd31e5f1"
      },
      "source": [
        "variable"
      ],
      "execution_count": 69,
      "outputs": [
        {
          "output_type": "execute_result",
          "data": {
            "text/html": [
              "<div>\n",
              "<style scoped>\n",
              "    .dataframe tbody tr th:only-of-type {\n",
              "        vertical-align: middle;\n",
              "    }\n",
              "\n",
              "    .dataframe tbody tr th {\n",
              "        vertical-align: top;\n",
              "    }\n",
              "\n",
              "    .dataframe thead th {\n",
              "        text-align: right;\n",
              "    }\n",
              "</style>\n",
              "<table border=\"1\" class=\"dataframe\">\n",
              "  <thead>\n",
              "    <tr style=\"text-align: right;\">\n",
              "      <th></th>\n",
              "      <th>0</th>\n",
              "    </tr>\n",
              "  </thead>\n",
              "  <tbody>\n",
              "    <tr>\n",
              "      <th>Бюджет, руб</th>\n",
              "      <td>10000000000</td>\n",
              "    </tr>\n",
              "    <tr>\n",
              "      <th>Количество скважин, ед.</th>\n",
              "      <td>200</td>\n",
              "    </tr>\n",
              "    <tr>\n",
              "      <th>Стоимость бурения, руб</th>\n",
              "      <td>50000000</td>\n",
              "    </tr>\n",
              "    <tr>\n",
              "      <th>Цена за 1000 баррелей, руб</th>\n",
              "      <td>450000</td>\n",
              "    </tr>\n",
              "  </tbody>\n",
              "</table>\n",
              "</div>"
            ],
            "text/plain": [
              "                                      0\n",
              "Бюджет, руб                 10000000000\n",
              "Количество скважин, ед.             200\n",
              "Стоимость бурения, руб         50000000\n",
              "Цена за 1000 баррелей, руб       450000"
            ]
          },
          "metadata": {
            "tags": []
          },
          "execution_count": 69
        }
      ]
    },
    {
      "cell_type": "markdown",
      "metadata": {
        "id": "KaJX-fCaS605"
      },
      "source": [
        "Собрали основные переменные в таблицу для удобства после назначения. Также проверили долю безубыточных скважин в регионе:  \n",
        "\n",
        "в каждом регионе есть некоторое количество безубточных скважин, их все необходимо проверить"
      ]
    },
    {
      "cell_type": "markdown",
      "metadata": {
        "id": "hCO_4hS0S605"
      },
      "source": [
        "<a href=\"#footer\">К содержанию</a>\n",
        "\n",
        "<footer id=\"footer\"></footer>"
      ]
    },
    {
      "cell_type": "markdown",
      "metadata": {
        "id": "iJ6yXEnvS605"
      },
      "source": [
        "## Расчёт прибыли и рисков "
      ]
    },
    {
      "cell_type": "markdown",
      "metadata": {
        "id": "bbFWnKWZS605"
      },
      "source": [
        "### Рассчет прибыли на основе прогнозов модели"
      ]
    },
    {
      "cell_type": "markdown",
      "metadata": {
        "id": "7Ets_bSoS605"
      },
      "source": [
        "Напишем функцию для рассчета прибыли:  \n",
        " - выберем 200 скважин с лучшими предсказаниями\n",
        " - просуммируем целевые значения\n",
        " - рассчитаем прибыль для полученных результатов сырья"
      ]
    },
    {
      "cell_type": "code",
      "metadata": {
        "id": "vBx3Bw6DS605"
      },
      "source": [
        "def income(report):\n",
        "    top_200 = report.sort_values(by=['predicted'], ascending=False)[:200]\n",
        "    true_sort_sum = report['product'][top_200.index].sum() \n",
        "    return (((true_sort_sum * price_per_1000b) - budget)/ (10**9))\n"
      ],
      "execution_count": 70,
      "outputs": []
    },
    {
      "cell_type": "code",
      "metadata": {
        "colab": {
          "base_uri": "https://localhost:8080/"
        },
        "id": "08H8GOQ4S605",
        "outputId": "f4d70a5a-2823-4329-d374-43b7dbe5d2a9"
      },
      "source": [
        "reg_1_income = income(reg_1_report)\n",
        "reg_2_income = income(reg_2_report)\n",
        "reg_3_income = income(reg_3_report)\n",
        "\n",
        "print('Прогнозируемый моделью доход с первого региона, млрд. рублей :{:.2f}'.format(reg_1_income))\n",
        "print('Прогнозируемый моделью доход со второго региона, млрд. рублей :{:.2f}'.format(reg_2_income))\n",
        "print('Прогнозируемый моделью доход с третьего региона, млрд. рублей :{:.2f}'.format(reg_3_income))"
      ],
      "execution_count": 71,
      "outputs": [
        {
          "output_type": "stream",
          "text": [
            "Прогнозируемый моделью доход с первого региона, млрд. рублей :3.36\n",
            "Прогнозируемый моделью доход со второго региона, млрд. рублей :2.42\n",
            "Прогнозируемый моделью доход с третьего региона, млрд. рублей :2.60\n"
          ],
          "name": "stdout"
        }
      ]
    },
    {
      "cell_type": "code",
      "metadata": {
        "colab": {
          "base_uri": "https://localhost:8080/"
        },
        "id": "WxO6iQ1cS606",
        "outputId": "46b844e9-c94a-41d3-9fcf-8ebfdd988161"
      },
      "source": [
        "print('Прибыль с региона относительно затрат: {:.5%}'.format(reg_1_income*10**9/budget))\n",
        "print('Прибыль с региона относительно затрат: {:.5%}'.format(reg_2_income*10**9/budget))\n",
        "print('Прибыль с региона относительно затрат: {:.5%}'.format(reg_3_income*10**9/budget))"
      ],
      "execution_count": 72,
      "outputs": [
        {
          "output_type": "stream",
          "text": [
            "Прибыль с региона относительно затрат: 33.59141%\n",
            "Прибыль с региона относительно затрат: 24.15087%\n",
            "Прибыль с региона относительно затрат: 25.98572%\n"
          ],
          "name": "stdout"
        }
      ]
    },
    {
      "cell_type": "code",
      "metadata": {
        "colab": {
          "base_uri": "https://localhost:8080/",
          "height": 103
        },
        "id": "fYhZagLfS606",
        "outputId": "dd751ae2-5b11-40e9-e969-a637e3d5fb5e"
      },
      "source": [
        "result = pd.DataFrame({'region':[1, 2, 3], 'profit':[reg_1_income, reg_2_income, reg_3_income]})\n",
        "result['useful'] = result['profit'].apply(lambda x: 'да' if x > 0 else 'нет')\n",
        "result.style.highlight_max('profit', color = 'green', axis = 0)"
      ],
      "execution_count": 80,
      "outputs": [
        {
          "output_type": "execute_result",
          "data": {
            "text/html": [
              "<style  type=\"text/css\" >\n",
              "#T_76ff0dfc_ba19_11eb_b4ba_0242ac1c0002row0_col1{\n",
              "            background-color:  green;\n",
              "        }</style><table id=\"T_76ff0dfc_ba19_11eb_b4ba_0242ac1c0002\" ><thead>    <tr>        <th class=\"blank level0\" ></th>        <th class=\"col_heading level0 col0\" >region</th>        <th class=\"col_heading level0 col1\" >profit</th>        <th class=\"col_heading level0 col2\" >useful</th>    </tr></thead><tbody>\n",
              "                <tr>\n",
              "                        <th id=\"T_76ff0dfc_ba19_11eb_b4ba_0242ac1c0002level0_row0\" class=\"row_heading level0 row0\" >0</th>\n",
              "                        <td id=\"T_76ff0dfc_ba19_11eb_b4ba_0242ac1c0002row0_col0\" class=\"data row0 col0\" >1</td>\n",
              "                        <td id=\"T_76ff0dfc_ba19_11eb_b4ba_0242ac1c0002row0_col1\" class=\"data row0 col1\" >3.359141</td>\n",
              "                        <td id=\"T_76ff0dfc_ba19_11eb_b4ba_0242ac1c0002row0_col2\" class=\"data row0 col2\" >да</td>\n",
              "            </tr>\n",
              "            <tr>\n",
              "                        <th id=\"T_76ff0dfc_ba19_11eb_b4ba_0242ac1c0002level0_row1\" class=\"row_heading level0 row1\" >1</th>\n",
              "                        <td id=\"T_76ff0dfc_ba19_11eb_b4ba_0242ac1c0002row1_col0\" class=\"data row1 col0\" >2</td>\n",
              "                        <td id=\"T_76ff0dfc_ba19_11eb_b4ba_0242ac1c0002row1_col1\" class=\"data row1 col1\" >2.415087</td>\n",
              "                        <td id=\"T_76ff0dfc_ba19_11eb_b4ba_0242ac1c0002row1_col2\" class=\"data row1 col2\" >да</td>\n",
              "            </tr>\n",
              "            <tr>\n",
              "                        <th id=\"T_76ff0dfc_ba19_11eb_b4ba_0242ac1c0002level0_row2\" class=\"row_heading level0 row2\" >2</th>\n",
              "                        <td id=\"T_76ff0dfc_ba19_11eb_b4ba_0242ac1c0002row2_col0\" class=\"data row2 col0\" >3</td>\n",
              "                        <td id=\"T_76ff0dfc_ba19_11eb_b4ba_0242ac1c0002row2_col1\" class=\"data row2 col1\" >2.598572</td>\n",
              "                        <td id=\"T_76ff0dfc_ba19_11eb_b4ba_0242ac1c0002row2_col2\" class=\"data row2 col2\" >да</td>\n",
              "            </tr>\n",
              "    </tbody></table>"
            ],
            "text/plain": [
              "<pandas.io.formats.style.Styler at 0x7f953b2cb350>"
            ]
          },
          "metadata": {
            "tags": []
          },
          "execution_count": 80
        }
      ]
    },
    {
      "cell_type": "markdown",
      "metadata": {
        "id": "OTW3XUf6S606"
      },
      "source": [
        "Рассчитали прибыль по регионам на основе прогнозов. Самый прибыльный регион - первый, прибыль составит 3.35 млрд рублей, что составляет 33.59% от бюджета. Но так или иначе, предлагаю добавить признаков, переобучить модель, прежде чем принимать окончательное решение о разработке того или иного региона. На данный момент - главный кандидат на разработку регион 1. Проверим доверительный интервал и посмотрим риски для каждого региона методом Boostrap"
      ]
    },
    {
      "cell_type": "markdown",
      "metadata": {
        "id": "khfMh5R-S606"
      },
      "source": [
        "<a href=\"#footer\">К содержанию</a>\n",
        "\n",
        "<footer id=\"footer\"></footer>"
      ]
    },
    {
      "cell_type": "markdown",
      "metadata": {
        "id": "qa2XBU9ES606"
      },
      "source": [
        "## Рассчет рисков и прибыль для каждого региона"
      ]
    },
    {
      "cell_type": "markdown",
      "metadata": {
        "id": "WKn2igd4S606"
      },
      "source": [
        "Напишем две вспомогательные функции - одну для Bootstrap и одну вспомогательную для работы внутри функции"
      ]
    },
    {
      "cell_type": "code",
      "metadata": {
        "id": "zu-OrxVmS606"
      },
      "source": [
        "def monte_carlo(report):\n",
        "    values = []\n",
        "    state = np.random.RandomState(42) \n",
        "    \n",
        "    for i in range(1000):\n",
        "        \n",
        "        probs_subsample = report['predicted'].sample(n=500, replace=True, random_state=state)     \n",
        "        probs_top = probs_subsample.sort_values(ascending=False)\n",
        "        cur_top_200 = report['product'][probs_top.index][:200]\n",
        "        profit = ((price_per_1000b * cur_top_200.sum()) - budget)/ (10**9)\n",
        "        values.append(profit)\n",
        "        \n",
        "    values = pd.Series(values)\n",
        "    mean = values.mean()\n",
        "    lower = values.quantile(0.025)\n",
        "    upper = values.quantile(0.975)\n",
        "    confidence_interval = st.t.interval(0.95, len(values)-1, \n",
        "                                        mean, values.sem())\n",
        "    \n",
        "    risks_sum = 0\n",
        "    \n",
        "    for value in values:\n",
        "        if value < 0:\n",
        "            risks_sum += 1\n",
        "        \n",
        "    risk = risks_sum / len(values)\n",
        "        \n",
        "    print('Средняя выручка: {:.2f}'.format(mean)),\n",
        "    print('2.5%-квантиль: {:.2f}'.format(lower)),\n",
        "    print('97.5%-квантиль: {:.2f}'.format(upper)),\n",
        "    print('95% доверительный интервал: ', confidence_interval),\n",
        "    print('Риски: {:.2%}'.format(risk))\n",
        "   "
      ],
      "execution_count": 74,
      "outputs": []
    },
    {
      "cell_type": "markdown",
      "metadata": {
        "id": "CwiBBJyoS607"
      },
      "source": [
        "### Регион 1"
      ]
    },
    {
      "cell_type": "code",
      "metadata": {
        "colab": {
          "base_uri": "https://localhost:8080/"
        },
        "id": "nPqaEhPsS607",
        "outputId": "ecf784d5-4747-4abd-bd92-2df474bb298f"
      },
      "source": [
        "monte_carlo(reg_1_report)"
      ],
      "execution_count": 75,
      "outputs": [
        {
          "output_type": "stream",
          "text": [
            "Средняя выручка: 0.40\n",
            "2.5%-квантиль: -0.11\n",
            "97.5%-квантиль: 0.90\n",
            "95% доверительный интервал:  (0.3834659446179579, 0.4156850114905021)\n",
            "Риски: 6.00%\n"
          ],
          "name": "stdout"
        }
      ]
    },
    {
      "cell_type": "markdown",
      "metadata": {
        "id": "kEIy2gX_S607"
      },
      "source": [
        "На бустраповской выборке мы имеем 95% вероятность получить свыше 0.38 млрд рублей. Риски стать убыточным для региона составляют 6.00%"
      ]
    },
    {
      "cell_type": "markdown",
      "metadata": {
        "id": "9C3dm5BSS607"
      },
      "source": [
        "<a href=\"#footer\">К содержанию</a>\n",
        "\n",
        "<footer id=\"footer\"></footer>"
      ]
    },
    {
      "cell_type": "markdown",
      "metadata": {
        "id": "qnqYKcAzS607"
      },
      "source": [
        "### Регион 2"
      ]
    },
    {
      "cell_type": "code",
      "metadata": {
        "colab": {
          "base_uri": "https://localhost:8080/"
        },
        "id": "g0IBmwZxS607",
        "outputId": "185288fe-0069-4b2f-d73e-4c603bb6de34"
      },
      "source": [
        "monte_carlo(reg_2_report)"
      ],
      "execution_count": 76,
      "outputs": [
        {
          "output_type": "stream",
          "text": [
            "Средняя выручка: 0.45\n",
            "2.5%-квантиль: 0.06\n",
            "97.5%-квантиль: 0.85\n",
            "95% доверительный интервал:  (0.4393369211915222, 0.4647608606213944)\n",
            "Риски: 1.50%\n"
          ],
          "name": "stdout"
        }
      ]
    },
    {
      "cell_type": "markdown",
      "metadata": {
        "id": "TioYbMpvS607"
      },
      "source": [
        "На бустраповской выборке мы имеем 95% вероятность получить свыше 0.43 млрд рублей. Риски стать убыточным для региона составляют 1.5%"
      ]
    },
    {
      "cell_type": "markdown",
      "metadata": {
        "id": "Limdo8usS607"
      },
      "source": [
        "<a href=\"#footer\">К содержанию</a>\n",
        "\n",
        "<footer id=\"footer\"></footer>"
      ]
    },
    {
      "cell_type": "markdown",
      "metadata": {
        "id": "uM8Jy4PQS607"
      },
      "source": [
        "### Регион 3"
      ]
    },
    {
      "cell_type": "code",
      "metadata": {
        "colab": {
          "base_uri": "https://localhost:8080/"
        },
        "id": "HTHg7zjxS608",
        "outputId": "ff02574f-6c93-4bf4-9bfa-180772dd1ae4"
      },
      "source": [
        "monte_carlo(reg_3_report)"
      ],
      "execution_count": 77,
      "outputs": [
        {
          "output_type": "stream",
          "text": [
            "Средняя выручка: 0.38\n",
            "2.5%-квантиль: -0.14\n",
            "97.5%-квантиль: 0.89\n",
            "95% доверительный интервал:  (0.35873467982884444, 0.3912851260018131)\n",
            "Риски: 8.00%\n"
          ],
          "name": "stdout"
        }
      ]
    },
    {
      "cell_type": "markdown",
      "metadata": {
        "id": "koh4vzLXS608"
      },
      "source": [
        "На бустраповской выборке мы имеем 95% вероятность получить свыше 0.35 млрд рублей. Риски стать убыточным для региона составляют 8%"
      ]
    },
    {
      "cell_type": "markdown",
      "metadata": {
        "id": "42jwqAJ-S608"
      },
      "source": [
        "<a href=\"#footer\">К содержанию</a>\n",
        "\n",
        "<footer id=\"footer\"></footer>"
      ]
    },
    {
      "cell_type": "markdown",
      "metadata": {
        "id": "nJlL5aUJS608"
      },
      "source": [
        "## Вывод"
      ]
    },
    {
      "cell_type": "markdown",
      "metadata": {
        "id": "qzeiGgCwS608"
      },
      "source": [
        "Нам были предоставлены пробы нефти в трёх регионах: в каждом 10 000 месторождений, где измерили качество нефти и объём её запасов. Мы построили модель машинного обучения на основе линейной регрессии, с помощью которой мы определили самый предположительно прибыльный регион.  \n",
        "\n",
        "Самую высокую прибыль показал `РЕГИОН 1` - 3.35914 млрд рублей прогнозируемых\n",
        "\n",
        "\n",
        "Также мы проверили среднюю выручку техникой Bootsrap - наилучший результат и наименьшие риски показал `РЕГИОН 1` и `РЕГИОН 2`. При этом,  `РЕГИОН 2` рассматривать не стоит, так как в процессе изучения было обнаружено, что целевой признак сгруппирован в 6 групп, необходимо уточнение и переобучение модели. \n",
        "\n",
        "\n",
        "Также стоит отметить, что модель показала себя хоть и лучше случайно константной, но ее оценка не является удовлетворительной.  \n",
        "\n",
        "В совокупности, с помощью модели и техники `Bootstrap` предлагаю рассмотреть `РЕГИОН 1` для разработки, но для этого необходимо провести дополнительные исследования для более точного прогнозирования точек\n"
      ]
    },
    {
      "cell_type": "markdown",
      "metadata": {
        "id": "bc4Ejdc4S608"
      },
      "source": [
        "<a href=\"#footer\">К содержанию</a>\n",
        "\n",
        "<footer id=\"footer\"></footer>"
      ]
    }
  ]
}