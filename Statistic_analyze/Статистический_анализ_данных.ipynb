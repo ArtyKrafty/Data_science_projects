{
  "nbformat": 4,
  "nbformat_minor": 0,
  "metadata": {
    "kernelspec": {
      "display_name": "Python 3",
      "language": "python",
      "name": "python3"
    },
    "language_info": {
      "codemirror_mode": {
        "name": "ipython",
        "version": 3
      },
      "file_extension": ".py",
      "mimetype": "text/x-python",
      "name": "python",
      "nbconvert_exporter": "python",
      "pygments_lexer": "ipython3",
      "version": "3.7.8"
    },
    "toc": {
      "base_numbering": 1,
      "nav_menu": {},
      "number_sections": true,
      "sideBar": true,
      "skip_h1_title": true,
      "title_cell": "Table of Contents",
      "title_sidebar": "Contents",
      "toc_cell": false,
      "toc_position": {
        "height": "calc(100% - 180px)",
        "left": "10px",
        "top": "150px",
        "width": "366.391px"
      },
      "toc_section_display": true,
      "toc_window_display": false
    },
    "colab": {
      "name": "Копия блокнота \"Статистический анализ данных.ipynb\"",
      "provenance": [],
      "collapsed_sections": []
    }
  },
  "cells": [
    {
      "cell_type": "markdown",
      "metadata": {
        "id": "1ffwvkQmO-5l"
      },
      "source": [
        "# Определение перспективного тарифа для телеком компании\n",
        "\n",
        "Нам известно, что клиентам предлагают два тарифных плана: **«Смарт» и «Ультра»**. Чтобы скорректировать рекламный бюджет, необходимо понять, какой тариф приносит больше денег.\n",
        "Нам предстоит сделать предварительный анализ тарифов на небольшой выборке клиентов. Нужно проанализировать поведение клиентов и сделать вывод — какой тариф лучше.\n",
        "\n",
        "**Описание тарифов:**\n",
        "* Тариф **«Смарт»**\n",
        "    * Ежемесячная плата: **550 рублей**\n",
        "    * Включено **500 минут** разговора, **50 сообщений** и **15 Гб** интернет-трафика\n",
        "    * Стоимость услуг сверх тарифного пакета:\n",
        "    * минута разговора: **3 рубля**\n",
        "    * сообщение: **3 рубля**\n",
        "    * 1 Гб интернет-трафика: **200 рублей**\n",
        "    \n",
        "\n",
        "* Тариф **«Ультра»**\n",
        "    * Ежемесячная плата: **1950 рублей**\n",
        "    * Включено **3000 минут** разговора, **1000 сообщений** и **30 Гб** интернет-трафика\n",
        "    * Стоимость услуг сверх тарифного пакета:\n",
        "    * минута разговора: **1 рубль**\n",
        "    * сообщение: **1 рубль**\n",
        "    * 1 Гб интернет-трафика: **150 рублей**\n",
        "\n",
        "*Примечание: оператор всегда округляет вверх значения минут и мегабайтов. Если пользователь проговорил всего 1 секунду, в тарифе засчитывается целая минута.*"
      ]
    },
    {
      "cell_type": "markdown",
      "metadata": {
        "id": "VbpQgQ5tO-5m"
      },
      "source": [
        "## Общая информация о данных в работе"
      ]
    },
    {
      "cell_type": "code",
      "metadata": {
        "id": "BscxJ_tOO-5m"
      },
      "source": [
        "import pandas as pd\n",
        "import numpy as np\n",
        "%matplotlib inline\n",
        "import matplotlib.pyplot as plt\n",
        "import seaborn as sns\n",
        "import plotly.express as px\n",
        "from scipy import stats as st\n",
        "sns.set_style(\"darkgrid\")\n"
      ],
      "execution_count": null,
      "outputs": []
    },
    {
      "cell_type": "code",
      "metadata": {
        "id": "hV_wJsmXO-5m"
      },
      "source": [
        "df_users = pd.read_csv('/content/users.csv')\n",
        "df_calls = pd.read_csv('/content/calls.csv')\n",
        "df_messages = pd.read_csv('/content/messages.csv')\n",
        "df_internet = pd.read_csv('/content/internet.csv', index_col='Unnamed: 0')\n",
        "df_tariffs = pd.read_csv('/content/tariffs.csv')"
      ],
      "execution_count": null,
      "outputs": []
    },
    {
      "cell_type": "markdown",
      "metadata": {
        "id": "PA8ybNEIO-5n"
      },
      "source": [
        "### Таблица users (информация о пользователях):"
      ]
    },
    {
      "cell_type": "code",
      "metadata": {
        "colab": {
          "base_uri": "https://localhost:8080/",
          "height": 204
        },
        "id": "3miOEu5oO-5n",
        "outputId": "55ae41d5-544b-48c7-b5b8-e08134669ca6"
      },
      "source": [
        "df_users.head()"
      ],
      "execution_count": null,
      "outputs": [
        {
          "output_type": "execute_result",
          "data": {
            "text/html": [
              "<div>\n",
              "<style scoped>\n",
              "    .dataframe tbody tr th:only-of-type {\n",
              "        vertical-align: middle;\n",
              "    }\n",
              "\n",
              "    .dataframe tbody tr th {\n",
              "        vertical-align: top;\n",
              "    }\n",
              "\n",
              "    .dataframe thead th {\n",
              "        text-align: right;\n",
              "    }\n",
              "</style>\n",
              "<table border=\"1\" class=\"dataframe\">\n",
              "  <thead>\n",
              "    <tr style=\"text-align: right;\">\n",
              "      <th></th>\n",
              "      <th>user_id</th>\n",
              "      <th>age</th>\n",
              "      <th>churn_date</th>\n",
              "      <th>city</th>\n",
              "      <th>first_name</th>\n",
              "      <th>last_name</th>\n",
              "      <th>reg_date</th>\n",
              "      <th>tariff</th>\n",
              "    </tr>\n",
              "  </thead>\n",
              "  <tbody>\n",
              "    <tr>\n",
              "      <th>0</th>\n",
              "      <td>1000</td>\n",
              "      <td>52</td>\n",
              "      <td>NaN</td>\n",
              "      <td>Краснодар</td>\n",
              "      <td>Рафаил</td>\n",
              "      <td>Верещагин</td>\n",
              "      <td>2018-05-25</td>\n",
              "      <td>ultra</td>\n",
              "    </tr>\n",
              "    <tr>\n",
              "      <th>1</th>\n",
              "      <td>1001</td>\n",
              "      <td>41</td>\n",
              "      <td>NaN</td>\n",
              "      <td>Москва</td>\n",
              "      <td>Иван</td>\n",
              "      <td>Ежов</td>\n",
              "      <td>2018-11-01</td>\n",
              "      <td>smart</td>\n",
              "    </tr>\n",
              "    <tr>\n",
              "      <th>2</th>\n",
              "      <td>1002</td>\n",
              "      <td>59</td>\n",
              "      <td>NaN</td>\n",
              "      <td>Стерлитамак</td>\n",
              "      <td>Евгений</td>\n",
              "      <td>Абрамович</td>\n",
              "      <td>2018-06-17</td>\n",
              "      <td>smart</td>\n",
              "    </tr>\n",
              "    <tr>\n",
              "      <th>3</th>\n",
              "      <td>1003</td>\n",
              "      <td>23</td>\n",
              "      <td>NaN</td>\n",
              "      <td>Москва</td>\n",
              "      <td>Белла</td>\n",
              "      <td>Белякова</td>\n",
              "      <td>2018-08-17</td>\n",
              "      <td>ultra</td>\n",
              "    </tr>\n",
              "    <tr>\n",
              "      <th>4</th>\n",
              "      <td>1004</td>\n",
              "      <td>68</td>\n",
              "      <td>NaN</td>\n",
              "      <td>Новокузнецк</td>\n",
              "      <td>Татьяна</td>\n",
              "      <td>Авдеенко</td>\n",
              "      <td>2018-05-14</td>\n",
              "      <td>ultra</td>\n",
              "    </tr>\n",
              "  </tbody>\n",
              "</table>\n",
              "</div>"
            ],
            "text/plain": [
              "   user_id  age churn_date  ...  last_name    reg_date tariff\n",
              "0     1000   52        NaN  ...  Верещагин  2018-05-25  ultra\n",
              "1     1001   41        NaN  ...       Ежов  2018-11-01  smart\n",
              "2     1002   59        NaN  ...  Абрамович  2018-06-17  smart\n",
              "3     1003   23        NaN  ...   Белякова  2018-08-17  ultra\n",
              "4     1004   68        NaN  ...   Авдеенко  2018-05-14  ultra\n",
              "\n",
              "[5 rows x 8 columns]"
            ]
          },
          "metadata": {
            "tags": []
          },
          "execution_count": 4
        }
      ]
    },
    {
      "cell_type": "code",
      "metadata": {
        "colab": {
          "base_uri": "https://localhost:8080/"
        },
        "id": "6T3wAGlVO-5o",
        "outputId": "ea7522c1-c360-42e1-b45c-6586d8b41688"
      },
      "source": [
        "df_users.info()"
      ],
      "execution_count": null,
      "outputs": [
        {
          "output_type": "stream",
          "text": [
            "<class 'pandas.core.frame.DataFrame'>\n",
            "RangeIndex: 500 entries, 0 to 499\n",
            "Data columns (total 8 columns):\n",
            " #   Column      Non-Null Count  Dtype \n",
            "---  ------      --------------  ----- \n",
            " 0   user_id     500 non-null    int64 \n",
            " 1   age         500 non-null    int64 \n",
            " 2   churn_date  38 non-null     object\n",
            " 3   city        500 non-null    object\n",
            " 4   first_name  500 non-null    object\n",
            " 5   last_name   500 non-null    object\n",
            " 6   reg_date    500 non-null    object\n",
            " 7   tariff      500 non-null    object\n",
            "dtypes: int64(2), object(6)\n",
            "memory usage: 31.4+ KB\n"
          ],
          "name": "stdout"
        }
      ]
    },
    {
      "cell_type": "markdown",
      "metadata": {
        "id": "jD6U4AZNO-5o"
      },
      "source": [
        "**Таблица users (информация о пользователях):**\n",
        "\n",
        "- **user_id** — уникальный идентификатор пользователя\n",
        "- **first_name** — имя пользователя\n",
        "- **last_name** — фамилия пользователя\n",
        "- **age** — возраст пользователя (годы)\n",
        "- **reg_date** — дата подключения тарифа (день, месяц, год)\n",
        "- **churn_date** — дата прекращения пользования тарифом (если значение пропущено, то тариф ещё действовал на момент выгрузки данных)\n",
        "- **city** — город проживания пользователя\n",
        "- **tariff** — название тарифного плана"
      ]
    },
    {
      "cell_type": "markdown",
      "metadata": {
        "id": "JRshKwV6O-5o"
      },
      "source": [
        "Сет данных содержит информацию о пользователе, месте проживания, дате регистрации, о тарифе, о дате окончания пользования услугами оператора, возрасте. Пропуски наблюдаются в столбце `churn_date`. Проверим дубликаты: "
      ]
    },
    {
      "cell_type": "code",
      "metadata": {
        "colab": {
          "base_uri": "https://localhost:8080/"
        },
        "id": "ICG5dODDO-5o",
        "outputId": "3dd58d4f-bf5c-4874-b289-b4447f4f895f"
      },
      "source": [
        "df_users.duplicated().sum()"
      ],
      "execution_count": null,
      "outputs": [
        {
          "output_type": "execute_result",
          "data": {
            "text/plain": [
              "0"
            ]
          },
          "metadata": {
            "tags": []
          },
          "execution_count": 6
        }
      ]
    },
    {
      "cell_type": "code",
      "metadata": {
        "colab": {
          "base_uri": "https://localhost:8080/",
          "height": 111
        },
        "id": "LCCqAkY1O-5o",
        "outputId": "5463f63e-70c1-4ba9-9097-ed5c1fe30c9f"
      },
      "source": [
        "df_users.describe().T"
      ],
      "execution_count": null,
      "outputs": [
        {
          "output_type": "execute_result",
          "data": {
            "text/html": [
              "<div>\n",
              "<style scoped>\n",
              "    .dataframe tbody tr th:only-of-type {\n",
              "        vertical-align: middle;\n",
              "    }\n",
              "\n",
              "    .dataframe tbody tr th {\n",
              "        vertical-align: top;\n",
              "    }\n",
              "\n",
              "    .dataframe thead th {\n",
              "        text-align: right;\n",
              "    }\n",
              "</style>\n",
              "<table border=\"1\" class=\"dataframe\">\n",
              "  <thead>\n",
              "    <tr style=\"text-align: right;\">\n",
              "      <th></th>\n",
              "      <th>count</th>\n",
              "      <th>mean</th>\n",
              "      <th>std</th>\n",
              "      <th>min</th>\n",
              "      <th>25%</th>\n",
              "      <th>50%</th>\n",
              "      <th>75%</th>\n",
              "      <th>max</th>\n",
              "    </tr>\n",
              "  </thead>\n",
              "  <tbody>\n",
              "    <tr>\n",
              "      <th>user_id</th>\n",
              "      <td>500.0</td>\n",
              "      <td>1249.500</td>\n",
              "      <td>144.481833</td>\n",
              "      <td>1000.0</td>\n",
              "      <td>1124.75</td>\n",
              "      <td>1249.5</td>\n",
              "      <td>1374.25</td>\n",
              "      <td>1499.0</td>\n",
              "    </tr>\n",
              "    <tr>\n",
              "      <th>age</th>\n",
              "      <td>500.0</td>\n",
              "      <td>46.588</td>\n",
              "      <td>16.667630</td>\n",
              "      <td>18.0</td>\n",
              "      <td>32.00</td>\n",
              "      <td>46.0</td>\n",
              "      <td>62.00</td>\n",
              "      <td>75.0</td>\n",
              "    </tr>\n",
              "  </tbody>\n",
              "</table>\n",
              "</div>"
            ],
            "text/plain": [
              "         count      mean         std     min      25%     50%      75%     max\n",
              "user_id  500.0  1249.500  144.481833  1000.0  1124.75  1249.5  1374.25  1499.0\n",
              "age      500.0    46.588   16.667630    18.0    32.00    46.0    62.00    75.0"
            ]
          },
          "metadata": {
            "tags": []
          },
          "execution_count": 7
        }
      ]
    },
    {
      "cell_type": "markdown",
      "metadata": {
        "id": "4yoLyVtvO-5p"
      },
      "source": [
        "Дубликатов нет. Аномальных значений на первый взгляд нет. Столбец `reg_date` необходимо привести к `datetime` - формату"
      ]
    },
    {
      "cell_type": "markdown",
      "metadata": {
        "id": "9FWtpJbdO-5p"
      },
      "source": [
        "### Таблица calls (информация о звонках):"
      ]
    },
    {
      "cell_type": "code",
      "metadata": {
        "colab": {
          "base_uri": "https://localhost:8080/",
          "height": 204
        },
        "id": "tk8jfHkGO-5p",
        "outputId": "efce10a6-770f-4fbd-e9c4-1a564360b8ff"
      },
      "source": [
        "df_calls.head()"
      ],
      "execution_count": null,
      "outputs": [
        {
          "output_type": "execute_result",
          "data": {
            "text/html": [
              "<div>\n",
              "<style scoped>\n",
              "    .dataframe tbody tr th:only-of-type {\n",
              "        vertical-align: middle;\n",
              "    }\n",
              "\n",
              "    .dataframe tbody tr th {\n",
              "        vertical-align: top;\n",
              "    }\n",
              "\n",
              "    .dataframe thead th {\n",
              "        text-align: right;\n",
              "    }\n",
              "</style>\n",
              "<table border=\"1\" class=\"dataframe\">\n",
              "  <thead>\n",
              "    <tr style=\"text-align: right;\">\n",
              "      <th></th>\n",
              "      <th>id</th>\n",
              "      <th>call_date</th>\n",
              "      <th>duration</th>\n",
              "      <th>user_id</th>\n",
              "    </tr>\n",
              "  </thead>\n",
              "  <tbody>\n",
              "    <tr>\n",
              "      <th>0</th>\n",
              "      <td>1000_0</td>\n",
              "      <td>2018-07-25</td>\n",
              "      <td>0.00</td>\n",
              "      <td>1000</td>\n",
              "    </tr>\n",
              "    <tr>\n",
              "      <th>1</th>\n",
              "      <td>1000_1</td>\n",
              "      <td>2018-08-17</td>\n",
              "      <td>0.00</td>\n",
              "      <td>1000</td>\n",
              "    </tr>\n",
              "    <tr>\n",
              "      <th>2</th>\n",
              "      <td>1000_2</td>\n",
              "      <td>2018-06-11</td>\n",
              "      <td>2.85</td>\n",
              "      <td>1000</td>\n",
              "    </tr>\n",
              "    <tr>\n",
              "      <th>3</th>\n",
              "      <td>1000_3</td>\n",
              "      <td>2018-09-21</td>\n",
              "      <td>13.80</td>\n",
              "      <td>1000</td>\n",
              "    </tr>\n",
              "    <tr>\n",
              "      <th>4</th>\n",
              "      <td>1000_4</td>\n",
              "      <td>2018-12-15</td>\n",
              "      <td>5.18</td>\n",
              "      <td>1000</td>\n",
              "    </tr>\n",
              "  </tbody>\n",
              "</table>\n",
              "</div>"
            ],
            "text/plain": [
              "       id   call_date  duration  user_id\n",
              "0  1000_0  2018-07-25      0.00     1000\n",
              "1  1000_1  2018-08-17      0.00     1000\n",
              "2  1000_2  2018-06-11      2.85     1000\n",
              "3  1000_3  2018-09-21     13.80     1000\n",
              "4  1000_4  2018-12-15      5.18     1000"
            ]
          },
          "metadata": {
            "tags": []
          },
          "execution_count": 8
        }
      ]
    },
    {
      "cell_type": "code",
      "metadata": {
        "colab": {
          "base_uri": "https://localhost:8080/"
        },
        "id": "FxunU4ctO-5p",
        "outputId": "d892bf44-8456-4e79-b718-4258d8f3f591"
      },
      "source": [
        "df_calls.info()"
      ],
      "execution_count": null,
      "outputs": [
        {
          "output_type": "stream",
          "text": [
            "<class 'pandas.core.frame.DataFrame'>\n",
            "RangeIndex: 202607 entries, 0 to 202606\n",
            "Data columns (total 4 columns):\n",
            " #   Column     Non-Null Count   Dtype  \n",
            "---  ------     --------------   -----  \n",
            " 0   id         202607 non-null  object \n",
            " 1   call_date  202607 non-null  object \n",
            " 2   duration   202607 non-null  float64\n",
            " 3   user_id    202607 non-null  int64  \n",
            "dtypes: float64(1), int64(1), object(2)\n",
            "memory usage: 6.2+ MB\n"
          ],
          "name": "stdout"
        }
      ]
    },
    {
      "cell_type": "markdown",
      "metadata": {
        "id": "LQfgdvJtO-5p"
      },
      "source": [
        "**Таблица calls (информация о звонках):**\n",
        "\n",
        "- **id** — уникальный номер звонка\n",
        "- **call_date** — дата звонка\n",
        "- **duration** — длительность звонка в минутах\n",
        "- **user_id** — идентификатор пользователя, сделавшего звонок"
      ]
    },
    {
      "cell_type": "code",
      "metadata": {
        "colab": {
          "base_uri": "https://localhost:8080/",
          "height": 111
        },
        "id": "1J0H0METO-5q",
        "outputId": "dcd1b5e6-7d44-48c2-d669-3aa18de77cad"
      },
      "source": [
        "df_calls.describe().T"
      ],
      "execution_count": null,
      "outputs": [
        {
          "output_type": "execute_result",
          "data": {
            "text/html": [
              "<div>\n",
              "<style scoped>\n",
              "    .dataframe tbody tr th:only-of-type {\n",
              "        vertical-align: middle;\n",
              "    }\n",
              "\n",
              "    .dataframe tbody tr th {\n",
              "        vertical-align: top;\n",
              "    }\n",
              "\n",
              "    .dataframe thead th {\n",
              "        text-align: right;\n",
              "    }\n",
              "</style>\n",
              "<table border=\"1\" class=\"dataframe\">\n",
              "  <thead>\n",
              "    <tr style=\"text-align: right;\">\n",
              "      <th></th>\n",
              "      <th>count</th>\n",
              "      <th>mean</th>\n",
              "      <th>std</th>\n",
              "      <th>min</th>\n",
              "      <th>25%</th>\n",
              "      <th>50%</th>\n",
              "      <th>75%</th>\n",
              "      <th>max</th>\n",
              "    </tr>\n",
              "  </thead>\n",
              "  <tbody>\n",
              "    <tr>\n",
              "      <th>duration</th>\n",
              "      <td>202607.0</td>\n",
              "      <td>6.755887</td>\n",
              "      <td>5.843365</td>\n",
              "      <td>0.0</td>\n",
              "      <td>1.3</td>\n",
              "      <td>6.0</td>\n",
              "      <td>10.7</td>\n",
              "      <td>38.0</td>\n",
              "    </tr>\n",
              "    <tr>\n",
              "      <th>user_id</th>\n",
              "      <td>202607.0</td>\n",
              "      <td>1253.940619</td>\n",
              "      <td>144.722751</td>\n",
              "      <td>1000.0</td>\n",
              "      <td>1126.0</td>\n",
              "      <td>1260.0</td>\n",
              "      <td>1379.0</td>\n",
              "      <td>1499.0</td>\n",
              "    </tr>\n",
              "  </tbody>\n",
              "</table>\n",
              "</div>"
            ],
            "text/plain": [
              "             count         mean         std  ...     50%     75%     max\n",
              "duration  202607.0     6.755887    5.843365  ...     6.0    10.7    38.0\n",
              "user_id   202607.0  1253.940619  144.722751  ...  1260.0  1379.0  1499.0\n",
              "\n",
              "[2 rows x 8 columns]"
            ]
          },
          "metadata": {
            "tags": []
          },
          "execution_count": 10
        }
      ]
    },
    {
      "cell_type": "markdown",
      "metadata": {
        "id": "Io_gPhRGO-5q"
      },
      "source": [
        "Сет данных содержит информацию о пользователе (user_id), дате и продолжительности звонка. Дату в столбце `call_date` необходимо привести к формату `datetime`. Обнаружена аномалия - минимальное значение для продолжительности звонка - 0 минут, что не вяжется с принципами работы оператора.   \n",
        "Проверим дубликаты:"
      ]
    },
    {
      "cell_type": "code",
      "metadata": {
        "colab": {
          "base_uri": "https://localhost:8080/"
        },
        "id": "cnTZAVpFO-5q",
        "outputId": "3a90e2e4-9d85-4b27-9e13-79f511ef0170"
      },
      "source": [
        "df_calls.duplicated().sum()"
      ],
      "execution_count": null,
      "outputs": [
        {
          "output_type": "execute_result",
          "data": {
            "text/plain": [
              "0"
            ]
          },
          "metadata": {
            "tags": []
          },
          "execution_count": 11
        }
      ]
    },
    {
      "cell_type": "markdown",
      "metadata": {
        "id": "qUHQn41HO-5q"
      },
      "source": [
        "Дубликатов не обнаружено"
      ]
    },
    {
      "cell_type": "markdown",
      "metadata": {
        "id": "HEuKtZ_nO-5q"
      },
      "source": [
        "### Таблица messages (информация о сообщениях):"
      ]
    },
    {
      "cell_type": "code",
      "metadata": {
        "colab": {
          "base_uri": "https://localhost:8080/",
          "height": 204
        },
        "id": "Mz838F9QO-5q",
        "outputId": "92b41280-9928-41fe-c553-ba3137f07798"
      },
      "source": [
        "df_messages.head()"
      ],
      "execution_count": null,
      "outputs": [
        {
          "output_type": "execute_result",
          "data": {
            "text/html": [
              "<div>\n",
              "<style scoped>\n",
              "    .dataframe tbody tr th:only-of-type {\n",
              "        vertical-align: middle;\n",
              "    }\n",
              "\n",
              "    .dataframe tbody tr th {\n",
              "        vertical-align: top;\n",
              "    }\n",
              "\n",
              "    .dataframe thead th {\n",
              "        text-align: right;\n",
              "    }\n",
              "</style>\n",
              "<table border=\"1\" class=\"dataframe\">\n",
              "  <thead>\n",
              "    <tr style=\"text-align: right;\">\n",
              "      <th></th>\n",
              "      <th>id</th>\n",
              "      <th>message_date</th>\n",
              "      <th>user_id</th>\n",
              "    </tr>\n",
              "  </thead>\n",
              "  <tbody>\n",
              "    <tr>\n",
              "      <th>0</th>\n",
              "      <td>1000_0</td>\n",
              "      <td>2018-06-27</td>\n",
              "      <td>1000</td>\n",
              "    </tr>\n",
              "    <tr>\n",
              "      <th>1</th>\n",
              "      <td>1000_1</td>\n",
              "      <td>2018-10-08</td>\n",
              "      <td>1000</td>\n",
              "    </tr>\n",
              "    <tr>\n",
              "      <th>2</th>\n",
              "      <td>1000_2</td>\n",
              "      <td>2018-08-04</td>\n",
              "      <td>1000</td>\n",
              "    </tr>\n",
              "    <tr>\n",
              "      <th>3</th>\n",
              "      <td>1000_3</td>\n",
              "      <td>2018-06-16</td>\n",
              "      <td>1000</td>\n",
              "    </tr>\n",
              "    <tr>\n",
              "      <th>4</th>\n",
              "      <td>1000_4</td>\n",
              "      <td>2018-12-05</td>\n",
              "      <td>1000</td>\n",
              "    </tr>\n",
              "  </tbody>\n",
              "</table>\n",
              "</div>"
            ],
            "text/plain": [
              "       id message_date  user_id\n",
              "0  1000_0   2018-06-27     1000\n",
              "1  1000_1   2018-10-08     1000\n",
              "2  1000_2   2018-08-04     1000\n",
              "3  1000_3   2018-06-16     1000\n",
              "4  1000_4   2018-12-05     1000"
            ]
          },
          "metadata": {
            "tags": []
          },
          "execution_count": 12
        }
      ]
    },
    {
      "cell_type": "code",
      "metadata": {
        "colab": {
          "base_uri": "https://localhost:8080/"
        },
        "id": "i46MC35dO-5r",
        "outputId": "b34e40ff-77af-4a69-ef4c-61269a677ecb"
      },
      "source": [
        "df_messages.info()"
      ],
      "execution_count": null,
      "outputs": [
        {
          "output_type": "stream",
          "text": [
            "<class 'pandas.core.frame.DataFrame'>\n",
            "RangeIndex: 123036 entries, 0 to 123035\n",
            "Data columns (total 3 columns):\n",
            " #   Column        Non-Null Count   Dtype \n",
            "---  ------        --------------   ----- \n",
            " 0   id            123036 non-null  object\n",
            " 1   message_date  123036 non-null  object\n",
            " 2   user_id       123036 non-null  int64 \n",
            "dtypes: int64(1), object(2)\n",
            "memory usage: 2.8+ MB\n"
          ],
          "name": "stdout"
        }
      ]
    },
    {
      "cell_type": "markdown",
      "metadata": {
        "id": "VcLmXRrzO-5r"
      },
      "source": [
        "**Таблица messages (информация о сообщениях):**\n",
        "\n",
        "- **id** — уникальный номер сообщения\n",
        "- **message_date** — дата сообщения\n",
        "- **user_id** — идентификатор пользователя, отправившего сообщение"
      ]
    },
    {
      "cell_type": "code",
      "metadata": {
        "colab": {
          "base_uri": "https://localhost:8080/",
          "height": 80
        },
        "id": "sdNzuF4iO-5r",
        "outputId": "e3a1ebe0-be87-4071-9162-595592c5732a"
      },
      "source": [
        "df_messages.describe().T"
      ],
      "execution_count": null,
      "outputs": [
        {
          "output_type": "execute_result",
          "data": {
            "text/html": [
              "<div>\n",
              "<style scoped>\n",
              "    .dataframe tbody tr th:only-of-type {\n",
              "        vertical-align: middle;\n",
              "    }\n",
              "\n",
              "    .dataframe tbody tr th {\n",
              "        vertical-align: top;\n",
              "    }\n",
              "\n",
              "    .dataframe thead th {\n",
              "        text-align: right;\n",
              "    }\n",
              "</style>\n",
              "<table border=\"1\" class=\"dataframe\">\n",
              "  <thead>\n",
              "    <tr style=\"text-align: right;\">\n",
              "      <th></th>\n",
              "      <th>count</th>\n",
              "      <th>mean</th>\n",
              "      <th>std</th>\n",
              "      <th>min</th>\n",
              "      <th>25%</th>\n",
              "      <th>50%</th>\n",
              "      <th>75%</th>\n",
              "      <th>max</th>\n",
              "    </tr>\n",
              "  </thead>\n",
              "  <tbody>\n",
              "    <tr>\n",
              "      <th>user_id</th>\n",
              "      <td>123036.0</td>\n",
              "      <td>1256.98941</td>\n",
              "      <td>143.523967</td>\n",
              "      <td>1000.0</td>\n",
              "      <td>1134.0</td>\n",
              "      <td>1271.0</td>\n",
              "      <td>1381.0</td>\n",
              "      <td>1499.0</td>\n",
              "    </tr>\n",
              "  </tbody>\n",
              "</table>\n",
              "</div>"
            ],
            "text/plain": [
              "            count        mean         std  ...     50%     75%     max\n",
              "user_id  123036.0  1256.98941  143.523967  ...  1271.0  1381.0  1499.0\n",
              "\n",
              "[1 rows x 8 columns]"
            ]
          },
          "metadata": {
            "tags": []
          },
          "execution_count": 14
        }
      ]
    },
    {
      "cell_type": "markdown",
      "metadata": {
        "id": "iizKLHDXO-5r"
      },
      "source": [
        "Сет данных содержит информацию о пользователе (user_id), дате отправки сообщения и id сообщения. Дату в столбце `message_date` необходимо привести к формату datetime. \n",
        "Проверим дубликаты:"
      ]
    },
    {
      "cell_type": "code",
      "metadata": {
        "colab": {
          "base_uri": "https://localhost:8080/"
        },
        "id": "trFlE-lyO-5r",
        "outputId": "457adeda-216b-4dd2-e62a-65fe7eef435e"
      },
      "source": [
        "df_messages.duplicated().sum()"
      ],
      "execution_count": null,
      "outputs": [
        {
          "output_type": "execute_result",
          "data": {
            "text/plain": [
              "0"
            ]
          },
          "metadata": {
            "tags": []
          },
          "execution_count": 15
        }
      ]
    },
    {
      "cell_type": "markdown",
      "metadata": {
        "id": "CGrAjRfoO-5s"
      },
      "source": [
        "Дубликатов не обнаружено"
      ]
    },
    {
      "cell_type": "markdown",
      "metadata": {
        "id": "fSJQ_54WO-5s"
      },
      "source": [
        "### Таблица internet (информация об интернет-сессиях):\n"
      ]
    },
    {
      "cell_type": "code",
      "metadata": {
        "colab": {
          "base_uri": "https://localhost:8080/",
          "height": 204
        },
        "id": "Zdb_qTDoO-5s",
        "outputId": "52aca4ea-1ddf-481a-81f6-8bd65cfd3adf"
      },
      "source": [
        "df_internet.head()"
      ],
      "execution_count": null,
      "outputs": [
        {
          "output_type": "execute_result",
          "data": {
            "text/html": [
              "<div>\n",
              "<style scoped>\n",
              "    .dataframe tbody tr th:only-of-type {\n",
              "        vertical-align: middle;\n",
              "    }\n",
              "\n",
              "    .dataframe tbody tr th {\n",
              "        vertical-align: top;\n",
              "    }\n",
              "\n",
              "    .dataframe thead th {\n",
              "        text-align: right;\n",
              "    }\n",
              "</style>\n",
              "<table border=\"1\" class=\"dataframe\">\n",
              "  <thead>\n",
              "    <tr style=\"text-align: right;\">\n",
              "      <th></th>\n",
              "      <th>id</th>\n",
              "      <th>mb_used</th>\n",
              "      <th>session_date</th>\n",
              "      <th>user_id</th>\n",
              "    </tr>\n",
              "  </thead>\n",
              "  <tbody>\n",
              "    <tr>\n",
              "      <th>0</th>\n",
              "      <td>1000_0</td>\n",
              "      <td>112.95</td>\n",
              "      <td>2018-11-25</td>\n",
              "      <td>1000</td>\n",
              "    </tr>\n",
              "    <tr>\n",
              "      <th>1</th>\n",
              "      <td>1000_1</td>\n",
              "      <td>1052.81</td>\n",
              "      <td>2018-09-07</td>\n",
              "      <td>1000</td>\n",
              "    </tr>\n",
              "    <tr>\n",
              "      <th>2</th>\n",
              "      <td>1000_2</td>\n",
              "      <td>1197.26</td>\n",
              "      <td>2018-06-25</td>\n",
              "      <td>1000</td>\n",
              "    </tr>\n",
              "    <tr>\n",
              "      <th>3</th>\n",
              "      <td>1000_3</td>\n",
              "      <td>550.27</td>\n",
              "      <td>2018-08-22</td>\n",
              "      <td>1000</td>\n",
              "    </tr>\n",
              "    <tr>\n",
              "      <th>4</th>\n",
              "      <td>1000_4</td>\n",
              "      <td>302.56</td>\n",
              "      <td>2018-09-24</td>\n",
              "      <td>1000</td>\n",
              "    </tr>\n",
              "  </tbody>\n",
              "</table>\n",
              "</div>"
            ],
            "text/plain": [
              "       id  mb_used session_date  user_id\n",
              "0  1000_0   112.95   2018-11-25     1000\n",
              "1  1000_1  1052.81   2018-09-07     1000\n",
              "2  1000_2  1197.26   2018-06-25     1000\n",
              "3  1000_3   550.27   2018-08-22     1000\n",
              "4  1000_4   302.56   2018-09-24     1000"
            ]
          },
          "metadata": {
            "tags": []
          },
          "execution_count": 16
        }
      ]
    },
    {
      "cell_type": "code",
      "metadata": {
        "colab": {
          "base_uri": "https://localhost:8080/"
        },
        "id": "Doo3xi4FO-5s",
        "outputId": "11eb57df-a00f-400a-bab5-e4efa0b2fa62"
      },
      "source": [
        "df_internet.info()"
      ],
      "execution_count": null,
      "outputs": [
        {
          "output_type": "stream",
          "text": [
            "<class 'pandas.core.frame.DataFrame'>\n",
            "Int64Index: 149396 entries, 0 to 149395\n",
            "Data columns (total 4 columns):\n",
            " #   Column        Non-Null Count   Dtype  \n",
            "---  ------        --------------   -----  \n",
            " 0   id            149396 non-null  object \n",
            " 1   mb_used       149396 non-null  float64\n",
            " 2   session_date  149396 non-null  object \n",
            " 3   user_id       149396 non-null  int64  \n",
            "dtypes: float64(1), int64(1), object(2)\n",
            "memory usage: 5.7+ MB\n"
          ],
          "name": "stdout"
        }
      ]
    },
    {
      "cell_type": "markdown",
      "metadata": {
        "id": "Vv40X1e-O-5s"
      },
      "source": [
        "**Таблица internet (информация об интернет-сессиях):**\n",
        "    \n",
        "- **id** — уникальный номер сессии\n",
        "- **mb_used** — объём потраченного за сессию интернет-трафика (в мегабайтах)\n",
        "- **session_date** — дата интернет-сессии\n"
      ]
    },
    {
      "cell_type": "code",
      "metadata": {
        "colab": {
          "base_uri": "https://localhost:8080/",
          "height": 111
        },
        "id": "JR0az2UbO-5t",
        "outputId": "59ded6d6-29fb-4436-9490-1e3d53bdd00e"
      },
      "source": [
        "df_internet.describe().T"
      ],
      "execution_count": null,
      "outputs": [
        {
          "output_type": "execute_result",
          "data": {
            "text/html": [
              "<div>\n",
              "<style scoped>\n",
              "    .dataframe tbody tr th:only-of-type {\n",
              "        vertical-align: middle;\n",
              "    }\n",
              "\n",
              "    .dataframe tbody tr th {\n",
              "        vertical-align: top;\n",
              "    }\n",
              "\n",
              "    .dataframe thead th {\n",
              "        text-align: right;\n",
              "    }\n",
              "</style>\n",
              "<table border=\"1\" class=\"dataframe\">\n",
              "  <thead>\n",
              "    <tr style=\"text-align: right;\">\n",
              "      <th></th>\n",
              "      <th>count</th>\n",
              "      <th>mean</th>\n",
              "      <th>std</th>\n",
              "      <th>min</th>\n",
              "      <th>25%</th>\n",
              "      <th>50%</th>\n",
              "      <th>75%</th>\n",
              "      <th>max</th>\n",
              "    </tr>\n",
              "  </thead>\n",
              "  <tbody>\n",
              "    <tr>\n",
              "      <th>mb_used</th>\n",
              "      <td>149396.0</td>\n",
              "      <td>370.192426</td>\n",
              "      <td>278.300951</td>\n",
              "      <td>0.0</td>\n",
              "      <td>138.1875</td>\n",
              "      <td>348.015</td>\n",
              "      <td>559.5525</td>\n",
              "      <td>1724.83</td>\n",
              "    </tr>\n",
              "    <tr>\n",
              "      <th>user_id</th>\n",
              "      <td>149396.0</td>\n",
              "      <td>1252.099842</td>\n",
              "      <td>144.050823</td>\n",
              "      <td>1000.0</td>\n",
              "      <td>1130.0000</td>\n",
              "      <td>1251.000</td>\n",
              "      <td>1380.0000</td>\n",
              "      <td>1499.00</td>\n",
              "    </tr>\n",
              "  </tbody>\n",
              "</table>\n",
              "</div>"
            ],
            "text/plain": [
              "            count         mean         std  ...       50%        75%      max\n",
              "mb_used  149396.0   370.192426  278.300951  ...   348.015   559.5525  1724.83\n",
              "user_id  149396.0  1252.099842  144.050823  ...  1251.000  1380.0000  1499.00\n",
              "\n",
              "[2 rows x 8 columns]"
            ]
          },
          "metadata": {
            "tags": []
          },
          "execution_count": 18
        }
      ]
    },
    {
      "cell_type": "markdown",
      "metadata": {
        "id": "_nBB5WidO-5t"
      },
      "source": [
        "Сет данных содержит информацию о пользователе (`user_id`), дате и продолжительности интернет сессии и id сессии. Дату в столбце `session_date` необходимо привести к формату `datetime`. Обнаружена аномалия - минимальное значение для использованных МБ траффика - `0`, что не вяжется с принципами работы оператора, если сессия состоялась.\n",
        "Проверим дубликаты:"
      ]
    },
    {
      "cell_type": "code",
      "metadata": {
        "colab": {
          "base_uri": "https://localhost:8080/"
        },
        "id": "5wHccSRpO-5t",
        "outputId": "d9c4ef51-2d9c-4ccb-ad14-50d118e41241"
      },
      "source": [
        "df_internet.duplicated().sum()"
      ],
      "execution_count": null,
      "outputs": [
        {
          "output_type": "execute_result",
          "data": {
            "text/plain": [
              "0"
            ]
          },
          "metadata": {
            "tags": []
          },
          "execution_count": 19
        }
      ]
    },
    {
      "cell_type": "markdown",
      "metadata": {
        "id": "wX_kDcQoO-5t"
      },
      "source": [
        "Дубликатов не обнаружено"
      ]
    },
    {
      "cell_type": "markdown",
      "metadata": {
        "id": "WtOXY-KqO-5t"
      },
      "source": [
        "### Таблица tariffs (информация о тарифах):"
      ]
    },
    {
      "cell_type": "code",
      "metadata": {
        "colab": {
          "base_uri": "https://localhost:8080/",
          "height": 111
        },
        "id": "ty4R_gsnO-5u",
        "outputId": "1f5bfbe0-a997-4c58-c7fa-e9ada880ae7e"
      },
      "source": [
        "df_tariffs.head()"
      ],
      "execution_count": null,
      "outputs": [
        {
          "output_type": "execute_result",
          "data": {
            "text/html": [
              "<div>\n",
              "<style scoped>\n",
              "    .dataframe tbody tr th:only-of-type {\n",
              "        vertical-align: middle;\n",
              "    }\n",
              "\n",
              "    .dataframe tbody tr th {\n",
              "        vertical-align: top;\n",
              "    }\n",
              "\n",
              "    .dataframe thead th {\n",
              "        text-align: right;\n",
              "    }\n",
              "</style>\n",
              "<table border=\"1\" class=\"dataframe\">\n",
              "  <thead>\n",
              "    <tr style=\"text-align: right;\">\n",
              "      <th></th>\n",
              "      <th>messages_included</th>\n",
              "      <th>mb_per_month_included</th>\n",
              "      <th>minutes_included</th>\n",
              "      <th>rub_monthly_fee</th>\n",
              "      <th>rub_per_gb</th>\n",
              "      <th>rub_per_message</th>\n",
              "      <th>rub_per_minute</th>\n",
              "      <th>tariff_name</th>\n",
              "    </tr>\n",
              "  </thead>\n",
              "  <tbody>\n",
              "    <tr>\n",
              "      <th>0</th>\n",
              "      <td>50</td>\n",
              "      <td>15360</td>\n",
              "      <td>500</td>\n",
              "      <td>550</td>\n",
              "      <td>200</td>\n",
              "      <td>3</td>\n",
              "      <td>3</td>\n",
              "      <td>smart</td>\n",
              "    </tr>\n",
              "    <tr>\n",
              "      <th>1</th>\n",
              "      <td>1000</td>\n",
              "      <td>30720</td>\n",
              "      <td>3000</td>\n",
              "      <td>1950</td>\n",
              "      <td>150</td>\n",
              "      <td>1</td>\n",
              "      <td>1</td>\n",
              "      <td>ultra</td>\n",
              "    </tr>\n",
              "  </tbody>\n",
              "</table>\n",
              "</div>"
            ],
            "text/plain": [
              "   messages_included  mb_per_month_included  ...  rub_per_minute  tariff_name\n",
              "0                 50                  15360  ...               3        smart\n",
              "1               1000                  30720  ...               1        ultra\n",
              "\n",
              "[2 rows x 8 columns]"
            ]
          },
          "metadata": {
            "tags": []
          },
          "execution_count": 20
        }
      ]
    },
    {
      "cell_type": "code",
      "metadata": {
        "colab": {
          "base_uri": "https://localhost:8080/"
        },
        "id": "_Hs_Uk62O-5u",
        "outputId": "659ce680-2f58-492d-9e42-a43fa191adb4"
      },
      "source": [
        "df_tariffs.info()"
      ],
      "execution_count": null,
      "outputs": [
        {
          "output_type": "stream",
          "text": [
            "<class 'pandas.core.frame.DataFrame'>\n",
            "RangeIndex: 2 entries, 0 to 1\n",
            "Data columns (total 8 columns):\n",
            " #   Column                 Non-Null Count  Dtype \n",
            "---  ------                 --------------  ----- \n",
            " 0   messages_included      2 non-null      int64 \n",
            " 1   mb_per_month_included  2 non-null      int64 \n",
            " 2   minutes_included       2 non-null      int64 \n",
            " 3   rub_monthly_fee        2 non-null      int64 \n",
            " 4   rub_per_gb             2 non-null      int64 \n",
            " 5   rub_per_message        2 non-null      int64 \n",
            " 6   rub_per_minute         2 non-null      int64 \n",
            " 7   tariff_name            2 non-null      object\n",
            "dtypes: int64(7), object(1)\n",
            "memory usage: 256.0+ bytes\n"
          ],
          "name": "stdout"
        }
      ]
    },
    {
      "cell_type": "markdown",
      "metadata": {
        "id": "5we9ZcKZO-5u"
      },
      "source": [
        "**Таблица tariffs (информация о тарифах):**\n",
        "\n",
        "- **tariff_name** — название тарифа\n",
        "- **rub_monthly_fee** — ежемесячная абонентская плата в рублях\n",
        "- **minutes_included** — количество минут разговора в месяц, включённых в абонентскую плату\n",
        "- **messages_included** — количество сообщений в месяц, включённых в абонентскую плату\n",
        "- **mb_per_month_included** — объём интернет-трафика, включённого в абонентскую плату (в мегабайтах)\n",
        "- **rub_per_minute** — стоимость минуты разговора сверх тарифного пакета (например, если в тарифе 100 минут разговора в месяц, то - со 101 минуты будет взиматься плата)\n",
        "- **rub_per_message** — стоимость отправки сообщения сверх тарифного пакета\n",
        "- **rub_per_gb** — стоимость дополнительного гигабайта интернет-трафика сверх тарифного пакета (1 гигабайт = 1024 мегабайта)"
      ]
    },
    {
      "cell_type": "markdown",
      "metadata": {
        "id": "klvZ2USmO-5u"
      },
      "source": [
        "### Вывод"
      ]
    },
    {
      "cell_type": "markdown",
      "metadata": {
        "id": "0znABRejO-5v"
      },
      "source": [
        "В нашем распоряжении данные 500 пользователей: кто они, откуда, каким тарифом пользуются, сколько звонков и сообщений каждый отправил за 2018 год. В данных дубликатов не наблюдается.  \n",
        "\n",
        "- Пропуски есть только в дата сете **df_users**:  \n",
        "столбец: **churn_date** — дата прекращения пользования тарифом (если значение пропущено, то тариф ещё действовал на момент выгрузки данных)\n",
        "Отсутвие даты - скорее означает, что обслуживание не завершено, клиент еще пользуется услугами оператора.  **Пропуски не трогаем**\n",
        "\n",
        "- Необходимо изменить тип данных:\n",
        " \n",
        "    - reg_date - на datetime в df_users\n",
        "    - call_date - на datetime в df_calls\n",
        "    - session_date - на datetime в df_internet\n",
        "    - message_date - на datetime в df_messages\n",
        "\n",
        "\n",
        "С учетом примечания(оператор всегда округляет вверх значения минут и мегабайтов. Если пользователь проговорил всего 1 секунду, в тарифе засчитывается целая минута): \n",
        "- Округляем в большую сторону до минуты все звонки\n",
        "- Округляем в большую сторону до мегабайта весь трафик по каждой сессии \n",
        "- `mb_used` необходимо округлить в большую сторону и привести к целоцисленным\n",
        "- В `df.internet` мегабайты перевести в гигабайты\n",
        "- `duration` необходимо привести в большую сторону и привести к целоцисленным \n",
        "- Добавим столбцы месяца \n",
        "- Обратили внимание, что в сетах со временем разговоров и интернет траффика - минимальное значение 0, что не вяжется с принципами работы оператора. Необходимо изучить данные аномалии и принять решение, что будем с ними делать\n",
        "- Необходимо объединить таблицы для анализа\n",
        "\n"
      ]
    },
    {
      "cell_type": "markdown",
      "metadata": {
        "id": "szbYYilDO-5v"
      },
      "source": [
        "## Подготовка данных к анализу\n",
        "\n",
        "\n"
      ]
    },
    {
      "cell_type": "markdown",
      "metadata": {
        "id": "soZc_Lm0O-5v"
      },
      "source": [
        "Перейдем к обработке данных. Сконцетрируемся на замене значений. Окончательные замены произведем после объединения таблиц"
      ]
    },
    {
      "cell_type": "markdown",
      "metadata": {
        "id": "dCVsMyUXO-5w"
      },
      "source": [
        "### Обработка столбцов с датами"
      ]
    },
    {
      "cell_type": "code",
      "metadata": {
        "id": "0-NMg4THO-5w"
      },
      "source": [
        "# Словарь с месяцами для удобства восприятия в будущем:\n",
        "\n",
        "dict_of_months = {\n",
        "    1: 'Январь', 2: 'Февраль', 3: 'Март', \n",
        "    4: 'Апрель', 5: 'Май', 6: 'Июнь', \n",
        "    7: 'Июль', 8:'Август', 9:'Сентябрь', \n",
        "    10:'Октябрь', 11:'Ноябрь', 12:'Декабрь'\n",
        "}\n",
        "\n",
        "#функия замены столбцов и добавления двух новых к датафрейму:\n",
        "\n",
        "def month_season(dframes):\n",
        "    for df in dframes:\n",
        "        for column in df.columns:\n",
        "            if 'date' in column and column != 'churn_date':\n",
        "                df[column] = pd.to_datetime(df[column], format='%Y-%m-%d')\n",
        "                df['month'] = df[column].apply(lambda x: x.month)\n",
        "                df['year'] = df[column].apply(lambda x: x.year)\n",
        "                df['month_name'] = df['month'].map(dict_of_months)"
      ],
      "execution_count": null,
      "outputs": []
    },
    {
      "cell_type": "markdown",
      "metadata": {
        "id": "FWNJEJG_O-5x"
      },
      "source": [
        "Приведем формат дат к `datetime` и добавим два новых столбца"
      ]
    },
    {
      "cell_type": "code",
      "metadata": {
        "id": "uPj4Z5yPO-5x"
      },
      "source": [
        "month_season([df_users, df_calls, \n",
        "              df_messages, df_internet]\n",
        "            )"
      ],
      "execution_count": null,
      "outputs": []
    },
    {
      "cell_type": "code",
      "metadata": {
        "colab": {
          "base_uri": "https://localhost:8080/",
          "height": 221
        },
        "id": "qeNcQpHsO-5x",
        "outputId": "e26425d2-bee0-4ca5-9e3b-0327eecad087"
      },
      "source": [
        "print('Список уникальных значений столбца year: ', df_users['year'].unique())\n",
        "df_users.head()"
      ],
      "execution_count": null,
      "outputs": [
        {
          "output_type": "stream",
          "text": [
            "Список уникальных значений столбца year:  [2018]\n"
          ],
          "name": "stdout"
        },
        {
          "output_type": "execute_result",
          "data": {
            "text/html": [
              "<div>\n",
              "<style scoped>\n",
              "    .dataframe tbody tr th:only-of-type {\n",
              "        vertical-align: middle;\n",
              "    }\n",
              "\n",
              "    .dataframe tbody tr th {\n",
              "        vertical-align: top;\n",
              "    }\n",
              "\n",
              "    .dataframe thead th {\n",
              "        text-align: right;\n",
              "    }\n",
              "</style>\n",
              "<table border=\"1\" class=\"dataframe\">\n",
              "  <thead>\n",
              "    <tr style=\"text-align: right;\">\n",
              "      <th></th>\n",
              "      <th>user_id</th>\n",
              "      <th>age</th>\n",
              "      <th>churn_date</th>\n",
              "      <th>city</th>\n",
              "      <th>first_name</th>\n",
              "      <th>last_name</th>\n",
              "      <th>reg_date</th>\n",
              "      <th>tariff</th>\n",
              "      <th>month</th>\n",
              "      <th>year</th>\n",
              "      <th>month_name</th>\n",
              "    </tr>\n",
              "  </thead>\n",
              "  <tbody>\n",
              "    <tr>\n",
              "      <th>0</th>\n",
              "      <td>1000</td>\n",
              "      <td>52</td>\n",
              "      <td>NaN</td>\n",
              "      <td>Краснодар</td>\n",
              "      <td>Рафаил</td>\n",
              "      <td>Верещагин</td>\n",
              "      <td>2018-05-25</td>\n",
              "      <td>ultra</td>\n",
              "      <td>5</td>\n",
              "      <td>2018</td>\n",
              "      <td>Май</td>\n",
              "    </tr>\n",
              "    <tr>\n",
              "      <th>1</th>\n",
              "      <td>1001</td>\n",
              "      <td>41</td>\n",
              "      <td>NaN</td>\n",
              "      <td>Москва</td>\n",
              "      <td>Иван</td>\n",
              "      <td>Ежов</td>\n",
              "      <td>2018-11-01</td>\n",
              "      <td>smart</td>\n",
              "      <td>11</td>\n",
              "      <td>2018</td>\n",
              "      <td>Ноябрь</td>\n",
              "    </tr>\n",
              "    <tr>\n",
              "      <th>2</th>\n",
              "      <td>1002</td>\n",
              "      <td>59</td>\n",
              "      <td>NaN</td>\n",
              "      <td>Стерлитамак</td>\n",
              "      <td>Евгений</td>\n",
              "      <td>Абрамович</td>\n",
              "      <td>2018-06-17</td>\n",
              "      <td>smart</td>\n",
              "      <td>6</td>\n",
              "      <td>2018</td>\n",
              "      <td>Июнь</td>\n",
              "    </tr>\n",
              "    <tr>\n",
              "      <th>3</th>\n",
              "      <td>1003</td>\n",
              "      <td>23</td>\n",
              "      <td>NaN</td>\n",
              "      <td>Москва</td>\n",
              "      <td>Белла</td>\n",
              "      <td>Белякова</td>\n",
              "      <td>2018-08-17</td>\n",
              "      <td>ultra</td>\n",
              "      <td>8</td>\n",
              "      <td>2018</td>\n",
              "      <td>Август</td>\n",
              "    </tr>\n",
              "    <tr>\n",
              "      <th>4</th>\n",
              "      <td>1004</td>\n",
              "      <td>68</td>\n",
              "      <td>NaN</td>\n",
              "      <td>Новокузнецк</td>\n",
              "      <td>Татьяна</td>\n",
              "      <td>Авдеенко</td>\n",
              "      <td>2018-05-14</td>\n",
              "      <td>ultra</td>\n",
              "      <td>5</td>\n",
              "      <td>2018</td>\n",
              "      <td>Май</td>\n",
              "    </tr>\n",
              "  </tbody>\n",
              "</table>\n",
              "</div>"
            ],
            "text/plain": [
              "   user_id  age churn_date         city  ... tariff month  year month_name\n",
              "0     1000   52        NaN    Краснодар  ...  ultra     5  2018        Май\n",
              "1     1001   41        NaN       Москва  ...  smart    11  2018     Ноябрь\n",
              "2     1002   59        NaN  Стерлитамак  ...  smart     6  2018       Июнь\n",
              "3     1003   23        NaN       Москва  ...  ultra     8  2018     Август\n",
              "4     1004   68        NaN  Новокузнецк  ...  ultra     5  2018        Май\n",
              "\n",
              "[5 rows x 11 columns]"
            ]
          },
          "metadata": {
            "tags": []
          },
          "execution_count": 24
        }
      ]
    },
    {
      "cell_type": "code",
      "metadata": {
        "colab": {
          "base_uri": "https://localhost:8080/",
          "height": 204
        },
        "id": "yD9YQsaAO-5x",
        "outputId": "17d19ebf-b9d9-44d6-f0f3-4b026a011481"
      },
      "source": [
        "df_calls.head()"
      ],
      "execution_count": null,
      "outputs": [
        {
          "output_type": "execute_result",
          "data": {
            "text/html": [
              "<div>\n",
              "<style scoped>\n",
              "    .dataframe tbody tr th:only-of-type {\n",
              "        vertical-align: middle;\n",
              "    }\n",
              "\n",
              "    .dataframe tbody tr th {\n",
              "        vertical-align: top;\n",
              "    }\n",
              "\n",
              "    .dataframe thead th {\n",
              "        text-align: right;\n",
              "    }\n",
              "</style>\n",
              "<table border=\"1\" class=\"dataframe\">\n",
              "  <thead>\n",
              "    <tr style=\"text-align: right;\">\n",
              "      <th></th>\n",
              "      <th>id</th>\n",
              "      <th>call_date</th>\n",
              "      <th>duration</th>\n",
              "      <th>user_id</th>\n",
              "      <th>month</th>\n",
              "      <th>year</th>\n",
              "      <th>month_name</th>\n",
              "    </tr>\n",
              "  </thead>\n",
              "  <tbody>\n",
              "    <tr>\n",
              "      <th>0</th>\n",
              "      <td>1000_0</td>\n",
              "      <td>2018-07-25</td>\n",
              "      <td>0.00</td>\n",
              "      <td>1000</td>\n",
              "      <td>7</td>\n",
              "      <td>2018</td>\n",
              "      <td>Июль</td>\n",
              "    </tr>\n",
              "    <tr>\n",
              "      <th>1</th>\n",
              "      <td>1000_1</td>\n",
              "      <td>2018-08-17</td>\n",
              "      <td>0.00</td>\n",
              "      <td>1000</td>\n",
              "      <td>8</td>\n",
              "      <td>2018</td>\n",
              "      <td>Август</td>\n",
              "    </tr>\n",
              "    <tr>\n",
              "      <th>2</th>\n",
              "      <td>1000_2</td>\n",
              "      <td>2018-06-11</td>\n",
              "      <td>2.85</td>\n",
              "      <td>1000</td>\n",
              "      <td>6</td>\n",
              "      <td>2018</td>\n",
              "      <td>Июнь</td>\n",
              "    </tr>\n",
              "    <tr>\n",
              "      <th>3</th>\n",
              "      <td>1000_3</td>\n",
              "      <td>2018-09-21</td>\n",
              "      <td>13.80</td>\n",
              "      <td>1000</td>\n",
              "      <td>9</td>\n",
              "      <td>2018</td>\n",
              "      <td>Сентябрь</td>\n",
              "    </tr>\n",
              "    <tr>\n",
              "      <th>4</th>\n",
              "      <td>1000_4</td>\n",
              "      <td>2018-12-15</td>\n",
              "      <td>5.18</td>\n",
              "      <td>1000</td>\n",
              "      <td>12</td>\n",
              "      <td>2018</td>\n",
              "      <td>Декабрь</td>\n",
              "    </tr>\n",
              "  </tbody>\n",
              "</table>\n",
              "</div>"
            ],
            "text/plain": [
              "       id  call_date  duration  user_id  month  year month_name\n",
              "0  1000_0 2018-07-25      0.00     1000      7  2018       Июль\n",
              "1  1000_1 2018-08-17      0.00     1000      8  2018     Август\n",
              "2  1000_2 2018-06-11      2.85     1000      6  2018       Июнь\n",
              "3  1000_3 2018-09-21     13.80     1000      9  2018   Сентябрь\n",
              "4  1000_4 2018-12-15      5.18     1000     12  2018    Декабрь"
            ]
          },
          "metadata": {
            "tags": []
          },
          "execution_count": 25
        }
      ]
    },
    {
      "cell_type": "code",
      "metadata": {
        "colab": {
          "base_uri": "https://localhost:8080/",
          "height": 204
        },
        "id": "Sl4ex8Y8O-5y",
        "outputId": "4ce6597b-50dc-4fe2-d702-0cba32231789"
      },
      "source": [
        "df_messages.head()"
      ],
      "execution_count": null,
      "outputs": [
        {
          "output_type": "execute_result",
          "data": {
            "text/html": [
              "<div>\n",
              "<style scoped>\n",
              "    .dataframe tbody tr th:only-of-type {\n",
              "        vertical-align: middle;\n",
              "    }\n",
              "\n",
              "    .dataframe tbody tr th {\n",
              "        vertical-align: top;\n",
              "    }\n",
              "\n",
              "    .dataframe thead th {\n",
              "        text-align: right;\n",
              "    }\n",
              "</style>\n",
              "<table border=\"1\" class=\"dataframe\">\n",
              "  <thead>\n",
              "    <tr style=\"text-align: right;\">\n",
              "      <th></th>\n",
              "      <th>id</th>\n",
              "      <th>message_date</th>\n",
              "      <th>user_id</th>\n",
              "      <th>month</th>\n",
              "      <th>year</th>\n",
              "      <th>month_name</th>\n",
              "    </tr>\n",
              "  </thead>\n",
              "  <tbody>\n",
              "    <tr>\n",
              "      <th>0</th>\n",
              "      <td>1000_0</td>\n",
              "      <td>2018-06-27</td>\n",
              "      <td>1000</td>\n",
              "      <td>6</td>\n",
              "      <td>2018</td>\n",
              "      <td>Июнь</td>\n",
              "    </tr>\n",
              "    <tr>\n",
              "      <th>1</th>\n",
              "      <td>1000_1</td>\n",
              "      <td>2018-10-08</td>\n",
              "      <td>1000</td>\n",
              "      <td>10</td>\n",
              "      <td>2018</td>\n",
              "      <td>Октябрь</td>\n",
              "    </tr>\n",
              "    <tr>\n",
              "      <th>2</th>\n",
              "      <td>1000_2</td>\n",
              "      <td>2018-08-04</td>\n",
              "      <td>1000</td>\n",
              "      <td>8</td>\n",
              "      <td>2018</td>\n",
              "      <td>Август</td>\n",
              "    </tr>\n",
              "    <tr>\n",
              "      <th>3</th>\n",
              "      <td>1000_3</td>\n",
              "      <td>2018-06-16</td>\n",
              "      <td>1000</td>\n",
              "      <td>6</td>\n",
              "      <td>2018</td>\n",
              "      <td>Июнь</td>\n",
              "    </tr>\n",
              "    <tr>\n",
              "      <th>4</th>\n",
              "      <td>1000_4</td>\n",
              "      <td>2018-12-05</td>\n",
              "      <td>1000</td>\n",
              "      <td>12</td>\n",
              "      <td>2018</td>\n",
              "      <td>Декабрь</td>\n",
              "    </tr>\n",
              "  </tbody>\n",
              "</table>\n",
              "</div>"
            ],
            "text/plain": [
              "       id message_date  user_id  month  year month_name\n",
              "0  1000_0   2018-06-27     1000      6  2018       Июнь\n",
              "1  1000_1   2018-10-08     1000     10  2018    Октябрь\n",
              "2  1000_2   2018-08-04     1000      8  2018     Август\n",
              "3  1000_3   2018-06-16     1000      6  2018       Июнь\n",
              "4  1000_4   2018-12-05     1000     12  2018    Декабрь"
            ]
          },
          "metadata": {
            "tags": []
          },
          "execution_count": 26
        }
      ]
    },
    {
      "cell_type": "markdown",
      "metadata": {
        "id": "iIQRyhjNO-5y"
      },
      "source": [
        "### Обработка `df_internet`"
      ]
    },
    {
      "cell_type": "code",
      "metadata": {
        "colab": {
          "base_uri": "https://localhost:8080/",
          "height": 204
        },
        "id": "1raSx916O-5y",
        "outputId": "b8c92c36-c801-4e6e-e0c3-1796418cfc09"
      },
      "source": [
        "df_internet.head()"
      ],
      "execution_count": null,
      "outputs": [
        {
          "output_type": "execute_result",
          "data": {
            "text/html": [
              "<div>\n",
              "<style scoped>\n",
              "    .dataframe tbody tr th:only-of-type {\n",
              "        vertical-align: middle;\n",
              "    }\n",
              "\n",
              "    .dataframe tbody tr th {\n",
              "        vertical-align: top;\n",
              "    }\n",
              "\n",
              "    .dataframe thead th {\n",
              "        text-align: right;\n",
              "    }\n",
              "</style>\n",
              "<table border=\"1\" class=\"dataframe\">\n",
              "  <thead>\n",
              "    <tr style=\"text-align: right;\">\n",
              "      <th></th>\n",
              "      <th>id</th>\n",
              "      <th>mb_used</th>\n",
              "      <th>session_date</th>\n",
              "      <th>user_id</th>\n",
              "      <th>month</th>\n",
              "      <th>year</th>\n",
              "      <th>month_name</th>\n",
              "    </tr>\n",
              "  </thead>\n",
              "  <tbody>\n",
              "    <tr>\n",
              "      <th>0</th>\n",
              "      <td>1000_0</td>\n",
              "      <td>112.95</td>\n",
              "      <td>2018-11-25</td>\n",
              "      <td>1000</td>\n",
              "      <td>11</td>\n",
              "      <td>2018</td>\n",
              "      <td>Ноябрь</td>\n",
              "    </tr>\n",
              "    <tr>\n",
              "      <th>1</th>\n",
              "      <td>1000_1</td>\n",
              "      <td>1052.81</td>\n",
              "      <td>2018-09-07</td>\n",
              "      <td>1000</td>\n",
              "      <td>9</td>\n",
              "      <td>2018</td>\n",
              "      <td>Сентябрь</td>\n",
              "    </tr>\n",
              "    <tr>\n",
              "      <th>2</th>\n",
              "      <td>1000_2</td>\n",
              "      <td>1197.26</td>\n",
              "      <td>2018-06-25</td>\n",
              "      <td>1000</td>\n",
              "      <td>6</td>\n",
              "      <td>2018</td>\n",
              "      <td>Июнь</td>\n",
              "    </tr>\n",
              "    <tr>\n",
              "      <th>3</th>\n",
              "      <td>1000_3</td>\n",
              "      <td>550.27</td>\n",
              "      <td>2018-08-22</td>\n",
              "      <td>1000</td>\n",
              "      <td>8</td>\n",
              "      <td>2018</td>\n",
              "      <td>Август</td>\n",
              "    </tr>\n",
              "    <tr>\n",
              "      <th>4</th>\n",
              "      <td>1000_4</td>\n",
              "      <td>302.56</td>\n",
              "      <td>2018-09-24</td>\n",
              "      <td>1000</td>\n",
              "      <td>9</td>\n",
              "      <td>2018</td>\n",
              "      <td>Сентябрь</td>\n",
              "    </tr>\n",
              "  </tbody>\n",
              "</table>\n",
              "</div>"
            ],
            "text/plain": [
              "       id  mb_used session_date  user_id  month  year month_name\n",
              "0  1000_0   112.95   2018-11-25     1000     11  2018     Ноябрь\n",
              "1  1000_1  1052.81   2018-09-07     1000      9  2018   Сентябрь\n",
              "2  1000_2  1197.26   2018-06-25     1000      6  2018       Июнь\n",
              "3  1000_3   550.27   2018-08-22     1000      8  2018     Август\n",
              "4  1000_4   302.56   2018-09-24     1000      9  2018   Сентябрь"
            ]
          },
          "metadata": {
            "tags": []
          },
          "execution_count": 27
        }
      ]
    },
    {
      "cell_type": "markdown",
      "metadata": {
        "id": "UmqSPaHhO-5y"
      },
      "source": [
        "Построим диаграмму для данного столбца, чтобы увидеть разброс значений:"
      ]
    },
    {
      "cell_type": "code",
      "metadata": {
        "colab": {
          "base_uri": "https://localhost:8080/",
          "height": 350
        },
        "id": "b9dtiuIPO-5y",
        "outputId": "e69bcb5a-5257-4b9c-e7d8-825c0179554e"
      },
      "source": [
        "df_internet['mb_used'].plot(kind='hist', figsize=(15,5),\n",
        "                            grid=True, color='teal', \n",
        "                            edgecolor='black', linewidth=2, bins=50\n",
        ")\n",
        "plt.title('Интернет траффик')\n",
        "plt.xlabel('Количество использованных mb')\n",
        "plt.ylabel('Количество подключений')\n",
        "plt.show()"
      ],
      "execution_count": null,
      "outputs": [
        {
          "output_type": "display_data",
          "data": {
            "image/png": "[encoded data removed]",
            "text/plain": [
              "<Figure size 1080x360 with 1 Axes>"
            ]
          },
          "metadata": {
            "tags": [],
            "needs_background": "light"
          }
        }
      ]
    },
    {
      "cell_type": "code",
      "metadata": {
        "colab": {
          "base_uri": "https://localhost:8080/"
        },
        "id": "viY01kVWO-5z",
        "outputId": "e5a1eca9-aba2-4d2e-8702-ef0bb87545fa"
      },
      "source": [
        "internet_0_1 = df_internet.query('mb_used > 0 and mb_used < 1')['mb_used'].count()\n",
        "internet_0 = df_internet.query('mb_used == 0')['mb_used'].count()\n",
        "\n",
        "print('Интернет траффик от 0 мб до 1 мб:', internet_0_1)\n",
        "print('Количество нулевых значений траффика:', internet_0)\n",
        "print('Всего случаев подключения: ', df_internet['mb_used'].count())\n",
        "print('Процент нулевых значений траффика: {:.2%}'.format(internet_0/df_internet['mb_used'].count()))"
      ],
      "execution_count": null,
      "outputs": [
        {
          "output_type": "stream",
          "text": [
            "Интернет траффик от 0 мб до 1 мб: 101\n",
            "Количество нулевых значений траффика: 19598\n",
            "Всего случаев подключения:  149396\n",
            "Процент нулевых значений траффика: 13.12%\n"
          ],
          "name": "stdout"
        }
      ]
    },
    {
      "cell_type": "markdown",
      "metadata": {
        "id": "zGLR2CcGO-5z"
      },
      "source": [
        "Исходя из полученной информации, можно сделать вывод о том, что нулевые значения появляются в том случае, когда абонент не использовал интернет трафик в течение месяца или размер трафика был близок к 0 и не превышал нескольких килобайт и это не было зафиксировано, следовательно такие значения не несут в себе полезной нагрузки для дальнейшего анализа и от них можно избавиться"
      ]
    },
    {
      "cell_type": "code",
      "metadata": {
        "colab": {
          "base_uri": "https://localhost:8080/"
        },
        "id": "UEUngpaiO-50",
        "outputId": "6e54eda1-688e-40dc-e6ef-f9572c98cc6e"
      },
      "source": [
        "df_internet = df_internet.query('mb_used > 0').copy()\n",
        "df_internet['mb_used'] = np.ceil(df_internet['mb_used'])\n",
        "df_internet.info()"
      ],
      "execution_count": null,
      "outputs": [
        {
          "output_type": "stream",
          "text": [
            "<class 'pandas.core.frame.DataFrame'>\n",
            "Int64Index: 129798 entries, 0 to 149395\n",
            "Data columns (total 7 columns):\n",
            " #   Column        Non-Null Count   Dtype         \n",
            "---  ------        --------------   -----         \n",
            " 0   id            129798 non-null  object        \n",
            " 1   mb_used       129798 non-null  float64       \n",
            " 2   session_date  129798 non-null  datetime64[ns]\n",
            " 3   user_id       129798 non-null  int64         \n",
            " 4   month         129798 non-null  int64         \n",
            " 5   year          129798 non-null  int64         \n",
            " 6   month_name    129798 non-null  object        \n",
            "dtypes: datetime64[ns](1), float64(1), int64(3), object(2)\n",
            "memory usage: 7.9+ MB\n"
          ],
          "name": "stdout"
        }
      ]
    },
    {
      "cell_type": "code",
      "metadata": {
        "colab": {
          "base_uri": "https://localhost:8080/",
          "height": 350
        },
        "id": "PkUmtLNCO-50",
        "outputId": "8d88b447-2ed2-4b67-e696-36f349e69b99"
      },
      "source": [
        "df_internet['mb_used'].plot(\n",
        "    kind='hist', figsize=(15,5), \n",
        "    grid=True, color='teal', \n",
        "    edgecolor='black', linewidth=2, bins=50\n",
        ")\n",
        "plt.title('Интернет траффик')\n",
        "plt.xlabel('Количество использованных mb')\n",
        "plt.ylabel('Количество подключений')\n",
        "plt.show()"
      ],
      "execution_count": null,
      "outputs": [
        {
          "output_type": "display_data",
          "data": {
            "image/png": "[encoded data removed]",
            "text/plain": [
              "<Figure size 1080x360 with 1 Axes>"
            ]
          },
          "metadata": {
            "tags": [],
            "needs_background": "light"
          }
        }
      ]
    },
    {
      "cell_type": "markdown",
      "metadata": {
        "id": "7u-gCbXZO-51"
      },
      "source": [
        "Строки удалены. Также необходимо добавить столбец с траффиком в Гигабайтах для удобства нашей работы:"
      ]
    },
    {
      "cell_type": "code",
      "metadata": {
        "colab": {
          "base_uri": "https://localhost:8080/",
          "height": 204
        },
        "id": "7ws5bTTfO-51",
        "outputId": "8baf9877-25fe-4c4e-b1ef-384fd27cdf6a"
      },
      "source": [
        "df_internet['mb_used'] = np.ceil(df_internet['mb_used'])\n",
        "df_internet['gb_used'] = df_internet['mb_used'].apply(lambda x: x/1024)\n",
        "\n",
        "df_internet.head()"
      ],
      "execution_count": null,
      "outputs": [
        {
          "output_type": "execute_result",
          "data": {
            "text/html": [
              "<div>\n",
              "<style scoped>\n",
              "    .dataframe tbody tr th:only-of-type {\n",
              "        vertical-align: middle;\n",
              "    }\n",
              "\n",
              "    .dataframe tbody tr th {\n",
              "        vertical-align: top;\n",
              "    }\n",
              "\n",
              "    .dataframe thead th {\n",
              "        text-align: right;\n",
              "    }\n",
              "</style>\n",
              "<table border=\"1\" class=\"dataframe\">\n",
              "  <thead>\n",
              "    <tr style=\"text-align: right;\">\n",
              "      <th></th>\n",
              "      <th>id</th>\n",
              "      <th>mb_used</th>\n",
              "      <th>session_date</th>\n",
              "      <th>user_id</th>\n",
              "      <th>month</th>\n",
              "      <th>year</th>\n",
              "      <th>month_name</th>\n",
              "      <th>gb_used</th>\n",
              "    </tr>\n",
              "  </thead>\n",
              "  <tbody>\n",
              "    <tr>\n",
              "      <th>0</th>\n",
              "      <td>1000_0</td>\n",
              "      <td>113.0</td>\n",
              "      <td>2018-11-25</td>\n",
              "      <td>1000</td>\n",
              "      <td>11</td>\n",
              "      <td>2018</td>\n",
              "      <td>Ноябрь</td>\n",
              "      <td>0.110352</td>\n",
              "    </tr>\n",
              "    <tr>\n",
              "      <th>1</th>\n",
              "      <td>1000_1</td>\n",
              "      <td>1053.0</td>\n",
              "      <td>2018-09-07</td>\n",
              "      <td>1000</td>\n",
              "      <td>9</td>\n",
              "      <td>2018</td>\n",
              "      <td>Сентябрь</td>\n",
              "      <td>1.028320</td>\n",
              "    </tr>\n",
              "    <tr>\n",
              "      <th>2</th>\n",
              "      <td>1000_2</td>\n",
              "      <td>1198.0</td>\n",
              "      <td>2018-06-25</td>\n",
              "      <td>1000</td>\n",
              "      <td>6</td>\n",
              "      <td>2018</td>\n",
              "      <td>Июнь</td>\n",
              "      <td>1.169922</td>\n",
              "    </tr>\n",
              "    <tr>\n",
              "      <th>3</th>\n",
              "      <td>1000_3</td>\n",
              "      <td>551.0</td>\n",
              "      <td>2018-08-22</td>\n",
              "      <td>1000</td>\n",
              "      <td>8</td>\n",
              "      <td>2018</td>\n",
              "      <td>Август</td>\n",
              "      <td>0.538086</td>\n",
              "    </tr>\n",
              "    <tr>\n",
              "      <th>4</th>\n",
              "      <td>1000_4</td>\n",
              "      <td>303.0</td>\n",
              "      <td>2018-09-24</td>\n",
              "      <td>1000</td>\n",
              "      <td>9</td>\n",
              "      <td>2018</td>\n",
              "      <td>Сентябрь</td>\n",
              "      <td>0.295898</td>\n",
              "    </tr>\n",
              "  </tbody>\n",
              "</table>\n",
              "</div>"
            ],
            "text/plain": [
              "       id  mb_used session_date  user_id  month  year month_name   gb_used\n",
              "0  1000_0    113.0   2018-11-25     1000     11  2018     Ноябрь  0.110352\n",
              "1  1000_1   1053.0   2018-09-07     1000      9  2018   Сентябрь  1.028320\n",
              "2  1000_2   1198.0   2018-06-25     1000      6  2018       Июнь  1.169922\n",
              "3  1000_3    551.0   2018-08-22     1000      8  2018     Август  0.538086\n",
              "4  1000_4    303.0   2018-09-24     1000      9  2018   Сентябрь  0.295898"
            ]
          },
          "metadata": {
            "tags": []
          },
          "execution_count": 32
        }
      ]
    },
    {
      "cell_type": "markdown",
      "metadata": {
        "id": "t5hLfm3tO-51"
      },
      "source": [
        "### Обработка `df_calls`"
      ]
    },
    {
      "cell_type": "markdown",
      "metadata": {
        "id": "IyfPwzNSO-51"
      },
      "source": [
        "Построим гистограмму значений для продолжительности звонков:"
      ]
    },
    {
      "cell_type": "code",
      "metadata": {
        "colab": {
          "base_uri": "https://localhost:8080/",
          "height": 350
        },
        "id": "cAL5se96O-51",
        "outputId": "7752bdb8-b643-41a0-9113-b7ae3e48ec53"
      },
      "source": [
        "df_calls['duration'].plot(kind='hist', figsize=(15,5),\n",
        "                          grid=True, color='steelblue', \n",
        "                          edgecolor='black', linewidth=2, bins=50  \n",
        "                         ) \n",
        "\n",
        "plt.title('Продолжительность звонков')\n",
        "plt.xlabel('Длительность звонков')\n",
        "plt.ylabel('Количество звонков')\n",
        "plt.show()"
      ],
      "execution_count": null,
      "outputs": [
        {
          "output_type": "display_data",
          "data": {
            "image/png": "[encoded data removed]",
            "text/plain": [
              "<Figure size 1080x360 with 1 Axes>"
            ]
          },
          "metadata": {
            "tags": [],
            "needs_background": "light"
          }
        }
      ]
    },
    {
      "cell_type": "code",
      "metadata": {
        "colab": {
          "base_uri": "https://localhost:8080/"
        },
        "id": "9yKCxuXIO-51",
        "outputId": "f01547f5-2cfc-47a9-b98b-408a0a8c8ffe"
      },
      "source": [
        "calls_0_1 = df_calls.query('duration > 0 and duration < 1')['duration'].count()\n",
        "calls_0 = df_calls.query('duration == 0')['duration'].count()\n",
        "\n",
        "print('Разговоры от 0 до 1 минуты:', calls_0_1)\n",
        "print('Количество нулевых значений:', calls_0)\n",
        "print('Всего звонков: ', df_calls['duration'].count())\n",
        "print('Процент нулевых звонков: {:.2%}'.format(calls_0/df_calls['duration'].count()))"
      ],
      "execution_count": null,
      "outputs": [
        {
          "output_type": "stream",
          "text": [
            "Разговоры от 0 до 1 минуты: 8314\n",
            "Количество нулевых значений: 39613\n",
            "Всего звонков:  202607\n",
            "Процент нулевых звонков: 19.55%\n"
          ],
          "name": "stdout"
        }
      ]
    },
    {
      "cell_type": "markdown",
      "metadata": {
        "id": "Rwk1go2JO-52"
      },
      "source": [
        "Исходя из полученной информации, можно сделать вывод, что нулевые значения соответствуют тем звонкам, где абонент не ответил на вызов (как в случае исходящих звонков, так и исходящих), и, соответственно, длительность разговора составила 0 минут и секунд. Нулевые строки удаляем:"
      ]
    },
    {
      "cell_type": "code",
      "metadata": {
        "colab": {
          "base_uri": "https://localhost:8080/"
        },
        "id": "5UvjHQmrO-52",
        "outputId": "e6a3ec4c-b8cf-4d61-e5c1-e1360e01dbce"
      },
      "source": [
        "df_calls = df_calls.query('duration > 0').copy()\n",
        "df_calls['duration'] = np.ceil(df_calls['duration'])\n",
        "df_calls.info()"
      ],
      "execution_count": null,
      "outputs": [
        {
          "output_type": "stream",
          "text": [
            "<class 'pandas.core.frame.DataFrame'>\n",
            "Int64Index: 162994 entries, 2 to 202606\n",
            "Data columns (total 7 columns):\n",
            " #   Column      Non-Null Count   Dtype         \n",
            "---  ------      --------------   -----         \n",
            " 0   id          162994 non-null  object        \n",
            " 1   call_date   162994 non-null  datetime64[ns]\n",
            " 2   duration    162994 non-null  float64       \n",
            " 3   user_id     162994 non-null  int64         \n",
            " 4   month       162994 non-null  int64         \n",
            " 5   year        162994 non-null  int64         \n",
            " 6   month_name  162994 non-null  object        \n",
            "dtypes: datetime64[ns](1), float64(1), int64(3), object(2)\n",
            "memory usage: 9.9+ MB\n"
          ],
          "name": "stdout"
        }
      ]
    },
    {
      "cell_type": "code",
      "metadata": {
        "colab": {
          "base_uri": "https://localhost:8080/",
          "height": 350
        },
        "id": "BdnkRdtTO-52",
        "outputId": "f9fe339e-83f8-4c46-9076-56414c4be003"
      },
      "source": [
        "df_calls['duration'].plot(kind='hist', figsize=(15,5),\n",
        "                          grid=True, color='steelblue',\n",
        "                          edgecolor='black', linewidth=2, bins=50\n",
        "                      \n",
        ")\n",
        "\n",
        "plt.title('Продолжительность звонков')\n",
        "plt.xlabel('Длительность звонков')\n",
        "plt.ylabel('Количество звонков')\n",
        "plt.show()"
      ],
      "execution_count": null,
      "outputs": [
        {
          "output_type": "display_data",
          "data": {
            "image/png": "[encoded data removed]",
            "text/plain": [
              "<Figure size 1080x360 with 1 Axes>"
            ]
          },
          "metadata": {
            "tags": [],
            "needs_background": "light"
          }
        }
      ]
    },
    {
      "cell_type": "markdown",
      "metadata": {
        "id": "J5eUzAWaO-53"
      },
      "source": [
        "### Изучение данных по месяцам"
      ]
    },
    {
      "cell_type": "markdown",
      "metadata": {
        "id": "1f6I0eD7O-53"
      },
      "source": [
        "Посмотрим следующую информацию:\n",
        "\n",
        "- количество сделанных звонков и израсходованных минут разговора по месяцам;  \n",
        "- количество отправленных сообщений по месяцам;  \n",
        "- объем израсходованного интернет-трафика по месяцам;    \n",
        "\n",
        "Для этого построим столбчатую диаграмму для трех параметров: Количество звонков, количество SMS, количество интернет-сессий"
      ]
    },
    {
      "cell_type": "code",
      "metadata": {
        "id": "Z9pdpuBWO-53"
      },
      "source": [
        "#напишем функцию для построения диаграммы\n",
        "\n",
        "def plotting_month(dataframes_list, query=None):\n",
        "    plt.figure(figsize=(15,5))\n",
        "    ax = plt.gca()\n",
        "    \n",
        "    list_of_colors = ['steelblue', 'skyblue', 'cyan']\n",
        "\n",
        "    df_names_for_legend = [\n",
        "        'Количество звонков', \n",
        "        'Количество SMS', 'Количество интернет-сессий'\n",
        "        ]\n",
        "    legend_list = []\n",
        "\n",
        "    for i in range(len(dataframes_list)):\n",
        "        grouped_df = dataframes_list[i]\n",
        "        grouped_df_p = grouped_df.groupby('month')['user_id'].count().reset_index()\n",
        "\n",
        "        plot = grouped_df_p.plot(\n",
        "            x='month', y='user_id', \n",
        "            kind='bar', edgecolor='black', \n",
        "            color=list_of_colors[i],\n",
        "            ax=ax, width=0.08, position=i\n",
        ")\n",
        "        legend_list.append(df_names_for_legend[i])\n",
        "    \n",
        "    plt.xticks(\n",
        "        [0, 1, 2, 3, 4, 5, 6, 7, 8, 9, 10, 11], \n",
        "        [\n",
        "        'Январь', 'Февраль','Март', 'Апрель', \n",
        "        'Май', 'Июнь', 'Июль','Август', \n",
        "        'Сентябрь', 'Октябрь', 'Ноябрь', 'Декабрь'\n",
        "        ], rotation=20\n",
        ")\n",
        "    \n",
        "    ax.legend(legend_list)\n",
        "    plt.title('Услуги оператора по месяцам для выборки')\n",
        "    plt.xlabel('Месяц года')\n",
        "    plt.ylabel('Количество')\n",
        "    plt.show()\n",
        "    \n",
        "    \n"
      ],
      "execution_count": null,
      "outputs": []
    },
    {
      "cell_type": "code",
      "metadata": {
        "colab": {
          "base_uri": "https://localhost:8080/",
          "height": 366
        },
        "id": "tO5IWxGmO-53",
        "outputId": "c7a9cc3b-89ed-483b-f4d3-21035d4ed1b2"
      },
      "source": [
        "plotting_month([df_calls, df_messages, \n",
        "              df_internet]\n",
        ")"
      ],
      "execution_count": null,
      "outputs": [
        {
          "output_type": "display_data",
          "data": {
            "image/png": "[encoded data removed]",
            "text/plain": [
              "<Figure size 1080x360 with 1 Axes>"
            ]
          },
          "metadata": {
            "tags": [],
            "needs_background": "light"
          }
        }
      ]
    },
    {
      "cell_type": "markdown",
      "metadata": {
        "id": "yvHtYtSoO-53"
      },
      "source": [
        "### Формирование общей таблицы"
      ]
    },
    {
      "cell_type": "markdown",
      "metadata": {
        "id": "0kxAdBPFO-53"
      },
      "source": [
        "Сгруппируем таблицу звонков по месяцу и пользователю, найдем продолжительность разговора и количество:"
      ]
    },
    {
      "cell_type": "code",
      "metadata": {
        "colab": {
          "base_uri": "https://localhost:8080/",
          "height": 514
        },
        "id": "QpbNoMJNO-54",
        "outputId": "14504489-b427-4397-c87b-2ea4ad3944c8"
      },
      "source": [
        "calls_grouped = df_calls.groupby(['user_id','month_name']).agg({'duration': ['sum','count']}).reset_index()\n",
        "calls_grouped.columns = ['user_id', 'month_name','duration_of_calls', 'quantity_of_calls'] \n",
        "calls_grouped.head(15)\n"
      ],
      "execution_count": null,
      "outputs": [
        {
          "output_type": "execute_result",
          "data": {
            "text/html": [
              "<div>\n",
              "<style scoped>\n",
              "    .dataframe tbody tr th:only-of-type {\n",
              "        vertical-align: middle;\n",
              "    }\n",
              "\n",
              "    .dataframe tbody tr th {\n",
              "        vertical-align: top;\n",
              "    }\n",
              "\n",
              "    .dataframe thead th {\n",
              "        text-align: right;\n",
              "    }\n",
              "</style>\n",
              "<table border=\"1\" class=\"dataframe\">\n",
              "  <thead>\n",
              "    <tr style=\"text-align: right;\">\n",
              "      <th></th>\n",
              "      <th>user_id</th>\n",
              "      <th>month_name</th>\n",
              "      <th>duration_of_calls</th>\n",
              "      <th>quantity_of_calls</th>\n",
              "    </tr>\n",
              "  </thead>\n",
              "  <tbody>\n",
              "    <tr>\n",
              "      <th>0</th>\n",
              "      <td>1000</td>\n",
              "      <td>Август</td>\n",
              "      <td>408.0</td>\n",
              "      <td>42</td>\n",
              "    </tr>\n",
              "    <tr>\n",
              "      <th>1</th>\n",
              "      <td>1000</td>\n",
              "      <td>Декабрь</td>\n",
              "      <td>333.0</td>\n",
              "      <td>38</td>\n",
              "    </tr>\n",
              "    <tr>\n",
              "      <th>2</th>\n",
              "      <td>1000</td>\n",
              "      <td>Июль</td>\n",
              "      <td>340.0</td>\n",
              "      <td>41</td>\n",
              "    </tr>\n",
              "    <tr>\n",
              "      <th>3</th>\n",
              "      <td>1000</td>\n",
              "      <td>Июнь</td>\n",
              "      <td>172.0</td>\n",
              "      <td>28</td>\n",
              "    </tr>\n",
              "    <tr>\n",
              "      <th>4</th>\n",
              "      <td>1000</td>\n",
              "      <td>Май</td>\n",
              "      <td>159.0</td>\n",
              "      <td>17</td>\n",
              "    </tr>\n",
              "    <tr>\n",
              "      <th>5</th>\n",
              "      <td>1000</td>\n",
              "      <td>Ноябрь</td>\n",
              "      <td>338.0</td>\n",
              "      <td>37</td>\n",
              "    </tr>\n",
              "    <tr>\n",
              "      <th>6</th>\n",
              "      <td>1000</td>\n",
              "      <td>Октябрь</td>\n",
              "      <td>350.0</td>\n",
              "      <td>44</td>\n",
              "    </tr>\n",
              "    <tr>\n",
              "      <th>7</th>\n",
              "      <td>1000</td>\n",
              "      <td>Сентябрь</td>\n",
              "      <td>466.0</td>\n",
              "      <td>46</td>\n",
              "    </tr>\n",
              "    <tr>\n",
              "      <th>8</th>\n",
              "      <td>1001</td>\n",
              "      <td>Декабрь</td>\n",
              "      <td>414.0</td>\n",
              "      <td>47</td>\n",
              "    </tr>\n",
              "    <tr>\n",
              "      <th>9</th>\n",
              "      <td>1001</td>\n",
              "      <td>Ноябрь</td>\n",
              "      <td>430.0</td>\n",
              "      <td>45</td>\n",
              "    </tr>\n",
              "    <tr>\n",
              "      <th>10</th>\n",
              "      <td>1002</td>\n",
              "      <td>Август</td>\n",
              "      <td>289.0</td>\n",
              "      <td>37</td>\n",
              "    </tr>\n",
              "    <tr>\n",
              "      <th>11</th>\n",
              "      <td>1002</td>\n",
              "      <td>Декабрь</td>\n",
              "      <td>236.0</td>\n",
              "      <td>27</td>\n",
              "    </tr>\n",
              "    <tr>\n",
              "      <th>12</th>\n",
              "      <td>1002</td>\n",
              "      <td>Июль</td>\n",
              "      <td>214.0</td>\n",
              "      <td>21</td>\n",
              "    </tr>\n",
              "    <tr>\n",
              "      <th>13</th>\n",
              "      <td>1002</td>\n",
              "      <td>Июнь</td>\n",
              "      <td>117.0</td>\n",
              "      <td>14</td>\n",
              "    </tr>\n",
              "    <tr>\n",
              "      <th>14</th>\n",
              "      <td>1002</td>\n",
              "      <td>Ноябрь</td>\n",
              "      <td>243.0</td>\n",
              "      <td>25</td>\n",
              "    </tr>\n",
              "  </tbody>\n",
              "</table>\n",
              "</div>"
            ],
            "text/plain": [
              "    user_id month_name  duration_of_calls  quantity_of_calls\n",
              "0      1000     Август              408.0                 42\n",
              "1      1000    Декабрь              333.0                 38\n",
              "2      1000       Июль              340.0                 41\n",
              "3      1000       Июнь              172.0                 28\n",
              "4      1000        Май              159.0                 17\n",
              "5      1000     Ноябрь              338.0                 37\n",
              "6      1000    Октябрь              350.0                 44\n",
              "7      1000   Сентябрь              466.0                 46\n",
              "8      1001    Декабрь              414.0                 47\n",
              "9      1001     Ноябрь              430.0                 45\n",
              "10     1002     Август              289.0                 37\n",
              "11     1002    Декабрь              236.0                 27\n",
              "12     1002       Июль              214.0                 21\n",
              "13     1002       Июнь              117.0                 14\n",
              "14     1002     Ноябрь              243.0                 25"
            ]
          },
          "metadata": {
            "tags": []
          },
          "execution_count": 39
        }
      ]
    },
    {
      "cell_type": "markdown",
      "metadata": {
        "id": "UUQWEbu6O-54"
      },
      "source": [
        "Сгруппируем таблицу пользования интернет траффиком по месяцу и пользователю, найдем количество использованных Гигабайт:"
      ]
    },
    {
      "cell_type": "code",
      "metadata": {
        "colab": {
          "base_uri": "https://localhost:8080/",
          "height": 514
        },
        "id": "HRFdpbNtO-54",
        "outputId": "34cf66f4-6750-4a43-c0ec-1b259ade3d84"
      },
      "source": [
        "internet_grouped = df_internet.groupby(['user_id','month_name']).agg({'gb_used': 'sum'}).reset_index()\n",
        "internet_grouped.columns = ['user_id', 'month_name','gb_used_total'] \n",
        "internet_grouped.head(15)\n"
      ],
      "execution_count": null,
      "outputs": [
        {
          "output_type": "execute_result",
          "data": {
            "text/html": [
              "<div>\n",
              "<style scoped>\n",
              "    .dataframe tbody tr th:only-of-type {\n",
              "        vertical-align: middle;\n",
              "    }\n",
              "\n",
              "    .dataframe tbody tr th {\n",
              "        vertical-align: top;\n",
              "    }\n",
              "\n",
              "    .dataframe thead th {\n",
              "        text-align: right;\n",
              "    }\n",
              "</style>\n",
              "<table border=\"1\" class=\"dataframe\">\n",
              "  <thead>\n",
              "    <tr style=\"text-align: right;\">\n",
              "      <th></th>\n",
              "      <th>user_id</th>\n",
              "      <th>month_name</th>\n",
              "      <th>gb_used_total</th>\n",
              "    </tr>\n",
              "  </thead>\n",
              "  <tbody>\n",
              "    <tr>\n",
              "      <th>0</th>\n",
              "      <td>1000</td>\n",
              "      <td>Август</td>\n",
              "      <td>13.740234</td>\n",
              "    </tr>\n",
              "    <tr>\n",
              "      <th>1</th>\n",
              "      <td>1000</td>\n",
              "      <td>Декабрь</td>\n",
              "      <td>9.596680</td>\n",
              "    </tr>\n",
              "    <tr>\n",
              "      <th>2</th>\n",
              "      <td>1000</td>\n",
              "      <td>Июль</td>\n",
              "      <td>13.687500</td>\n",
              "    </tr>\n",
              "    <tr>\n",
              "      <th>3</th>\n",
              "      <td>1000</td>\n",
              "      <td>Июнь</td>\n",
              "      <td>22.711914</td>\n",
              "    </tr>\n",
              "    <tr>\n",
              "      <th>4</th>\n",
              "      <td>1000</td>\n",
              "      <td>Май</td>\n",
              "      <td>2.203125</td>\n",
              "    </tr>\n",
              "    <tr>\n",
              "      <th>5</th>\n",
              "      <td>1000</td>\n",
              "      <td>Ноябрь</td>\n",
              "      <td>14.421875</td>\n",
              "    </tr>\n",
              "    <tr>\n",
              "      <th>6</th>\n",
              "      <td>1000</td>\n",
              "      <td>Октябрь</td>\n",
              "      <td>14.372070</td>\n",
              "    </tr>\n",
              "    <tr>\n",
              "      <th>7</th>\n",
              "      <td>1000</td>\n",
              "      <td>Сентябрь</td>\n",
              "      <td>14.239258</td>\n",
              "    </tr>\n",
              "    <tr>\n",
              "      <th>8</th>\n",
              "      <td>1001</td>\n",
              "      <td>Декабрь</td>\n",
              "      <td>13.723633</td>\n",
              "    </tr>\n",
              "    <tr>\n",
              "      <th>9</th>\n",
              "      <td>1001</td>\n",
              "      <td>Ноябрь</td>\n",
              "      <td>18.019531</td>\n",
              "    </tr>\n",
              "    <tr>\n",
              "      <th>10</th>\n",
              "      <td>1002</td>\n",
              "      <td>Август</td>\n",
              "      <td>19.870117</td>\n",
              "    </tr>\n",
              "    <tr>\n",
              "      <th>11</th>\n",
              "      <td>1002</td>\n",
              "      <td>Декабрь</td>\n",
              "      <td>17.711914</td>\n",
              "    </tr>\n",
              "    <tr>\n",
              "      <th>12</th>\n",
              "      <td>1002</td>\n",
              "      <td>Июль</td>\n",
              "      <td>17.188477</td>\n",
              "    </tr>\n",
              "    <tr>\n",
              "      <th>13</th>\n",
              "      <td>1002</td>\n",
              "      <td>Июнь</td>\n",
              "      <td>10.616211</td>\n",
              "    </tr>\n",
              "    <tr>\n",
              "      <th>14</th>\n",
              "      <td>1002</td>\n",
              "      <td>Ноябрь</td>\n",
              "      <td>18.173828</td>\n",
              "    </tr>\n",
              "  </tbody>\n",
              "</table>\n",
              "</div>"
            ],
            "text/plain": [
              "    user_id month_name  gb_used_total\n",
              "0      1000     Август      13.740234\n",
              "1      1000    Декабрь       9.596680\n",
              "2      1000       Июль      13.687500\n",
              "3      1000       Июнь      22.711914\n",
              "4      1000        Май       2.203125\n",
              "5      1000     Ноябрь      14.421875\n",
              "6      1000    Октябрь      14.372070\n",
              "7      1000   Сентябрь      14.239258\n",
              "8      1001    Декабрь      13.723633\n",
              "9      1001     Ноябрь      18.019531\n",
              "10     1002     Август      19.870117\n",
              "11     1002    Декабрь      17.711914\n",
              "12     1002       Июль      17.188477\n",
              "13     1002       Июнь      10.616211\n",
              "14     1002     Ноябрь      18.173828"
            ]
          },
          "metadata": {
            "tags": []
          },
          "execution_count": 40
        }
      ]
    },
    {
      "cell_type": "markdown",
      "metadata": {
        "id": "hVGXO1WRO-54"
      },
      "source": [
        "Сгруппируем таблицу отправки sms-сообщений по месяцу и пользователю, найдем количество отправленных сообщений:"
      ]
    },
    {
      "cell_type": "code",
      "metadata": {
        "colab": {
          "base_uri": "https://localhost:8080/",
          "height": 514
        },
        "id": "RuDpTAkIO-54",
        "outputId": "321a2957-0825-4a06-81da-4b091c40a863"
      },
      "source": [
        "messages_grouped = df_messages.groupby(['user_id','month_name']).agg({'id':'count'}).reset_index()\n",
        "messages_grouped.columns = ['user_id', 'month_name','quantity_of_sms'] \n",
        "messages_grouped.head(15)"
      ],
      "execution_count": null,
      "outputs": [
        {
          "output_type": "execute_result",
          "data": {
            "text/html": [
              "<div>\n",
              "<style scoped>\n",
              "    .dataframe tbody tr th:only-of-type {\n",
              "        vertical-align: middle;\n",
              "    }\n",
              "\n",
              "    .dataframe tbody tr th {\n",
              "        vertical-align: top;\n",
              "    }\n",
              "\n",
              "    .dataframe thead th {\n",
              "        text-align: right;\n",
              "    }\n",
              "</style>\n",
              "<table border=\"1\" class=\"dataframe\">\n",
              "  <thead>\n",
              "    <tr style=\"text-align: right;\">\n",
              "      <th></th>\n",
              "      <th>user_id</th>\n",
              "      <th>month_name</th>\n",
              "      <th>quantity_of_sms</th>\n",
              "    </tr>\n",
              "  </thead>\n",
              "  <tbody>\n",
              "    <tr>\n",
              "      <th>0</th>\n",
              "      <td>1000</td>\n",
              "      <td>Август</td>\n",
              "      <td>81</td>\n",
              "    </tr>\n",
              "    <tr>\n",
              "      <th>1</th>\n",
              "      <td>1000</td>\n",
              "      <td>Декабрь</td>\n",
              "      <td>70</td>\n",
              "    </tr>\n",
              "    <tr>\n",
              "      <th>2</th>\n",
              "      <td>1000</td>\n",
              "      <td>Июль</td>\n",
              "      <td>75</td>\n",
              "    </tr>\n",
              "    <tr>\n",
              "      <th>3</th>\n",
              "      <td>1000</td>\n",
              "      <td>Июнь</td>\n",
              "      <td>60</td>\n",
              "    </tr>\n",
              "    <tr>\n",
              "      <th>4</th>\n",
              "      <td>1000</td>\n",
              "      <td>Май</td>\n",
              "      <td>22</td>\n",
              "    </tr>\n",
              "    <tr>\n",
              "      <th>5</th>\n",
              "      <td>1000</td>\n",
              "      <td>Ноябрь</td>\n",
              "      <td>58</td>\n",
              "    </tr>\n",
              "    <tr>\n",
              "      <th>6</th>\n",
              "      <td>1000</td>\n",
              "      <td>Октябрь</td>\n",
              "      <td>73</td>\n",
              "    </tr>\n",
              "    <tr>\n",
              "      <th>7</th>\n",
              "      <td>1000</td>\n",
              "      <td>Сентябрь</td>\n",
              "      <td>57</td>\n",
              "    </tr>\n",
              "    <tr>\n",
              "      <th>8</th>\n",
              "      <td>1002</td>\n",
              "      <td>Август</td>\n",
              "      <td>13</td>\n",
              "    </tr>\n",
              "    <tr>\n",
              "      <th>9</th>\n",
              "      <td>1002</td>\n",
              "      <td>Декабрь</td>\n",
              "      <td>12</td>\n",
              "    </tr>\n",
              "    <tr>\n",
              "      <th>10</th>\n",
              "      <td>1002</td>\n",
              "      <td>Июль</td>\n",
              "      <td>11</td>\n",
              "    </tr>\n",
              "    <tr>\n",
              "      <th>11</th>\n",
              "      <td>1002</td>\n",
              "      <td>Июнь</td>\n",
              "      <td>4</td>\n",
              "    </tr>\n",
              "    <tr>\n",
              "      <th>12</th>\n",
              "      <td>1002</td>\n",
              "      <td>Ноябрь</td>\n",
              "      <td>16</td>\n",
              "    </tr>\n",
              "    <tr>\n",
              "      <th>13</th>\n",
              "      <td>1002</td>\n",
              "      <td>Октябрь</td>\n",
              "      <td>10</td>\n",
              "    </tr>\n",
              "    <tr>\n",
              "      <th>14</th>\n",
              "      <td>1002</td>\n",
              "      <td>Сентябрь</td>\n",
              "      <td>4</td>\n",
              "    </tr>\n",
              "  </tbody>\n",
              "</table>\n",
              "</div>"
            ],
            "text/plain": [
              "    user_id month_name  quantity_of_sms\n",
              "0      1000     Август               81\n",
              "1      1000    Декабрь               70\n",
              "2      1000       Июль               75\n",
              "3      1000       Июнь               60\n",
              "4      1000        Май               22\n",
              "5      1000     Ноябрь               58\n",
              "6      1000    Октябрь               73\n",
              "7      1000   Сентябрь               57\n",
              "8      1002     Август               13\n",
              "9      1002    Декабрь               12\n",
              "10     1002       Июль               11\n",
              "11     1002       Июнь                4\n",
              "12     1002     Ноябрь               16\n",
              "13     1002    Октябрь               10\n",
              "14     1002   Сентябрь                4"
            ]
          },
          "metadata": {
            "tags": []
          },
          "execution_count": 41
        }
      ]
    },
    {
      "cell_type": "markdown",
      "metadata": {
        "id": "iWNXsGiVO-54"
      },
      "source": [
        "Сформируем общую таблицу:"
      ]
    },
    {
      "cell_type": "code",
      "metadata": {
        "colab": {
          "base_uri": "https://localhost:8080/",
          "height": 531
        },
        "id": "T6Qi01UpO-54",
        "outputId": "b05f1d21-b45a-4940-bfcf-ba5073a82e94"
      },
      "source": [
        "mobile_customers = calls_grouped.merge(messages_grouped,  how = 'outer', \n",
        "                                       on = ['user_id', 'month_name']).merge(internet_grouped,  how = 'outer', \n",
        "                                       on = ['user_id', 'month_name']).merge(df_users[['user_id', 'tariff','city']], how = 'left', \n",
        "                                       on = 'user_id').sort_values(\n",
        "                                                                   by='user_id').reset_index(drop=True\n",
        "                                                                   )\n",
        "\n",
        "\n",
        "print('Количество уникальных пользователей в итоговой таблице: ', \n",
        "      len(mobile_customers['user_id'].unique()), 'человек')\n",
        "mobile_customers.head(15)"
      ],
      "execution_count": null,
      "outputs": [
        {
          "output_type": "stream",
          "text": [
            "Количество уникальных пользователей в итоговой таблице:  498 человек\n"
          ],
          "name": "stdout"
        },
        {
          "output_type": "execute_result",
          "data": {
            "text/html": [
              "<div>\n",
              "<style scoped>\n",
              "    .dataframe tbody tr th:only-of-type {\n",
              "        vertical-align: middle;\n",
              "    }\n",
              "\n",
              "    .dataframe tbody tr th {\n",
              "        vertical-align: top;\n",
              "    }\n",
              "\n",
              "    .dataframe thead th {\n",
              "        text-align: right;\n",
              "    }\n",
              "</style>\n",
              "<table border=\"1\" class=\"dataframe\">\n",
              "  <thead>\n",
              "    <tr style=\"text-align: right;\">\n",
              "      <th></th>\n",
              "      <th>user_id</th>\n",
              "      <th>month_name</th>\n",
              "      <th>duration_of_calls</th>\n",
              "      <th>quantity_of_calls</th>\n",
              "      <th>quantity_of_sms</th>\n",
              "      <th>gb_used_total</th>\n",
              "      <th>tariff</th>\n",
              "      <th>city</th>\n",
              "    </tr>\n",
              "  </thead>\n",
              "  <tbody>\n",
              "    <tr>\n",
              "      <th>0</th>\n",
              "      <td>1000</td>\n",
              "      <td>Август</td>\n",
              "      <td>408.0</td>\n",
              "      <td>42.0</td>\n",
              "      <td>81.0</td>\n",
              "      <td>13.740234</td>\n",
              "      <td>ultra</td>\n",
              "      <td>Краснодар</td>\n",
              "    </tr>\n",
              "    <tr>\n",
              "      <th>1</th>\n",
              "      <td>1000</td>\n",
              "      <td>Декабрь</td>\n",
              "      <td>333.0</td>\n",
              "      <td>38.0</td>\n",
              "      <td>70.0</td>\n",
              "      <td>9.596680</td>\n",
              "      <td>ultra</td>\n",
              "      <td>Краснодар</td>\n",
              "    </tr>\n",
              "    <tr>\n",
              "      <th>2</th>\n",
              "      <td>1000</td>\n",
              "      <td>Июль</td>\n",
              "      <td>340.0</td>\n",
              "      <td>41.0</td>\n",
              "      <td>75.0</td>\n",
              "      <td>13.687500</td>\n",
              "      <td>ultra</td>\n",
              "      <td>Краснодар</td>\n",
              "    </tr>\n",
              "    <tr>\n",
              "      <th>3</th>\n",
              "      <td>1000</td>\n",
              "      <td>Июнь</td>\n",
              "      <td>172.0</td>\n",
              "      <td>28.0</td>\n",
              "      <td>60.0</td>\n",
              "      <td>22.711914</td>\n",
              "      <td>ultra</td>\n",
              "      <td>Краснодар</td>\n",
              "    </tr>\n",
              "    <tr>\n",
              "      <th>4</th>\n",
              "      <td>1000</td>\n",
              "      <td>Май</td>\n",
              "      <td>159.0</td>\n",
              "      <td>17.0</td>\n",
              "      <td>22.0</td>\n",
              "      <td>2.203125</td>\n",
              "      <td>ultra</td>\n",
              "      <td>Краснодар</td>\n",
              "    </tr>\n",
              "    <tr>\n",
              "      <th>5</th>\n",
              "      <td>1000</td>\n",
              "      <td>Ноябрь</td>\n",
              "      <td>338.0</td>\n",
              "      <td>37.0</td>\n",
              "      <td>58.0</td>\n",
              "      <td>14.421875</td>\n",
              "      <td>ultra</td>\n",
              "      <td>Краснодар</td>\n",
              "    </tr>\n",
              "    <tr>\n",
              "      <th>6</th>\n",
              "      <td>1000</td>\n",
              "      <td>Октябрь</td>\n",
              "      <td>350.0</td>\n",
              "      <td>44.0</td>\n",
              "      <td>73.0</td>\n",
              "      <td>14.372070</td>\n",
              "      <td>ultra</td>\n",
              "      <td>Краснодар</td>\n",
              "    </tr>\n",
              "    <tr>\n",
              "      <th>7</th>\n",
              "      <td>1000</td>\n",
              "      <td>Сентябрь</td>\n",
              "      <td>466.0</td>\n",
              "      <td>46.0</td>\n",
              "      <td>57.0</td>\n",
              "      <td>14.239258</td>\n",
              "      <td>ultra</td>\n",
              "      <td>Краснодар</td>\n",
              "    </tr>\n",
              "    <tr>\n",
              "      <th>8</th>\n",
              "      <td>1001</td>\n",
              "      <td>Ноябрь</td>\n",
              "      <td>430.0</td>\n",
              "      <td>45.0</td>\n",
              "      <td>NaN</td>\n",
              "      <td>18.019531</td>\n",
              "      <td>smart</td>\n",
              "      <td>Москва</td>\n",
              "    </tr>\n",
              "    <tr>\n",
              "      <th>9</th>\n",
              "      <td>1001</td>\n",
              "      <td>Декабрь</td>\n",
              "      <td>414.0</td>\n",
              "      <td>47.0</td>\n",
              "      <td>NaN</td>\n",
              "      <td>13.723633</td>\n",
              "      <td>smart</td>\n",
              "      <td>Москва</td>\n",
              "    </tr>\n",
              "    <tr>\n",
              "      <th>10</th>\n",
              "      <td>1002</td>\n",
              "      <td>Август</td>\n",
              "      <td>289.0</td>\n",
              "      <td>37.0</td>\n",
              "      <td>13.0</td>\n",
              "      <td>19.870117</td>\n",
              "      <td>smart</td>\n",
              "      <td>Стерлитамак</td>\n",
              "    </tr>\n",
              "    <tr>\n",
              "      <th>11</th>\n",
              "      <td>1002</td>\n",
              "      <td>Декабрь</td>\n",
              "      <td>236.0</td>\n",
              "      <td>27.0</td>\n",
              "      <td>12.0</td>\n",
              "      <td>17.711914</td>\n",
              "      <td>smart</td>\n",
              "      <td>Стерлитамак</td>\n",
              "    </tr>\n",
              "    <tr>\n",
              "      <th>12</th>\n",
              "      <td>1002</td>\n",
              "      <td>Июль</td>\n",
              "      <td>214.0</td>\n",
              "      <td>21.0</td>\n",
              "      <td>11.0</td>\n",
              "      <td>17.188477</td>\n",
              "      <td>smart</td>\n",
              "      <td>Стерлитамак</td>\n",
              "    </tr>\n",
              "    <tr>\n",
              "      <th>13</th>\n",
              "      <td>1002</td>\n",
              "      <td>Июнь</td>\n",
              "      <td>117.0</td>\n",
              "      <td>14.0</td>\n",
              "      <td>4.0</td>\n",
              "      <td>10.616211</td>\n",
              "      <td>smart</td>\n",
              "      <td>Стерлитамак</td>\n",
              "    </tr>\n",
              "    <tr>\n",
              "      <th>14</th>\n",
              "      <td>1002</td>\n",
              "      <td>Ноябрь</td>\n",
              "      <td>243.0</td>\n",
              "      <td>25.0</td>\n",
              "      <td>16.0</td>\n",
              "      <td>18.173828</td>\n",
              "      <td>smart</td>\n",
              "      <td>Стерлитамак</td>\n",
              "    </tr>\n",
              "  </tbody>\n",
              "</table>\n",
              "</div>"
            ],
            "text/plain": [
              "    user_id month_name  duration_of_calls  ...  gb_used_total  tariff         city\n",
              "0      1000     Август              408.0  ...      13.740234   ultra    Краснодар\n",
              "1      1000    Декабрь              333.0  ...       9.596680   ultra    Краснодар\n",
              "2      1000       Июль              340.0  ...      13.687500   ultra    Краснодар\n",
              "3      1000       Июнь              172.0  ...      22.711914   ultra    Краснодар\n",
              "4      1000        Май              159.0  ...       2.203125   ultra    Краснодар\n",
              "5      1000     Ноябрь              338.0  ...      14.421875   ultra    Краснодар\n",
              "6      1000    Октябрь              350.0  ...      14.372070   ultra    Краснодар\n",
              "7      1000   Сентябрь              466.0  ...      14.239258   ultra    Краснодар\n",
              "8      1001     Ноябрь              430.0  ...      18.019531   smart       Москва\n",
              "9      1001    Декабрь              414.0  ...      13.723633   smart       Москва\n",
              "10     1002     Август              289.0  ...      19.870117   smart  Стерлитамак\n",
              "11     1002    Декабрь              236.0  ...      17.711914   smart  Стерлитамак\n",
              "12     1002       Июль              214.0  ...      17.188477   smart  Стерлитамак\n",
              "13     1002       Июнь              117.0  ...      10.616211   smart  Стерлитамак\n",
              "14     1002     Ноябрь              243.0  ...      18.173828   smart  Стерлитамак\n",
              "\n",
              "[15 rows x 8 columns]"
            ]
          },
          "metadata": {
            "tags": []
          },
          "execution_count": 42
        }
      ]
    },
    {
      "cell_type": "code",
      "metadata": {
        "colab": {
          "base_uri": "https://localhost:8080/"
        },
        "id": "3sezW2o9O-55",
        "outputId": "08f6c910-d222-4a22-d719-f521adfdd9f1"
      },
      "source": [
        "mobile_customers.info()"
      ],
      "execution_count": null,
      "outputs": [
        {
          "output_type": "stream",
          "text": [
            "<class 'pandas.core.frame.DataFrame'>\n",
            "RangeIndex: 3214 entries, 0 to 3213\n",
            "Data columns (total 8 columns):\n",
            " #   Column             Non-Null Count  Dtype  \n",
            "---  ------             --------------  -----  \n",
            " 0   user_id            3214 non-null   int64  \n",
            " 1   month_name         3214 non-null   object \n",
            " 2   duration_of_calls  3168 non-null   float64\n",
            " 3   quantity_of_calls  3168 non-null   float64\n",
            " 4   quantity_of_sms    2717 non-null   float64\n",
            " 5   gb_used_total      3201 non-null   float64\n",
            " 6   tariff             3214 non-null   object \n",
            " 7   city               3214 non-null   object \n",
            "dtypes: float64(4), int64(1), object(3)\n",
            "memory usage: 201.0+ KB\n"
          ],
          "name": "stdout"
        }
      ]
    },
    {
      "cell_type": "markdown",
      "metadata": {
        "id": "EMtQXE6hO-55"
      },
      "source": [
        "Проверим пропуски в новой таблице:"
      ]
    },
    {
      "cell_type": "code",
      "metadata": {
        "colab": {
          "base_uri": "https://localhost:8080/"
        },
        "id": "10eNMo4RO-55",
        "outputId": "c8a816d7-d533-4429-de00-ee273705b6f9"
      },
      "source": [
        "mobile_customers.isna().mean().sort_values(ascending=False)"
      ],
      "execution_count": null,
      "outputs": [
        {
          "output_type": "execute_result",
          "data": {
            "text/plain": [
              "quantity_of_sms      0.154636\n",
              "quantity_of_calls    0.014312\n",
              "duration_of_calls    0.014312\n",
              "gb_used_total        0.004045\n",
              "city                 0.000000\n",
              "tariff               0.000000\n",
              "month_name           0.000000\n",
              "user_id              0.000000\n",
              "dtype: float64"
            ]
          },
          "metadata": {
            "tags": []
          },
          "execution_count": 44
        }
      ]
    },
    {
      "cell_type": "markdown",
      "metadata": {
        "id": "ZuVLH2mUO-55"
      },
      "source": [
        "Ожидаемо, что пропуски есть в столбцах количества `sms`, продолжительности и количестве звонков, использованном трафике. Так как изначально пропусков не наблюдалось - это означает, что абоненты с пропусками в тех или иных столбцах не пользовались данным видом связи. Пропуски заменим на `0`:"
      ]
    },
    {
      "cell_type": "code",
      "metadata": {
        "colab": {
          "base_uri": "https://localhost:8080/"
        },
        "id": "sBszexA0O-55",
        "outputId": "811d4b5e-d67a-472f-86d5-97237461c752"
      },
      "source": [
        "mobile_customers = mobile_customers.fillna(0)\n",
        "mobile_customers.isna().mean().sort_values(ascending=False)"
      ],
      "execution_count": null,
      "outputs": [
        {
          "output_type": "execute_result",
          "data": {
            "text/plain": [
              "city                 0.0\n",
              "tariff               0.0\n",
              "gb_used_total        0.0\n",
              "quantity_of_sms      0.0\n",
              "quantity_of_calls    0.0\n",
              "duration_of_calls    0.0\n",
              "month_name           0.0\n",
              "user_id              0.0\n",
              "dtype: float64"
            ]
          },
          "metadata": {
            "tags": []
          },
          "execution_count": 45
        }
      ]
    },
    {
      "cell_type": "markdown",
      "metadata": {
        "id": "ZkstS0CTO-55"
      },
      "source": [
        "### Помесячная выручка с каждого пользователя"
      ]
    },
    {
      "cell_type": "markdown",
      "metadata": {
        "id": "e2K-DOU-O-56"
      },
      "source": [
        "Обратимся к таблице с тарифамию Необходимо привести количество Мегабайт в Гигабайты, для удобства подсчетов"
      ]
    },
    {
      "cell_type": "code",
      "metadata": {
        "colab": {
          "base_uri": "https://localhost:8080/",
          "height": 131
        },
        "id": "lLeYy-fwO-56",
        "outputId": "91e3e31a-f27f-4546-fc47-ba8c507e2e16"
      },
      "source": [
        "df_tariffs ['gb_per_month_included'] = df_tariffs['mb_per_month_included'].apply(lambda x: x/1024)\n",
        "df_tariffs['gb_per_month_included'] = np.ceil(df_tariffs['gb_per_month_included']).astype(int)\n",
        "df_tariffs"
      ],
      "execution_count": null,
      "outputs": [
        {
          "output_type": "execute_result",
          "data": {
            "text/html": [
              "<div>\n",
              "<style scoped>\n",
              "    .dataframe tbody tr th:only-of-type {\n",
              "        vertical-align: middle;\n",
              "    }\n",
              "\n",
              "    .dataframe tbody tr th {\n",
              "        vertical-align: top;\n",
              "    }\n",
              "\n",
              "    .dataframe thead th {\n",
              "        text-align: right;\n",
              "    }\n",
              "</style>\n",
              "<table border=\"1\" class=\"dataframe\">\n",
              "  <thead>\n",
              "    <tr style=\"text-align: right;\">\n",
              "      <th></th>\n",
              "      <th>messages_included</th>\n",
              "      <th>mb_per_month_included</th>\n",
              "      <th>minutes_included</th>\n",
              "      <th>rub_monthly_fee</th>\n",
              "      <th>rub_per_gb</th>\n",
              "      <th>rub_per_message</th>\n",
              "      <th>rub_per_minute</th>\n",
              "      <th>tariff_name</th>\n",
              "      <th>gb_per_month_included</th>\n",
              "    </tr>\n",
              "  </thead>\n",
              "  <tbody>\n",
              "    <tr>\n",
              "      <th>0</th>\n",
              "      <td>50</td>\n",
              "      <td>15360</td>\n",
              "      <td>500</td>\n",
              "      <td>550</td>\n",
              "      <td>200</td>\n",
              "      <td>3</td>\n",
              "      <td>3</td>\n",
              "      <td>smart</td>\n",
              "      <td>15</td>\n",
              "    </tr>\n",
              "    <tr>\n",
              "      <th>1</th>\n",
              "      <td>1000</td>\n",
              "      <td>30720</td>\n",
              "      <td>3000</td>\n",
              "      <td>1950</td>\n",
              "      <td>150</td>\n",
              "      <td>1</td>\n",
              "      <td>1</td>\n",
              "      <td>ultra</td>\n",
              "      <td>30</td>\n",
              "    </tr>\n",
              "  </tbody>\n",
              "</table>\n",
              "</div>"
            ],
            "text/plain": [
              "   messages_included  mb_per_month_included  ...  tariff_name  gb_per_month_included\n",
              "0                 50                  15360  ...        smart                     15\n",
              "1               1000                  30720  ...        ultra                     30\n",
              "\n",
              "[2 rows x 9 columns]"
            ]
          },
          "metadata": {
            "tags": []
          },
          "execution_count": 46
        }
      ]
    },
    {
      "cell_type": "markdown",
      "metadata": {
        "id": "dYY6xbD3O-56"
      },
      "source": [
        "Посчитаем и добавим в таблицу помесячную выручку с каждого пользователя. Для начала напишем функции, обращаться будем к таблице с тарифами"
      ]
    },
    {
      "cell_type": "code",
      "metadata": {
        "id": "jiRb8gLmO-56"
      },
      "source": [
        "# функция для нахождения превышения разговоров\n",
        "\n",
        "def calls_over_lim(row):\n",
        "    if row['tariff'] == 'smart':\n",
        "        result = row['duration_of_calls'] - df_tariffs.loc[0, 'minutes_included']\n",
        "        return np.where(result > 0, result, 0)\n",
        "    else:\n",
        "        result = row['duration_of_calls'] - df_tariffs.loc[1, 'minutes_included']\n",
        "        return np.where(result > 0, result, 0)\n",
        "\n",
        "# функция для нахождения превышения sms-сообщений\n",
        "\n",
        "def sms_over_lim(row):\n",
        "    if row['tariff'] == 'smart':\n",
        "        i=0\n",
        "    else:\n",
        "        i=1\n",
        "    result = row['quantity_of_sms'] - df_tariffs.loc[i, 'messages_included']\n",
        "    return np.where(result > 0, result, 0)\n",
        "    \n",
        "# функция для нахождения превышения интернет-траффика\n",
        "\n",
        "def web_over_lim(row):\n",
        "    if row['tariff'] == 'smart':\n",
        "        result = row['gb_used_total'] - df_tariffs.loc[0, 'gb_per_month_included']\n",
        "        return np.where(result > 0, result, 0)\n",
        "    else:\n",
        "        result = row['gb_used_total'] - df_tariffs.loc[1, 'gb_per_month_included']\n",
        "        return np.where(result > 0, result, 0)\n",
        "    \n",
        "# функция для нахождения размера превышения по тарифу\n",
        "\n",
        "def month_overcome(row):\n",
        "    total_income = 0\n",
        "    if row['tariff'] == 'smart':\n",
        "        total_income += np.ceil(row['minutes_over_plan']) * df_tariffs.loc[0, 'rub_per_minute']\n",
        "        total_income += row['sms_over_plan'] * df_tariffs.loc[0, 'rub_per_message']\n",
        "        total_income += np.ceil(row['gb_over_plan']) * df_tariffs.loc[0, 'rub_per_gb']\n",
        "        return total_income\n",
        "    \n",
        "    else:\n",
        "        total_income += np.ceil(row['minutes_over_plan']) * df_tariffs.loc[1, 'rub_per_minute']\n",
        "        total_income += row['sms_over_plan'] * df_tariffs.loc[1, 'rub_per_message']\n",
        "        total_income += np.ceil(row['gb_over_plan']) * df_tariffs.loc[1, 'rub_per_gb']\n",
        "        return total_income\n",
        "    \n",
        "# функция для нахождения общего поступления от клиента в рамках всех услуг\n",
        "\n",
        "def revenue(row):\n",
        "    if row['tariff'] == 'smart':\n",
        "        result = row['monthly_overcome'] + df_tariffs.loc[0, 'rub_monthly_fee']\n",
        "        return np.where(result > 0, result, 0)\n",
        "    else:\n",
        "        result = row['monthly_overcome'] + df_tariffs.loc[1, 'rub_monthly_fee']\n",
        "        return np.where(result > 0, result, 0)    "
      ],
      "execution_count": null,
      "outputs": []
    },
    {
      "cell_type": "code",
      "metadata": {
        "colab": {
          "base_uri": "https://localhost:8080/",
          "height": 719
        },
        "id": "0d8zdp_vO-56",
        "outputId": "a2f5e0fb-03ed-4d66-c977-623e03856373"
      },
      "source": [
        "#применим функцию\n",
        "\n",
        "mobile_customers ['minutes_over_plan'] = mobile_customers.apply(calls_over_lim, axis=1)\n",
        "mobile_customers ['sms_over_plan'] = mobile_customers.apply(sms_over_lim, axis=1)\n",
        "mobile_customers['gb_over_plan'] = mobile_customers.apply(web_over_lim, axis=1)\n",
        "mobile_customers['monthly_overcome'] = mobile_customers.apply(month_overcome, axis=1)\n",
        "mobile_customers ['monthly_revenue'] = mobile_customers.apply(revenue, axis=1)\n",
        "\n",
        "\n",
        "mobile_customers.info()\n",
        "mobile_customers.head(10)\n",
        "\n",
        "\n"
      ],
      "execution_count": null,
      "outputs": [
        {
          "output_type": "stream",
          "text": [
            "<class 'pandas.core.frame.DataFrame'>\n",
            "RangeIndex: 3214 entries, 0 to 3213\n",
            "Data columns (total 13 columns):\n",
            " #   Column             Non-Null Count  Dtype  \n",
            "---  ------             --------------  -----  \n",
            " 0   user_id            3214 non-null   int64  \n",
            " 1   month_name         3214 non-null   object \n",
            " 2   duration_of_calls  3214 non-null   float64\n",
            " 3   quantity_of_calls  3214 non-null   float64\n",
            " 4   quantity_of_sms    3214 non-null   float64\n",
            " 5   gb_used_total      3214 non-null   float64\n",
            " 6   tariff             3214 non-null   object \n",
            " 7   city               3214 non-null   object \n",
            " 8   minutes_over_plan  3214 non-null   object \n",
            " 9   sms_over_plan      3214 non-null   object \n",
            " 10  gb_over_plan       3214 non-null   object \n",
            " 11  monthly_overcome   3214 non-null   float64\n",
            " 12  monthly_revenue    3214 non-null   object \n",
            "dtypes: float64(5), int64(1), object(7)\n",
            "memory usage: 326.5+ KB\n"
          ],
          "name": "stdout"
        },
        {
          "output_type": "execute_result",
          "data": {
            "text/html": [
              "<div>\n",
              "<style scoped>\n",
              "    .dataframe tbody tr th:only-of-type {\n",
              "        vertical-align: middle;\n",
              "    }\n",
              "\n",
              "    .dataframe tbody tr th {\n",
              "        vertical-align: top;\n",
              "    }\n",
              "\n",
              "    .dataframe thead th {\n",
              "        text-align: right;\n",
              "    }\n",
              "</style>\n",
              "<table border=\"1\" class=\"dataframe\">\n",
              "  <thead>\n",
              "    <tr style=\"text-align: right;\">\n",
              "      <th></th>\n",
              "      <th>user_id</th>\n",
              "      <th>month_name</th>\n",
              "      <th>duration_of_calls</th>\n",
              "      <th>quantity_of_calls</th>\n",
              "      <th>quantity_of_sms</th>\n",
              "      <th>gb_used_total</th>\n",
              "      <th>tariff</th>\n",
              "      <th>city</th>\n",
              "      <th>minutes_over_plan</th>\n",
              "      <th>sms_over_plan</th>\n",
              "      <th>gb_over_plan</th>\n",
              "      <th>monthly_overcome</th>\n",
              "      <th>monthly_revenue</th>\n",
              "    </tr>\n",
              "  </thead>\n",
              "  <tbody>\n",
              "    <tr>\n",
              "      <th>0</th>\n",
              "      <td>1000</td>\n",
              "      <td>Август</td>\n",
              "      <td>408.0</td>\n",
              "      <td>42.0</td>\n",
              "      <td>81.0</td>\n",
              "      <td>13.740234</td>\n",
              "      <td>ultra</td>\n",
              "      <td>Краснодар</td>\n",
              "      <td>0.0</td>\n",
              "      <td>0.0</td>\n",
              "      <td>0.0</td>\n",
              "      <td>0.0</td>\n",
              "      <td>1950.0</td>\n",
              "    </tr>\n",
              "    <tr>\n",
              "      <th>1</th>\n",
              "      <td>1000</td>\n",
              "      <td>Декабрь</td>\n",
              "      <td>333.0</td>\n",
              "      <td>38.0</td>\n",
              "      <td>70.0</td>\n",
              "      <td>9.596680</td>\n",
              "      <td>ultra</td>\n",
              "      <td>Краснодар</td>\n",
              "      <td>0.0</td>\n",
              "      <td>0.0</td>\n",
              "      <td>0.0</td>\n",
              "      <td>0.0</td>\n",
              "      <td>1950.0</td>\n",
              "    </tr>\n",
              "    <tr>\n",
              "      <th>2</th>\n",
              "      <td>1000</td>\n",
              "      <td>Июль</td>\n",
              "      <td>340.0</td>\n",
              "      <td>41.0</td>\n",
              "      <td>75.0</td>\n",
              "      <td>13.687500</td>\n",
              "      <td>ultra</td>\n",
              "      <td>Краснодар</td>\n",
              "      <td>0.0</td>\n",
              "      <td>0.0</td>\n",
              "      <td>0.0</td>\n",
              "      <td>0.0</td>\n",
              "      <td>1950.0</td>\n",
              "    </tr>\n",
              "    <tr>\n",
              "      <th>3</th>\n",
              "      <td>1000</td>\n",
              "      <td>Июнь</td>\n",
              "      <td>172.0</td>\n",
              "      <td>28.0</td>\n",
              "      <td>60.0</td>\n",
              "      <td>22.711914</td>\n",
              "      <td>ultra</td>\n",
              "      <td>Краснодар</td>\n",
              "      <td>0.0</td>\n",
              "      <td>0.0</td>\n",
              "      <td>0.0</td>\n",
              "      <td>0.0</td>\n",
              "      <td>1950.0</td>\n",
              "    </tr>\n",
              "    <tr>\n",
              "      <th>4</th>\n",
              "      <td>1000</td>\n",
              "      <td>Май</td>\n",
              "      <td>159.0</td>\n",
              "      <td>17.0</td>\n",
              "      <td>22.0</td>\n",
              "      <td>2.203125</td>\n",
              "      <td>ultra</td>\n",
              "      <td>Краснодар</td>\n",
              "      <td>0.0</td>\n",
              "      <td>0.0</td>\n",
              "      <td>0.0</td>\n",
              "      <td>0.0</td>\n",
              "      <td>1950.0</td>\n",
              "    </tr>\n",
              "    <tr>\n",
              "      <th>5</th>\n",
              "      <td>1000</td>\n",
              "      <td>Ноябрь</td>\n",
              "      <td>338.0</td>\n",
              "      <td>37.0</td>\n",
              "      <td>58.0</td>\n",
              "      <td>14.421875</td>\n",
              "      <td>ultra</td>\n",
              "      <td>Краснодар</td>\n",
              "      <td>0.0</td>\n",
              "      <td>0.0</td>\n",
              "      <td>0.0</td>\n",
              "      <td>0.0</td>\n",
              "      <td>1950.0</td>\n",
              "    </tr>\n",
              "    <tr>\n",
              "      <th>6</th>\n",
              "      <td>1000</td>\n",
              "      <td>Октябрь</td>\n",
              "      <td>350.0</td>\n",
              "      <td>44.0</td>\n",
              "      <td>73.0</td>\n",
              "      <td>14.372070</td>\n",
              "      <td>ultra</td>\n",
              "      <td>Краснодар</td>\n",
              "      <td>0.0</td>\n",
              "      <td>0.0</td>\n",
              "      <td>0.0</td>\n",
              "      <td>0.0</td>\n",
              "      <td>1950.0</td>\n",
              "    </tr>\n",
              "    <tr>\n",
              "      <th>7</th>\n",
              "      <td>1000</td>\n",
              "      <td>Сентябрь</td>\n",
              "      <td>466.0</td>\n",
              "      <td>46.0</td>\n",
              "      <td>57.0</td>\n",
              "      <td>14.239258</td>\n",
              "      <td>ultra</td>\n",
              "      <td>Краснодар</td>\n",
              "      <td>0.0</td>\n",
              "      <td>0.0</td>\n",
              "      <td>0.0</td>\n",
              "      <td>0.0</td>\n",
              "      <td>1950.0</td>\n",
              "    </tr>\n",
              "    <tr>\n",
              "      <th>8</th>\n",
              "      <td>1001</td>\n",
              "      <td>Ноябрь</td>\n",
              "      <td>430.0</td>\n",
              "      <td>45.0</td>\n",
              "      <td>0.0</td>\n",
              "      <td>18.019531</td>\n",
              "      <td>smart</td>\n",
              "      <td>Москва</td>\n",
              "      <td>0.0</td>\n",
              "      <td>0.0</td>\n",
              "      <td>3.01953125</td>\n",
              "      <td>800.0</td>\n",
              "      <td>1350.0</td>\n",
              "    </tr>\n",
              "    <tr>\n",
              "      <th>9</th>\n",
              "      <td>1001</td>\n",
              "      <td>Декабрь</td>\n",
              "      <td>414.0</td>\n",
              "      <td>47.0</td>\n",
              "      <td>0.0</td>\n",
              "      <td>13.723633</td>\n",
              "      <td>smart</td>\n",
              "      <td>Москва</td>\n",
              "      <td>0.0</td>\n",
              "      <td>0.0</td>\n",
              "      <td>0.0</td>\n",
              "      <td>0.0</td>\n",
              "      <td>550.0</td>\n",
              "    </tr>\n",
              "  </tbody>\n",
              "</table>\n",
              "</div>"
            ],
            "text/plain": [
              "   user_id month_name  ...  monthly_overcome  monthly_revenue\n",
              "0     1000     Август  ...               0.0           1950.0\n",
              "1     1000    Декабрь  ...               0.0           1950.0\n",
              "2     1000       Июль  ...               0.0           1950.0\n",
              "3     1000       Июнь  ...               0.0           1950.0\n",
              "4     1000        Май  ...               0.0           1950.0\n",
              "5     1000     Ноябрь  ...               0.0           1950.0\n",
              "6     1000    Октябрь  ...               0.0           1950.0\n",
              "7     1000   Сентябрь  ...               0.0           1950.0\n",
              "8     1001     Ноябрь  ...             800.0           1350.0\n",
              "9     1001    Декабрь  ...               0.0            550.0\n",
              "\n",
              "[10 rows x 13 columns]"
            ]
          },
          "metadata": {
            "tags": []
          },
          "execution_count": 48
        }
      ]
    },
    {
      "cell_type": "markdown",
      "metadata": {
        "id": "YUzfZpJZO-57"
      },
      "source": [
        "В итоговой таблице, которую возьмем в анализ приведем часть столбцов к целочисленным значениям:"
      ]
    },
    {
      "cell_type": "code",
      "metadata": {
        "colab": {
          "base_uri": "https://localhost:8080/",
          "height": 719
        },
        "id": "TDq9mLUeO-57",
        "outputId": "1c10b34f-8e39-4352-a723-d952aa7bf355"
      },
      "source": [
        "columns_to_int = [\n",
        "    'duration_of_calls', 'quantity_of_calls', \n",
        "    'quantity_of_sms', 'minutes_over_plan', \n",
        "    'sms_over_plan', 'gb_over_plan', 'monthly_revenue'\n",
        "    ]\n",
        "\n",
        "for column in columns_to_int:\n",
        "     mobile_customers[column] = mobile_customers[mobile_customers[column].notna()][column].astype('int64')\n",
        "\n",
        "mobile_customers.info()\n",
        "mobile_customers.head(10)"
      ],
      "execution_count": null,
      "outputs": [
        {
          "output_type": "stream",
          "text": [
            "<class 'pandas.core.frame.DataFrame'>\n",
            "RangeIndex: 3214 entries, 0 to 3213\n",
            "Data columns (total 13 columns):\n",
            " #   Column             Non-Null Count  Dtype  \n",
            "---  ------             --------------  -----  \n",
            " 0   user_id            3214 non-null   int64  \n",
            " 1   month_name         3214 non-null   object \n",
            " 2   duration_of_calls  3214 non-null   int64  \n",
            " 3   quantity_of_calls  3214 non-null   int64  \n",
            " 4   quantity_of_sms    3214 non-null   int64  \n",
            " 5   gb_used_total      3214 non-null   float64\n",
            " 6   tariff             3214 non-null   object \n",
            " 7   city               3214 non-null   object \n",
            " 8   minutes_over_plan  3214 non-null   int64  \n",
            " 9   sms_over_plan      3214 non-null   int64  \n",
            " 10  gb_over_plan       3214 non-null   int64  \n",
            " 11  monthly_overcome   3214 non-null   float64\n",
            " 12  monthly_revenue    3214 non-null   int64  \n",
            "dtypes: float64(2), int64(8), object(3)\n",
            "memory usage: 326.5+ KB\n"
          ],
          "name": "stdout"
        },
        {
          "output_type": "execute_result",
          "data": {
            "text/html": [
              "<div>\n",
              "<style scoped>\n",
              "    .dataframe tbody tr th:only-of-type {\n",
              "        vertical-align: middle;\n",
              "    }\n",
              "\n",
              "    .dataframe tbody tr th {\n",
              "        vertical-align: top;\n",
              "    }\n",
              "\n",
              "    .dataframe thead th {\n",
              "        text-align: right;\n",
              "    }\n",
              "</style>\n",
              "<table border=\"1\" class=\"dataframe\">\n",
              "  <thead>\n",
              "    <tr style=\"text-align: right;\">\n",
              "      <th></th>\n",
              "      <th>user_id</th>\n",
              "      <th>month_name</th>\n",
              "      <th>duration_of_calls</th>\n",
              "      <th>quantity_of_calls</th>\n",
              "      <th>quantity_of_sms</th>\n",
              "      <th>gb_used_total</th>\n",
              "      <th>tariff</th>\n",
              "      <th>city</th>\n",
              "      <th>minutes_over_plan</th>\n",
              "      <th>sms_over_plan</th>\n",
              "      <th>gb_over_plan</th>\n",
              "      <th>monthly_overcome</th>\n",
              "      <th>monthly_revenue</th>\n",
              "    </tr>\n",
              "  </thead>\n",
              "  <tbody>\n",
              "    <tr>\n",
              "      <th>0</th>\n",
              "      <td>1000</td>\n",
              "      <td>Август</td>\n",
              "      <td>408</td>\n",
              "      <td>42</td>\n",
              "      <td>81</td>\n",
              "      <td>13.740234</td>\n",
              "      <td>ultra</td>\n",
              "      <td>Краснодар</td>\n",
              "      <td>0</td>\n",
              "      <td>0</td>\n",
              "      <td>0</td>\n",
              "      <td>0.0</td>\n",
              "      <td>1950</td>\n",
              "    </tr>\n",
              "    <tr>\n",
              "      <th>1</th>\n",
              "      <td>1000</td>\n",
              "      <td>Декабрь</td>\n",
              "      <td>333</td>\n",
              "      <td>38</td>\n",
              "      <td>70</td>\n",
              "      <td>9.596680</td>\n",
              "      <td>ultra</td>\n",
              "      <td>Краснодар</td>\n",
              "      <td>0</td>\n",
              "      <td>0</td>\n",
              "      <td>0</td>\n",
              "      <td>0.0</td>\n",
              "      <td>1950</td>\n",
              "    </tr>\n",
              "    <tr>\n",
              "      <th>2</th>\n",
              "      <td>1000</td>\n",
              "      <td>Июль</td>\n",
              "      <td>340</td>\n",
              "      <td>41</td>\n",
              "      <td>75</td>\n",
              "      <td>13.687500</td>\n",
              "      <td>ultra</td>\n",
              "      <td>Краснодар</td>\n",
              "      <td>0</td>\n",
              "      <td>0</td>\n",
              "      <td>0</td>\n",
              "      <td>0.0</td>\n",
              "      <td>1950</td>\n",
              "    </tr>\n",
              "    <tr>\n",
              "      <th>3</th>\n",
              "      <td>1000</td>\n",
              "      <td>Июнь</td>\n",
              "      <td>172</td>\n",
              "      <td>28</td>\n",
              "      <td>60</td>\n",
              "      <td>22.711914</td>\n",
              "      <td>ultra</td>\n",
              "      <td>Краснодар</td>\n",
              "      <td>0</td>\n",
              "      <td>0</td>\n",
              "      <td>0</td>\n",
              "      <td>0.0</td>\n",
              "      <td>1950</td>\n",
              "    </tr>\n",
              "    <tr>\n",
              "      <th>4</th>\n",
              "      <td>1000</td>\n",
              "      <td>Май</td>\n",
              "      <td>159</td>\n",
              "      <td>17</td>\n",
              "      <td>22</td>\n",
              "      <td>2.203125</td>\n",
              "      <td>ultra</td>\n",
              "      <td>Краснодар</td>\n",
              "      <td>0</td>\n",
              "      <td>0</td>\n",
              "      <td>0</td>\n",
              "      <td>0.0</td>\n",
              "      <td>1950</td>\n",
              "    </tr>\n",
              "    <tr>\n",
              "      <th>5</th>\n",
              "      <td>1000</td>\n",
              "      <td>Ноябрь</td>\n",
              "      <td>338</td>\n",
              "      <td>37</td>\n",
              "      <td>58</td>\n",
              "      <td>14.421875</td>\n",
              "      <td>ultra</td>\n",
              "      <td>Краснодар</td>\n",
              "      <td>0</td>\n",
              "      <td>0</td>\n",
              "      <td>0</td>\n",
              "      <td>0.0</td>\n",
              "      <td>1950</td>\n",
              "    </tr>\n",
              "    <tr>\n",
              "      <th>6</th>\n",
              "      <td>1000</td>\n",
              "      <td>Октябрь</td>\n",
              "      <td>350</td>\n",
              "      <td>44</td>\n",
              "      <td>73</td>\n",
              "      <td>14.372070</td>\n",
              "      <td>ultra</td>\n",
              "      <td>Краснодар</td>\n",
              "      <td>0</td>\n",
              "      <td>0</td>\n",
              "      <td>0</td>\n",
              "      <td>0.0</td>\n",
              "      <td>1950</td>\n",
              "    </tr>\n",
              "    <tr>\n",
              "      <th>7</th>\n",
              "      <td>1000</td>\n",
              "      <td>Сентябрь</td>\n",
              "      <td>466</td>\n",
              "      <td>46</td>\n",
              "      <td>57</td>\n",
              "      <td>14.239258</td>\n",
              "      <td>ultra</td>\n",
              "      <td>Краснодар</td>\n",
              "      <td>0</td>\n",
              "      <td>0</td>\n",
              "      <td>0</td>\n",
              "      <td>0.0</td>\n",
              "      <td>1950</td>\n",
              "    </tr>\n",
              "    <tr>\n",
              "      <th>8</th>\n",
              "      <td>1001</td>\n",
              "      <td>Ноябрь</td>\n",
              "      <td>430</td>\n",
              "      <td>45</td>\n",
              "      <td>0</td>\n",
              "      <td>18.019531</td>\n",
              "      <td>smart</td>\n",
              "      <td>Москва</td>\n",
              "      <td>0</td>\n",
              "      <td>0</td>\n",
              "      <td>3</td>\n",
              "      <td>800.0</td>\n",
              "      <td>1350</td>\n",
              "    </tr>\n",
              "    <tr>\n",
              "      <th>9</th>\n",
              "      <td>1001</td>\n",
              "      <td>Декабрь</td>\n",
              "      <td>414</td>\n",
              "      <td>47</td>\n",
              "      <td>0</td>\n",
              "      <td>13.723633</td>\n",
              "      <td>smart</td>\n",
              "      <td>Москва</td>\n",
              "      <td>0</td>\n",
              "      <td>0</td>\n",
              "      <td>0</td>\n",
              "      <td>0.0</td>\n",
              "      <td>550</td>\n",
              "    </tr>\n",
              "  </tbody>\n",
              "</table>\n",
              "</div>"
            ],
            "text/plain": [
              "   user_id month_name  ...  monthly_overcome  monthly_revenue\n",
              "0     1000     Август  ...               0.0             1950\n",
              "1     1000    Декабрь  ...               0.0             1950\n",
              "2     1000       Июль  ...               0.0             1950\n",
              "3     1000       Июнь  ...               0.0             1950\n",
              "4     1000        Май  ...               0.0             1950\n",
              "5     1000     Ноябрь  ...               0.0             1950\n",
              "6     1000    Октябрь  ...               0.0             1950\n",
              "7     1000   Сентябрь  ...               0.0             1950\n",
              "8     1001     Ноябрь  ...             800.0             1350\n",
              "9     1001    Декабрь  ...               0.0              550\n",
              "\n",
              "[10 rows x 13 columns]"
            ]
          },
          "metadata": {
            "tags": []
          },
          "execution_count": 49
        }
      ]
    },
    {
      "cell_type": "markdown",
      "metadata": {
        "id": "AAQDhyypO-57"
      },
      "source": [
        "### Вывод"
      ]
    },
    {
      "cell_type": "markdown",
      "metadata": {
        "id": "QhenZbyLO-57"
      },
      "source": [
        "Получили общий дата сет `mobile_customers` на котором можем приступать к анализу. Добавили дополнительные стобцы с перерасходом и месяцем, общей выручкой. Можем приступать непосредственно к анализу и ответить на поставленные вопросы. \n"
      ]
    },
    {
      "cell_type": "markdown",
      "metadata": {
        "id": "_ywJodZAO-57"
      },
      "source": [
        "## Анализ данных\n",
        "\n"
      ]
    },
    {
      "cell_type": "markdown",
      "metadata": {
        "id": "lKg86i7gO-57"
      },
      "source": [
        "### Общий анализ значений выборки"
      ]
    },
    {
      "cell_type": "markdown",
      "metadata": {
        "id": "_7vHNcBLO-57"
      },
      "source": [
        "Для начала посмотрим размах и смещение наших данных в предоставленной нам выборке из генеральной совокупности. Для этого построим диаграммы размаха."
      ]
    },
    {
      "cell_type": "code",
      "metadata": {
        "colab": {
          "base_uri": "https://localhost:8080/",
          "height": 1000
        },
        "id": "ClETQ7s3O-57",
        "outputId": "f6431829-d86f-4364-dab5-14502614f791"
      },
      "source": [
        "\n",
        "# создадим списки параметров\n",
        "columns_list = ['duration_of_calls', 'quantity_of_sms', 'gb_used_total']\n",
        "title_list = ['Диаграмма размаха продолжительности звонков выборки', 'Количества sms-сообщений выборки', \n",
        "              'Диаграмма размаха использованных Гигабайт выборки']\n",
        "\n",
        "color_list=['steelblue', 'skyblue', 'cyan']\n",
        "\n",
        "#цикл построения наших графиков с интересующими нас параметрами. \n",
        "#xlim зададим через квантиль, чтобы не подбирать значения вручную\n",
        "\n",
        "for i in range(len(columns_list)):\n",
        "    q75 = mobile_customers[columns_list[i]].quantile([.75])\n",
        "    q25 = mobile_customers[columns_list[i]].quantile([.25])\n",
        "    iqr = q75 - q25\n",
        "    low_range = q25 - (1.5 * iqr)\n",
        "    high_range = q75 + (1.5 * iqr)\n",
        "    plt.figure(figsize=(15, 5))\n",
        "    sns.boxplot(mobile_customers[columns_list[i]], color=color_list[i])\n",
        "    plt.xlim = (low_range, high_range)\n",
        "    plt.title(title_list[i])\n",
        "    plt.xlabel('')\n",
        "    plt.show()\n"
      ],
      "execution_count": null,
      "outputs": [
        {
          "output_type": "stream",
          "text": [
            "/usr/local/lib/python3.7/dist-packages/seaborn/_decorators.py:43: FutureWarning:\n",
            "\n",
            "Pass the following variable as a keyword arg: x. From version 0.12, the only valid positional argument will be `data`, and passing other arguments without an explicit keyword will result in an error or misinterpretation.\n",
            "\n"
          ],
          "name": "stderr"
        },
        {
          "output_type": "display_data",
          "data": {
            "image/png": "[encoded data removed]",
            "text/plain": [
              "<Figure size 1080x360 with 1 Axes>"
            ]
          },
          "metadata": {
            "tags": [],
            "needs_background": "light"
          }
        },
        {
          "output_type": "stream",
          "text": [
            "/usr/local/lib/python3.7/dist-packages/seaborn/_decorators.py:43: FutureWarning:\n",
            "\n",
            "Pass the following variable as a keyword arg: x. From version 0.12, the only valid positional argument will be `data`, and passing other arguments without an explicit keyword will result in an error or misinterpretation.\n",
            "\n"
          ],
          "name": "stderr"
        },
        {
          "output_type": "display_data",
          "data": {
            "image/png": "[encoded data removed]",
            "text/plain": [
              "<Figure size 1080x360 with 1 Axes>"
            ]
          },
          "metadata": {
            "tags": [],
            "needs_background": "light"
          }
        },
        {
          "output_type": "stream",
          "text": [
            "/usr/local/lib/python3.7/dist-packages/seaborn/_decorators.py:43: FutureWarning:\n",
            "\n",
            "Pass the following variable as a keyword arg: x. From version 0.12, the only valid positional argument will be `data`, and passing other arguments without an explicit keyword will result in an error or misinterpretation.\n",
            "\n"
          ],
          "name": "stderr"
        },
        {
          "output_type": "display_data",
          "data": {
            "image/png": "[encoded data removed]",
            "text/plain": [
              "<Figure size 1080x360 with 1 Axes>"
            ]
          },
          "metadata": {
            "tags": [],
            "needs_background": "light"
          }
        }
      ]
    },
    {
      "cell_type": "markdown",
      "metadata": {
        "id": "lw97_y-OO-58"
      },
      "source": [
        "Датасет скошен вправо (то есть в сторону положительного направления оси), расстояние между первым квартилем и медианой меньше, чем расстояние между медианой и третьим квартилем. Это ярко выражено на диаграмме размаха для sms-сообщений, у интернет-траффика почти не заметно. Данные стремятся к нормальному распределению. Наличие выбросов говорит о том, что медиана будет давать наиболее точное представление о структуре данных, нежеле среднее, которое будет смещено вправо. При этом значения не сильно различаются, выборка небольшая, критических аномалий не наблюдается. Применять будем среднее для анализа.\n",
        "  \n",
        "Посмотрим как распределены пользователи в выборке по тарифам:"
      ]
    },
    {
      "cell_type": "code",
      "metadata": {
        "colab": {
          "base_uri": "https://localhost:8080/",
          "height": 591
        },
        "id": "X-BFYMfKO-58",
        "outputId": "d05ad638-c033-4ddc-a37a-0896768ab245"
      },
      "source": [
        "#получим сводную таблицу по тарифам. Значения зададим по пользователям и пересчитаем их\n",
        "\n",
        "smart_ultra_cust = mobile_customers.pivot_table(index='tariff', \n",
        "                                     values='user_id', \n",
        "                                     aggfunc='count'\n",
        "                                    )\n",
        "\n",
        "\n",
        "smart_ultra_cust.head()\n",
        "values = smart_ultra_cust['user_id']\n",
        "\n",
        "#сделаем подписи\n",
        "\n",
        "def make_autopct(values):\n",
        "    def my_autopct(pct):\n",
        "        total = sum(values)\n",
        "        val = int(round(pct * total / 100.0))\n",
        "        return '{p:.2f}%'.format(p=pct)\n",
        "    return my_autopct\n",
        "\n",
        "# построим pie диаграмму\n",
        "\n",
        "smart_ultra_cust.plot(y='user_id', kind='pie', figsize=(15,10), radius=1, \n",
        "                      fontsize=15, autopct=make_autopct(values))\n",
        "\n",
        "# добавим круг, для превращения диаграммы в donut\n",
        "\n",
        "donut=plt.Circle( (0,0), 0.35, color='white', ec='black')\n",
        "p=plt.gcf()\n",
        "p.gca().add_artist(donut)\n",
        "plt.title('Распределение пользователей по тарифам')\n",
        "\n",
        "plt.show()\n",
        "\n"
      ],
      "execution_count": null,
      "outputs": [
        {
          "output_type": "display_data",
          "data": {
            "image/png": "[encoded data removed]",
            "text/plain": [
              "<Figure size 1080x720 with 1 Axes>"
            ]
          },
          "metadata": {
            "tags": []
          }
        }
      ]
    },
    {
      "cell_type": "markdown",
      "metadata": {
        "id": "oPsNRwdwO-58"
      },
      "source": [
        "Мы видим, что доля абонентов тарифа Smart выше, что обуславливается более низкой стоимостью абонентской платы, при условии корректности предоставленной нам выборки. Изучим показатели по тарифам:"
      ]
    },
    {
      "cell_type": "code",
      "metadata": {
        "colab": {
          "base_uri": "https://localhost:8080/",
          "height": 142
        },
        "id": "DCiRW9fgO-58",
        "outputId": "b684021a-478d-4ee7-a95c-08728c2e25d5"
      },
      "source": [
        "mobile_customers_rev = mobile_customers.pivot_table(index='tariff', values='monthly_revenue', aggfunc='mean')\n",
        "mobile_customers_rev"
      ],
      "execution_count": null,
      "outputs": [
        {
          "output_type": "execute_result",
          "data": {
            "text/html": [
              "<div>\n",
              "<style scoped>\n",
              "    .dataframe tbody tr th:only-of-type {\n",
              "        vertical-align: middle;\n",
              "    }\n",
              "\n",
              "    .dataframe tbody tr th {\n",
              "        vertical-align: top;\n",
              "    }\n",
              "\n",
              "    .dataframe thead th {\n",
              "        text-align: right;\n",
              "    }\n",
              "</style>\n",
              "<table border=\"1\" class=\"dataframe\">\n",
              "  <thead>\n",
              "    <tr style=\"text-align: right;\">\n",
              "      <th></th>\n",
              "      <th>monthly_revenue</th>\n",
              "    </tr>\n",
              "    <tr>\n",
              "      <th>tariff</th>\n",
              "      <th></th>\n",
              "    </tr>\n",
              "  </thead>\n",
              "  <tbody>\n",
              "    <tr>\n",
              "      <th>smart</th>\n",
              "      <td>1294.63930</td>\n",
              "    </tr>\n",
              "    <tr>\n",
              "      <th>ultra</th>\n",
              "      <td>2071.06599</td>\n",
              "    </tr>\n",
              "  </tbody>\n",
              "</table>\n",
              "</div>"
            ],
            "text/plain": [
              "        monthly_revenue\n",
              "tariff                 \n",
              "smart        1294.63930\n",
              "ultra        2071.06599"
            ]
          },
          "metadata": {
            "tags": []
          },
          "execution_count": 52
        }
      ]
    },
    {
      "cell_type": "markdown",
      "metadata": {
        "id": "pgNN5ApeO-58"
      },
      "source": [
        "В среднем, абонент тарифа Smart тратит 1294 рублей, а при условии, что абонентская плата у тарифа 550 рублей - можно сделать вывод, что пользователи тарифа Smart чаще покупают дополнительные услуги, ведь у тарифа Ultra абонентская плата 1950 рубелй, а среднее по выборке составляет 2071 рублей. Посмотрим средний размер покупки доп услуг в месяц:"
      ]
    },
    {
      "cell_type": "code",
      "metadata": {
        "colab": {
          "base_uri": "https://localhost:8080/",
          "height": 142
        },
        "id": "co6j59AFO-59",
        "outputId": "045edf21-9a06-453b-aae3-1efd9c71bdc7"
      },
      "source": [
        "mobile_customers_totalover = mobile_customers.pivot_table(index='tariff', values='monthly_overcome', aggfunc='mean')\n",
        "mobile_customers_totalover"
      ],
      "execution_count": null,
      "outputs": [
        {
          "output_type": "execute_result",
          "data": {
            "text/html": [
              "<div>\n",
              "<style scoped>\n",
              "    .dataframe tbody tr th:only-of-type {\n",
              "        vertical-align: middle;\n",
              "    }\n",
              "\n",
              "    .dataframe tbody tr th {\n",
              "        vertical-align: top;\n",
              "    }\n",
              "\n",
              "    .dataframe thead th {\n",
              "        text-align: right;\n",
              "    }\n",
              "</style>\n",
              "<table border=\"1\" class=\"dataframe\">\n",
              "  <thead>\n",
              "    <tr style=\"text-align: right;\">\n",
              "      <th></th>\n",
              "      <th>monthly_overcome</th>\n",
              "    </tr>\n",
              "    <tr>\n",
              "      <th>tariff</th>\n",
              "      <th></th>\n",
              "    </tr>\n",
              "  </thead>\n",
              "  <tbody>\n",
              "    <tr>\n",
              "      <th>smart</th>\n",
              "      <td>744.63930</td>\n",
              "    </tr>\n",
              "    <tr>\n",
              "      <th>ultra</th>\n",
              "      <td>121.06599</td>\n",
              "    </tr>\n",
              "  </tbody>\n",
              "</table>\n",
              "</div>"
            ],
            "text/plain": [
              "        monthly_overcome\n",
              "tariff                  \n",
              "smart          744.63930\n",
              "ultra          121.06599"
            ]
          },
          "metadata": {
            "tags": []
          },
          "execution_count": 53
        }
      ]
    },
    {
      "cell_type": "markdown",
      "metadata": {
        "id": "mFQSjauoO-59"
      },
      "source": [
        "<div style=\"border:solid purple 5px; padding: 20px\">\n",
        "<h2 align=\"center\"> Рубрика «Питонячий лайфхакер» <a class=\"tocSkip\"> </h2>\n",
        "    \n",
        "<h3> Красивый print() <a class=\"tocSkip\"> </h3>\n",
        "\n",
        "Мы очень часто отлаживаем код и пользуемся функцией `print`. Вывод в одну строку не всегда удобен. К примеру, когда мы делаем запрос серверу и получаем огромный json. Встроенный модуль pprint поможет нам навести красоту. С каждым новым вложением он делает дополнительный отступ и вывод всегда радует глаз. Вот [документация](https://docs.python.org/3/library/pprint.html) на сам модуль. Кстати, мы можем переопределить стандартную функцию print написав `print = pprint.pprint`\n",
        "\n",
        "Ниже приведен пример кода. Вы можете самостоятельно поэкспериментировать с модулем.\n",
        "\n",
        "![](https://i.ibb.co/353GvhX/image.png)"
      ]
    },
    {
      "cell_type": "markdown",
      "metadata": {
        "id": "9SDHI-P4O-59"
      },
      "source": [
        "Наши предположения подтвердились - пользователи тарифа Smart докупают больше услуг, нежеле абоненты тарифа Ultra. Посмотрим, что чаще всего докупают по тарифам:"
      ]
    },
    {
      "cell_type": "code",
      "metadata": {
        "colab": {
          "base_uri": "https://localhost:8080/",
          "height": 142
        },
        "id": "V2KcpOaYO-59",
        "outputId": "17a1cb68-e2b9-4172-b56d-b572f1ab9d71"
      },
      "source": [
        "# количество минут сверх плана\n",
        "\n",
        "mobile_customers_callover = mobile_customers.pivot_table(index='tariff', values='minutes_over_plan', aggfunc='mean')\n",
        "mobile_customers_callover"
      ],
      "execution_count": null,
      "outputs": [
        {
          "output_type": "execute_result",
          "data": {
            "text/html": [
              "<div>\n",
              "<style scoped>\n",
              "    .dataframe tbody tr th:only-of-type {\n",
              "        vertical-align: middle;\n",
              "    }\n",
              "\n",
              "    .dataframe tbody tr th {\n",
              "        vertical-align: top;\n",
              "    }\n",
              "\n",
              "    .dataframe thead th {\n",
              "        text-align: right;\n",
              "    }\n",
              "</style>\n",
              "<table border=\"1\" class=\"dataframe\">\n",
              "  <thead>\n",
              "    <tr style=\"text-align: right;\">\n",
              "      <th></th>\n",
              "      <th>minutes_over_plan</th>\n",
              "    </tr>\n",
              "    <tr>\n",
              "      <th>tariff</th>\n",
              "      <th></th>\n",
              "    </tr>\n",
              "  </thead>\n",
              "  <tbody>\n",
              "    <tr>\n",
              "      <th>smart</th>\n",
              "      <td>41.605653</td>\n",
              "    </tr>\n",
              "    <tr>\n",
              "      <th>ultra</th>\n",
              "      <td>0.000000</td>\n",
              "    </tr>\n",
              "  </tbody>\n",
              "</table>\n",
              "</div>"
            ],
            "text/plain": [
              "        minutes_over_plan\n",
              "tariff                   \n",
              "smart           41.605653\n",
              "ultra            0.000000"
            ]
          },
          "metadata": {
            "tags": []
          },
          "execution_count": 54
        }
      ]
    },
    {
      "cell_type": "code",
      "metadata": {
        "colab": {
          "base_uri": "https://localhost:8080/",
          "height": 142
        },
        "id": "RBjeducvO-59",
        "outputId": "2d77fe91-5d94-4064-b439-141641f22377"
      },
      "source": [
        "# количество sms-сообщений сверх плана\n",
        "\n",
        "mobile_customers_smsover = mobile_customers.pivot_table(index='tariff', values='sms_over_plan', aggfunc='mean')\n",
        "mobile_customers_smsover"
      ],
      "execution_count": null,
      "outputs": [
        {
          "output_type": "execute_result",
          "data": {
            "text/html": [
              "<div>\n",
              "<style scoped>\n",
              "    .dataframe tbody tr th:only-of-type {\n",
              "        vertical-align: middle;\n",
              "    }\n",
              "\n",
              "    .dataframe tbody tr th {\n",
              "        vertical-align: top;\n",
              "    }\n",
              "\n",
              "    .dataframe thead th {\n",
              "        text-align: right;\n",
              "    }\n",
              "</style>\n",
              "<table border=\"1\" class=\"dataframe\">\n",
              "  <thead>\n",
              "    <tr style=\"text-align: right;\">\n",
              "      <th></th>\n",
              "      <th>sms_over_plan</th>\n",
              "    </tr>\n",
              "    <tr>\n",
              "      <th>tariff</th>\n",
              "      <th></th>\n",
              "    </tr>\n",
              "  </thead>\n",
              "  <tbody>\n",
              "    <tr>\n",
              "      <th>smart</th>\n",
              "      <td>5.79991</td>\n",
              "    </tr>\n",
              "    <tr>\n",
              "      <th>ultra</th>\n",
              "      <td>0.00000</td>\n",
              "    </tr>\n",
              "  </tbody>\n",
              "</table>\n",
              "</div>"
            ],
            "text/plain": [
              "        sms_over_plan\n",
              "tariff               \n",
              "smart         5.79991\n",
              "ultra         0.00000"
            ]
          },
          "metadata": {
            "tags": []
          },
          "execution_count": 55
        }
      ]
    },
    {
      "cell_type": "code",
      "metadata": {
        "colab": {
          "base_uri": "https://localhost:8080/",
          "height": 142
        },
        "id": "6xSOeqv-O-59",
        "outputId": "a3bc53d1-09e3-402e-d350-e53eb42c3286"
      },
      "source": [
        "# количество Гигабайт сверх плана\n",
        "\n",
        "mobile_customers_gbover = mobile_customers.pivot_table(index='tariff', values='gb_over_plan', aggfunc='mean')\n",
        "mobile_customers_gbover"
      ],
      "execution_count": null,
      "outputs": [
        {
          "output_type": "execute_result",
          "data": {
            "text/html": [
              "<div>\n",
              "<style scoped>\n",
              "    .dataframe tbody tr th:only-of-type {\n",
              "        vertical-align: middle;\n",
              "    }\n",
              "\n",
              "    .dataframe tbody tr th {\n",
              "        vertical-align: top;\n",
              "    }\n",
              "\n",
              "    .dataframe thead th {\n",
              "        text-align: right;\n",
              "    }\n",
              "</style>\n",
              "<table border=\"1\" class=\"dataframe\">\n",
              "  <thead>\n",
              "    <tr style=\"text-align: right;\">\n",
              "      <th></th>\n",
              "      <th>gb_over_plan</th>\n",
              "    </tr>\n",
              "    <tr>\n",
              "      <th>tariff</th>\n",
              "      <th></th>\n",
              "    </tr>\n",
              "  </thead>\n",
              "  <tbody>\n",
              "    <tr>\n",
              "      <th>smart</th>\n",
              "      <td>2.425303</td>\n",
              "    </tr>\n",
              "    <tr>\n",
              "      <th>ultra</th>\n",
              "      <td>0.671066</td>\n",
              "    </tr>\n",
              "  </tbody>\n",
              "</table>\n",
              "</div>"
            ],
            "text/plain": [
              "        gb_over_plan\n",
              "tariff              \n",
              "smart       2.425303\n",
              "ultra       0.671066"
            ]
          },
          "metadata": {
            "tags": []
          },
          "execution_count": 56
        }
      ]
    },
    {
      "cell_type": "code",
      "metadata": {
        "colab": {
          "base_uri": "https://localhost:8080/",
          "height": 111
        },
        "id": "1n71H3JGO-5-",
        "outputId": "9a48fed0-df72-4d19-e55f-172c20eb2717"
      },
      "source": [
        "# общая таблица количественных характеристик превышения\n",
        "\n",
        "(mobile_customers.groupby('tariff').sum()[['minutes_over_plan', 'sms_over_plan', 'gb_over_plan']]).reset_index()"
      ],
      "execution_count": null,
      "outputs": [
        {
          "output_type": "execute_result",
          "data": {
            "text/html": [
              "<div>\n",
              "<style scoped>\n",
              "    .dataframe tbody tr th:only-of-type {\n",
              "        vertical-align: middle;\n",
              "    }\n",
              "\n",
              "    .dataframe tbody tr th {\n",
              "        vertical-align: top;\n",
              "    }\n",
              "\n",
              "    .dataframe thead th {\n",
              "        text-align: right;\n",
              "    }\n",
              "</style>\n",
              "<table border=\"1\" class=\"dataframe\">\n",
              "  <thead>\n",
              "    <tr style=\"text-align: right;\">\n",
              "      <th></th>\n",
              "      <th>tariff</th>\n",
              "      <th>minutes_over_plan</th>\n",
              "      <th>sms_over_plan</th>\n",
              "      <th>gb_over_plan</th>\n",
              "    </tr>\n",
              "  </thead>\n",
              "  <tbody>\n",
              "    <tr>\n",
              "      <th>0</th>\n",
              "      <td>smart</td>\n",
              "      <td>92739</td>\n",
              "      <td>12928</td>\n",
              "      <td>5406</td>\n",
              "    </tr>\n",
              "    <tr>\n",
              "      <th>1</th>\n",
              "      <td>ultra</td>\n",
              "      <td>0</td>\n",
              "      <td>0</td>\n",
              "      <td>661</td>\n",
              "    </tr>\n",
              "  </tbody>\n",
              "</table>\n",
              "</div>"
            ],
            "text/plain": [
              "  tariff  minutes_over_plan  sms_over_plan  gb_over_plan\n",
              "0  smart              92739          12928          5406\n",
              "1  ultra                  0              0           661"
            ]
          },
          "metadata": {
            "tags": []
          },
          "execution_count": 57
        }
      ]
    },
    {
      "cell_type": "markdown",
      "metadata": {
        "id": "Nr4aMUu4O-5-"
      },
      "source": [
        "Мы видим, что пользователям тарифа Smart чаще всего не хватает интернет траффика. Также пользователям тарифа Smart необходимы дополнительные минуты и сообщений. Посмотрим ситуацию с общим доходом за месяц по тарифам:"
      ]
    },
    {
      "cell_type": "code",
      "metadata": {
        "colab": {
          "base_uri": "https://localhost:8080/",
          "height": 591
        },
        "id": "No3sp0VJO-5-",
        "outputId": "4c633144-db40-4e37-9f78-efbb629c128d"
      },
      "source": [
        "total_revenue = mobile_customers['monthly_revenue'].sum()\n",
        "\n",
        "\n",
        "def new_pct(pct):\n",
        "    value = float(pct/100.*total_revenue)\n",
        "    return \"{:.2f}%\\n({:,.0f} руб.)\".format(pct, value)\n",
        "\n",
        "\n",
        "axes = mobile_customers.groupby('tariff')['monthly_revenue'].sum().plot(kind='pie', subplots=True, fontsize=15,\n",
        "                                                                       use_index=False,  \n",
        "                                                                       startangle=42, figsize=(15,10),\n",
        "                                                                       autopct=lambda pct: new_pct(pct), \n",
        "                                                                       colors=['steelblue', 'cyan'], explode = (.09, 0),\n",
        "                                                                       wedgeprops={\"edgecolor\":\"k\",'linewidth': 1.5, \n",
        "                                                                       'linestyle': '-', 'antialiased': True}, shadow=True,\n",
        "                                                                       rotatelabels=True\n",
        "                                                                       )\n",
        "\n",
        "p=plt.gcf()\n",
        "\n",
        "plt.title('Распределение пользователей по тарифам')\n",
        "\n",
        "plt.show()\n"
      ],
      "execution_count": null,
      "outputs": [
        {
          "output_type": "display_data",
          "data": {
            "image/png": "[encoded data removed]",
            "text/plain": [
              "<Figure size 1080x720 with 1 Axes>"
            ]
          },
          "metadata": {
            "tags": []
          }
        }
      ]
    },
    {
      "cell_type": "markdown",
      "metadata": {
        "id": "9FHcRFHVO-5-"
      },
      "source": [
        "Тарифом Smart пользуется больше людей и люди докупают дополнительные услуги связи. Как следствие, несмотря на тот факт, что абонентская плата тарифа Ultra выше почти в 4 раза, чем тарифа Smart - имеет более высокие показатели поступления денежных средств."
      ]
    },
    {
      "cell_type": "markdown",
      "metadata": {
        "id": "IuWaPOOdO-5-"
      },
      "source": [
        "### Анализ времени разговора"
      ]
    },
    {
      "cell_type": "markdown",
      "metadata": {
        "id": "cF8wqhYOO-5-"
      },
      "source": [
        "Посмотрим значения времени разговора по тарифам методом `describe()`, а также найдем дисперсию и стандартное отклонение:"
      ]
    },
    {
      "cell_type": "code",
      "metadata": {
        "colab": {
          "base_uri": "https://localhost:8080/"
        },
        "id": "9ORKI984O-5_",
        "outputId": "22ec52d6-319a-46b2-ec0e-0589dd26383c"
      },
      "source": [
        "smart_mobile = mobile_customers.query('tariff == \"smart\"')['duration_of_calls'].reset_index(drop=True).round(0)\n",
        "\n",
        "smart_var = np.var(smart_mobile, ddof=1)\n",
        "\n",
        "# для удобства решили вынести расчет std отдельно, считаем для выборки, ddof=1\n",
        "\n",
        "smart_dev = np.std (smart_mobile, ddof=1)\n",
        "\n",
        "\n",
        "print('Тариф Smart')\n",
        "print()\n",
        "print('Дисперсия по вызовам тарифа SMART: {:.2f}'.format(smart_var))\n",
        "print('Cтандартное отклонение по выборке вызовов тарифа SMART: {:.2f}'.format(smart_dev))\n",
        "print()\n",
        "print(smart_mobile.describe().T)\n",
        "\n"
      ],
      "execution_count": null,
      "outputs": [
        {
          "output_type": "stream",
          "text": [
            "Тариф Smart\n",
            "\n",
            "Дисперсия по вызовам тарифа SMART: 36219.32\n",
            "Cтандартное отклонение по выборке вызовов тарифа SMART: 190.31\n",
            "\n",
            "count    2229.000000\n",
            "mean      417.934948\n",
            "std       190.313730\n",
            "min         0.000000\n",
            "25%       282.000000\n",
            "50%       422.000000\n",
            "75%       545.000000\n",
            "max      1435.000000\n",
            "Name: duration_of_calls, dtype: float64\n"
          ],
          "name": "stdout"
        }
      ]
    },
    {
      "cell_type": "code",
      "metadata": {
        "colab": {
          "base_uri": "https://localhost:8080/"
        },
        "id": "LnYcpmoKO-5_",
        "outputId": "9e50a0cc-8968-458e-a12d-3b34419bddb7"
      },
      "source": [
        "ultra_mobile = mobile_customers.query('tariff == \"ultra\"')['duration_of_calls'].reset_index(drop=True).round(0)\n",
        "ultra_var = np.var(ultra_mobile, ddof=1)\n",
        "ultra_dev = np.std (ultra_mobile, ddof=1)\n",
        "\n",
        "\n",
        "print('Тариф Ultra')\n",
        "print()\n",
        "print('Дисперсия по вызовам тарифа Ultra: {:.2f}'.format(ultra_var))\n",
        "print('Cтандартное отклонение по выборке вызовов тарифа Ultra: {:.2f}'.format(ultra_dev))\n",
        "print()\n",
        "print(smart_mobile.describe().T)\n"
      ],
      "execution_count": null,
      "outputs": [
        {
          "output_type": "stream",
          "text": [
            "Тариф Ultra\n",
            "\n",
            "Дисперсия по вызовам тарифа Ultra: 100873.63\n",
            "Cтандартное отклонение по выборке вызовов тарифа Ultra: 317.61\n",
            "\n",
            "count    2229.000000\n",
            "mean      417.934948\n",
            "std       190.313730\n",
            "min         0.000000\n",
            "25%       282.000000\n",
            "50%       422.000000\n",
            "75%       545.000000\n",
            "max      1435.000000\n",
            "Name: duration_of_calls, dtype: float64\n"
          ],
          "name": "stdout"
        }
      ]
    },
    {
      "cell_type": "markdown",
      "metadata": {
        "id": "KAscFxBiO-5_"
      },
      "source": [
        "Посмотрим какие значения в среднем по тарифам относительно друг друга по месяцам:"
      ]
    },
    {
      "cell_type": "code",
      "metadata": {
        "id": "Zs9NvfutO-5_"
      },
      "source": [
        "#напишем функцию для построения диаграммы\n",
        "\n",
        "def plotting_mean_1(d_list, query=None):\n",
        "    plt.figure(figsize=(15,5))\n",
        "    ax = plt.gca()\n",
        "    ax1 = plt.gca()\n",
        "    \n",
        "    \n",
        "    list_of_colors = ['steelblue', 'cyan']\n",
        "\n",
        "    names_for_legend = ['Тариф Smart', 'Тариф Ultra']\n",
        "    legend_list = []\n",
        "\n",
        "    for i in range(len(d_list)):\n",
        "        gr_df = d_list[i]\n",
        "        gr_df_p = gr_df.groupby(\n",
        "                    ['tariff','month_name']).agg({'duration_of_calls':'mean'}).reset_index().round(0)\n",
        "\n",
        "        plot = gr_df_p.plot(x='month_name', y='duration_of_calls', kind='bar', edgecolor='black', color=list_of_colors[i],\n",
        "                                 ax=ax, width=0.08, position=i)\n",
        "        legend_list.append(names_for_legend [i])\n",
        "        \n",
        "    plt.xticks([0, 1, 2, 3, 4, 5, 6, 7, 8, 9, 10, 11], \n",
        "                      ['Январь', 'Февраль','Март', 'Апрель', \n",
        "                       'Май', 'Июнь', 'Июль','Август', 'Сентябрь', 'Октябрь', 'Ноябрь', 'Декабрь'],\n",
        "                    rotation=20)\n",
        "    ax.legend(legend_list)\n",
        "    \n",
        "    # задам лимит 500 минут (тарифа Smart)\n",
        "    \n",
        "    ax1.hlines(y=500, linestyle='--', color='black', xmin=-1, xmax=12)\n",
        "    \n",
        "    plt.title('Количество минут на звонки по тарифам')\n",
        "    plt.xlabel('Месяц года')\n",
        "    plt.ylabel('Количество минут')\n",
        "    plt.show()"
      ],
      "execution_count": null,
      "outputs": []
    },
    {
      "cell_type": "code",
      "metadata": {
        "colab": {
          "base_uri": "https://localhost:8080/",
          "height": 366
        },
        "id": "VyUvfDvZO-5_",
        "outputId": "863b98b4-c0d9-44fa-b5ed-4c1428b189e2"
      },
      "source": [
        "quer = [mobile_customers.query('tariff == \"smart\"'), mobile_customers.query('tariff == \"ultra\"')]\n",
        "plotting_mean_1(quer)\n"
      ],
      "execution_count": null,
      "outputs": [
        {
          "output_type": "display_data",
          "data": {
            "image/png": "[encoded data removed]",
            "text/plain": [
              "<Figure size 1080x360 with 1 Axes>"
            ]
          },
          "metadata": {
            "tags": [],
            "needs_background": "light"
          }
        }
      ]
    },
    {
      "cell_type": "markdown",
      "metadata": {
        "id": "PRZDk7TlO-5_"
      },
      "source": [
        "Мы рассмотрели средние значения по тарифам Smart и Ultra. В среднем, видно, что пользователи тарифа Ultra тратят больше минут на разговоры, но не значительно, при условии, что в тариф Ultra включено 3000 минут для разговоров. Возможно, снижение абонентской платы и уменьшение времени разговоров будет целесообразно."
      ]
    },
    {
      "cell_type": "code",
      "metadata": {
        "colab": {
          "base_uri": "https://localhost:8080/",
          "height": 542
        },
        "id": "sdPvksHZO-6A",
        "outputId": "e1e5dc23-c40d-4ed7-f0f7-7da4690ec1a2"
      },
      "source": [
        "import plotly.express as px\n",
        "\n",
        "fig = px.histogram(mobile_customers, \n",
        "                       x = 'duration_of_calls',\n",
        "                       color = 'tariff', \n",
        "                       marginal = 'box',\n",
        "                       opacity = 0.5, \n",
        "                       title = 'Распределение значений столбца duration_of_calls с разделением по тарифам')\n",
        "fig.show()"
      ],
      "execution_count": null,
      "outputs": [
        {
          "output_type": "display_data",
          "data": {
            "text/html": [
              "<html>\n",
              "<head><meta charset=\"utf-8\" /></head>\n",
              "<body>\n",
              "    <div>\n",
              "            <script src=\"https://cdnjs.cloudflare.com/ajax/libs/mathjax/2.7.5/MathJax.js?config=TeX-AMS-MML_SVG\"></script><script type=\"text/javascript\">if (window.MathJax) {MathJax.Hub.Config({SVG: {font: \"STIX-Web\"}});}</script>\n",
              "                <script type=\"text/javascript\">window.PlotlyConfig = {MathJaxConfig: 'local'};</script>\n",
              "        <script src=\"https://cdn.plot.ly/plotly-latest.min.js\"></script>    \n",
              "            <div id=\"e28e1e2e-7d74-44d2-99f3-52276c3bbb23\" class=\"plotly-graph-div\" style=\"height:525px; width:100%;\"></div>\n",
              "            <script type=\"text/javascript\">\n",
              "                \n",
              "                    window.PLOTLYENV=window.PLOTLYENV || {};\n",
              "                    \n",
              "                if (document.getElementById(\"e28e1e2e-7d74-44d2-99f3-52276c3bbb23\")) {\n",
              "                    Plotly.newPlot(\n",
              "                        'e28e1e2e-7d74-44d2-99f3-52276c3bbb23',\n",
              "                        [{\"alignmentgroup\": \"True\", \"bingroup\": \"x\", \"hoverlabel\": {\"namelength\": 0}, \"hovertemplate\": \"tariff=ultra<br>duration_of_calls=%{x}<br>count=%{y}\", \"legendgroup\": \"tariff=ultra\", \"marker\": {\"color\": \"#636efa\", \"opacity\": 0.5}, \"name\": \"tariff=ultra\", \"offsetgroup\": \"tariff=ultra\", \"orientation\": \"v\", \"showlegend\": true, \"type\": \"histogram\", \"x\": [408, 333, 340, 172, 159, 338, 350, 466, 961, 855, 380, 802, 824, 137, 130, 135, 171, 35, 117, 145, 117, 567, 369, 94, 28, 520, 503, 685, 679, 507, 839, 636, 929, 760, 519, 360, 453, 386, 300, 95, 1000, 90, 962, 1197, 948, 989, 993, 1024, 1115, 1146, 79, 949, 1189, 1021, 954, 576, 600, 156, 541, 542, 398, 433, 271, 688, 813, 641, 834, 586, 666, 403, 525, 671, 653, 822, 528, 506, 520, 320, 209, 94, 50, 225, 1, 640, 722, 783, 643, 581, 905, 960, 677, 726, 781, 837, 858, 820, 1233, 371, 716, 985, 820, 815, 896, 231, 581, 864, 852, 960, 1273, 1075, 445, 1109, 1061, 1101, 951, 811, 476, 904, 654, 519, 533, 151, 701, 649, 700, 504, 687, 678, 618, 501, 244, 100, 195, 95, 172, 254, 120, 544, 5, 477, 523, 626, 466, 415, 417, 470, 387, 465, 48, 596, 510, 0, 0, 0, 0, 0, 0, 0, 0, 684, 784, 617, 752, 107, 839, 868, 717, 365, 369, 416, 301, 350, 306, 389, 311, 368, 134, 774, 645, 429, 498, 500, 656, 640, 724, 683, 675, 445, 579, 440, 624, 675, 668, 157, 331, 338, 368, 262, 382, 343, 248, 420, 451, 297, 0, 0, 0, 0, 0, 0, 0, 0, 0, 273, 266, 162, 264, 317, 345, 311, 279, 310, 55, 304, 371, 481, 458, 1106, 1127, 1225, 209, 503, 584, 689, 614, 352, 589, 457, 272, 531, 534, 556, 508, 767, 813, 65, 724, 615, 633, 474, 479, 746, 709, 787, 810, 870, 747, 835, 329, 717, 936, 368, 438, 645, 372, 430, 691, 375, 670, 692, 172, 288, 243, 421, 389, 345, 294, 281, 239, 415, 291, 188, 119, 232, 278, 138, 425, 108, 407, 357, 342, 841, 588, 727, 34, 1158, 1120, 953, 1199, 912, 1232, 1083, 1053, 277, 884, 1334, 1112, 112, 108, 54, 62, 76, 134, 96, 98, 31, 86, 93, 215, 223, 253, 726, 999, 844, 811, 585, 617, 797, 929, 832, 1055, 1213, 1272, 1213, 164, 1410, 1139, 1069, 1210, 560, 756, 708, 454, 567, 581, 579, 50, 627, 850, 1045, 723, 886, 26, 446, 503, 552, 277, 386, 557, 522, 706, 553, 619, 396, 566, 495, 510, 575, 569, 533, 92, 559, 594, 1261, 1322, 1027, 1261, 28, 663, 677, 753, 612, 569, 521, 436, 41, 665, 175, 153, 256, 158, 148, 131, 122, 0, 0, 0, 0, 0, 0, 0, 0, 842, 0, 523, 308, 402, 431, 401, 395, 372, 383, 457, 473, 334, 395, 401, 365, 479, 518, 393, 453, 356, 502, 496, 147, 286, 241, 272, 211, 466, 175, 497, 715, 562, 727, 504, 525, 11, 237, 263, 198, 320, 256, 89, 251, 0, 0, 0, 16, 6, 9, 35, 830, 462, 142, 814, 130, 897, 752, 376, 328, 352, 285, 315, 231, 389, 382, 155, 540, 341, 187, 294, 20, 305, 343, 253, 220, 253, 315, 223, 260, 230, 272, 371, 361, 443, 185, 248, 368, 278, 164, 326, 232, 483, 418, 231, 243, 696, 599, 439, 549, 502, 581, 508, 1188, 1257, 1053, 1186, 234, 240, 282, 226, 206, 299, 212, 208, 325, 267, 58, 308, 204, 261, 295, 237, 234, 353, 309, 376, 60, 267, 731, 658, 103, 701, 725, 623, 580, 101, 563, 443, 610, 540, 508, 435, 563, 524, 450, 523, 451, 469, 570, 106, 529, 483, 501, 528, 483, 589, 567, 786, 672, 730, 598, 248, 524, 538, 662, 575, 653, 305, 548, 380, 495, 606, 0, 0, 0, 514, 652, 723, 634, 760, 865, 665, 516, 485, 631, 604, 536, 409, 275, 553, 537, 542, 497, 430, 459, 697, 759, 627, 50, 810, 602, 563, 671, 782, 756, 83, 756, 1236, 1212, 1321, 439, 1233, 1143, 1199, 297, 344, 488, 848, 901, 851, 762, 825, 767, 823, 909, 732, 723, 745, 868, 869, 982, 1018, 1208, 1129, 515, 526, 661, 882, 35, 396, 478, 456, 303, 412, 706, 827, 805, 780, 881, 816, 796, 743, 866, 1030, 750, 741, 935, 897, 308, 916, 850, 802, 771, 791, 924, 415, 596, 817, 752, 825, 833, 311, 245, 203, 169, 841, 813, 894, 629, 922, 988, 779, 616, 732, 874, 87, 1028, 1010, 925, 1040, 266, 558, 318, 188, 74, 286, 177, 207, 919, 961, 1059, 980, 1020, 885, 858, 852, 902, 1045, 830, 1087, 1161, 1273, 1096, 1259, 1311, 1290, 1097, 1609, 179, 1401, 1297, 1012, 841, 964, 537, 1089, 688, 629, 735, 806, 824, 519, 597, 744, 654, 382, 619, 673, 752, 679, 762, 562, 762, 567, 866, 643, 750, 691, 751, 608, 681, 625, 98, 694, 799, 539, 348, 310, 333, 383, 356, 343, 368, 374, 277, 270, 273, 326, 965, 681, 719, 607, 669, 837, 845, 702, 436, 415, 364, 467, 377, 13, 496, 452, 521, 485, 452, 555, 453, 512, 492, 372, 432, 418, 443, 473, 232, 355, 282, 596, 751, 744, 742, 403, 689, 671, 565, 733, 657, 77, 65, 113, 109, 125, 50, 143, 15, 244, 340, 332, 641, 567, 551, 816, 757, 845, 798, 593, 617, 612, 43, 627, 751, 764, 822, 363, 540, 861, 1084, 808, 53, 95, 12, 1, 16, 29, 43, 274, 416, 91, 235, 322, 234, 284, 310, 330, 393, 314, 448, 533, 420, 370, 479, 439, 406, 185, 200, 270, 52, 169, 157, 209, 114, 83, 109, 237, 142, 60, 236, 194, 150, 305, 861, 813, 881, 796, 848, 767, 929, 875, 973, 765, 953, 808, 420, 311, 569, 592, 477, 134, 595, 444, 626, 442, 771, 855, 761, 847, 816, 781, 695, 833, 629, 856, 317, 821, 246, 248, 715, 453, 659, 542, 610, 492, 402, 473, 647, 482, 16, 512, 1673, 320, 763, 908, 795, 635, 779, 793, 603, 866, 627, 815, 765, 650, 862, 755, 557, 569, 76, 0, 0, 0, 0, 0, 1345, 683, 0, 456, 588, 492, 491, 459, 556, 540, 622, 584, 143, 531, 583, 674, 518, 530, 424, 606, 611, 571, 173, 954, 92, 813, 1030, 1031], \"xaxis\": \"x\", \"yaxis\": \"y\"}, {\"alignmentgroup\": \"True\", \"hoverlabel\": {\"namelength\": 0}, \"hovertemplate\": \"tariff=ultra<br>duration_of_calls=%{x}\", \"legendgroup\": \"tariff=ultra\", \"marker\": {\"color\": \"#636efa\"}, \"name\": \"tariff=ultra\", \"notched\": true, \"offsetgroup\": \"tariff=ultra\", \"showlegend\": false, \"type\": \"box\", \"x\": [408, 333, 340, 172, 159, 338, 350, 466, 961, 855, 380, 802, 824, 137, 130, 135, 171, 35, 117, 145, 117, 567, 369, 94, 28, 520, 503, 685, 679, 507, 839, 636, 929, 760, 519, 360, 453, 386, 300, 95, 1000, 90, 962, 1197, 948, 989, 993, 1024, 1115, 1146, 79, 949, 1189, 1021, 954, 576, 600, 156, 541, 542, 398, 433, 271, 688, 813, 641, 834, 586, 666, 403, 525, 671, 653, 822, 528, 506, 520, 320, 209, 94, 50, 225, 1, 640, 722, 783, 643, 581, 905, 960, 677, 726, 781, 837, 858, 820, 1233, 371, 716, 985, 820, 815, 896, 231, 581, 864, 852, 960, 1273, 1075, 445, 1109, 1061, 1101, 951, 811, 476, 904, 654, 519, 533, 151, 701, 649, 700, 504, 687, 678, 618, 501, 244, 100, 195, 95, 172, 254, 120, 544, 5, 477, 523, 626, 466, 415, 417, 470, 387, 465, 48, 596, 510, 0, 0, 0, 0, 0, 0, 0, 0, 684, 784, 617, 752, 107, 839, 868, 717, 365, 369, 416, 301, 350, 306, 389, 311, 368, 134, 774, 645, 429, 498, 500, 656, 640, 724, 683, 675, 445, 579, 440, 624, 675, 668, 157, 331, 338, 368, 262, 382, 343, 248, 420, 451, 297, 0, 0, 0, 0, 0, 0, 0, 0, 0, 273, 266, 162, 264, 317, 345, 311, 279, 310, 55, 304, 371, 481, 458, 1106, 1127, 1225, 209, 503, 584, 689, 614, 352, 589, 457, 272, 531, 534, 556, 508, 767, 813, 65, 724, 615, 633, 474, 479, 746, 709, 787, 810, 870, 747, 835, 329, 717, 936, 368, 438, 645, 372, 430, 691, 375, 670, 692, 172, 288, 243, 421, 389, 345, 294, 281, 239, 415, 291, 188, 119, 232, 278, 138, 425, 108, 407, 357, 342, 841, 588, 727, 34, 1158, 1120, 953, 1199, 912, 1232, 1083, 1053, 277, 884, 1334, 1112, 112, 108, 54, 62, 76, 134, 96, 98, 31, 86, 93, 215, 223, 253, 726, 999, 844, 811, 585, 617, 797, 929, 832, 1055, 1213, 1272, 1213, 164, 1410, 1139, 1069, 1210, 560, 756, 708, 454, 567, 581, 579, 50, 627, 850, 1045, 723, 886, 26, 446, 503, 552, 277, 386, 557, 522, 706, 553, 619, 396, 566, 495, 510, 575, 569, 533, 92, 559, 594, 1261, 1322, 1027, 1261, 28, 663, 677, 753, 612, 569, 521, 436, 41, 665, 175, 153, 256, 158, 148, 131, 122, 0, 0, 0, 0, 0, 0, 0, 0, 842, 0, 523, 308, 402, 431, 401, 395, 372, 383, 457, 473, 334, 395, 401, 365, 479, 518, 393, 453, 356, 502, 496, 147, 286, 241, 272, 211, 466, 175, 497, 715, 562, 727, 504, 525, 11, 237, 263, 198, 320, 256, 89, 251, 0, 0, 0, 16, 6, 9, 35, 830, 462, 142, 814, 130, 897, 752, 376, 328, 352, 285, 315, 231, 389, 382, 155, 540, 341, 187, 294, 20, 305, 343, 253, 220, 253, 315, 223, 260, 230, 272, 371, 361, 443, 185, 248, 368, 278, 164, 326, 232, 483, 418, 231, 243, 696, 599, 439, 549, 502, 581, 508, 1188, 1257, 1053, 1186, 234, 240, 282, 226, 206, 299, 212, 208, 325, 267, 58, 308, 204, 261, 295, 237, 234, 353, 309, 376, 60, 267, 731, 658, 103, 701, 725, 623, 580, 101, 563, 443, 610, 540, 508, 435, 563, 524, 450, 523, 451, 469, 570, 106, 529, 483, 501, 528, 483, 589, 567, 786, 672, 730, 598, 248, 524, 538, 662, 575, 653, 305, 548, 380, 495, 606, 0, 0, 0, 514, 652, 723, 634, 760, 865, 665, 516, 485, 631, 604, 536, 409, 275, 553, 537, 542, 497, 430, 459, 697, 759, 627, 50, 810, 602, 563, 671, 782, 756, 83, 756, 1236, 1212, 1321, 439, 1233, 1143, 1199, 297, 344, 488, 848, 901, 851, 762, 825, 767, 823, 909, 732, 723, 745, 868, 869, 982, 1018, 1208, 1129, 515, 526, 661, 882, 35, 396, 478, 456, 303, 412, 706, 827, 805, 780, 881, 816, 796, 743, 866, 1030, 750, 741, 935, 897, 308, 916, 850, 802, 771, 791, 924, 415, 596, 817, 752, 825, 833, 311, 245, 203, 169, 841, 813, 894, 629, 922, 988, 779, 616, 732, 874, 87, 1028, 1010, 925, 1040, 266, 558, 318, 188, 74, 286, 177, 207, 919, 961, 1059, 980, 1020, 885, 858, 852, 902, 1045, 830, 1087, 1161, 1273, 1096, 1259, 1311, 1290, 1097, 1609, 179, 1401, 1297, 1012, 841, 964, 537, 1089, 688, 629, 735, 806, 824, 519, 597, 744, 654, 382, 619, 673, 752, 679, 762, 562, 762, 567, 866, 643, 750, 691, 751, 608, 681, 625, 98, 694, 799, 539, 348, 310, 333, 383, 356, 343, 368, 374, 277, 270, 273, 326, 965, 681, 719, 607, 669, 837, 845, 702, 436, 415, 364, 467, 377, 13, 496, 452, 521, 485, 452, 555, 453, 512, 492, 372, 432, 418, 443, 473, 232, 355, 282, 596, 751, 744, 742, 403, 689, 671, 565, 733, 657, 77, 65, 113, 109, 125, 50, 143, 15, 244, 340, 332, 641, 567, 551, 816, 757, 845, 798, 593, 617, 612, 43, 627, 751, 764, 822, 363, 540, 861, 1084, 808, 53, 95, 12, 1, 16, 29, 43, 274, 416, 91, 235, 322, 234, 284, 310, 330, 393, 314, 448, 533, 420, 370, 479, 439, 406, 185, 200, 270, 52, 169, 157, 209, 114, 83, 109, 237, 142, 60, 236, 194, 150, 305, 861, 813, 881, 796, 848, 767, 929, 875, 973, 765, 953, 808, 420, 311, 569, 592, 477, 134, 595, 444, 626, 442, 771, 855, 761, 847, 816, 781, 695, 833, 629, 856, 317, 821, 246, 248, 715, 453, 659, 542, 610, 492, 402, 473, 647, 482, 16, 512, 1673, 320, 763, 908, 795, 635, 779, 793, 603, 866, 627, 815, 765, 650, 862, 755, 557, 569, 76, 0, 0, 0, 0, 0, 1345, 683, 0, 456, 588, 492, 491, 459, 556, 540, 622, 584, 143, 531, 583, 674, 518, 530, 424, 606, 611, 571, 173, 954, 92, 813, 1030, 1031], \"xaxis\": \"x2\", \"yaxis\": \"y2\"}, {\"alignmentgroup\": \"True\", \"bingroup\": \"x\", \"hoverlabel\": {\"namelength\": 0}, \"hovertemplate\": \"tariff=smart<br>duration_of_calls=%{x}<br>count=%{y}\", \"legendgroup\": \"tariff=smart\", \"marker\": {\"color\": \"#EF553B\", \"opacity\": 0.5}, \"name\": \"tariff=smart\", \"offsetgroup\": \"tariff=smart\", \"orientation\": \"v\", \"showlegend\": true, \"type\": \"histogram\", \"x\": [430, 414, 289, 236, 214, 117, 243, 212, 206, 547, 95, 456, 479, 723, 606, 569, 612, 592, 712, 619, 595, 42, 267, 372, 286, 370, 360, 316, 379, 356, 275, 478, 655, 465, 580, 480, 545, 421, 198, 458, 577, 339, 109, 133, 290, 170, 213, 183, 229, 324, 249, 289, 142, 336, 290, 245, 142, 472, 630, 212, 437, 501, 502, 361, 371, 515, 327, 230, 451, 206, 13, 316, 219, 356, 345, 157, 223, 250, 332, 102, 237, 300, 241, 180, 175, 394, 11, 499, 556, 401, 454, 577, 486, 430, 366, 463, 329, 111, 461, 444, 389, 341, 674, 239, 340, 267, 557, 512, 156, 563, 444, 464, 503, 577, 548, 552, 323, 653, 514, 531, 469, 535, 373, 348, 388, 623, 441, 477, 516, 379, 474, 891, 679, 609, 422, 439, 413, 109, 345, 328, 393, 426, 313, 562, 665, 380, 371, 507, 385, 410, 487, 415, 402, 482, 521, 446, 512, 411, 375, 425, 311, 231, 345, 170, 350, 549, 730, 250, 303, 608, 427, 420, 398, 494, 493, 467, 424, 430, 530, 285, 554, 669, 408, 341, 304, 344, 272, 342, 254, 287, 437, 348, 357, 379, 207, 861, 12, 728, 133, 512, 403, 295, 537, 297, 252, 385, 364, 254, 308, 246, 369, 338, 390, 229, 299, 285, 273, 290, 189, 185, 256, 219, 222, 229, 9, 504, 443, 555, 545, 228, 822, 762, 109, 311, 123, 59, 348, 398, 517, 706, 859, 98, 682, 906, 816, 672, 708, 237, 737, 654, 627, 595, 564, 605, 527, 314, 551, 440, 465, 347, 558, 518, 445, 597, 391, 380, 449, 338, 300, 193, 425, 382, 462, 140, 701, 720, 557, 724, 586, 671, 705, 566, 726, 330, 721, 627, 563, 588, 768, 309, 639, 481, 290, 405, 479, 277, 479, 166, 437, 313, 337, 363, 402, 326, 507, 539, 522, 480, 561, 450, 134, 501, 573, 415, 587, 448, 715, 184, 685, 539, 673, 477, 554, 491, 480, 390, 383, 386, 633, 387, 622, 516, 312, 433, 575, 564, 349, 514, 252, 187, 280, 380, 283, 194, 401, 313, 321, 281, 229, 365, 137, 439, 554, 385, 617, 281, 342, 338, 494, 517, 601, 461, 533, 334, 580, 532, 466, 528, 447, 567, 529, 475, 490, 297, 541, 598, 524, 205, 686, 784, 653, 578, 592, 607, 162, 560, 345, 603, 267, 108, 303, 610, 548, 549, 480, 455, 414, 122, 505, 542, 510, 561, 509, 436, 95, 529, 510, 566, 467, 349, 328, 477, 277, 385, 364, 326, 344, 427, 309, 470, 439, 258, 212, 421, 295, 411, 930, 856, 825, 789, 843, 59, 600, 540, 595, 456, 540, 101, 493, 588, 431, 637, 578, 529, 530, 553, 461, 544, 198, 617, 530, 575, 535, 538, 723, 540, 568, 362, 278, 538, 606, 423, 448, 270, 26, 310, 461, 224, 352, 330, 274, 63, 164, 231, 324, 382, 426, 423, 669, 522, 471, 485, 504, 99, 480, 391, 423, 365, 402, 366, 520, 390, 348, 363, 347, 532, 549, 431, 544, 466, 110, 530, 543, 638, 673, 501, 561, 692, 710, 785, 654, 628, 381, 418, 449, 80, 397, 406, 628, 70, 437, 495, 652, 622, 168, 306, 272, 286, 370, 326, 288, 366, 420, 282, 752, 747, 626, 839, 681, 582, 547, 567, 581, 766, 280, 171, 254, 277, 214, 65, 272, 243, 194, 365, 531, 509, 584, 290, 448, 420, 513, 591, 673, 548, 546, 476, 234, 764, 585, 704, 561, 317, 393, 219, 332, 208, 173, 189, 272, 249, 234, 209, 308, 402, 452, 648, 394, 583, 499, 577, 521, 449, 580, 389, 263, 671, 567, 544, 609, 224, 690, 648, 419, 527, 333, 543, 518, 385, 461, 596, 332, 458, 468, 549, 427, 346, 378, 359, 382, 654, 564, 442, 535, 346, 90, 439, 147, 471, 705, 701, 562, 526, 483, 527, 859, 360, 572, 571, 211, 354, 515, 465, 457, 478, 81, 475, 437, 468, 503, 516, 416, 523, 541, 468, 398, 388, 32, 349, 524, 454, 497, 367, 508, 397, 520, 348, 523, 634, 499, 126, 532, 496, 438, 424, 471, 266, 243, 340, 247, 373, 382, 156, 173, 242, 159, 243, 261, 281, 68, 648, 329, 624, 275, 197, 169, 280, 193, 185, 279, 337, 554, 265, 288, 350, 371, 289, 360, 401, 318, 503, 258, 450, 419, 352, 491, 322, 448, 464, 408, 416, 540, 90, 468, 322, 339, 371, 363, 546, 399, 377, 262, 411, 291, 734, 85, 365, 342, 336, 405, 307, 411, 390, 307, 39, 296, 417, 254, 197, 112, 231, 395, 281, 353, 264, 309, 332, 391, 319, 423, 262, 457, 281, 384, 72, 415, 453, 400, 703, 694, 715, 158, 572, 640, 679, 489, 656, 646, 747, 408, 414, 401, 541, 282, 537, 356, 460, 1000, 599, 755, 307, 811, 841, 484, 785, 604, 118, 666, 530, 501, 645, 519, 712, 612, 603, 369, 219, 360, 366, 258, 131, 359, 279, 291, 436, 288, 485, 353, 399, 187, 192, 325, 321, 432, 395, 400, 409, 415, 570, 454, 341, 126, 479, 422, 611, 532, 415, 256, 328, 561, 404, 477, 373, 223, 631, 579, 552, 440, 495, 532, 351, 109, 579, 536, 421, 369, 564, 326, 323, 319, 265, 278, 606, 443, 613, 501, 659, 589, 573, 412, 569, 668, 546, 332, 560, 401, 78, 353, 34, 35, 46, 39, 7, 19, 46, 51, 22, 50, 39, 629, 615, 454, 696, 751, 642, 568, 717, 555, 51, 550, 613, 445, 523, 41, 18, 395, 452, 490, 612, 551, 420, 388, 542, 459, 433, 439, 486, 518, 416, 403, 342, 433, 416, 493, 495, 537, 489, 220, 539, 497, 351, 476, 98, 419, 469, 890, 511, 434, 675, 75, 363, 378, 287, 406, 357, 486, 268, 416, 325, 327, 550, 239, 305, 367, 324, 219, 214, 125, 106, 312, 530, 392, 580, 246, 390, 322, 298, 291, 336, 252, 276, 409, 604, 522, 72, 621, 602, 680, 281, 448, 406, 152, 360, 330, 315, 299, 443, 695, 401, 615, 263, 492, 313, 455, 432, 335, 405, 352, 353, 217, 567, 356, 329, 1435, 348, 418, 72, 600, 607, 559, 519, 466, 495, 463, 455, 556, 617, 378, 268, 353, 471, 387, 146, 343, 508, 518, 452, 453, 467, 524, 463, 457, 447, 249, 766, 236, 256, 138, 221, 114, 348, 272, 208, 651, 705, 476, 590, 600, 425, 442, 559, 143, 505, 546, 548, 619, 634, 681, 731, 599, 615, 620, 602, 471, 698, 611, 487, 208, 482, 513, 411, 410, 428, 576, 82, 672, 1022, 280, 447, 356, 317, 233, 234, 605, 661, 671, 620, 496, 193, 663, 681, 491, 481, 663, 557, 415, 590, 73, 55, 55, 167, 127, 57, 36, 112, 16, 68, 19, 98, 471, 463, 490, 477, 310, 648, 380, 263, 194, 222, 343, 134, 137, 178, 249, 159, 192, 272, 375, 470, 589, 376, 338, 574, 515, 70, 414, 314, 350, 401, 393, 179, 644, 541, 489, 361, 487, 726, 727, 105, 875, 740, 808, 667, 636, 231, 127, 234, 226, 210, 386, 402, 306, 517, 497, 544, 387, 446, 487, 407, 457, 433, 443, 437, 427, 476, 600, 206, 449, 440, 532, 622, 499, 662, 68, 219, 739, 872, 260, 518, 873, 716, 738, 1074, 9, 313, 472, 454, 329, 419, 174, 433, 309, 362, 381, 606, 732, 653, 21, 755, 711, 677, 772, 476, 95, 444, 357, 464, 341, 349, 416, 464, 451, 305, 558, 136, 376, 450, 339, 787, 539, 535, 612, 636, 460, 13, 353, 294, 251, 316, 396, 269, 365, 245, 145, 272, 268, 389, 709, 418, 415, 432, 493, 728, 479, 439, 120, 364, 523, 380, 348, 347, 470, 361, 451, 663, 567, 606, 516, 413, 267, 479, 354, 603, 619, 532, 779, 672, 748, 656, 637, 822, 747, 903, 836, 725, 349, 747, 701, 154, 264, 150, 154, 659, 474, 462, 472, 434, 631, 261, 407, 533, 485, 440, 380, 327, 380, 274, 387, 312, 234, 365, 315, 79, 47, 739, 508, 576, 475, 94, 576, 630, 505, 312, 441, 500, 520, 423, 437, 452, 643, 452, 584, 487, 550, 704, 544, 451, 630, 544, 556, 526, 468, 148, 174, 182, 77, 297, 156, 240, 226, 316, 267, 253, 340, 252, 336, 404, 514, 469, 108, 634, 494, 560, 457, 443, 494, 401, 436, 395, 520, 714, 418, 332, 353, 85, 65, 595, 575, 525, 210, 182, 306, 190, 173, 171, 241, 252, 197, 76, 257, 194, 645, 131, 704, 20, 484, 726, 705, 737, 658, 558, 663, 553, 578, 175, 213, 337, 159, 204, 207, 144, 197, 243, 225, 261, 250, 316, 354, 300, 241, 270, 533, 582, 474, 613, 24, 488, 964, 853, 280, 433, 440, 483, 586, 370, 588, 406, 435, 533, 519, 458, 489, 350, 352, 565, 513, 771, 60, 659, 709, 456, 641, 472, 678, 729, 305, 868, 706, 1005, 293, 329, 260, 429, 408, 509, 351, 340, 456, 372, 345, 427, 450, 411, 258, 645, 589, 583, 342, 545, 481, 538, 499, 539, 782, 754, 719, 757, 136, 838, 535, 715, 32, 395, 292, 277, 273, 298, 370, 291, 510, 462, 214, 405, 357, 459, 503, 421, 303, 600, 475, 455, 541, 422, 500, 497, 603, 36, 396, 507, 386, 116, 188, 97, 150, 197, 94, 111, 154, 241, 170, 215, 121, 161, 282, 151, 153, 186, 186, 180, 151, 176, 301, 617, 539, 672, 417, 464, 394, 535, 437, 495, 539, 352, 408, 425, 25, 479, 604, 619, 327, 153, 296, 284, 170, 267, 330, 281, 346, 398, 905, 329, 483, 116, 374, 385, 374, 348, 342, 300, 148, 275, 263, 304, 556, 345, 335, 349, 119, 321, 330, 489, 342, 573, 531, 610, 621, 480, 660, 500, 561, 129, 614, 607, 681, 726, 110, 741, 671, 521, 507, 522, 315, 532, 505, 43, 618, 782, 254, 155, 166, 254, 229, 143, 223, 403, 159, 219, 174, 208, 90, 108, 158, 227, 123, 473, 478, 462, 437, 547, 291, 114, 515, 448, 466, 560, 380, 0, 15, 11, 13, 22, 20, 23, 23, 0, 0, 7, 2, 564, 558, 462, 495, 478, 550, 463, 617, 391, 583, 453, 396, 291, 490, 454, 373, 2, 230, 447, 572, 563, 517, 486, 529, 421, 437, 453, 457, 548, 285, 262, 101, 682, 85, 682, 618, 608, 737, 673, 667, 707, 238, 492, 396, 432, 352, 360, 516, 421, 481, 107, 506, 389, 292, 189, 263, 329, 257, 198, 185, 2, 230, 224, 183, 554, 651, 487, 518, 574, 604, 636, 566, 171, 560, 680, 390, 559, 461, 439, 480, 455, 428, 497, 440, 463, 511, 238, 541, 665, 657, 668, 544, 637, 589, 627, 503, 584, 492, 446, 310, 617, 200, 606, 453, 511, 470, 315, 351, 390, 463, 438, 473, 349, 402, 343, 354, 153, 275, 162, 105, 133, 142, 196, 142, 226, 209, 290, 149, 291, 239, 242, 397, 541, 525, 597, 95, 614, 624, 750, 549, 655, 750, 846, 753, 667, 643, 635, 734, 515, 733, 252, 449, 555, 402, 51, 601, 587, 584, 386, 793, 588, 63, 187, 136, 193, 169, 397, 308, 371, 338, 361, 201, 318, 302, 177, 369, 333, 441, 346, 368, 413, 412, 161, 649, 538, 206, 456, 465, 584, 83, 231, 199, 210, 242, 279, 389, 379, 335, 359, 282, 285, 253, 414, 74, 277, 412, 252, 198, 198, 174, 271, 61, 175, 203, 228, 219, 224, 227, 131, 653, 525, 646, 728, 667, 820, 722, 585, 733, 766, 49, 464, 570, 510, 637, 577, 418, 608, 537, 700, 515, 482, 542, 561, 66, 382, 399, 428, 414, 240, 138, 332, 188, 241, 379, 204, 161, 261, 357, 273, 70, 278, 89, 163, 318, 266, 265, 196, 358, 299, 214, 727, 650, 750, 359, 619, 527, 520, 406, 516, 503, 508, 554, 627, 503, 452, 712, 660, 560, 358, 309, 463, 318, 401, 215, 318, 403, 204, 298, 234, 199, 174, 297, 330, 335, 353, 307, 290, 488, 452, 10, 409, 586, 487, 329, 182, 80, 761, 965, 407, 611, 575, 631, 508, 289, 642, 424, 50, 421, 644, 652, 436, 750, 254, 526, 457, 471, 547, 576, 241, 648, 532, 655, 495, 321, 427, 118, 1144, 729, 843, 779, 432, 450, 491, 514, 520, 519, 381, 543, 444, 409, 152, 930, 889, 889, 756, 506, 516, 494, 441, 494, 472, 371, 490, 515, 335, 662, 427, 488, 756, 611, 711, 954, 466, 537, 671, 534, 613, 94, 878, 933, 529, 490, 694, 555, 585, 597, 631, 542, 237, 616, 402, 554, 247, 592, 660, 609, 449, 736, 636, 492, 406, 233, 216, 280, 211, 138, 287, 276, 195, 177, 137, 492, 508, 255, 625, 606, 486, 581, 605, 468, 552, 461, 294, 669, 456, 590, 172, 243, 286, 230, 130, 208, 234, 291, 238, 204, 255, 211, 751, 708, 531, 601, 602, 797, 630, 121, 695, 187, 290, 249, 291, 305, 174, 799, 396, 576, 666, 465, 640, 305, 425, 494, 550, 471, 547, 222, 388, 361, 356, 223, 269, 272, 297, 279, 312, 36, 382, 460, 444, 331, 294, 275, 245, 246, 360, 265, 303, 238, 24, 865, 784, 366, 691, 686, 731, 470, 645, 613, 529, 369, 334, 292, 345, 1007, 764, 38, 180, 87, 155, 227, 98, 403, 444, 0, 0, 0, 0, 0, 339, 346, 270, 290, 250, 330, 282, 312, 322, 84, 603, 694, 619, 510, 517, 781, 501, 262, 418, 411, 354, 527, 521, 518, 582, 555, 484, 662, 450, 594, 48, 557, 486, 545, 371, 490, 400, 175, 247, 471, 492, 612, 70, 449], \"xaxis\": \"x\", \"yaxis\": \"y\"}, {\"alignmentgroup\": \"True\", \"hoverlabel\": {\"namelength\": 0}, \"hovertemplate\": \"tariff=smart<br>duration_of_calls=%{x}\", \"legendgroup\": \"tariff=smart\", \"marker\": {\"color\": \"#EF553B\"}, \"name\": \"tariff=smart\", \"notched\": true, \"offsetgroup\": \"tariff=smart\", \"showlegend\": false, \"type\": \"box\", \"x\": [430, 414, 289, 236, 214, 117, 243, 212, 206, 547, 95, 456, 479, 723, 606, 569, 612, 592, 712, 619, 595, 42, 267, 372, 286, 370, 360, 316, 379, 356, 275, 478, 655, 465, 580, 480, 545, 421, 198, 458, 577, 339, 109, 133, 290, 170, 213, 183, 229, 324, 249, 289, 142, 336, 290, 245, 142, 472, 630, 212, 437, 501, 502, 361, 371, 515, 327, 230, 451, 206, 13, 316, 219, 356, 345, 157, 223, 250, 332, 102, 237, 300, 241, 180, 175, 394, 11, 499, 556, 401, 454, 577, 486, 430, 366, 463, 329, 111, 461, 444, 389, 341, 674, 239, 340, 267, 557, 512, 156, 563, 444, 464, 503, 577, 548, 552, 323, 653, 514, 531, 469, 535, 373, 348, 388, 623, 441, 477, 516, 379, 474, 891, 679, 609, 422, 439, 413, 109, 345, 328, 393, 426, 313, 562, 665, 380, 371, 507, 385, 410, 487, 415, 402, 482, 521, 446, 512, 411, 375, 425, 311, 231, 345, 170, 350, 549, 730, 250, 303, 608, 427, 420, 398, 494, 493, 467, 424, 430, 530, 285, 554, 669, 408, 341, 304, 344, 272, 342, 254, 287, 437, 348, 357, 379, 207, 861, 12, 728, 133, 512, 403, 295, 537, 297, 252, 385, 364, 254, 308, 246, 369, 338, 390, 229, 299, 285, 273, 290, 189, 185, 256, 219, 222, 229, 9, 504, 443, 555, 545, 228, 822, 762, 109, 311, 123, 59, 348, 398, 517, 706, 859, 98, 682, 906, 816, 672, 708, 237, 737, 654, 627, 595, 564, 605, 527, 314, 551, 440, 465, 347, 558, 518, 445, 597, 391, 380, 449, 338, 300, 193, 425, 382, 462, 140, 701, 720, 557, 724, 586, 671, 705, 566, 726, 330, 721, 627, 563, 588, 768, 309, 639, 481, 290, 405, 479, 277, 479, 166, 437, 313, 337, 363, 402, 326, 507, 539, 522, 480, 561, 450, 134, 501, 573, 415, 587, 448, 715, 184, 685, 539, 673, 477, 554, 491, 480, 390, 383, 386, 633, 387, 622, 516, 312, 433, 575, 564, 349, 514, 252, 187, 280, 380, 283, 194, 401, 313, 321, 281, 229, 365, 137, 439, 554, 385, 617, 281, 342, 338, 494, 517, 601, 461, 533, 334, 580, 532, 466, 528, 447, 567, 529, 475, 490, 297, 541, 598, 524, 205, 686, 784, 653, 578, 592, 607, 162, 560, 345, 603, 267, 108, 303, 610, 548, 549, 480, 455, 414, 122, 505, 542, 510, 561, 509, 436, 95, 529, 510, 566, 467, 349, 328, 477, 277, 385, 364, 326, 344, 427, 309, 470, 439, 258, 212, 421, 295, 411, 930, 856, 825, 789, 843, 59, 600, 540, 595, 456, 540, 101, 493, 588, 431, 637, 578, 529, 530, 553, 461, 544, 198, 617, 530, 575, 535, 538, 723, 540, 568, 362, 278, 538, 606, 423, 448, 270, 26, 310, 461, 224, 352, 330, 274, 63, 164, 231, 324, 382, 426, 423, 669, 522, 471, 485, 504, 99, 480, 391, 423, 365, 402, 366, 520, 390, 348, 363, 347, 532, 549, 431, 544, 466, 110, 530, 543, 638, 673, 501, 561, 692, 710, 785, 654, 628, 381, 418, 449, 80, 397, 406, 628, 70, 437, 495, 652, 622, 168, 306, 272, 286, 370, 326, 288, 366, 420, 282, 752, 747, 626, 839, 681, 582, 547, 567, 581, 766, 280, 171, 254, 277, 214, 65, 272, 243, 194, 365, 531, 509, 584, 290, 448, 420, 513, 591, 673, 548, 546, 476, 234, 764, 585, 704, 561, 317, 393, 219, 332, 208, 173, 189, 272, 249, 234, 209, 308, 402, 452, 648, 394, 583, 499, 577, 521, 449, 580, 389, 263, 671, 567, 544, 609, 224, 690, 648, 419, 527, 333, 543, 518, 385, 461, 596, 332, 458, 468, 549, 427, 346, 378, 359, 382, 654, 564, 442, 535, 346, 90, 439, 147, 471, 705, 701, 562, 526, 483, 527, 859, 360, 572, 571, 211, 354, 515, 465, 457, 478, 81, 475, 437, 468, 503, 516, 416, 523, 541, 468, 398, 388, 32, 349, 524, 454, 497, 367, 508, 397, 520, 348, 523, 634, 499, 126, 532, 496, 438, 424, 471, 266, 243, 340, 247, 373, 382, 156, 173, 242, 159, 243, 261, 281, 68, 648, 329, 624, 275, 197, 169, 280, 193, 185, 279, 337, 554, 265, 288, 350, 371, 289, 360, 401, 318, 503, 258, 450, 419, 352, 491, 322, 448, 464, 408, 416, 540, 90, 468, 322, 339, 371, 363, 546, 399, 377, 262, 411, 291, 734, 85, 365, 342, 336, 405, 307, 411, 390, 307, 39, 296, 417, 254, 197, 112, 231, 395, 281, 353, 264, 309, 332, 391, 319, 423, 262, 457, 281, 384, 72, 415, 453, 400, 703, 694, 715, 158, 572, 640, 679, 489, 656, 646, 747, 408, 414, 401, 541, 282, 537, 356, 460, 1000, 599, 755, 307, 811, 841, 484, 785, 604, 118, 666, 530, 501, 645, 519, 712, 612, 603, 369, 219, 360, 366, 258, 131, 359, 279, 291, 436, 288, 485, 353, 399, 187, 192, 325, 321, 432, 395, 400, 409, 415, 570, 454, 341, 126, 479, 422, 611, 532, 415, 256, 328, 561, 404, 477, 373, 223, 631, 579, 552, 440, 495, 532, 351, 109, 579, 536, 421, 369, 564, 326, 323, 319, 265, 278, 606, 443, 613, 501, 659, 589, 573, 412, 569, 668, 546, 332, 560, 401, 78, 353, 34, 35, 46, 39, 7, 19, 46, 51, 22, 50, 39, 629, 615, 454, 696, 751, 642, 568, 717, 555, 51, 550, 613, 445, 523, 41, 18, 395, 452, 490, 612, 551, 420, 388, 542, 459, 433, 439, 486, 518, 416, 403, 342, 433, 416, 493, 495, 537, 489, 220, 539, 497, 351, 476, 98, 419, 469, 890, 511, 434, 675, 75, 363, 378, 287, 406, 357, 486, 268, 416, 325, 327, 550, 239, 305, 367, 324, 219, 214, 125, 106, 312, 530, 392, 580, 246, 390, 322, 298, 291, 336, 252, 276, 409, 604, 522, 72, 621, 602, 680, 281, 448, 406, 152, 360, 330, 315, 299, 443, 695, 401, 615, 263, 492, 313, 455, 432, 335, 405, 352, 353, 217, 567, 356, 329, 1435, 348, 418, 72, 600, 607, 559, 519, 466, 495, 463, 455, 556, 617, 378, 268, 353, 471, 387, 146, 343, 508, 518, 452, 453, 467, 524, 463, 457, 447, 249, 766, 236, 256, 138, 221, 114, 348, 272, 208, 651, 705, 476, 590, 600, 425, 442, 559, 143, 505, 546, 548, 619, 634, 681, 731, 599, 615, 620, 602, 471, 698, 611, 487, 208, 482, 513, 411, 410, 428, 576, 82, 672, 1022, 280, 447, 356, 317, 233, 234, 605, 661, 671, 620, 496, 193, 663, 681, 491, 481, 663, 557, 415, 590, 73, 55, 55, 167, 127, 57, 36, 112, 16, 68, 19, 98, 471, 463, 490, 477, 310, 648, 380, 263, 194, 222, 343, 134, 137, 178, 249, 159, 192, 272, 375, 470, 589, 376, 338, 574, 515, 70, 414, 314, 350, 401, 393, 179, 644, 541, 489, 361, 487, 726, 727, 105, 875, 740, 808, 667, 636, 231, 127, 234, 226, 210, 386, 402, 306, 517, 497, 544, 387, 446, 487, 407, 457, 433, 443, 437, 427, 476, 600, 206, 449, 440, 532, 622, 499, 662, 68, 219, 739, 872, 260, 518, 873, 716, 738, 1074, 9, 313, 472, 454, 329, 419, 174, 433, 309, 362, 381, 606, 732, 653, 21, 755, 711, 677, 772, 476, 95, 444, 357, 464, 341, 349, 416, 464, 451, 305, 558, 136, 376, 450, 339, 787, 539, 535, 612, 636, 460, 13, 353, 294, 251, 316, 396, 269, 365, 245, 145, 272, 268, 389, 709, 418, 415, 432, 493, 728, 479, 439, 120, 364, 523, 380, 348, 347, 470, 361, 451, 663, 567, 606, 516, 413, 267, 479, 354, 603, 619, 532, 779, 672, 748, 656, 637, 822, 747, 903, 836, 725, 349, 747, 701, 154, 264, 150, 154, 659, 474, 462, 472, 434, 631, 261, 407, 533, 485, 440, 380, 327, 380, 274, 387, 312, 234, 365, 315, 79, 47, 739, 508, 576, 475, 94, 576, 630, 505, 312, 441, 500, 520, 423, 437, 452, 643, 452, 584, 487, 550, 704, 544, 451, 630, 544, 556, 526, 468, 148, 174, 182, 77, 297, 156, 240, 226, 316, 267, 253, 340, 252, 336, 404, 514, 469, 108, 634, 494, 560, 457, 443, 494, 401, 436, 395, 520, 714, 418, 332, 353, 85, 65, 595, 575, 525, 210, 182, 306, 190, 173, 171, 241, 252, 197, 76, 257, 194, 645, 131, 704, 20, 484, 726, 705, 737, 658, 558, 663, 553, 578, 175, 213, 337, 159, 204, 207, 144, 197, 243, 225, 261, 250, 316, 354, 300, 241, 270, 533, 582, 474, 613, 24, 488, 964, 853, 280, 433, 440, 483, 586, 370, 588, 406, 435, 533, 519, 458, 489, 350, 352, 565, 513, 771, 60, 659, 709, 456, 641, 472, 678, 729, 305, 868, 706, 1005, 293, 329, 260, 429, 408, 509, 351, 340, 456, 372, 345, 427, 450, 411, 258, 645, 589, 583, 342, 545, 481, 538, 499, 539, 782, 754, 719, 757, 136, 838, 535, 715, 32, 395, 292, 277, 273, 298, 370, 291, 510, 462, 214, 405, 357, 459, 503, 421, 303, 600, 475, 455, 541, 422, 500, 497, 603, 36, 396, 507, 386, 116, 188, 97, 150, 197, 94, 111, 154, 241, 170, 215, 121, 161, 282, 151, 153, 186, 186, 180, 151, 176, 301, 617, 539, 672, 417, 464, 394, 535, 437, 495, 539, 352, 408, 425, 25, 479, 604, 619, 327, 153, 296, 284, 170, 267, 330, 281, 346, 398, 905, 329, 483, 116, 374, 385, 374, 348, 342, 300, 148, 275, 263, 304, 556, 345, 335, 349, 119, 321, 330, 489, 342, 573, 531, 610, 621, 480, 660, 500, 561, 129, 614, 607, 681, 726, 110, 741, 671, 521, 507, 522, 315, 532, 505, 43, 618, 782, 254, 155, 166, 254, 229, 143, 223, 403, 159, 219, 174, 208, 90, 108, 158, 227, 123, 473, 478, 462, 437, 547, 291, 114, 515, 448, 466, 560, 380, 0, 15, 11, 13, 22, 20, 23, 23, 0, 0, 7, 2, 564, 558, 462, 495, 478, 550, 463, 617, 391, 583, 453, 396, 291, 490, 454, 373, 2, 230, 447, 572, 563, 517, 486, 529, 421, 437, 453, 457, 548, 285, 262, 101, 682, 85, 682, 618, 608, 737, 673, 667, 707, 238, 492, 396, 432, 352, 360, 516, 421, 481, 107, 506, 389, 292, 189, 263, 329, 257, 198, 185, 2, 230, 224, 183, 554, 651, 487, 518, 574, 604, 636, 566, 171, 560, 680, 390, 559, 461, 439, 480, 455, 428, 497, 440, 463, 511, 238, 541, 665, 657, 668, 544, 637, 589, 627, 503, 584, 492, 446, 310, 617, 200, 606, 453, 511, 470, 315, 351, 390, 463, 438, 473, 349, 402, 343, 354, 153, 275, 162, 105, 133, 142, 196, 142, 226, 209, 290, 149, 291, 239, 242, 397, 541, 525, 597, 95, 614, 624, 750, 549, 655, 750, 846, 753, 667, 643, 635, 734, 515, 733, 252, 449, 555, 402, 51, 601, 587, 584, 386, 793, 588, 63, 187, 136, 193, 169, 397, 308, 371, 338, 361, 201, 318, 302, 177, 369, 333, 441, 346, 368, 413, 412, 161, 649, 538, 206, 456, 465, 584, 83, 231, 199, 210, 242, 279, 389, 379, 335, 359, 282, 285, 253, 414, 74, 277, 412, 252, 198, 198, 174, 271, 61, 175, 203, 228, 219, 224, 227, 131, 653, 525, 646, 728, 667, 820, 722, 585, 733, 766, 49, 464, 570, 510, 637, 577, 418, 608, 537, 700, 515, 482, 542, 561, 66, 382, 399, 428, 414, 240, 138, 332, 188, 241, 379, 204, 161, 261, 357, 273, 70, 278, 89, 163, 318, 266, 265, 196, 358, 299, 214, 727, 650, 750, 359, 619, 527, 520, 406, 516, 503, 508, 554, 627, 503, 452, 712, 660, 560, 358, 309, 463, 318, 401, 215, 318, 403, 204, 298, 234, 199, 174, 297, 330, 335, 353, 307, 290, 488, 452, 10, 409, 586, 487, 329, 182, 80, 761, 965, 407, 611, 575, 631, 508, 289, 642, 424, 50, 421, 644, 652, 436, 750, 254, 526, 457, 471, 547, 576, 241, 648, 532, 655, 495, 321, 427, 118, 1144, 729, 843, 779, 432, 450, 491, 514, 520, 519, 381, 543, 444, 409, 152, 930, 889, 889, 756, 506, 516, 494, 441, 494, 472, 371, 490, 515, 335, 662, 427, 488, 756, 611, 711, 954, 466, 537, 671, 534, 613, 94, 878, 933, 529, 490, 694, 555, 585, 597, 631, 542, 237, 616, 402, 554, 247, 592, 660, 609, 449, 736, 636, 492, 406, 233, 216, 280, 211, 138, 287, 276, 195, 177, 137, 492, 508, 255, 625, 606, 486, 581, 605, 468, 552, 461, 294, 669, 456, 590, 172, 243, 286, 230, 130, 208, 234, 291, 238, 204, 255, 211, 751, 708, 531, 601, 602, 797, 630, 121, 695, 187, 290, 249, 291, 305, 174, 799, 396, 576, 666, 465, 640, 305, 425, 494, 550, 471, 547, 222, 388, 361, 356, 223, 269, 272, 297, 279, 312, 36, 382, 460, 444, 331, 294, 275, 245, 246, 360, 265, 303, 238, 24, 865, 784, 366, 691, 686, 731, 470, 645, 613, 529, 369, 334, 292, 345, 1007, 764, 38, 180, 87, 155, 227, 98, 403, 444, 0, 0, 0, 0, 0, 339, 346, 270, 290, 250, 330, 282, 312, 322, 84, 603, 694, 619, 510, 517, 781, 501, 262, 418, 411, 354, 527, 521, 518, 582, 555, 484, 662, 450, 594, 48, 557, 486, 545, 371, 490, 400, 175, 247, 471, 492, 612, 70, 449], \"xaxis\": \"x2\", \"yaxis\": \"y2\"}],\n",
              "                        {\"barmode\": \"relative\", \"legend\": {\"tracegroupgap\": 0}, \"template\": {\"data\": {\"bar\": [{\"error_x\": {\"color\": \"#2a3f5f\"}, \"error_y\": {\"color\": \"#2a3f5f\"}, \"marker\": {\"line\": {\"color\": \"#E5ECF6\", \"width\": 0.5}}, \"type\": \"bar\"}], \"barpolar\": [{\"marker\": {\"line\": {\"color\": \"#E5ECF6\", \"width\": 0.5}}, \"type\": \"barpolar\"}], \"carpet\": [{\"aaxis\": {\"endlinecolor\": \"#2a3f5f\", \"gridcolor\": \"white\", \"linecolor\": \"white\", \"minorgridcolor\": \"white\", \"startlinecolor\": \"#2a3f5f\"}, \"baxis\": {\"endlinecolor\": \"#2a3f5f\", \"gridcolor\": \"white\", \"linecolor\": \"white\", \"minorgridcolor\": \"white\", \"startlinecolor\": \"#2a3f5f\"}, \"type\": \"carpet\"}], \"choropleth\": [{\"colorbar\": {\"outlinewidth\": 0, \"ticks\": \"\"}, \"type\": \"choropleth\"}], \"contour\": [{\"colorbar\": {\"outlinewidth\": 0, \"ticks\": \"\"}, \"colorscale\": [[0.0, \"#0d0887\"], [0.1111111111111111, \"#46039f\"], [0.2222222222222222, \"#7201a8\"], [0.3333333333333333, \"#9c179e\"], [0.4444444444444444, \"#bd3786\"], [0.5555555555555556, \"#d8576b\"], [0.6666666666666666, \"#ed7953\"], [0.7777777777777778, \"#fb9f3a\"], [0.8888888888888888, \"#fdca26\"], [1.0, \"#f0f921\"]], \"type\": \"contour\"}], \"contourcarpet\": [{\"colorbar\": {\"outlinewidth\": 0, \"ticks\": \"\"}, \"type\": \"contourcarpet\"}], \"heatmap\": [{\"colorbar\": {\"outlinewidth\": 0, \"ticks\": \"\"}, \"colorscale\": [[0.0, \"#0d0887\"], [0.1111111111111111, \"#46039f\"], [0.2222222222222222, \"#7201a8\"], [0.3333333333333333, \"#9c179e\"], [0.4444444444444444, \"#bd3786\"], [0.5555555555555556, \"#d8576b\"], [0.6666666666666666, \"#ed7953\"], [0.7777777777777778, \"#fb9f3a\"], [0.8888888888888888, \"#fdca26\"], [1.0, \"#f0f921\"]], \"type\": \"heatmap\"}], \"heatmapgl\": [{\"colorbar\": {\"outlinewidth\": 0, \"ticks\": \"\"}, \"colorscale\": [[0.0, \"#0d0887\"], [0.1111111111111111, \"#46039f\"], [0.2222222222222222, \"#7201a8\"], [0.3333333333333333, \"#9c179e\"], [0.4444444444444444, \"#bd3786\"], [0.5555555555555556, \"#d8576b\"], [0.6666666666666666, \"#ed7953\"], [0.7777777777777778, \"#fb9f3a\"], [0.8888888888888888, \"#fdca26\"], [1.0, \"#f0f921\"]], \"type\": \"heatmapgl\"}], \"histogram\": [{\"marker\": {\"colorbar\": {\"outlinewidth\": 0, \"ticks\": \"\"}}, \"type\": \"histogram\"}], \"histogram2d\": [{\"colorbar\": {\"outlinewidth\": 0, \"ticks\": \"\"}, \"colorscale\": [[0.0, \"#0d0887\"], [0.1111111111111111, \"#46039f\"], [0.2222222222222222, \"#7201a8\"], [0.3333333333333333, \"#9c179e\"], [0.4444444444444444, \"#bd3786\"], [0.5555555555555556, \"#d8576b\"], [0.6666666666666666, \"#ed7953\"], [0.7777777777777778, \"#fb9f3a\"], [0.8888888888888888, \"#fdca26\"], [1.0, \"#f0f921\"]], \"type\": \"histogram2d\"}], \"histogram2dcontour\": [{\"colorbar\": {\"outlinewidth\": 0, \"ticks\": \"\"}, \"colorscale\": [[0.0, \"#0d0887\"], [0.1111111111111111, \"#46039f\"], [0.2222222222222222, \"#7201a8\"], [0.3333333333333333, \"#9c179e\"], [0.4444444444444444, \"#bd3786\"], [0.5555555555555556, \"#d8576b\"], [0.6666666666666666, \"#ed7953\"], [0.7777777777777778, \"#fb9f3a\"], [0.8888888888888888, \"#fdca26\"], [1.0, \"#f0f921\"]], \"type\": \"histogram2dcontour\"}], \"mesh3d\": [{\"colorbar\": {\"outlinewidth\": 0, \"ticks\": \"\"}, \"type\": \"mesh3d\"}], \"parcoords\": [{\"line\": {\"colorbar\": {\"outlinewidth\": 0, \"ticks\": \"\"}}, \"type\": \"parcoords\"}], \"pie\": [{\"automargin\": true, \"type\": \"pie\"}], \"scatter\": [{\"marker\": {\"colorbar\": {\"outlinewidth\": 0, \"ticks\": \"\"}}, \"type\": \"scatter\"}], \"scatter3d\": [{\"line\": {\"colorbar\": {\"outlinewidth\": 0, \"ticks\": \"\"}}, \"marker\": {\"colorbar\": {\"outlinewidth\": 0, \"ticks\": \"\"}}, \"type\": \"scatter3d\"}], \"scattercarpet\": [{\"marker\": {\"colorbar\": {\"outlinewidth\": 0, \"ticks\": \"\"}}, \"type\": \"scattercarpet\"}], \"scattergeo\": [{\"marker\": {\"colorbar\": {\"outlinewidth\": 0, \"ticks\": \"\"}}, \"type\": \"scattergeo\"}], \"scattergl\": [{\"marker\": {\"colorbar\": {\"outlinewidth\": 0, \"ticks\": \"\"}}, \"type\": \"scattergl\"}], \"scattermapbox\": [{\"marker\": {\"colorbar\": {\"outlinewidth\": 0, \"ticks\": \"\"}}, \"type\": \"scattermapbox\"}], \"scatterpolar\": [{\"marker\": {\"colorbar\": {\"outlinewidth\": 0, \"ticks\": \"\"}}, \"type\": \"scatterpolar\"}], \"scatterpolargl\": [{\"marker\": {\"colorbar\": {\"outlinewidth\": 0, \"ticks\": \"\"}}, \"type\": \"scatterpolargl\"}], \"scatterternary\": [{\"marker\": {\"colorbar\": {\"outlinewidth\": 0, \"ticks\": \"\"}}, \"type\": \"scatterternary\"}], \"surface\": [{\"colorbar\": {\"outlinewidth\": 0, \"ticks\": \"\"}, \"colorscale\": [[0.0, \"#0d0887\"], [0.1111111111111111, \"#46039f\"], [0.2222222222222222, \"#7201a8\"], [0.3333333333333333, \"#9c179e\"], [0.4444444444444444, \"#bd3786\"], [0.5555555555555556, \"#d8576b\"], [0.6666666666666666, \"#ed7953\"], [0.7777777777777778, \"#fb9f3a\"], [0.8888888888888888, \"#fdca26\"], [1.0, \"#f0f921\"]], \"type\": \"surface\"}], \"table\": [{\"cells\": {\"fill\": {\"color\": \"#EBF0F8\"}, \"line\": {\"color\": \"white\"}}, \"header\": {\"fill\": {\"color\": \"#C8D4E3\"}, \"line\": {\"color\": \"white\"}}, \"type\": \"table\"}]}, \"layout\": {\"annotationdefaults\": {\"arrowcolor\": \"#2a3f5f\", \"arrowhead\": 0, \"arrowwidth\": 1}, \"coloraxis\": {\"colorbar\": {\"outlinewidth\": 0, \"ticks\": \"\"}}, \"colorscale\": {\"diverging\": [[0, \"#8e0152\"], [0.1, \"#c51b7d\"], [0.2, \"#de77ae\"], [0.3, \"#f1b6da\"], [0.4, \"#fde0ef\"], [0.5, \"#f7f7f7\"], [0.6, \"#e6f5d0\"], [0.7, \"#b8e186\"], [0.8, \"#7fbc41\"], [0.9, \"#4d9221\"], [1, \"#276419\"]], \"sequential\": [[0.0, \"#0d0887\"], [0.1111111111111111, \"#46039f\"], [0.2222222222222222, \"#7201a8\"], [0.3333333333333333, \"#9c179e\"], [0.4444444444444444, \"#bd3786\"], [0.5555555555555556, \"#d8576b\"], [0.6666666666666666, \"#ed7953\"], [0.7777777777777778, \"#fb9f3a\"], [0.8888888888888888, \"#fdca26\"], [1.0, \"#f0f921\"]], \"sequentialminus\": [[0.0, \"#0d0887\"], [0.1111111111111111, \"#46039f\"], [0.2222222222222222, \"#7201a8\"], [0.3333333333333333, \"#9c179e\"], [0.4444444444444444, \"#bd3786\"], [0.5555555555555556, \"#d8576b\"], [0.6666666666666666, \"#ed7953\"], [0.7777777777777778, \"#fb9f3a\"], [0.8888888888888888, \"#fdca26\"], [1.0, \"#f0f921\"]]}, \"colorway\": [\"#636efa\", \"#EF553B\", \"#00cc96\", \"#ab63fa\", \"#FFA15A\", \"#19d3f3\", \"#FF6692\", \"#B6E880\", \"#FF97FF\", \"#FECB52\"], \"font\": {\"color\": \"#2a3f5f\"}, \"geo\": {\"bgcolor\": \"white\", \"lakecolor\": \"white\", \"landcolor\": \"#E5ECF6\", \"showlakes\": true, \"showland\": true, \"subunitcolor\": \"white\"}, \"hoverlabel\": {\"align\": \"left\"}, \"hovermode\": \"closest\", \"mapbox\": {\"style\": \"light\"}, \"paper_bgcolor\": \"white\", \"plot_bgcolor\": \"#E5ECF6\", \"polar\": {\"angularaxis\": {\"gridcolor\": \"white\", \"linecolor\": \"white\", \"ticks\": \"\"}, \"bgcolor\": \"#E5ECF6\", \"radialaxis\": {\"gridcolor\": \"white\", \"linecolor\": \"white\", \"ticks\": \"\"}}, \"scene\": {\"xaxis\": {\"backgroundcolor\": \"#E5ECF6\", \"gridcolor\": \"white\", \"gridwidth\": 2, \"linecolor\": \"white\", \"showbackground\": true, \"ticks\": \"\", \"zerolinecolor\": \"white\"}, \"yaxis\": {\"backgroundcolor\": \"#E5ECF6\", \"gridcolor\": \"white\", \"gridwidth\": 2, \"linecolor\": \"white\", \"showbackground\": true, \"ticks\": \"\", \"zerolinecolor\": \"white\"}, \"zaxis\": {\"backgroundcolor\": \"#E5ECF6\", \"gridcolor\": \"white\", \"gridwidth\": 2, \"linecolor\": \"white\", \"showbackground\": true, \"ticks\": \"\", \"zerolinecolor\": \"white\"}}, \"shapedefaults\": {\"line\": {\"color\": \"#2a3f5f\"}}, \"ternary\": {\"aaxis\": {\"gridcolor\": \"white\", \"linecolor\": \"white\", \"ticks\": \"\"}, \"baxis\": {\"gridcolor\": \"white\", \"linecolor\": \"white\", \"ticks\": \"\"}, \"bgcolor\": \"#E5ECF6\", \"caxis\": {\"gridcolor\": \"white\", \"linecolor\": \"white\", \"ticks\": \"\"}}, \"title\": {\"x\": 0.05}, \"xaxis\": {\"automargin\": true, \"gridcolor\": \"white\", \"linecolor\": \"white\", \"ticks\": \"\", \"title\": {\"standoff\": 15}, \"zerolinecolor\": \"white\", \"zerolinewidth\": 2}, \"yaxis\": {\"automargin\": true, \"gridcolor\": \"white\", \"linecolor\": \"white\", \"ticks\": \"\", \"title\": {\"standoff\": 15}, \"zerolinecolor\": \"white\", \"zerolinewidth\": 2}}}, \"title\": {\"text\": \"\\u0420\\u0430\\u0441\\u043f\\u0440\\u0435\\u0434\\u0435\\u043b\\u0435\\u043d\\u0438\\u0435 \\u0437\\u043d\\u0430\\u0447\\u0435\\u043d\\u0438\\u0439 \\u0441\\u0442\\u043e\\u043b\\u0431\\u0446\\u0430 duration_of_calls \\u0441 \\u0440\\u0430\\u0437\\u0434\\u0435\\u043b\\u0435\\u043d\\u0438\\u0435\\u043c \\u043f\\u043e \\u0442\\u0430\\u0440\\u0438\\u0444\\u0430\\u043c\"}, \"xaxis\": {\"anchor\": \"y\", \"domain\": [0.0, 1.0], \"title\": {\"text\": \"duration_of_calls\"}}, \"xaxis2\": {\"anchor\": \"y2\", \"domain\": [0.0, 1.0], \"matches\": \"x\", \"showgrid\": true, \"showticklabels\": false}, \"yaxis\": {\"anchor\": \"x\", \"domain\": [0.0, 0.7326], \"title\": {\"text\": \"count\"}}, \"yaxis2\": {\"anchor\": \"x2\", \"domain\": [0.7426, 1.0], \"matches\": \"y2\", \"showgrid\": false, \"showline\": false, \"showticklabels\": false, \"ticks\": \"\"}},\n",
              "                        {\"responsive\": true}\n",
              "                    ).then(function(){\n",
              "                            \n",
              "var gd = document.getElementById('e28e1e2e-7d74-44d2-99f3-52276c3bbb23');\n",
              "var x = new MutationObserver(function (mutations, observer) {{\n",
              "        var display = window.getComputedStyle(gd).display;\n",
              "        if (!display || display === 'none') {{\n",
              "            console.log([gd, 'removed!']);\n",
              "            Plotly.purge(gd);\n",
              "            observer.disconnect();\n",
              "        }}\n",
              "}});\n",
              "\n",
              "// Listen for the removal of the full notebook cells\n",
              "var notebookContainer = gd.closest('#notebook-container');\n",
              "if (notebookContainer) {{\n",
              "    x.observe(notebookContainer, {childList: true});\n",
              "}}\n",
              "\n",
              "// Listen for the clearing of the current output cell\n",
              "var outputEl = gd.closest('.output');\n",
              "if (outputEl) {{\n",
              "    x.observe(outputEl, {childList: true});\n",
              "}}\n",
              "\n",
              "                        })\n",
              "                };\n",
              "                \n",
              "            </script>\n",
              "        </div>\n",
              "</body>\n",
              "</html>"
            ]
          },
          "metadata": {
            "tags": []
          }
        }
      ]
    },
    {
      "cell_type": "markdown",
      "metadata": {
        "id": "ra1FbTGrO-6E"
      },
      "source": [
        "Мы просмотрели изменения значений по месяцам в среднем. Посмотрим распределение продолжительности разговора по тарифам: Для построения будем использовать скрипичные диаграммы, что позволит увидеть распределения и плотности вероятностей. Создадим скрипичный сюжет:"
      ]
    },
    {
      "cell_type": "code",
      "metadata": {
        "colab": {
          "base_uri": "https://localhost:8080/",
          "height": 204
        },
        "id": "w5xm9iezO-6E",
        "outputId": "4ad5aabe-ee76-4037-f878-895edad5e713"
      },
      "source": [
        "# выберем интересующие нас столбцы из дата сета\n",
        "# исключим нулевые звонки\n",
        "calls_mobile = mobile_customers [['tariff', 'duration_of_calls', 'user_id']].query('duration_of_calls > 0')\n",
        "calls_mobile.head()"
      ],
      "execution_count": null,
      "outputs": [
        {
          "output_type": "execute_result",
          "data": {
            "text/html": [
              "<div>\n",
              "<style scoped>\n",
              "    .dataframe tbody tr th:only-of-type {\n",
              "        vertical-align: middle;\n",
              "    }\n",
              "\n",
              "    .dataframe tbody tr th {\n",
              "        vertical-align: top;\n",
              "    }\n",
              "\n",
              "    .dataframe thead th {\n",
              "        text-align: right;\n",
              "    }\n",
              "</style>\n",
              "<table border=\"1\" class=\"dataframe\">\n",
              "  <thead>\n",
              "    <tr style=\"text-align: right;\">\n",
              "      <th></th>\n",
              "      <th>tariff</th>\n",
              "      <th>duration_of_calls</th>\n",
              "      <th>user_id</th>\n",
              "    </tr>\n",
              "  </thead>\n",
              "  <tbody>\n",
              "    <tr>\n",
              "      <th>0</th>\n",
              "      <td>ultra</td>\n",
              "      <td>408</td>\n",
              "      <td>1000</td>\n",
              "    </tr>\n",
              "    <tr>\n",
              "      <th>1</th>\n",
              "      <td>ultra</td>\n",
              "      <td>333</td>\n",
              "      <td>1000</td>\n",
              "    </tr>\n",
              "    <tr>\n",
              "      <th>2</th>\n",
              "      <td>ultra</td>\n",
              "      <td>340</td>\n",
              "      <td>1000</td>\n",
              "    </tr>\n",
              "    <tr>\n",
              "      <th>3</th>\n",
              "      <td>ultra</td>\n",
              "      <td>172</td>\n",
              "      <td>1000</td>\n",
              "    </tr>\n",
              "    <tr>\n",
              "      <th>4</th>\n",
              "      <td>ultra</td>\n",
              "      <td>159</td>\n",
              "      <td>1000</td>\n",
              "    </tr>\n",
              "  </tbody>\n",
              "</table>\n",
              "</div>"
            ],
            "text/plain": [
              "  tariff  duration_of_calls  user_id\n",
              "0  ultra                408     1000\n",
              "1  ultra                333     1000\n",
              "2  ultra                340     1000\n",
              "3  ultra                172     1000\n",
              "4  ultra                159     1000"
            ]
          },
          "metadata": {
            "tags": []
          },
          "execution_count": 64
        }
      ]
    },
    {
      "cell_type": "code",
      "metadata": {
        "colab": {
          "base_uri": "https://localhost:8080/",
          "height": 542
        },
        "id": "EvRH08hSO-6E",
        "outputId": "f13cdfbd-0696-4145-f37c-099546cae4e3"
      },
      "source": [
        "fig = px.violin(\n",
        "        calls_mobile, y='duration_of_calls', \n",
        "        x=\"tariff\", color='tariff', box=True, points='all', \n",
        "        title = 'Скрипичная диаграмма времени разговора',\n",
        "        labels={'duration_of_calls': 'Продолжительность разговора', 'tariff':'Тариф'}\n",
        "        )\n",
        "fig.show()"
      ],
      "execution_count": null,
      "outputs": [
        {
          "output_type": "display_data",
          "data": {
            "text/html": [
              "<html>\n",
              "<head><meta charset=\"utf-8\" /></head>\n",
              "<body>\n",
              "    <div>\n",
              "            <script src=\"https://cdnjs.cloudflare.com/ajax/libs/mathjax/2.7.5/MathJax.js?config=TeX-AMS-MML_SVG\"></script><script type=\"text/javascript\">if (window.MathJax) {MathJax.Hub.Config({SVG: {font: \"STIX-Web\"}});}</script>\n",
              "                <script type=\"text/javascript\">window.PlotlyConfig = {MathJaxConfig: 'local'};</script>\n",
              "        <script src=\"https://cdn.plot.ly/plotly-latest.min.js\"></script>    \n",
              "            <div id=\"8f24f2de-ecdb-40c5-af7e-a55def80e302\" class=\"plotly-graph-div\" style=\"height:525px; width:100%;\"></div>\n",
              "            <script type=\"text/javascript\">\n",
              "                \n",
              "                    window.PLOTLYENV=window.PLOTLYENV || {};\n",
              "                    \n",
              "                if (document.getElementById(\"8f24f2de-ecdb-40c5-af7e-a55def80e302\")) {\n",
              "                    Plotly.newPlot(\n",
              "                        '8f24f2de-ecdb-40c5-af7e-a55def80e302',\n",
              "                        [{\"alignmentgroup\": \"True\", \"box\": {\"visible\": true}, \"hoverlabel\": {\"namelength\": 0}, \"hovertemplate\": \"\\u0422\\u0430\\u0440\\u0438\\u0444=%{x}<br>\\u041f\\u0440\\u043e\\u0434\\u043e\\u043b\\u0436\\u0438\\u0442\\u0435\\u043b\\u044c\\u043d\\u043e\\u0441\\u0442\\u044c \\u0440\\u0430\\u0437\\u0433\\u043e\\u0432\\u043e\\u0440\\u0430=%{y}\", \"legendgroup\": \"\\u0422\\u0430\\u0440\\u0438\\u0444=ultra\", \"marker\": {\"color\": \"#636efa\"}, \"name\": \"\\u0422\\u0430\\u0440\\u0438\\u0444=ultra\", \"offsetgroup\": \"\\u0422\\u0430\\u0440\\u0438\\u0444=ultra\", \"orientation\": \"v\", \"points\": \"all\", \"scalegroup\": \"True\", \"showlegend\": true, \"type\": \"violin\", \"x\": [\"ultra\", \"ultra\", \"ultra\", \"ultra\", \"ultra\", \"ultra\", \"ultra\", \"ultra\", \"ultra\", \"ultra\", \"ultra\", \"ultra\", \"ultra\", \"ultra\", \"ultra\", \"ultra\", \"ultra\", \"ultra\", \"ultra\", \"ultra\", \"ultra\", \"ultra\", \"ultra\", \"ultra\", \"ultra\", \"ultra\", \"ultra\", \"ultra\", \"ultra\", \"ultra\", \"ultra\", \"ultra\", \"ultra\", \"ultra\", \"ultra\", \"ultra\", \"ultra\", \"ultra\", \"ultra\", \"ultra\", \"ultra\", \"ultra\", \"ultra\", \"ultra\", \"ultra\", \"ultra\", \"ultra\", \"ultra\", \"ultra\", \"ultra\", \"ultra\", \"ultra\", \"ultra\", \"ultra\", \"ultra\", \"ultra\", \"ultra\", \"ultra\", \"ultra\", \"ultra\", \"ultra\", \"ultra\", \"ultra\", \"ultra\", \"ultra\", \"ultra\", \"ultra\", \"ultra\", \"ultra\", \"ultra\", \"ultra\", \"ultra\", \"ultra\", \"ultra\", \"ultra\", \"ultra\", \"ultra\", \"ultra\", \"ultra\", \"ultra\", \"ultra\", \"ultra\", \"ultra\", \"ultra\", \"ultra\", \"ultra\", \"ultra\", \"ultra\", \"ultra\", \"ultra\", \"ultra\", \"ultra\", \"ultra\", \"ultra\", \"ultra\", \"ultra\", \"ultra\", \"ultra\", \"ultra\", \"ultra\", \"ultra\", \"ultra\", \"ultra\", \"ultra\", \"ultra\", \"ultra\", \"ultra\", \"ultra\", \"ultra\", \"ultra\", \"ultra\", \"ultra\", \"ultra\", \"ultra\", \"ultra\", \"ultra\", \"ultra\", \"ultra\", \"ultra\", \"ultra\", \"ultra\", \"ultra\", \"ultra\", \"ultra\", \"ultra\", \"ultra\", \"ultra\", \"ultra\", \"ultra\", \"ultra\", \"ultra\", \"ultra\", \"ultra\", \"ultra\", \"ultra\", \"ultra\", \"ultra\", \"ultra\", \"ultra\", \"ultra\", \"ultra\", \"ultra\", \"ultra\", \"ultra\", \"ultra\", \"ultra\", \"ultra\", \"ultra\", \"ultra\", \"ultra\", \"ultra\", \"ultra\", \"ultra\", \"ultra\", \"ultra\", \"ultra\", \"ultra\", \"ultra\", \"ultra\", \"ultra\", \"ultra\", \"ultra\", \"ultra\", \"ultra\", \"ultra\", \"ultra\", \"ultra\", \"ultra\", \"ultra\", \"ultra\", \"ultra\", \"ultra\", \"ultra\", \"ultra\", \"ultra\", \"ultra\", \"ultra\", \"ultra\", \"ultra\", \"ultra\", \"ultra\", \"ultra\", \"ultra\", \"ultra\", \"ultra\", \"ultra\", \"ultra\", \"ultra\", \"ultra\", \"ultra\", \"ultra\", \"ultra\", \"ultra\", \"ultra\", \"ultra\", \"ultra\", \"ultra\", \"ultra\", \"ultra\", \"ultra\", \"ultra\", \"ultra\", \"ultra\", \"ultra\", \"ultra\", \"ultra\", \"ultra\", \"ultra\", \"ultra\", \"ultra\", \"ultra\", \"ultra\", \"ultra\", \"ultra\", \"ultra\", \"ultra\", \"ultra\", \"ultra\", \"ultra\", \"ultra\", \"ultra\", \"ultra\", \"ultra\", \"ultra\", \"ultra\", \"ultra\", \"ultra\", \"ultra\", \"ultra\", \"ultra\", \"ultra\", \"ultra\", \"ultra\", \"ultra\", \"ultra\", \"ultra\", \"ultra\", \"ultra\", \"ultra\", \"ultra\", \"ultra\", \"ultra\", \"ultra\", \"ultra\", \"ultra\", \"ultra\", \"ultra\", \"ultra\", \"ultra\", \"ultra\", \"ultra\", \"ultra\", \"ultra\", \"ultra\", \"ultra\", \"ultra\", \"ultra\", \"ultra\", \"ultra\", \"ultra\", \"ultra\", \"ultra\", \"ultra\", \"ultra\", \"ultra\", \"ultra\", \"ultra\", \"ultra\", \"ultra\", \"ultra\", \"ultra\", \"ultra\", \"ultra\", \"ultra\", \"ultra\", \"ultra\", \"ultra\", \"ultra\", \"ultra\", \"ultra\", \"ultra\", \"ultra\", \"ultra\", \"ultra\", \"ultra\", \"ultra\", \"ultra\", \"ultra\", \"ultra\", \"ultra\", \"ultra\", \"ultra\", \"ultra\", \"ultra\", \"ultra\", \"ultra\", \"ultra\", \"ultra\", \"ultra\", \"ultra\", \"ultra\", \"ultra\", \"ultra\", \"ultra\", \"ultra\", \"ultra\", \"ultra\", \"ultra\", \"ultra\", \"ultra\", \"ultra\", \"ultra\", \"ultra\", \"ultra\", \"ultra\", \"ultra\", \"ultra\", \"ultra\", \"ultra\", \"ultra\", \"ultra\", \"ultra\", \"ultra\", \"ultra\", \"ultra\", \"ultra\", \"ultra\", \"ultra\", \"ultra\", \"ultra\", \"ultra\", \"ultra\", \"ultra\", \"ultra\", \"ultra\", \"ultra\", \"ultra\", \"ultra\", \"ultra\", \"ultra\", \"ultra\", \"ultra\", \"ultra\", \"ultra\", \"ultra\", \"ultra\", \"ultra\", \"ultra\", \"ultra\", \"ultra\", \"ultra\", \"ultra\", \"ultra\", \"ultra\", \"ultra\", \"ultra\", \"ultra\", \"ultra\", \"ultra\", \"ultra\", \"ultra\", \"ultra\", \"ultra\", \"ultra\", \"ultra\", \"ultra\", \"ultra\", \"ultra\", \"ultra\", \"ultra\", \"ultra\", \"ultra\", \"ultra\", \"ultra\", \"ultra\", \"ultra\", \"ultra\", \"ultra\", \"ultra\", \"ultra\", \"ultra\", \"ultra\", \"ultra\", \"ultra\", \"ultra\", \"ultra\", \"ultra\", \"ultra\", \"ultra\", \"ultra\", \"ultra\", \"ultra\", \"ultra\", \"ultra\", \"ultra\", \"ultra\", \"ultra\", \"ultra\", \"ultra\", \"ultra\", \"ultra\", \"ultra\", \"ultra\", \"ultra\", \"ultra\", \"ultra\", \"ultra\", \"ultra\", \"ultra\", \"ultra\", \"ultra\", \"ultra\", \"ultra\", \"ultra\", \"ultra\", \"ultra\", \"ultra\", \"ultra\", \"ultra\", \"ultra\", \"ultra\", \"ultra\", \"ultra\", \"ultra\", \"ultra\", \"ultra\", \"ultra\", \"ultra\", \"ultra\", \"ultra\", \"ultra\", \"ultra\", \"ultra\", \"ultra\", \"ultra\", \"ultra\", \"ultra\", \"ultra\", \"ultra\", \"ultra\", \"ultra\", \"ultra\", \"ultra\", \"ultra\", \"ultra\", \"ultra\", \"ultra\", \"ultra\", \"ultra\", \"ultra\", \"ultra\", \"ultra\", \"ultra\", \"ultra\", \"ultra\", \"ultra\", \"ultra\", \"ultra\", \"ultra\", \"ultra\", \"ultra\", \"ultra\", \"ultra\", \"ultra\", \"ultra\", \"ultra\", \"ultra\", \"ultra\", \"ultra\", \"ultra\", \"ultra\", \"ultra\", \"ultra\", \"ultra\", \"ultra\", \"ultra\", \"ultra\", \"ultra\", \"ultra\", \"ultra\", \"ultra\", \"ultra\", \"ultra\", \"ultra\", \"ultra\", \"ultra\", \"ultra\", \"ultra\", \"ultra\", \"ultra\", \"ultra\", \"ultra\", \"ultra\", \"ultra\", \"ultra\", \"ultra\", \"ultra\", \"ultra\", \"ultra\", \"ultra\", \"ultra\", \"ultra\", \"ultra\", \"ultra\", \"ultra\", \"ultra\", \"ultra\", \"ultra\", \"ultra\", \"ultra\", \"ultra\", \"ultra\", \"ultra\", \"ultra\", \"ultra\", \"ultra\", \"ultra\", \"ultra\", \"ultra\", \"ultra\", \"ultra\", \"ultra\", \"ultra\", \"ultra\", \"ultra\", \"ultra\", \"ultra\", \"ultra\", \"ultra\", \"ultra\", \"ultra\", \"ultra\", \"ultra\", \"ultra\", \"ultra\", \"ultra\", \"ultra\", \"ultra\", \"ultra\", \"ultra\", \"ultra\", \"ultra\", \"ultra\", \"ultra\", \"ultra\", \"ultra\", \"ultra\", \"ultra\", \"ultra\", \"ultra\", \"ultra\", \"ultra\", \"ultra\", \"ultra\", \"ultra\", \"ultra\", \"ultra\", \"ultra\", \"ultra\", \"ultra\", \"ultra\", \"ultra\", \"ultra\", \"ultra\", \"ultra\", \"ultra\", \"ultra\", \"ultra\", \"ultra\", \"ultra\", \"ultra\", \"ultra\", \"ultra\", \"ultra\", \"ultra\", \"ultra\", \"ultra\", \"ultra\", \"ultra\", \"ultra\", \"ultra\", \"ultra\", \"ultra\", \"ultra\", \"ultra\", \"ultra\", \"ultra\", \"ultra\", \"ultra\", \"ultra\", \"ultra\", \"ultra\", \"ultra\", \"ultra\", \"ultra\", \"ultra\", \"ultra\", \"ultra\", \"ultra\", \"ultra\", \"ultra\", \"ultra\", \"ultra\", \"ultra\", \"ultra\", \"ultra\", \"ultra\", \"ultra\", \"ultra\", \"ultra\", \"ultra\", \"ultra\", \"ultra\", \"ultra\", \"ultra\", \"ultra\", \"ultra\", \"ultra\", \"ultra\", \"ultra\", \"ultra\", \"ultra\", \"ultra\", \"ultra\", \"ultra\", \"ultra\", \"ultra\", \"ultra\", \"ultra\", \"ultra\", \"ultra\", \"ultra\", \"ultra\", \"ultra\", \"ultra\", \"ultra\", \"ultra\", \"ultra\", \"ultra\", \"ultra\", \"ultra\", \"ultra\", \"ultra\", \"ultra\", \"ultra\", \"ultra\", \"ultra\", \"ultra\", \"ultra\", \"ultra\", \"ultra\", \"ultra\", \"ultra\", \"ultra\", \"ultra\", \"ultra\", \"ultra\", \"ultra\", \"ultra\", \"ultra\", \"ultra\", \"ultra\", \"ultra\", \"ultra\", \"ultra\", \"ultra\", \"ultra\", \"ultra\", \"ultra\", \"ultra\", \"ultra\", \"ultra\", \"ultra\", \"ultra\", \"ultra\", \"ultra\", \"ultra\", \"ultra\", \"ultra\", \"ultra\", \"ultra\", \"ultra\", \"ultra\", \"ultra\", \"ultra\", \"ultra\", \"ultra\", \"ultra\", \"ultra\", \"ultra\", \"ultra\", \"ultra\", \"ultra\", \"ultra\", \"ultra\", \"ultra\", \"ultra\", \"ultra\", \"ultra\", \"ultra\", \"ultra\", \"ultra\", \"ultra\", \"ultra\", \"ultra\", \"ultra\", \"ultra\", \"ultra\", \"ultra\", \"ultra\", \"ultra\", \"ultra\", \"ultra\", \"ultra\", \"ultra\", \"ultra\", \"ultra\", \"ultra\", \"ultra\", \"ultra\", \"ultra\", \"ultra\", \"ultra\", \"ultra\", \"ultra\", \"ultra\", \"ultra\", \"ultra\", \"ultra\", \"ultra\", \"ultra\", \"ultra\", \"ultra\", \"ultra\", \"ultra\", \"ultra\", \"ultra\", \"ultra\", \"ultra\", \"ultra\", \"ultra\", \"ultra\", \"ultra\", \"ultra\", \"ultra\", \"ultra\", \"ultra\", \"ultra\", \"ultra\", \"ultra\", \"ultra\", \"ultra\", \"ultra\", \"ultra\", \"ultra\", \"ultra\", \"ultra\", \"ultra\", \"ultra\", \"ultra\", \"ultra\", \"ultra\", \"ultra\", \"ultra\", \"ultra\", \"ultra\", \"ultra\", \"ultra\", \"ultra\", \"ultra\", \"ultra\", \"ultra\", \"ultra\", \"ultra\", \"ultra\", \"ultra\", \"ultra\", \"ultra\", \"ultra\", \"ultra\", \"ultra\", \"ultra\", \"ultra\", \"ultra\", \"ultra\", \"ultra\", \"ultra\", \"ultra\", \"ultra\", \"ultra\", \"ultra\", \"ultra\", \"ultra\", \"ultra\", \"ultra\", \"ultra\", \"ultra\", \"ultra\", \"ultra\", \"ultra\", \"ultra\", \"ultra\", \"ultra\", \"ultra\", \"ultra\", \"ultra\", \"ultra\", \"ultra\", \"ultra\", \"ultra\", \"ultra\", \"ultra\", \"ultra\", \"ultra\", \"ultra\", \"ultra\", \"ultra\", \"ultra\", \"ultra\", \"ultra\", \"ultra\", \"ultra\", \"ultra\", \"ultra\", \"ultra\", \"ultra\", \"ultra\", \"ultra\", \"ultra\", \"ultra\", \"ultra\", \"ultra\", \"ultra\", \"ultra\", \"ultra\", \"ultra\", \"ultra\", \"ultra\", \"ultra\", \"ultra\", \"ultra\", \"ultra\", \"ultra\", \"ultra\", \"ultra\", \"ultra\", \"ultra\", \"ultra\", \"ultra\", \"ultra\", \"ultra\", \"ultra\", \"ultra\", \"ultra\", \"ultra\", \"ultra\", \"ultra\", \"ultra\", \"ultra\", \"ultra\", \"ultra\", \"ultra\", \"ultra\", \"ultra\", \"ultra\", \"ultra\", \"ultra\", \"ultra\", \"ultra\", \"ultra\", \"ultra\", \"ultra\", \"ultra\", \"ultra\", \"ultra\", \"ultra\", \"ultra\", \"ultra\", \"ultra\", \"ultra\", \"ultra\", \"ultra\", \"ultra\", \"ultra\", \"ultra\", \"ultra\", \"ultra\", \"ultra\", \"ultra\", \"ultra\", \"ultra\", \"ultra\", \"ultra\", \"ultra\", \"ultra\", \"ultra\", \"ultra\", \"ultra\", \"ultra\", \"ultra\", \"ultra\", \"ultra\", \"ultra\", \"ultra\", \"ultra\", \"ultra\", \"ultra\", \"ultra\", \"ultra\", \"ultra\", \"ultra\", \"ultra\", \"ultra\", \"ultra\", \"ultra\", \"ultra\", \"ultra\", \"ultra\", \"ultra\", \"ultra\", \"ultra\", \"ultra\", \"ultra\", \"ultra\", \"ultra\", \"ultra\", \"ultra\", \"ultra\", \"ultra\", \"ultra\", \"ultra\", \"ultra\", \"ultra\", \"ultra\", \"ultra\", \"ultra\", \"ultra\", \"ultra\", \"ultra\", \"ultra\", \"ultra\", \"ultra\", \"ultra\", \"ultra\", \"ultra\", \"ultra\", \"ultra\"], \"x0\": \" \", \"xaxis\": \"x\", \"y\": [408, 333, 340, 172, 159, 338, 350, 466, 961, 855, 380, 802, 824, 137, 130, 135, 171, 35, 117, 145, 117, 567, 369, 94, 28, 520, 503, 685, 679, 507, 839, 636, 929, 760, 519, 360, 453, 386, 300, 95, 1000, 90, 962, 1197, 948, 989, 993, 1024, 1115, 1146, 79, 949, 1189, 1021, 954, 576, 600, 156, 541, 542, 398, 433, 271, 688, 813, 641, 834, 586, 666, 403, 525, 671, 653, 822, 528, 506, 520, 320, 209, 94, 50, 225, 1, 640, 722, 783, 643, 581, 905, 960, 677, 726, 781, 837, 858, 820, 1233, 371, 716, 985, 820, 815, 896, 231, 581, 864, 852, 960, 1273, 1075, 445, 1109, 1061, 1101, 951, 811, 476, 904, 654, 519, 533, 151, 701, 649, 700, 504, 687, 678, 618, 501, 244, 100, 195, 95, 172, 254, 120, 544, 5, 477, 523, 626, 466, 415, 417, 470, 387, 465, 48, 596, 510, 684, 784, 617, 752, 107, 839, 868, 717, 365, 369, 416, 301, 350, 306, 389, 311, 368, 134, 774, 645, 429, 498, 500, 656, 640, 724, 683, 675, 445, 579, 440, 624, 675, 668, 157, 331, 338, 368, 262, 382, 343, 248, 420, 451, 297, 273, 266, 162, 264, 317, 345, 311, 279, 310, 55, 304, 371, 481, 458, 1106, 1127, 1225, 209, 503, 584, 689, 614, 352, 589, 457, 272, 531, 534, 556, 508, 767, 813, 65, 724, 615, 633, 474, 479, 746, 709, 787, 810, 870, 747, 835, 329, 717, 936, 368, 438, 645, 372, 430, 691, 375, 670, 692, 172, 288, 243, 421, 389, 345, 294, 281, 239, 415, 291, 188, 119, 232, 278, 138, 425, 108, 407, 357, 342, 841, 588, 727, 34, 1158, 1120, 953, 1199, 912, 1232, 1083, 1053, 277, 884, 1334, 1112, 112, 108, 54, 62, 76, 134, 96, 98, 31, 86, 93, 215, 223, 253, 726, 999, 844, 811, 585, 617, 797, 929, 832, 1055, 1213, 1272, 1213, 164, 1410, 1139, 1069, 1210, 560, 756, 708, 454, 567, 581, 579, 50, 627, 850, 1045, 723, 886, 26, 446, 503, 552, 277, 386, 557, 522, 706, 553, 619, 396, 566, 495, 510, 575, 569, 533, 92, 559, 594, 1261, 1322, 1027, 1261, 28, 663, 677, 753, 612, 569, 521, 436, 41, 665, 175, 153, 256, 158, 148, 131, 122, 842, 523, 308, 402, 431, 401, 395, 372, 383, 457, 473, 334, 395, 401, 365, 479, 518, 393, 453, 356, 502, 496, 147, 286, 241, 272, 211, 466, 175, 497, 715, 562, 727, 504, 525, 11, 237, 263, 198, 320, 256, 89, 251, 16, 6, 9, 35, 830, 462, 142, 814, 130, 897, 752, 376, 328, 352, 285, 315, 231, 389, 382, 155, 540, 341, 187, 294, 20, 305, 343, 253, 220, 253, 315, 223, 260, 230, 272, 371, 361, 443, 185, 248, 368, 278, 164, 326, 232, 483, 418, 231, 243, 696, 599, 439, 549, 502, 581, 508, 1188, 1257, 1053, 1186, 234, 240, 282, 226, 206, 299, 212, 208, 325, 267, 58, 308, 204, 261, 295, 237, 234, 353, 309, 376, 60, 267, 731, 658, 103, 701, 725, 623, 580, 101, 563, 443, 610, 540, 508, 435, 563, 524, 450, 523, 451, 469, 570, 106, 529, 483, 501, 528, 483, 589, 567, 786, 672, 730, 598, 248, 524, 538, 662, 575, 653, 305, 548, 380, 495, 606, 514, 652, 723, 634, 760, 865, 665, 516, 485, 631, 604, 536, 409, 275, 553, 537, 542, 497, 430, 459, 697, 759, 627, 50, 810, 602, 563, 671, 782, 756, 83, 756, 1236, 1212, 1321, 439, 1233, 1143, 1199, 297, 344, 488, 848, 901, 851, 762, 825, 767, 823, 909, 732, 723, 745, 868, 869, 982, 1018, 1208, 1129, 515, 526, 661, 882, 35, 396, 478, 456, 303, 412, 706, 827, 805, 780, 881, 816, 796, 743, 866, 1030, 750, 741, 935, 897, 308, 916, 850, 802, 771, 791, 924, 415, 596, 817, 752, 825, 833, 311, 245, 203, 169, 841, 813, 894, 629, 922, 988, 779, 616, 732, 874, 87, 1028, 1010, 925, 1040, 266, 558, 318, 188, 74, 286, 177, 207, 919, 961, 1059, 980, 1020, 885, 858, 852, 902, 1045, 830, 1087, 1161, 1273, 1096, 1259, 1311, 1290, 1097, 1609, 179, 1401, 1297, 1012, 841, 964, 537, 1089, 688, 629, 735, 806, 824, 519, 597, 744, 654, 382, 619, 673, 752, 679, 762, 562, 762, 567, 866, 643, 750, 691, 751, 608, 681, 625, 98, 694, 799, 539, 348, 310, 333, 383, 356, 343, 368, 374, 277, 270, 273, 326, 965, 681, 719, 607, 669, 837, 845, 702, 436, 415, 364, 467, 377, 13, 496, 452, 521, 485, 452, 555, 453, 512, 492, 372, 432, 418, 443, 473, 232, 355, 282, 596, 751, 744, 742, 403, 689, 671, 565, 733, 657, 77, 65, 113, 109, 125, 50, 143, 15, 244, 340, 332, 641, 567, 551, 816, 757, 845, 798, 593, 617, 612, 43, 627, 751, 764, 822, 363, 540, 861, 1084, 808, 53, 95, 12, 1, 16, 29, 43, 274, 416, 91, 235, 322, 234, 284, 310, 330, 393, 314, 448, 533, 420, 370, 479, 439, 406, 185, 200, 270, 52, 169, 157, 209, 114, 83, 109, 237, 142, 60, 236, 194, 150, 305, 861, 813, 881, 796, 848, 767, 929, 875, 973, 765, 953, 808, 420, 311, 569, 592, 477, 134, 595, 444, 626, 442, 771, 855, 761, 847, 816, 781, 695, 833, 629, 856, 317, 821, 246, 248, 715, 453, 659, 542, 610, 492, 402, 473, 647, 482, 16, 512, 1673, 320, 763, 908, 795, 635, 779, 793, 603, 866, 627, 815, 765, 650, 862, 755, 557, 569, 76, 1345, 683, 456, 588, 492, 491, 459, 556, 540, 622, 584, 143, 531, 583, 674, 518, 530, 424, 606, 611, 571, 173, 954, 92, 813, 1030, 1031], \"y0\": \" \", \"yaxis\": \"y\"}, {\"alignmentgroup\": \"True\", \"box\": {\"visible\": true}, \"hoverlabel\": {\"namelength\": 0}, \"hovertemplate\": \"\\u0422\\u0430\\u0440\\u0438\\u0444=%{x}<br>\\u041f\\u0440\\u043e\\u0434\\u043e\\u043b\\u0436\\u0438\\u0442\\u0435\\u043b\\u044c\\u043d\\u043e\\u0441\\u0442\\u044c \\u0440\\u0430\\u0437\\u0433\\u043e\\u0432\\u043e\\u0440\\u0430=%{y}\", \"legendgroup\": \"\\u0422\\u0430\\u0440\\u0438\\u0444=smart\", \"marker\": {\"color\": \"#EF553B\"}, \"name\": \"\\u0422\\u0430\\u0440\\u0438\\u0444=smart\", \"offsetgroup\": \"\\u0422\\u0430\\u0440\\u0438\\u0444=smart\", \"orientation\": \"v\", \"points\": \"all\", \"scalegroup\": \"True\", \"showlegend\": true, \"type\": \"violin\", \"x\": [\"smart\", \"smart\", \"smart\", \"smart\", \"smart\", \"smart\", \"smart\", \"smart\", \"smart\", \"smart\", \"smart\", \"smart\", \"smart\", \"smart\", \"smart\", \"smart\", \"smart\", \"smart\", \"smart\", \"smart\", \"smart\", \"smart\", \"smart\", \"smart\", \"smart\", \"smart\", \"smart\", \"smart\", \"smart\", \"smart\", \"smart\", \"smart\", \"smart\", \"smart\", \"smart\", \"smart\", \"smart\", \"smart\", \"smart\", \"smart\", \"smart\", \"smart\", \"smart\", \"smart\", \"smart\", \"smart\", \"smart\", \"smart\", \"smart\", \"smart\", \"smart\", \"smart\", \"smart\", \"smart\", \"smart\", \"smart\", \"smart\", \"smart\", \"smart\", \"smart\", \"smart\", \"smart\", \"smart\", \"smart\", \"smart\", \"smart\", \"smart\", \"smart\", \"smart\", \"smart\", \"smart\", \"smart\", \"smart\", \"smart\", \"smart\", \"smart\", \"smart\", \"smart\", \"smart\", \"smart\", \"smart\", \"smart\", \"smart\", \"smart\", \"smart\", \"smart\", \"smart\", \"smart\", \"smart\", \"smart\", \"smart\", \"smart\", \"smart\", \"smart\", \"smart\", \"smart\", \"smart\", \"smart\", \"smart\", \"smart\", \"smart\", \"smart\", \"smart\", \"smart\", \"smart\", \"smart\", \"smart\", \"smart\", \"smart\", \"smart\", \"smart\", \"smart\", \"smart\", \"smart\", \"smart\", \"smart\", \"smart\", \"smart\", \"smart\", \"smart\", \"smart\", \"smart\", \"smart\", \"smart\", \"smart\", \"smart\", \"smart\", \"smart\", \"smart\", \"smart\", \"smart\", \"smart\", \"smart\", \"smart\", \"smart\", \"smart\", \"smart\", \"smart\", \"smart\", \"smart\", \"smart\", \"smart\", \"smart\", \"smart\", \"smart\", \"smart\", \"smart\", \"smart\", \"smart\", \"smart\", \"smart\", \"smart\", \"smart\", \"smart\", \"smart\", \"smart\", \"smart\", \"smart\", \"smart\", \"smart\", \"smart\", \"smart\", \"smart\", \"smart\", \"smart\", \"smart\", \"smart\", \"smart\", \"smart\", \"smart\", \"smart\", \"smart\", \"smart\", \"smart\", \"smart\", \"smart\", \"smart\", \"smart\", \"smart\", \"smart\", \"smart\", \"smart\", \"smart\", \"smart\", \"smart\", \"smart\", \"smart\", \"smart\", \"smart\", \"smart\", \"smart\", \"smart\", \"smart\", \"smart\", \"smart\", \"smart\", \"smart\", \"smart\", \"smart\", \"smart\", \"smart\", \"smart\", \"smart\", \"smart\", \"smart\", \"smart\", \"smart\", \"smart\", \"smart\", \"smart\", \"smart\", \"smart\", \"smart\", \"smart\", \"smart\", \"smart\", \"smart\", \"smart\", \"smart\", \"smart\", \"smart\", \"smart\", \"smart\", \"smart\", \"smart\", \"smart\", \"smart\", \"smart\", \"smart\", \"smart\", \"smart\", \"smart\", \"smart\", \"smart\", \"smart\", \"smart\", \"smart\", \"smart\", \"smart\", \"smart\", \"smart\", \"smart\", \"smart\", \"smart\", \"smart\", \"smart\", \"smart\", \"smart\", \"smart\", \"smart\", \"smart\", \"smart\", \"smart\", \"smart\", \"smart\", \"smart\", \"smart\", \"smart\", \"smart\", \"smart\", \"smart\", \"smart\", \"smart\", \"smart\", \"smart\", \"smart\", \"smart\", \"smart\", \"smart\", \"smart\", \"smart\", \"smart\", \"smart\", \"smart\", \"smart\", \"smart\", \"smart\", \"smart\", \"smart\", \"smart\", \"smart\", \"smart\", \"smart\", \"smart\", \"smart\", \"smart\", \"smart\", \"smart\", \"smart\", \"smart\", \"smart\", \"smart\", \"smart\", \"smart\", \"smart\", \"smart\", \"smart\", \"smart\", \"smart\", \"smart\", \"smart\", \"smart\", \"smart\", \"smart\", \"smart\", \"smart\", \"smart\", \"smart\", \"smart\", \"smart\", \"smart\", \"smart\", \"smart\", \"smart\", \"smart\", \"smart\", \"smart\", \"smart\", \"smart\", \"smart\", \"smart\", \"smart\", \"smart\", \"smart\", \"smart\", \"smart\", \"smart\", \"smart\", \"smart\", \"smart\", \"smart\", \"smart\", \"smart\", \"smart\", \"smart\", \"smart\", \"smart\", \"smart\", \"smart\", \"smart\", \"smart\", \"smart\", \"smart\", \"smart\", \"smart\", \"smart\", \"smart\", \"smart\", \"smart\", \"smart\", \"smart\", \"smart\", \"smart\", \"smart\", \"smart\", \"smart\", \"smart\", \"smart\", \"smart\", \"smart\", \"smart\", \"smart\", \"smart\", \"smart\", \"smart\", \"smart\", \"smart\", \"smart\", \"smart\", \"smart\", \"smart\", \"smart\", \"smart\", \"smart\", \"smart\", \"smart\", \"smart\", \"smart\", \"smart\", \"smart\", \"smart\", \"smart\", \"smart\", \"smart\", \"smart\", \"smart\", \"smart\", \"smart\", \"smart\", \"smart\", \"smart\", \"smart\", \"smart\", \"smart\", \"smart\", \"smart\", \"smart\", \"smart\", \"smart\", \"smart\", \"smart\", \"smart\", \"smart\", \"smart\", \"smart\", \"smart\", \"smart\", \"smart\", \"smart\", \"smart\", \"smart\", \"smart\", \"smart\", \"smart\", \"smart\", \"smart\", \"smart\", \"smart\", \"smart\", \"smart\", \"smart\", \"smart\", \"smart\", \"smart\", \"smart\", \"smart\", \"smart\", \"smart\", \"smart\", \"smart\", \"smart\", \"smart\", \"smart\", \"smart\", \"smart\", \"smart\", \"smart\", \"smart\", \"smart\", \"smart\", \"smart\", \"smart\", \"smart\", \"smart\", \"smart\", \"smart\", \"smart\", \"smart\", \"smart\", \"smart\", \"smart\", \"smart\", \"smart\", \"smart\", \"smart\", \"smart\", \"smart\", \"smart\", \"smart\", \"smart\", \"smart\", \"smart\", \"smart\", \"smart\", \"smart\", \"smart\", \"smart\", \"smart\", \"smart\", \"smart\", \"smart\", \"smart\", \"smart\", \"smart\", \"smart\", \"smart\", \"smart\", \"smart\", \"smart\", \"smart\", \"smart\", \"smart\", \"smart\", \"smart\", \"smart\", \"smart\", \"smart\", \"smart\", \"smart\", \"smart\", \"smart\", \"smart\", \"smart\", \"smart\", \"smart\", \"smart\", \"smart\", \"smart\", \"smart\", \"smart\", \"smart\", \"smart\", \"smart\", \"smart\", \"smart\", \"smart\", \"smart\", \"smart\", \"smart\", \"smart\", \"smart\", \"smart\", \"smart\", \"smart\", \"smart\", \"smart\", \"smart\", \"smart\", \"smart\", \"smart\", \"smart\", \"smart\", \"smart\", \"smart\", \"smart\", \"smart\", \"smart\", \"smart\", \"smart\", \"smart\", \"smart\", \"smart\", \"smart\", \"smart\", \"smart\", \"smart\", \"smart\", \"smart\", \"smart\", \"smart\", \"smart\", \"smart\", \"smart\", \"smart\", \"smart\", \"smart\", \"smart\", \"smart\", \"smart\", \"smart\", \"smart\", \"smart\", \"smart\", \"smart\", \"smart\", \"smart\", \"smart\", \"smart\", \"smart\", \"smart\", \"smart\", \"smart\", \"smart\", \"smart\", \"smart\", \"smart\", \"smart\", \"smart\", \"smart\", \"smart\", \"smart\", \"smart\", \"smart\", \"smart\", \"smart\", \"smart\", \"smart\", \"smart\", \"smart\", \"smart\", \"smart\", \"smart\", \"smart\", \"smart\", \"smart\", \"smart\", \"smart\", \"smart\", \"smart\", \"smart\", \"smart\", \"smart\", \"smart\", \"smart\", \"smart\", \"smart\", \"smart\", \"smart\", \"smart\", \"smart\", \"smart\", \"smart\", \"smart\", \"smart\", \"smart\", \"smart\", \"smart\", \"smart\", \"smart\", \"smart\", \"smart\", \"smart\", \"smart\", \"smart\", \"smart\", \"smart\", \"smart\", \"smart\", \"smart\", \"smart\", \"smart\", \"smart\", \"smart\", \"smart\", \"smart\", \"smart\", \"smart\", \"smart\", \"smart\", \"smart\", \"smart\", \"smart\", \"smart\", \"smart\", \"smart\", \"smart\", \"smart\", \"smart\", \"smart\", \"smart\", \"smart\", \"smart\", \"smart\", \"smart\", \"smart\", \"smart\", \"smart\", \"smart\", \"smart\", \"smart\", \"smart\", \"smart\", \"smart\", \"smart\", \"smart\", \"smart\", \"smart\", \"smart\", \"smart\", \"smart\", \"smart\", \"smart\", \"smart\", \"smart\", \"smart\", \"smart\", \"smart\", \"smart\", \"smart\", \"smart\", \"smart\", \"smart\", \"smart\", \"smart\", \"smart\", \"smart\", \"smart\", \"smart\", \"smart\", \"smart\", \"smart\", \"smart\", \"smart\", \"smart\", \"smart\", \"smart\", \"smart\", \"smart\", \"smart\", \"smart\", \"smart\", \"smart\", \"smart\", \"smart\", \"smart\", \"smart\", \"smart\", \"smart\", \"smart\", \"smart\", \"smart\", \"smart\", \"smart\", \"smart\", \"smart\", \"smart\", \"smart\", \"smart\", \"smart\", \"smart\", \"smart\", \"smart\", \"smart\", \"smart\", \"smart\", \"smart\", \"smart\", \"smart\", \"smart\", \"smart\", \"smart\", \"smart\", \"smart\", \"smart\", \"smart\", \"smart\", \"smart\", \"smart\", \"smart\", \"smart\", \"smart\", \"smart\", \"smart\", \"smart\", \"smart\", \"smart\", \"smart\", \"smart\", \"smart\", \"smart\", \"smart\", \"smart\", \"smart\", \"smart\", \"smart\", \"smart\", \"smart\", \"smart\", \"smart\", \"smart\", \"smart\", \"smart\", \"smart\", \"smart\", \"smart\", \"smart\", \"smart\", \"smart\", \"smart\", \"smart\", \"smart\", \"smart\", \"smart\", \"smart\", \"smart\", \"smart\", \"smart\", \"smart\", \"smart\", \"smart\", \"smart\", \"smart\", \"smart\", \"smart\", \"smart\", \"smart\", \"smart\", \"smart\", \"smart\", \"smart\", \"smart\", \"smart\", \"smart\", \"smart\", \"smart\", \"smart\", \"smart\", \"smart\", \"smart\", \"smart\", \"smart\", \"smart\", \"smart\", \"smart\", \"smart\", \"smart\", \"smart\", \"smart\", \"smart\", \"smart\", \"smart\", \"smart\", \"smart\", \"smart\", \"smart\", \"smart\", \"smart\", \"smart\", \"smart\", \"smart\", \"smart\", \"smart\", \"smart\", \"smart\", \"smart\", \"smart\", \"smart\", \"smart\", \"smart\", \"smart\", \"smart\", \"smart\", \"smart\", \"smart\", \"smart\", \"smart\", \"smart\", \"smart\", \"smart\", \"smart\", \"smart\", \"smart\", \"smart\", \"smart\", \"smart\", \"smart\", \"smart\", \"smart\", \"smart\", \"smart\", \"smart\", \"smart\", \"smart\", \"smart\", \"smart\", \"smart\", \"smart\", \"smart\", \"smart\", \"smart\", \"smart\", \"smart\", \"smart\", \"smart\", \"smart\", \"smart\", \"smart\", \"smart\", \"smart\", \"smart\", \"smart\", \"smart\", \"smart\", \"smart\", \"smart\", \"smart\", \"smart\", \"smart\", \"smart\", \"smart\", \"smart\", \"smart\", \"smart\", \"smart\", \"smart\", \"smart\", \"smart\", \"smart\", \"smart\", \"smart\", \"smart\", \"smart\", \"smart\", \"smart\", \"smart\", \"smart\", \"smart\", \"smart\", \"smart\", \"smart\", \"smart\", \"smart\", \"smart\", \"smart\", \"smart\", \"smart\", \"smart\", \"smart\", \"smart\", \"smart\", \"smart\", \"smart\", \"smart\", \"smart\", \"smart\", \"smart\", \"smart\", \"smart\", \"smart\", \"smart\", \"smart\", \"smart\", \"smart\", \"smart\", \"smart\", \"smart\", \"smart\", \"smart\", \"smart\", \"smart\", \"smart\", \"smart\", \"smart\", \"smart\", \"smart\", \"smart\", \"smart\", \"smart\", \"smart\", \"smart\", \"smart\", \"smart\", \"smart\", \"smart\", \"smart\", \"smart\", \"smart\", \"smart\", \"smart\", \"smart\", \"smart\", \"smart\", \"smart\", \"smart\", \"smart\", \"smart\", \"smart\", \"smart\", \"smart\", \"smart\", \"smart\", \"smart\", \"smart\", \"smart\", \"smart\", \"smart\", \"smart\", \"smart\", \"smart\", \"smart\", \"smart\", \"smart\", \"smart\", \"smart\", \"smart\", \"smart\", \"smart\", \"smart\", \"smart\", \"smart\", \"smart\", \"smart\", \"smart\", \"smart\", \"smart\", \"smart\", \"smart\", \"smart\", \"smart\", \"smart\", \"smart\", \"smart\", \"smart\", \"smart\", \"smart\", \"smart\", \"smart\", \"smart\", \"smart\", \"smart\", \"smart\", \"smart\", \"smart\", \"smart\", \"smart\", \"smart\", \"smart\", \"smart\", \"smart\", \"smart\", \"smart\", \"smart\", \"smart\", \"smart\", \"smart\", \"smart\", \"smart\", \"smart\", \"smart\", \"smart\", \"smart\", \"smart\", \"smart\", \"smart\", \"smart\", \"smart\", \"smart\", \"smart\", \"smart\", \"smart\", \"smart\", \"smart\", \"smart\", \"smart\", \"smart\", \"smart\", \"smart\", \"smart\", \"smart\", \"smart\", \"smart\", \"smart\", \"smart\", \"smart\", \"smart\", \"smart\", \"smart\", \"smart\", \"smart\", \"smart\", \"smart\", \"smart\", \"smart\", \"smart\", \"smart\", \"smart\", \"smart\", \"smart\", \"smart\", \"smart\", \"smart\", \"smart\", \"smart\", \"smart\", \"smart\", \"smart\", \"smart\", \"smart\", \"smart\", \"smart\", \"smart\", \"smart\", \"smart\", \"smart\", \"smart\", \"smart\", \"smart\", \"smart\", \"smart\", \"smart\", \"smart\", \"smart\", \"smart\", \"smart\", \"smart\", \"smart\", \"smart\", \"smart\", \"smart\", \"smart\", \"smart\", \"smart\", \"smart\", \"smart\", \"smart\", \"smart\", \"smart\", \"smart\", \"smart\", \"smart\", \"smart\", \"smart\", \"smart\", \"smart\", \"smart\", \"smart\", \"smart\", \"smart\", \"smart\", \"smart\", \"smart\", \"smart\", \"smart\", \"smart\", \"smart\", \"smart\", \"smart\", \"smart\", \"smart\", \"smart\", \"smart\", \"smart\", \"smart\", \"smart\", \"smart\", \"smart\", \"smart\", \"smart\", \"smart\", \"smart\", \"smart\", \"smart\", \"smart\", \"smart\", \"smart\", \"smart\", \"smart\", \"smart\", \"smart\", \"smart\", \"smart\", \"smart\", \"smart\", \"smart\", \"smart\", \"smart\", \"smart\", \"smart\", \"smart\", \"smart\", \"smart\", \"smart\", \"smart\", \"smart\", \"smart\", \"smart\", \"smart\", \"smart\", \"smart\", \"smart\", \"smart\", \"smart\", \"smart\", \"smart\", \"smart\", \"smart\", \"smart\", \"smart\", \"smart\", \"smart\", \"smart\", \"smart\", \"smart\", \"smart\", \"smart\", \"smart\", \"smart\", \"smart\", \"smart\", \"smart\", \"smart\", \"smart\", \"smart\", \"smart\", \"smart\", \"smart\", \"smart\", \"smart\", \"smart\", \"smart\", \"smart\", \"smart\", \"smart\", \"smart\", \"smart\", \"smart\", \"smart\", \"smart\", \"smart\", \"smart\", \"smart\", \"smart\", \"smart\", \"smart\", \"smart\", \"smart\", \"smart\", \"smart\", \"smart\", \"smart\", \"smart\", \"smart\", \"smart\", \"smart\", \"smart\", \"smart\", \"smart\", \"smart\", \"smart\", \"smart\", \"smart\", \"smart\", \"smart\", \"smart\", \"smart\", \"smart\", \"smart\", \"smart\", \"smart\", \"smart\", \"smart\", \"smart\", \"smart\", \"smart\", \"smart\", \"smart\", \"smart\", \"smart\", \"smart\", \"smart\", \"smart\", \"smart\", \"smart\", \"smart\", \"smart\", \"smart\", \"smart\", \"smart\", \"smart\", \"smart\", \"smart\", \"smart\", \"smart\", \"smart\", \"smart\", \"smart\", \"smart\", \"smart\", \"smart\", \"smart\", \"smart\", \"smart\", \"smart\", \"smart\", \"smart\", \"smart\", \"smart\", \"smart\", \"smart\", \"smart\", \"smart\", \"smart\", \"smart\", \"smart\", \"smart\", \"smart\", \"smart\", \"smart\", \"smart\", \"smart\", \"smart\", \"smart\", \"smart\", \"smart\", \"smart\", \"smart\", \"smart\", \"smart\", \"smart\", \"smart\", \"smart\", \"smart\", \"smart\", \"smart\", \"smart\", \"smart\", \"smart\", \"smart\", \"smart\", \"smart\", \"smart\", \"smart\", \"smart\", \"smart\", \"smart\", \"smart\", \"smart\", \"smart\", \"smart\", \"smart\", \"smart\", \"smart\", \"smart\", \"smart\", \"smart\", \"smart\", \"smart\", \"smart\", \"smart\", \"smart\", \"smart\", \"smart\", \"smart\", \"smart\", \"smart\", \"smart\", \"smart\", \"smart\", \"smart\", \"smart\", \"smart\", \"smart\", \"smart\", \"smart\", \"smart\", \"smart\", \"smart\", \"smart\", \"smart\", \"smart\", \"smart\", \"smart\", \"smart\", \"smart\", \"smart\", \"smart\", \"smart\", \"smart\", \"smart\", \"smart\", \"smart\", \"smart\", \"smart\", \"smart\", \"smart\", \"smart\", \"smart\", \"smart\", \"smart\", \"smart\", \"smart\", \"smart\", \"smart\", \"smart\", \"smart\", \"smart\", \"smart\", \"smart\", \"smart\", \"smart\", \"smart\", \"smart\", \"smart\", \"smart\", \"smart\", \"smart\", \"smart\", \"smart\", \"smart\", \"smart\", \"smart\", \"smart\", \"smart\", \"smart\", \"smart\", \"smart\", \"smart\", \"smart\", \"smart\", \"smart\", \"smart\", \"smart\", \"smart\", \"smart\", \"smart\", \"smart\", \"smart\", \"smart\", \"smart\", \"smart\", \"smart\", \"smart\", \"smart\", \"smart\", \"smart\", \"smart\", \"smart\", \"smart\", \"smart\", \"smart\", \"smart\", \"smart\", \"smart\", \"smart\", \"smart\", \"smart\", \"smart\", \"smart\", \"smart\", \"smart\", \"smart\", \"smart\", \"smart\", \"smart\", \"smart\", \"smart\", \"smart\", \"smart\", \"smart\", \"smart\", \"smart\", \"smart\", \"smart\", \"smart\", \"smart\", \"smart\", \"smart\", \"smart\", \"smart\", \"smart\", \"smart\", \"smart\", \"smart\", \"smart\", \"smart\", \"smart\", \"smart\", \"smart\", \"smart\", \"smart\", \"smart\", \"smart\", \"smart\", \"smart\", \"smart\", \"smart\", \"smart\", \"smart\", \"smart\", \"smart\", \"smart\", \"smart\", \"smart\", \"smart\", \"smart\", \"smart\", \"smart\", \"smart\", \"smart\", \"smart\", \"smart\", \"smart\", \"smart\", \"smart\", \"smart\", \"smart\", \"smart\", \"smart\", \"smart\", \"smart\", \"smart\", \"smart\", \"smart\", \"smart\", \"smart\", \"smart\", \"smart\", \"smart\", \"smart\", \"smart\", \"smart\", \"smart\", \"smart\", \"smart\", \"smart\", \"smart\", \"smart\", \"smart\", \"smart\", \"smart\", \"smart\", \"smart\", \"smart\", \"smart\", \"smart\", \"smart\", \"smart\", \"smart\", \"smart\", \"smart\", \"smart\", \"smart\", \"smart\", \"smart\", \"smart\", \"smart\", \"smart\", \"smart\", \"smart\", \"smart\", \"smart\", \"smart\", \"smart\", \"smart\", \"smart\", \"smart\", \"smart\", \"smart\", \"smart\", \"smart\", \"smart\", \"smart\", \"smart\", \"smart\", \"smart\", \"smart\", \"smart\", \"smart\", \"smart\", \"smart\", \"smart\", \"smart\", \"smart\", \"smart\", \"smart\", \"smart\", \"smart\", \"smart\", \"smart\", \"smart\", \"smart\", \"smart\", \"smart\", \"smart\", \"smart\", \"smart\", \"smart\", \"smart\", \"smart\", \"smart\", \"smart\", \"smart\", \"smart\", \"smart\", \"smart\", \"smart\", \"smart\", \"smart\", \"smart\", \"smart\", \"smart\", \"smart\", \"smart\", \"smart\", \"smart\", \"smart\", \"smart\", \"smart\", \"smart\", \"smart\", \"smart\", \"smart\", \"smart\", \"smart\", \"smart\", \"smart\", \"smart\", \"smart\", \"smart\", \"smart\", \"smart\", \"smart\", \"smart\", \"smart\", \"smart\", \"smart\", \"smart\", \"smart\", \"smart\", \"smart\", \"smart\", \"smart\", \"smart\", \"smart\", \"smart\", \"smart\", \"smart\", \"smart\", \"smart\", \"smart\", \"smart\", \"smart\", \"smart\", \"smart\", \"smart\", \"smart\", \"smart\", \"smart\", \"smart\", \"smart\", \"smart\", \"smart\", \"smart\", \"smart\", \"smart\", \"smart\", \"smart\", \"smart\", \"smart\", \"smart\", \"smart\", \"smart\", \"smart\", \"smart\", \"smart\", \"smart\", \"smart\", \"smart\", \"smart\", \"smart\", \"smart\", \"smart\", \"smart\", \"smart\", \"smart\", \"smart\", \"smart\", \"smart\", \"smart\", \"smart\", \"smart\", \"smart\", \"smart\", \"smart\", \"smart\", \"smart\", \"smart\", \"smart\", \"smart\", \"smart\", \"smart\", \"smart\", \"smart\", \"smart\", \"smart\", \"smart\", \"smart\", \"smart\", \"smart\", \"smart\", \"smart\", \"smart\", \"smart\", \"smart\", \"smart\", \"smart\", \"smart\", \"smart\", \"smart\", \"smart\", \"smart\", \"smart\", \"smart\", \"smart\", \"smart\", \"smart\", \"smart\", \"smart\", \"smart\", \"smart\", \"smart\", \"smart\", \"smart\", \"smart\", \"smart\", \"smart\", \"smart\", \"smart\", \"smart\", \"smart\", \"smart\", \"smart\", \"smart\", \"smart\", \"smart\", \"smart\", \"smart\", \"smart\", \"smart\", \"smart\", \"smart\", \"smart\", \"smart\", \"smart\", \"smart\", \"smart\", \"smart\", \"smart\", \"smart\", \"smart\", \"smart\", \"smart\", \"smart\", \"smart\", \"smart\", \"smart\", \"smart\", \"smart\", \"smart\", \"smart\", \"smart\", \"smart\", \"smart\", \"smart\", \"smart\", \"smart\", \"smart\", \"smart\", \"smart\", \"smart\", \"smart\", \"smart\", \"smart\", \"smart\", \"smart\", \"smart\", \"smart\", \"smart\", \"smart\", \"smart\", \"smart\", \"smart\", \"smart\", \"smart\", \"smart\", \"smart\", \"smart\", \"smart\", \"smart\", \"smart\", \"smart\", \"smart\", \"smart\", \"smart\", \"smart\", \"smart\", \"smart\", \"smart\", \"smart\", \"smart\", \"smart\", \"smart\", \"smart\", \"smart\", \"smart\", \"smart\", \"smart\", \"smart\", \"smart\", \"smart\", \"smart\", \"smart\", \"smart\", \"smart\", \"smart\", \"smart\", \"smart\", \"smart\", \"smart\", \"smart\", \"smart\", \"smart\", \"smart\", \"smart\", \"smart\", \"smart\", \"smart\", \"smart\", \"smart\", \"smart\", \"smart\", \"smart\", \"smart\", \"smart\", \"smart\", \"smart\", \"smart\", \"smart\", \"smart\", \"smart\", \"smart\", \"smart\", \"smart\", \"smart\", \"smart\", \"smart\", \"smart\", \"smart\", \"smart\", \"smart\", \"smart\", \"smart\", \"smart\", \"smart\", \"smart\", \"smart\", \"smart\", \"smart\", \"smart\", \"smart\", \"smart\", \"smart\", \"smart\", \"smart\", \"smart\", \"smart\", \"smart\", \"smart\", \"smart\", \"smart\", \"smart\", \"smart\", \"smart\", \"smart\", \"smart\", \"smart\", \"smart\", \"smart\", \"smart\", \"smart\", \"smart\", \"smart\", \"smart\", \"smart\", \"smart\", \"smart\", \"smart\", \"smart\", \"smart\", \"smart\", \"smart\", \"smart\", \"smart\", \"smart\", \"smart\", \"smart\", \"smart\", \"smart\", \"smart\", \"smart\", \"smart\", \"smart\", \"smart\", \"smart\", \"smart\", \"smart\", \"smart\", \"smart\", \"smart\", \"smart\", \"smart\", \"smart\", \"smart\", \"smart\", \"smart\", \"smart\", \"smart\", \"smart\", \"smart\", \"smart\", \"smart\", \"smart\", \"smart\", \"smart\", \"smart\", \"smart\", \"smart\", \"smart\", \"smart\", \"smart\", \"smart\", \"smart\", \"smart\", \"smart\", \"smart\", \"smart\", \"smart\", \"smart\", \"smart\", \"smart\", \"smart\", \"smart\", \"smart\", \"smart\", \"smart\", \"smart\", \"smart\", \"smart\", \"smart\", \"smart\", \"smart\", \"smart\", \"smart\", \"smart\", \"smart\", \"smart\", \"smart\", \"smart\", \"smart\", \"smart\", \"smart\", \"smart\", \"smart\", \"smart\", \"smart\", \"smart\", \"smart\", \"smart\", \"smart\", \"smart\", \"smart\", \"smart\", \"smart\", \"smart\", \"smart\", \"smart\", \"smart\", \"smart\", \"smart\", \"smart\", \"smart\", \"smart\", \"smart\", \"smart\", \"smart\", \"smart\", \"smart\", \"smart\", \"smart\", \"smart\", \"smart\", \"smart\", \"smart\", \"smart\", \"smart\", \"smart\", \"smart\", \"smart\", \"smart\", \"smart\", \"smart\", \"smart\", \"smart\", \"smart\", \"smart\", \"smart\", \"smart\", \"smart\", \"smart\", \"smart\", \"smart\", \"smart\", \"smart\", \"smart\", \"smart\", \"smart\", \"smart\", \"smart\", \"smart\", \"smart\", \"smart\", \"smart\", \"smart\", \"smart\", \"smart\", \"smart\", \"smart\", \"smart\", \"smart\", \"smart\", \"smart\", \"smart\", \"smart\", \"smart\", \"smart\", \"smart\", \"smart\", \"smart\", \"smart\", \"smart\", \"smart\", \"smart\", \"smart\", \"smart\", \"smart\", \"smart\", \"smart\", \"smart\", \"smart\", \"smart\", \"smart\", \"smart\", \"smart\", \"smart\", \"smart\", \"smart\", \"smart\", \"smart\", \"smart\", \"smart\", \"smart\", \"smart\", \"smart\", \"smart\", \"smart\", \"smart\", \"smart\", \"smart\", \"smart\", \"smart\", \"smart\", \"smart\", \"smart\", \"smart\", \"smart\", \"smart\", \"smart\", \"smart\", \"smart\", \"smart\", \"smart\", \"smart\", \"smart\", \"smart\", \"smart\", \"smart\", \"smart\", \"smart\", \"smart\", \"smart\", \"smart\", \"smart\", \"smart\", \"smart\", \"smart\", \"smart\", \"smart\", \"smart\", \"smart\", \"smart\", \"smart\", \"smart\", \"smart\", \"smart\", \"smart\", \"smart\", \"smart\", \"smart\", \"smart\", \"smart\", \"smart\", \"smart\", \"smart\", \"smart\", \"smart\", \"smart\", \"smart\", \"smart\", \"smart\", \"smart\", \"smart\", \"smart\", \"smart\", \"smart\", \"smart\", \"smart\", \"smart\", \"smart\", \"smart\", \"smart\", \"smart\", \"smart\", \"smart\", \"smart\", \"smart\", \"smart\", \"smart\", \"smart\", \"smart\", \"smart\", \"smart\", \"smart\", \"smart\", \"smart\", \"smart\", \"smart\", \"smart\", \"smart\", \"smart\", \"smart\", \"smart\", \"smart\", \"smart\", \"smart\", \"smart\", \"smart\", \"smart\", \"smart\", \"smart\", \"smart\", \"smart\", \"smart\", \"smart\", \"smart\", \"smart\", \"smart\", \"smart\", \"smart\", \"smart\", \"smart\", \"smart\", \"smart\", \"smart\", \"smart\", \"smart\", \"smart\", \"smart\", \"smart\", \"smart\", \"smart\", \"smart\", \"smart\", \"smart\", \"smart\", \"smart\", \"smart\", \"smart\", \"smart\", \"smart\", \"smart\", \"smart\", \"smart\", \"smart\", \"smart\", \"smart\", \"smart\", \"smart\", \"smart\", \"smart\", \"smart\", \"smart\", \"smart\", \"smart\", \"smart\", \"smart\", \"smart\", \"smart\", \"smart\", \"smart\", \"smart\", \"smart\", \"smart\", \"smart\", \"smart\", \"smart\", \"smart\", \"smart\", \"smart\", \"smart\", \"smart\", \"smart\", \"smart\", \"smart\", \"smart\", \"smart\", \"smart\", \"smart\", \"smart\", \"smart\", \"smart\", \"smart\", \"smart\", \"smart\", \"smart\", \"smart\", \"smart\", \"smart\", \"smart\", \"smart\", \"smart\", \"smart\", \"smart\", \"smart\", \"smart\", \"smart\", \"smart\", \"smart\", \"smart\", \"smart\", \"smart\", \"smart\", \"smart\", \"smart\", \"smart\", \"smart\", \"smart\", \"smart\", \"smart\", \"smart\", \"smart\", \"smart\"], \"x0\": \" \", \"xaxis\": \"x\", \"y\": [430, 414, 289, 236, 214, 117, 243, 212, 206, 547, 95, 456, 479, 723, 606, 569, 612, 592, 712, 619, 595, 42, 267, 372, 286, 370, 360, 316, 379, 356, 275, 478, 655, 465, 580, 480, 545, 421, 198, 458, 577, 339, 109, 133, 290, 170, 213, 183, 229, 324, 249, 289, 142, 336, 290, 245, 142, 472, 630, 212, 437, 501, 502, 361, 371, 515, 327, 230, 451, 206, 13, 316, 219, 356, 345, 157, 223, 250, 332, 102, 237, 300, 241, 180, 175, 394, 11, 499, 556, 401, 454, 577, 486, 430, 366, 463, 329, 111, 461, 444, 389, 341, 674, 239, 340, 267, 557, 512, 156, 563, 444, 464, 503, 577, 548, 552, 323, 653, 514, 531, 469, 535, 373, 348, 388, 623, 441, 477, 516, 379, 474, 891, 679, 609, 422, 439, 413, 109, 345, 328, 393, 426, 313, 562, 665, 380, 371, 507, 385, 410, 487, 415, 402, 482, 521, 446, 512, 411, 375, 425, 311, 231, 345, 170, 350, 549, 730, 250, 303, 608, 427, 420, 398, 494, 493, 467, 424, 430, 530, 285, 554, 669, 408, 341, 304, 344, 272, 342, 254, 287, 437, 348, 357, 379, 207, 861, 12, 728, 133, 512, 403, 295, 537, 297, 252, 385, 364, 254, 308, 246, 369, 338, 390, 229, 299, 285, 273, 290, 189, 185, 256, 219, 222, 229, 9, 504, 443, 555, 545, 228, 822, 762, 109, 311, 123, 59, 348, 398, 517, 706, 859, 98, 682, 906, 816, 672, 708, 237, 737, 654, 627, 595, 564, 605, 527, 314, 551, 440, 465, 347, 558, 518, 445, 597, 391, 380, 449, 338, 300, 193, 425, 382, 462, 140, 701, 720, 557, 724, 586, 671, 705, 566, 726, 330, 721, 627, 563, 588, 768, 309, 639, 481, 290, 405, 479, 277, 479, 166, 437, 313, 337, 363, 402, 326, 507, 539, 522, 480, 561, 450, 134, 501, 573, 415, 587, 448, 715, 184, 685, 539, 673, 477, 554, 491, 480, 390, 383, 386, 633, 387, 622, 516, 312, 433, 575, 564, 349, 514, 252, 187, 280, 380, 283, 194, 401, 313, 321, 281, 229, 365, 137, 439, 554, 385, 617, 281, 342, 338, 494, 517, 601, 461, 533, 334, 580, 532, 466, 528, 447, 567, 529, 475, 490, 297, 541, 598, 524, 205, 686, 784, 653, 578, 592, 607, 162, 560, 345, 603, 267, 108, 303, 610, 548, 549, 480, 455, 414, 122, 505, 542, 510, 561, 509, 436, 95, 529, 510, 566, 467, 349, 328, 477, 277, 385, 364, 326, 344, 427, 309, 470, 439, 258, 212, 421, 295, 411, 930, 856, 825, 789, 843, 59, 600, 540, 595, 456, 540, 101, 493, 588, 431, 637, 578, 529, 530, 553, 461, 544, 198, 617, 530, 575, 535, 538, 723, 540, 568, 362, 278, 538, 606, 423, 448, 270, 26, 310, 461, 224, 352, 330, 274, 63, 164, 231, 324, 382, 426, 423, 669, 522, 471, 485, 504, 99, 480, 391, 423, 365, 402, 366, 520, 390, 348, 363, 347, 532, 549, 431, 544, 466, 110, 530, 543, 638, 673, 501, 561, 692, 710, 785, 654, 628, 381, 418, 449, 80, 397, 406, 628, 70, 437, 495, 652, 622, 168, 306, 272, 286, 370, 326, 288, 366, 420, 282, 752, 747, 626, 839, 681, 582, 547, 567, 581, 766, 280, 171, 254, 277, 214, 65, 272, 243, 194, 365, 531, 509, 584, 290, 448, 420, 513, 591, 673, 548, 546, 476, 234, 764, 585, 704, 561, 317, 393, 219, 332, 208, 173, 189, 272, 249, 234, 209, 308, 402, 452, 648, 394, 583, 499, 577, 521, 449, 580, 389, 263, 671, 567, 544, 609, 224, 690, 648, 419, 527, 333, 543, 518, 385, 461, 596, 332, 458, 468, 549, 427, 346, 378, 359, 382, 654, 564, 442, 535, 346, 90, 439, 147, 471, 705, 701, 562, 526, 483, 527, 859, 360, 572, 571, 211, 354, 515, 465, 457, 478, 81, 475, 437, 468, 503, 516, 416, 523, 541, 468, 398, 388, 32, 349, 524, 454, 497, 367, 508, 397, 520, 348, 523, 634, 499, 126, 532, 496, 438, 424, 471, 266, 243, 340, 247, 373, 382, 156, 173, 242, 159, 243, 261, 281, 68, 648, 329, 624, 275, 197, 169, 280, 193, 185, 279, 337, 554, 265, 288, 350, 371, 289, 360, 401, 318, 503, 258, 450, 419, 352, 491, 322, 448, 464, 408, 416, 540, 90, 468, 322, 339, 371, 363, 546, 399, 377, 262, 411, 291, 734, 85, 365, 342, 336, 405, 307, 411, 390, 307, 39, 296, 417, 254, 197, 112, 231, 395, 281, 353, 264, 309, 332, 391, 319, 423, 262, 457, 281, 384, 72, 415, 453, 400, 703, 694, 715, 158, 572, 640, 679, 489, 656, 646, 747, 408, 414, 401, 541, 282, 537, 356, 460, 1000, 599, 755, 307, 811, 841, 484, 785, 604, 118, 666, 530, 501, 645, 519, 712, 612, 603, 369, 219, 360, 366, 258, 131, 359, 279, 291, 436, 288, 485, 353, 399, 187, 192, 325, 321, 432, 395, 400, 409, 415, 570, 454, 341, 126, 479, 422, 611, 532, 415, 256, 328, 561, 404, 477, 373, 223, 631, 579, 552, 440, 495, 532, 351, 109, 579, 536, 421, 369, 564, 326, 323, 319, 265, 278, 606, 443, 613, 501, 659, 589, 573, 412, 569, 668, 546, 332, 560, 401, 78, 353, 34, 35, 46, 39, 7, 19, 46, 51, 22, 50, 39, 629, 615, 454, 696, 751, 642, 568, 717, 555, 51, 550, 613, 445, 523, 41, 18, 395, 452, 490, 612, 551, 420, 388, 542, 459, 433, 439, 486, 518, 416, 403, 342, 433, 416, 493, 495, 537, 489, 220, 539, 497, 351, 476, 98, 419, 469, 890, 511, 434, 675, 75, 363, 378, 287, 406, 357, 486, 268, 416, 325, 327, 550, 239, 305, 367, 324, 219, 214, 125, 106, 312, 530, 392, 580, 246, 390, 322, 298, 291, 336, 252, 276, 409, 604, 522, 72, 621, 602, 680, 281, 448, 406, 152, 360, 330, 315, 299, 443, 695, 401, 615, 263, 492, 313, 455, 432, 335, 405, 352, 353, 217, 567, 356, 329, 1435, 348, 418, 72, 600, 607, 559, 519, 466, 495, 463, 455, 556, 617, 378, 268, 353, 471, 387, 146, 343, 508, 518, 452, 453, 467, 524, 463, 457, 447, 249, 766, 236, 256, 138, 221, 114, 348, 272, 208, 651, 705, 476, 590, 600, 425, 442, 559, 143, 505, 546, 548, 619, 634, 681, 731, 599, 615, 620, 602, 471, 698, 611, 487, 208, 482, 513, 411, 410, 428, 576, 82, 672, 1022, 280, 447, 356, 317, 233, 234, 605, 661, 671, 620, 496, 193, 663, 681, 491, 481, 663, 557, 415, 590, 73, 55, 55, 167, 127, 57, 36, 112, 16, 68, 19, 98, 471, 463, 490, 477, 310, 648, 380, 263, 194, 222, 343, 134, 137, 178, 249, 159, 192, 272, 375, 470, 589, 376, 338, 574, 515, 70, 414, 314, 350, 401, 393, 179, 644, 541, 489, 361, 487, 726, 727, 105, 875, 740, 808, 667, 636, 231, 127, 234, 226, 210, 386, 402, 306, 517, 497, 544, 387, 446, 487, 407, 457, 433, 443, 437, 427, 476, 600, 206, 449, 440, 532, 622, 499, 662, 68, 219, 739, 872, 260, 518, 873, 716, 738, 1074, 9, 313, 472, 454, 329, 419, 174, 433, 309, 362, 381, 606, 732, 653, 21, 755, 711, 677, 772, 476, 95, 444, 357, 464, 341, 349, 416, 464, 451, 305, 558, 136, 376, 450, 339, 787, 539, 535, 612, 636, 460, 13, 353, 294, 251, 316, 396, 269, 365, 245, 145, 272, 268, 389, 709, 418, 415, 432, 493, 728, 479, 439, 120, 364, 523, 380, 348, 347, 470, 361, 451, 663, 567, 606, 516, 413, 267, 479, 354, 603, 619, 532, 779, 672, 748, 656, 637, 822, 747, 903, 836, 725, 349, 747, 701, 154, 264, 150, 154, 659, 474, 462, 472, 434, 631, 261, 407, 533, 485, 440, 380, 327, 380, 274, 387, 312, 234, 365, 315, 79, 47, 739, 508, 576, 475, 94, 576, 630, 505, 312, 441, 500, 520, 423, 437, 452, 643, 452, 584, 487, 550, 704, 544, 451, 630, 544, 556, 526, 468, 148, 174, 182, 77, 297, 156, 240, 226, 316, 267, 253, 340, 252, 336, 404, 514, 469, 108, 634, 494, 560, 457, 443, 494, 401, 436, 395, 520, 714, 418, 332, 353, 85, 65, 595, 575, 525, 210, 182, 306, 190, 173, 171, 241, 252, 197, 76, 257, 194, 645, 131, 704, 20, 484, 726, 705, 737, 658, 558, 663, 553, 578, 175, 213, 337, 159, 204, 207, 144, 197, 243, 225, 261, 250, 316, 354, 300, 241, 270, 533, 582, 474, 613, 24, 488, 964, 853, 280, 433, 440, 483, 586, 370, 588, 406, 435, 533, 519, 458, 489, 350, 352, 565, 513, 771, 60, 659, 709, 456, 641, 472, 678, 729, 305, 868, 706, 1005, 293, 329, 260, 429, 408, 509, 351, 340, 456, 372, 345, 427, 450, 411, 258, 645, 589, 583, 342, 545, 481, 538, 499, 539, 782, 754, 719, 757, 136, 838, 535, 715, 32, 395, 292, 277, 273, 298, 370, 291, 510, 462, 214, 405, 357, 459, 503, 421, 303, 600, 475, 455, 541, 422, 500, 497, 603, 36, 396, 507, 386, 116, 188, 97, 150, 197, 94, 111, 154, 241, 170, 215, 121, 161, 282, 151, 153, 186, 186, 180, 151, 176, 301, 617, 539, 672, 417, 464, 394, 535, 437, 495, 539, 352, 408, 425, 25, 479, 604, 619, 327, 153, 296, 284, 170, 267, 330, 281, 346, 398, 905, 329, 483, 116, 374, 385, 374, 348, 342, 300, 148, 275, 263, 304, 556, 345, 335, 349, 119, 321, 330, 489, 342, 573, 531, 610, 621, 480, 660, 500, 561, 129, 614, 607, 681, 726, 110, 741, 671, 521, 507, 522, 315, 532, 505, 43, 618, 782, 254, 155, 166, 254, 229, 143, 223, 403, 159, 219, 174, 208, 90, 108, 158, 227, 123, 473, 478, 462, 437, 547, 291, 114, 515, 448, 466, 560, 380, 15, 11, 13, 22, 20, 23, 23, 7, 2, 564, 558, 462, 495, 478, 550, 463, 617, 391, 583, 453, 396, 291, 490, 454, 373, 2, 230, 447, 572, 563, 517, 486, 529, 421, 437, 453, 457, 548, 285, 262, 101, 682, 85, 682, 618, 608, 737, 673, 667, 707, 238, 492, 396, 432, 352, 360, 516, 421, 481, 107, 506, 389, 292, 189, 263, 329, 257, 198, 185, 2, 230, 224, 183, 554, 651, 487, 518, 574, 604, 636, 566, 171, 560, 680, 390, 559, 461, 439, 480, 455, 428, 497, 440, 463, 511, 238, 541, 665, 657, 668, 544, 637, 589, 627, 503, 584, 492, 446, 310, 617, 200, 606, 453, 511, 470, 315, 351, 390, 463, 438, 473, 349, 402, 343, 354, 153, 275, 162, 105, 133, 142, 196, 142, 226, 209, 290, 149, 291, 239, 242, 397, 541, 525, 597, 95, 614, 624, 750, 549, 655, 750, 846, 753, 667, 643, 635, 734, 515, 733, 252, 449, 555, 402, 51, 601, 587, 584, 386, 793, 588, 63, 187, 136, 193, 169, 397, 308, 371, 338, 361, 201, 318, 302, 177, 369, 333, 441, 346, 368, 413, 412, 161, 649, 538, 206, 456, 465, 584, 83, 231, 199, 210, 242, 279, 389, 379, 335, 359, 282, 285, 253, 414, 74, 277, 412, 252, 198, 198, 174, 271, 61, 175, 203, 228, 219, 224, 227, 131, 653, 525, 646, 728, 667, 820, 722, 585, 733, 766, 49, 464, 570, 510, 637, 577, 418, 608, 537, 700, 515, 482, 542, 561, 66, 382, 399, 428, 414, 240, 138, 332, 188, 241, 379, 204, 161, 261, 357, 273, 70, 278, 89, 163, 318, 266, 265, 196, 358, 299, 214, 727, 650, 750, 359, 619, 527, 520, 406, 516, 503, 508, 554, 627, 503, 452, 712, 660, 560, 358, 309, 463, 318, 401, 215, 318, 403, 204, 298, 234, 199, 174, 297, 330, 335, 353, 307, 290, 488, 452, 10, 409, 586, 487, 329, 182, 80, 761, 965, 407, 611, 575, 631, 508, 289, 642, 424, 50, 421, 644, 652, 436, 750, 254, 526, 457, 471, 547, 576, 241, 648, 532, 655, 495, 321, 427, 118, 1144, 729, 843, 779, 432, 450, 491, 514, 520, 519, 381, 543, 444, 409, 152, 930, 889, 889, 756, 506, 516, 494, 441, 494, 472, 371, 490, 515, 335, 662, 427, 488, 756, 611, 711, 954, 466, 537, 671, 534, 613, 94, 878, 933, 529, 490, 694, 555, 585, 597, 631, 542, 237, 616, 402, 554, 247, 592, 660, 609, 449, 736, 636, 492, 406, 233, 216, 280, 211, 138, 287, 276, 195, 177, 137, 492, 508, 255, 625, 606, 486, 581, 605, 468, 552, 461, 294, 669, 456, 590, 172, 243, 286, 230, 130, 208, 234, 291, 238, 204, 255, 211, 751, 708, 531, 601, 602, 797, 630, 121, 695, 187, 290, 249, 291, 305, 174, 799, 396, 576, 666, 465, 640, 305, 425, 494, 550, 471, 547, 222, 388, 361, 356, 223, 269, 272, 297, 279, 312, 36, 382, 460, 444, 331, 294, 275, 245, 246, 360, 265, 303, 238, 24, 865, 784, 366, 691, 686, 731, 470, 645, 613, 529, 369, 334, 292, 345, 1007, 764, 38, 180, 87, 155, 227, 98, 403, 444, 339, 346, 270, 290, 250, 330, 282, 312, 322, 84, 603, 694, 619, 510, 517, 781, 501, 262, 418, 411, 354, 527, 521, 518, 582, 555, 484, 662, 450, 594, 48, 557, 486, 545, 371, 490, 400, 175, 247, 471, 492, 612, 70, 449], \"y0\": \" \", \"yaxis\": \"y\"}],\n",
              "                        {\"legend\": {\"tracegroupgap\": 0}, \"template\": {\"data\": {\"bar\": [{\"error_x\": {\"color\": \"#2a3f5f\"}, \"error_y\": {\"color\": \"#2a3f5f\"}, \"marker\": {\"line\": {\"color\": \"#E5ECF6\", \"width\": 0.5}}, \"type\": \"bar\"}], \"barpolar\": [{\"marker\": {\"line\": {\"color\": \"#E5ECF6\", \"width\": 0.5}}, \"type\": \"barpolar\"}], \"carpet\": [{\"aaxis\": {\"endlinecolor\": \"#2a3f5f\", \"gridcolor\": \"white\", \"linecolor\": \"white\", \"minorgridcolor\": \"white\", \"startlinecolor\": \"#2a3f5f\"}, \"baxis\": {\"endlinecolor\": \"#2a3f5f\", \"gridcolor\": \"white\", \"linecolor\": \"white\", \"minorgridcolor\": \"white\", \"startlinecolor\": \"#2a3f5f\"}, \"type\": \"carpet\"}], \"choropleth\": [{\"colorbar\": {\"outlinewidth\": 0, \"ticks\": \"\"}, \"type\": \"choropleth\"}], \"contour\": [{\"colorbar\": {\"outlinewidth\": 0, \"ticks\": \"\"}, \"colorscale\": [[0.0, \"#0d0887\"], [0.1111111111111111, \"#46039f\"], [0.2222222222222222, \"#7201a8\"], [0.3333333333333333, \"#9c179e\"], [0.4444444444444444, \"#bd3786\"], [0.5555555555555556, \"#d8576b\"], [0.6666666666666666, \"#ed7953\"], [0.7777777777777778, \"#fb9f3a\"], [0.8888888888888888, \"#fdca26\"], [1.0, \"#f0f921\"]], \"type\": \"contour\"}], \"contourcarpet\": [{\"colorbar\": {\"outlinewidth\": 0, \"ticks\": \"\"}, \"type\": \"contourcarpet\"}], \"heatmap\": [{\"colorbar\": {\"outlinewidth\": 0, \"ticks\": \"\"}, \"colorscale\": [[0.0, \"#0d0887\"], [0.1111111111111111, \"#46039f\"], [0.2222222222222222, \"#7201a8\"], [0.3333333333333333, \"#9c179e\"], [0.4444444444444444, \"#bd3786\"], [0.5555555555555556, \"#d8576b\"], [0.6666666666666666, \"#ed7953\"], [0.7777777777777778, \"#fb9f3a\"], [0.8888888888888888, \"#fdca26\"], [1.0, \"#f0f921\"]], \"type\": \"heatmap\"}], \"heatmapgl\": [{\"colorbar\": {\"outlinewidth\": 0, \"ticks\": \"\"}, \"colorscale\": [[0.0, \"#0d0887\"], [0.1111111111111111, \"#46039f\"], [0.2222222222222222, \"#7201a8\"], [0.3333333333333333, \"#9c179e\"], [0.4444444444444444, \"#bd3786\"], [0.5555555555555556, \"#d8576b\"], [0.6666666666666666, \"#ed7953\"], [0.7777777777777778, \"#fb9f3a\"], [0.8888888888888888, \"#fdca26\"], [1.0, \"#f0f921\"]], \"type\": \"heatmapgl\"}], \"histogram\": [{\"marker\": {\"colorbar\": {\"outlinewidth\": 0, \"ticks\": \"\"}}, \"type\": \"histogram\"}], \"histogram2d\": [{\"colorbar\": {\"outlinewidth\": 0, \"ticks\": \"\"}, \"colorscale\": [[0.0, \"#0d0887\"], [0.1111111111111111, \"#46039f\"], [0.2222222222222222, \"#7201a8\"], [0.3333333333333333, \"#9c179e\"], [0.4444444444444444, \"#bd3786\"], [0.5555555555555556, \"#d8576b\"], [0.6666666666666666, \"#ed7953\"], [0.7777777777777778, \"#fb9f3a\"], [0.8888888888888888, \"#fdca26\"], [1.0, \"#f0f921\"]], \"type\": \"histogram2d\"}], \"histogram2dcontour\": [{\"colorbar\": {\"outlinewidth\": 0, \"ticks\": \"\"}, \"colorscale\": [[0.0, \"#0d0887\"], [0.1111111111111111, \"#46039f\"], [0.2222222222222222, \"#7201a8\"], [0.3333333333333333, \"#9c179e\"], [0.4444444444444444, \"#bd3786\"], [0.5555555555555556, \"#d8576b\"], [0.6666666666666666, \"#ed7953\"], [0.7777777777777778, \"#fb9f3a\"], [0.8888888888888888, \"#fdca26\"], [1.0, \"#f0f921\"]], \"type\": \"histogram2dcontour\"}], \"mesh3d\": [{\"colorbar\": {\"outlinewidth\": 0, \"ticks\": \"\"}, \"type\": \"mesh3d\"}], \"parcoords\": [{\"line\": {\"colorbar\": {\"outlinewidth\": 0, \"ticks\": \"\"}}, \"type\": \"parcoords\"}], \"pie\": [{\"automargin\": true, \"type\": \"pie\"}], \"scatter\": [{\"marker\": {\"colorbar\": {\"outlinewidth\": 0, \"ticks\": \"\"}}, \"type\": \"scatter\"}], \"scatter3d\": [{\"line\": {\"colorbar\": {\"outlinewidth\": 0, \"ticks\": \"\"}}, \"marker\": {\"colorbar\": {\"outlinewidth\": 0, \"ticks\": \"\"}}, \"type\": \"scatter3d\"}], \"scattercarpet\": [{\"marker\": {\"colorbar\": {\"outlinewidth\": 0, \"ticks\": \"\"}}, \"type\": \"scattercarpet\"}], \"scattergeo\": [{\"marker\": {\"colorbar\": {\"outlinewidth\": 0, \"ticks\": \"\"}}, \"type\": \"scattergeo\"}], \"scattergl\": [{\"marker\": {\"colorbar\": {\"outlinewidth\": 0, \"ticks\": \"\"}}, \"type\": \"scattergl\"}], \"scattermapbox\": [{\"marker\": {\"colorbar\": {\"outlinewidth\": 0, \"ticks\": \"\"}}, \"type\": \"scattermapbox\"}], \"scatterpolar\": [{\"marker\": {\"colorbar\": {\"outlinewidth\": 0, \"ticks\": \"\"}}, \"type\": \"scatterpolar\"}], \"scatterpolargl\": [{\"marker\": {\"colorbar\": {\"outlinewidth\": 0, \"ticks\": \"\"}}, \"type\": \"scatterpolargl\"}], \"scatterternary\": [{\"marker\": {\"colorbar\": {\"outlinewidth\": 0, \"ticks\": \"\"}}, \"type\": \"scatterternary\"}], \"surface\": [{\"colorbar\": {\"outlinewidth\": 0, \"ticks\": \"\"}, \"colorscale\": [[0.0, \"#0d0887\"], [0.1111111111111111, \"#46039f\"], [0.2222222222222222, \"#7201a8\"], [0.3333333333333333, \"#9c179e\"], [0.4444444444444444, \"#bd3786\"], [0.5555555555555556, \"#d8576b\"], [0.6666666666666666, \"#ed7953\"], [0.7777777777777778, \"#fb9f3a\"], [0.8888888888888888, \"#fdca26\"], [1.0, \"#f0f921\"]], \"type\": \"surface\"}], \"table\": [{\"cells\": {\"fill\": {\"color\": \"#EBF0F8\"}, \"line\": {\"color\": \"white\"}}, \"header\": {\"fill\": {\"color\": \"#C8D4E3\"}, \"line\": {\"color\": \"white\"}}, \"type\": \"table\"}]}, \"layout\": {\"annotationdefaults\": {\"arrowcolor\": \"#2a3f5f\", \"arrowhead\": 0, \"arrowwidth\": 1}, \"coloraxis\": {\"colorbar\": {\"outlinewidth\": 0, \"ticks\": \"\"}}, \"colorscale\": {\"diverging\": [[0, \"#8e0152\"], [0.1, \"#c51b7d\"], [0.2, \"#de77ae\"], [0.3, \"#f1b6da\"], [0.4, \"#fde0ef\"], [0.5, \"#f7f7f7\"], [0.6, \"#e6f5d0\"], [0.7, \"#b8e186\"], [0.8, \"#7fbc41\"], [0.9, \"#4d9221\"], [1, \"#276419\"]], \"sequential\": [[0.0, \"#0d0887\"], [0.1111111111111111, \"#46039f\"], [0.2222222222222222, \"#7201a8\"], [0.3333333333333333, \"#9c179e\"], [0.4444444444444444, \"#bd3786\"], [0.5555555555555556, \"#d8576b\"], [0.6666666666666666, \"#ed7953\"], [0.7777777777777778, \"#fb9f3a\"], [0.8888888888888888, \"#fdca26\"], [1.0, \"#f0f921\"]], \"sequentialminus\": [[0.0, \"#0d0887\"], [0.1111111111111111, \"#46039f\"], [0.2222222222222222, \"#7201a8\"], [0.3333333333333333, \"#9c179e\"], [0.4444444444444444, \"#bd3786\"], [0.5555555555555556, \"#d8576b\"], [0.6666666666666666, \"#ed7953\"], [0.7777777777777778, \"#fb9f3a\"], [0.8888888888888888, \"#fdca26\"], [1.0, \"#f0f921\"]]}, \"colorway\": [\"#636efa\", \"#EF553B\", \"#00cc96\", \"#ab63fa\", \"#FFA15A\", \"#19d3f3\", \"#FF6692\", \"#B6E880\", \"#FF97FF\", \"#FECB52\"], \"font\": {\"color\": \"#2a3f5f\"}, \"geo\": {\"bgcolor\": \"white\", \"lakecolor\": \"white\", \"landcolor\": \"#E5ECF6\", \"showlakes\": true, \"showland\": true, \"subunitcolor\": \"white\"}, \"hoverlabel\": {\"align\": \"left\"}, \"hovermode\": \"closest\", \"mapbox\": {\"style\": \"light\"}, \"paper_bgcolor\": \"white\", \"plot_bgcolor\": \"#E5ECF6\", \"polar\": {\"angularaxis\": {\"gridcolor\": \"white\", \"linecolor\": \"white\", \"ticks\": \"\"}, \"bgcolor\": \"#E5ECF6\", \"radialaxis\": {\"gridcolor\": \"white\", \"linecolor\": \"white\", \"ticks\": \"\"}}, \"scene\": {\"xaxis\": {\"backgroundcolor\": \"#E5ECF6\", \"gridcolor\": \"white\", \"gridwidth\": 2, \"linecolor\": \"white\", \"showbackground\": true, \"ticks\": \"\", \"zerolinecolor\": \"white\"}, \"yaxis\": {\"backgroundcolor\": \"#E5ECF6\", \"gridcolor\": \"white\", \"gridwidth\": 2, \"linecolor\": \"white\", \"showbackground\": true, \"ticks\": \"\", \"zerolinecolor\": \"white\"}, \"zaxis\": {\"backgroundcolor\": \"#E5ECF6\", \"gridcolor\": \"white\", \"gridwidth\": 2, \"linecolor\": \"white\", \"showbackground\": true, \"ticks\": \"\", \"zerolinecolor\": \"white\"}}, \"shapedefaults\": {\"line\": {\"color\": \"#2a3f5f\"}}, \"ternary\": {\"aaxis\": {\"gridcolor\": \"white\", \"linecolor\": \"white\", \"ticks\": \"\"}, \"baxis\": {\"gridcolor\": \"white\", \"linecolor\": \"white\", \"ticks\": \"\"}, \"bgcolor\": \"#E5ECF6\", \"caxis\": {\"gridcolor\": \"white\", \"linecolor\": \"white\", \"ticks\": \"\"}}, \"title\": {\"x\": 0.05}, \"xaxis\": {\"automargin\": true, \"gridcolor\": \"white\", \"linecolor\": \"white\", \"ticks\": \"\", \"title\": {\"standoff\": 15}, \"zerolinecolor\": \"white\", \"zerolinewidth\": 2}, \"yaxis\": {\"automargin\": true, \"gridcolor\": \"white\", \"linecolor\": \"white\", \"ticks\": \"\", \"title\": {\"standoff\": 15}, \"zerolinecolor\": \"white\", \"zerolinewidth\": 2}}}, \"title\": {\"text\": \"\\u0421\\u043a\\u0440\\u0438\\u043f\\u0438\\u0447\\u043d\\u0430\\u044f \\u0434\\u0438\\u0430\\u0433\\u0440\\u0430\\u043c\\u043c\\u0430 \\u0432\\u0440\\u0435\\u043c\\u0435\\u043d\\u0438 \\u0440\\u0430\\u0437\\u0433\\u043e\\u0432\\u043e\\u0440\\u0430\"}, \"violinmode\": \"group\", \"xaxis\": {\"anchor\": \"y\", \"categoryarray\": [\"ultra\", \"smart\"], \"categoryorder\": \"array\", \"domain\": [0.0, 1.0], \"title\": {\"text\": \"\\u0422\\u0430\\u0440\\u0438\\u0444\"}}, \"yaxis\": {\"anchor\": \"x\", \"domain\": [0.0, 1.0], \"title\": {\"text\": \"\\u041f\\u0440\\u043e\\u0434\\u043e\\u043b\\u0436\\u0438\\u0442\\u0435\\u043b\\u044c\\u043d\\u043e\\u0441\\u0442\\u044c \\u0440\\u0430\\u0437\\u0433\\u043e\\u0432\\u043e\\u0440\\u0430\"}}},\n",
              "                        {\"responsive\": true}\n",
              "                    ).then(function(){\n",
              "                            \n",
              "var gd = document.getElementById('8f24f2de-ecdb-40c5-af7e-a55def80e302');\n",
              "var x = new MutationObserver(function (mutations, observer) {{\n",
              "        var display = window.getComputedStyle(gd).display;\n",
              "        if (!display || display === 'none') {{\n",
              "            console.log([gd, 'removed!']);\n",
              "            Plotly.purge(gd);\n",
              "            observer.disconnect();\n",
              "        }}\n",
              "}});\n",
              "\n",
              "// Listen for the removal of the full notebook cells\n",
              "var notebookContainer = gd.closest('#notebook-container');\n",
              "if (notebookContainer) {{\n",
              "    x.observe(notebookContainer, {childList: true});\n",
              "}}\n",
              "\n",
              "// Listen for the clearing of the current output cell\n",
              "var outputEl = gd.closest('.output');\n",
              "if (outputEl) {{\n",
              "    x.observe(outputEl, {childList: true});\n",
              "}}\n",
              "\n",
              "                        })\n",
              "                };\n",
              "                \n",
              "            </script>\n",
              "        </div>\n",
              "</body>\n",
              "</html>"
            ]
          },
          "metadata": {
            "tags": []
          }
        }
      ]
    },
    {
      "cell_type": "code",
      "metadata": {
        "colab": {
          "base_uri": "https://localhost:8080/",
          "height": 142
        },
        "id": "gekk_ChsO-6E",
        "outputId": "e219f65a-7809-46dd-c985-56f3f0696ca9"
      },
      "source": [
        "# посчитаем среднее, стандартное отклонение, дисперсию и медиану для длительности звонков по тарифам\n",
        "# для var ddof по умолчанию уже равен 1 (для выборки)\n",
        "\n",
        "mc_call = mobile_customers.pivot_table(index='tariff',  \n",
        "                 values='duration_of_calls', \n",
        "                 aggfunc=['mean', 'std', 'var', 'median'])\n",
        "mc_call.columns = ['mean', 'std', 'var', 'median']\n",
        "mc_call"
      ],
      "execution_count": null,
      "outputs": [
        {
          "output_type": "execute_result",
          "data": {
            "text/html": [
              "<div>\n",
              "<style scoped>\n",
              "    .dataframe tbody tr th:only-of-type {\n",
              "        vertical-align: middle;\n",
              "    }\n",
              "\n",
              "    .dataframe tbody tr th {\n",
              "        vertical-align: top;\n",
              "    }\n",
              "\n",
              "    .dataframe thead th {\n",
              "        text-align: right;\n",
              "    }\n",
              "</style>\n",
              "<table border=\"1\" class=\"dataframe\">\n",
              "  <thead>\n",
              "    <tr style=\"text-align: right;\">\n",
              "      <th></th>\n",
              "      <th>mean</th>\n",
              "      <th>std</th>\n",
              "      <th>var</th>\n",
              "      <th>median</th>\n",
              "    </tr>\n",
              "    <tr>\n",
              "      <th>tariff</th>\n",
              "      <th></th>\n",
              "      <th></th>\n",
              "      <th></th>\n",
              "      <th></th>\n",
              "    </tr>\n",
              "  </thead>\n",
              "  <tbody>\n",
              "    <tr>\n",
              "      <th>smart</th>\n",
              "      <td>417.934948</td>\n",
              "      <td>190.313730</td>\n",
              "      <td>36219.315784</td>\n",
              "      <td>422</td>\n",
              "    </tr>\n",
              "    <tr>\n",
              "      <th>ultra</th>\n",
              "      <td>526.623350</td>\n",
              "      <td>317.606098</td>\n",
              "      <td>100873.633397</td>\n",
              "      <td>518</td>\n",
              "    </tr>\n",
              "  </tbody>\n",
              "</table>\n",
              "</div>"
            ],
            "text/plain": [
              "              mean         std            var  median\n",
              "tariff                                               \n",
              "smart   417.934948  190.313730   36219.315784     422\n",
              "ultra   526.623350  317.606098  100873.633397     518"
            ]
          },
          "metadata": {
            "tags": []
          },
          "execution_count": 66
        }
      ]
    },
    {
      "cell_type": "markdown",
      "metadata": {
        "id": "m0iyBFy-O-6E"
      },
      "source": [
        "Мы видим, что длительность звонков по тарифам имеет скошенное распределение или положительное ассиметричное, стремиться к нормальному. У обоих тарифов мы видим длинный хвост выше медианы. Стоит отметить, что средняя продолжительность разговоров будет лежать выше медианы, при этом стоит отметить, что среднее у тарифа Ultra выше, соотвественно пользователи этих тарифов говорят по телефону чаще и дольше.  \n",
        "Мы можем посчитать вероятное максимальное время разговор для обоих тарифов, чтобы понимать необходимое время включения в пакет. "
      ]
    },
    {
      "cell_type": "code",
      "metadata": {
        "colab": {
          "base_uri": "https://localhost:8080/"
        },
        "id": "kU30eqNfO-6E",
        "outputId": "60805631-a455-47e8-b62f-d5be913d9144"
      },
      "source": [
        "# применим правило трех сигм и найдем вероятную верхнюю границу\n",
        "\n",
        "smart_time = mc_call.loc ['smart', 'mean'] + 3*mc_call.loc ['smart', 'std']\n",
        "ultra_time = mc_call.loc ['ultra', 'mean'] + 3*mc_call.loc ['ultra', 'std']\n",
        "print('Вероятное максимальное время для тарифа Smart {:.0f} минут'.format (smart_time))\n",
        "print('Вероятное максимальное время для тарифа Ultra {:.0f} минут'.format (ultra_time))"
      ],
      "execution_count": null,
      "outputs": [
        {
          "output_type": "stream",
          "text": [
            "Вероятное максимальное время для тарифа Smart 989 минут\n",
            "Вероятное максимальное время для тарифа Ultra 1479 минут\n"
          ],
          "name": "stdout"
        }
      ]
    },
    {
      "cell_type": "markdown",
      "metadata": {
        "id": "MZRVkrCLO-6F"
      },
      "source": [
        "У тарифа Ультра включено в пакет 3000 минут, хотя вероятность использования его полностью мало, и чаще всего люди будут выговаривать 1479 минут. необходимо изучить возможность снижения предоплаченных минут в пакете за счет снижения абоненсткой платы. У тарифа Смарт, напротив - количество минут максимальное - 989, а пакет предоставляет только 500, хоть среднее значение и значится как 417 минут, возмжно стоит рассмотреть увеличинеи минут до 750, увеличив абонентскую плату"
      ]
    },
    {
      "cell_type": "markdown",
      "metadata": {
        "id": "yYbss9iuO-6F"
      },
      "source": [
        "### Анализ количества сообщений"
      ]
    },
    {
      "cell_type": "code",
      "metadata": {
        "colab": {
          "base_uri": "https://localhost:8080/"
        },
        "id": "AZ1KNhwiO-6F",
        "outputId": "3fa172c0-dc3b-4f88-be0a-d4f11033670b"
      },
      "source": [
        "smart_sms = mobile_customers.query('tariff == \"smart\"')['quantity_of_sms'].reset_index(drop=True).round(0)\n",
        "\n",
        "smart_sms_var = np.var(smart_sms, ddof=1)\n",
        "\n",
        "# для удобства решили вынести расчет std отдельно, считаем для выборки, ddof=1\n",
        "\n",
        "smart_sms_dev = np.std (smart_sms, ddof=1)\n",
        "\n",
        "\n",
        "print('Тариф Smart')\n",
        "print()\n",
        "print('Дисперсия по sms тарифа SMART: {:.2f}'.format(smart_sms_var))\n",
        "print('Cтандартное отклонение по выборке sms тарифа SMART: {:.2f}'.format(smart_sms_dev))\n",
        "print()\n",
        "print(smart_sms.describe().T)\n",
        "\n"
      ],
      "execution_count": null,
      "outputs": [
        {
          "output_type": "stream",
          "text": [
            "Тариф Smart\n",
            "\n",
            "Дисперсия по sms тарифа SMART: 796.81\n",
            "Cтандартное отклонение по выборке sms тарифа SMART: 28.23\n",
            "\n",
            "count    2229.000000\n",
            "mean       33.384029\n",
            "std        28.227876\n",
            "min         0.000000\n",
            "25%        10.000000\n",
            "50%        28.000000\n",
            "75%        51.000000\n",
            "max       143.000000\n",
            "Name: quantity_of_sms, dtype: float64\n"
          ],
          "name": "stdout"
        }
      ]
    },
    {
      "cell_type": "code",
      "metadata": {
        "colab": {
          "base_uri": "https://localhost:8080/",
          "height": 229
        },
        "id": "VX18l9w0O-6F",
        "outputId": "092b5f37-1eb5-4a73-adf0-9adc9535bf2d"
      },
      "source": [
        "mobile_customers.pivot_table(index='tariff',  \n",
        "                 values=['duration_of_calls', 'quantity_of_sms', 'gb_used_total'], \n",
        "                 aggfunc=['mean', 'std', 'var']).T.style.format('{:.2f}')"
      ],
      "execution_count": null,
      "outputs": [
        {
          "output_type": "execute_result",
          "data": {
            "text/html": [
              "<style  type=\"text/css\" >\n",
              "</style><table id=\"T_40e1e8a0_a657_11eb_a78a_0242ac1c0002\" ><thead>    <tr>        <th class=\"blank\" ></th>        <th class=\"index_name level0\" >tariff</th>        <th class=\"col_heading level0 col0\" >smart</th>        <th class=\"col_heading level0 col1\" >ultra</th>    </tr></thead><tbody>\n",
              "                <tr>\n",
              "                        <th id=\"T_40e1e8a0_a657_11eb_a78a_0242ac1c0002level0_row0\" class=\"row_heading level0 row0\" rowspan=3>mean</th>\n",
              "                        <th id=\"T_40e1e8a0_a657_11eb_a78a_0242ac1c0002level1_row0\" class=\"row_heading level1 row0\" >duration_of_calls</th>\n",
              "                        <td id=\"T_40e1e8a0_a657_11eb_a78a_0242ac1c0002row0_col0\" class=\"data row0 col0\" >417.93</td>\n",
              "                        <td id=\"T_40e1e8a0_a657_11eb_a78a_0242ac1c0002row0_col1\" class=\"data row0 col1\" >526.62</td>\n",
              "            </tr>\n",
              "            <tr>\n",
              "                                <th id=\"T_40e1e8a0_a657_11eb_a78a_0242ac1c0002level1_row1\" class=\"row_heading level1 row1\" >gb_used_total</th>\n",
              "                        <td id=\"T_40e1e8a0_a657_11eb_a78a_0242ac1c0002row1_col0\" class=\"data row1 col0\" >15.85</td>\n",
              "                        <td id=\"T_40e1e8a0_a657_11eb_a78a_0242ac1c0002row1_col1\" class=\"data row1 col1\" >19.03</td>\n",
              "            </tr>\n",
              "            <tr>\n",
              "                                <th id=\"T_40e1e8a0_a657_11eb_a78a_0242ac1c0002level1_row2\" class=\"row_heading level1 row2\" >quantity_of_sms</th>\n",
              "                        <td id=\"T_40e1e8a0_a657_11eb_a78a_0242ac1c0002row2_col0\" class=\"data row2 col0\" >33.38</td>\n",
              "                        <td id=\"T_40e1e8a0_a657_11eb_a78a_0242ac1c0002row2_col1\" class=\"data row2 col1\" >49.36</td>\n",
              "            </tr>\n",
              "            <tr>\n",
              "                        <th id=\"T_40e1e8a0_a657_11eb_a78a_0242ac1c0002level0_row3\" class=\"row_heading level0 row3\" rowspan=3>std</th>\n",
              "                        <th id=\"T_40e1e8a0_a657_11eb_a78a_0242ac1c0002level1_row3\" class=\"row_heading level1 row3\" >duration_of_calls</th>\n",
              "                        <td id=\"T_40e1e8a0_a657_11eb_a78a_0242ac1c0002row3_col0\" class=\"data row3 col0\" >190.31</td>\n",
              "                        <td id=\"T_40e1e8a0_a657_11eb_a78a_0242ac1c0002row3_col1\" class=\"data row3 col1\" >317.61</td>\n",
              "            </tr>\n",
              "            <tr>\n",
              "                                <th id=\"T_40e1e8a0_a657_11eb_a78a_0242ac1c0002level1_row4\" class=\"row_heading level1 row4\" >gb_used_total</th>\n",
              "                        <td id=\"T_40e1e8a0_a657_11eb_a78a_0242ac1c0002row4_col0\" class=\"data row4 col0\" >5.74</td>\n",
              "                        <td id=\"T_40e1e8a0_a657_11eb_a78a_0242ac1c0002row4_col1\" class=\"data row4 col1\" >9.86</td>\n",
              "            </tr>\n",
              "            <tr>\n",
              "                                <th id=\"T_40e1e8a0_a657_11eb_a78a_0242ac1c0002level1_row5\" class=\"row_heading level1 row5\" >quantity_of_sms</th>\n",
              "                        <td id=\"T_40e1e8a0_a657_11eb_a78a_0242ac1c0002row5_col0\" class=\"data row5 col0\" >28.23</td>\n",
              "                        <td id=\"T_40e1e8a0_a657_11eb_a78a_0242ac1c0002row5_col1\" class=\"data row5 col1\" >47.80</td>\n",
              "            </tr>\n",
              "            <tr>\n",
              "                        <th id=\"T_40e1e8a0_a657_11eb_a78a_0242ac1c0002level0_row6\" class=\"row_heading level0 row6\" rowspan=3>var</th>\n",
              "                        <th id=\"T_40e1e8a0_a657_11eb_a78a_0242ac1c0002level1_row6\" class=\"row_heading level1 row6\" >duration_of_calls</th>\n",
              "                        <td id=\"T_40e1e8a0_a657_11eb_a78a_0242ac1c0002row6_col0\" class=\"data row6 col0\" >36219.32</td>\n",
              "                        <td id=\"T_40e1e8a0_a657_11eb_a78a_0242ac1c0002row6_col1\" class=\"data row6 col1\" >100873.63</td>\n",
              "            </tr>\n",
              "            <tr>\n",
              "                                <th id=\"T_40e1e8a0_a657_11eb_a78a_0242ac1c0002level1_row7\" class=\"row_heading level1 row7\" >gb_used_total</th>\n",
              "                        <td id=\"T_40e1e8a0_a657_11eb_a78a_0242ac1c0002row7_col0\" class=\"data row7 col0\" >32.95</td>\n",
              "                        <td id=\"T_40e1e8a0_a657_11eb_a78a_0242ac1c0002row7_col1\" class=\"data row7 col1\" >97.21</td>\n",
              "            </tr>\n",
              "            <tr>\n",
              "                                <th id=\"T_40e1e8a0_a657_11eb_a78a_0242ac1c0002level1_row8\" class=\"row_heading level1 row8\" >quantity_of_sms</th>\n",
              "                        <td id=\"T_40e1e8a0_a657_11eb_a78a_0242ac1c0002row8_col0\" class=\"data row8 col0\" >796.81</td>\n",
              "                        <td id=\"T_40e1e8a0_a657_11eb_a78a_0242ac1c0002row8_col1\" class=\"data row8 col1\" >2285.27</td>\n",
              "            </tr>\n",
              "    </tbody></table>"
            ],
            "text/plain": [
              "<pandas.io.formats.style.Styler at 0x7fbebafdb0d0>"
            ]
          },
          "metadata": {
            "tags": []
          },
          "execution_count": 69
        }
      ]
    },
    {
      "cell_type": "code",
      "metadata": {
        "colab": {
          "base_uri": "https://localhost:8080/"
        },
        "id": "oBByK7-fO-6F",
        "outputId": "af78e7e9-e368-4a8f-8849-f3bb28ca34f4"
      },
      "source": [
        "ultra_sms = mobile_customers.query('tariff == \"ultra\"')['quantity_of_sms'].reset_index(drop=True).round(0)\n",
        "\n",
        "ultra_sms_var = np.var(ultra_sms, ddof=1)\n",
        "\n",
        "# для удобства решили вынести расчет std отдельно, считаем для выборки, ddof=1\n",
        "\n",
        "ultra_sms_dev = np.std (ultra_sms, ddof=1)\n",
        "\n",
        "\n",
        "print('Тариф Ultra')\n",
        "print()\n",
        "print('Дисперсия по sms тарифа Ultra: {:.2f}'.format(ultra_sms_var))\n",
        "print('Cтандартное отклонение по выборке sms тарифа Ultra: {:.2f}'.format(ultra_sms_dev))\n",
        "print()\n",
        "print(ultra_sms.describe().T)\n",
        "\n"
      ],
      "execution_count": null,
      "outputs": [
        {
          "output_type": "stream",
          "text": [
            "Тариф Ultra\n",
            "\n",
            "Дисперсия по sms тарифа Ultra: 2285.27\n",
            "Cтандартное отклонение по выборке sms тарифа Ultra: 47.80\n",
            "\n",
            "count    985.000000\n",
            "mean      49.363452\n",
            "std       47.804457\n",
            "min        0.000000\n",
            "25%        6.000000\n",
            "50%       38.000000\n",
            "75%       79.000000\n",
            "max      224.000000\n",
            "Name: quantity_of_sms, dtype: float64\n"
          ],
          "name": "stdout"
        }
      ]
    },
    {
      "cell_type": "markdown",
      "metadata": {
        "id": "DLmYeX2dO-6G"
      },
      "source": [
        "Посмотрим какие значения в среднем по тарифам относительно друг друга:"
      ]
    },
    {
      "cell_type": "code",
      "metadata": {
        "id": "uxQ3KPkHO-6G"
      },
      "source": [
        "#напишем функцию для построения диаграммы\n",
        "\n",
        "def plotting_mean_2(d_list, query=None):\n",
        "    plt.figure(figsize=(15,5))\n",
        "    ax = plt.gca()\n",
        "    ax1 = plt.gca()\n",
        "    \n",
        "    list_of_colors = ['lightseagreen', 'aquamarine']\n",
        "    names_for_legend = ['Тариф Smart', 'Тариф Ultra']\n",
        "    legend_list = []\n",
        "\n",
        "    for i in range(len(d_list)):\n",
        "        gr_df = d_list[i]\n",
        "        gr_df_p = gr_df.groupby(\n",
        "                    ['tariff','month_name']).agg({'quantity_of_sms':'mean'}).reset_index().round(0)\n",
        "\n",
        "        plot = gr_df_p.plot(x='month_name', y='quantity_of_sms', kind='bar', edgecolor='black', color=list_of_colors[i],\n",
        "                                 ax=ax, width=0.08, position=i)\n",
        "        legend_list.append(names_for_legend [i])\n",
        "        \n",
        "    plt.xticks([0, 1, 2, 3, 4, 5, 6, 7, 8, 9, 10, 11], \n",
        "                      ['Январь', 'Февраль','Март', 'Апрель', \n",
        "                       'Май', 'Июнь'                       , 'Июль','Август', 'Сентябрь', 'Октябрь', 'Ноябрь', 'Декабрь'],\n",
        "                    rotation=20)\n",
        "    ax.legend(legend_list)\n",
        "    ax1.hlines(y=50, linestyle='--', color='black', xmin=-1, xmax=12)\n",
        "    \n",
        "    plt.title('Количество смс сообщений в месяц')\n",
        "    plt.xlabel('Месяц года')\n",
        "    plt.ylabel('Количество сообщений')\n",
        "    plt.show()"
      ],
      "execution_count": null,
      "outputs": []
    },
    {
      "cell_type": "code",
      "metadata": {
        "colab": {
          "base_uri": "https://localhost:8080/",
          "height": 366
        },
        "id": "RFuTZBIzO-6G",
        "outputId": "3560c0da-bfbd-4b1d-b372-c604e94f1c3e"
      },
      "source": [
        "plotting_mean_2(quer)"
      ],
      "execution_count": null,
      "outputs": [
        {
          "output_type": "display_data",
          "data": {
            "image/png": "[encoded data removed]",
            "text/plain": [
              "<Figure size 1080x360 with 1 Axes>"
            ]
          },
          "metadata": {
            "tags": [],
            "needs_background": "light"
          }
        }
      ]
    },
    {
      "cell_type": "markdown",
      "metadata": {
        "id": "pZE2PXQ_O-6G"
      },
      "source": [
        "В среднем, пользователи тарифов укладываются в лимиты, при этом пользователи тарифа Ultra расходуют меньше sms-сообщений, чем ими оплачено. Снижение абонентской платы за счет снижения предоплаченных sms-сообщений может помочь продвижению и популяризации тарифа."
      ]
    },
    {
      "cell_type": "markdown",
      "metadata": {
        "id": "AoBobE6bO-6G"
      },
      "source": [
        "Мы просмотрели изменения значений по месяцам в среднем. Посмотрим распределение sms-сообщений по тарифам: Для построения будем использовать скрипичные диаграммы, что позволит увидеть распределения и плотности вероятностей. Создадим скрипичный сюжет:"
      ]
    },
    {
      "cell_type": "code",
      "metadata": {
        "colab": {
          "base_uri": "https://localhost:8080/",
          "height": 204
        },
        "id": "OuerRYHeO-6G",
        "outputId": "80a81f37-59ba-4dbb-e8d5-d7e1e5a41c96"
      },
      "source": [
        "# выберем интересующие нас столбцы из дата сета\n",
        "# исключим нулевые отправки sms\n",
        "sms_mobile = mobile_customers [['tariff', 'quantity_of_sms', 'user_id']].query('quantity_of_sms > 0')\n",
        "sms_mobile.head()"
      ],
      "execution_count": null,
      "outputs": [
        {
          "output_type": "execute_result",
          "data": {
            "text/html": [
              "<div>\n",
              "<style scoped>\n",
              "    .dataframe tbody tr th:only-of-type {\n",
              "        vertical-align: middle;\n",
              "    }\n",
              "\n",
              "    .dataframe tbody tr th {\n",
              "        vertical-align: top;\n",
              "    }\n",
              "\n",
              "    .dataframe thead th {\n",
              "        text-align: right;\n",
              "    }\n",
              "</style>\n",
              "<table border=\"1\" class=\"dataframe\">\n",
              "  <thead>\n",
              "    <tr style=\"text-align: right;\">\n",
              "      <th></th>\n",
              "      <th>tariff</th>\n",
              "      <th>quantity_of_sms</th>\n",
              "      <th>user_id</th>\n",
              "    </tr>\n",
              "  </thead>\n",
              "  <tbody>\n",
              "    <tr>\n",
              "      <th>0</th>\n",
              "      <td>ultra</td>\n",
              "      <td>81</td>\n",
              "      <td>1000</td>\n",
              "    </tr>\n",
              "    <tr>\n",
              "      <th>1</th>\n",
              "      <td>ultra</td>\n",
              "      <td>70</td>\n",
              "      <td>1000</td>\n",
              "    </tr>\n",
              "    <tr>\n",
              "      <th>2</th>\n",
              "      <td>ultra</td>\n",
              "      <td>75</td>\n",
              "      <td>1000</td>\n",
              "    </tr>\n",
              "    <tr>\n",
              "      <th>3</th>\n",
              "      <td>ultra</td>\n",
              "      <td>60</td>\n",
              "      <td>1000</td>\n",
              "    </tr>\n",
              "    <tr>\n",
              "      <th>4</th>\n",
              "      <td>ultra</td>\n",
              "      <td>22</td>\n",
              "      <td>1000</td>\n",
              "    </tr>\n",
              "  </tbody>\n",
              "</table>\n",
              "</div>"
            ],
            "text/plain": [
              "  tariff  quantity_of_sms  user_id\n",
              "0  ultra               81     1000\n",
              "1  ultra               70     1000\n",
              "2  ultra               75     1000\n",
              "3  ultra               60     1000\n",
              "4  ultra               22     1000"
            ]
          },
          "metadata": {
            "tags": []
          },
          "execution_count": 73
        }
      ]
    },
    {
      "cell_type": "code",
      "metadata": {
        "colab": {
          "base_uri": "https://localhost:8080/",
          "height": 542
        },
        "id": "MUfxIZchO-6G",
        "outputId": "bb396c62-7de6-44f5-a784-b23c4a51a923"
      },
      "source": [
        "fig = px.violin(\n",
        "        sms_mobile, y='quantity_of_sms', \n",
        "        x=\"tariff\", color='tariff', box=True, points='all', \n",
        "        title = 'Скрипичная диаграмма sms-сообщений',\n",
        "        labels={'quantity_of_sms': 'Количество sms', 'tariff':'Тариф'}\n",
        "        )\n",
        "fig.show()"
      ],
      "execution_count": null,
      "outputs": [
        {
          "output_type": "display_data",
          "data": {
            "text/html": [
              "<html>\n",
              "<head><meta charset=\"utf-8\" /></head>\n",
              "<body>\n",
              "    <div>\n",
              "            <script src=\"https://cdnjs.cloudflare.com/ajax/libs/mathjax/2.7.5/MathJax.js?config=TeX-AMS-MML_SVG\"></script><script type=\"text/javascript\">if (window.MathJax) {MathJax.Hub.Config({SVG: {font: \"STIX-Web\"}});}</script>\n",
              "                <script type=\"text/javascript\">window.PlotlyConfig = {MathJaxConfig: 'local'};</script>\n",
              "        <script src=\"https://cdn.plot.ly/plotly-latest.min.js\"></script>    \n",
              "            <div id=\"c28a96f2-bfeb-4d38-a77f-9d6b1880c998\" class=\"plotly-graph-div\" style=\"height:525px; width:100%;\"></div>\n",
              "            <script type=\"text/javascript\">\n",
              "                \n",
              "                    window.PLOTLYENV=window.PLOTLYENV || {};\n",
              "                    \n",
              "                if (document.getElementById(\"c28a96f2-bfeb-4d38-a77f-9d6b1880c998\")) {\n",
              "                    Plotly.newPlot(\n",
              "                        'c28a96f2-bfeb-4d38-a77f-9d6b1880c998',\n",
              "                        [{\"alignmentgroup\": \"True\", \"box\": {\"visible\": true}, \"hoverlabel\": {\"namelength\": 0}, \"hovertemplate\": \"\\u0422\\u0430\\u0440\\u0438\\u0444=%{x}<br>\\u041a\\u043e\\u043b\\u0438\\u0447\\u0435\\u0441\\u0442\\u0432\\u043e sms=%{y}\", \"legendgroup\": \"\\u0422\\u0430\\u0440\\u0438\\u0444=ultra\", \"marker\": {\"color\": \"#636efa\"}, \"name\": \"\\u0422\\u0430\\u0440\\u0438\\u0444=ultra\", \"offsetgroup\": \"\\u0422\\u0430\\u0440\\u0438\\u0444=ultra\", \"orientation\": \"v\", \"points\": \"all\", \"scalegroup\": \"True\", \"showlegend\": true, \"type\": \"violin\", \"x\": [\"ultra\", \"ultra\", \"ultra\", \"ultra\", \"ultra\", \"ultra\", \"ultra\", \"ultra\", \"ultra\", \"ultra\", \"ultra\", \"ultra\", \"ultra\", \"ultra\", \"ultra\", \"ultra\", \"ultra\", \"ultra\", \"ultra\", \"ultra\", \"ultra\", \"ultra\", \"ultra\", \"ultra\", \"ultra\", \"ultra\", \"ultra\", \"ultra\", \"ultra\", \"ultra\", \"ultra\", \"ultra\", \"ultra\", \"ultra\", \"ultra\", \"ultra\", \"ultra\", \"ultra\", \"ultra\", \"ultra\", \"ultra\", \"ultra\", \"ultra\", \"ultra\", \"ultra\", \"ultra\", \"ultra\", \"ultra\", \"ultra\", \"ultra\", \"ultra\", \"ultra\", \"ultra\", \"ultra\", \"ultra\", \"ultra\", \"ultra\", \"ultra\", \"ultra\", \"ultra\", \"ultra\", \"ultra\", \"ultra\", \"ultra\", \"ultra\", \"ultra\", \"ultra\", \"ultra\", \"ultra\", \"ultra\", \"ultra\", \"ultra\", \"ultra\", \"ultra\", \"ultra\", \"ultra\", \"ultra\", \"ultra\", \"ultra\", \"ultra\", \"ultra\", \"ultra\", \"ultra\", \"ultra\", \"ultra\", \"ultra\", \"ultra\", \"ultra\", \"ultra\", \"ultra\", \"ultra\", \"ultra\", \"ultra\", \"ultra\", \"ultra\", \"ultra\", \"ultra\", \"ultra\", \"ultra\", \"ultra\", \"ultra\", \"ultra\", \"ultra\", \"ultra\", \"ultra\", \"ultra\", \"ultra\", \"ultra\", \"ultra\", \"ultra\", \"ultra\", \"ultra\", \"ultra\", \"ultra\", \"ultra\", \"ultra\", \"ultra\", \"ultra\", \"ultra\", \"ultra\", \"ultra\", \"ultra\", \"ultra\", \"ultra\", \"ultra\", \"ultra\", \"ultra\", \"ultra\", \"ultra\", \"ultra\", \"ultra\", \"ultra\", \"ultra\", \"ultra\", \"ultra\", \"ultra\", \"ultra\", \"ultra\", \"ultra\", \"ultra\", \"ultra\", \"ultra\", \"ultra\", \"ultra\", \"ultra\", \"ultra\", \"ultra\", \"ultra\", \"ultra\", \"ultra\", \"ultra\", \"ultra\", \"ultra\", \"ultra\", \"ultra\", \"ultra\", \"ultra\", \"ultra\", \"ultra\", \"ultra\", \"ultra\", \"ultra\", \"ultra\", \"ultra\", \"ultra\", \"ultra\", \"ultra\", \"ultra\", \"ultra\", \"ultra\", \"ultra\", \"ultra\", \"ultra\", \"ultra\", \"ultra\", \"ultra\", \"ultra\", \"ultra\", \"ultra\", \"ultra\", \"ultra\", \"ultra\", \"ultra\", \"ultra\", \"ultra\", \"ultra\", \"ultra\", \"ultra\", \"ultra\", \"ultra\", \"ultra\", \"ultra\", \"ultra\", \"ultra\", \"ultra\", \"ultra\", \"ultra\", \"ultra\", \"ultra\", \"ultra\", \"ultra\", \"ultra\", \"ultra\", \"ultra\", \"ultra\", \"ultra\", \"ultra\", \"ultra\", \"ultra\", \"ultra\", \"ultra\", \"ultra\", \"ultra\", \"ultra\", \"ultra\", \"ultra\", \"ultra\", \"ultra\", \"ultra\", \"ultra\", \"ultra\", \"ultra\", \"ultra\", \"ultra\", \"ultra\", \"ultra\", \"ultra\", \"ultra\", \"ultra\", \"ultra\", \"ultra\", \"ultra\", \"ultra\", \"ultra\", \"ultra\", \"ultra\", \"ultra\", \"ultra\", \"ultra\", \"ultra\", \"ultra\", \"ultra\", \"ultra\", \"ultra\", \"ultra\", \"ultra\", \"ultra\", \"ultra\", \"ultra\", \"ultra\", \"ultra\", \"ultra\", \"ultra\", \"ultra\", \"ultra\", \"ultra\", \"ultra\", \"ultra\", \"ultra\", \"ultra\", \"ultra\", \"ultra\", \"ultra\", \"ultra\", \"ultra\", \"ultra\", \"ultra\", \"ultra\", \"ultra\", \"ultra\", \"ultra\", \"ultra\", \"ultra\", \"ultra\", \"ultra\", \"ultra\", \"ultra\", \"ultra\", \"ultra\", \"ultra\", \"ultra\", \"ultra\", \"ultra\", \"ultra\", \"ultra\", \"ultra\", \"ultra\", \"ultra\", \"ultra\", \"ultra\", \"ultra\", \"ultra\", \"ultra\", \"ultra\", \"ultra\", \"ultra\", \"ultra\", \"ultra\", \"ultra\", \"ultra\", \"ultra\", \"ultra\", \"ultra\", \"ultra\", \"ultra\", \"ultra\", \"ultra\", \"ultra\", \"ultra\", \"ultra\", \"ultra\", \"ultra\", \"ultra\", \"ultra\", \"ultra\", \"ultra\", \"ultra\", \"ultra\", \"ultra\", \"ultra\", \"ultra\", \"ultra\", \"ultra\", \"ultra\", \"ultra\", \"ultra\", \"ultra\", \"ultra\", \"ultra\", \"ultra\", \"ultra\", \"ultra\", \"ultra\", \"ultra\", \"ultra\", \"ultra\", \"ultra\", \"ultra\", \"ultra\", \"ultra\", \"ultra\", \"ultra\", \"ultra\", \"ultra\", \"ultra\", \"ultra\", \"ultra\", \"ultra\", \"ultra\", \"ultra\", \"ultra\", \"ultra\", \"ultra\", \"ultra\", \"ultra\", \"ultra\", \"ultra\", \"ultra\", \"ultra\", \"ultra\", \"ultra\", \"ultra\", \"ultra\", \"ultra\", \"ultra\", \"ultra\", \"ultra\", \"ultra\", \"ultra\", \"ultra\", \"ultra\", \"ultra\", \"ultra\", \"ultra\", \"ultra\", \"ultra\", \"ultra\", \"ultra\", \"ultra\", \"ultra\", \"ultra\", \"ultra\", \"ultra\", \"ultra\", \"ultra\", \"ultra\", \"ultra\", \"ultra\", \"ultra\", \"ultra\", \"ultra\", \"ultra\", \"ultra\", \"ultra\", \"ultra\", \"ultra\", \"ultra\", \"ultra\", \"ultra\", \"ultra\", \"ultra\", \"ultra\", \"ultra\", \"ultra\", \"ultra\", \"ultra\", \"ultra\", \"ultra\", \"ultra\", \"ultra\", \"ultra\", \"ultra\", \"ultra\", \"ultra\", \"ultra\", \"ultra\", \"ultra\", \"ultra\", \"ultra\", \"ultra\", \"ultra\", \"ultra\", \"ultra\", \"ultra\", \"ultra\", \"ultra\", \"ultra\", \"ultra\", \"ultra\", \"ultra\", \"ultra\", \"ultra\", \"ultra\", \"ultra\", \"ultra\", \"ultra\", \"ultra\", \"ultra\", \"ultra\", \"ultra\", \"ultra\", \"ultra\", \"ultra\", \"ultra\", \"ultra\", \"ultra\", \"ultra\", \"ultra\", \"ultra\", \"ultra\", \"ultra\", \"ultra\", \"ultra\", \"ultra\", \"ultra\", \"ultra\", \"ultra\", \"ultra\", \"ultra\", \"ultra\", \"ultra\", \"ultra\", \"ultra\", \"ultra\", \"ultra\", \"ultra\", \"ultra\", \"ultra\", \"ultra\", \"ultra\", \"ultra\", \"ultra\", \"ultra\", \"ultra\", \"ultra\", \"ultra\", \"ultra\", \"ultra\", \"ultra\", \"ultra\", \"ultra\", \"ultra\", \"ultra\", \"ultra\", \"ultra\", \"ultra\", \"ultra\", \"ultra\", \"ultra\", \"ultra\", \"ultra\", \"ultra\", \"ultra\", \"ultra\", \"ultra\", \"ultra\", \"ultra\", \"ultra\", \"ultra\", \"ultra\", \"ultra\", \"ultra\", \"ultra\", \"ultra\", \"ultra\", \"ultra\", \"ultra\", \"ultra\", \"ultra\", \"ultra\", \"ultra\", \"ultra\", \"ultra\", \"ultra\", \"ultra\", \"ultra\", \"ultra\", \"ultra\", \"ultra\", \"ultra\", \"ultra\", \"ultra\", \"ultra\", \"ultra\", \"ultra\", \"ultra\", \"ultra\", \"ultra\", \"ultra\", \"ultra\", \"ultra\", \"ultra\", \"ultra\", \"ultra\", \"ultra\", \"ultra\", \"ultra\", \"ultra\", \"ultra\", \"ultra\", \"ultra\", \"ultra\", \"ultra\", \"ultra\", \"ultra\", \"ultra\", \"ultra\", \"ultra\", \"ultra\", \"ultra\", \"ultra\", \"ultra\", \"ultra\", \"ultra\", \"ultra\", \"ultra\", \"ultra\", \"ultra\", \"ultra\", \"ultra\", \"ultra\", \"ultra\", \"ultra\", \"ultra\", \"ultra\", \"ultra\", \"ultra\", \"ultra\", \"ultra\", \"ultra\", \"ultra\", \"ultra\", \"ultra\", \"ultra\", \"ultra\", \"ultra\", \"ultra\", \"ultra\", \"ultra\", \"ultra\", \"ultra\", \"ultra\", \"ultra\", \"ultra\", \"ultra\", \"ultra\", \"ultra\", \"ultra\", \"ultra\", \"ultra\", \"ultra\", \"ultra\", \"ultra\", \"ultra\", \"ultra\", \"ultra\", \"ultra\", \"ultra\", \"ultra\", \"ultra\", \"ultra\", \"ultra\", \"ultra\", \"ultra\", \"ultra\", \"ultra\", \"ultra\", \"ultra\", \"ultra\", \"ultra\", \"ultra\", \"ultra\", \"ultra\", \"ultra\", \"ultra\", \"ultra\", \"ultra\", \"ultra\", \"ultra\", \"ultra\", \"ultra\", \"ultra\", \"ultra\", \"ultra\", \"ultra\", \"ultra\", \"ultra\", \"ultra\", \"ultra\", \"ultra\", \"ultra\", \"ultra\", \"ultra\", \"ultra\", \"ultra\", \"ultra\", \"ultra\", \"ultra\", \"ultra\", \"ultra\", \"ultra\", \"ultra\", \"ultra\", \"ultra\", \"ultra\", \"ultra\", \"ultra\", \"ultra\", \"ultra\", \"ultra\", \"ultra\", \"ultra\", \"ultra\", \"ultra\", \"ultra\", \"ultra\", \"ultra\", \"ultra\", \"ultra\", \"ultra\", \"ultra\", \"ultra\", \"ultra\", \"ultra\", \"ultra\", \"ultra\", \"ultra\", \"ultra\", \"ultra\", \"ultra\", \"ultra\", \"ultra\", \"ultra\", \"ultra\", \"ultra\", \"ultra\", \"ultra\", \"ultra\", \"ultra\", \"ultra\", \"ultra\", \"ultra\", \"ultra\", \"ultra\", \"ultra\", \"ultra\", \"ultra\", \"ultra\", \"ultra\", \"ultra\", \"ultra\", \"ultra\", \"ultra\", \"ultra\", \"ultra\", \"ultra\", \"ultra\", \"ultra\", \"ultra\", \"ultra\", \"ultra\", \"ultra\", \"ultra\", \"ultra\", \"ultra\", \"ultra\", \"ultra\", \"ultra\", \"ultra\", \"ultra\", \"ultra\", \"ultra\", \"ultra\", \"ultra\", \"ultra\", \"ultra\", \"ultra\", \"ultra\", \"ultra\", \"ultra\", \"ultra\", \"ultra\", \"ultra\", \"ultra\", \"ultra\", \"ultra\", \"ultra\", \"ultra\", \"ultra\", \"ultra\", \"ultra\", \"ultra\", \"ultra\", \"ultra\", \"ultra\", \"ultra\", \"ultra\", \"ultra\", \"ultra\", \"ultra\", \"ultra\", \"ultra\", \"ultra\", \"ultra\", \"ultra\", \"ultra\", \"ultra\", \"ultra\", \"ultra\", \"ultra\", \"ultra\", \"ultra\", \"ultra\", \"ultra\", \"ultra\", \"ultra\", \"ultra\", \"ultra\", \"ultra\", \"ultra\", \"ultra\", \"ultra\", \"ultra\", \"ultra\", \"ultra\", \"ultra\", \"ultra\", \"ultra\", \"ultra\", \"ultra\", \"ultra\", \"ultra\", \"ultra\", \"ultra\", \"ultra\", \"ultra\", \"ultra\", \"ultra\", \"ultra\", \"ultra\", \"ultra\", \"ultra\", \"ultra\", \"ultra\", \"ultra\", \"ultra\", \"ultra\", \"ultra\", \"ultra\", \"ultra\", \"ultra\", \"ultra\", \"ultra\", \"ultra\", \"ultra\"], \"x0\": \" \", \"xaxis\": \"x\", \"y\": [81, 70, 75, 60, 22, 58, 73, 57, 91, 83, 37, 75, 94, 151, 162, 181, 134, 95, 158, 165, 146, 25, 17, 103, 39, 21, 26, 17, 24, 30, 37, 34, 20, 25, 21, 19, 16, 25, 21, 8, 93, 13, 77, 103, 101, 101, 94, 106, 113, 171, 182, 223, 140, 130, 62, 137, 109, 119, 136, 36, 78, 101, 99, 81, 52, 52, 25, 2, 33, 30, 20, 22, 28, 26, 19, 29, 28, 21, 27, 52, 12, 53, 60, 57, 71, 64, 27, 30, 6, 18, 17, 18, 20, 28, 17, 19, 98, 116, 27, 137, 128, 155, 126, 146, 152, 143, 130, 148, 28, 14, 44, 28, 32, 30, 35, 30, 42, 31, 31, 21, 23, 27, 3, 17, 28, 18, 67, 102, 73, 100, 81, 81, 84, 98, 79, 9, 28, 38, 29, 33, 28, 31, 46, 47, 38, 57, 20, 43, 56, 55, 57, 31, 18, 68, 73, 66, 79, 91, 86, 79, 74, 85, 84, 33, 30, 24, 24, 23, 9, 25, 29, 28, 83, 117, 120, 95, 121, 32, 7, 5, 6, 3, 5, 6, 1, 4, 2, 1, 6, 2, 10, 10, 12, 23, 15, 12, 10, 14, 20, 133, 118, 126, 116, 137, 15, 5, 18, 18, 6, 2, 197, 224, 107, 115, 50, 118, 107, 130, 178, 148, 190, 12, 41, 48, 42, 45, 40, 42, 54, 42, 14, 47, 38, 51, 10, 16, 16, 22, 14, 23, 17, 18, 25, 22, 15, 30, 47, 55, 35, 169, 150, 172, 24, 153, 154, 149, 149, 57, 35, 51, 53, 44, 47, 38, 4, 49, 26, 40, 30, 22, 18, 27, 38, 39, 21, 19, 109, 133, 114, 135, 4, 94, 94, 95, 87, 104, 94, 83, 180, 191, 211, 201, 55, 173, 188, 185, 91, 82, 82, 85, 60, 62, 79, 82, 100, 65, 74, 85, 84, 75, 87, 89, 90, 146, 153, 157, 131, 133, 135, 62, 171, 157, 18, 81, 6, 89, 94, 47, 43, 53, 46, 48, 51, 117, 78, 45, 98, 94, 78, 73, 7, 76, 61, 41, 21, 37, 35, 32, 39, 38, 29, 29, 29, 20, 131, 143, 153, 139, 48, 143, 140, 145, 145, 141, 135, 70, 60, 79, 69, 40, 66, 71, 99, 99, 71, 75, 22, 18, 23, 21, 19, 24, 27, 20, 26, 5, 26, 191, 170, 33, 171, 176, 183, 27, 7, 32, 30, 33, 27, 87, 65, 97, 88, 82, 50, 46, 56, 50, 17, 42, 49, 54, 51, 45, 40, 46, 49, 45, 50, 49, 14, 37, 54, 56, 19, 22, 7, 13, 15, 7, 15, 6, 8, 7, 56, 76, 81, 84, 78, 69, 61, 69, 78, 72, 79, 62, 71, 49, 64, 71, 72, 76, 66, 72, 145, 154, 129, 16, 101, 93, 94, 94, 77, 105, 10, 20, 74, 71, 74, 21, 58, 53, 48, 40, 73, 65, 124, 129, 135, 124, 119, 132, 122, 112, 128, 49, 46, 52, 50, 56, 41, 159, 137, 40, 21, 41, 75, 2, 56, 60, 55, 42, 4, 9, 3, 9, 10, 7, 6, 14, 10, 130, 162, 153, 158, 133, 138, 65, 141, 144, 37, 35, 35, 33, 4, 79, 109, 109, 84, 118, 44, 115, 126, 102, 59, 79, 64, 67, 76, 64, 75, 75, 65, 72, 61, 59, 16, 11, 17, 17, 13, 15, 16, 20, 2, 10, 17, 104, 112, 129, 81, 99, 29, 26, 30, 26, 23, 25, 27, 22, 42, 32, 40, 29, 36, 46, 44, 43, 55, 41, 41, 43, 98, 80, 81, 75, 74, 88, 20, 67, 66, 61, 96, 123, 144, 142, 103, 127, 127, 113, 90, 72, 126, 117, 6, 1, 4, 1, 3, 4, 3, 2, 33, 49, 36, 38, 38, 3, 32, 37, 90, 88, 89, 74, 80, 87, 63, 74, 59, 57, 75, 100, 58, 72, 22, 27, 35, 25, 27, 32, 36, 27, 21, 28, 54, 50, 61, 49, 48, 56, 48, 18, 53, 67, 45, 52, 54, 39, 51, 55, 43, 49, 37, 50, 46, 3, 39, 44, 40, 84, 44, 40, 89, 101, 97, 98, 91, 111, 31, 83, 106, 89, 34, 40, 7, 43, 46, 40, 42, 39, 42, 23, 22, 35, 40, 22, 29, 20, 37, 24, 103, 105, 113, 17, 97, 108, 118, 115, 54, 61, 18, 61, 62, 51, 57, 50, 61, 52, 53, 74, 58, 54, 64, 57, 45, 65, 63, 2, 3, 3, 4, 6, 7, 5, 5, 5, 3, 1, 4, 6, 1, 4, 5, 1, 5, 3, 76, 24, 11, 31, 39, 15, 92, 107, 93, 85, 98, 94, 101, 81, 83, 84, 6, 17, 20, 14, 20, 19, 105, 77, 5, 11, 3, 4, 7, 6, 4, 5, 155, 10, 52, 61, 51, 40, 55, 56, 58, 49, 78, 16, 79, 13, 82, 82, 84], \"y0\": \" \", \"yaxis\": \"y\"}, {\"alignmentgroup\": \"True\", \"box\": {\"visible\": true}, \"hoverlabel\": {\"namelength\": 0}, \"hovertemplate\": \"\\u0422\\u0430\\u0440\\u0438\\u0444=%{x}<br>\\u041a\\u043e\\u043b\\u0438\\u0447\\u0435\\u0441\\u0442\\u0432\\u043e sms=%{y}\", \"legendgroup\": \"\\u0422\\u0430\\u0440\\u0438\\u0444=smart\", \"marker\": {\"color\": \"#EF553B\"}, \"name\": \"\\u0422\\u0430\\u0440\\u0438\\u0444=smart\", \"offsetgroup\": \"\\u0422\\u0430\\u0440\\u0438\\u0444=smart\", \"orientation\": \"v\", \"points\": \"all\", \"scalegroup\": \"True\", \"showlegend\": true, \"type\": \"violin\", \"x\": [\"smart\", \"smart\", \"smart\", \"smart\", \"smart\", \"smart\", \"smart\", \"smart\", \"smart\", \"smart\", \"smart\", \"smart\", \"smart\", \"smart\", \"smart\", \"smart\", \"smart\", \"smart\", \"smart\", \"smart\", \"smart\", \"smart\", \"smart\", \"smart\", \"smart\", \"smart\", \"smart\", \"smart\", \"smart\", \"smart\", \"smart\", \"smart\", \"smart\", \"smart\", \"smart\", \"smart\", \"smart\", \"smart\", \"smart\", \"smart\", \"smart\", \"smart\", \"smart\", \"smart\", \"smart\", \"smart\", \"smart\", \"smart\", \"smart\", \"smart\", \"smart\", \"smart\", \"smart\", \"smart\", \"smart\", \"smart\", \"smart\", \"smart\", \"smart\", \"smart\", \"smart\", \"smart\", \"smart\", \"smart\", \"smart\", \"smart\", \"smart\", \"smart\", \"smart\", \"smart\", \"smart\", \"smart\", \"smart\", \"smart\", \"smart\", \"smart\", \"smart\", \"smart\", \"smart\", \"smart\", \"smart\", \"smart\", \"smart\", \"smart\", \"smart\", \"smart\", \"smart\", \"smart\", \"smart\", \"smart\", \"smart\", \"smart\", \"smart\", \"smart\", \"smart\", \"smart\", \"smart\", \"smart\", \"smart\", \"smart\", \"smart\", \"smart\", \"smart\", \"smart\", \"smart\", \"smart\", \"smart\", \"smart\", \"smart\", \"smart\", \"smart\", \"smart\", \"smart\", \"smart\", \"smart\", \"smart\", \"smart\", \"smart\", \"smart\", \"smart\", \"smart\", \"smart\", \"smart\", \"smart\", \"smart\", \"smart\", \"smart\", \"smart\", \"smart\", \"smart\", \"smart\", \"smart\", \"smart\", \"smart\", \"smart\", \"smart\", \"smart\", \"smart\", \"smart\", \"smart\", \"smart\", \"smart\", \"smart\", \"smart\", \"smart\", \"smart\", \"smart\", \"smart\", \"smart\", \"smart\", \"smart\", \"smart\", \"smart\", \"smart\", \"smart\", \"smart\", \"smart\", \"smart\", \"smart\", \"smart\", \"smart\", \"smart\", \"smart\", \"smart\", \"smart\", \"smart\", \"smart\", \"smart\", \"smart\", \"smart\", \"smart\", \"smart\", \"smart\", \"smart\", \"smart\", \"smart\", \"smart\", \"smart\", \"smart\", \"smart\", \"smart\", \"smart\", \"smart\", \"smart\", \"smart\", \"smart\", \"smart\", \"smart\", \"smart\", \"smart\", \"smart\", \"smart\", \"smart\", \"smart\", \"smart\", \"smart\", \"smart\", \"smart\", \"smart\", \"smart\", \"smart\", \"smart\", \"smart\", \"smart\", \"smart\", \"smart\", \"smart\", \"smart\", \"smart\", \"smart\", \"smart\", \"smart\", \"smart\", \"smart\", \"smart\", \"smart\", \"smart\", \"smart\", \"smart\", \"smart\", \"smart\", \"smart\", \"smart\", \"smart\", \"smart\", \"smart\", \"smart\", \"smart\", \"smart\", \"smart\", \"smart\", \"smart\", \"smart\", \"smart\", \"smart\", \"smart\", \"smart\", \"smart\", \"smart\", \"smart\", \"smart\", \"smart\", \"smart\", \"smart\", \"smart\", \"smart\", \"smart\", \"smart\", \"smart\", \"smart\", \"smart\", \"smart\", \"smart\", \"smart\", \"smart\", \"smart\", \"smart\", \"smart\", \"smart\", \"smart\", \"smart\", \"smart\", \"smart\", \"smart\", \"smart\", \"smart\", \"smart\", \"smart\", \"smart\", \"smart\", \"smart\", \"smart\", \"smart\", \"smart\", \"smart\", \"smart\", \"smart\", \"smart\", \"smart\", \"smart\", \"smart\", \"smart\", \"smart\", \"smart\", \"smart\", \"smart\", \"smart\", \"smart\", \"smart\", \"smart\", \"smart\", \"smart\", \"smart\", \"smart\", \"smart\", \"smart\", \"smart\", \"smart\", \"smart\", \"smart\", \"smart\", \"smart\", \"smart\", \"smart\", \"smart\", \"smart\", \"smart\", \"smart\", \"smart\", \"smart\", \"smart\", \"smart\", \"smart\", \"smart\", \"smart\", \"smart\", \"smart\", \"smart\", \"smart\", \"smart\", \"smart\", \"smart\", \"smart\", \"smart\", \"smart\", \"smart\", \"smart\", \"smart\", \"smart\", \"smart\", \"smart\", \"smart\", \"smart\", \"smart\", \"smart\", \"smart\", \"smart\", \"smart\", \"smart\", \"smart\", \"smart\", \"smart\", \"smart\", \"smart\", \"smart\", \"smart\", \"smart\", \"smart\", \"smart\", \"smart\", \"smart\", \"smart\", \"smart\", \"smart\", \"smart\", \"smart\", \"smart\", \"smart\", \"smart\", \"smart\", \"smart\", \"smart\", \"smart\", \"smart\", \"smart\", \"smart\", \"smart\", \"smart\", \"smart\", \"smart\", \"smart\", \"smart\", \"smart\", \"smart\", \"smart\", \"smart\", \"smart\", \"smart\", \"smart\", \"smart\", \"smart\", \"smart\", \"smart\", \"smart\", \"smart\", \"smart\", \"smart\", \"smart\", \"smart\", \"smart\", \"smart\", \"smart\", \"smart\", \"smart\", \"smart\", \"smart\", \"smart\", \"smart\", \"smart\", \"smart\", \"smart\", \"smart\", \"smart\", \"smart\", \"smart\", \"smart\", \"smart\", \"smart\", \"smart\", \"smart\", \"smart\", \"smart\", \"smart\", \"smart\", \"smart\", \"smart\", \"smart\", \"smart\", \"smart\", \"smart\", \"smart\", \"smart\", \"smart\", \"smart\", \"smart\", \"smart\", \"smart\", \"smart\", \"smart\", \"smart\", \"smart\", \"smart\", \"smart\", \"smart\", \"smart\", \"smart\", \"smart\", \"smart\", \"smart\", \"smart\", \"smart\", \"smart\", \"smart\", \"smart\", \"smart\", \"smart\", \"smart\", \"smart\", \"smart\", \"smart\", \"smart\", \"smart\", \"smart\", \"smart\", \"smart\", \"smart\", \"smart\", \"smart\", \"smart\", \"smart\", \"smart\", \"smart\", \"smart\", \"smart\", \"smart\", \"smart\", \"smart\", \"smart\", \"smart\", \"smart\", \"smart\", \"smart\", \"smart\", \"smart\", \"smart\", \"smart\", \"smart\", \"smart\", \"smart\", \"smart\", \"smart\", \"smart\", \"smart\", \"smart\", \"smart\", \"smart\", \"smart\", \"smart\", \"smart\", \"smart\", \"smart\", \"smart\", \"smart\", \"smart\", \"smart\", \"smart\", \"smart\", \"smart\", \"smart\", \"smart\", \"smart\", \"smart\", \"smart\", \"smart\", \"smart\", \"smart\", \"smart\", \"smart\", \"smart\", \"smart\", \"smart\", \"smart\", \"smart\", \"smart\", \"smart\", \"smart\", \"smart\", \"smart\", \"smart\", \"smart\", \"smart\", \"smart\", \"smart\", \"smart\", \"smart\", \"smart\", \"smart\", \"smart\", \"smart\", \"smart\", \"smart\", \"smart\", \"smart\", \"smart\", \"smart\", \"smart\", \"smart\", \"smart\", \"smart\", \"smart\", \"smart\", \"smart\", \"smart\", \"smart\", \"smart\", \"smart\", \"smart\", \"smart\", \"smart\", \"smart\", \"smart\", \"smart\", \"smart\", \"smart\", \"smart\", \"smart\", \"smart\", \"smart\", \"smart\", \"smart\", \"smart\", \"smart\", \"smart\", \"smart\", \"smart\", \"smart\", \"smart\", \"smart\", \"smart\", \"smart\", \"smart\", \"smart\", \"smart\", \"smart\", \"smart\", \"smart\", \"smart\", \"smart\", \"smart\", \"smart\", \"smart\", \"smart\", \"smart\", \"smart\", \"smart\", \"smart\", \"smart\", \"smart\", \"smart\", \"smart\", \"smart\", \"smart\", \"smart\", \"smart\", \"smart\", \"smart\", \"smart\", \"smart\", \"smart\", \"smart\", \"smart\", \"smart\", \"smart\", \"smart\", \"smart\", \"smart\", \"smart\", \"smart\", \"smart\", \"smart\", \"smart\", \"smart\", \"smart\", \"smart\", \"smart\", \"smart\", \"smart\", \"smart\", \"smart\", \"smart\", \"smart\", \"smart\", \"smart\", \"smart\", \"smart\", \"smart\", \"smart\", \"smart\", \"smart\", \"smart\", \"smart\", \"smart\", \"smart\", \"smart\", \"smart\", \"smart\", \"smart\", \"smart\", \"smart\", \"smart\", \"smart\", \"smart\", \"smart\", \"smart\", \"smart\", \"smart\", \"smart\", \"smart\", \"smart\", \"smart\", \"smart\", \"smart\", \"smart\", \"smart\", \"smart\", \"smart\", \"smart\", \"smart\", \"smart\", \"smart\", \"smart\", \"smart\", \"smart\", \"smart\", \"smart\", \"smart\", \"smart\", \"smart\", \"smart\", \"smart\", \"smart\", \"smart\", \"smart\", \"smart\", \"smart\", \"smart\", \"smart\", \"smart\", \"smart\", \"smart\", \"smart\", \"smart\", \"smart\", \"smart\", \"smart\", \"smart\", \"smart\", \"smart\", \"smart\", \"smart\", \"smart\", \"smart\", \"smart\", \"smart\", \"smart\", \"smart\", \"smart\", \"smart\", \"smart\", \"smart\", \"smart\", \"smart\", \"smart\", \"smart\", \"smart\", \"smart\", \"smart\", \"smart\", \"smart\", \"smart\", \"smart\", \"smart\", \"smart\", \"smart\", \"smart\", \"smart\", \"smart\", \"smart\", \"smart\", \"smart\", \"smart\", \"smart\", \"smart\", \"smart\", \"smart\", \"smart\", \"smart\", \"smart\", \"smart\", \"smart\", \"smart\", \"smart\", \"smart\", \"smart\", \"smart\", \"smart\", \"smart\", \"smart\", \"smart\", \"smart\", \"smart\", \"smart\", \"smart\", \"smart\", \"smart\", \"smart\", \"smart\", \"smart\", \"smart\", \"smart\", \"smart\", \"smart\", \"smart\", \"smart\", \"smart\", \"smart\", \"smart\", \"smart\", \"smart\", \"smart\", \"smart\", \"smart\", \"smart\", \"smart\", \"smart\", \"smart\", \"smart\", \"smart\", \"smart\", \"smart\", \"smart\", \"smart\", \"smart\", \"smart\", \"smart\", \"smart\", \"smart\", \"smart\", \"smart\", \"smart\", \"smart\", \"smart\", \"smart\", \"smart\", \"smart\", \"smart\", \"smart\", \"smart\", \"smart\", \"smart\", \"smart\", \"smart\", \"smart\", \"smart\", \"smart\", \"smart\", \"smart\", \"smart\", \"smart\", \"smart\", \"smart\", \"smart\", \"smart\", \"smart\", \"smart\", \"smart\", \"smart\", \"smart\", \"smart\", \"smart\", \"smart\", \"smart\", \"smart\", \"smart\", \"smart\", \"smart\", \"smart\", \"smart\", \"smart\", \"smart\", \"smart\", \"smart\", \"smart\", \"smart\", \"smart\", \"smart\", \"smart\", \"smart\", \"smart\", \"smart\", \"smart\", \"smart\", \"smart\", \"smart\", \"smart\", \"smart\", \"smart\", \"smart\", \"smart\", \"smart\", \"smart\", \"smart\", \"smart\", \"smart\", \"smart\", \"smart\", \"smart\", \"smart\", \"smart\", \"smart\", \"smart\", \"smart\", \"smart\", \"smart\", \"smart\", \"smart\", \"smart\", \"smart\", \"smart\", \"smart\", \"smart\", \"smart\", \"smart\", \"smart\", \"smart\", \"smart\", \"smart\", \"smart\", \"smart\", \"smart\", \"smart\", \"smart\", \"smart\", \"smart\", \"smart\", \"smart\", \"smart\", \"smart\", \"smart\", \"smart\", \"smart\", \"smart\", \"smart\", \"smart\", \"smart\", \"smart\", \"smart\", \"smart\", \"smart\", \"smart\", \"smart\", \"smart\", \"smart\", \"smart\", \"smart\", \"smart\", \"smart\", \"smart\", \"smart\", \"smart\", \"smart\", \"smart\", \"smart\", \"smart\", \"smart\", \"smart\", \"smart\", \"smart\", \"smart\", \"smart\", \"smart\", \"smart\", \"smart\", \"smart\", \"smart\", \"smart\", \"smart\", \"smart\", \"smart\", \"smart\", \"smart\", \"smart\", \"smart\", \"smart\", \"smart\", \"smart\", \"smart\", \"smart\", \"smart\", \"smart\", \"smart\", \"smart\", \"smart\", \"smart\", \"smart\", \"smart\", \"smart\", \"smart\", \"smart\", \"smart\", \"smart\", \"smart\", \"smart\", \"smart\", \"smart\", \"smart\", \"smart\", \"smart\", \"smart\", \"smart\", \"smart\", \"smart\", \"smart\", \"smart\", \"smart\", \"smart\", \"smart\", \"smart\", \"smart\", \"smart\", \"smart\", \"smart\", \"smart\", \"smart\", \"smart\", \"smart\", \"smart\", \"smart\", \"smart\", \"smart\", \"smart\", \"smart\", \"smart\", \"smart\", \"smart\", \"smart\", \"smart\", \"smart\", \"smart\", \"smart\", \"smart\", \"smart\", \"smart\", \"smart\", \"smart\", \"smart\", \"smart\", \"smart\", \"smart\", \"smart\", \"smart\", \"smart\", \"smart\", \"smart\", \"smart\", \"smart\", \"smart\", \"smart\", \"smart\", \"smart\", \"smart\", \"smart\", \"smart\", \"smart\", \"smart\", \"smart\", \"smart\", \"smart\", \"smart\", \"smart\", \"smart\", \"smart\", \"smart\", \"smart\", \"smart\", \"smart\", \"smart\", \"smart\", \"smart\", \"smart\", \"smart\", \"smart\", \"smart\", \"smart\", \"smart\", \"smart\", \"smart\", \"smart\", \"smart\", \"smart\", \"smart\", \"smart\", \"smart\", \"smart\", \"smart\", \"smart\", \"smart\", \"smart\", \"smart\", \"smart\", \"smart\", \"smart\", \"smart\", \"smart\", \"smart\", \"smart\", \"smart\", \"smart\", \"smart\", \"smart\", \"smart\", \"smart\", \"smart\", \"smart\", \"smart\", \"smart\", \"smart\", \"smart\", \"smart\", \"smart\", \"smart\", \"smart\", \"smart\", \"smart\", \"smart\", \"smart\", \"smart\", \"smart\", \"smart\", \"smart\", \"smart\", \"smart\", \"smart\", \"smart\", \"smart\", \"smart\", \"smart\", \"smart\", \"smart\", \"smart\", \"smart\", \"smart\", \"smart\", \"smart\", \"smart\", \"smart\", \"smart\", \"smart\", \"smart\", \"smart\", \"smart\", \"smart\", \"smart\", \"smart\", \"smart\", \"smart\", \"smart\", \"smart\", \"smart\", \"smart\", \"smart\", \"smart\", \"smart\", \"smart\", \"smart\", \"smart\", \"smart\", \"smart\", \"smart\", \"smart\", \"smart\", \"smart\", \"smart\", \"smart\", \"smart\", \"smart\", \"smart\", \"smart\", \"smart\", \"smart\", \"smart\", \"smart\", \"smart\", \"smart\", \"smart\", \"smart\", \"smart\", \"smart\", \"smart\", \"smart\", \"smart\", \"smart\", \"smart\", \"smart\", \"smart\", \"smart\", \"smart\", \"smart\", \"smart\", \"smart\", \"smart\", \"smart\", \"smart\", \"smart\", \"smart\", \"smart\", \"smart\", \"smart\", \"smart\", \"smart\", \"smart\", \"smart\", \"smart\", \"smart\", \"smart\", \"smart\", \"smart\", \"smart\", \"smart\", \"smart\", \"smart\", \"smart\", \"smart\", \"smart\", \"smart\", \"smart\", \"smart\", \"smart\", \"smart\", \"smart\", \"smart\", \"smart\", \"smart\", \"smart\", \"smart\", \"smart\", \"smart\", \"smart\", \"smart\", \"smart\", \"smart\", \"smart\", \"smart\", \"smart\", \"smart\", \"smart\", \"smart\", \"smart\", \"smart\", \"smart\", \"smart\", \"smart\", \"smart\", \"smart\", \"smart\", \"smart\", \"smart\", \"smart\", \"smart\", \"smart\", \"smart\", \"smart\", \"smart\", \"smart\", \"smart\", \"smart\", \"smart\", \"smart\", \"smart\", \"smart\", \"smart\", \"smart\", \"smart\", \"smart\", \"smart\", \"smart\", \"smart\", \"smart\", \"smart\", \"smart\", \"smart\", \"smart\", \"smart\", \"smart\", \"smart\", \"smart\", \"smart\", \"smart\", \"smart\", \"smart\", \"smart\", \"smart\", \"smart\", \"smart\", \"smart\", \"smart\", \"smart\", \"smart\", \"smart\", \"smart\", \"smart\", \"smart\", \"smart\", \"smart\", \"smart\", \"smart\", \"smart\", \"smart\", \"smart\", \"smart\", \"smart\", \"smart\", \"smart\", \"smart\", \"smart\", \"smart\", \"smart\", \"smart\", \"smart\", \"smart\", \"smart\", \"smart\", \"smart\", \"smart\", \"smart\", \"smart\", \"smart\", \"smart\", \"smart\", \"smart\", \"smart\", \"smart\", \"smart\", \"smart\", \"smart\", \"smart\", \"smart\", \"smart\", \"smart\", \"smart\", \"smart\", \"smart\", \"smart\", \"smart\", \"smart\", \"smart\", \"smart\", \"smart\", \"smart\", \"smart\", \"smart\", \"smart\", \"smart\", \"smart\", \"smart\", \"smart\", \"smart\", \"smart\", \"smart\", \"smart\", \"smart\", \"smart\", \"smart\", \"smart\", \"smart\", \"smart\", \"smart\", \"smart\", \"smart\", \"smart\", \"smart\", \"smart\", \"smart\", \"smart\", \"smart\", \"smart\", \"smart\", \"smart\", \"smart\", \"smart\", \"smart\", \"smart\", \"smart\", \"smart\", \"smart\", \"smart\", \"smart\", \"smart\", \"smart\", \"smart\", \"smart\", \"smart\", \"smart\", \"smart\", \"smart\", \"smart\", \"smart\", \"smart\", \"smart\", \"smart\", \"smart\", \"smart\", \"smart\", \"smart\", \"smart\", \"smart\", \"smart\", \"smart\", \"smart\", \"smart\", \"smart\", \"smart\", \"smart\", \"smart\", \"smart\", \"smart\", \"smart\", \"smart\", \"smart\", \"smart\", \"smart\", \"smart\", \"smart\", \"smart\", \"smart\", \"smart\", \"smart\", \"smart\", \"smart\", \"smart\", \"smart\", \"smart\", \"smart\", \"smart\", \"smart\", \"smart\", \"smart\", \"smart\", \"smart\", \"smart\", \"smart\", \"smart\", \"smart\", \"smart\", \"smart\", \"smart\", \"smart\", \"smart\", \"smart\", \"smart\", \"smart\", \"smart\", \"smart\", \"smart\", \"smart\", \"smart\", \"smart\", \"smart\", \"smart\", \"smart\", \"smart\", \"smart\", \"smart\", \"smart\", \"smart\", \"smart\", \"smart\", \"smart\", \"smart\", \"smart\", \"smart\", \"smart\", \"smart\", \"smart\", \"smart\", \"smart\", \"smart\", \"smart\", \"smart\", \"smart\", \"smart\", \"smart\", \"smart\", \"smart\", \"smart\", \"smart\", \"smart\", \"smart\", \"smart\", \"smart\", \"smart\", \"smart\", \"smart\", \"smart\", \"smart\", \"smart\", \"smart\", \"smart\", \"smart\", \"smart\", \"smart\", \"smart\", \"smart\", \"smart\", \"smart\", \"smart\", \"smart\", \"smart\", \"smart\", \"smart\", \"smart\", \"smart\", \"smart\", \"smart\", \"smart\", \"smart\", \"smart\", \"smart\", \"smart\", \"smart\", \"smart\", \"smart\", \"smart\", \"smart\", \"smart\", \"smart\", \"smart\", \"smart\", \"smart\", \"smart\", \"smart\", \"smart\", \"smart\", \"smart\", \"smart\", \"smart\", \"smart\", \"smart\", \"smart\", \"smart\", \"smart\", \"smart\", \"smart\", \"smart\", \"smart\", \"smart\", \"smart\", \"smart\", \"smart\", \"smart\", \"smart\", \"smart\", \"smart\", \"smart\", \"smart\", \"smart\", \"smart\", \"smart\", \"smart\", \"smart\", \"smart\", \"smart\", \"smart\", \"smart\", \"smart\", \"smart\", \"smart\", \"smart\", \"smart\", \"smart\", \"smart\", \"smart\", \"smart\", \"smart\", \"smart\", \"smart\", \"smart\", \"smart\", \"smart\", \"smart\", \"smart\", \"smart\", \"smart\", \"smart\", \"smart\", \"smart\", \"smart\", \"smart\", \"smart\", \"smart\", \"smart\", \"smart\", \"smart\", \"smart\", \"smart\", \"smart\", \"smart\", \"smart\", \"smart\", \"smart\", \"smart\", \"smart\", \"smart\", \"smart\", \"smart\", \"smart\", \"smart\", \"smart\", \"smart\", \"smart\", \"smart\", \"smart\", \"smart\", \"smart\", \"smart\", \"smart\", \"smart\", \"smart\", \"smart\", \"smart\", \"smart\", \"smart\", \"smart\", \"smart\", \"smart\", \"smart\", \"smart\", \"smart\", \"smart\", \"smart\", \"smart\", \"smart\", \"smart\", \"smart\", \"smart\", \"smart\", \"smart\", \"smart\", \"smart\", \"smart\", \"smart\", \"smart\", \"smart\", \"smart\", \"smart\", \"smart\", \"smart\", \"smart\", \"smart\", \"smart\", \"smart\", \"smart\", \"smart\", \"smart\", \"smart\", \"smart\", \"smart\", \"smart\", \"smart\", \"smart\", \"smart\", \"smart\", \"smart\", \"smart\", \"smart\", \"smart\", \"smart\", \"smart\", \"smart\", \"smart\", \"smart\", \"smart\", \"smart\", \"smart\", \"smart\", \"smart\", \"smart\", \"smart\", \"smart\", \"smart\", \"smart\", \"smart\", \"smart\", \"smart\", \"smart\", \"smart\", \"smart\", \"smart\", \"smart\", \"smart\", \"smart\", \"smart\", \"smart\", \"smart\", \"smart\", \"smart\", \"smart\", \"smart\", \"smart\", \"smart\", \"smart\", \"smart\", \"smart\", \"smart\", \"smart\", \"smart\", \"smart\", \"smart\", \"smart\", \"smart\", \"smart\", \"smart\", \"smart\", \"smart\", \"smart\", \"smart\", \"smart\", \"smart\", \"smart\", \"smart\", \"smart\", \"smart\", \"smart\", \"smart\", \"smart\", \"smart\", \"smart\", \"smart\", \"smart\", \"smart\", \"smart\", \"smart\", \"smart\", \"smart\", \"smart\", \"smart\", \"smart\", \"smart\", \"smart\", \"smart\", \"smart\", \"smart\", \"smart\", \"smart\", \"smart\", \"smart\", \"smart\", \"smart\", \"smart\", \"smart\", \"smart\", \"smart\", \"smart\", \"smart\", \"smart\", \"smart\", \"smart\", \"smart\", \"smart\", \"smart\", \"smart\", \"smart\", \"smart\", \"smart\", \"smart\", \"smart\", \"smart\", \"smart\", \"smart\", \"smart\", \"smart\", \"smart\", \"smart\", \"smart\", \"smart\", \"smart\", \"smart\", \"smart\", \"smart\", \"smart\", \"smart\", \"smart\", \"smart\", \"smart\", \"smart\", \"smart\", \"smart\", \"smart\", \"smart\", \"smart\", \"smart\", \"smart\", \"smart\", \"smart\", \"smart\", \"smart\", \"smart\", \"smart\", \"smart\", \"smart\", \"smart\", \"smart\", \"smart\", \"smart\", \"smart\", \"smart\", \"smart\", \"smart\", \"smart\", \"smart\", \"smart\", \"smart\", \"smart\", \"smart\", \"smart\", \"smart\", \"smart\", \"smart\", \"smart\", \"smart\", \"smart\", \"smart\", \"smart\", \"smart\", \"smart\", \"smart\", \"smart\", \"smart\", \"smart\", \"smart\", \"smart\", \"smart\", \"smart\", \"smart\", \"smart\", \"smart\", \"smart\", \"smart\", \"smart\", \"smart\", \"smart\", \"smart\", \"smart\", \"smart\", \"smart\", \"smart\", \"smart\", \"smart\", \"smart\", \"smart\", \"smart\", \"smart\", \"smart\", \"smart\", \"smart\", \"smart\", \"smart\", \"smart\", \"smart\", \"smart\", \"smart\", \"smart\", \"smart\", \"smart\", \"smart\", \"smart\", \"smart\", \"smart\", \"smart\", \"smart\", \"smart\", \"smart\", \"smart\", \"smart\", \"smart\", \"smart\", \"smart\", \"smart\", \"smart\", \"smart\", \"smart\", \"smart\", \"smart\", \"smart\", \"smart\", \"smart\", \"smart\", \"smart\", \"smart\", \"smart\", \"smart\", \"smart\", \"smart\", \"smart\", \"smart\", \"smart\", \"smart\", \"smart\", \"smart\", \"smart\", \"smart\", \"smart\", \"smart\", \"smart\", \"smart\", \"smart\", \"smart\", \"smart\", \"smart\", \"smart\", \"smart\", \"smart\", \"smart\", \"smart\", \"smart\", \"smart\", \"smart\", \"smart\", \"smart\", \"smart\", \"smart\", \"smart\", \"smart\", \"smart\", \"smart\", \"smart\", \"smart\", \"smart\", \"smart\", \"smart\", \"smart\", \"smart\", \"smart\", \"smart\", \"smart\", \"smart\", \"smart\", \"smart\", \"smart\", \"smart\", \"smart\", \"smart\", \"smart\", \"smart\", \"smart\", \"smart\", \"smart\", \"smart\", \"smart\", \"smart\", \"smart\", \"smart\", \"smart\", \"smart\", \"smart\", \"smart\", \"smart\", \"smart\", \"smart\", \"smart\", \"smart\", \"smart\", \"smart\", \"smart\", \"smart\", \"smart\", \"smart\", \"smart\", \"smart\", \"smart\", \"smart\", \"smart\", \"smart\", \"smart\", \"smart\", \"smart\", \"smart\", \"smart\", \"smart\", \"smart\", \"smart\", \"smart\"], \"x0\": \" \", \"xaxis\": \"x\", \"y\": [13, 12, 11, 4, 16, 10, 4, 51, 7, 38, 52, 44, 56, 56, 47, 54, 41, 64, 42, 31, 18, 21, 39, 26, 26, 11, 27, 26, 56, 2, 12, 11, 7, 15, 14, 12, 14, 9, 14, 10, 17, 4, 13, 12, 13, 6, 7, 15, 13, 14, 13, 25, 2, 10, 15, 15, 21, 23, 12, 48, 51, 34, 36, 39, 43, 48, 53, 68, 3, 74, 90, 73, 61, 68, 68, 80, 24, 5, 9, 10, 49, 46, 16, 35, 28, 27, 41, 40, 29, 27, 14, 43, 16, 57, 48, 39, 13, 9, 10, 22, 14, 21, 15, 8, 23, 44, 38, 62, 24, 93, 91, 17, 91, 101, 92, 97, 106, 27, 25, 38, 36, 35, 35, 30, 41, 31, 33, 36, 30, 47, 28, 77, 80, 72, 36, 72, 77, 6, 26, 33, 37, 53, 51, 54, 51, 50, 50, 54, 63, 51, 5, 3, 1, 3, 26, 18, 16, 13, 10, 7, 26, 75, 15, 10, 9, 9, 6, 8, 6, 5, 10, 6, 12, 3, 16, 16, 12, 58, 52, 48, 71, 55, 49, 57, 49, 52, 63, 65, 5, 34, 37, 48, 33, 13, 73, 66, 5, 6, 3, 3, 3, 111, 96, 19, 106, 104, 80, 65, 65, 28, 55, 62, 77, 62, 54, 53, 69, 38, 30, 25, 31, 28, 29, 34, 36, 39, 31, 31, 32, 39, 40, 23, 39, 34, 49, 16, 29, 27, 19, 17, 24, 23, 26, 22, 21, 6, 19, 22, 8, 9, 8, 6, 12, 17, 12, 14, 33, 46, 40, 26, 39, 37, 26, 33, 31, 40, 58, 79, 56, 52, 64, 69, 18, 66, 62, 70, 46, 54, 48, 14, 49, 52, 45, 68, 47, 64, 73, 78, 63, 50, 59, 47, 19, 29, 13, 28, 28, 21, 56, 8, 16, 13, 12, 11, 15, 16, 19, 23, 16, 17, 19, 8, 5, 24, 24, 21, 19, 22, 20, 24, 25, 16, 20, 34, 27, 29, 3, 21, 15, 97, 80, 71, 108, 86, 102, 73, 93, 96, 84, 13, 36, 32, 27, 35, 30, 33, 16, 33, 25, 33, 107, 72, 73, 56, 54, 48, 44, 51, 47, 6, 45, 54, 36, 52, 30, 28, 6, 41, 29, 43, 23, 38, 38, 32, 50, 41, 37, 38, 39, 49, 33, 51, 70, 56, 22, 63, 59, 78, 47, 69, 72, 79, 76, 6, 85, 16, 22, 23, 5, 7, 14, 25, 60, 63, 53, 49, 56, 49, 31, 34, 34, 13, 40, 30, 28, 25, 82, 5, 70, 79, 25, 27, 1, 2, 1, 2, 3, 1, 1, 30, 33, 40, 27, 37, 42, 34, 29, 2, 4, 98, 102, 143, 85, 14, 43, 39, 37, 31, 57, 42, 44, 37, 42, 42, 40, 36, 3, 32, 32, 26, 39, 43, 49, 47, 44, 61, 13, 51, 41, 47, 34, 47, 36, 50, 33, 29, 29, 46, 17, 10, 16, 21, 16, 6, 19, 19, 16, 20, 2, 7, 7, 8, 87, 82, 42, 73, 72, 79, 75, 69, 69, 69, 61, 64, 60, 72, 58, 56, 55, 63, 30, 15, 23, 31, 44, 66, 62, 74, 48, 68, 57, 50, 32, 47, 64, 72, 27, 17, 13, 24, 22, 21, 25, 15, 14, 25, 1, 24, 26, 90, 19, 2, 9, 7, 7, 8, 3, 31, 53, 31, 1, 43, 57, 33, 44, 43, 8, 24, 40, 42, 46, 55, 51, 51, 61, 51, 80, 66, 3, 68, 105, 87, 78, 101, 103, 99, 111, 60, 111, 78, 92, 22, 92, 90, 93, 90, 99, 36, 36, 29, 26, 42, 35, 73, 99, 85, 91, 99, 77, 74, 34, 15, 17, 13, 14, 15, 17, 14, 48, 47, 52, 47, 46, 47, 40, 42, 48, 59, 52, 48, 62, 65, 64, 55, 48, 69, 51, 72, 57, 60, 68, 2, 30, 42, 41, 40, 46, 41, 44, 34, 7, 44, 39, 20, 35, 40, 35, 28, 37, 37, 43, 37, 33, 25, 14, 13, 12, 2, 15, 14, 14, 46, 64, 78, 23, 70, 72, 68, 90, 70, 54, 71, 8, 4, 5, 2, 8, 7, 4, 10, 13, 18, 10, 3, 15, 14, 18, 43, 68, 19, 66, 58, 68, 38, 57, 62, 57, 58, 40, 38, 55, 64, 40, 20, 55, 27, 43, 40, 59, 47, 17, 18, 19, 24, 13, 13, 18, 30, 82, 16, 41, 34, 31, 46, 46, 24, 3, 3, 1, 1, 64, 46, 73, 61, 51, 54, 55, 65, 60, 81, 50, 69, 70, 63, 17, 71, 7, 5, 8, 12, 10, 11, 9, 9, 7, 9, 1, 20, 29, 22, 21, 15, 31, 23, 23, 18, 1, 20, 17, 20, 106, 8, 2, 103, 105, 20, 8, 20, 26, 24, 30, 29, 26, 16, 16, 17, 20, 54, 20, 28, 28, 25, 15, 31, 21, 4, 4, 2, 5, 66, 72, 44, 70, 20, 27, 36, 49, 19, 15, 5, 8, 14, 25, 26, 28, 11, 20, 66, 60, 73, 82, 88, 76, 73, 15, 20, 16, 4, 20, 10, 20, 103, 129, 54, 82, 56, 35, 53, 59, 77, 66, 51, 65, 54, 11, 10, 17, 16, 16, 64, 18, 68, 6, 86, 78, 68, 56, 61, 58, 74, 62, 65, 25, 16, 8, 15, 12, 14, 3, 6, 6, 10, 14, 8, 13, 9, 7, 6, 8, 6, 28, 33, 27, 32, 26, 38, 19, 33, 38, 34, 31, 23, 20, 32, 26, 28, 20, 27, 27, 30, 1, 5, 6, 10, 17, 13, 16, 25, 27, 35, 31, 27, 26, 22, 13, 27, 35, 76, 66, 80, 47, 99, 97, 30, 25, 34, 23, 23, 28, 34, 31, 30, 25, 28, 37, 33, 29, 24, 26, 17, 19, 27, 22, 34, 25, 23, 23, 24, 25, 16, 97, 77, 60, 83, 79, 82, 80, 98, 4, 14, 10, 16, 29, 28, 8, 20, 29, 31, 36, 27, 23, 16, 32, 14, 25, 44, 40, 26, 44, 40, 52, 33, 43, 38, 84, 93, 96, 93, 90, 98, 78, 75, 45, 99, 84, 20, 88, 91, 103, 10, 8, 25, 22, 1, 45, 40, 42, 31, 50, 22, 38, 41, 31, 30, 9, 6, 6, 11, 4, 10, 8, 9, 2, 16, 17, 17, 18, 21, 25, 26, 20, 37, 47, 13, 43, 43, 45, 11, 15, 14, 13, 12, 35, 4, 35, 45, 50, 51, 59, 49, 19, 16, 14, 17, 24, 24, 75, 91, 76, 85, 69, 84, 78, 66, 8, 17, 25, 23, 28, 26, 29, 22, 29, 64, 2, 1, 1, 1, 51, 20, 56, 44, 45, 42, 57, 64, 67, 80, 66, 63, 72, 67, 79, 29, 53, 71, 21, 19, 20, 16, 54, 44, 39, 39, 44, 36, 15, 42, 39, 48, 112, 86, 105, 106, 108, 117, 102, 110, 98, 114, 31, 12, 68, 11, 7, 6, 60, 86, 55, 35, 38, 22, 30, 32, 115, 108, 97, 40, 45, 40, 32, 46, 50, 41, 30, 38, 4, 38, 33, 25, 43, 45, 36, 62, 41, 46, 40, 38, 63, 48, 57, 9, 77, 82, 59, 101, 77, 77, 80, 77, 73, 28, 68, 77, 30, 23, 24, 22, 26, 25, 17, 17, 33, 30, 23, 22, 24, 32, 23, 31, 35, 26, 21, 24, 67, 61, 76, 66, 60, 38, 31, 29, 30, 7, 27, 28, 33, 5, 34, 26, 20, 28, 30, 27, 31, 28, 13, 33, 51, 60, 34, 48, 58, 49, 40, 2, 37, 34, 27, 32, 48, 32, 60, 18, 57, 52, 48, 16, 26, 18, 16, 20, 22, 31, 19, 25, 32, 31, 23, 30, 24, 18, 60, 59, 85, 60, 56, 134, 125, 137, 134, 15, 139, 124, 136, 3, 12, 15, 29, 20, 23, 25, 17, 38, 45, 37, 59, 52, 47, 45, 49, 51, 6, 11, 10, 47, 36, 30, 35, 38, 6, 34, 38, 16, 13, 10, 11, 14, 8, 9, 8, 10, 8, 7, 6, 26, 30, 21, 29, 34, 33, 23, 28, 14, 11, 14, 7, 11, 9, 11, 8, 7, 12, 16, 92, 88, 33, 6, 2, 4, 4, 5, 3, 4, 5, 15, 60, 48, 13, 52, 54, 53, 55, 50, 90, 39, 92, 69, 65, 16, 21, 25, 14, 4, 33, 48, 35, 48, 55, 55, 57, 70, 57, 55, 64, 65, 12, 60, 66, 18, 22, 5, 12, 10, 17, 13, 11, 10, 10, 11, 1, 46, 43, 44, 39, 19, 42, 30, 30, 41, 89, 32, 43, 42, 40, 41, 34, 12, 36, 34, 24, 29, 41, 28, 55, 50, 48, 55, 41, 55, 42, 48, 48, 56, 38, 77, 69, 66, 57, 67, 86, 73, 80, 73, 6, 11, 17, 7, 12, 17, 14, 12, 9, 9, 17, 13, 9, 14, 1, 1, 2, 3, 2, 4, 2, 1, 3, 24, 40, 40, 43, 53, 85, 1, 1, 1, 3, 40, 45, 1, 30, 27, 31, 60, 59, 36, 51, 66, 47, 56, 54, 16, 56, 38, 2, 3, 1, 6, 6, 6, 4, 2, 7, 5, 5, 1, 24, 34, 37, 33, 24, 26, 29, 25, 30, 20, 25, 29, 13, 58, 9, 59, 51, 63, 41, 50, 49, 61, 32, 45, 47, 56, 40, 49, 44, 14, 59, 49, 29, 64, 48, 57, 48, 59, 37, 21, 11, 41, 28, 37, 38, 4, 1, 8, 3, 6, 10, 10, 6, 43, 34, 39, 41, 40, 41, 39, 42, 17, 34, 27, 22, 21, 20, 5, 103, 106, 98, 51, 91, 85, 3, 6, 4, 2, 46, 38, 59, 52, 43, 45, 46, 39, 29, 81, 78, 81, 83, 92, 54, 62, 13, 56, 49, 19, 52, 41, 65, 2, 14, 18, 10, 52, 62, 49, 44, 36, 63, 45, 60, 48, 53, 16, 29, 42, 31, 42, 37, 48, 44, 8, 41, 29, 45, 49, 46, 44, 47, 88, 72, 72, 82, 86, 75, 91, 86, 77, 81, 4, 50, 71, 66, 69, 11, 17, 9, 11, 12, 7, 9, 11, 12, 79, 46, 98, 83, 72, 94, 91, 84, 77, 86, 64, 61, 79, 58, 63, 85, 79, 96, 97, 88, 101, 94, 86, 83, 74, 105, 104, 21, 10, 23, 14, 12, 11, 49, 66, 53, 12, 10, 11, 15, 10, 5, 38, 28, 21, 27, 10, 22, 51, 63, 75, 31, 32, 43, 1, 38, 64, 47, 39, 66, 18, 34, 36, 40, 91, 99, 49, 93, 99, 109, 78, 47, 97, 7, 50, 30, 56, 47, 27, 23, 30, 25, 28, 23, 26, 21, 17, 20, 18, 21, 26, 33, 36, 28, 25, 28, 34, 11, 29, 23, 23, 37, 45, 47, 39, 52, 53, 45, 45, 42, 22, 19, 18, 29, 25, 27, 26, 21, 13, 21, 21, 51, 32, 55, 57, 52, 47, 54, 53, 49, 18, 9, 11, 9, 5, 11, 13, 13, 14, 13, 5, 11, 21, 7, 64, 62, 80, 82, 65, 84, 70, 80, 30, 66, 85, 60, 16, 26, 24, 21, 27, 34, 20, 30, 12, 23, 21, 22, 55, 62, 71, 65, 67, 63, 68, 19, 61, 86, 72, 73, 83, 75, 31, 19, 19, 26, 20, 31, 20, 8, 18, 21, 19, 25, 20, 20, 19, 25, 22, 6, 14, 18, 63, 71, 47, 56, 60, 62, 61, 72, 70, 63, 2, 43, 57, 30, 43, 47, 46, 44, 57, 47, 107, 127, 121, 109, 91, 83, 96, 1, 23, 13, 20, 23, 21, 81, 103, 20, 35, 17, 21, 32, 37, 50, 38, 46, 62, 50, 47, 45, 48, 1, 15, 10, 21, 13, 19, 19, 41, 49, 51, 42, 35, 40, 46, 35, 45, 9, 46, 29, 17, 14, 20, 62, 20, 42, 44, 66, 59, 11, 48], \"y0\": \" \", \"yaxis\": \"y\"}],\n",
              "                        {\"legend\": {\"tracegroupgap\": 0}, \"template\": {\"data\": {\"bar\": [{\"error_x\": {\"color\": \"#2a3f5f\"}, \"error_y\": {\"color\": \"#2a3f5f\"}, \"marker\": {\"line\": {\"color\": \"#E5ECF6\", \"width\": 0.5}}, \"type\": \"bar\"}], \"barpolar\": [{\"marker\": {\"line\": {\"color\": \"#E5ECF6\", \"width\": 0.5}}, \"type\": \"barpolar\"}], \"carpet\": [{\"aaxis\": {\"endlinecolor\": \"#2a3f5f\", \"gridcolor\": \"white\", \"linecolor\": \"white\", \"minorgridcolor\": \"white\", \"startlinecolor\": \"#2a3f5f\"}, \"baxis\": {\"endlinecolor\": \"#2a3f5f\", \"gridcolor\": \"white\", \"linecolor\": \"white\", \"minorgridcolor\": \"white\", \"startlinecolor\": \"#2a3f5f\"}, \"type\": \"carpet\"}], \"choropleth\": [{\"colorbar\": {\"outlinewidth\": 0, \"ticks\": \"\"}, \"type\": \"choropleth\"}], \"contour\": [{\"colorbar\": {\"outlinewidth\": 0, \"ticks\": \"\"}, \"colorscale\": [[0.0, \"#0d0887\"], [0.1111111111111111, \"#46039f\"], [0.2222222222222222, \"#7201a8\"], [0.3333333333333333, \"#9c179e\"], [0.4444444444444444, \"#bd3786\"], [0.5555555555555556, \"#d8576b\"], [0.6666666666666666, \"#ed7953\"], [0.7777777777777778, \"#fb9f3a\"], [0.8888888888888888, \"#fdca26\"], [1.0, \"#f0f921\"]], \"type\": \"contour\"}], \"contourcarpet\": [{\"colorbar\": {\"outlinewidth\": 0, \"ticks\": \"\"}, \"type\": \"contourcarpet\"}], \"heatmap\": [{\"colorbar\": {\"outlinewidth\": 0, \"ticks\": \"\"}, \"colorscale\": [[0.0, \"#0d0887\"], [0.1111111111111111, \"#46039f\"], [0.2222222222222222, \"#7201a8\"], [0.3333333333333333, \"#9c179e\"], [0.4444444444444444, \"#bd3786\"], [0.5555555555555556, \"#d8576b\"], [0.6666666666666666, \"#ed7953\"], [0.7777777777777778, \"#fb9f3a\"], [0.8888888888888888, \"#fdca26\"], [1.0, \"#f0f921\"]], \"type\": \"heatmap\"}], \"heatmapgl\": [{\"colorbar\": {\"outlinewidth\": 0, \"ticks\": \"\"}, \"colorscale\": [[0.0, \"#0d0887\"], [0.1111111111111111, \"#46039f\"], [0.2222222222222222, \"#7201a8\"], [0.3333333333333333, \"#9c179e\"], [0.4444444444444444, \"#bd3786\"], [0.5555555555555556, \"#d8576b\"], [0.6666666666666666, \"#ed7953\"], [0.7777777777777778, \"#fb9f3a\"], [0.8888888888888888, \"#fdca26\"], [1.0, \"#f0f921\"]], \"type\": \"heatmapgl\"}], \"histogram\": [{\"marker\": {\"colorbar\": {\"outlinewidth\": 0, \"ticks\": \"\"}}, \"type\": \"histogram\"}], \"histogram2d\": [{\"colorbar\": {\"outlinewidth\": 0, \"ticks\": \"\"}, \"colorscale\": [[0.0, \"#0d0887\"], [0.1111111111111111, \"#46039f\"], [0.2222222222222222, \"#7201a8\"], [0.3333333333333333, \"#9c179e\"], [0.4444444444444444, \"#bd3786\"], [0.5555555555555556, \"#d8576b\"], [0.6666666666666666, \"#ed7953\"], [0.7777777777777778, \"#fb9f3a\"], [0.8888888888888888, \"#fdca26\"], [1.0, \"#f0f921\"]], \"type\": \"histogram2d\"}], \"histogram2dcontour\": [{\"colorbar\": {\"outlinewidth\": 0, \"ticks\": \"\"}, \"colorscale\": [[0.0, \"#0d0887\"], [0.1111111111111111, \"#46039f\"], [0.2222222222222222, \"#7201a8\"], [0.3333333333333333, \"#9c179e\"], [0.4444444444444444, \"#bd3786\"], [0.5555555555555556, \"#d8576b\"], [0.6666666666666666, \"#ed7953\"], [0.7777777777777778, \"#fb9f3a\"], [0.8888888888888888, \"#fdca26\"], [1.0, \"#f0f921\"]], \"type\": \"histogram2dcontour\"}], \"mesh3d\": [{\"colorbar\": {\"outlinewidth\": 0, \"ticks\": \"\"}, \"type\": \"mesh3d\"}], \"parcoords\": [{\"line\": {\"colorbar\": {\"outlinewidth\": 0, \"ticks\": \"\"}}, \"type\": \"parcoords\"}], \"pie\": [{\"automargin\": true, \"type\": \"pie\"}], \"scatter\": [{\"marker\": {\"colorbar\": {\"outlinewidth\": 0, \"ticks\": \"\"}}, \"type\": \"scatter\"}], \"scatter3d\": [{\"line\": {\"colorbar\": {\"outlinewidth\": 0, \"ticks\": \"\"}}, \"marker\": {\"colorbar\": {\"outlinewidth\": 0, \"ticks\": \"\"}}, \"type\": \"scatter3d\"}], \"scattercarpet\": [{\"marker\": {\"colorbar\": {\"outlinewidth\": 0, \"ticks\": \"\"}}, \"type\": \"scattercarpet\"}], \"scattergeo\": [{\"marker\": {\"colorbar\": {\"outlinewidth\": 0, \"ticks\": \"\"}}, \"type\": \"scattergeo\"}], \"scattergl\": [{\"marker\": {\"colorbar\": {\"outlinewidth\": 0, \"ticks\": \"\"}}, \"type\": \"scattergl\"}], \"scattermapbox\": [{\"marker\": {\"colorbar\": {\"outlinewidth\": 0, \"ticks\": \"\"}}, \"type\": \"scattermapbox\"}], \"scatterpolar\": [{\"marker\": {\"colorbar\": {\"outlinewidth\": 0, \"ticks\": \"\"}}, \"type\": \"scatterpolar\"}], \"scatterpolargl\": [{\"marker\": {\"colorbar\": {\"outlinewidth\": 0, \"ticks\": \"\"}}, \"type\": \"scatterpolargl\"}], \"scatterternary\": [{\"marker\": {\"colorbar\": {\"outlinewidth\": 0, \"ticks\": \"\"}}, \"type\": \"scatterternary\"}], \"surface\": [{\"colorbar\": {\"outlinewidth\": 0, \"ticks\": \"\"}, \"colorscale\": [[0.0, \"#0d0887\"], [0.1111111111111111, \"#46039f\"], [0.2222222222222222, \"#7201a8\"], [0.3333333333333333, \"#9c179e\"], [0.4444444444444444, \"#bd3786\"], [0.5555555555555556, \"#d8576b\"], [0.6666666666666666, \"#ed7953\"], [0.7777777777777778, \"#fb9f3a\"], [0.8888888888888888, \"#fdca26\"], [1.0, \"#f0f921\"]], \"type\": \"surface\"}], \"table\": [{\"cells\": {\"fill\": {\"color\": \"#EBF0F8\"}, \"line\": {\"color\": \"white\"}}, \"header\": {\"fill\": {\"color\": \"#C8D4E3\"}, \"line\": {\"color\": \"white\"}}, \"type\": \"table\"}]}, \"layout\": {\"annotationdefaults\": {\"arrowcolor\": \"#2a3f5f\", \"arrowhead\": 0, \"arrowwidth\": 1}, \"coloraxis\": {\"colorbar\": {\"outlinewidth\": 0, \"ticks\": \"\"}}, \"colorscale\": {\"diverging\": [[0, \"#8e0152\"], [0.1, \"#c51b7d\"], [0.2, \"#de77ae\"], [0.3, \"#f1b6da\"], [0.4, \"#fde0ef\"], [0.5, \"#f7f7f7\"], [0.6, \"#e6f5d0\"], [0.7, \"#b8e186\"], [0.8, \"#7fbc41\"], [0.9, \"#4d9221\"], [1, \"#276419\"]], \"sequential\": [[0.0, \"#0d0887\"], [0.1111111111111111, \"#46039f\"], [0.2222222222222222, \"#7201a8\"], [0.3333333333333333, \"#9c179e\"], [0.4444444444444444, \"#bd3786\"], [0.5555555555555556, \"#d8576b\"], [0.6666666666666666, \"#ed7953\"], [0.7777777777777778, \"#fb9f3a\"], [0.8888888888888888, \"#fdca26\"], [1.0, \"#f0f921\"]], \"sequentialminus\": [[0.0, \"#0d0887\"], [0.1111111111111111, \"#46039f\"], [0.2222222222222222, \"#7201a8\"], [0.3333333333333333, \"#9c179e\"], [0.4444444444444444, \"#bd3786\"], [0.5555555555555556, \"#d8576b\"], [0.6666666666666666, \"#ed7953\"], [0.7777777777777778, \"#fb9f3a\"], [0.8888888888888888, \"#fdca26\"], [1.0, \"#f0f921\"]]}, \"colorway\": [\"#636efa\", \"#EF553B\", \"#00cc96\", \"#ab63fa\", \"#FFA15A\", \"#19d3f3\", \"#FF6692\", \"#B6E880\", \"#FF97FF\", \"#FECB52\"], \"font\": {\"color\": \"#2a3f5f\"}, \"geo\": {\"bgcolor\": \"white\", \"lakecolor\": \"white\", \"landcolor\": \"#E5ECF6\", \"showlakes\": true, \"showland\": true, \"subunitcolor\": \"white\"}, \"hoverlabel\": {\"align\": \"left\"}, \"hovermode\": \"closest\", \"mapbox\": {\"style\": \"light\"}, \"paper_bgcolor\": \"white\", \"plot_bgcolor\": \"#E5ECF6\", \"polar\": {\"angularaxis\": {\"gridcolor\": \"white\", \"linecolor\": \"white\", \"ticks\": \"\"}, \"bgcolor\": \"#E5ECF6\", \"radialaxis\": {\"gridcolor\": \"white\", \"linecolor\": \"white\", \"ticks\": \"\"}}, \"scene\": {\"xaxis\": {\"backgroundcolor\": \"#E5ECF6\", \"gridcolor\": \"white\", \"gridwidth\": 2, \"linecolor\": \"white\", \"showbackground\": true, \"ticks\": \"\", \"zerolinecolor\": \"white\"}, \"yaxis\": {\"backgroundcolor\": \"#E5ECF6\", \"gridcolor\": \"white\", \"gridwidth\": 2, \"linecolor\": \"white\", \"showbackground\": true, \"ticks\": \"\", \"zerolinecolor\": \"white\"}, \"zaxis\": {\"backgroundcolor\": \"#E5ECF6\", \"gridcolor\": \"white\", \"gridwidth\": 2, \"linecolor\": \"white\", \"showbackground\": true, \"ticks\": \"\", \"zerolinecolor\": \"white\"}}, \"shapedefaults\": {\"line\": {\"color\": \"#2a3f5f\"}}, \"ternary\": {\"aaxis\": {\"gridcolor\": \"white\", \"linecolor\": \"white\", \"ticks\": \"\"}, \"baxis\": {\"gridcolor\": \"white\", \"linecolor\": \"white\", \"ticks\": \"\"}, \"bgcolor\": \"#E5ECF6\", \"caxis\": {\"gridcolor\": \"white\", \"linecolor\": \"white\", \"ticks\": \"\"}}, \"title\": {\"x\": 0.05}, \"xaxis\": {\"automargin\": true, \"gridcolor\": \"white\", \"linecolor\": \"white\", \"ticks\": \"\", \"title\": {\"standoff\": 15}, \"zerolinecolor\": \"white\", \"zerolinewidth\": 2}, \"yaxis\": {\"automargin\": true, \"gridcolor\": \"white\", \"linecolor\": \"white\", \"ticks\": \"\", \"title\": {\"standoff\": 15}, \"zerolinecolor\": \"white\", \"zerolinewidth\": 2}}}, \"title\": {\"text\": \"\\u0421\\u043a\\u0440\\u0438\\u043f\\u0438\\u0447\\u043d\\u0430\\u044f \\u0434\\u0438\\u0430\\u0433\\u0440\\u0430\\u043c\\u043c\\u0430 sms-\\u0441\\u043e\\u043e\\u0431\\u0449\\u0435\\u043d\\u0438\\u0439\"}, \"violinmode\": \"group\", \"xaxis\": {\"anchor\": \"y\", \"categoryarray\": [\"ultra\", \"smart\"], \"categoryorder\": \"array\", \"domain\": [0.0, 1.0], \"title\": {\"text\": \"\\u0422\\u0430\\u0440\\u0438\\u0444\"}}, \"yaxis\": {\"anchor\": \"x\", \"domain\": [0.0, 1.0], \"title\": {\"text\": \"\\u041a\\u043e\\u043b\\u0438\\u0447\\u0435\\u0441\\u0442\\u0432\\u043e sms\"}}},\n",
              "                        {\"responsive\": true}\n",
              "                    ).then(function(){\n",
              "                            \n",
              "var gd = document.getElementById('c28a96f2-bfeb-4d38-a77f-9d6b1880c998');\n",
              "var x = new MutationObserver(function (mutations, observer) {{\n",
              "        var display = window.getComputedStyle(gd).display;\n",
              "        if (!display || display === 'none') {{\n",
              "            console.log([gd, 'removed!']);\n",
              "            Plotly.purge(gd);\n",
              "            observer.disconnect();\n",
              "        }}\n",
              "}});\n",
              "\n",
              "// Listen for the removal of the full notebook cells\n",
              "var notebookContainer = gd.closest('#notebook-container');\n",
              "if (notebookContainer) {{\n",
              "    x.observe(notebookContainer, {childList: true});\n",
              "}}\n",
              "\n",
              "// Listen for the clearing of the current output cell\n",
              "var outputEl = gd.closest('.output');\n",
              "if (outputEl) {{\n",
              "    x.observe(outputEl, {childList: true});\n",
              "}}\n",
              "\n",
              "                        })\n",
              "                };\n",
              "                \n",
              "            </script>\n",
              "        </div>\n",
              "</body>\n",
              "</html>"
            ]
          },
          "metadata": {
            "tags": []
          }
        }
      ]
    },
    {
      "cell_type": "code",
      "metadata": {
        "colab": {
          "base_uri": "https://localhost:8080/",
          "height": 142
        },
        "id": "L6NKiDJ2O-6H",
        "outputId": "2bf31d97-a2a9-4ddf-9299-0414c6c7e44d"
      },
      "source": [
        "# посчитаем среднее, стандартное отклонение, дисперсию и медиану для sms по тарифам\n",
        "# для var ddof по умолчанию уже равен 1 (для выборки)\n",
        "\n",
        "mc_sms = mobile_customers.pivot_table(index='tariff',  \n",
        "                 values='quantity_of_sms', \n",
        "                 aggfunc=['mean', 'std', 'var', 'median'])\n",
        "mc_sms.columns = ['mean', 'std', 'var', 'median']\n",
        "mc_sms"
      ],
      "execution_count": null,
      "outputs": [
        {
          "output_type": "execute_result",
          "data": {
            "text/html": [
              "<div>\n",
              "<style scoped>\n",
              "    .dataframe tbody tr th:only-of-type {\n",
              "        vertical-align: middle;\n",
              "    }\n",
              "\n",
              "    .dataframe tbody tr th {\n",
              "        vertical-align: top;\n",
              "    }\n",
              "\n",
              "    .dataframe thead th {\n",
              "        text-align: right;\n",
              "    }\n",
              "</style>\n",
              "<table border=\"1\" class=\"dataframe\">\n",
              "  <thead>\n",
              "    <tr style=\"text-align: right;\">\n",
              "      <th></th>\n",
              "      <th>mean</th>\n",
              "      <th>std</th>\n",
              "      <th>var</th>\n",
              "      <th>median</th>\n",
              "    </tr>\n",
              "    <tr>\n",
              "      <th>tariff</th>\n",
              "      <th></th>\n",
              "      <th></th>\n",
              "      <th></th>\n",
              "      <th></th>\n",
              "    </tr>\n",
              "  </thead>\n",
              "  <tbody>\n",
              "    <tr>\n",
              "      <th>smart</th>\n",
              "      <td>33.384029</td>\n",
              "      <td>28.227876</td>\n",
              "      <td>796.812958</td>\n",
              "      <td>28</td>\n",
              "    </tr>\n",
              "    <tr>\n",
              "      <th>ultra</th>\n",
              "      <td>49.363452</td>\n",
              "      <td>47.804457</td>\n",
              "      <td>2285.266143</td>\n",
              "      <td>38</td>\n",
              "    </tr>\n",
              "  </tbody>\n",
              "</table>\n",
              "</div>"
            ],
            "text/plain": [
              "             mean        std          var  median\n",
              "tariff                                           \n",
              "smart   33.384029  28.227876   796.812958      28\n",
              "ultra   49.363452  47.804457  2285.266143      38"
            ]
          },
          "metadata": {
            "tags": []
          },
          "execution_count": 75
        }
      ]
    },
    {
      "cell_type": "markdown",
      "metadata": {
        "id": "t2tvtmTbO-6H"
      },
      "source": [
        "Мы видим, количество sms по тарифам имеет скошенное распределение или положительное ассиметричное, стремиться к нормальному. У обоих тарифов мы видим длинный хвост выше медианы.  \n",
        "Мы можем посчитать вероятное максимальное количество sms для обоих тарифов. Вероятность, что люди буду отправлять больше минимальная "
      ]
    },
    {
      "cell_type": "code",
      "metadata": {
        "colab": {
          "base_uri": "https://localhost:8080/"
        },
        "id": "IBQvsUg3O-6H",
        "outputId": "b62ad316-62d4-478b-b9fb-c40f32154058"
      },
      "source": [
        "# применим правило трех сигм и найдем вероятную верхнюю границу\n",
        "\n",
        "smart_sms = mc_sms.loc ['smart', 'mean'] + 3*mc_sms.loc ['smart', 'std']\n",
        "ultra_sms = mc_sms.loc ['ultra', 'mean'] + 3*mc_sms.loc ['ultra', 'std']\n",
        "print('Вероятное максимальное количество sms для тарифа Smart {:.0f} шт.'.format (smart_sms))\n",
        "print('Вероятное максимальное количество sms для тарифа Ultra {:.0f} шт.'.format (ultra_sms))"
      ],
      "execution_count": null,
      "outputs": [
        {
          "output_type": "stream",
          "text": [
            "Вероятное максимальное количество sms для тарифа Smart 118 шт.\n",
            "Вероятное максимальное количество sms для тарифа Ultra 193 шт.\n"
          ],
          "name": "stdout"
        }
      ]
    },
    {
      "cell_type": "markdown",
      "metadata": {
        "id": "zbFOvlXmO-6H"
      },
      "source": [
        "Снова мы видим, что тариф Ultra имеет слишком большой пакет для sms. У Смарта значения среднего попадает под пакет. Люди, которые тратят смс сверх пакета могут перейти на тариф Ультра, при этом его привлекательность можно повысить снижением количество предоплаченных sms сообщений, и снижение абонетской платы"
      ]
    },
    {
      "cell_type": "markdown",
      "metadata": {
        "id": "SB36XIUyO-6H"
      },
      "source": [
        "### Анализ интернет-траффика"
      ]
    },
    {
      "cell_type": "code",
      "metadata": {
        "colab": {
          "base_uri": "https://localhost:8080/"
        },
        "id": "Q2gtCzSkO-6H",
        "outputId": "4adb26c1-72ec-47ec-da40-7445e94a3256"
      },
      "source": [
        "smart_traf = mobile_customers.query('tariff == \"smart\"')['gb_used_total'].reset_index(drop=True).round(0)\n",
        "\n",
        "smart_traf_var = np.var(smart_traf, ddof=1)\n",
        "\n",
        "# для удобства решили вынести расчет std отдельно, считаем для выборки, ddof=1\n",
        "\n",
        "smart_traf_dev = np.std (smart_traf, ddof=1)\n",
        "\n",
        "\n",
        "print('Тариф Smart')\n",
        "print()\n",
        "print('Дисперсия по потраченному интернет-траффику тарифа SMART: {:.2f}'.format(smart_traf_var))\n",
        "print('Cтандартное отклонение по выборке интернет траффика тарифа SMART: {:.2f}'.format(smart_traf_dev))\n",
        "print()\n",
        "print(smart_traf.describe().T)\n",
        "\n"
      ],
      "execution_count": null,
      "outputs": [
        {
          "output_type": "stream",
          "text": [
            "Тариф Smart\n",
            "\n",
            "Дисперсия по потраченному интернет-траффику тарифа SMART: 32.99\n",
            "Cтандартное отклонение по выборке интернет траффика тарифа SMART: 5.74\n",
            "\n",
            "count    2229.000000\n",
            "mean       15.834006\n",
            "std         5.743804\n",
            "min         0.000000\n",
            "25%        12.000000\n",
            "50%        16.000000\n",
            "75%        20.000000\n",
            "max        38.000000\n",
            "Name: gb_used_total, dtype: float64\n"
          ],
          "name": "stdout"
        }
      ]
    },
    {
      "cell_type": "code",
      "metadata": {
        "colab": {
          "base_uri": "https://localhost:8080/"
        },
        "id": "HqVJci0lO-6I",
        "outputId": "823a6f30-0cd6-4539-8756-0f49666921b0"
      },
      "source": [
        "ultra_traf = mobile_customers.query('tariff == \"ultra\"')['gb_used_total'].reset_index(drop=True).round(0)\n",
        "\n",
        "ultra_traf_var = np.var(ultra_traf, ddof=1)\n",
        "\n",
        "# для удобства решили вынести расчет std отдельно, считаем для выборки, ddof=1\n",
        "\n",
        "ultra_traf_dev = np.std (ultra_traf, ddof=1)\n",
        "\n",
        "\n",
        "print('Тариф Ultra')\n",
        "print()\n",
        "print('Дисперсия по потраченному интернет-траффику тарифа Ultra: {:.2f}'.format(ultra_traf_var))\n",
        "print('Cтандартное отклонение по выборке интернет траффика тарифа Ultra: {:.2f}'.format(ultra_traf_dev))\n",
        "print()\n",
        "print(ultra_traf.describe().T)\n",
        "\n"
      ],
      "execution_count": null,
      "outputs": [
        {
          "output_type": "stream",
          "text": [
            "Тариф Ultra\n",
            "\n",
            "Дисперсия по потраченному интернет-траффику тарифа Ultra: 97.50\n",
            "Cтандартное отклонение по выборке интернет траффика тарифа Ultra: 9.87\n",
            "\n",
            "count    985.000000\n",
            "mean      19.032487\n",
            "std        9.874052\n",
            "min        0.000000\n",
            "25%       12.000000\n",
            "50%       19.000000\n",
            "75%       26.000000\n",
            "max       49.000000\n",
            "Name: gb_used_total, dtype: float64\n"
          ],
          "name": "stdout"
        }
      ]
    },
    {
      "cell_type": "code",
      "metadata": {
        "id": "7ldtf7HcO-6I"
      },
      "source": [
        "#напишем функцию для построения диаграммы\n",
        "\n",
        "def plotting_mean_3(d_list, query=None):\n",
        "    plt.figure(figsize=(15,5))\n",
        "    ax = plt.gca()\n",
        "    ax1 = plt.gca()\n",
        "    ax2 = plt.gca()\n",
        "    \n",
        "    list_of_colors = ['wheat', 'teal']\n",
        "\n",
        "    names_for_legend = ['Тариф Smart', 'Тариф Ultra']\n",
        "    legend_list = []\n",
        "\n",
        "    for i in range(len(d_list)):\n",
        "        gr_df = d_list[i]\n",
        "        gr_df_p = gr_df.groupby(\n",
        "                    ['tariff','month_name']).agg({'gb_used_total':'mean'}).reset_index().round(0)\n",
        "\n",
        "        plot = gr_df_p.plot(x='month_name', y='gb_used_total', kind='bar', edgecolor='black', color=list_of_colors[i],\n",
        "                                 ax=ax, width=0.08, position=i)\n",
        "        legend_list.append(names_for_legend [i])\n",
        "        \n",
        "    plt.xticks([0, 1, 2, 3, 4, 5, 6, 7, 8, 9, 10, 11], \n",
        "                      ['Январь', 'Февраль','Март', 'Апрель', \n",
        "                       'Май', 'Июнь'                       , 'Июль','Август', 'Сентябрь', 'Октябрь', 'Ноябрь', 'Декабрь'],\n",
        "                    rotation=20)\n",
        "    ax.legend(legend_list)\n",
        "    ax1.hlines(y=15, linestyle='--', color='black', xmin=-1, xmax=12)\n",
        "    ax2.hlines(y=30, linestyle='--', color='black', xmin=-1, xmax=12)\n",
        "    plt.title('Количество использованного интернет траффика в месяц')\n",
        "    plt.xlabel('Месяц года')\n",
        "    plt.ylabel('Количество гигабайт')\n",
        "    plt.show()"
      ],
      "execution_count": null,
      "outputs": []
    },
    {
      "cell_type": "code",
      "metadata": {
        "colab": {
          "base_uri": "https://localhost:8080/",
          "height": 366
        },
        "id": "rukRb7j5O-6I",
        "outputId": "01bd9dd7-981a-4486-a2d5-2a12af0afa36"
      },
      "source": [
        "plotting_mean_3(quer)\n"
      ],
      "execution_count": null,
      "outputs": [
        {
          "output_type": "display_data",
          "data": {
            "image/png": "[encoded data removed]",
            "text/plain": [
              "<Figure size 1080x360 with 1 Axes>"
            ]
          },
          "metadata": {
            "tags": [],
            "needs_background": "light"
          }
        }
      ]
    },
    {
      "cell_type": "markdown",
      "metadata": {
        "id": "zWaRunglO-6I"
      },
      "source": [
        "В среднем по тарифу Smart есть превышения траффика, тогда как Ultra укладывается в отведенный лимит. Здесь можно предложить увеличить пакет Гигабайт для пользователей тарифа Smart, при этом увеличив абонентскую плату, а для тарифа Ultra снизить пакет - что снизит и стоимость для клиента. Необходимо провести дополнительные исследования, например - через опрос потребителей."
      ]
    },
    {
      "cell_type": "markdown",
      "metadata": {
        "id": "Mc_4IKgpO-6J"
      },
      "source": [
        "Мы просмотрели изменения значений по месяцам в среднем. Посмотрим распределение траффика по тарифам: Для построения будем использовать скрипичные диаграммы, что позволит увидеть распределения и плотности вероятностей. Создадим скрипичный сюжет:"
      ]
    },
    {
      "cell_type": "code",
      "metadata": {
        "colab": {
          "base_uri": "https://localhost:8080/",
          "height": 204
        },
        "id": "HJ6S0Nv2O-6J",
        "outputId": "d77ff334-ae10-4227-ad82-ea87bbf41240"
      },
      "source": [
        "# выберем интересующие нас столбцы из дата сета\n",
        "# исключим нулевые значения\n",
        "intertnet_mobile = mobile_customers [['tariff', 'gb_used_total', 'user_id']].query('gb_used_total > 0')\n",
        "intertnet_mobile['gb_used_total'] = intertnet_mobile ['gb_used_total'].round(2)\n",
        "intertnet_mobile.head()"
      ],
      "execution_count": null,
      "outputs": [
        {
          "output_type": "execute_result",
          "data": {
            "text/html": [
              "<div>\n",
              "<style scoped>\n",
              "    .dataframe tbody tr th:only-of-type {\n",
              "        vertical-align: middle;\n",
              "    }\n",
              "\n",
              "    .dataframe tbody tr th {\n",
              "        vertical-align: top;\n",
              "    }\n",
              "\n",
              "    .dataframe thead th {\n",
              "        text-align: right;\n",
              "    }\n",
              "</style>\n",
              "<table border=\"1\" class=\"dataframe\">\n",
              "  <thead>\n",
              "    <tr style=\"text-align: right;\">\n",
              "      <th></th>\n",
              "      <th>tariff</th>\n",
              "      <th>gb_used_total</th>\n",
              "      <th>user_id</th>\n",
              "    </tr>\n",
              "  </thead>\n",
              "  <tbody>\n",
              "    <tr>\n",
              "      <th>0</th>\n",
              "      <td>ultra</td>\n",
              "      <td>13.74</td>\n",
              "      <td>1000</td>\n",
              "    </tr>\n",
              "    <tr>\n",
              "      <th>1</th>\n",
              "      <td>ultra</td>\n",
              "      <td>9.60</td>\n",
              "      <td>1000</td>\n",
              "    </tr>\n",
              "    <tr>\n",
              "      <th>2</th>\n",
              "      <td>ultra</td>\n",
              "      <td>13.69</td>\n",
              "      <td>1000</td>\n",
              "    </tr>\n",
              "    <tr>\n",
              "      <th>3</th>\n",
              "      <td>ultra</td>\n",
              "      <td>22.71</td>\n",
              "      <td>1000</td>\n",
              "    </tr>\n",
              "    <tr>\n",
              "      <th>4</th>\n",
              "      <td>ultra</td>\n",
              "      <td>2.20</td>\n",
              "      <td>1000</td>\n",
              "    </tr>\n",
              "  </tbody>\n",
              "</table>\n",
              "</div>"
            ],
            "text/plain": [
              "  tariff  gb_used_total  user_id\n",
              "0  ultra          13.74     1000\n",
              "1  ultra           9.60     1000\n",
              "2  ultra          13.69     1000\n",
              "3  ultra          22.71     1000\n",
              "4  ultra           2.20     1000"
            ]
          },
          "metadata": {
            "tags": []
          },
          "execution_count": 81
        }
      ]
    },
    {
      "cell_type": "code",
      "metadata": {
        "colab": {
          "base_uri": "https://localhost:8080/",
          "height": 542
        },
        "id": "9IUW-CwRO-6J",
        "outputId": "e8b87f1d-6520-43ee-9633-0525b3bebd9c"
      },
      "source": [
        "fig = px.violin(\n",
        "        intertnet_mobile, y='gb_used_total', \n",
        "        x=\"tariff\", color='tariff', box=True, points='all', \n",
        "        title = 'Скрипичная диаграмма интернет траффика',\n",
        "        labels={'gb_used_total': 'Количеств Gb', 'tariff':'Тариф'}\n",
        "        )\n",
        "fig.show()"
      ],
      "execution_count": null,
      "outputs": [
        {
          "output_type": "display_data",
          "data": {
            "text/html": [
              "<html>\n",
              "<head><meta charset=\"utf-8\" /></head>\n",
              "<body>\n",
              "    <div>\n",
              "            <script src=\"https://cdnjs.cloudflare.com/ajax/libs/mathjax/2.7.5/MathJax.js?config=TeX-AMS-MML_SVG\"></script><script type=\"text/javascript\">if (window.MathJax) {MathJax.Hub.Config({SVG: {font: \"STIX-Web\"}});}</script>\n",
              "                <script type=\"text/javascript\">window.PlotlyConfig = {MathJaxConfig: 'local'};</script>\n",
              "        <script src=\"https://cdn.plot.ly/plotly-latest.min.js\"></script>    \n",
              "            <div id=\"9de21be5-d030-4d15-8c51-a0e670c15d01\" class=\"plotly-graph-div\" style=\"height:525px; width:100%;\"></div>\n",
              "            <script type=\"text/javascript\">\n",
              "                \n",
              "                    window.PLOTLYENV=window.PLOTLYENV || {};\n",
              "                    \n",
              "                if (document.getElementById(\"9de21be5-d030-4d15-8c51-a0e670c15d01\")) {\n",
              "                    Plotly.newPlot(\n",
              "                        '9de21be5-d030-4d15-8c51-a0e670c15d01',\n",
              "                        [{\"alignmentgroup\": \"True\", \"box\": {\"visible\": true}, \"hoverlabel\": {\"namelength\": 0}, \"hovertemplate\": \"\\u0422\\u0430\\u0440\\u0438\\u0444=%{x}<br>\\u041a\\u043e\\u043b\\u0438\\u0447\\u0435\\u0441\\u0442\\u0432 Gb=%{y}\", \"legendgroup\": \"\\u0422\\u0430\\u0440\\u0438\\u0444=ultra\", \"marker\": {\"color\": \"#636efa\"}, \"name\": \"\\u0422\\u0430\\u0440\\u0438\\u0444=ultra\", \"offsetgroup\": \"\\u0422\\u0430\\u0440\\u0438\\u0444=ultra\", \"orientation\": \"v\", \"points\": \"all\", \"scalegroup\": \"True\", \"showlegend\": true, \"type\": \"violin\", \"x\": [\"ultra\", \"ultra\", \"ultra\", \"ultra\", \"ultra\", \"ultra\", \"ultra\", \"ultra\", \"ultra\", \"ultra\", \"ultra\", \"ultra\", \"ultra\", \"ultra\", \"ultra\", \"ultra\", \"ultra\", \"ultra\", \"ultra\", \"ultra\", \"ultra\", \"ultra\", \"ultra\", \"ultra\", \"ultra\", \"ultra\", \"ultra\", \"ultra\", \"ultra\", \"ultra\", \"ultra\", \"ultra\", \"ultra\", \"ultra\", \"ultra\", \"ultra\", \"ultra\", \"ultra\", \"ultra\", \"ultra\", \"ultra\", \"ultra\", \"ultra\", \"ultra\", \"ultra\", \"ultra\", \"ultra\", \"ultra\", \"ultra\", \"ultra\", \"ultra\", \"ultra\", \"ultra\", \"ultra\", \"ultra\", \"ultra\", \"ultra\", \"ultra\", \"ultra\", \"ultra\", \"ultra\", \"ultra\", \"ultra\", \"ultra\", \"ultra\", \"ultra\", \"ultra\", \"ultra\", \"ultra\", \"ultra\", \"ultra\", \"ultra\", \"ultra\", \"ultra\", \"ultra\", \"ultra\", \"ultra\", \"ultra\", \"ultra\", \"ultra\", \"ultra\", \"ultra\", \"ultra\", \"ultra\", \"ultra\", \"ultra\", \"ultra\", \"ultra\", \"ultra\", \"ultra\", \"ultra\", \"ultra\", \"ultra\", \"ultra\", \"ultra\", \"ultra\", \"ultra\", \"ultra\", \"ultra\", \"ultra\", \"ultra\", \"ultra\", \"ultra\", \"ultra\", \"ultra\", \"ultra\", \"ultra\", \"ultra\", \"ultra\", \"ultra\", \"ultra\", \"ultra\", \"ultra\", \"ultra\", \"ultra\", \"ultra\", \"ultra\", \"ultra\", \"ultra\", \"ultra\", \"ultra\", \"ultra\", \"ultra\", \"ultra\", \"ultra\", \"ultra\", \"ultra\", \"ultra\", \"ultra\", \"ultra\", \"ultra\", \"ultra\", \"ultra\", \"ultra\", \"ultra\", \"ultra\", \"ultra\", \"ultra\", \"ultra\", \"ultra\", \"ultra\", \"ultra\", \"ultra\", \"ultra\", \"ultra\", \"ultra\", \"ultra\", \"ultra\", \"ultra\", \"ultra\", \"ultra\", \"ultra\", \"ultra\", \"ultra\", \"ultra\", \"ultra\", \"ultra\", \"ultra\", \"ultra\", \"ultra\", \"ultra\", \"ultra\", \"ultra\", \"ultra\", \"ultra\", \"ultra\", \"ultra\", \"ultra\", \"ultra\", \"ultra\", \"ultra\", \"ultra\", \"ultra\", \"ultra\", \"ultra\", \"ultra\", \"ultra\", \"ultra\", \"ultra\", \"ultra\", \"ultra\", \"ultra\", \"ultra\", \"ultra\", \"ultra\", \"ultra\", \"ultra\", \"ultra\", \"ultra\", \"ultra\", \"ultra\", \"ultra\", \"ultra\", \"ultra\", \"ultra\", \"ultra\", \"ultra\", \"ultra\", \"ultra\", \"ultra\", \"ultra\", \"ultra\", \"ultra\", \"ultra\", \"ultra\", \"ultra\", \"ultra\", \"ultra\", \"ultra\", \"ultra\", \"ultra\", \"ultra\", \"ultra\", \"ultra\", \"ultra\", \"ultra\", \"ultra\", \"ultra\", \"ultra\", \"ultra\", \"ultra\", \"ultra\", \"ultra\", \"ultra\", \"ultra\", \"ultra\", \"ultra\", \"ultra\", \"ultra\", \"ultra\", \"ultra\", \"ultra\", \"ultra\", \"ultra\", \"ultra\", \"ultra\", \"ultra\", \"ultra\", \"ultra\", \"ultra\", \"ultra\", \"ultra\", \"ultra\", \"ultra\", \"ultra\", \"ultra\", \"ultra\", \"ultra\", \"ultra\", \"ultra\", \"ultra\", \"ultra\", \"ultra\", \"ultra\", \"ultra\", \"ultra\", \"ultra\", \"ultra\", \"ultra\", \"ultra\", \"ultra\", \"ultra\", \"ultra\", \"ultra\", \"ultra\", \"ultra\", \"ultra\", \"ultra\", \"ultra\", \"ultra\", \"ultra\", \"ultra\", \"ultra\", \"ultra\", \"ultra\", \"ultra\", \"ultra\", \"ultra\", \"ultra\", \"ultra\", \"ultra\", \"ultra\", \"ultra\", \"ultra\", \"ultra\", \"ultra\", \"ultra\", \"ultra\", \"ultra\", \"ultra\", \"ultra\", \"ultra\", \"ultra\", \"ultra\", \"ultra\", \"ultra\", \"ultra\", \"ultra\", \"ultra\", \"ultra\", \"ultra\", \"ultra\", \"ultra\", \"ultra\", \"ultra\", \"ultra\", \"ultra\", \"ultra\", \"ultra\", \"ultra\", \"ultra\", \"ultra\", \"ultra\", \"ultra\", \"ultra\", \"ultra\", \"ultra\", \"ultra\", \"ultra\", \"ultra\", \"ultra\", \"ultra\", \"ultra\", \"ultra\", \"ultra\", \"ultra\", \"ultra\", \"ultra\", \"ultra\", \"ultra\", \"ultra\", \"ultra\", \"ultra\", \"ultra\", \"ultra\", \"ultra\", \"ultra\", \"ultra\", \"ultra\", \"ultra\", \"ultra\", \"ultra\", \"ultra\", \"ultra\", \"ultra\", \"ultra\", \"ultra\", \"ultra\", \"ultra\", \"ultra\", \"ultra\", \"ultra\", \"ultra\", \"ultra\", \"ultra\", \"ultra\", \"ultra\", \"ultra\", \"ultra\", \"ultra\", \"ultra\", \"ultra\", \"ultra\", \"ultra\", \"ultra\", \"ultra\", \"ultra\", \"ultra\", \"ultra\", \"ultra\", \"ultra\", \"ultra\", \"ultra\", \"ultra\", \"ultra\", \"ultra\", \"ultra\", \"ultra\", \"ultra\", \"ultra\", \"ultra\", \"ultra\", \"ultra\", \"ultra\", \"ultra\", \"ultra\", \"ultra\", \"ultra\", \"ultra\", \"ultra\", \"ultra\", \"ultra\", \"ultra\", \"ultra\", \"ultra\", \"ultra\", \"ultra\", \"ultra\", \"ultra\", \"ultra\", \"ultra\", \"ultra\", \"ultra\", \"ultra\", \"ultra\", \"ultra\", \"ultra\", \"ultra\", \"ultra\", \"ultra\", \"ultra\", \"ultra\", \"ultra\", \"ultra\", \"ultra\", \"ultra\", \"ultra\", \"ultra\", \"ultra\", \"ultra\", \"ultra\", \"ultra\", \"ultra\", \"ultra\", \"ultra\", \"ultra\", \"ultra\", \"ultra\", \"ultra\", \"ultra\", \"ultra\", \"ultra\", \"ultra\", \"ultra\", \"ultra\", \"ultra\", \"ultra\", \"ultra\", \"ultra\", \"ultra\", \"ultra\", \"ultra\", \"ultra\", \"ultra\", \"ultra\", \"ultra\", \"ultra\", \"ultra\", \"ultra\", \"ultra\", \"ultra\", \"ultra\", \"ultra\", \"ultra\", \"ultra\", \"ultra\", \"ultra\", \"ultra\", \"ultra\", \"ultra\", \"ultra\", \"ultra\", \"ultra\", \"ultra\", \"ultra\", \"ultra\", \"ultra\", \"ultra\", \"ultra\", \"ultra\", \"ultra\", \"ultra\", \"ultra\", \"ultra\", \"ultra\", \"ultra\", \"ultra\", \"ultra\", \"ultra\", \"ultra\", \"ultra\", \"ultra\", \"ultra\", \"ultra\", \"ultra\", \"ultra\", \"ultra\", \"ultra\", \"ultra\", \"ultra\", \"ultra\", \"ultra\", \"ultra\", \"ultra\", \"ultra\", \"ultra\", \"ultra\", \"ultra\", \"ultra\", \"ultra\", \"ultra\", \"ultra\", \"ultra\", \"ultra\", \"ultra\", \"ultra\", \"ultra\", \"ultra\", \"ultra\", \"ultra\", \"ultra\", \"ultra\", \"ultra\", \"ultra\", \"ultra\", \"ultra\", \"ultra\", \"ultra\", \"ultra\", \"ultra\", \"ultra\", \"ultra\", \"ultra\", \"ultra\", \"ultra\", \"ultra\", \"ultra\", \"ultra\", \"ultra\", \"ultra\", \"ultra\", \"ultra\", \"ultra\", \"ultra\", \"ultra\", \"ultra\", \"ultra\", \"ultra\", \"ultra\", \"ultra\", \"ultra\", \"ultra\", \"ultra\", \"ultra\", \"ultra\", \"ultra\", \"ultra\", \"ultra\", \"ultra\", \"ultra\", \"ultra\", \"ultra\", \"ultra\", \"ultra\", \"ultra\", \"ultra\", \"ultra\", \"ultra\", \"ultra\", \"ultra\", \"ultra\", \"ultra\", \"ultra\", \"ultra\", \"ultra\", \"ultra\", \"ultra\", \"ultra\", \"ultra\", \"ultra\", \"ultra\", \"ultra\", \"ultra\", \"ultra\", \"ultra\", \"ultra\", \"ultra\", \"ultra\", \"ultra\", \"ultra\", \"ultra\", \"ultra\", \"ultra\", \"ultra\", \"ultra\", \"ultra\", \"ultra\", \"ultra\", \"ultra\", \"ultra\", \"ultra\", \"ultra\", \"ultra\", \"ultra\", \"ultra\", \"ultra\", \"ultra\", \"ultra\", \"ultra\", \"ultra\", \"ultra\", \"ultra\", \"ultra\", \"ultra\", \"ultra\", \"ultra\", \"ultra\", \"ultra\", \"ultra\", \"ultra\", \"ultra\", \"ultra\", \"ultra\", \"ultra\", \"ultra\", \"ultra\", \"ultra\", \"ultra\", \"ultra\", \"ultra\", \"ultra\", \"ultra\", \"ultra\", \"ultra\", \"ultra\", \"ultra\", \"ultra\", \"ultra\", \"ultra\", \"ultra\", \"ultra\", \"ultra\", \"ultra\", \"ultra\", \"ultra\", \"ultra\", \"ultra\", \"ultra\", \"ultra\", \"ultra\", \"ultra\", \"ultra\", \"ultra\", \"ultra\", \"ultra\", \"ultra\", \"ultra\", \"ultra\", \"ultra\", \"ultra\", \"ultra\", \"ultra\", \"ultra\", \"ultra\", \"ultra\", \"ultra\", \"ultra\", \"ultra\", \"ultra\", \"ultra\", \"ultra\", \"ultra\", \"ultra\", \"ultra\", \"ultra\", \"ultra\", \"ultra\", \"ultra\", \"ultra\", \"ultra\", \"ultra\", \"ultra\", \"ultra\", \"ultra\", \"ultra\", \"ultra\", \"ultra\", \"ultra\", \"ultra\", \"ultra\", \"ultra\", \"ultra\", \"ultra\", \"ultra\", \"ultra\", \"ultra\", \"ultra\", \"ultra\", \"ultra\", \"ultra\", \"ultra\", \"ultra\", \"ultra\", \"ultra\", \"ultra\", \"ultra\", \"ultra\", \"ultra\", \"ultra\", \"ultra\", \"ultra\", \"ultra\", \"ultra\", \"ultra\", \"ultra\", \"ultra\", \"ultra\", \"ultra\", \"ultra\", \"ultra\", \"ultra\", \"ultra\", \"ultra\", \"ultra\", \"ultra\", \"ultra\", \"ultra\", \"ultra\", \"ultra\", \"ultra\", \"ultra\", \"ultra\", \"ultra\", \"ultra\", \"ultra\", \"ultra\", \"ultra\", \"ultra\", \"ultra\", \"ultra\", \"ultra\", \"ultra\", \"ultra\", \"ultra\", \"ultra\", \"ultra\", \"ultra\", \"ultra\", \"ultra\", \"ultra\", \"ultra\", \"ultra\", \"ultra\", \"ultra\", \"ultra\", \"ultra\", \"ultra\", \"ultra\", \"ultra\", \"ultra\", \"ultra\", \"ultra\", \"ultra\", \"ultra\", \"ultra\", \"ultra\", \"ultra\", \"ultra\", \"ultra\", \"ultra\", \"ultra\", \"ultra\", \"ultra\", \"ultra\", \"ultra\", \"ultra\", \"ultra\", \"ultra\", \"ultra\", \"ultra\", \"ultra\", \"ultra\", \"ultra\", \"ultra\", \"ultra\", \"ultra\", \"ultra\", \"ultra\", \"ultra\", \"ultra\", \"ultra\", \"ultra\", \"ultra\", \"ultra\", \"ultra\", \"ultra\", \"ultra\", \"ultra\", \"ultra\", \"ultra\", \"ultra\", \"ultra\", \"ultra\", \"ultra\", \"ultra\", \"ultra\", \"ultra\", \"ultra\", \"ultra\", \"ultra\", \"ultra\", \"ultra\", \"ultra\", \"ultra\", \"ultra\", \"ultra\", \"ultra\", \"ultra\", \"ultra\", \"ultra\", \"ultra\", \"ultra\", \"ultra\", \"ultra\", \"ultra\", \"ultra\", \"ultra\", \"ultra\", \"ultra\", \"ultra\", \"ultra\", \"ultra\", \"ultra\", \"ultra\", \"ultra\", \"ultra\", \"ultra\", \"ultra\", \"ultra\", \"ultra\", \"ultra\", \"ultra\", \"ultra\", \"ultra\", \"ultra\", \"ultra\", \"ultra\", \"ultra\", \"ultra\", \"ultra\", \"ultra\", \"ultra\", \"ultra\", \"ultra\", \"ultra\", \"ultra\", \"ultra\", \"ultra\", \"ultra\", \"ultra\", \"ultra\", \"ultra\", \"ultra\", \"ultra\", \"ultra\", \"ultra\", \"ultra\", \"ultra\", \"ultra\", \"ultra\", \"ultra\", \"ultra\", \"ultra\", \"ultra\", \"ultra\", \"ultra\", \"ultra\", \"ultra\", \"ultra\", \"ultra\", \"ultra\", \"ultra\", \"ultra\", \"ultra\", \"ultra\", \"ultra\", \"ultra\", \"ultra\", \"ultra\", \"ultra\", \"ultra\", \"ultra\", \"ultra\", \"ultra\", \"ultra\", \"ultra\", \"ultra\", \"ultra\", \"ultra\", \"ultra\", \"ultra\", \"ultra\", \"ultra\", \"ultra\", \"ultra\", \"ultra\", \"ultra\", \"ultra\", \"ultra\", \"ultra\", \"ultra\", \"ultra\", \"ultra\", \"ultra\", \"ultra\", \"ultra\", \"ultra\", \"ultra\", \"ultra\", \"ultra\", \"ultra\", \"ultra\", \"ultra\", \"ultra\", \"ultra\", \"ultra\", \"ultra\", \"ultra\", \"ultra\", \"ultra\", \"ultra\", \"ultra\", \"ultra\", \"ultra\", \"ultra\", \"ultra\", \"ultra\", \"ultra\", \"ultra\", \"ultra\", \"ultra\", \"ultra\", \"ultra\", \"ultra\", \"ultra\", \"ultra\", \"ultra\", \"ultra\", \"ultra\", \"ultra\", \"ultra\", \"ultra\", \"ultra\", \"ultra\", \"ultra\", \"ultra\", \"ultra\", \"ultra\", \"ultra\", \"ultra\", \"ultra\", \"ultra\", \"ultra\", \"ultra\", \"ultra\", \"ultra\", \"ultra\", \"ultra\", \"ultra\", \"ultra\", \"ultra\", \"ultra\", \"ultra\", \"ultra\", \"ultra\", \"ultra\", \"ultra\", \"ultra\", \"ultra\", \"ultra\", \"ultra\", \"ultra\", \"ultra\", \"ultra\"], \"x0\": \" \", \"xaxis\": \"x\", \"y\": [13.74, 9.6, 13.69, 22.71, 2.2, 14.42, 14.37, 14.24, 12.19, 14.43, 8.37, 9.89, 11.1, 27.94, 17.62, 21.72, 17.21, 13.1, 15.26, 18.06, 14.77, 20.27, 9.56, 18.99, 7.21, 7.34, 7.33, 4.59, 11.02, 4.93, 5.3, 5.5, 8.45, 6.19, 15.72, 27.37, 17.9, 21.7, 10.04, 0.61, 17.09, 4.26, 27.01, 19.57, 21.76, 15.73, 27.54, 19.76, 17.89, 42.13, 3.24, 35.14, 15.43, 17.79, 21.99, 23.86, 24.37, 6.2, 20.05, 19.06, 24.07, 21.22, 7.76, 7.99, 8.77, 7.45, 7.78, 3.27, 12.18, 6.06, 9.09, 9.22, 8.23, 7.89, 5.17, 8.92, 7.43, 24.45, 34.38, 9.56, 0.43, 29.86, 0.6, 20.42, 15.85, 14.35, 20.02, 9.4, 20.18, 13.98, 19.93, 14.16, 16.85, 21.48, 20.69, 21.18, 42.94, 12.42, 21.06, 13.87, 25.21, 20.21, 14.45, 5.45, 16.67, 13.56, 19.81, 22.0, 25.64, 21.93, 12.05, 23.55, 25.41, 22.26, 2.29, 5.82, 4.61, 4.06, 5.32, 13.44, 13.1, 5.06, 18.87, 16.29, 13.8, 19.0, 17.34, 18.02, 24.58, 29.66, 11.53, 15.03, 8.19, 8.83, 13.91, 15.32, 9.78, 16.86, 2.8, 10.69, 20.39, 17.1, 16.72, 14.88, 15.77, 16.0, 16.27, 19.01, 0.8, 21.5, 13.54, 15.29, 11.6, 16.22, 10.0, 16.07, 10.46, 12.98, 12.35, 17.33, 18.55, 20.85, 21.53, 23.86, 17.34, 21.63, 11.31, 3.58, 13.31, 13.13, 11.51, 6.52, 9.32, 13.66, 11.97, 3.13, 10.96, 8.45, 13.22, 9.89, 9.0, 8.06, 16.37, 14.08, 17.25, 16.4, 3.66, 16.49, 15.84, 15.73, 10.65, 18.25, 1.86, 16.96, 18.22, 16.1, 17.13, 16.5, 12.73, 19.07, 19.15, 15.6, 15.34, 13.69, 19.57, 21.14, 18.28, 21.44, 2.86, 18.66, 20.81, 16.2, 10.38, 9.33, 4.11, 7.75, 13.93, 11.78, 16.74, 12.46, 12.27, 0.64, 7.96, 5.95, 6.41, 10.0, 38.99, 36.01, 48.62, 8.82, 20.02, 28.13, 26.57, 32.6, 27.33, 28.82, 26.73, 15.99, 19.02, 25.92, 24.74, 26.76, 25.22, 23.0, 2.51, 19.91, 11.06, 22.17, 20.53, 26.53, 20.46, 37.32, 32.48, 31.93, 33.28, 31.91, 35.86, 20.45, 33.3, 34.33, 25.76, 14.18, 16.17, 14.48, 11.88, 3.24, 2.08, 4.34, 3.07, 16.21, 20.94, 22.19, 21.53, 24.19, 26.95, 17.01, 27.21, 27.15, 28.36, 26.92, 11.61, 6.88, 41.19, 31.22, 21.4, 13.37, 6.47, 12.21, 7.42, 9.56, 24.54, 19.48, 15.43, 1.41, 24.89, 28.67, 29.57, 28.65, 31.91, 25.51, 32.87, 31.18, 7.97, 18.63, 35.67, 29.99, 32.6, 36.49, 20.17, 28.64, 30.79, 26.12, 33.92, 42.59, 27.52, 35.81, 25.72, 26.07, 30.41, 27.58, 39.82, 31.27, 38.31, 37.24, 38.42, 29.98, 41.48, 38.03, 41.23, 8.83, 20.87, 28.53, 24.58, 3.72, 22.15, 27.95, 26.05, 32.51, 17.43, 17.23, 18.11, 18.28, 18.86, 16.48, 17.57, 4.24, 15.94, 9.04, 11.92, 8.48, 7.75, 0.36, 10.3, 7.19, 9.67, 6.53, 10.91, 7.56, 3.11, 11.1, 7.29, 9.76, 16.32, 12.51, 18.66, 13.13, 13.54, 22.61, 17.78, 3.97, 13.72, 20.78, 18.99, 26.32, 21.05, 24.19, 2.24, 26.24, 22.52, 19.84, 16.76, 22.86, 19.7, 18.96, 4.44, 17.1, 9.29, 9.72, 9.44, 15.93, 13.24, 11.25, 11.11, 31.32, 31.72, 27.07, 27.2, 10.61, 26.82, 32.44, 30.33, 27.86, 0.94, 30.56, 33.73, 35.48, 42.35, 34.25, 42.85, 27.84, 31.85, 47.26, 40.67, 28.43, 23.27, 29.86, 25.79, 26.64, 30.7, 20.8, 10.28, 9.25, 19.0, 9.54, 15.79, 13.62, 21.3, 25.43, 15.0, 19.25, 11.7, 17.47, 19.53, 22.41, 24.54, 28.03, 23.33, 0.48, 36.27, 44.16, 36.75, 42.02, 30.3, 14.24, 40.65, 19.56, 22.24, 24.91, 19.88, 25.66, 27.13, 11.51, 11.87, 10.18, 9.34, 36.45, 2.19, 36.54, 38.01, 11.32, 9.79, 5.78, 10.75, 16.31, 10.6, 22.92, 12.38, 6.82, 26.22, 19.21, 24.54, 24.94, 3.35, 15.43, 23.04, 32.77, 28.64, 28.73, 23.39, 20.48, 19.03, 21.39, 4.78, 20.06, 10.12, 15.52, 18.18, 14.67, 20.72, 16.01, 20.42, 18.03, 16.57, 10.93, 21.99, 17.06, 15.96, 13.68, 17.38, 11.07, 28.89, 33.54, 31.74, 35.36, 39.07, 24.64, 28.08, 33.16, 32.52, 33.22, 7.4, 18.92, 20.59, 26.69, 21.23, 22.99, 28.0, 27.39, 23.97, 22.62, 6.93, 24.0, 37.43, 43.3, 6.6, 33.52, 32.57, 34.55, 17.94, 2.63, 17.83, 28.34, 27.88, 20.46, 41.09, 34.11, 26.26, 17.15, 18.88, 14.25, 15.33, 15.85, 23.73, 4.57, 16.17, 18.58, 23.15, 22.3, 17.09, 14.98, 18.81, 14.15, 9.96, 19.41, 26.72, 3.96, 16.65, 15.59, 8.85, 24.93, 19.77, 11.4, 26.84, 21.61, 22.55, 30.31, 21.92, 34.73, 38.54, 31.8, 27.61, 28.98, 29.68, 28.83, 28.34, 28.71, 31.82, 32.37, 33.05, 27.61, 29.87, 27.44, 19.55, 33.78, 31.69, 32.21, 29.63, 29.53, 32.21, 20.96, 18.14, 24.64, 3.93, 12.16, 16.17, 14.81, 15.24, 19.79, 18.26, 4.91, 25.98, 33.13, 30.49, 27.66, 11.15, 26.62, 27.1, 31.71, 3.61, 4.25, 7.34, 17.02, 26.93, 23.51, 22.3, 21.84, 20.63, 17.03, 21.91, 26.58, 5.33, 6.93, 2.89, 4.59, 2.86, 2.21, 19.97, 20.76, 26.6, 18.82, 29.95, 26.6, 1.58, 21.86, 18.1, 23.96, 18.26, 7.01, 19.01, 17.5, 20.32, 17.32, 18.34, 15.33, 15.22, 16.55, 28.63, 23.21, 32.25, 39.03, 41.66, 38.76, 17.01, 29.73, 29.63, 11.06, 8.44, 7.54, 10.06, 4.2, 5.6, 10.81, 11.96, 7.35, 12.54, 28.26, 26.05, 27.76, 21.77, 19.97, 16.75, 21.23, 14.02, 24.43, 18.61, 16.43, 14.08, 20.64, 16.74, 2.83, 27.65, 22.64, 18.14, 22.6, 10.68, 22.67, 11.23, 27.08, 10.64, 22.48, 22.73, 26.81, 11.48, 19.84, 27.18, 19.7, 21.3, 19.02, 21.06, 14.22, 14.16, 19.87, 16.54, 18.5, 5.86, 5.62, 1.13, 1.41, 4.11, 4.61, 6.46, 2.99, 4.77, 4.04, 26.55, 20.69, 25.16, 10.7, 39.27, 36.15, 32.3, 42.33, 37.1, 41.3, 28.0, 31.95, 28.49, 21.4, 14.46, 27.72, 26.17, 22.7, 29.07, 27.11, 31.13, 21.44, 26.19, 24.47, 22.18, 10.52, 10.45, 9.0, 7.16, 7.67, 13.88, 3.11, 10.46, 10.29, 7.48, 28.29, 30.54, 37.45, 36.71, 26.73, 28.92, 26.66, 33.45, 31.89, 18.84, 33.55, 34.89, 34.69, 28.02, 24.82, 15.22, 26.87, 23.94, 15.18, 20.54, 14.53, 19.21, 15.37, 22.46, 21.24, 15.42, 21.72, 15.26, 9.13, 8.3, 7.13, 8.77, 10.74, 7.77, 3.78, 5.06, 5.22, 11.83, 11.58, 23.0, 1.94, 2.56, 25.68, 20.42, 20.86, 19.25, 18.59, 26.81, 30.86, 25.14, 24.07, 25.81, 31.2, 27.17, 36.97, 34.86, 28.25, 30.27, 24.17, 7.54, 24.44, 12.49, 16.3, 38.7, 28.82, 24.64, 37.92, 31.33, 36.24, 39.88, 31.98, 26.23, 28.7, 2.48, 25.93, 27.41, 36.04, 20.1, 9.78, 12.2, 18.93, 18.29, 27.63, 26.86, 37.5, 32.02, 9.8, 16.76, 29.25, 27.32, 28.25, 21.21, 10.52, 23.32, 20.88, 23.37, 18.7, 18.95, 25.02, 29.27, 24.38, 25.86, 20.62, 22.89, 22.33, 15.38, 30.76, 22.06, 24.92, 23.21, 19.36, 3.29, 17.32, 19.95, 22.08, 24.43, 14.4, 38.12, 20.47, 18.47, 10.68, 23.08, 21.22, 29.78, 26.35, 19.01, 27.96, 21.92, 20.96, 20.86, 15.73, 29.01, 26.0, 23.5, 20.99, 28.61, 20.96, 13.39, 8.76, 12.41, 8.75, 11.65, 5.09, 16.71, 6.15, 14.47, 8.66, 13.67, 19.74, 14.02, 14.34, 9.74, 11.15, 12.59, 13.01, 14.04, 18.31, 5.08, 24.53, 9.1, 8.48, 25.37, 20.95, 14.29, 16.99, 15.95, 14.59, 20.34, 14.88, 14.16, 12.78, 1.14, 15.79, 9.54, 2.39, 32.93, 32.63, 34.7, 27.13, 32.29, 22.64, 8.91, 6.3, 10.9, 10.19, 12.62, 8.6, 8.92, 8.25, 13.71, 9.2, 1.29, 12.61, 18.0, 21.18, 13.38, 16.9, 41.36, 27.88, 0.52, 24.54, 13.8, 15.63, 14.29, 21.29, 14.08, 24.56, 18.18, 22.9, 3.2, 14.78, 23.82, 21.56, 17.43, 24.46, 15.27, 20.43, 16.89, 41.77, 11.42, 38.06, 2.55, 32.33, 28.7, 22.9], \"y0\": \" \", \"yaxis\": \"y\"}, {\"alignmentgroup\": \"True\", \"box\": {\"visible\": true}, \"hoverlabel\": {\"namelength\": 0}, \"hovertemplate\": \"\\u0422\\u0430\\u0440\\u0438\\u0444=%{x}<br>\\u041a\\u043e\\u043b\\u0438\\u0447\\u0435\\u0441\\u0442\\u0432 Gb=%{y}\", \"legendgroup\": \"\\u0422\\u0430\\u0440\\u0438\\u0444=smart\", \"marker\": {\"color\": \"#EF553B\"}, \"name\": \"\\u0422\\u0430\\u0440\\u0438\\u0444=smart\", \"offsetgroup\": \"\\u0422\\u0430\\u0440\\u0438\\u0444=smart\", \"orientation\": \"v\", \"points\": \"all\", \"scalegroup\": \"True\", \"showlegend\": true, \"type\": \"violin\", \"x\": [\"smart\", \"smart\", \"smart\", \"smart\", \"smart\", \"smart\", \"smart\", \"smart\", \"smart\", \"smart\", \"smart\", \"smart\", \"smart\", \"smart\", \"smart\", \"smart\", \"smart\", \"smart\", \"smart\", \"smart\", \"smart\", \"smart\", \"smart\", \"smart\", \"smart\", \"smart\", \"smart\", \"smart\", \"smart\", \"smart\", \"smart\", \"smart\", \"smart\", \"smart\", \"smart\", \"smart\", \"smart\", \"smart\", \"smart\", \"smart\", \"smart\", \"smart\", \"smart\", \"smart\", \"smart\", \"smart\", \"smart\", \"smart\", \"smart\", \"smart\", \"smart\", \"smart\", \"smart\", \"smart\", \"smart\", \"smart\", \"smart\", \"smart\", \"smart\", \"smart\", \"smart\", \"smart\", \"smart\", \"smart\", \"smart\", \"smart\", \"smart\", \"smart\", \"smart\", \"smart\", \"smart\", \"smart\", \"smart\", \"smart\", \"smart\", \"smart\", \"smart\", \"smart\", \"smart\", \"smart\", \"smart\", \"smart\", \"smart\", \"smart\", \"smart\", \"smart\", \"smart\", \"smart\", \"smart\", \"smart\", \"smart\", \"smart\", \"smart\", \"smart\", \"smart\", \"smart\", \"smart\", \"smart\", \"smart\", \"smart\", \"smart\", \"smart\", \"smart\", \"smart\", \"smart\", \"smart\", \"smart\", \"smart\", \"smart\", \"smart\", \"smart\", \"smart\", \"smart\", \"smart\", \"smart\", \"smart\", \"smart\", \"smart\", \"smart\", \"smart\", \"smart\", \"smart\", \"smart\", \"smart\", \"smart\", \"smart\", \"smart\", \"smart\", \"smart\", \"smart\", \"smart\", \"smart\", \"smart\", \"smart\", \"smart\", \"smart\", \"smart\", \"smart\", \"smart\", \"smart\", \"smart\", \"smart\", \"smart\", \"smart\", \"smart\", \"smart\", \"smart\", \"smart\", \"smart\", \"smart\", \"smart\", \"smart\", \"smart\", \"smart\", \"smart\", \"smart\", \"smart\", \"smart\", \"smart\", \"smart\", \"smart\", \"smart\", \"smart\", \"smart\", \"smart\", \"smart\", \"smart\", \"smart\", \"smart\", \"smart\", \"smart\", \"smart\", \"smart\", \"smart\", \"smart\", \"smart\", \"smart\", \"smart\", \"smart\", \"smart\", \"smart\", \"smart\", \"smart\", \"smart\", \"smart\", \"smart\", \"smart\", \"smart\", \"smart\", \"smart\", \"smart\", \"smart\", \"smart\", \"smart\", \"smart\", \"smart\", \"smart\", \"smart\", \"smart\", \"smart\", \"smart\", \"smart\", \"smart\", \"smart\", \"smart\", \"smart\", \"smart\", \"smart\", \"smart\", \"smart\", \"smart\", \"smart\", \"smart\", \"smart\", \"smart\", \"smart\", \"smart\", \"smart\", \"smart\", \"smart\", \"smart\", \"smart\", \"smart\", \"smart\", \"smart\", \"smart\", \"smart\", \"smart\", \"smart\", \"smart\", \"smart\", \"smart\", \"smart\", \"smart\", \"smart\", \"smart\", \"smart\", \"smart\", \"smart\", \"smart\", \"smart\", \"smart\", \"smart\", \"smart\", \"smart\", \"smart\", \"smart\", \"smart\", \"smart\", \"smart\", \"smart\", \"smart\", \"smart\", \"smart\", \"smart\", \"smart\", \"smart\", \"smart\", \"smart\", \"smart\", \"smart\", \"smart\", \"smart\", \"smart\", \"smart\", \"smart\", \"smart\", \"smart\", \"smart\", \"smart\", \"smart\", \"smart\", \"smart\", \"smart\", \"smart\", \"smart\", \"smart\", \"smart\", \"smart\", \"smart\", \"smart\", \"smart\", \"smart\", \"smart\", \"smart\", \"smart\", \"smart\", \"smart\", \"smart\", \"smart\", \"smart\", \"smart\", \"smart\", \"smart\", \"smart\", \"smart\", \"smart\", \"smart\", \"smart\", \"smart\", \"smart\", \"smart\", \"smart\", \"smart\", \"smart\", \"smart\", \"smart\", \"smart\", \"smart\", \"smart\", \"smart\", \"smart\", \"smart\", \"smart\", \"smart\", \"smart\", \"smart\", \"smart\", \"smart\", \"smart\", \"smart\", \"smart\", \"smart\", \"smart\", \"smart\", \"smart\", \"smart\", \"smart\", \"smart\", \"smart\", \"smart\", \"smart\", \"smart\", \"smart\", \"smart\", \"smart\", \"smart\", \"smart\", \"smart\", \"smart\", \"smart\", \"smart\", \"smart\", \"smart\", \"smart\", \"smart\", \"smart\", \"smart\", \"smart\", \"smart\", \"smart\", \"smart\", \"smart\", \"smart\", \"smart\", \"smart\", \"smart\", \"smart\", \"smart\", \"smart\", \"smart\", \"smart\", \"smart\", \"smart\", \"smart\", \"smart\", \"smart\", \"smart\", \"smart\", \"smart\", \"smart\", \"smart\", \"smart\", \"smart\", \"smart\", \"smart\", \"smart\", \"smart\", \"smart\", \"smart\", \"smart\", \"smart\", \"smart\", \"smart\", \"smart\", \"smart\", \"smart\", \"smart\", \"smart\", \"smart\", \"smart\", \"smart\", \"smart\", \"smart\", \"smart\", \"smart\", \"smart\", \"smart\", \"smart\", \"smart\", \"smart\", \"smart\", \"smart\", \"smart\", \"smart\", \"smart\", \"smart\", \"smart\", \"smart\", \"smart\", \"smart\", \"smart\", \"smart\", \"smart\", \"smart\", \"smart\", \"smart\", \"smart\", \"smart\", \"smart\", \"smart\", \"smart\", \"smart\", \"smart\", \"smart\", \"smart\", \"smart\", \"smart\", \"smart\", \"smart\", \"smart\", \"smart\", \"smart\", \"smart\", \"smart\", \"smart\", \"smart\", \"smart\", \"smart\", \"smart\", \"smart\", \"smart\", \"smart\", \"smart\", \"smart\", \"smart\", \"smart\", \"smart\", \"smart\", \"smart\", \"smart\", \"smart\", \"smart\", \"smart\", \"smart\", \"smart\", \"smart\", \"smart\", \"smart\", \"smart\", \"smart\", \"smart\", \"smart\", \"smart\", \"smart\", \"smart\", \"smart\", \"smart\", \"smart\", \"smart\", \"smart\", \"smart\", \"smart\", \"smart\", \"smart\", \"smart\", \"smart\", \"smart\", \"smart\", \"smart\", \"smart\", \"smart\", \"smart\", \"smart\", \"smart\", \"smart\", \"smart\", \"smart\", \"smart\", \"smart\", \"smart\", \"smart\", \"smart\", \"smart\", \"smart\", \"smart\", \"smart\", \"smart\", \"smart\", \"smart\", \"smart\", \"smart\", \"smart\", \"smart\", \"smart\", \"smart\", \"smart\", \"smart\", \"smart\", \"smart\", \"smart\", \"smart\", \"smart\", \"smart\", \"smart\", \"smart\", \"smart\", \"smart\", \"smart\", \"smart\", \"smart\", \"smart\", \"smart\", \"smart\", \"smart\", \"smart\", \"smart\", \"smart\", \"smart\", \"smart\", \"smart\", \"smart\", \"smart\", \"smart\", \"smart\", \"smart\", \"smart\", \"smart\", \"smart\", \"smart\", \"smart\", \"smart\", \"smart\", \"smart\", \"smart\", \"smart\", \"smart\", \"smart\", \"smart\", \"smart\", \"smart\", \"smart\", \"smart\", \"smart\", \"smart\", \"smart\", \"smart\", \"smart\", \"smart\", \"smart\", \"smart\", \"smart\", \"smart\", \"smart\", \"smart\", \"smart\", \"smart\", \"smart\", \"smart\", \"smart\", \"smart\", \"smart\", \"smart\", \"smart\", \"smart\", \"smart\", \"smart\", \"smart\", \"smart\", \"smart\", \"smart\", \"smart\", \"smart\", \"smart\", \"smart\", \"smart\", \"smart\", \"smart\", \"smart\", \"smart\", \"smart\", \"smart\", \"smart\", \"smart\", \"smart\", \"smart\", \"smart\", \"smart\", \"smart\", \"smart\", \"smart\", \"smart\", \"smart\", \"smart\", \"smart\", \"smart\", \"smart\", \"smart\", \"smart\", \"smart\", \"smart\", \"smart\", \"smart\", \"smart\", \"smart\", \"smart\", \"smart\", \"smart\", \"smart\", \"smart\", \"smart\", \"smart\", \"smart\", \"smart\", \"smart\", \"smart\", \"smart\", \"smart\", \"smart\", \"smart\", \"smart\", \"smart\", \"smart\", \"smart\", \"smart\", \"smart\", \"smart\", \"smart\", \"smart\", \"smart\", \"smart\", \"smart\", \"smart\", \"smart\", \"smart\", \"smart\", \"smart\", \"smart\", \"smart\", \"smart\", \"smart\", \"smart\", \"smart\", \"smart\", \"smart\", \"smart\", \"smart\", \"smart\", \"smart\", \"smart\", \"smart\", \"smart\", \"smart\", \"smart\", \"smart\", \"smart\", \"smart\", \"smart\", \"smart\", \"smart\", \"smart\", \"smart\", \"smart\", \"smart\", \"smart\", \"smart\", \"smart\", \"smart\", \"smart\", \"smart\", \"smart\", \"smart\", \"smart\", \"smart\", \"smart\", \"smart\", \"smart\", \"smart\", \"smart\", \"smart\", \"smart\", \"smart\", \"smart\", \"smart\", \"smart\", \"smart\", \"smart\", \"smart\", \"smart\", \"smart\", \"smart\", \"smart\", \"smart\", \"smart\", \"smart\", \"smart\", \"smart\", \"smart\", \"smart\", \"smart\", \"smart\", \"smart\", \"smart\", \"smart\", \"smart\", \"smart\", \"smart\", \"smart\", \"smart\", \"smart\", \"smart\", \"smart\", \"smart\", \"smart\", \"smart\", \"smart\", \"smart\", \"smart\", \"smart\", \"smart\", \"smart\", \"smart\", \"smart\", \"smart\", \"smart\", \"smart\", \"smart\", \"smart\", \"smart\", \"smart\", \"smart\", \"smart\", \"smart\", \"smart\", \"smart\", \"smart\", \"smart\", \"smart\", \"smart\", \"smart\", \"smart\", \"smart\", \"smart\", \"smart\", \"smart\", \"smart\", \"smart\", \"smart\", \"smart\", \"smart\", \"smart\", \"smart\", \"smart\", \"smart\", \"smart\", \"smart\", \"smart\", \"smart\", \"smart\", \"smart\", \"smart\", \"smart\", \"smart\", \"smart\", \"smart\", \"smart\", \"smart\", \"smart\", \"smart\", \"smart\", \"smart\", \"smart\", \"smart\", \"smart\", \"smart\", \"smart\", \"smart\", \"smart\", \"smart\", \"smart\", \"smart\", \"smart\", \"smart\", \"smart\", \"smart\", \"smart\", \"smart\", \"smart\", \"smart\", \"smart\", \"smart\", \"smart\", \"smart\", \"smart\", \"smart\", \"smart\", \"smart\", \"smart\", \"smart\", \"smart\", \"smart\", \"smart\", \"smart\", \"smart\", \"smart\", \"smart\", \"smart\", \"smart\", \"smart\", \"smart\", \"smart\", \"smart\", \"smart\", \"smart\", \"smart\", \"smart\", \"smart\", \"smart\", \"smart\", \"smart\", \"smart\", \"smart\", \"smart\", \"smart\", \"smart\", \"smart\", \"smart\", \"smart\", \"smart\", \"smart\", \"smart\", \"smart\", \"smart\", \"smart\", \"smart\", \"smart\", \"smart\", \"smart\", \"smart\", \"smart\", \"smart\", \"smart\", \"smart\", \"smart\", \"smart\", \"smart\", \"smart\", \"smart\", \"smart\", \"smart\", \"smart\", \"smart\", \"smart\", \"smart\", \"smart\", \"smart\", \"smart\", \"smart\", \"smart\", \"smart\", \"smart\", \"smart\", \"smart\", \"smart\", \"smart\", \"smart\", \"smart\", \"smart\", \"smart\", \"smart\", \"smart\", \"smart\", \"smart\", \"smart\", \"smart\", \"smart\", \"smart\", \"smart\", \"smart\", \"smart\", \"smart\", \"smart\", \"smart\", \"smart\", \"smart\", \"smart\", \"smart\", \"smart\", \"smart\", \"smart\", \"smart\", \"smart\", \"smart\", \"smart\", \"smart\", \"smart\", \"smart\", \"smart\", \"smart\", \"smart\", \"smart\", \"smart\", \"smart\", \"smart\", \"smart\", \"smart\", \"smart\", \"smart\", \"smart\", \"smart\", \"smart\", \"smart\", \"smart\", \"smart\", \"smart\", \"smart\", \"smart\", \"smart\", \"smart\", \"smart\", \"smart\", \"smart\", \"smart\", \"smart\", \"smart\", \"smart\", \"smart\", \"smart\", \"smart\", \"smart\", \"smart\", \"smart\", \"smart\", \"smart\", \"smart\", \"smart\", \"smart\", \"smart\", \"smart\", \"smart\", \"smart\", \"smart\", \"smart\", \"smart\", \"smart\", \"smart\", \"smart\", \"smart\", \"smart\", \"smart\", \"smart\", \"smart\", \"smart\", \"smart\", \"smart\", \"smart\", \"smart\", \"smart\", \"smart\", \"smart\", \"smart\", \"smart\", \"smart\", \"smart\", \"smart\", \"smart\", \"smart\", \"smart\", \"smart\", \"smart\", \"smart\", \"smart\", \"smart\", \"smart\", \"smart\", \"smart\", \"smart\", \"smart\", \"smart\", \"smart\", \"smart\", \"smart\", \"smart\", \"smart\", \"smart\", \"smart\", \"smart\", \"smart\", \"smart\", \"smart\", \"smart\", \"smart\", \"smart\", \"smart\", \"smart\", \"smart\", \"smart\", \"smart\", \"smart\", \"smart\", \"smart\", \"smart\", \"smart\", \"smart\", \"smart\", \"smart\", \"smart\", \"smart\", \"smart\", \"smart\", \"smart\", \"smart\", \"smart\", \"smart\", \"smart\", \"smart\", \"smart\", \"smart\", \"smart\", \"smart\", \"smart\", \"smart\", \"smart\", \"smart\", \"smart\", \"smart\", \"smart\", \"smart\", \"smart\", \"smart\", \"smart\", \"smart\", \"smart\", \"smart\", \"smart\", \"smart\", \"smart\", \"smart\", \"smart\", \"smart\", \"smart\", \"smart\", \"smart\", \"smart\", \"smart\", \"smart\", \"smart\", \"smart\", \"smart\", \"smart\", \"smart\", \"smart\", \"smart\", \"smart\", \"smart\", \"smart\", \"smart\", \"smart\", \"smart\", \"smart\", \"smart\", \"smart\", \"smart\", \"smart\", \"smart\", \"smart\", \"smart\", \"smart\", \"smart\", \"smart\", \"smart\", \"smart\", \"smart\", \"smart\", \"smart\", \"smart\", \"smart\", \"smart\", \"smart\", \"smart\", \"smart\", \"smart\", \"smart\", \"smart\", \"smart\", \"smart\", \"smart\", \"smart\", \"smart\", \"smart\", \"smart\", \"smart\", \"smart\", \"smart\", \"smart\", \"smart\", \"smart\", \"smart\", \"smart\", \"smart\", \"smart\", \"smart\", \"smart\", \"smart\", \"smart\", \"smart\", \"smart\", \"smart\", \"smart\", \"smart\", \"smart\", \"smart\", \"smart\", \"smart\", \"smart\", \"smart\", \"smart\", \"smart\", \"smart\", \"smart\", \"smart\", \"smart\", \"smart\", \"smart\", \"smart\", \"smart\", \"smart\", \"smart\", \"smart\", \"smart\", \"smart\", \"smart\", \"smart\", \"smart\", \"smart\", \"smart\", \"smart\", \"smart\", \"smart\", \"smart\", \"smart\", \"smart\", \"smart\", \"smart\", \"smart\", \"smart\", \"smart\", \"smart\", \"smart\", \"smart\", \"smart\", \"smart\", \"smart\", \"smart\", \"smart\", \"smart\", \"smart\", \"smart\", \"smart\", \"smart\", \"smart\", \"smart\", \"smart\", \"smart\", \"smart\", \"smart\", \"smart\", \"smart\", \"smart\", \"smart\", \"smart\", \"smart\", \"smart\", \"smart\", \"smart\", \"smart\", \"smart\", \"smart\", \"smart\", \"smart\", \"smart\", \"smart\", \"smart\", \"smart\", \"smart\", \"smart\", \"smart\", \"smart\", \"smart\", \"smart\", \"smart\", \"smart\", \"smart\", \"smart\", \"smart\", \"smart\", \"smart\", \"smart\", \"smart\", \"smart\", \"smart\", \"smart\", \"smart\", \"smart\", \"smart\", \"smart\", \"smart\", \"smart\", \"smart\", \"smart\", \"smart\", \"smart\", \"smart\", \"smart\", \"smart\", \"smart\", \"smart\", \"smart\", \"smart\", \"smart\", \"smart\", \"smart\", \"smart\", \"smart\", \"smart\", \"smart\", \"smart\", \"smart\", \"smart\", \"smart\", \"smart\", \"smart\", \"smart\", \"smart\", \"smart\", \"smart\", \"smart\", \"smart\", \"smart\", \"smart\", \"smart\", \"smart\", \"smart\", \"smart\", \"smart\", \"smart\", \"smart\", \"smart\", \"smart\", \"smart\", \"smart\", \"smart\", \"smart\", \"smart\", \"smart\", \"smart\", \"smart\", \"smart\", \"smart\", \"smart\", \"smart\", \"smart\", \"smart\", \"smart\", \"smart\", \"smart\", \"smart\", \"smart\", \"smart\", \"smart\", \"smart\", \"smart\", \"smart\", \"smart\", \"smart\", \"smart\", \"smart\", \"smart\", \"smart\", \"smart\", \"smart\", \"smart\", \"smart\", \"smart\", \"smart\", \"smart\", \"smart\", \"smart\", \"smart\", \"smart\", \"smart\", \"smart\", \"smart\", \"smart\", \"smart\", \"smart\", \"smart\", \"smart\", \"smart\", \"smart\", \"smart\", \"smart\", \"smart\", \"smart\", \"smart\", \"smart\", \"smart\", \"smart\", \"smart\", \"smart\", \"smart\", \"smart\", \"smart\", \"smart\", \"smart\", \"smart\", \"smart\", \"smart\", \"smart\", \"smart\", \"smart\", \"smart\", \"smart\", \"smart\", \"smart\", \"smart\", \"smart\", \"smart\", \"smart\", \"smart\", \"smart\", \"smart\", \"smart\", \"smart\", \"smart\", \"smart\", \"smart\", \"smart\", \"smart\", \"smart\", \"smart\", \"smart\", \"smart\", \"smart\", \"smart\", \"smart\", \"smart\", \"smart\", \"smart\", \"smart\", \"smart\", \"smart\", \"smart\", \"smart\", \"smart\", \"smart\", \"smart\", \"smart\", \"smart\", \"smart\", \"smart\", \"smart\", \"smart\", \"smart\", \"smart\", \"smart\", \"smart\", \"smart\", \"smart\", \"smart\", \"smart\", \"smart\", \"smart\", \"smart\", \"smart\", \"smart\", \"smart\", \"smart\", \"smart\", \"smart\", \"smart\", \"smart\", \"smart\", \"smart\", \"smart\", \"smart\", \"smart\", \"smart\", \"smart\", \"smart\", \"smart\", \"smart\", \"smart\", \"smart\", \"smart\", \"smart\", \"smart\", \"smart\", \"smart\", \"smart\", \"smart\", \"smart\", \"smart\", \"smart\", \"smart\", \"smart\", \"smart\", \"smart\", \"smart\", \"smart\", \"smart\", \"smart\", \"smart\", \"smart\", \"smart\", \"smart\", \"smart\", \"smart\", \"smart\", \"smart\", \"smart\", \"smart\", \"smart\", \"smart\", \"smart\", \"smart\", \"smart\", \"smart\", \"smart\", \"smart\", \"smart\", \"smart\", \"smart\", \"smart\", \"smart\", \"smart\", \"smart\", \"smart\", \"smart\", \"smart\", \"smart\", \"smart\", \"smart\", \"smart\", \"smart\", \"smart\", \"smart\", \"smart\", \"smart\", \"smart\", \"smart\", \"smart\", \"smart\", \"smart\", \"smart\", \"smart\", \"smart\", \"smart\", \"smart\", \"smart\", \"smart\", \"smart\", \"smart\", \"smart\", \"smart\", \"smart\", \"smart\", \"smart\", \"smart\", \"smart\", \"smart\", \"smart\", \"smart\", \"smart\", \"smart\", \"smart\", \"smart\", \"smart\", \"smart\", \"smart\", \"smart\", \"smart\", \"smart\", \"smart\", \"smart\", \"smart\", \"smart\", \"smart\", \"smart\", \"smart\", \"smart\", \"smart\", \"smart\", \"smart\", \"smart\", \"smart\", \"smart\", \"smart\", \"smart\", \"smart\", \"smart\", \"smart\", \"smart\", \"smart\", \"smart\", \"smart\", \"smart\", \"smart\", \"smart\", \"smart\", \"smart\", \"smart\", \"smart\", \"smart\", \"smart\", \"smart\", \"smart\", \"smart\", \"smart\", \"smart\", \"smart\", \"smart\", \"smart\", \"smart\", \"smart\", \"smart\", \"smart\", \"smart\", \"smart\", \"smart\", \"smart\", \"smart\", \"smart\", \"smart\", \"smart\", \"smart\", \"smart\", \"smart\", \"smart\", \"smart\", \"smart\", \"smart\", \"smart\", \"smart\", \"smart\", \"smart\", \"smart\", \"smart\", \"smart\", \"smart\", \"smart\", \"smart\", \"smart\", \"smart\", \"smart\", \"smart\", \"smart\", \"smart\", \"smart\", \"smart\", \"smart\", \"smart\", \"smart\", \"smart\", \"smart\", \"smart\", \"smart\", \"smart\", \"smart\", \"smart\", \"smart\", \"smart\", \"smart\", \"smart\", \"smart\", \"smart\", \"smart\", \"smart\", \"smart\", \"smart\", \"smart\", \"smart\", \"smart\", \"smart\", \"smart\", \"smart\", \"smart\", \"smart\", \"smart\", \"smart\", \"smart\", \"smart\", \"smart\", \"smart\", \"smart\", \"smart\", \"smart\", \"smart\", \"smart\", \"smart\", \"smart\", \"smart\", \"smart\", \"smart\", \"smart\", \"smart\", \"smart\", \"smart\", \"smart\", \"smart\", \"smart\", \"smart\", \"smart\", \"smart\", \"smart\", \"smart\", \"smart\", \"smart\", \"smart\", \"smart\", \"smart\", \"smart\", \"smart\", \"smart\", \"smart\", \"smart\", \"smart\", \"smart\", \"smart\", \"smart\", \"smart\", \"smart\", \"smart\", \"smart\", \"smart\", \"smart\", \"smart\", \"smart\", \"smart\", \"smart\", \"smart\", \"smart\", \"smart\", \"smart\", \"smart\", \"smart\", \"smart\", \"smart\", \"smart\", \"smart\", \"smart\", \"smart\", \"smart\", \"smart\", \"smart\", \"smart\", \"smart\", \"smart\", \"smart\", \"smart\", \"smart\", \"smart\", \"smart\", \"smart\", \"smart\", \"smart\", \"smart\", \"smart\", \"smart\", \"smart\", \"smart\", \"smart\", \"smart\", \"smart\", \"smart\", \"smart\", \"smart\", \"smart\", \"smart\", \"smart\", \"smart\", \"smart\", \"smart\", \"smart\", \"smart\", \"smart\", \"smart\", \"smart\", \"smart\", \"smart\", \"smart\", \"smart\", \"smart\", \"smart\", \"smart\", \"smart\", \"smart\", \"smart\", \"smart\", \"smart\", \"smart\", \"smart\", \"smart\", \"smart\", \"smart\", \"smart\", \"smart\", \"smart\", \"smart\", \"smart\", \"smart\", \"smart\", \"smart\", \"smart\", \"smart\", \"smart\", \"smart\", \"smart\", \"smart\", \"smart\", \"smart\", \"smart\", \"smart\", \"smart\", \"smart\", \"smart\", \"smart\", \"smart\", \"smart\", \"smart\", \"smart\", \"smart\", \"smart\", \"smart\", \"smart\", \"smart\", \"smart\", \"smart\", \"smart\", \"smart\", \"smart\", \"smart\", \"smart\", \"smart\", \"smart\", \"smart\", \"smart\", \"smart\", \"smart\", \"smart\", \"smart\", \"smart\", \"smart\", \"smart\", \"smart\", \"smart\", \"smart\", \"smart\", \"smart\", \"smart\", \"smart\", \"smart\", \"smart\", \"smart\", \"smart\", \"smart\", \"smart\", \"smart\", \"smart\", \"smart\", \"smart\", \"smart\", \"smart\", \"smart\", \"smart\", \"smart\", \"smart\", \"smart\", \"smart\", \"smart\", \"smart\", \"smart\", \"smart\", \"smart\", \"smart\", \"smart\", \"smart\", \"smart\", \"smart\", \"smart\", \"smart\", \"smart\", \"smart\", \"smart\", \"smart\", \"smart\", \"smart\", \"smart\", \"smart\", \"smart\", \"smart\", \"smart\", \"smart\", \"smart\", \"smart\", \"smart\", \"smart\", \"smart\", \"smart\", \"smart\", \"smart\", \"smart\", \"smart\", \"smart\", \"smart\", \"smart\", \"smart\", \"smart\", \"smart\", \"smart\", \"smart\", \"smart\", \"smart\", \"smart\", \"smart\", \"smart\", \"smart\", \"smart\", \"smart\", \"smart\", \"smart\", \"smart\", \"smart\", \"smart\", \"smart\", \"smart\", \"smart\", \"smart\", \"smart\", \"smart\", \"smart\", \"smart\", \"smart\", \"smart\", \"smart\", \"smart\", \"smart\", \"smart\", \"smart\", \"smart\", \"smart\", \"smart\", \"smart\", \"smart\", \"smart\", \"smart\", \"smart\", \"smart\", \"smart\", \"smart\", \"smart\", \"smart\", \"smart\", \"smart\", \"smart\", \"smart\", \"smart\", \"smart\", \"smart\", \"smart\", \"smart\", \"smart\", \"smart\", \"smart\", \"smart\", \"smart\", \"smart\", \"smart\", \"smart\", \"smart\", \"smart\", \"smart\", \"smart\", \"smart\", \"smart\", \"smart\", \"smart\", \"smart\", \"smart\", \"smart\", \"smart\", \"smart\", \"smart\", \"smart\", \"smart\", \"smart\", \"smart\", \"smart\", \"smart\", \"smart\", \"smart\", \"smart\", \"smart\", \"smart\", \"smart\", \"smart\", \"smart\", \"smart\", \"smart\", \"smart\", \"smart\", \"smart\", \"smart\", \"smart\", \"smart\", \"smart\", \"smart\", \"smart\", \"smart\", \"smart\", \"smart\", \"smart\", \"smart\", \"smart\", \"smart\", \"smart\", \"smart\", \"smart\", \"smart\", \"smart\", \"smart\", \"smart\", \"smart\", \"smart\", \"smart\", \"smart\", \"smart\", \"smart\", \"smart\", \"smart\", \"smart\", \"smart\", \"smart\", \"smart\", \"smart\", \"smart\", \"smart\", \"smart\", \"smart\", \"smart\", \"smart\", \"smart\", \"smart\", \"smart\", \"smart\", \"smart\", \"smart\", \"smart\", \"smart\", \"smart\", \"smart\", \"smart\", \"smart\", \"smart\", \"smart\", \"smart\", \"smart\", \"smart\", \"smart\", \"smart\", \"smart\", \"smart\", \"smart\", \"smart\", \"smart\", \"smart\", \"smart\", \"smart\", \"smart\", \"smart\", \"smart\", \"smart\", \"smart\", \"smart\", \"smart\", \"smart\", \"smart\", \"smart\", \"smart\", \"smart\", \"smart\", \"smart\", \"smart\", \"smart\", \"smart\", \"smart\", \"smart\", \"smart\", \"smart\", \"smart\", \"smart\", \"smart\", \"smart\", \"smart\", \"smart\", \"smart\", \"smart\", \"smart\", \"smart\", \"smart\", \"smart\", \"smart\", \"smart\", \"smart\", \"smart\", \"smart\", \"smart\", \"smart\", \"smart\", \"smart\", \"smart\", \"smart\", \"smart\", \"smart\", \"smart\", \"smart\", \"smart\", \"smart\", \"smart\", \"smart\", \"smart\", \"smart\", \"smart\", \"smart\", \"smart\", \"smart\", \"smart\", \"smart\", \"smart\", \"smart\", \"smart\", \"smart\", \"smart\", \"smart\", \"smart\", \"smart\", \"smart\", \"smart\", \"smart\", \"smart\", \"smart\", \"smart\", \"smart\", \"smart\", \"smart\", \"smart\", \"smart\", \"smart\", \"smart\", \"smart\", \"smart\", \"smart\", \"smart\", \"smart\", \"smart\", \"smart\", \"smart\", \"smart\", \"smart\", \"smart\", \"smart\", \"smart\", \"smart\", \"smart\", \"smart\", \"smart\", \"smart\", \"smart\", \"smart\", \"smart\", \"smart\", \"smart\", \"smart\", \"smart\", \"smart\", \"smart\", \"smart\", \"smart\", \"smart\", \"smart\", \"smart\", \"smart\", \"smart\", \"smart\", \"smart\", \"smart\", \"smart\", \"smart\", \"smart\", \"smart\", \"smart\", \"smart\", \"smart\", \"smart\", \"smart\", \"smart\", \"smart\", \"smart\", \"smart\", \"smart\", \"smart\", \"smart\", \"smart\", \"smart\", \"smart\", \"smart\", \"smart\", \"smart\", \"smart\", \"smart\", \"smart\", \"smart\", \"smart\", \"smart\", \"smart\", \"smart\", \"smart\", \"smart\", \"smart\", \"smart\", \"smart\", \"smart\", \"smart\", \"smart\", \"smart\", \"smart\", \"smart\", \"smart\", \"smart\", \"smart\", \"smart\", \"smart\", \"smart\", \"smart\", \"smart\", \"smart\", \"smart\", \"smart\", \"smart\", \"smart\", \"smart\", \"smart\", \"smart\", \"smart\", \"smart\", \"smart\", \"smart\", \"smart\", \"smart\", \"smart\", \"smart\", \"smart\", \"smart\", \"smart\", \"smart\", \"smart\", \"smart\", \"smart\", \"smart\", \"smart\", \"smart\", \"smart\", \"smart\", \"smart\", \"smart\", \"smart\", \"smart\", \"smart\", \"smart\", \"smart\", \"smart\", \"smart\", \"smart\", \"smart\", \"smart\", \"smart\", \"smart\", \"smart\", \"smart\", \"smart\", \"smart\", \"smart\", \"smart\", \"smart\", \"smart\", \"smart\", \"smart\", \"smart\", \"smart\", \"smart\", \"smart\", \"smart\", \"smart\", \"smart\", \"smart\", \"smart\", \"smart\", \"smart\", \"smart\", \"smart\", \"smart\", \"smart\", \"smart\", \"smart\", \"smart\", \"smart\", \"smart\"], \"x0\": \" \", \"xaxis\": \"x\", \"y\": [18.02, 13.72, 19.87, 17.71, 17.19, 10.62, 18.17, 13.58, 16.32, 12.38, 2.67, 7.22, 6.86, 7.63, 10.86, 7.52, 9.64, 8.48, 9.15, 7.38, 7.69, 1.36, 19.26, 12.96, 16.9, 12.68, 15.18, 19.53, 18.06, 13.63, 18.87, 12.1, 12.33, 14.11, 16.01, 17.29, 13.35, 12.22, 7.84, 20.24, 15.31, 12.93, 7.19, 21.44, 16.47, 13.07, 19.64, 24.17, 18.21, 14.38, 23.18, 15.71, 14.14, 18.78, 18.81, 14.28, 15.79, 21.26, 17.86, 5.76, 17.97, 24.74, 18.29, 22.36, 17.67, 21.02, 16.98, 18.95, 28.43, 22.02, 2.36, 26.01, 24.19, 13.7, 16.25, 21.37, 22.58, 25.17, 22.05, 12.76, 24.55, 27.2, 25.45, 24.48, 24.86, 26.79, 0.72, 19.19, 19.47, 16.77, 21.05, 16.29, 16.4, 26.29, 17.8, 20.24, 20.61, 5.98, 18.52, 15.24, 16.29, 16.9, 17.68, 4.8, 9.08, 15.09, 27.76, 16.34, 6.87, 14.14, 17.03, 10.22, 16.87, 12.0, 12.13, 20.23, 7.17, 14.12, 9.65, 16.17, 11.92, 13.87, 21.79, 24.16, 18.57, 24.32, 14.35, 19.24, 21.75, 11.19, 24.31, 14.12, 14.41, 21.08, 5.96, 11.11, 18.6, 5.31, 13.34, 12.83, 12.71, 11.91, 9.54, 9.58, 11.04, 23.58, 12.22, 17.74, 14.56, 22.92, 24.11, 19.21, 18.67, 17.72, 16.47, 24.27, 16.65, 25.29, 19.45, 24.42, 11.36, 20.53, 21.57, 2.36, 10.54, 19.53, 16.91, 18.45, 11.56, 14.03, 10.27, 15.63, 12.49, 11.51, 14.01, 11.45, 14.61, 15.41, 15.27, 8.05, 16.46, 14.26, 11.9, 12.23, 10.18, 16.59, 14.48, 16.09, 15.9, 24.62, 19.43, 21.03, 18.49, 16.51, 15.41, 22.6, 2.24, 36.35, 6.79, 22.61, 17.58, 26.49, 19.58, 19.0, 14.17, 19.7, 21.33, 23.9, 17.9, 15.96, 16.04, 14.19, 20.6, 13.21, 15.24, 13.05, 22.8, 21.9, 14.47, 16.84, 18.55, 18.2, 22.51, 16.54, 2.29, 15.54, 23.93, 21.36, 20.5, 7.47, 26.78, 25.58, 1.97, 13.97, 9.94, 1.8, 20.42, 22.28, 13.82, 17.04, 12.66, 2.26, 19.1, 15.59, 20.09, 18.03, 19.64, 10.1, 15.73, 15.27, 18.0, 18.94, 16.6, 15.31, 18.93, 20.51, 16.71, 14.41, 18.4, 16.98, 15.77, 21.16, 18.04, 22.33, 15.16, 15.94, 17.89, 20.87, 17.01, 7.0, 14.04, 11.01, 17.04, 8.48, 16.26, 19.26, 17.22, 16.59, 18.34, 20.91, 22.89, 20.77, 18.65, 8.21, 22.52, 15.18, 18.17, 16.23, 17.84, 9.02, 21.47, 20.46, 4.41, 6.42, 14.01, 21.74, 14.16, 6.15, 24.55, 20.2, 19.97, 17.51, 23.55, 18.6, 27.74, 20.31, 22.2, 19.15, 28.0, 20.18, 5.91, 24.1, 23.64, 22.08, 30.29, 23.47, 20.94, 4.57, 17.24, 15.47, 14.67, 12.81, 12.48, 12.2, 14.96, 12.86, 5.65, 13.26, 12.01, 9.59, 24.46, 15.07, 12.34, 24.51, 27.46, 20.6, 11.1, 10.65, 12.22, 16.18, 11.14, 10.29, 15.44, 15.26, 14.2, 18.45, 16.11, 21.11, 13.64, 14.28, 4.77, 27.66, 24.16, 29.71, 21.91, 19.15, 28.14, 20.06, 21.45, 22.28, 25.26, 16.48, 15.42, 12.14, 21.41, 16.49, 17.83, 20.62, 15.31, 20.72, 26.25, 20.59, 21.43, 15.44, 13.49, 20.99, 19.95, 2.19, 18.56, 23.58, 12.48, 10.89, 10.54, 11.83, 8.04, 7.73, 12.2, 8.11, 10.07, 16.39, 10.72, 18.95, 16.85, 17.45, 17.34, 15.72, 16.82, 4.85, 18.11, 19.57, 19.97, 13.94, 12.48, 16.93, 2.77, 15.83, 19.57, 15.54, 24.99, 15.43, 15.38, 14.27, 14.33, 21.5, 14.92, 13.92, 16.17, 16.22, 10.69, 23.74, 25.41, 23.56, 7.8, 24.41, 24.21, 16.58, 23.61, 18.0, 12.68, 20.24, 18.32, 0.82, 15.77, 18.0, 20.43, 24.55, 20.75, 8.07, 20.97, 35.71, 30.28, 15.17, 10.87, 17.34, 16.74, 11.66, 15.52, 10.2, 3.2, 9.65, 13.46, 8.66, 8.42, 12.56, 8.15, 19.03, 20.85, 20.28, 8.03, 20.97, 21.67, 18.78, 13.63, 25.0, 0.36, 28.58, 25.94, 22.02, 11.44, 18.2, 22.82, 6.14, 15.54, 19.95, 18.29, 14.33, 14.18, 15.01, 10.83, 14.02, 15.31, 11.53, 16.46, 2.25, 11.69, 13.18, 13.9, 20.01, 19.21, 14.77, 18.13, 17.74, 15.8, 24.3, 11.14, 26.21, 13.36, 13.88, 21.17, 13.95, 0.75, 16.82, 9.25, 12.29, 14.05, 16.29, 13.88, 14.99, 11.31, 16.85, 10.98, 7.65, 13.45, 13.37, 13.98, 1.85, 6.66, 10.45, 9.18, 0.37, 10.04, 7.55, 13.84, 11.25, 9.39, 14.71, 13.2, 14.95, 13.46, 10.75, 19.37, 11.83, 15.24, 11.73, 13.88, 17.56, 13.32, 14.06, 13.86, 15.15, 10.54, 12.44, 16.18, 14.9, 19.42, 20.76, 21.33, 19.66, 25.26, 8.63, 16.1, 22.7, 18.94, 19.01, 14.36, 13.85, 15.4, 11.82, 13.27, 21.0, 12.38, 17.84, 19.74, 17.92, 22.44, 19.77, 7.49, 17.47, 16.43, 18.35, 16.78, 15.67, 14.24, 10.61, 12.74, 13.84, 18.05, 9.45, 15.31, 13.08, 12.68, 13.86, 16.9, 15.08, 16.08, 17.46, 14.31, 23.51, 16.57, 15.62, 19.0, 18.3, 18.27, 14.47, 20.43, 15.35, 13.09, 15.73, 16.85, 6.4, 13.01, 14.62, 16.87, 16.31, 11.52, 11.93, 18.75, 13.79, 19.78, 15.51, 9.98, 12.76, 15.21, 15.97, 23.32, 16.18, 18.92, 18.02, 18.98, 18.01, 17.91, 14.47, 19.03, 17.71, 1.56, 18.59, 8.43, 30.54, 15.82, 23.23, 26.12, 21.28, 15.08, 25.03, 28.19, 9.55, 15.08, 19.6, 14.5, 19.42, 15.64, 12.83, 20.39, 21.13, 4.88, 21.83, 18.21, 23.12, 17.0, 18.87, 16.43, 12.88, 19.95, 16.2, 12.18, 17.61, 0.67, 15.12, 12.13, 18.42, 15.22, 11.47, 16.88, 12.7, 20.06, 6.16, 16.65, 16.34, 21.73, 3.29, 14.41, 17.13, 19.11, 12.56, 21.21, 19.46, 19.68, 23.44, 12.78, 21.83, 21.19, 23.46, 24.12, 25.81, 22.61, 24.97, 20.89, 24.53, 10.36, 25.51, 7.17, 15.67, 19.01, 16.16, 16.26, 16.41, 12.48, 13.67, 15.13, 19.68, 15.64, 19.02, 15.63, 15.76, 22.46, 16.09, 11.88, 15.26, 11.71, 15.97, 18.06, 18.02, 24.28, 26.43, 18.49, 15.55, 21.43, 27.18, 18.69, 26.36, 19.75, 3.32, 15.18, 12.79, 14.12, 12.43, 13.36, 12.41, 15.65, 11.74, 12.18, 11.06, 12.36, 34.35, 2.78, 13.26, 12.96, 16.9, 12.52, 12.47, 17.11, 16.95, 20.04, 4.52, 19.11, 14.94, 15.03, 21.81, 11.41, 9.17, 12.11, 19.19, 11.17, 16.25, 14.73, 13.3, 14.44, 17.52, 11.16, 11.17, 18.56, 10.71, 17.85, 4.34, 18.91, 19.38, 21.47, 15.93, 14.45, 15.93, 5.82, 13.54, 10.45, 11.45, 13.43, 13.67, 12.95, 14.47, 26.59, 23.16, 28.8, 33.13, 25.19, 22.3, 32.01, 22.26, 15.66, 21.35, 24.75, 11.42, 22.71, 20.27, 15.73, 16.04, 15.1, 11.08, 19.47, 18.89, 13.5, 20.85, 14.92, 18.7, 11.69, 18.57, 16.5, 13.55, 23.15, 13.2, 20.94, 20.41, 20.51, 14.86, 21.53, 17.57, 18.0, 15.02, 16.02, 24.03, 6.7, 19.06, 13.41, 15.68, 14.1, 15.46, 16.89, 16.41, 16.81, 19.2, 15.36, 15.03, 4.29, 18.46, 13.22, 14.85, 11.64, 13.19, 7.06, 13.41, 12.14, 17.68, 13.67, 13.82, 5.91, 18.9, 11.22, 11.05, 15.46, 17.17, 12.13, 27.58, 5.17, 20.55, 12.47, 11.62, 8.59, 15.67, 9.67, 11.25, 16.1, 10.22, 8.92, 13.3, 14.12, 11.06, 6.8, 10.24, 8.52, 11.21, 16.41, 9.65, 12.23, 10.23, 21.67, 19.47, 16.61, 5.46, 14.91, 10.07, 8.72, 6.6, 14.47, 8.13, 10.82, 12.5, 10.14, 12.48, 13.95, 9.49, 15.86, 15.82, 22.72, 13.82, 22.46, 17.75, 18.05, 21.4, 19.74, 0.53, 21.26, 17.03, 11.78, 17.38, 1.15, 1.13, 22.14, 27.26, 8.35, 11.3, 12.0, 11.01, 6.98, 11.09, 9.83, 11.34, 8.19, 14.34, 11.63, 9.74, 13.32, 7.83, 9.48, 10.2, 27.56, 21.87, 24.2, 17.93, 8.03, 21.63, 22.56, 17.4, 17.75, 8.6, 18.0, 15.06, 10.34, 8.12, 7.65, 13.01, 8.41, 28.96, 15.65, 15.14, 26.63, 18.58, 20.37, 18.25, 22.74, 19.36, 17.06, 21.14, 20.03, 15.48, 19.31, 22.42, 26.83, 19.66, 7.82, 8.43, 10.1, 10.84, 13.38, 16.73, 15.03, 17.57, 21.16, 18.79, 16.24, 17.97, 21.79, 19.75, 18.01, 20.11, 17.37, 2.0, 16.73, 21.33, 18.4, 15.14, 18.49, 17.56, 4.24, 21.72, 16.53, 15.57, 15.63, 21.25, 19.25, 16.98, 18.87, 8.45, 18.17, 10.39, 9.54, 9.88, 12.17, 11.83, 9.22, 13.11, 7.37, 16.85, 19.68, 13.89, 19.62, 4.94, 15.66, 3.1, 12.1, 12.87, 16.19, 9.58, 13.69, 12.77, 14.4, 16.79, 11.7, 11.5, 12.01, 7.25, 10.41, 14.65, 11.87, 6.9, 19.83, 21.17, 20.98, 19.56, 17.32, 16.84, 21.52, 21.1, 15.58, 16.32, 22.35, 20.5, 6.32, 8.54, 15.13, 7.71, 8.77, 8.19, 8.71, 11.08, 21.08, 23.91, 17.5, 17.61, 24.5, 20.63, 18.36, 21.16, 6.41, 16.98, 17.2, 18.85, 24.32, 24.41, 23.89, 21.88, 18.79, 20.98, 22.1, 19.26, 16.26, 23.47, 18.28, 16.97, 8.01, 18.75, 17.86, 14.38, 21.52, 11.21, 14.22, 1.77, 25.48, 24.45, 8.66, 19.36, 19.46, 13.77, 8.31, 9.48, 20.11, 20.01, 19.87, 21.04, 25.66, 8.37, 20.78, 27.32, 13.13, 15.26, 16.2, 21.21, 14.95, 21.29, 16.35, 14.88, 10.64, 18.39, 13.17, 11.53, 17.24, 17.24, 19.58, 12.73, 12.82, 16.81, 18.59, 11.72, 18.86, 13.79, 9.76, 20.22, 15.53, 20.1, 23.09, 25.02, 21.39, 19.43, 28.09, 30.39, 23.9, 8.45, 4.82, 22.28, 15.52, 11.69, 18.24, 26.53, 21.48, 18.78, 19.43, 2.9, 19.94, 25.05, 21.52, 24.49, 17.75, 6.82, 20.28, 18.89, 22.27, 17.03, 19.9, 23.09, 20.54, 2.4, 14.64, 13.26, 17.52, 22.08, 17.52, 15.16, 8.84, 18.03, 11.35, 12.33, 14.8, 11.79, 7.45, 13.5, 13.07, 15.77, 11.85, 11.7, 12.64, 23.96, 17.75, 24.49, 19.92, 22.93, 21.15, 20.67, 23.23, 14.23, 25.84, 25.54, 17.33, 22.54, 18.12, 21.7, 1.42, 18.28, 12.25, 12.97, 8.23, 14.3, 13.59, 15.08, 31.78, 31.93, 1.8, 16.76, 18.43, 19.04, 15.73, 22.21, 10.94, 25.65, 18.71, 20.38, 20.24, 20.58, 20.95, 14.85, 2.65, 17.34, 14.39, 17.2, 21.58, 17.82, 4.21, 16.33, 22.87, 13.44, 17.82, 15.47, 17.9, 15.54, 23.56, 16.05, 13.23, 8.14, 15.24, 21.39, 12.45, 13.09, 18.46, 14.28, 13.6, 15.62, 14.68, 1.7, 20.23, 18.8, 14.9, 20.91, 15.68, 16.14, 13.56, 17.57, 9.63, 19.18, 17.8, 16.79, 14.62, 16.11, 11.96, 14.96, 15.87, 15.72, 17.83, 21.89, 2.29, 14.47, 15.87, 15.92, 18.28, 13.59, 18.03, 11.44, 14.15, 22.09, 11.12, 10.96, 13.47, 9.98, 10.44, 19.35, 6.24, 13.1, 19.74, 18.94, 15.86, 16.89, 12.93, 8.13, 8.79, 17.53, 12.87, 11.19, 19.48, 10.37, 5.45, 15.33, 17.79, 22.53, 18.42, 19.04, 15.83, 14.17, 13.73, 14.95, 15.7, 16.95, 19.61, 6.43, 19.07, 21.11, 8.15, 5.54, 8.29, 6.3, 4.42, 5.9, 6.81, 5.92, 1.96, 8.09, 4.05, 0.63, 4.72, 34.33, 31.0, 22.97, 16.46, 6.13, 10.87, 20.64, 9.92, 8.98, 18.99, 19.38, 18.73, 14.76, 18.11, 29.06, 18.56, 22.58, 11.13, 12.24, 14.15, 8.46, 16.25, 12.33, 15.91, 18.44, 9.42, 8.92, 9.46, 14.84, 8.48, 6.87, 8.07, 16.18, 19.29, 20.25, 13.36, 14.04, 15.25, 10.29, 15.26, 15.0, 11.99, 18.56, 21.83, 19.38, 5.04, 25.29, 20.13, 20.75, 13.31, 13.67, 14.51, 14.34, 19.31, 20.28, 15.17, 21.16, 14.49, 14.81, 12.33, 2.8, 0.94, 19.2, 23.8, 20.82, 15.32, 19.19, 14.93, 14.03, 11.93, 19.23, 18.76, 11.66, 14.3, 4.83, 14.28, 13.0, 20.26, 3.38, 23.99, 0.58, 34.14, 13.79, 19.42, 19.37, 17.29, 14.52, 16.3, 19.63, 19.85, 16.19, 19.09, 12.85, 14.44, 16.52, 21.11, 18.78, 11.41, 13.16, 18.0, 13.26, 11.7, 14.99, 15.64, 15.23, 16.92, 16.82, 19.45, 22.26, 21.38, 22.7, 4.07, 12.2, 21.17, 23.32, 5.09, 24.58, 14.43, 15.18, 23.32, 21.88, 22.78, 23.34, 22.97, 21.49, 16.48, 17.18, 25.18, 12.3, 19.46, 13.52, 18.66, 15.78, 0.66, 15.78, 12.99, 11.1, 17.77, 15.54, 17.93, 20.44, 3.99, 19.53, 17.93, 17.59, 6.96, 13.08, 18.49, 13.79, 15.67, 20.1, 10.86, 17.15, 19.17, 14.66, 17.37, 13.64, 18.78, 17.16, 15.16, 20.63, 15.67, 13.05, 12.39, 13.42, 16.62, 20.43, 22.35, 17.36, 23.04, 19.78, 19.65, 25.39, 2.91, 26.3, 20.78, 23.01, 2.68, 24.65, 21.66, 16.62, 16.9, 19.78, 19.52, 17.53, 15.6, 15.01, 7.55, 15.85, 9.29, 17.76, 13.25, 12.92, 16.63, 14.35, 14.82, 17.06, 21.83, 18.37, 17.6, 18.49, 19.55, 3.08, 17.0, 16.88, 25.56, 10.36, 18.25, 16.73, 15.7, 23.06, 21.54, 15.52, 16.46, 21.49, 17.6, 14.56, 9.95, 17.9, 22.97, 18.01, 11.4, 13.99, 16.79, 18.49, 16.64, 16.92, 11.26, 20.31, 24.05, 17.4, 19.7, 16.86, 15.32, 18.5, 17.9, 21.95, 15.48, 18.54, 22.03, 16.45, 2.16, 18.29, 13.67, 18.59, 18.63, 9.49, 19.28, 13.62, 16.5, 14.53, 13.94, 23.12, 15.34, 8.25, 10.01, 18.9, 15.9, 5.69, 21.97, 22.01, 19.25, 16.2, 16.49, 26.09, 6.92, 26.57, 18.27, 18.83, 15.62, 16.21, 13.38, 21.41, 3.79, 17.55, 21.12, 19.54, 14.25, 11.01, 8.69, 8.76, 9.73, 10.05, 10.57, 12.27, 10.31, 2.8, 11.17, 8.31, 11.18, 17.22, 0.99, 16.41, 15.66, 13.65, 10.44, 16.14, 7.62, 8.7, 10.36, 23.42, 29.46, 6.92, 7.38, 4.63, 8.39, 12.0, 7.86, 11.69, 20.02, 12.72, 16.29, 17.57, 13.29, 22.72, 13.6, 14.45, 11.06, 18.33, 12.94, 11.25, 16.9, 10.81, 8.93, 11.1, 4.22, 16.23, 9.67, 13.57, 9.83, 13.35, 8.97, 23.3, 21.03, 29.06, 22.12, 16.37, 18.12, 22.13, 19.92, 12.17, 17.56, 19.72, 15.44, 17.36, 20.35, 20.18, 18.09, 16.7, 17.07, 20.84, 13.97, 14.22, 18.92, 16.21, 18.89, 20.74, 17.28, 15.84, 0.65, 4.56, 13.64, 10.59, 13.43, 11.6, 13.24, 13.95, 12.13, 10.23, 13.52, 14.05, 10.56, 9.81, 15.99, 3.48, 17.04, 0.52, 19.98, 17.32, 21.2, 22.86, 17.97, 25.24, 21.24, 14.92, 19.77, 24.46, 24.33, 30.33, 21.46, 21.33, 26.17, 22.03, 2.19, 24.21, 21.14, 16.44, 3.75, 15.41, 18.25, 13.15, 18.18, 22.22, 2.04, 22.48, 18.0, 16.3, 13.57, 16.98, 12.84, 11.56, 19.54, 15.8, 18.92, 20.8, 6.29, 16.95, 16.97, 8.12, 4.83, 8.01, 6.87, 5.68, 6.95, 5.02, 11.38, 8.78, 6.49, 6.77, 7.84, 19.11, 16.44, 18.19, 20.8, 15.13, 18.76, 20.16, 15.93, 14.32, 12.89, 22.84, 14.81, 18.25, 25.25, 7.25, 21.25, 19.02, 25.53, 11.57, 14.62, 11.53, 7.88, 9.46, 11.44, 15.36, 10.98, 12.12, 10.47, 7.7, 5.03, 17.01, 16.43, 5.07, 18.84, 19.05, 16.11, 12.86, 17.47, 16.94, 11.18, 10.64, 16.48, 11.08, 13.63, 14.63, 14.05, 12.16, 14.55, 2.77, 15.93, 21.01, 14.36, 12.22, 16.07, 13.21, 20.75, 17.56, 17.95, 18.88, 12.45, 16.3, 9.38, 17.93, 21.57, 20.41, 25.05, 14.84, 3.69, 27.23, 20.43, 15.7, 12.17, 14.62, 12.77, 8.57, 21.84, 21.43, 26.32, 21.06, 16.58, 21.98, 19.07, 17.09, 21.11, 20.95, 17.13, 18.97, 3.91, 16.17, 10.74, 14.74, 10.26, 12.93, 18.7, 15.35, 3.02, 16.88, 16.99, 5.74, 12.04, 10.84, 13.76, 11.85, 28.0, 24.61, 29.42, 15.42, 22.42, 19.6, 14.91, 14.28, 20.76, 19.71, 23.73, 24.23, 21.44, 4.99, 8.51, 8.26, 8.26, 18.21, 13.94, 20.36, 14.14, 1.81, 20.51, 10.93, 11.35, 16.7, 16.56, 17.39, 16.51, 16.26, 13.05, 16.46, 13.59, 12.93, 15.89, 7.83, 15.77, 12.01, 14.66, 1.95, 24.7, 19.43, 24.36, 20.41, 17.19, 12.96, 11.41, 10.94, 11.43, 12.92, 17.04, 14.54, 13.2, 6.88, 26.69, 17.23, 17.53, 21.82, 21.81, 17.7, 14.85, 18.22, 21.05, 26.92, 23.1, 22.0, 19.55, 23.2, 18.38, 2.1, 17.81, 11.64, 17.46, 19.47, 19.48, 20.0, 13.75, 17.53, 21.03, 15.37, 23.14, 21.08, 20.83, 13.82, 20.47, 12.34, 13.45, 18.51, 16.1, 13.79, 15.05, 13.83, 12.55, 13.58, 9.24, 15.26, 11.34, 15.01, 18.57, 17.04, 22.34, 20.92, 22.47, 20.96, 18.42, 22.55, 5.41, 16.0, 19.84, 20.55, 23.6, 18.06, 19.39, 22.33, 8.47, 11.6, 12.96, 22.15, 16.61, 0.47, 20.62, 22.23, 28.0, 19.6, 25.6, 24.5, 16.64, 20.02, 3.44, 15.39, 13.52, 19.73, 16.3, 13.81, 15.96, 17.59, 19.81, 18.66, 18.49, 10.37, 23.29, 12.46, 20.76, 13.66, 19.21, 15.59, 12.65, 4.71, 18.16, 15.81, 12.34, 19.7, 11.02, 15.05, 4.09, 16.57, 10.77, 9.59, 15.69, 11.73, 5.9, 11.56, 13.0, 15.0, 8.6, 12.54, 10.31, 9.41, 9.05, 6.63, 26.27, 27.38, 21.77, 18.94, 10.5, 10.89, 8.43, 18.41, 21.21, 14.35, 14.37, 22.08, 18.05, 11.17, 15.13, 10.8, 15.72, 13.82, 12.92, 16.57, 14.75, 16.71, 15.67, 13.94, 10.54, 11.18, 2.86, 23.76, 22.85, 19.96, 16.55, 17.04, 30.86, 15.33, 20.67, 21.17, 16.43, 8.32, 21.8, 20.17, 21.21, 8.58, 16.25, 15.48, 19.23, 17.31, 14.2, 14.44, 10.24, 11.04, 10.95, 14.58, 12.91, 16.6, 14.83, 5.64, 12.45, 13.64, 12.24, 8.88, 17.46, 19.61, 10.3, 18.54, 23.33, 18.0, 17.68, 14.19, 22.7, 18.87, 18.72, 11.3, 23.0, 16.46, 17.85, 8.59, 14.86, 13.83, 12.95, 15.96, 11.37, 12.34, 13.37, 13.29, 20.26, 14.43, 10.03, 18.52, 20.04, 27.32, 19.18, 21.96, 19.51, 20.16, 4.2, 22.2, 15.45, 18.03, 17.37, 13.17, 12.84, 10.67, 20.58, 16.66, 22.91, 25.3, 21.94, 17.52, 13.34, 14.0, 15.02, 15.06, 19.33, 9.02, 9.29, 14.2, 19.84, 16.09, 20.9, 18.68, 13.5, 19.48, 17.83, 16.87, 2.68, 17.75, 17.65, 12.82, 18.8, 10.44, 11.13, 16.0, 8.28, 12.17, 14.27, 16.9, 11.16, 0.2, 17.65, 18.78, 8.99, 20.44, 13.83, 20.24, 17.49, 22.41, 16.64, 14.2, 13.52, 16.42, 18.68, 11.05, 37.71, 35.47, 0.4, 21.31, 6.09, 11.78, 13.73, 16.62, 13.35, 16.15, 17.11, 16.93, 10.81, 19.13, 16.83, 20.86, 16.89, 13.36, 15.44, 10.56, 19.07, 18.29, 20.21, 14.49, 3.91, 19.9, 20.19, 24.73, 16.71, 14.88, 24.33, 16.59, 6.45, 17.23, 17.65, 17.38, 23.01, 20.6, 20.27, 23.82, 19.69, 23.18, 24.5, 27.55, 27.85, 3.68, 24.4, 26.34, 19.47, 13.84, 11.24, 23.7, 7.31, 20.12, 21.65, 12.77, 17.56, 1.8, 17.39], \"y0\": \" \", \"yaxis\": \"y\"}],\n",
              "                        {\"legend\": {\"tracegroupgap\": 0}, \"template\": {\"data\": {\"bar\": [{\"error_x\": {\"color\": \"#2a3f5f\"}, \"error_y\": {\"color\": \"#2a3f5f\"}, \"marker\": {\"line\": {\"color\": \"#E5ECF6\", \"width\": 0.5}}, \"type\": \"bar\"}], \"barpolar\": [{\"marker\": {\"line\": {\"color\": \"#E5ECF6\", \"width\": 0.5}}, \"type\": \"barpolar\"}], \"carpet\": [{\"aaxis\": {\"endlinecolor\": \"#2a3f5f\", \"gridcolor\": \"white\", \"linecolor\": \"white\", \"minorgridcolor\": \"white\", \"startlinecolor\": \"#2a3f5f\"}, \"baxis\": {\"endlinecolor\": \"#2a3f5f\", \"gridcolor\": \"white\", \"linecolor\": \"white\", \"minorgridcolor\": \"white\", \"startlinecolor\": \"#2a3f5f\"}, \"type\": \"carpet\"}], \"choropleth\": [{\"colorbar\": {\"outlinewidth\": 0, \"ticks\": \"\"}, \"type\": \"choropleth\"}], \"contour\": [{\"colorbar\": {\"outlinewidth\": 0, \"ticks\": \"\"}, \"colorscale\": [[0.0, \"#0d0887\"], [0.1111111111111111, \"#46039f\"], [0.2222222222222222, \"#7201a8\"], [0.3333333333333333, \"#9c179e\"], [0.4444444444444444, \"#bd3786\"], [0.5555555555555556, \"#d8576b\"], [0.6666666666666666, \"#ed7953\"], [0.7777777777777778, \"#fb9f3a\"], [0.8888888888888888, \"#fdca26\"], [1.0, \"#f0f921\"]], \"type\": \"contour\"}], \"contourcarpet\": [{\"colorbar\": {\"outlinewidth\": 0, \"ticks\": \"\"}, \"type\": \"contourcarpet\"}], \"heatmap\": [{\"colorbar\": {\"outlinewidth\": 0, \"ticks\": \"\"}, \"colorscale\": [[0.0, \"#0d0887\"], [0.1111111111111111, \"#46039f\"], [0.2222222222222222, \"#7201a8\"], [0.3333333333333333, \"#9c179e\"], [0.4444444444444444, \"#bd3786\"], [0.5555555555555556, \"#d8576b\"], [0.6666666666666666, \"#ed7953\"], [0.7777777777777778, \"#fb9f3a\"], [0.8888888888888888, \"#fdca26\"], [1.0, \"#f0f921\"]], \"type\": \"heatmap\"}], \"heatmapgl\": [{\"colorbar\": {\"outlinewidth\": 0, \"ticks\": \"\"}, \"colorscale\": [[0.0, \"#0d0887\"], [0.1111111111111111, \"#46039f\"], [0.2222222222222222, \"#7201a8\"], [0.3333333333333333, \"#9c179e\"], [0.4444444444444444, \"#bd3786\"], [0.5555555555555556, \"#d8576b\"], [0.6666666666666666, \"#ed7953\"], [0.7777777777777778, \"#fb9f3a\"], [0.8888888888888888, \"#fdca26\"], [1.0, \"#f0f921\"]], \"type\": \"heatmapgl\"}], \"histogram\": [{\"marker\": {\"colorbar\": {\"outlinewidth\": 0, \"ticks\": \"\"}}, \"type\": \"histogram\"}], \"histogram2d\": [{\"colorbar\": {\"outlinewidth\": 0, \"ticks\": \"\"}, \"colorscale\": [[0.0, \"#0d0887\"], [0.1111111111111111, \"#46039f\"], [0.2222222222222222, \"#7201a8\"], [0.3333333333333333, \"#9c179e\"], [0.4444444444444444, \"#bd3786\"], [0.5555555555555556, \"#d8576b\"], [0.6666666666666666, \"#ed7953\"], [0.7777777777777778, \"#fb9f3a\"], [0.8888888888888888, \"#fdca26\"], [1.0, \"#f0f921\"]], \"type\": \"histogram2d\"}], \"histogram2dcontour\": [{\"colorbar\": {\"outlinewidth\": 0, \"ticks\": \"\"}, \"colorscale\": [[0.0, \"#0d0887\"], [0.1111111111111111, \"#46039f\"], [0.2222222222222222, \"#7201a8\"], [0.3333333333333333, \"#9c179e\"], [0.4444444444444444, \"#bd3786\"], [0.5555555555555556, \"#d8576b\"], [0.6666666666666666, \"#ed7953\"], [0.7777777777777778, \"#fb9f3a\"], [0.8888888888888888, \"#fdca26\"], [1.0, \"#f0f921\"]], \"type\": \"histogram2dcontour\"}], \"mesh3d\": [{\"colorbar\": {\"outlinewidth\": 0, \"ticks\": \"\"}, \"type\": \"mesh3d\"}], \"parcoords\": [{\"line\": {\"colorbar\": {\"outlinewidth\": 0, \"ticks\": \"\"}}, \"type\": \"parcoords\"}], \"pie\": [{\"automargin\": true, \"type\": \"pie\"}], \"scatter\": [{\"marker\": {\"colorbar\": {\"outlinewidth\": 0, \"ticks\": \"\"}}, \"type\": \"scatter\"}], \"scatter3d\": [{\"line\": {\"colorbar\": {\"outlinewidth\": 0, \"ticks\": \"\"}}, \"marker\": {\"colorbar\": {\"outlinewidth\": 0, \"ticks\": \"\"}}, \"type\": \"scatter3d\"}], \"scattercarpet\": [{\"marker\": {\"colorbar\": {\"outlinewidth\": 0, \"ticks\": \"\"}}, \"type\": \"scattercarpet\"}], \"scattergeo\": [{\"marker\": {\"colorbar\": {\"outlinewidth\": 0, \"ticks\": \"\"}}, \"type\": \"scattergeo\"}], \"scattergl\": [{\"marker\": {\"colorbar\": {\"outlinewidth\": 0, \"ticks\": \"\"}}, \"type\": \"scattergl\"}], \"scattermapbox\": [{\"marker\": {\"colorbar\": {\"outlinewidth\": 0, \"ticks\": \"\"}}, \"type\": \"scattermapbox\"}], \"scatterpolar\": [{\"marker\": {\"colorbar\": {\"outlinewidth\": 0, \"ticks\": \"\"}}, \"type\": \"scatterpolar\"}], \"scatterpolargl\": [{\"marker\": {\"colorbar\": {\"outlinewidth\": 0, \"ticks\": \"\"}}, \"type\": \"scatterpolargl\"}], \"scatterternary\": [{\"marker\": {\"colorbar\": {\"outlinewidth\": 0, \"ticks\": \"\"}}, \"type\": \"scatterternary\"}], \"surface\": [{\"colorbar\": {\"outlinewidth\": 0, \"ticks\": \"\"}, \"colorscale\": [[0.0, \"#0d0887\"], [0.1111111111111111, \"#46039f\"], [0.2222222222222222, \"#7201a8\"], [0.3333333333333333, \"#9c179e\"], [0.4444444444444444, \"#bd3786\"], [0.5555555555555556, \"#d8576b\"], [0.6666666666666666, \"#ed7953\"], [0.7777777777777778, \"#fb9f3a\"], [0.8888888888888888, \"#fdca26\"], [1.0, \"#f0f921\"]], \"type\": \"surface\"}], \"table\": [{\"cells\": {\"fill\": {\"color\": \"#EBF0F8\"}, \"line\": {\"color\": \"white\"}}, \"header\": {\"fill\": {\"color\": \"#C8D4E3\"}, \"line\": {\"color\": \"white\"}}, \"type\": \"table\"}]}, \"layout\": {\"annotationdefaults\": {\"arrowcolor\": \"#2a3f5f\", \"arrowhead\": 0, \"arrowwidth\": 1}, \"coloraxis\": {\"colorbar\": {\"outlinewidth\": 0, \"ticks\": \"\"}}, \"colorscale\": {\"diverging\": [[0, \"#8e0152\"], [0.1, \"#c51b7d\"], [0.2, \"#de77ae\"], [0.3, \"#f1b6da\"], [0.4, \"#fde0ef\"], [0.5, \"#f7f7f7\"], [0.6, \"#e6f5d0\"], [0.7, \"#b8e186\"], [0.8, \"#7fbc41\"], [0.9, \"#4d9221\"], [1, \"#276419\"]], \"sequential\": [[0.0, \"#0d0887\"], [0.1111111111111111, \"#46039f\"], [0.2222222222222222, \"#7201a8\"], [0.3333333333333333, \"#9c179e\"], [0.4444444444444444, \"#bd3786\"], [0.5555555555555556, \"#d8576b\"], [0.6666666666666666, \"#ed7953\"], [0.7777777777777778, \"#fb9f3a\"], [0.8888888888888888, \"#fdca26\"], [1.0, \"#f0f921\"]], \"sequentialminus\": [[0.0, \"#0d0887\"], [0.1111111111111111, \"#46039f\"], [0.2222222222222222, \"#7201a8\"], [0.3333333333333333, \"#9c179e\"], [0.4444444444444444, \"#bd3786\"], [0.5555555555555556, \"#d8576b\"], [0.6666666666666666, \"#ed7953\"], [0.7777777777777778, \"#fb9f3a\"], [0.8888888888888888, \"#fdca26\"], [1.0, \"#f0f921\"]]}, \"colorway\": [\"#636efa\", \"#EF553B\", \"#00cc96\", \"#ab63fa\", \"#FFA15A\", \"#19d3f3\", \"#FF6692\", \"#B6E880\", \"#FF97FF\", \"#FECB52\"], \"font\": {\"color\": \"#2a3f5f\"}, \"geo\": {\"bgcolor\": \"white\", \"lakecolor\": \"white\", \"landcolor\": \"#E5ECF6\", \"showlakes\": true, \"showland\": true, \"subunitcolor\": \"white\"}, \"hoverlabel\": {\"align\": \"left\"}, \"hovermode\": \"closest\", \"mapbox\": {\"style\": \"light\"}, \"paper_bgcolor\": \"white\", \"plot_bgcolor\": \"#E5ECF6\", \"polar\": {\"angularaxis\": {\"gridcolor\": \"white\", \"linecolor\": \"white\", \"ticks\": \"\"}, \"bgcolor\": \"#E5ECF6\", \"radialaxis\": {\"gridcolor\": \"white\", \"linecolor\": \"white\", \"ticks\": \"\"}}, \"scene\": {\"xaxis\": {\"backgroundcolor\": \"#E5ECF6\", \"gridcolor\": \"white\", \"gridwidth\": 2, \"linecolor\": \"white\", \"showbackground\": true, \"ticks\": \"\", \"zerolinecolor\": \"white\"}, \"yaxis\": {\"backgroundcolor\": \"#E5ECF6\", \"gridcolor\": \"white\", \"gridwidth\": 2, \"linecolor\": \"white\", \"showbackground\": true, \"ticks\": \"\", \"zerolinecolor\": \"white\"}, \"zaxis\": {\"backgroundcolor\": \"#E5ECF6\", \"gridcolor\": \"white\", \"gridwidth\": 2, \"linecolor\": \"white\", \"showbackground\": true, \"ticks\": \"\", \"zerolinecolor\": \"white\"}}, \"shapedefaults\": {\"line\": {\"color\": \"#2a3f5f\"}}, \"ternary\": {\"aaxis\": {\"gridcolor\": \"white\", \"linecolor\": \"white\", \"ticks\": \"\"}, \"baxis\": {\"gridcolor\": \"white\", \"linecolor\": \"white\", \"ticks\": \"\"}, \"bgcolor\": \"#E5ECF6\", \"caxis\": {\"gridcolor\": \"white\", \"linecolor\": \"white\", \"ticks\": \"\"}}, \"title\": {\"x\": 0.05}, \"xaxis\": {\"automargin\": true, \"gridcolor\": \"white\", \"linecolor\": \"white\", \"ticks\": \"\", \"title\": {\"standoff\": 15}, \"zerolinecolor\": \"white\", \"zerolinewidth\": 2}, \"yaxis\": {\"automargin\": true, \"gridcolor\": \"white\", \"linecolor\": \"white\", \"ticks\": \"\", \"title\": {\"standoff\": 15}, \"zerolinecolor\": \"white\", \"zerolinewidth\": 2}}}, \"title\": {\"text\": \"\\u0421\\u043a\\u0440\\u0438\\u043f\\u0438\\u0447\\u043d\\u0430\\u044f \\u0434\\u0438\\u0430\\u0433\\u0440\\u0430\\u043c\\u043c\\u0430 \\u0438\\u043d\\u0442\\u0435\\u0440\\u043d\\u0435\\u0442 \\u0442\\u0440\\u0430\\u0444\\u0444\\u0438\\u043a\\u0430\"}, \"violinmode\": \"group\", \"xaxis\": {\"anchor\": \"y\", \"categoryarray\": [\"ultra\", \"smart\"], \"categoryorder\": \"array\", \"domain\": [0.0, 1.0], \"title\": {\"text\": \"\\u0422\\u0430\\u0440\\u0438\\u0444\"}}, \"yaxis\": {\"anchor\": \"x\", \"domain\": [0.0, 1.0], \"title\": {\"text\": \"\\u041a\\u043e\\u043b\\u0438\\u0447\\u0435\\u0441\\u0442\\u0432 Gb\"}}},\n",
              "                        {\"responsive\": true}\n",
              "                    ).then(function(){\n",
              "                            \n",
              "var gd = document.getElementById('9de21be5-d030-4d15-8c51-a0e670c15d01');\n",
              "var x = new MutationObserver(function (mutations, observer) {{\n",
              "        var display = window.getComputedStyle(gd).display;\n",
              "        if (!display || display === 'none') {{\n",
              "            console.log([gd, 'removed!']);\n",
              "            Plotly.purge(gd);\n",
              "            observer.disconnect();\n",
              "        }}\n",
              "}});\n",
              "\n",
              "// Listen for the removal of the full notebook cells\n",
              "var notebookContainer = gd.closest('#notebook-container');\n",
              "if (notebookContainer) {{\n",
              "    x.observe(notebookContainer, {childList: true});\n",
              "}}\n",
              "\n",
              "// Listen for the clearing of the current output cell\n",
              "var outputEl = gd.closest('.output');\n",
              "if (outputEl) {{\n",
              "    x.observe(outputEl, {childList: true});\n",
              "}}\n",
              "\n",
              "                        })\n",
              "                };\n",
              "                \n",
              "            </script>\n",
              "        </div>\n",
              "</body>\n",
              "</html>"
            ]
          },
          "metadata": {
            "tags": []
          }
        }
      ]
    },
    {
      "cell_type": "code",
      "metadata": {
        "colab": {
          "base_uri": "https://localhost:8080/",
          "height": 142
        },
        "id": "IZrU915-O-6J",
        "outputId": "f341fba7-f1e0-4bb0-f754-eb5c65497cb0"
      },
      "source": [
        "# посчитаем среднее, стандартное отклонение, дисперсию и медиану для траффика по тарифам\n",
        "# для var ddof по умолчанию уже равен 1 (для выборки)\n",
        "\n",
        "mc_internet = mobile_customers.pivot_table(index='tariff',  \n",
        "                 values='gb_used_total', \n",
        "                 aggfunc=['mean', 'std', 'var', 'median'])\n",
        "mc_internet.columns = ['mean', 'std', 'var', 'median']\n",
        "mc_internet"
      ],
      "execution_count": null,
      "outputs": [
        {
          "output_type": "execute_result",
          "data": {
            "text/html": [
              "<div>\n",
              "<style scoped>\n",
              "    .dataframe tbody tr th:only-of-type {\n",
              "        vertical-align: middle;\n",
              "    }\n",
              "\n",
              "    .dataframe tbody tr th {\n",
              "        vertical-align: top;\n",
              "    }\n",
              "\n",
              "    .dataframe thead th {\n",
              "        text-align: right;\n",
              "    }\n",
              "</style>\n",
              "<table border=\"1\" class=\"dataframe\">\n",
              "  <thead>\n",
              "    <tr style=\"text-align: right;\">\n",
              "      <th></th>\n",
              "      <th>mean</th>\n",
              "      <th>std</th>\n",
              "      <th>var</th>\n",
              "      <th>median</th>\n",
              "    </tr>\n",
              "    <tr>\n",
              "      <th>tariff</th>\n",
              "      <th></th>\n",
              "      <th></th>\n",
              "      <th></th>\n",
              "      <th></th>\n",
              "    </tr>\n",
              "  </thead>\n",
              "  <tbody>\n",
              "    <tr>\n",
              "      <th>smart</th>\n",
              "      <td>15.848817</td>\n",
              "      <td>5.739821</td>\n",
              "      <td>32.945548</td>\n",
              "      <td>16.143555</td>\n",
              "    </tr>\n",
              "    <tr>\n",
              "      <th>ultra</th>\n",
              "      <td>19.030177</td>\n",
              "      <td>9.859685</td>\n",
              "      <td>97.213384</td>\n",
              "      <td>18.871094</td>\n",
              "    </tr>\n",
              "  </tbody>\n",
              "</table>\n",
              "</div>"
            ],
            "text/plain": [
              "             mean       std        var     median\n",
              "tariff                                           \n",
              "smart   15.848817  5.739821  32.945548  16.143555\n",
              "ultra   19.030177  9.859685  97.213384  18.871094"
            ]
          },
          "metadata": {
            "tags": []
          },
          "execution_count": 83
        }
      ]
    },
    {
      "cell_type": "markdown",
      "metadata": {
        "id": "-hBY8x32O-6J"
      },
      "source": [
        "Мы видим, количество траффика по тарифам имеет скошенное распределение или положительное ассиметричное, стремиться к нормальному. У обоих тарифов мы видим длинный хвост выше медианы.  \n",
        "Мы можем посчитать вероятное максимальное количество траффика для обоих тарифов. Вероятность, что люди будут использовать больше - минимальная "
      ]
    },
    {
      "cell_type": "code",
      "metadata": {
        "colab": {
          "base_uri": "https://localhost:8080/"
        },
        "id": "KM25dMPTO-6J",
        "outputId": "c420011f-5bb6-45f5-f68c-0c9f8024bb64"
      },
      "source": [
        "# применим правило трех сигм и найдем вероятную верхнюю границу\n",
        "\n",
        "smart_int = mc_internet.loc ['smart', 'mean'] + 3*mc_internet.loc ['smart', 'std']\n",
        "ultra_int = mc_internet.loc ['ultra', 'mean'] + 3*mc_internet.loc ['ultra', 'std']\n",
        "print('Вероятное максимальное количество Gb для тарифа Smart {:.0f} Gb'.format (smart_int))\n",
        "print('Вероятное максимальное количество Gb для тарифа Ultra {:.0f} Gb'.format (ultra_int))"
      ],
      "execution_count": null,
      "outputs": [
        {
          "output_type": "stream",
          "text": [
            "Вероятное максимальное количество Gb для тарифа Smart 33 Gb\n",
            "Вероятное максимальное количество Gb для тарифа Ultra 49 Gb\n"
          ],
          "name": "stdout"
        }
      ]
    },
    {
      "cell_type": "markdown",
      "metadata": {
        "id": "AKiabQRCO-6J"
      },
      "source": [
        "По всем тарифам максимальные вероятные значения лежат выше пакета, при этом у Smart даже среднее выходит за пакет. Вероятнее, надо рассмотреть увеличение траффика, за счет снижения пакета sms"
      ]
    },
    {
      "cell_type": "markdown",
      "metadata": {
        "id": "A_9X0dfVO-6K"
      },
      "source": [
        "### Выводы"
      ]
    },
    {
      "cell_type": "markdown",
      "metadata": {
        "id": "O_a9IPQnO-6K"
      },
      "source": [
        "Анализ средних показателей показал, что тариф Smart больше оптимизирован, а Ultra имеет слишком завышенные параметры. При этом и тарифу Smart требуется дополнительная настройка - пользователи докупают слишком много траффика. Включение его в абонентскую плату хоть и повысит его стоимость, но при этом избавит абонента от перерасхода и покупки дополнительных услуг. Сохранить текущие размеры абонентской платы можно за счет снижения количества sms или минут для данного тарифа. Тариф Ультра требует донастройки. Снижение абонентской платы может сделать его более привлекательным для потребителя. При этом тарифу можно снизить количество минут, и повысить траффик"
      ]
    },
    {
      "cell_type": "markdown",
      "metadata": {
        "id": "tk43tftMO-6K"
      },
      "source": [
        "## Построение гипотез\n",
        "\n",
        "\n"
      ]
    },
    {
      "cell_type": "markdown",
      "metadata": {
        "id": "PeyRbKwVO-6L"
      },
      "source": [
        "### Средняя выручка по Москве и регионам"
      ]
    },
    {
      "cell_type": "code",
      "metadata": {
        "colab": {
          "base_uri": "https://localhost:8080/",
          "height": 379
        },
        "id": "ZloCmqSGO-6L",
        "outputId": "9dad5440-bd3b-4ca1-d62f-3762825f498e"
      },
      "source": [
        "mobile_customers.head(10)"
      ],
      "execution_count": null,
      "outputs": [
        {
          "output_type": "execute_result",
          "data": {
            "text/html": [
              "<div>\n",
              "<style scoped>\n",
              "    .dataframe tbody tr th:only-of-type {\n",
              "        vertical-align: middle;\n",
              "    }\n",
              "\n",
              "    .dataframe tbody tr th {\n",
              "        vertical-align: top;\n",
              "    }\n",
              "\n",
              "    .dataframe thead th {\n",
              "        text-align: right;\n",
              "    }\n",
              "</style>\n",
              "<table border=\"1\" class=\"dataframe\">\n",
              "  <thead>\n",
              "    <tr style=\"text-align: right;\">\n",
              "      <th></th>\n",
              "      <th>user_id</th>\n",
              "      <th>month_name</th>\n",
              "      <th>duration_of_calls</th>\n",
              "      <th>quantity_of_calls</th>\n",
              "      <th>quantity_of_sms</th>\n",
              "      <th>gb_used_total</th>\n",
              "      <th>tariff</th>\n",
              "      <th>city</th>\n",
              "      <th>minutes_over_plan</th>\n",
              "      <th>sms_over_plan</th>\n",
              "      <th>gb_over_plan</th>\n",
              "      <th>monthly_overcome</th>\n",
              "      <th>monthly_revenue</th>\n",
              "    </tr>\n",
              "  </thead>\n",
              "  <tbody>\n",
              "    <tr>\n",
              "      <th>0</th>\n",
              "      <td>1000</td>\n",
              "      <td>Август</td>\n",
              "      <td>408</td>\n",
              "      <td>42</td>\n",
              "      <td>81</td>\n",
              "      <td>13.740234</td>\n",
              "      <td>ultra</td>\n",
              "      <td>Краснодар</td>\n",
              "      <td>0</td>\n",
              "      <td>0</td>\n",
              "      <td>0</td>\n",
              "      <td>0.0</td>\n",
              "      <td>1950</td>\n",
              "    </tr>\n",
              "    <tr>\n",
              "      <th>1</th>\n",
              "      <td>1000</td>\n",
              "      <td>Декабрь</td>\n",
              "      <td>333</td>\n",
              "      <td>38</td>\n",
              "      <td>70</td>\n",
              "      <td>9.596680</td>\n",
              "      <td>ultra</td>\n",
              "      <td>Краснодар</td>\n",
              "      <td>0</td>\n",
              "      <td>0</td>\n",
              "      <td>0</td>\n",
              "      <td>0.0</td>\n",
              "      <td>1950</td>\n",
              "    </tr>\n",
              "    <tr>\n",
              "      <th>2</th>\n",
              "      <td>1000</td>\n",
              "      <td>Июль</td>\n",
              "      <td>340</td>\n",
              "      <td>41</td>\n",
              "      <td>75</td>\n",
              "      <td>13.687500</td>\n",
              "      <td>ultra</td>\n",
              "      <td>Краснодар</td>\n",
              "      <td>0</td>\n",
              "      <td>0</td>\n",
              "      <td>0</td>\n",
              "      <td>0.0</td>\n",
              "      <td>1950</td>\n",
              "    </tr>\n",
              "    <tr>\n",
              "      <th>3</th>\n",
              "      <td>1000</td>\n",
              "      <td>Июнь</td>\n",
              "      <td>172</td>\n",
              "      <td>28</td>\n",
              "      <td>60</td>\n",
              "      <td>22.711914</td>\n",
              "      <td>ultra</td>\n",
              "      <td>Краснодар</td>\n",
              "      <td>0</td>\n",
              "      <td>0</td>\n",
              "      <td>0</td>\n",
              "      <td>0.0</td>\n",
              "      <td>1950</td>\n",
              "    </tr>\n",
              "    <tr>\n",
              "      <th>4</th>\n",
              "      <td>1000</td>\n",
              "      <td>Май</td>\n",
              "      <td>159</td>\n",
              "      <td>17</td>\n",
              "      <td>22</td>\n",
              "      <td>2.203125</td>\n",
              "      <td>ultra</td>\n",
              "      <td>Краснодар</td>\n",
              "      <td>0</td>\n",
              "      <td>0</td>\n",
              "      <td>0</td>\n",
              "      <td>0.0</td>\n",
              "      <td>1950</td>\n",
              "    </tr>\n",
              "    <tr>\n",
              "      <th>5</th>\n",
              "      <td>1000</td>\n",
              "      <td>Ноябрь</td>\n",
              "      <td>338</td>\n",
              "      <td>37</td>\n",
              "      <td>58</td>\n",
              "      <td>14.421875</td>\n",
              "      <td>ultra</td>\n",
              "      <td>Краснодар</td>\n",
              "      <td>0</td>\n",
              "      <td>0</td>\n",
              "      <td>0</td>\n",
              "      <td>0.0</td>\n",
              "      <td>1950</td>\n",
              "    </tr>\n",
              "    <tr>\n",
              "      <th>6</th>\n",
              "      <td>1000</td>\n",
              "      <td>Октябрь</td>\n",
              "      <td>350</td>\n",
              "      <td>44</td>\n",
              "      <td>73</td>\n",
              "      <td>14.372070</td>\n",
              "      <td>ultra</td>\n",
              "      <td>Краснодар</td>\n",
              "      <td>0</td>\n",
              "      <td>0</td>\n",
              "      <td>0</td>\n",
              "      <td>0.0</td>\n",
              "      <td>1950</td>\n",
              "    </tr>\n",
              "    <tr>\n",
              "      <th>7</th>\n",
              "      <td>1000</td>\n",
              "      <td>Сентябрь</td>\n",
              "      <td>466</td>\n",
              "      <td>46</td>\n",
              "      <td>57</td>\n",
              "      <td>14.239258</td>\n",
              "      <td>ultra</td>\n",
              "      <td>Краснодар</td>\n",
              "      <td>0</td>\n",
              "      <td>0</td>\n",
              "      <td>0</td>\n",
              "      <td>0.0</td>\n",
              "      <td>1950</td>\n",
              "    </tr>\n",
              "    <tr>\n",
              "      <th>8</th>\n",
              "      <td>1001</td>\n",
              "      <td>Ноябрь</td>\n",
              "      <td>430</td>\n",
              "      <td>45</td>\n",
              "      <td>0</td>\n",
              "      <td>18.019531</td>\n",
              "      <td>smart</td>\n",
              "      <td>Москва</td>\n",
              "      <td>0</td>\n",
              "      <td>0</td>\n",
              "      <td>3</td>\n",
              "      <td>800.0</td>\n",
              "      <td>1350</td>\n",
              "    </tr>\n",
              "    <tr>\n",
              "      <th>9</th>\n",
              "      <td>1001</td>\n",
              "      <td>Декабрь</td>\n",
              "      <td>414</td>\n",
              "      <td>47</td>\n",
              "      <td>0</td>\n",
              "      <td>13.723633</td>\n",
              "      <td>smart</td>\n",
              "      <td>Москва</td>\n",
              "      <td>0</td>\n",
              "      <td>0</td>\n",
              "      <td>0</td>\n",
              "      <td>0.0</td>\n",
              "      <td>550</td>\n",
              "    </tr>\n",
              "  </tbody>\n",
              "</table>\n",
              "</div>"
            ],
            "text/plain": [
              "   user_id month_name  ...  monthly_overcome  monthly_revenue\n",
              "0     1000     Август  ...               0.0             1950\n",
              "1     1000    Декабрь  ...               0.0             1950\n",
              "2     1000       Июль  ...               0.0             1950\n",
              "3     1000       Июнь  ...               0.0             1950\n",
              "4     1000        Май  ...               0.0             1950\n",
              "5     1000     Ноябрь  ...               0.0             1950\n",
              "6     1000    Октябрь  ...               0.0             1950\n",
              "7     1000   Сентябрь  ...               0.0             1950\n",
              "8     1001     Ноябрь  ...             800.0             1350\n",
              "9     1001    Декабрь  ...               0.0              550\n",
              "\n",
              "[10 rows x 13 columns]"
            ]
          },
          "metadata": {
            "tags": []
          },
          "execution_count": 85
        }
      ]
    },
    {
      "cell_type": "markdown",
      "metadata": {
        "id": "t_LdfmLNO-6L"
      },
      "source": [
        "Проверим как отличается средняя выручка по Москве и регионам.  \n",
        "Построим гипотезы:\n",
        " Сформулируем ее как Гипотезу о равенстве средних двух генеральных совокупностей\n",
        " - **H0 (нулевая гипотеза)**: средняя выручка абонентов из Москвы **равна** средней выручке абонентов из других регионов.\n",
        "   \n",
        " - **H1 (альтернативная гипотеза)**:  средняя выручка абонентов из Москвы **не равна** средней выручке абонентов из других регионов.  \n",
        " \n",
        " \n",
        " Чтобы проверить гипотезу о равенстве среднего двух генеральных совокупностей по взятым из них выборкам, примените метод `scipy.stats.ttest_ind (array1, array2, equal_var)`, при этом критический уровень статистической значимости alpha принимаем как .05"
      ]
    },
    {
      "cell_type": "markdown",
      "metadata": {
        "id": "7FBX0ihXO-6L"
      },
      "source": [
        "Для начала оценим наши выборки. Это позволит нам выяснить какой параметр `equal_var` нам применять в тест Стьюдента. Проведем тест Левена и рассмотрим различатся ли дисперсии наших выборок."
      ]
    },
    {
      "cell_type": "code",
      "metadata": {
        "colab": {
          "base_uri": "https://localhost:8080/"
        },
        "id": "FNmrx67YO-6M",
        "outputId": "77743cd8-56fe-4a57-b7d4-66d4cb2ddb9b"
      },
      "source": [
        "# сделаем выборки\n",
        "\n",
        "mosсow_abonents = mobile_customers.query('city == \"Москва\"')\n",
        "region_abonents = mobile_customers.query('city != \"Москва\"')\n",
        "\n",
        "# создадим списки самплов\n",
        "\n",
        "sample_1 = mosсow_abonents['monthly_revenue'].tolist()\n",
        "sample_2 = region_abonents['monthly_revenue'].tolist()\n",
        "alpha = .05\n",
        "stat, p = st.levene(sample_1, sample_2)\n",
        "result_levene = p\n",
        "\n",
        "# проведем тест Левена\n",
        "\n",
        "if result_levene < alpha:\n",
        "    print('Отвергаем Н0, дисперсии различаются, equal_var=False для ttest')\n",
        "else:\n",
        "    print(\"Не отвергаем Н0, дисперсии не различаются, equal_var=True для ttest\")\n",
        "\n",
        "var_sample = [np.var(x, ddof=1) for x in [sample_1, sample_2]]\n",
        "print('Дисперсии по выборкам: ', var_sample)\n"
      ],
      "execution_count": null,
      "outputs": [
        {
          "output_type": "stream",
          "text": [
            "Отвергаем Н0, дисперсии различаются, equal_var=False для ttest\n",
            "Дисперсии по выборкам:  [566183.0292184273, 656766.5955122437]\n"
          ],
          "name": "stdout"
        }
      ]
    },
    {
      "cell_type": "code",
      "metadata": {
        "colab": {
          "base_uri": "https://localhost:8080/"
        },
        "id": "2rgJSj3mO-6M",
        "outputId": "a5158ecf-2cf9-4a73-d80e-a57f370975ac"
      },
      "source": [
        "# Проведем ttest, equal_var=False\n",
        "\n",
        "alpha = .05 \n",
        "results = st.ttest_ind(sample_1, sample_2, equal_var=False)\n",
        "\n",
        "print('p-значение:', results.pvalue)\n",
        "\n",
        "if results.pvalue < alpha:\n",
        "    print(\"Отвергаем Н0\")\n",
        "else:\n",
        "    print(\"Не отвергаем Н0\")\n",
        "\n",
        "\n"
      ],
      "execution_count": null,
      "outputs": [
        {
          "output_type": "stream",
          "text": [
            "p-значение: 0.5126564657748214\n",
            "Не отвергаем Н0\n"
          ],
          "name": "stdout"
        }
      ]
    },
    {
      "cell_type": "markdown",
      "metadata": {
        "id": "MEFsrWZaO-6M"
      },
      "source": [
        "Гипотеза: средняя выручка абонентов из Москвы равна средней выручке абонентов из других регионов - имеет право быть. Посчитаем среднюю по выборке:"
      ]
    },
    {
      "cell_type": "code",
      "metadata": {
        "colab": {
          "base_uri": "https://localhost:8080/"
        },
        "id": "IUZS8bw1O-6M",
        "outputId": "27e8c97d-896e-4db5-9bdb-23ecf19ab9f9"
      },
      "source": [
        "print('Средняя выручка по абоненту в месяц в Москве: {:.2f}'.format(mosсow_abonents ['monthly_revenue'].mean()))\n",
        "print('Средняя выручка по абоненту в регионах: {:.2f}'.format(region_abonents ['monthly_revenue'].mean()))"
      ],
      "execution_count": null,
      "outputs": [
        {
          "output_type": "stream",
          "text": [
            "Средняя выручка по абоненту в месяц в Москве: 1550.81\n",
            "Средняя выручка по абоненту в регионах: 1528.32\n"
          ],
          "name": "stdout"
        }
      ]
    },
    {
      "cell_type": "markdown",
      "metadata": {
        "id": "pgrFYeDJO-6N"
      },
      "source": [
        "Действительно, средняя выручка по выборке для Москвы и регионом примерно одинаково. Утверждать, что в Москве платят больше - мы не можем"
      ]
    },
    {
      "cell_type": "markdown",
      "metadata": {
        "id": "DDHBNv91O-6N"
      },
      "source": [
        "### Cредняя выручка пользователей тарифов «Ультра» и «Смарт» различается"
      ]
    },
    {
      "cell_type": "markdown",
      "metadata": {
        "id": "ixIjc4CrO-6N"
      },
      "source": [
        "Аналогично п. 4.1:\n",
        "\n",
        "Проверим как отличается средняя выручка пользователей тарифов «Ультра» и «Смарт»:\n",
        "\n",
        "H0 (нулевая гипотеза): средняя выручка пользователей тарифов «Ультра» и «Смарт» **равна**.\n",
        "\n",
        "H1 (альтернативная гипотеза): средняя выручка пользователей тарифов «Ультра» и «Смарт» **не равна**.\n",
        "\n",
        "Аналогично, чтобы проверить гипотезу о равенстве среднего двух генеральных совокупностей по взятым из них выборкам, примените метод scipy.stats.ttest_ind (array1, array2, equal_var), при этом критический уровень статистической значимости alpha принимаем как .05"
      ]
    },
    {
      "cell_type": "markdown",
      "metadata": {
        "id": "TQoEc8ghO-6N"
      },
      "source": [
        "Для начала оценим наши выборки. Это позволит нам выяснить какой параметр `equal_var` нам применять в тест Стьюдента. Проведем тест Левена и рассмотрим различатся ли дисперсии наших выборок."
      ]
    },
    {
      "cell_type": "code",
      "metadata": {
        "colab": {
          "base_uri": "https://localhost:8080/"
        },
        "id": "CIf0u6zEO-6N",
        "outputId": "41487d80-4ce6-4eb7-e39b-f9218fd6b93b"
      },
      "source": [
        "# сделаем выборки\n",
        "smart_abonents = mobile_customers.query('tariff == \"smart\"')\n",
        "ultra_abonents = mobile_customers.query('tariff == \"ultra\"')\n",
        "\n",
        "# создадим списки самплов\n",
        "\n",
        "sample_01 = smart_abonents['monthly_revenue'].tolist()\n",
        "sample_02 = ultra_abonents['monthly_revenue'].tolist()\n",
        "alpha = .05\n",
        "\n",
        "# проведем тест Левена\n",
        "\n",
        "stat1, p1 = st.levene(sample_01, sample_02)\n",
        "result_levene_1 = p1\n",
        "\n",
        "if result_levene_1 < alpha:\n",
        "    print('Отвергаем Н0, дисперсии различаются, equal_var=False для ttest')\n",
        "else:\n",
        "    print(\"Не отвергаем Н0, дисперсии не различаются, equal_var=True для ttest\")\n",
        "\n",
        "var_sample1 = [np.var(x, ddof=1) for x in [sample_01, sample_02]]\n",
        "print('Дисперсии по выборкам: ', var_sample1)\n"
      ],
      "execution_count": null,
      "outputs": [
        {
          "output_type": "stream",
          "text": [
            "Отвергаем Н0, дисперсии различаются, equal_var=False для ttest\n",
            "Дисперсии по выборкам:  [673931.3213632443, 143491.24055961374]\n"
          ],
          "name": "stdout"
        }
      ]
    },
    {
      "cell_type": "code",
      "metadata": {
        "colab": {
          "base_uri": "https://localhost:8080/"
        },
        "id": "5S_5M9I7O-6N",
        "outputId": "43aedc85-8cd5-4990-9759-4f2b6083549a"
      },
      "source": [
        "# проведем ttest, equal_var=False\n",
        "alpha = .05 \n",
        "results1 = st.ttest_ind(sample_01, sample_02, equal_var=False)\n",
        "\n",
        "print('p-значение:', results1.pvalue)\n",
        "\n",
        "if results1.pvalue < alpha:\n",
        "    print(\"Отвергаем Н0\")\n",
        "else:\n",
        "    print(\"Не отвергаем Н0\")\n",
        "\n"
      ],
      "execution_count": null,
      "outputs": [
        {
          "output_type": "stream",
          "text": [
            "p-значение: 2.7240946993530856e-246\n",
            "Отвергаем Н0\n"
          ],
          "name": "stdout"
        }
      ]
    },
    {
      "cell_type": "code",
      "metadata": {
        "colab": {
          "base_uri": "https://localhost:8080/"
        },
        "id": "PVRe8IsAO-6O",
        "outputId": "dc661371-e60a-4553-8dd7-c5e2258a2669"
      },
      "source": [
        "print('Средняя выручка по абоненту тарифа Смарт: {:.2f}'.format(smart_abonents ['monthly_revenue'].mean()))\n",
        "print('Средняя выручка по абоненту Тарифа Ультра: {:.2f}'.format(ultra_abonents ['monthly_revenue'].mean()))"
      ],
      "execution_count": null,
      "outputs": [
        {
          "output_type": "stream",
          "text": [
            "Средняя выручка по абоненту тарифа Смарт: 1294.64\n",
            "Средняя выручка по абоненту Тарифа Ультра: 2071.07\n"
          ],
          "name": "stdout"
        }
      ]
    },
    {
      "cell_type": "markdown",
      "metadata": {
        "id": "rNfoveHRO-6O"
      },
      "source": [
        "Отберем уникальные значения по тарифам и выручке"
      ]
    },
    {
      "cell_type": "code",
      "metadata": {
        "colab": {
          "base_uri": "https://localhost:8080/",
          "height": 204
        },
        "id": "XPmkpPlWO-6O",
        "outputId": "93a51df7-4988-4bf3-c85b-9117fd341dea"
      },
      "source": [
        "all_abonents = mobile_customers [['tariff', 'monthly_revenue']]\n",
        "all_abonents_unique = all_abonents.drop_duplicates().reset_index(drop=True)\n",
        "all_abonents_unique.head()"
      ],
      "execution_count": null,
      "outputs": [
        {
          "output_type": "execute_result",
          "data": {
            "text/html": [
              "<div>\n",
              "<style scoped>\n",
              "    .dataframe tbody tr th:only-of-type {\n",
              "        vertical-align: middle;\n",
              "    }\n",
              "\n",
              "    .dataframe tbody tr th {\n",
              "        vertical-align: top;\n",
              "    }\n",
              "\n",
              "    .dataframe thead th {\n",
              "        text-align: right;\n",
              "    }\n",
              "</style>\n",
              "<table border=\"1\" class=\"dataframe\">\n",
              "  <thead>\n",
              "    <tr style=\"text-align: right;\">\n",
              "      <th></th>\n",
              "      <th>tariff</th>\n",
              "      <th>monthly_revenue</th>\n",
              "    </tr>\n",
              "  </thead>\n",
              "  <tbody>\n",
              "    <tr>\n",
              "      <th>0</th>\n",
              "      <td>ultra</td>\n",
              "      <td>1950</td>\n",
              "    </tr>\n",
              "    <tr>\n",
              "      <th>1</th>\n",
              "      <td>smart</td>\n",
              "      <td>1350</td>\n",
              "    </tr>\n",
              "    <tr>\n",
              "      <th>2</th>\n",
              "      <td>smart</td>\n",
              "      <td>550</td>\n",
              "    </tr>\n",
              "    <tr>\n",
              "      <th>3</th>\n",
              "      <td>smart</td>\n",
              "      <td>1550</td>\n",
              "    </tr>\n",
              "    <tr>\n",
              "      <th>4</th>\n",
              "      <td>smart</td>\n",
              "      <td>1150</td>\n",
              "    </tr>\n",
              "  </tbody>\n",
              "</table>\n",
              "</div>"
            ],
            "text/plain": [
              "  tariff  monthly_revenue\n",
              "0  ultra             1950\n",
              "1  smart             1350\n",
              "2  smart              550\n",
              "3  smart             1550\n",
              "4  smart             1150"
            ]
          },
          "metadata": {
            "tags": []
          },
          "execution_count": 92
        }
      ]
    },
    {
      "cell_type": "code",
      "metadata": {
        "colab": {
          "base_uri": "https://localhost:8080/",
          "height": 506
        },
        "id": "YBtXDANCO-6O",
        "outputId": "270f802f-9f35-422f-b0ab-5a9f1b463887"
      },
      "source": [
        "# Построим диаграмму плотности для обоих тарифов по выборке уникальных значений\n",
        "tar = ['ultra', 'smart']\n",
        "figdims = (15,5)\n",
        "plt.subplots(figsize=figdims)\n",
        "for tariff in tar:\n",
        "\n",
        "    subset = all_abonents_unique[all_abonents_unique['tariff'] == tariff]\n",
        "    sns.distplot(\n",
        "                subset['monthly_revenue'], hist = False, kde = True,\n",
        "                kde_kws = {'shade': True, 'linewidth': 3}, \n",
        "                label = tariff\n",
        "                )\n",
        "    \n",
        "\n",
        "\n",
        "plt.legend(prop={'size': 10}, title = 'Тариф')\n",
        "plt.title('Диаграмма плотности для уникальных значений выручки по тарифам')\n",
        "plt.xlabel('Выручка по выборке')\n",
        "plt.ylabel('Плотность')\n",
        "plt.show()"
      ],
      "execution_count": null,
      "outputs": [
        {
          "output_type": "stream",
          "text": [
            "/usr/local/lib/python3.7/dist-packages/seaborn/distributions.py:2557: FutureWarning:\n",
            "\n",
            "`distplot` is a deprecated function and will be removed in a future version. Please adapt your code to use either `displot` (a figure-level function with similar flexibility) or `kdeplot` (an axes-level function for kernel density plots).\n",
            "\n",
            "/usr/local/lib/python3.7/dist-packages/seaborn/distributions.py:2557: FutureWarning:\n",
            "\n",
            "`distplot` is a deprecated function and will be removed in a future version. Please adapt your code to use either `displot` (a figure-level function with similar flexibility) or `kdeplot` (an axes-level function for kernel density plots).\n",
            "\n"
          ],
          "name": "stderr"
        },
        {
          "output_type": "display_data",
          "data": {
            "image/png": "[encoded data removed]",
            "text/plain": [
              "<Figure size 1080x360 with 1 Axes>"
            ]
          },
          "metadata": {
            "tags": [],
            "needs_background": "light"
          }
        }
      ]
    },
    {
      "cell_type": "markdown",
      "metadata": {
        "id": "MLEt_d3nO-6P"
      },
      "source": [
        "Нулевую гипотезу отвергаем. Измерение показателей средней выручки показывают, что абоненты тарифа Ультра в месяц платят больше"
      ]
    },
    {
      "cell_type": "markdown",
      "metadata": {
        "id": "2V7kF2pNO-6P"
      },
      "source": [
        "### Вывод"
      ]
    },
    {
      "cell_type": "markdown",
      "metadata": {
        "id": "cjwlNc5xO-6P"
      },
      "source": [
        "Результаты проверок наших гипотез: \n",
        "  \n",
        "- средняя выручка абонентов из Москвы равна средней выручке абонентов из других регионов\n",
        "- средняя выручка пользователей тарифов «Ультра» и «Смарт» не равна"
      ]
    },
    {
      "cell_type": "markdown",
      "metadata": {
        "id": "4OqdpvKRO-6P"
      },
      "source": [
        "## Вывод"
      ]
    },
    {
      "cell_type": "markdown",
      "metadata": {
        "id": "v-5mVhu6O-6P"
      },
      "source": [
        "Мы проанализировали два тарифных плана: **«Смарт»** и **«Ультра»** и провели предварительный анализ тарифов на небольшой выборке клиентов.   \n",
        "\n",
        "\n",
        "Анализ средних показателей показал, что тариф Smart больше оптимизирован, относительно Ultra, который имеет слишком завышенные параметры. Смарт популярнее, дешевле, но абоненты чаще докупают дополнительные услуги. Стоит рассмотреть дополнительную настройку тарифа:\n",
        "\n",
        "- повысить количество доступных базовых гигабайт, за счет увеличения абонентской платы\n",
        "- повысить количество доступных минут, за счет увеличения абонетской платы\n",
        "\n",
        "\n",
        "Напротив, для тарифа Ultra возможно стоит расмотреть снижения доступных услуг, при этом понизив абонентскую плату. Либо рассмотреть возможность появления нового, промежуточного тарифа, например - **Optima**, который будет промежуточным вариантом среди двух существующих\n",
        "\n",
        "\n",
        "**На данном этапе, считаем что компании необходимо произвести донастройку тарифа Ultra и повысить его привлекательность. Тариф Ультра имеет достаточный разброс показателей для настройки, снижения абонентской платы, что может сделать его привлекательнее для потребителя**\n",
        "\n",
        "\n",
        "\n",
        "\n",
        "\n",
        "\n",
        "\n",
        "\n",
        "\n",
        "\n"
      ]
    }
  ]
}