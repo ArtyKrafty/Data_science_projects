{
  "nbformat": 4,
  "nbformat_minor": 0,
  "metadata": {
    "accelerator": "GPU",
    "colab": {
      "name": "NLP. Summarization_hw",
      "provenance": [],
      "collapsed_sections": [],
      "toc_visible": true
    },
    "kernelspec": {
      "display_name": "Python 3",
      "name": "python3"
    },
    "widgets": {
      "application/vnd.jupyter.widget-state+json": {
        "c8e9f2d70c024d95bde4a86b5e26c111": {
          "model_module": "@jupyter-widgets/controls",
          "model_name": "HBoxModel",
          "model_module_version": "1.5.0",
          "state": {
            "_dom_classes": [],
            "_model_module": "@jupyter-widgets/controls",
            "_model_module_version": "1.5.0",
            "_model_name": "HBoxModel",
            "_view_count": null,
            "_view_module": "@jupyter-widgets/controls",
            "_view_module_version": "1.5.0",
            "_view_name": "HBoxView",
            "box_style": "",
            "children": [
              "IPY_MODEL_65e2530ef8134f0c907e337321cd83cb",
              "IPY_MODEL_cd6a3b53b379431e8bda1962e7fdda1c",
              "IPY_MODEL_684f11f821124f03aa2874d682ef91ba"
            ],
            "layout": "IPY_MODEL_314fd9cf5406485eae255bf0daaa74c1"
          }
        },
        "65e2530ef8134f0c907e337321cd83cb": {
          "model_module": "@jupyter-widgets/controls",
          "model_name": "HTMLModel",
          "model_module_version": "1.5.0",
          "state": {
            "_dom_classes": [],
            "_model_module": "@jupyter-widgets/controls",
            "_model_module_version": "1.5.0",
            "_model_name": "HTMLModel",
            "_view_count": null,
            "_view_module": "@jupyter-widgets/controls",
            "_view_module_version": "1.5.0",
            "_view_name": "HTMLView",
            "description": "",
            "description_tooltip": null,
            "layout": "IPY_MODEL_463d538f29084f80881648fb35134a08",
            "placeholder": "​",
            "style": "IPY_MODEL_d6163c1eb5364cb8a082679005225c7b",
            "value": "100%"
          }
        },
        "cd6a3b53b379431e8bda1962e7fdda1c": {
          "model_module": "@jupyter-widgets/controls",
          "model_name": "FloatProgressModel",
          "model_module_version": "1.5.0",
          "state": {
            "_dom_classes": [],
            "_model_module": "@jupyter-widgets/controls",
            "_model_module_version": "1.5.0",
            "_model_name": "FloatProgressModel",
            "_view_count": null,
            "_view_module": "@jupyter-widgets/controls",
            "_view_module_version": "1.5.0",
            "_view_name": "ProgressView",
            "bar_style": "danger",
            "description": "",
            "description_tooltip": null,
            "layout": "IPY_MODEL_f640e3c5a0da4ba091454503256a6f7f",
            "max": 2048,
            "min": 0,
            "orientation": "horizontal",
            "style": "IPY_MODEL_376f94876a3b4328ab4be288aade0e2a",
            "value": 2048
          }
        },
        "684f11f821124f03aa2874d682ef91ba": {
          "model_module": "@jupyter-widgets/controls",
          "model_name": "HTMLModel",
          "model_module_version": "1.5.0",
          "state": {
            "_dom_classes": [],
            "_model_module": "@jupyter-widgets/controls",
            "_model_module_version": "1.5.0",
            "_model_name": "HTMLModel",
            "_view_count": null,
            "_view_module": "@jupyter-widgets/controls",
            "_view_module_version": "1.5.0",
            "_view_name": "HTMLView",
            "description": "",
            "description_tooltip": null,
            "layout": "IPY_MODEL_a601789ab883450a8658e1b6a7094b40",
            "placeholder": "​",
            "style": "IPY_MODEL_0ab146df1ace40a99100e9856091a862",
            "value": " 2048/2048 [04:59&lt;00:00, 12.59it/s]"
          }
        },
        "314fd9cf5406485eae255bf0daaa74c1": {
          "model_module": "@jupyter-widgets/base",
          "model_name": "LayoutModel",
          "model_module_version": "1.2.0",
          "state": {
            "_model_module": "@jupyter-widgets/base",
            "_model_module_version": "1.2.0",
            "_model_name": "LayoutModel",
            "_view_count": null,
            "_view_module": "@jupyter-widgets/base",
            "_view_module_version": "1.2.0",
            "_view_name": "LayoutView",
            "align_content": null,
            "align_items": null,
            "align_self": null,
            "border": null,
            "bottom": null,
            "display": null,
            "flex": null,
            "flex_flow": null,
            "grid_area": null,
            "grid_auto_columns": null,
            "grid_auto_flow": null,
            "grid_auto_rows": null,
            "grid_column": null,
            "grid_gap": null,
            "grid_row": null,
            "grid_template_areas": null,
            "grid_template_columns": null,
            "grid_template_rows": null,
            "height": null,
            "justify_content": null,
            "justify_items": null,
            "left": null,
            "margin": null,
            "max_height": null,
            "max_width": null,
            "min_height": null,
            "min_width": null,
            "object_fit": null,
            "object_position": null,
            "order": null,
            "overflow": null,
            "overflow_x": null,
            "overflow_y": null,
            "padding": null,
            "right": null,
            "top": null,
            "visibility": null,
            "width": null
          }
        },
        "463d538f29084f80881648fb35134a08": {
          "model_module": "@jupyter-widgets/base",
          "model_name": "LayoutModel",
          "model_module_version": "1.2.0",
          "state": {
            "_model_module": "@jupyter-widgets/base",
            "_model_module_version": "1.2.0",
            "_model_name": "LayoutModel",
            "_view_count": null,
            "_view_module": "@jupyter-widgets/base",
            "_view_module_version": "1.2.0",
            "_view_name": "LayoutView",
            "align_content": null,
            "align_items": null,
            "align_self": null,
            "border": null,
            "bottom": null,
            "display": null,
            "flex": null,
            "flex_flow": null,
            "grid_area": null,
            "grid_auto_columns": null,
            "grid_auto_flow": null,
            "grid_auto_rows": null,
            "grid_column": null,
            "grid_gap": null,
            "grid_row": null,
            "grid_template_areas": null,
            "grid_template_columns": null,
            "grid_template_rows": null,
            "height": null,
            "justify_content": null,
            "justify_items": null,
            "left": null,
            "margin": null,
            "max_height": null,
            "max_width": null,
            "min_height": null,
            "min_width": null,
            "object_fit": null,
            "object_position": null,
            "order": null,
            "overflow": null,
            "overflow_x": null,
            "overflow_y": null,
            "padding": null,
            "right": null,
            "top": null,
            "visibility": null,
            "width": null
          }
        },
        "d6163c1eb5364cb8a082679005225c7b": {
          "model_module": "@jupyter-widgets/controls",
          "model_name": "DescriptionStyleModel",
          "model_module_version": "1.5.0",
          "state": {
            "_model_module": "@jupyter-widgets/controls",
            "_model_module_version": "1.5.0",
            "_model_name": "DescriptionStyleModel",
            "_view_count": null,
            "_view_module": "@jupyter-widgets/base",
            "_view_module_version": "1.2.0",
            "_view_name": "StyleView",
            "description_width": ""
          }
        },
        "f640e3c5a0da4ba091454503256a6f7f": {
          "model_module": "@jupyter-widgets/base",
          "model_name": "LayoutModel",
          "model_module_version": "1.2.0",
          "state": {
            "_model_module": "@jupyter-widgets/base",
            "_model_module_version": "1.2.0",
            "_model_name": "LayoutModel",
            "_view_count": null,
            "_view_module": "@jupyter-widgets/base",
            "_view_module_version": "1.2.0",
            "_view_name": "LayoutView",
            "align_content": null,
            "align_items": null,
            "align_self": null,
            "border": null,
            "bottom": null,
            "display": null,
            "flex": null,
            "flex_flow": null,
            "grid_area": null,
            "grid_auto_columns": null,
            "grid_auto_flow": null,
            "grid_auto_rows": null,
            "grid_column": null,
            "grid_gap": null,
            "grid_row": null,
            "grid_template_areas": null,
            "grid_template_columns": null,
            "grid_template_rows": null,
            "height": null,
            "justify_content": null,
            "justify_items": null,
            "left": null,
            "margin": null,
            "max_height": null,
            "max_width": null,
            "min_height": null,
            "min_width": null,
            "object_fit": null,
            "object_position": null,
            "order": null,
            "overflow": null,
            "overflow_x": null,
            "overflow_y": null,
            "padding": null,
            "right": null,
            "top": null,
            "visibility": null,
            "width": null
          }
        },
        "376f94876a3b4328ab4be288aade0e2a": {
          "model_module": "@jupyter-widgets/controls",
          "model_name": "ProgressStyleModel",
          "model_module_version": "1.5.0",
          "state": {
            "_model_module": "@jupyter-widgets/controls",
            "_model_module_version": "1.5.0",
            "_model_name": "ProgressStyleModel",
            "_view_count": null,
            "_view_module": "@jupyter-widgets/base",
            "_view_module_version": "1.2.0",
            "_view_name": "StyleView",
            "bar_color": null,
            "description_width": ""
          }
        },
        "a601789ab883450a8658e1b6a7094b40": {
          "model_module": "@jupyter-widgets/base",
          "model_name": "LayoutModel",
          "model_module_version": "1.2.0",
          "state": {
            "_model_module": "@jupyter-widgets/base",
            "_model_module_version": "1.2.0",
            "_model_name": "LayoutModel",
            "_view_count": null,
            "_view_module": "@jupyter-widgets/base",
            "_view_module_version": "1.2.0",
            "_view_name": "LayoutView",
            "align_content": null,
            "align_items": null,
            "align_self": null,
            "border": null,
            "bottom": null,
            "display": null,
            "flex": null,
            "flex_flow": null,
            "grid_area": null,
            "grid_auto_columns": null,
            "grid_auto_flow": null,
            "grid_auto_rows": null,
            "grid_column": null,
            "grid_gap": null,
            "grid_row": null,
            "grid_template_areas": null,
            "grid_template_columns": null,
            "grid_template_rows": null,
            "height": null,
            "justify_content": null,
            "justify_items": null,
            "left": null,
            "margin": null,
            "max_height": null,
            "max_width": null,
            "min_height": null,
            "min_width": null,
            "object_fit": null,
            "object_position": null,
            "order": null,
            "overflow": null,
            "overflow_x": null,
            "overflow_y": null,
            "padding": null,
            "right": null,
            "top": null,
            "visibility": null,
            "width": null
          }
        },
        "0ab146df1ace40a99100e9856091a862": {
          "model_module": "@jupyter-widgets/controls",
          "model_name": "DescriptionStyleModel",
          "model_module_version": "1.5.0",
          "state": {
            "_model_module": "@jupyter-widgets/controls",
            "_model_module_version": "1.5.0",
            "_model_name": "DescriptionStyleModel",
            "_view_count": null,
            "_view_module": "@jupyter-widgets/base",
            "_view_module_version": "1.2.0",
            "_view_name": "StyleView",
            "description_width": ""
          }
        },
        "fef5c66cc2ca4d30948b66f14239d5cd": {
          "model_module": "@jupyter-widgets/controls",
          "model_name": "HBoxModel",
          "model_module_version": "1.5.0",
          "state": {
            "_dom_classes": [],
            "_model_module": "@jupyter-widgets/controls",
            "_model_module_version": "1.5.0",
            "_model_name": "HBoxModel",
            "_view_count": null,
            "_view_module": "@jupyter-widgets/controls",
            "_view_module_version": "1.5.0",
            "_view_name": "HBoxView",
            "box_style": "",
            "children": [
              "IPY_MODEL_f8622195290d4e9bb3a481a61658810f",
              "IPY_MODEL_6df79a79073e4b86adf46798335760f4",
              "IPY_MODEL_0a6ab40aaebc4e439cc54fbe1d8027f7"
            ],
            "layout": "IPY_MODEL_abdc82198f83410ca8560909c30ddf41"
          }
        },
        "f8622195290d4e9bb3a481a61658810f": {
          "model_module": "@jupyter-widgets/controls",
          "model_name": "HTMLModel",
          "model_module_version": "1.5.0",
          "state": {
            "_dom_classes": [],
            "_model_module": "@jupyter-widgets/controls",
            "_model_module_version": "1.5.0",
            "_model_name": "HTMLModel",
            "_view_count": null,
            "_view_module": "@jupyter-widgets/controls",
            "_view_module_version": "1.5.0",
            "_view_name": "HTMLView",
            "description": "",
            "description_tooltip": null,
            "layout": "IPY_MODEL_d7084dc56f334d289b869c86cc69f544",
            "placeholder": "​",
            "style": "IPY_MODEL_f7576102afa6467ba48e566ea8d5e832",
            "value": "100%"
          }
        },
        "6df79a79073e4b86adf46798335760f4": {
          "model_module": "@jupyter-widgets/controls",
          "model_name": "FloatProgressModel",
          "model_module_version": "1.5.0",
          "state": {
            "_dom_classes": [],
            "_model_module": "@jupyter-widgets/controls",
            "_model_module_version": "1.5.0",
            "_model_name": "FloatProgressModel",
            "_view_count": null,
            "_view_module": "@jupyter-widgets/controls",
            "_view_module_version": "1.5.0",
            "_view_name": "ProgressView",
            "bar_style": "danger",
            "description": "",
            "description_tooltip": null,
            "layout": "IPY_MODEL_18b2b6f481ee42edba8c415105ce99ad",
            "max": 256,
            "min": 0,
            "orientation": "horizontal",
            "style": "IPY_MODEL_79a44286e08048139e1c753ea48956a9",
            "value": 256
          }
        },
        "0a6ab40aaebc4e439cc54fbe1d8027f7": {
          "model_module": "@jupyter-widgets/controls",
          "model_name": "HTMLModel",
          "model_module_version": "1.5.0",
          "state": {
            "_dom_classes": [],
            "_model_module": "@jupyter-widgets/controls",
            "_model_module_version": "1.5.0",
            "_model_name": "HTMLModel",
            "_view_count": null,
            "_view_module": "@jupyter-widgets/controls",
            "_view_module_version": "1.5.0",
            "_view_name": "HTMLView",
            "description": "",
            "description_tooltip": null,
            "layout": "IPY_MODEL_9199052aca76474f835a25586df24b61",
            "placeholder": "​",
            "style": "IPY_MODEL_c4e30a0ba76241c9b9947ecc8d0f02dd",
            "value": " 256/256 [00:53&lt;00:00,  4.34it/s]"
          }
        },
        "abdc82198f83410ca8560909c30ddf41": {
          "model_module": "@jupyter-widgets/base",
          "model_name": "LayoutModel",
          "model_module_version": "1.2.0",
          "state": {
            "_model_module": "@jupyter-widgets/base",
            "_model_module_version": "1.2.0",
            "_model_name": "LayoutModel",
            "_view_count": null,
            "_view_module": "@jupyter-widgets/base",
            "_view_module_version": "1.2.0",
            "_view_name": "LayoutView",
            "align_content": null,
            "align_items": null,
            "align_self": null,
            "border": null,
            "bottom": null,
            "display": null,
            "flex": null,
            "flex_flow": null,
            "grid_area": null,
            "grid_auto_columns": null,
            "grid_auto_flow": null,
            "grid_auto_rows": null,
            "grid_column": null,
            "grid_gap": null,
            "grid_row": null,
            "grid_template_areas": null,
            "grid_template_columns": null,
            "grid_template_rows": null,
            "height": null,
            "justify_content": null,
            "justify_items": null,
            "left": null,
            "margin": null,
            "max_height": null,
            "max_width": null,
            "min_height": null,
            "min_width": null,
            "object_fit": null,
            "object_position": null,
            "order": null,
            "overflow": null,
            "overflow_x": null,
            "overflow_y": null,
            "padding": null,
            "right": null,
            "top": null,
            "visibility": null,
            "width": null
          }
        },
        "d7084dc56f334d289b869c86cc69f544": {
          "model_module": "@jupyter-widgets/base",
          "model_name": "LayoutModel",
          "model_module_version": "1.2.0",
          "state": {
            "_model_module": "@jupyter-widgets/base",
            "_model_module_version": "1.2.0",
            "_model_name": "LayoutModel",
            "_view_count": null,
            "_view_module": "@jupyter-widgets/base",
            "_view_module_version": "1.2.0",
            "_view_name": "LayoutView",
            "align_content": null,
            "align_items": null,
            "align_self": null,
            "border": null,
            "bottom": null,
            "display": null,
            "flex": null,
            "flex_flow": null,
            "grid_area": null,
            "grid_auto_columns": null,
            "grid_auto_flow": null,
            "grid_auto_rows": null,
            "grid_column": null,
            "grid_gap": null,
            "grid_row": null,
            "grid_template_areas": null,
            "grid_template_columns": null,
            "grid_template_rows": null,
            "height": null,
            "justify_content": null,
            "justify_items": null,
            "left": null,
            "margin": null,
            "max_height": null,
            "max_width": null,
            "min_height": null,
            "min_width": null,
            "object_fit": null,
            "object_position": null,
            "order": null,
            "overflow": null,
            "overflow_x": null,
            "overflow_y": null,
            "padding": null,
            "right": null,
            "top": null,
            "visibility": null,
            "width": null
          }
        },
        "f7576102afa6467ba48e566ea8d5e832": {
          "model_module": "@jupyter-widgets/controls",
          "model_name": "DescriptionStyleModel",
          "model_module_version": "1.5.0",
          "state": {
            "_model_module": "@jupyter-widgets/controls",
            "_model_module_version": "1.5.0",
            "_model_name": "DescriptionStyleModel",
            "_view_count": null,
            "_view_module": "@jupyter-widgets/base",
            "_view_module_version": "1.2.0",
            "_view_name": "StyleView",
            "description_width": ""
          }
        },
        "18b2b6f481ee42edba8c415105ce99ad": {
          "model_module": "@jupyter-widgets/base",
          "model_name": "LayoutModel",
          "model_module_version": "1.2.0",
          "state": {
            "_model_module": "@jupyter-widgets/base",
            "_model_module_version": "1.2.0",
            "_model_name": "LayoutModel",
            "_view_count": null,
            "_view_module": "@jupyter-widgets/base",
            "_view_module_version": "1.2.0",
            "_view_name": "LayoutView",
            "align_content": null,
            "align_items": null,
            "align_self": null,
            "border": null,
            "bottom": null,
            "display": null,
            "flex": null,
            "flex_flow": null,
            "grid_area": null,
            "grid_auto_columns": null,
            "grid_auto_flow": null,
            "grid_auto_rows": null,
            "grid_column": null,
            "grid_gap": null,
            "grid_row": null,
            "grid_template_areas": null,
            "grid_template_columns": null,
            "grid_template_rows": null,
            "height": null,
            "justify_content": null,
            "justify_items": null,
            "left": null,
            "margin": null,
            "max_height": null,
            "max_width": null,
            "min_height": null,
            "min_width": null,
            "object_fit": null,
            "object_position": null,
            "order": null,
            "overflow": null,
            "overflow_x": null,
            "overflow_y": null,
            "padding": null,
            "right": null,
            "top": null,
            "visibility": null,
            "width": null
          }
        },
        "79a44286e08048139e1c753ea48956a9": {
          "model_module": "@jupyter-widgets/controls",
          "model_name": "ProgressStyleModel",
          "model_module_version": "1.5.0",
          "state": {
            "_model_module": "@jupyter-widgets/controls",
            "_model_module_version": "1.5.0",
            "_model_name": "ProgressStyleModel",
            "_view_count": null,
            "_view_module": "@jupyter-widgets/base",
            "_view_module_version": "1.2.0",
            "_view_name": "StyleView",
            "bar_color": null,
            "description_width": ""
          }
        },
        "9199052aca76474f835a25586df24b61": {
          "model_module": "@jupyter-widgets/base",
          "model_name": "LayoutModel",
          "model_module_version": "1.2.0",
          "state": {
            "_model_module": "@jupyter-widgets/base",
            "_model_module_version": "1.2.0",
            "_model_name": "LayoutModel",
            "_view_count": null,
            "_view_module": "@jupyter-widgets/base",
            "_view_module_version": "1.2.0",
            "_view_name": "LayoutView",
            "align_content": null,
            "align_items": null,
            "align_self": null,
            "border": null,
            "bottom": null,
            "display": null,
            "flex": null,
            "flex_flow": null,
            "grid_area": null,
            "grid_auto_columns": null,
            "grid_auto_flow": null,
            "grid_auto_rows": null,
            "grid_column": null,
            "grid_gap": null,
            "grid_row": null,
            "grid_template_areas": null,
            "grid_template_columns": null,
            "grid_template_rows": null,
            "height": null,
            "justify_content": null,
            "justify_items": null,
            "left": null,
            "margin": null,
            "max_height": null,
            "max_width": null,
            "min_height": null,
            "min_width": null,
            "object_fit": null,
            "object_position": null,
            "order": null,
            "overflow": null,
            "overflow_x": null,
            "overflow_y": null,
            "padding": null,
            "right": null,
            "top": null,
            "visibility": null,
            "width": null
          }
        },
        "c4e30a0ba76241c9b9947ecc8d0f02dd": {
          "model_module": "@jupyter-widgets/controls",
          "model_name": "DescriptionStyleModel",
          "model_module_version": "1.5.0",
          "state": {
            "_model_module": "@jupyter-widgets/controls",
            "_model_module_version": "1.5.0",
            "_model_name": "DescriptionStyleModel",
            "_view_count": null,
            "_view_module": "@jupyter-widgets/base",
            "_view_module_version": "1.2.0",
            "_view_name": "StyleView",
            "description_width": ""
          }
        },
        "b0f026cd7b34410087a5bf91f5718c67": {
          "model_module": "@jupyter-widgets/controls",
          "model_name": "HBoxModel",
          "model_module_version": "1.5.0",
          "state": {
            "_dom_classes": [],
            "_model_module": "@jupyter-widgets/controls",
            "_model_module_version": "1.5.0",
            "_model_name": "HBoxModel",
            "_view_count": null,
            "_view_module": "@jupyter-widgets/controls",
            "_view_module_version": "1.5.0",
            "_view_name": "HBoxView",
            "box_style": "",
            "children": [
              "IPY_MODEL_c6daa85757d04bb09e87c8df58b34820",
              "IPY_MODEL_08cc892971904461b9852b2d9343408b",
              "IPY_MODEL_15519fc103fe4dd38589574198c2c82e"
            ],
            "layout": "IPY_MODEL_de84d3a9682b4e0b8fd55b58c70733ba"
          }
        },
        "c6daa85757d04bb09e87c8df58b34820": {
          "model_module": "@jupyter-widgets/controls",
          "model_name": "HTMLModel",
          "model_module_version": "1.5.0",
          "state": {
            "_dom_classes": [],
            "_model_module": "@jupyter-widgets/controls",
            "_model_module_version": "1.5.0",
            "_model_name": "HTMLModel",
            "_view_count": null,
            "_view_module": "@jupyter-widgets/controls",
            "_view_module_version": "1.5.0",
            "_view_name": "HTMLView",
            "description": "",
            "description_tooltip": null,
            "layout": "IPY_MODEL_170f3177697b4df990eb9b2b83dd6f63",
            "placeholder": "​",
            "style": "IPY_MODEL_ef9d2beddb4a4974a9273ae67f7e98d1",
            "value": "100%"
          }
        },
        "08cc892971904461b9852b2d9343408b": {
          "model_module": "@jupyter-widgets/controls",
          "model_name": "FloatProgressModel",
          "model_module_version": "1.5.0",
          "state": {
            "_dom_classes": [],
            "_model_module": "@jupyter-widgets/controls",
            "_model_module_version": "1.5.0",
            "_model_name": "FloatProgressModel",
            "_view_count": null,
            "_view_module": "@jupyter-widgets/controls",
            "_view_module_version": "1.5.0",
            "_view_name": "ProgressView",
            "bar_style": "danger",
            "description": "",
            "description_tooltip": null,
            "layout": "IPY_MODEL_73a40f6aac004f9e8976618fca151c27",
            "max": 256,
            "min": 0,
            "orientation": "horizontal",
            "style": "IPY_MODEL_703c594790f34a08b4416d18d59c0651",
            "value": 256
          }
        },
        "15519fc103fe4dd38589574198c2c82e": {
          "model_module": "@jupyter-widgets/controls",
          "model_name": "HTMLModel",
          "model_module_version": "1.5.0",
          "state": {
            "_dom_classes": [],
            "_model_module": "@jupyter-widgets/controls",
            "_model_module_version": "1.5.0",
            "_model_name": "HTMLModel",
            "_view_count": null,
            "_view_module": "@jupyter-widgets/controls",
            "_view_module_version": "1.5.0",
            "_view_name": "HTMLView",
            "description": "",
            "description_tooltip": null,
            "layout": "IPY_MODEL_bc6c943e384e47649be4e67373f00e83",
            "placeholder": "​",
            "style": "IPY_MODEL_6adf8f908ea4444083751f8781aa26b5",
            "value": " 256/256 [00:43&lt;00:00,  4.24it/s]"
          }
        },
        "de84d3a9682b4e0b8fd55b58c70733ba": {
          "model_module": "@jupyter-widgets/base",
          "model_name": "LayoutModel",
          "model_module_version": "1.2.0",
          "state": {
            "_model_module": "@jupyter-widgets/base",
            "_model_module_version": "1.2.0",
            "_model_name": "LayoutModel",
            "_view_count": null,
            "_view_module": "@jupyter-widgets/base",
            "_view_module_version": "1.2.0",
            "_view_name": "LayoutView",
            "align_content": null,
            "align_items": null,
            "align_self": null,
            "border": null,
            "bottom": null,
            "display": null,
            "flex": null,
            "flex_flow": null,
            "grid_area": null,
            "grid_auto_columns": null,
            "grid_auto_flow": null,
            "grid_auto_rows": null,
            "grid_column": null,
            "grid_gap": null,
            "grid_row": null,
            "grid_template_areas": null,
            "grid_template_columns": null,
            "grid_template_rows": null,
            "height": null,
            "justify_content": null,
            "justify_items": null,
            "left": null,
            "margin": null,
            "max_height": null,
            "max_width": null,
            "min_height": null,
            "min_width": null,
            "object_fit": null,
            "object_position": null,
            "order": null,
            "overflow": null,
            "overflow_x": null,
            "overflow_y": null,
            "padding": null,
            "right": null,
            "top": null,
            "visibility": null,
            "width": null
          }
        },
        "170f3177697b4df990eb9b2b83dd6f63": {
          "model_module": "@jupyter-widgets/base",
          "model_name": "LayoutModel",
          "model_module_version": "1.2.0",
          "state": {
            "_model_module": "@jupyter-widgets/base",
            "_model_module_version": "1.2.0",
            "_model_name": "LayoutModel",
            "_view_count": null,
            "_view_module": "@jupyter-widgets/base",
            "_view_module_version": "1.2.0",
            "_view_name": "LayoutView",
            "align_content": null,
            "align_items": null,
            "align_self": null,
            "border": null,
            "bottom": null,
            "display": null,
            "flex": null,
            "flex_flow": null,
            "grid_area": null,
            "grid_auto_columns": null,
            "grid_auto_flow": null,
            "grid_auto_rows": null,
            "grid_column": null,
            "grid_gap": null,
            "grid_row": null,
            "grid_template_areas": null,
            "grid_template_columns": null,
            "grid_template_rows": null,
            "height": null,
            "justify_content": null,
            "justify_items": null,
            "left": null,
            "margin": null,
            "max_height": null,
            "max_width": null,
            "min_height": null,
            "min_width": null,
            "object_fit": null,
            "object_position": null,
            "order": null,
            "overflow": null,
            "overflow_x": null,
            "overflow_y": null,
            "padding": null,
            "right": null,
            "top": null,
            "visibility": null,
            "width": null
          }
        },
        "ef9d2beddb4a4974a9273ae67f7e98d1": {
          "model_module": "@jupyter-widgets/controls",
          "model_name": "DescriptionStyleModel",
          "model_module_version": "1.5.0",
          "state": {
            "_model_module": "@jupyter-widgets/controls",
            "_model_module_version": "1.5.0",
            "_model_name": "DescriptionStyleModel",
            "_view_count": null,
            "_view_module": "@jupyter-widgets/base",
            "_view_module_version": "1.2.0",
            "_view_name": "StyleView",
            "description_width": ""
          }
        },
        "73a40f6aac004f9e8976618fca151c27": {
          "model_module": "@jupyter-widgets/base",
          "model_name": "LayoutModel",
          "model_module_version": "1.2.0",
          "state": {
            "_model_module": "@jupyter-widgets/base",
            "_model_module_version": "1.2.0",
            "_model_name": "LayoutModel",
            "_view_count": null,
            "_view_module": "@jupyter-widgets/base",
            "_view_module_version": "1.2.0",
            "_view_name": "LayoutView",
            "align_content": null,
            "align_items": null,
            "align_self": null,
            "border": null,
            "bottom": null,
            "display": null,
            "flex": null,
            "flex_flow": null,
            "grid_area": null,
            "grid_auto_columns": null,
            "grid_auto_flow": null,
            "grid_auto_rows": null,
            "grid_column": null,
            "grid_gap": null,
            "grid_row": null,
            "grid_template_areas": null,
            "grid_template_columns": null,
            "grid_template_rows": null,
            "height": null,
            "justify_content": null,
            "justify_items": null,
            "left": null,
            "margin": null,
            "max_height": null,
            "max_width": null,
            "min_height": null,
            "min_width": null,
            "object_fit": null,
            "object_position": null,
            "order": null,
            "overflow": null,
            "overflow_x": null,
            "overflow_y": null,
            "padding": null,
            "right": null,
            "top": null,
            "visibility": null,
            "width": null
          }
        },
        "703c594790f34a08b4416d18d59c0651": {
          "model_module": "@jupyter-widgets/controls",
          "model_name": "ProgressStyleModel",
          "model_module_version": "1.5.0",
          "state": {
            "_model_module": "@jupyter-widgets/controls",
            "_model_module_version": "1.5.0",
            "_model_name": "ProgressStyleModel",
            "_view_count": null,
            "_view_module": "@jupyter-widgets/base",
            "_view_module_version": "1.2.0",
            "_view_name": "StyleView",
            "bar_color": null,
            "description_width": ""
          }
        },
        "bc6c943e384e47649be4e67373f00e83": {
          "model_module": "@jupyter-widgets/base",
          "model_name": "LayoutModel",
          "model_module_version": "1.2.0",
          "state": {
            "_model_module": "@jupyter-widgets/base",
            "_model_module_version": "1.2.0",
            "_model_name": "LayoutModel",
            "_view_count": null,
            "_view_module": "@jupyter-widgets/base",
            "_view_module_version": "1.2.0",
            "_view_name": "LayoutView",
            "align_content": null,
            "align_items": null,
            "align_self": null,
            "border": null,
            "bottom": null,
            "display": null,
            "flex": null,
            "flex_flow": null,
            "grid_area": null,
            "grid_auto_columns": null,
            "grid_auto_flow": null,
            "grid_auto_rows": null,
            "grid_column": null,
            "grid_gap": null,
            "grid_row": null,
            "grid_template_areas": null,
            "grid_template_columns": null,
            "grid_template_rows": null,
            "height": null,
            "justify_content": null,
            "justify_items": null,
            "left": null,
            "margin": null,
            "max_height": null,
            "max_width": null,
            "min_height": null,
            "min_width": null,
            "object_fit": null,
            "object_position": null,
            "order": null,
            "overflow": null,
            "overflow_x": null,
            "overflow_y": null,
            "padding": null,
            "right": null,
            "top": null,
            "visibility": null,
            "width": null
          }
        },
        "6adf8f908ea4444083751f8781aa26b5": {
          "model_module": "@jupyter-widgets/controls",
          "model_name": "DescriptionStyleModel",
          "model_module_version": "1.5.0",
          "state": {
            "_model_module": "@jupyter-widgets/controls",
            "_model_module_version": "1.5.0",
            "_model_name": "DescriptionStyleModel",
            "_view_count": null,
            "_view_module": "@jupyter-widgets/base",
            "_view_module_version": "1.2.0",
            "_view_name": "StyleView",
            "description_width": ""
          }
        },
        "4680fb292acb47d6949319db4c53a174": {
          "model_module": "@jupyter-widgets/controls",
          "model_name": "HBoxModel",
          "model_module_version": "1.5.0",
          "state": {
            "_dom_classes": [],
            "_model_module": "@jupyter-widgets/controls",
            "_model_module_version": "1.5.0",
            "_model_name": "HBoxModel",
            "_view_count": null,
            "_view_module": "@jupyter-widgets/controls",
            "_view_module_version": "1.5.0",
            "_view_name": "HBoxView",
            "box_style": "",
            "children": [
              "IPY_MODEL_79dd6ad10bf94c6a893ead6422f55d6f",
              "IPY_MODEL_72179ee8383d43438a7e1639cd4fb9cf",
              "IPY_MODEL_46c94d3694794eeaa6b0bda20523abe4"
            ],
            "layout": "IPY_MODEL_dc28028a24be45f1b3319d7502f8430f"
          }
        },
        "79dd6ad10bf94c6a893ead6422f55d6f": {
          "model_module": "@jupyter-widgets/controls",
          "model_name": "HTMLModel",
          "model_module_version": "1.5.0",
          "state": {
            "_dom_classes": [],
            "_model_module": "@jupyter-widgets/controls",
            "_model_module_version": "1.5.0",
            "_model_name": "HTMLModel",
            "_view_count": null,
            "_view_module": "@jupyter-widgets/controls",
            "_view_module_version": "1.5.0",
            "_view_name": "HTMLView",
            "description": "",
            "description_tooltip": null,
            "layout": "IPY_MODEL_e448a3892d2e41a489dd121f67106009",
            "placeholder": "​",
            "style": "IPY_MODEL_aa593e3925134fa99e3674a34cf0ca1e",
            "value": "100%"
          }
        },
        "72179ee8383d43438a7e1639cd4fb9cf": {
          "model_module": "@jupyter-widgets/controls",
          "model_name": "FloatProgressModel",
          "model_module_version": "1.5.0",
          "state": {
            "_dom_classes": [],
            "_model_module": "@jupyter-widgets/controls",
            "_model_module_version": "1.5.0",
            "_model_name": "FloatProgressModel",
            "_view_count": null,
            "_view_module": "@jupyter-widgets/controls",
            "_view_module_version": "1.5.0",
            "_view_name": "ProgressView",
            "bar_style": "success",
            "description": "",
            "description_tooltip": null,
            "layout": "IPY_MODEL_ac467577828d4756861613a26db4ea42",
            "max": 32,
            "min": 0,
            "orientation": "horizontal",
            "style": "IPY_MODEL_6967b4ea3f1a48798eb3f2696ed6f8d7",
            "value": 32
          }
        },
        "46c94d3694794eeaa6b0bda20523abe4": {
          "model_module": "@jupyter-widgets/controls",
          "model_name": "HTMLModel",
          "model_module_version": "1.5.0",
          "state": {
            "_dom_classes": [],
            "_model_module": "@jupyter-widgets/controls",
            "_model_module_version": "1.5.0",
            "_model_name": "HTMLModel",
            "_view_count": null,
            "_view_module": "@jupyter-widgets/controls",
            "_view_module_version": "1.5.0",
            "_view_name": "HTMLView",
            "description": "",
            "description_tooltip": null,
            "layout": "IPY_MODEL_318b49d51ea64da5acba315f0c3a94c0",
            "placeholder": "​",
            "style": "IPY_MODEL_2680b2e0bfe345538b1cb520b8c2cb0e",
            "value": " 32/32 [00:02&lt;00:00, 11.95it/s]"
          }
        },
        "dc28028a24be45f1b3319d7502f8430f": {
          "model_module": "@jupyter-widgets/base",
          "model_name": "LayoutModel",
          "model_module_version": "1.2.0",
          "state": {
            "_model_module": "@jupyter-widgets/base",
            "_model_module_version": "1.2.0",
            "_model_name": "LayoutModel",
            "_view_count": null,
            "_view_module": "@jupyter-widgets/base",
            "_view_module_version": "1.2.0",
            "_view_name": "LayoutView",
            "align_content": null,
            "align_items": null,
            "align_self": null,
            "border": null,
            "bottom": null,
            "display": null,
            "flex": null,
            "flex_flow": null,
            "grid_area": null,
            "grid_auto_columns": null,
            "grid_auto_flow": null,
            "grid_auto_rows": null,
            "grid_column": null,
            "grid_gap": null,
            "grid_row": null,
            "grid_template_areas": null,
            "grid_template_columns": null,
            "grid_template_rows": null,
            "height": null,
            "justify_content": null,
            "justify_items": null,
            "left": null,
            "margin": null,
            "max_height": null,
            "max_width": null,
            "min_height": null,
            "min_width": null,
            "object_fit": null,
            "object_position": null,
            "order": null,
            "overflow": null,
            "overflow_x": null,
            "overflow_y": null,
            "padding": null,
            "right": null,
            "top": null,
            "visibility": null,
            "width": null
          }
        },
        "e448a3892d2e41a489dd121f67106009": {
          "model_module": "@jupyter-widgets/base",
          "model_name": "LayoutModel",
          "model_module_version": "1.2.0",
          "state": {
            "_model_module": "@jupyter-widgets/base",
            "_model_module_version": "1.2.0",
            "_model_name": "LayoutModel",
            "_view_count": null,
            "_view_module": "@jupyter-widgets/base",
            "_view_module_version": "1.2.0",
            "_view_name": "LayoutView",
            "align_content": null,
            "align_items": null,
            "align_self": null,
            "border": null,
            "bottom": null,
            "display": null,
            "flex": null,
            "flex_flow": null,
            "grid_area": null,
            "grid_auto_columns": null,
            "grid_auto_flow": null,
            "grid_auto_rows": null,
            "grid_column": null,
            "grid_gap": null,
            "grid_row": null,
            "grid_template_areas": null,
            "grid_template_columns": null,
            "grid_template_rows": null,
            "height": null,
            "justify_content": null,
            "justify_items": null,
            "left": null,
            "margin": null,
            "max_height": null,
            "max_width": null,
            "min_height": null,
            "min_width": null,
            "object_fit": null,
            "object_position": null,
            "order": null,
            "overflow": null,
            "overflow_x": null,
            "overflow_y": null,
            "padding": null,
            "right": null,
            "top": null,
            "visibility": null,
            "width": null
          }
        },
        "aa593e3925134fa99e3674a34cf0ca1e": {
          "model_module": "@jupyter-widgets/controls",
          "model_name": "DescriptionStyleModel",
          "model_module_version": "1.5.0",
          "state": {
            "_model_module": "@jupyter-widgets/controls",
            "_model_module_version": "1.5.0",
            "_model_name": "DescriptionStyleModel",
            "_view_count": null,
            "_view_module": "@jupyter-widgets/base",
            "_view_module_version": "1.2.0",
            "_view_name": "StyleView",
            "description_width": ""
          }
        },
        "ac467577828d4756861613a26db4ea42": {
          "model_module": "@jupyter-widgets/base",
          "model_name": "LayoutModel",
          "model_module_version": "1.2.0",
          "state": {
            "_model_module": "@jupyter-widgets/base",
            "_model_module_version": "1.2.0",
            "_model_name": "LayoutModel",
            "_view_count": null,
            "_view_module": "@jupyter-widgets/base",
            "_view_module_version": "1.2.0",
            "_view_name": "LayoutView",
            "align_content": null,
            "align_items": null,
            "align_self": null,
            "border": null,
            "bottom": null,
            "display": null,
            "flex": null,
            "flex_flow": null,
            "grid_area": null,
            "grid_auto_columns": null,
            "grid_auto_flow": null,
            "grid_auto_rows": null,
            "grid_column": null,
            "grid_gap": null,
            "grid_row": null,
            "grid_template_areas": null,
            "grid_template_columns": null,
            "grid_template_rows": null,
            "height": null,
            "justify_content": null,
            "justify_items": null,
            "left": null,
            "margin": null,
            "max_height": null,
            "max_width": null,
            "min_height": null,
            "min_width": null,
            "object_fit": null,
            "object_position": null,
            "order": null,
            "overflow": null,
            "overflow_x": null,
            "overflow_y": null,
            "padding": null,
            "right": null,
            "top": null,
            "visibility": null,
            "width": null
          }
        },
        "6967b4ea3f1a48798eb3f2696ed6f8d7": {
          "model_module": "@jupyter-widgets/controls",
          "model_name": "ProgressStyleModel",
          "model_module_version": "1.5.0",
          "state": {
            "_model_module": "@jupyter-widgets/controls",
            "_model_module_version": "1.5.0",
            "_model_name": "ProgressStyleModel",
            "_view_count": null,
            "_view_module": "@jupyter-widgets/base",
            "_view_module_version": "1.2.0",
            "_view_name": "StyleView",
            "bar_color": null,
            "description_width": ""
          }
        },
        "318b49d51ea64da5acba315f0c3a94c0": {
          "model_module": "@jupyter-widgets/base",
          "model_name": "LayoutModel",
          "model_module_version": "1.2.0",
          "state": {
            "_model_module": "@jupyter-widgets/base",
            "_model_module_version": "1.2.0",
            "_model_name": "LayoutModel",
            "_view_count": null,
            "_view_module": "@jupyter-widgets/base",
            "_view_module_version": "1.2.0",
            "_view_name": "LayoutView",
            "align_content": null,
            "align_items": null,
            "align_self": null,
            "border": null,
            "bottom": null,
            "display": null,
            "flex": null,
            "flex_flow": null,
            "grid_area": null,
            "grid_auto_columns": null,
            "grid_auto_flow": null,
            "grid_auto_rows": null,
            "grid_column": null,
            "grid_gap": null,
            "grid_row": null,
            "grid_template_areas": null,
            "grid_template_columns": null,
            "grid_template_rows": null,
            "height": null,
            "justify_content": null,
            "justify_items": null,
            "left": null,
            "margin": null,
            "max_height": null,
            "max_width": null,
            "min_height": null,
            "min_width": null,
            "object_fit": null,
            "object_position": null,
            "order": null,
            "overflow": null,
            "overflow_x": null,
            "overflow_y": null,
            "padding": null,
            "right": null,
            "top": null,
            "visibility": null,
            "width": null
          }
        },
        "2680b2e0bfe345538b1cb520b8c2cb0e": {
          "model_module": "@jupyter-widgets/controls",
          "model_name": "DescriptionStyleModel",
          "model_module_version": "1.5.0",
          "state": {
            "_model_module": "@jupyter-widgets/controls",
            "_model_module_version": "1.5.0",
            "_model_name": "DescriptionStyleModel",
            "_view_count": null,
            "_view_module": "@jupyter-widgets/base",
            "_view_module_version": "1.2.0",
            "_view_name": "StyleView",
            "description_width": ""
          }
        }
      }
    }
  },
  "cells": [
    {
      "cell_type": "markdown",
      "source": [
        "<footer id=\"footer\"></footer>"
      ],
      "metadata": {
        "id": "FqbH-pt_ky1O"
      }
    },
    {
      "cell_type": "markdown",
      "metadata": {
        "id": "tWJTCBu4Tveb"
      },
      "source": [
        "<h1 align='center'>Summarization</h1>\n",
        "<p align=\"center\"><img src=\"https://drive.google.com/uc?id=1P5VxMZ2GLNcTxcuPiB_b_Lb1Oy7OXx82\"  border=\"0\"></a></p>\n",
        "\n",
        "\n",
        "\n",
        "\n",
        "# Text Summarization\n",
        " Рассмотрим некоторые базовые решения и познакомимся с архитектурами нейросетей для решения задачи суммаризации текста на примере генерации сжатых новостей.\n",
        "Датасет: `gazeta.ru`\n",
        "\n",
        "\n",
        "`Ноутбук создан на основе семинара Гусева Ильи на кафедре компьютерной лингвистики ABBYY МФТИ.` <b> **Baseline** подготовлен [Deep learning school](https://www.dlschool.org/pro-track)\n",
        "\n",
        "Загрузим датасет и необходимые библиотеки\n",
        "\n",
        "\n"
      ]
    },
    {
      "cell_type": "markdown",
      "source": [
        "<div style=\"float:left;margin:0 10px 10px 0\" markdown=\"1\">\n",
        "    <a href=\"#footer\"><img src='https://img.shields.io/badge/К содержанию-&#x21A9-blue'></a>\n",
        "</div>\n",
        "\n",
        "___\n"
      ],
      "metadata": {
        "id": "LlaC95dZlNcL"
      }
    },
    {
      "cell_type": "code",
      "metadata": {
        "id": "OqkLTkFRfXvA"
      },
      "source": [
        "!wget -q https://www.dropbox.com/s/43l702z5a5i2w8j/gazeta_train.txt\n",
        "!wget -q https://www.dropbox.com/s/k2egt3sug0hb185/gazeta_val.txt\n",
        "!wget -q https://www.dropbox.com/s/3gki5n5djs9w0v6/gazeta_test.txt"
      ],
      "execution_count": null,
      "outputs": []
    },
    {
      "cell_type": "code",
      "metadata": {
        "id": "SXS1sdYZCluU",
        "colab": {
          "base_uri": "https://localhost:8080/"
        },
        "outputId": "00745433-e149-442a-9a79-e0d202b4f203"
      },
      "source": [
        "!pip -q install razdel networkx pymorphy2 nltk rouge==0.3.1 summa"
      ],
      "execution_count": null,
      "outputs": [
        {
          "output_type": "stream",
          "name": "stdout",
          "text": [
            "\u001b[K     |████████████████████████████████| 55 kB 4.2 MB/s \n",
            "\u001b[K     |████████████████████████████████| 54 kB 3.7 MB/s \n",
            "\u001b[K     |████████████████████████████████| 8.2 MB 57.3 MB/s \n",
            "\u001b[?25h  Building wheel for summa (setup.py) ... \u001b[?25l\u001b[?25hdone\n"
          ]
        }
      ]
    },
    {
      "cell_type": "code",
      "source": [
        "!gdown 1JYHdHj5s9WCTakRwcMrI393iATEonc_h -O train_model.py"
      ],
      "metadata": {
        "id": "51eLrqstlpUv",
        "colab": {
          "base_uri": "https://localhost:8080/"
        },
        "outputId": "5da5a421-0cee-4a70-ab97-734c9cd44006"
      },
      "execution_count": null,
      "outputs": [
        {
          "output_type": "stream",
          "name": "stdout",
          "text": [
            "Downloading...\n",
            "From: https://drive.google.com/uc?id=1JYHdHj5s9WCTakRwcMrI393iATEonc_h\n",
            "To: /content/train_model.py\n",
            "\r  0% 0.00/5.09k [00:00<?, ?B/s]\r100% 5.09k/5.09k [00:00<00:00, 8.81MB/s]\n"
          ]
        }
      ]
    },
    {
      "cell_type": "code",
      "source": [
        "!pip install youtokentome"
      ],
      "metadata": {
        "id": "VoZQePurAkFR",
        "colab": {
          "base_uri": "https://localhost:8080/"
        },
        "outputId": "6274e0d6-88b4-45b1-d0a2-acce86a62bda"
      },
      "execution_count": null,
      "outputs": [
        {
          "output_type": "stream",
          "name": "stdout",
          "text": [
            "Looking in indexes: https://pypi.org/simple, https://us-python.pkg.dev/colab-wheels/public/simple/\n",
            "Collecting youtokentome\n",
            "  Downloading youtokentome-1.0.6-cp37-cp37m-manylinux2010_x86_64.whl (1.7 MB)\n",
            "\u001b[K     |████████████████████████████████| 1.7 MB 9.0 MB/s \n",
            "\u001b[?25hRequirement already satisfied: Click>=7.0 in /usr/local/lib/python3.7/dist-packages (from youtokentome) (7.1.2)\n",
            "Installing collected packages: youtokentome\n",
            "Successfully installed youtokentome-1.0.6\n"
          ]
        }
      ]
    },
    {
      "cell_type": "code",
      "source": [
        "import imp\n",
        "import copy\n",
        "import math\n",
        "import json\n",
        "import torch\n",
        "import razdel\n",
        "import random\n",
        "import train_model\n",
        "import matplotlib.pyplot as plt\n",
        "from termcolor import colored\n",
        "import warnings\n",
        "import numpy as np\n",
        "import torch.nn as nn\n",
        "from rouge import Rouge\n",
        "import torch.optim as optim\n",
        "import youtokentome as yttm\n",
        "from tqdm.notebook import tqdm\n",
        "import torch.nn.functional as F\n",
        "from train_model import train_with_logs\n",
        "from nltk.translate.bleu_score import corpus_bleu\n",
        "from sklearn.utils.class_weight import compute_class_weight\n",
        "from train_model import punct_detokenize, postprocess\n",
        "from torch.nn.utils.rnn import pack_padded_sequence as pack\n",
        "from torch.nn.utils.rnn import pad_packed_sequence as unpack\n",
        "\n",
        "warnings.filterwarnings(\"ignore\")"
      ],
      "metadata": {
        "id": "LX_BwX_0lwUg"
      },
      "execution_count": null,
      "outputs": []
    },
    {
      "cell_type": "markdown",
      "source": [
        "Здесь соберем основные функции, которые нам понадобятся"
      ],
      "metadata": {
        "id": "8a5Mfebc-Ygw"
      }
    },
    {
      "cell_type": "code",
      "source": [
        "# для визуализации модели\n",
        "\n",
        "colors = ['red', 'green', 'blue', 'yellow']\n",
        "\n",
        "def model_structure(layer, margin=0, item_color=0):\n",
        "    for name, next_layer in layer.named_children():\n",
        "\n",
        "        next = (0 if not list(next_layer.named_children()) else 1)\n",
        "        print(colored(' ' * margin + name, colors[item_color]) + ':' * next)\n",
        "        model_structure(next_layer, margin + len(name) + 2, (item_color + 1) % 4)\n",
        "\n",
        "\n",
        "# для чтения датасета\n",
        "def read_gazeta_records(file_name, shuffle=True, sort_by_date=False):\n",
        "    assert shuffle != sort_by_date\n",
        "    records = []\n",
        "    with open(file_name, \"r\") as r:\n",
        "        for line in r:\n",
        "            records.append(json.loads(line))\n",
        "    if sort_by_date:\n",
        "        records.sort(key=lambda x: x[\"date\"])\n",
        "    if shuffle:\n",
        "        random.shuffle\n",
        "    return records\n",
        "\n",
        "# для подсчета скоров\n",
        "def calc_scores(references, predictions, metric=\"all\"):\n",
        "    print(\"Count:\", len(predictions))\n",
        "    print(\"Ref:\", references[-1])\n",
        "    print(\"Hyp:\", predictions[-1])\n",
        "\n",
        "    if metric in (\"bleu\", \"all\"):\n",
        "        print(\"BLEU: \", corpus_bleu([[r] for r in references], predictions))\n",
        "    if metric in (\"rouge\", \"all\"):\n",
        "        rouge = Rouge()\n",
        "        scores = rouge.get_scores(predictions, references, avg=True)\n",
        "        print(\"ROUGE: \", scores)\n",
        "\n",
        "# BPE кодировка\n",
        "def train_bpe(records, model_path, model_type=\"bpe\", vocab_size=10000, lower=True):\n",
        "    temp_file_name = \"temp.txt\"\n",
        "    with open(temp_file_name, \"w\") as temp:\n",
        "        for record in records:\n",
        "            text, summary = record['text'], record['summary']\n",
        "            if lower:\n",
        "                summary = summary.lower()\n",
        "                text = text.lower()\n",
        "            if not text or not summary:\n",
        "                continue\n",
        "            temp.write(text + \"\\n\")\n",
        "            temp.write(summary + \"\\n\")\n",
        "    yttm.BPE.train(data=temp_file_name, vocab_size=vocab_size, model=model_path)\n",
        "\n",
        "# рассчет весов классов\n",
        "def get_class_weight(iterator, pad_idx=2, filter_pad=False):\n",
        "\n",
        "  \"\"\"для рассчета весов классов. С учетом паддинга и без\"\"\"\n",
        "  \n",
        "  print(\"Рассчет весов классов ...\")\n",
        "  cls = []\n",
        "  for _ in range(1):\n",
        "    for batch in tqdm(iterator):\n",
        "        cls.extend(batch[\"outputs\"].detach().cpu().numpy().tolist())\n",
        " \n",
        "\n",
        "  cls = [item for sublist in cls for item in sublist]\n",
        "  \n",
        "  if filter_pad:\n",
        "    cls = list(filter(lambda x: x != pad_idx, cls))\n",
        "\n",
        "  class_weight = compute_class_weight(class_weight='balanced',\n",
        "                                    classes=np.unique(cls),\n",
        "                                    y=cls)  \n",
        "  if not filter_pad:\n",
        "    class_weight[2] = 1e-6\n",
        "  return torch.from_numpy(class_weight).float()\n",
        "\n",
        "\n",
        "# обучение модели \n",
        "def train_it(model, use_class_weights, N_EPOCHS, CLIP, DEVICE, lr=1e-3, filter_pad=False):\n",
        "    optimizer = optim.AdamW(model.parameters(), lr, weight_decay=0.001)\n",
        "    if use_class_weights:\n",
        "        # weights depend on the number of objects of class 0 and 1\n",
        "        weights = get_class_weight(train_iterator, filter_pad=filter_pad)\n",
        "        criterion = nn.CrossEntropyLoss(weight=weights.to(DEVICE), ignore_index=-1)\n",
        "    else:\n",
        "        criterion = nn.CrossEntropyLoss(ignore_index=-1)\n",
        "    train_with_logs(model, train_iterator, val_iterator, optimizer, criterion, N_EPOCHS, CLIP)"
      ],
      "metadata": {
        "id": "Pzgod0Zusj5L"
      },
      "execution_count": null,
      "outputs": []
    },
    {
      "cell_type": "markdown",
      "source": [
        "<div style=\"float:left;margin:0 10px 10px 0\" markdown=\"1\">\n",
        "    <a href=\"#footer\"><img src='https://img.shields.io/badge/К содержанию-&#x21A9-blue'></a>\n",
        "</div>\n",
        "\n",
        "___\n"
      ],
      "metadata": {
        "id": "VBHB4DIRmIGX"
      }
    },
    {
      "cell_type": "markdown",
      "metadata": {
        "id": "Wa0NfryxbPUP"
      },
      "source": [
        "## Dataset"
      ]
    },
    {
      "cell_type": "markdown",
      "metadata": {
        "id": "eesnclfDDV3F"
      },
      "source": [
        "Посмотрим на то, как устроен датасет"
      ]
    },
    {
      "cell_type": "code",
      "metadata": {
        "id": "Mz6CZYKQhnd-",
        "colab": {
          "base_uri": "https://localhost:8080/"
        },
        "outputId": "a2a2ce73-03d3-4943-bd06-bc530869a45c"
      },
      "source": [
        "!head -n 1 gazeta_train.txt\n",
        "!cat gazeta_train.txt | wc -l\n",
        "!cat gazeta_val.txt | wc -l\n",
        "!cat gazeta_test.txt | wc -l"
      ],
      "execution_count": null,
      "outputs": [
        {
          "output_type": "stream",
          "name": "stdout",
          "text": [
            "{\"url\": \"https://www.gazeta.ru/financial/2011/11/30/3852658.shtml\", \"text\": \"«По итогам 2011 года чистый отток может составить примерно $80 млрд, в следующем году — около $20 млрд. При этом мы ожидаем, что со второго полугодия 2012 года начнется приток капитала», — заявил «Интерфаксу» замминистра экономического развития Андрей Клепач. Официальные прогнозы по выводу капитала из России становятся все пессимистичными: еще летом власти полагали, что из страны уйдет не более $35 млрд, в сентябре Минэкономразвития назвал цифру $50 млрд, в начале ноября Центробанк пересмотрел оценку до $70 млрд. Очередное изменение прогноза было ожидаемо: по расчетам Центробанка , за январь — октябрь чистый отток капитала достиг $64 млрд, причем в последние месяцы он ускорился: в сентябре он составил $14 млрд, в октябре — $13 млрд против среднего ежемесячного оттока в $6—8 млрд в первом полугодии. «После октябрьских данных Минэкономразвития вынуждено было изменить оценку, настаивать на $70 млрд означало ожидать серьезного замедления оттока капитала на непонятно каких причинах», — говорит главный экономист BNP Paribas Юлия Цепляева. «В последние два месяца отток капитала ускорится, на декабрь приходится значительная часть выплат по внешним долгам, что приводит к усилению оттока, особенно если они не рефинансируются новыми кредитами», — соглашается главный экономист ФК «Открытие» Владимир Тихомиров. Прогнозируемый Минэкономразвития отток капитала — один из самых высоких за последние 20 лет. Больше ушло лишь в 2008 году на фоне разрастания финансового кризиса и российско-грузинской войны — $133,7 млрд. В кризисный 2009 год из России утекло $56,1 млрд. Главный фактор ускорения оттока капитала в 2011 году — нестабильность на внешних финансовых рынках и рост опасений относительно второй волны рецессии. «Это реакция на неуверенность, которую генерирует Европа с долговыми проблемами. В случае новой волны глобальной турбулентности Россия — одна из самых уязвимых стран», — говорит Цепляева. Еще одна причина — ослабление рубля. «Привлекательность вложений снижается на фоне того, что рубль перестал укрепляться, а ставки по депозитам достаточно низкие. В результате экспортеры не полностью возвращают экспортную выручку», — говорит Тихомиров. Внутри страны эксперты не видят особых причин для бегства капитала. «Ситуация выглядит достаточно позитивно, очень хорошие макроэкономические результаты за год, особенно на фоне других стран. С политической точки зрения все достаточно понятно и предсказуемо, итог выборов очевиден», — говорит экономист ИК «Тройка Диалог» Антон Струченевский. Тем не менее политический фактор играет роль. «Бизнесу важно не только, кто будет президентом, он ждет ясности с перестановками в правительстве. В наших условиях административный ресурс важнее всего для успешности бизнеса», — говорит Цепляева, добавляя, что отток капитала продолжится до завершения президентских выборов.\", \"title\": \"Прогноз не успевает за оттоком\", \"summary\": \"В 2011 году из России уйдет $80 млрд, считают в Минэкономразвития. Менее месяца назад Центробанк давал оценку $70 млрд, повысив первоначальный прогноз вдвое. Отток капитала из страны усиливается из-за кризиса в Европе, а в декабре российским компаниям выплачивать внешние долги. На движение капитала повлияли и выборы: несмотря на их предсказуемость, бизнес хочет ясности с перестановками в правительстве.\", \"date\": \"2011-11-30 18:33:39\"}\n",
            "52400\n",
            "5265\n",
            "5770\n"
          ]
        }
      ]
    },
    {
      "cell_type": "code",
      "metadata": {
        "id": "GNDp-BunEA91"
      },
      "source": [
        "train_records = read_gazeta_records(\"gazeta_train.txt\")\n",
        "val_records = read_gazeta_records(\"gazeta_val.txt\")\n",
        "test_records = read_gazeta_records(\"gazeta_test.txt\")"
      ],
      "execution_count": null,
      "outputs": []
    },
    {
      "cell_type": "markdown",
      "source": [
        "<div style=\"float:left;margin:0 10px 10px 0\" markdown=\"1\">\n",
        "    <a href=\"#footer\"><img src='https://img.shields.io/badge/К содержанию-&#x21A9-blue'></a>\n",
        "</div>\n",
        "\n",
        "___\n"
      ],
      "metadata": {
        "id": "nImcNBAQmI5Q"
      }
    },
    {
      "cell_type": "markdown",
      "metadata": {
        "id": "aaJKNsUGFBaA"
      },
      "source": [
        "## Extractive RNN"
      ]
    },
    {
      "cell_type": "markdown",
      "metadata": {
        "id": "l3izlm8HFBaC"
      },
      "source": [
        "### BPE\n",
        "Для начала сделаем BPE токенизацию"
      ]
    },
    {
      "cell_type": "code",
      "metadata": {
        "id": "Yg9T6q0wFBaF"
      },
      "source": [
        "train_bpe(train_records, \"BPE_model.bin\")"
      ],
      "execution_count": null,
      "outputs": []
    },
    {
      "cell_type": "markdown",
      "metadata": {
        "id": "jJFAJHTtFBaF"
      },
      "source": [
        "### Словарь\n",
        "Составим словарь для индексации токенов"
      ]
    },
    {
      "cell_type": "code",
      "metadata": {
        "id": "MueXtatmFBaG"
      },
      "source": [
        "bpe_processor = yttm.BPE('BPE_model.bin')\n",
        "vocabulary = bpe_processor.vocab()"
      ],
      "execution_count": null,
      "outputs": []
    },
    {
      "cell_type": "markdown",
      "metadata": {
        "id": "Z_C_p7tHFBaH"
      },
      "source": [
        "### Кэш oracle summary\n",
        "Закэшируем `oracle summary`, чтобы не пересчитывать их каждый раз"
      ]
    },
    {
      "cell_type": "code",
      "metadata": {
        "id": "Fp23tuPbFBaH",
        "colab": {
          "base_uri": "https://localhost:8080/",
          "height": 113,
          "referenced_widgets": [
            "c8e9f2d70c024d95bde4a86b5e26c111",
            "65e2530ef8134f0c907e337321cd83cb",
            "cd6a3b53b379431e8bda1962e7fdda1c",
            "684f11f821124f03aa2874d682ef91ba",
            "314fd9cf5406485eae255bf0daaa74c1",
            "463d538f29084f80881648fb35134a08",
            "d6163c1eb5364cb8a082679005225c7b",
            "f640e3c5a0da4ba091454503256a6f7f",
            "376f94876a3b4328ab4be288aade0e2a",
            "a601789ab883450a8658e1b6a7094b40",
            "0ab146df1ace40a99100e9856091a862",
            "fef5c66cc2ca4d30948b66f14239d5cd",
            "f8622195290d4e9bb3a481a61658810f",
            "6df79a79073e4b86adf46798335760f4",
            "0a6ab40aaebc4e439cc54fbe1d8027f7",
            "abdc82198f83410ca8560909c30ddf41",
            "d7084dc56f334d289b869c86cc69f544",
            "f7576102afa6467ba48e566ea8d5e832",
            "18b2b6f481ee42edba8c415105ce99ad",
            "79a44286e08048139e1c753ea48956a9",
            "9199052aca76474f835a25586df24b61",
            "c4e30a0ba76241c9b9947ecc8d0f02dd",
            "b0f026cd7b34410087a5bf91f5718c67",
            "c6daa85757d04bb09e87c8df58b34820",
            "08cc892971904461b9852b2d9343408b",
            "15519fc103fe4dd38589574198c2c82e",
            "de84d3a9682b4e0b8fd55b58c70733ba",
            "170f3177697b4df990eb9b2b83dd6f63",
            "ef9d2beddb4a4974a9273ae67f7e98d1",
            "73a40f6aac004f9e8976618fca151c27",
            "703c594790f34a08b4416d18d59c0651",
            "bc6c943e384e47649be4e67373f00e83",
            "6adf8f908ea4444083751f8781aa26b5"
          ]
        },
        "outputId": "5ce83eb5-d130-4117-ce4c-806d5632adf3"
      },
      "source": [
        "def build_oracle_summary_greedy(text, gold_summary, calc_score, lower=True, max_sentences=30):\n",
        "    '''\n",
        "    Жадное построение oracle summary\n",
        "    '''\n",
        "    gold_summary = gold_summary.lower() if lower else gold_summary\n",
        "    # Делим текст на предложения\n",
        "    sentences = [sentence.text.lower() if lower else sentence.text for sentence in razdel.sentenize(text)][:max_sentences]\n",
        "    n_sentences = len(sentences)\n",
        "    oracle_summary_sentences = set()\n",
        "    \n",
        "    score = -1.0\n",
        "    summaries = []\n",
        "    for _ in range(n_sentences):\n",
        "        for i in range(n_sentences):\n",
        "            if i in oracle_summary_sentences:\n",
        "                continue\n",
        "            current_summary_sentences = copy.copy(oracle_summary_sentences)\n",
        "            # Добавляем какое-то предложения к уже существующему summary\n",
        "            current_summary_sentences.add(i)\n",
        "            current_summary = \" \".join([sentences[index] for index in sorted(list(current_summary_sentences))])\n",
        "            # Считаем метрики\n",
        "            current_score = calc_score(current_summary, gold_summary)\n",
        "            summaries.append((current_score, current_summary_sentences))\n",
        "        # Если получилось улучшить метрики с добавлением какого-либо предложения, то пробуем добавить ещё\n",
        "        # Иначе на этом заканчиваем\n",
        "        best_summary_score, best_summary_sentences = max(summaries)\n",
        "        if best_summary_score <= score:\n",
        "            break\n",
        "        oracle_summary_sentences = best_summary_sentences\n",
        "        score = best_summary_score\n",
        "    oracle_summary = \" \".join([sentences[index] for index in sorted(list(oracle_summary_sentences))])\n",
        "    return oracle_summary, oracle_summary_sentences\n",
        "\n",
        "def calc_single_score(pred_summary, gold_summary, rouge):\n",
        "    return rouge.get_scores([pred_summary], [gold_summary], avg=True)['rouge-2']['f']\n",
        "\n",
        "def add_oracle_summary_to_records(records, max_sentences=30, lower=True, nrows=1000):\n",
        "    rouge = Rouge()\n",
        "    pbar = (tqdm(enumerate(records), total=nrows, leave=True))\n",
        "    for i, record in pbar:\n",
        "        if i >= nrows:\n",
        "            break\n",
        "        text = record[\"text\"]\n",
        "        summary = record[\"summary\"]\n",
        "\n",
        "        summary = summary.lower() if lower else summary\n",
        "        sentences = [sentence.text.lower() if lower else sentence.text for sentence in razdel.sentenize(text)][:max_sentences]\n",
        "        oracle_summary, sentences_indicies = build_oracle_summary_greedy(text, summary, calc_score=lambda x, y: calc_single_score(x, y, rouge),\n",
        "                                                                         lower=lower, max_sentences=max_sentences)\n",
        "        record[\"sentences\"] = sentences\n",
        "        record[\"oracle_sentences\"] = list(sentences_indicies)\n",
        "        record[\"oracle_summary\"] = oracle_summary\n",
        "\n",
        "    return records[:nrows]\n",
        "\n",
        "ext_train_records = add_oracle_summary_to_records(train_records, nrows=2048)\n",
        "ext_val_records = add_oracle_summary_to_records(val_records, nrows=256)\n",
        "ext_test_records = add_oracle_summary_to_records(test_records, nrows=256)"
      ],
      "execution_count": null,
      "outputs": [
        {
          "output_type": "display_data",
          "data": {
            "text/plain": [
              "  0%|          | 0/2048 [00:00<?, ?it/s]"
            ],
            "application/vnd.jupyter.widget-view+json": {
              "version_major": 2,
              "version_minor": 0,
              "model_id": "c8e9f2d70c024d95bde4a86b5e26c111"
            }
          },
          "metadata": {}
        },
        {
          "output_type": "display_data",
          "data": {
            "text/plain": [
              "  0%|          | 0/256 [00:00<?, ?it/s]"
            ],
            "application/vnd.jupyter.widget-view+json": {
              "version_major": 2,
              "version_minor": 0,
              "model_id": "fef5c66cc2ca4d30948b66f14239d5cd"
            }
          },
          "metadata": {}
        },
        {
          "output_type": "display_data",
          "data": {
            "text/plain": [
              "  0%|          | 0/256 [00:00<?, ?it/s]"
            ],
            "application/vnd.jupyter.widget-view+json": {
              "version_major": 2,
              "version_minor": 0,
              "model_id": "b0f026cd7b34410087a5bf91f5718c67"
            }
          },
          "metadata": {}
        }
      ]
    },
    {
      "cell_type": "markdown",
      "source": [
        "<div style=\"float:left;margin:0 10px 10px 0\" markdown=\"1\">\n",
        "    <a href=\"#footer\"><img src='https://img.shields.io/badge/К содержанию-&#x21A9-blue'></a>\n",
        "</div>\n",
        "\n",
        "___\n"
      ],
      "metadata": {
        "id": "JWyiatuXmKLe"
      }
    },
    {
      "cell_type": "markdown",
      "metadata": {
        "id": "UlXXc8qUHC5m"
      },
      "source": [
        "### Составление батчей"
      ]
    },
    {
      "cell_type": "code",
      "metadata": {
        "id": "YATQKCuqHPo3",
        "colab": {
          "base_uri": "https://localhost:8080/"
        },
        "outputId": "10907bd4-4052-4544-9cbd-f2ef614869ba"
      },
      "source": [
        "device = torch.device('cuda' if torch.cuda.is_available() else 'cpu')\n",
        "device"
      ],
      "execution_count": null,
      "outputs": [
        {
          "output_type": "execute_result",
          "data": {
            "text/plain": [
              "device(type='cuda')"
            ]
          },
          "metadata": {},
          "execution_count": 12
        }
      ]
    },
    {
      "cell_type": "code",
      "metadata": {
        "id": "MNyxstTChK3C"
      },
      "source": [
        "class BatchIterator():\n",
        "    def __init__(self, \n",
        "                 records, \n",
        "                 vocabulary, \n",
        "                 batch_size, \n",
        "                 bpe_processor, \n",
        "                 shuffle=True, \n",
        "                 lower=True, \n",
        "                 max_sentences=30, \n",
        "                 max_sentence_length=50, \n",
        "                 device=torch.device('cpu')):\n",
        "        self.records = records\n",
        "        self.num_samples = len(records)\n",
        "        self.batch_size = batch_size\n",
        "        self.bpe_processor = bpe_processor\n",
        "        self.shuffle = shuffle\n",
        "        self.batches_count = int(math.ceil(self.num_samples / batch_size))\n",
        "        self.lower = lower\n",
        "        self.rouge = Rouge()\n",
        "        self.vocabulary = vocabulary\n",
        "        self.max_sentences = max_sentences\n",
        "        self.max_sentence_length = max_sentence_length\n",
        "        self.device = device\n",
        "        \n",
        "    def __len__(self):\n",
        "        return self.batches_count\n",
        "    \n",
        "    def __iter__(self):\n",
        "        indices = np.arange(self.num_samples)\n",
        "        if self.shuffle:\n",
        "            np.random.shuffle(indices)\n",
        "\n",
        "        for start in range(0, self.num_samples, self.batch_size):\n",
        "            end = min(start + self.batch_size, self.num_samples)\n",
        "            batch_indices = indices[start:end]\n",
        "\n",
        "            batch_inputs = []\n",
        "            batch_outputs = []\n",
        "            max_sentence_length = 0\n",
        "            max_sentences = 0\n",
        "            batch_records = []\n",
        "\n",
        "            for data_ind in batch_indices:\n",
        "                \n",
        "                record = self.records[data_ind]\n",
        "                batch_records.append(record)\n",
        "                text = record[\"text\"]\n",
        "                summary = record[\"summary\"]\n",
        "                summary = summary.lower() if self.lower else summary\n",
        "\n",
        "                if \"sentences\" not in record:\n",
        "                    sentences = [sentence.text.lower() if self.lower else \\\n",
        "                                 sentence.text for sentence in razdel.sentenize(text)][:self.max_sentences]\n",
        "                else:\n",
        "                    sentences = record[\"sentences\"]\n",
        "                max_sentences = max(len(sentences), max_sentences)\n",
        "                \n",
        "                # номера предложений, которые в нашем саммари\n",
        "                if \"oracle_sentences\" not in record:\n",
        "                    calc_score = lambda x, y: calc_single_score(x, y, self.rouge)\n",
        "                    sentences_indicies = build_oracle_summary_greedy(text, \n",
        "                                                                     summary, \n",
        "                                                                     calc_score=calc_score, \n",
        "                                                                     lower=self.lower, \n",
        "                                                                     max_sentences=self.max_sentences)[1]\n",
        "                else:   \n",
        "                    sentences_indicies = record[\"oracle_sentences\"]\n",
        "                \n",
        "                # inputs - индексы слов в предложении\n",
        "                inputs = [bpe_processor.encode(sentence)[:self.max_sentence_length] for sentence in sentences]\n",
        "                max_sentence_length = max(max_sentence_length, max([len(tokens) for tokens in inputs]))\n",
        "                \n",
        "                # получение метки класса предложения\n",
        "                outputs = [int(i in sentences_indicies) for i in range(len(sentences))]\n",
        "                batch_inputs.append(inputs)\n",
        "                batch_outputs.append(outputs)\n",
        "\n",
        "            tensor_inputs = torch.zeros((self.batch_size, max_sentences, \n",
        "                                         max_sentence_length), dtype=torch.long, device=self.device)\n",
        "            # we add index 2 for padding\n",
        "            tensor_outputs = 2 * torch.ones((self.batch_size, max_sentences), \n",
        "                                         dtype=torch.float32, device=self.device)\n",
        "            for i, inputs in enumerate(batch_inputs):\n",
        "                for j, sentence_tokens in enumerate(inputs):\n",
        "                    tensor_inputs[i][j][:len(sentence_tokens)] = torch.tensor(sentence_tokens, dtype=torch.int64)\n",
        "\n",
        "            for i, outputs in enumerate(batch_outputs):\n",
        "                tensor_outputs[i][:len(outputs)] = torch.LongTensor(outputs)\n",
        "\n",
        "            tensor_outputs = tensor_outputs.long()\n",
        "            yield {\n",
        "                'inputs': tensor_inputs,\n",
        "                'outputs': tensor_outputs,\n",
        "                'records': batch_records\n",
        "            }"
      ],
      "execution_count": null,
      "outputs": []
    },
    {
      "cell_type": "code",
      "metadata": {
        "id": "5ug9MIObdi03"
      },
      "source": [
        "train_iterator = BatchIterator(ext_train_records, vocabulary, 64, bpe_processor, device=device)\n",
        "val_iterator = BatchIterator(ext_val_records, vocabulary, 64, bpe_processor, device=device)\n",
        "test_iterator = BatchIterator(ext_test_records, vocabulary, 64, bpe_processor, device=device)"
      ],
      "execution_count": null,
      "outputs": []
    },
    {
      "cell_type": "markdown",
      "source": [
        "<div style=\"float:left;margin:0 10px 10px 0\" markdown=\"1\">\n",
        "    <a href=\"#footer\"><img src='https://img.shields.io/badge/К содержанию-&#x21A9-blue'></a>\n",
        "</div>\n",
        "\n",
        "___\n"
      ],
      "metadata": {
        "id": "IHGKNGtYmLLr"
      }
    },
    {
      "cell_type": "markdown",
      "metadata": {
        "id": "yPlJMg0_dQM-"
      },
      "source": [
        "## Extractor -  SummaRuNNer\n",
        " https://arxiv.org/pdf/1611.04230.pdf\n"
      ]
    },
    {
      "cell_type": "markdown",
      "metadata": {
        "id": "4BSsnfe4t1uK"
      },
      "source": [
        "* В данной реализации в `outputs` в качестве padding используется индекс 2, чтобы не совпадать с классами, для этого мы будем использовать в качестфе функции потерь - `CrossEntropyLoss`, что позволит работать с логитами трех классов\n"
      ]
    },
    {
      "cell_type": "markdown",
      "source": [
        "<div style=\"float:left;margin:0 10px 10px 0\" markdown=\"1\">\n",
        "    <a href=\"#footer\"><img src='https://img.shields.io/badge/К содержанию-&#x21A9-blue'></a>\n",
        "</div>\n",
        "\n",
        "___\n"
      ],
      "metadata": {
        "id": "l-UYYaQfmMMM"
      }
    },
    {
      "cell_type": "markdown",
      "metadata": {
        "id": "QxpL3AtOrctD"
      },
      "source": [
        "## Model\n",
        "$P\\left(y_{j} = 1 \\mid \\mathbf{h}_{j}, \\mathbf{s}_{j}, \\mathbf{d}\\right)=\\sigma\\left(W_{c} \\mathbf{h}_{j} + \\mathbf{h}_{j}^{T} W_{s} \\mathbf{d}\\right)$\n",
        "--------------------"
      ]
    },
    {
      "cell_type": "code",
      "source": [
        "class SentenceEncoderRNN(nn.Module):\n",
        "    def __init__(self, input_size, embedding_dim, hidden_size, n_layers=3, dropout=0.3, bidirectional=True):\n",
        "        super().__init__()\n",
        "\n",
        "        num_directions = 2 if bidirectional else 1\n",
        "        assert hidden_size % num_directions == 0\n",
        "        hidden_size = hidden_size // num_directions\n",
        "\n",
        "        self.embedding_dim = embedding_dim\n",
        "        self.input_size = input_size\n",
        "        self.hidden_size = hidden_size\n",
        "        self.n_layers = n_layers\n",
        "        self.dropout = dropout\n",
        "        self.bidirectional = bidirectional\n",
        "\n",
        "        self.embedding_layer = nn.Embedding(input_size, embedding_dim)\n",
        "        self.rnn_layer = nn.LSTM(embedding_dim, \n",
        "                                 hidden_size, \n",
        "                                 n_layers, \n",
        "                                 dropout=dropout, \n",
        "                                 bidirectional=bidirectional, \n",
        "                                 batch_first=True)\n",
        "        self.dropout_layer = nn.Dropout(dropout)\n",
        "\n",
        "    def forward(self, inputs, hidden=None):\n",
        "  \n",
        "        embedded = self.dropout_layer(self.embedding_layer(inputs))\n",
        "        outputs, _ = self.rnn_layer(embedded, hidden)\n",
        "        sentences_embeddings = torch.mean(outputs, 1)\n",
        "        # [batch_size, hidden_size]\n",
        "        return sentences_embeddings\n",
        "\n",
        "class SummaRNN(nn.Module):\n",
        "    def __init__(self,\n",
        "                 vocabulary_size,\n",
        "                 use_content=True,\n",
        "                 use_salience=True,\n",
        "                 use_novelty=True,\n",
        "                 use_bias=True,\n",
        "                 token_embedding_dim=256,\n",
        "                 sentence_encoder_hidden_size=512,\n",
        "                 hidden_size=512,\n",
        "                 bidirectional=True,\n",
        "                 sentence_encoder_n_layers=2,\n",
        "                 sentence_encoder_dropout=0.3,\n",
        "                 sentence_encoder_bidirectional=True,\n",
        "                 n_layers=2,\n",
        "                 dropout=0.1):\n",
        "        \n",
        "        super().__init__()\n",
        "\n",
        "        num_directions = 2 if bidirectional else 1\n",
        "        assert hidden_size % num_directions == 0\n",
        "        hidden_size = hidden_size // num_directions\n",
        "\n",
        "        self.hidden_size = hidden_size\n",
        "        self.n_layers = n_layers\n",
        "        self.dropout = dropout\n",
        "        self.bidirectional = bidirectional\n",
        "\n",
        "        self.sentence_encoder = SentenceEncoderRNN(vocabulary_size, token_embedding_dim,\n",
        "                                                   sentence_encoder_hidden_size, sentence_encoder_n_layers, \n",
        "                                                   sentence_encoder_dropout, sentence_encoder_bidirectional)\n",
        "        \n",
        "        self.rnn_layer = nn.LSTM(sentence_encoder_hidden_size, hidden_size, n_layers, dropout=dropout,\n",
        "                           bidirectional=bidirectional, batch_first=True)\n",
        "        \n",
        "        self.dropout_layer = nn.Dropout(dropout)\n",
        "        self.content_linear_layer = nn.Linear(hidden_size * 2, 3) # 3 класса 0, 1 и 2 для паддинга\n",
        "        self.document_linear_layer = nn.Linear(hidden_size * 2, hidden_size * 2)\n",
        "        self.salience_linear_layer = nn.Linear(hidden_size * 2, hidden_size * 2, bias=False)\n",
        "        self.novelty_linear_layer = nn.Linear(hidden_size * 2, hidden_size * 2, bias=False)\n",
        "        self.tanh_layer = nn.Tanh()\n",
        "        self.softmax = nn.Softmax()\n",
        "        self.sigmoid = nn.Sigmoid()\n",
        "        self.use_bias = use_bias\n",
        "        self.use_content = use_content\n",
        "        self.use_salience = use_salience\n",
        "        self.use_novelty = use_novelty\n",
        "        self.sentence_encoder_hidden_size = sentence_encoder_hidden_size\n",
        "\n",
        "    def forward(self, inputs, hidden=None):\n",
        "        # parameters of the probability\n",
        "        content = 0\n",
        "        salience = 0\n",
        "        novelty = 0\n",
        "\n",
        "        # [batch_size, seq num, seq_len]\n",
        "        batch_size = inputs.size(0)\n",
        "        sentences_count = inputs.size(1)\n",
        "        tokens_count = inputs.size(2)\n",
        "        inputs = inputs.reshape(-1, tokens_count)\n",
        "        # [batch_size * seq num, seq_len]\n",
        "\n",
        "        embedded_sentences = self.sentence_encoder(inputs)\n",
        "        embedded_sentences = self.dropout_layer(embedded_sentences.reshape(batch_size, sentences_count, -1))\n",
        "        # [batch_size *  seq num, seq_len, hidden_size] -> [batch_size, seq num, hidden_size]\n",
        "\n",
        "        outputs, _ = self.rnn_layer(embedded_sentences, hidden)\n",
        "        outputs = self.dropout_layer(outputs)\n",
        "        # [batch_size, seq num, hidden_size]\n",
        "\n",
        "        document_embedding = self.tanh_layer(self.document_linear_layer(torch.mean(outputs, 1)))\n",
        "        # [batch_size, hidden_size]\n",
        "\n",
        "        # W * h^T\n",
        "        if self.use_content:\n",
        "            content = self.content_linear_layer(outputs) # 1-representation\n",
        "            predictions = content\n",
        "\n",
        "        if self.use_bias:\n",
        "          bias_term = torch.zeros(3).uniform_(-0.1, 0.1).to(device) # на три класса\n",
        "          predictions += bias_term\n",
        "\n",
        "        # [batch_size, seq num]\n",
        "\n",
        "        # # h^T * W * d\n",
        "        if self.use_salience:\n",
        "            # [batch_size, seq num, hidden_size] * [batch_size, hidden_size, 1] = [batch_size, seq num, ]\n",
        "            salience = torch.bmm(outputs, self.salience_linear_layer(document_embedding).unsqueeze(2)) # 2-representation\n",
        "            predictions +=salience\n",
        "\n",
        "        if self.use_novelty:\n",
        "\n",
        "            # at every step add novelty to prediction of the sentence\n",
        "            # 0) initialize summary_representation and novelty by zeros\n",
        "            summary_representation = embedded_sentences.new_zeros((batch_size, self.sentence_encoder_hidden_size)).to(device)\n",
        "            novelty = content.new_zeros((batch_size, sentences_count, 3)).to(device) # [batch_size, seq_num, num_classes]\n",
        "            for sentence_num in range(sentences_count):\n",
        "              # 1) take sentence_num_state from outputs(representation of the sentence with number sentence_num)\n",
        "              sentence_num_state = outputs[:, sentence_num, :]\n",
        "              novelty[:, sentence_num] = (-torch.bmm(sentence_num_state.unsqueeze(1), \n",
        "                                                    self.novelty_linear_layer(self.tanh_layer(summary_representation))\n",
        "                                                    .unsqueeze(2))\n",
        "                                                    .squeeze(2)\n",
        "              )\n",
        "              # 3) add novelty to predictions\n",
        "              predictions[:, sentence_num] += novelty[:, sentence_num]\n",
        "              # 4) calculcate probability for current sentence\n",
        "              probability = self.sigmoid(predictions[:, sentence_num]) # была Softmax ... попробовал так\n",
        "                                                                       # иначе логиты всегда меньше 0 выходили и работал только top_k\n",
        "              probability = torch.max(probability[:, :2], 1)[0]\n",
        "              # 5) add sentence_num_state with the weight which is equal to probability to summary_representation\n",
        "              summary_representation += torch.mv(sentence_num_state.transpose(0, 1), probability)\n",
        "        return predictions.permute(0, 2, 1) # развернуть для кроссэнтропии. Для каждого класса 3 логита"
      ],
      "metadata": {
        "id": "cFyVbw88bO5t"
      },
      "execution_count": null,
      "outputs": []
    },
    {
      "cell_type": "markdown",
      "source": [
        "<div style=\"float:left;margin:0 10px 10px 0\" markdown=\"1\">\n",
        "    <a href=\"#footer\"><img src='https://img.shields.io/badge/К содержанию-&#x21A9-blue'></a>\n",
        "</div>\n",
        "\n",
        "___\n"
      ],
      "metadata": {
        "id": "2-LhK6RQtApj"
      }
    },
    {
      "cell_type": "markdown",
      "source": [
        "### Обучение и инференс без использования весов классов"
      ],
      "metadata": {
        "id": "CXBo2J3fsXbH"
      }
    },
    {
      "cell_type": "markdown",
      "source": [
        "#### Training"
      ],
      "metadata": {
        "id": "jWkRJDLVs8AM"
      }
    },
    {
      "cell_type": "code",
      "metadata": {
        "id": "-QC1ZmuQfB7f",
        "colab": {
          "base_uri": "https://localhost:8080/"
        },
        "outputId": "aaf1d71a-2dd2-4acd-fa6e-aebf7c5286b7"
      },
      "source": [
        "vocab_size = len(vocabulary)\n",
        "model_001 = SummaRNN(vocab_size).to(device)\n",
        "\n",
        "params_count = np.sum([p.numel() for p in model_001.parameters() if p.requires_grad])\n",
        "print(\"Trainable params: {}\".format(params_count))"
      ],
      "execution_count": null,
      "outputs": [
        {
          "output_type": "stream",
          "name": "stdout",
          "text": [
            "Trainable params: 9132035\n"
          ]
        }
      ]
    },
    {
      "cell_type": "code",
      "source": [
        "model_structure(model_001)"
      ],
      "metadata": {
        "colab": {
          "base_uri": "https://localhost:8080/"
        },
        "id": "9Oz_1s54GeTm",
        "outputId": "7156d627-3636-4933-82e8-6a54684087b6"
      },
      "execution_count": null,
      "outputs": [
        {
          "output_type": "stream",
          "name": "stdout",
          "text": [
            "\u001b[31msentence_encoder\u001b[0m:\n",
            "\u001b[32m                  embedding_layer\u001b[0m\n",
            "\u001b[32m                  rnn_layer\u001b[0m\n",
            "\u001b[32m                  dropout_layer\u001b[0m\n",
            "\u001b[31mrnn_layer\u001b[0m\n",
            "\u001b[31mdropout_layer\u001b[0m\n",
            "\u001b[31mcontent_linear_layer\u001b[0m\n",
            "\u001b[31mdocument_linear_layer\u001b[0m\n",
            "\u001b[31msalience_linear_layer\u001b[0m\n",
            "\u001b[31mnovelty_linear_layer\u001b[0m\n",
            "\u001b[31mtanh_layer\u001b[0m\n",
            "\u001b[31msoftmax\u001b[0m\n",
            "\u001b[31msigmoid\u001b[0m\n"
          ]
        }
      ]
    },
    {
      "cell_type": "code",
      "metadata": {
        "id": "rwrhG4v71yts",
        "colab": {
          "base_uri": "https://localhost:8080/",
          "height": 426
        },
        "outputId": "3ca337c8-1e1a-43c7-c971-eb0605f86393"
      },
      "source": [
        "imp.reload(train_model)\n",
        "\n",
        "N_EPOCHS = 15\n",
        "CLIP = .75\n",
        "plt.style.use('dark_background')\n",
        "\n",
        "train_it(model_001, False, N_EPOCHS, CLIP, device)"
      ],
      "execution_count": null,
      "outputs": [
        {
          "output_type": "display_data",
          "data": {
            "text/plain": [
              "<Figure size 1080x360 with 2 Axes>"
            ],
            "image/png": "[encoded data removed]"
          },
          "metadata": {}
        },
        {
          "output_type": "stream",
          "name": "stdout",
          "text": [
            "print train\n",
            "Epoch: 15 | Time: 0m 22s\n",
            "\tTrain Loss: 0.190 | Train PPL:   1.209\n",
            "\t Val. Loss: 0.277 |  Val. PPL:   1.319\n"
          ]
        }
      ]
    },
    {
      "cell_type": "markdown",
      "source": [
        "<div style=\"float:left;margin:0 10px 10px 0\" markdown=\"1\">\n",
        "    <a href=\"#footer\"><img src='https://img.shields.io/badge/К содержанию-&#x21A9-blue'></a>\n",
        "</div>\n",
        "\n",
        "___\n"
      ],
      "metadata": {
        "id": "vziP9dqJmNF4"
      }
    },
    {
      "cell_type": "markdown",
      "metadata": {
        "id": "vuv4Sh2Vj5Yr"
      },
      "source": [
        "#### Inference"
      ]
    },
    {
      "cell_type": "markdown",
      "source": [
        "Сначала посмотрим скоры для топ-3 отбора, затем ддля логитов больше нуля"
      ],
      "metadata": {
        "id": "pIhLeWJsuiOV"
      }
    },
    {
      "cell_type": "code",
      "metadata": {
        "id": "wZ96X37bb_PV",
        "colab": {
          "base_uri": "https://localhost:8080/"
        },
        "outputId": "dbce9f9c-0914-4c44-acd2-aa5bc6e30d23"
      },
      "source": [
        "def inference_summarunner(tagger, iterator, top_k=3):\n",
        "\n",
        "    references = []\n",
        "    predictions = []\n",
        "\n",
        "    tagger.eval()\n",
        "    for batch in iterator:\n",
        "\n",
        "        logits = tagger(batch['inputs'])\n",
        "        max = torch.max(logits, -1)[0]\n",
        "        sum_in = torch.argsort(max, dim=1)[:, -top_k:]\n",
        "        for i in range(len(batch['outputs'])):\n",
        "            summary = batch['records'][i]['summary'].lower()\n",
        "            pred_summary = ' '.join([batch['records'][i]['sentences'][ind.detach().cpu().item()] \\\n",
        "                                     for ind in sum_in.sort(dim=1)[0][i]])\n",
        "\n",
        "            summary, pred_summary = postprocess(summary, pred_summary)\n",
        "            references.append(summary)\n",
        "            predictions.append(pred_summary)\n",
        "\n",
        "    calc_scores(references, predictions)\n",
        "\n",
        "model_001.load_state_dict(torch.load('best-val-model.pt'))\n",
        "inference_summarunner(model_001, test_iterator, 3)"
      ],
      "execution_count": null,
      "outputs": [
        {
          "output_type": "stream",
          "name": "stdout",
          "text": [
            "Count: 512\n",
            "Ref: российский миллиардер олег дерипаска был лишен гражданства кипра властями страны , передают местные сми . кроме того , кипрских паспортов лишены его сын и дочь . гражданства лишились и двое российских банкиров , разыскиваемых по обвинению в мошенничестве – александр бондаренко и владимир столяренко , а также их семьи . кипр начал проверять « золотые паспорта » , выданные в обмен на инвестиции , еще в начале ноября .\n",
            "Hyp: власти кипра опубликовали список людей , лишенных гражданства страны по итогам проверки « золотых паспортов » , фактически купленных у правительства островного государства . как сообщает газета politis , кипрского гражданства в числе прочих лишились трое российских бизнесменов и их семьи . паспорт кипра аннулировали у миллиардера олега дерипаски , его сына и дочери , а также банкиров александра бондаренко и владимира столяренко .\n",
            "BLEU:  0.44466339944984457\n",
            "ROUGE:  {'rouge-1': {'f': 0.3062730368135899, 'p': 0.292675168417144, 'r': 0.34054733697305695}, 'rouge-2': {'f': 0.1300842603349146, 'p': 0.12296455185098164, 'r': 0.14923945939689964}, 'rouge-l': {'f': 0.2604561796801202, 'p': 0.2622313997098846, 'r': 0.304919312372823}}\n"
          ]
        }
      ]
    },
    {
      "cell_type": "code",
      "source": [
        "def inference_summarunner_logits(tagger, iterator):\n",
        "\n",
        "    device = torch.device('cuda' if torch.cuda.is_available() else 'cpu')\n",
        "\n",
        "    references = []\n",
        "    predictions = []\n",
        "    tagger.eval()\n",
        "    for batch in iterator:\n",
        "        logits = tagger(batch['inputs'])\n",
        "        records = batch[\"records\"]\n",
        "        target = batch['outputs']\n",
        "        logs = torch.max(logits, 1)[0]\n",
        "        for record, log, trg in zip(records, logs, target):\n",
        "\n",
        "            log = log[trg!=2] # отфильтровать padding\n",
        "            sentences = record[\"sentences\"]\n",
        "            predicted_summary = []\n",
        "            for i, logit in enumerate(log):\n",
        "                if logit > 0.0:\n",
        "                    \n",
        "                    predicted_summary.append(sentences[i])\n",
        "\n",
        "            if not predicted_summary:\n",
        "                predicted_summary.append(sentences[torch.unique(torch.max(log, dim=0)[1]).item()])\n",
        "            predicted_summary = \" \".join(predicted_summary)\n",
        "            references.append(record[\"summary\"].lower())\n",
        "            predictions.append(predicted_summary)\n",
        "\n",
        "    calc_scores(references, predictions)\n",
        "\n",
        "inference_summarunner_logits(model_001, test_iterator)"
      ],
      "metadata": {
        "colab": {
          "base_uri": "https://localhost:8080/"
        },
        "id": "Wan6SVaPT0sL",
        "outputId": "1ef72b14-6cbe-43ae-e130-4116d7452601"
      },
      "execution_count": null,
      "outputs": [
        {
          "output_type": "stream",
          "name": "stdout",
          "text": [
            "Count: 512\n",
            "Ref: перед важным заседанием в тульском суде из зооуголка сбежал кот, который ранее стал орудием преступления. как выяснили следователи, в 2018 году злоумышленник использовал животное, чтобы доставлять наркотики в колонию. запрещенные вещество он клал в потайной карман ошейника кота — тем не менее при первой же попытке доставки сотрудники фсин заметили странную посылку и задержали мужчину.\n",
            "Hyp: в туле перед заседанием суда сбежал важный вещдок — кот, с помощью которого заключенным в колонию передавались наркотики.\n",
            "BLEU:  0.19801350086228844\n",
            "ROUGE:  {'rouge-1': {'f': 0.23672859219412046, 'p': 0.38808460958887575, 'r': 0.18017284326851823}, 'rouge-2': {'f': 0.11290653638448299, 'p': 0.1939701275285045, 'r': 0.08497989674066837}, 'rouge-l': {'f': 0.17391682581496065, 'p': 0.34779469483601533, 'r': 0.16086373288960557}}\n"
          ]
        }
      ]
    },
    {
      "cell_type": "markdown",
      "source": [
        "<div style=\"float:left;margin:0 10px 10px 0\" markdown=\"1\">\n",
        "    <a href=\"#footer\"><img src='https://img.shields.io/badge/К содержанию-&#x21A9-blue'></a>\n",
        "</div>\n",
        "\n",
        "___\n"
      ],
      "metadata": {
        "id": "MAav9l9UmNuL"
      }
    },
    {
      "cell_type": "markdown",
      "source": [
        "### Обучение и инференс с использованием весов классов"
      ],
      "metadata": {
        "id": "rxEyzxFht37N"
      }
    },
    {
      "cell_type": "markdown",
      "source": [
        "Обучим теперь, передавая веса в `CrossEntropyLoss` для наших классов - для паддинга будет передавать наименьший вес, и игнорировать в рассчетах. Также уменьшим размер записей `orcale_summary` до `256` для ускорения обучения и инференса"
      ],
      "metadata": {
        "id": "IJwwy4XOjYyM"
      }
    },
    {
      "cell_type": "markdown",
      "source": [
        "#### Training"
      ],
      "metadata": {
        "id": "wIrccu7guB70"
      }
    },
    {
      "cell_type": "code",
      "source": [
        "imp.reload(train_model)\n",
        "\n",
        "vocab_size = len(vocabulary)\n",
        "model_002 = SummaRNN(vocab_size).to(device)\n",
        "\n",
        "params_count = np.sum([p.numel() for p in model_002.parameters() if p.requires_grad])\n",
        "print(\"Trainable params: {}\".format(params_count))\n",
        "\n",
        "model_structure(model_002)"
      ],
      "metadata": {
        "colab": {
          "base_uri": "https://localhost:8080/"
        },
        "id": "KOSRficKt3u1",
        "outputId": "51f00a99-df52-4ca0-e42c-669d7900dea0"
      },
      "execution_count": null,
      "outputs": [
        {
          "output_type": "stream",
          "name": "stdout",
          "text": [
            "Trainable params: 9132035\n",
            "\u001b[31msentence_encoder\u001b[0m:\n",
            "\u001b[32m                  embedding_layer\u001b[0m\n",
            "\u001b[32m                  rnn_layer\u001b[0m\n",
            "\u001b[32m                  dropout_layer\u001b[0m\n",
            "\u001b[31mrnn_layer\u001b[0m\n",
            "\u001b[31mdropout_layer\u001b[0m\n",
            "\u001b[31mcontent_linear_layer\u001b[0m\n",
            "\u001b[31mdocument_linear_layer\u001b[0m\n",
            "\u001b[31msalience_linear_layer\u001b[0m\n",
            "\u001b[31mnovelty_linear_layer\u001b[0m\n",
            "\u001b[31mtanh_layer\u001b[0m\n",
            "\u001b[31msoftmax\u001b[0m\n",
            "\u001b[31msigmoid\u001b[0m\n"
          ]
        }
      ]
    },
    {
      "cell_type": "code",
      "source": [
        "N_EPOCHS = 15\n",
        "CLIP = .75\n",
        "plt.style.use('dark_background')\n",
        "train_it(model_002, True, N_EPOCHS, CLIP, device, filter_pad=False)"
      ],
      "metadata": {
        "id": "-VOjiijrt3nu",
        "colab": {
          "base_uri": "https://localhost:8080/",
          "height": 426,
          "referenced_widgets": [
            "4680fb292acb47d6949319db4c53a174",
            "79dd6ad10bf94c6a893ead6422f55d6f",
            "72179ee8383d43438a7e1639cd4fb9cf",
            "46c94d3694794eeaa6b0bda20523abe4",
            "dc28028a24be45f1b3319d7502f8430f",
            "e448a3892d2e41a489dd121f67106009",
            "aa593e3925134fa99e3674a34cf0ca1e",
            "ac467577828d4756861613a26db4ea42",
            "6967b4ea3f1a48798eb3f2696ed6f8d7",
            "318b49d51ea64da5acba315f0c3a94c0",
            "2680b2e0bfe345538b1cb520b8c2cb0e"
          ]
        },
        "outputId": "a61d5947-7289-49ba-ab31-a5b082c4186e"
      },
      "execution_count": null,
      "outputs": [
        {
          "output_type": "display_data",
          "data": {
            "text/plain": [
              "<Figure size 1080x360 with 2 Axes>"
            ],
            "image/png": "[encoded data removed]"
          },
          "metadata": {}
        },
        {
          "output_type": "stream",
          "name": "stdout",
          "text": [
            "print train\n",
            "Epoch: 15 | Time: 0m 21s\n",
            "\tTrain Loss: 0.345 | Train PPL:   1.412\n",
            "\t Val. Loss: 0.834 |  Val. PPL:   2.303\n"
          ]
        }
      ]
    },
    {
      "cell_type": "markdown",
      "source": [
        "#### Inference"
      ],
      "metadata": {
        "id": "2BK4NkppuFN7"
      }
    },
    {
      "cell_type": "code",
      "source": [
        "model_002.load_state_dict(torch.load('best-val-model.pt'))\n",
        "inference_summarunner(model_002, test_iterator, 3)"
      ],
      "metadata": {
        "id": "BPot_KpzufUB",
        "colab": {
          "base_uri": "https://localhost:8080/"
        },
        "outputId": "4999b225-b980-4883-b245-103e3479f0c8"
      },
      "execution_count": null,
      "outputs": [
        {
          "output_type": "stream",
          "name": "stdout",
          "text": [
            "Count: 256\n",
            "Ref: международный суд оон отклонил возражения россии по иску украины , в котором киев обвиняет москву в финансировании терроризма , а также в культурном уничтожении и расовой дискриминации крымских татар и украинцев в крыму . в мид россии обращение украины в суд оон назвали « недобросовестным » , а в совете федерации указали , что претензии киева являются политическими .\n",
            "Hyp: международный суд оон отклонил возражение россии , касающееся рассмотрения иска украины , которая обвиняет москву в финансировании терроризма . российская сторона указывала в заявлении , что суд оон не имеет юрисдикции для вынесения решений по таким делам . в итоге суд большинством голосов — 13 против трех — отказал россии в ее претензии .\n",
            "BLEU:  0.4483358093852308\n",
            "ROUGE:  {'rouge-1': {'f': 0.31733181247536885, 'p': 0.3031341514395033, 'r': 0.353196756345429}, 'rouge-2': {'f': 0.1427732219026844, 'p': 0.13475932187114892, 'r': 0.16339726182715164}, 'rouge-l': {'f': 0.2715462303275748, 'p': 0.2739258120398611, 'r': 0.3186041265424391}}\n"
          ]
        }
      ]
    },
    {
      "cell_type": "code",
      "source": [
        "inference_summarunner_logits(model_002, test_iterator)"
      ],
      "metadata": {
        "id": "J4IB3uTyufu8",
        "colab": {
          "base_uri": "https://localhost:8080/"
        },
        "outputId": "258b40de-cbec-4f77-c834-44010f6c5004"
      },
      "execution_count": null,
      "outputs": [
        {
          "output_type": "stream",
          "name": "stdout",
          "text": [
            "Count: 256\n",
            "Ref: с 1 января 2020 года whatsapp прекращает поддержку смартфонов с устаревшими версиями android и ios, а также всех гаджетов на базе windows phone. администрация мессенджера заявила, что будет заниматься поддержкой только тех ос, которые являются широко распространенными среди пользователей, постепенно отключая несовременные устройства от своей сети.\n",
            "Hyp: начиная с 2020 года, мессенджер whatsapp перестанет работать у миллионов пользователей по всему миру, сообщает daily mail.\n",
            "BLEU:  0.20397873375836117\n",
            "ROUGE:  {'rouge-1': {'f': 0.24923742673588392, 'p': 0.4077675133660519, 'r': 0.1896603589183097}, 'rouge-2': {'f': 0.12242856615345309, 'p': 0.20930498200298375, 'r': 0.09247819223335302}, 'rouge-l': {'f': 0.1854575364054075, 'p': 0.3707542725062542, 'r': 0.1714586476775045}}\n"
          ]
        }
      ]
    },
    {
      "cell_type": "markdown",
      "metadata": {
        "id": "HGc4IV8dzyBP"
      },
      "source": [
        "## Вывод:"
      ]
    },
    {
      "cell_type": "markdown",
      "source": [
        "Мы рассмотрели базовую архитектуру нейронных сетей для решения задач суммаризации текста на примере датасета `gazeta.ru`.\n",
        "\n",
        "\n",
        "В результате проведенной работы, мы реализовали архитектуру `SummaRNN` - `Summarunner` с `novelty`. Позиции предложений не учитывались. также добавили `bias` в архитектуру и в качестве улучшения - для паддинга был выбран индекс `2`, что позволило отделить его от классов - `0` и `1`, характеризующих признак принадлежности предложения к итоговой суммаризации текста - это позволило применять в качестве функции потерь `CrossEntropyLoss` и использовать веса при вычислении. Значительного прироста данное решение нам не дало. \n",
        "\n",
        "В обоих вариантах обучения - с весами и без - мы получили `BLEU` примерно равный `0.45`, `rouge-1` - 0.32, `rouge-2` - 0.14 - при инференсе с применением метода `top_k`. При инференсе с применением метода по классификации логитов и отнесению их к классу `1` или `0` (логит больше нуля - `1` (при применении сигмоиды мы бы получали аналогичный рузельтат)) - мы получили меньшие значения:\n",
        "\n",
        "\n",
        "для `BLEU` - `0.20`, `rouge-1` - `0.25`, `rouge-2` - `0.12`. В основном, мы получали 1-2 логита, которые характеризовали бы класс `1` (то есть были бы больше 0), соответственно - `summary` получали меньше, но стоит отметить, что неплохого качества\n",
        "\n",
        "\n",
        "Таким образом, в данном исполнении лучше использовать метод `top_k`, что позволит максимищировать `Bleu`"
      ],
      "metadata": {
        "id": "2jvy5zHf4JvJ"
      }
    },
    {
      "cell_type": "markdown",
      "source": [
        "<div style=\"float:left;margin:0 10px 10px 0\" markdown=\"1\">\n",
        "    <a href=\"#footer\"><img src='https://img.shields.io/badge/К содержанию-&#x21A9-blue'></a>\n",
        "</div>\n",
        "\n",
        "___\n"
      ],
      "metadata": {
        "id": "F368OOLYmOV6"
      }
    }
  ]
}