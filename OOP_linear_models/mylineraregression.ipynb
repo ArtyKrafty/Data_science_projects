{
  "nbformat": 4,
  "nbformat_minor": 0,
  "metadata": {
    "colab": {
      "name": "mylineraregression.ipynb",
      "provenance": [],
      "collapsed_sections": []
    },
    "kernelspec": {
      "name": "python3",
      "display_name": "Python 3"
    },
    "language_info": {
      "name": "python"
    }
  },
  "cells": [
    {
      "cell_type": "code",
      "metadata": {
        "id": "NyvS60woil99"
      },
      "source": [
        "import numpy as np\n",
        "import matplotlib.pyplot as plt"
      ],
      "execution_count": null,
      "outputs": []
    },
    {
      "cell_type": "markdown",
      "metadata": {
        "id": "xLNHhminoJa6"
      },
      "source": [
        "# Моя линейная регрессия"
      ]
    },
    {
      "cell_type": "markdown",
      "metadata": {
        "id": "207oKfdiTtHl"
      },
      "source": [
        "Аналитическое решение\n",
        "\n",
        "$$self.w = np.linalg.inv(Xtrain.T.dot(Xtrain)).dot(Xtrain.T).dot(y)$$"
      ]
    },
    {
      "cell_type": "code",
      "metadata": {
        "id": "4vKg0OFBgMDt"
      },
      "source": [
        "class LinearRgression:\n",
        "  def __init__(self, fit_intercept=True):\n",
        "    self.fit_intercept = fit_intercept\n",
        "\n",
        "  def fit(self, X, y):\n",
        "\n",
        "    X_train = X.copy()\n",
        "    \n",
        "    if self.fit_intercept:\n",
        "\n",
        "      X_b = np.c_[np.ones(X_train.shape), X_train]\n",
        "      self.w = np.linalg.pinv(X_b).dot(y)\n",
        "\n",
        "      return self\n",
        "  def predict(self, X):\n",
        "\n",
        "    X_train = X.copy()\n",
        "    \n",
        "    if self.fit_intercept:\n",
        "      X_b = np.c_[np.ones(X_train.shape), X_train]\n",
        "      y_pred = X_b.dot(self.w)\n",
        "\n",
        "      return y_pred\n",
        "  def getweights(self):\n",
        "    return self.w"
      ],
      "execution_count": null,
      "outputs": []
    },
    {
      "cell_type": "code",
      "metadata": {
        "id": "-s4VOKSgggxo"
      },
      "source": [
        "X = 3 + 4 * np.random.rand(100, 1)\n",
        "y = 1.5 * X + 10 + np.random.rand(100, 1)"
      ],
      "execution_count": null,
      "outputs": []
    },
    {
      "cell_type": "code",
      "metadata": {
        "colab": {
          "base_uri": "https://localhost:8080/",
          "height": 282
        },
        "id": "Mt85S-UCilBf",
        "outputId": "57fda652-38e4-4630-a8f5-f901ce3735d9"
      },
      "source": [
        "plt.plot(X, y, '.')"
      ],
      "execution_count": null,
      "outputs": [
        {
          "output_type": "execute_result",
          "data": {
            "text/plain": [
              "[<matplotlib.lines.Line2D at 0x7f7a7269f810>]"
            ]
          },
          "metadata": {},
          "execution_count": 4
        },
        {
          "output_type": "display_data",
          "data": {
            "image/png": "[encoded data removed]",
            "text/plain": [
              "<Figure size 432x288 with 1 Axes>"
            ]
          },
          "metadata": {
            "needs_background": "light"
          }
        }
      ]
    },
    {
      "cell_type": "code",
      "metadata": {
        "id": "YihvFiP7isdO"
      },
      "source": [
        "from sklearn.model_selection import train_test_split"
      ],
      "execution_count": null,
      "outputs": []
    },
    {
      "cell_type": "code",
      "metadata": {
        "id": "fsOEXl7ri8Ag"
      },
      "source": [
        "X_train, X_test, y_train, y_test = train_test_split(X, y, test_size=0.2, random_state=42)"
      ],
      "execution_count": null,
      "outputs": []
    },
    {
      "cell_type": "code",
      "metadata": {
        "id": "g3WeonGFjEaq"
      },
      "source": [
        "model = LinearRgression()"
      ],
      "execution_count": null,
      "outputs": []
    },
    {
      "cell_type": "code",
      "metadata": {
        "colab": {
          "base_uri": "https://localhost:8080/"
        },
        "id": "QjlJxChbjHmw",
        "outputId": "959adb78-1e2a-4f5c-cf6c-4d0e289d0613"
      },
      "source": [
        "model.fit(X_train, y_train)"
      ],
      "execution_count": null,
      "outputs": [
        {
          "output_type": "execute_result",
          "data": {
            "text/plain": [
              "<__main__.LinearRgression at 0x7f7a630081d0>"
            ]
          },
          "metadata": {},
          "execution_count": 8
        }
      ]
    },
    {
      "cell_type": "code",
      "metadata": {
        "colab": {
          "base_uri": "https://localhost:8080/"
        },
        "id": "dqO96T6MjKre",
        "outputId": "e272e2e0-193e-4efd-eff7-10a3982b5965"
      },
      "source": [
        "print(model.getweights())"
      ],
      "execution_count": null,
      "outputs": [
        {
          "output_type": "stream",
          "name": "stdout",
          "text": [
            "[[10.44790896]\n",
            " [ 1.50880693]]\n"
          ]
        }
      ]
    },
    {
      "cell_type": "code",
      "metadata": {
        "id": "0WEKRA9-j0Rk"
      },
      "source": [
        "y_pred = model.predict(X_test)"
      ],
      "execution_count": null,
      "outputs": []
    },
    {
      "cell_type": "code",
      "metadata": {
        "id": "zU7ZuYtKj6n7"
      },
      "source": [
        "from sklearn.metrics import mean_squared_error"
      ],
      "execution_count": null,
      "outputs": []
    },
    {
      "cell_type": "code",
      "metadata": {
        "colab": {
          "base_uri": "https://localhost:8080/"
        },
        "id": "7p-ISK8nkJ02",
        "outputId": "36423cd9-98b6-49a3-9489-8dd5c7ffca24"
      },
      "source": [
        "mean_squared_error(y_pred, y_test)"
      ],
      "execution_count": null,
      "outputs": [
        {
          "output_type": "execute_result",
          "data": {
            "text/plain": [
              "0.08353863122143154"
            ]
          },
          "metadata": {},
          "execution_count": 12
        }
      ]
    },
    {
      "cell_type": "code",
      "metadata": {
        "colab": {
          "base_uri": "https://localhost:8080/",
          "height": 458
        },
        "id": "Hn-PeAIXpY4X",
        "outputId": "1e8ab653-aa43-4197-cb7d-7cd16fc87e0d"
      },
      "source": [
        "plt.figure(figsize=(20, 7))\n",
        "\n",
        "ax = None\n",
        "\n",
        "for i, types in enumerate([['train', 'test'], ['train'], ['test']]):\n",
        "    ax = plt.subplot(1, 3, i + 1, sharey=ax)\n",
        "    if 'train' in types:\n",
        "        plt.scatter(X_train, y_train, label='train', c='b')\n",
        "    if 'test' in types:\n",
        "        plt.scatter(X_test, y_test, label='test', c='orange')\n",
        "\n",
        "\n",
        "    plt.plot(X_test, model.predict(X_test), label='predicted', c='r')\n",
        "\n",
        "    plt.ylabel('target')\n",
        "    plt.xlabel('feature')\n",
        "    plt.title(\" \".join(types))\n",
        "    plt.grid(alpha=0.2)\n",
        "    plt.legend()\n",
        "\n",
        "plt.show()"
      ],
      "execution_count": null,
      "outputs": [
        {
          "output_type": "display_data",
          "data": {
            "image/png": "[encoded data removed]",
            "text/plain": [
              "<Figure size 1440x504 with 3 Axes>"
            ]
          },
          "metadata": {
            "needs_background": "light"
          }
        }
      ]
    },
    {
      "cell_type": "markdown",
      "metadata": {
        "id": "t5z1sSFzoN7h"
      },
      "source": [
        "# Sklearn линейная регрессия"
      ]
    },
    {
      "cell_type": "code",
      "metadata": {
        "id": "EukMHZaHnBJt"
      },
      "source": [
        "from sklearn.linear_model import LinearRegression"
      ],
      "execution_count": null,
      "outputs": []
    },
    {
      "cell_type": "code",
      "metadata": {
        "id": "YSvTQo4OnHud"
      },
      "source": [
        "model = LinearRegression()"
      ],
      "execution_count": null,
      "outputs": []
    },
    {
      "cell_type": "code",
      "metadata": {
        "colab": {
          "base_uri": "https://localhost:8080/"
        },
        "id": "z4nTptjPnMuh",
        "outputId": "8821f458-60ce-4abd-b882-b4ce06d7f12b"
      },
      "source": [
        "model.fit(X_train, y_train)"
      ],
      "execution_count": null,
      "outputs": [
        {
          "output_type": "execute_result",
          "data": {
            "text/plain": [
              "LinearRegression(copy_X=True, fit_intercept=True, n_jobs=None, normalize=False)"
            ]
          },
          "metadata": {},
          "execution_count": 16
        }
      ]
    },
    {
      "cell_type": "code",
      "metadata": {
        "id": "Us9gstJMnNmz"
      },
      "source": [
        "y_pred = model.predict(X_test)"
      ],
      "execution_count": null,
      "outputs": []
    },
    {
      "cell_type": "code",
      "metadata": {
        "colab": {
          "base_uri": "https://localhost:8080/"
        },
        "id": "WNdofB3AbsaO",
        "outputId": "0c5e3af9-810d-4883-d7de-47bebbb900f3"
      },
      "source": [
        "mean_squared_error(y_pred, y_test)"
      ],
      "execution_count": null,
      "outputs": [
        {
          "output_type": "execute_result",
          "data": {
            "text/plain": [
              "0.08353863122143187"
            ]
          },
          "metadata": {},
          "execution_count": 18
        }
      ]
    },
    {
      "cell_type": "markdown",
      "metadata": {
        "id": "_eUc7Dho10Us"
      },
      "source": [
        "### Градиентная оптимизация"
      ]
    },
    {
      "cell_type": "code",
      "metadata": {
        "id": "MFc5SPwo6dws"
      },
      "source": [
        "class BoostLinearRegressor(LinearRgression):\n",
        "  def __init__(self, **kwargs):\n",
        "    super().__init__(**kwargs)\n",
        "    self.w = None\n",
        "\n",
        "\n",
        "  def fit(self, X, y, lr=0.01, max_iter=100000):\n",
        "    X_train = X.copy()\n",
        "    if self.w is None:\n",
        "      self.w = np.random.rand(X_train.shape[1] + 1, 1)  if self.fit_intercept else X_train.shape[1]\n",
        "      X_b = np.c_[np.ones(X_train.shape), X_train] if self.fit_intercept else X_train\n",
        "\n",
        "      self.losses = []\n",
        "\n",
        "      for _ in range(max_iter):\n",
        "        y_pred = X_b.dot(self.w)\n",
        "        self.losses.append(mean_squared_error(y_pred, y))\n",
        "        gradients = self._calc_gradient(X_b, y)\n",
        "        assert gradients.shape == self.w.shape, f\"gradient shape {gradients.shape} \\\n",
        "        is not equal weight shape {self.w.shape}\"\n",
        "        self.w -= lr * gradients\n",
        "\n",
        "    return self\n",
        "  \n",
        "  def _calc_gradient(self, X, y):\n",
        "    gradients = 2/X_train.shape[0] * X.T.dot(X.dot(self.w) - y)\n",
        "    return gradients\n",
        "\n",
        "\n",
        "  def get_losses(self):\n",
        "    return self.losses"
      ],
      "execution_count": null,
      "outputs": []
    },
    {
      "cell_type": "code",
      "metadata": {
        "id": "YFnJNxa08dVB"
      },
      "source": [
        "model = BoostLinearRegressor(fit_intercept=True)"
      ],
      "execution_count": null,
      "outputs": []
    },
    {
      "cell_type": "code",
      "metadata": {
        "colab": {
          "base_uri": "https://localhost:8080/"
        },
        "id": "NeRWhwFO8f4D",
        "outputId": "cd531e1a-ca0a-419c-9507-dc94e9e38878"
      },
      "source": [
        "model.fit(X_train, y_train)"
      ],
      "execution_count": null,
      "outputs": [
        {
          "output_type": "execute_result",
          "data": {
            "text/plain": [
              "<__main__.BoostLinearRegressor at 0x7f7a61440ad0>"
            ]
          },
          "metadata": {},
          "execution_count": 29
        }
      ]
    },
    {
      "cell_type": "code",
      "metadata": {
        "id": "TdIWpLa18qcA"
      },
      "source": [
        "y_pred = model.predict(X_test)"
      ],
      "execution_count": null,
      "outputs": []
    },
    {
      "cell_type": "code",
      "metadata": {
        "colab": {
          "base_uri": "https://localhost:8080/"
        },
        "id": "XVPAzg1V8sn9",
        "outputId": "37e45002-bdd2-431e-b082-fa5294ee93bf"
      },
      "source": [
        "mean_squared_error(y_pred, y_test)"
      ],
      "execution_count": null,
      "outputs": [
        {
          "output_type": "execute_result",
          "data": {
            "text/plain": [
              "0.08353863122140731"
            ]
          },
          "metadata": {},
          "execution_count": 32
        }
      ]
    },
    {
      "cell_type": "markdown",
      "metadata": {
        "id": "NzKoHBaqGPf8"
      },
      "source": [
        "### SGD"
      ]
    },
    {
      "cell_type": "code",
      "metadata": {
        "id": "QkS5pjd7FtzR"
      },
      "source": [
        "class SGDLinearRegression(BoostLinearRegressor):\n",
        "    def __init__(self, n_sample = 2, **kwargs):\n",
        "        super().__init__(**kwargs)\n",
        "        self.w = None\n",
        "        self.n_sample = n_sample\n",
        "\n",
        "    def _calc_gradient(self, X, y):\n",
        "        idx = np.random.choice(np.arange(X.shape[0]), size=self.n_sample, replace=False)\n",
        "        gradients = 2* X[idx].T.dot(X[idx].dot(self.w) - y[idx])\n",
        "        return gradients"
      ],
      "execution_count": null,
      "outputs": []
    },
    {
      "cell_type": "code",
      "metadata": {
        "id": "G_X9czsiHeXK"
      },
      "source": [
        "model = SGDLinearRegression(n_sample=2)"
      ],
      "execution_count": null,
      "outputs": []
    },
    {
      "cell_type": "code",
      "metadata": {
        "colab": {
          "base_uri": "https://localhost:8080/"
        },
        "id": "64_YDFB0Hf_z",
        "outputId": "a8ddb9c9-c38a-4566-fbfd-5a79ee2d109f"
      },
      "source": [
        "model.fit(X_train, y_train)"
      ],
      "execution_count": null,
      "outputs": [
        {
          "output_type": "execute_result",
          "data": {
            "text/plain": [
              "<__main__.SGDLinearRegression at 0x7f5a5b5991d0>"
            ]
          },
          "metadata": {},
          "execution_count": 57
        }
      ]
    },
    {
      "cell_type": "code",
      "metadata": {
        "id": "j4-K6HqxHh02"
      },
      "source": [
        "y_pred = model.predict(X_test)"
      ],
      "execution_count": null,
      "outputs": []
    },
    {
      "cell_type": "code",
      "metadata": {
        "colab": {
          "base_uri": "https://localhost:8080/"
        },
        "id": "X2NOrmmnHpDP",
        "outputId": "3eccd10b-481f-4366-99a5-15fb18474b9d"
      },
      "source": [
        "mean_squared_error(y_pred, y_test)"
      ],
      "execution_count": null,
      "outputs": [
        {
          "output_type": "execute_result",
          "data": {
            "text/plain": [
              "0.11431698865277924"
            ]
          },
          "metadata": {},
          "execution_count": 59
        }
      ]
    },
    {
      "cell_type": "code",
      "metadata": {
        "colab": {
          "base_uri": "https://localhost:8080/"
        },
        "id": "hhCuRgRiHp0d",
        "outputId": "7ef1e5da-a267-4bcc-b8cd-1d1b03c4b801"
      },
      "source": [
        "n_samples = [1, 2, 3, 6, 7]\n",
        "for n in n_samples:\n",
        "  model = SGDLinearRegression(n_sample=n)\n",
        "  model.fit(X_train, y_train, max_iter=10000)\n",
        "  y_pred = model.predict(X_test)\n",
        "  print(mean_squared_error(y_pred, y_test))"
      ],
      "execution_count": null,
      "outputs": [
        {
          "output_type": "stream",
          "name": "stdout",
          "text": [
            "0.1195478997528981\n",
            "0.10814349518864522\n",
            "0.10952359081159599\n",
            "0.11088670005586562\n",
            "0.12420258236404821\n"
          ]
        }
      ]
    },
    {
      "cell_type": "code",
      "metadata": {
        "colab": {
          "base_uri": "https://localhost:8080/",
          "height": 458
        },
        "id": "UD2hPp06QHJf",
        "outputId": "51f784a7-3c35-45f6-85b5-7462baa6d897"
      },
      "source": [
        "plt.figure(figsize=(10, 7))\n",
        "\n",
        "for ns in n_samples:\n",
        "    l = SGDLinearRegression(n_sample=n).fit(X_train, y_train, max_iter=20).get_losses()\n",
        "    plt.plot(l, alpha=0.5, label=f'{ns} mini-batch size')\n",
        "\n",
        "plt.title('Gradient descent learning')\n",
        "plt.ylabel('loss')\n",
        "plt.xlabel('iteration')\n",
        "\n",
        "plt.legend()\n",
        "plt.ylim((0, 150))\n",
        "plt.grid(alpha=0.2)\n",
        "plt.show()"
      ],
      "execution_count": null,
      "outputs": [
        {
          "output_type": "display_data",
          "data": {
            "image/png": "[encoded data removed]",
            "text/plain": [
              "<Figure size 720x504 with 1 Axes>"
            ]
          },
          "metadata": {
            "needs_background": "light"
          }
        }
      ]
    },
    {
      "cell_type": "markdown",
      "metadata": {
        "id": "NLZJmmn9S5Fr"
      },
      "source": [
        "### LR schedule - с понижением lr. адаптивный"
      ]
    },
    {
      "cell_type": "code",
      "metadata": {
        "id": "AmD4VRkvQv0c"
      },
      "source": [
        "class SGDLinearRegressionSuper(BoostLinearRegressor):\n",
        "    def __init__(self, t0=5, t1=50, **kwargs):\n",
        "        super().__init__(**kwargs)\n",
        "        self.w = None\n",
        "        self.t0 = t0\n",
        "        self.t1 = t1\n",
        "\n",
        "    \n",
        "    def fit(self, X, y, lr=0.1, max_iter=10000):\n",
        "      X_train = X.copy()\n",
        "      if self.w is None:\n",
        "        self.w = np.random.rand(X_train.shape[1] + 1, 1)  if self.fit_intercept else X_train.shape[1]\n",
        "        X_b = np.c_[np.ones(X_train.shape), X_train] if self.fit_intercept else X_train\n",
        "\n",
        "        self.losses = []\n",
        "\n",
        "      m = X_b.shape[0]\n",
        "      for epoch in range(1, max_iter):\n",
        "        for i in range(m):\n",
        "          random_idx = np.random.randint(m)\n",
        "          xi = X_b[random_idx:random_idx+1]\n",
        "          yi = y[random_idx:random_idx+1]\n",
        "          gradients = 2 * xi.T.dot(xi.dot(self.w) - yi)\n",
        "          t = epoch * m + i\n",
        "          lr = self._learning_shedule(t)\n",
        "          self.w = self.w - lr * gradients\n",
        "\n",
        "      return self\n",
        "\n",
        "    def _learning_shedule(self, t):\n",
        "      return self.t0 /(t + self.t1)\n"
      ],
      "execution_count": null,
      "outputs": []
    },
    {
      "cell_type": "code",
      "metadata": {
        "id": "7y--GYjvRwPQ"
      },
      "source": [
        "model = SGDLinearRegressionSuper()"
      ],
      "execution_count": null,
      "outputs": []
    },
    {
      "cell_type": "code",
      "metadata": {
        "colab": {
          "base_uri": "https://localhost:8080/"
        },
        "id": "XO686zcqRy3l",
        "outputId": "c769a095-714b-4b91-eb65-f50ddca61c3f"
      },
      "source": [
        "model.fit(X_train, y_train)"
      ],
      "execution_count": null,
      "outputs": [
        {
          "output_type": "execute_result",
          "data": {
            "text/plain": [
              "<__main__.SGDLinearRegressionSuper at 0x7f5a5ac89f10>"
            ]
          },
          "metadata": {},
          "execution_count": 92
        }
      ]
    },
    {
      "cell_type": "code",
      "metadata": {
        "id": "406J4zLNSUTQ"
      },
      "source": [
        "y_pred = model.predict(X_test)"
      ],
      "execution_count": null,
      "outputs": []
    },
    {
      "cell_type": "code",
      "metadata": {
        "colab": {
          "base_uri": "https://localhost:8080/"
        },
        "id": "TXA0sGXSSYni",
        "outputId": "1a365928-9f9b-4219-fec7-eedc13bffd97"
      },
      "source": [
        "mean_squared_error(y_pred, y_test)"
      ],
      "execution_count": null,
      "outputs": [
        {
          "output_type": "execute_result",
          "data": {
            "text/plain": [
              "0.13671356998493653"
            ]
          },
          "metadata": {},
          "execution_count": 94
        }
      ]
    },
    {
      "cell_type": "markdown",
      "metadata": {
        "id": "LtWlbrLyLBIT"
      },
      "source": [
        "### Логистическая регрессия\n"
      ]
    },
    {
      "cell_type": "code",
      "metadata": {
        "id": "1ES0W5q2LLfZ"
      },
      "source": [
        "def logit(x, w):\n",
        "    return np.dot(x, w)\n",
        "\n",
        "def sigmoid(h):\n",
        "    return 1. / (1 + np.exp(-h))\n",
        "\n",
        "class MyLogisticRegression(object):\n",
        "    def __init__(self):\n",
        "        self.w = None\n",
        "    \n",
        "    def fit(self, X, y, max_iter=100, lr=0.1):\n",
        "\n",
        "        \n",
        "        n, k = X.shape\n",
        "        \n",
        "        if self.w is None:\n",
        "            self.w = np.random.randn(k + 1)\n",
        "        \n",
        "        X_train = np.concatenate((np.ones((n, 1)), X), axis=1)\n",
        "        \n",
        "        losses = []\n",
        "        \n",
        "        for iter_num in range(max_iter):\n",
        "            z = sigmoid(logit(X_train, self.w))\n",
        "            grad = np.dot(X_train.T, (z - y)) / len(y)\n",
        "\n",
        "            self.w -= grad * lr\n",
        "\n",
        "            losses.append(self.__loss(y, z))\n",
        "        \n",
        "        return losses\n",
        "        \n",
        "    def predict_proba(self, X):\n",
        "\n",
        "        n, k = X.shape\n",
        "        X_ = np.concatenate((np.ones((n, 1)), X), axis=1)\n",
        "        return sigmoid(logit(X_, self.w))\n",
        "\n",
        "    def predict(self, X, threshold=0.5):\n",
        "        return self.predict_proba(X) >= threshold\n",
        "    \n",
        "    def get_weights(self):\n",
        "        return self.w\n",
        "      \n",
        "    def __loss(self, y, p):\n",
        "        p = np.clip(p, 1e-10, 1 - 1e-10)\n",
        "        return np.mean(y * np.log(p) + (1 - y) * np.log(1 - p))"
      ],
      "execution_count": null,
      "outputs": []
    },
    {
      "cell_type": "code",
      "metadata": {
        "id": "PwqkHNkEd05A"
      },
      "source": [
        "class MyRidgeRegression(MyLinearRegression):\n",
        "    def __init__(self, alpha=1.0, **kwargs):\n",
        "        super().__init__(**kwargs)\n",
        "        self.alpha = alpha\n",
        "    \n",
        "    def fit(self, X, y):\n",
        "        n, m = X.shape\n",
        "        X_train = X\n",
        "\n",
        "        if self.fit_intercept:\n",
        "            X_train = np.hstack((X, np.ones((n, 1))))\n",
        "        \n",
        "        lambdaI = self.alpha * np.eye(X_train.shape[1])\n",
        "        if self.fit_intercept:\n",
        "            lambdaI[-1, -1] = 0\n",
        "\n",
        "        self.w = np.linalg.inv(X_train.T @ X_train + lambdaI) @ X_train.T @ y\n",
        "\n",
        "        return self\n",
        "\n",
        "    def get_weights(self):\n",
        "        return self.w"
      ],
      "execution_count": null,
      "outputs": []
    },
    {
      "cell_type": "code",
      "metadata": {
        "id": "aEffBadqd5p1"
      },
      "source": [
        "def soft_sign(x, eps=1e-7):\n",
        "    if abs(x) > eps:\n",
        "        return np.sign(x)\n",
        "    return x / eps\n",
        "\n",
        "np_soft_sign = np.vectorize(soft_sign)\n",
        "\n",
        "class MySGDLasso(MySGDLinearRegression):\n",
        "    def __init__(self, alpha=1.0, **kwargs):\n",
        "        super().__init__(**kwargs)\n",
        "        self.w = None\n",
        "        self.alpha = alpha\n",
        "\n",
        "    def _calc_gradient(self, X, y, y_pred):\n",
        "        \n",
        "        inds = np.random.choice(np.arange(X.shape[0]), size=self.n_sample, replace=False)\n",
        "\n",
        "        signw = np_soft_sign(self.w)\n",
        "        if self.fit_intercept:\n",
        "            signw[-1] = 0\n",
        "\n",
        "        grad = X[inds].T @ (y_pred[inds] - y[inds])[:, np.newaxis] / self.n_sample\n",
        "        grad += self.alpha * signw[:, np.newaxis]\n",
        "\n",
        "        return grad.flatten()"
      ],
      "execution_count": null,
      "outputs": []
    }
  ]
}