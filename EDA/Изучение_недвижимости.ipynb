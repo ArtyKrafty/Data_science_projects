{
  "nbformat": 4,
  "nbformat_minor": 0,
  "metadata": {
    "kernelspec": {
      "display_name": "Python 3",
      "language": "python",
      "name": "python3"
    },
    "language_info": {
      "codemirror_mode": {
        "name": "ipython",
        "version": 3
      },
      "file_extension": ".py",
      "mimetype": "text/x-python",
      "name": "python",
      "nbconvert_exporter": "python",
      "pygments_lexer": "ipython3",
      "version": "3.7.8"
    },
    "toc": {
      "base_numbering": 1,
      "nav_menu": {},
      "number_sections": true,
      "sideBar": true,
      "skip_h1_title": true,
      "title_cell": "Table of Contents",
      "title_sidebar": "Contents",
      "toc_cell": false,
      "toc_position": {
        "height": "calc(100% - 180px)",
        "left": "10px",
        "top": "150px",
        "width": "366.391px"
      },
      "toc_section_display": true,
      "toc_window_display": true
    },
    "colab": {
      "name": "Изучение недвижимости.ipynb",
      "provenance": []
    }
  },
  "cells": [
    {
      "cell_type": "markdown",
      "metadata": {
        "id": "utbjMhEuhP6i"
      },
      "source": [
        "# Исследование объявлений о продаже квартир\n",
        "\n",
        "В вашем распоряжении данные сервиса Яндекс.Недвижимость — архив объявлений о продаже квартир в Санкт-Петербурге и соседних населённых пунктов за несколько лет. Нужно научиться определять рыночную стоимость объектов недвижимости. Ваша задача — установить параметры. Это позволит построить автоматизированную систему: она отследит аномалии и мошенническую деятельность. \n",
        "\n",
        "По каждой квартире на продажу доступны два вида данных. Первые вписаны пользователем, вторые — получены автоматически на основе картографических данных. Например, расстояние до центра, аэропорта, ближайшего парка и водоёма. "
      ]
    },
    {
      "cell_type": "markdown",
      "metadata": {
        "id": "QWBAdBsmhP6j"
      },
      "source": [
        "### Получение данных\n"
      ]
    },
    {
      "cell_type": "markdown",
      "metadata": {
        "id": "FCVWU0aShP6k"
      },
      "source": [
        "#### Загрузка и просмотр данных"
      ]
    },
    {
      "cell_type": "code",
      "metadata": {
        "colab": {
          "base_uri": "https://localhost:8080/",
          "height": 566
        },
        "id": "H_jF69q3hP6k",
        "outputId": "230b4837-75ac-40da-a995-f6da9a72fdab"
      },
      "source": [
        "# импортируем необходимые библиотеки и посмотрим 10 первых строк таблицы\n",
        "\n",
        "import pandas as pd\n",
        "import matplotlib.pyplot as plt\n",
        "import seaborn as sns\n",
        "import numpy as np\n",
        "from collections import Counter\n",
        "df = pd.read_csv('/content/real_estate_data.csv', sep='\\t')\n",
        "df.head(10)"
      ],
      "execution_count": null,
      "outputs": [
        {
          "output_type": "execute_result",
          "data": {
            "text/html": [
              "<div>\n",
              "<style scoped>\n",
              "    .dataframe tbody tr th:only-of-type {\n",
              "        vertical-align: middle;\n",
              "    }\n",
              "\n",
              "    .dataframe tbody tr th {\n",
              "        vertical-align: top;\n",
              "    }\n",
              "\n",
              "    .dataframe thead th {\n",
              "        text-align: right;\n",
              "    }\n",
              "</style>\n",
              "<table border=\"1\" class=\"dataframe\">\n",
              "  <thead>\n",
              "    <tr style=\"text-align: right;\">\n",
              "      <th></th>\n",
              "      <th>total_images</th>\n",
              "      <th>last_price</th>\n",
              "      <th>total_area</th>\n",
              "      <th>first_day_exposition</th>\n",
              "      <th>rooms</th>\n",
              "      <th>ceiling_height</th>\n",
              "      <th>floors_total</th>\n",
              "      <th>living_area</th>\n",
              "      <th>floor</th>\n",
              "      <th>is_apartment</th>\n",
              "      <th>studio</th>\n",
              "      <th>open_plan</th>\n",
              "      <th>kitchen_area</th>\n",
              "      <th>balcony</th>\n",
              "      <th>locality_name</th>\n",
              "      <th>airports_nearest</th>\n",
              "      <th>cityCenters_nearest</th>\n",
              "      <th>parks_around3000</th>\n",
              "      <th>parks_nearest</th>\n",
              "      <th>ponds_around3000</th>\n",
              "      <th>ponds_nearest</th>\n",
              "      <th>days_exposition</th>\n",
              "    </tr>\n",
              "  </thead>\n",
              "  <tbody>\n",
              "    <tr>\n",
              "      <th>0</th>\n",
              "      <td>20</td>\n",
              "      <td>13000000.0</td>\n",
              "      <td>108.00</td>\n",
              "      <td>2019-03-07T00:00:00</td>\n",
              "      <td>3</td>\n",
              "      <td>2.70</td>\n",
              "      <td>16.0</td>\n",
              "      <td>51.00</td>\n",
              "      <td>8</td>\n",
              "      <td>NaN</td>\n",
              "      <td>False</td>\n",
              "      <td>False</td>\n",
              "      <td>25.00</td>\n",
              "      <td>NaN</td>\n",
              "      <td>Санкт-Петербург</td>\n",
              "      <td>18863.0</td>\n",
              "      <td>16028.0</td>\n",
              "      <td>1.0</td>\n",
              "      <td>482.0</td>\n",
              "      <td>2.0</td>\n",
              "      <td>755.0</td>\n",
              "      <td>NaN</td>\n",
              "    </tr>\n",
              "    <tr>\n",
              "      <th>1</th>\n",
              "      <td>7</td>\n",
              "      <td>3350000.0</td>\n",
              "      <td>40.40</td>\n",
              "      <td>2018-12-04T00:00:00</td>\n",
              "      <td>1</td>\n",
              "      <td>NaN</td>\n",
              "      <td>11.0</td>\n",
              "      <td>18.60</td>\n",
              "      <td>1</td>\n",
              "      <td>NaN</td>\n",
              "      <td>False</td>\n",
              "      <td>False</td>\n",
              "      <td>11.00</td>\n",
              "      <td>2.0</td>\n",
              "      <td>посёлок Шушары</td>\n",
              "      <td>12817.0</td>\n",
              "      <td>18603.0</td>\n",
              "      <td>0.0</td>\n",
              "      <td>NaN</td>\n",
              "      <td>0.0</td>\n",
              "      <td>NaN</td>\n",
              "      <td>81.0</td>\n",
              "    </tr>\n",
              "    <tr>\n",
              "      <th>2</th>\n",
              "      <td>10</td>\n",
              "      <td>5196000.0</td>\n",
              "      <td>56.00</td>\n",
              "      <td>2015-08-20T00:00:00</td>\n",
              "      <td>2</td>\n",
              "      <td>NaN</td>\n",
              "      <td>5.0</td>\n",
              "      <td>34.30</td>\n",
              "      <td>4</td>\n",
              "      <td>NaN</td>\n",
              "      <td>False</td>\n",
              "      <td>False</td>\n",
              "      <td>8.30</td>\n",
              "      <td>0.0</td>\n",
              "      <td>Санкт-Петербург</td>\n",
              "      <td>21741.0</td>\n",
              "      <td>13933.0</td>\n",
              "      <td>1.0</td>\n",
              "      <td>90.0</td>\n",
              "      <td>2.0</td>\n",
              "      <td>574.0</td>\n",
              "      <td>558.0</td>\n",
              "    </tr>\n",
              "    <tr>\n",
              "      <th>3</th>\n",
              "      <td>0</td>\n",
              "      <td>64900000.0</td>\n",
              "      <td>159.00</td>\n",
              "      <td>2015-07-24T00:00:00</td>\n",
              "      <td>3</td>\n",
              "      <td>NaN</td>\n",
              "      <td>14.0</td>\n",
              "      <td>NaN</td>\n",
              "      <td>9</td>\n",
              "      <td>NaN</td>\n",
              "      <td>False</td>\n",
              "      <td>False</td>\n",
              "      <td>NaN</td>\n",
              "      <td>0.0</td>\n",
              "      <td>Санкт-Петербург</td>\n",
              "      <td>28098.0</td>\n",
              "      <td>6800.0</td>\n",
              "      <td>2.0</td>\n",
              "      <td>84.0</td>\n",
              "      <td>3.0</td>\n",
              "      <td>234.0</td>\n",
              "      <td>424.0</td>\n",
              "    </tr>\n",
              "    <tr>\n",
              "      <th>4</th>\n",
              "      <td>2</td>\n",
              "      <td>10000000.0</td>\n",
              "      <td>100.00</td>\n",
              "      <td>2018-06-19T00:00:00</td>\n",
              "      <td>2</td>\n",
              "      <td>3.03</td>\n",
              "      <td>14.0</td>\n",
              "      <td>32.00</td>\n",
              "      <td>13</td>\n",
              "      <td>NaN</td>\n",
              "      <td>False</td>\n",
              "      <td>False</td>\n",
              "      <td>41.00</td>\n",
              "      <td>NaN</td>\n",
              "      <td>Санкт-Петербург</td>\n",
              "      <td>31856.0</td>\n",
              "      <td>8098.0</td>\n",
              "      <td>2.0</td>\n",
              "      <td>112.0</td>\n",
              "      <td>1.0</td>\n",
              "      <td>48.0</td>\n",
              "      <td>121.0</td>\n",
              "    </tr>\n",
              "    <tr>\n",
              "      <th>5</th>\n",
              "      <td>10</td>\n",
              "      <td>2890000.0</td>\n",
              "      <td>30.40</td>\n",
              "      <td>2018-09-10T00:00:00</td>\n",
              "      <td>1</td>\n",
              "      <td>NaN</td>\n",
              "      <td>12.0</td>\n",
              "      <td>14.40</td>\n",
              "      <td>5</td>\n",
              "      <td>NaN</td>\n",
              "      <td>False</td>\n",
              "      <td>False</td>\n",
              "      <td>9.10</td>\n",
              "      <td>NaN</td>\n",
              "      <td>городской посёлок Янино-1</td>\n",
              "      <td>NaN</td>\n",
              "      <td>NaN</td>\n",
              "      <td>NaN</td>\n",
              "      <td>NaN</td>\n",
              "      <td>NaN</td>\n",
              "      <td>NaN</td>\n",
              "      <td>55.0</td>\n",
              "    </tr>\n",
              "    <tr>\n",
              "      <th>6</th>\n",
              "      <td>6</td>\n",
              "      <td>3700000.0</td>\n",
              "      <td>37.30</td>\n",
              "      <td>2017-11-02T00:00:00</td>\n",
              "      <td>1</td>\n",
              "      <td>NaN</td>\n",
              "      <td>26.0</td>\n",
              "      <td>10.60</td>\n",
              "      <td>6</td>\n",
              "      <td>NaN</td>\n",
              "      <td>False</td>\n",
              "      <td>False</td>\n",
              "      <td>14.40</td>\n",
              "      <td>1.0</td>\n",
              "      <td>посёлок Парголово</td>\n",
              "      <td>52996.0</td>\n",
              "      <td>19143.0</td>\n",
              "      <td>0.0</td>\n",
              "      <td>NaN</td>\n",
              "      <td>0.0</td>\n",
              "      <td>NaN</td>\n",
              "      <td>155.0</td>\n",
              "    </tr>\n",
              "    <tr>\n",
              "      <th>7</th>\n",
              "      <td>5</td>\n",
              "      <td>7915000.0</td>\n",
              "      <td>71.60</td>\n",
              "      <td>2019-04-18T00:00:00</td>\n",
              "      <td>2</td>\n",
              "      <td>NaN</td>\n",
              "      <td>24.0</td>\n",
              "      <td>NaN</td>\n",
              "      <td>22</td>\n",
              "      <td>NaN</td>\n",
              "      <td>False</td>\n",
              "      <td>False</td>\n",
              "      <td>18.90</td>\n",
              "      <td>2.0</td>\n",
              "      <td>Санкт-Петербург</td>\n",
              "      <td>23982.0</td>\n",
              "      <td>11634.0</td>\n",
              "      <td>0.0</td>\n",
              "      <td>NaN</td>\n",
              "      <td>0.0</td>\n",
              "      <td>NaN</td>\n",
              "      <td>NaN</td>\n",
              "    </tr>\n",
              "    <tr>\n",
              "      <th>8</th>\n",
              "      <td>20</td>\n",
              "      <td>2900000.0</td>\n",
              "      <td>33.16</td>\n",
              "      <td>2018-05-23T00:00:00</td>\n",
              "      <td>1</td>\n",
              "      <td>NaN</td>\n",
              "      <td>27.0</td>\n",
              "      <td>15.43</td>\n",
              "      <td>26</td>\n",
              "      <td>NaN</td>\n",
              "      <td>False</td>\n",
              "      <td>False</td>\n",
              "      <td>8.81</td>\n",
              "      <td>NaN</td>\n",
              "      <td>посёлок Мурино</td>\n",
              "      <td>NaN</td>\n",
              "      <td>NaN</td>\n",
              "      <td>NaN</td>\n",
              "      <td>NaN</td>\n",
              "      <td>NaN</td>\n",
              "      <td>NaN</td>\n",
              "      <td>189.0</td>\n",
              "    </tr>\n",
              "    <tr>\n",
              "      <th>9</th>\n",
              "      <td>18</td>\n",
              "      <td>5400000.0</td>\n",
              "      <td>61.00</td>\n",
              "      <td>2017-02-26T00:00:00</td>\n",
              "      <td>3</td>\n",
              "      <td>2.50</td>\n",
              "      <td>9.0</td>\n",
              "      <td>43.60</td>\n",
              "      <td>7</td>\n",
              "      <td>NaN</td>\n",
              "      <td>False</td>\n",
              "      <td>False</td>\n",
              "      <td>6.50</td>\n",
              "      <td>2.0</td>\n",
              "      <td>Санкт-Петербург</td>\n",
              "      <td>50898.0</td>\n",
              "      <td>15008.0</td>\n",
              "      <td>0.0</td>\n",
              "      <td>NaN</td>\n",
              "      <td>0.0</td>\n",
              "      <td>NaN</td>\n",
              "      <td>289.0</td>\n",
              "    </tr>\n",
              "  </tbody>\n",
              "</table>\n",
              "</div>"
            ],
            "text/plain": [
              "   total_images  last_price  ...  ponds_nearest days_exposition\n",
              "0            20  13000000.0  ...          755.0             NaN\n",
              "1             7   3350000.0  ...            NaN            81.0\n",
              "2            10   5196000.0  ...          574.0           558.0\n",
              "3             0  64900000.0  ...          234.0           424.0\n",
              "4             2  10000000.0  ...           48.0           121.0\n",
              "5            10   2890000.0  ...            NaN            55.0\n",
              "6             6   3700000.0  ...            NaN           155.0\n",
              "7             5   7915000.0  ...            NaN             NaN\n",
              "8            20   2900000.0  ...            NaN           189.0\n",
              "9            18   5400000.0  ...            NaN           289.0\n",
              "\n",
              "[10 rows x 22 columns]"
            ]
          },
          "metadata": {
            "tags": []
          },
          "execution_count": 4
        }
      ]
    },
    {
      "cell_type": "markdown",
      "metadata": {
        "id": "qwomKz5ihP6l"
      },
      "source": [
        "Получим общую информацию о данных таблицы df, применив метод info()"
      ]
    },
    {
      "cell_type": "code",
      "metadata": {
        "colab": {
          "base_uri": "https://localhost:8080/"
        },
        "id": "gAqwx2mJhP6l",
        "outputId": "013aa51a-d9b0-4db1-cc36-f3c45503dc32"
      },
      "source": [
        "df.info()"
      ],
      "execution_count": null,
      "outputs": [
        {
          "output_type": "stream",
          "text": [
            "<class 'pandas.core.frame.DataFrame'>\n",
            "RangeIndex: 23699 entries, 0 to 23698\n",
            "Data columns (total 22 columns):\n",
            " #   Column                Non-Null Count  Dtype  \n",
            "---  ------                --------------  -----  \n",
            " 0   total_images          23699 non-null  int64  \n",
            " 1   last_price            23699 non-null  float64\n",
            " 2   total_area            23699 non-null  float64\n",
            " 3   first_day_exposition  23699 non-null  object \n",
            " 4   rooms                 23699 non-null  int64  \n",
            " 5   ceiling_height        14504 non-null  float64\n",
            " 6   floors_total          23613 non-null  float64\n",
            " 7   living_area           21796 non-null  float64\n",
            " 8   floor                 23699 non-null  int64  \n",
            " 9   is_apartment          2775 non-null   object \n",
            " 10  studio                23699 non-null  bool   \n",
            " 11  open_plan             23699 non-null  bool   \n",
            " 12  kitchen_area          21421 non-null  float64\n",
            " 13  balcony               12180 non-null  float64\n",
            " 14  locality_name         23650 non-null  object \n",
            " 15  airports_nearest      18157 non-null  float64\n",
            " 16  cityCenters_nearest   18180 non-null  float64\n",
            " 17  parks_around3000      18181 non-null  float64\n",
            " 18  parks_nearest         8079 non-null   float64\n",
            " 19  ponds_around3000      18181 non-null  float64\n",
            " 20  ponds_nearest         9110 non-null   float64\n",
            " 21  days_exposition       20518 non-null  float64\n",
            "dtypes: bool(2), float64(14), int64(3), object(3)\n",
            "memory usage: 3.7+ MB\n"
          ],
          "name": "stdout"
        }
      ]
    },
    {
      "cell_type": "markdown",
      "metadata": {
        "id": "wUd_WBTjhP6l"
      },
      "source": [
        "\n"
      ]
    },
    {
      "cell_type": "markdown",
      "metadata": {
        "id": "t7fD3V7_hP6l"
      },
      "source": [
        "Названия столбцов приемлемы для работы, за ислючением столбца `cityCenters_nearest`. Изменим регистр букв на нижний"
      ]
    },
    {
      "cell_type": "code",
      "metadata": {
        "id": "9QRbmCOghP6m"
      },
      "source": [
        "df.columns = df.columns.str.lower()"
      ],
      "execution_count": null,
      "outputs": []
    },
    {
      "cell_type": "code",
      "metadata": {
        "colab": {
          "base_uri": "https://localhost:8080/",
          "height": 317
        },
        "id": "Xnn1HHgKhP6m",
        "outputId": "5169279d-566b-45cd-eaa2-eaa22812febf"
      },
      "source": [
        "# узнаем уровень разброса значений в исследуемых данных\n",
        "df.describe()\n"
      ],
      "execution_count": null,
      "outputs": [
        {
          "output_type": "execute_result",
          "data": {
            "text/html": [
              "<div>\n",
              "<style scoped>\n",
              "    .dataframe tbody tr th:only-of-type {\n",
              "        vertical-align: middle;\n",
              "    }\n",
              "\n",
              "    .dataframe tbody tr th {\n",
              "        vertical-align: top;\n",
              "    }\n",
              "\n",
              "    .dataframe thead th {\n",
              "        text-align: right;\n",
              "    }\n",
              "</style>\n",
              "<table border=\"1\" class=\"dataframe\">\n",
              "  <thead>\n",
              "    <tr style=\"text-align: right;\">\n",
              "      <th></th>\n",
              "      <th>total_images</th>\n",
              "      <th>last_price</th>\n",
              "      <th>total_area</th>\n",
              "      <th>rooms</th>\n",
              "      <th>ceiling_height</th>\n",
              "      <th>floors_total</th>\n",
              "      <th>living_area</th>\n",
              "      <th>floor</th>\n",
              "      <th>kitchen_area</th>\n",
              "      <th>balcony</th>\n",
              "      <th>airports_nearest</th>\n",
              "      <th>citycenters_nearest</th>\n",
              "      <th>parks_around3000</th>\n",
              "      <th>parks_nearest</th>\n",
              "      <th>ponds_around3000</th>\n",
              "      <th>ponds_nearest</th>\n",
              "      <th>days_exposition</th>\n",
              "    </tr>\n",
              "  </thead>\n",
              "  <tbody>\n",
              "    <tr>\n",
              "      <th>count</th>\n",
              "      <td>23699.000000</td>\n",
              "      <td>2.369900e+04</td>\n",
              "      <td>23699.000000</td>\n",
              "      <td>23699.000000</td>\n",
              "      <td>14504.000000</td>\n",
              "      <td>23613.000000</td>\n",
              "      <td>21796.000000</td>\n",
              "      <td>23699.000000</td>\n",
              "      <td>21421.000000</td>\n",
              "      <td>12180.000000</td>\n",
              "      <td>18157.000000</td>\n",
              "      <td>18180.000000</td>\n",
              "      <td>18181.000000</td>\n",
              "      <td>8079.000000</td>\n",
              "      <td>18181.000000</td>\n",
              "      <td>9110.000000</td>\n",
              "      <td>20518.000000</td>\n",
              "    </tr>\n",
              "    <tr>\n",
              "      <th>mean</th>\n",
              "      <td>9.858475</td>\n",
              "      <td>6.541549e+06</td>\n",
              "      <td>60.348651</td>\n",
              "      <td>2.070636</td>\n",
              "      <td>2.771499</td>\n",
              "      <td>10.673824</td>\n",
              "      <td>34.457852</td>\n",
              "      <td>5.892358</td>\n",
              "      <td>10.569807</td>\n",
              "      <td>1.150082</td>\n",
              "      <td>28793.672193</td>\n",
              "      <td>14191.277833</td>\n",
              "      <td>0.611408</td>\n",
              "      <td>490.804555</td>\n",
              "      <td>0.770255</td>\n",
              "      <td>517.980900</td>\n",
              "      <td>180.888634</td>\n",
              "    </tr>\n",
              "    <tr>\n",
              "      <th>std</th>\n",
              "      <td>5.682529</td>\n",
              "      <td>1.088701e+07</td>\n",
              "      <td>35.654083</td>\n",
              "      <td>1.078405</td>\n",
              "      <td>1.261056</td>\n",
              "      <td>6.597173</td>\n",
              "      <td>22.030445</td>\n",
              "      <td>4.885249</td>\n",
              "      <td>5.905438</td>\n",
              "      <td>1.071300</td>\n",
              "      <td>12630.880622</td>\n",
              "      <td>8608.386210</td>\n",
              "      <td>0.802074</td>\n",
              "      <td>342.317995</td>\n",
              "      <td>0.938346</td>\n",
              "      <td>277.720643</td>\n",
              "      <td>219.727988</td>\n",
              "    </tr>\n",
              "    <tr>\n",
              "      <th>min</th>\n",
              "      <td>0.000000</td>\n",
              "      <td>1.219000e+04</td>\n",
              "      <td>12.000000</td>\n",
              "      <td>0.000000</td>\n",
              "      <td>1.000000</td>\n",
              "      <td>1.000000</td>\n",
              "      <td>2.000000</td>\n",
              "      <td>1.000000</td>\n",
              "      <td>1.300000</td>\n",
              "      <td>0.000000</td>\n",
              "      <td>0.000000</td>\n",
              "      <td>181.000000</td>\n",
              "      <td>0.000000</td>\n",
              "      <td>1.000000</td>\n",
              "      <td>0.000000</td>\n",
              "      <td>13.000000</td>\n",
              "      <td>1.000000</td>\n",
              "    </tr>\n",
              "    <tr>\n",
              "      <th>25%</th>\n",
              "      <td>6.000000</td>\n",
              "      <td>3.400000e+06</td>\n",
              "      <td>40.000000</td>\n",
              "      <td>1.000000</td>\n",
              "      <td>2.520000</td>\n",
              "      <td>5.000000</td>\n",
              "      <td>18.600000</td>\n",
              "      <td>2.000000</td>\n",
              "      <td>7.000000</td>\n",
              "      <td>0.000000</td>\n",
              "      <td>18585.000000</td>\n",
              "      <td>9238.000000</td>\n",
              "      <td>0.000000</td>\n",
              "      <td>288.000000</td>\n",
              "      <td>0.000000</td>\n",
              "      <td>294.000000</td>\n",
              "      <td>45.000000</td>\n",
              "    </tr>\n",
              "    <tr>\n",
              "      <th>50%</th>\n",
              "      <td>9.000000</td>\n",
              "      <td>4.650000e+06</td>\n",
              "      <td>52.000000</td>\n",
              "      <td>2.000000</td>\n",
              "      <td>2.650000</td>\n",
              "      <td>9.000000</td>\n",
              "      <td>30.000000</td>\n",
              "      <td>4.000000</td>\n",
              "      <td>9.100000</td>\n",
              "      <td>1.000000</td>\n",
              "      <td>26726.000000</td>\n",
              "      <td>13098.500000</td>\n",
              "      <td>0.000000</td>\n",
              "      <td>455.000000</td>\n",
              "      <td>1.000000</td>\n",
              "      <td>502.000000</td>\n",
              "      <td>95.000000</td>\n",
              "    </tr>\n",
              "    <tr>\n",
              "      <th>75%</th>\n",
              "      <td>14.000000</td>\n",
              "      <td>6.800000e+06</td>\n",
              "      <td>69.900000</td>\n",
              "      <td>3.000000</td>\n",
              "      <td>2.800000</td>\n",
              "      <td>16.000000</td>\n",
              "      <td>42.300000</td>\n",
              "      <td>8.000000</td>\n",
              "      <td>12.000000</td>\n",
              "      <td>2.000000</td>\n",
              "      <td>37273.000000</td>\n",
              "      <td>16293.000000</td>\n",
              "      <td>1.000000</td>\n",
              "      <td>612.000000</td>\n",
              "      <td>1.000000</td>\n",
              "      <td>729.000000</td>\n",
              "      <td>232.000000</td>\n",
              "    </tr>\n",
              "    <tr>\n",
              "      <th>max</th>\n",
              "      <td>50.000000</td>\n",
              "      <td>7.630000e+08</td>\n",
              "      <td>900.000000</td>\n",
              "      <td>19.000000</td>\n",
              "      <td>100.000000</td>\n",
              "      <td>60.000000</td>\n",
              "      <td>409.700000</td>\n",
              "      <td>33.000000</td>\n",
              "      <td>112.000000</td>\n",
              "      <td>5.000000</td>\n",
              "      <td>84869.000000</td>\n",
              "      <td>65968.000000</td>\n",
              "      <td>3.000000</td>\n",
              "      <td>3190.000000</td>\n",
              "      <td>3.000000</td>\n",
              "      <td>1344.000000</td>\n",
              "      <td>1580.000000</td>\n",
              "    </tr>\n",
              "  </tbody>\n",
              "</table>\n",
              "</div>"
            ],
            "text/plain": [
              "       total_images    last_price  ...  ponds_nearest  days_exposition\n",
              "count  23699.000000  2.369900e+04  ...    9110.000000     20518.000000\n",
              "mean       9.858475  6.541549e+06  ...     517.980900       180.888634\n",
              "std        5.682529  1.088701e+07  ...     277.720643       219.727988\n",
              "min        0.000000  1.219000e+04  ...      13.000000         1.000000\n",
              "25%        6.000000  3.400000e+06  ...     294.000000        45.000000\n",
              "50%        9.000000  4.650000e+06  ...     502.000000        95.000000\n",
              "75%       14.000000  6.800000e+06  ...     729.000000       232.000000\n",
              "max       50.000000  7.630000e+08  ...    1344.000000      1580.000000\n",
              "\n",
              "[8 rows x 17 columns]"
            ]
          },
          "metadata": {
            "tags": []
          },
          "execution_count": 7
        }
      ]
    },
    {
      "cell_type": "code",
      "metadata": {
        "colab": {
          "base_uri": "https://localhost:8080/",
          "height": 576
        },
        "id": "QsP0O2aZhP6n",
        "outputId": "267a2649-1a1a-40a7-e4ce-04f2130ef630"
      },
      "source": [
        "df.describe().T"
      ],
      "execution_count": null,
      "outputs": [
        {
          "output_type": "execute_result",
          "data": {
            "text/html": [
              "<div>\n",
              "<style scoped>\n",
              "    .dataframe tbody tr th:only-of-type {\n",
              "        vertical-align: middle;\n",
              "    }\n",
              "\n",
              "    .dataframe tbody tr th {\n",
              "        vertical-align: top;\n",
              "    }\n",
              "\n",
              "    .dataframe thead th {\n",
              "        text-align: right;\n",
              "    }\n",
              "</style>\n",
              "<table border=\"1\" class=\"dataframe\">\n",
              "  <thead>\n",
              "    <tr style=\"text-align: right;\">\n",
              "      <th></th>\n",
              "      <th>count</th>\n",
              "      <th>mean</th>\n",
              "      <th>std</th>\n",
              "      <th>min</th>\n",
              "      <th>25%</th>\n",
              "      <th>50%</th>\n",
              "      <th>75%</th>\n",
              "      <th>max</th>\n",
              "    </tr>\n",
              "  </thead>\n",
              "  <tbody>\n",
              "    <tr>\n",
              "      <th>total_images</th>\n",
              "      <td>23699.0</td>\n",
              "      <td>9.858475e+00</td>\n",
              "      <td>5.682529e+00</td>\n",
              "      <td>0.0</td>\n",
              "      <td>6.00</td>\n",
              "      <td>9.00</td>\n",
              "      <td>14.0</td>\n",
              "      <td>50.0</td>\n",
              "    </tr>\n",
              "    <tr>\n",
              "      <th>last_price</th>\n",
              "      <td>23699.0</td>\n",
              "      <td>6.541549e+06</td>\n",
              "      <td>1.088701e+07</td>\n",
              "      <td>12190.0</td>\n",
              "      <td>3400000.00</td>\n",
              "      <td>4650000.00</td>\n",
              "      <td>6800000.0</td>\n",
              "      <td>763000000.0</td>\n",
              "    </tr>\n",
              "    <tr>\n",
              "      <th>total_area</th>\n",
              "      <td>23699.0</td>\n",
              "      <td>6.034865e+01</td>\n",
              "      <td>3.565408e+01</td>\n",
              "      <td>12.0</td>\n",
              "      <td>40.00</td>\n",
              "      <td>52.00</td>\n",
              "      <td>69.9</td>\n",
              "      <td>900.0</td>\n",
              "    </tr>\n",
              "    <tr>\n",
              "      <th>rooms</th>\n",
              "      <td>23699.0</td>\n",
              "      <td>2.070636e+00</td>\n",
              "      <td>1.078405e+00</td>\n",
              "      <td>0.0</td>\n",
              "      <td>1.00</td>\n",
              "      <td>2.00</td>\n",
              "      <td>3.0</td>\n",
              "      <td>19.0</td>\n",
              "    </tr>\n",
              "    <tr>\n",
              "      <th>ceiling_height</th>\n",
              "      <td>14504.0</td>\n",
              "      <td>2.771499e+00</td>\n",
              "      <td>1.261056e+00</td>\n",
              "      <td>1.0</td>\n",
              "      <td>2.52</td>\n",
              "      <td>2.65</td>\n",
              "      <td>2.8</td>\n",
              "      <td>100.0</td>\n",
              "    </tr>\n",
              "    <tr>\n",
              "      <th>floors_total</th>\n",
              "      <td>23613.0</td>\n",
              "      <td>1.067382e+01</td>\n",
              "      <td>6.597173e+00</td>\n",
              "      <td>1.0</td>\n",
              "      <td>5.00</td>\n",
              "      <td>9.00</td>\n",
              "      <td>16.0</td>\n",
              "      <td>60.0</td>\n",
              "    </tr>\n",
              "    <tr>\n",
              "      <th>living_area</th>\n",
              "      <td>21796.0</td>\n",
              "      <td>3.445785e+01</td>\n",
              "      <td>2.203045e+01</td>\n",
              "      <td>2.0</td>\n",
              "      <td>18.60</td>\n",
              "      <td>30.00</td>\n",
              "      <td>42.3</td>\n",
              "      <td>409.7</td>\n",
              "    </tr>\n",
              "    <tr>\n",
              "      <th>floor</th>\n",
              "      <td>23699.0</td>\n",
              "      <td>5.892358e+00</td>\n",
              "      <td>4.885249e+00</td>\n",
              "      <td>1.0</td>\n",
              "      <td>2.00</td>\n",
              "      <td>4.00</td>\n",
              "      <td>8.0</td>\n",
              "      <td>33.0</td>\n",
              "    </tr>\n",
              "    <tr>\n",
              "      <th>kitchen_area</th>\n",
              "      <td>21421.0</td>\n",
              "      <td>1.056981e+01</td>\n",
              "      <td>5.905438e+00</td>\n",
              "      <td>1.3</td>\n",
              "      <td>7.00</td>\n",
              "      <td>9.10</td>\n",
              "      <td>12.0</td>\n",
              "      <td>112.0</td>\n",
              "    </tr>\n",
              "    <tr>\n",
              "      <th>balcony</th>\n",
              "      <td>12180.0</td>\n",
              "      <td>1.150082e+00</td>\n",
              "      <td>1.071300e+00</td>\n",
              "      <td>0.0</td>\n",
              "      <td>0.00</td>\n",
              "      <td>1.00</td>\n",
              "      <td>2.0</td>\n",
              "      <td>5.0</td>\n",
              "    </tr>\n",
              "    <tr>\n",
              "      <th>airports_nearest</th>\n",
              "      <td>18157.0</td>\n",
              "      <td>2.879367e+04</td>\n",
              "      <td>1.263088e+04</td>\n",
              "      <td>0.0</td>\n",
              "      <td>18585.00</td>\n",
              "      <td>26726.00</td>\n",
              "      <td>37273.0</td>\n",
              "      <td>84869.0</td>\n",
              "    </tr>\n",
              "    <tr>\n",
              "      <th>citycenters_nearest</th>\n",
              "      <td>18180.0</td>\n",
              "      <td>1.419128e+04</td>\n",
              "      <td>8.608386e+03</td>\n",
              "      <td>181.0</td>\n",
              "      <td>9238.00</td>\n",
              "      <td>13098.50</td>\n",
              "      <td>16293.0</td>\n",
              "      <td>65968.0</td>\n",
              "    </tr>\n",
              "    <tr>\n",
              "      <th>parks_around3000</th>\n",
              "      <td>18181.0</td>\n",
              "      <td>6.114075e-01</td>\n",
              "      <td>8.020736e-01</td>\n",
              "      <td>0.0</td>\n",
              "      <td>0.00</td>\n",
              "      <td>0.00</td>\n",
              "      <td>1.0</td>\n",
              "      <td>3.0</td>\n",
              "    </tr>\n",
              "    <tr>\n",
              "      <th>parks_nearest</th>\n",
              "      <td>8079.0</td>\n",
              "      <td>4.908046e+02</td>\n",
              "      <td>3.423180e+02</td>\n",
              "      <td>1.0</td>\n",
              "      <td>288.00</td>\n",
              "      <td>455.00</td>\n",
              "      <td>612.0</td>\n",
              "      <td>3190.0</td>\n",
              "    </tr>\n",
              "    <tr>\n",
              "      <th>ponds_around3000</th>\n",
              "      <td>18181.0</td>\n",
              "      <td>7.702547e-01</td>\n",
              "      <td>9.383456e-01</td>\n",
              "      <td>0.0</td>\n",
              "      <td>0.00</td>\n",
              "      <td>1.00</td>\n",
              "      <td>1.0</td>\n",
              "      <td>3.0</td>\n",
              "    </tr>\n",
              "    <tr>\n",
              "      <th>ponds_nearest</th>\n",
              "      <td>9110.0</td>\n",
              "      <td>5.179809e+02</td>\n",
              "      <td>2.777206e+02</td>\n",
              "      <td>13.0</td>\n",
              "      <td>294.00</td>\n",
              "      <td>502.00</td>\n",
              "      <td>729.0</td>\n",
              "      <td>1344.0</td>\n",
              "    </tr>\n",
              "    <tr>\n",
              "      <th>days_exposition</th>\n",
              "      <td>20518.0</td>\n",
              "      <td>1.808886e+02</td>\n",
              "      <td>2.197280e+02</td>\n",
              "      <td>1.0</td>\n",
              "      <td>45.00</td>\n",
              "      <td>95.00</td>\n",
              "      <td>232.0</td>\n",
              "      <td>1580.0</td>\n",
              "    </tr>\n",
              "  </tbody>\n",
              "</table>\n",
              "</div>"
            ],
            "text/plain": [
              "                       count          mean  ...        75%          max\n",
              "total_images         23699.0  9.858475e+00  ...       14.0         50.0\n",
              "last_price           23699.0  6.541549e+06  ...  6800000.0  763000000.0\n",
              "total_area           23699.0  6.034865e+01  ...       69.9        900.0\n",
              "rooms                23699.0  2.070636e+00  ...        3.0         19.0\n",
              "ceiling_height       14504.0  2.771499e+00  ...        2.8        100.0\n",
              "floors_total         23613.0  1.067382e+01  ...       16.0         60.0\n",
              "living_area          21796.0  3.445785e+01  ...       42.3        409.7\n",
              "floor                23699.0  5.892358e+00  ...        8.0         33.0\n",
              "kitchen_area         21421.0  1.056981e+01  ...       12.0        112.0\n",
              "balcony              12180.0  1.150082e+00  ...        2.0          5.0\n",
              "airports_nearest     18157.0  2.879367e+04  ...    37273.0      84869.0\n",
              "citycenters_nearest  18180.0  1.419128e+04  ...    16293.0      65968.0\n",
              "parks_around3000     18181.0  6.114075e-01  ...        1.0          3.0\n",
              "parks_nearest         8079.0  4.908046e+02  ...      612.0       3190.0\n",
              "ponds_around3000     18181.0  7.702547e-01  ...        1.0          3.0\n",
              "ponds_nearest         9110.0  5.179809e+02  ...      729.0       1344.0\n",
              "days_exposition      20518.0  1.808886e+02  ...      232.0       1580.0\n",
              "\n",
              "[17 rows x 8 columns]"
            ]
          },
          "metadata": {
            "tags": []
          },
          "execution_count": 8
        }
      ]
    },
    {
      "cell_type": "markdown",
      "metadata": {
        "id": "UxMwUVQYhP6n"
      },
      "source": [
        "#### Вывод. Рассмотрим полученную информацию подробнее  \n",
        "\n",
        "В таблице представлены 22 столбца, содержащих информацию о проданных квартирах, их параметрах. Мы видим следующие данные\n",
        "\n",
        "- airports_nearest — расстояние до ближайшего аэропорта в метрах (м)\n",
        "- balcony — число балконов\n",
        "- ceiling_height — высота потолков (м)\n",
        "- citycenters_nearest — расстояние до центра города (м)\n",
        "- days_exposition — сколько дней было размещено объявление (от публикации до снятия)\n",
        "- first_day_exposition — дата публикации\n",
        "- floor — этаж\n",
        "- floors_total — всего этажей в доме\n",
        "- is_apartment — апартаменты (булев тип)\n",
        "- kitchen_area — площадь кухни в квадратных метрах (м²)\n",
        "- last_price — цена на момент снятия с публикации\n",
        "- living_area — жилая площадь в квадратных метрах(м²)\n",
        "- locality_name — название населённого пункта\n",
        "- open_plan — свободная планировка (булев тип)\n",
        "- parks_around3000 — число парков в радиусе 3 км\n",
        "- parks_nearest — расстояние до ближайшего парка (м)\n",
        "- ponds_around3000 — число водоёмов в радиусе 3 км\n",
        "- ponds_nearest — расстояние до ближайшего водоёма (м)\n",
        "- rooms — число комнат\n",
        "- studio — квартира-студия (булев тип)\n",
        "- total_area — площадь квартиры в квадратных метрах (м²)\n",
        "- total_images — число фотографий квартиры в объявлении\n",
        "\n",
        "\n",
        "Исходя из цели исследования, нам необходимо обратить особое внимание на следующие параметры: living_area — **жилая площадь** в квадратных метрах(м²), last_price — **цена** на момент снятия с публикации, rooms - **число комнат**, ceiling_height - **высота потолков** (м). Это важные столбцы, на которые нам необходимо обратить пристальное внимание и максимально сохранить данные (*число строк в таблице - 23699, хотелось бы чтобы так и оставалось*). Нам важны и следующие столбцы: days_exposition — **сколько дней** было размещено объявление (от публикации до снятия), citycenters_nearest — **расстояние до центра** города (м), locality_name — **название населённого пункта**. Вышеназванные столбцы необходимы нам для ответа на поставленные вопросы. постараемся максимально сохранить данные при обработке. \n",
        "Разброс данных показал нам, что в таблице присутствуют аномальные значения, например максимальное значение высоты потолка - **100 м** (*прямо как в песне - Наша крыша — небо голубое*). Возможно это ошибка записи и верное значение - 10.0 м. Построим гистограммы для визуализации значений в первоначальном дата сете\n",
        "\n",
        "\n"
      ]
    },
    {
      "cell_type": "code",
      "metadata": {
        "colab": {
          "base_uri": "https://localhost:8080/"
        },
        "id": "pvmE_i1fhP6o",
        "outputId": "55b56fab-ce51-41e0-adf2-35733a52578d"
      },
      "source": [
        "sns.set(style=\"darkgrid\")\n",
        "df.hist('total_area', bins=100, range = (0, 250), color='steelblue', figsize=(15,5), grid=True)\n",
        "plt.title('Гистограмма параметра \"Площади жилого помещения/total_square, м2\"')\n",
        "plt.xlabel('Общая площадь, м2')\n",
        "plt.ylabel('Количество предложений')\n",
        "plt.show()\n",
        "df.hist('rooms', bins=10, range = (0, 8), color='steelblue', figsize=(15,5), grid=True)\n",
        "plt.title('Гистограмма параметра \"Количество комнат/rooms\"')\n",
        "plt.xlabel('Количество комнат')\n",
        "plt.ylabel('Количество предложений')\n",
        "plt.show()\n",
        "df.hist('last_price', bins=100, range = (0, 15000000), color='steelblue', figsize=(15,5), grid=True)\n",
        "plt.title('Гистограмма параметра \"Стоимости/last_price, руб\"')\n",
        "plt.xlabel('Стоимость, руб')\n",
        "plt.ylabel('Количество предложений')\n",
        "plt.show()\n",
        "df.hist('ceiling_height', bins=30, range = (2.4, 3), color='steelblue', figsize=(15,5), grid=True)\n",
        "plt.title('Гистограмма параметра \"Высота потолков/ceiling_height, м\"')\n",
        "plt.xlabel('Высота потолков, м')\n",
        "plt.ylabel('Количество предложений')\n",
        "plt.show()\n"
      ],
      "execution_count": null,
      "outputs": [
        {
          "output_type": "display_data",
          "data": {
            "image/png": "[encoded data removed]",
            "text/plain": [
              "<Figure size 1080x360 with 1 Axes>"
            ]
          },
          "metadata": {
            "tags": []
          }
        },
        {
          "output_type": "display_data",
          "data": {
            "image/png": "[encoded data removed]",
            "text/plain": [
              "<Figure size 1080x360 with 1 Axes>"
            ]
          },
          "metadata": {
            "tags": []
          }
        },
        {
          "output_type": "display_data",
          "data": {
            "image/png": "[encoded data removed]",
            "text/plain": [
              "<Figure size 1080x360 with 1 Axes>"
            ]
          },
          "metadata": {
            "tags": []
          }
        },
        {
          "output_type": "display_data",
          "data": {
            "image/png": "[encoded data removed]",
            "text/plain": [
              "<Figure size 1080x360 with 1 Axes>"
            ]
          },
          "metadata": {
            "tags": []
          }
        }
      ]
    },
    {
      "cell_type": "markdown",
      "metadata": {
        "id": "XHM4ovtqhP6o"
      },
      "source": [
        "Нам необходимо проверить сет на пропуски, дубликаты, аномальные значения и принять решение, что мы с ними делаем, стараясь максимально сохранить исходный объем данных. Гистограммы по текущим данным выглядят приемлемо. Большинство значений не выбивается, есть отклонения, которые мы выявили методом `describe ()`.\n",
        "Необходимо перейти к предобработке, а также посмотреть диаграммы рассеивания, и примем решение с чем продолжим работу. Цель - максимально сохранить данные, но минимизировать вхождения мусорных значений в анализ."
      ]
    },
    {
      "cell_type": "markdown",
      "metadata": {
        "id": "Wuq-9fY0hP6q"
      },
      "source": [
        "### Предобработка данных"
      ]
    },
    {
      "cell_type": "markdown",
      "metadata": {
        "id": "U9iwOj1PhP6q"
      },
      "source": [
        "#### Установим наличие дубликатов в сете данных. Если найдутся - удаляем и проверим все ли удалили\n"
      ]
    },
    {
      "cell_type": "code",
      "metadata": {
        "colab": {
          "base_uri": "https://localhost:8080/"
        },
        "id": "P6SF8r_IhP6q",
        "outputId": "6a37e3a5-96de-4c8d-ea1c-ebf2d93a1a42"
      },
      "source": [
        "df.duplicated().sum()"
      ],
      "execution_count": null,
      "outputs": [
        {
          "output_type": "execute_result",
          "data": {
            "text/plain": [
              "0"
            ]
          },
          "metadata": {
            "tags": []
          },
          "execution_count": 10
        }
      ]
    },
    {
      "cell_type": "markdown",
      "metadata": {
        "id": "_TQy4lh1hP6q"
      },
      "source": [
        "##### Вывод \n",
        "\n",
        "Дубликатов в сете не обнаружено. Мы можем переходить к обработке пропусков"
      ]
    },
    {
      "cell_type": "markdown",
      "metadata": {
        "id": "sx3ybycShP6q"
      },
      "source": [
        "#### Подсчет пропусков и их обработка"
      ]
    },
    {
      "cell_type": "markdown",
      "metadata": {
        "id": "8qVQYCMKhP6r"
      },
      "source": [
        "##### Подсчет пропусков и визуализация долей"
      ]
    },
    {
      "cell_type": "code",
      "metadata": {
        "colab": {
          "base_uri": "https://localhost:8080/"
        },
        "id": "Oi2nc6JnhP6r",
        "outputId": "5d8279fd-6d24-44c6-f623-007e670894cc"
      },
      "source": [
        "df.isna().mean().sort_values(ascending=False)"
      ],
      "execution_count": null,
      "outputs": [
        {
          "output_type": "execute_result",
          "data": {
            "text/plain": [
              "is_apartment            0.882906\n",
              "parks_nearest           0.659100\n",
              "ponds_nearest           0.615596\n",
              "balcony                 0.486054\n",
              "ceiling_height          0.387991\n",
              "airports_nearest        0.233850\n",
              "citycenters_nearest     0.232879\n",
              "parks_around3000        0.232837\n",
              "ponds_around3000        0.232837\n",
              "days_exposition         0.134225\n",
              "kitchen_area            0.096122\n",
              "living_area             0.080299\n",
              "floors_total            0.003629\n",
              "locality_name           0.002068\n",
              "first_day_exposition    0.000000\n",
              "last_price              0.000000\n",
              "total_area              0.000000\n",
              "studio                  0.000000\n",
              "rooms                   0.000000\n",
              "floor                   0.000000\n",
              "open_plan               0.000000\n",
              "total_images            0.000000\n",
              "dtype: float64"
            ]
          },
          "metadata": {
            "tags": []
          },
          "execution_count": 11
        }
      ]
    },
    {
      "cell_type": "code",
      "metadata": {
        "colab": {
          "base_uri": "https://localhost:8080/"
        },
        "id": "Yvn4OKgDhP6r",
        "outputId": "2bea7646-f833-4a05-8863-c9c9ae2d9226"
      },
      "source": [
        "\n",
        "df.isna().mean().sort_values(ascending=False).plot(\n",
        "    kind='bar', figsize=(15,5), \n",
        "    grid=True, color='steelblue', \n",
        "    edgecolor='black', linewidth=2\n",
        ")\n",
        "plt.title('Визуализация пропусков')\n",
        "plt.xlabel('Наименование столбца')\n",
        "plt.ylabel('Доля пропусков в столбце')\n",
        "plt.show()"
      ],
      "execution_count": null,
      "outputs": [
        {
          "output_type": "display_data",
          "data": {
            "image/png": "[encoded data removed]",
            "text/plain": [
              "<Figure size 1080x360 with 1 Axes>"
            ]
          },
          "metadata": {
            "tags": []
          }
        }
      ]
    },
    {
      "cell_type": "markdown",
      "metadata": {
        "id": "ZLx1vdpthP6r"
      },
      "source": [
        "Пропусков много. Давайте проверять по столбца от большего к меньшему. По итогу сформируем дата сет для анализа из нашего `df`, с которым продолжим работать \n"
      ]
    },
    {
      "cell_type": "markdown",
      "metadata": {
        "id": "hQx0te1bhP6r"
      },
      "source": [
        "###### Столбец `is_apartment`"
      ]
    },
    {
      "cell_type": "code",
      "metadata": {
        "colab": {
          "base_uri": "https://localhost:8080/"
        },
        "id": "01jqEzalhP6s",
        "outputId": "2cb75111-eb99-4366-f05d-5c8c85f7de68"
      },
      "source": [
        "print('Количество пропусков в столбце \"is_apartment\":', df['is_apartment'].isna().sum())\n",
        "df['is_apartment'].value_counts()"
      ],
      "execution_count": null,
      "outputs": [
        {
          "output_type": "stream",
          "text": [
            "Количество пропусков в столбце \"is_apartment\": 20924\n"
          ],
          "name": "stdout"
        },
        {
          "output_type": "execute_result",
          "data": {
            "text/plain": [
              "False    2725\n",
              "True       50\n",
              "Name: is_apartment, dtype: int64"
            ]
          },
          "metadata": {
            "tags": []
          },
          "execution_count": 13
        }
      ]
    },
    {
      "cell_type": "markdown",
      "metadata": {
        "id": "Sab1EmnOhP6s"
      },
      "source": [
        "Менять пропуски **не будем**. Обратим на данный столбец внимание. Если поменяем на `False` - можем исказить данные, если будем проводить анализ влияния типа жилой площади на цену, как пример. В нашем дата сате всего 50 аппартаментов, при этом внешние источники [говорят](https://realty.rbc.ru/news/5e4a6e7e9a794715a62ce441#:~:text=%D0%92%20%D0%A1%D0%B0%D0%BD%D0%BA%D1%82%2D%D0%9F%D0%B5%D1%82%D0%B5%D1%80%D0%B1%D1%83%D1%80%D0%B3%D0%B5%20%D0%B7%D0%B0%20%D0%B3%D0%BE%D0%B4,%D0%BA%D0%B2.), что апартаментов в продаже гораздо больше могло находиться в тот момент. Будем считать, что пропуски зависят от неизвестных факторов - *Missing Not At Random*. Могли их восстановить по статусу регистрации, например, возможности получения [налогового вычета](https://realty.rbc.ru/news/5fc897769a7947df26e675e9) Данный столбец в анализе использовать не будем. При желании мы можем анализировать на значениях, где они точно есть, но считаю выборку непоказательной"
      ]
    },
    {
      "cell_type": "markdown",
      "metadata": {
        "id": "7Gk8EzbNhP6s"
      },
      "source": [
        "###### Столбцы `parks_nearest`, `ponds_nearest`, `parks_around3000`, `ponds_around3000`, `airports_nearest`"
      ]
    },
    {
      "cell_type": "code",
      "metadata": {
        "colab": {
          "base_uri": "https://localhost:8080/"
        },
        "id": "BtXlvc1dhP6s",
        "outputId": "a01df101-b920-41e5-8a76-2412572e66e8"
      },
      "source": [
        "print('Доля пропусков внутри столбца \"parks_nearest\": {:.2%}'.format(df['parks_nearest'].isna().sum()/len(df)))\n",
        "print('Доля пропусков внутри столбца \"ponds_nearest\": {:.2%}'.format(df['ponds_nearest'].isna().sum()/len(df)))\n",
        "print('Доля пропусков внутри столбца \"parks_around3000\": {:.2%}'.format(df['parks_around3000'].isna().sum()/len(df)))\n",
        "print('Доля пропусков внутри столбца \"ponds_around3000\": {:.2%}'.format(df['ponds_around3000'].isna().sum()/len(df)))\n",
        "print('Доля пропусков внутри столбца \"airports_nearest\": {:.2%}'.format(df['airports_nearest'].isna().sum()/len(df)))"
      ],
      "execution_count": null,
      "outputs": [
        {
          "output_type": "stream",
          "text": [
            "Доля пропусков внутри столбца \"parks_nearest\": 65.91%\n",
            "Доля пропусков внутри столбца \"ponds_nearest\": 61.56%\n",
            "Доля пропусков внутри столбца \"parks_around3000\": 23.28%\n",
            "Доля пропусков внутри столбца \"ponds_around3000\": 23.28%\n",
            "Доля пропусков внутри столбца \"airports_nearest\": 23.38%\n"
          ],
          "name": "stdout"
        }
      ]
    },
    {
      "cell_type": "markdown",
      "metadata": {
        "id": "k8tvn49whP6s"
      },
      "source": [
        "Менять пропуски **не будем**. Восстановить можно было бы по сравнению геопозиции каждого отдельного объекта с картой. Данные заполнялись системой, возможно были допущены ошибки. Обратим на это внимание. Так как задачи не стоит определить взаимосвязь цены объекта и скорости продажи от этих характеристик, необходимо заменять NaN нет. Интересен тот факт, что количество пропусков в столбцах parks_around3000, ponds_around3000 и airports_nearest - идентичен."
      ]
    },
    {
      "cell_type": "code",
      "metadata": {
        "colab": {
          "base_uri": "https://localhost:8080/"
        },
        "id": "56KfDwIGhP6s",
        "outputId": "eaba9685-2391-4421-b44d-dad40cbb2cdb"
      },
      "source": [
        "(\n",
        "    df[(df['parks_around3000'].isna() == True) & (\n",
        "    df['ponds_around3000'].isna() == True) & (\n",
        "    df['airports_nearest'].isna() == True)].info())"
      ],
      "execution_count": null,
      "outputs": [
        {
          "output_type": "stream",
          "text": [
            "<class 'pandas.core.frame.DataFrame'>\n",
            "Int64Index: 5518 entries, 5 to 23698\n",
            "Data columns (total 22 columns):\n",
            " #   Column                Non-Null Count  Dtype  \n",
            "---  ------                --------------  -----  \n",
            " 0   total_images          5518 non-null   int64  \n",
            " 1   last_price            5518 non-null   float64\n",
            " 2   total_area            5518 non-null   float64\n",
            " 3   first_day_exposition  5518 non-null   object \n",
            " 4   rooms                 5518 non-null   int64  \n",
            " 5   ceiling_height        2943 non-null   float64\n",
            " 6   floors_total          5508 non-null   float64\n",
            " 7   living_area           4895 non-null   float64\n",
            " 8   floor                 5518 non-null   int64  \n",
            " 9   is_apartment          628 non-null    object \n",
            " 10  studio                5518 non-null   bool   \n",
            " 11  open_plan             5518 non-null   bool   \n",
            " 12  kitchen_area          4803 non-null   float64\n",
            " 13  balcony               2808 non-null   float64\n",
            " 14  locality_name         5510 non-null   object \n",
            " 15  airports_nearest      0 non-null      float64\n",
            " 16  citycenters_nearest   0 non-null      float64\n",
            " 17  parks_around3000      0 non-null      float64\n",
            " 18  parks_nearest         0 non-null      float64\n",
            " 19  ponds_around3000      0 non-null      float64\n",
            " 20  ponds_nearest         0 non-null      float64\n",
            " 21  days_exposition       4653 non-null   float64\n",
            "dtypes: bool(2), float64(14), int64(3), object(3)\n",
            "memory usage: 916.1+ KB\n"
          ],
          "name": "stdout"
        }
      ]
    },
    {
      "cell_type": "markdown",
      "metadata": {
        "id": "jjPzIX4ehP6t"
      },
      "source": [
        "Так и есть. Видимо есть некоторая ошибка в алгоритме проставления данных для столбцов:\n",
        " - airports_nearest        \n",
        " - citycenters_nearest     \n",
        " - parks_around3000        \n",
        " - parks_nearest           \n",
        " - ponds_around3000       \n",
        " - ponds_nearest           \n",
        "\n",
        "также мы выяснили, что важный нам столбец `citycenters_nearest` также будет содержать пропуски. Вернемся к нему позже"
      ]
    },
    {
      "cell_type": "markdown",
      "metadata": {
        "id": "emfcJBllhP6t"
      },
      "source": [
        "###### Столбец `balcony`\n"
      ]
    },
    {
      "cell_type": "code",
      "metadata": {
        "colab": {
          "base_uri": "https://localhost:8080/"
        },
        "id": "6gtvRy0ShP6t",
        "outputId": "d87b2239-c769-4468-9e18-1d73ba01a554"
      },
      "source": [
        "print('Доля пропусков внутри столбца \"balcony\": {:.2%}'.format(df['balcony'].isna().sum()/len(df)))\n",
        "df['balcony'].value_counts()"
      ],
      "execution_count": null,
      "outputs": [
        {
          "output_type": "stream",
          "text": [
            "Доля пропусков внутри столбца \"balcony\": 48.61%\n"
          ],
          "name": "stdout"
        },
        {
          "output_type": "execute_result",
          "data": {
            "text/plain": [
              "1.0    4195\n",
              "0.0    3758\n",
              "2.0    3659\n",
              "5.0     304\n",
              "4.0     183\n",
              "3.0      81\n",
              "Name: balcony, dtype: int64"
            ]
          },
          "metadata": {
            "tags": []
          },
          "execution_count": 16
        }
      ]
    },
    {
      "cell_type": "markdown",
      "metadata": {
        "id": "-fAdoIkyhP6t"
      },
      "source": [
        "Предположим, что пропуски здесь образовались по механизму *MCAR*, то есть фактически - если балкона нет - то и ответ не давался. Соответственно в этом случае `NaN` можем заменить на `0`. Балкон достаточно важная характеристика при продаже недвижимости, поэтому ее отсутствие в данных - скорее признак отсутствия физически"
      ]
    },
    {
      "cell_type": "markdown",
      "metadata": {
        "id": "zRnyTBlNhP6t"
      },
      "source": [
        "###### Столбец `ceiling_height`"
      ]
    },
    {
      "cell_type": "markdown",
      "metadata": {
        "id": "XX9D6FyahP6u"
      },
      "source": [
        "Данный столбец необходим для анализа. На него стоит обратить внимание:\n"
      ]
    },
    {
      "cell_type": "code",
      "metadata": {
        "colab": {
          "base_uri": "https://localhost:8080/"
        },
        "id": "2fjbXxSDhP6u",
        "outputId": "528fb272-7241-4d89-e9e5-1c9d47e15741"
      },
      "source": [
        "print('Доля пропусков внутри столбца \"ceiling_height\": {:.2%}'.format(df['ceiling_height'].isna().sum()/len(df)))"
      ],
      "execution_count": null,
      "outputs": [
        {
          "output_type": "stream",
          "text": [
            "Доля пропусков внутри столбца \"ceiling_height\": 38.80%\n"
          ],
          "name": "stdout"
        }
      ]
    },
    {
      "cell_type": "markdown",
      "metadata": {
        "id": "iexEg7JuhP6u"
      },
      "source": [
        "Методом `describe()` ранее мы выяснили, что в данном столбце находятся артефакты - есть потолки как 1.26 метра, так и 100 м.\n",
        "Найдм среднее и медианное значение по столбцу. Гистаграмма показала, что в целом разброс не сильно велик:\n"
      ]
    },
    {
      "cell_type": "code",
      "metadata": {
        "colab": {
          "base_uri": "https://localhost:8080/"
        },
        "id": "4XB4wQ3jhP6u",
        "outputId": "310cc20a-8a3d-44ef-e196-8fa02c0d0aa0"
      },
      "source": [
        "print(df['ceiling_height'].mean())\n",
        "print(df['ceiling_height'].median())"
      ],
      "execution_count": null,
      "outputs": [
        {
          "output_type": "stream",
          "text": [
            "2.7714988968559835\n",
            "2.65\n"
          ],
          "name": "stdout"
        }
      ]
    },
    {
      "cell_type": "markdown",
      "metadata": {
        "id": "pe8lkykPhP6u"
      },
      "source": [
        "Обратимся к [СНиП 31-01-2003 Здания жилые многоквартирные](http://docs.cntd.ru/document/1200035248): \n",
        "\n",
        "*5.8 Высота (от пола до потолка) жилых помещений и кухни (кухни-столовой) в климатических районах IА, IБ, IГ, IД и IVA должна быть не менее **2,7** м, а в других климатических районах - не менее **2,5** м.\n",
        "\n",
        "Высота внутриквартирных коридоров, холлов, передних, антресолей (и под ними) определяется условиями безопасности передвижения людей и должна составлять не менее 2,1 м.\n",
        "\n",
        "В жилых помещениях и кухне квартир, расположенных в мансардном этаже (или верхних этажах с наклонными ограждающими конструкциями), допускается меньшая высота потолка относительно нормируемой на площади, не превышающей 50%.*\n",
        "\n",
        "\n",
        "Что мы видим: средняя и медиана находятся в рамках СНиП. Можно заменить пропуски на Медиану, так как она находится как раз между нормативными значениями в 2.5 и 2.7 метра, а среднее превышает (что связано с артефактами)\n",
        "\n",
        "Заменим NaN на медианное значение. Считаем, что пропуски появились случайно, возможно вопрос не завадся *(MCAR)*"
      ]
    },
    {
      "cell_type": "markdown",
      "metadata": {
        "id": "Y0lxbkKOhP6u"
      },
      "source": [
        "###### Столбец `locality_name`"
      ]
    },
    {
      "cell_type": "code",
      "metadata": {
        "colab": {
          "base_uri": "https://localhost:8080/"
        },
        "id": "9WtSuMnZhP6v",
        "outputId": "eb752837-1f5a-4abe-88ef-1734cb8c9794"
      },
      "source": [
        "print('Доля пропусков внутри столбца \"locality_name\": {:.2%}'.format(df['locality_name'].isna().sum()/len(df)))"
      ],
      "execution_count": null,
      "outputs": [
        {
          "output_type": "stream",
          "text": [
            "Доля пропусков внутри столбца \"locality_name\": 0.21%\n"
          ],
          "name": "stdout"
        }
      ]
    },
    {
      "cell_type": "markdown",
      "metadata": {
        "id": "UnYO0gwYhP6v"
      },
      "source": [
        "Столбец важен для анализа. Но количество пропусков незначительное. Данные отсутствуют по неизвестным причинам, преположим - софрмированы по механизму MNAR. Могли бы восстановить по геопозиции, но данных в сете нет. Предлагаю заменить `NaN` на `Неизвестно` (русский язык для сохранения стиля столбца)"
      ]
    },
    {
      "cell_type": "markdown",
      "metadata": {
        "id": "uv3ebpFDhP6v"
      },
      "source": [
        "###### Столбец `citycenters_nearest`"
      ]
    },
    {
      "cell_type": "code",
      "metadata": {
        "colab": {
          "base_uri": "https://localhost:8080/"
        },
        "id": "GdR2PhoohP6v",
        "outputId": "88d2d98a-761c-4111-dbe5-bf72ecb56edb"
      },
      "source": [
        "print('Доля пропусков внутри столбца \"citycenters_nearest\": {:.2%}'.format(df['citycenters_nearest'].isna().sum()/len(df)))"
      ],
      "execution_count": null,
      "outputs": [
        {
          "output_type": "stream",
          "text": [
            "Доля пропусков внутри столбца \"citycenters_nearest\": 23.29%\n"
          ],
          "name": "stdout"
        }
      ]
    },
    {
      "cell_type": "code",
      "metadata": {
        "colab": {
          "base_uri": "https://localhost:8080/"
        },
        "id": "RIA6JBADhP6v",
        "outputId": "50485679-d4d7-4285-b355-b24ed3f624cc"
      },
      "source": [
        "df['citycenters_nearest'].hist(bins=100, color='steelblue', figsize=(15, 5))\n",
        "plt.title('Гистограмма параметра \"Расстояние до центра города/citycenters_nearest, м\"')\n",
        "plt.xlabel('Расстояние до центра города, м')\n",
        "plt.ylabel('Количество предложений')\n",
        "plt.show()"
      ],
      "execution_count": null,
      "outputs": [
        {
          "output_type": "display_data",
          "data": {
            "image/png": "[encoded data removed]",
            "text/plain": [
              "<Figure size 1080x360 with 1 Axes>"
            ]
          },
          "metadata": {
            "tags": []
          }
        }
      ]
    },
    {
      "cell_type": "markdown",
      "metadata": {
        "id": "0lnP9fW3hP6v"
      },
      "source": [
        "Как мы выяснили, все автоматические данные пропущены (см. пункт 2.2.1.2). Столбец важен для анализа. Данные отсутствуют по неизвестным причинам, преположим - софрмированы по механизму MNAR. Могли бы восстановить по геопозиции, но данных в сете нет. Предлагаю `NaN` за менить на `0` и эти данные исключать при выборке **(используя строгие неравества)**"
      ]
    },
    {
      "cell_type": "markdown",
      "metadata": {
        "id": "z4IICjG9hP6w"
      },
      "source": [
        "###### Столбец `days_exposition`"
      ]
    },
    {
      "cell_type": "code",
      "metadata": {
        "colab": {
          "base_uri": "https://localhost:8080/"
        },
        "id": "j-KqbFaThP6w",
        "outputId": "efaaa8f3-b771-4e97-ed4f-9f675923def6"
      },
      "source": [
        "print('Доля пропусков внутри столбца \"days_exposition\": {:.2%}'.format(df['days_exposition'].isna().sum()/len(df)))"
      ],
      "execution_count": null,
      "outputs": [
        {
          "output_type": "stream",
          "text": [
            "Доля пропусков внутри столбца \"days_exposition\": 13.42%\n"
          ],
          "name": "stdout"
        }
      ]
    },
    {
      "cell_type": "code",
      "metadata": {
        "colab": {
          "base_uri": "https://localhost:8080/"
        },
        "id": "H4oMnWq9hP6w",
        "outputId": "c80b84e4-ac35-4223-d768-970521c1b5b1"
      },
      "source": [
        "df['days_exposition'].hist(bins=200, color='steelblue', figsize=(15, 5), range=(0, 1000))\n",
        "plt.title('Количество дней размещения объявления (от публикации до снятия)')\n",
        "plt.show()"
      ],
      "execution_count": null,
      "outputs": [
        {
          "output_type": "display_data",
          "data": {
            "image/png": "[encoded data removed]",
            "text/plain": [
              "<Figure size 1080x360 with 1 Axes>"
            ]
          },
          "metadata": {
            "tags": []
          }
        }
      ]
    },
    {
      "cell_type": "markdown",
      "metadata": {
        "id": "6daNbRL9hP6w"
      },
      "source": [
        "Срок продажи очень важен нам для анализа. Но восстановить эти данные мы не можем. Сформированы по механизму MNAR - мы могли бы их восстановить зная начальную и конечную дату продажи или снятия объявления. Возможно пропуски обусловлены ошибочным размещением или объявлениями, которые были сняты в тот же день и это означает 0. Предлагаю `NaN` за менить на `0` и эти данные исключать при выборке **(используя строгие неравества)**"
      ]
    },
    {
      "cell_type": "markdown",
      "metadata": {
        "id": "hE5QLMSAhP6x"
      },
      "source": [
        "###### Столбцы `kitchen_area`, `living_area`"
      ]
    },
    {
      "cell_type": "code",
      "metadata": {
        "colab": {
          "base_uri": "https://localhost:8080/"
        },
        "id": "fqQdhtPghP6x",
        "outputId": "5b36e0bc-f0af-4c9e-d021-ffaa06b29e0b"
      },
      "source": [
        "print('Доля пропусков внутри столбца \"kitchen_area\": {:.2%}'.format(df['kitchen_area'].isna().sum()/len(df)))\n",
        "print('Доля пропусков внутри столбца \"living_area\": {:.2%}'.format(df['living_area'].isna().sum()/len(df)))"
      ],
      "execution_count": null,
      "outputs": [
        {
          "output_type": "stream",
          "text": [
            "Доля пропусков внутри столбца \"kitchen_area\": 9.61%\n",
            "Доля пропусков внутри столбца \"living_area\": 8.03%\n"
          ],
          "name": "stdout"
        }
      ]
    },
    {
      "cell_type": "code",
      "metadata": {
        "colab": {
          "base_uri": "https://localhost:8080/"
        },
        "id": "kXpiMjIOhP6x",
        "outputId": "9bf37e86-021d-431f-8df0-d7a62221eaa4"
      },
      "source": [
        "print(df['kitchen_area'].corr(df['living_area'])) # корреляция между площадью кухни и жилой площадью\n",
        "print(df['kitchen_area'].corr(df['total_area'])) # корреляция между площадью кухни и общей площадью\n",
        "print(df['living_area'].corr(df['total_area'])) # корреляция между жилой площадью и общей площадью"
      ],
      "execution_count": null,
      "outputs": [
        {
          "output_type": "stream",
          "text": [
            "0.42867430668441225\n",
            "0.6091211711198314\n",
            "0.9395373338721491\n"
          ],
          "name": "stdout"
        }
      ]
    },
    {
      "cell_type": "markdown",
      "metadata": {
        "id": "9HCyq88IhP6x"
      },
      "source": [
        "Что мы видим. Между площадью кухни и жилой площадью наблюдается слабая корреляция. Между площадью кухни и общей площадью квартиры - средняя. Сильная корреляция наблюдается между жилой площадью и площадью общей. Думаю пропуски носят полностью случайный характер *(MCAR)*. Предлагаю `NaN` за менить на `0` и эти данные исключать при выборке **(используя строгие неравества)**"
      ]
    },
    {
      "cell_type": "markdown",
      "metadata": {
        "id": "JTpaFCr4hP6x"
      },
      "source": [
        "###### Столбец `floors_total`"
      ]
    },
    {
      "cell_type": "code",
      "metadata": {
        "colab": {
          "base_uri": "https://localhost:8080/"
        },
        "id": "I5mj1MowhP6x",
        "outputId": "44f7cab6-91d0-4d39-d3e4-d1648c6e47cf"
      },
      "source": [
        "print('Доля пропусков внутри столбца \"floors_total\": {:.2%}'.format(df['floors_total'].isna().sum()/len(df)))\n"
      ],
      "execution_count": null,
      "outputs": [
        {
          "output_type": "stream",
          "text": [
            "Доля пропусков внутри столбца \"floors_total\": 0.36%\n"
          ],
          "name": "stdout"
        }
      ]
    },
    {
      "cell_type": "markdown",
      "metadata": {
        "id": "BWNMY0JFhP6y"
      },
      "source": [
        "Доля пропусков невелика, можно не учитывать в анализе, но НЕ УДАЛЯТЬ. Предлагаю замену на `0`, при категории попадет в `Другой`. Пропусков немного, искажений это не даст"
      ]
    },
    {
      "cell_type": "markdown",
      "metadata": {
        "id": "MAEnQp0ThP6y"
      },
      "source": [
        "##### Обработка пропусков"
      ]
    },
    {
      "cell_type": "markdown",
      "metadata": {
        "id": "gCDrFNMYhP6y"
      },
      "source": [
        "Заменим пропуски и создадим новый сет"
      ]
    },
    {
      "cell_type": "code",
      "metadata": {
        "scrolled": false,
        "colab": {
          "base_uri": "https://localhost:8080/"
        },
        "id": "UCEW--dchP6y",
        "outputId": "c220b503-9cf6-4f5c-fea2-f8e409110d47"
      },
      "source": [
        "# найдем медиану высоты потолков\n",
        "\n",
        "ceiling_height_median = df['ceiling_height'].median()\n",
        "\n",
        "# заполним NaN по интересующим нас столбцам\n",
        "# создадим словарь значений\n",
        "values = {'ceiling_height': ceiling_height_median,'floors_total': 0, \n",
        "          'balcony': 0, 'living_area': 0, 'kitchen_area': 0, \n",
        "          'locality_name': 'Неизвестно', 'days_exposition': 0, 'citycenters_nearest': 0}\n",
        "df.fillna(value=values, inplace=True)\n",
        "real_estate = df.drop(['total_images', \n",
        "                       'is_apartment', \n",
        "                       'studio', 'open_plan', \n",
        "                       'airports_nearest',\n",
        "                       'parks_around3000', 'parks_nearest',\n",
        "                       'ponds_around3000', 'ponds_nearest'], 1)\n",
        "\n",
        "real_estate.info()\n",
        "real_estate.describe()\n",
        "real_estate.head()\n"
      ],
      "execution_count": null,
      "outputs": [
        {
          "output_type": "stream",
          "text": [
            "<class 'pandas.core.frame.DataFrame'>\n",
            "RangeIndex: 23699 entries, 0 to 23698\n",
            "Data columns (total 13 columns):\n",
            " #   Column                Non-Null Count  Dtype  \n",
            "---  ------                --------------  -----  \n",
            " 0   last_price            23699 non-null  float64\n",
            " 1   total_area            23699 non-null  float64\n",
            " 2   first_day_exposition  23699 non-null  object \n",
            " 3   rooms                 23699 non-null  int64  \n",
            " 4   ceiling_height        23699 non-null  float64\n",
            " 5   floors_total          23699 non-null  float64\n",
            " 6   living_area           23699 non-null  float64\n",
            " 7   floor                 23699 non-null  int64  \n",
            " 8   kitchen_area          23699 non-null  float64\n",
            " 9   balcony               23699 non-null  float64\n",
            " 10  locality_name         23699 non-null  object \n",
            " 11  citycenters_nearest   23699 non-null  float64\n",
            " 12  days_exposition       23699 non-null  float64\n",
            "dtypes: float64(9), int64(2), object(2)\n",
            "memory usage: 2.4+ MB\n"
          ],
          "name": "stdout"
        },
        {
          "output_type": "execute_result",
          "data": {
            "text/html": [
              "<div>\n",
              "<style scoped>\n",
              "    .dataframe tbody tr th:only-of-type {\n",
              "        vertical-align: middle;\n",
              "    }\n",
              "\n",
              "    .dataframe tbody tr th {\n",
              "        vertical-align: top;\n",
              "    }\n",
              "\n",
              "    .dataframe thead th {\n",
              "        text-align: right;\n",
              "    }\n",
              "</style>\n",
              "<table border=\"1\" class=\"dataframe\">\n",
              "  <thead>\n",
              "    <tr style=\"text-align: right;\">\n",
              "      <th></th>\n",
              "      <th>last_price</th>\n",
              "      <th>total_area</th>\n",
              "      <th>first_day_exposition</th>\n",
              "      <th>rooms</th>\n",
              "      <th>ceiling_height</th>\n",
              "      <th>floors_total</th>\n",
              "      <th>living_area</th>\n",
              "      <th>floor</th>\n",
              "      <th>kitchen_area</th>\n",
              "      <th>balcony</th>\n",
              "      <th>locality_name</th>\n",
              "      <th>citycenters_nearest</th>\n",
              "      <th>days_exposition</th>\n",
              "    </tr>\n",
              "  </thead>\n",
              "  <tbody>\n",
              "    <tr>\n",
              "      <th>0</th>\n",
              "      <td>13000000.0</td>\n",
              "      <td>108.0</td>\n",
              "      <td>2019-03-07T00:00:00</td>\n",
              "      <td>3</td>\n",
              "      <td>2.70</td>\n",
              "      <td>16.0</td>\n",
              "      <td>51.0</td>\n",
              "      <td>8</td>\n",
              "      <td>25.0</td>\n",
              "      <td>0.0</td>\n",
              "      <td>Санкт-Петербург</td>\n",
              "      <td>16028.0</td>\n",
              "      <td>0.0</td>\n",
              "    </tr>\n",
              "    <tr>\n",
              "      <th>1</th>\n",
              "      <td>3350000.0</td>\n",
              "      <td>40.4</td>\n",
              "      <td>2018-12-04T00:00:00</td>\n",
              "      <td>1</td>\n",
              "      <td>2.65</td>\n",
              "      <td>11.0</td>\n",
              "      <td>18.6</td>\n",
              "      <td>1</td>\n",
              "      <td>11.0</td>\n",
              "      <td>2.0</td>\n",
              "      <td>посёлок Шушары</td>\n",
              "      <td>18603.0</td>\n",
              "      <td>81.0</td>\n",
              "    </tr>\n",
              "    <tr>\n",
              "      <th>2</th>\n",
              "      <td>5196000.0</td>\n",
              "      <td>56.0</td>\n",
              "      <td>2015-08-20T00:00:00</td>\n",
              "      <td>2</td>\n",
              "      <td>2.65</td>\n",
              "      <td>5.0</td>\n",
              "      <td>34.3</td>\n",
              "      <td>4</td>\n",
              "      <td>8.3</td>\n",
              "      <td>0.0</td>\n",
              "      <td>Санкт-Петербург</td>\n",
              "      <td>13933.0</td>\n",
              "      <td>558.0</td>\n",
              "    </tr>\n",
              "    <tr>\n",
              "      <th>3</th>\n",
              "      <td>64900000.0</td>\n",
              "      <td>159.0</td>\n",
              "      <td>2015-07-24T00:00:00</td>\n",
              "      <td>3</td>\n",
              "      <td>2.65</td>\n",
              "      <td>14.0</td>\n",
              "      <td>0.0</td>\n",
              "      <td>9</td>\n",
              "      <td>0.0</td>\n",
              "      <td>0.0</td>\n",
              "      <td>Санкт-Петербург</td>\n",
              "      <td>6800.0</td>\n",
              "      <td>424.0</td>\n",
              "    </tr>\n",
              "    <tr>\n",
              "      <th>4</th>\n",
              "      <td>10000000.0</td>\n",
              "      <td>100.0</td>\n",
              "      <td>2018-06-19T00:00:00</td>\n",
              "      <td>2</td>\n",
              "      <td>3.03</td>\n",
              "      <td>14.0</td>\n",
              "      <td>32.0</td>\n",
              "      <td>13</td>\n",
              "      <td>41.0</td>\n",
              "      <td>0.0</td>\n",
              "      <td>Санкт-Петербург</td>\n",
              "      <td>8098.0</td>\n",
              "      <td>121.0</td>\n",
              "    </tr>\n",
              "  </tbody>\n",
              "</table>\n",
              "</div>"
            ],
            "text/plain": [
              "   last_price  total_area  ... citycenters_nearest  days_exposition\n",
              "0  13000000.0       108.0  ...             16028.0              0.0\n",
              "1   3350000.0        40.4  ...             18603.0             81.0\n",
              "2   5196000.0        56.0  ...             13933.0            558.0\n",
              "3  64900000.0       159.0  ...              6800.0            424.0\n",
              "4  10000000.0       100.0  ...              8098.0            121.0\n",
              "\n",
              "[5 rows x 13 columns]"
            ]
          },
          "metadata": {
            "tags": []
          },
          "execution_count": 27
        }
      ]
    },
    {
      "cell_type": "markdown",
      "metadata": {
        "id": "j4xcPjnBhP6y"
      },
      "source": [
        "Сет новый. Без пропусков. Какие то значения договорились не брать в анализ (например, 0 расстояния до центра) при выборке, но выглядит пока все лучше и строки сохранили на выходе все также 23699."
      ]
    },
    {
      "cell_type": "markdown",
      "metadata": {
        "id": "gDnKjPyrhP6y"
      },
      "source": [
        "##### Замена значений"
      ]
    },
    {
      "cell_type": "markdown",
      "metadata": {
        "id": "LJ8FSLHfhP6y"
      },
      "source": [
        "- last_price - приведем к целочисленному значению Int, для исключения подсчета копеек в цене\n",
        "- citycenters_nearest  - приведем к целочисленному значению Int (нам нужны метры, точность в сантиметрах не требуется)\n",
        "- total_area - округлим до 1 знака после запятой, тип оставим float (площадь принято считать до 1 знака)\n",
        "- living_area - округлим до 1 знака после запятой, и приведем к float (площадь принято считать до 1 знака)\n",
        "- kitchen_area - округлим до 1 знака после запятой,  и приведем к  float (площадь принято считать до 1 знака)\n",
        "- rooms - приведем к целочисленному значению Int (комнаты должны быть целыми, доли не считаем)\n",
        "- ceiling_height - округлим до 1 знака после запятой, тип оставим float (высота потолков согласно СНИП принята до 1 знака после запятой)-\n",
        "- floor - приведем к целочисленному значению Int (этаж - принимает целые значения)\n",
        "- first_day_exposition - object заменим на datetime (для работы со временем необходимо привести в формат datetime - это позволит нам вынимать интересующие нас параметры)\n",
        "- floors_total  - object заменим на int (этаж - принимает целые значения)\n",
        "- balcony - object заменим на int\n",
        "- days_exposition - object заменим на int, это количество дней, целое число (доли дней нас не интересуют)"
      ]
    },
    {
      "cell_type": "code",
      "metadata": {
        "colab": {
          "base_uri": "https://localhost:8080/"
        },
        "id": "-QNGGSPQhP6y",
        "outputId": "389b42ac-91cb-443c-a521-ff33ccc9ad71"
      },
      "source": [
        "# заменим значения, проведем проверку замены\n",
        "\n",
        "\n",
        "# приведем часть столбцов к формату int\n",
        "columns_to_int = ['last_price', 'rooms', 'citycenters_nearest', \n",
        "                  'floor', 'floors_total', 'balcony', 'days_exposition']\n",
        "for column in columns_to_int:\n",
        "    real_estate[column] = real_estate[real_estate[column].notna()][column].astype('int64')\n",
        "\n",
        "# приведем часть столбцов в формат float64 и округлим до 1 знака\n",
        "\n",
        "columns_to_float = ['living_area', 'kitchen_area', 'ceiling_height', 'total_area']\n",
        "\n",
        "for column in columns_to_float:\n",
        "    real_estate[column] = real_estate[real_estate[column].notna()][column].astype('float64').round(1)\n",
        "    \n",
        "# переведем столбец first_day_exposition в формат datetime\n",
        "\n",
        "real_estate['first_day_exposition'] = pd.to_datetime(real_estate['first_day_exposition'], format='%Y-%m-%dT%H:%M:%S')\n",
        "\n",
        "real_estate.info()\n",
        "real_estate.head()\n"
      ],
      "execution_count": null,
      "outputs": [
        {
          "output_type": "stream",
          "text": [
            "<class 'pandas.core.frame.DataFrame'>\n",
            "RangeIndex: 23699 entries, 0 to 23698\n",
            "Data columns (total 13 columns):\n",
            " #   Column                Non-Null Count  Dtype         \n",
            "---  ------                --------------  -----         \n",
            " 0   last_price            23699 non-null  int64         \n",
            " 1   total_area            23699 non-null  float64       \n",
            " 2   first_day_exposition  23699 non-null  datetime64[ns]\n",
            " 3   rooms                 23699 non-null  int64         \n",
            " 4   ceiling_height        23699 non-null  float64       \n",
            " 5   floors_total          23699 non-null  int64         \n",
            " 6   living_area           23699 non-null  float64       \n",
            " 7   floor                 23699 non-null  int64         \n",
            " 8   kitchen_area          23699 non-null  float64       \n",
            " 9   balcony               23699 non-null  int64         \n",
            " 10  locality_name         23699 non-null  object        \n",
            " 11  citycenters_nearest   23699 non-null  int64         \n",
            " 12  days_exposition       23699 non-null  int64         \n",
            "dtypes: datetime64[ns](1), float64(4), int64(7), object(1)\n",
            "memory usage: 2.4+ MB\n"
          ],
          "name": "stdout"
        },
        {
          "output_type": "execute_result",
          "data": {
            "text/html": [
              "<div>\n",
              "<style scoped>\n",
              "    .dataframe tbody tr th:only-of-type {\n",
              "        vertical-align: middle;\n",
              "    }\n",
              "\n",
              "    .dataframe tbody tr th {\n",
              "        vertical-align: top;\n",
              "    }\n",
              "\n",
              "    .dataframe thead th {\n",
              "        text-align: right;\n",
              "    }\n",
              "</style>\n",
              "<table border=\"1\" class=\"dataframe\">\n",
              "  <thead>\n",
              "    <tr style=\"text-align: right;\">\n",
              "      <th></th>\n",
              "      <th>last_price</th>\n",
              "      <th>total_area</th>\n",
              "      <th>first_day_exposition</th>\n",
              "      <th>rooms</th>\n",
              "      <th>ceiling_height</th>\n",
              "      <th>floors_total</th>\n",
              "      <th>living_area</th>\n",
              "      <th>floor</th>\n",
              "      <th>kitchen_area</th>\n",
              "      <th>balcony</th>\n",
              "      <th>locality_name</th>\n",
              "      <th>citycenters_nearest</th>\n",
              "      <th>days_exposition</th>\n",
              "    </tr>\n",
              "  </thead>\n",
              "  <tbody>\n",
              "    <tr>\n",
              "      <th>0</th>\n",
              "      <td>13000000</td>\n",
              "      <td>108.0</td>\n",
              "      <td>2019-03-07</td>\n",
              "      <td>3</td>\n",
              "      <td>2.7</td>\n",
              "      <td>16</td>\n",
              "      <td>51.0</td>\n",
              "      <td>8</td>\n",
              "      <td>25.0</td>\n",
              "      <td>0</td>\n",
              "      <td>Санкт-Петербург</td>\n",
              "      <td>16028</td>\n",
              "      <td>0</td>\n",
              "    </tr>\n",
              "    <tr>\n",
              "      <th>1</th>\n",
              "      <td>3350000</td>\n",
              "      <td>40.4</td>\n",
              "      <td>2018-12-04</td>\n",
              "      <td>1</td>\n",
              "      <td>2.6</td>\n",
              "      <td>11</td>\n",
              "      <td>18.6</td>\n",
              "      <td>1</td>\n",
              "      <td>11.0</td>\n",
              "      <td>2</td>\n",
              "      <td>посёлок Шушары</td>\n",
              "      <td>18603</td>\n",
              "      <td>81</td>\n",
              "    </tr>\n",
              "    <tr>\n",
              "      <th>2</th>\n",
              "      <td>5196000</td>\n",
              "      <td>56.0</td>\n",
              "      <td>2015-08-20</td>\n",
              "      <td>2</td>\n",
              "      <td>2.6</td>\n",
              "      <td>5</td>\n",
              "      <td>34.3</td>\n",
              "      <td>4</td>\n",
              "      <td>8.3</td>\n",
              "      <td>0</td>\n",
              "      <td>Санкт-Петербург</td>\n",
              "      <td>13933</td>\n",
              "      <td>558</td>\n",
              "    </tr>\n",
              "    <tr>\n",
              "      <th>3</th>\n",
              "      <td>64900000</td>\n",
              "      <td>159.0</td>\n",
              "      <td>2015-07-24</td>\n",
              "      <td>3</td>\n",
              "      <td>2.6</td>\n",
              "      <td>14</td>\n",
              "      <td>0.0</td>\n",
              "      <td>9</td>\n",
              "      <td>0.0</td>\n",
              "      <td>0</td>\n",
              "      <td>Санкт-Петербург</td>\n",
              "      <td>6800</td>\n",
              "      <td>424</td>\n",
              "    </tr>\n",
              "    <tr>\n",
              "      <th>4</th>\n",
              "      <td>10000000</td>\n",
              "      <td>100.0</td>\n",
              "      <td>2018-06-19</td>\n",
              "      <td>2</td>\n",
              "      <td>3.0</td>\n",
              "      <td>14</td>\n",
              "      <td>32.0</td>\n",
              "      <td>13</td>\n",
              "      <td>41.0</td>\n",
              "      <td>0</td>\n",
              "      <td>Санкт-Петербург</td>\n",
              "      <td>8098</td>\n",
              "      <td>121</td>\n",
              "    </tr>\n",
              "  </tbody>\n",
              "</table>\n",
              "</div>"
            ],
            "text/plain": [
              "   last_price  total_area  ... citycenters_nearest  days_exposition\n",
              "0    13000000       108.0  ...               16028                0\n",
              "1     3350000        40.4  ...               18603               81\n",
              "2     5196000        56.0  ...               13933              558\n",
              "3    64900000       159.0  ...                6800              424\n",
              "4    10000000       100.0  ...                8098              121\n",
              "\n",
              "[5 rows x 13 columns]"
            ]
          },
          "metadata": {
            "tags": []
          },
          "execution_count": 28
        }
      ]
    },
    {
      "cell_type": "markdown",
      "metadata": {
        "id": "qOKMGnuEhP6z"
      },
      "source": [
        "#### Вывод"
      ]
    },
    {
      "cell_type": "markdown",
      "metadata": {
        "id": "1sV-w13uhP6z"
      },
      "source": [
        "Таким образом, мы выделили столбцы для анализа, так или иначе убрали `NaN`, дальнейший анализ будем проводить с помощью диаграмм рассеивания и срезов, исключая аномальные значения. Значения в окончательной таблице `real_estate` привели к необходимым"
      ]
    },
    {
      "cell_type": "markdown",
      "metadata": {
        "id": "wqKhnvJUhP60"
      },
      "source": [
        "### Рассчет и добавление в таблицу дополнительных параметров"
      ]
    },
    {
      "cell_type": "markdown",
      "metadata": {
        "id": "96dAg61ehP60"
      },
      "source": [
        "#### Цена за квадратный метр"
      ]
    },
    {
      "cell_type": "code",
      "metadata": {
        "colab": {
          "base_uri": "https://localhost:8080/"
        },
        "id": "GYboH2Q0hP60",
        "outputId": "d59cacf9-3026-4130-c92f-4a795aa08772"
      },
      "source": [
        "real_estate['price_of_sqm'] = round(real_estate['last_price']/real_estate['total_area'], 1)\n",
        "real_estate.head()"
      ],
      "execution_count": null,
      "outputs": [
        {
          "output_type": "execute_result",
          "data": {
            "text/html": [
              "<div>\n",
              "<style scoped>\n",
              "    .dataframe tbody tr th:only-of-type {\n",
              "        vertical-align: middle;\n",
              "    }\n",
              "\n",
              "    .dataframe tbody tr th {\n",
              "        vertical-align: top;\n",
              "    }\n",
              "\n",
              "    .dataframe thead th {\n",
              "        text-align: right;\n",
              "    }\n",
              "</style>\n",
              "<table border=\"1\" class=\"dataframe\">\n",
              "  <thead>\n",
              "    <tr style=\"text-align: right;\">\n",
              "      <th></th>\n",
              "      <th>last_price</th>\n",
              "      <th>total_area</th>\n",
              "      <th>first_day_exposition</th>\n",
              "      <th>rooms</th>\n",
              "      <th>ceiling_height</th>\n",
              "      <th>floors_total</th>\n",
              "      <th>living_area</th>\n",
              "      <th>floor</th>\n",
              "      <th>kitchen_area</th>\n",
              "      <th>balcony</th>\n",
              "      <th>locality_name</th>\n",
              "      <th>citycenters_nearest</th>\n",
              "      <th>days_exposition</th>\n",
              "      <th>price_of_sqm</th>\n",
              "    </tr>\n",
              "  </thead>\n",
              "  <tbody>\n",
              "    <tr>\n",
              "      <th>0</th>\n",
              "      <td>13000000</td>\n",
              "      <td>108.0</td>\n",
              "      <td>2019-03-07</td>\n",
              "      <td>3</td>\n",
              "      <td>2.7</td>\n",
              "      <td>16</td>\n",
              "      <td>51.0</td>\n",
              "      <td>8</td>\n",
              "      <td>25.0</td>\n",
              "      <td>0</td>\n",
              "      <td>Санкт-Петербург</td>\n",
              "      <td>16028</td>\n",
              "      <td>0</td>\n",
              "      <td>120370.4</td>\n",
              "    </tr>\n",
              "    <tr>\n",
              "      <th>1</th>\n",
              "      <td>3350000</td>\n",
              "      <td>40.4</td>\n",
              "      <td>2018-12-04</td>\n",
              "      <td>1</td>\n",
              "      <td>2.6</td>\n",
              "      <td>11</td>\n",
              "      <td>18.6</td>\n",
              "      <td>1</td>\n",
              "      <td>11.0</td>\n",
              "      <td>2</td>\n",
              "      <td>посёлок Шушары</td>\n",
              "      <td>18603</td>\n",
              "      <td>81</td>\n",
              "      <td>82920.8</td>\n",
              "    </tr>\n",
              "    <tr>\n",
              "      <th>2</th>\n",
              "      <td>5196000</td>\n",
              "      <td>56.0</td>\n",
              "      <td>2015-08-20</td>\n",
              "      <td>2</td>\n",
              "      <td>2.6</td>\n",
              "      <td>5</td>\n",
              "      <td>34.3</td>\n",
              "      <td>4</td>\n",
              "      <td>8.3</td>\n",
              "      <td>0</td>\n",
              "      <td>Санкт-Петербург</td>\n",
              "      <td>13933</td>\n",
              "      <td>558</td>\n",
              "      <td>92785.7</td>\n",
              "    </tr>\n",
              "    <tr>\n",
              "      <th>3</th>\n",
              "      <td>64900000</td>\n",
              "      <td>159.0</td>\n",
              "      <td>2015-07-24</td>\n",
              "      <td>3</td>\n",
              "      <td>2.6</td>\n",
              "      <td>14</td>\n",
              "      <td>0.0</td>\n",
              "      <td>9</td>\n",
              "      <td>0.0</td>\n",
              "      <td>0</td>\n",
              "      <td>Санкт-Петербург</td>\n",
              "      <td>6800</td>\n",
              "      <td>424</td>\n",
              "      <td>408176.1</td>\n",
              "    </tr>\n",
              "    <tr>\n",
              "      <th>4</th>\n",
              "      <td>10000000</td>\n",
              "      <td>100.0</td>\n",
              "      <td>2018-06-19</td>\n",
              "      <td>2</td>\n",
              "      <td>3.0</td>\n",
              "      <td>14</td>\n",
              "      <td>32.0</td>\n",
              "      <td>13</td>\n",
              "      <td>41.0</td>\n",
              "      <td>0</td>\n",
              "      <td>Санкт-Петербург</td>\n",
              "      <td>8098</td>\n",
              "      <td>121</td>\n",
              "      <td>100000.0</td>\n",
              "    </tr>\n",
              "  </tbody>\n",
              "</table>\n",
              "</div>"
            ],
            "text/plain": [
              "   last_price  total_area  ... days_exposition  price_of_sqm\n",
              "0    13000000       108.0  ...               0      120370.4\n",
              "1     3350000        40.4  ...              81       82920.8\n",
              "2     5196000        56.0  ...             558       92785.7\n",
              "3    64900000       159.0  ...             424      408176.1\n",
              "4    10000000       100.0  ...             121      100000.0\n",
              "\n",
              "[5 rows x 14 columns]"
            ]
          },
          "metadata": {
            "tags": []
          },
          "execution_count": 29
        }
      ]
    },
    {
      "cell_type": "markdown",
      "metadata": {
        "id": "yigW3sf0hP60"
      },
      "source": [
        "#### День недели, месяц и год публикации объявления"
      ]
    },
    {
      "cell_type": "code",
      "metadata": {
        "colab": {
          "base_uri": "https://localhost:8080/"
        },
        "id": "0RGn3IGmhP60",
        "outputId": "256e82f4-0008-4700-9143-145d7feed906"
      },
      "source": [
        "real_estate['month'] = real_estate['first_day_exposition'].dt.month\n",
        "real_estate['year'] = real_estate['first_day_exposition'].dt.year\n",
        "real_estate['day'] = real_estate['first_day_exposition'].dt.weekday\n",
        "# привели дни недели к циферным обозначением, 0 для понедельника и 6 для воскресенья\n",
        "# сделаем более удобный вид, используя словарь\n",
        "\n",
        "dict_of_weekdays = {0: 'Mon', 1: 'Tue', 2: 'Wed', 3: 'Thu', \n",
        "                    4: 'Fri', 5: 'Sat', 6: 'Sun'}\n",
        "real_estate['day'] = real_estate['day'].map(dict_of_weekdays)\n",
        "real_estate.head()\n"
      ],
      "execution_count": null,
      "outputs": [
        {
          "output_type": "execute_result",
          "data": {
            "text/html": [
              "<div>\n",
              "<style scoped>\n",
              "    .dataframe tbody tr th:only-of-type {\n",
              "        vertical-align: middle;\n",
              "    }\n",
              "\n",
              "    .dataframe tbody tr th {\n",
              "        vertical-align: top;\n",
              "    }\n",
              "\n",
              "    .dataframe thead th {\n",
              "        text-align: right;\n",
              "    }\n",
              "</style>\n",
              "<table border=\"1\" class=\"dataframe\">\n",
              "  <thead>\n",
              "    <tr style=\"text-align: right;\">\n",
              "      <th></th>\n",
              "      <th>last_price</th>\n",
              "      <th>total_area</th>\n",
              "      <th>first_day_exposition</th>\n",
              "      <th>rooms</th>\n",
              "      <th>ceiling_height</th>\n",
              "      <th>floors_total</th>\n",
              "      <th>living_area</th>\n",
              "      <th>floor</th>\n",
              "      <th>kitchen_area</th>\n",
              "      <th>balcony</th>\n",
              "      <th>locality_name</th>\n",
              "      <th>citycenters_nearest</th>\n",
              "      <th>days_exposition</th>\n",
              "      <th>price_of_sqm</th>\n",
              "      <th>month</th>\n",
              "      <th>year</th>\n",
              "      <th>day</th>\n",
              "    </tr>\n",
              "  </thead>\n",
              "  <tbody>\n",
              "    <tr>\n",
              "      <th>0</th>\n",
              "      <td>13000000</td>\n",
              "      <td>108.0</td>\n",
              "      <td>2019-03-07</td>\n",
              "      <td>3</td>\n",
              "      <td>2.7</td>\n",
              "      <td>16</td>\n",
              "      <td>51.0</td>\n",
              "      <td>8</td>\n",
              "      <td>25.0</td>\n",
              "      <td>0</td>\n",
              "      <td>Санкт-Петербург</td>\n",
              "      <td>16028</td>\n",
              "      <td>0</td>\n",
              "      <td>120370.4</td>\n",
              "      <td>3</td>\n",
              "      <td>2019</td>\n",
              "      <td>Thu</td>\n",
              "    </tr>\n",
              "    <tr>\n",
              "      <th>1</th>\n",
              "      <td>3350000</td>\n",
              "      <td>40.4</td>\n",
              "      <td>2018-12-04</td>\n",
              "      <td>1</td>\n",
              "      <td>2.6</td>\n",
              "      <td>11</td>\n",
              "      <td>18.6</td>\n",
              "      <td>1</td>\n",
              "      <td>11.0</td>\n",
              "      <td>2</td>\n",
              "      <td>посёлок Шушары</td>\n",
              "      <td>18603</td>\n",
              "      <td>81</td>\n",
              "      <td>82920.8</td>\n",
              "      <td>12</td>\n",
              "      <td>2018</td>\n",
              "      <td>Tue</td>\n",
              "    </tr>\n",
              "    <tr>\n",
              "      <th>2</th>\n",
              "      <td>5196000</td>\n",
              "      <td>56.0</td>\n",
              "      <td>2015-08-20</td>\n",
              "      <td>2</td>\n",
              "      <td>2.6</td>\n",
              "      <td>5</td>\n",
              "      <td>34.3</td>\n",
              "      <td>4</td>\n",
              "      <td>8.3</td>\n",
              "      <td>0</td>\n",
              "      <td>Санкт-Петербург</td>\n",
              "      <td>13933</td>\n",
              "      <td>558</td>\n",
              "      <td>92785.7</td>\n",
              "      <td>8</td>\n",
              "      <td>2015</td>\n",
              "      <td>Thu</td>\n",
              "    </tr>\n",
              "    <tr>\n",
              "      <th>3</th>\n",
              "      <td>64900000</td>\n",
              "      <td>159.0</td>\n",
              "      <td>2015-07-24</td>\n",
              "      <td>3</td>\n",
              "      <td>2.6</td>\n",
              "      <td>14</td>\n",
              "      <td>0.0</td>\n",
              "      <td>9</td>\n",
              "      <td>0.0</td>\n",
              "      <td>0</td>\n",
              "      <td>Санкт-Петербург</td>\n",
              "      <td>6800</td>\n",
              "      <td>424</td>\n",
              "      <td>408176.1</td>\n",
              "      <td>7</td>\n",
              "      <td>2015</td>\n",
              "      <td>Fri</td>\n",
              "    </tr>\n",
              "    <tr>\n",
              "      <th>4</th>\n",
              "      <td>10000000</td>\n",
              "      <td>100.0</td>\n",
              "      <td>2018-06-19</td>\n",
              "      <td>2</td>\n",
              "      <td>3.0</td>\n",
              "      <td>14</td>\n",
              "      <td>32.0</td>\n",
              "      <td>13</td>\n",
              "      <td>41.0</td>\n",
              "      <td>0</td>\n",
              "      <td>Санкт-Петербург</td>\n",
              "      <td>8098</td>\n",
              "      <td>121</td>\n",
              "      <td>100000.0</td>\n",
              "      <td>6</td>\n",
              "      <td>2018</td>\n",
              "      <td>Tue</td>\n",
              "    </tr>\n",
              "  </tbody>\n",
              "</table>\n",
              "</div>"
            ],
            "text/plain": [
              "   last_price  total_area first_day_exposition  ...  month  year  day\n",
              "0    13000000       108.0           2019-03-07  ...      3  2019  Thu\n",
              "1     3350000        40.4           2018-12-04  ...     12  2018  Tue\n",
              "2     5196000        56.0           2015-08-20  ...      8  2015  Thu\n",
              "3    64900000       159.0           2015-07-24  ...      7  2015  Fri\n",
              "4    10000000       100.0           2018-06-19  ...      6  2018  Tue\n",
              "\n",
              "[5 rows x 17 columns]"
            ]
          },
          "metadata": {
            "tags": []
          },
          "execution_count": 30
        }
      ]
    },
    {
      "cell_type": "markdown",
      "metadata": {
        "id": "EqD86OgIhP60"
      },
      "source": [
        "#### Этаж квартиры. Категорирование"
      ]
    },
    {
      "cell_type": "code",
      "metadata": {
        "colab": {
          "base_uri": "https://localhost:8080/"
        },
        "id": "o3ya27MuhP60",
        "outputId": "406b976f-8065-4af0-bb3a-7b577a0e299f"
      },
      "source": [
        "#замену реализуем через .where()\n",
        "real_estate['floor_cat'] = np.where(real_estate['floor'] == 1, 'первый', 'другой')\n",
        "real_estate['floor_cat'] = np.where(real_estate['floor'] == real_estate['floors_total'], \n",
        "                                     'последний', real_estate['floor_cat']\n",
        "                                    )\n",
        "\n",
        "real_estate.head()"
      ],
      "execution_count": null,
      "outputs": [
        {
          "output_type": "execute_result",
          "data": {
            "text/html": [
              "<div>\n",
              "<style scoped>\n",
              "    .dataframe tbody tr th:only-of-type {\n",
              "        vertical-align: middle;\n",
              "    }\n",
              "\n",
              "    .dataframe tbody tr th {\n",
              "        vertical-align: top;\n",
              "    }\n",
              "\n",
              "    .dataframe thead th {\n",
              "        text-align: right;\n",
              "    }\n",
              "</style>\n",
              "<table border=\"1\" class=\"dataframe\">\n",
              "  <thead>\n",
              "    <tr style=\"text-align: right;\">\n",
              "      <th></th>\n",
              "      <th>last_price</th>\n",
              "      <th>total_area</th>\n",
              "      <th>first_day_exposition</th>\n",
              "      <th>rooms</th>\n",
              "      <th>ceiling_height</th>\n",
              "      <th>floors_total</th>\n",
              "      <th>living_area</th>\n",
              "      <th>floor</th>\n",
              "      <th>kitchen_area</th>\n",
              "      <th>balcony</th>\n",
              "      <th>locality_name</th>\n",
              "      <th>citycenters_nearest</th>\n",
              "      <th>days_exposition</th>\n",
              "      <th>price_of_sqm</th>\n",
              "      <th>month</th>\n",
              "      <th>year</th>\n",
              "      <th>day</th>\n",
              "      <th>floor_cat</th>\n",
              "    </tr>\n",
              "  </thead>\n",
              "  <tbody>\n",
              "    <tr>\n",
              "      <th>0</th>\n",
              "      <td>13000000</td>\n",
              "      <td>108.0</td>\n",
              "      <td>2019-03-07</td>\n",
              "      <td>3</td>\n",
              "      <td>2.7</td>\n",
              "      <td>16</td>\n",
              "      <td>51.0</td>\n",
              "      <td>8</td>\n",
              "      <td>25.0</td>\n",
              "      <td>0</td>\n",
              "      <td>Санкт-Петербург</td>\n",
              "      <td>16028</td>\n",
              "      <td>0</td>\n",
              "      <td>120370.4</td>\n",
              "      <td>3</td>\n",
              "      <td>2019</td>\n",
              "      <td>Thu</td>\n",
              "      <td>другой</td>\n",
              "    </tr>\n",
              "    <tr>\n",
              "      <th>1</th>\n",
              "      <td>3350000</td>\n",
              "      <td>40.4</td>\n",
              "      <td>2018-12-04</td>\n",
              "      <td>1</td>\n",
              "      <td>2.6</td>\n",
              "      <td>11</td>\n",
              "      <td>18.6</td>\n",
              "      <td>1</td>\n",
              "      <td>11.0</td>\n",
              "      <td>2</td>\n",
              "      <td>посёлок Шушары</td>\n",
              "      <td>18603</td>\n",
              "      <td>81</td>\n",
              "      <td>82920.8</td>\n",
              "      <td>12</td>\n",
              "      <td>2018</td>\n",
              "      <td>Tue</td>\n",
              "      <td>первый</td>\n",
              "    </tr>\n",
              "    <tr>\n",
              "      <th>2</th>\n",
              "      <td>5196000</td>\n",
              "      <td>56.0</td>\n",
              "      <td>2015-08-20</td>\n",
              "      <td>2</td>\n",
              "      <td>2.6</td>\n",
              "      <td>5</td>\n",
              "      <td>34.3</td>\n",
              "      <td>4</td>\n",
              "      <td>8.3</td>\n",
              "      <td>0</td>\n",
              "      <td>Санкт-Петербург</td>\n",
              "      <td>13933</td>\n",
              "      <td>558</td>\n",
              "      <td>92785.7</td>\n",
              "      <td>8</td>\n",
              "      <td>2015</td>\n",
              "      <td>Thu</td>\n",
              "      <td>другой</td>\n",
              "    </tr>\n",
              "    <tr>\n",
              "      <th>3</th>\n",
              "      <td>64900000</td>\n",
              "      <td>159.0</td>\n",
              "      <td>2015-07-24</td>\n",
              "      <td>3</td>\n",
              "      <td>2.6</td>\n",
              "      <td>14</td>\n",
              "      <td>0.0</td>\n",
              "      <td>9</td>\n",
              "      <td>0.0</td>\n",
              "      <td>0</td>\n",
              "      <td>Санкт-Петербург</td>\n",
              "      <td>6800</td>\n",
              "      <td>424</td>\n",
              "      <td>408176.1</td>\n",
              "      <td>7</td>\n",
              "      <td>2015</td>\n",
              "      <td>Fri</td>\n",
              "      <td>другой</td>\n",
              "    </tr>\n",
              "    <tr>\n",
              "      <th>4</th>\n",
              "      <td>10000000</td>\n",
              "      <td>100.0</td>\n",
              "      <td>2018-06-19</td>\n",
              "      <td>2</td>\n",
              "      <td>3.0</td>\n",
              "      <td>14</td>\n",
              "      <td>32.0</td>\n",
              "      <td>13</td>\n",
              "      <td>41.0</td>\n",
              "      <td>0</td>\n",
              "      <td>Санкт-Петербург</td>\n",
              "      <td>8098</td>\n",
              "      <td>121</td>\n",
              "      <td>100000.0</td>\n",
              "      <td>6</td>\n",
              "      <td>2018</td>\n",
              "      <td>Tue</td>\n",
              "      <td>другой</td>\n",
              "    </tr>\n",
              "  </tbody>\n",
              "</table>\n",
              "</div>"
            ],
            "text/plain": [
              "   last_price  total_area first_day_exposition  ...  year  day  floor_cat\n",
              "0    13000000       108.0           2019-03-07  ...  2019  Thu     другой\n",
              "1     3350000        40.4           2018-12-04  ...  2018  Tue     первый\n",
              "2     5196000        56.0           2015-08-20  ...  2015  Thu     другой\n",
              "3    64900000       159.0           2015-07-24  ...  2015  Fri     другой\n",
              "4    10000000       100.0           2018-06-19  ...  2018  Tue     другой\n",
              "\n",
              "[5 rows x 18 columns]"
            ]
          },
          "metadata": {
            "tags": []
          },
          "execution_count": 31
        }
      ]
    },
    {
      "cell_type": "markdown",
      "metadata": {
        "id": "EZqgVEgVhP61"
      },
      "source": [
        "#### Соотношение жилой и общей площади, а также отношение площади кухни к общей"
      ]
    },
    {
      "cell_type": "code",
      "metadata": {
        "colab": {
          "base_uri": "https://localhost:8080/"
        },
        "id": "YPx98hl6hP61",
        "outputId": "b4126d01-b891-4176-94ba-421231f9fafa"
      },
      "source": [
        "real_estate['living_area_ratio'] = round(real_estate['living_area'] / real_estate['total_area'], 1)\n",
        "real_estate['kitchen_area_ratio'] = round(real_estate['kitchen_area'] / real_estate['total_area'], 1)\n",
        "real_estate.head()"
      ],
      "execution_count": null,
      "outputs": [
        {
          "output_type": "execute_result",
          "data": {
            "text/html": [
              "<div>\n",
              "<style scoped>\n",
              "    .dataframe tbody tr th:only-of-type {\n",
              "        vertical-align: middle;\n",
              "    }\n",
              "\n",
              "    .dataframe tbody tr th {\n",
              "        vertical-align: top;\n",
              "    }\n",
              "\n",
              "    .dataframe thead th {\n",
              "        text-align: right;\n",
              "    }\n",
              "</style>\n",
              "<table border=\"1\" class=\"dataframe\">\n",
              "  <thead>\n",
              "    <tr style=\"text-align: right;\">\n",
              "      <th></th>\n",
              "      <th>last_price</th>\n",
              "      <th>total_area</th>\n",
              "      <th>first_day_exposition</th>\n",
              "      <th>rooms</th>\n",
              "      <th>ceiling_height</th>\n",
              "      <th>floors_total</th>\n",
              "      <th>living_area</th>\n",
              "      <th>floor</th>\n",
              "      <th>kitchen_area</th>\n",
              "      <th>balcony</th>\n",
              "      <th>locality_name</th>\n",
              "      <th>citycenters_nearest</th>\n",
              "      <th>days_exposition</th>\n",
              "      <th>price_of_sqm</th>\n",
              "      <th>month</th>\n",
              "      <th>year</th>\n",
              "      <th>day</th>\n",
              "      <th>floor_cat</th>\n",
              "      <th>living_area_ratio</th>\n",
              "      <th>kitchen_area_ratio</th>\n",
              "    </tr>\n",
              "  </thead>\n",
              "  <tbody>\n",
              "    <tr>\n",
              "      <th>0</th>\n",
              "      <td>13000000</td>\n",
              "      <td>108.0</td>\n",
              "      <td>2019-03-07</td>\n",
              "      <td>3</td>\n",
              "      <td>2.7</td>\n",
              "      <td>16</td>\n",
              "      <td>51.0</td>\n",
              "      <td>8</td>\n",
              "      <td>25.0</td>\n",
              "      <td>0</td>\n",
              "      <td>Санкт-Петербург</td>\n",
              "      <td>16028</td>\n",
              "      <td>0</td>\n",
              "      <td>120370.4</td>\n",
              "      <td>3</td>\n",
              "      <td>2019</td>\n",
              "      <td>Thu</td>\n",
              "      <td>другой</td>\n",
              "      <td>0.5</td>\n",
              "      <td>0.2</td>\n",
              "    </tr>\n",
              "    <tr>\n",
              "      <th>1</th>\n",
              "      <td>3350000</td>\n",
              "      <td>40.4</td>\n",
              "      <td>2018-12-04</td>\n",
              "      <td>1</td>\n",
              "      <td>2.6</td>\n",
              "      <td>11</td>\n",
              "      <td>18.6</td>\n",
              "      <td>1</td>\n",
              "      <td>11.0</td>\n",
              "      <td>2</td>\n",
              "      <td>посёлок Шушары</td>\n",
              "      <td>18603</td>\n",
              "      <td>81</td>\n",
              "      <td>82920.8</td>\n",
              "      <td>12</td>\n",
              "      <td>2018</td>\n",
              "      <td>Tue</td>\n",
              "      <td>первый</td>\n",
              "      <td>0.5</td>\n",
              "      <td>0.3</td>\n",
              "    </tr>\n",
              "    <tr>\n",
              "      <th>2</th>\n",
              "      <td>5196000</td>\n",
              "      <td>56.0</td>\n",
              "      <td>2015-08-20</td>\n",
              "      <td>2</td>\n",
              "      <td>2.6</td>\n",
              "      <td>5</td>\n",
              "      <td>34.3</td>\n",
              "      <td>4</td>\n",
              "      <td>8.3</td>\n",
              "      <td>0</td>\n",
              "      <td>Санкт-Петербург</td>\n",
              "      <td>13933</td>\n",
              "      <td>558</td>\n",
              "      <td>92785.7</td>\n",
              "      <td>8</td>\n",
              "      <td>2015</td>\n",
              "      <td>Thu</td>\n",
              "      <td>другой</td>\n",
              "      <td>0.6</td>\n",
              "      <td>0.1</td>\n",
              "    </tr>\n",
              "    <tr>\n",
              "      <th>3</th>\n",
              "      <td>64900000</td>\n",
              "      <td>159.0</td>\n",
              "      <td>2015-07-24</td>\n",
              "      <td>3</td>\n",
              "      <td>2.6</td>\n",
              "      <td>14</td>\n",
              "      <td>0.0</td>\n",
              "      <td>9</td>\n",
              "      <td>0.0</td>\n",
              "      <td>0</td>\n",
              "      <td>Санкт-Петербург</td>\n",
              "      <td>6800</td>\n",
              "      <td>424</td>\n",
              "      <td>408176.1</td>\n",
              "      <td>7</td>\n",
              "      <td>2015</td>\n",
              "      <td>Fri</td>\n",
              "      <td>другой</td>\n",
              "      <td>0.0</td>\n",
              "      <td>0.0</td>\n",
              "    </tr>\n",
              "    <tr>\n",
              "      <th>4</th>\n",
              "      <td>10000000</td>\n",
              "      <td>100.0</td>\n",
              "      <td>2018-06-19</td>\n",
              "      <td>2</td>\n",
              "      <td>3.0</td>\n",
              "      <td>14</td>\n",
              "      <td>32.0</td>\n",
              "      <td>13</td>\n",
              "      <td>41.0</td>\n",
              "      <td>0</td>\n",
              "      <td>Санкт-Петербург</td>\n",
              "      <td>8098</td>\n",
              "      <td>121</td>\n",
              "      <td>100000.0</td>\n",
              "      <td>6</td>\n",
              "      <td>2018</td>\n",
              "      <td>Tue</td>\n",
              "      <td>другой</td>\n",
              "      <td>0.3</td>\n",
              "      <td>0.4</td>\n",
              "    </tr>\n",
              "  </tbody>\n",
              "</table>\n",
              "</div>"
            ],
            "text/plain": [
              "   last_price  total_area  ... living_area_ratio  kitchen_area_ratio\n",
              "0    13000000       108.0  ...               0.5                 0.2\n",
              "1     3350000        40.4  ...               0.5                 0.3\n",
              "2     5196000        56.0  ...               0.6                 0.1\n",
              "3    64900000       159.0  ...               0.0                 0.0\n",
              "4    10000000       100.0  ...               0.3                 0.4\n",
              "\n",
              "[5 rows x 20 columns]"
            ]
          },
          "metadata": {
            "tags": []
          },
          "execution_count": 32
        }
      ]
    },
    {
      "cell_type": "markdown",
      "metadata": {
        "id": "GVXNB6nGhP61"
      },
      "source": [
        "#### Вывод"
      ]
    },
    {
      "cell_type": "markdown",
      "metadata": {
        "id": "HlNTN6ddhP61"
      },
      "source": [
        "Получили готовый к обработке сет данных с дополнительными параметрами. теперь поробуем провести анализ и ответим на поставленные вопросы, при этом откидывая аномальные значения с сохранением достоверности выборки."
      ]
    },
    {
      "cell_type": "markdown",
      "metadata": {
        "id": "cL6g1kzqhP61"
      },
      "source": [
        "### Исследовательский анализ данных:"
      ]
    },
    {
      "cell_type": "markdown",
      "metadata": {
        "id": "aqjFKmREhP62"
      },
      "source": [
        "#### Изучаем: площадь, цена, число комнат, высота потолков."
      ]
    },
    {
      "cell_type": "markdown",
      "metadata": {
        "id": "JpA01tpGhP62"
      },
      "source": [
        "Посмотрим общую информацию по данной выборке:"
      ]
    },
    {
      "cell_type": "code",
      "metadata": {
        "colab": {
          "base_uri": "https://localhost:8080/",
          "height": 297
        },
        "id": "gpttGqnvhP62",
        "outputId": "d4378b49-c8ad-4808-a608-ccbae73096b2"
      },
      "source": [
        "real_estate[['total_area', 'last_price', 'rooms', 'ceiling_height']].describe()"
      ],
      "execution_count": null,
      "outputs": [
        {
          "output_type": "execute_result",
          "data": {
            "text/html": [
              "<div>\n",
              "<style scoped>\n",
              "    .dataframe tbody tr th:only-of-type {\n",
              "        vertical-align: middle;\n",
              "    }\n",
              "\n",
              "    .dataframe tbody tr th {\n",
              "        vertical-align: top;\n",
              "    }\n",
              "\n",
              "    .dataframe thead th {\n",
              "        text-align: right;\n",
              "    }\n",
              "</style>\n",
              "<table border=\"1\" class=\"dataframe\">\n",
              "  <thead>\n",
              "    <tr style=\"text-align: right;\">\n",
              "      <th></th>\n",
              "      <th>total_area</th>\n",
              "      <th>last_price</th>\n",
              "      <th>rooms</th>\n",
              "      <th>ceiling_height</th>\n",
              "    </tr>\n",
              "  </thead>\n",
              "  <tbody>\n",
              "    <tr>\n",
              "      <th>count</th>\n",
              "      <td>23699.000000</td>\n",
              "      <td>2.369900e+04</td>\n",
              "      <td>23699.000000</td>\n",
              "      <td>23699.000000</td>\n",
              "    </tr>\n",
              "    <tr>\n",
              "      <th>mean</th>\n",
              "      <td>60.348635</td>\n",
              "      <td>6.541549e+06</td>\n",
              "      <td>2.070636</td>\n",
              "      <td>2.707540</td>\n",
              "    </tr>\n",
              "    <tr>\n",
              "      <th>std</th>\n",
              "      <td>35.654086</td>\n",
              "      <td>1.088701e+07</td>\n",
              "      <td>1.078405</td>\n",
              "      <td>0.990151</td>\n",
              "    </tr>\n",
              "    <tr>\n",
              "      <th>min</th>\n",
              "      <td>12.000000</td>\n",
              "      <td>1.219000e+04</td>\n",
              "      <td>0.000000</td>\n",
              "      <td>1.000000</td>\n",
              "    </tr>\n",
              "    <tr>\n",
              "      <th>25%</th>\n",
              "      <td>40.000000</td>\n",
              "      <td>3.400000e+06</td>\n",
              "      <td>1.000000</td>\n",
              "      <td>2.600000</td>\n",
              "    </tr>\n",
              "    <tr>\n",
              "      <th>50%</th>\n",
              "      <td>52.000000</td>\n",
              "      <td>4.650000e+06</td>\n",
              "      <td>2.000000</td>\n",
              "      <td>2.600000</td>\n",
              "    </tr>\n",
              "    <tr>\n",
              "      <th>75%</th>\n",
              "      <td>69.900000</td>\n",
              "      <td>6.800000e+06</td>\n",
              "      <td>3.000000</td>\n",
              "      <td>2.700000</td>\n",
              "    </tr>\n",
              "    <tr>\n",
              "      <th>max</th>\n",
              "      <td>900.000000</td>\n",
              "      <td>7.630000e+08</td>\n",
              "      <td>19.000000</td>\n",
              "      <td>100.000000</td>\n",
              "    </tr>\n",
              "  </tbody>\n",
              "</table>\n",
              "</div>"
            ],
            "text/plain": [
              "         total_area    last_price         rooms  ceiling_height\n",
              "count  23699.000000  2.369900e+04  23699.000000    23699.000000\n",
              "mean      60.348635  6.541549e+06      2.070636        2.707540\n",
              "std       35.654086  1.088701e+07      1.078405        0.990151\n",
              "min       12.000000  1.219000e+04      0.000000        1.000000\n",
              "25%       40.000000  3.400000e+06      1.000000        2.600000\n",
              "50%       52.000000  4.650000e+06      2.000000        2.600000\n",
              "75%       69.900000  6.800000e+06      3.000000        2.700000\n",
              "max      900.000000  7.630000e+08     19.000000      100.000000"
            ]
          },
          "metadata": {
            "tags": []
          },
          "execution_count": 33
        }
      ]
    },
    {
      "cell_type": "code",
      "metadata": {
        "colab": {
          "base_uri": "https://localhost:8080/",
          "height": 1000
        },
        "id": "Mlr4hq-OhP62",
        "outputId": "bb05beca-b267-4501-f33b-03f160b165c9"
      },
      "source": [
        "#Построим диаграммы размаха\n",
        "\n",
        "print('Медиана общей площади составляет: ', real_estate['total_area'].median())\n",
        "print('Медиана цены составляет: ', real_estate['last_price'].median())\n",
        "print('Медиана комнат составляет: ', real_estate['rooms'].median())\n",
        "print('Медиана высота потолков составляет: ', real_estate['ceiling_height'].median())\n",
        "print()\n",
        "\n",
        "# создадим списки параметров\n",
        "columns_list = ['total_area', 'last_price', 'rooms', 'ceiling_height']\n",
        "title_list = ['Диаграмма размаха общей площади, м2', 'Диаграмма размаха стоимости жилой площади, руб', \n",
        "              'Диаграмма размаха количества комнат', 'Диаграмма размаха высоты потолков']\n",
        "xlims = [(0, 150), (-1000000, 15000000), (-1, 8), (2.3, 2.9)]\n",
        "color_list=['steelblue', 'skyblue', 'pink', 'cyan']\n",
        "#цикл построения наших графиков с интересующими нас параметрами\n",
        "for i in range(len(columns_list)):\n",
        "    plt.figure(figsize=(15, 5))\n",
        "    sns.boxplot(real_estate[columns_list[i]], color=color_list[i])\n",
        "    plt.xlim(xlims[i])\n",
        "    plt.title(title_list[i])\n",
        "    plt.xlabel('') # для удаления названий столбцов\n",
        "    plt.show()\n"
      ],
      "execution_count": null,
      "outputs": [
        {
          "output_type": "stream",
          "text": [
            "Медиана общей площади составляет:  52.0\n",
            "Медиана цены составляет:  4650000.0\n",
            "Медиана комнат составляет:  2.0\n",
            "Медиана высота потолков составляет:  2.6\n",
            "\n"
          ],
          "name": "stdout"
        },
        {
          "output_type": "stream",
          "text": [
            "/usr/local/lib/python3.7/dist-packages/seaborn/_decorators.py:43: FutureWarning: Pass the following variable as a keyword arg: x. From version 0.12, the only valid positional argument will be `data`, and passing other arguments without an explicit keyword will result in an error or misinterpretation.\n",
            "  FutureWarning\n"
          ],
          "name": "stderr"
        },
        {
          "output_type": "display_data",
          "data": {
            "image/png": "[encoded data removed]",
            "text/plain": [
              "<Figure size 1080x360 with 1 Axes>"
            ]
          },
          "metadata": {
            "tags": []
          }
        },
        {
          "output_type": "stream",
          "text": [
            "/usr/local/lib/python3.7/dist-packages/seaborn/_decorators.py:43: FutureWarning: Pass the following variable as a keyword arg: x. From version 0.12, the only valid positional argument will be `data`, and passing other arguments without an explicit keyword will result in an error or misinterpretation.\n",
            "  FutureWarning\n"
          ],
          "name": "stderr"
        },
        {
          "output_type": "display_data",
          "data": {
            "image/png": "[encoded data removed]",
            "text/plain": [
              "<Figure size 1080x360 with 1 Axes>"
            ]
          },
          "metadata": {
            "tags": []
          }
        },
        {
          "output_type": "stream",
          "text": [
            "/usr/local/lib/python3.7/dist-packages/seaborn/_decorators.py:43: FutureWarning: Pass the following variable as a keyword arg: x. From version 0.12, the only valid positional argument will be `data`, and passing other arguments without an explicit keyword will result in an error or misinterpretation.\n",
            "  FutureWarning\n"
          ],
          "name": "stderr"
        },
        {
          "output_type": "display_data",
          "data": {
            "image/png": "[encoded data removed]",
            "text/plain": [
              "<Figure size 1080x360 with 1 Axes>"
            ]
          },
          "metadata": {
            "tags": []
          }
        },
        {
          "output_type": "stream",
          "text": [
            "/usr/local/lib/python3.7/dist-packages/seaborn/_decorators.py:43: FutureWarning: Pass the following variable as a keyword arg: x. From version 0.12, the only valid positional argument will be `data`, and passing other arguments without an explicit keyword will result in an error or misinterpretation.\n",
            "  FutureWarning\n"
          ],
          "name": "stderr"
        },
        {
          "output_type": "display_data",
          "data": {
            "image/png": "[encoded data removed]",
            "text/plain": [
              "<Figure size 1080x360 with 1 Axes>"
            ]
          },
          "metadata": {
            "tags": []
          }
        }
      ]
    },
    {
      "cell_type": "markdown",
      "metadata": {
        "id": "S5O84YoChP63"
      },
      "source": [
        "**Почти среднестатистическая квартира**: площадью 52 квадратных метра, 2-ух комнатная, стоимостью 4,6 млн рублей, высота потолков 2.6 м\n"
      ]
    },
    {
      "cell_type": "markdown",
      "metadata": {
        "id": "RVvdg6iihP63"
      },
      "source": [
        "Давайте посмотрим гистограммы, помимо диаграмм размаха."
      ]
    },
    {
      "cell_type": "code",
      "metadata": {
        "colab": {
          "base_uri": "https://localhost:8080/",
          "height": 338
        },
        "id": "SwQw75ZdhP63",
        "outputId": "341d0541-d5ca-4990-c035-62eec403d609"
      },
      "source": [
        "real_estate['total_area'].hist(range=real_estate['total_area'].quantile([.0,.97])\n",
        "                               , figsize=(15,5))\n",
        "plt.title('Гистограмма общей площади, м2')\n",
        "plt.show()\n"
      ],
      "execution_count": null,
      "outputs": [
        {
          "output_type": "display_data",
          "data": {
            "image/png": "[encoded data removed]",
            "text/plain": [
              "<Figure size 1080x360 with 1 Axes>"
            ]
          },
          "metadata": {
            "tags": []
          }
        }
      ]
    },
    {
      "cell_type": "code",
      "metadata": {
        "colab": {
          "base_uri": "https://localhost:8080/",
          "height": 351
        },
        "id": "ubPKSYOfhP63",
        "outputId": "6c329f69-9451-4989-d1bd-92ef9fa85995"
      },
      "source": [
        "real_estate['last_price'].hist(range=real_estate['last_price'].quantile([.0,.97]), \n",
        "                                    figsize=(15,5),\n",
        "                                    color='skyblue')\n",
        "plt.title('Гистограмма стоимости недвижимости, руб.')\n",
        "plt.show()"
      ],
      "execution_count": null,
      "outputs": [
        {
          "output_type": "display_data",
          "data": {
            "image/png": "[encoded data removed]",
            "text/plain": [
              "<Figure size 1080x360 with 1 Axes>"
            ]
          },
          "metadata": {
            "tags": []
          }
        }
      ]
    },
    {
      "cell_type": "code",
      "metadata": {
        "id": "47nzpVH7hP64"
      },
      "source": [
        "# Определим функцию построения гистограмм \n",
        "\n",
        "def hist_plot(dframe, colors):\n",
        "    plot = dframe.hist(range=(dframe.quantile([.0, .99], \n",
        "                       interpolation='nearest')), \n",
        "                       figsize=(15,5), color=colors)"
      ],
      "execution_count": null,
      "outputs": []
    },
    {
      "cell_type": "code",
      "metadata": {
        "id": "bcAe9rnlhP64"
      },
      "source": [
        "hist_plot(real_estate['rooms'], 'pink')\n",
        "plt.figsize=(15,5)\n",
        "plt.title('Гистограмма количества комнат')\n",
        "plt.show()"
      ],
      "execution_count": null,
      "outputs": []
    },
    {
      "cell_type": "code",
      "metadata": {
        "id": "LoaNaguohP65"
      },
      "source": [
        "hist_plot(real_estate['ceiling_height'], 'cyan')\n",
        "plt.title('Гистограмма высоты потолков')\n",
        "plt.show()"
      ],
      "execution_count": null,
      "outputs": []
    },
    {
      "cell_type": "markdown",
      "metadata": {
        "id": "ZGz9sJ5ZhP65"
      },
      "source": [
        "Большая часть квартир продается **от 30 до 80 квадратных метров**, свыше **115 квадратных метров** - редкие варианты, цена на квартиры - **от 3.5 до 15 млн**. Большая часть квартир продается по цене **от 3 до 6 млн**. **От 1 до 3 комнат**, выста потолков **от 2,5 до 3 метров**. Больше всего квартир имеют **высоту потолков 2,6 м**\n",
        "\n",
        "Для ответа на окончательные вопросы давайте соберем отфильтрованные данные. По этим столбцам будем брать следующие параметры:\n",
        "\n",
        "- цена от 1 200 000.00 до 15 000 000 млн рублей\n",
        "- площадь от 12 до 125 кв.м\n",
        "- потолок от 2.5 до 4 метров (потолки взяли с выбросами, для увеличения выборки)\n",
        "- число комнта от 1 до 6\n",
        "\n",
        "После проработки остальных столбцов соберем новый сет"
      ]
    },
    {
      "cell_type": "markdown",
      "metadata": {
        "id": "0IaG0GtShP66"
      },
      "source": [
        "#### Удаленность от центра"
      ]
    },
    {
      "cell_type": "markdown",
      "metadata": {
        "id": "lZ6_Vpt-hP66"
      },
      "source": [
        "Проанализируем столбец удаленности от центра:"
      ]
    },
    {
      "cell_type": "code",
      "metadata": {
        "id": "OPLnXVyjhP66"
      },
      "source": [
        "real_estate[['citycenters_nearest']].describe()"
      ],
      "execution_count": null,
      "outputs": []
    },
    {
      "cell_type": "code",
      "metadata": {
        "id": "vl-92-eMhP66"
      },
      "source": [
        "# построим диаграмму размаха\n",
        "center_nearest_exp = real_estate.query('citycenters_nearest > 0')['citycenters_nearest']\n",
        "plt.figure(figsize=(15, 5))\n",
        "sns.boxplot(center_nearest_exp, color='steelblue')\n",
        "plt.xlabel('Удаленность от центра')\n",
        "plt.xlim(100, 30000)\n",
        "plt.title('Диаграмма размаха для параметра \"Удаленность от центра\"')\n",
        "plt.show()\n",
        "print('Медиана составляет: ', center_nearest_exp.median())"
      ],
      "execution_count": null,
      "outputs": []
    },
    {
      "cell_type": "markdown",
      "metadata": {
        "id": "kBazpVrzhP66"
      },
      "source": [
        "**Нулевые значения мы отбросили**. Минимальная удаленность наблюдалась на расстоянии **181 м**. Медианная удаленность соcтавляет 13 км от центра города."
      ]
    },
    {
      "cell_type": "markdown",
      "metadata": {
        "id": "5o--yc6dhP67"
      },
      "source": [
        "#### Время продажи квартиры. \n",
        "Изучим время продажи квартир. Опять же обратимся к методу describe()"
      ]
    },
    {
      "cell_type": "code",
      "metadata": {
        "id": "-SWamRdFhP67"
      },
      "source": [
        "real_estate[['days_exposition']].describe()"
      ],
      "execution_count": null,
      "outputs": []
    },
    {
      "cell_type": "markdown",
      "metadata": {
        "id": "tpqpbUpjhP67"
      },
      "source": [
        "Мы меняли NaN на 0, поэтому исключим их из выборки:"
      ]
    },
    {
      "cell_type": "code",
      "metadata": {
        "id": "hbtZ7a1dhP67"
      },
      "source": [
        "days_exp = real_estate.query('days_exposition > 0')['days_exposition']"
      ],
      "execution_count": null,
      "outputs": []
    },
    {
      "cell_type": "code",
      "metadata": {
        "id": "FLVWzPMBhP67"
      },
      "source": [
        "# построим диаграмму размаха\n",
        "\n",
        "plt.figure(figsize=(15, 5))\n",
        "sns.boxplot(days_exp, color='steelblue')\n",
        "plt.title('Диаграмма размаха параметра: Дней от публикации до снятия')\n",
        "plt.xlim(0, 600)\n",
        "print('Медиана составляет: ', days_exp.median())\n",
        "plt.show()\n",
        "\n"
      ],
      "execution_count": null,
      "outputs": []
    },
    {
      "cell_type": "code",
      "metadata": {
        "id": "a1IOwM2HhP67"
      },
      "source": [
        "days_exp.hist(bins=30, range=(0, 150), figsize=(15, 5))\n",
        "plt.title ('Гистограмма параметра: Дней от публикации до снятия')\n",
        "plt.show()"
      ],
      "execution_count": null,
      "outputs": []
    },
    {
      "cell_type": "markdown",
      "metadata": {
        "id": "4iofpJVuhP68"
      },
      "source": [
        "**Среднее время продажи квартиры** - 156 дней, медианное время - 95 дней, при этом большая часть квартир продается за 45 дней либо 60 дней.\n",
        "\n",
        "- По этому столбцу возьмем время продажи от 15 до 520 дней"
      ]
    },
    {
      "cell_type": "markdown",
      "metadata": {
        "id": "AoRY6j8HhP68"
      },
      "source": [
        "#### Факторы влияющие на цену\n",
        "\n",
        "Сделаем срез из обработанной таблицы для получения сета со значениями в рамках диаграмм размаха\n",
        "\n"
      ]
    },
    {
      "cell_type": "code",
      "metadata": {
        "id": "ExtXNv_shP68"
      },
      "source": [
        "# good_df = real_estate.query('12 <= total_area <= 125 \\\n",
        "#                             and 1200000 <= last_price <= 15000000 \\\n",
        "#                             and 2.5 <= ceiling_height <= 4 \\\n",
        "#                             and 1 <= rooms <= 6 and 15 <= days_exposition <= 520')\n",
        "\n",
        "good_df = real_estate [(real_estate['total_area'] >=12) & (real_estate['total_area'] <=125) & \\\n",
        "                      (real_estate['last_price'] >=1200000) & (real_estate['last_price'] <=15000000) & \\\n",
        "                      (real_estate['ceiling_height'] >=2.5) & (real_estate['ceiling_height'] <= 4) & \\\n",
        "                      (real_estate['rooms'] >=1) & (real_estate['rooms'] <= 6) & \\\n",
        "                      (real_estate['days_exposition'] >=15) & (real_estate['days_exposition'] <= 520)]\n",
        "good_df.info()"
      ],
      "execution_count": null,
      "outputs": []
    },
    {
      "cell_type": "markdown",
      "metadata": {
        "id": "wdOdKvUjhP68"
      },
      "source": [
        "Давайте посчитаем долю нашей выборки от начальной:"
      ]
    },
    {
      "cell_type": "code",
      "metadata": {
        "id": "rl8QbEcshP69"
      },
      "source": [
        "print('Выборка для анализа составляет: {:.2%}'.format(len(good_df)/len(real_estate)))"
      ],
      "execution_count": null,
      "outputs": []
    },
    {
      "cell_type": "markdown",
      "metadata": {
        "id": "1bheVaaFhP69"
      },
      "source": [
        "При этом параллельно будет строить графики для основного сета для сравнения"
      ]
    },
    {
      "cell_type": "code",
      "metadata": {
        "id": "t-0cMd_NhP69"
      },
      "source": [
        "good_df_group = good_df[['total_area', 'last_price', \n",
        "                         'ceiling_height', 'rooms', \n",
        "                         'days_exposition', 'citycenters_nearest', \n",
        "                         'month','day', 'year','floor']]\n",
        "good_df_group.corr()"
      ],
      "execution_count": null,
      "outputs": []
    },
    {
      "cell_type": "code",
      "metadata": {
        "id": "XeOJ7vMqhP69"
      },
      "source": [
        "# построим тепловую карту, коэффициенты корреляции окгруглим до 1 знака\n",
        "plt.figure(figsize=(15,15))\n",
        "sns.heatmap(good_df_group.corr(), annot=True, cmap='mako', fmt='.1f')\n",
        "plt.title('Тепловая карта корреляции')\n",
        "plt.show()"
      ],
      "execution_count": null,
      "outputs": []
    },
    {
      "cell_type": "markdown",
      "metadata": {
        "id": "v-p2R2VbhP6-"
      },
      "source": [
        "**Высокое влияние оказывает: общая площадь**\n",
        "Слабое влияние: количество комнат, высота потолков\n",
        "У остальных параметров Очень слабое влияние\n",
        "\n",
        "Комнаты могут быть различной площадью и площадь как итог не определяет, а на цену в общем случае влияет именно общая площадь помещения\n",
        "\n"
      ]
    },
    {
      "cell_type": "markdown",
      "metadata": {
        "id": "gDgKACWKhP6-"
      },
      "source": [
        "Изучим поведение стоимости по таблице общей и нашему срезу."
      ]
    },
    {
      "cell_type": "code",
      "metadata": {
        "id": "qoyf3d_UhP6-"
      },
      "source": [
        "good_df.groupby('year')['last_price'].agg('median').plot(\n",
        "    x='year', style='o-', xlim=(2014, 2020), figsize=(15, 5), legend = True\n",
        ")\n",
        "\n",
        "\n",
        "real_estate.groupby('year')['last_price'].agg('median').plot(\n",
        "    x='year', style='o-', xlim=(2013, 2020), figsize=(15, 5), legend = True\n",
        ")\n",
        "\n",
        "plt.legend(['real_estate','good_df'])\n",
        "plt.title('Изменение стоимости по годам')\n",
        "plt.show()"
      ],
      "execution_count": null,
      "outputs": []
    },
    {
      "cell_type": "markdown",
      "metadata": {
        "id": "u3qe93zQhP6-"
      },
      "source": [
        "Высокий пик приходится на 2014 год. Предполагаем, что это связано с опасениями граждан насчет своих сбережений и попыткой вложить свободные средства в покупку недвижимости, что вызвало рост цены, то есть как следствие повышенного спроса. Аналогичную тенденцию роста можно наблюдать в 2019 году"
      ]
    },
    {
      "cell_type": "markdown",
      "metadata": {
        "id": "nGfv4FjlhP6-"
      },
      "source": [
        "Изучим поведение цены по дням недели:"
      ]
    },
    {
      "cell_type": "code",
      "metadata": {
        "scrolled": false,
        "id": "Xst0Vl2ehP6-"
      },
      "source": [
        "good_df.groupby('day')['last_price'].agg('median').plot(\n",
        "    x='day', style='o-', xlim=(-1, 7), figsize=(15, 5)\n",
        ")\n",
        "real_estate.groupby('day')['last_price'].agg('median').plot(\n",
        "    x='day', style='o-', xlim=(-1, 7), figsize=(15, 5)\n",
        ")\n",
        "plt.legend(['real_estate','good_df'])\n",
        "plt.title('Изменение стоимости по дням')\n",
        "plt.show()"
      ],
      "execution_count": null,
      "outputs": []
    },
    {
      "cell_type": "markdown",
      "metadata": {
        "id": "vcFzwBHchP6-"
      },
      "source": [
        "Особого влияния день недели не оказывает на цену, разброс достаточно небольшой, но стоит отметить, что цены в начале недели выше, нежели в конце"
      ]
    },
    {
      "cell_type": "markdown",
      "metadata": {
        "id": "BhgmJRirhP6_"
      },
      "source": [
        "Посмотрим влияние месяца:"
      ]
    },
    {
      "cell_type": "code",
      "metadata": {
        "id": "v1BWSGEihP6_"
      },
      "source": [
        "good_df.groupby('month')['last_price'].agg('median').plot(\n",
        "    x='month', style='o-', xlim=(0, 14), figsize=(15, 5)\n",
        ")\n",
        "real_estate.groupby('month')['last_price'].agg('median').plot(\n",
        "    x='month', style='o-', xlim=(0, 14), figsize=(15, 5)\n",
        ")\n",
        "plt.legend(['real_estate','good_df'])\n",
        "plt.title('Изменение стоимости по месяцам')\n",
        "plt.show()"
      ],
      "execution_count": null,
      "outputs": []
    },
    {
      "cell_type": "markdown",
      "metadata": {
        "id": "YChZv30KhP6_"
      },
      "source": [
        "по месяцам, если рассматривать график не по срезу - лидирует апрель, но оба графика нам говорят, что к июню активность спадает, что связано с сезоном отпусков"
      ]
    },
    {
      "cell_type": "code",
      "metadata": {
        "id": "2nPYxftphP6_"
      },
      "source": [
        "good_df.groupby('floor_cat')['last_price'].agg('median').plot(\n",
        "     x='floor_cat', kind='pie', figsize=(11, 14), \n",
        ")\n",
        "donut=plt.Circle( (0,0), 0.6, color='white')\n",
        "p=plt.gcf()\n",
        "p.gca().add_artist(donut)\n",
        "\n",
        "plt.title('Медиана цен в зависимости от этажа. Дата сет good_df')\n",
        "plt.show()\n"
      ],
      "execution_count": null,
      "outputs": []
    },
    {
      "cell_type": "code",
      "metadata": {
        "id": "AB0INC1qhP6_"
      },
      "source": [
        "real_estate.groupby('floor_cat')['last_price'].agg('median').plot(\n",
        "     x='floor_cat', kind='pie', figsize=(11, 14), \n",
        ")\n",
        "donut=plt.Circle( (0,0), 0.6, color='white')\n",
        "p=plt.gcf()\n",
        "p.gca().add_artist(donut)\n",
        "plt.title('Медиана цен в зависимости от этажа. Дата сет real_estate')\n",
        "plt.show()"
      ],
      "execution_count": null,
      "outputs": []
    },
    {
      "cell_type": "markdown",
      "metadata": {
        "id": "z1QZ4nZohP7A"
      },
      "source": [
        "Этаж не оказывает особого влияния на цену. Но можно обозначить, что этаж отличный от первого и последнего - дороже, последний дороже первого."
      ]
    },
    {
      "cell_type": "code",
      "metadata": {
        "id": "vY11XYrthP7A"
      },
      "source": [
        "good_df.groupby('rooms')['last_price'].agg('median').plot(\n",
        "    x='rooms', style='o-', xlim=(0, 7), figsize=(15, 5)\n",
        ")\n",
        "plt.title('Медиана цен в зависимости от количества комнат')\n",
        "plt.show()"
      ],
      "execution_count": null,
      "outputs": []
    },
    {
      "cell_type": "markdown",
      "metadata": {
        "id": "e2lgJuGyhP7A"
      },
      "source": [
        "С ростом числа комнат растет и цена. Ведь увеличивается площадь, соответственно это и вызывает такой закономерный рост"
      ]
    },
    {
      "cell_type": "markdown",
      "metadata": {
        "id": "EGlxYrY1hP7A"
      },
      "source": [
        "#### 10 населённых пунктов с наибольшим числом объявлений. \n"
      ]
    },
    {
      "cell_type": "markdown",
      "metadata": {
        "id": "VspfRUOnhP7A"
      },
      "source": [
        "Изучим топ-10 городов по количеству объявлений:"
      ]
    },
    {
      "cell_type": "code",
      "metadata": {
        "id": "OQmxr75qhP7A"
      },
      "source": [
        "top_10_loc = real_estate.pivot_table(index='locality_name', \n",
        "                                     values='price_of_sqm', \n",
        "                                     aggfunc=['count', 'mean']\n",
        "                                    ).round(2)\n",
        "top_10_loc.columns = ['adv', 'mean_price_for_sqm']\n",
        "top = top_10_loc.sort_values(by='adv', ascending=False)[:10]\n",
        "top.plot(y='adv', kind='pie', figsize=(15,10))\n",
        "donut=plt.Circle( (0,0), 0.6, color='white')\n",
        "p=plt.gcf()\n",
        "p.gca().add_artist(donut)\n",
        "plt.title('Топ-10 городов по количеству объявлений')\n",
        "plt.show()\n",
        "top\n"
      ],
      "execution_count": null,
      "outputs": []
    },
    {
      "cell_type": "markdown",
      "metadata": {
        "id": "vJuoeMpBhP7B"
      },
      "source": [
        "Из представленных городов, больше всего квартир продается в Санкт-Петербурге и цена за квадратный метр выше - почти **115 тыс за кв. м**. Замыкает наш рейтинг топ-10 - Выборг, при этом и цена ниже - **58 кв. м.**"
      ]
    },
    {
      "cell_type": "markdown",
      "metadata": {
        "id": "xa8oMXL7hP7B"
      },
      "source": [
        "#### Определение центральной области\n",
        "Выделим сегмент квартир в центре. "
      ]
    },
    {
      "cell_type": "code",
      "metadata": {
        "id": "qVxy38PZhP7B"
      },
      "source": [
        "real_estate ['citycenters_nearest_km'] = (real_estate['citycenters_nearest']/1000).round(0)\n",
        "real_estate.head()\n"
      ],
      "execution_count": null,
      "outputs": []
    },
    {
      "cell_type": "code",
      "metadata": {
        "id": "uiHb2BRBhP7B"
      },
      "source": [
        "spb_center = real_estate.query('citycenters_nearest_km > 0').pivot_table(index='citycenters_nearest_km', \n",
        "                                             values=['last_price'], \n",
        "                                             aggfunc='mean'\n",
        "                                            ).plot(y='last_price', kind='line', figsize=(15,5),\n",
        "                                             sharex=True, \n",
        "                                                  )\n",
        "\n",
        "plt.ylabel('Цена недвижимости, руб.')\n",
        "plt.xlabel('Расстояние до центра, км')\n",
        "plt.title('')\n",
        "plt.show()\n"
      ],
      "execution_count": null,
      "outputs": []
    },
    {
      "cell_type": "markdown",
      "metadata": {
        "id": "DkYbebRMhP7B"
      },
      "source": [
        "**Центральная область располагается приблизитель в радиусе 8 км от центра, но нам необходимо подробнее рассмотреть график**. На расстоянии около 1 км наблюдается самая высокая цена. С 8-10 км начинается спад и стагнация. Также мы можем наблюдать рост цен на 43 км и 55 км, относительно привычных на данном расстоянии. Это может определяться либо размером жилой площади, либо количеством комнат либо статусом жилья как \"элитное\". Укрупним группу:"
      ]
    },
    {
      "cell_type": "code",
      "metadata": {
        "id": "DnCGjxL0hP7C"
      },
      "source": [
        "spb_center_flat = real_estate.query('0 < citycenters_nearest_km <= 10').pivot_table(\n",
        "                                            index='citycenters_nearest_km', \n",
        "                                             values=['last_price'], \n",
        "                                             aggfunc='mean'\n",
        "                                            ).plot(y='last_price', kind='line', figsize=(15,5),\n",
        "                                             sharex=True, \n",
        "                                                  )\n",
        "\n",
        "plt.ylabel('Цена недвижимости, руб.')\n",
        "plt.xlabel('Расстояние до центра, км')\n",
        "plt.show()"
      ],
      "execution_count": null,
      "outputs": []
    },
    {
      "cell_type": "markdown",
      "metadata": {
        "id": "6V8CzodohP7C"
      },
      "source": [
        "**Центром Санкт-Петербурга будем считать недвижимость удаленностью до 8 км**"
      ]
    },
    {
      "cell_type": "markdown",
      "metadata": {
        "id": "WVubcdDehP7C"
      },
      "source": [
        "Изучим выборку учитывая данные параметры - недвижимость в центре:"
      ]
    },
    {
      "cell_type": "code",
      "metadata": {
        "id": "2WaQ8KMnhP7C"
      },
      "source": [
        "real_estate_center = real_estate.query('0 < citycenters_nearest_km <= 8')\n",
        "real_estate_center.head()\n"
      ],
      "execution_count": null,
      "outputs": []
    },
    {
      "cell_type": "code",
      "metadata": {
        "id": "xIQi6DcKhP7C"
      },
      "source": [
        "# сделаем выборку нужных нам параметров для рассчета корреляции и построения тепловой карты:\n",
        "real_estate_center_gr = real_estate_center [['total_area', 'last_price', \n",
        "                         'ceiling_height', 'rooms', \n",
        "                         'days_exposition', 'citycenters_nearest', \n",
        "                         'month','day', 'year','floor', 'citycenters_nearest_km']]\n",
        "real_estate_center_gr.corr()"
      ],
      "execution_count": null,
      "outputs": []
    },
    {
      "cell_type": "code",
      "metadata": {
        "id": "JTmSYYfuhP7C"
      },
      "source": [
        "plt.figure(figsize=(15,15))\n",
        "sns.heatmap(real_estate_center_gr.corr(), annot=True, cmap='mako', fmt='.1f')\n",
        "plt.title('Тепловая карта корреляции параметров недвижимости в центральной области Санкт-Петербурга')\n",
        "plt.show()"
      ],
      "execution_count": null,
      "outputs": []
    },
    {
      "cell_type": "markdown",
      "metadata": {
        "id": "yFMcPp78hP7D"
      },
      "source": [
        "Высокая корреляция наблюдается между количеством комнат и ценой. Площадь оказывает среднее влияние на цену на цену.\n",
        "\n",
        "Квартиры в центре будут стоить выше аналогичных по параметрам из других областей. Проверим"
      ]
    },
    {
      "cell_type": "markdown",
      "metadata": {
        "id": "ojgMdMSHhP7D"
      },
      "source": [
        "Исключим из выборки недвижимость в центре и ограничимся пределами [КАД](https://ru.wikipedia.org/wiki/%D0%93%D0%B5%D0%BE%D0%B3%D1%80%D0%B0%D1%84%D0%B8%D1%8F_%D0%A1%D0%B0%D0%BD%D0%BA%D1%82-%D0%9F%D0%B5%D1%82%D0%B5%D1%80%D0%B1%D1%83%D1%80%D0%B3%D0%B0#:~:text=%D0%9F%D1%80%D0%BE%D1%82%D1%8F%D0%B6%D1%91%D0%BD%D0%BD%D0%BE%D1%81%D1%82%D1%8C%20%D0%9F%D0%B5%D1%82%D0%B5%D1%80%D0%B1%D1%83%D1%80%D0%B3%D0%B0%20%D0%B2%20%D0%B0%D0%B4%D0%BC%D0%B8%D0%BD%D0%B8%D1%81%D1%82%D1%80%D0%B0%D1%82%D0%B8%D0%B2%D0%BD%D1%8B%D1%85%20%D0%B3%D1%80%D0%B0%D0%BD%D0%B8%D1%86%D0%B0%D1%85,%D1%88.)"
      ]
    },
    {
      "cell_type": "code",
      "metadata": {
        "id": "LsqiVQmxhP7D"
      },
      "source": [
        "real_estate_notcenter = real_estate.query('8 < citycenters_nearest_km <= 32')\n",
        "real_estate_notcenter.head()\n"
      ],
      "execution_count": null,
      "outputs": []
    },
    {
      "cell_type": "code",
      "metadata": {
        "id": "PinODEQIhP7D"
      },
      "source": [
        "real_estate_notcenter = real_estate_notcenter [['total_area', 'last_price', \n",
        "                         'ceiling_height', 'rooms', \n",
        "                         'days_exposition', 'citycenters_nearest', \n",
        "                         'month','day', 'year','floor', 'citycenters_nearest_km']]\n",
        "real_estate_notcenter.corr()"
      ],
      "execution_count": null,
      "outputs": []
    },
    {
      "cell_type": "code",
      "metadata": {
        "id": "FgoeiDMFhP7D"
      },
      "source": [
        "plt.figure(figsize=(15,15))\n",
        "sns.heatmap(real_estate_notcenter.corr(), annot=True, cmap='mako', fmt='.1f')\n",
        "plt.title('Тепловая карта корреляции параметров недвижимости за пределами центральной области Санкт-Петербурга')\n",
        "plt.show()"
      ],
      "execution_count": null,
      "outputs": []
    },
    {
      "cell_type": "markdown",
      "metadata": {
        "id": "Ka2i16i6hP7D"
      },
      "source": [
        "Высокая корреляция наблюдается между количеством комнат и ценой. Площадь оказывает высокое влияние на цену, но меньшее чем комнаты. \n",
        "\n",
        "Таким образом, чем дальше от центра - тем меньше расстояние влияет. Там уже подключаются параметры транспортной доступности и т.п."
      ]
    },
    {
      "cell_type": "markdown",
      "metadata": {
        "id": "MJb-JFr_hP7E"
      },
      "source": [
        "### Итог"
      ]
    },
    {
      "cell_type": "markdown",
      "metadata": {
        "id": "R9zrtc09hP7E"
      },
      "source": [
        "Большая часть квартир продается **от 30 до 80 квадратных метров**, свыше 115 квадратных метров - редкие варианты, цена на квартиры - от 3.5 до 15 млн. Большая часть квартир продается по цене от **3 до 6 млн**. **От 1 до 3 комнат**, высота потолков от 2,5 до 3 метров. Больше всего квартир имеют высоту потолков **2,6 м**\n",
        "\n",
        "\n",
        "\n",
        "**Среднестатистическая квартира**: площадью 52 квадратных метра, 2-ух комнатная, стоимостью 4,6 млн рублей, высота потолков 2.6 м\n",
        "\n",
        "\n",
        "Квартиры в центре стоят дороже аналогичных квартир за пределами обозначенной области. За пределами КАД стоимость квартир силно ниже квартир Свереной столицы\n",
        "\n",
        "\n",
        "Дни, год, месяц не сильно влияют на цену, но в июне наблюдается спад цен по причине падения спроса.\n",
        "\n",
        "\n",
        "**Как итог:**\n",
        "\n",
        "\n",
        "Сильное влияние на цену оказывает площади и максимальная близость к центру города, количество комнат также влияет на итоговую цену квартиры, но в связи с итоговой площадью; квартиры, замещенные в четверг и в целом - в будни - дороже тех, что размещены на выходных. В 2019 году наблюдается рост цен. лучший месяц для начала продажи - апрель, но ограницен снижением активности в июне и соответственно быстрой продажи не будет.\n",
        "\n"
      ]
    }
  ]
}