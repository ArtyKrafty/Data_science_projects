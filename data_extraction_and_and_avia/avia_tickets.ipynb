{
  "nbformat": 4,
  "nbformat_minor": 0,
  "metadata": {
    "ExecuteTimeLog": [
      {
        "duration": 926,
        "start_time": "2021-08-10T12:18:24.864Z"
      },
      {
        "duration": 702,
        "start_time": "2021-08-10T12:20:27.977Z"
      },
      {
        "duration": 15,
        "start_time": "2021-08-10T12:20:37.493Z"
      },
      {
        "duration": 676,
        "start_time": "2021-08-10T12:20:54.009Z"
      },
      {
        "duration": 422,
        "start_time": "2021-08-10T12:22:39.048Z"
      },
      {
        "duration": 5,
        "start_time": "2021-08-10T12:23:16.643Z"
      },
      {
        "duration": 20028,
        "start_time": "2021-08-10T12:23:23.058Z"
      },
      {
        "duration": 5133,
        "start_time": "2021-08-10T12:23:43.090Z"
      },
      {
        "duration": 5433,
        "start_time": "2021-08-10T12:23:48.227Z"
      },
      {
        "duration": 2989,
        "start_time": "2021-08-10T12:26:48.279Z"
      },
      {
        "duration": 3110,
        "start_time": "2021-08-10T12:26:57.645Z"
      },
      {
        "duration": 19,
        "start_time": "2021-08-10T12:27:44.566Z"
      },
      {
        "duration": 32,
        "start_time": "2021-08-10T12:28:24.994Z"
      },
      {
        "duration": 17,
        "start_time": "2021-08-10T12:29:14.746Z"
      },
      {
        "duration": 11,
        "start_time": "2021-08-10T12:29:27.641Z"
      },
      {
        "duration": 4,
        "start_time": "2021-08-10T12:30:31.001Z"
      },
      {
        "duration": 507,
        "start_time": "2021-08-10T12:30:46.971Z"
      },
      {
        "duration": 935,
        "start_time": "2021-08-10T12:30:54.144Z"
      },
      {
        "duration": 36,
        "start_time": "2021-08-10T12:31:11.373Z"
      },
      {
        "duration": 4,
        "start_time": "2021-08-10T12:31:26.821Z"
      },
      {
        "duration": 806,
        "start_time": "2021-08-10T12:31:27.475Z"
      },
      {
        "duration": 3,
        "start_time": "2021-08-10T12:31:32.964Z"
      },
      {
        "duration": 33,
        "start_time": "2021-08-10T12:31:35.644Z"
      },
      {
        "duration": 3,
        "start_time": "2021-08-10T12:31:46.800Z"
      },
      {
        "duration": 31,
        "start_time": "2021-08-10T12:31:47.336Z"
      },
      {
        "duration": 400,
        "start_time": "2021-08-10T12:31:59.003Z"
      },
      {
        "duration": 33,
        "start_time": "2021-08-10T12:32:05.896Z"
      },
      {
        "duration": 47,
        "start_time": "2021-08-10T12:36:06.630Z"
      },
      {
        "duration": 194,
        "start_time": "2021-08-10T12:37:00.455Z"
      },
      {
        "duration": 5,
        "start_time": "2021-08-10T12:37:37.818Z"
      },
      {
        "duration": 820,
        "start_time": "2021-08-10T12:37:38.765Z"
      },
      {
        "duration": 4,
        "start_time": "2021-08-10T12:37:55.611Z"
      },
      {
        "duration": 799,
        "start_time": "2021-08-10T12:37:56.307Z"
      },
      {
        "duration": 4,
        "start_time": "2021-08-10T12:38:10.770Z"
      },
      {
        "duration": 806,
        "start_time": "2021-08-10T12:38:11.519Z"
      },
      {
        "duration": 4,
        "start_time": "2021-08-10T12:38:18.287Z"
      },
      {
        "duration": 35,
        "start_time": "2021-08-10T12:38:18.994Z"
      },
      {
        "duration": 5,
        "start_time": "2021-08-10T12:39:00.641Z"
      },
      {
        "duration": 32,
        "start_time": "2021-08-10T12:39:01.203Z"
      },
      {
        "duration": 5,
        "start_time": "2021-08-10T12:39:18.507Z"
      },
      {
        "duration": 30,
        "start_time": "2021-08-10T12:39:19.059Z"
      },
      {
        "duration": 44,
        "start_time": "2021-08-10T12:39:19.671Z"
      },
      {
        "duration": 5,
        "start_time": "2021-08-10T12:39:41.826Z"
      },
      {
        "duration": 32,
        "start_time": "2021-08-10T12:39:42.296Z"
      },
      {
        "duration": 31,
        "start_time": "2021-08-10T12:39:43.386Z"
      },
      {
        "duration": 4,
        "start_time": "2021-08-10T12:40:21.161Z"
      },
      {
        "duration": 776,
        "start_time": "2021-08-10T12:40:21.677Z"
      },
      {
        "duration": 4,
        "start_time": "2021-08-10T12:40:39.803Z"
      },
      {
        "duration": 31,
        "start_time": "2021-08-10T12:40:40.131Z"
      },
      {
        "duration": 35,
        "start_time": "2021-08-10T12:40:40.886Z"
      },
      {
        "duration": 134,
        "start_time": "2021-08-10T12:41:37.956Z"
      },
      {
        "duration": 5,
        "start_time": "2021-08-10T12:42:14.804Z"
      },
      {
        "duration": 32,
        "start_time": "2021-08-10T12:42:15.436Z"
      },
      {
        "duration": 7,
        "start_time": "2021-08-10T12:42:29.658Z"
      },
      {
        "duration": 47,
        "start_time": "2021-08-10T12:42:30.410Z"
      },
      {
        "duration": 36,
        "start_time": "2021-08-10T12:42:35.290Z"
      },
      {
        "duration": 19,
        "start_time": "2021-08-10T12:50:34.903Z"
      },
      {
        "duration": 23,
        "start_time": "2021-08-10T12:51:50.216Z"
      },
      {
        "duration": 167,
        "start_time": "2021-08-10T12:52:43.567Z"
      },
      {
        "duration": 22,
        "start_time": "2021-08-10T12:52:55.982Z"
      },
      {
        "duration": 22,
        "start_time": "2021-08-10T12:56:29.683Z"
      },
      {
        "duration": 1390,
        "start_time": "2021-08-10T13:00:22.536Z"
      },
      {
        "duration": 451,
        "start_time": "2021-08-10T13:00:43.170Z"
      },
      {
        "duration": 390,
        "start_time": "2021-08-10T13:00:57.774Z"
      },
      {
        "duration": 81,
        "start_time": "2021-08-10T13:01:03.890Z"
      },
      {
        "duration": 5,
        "start_time": "2021-08-10T13:02:36.327Z"
      },
      {
        "duration": 15,
        "start_time": "2021-08-10T13:02:41.651Z"
      },
      {
        "duration": 13,
        "start_time": "2021-08-10T13:02:46.434Z"
      },
      {
        "duration": 13,
        "start_time": "2021-08-10T13:02:49.780Z"
      },
      {
        "duration": 433,
        "start_time": "2021-08-10T13:03:03.602Z"
      },
      {
        "duration": 12,
        "start_time": "2021-08-10T13:03:09.194Z"
      },
      {
        "duration": 21,
        "start_time": "2021-08-10T13:03:15.104Z"
      },
      {
        "duration": 643,
        "start_time": "2021-08-10T13:03:20.583Z"
      },
      {
        "duration": 22,
        "start_time": "2021-08-10T13:03:26.464Z"
      },
      {
        "duration": 22,
        "start_time": "2021-08-10T13:03:32.840Z"
      },
      {
        "duration": 21,
        "start_time": "2021-08-10T13:04:07.407Z"
      },
      {
        "duration": 19,
        "start_time": "2021-08-10T13:04:34.665Z"
      },
      {
        "duration": 20,
        "start_time": "2021-08-10T13:05:36.561Z"
      },
      {
        "duration": 26,
        "start_time": "2021-08-10T13:07:09.426Z"
      },
      {
        "duration": 20,
        "start_time": "2021-08-10T13:08:10.668Z"
      },
      {
        "duration": 21,
        "start_time": "2021-08-10T13:09:42.687Z"
      },
      {
        "duration": 1159,
        "start_time": "2021-08-10T13:10:08.785Z"
      },
      {
        "duration": 24,
        "start_time": "2021-08-10T13:10:16.871Z"
      },
      {
        "duration": 33,
        "start_time": "2021-08-10T13:10:21.881Z"
      },
      {
        "duration": 20,
        "start_time": "2021-08-10T13:10:25.174Z"
      },
      {
        "duration": 21,
        "start_time": "2021-08-10T13:10:29.317Z"
      },
      {
        "duration": 22,
        "start_time": "2021-08-10T13:10:32.679Z"
      },
      {
        "duration": 21,
        "start_time": "2021-08-10T13:10:44.735Z"
      },
      {
        "duration": 20,
        "start_time": "2021-08-10T13:10:49.510Z"
      },
      {
        "duration": 20,
        "start_time": "2021-08-10T13:10:55.839Z"
      },
      {
        "duration": 10,
        "start_time": "2021-08-10T13:11:26.473Z"
      },
      {
        "duration": 5,
        "start_time": "2021-08-10T13:17:03.479Z"
      },
      {
        "duration": 34,
        "start_time": "2021-08-10T13:17:04.007Z"
      },
      {
        "duration": 33,
        "start_time": "2021-08-10T13:17:07.080Z"
      },
      {
        "duration": 496,
        "start_time": "2021-08-10T13:20:05.546Z"
      },
      {
        "duration": 11,
        "start_time": "2021-08-10T13:21:39.764Z"
      },
      {
        "duration": 156,
        "start_time": "2021-08-10T13:22:02.183Z"
      },
      {
        "duration": 13,
        "start_time": "2021-08-10T13:22:08.447Z"
      },
      {
        "duration": 12,
        "start_time": "2021-08-10T13:22:13.517Z"
      },
      {
        "duration": 400,
        "start_time": "2021-08-10T13:22:39.907Z"
      },
      {
        "duration": 469,
        "start_time": "2021-08-10T13:23:11.120Z"
      },
      {
        "duration": 529,
        "start_time": "2021-08-10T13:23:19.125Z"
      },
      {
        "duration": 505,
        "start_time": "2021-08-10T13:24:08.608Z"
      },
      {
        "duration": 473,
        "start_time": "2021-08-10T13:24:17.801Z"
      },
      {
        "duration": 566,
        "start_time": "2021-08-10T13:24:39.345Z"
      },
      {
        "duration": 464,
        "start_time": "2021-08-10T13:25:23.291Z"
      },
      {
        "duration": 464,
        "start_time": "2021-08-10T13:25:27.993Z"
      },
      {
        "duration": 460,
        "start_time": "2021-08-10T13:25:33.718Z"
      },
      {
        "duration": 983,
        "start_time": "2021-08-10T13:26:14.067Z"
      },
      {
        "duration": 1231,
        "start_time": "2021-08-10T13:26:17.675Z"
      },
      {
        "duration": 466,
        "start_time": "2021-08-10T13:27:14.272Z"
      },
      {
        "duration": 484,
        "start_time": "2021-08-10T13:28:04.830Z"
      },
      {
        "duration": 445,
        "start_time": "2021-08-10T13:28:16.248Z"
      },
      {
        "duration": 457,
        "start_time": "2021-08-10T13:28:49.899Z"
      },
      {
        "duration": 563,
        "start_time": "2021-08-10T13:29:15.794Z"
      },
      {
        "duration": 467,
        "start_time": "2021-08-10T13:29:22.855Z"
      },
      {
        "duration": 460,
        "start_time": "2021-08-10T13:30:10.249Z"
      },
      {
        "duration": 562,
        "start_time": "2021-08-10T13:30:14.859Z"
      },
      {
        "duration": 20,
        "start_time": "2021-08-10T13:33:53.344Z"
      },
      {
        "duration": 512,
        "start_time": "2021-08-10T13:35:07.959Z"
      },
      {
        "duration": -85,
        "start_time": "2021-08-10T13:43:10.403Z"
      },
      {
        "duration": 929,
        "start_time": "2021-08-10T13:43:27.188Z"
      },
      {
        "duration": 646,
        "start_time": "2021-08-10T13:44:03.000Z"
      },
      {
        "duration": 991,
        "start_time": "2021-08-10T13:45:09.460Z"
      },
      {
        "duration": 33,
        "start_time": "2021-08-10T13:47:00.122Z"
      },
      {
        "duration": 985,
        "start_time": "2021-08-10T13:47:09.979Z"
      },
      {
        "duration": 1041,
        "start_time": "2021-08-10T13:47:55.832Z"
      },
      {
        "duration": 975,
        "start_time": "2021-08-10T13:49:10.451Z"
      },
      {
        "duration": 1014,
        "start_time": "2021-08-10T13:50:05.301Z"
      },
      {
        "duration": 1096,
        "start_time": "2021-08-10T13:50:11.762Z"
      },
      {
        "duration": 1002,
        "start_time": "2021-08-10T13:50:30.400Z"
      },
      {
        "duration": 950,
        "start_time": "2021-08-10T13:50:37.735Z"
      },
      {
        "duration": 960,
        "start_time": "2021-08-10T13:50:48.369Z"
      },
      {
        "duration": 307,
        "start_time": "2021-08-10T13:51:34.797Z"
      },
      {
        "duration": 28,
        "start_time": "2021-08-10T13:51:38.196Z"
      },
      {
        "duration": 21,
        "start_time": "2021-08-10T13:52:15.596Z"
      },
      {
        "duration": 20,
        "start_time": "2021-08-10T13:52:33.408Z"
      },
      {
        "duration": 396,
        "start_time": "2021-08-10T13:52:42.967Z"
      },
      {
        "duration": 25,
        "start_time": "2021-08-10T13:52:50.346Z"
      },
      {
        "duration": 16,
        "start_time": "2021-08-10T13:53:42.048Z"
      },
      {
        "duration": 4,
        "start_time": "2021-08-10T13:54:47.946Z"
      },
      {
        "duration": 16,
        "start_time": "2021-08-10T13:54:52.461Z"
      },
      {
        "duration": 48,
        "start_time": "2021-08-10T13:55:02.948Z"
      },
      {
        "duration": 20,
        "start_time": "2021-08-10T13:55:17.974Z"
      },
      {
        "duration": 1978,
        "start_time": "2021-08-10T13:55:35.084Z"
      },
      {
        "duration": 5,
        "start_time": "2021-08-10T13:56:00.828Z"
      },
      {
        "duration": 978,
        "start_time": "2021-08-10T13:56:01.831Z"
      },
      {
        "duration": 132,
        "start_time": "2021-08-10T13:56:43.503Z"
      },
      {
        "duration": 933,
        "start_time": "2021-08-10T13:56:48.292Z"
      },
      {
        "duration": 489,
        "start_time": "2021-08-10T13:56:59.269Z"
      },
      {
        "duration": 6,
        "start_time": "2021-08-10T14:00:13.872Z"
      },
      {
        "duration": 170,
        "start_time": "2021-08-10T14:00:48.854Z"
      },
      {
        "duration": 1044,
        "start_time": "2021-08-10T14:01:05.804Z"
      },
      {
        "duration": 5,
        "start_time": "2021-08-10T14:01:11.661Z"
      },
      {
        "duration": 11,
        "start_time": "2021-08-10T14:04:22.303Z"
      },
      {
        "duration": 3713,
        "start_time": "2021-08-10T14:04:35.083Z"
      },
      {
        "duration": 3405,
        "start_time": "2021-08-10T14:04:38.800Z"
      },
      {
        "duration": 7048,
        "start_time": "2021-08-10T14:04:42.208Z"
      },
      {
        "duration": 35,
        "start_time": "2021-08-10T14:04:49.260Z"
      },
      {
        "duration": 16,
        "start_time": "2021-08-10T14:04:49.298Z"
      },
      {
        "duration": 97,
        "start_time": "2021-08-10T14:04:49.316Z"
      },
      {
        "duration": 70,
        "start_time": "2021-08-10T14:04:49.416Z"
      },
      {
        "duration": 23,
        "start_time": "2021-08-10T14:04:49.490Z"
      },
      {
        "duration": 12,
        "start_time": "2021-08-10T14:04:49.515Z"
      },
      {
        "duration": 491,
        "start_time": "2021-08-10T14:04:49.529Z"
      },
      {
        "duration": 10,
        "start_time": "2021-08-10T14:04:50.022Z"
      },
      {
        "duration": 49,
        "start_time": "2021-08-10T14:04:50.034Z"
      },
      {
        "duration": 485,
        "start_time": "2021-08-10T14:04:50.085Z"
      },
      {
        "duration": 16,
        "start_time": "2021-08-10T14:04:50.572Z"
      },
      {
        "duration": 22,
        "start_time": "2021-08-10T14:04:50.590Z"
      },
      {
        "duration": 131,
        "start_time": "2021-08-10T14:05:48.328Z"
      },
      {
        "duration": 595,
        "start_time": "2021-08-10T14:06:20.028Z"
      },
      {
        "duration": 9,
        "start_time": "2021-08-10T14:06:25.431Z"
      },
      {
        "duration": 5,
        "start_time": "2021-08-10T14:07:33.777Z"
      },
      {
        "duration": 4,
        "start_time": "2021-08-10T14:08:17.042Z"
      },
      {
        "duration": 155,
        "start_time": "2021-08-10T14:08:25.868Z"
      },
      {
        "duration": 5326,
        "start_time": "2021-08-10T14:08:32.809Z"
      },
      {
        "duration": 5289,
        "start_time": "2021-08-10T14:08:49.003Z"
      },
      {
        "duration": 5698,
        "start_time": "2021-08-10T14:08:59.688Z"
      },
      {
        "duration": 464,
        "start_time": "2021-08-10T14:09:22.300Z"
      },
      {
        "duration": 44,
        "start_time": "2021-08-10T14:09:32.855Z"
      },
      {
        "duration": 12,
        "start_time": "2021-08-10T14:09:42.959Z"
      },
      {
        "duration": 424,
        "start_time": "2021-08-10T14:10:15.960Z"
      },
      {
        "duration": 5556,
        "start_time": "2021-08-10T14:10:54.820Z"
      },
      {
        "duration": 350,
        "start_time": "2021-08-10T14:11:05.782Z"
      },
      {
        "duration": 50782,
        "start_time": "2021-08-10T14:11:11.193Z"
      },
      {
        "duration": 12,
        "start_time": "2021-08-10T14:12:01.978Z"
      },
      {
        "duration": 51832,
        "start_time": "2021-08-10T14:12:58.816Z"
      },
      {
        "duration": 33,
        "start_time": "2021-08-10T14:13:50.618Z"
      },
      {
        "duration": 51089,
        "start_time": "2021-08-10T14:14:09.187Z"
      },
      {
        "duration": 25,
        "start_time": "2021-08-10T14:15:00.279Z"
      },
      {
        "duration": 16,
        "start_time": "2021-08-10T14:15:12.155Z"
      },
      {
        "duration": 5,
        "start_time": "2021-08-10T14:15:16.071Z"
      },
      {
        "duration": 10,
        "start_time": "2021-08-10T14:15:32.015Z"
      },
      {
        "duration": 28,
        "start_time": "2021-08-10T14:15:55.134Z"
      },
      {
        "duration": 15,
        "start_time": "2021-08-10T14:15:58.091Z"
      },
      {
        "duration": 3475,
        "start_time": "2021-08-10T14:16:57.804Z"
      },
      {
        "duration": 3524,
        "start_time": "2021-08-10T14:17:01.282Z"
      },
      {
        "duration": 3363,
        "start_time": "2021-08-10T14:17:04.810Z"
      },
      {
        "duration": 6867,
        "start_time": "2021-08-10T14:17:08.176Z"
      },
      {
        "duration": 33,
        "start_time": "2021-08-10T14:17:15.046Z"
      },
      {
        "duration": 22,
        "start_time": "2021-08-10T14:17:15.081Z"
      },
      {
        "duration": 88,
        "start_time": "2021-08-10T14:17:15.105Z"
      },
      {
        "duration": 31,
        "start_time": "2021-08-10T14:17:15.198Z"
      },
      {
        "duration": 55,
        "start_time": "2021-08-10T14:17:15.232Z"
      },
      {
        "duration": 11,
        "start_time": "2021-08-10T14:17:15.289Z"
      },
      {
        "duration": 475,
        "start_time": "2021-08-10T14:17:15.303Z"
      },
      {
        "duration": 13,
        "start_time": "2021-08-10T14:17:15.781Z"
      },
      {
        "duration": 31,
        "start_time": "2021-08-10T14:17:15.796Z"
      },
      {
        "duration": 486,
        "start_time": "2021-08-10T14:17:15.830Z"
      },
      {
        "duration": 5,
        "start_time": "2021-08-10T14:17:16.319Z"
      },
      {
        "duration": 14,
        "start_time": "2021-08-10T14:17:16.326Z"
      },
      {
        "duration": 6,
        "start_time": "2021-08-10T14:17:16.343Z"
      },
      {
        "duration": 51767,
        "start_time": "2021-08-10T14:17:16.352Z"
      },
      {
        "duration": 14,
        "start_time": "2021-08-10T14:18:08.122Z"
      },
      {
        "duration": 5,
        "start_time": "2021-08-10T14:18:08.139Z"
      },
      {
        "duration": 41,
        "start_time": "2021-08-10T14:18:08.146Z"
      },
      {
        "duration": 50797,
        "start_time": "2021-08-10T14:18:55.325Z"
      },
      {
        "duration": 15,
        "start_time": "2021-08-10T14:19:46.125Z"
      },
      {
        "duration": 6,
        "start_time": "2021-08-10T14:19:46.144Z"
      },
      {
        "duration": 39,
        "start_time": "2021-08-10T14:19:46.153Z"
      },
      {
        "duration": 63,
        "start_time": "2021-08-10T14:20:42.676Z"
      },
      {
        "duration": 44,
        "start_time": "2021-08-10T14:21:26.773Z"
      },
      {
        "duration": 209,
        "start_time": "2021-08-10T14:21:42.531Z"
      },
      {
        "duration": 208,
        "start_time": "2021-08-10T14:22:14.754Z"
      },
      {
        "duration": 214,
        "start_time": "2021-08-10T14:23:47.122Z"
      },
      {
        "duration": 212,
        "start_time": "2021-08-10T14:23:55.611Z"
      },
      {
        "duration": 200,
        "start_time": "2021-08-10T14:24:00.288Z"
      },
      {
        "duration": 204,
        "start_time": "2021-08-10T14:24:04.270Z"
      },
      {
        "duration": 321,
        "start_time": "2021-08-10T14:24:08.067Z"
      },
      {
        "duration": 205,
        "start_time": "2021-08-10T14:24:11.283Z"
      },
      {
        "duration": 11552,
        "start_time": "2021-08-10T14:24:29.511Z"
      },
      {
        "duration": 210,
        "start_time": "2021-08-10T14:24:49.168Z"
      },
      {
        "duration": 422,
        "start_time": "2021-08-10T14:25:58.855Z"
      },
      {
        "duration": 412,
        "start_time": "2021-08-10T14:26:04.756Z"
      },
      {
        "duration": 480,
        "start_time": "2021-08-10T14:26:14.798Z"
      },
      {
        "duration": 31,
        "start_time": "2021-08-10T14:26:24.623Z"
      },
      {
        "duration": 233,
        "start_time": "2021-08-10T14:28:16.978Z"
      },
      {
        "duration": 128,
        "start_time": "2021-08-10T14:28:24.228Z"
      },
      {
        "duration": 430,
        "start_time": "2021-08-10T14:28:32.440Z"
      },
      {
        "duration": 214,
        "start_time": "2021-08-10T14:28:52.047Z"
      },
      {
        "duration": 211,
        "start_time": "2021-08-10T14:29:45.037Z"
      },
      {
        "duration": 380,
        "start_time": "2021-08-10T14:32:13.382Z"
      },
      {
        "duration": 393,
        "start_time": "2021-08-10T14:32:20.232Z"
      },
      {
        "duration": 7,
        "start_time": "2021-08-10T14:32:59.515Z"
      },
      {
        "duration": 21,
        "start_time": "2021-08-10T14:33:04.548Z"
      },
      {
        "duration": 6,
        "start_time": "2021-08-10T14:33:36.058Z"
      },
      {
        "duration": 61,
        "start_time": "2021-08-10T14:33:38.997Z"
      },
      {
        "duration": 3579,
        "start_time": "2021-08-10T14:33:59.232Z"
      },
      {
        "duration": 3471,
        "start_time": "2021-08-10T14:34:02.815Z"
      },
      {
        "duration": 3536,
        "start_time": "2021-08-10T14:34:06.290Z"
      },
      {
        "duration": 9106,
        "start_time": "2021-08-10T14:34:09.829Z"
      },
      {
        "duration": 34,
        "start_time": "2021-08-10T14:34:18.938Z"
      },
      {
        "duration": 14,
        "start_time": "2021-08-10T14:34:18.975Z"
      },
      {
        "duration": 117,
        "start_time": "2021-08-10T14:34:18.992Z"
      },
      {
        "duration": 38,
        "start_time": "2021-08-10T14:34:19.115Z"
      },
      {
        "duration": 24,
        "start_time": "2021-08-10T14:34:19.187Z"
      },
      {
        "duration": 23,
        "start_time": "2021-08-10T14:34:19.214Z"
      },
      {
        "duration": 597,
        "start_time": "2021-08-10T14:34:19.240Z"
      },
      {
        "duration": 10,
        "start_time": "2021-08-10T14:34:19.840Z"
      },
      {
        "duration": 41,
        "start_time": "2021-08-10T14:34:19.852Z"
      },
      {
        "duration": 500,
        "start_time": "2021-08-10T14:34:19.896Z"
      },
      {
        "duration": 5,
        "start_time": "2021-08-10T14:34:20.398Z"
      },
      {
        "duration": 21,
        "start_time": "2021-08-10T14:34:20.405Z"
      },
      {
        "duration": 7,
        "start_time": "2021-08-10T14:34:20.429Z"
      },
      {
        "duration": 50907,
        "start_time": "2021-08-10T14:34:20.438Z"
      },
      {
        "duration": 16,
        "start_time": "2021-08-10T14:35:11.347Z"
      },
      {
        "duration": 20,
        "start_time": "2021-08-10T14:35:11.365Z"
      },
      {
        "duration": 19,
        "start_time": "2021-08-10T14:35:11.388Z"
      },
      {
        "duration": 9,
        "start_time": "2021-08-10T14:35:11.409Z"
      },
      {
        "duration": 73,
        "start_time": "2021-08-10T14:35:11.422Z"
      },
      {
        "duration": 221,
        "start_time": "2021-08-10T14:35:11.498Z"
      },
      {
        "duration": 604,
        "start_time": "2021-08-10T14:38:42.848Z"
      },
      {
        "duration": 160,
        "start_time": "2021-08-10T14:39:02.587Z"
      },
      {
        "duration": 217,
        "start_time": "2021-08-10T14:39:08.702Z"
      },
      {
        "duration": 206,
        "start_time": "2021-08-10T14:39:26.104Z"
      },
      {
        "duration": 10,
        "start_time": "2021-08-10T14:40:20.853Z"
      },
      {
        "duration": 785,
        "start_time": "2021-08-10T14:41:15.140Z"
      },
      {
        "duration": 9,
        "start_time": "2021-08-10T14:41:32.398Z"
      },
      {
        "duration": 5,
        "start_time": "2021-08-10T14:41:46.984Z"
      },
      {
        "duration": 115,
        "start_time": "2021-08-10T14:41:50.361Z"
      },
      {
        "duration": 129,
        "start_time": "2021-08-10T14:42:03.605Z"
      },
      {
        "duration": 114,
        "start_time": "2021-08-10T14:42:11.007Z"
      },
      {
        "duration": 397,
        "start_time": "2021-08-10T14:46:01.399Z"
      },
      {
        "duration": 50,
        "start_time": "2021-08-10T14:46:21.114Z"
      },
      {
        "duration": 52,
        "start_time": "2021-08-10T14:46:54.518Z"
      },
      {
        "duration": 59,
        "start_time": "2021-08-10T14:47:05.884Z"
      },
      {
        "duration": 250,
        "start_time": "2021-08-10T14:47:06.577Z"
      },
      {
        "duration": 183,
        "start_time": "2021-08-10T14:47:33.994Z"
      },
      {
        "duration": 193,
        "start_time": "2021-08-10T14:48:01.947Z"
      },
      {
        "duration": 118,
        "start_time": "2021-08-10T16:03:49.049Z"
      },
      {
        "duration": 3385,
        "start_time": "2021-08-10T16:04:39.568Z"
      },
      {
        "duration": 3435,
        "start_time": "2021-08-10T16:04:42.956Z"
      },
      {
        "duration": 3309,
        "start_time": "2021-08-10T16:04:46.399Z"
      },
      {
        "duration": 6913,
        "start_time": "2021-08-10T16:04:49.711Z"
      },
      {
        "duration": 33,
        "start_time": "2021-08-10T16:04:56.626Z"
      },
      {
        "duration": 12,
        "start_time": "2021-08-10T16:04:56.661Z"
      },
      {
        "duration": 83,
        "start_time": "2021-08-10T16:04:56.677Z"
      },
      {
        "duration": 50,
        "start_time": "2021-08-10T16:04:56.763Z"
      },
      {
        "duration": 24,
        "start_time": "2021-08-10T16:04:56.816Z"
      },
      {
        "duration": 51,
        "start_time": "2021-08-10T16:04:56.843Z"
      },
      {
        "duration": 485,
        "start_time": "2021-08-10T16:04:56.897Z"
      },
      {
        "duration": 9,
        "start_time": "2021-08-10T16:04:57.386Z"
      },
      {
        "duration": 26,
        "start_time": "2021-08-10T16:04:57.398Z"
      },
      {
        "duration": 504,
        "start_time": "2021-08-10T16:04:57.426Z"
      },
      {
        "duration": 6,
        "start_time": "2021-08-10T16:04:57.932Z"
      },
      {
        "duration": 17,
        "start_time": "2021-08-10T16:04:57.940Z"
      },
      {
        "duration": 25,
        "start_time": "2021-08-10T16:04:57.960Z"
      },
      {
        "duration": 50807,
        "start_time": "2021-08-10T16:04:57.988Z"
      },
      {
        "duration": 13,
        "start_time": "2021-08-10T16:05:48.798Z"
      },
      {
        "duration": 5,
        "start_time": "2021-08-10T16:05:48.814Z"
      },
      {
        "duration": 16,
        "start_time": "2021-08-10T16:05:48.821Z"
      },
      {
        "duration": 5,
        "start_time": "2021-08-10T16:05:48.841Z"
      },
      {
        "duration": 95,
        "start_time": "2021-08-10T16:05:48.848Z"
      },
      {
        "duration": 215,
        "start_time": "2021-08-10T16:05:48.946Z"
      },
      {
        "duration": 7,
        "start_time": "2021-08-10T16:06:44.006Z"
      },
      {
        "duration": 5,
        "start_time": "2021-08-10T16:06:50.135Z"
      },
      {
        "duration": 4,
        "start_time": "2021-08-10T16:06:55.672Z"
      },
      {
        "duration": 451,
        "start_time": "2021-08-10T16:07:22.142Z"
      },
      {
        "duration": 464,
        "start_time": "2021-08-10T16:07:36.472Z"
      },
      {
        "duration": 458,
        "start_time": "2021-08-10T16:07:43.330Z"
      },
      {
        "duration": 497,
        "start_time": "2021-08-10T16:07:54.967Z"
      },
      {
        "duration": 470,
        "start_time": "2021-08-10T16:08:00.819Z"
      },
      {
        "duration": 455,
        "start_time": "2021-08-10T16:08:21.685Z"
      },
      {
        "duration": 530,
        "start_time": "2021-08-10T16:08:29.572Z"
      },
      {
        "duration": 542,
        "start_time": "2021-08-10T16:09:09.007Z"
      },
      {
        "duration": 387,
        "start_time": "2021-08-10T16:09:26.510Z"
      },
      {
        "duration": 453,
        "start_time": "2021-08-10T16:09:37.774Z"
      },
      {
        "duration": 442,
        "start_time": "2021-08-10T16:09:43.464Z"
      },
      {
        "duration": 413,
        "start_time": "2021-08-10T16:09:48.164Z"
      },
      {
        "duration": 436,
        "start_time": "2021-08-10T16:09:54.173Z"
      },
      {
        "duration": 488,
        "start_time": "2021-08-10T16:10:01.701Z"
      },
      {
        "duration": 500,
        "start_time": "2021-08-10T16:10:20.418Z"
      },
      {
        "duration": 532,
        "start_time": "2021-08-10T16:10:23.945Z"
      },
      {
        "duration": 495,
        "start_time": "2021-08-10T16:10:45.818Z"
      },
      {
        "duration": 483,
        "start_time": "2021-08-10T16:10:50.827Z"
      },
      {
        "duration": 490,
        "start_time": "2021-08-10T16:10:55.443Z"
      },
      {
        "duration": 490,
        "start_time": "2021-08-10T16:11:01.775Z"
      },
      {
        "duration": 941,
        "start_time": "2021-08-10T16:11:48.225Z"
      },
      {
        "duration": 675,
        "start_time": "2021-08-10T16:11:57.369Z"
      },
      {
        "duration": 482,
        "start_time": "2021-08-10T16:12:12.908Z"
      },
      {
        "duration": 916,
        "start_time": "2021-08-10T16:13:01.560Z"
      },
      {
        "duration": 874,
        "start_time": "2021-08-10T16:13:04.877Z"
      },
      {
        "duration": 473,
        "start_time": "2021-08-10T16:13:50.541Z"
      },
      {
        "duration": 492,
        "start_time": "2021-08-10T16:14:06.445Z"
      },
      {
        "duration": 490,
        "start_time": "2021-08-10T16:14:12.512Z"
      },
      {
        "duration": 501,
        "start_time": "2021-08-10T16:14:17.849Z"
      },
      {
        "duration": 524,
        "start_time": "2021-08-10T16:14:28.068Z"
      },
      {
        "duration": 515,
        "start_time": "2021-08-10T16:14:33.246Z"
      },
      {
        "duration": 494,
        "start_time": "2021-08-10T16:14:37.620Z"
      },
      {
        "duration": 653,
        "start_time": "2021-08-10T16:14:53.294Z"
      },
      {
        "duration": 504,
        "start_time": "2021-08-10T16:15:10.272Z"
      },
      {
        "duration": 507,
        "start_time": "2021-08-10T16:15:14.995Z"
      },
      {
        "duration": 3857,
        "start_time": "2021-08-10T16:22:20.955Z"
      },
      {
        "duration": 3400,
        "start_time": "2021-08-10T16:22:24.815Z"
      },
      {
        "duration": 3461,
        "start_time": "2021-08-10T16:22:28.219Z"
      },
      {
        "duration": 8479,
        "start_time": "2021-08-10T16:22:31.684Z"
      },
      {
        "duration": 35,
        "start_time": "2021-08-10T16:22:40.165Z"
      },
      {
        "duration": 9,
        "start_time": "2021-08-10T16:22:40.202Z"
      },
      {
        "duration": 102,
        "start_time": "2021-08-10T16:22:40.213Z"
      },
      {
        "duration": 35,
        "start_time": "2021-08-10T16:22:40.318Z"
      },
      {
        "duration": 50,
        "start_time": "2021-08-10T16:22:40.358Z"
      },
      {
        "duration": 13,
        "start_time": "2021-08-10T16:22:40.411Z"
      },
      {
        "duration": 503,
        "start_time": "2021-08-10T16:22:40.426Z"
      },
      {
        "duration": 10,
        "start_time": "2021-08-10T16:22:40.932Z"
      },
      {
        "duration": 53,
        "start_time": "2021-08-10T16:22:40.945Z"
      },
      {
        "duration": 830,
        "start_time": "2021-08-10T16:22:41.001Z"
      },
      {
        "duration": 8,
        "start_time": "2021-08-10T16:22:41.834Z"
      },
      {
        "duration": 20,
        "start_time": "2021-08-10T16:22:41.845Z"
      },
      {
        "duration": 7,
        "start_time": "2021-08-10T16:22:41.887Z"
      },
      {
        "duration": 50829,
        "start_time": "2021-08-10T16:22:41.896Z"
      },
      {
        "duration": 17,
        "start_time": "2021-08-10T16:23:32.729Z"
      },
      {
        "duration": 7,
        "start_time": "2021-08-10T16:23:32.749Z"
      },
      {
        "duration": 13,
        "start_time": "2021-08-10T16:23:32.786Z"
      },
      {
        "duration": 10,
        "start_time": "2021-08-10T16:23:32.803Z"
      },
      {
        "duration": 84,
        "start_time": "2021-08-10T16:23:32.816Z"
      },
      {
        "duration": 203,
        "start_time": "2021-08-10T16:23:32.903Z"
      },
      {
        "duration": 20,
        "start_time": "2021-08-10T16:27:18.230Z"
      },
      {
        "duration": 534,
        "start_time": "2021-08-10T16:28:25.485Z"
      },
      {
        "duration": 434,
        "start_time": "2021-08-10T16:29:01.498Z"
      },
      {
        "duration": 385,
        "start_time": "2021-08-10T16:29:24.186Z"
      },
      {
        "duration": 436,
        "start_time": "2021-08-10T16:29:54.246Z"
      },
      {
        "duration": 6,
        "start_time": "2021-08-10T16:29:57.009Z"
      },
      {
        "duration": 11,
        "start_time": "2021-08-10T16:29:57.345Z"
      },
      {
        "duration": 7726,
        "start_time": "2021-08-10T16:30:02.258Z"
      },
      {
        "duration": 14,
        "start_time": "2021-08-10T16:30:13.724Z"
      },
      {
        "duration": 2572,
        "start_time": "2021-08-10T16:30:33.957Z"
      },
      {
        "duration": 3942,
        "start_time": "2021-08-10T16:31:13.735Z"
      },
      {
        "duration": 3538,
        "start_time": "2021-08-10T16:31:17.680Z"
      },
      {
        "duration": 3542,
        "start_time": "2021-08-10T16:31:21.227Z"
      },
      {
        "duration": 7114,
        "start_time": "2021-08-10T16:31:24.772Z"
      },
      {
        "duration": 33,
        "start_time": "2021-08-10T16:31:31.888Z"
      },
      {
        "duration": 16,
        "start_time": "2021-08-10T16:31:31.924Z"
      },
      {
        "duration": 95,
        "start_time": "2021-08-10T16:31:31.943Z"
      },
      {
        "duration": 52,
        "start_time": "2021-08-10T16:31:32.042Z"
      },
      {
        "duration": 24,
        "start_time": "2021-08-10T16:31:32.096Z"
      },
      {
        "duration": 11,
        "start_time": "2021-08-10T16:31:32.123Z"
      },
      {
        "duration": 496,
        "start_time": "2021-08-10T16:31:32.137Z"
      },
      {
        "duration": 10,
        "start_time": "2021-08-10T16:31:32.635Z"
      },
      {
        "duration": 44,
        "start_time": "2021-08-10T16:31:32.648Z"
      },
      {
        "duration": 515,
        "start_time": "2021-08-10T16:31:32.695Z"
      },
      {
        "duration": 5,
        "start_time": "2021-08-10T16:31:33.212Z"
      },
      {
        "duration": 18,
        "start_time": "2021-08-10T16:31:33.219Z"
      },
      {
        "duration": 14,
        "start_time": "2021-08-10T16:31:33.239Z"
      },
      {
        "duration": 50837,
        "start_time": "2021-08-10T16:31:33.256Z"
      },
      {
        "duration": 15,
        "start_time": "2021-08-10T16:32:24.096Z"
      },
      {
        "duration": 5,
        "start_time": "2021-08-10T16:32:24.114Z"
      },
      {
        "duration": 14,
        "start_time": "2021-08-10T16:32:24.122Z"
      },
      {
        "duration": 8,
        "start_time": "2021-08-10T16:32:24.140Z"
      },
      {
        "duration": 92,
        "start_time": "2021-08-10T16:32:24.150Z"
      },
      {
        "duration": 218,
        "start_time": "2021-08-10T16:32:24.245Z"
      },
      {
        "duration": 5,
        "start_time": "2021-08-10T16:32:24.466Z"
      },
      {
        "duration": 19,
        "start_time": "2021-08-10T16:32:24.473Z"
      },
      {
        "duration": 2218,
        "start_time": "2021-08-10T16:32:24.495Z"
      },
      {
        "duration": 15,
        "start_time": "2021-08-10T16:32:34.867Z"
      },
      {
        "duration": 23,
        "start_time": "2021-08-10T16:32:48.618Z"
      },
      {
        "duration": 508,
        "start_time": "2021-08-10T16:33:18.586Z"
      },
      {
        "duration": 3753,
        "start_time": "2021-08-10T16:33:36.911Z"
      },
      {
        "duration": 3554,
        "start_time": "2021-08-10T16:33:40.668Z"
      },
      {
        "duration": 3521,
        "start_time": "2021-08-10T16:33:44.227Z"
      },
      {
        "duration": 7382,
        "start_time": "2021-08-10T16:33:47.752Z"
      },
      {
        "duration": 35,
        "start_time": "2021-08-10T16:33:55.137Z"
      },
      {
        "duration": 7,
        "start_time": "2021-08-10T16:33:55.175Z"
      },
      {
        "duration": 100,
        "start_time": "2021-08-10T16:33:55.185Z"
      },
      {
        "duration": 39,
        "start_time": "2021-08-10T16:33:55.289Z"
      },
      {
        "duration": 56,
        "start_time": "2021-08-10T16:33:55.332Z"
      },
      {
        "duration": 14,
        "start_time": "2021-08-10T16:33:55.391Z"
      },
      {
        "duration": 612,
        "start_time": "2021-08-10T16:33:55.407Z"
      },
      {
        "duration": 12,
        "start_time": "2021-08-10T16:33:56.022Z"
      },
      {
        "duration": 49,
        "start_time": "2021-08-10T16:33:56.036Z"
      },
      {
        "duration": 535,
        "start_time": "2021-08-10T16:33:56.089Z"
      },
      {
        "duration": 5,
        "start_time": "2021-08-10T16:33:56.626Z"
      },
      {
        "duration": 12,
        "start_time": "2021-08-10T16:33:56.634Z"
      },
      {
        "duration": 14,
        "start_time": "2021-08-10T16:33:56.649Z"
      },
      {
        "duration": 50831,
        "start_time": "2021-08-10T16:33:56.666Z"
      },
      {
        "duration": 17,
        "start_time": "2021-08-10T16:34:47.499Z"
      },
      {
        "duration": 6,
        "start_time": "2021-08-10T16:34:47.519Z"
      },
      {
        "duration": 16,
        "start_time": "2021-08-10T16:34:47.528Z"
      },
      {
        "duration": 42,
        "start_time": "2021-08-10T16:34:47.547Z"
      },
      {
        "duration": 62,
        "start_time": "2021-08-10T16:34:47.593Z"
      },
      {
        "duration": 212,
        "start_time": "2021-08-10T16:34:47.657Z"
      },
      {
        "duration": 6,
        "start_time": "2021-08-10T16:36:08.153Z"
      },
      {
        "duration": 3689,
        "start_time": "2021-08-10T16:41:59.043Z"
      },
      {
        "duration": 3328,
        "start_time": "2021-08-10T16:42:02.736Z"
      },
      {
        "duration": 3556,
        "start_time": "2021-08-10T16:42:06.067Z"
      },
      {
        "duration": 7130,
        "start_time": "2021-08-10T16:42:09.626Z"
      },
      {
        "duration": 33,
        "start_time": "2021-08-10T16:42:16.759Z"
      },
      {
        "duration": 15,
        "start_time": "2021-08-10T16:42:16.794Z"
      },
      {
        "duration": 92,
        "start_time": "2021-08-10T16:42:16.812Z"
      },
      {
        "duration": 34,
        "start_time": "2021-08-10T16:42:16.908Z"
      },
      {
        "duration": 59,
        "start_time": "2021-08-10T16:42:16.946Z"
      },
      {
        "duration": 11,
        "start_time": "2021-08-10T16:42:17.009Z"
      },
      {
        "duration": 510,
        "start_time": "2021-08-10T16:42:17.023Z"
      },
      {
        "duration": 10,
        "start_time": "2021-08-10T16:42:17.535Z"
      },
      {
        "duration": 41,
        "start_time": "2021-08-10T16:42:17.548Z"
      },
      {
        "duration": 523,
        "start_time": "2021-08-10T16:42:17.591Z"
      },
      {
        "duration": 5,
        "start_time": "2021-08-10T16:42:18.117Z"
      },
      {
        "duration": 23,
        "start_time": "2021-08-10T16:42:18.124Z"
      },
      {
        "duration": 11,
        "start_time": "2021-08-10T16:42:18.149Z"
      },
      {
        "duration": 50837,
        "start_time": "2021-08-10T16:42:18.163Z"
      },
      {
        "duration": 19,
        "start_time": "2021-08-10T16:43:09.003Z"
      },
      {
        "duration": 6,
        "start_time": "2021-08-10T16:43:09.025Z"
      },
      {
        "duration": 52,
        "start_time": "2021-08-10T16:43:09.034Z"
      },
      {
        "duration": 5,
        "start_time": "2021-08-10T16:43:09.088Z"
      },
      {
        "duration": 86,
        "start_time": "2021-08-10T16:43:09.098Z"
      },
      {
        "duration": 261,
        "start_time": "2021-08-10T16:43:09.188Z"
      },
      {
        "duration": 2868,
        "start_time": "2021-08-10T16:44:40.391Z"
      },
      {
        "duration": 3429,
        "start_time": "2021-08-10T16:44:52.380Z"
      },
      {
        "duration": 3329,
        "start_time": "2021-08-10T16:44:55.813Z"
      },
      {
        "duration": 3426,
        "start_time": "2021-08-10T16:44:59.146Z"
      },
      {
        "duration": 7013,
        "start_time": "2021-08-10T16:45:02.576Z"
      },
      {
        "duration": 33,
        "start_time": "2021-08-10T16:45:09.591Z"
      },
      {
        "duration": 9,
        "start_time": "2021-08-10T16:45:09.628Z"
      },
      {
        "duration": 83,
        "start_time": "2021-08-10T16:45:09.640Z"
      },
      {
        "duration": 63,
        "start_time": "2021-08-10T16:45:09.726Z"
      },
      {
        "duration": 25,
        "start_time": "2021-08-10T16:45:09.794Z"
      },
      {
        "duration": 10,
        "start_time": "2021-08-10T16:45:09.822Z"
      },
      {
        "duration": 619,
        "start_time": "2021-08-10T16:45:09.835Z"
      },
      {
        "duration": 9,
        "start_time": "2021-08-10T16:45:10.457Z"
      },
      {
        "duration": 36,
        "start_time": "2021-08-10T16:45:10.469Z"
      },
      {
        "duration": 523,
        "start_time": "2021-08-10T16:45:10.507Z"
      },
      {
        "duration": 6,
        "start_time": "2021-08-10T16:45:11.033Z"
      },
      {
        "duration": 13,
        "start_time": "2021-08-10T16:45:11.041Z"
      },
      {
        "duration": 30,
        "start_time": "2021-08-10T16:45:11.057Z"
      },
      {
        "duration": 50805,
        "start_time": "2021-08-10T16:45:11.090Z"
      },
      {
        "duration": 16,
        "start_time": "2021-08-10T16:46:01.897Z"
      },
      {
        "duration": 17,
        "start_time": "2021-08-10T16:46:01.915Z"
      },
      {
        "duration": 36,
        "start_time": "2021-08-10T16:46:01.935Z"
      },
      {
        "duration": 25,
        "start_time": "2021-08-10T16:46:01.974Z"
      },
      {
        "duration": 77,
        "start_time": "2021-08-10T16:46:02.001Z"
      },
      {
        "duration": 197,
        "start_time": "2021-08-10T16:46:02.081Z"
      },
      {
        "duration": 3444,
        "start_time": "2021-08-10T16:47:27.003Z"
      },
      {
        "duration": 3500,
        "start_time": "2021-08-10T16:47:30.450Z"
      },
      {
        "duration": 3545,
        "start_time": "2021-08-10T16:47:33.953Z"
      },
      {
        "duration": 7011,
        "start_time": "2021-08-10T16:47:37.502Z"
      },
      {
        "duration": 32,
        "start_time": "2021-08-10T16:47:44.516Z"
      },
      {
        "duration": 17,
        "start_time": "2021-08-10T16:47:44.551Z"
      },
      {
        "duration": 89,
        "start_time": "2021-08-10T16:47:44.570Z"
      },
      {
        "duration": 51,
        "start_time": "2021-08-10T16:47:44.664Z"
      },
      {
        "duration": 22,
        "start_time": "2021-08-10T16:47:44.718Z"
      },
      {
        "duration": 45,
        "start_time": "2021-08-10T16:47:44.742Z"
      },
      {
        "duration": 464,
        "start_time": "2021-08-10T16:47:44.790Z"
      },
      {
        "duration": 11,
        "start_time": "2021-08-10T16:47:45.257Z"
      },
      {
        "duration": 24,
        "start_time": "2021-08-10T16:47:45.285Z"
      },
      {
        "duration": 506,
        "start_time": "2021-08-10T16:47:45.312Z"
      },
      {
        "duration": 6,
        "start_time": "2021-08-10T16:47:45.822Z"
      },
      {
        "duration": 12,
        "start_time": "2021-08-10T16:47:45.831Z"
      },
      {
        "duration": 56,
        "start_time": "2021-08-10T16:47:45.846Z"
      },
      {
        "duration": 50872,
        "start_time": "2021-08-10T16:47:45.905Z"
      },
      {
        "duration": 14,
        "start_time": "2021-08-10T16:48:36.779Z"
      },
      {
        "duration": 18,
        "start_time": "2021-08-10T16:48:36.795Z"
      },
      {
        "duration": 26,
        "start_time": "2021-08-10T16:48:36.816Z"
      },
      {
        "duration": 15,
        "start_time": "2021-08-10T16:48:36.845Z"
      },
      {
        "duration": 67,
        "start_time": "2021-08-10T16:48:36.864Z"
      },
      {
        "duration": 211,
        "start_time": "2021-08-10T16:48:36.933Z"
      },
      {
        "duration": 191,
        "start_time": "2021-08-10T16:51:06.336Z"
      },
      {
        "duration": 1129,
        "start_time": "2021-08-10T16:51:26.295Z"
      },
      {
        "duration": 215,
        "start_time": "2021-08-10T16:51:46.464Z"
      },
      {
        "duration": 561,
        "start_time": "2021-08-10T16:51:56.557Z"
      },
      {
        "duration": 3468,
        "start_time": "2021-08-10T16:52:07.688Z"
      },
      {
        "duration": 3471,
        "start_time": "2021-08-10T16:52:11.159Z"
      },
      {
        "duration": 3403,
        "start_time": "2021-08-10T16:52:14.633Z"
      },
      {
        "duration": 7937,
        "start_time": "2021-08-10T16:52:18.040Z"
      },
      {
        "duration": 32,
        "start_time": "2021-08-10T16:52:25.980Z"
      },
      {
        "duration": 11,
        "start_time": "2021-08-10T16:52:26.015Z"
      },
      {
        "duration": 83,
        "start_time": "2021-08-10T16:52:26.029Z"
      },
      {
        "duration": 31,
        "start_time": "2021-08-10T16:52:26.114Z"
      },
      {
        "duration": 52,
        "start_time": "2021-08-10T16:52:26.149Z"
      },
      {
        "duration": 12,
        "start_time": "2021-08-10T16:52:26.204Z"
      },
      {
        "duration": 602,
        "start_time": "2021-08-10T16:52:26.218Z"
      },
      {
        "duration": 10,
        "start_time": "2021-08-10T16:52:26.823Z"
      },
      {
        "duration": 26,
        "start_time": "2021-08-10T16:52:26.835Z"
      },
      {
        "duration": 540,
        "start_time": "2021-08-10T16:52:26.863Z"
      },
      {
        "duration": 6,
        "start_time": "2021-08-10T16:52:27.405Z"
      },
      {
        "duration": 14,
        "start_time": "2021-08-10T16:52:27.413Z"
      },
      {
        "duration": 8,
        "start_time": "2021-08-10T16:52:27.430Z"
      },
      {
        "duration": 50830,
        "start_time": "2021-08-10T16:52:27.440Z"
      },
      {
        "duration": 14,
        "start_time": "2021-08-10T16:53:18.272Z"
      },
      {
        "duration": 20,
        "start_time": "2021-08-10T16:53:18.288Z"
      },
      {
        "duration": 17,
        "start_time": "2021-08-10T16:53:18.310Z"
      },
      {
        "duration": 21,
        "start_time": "2021-08-10T16:53:18.329Z"
      },
      {
        "duration": 71,
        "start_time": "2021-08-10T16:53:18.352Z"
      },
      {
        "duration": 221,
        "start_time": "2021-08-10T16:53:18.425Z"
      },
      {
        "duration": 712,
        "start_time": "2021-08-10T17:01:52.817Z"
      },
      {
        "duration": 5,
        "start_time": "2021-08-10T17:03:02.968Z"
      },
      {
        "duration": 12,
        "start_time": "2021-08-10T17:03:07.515Z"
      },
      {
        "duration": 12,
        "start_time": "2021-08-10T17:03:11.055Z"
      },
      {
        "duration": 1437,
        "start_time": "2021-08-10T17:04:02.952Z"
      },
      {
        "duration": 397,
        "start_time": "2021-08-10T17:04:20.033Z"
      },
      {
        "duration": 562,
        "start_time": "2021-08-10T17:05:37.858Z"
      },
      {
        "duration": 378,
        "start_time": "2021-08-10T17:07:14.578Z"
      },
      {
        "duration": 10,
        "start_time": "2021-08-10T17:08:07.245Z"
      },
      {
        "duration": 390,
        "start_time": "2021-08-10T17:08:15.979Z"
      },
      {
        "duration": 537,
        "start_time": "2021-08-10T17:08:55.674Z"
      },
      {
        "duration": 356,
        "start_time": "2021-08-10T17:09:00.921Z"
      },
      {
        "duration": 581,
        "start_time": "2021-08-10T17:09:08.926Z"
      },
      {
        "duration": 445,
        "start_time": "2021-08-10T17:09:55.877Z"
      },
      {
        "duration": 376,
        "start_time": "2021-08-10T17:10:08.359Z"
      },
      {
        "duration": 573,
        "start_time": "2021-08-10T17:10:15.217Z"
      },
      {
        "duration": 679,
        "start_time": "2021-08-10T17:11:09.552Z"
      },
      {
        "duration": 18302,
        "start_time": "2021-08-10T17:11:22.488Z"
      },
      {
        "duration": 3044,
        "start_time": "2021-08-10T17:11:42.564Z"
      },
      {
        "duration": 5424,
        "start_time": "2021-08-10T17:12:09.302Z"
      },
      {
        "duration": 125,
        "start_time": "2021-08-10T17:12:18.578Z"
      },
      {
        "duration": 3848,
        "start_time": "2021-08-10T17:12:23.010Z"
      },
      {
        "duration": 929,
        "start_time": "2021-08-10T17:12:37.238Z"
      },
      {
        "duration": 10,
        "start_time": "2021-08-10T17:12:50.028Z"
      },
      {
        "duration": 7,
        "start_time": "2021-08-10T17:15:57.135Z"
      },
      {
        "duration": 5246,
        "start_time": "2021-08-10T17:16:11.997Z"
      },
      {
        "duration": 132,
        "start_time": "2021-08-10T17:16:31.424Z"
      },
      {
        "duration": 5,
        "start_time": "2021-08-10T17:16:49.755Z"
      },
      {
        "duration": 184,
        "start_time": "2021-08-10T17:17:10.037Z"
      },
      {
        "duration": 12,
        "start_time": "2021-08-10T17:17:18.852Z"
      },
      {
        "duration": 11,
        "start_time": "2021-08-10T17:17:32.615Z"
      },
      {
        "duration": 11,
        "start_time": "2021-08-10T17:17:33.170Z"
      },
      {
        "duration": 9,
        "start_time": "2021-08-10T17:18:09.515Z"
      },
      {
        "duration": 11,
        "start_time": "2021-08-10T17:18:10.601Z"
      },
      {
        "duration": 8,
        "start_time": "2021-08-10T17:19:58.245Z"
      },
      {
        "duration": 11,
        "start_time": "2021-08-10T17:20:00.740Z"
      },
      {
        "duration": 10,
        "start_time": "2021-08-10T17:20:08.371Z"
      },
      {
        "duration": 12,
        "start_time": "2021-08-10T17:20:08.861Z"
      },
      {
        "duration": 775,
        "start_time": "2021-08-10T17:20:29.534Z"
      },
      {
        "duration": 10,
        "start_time": "2021-08-10T17:20:42.487Z"
      },
      {
        "duration": 9,
        "start_time": "2021-08-10T17:21:06.169Z"
      },
      {
        "duration": 11,
        "start_time": "2021-08-10T17:21:06.741Z"
      },
      {
        "duration": 10,
        "start_time": "2021-08-10T17:21:11.167Z"
      },
      {
        "duration": 398,
        "start_time": "2021-08-10T17:21:24.367Z"
      },
      {
        "duration": 701,
        "start_time": "2021-08-10T17:21:29.789Z"
      },
      {
        "duration": 9,
        "start_time": "2021-08-10T17:21:39.216Z"
      },
      {
        "duration": 11,
        "start_time": "2021-08-10T17:21:39.884Z"
      },
      {
        "duration": 482,
        "start_time": "2021-08-10T17:21:40.587Z"
      },
      {
        "duration": 366,
        "start_time": "2021-08-10T17:21:49.694Z"
      },
      {
        "duration": 11,
        "start_time": "2021-08-10T17:21:58.491Z"
      },
      {
        "duration": 12,
        "start_time": "2021-08-10T17:21:58.930Z"
      },
      {
        "duration": 592,
        "start_time": "2021-08-10T17:22:00.053Z"
      },
      {
        "duration": 10,
        "start_time": "2021-08-10T17:22:20.481Z"
      },
      {
        "duration": 12,
        "start_time": "2021-08-10T17:22:20.873Z"
      },
      {
        "duration": 378,
        "start_time": "2021-08-10T17:22:21.358Z"
      },
      {
        "duration": 9,
        "start_time": "2021-08-10T17:22:46.112Z"
      },
      {
        "duration": 3424,
        "start_time": "2021-08-10T17:22:53.338Z"
      },
      {
        "duration": 3423,
        "start_time": "2021-08-10T17:22:56.765Z"
      },
      {
        "duration": 3409,
        "start_time": "2021-08-10T17:23:00.191Z"
      },
      {
        "duration": 8447,
        "start_time": "2021-08-10T17:23:03.603Z"
      },
      {
        "duration": 37,
        "start_time": "2021-08-10T17:23:12.052Z"
      },
      {
        "duration": 26,
        "start_time": "2021-08-10T17:23:12.092Z"
      },
      {
        "duration": 110,
        "start_time": "2021-08-10T17:23:12.121Z"
      },
      {
        "duration": 59,
        "start_time": "2021-08-10T17:23:12.235Z"
      },
      {
        "duration": 25,
        "start_time": "2021-08-10T17:23:12.297Z"
      },
      {
        "duration": 21,
        "start_time": "2021-08-10T17:23:12.325Z"
      },
      {
        "duration": 526,
        "start_time": "2021-08-10T17:23:12.349Z"
      },
      {
        "duration": 15,
        "start_time": "2021-08-10T17:23:12.877Z"
      },
      {
        "duration": 27,
        "start_time": "2021-08-10T17:23:12.895Z"
      },
      {
        "duration": 632,
        "start_time": "2021-08-10T17:23:12.925Z"
      },
      {
        "duration": 7,
        "start_time": "2021-08-10T17:23:13.560Z"
      },
      {
        "duration": 11,
        "start_time": "2021-08-10T17:23:13.585Z"
      },
      {
        "duration": 6,
        "start_time": "2021-08-10T17:23:13.599Z"
      },
      {
        "duration": 50830,
        "start_time": "2021-08-10T17:23:13.607Z"
      },
      {
        "duration": 16,
        "start_time": "2021-08-10T17:24:04.440Z"
      },
      {
        "duration": 10,
        "start_time": "2021-08-10T17:24:04.458Z"
      },
      {
        "duration": 12,
        "start_time": "2021-08-10T17:24:04.485Z"
      },
      {
        "duration": 17,
        "start_time": "2021-08-10T17:24:04.499Z"
      },
      {
        "duration": 73,
        "start_time": "2021-08-10T17:24:04.520Z"
      },
      {
        "duration": 228,
        "start_time": "2021-08-10T17:24:04.596Z"
      },
      {
        "duration": 23,
        "start_time": "2021-08-10T17:24:51.247Z"
      },
      {
        "duration": 22,
        "start_time": "2021-08-10T17:24:55.476Z"
      },
      {
        "duration": 22,
        "start_time": "2021-08-10T17:24:59.680Z"
      },
      {
        "duration": 25,
        "start_time": "2021-08-10T17:25:03.646Z"
      },
      {
        "duration": 21,
        "start_time": "2021-08-10T17:25:06.611Z"
      },
      {
        "duration": 21,
        "start_time": "2021-08-10T17:25:11.124Z"
      },
      {
        "duration": 23,
        "start_time": "2021-08-10T17:25:15.618Z"
      },
      {
        "duration": 32,
        "start_time": "2021-08-10T17:25:20.549Z"
      },
      {
        "duration": 21,
        "start_time": "2021-08-10T17:25:23.982Z"
      },
      {
        "duration": 23,
        "start_time": "2021-08-10T17:25:33.557Z"
      },
      {
        "duration": 453,
        "start_time": "2021-08-10T17:26:57.552Z"
      },
      {
        "duration": 474,
        "start_time": "2021-08-10T17:27:07.607Z"
      },
      {
        "duration": 1072,
        "start_time": "2021-08-10T17:27:20.636Z"
      },
      {
        "duration": 474,
        "start_time": "2021-08-10T17:27:25.943Z"
      },
      {
        "duration": 539,
        "start_time": "2021-08-10T17:27:35.207Z"
      },
      {
        "duration": 1030,
        "start_time": "2021-08-10T17:27:59.265Z"
      },
      {
        "duration": 1253,
        "start_time": "2021-08-10T17:28:32.508Z"
      },
      {
        "duration": 1227,
        "start_time": "2021-08-10T17:28:40.593Z"
      },
      {
        "duration": 446,
        "start_time": "2021-08-10T17:29:01.050Z"
      },
      {
        "duration": 935,
        "start_time": "2021-08-10T17:30:02.465Z"
      },
      {
        "duration": 473,
        "start_time": "2021-08-10T17:30:29.055Z"
      },
      {
        "duration": 480,
        "start_time": "2021-08-10T17:31:32.974Z"
      },
      {
        "duration": 459,
        "start_time": "2021-08-10T17:31:42.063Z"
      },
      {
        "duration": 452,
        "start_time": "2021-08-10T17:32:02.815Z"
      },
      {
        "duration": 474,
        "start_time": "2021-08-10T17:32:09.569Z"
      },
      {
        "duration": 3498,
        "start_time": "2021-08-10T17:32:50.557Z"
      },
      {
        "duration": 3419,
        "start_time": "2021-08-10T17:32:54.058Z"
      },
      {
        "duration": 3457,
        "start_time": "2021-08-10T17:32:57.480Z"
      },
      {
        "duration": 6329,
        "start_time": "2021-08-10T17:33:00.940Z"
      },
      {
        "duration": 34,
        "start_time": "2021-08-10T17:33:07.272Z"
      },
      {
        "duration": 12,
        "start_time": "2021-08-10T17:33:07.308Z"
      },
      {
        "duration": 89,
        "start_time": "2021-08-10T17:33:07.323Z"
      },
      {
        "duration": 32,
        "start_time": "2021-08-10T17:33:07.415Z"
      },
      {
        "duration": 24,
        "start_time": "2021-08-10T17:33:07.487Z"
      },
      {
        "duration": 12,
        "start_time": "2021-08-10T17:33:07.514Z"
      },
      {
        "duration": 483,
        "start_time": "2021-08-10T17:33:07.528Z"
      },
      {
        "duration": 9,
        "start_time": "2021-08-10T17:33:08.014Z"
      },
      {
        "duration": 34,
        "start_time": "2021-08-10T17:33:08.025Z"
      },
      {
        "duration": 526,
        "start_time": "2021-08-10T17:33:08.061Z"
      },
      {
        "duration": 5,
        "start_time": "2021-08-10T17:33:08.590Z"
      },
      {
        "duration": 20,
        "start_time": "2021-08-10T17:33:08.598Z"
      },
      {
        "duration": 19,
        "start_time": "2021-08-10T17:33:08.621Z"
      },
      {
        "duration": 54428,
        "start_time": "2021-08-10T17:33:08.643Z"
      },
      {
        "duration": 21,
        "start_time": "2021-08-10T17:34:03.074Z"
      },
      {
        "duration": 13,
        "start_time": "2021-08-10T17:34:03.098Z"
      },
      {
        "duration": 26,
        "start_time": "2021-08-10T17:34:03.113Z"
      },
      {
        "duration": 30,
        "start_time": "2021-08-10T17:34:03.141Z"
      },
      {
        "duration": 99,
        "start_time": "2021-08-10T17:34:03.175Z"
      },
      {
        "duration": 205,
        "start_time": "2021-08-10T17:34:03.277Z"
      },
      {
        "duration": 22,
        "start_time": "2021-08-10T17:34:03.485Z"
      },
      {
        "duration": 20,
        "start_time": "2021-08-10T17:34:07.978Z"
      },
      {
        "duration": 21,
        "start_time": "2021-08-10T17:34:13.904Z"
      },
      {
        "duration": 23,
        "start_time": "2021-08-10T17:34:20.049Z"
      },
      {
        "duration": 22,
        "start_time": "2021-08-10T17:34:26.821Z"
      },
      {
        "duration": 21,
        "start_time": "2021-08-10T17:34:32.681Z"
      },
      {
        "duration": 22,
        "start_time": "2021-08-10T17:34:41.760Z"
      },
      {
        "duration": 3945,
        "start_time": "2021-08-10T17:35:06.439Z"
      },
      {
        "duration": 4239,
        "start_time": "2021-08-10T17:35:10.386Z"
      },
      {
        "duration": 4234,
        "start_time": "2021-08-10T17:35:14.629Z"
      },
      {
        "duration": 10060,
        "start_time": "2021-08-10T17:35:18.866Z"
      },
      {
        "duration": 34,
        "start_time": "2021-08-10T17:35:28.929Z"
      },
      {
        "duration": 8,
        "start_time": "2021-08-10T17:35:28.965Z"
      },
      {
        "duration": 88,
        "start_time": "2021-08-10T17:35:28.975Z"
      },
      {
        "duration": 38,
        "start_time": "2021-08-10T17:35:29.067Z"
      },
      {
        "duration": 23,
        "start_time": "2021-08-10T17:35:29.108Z"
      },
      {
        "duration": 10,
        "start_time": "2021-08-10T17:35:29.134Z"
      },
      {
        "duration": 486,
        "start_time": "2021-08-10T17:35:29.147Z"
      },
      {
        "duration": 9,
        "start_time": "2021-08-10T17:35:29.635Z"
      },
      {
        "duration": 24,
        "start_time": "2021-08-10T17:35:29.647Z"
      },
      {
        "duration": 634,
        "start_time": "2021-08-10T17:35:29.674Z"
      },
      {
        "duration": 5,
        "start_time": "2021-08-10T17:35:30.311Z"
      },
      {
        "duration": 22,
        "start_time": "2021-08-10T17:35:30.318Z"
      },
      {
        "duration": 44,
        "start_time": "2021-08-10T17:35:30.342Z"
      },
      {
        "duration": 50848,
        "start_time": "2021-08-10T17:35:30.389Z"
      },
      {
        "duration": 14,
        "start_time": "2021-08-10T17:36:21.240Z"
      },
      {
        "duration": 8,
        "start_time": "2021-08-10T17:36:21.256Z"
      },
      {
        "duration": 11,
        "start_time": "2021-08-10T17:36:21.289Z"
      },
      {
        "duration": 22,
        "start_time": "2021-08-10T17:36:21.303Z"
      },
      {
        "duration": 69,
        "start_time": "2021-08-10T17:36:21.330Z"
      },
      {
        "duration": 221,
        "start_time": "2021-08-10T17:36:21.402Z"
      },
      {
        "duration": 212,
        "start_time": "2021-08-10T17:37:37.769Z"
      }
    ],
    "kernelspec": {
      "display_name": "Python 3",
      "language": "python",
      "name": "python3"
    },
    "language_info": {
      "codemirror_mode": {
        "name": "ipython",
        "version": 3
      },
      "file_extension": ".py",
      "mimetype": "text/x-python",
      "name": "python",
      "nbconvert_exporter": "python",
      "pygments_lexer": "ipython3",
      "version": "3.7.8"
    },
    "toc": {
      "base_numbering": 1,
      "nav_menu": {},
      "number_sections": true,
      "sideBar": true,
      "skip_h1_title": true,
      "title_cell": "Содержание",
      "title_sidebar": "Contents",
      "toc_cell": true,
      "toc_position": {},
      "toc_section_display": true,
      "toc_window_display": false
    },
    "colab": {
      "name": "avia_tickets.ipynb",
      "provenance": [],
      "collapsed_sections": []
    }
  },
  "cells": [
    {
      "cell_type": "markdown",
      "metadata": {
        "id": "Ll4_2vGTwZp3"
      },
      "source": [
        "<footer id=\"footer\"></footer>"
      ]
    },
    {
      "cell_type": "markdown",
      "metadata": {
        "id": "wqiI66hCwZp4"
      },
      "source": [
        "# <center> Спрос на рейсы авиакомпании </center>"
      ]
    },
    {
      "cell_type": "markdown",
      "metadata": {
        "id": "-cpu89OdwZp5"
      },
      "source": [
        "![](https://i.ibb.co/94R1hxV/depositphotos-12750884-stock-illustration-airplane-flight-tickets-air-fly.jpg)"
      ]
    },
    {
      "cell_type": "markdown",
      "metadata": {
        "id": "l3n3OQm_wZp5"
      },
      "source": [
        "Для российской авиакомпании **F9**, выполняющей внутренние пассажирские перевозки необходимо понять предпочтения пользователей, покупающих билеты на разные направления.\n",
        "\n",
        "Нам предстоит изучить базу данных и проанализировать спрос пассажиров на рейсы в города, где проходят крупнейшие культурные фестивали.  \n",
        "\n",
        "\n",
        "---\n",
        "<font size=\"1\">\n",
        "Примечание\n",
        "\n",
        "*Мы уже достали данные из базы данных, анализировать будем csv файлы-результаты* [*запросов*](https://colab.research.google.com/drive/1kR2hYNIL2SAUbJX8c1EhNaKbdnz-vPD1)\n",
        "</font>     "
      ]
    },
    {
      "cell_type": "markdown",
      "metadata": {
        "id": "FOtF9BB9wZp6"
      },
      "source": [
        "<a href=\"#footer\">К содержанию</a>\n",
        "<footer id=\"footer\"></footer>"
      ]
    },
    {
      "cell_type": "markdown",
      "metadata": {
        "id": "NfOCcvl-wZp8"
      },
      "source": [
        "## Подготовка"
      ]
    },
    {
      "cell_type": "markdown",
      "metadata": {
        "id": "wxkYiQCNwZp8"
      },
      "source": [
        "### Загрузка необходимых библиотек"
      ]
    },
    {
      "cell_type": "code",
      "metadata": {
        "id": "FITR2j8owZp9"
      },
      "source": [
        "%%capture\n",
        "!pip install geopandas"
      ],
      "execution_count": 1,
      "outputs": []
    },
    {
      "cell_type": "code",
      "metadata": {
        "id": "H_3ObiBWwZp9"
      },
      "source": [
        "%%capture\n",
        "!pip install folium"
      ],
      "execution_count": 2,
      "outputs": []
    },
    {
      "cell_type": "code",
      "metadata": {
        "id": "-91Src2bwZp9"
      },
      "source": [
        "%%capture\n",
        "!pip install geopy==1.22.0"
      ],
      "execution_count": 3,
      "outputs": []
    },
    {
      "cell_type": "code",
      "metadata": {
        "id": "HFu-nxjswZp-"
      },
      "source": [
        "import pandas as pd\n",
        "import numpy as np\n",
        "import matplotlib.pyplot as plt\n",
        "import seaborn as sns\n",
        "import geopandas as gpd\n",
        "import math\n",
        "import folium\n",
        "import warnings\n",
        "\n",
        "\n",
        "from folium import Marker\n",
        "from folium.plugins import MarkerCluster\n",
        "from geopandas.tools import geocode\n",
        "\n",
        "\n",
        "warnings.filterwarnings(\"ignore\")\n",
        "sns.set_style ('darkgrid')\n",
        "%matplotlib inline\n",
        "np.random.seed(42)"
      ],
      "execution_count": 4,
      "outputs": []
    },
    {
      "cell_type": "markdown",
      "metadata": {
        "id": "6AGCoA60wZp-"
      },
      "source": [
        "<a href=\"#footer\">К содержанию</a>\n",
        "<footer id=\"footer\"></footer>"
      ]
    },
    {
      "cell_type": "markdown",
      "metadata": {
        "id": "NQmZXFrDwZp-"
      },
      "source": [
        "### Импорт данных"
      ]
    },
    {
      "cell_type": "code",
      "metadata": {
        "colab": {
          "base_uri": "https://localhost:8080/"
        },
        "id": "iwJJEYs6wjAz",
        "outputId": "e70a12c2-8fd6-4ffe-848a-32563fe3dce7"
      },
      "source": [
        "!gdown --id 1nI8fREutjBidCPIJIdRPDUrLTpUXBwa8\n",
        "!gdown --id 1Y40Rzb36hMlpWJ2FtKdPanf1pR7s-PaU"
      ],
      "execution_count": 5,
      "outputs": [
        {
          "output_type": "stream",
          "text": [
            "Downloading...\n",
            "From: https://drive.google.com/uc?id=1nI8fREutjBidCPIJIdRPDUrLTpUXBwa8\n",
            "To: /content/query_3.csv\n",
            "100% 4.29k/4.29k [00:00<00:00, 5.01MB/s]\n",
            "Downloading...\n",
            "From: https://drive.google.com/uc?id=1Y40Rzb36hMlpWJ2FtKdPanf1pR7s-PaU\n",
            "To: /content/query_1.csv\n",
            "100% 236/236 [00:00<00:00, 207kB/s]\n"
          ],
          "name": "stdout"
        }
      ]
    },
    {
      "cell_type": "code",
      "metadata": {
        "id": "zrY6XLL9wZp_"
      },
      "source": [
        "df_q1 = pd.read_csv('/content/query_1.csv')\n",
        "df_q3 = pd.read_csv('/content/query_3.csv')"
      ],
      "execution_count": 6,
      "outputs": []
    },
    {
      "cell_type": "code",
      "metadata": {
        "id": "ITF7i2TTwZp_"
      },
      "source": [
        "def get_info(data):\n",
        "    display(data.head().style.set_caption('Общая информация по датасету'))\n",
        "    display(data.describe().T)\n",
        "    print('----')\n",
        "    print('Информация о пропусках и типах данных')\n",
        "    print('----')\n",
        "    print()\n",
        "    display(data.info())\n",
        "    print('----')\n",
        "    print()"
      ],
      "execution_count": 7,
      "outputs": []
    },
    {
      "cell_type": "code",
      "metadata": {
        "colab": {
          "base_uri": "https://localhost:8080/",
          "height": 497
        },
        "id": "MFWNpPD7wZp_",
        "outputId": "60ab9431-3191-4214-fbac-40047d4de26f"
      },
      "source": [
        "get_info(df_q1)"
      ],
      "execution_count": 8,
      "outputs": [
        {
          "output_type": "display_data",
          "data": {
            "text/html": [
              "<style  type=\"text/css\" >\n",
              "</style><table id=\"T_4f77380e_fa1a_11eb_a5ff_0242ac1c0002\" ><caption>Общая информация по датасету</caption><thead>    <tr>        <th class=\"blank level0\" ></th>        <th class=\"col_heading level0 col0\" >model</th>        <th class=\"col_heading level0 col1\" >flights_amount</th>    </tr></thead><tbody>\n",
              "                <tr>\n",
              "                        <th id=\"T_4f77380e_fa1a_11eb_a5ff_0242ac1c0002level0_row0\" class=\"row_heading level0 row0\" >0</th>\n",
              "                        <td id=\"T_4f77380e_fa1a_11eb_a5ff_0242ac1c0002row0_col0\" class=\"data row0 col0\" >Airbus A319-100</td>\n",
              "                        <td id=\"T_4f77380e_fa1a_11eb_a5ff_0242ac1c0002row0_col1\" class=\"data row0 col1\" >607</td>\n",
              "            </tr>\n",
              "            <tr>\n",
              "                        <th id=\"T_4f77380e_fa1a_11eb_a5ff_0242ac1c0002level0_row1\" class=\"row_heading level0 row1\" >1</th>\n",
              "                        <td id=\"T_4f77380e_fa1a_11eb_a5ff_0242ac1c0002row1_col0\" class=\"data row1 col0\" >Airbus A321-200</td>\n",
              "                        <td id=\"T_4f77380e_fa1a_11eb_a5ff_0242ac1c0002row1_col1\" class=\"data row1 col1\" >960</td>\n",
              "            </tr>\n",
              "            <tr>\n",
              "                        <th id=\"T_4f77380e_fa1a_11eb_a5ff_0242ac1c0002level0_row2\" class=\"row_heading level0 row2\" >2</th>\n",
              "                        <td id=\"T_4f77380e_fa1a_11eb_a5ff_0242ac1c0002row2_col0\" class=\"data row2 col0\" >Boeing 737-300</td>\n",
              "                        <td id=\"T_4f77380e_fa1a_11eb_a5ff_0242ac1c0002row2_col1\" class=\"data row2 col1\" >630</td>\n",
              "            </tr>\n",
              "            <tr>\n",
              "                        <th id=\"T_4f77380e_fa1a_11eb_a5ff_0242ac1c0002level0_row3\" class=\"row_heading level0 row3\" >3</th>\n",
              "                        <td id=\"T_4f77380e_fa1a_11eb_a5ff_0242ac1c0002row3_col0\" class=\"data row3 col0\" >Boeing 767-300</td>\n",
              "                        <td id=\"T_4f77380e_fa1a_11eb_a5ff_0242ac1c0002row3_col1\" class=\"data row3 col1\" >600</td>\n",
              "            </tr>\n",
              "            <tr>\n",
              "                        <th id=\"T_4f77380e_fa1a_11eb_a5ff_0242ac1c0002level0_row4\" class=\"row_heading level0 row4\" >4</th>\n",
              "                        <td id=\"T_4f77380e_fa1a_11eb_a5ff_0242ac1c0002row4_col0\" class=\"data row4 col0\" >Boeing 777-300</td>\n",
              "                        <td id=\"T_4f77380e_fa1a_11eb_a5ff_0242ac1c0002row4_col1\" class=\"data row4 col1\" >300</td>\n",
              "            </tr>\n",
              "    </tbody></table>"
            ],
            "text/plain": [
              "<pandas.io.formats.style.Styler at 0x7ff694e7c890>"
            ]
          },
          "metadata": {
            "tags": []
          }
        },
        {
          "output_type": "display_data",
          "data": {
            "text/html": [
              "<div>\n",
              "<style scoped>\n",
              "    .dataframe tbody tr th:only-of-type {\n",
              "        vertical-align: middle;\n",
              "    }\n",
              "\n",
              "    .dataframe tbody tr th {\n",
              "        vertical-align: top;\n",
              "    }\n",
              "\n",
              "    .dataframe thead th {\n",
              "        text-align: right;\n",
              "    }\n",
              "</style>\n",
              "<table border=\"1\" class=\"dataframe\">\n",
              "  <thead>\n",
              "    <tr style=\"text-align: right;\">\n",
              "      <th></th>\n",
              "      <th>count</th>\n",
              "      <th>mean</th>\n",
              "      <th>std</th>\n",
              "      <th>min</th>\n",
              "      <th>25%</th>\n",
              "      <th>50%</th>\n",
              "      <th>75%</th>\n",
              "      <th>max</th>\n",
              "    </tr>\n",
              "  </thead>\n",
              "  <tbody>\n",
              "    <tr>\n",
              "      <th>flights_amount</th>\n",
              "      <td>8.0</td>\n",
              "      <td>2035.625</td>\n",
              "      <td>1965.203947</td>\n",
              "      <td>300.0</td>\n",
              "      <td>605.25</td>\n",
              "      <td>795.0</td>\n",
              "      <td>4250.25</td>\n",
              "      <td>4557.0</td>\n",
              "    </tr>\n",
              "  </tbody>\n",
              "</table>\n",
              "</div>"
            ],
            "text/plain": [
              "                count      mean          std  ...    50%      75%     max\n",
              "flights_amount    8.0  2035.625  1965.203947  ...  795.0  4250.25  4557.0\n",
              "\n",
              "[1 rows x 8 columns]"
            ]
          },
          "metadata": {
            "tags": []
          }
        },
        {
          "output_type": "stream",
          "text": [
            "----\n",
            "Информация о пропусках и типах данных\n",
            "----\n",
            "\n",
            "<class 'pandas.core.frame.DataFrame'>\n",
            "RangeIndex: 8 entries, 0 to 7\n",
            "Data columns (total 2 columns):\n",
            " #   Column          Non-Null Count  Dtype \n",
            "---  ------          --------------  ----- \n",
            " 0   model           8 non-null      object\n",
            " 1   flights_amount  8 non-null      int64 \n",
            "dtypes: int64(1), object(1)\n",
            "memory usage: 256.0+ bytes\n"
          ],
          "name": "stdout"
        },
        {
          "output_type": "display_data",
          "data": {
            "text/plain": [
              "None"
            ]
          },
          "metadata": {
            "tags": []
          }
        },
        {
          "output_type": "stream",
          "text": [
            "----\n",
            "\n"
          ],
          "name": "stdout"
        }
      ]
    },
    {
      "cell_type": "markdown",
      "metadata": {
        "id": "0GDmktP1wZqA"
      },
      "source": [
        "\n",
        "**df_q1 - query_1.csv** — результат первого запроса. В нём содержится следующая информация:\n",
        "\n",
        "- *model* — модель самолета;\n",
        "- *flights_amount* — количество рейсов для каждой модели самолетов *model* в сентябре 2018 года.\n",
        "\n",
        "Пропусков не наблюдается, преобразовать типы данных нет необходимости: для названий нас устраивает `object`,  \n",
        "\n",
        "для количества устраивает `int64` - целые числа. \n"
      ]
    },
    {
      "cell_type": "code",
      "metadata": {
        "colab": {
          "base_uri": "https://localhost:8080/",
          "height": 514
        },
        "id": "YDgp27cCwZqA",
        "outputId": "2ed33d19-8502-4de6-c05e-a47871460b8f"
      },
      "source": [
        "get_info(df_q3)"
      ],
      "execution_count": 9,
      "outputs": [
        {
          "output_type": "display_data",
          "data": {
            "text/html": [
              "<style  type=\"text/css\" >\n",
              "</style><table id=\"T_4f810780_fa1a_11eb_a5ff_0242ac1c0002\" ><caption>Общая информация по датасету</caption><thead>    <tr>        <th class=\"blank level0\" ></th>        <th class=\"col_heading level0 col0\" >city</th>        <th class=\"col_heading level0 col1\" >average_flights</th>    </tr></thead><tbody>\n",
              "                <tr>\n",
              "                        <th id=\"T_4f810780_fa1a_11eb_a5ff_0242ac1c0002level0_row0\" class=\"row_heading level0 row0\" >0</th>\n",
              "                        <td id=\"T_4f810780_fa1a_11eb_a5ff_0242ac1c0002row0_col0\" class=\"data row0 col0\" >Абакан</td>\n",
              "                        <td id=\"T_4f810780_fa1a_11eb_a5ff_0242ac1c0002row0_col1\" class=\"data row0 col1\" >3.870968</td>\n",
              "            </tr>\n",
              "            <tr>\n",
              "                        <th id=\"T_4f810780_fa1a_11eb_a5ff_0242ac1c0002level0_row1\" class=\"row_heading level0 row1\" >1</th>\n",
              "                        <td id=\"T_4f810780_fa1a_11eb_a5ff_0242ac1c0002row1_col0\" class=\"data row1 col0\" >Анадырь</td>\n",
              "                        <td id=\"T_4f810780_fa1a_11eb_a5ff_0242ac1c0002row1_col1\" class=\"data row1 col1\" >1.000000</td>\n",
              "            </tr>\n",
              "            <tr>\n",
              "                        <th id=\"T_4f810780_fa1a_11eb_a5ff_0242ac1c0002level0_row2\" class=\"row_heading level0 row2\" >2</th>\n",
              "                        <td id=\"T_4f810780_fa1a_11eb_a5ff_0242ac1c0002row2_col0\" class=\"data row2 col0\" >Анапа</td>\n",
              "                        <td id=\"T_4f810780_fa1a_11eb_a5ff_0242ac1c0002row2_col1\" class=\"data row2 col1\" >2.161290</td>\n",
              "            </tr>\n",
              "            <tr>\n",
              "                        <th id=\"T_4f810780_fa1a_11eb_a5ff_0242ac1c0002level0_row3\" class=\"row_heading level0 row3\" >3</th>\n",
              "                        <td id=\"T_4f810780_fa1a_11eb_a5ff_0242ac1c0002row3_col0\" class=\"data row3 col0\" >Архангельск</td>\n",
              "                        <td id=\"T_4f810780_fa1a_11eb_a5ff_0242ac1c0002row3_col1\" class=\"data row3 col1\" >5.354839</td>\n",
              "            </tr>\n",
              "            <tr>\n",
              "                        <th id=\"T_4f810780_fa1a_11eb_a5ff_0242ac1c0002level0_row4\" class=\"row_heading level0 row4\" >4</th>\n",
              "                        <td id=\"T_4f810780_fa1a_11eb_a5ff_0242ac1c0002row4_col0\" class=\"data row4 col0\" >Астрахань</td>\n",
              "                        <td id=\"T_4f810780_fa1a_11eb_a5ff_0242ac1c0002row4_col1\" class=\"data row4 col1\" >2.451613</td>\n",
              "            </tr>\n",
              "    </tbody></table>"
            ],
            "text/plain": [
              "<pandas.io.formats.style.Styler at 0x7ff67656ead0>"
            ]
          },
          "metadata": {
            "tags": []
          }
        },
        {
          "output_type": "display_data",
          "data": {
            "text/html": [
              "<div>\n",
              "<style scoped>\n",
              "    .dataframe tbody tr th:only-of-type {\n",
              "        vertical-align: middle;\n",
              "    }\n",
              "\n",
              "    .dataframe tbody tr th {\n",
              "        vertical-align: top;\n",
              "    }\n",
              "\n",
              "    .dataframe thead th {\n",
              "        text-align: right;\n",
              "    }\n",
              "</style>\n",
              "<table border=\"1\" class=\"dataframe\">\n",
              "  <thead>\n",
              "    <tr style=\"text-align: right;\">\n",
              "      <th></th>\n",
              "      <th>count</th>\n",
              "      <th>mean</th>\n",
              "      <th>std</th>\n",
              "      <th>min</th>\n",
              "      <th>25%</th>\n",
              "      <th>50%</th>\n",
              "      <th>75%</th>\n",
              "      <th>max</th>\n",
              "    </tr>\n",
              "  </thead>\n",
              "  <tbody>\n",
              "    <tr>\n",
              "      <th>average_flights</th>\n",
              "      <td>101.0</td>\n",
              "      <td>5.494189</td>\n",
              "      <td>13.11979</td>\n",
              "      <td>1.0</td>\n",
              "      <td>2.0</td>\n",
              "      <td>3.0</td>\n",
              "      <td>5.870968</td>\n",
              "      <td>129.774194</td>\n",
              "    </tr>\n",
              "  </tbody>\n",
              "</table>\n",
              "</div>"
            ],
            "text/plain": [
              "                 count      mean       std  min  25%  50%       75%         max\n",
              "average_flights  101.0  5.494189  13.11979  1.0  2.0  3.0  5.870968  129.774194"
            ]
          },
          "metadata": {
            "tags": []
          }
        },
        {
          "output_type": "stream",
          "text": [
            "----\n",
            "Информация о пропусках и типах данных\n",
            "----\n",
            "\n",
            "<class 'pandas.core.frame.DataFrame'>\n",
            "RangeIndex: 101 entries, 0 to 100\n",
            "Data columns (total 2 columns):\n",
            " #   Column           Non-Null Count  Dtype  \n",
            "---  ------           --------------  -----  \n",
            " 0   city             101 non-null    object \n",
            " 1   average_flights  101 non-null    float64\n",
            "dtypes: float64(1), object(1)\n",
            "memory usage: 1.7+ KB\n"
          ],
          "name": "stdout"
        },
        {
          "output_type": "display_data",
          "data": {
            "text/plain": [
              "None"
            ]
          },
          "metadata": {
            "tags": []
          }
        },
        {
          "output_type": "stream",
          "text": [
            "----\n",
            "\n"
          ],
          "name": "stdout"
        }
      ]
    },
    {
      "cell_type": "markdown",
      "metadata": {
        "id": "MMZkPDV8wZqA"
      },
      "source": [
        "**query_3.csv** — результат третьего запроса. В нём содержится такая информация:\n",
        "\n",
        "- *city* — город;\n",
        "- *average_flights* — среднее количество рейсов, прибывающих в город (*city*) за день в сентябре 2018 года.\n",
        "\n",
        "Пропусков не наблюдается, преобразовать типы данных нет необходимости: для названий нас устраивает `object`, для среднего количества перелетов устраивает `float64` - дробные числа. "
      ]
    },
    {
      "cell_type": "markdown",
      "metadata": {
        "id": "8aYqo2zFwZqA"
      },
      "source": [
        "<a href=\"#footer\">К содержанию</a>\n",
        "<footer id=\"footer\"></footer>"
      ]
    },
    {
      "cell_type": "markdown",
      "metadata": {
        "id": "bB6rn7AJwZqB"
      },
      "source": [
        "## Модели самолётов и количество рейсов"
      ]
    },
    {
      "cell_type": "code",
      "metadata": {
        "colab": {
          "base_uri": "https://localhost:8080/",
          "height": 259
        },
        "id": "BhZvHKmfwZqB",
        "outputId": "860254e5-9bc0-42db-adc3-d347490d03b0"
      },
      "source": [
        "(df_q1.sort_values(by='flights_amount', ascending=False)\n",
        " .reset_index(drop=True).style.set_caption('Данные по количеству совершенных '\n",
        "                                            'полетов каждой модели самолета')\n",
        " .set_precision(2).background_gradient(low=0.42)).hide_index()"
      ],
      "execution_count": 10,
      "outputs": [
        {
          "output_type": "execute_result",
          "data": {
            "text/html": [
              "<style  type=\"text/css\" >\n",
              "#T_4f8aba96_fa1a_11eb_a5ff_0242ac1c0002row0_col1{\n",
              "            background-color:  #023858;\n",
              "            color:  #f1f1f1;\n",
              "        }#T_4f8aba96_fa1a_11eb_a5ff_0242ac1c0002row1_col1{\n",
              "            background-color:  #023c5f;\n",
              "            color:  #f1f1f1;\n",
              "        }#T_4f8aba96_fa1a_11eb_a5ff_0242ac1c0002row2_col1{\n",
              "            background-color:  #034871;\n",
              "            color:  #f1f1f1;\n",
              "        }#T_4f8aba96_fa1a_11eb_a5ff_0242ac1c0002row3_col1{\n",
              "            background-color:  #9ab8d8;\n",
              "            color:  #000000;\n",
              "        }#T_4f8aba96_fa1a_11eb_a5ff_0242ac1c0002row4_col1{\n",
              "            background-color:  #afc1dd;\n",
              "            color:  #000000;\n",
              "        }#T_4f8aba96_fa1a_11eb_a5ff_0242ac1c0002row5_col1,#T_4f8aba96_fa1a_11eb_a5ff_0242ac1c0002row6_col1{\n",
              "            background-color:  #b0c2de;\n",
              "            color:  #000000;\n",
              "        }#T_4f8aba96_fa1a_11eb_a5ff_0242ac1c0002row7_col1{\n",
              "            background-color:  #c1cae2;\n",
              "            color:  #000000;\n",
              "        }</style><table id=\"T_4f8aba96_fa1a_11eb_a5ff_0242ac1c0002\" ><caption>Данные по количеству совершенных полетов каждой модели самолета</caption><thead>    <tr>        <th class=\"col_heading level0 col0\" >model</th>        <th class=\"col_heading level0 col1\" >flights_amount</th>    </tr></thead><tbody>\n",
              "                <tr>\n",
              "                                <td id=\"T_4f8aba96_fa1a_11eb_a5ff_0242ac1c0002row0_col0\" class=\"data row0 col0\" >Cessna 208 Caravan</td>\n",
              "                        <td id=\"T_4f8aba96_fa1a_11eb_a5ff_0242ac1c0002row0_col1\" class=\"data row0 col1\" >4557</td>\n",
              "            </tr>\n",
              "            <tr>\n",
              "                                <td id=\"T_4f8aba96_fa1a_11eb_a5ff_0242ac1c0002row1_col0\" class=\"data row1 col0\" >Bombardier CRJ-200</td>\n",
              "                        <td id=\"T_4f8aba96_fa1a_11eb_a5ff_0242ac1c0002row1_col1\" class=\"data row1 col1\" >4446</td>\n",
              "            </tr>\n",
              "            <tr>\n",
              "                                <td id=\"T_4f8aba96_fa1a_11eb_a5ff_0242ac1c0002row2_col0\" class=\"data row2 col0\" >Sukhoi SuperJet-100</td>\n",
              "                        <td id=\"T_4f8aba96_fa1a_11eb_a5ff_0242ac1c0002row2_col1\" class=\"data row2 col1\" >4185</td>\n",
              "            </tr>\n",
              "            <tr>\n",
              "                                <td id=\"T_4f8aba96_fa1a_11eb_a5ff_0242ac1c0002row3_col0\" class=\"data row3 col0\" >Airbus A321-200</td>\n",
              "                        <td id=\"T_4f8aba96_fa1a_11eb_a5ff_0242ac1c0002row3_col1\" class=\"data row3 col1\" >960</td>\n",
              "            </tr>\n",
              "            <tr>\n",
              "                                <td id=\"T_4f8aba96_fa1a_11eb_a5ff_0242ac1c0002row4_col0\" class=\"data row4 col0\" >Boeing 737-300</td>\n",
              "                        <td id=\"T_4f8aba96_fa1a_11eb_a5ff_0242ac1c0002row4_col1\" class=\"data row4 col1\" >630</td>\n",
              "            </tr>\n",
              "            <tr>\n",
              "                                <td id=\"T_4f8aba96_fa1a_11eb_a5ff_0242ac1c0002row5_col0\" class=\"data row5 col0\" >Airbus A319-100</td>\n",
              "                        <td id=\"T_4f8aba96_fa1a_11eb_a5ff_0242ac1c0002row5_col1\" class=\"data row5 col1\" >607</td>\n",
              "            </tr>\n",
              "            <tr>\n",
              "                                <td id=\"T_4f8aba96_fa1a_11eb_a5ff_0242ac1c0002row6_col0\" class=\"data row6 col0\" >Boeing 767-300</td>\n",
              "                        <td id=\"T_4f8aba96_fa1a_11eb_a5ff_0242ac1c0002row6_col1\" class=\"data row6 col1\" >600</td>\n",
              "            </tr>\n",
              "            <tr>\n",
              "                                <td id=\"T_4f8aba96_fa1a_11eb_a5ff_0242ac1c0002row7_col0\" class=\"data row7 col0\" >Boeing 777-300</td>\n",
              "                        <td id=\"T_4f8aba96_fa1a_11eb_a5ff_0242ac1c0002row7_col1\" class=\"data row7 col1\" >300</td>\n",
              "            </tr>\n",
              "    </tbody></table>"
            ],
            "text/plain": [
              "<pandas.io.formats.style.Styler at 0x7ff67656db10>"
            ]
          },
          "metadata": {
            "tags": []
          },
          "execution_count": 10
        }
      ]
    },
    {
      "cell_type": "markdown",
      "metadata": {
        "id": "mEDBgON-wZqB"
      },
      "source": [
        "Лидирующие позиции занимают самолеты [Cessna 208 Caravan](https://ru.wikipedia.org/wiki/Cessna_208), [Bombardier CRJ-200](https://ru.wikipedia.org/wiki/Bombardier_CRJ200), [Sukhoi SuperJet-100](https://ru.wikipedia.org/wiki/Sukhoi_Superjet_100). Стоит отметить, что для своих более вместительных соседей по рейтингу - Cessna может перевозить только до 13 пассажиров, вероятнее всего, чаще будет использовать в регионах. В будущем можно провести анализ по распределению самолетов по регионам"
      ]
    },
    {
      "cell_type": "code",
      "metadata": {
        "colab": {
          "base_uri": "https://localhost:8080/",
          "height": 297
        },
        "id": "WPDRjY3RwZqB",
        "outputId": "c98cdbf3-90ad-4723-a970-0fd2c1f4c444"
      },
      "source": [
        "top_planes = (df_q1.sort_values(by='flights_amount', ascending=False)\n",
        "             .reset_index(drop=True))\n",
        "top_planes"
      ],
      "execution_count": 11,
      "outputs": [
        {
          "output_type": "execute_result",
          "data": {
            "text/html": [
              "<div>\n",
              "<style scoped>\n",
              "    .dataframe tbody tr th:only-of-type {\n",
              "        vertical-align: middle;\n",
              "    }\n",
              "\n",
              "    .dataframe tbody tr th {\n",
              "        vertical-align: top;\n",
              "    }\n",
              "\n",
              "    .dataframe thead th {\n",
              "        text-align: right;\n",
              "    }\n",
              "</style>\n",
              "<table border=\"1\" class=\"dataframe\">\n",
              "  <thead>\n",
              "    <tr style=\"text-align: right;\">\n",
              "      <th></th>\n",
              "      <th>model</th>\n",
              "      <th>flights_amount</th>\n",
              "    </tr>\n",
              "  </thead>\n",
              "  <tbody>\n",
              "    <tr>\n",
              "      <th>0</th>\n",
              "      <td>Cessna 208 Caravan</td>\n",
              "      <td>4557</td>\n",
              "    </tr>\n",
              "    <tr>\n",
              "      <th>1</th>\n",
              "      <td>Bombardier CRJ-200</td>\n",
              "      <td>4446</td>\n",
              "    </tr>\n",
              "    <tr>\n",
              "      <th>2</th>\n",
              "      <td>Sukhoi SuperJet-100</td>\n",
              "      <td>4185</td>\n",
              "    </tr>\n",
              "    <tr>\n",
              "      <th>3</th>\n",
              "      <td>Airbus A321-200</td>\n",
              "      <td>960</td>\n",
              "    </tr>\n",
              "    <tr>\n",
              "      <th>4</th>\n",
              "      <td>Boeing 737-300</td>\n",
              "      <td>630</td>\n",
              "    </tr>\n",
              "    <tr>\n",
              "      <th>5</th>\n",
              "      <td>Airbus A319-100</td>\n",
              "      <td>607</td>\n",
              "    </tr>\n",
              "    <tr>\n",
              "      <th>6</th>\n",
              "      <td>Boeing 767-300</td>\n",
              "      <td>600</td>\n",
              "    </tr>\n",
              "    <tr>\n",
              "      <th>7</th>\n",
              "      <td>Boeing 777-300</td>\n",
              "      <td>300</td>\n",
              "    </tr>\n",
              "  </tbody>\n",
              "</table>\n",
              "</div>"
            ],
            "text/plain": [
              "                 model  flights_amount\n",
              "0   Cessna 208 Caravan            4557\n",
              "1   Bombardier CRJ-200            4446\n",
              "2  Sukhoi SuperJet-100            4185\n",
              "3      Airbus A321-200             960\n",
              "4       Boeing 737-300             630\n",
              "5      Airbus A319-100             607\n",
              "6       Boeing 767-300             600\n",
              "7       Boeing 777-300             300"
            ]
          },
          "metadata": {
            "tags": []
          },
          "execution_count": 11
        }
      ]
    },
    {
      "cell_type": "markdown",
      "metadata": {
        "id": "P2RKLrOXwZqC"
      },
      "source": [
        "Визуализируем получившийся лидерборд самолетов"
      ]
    },
    {
      "cell_type": "code",
      "metadata": {
        "colab": {
          "base_uri": "https://localhost:8080/",
          "height": 470
        },
        "id": "BE_KEkKNwZqC",
        "outputId": "ddcbb8a4-4587-45de-974b-d34738ac7876"
      },
      "source": [
        "plt.figure(figsize=(12,6))\n",
        "plt.xticks(rotation=42)\n",
        "plt.title(\"Модели самолетов и количество рейсов\")\n",
        "ax_1 = sns.barplot(x=top_planes['model'], y=top_planes['flights_amount'], \n",
        "            alpha=.72, data=top_planes, dodge=True)\n",
        "\n",
        "for patch in ax_1.patches:\n",
        "    patch.set_edgecolor('black')\n",
        "\n",
        "plt.ylabel(\"Количество рейсов\")\n",
        "plt.xlabel(\"Модель самолета\")\n",
        "plt.show()"
      ],
      "execution_count": 12,
      "outputs": [
        {
          "output_type": "display_data",
          "data": {
            "image/png": "[encoded data removed]",
            "text/plain": [
              "<Figure size 864x432 with 1 Axes>"
            ]
          },
          "metadata": {
            "tags": [],
            "needs_background": "light"
          }
        }
      ]
    },
    {
      "cell_type": "markdown",
      "metadata": {
        "id": "IDQQiF6swZqC"
      },
      "source": [
        "Таким образом в авиапарке РФ лидирующие позиции занимают три самолета - [Cessna 208 Caravan](https://ru.wikipedia.org/wiki/Cessna_208), [Bombardier CRJ-200](https://ru.wikipedia.org/wiki/Bombardier_CRJ200), [Sukhoi SuperJet-100](https://ru.wikipedia.org/wiki/Sukhoi_Superjet_100)"
      ]
    },
    {
      "cell_type": "markdown",
      "metadata": {
        "id": "UlVUdQ1LwZqC"
      },
      "source": [
        "<a href=\"#footer\">К содержанию</a>\n",
        "<footer id=\"footer\"></footer>"
      ]
    },
    {
      "cell_type": "markdown",
      "metadata": {
        "id": "fd---cL8wZqC"
      },
      "source": [
        "## Топ-10 городов по количеству рейсов"
      ]
    },
    {
      "cell_type": "code",
      "metadata": {
        "colab": {
          "base_uri": "https://localhost:8080/",
          "height": 250
        },
        "id": "n6U8DbaVwZqC",
        "outputId": "1d330b9f-b1fb-4300-f932-d9cf7427616d"
      },
      "source": [
        "top_10_cities = df_q3.sort_values(by='average_flights', ascending=False).head(10)\n",
        "top_10_cities.style.hide_index()"
      ],
      "execution_count": 13,
      "outputs": [
        {
          "output_type": "execute_result",
          "data": {
            "text/html": [
              "<style  type=\"text/css\" >\n",
              "</style><table id=\"T_4fbb7c4e_fa1a_11eb_a5ff_0242ac1c0002\" ><thead>    <tr>        <th class=\"col_heading level0 col0\" >city</th>        <th class=\"col_heading level0 col1\" >average_flights</th>    </tr></thead><tbody>\n",
              "                <tr>\n",
              "                                <td id=\"T_4fbb7c4e_fa1a_11eb_a5ff_0242ac1c0002row0_col0\" class=\"data row0 col0\" >Москва</td>\n",
              "                        <td id=\"T_4fbb7c4e_fa1a_11eb_a5ff_0242ac1c0002row0_col1\" class=\"data row0 col1\" >129.774194</td>\n",
              "            </tr>\n",
              "            <tr>\n",
              "                                <td id=\"T_4fbb7c4e_fa1a_11eb_a5ff_0242ac1c0002row1_col0\" class=\"data row1 col0\" >Санкт-Петербург</td>\n",
              "                        <td id=\"T_4fbb7c4e_fa1a_11eb_a5ff_0242ac1c0002row1_col1\" class=\"data row1 col1\" >31.161290</td>\n",
              "            </tr>\n",
              "            <tr>\n",
              "                                <td id=\"T_4fbb7c4e_fa1a_11eb_a5ff_0242ac1c0002row2_col0\" class=\"data row2 col0\" >Новосибирск</td>\n",
              "                        <td id=\"T_4fbb7c4e_fa1a_11eb_a5ff_0242ac1c0002row2_col1\" class=\"data row2 col1\" >17.322581</td>\n",
              "            </tr>\n",
              "            <tr>\n",
              "                                <td id=\"T_4fbb7c4e_fa1a_11eb_a5ff_0242ac1c0002row3_col0\" class=\"data row3 col0\" >Красноярск</td>\n",
              "                        <td id=\"T_4fbb7c4e_fa1a_11eb_a5ff_0242ac1c0002row3_col1\" class=\"data row3 col1\" >11.580645</td>\n",
              "            </tr>\n",
              "            <tr>\n",
              "                                <td id=\"T_4fbb7c4e_fa1a_11eb_a5ff_0242ac1c0002row4_col0\" class=\"data row4 col0\" >Екатеринбург</td>\n",
              "                        <td id=\"T_4fbb7c4e_fa1a_11eb_a5ff_0242ac1c0002row4_col1\" class=\"data row4 col1\" >11.322581</td>\n",
              "            </tr>\n",
              "            <tr>\n",
              "                                <td id=\"T_4fbb7c4e_fa1a_11eb_a5ff_0242ac1c0002row5_col0\" class=\"data row5 col0\" >Ростов-на-Дону</td>\n",
              "                        <td id=\"T_4fbb7c4e_fa1a_11eb_a5ff_0242ac1c0002row5_col1\" class=\"data row5 col1\" >10.193548</td>\n",
              "            </tr>\n",
              "            <tr>\n",
              "                                <td id=\"T_4fbb7c4e_fa1a_11eb_a5ff_0242ac1c0002row6_col0\" class=\"data row6 col0\" >Пермь</td>\n",
              "                        <td id=\"T_4fbb7c4e_fa1a_11eb_a5ff_0242ac1c0002row6_col1\" class=\"data row6 col1\" >10.129032</td>\n",
              "            </tr>\n",
              "            <tr>\n",
              "                                <td id=\"T_4fbb7c4e_fa1a_11eb_a5ff_0242ac1c0002row7_col0\" class=\"data row7 col0\" >Брянск</td>\n",
              "                        <td id=\"T_4fbb7c4e_fa1a_11eb_a5ff_0242ac1c0002row7_col1\" class=\"data row7 col1\" >10.000000</td>\n",
              "            </tr>\n",
              "            <tr>\n",
              "                                <td id=\"T_4fbb7c4e_fa1a_11eb_a5ff_0242ac1c0002row8_col0\" class=\"data row8 col0\" >Сочи</td>\n",
              "                        <td id=\"T_4fbb7c4e_fa1a_11eb_a5ff_0242ac1c0002row8_col1\" class=\"data row8 col1\" >9.612903</td>\n",
              "            </tr>\n",
              "            <tr>\n",
              "                                <td id=\"T_4fbb7c4e_fa1a_11eb_a5ff_0242ac1c0002row9_col0\" class=\"data row9 col0\" >Ульяновск</td>\n",
              "                        <td id=\"T_4fbb7c4e_fa1a_11eb_a5ff_0242ac1c0002row9_col1\" class=\"data row9 col1\" >9.580645</td>\n",
              "            </tr>\n",
              "    </tbody></table>"
            ],
            "text/plain": [
              "<pandas.io.formats.style.Styler at 0x7ff6762dd750>"
            ]
          },
          "metadata": {
            "tags": []
          },
          "execution_count": 13
        }
      ]
    },
    {
      "cell_type": "code",
      "metadata": {
        "colab": {
          "base_uri": "https://localhost:8080/",
          "height": 284
        },
        "id": "KkwZLxluwZqC",
        "outputId": "e5e227ca-1068-4314-e5c7-e80a4f530cac"
      },
      "source": [
        "(top_10_cities.style.set_caption('Данные по среднему количеству принятых '\n",
        "                                            'авиарейсов')\n",
        " .set_precision(4).background_gradient(low=0.01)).hide_index()"
      ],
      "execution_count": 14,
      "outputs": [
        {
          "output_type": "execute_result",
          "data": {
            "text/html": [
              "<style  type=\"text/css\" >\n",
              "#T_4fbe8c86_fa1a_11eb_a5ff_0242ac1c0002row0_col1{\n",
              "            background-color:  #023858;\n",
              "            color:  #f1f1f1;\n",
              "        }#T_4fbe8c86_fa1a_11eb_a5ff_0242ac1c0002row1_col1{\n",
              "            background-color:  #dedcec;\n",
              "            color:  #000000;\n",
              "        }#T_4fbe8c86_fa1a_11eb_a5ff_0242ac1c0002row2_col1{\n",
              "            background-color:  #f4eef6;\n",
              "            color:  #000000;\n",
              "        }#T_4fbe8c86_fa1a_11eb_a5ff_0242ac1c0002row3_col1,#T_4fbe8c86_fa1a_11eb_a5ff_0242ac1c0002row4_col1{\n",
              "            background-color:  #fbf4f9;\n",
              "            color:  #000000;\n",
              "        }#T_4fbe8c86_fa1a_11eb_a5ff_0242ac1c0002row5_col1,#T_4fbe8c86_fa1a_11eb_a5ff_0242ac1c0002row6_col1,#T_4fbe8c86_fa1a_11eb_a5ff_0242ac1c0002row7_col1{\n",
              "            background-color:  #fdf5fa;\n",
              "            color:  #000000;\n",
              "        }#T_4fbe8c86_fa1a_11eb_a5ff_0242ac1c0002row8_col1,#T_4fbe8c86_fa1a_11eb_a5ff_0242ac1c0002row9_col1{\n",
              "            background-color:  #fef6fa;\n",
              "            color:  #000000;\n",
              "        }</style><table id=\"T_4fbe8c86_fa1a_11eb_a5ff_0242ac1c0002\" ><caption>Данные по среднему количеству принятых авиарейсов</caption><thead>    <tr>        <th class=\"col_heading level0 col0\" >city</th>        <th class=\"col_heading level0 col1\" >average_flights</th>    </tr></thead><tbody>\n",
              "                <tr>\n",
              "                                <td id=\"T_4fbe8c86_fa1a_11eb_a5ff_0242ac1c0002row0_col0\" class=\"data row0 col0\" >Москва</td>\n",
              "                        <td id=\"T_4fbe8c86_fa1a_11eb_a5ff_0242ac1c0002row0_col1\" class=\"data row0 col1\" >129.7742</td>\n",
              "            </tr>\n",
              "            <tr>\n",
              "                                <td id=\"T_4fbe8c86_fa1a_11eb_a5ff_0242ac1c0002row1_col0\" class=\"data row1 col0\" >Санкт-Петербург</td>\n",
              "                        <td id=\"T_4fbe8c86_fa1a_11eb_a5ff_0242ac1c0002row1_col1\" class=\"data row1 col1\" >31.1613</td>\n",
              "            </tr>\n",
              "            <tr>\n",
              "                                <td id=\"T_4fbe8c86_fa1a_11eb_a5ff_0242ac1c0002row2_col0\" class=\"data row2 col0\" >Новосибирск</td>\n",
              "                        <td id=\"T_4fbe8c86_fa1a_11eb_a5ff_0242ac1c0002row2_col1\" class=\"data row2 col1\" >17.3226</td>\n",
              "            </tr>\n",
              "            <tr>\n",
              "                                <td id=\"T_4fbe8c86_fa1a_11eb_a5ff_0242ac1c0002row3_col0\" class=\"data row3 col0\" >Красноярск</td>\n",
              "                        <td id=\"T_4fbe8c86_fa1a_11eb_a5ff_0242ac1c0002row3_col1\" class=\"data row3 col1\" >11.5806</td>\n",
              "            </tr>\n",
              "            <tr>\n",
              "                                <td id=\"T_4fbe8c86_fa1a_11eb_a5ff_0242ac1c0002row4_col0\" class=\"data row4 col0\" >Екатеринбург</td>\n",
              "                        <td id=\"T_4fbe8c86_fa1a_11eb_a5ff_0242ac1c0002row4_col1\" class=\"data row4 col1\" >11.3226</td>\n",
              "            </tr>\n",
              "            <tr>\n",
              "                                <td id=\"T_4fbe8c86_fa1a_11eb_a5ff_0242ac1c0002row5_col0\" class=\"data row5 col0\" >Ростов-на-Дону</td>\n",
              "                        <td id=\"T_4fbe8c86_fa1a_11eb_a5ff_0242ac1c0002row5_col1\" class=\"data row5 col1\" >10.1935</td>\n",
              "            </tr>\n",
              "            <tr>\n",
              "                                <td id=\"T_4fbe8c86_fa1a_11eb_a5ff_0242ac1c0002row6_col0\" class=\"data row6 col0\" >Пермь</td>\n",
              "                        <td id=\"T_4fbe8c86_fa1a_11eb_a5ff_0242ac1c0002row6_col1\" class=\"data row6 col1\" >10.1290</td>\n",
              "            </tr>\n",
              "            <tr>\n",
              "                                <td id=\"T_4fbe8c86_fa1a_11eb_a5ff_0242ac1c0002row7_col0\" class=\"data row7 col0\" >Брянск</td>\n",
              "                        <td id=\"T_4fbe8c86_fa1a_11eb_a5ff_0242ac1c0002row7_col1\" class=\"data row7 col1\" >10.0000</td>\n",
              "            </tr>\n",
              "            <tr>\n",
              "                                <td id=\"T_4fbe8c86_fa1a_11eb_a5ff_0242ac1c0002row8_col0\" class=\"data row8 col0\" >Сочи</td>\n",
              "                        <td id=\"T_4fbe8c86_fa1a_11eb_a5ff_0242ac1c0002row8_col1\" class=\"data row8 col1\" >9.6129</td>\n",
              "            </tr>\n",
              "            <tr>\n",
              "                                <td id=\"T_4fbe8c86_fa1a_11eb_a5ff_0242ac1c0002row9_col0\" class=\"data row9 col0\" >Ульяновск</td>\n",
              "                        <td id=\"T_4fbe8c86_fa1a_11eb_a5ff_0242ac1c0002row9_col1\" class=\"data row9 col1\" >9.5806</td>\n",
              "            </tr>\n",
              "    </tbody></table>"
            ],
            "text/plain": [
              "<pandas.io.formats.style.Styler at 0x7ff676215210>"
            ]
          },
          "metadata": {
            "tags": []
          },
          "execution_count": 14
        }
      ]
    },
    {
      "cell_type": "markdown",
      "metadata": {
        "id": "lClEe46BwZqD"
      },
      "source": [
        "Абсолютный лидер - Москва"
      ]
    },
    {
      "cell_type": "code",
      "metadata": {
        "colab": {
          "base_uri": "https://localhost:8080/",
          "height": 462
        },
        "id": "kqcIBVnUwZqD",
        "outputId": "1ce082f5-3161-4f82-cdab-2eaf59d38f58"
      },
      "source": [
        "plt.figure(figsize=(12,6))\n",
        "plt.xticks(rotation=42)\n",
        "plt.title(\"Топ-10 городов по количеству рейсов\")\n",
        "ax_2 = sns.barplot(x=top_10_cities['city'], y=top_10_cities['average_flights'], \n",
        "            alpha=.72, data=top_10_cities)\n",
        "for patch in ax_2.patches:\n",
        "    patch.set_edgecolor('black')\n",
        "    \n",
        "median_top = top_10_cities['average_flights'].median()\n",
        "mean_top = top_10_cities['average_flights'].mean()\n",
        "plt.hlines(y=median_top, xmin=-1, xmax=10, linestyle='--')\n",
        "plt.text(-1.5, 15, 'Медиана', ha='left', va='center')\n",
        "plt.hlines(y=mean_top, xmin=-1, xmax=10, linestyle='dashdot', label='Mean')\n",
        "plt.text(-1.5, 30, 'Среднее', ha='left', va='center')\n",
        "plt.ylabel(\"Количество рейсов\")\n",
        "plt.xlabel(\"Название населенного пункта\")\n",
        "plt.show()"
      ],
      "execution_count": 15,
      "outputs": [
        {
          "output_type": "display_data",
          "data": {
            "image/png": "[encoded data removed]",
            "text/plain": [
              "<Figure size 864x432 with 1 Axes>"
            ]
          },
          "metadata": {
            "tags": [],
            "needs_background": "light"
          }
        }
      ]
    },
    {
      "cell_type": "markdown",
      "metadata": {
        "id": "9NtdA7B5wZqD"
      },
      "source": [
        "Лидерство принадлежит Москвае, затем следует Санкт-Петербург, остальные 8 городов имеют более менее близкие друг к другу и медиане значения загруженности по прилетам в день, при этом значения Москвы по своей сути являются выбросом по отношению к остальным значениям выборки\n"
      ]
    },
    {
      "cell_type": "markdown",
      "metadata": {
        "id": "ipog9DmWwZqD"
      },
      "source": [
        "<a href=\"#footer\">К содержанию</a>\n",
        "<footer id=\"footer\"></footer>"
      ]
    },
    {
      "cell_type": "markdown",
      "metadata": {
        "id": "zuy1vzR-wZqD"
      },
      "source": [
        "## Города и количество рейсов"
      ]
    },
    {
      "cell_type": "markdown",
      "metadata": {
        "id": "mtC1btljwZqD"
      },
      "source": [
        "Посмотрим график перелетов по всем городам"
      ]
    },
    {
      "cell_type": "code",
      "metadata": {
        "colab": {
          "base_uri": "https://localhost:8080/"
        },
        "id": "Z3r67vDXwZqD",
        "outputId": "d587e42d-5d34-41b9-ba49-98ad8cd01b3f"
      },
      "source": [
        "unique = df_q3['city'].nunique()\n",
        "print(f'Количество уникальных городов: {unique}')"
      ],
      "execution_count": 16,
      "outputs": [
        {
          "output_type": "stream",
          "text": [
            "Количество уникальных городов: 101\n"
          ],
          "name": "stdout"
        }
      ]
    },
    {
      "cell_type": "markdown",
      "metadata": {
        "id": "WCiKqpQ-wZqE"
      },
      "source": [
        "Строить гистограмму для такого количества городов будет громоздко - реализуем визуализацию через библиотеку folium"
      ]
    },
    {
      "cell_type": "code",
      "metadata": {
        "colab": {
          "base_uri": "https://localhost:8080/",
          "height": 204
        },
        "id": "mJIzxiocwZqE",
        "outputId": "ed1c6541-f3bf-487f-b61c-bba32b653a57"
      },
      "source": [
        "df_q3.head()"
      ],
      "execution_count": 17,
      "outputs": [
        {
          "output_type": "execute_result",
          "data": {
            "text/html": [
              "<div>\n",
              "<style scoped>\n",
              "    .dataframe tbody tr th:only-of-type {\n",
              "        vertical-align: middle;\n",
              "    }\n",
              "\n",
              "    .dataframe tbody tr th {\n",
              "        vertical-align: top;\n",
              "    }\n",
              "\n",
              "    .dataframe thead th {\n",
              "        text-align: right;\n",
              "    }\n",
              "</style>\n",
              "<table border=\"1\" class=\"dataframe\">\n",
              "  <thead>\n",
              "    <tr style=\"text-align: right;\">\n",
              "      <th></th>\n",
              "      <th>city</th>\n",
              "      <th>average_flights</th>\n",
              "    </tr>\n",
              "  </thead>\n",
              "  <tbody>\n",
              "    <tr>\n",
              "      <th>0</th>\n",
              "      <td>Абакан</td>\n",
              "      <td>3.870968</td>\n",
              "    </tr>\n",
              "    <tr>\n",
              "      <th>1</th>\n",
              "      <td>Анадырь</td>\n",
              "      <td>1.000000</td>\n",
              "    </tr>\n",
              "    <tr>\n",
              "      <th>2</th>\n",
              "      <td>Анапа</td>\n",
              "      <td>2.161290</td>\n",
              "    </tr>\n",
              "    <tr>\n",
              "      <th>3</th>\n",
              "      <td>Архангельск</td>\n",
              "      <td>5.354839</td>\n",
              "    </tr>\n",
              "    <tr>\n",
              "      <th>4</th>\n",
              "      <td>Астрахань</td>\n",
              "      <td>2.451613</td>\n",
              "    </tr>\n",
              "  </tbody>\n",
              "</table>\n",
              "</div>"
            ],
            "text/plain": [
              "          city  average_flights\n",
              "0       Абакан         3.870968\n",
              "1      Анадырь         1.000000\n",
              "2        Анапа         2.161290\n",
              "3  Архангельск         5.354839\n",
              "4    Астрахань         2.451613"
            ]
          },
          "metadata": {
            "tags": []
          },
          "execution_count": 17
        }
      ]
    },
    {
      "cell_type": "markdown",
      "metadata": {
        "id": "diE4zf_vwZqE"
      },
      "source": [
        "Для начала нам необходимо провести геокодинг и для названия городов получить координаты. Воспользуемся geocode и [Nominatim](https://nominatim.openstreetmap.org/ui/search.html) как провайдер координат"
      ]
    },
    {
      "cell_type": "code",
      "metadata": {
        "id": "xBgkO0QAwZqE"
      },
      "source": [
        "def geocoder(row):\n",
        "    try:\n",
        "        point = geocode(row, provider='nominatim').geometry.iloc[0]\n",
        "        return pd.Series({'Latitude': point.y, 'Longitude': point.x, 'geometry': point})\n",
        "    except:\n",
        "        return None"
      ],
      "execution_count": 18,
      "outputs": []
    },
    {
      "cell_type": "markdown",
      "metadata": {
        "id": "uib9qcmjwZqG"
      },
      "source": [
        "Создадим дополнительные признаки с долготой, широтой и гео-точкой"
      ]
    },
    {
      "cell_type": "code",
      "metadata": {
        "id": "tw-yEOUjwZqG"
      },
      "source": [
        "df_q3[['Latitude', 'Longitude', 'geometry']] = df_q3.apply(lambda x: geocoder(x['city']), axis=1)"
      ],
      "execution_count": 19,
      "outputs": []
    },
    {
      "cell_type": "code",
      "metadata": {
        "colab": {
          "base_uri": "https://localhost:8080/",
          "height": 204
        },
        "id": "lkJq2HcVwZqG",
        "outputId": "61cd15ac-8bea-4a0b-8b92-24094e94a7be"
      },
      "source": [
        "df_q3.head()"
      ],
      "execution_count": 20,
      "outputs": [
        {
          "output_type": "execute_result",
          "data": {
            "text/html": [
              "<div>\n",
              "<style scoped>\n",
              "    .dataframe tbody tr th:only-of-type {\n",
              "        vertical-align: middle;\n",
              "    }\n",
              "\n",
              "    .dataframe tbody tr th {\n",
              "        vertical-align: top;\n",
              "    }\n",
              "\n",
              "    .dataframe thead th {\n",
              "        text-align: right;\n",
              "    }\n",
              "</style>\n",
              "<table border=\"1\" class=\"dataframe\">\n",
              "  <thead>\n",
              "    <tr style=\"text-align: right;\">\n",
              "      <th></th>\n",
              "      <th>city</th>\n",
              "      <th>average_flights</th>\n",
              "      <th>Latitude</th>\n",
              "      <th>Longitude</th>\n",
              "      <th>geometry</th>\n",
              "    </tr>\n",
              "  </thead>\n",
              "  <tbody>\n",
              "    <tr>\n",
              "      <th>0</th>\n",
              "      <td>Абакан</td>\n",
              "      <td>3.870968</td>\n",
              "      <td>53.720650</td>\n",
              "      <td>91.440355</td>\n",
              "      <td>POINT (91.44035529999999 53.7206497)</td>\n",
              "    </tr>\n",
              "    <tr>\n",
              "      <th>1</th>\n",
              "      <td>Анадырь</td>\n",
              "      <td>1.000000</td>\n",
              "      <td>64.731688</td>\n",
              "      <td>177.506092</td>\n",
              "      <td>POINT (177.5060925 64.73168750000001)</td>\n",
              "    </tr>\n",
              "    <tr>\n",
              "      <th>2</th>\n",
              "      <td>Анапа</td>\n",
              "      <td>2.161290</td>\n",
              "      <td>44.894272</td>\n",
              "      <td>37.316887</td>\n",
              "      <td>POINT (37.316887 44.894272)</td>\n",
              "    </tr>\n",
              "    <tr>\n",
              "      <th>3</th>\n",
              "      <td>Архангельск</td>\n",
              "      <td>5.354839</td>\n",
              "      <td>64.543022</td>\n",
              "      <td>40.537121</td>\n",
              "      <td>POINT (40.537121 64.54302199999999)</td>\n",
              "    </tr>\n",
              "    <tr>\n",
              "      <th>4</th>\n",
              "      <td>Астрахань</td>\n",
              "      <td>2.451613</td>\n",
              "      <td>46.349831</td>\n",
              "      <td>48.032620</td>\n",
              "      <td>POINT (48.0326203 46.3498308)</td>\n",
              "    </tr>\n",
              "  </tbody>\n",
              "</table>\n",
              "</div>"
            ],
            "text/plain": [
              "          city  ...                               geometry\n",
              "0       Абакан  ...   POINT (91.44035529999999 53.7206497)\n",
              "1      Анадырь  ...  POINT (177.5060925 64.73168750000001)\n",
              "2        Анапа  ...            POINT (37.316887 44.894272)\n",
              "3  Архангельск  ...    POINT (40.537121 64.54302199999999)\n",
              "4    Астрахань  ...          POINT (48.0326203 46.3498308)\n",
              "\n",
              "[5 rows x 5 columns]"
            ]
          },
          "metadata": {
            "tags": []
          },
          "execution_count": 20
        }
      ]
    },
    {
      "cell_type": "markdown",
      "metadata": {
        "id": "mNw4NuoXwZqG"
      },
      "source": [
        "Проверим, все ли города получили свой геокод"
      ]
    },
    {
      "cell_type": "code",
      "metadata": {
        "colab": {
          "base_uri": "https://localhost:8080/"
        },
        "id": "A05XgB0-wZqG",
        "outputId": "71b9830a-5cfe-4cb9-87ed-b1c329165dac"
      },
      "source": [
        "print(\"{}% городов были геокодированы!\".format(\n",
        "    (1 - sum(np.isnan(df_q3[\"Latitude\"])) / len(df_q3)) * 100))"
      ],
      "execution_count": 21,
      "outputs": [
        {
          "output_type": "stream",
          "text": [
            "100.0% городов были геокодированы!\n"
          ],
          "name": "stdout"
        }
      ]
    },
    {
      "cell_type": "markdown",
      "metadata": {
        "id": "WuIweQi5wZqG"
      },
      "source": [
        "Поставим заглушку, на случай, если при перезапуске блокнота будет сбой в получении координат"
      ]
    },
    {
      "cell_type": "code",
      "metadata": {
        "colab": {
          "base_uri": "https://localhost:8080/",
          "height": 49
        },
        "id": "z2U-1SDRwZqG",
        "outputId": "09973e3e-7112-4fbb-bec8-6be3f03e8520"
      },
      "source": [
        "df_q3.loc[np.isnan(df_q3[\"Latitude\"])]"
      ],
      "execution_count": 22,
      "outputs": [
        {
          "output_type": "execute_result",
          "data": {
            "text/html": [
              "<div>\n",
              "<style scoped>\n",
              "    .dataframe tbody tr th:only-of-type {\n",
              "        vertical-align: middle;\n",
              "    }\n",
              "\n",
              "    .dataframe tbody tr th {\n",
              "        vertical-align: top;\n",
              "    }\n",
              "\n",
              "    .dataframe thead th {\n",
              "        text-align: right;\n",
              "    }\n",
              "</style>\n",
              "<table border=\"1\" class=\"dataframe\">\n",
              "  <thead>\n",
              "    <tr style=\"text-align: right;\">\n",
              "      <th></th>\n",
              "      <th>city</th>\n",
              "      <th>average_flights</th>\n",
              "      <th>Latitude</th>\n",
              "      <th>Longitude</th>\n",
              "      <th>geometry</th>\n",
              "    </tr>\n",
              "  </thead>\n",
              "  <tbody>\n",
              "  </tbody>\n",
              "</table>\n",
              "</div>"
            ],
            "text/plain": [
              "Empty DataFrame\n",
              "Columns: [city, average_flights, Latitude, Longitude, geometry]\n",
              "Index: []"
            ]
          },
          "metadata": {
            "tags": []
          },
          "execution_count": 22
        }
      ]
    },
    {
      "cell_type": "code",
      "metadata": {
        "id": "JZgY3fKtwZqH"
      },
      "source": [
        "df_q3 = df_q3.loc[~np.isnan(df_q3[\"Latitude\"])]\n"
      ],
      "execution_count": 23,
      "outputs": []
    },
    {
      "cell_type": "markdown",
      "metadata": {
        "id": "tdWOJSZ6wZqH"
      },
      "source": [
        "Создадим геопандас датафрейм и отобразим наши города с количеством перелетов на карте"
      ]
    },
    {
      "cell_type": "code",
      "metadata": {
        "colab": {
          "base_uri": "https://localhost:8080/",
          "height": 204
        },
        "id": "kJMFqekKwZqH",
        "outputId": "d934ee56-0d48-4335-9019-aa4ac14637bf"
      },
      "source": [
        "cities = gpd.GeoDataFrame(df_q3, geometry=df_q3.geometry)\n",
        "cities.crs = {'init': 'epsg:4326'}\n",
        "cities.head()"
      ],
      "execution_count": 24,
      "outputs": [
        {
          "output_type": "execute_result",
          "data": {
            "text/html": [
              "<div>\n",
              "<style scoped>\n",
              "    .dataframe tbody tr th:only-of-type {\n",
              "        vertical-align: middle;\n",
              "    }\n",
              "\n",
              "    .dataframe tbody tr th {\n",
              "        vertical-align: top;\n",
              "    }\n",
              "\n",
              "    .dataframe thead th {\n",
              "        text-align: right;\n",
              "    }\n",
              "</style>\n",
              "<table border=\"1\" class=\"dataframe\">\n",
              "  <thead>\n",
              "    <tr style=\"text-align: right;\">\n",
              "      <th></th>\n",
              "      <th>city</th>\n",
              "      <th>average_flights</th>\n",
              "      <th>Latitude</th>\n",
              "      <th>Longitude</th>\n",
              "      <th>geometry</th>\n",
              "    </tr>\n",
              "  </thead>\n",
              "  <tbody>\n",
              "    <tr>\n",
              "      <th>0</th>\n",
              "      <td>Абакан</td>\n",
              "      <td>3.870968</td>\n",
              "      <td>53.720650</td>\n",
              "      <td>91.440355</td>\n",
              "      <td>POINT (91.44036 53.72065)</td>\n",
              "    </tr>\n",
              "    <tr>\n",
              "      <th>1</th>\n",
              "      <td>Анадырь</td>\n",
              "      <td>1.000000</td>\n",
              "      <td>64.731688</td>\n",
              "      <td>177.506092</td>\n",
              "      <td>POINT (177.50609 64.73169)</td>\n",
              "    </tr>\n",
              "    <tr>\n",
              "      <th>2</th>\n",
              "      <td>Анапа</td>\n",
              "      <td>2.161290</td>\n",
              "      <td>44.894272</td>\n",
              "      <td>37.316887</td>\n",
              "      <td>POINT (37.31689 44.89427)</td>\n",
              "    </tr>\n",
              "    <tr>\n",
              "      <th>3</th>\n",
              "      <td>Архангельск</td>\n",
              "      <td>5.354839</td>\n",
              "      <td>64.543022</td>\n",
              "      <td>40.537121</td>\n",
              "      <td>POINT (40.53712 64.54302)</td>\n",
              "    </tr>\n",
              "    <tr>\n",
              "      <th>4</th>\n",
              "      <td>Астрахань</td>\n",
              "      <td>2.451613</td>\n",
              "      <td>46.349831</td>\n",
              "      <td>48.032620</td>\n",
              "      <td>POINT (48.03262 46.34983)</td>\n",
              "    </tr>\n",
              "  </tbody>\n",
              "</table>\n",
              "</div>"
            ],
            "text/plain": [
              "          city  average_flights  ...   Longitude                    geometry\n",
              "0       Абакан         3.870968  ...   91.440355   POINT (91.44036 53.72065)\n",
              "1      Анадырь         1.000000  ...  177.506092  POINT (177.50609 64.73169)\n",
              "2        Анапа         2.161290  ...   37.316887   POINT (37.31689 44.89427)\n",
              "3  Архангельск         5.354839  ...   40.537121   POINT (40.53712 64.54302)\n",
              "4    Астрахань         2.451613  ...   48.032620   POINT (48.03262 46.34983)\n",
              "\n",
              "[5 rows x 5 columns]"
            ]
          },
          "metadata": {
            "tags": []
          },
          "execution_count": 24
        }
      ]
    },
    {
      "cell_type": "code",
      "metadata": {
        "scrolled": false,
        "colab": {
          "base_uri": "https://localhost:8080/",
          "height": 808
        },
        "id": "qk3j8UaqwZqH",
        "outputId": "982584d5-46ed-4190-efa2-43a455ad6834"
      },
      "source": [
        "m = folium.Map(location=[54, 85], tiles='openstreetmap', zoom_start=2)\n",
        "\n",
        "mc = MarkerCluster()\n",
        "for idx, row in cities.iterrows(): \n",
        "    if not math.isnan(row['Longitude']) and not math.isnan(row['Latitude']):\n",
        "        mc.add_child(Marker(location=[row['Latitude'], row['Longitude']],\n",
        "                            tooltip=[round(row['average_flights'], 2), row['city']]))\n",
        "    \n",
        "m.add_child(mc)    \n",
        "m"
      ],
      "execution_count": 25,
      "outputs": [
        {
          "output_type": "execute_result",
          "data": {
            "text/html": [
              "<div style=\"width:100%;\"><div style=\"position:relative;width:100%;height:0;padding-bottom:60%;\"><span style=\"color:#565656\">Make this Notebook Trusted to load map: File -> Trust Notebook</span><iframe src=\"about:blank\" style=\"position:absolute;width:100%;height:100%;left:0;top:0;border:none !important;\" data-html=%3C%21DOCTYPE%20html%3E%0A%3Chead%3E%20%20%20%20%0A%20%20%20%20%3Cmeta%20http-equiv%3D%22content-type%22%20content%3D%22text/html%3B%20charset%3DUTF-8%22%20/%3E%0A%20%20%20%20%3Cscript%3EL_PREFER_CANVAS%3Dfalse%3B%20L_NO_TOUCH%3Dfalse%3B%20L_DISABLE_3D%3Dfalse%3B%3C/script%3E%0A%20%20%20%20%3Cscript%20src%3D%22https%3A//cdn.jsdelivr.net/npm/leaflet%401.4.0/dist/leaflet.js%22%3E%3C/script%3E%0A%20%20%20%20%3Cscript%20src%3D%22https%3A//code.jquery.com/jquery-1.12.4.min.js%22%3E%3C/script%3E%0A%20%20%20%20%3Cscript%20src%3D%22https%3A//maxcdn.bootstrapcdn.com/bootstrap/3.2.0/js/bootstrap.min.js%22%3E%3C/script%3E%0A%20%20%20%20%3Cscript%20src%3D%22https%3A//cdnjs.cloudflare.com/ajax/libs/Leaflet.awesome-markers/2.0.2/leaflet.awesome-markers.js%22%3E%3C/script%3E%0A%20%20%20%20%3Clink%20rel%3D%22stylesheet%22%20href%3D%22https%3A//cdn.jsdelivr.net/npm/leaflet%401.4.0/dist/leaflet.css%22/%3E%0A%20%20%20%20%3Clink%20rel%3D%22stylesheet%22%20href%3D%22https%3A//maxcdn.bootstrapcdn.com/bootstrap/3.2.0/css/bootstrap.min.css%22/%3E%0A%20%20%20%20%3Clink%20rel%3D%22stylesheet%22%20href%3D%22https%3A//maxcdn.bootstrapcdn.com/bootstrap/3.2.0/css/bootstrap-theme.min.css%22/%3E%0A%20%20%20%20%3Clink%20rel%3D%22stylesheet%22%20href%3D%22https%3A//maxcdn.bootstrapcdn.com/font-awesome/4.6.3/css/font-awesome.min.css%22/%3E%0A%20%20%20%20%3Clink%20rel%3D%22stylesheet%22%20href%3D%22https%3A//cdnjs.cloudflare.com/ajax/libs/Leaflet.awesome-markers/2.0.2/leaflet.awesome-markers.css%22/%3E%0A%20%20%20%20%3Clink%20rel%3D%22stylesheet%22%20href%3D%22https%3A//rawcdn.githack.com/python-visualization/folium/master/folium/templates/leaflet.awesome.rotate.css%22/%3E%0A%20%20%20%20%3Cstyle%3Ehtml%2C%20body%20%7Bwidth%3A%20100%25%3Bheight%3A%20100%25%3Bmargin%3A%200%3Bpadding%3A%200%3B%7D%3C/style%3E%0A%20%20%20%20%3Cstyle%3E%23map%20%7Bposition%3Aabsolute%3Btop%3A0%3Bbottom%3A0%3Bright%3A0%3Bleft%3A0%3B%7D%3C/style%3E%0A%20%20%20%20%0A%20%20%20%20%3Cmeta%20name%3D%22viewport%22%20content%3D%22width%3Ddevice-width%2C%0A%20%20%20%20%20%20%20%20initial-scale%3D1.0%2C%20maximum-scale%3D1.0%2C%20user-scalable%3Dno%22%20/%3E%0A%20%20%20%20%3Cstyle%3E%23map_493846c092af41df8721dcc2d95a79f7%20%7B%0A%20%20%20%20%20%20%20%20position%3A%20relative%3B%0A%20%20%20%20%20%20%20%20width%3A%20100.0%25%3B%0A%20%20%20%20%20%20%20%20height%3A%20100.0%25%3B%0A%20%20%20%20%20%20%20%20left%3A%200.0%25%3B%0A%20%20%20%20%20%20%20%20top%3A%200.0%25%3B%0A%20%20%20%20%20%20%20%20%7D%0A%20%20%20%20%3C/style%3E%0A%20%20%20%20%3Cscript%20src%3D%22https%3A//cdnjs.cloudflare.com/ajax/libs/leaflet.markercluster/1.1.0/leaflet.markercluster.js%22%3E%3C/script%3E%0A%20%20%20%20%3Clink%20rel%3D%22stylesheet%22%20href%3D%22https%3A//cdnjs.cloudflare.com/ajax/libs/leaflet.markercluster/1.1.0/MarkerCluster.css%22/%3E%0A%20%20%20%20%3Clink%20rel%3D%22stylesheet%22%20href%3D%22https%3A//cdnjs.cloudflare.com/ajax/libs/leaflet.markercluster/1.1.0/MarkerCluster.Default.css%22/%3E%0A%3C/head%3E%0A%3Cbody%3E%20%20%20%20%0A%20%20%20%20%0A%20%20%20%20%3Cdiv%20class%3D%22folium-map%22%20id%3D%22map_493846c092af41df8721dcc2d95a79f7%22%20%3E%3C/div%3E%0A%3C/body%3E%0A%3Cscript%3E%20%20%20%20%0A%20%20%20%20%0A%20%20%20%20%0A%20%20%20%20%20%20%20%20var%20bounds%20%3D%20null%3B%0A%20%20%20%20%0A%0A%20%20%20%20var%20map_493846c092af41df8721dcc2d95a79f7%20%3D%20L.map%28%0A%20%20%20%20%20%20%20%20%27map_493846c092af41df8721dcc2d95a79f7%27%2C%20%7B%0A%20%20%20%20%20%20%20%20center%3A%20%5B54%2C%2085%5D%2C%0A%20%20%20%20%20%20%20%20zoom%3A%202%2C%0A%20%20%20%20%20%20%20%20maxBounds%3A%20bounds%2C%0A%20%20%20%20%20%20%20%20layers%3A%20%5B%5D%2C%0A%20%20%20%20%20%20%20%20worldCopyJump%3A%20false%2C%0A%20%20%20%20%20%20%20%20crs%3A%20L.CRS.EPSG3857%2C%0A%20%20%20%20%20%20%20%20zoomControl%3A%20true%2C%0A%20%20%20%20%20%20%20%20%7D%29%3B%0A%0A%0A%20%20%20%20%0A%20%20%20%20var%20tile_layer_fc2af8831f89410a8eb35303ffcb1ef3%20%3D%20L.tileLayer%28%0A%20%20%20%20%20%20%20%20%27https%3A//%7Bs%7D.tile.openstreetmap.org/%7Bz%7D/%7Bx%7D/%7By%7D.png%27%2C%0A%20%20%20%20%20%20%20%20%7B%0A%20%20%20%20%20%20%20%20%22attribution%22%3A%20null%2C%0A%20%20%20%20%20%20%20%20%22detectRetina%22%3A%20false%2C%0A%20%20%20%20%20%20%20%20%22maxNativeZoom%22%3A%2018%2C%0A%20%20%20%20%20%20%20%20%22maxZoom%22%3A%2018%2C%0A%20%20%20%20%20%20%20%20%22minZoom%22%3A%200%2C%0A%20%20%20%20%20%20%20%20%22noWrap%22%3A%20false%2C%0A%20%20%20%20%20%20%20%20%22opacity%22%3A%201%2C%0A%20%20%20%20%20%20%20%20%22subdomains%22%3A%20%22abc%22%2C%0A%20%20%20%20%20%20%20%20%22tms%22%3A%20false%0A%7D%29.addTo%28map_493846c092af41df8721dcc2d95a79f7%29%3B%0A%20%20%20%20%0A%20%20%20%20%20%20%20%20%20%20%20%20var%20marker_cluster_29ad92a8fdf54505b730623161b75675%20%3D%20L.markerClusterGroup%28%7B%7D%29%3B%0A%20%20%20%20%20%20%20%20%20%20%20%20map_493846c092af41df8721dcc2d95a79f7.addLayer%28marker_cluster_29ad92a8fdf54505b730623161b75675%29%3B%0A%20%20%20%20%20%20%20%20%20%20%20%20%0A%20%20%20%20%0A%20%20%20%20%20%20%20%20var%20marker_f41be194fa9c451aa9dec7b829a68ba3%20%3D%20L.marker%28%0A%20%20%20%20%20%20%20%20%20%20%20%20%5B53.7206497%2C%2091.4403553%5D%2C%0A%20%20%20%20%20%20%20%20%20%20%20%20%7B%0A%20%20%20%20%20%20%20%20%20%20%20%20%20%20%20%20icon%3A%20new%20L.Icon.Default%28%29%2C%0A%20%20%20%20%20%20%20%20%20%20%20%20%20%20%20%20%7D%0A%20%20%20%20%20%20%20%20%20%20%20%20%29.addTo%28marker_cluster_29ad92a8fdf54505b730623161b75675%29%3B%0A%20%20%20%20%20%20%20%20%0A%20%20%20%20%0A%20%20%20%20%20%20%20%20marker_f41be194fa9c451aa9dec7b829a68ba3.bindTooltip%28%0A%20%20%20%20%20%20%20%20%20%20%20%20%60%3Cdiv%3E%60%0A%20%20%20%20%20%20%20%20%20%20%20%20%2B%20%60%5B3.87%2C%20%27%D0%90%D0%B1%D0%B0%D0%BA%D0%B0%D0%BD%27%5D%60%20%2B%20%60%3C/div%3E%60%2C%0A%20%20%20%20%20%20%20%20%20%20%20%20%7B%22sticky%22%3A%20true%7D%0A%20%20%20%20%20%20%20%20%29%3B%0A%20%20%20%20%20%20%20%20%0A%20%20%20%20%0A%20%20%20%20%20%20%20%20var%20marker_8ec445fa14fa4228be40269e8d561122%20%3D%20L.marker%28%0A%20%20%20%20%20%20%20%20%20%20%20%20%5B64.7316875%2C%20177.5060925%5D%2C%0A%20%20%20%20%20%20%20%20%20%20%20%20%7B%0A%20%20%20%20%20%20%20%20%20%20%20%20%20%20%20%20icon%3A%20new%20L.Icon.Default%28%29%2C%0A%20%20%20%20%20%20%20%20%20%20%20%20%20%20%20%20%7D%0A%20%20%20%20%20%20%20%20%20%20%20%20%29.addTo%28marker_cluster_29ad92a8fdf54505b730623161b75675%29%3B%0A%20%20%20%20%20%20%20%20%0A%20%20%20%20%0A%20%20%20%20%20%20%20%20marker_8ec445fa14fa4228be40269e8d561122.bindTooltip%28%0A%20%20%20%20%20%20%20%20%20%20%20%20%60%3Cdiv%3E%60%0A%20%20%20%20%20%20%20%20%20%20%20%20%2B%20%60%5B1.0%2C%20%27%D0%90%D0%BD%D0%B0%D0%B4%D1%8B%D1%80%D1%8C%27%5D%60%20%2B%20%60%3C/div%3E%60%2C%0A%20%20%20%20%20%20%20%20%20%20%20%20%7B%22sticky%22%3A%20true%7D%0A%20%20%20%20%20%20%20%20%29%3B%0A%20%20%20%20%20%20%20%20%0A%20%20%20%20%0A%20%20%20%20%20%20%20%20var%20marker_4bdb03a2a7fc417393f23f0779c305c6%20%3D%20L.marker%28%0A%20%20%20%20%20%20%20%20%20%20%20%20%5B44.894272%2C%2037.316887%5D%2C%0A%20%20%20%20%20%20%20%20%20%20%20%20%7B%0A%20%20%20%20%20%20%20%20%20%20%20%20%20%20%20%20icon%3A%20new%20L.Icon.Default%28%29%2C%0A%20%20%20%20%20%20%20%20%20%20%20%20%20%20%20%20%7D%0A%20%20%20%20%20%20%20%20%20%20%20%20%29.addTo%28marker_cluster_29ad92a8fdf54505b730623161b75675%29%3B%0A%20%20%20%20%20%20%20%20%0A%20%20%20%20%0A%20%20%20%20%20%20%20%20marker_4bdb03a2a7fc417393f23f0779c305c6.bindTooltip%28%0A%20%20%20%20%20%20%20%20%20%20%20%20%60%3Cdiv%3E%60%0A%20%20%20%20%20%20%20%20%20%20%20%20%2B%20%60%5B2.16%2C%20%27%D0%90%D0%BD%D0%B0%D0%BF%D0%B0%27%5D%60%20%2B%20%60%3C/div%3E%60%2C%0A%20%20%20%20%20%20%20%20%20%20%20%20%7B%22sticky%22%3A%20true%7D%0A%20%20%20%20%20%20%20%20%29%3B%0A%20%20%20%20%20%20%20%20%0A%20%20%20%20%0A%20%20%20%20%20%20%20%20var%20marker_5a54962946c542848419fd02b6f3ec0b%20%3D%20L.marker%28%0A%20%20%20%20%20%20%20%20%20%20%20%20%5B64.543022%2C%2040.537121%5D%2C%0A%20%20%20%20%20%20%20%20%20%20%20%20%7B%0A%20%20%20%20%20%20%20%20%20%20%20%20%20%20%20%20icon%3A%20new%20L.Icon.Default%28%29%2C%0A%20%20%20%20%20%20%20%20%20%20%20%20%20%20%20%20%7D%0A%20%20%20%20%20%20%20%20%20%20%20%20%29.addTo%28marker_cluster_29ad92a8fdf54505b730623161b75675%29%3B%0A%20%20%20%20%20%20%20%20%0A%20%20%20%20%0A%20%20%20%20%20%20%20%20marker_5a54962946c542848419fd02b6f3ec0b.bindTooltip%28%0A%20%20%20%20%20%20%20%20%20%20%20%20%60%3Cdiv%3E%60%0A%20%20%20%20%20%20%20%20%20%20%20%20%2B%20%60%5B5.35%2C%20%27%D0%90%D1%80%D1%85%D0%B0%D0%BD%D0%B3%D0%B5%D0%BB%D1%8C%D1%81%D0%BA%27%5D%60%20%2B%20%60%3C/div%3E%60%2C%0A%20%20%20%20%20%20%20%20%20%20%20%20%7B%22sticky%22%3A%20true%7D%0A%20%20%20%20%20%20%20%20%29%3B%0A%20%20%20%20%20%20%20%20%0A%20%20%20%20%0A%20%20%20%20%20%20%20%20var%20marker_73653b75e51d4ad29879e1f9fa4e7977%20%3D%20L.marker%28%0A%20%20%20%20%20%20%20%20%20%20%20%20%5B46.3498308%2C%2048.0326203%5D%2C%0A%20%20%20%20%20%20%20%20%20%20%20%20%7B%0A%20%20%20%20%20%20%20%20%20%20%20%20%20%20%20%20icon%3A%20new%20L.Icon.Default%28%29%2C%0A%20%20%20%20%20%20%20%20%20%20%20%20%20%20%20%20%7D%0A%20%20%20%20%20%20%20%20%20%20%20%20%29.addTo%28marker_cluster_29ad92a8fdf54505b730623161b75675%29%3B%0A%20%20%20%20%20%20%20%20%0A%20%20%20%20%0A%20%20%20%20%20%20%20%20marker_73653b75e51d4ad29879e1f9fa4e7977.bindTooltip%28%0A%20%20%20%20%20%20%20%20%20%20%20%20%60%3Cdiv%3E%60%0A%20%20%20%20%20%20%20%20%20%20%20%20%2B%20%60%5B2.45%2C%20%27%D0%90%D1%81%D1%82%D1%80%D0%B0%D1%85%D0%B0%D0%BD%D1%8C%27%5D%60%20%2B%20%60%3C/div%3E%60%2C%0A%20%20%20%20%20%20%20%20%20%20%20%20%7B%22sticky%22%3A%20true%7D%0A%20%20%20%20%20%20%20%20%29%3B%0A%20%20%20%20%20%20%20%20%0A%20%20%20%20%0A%20%20%20%20%20%20%20%20var%20marker_1117665cdd2e410b922803c48212eed2%20%3D%20L.marker%28%0A%20%20%20%20%20%20%20%20%20%20%20%20%5B53.347402%2C%2083.7784496%5D%2C%0A%20%20%20%20%20%20%20%20%20%20%20%20%7B%0A%20%20%20%20%20%20%20%20%20%20%20%20%20%20%20%20icon%3A%20new%20L.Icon.Default%28%29%2C%0A%20%20%20%20%20%20%20%20%20%20%20%20%20%20%20%20%7D%0A%20%20%20%20%20%20%20%20%20%20%20%20%29.addTo%28marker_cluster_29ad92a8fdf54505b730623161b75675%29%3B%0A%20%20%20%20%20%20%20%20%0A%20%20%20%20%0A%20%20%20%20%20%20%20%20marker_1117665cdd2e410b922803c48212eed2.bindTooltip%28%0A%20%20%20%20%20%20%20%20%20%20%20%20%60%3Cdiv%3E%60%0A%20%20%20%20%20%20%20%20%20%20%20%20%2B%20%60%5B2.61%2C%20%27%D0%91%D0%B0%D1%80%D0%BD%D0%B0%D1%83%D0%BB%27%5D%60%20%2B%20%60%3C/div%3E%60%2C%0A%20%20%20%20%20%20%20%20%20%20%20%20%7B%22sticky%22%3A%20true%7D%0A%20%20%20%20%20%20%20%20%29%3B%0A%20%20%20%20%20%20%20%20%0A%20%20%20%20%0A%20%20%20%20%20%20%20%20var%20marker_9e1eb60205dc4f5293ea85eeffab1484%20%3D%20L.marker%28%0A%20%20%20%20%20%20%20%20%20%20%20%20%5B50.5955595%2C%2036.5873394%5D%2C%0A%20%20%20%20%20%20%20%20%20%20%20%20%7B%0A%20%20%20%20%20%20%20%20%20%20%20%20%20%20%20%20icon%3A%20new%20L.Icon.Default%28%29%2C%0A%20%20%20%20%20%20%20%20%20%20%20%20%20%20%20%20%7D%0A%20%20%20%20%20%20%20%20%20%20%20%20%29.addTo%28marker_cluster_29ad92a8fdf54505b730623161b75675%29%3B%0A%20%20%20%20%20%20%20%20%0A%20%20%20%20%0A%20%20%20%20%20%20%20%20marker_9e1eb60205dc4f5293ea85eeffab1484.bindTooltip%28%0A%20%20%20%20%20%20%20%20%20%20%20%20%60%3Cdiv%3E%60%0A%20%20%20%20%20%20%20%20%20%20%20%20%2B%20%60%5B6.0%2C%20%27%D0%91%D0%B5%D0%BB%D0%B3%D0%BE%D1%80%D0%BE%D0%B4%27%5D%60%20%2B%20%60%3C/div%3E%60%2C%0A%20%20%20%20%20%20%20%20%20%20%20%20%7B%22sticky%22%3A%20true%7D%0A%20%20%20%20%20%20%20%20%29%3B%0A%20%20%20%20%20%20%20%20%0A%20%20%20%20%0A%20%20%20%20%20%20%20%20var%20marker_374017b0e0084fd18426999011840298%20%3D%20L.marker%28%0A%20%20%20%20%20%20%20%20%20%20%20%20%5B63.7156353%2C%2066.6667691%5D%2C%0A%20%20%20%20%20%20%20%20%20%20%20%20%7B%0A%20%20%20%20%20%20%20%20%20%20%20%20%20%20%20%20icon%3A%20new%20L.Icon.Default%28%29%2C%0A%20%20%20%20%20%20%20%20%20%20%20%20%20%20%20%20%7D%0A%20%20%20%20%20%20%20%20%20%20%20%20%29.addTo%28marker_cluster_29ad92a8fdf54505b730623161b75675%29%3B%0A%20%20%20%20%20%20%20%20%0A%20%20%20%20%0A%20%20%20%20%20%20%20%20marker_374017b0e0084fd18426999011840298.bindTooltip%28%0A%20%20%20%20%20%20%20%20%20%20%20%20%60%3Cdiv%3E%60%0A%20%20%20%20%20%20%20%20%20%20%20%20%2B%20%60%5B2.0%2C%20%27%D0%91%D0%B5%D0%BB%D0%BE%D1%8F%D1%80%D1%81%D0%BA%D0%B8%D0%B9%27%5D%60%20%2B%20%60%3C/div%3E%60%2C%0A%20%20%20%20%20%20%20%20%20%20%20%20%7B%22sticky%22%3A%20true%7D%0A%20%20%20%20%20%20%20%20%29%3B%0A%20%20%20%20%20%20%20%20%0A%20%20%20%20%0A%20%20%20%20%20%20%20%20var%20marker_79d7d9992fbf4cf18f0491e83b90ba80%20%3D%20L.marker%28%0A%20%20%20%20%20%20%20%20%20%20%20%20%5B50.290527%2C%20127.527161%5D%2C%0A%20%20%20%20%20%20%20%20%20%20%20%20%7B%0A%20%20%20%20%20%20%20%20%20%20%20%20%20%20%20%20icon%3A%20new%20L.Icon.Default%28%29%2C%0A%20%20%20%20%20%20%20%20%20%20%20%20%20%20%20%20%7D%0A%20%20%20%20%20%20%20%20%20%20%20%20%29.addTo%28marker_cluster_29ad92a8fdf54505b730623161b75675%29%3B%0A%20%20%20%20%20%20%20%20%0A%20%20%20%20%0A%20%20%20%20%20%20%20%20marker_79d7d9992fbf4cf18f0491e83b90ba80.bindTooltip%28%0A%20%20%20%20%20%20%20%20%20%20%20%20%60%3Cdiv%3E%60%0A%20%20%20%20%20%20%20%20%20%20%20%20%2B%20%60%5B1.0%2C%20%27%D0%91%D0%BB%D0%B0%D0%B3%D0%BE%D0%B2%D0%B5%D1%89%D0%B5%D0%BD%D1%81%D0%BA%27%5D%60%20%2B%20%60%3C/div%3E%60%2C%0A%20%20%20%20%20%20%20%20%20%20%20%20%7B%22sticky%22%3A%20true%7D%0A%20%20%20%20%20%20%20%20%29%3B%0A%20%20%20%20%20%20%20%20%0A%20%20%20%20%0A%20%20%20%20%20%20%20%20var%20marker_4b0c452952cd4fa1981b42f7db927f26%20%3D%20L.marker%28%0A%20%20%20%20%20%20%20%20%20%20%20%20%5B56.1517085%2C%20101.6334907%5D%2C%0A%20%20%20%20%20%20%20%20%20%20%20%20%7B%0A%20%20%20%20%20%20%20%20%20%20%20%20%20%20%20%20icon%3A%20new%20L.Icon.Default%28%29%2C%0A%20%20%20%20%20%20%20%20%20%20%20%20%20%20%20%20%7D%0A%20%20%20%20%20%20%20%20%20%20%20%20%29.addTo%28marker_cluster_29ad92a8fdf54505b730623161b75675%29%3B%0A%20%20%20%20%20%20%20%20%0A%20%20%20%20%0A%20%20%20%20%20%20%20%20marker_4b0c452952cd4fa1981b42f7db927f26.bindTooltip%28%0A%20%20%20%20%20%20%20%20%20%20%20%20%60%3Cdiv%3E%60%0A%20%20%20%20%20%20%20%20%20%20%20%20%2B%20%60%5B1.0%2C%20%27%D0%91%D1%80%D0%B0%D1%82%D1%81%D0%BA%27%5D%60%20%2B%20%60%3C/div%3E%60%2C%0A%20%20%20%20%20%20%20%20%20%20%20%20%7B%22sticky%22%3A%20true%7D%0A%20%20%20%20%20%20%20%20%29%3B%0A%20%20%20%20%20%20%20%20%0A%20%20%20%20%0A%20%20%20%20%20%20%20%20var%20marker_d74aca9bbf4e4432bf3d90127f3c26e5%20%3D%20L.marker%28%0A%20%20%20%20%20%20%20%20%20%20%20%20%5B53.2423778%2C%2034.3668288%5D%2C%0A%20%20%20%20%20%20%20%20%20%20%20%20%7B%0A%20%20%20%20%20%20%20%20%20%20%20%20%20%20%20%20icon%3A%20new%20L.Icon.Default%28%29%2C%0A%20%20%20%20%20%20%20%20%20%20%20%20%20%20%20%20%7D%0A%20%20%20%20%20%20%20%20%20%20%20%20%29.addTo%28marker_cluster_29ad92a8fdf54505b730623161b75675%29%3B%0A%20%20%20%20%20%20%20%20%0A%20%20%20%20%0A%20%20%20%20%20%20%20%20marker_d74aca9bbf4e4432bf3d90127f3c26e5.bindTooltip%28%0A%20%20%20%20%20%20%20%20%20%20%20%20%60%3Cdiv%3E%60%0A%20%20%20%20%20%20%20%20%20%20%20%20%2B%20%60%5B10.0%2C%20%27%D0%91%D1%80%D1%8F%D0%BD%D1%81%D0%BA%27%5D%60%20%2B%20%60%3C/div%3E%60%2C%0A%20%20%20%20%20%20%20%20%20%20%20%20%7B%22sticky%22%3A%20true%7D%0A%20%20%20%20%20%20%20%20%29%3B%0A%20%20%20%20%20%20%20%20%0A%20%20%20%20%0A%20%20%20%20%20%20%20%20var%20marker_0c413c03bf6c42198a951bd4931b9dff%20%3D%20L.marker%28%0A%20%20%20%20%20%20%20%20%20%20%20%20%5B54.5384152%2C%2052.7955953%5D%2C%0A%20%20%20%20%20%20%20%20%20%20%20%20%7B%0A%20%20%20%20%20%20%20%20%20%20%20%20%20%20%20%20icon%3A%20new%20L.Icon.Default%28%29%2C%0A%20%20%20%20%20%20%20%20%20%20%20%20%20%20%20%20%7D%0A%20%20%20%20%20%20%20%20%20%20%20%20%29.addTo%28marker_cluster_29ad92a8fdf54505b730623161b75675%29%3B%0A%20%20%20%20%20%20%20%20%0A%20%20%20%20%0A%20%20%20%20%20%20%20%20marker_0c413c03bf6c42198a951bd4931b9dff.bindTooltip%28%0A%20%20%20%20%20%20%20%20%20%20%20%20%60%3Cdiv%3E%60%0A%20%20%20%20%20%20%20%20%20%20%20%20%2B%20%60%5B3.0%2C%20%27%D0%91%D1%83%D0%B3%D1%83%D0%BB%D1%8C%D0%BC%D0%B0%27%5D%60%20%2B%20%60%3C/div%3E%60%2C%0A%20%20%20%20%20%20%20%20%20%20%20%20%7B%22sticky%22%3A%20true%7D%0A%20%20%20%20%20%20%20%20%29%3B%0A%20%20%20%20%20%20%20%20%0A%20%20%20%20%0A%20%20%20%20%20%20%20%20var%20marker_37d42fb175a44313b1fb7359f4d405b0%20%3D%20L.marker%28%0A%20%20%20%20%20%20%20%20%20%20%20%20%5B43.1150678%2C%20131.8855768%5D%2C%0A%20%20%20%20%20%20%20%20%20%20%20%20%7B%0A%20%20%20%20%20%20%20%20%20%20%20%20%20%20%20%20icon%3A%20new%20L.Icon.Default%28%29%2C%0A%20%20%20%20%20%20%20%20%20%20%20%20%20%20%20%20%7D%0A%20%20%20%20%20%20%20%20%20%20%20%20%29.addTo%28marker_cluster_29ad92a8fdf54505b730623161b75675%29%3B%0A%20%20%20%20%20%20%20%20%0A%20%20%20%20%0A%20%20%20%20%20%20%20%20marker_37d42fb175a44313b1fb7359f4d405b0.bindTooltip%28%0A%20%20%20%20%20%20%20%20%20%20%20%20%60%3Cdiv%3E%60%0A%20%20%20%20%20%20%20%20%20%20%20%20%2B%20%60%5B3.0%2C%20%27%D0%92%D0%BB%D0%B0%D0%B4%D0%B8%D0%B2%D0%BE%D1%81%D1%82%D0%BE%D0%BA%27%5D%60%20%2B%20%60%3C/div%3E%60%2C%0A%20%20%20%20%20%20%20%20%20%20%20%20%7B%22sticky%22%3A%20true%7D%0A%20%20%20%20%20%20%20%20%29%3B%0A%20%20%20%20%20%20%20%20%0A%20%20%20%20%0A%20%20%20%20%20%20%20%20var%20marker_a57c2ebafb7f4b78a8bf2f5ad78c54a8%20%3D%20L.marker%28%0A%20%20%20%20%20%20%20%20%20%20%20%20%5B43.024593%2C%2044.68211%5D%2C%0A%20%20%20%20%20%20%20%20%20%20%20%20%7B%0A%20%20%20%20%20%20%20%20%20%20%20%20%20%20%20%20icon%3A%20new%20L.Icon.Default%28%29%2C%0A%20%20%20%20%20%20%20%20%20%20%20%20%20%20%20%20%7D%0A%20%20%20%20%20%20%20%20%20%20%20%20%29.addTo%28marker_cluster_29ad92a8fdf54505b730623161b75675%29%3B%0A%20%20%20%20%20%20%20%20%0A%20%20%20%20%0A%20%20%20%20%20%20%20%20marker_a57c2ebafb7f4b78a8bf2f5ad78c54a8.bindTooltip%28%0A%20%20%20%20%20%20%20%20%20%20%20%20%60%3Cdiv%3E%60%0A%20%20%20%20%20%20%20%20%20%20%20%20%2B%20%60%5B2.0%2C%20%27%D0%92%D0%BB%D0%B0%D0%B4%D0%B8%D0%BA%D0%B0%D0%B2%D0%BA%D0%B0%D0%B7%27%5D%60%20%2B%20%60%3C/div%3E%60%2C%0A%20%20%20%20%20%20%20%20%20%20%20%20%7B%22sticky%22%3A%20true%7D%0A%20%20%20%20%20%20%20%20%29%3B%0A%20%20%20%20%20%20%20%20%0A%20%20%20%20%0A%20%20%20%20%20%20%20%20var%20marker_00b98b033ed0416f9323b52b54c6cf2a%20%3D%20L.marker%28%0A%20%20%20%20%20%20%20%20%20%20%20%20%5B48.7081906%2C%2044.5153353%5D%2C%0A%20%20%20%20%20%20%20%20%20%20%20%20%7B%0A%20%20%20%20%20%20%20%20%20%20%20%20%20%20%20%20icon%3A%20new%20L.Icon.Default%28%29%2C%0A%20%20%20%20%20%20%20%20%20%20%20%20%20%20%20%20%7D%0A%20%20%20%20%20%20%20%20%20%20%20%20%29.addTo%28marker_cluster_29ad92a8fdf54505b730623161b75675%29%3B%0A%20%20%20%20%20%20%20%20%0A%20%20%20%20%0A%20%20%20%20%20%20%20%20marker_00b98b033ed0416f9323b52b54c6cf2a.bindTooltip%28%0A%20%20%20%20%20%20%20%20%20%20%20%20%60%3Cdiv%3E%60%0A%20%20%20%20%20%20%20%20%20%20%20%20%2B%20%60%5B5.13%2C%20%27%D0%92%D0%BE%D0%BB%D0%B3%D0%BE%D0%B3%D1%80%D0%B0%D0%B4%27%5D%60%20%2B%20%60%3C/div%3E%60%2C%0A%20%20%20%20%20%20%20%20%20%20%20%20%7B%22sticky%22%3A%20true%7D%0A%20%20%20%20%20%20%20%20%29%3B%0A%20%20%20%20%20%20%20%20%0A%20%20%20%20%0A%20%20%20%20%20%20%20%20var%20marker_5f679e4143bf40fbabbcad96f50d2888%20%3D%20L.marker%28%0A%20%20%20%20%20%20%20%20%20%20%20%20%5B67.4948535%2C%2064.0399469%5D%2C%0A%20%20%20%20%20%20%20%20%20%20%20%20%7B%0A%20%20%20%20%20%20%20%20%20%20%20%20%20%20%20%20icon%3A%20new%20L.Icon.Default%28%29%2C%0A%20%20%20%20%20%20%20%20%20%20%20%20%20%20%20%20%7D%0A%20%20%20%20%20%20%20%20%20%20%20%20%29.addTo%28marker_cluster_29ad92a8fdf54505b730623161b75675%29%3B%0A%20%20%20%20%20%20%20%20%0A%20%20%20%20%0A%20%20%20%20%20%20%20%20marker_5f679e4143bf40fbabbcad96f50d2888.bindTooltip%28%0A%20%20%20%20%20%20%20%20%20%20%20%20%60%3Cdiv%3E%60%0A%20%20%20%20%20%20%20%20%20%20%20%20%2B%20%60%5B4.58%2C%20%27%D0%92%D0%BE%D1%80%D0%BA%D1%83%D1%82%D0%B0%27%5D%60%20%2B%20%60%3C/div%3E%60%2C%0A%20%20%20%20%20%20%20%20%20%20%20%20%7B%22sticky%22%3A%20true%7D%0A%20%20%20%20%20%20%20%20%29%3B%0A%20%20%20%20%20%20%20%20%0A%20%20%20%20%0A%20%20%20%20%20%20%20%20var%20marker_cc8dc02a9b624764a0991ddf48051b0a%20%3D%20L.marker%28%0A%20%20%20%20%20%20%20%20%20%20%20%20%5B51.6605982%2C%2039.2005858%5D%2C%0A%20%20%20%20%20%20%20%20%20%20%20%20%7B%0A%20%20%20%20%20%20%20%20%20%20%20%20%20%20%20%20icon%3A%20new%20L.Icon.Default%28%29%2C%0A%20%20%20%20%20%20%20%20%20%20%20%20%20%20%20%20%7D%0A%20%20%20%20%20%20%20%20%20%20%20%20%29.addTo%28marker_cluster_29ad92a8fdf54505b730623161b75675%29%3B%0A%20%20%20%20%20%20%20%20%0A%20%20%20%20%0A%20%20%20%20%20%20%20%20marker_cc8dc02a9b624764a0991ddf48051b0a.bindTooltip%28%0A%20%20%20%20%20%20%20%20%20%20%20%20%60%3Cdiv%3E%60%0A%20%20%20%20%20%20%20%20%20%20%20%20%2B%20%60%5B2.0%2C%20%27%D0%92%D0%BE%D1%80%D0%BE%D0%BD%D0%B5%D0%B6%27%5D%60%20%2B%20%60%3C/div%3E%60%2C%0A%20%20%20%20%20%20%20%20%20%20%20%20%7B%22sticky%22%3A%20true%7D%0A%20%20%20%20%20%20%20%20%29%3B%0A%20%20%20%20%20%20%20%20%0A%20%20%20%20%0A%20%20%20%20%20%20%20%20var%20marker_c334e5a0630b4a05bf65dafaf7660336%20%3D%20L.marker%28%0A%20%20%20%20%20%20%20%20%20%20%20%20%5B44.5609447%2C%2038.0766832%5D%2C%0A%20%20%20%20%20%20%20%20%20%20%20%20%7B%0A%20%20%20%20%20%20%20%20%20%20%20%20%20%20%20%20icon%3A%20new%20L.Icon.Default%28%29%2C%0A%20%20%20%20%20%20%20%20%20%20%20%20%20%20%20%20%7D%0A%20%20%20%20%20%20%20%20%20%20%20%20%29.addTo%28marker_cluster_29ad92a8fdf54505b730623161b75675%29%3B%0A%20%20%20%20%20%20%20%20%0A%20%20%20%20%0A%20%20%20%20%20%20%20%20marker_c334e5a0630b4a05bf65dafaf7660336.bindTooltip%28%0A%20%20%20%20%20%20%20%20%20%20%20%20%60%3Cdiv%3E%60%0A%20%20%20%20%20%20%20%20%20%20%20%20%2B%20%60%5B2.59%2C%20%27%D0%93%D0%B5%D0%BB%D0%B5%D0%BD%D0%B4%D0%B6%D0%B8%D0%BA%27%5D%60%20%2B%20%60%3C/div%3E%60%2C%0A%20%20%20%20%20%20%20%20%20%20%20%20%7B%22sticky%22%3A%20true%7D%0A%20%20%20%20%20%20%20%20%29%3B%0A%20%20%20%20%20%20%20%20%0A%20%20%20%20%0A%20%20%20%20%20%20%20%20var%20marker_2f3565f9ce67477bbe07f91f9405d908%20%3D%20L.marker%28%0A%20%20%20%20%20%20%20%20%20%20%20%20%5B51.957775%2C%2085.963653%5D%2C%0A%20%20%20%20%20%20%20%20%20%20%20%20%7B%0A%20%20%20%20%20%20%20%20%20%20%20%20%20%20%20%20icon%3A%20new%20L.Icon.Default%28%29%2C%0A%20%20%20%20%20%20%20%20%20%20%20%20%20%20%20%20%7D%0A%20%20%20%20%20%20%20%20%20%20%20%20%29.addTo%28marker_cluster_29ad92a8fdf54505b730623161b75675%29%3B%0A%20%20%20%20%20%20%20%20%0A%20%20%20%20%0A%20%20%20%20%20%20%20%20marker_2f3565f9ce67477bbe07f91f9405d908.bindTooltip%28%0A%20%20%20%20%20%20%20%20%20%20%20%20%60%3Cdiv%3E%60%0A%20%20%20%20%20%20%20%20%20%20%20%20%2B%20%60%5B1.39%2C%20%27%D0%93%D0%BE%D1%80%D0%BD%D0%BE-%D0%90%D0%BB%D1%82%D0%B0%D0%B9%D1%81%D0%BA%27%5D%60%20%2B%20%60%3C/div%3E%60%2C%0A%20%20%20%20%20%20%20%20%20%20%20%20%7B%22sticky%22%3A%20true%7D%0A%20%20%20%20%20%20%20%20%29%3B%0A%20%20%20%20%20%20%20%20%0A%20%20%20%20%0A%20%20%20%20%20%20%20%20var%20marker_b480a10e634d428e9df9fd878b576967%20%3D%20L.marker%28%0A%20%20%20%20%20%20%20%20%20%20%20%20%5B43.3197031%2C%2045.6934308%5D%2C%0A%20%20%20%20%20%20%20%20%20%20%20%20%7B%0A%20%20%20%20%20%20%20%20%20%20%20%20%20%20%20%20icon%3A%20new%20L.Icon.Default%28%29%2C%0A%20%20%20%20%20%20%20%20%20%20%20%20%20%20%20%20%7D%0A%20%20%20%20%20%20%20%20%20%20%20%20%29.addTo%28marker_cluster_29ad92a8fdf54505b730623161b75675%29%3B%0A%20%20%20%20%20%20%20%20%0A%20%20%20%20%0A%20%20%20%20%20%20%20%20marker_b480a10e634d428e9df9fd878b576967.bindTooltip%28%0A%20%20%20%20%20%20%20%20%20%20%20%20%60%3Cdiv%3E%60%0A%20%20%20%20%20%20%20%20%20%20%20%20%2B%20%60%5B1.13%2C%20%27%D0%93%D1%80%D0%BE%D0%B7%D0%BD%D1%8B%D0%B9%27%5D%60%20%2B%20%60%3C/div%3E%60%2C%0A%20%20%20%20%20%20%20%20%20%20%20%20%7B%22sticky%22%3A%20true%7D%0A%20%20%20%20%20%20%20%20%29%3B%0A%20%20%20%20%20%20%20%20%0A%20%20%20%20%0A%20%20%20%20%20%20%20%20var%20marker_2ceb0d1d86d94e3a88c0ad9770c5387e%20%3D%20L.marker%28%0A%20%20%20%20%20%20%20%20%20%20%20%20%5B56.839104%2C%2060.60825%5D%2C%0A%20%20%20%20%20%20%20%20%20%20%20%20%7B%0A%20%20%20%20%20%20%20%20%20%20%20%20%20%20%20%20icon%3A%20new%20L.Icon.Default%28%29%2C%0A%20%20%20%20%20%20%20%20%20%20%20%20%20%20%20%20%7D%0A%20%20%20%20%20%20%20%20%20%20%20%20%29.addTo%28marker_cluster_29ad92a8fdf54505b730623161b75675%29%3B%0A%20%20%20%20%20%20%20%20%0A%20%20%20%20%0A%20%20%20%20%20%20%20%20marker_2ceb0d1d86d94e3a88c0ad9770c5387e.bindTooltip%28%0A%20%20%20%20%20%20%20%20%20%20%20%20%60%3Cdiv%3E%60%0A%20%20%20%20%20%20%20%20%20%20%20%20%2B%20%60%5B11.32%2C%20%27%D0%95%D0%BA%D0%B0%D1%82%D0%B5%D1%80%D0%B8%D0%BD%D0%B1%D1%83%D1%80%D0%B3%27%5D%60%20%2B%20%60%3C/div%3E%60%2C%0A%20%20%20%20%20%20%20%20%20%20%20%20%7B%22sticky%22%3A%20true%7D%0A%20%20%20%20%20%20%20%20%29%3B%0A%20%20%20%20%20%20%20%20%0A%20%20%20%20%0A%20%20%20%20%20%20%20%20var%20marker_5583e95a6925454f8ad3d86dfdd2dad3%20%3D%20L.marker%28%0A%20%20%20%20%20%20%20%20%20%20%20%20%5B56.9984452%2C%2040.9737394%5D%2C%0A%20%20%20%20%20%20%20%20%20%20%20%20%7B%0A%20%20%20%20%20%20%20%20%20%20%20%20%20%20%20%20icon%3A%20new%20L.Icon.Default%28%29%2C%0A%20%20%20%20%20%20%20%20%20%20%20%20%20%20%20%20%7D%0A%20%20%20%20%20%20%20%20%20%20%20%20%29.addTo%28marker_cluster_29ad92a8fdf54505b730623161b75675%29%3B%0A%20%20%20%20%20%20%20%20%0A%20%20%20%20%0A%20%20%20%20%20%20%20%20marker_5583e95a6925454f8ad3d86dfdd2dad3.bindTooltip%28%0A%20%20%20%20%20%20%20%20%20%20%20%20%60%3Cdiv%3E%60%0A%20%20%20%20%20%20%20%20%20%20%20%20%2B%20%60%5B1.0%2C%20%27%D0%98%D0%B2%D0%B0%D0%BD%D0%BE%D0%B2%D0%BE%27%5D%60%20%2B%20%60%3C/div%3E%60%2C%0A%20%20%20%20%20%20%20%20%20%20%20%20%7B%22sticky%22%3A%20true%7D%0A%20%20%20%20%20%20%20%20%29%3B%0A%20%20%20%20%20%20%20%20%0A%20%20%20%20%0A%20%20%20%20%20%20%20%20var%20marker_a532cfa2a7a9422985b1a93e949d207b%20%3D%20L.marker%28%0A%20%20%20%20%20%20%20%20%20%20%20%20%5B56.86051745%2C%2053.197730742455306%5D%2C%0A%20%20%20%20%20%20%20%20%20%20%20%20%7B%0A%20%20%20%20%20%20%20%20%20%20%20%20%20%20%20%20icon%3A%20new%20L.Icon.Default%28%29%2C%0A%20%20%20%20%20%20%20%20%20%20%20%20%20%20%20%20%7D%0A%20%20%20%20%20%20%20%20%20%20%20%20%29.addTo%28marker_cluster_29ad92a8fdf54505b730623161b75675%29%3B%0A%20%20%20%20%20%20%20%20%0A%20%20%20%20%0A%20%20%20%20%20%20%20%20marker_a532cfa2a7a9422985b1a93e949d207b.bindTooltip%28%0A%20%20%20%20%20%20%20%20%20%20%20%20%60%3Cdiv%3E%60%0A%20%20%20%20%20%20%20%20%20%20%20%20%2B%20%60%5B1.0%2C%20%27%D0%98%D0%B6%D0%B5%D0%B2%D1%81%D0%BA%27%5D%60%20%2B%20%60%3C/div%3E%60%2C%0A%20%20%20%20%20%20%20%20%20%20%20%20%7B%22sticky%22%3A%20true%7D%0A%20%20%20%20%20%20%20%20%29%3B%0A%20%20%20%20%20%20%20%20%0A%20%20%20%20%0A%20%20%20%20%20%20%20%20var%20marker_0cdc869d4cd3420ab5f32537effdc807%20%3D%20L.marker%28%0A%20%20%20%20%20%20%20%20%20%20%20%20%5B52.289597%2C%20104.280586%5D%2C%0A%20%20%20%20%20%20%20%20%20%20%20%20%7B%0A%20%20%20%20%20%20%20%20%20%20%20%20%20%20%20%20icon%3A%20new%20L.Icon.Default%28%29%2C%0A%20%20%20%20%20%20%20%20%20%20%20%20%20%20%20%20%7D%0A%20%20%20%20%20%20%20%20%20%20%20%20%29.addTo%28marker_cluster_29ad92a8fdf54505b730623161b75675%29%3B%0A%20%20%20%20%20%20%20%20%0A%20%20%20%20%0A%20%20%20%20%20%20%20%20marker_0cdc869d4cd3420ab5f32537effdc807.bindTooltip%28%0A%20%20%20%20%20%20%20%20%20%20%20%20%60%3Cdiv%3E%60%0A%20%20%20%20%20%20%20%20%20%20%20%20%2B%20%60%5B6.03%2C%20%27%D0%98%D1%80%D0%BA%D1%83%D1%82%D1%81%D0%BA%27%5D%60%20%2B%20%60%3C/div%3E%60%2C%0A%20%20%20%20%20%20%20%20%20%20%20%20%7B%22sticky%22%3A%20true%7D%0A%20%20%20%20%20%20%20%20%29%3B%0A%20%20%20%20%20%20%20%20%0A%20%20%20%20%0A%20%20%20%20%20%20%20%20var%20marker_47102edd8cc74469bee713a1b461e9d9%20%3D%20L.marker%28%0A%20%20%20%20%20%20%20%20%20%20%20%20%5B56.6477914%2C%2047.881715511024034%5D%2C%0A%20%20%20%20%20%20%20%20%20%20%20%20%7B%0A%20%20%20%20%20%20%20%20%20%20%20%20%20%20%20%20icon%3A%20new%20L.Icon.Default%28%29%2C%0A%20%20%20%20%20%20%20%20%20%20%20%20%20%20%20%20%7D%0A%20%20%20%20%20%20%20%20%20%20%20%20%29.addTo%28marker_cluster_29ad92a8fdf54505b730623161b75675%29%3B%0A%20%20%20%20%20%20%20%20%0A%20%20%20%20%0A%20%20%20%20%20%20%20%20marker_47102edd8cc74469bee713a1b461e9d9.bindTooltip%28%0A%20%20%20%20%20%20%20%20%20%20%20%20%60%3Cdiv%3E%60%0A%20%20%20%20%20%20%20%20%20%20%20%20%2B%20%60%5B4.29%2C%20%27%D0%99%D0%BE%D1%88%D0%BA%D0%B0%D1%80-%D0%9E%D0%BB%D0%B0%27%5D%60%20%2B%20%60%3C/div%3E%60%2C%0A%20%20%20%20%20%20%20%20%20%20%20%20%7B%22sticky%22%3A%20true%7D%0A%20%20%20%20%20%20%20%20%29%3B%0A%20%20%20%20%20%20%20%20%0A%20%20%20%20%0A%20%20%20%20%20%20%20%20var%20marker_37ca6e2047b94bc9a98828580503f7ab%20%3D%20L.marker%28%0A%20%20%20%20%20%20%20%20%20%20%20%20%5B55.7823547%2C%2049.1242266%5D%2C%0A%20%20%20%20%20%20%20%20%20%20%20%20%7B%0A%20%20%20%20%20%20%20%20%20%20%20%20%20%20%20%20icon%3A%20new%20L.Icon.Default%28%29%2C%0A%20%20%20%20%20%20%20%20%20%20%20%20%20%20%20%20%7D%0A%20%20%20%20%20%20%20%20%20%20%20%20%29.addTo%28marker_cluster_29ad92a8fdf54505b730623161b75675%29%3B%0A%20%20%20%20%20%20%20%20%0A%20%20%20%20%0A%20%20%20%20%20%20%20%20marker_37ca6e2047b94bc9a98828580503f7ab.bindTooltip%28%0A%20%20%20%20%20%20%20%20%20%20%20%20%60%3Cdiv%3E%60%0A%20%20%20%20%20%20%20%20%20%20%20%20%2B%20%60%5B7.74%2C%20%27%D0%9A%D0%B0%D0%B7%D0%B0%D0%BD%D1%8C%27%5D%60%20%2B%20%60%3C/div%3E%60%2C%0A%20%20%20%20%20%20%20%20%20%20%20%20%7B%22sticky%22%3A%20true%7D%0A%20%20%20%20%20%20%20%20%29%3B%0A%20%20%20%20%20%20%20%20%0A%20%20%20%20%0A%20%20%20%20%20%20%20%20var%20marker_b57ae536aed0427f8e101c892caee7f9%20%3D%20L.marker%28%0A%20%20%20%20%20%20%20%20%20%20%20%20%5B54.710128%2C%2020.5105838%5D%2C%0A%20%20%20%20%20%20%20%20%20%20%20%20%7B%0A%20%20%20%20%20%20%20%20%20%20%20%20%20%20%20%20icon%3A%20new%20L.Icon.Default%28%29%2C%0A%20%20%20%20%20%20%20%20%20%20%20%20%20%20%20%20%7D%0A%20%20%20%20%20%20%20%20%20%20%20%20%29.addTo%28marker_cluster_29ad92a8fdf54505b730623161b75675%29%3B%0A%20%20%20%20%20%20%20%20%0A%20%20%20%20%0A%20%20%20%20%20%20%20%20marker_b57ae536aed0427f8e101c892caee7f9.bindTooltip%28%0A%20%20%20%20%20%20%20%20%20%20%20%20%60%3Cdiv%3E%60%0A%20%20%20%20%20%20%20%20%20%20%20%20%2B%20%60%5B2.58%2C%20%27%D0%9A%D0%B0%D0%BB%D0%B8%D0%BD%D0%B8%D0%BD%D0%B3%D1%80%D0%B0%D0%B4%27%5D%60%20%2B%20%60%3C/div%3E%60%2C%0A%20%20%20%20%20%20%20%20%20%20%20%20%7B%22sticky%22%3A%20true%7D%0A%20%20%20%20%20%20%20%20%29%3B%0A%20%20%20%20%20%20%20%20%0A%20%20%20%20%0A%20%20%20%20%20%20%20%20var%20marker_9ed14ac3921f413cb33838da34adbc49%20%3D%20L.marker%28%0A%20%20%20%20%20%20%20%20%20%20%20%20%5B54.5101087%2C%2036.2598115%5D%2C%0A%20%20%20%20%20%20%20%20%20%20%20%20%7B%0A%20%20%20%20%20%20%20%20%20%20%20%20%20%20%20%20icon%3A%20new%20L.Icon.Default%28%29%2C%0A%20%20%20%20%20%20%20%20%20%20%20%20%20%20%20%20%7D%0A%20%20%20%20%20%20%20%20%20%20%20%20%29.addTo%28marker_cluster_29ad92a8fdf54505b730623161b75675%29%3B%0A%20%20%20%20%20%20%20%20%0A%20%20%20%20%0A%20%20%20%20%20%20%20%20marker_9ed14ac3921f413cb33838da34adbc49.bindTooltip%28%0A%20%20%20%20%20%20%20%20%20%20%20%20%60%3Cdiv%3E%60%0A%20%20%20%20%20%20%20%20%20%20%20%20%2B%20%60%5B2.03%2C%20%27%D0%9A%D0%B0%D0%BB%D1%83%D0%B3%D0%B0%27%5D%60%20%2B%20%60%3C/div%3E%60%2C%0A%20%20%20%20%20%20%20%20%20%20%20%20%7B%22sticky%22%3A%20true%7D%0A%20%20%20%20%20%20%20%20%29%3B%0A%20%20%20%20%20%20%20%20%0A%20%20%20%20%0A%20%20%20%20%20%20%20%20var%20marker_5b918fcce71d4ad09b2d311a036df4a8%20%3D%20L.marker%28%0A%20%20%20%20%20%20%20%20%20%20%20%20%5B55.355125%2C%2086.087234%5D%2C%0A%20%20%20%20%20%20%20%20%20%20%20%20%7B%0A%20%20%20%20%20%20%20%20%20%20%20%20%20%20%20%20icon%3A%20new%20L.Icon.Default%28%29%2C%0A%20%20%20%20%20%20%20%20%20%20%20%20%20%20%20%20%7D%0A%20%20%20%20%20%20%20%20%20%20%20%20%29.addTo%28marker_cluster_29ad92a8fdf54505b730623161b75675%29%3B%0A%20%20%20%20%20%20%20%20%0A%20%20%20%20%0A%20%20%20%20%20%20%20%20marker_5b918fcce71d4ad09b2d311a036df4a8.bindTooltip%28%0A%20%20%20%20%20%20%20%20%20%20%20%20%60%3Cdiv%3E%60%0A%20%20%20%20%20%20%20%20%20%20%20%20%2B%20%60%5B2.0%2C%20%27%D0%9A%D0%B5%D0%BC%D0%B5%D1%80%D0%BE%D0%B2%D0%BE%27%5D%60%20%2B%20%60%3C/div%3E%60%2C%0A%20%20%20%20%20%20%20%20%20%20%20%20%7B%22sticky%22%3A%20true%7D%0A%20%20%20%20%20%20%20%20%29%3B%0A%20%20%20%20%20%20%20%20%0A%20%20%20%20%0A%20%20%20%20%20%20%20%20var%20marker_090a1d753aa74e8e89b9b48a2982eab5%20%3D%20L.marker%28%0A%20%20%20%20%20%20%20%20%20%20%20%20%5B58.6035257%2C%2049.6639029%5D%2C%0A%20%20%20%20%20%20%20%20%20%20%20%20%7B%0A%20%20%20%20%20%20%20%20%20%20%20%20%20%20%20%20icon%3A%20new%20L.Icon.Default%28%29%2C%0A%20%20%20%20%20%20%20%20%20%20%20%20%20%20%20%20%7D%0A%20%20%20%20%20%20%20%20%20%20%20%20%29.addTo%28marker_cluster_29ad92a8fdf54505b730623161b75675%29%3B%0A%20%20%20%20%20%20%20%20%0A%20%20%20%20%0A%20%20%20%20%20%20%20%20marker_090a1d753aa74e8e89b9b48a2982eab5.bindTooltip%28%0A%20%20%20%20%20%20%20%20%20%20%20%20%60%3Cdiv%3E%60%0A%20%20%20%20%20%20%20%20%20%20%20%20%2B%20%60%5B6.0%2C%20%27%D0%9A%D0%B8%D1%80%D0%BE%D0%B2%27%5D%60%20%2B%20%60%3C/div%3E%60%2C%0A%20%20%20%20%20%20%20%20%20%20%20%20%7B%22sticky%22%3A%20true%7D%0A%20%20%20%20%20%20%20%20%29%3B%0A%20%20%20%20%20%20%20%20%0A%20%20%20%20%0A%20%20%20%20%20%20%20%20var%20marker_91784855a733450aa315ea3b3de8a7fe%20%3D%20L.marker%28%0A%20%20%20%20%20%20%20%20%20%20%20%20%5B62.26798%2C%2074.4889068%5D%2C%0A%20%20%20%20%20%20%20%20%20%20%20%20%7B%0A%20%20%20%20%20%20%20%20%20%20%20%20%20%20%20%20icon%3A%20new%20L.Icon.Default%28%29%2C%0A%20%20%20%20%20%20%20%20%20%20%20%20%20%20%20%20%7D%0A%20%20%20%20%20%20%20%20%20%20%20%20%29.addTo%28marker_cluster_29ad92a8fdf54505b730623161b75675%29%3B%0A%20%20%20%20%20%20%20%20%0A%20%20%20%20%0A%20%20%20%20%20%20%20%20marker_91784855a733450aa315ea3b3de8a7fe.bindTooltip%28%0A%20%20%20%20%20%20%20%20%20%20%20%20%60%3Cdiv%3E%60%0A%20%20%20%20%20%20%20%20%20%20%20%20%2B%20%60%5B3.16%2C%20%27%D0%9A%D0%BE%D0%B3%D0%B0%D0%BB%D1%8B%D0%BC%27%5D%60%20%2B%20%60%3C/div%3E%60%2C%0A%20%20%20%20%20%20%20%20%20%20%20%20%7B%22sticky%22%3A%20true%7D%0A%20%20%20%20%20%20%20%20%29%3B%0A%20%20%20%20%20%20%20%20%0A%20%20%20%20%0A%20%20%20%20%20%20%20%20var%20marker_caef279cb9274116907a4317e120867a%20%3D%20L.marker%28%0A%20%20%20%20%20%20%20%20%20%20%20%20%5B50.550877%2C%20137.020782%5D%2C%0A%20%20%20%20%20%20%20%20%20%20%20%20%7B%0A%20%20%20%20%20%20%20%20%20%20%20%20%20%20%20%20icon%3A%20new%20L.Icon.Default%28%29%2C%0A%20%20%20%20%20%20%20%20%20%20%20%20%20%20%20%20%7D%0A%20%20%20%20%20%20%20%20%20%20%20%20%29.addTo%28marker_cluster_29ad92a8fdf54505b730623161b75675%29%3B%0A%20%20%20%20%20%20%20%20%0A%20%20%20%20%0A%20%20%20%20%20%20%20%20marker_caef279cb9274116907a4317e120867a.bindTooltip%28%0A%20%20%20%20%20%20%20%20%20%20%20%20%60%3Cdiv%3E%60%0A%20%20%20%20%20%20%20%20%20%20%20%20%2B%20%60%5B1.0%2C%20%27%D0%9A%D0%BE%D0%BC%D1%81%D0%BE%D0%BC%D0%BE%D0%BB%D1%8C%D1%81%D0%BA-%D0%BD%D0%B0-%D0%90%D0%BC%D1%83%D1%80%D0%B5%27%5D%60%20%2B%20%60%3C/div%3E%60%2C%0A%20%20%20%20%20%20%20%20%20%20%20%20%7B%22sticky%22%3A%20true%7D%0A%20%20%20%20%20%20%20%20%29%3B%0A%20%20%20%20%20%20%20%20%0A%20%20%20%20%0A%20%20%20%20%20%20%20%20var%20marker_0ef857ebea55486b85d20f496be5a937%20%3D%20L.marker%28%0A%20%20%20%20%20%20%20%20%20%20%20%20%5B45.0352566%2C%2038.9764814%5D%2C%0A%20%20%20%20%20%20%20%20%20%20%20%20%7B%0A%20%20%20%20%20%20%20%20%20%20%20%20%20%20%20%20icon%3A%20new%20L.Icon.Default%28%29%2C%0A%20%20%20%20%20%20%20%20%20%20%20%20%20%20%20%20%7D%0A%20%20%20%20%20%20%20%20%20%20%20%20%29.addTo%28marker_cluster_29ad92a8fdf54505b730623161b75675%29%3B%0A%20%20%20%20%20%20%20%20%0A%20%20%20%20%0A%20%20%20%20%20%20%20%20marker_0ef857ebea55486b85d20f496be5a937.bindTooltip%28%0A%20%20%20%20%20%20%20%20%20%20%20%20%60%3Cdiv%3E%60%0A%20%20%20%20%20%20%20%20%20%20%20%20%2B%20%60%5B3.9%2C%20%27%D0%9A%D1%80%D0%B0%D1%81%D0%BD%D0%BE%D0%B4%D0%B0%D1%80%27%5D%60%20%2B%20%60%3C/div%3E%60%2C%0A%20%20%20%20%20%20%20%20%20%20%20%20%7B%22sticky%22%3A%20true%7D%0A%20%20%20%20%20%20%20%20%29%3B%0A%20%20%20%20%20%20%20%20%0A%20%20%20%20%0A%20%20%20%20%20%20%20%20var%20marker_332bb1346b654b999d6087935f905d13%20%3D%20L.marker%28%0A%20%20%20%20%20%20%20%20%20%20%20%20%5B56.0090968%2C%2092.8725147%5D%2C%0A%20%20%20%20%20%20%20%20%20%20%20%20%7B%0A%20%20%20%20%20%20%20%20%20%20%20%20%20%20%20%20icon%3A%20new%20L.Icon.Default%28%29%2C%0A%20%20%20%20%20%20%20%20%20%20%20%20%20%20%20%20%7D%0A%20%20%20%20%20%20%20%20%20%20%20%20%29.addTo%28marker_cluster_29ad92a8fdf54505b730623161b75675%29%3B%0A%20%20%20%20%20%20%20%20%0A%20%20%20%20%0A%20%20%20%20%20%20%20%20marker_332bb1346b654b999d6087935f905d13.bindTooltip%28%0A%20%20%20%20%20%20%20%20%20%20%20%20%60%3Cdiv%3E%60%0A%20%20%20%20%20%20%20%20%20%20%20%20%2B%20%60%5B11.58%2C%20%27%D0%9A%D1%80%D0%B0%D1%81%D0%BD%D0%BE%D1%8F%D1%80%D1%81%D0%BA%27%5D%60%20%2B%20%60%3C/div%3E%60%2C%0A%20%20%20%20%20%20%20%20%20%20%20%20%7B%22sticky%22%3A%20true%7D%0A%20%20%20%20%20%20%20%20%29%3B%0A%20%20%20%20%20%20%20%20%0A%20%20%20%20%0A%20%20%20%20%20%20%20%20var%20marker_1997c069e9b14498965ce460a89b140d%20%3D%20L.marker%28%0A%20%20%20%20%20%20%20%20%20%20%20%20%5B55.7655302%2C%2064.5632681%5D%2C%0A%20%20%20%20%20%20%20%20%20%20%20%20%7B%0A%20%20%20%20%20%20%20%20%20%20%20%20%20%20%20%20icon%3A%20new%20L.Icon.Default%28%29%2C%0A%20%20%20%20%20%20%20%20%20%20%20%20%20%20%20%20%7D%0A%20%20%20%20%20%20%20%20%20%20%20%20%29.addTo%28marker_cluster_29ad92a8fdf54505b730623161b75675%29%3B%0A%20%20%20%20%20%20%20%20%0A%20%20%20%20%0A%20%20%20%20%20%20%20%20marker_1997c069e9b14498965ce460a89b140d.bindTooltip%28%0A%20%20%20%20%20%20%20%20%20%20%20%20%60%3Cdiv%3E%60%0A%20%20%20%20%20%20%20%20%20%20%20%20%2B%20%60%5B3.42%2C%20%27%D0%9A%D1%83%D1%80%D0%B3%D0%B0%D0%BD%27%5D%60%20%2B%20%60%3C/div%3E%60%2C%0A%20%20%20%20%20%20%20%20%20%20%20%20%7B%22sticky%22%3A%20true%7D%0A%20%20%20%20%20%20%20%20%29%3B%0A%20%20%20%20%20%20%20%20%0A%20%20%20%20%0A%20%20%20%20%20%20%20%20var%20marker_c96de2ec693045bc830a19e2470e8c01%20%3D%20L.marker%28%0A%20%20%20%20%20%20%20%20%20%20%20%20%5B51.739433%2C%2036.179604%5D%2C%0A%20%20%20%20%20%20%20%20%20%20%20%20%7B%0A%20%20%20%20%20%20%20%20%20%20%20%20%20%20%20%20icon%3A%20new%20L.Icon.Default%28%29%2C%0A%20%20%20%20%20%20%20%20%20%20%20%20%20%20%20%20%7D%0A%20%20%20%20%20%20%20%20%20%20%20%20%29.addTo%28marker_cluster_29ad92a8fdf54505b730623161b75675%29%3B%0A%20%20%20%20%20%20%20%20%0A%20%20%20%20%0A%20%20%20%20%20%20%20%20marker_c96de2ec693045bc830a19e2470e8c01.bindTooltip%28%0A%20%20%20%20%20%20%20%20%20%20%20%20%60%3Cdiv%3E%60%0A%20%20%20%20%20%20%20%20%20%20%20%20%2B%20%60%5B2.29%2C%20%27%D0%9A%D1%83%D1%80%D1%81%D0%BA%27%5D%60%20%2B%20%60%3C/div%3E%60%2C%0A%20%20%20%20%20%20%20%20%20%20%20%20%7B%22sticky%22%3A%20true%7D%0A%20%20%20%20%20%20%20%20%29%3B%0A%20%20%20%20%20%20%20%20%0A%20%20%20%20%0A%20%20%20%20%20%20%20%20var%20marker_1b3faab1af0a4c6e9b37c0a7727ca1fd%20%3D%20L.marker%28%0A%20%20%20%20%20%20%20%20%20%20%20%20%5B51.7190995%2C%2094.4300627%5D%2C%0A%20%20%20%20%20%20%20%20%20%20%20%20%7B%0A%20%20%20%20%20%20%20%20%20%20%20%20%20%20%20%20icon%3A%20new%20L.Icon.Default%28%29%2C%0A%20%20%20%20%20%20%20%20%20%20%20%20%20%20%20%20%7D%0A%20%20%20%20%20%20%20%20%20%20%20%20%29.addTo%28marker_cluster_29ad92a8fdf54505b730623161b75675%29%3B%0A%20%20%20%20%20%20%20%20%0A%20%20%20%20%0A%20%20%20%20%20%20%20%20marker_1b3faab1af0a4c6e9b37c0a7727ca1fd.bindTooltip%28%0A%20%20%20%20%20%20%20%20%20%20%20%20%60%3Cdiv%3E%60%0A%20%20%20%20%20%20%20%20%20%20%20%20%2B%20%60%5B1.28%2C%20%27%D0%9A%D1%8B%D0%B7%D1%8B%D0%BB%27%5D%60%20%2B%20%60%3C/div%3E%60%2C%0A%20%20%20%20%20%20%20%20%20%20%20%20%7B%22sticky%22%3A%20true%7D%0A%20%20%20%20%20%20%20%20%29%3B%0A%20%20%20%20%20%20%20%20%0A%20%20%20%20%0A%20%20%20%20%20%20%20%20var%20marker_30acb09588284d93ae0bcf9af95234e1%20%3D%20L.marker%28%0A%20%20%20%20%20%20%20%20%20%20%20%20%5B52.6041877%2C%2039.5936899%5D%2C%0A%20%20%20%20%20%20%20%20%20%20%20%20%7B%0A%20%20%20%20%20%20%20%20%20%20%20%20%20%20%20%20icon%3A%20new%20L.Icon.Default%28%29%2C%0A%20%20%20%20%20%20%20%20%20%20%20%20%20%20%20%20%7D%0A%20%20%20%20%20%20%20%20%20%20%20%20%29.addTo%28marker_cluster_29ad92a8fdf54505b730623161b75675%29%3B%0A%20%20%20%20%20%20%20%20%0A%20%20%20%20%0A%20%20%20%20%20%20%20%20marker_30acb09588284d93ae0bcf9af95234e1.bindTooltip%28%0A%20%20%20%20%20%20%20%20%20%20%20%20%60%3Cdiv%3E%60%0A%20%20%20%20%20%20%20%20%20%20%20%20%2B%20%60%5B1.29%2C%20%27%D0%9B%D0%B8%D0%BF%D0%B5%D1%86%D0%BA%27%5D%60%20%2B%20%60%3C/div%3E%60%2C%0A%20%20%20%20%20%20%20%20%20%20%20%20%7B%22sticky%22%3A%20true%7D%0A%20%20%20%20%20%20%20%20%29%3B%0A%20%20%20%20%20%20%20%20%0A%20%20%20%20%0A%20%20%20%20%20%20%20%20var%20marker_79052b0ca9d64da991bc8425d5419d8a%20%3D%20L.marker%28%0A%20%20%20%20%20%20%20%20%20%20%20%20%5B59.5604768%2C%20150.7988617%5D%2C%0A%20%20%20%20%20%20%20%20%20%20%20%20%7B%0A%20%20%20%20%20%20%20%20%20%20%20%20%20%20%20%20icon%3A%20new%20L.Icon.Default%28%29%2C%0A%20%20%20%20%20%20%20%20%20%20%20%20%20%20%20%20%7D%0A%20%20%20%20%20%20%20%20%20%20%20%20%29.addTo%28marker_cluster_29ad92a8fdf54505b730623161b75675%29%3B%0A%20%20%20%20%20%20%20%20%0A%20%20%20%20%0A%20%20%20%20%20%20%20%20marker_79052b0ca9d64da991bc8425d5419d8a.bindTooltip%28%0A%20%20%20%20%20%20%20%20%20%20%20%20%60%3Cdiv%3E%60%0A%20%20%20%20%20%20%20%20%20%20%20%20%2B%20%60%5B1.36%2C%20%27%D0%9C%D0%B0%D0%B3%D0%B0%D0%B4%D0%B0%D0%BD%27%5D%60%20%2B%20%60%3C/div%3E%60%2C%0A%20%20%20%20%20%20%20%20%20%20%20%20%7B%22sticky%22%3A%20true%7D%0A%20%20%20%20%20%20%20%20%29%3B%0A%20%20%20%20%20%20%20%20%0A%20%20%20%20%0A%20%20%20%20%20%20%20%20var%20marker_73779d26c40542ea84ae337913bfd4b2%20%3D%20L.marker%28%0A%20%20%20%20%20%20%20%20%20%20%20%20%5B53.4242184%2C%2058.983136%5D%2C%0A%20%20%20%20%20%20%20%20%20%20%20%20%7B%0A%20%20%20%20%20%20%20%20%20%20%20%20%20%20%20%20icon%3A%20new%20L.Icon.Default%28%29%2C%0A%20%20%20%20%20%20%20%20%20%20%20%20%20%20%20%20%7D%0A%20%20%20%20%20%20%20%20%20%20%20%20%29.addTo%28marker_cluster_29ad92a8fdf54505b730623161b75675%29%3B%0A%20%20%20%20%20%20%20%20%0A%20%20%20%20%0A%20%20%20%20%20%20%20%20marker_73779d26c40542ea84ae337913bfd4b2.bindTooltip%28%0A%20%20%20%20%20%20%20%20%20%20%20%20%60%3Cdiv%3E%60%0A%20%20%20%20%20%20%20%20%20%20%20%20%2B%20%60%5B4.0%2C%20%27%D0%9C%D0%B0%D0%B3%D0%BD%D0%B8%D1%82%D0%BE%D0%B3%D0%BE%D1%80%D1%81%D0%BA%27%5D%60%20%2B%20%60%3C/div%3E%60%2C%0A%20%20%20%20%20%20%20%20%20%20%20%20%7B%22sticky%22%3A%20true%7D%0A%20%20%20%20%20%20%20%20%29%3B%0A%20%20%20%20%20%20%20%20%0A%20%20%20%20%0A%20%20%20%20%20%20%20%20var%20marker_4b79e16530f94153a76826af4b132e1b%20%3D%20L.marker%28%0A%20%20%20%20%20%20%20%20%20%20%20%20%5B42.9830241%2C%2047.5048717%5D%2C%0A%20%20%20%20%20%20%20%20%20%20%20%20%7B%0A%20%20%20%20%20%20%20%20%20%20%20%20%20%20%20%20icon%3A%20new%20L.Icon.Default%28%29%2C%0A%20%20%20%20%20%20%20%20%20%20%20%20%20%20%20%20%7D%0A%20%20%20%20%20%20%20%20%20%20%20%20%29.addTo%28marker_cluster_29ad92a8fdf54505b730623161b75675%29%3B%0A%20%20%20%20%20%20%20%20%0A%20%20%20%20%0A%20%20%20%20%20%20%20%20marker_4b79e16530f94153a76826af4b132e1b.bindTooltip%28%0A%20%20%20%20%20%20%20%20%20%20%20%20%60%3Cdiv%3E%60%0A%20%20%20%20%20%20%20%20%20%20%20%20%2B%20%60%5B3.29%2C%20%27%D0%9C%D0%B0%D1%85%D0%B0%D1%87%D0%BA%D0%B0%D0%BB%D0%B0%27%5D%60%20%2B%20%60%3C/div%3E%60%2C%0A%20%20%20%20%20%20%20%20%20%20%20%20%7B%22sticky%22%3A%20true%7D%0A%20%20%20%20%20%20%20%20%29%3B%0A%20%20%20%20%20%20%20%20%0A%20%20%20%20%0A%20%20%20%20%20%20%20%20var%20marker_1ad18cf220fa4f44af854c10d81d19c7%20%3D%20L.marker%28%0A%20%20%20%20%20%20%20%20%20%20%20%20%5B44.2107377%2C%2043.134969%5D%2C%0A%20%20%20%20%20%20%20%20%20%20%20%20%7B%0A%20%20%20%20%20%20%20%20%20%20%20%20%20%20%20%20icon%3A%20new%20L.Icon.Default%28%29%2C%0A%20%20%20%20%20%20%20%20%20%20%20%20%20%20%20%20%7D%0A%20%20%20%20%20%20%20%20%20%20%20%20%29.addTo%28marker_cluster_29ad92a8fdf54505b730623161b75675%29%3B%0A%20%20%20%20%20%20%20%20%0A%20%20%20%20%0A%20%20%20%20%20%20%20%20marker_1ad18cf220fa4f44af854c10d81d19c7.bindTooltip%28%0A%20%20%20%20%20%20%20%20%20%20%20%20%60%3Cdiv%3E%60%0A%20%20%20%20%20%20%20%20%20%20%20%20%2B%20%60%5B3.42%2C%20%27%D0%9C%D0%B8%D0%BD%D0%B5%D1%80%D0%B0%D0%BB%D1%8C%D0%BD%D1%8B%D0%B5%20%D0%92%D0%BE%D0%B4%D1%8B%27%5D%60%20%2B%20%60%3C/div%3E%60%2C%0A%20%20%20%20%20%20%20%20%20%20%20%20%7B%22sticky%22%3A%20true%7D%0A%20%20%20%20%20%20%20%20%29%3B%0A%20%20%20%20%20%20%20%20%0A%20%20%20%20%0A%20%20%20%20%20%20%20%20var%20marker_63cc15d4430b46ea81f4f265c3d3e144%20%3D%20L.marker%28%0A%20%20%20%20%20%20%20%20%20%20%20%20%5B62.541077%2C%20113.978584%5D%2C%0A%20%20%20%20%20%20%20%20%20%20%20%20%7B%0A%20%20%20%20%20%20%20%20%20%20%20%20%20%20%20%20icon%3A%20new%20L.Icon.Default%28%29%2C%0A%20%20%20%20%20%20%20%20%20%20%20%20%20%20%20%20%7D%0A%20%20%20%20%20%20%20%20%20%20%20%20%29.addTo%28marker_cluster_29ad92a8fdf54505b730623161b75675%29%3B%0A%20%20%20%20%20%20%20%20%0A%20%20%20%20%0A%20%20%20%20%20%20%20%20marker_63cc15d4430b46ea81f4f265c3d3e144.bindTooltip%28%0A%20%20%20%20%20%20%20%20%20%20%20%20%60%3Cdiv%3E%60%0A%20%20%20%20%20%20%20%20%20%20%20%20%2B%20%60%5B6.29%2C%20%27%D0%9C%D0%B8%D1%80%D0%BD%D1%8B%D0%B9%27%5D%60%20%2B%20%60%3C/div%3E%60%2C%0A%20%20%20%20%20%20%20%20%20%20%20%20%7B%22sticky%22%3A%20true%7D%0A%20%20%20%20%20%20%20%20%29%3B%0A%20%20%20%20%20%20%20%20%0A%20%20%20%20%0A%20%20%20%20%20%20%20%20var%20marker_a81c08844bc94174a8db82cc16bfb0ac%20%3D%20L.marker%28%0A%20%20%20%20%20%20%20%20%20%20%20%20%5B55.7504461%2C%2037.6174943%5D%2C%0A%20%20%20%20%20%20%20%20%20%20%20%20%7B%0A%20%20%20%20%20%20%20%20%20%20%20%20%20%20%20%20icon%3A%20new%20L.Icon.Default%28%29%2C%0A%20%20%20%20%20%20%20%20%20%20%20%20%20%20%20%20%7D%0A%20%20%20%20%20%20%20%20%20%20%20%20%29.addTo%28marker_cluster_29ad92a8fdf54505b730623161b75675%29%3B%0A%20%20%20%20%20%20%20%20%0A%20%20%20%20%0A%20%20%20%20%20%20%20%20marker_a81c08844bc94174a8db82cc16bfb0ac.bindTooltip%28%0A%20%20%20%20%20%20%20%20%20%20%20%20%60%3Cdiv%3E%60%0A%20%20%20%20%20%20%20%20%20%20%20%20%2B%20%60%5B129.77%2C%20%27%D0%9C%D0%BE%D1%81%D0%BA%D0%B2%D0%B0%27%5D%60%20%2B%20%60%3C/div%3E%60%2C%0A%20%20%20%20%20%20%20%20%20%20%20%20%7B%22sticky%22%3A%20true%7D%0A%20%20%20%20%20%20%20%20%29%3B%0A%20%20%20%20%20%20%20%20%0A%20%20%20%20%0A%20%20%20%20%20%20%20%20var%20marker_38e06f9dce0144ec9135c0d587590934%20%3D%20L.marker%28%0A%20%20%20%20%20%20%20%20%20%20%20%20%5B68.970665%2C%2033.07497%5D%2C%0A%20%20%20%20%20%20%20%20%20%20%20%20%7B%0A%20%20%20%20%20%20%20%20%20%20%20%20%20%20%20%20icon%3A%20new%20L.Icon.Default%28%29%2C%0A%20%20%20%20%20%20%20%20%20%20%20%20%20%20%20%20%7D%0A%20%20%20%20%20%20%20%20%20%20%20%20%29.addTo%28marker_cluster_29ad92a8fdf54505b730623161b75675%29%3B%0A%20%20%20%20%20%20%20%20%0A%20%20%20%20%0A%20%20%20%20%20%20%20%20marker_38e06f9dce0144ec9135c0d587590934.bindTooltip%28%0A%20%20%20%20%20%20%20%20%20%20%20%20%60%3Cdiv%3E%60%0A%20%20%20%20%20%20%20%20%20%20%20%20%2B%20%60%5B2.0%2C%20%27%D0%9C%D1%83%D1%80%D0%BC%D0%B0%D0%BD%D1%81%D0%BA%27%5D%60%20%2B%20%60%3C/div%3E%60%2C%0A%20%20%20%20%20%20%20%20%20%20%20%20%7B%22sticky%22%3A%20true%7D%0A%20%20%20%20%20%20%20%20%29%3B%0A%20%20%20%20%20%20%20%20%0A%20%20%20%20%0A%20%20%20%20%20%20%20%20var%20marker_6c1bc0ba9c9c4652aa79ad631b1d9a84%20%3D%20L.marker%28%0A%20%20%20%20%20%20%20%20%20%20%20%20%5B65.5336238%2C%2072.5113955%5D%2C%0A%20%20%20%20%20%20%20%20%20%20%20%20%7B%0A%20%20%20%20%20%20%20%20%20%20%20%20%20%20%20%20icon%3A%20new%20L.Icon.Default%28%29%2C%0A%20%20%20%20%20%20%20%20%20%20%20%20%20%20%20%20%7D%0A%20%20%20%20%20%20%20%20%20%20%20%20%29.addTo%28marker_cluster_29ad92a8fdf54505b730623161b75675%29%3B%0A%20%20%20%20%20%20%20%20%0A%20%20%20%20%0A%20%20%20%20%20%20%20%20marker_6c1bc0ba9c9c4652aa79ad631b1d9a84.bindTooltip%28%0A%20%20%20%20%20%20%20%20%20%20%20%20%60%3Cdiv%3E%60%0A%20%20%20%20%20%20%20%20%20%20%20%20%2B%20%60%5B2.29%2C%20%27%D0%9D%D0%B0%D0%B4%D1%8B%D0%BC%27%5D%60%20%2B%20%60%3C/div%3E%60%2C%0A%20%20%20%20%20%20%20%20%20%20%20%20%7B%22sticky%22%3A%20true%7D%0A%20%20%20%20%20%20%20%20%29%3B%0A%20%20%20%20%20%20%20%20%0A%20%20%20%20%0A%20%20%20%20%20%20%20%20var%20marker_54dd4f0af19744e78bff174194fd6535%20%3D%20L.marker%28%0A%20%20%20%20%20%20%20%20%20%20%20%20%5B43.4769604%2C%2043.5966578%5D%2C%0A%20%20%20%20%20%20%20%20%20%20%20%20%7B%0A%20%20%20%20%20%20%20%20%20%20%20%20%20%20%20%20icon%3A%20new%20L.Icon.Default%28%29%2C%0A%20%20%20%20%20%20%20%20%20%20%20%20%20%20%20%20%7D%0A%20%20%20%20%20%20%20%20%20%20%20%20%29.addTo%28marker_cluster_29ad92a8fdf54505b730623161b75675%29%3B%0A%20%20%20%20%20%20%20%20%0A%20%20%20%20%0A%20%20%20%20%20%20%20%20marker_54dd4f0af19744e78bff174194fd6535.bindTooltip%28%0A%20%20%20%20%20%20%20%20%20%20%20%20%60%3Cdiv%3E%60%0A%20%20%20%20%20%20%20%20%20%20%20%20%2B%20%60%5B3.0%2C%20%27%D0%9D%D0%B0%D0%BB%D1%8C%D1%87%D0%B8%D0%BA%27%5D%60%20%2B%20%60%3C/div%3E%60%2C%0A%20%20%20%20%20%20%20%20%20%20%20%20%7B%22sticky%22%3A%20true%7D%0A%20%20%20%20%20%20%20%20%29%3B%0A%20%20%20%20%20%20%20%20%0A%20%20%20%20%0A%20%20%20%20%20%20%20%20var%20marker_5d3ade3a614648a6b3bf46e47962c7d1%20%3D%20L.marker%28%0A%20%20%20%20%20%20%20%20%20%20%20%20%5B67.6380175%2C%2053.0071044%5D%2C%0A%20%20%20%20%20%20%20%20%20%20%20%20%7B%0A%20%20%20%20%20%20%20%20%20%20%20%20%20%20%20%20icon%3A%20new%20L.Icon.Default%28%29%2C%0A%20%20%20%20%20%20%20%20%20%20%20%20%20%20%20%20%7D%0A%20%20%20%20%20%20%20%20%20%20%20%20%29.addTo%28marker_cluster_29ad92a8fdf54505b730623161b75675%29%3B%0A%20%20%20%20%20%20%20%20%0A%20%20%20%20%0A%20%20%20%20%20%20%20%20marker_5d3ade3a614648a6b3bf46e47962c7d1.bindTooltip%28%0A%20%20%20%20%20%20%20%20%20%20%20%20%60%3Cdiv%3E%60%0A%20%20%20%20%20%20%20%20%20%20%20%20%2B%20%60%5B2.61%2C%20%27%D0%9D%D0%B0%D1%80%D1%8C%D1%8F%D0%BD-%D0%9C%D0%B0%D1%80%27%5D%60%20%2B%20%60%3C/div%3E%60%2C%0A%20%20%20%20%20%20%20%20%20%20%20%20%7B%22sticky%22%3A%20true%7D%0A%20%20%20%20%20%20%20%20%29%3B%0A%20%20%20%20%20%20%20%20%0A%20%20%20%20%0A%20%20%20%20%20%20%20%20var%20marker_e578c0950d724a68a5be60bf86495577%20%3D%20L.marker%28%0A%20%20%20%20%20%20%20%20%20%20%20%20%5B56.6579435%2C%20124.7123042%5D%2C%0A%20%20%20%20%20%20%20%20%20%20%20%20%7B%0A%20%20%20%20%20%20%20%20%20%20%20%20%20%20%20%20icon%3A%20new%20L.Icon.Default%28%29%2C%0A%20%20%20%20%20%20%20%20%20%20%20%20%20%20%20%20%7D%0A%20%20%20%20%20%20%20%20%20%20%20%20%29.addTo%28marker_cluster_29ad92a8fdf54505b730623161b75675%29%3B%0A%20%20%20%20%20%20%20%20%0A%20%20%20%20%0A%20%20%20%20%20%20%20%20marker_e578c0950d724a68a5be60bf86495577.bindTooltip%28%0A%20%20%20%20%20%20%20%20%20%20%20%20%60%3Cdiv%3E%60%0A%20%20%20%20%20%20%20%20%20%20%20%20%2B%20%60%5B2.58%2C%20%27%D0%9D%D0%B5%D1%80%D1%8E%D0%BD%D0%B3%D1%80%D0%B8%27%5D%60%20%2B%20%60%3C/div%3E%60%2C%0A%20%20%20%20%20%20%20%20%20%20%20%20%7B%22sticky%22%3A%20true%7D%0A%20%20%20%20%20%20%20%20%29%3B%0A%20%20%20%20%20%20%20%20%0A%20%20%20%20%0A%20%20%20%20%20%20%20%20var%20marker_37c0ea2a68ba45bf963fe6d577975d30%20%3D%20L.marker%28%0A%20%20%20%20%20%20%20%20%20%20%20%20%5B61.090309%2C%2072.6101%5D%2C%0A%20%20%20%20%20%20%20%20%20%20%20%20%7B%0A%20%20%20%20%20%20%20%20%20%20%20%20%20%20%20%20icon%3A%20new%20L.Icon.Default%28%29%2C%0A%20%20%20%20%20%20%20%20%20%20%20%20%20%20%20%20%7D%0A%20%20%20%20%20%20%20%20%20%20%20%20%29.addTo%28marker_cluster_29ad92a8fdf54505b730623161b75675%29%3B%0A%20%20%20%20%20%20%20%20%0A%20%20%20%20%0A%20%20%20%20%20%20%20%20marker_37c0ea2a68ba45bf963fe6d577975d30.bindTooltip%28%0A%20%20%20%20%20%20%20%20%20%20%20%20%60%3Cdiv%3E%60%0A%20%20%20%20%20%20%20%20%20%20%20%20%2B%20%60%5B1.0%2C%20%27%D0%9D%D0%B5%D1%84%D1%82%D0%B5%D1%8E%D0%B3%D0%B0%D0%BD%D1%81%D0%BA%27%5D%60%20%2B%20%60%3C/div%3E%60%2C%0A%20%20%20%20%20%20%20%20%20%20%20%20%7B%22sticky%22%3A%20true%7D%0A%20%20%20%20%20%20%20%20%29%3B%0A%20%20%20%20%20%20%20%20%0A%20%20%20%20%0A%20%20%20%20%20%20%20%20var%20marker_5f3b5c32a3e04166990602b523d60c72%20%3D%20L.marker%28%0A%20%20%20%20%20%20%20%20%20%20%20%20%5B60.9391866%2C%2076.55117870683605%5D%2C%0A%20%20%20%20%20%20%20%20%20%20%20%20%7B%0A%20%20%20%20%20%20%20%20%20%20%20%20%20%20%20%20icon%3A%20new%20L.Icon.Default%28%29%2C%0A%20%20%20%20%20%20%20%20%20%20%20%20%20%20%20%20%7D%0A%20%20%20%20%20%20%20%20%20%20%20%20%29.addTo%28marker_cluster_29ad92a8fdf54505b730623161b75675%29%3B%0A%20%20%20%20%20%20%20%20%0A%20%20%20%20%0A%20%20%20%20%20%20%20%20marker_5f3b5c32a3e04166990602b523d60c72.bindTooltip%28%0A%20%20%20%20%20%20%20%20%20%20%20%20%60%3Cdiv%3E%60%0A%20%20%20%20%20%20%20%20%20%20%20%20%2B%20%60%5B3.13%2C%20%27%D0%9D%D0%B8%D0%B6%D0%BD%D0%B5%D0%B2%D0%B0%D1%80%D1%82%D0%BE%D0%B2%D1%81%D0%BA%27%5D%60%20%2B%20%60%3C/div%3E%60%2C%0A%20%20%20%20%20%20%20%20%20%20%20%20%7B%22sticky%22%3A%20true%7D%0A%20%20%20%20%20%20%20%20%29%3B%0A%20%20%20%20%20%20%20%20%0A%20%20%20%20%0A%20%20%20%20%20%20%20%20var%20marker_ff482232a95d4a8180d301fd48abff8d%20%3D%20L.marker%28%0A%20%20%20%20%20%20%20%20%20%20%20%20%5B55.6412879%2C%2051.8160376%5D%2C%0A%20%20%20%20%20%20%20%20%20%20%20%20%7B%0A%20%20%20%20%20%20%20%20%20%20%20%20%20%20%20%20icon%3A%20new%20L.Icon.Default%28%29%2C%0A%20%20%20%20%20%20%20%20%20%20%20%20%20%20%20%20%7D%0A%20%20%20%20%20%20%20%20%20%20%20%20%29.addTo%28marker_cluster_29ad92a8fdf54505b730623161b75675%29%3B%0A%20%20%20%20%20%20%20%20%0A%20%20%20%20%0A%20%20%20%20%20%20%20%20marker_ff482232a95d4a8180d301fd48abff8d.bindTooltip%28%0A%20%20%20%20%20%20%20%20%20%20%20%20%60%3Cdiv%3E%60%0A%20%20%20%20%20%20%20%20%20%20%20%20%2B%20%60%5B3.74%2C%20%27%D0%9D%D0%B8%D0%B6%D0%BD%D0%B5%D0%BA%D0%B0%D0%BC%D1%81%D0%BA%27%5D%60%20%2B%20%60%3C/div%3E%60%2C%0A%20%20%20%20%20%20%20%20%20%20%20%20%7B%22sticky%22%3A%20true%7D%0A%20%20%20%20%20%20%20%20%29%3B%0A%20%20%20%20%20%20%20%20%0A%20%20%20%20%0A%20%20%20%20%20%20%20%20var%20marker_6f65b1f6553240ff9d627545990e637d%20%3D%20L.marker%28%0A%20%20%20%20%20%20%20%20%20%20%20%20%5B56.328571%2C%2044.003506%5D%2C%0A%20%20%20%20%20%20%20%20%20%20%20%20%7B%0A%20%20%20%20%20%20%20%20%20%20%20%20%20%20%20%20icon%3A%20new%20L.Icon.Default%28%29%2C%0A%20%20%20%20%20%20%20%20%20%20%20%20%20%20%20%20%7D%0A%20%20%20%20%20%20%20%20%20%20%20%20%29.addTo%28marker_cluster_29ad92a8fdf54505b730623161b75675%29%3B%0A%20%20%20%20%20%20%20%20%0A%20%20%20%20%0A%20%20%20%20%20%20%20%20marker_6f65b1f6553240ff9d627545990e637d.bindTooltip%28%0A%20%20%20%20%20%20%20%20%20%20%20%20%60%3Cdiv%3E%60%0A%20%20%20%20%20%20%20%20%20%20%20%20%2B%20%60%5B5.87%2C%20%27%D0%9D%D0%B8%D0%B6%D0%BD%D0%B8%D0%B9%20%D0%9D%D0%BE%D0%B2%D0%B3%D0%BE%D1%80%D0%BE%D0%B4%27%5D%60%20%2B%20%60%3C/div%3E%60%2C%0A%20%20%20%20%20%20%20%20%20%20%20%20%7B%22sticky%22%3A%20true%7D%0A%20%20%20%20%20%20%20%20%29%3B%0A%20%20%20%20%20%20%20%20%0A%20%20%20%20%0A%20%20%20%20%20%20%20%20var%20marker_8419ba4b5a004d989f8a1d3fd50612f5%20%3D%20L.marker%28%0A%20%20%20%20%20%20%20%20%20%20%20%20%5B53.757607%2C%2087.136101%5D%2C%0A%20%20%20%20%20%20%20%20%20%20%20%20%7B%0A%20%20%20%20%20%20%20%20%20%20%20%20%20%20%20%20icon%3A%20new%20L.Icon.Default%28%29%2C%0A%20%20%20%20%20%20%20%20%20%20%20%20%20%20%20%20%7D%0A%20%20%20%20%20%20%20%20%20%20%20%20%29.addTo%28marker_cluster_29ad92a8fdf54505b730623161b75675%29%3B%0A%20%20%20%20%20%20%20%20%0A%20%20%20%20%0A%20%20%20%20%20%20%20%20marker_8419ba4b5a004d989f8a1d3fd50612f5.bindTooltip%28%0A%20%20%20%20%20%20%20%20%20%20%20%20%60%3Cdiv%3E%60%0A%20%20%20%20%20%20%20%20%20%20%20%20%2B%20%60%5B6.03%2C%20%27%D0%9D%D0%BE%D0%B2%D0%BE%D0%BA%D1%83%D0%B7%D0%BD%D0%B5%D1%86%D0%BA%27%5D%60%20%2B%20%60%3C/div%3E%60%2C%0A%20%20%20%20%20%20%20%20%20%20%20%20%7B%22sticky%22%3A%20true%7D%0A%20%20%20%20%20%20%20%20%29%3B%0A%20%20%20%20%20%20%20%20%0A%20%20%20%20%0A%20%20%20%20%20%20%20%20var%20marker_c6e5198e7c5348d7bb02445bdf43b239%20%3D%20L.marker%28%0A%20%20%20%20%20%20%20%20%20%20%20%20%5B54.96781445%2C%2082.95159894278376%5D%2C%0A%20%20%20%20%20%20%20%20%20%20%20%20%7B%0A%20%20%20%20%20%20%20%20%20%20%20%20%20%20%20%20icon%3A%20new%20L.Icon.Default%28%29%2C%0A%20%20%20%20%20%20%20%20%20%20%20%20%20%20%20%20%7D%0A%20%20%20%20%20%20%20%20%20%20%20%20%29.addTo%28marker_cluster_29ad92a8fdf54505b730623161b75675%29%3B%0A%20%20%20%20%20%20%20%20%0A%20%20%20%20%0A%20%20%20%20%20%20%20%20marker_c6e5198e7c5348d7bb02445bdf43b239.bindTooltip%28%0A%20%20%20%20%20%20%20%20%20%20%20%20%60%3Cdiv%3E%60%0A%20%20%20%20%20%20%20%20%20%20%20%20%2B%20%60%5B17.32%2C%20%27%D0%9D%D0%BE%D0%B2%D0%BE%D1%81%D0%B8%D0%B1%D0%B8%D1%80%D1%81%D0%BA%27%5D%60%20%2B%20%60%3C/div%3E%60%2C%0A%20%20%20%20%20%20%20%20%20%20%20%20%7B%22sticky%22%3A%20true%7D%0A%20%20%20%20%20%20%20%20%29%3B%0A%20%20%20%20%20%20%20%20%0A%20%20%20%20%0A%20%20%20%20%20%20%20%20var%20marker_f1acca39bc5d49ec8423652eac3937ca%20%3D%20L.marker%28%0A%20%20%20%20%20%20%20%20%20%20%20%20%5B66.085196%2C%2076.6799167%5D%2C%0A%20%20%20%20%20%20%20%20%20%20%20%20%7B%0A%20%20%20%20%20%20%20%20%20%20%20%20%20%20%20%20icon%3A%20new%20L.Icon.Default%28%29%2C%0A%20%20%20%20%20%20%20%20%20%20%20%20%20%20%20%20%7D%0A%20%20%20%20%20%20%20%20%20%20%20%20%29.addTo%28marker_cluster_29ad92a8fdf54505b730623161b75675%29%3B%0A%20%20%20%20%20%20%20%20%0A%20%20%20%20%0A%20%20%20%20%20%20%20%20marker_f1acca39bc5d49ec8423652eac3937ca.bindTooltip%28%0A%20%20%20%20%20%20%20%20%20%20%20%20%60%3Cdiv%3E%60%0A%20%20%20%20%20%20%20%20%20%20%20%20%2B%20%60%5B8.29%2C%20%27%D0%9D%D0%BE%D0%B2%D1%8B%D0%B9%20%D0%A3%D1%80%D0%B5%D0%BD%D0%B3%D0%BE%D0%B9%27%5D%60%20%2B%20%60%3C/div%3E%60%2C%0A%20%20%20%20%20%20%20%20%20%20%20%20%7B%22sticky%22%3A%20true%7D%0A%20%20%20%20%20%20%20%20%29%3B%0A%20%20%20%20%20%20%20%20%0A%20%20%20%20%0A%20%20%20%20%20%20%20%20var%20marker_d56edf7a455e48e286f1d83930594585%20%3D%20L.marker%28%0A%20%20%20%20%20%20%20%20%20%20%20%20%5B69.3498394%2C%2088.200517%5D%2C%0A%20%20%20%20%20%20%20%20%20%20%20%20%7B%0A%20%20%20%20%20%20%20%20%20%20%20%20%20%20%20%20icon%3A%20new%20L.Icon.Default%28%29%2C%0A%20%20%20%20%20%20%20%20%20%20%20%20%20%20%20%20%7D%0A%20%20%20%20%20%20%20%20%20%20%20%20%29.addTo%28marker_cluster_29ad92a8fdf54505b730623161b75675%29%3B%0A%20%20%20%20%20%20%20%20%0A%20%20%20%20%0A%20%20%20%20%20%20%20%20marker_d56edf7a455e48e286f1d83930594585.bindTooltip%28%0A%20%20%20%20%20%20%20%20%20%20%20%20%60%3Cdiv%3E%60%0A%20%20%20%20%20%20%20%20%20%20%20%20%2B%20%60%5B2.29%2C%20%27%D0%9D%D0%BE%D1%80%D0%B8%D0%BB%D1%8C%D1%81%D0%BA%27%5D%60%20%2B%20%60%3C/div%3E%60%2C%0A%20%20%20%20%20%20%20%20%20%20%20%20%7B%22sticky%22%3A%20true%7D%0A%20%20%20%20%20%20%20%20%29%3B%0A%20%20%20%20%20%20%20%20%0A%20%20%20%20%0A%20%20%20%20%20%20%20%20var%20marker_6889d0da541f4523b9629e3504888d1e%20%3D%20L.marker%28%0A%20%20%20%20%20%20%20%20%20%20%20%20%5B63.1191178%2C%2075.34670351236167%5D%2C%0A%20%20%20%20%20%20%20%20%20%20%20%20%7B%0A%20%20%20%20%20%20%20%20%20%20%20%20%20%20%20%20icon%3A%20new%20L.Icon.Default%28%29%2C%0A%20%20%20%20%20%20%20%20%20%20%20%20%20%20%20%20%7D%0A%20%20%20%20%20%20%20%20%20%20%20%20%29.addTo%28marker_cluster_29ad92a8fdf54505b730623161b75675%29%3B%0A%20%20%20%20%20%20%20%20%0A%20%20%20%20%0A%20%20%20%20%20%20%20%20marker_6889d0da541f4523b9629e3504888d1e.bindTooltip%28%0A%20%20%20%20%20%20%20%20%20%20%20%20%60%3Cdiv%3E%60%0A%20%20%20%20%20%20%20%20%20%20%20%20%2B%20%60%5B3.0%2C%20%27%D0%9D%D0%BE%D1%8F%D0%B1%D1%80%D1%8C%D1%81%D0%BA%27%5D%60%20%2B%20%60%3C/div%3E%60%2C%0A%20%20%20%20%20%20%20%20%20%20%20%20%7B%22sticky%22%3A%20true%7D%0A%20%20%20%20%20%20%20%20%29%3B%0A%20%20%20%20%20%20%20%20%0A%20%20%20%20%0A%20%20%20%20%20%20%20%20var%20marker_95a2e225486548028995d3920d6ee71d%20%3D%20L.marker%28%0A%20%20%20%20%20%20%20%20%20%20%20%20%5B62.1445646%2C%2065.4349289%5D%2C%0A%20%20%20%20%20%20%20%20%20%20%20%20%7B%0A%20%20%20%20%20%20%20%20%20%20%20%20%20%20%20%20icon%3A%20new%20L.Icon.Default%28%29%2C%0A%20%20%20%20%20%20%20%20%20%20%20%20%20%20%20%20%7D%0A%20%20%20%20%20%20%20%20%20%20%20%20%29.addTo%28marker_cluster_29ad92a8fdf54505b730623161b75675%29%3B%0A%20%20%20%20%20%20%20%20%0A%20%20%20%20%0A%20%20%20%20%20%20%20%20marker_95a2e225486548028995d3920d6ee71d.bindTooltip%28%0A%20%20%20%20%20%20%20%20%20%20%20%20%60%3Cdiv%3E%60%0A%20%20%20%20%20%20%20%20%20%20%20%20%2B%20%60%5B1.0%2C%20%27%D0%9D%D1%8F%D0%B3%D0%B0%D0%BD%D1%8C%27%5D%60%20%2B%20%60%3C/div%3E%60%2C%0A%20%20%20%20%20%20%20%20%20%20%20%20%7B%22sticky%22%3A%20true%7D%0A%20%20%20%20%20%20%20%20%29%3B%0A%20%20%20%20%20%20%20%20%0A%20%20%20%20%0A%20%20%20%20%20%20%20%20var%20marker_bac0bb5566b540fb9005e47c889f9f31%20%3D%20L.marker%28%0A%20%20%20%20%20%20%20%20%20%20%20%20%5B54.991375%2C%2073.371529%5D%2C%0A%20%20%20%20%20%20%20%20%20%20%20%20%7B%0A%20%20%20%20%20%20%20%20%20%20%20%20%20%20%20%20icon%3A%20new%20L.Icon.Default%28%29%2C%0A%20%20%20%20%20%20%20%20%20%20%20%20%20%20%20%20%7D%0A%20%20%20%20%20%20%20%20%20%20%20%20%29.addTo%28marker_cluster_29ad92a8fdf54505b730623161b75675%29%3B%0A%20%20%20%20%20%20%20%20%0A%20%20%20%20%0A%20%20%20%20%20%20%20%20marker_bac0bb5566b540fb9005e47c889f9f31.bindTooltip%28%0A%20%20%20%20%20%20%20%20%20%20%20%20%60%3Cdiv%3E%60%0A%20%20%20%20%20%20%20%20%20%20%20%20%2B%20%60%5B3.29%2C%20%27%D0%9E%D0%BC%D1%81%D0%BA%27%5D%60%20%2B%20%60%3C/div%3E%60%2C%0A%20%20%20%20%20%20%20%20%20%20%20%20%7B%22sticky%22%3A%20true%7D%0A%20%20%20%20%20%20%20%20%29%3B%0A%20%20%20%20%20%20%20%20%0A%20%20%20%20%0A%20%20%20%20%20%20%20%20var%20marker_990026df0adc47adb03195614b55db11%20%3D%20L.marker%28%0A%20%20%20%20%20%20%20%20%20%20%20%20%5B51.767452%2C%2055.097118%5D%2C%0A%20%20%20%20%20%20%20%20%20%20%20%20%7B%0A%20%20%20%20%20%20%20%20%20%20%20%20%20%20%20%20icon%3A%20new%20L.Icon.Default%28%29%2C%0A%20%20%20%20%20%20%20%20%20%20%20%20%20%20%20%20%7D%0A%20%20%20%20%20%20%20%20%20%20%20%20%29.addTo%28marker_cluster_29ad92a8fdf54505b730623161b75675%29%3B%0A%20%20%20%20%20%20%20%20%0A%20%20%20%20%0A%20%20%20%20%20%20%20%20marker_990026df0adc47adb03195614b55db11.bindTooltip%28%0A%20%20%20%20%20%20%20%20%20%20%20%20%60%3Cdiv%3E%60%0A%20%20%20%20%20%20%20%20%20%20%20%20%2B%20%60%5B5.0%2C%20%27%D0%9E%D1%80%D0%B5%D0%BD%D0%B1%D1%83%D1%80%D0%B3%27%5D%60%20%2B%20%60%3C/div%3E%60%2C%0A%20%20%20%20%20%20%20%20%20%20%20%20%7B%22sticky%22%3A%20true%7D%0A%20%20%20%20%20%20%20%20%29%3B%0A%20%20%20%20%20%20%20%20%0A%20%20%20%20%0A%20%20%20%20%20%20%20%20var%20marker_f6393e276c0446b6bad57a74a1c70fde%20%3D%20L.marker%28%0A%20%20%20%20%20%20%20%20%20%20%20%20%5B51.2305015%2C%2058.4738015%5D%2C%0A%20%20%20%20%20%20%20%20%20%20%20%20%7B%0A%20%20%20%20%20%20%20%20%20%20%20%20%20%20%20%20icon%3A%20new%20L.Icon.Default%28%29%2C%0A%20%20%20%20%20%20%20%20%20%20%20%20%20%20%20%20%7D%0A%20%20%20%20%20%20%20%20%20%20%20%20%29.addTo%28marker_cluster_29ad92a8fdf54505b730623161b75675%29%3B%0A%20%20%20%20%20%20%20%20%0A%20%20%20%20%0A%20%20%20%20%20%20%20%20marker_f6393e276c0446b6bad57a74a1c70fde.bindTooltip%28%0A%20%20%20%20%20%20%20%20%20%20%20%20%60%3Cdiv%3E%60%0A%20%20%20%20%20%20%20%20%20%20%20%20%2B%20%60%5B1.59%2C%20%27%D0%9E%D1%80%D1%81%D0%BA%27%5D%60%20%2B%20%60%3C/div%3E%60%2C%0A%20%20%20%20%20%20%20%20%20%20%20%20%7B%22sticky%22%3A%20true%7D%0A%20%20%20%20%20%20%20%20%29%3B%0A%20%20%20%20%20%20%20%20%0A%20%20%20%20%0A%20%20%20%20%20%20%20%20var%20marker_09e76549386a488ea66681aab4d00e56%20%3D%20L.marker%28%0A%20%20%20%20%20%20%20%20%20%20%20%20%5B43.0765459%2C%2011.6789076%5D%2C%0A%20%20%20%20%20%20%20%20%20%20%20%20%7B%0A%20%20%20%20%20%20%20%20%20%20%20%20%20%20%20%20icon%3A%20new%20L.Icon.Default%28%29%2C%0A%20%20%20%20%20%20%20%20%20%20%20%20%20%20%20%20%7D%0A%20%20%20%20%20%20%20%20%20%20%20%20%29.addTo%28marker_cluster_29ad92a8fdf54505b730623161b75675%29%3B%0A%20%20%20%20%20%20%20%20%0A%20%20%20%20%0A%20%20%20%20%20%20%20%20marker_09e76549386a488ea66681aab4d00e56.bindTooltip%28%0A%20%20%20%20%20%20%20%20%20%20%20%20%60%3Cdiv%3E%60%0A%20%20%20%20%20%20%20%20%20%20%20%20%2B%20%60%5B4.0%2C%20%27%D0%9F%D0%B5%D0%BD%D0%B7%D0%B0%27%5D%60%20%2B%20%60%3C/div%3E%60%2C%0A%20%20%20%20%20%20%20%20%20%20%20%20%7B%22sticky%22%3A%20true%7D%0A%20%20%20%20%20%20%20%20%29%3B%0A%20%20%20%20%20%20%20%20%0A%20%20%20%20%0A%20%20%20%20%20%20%20%20var%20marker_6c5c3c6b9c1b487286670d917d84f182%20%3D%20L.marker%28%0A%20%20%20%20%20%20%20%20%20%20%20%20%5B58.0230679%2C%2056.232803119037456%5D%2C%0A%20%20%20%20%20%20%20%20%20%20%20%20%7B%0A%20%20%20%20%20%20%20%20%20%20%20%20%20%20%20%20icon%3A%20new%20L.Icon.Default%28%29%2C%0A%20%20%20%20%20%20%20%20%20%20%20%20%20%20%20%20%7D%0A%20%20%20%20%20%20%20%20%20%20%20%20%29.addTo%28marker_cluster_29ad92a8fdf54505b730623161b75675%29%3B%0A%20%20%20%20%20%20%20%20%0A%20%20%20%20%0A%20%20%20%20%20%20%20%20marker_6c5c3c6b9c1b487286670d917d84f182.bindTooltip%28%0A%20%20%20%20%20%20%20%20%20%20%20%20%60%3Cdiv%3E%60%0A%20%20%20%20%20%20%20%20%20%20%20%20%2B%20%60%5B10.13%2C%20%27%D0%9F%D0%B5%D1%80%D0%BC%D1%8C%27%5D%60%20%2B%20%60%3C/div%3E%60%2C%0A%20%20%20%20%20%20%20%20%20%20%20%20%7B%22sticky%22%3A%20true%7D%0A%20%20%20%20%20%20%20%20%29%3B%0A%20%20%20%20%20%20%20%20%0A%20%20%20%20%0A%20%20%20%20%20%20%20%20var%20marker_835b316e2eff4a3ca519a6f74e62c0bb%20%3D%20L.marker%28%0A%20%20%20%20%20%20%20%20%20%20%20%20%5B61.790039%2C%2034.390007%5D%2C%0A%20%20%20%20%20%20%20%20%20%20%20%20%7B%0A%20%20%20%20%20%20%20%20%20%20%20%20%20%20%20%20icon%3A%20new%20L.Icon.Default%28%29%2C%0A%20%20%20%20%20%20%20%20%20%20%20%20%20%20%20%20%7D%0A%20%20%20%20%20%20%20%20%20%20%20%20%29.addTo%28marker_cluster_29ad92a8fdf54505b730623161b75675%29%3B%0A%20%20%20%20%20%20%20%20%0A%20%20%20%20%0A%20%20%20%20%20%20%20%20marker_835b316e2eff4a3ca519a6f74e62c0bb.bindTooltip%28%0A%20%20%20%20%20%20%20%20%20%20%20%20%60%3Cdiv%3E%60%0A%20%20%20%20%20%20%20%20%20%20%20%20%2B%20%60%5B5.87%2C%20%27%D0%9F%D0%B5%D1%82%D1%80%D0%BE%D0%B7%D0%B0%D0%B2%D0%BE%D0%B4%D1%81%D0%BA%27%5D%60%20%2B%20%60%3C/div%3E%60%2C%0A%20%20%20%20%20%20%20%20%20%20%20%20%7B%22sticky%22%3A%20true%7D%0A%20%20%20%20%20%20%20%20%29%3B%0A%20%20%20%20%20%20%20%20%0A%20%20%20%20%0A%20%20%20%20%20%20%20%20var%20marker_ae3c47d484e0421c8d04961864fa994c%20%3D%20L.marker%28%0A%20%20%20%20%20%20%20%20%20%20%20%20%5B53.0199838%2C%20158.6471356%5D%2C%0A%20%20%20%20%20%20%20%20%20%20%20%20%7B%0A%20%20%20%20%20%20%20%20%20%20%20%20%20%20%20%20icon%3A%20new%20L.Icon.Default%28%29%2C%0A%20%20%20%20%20%20%20%20%20%20%20%20%20%20%20%20%7D%0A%20%20%20%20%20%20%20%20%20%20%20%20%29.addTo%28marker_cluster_29ad92a8fdf54505b730623161b75675%29%3B%0A%20%20%20%20%20%20%20%20%0A%20%20%20%20%0A%20%20%20%20%20%20%20%20marker_ae3c47d484e0421c8d04961864fa994c.bindTooltip%28%0A%20%20%20%20%20%20%20%20%20%20%20%20%60%3Cdiv%3E%60%0A%20%20%20%20%20%20%20%20%20%20%20%20%2B%20%60%5B1.0%2C%20%27%D0%9F%D0%B5%D1%82%D1%80%D0%BE%D0%BF%D0%B0%D0%B2%D0%BB%D0%BE%D0%B2%D1%81%D0%BA-%D0%9A%D0%B0%D0%BC%D1%87%D0%B0%D1%82%D1%81%D0%BA%D0%B8%D0%B9%27%5D%60%20%2B%20%60%3C/div%3E%60%2C%0A%20%20%20%20%20%20%20%20%20%20%20%20%7B%22sticky%22%3A%20true%7D%0A%20%20%20%20%20%20%20%20%29%3B%0A%20%20%20%20%20%20%20%20%0A%20%20%20%20%0A%20%20%20%20%20%20%20%20var%20marker_a79a108bcbba4d6d810e46cb2409d1b8%20%3D%20L.marker%28%0A%20%20%20%20%20%20%20%20%20%20%20%20%5B57.817398%2C%2028.334368%5D%2C%0A%20%20%20%20%20%20%20%20%20%20%20%20%7B%0A%20%20%20%20%20%20%20%20%20%20%20%20%20%20%20%20icon%3A%20new%20L.Icon.Default%28%29%2C%0A%20%20%20%20%20%20%20%20%20%20%20%20%20%20%20%20%7D%0A%20%20%20%20%20%20%20%20%20%20%20%20%29.addTo%28marker_cluster_29ad92a8fdf54505b730623161b75675%29%3B%0A%20%20%20%20%20%20%20%20%0A%20%20%20%20%0A%20%20%20%20%20%20%20%20marker_a79a108bcbba4d6d810e46cb2409d1b8.bindTooltip%28%0A%20%20%20%20%20%20%20%20%20%20%20%20%60%3Cdiv%3E%60%0A%20%20%20%20%20%20%20%20%20%20%20%20%2B%20%60%5B1.55%2C%20%27%D0%9F%D1%81%D0%BA%D0%BE%D0%B2%27%5D%60%20%2B%20%60%3C/div%3E%60%2C%0A%20%20%20%20%20%20%20%20%20%20%20%20%7B%22sticky%22%3A%20true%7D%0A%20%20%20%20%20%20%20%20%29%3B%0A%20%20%20%20%20%20%20%20%0A%20%20%20%20%0A%20%20%20%20%20%20%20%20var%20marker_6f3fdf14932241c69b13c5d7aa6fe6c3%20%3D%20L.marker%28%0A%20%20%20%20%20%20%20%20%20%20%20%20%5B47.2213858%2C%2039.7114196%5D%2C%0A%20%20%20%20%20%20%20%20%20%20%20%20%7B%0A%20%20%20%20%20%20%20%20%20%20%20%20%20%20%20%20icon%3A%20new%20L.Icon.Default%28%29%2C%0A%20%20%20%20%20%20%20%20%20%20%20%20%20%20%20%20%7D%0A%20%20%20%20%20%20%20%20%20%20%20%20%29.addTo%28marker_cluster_29ad92a8fdf54505b730623161b75675%29%3B%0A%20%20%20%20%20%20%20%20%0A%20%20%20%20%0A%20%20%20%20%20%20%20%20marker_6f3fdf14932241c69b13c5d7aa6fe6c3.bindTooltip%28%0A%20%20%20%20%20%20%20%20%20%20%20%20%60%3Cdiv%3E%60%0A%20%20%20%20%20%20%20%20%20%20%20%20%2B%20%60%5B10.19%2C%20%27%D0%A0%D0%BE%D1%81%D1%82%D0%BE%D0%B2-%D0%BD%D0%B0-%D0%94%D0%BE%D0%BD%D1%83%27%5D%60%20%2B%20%60%3C/div%3E%60%2C%0A%20%20%20%20%20%20%20%20%20%20%20%20%7B%22sticky%22%3A%20true%7D%0A%20%20%20%20%20%20%20%20%29%3B%0A%20%20%20%20%20%20%20%20%0A%20%20%20%20%0A%20%20%20%20%20%20%20%20var%20marker_ebb58355a702469780328e8848ef24e3%20%3D%20L.marker%28%0A%20%20%20%20%20%20%20%20%20%20%20%20%5B66.5375387%2C%2066.6157469%5D%2C%0A%20%20%20%20%20%20%20%20%20%20%20%20%7B%0A%20%20%20%20%20%20%20%20%20%20%20%20%20%20%20%20icon%3A%20new%20L.Icon.Default%28%29%2C%0A%20%20%20%20%20%20%20%20%20%20%20%20%20%20%20%20%7D%0A%20%20%20%20%20%20%20%20%20%20%20%20%29.addTo%28marker_cluster_29ad92a8fdf54505b730623161b75675%29%3B%0A%20%20%20%20%20%20%20%20%0A%20%20%20%20%0A%20%20%20%20%20%20%20%20marker_ebb58355a702469780328e8848ef24e3.bindTooltip%28%0A%20%20%20%20%20%20%20%20%20%20%20%20%60%3Cdiv%3E%60%0A%20%20%20%20%20%20%20%20%20%20%20%20%2B%20%60%5B2.0%2C%20%27%D0%A1%D0%B0%D0%BB%D0%B5%D1%85%D0%B0%D1%80%D0%B4%27%5D%60%20%2B%20%60%3C/div%3E%60%2C%0A%20%20%20%20%20%20%20%20%20%20%20%20%7B%22sticky%22%3A%20true%7D%0A%20%20%20%20%20%20%20%20%29%3B%0A%20%20%20%20%20%20%20%20%0A%20%20%20%20%0A%20%20%20%20%20%20%20%20var%20marker_e68f817f78424eaf9b0ddd0671873db1%20%3D%20L.marker%28%0A%20%20%20%20%20%20%20%20%20%20%20%20%5B53.198627%2C%2050.113987%5D%2C%0A%20%20%20%20%20%20%20%20%20%20%20%20%7B%0A%20%20%20%20%20%20%20%20%20%20%20%20%20%20%20%20icon%3A%20new%20L.Icon.Default%28%29%2C%0A%20%20%20%20%20%20%20%20%20%20%20%20%20%20%20%20%7D%0A%20%20%20%20%20%20%20%20%20%20%20%20%29.addTo%28marker_cluster_29ad92a8fdf54505b730623161b75675%29%3B%0A%20%20%20%20%20%20%20%20%0A%20%20%20%20%0A%20%20%20%20%20%20%20%20marker_e68f817f78424eaf9b0ddd0671873db1.bindTooltip%28%0A%20%20%20%20%20%20%20%20%20%20%20%20%60%3Cdiv%3E%60%0A%20%20%20%20%20%20%20%20%20%20%20%20%2B%20%60%5B3.0%2C%20%27%D0%A1%D0%B0%D0%BC%D0%B0%D1%80%D0%B0%27%5D%60%20%2B%20%60%3C/div%3E%60%2C%0A%20%20%20%20%20%20%20%20%20%20%20%20%7B%22sticky%22%3A%20true%7D%0A%20%20%20%20%20%20%20%20%29%3B%0A%20%20%20%20%20%20%20%20%0A%20%20%20%20%0A%20%20%20%20%20%20%20%20var%20marker_69655ae2189a4feab1371c9c484de36e%20%3D%20L.marker%28%0A%20%20%20%20%20%20%20%20%20%20%20%20%5B59.938732%2C%2030.316229%5D%2C%0A%20%20%20%20%20%20%20%20%20%20%20%20%7B%0A%20%20%20%20%20%20%20%20%20%20%20%20%20%20%20%20icon%3A%20new%20L.Icon.Default%28%29%2C%0A%20%20%20%20%20%20%20%20%20%20%20%20%20%20%20%20%7D%0A%20%20%20%20%20%20%20%20%20%20%20%20%29.addTo%28marker_cluster_29ad92a8fdf54505b730623161b75675%29%3B%0A%20%20%20%20%20%20%20%20%0A%20%20%20%20%0A%20%20%20%20%20%20%20%20marker_69655ae2189a4feab1371c9c484de36e.bindTooltip%28%0A%20%20%20%20%20%20%20%20%20%20%20%20%60%3Cdiv%3E%60%0A%20%20%20%20%20%20%20%20%20%20%20%20%2B%20%60%5B31.16%2C%20%27%D0%A1%D0%B0%D0%BD%D0%BA%D1%82-%D0%9F%D0%B5%D1%82%D0%B5%D1%80%D0%B1%D1%83%D1%80%D0%B3%27%5D%60%20%2B%20%60%3C/div%3E%60%2C%0A%20%20%20%20%20%20%20%20%20%20%20%20%7B%22sticky%22%3A%20true%7D%0A%20%20%20%20%20%20%20%20%29%3B%0A%20%20%20%20%20%20%20%20%0A%20%20%20%20%0A%20%20%20%20%20%20%20%20var%20marker_133e58db778443709f0c854fcd1de26b%20%3D%20L.marker%28%0A%20%20%20%20%20%20%20%20%20%20%20%20%5B54.18671%2C%2045.18383%5D%2C%0A%20%20%20%20%20%20%20%20%20%20%20%20%7B%0A%20%20%20%20%20%20%20%20%20%20%20%20%20%20%20%20icon%3A%20new%20L.Icon.Default%28%29%2C%0A%20%20%20%20%20%20%20%20%20%20%20%20%20%20%20%20%7D%0A%20%20%20%20%20%20%20%20%20%20%20%20%29.addTo%28marker_cluster_29ad92a8fdf54505b730623161b75675%29%3B%0A%20%20%20%20%20%20%20%20%0A%20%20%20%20%0A%20%20%20%20%20%20%20%20marker_133e58db778443709f0c854fcd1de26b.bindTooltip%28%0A%20%20%20%20%20%20%20%20%20%20%20%20%60%3Cdiv%3E%60%0A%20%20%20%20%20%20%20%20%20%20%20%20%2B%20%60%5B2.0%2C%20%27%D0%A1%D0%B0%D1%80%D0%B0%D0%BD%D1%81%D0%BA%27%5D%60%20%2B%20%60%3C/div%3E%60%2C%0A%20%20%20%20%20%20%20%20%20%20%20%20%7B%22sticky%22%3A%20true%7D%0A%20%20%20%20%20%20%20%20%29%3B%0A%20%20%20%20%20%20%20%20%0A%20%20%20%20%0A%20%20%20%20%20%20%20%20var%20marker_f834adfad0a3493a81467d2dc01e84ce%20%3D%20L.marker%28%0A%20%20%20%20%20%20%20%20%20%20%20%20%5B51.53952715%2C%2046.03338615081432%5D%2C%0A%20%20%20%20%20%20%20%20%20%20%20%20%7B%0A%20%20%20%20%20%20%20%20%20%20%20%20%20%20%20%20icon%3A%20new%20L.Icon.Default%28%29%2C%0A%20%20%20%20%20%20%20%20%20%20%20%20%20%20%20%20%7D%0A%20%20%20%20%20%20%20%20%20%20%20%20%29.addTo%28marker_cluster_29ad92a8fdf54505b730623161b75675%29%3B%0A%20%20%20%20%20%20%20%20%0A%20%20%20%20%0A%20%20%20%20%20%20%20%20marker_f834adfad0a3493a81467d2dc01e84ce.bindTooltip%28%0A%20%20%20%20%20%20%20%20%20%20%20%20%60%3Cdiv%3E%60%0A%20%20%20%20%20%20%20%20%20%20%20%20%2B%20%60%5B4.0%2C%20%27%D0%A1%D0%B0%D1%80%D0%B0%D1%82%D0%BE%D0%B2%27%5D%60%20%2B%20%60%3C/div%3E%60%2C%0A%20%20%20%20%20%20%20%20%20%20%20%20%7B%22sticky%22%3A%20true%7D%0A%20%20%20%20%20%20%20%20%29%3B%0A%20%20%20%20%20%20%20%20%0A%20%20%20%20%0A%20%20%20%20%20%20%20%20var%20marker_5daf0a381bd44093937ca7b1bff5b0f8%20%3D%20L.marker%28%0A%20%20%20%20%20%20%20%20%20%20%20%20%5B61.362099%2C%2063.57354%5D%2C%0A%20%20%20%20%20%20%20%20%20%20%20%20%7B%0A%20%20%20%20%20%20%20%20%20%20%20%20%20%20%20%20icon%3A%20new%20L.Icon.Default%28%29%2C%0A%20%20%20%20%20%20%20%20%20%20%20%20%20%20%20%20%7D%0A%20%20%20%20%20%20%20%20%20%20%20%20%29.addTo%28marker_cluster_29ad92a8fdf54505b730623161b75675%29%3B%0A%20%20%20%20%20%20%20%20%0A%20%20%20%20%0A%20%20%20%20%20%20%20%20marker_5daf0a381bd44093937ca7b1bff5b0f8.bindTooltip%28%0A%20%20%20%20%20%20%20%20%20%20%20%20%60%3Cdiv%3E%60%0A%20%20%20%20%20%20%20%20%20%20%20%20%2B%20%60%5B9.0%2C%20%27%D0%A1%D0%BE%D0%B2%D0%B5%D1%82%D1%81%D0%BA%D0%B8%D0%B9%27%5D%60%20%2B%20%60%3C/div%3E%60%2C%0A%20%20%20%20%20%20%20%20%20%20%20%20%7B%22sticky%22%3A%20true%7D%0A%20%20%20%20%20%20%20%20%29%3B%0A%20%20%20%20%20%20%20%20%0A%20%20%20%20%0A%20%20%20%20%20%20%20%20var%20marker_0d42c3396dfb4267bf43e600f568f2c9%20%3D%20L.marker%28%0A%20%20%20%20%20%20%20%20%20%20%20%20%5B43.5854823%2C%2039.723109%5D%2C%0A%20%20%20%20%20%20%20%20%20%20%20%20%7B%0A%20%20%20%20%20%20%20%20%20%20%20%20%20%20%20%20icon%3A%20new%20L.Icon.Default%28%29%2C%0A%20%20%20%20%20%20%20%20%20%20%20%20%20%20%20%20%7D%0A%20%20%20%20%20%20%20%20%20%20%20%20%29.addTo%28marker_cluster_29ad92a8fdf54505b730623161b75675%29%3B%0A%20%20%20%20%20%20%20%20%0A%20%20%20%20%0A%20%20%20%20%20%20%20%20marker_0d42c3396dfb4267bf43e600f568f2c9.bindTooltip%28%0A%20%20%20%20%20%20%20%20%20%20%20%20%60%3Cdiv%3E%60%0A%20%20%20%20%20%20%20%20%20%20%20%20%2B%20%60%5B9.61%2C%20%27%D0%A1%D0%BE%D1%87%D0%B8%27%5D%60%20%2B%20%60%3C/div%3E%60%2C%0A%20%20%20%20%20%20%20%20%20%20%20%20%7B%22sticky%22%3A%20true%7D%0A%20%20%20%20%20%20%20%20%29%3B%0A%20%20%20%20%20%20%20%20%0A%20%20%20%20%0A%20%20%20%20%20%20%20%20var%20marker_58f05504afc344199a207e90ed0c221b%20%3D%20L.marker%28%0A%20%20%20%20%20%20%20%20%20%20%20%20%5B45.0433245%2C%2041.9690934%5D%2C%0A%20%20%20%20%20%20%20%20%20%20%20%20%7B%0A%20%20%20%20%20%20%20%20%20%20%20%20%20%20%20%20icon%3A%20new%20L.Icon.Default%28%29%2C%0A%20%20%20%20%20%20%20%20%20%20%20%20%20%20%20%20%7D%0A%20%20%20%20%20%20%20%20%20%20%20%20%29.addTo%28marker_cluster_29ad92a8fdf54505b730623161b75675%29%3B%0A%20%20%20%20%20%20%20%20%0A%20%20%20%20%0A%20%20%20%20%20%20%20%20marker_58f05504afc344199a207e90ed0c221b.bindTooltip%28%0A%20%20%20%20%20%20%20%20%20%20%20%20%60%3Cdiv%3E%60%0A%20%20%20%20%20%20%20%20%20%20%20%20%2B%20%60%5B2.0%2C%20%27%D0%A1%D1%82%D0%B0%D0%B2%D1%80%D0%BE%D0%BF%D0%BE%D0%BB%D1%8C%27%5D%60%20%2B%20%60%3C/div%3E%60%2C%0A%20%20%20%20%20%20%20%20%20%20%20%20%7B%22sticky%22%3A%20true%7D%0A%20%20%20%20%20%20%20%20%29%3B%0A%20%20%20%20%20%20%20%20%0A%20%20%20%20%0A%20%20%20%20%20%20%20%20var%20marker_1d731d061e5646f29290fbca3b257eab%20%3D%20L.marker%28%0A%20%20%20%20%20%20%20%20%20%20%20%20%5B60.732758%2C%2077.600807%5D%2C%0A%20%20%20%20%20%20%20%20%20%20%20%20%7B%0A%20%20%20%20%20%20%20%20%20%20%20%20%20%20%20%20icon%3A%20new%20L.Icon.Default%28%29%2C%0A%20%20%20%20%20%20%20%20%20%20%20%20%20%20%20%20%7D%0A%20%20%20%20%20%20%20%20%20%20%20%20%29.addTo%28marker_cluster_29ad92a8fdf54505b730623161b75675%29%3B%0A%20%20%20%20%20%20%20%20%0A%20%20%20%20%0A%20%20%20%20%20%20%20%20marker_1d731d061e5646f29290fbca3b257eab.bindTooltip%28%0A%20%20%20%20%20%20%20%20%20%20%20%20%60%3Cdiv%3E%60%0A%20%20%20%20%20%20%20%20%20%20%20%20%2B%20%60%5B1.0%2C%20%27%D0%A1%D1%82%D1%80%D0%B5%D0%B6%D0%B5%D0%B2%D0%BE%D0%B9%27%5D%60%20%2B%20%60%3C/div%3E%60%2C%0A%20%20%20%20%20%20%20%20%20%20%20%20%7B%22sticky%22%3A%20true%7D%0A%20%20%20%20%20%20%20%20%29%3B%0A%20%20%20%20%20%20%20%20%0A%20%20%20%20%0A%20%20%20%20%20%20%20%20var%20marker_a8d90440c009466f9aa53882796a9e04%20%3D%20L.marker%28%0A%20%20%20%20%20%20%20%20%20%20%20%20%5B61.254032%2C%2073.3964%5D%2C%0A%20%20%20%20%20%20%20%20%20%20%20%20%7B%0A%20%20%20%20%20%20%20%20%20%20%20%20%20%20%20%20icon%3A%20new%20L.Icon.Default%28%29%2C%0A%20%20%20%20%20%20%20%20%20%20%20%20%20%20%20%20%7D%0A%20%20%20%20%20%20%20%20%20%20%20%20%29.addTo%28marker_cluster_29ad92a8fdf54505b730623161b75675%29%3B%0A%20%20%20%20%20%20%20%20%0A%20%20%20%20%0A%20%20%20%20%20%20%20%20marker_a8d90440c009466f9aa53882796a9e04.bindTooltip%28%0A%20%20%20%20%20%20%20%20%20%20%20%20%60%3Cdiv%3E%60%0A%20%20%20%20%20%20%20%20%20%20%20%20%2B%20%60%5B8.74%2C%20%27%D0%A1%D1%83%D1%80%D0%B3%D1%83%D1%82%27%5D%60%20%2B%20%60%3C/div%3E%60%2C%0A%20%20%20%20%20%20%20%20%20%20%20%20%7B%22sticky%22%3A%20true%7D%0A%20%20%20%20%20%20%20%20%29%3B%0A%20%20%20%20%20%20%20%20%0A%20%20%20%20%0A%20%20%20%20%20%20%20%20var%20marker_a2b3f4d882f34e9dbf124611cdf63437%20%3D%20L.marker%28%0A%20%20%20%20%20%20%20%20%20%20%20%20%5B61.6685237%2C%2050.8352024%5D%2C%0A%20%20%20%20%20%20%20%20%20%20%20%20%7B%0A%20%20%20%20%20%20%20%20%20%20%20%20%20%20%20%20icon%3A%20new%20L.Icon.Default%28%29%2C%0A%20%20%20%20%20%20%20%20%20%20%20%20%20%20%20%20%7D%0A%20%20%20%20%20%20%20%20%20%20%20%20%29.addTo%28marker_cluster_29ad92a8fdf54505b730623161b75675%29%3B%0A%20%20%20%20%20%20%20%20%0A%20%20%20%20%0A%20%20%20%20%20%20%20%20marker_a2b3f4d882f34e9dbf124611cdf63437.bindTooltip%28%0A%20%20%20%20%20%20%20%20%20%20%20%20%60%3Cdiv%3E%60%0A%20%20%20%20%20%20%20%20%20%20%20%20%2B%20%60%5B4.13%2C%20%27%D0%A1%D1%8B%D0%BA%D1%82%D1%8B%D0%B2%D0%BA%D0%B0%D1%80%27%5D%60%20%2B%20%60%3C/div%3E%60%2C%0A%20%20%20%20%20%20%20%20%20%20%20%20%7B%22sticky%22%3A%20true%7D%0A%20%20%20%20%20%20%20%20%29%3B%0A%20%20%20%20%20%20%20%20%0A%20%20%20%20%0A%20%20%20%20%20%20%20%20var%20marker_002968d8b1c84daaabc75b29bb39cbf3%20%3D%20L.marker%28%0A%20%20%20%20%20%20%20%20%20%20%20%20%5B52.72879%2C%2041.45536%5D%2C%0A%20%20%20%20%20%20%20%20%20%20%20%20%7B%0A%20%20%20%20%20%20%20%20%20%20%20%20%20%20%20%20icon%3A%20new%20L.Icon.Default%28%29%2C%0A%20%20%20%20%20%20%20%20%20%20%20%20%20%20%20%20%7D%0A%20%20%20%20%20%20%20%20%20%20%20%20%29.addTo%28marker_cluster_29ad92a8fdf54505b730623161b75675%29%3B%0A%20%20%20%20%20%20%20%20%0A%20%20%20%20%0A%20%20%20%20%20%20%20%20marker_002968d8b1c84daaabc75b29bb39cbf3.bindTooltip%28%0A%20%20%20%20%20%20%20%20%20%20%20%20%60%3Cdiv%3E%60%0A%20%20%20%20%20%20%20%20%20%20%20%20%2B%20%60%5B4.0%2C%20%27%D0%A2%D0%B0%D0%BC%D0%B1%D0%BE%D0%B2%27%5D%60%20%2B%20%60%3C/div%3E%60%2C%0A%20%20%20%20%20%20%20%20%20%20%20%20%7B%22sticky%22%3A%20true%7D%0A%20%20%20%20%20%20%20%20%29%3B%0A%20%20%20%20%20%20%20%20%0A%20%20%20%20%0A%20%20%20%20%20%20%20%20var%20marker_5bd94cf52bad4cadb8a10218c3df9c72%20%3D%20L.marker%28%0A%20%20%20%20%20%20%20%20%20%20%20%20%5B58.6124279%2C%2082.0475315%5D%2C%0A%20%20%20%20%20%20%20%20%20%20%20%20%7B%0A%20%20%20%20%20%20%20%20%20%20%20%20%20%20%20%20icon%3A%20new%20L.Icon.Default%28%29%2C%0A%20%20%20%20%20%20%20%20%20%20%20%20%20%20%20%20%7D%0A%20%20%20%20%20%20%20%20%20%20%20%20%29.addTo%28marker_cluster_29ad92a8fdf54505b730623161b75675%29%3B%0A%20%20%20%20%20%20%20%20%0A%20%20%20%20%0A%20%20%20%20%20%20%20%20marker_5bd94cf52bad4cadb8a10218c3df9c72.bindTooltip%28%0A%20%20%20%20%20%20%20%20%20%20%20%20%60%3Cdiv%3E%60%0A%20%20%20%20%20%20%20%20%20%20%20%20%2B%20%60%5B4.19%2C%20%27%D0%A2%D0%BE%D0%BC%D1%81%D0%BA%27%5D%60%20%2B%20%60%3C/div%3E%60%2C%0A%20%20%20%20%20%20%20%20%20%20%20%20%7B%22sticky%22%3A%20true%7D%0A%20%20%20%20%20%20%20%20%29%3B%0A%20%20%20%20%20%20%20%20%0A%20%20%20%20%0A%20%20%20%20%20%20%20%20var%20marker_d45892327d584f1abaa9079397be8d81%20%3D%20L.marker%28%0A%20%20%20%20%20%20%20%20%20%20%20%20%5B57.153534%2C%2065.542274%5D%2C%0A%20%20%20%20%20%20%20%20%20%20%20%20%7B%0A%20%20%20%20%20%20%20%20%20%20%20%20%20%20%20%20icon%3A%20new%20L.Icon.Default%28%29%2C%0A%20%20%20%20%20%20%20%20%20%20%20%20%20%20%20%20%7D%0A%20%20%20%20%20%20%20%20%20%20%20%20%29.addTo%28marker_cluster_29ad92a8fdf54505b730623161b75675%29%3B%0A%20%20%20%20%20%20%20%20%0A%20%20%20%20%0A%20%20%20%20%20%20%20%20marker_d45892327d584f1abaa9079397be8d81.bindTooltip%28%0A%20%20%20%20%20%20%20%20%20%20%20%20%60%3Cdiv%3E%60%0A%20%20%20%20%20%20%20%20%20%20%20%20%2B%20%60%5B6.97%2C%20%27%D0%A2%D1%8E%D0%BC%D0%B5%D0%BD%D1%8C%27%5D%60%20%2B%20%60%3C/div%3E%60%2C%0A%20%20%20%20%20%20%20%20%20%20%20%20%7B%22sticky%22%3A%20true%7D%0A%20%20%20%20%20%20%20%20%29%3B%0A%20%20%20%20%20%20%20%20%0A%20%20%20%20%0A%20%20%20%20%20%20%20%20var%20marker_b18278ac43fe49e39fbef622f8c5bd7c%20%3D%20L.marker%28%0A%20%20%20%20%20%20%20%20%20%20%20%20%5B66.411768%2C%20112.2517294%5D%2C%0A%20%20%20%20%20%20%20%20%20%20%20%20%7B%0A%20%20%20%20%20%20%20%20%20%20%20%20%20%20%20%20icon%3A%20new%20L.Icon.Default%28%29%2C%0A%20%20%20%20%20%20%20%20%20%20%20%20%20%20%20%20%7D%0A%20%20%20%20%20%20%20%20%20%20%20%20%29.addTo%28marker_cluster_29ad92a8fdf54505b730623161b75675%29%3B%0A%20%20%20%20%20%20%20%20%0A%20%20%20%20%0A%20%20%20%20%20%20%20%20marker_b18278ac43fe49e39fbef622f8c5bd7c.bindTooltip%28%0A%20%20%20%20%20%20%20%20%20%20%20%20%60%3Cdiv%3E%60%0A%20%20%20%20%20%20%20%20%20%20%20%20%2B%20%60%5B3.0%2C%20%27%D0%A3%D0%B4%D0%B0%D1%87%D0%BD%D1%8B%D0%B9%27%5D%60%20%2B%20%60%3C/div%3E%60%2C%0A%20%20%20%20%20%20%20%20%20%20%20%20%7B%22sticky%22%3A%20true%7D%0A%20%20%20%20%20%20%20%20%29%3B%0A%20%20%20%20%20%20%20%20%0A%20%20%20%20%0A%20%20%20%20%20%20%20%20var%20marker_6fb197b6cba0494c842be75456e58a7f%20%3D%20L.marker%28%0A%20%20%20%20%20%20%20%20%20%20%20%20%5B51.8357841%2C%20107.5839105%5D%2C%0A%20%20%20%20%20%20%20%20%20%20%20%20%7B%0A%20%20%20%20%20%20%20%20%20%20%20%20%20%20%20%20icon%3A%20new%20L.Icon.Default%28%29%2C%0A%20%20%20%20%20%20%20%20%20%20%20%20%20%20%20%20%7D%0A%20%20%20%20%20%20%20%20%20%20%20%20%29.addTo%28marker_cluster_29ad92a8fdf54505b730623161b75675%29%3B%0A%20%20%20%20%20%20%20%20%0A%20%20%20%20%0A%20%20%20%20%20%20%20%20marker_6fb197b6cba0494c842be75456e58a7f.bindTooltip%28%0A%20%20%20%20%20%20%20%20%20%20%20%20%60%3Cdiv%3E%60%0A%20%20%20%20%20%20%20%20%20%20%20%20%2B%20%60%5B1.61%2C%20%27%D0%A3%D0%BB%D0%B0%D0%BD-%D0%A3%D0%B4%D1%8D%27%5D%60%20%2B%20%60%3C/div%3E%60%2C%0A%20%20%20%20%20%20%20%20%20%20%20%20%7B%22sticky%22%3A%20true%7D%0A%20%20%20%20%20%20%20%20%29%3B%0A%20%20%20%20%20%20%20%20%0A%20%20%20%20%0A%20%20%20%20%20%20%20%20var%20marker_6c708fe363f54e1088a9e2382d6efb5f%20%3D%20L.marker%28%0A%20%20%20%20%20%20%20%20%20%20%20%20%5B54.1463177%2C%2047.2324921%5D%2C%0A%20%20%20%20%20%20%20%20%20%20%20%20%7B%0A%20%20%20%20%20%20%20%20%20%20%20%20%20%20%20%20icon%3A%20new%20L.Icon.Default%28%29%2C%0A%20%20%20%20%20%20%20%20%20%20%20%20%20%20%20%20%7D%0A%20%20%20%20%20%20%20%20%20%20%20%20%29.addTo%28marker_cluster_29ad92a8fdf54505b730623161b75675%29%3B%0A%20%20%20%20%20%20%20%20%0A%20%20%20%20%0A%20%20%20%20%20%20%20%20marker_6c708fe363f54e1088a9e2382d6efb5f.bindTooltip%28%0A%20%20%20%20%20%20%20%20%20%20%20%20%60%3Cdiv%3E%60%0A%20%20%20%20%20%20%20%20%20%20%20%20%2B%20%60%5B9.58%2C%20%27%D0%A3%D0%BB%D1%8C%D1%8F%D0%BD%D0%BE%D0%B2%D1%81%D0%BA%27%5D%60%20%2B%20%60%3C/div%3E%60%2C%0A%20%20%20%20%20%20%20%20%20%20%20%20%7B%22sticky%22%3A%20true%7D%0A%20%20%20%20%20%20%20%20%29%3B%0A%20%20%20%20%20%20%20%20%0A%20%20%20%20%0A%20%20%20%20%20%20%20%20var%20marker_5e3400d71c344c099baecb55cea39122%20%3D%20L.marker%28%0A%20%20%20%20%20%20%20%20%20%20%20%20%5B60.12912%2C%2064.803627%5D%2C%0A%20%20%20%20%20%20%20%20%20%20%20%20%7B%0A%20%20%20%20%20%20%20%20%20%20%20%20%20%20%20%20icon%3A%20new%20L.Icon.Default%28%29%2C%0A%20%20%20%20%20%20%20%20%20%20%20%20%20%20%20%20%7D%0A%20%20%20%20%20%20%20%20%20%20%20%20%29.addTo%28marker_cluster_29ad92a8fdf54505b730623161b75675%29%3B%0A%20%20%20%20%20%20%20%20%0A%20%20%20%20%0A%20%20%20%20%20%20%20%20marker_5e3400d71c344c099baecb55cea39122.bindTooltip%28%0A%20%20%20%20%20%20%20%20%20%20%20%20%60%3Cdiv%3E%60%0A%20%20%20%20%20%20%20%20%20%20%20%20%2B%20%60%5B2.0%2C%20%27%D0%A3%D1%80%D0%B0%D0%B9%27%5D%60%20%2B%20%60%3C/div%3E%60%2C%0A%20%20%20%20%20%20%20%20%20%20%20%20%7B%22sticky%22%3A%20true%7D%0A%20%20%20%20%20%20%20%20%29%3B%0A%20%20%20%20%20%20%20%20%0A%20%20%20%20%0A%20%20%20%20%20%20%20%20var%20marker_79721dd51b7f40b1b43aff7bb818dd98%20%3D%20L.marker%28%0A%20%20%20%20%20%20%20%20%20%20%20%20%5B65.995731%2C%2057.5571267%5D%2C%0A%20%20%20%20%20%20%20%20%20%20%20%20%7B%0A%20%20%20%20%20%20%20%20%20%20%20%20%20%20%20%20icon%3A%20new%20L.Icon.Default%28%29%2C%0A%20%20%20%20%20%20%20%20%20%20%20%20%20%20%20%20%7D%0A%20%20%20%20%20%20%20%20%20%20%20%20%29.addTo%28marker_cluster_29ad92a8fdf54505b730623161b75675%29%3B%0A%20%20%20%20%20%20%20%20%0A%20%20%20%20%0A%20%20%20%20%20%20%20%20marker_79721dd51b7f40b1b43aff7bb818dd98.bindTooltip%28%0A%20%20%20%20%20%20%20%20%20%20%20%20%60%3Cdiv%3E%60%0A%20%20%20%20%20%20%20%20%20%20%20%20%2B%20%60%5B1.0%2C%20%27%D0%A3%D1%81%D0%B8%D0%BD%D1%81%D0%BA%27%5D%60%20%2B%20%60%3C/div%3E%60%2C%0A%20%20%20%20%20%20%20%20%20%20%20%20%7B%22sticky%22%3A%20true%7D%0A%20%20%20%20%20%20%20%20%29%3B%0A%20%20%20%20%20%20%20%20%0A%20%20%20%20%0A%20%20%20%20%20%20%20%20var%20marker_14b2ee74bf3e4f1dabb0b42bdd58f962%20%3D%20L.marker%28%0A%20%20%20%20%20%20%20%20%20%20%20%20%5B57.959473%2C%20102.734192%5D%2C%0A%20%20%20%20%20%20%20%20%20%20%20%20%7B%0A%20%20%20%20%20%20%20%20%20%20%20%20%20%20%20%20icon%3A%20new%20L.Icon.Default%28%29%2C%0A%20%20%20%20%20%20%20%20%20%20%20%20%20%20%20%20%7D%0A%20%20%20%20%20%20%20%20%20%20%20%20%29.addTo%28marker_cluster_29ad92a8fdf54505b730623161b75675%29%3B%0A%20%20%20%20%20%20%20%20%0A%20%20%20%20%0A%20%20%20%20%20%20%20%20marker_14b2ee74bf3e4f1dabb0b42bdd58f962.bindTooltip%28%0A%20%20%20%20%20%20%20%20%20%20%20%20%60%3Cdiv%3E%60%0A%20%20%20%20%20%20%20%20%20%20%20%20%2B%20%60%5B2.87%2C%20%27%D0%A3%D1%81%D1%82%D1%8C-%D0%98%D0%BB%D0%B8%D0%BC%D1%81%D0%BA%27%5D%60%20%2B%20%60%3C/div%3E%60%2C%0A%20%20%20%20%20%20%20%20%20%20%20%20%7B%22sticky%22%3A%20true%7D%0A%20%20%20%20%20%20%20%20%29%3B%0A%20%20%20%20%20%20%20%20%0A%20%20%20%20%0A%20%20%20%20%20%20%20%20var%20marker_31d55752ab2541cfbbccc11fe9dfd301%20%3D%20L.marker%28%0A%20%20%20%20%20%20%20%20%20%20%20%20%5B56.780561%2C%20105.7489287%5D%2C%0A%20%20%20%20%20%20%20%20%20%20%20%20%7B%0A%20%20%20%20%20%20%20%20%20%20%20%20%20%20%20%20icon%3A%20new%20L.Icon.Default%28%29%2C%0A%20%20%20%20%20%20%20%20%20%20%20%20%20%20%20%20%7D%0A%20%20%20%20%20%20%20%20%20%20%20%20%29.addTo%28marker_cluster_29ad92a8fdf54505b730623161b75675%29%3B%0A%20%20%20%20%20%20%20%20%0A%20%20%20%20%0A%20%20%20%20%20%20%20%20marker_31d55752ab2541cfbbccc11fe9dfd301.bindTooltip%28%0A%20%20%20%20%20%20%20%20%20%20%20%20%60%3Cdiv%3E%60%0A%20%20%20%20%20%20%20%20%20%20%20%20%2B%20%60%5B1.0%2C%20%27%D0%A3%D1%81%D1%82%D1%8C-%D0%9A%D1%83%D1%82%27%5D%60%20%2B%20%60%3C/div%3E%60%2C%0A%20%20%20%20%20%20%20%20%20%20%20%20%7B%22sticky%22%3A%20true%7D%0A%20%20%20%20%20%20%20%20%29%3B%0A%20%20%20%20%20%20%20%20%0A%20%20%20%20%0A%20%20%20%20%20%20%20%20var%20marker_e517ab16e32c4678a0e2e91c4587997b%20%3D%20L.marker%28%0A%20%20%20%20%20%20%20%20%20%20%20%20%5B46.370935349999996%2C%206.231168493722434%5D%2C%0A%20%20%20%20%20%20%20%20%20%20%20%20%7B%0A%20%20%20%20%20%20%20%20%20%20%20%20%20%20%20%20icon%3A%20new%20L.Icon.Default%28%29%2C%0A%20%20%20%20%20%20%20%20%20%20%20%20%20%20%20%20%7D%0A%20%20%20%20%20%20%20%20%20%20%20%20%29.addTo%28marker_cluster_29ad92a8fdf54505b730623161b75675%29%3B%0A%20%20%20%20%20%20%20%20%0A%20%20%20%20%0A%20%20%20%20%20%20%20%20marker_e517ab16e32c4678a0e2e91c4587997b.bindTooltip%28%0A%20%20%20%20%20%20%20%20%20%20%20%20%60%3Cdiv%3E%60%0A%20%20%20%20%20%20%20%20%20%20%20%20%2B%20%60%5B6.29%2C%20%27%D0%A3%D1%84%D0%B0%27%5D%60%20%2B%20%60%3C/div%3E%60%2C%0A%20%20%20%20%20%20%20%20%20%20%20%20%7B%22sticky%22%3A%20true%7D%0A%20%20%20%20%20%20%20%20%29%3B%0A%20%20%20%20%20%20%20%20%0A%20%20%20%20%0A%20%20%20%20%20%20%20%20var%20marker_e1f65612a1c244aea194bfc33182a449%20%3D%20L.marker%28%0A%20%20%20%20%20%20%20%20%20%20%20%20%5B63.5624585%2C%2053.684243%5D%2C%0A%20%20%20%20%20%20%20%20%20%20%20%20%7B%0A%20%20%20%20%20%20%20%20%20%20%20%20%20%20%20%20icon%3A%20new%20L.Icon.Default%28%29%2C%0A%20%20%20%20%20%20%20%20%20%20%20%20%20%20%20%20%7D%0A%20%20%20%20%20%20%20%20%20%20%20%20%29.addTo%28marker_cluster_29ad92a8fdf54505b730623161b75675%29%3B%0A%20%20%20%20%20%20%20%20%0A%20%20%20%20%0A%20%20%20%20%20%20%20%20marker_e1f65612a1c244aea194bfc33182a449.bindTooltip%28%0A%20%20%20%20%20%20%20%20%20%20%20%20%60%3Cdiv%3E%60%0A%20%20%20%20%20%20%20%20%20%20%20%20%2B%20%60%5B3.0%2C%20%27%D0%A3%D1%85%D1%82%D0%B0%27%5D%60%20%2B%20%60%3C/div%3E%60%2C%0A%20%20%20%20%20%20%20%20%20%20%20%20%7B%22sticky%22%3A%20true%7D%0A%20%20%20%20%20%20%20%20%29%3B%0A%20%20%20%20%20%20%20%20%0A%20%20%20%20%0A%20%20%20%20%20%20%20%20var%20marker_44fc1545065542859c788d83d55ff613%20%3D%20L.marker%28%0A%20%20%20%20%20%20%20%20%20%20%20%20%5B51.6312684%2C%20136.121524%5D%2C%0A%20%20%20%20%20%20%20%20%20%20%20%20%7B%0A%20%20%20%20%20%20%20%20%20%20%20%20%20%20%20%20icon%3A%20new%20L.Icon.Default%28%29%2C%0A%20%20%20%20%20%20%20%20%20%20%20%20%20%20%20%20%7D%0A%20%20%20%20%20%20%20%20%20%20%20%20%29.addTo%28marker_cluster_29ad92a8fdf54505b730623161b75675%29%3B%0A%20%20%20%20%20%20%20%20%0A%20%20%20%20%0A%20%20%20%20%20%20%20%20marker_44fc1545065542859c788d83d55ff613.bindTooltip%28%0A%20%20%20%20%20%20%20%20%20%20%20%20%60%3Cdiv%3E%60%0A%20%20%20%20%20%20%20%20%20%20%20%20%2B%20%60%5B6.55%2C%20%27%D0%A5%D0%B0%D0%B1%D0%B0%D1%80%D0%BE%D0%B2%D1%81%D0%BA%27%5D%60%20%2B%20%60%3C/div%3E%60%2C%0A%20%20%20%20%20%20%20%20%20%20%20%20%7B%22sticky%22%3A%20true%7D%0A%20%20%20%20%20%20%20%20%29%3B%0A%20%20%20%20%20%20%20%20%0A%20%20%20%20%0A%20%20%20%20%20%20%20%20var%20marker_5d65dcd4c4764120ae90568d6ead9b6d%20%3D%20L.marker%28%0A%20%20%20%20%20%20%20%20%20%20%20%20%5B61.0049412%2C%2069.02422777099943%5D%2C%0A%20%20%20%20%20%20%20%20%20%20%20%20%7B%0A%20%20%20%20%20%20%20%20%20%20%20%20%20%20%20%20icon%3A%20new%20L.Icon.Default%28%29%2C%0A%20%20%20%20%20%20%20%20%20%20%20%20%20%20%20%20%7D%0A%20%20%20%20%20%20%20%20%20%20%20%20%29.addTo%28marker_cluster_29ad92a8fdf54505b730623161b75675%29%3B%0A%20%20%20%20%20%20%20%20%0A%20%20%20%20%0A%20%20%20%20%20%20%20%20marker_5d65dcd4c4764120ae90568d6ead9b6d.bindTooltip%28%0A%20%20%20%20%20%20%20%20%20%20%20%20%60%3Cdiv%3E%60%0A%20%20%20%20%20%20%20%20%20%20%20%20%2B%20%60%5B8.42%2C%20%27%D0%A5%D0%B0%D0%BD%D1%82%D1%8B-%D0%9C%D0%B0%D0%BD%D1%81%D0%B8%D0%B9%D1%81%D0%BA%27%5D%60%20%2B%20%60%3C/div%3E%60%2C%0A%20%20%20%20%20%20%20%20%20%20%20%20%7B%22sticky%22%3A%20true%7D%0A%20%20%20%20%20%20%20%20%29%3B%0A%20%20%20%20%20%20%20%20%0A%20%20%20%20%0A%20%20%20%20%20%20%20%20var%20marker_4b90ed2f65884e81bd13f876859c4c1f%20%3D%20L.marker%28%0A%20%20%20%20%20%20%20%20%20%20%20%20%5B56.1307195%2C%2047.2449597%5D%2C%0A%20%20%20%20%20%20%20%20%20%20%20%20%7B%0A%20%20%20%20%20%20%20%20%20%20%20%20%20%20%20%20icon%3A%20new%20L.Icon.Default%28%29%2C%0A%20%20%20%20%20%20%20%20%20%20%20%20%20%20%20%20%7D%0A%20%20%20%20%20%20%20%20%20%20%20%20%29.addTo%28marker_cluster_29ad92a8fdf54505b730623161b75675%29%3B%0A%20%20%20%20%20%20%20%20%0A%20%20%20%20%0A%20%20%20%20%20%20%20%20marker_4b90ed2f65884e81bd13f876859c4c1f.bindTooltip%28%0A%20%20%20%20%20%20%20%20%20%20%20%20%60%3Cdiv%3E%60%0A%20%20%20%20%20%20%20%20%20%20%20%20%2B%20%60%5B5.0%2C%20%27%D0%A7%D0%B5%D0%B1%D0%BE%D0%BA%D1%81%D0%B0%D1%80%D1%8B%27%5D%60%20%2B%20%60%3C/div%3E%60%2C%0A%20%20%20%20%20%20%20%20%20%20%20%20%7B%22sticky%22%3A%20true%7D%0A%20%20%20%20%20%20%20%20%29%3B%0A%20%20%20%20%20%20%20%20%0A%20%20%20%20%0A%20%20%20%20%20%20%20%20var%20marker_7cf63628f17749e48d91e5f778246874%20%3D%20L.marker%28%0A%20%20%20%20%20%20%20%20%20%20%20%20%5B55.1598408%2C%2061.4025547%5D%2C%0A%20%20%20%20%20%20%20%20%20%20%20%20%7B%0A%20%20%20%20%20%20%20%20%20%20%20%20%20%20%20%20icon%3A%20new%20L.Icon.Default%28%29%2C%0A%20%20%20%20%20%20%20%20%20%20%20%20%20%20%20%20%7D%0A%20%20%20%20%20%20%20%20%20%20%20%20%29.addTo%28marker_cluster_29ad92a8fdf54505b730623161b75675%29%3B%0A%20%20%20%20%20%20%20%20%0A%20%20%20%20%0A%20%20%20%20%20%20%20%20marker_7cf63628f17749e48d91e5f778246874.bindTooltip%28%0A%20%20%20%20%20%20%20%20%20%20%20%20%60%3Cdiv%3E%60%0A%20%20%20%20%20%20%20%20%20%20%20%20%2B%20%60%5B6.71%2C%20%27%D0%A7%D0%B5%D0%BB%D1%8F%D0%B1%D0%B8%D0%BD%D1%81%D0%BA%27%5D%60%20%2B%20%60%3C/div%3E%60%2C%0A%20%20%20%20%20%20%20%20%20%20%20%20%7B%22sticky%22%3A%20true%7D%0A%20%20%20%20%20%20%20%20%29%3B%0A%20%20%20%20%20%20%20%20%0A%20%20%20%20%0A%20%20%20%20%20%20%20%20var%20marker_9627234d1f764fdfafcc91c63688b856%20%3D%20L.marker%28%0A%20%20%20%20%20%20%20%20%20%20%20%20%5B59.128696%2C%2037.916389%5D%2C%0A%20%20%20%20%20%20%20%20%20%20%20%20%7B%0A%20%20%20%20%20%20%20%20%20%20%20%20%20%20%20%20icon%3A%20new%20L.Icon.Default%28%29%2C%0A%20%20%20%20%20%20%20%20%20%20%20%20%20%20%20%20%7D%0A%20%20%20%20%20%20%20%20%20%20%20%20%29.addTo%28marker_cluster_29ad92a8fdf54505b730623161b75675%29%3B%0A%20%20%20%20%20%20%20%20%0A%20%20%20%20%0A%20%20%20%20%20%20%20%20marker_9627234d1f764fdfafcc91c63688b856.bindTooltip%28%0A%20%20%20%20%20%20%20%20%20%20%20%20%60%3Cdiv%3E%60%0A%20%20%20%20%20%20%20%20%20%20%20%20%2B%20%60%5B2.16%2C%20%27%D0%A7%D0%B5%D1%80%D0%B5%D0%BF%D0%BE%D0%B2%D0%B5%D1%86%27%5D%60%20%2B%20%60%3C/div%3E%60%2C%0A%20%20%20%20%20%20%20%20%20%20%20%20%7B%22sticky%22%3A%20true%7D%0A%20%20%20%20%20%20%20%20%29%3B%0A%20%20%20%20%20%20%20%20%0A%20%20%20%20%0A%20%20%20%20%20%20%20%20var%20marker_cc65dc42123f43ef82fe14f413acb58f%20%3D%20L.marker%28%0A%20%20%20%20%20%20%20%20%20%20%20%20%5B52.033409%2C%20113.500893%5D%2C%0A%20%20%20%20%20%20%20%20%20%20%20%20%7B%0A%20%20%20%20%20%20%20%20%20%20%20%20%20%20%20%20icon%3A%20new%20L.Icon.Default%28%29%2C%0A%20%20%20%20%20%20%20%20%20%20%20%20%20%20%20%20%7D%0A%20%20%20%20%20%20%20%20%20%20%20%20%29.addTo%28marker_cluster_29ad92a8fdf54505b730623161b75675%29%3B%0A%20%20%20%20%20%20%20%20%0A%20%20%20%20%0A%20%20%20%20%20%20%20%20marker_cc65dc42123f43ef82fe14f413acb58f.bindTooltip%28%0A%20%20%20%20%20%20%20%20%20%20%20%20%60%3Cdiv%3E%60%0A%20%20%20%20%20%20%20%20%20%20%20%20%2B%20%60%5B1.58%2C%20%27%D0%A7%D0%B8%D1%82%D0%B0%27%5D%60%20%2B%20%60%3C/div%3E%60%2C%0A%20%20%20%20%20%20%20%20%20%20%20%20%7B%22sticky%22%3A%20true%7D%0A%20%20%20%20%20%20%20%20%29%3B%0A%20%20%20%20%20%20%20%20%0A%20%20%20%20%0A%20%20%20%20%20%20%20%20var%20marker_2204c41fa8b14ee5ad16d128d7d32b9d%20%3D%20L.marker%28%0A%20%20%20%20%20%20%20%20%20%20%20%20%5B46.306999%2C%2044.270187%5D%2C%0A%20%20%20%20%20%20%20%20%20%20%20%20%7B%0A%20%20%20%20%20%20%20%20%20%20%20%20%20%20%20%20icon%3A%20new%20L.Icon.Default%28%29%2C%0A%20%20%20%20%20%20%20%20%20%20%20%20%20%20%20%20%7D%0A%20%20%20%20%20%20%20%20%20%20%20%20%29.addTo%28marker_cluster_29ad92a8fdf54505b730623161b75675%29%3B%0A%20%20%20%20%20%20%20%20%0A%20%20%20%20%0A%20%20%20%20%20%20%20%20marker_2204c41fa8b14ee5ad16d128d7d32b9d.bindTooltip%28%0A%20%20%20%20%20%20%20%20%20%20%20%20%60%3Cdiv%3E%60%0A%20%20%20%20%20%20%20%20%20%20%20%20%2B%20%60%5B4.87%2C%20%27%D0%AD%D0%BB%D0%B8%D1%81%D1%82%D0%B0%27%5D%60%20%2B%20%60%3C/div%3E%60%2C%0A%20%20%20%20%20%20%20%20%20%20%20%20%7B%22sticky%22%3A%20true%7D%0A%20%20%20%20%20%20%20%20%29%3B%0A%20%20%20%20%20%20%20%20%0A%20%20%20%20%0A%20%20%20%20%20%20%20%20var%20marker_6f80669a92904f6a9e32e6943e97a8df%20%3D%20L.marker%28%0A%20%20%20%20%20%20%20%20%20%20%20%20%5B46.9574273%2C%20142.727438%5D%2C%0A%20%20%20%20%20%20%20%20%20%20%20%20%7B%0A%20%20%20%20%20%20%20%20%20%20%20%20%20%20%20%20icon%3A%20new%20L.Icon.Default%28%29%2C%0A%20%20%20%20%20%20%20%20%20%20%20%20%20%20%20%20%7D%0A%20%20%20%20%20%20%20%20%20%20%20%20%29.addTo%28marker_cluster_29ad92a8fdf54505b730623161b75675%29%3B%0A%20%20%20%20%20%20%20%20%0A%20%20%20%20%0A%20%20%20%20%20%20%20%20marker_6f80669a92904f6a9e32e6943e97a8df.bindTooltip%28%0A%20%20%20%20%20%20%20%20%20%20%20%20%60%3Cdiv%3E%60%0A%20%20%20%20%20%20%20%20%20%20%20%20%2B%20%60%5B4.29%2C%20%27%D0%AE%D0%B6%D0%BD%D0%BE-%D0%A1%D0%B0%D1%85%D0%B0%D0%BB%D0%B8%D0%BD%D1%81%D0%BA%27%5D%60%20%2B%20%60%3C/div%3E%60%2C%0A%20%20%20%20%20%20%20%20%20%20%20%20%7B%22sticky%22%3A%20true%7D%0A%20%20%20%20%20%20%20%20%29%3B%0A%20%20%20%20%20%20%20%20%0A%20%20%20%20%0A%20%20%20%20%20%20%20%20var%20marker_0593f2fd74cf4d6786b39bab69d90e22%20%3D%20L.marker%28%0A%20%20%20%20%20%20%20%20%20%20%20%20%5B62.027287%2C%20129.732086%5D%2C%0A%20%20%20%20%20%20%20%20%20%20%20%20%7B%0A%20%20%20%20%20%20%20%20%20%20%20%20%20%20%20%20icon%3A%20new%20L.Icon.Default%28%29%2C%0A%20%20%20%20%20%20%20%20%20%20%20%20%20%20%20%20%7D%0A%20%20%20%20%20%20%20%20%20%20%20%20%29.addTo%28marker_cluster_29ad92a8fdf54505b730623161b75675%29%3B%0A%20%20%20%20%20%20%20%20%0A%20%20%20%20%0A%20%20%20%20%20%20%20%20marker_0593f2fd74cf4d6786b39bab69d90e22.bindTooltip%28%0A%20%20%20%20%20%20%20%20%20%20%20%20%60%3Cdiv%3E%60%0A%20%20%20%20%20%20%20%20%20%20%20%20%2B%20%60%5B2.74%2C%20%27%D0%AF%D0%BA%D1%83%D1%82%D1%81%D0%BA%27%5D%60%20%2B%20%60%3C/div%3E%60%2C%0A%20%20%20%20%20%20%20%20%20%20%20%20%7B%22sticky%22%3A%20true%7D%0A%20%20%20%20%20%20%20%20%29%3B%0A%20%20%20%20%20%20%20%20%0A%20%20%20%20%0A%20%20%20%20%20%20%20%20var%20marker_6efaeeabe3684b9d9591f26f7492eba5%20%3D%20L.marker%28%0A%20%20%20%20%20%20%20%20%20%20%20%20%5B57.6263877%2C%2039.8933705%5D%2C%0A%20%20%20%20%20%20%20%20%20%20%20%20%7B%0A%20%20%20%20%20%20%20%20%20%20%20%20%20%20%20%20icon%3A%20new%20L.Icon.Default%28%29%2C%0A%20%20%20%20%20%20%20%20%20%20%20%20%20%20%20%20%7D%0A%20%20%20%20%20%20%20%20%20%20%20%20%29.addTo%28marker_cluster_29ad92a8fdf54505b730623161b75675%29%3B%0A%20%20%20%20%20%20%20%20%0A%20%20%20%20%0A%20%20%20%20%20%20%20%20marker_6efaeeabe3684b9d9591f26f7492eba5.bindTooltip%28%0A%20%20%20%20%20%20%20%20%20%20%20%20%60%3Cdiv%3E%60%0A%20%20%20%20%20%20%20%20%20%20%20%20%2B%20%60%5B1.32%2C%20%27%D0%AF%D1%80%D0%BE%D1%81%D0%BB%D0%B0%D0%B2%D0%BB%D1%8C%27%5D%60%20%2B%20%60%3C/div%3E%60%2C%0A%20%20%20%20%20%20%20%20%20%20%20%20%7B%22sticky%22%3A%20true%7D%0A%20%20%20%20%20%20%20%20%29%3B%0A%20%20%20%20%20%20%20%20%0A%3C/script%3E onload=\"this.contentDocument.open();this.contentDocument.write(    decodeURIComponent(this.getAttribute('data-html')));this.contentDocument.close();\" allowfullscreen webkitallowfullscreen mozallowfullscreen></iframe></div></div>"
            ],
            "text/plain": [
              "<folium.folium.Map at 0x7ff675c847d0>"
            ]
          },
          "metadata": {
            "tags": []
          },
          "execution_count": 25
        }
      ]
    },
    {
      "cell_type": "markdown",
      "metadata": {
        "id": "OSdYfXYiwZqH"
      },
      "source": [
        "Наиболее загруженные округа - Центральный округ, Южный, Уральский, Сибирский центральный округ\n",
        "\n",
        "Рекомендуется добавить дополнительно точку вылета - это позволит проаназировать наиболее загруженные направления, и с учетом анализа использумых бортов - можно сделать выводы о необходимости или ее отсутствия для переброса дополнительных более вместительных бортов на то или иное направление"
      ]
    },
    {
      "cell_type": "markdown",
      "metadata": {
        "id": "e4byzNXkwZqH"
      },
      "source": [
        "<a href=\"#footer\">К содержанию</a>\n",
        "<footer id=\"footer\"></footer>"
      ]
    },
    {
      "cell_type": "markdown",
      "metadata": {
        "id": "dp60Q-MGwZqH"
      },
      "source": [
        "## Вывод"
      ]
    },
    {
      "cell_type": "markdown",
      "metadata": {
        "id": "gMDmdOokwZqH"
      },
      "source": [
        "1. Из [БД](https://colab.research.google.com/drive/1kR2hYNIL2SAUbJX8c1EhNaKbdnz-vPD1) извлекли корректные данные - типы данных не требуют преобразования, пропусков нет  \n",
        "2. Лидирующие позиции по перевозкам занимают самолеты моделей **Cessna 208 Caravan, Bombardier CRJ-200, Sukhoi SuperJet-100**.\n",
        "3. **Москва и Санкт-Петербург** - самые загруженные направления для авиаперевозок, тем более в период фестивалей. При этом также стоит отметить, что в совокупности - наиболее загруженные **Центральный округ, Южный, Уральский, Сибирский центральный округ**\n",
        "\n",
        "\n",
        "Также рекомендую провести исследования:\n",
        "- по количеству бортов в различных регионах;  \n",
        "- добавить в анализ точки вылета и прилета - что позволит проанализировать наиболее загруженные направления авиаперевозок, а не только города-гавани;  \n",
        "- добавить в анализ дополнительную выборку вне времени проведения фестивалей, для проверки статистических гипотез о равенстве двух совокупностей"
      ]
    }
  ]
}