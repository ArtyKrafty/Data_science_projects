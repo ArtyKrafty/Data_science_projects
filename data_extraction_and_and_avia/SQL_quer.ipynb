{
  "nbformat": 4,
  "nbformat_minor": 0,
  "metadata": {
    "colab": {
      "name": "SQL-quer.ipynb",
      "provenance": [],
      "collapsed_sections": [
        "9pwV9vZD4yMk",
        "_llOaqi_5wKd",
        "mri54L69XVsc",
        "JBZZl-aeXPPM",
        "MMixrn1oXf_p",
        "yp9qc4TqXhUe",
        "p3paIBQkXrvq"
      ],
      "toc_visible": true
    },
    "kernelspec": {
      "name": "python3",
      "display_name": "Python 3"
    },
    "language_info": {
      "name": "python"
    }
  },
  "cells": [
    {
      "cell_type": "markdown",
      "metadata": {
        "id": "9pwV9vZD4yMk"
      },
      "source": [
        "#Работа с базой  \n",
        "\n",
        "\n",
        "Менеджер авиаперевозчика готовит исследование. Он хочет выявить связь между числом полётов, типом самолётов и календарём музыкальных фестивалей. Помогите ему получить необходимые данные.  \n",
        "\n",
        "Описание данных  \n",
        "\n",
        "\n",
        "\n",
        "\n",
        "**Таблица airports — информация об аэропортах:**  \n",
        "\n",
        "\n",
        "- `airport_code` — трёхбуквенный код аэропорта  \n",
        "- `airport_name` — название аэропорта  \n",
        "- `city` — город  \n",
        "- `timezone` — временная зона  \n",
        "\n",
        "\n",
        "**Таблица aircrafts — информация о самолётах:**  \n",
        "\n",
        "\n",
        "- `aircraft_code` — код модели самолёта  \n",
        "- `model` — модель самолёта  \n",
        "- `range` — дальность полёта  \n",
        "\n",
        "\n",
        "**Таблица tickets — информация о билетах:**   \n",
        "\n",
        "\n",
        "- `ticket_no` — уникальный номер билета  \n",
        "- `passenger_id` — персональный идентификатор пассажира  \n",
        "- `passenger_name` — имя и фамилия пассажира  \n",
        "\n",
        "\n",
        "**Таблица flights — информация о рейсах**   \n",
        "\n",
        "\n",
        "- `flight_id` — уникальный идентификатор рейса  \n",
        "- `departure_airport` — аэропорт вылета  \n",
        "- `departure_time` — дата и время вылета  \n",
        "- `arrival_airport` — аэропорт прилёта  \n",
        "- `arrival_time` — дата и время прилёта  \n",
        "- `aircraft_code` — id самолёта  \n",
        "\n",
        "\n",
        "**Таблица ticket_flights — стыковая таблица «рейсы-билеты»**  \n",
        "\n",
        "- `ticket_no` — номер билета  \n",
        "- `flight_id` — идентификатор рейса  \n",
        "- `Таблица festivals` — информация о фестивалях  \n",
        "- `festival_id` — уникальный номер фестиваля   \n",
        "- `festival_date` — дата проведения фестиваля  \n",
        "- `festival_city` — город проведения фестиваля  \n",
        "- `festival_name` — название фестиваля  \n"
      ]
    },
    {
      "cell_type": "markdown",
      "metadata": {
        "id": "_llOaqi_5wKd"
      },
      "source": [
        "# Схема таблиц\n",
        "\n",
        "![](https://i.ibb.co/z74gkxK/PK-FK-weather-1-1585141477.jpg)"
      ]
    },
    {
      "cell_type": "markdown",
      "metadata": {
        "id": "mri54L69XVsc"
      },
      "source": [
        "### 1 запрос\n"
      ]
    },
    {
      "cell_type": "markdown",
      "metadata": {
        "id": "0_NWaaH562c3"
      },
      "source": [
        "\n",
        "Найдите количество рейсов на каждой модели самолёта с вылетом в сентябре 2018 года. Назовите получившееся поле flights_amount и выведите его. Также напечатайте на экране поле model. Столбцы в таблице должны быть выведены в следующем порядке"
      ]
    },
    {
      "cell_type": "markdown",
      "metadata": {
        "id": "_bz9cQYQVcdn"
      },
      "source": [
        "<font face=\"Courier New\" size=\"2\">\n",
        "<font color = \"royalblue\">SELECT</font>&nbsp;<font color = \"white\">a</font><font color = \"silver\">.</font><font color = \"white\">model</font>&nbsp;&nbsp;<font color = \"royalblue\">AS</font>&nbsp;<font color = \"white\">model</font><font color = \"silver\">,</font>\n",
        "<br/>&nbsp;&nbsp;&nbsp;&nbsp;&nbsp;&nbsp;&nbsp;<font color = \"#FF0080\"><b>Count</b></font><font color = \"white\">(</font><font color = \"silver\">*</font><font color = \"white\">)</font>&nbsp;<font color = \"royalblue\">AS</font>&nbsp;<font color = \"white\">flights_amount</font>\n",
        "<br/><font color = \"royalblue\">FROM</font>&nbsp;&nbsp;&nbsp;<font color = \"white\">flights</font>&nbsp;<font color = \"white\">f</font>\n",
        "<br/>&nbsp;&nbsp;&nbsp;&nbsp;&nbsp;&nbsp;&nbsp;<font color = \"white\">inner</font>&nbsp;<font color = \"white\">join</font>&nbsp;<font color = \"white\">aircrafts</font>&nbsp;<font color = \"white\">a</font>\n",
        "<br/>&nbsp;&nbsp;&nbsp;&nbsp;&nbsp;&nbsp;&nbsp;&nbsp;&nbsp;&nbsp;&nbsp;&nbsp;&nbsp;&nbsp;&nbsp;<font color = \"royalblue\">ON</font>&nbsp;<font color = \"white\">a</font><font color = \"silver\">.</font><font color = \"white\">aircraft_code</font>&nbsp;<font color = \"silver\">=</font>&nbsp;<font color = \"white\">f</font><font color = \"silver\">.</font><font color = \"white\">aircraft_code</font>\n",
        "<br/><font color = \"royalblue\">WHERE</font>&nbsp;&nbsp;<font color = \"#FF0080\"><b>Cast</b></font><font color = \"white\">(</font><font color = \"white\">f</font><font color = \"silver\">.</font><font color = \"white\">departure_time</font>&nbsp;<font color = \"royalblue\">AS</font>&nbsp;<font color = \"black\"><i>DATE</i></font><font color = \"white\">)</font>&nbsp;<font color = \"royalblue\">BETWEEN</font>&nbsp;<font color = \"green\">'2018-09-01'</font>&nbsp;<font color = \"royalblue\">AND</font>&nbsp;<font color = \"green\">'2018-09-30'</font>\n",
        "<br/><font color = \"royalblue\">GROUP</font>&nbsp;&nbsp;<font color = \"royalblue\">BY</font>&nbsp;<font color = \"white\">a</font><font color = \"silver\">.</font><font color = \"white\">model</font>&nbsp;\n",
        "</font>\n"
      ]
    },
    {
      "cell_type": "markdown",
      "metadata": {
        "id": "JBZZl-aeXPPM"
      },
      "source": [
        "### 2 запрос\n"
      ]
    },
    {
      "cell_type": "markdown",
      "metadata": {
        "id": "nDSZPCL-65Xa"
      },
      "source": [
        "\n",
        "Посчитайте отправленные в сентябре рейсы самолётов следующих моделей:  \n",
        "\n",
        "\n",
        "Boeing,  \n",
        "Airbus,  \n",
        "другие (“other”). "
      ]
    },
    {
      "cell_type": "markdown",
      "metadata": {
        "id": "OU5rZlUzXR6f"
      },
      "source": [
        "<font face=\"Courier New\" size=\"2\">\n",
        "<font color = \"royalblue\">WITH</font>&nbsp;<font color = \"white\">SUBQ</font>\n",
        "<br/>&nbsp;&nbsp;&nbsp;&nbsp;&nbsp;<font color = \"royalblue\">AS</font>&nbsp;<font color = \"white\">(</font><font color = \"royalblue\">SELECT</font>&nbsp;<font color = \"white\">a</font><font color = \"silver\">.</font><font color = \"white\">AIRCRAFT_CODE</font><font color = \"silver\">,</font>\n",
        "<br/>&nbsp;&nbsp;&nbsp;&nbsp;&nbsp;&nbsp;&nbsp;&nbsp;&nbsp;&nbsp;&nbsp;&nbsp;&nbsp;&nbsp;&nbsp;&nbsp;<font color = \"royalblue\">CASE</font>\n",
        "<br/>&nbsp;&nbsp;&nbsp;&nbsp;&nbsp;&nbsp;&nbsp;&nbsp;&nbsp;&nbsp;&nbsp;&nbsp;&nbsp;&nbsp;&nbsp;&nbsp;&nbsp;&nbsp;<font color = \"royalblue\">WHEN</font>&nbsp;<font color = \"white\">(</font>&nbsp;<font color = \"white\">a</font><font color = \"silver\">.</font><font color = \"white\">MODEL</font>&nbsp;<font color = \"royalblue\">LIKE</font>&nbsp;<font color = \"green\">'Boeing%'</font>&nbsp;<font color = \"white\">)</font>&nbsp;<font color = \"royalblue\">THEN</font>&nbsp;<font color = \"green\">'Boeing'</font>\n",
        "<br/>&nbsp;&nbsp;&nbsp;&nbsp;&nbsp;&nbsp;&nbsp;&nbsp;&nbsp;&nbsp;&nbsp;&nbsp;&nbsp;&nbsp;&nbsp;&nbsp;&nbsp;&nbsp;<font color = \"royalblue\">WHEN</font>&nbsp;<font color = \"white\">(</font>&nbsp;<font color = \"white\">a</font><font color = \"silver\">.</font><font color = \"white\">MODEL</font>&nbsp;<font color = \"royalblue\">LIKE</font>&nbsp;<font color = \"green\">'Airbus%'</font>&nbsp;<font color = \"white\">)</font>&nbsp;<font color = \"royalblue\">THEN</font>&nbsp;<font color = \"green\">'Airbus'</font>\n",
        "<br/>&nbsp;&nbsp;&nbsp;&nbsp;&nbsp;&nbsp;&nbsp;&nbsp;&nbsp;&nbsp;&nbsp;&nbsp;&nbsp;&nbsp;&nbsp;&nbsp;&nbsp;&nbsp;<font color = \"royalblue\">ELSE</font>&nbsp;<font color = \"green\">'other'</font>\n",
        "<br/>&nbsp;&nbsp;&nbsp;&nbsp;&nbsp;&nbsp;&nbsp;&nbsp;&nbsp;&nbsp;&nbsp;&nbsp;&nbsp;&nbsp;&nbsp;&nbsp;<font color = \"royalblue\">END</font>&nbsp;<font color = \"royalblue\">AS</font>&nbsp;<font color = \"white\">model</font>\n",
        "<br/>&nbsp;&nbsp;&nbsp;&nbsp;&nbsp;&nbsp;&nbsp;&nbsp;&nbsp;<font color = \"royalblue\">FROM</font>&nbsp;&nbsp;&nbsp;<font color = \"white\">aircrafts</font>&nbsp;<font color = \"white\">a</font><font color = \"white\">)</font>\n",
        "<br/><font color = \"royalblue\">SELECT</font>&nbsp;<font color = \"white\">a</font><font color = \"silver\">.</font><font color = \"white\">MODEL</font><font color = \"silver\">,</font>\n",
        "<br/>&nbsp;&nbsp;&nbsp;&nbsp;&nbsp;&nbsp;&nbsp;<font color = \"#FF0080\"><b>COUNT</b></font><font color = \"white\">(</font><font color = \"silver\">*</font><font color = \"white\">)</font>\n",
        "<br/><font color = \"royalblue\">FROM</font>&nbsp;&nbsp;&nbsp;<font color = \"white\">flights</font>&nbsp;<font color = \"white\">f</font>\n",
        "<br/>&nbsp;&nbsp;&nbsp;&nbsp;&nbsp;&nbsp;&nbsp;<font color = \"white\">JOIN</font>&nbsp;<font color = \"white\">SUBQ</font>&nbsp;<font color = \"white\">a</font>\n",
        "<br/>&nbsp;&nbsp;&nbsp;&nbsp;&nbsp;&nbsp;&nbsp;&nbsp;&nbsp;<font color = \"royalblue\">ON</font>&nbsp;<font color = \"white\">a</font><font color = \"silver\">.</font><font color = \"white\">AIRCRAFT_CODE</font>&nbsp;<font color = \"silver\">=</font>&nbsp;<font color = \"white\">f</font><font color = \"silver\">.</font><font color = \"white\">AIRCRAFT_CODE</font>\n",
        "<br/><font color = \"royalblue\">WHERE</font>&nbsp;&nbsp;<font color = \"white\">f</font><font color = \"silver\">.</font><font color = \"white\">DEPARTURE_TIME</font>&nbsp;<font color = \"silver\">::</font>&nbsp;<font color = \"royalblue\">DATE</font>&nbsp;<font color = \"royalblue\">BETWEEN</font>&nbsp;<font color = \"green\">'2018-09-01'</font>&nbsp;<font color = \"royalblue\">AND</font>&nbsp;<font color = \"green\">'2018-09-30'</font>\n",
        "<br/><font color = \"royalblue\">GROUP</font>&nbsp;&nbsp;<font color = \"royalblue\">BY</font>&nbsp;<font color = \"white\">a</font><font color = \"silver\">.</font><font color = \"white\">MODEL</font>&nbsp;\n",
        "</font>\n"
      ]
    },
    {
      "cell_type": "markdown",
      "metadata": {
        "id": "MMixrn1oXf_p"
      },
      "source": [
        "### 3 запрос\n",
        "\n"
      ]
    },
    {
      "cell_type": "markdown",
      "metadata": {
        "id": "PZyRPTVx6790"
      },
      "source": [
        "\n",
        "Посчитайте среднее количество прибывающих рейсов в день для каждого города за август 2018 года. Назовите получившееся поле `average_flights`, вместе с ним выведите столбец `city`."
      ]
    },
    {
      "cell_type": "markdown",
      "metadata": {
        "id": "MP8q8AmZXhXS"
      },
      "source": [
        "<font face=\"Courier New\" size=\"2\">\n",
        "<font color = \"royalblue\">WITH</font>&nbsp;<font color = \"white\">FLIGHTS_08</font>\n",
        "<br/>&nbsp;&nbsp;&nbsp;&nbsp;&nbsp;<font color = \"royalblue\">AS</font>&nbsp;<font color = \"white\">(</font><font color = \"royalblue\">SELECT</font>&nbsp;<font color = \"white\">a</font><font color = \"silver\">.</font><font color = \"white\">CITY</font>&nbsp;&nbsp;&nbsp;&nbsp;&nbsp;&nbsp;&nbsp;&nbsp;&nbsp;&nbsp;&nbsp;&nbsp;&nbsp;&nbsp;&nbsp;&nbsp;&nbsp;&nbsp;&nbsp;&nbsp;&nbsp;&nbsp;&nbsp;&nbsp;&nbsp;&nbsp;&nbsp;&nbsp;&nbsp;&nbsp;&nbsp;&nbsp;&nbsp;&nbsp;&nbsp;<font color = \"royalblue\">AS</font>&nbsp;<font color = \"white\">city</font><font color = \"silver\">,</font>\n",
        "<br/>&nbsp;&nbsp;&nbsp;&nbsp;&nbsp;&nbsp;&nbsp;&nbsp;&nbsp;&nbsp;&nbsp;&nbsp;&nbsp;&nbsp;&nbsp;&nbsp;<font color = \"#FF0080\"><b>COUNT</b></font><font color = \"white\">(</font><font color = \"white\">f</font><font color = \"silver\">.</font><font color = \"white\">FLIGHT_ID</font><font color = \"white\">)</font>&nbsp;&nbsp;&nbsp;&nbsp;&nbsp;&nbsp;&nbsp;&nbsp;&nbsp;&nbsp;&nbsp;&nbsp;&nbsp;&nbsp;&nbsp;&nbsp;&nbsp;&nbsp;&nbsp;&nbsp;&nbsp;&nbsp;&nbsp;<font color = \"royalblue\">AS</font>&nbsp;<font color = \"white\">num_flights</font><font color = \"silver\">,</font>\n",
        "<br/>&nbsp;&nbsp;&nbsp;&nbsp;&nbsp;&nbsp;&nbsp;&nbsp;&nbsp;&nbsp;&nbsp;&nbsp;&nbsp;&nbsp;&nbsp;&nbsp;<font color = \"#FF0080\"><b>EXTRACT</b></font><font color = \"white\">(</font><font color = \"white\">DAY</font>&nbsp;<font color = \"royalblue\">FROM</font>&nbsp;<font color = \"white\">f</font><font color = \"silver\">.</font><font color = \"white\">ARRIVAL_TIME</font>&nbsp;<font color = \"silver\">::</font>&nbsp;<font color = \"royalblue\">DATE</font><font color = \"white\">)</font>&nbsp;<font color = \"royalblue\">AS</font>&nbsp;<font color = \"white\">day_flight</font>\n",
        "<br/>&nbsp;&nbsp;&nbsp;&nbsp;&nbsp;&nbsp;&nbsp;&nbsp;&nbsp;<font color = \"royalblue\">FROM</font>&nbsp;&nbsp;&nbsp;<font color = \"white\">flights</font>&nbsp;<font color = \"white\">f</font>\n",
        "<br/>&nbsp;&nbsp;&nbsp;&nbsp;&nbsp;&nbsp;&nbsp;&nbsp;&nbsp;&nbsp;&nbsp;&nbsp;&nbsp;&nbsp;&nbsp;&nbsp;<font color = \"white\">JOIN</font>&nbsp;<font color = \"white\">airports</font>&nbsp;<font color = \"white\">a</font>\n",
        "<br/>&nbsp;&nbsp;&nbsp;&nbsp;&nbsp;&nbsp;&nbsp;&nbsp;&nbsp;&nbsp;&nbsp;&nbsp;&nbsp;&nbsp;&nbsp;&nbsp;&nbsp;&nbsp;<font color = \"royalblue\">ON</font>&nbsp;<font color = \"white\">a</font><font color = \"silver\">.</font><font color = \"white\">AIRPORT_CODE</font>&nbsp;<font color = \"silver\">=</font>&nbsp;<font color = \"white\">f</font><font color = \"silver\">.</font><font color = \"white\">ARRIVAL_AIRPORT</font>\n",
        "<br/>&nbsp;&nbsp;&nbsp;&nbsp;&nbsp;&nbsp;&nbsp;&nbsp;&nbsp;<font color = \"royalblue\">WHERE</font>&nbsp;&nbsp;<font color = \"white\">f</font><font color = \"silver\">.</font><font color = \"white\">ARRIVAL_TIME</font>&nbsp;<font color = \"silver\">::</font>&nbsp;<font color = \"royalblue\">DATE</font>&nbsp;<font color = \"silver\">&lt;</font>&nbsp;<font color = \"green\">'2018-09-01'</font>\n",
        "<br/>&nbsp;&nbsp;&nbsp;&nbsp;&nbsp;&nbsp;&nbsp;&nbsp;&nbsp;&nbsp;&nbsp;&nbsp;&nbsp;&nbsp;&nbsp;&nbsp;<font color = \"royalblue\">AND</font>&nbsp;<font color = \"white\">f</font><font color = \"silver\">.</font><font color = \"white\">ARRIVAL_TIME</font>&nbsp;<font color = \"silver\">::</font>&nbsp;<font color = \"royalblue\">DATE</font>&nbsp;<font color = \"silver\">&gt;=</font>&nbsp;<font color = \"green\">'2018-08-01'</font>\n",
        "<br/>&nbsp;&nbsp;&nbsp;&nbsp;&nbsp;&nbsp;&nbsp;&nbsp;&nbsp;<font color = \"royalblue\">GROUP</font>&nbsp;&nbsp;<font color = \"royalblue\">BY</font>&nbsp;<font color = \"white\">a</font><font color = \"silver\">.</font><font color = \"white\">CITY</font><font color = \"silver\">,</font>\n",
        "<br/>&nbsp;&nbsp;&nbsp;&nbsp;&nbsp;&nbsp;&nbsp;&nbsp;&nbsp;&nbsp;&nbsp;&nbsp;&nbsp;&nbsp;&nbsp;&nbsp;&nbsp;&nbsp;&nbsp;<font color = \"white\">DAY_FLIGHT</font><font color = \"white\">)</font>\n",
        "<br/><font color = \"royalblue\">SELECT</font>&nbsp;<font color = \"royalblue\">DISTINCT</font>&nbsp;<font color = \"white\">t</font><font color = \"silver\">.</font><font color = \"white\">CITY</font><font color = \"silver\">,</font>\n",
        "<br/>&nbsp;&nbsp;&nbsp;&nbsp;&nbsp;&nbsp;&nbsp;&nbsp;&nbsp;&nbsp;&nbsp;&nbsp;&nbsp;&nbsp;&nbsp;&nbsp;<font color = \"#FF0080\"><b>AVG</b></font>&nbsp;<font color = \"white\">(</font><font color = \"white\">t</font><font color = \"silver\">.</font><font color = \"white\">NUM_FLIGHTS</font><font color = \"white\">)</font>&nbsp;<font color = \"royalblue\">AS</font>&nbsp;<font color = \"white\">average_flights</font>\n",
        "<br/><font color = \"royalblue\">FROM</font>&nbsp;&nbsp;&nbsp;<font color = \"white\">FLIGHTS_08</font>&nbsp;<font color = \"white\">t</font>\n",
        "<br/><font color = \"royalblue\">GROUP</font>&nbsp;&nbsp;<font color = \"royalblue\">BY</font>&nbsp;<font color = \"white\">t</font><font color = \"silver\">.</font><font color = \"white\">CITY</font>&nbsp;\n",
        "</font>\n"
      ]
    },
    {
      "cell_type": "markdown",
      "metadata": {
        "id": "yp9qc4TqXhUe"
      },
      "source": [
        "### 4 запрос\n"
      ]
    },
    {
      "cell_type": "markdown",
      "metadata": {
        "id": "YVgEnuN46-Oz"
      },
      "source": [
        "Установите фестивали, которые проходили **с 23 июля по 30 сентября 2018 года в Москве**, и номер недели, в которую они проходили. Выведите название фестиваля `festival_name` и номер недели `festival_week`."
      ]
    },
    {
      "cell_type": "markdown",
      "metadata": {
        "id": "OqhiCypAXhRW"
      },
      "source": [
        "<font face=\"Courier New\" size=\"2\">\n",
        "<font color = \"royalblue\">SELECT</font>&nbsp;<font color = \"white\">f</font><font color = \"silver\">.</font><font color = \"white\">FESTIVAL_NAME</font>&nbsp;&nbsp;&nbsp;&nbsp;&nbsp;&nbsp;&nbsp;&nbsp;&nbsp;&nbsp;&nbsp;&nbsp;&nbsp;&nbsp;&nbsp;&nbsp;&nbsp;&nbsp;&nbsp;&nbsp;<font color = \"royalblue\">AS</font>&nbsp;<font color = \"white\">festival_name</font><font color = \"silver\">,</font>\n",
        "<br/>&nbsp;&nbsp;&nbsp;&nbsp;&nbsp;&nbsp;&nbsp;<font color = \"#FF0080\"><b>EXTRACT</b></font><font color = \"white\">(</font><font color = \"white\">WEEK</font>&nbsp;<font color = \"royalblue\">FROM</font>&nbsp;<font color = \"white\">f</font><font color = \"silver\">.</font><font color = \"white\">FESTIVAL_DATE</font><font color = \"white\">)</font>&nbsp;<font color = \"royalblue\">AS</font>&nbsp;<font color = \"white\">festival_week</font>\n",
        "<br/><font color = \"royalblue\">FROM</font>&nbsp;&nbsp;&nbsp;<font color = \"white\">festivals</font>&nbsp;<font color = \"white\">f</font>\n",
        "<br/><font color = \"royalblue\">WHERE</font>&nbsp;&nbsp;<font color = \"white\">f</font><font color = \"silver\">.</font><font color = \"white\">FESTIVAL_CITY</font>&nbsp;<font color = \"royalblue\">LIKE</font>&nbsp;<font color = \"green\">'%Москва%'</font>\n",
        "<br/>&nbsp;&nbsp;&nbsp;&nbsp;&nbsp;&nbsp;&nbsp;<font color = \"royalblue\">AND</font>&nbsp;<font color = \"white\">f</font><font color = \"silver\">.</font><font color = \"white\">FESTIVAL_DATE</font>&nbsp;<font color = \"silver\">&lt;</font>&nbsp;<font color = \"green\">'2018-09-30'</font>\n",
        "<br/>&nbsp;&nbsp;&nbsp;&nbsp;&nbsp;&nbsp;&nbsp;<font color = \"royalblue\">AND</font>&nbsp;<font color = \"white\">f</font><font color = \"silver\">.</font><font color = \"white\">FESTIVAL_DATE</font>&nbsp;<font color = \"silver\">&gt;</font>&nbsp;<font color = \"green\">'2018-07-23'</font>&nbsp;\n",
        "</font>\n"
      ]
    },
    {
      "cell_type": "markdown",
      "metadata": {
        "id": "p3paIBQkXrvq"
      },
      "source": [
        "### 5 запрос\n"
      ]
    },
    {
      "cell_type": "markdown",
      "metadata": {
        "id": "hYhV4oYf7A6N"
      },
      "source": [
        "\n",
        "Для каждой недели с 23 июля по 30 сентября 2018 года посчитайте билеты, которые купили на рейсы в Москву (номер недели `week_number` и количество билетов `ticket_amount`). "
      ]
    },
    {
      "cell_type": "markdown",
      "metadata": {
        "id": "k9paXswRVbMy"
      },
      "source": [
        "<font face=\"Courier New\" size=\"2\">\n",
        "<font color = \"royalblue\">WITH</font>&nbsp;<font color = \"white\">TICKETS_AMOUNT</font>\n",
        "<br/>&nbsp;&nbsp;&nbsp;&nbsp;&nbsp;<font color = \"royalblue\">AS</font>&nbsp;<font color = \"white\">(</font><font color = \"royalblue\">SELECT</font>&nbsp;<font color = \"#FF0080\"><b>EXTRACT</b></font>&nbsp;<font color = \"white\">(</font><font color = \"white\">WEEK</font>&nbsp;<font color = \"royalblue\">FROM</font>&nbsp;<font color = \"fuchsia\"><i>Cast</i></font><font color = \"white\">(</font><font color = \"white\">f</font><font color = \"silver\">.</font><font color = \"white\">ARRIVAL_TIME</font>&nbsp;<font color = \"royalblue\">AS</font>&nbsp;<font color = \"black\"><i>DATE</i></font><font color = \"white\">)</font><font color = \"white\">)</font>&nbsp;<font color = \"royalblue\">AS</font>&nbsp;<font color = \"white\">week_number</font><font color = \"silver\">,</font>\n",
        "<br/>&nbsp;&nbsp;&nbsp;&nbsp;&nbsp;&nbsp;&nbsp;&nbsp;&nbsp;&nbsp;&nbsp;&nbsp;&nbsp;&nbsp;&nbsp;&nbsp;<font color = \"fuchsia\"><i>Count</i></font>&nbsp;<font color = \"white\">(</font><font color = \"white\">tf</font><font color = \"silver\">.</font><font color = \"white\">TICKET_NO</font><font color = \"white\">)</font>&nbsp;&nbsp;&nbsp;&nbsp;&nbsp;&nbsp;&nbsp;&nbsp;&nbsp;&nbsp;&nbsp;&nbsp;&nbsp;&nbsp;&nbsp;&nbsp;&nbsp;&nbsp;&nbsp;&nbsp;&nbsp;&nbsp;&nbsp;&nbsp;&nbsp;&nbsp;&nbsp;&nbsp;&nbsp;<font color = \"royalblue\">AS</font>\n",
        "<br/>&nbsp;&nbsp;&nbsp;&nbsp;&nbsp;&nbsp;&nbsp;&nbsp;&nbsp;&nbsp;&nbsp;&nbsp;&nbsp;&nbsp;&nbsp;&nbsp;<font color = \"white\">ticket_amount</font>\n",
        "<br/>&nbsp;&nbsp;&nbsp;&nbsp;&nbsp;&nbsp;&nbsp;&nbsp;&nbsp;<font color = \"royalblue\">FROM</font>&nbsp;&nbsp;&nbsp;<font color = \"white\">flights</font>&nbsp;<font color = \"white\">f</font>\n",
        "<br/>&nbsp;&nbsp;&nbsp;&nbsp;&nbsp;&nbsp;&nbsp;&nbsp;&nbsp;&nbsp;&nbsp;&nbsp;&nbsp;&nbsp;&nbsp;&nbsp;<font color = \"royalblue\">JOIN</font>&nbsp;<font color = \"white\">airports</font>&nbsp;<font color = \"white\">a</font>\n",
        "<br/>&nbsp;&nbsp;&nbsp;&nbsp;&nbsp;&nbsp;&nbsp;&nbsp;&nbsp;&nbsp;&nbsp;&nbsp;&nbsp;&nbsp;&nbsp;&nbsp;&nbsp;&nbsp;<font color = \"royalblue\">ON</font>&nbsp;<font color = \"white\">a</font><font color = \"silver\">.</font><font color = \"white\">AIRPORT_CODE</font>&nbsp;<font color = \"silver\">=</font>&nbsp;<font color = \"white\">f</font><font color = \"silver\">.</font><font color = \"white\">ARRIVAL_AIRPORT</font>\n",
        "<br/>&nbsp;&nbsp;&nbsp;&nbsp;&nbsp;&nbsp;&nbsp;&nbsp;&nbsp;&nbsp;&nbsp;&nbsp;&nbsp;&nbsp;&nbsp;&nbsp;<font color = \"royalblue\">JOIN</font>&nbsp;<font color = \"white\">ticket_flights</font>&nbsp;<font color = \"white\">tf</font>\n",
        "<br/>&nbsp;&nbsp;&nbsp;&nbsp;&nbsp;&nbsp;&nbsp;&nbsp;&nbsp;&nbsp;&nbsp;&nbsp;&nbsp;&nbsp;&nbsp;&nbsp;&nbsp;&nbsp;<font color = \"royalblue\">ON</font>&nbsp;<font color = \"white\">tf</font><font color = \"silver\">.</font><font color = \"white\">FLIGHT_ID</font>&nbsp;<font color = \"silver\">=</font>&nbsp;<font color = \"white\">f</font><font color = \"silver\">.</font><font color = \"white\">FLIGHT_ID</font>\n",
        "<br/>&nbsp;&nbsp;&nbsp;&nbsp;&nbsp;&nbsp;&nbsp;&nbsp;&nbsp;<font color = \"royalblue\">WHERE</font>&nbsp;&nbsp;<font color = \"white\">a</font><font color = \"silver\">.</font><font color = \"white\">CITY</font>&nbsp;<font color = \"silver\">=</font>&nbsp;<font color = \"green\">'Москва'</font>\n",
        "<br/>&nbsp;&nbsp;&nbsp;&nbsp;&nbsp;&nbsp;&nbsp;&nbsp;&nbsp;&nbsp;&nbsp;&nbsp;&nbsp;&nbsp;&nbsp;&nbsp;<font color = \"royalblue\">AND</font>&nbsp;<font color = \"fuchsia\"><i>Cast</i></font><font color = \"white\">(</font><font color = \"white\">f</font><font color = \"silver\">.</font><font color = \"white\">ARRIVAL_TIME</font>&nbsp;<font color = \"royalblue\">AS</font>&nbsp;<font color = \"black\"><i>DATE</i></font><font color = \"white\">)</font>&nbsp;<font color = \"royalblue\">BETWEEN</font>\n",
        "<br/>&nbsp;&nbsp;&nbsp;&nbsp;&nbsp;&nbsp;&nbsp;&nbsp;&nbsp;&nbsp;&nbsp;&nbsp;&nbsp;&nbsp;&nbsp;&nbsp;&nbsp;&nbsp;&nbsp;&nbsp;<font color = \"green\">'2018-07-23'</font>&nbsp;<font color = \"royalblue\">AND</font>&nbsp;<font color = \"green\">'2018-09-30'</font>\n",
        "<br/>&nbsp;&nbsp;&nbsp;&nbsp;&nbsp;&nbsp;&nbsp;&nbsp;&nbsp;<font color = \"royalblue\">GROUP</font>&nbsp;&nbsp;<font color = \"royalblue\">BY</font>&nbsp;<font color = \"white\">WEEK_NUMBER</font><font color = \"white\">)</font><font color = \"silver\">,</font>\n",
        "<br/>&nbsp;&nbsp;&nbsp;&nbsp;&nbsp;<font color = \"white\">FESTIVAL_TICKETS</font>\n",
        "<br/>&nbsp;&nbsp;&nbsp;&nbsp;&nbsp;<font color = \"royalblue\">AS</font>&nbsp;<font color = \"white\">(</font><font color = \"royalblue\">SELECT</font>&nbsp;<font color = \"white\">f</font><font color = \"silver\">.</font><font color = \"white\">FESTIVAL_NAME</font>&nbsp;&nbsp;&nbsp;&nbsp;&nbsp;&nbsp;&nbsp;&nbsp;&nbsp;&nbsp;&nbsp;&nbsp;&nbsp;&nbsp;&nbsp;&nbsp;&nbsp;&nbsp;&nbsp;&nbsp;<font color = \"royalblue\">AS</font>&nbsp;<font color = \"white\">festival_name</font><font color = \"silver\">,</font>\n",
        "<br/>&nbsp;&nbsp;&nbsp;&nbsp;&nbsp;&nbsp;&nbsp;&nbsp;&nbsp;&nbsp;&nbsp;&nbsp;&nbsp;&nbsp;&nbsp;&nbsp;<font color = \"#FF0080\"><b>EXTRACT</b></font><font color = \"white\">(</font><font color = \"white\">WEEK</font>&nbsp;<font color = \"royalblue\">FROM</font>&nbsp;<font color = \"white\">f</font><font color = \"silver\">.</font><font color = \"white\">FESTIVAL_DATE</font><font color = \"white\">)</font>&nbsp;<font color = \"royalblue\">AS</font>&nbsp;<font color = \"white\">festival_week</font>\n",
        "<br/>&nbsp;&nbsp;&nbsp;&nbsp;&nbsp;&nbsp;&nbsp;&nbsp;&nbsp;<font color = \"royalblue\">FROM</font>&nbsp;&nbsp;&nbsp;<font color = \"white\">festivals</font>&nbsp;<font color = \"white\">f</font>\n",
        "<br/>&nbsp;&nbsp;&nbsp;&nbsp;&nbsp;&nbsp;&nbsp;&nbsp;&nbsp;<font color = \"royalblue\">WHERE</font>&nbsp;&nbsp;<font color = \"white\">f</font><font color = \"silver\">.</font><font color = \"white\">FESTIVAL_CITY</font>&nbsp;<font color = \"royalblue\">LIKE</font>&nbsp;<font color = \"green\">'%Москва%'</font>\n",
        "<br/>&nbsp;&nbsp;&nbsp;&nbsp;&nbsp;&nbsp;&nbsp;&nbsp;&nbsp;&nbsp;&nbsp;&nbsp;&nbsp;&nbsp;&nbsp;&nbsp;<font color = \"royalblue\">AND</font>&nbsp;<font color = \"fuchsia\"><i>Cast</i></font><font color = \"white\">(</font><font color = \"white\">f</font><font color = \"silver\">.</font><font color = \"white\">FESTIVAL_DATE</font>&nbsp;<font color = \"royalblue\">AS</font>&nbsp;<font color = \"black\"><i>DATE</i></font><font color = \"white\">)</font>&nbsp;<font color = \"royalblue\">BETWEEN</font>\n",
        "<br/>&nbsp;&nbsp;&nbsp;&nbsp;&nbsp;&nbsp;&nbsp;&nbsp;&nbsp;&nbsp;&nbsp;&nbsp;&nbsp;&nbsp;&nbsp;&nbsp;&nbsp;&nbsp;&nbsp;&nbsp;<font color = \"green\">'2018-07-23'</font>&nbsp;<font color = \"royalblue\">AND</font>&nbsp;<font color = \"green\">'2018-09-30'</font><font color = \"white\">)</font>\n",
        "<br/><font color = \"royalblue\">SELECT</font>&nbsp;<font color = \"white\">ta</font><font color = \"silver\">.</font><font color = \"white\">WEEK_NUMBER</font><font color = \"silver\">,</font>\n",
        "<br/>&nbsp;&nbsp;&nbsp;&nbsp;&nbsp;&nbsp;&nbsp;<font color = \"white\">ta</font><font color = \"silver\">.</font><font color = \"white\">TICKET_AMOUNT</font><font color = \"silver\">,</font>\n",
        "<br/>&nbsp;&nbsp;&nbsp;&nbsp;&nbsp;&nbsp;&nbsp;<font color = \"white\">ft</font><font color = \"silver\">.</font><font color = \"white\">FESTIVAL_WEEK</font><font color = \"silver\">,</font>\n",
        "<br/>&nbsp;&nbsp;&nbsp;&nbsp;&nbsp;&nbsp;&nbsp;<font color = \"white\">ft</font><font color = \"silver\">.</font><font color = \"white\">FESTIVAL_NAME</font>\n",
        "<br/><font color = \"royalblue\">FROM</font>&nbsp;&nbsp;&nbsp;<font color = \"white\">TICKETS_AMOUNT</font>&nbsp;<font color = \"white\">ta</font>\n",
        "<br/>&nbsp;&nbsp;&nbsp;&nbsp;&nbsp;&nbsp;&nbsp;<font color = \"royalblue\">LEFT</font>&nbsp;<font color = \"royalblue\">JOIN</font>&nbsp;<font color = \"white\">FESTIVAL_TICKETS</font>&nbsp;<font color = \"white\">ft</font>\n",
        "<br/>&nbsp;&nbsp;&nbsp;&nbsp;&nbsp;&nbsp;&nbsp;&nbsp;&nbsp;&nbsp;&nbsp;&nbsp;&nbsp;&nbsp;<font color = \"royalblue\">ON</font>&nbsp;<font color = \"white\">ta</font><font color = \"silver\">.</font><font color = \"white\">WEEK_NUMBER</font>&nbsp;<font color = \"silver\">=</font>&nbsp;<font color = \"white\">ft</font><font color = \"silver\">.</font><font color = \"white\">FESTIVAL_WEEK</font>&nbsp;\n",
        "</font>\n"
      ]
    }
  ]
}