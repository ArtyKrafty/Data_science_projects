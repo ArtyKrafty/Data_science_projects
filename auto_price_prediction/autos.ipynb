{
  "nbformat": 4,
  "nbformat_minor": 0,
  "metadata": {
    "ExecuteTimeLog": [
      {
        "duration": 757,
        "start_time": "2021-06-29T07:36:59.351Z"
      },
      {
        "duration": 1045,
        "start_time": "2021-06-29T07:37:34.819Z"
      },
      {
        "duration": 1356,
        "start_time": "2021-06-29T07:38:29.987Z"
      },
      {
        "duration": 5,
        "start_time": "2021-06-29T07:38:41.482Z"
      },
      {
        "duration": 22,
        "start_time": "2021-06-29T07:38:47.936Z"
      },
      {
        "duration": 21,
        "start_time": "2021-06-29T07:39:11.147Z"
      },
      {
        "duration": 148,
        "start_time": "2021-06-29T07:39:14.457Z"
      },
      {
        "duration": 2853,
        "start_time": "2021-06-29T07:43:01.677Z"
      },
      {
        "duration": 102,
        "start_time": "2021-06-29T07:43:40.568Z"
      },
      {
        "duration": 6922,
        "start_time": "2021-06-29T07:43:44.756Z"
      },
      {
        "duration": 772,
        "start_time": "2021-06-29T08:12:21.325Z"
      },
      {
        "duration": 4,
        "start_time": "2021-06-29T08:14:04.672Z"
      },
      {
        "duration": 113,
        "start_time": "2021-06-29T08:14:45.744Z"
      },
      {
        "duration": 4241,
        "start_time": "2021-06-29T08:17:59.825Z"
      },
      {
        "duration": 6,
        "start_time": "2021-06-29T08:19:16.139Z"
      },
      {
        "duration": 6,
        "start_time": "2021-06-29T08:20:38.929Z"
      },
      {
        "duration": 157,
        "start_time": "2021-06-29T08:20:39.500Z"
      },
      {
        "duration": 403,
        "start_time": "2021-06-29T08:34:37.557Z"
      },
      {
        "duration": 146,
        "start_time": "2021-06-29T08:34:44.033Z"
      },
      {
        "duration": 142,
        "start_time": "2021-06-29T08:34:55.341Z"
      },
      {
        "duration": 5,
        "start_time": "2021-06-29T08:36:52.397Z"
      },
      {
        "duration": 152,
        "start_time": "2021-06-29T08:36:53.481Z"
      },
      {
        "duration": 149,
        "start_time": "2021-06-29T08:51:18.028Z"
      },
      {
        "duration": 119,
        "start_time": "2021-06-29T08:51:20.584Z"
      },
      {
        "duration": 1433,
        "start_time": "2021-06-29T08:51:31.239Z"
      },
      {
        "duration": 1031,
        "start_time": "2021-06-29T08:51:32.675Z"
      },
      {
        "duration": 5,
        "start_time": "2021-06-29T08:51:33.712Z"
      },
      {
        "duration": 169,
        "start_time": "2021-06-29T08:51:33.720Z"
      },
      {
        "duration": 148,
        "start_time": "2021-06-29T08:51:33.892Z"
      },
      {
        "duration": 208,
        "start_time": "2021-06-29T08:51:34.043Z"
      },
      {
        "duration": 117,
        "start_time": "2021-06-29T08:51:34.254Z"
      },
      {
        "duration": 3788,
        "start_time": "2021-06-29T08:51:34.374Z"
      },
      {
        "duration": 1419,
        "start_time": "2021-06-29T08:52:46.165Z"
      },
      {
        "duration": 1075,
        "start_time": "2021-06-29T08:52:47.587Z"
      },
      {
        "duration": 16,
        "start_time": "2021-06-29T08:52:48.667Z"
      },
      {
        "duration": 162,
        "start_time": "2021-06-29T08:52:48.685Z"
      },
      {
        "duration": 165,
        "start_time": "2021-06-29T08:52:48.849Z"
      },
      {
        "duration": 195,
        "start_time": "2021-06-29T08:52:49.016Z"
      },
      {
        "duration": 139,
        "start_time": "2021-06-29T08:52:49.214Z"
      },
      {
        "duration": 4008,
        "start_time": "2021-06-29T08:52:49.357Z"
      },
      {
        "duration": 5,
        "start_time": "2021-06-29T08:58:02.256Z"
      },
      {
        "duration": 154,
        "start_time": "2021-06-29T08:58:03.871Z"
      },
      {
        "duration": 143,
        "start_time": "2021-06-29T08:58:04.739Z"
      },
      {
        "duration": 149,
        "start_time": "2021-06-29T08:58:05.449Z"
      },
      {
        "duration": 129,
        "start_time": "2021-06-29T08:58:05.786Z"
      },
      {
        "duration": 3799,
        "start_time": "2021-06-29T08:58:06.166Z"
      },
      {
        "duration": 8347,
        "start_time": "2021-06-29T09:03:59.292Z"
      },
      {
        "duration": 2222,
        "start_time": "2021-06-29T09:04:12.061Z"
      },
      {
        "duration": 3018,
        "start_time": "2021-06-29T09:04:37.144Z"
      },
      {
        "duration": -36,
        "start_time": "2021-06-29T09:04:40.201Z"
      },
      {
        "duration": 2130,
        "start_time": "2021-06-29T09:05:27.107Z"
      },
      {
        "duration": 140,
        "start_time": "2021-06-29T09:05:40.245Z"
      },
      {
        "duration": 1556,
        "start_time": "2021-06-29T09:35:22.440Z"
      },
      {
        "duration": 1145,
        "start_time": "2021-06-29T09:35:23.998Z"
      },
      {
        "duration": 5,
        "start_time": "2021-06-29T09:35:25.147Z"
      },
      {
        "duration": 181,
        "start_time": "2021-06-29T09:35:25.154Z"
      },
      {
        "duration": 159,
        "start_time": "2021-06-29T09:35:25.338Z"
      },
      {
        "duration": 187,
        "start_time": "2021-06-29T09:35:25.499Z"
      },
      {
        "duration": 126,
        "start_time": "2021-06-29T09:35:25.688Z"
      },
      {
        "duration": 5010,
        "start_time": "2021-06-29T09:35:25.818Z"
      },
      {
        "duration": 455,
        "start_time": "2021-06-29T09:40:21.622Z"
      },
      {
        "duration": 342,
        "start_time": "2021-06-29T09:40:27.404Z"
      },
      {
        "duration": 102,
        "start_time": "2021-06-29T09:40:46.728Z"
      },
      {
        "duration": 49,
        "start_time": "2021-06-29T09:41:03.410Z"
      },
      {
        "duration": 46,
        "start_time": "2021-06-29T09:41:14.892Z"
      },
      {
        "duration": 3535,
        "start_time": "2021-06-29T09:43:31.174Z"
      },
      {
        "duration": 4165,
        "start_time": "2021-06-29T09:43:57.622Z"
      },
      {
        "duration": 98,
        "start_time": "2021-06-29T09:51:35.785Z"
      },
      {
        "duration": 107,
        "start_time": "2021-06-29T09:52:05.515Z"
      },
      {
        "duration": 295,
        "start_time": "2021-06-29T09:52:13.430Z"
      },
      {
        "duration": 44,
        "start_time": "2021-06-29T09:52:29.132Z"
      },
      {
        "duration": 67,
        "start_time": "2021-06-29T09:52:35.568Z"
      },
      {
        "duration": 1509,
        "start_time": "2021-06-29T10:11:12.683Z"
      },
      {
        "duration": 1097,
        "start_time": "2021-06-29T10:11:14.194Z"
      },
      {
        "duration": 5,
        "start_time": "2021-06-29T10:11:15.296Z"
      },
      {
        "duration": 176,
        "start_time": "2021-06-29T10:11:15.305Z"
      },
      {
        "duration": 156,
        "start_time": "2021-06-29T10:11:15.485Z"
      },
      {
        "duration": 179,
        "start_time": "2021-06-29T10:11:15.644Z"
      },
      {
        "duration": 133,
        "start_time": "2021-06-29T10:11:15.826Z"
      },
      {
        "duration": 55,
        "start_time": "2021-06-29T10:11:15.962Z"
      },
      {
        "duration": 5839,
        "start_time": "2021-06-29T10:11:16.021Z"
      },
      {
        "duration": 61,
        "start_time": "2021-06-29T10:11:21.863Z"
      },
      {
        "duration": 2171,
        "start_time": "2021-06-29T10:11:51.050Z"
      },
      {
        "duration": 1611,
        "start_time": "2021-06-29T10:11:53.225Z"
      },
      {
        "duration": 6,
        "start_time": "2021-06-29T10:11:54.840Z"
      },
      {
        "duration": 183,
        "start_time": "2021-06-29T10:11:54.848Z"
      },
      {
        "duration": 251,
        "start_time": "2021-06-29T10:11:55.034Z"
      },
      {
        "duration": 205,
        "start_time": "2021-06-29T10:11:55.288Z"
      },
      {
        "duration": 287,
        "start_time": "2021-06-29T10:11:55.496Z"
      },
      {
        "duration": 46,
        "start_time": "2021-06-29T10:11:55.786Z"
      },
      {
        "duration": 549,
        "start_time": "2021-06-29T10:11:55.834Z"
      },
      {
        "duration": 36,
        "start_time": "2021-06-29T10:11:56.351Z"
      },
      {
        "duration": 295,
        "start_time": "2021-06-29T10:12:26.447Z"
      },
      {
        "duration": 1790,
        "start_time": "2021-06-29T10:13:47.849Z"
      },
      {
        "duration": 1214,
        "start_time": "2021-06-29T10:13:49.641Z"
      },
      {
        "duration": 5,
        "start_time": "2021-06-29T10:13:50.858Z"
      },
      {
        "duration": 194,
        "start_time": "2021-06-29T10:13:50.866Z"
      },
      {
        "duration": 192,
        "start_time": "2021-06-29T10:13:51.062Z"
      },
      {
        "duration": 248,
        "start_time": "2021-06-29T10:13:51.257Z"
      },
      {
        "duration": 147,
        "start_time": "2021-06-29T10:13:51.509Z"
      },
      {
        "duration": 56,
        "start_time": "2021-06-29T10:13:51.659Z"
      },
      {
        "duration": 4593,
        "start_time": "2021-06-29T10:13:51.717Z"
      },
      {
        "duration": 71,
        "start_time": "2021-06-29T10:13:56.312Z"
      },
      {
        "duration": 7,
        "start_time": "2021-06-29T10:15:41.305Z"
      },
      {
        "duration": 6,
        "start_time": "2021-06-29T10:15:47.683Z"
      },
      {
        "duration": 530,
        "start_time": "2021-06-29T10:16:03.233Z"
      },
      {
        "duration": 547,
        "start_time": "2021-06-29T10:17:23.630Z"
      },
      {
        "duration": 871,
        "start_time": "2021-06-29T10:18:41.905Z"
      },
      {
        "duration": 528,
        "start_time": "2021-06-29T10:18:47.488Z"
      },
      {
        "duration": 503,
        "start_time": "2021-06-29T10:18:51.924Z"
      },
      {
        "duration": 648,
        "start_time": "2021-06-29T10:19:01.231Z"
      },
      {
        "duration": 4206,
        "start_time": "2021-06-29T10:19:49.641Z"
      },
      {
        "duration": 2470,
        "start_time": "2021-06-29T10:19:55.713Z"
      },
      {
        "duration": 148,
        "start_time": "2021-06-29T10:21:37.490Z"
      },
      {
        "duration": 1067,
        "start_time": "2021-06-29T10:21:55.997Z"
      },
      {
        "duration": 685,
        "start_time": "2021-06-29T10:22:38.488Z"
      },
      {
        "duration": 151,
        "start_time": "2021-06-29T10:22:44.185Z"
      },
      {
        "duration": 125,
        "start_time": "2021-06-29T10:22:57.039Z"
      },
      {
        "duration": 170,
        "start_time": "2021-06-29T10:23:10.545Z"
      },
      {
        "duration": 176,
        "start_time": "2021-06-29T10:23:29.050Z"
      },
      {
        "duration": 278,
        "start_time": "2021-06-29T10:24:33.398Z"
      },
      {
        "duration": 5,
        "start_time": "2021-06-29T10:24:38.466Z"
      },
      {
        "duration": 106,
        "start_time": "2021-06-29T10:25:20.425Z"
      },
      {
        "duration": 124,
        "start_time": "2021-06-29T10:25:26.090Z"
      },
      {
        "duration": 83,
        "start_time": "2021-06-29T10:25:38.834Z"
      },
      {
        "duration": 7,
        "start_time": "2021-06-29T10:26:24.831Z"
      },
      {
        "duration": 5,
        "start_time": "2021-06-29T10:27:13.284Z"
      },
      {
        "duration": 5,
        "start_time": "2021-06-29T10:27:27.172Z"
      },
      {
        "duration": 173,
        "start_time": "2021-06-29T10:29:25.152Z"
      },
      {
        "duration": 165,
        "start_time": "2021-06-29T10:29:29.550Z"
      },
      {
        "duration": 284,
        "start_time": "2021-06-29T10:30:05.172Z"
      },
      {
        "duration": 183,
        "start_time": "2021-06-29T10:30:36.374Z"
      },
      {
        "duration": 321,
        "start_time": "2021-06-29T10:31:09.190Z"
      },
      {
        "duration": 1530,
        "start_time": "2021-06-29T10:31:27.654Z"
      },
      {
        "duration": 1054,
        "start_time": "2021-06-29T10:31:29.187Z"
      },
      {
        "duration": 5,
        "start_time": "2021-06-29T10:31:30.244Z"
      },
      {
        "duration": 187,
        "start_time": "2021-06-29T10:31:30.252Z"
      },
      {
        "duration": 181,
        "start_time": "2021-06-29T10:31:30.441Z"
      },
      {
        "duration": 243,
        "start_time": "2021-06-29T10:31:30.624Z"
      },
      {
        "duration": 142,
        "start_time": "2021-06-29T10:31:30.870Z"
      },
      {
        "duration": 46,
        "start_time": "2021-06-29T10:31:31.015Z"
      },
      {
        "duration": 70,
        "start_time": "2021-06-29T10:31:31.064Z"
      },
      {
        "duration": 219,
        "start_time": "2021-06-29T10:31:31.136Z"
      },
      {
        "duration": 532,
        "start_time": "2021-06-29T10:31:31.357Z"
      },
      {
        "duration": 178,
        "start_time": "2021-06-29T10:31:31.894Z"
      },
      {
        "duration": 139,
        "start_time": "2021-06-29T10:31:32.075Z"
      },
      {
        "duration": 94,
        "start_time": "2021-06-29T10:31:32.217Z"
      },
      {
        "duration": 6,
        "start_time": "2021-06-29T10:31:32.314Z"
      },
      {
        "duration": 662,
        "start_time": "2021-06-29T10:33:49.775Z"
      },
      {
        "duration": 1488,
        "start_time": "2021-06-29T10:34:12.424Z"
      },
      {
        "duration": 1136,
        "start_time": "2021-06-29T10:34:13.915Z"
      },
      {
        "duration": 4,
        "start_time": "2021-06-29T10:34:15.054Z"
      },
      {
        "duration": 181,
        "start_time": "2021-06-29T10:34:15.061Z"
      },
      {
        "duration": 165,
        "start_time": "2021-06-29T10:34:15.244Z"
      },
      {
        "duration": 246,
        "start_time": "2021-06-29T10:34:15.411Z"
      },
      {
        "duration": 140,
        "start_time": "2021-06-29T10:34:15.660Z"
      },
      {
        "duration": 45,
        "start_time": "2021-06-29T10:34:15.804Z"
      },
      {
        "duration": 67,
        "start_time": "2021-06-29T10:34:15.853Z"
      },
      {
        "duration": 206,
        "start_time": "2021-06-29T10:34:15.922Z"
      },
      {
        "duration": 424,
        "start_time": "2021-06-29T10:34:16.130Z"
      },
      {
        "duration": 176,
        "start_time": "2021-06-29T10:34:16.557Z"
      },
      {
        "duration": 122,
        "start_time": "2021-06-29T10:34:16.736Z"
      },
      {
        "duration": 94,
        "start_time": "2021-06-29T10:34:16.860Z"
      },
      {
        "duration": 5,
        "start_time": "2021-06-29T10:34:16.957Z"
      },
      {
        "duration": 216,
        "start_time": "2021-06-29T10:36:08.930Z"
      },
      {
        "duration": 112,
        "start_time": "2021-06-29T10:36:53.119Z"
      },
      {
        "duration": 75,
        "start_time": "2021-06-29T10:36:56.113Z"
      },
      {
        "duration": 6,
        "start_time": "2021-06-29T10:36:59.865Z"
      },
      {
        "duration": 2608,
        "start_time": "2021-06-29T10:39:35.684Z"
      },
      {
        "duration": 155,
        "start_time": "2021-06-29T11:00:21.292Z"
      },
      {
        "duration": 11,
        "start_time": "2021-06-29T11:06:34.628Z"
      },
      {
        "duration": 1613,
        "start_time": "2021-06-29T11:06:41.424Z"
      },
      {
        "duration": 1130,
        "start_time": "2021-06-29T11:06:43.040Z"
      },
      {
        "duration": 5,
        "start_time": "2021-06-29T11:06:44.173Z"
      },
      {
        "duration": 193,
        "start_time": "2021-06-29T11:06:44.180Z"
      },
      {
        "duration": 171,
        "start_time": "2021-06-29T11:06:44.375Z"
      },
      {
        "duration": 251,
        "start_time": "2021-06-29T11:06:44.548Z"
      },
      {
        "duration": 133,
        "start_time": "2021-06-29T11:06:44.801Z"
      },
      {
        "duration": 58,
        "start_time": "2021-06-29T11:06:44.936Z"
      },
      {
        "duration": 50,
        "start_time": "2021-06-29T11:06:44.999Z"
      },
      {
        "duration": 225,
        "start_time": "2021-06-29T11:06:45.052Z"
      },
      {
        "duration": 388,
        "start_time": "2021-06-29T11:06:45.285Z"
      },
      {
        "duration": 265,
        "start_time": "2021-06-29T11:06:45.675Z"
      },
      {
        "duration": 151,
        "start_time": "2021-06-29T11:06:45.943Z"
      },
      {
        "duration": 73,
        "start_time": "2021-06-29T11:06:46.097Z"
      },
      {
        "duration": 7,
        "start_time": "2021-06-29T11:06:46.185Z"
      },
      {
        "duration": 3187,
        "start_time": "2021-06-29T11:06:46.196Z"
      },
      {
        "duration": 15,
        "start_time": "2021-06-29T11:13:06.940Z"
      },
      {
        "duration": 5,
        "start_time": "2021-06-29T11:14:30.373Z"
      },
      {
        "duration": 30,
        "start_time": "2021-06-29T11:15:13.610Z"
      },
      {
        "duration": 40,
        "start_time": "2021-06-29T11:15:30.590Z"
      },
      {
        "duration": 121,
        "start_time": "2021-06-29T11:18:02.108Z"
      },
      {
        "duration": 128,
        "start_time": "2021-06-29T11:19:36.506Z"
      },
      {
        "duration": 6,
        "start_time": "2021-06-29T11:34:03.344Z"
      },
      {
        "duration": 4,
        "start_time": "2021-06-29T11:35:52.253Z"
      },
      {
        "duration": 1591,
        "start_time": "2021-06-29T11:41:47.818Z"
      },
      {
        "duration": 1090,
        "start_time": "2021-06-29T11:41:49.412Z"
      },
      {
        "duration": 5,
        "start_time": "2021-06-29T11:41:50.505Z"
      },
      {
        "duration": 284,
        "start_time": "2021-06-29T11:41:50.514Z"
      },
      {
        "duration": 263,
        "start_time": "2021-06-29T11:41:50.801Z"
      },
      {
        "duration": 318,
        "start_time": "2021-06-29T11:41:51.068Z"
      },
      {
        "duration": 173,
        "start_time": "2021-06-29T11:41:51.389Z"
      },
      {
        "duration": 85,
        "start_time": "2021-06-29T11:41:51.568Z"
      },
      {
        "duration": 66,
        "start_time": "2021-06-29T11:41:51.655Z"
      },
      {
        "duration": 197,
        "start_time": "2021-06-29T11:41:51.723Z"
      },
      {
        "duration": 352,
        "start_time": "2021-06-29T11:41:51.922Z"
      },
      {
        "duration": 233,
        "start_time": "2021-06-29T11:41:52.277Z"
      },
      {
        "duration": 127,
        "start_time": "2021-06-29T11:41:52.513Z"
      },
      {
        "duration": 82,
        "start_time": "2021-06-29T11:41:52.642Z"
      },
      {
        "duration": 23,
        "start_time": "2021-06-29T11:41:52.726Z"
      },
      {
        "duration": 2710,
        "start_time": "2021-06-29T11:41:52.752Z"
      },
      {
        "duration": 25,
        "start_time": "2021-06-29T11:41:55.464Z"
      },
      {
        "duration": 6,
        "start_time": "2021-06-29T11:41:55.491Z"
      },
      {
        "duration": 29,
        "start_time": "2021-06-29T11:41:55.500Z"
      },
      {
        "duration": 152,
        "start_time": "2021-06-29T11:41:55.531Z"
      },
      {
        "duration": 5,
        "start_time": "2021-06-29T11:41:55.686Z"
      },
      {
        "duration": 1765,
        "start_time": "2021-06-29T11:42:39.731Z"
      },
      {
        "duration": 1156,
        "start_time": "2021-06-29T11:42:41.499Z"
      },
      {
        "duration": 6,
        "start_time": "2021-06-29T11:42:42.658Z"
      },
      {
        "duration": 182,
        "start_time": "2021-06-29T11:42:42.682Z"
      },
      {
        "duration": 179,
        "start_time": "2021-06-29T11:42:42.868Z"
      },
      {
        "duration": 261,
        "start_time": "2021-06-29T11:42:43.050Z"
      },
      {
        "duration": 139,
        "start_time": "2021-06-29T11:42:43.314Z"
      },
      {
        "duration": 61,
        "start_time": "2021-06-29T11:42:43.456Z"
      },
      {
        "duration": 64,
        "start_time": "2021-06-29T11:42:43.521Z"
      },
      {
        "duration": 223,
        "start_time": "2021-06-29T11:42:43.589Z"
      },
      {
        "duration": 400,
        "start_time": "2021-06-29T11:42:43.815Z"
      },
      {
        "duration": 231,
        "start_time": "2021-06-29T11:42:44.218Z"
      },
      {
        "duration": 147,
        "start_time": "2021-06-29T11:42:44.451Z"
      },
      {
        "duration": 93,
        "start_time": "2021-06-29T11:42:44.601Z"
      },
      {
        "duration": 6,
        "start_time": "2021-06-29T11:42:44.698Z"
      },
      {
        "duration": 3008,
        "start_time": "2021-06-29T11:42:44.708Z"
      },
      {
        "duration": 16,
        "start_time": "2021-06-29T11:42:47.718Z"
      },
      {
        "duration": 9,
        "start_time": "2021-06-29T11:42:47.737Z"
      },
      {
        "duration": 52,
        "start_time": "2021-06-29T11:42:47.749Z"
      },
      {
        "duration": 142,
        "start_time": "2021-06-29T11:42:47.803Z"
      },
      {
        "duration": 7,
        "start_time": "2021-06-29T11:42:47.948Z"
      },
      {
        "duration": 1898,
        "start_time": "2021-06-29T11:47:00.038Z"
      },
      {
        "duration": 1717,
        "start_time": "2021-06-29T11:47:01.939Z"
      },
      {
        "duration": 5,
        "start_time": "2021-06-29T11:47:03.659Z"
      },
      {
        "duration": 209,
        "start_time": "2021-06-29T11:47:03.668Z"
      },
      {
        "duration": 225,
        "start_time": "2021-06-29T11:47:03.884Z"
      },
      {
        "duration": 261,
        "start_time": "2021-06-29T11:47:04.112Z"
      },
      {
        "duration": 148,
        "start_time": "2021-06-29T11:47:04.375Z"
      },
      {
        "duration": 63,
        "start_time": "2021-06-29T11:47:04.527Z"
      },
      {
        "duration": 67,
        "start_time": "2021-06-29T11:47:04.595Z"
      },
      {
        "duration": 269,
        "start_time": "2021-06-29T11:47:04.664Z"
      },
      {
        "duration": 567,
        "start_time": "2021-06-29T11:47:04.937Z"
      },
      {
        "duration": 327,
        "start_time": "2021-06-29T11:47:05.508Z"
      },
      {
        "duration": 193,
        "start_time": "2021-06-29T11:47:05.838Z"
      },
      {
        "duration": 112,
        "start_time": "2021-06-29T11:47:06.034Z"
      },
      {
        "duration": 6,
        "start_time": "2021-06-29T11:47:06.149Z"
      },
      {
        "duration": 3138,
        "start_time": "2021-06-29T11:47:06.158Z"
      },
      {
        "duration": 21,
        "start_time": "2021-06-29T11:47:09.300Z"
      },
      {
        "duration": 8,
        "start_time": "2021-06-29T11:47:09.324Z"
      },
      {
        "duration": 72,
        "start_time": "2021-06-29T11:47:09.335Z"
      },
      {
        "duration": 160,
        "start_time": "2021-06-29T11:47:09.410Z"
      },
      {
        "duration": 12,
        "start_time": "2021-06-29T11:47:09.573Z"
      },
      {
        "duration": 2209,
        "start_time": "2021-06-29T11:49:14.799Z"
      },
      {
        "duration": 1292,
        "start_time": "2021-06-29T11:49:17.011Z"
      },
      {
        "duration": 5,
        "start_time": "2021-06-29T11:49:18.306Z"
      },
      {
        "duration": 171,
        "start_time": "2021-06-29T11:49:18.313Z"
      },
      {
        "duration": 159,
        "start_time": "2021-06-29T11:49:18.486Z"
      },
      {
        "duration": 246,
        "start_time": "2021-06-29T11:49:18.648Z"
      },
      {
        "duration": 130,
        "start_time": "2021-06-29T11:49:18.896Z"
      },
      {
        "duration": 87,
        "start_time": "2021-06-29T11:49:19.032Z"
      },
      {
        "duration": 79,
        "start_time": "2021-06-29T11:49:19.123Z"
      },
      {
        "duration": 298,
        "start_time": "2021-06-29T11:49:19.206Z"
      },
      {
        "duration": 525,
        "start_time": "2021-06-29T11:49:19.507Z"
      },
      {
        "duration": 316,
        "start_time": "2021-06-29T11:49:20.035Z"
      },
      {
        "duration": 181,
        "start_time": "2021-06-29T11:49:20.354Z"
      },
      {
        "duration": 132,
        "start_time": "2021-06-29T11:49:20.538Z"
      },
      {
        "duration": 6,
        "start_time": "2021-06-29T11:49:20.685Z"
      },
      {
        "duration": 2672,
        "start_time": "2021-06-29T11:49:20.693Z"
      },
      {
        "duration": 24,
        "start_time": "2021-06-29T11:49:23.368Z"
      },
      {
        "duration": 8,
        "start_time": "2021-06-29T11:49:23.395Z"
      },
      {
        "duration": 27,
        "start_time": "2021-06-29T11:49:23.406Z"
      },
      {
        "duration": 159,
        "start_time": "2021-06-29T11:49:23.436Z"
      },
      {
        "duration": 7,
        "start_time": "2021-06-29T11:49:23.598Z"
      },
      {
        "duration": 344260,
        "start_time": "2021-06-29T11:49:23.609Z"
      },
      {
        "duration": 740,
        "start_time": "2021-06-29T11:55:07.873Z"
      },
      {
        "duration": 800,
        "start_time": "2021-06-29T11:55:58.100Z"
      },
      {
        "duration": 23,
        "start_time": "2021-06-29T11:56:50.148Z"
      },
      {
        "duration": 40,
        "start_time": "2021-06-29T11:56:53.402Z"
      },
      {
        "duration": 98,
        "start_time": "2021-06-29T11:57:17.489Z"
      },
      {
        "duration": 21,
        "start_time": "2021-06-29T11:57:28.059Z"
      },
      {
        "duration": 29,
        "start_time": "2021-06-29T11:57:31.099Z"
      },
      {
        "duration": 5,
        "start_time": "2021-06-29T11:58:37.885Z"
      },
      {
        "duration": 9,
        "start_time": "2021-06-29T11:58:42.414Z"
      },
      {
        "duration": 10,
        "start_time": "2021-06-29T12:02:17.306Z"
      },
      {
        "duration": 5,
        "start_time": "2021-06-29T12:03:40.388Z"
      },
      {
        "duration": 4,
        "start_time": "2021-06-29T12:04:35.908Z"
      },
      {
        "duration": 4,
        "start_time": "2021-06-29T12:04:38.758Z"
      },
      {
        "duration": 445,
        "start_time": "2021-06-29T12:06:31.106Z"
      },
      {
        "duration": 251,
        "start_time": "2021-06-29T12:06:50.214Z"
      },
      {
        "duration": 5,
        "start_time": "2021-06-29T12:12:55.328Z"
      },
      {
        "duration": 237,
        "start_time": "2021-06-29T12:12:58.566Z"
      },
      {
        "duration": 227,
        "start_time": "2021-06-29T12:13:20.257Z"
      },
      {
        "duration": 301,
        "start_time": "2021-06-29T12:13:23.965Z"
      },
      {
        "duration": 231,
        "start_time": "2021-06-29T12:14:52.171Z"
      },
      {
        "duration": 240,
        "start_time": "2021-06-29T12:15:40.527Z"
      },
      {
        "duration": 288,
        "start_time": "2021-06-29T12:16:44.405Z"
      },
      {
        "duration": 4,
        "start_time": "2021-06-29T12:16:59.514Z"
      },
      {
        "duration": 6,
        "start_time": "2021-06-29T12:17:04.120Z"
      },
      {
        "duration": 7,
        "start_time": "2021-06-29T12:17:11.118Z"
      },
      {
        "duration": 5,
        "start_time": "2021-06-29T12:17:39.165Z"
      },
      {
        "duration": 216,
        "start_time": "2021-06-29T12:17:40.074Z"
      },
      {
        "duration": 4,
        "start_time": "2021-06-29T12:22:12.706Z"
      },
      {
        "duration": 92,
        "start_time": "2021-06-29T12:23:13.440Z"
      },
      {
        "duration": 277,
        "start_time": "2021-06-29T12:23:19.135Z"
      },
      {
        "duration": 4,
        "start_time": "2021-06-29T12:23:26.527Z"
      },
      {
        "duration": 196,
        "start_time": "2021-06-29T12:24:45.040Z"
      },
      {
        "duration": 5,
        "start_time": "2021-06-29T12:25:52.379Z"
      },
      {
        "duration": 197,
        "start_time": "2021-06-29T12:25:55.512Z"
      },
      {
        "duration": 4,
        "start_time": "2021-06-29T12:27:17.264Z"
      },
      {
        "duration": 6,
        "start_time": "2021-06-29T12:27:44.812Z"
      },
      {
        "duration": 6,
        "start_time": "2021-06-29T12:28:05.411Z"
      },
      {
        "duration": 211,
        "start_time": "2021-06-29T12:28:08.224Z"
      },
      {
        "duration": 8,
        "start_time": "2021-06-29T12:28:28.252Z"
      },
      {
        "duration": 218,
        "start_time": "2021-06-29T12:29:11.564Z"
      },
      {
        "duration": 283,
        "start_time": "2021-06-29T12:30:21.538Z"
      },
      {
        "duration": 3,
        "start_time": "2021-06-29T12:30:50.439Z"
      },
      {
        "duration": 6,
        "start_time": "2021-06-29T12:30:55.042Z"
      },
      {
        "duration": 6,
        "start_time": "2021-06-29T12:30:59.794Z"
      },
      {
        "duration": 4,
        "start_time": "2021-06-29T12:31:10.777Z"
      },
      {
        "duration": 209,
        "start_time": "2021-06-29T12:31:11.919Z"
      },
      {
        "duration": 306,
        "start_time": "2021-06-29T12:31:36.099Z"
      },
      {
        "duration": 287,
        "start_time": "2021-06-29T12:31:44.017Z"
      },
      {
        "duration": 310,
        "start_time": "2021-06-29T12:31:47.233Z"
      },
      {
        "duration": 347,
        "start_time": "2021-06-29T12:31:51.839Z"
      },
      {
        "duration": 360,
        "start_time": "2021-06-29T12:31:56.065Z"
      },
      {
        "duration": 276,
        "start_time": "2021-06-29T12:32:25.476Z"
      },
      {
        "duration": 554,
        "start_time": "2021-06-29T12:33:41.817Z"
      },
      {
        "duration": 488,
        "start_time": "2021-06-29T12:34:14.404Z"
      },
      {
        "duration": 6,
        "start_time": "2021-06-29T12:34:25.824Z"
      },
      {
        "duration": 306,
        "start_time": "2021-06-29T12:34:34.349Z"
      },
      {
        "duration": 365,
        "start_time": "2021-06-29T12:34:51.277Z"
      },
      {
        "duration": 316,
        "start_time": "2021-06-29T12:35:01.000Z"
      },
      {
        "duration": 4,
        "start_time": "2021-06-29T12:35:58.562Z"
      },
      {
        "duration": 5,
        "start_time": "2021-06-29T12:36:07.796Z"
      },
      {
        "duration": 6,
        "start_time": "2021-06-29T12:48:32.392Z"
      },
      {
        "duration": 4,
        "start_time": "2021-06-29T12:48:45.269Z"
      },
      {
        "duration": 550,
        "start_time": "2021-06-29T12:48:46.377Z"
      },
      {
        "duration": 4,
        "start_time": "2021-06-29T12:48:51.602Z"
      },
      {
        "duration": 6,
        "start_time": "2021-06-29T12:48:51.989Z"
      },
      {
        "duration": 7,
        "start_time": "2021-06-29T12:49:01.138Z"
      },
      {
        "duration": 6,
        "start_time": "2021-06-29T12:53:07.131Z"
      },
      {
        "duration": 267,
        "start_time": "2021-06-29T12:53:14.292Z"
      },
      {
        "duration": 266,
        "start_time": "2021-06-29T12:53:22.309Z"
      },
      {
        "duration": 325,
        "start_time": "2021-06-29T12:53:31.061Z"
      },
      {
        "duration": 317,
        "start_time": "2021-06-29T12:55:13.071Z"
      },
      {
        "duration": 296,
        "start_time": "2021-06-29T12:55:20.098Z"
      },
      {
        "duration": 333,
        "start_time": "2021-06-29T12:55:31.013Z"
      },
      {
        "duration": 286,
        "start_time": "2021-06-29T12:55:39.995Z"
      },
      {
        "duration": 5,
        "start_time": "2021-06-29T12:57:11.081Z"
      },
      {
        "duration": 4,
        "start_time": "2021-06-29T12:57:16.016Z"
      },
      {
        "duration": 7,
        "start_time": "2021-06-29T12:57:19.934Z"
      },
      {
        "duration": 6,
        "start_time": "2021-06-29T12:57:29.597Z"
      },
      {
        "duration": 4,
        "start_time": "2021-06-29T12:58:40.685Z"
      },
      {
        "duration": 804,
        "start_time": "2021-06-29T12:58:57.419Z"
      },
      {
        "duration": 4,
        "start_time": "2021-06-29T12:59:16.494Z"
      },
      {
        "duration": 716,
        "start_time": "2021-06-29T12:59:16.924Z"
      },
      {
        "duration": 279,
        "start_time": "2021-06-29T13:00:21.035Z"
      },
      {
        "duration": 7,
        "start_time": "2021-06-29T13:00:30.522Z"
      },
      {
        "duration": 292,
        "start_time": "2021-06-29T13:01:19.944Z"
      },
      {
        "duration": 5,
        "start_time": "2021-06-29T13:01:41.474Z"
      },
      {
        "duration": 7,
        "start_time": "2021-06-29T13:01:45.651Z"
      },
      {
        "duration": 7,
        "start_time": "2021-06-29T13:01:57.668Z"
      },
      {
        "duration": 3,
        "start_time": "2021-06-29T13:02:12.487Z"
      },
      {
        "duration": 300,
        "start_time": "2021-06-29T13:02:19.855Z"
      },
      {
        "duration": 6,
        "start_time": "2021-06-29T13:02:33.064Z"
      },
      {
        "duration": 7,
        "start_time": "2021-06-29T13:02:35.894Z"
      },
      {
        "duration": 5,
        "start_time": "2021-06-29T13:02:36.489Z"
      },
      {
        "duration": 3,
        "start_time": "2021-06-29T13:02:47.401Z"
      },
      {
        "duration": 4,
        "start_time": "2021-06-29T13:02:54.734Z"
      },
      {
        "duration": 6,
        "start_time": "2021-06-29T13:03:01.156Z"
      },
      {
        "duration": 6,
        "start_time": "2021-06-29T13:03:22.100Z"
      },
      {
        "duration": 5,
        "start_time": "2021-06-29T13:03:23.464Z"
      },
      {
        "duration": 6,
        "start_time": "2021-06-29T13:03:43.179Z"
      },
      {
        "duration": 7,
        "start_time": "2021-06-29T13:04:44.787Z"
      },
      {
        "duration": 5,
        "start_time": "2021-06-29T13:04:45.348Z"
      },
      {
        "duration": 4,
        "start_time": "2021-06-29T13:04:46.507Z"
      },
      {
        "duration": 5,
        "start_time": "2021-06-29T13:04:59.565Z"
      },
      {
        "duration": 4,
        "start_time": "2021-06-29T13:05:08.110Z"
      },
      {
        "duration": 385,
        "start_time": "2021-06-29T13:05:52.384Z"
      },
      {
        "duration": 5,
        "start_time": "2021-06-29T13:06:02.266Z"
      },
      {
        "duration": 7,
        "start_time": "2021-06-29T13:06:06.796Z"
      },
      {
        "duration": 277,
        "start_time": "2021-06-29T13:06:21.422Z"
      },
      {
        "duration": 11,
        "start_time": "2021-06-29T13:08:14.207Z"
      },
      {
        "duration": 6,
        "start_time": "2021-06-29T13:08:26.776Z"
      },
      {
        "duration": 18,
        "start_time": "2021-06-29T13:08:32.648Z"
      },
      {
        "duration": 7,
        "start_time": "2021-06-29T13:08:59.500Z"
      },
      {
        "duration": 7,
        "start_time": "2021-06-29T13:08:59.893Z"
      },
      {
        "duration": 4,
        "start_time": "2021-06-29T13:09:00.890Z"
      },
      {
        "duration": 6,
        "start_time": "2021-06-29T13:09:02.401Z"
      },
      {
        "duration": 11,
        "start_time": "2021-06-29T13:09:05.015Z"
      },
      {
        "duration": 18,
        "start_time": "2021-06-29T13:09:05.685Z"
      },
      {
        "duration": 1093,
        "start_time": "2021-06-29T13:09:26.230Z"
      },
      {
        "duration": 1103,
        "start_time": "2021-06-29T13:09:35.169Z"
      },
      {
        "duration": 18,
        "start_time": "2021-06-29T13:09:42.077Z"
      },
      {
        "duration": 57,
        "start_time": "2021-06-29T13:10:49.936Z"
      },
      {
        "duration": 49,
        "start_time": "2021-06-29T13:10:58.576Z"
      },
      {
        "duration": 7,
        "start_time": "2021-06-29T13:11:38.865Z"
      },
      {
        "duration": 5,
        "start_time": "2021-06-29T13:11:40.059Z"
      },
      {
        "duration": 279,
        "start_time": "2021-06-29T13:11:40.981Z"
      },
      {
        "duration": 4,
        "start_time": "2021-06-29T13:11:50.827Z"
      },
      {
        "duration": 6,
        "start_time": "2021-06-29T13:11:51.896Z"
      },
      {
        "duration": 10,
        "start_time": "2021-06-29T13:11:55.167Z"
      },
      {
        "duration": 52,
        "start_time": "2021-06-29T13:11:55.836Z"
      },
      {
        "duration": 7,
        "start_time": "2021-06-29T13:12:23.441Z"
      },
      {
        "duration": 6,
        "start_time": "2021-06-29T13:12:23.911Z"
      },
      {
        "duration": 4,
        "start_time": "2021-06-29T13:12:24.372Z"
      },
      {
        "duration": 7,
        "start_time": "2021-06-29T13:12:24.854Z"
      },
      {
        "duration": 11,
        "start_time": "2021-06-29T13:12:25.712Z"
      },
      {
        "duration": 53,
        "start_time": "2021-06-29T13:12:26.308Z"
      },
      {
        "duration": 37,
        "start_time": "2021-06-29T13:12:29.269Z"
      },
      {
        "duration": 7,
        "start_time": "2021-06-29T13:12:48.784Z"
      },
      {
        "duration": 6,
        "start_time": "2021-06-29T13:12:49.179Z"
      },
      {
        "duration": 4,
        "start_time": "2021-06-29T13:12:49.655Z"
      },
      {
        "duration": 6,
        "start_time": "2021-06-29T13:12:50.396Z"
      },
      {
        "duration": 12,
        "start_time": "2021-06-29T13:12:51.399Z"
      },
      {
        "duration": 50,
        "start_time": "2021-06-29T13:12:52.099Z"
      },
      {
        "duration": 24,
        "start_time": "2021-06-29T13:13:34.082Z"
      },
      {
        "duration": 57,
        "start_time": "2021-06-29T13:13:41.122Z"
      },
      {
        "duration": 18,
        "start_time": "2021-06-29T13:13:45.757Z"
      },
      {
        "duration": 1517,
        "start_time": "2021-06-29T13:14:14.159Z"
      },
      {
        "duration": 1065,
        "start_time": "2021-06-29T13:14:15.679Z"
      },
      {
        "duration": 5,
        "start_time": "2021-06-29T13:14:16.748Z"
      },
      {
        "duration": 176,
        "start_time": "2021-06-29T13:14:16.757Z"
      },
      {
        "duration": 173,
        "start_time": "2021-06-29T13:14:16.936Z"
      },
      {
        "duration": 250,
        "start_time": "2021-06-29T13:14:17.112Z"
      },
      {
        "duration": 139,
        "start_time": "2021-06-29T13:14:17.364Z"
      },
      {
        "duration": 51,
        "start_time": "2021-06-29T13:14:17.506Z"
      },
      {
        "duration": 51,
        "start_time": "2021-06-29T13:14:17.582Z"
      },
      {
        "duration": 208,
        "start_time": "2021-06-29T13:14:17.637Z"
      },
      {
        "duration": 371,
        "start_time": "2021-06-29T13:14:17.847Z"
      },
      {
        "duration": 230,
        "start_time": "2021-06-29T13:14:18.221Z"
      },
      {
        "duration": 122,
        "start_time": "2021-06-29T13:14:18.453Z"
      },
      {
        "duration": 70,
        "start_time": "2021-06-29T13:14:18.584Z"
      },
      {
        "duration": 5,
        "start_time": "2021-06-29T13:14:18.656Z"
      },
      {
        "duration": 2580,
        "start_time": "2021-06-29T13:14:18.684Z"
      },
      {
        "duration": 27,
        "start_time": "2021-06-29T13:14:21.267Z"
      },
      {
        "duration": 9,
        "start_time": "2021-06-29T13:14:21.297Z"
      },
      {
        "duration": 28,
        "start_time": "2021-06-29T13:14:21.308Z"
      },
      {
        "duration": 153,
        "start_time": "2021-06-29T13:14:21.338Z"
      },
      {
        "duration": 30,
        "start_time": "2021-06-29T13:14:21.494Z"
      },
      {
        "duration": 355677,
        "start_time": "2021-06-29T13:14:21.526Z"
      },
      {
        "duration": 801,
        "start_time": "2021-06-29T13:20:17.206Z"
      },
      {
        "duration": 7,
        "start_time": "2021-06-29T13:20:18.010Z"
      },
      {
        "duration": 9,
        "start_time": "2021-06-29T13:20:18.083Z"
      },
      {
        "duration": 468,
        "start_time": "2021-06-29T13:20:18.096Z"
      },
      {
        "duration": -44,
        "start_time": "2021-06-29T13:20:18.610Z"
      },
      {
        "duration": -44,
        "start_time": "2021-06-29T13:20:18.612Z"
      },
      {
        "duration": -48,
        "start_time": "2021-06-29T13:20:18.617Z"
      },
      {
        "duration": -48,
        "start_time": "2021-06-29T13:20:18.619Z"
      },
      {
        "duration": -47,
        "start_time": "2021-06-29T13:20:18.620Z"
      },
      {
        "duration": 4,
        "start_time": "2021-06-29T13:20:31.404Z"
      },
      {
        "duration": 6,
        "start_time": "2021-06-29T13:20:31.971Z"
      },
      {
        "duration": 14,
        "start_time": "2021-06-29T13:20:32.735Z"
      },
      {
        "duration": 18,
        "start_time": "2021-06-29T13:20:33.466Z"
      },
      {
        "duration": 371,
        "start_time": "2021-06-29T13:22:15.544Z"
      },
      {
        "duration": 303,
        "start_time": "2021-06-29T13:22:28.690Z"
      },
      {
        "duration": 28,
        "start_time": "2021-06-29T13:22:56.046Z"
      },
      {
        "duration": 27,
        "start_time": "2021-06-29T13:22:59.843Z"
      },
      {
        "duration": 26,
        "start_time": "2021-06-29T13:23:10.337Z"
      },
      {
        "duration": 4,
        "start_time": "2021-06-29T13:23:36.404Z"
      },
      {
        "duration": 6,
        "start_time": "2021-06-29T13:23:39.125Z"
      },
      {
        "duration": 299,
        "start_time": "2021-06-29T13:23:44.932Z"
      },
      {
        "duration": 299,
        "start_time": "2021-06-29T13:23:50.020Z"
      },
      {
        "duration": 6,
        "start_time": "2021-06-29T13:23:56.562Z"
      },
      {
        "duration": 5,
        "start_time": "2021-06-29T13:24:42.130Z"
      },
      {
        "duration": 6,
        "start_time": "2021-06-29T13:24:50.273Z"
      },
      {
        "duration": 13,
        "start_time": "2021-06-29T13:25:16.687Z"
      },
      {
        "duration": 344,
        "start_time": "2021-06-29T13:25:21.525Z"
      },
      {
        "duration": 650,
        "start_time": "2021-06-29T13:25:41.424Z"
      },
      {
        "duration": 6,
        "start_time": "2021-06-29T13:25:46.654Z"
      },
      {
        "duration": 4,
        "start_time": "2021-06-29T13:26:03.526Z"
      },
      {
        "duration": 208,
        "start_time": "2021-06-29T13:26:05.115Z"
      },
      {
        "duration": 7,
        "start_time": "2021-06-29T13:26:20.920Z"
      },
      {
        "duration": 283,
        "start_time": "2021-06-29T13:26:21.679Z"
      },
      {
        "duration": 3471,
        "start_time": "2021-06-29T13:27:39.500Z"
      },
      {
        "duration": 3497,
        "start_time": "2021-06-29T13:27:57.150Z"
      },
      {
        "duration": 4,
        "start_time": "2021-06-29T13:28:51.475Z"
      },
      {
        "duration": 557,
        "start_time": "2021-06-29T13:28:52.413Z"
      },
      {
        "duration": 6,
        "start_time": "2021-06-29T13:29:13.436Z"
      },
      {
        "duration": 7,
        "start_time": "2021-06-29T13:29:17.761Z"
      },
      {
        "duration": 5,
        "start_time": "2021-06-29T13:29:20.552Z"
      },
      {
        "duration": 447,
        "start_time": "2021-06-29T13:29:21.359Z"
      },
      {
        "duration": 11205,
        "start_time": "2021-06-29T13:31:11.489Z"
      },
      {
        "duration": 121,
        "start_time": "2021-06-29T13:31:38.254Z"
      },
      {
        "duration": 31,
        "start_time": "2021-06-29T13:31:47.408Z"
      },
      {
        "duration": 5,
        "start_time": "2021-06-29T13:31:54.095Z"
      },
      {
        "duration": 1235,
        "start_time": "2021-06-29T13:31:54.909Z"
      },
      {
        "duration": 5,
        "start_time": "2021-06-29T13:32:58.938Z"
      },
      {
        "duration": 117,
        "start_time": "2021-06-29T13:33:15.750Z"
      },
      {
        "duration": 5,
        "start_time": "2021-06-29T13:33:37.677Z"
      },
      {
        "duration": 6,
        "start_time": "2021-06-29T13:33:41.078Z"
      },
      {
        "duration": 5,
        "start_time": "2021-06-29T13:33:44.085Z"
      },
      {
        "duration": 1507,
        "start_time": "2021-06-29T13:34:15.033Z"
      },
      {
        "duration": 1089,
        "start_time": "2021-06-29T13:34:16.542Z"
      },
      {
        "duration": 5,
        "start_time": "2021-06-29T13:34:17.634Z"
      },
      {
        "duration": 178,
        "start_time": "2021-06-29T13:34:17.642Z"
      },
      {
        "duration": 177,
        "start_time": "2021-06-29T13:34:17.823Z"
      },
      {
        "duration": 253,
        "start_time": "2021-06-29T13:34:18.003Z"
      },
      {
        "duration": 137,
        "start_time": "2021-06-29T13:34:18.258Z"
      },
      {
        "duration": 48,
        "start_time": "2021-06-29T13:34:18.399Z"
      },
      {
        "duration": 69,
        "start_time": "2021-06-29T13:34:18.450Z"
      },
      {
        "duration": 211,
        "start_time": "2021-06-29T13:34:18.521Z"
      },
      {
        "duration": 396,
        "start_time": "2021-06-29T13:34:18.735Z"
      },
      {
        "duration": 249,
        "start_time": "2021-06-29T13:34:19.134Z"
      },
      {
        "duration": 135,
        "start_time": "2021-06-29T13:34:19.386Z"
      },
      {
        "duration": 80,
        "start_time": "2021-06-29T13:34:19.524Z"
      },
      {
        "duration": 5,
        "start_time": "2021-06-29T13:34:19.607Z"
      },
      {
        "duration": 2630,
        "start_time": "2021-06-29T13:34:19.615Z"
      },
      {
        "duration": 15,
        "start_time": "2021-06-29T13:34:22.248Z"
      },
      {
        "duration": 18,
        "start_time": "2021-06-29T13:34:22.266Z"
      },
      {
        "duration": 28,
        "start_time": "2021-06-29T13:34:22.287Z"
      },
      {
        "duration": 140,
        "start_time": "2021-06-29T13:34:22.318Z"
      },
      {
        "duration": 38,
        "start_time": "2021-06-29T13:34:22.460Z"
      },
      {
        "duration": 345179,
        "start_time": "2021-06-29T13:34:22.500Z"
      },
      {
        "duration": 812,
        "start_time": "2021-06-29T13:40:07.684Z"
      },
      {
        "duration": 6,
        "start_time": "2021-06-29T13:40:08.499Z"
      },
      {
        "duration": 8,
        "start_time": "2021-06-29T13:40:08.508Z"
      },
      {
        "duration": 806,
        "start_time": "2021-06-29T13:40:08.519Z"
      },
      {
        "duration": -110,
        "start_time": "2021-06-29T13:40:09.437Z"
      },
      {
        "duration": -110,
        "start_time": "2021-06-29T13:40:09.438Z"
      },
      {
        "duration": 15,
        "start_time": "2021-06-29T13:41:43.501Z"
      },
      {
        "duration": 122,
        "start_time": "2021-06-29T13:41:44.090Z"
      },
      {
        "duration": 4,
        "start_time": "2021-06-29T13:41:48.700Z"
      },
      {
        "duration": 14908,
        "start_time": "2021-06-29T13:41:49.580Z"
      },
      {
        "duration": 375,
        "start_time": "2021-06-29T13:42:56.013Z"
      },
      {
        "duration": 1677,
        "start_time": "2021-06-29T13:44:22.896Z"
      },
      {
        "duration": 1141,
        "start_time": "2021-06-29T13:44:24.576Z"
      },
      {
        "duration": 4,
        "start_time": "2021-06-29T13:44:25.720Z"
      },
      {
        "duration": 180,
        "start_time": "2021-06-29T13:44:25.727Z"
      },
      {
        "duration": 165,
        "start_time": "2021-06-29T13:44:25.909Z"
      },
      {
        "duration": 250,
        "start_time": "2021-06-29T13:44:26.083Z"
      },
      {
        "duration": 163,
        "start_time": "2021-06-29T13:44:26.336Z"
      },
      {
        "duration": 46,
        "start_time": "2021-06-29T13:44:26.503Z"
      },
      {
        "duration": 70,
        "start_time": "2021-06-29T13:44:26.552Z"
      },
      {
        "duration": 204,
        "start_time": "2021-06-29T13:44:26.625Z"
      },
      {
        "duration": 421,
        "start_time": "2021-06-29T13:44:26.832Z"
      },
      {
        "duration": 229,
        "start_time": "2021-06-29T13:44:27.255Z"
      },
      {
        "duration": 122,
        "start_time": "2021-06-29T13:44:27.486Z"
      },
      {
        "duration": 81,
        "start_time": "2021-06-29T13:44:27.610Z"
      },
      {
        "duration": 4,
        "start_time": "2021-06-29T13:44:27.693Z"
      },
      {
        "duration": 2690,
        "start_time": "2021-06-29T13:44:27.699Z"
      },
      {
        "duration": 16,
        "start_time": "2021-06-29T13:44:30.392Z"
      },
      {
        "duration": 16,
        "start_time": "2021-06-29T13:44:30.410Z"
      },
      {
        "duration": 42,
        "start_time": "2021-06-29T13:44:30.429Z"
      },
      {
        "duration": 136,
        "start_time": "2021-06-29T13:44:30.473Z"
      },
      {
        "duration": 30,
        "start_time": "2021-06-29T13:44:30.611Z"
      },
      {
        "duration": 344134,
        "start_time": "2021-06-29T13:44:30.643Z"
      },
      {
        "duration": 803,
        "start_time": "2021-06-29T13:50:14.787Z"
      },
      {
        "duration": 7,
        "start_time": "2021-06-29T13:50:15.593Z"
      },
      {
        "duration": 7,
        "start_time": "2021-06-29T13:50:15.603Z"
      },
      {
        "duration": 17,
        "start_time": "2021-06-29T13:50:15.613Z"
      },
      {
        "duration": 167,
        "start_time": "2021-06-29T13:50:15.633Z"
      },
      {
        "duration": 5,
        "start_time": "2021-06-29T13:50:15.803Z"
      },
      {
        "duration": 5582,
        "start_time": "2021-06-29T13:50:15.811Z"
      },
      {
        "duration": 1585,
        "start_time": "2021-06-29T13:53:10.870Z"
      },
      {
        "duration": 1064,
        "start_time": "2021-06-29T13:53:12.458Z"
      },
      {
        "duration": 6,
        "start_time": "2021-06-29T13:53:13.526Z"
      },
      {
        "duration": 182,
        "start_time": "2021-06-29T13:53:13.535Z"
      },
      {
        "duration": 167,
        "start_time": "2021-06-29T13:53:13.720Z"
      },
      {
        "duration": 238,
        "start_time": "2021-06-29T13:53:13.890Z"
      },
      {
        "duration": 132,
        "start_time": "2021-06-29T13:53:14.131Z"
      },
      {
        "duration": 47,
        "start_time": "2021-06-29T13:53:14.267Z"
      },
      {
        "duration": 66,
        "start_time": "2021-06-29T13:53:14.318Z"
      },
      {
        "duration": 196,
        "start_time": "2021-06-29T13:53:14.387Z"
      },
      {
        "duration": 362,
        "start_time": "2021-06-29T13:53:14.586Z"
      },
      {
        "duration": 227,
        "start_time": "2021-06-29T13:53:14.951Z"
      },
      {
        "duration": 114,
        "start_time": "2021-06-29T13:53:15.183Z"
      },
      {
        "duration": 85,
        "start_time": "2021-06-29T13:53:15.299Z"
      },
      {
        "duration": 5,
        "start_time": "2021-06-29T13:53:15.386Z"
      },
      {
        "duration": 2526,
        "start_time": "2021-06-29T13:53:15.393Z"
      },
      {
        "duration": 15,
        "start_time": "2021-06-29T13:53:17.921Z"
      },
      {
        "duration": 10,
        "start_time": "2021-06-29T13:53:17.939Z"
      },
      {
        "duration": 47,
        "start_time": "2021-06-29T13:53:17.951Z"
      },
      {
        "duration": 132,
        "start_time": "2021-06-29T13:53:18.000Z"
      },
      {
        "duration": 27,
        "start_time": "2021-06-29T13:53:18.135Z"
      },
      {
        "duration": 356537,
        "start_time": "2021-06-29T13:53:18.165Z"
      },
      {
        "duration": 888,
        "start_time": "2021-06-29T13:59:14.708Z"
      },
      {
        "duration": 5,
        "start_time": "2021-06-29T13:59:15.599Z"
      },
      {
        "duration": 10,
        "start_time": "2021-06-29T13:59:15.607Z"
      },
      {
        "duration": 19,
        "start_time": "2021-06-29T13:59:15.619Z"
      },
      {
        "duration": 273,
        "start_time": "2021-06-29T13:59:15.641Z"
      },
      {
        "duration": 4,
        "start_time": "2021-06-29T13:59:15.917Z"
      },
      {
        "duration": 13476,
        "start_time": "2021-06-29T13:59:15.925Z"
      },
      {
        "duration": 82,
        "start_time": "2021-06-29T13:59:29.405Z"
      },
      {
        "duration": 108,
        "start_time": "2021-06-29T13:59:29.492Z"
      },
      {
        "duration": 695,
        "start_time": "2021-06-29T13:59:29.603Z"
      },
      {
        "duration": 727,
        "start_time": "2021-06-29T13:59:54.364Z"
      },
      {
        "duration": 5,
        "start_time": "2021-06-29T14:06:04.349Z"
      },
      {
        "duration": 430,
        "start_time": "2021-06-29T14:15:23.236Z"
      },
      {
        "duration": 284,
        "start_time": "2021-06-29T14:15:29.636Z"
      },
      {
        "duration": 4,
        "start_time": "2021-06-29T14:15:38.279Z"
      },
      {
        "duration": 4,
        "start_time": "2021-06-29T14:15:43.008Z"
      },
      {
        "duration": 6,
        "start_time": "2021-06-29T14:15:47.004Z"
      },
      {
        "duration": 278,
        "start_time": "2021-06-29T14:15:53.808Z"
      },
      {
        "duration": 6,
        "start_time": "2021-06-29T14:16:17.497Z"
      },
      {
        "duration": 11,
        "start_time": "2021-06-29T14:20:15.998Z"
      },
      {
        "duration": 122,
        "start_time": "2021-06-29T14:21:22.585Z"
      },
      {
        "duration": 283,
        "start_time": "2021-06-29T14:21:33.574Z"
      },
      {
        "duration": 367,
        "start_time": "2021-06-29T14:22:29.241Z"
      },
      {
        "duration": 410,
        "start_time": "2021-06-29T14:23:00.383Z"
      },
      {
        "duration": 618,
        "start_time": "2021-06-29T14:24:09.491Z"
      },
      {
        "duration": 644,
        "start_time": "2021-06-29T14:25:08.181Z"
      },
      {
        "duration": 291,
        "start_time": "2021-06-29T14:26:12.975Z"
      },
      {
        "duration": 121,
        "start_time": "2021-06-29T14:26:28.330Z"
      },
      {
        "duration": 328,
        "start_time": "2021-06-29T14:26:35.814Z"
      },
      {
        "duration": 353,
        "start_time": "2021-06-29T14:27:23.956Z"
      },
      {
        "duration": 95,
        "start_time": "2021-06-29T14:28:27.359Z"
      },
      {
        "duration": 311,
        "start_time": "2021-06-29T14:28:42.412Z"
      },
      {
        "duration": 370,
        "start_time": "2021-06-29T14:29:43.694Z"
      },
      {
        "duration": 14,
        "start_time": "2021-06-29T14:29:54.878Z"
      },
      {
        "duration": 5,
        "start_time": "2021-06-29T14:29:59.359Z"
      },
      {
        "duration": 189,
        "start_time": "2021-06-29T14:31:11.870Z"
      },
      {
        "duration": 104,
        "start_time": "2021-06-29T14:31:40.446Z"
      },
      {
        "duration": 200,
        "start_time": "2021-06-29T14:33:35.665Z"
      },
      {
        "duration": 192,
        "start_time": "2021-06-29T14:34:14.765Z"
      },
      {
        "duration": 205,
        "start_time": "2021-06-29T14:34:33.853Z"
      },
      {
        "duration": 308,
        "start_time": "2021-06-29T14:35:43.809Z"
      },
      {
        "duration": 520,
        "start_time": "2021-06-29T14:36:33.178Z"
      },
      {
        "duration": 933,
        "start_time": "2021-06-29T14:36:42.753Z"
      },
      {
        "duration": 561,
        "start_time": "2021-06-29T14:36:47.357Z"
      },
      {
        "duration": 636,
        "start_time": "2021-06-29T14:37:49.297Z"
      },
      {
        "duration": 1630,
        "start_time": "2021-06-29T14:39:19.807Z"
      },
      {
        "duration": 1068,
        "start_time": "2021-06-29T14:39:21.439Z"
      },
      {
        "duration": 5,
        "start_time": "2021-06-29T14:39:22.510Z"
      },
      {
        "duration": 172,
        "start_time": "2021-06-29T14:39:22.518Z"
      },
      {
        "duration": 161,
        "start_time": "2021-06-29T14:39:22.693Z"
      },
      {
        "duration": 243,
        "start_time": "2021-06-29T14:39:22.857Z"
      },
      {
        "duration": 125,
        "start_time": "2021-06-29T14:39:23.102Z"
      },
      {
        "duration": 57,
        "start_time": "2021-06-29T14:39:23.231Z"
      },
      {
        "duration": 50,
        "start_time": "2021-06-29T14:39:23.291Z"
      },
      {
        "duration": 204,
        "start_time": "2021-06-29T14:39:23.344Z"
      },
      {
        "duration": 350,
        "start_time": "2021-06-29T14:39:23.551Z"
      },
      {
        "duration": 227,
        "start_time": "2021-06-29T14:39:23.904Z"
      },
      {
        "duration": 119,
        "start_time": "2021-06-29T14:39:24.133Z"
      },
      {
        "duration": 86,
        "start_time": "2021-06-29T14:39:24.255Z"
      },
      {
        "duration": 5,
        "start_time": "2021-06-29T14:39:24.344Z"
      },
      {
        "duration": 2580,
        "start_time": "2021-06-29T14:39:24.351Z"
      },
      {
        "duration": 16,
        "start_time": "2021-06-29T14:39:26.934Z"
      },
      {
        "duration": 31,
        "start_time": "2021-06-29T14:39:26.952Z"
      },
      {
        "duration": 24,
        "start_time": "2021-06-29T14:39:26.986Z"
      },
      {
        "duration": 137,
        "start_time": "2021-06-29T14:39:27.012Z"
      },
      {
        "duration": 37,
        "start_time": "2021-06-29T14:39:27.152Z"
      },
      {
        "duration": 342678,
        "start_time": "2021-06-29T14:39:27.192Z"
      },
      {
        "duration": 730,
        "start_time": "2021-06-29T14:45:09.876Z"
      },
      {
        "duration": 5,
        "start_time": "2021-06-29T14:45:10.609Z"
      },
      {
        "duration": 5,
        "start_time": "2021-06-29T14:45:10.684Z"
      },
      {
        "duration": 16,
        "start_time": "2021-06-29T14:45:10.692Z"
      },
      {
        "duration": 153,
        "start_time": "2021-06-29T14:45:10.710Z"
      },
      {
        "duration": 5,
        "start_time": "2021-06-29T14:45:10.866Z"
      },
      {
        "duration": 5509,
        "start_time": "2021-06-29T14:45:10.882Z"
      },
      {
        "duration": 6,
        "start_time": "2021-06-29T14:45:16.393Z"
      },
      {
        "duration": 118,
        "start_time": "2021-06-29T14:45:16.402Z"
      },
      {
        "duration": 663,
        "start_time": "2021-06-29T14:45:16.522Z"
      },
      {
        "duration": 5,
        "start_time": "2021-06-29T14:45:17.188Z"
      },
      {
        "duration": 9,
        "start_time": "2021-06-29T14:45:17.196Z"
      },
      {
        "duration": 8,
        "start_time": "2021-06-29T14:45:17.207Z"
      },
      {
        "duration": 675,
        "start_time": "2021-06-29T14:45:17.218Z"
      },
      {
        "duration": 336,
        "start_time": "2021-06-29T14:45:17.896Z"
      },
      {
        "duration": 185,
        "start_time": "2021-06-29T14:45:18.234Z"
      },
      {
        "duration": 78909,
        "start_time": "2021-06-29T14:48:06.888Z"
      },
      {
        "duration": 210,
        "start_time": "2021-06-29T14:49:25.799Z"
      },
      {
        "duration": 1527,
        "start_time": "2021-06-29T14:50:55.413Z"
      },
      {
        "duration": 1088,
        "start_time": "2021-06-29T14:50:56.944Z"
      },
      {
        "duration": 5,
        "start_time": "2021-06-29T14:50:58.035Z"
      },
      {
        "duration": 165,
        "start_time": "2021-06-29T14:50:58.043Z"
      },
      {
        "duration": 182,
        "start_time": "2021-06-29T14:50:58.210Z"
      },
      {
        "duration": 246,
        "start_time": "2021-06-29T14:50:58.394Z"
      },
      {
        "duration": 123,
        "start_time": "2021-06-29T14:50:58.642Z"
      },
      {
        "duration": 54,
        "start_time": "2021-06-29T14:50:58.768Z"
      },
      {
        "duration": 64,
        "start_time": "2021-06-29T14:50:58.825Z"
      },
      {
        "duration": 221,
        "start_time": "2021-06-29T14:50:58.892Z"
      },
      {
        "duration": 357,
        "start_time": "2021-06-29T14:50:59.116Z"
      },
      {
        "duration": 233,
        "start_time": "2021-06-29T14:50:59.475Z"
      },
      {
        "duration": 138,
        "start_time": "2021-06-29T14:50:59.711Z"
      },
      {
        "duration": 76,
        "start_time": "2021-06-29T14:50:59.852Z"
      },
      {
        "duration": 6,
        "start_time": "2021-06-29T14:50:59.931Z"
      },
      {
        "duration": 2631,
        "start_time": "2021-06-29T14:50:59.939Z"
      },
      {
        "duration": 26,
        "start_time": "2021-06-29T14:51:02.573Z"
      },
      {
        "duration": 14,
        "start_time": "2021-06-29T14:51:02.602Z"
      },
      {
        "duration": 35,
        "start_time": "2021-06-29T14:51:02.619Z"
      },
      {
        "duration": 148,
        "start_time": "2021-06-29T14:51:02.656Z"
      },
      {
        "duration": 29,
        "start_time": "2021-06-29T14:51:02.807Z"
      },
      {
        "duration": 341850,
        "start_time": "2021-06-29T14:51:02.838Z"
      },
      {
        "duration": 1012,
        "start_time": "2021-06-29T14:56:44.695Z"
      },
      {
        "duration": 75,
        "start_time": "2021-06-29T14:56:45.710Z"
      },
      {
        "duration": 14,
        "start_time": "2021-06-29T14:56:45.788Z"
      },
      {
        "duration": 22,
        "start_time": "2021-06-29T14:56:45.805Z"
      },
      {
        "duration": 199,
        "start_time": "2021-06-29T14:56:45.829Z"
      },
      {
        "duration": 5,
        "start_time": "2021-06-29T14:56:46.030Z"
      },
      {
        "duration": 6550,
        "start_time": "2021-06-29T14:56:46.037Z"
      },
      {
        "duration": 6,
        "start_time": "2021-06-29T14:56:52.589Z"
      },
      {
        "duration": 93,
        "start_time": "2021-06-29T14:56:52.598Z"
      },
      {
        "duration": 612,
        "start_time": "2021-06-29T14:56:52.693Z"
      },
      {
        "duration": 75,
        "start_time": "2021-06-29T14:56:53.308Z"
      },
      {
        "duration": 9,
        "start_time": "2021-06-29T14:56:53.386Z"
      },
      {
        "duration": 12,
        "start_time": "2021-06-29T14:56:53.397Z"
      },
      {
        "duration": 618,
        "start_time": "2021-06-29T14:56:53.411Z"
      },
      {
        "duration": 74317,
        "start_time": "2021-06-29T14:56:54.031Z"
      },
      {
        "duration": 11,
        "start_time": "2021-06-29T14:58:08.351Z"
      },
      {
        "duration": 4222,
        "start_time": "2021-06-29T14:58:08.365Z"
      },
      {
        "duration": 101,
        "start_time": "2021-06-29T14:58:12.590Z"
      },
      {
        "duration": 630,
        "start_time": "2021-06-29T15:06:30.808Z"
      },
      {
        "duration": 1544,
        "start_time": "2021-06-29T15:06:42.120Z"
      },
      {
        "duration": 1135,
        "start_time": "2021-06-29T15:06:43.667Z"
      },
      {
        "duration": 5,
        "start_time": "2021-06-29T15:06:44.805Z"
      },
      {
        "duration": 163,
        "start_time": "2021-06-29T15:06:44.813Z"
      },
      {
        "duration": 173,
        "start_time": "2021-06-29T15:06:44.984Z"
      },
      {
        "duration": 432,
        "start_time": "2021-06-29T15:06:45.159Z"
      },
      {
        "duration": 227,
        "start_time": "2021-06-29T15:06:45.594Z"
      },
      {
        "duration": 95,
        "start_time": "2021-06-29T15:06:45.824Z"
      },
      {
        "duration": 81,
        "start_time": "2021-06-29T15:06:45.922Z"
      },
      {
        "duration": 194,
        "start_time": "2021-06-29T15:06:46.006Z"
      },
      {
        "duration": 823,
        "start_time": "2021-06-29T15:06:46.202Z"
      },
      {
        "duration": 20,
        "start_time": "2021-06-29T15:06:47.009Z"
      },
      {
        "duration": 19,
        "start_time": "2021-06-29T15:06:47.011Z"
      },
      {
        "duration": 12,
        "start_time": "2021-06-29T15:06:47.019Z"
      },
      {
        "duration": 12,
        "start_time": "2021-06-29T15:06:47.020Z"
      },
      {
        "duration": 13,
        "start_time": "2021-06-29T15:06:47.021Z"
      },
      {
        "duration": 12,
        "start_time": "2021-06-29T15:06:47.023Z"
      },
      {
        "duration": 12,
        "start_time": "2021-06-29T15:06:47.024Z"
      },
      {
        "duration": 13,
        "start_time": "2021-06-29T15:06:47.025Z"
      },
      {
        "duration": 13,
        "start_time": "2021-06-29T15:06:47.026Z"
      },
      {
        "duration": 14,
        "start_time": "2021-06-29T15:06:47.027Z"
      },
      {
        "duration": 8,
        "start_time": "2021-06-29T15:06:47.034Z"
      },
      {
        "duration": 9,
        "start_time": "2021-06-29T15:06:47.035Z"
      },
      {
        "duration": 9,
        "start_time": "2021-06-29T15:06:47.036Z"
      },
      {
        "duration": 9,
        "start_time": "2021-06-29T15:06:47.037Z"
      },
      {
        "duration": 9,
        "start_time": "2021-06-29T15:06:47.039Z"
      },
      {
        "duration": 8,
        "start_time": "2021-06-29T15:06:47.041Z"
      },
      {
        "duration": 8,
        "start_time": "2021-06-29T15:06:47.042Z"
      },
      {
        "duration": 3,
        "start_time": "2021-06-29T15:06:47.049Z"
      },
      {
        "duration": 2,
        "start_time": "2021-06-29T15:06:47.051Z"
      },
      {
        "duration": 2,
        "start_time": "2021-06-29T15:06:47.052Z"
      },
      {
        "duration": 2,
        "start_time": "2021-06-29T15:06:47.053Z"
      },
      {
        "duration": 3,
        "start_time": "2021-06-29T15:06:47.054Z"
      },
      {
        "duration": 2,
        "start_time": "2021-06-29T15:06:47.056Z"
      },
      {
        "duration": 2,
        "start_time": "2021-06-29T15:06:47.057Z"
      },
      {
        "duration": 2,
        "start_time": "2021-06-29T15:06:47.059Z"
      },
      {
        "duration": -3,
        "start_time": "2021-06-29T15:06:47.065Z"
      },
      {
        "duration": -3,
        "start_time": "2021-06-29T15:06:47.066Z"
      },
      {
        "duration": -3,
        "start_time": "2021-06-29T15:06:47.067Z"
      },
      {
        "duration": -2,
        "start_time": "2021-06-29T15:06:47.068Z"
      },
      {
        "duration": 473,
        "start_time": "2021-06-29T15:07:21.150Z"
      },
      {
        "duration": 323,
        "start_time": "2021-06-29T15:07:47.140Z"
      },
      {
        "duration": 1492,
        "start_time": "2021-06-29T15:07:55.632Z"
      },
      {
        "duration": 1164,
        "start_time": "2021-06-29T15:07:57.127Z"
      },
      {
        "duration": 6,
        "start_time": "2021-06-29T15:07:58.294Z"
      },
      {
        "duration": 183,
        "start_time": "2021-06-29T15:07:58.302Z"
      },
      {
        "duration": 164,
        "start_time": "2021-06-29T15:07:58.487Z"
      },
      {
        "duration": 234,
        "start_time": "2021-06-29T15:07:58.654Z"
      },
      {
        "duration": 134,
        "start_time": "2021-06-29T15:07:58.890Z"
      },
      {
        "duration": 57,
        "start_time": "2021-06-29T15:07:59.028Z"
      },
      {
        "duration": 50,
        "start_time": "2021-06-29T15:07:59.088Z"
      },
      {
        "duration": 210,
        "start_time": "2021-06-29T15:07:59.140Z"
      },
      {
        "duration": 477,
        "start_time": "2021-06-29T15:07:59.352Z"
      },
      {
        "duration": 227,
        "start_time": "2021-06-29T15:07:59.831Z"
      },
      {
        "duration": 121,
        "start_time": "2021-06-29T15:08:00.061Z"
      },
      {
        "duration": 71,
        "start_time": "2021-06-29T15:08:00.185Z"
      },
      {
        "duration": 5,
        "start_time": "2021-06-29T15:08:00.258Z"
      },
      {
        "duration": 2730,
        "start_time": "2021-06-29T15:08:00.284Z"
      },
      {
        "duration": 16,
        "start_time": "2021-06-29T15:08:03.017Z"
      },
      {
        "duration": 7,
        "start_time": "2021-06-29T15:08:03.036Z"
      },
      {
        "duration": 53,
        "start_time": "2021-06-29T15:08:03.045Z"
      },
      {
        "duration": 130,
        "start_time": "2021-06-29T15:08:03.101Z"
      },
      {
        "duration": 50,
        "start_time": "2021-06-29T15:08:03.233Z"
      },
      {
        "duration": 74017,
        "start_time": "2021-06-29T15:08:03.285Z"
      },
      {
        "duration": 212,
        "start_time": "2021-06-29T15:09:17.307Z"
      },
      {
        "duration": 5,
        "start_time": "2021-06-29T15:09:17.522Z"
      },
      {
        "duration": 13,
        "start_time": "2021-06-29T15:09:17.530Z"
      },
      {
        "duration": 28,
        "start_time": "2021-06-29T15:09:17.545Z"
      },
      {
        "duration": 114,
        "start_time": "2021-06-29T15:09:17.576Z"
      },
      {
        "duration": 6,
        "start_time": "2021-06-29T15:09:17.693Z"
      },
      {
        "duration": 5888,
        "start_time": "2021-06-29T15:09:17.701Z"
      },
      {
        "duration": 6,
        "start_time": "2021-06-29T15:09:23.592Z"
      },
      {
        "duration": 116,
        "start_time": "2021-06-29T15:09:23.600Z"
      },
      {
        "duration": 672,
        "start_time": "2021-06-29T15:09:23.718Z"
      },
      {
        "duration": 5,
        "start_time": "2021-06-29T15:09:24.392Z"
      },
      {
        "duration": 9,
        "start_time": "2021-06-29T15:09:24.399Z"
      },
      {
        "duration": 14,
        "start_time": "2021-06-29T15:09:24.410Z"
      },
      {
        "duration": 668,
        "start_time": "2021-06-29T15:09:24.426Z"
      },
      {
        "duration": 74795,
        "start_time": "2021-06-29T15:09:25.097Z"
      },
      {
        "duration": 10,
        "start_time": "2021-06-29T15:10:39.894Z"
      },
      {
        "duration": 4477,
        "start_time": "2021-06-29T15:10:39.907Z"
      },
      {
        "duration": 96,
        "start_time": "2021-06-29T15:10:44.388Z"
      },
      {
        "duration": 10,
        "start_time": "2021-06-29T15:10:44.491Z"
      },
      {
        "duration": 1437,
        "start_time": "2021-06-29T15:11:35.597Z"
      },
      {
        "duration": 1207,
        "start_time": "2021-06-29T15:11:37.036Z"
      },
      {
        "duration": 4,
        "start_time": "2021-06-29T15:11:38.246Z"
      },
      {
        "duration": 181,
        "start_time": "2021-06-29T15:11:38.254Z"
      },
      {
        "duration": 170,
        "start_time": "2021-06-29T15:11:38.438Z"
      },
      {
        "duration": 244,
        "start_time": "2021-06-29T15:11:38.611Z"
      },
      {
        "duration": 120,
        "start_time": "2021-06-29T15:11:38.857Z"
      },
      {
        "duration": 47,
        "start_time": "2021-06-29T15:11:38.985Z"
      },
      {
        "duration": 72,
        "start_time": "2021-06-29T15:11:39.035Z"
      },
      {
        "duration": 195,
        "start_time": "2021-06-29T15:11:39.110Z"
      },
      {
        "duration": 385,
        "start_time": "2021-06-29T15:11:39.308Z"
      },
      {
        "duration": 229,
        "start_time": "2021-06-29T15:11:39.695Z"
      },
      {
        "duration": 119,
        "start_time": "2021-06-29T15:11:39.926Z"
      },
      {
        "duration": 73,
        "start_time": "2021-06-29T15:11:40.048Z"
      },
      {
        "duration": 5,
        "start_time": "2021-06-29T15:11:40.123Z"
      },
      {
        "duration": 2659,
        "start_time": "2021-06-29T15:11:40.130Z"
      },
      {
        "duration": 17,
        "start_time": "2021-06-29T15:11:42.792Z"
      },
      {
        "duration": 7,
        "start_time": "2021-06-29T15:11:42.813Z"
      },
      {
        "duration": 62,
        "start_time": "2021-06-29T15:11:42.823Z"
      },
      {
        "duration": 132,
        "start_time": "2021-06-29T15:11:42.888Z"
      },
      {
        "duration": 30,
        "start_time": "2021-06-29T15:11:43.023Z"
      },
      {
        "duration": 344719,
        "start_time": "2021-06-29T15:11:43.056Z"
      },
      {
        "duration": -31,
        "start_time": "2021-06-29T15:17:27.809Z"
      },
      {
        "duration": -34,
        "start_time": "2021-06-29T15:17:27.813Z"
      },
      {
        "duration": -34,
        "start_time": "2021-06-29T15:17:27.815Z"
      },
      {
        "duration": -38,
        "start_time": "2021-06-29T15:17:27.820Z"
      },
      {
        "duration": -39,
        "start_time": "2021-06-29T15:17:27.822Z"
      },
      {
        "duration": -38,
        "start_time": "2021-06-29T15:17:27.823Z"
      },
      {
        "duration": -39,
        "start_time": "2021-06-29T15:17:27.825Z"
      },
      {
        "duration": -39,
        "start_time": "2021-06-29T15:17:27.826Z"
      },
      {
        "duration": -40,
        "start_time": "2021-06-29T15:17:27.828Z"
      },
      {
        "duration": -39,
        "start_time": "2021-06-29T15:17:27.829Z"
      },
      {
        "duration": -40,
        "start_time": "2021-06-29T15:17:27.831Z"
      },
      {
        "duration": -40,
        "start_time": "2021-06-29T15:17:27.832Z"
      },
      {
        "duration": -39,
        "start_time": "2021-06-29T15:17:27.833Z"
      },
      {
        "duration": -39,
        "start_time": "2021-06-29T15:17:27.834Z"
      },
      {
        "duration": -39,
        "start_time": "2021-06-29T15:17:27.835Z"
      },
      {
        "duration": -39,
        "start_time": "2021-06-29T15:17:27.836Z"
      },
      {
        "duration": -39,
        "start_time": "2021-06-29T15:17:27.838Z"
      },
      {
        "duration": -39,
        "start_time": "2021-06-29T15:17:27.839Z"
      },
      {
        "duration": 1537,
        "start_time": "2021-06-29T15:18:00.115Z"
      },
      {
        "duration": 1131,
        "start_time": "2021-06-29T15:18:01.655Z"
      },
      {
        "duration": 5,
        "start_time": "2021-06-29T15:18:02.789Z"
      },
      {
        "duration": 172,
        "start_time": "2021-06-29T15:18:02.796Z"
      },
      {
        "duration": 153,
        "start_time": "2021-06-29T15:18:02.971Z"
      },
      {
        "duration": 236,
        "start_time": "2021-06-29T15:18:03.127Z"
      },
      {
        "duration": 126,
        "start_time": "2021-06-29T15:18:03.366Z"
      },
      {
        "duration": 44,
        "start_time": "2021-06-29T15:18:03.495Z"
      },
      {
        "duration": 69,
        "start_time": "2021-06-29T15:18:03.542Z"
      },
      {
        "duration": 191,
        "start_time": "2021-06-29T15:18:03.613Z"
      },
      {
        "duration": 445,
        "start_time": "2021-06-29T15:18:03.807Z"
      },
      {
        "duration": 232,
        "start_time": "2021-06-29T15:18:04.254Z"
      },
      {
        "duration": 121,
        "start_time": "2021-06-29T15:18:04.488Z"
      },
      {
        "duration": 86,
        "start_time": "2021-06-29T15:18:04.611Z"
      },
      {
        "duration": 5,
        "start_time": "2021-06-29T15:18:04.700Z"
      },
      {
        "duration": 2546,
        "start_time": "2021-06-29T15:18:04.707Z"
      },
      {
        "duration": 29,
        "start_time": "2021-06-29T15:18:07.255Z"
      },
      {
        "duration": 6,
        "start_time": "2021-06-29T15:18:07.286Z"
      },
      {
        "duration": 33,
        "start_time": "2021-06-29T15:18:07.295Z"
      },
      {
        "duration": 150,
        "start_time": "2021-06-29T15:18:07.330Z"
      },
      {
        "duration": 28,
        "start_time": "2021-06-29T15:18:07.484Z"
      },
      {
        "duration": 344306,
        "start_time": "2021-06-29T15:18:07.514Z"
      },
      {
        "duration": 777,
        "start_time": "2021-06-29T15:23:51.825Z"
      },
      {
        "duration": 5,
        "start_time": "2021-06-29T15:23:52.605Z"
      },
      {
        "duration": 72,
        "start_time": "2021-06-29T15:23:52.613Z"
      },
      {
        "duration": 18,
        "start_time": "2021-06-29T15:23:52.687Z"
      },
      {
        "duration": 14885,
        "start_time": "2021-06-29T15:23:52.707Z"
      },
      {
        "duration": 6,
        "start_time": "2021-06-29T15:24:07.595Z"
      },
      {
        "duration": 126,
        "start_time": "2021-06-29T15:24:07.603Z"
      },
      {
        "duration": 654,
        "start_time": "2021-06-29T15:24:07.732Z"
      },
      {
        "duration": 5,
        "start_time": "2021-06-29T15:24:08.388Z"
      },
      {
        "duration": 8,
        "start_time": "2021-06-29T15:24:08.395Z"
      },
      {
        "duration": 7,
        "start_time": "2021-06-29T15:24:08.405Z"
      },
      {
        "duration": 667,
        "start_time": "2021-06-29T15:24:08.414Z"
      },
      {
        "duration": 74496,
        "start_time": "2021-06-29T15:24:09.084Z"
      },
      {
        "duration": 10,
        "start_time": "2021-06-29T15:25:23.583Z"
      },
      {
        "duration": 4588,
        "start_time": "2021-06-29T15:25:23.596Z"
      },
      {
        "duration": 89,
        "start_time": "2021-06-29T15:25:28.197Z"
      },
      {
        "duration": 7,
        "start_time": "2021-06-29T15:25:28.289Z"
      },
      {
        "duration": 1722,
        "start_time": "2021-06-29T15:37:41.122Z"
      },
      {
        "duration": 1146,
        "start_time": "2021-06-29T15:37:42.846Z"
      },
      {
        "duration": 5,
        "start_time": "2021-06-29T15:37:43.995Z"
      },
      {
        "duration": 180,
        "start_time": "2021-06-29T15:37:44.003Z"
      },
      {
        "duration": 165,
        "start_time": "2021-06-29T15:37:44.186Z"
      },
      {
        "duration": 255,
        "start_time": "2021-06-29T15:37:44.353Z"
      },
      {
        "duration": 136,
        "start_time": "2021-06-29T15:37:44.611Z"
      },
      {
        "duration": 70,
        "start_time": "2021-06-29T15:37:44.751Z"
      },
      {
        "duration": 65,
        "start_time": "2021-06-29T15:37:44.824Z"
      },
      {
        "duration": 208,
        "start_time": "2021-06-29T15:37:44.892Z"
      },
      {
        "duration": 411,
        "start_time": "2021-06-29T15:37:45.103Z"
      },
      {
        "duration": 246,
        "start_time": "2021-06-29T15:37:45.517Z"
      },
      {
        "duration": 170,
        "start_time": "2021-06-29T15:37:45.766Z"
      },
      {
        "duration": 118,
        "start_time": "2021-06-29T15:37:45.939Z"
      },
      {
        "duration": 6,
        "start_time": "2021-06-29T15:37:46.061Z"
      },
      {
        "duration": 2905,
        "start_time": "2021-06-29T15:37:46.082Z"
      },
      {
        "duration": 4,
        "start_time": "2021-06-29T15:37:48.989Z"
      },
      {
        "duration": 21,
        "start_time": "2021-06-29T15:37:48.996Z"
      },
      {
        "duration": 7,
        "start_time": "2021-06-29T15:37:49.020Z"
      },
      {
        "duration": 62,
        "start_time": "2021-06-29T15:37:49.030Z"
      },
      {
        "duration": 161,
        "start_time": "2021-06-29T15:37:49.095Z"
      },
      {
        "duration": 37,
        "start_time": "2021-06-29T15:37:49.259Z"
      },
      {
        "duration": 350452,
        "start_time": "2021-06-29T15:37:49.304Z"
      },
      {
        "duration": 747,
        "start_time": "2021-06-29T15:43:39.759Z"
      },
      {
        "duration": 4,
        "start_time": "2021-06-29T15:43:40.509Z"
      },
      {
        "duration": 6,
        "start_time": "2021-06-29T15:43:40.584Z"
      },
      {
        "duration": 8,
        "start_time": "2021-06-29T15:43:40.593Z"
      },
      {
        "duration": 15,
        "start_time": "2021-06-29T15:43:40.603Z"
      },
      {
        "duration": 5866,
        "start_time": "2021-06-29T15:43:40.621Z"
      },
      {
        "duration": 6,
        "start_time": "2021-06-29T15:43:46.490Z"
      },
      {
        "duration": 698,
        "start_time": "2021-06-29T15:43:46.498Z"
      },
      {
        "duration": 87,
        "start_time": "2021-06-29T15:43:47.199Z"
      },
      {
        "duration": 8,
        "start_time": "2021-06-29T15:43:47.289Z"
      },
      {
        "duration": 5,
        "start_time": "2021-06-29T15:43:47.300Z"
      },
      {
        "duration": 732,
        "start_time": "2021-06-29T15:43:47.309Z"
      },
      {
        "duration": 73140,
        "start_time": "2021-06-29T15:43:48.045Z"
      },
      {
        "duration": 11,
        "start_time": "2021-06-29T15:45:01.188Z"
      },
      {
        "duration": 4183,
        "start_time": "2021-06-29T15:45:01.202Z"
      },
      {
        "duration": 102,
        "start_time": "2021-06-29T15:45:05.389Z"
      },
      {
        "duration": 6,
        "start_time": "2021-06-29T15:45:05.584Z"
      },
      {
        "duration": 8,
        "start_time": "2021-06-29T15:45:05.604Z"
      },
      {
        "duration": 13,
        "start_time": "2021-06-29T15:45:05.615Z"
      },
      {
        "duration": 4,
        "start_time": "2021-06-29T15:45:39.074Z"
      },
      {
        "duration": 483,
        "start_time": "2021-06-29T15:45:44.704Z"
      },
      {
        "duration": 348,
        "start_time": "2021-06-29T15:46:18.831Z"
      },
      {
        "duration": 5,
        "start_time": "2021-06-29T15:46:24.763Z"
      },
      {
        "duration": 6,
        "start_time": "2021-06-29T15:47:30.205Z"
      },
      {
        "duration": 271,
        "start_time": "2021-06-29T15:47:46.840Z"
      },
      {
        "duration": 3,
        "start_time": "2021-06-29T15:47:49.714Z"
      },
      {
        "duration": 6,
        "start_time": "2021-06-29T15:47:50.325Z"
      },
      {
        "duration": 4,
        "start_time": "2021-06-29T15:47:50.646Z"
      },
      {
        "duration": 3,
        "start_time": "2021-06-29T15:47:56.420Z"
      },
      {
        "duration": 4,
        "start_time": "2021-06-29T15:48:02.352Z"
      },
      {
        "duration": 5,
        "start_time": "2021-06-29T15:48:02.721Z"
      },
      {
        "duration": 3,
        "start_time": "2021-06-29T15:48:03.075Z"
      },
      {
        "duration": 6,
        "start_time": "2021-06-29T15:48:04.101Z"
      },
      {
        "duration": 4,
        "start_time": "2021-06-29T15:48:31.099Z"
      },
      {
        "duration": 6,
        "start_time": "2021-06-29T15:48:34.981Z"
      },
      {
        "duration": 1636,
        "start_time": "2021-06-29T15:56:06.258Z"
      },
      {
        "duration": 1229,
        "start_time": "2021-06-29T15:56:07.897Z"
      },
      {
        "duration": 5,
        "start_time": "2021-06-29T15:56:09.130Z"
      },
      {
        "duration": 172,
        "start_time": "2021-06-29T15:56:09.138Z"
      },
      {
        "duration": 170,
        "start_time": "2021-06-29T15:56:09.312Z"
      },
      {
        "duration": 295,
        "start_time": "2021-06-29T15:56:09.485Z"
      },
      {
        "duration": 131,
        "start_time": "2021-06-29T15:56:09.783Z"
      },
      {
        "duration": 48,
        "start_time": "2021-06-29T15:56:09.919Z"
      },
      {
        "duration": 51,
        "start_time": "2021-06-29T15:56:09.984Z"
      },
      {
        "duration": 209,
        "start_time": "2021-06-29T15:56:10.038Z"
      },
      {
        "duration": 507,
        "start_time": "2021-06-29T15:56:10.249Z"
      },
      {
        "duration": 249,
        "start_time": "2021-06-29T15:56:10.759Z"
      },
      {
        "duration": 125,
        "start_time": "2021-06-29T15:56:11.010Z"
      },
      {
        "duration": 79,
        "start_time": "2021-06-29T15:56:11.138Z"
      },
      {
        "duration": 4,
        "start_time": "2021-06-29T15:56:11.220Z"
      },
      {
        "duration": 2564,
        "start_time": "2021-06-29T15:56:11.226Z"
      },
      {
        "duration": 4,
        "start_time": "2021-06-29T15:56:13.792Z"
      },
      {
        "duration": 20,
        "start_time": "2021-06-29T15:56:13.798Z"
      },
      {
        "duration": 11,
        "start_time": "2021-06-29T15:56:13.821Z"
      },
      {
        "duration": 42,
        "start_time": "2021-06-29T15:56:13.834Z"
      },
      {
        "duration": 123,
        "start_time": "2021-06-29T15:56:13.879Z"
      },
      {
        "duration": 30,
        "start_time": "2021-06-29T15:56:14.004Z"
      },
      {
        "duration": 345324,
        "start_time": "2021-06-29T15:56:14.039Z"
      },
      {
        "duration": 737,
        "start_time": "2021-06-29T16:01:59.367Z"
      },
      {
        "duration": 4,
        "start_time": "2021-06-29T16:02:00.107Z"
      },
      {
        "duration": 72,
        "start_time": "2021-06-29T16:02:00.113Z"
      },
      {
        "duration": 17,
        "start_time": "2021-06-29T16:02:00.188Z"
      },
      {
        "duration": 22,
        "start_time": "2021-06-29T16:02:00.207Z"
      },
      {
        "duration": 7156,
        "start_time": "2021-06-29T16:02:00.232Z"
      },
      {
        "duration": 7,
        "start_time": "2021-06-29T16:02:07.391Z"
      },
      {
        "duration": 696,
        "start_time": "2021-06-29T16:02:07.400Z"
      },
      {
        "duration": 5,
        "start_time": "2021-06-29T16:02:08.099Z"
      },
      {
        "duration": 6,
        "start_time": "2021-06-29T16:02:08.184Z"
      },
      {
        "duration": 17,
        "start_time": "2021-06-29T16:02:08.193Z"
      },
      {
        "duration": 7,
        "start_time": "2021-06-29T16:02:08.213Z"
      },
      {
        "duration": 688,
        "start_time": "2021-06-29T16:02:08.223Z"
      },
      {
        "duration": 73362,
        "start_time": "2021-06-29T16:02:08.914Z"
      },
      {
        "duration": 12,
        "start_time": "2021-06-29T16:03:22.278Z"
      },
      {
        "duration": 4,
        "start_time": "2021-06-29T16:03:22.293Z"
      },
      {
        "duration": 4386,
        "start_time": "2021-06-29T16:03:22.299Z"
      },
      {
        "duration": 99,
        "start_time": "2021-06-29T16:03:26.688Z"
      },
      {
        "duration": 8,
        "start_time": "2021-06-29T16:03:26.790Z"
      },
      {
        "duration": 632,
        "start_time": "2021-06-29T16:03:26.800Z"
      },
      {
        "duration": 5,
        "start_time": "2021-06-29T16:04:54.582Z"
      },
      {
        "duration": 24,
        "start_time": "2021-06-29T16:04:57.929Z"
      },
      {
        "duration": 416,
        "start_time": "2021-06-29T16:05:16.319Z"
      },
      {
        "duration": 20,
        "start_time": "2021-06-29T16:05:24.501Z"
      },
      {
        "duration": 19,
        "start_time": "2021-06-29T16:05:43.852Z"
      },
      {
        "duration": 269,
        "start_time": "2021-06-29T16:06:02.354Z"
      },
      {
        "duration": 259,
        "start_time": "2021-06-29T16:06:17.882Z"
      },
      {
        "duration": 20,
        "start_time": "2021-06-29T16:06:25.238Z"
      },
      {
        "duration": 26,
        "start_time": "2021-06-29T16:08:19.399Z"
      },
      {
        "duration": 1523,
        "start_time": "2021-06-29T16:09:41.232Z"
      },
      {
        "duration": 1101,
        "start_time": "2021-06-29T16:09:42.758Z"
      },
      {
        "duration": 5,
        "start_time": "2021-06-29T16:09:43.862Z"
      },
      {
        "duration": 175,
        "start_time": "2021-06-29T16:09:43.869Z"
      },
      {
        "duration": 172,
        "start_time": "2021-06-29T16:09:44.047Z"
      },
      {
        "duration": 242,
        "start_time": "2021-06-29T16:09:44.222Z"
      },
      {
        "duration": 133,
        "start_time": "2021-06-29T16:09:44.467Z"
      },
      {
        "duration": 46,
        "start_time": "2021-06-29T16:09:44.604Z"
      },
      {
        "duration": 74,
        "start_time": "2021-06-29T16:09:44.653Z"
      },
      {
        "duration": 200,
        "start_time": "2021-06-29T16:09:44.730Z"
      },
      {
        "duration": 386,
        "start_time": "2021-06-29T16:09:44.933Z"
      },
      {
        "duration": 340,
        "start_time": "2021-06-29T16:09:45.322Z"
      },
      {
        "duration": 123,
        "start_time": "2021-06-29T16:09:45.664Z"
      },
      {
        "duration": 69,
        "start_time": "2021-06-29T16:09:45.789Z"
      },
      {
        "duration": 22,
        "start_time": "2021-06-29T16:09:45.861Z"
      },
      {
        "duration": 2533,
        "start_time": "2021-06-29T16:09:45.885Z"
      },
      {
        "duration": 4,
        "start_time": "2021-06-29T16:09:48.420Z"
      },
      {
        "duration": 29,
        "start_time": "2021-06-29T16:09:48.426Z"
      },
      {
        "duration": 26,
        "start_time": "2021-06-29T16:09:48.457Z"
      },
      {
        "duration": 31,
        "start_time": "2021-06-29T16:09:48.486Z"
      },
      {
        "duration": 124,
        "start_time": "2021-06-29T16:09:48.520Z"
      },
      {
        "duration": 38,
        "start_time": "2021-06-29T16:09:48.647Z"
      },
      {
        "duration": 344774,
        "start_time": "2021-06-29T16:09:48.690Z"
      },
      {
        "duration": 738,
        "start_time": "2021-06-29T16:15:33.467Z"
      },
      {
        "duration": 76,
        "start_time": "2021-06-29T16:15:34.207Z"
      },
      {
        "duration": 5,
        "start_time": "2021-06-29T16:15:34.286Z"
      },
      {
        "duration": 8,
        "start_time": "2021-06-29T16:15:34.293Z"
      },
      {
        "duration": 15,
        "start_time": "2021-06-29T16:15:34.303Z"
      },
      {
        "duration": 9865,
        "start_time": "2021-06-29T16:15:34.320Z"
      },
      {
        "duration": 8,
        "start_time": "2021-06-29T16:15:44.187Z"
      },
      {
        "duration": 695,
        "start_time": "2021-06-29T16:15:44.198Z"
      },
      {
        "duration": 4,
        "start_time": "2021-06-29T16:15:44.895Z"
      },
      {
        "duration": 9,
        "start_time": "2021-06-29T16:15:44.901Z"
      },
      {
        "duration": 71,
        "start_time": "2021-06-29T16:15:44.912Z"
      },
      {
        "duration": 4,
        "start_time": "2021-06-29T16:15:44.986Z"
      },
      {
        "duration": 623,
        "start_time": "2021-06-29T16:15:44.992Z"
      },
      {
        "duration": 74873,
        "start_time": "2021-06-29T16:15:45.617Z"
      },
      {
        "duration": 10,
        "start_time": "2021-06-29T16:17:00.492Z"
      },
      {
        "duration": 26,
        "start_time": "2021-06-29T16:17:00.505Z"
      },
      {
        "duration": 4553,
        "start_time": "2021-06-29T16:17:00.534Z"
      },
      {
        "duration": 102,
        "start_time": "2021-06-29T16:17:05.091Z"
      },
      {
        "duration": 88,
        "start_time": "2021-06-29T16:17:05.196Z"
      },
      {
        "duration": 593,
        "start_time": "2021-06-29T16:17:05.286Z"
      },
      {
        "duration": 110,
        "start_time": "2021-06-29T16:18:39.485Z"
      },
      {
        "duration": 83,
        "start_time": "2021-06-29T16:19:33.488Z"
      },
      {
        "duration": 1594,
        "start_time": "2021-06-30T05:05:30.567Z"
      },
      {
        "duration": 1127,
        "start_time": "2021-06-30T05:05:32.163Z"
      },
      {
        "duration": 5,
        "start_time": "2021-06-30T05:05:51.671Z"
      },
      {
        "duration": 170,
        "start_time": "2021-06-30T05:05:52.624Z"
      },
      {
        "duration": 164,
        "start_time": "2021-06-30T05:05:57.338Z"
      },
      {
        "duration": 276,
        "start_time": "2021-06-30T05:06:19.743Z"
      },
      {
        "duration": 120,
        "start_time": "2021-06-30T05:06:21.400Z"
      },
      {
        "duration": 49,
        "start_time": "2021-06-30T05:06:23.536Z"
      },
      {
        "duration": 51,
        "start_time": "2021-06-30T05:06:26.344Z"
      },
      {
        "duration": 193,
        "start_time": "2021-06-30T05:06:26.911Z"
      },
      {
        "duration": 383,
        "start_time": "2021-06-30T05:06:27.601Z"
      },
      {
        "duration": 223,
        "start_time": "2021-06-30T05:06:30.403Z"
      },
      {
        "duration": 117,
        "start_time": "2021-06-30T05:06:31.052Z"
      },
      {
        "duration": 76,
        "start_time": "2021-06-30T05:06:31.242Z"
      },
      {
        "duration": 4,
        "start_time": "2021-06-30T05:06:31.471Z"
      },
      {
        "duration": 2673,
        "start_time": "2021-06-30T05:06:31.678Z"
      },
      {
        "duration": 4,
        "start_time": "2021-06-30T05:16:44.224Z"
      },
      {
        "duration": 16,
        "start_time": "2021-06-30T05:16:45.732Z"
      },
      {
        "duration": 6,
        "start_time": "2021-06-30T05:16:48.698Z"
      },
      {
        "duration": 23,
        "start_time": "2021-06-30T05:16:51.872Z"
      },
      {
        "duration": 119,
        "start_time": "2021-06-30T05:17:31.307Z"
      },
      {
        "duration": 422,
        "start_time": "2021-06-30T05:20:58.934Z"
      },
      {
        "duration": 29,
        "start_time": "2021-06-30T05:21:39.146Z"
      },
      {
        "duration": 5,
        "start_time": "2021-06-30T05:21:46.120Z"
      },
      {
        "duration": 5,
        "start_time": "2021-06-30T05:21:48.700Z"
      },
      {
        "duration": 5,
        "start_time": "2021-06-30T05:21:52.654Z"
      },
      {
        "duration": 646,
        "start_time": "2021-06-30T05:22:03.083Z"
      },
      {
        "duration": 6,
        "start_time": "2021-06-30T05:22:15.604Z"
      },
      {
        "duration": 70083,
        "start_time": "2021-06-30T05:22:55.083Z"
      },
      {
        "duration": 10,
        "start_time": "2021-06-30T05:24:05.169Z"
      },
      {
        "duration": 5,
        "start_time": "2021-06-30T05:24:52.717Z"
      },
      {
        "duration": 260,
        "start_time": "2021-06-30T05:26:21.029Z"
      },
      {
        "duration": 448,
        "start_time": "2021-06-30T05:26:33.171Z"
      },
      {
        "duration": 5,
        "start_time": "2021-06-30T05:26:38.980Z"
      },
      {
        "duration": 5,
        "start_time": "2021-06-30T05:26:54.642Z"
      },
      {
        "duration": 4,
        "start_time": "2021-06-30T05:38:58.964Z"
      },
      {
        "duration": 4715,
        "start_time": "2021-06-30T05:39:03.054Z"
      },
      {
        "duration": 102,
        "start_time": "2021-06-30T05:39:07.772Z"
      },
      {
        "duration": 4,
        "start_time": "2021-06-30T05:39:08.165Z"
      },
      {
        "duration": 4,
        "start_time": "2021-06-30T05:39:30.075Z"
      },
      {
        "duration": 4506,
        "start_time": "2021-06-30T05:39:38.662Z"
      },
      {
        "duration": 103,
        "start_time": "2021-06-30T05:39:43.269Z"
      },
      {
        "duration": 4,
        "start_time": "2021-06-30T05:39:47.077Z"
      },
      {
        "duration": 1614,
        "start_time": "2021-06-30T06:21:36.049Z"
      },
      {
        "duration": 1119,
        "start_time": "2021-06-30T06:21:37.665Z"
      },
      {
        "duration": 5,
        "start_time": "2021-06-30T06:21:38.786Z"
      },
      {
        "duration": 170,
        "start_time": "2021-06-30T06:21:38.793Z"
      },
      {
        "duration": 164,
        "start_time": "2021-06-30T06:21:38.968Z"
      },
      {
        "duration": 239,
        "start_time": "2021-06-30T06:21:39.135Z"
      },
      {
        "duration": 131,
        "start_time": "2021-06-30T06:21:39.376Z"
      },
      {
        "duration": 57,
        "start_time": "2021-06-30T06:21:39.511Z"
      },
      {
        "duration": 48,
        "start_time": "2021-06-30T06:21:39.571Z"
      },
      {
        "duration": 212,
        "start_time": "2021-06-30T06:21:39.621Z"
      },
      {
        "duration": 385,
        "start_time": "2021-06-30T06:21:39.835Z"
      },
      {
        "duration": 241,
        "start_time": "2021-06-30T06:21:40.222Z"
      },
      {
        "duration": 123,
        "start_time": "2021-06-30T06:21:40.467Z"
      },
      {
        "duration": 85,
        "start_time": "2021-06-30T06:21:40.592Z"
      },
      {
        "duration": 5,
        "start_time": "2021-06-30T06:21:40.680Z"
      },
      {
        "duration": 2661,
        "start_time": "2021-06-30T06:21:40.688Z"
      },
      {
        "duration": 4,
        "start_time": "2021-06-30T06:21:43.351Z"
      },
      {
        "duration": 26,
        "start_time": "2021-06-30T06:21:43.357Z"
      },
      {
        "duration": 9,
        "start_time": "2021-06-30T06:21:43.385Z"
      },
      {
        "duration": 28,
        "start_time": "2021-06-30T06:21:43.396Z"
      },
      {
        "duration": 151,
        "start_time": "2021-06-30T06:21:43.426Z"
      },
      {
        "duration": 30,
        "start_time": "2021-06-30T06:21:43.580Z"
      },
      {
        "duration": 335126,
        "start_time": "2021-06-30T06:21:43.617Z"
      },
      {
        "duration": 743,
        "start_time": "2021-06-30T06:27:18.746Z"
      },
      {
        "duration": 4,
        "start_time": "2021-06-30T06:27:19.491Z"
      },
      {
        "duration": 72,
        "start_time": "2021-06-30T06:27:19.498Z"
      },
      {
        "duration": 21,
        "start_time": "2021-06-30T06:27:19.572Z"
      },
      {
        "duration": 32,
        "start_time": "2021-06-30T06:27:19.596Z"
      },
      {
        "duration": 17545,
        "start_time": "2021-06-30T06:27:19.631Z"
      },
      {
        "duration": 5,
        "start_time": "2021-06-30T06:27:37.179Z"
      },
      {
        "duration": 785,
        "start_time": "2021-06-30T06:27:37.186Z"
      },
      {
        "duration": 4,
        "start_time": "2021-06-30T06:27:37.974Z"
      },
      {
        "duration": 8,
        "start_time": "2021-06-30T06:27:37.980Z"
      },
      {
        "duration": 7,
        "start_time": "2021-06-30T06:27:37.990Z"
      },
      {
        "duration": 530,
        "start_time": "2021-06-30T06:27:38.000Z"
      },
      {
        "duration": 440,
        "start_time": "2021-06-30T06:27:38.092Z"
      },
      {
        "duration": 439,
        "start_time": "2021-06-30T06:27:38.095Z"
      },
      {
        "duration": 438,
        "start_time": "2021-06-30T06:27:38.097Z"
      },
      {
        "duration": 436,
        "start_time": "2021-06-30T06:27:38.100Z"
      },
      {
        "duration": 434,
        "start_time": "2021-06-30T06:27:38.104Z"
      },
      {
        "duration": 433,
        "start_time": "2021-06-30T06:27:38.106Z"
      },
      {
        "duration": 432,
        "start_time": "2021-06-30T06:27:38.108Z"
      },
      {
        "duration": 431,
        "start_time": "2021-06-30T06:27:38.111Z"
      },
      {
        "duration": 343,
        "start_time": "2021-06-30T06:28:17.360Z"
      },
      {
        "duration": 397,
        "start_time": "2021-06-30T06:28:32.228Z"
      },
      {
        "duration": 4,
        "start_time": "2021-06-30T06:28:37.167Z"
      },
      {
        "duration": 521,
        "start_time": "2021-06-30T06:28:39.108Z"
      },
      {
        "duration": 7978,
        "start_time": "2021-06-30T06:28:41.065Z"
      },
      {
        "duration": 72,
        "start_time": "2021-06-30T06:28:52.996Z"
      },
      {
        "duration": 4,
        "start_time": "2021-06-30T06:28:57.653Z"
      },
      {
        "duration": 177,
        "start_time": "2021-06-30T06:29:01.197Z"
      },
      {
        "duration": 14,
        "start_time": "2021-06-30T06:29:02.062Z"
      },
      {
        "duration": 4,
        "start_time": "2021-06-30T06:29:04.677Z"
      },
      {
        "duration": 418,
        "start_time": "2021-06-30T06:29:37.028Z"
      },
      {
        "duration": 7,
        "start_time": "2021-06-30T06:29:42.723Z"
      },
      {
        "duration": 6,
        "start_time": "2021-06-30T06:29:52.756Z"
      },
      {
        "duration": 1439,
        "start_time": "2021-06-30T06:31:03.573Z"
      },
      {
        "duration": 4,
        "start_time": "2021-06-30T06:31:58.128Z"
      },
      {
        "duration": 25,
        "start_time": "2021-06-30T06:32:00.407Z"
      },
      {
        "duration": 335,
        "start_time": "2021-06-30T06:32:26.763Z"
      },
      {
        "duration": 129,
        "start_time": "2021-06-30T06:32:36.273Z"
      },
      {
        "duration": 25,
        "start_time": "2021-06-30T06:32:44.346Z"
      },
      {
        "duration": 5,
        "start_time": "2021-06-30T06:33:53.301Z"
      },
      {
        "duration": 7,
        "start_time": "2021-06-30T06:33:57.614Z"
      },
      {
        "duration": 5,
        "start_time": "2021-06-30T06:34:11.301Z"
      },
      {
        "duration": 6,
        "start_time": "2021-06-30T06:34:24.595Z"
      },
      {
        "duration": 708,
        "start_time": "2021-06-30T06:35:22.880Z"
      },
      {
        "duration": 564,
        "start_time": "2021-06-30T06:35:34.216Z"
      },
      {
        "duration": 832,
        "start_time": "2021-06-30T06:39:46.962Z"
      },
      {
        "duration": 769,
        "start_time": "2021-06-30T06:39:55.369Z"
      },
      {
        "duration": 521,
        "start_time": "2021-06-30T06:40:52.241Z"
      },
      {
        "duration": 13,
        "start_time": "2021-06-30T06:43:49.989Z"
      },
      {
        "duration": 5,
        "start_time": "2021-06-30T06:47:46.240Z"
      },
      {
        "duration": 11,
        "start_time": "2021-06-30T06:48:02.548Z"
      },
      {
        "duration": 5,
        "start_time": "2021-06-30T06:48:10.522Z"
      },
      {
        "duration": 109,
        "start_time": "2021-06-30T06:49:05.835Z"
      },
      {
        "duration": 311,
        "start_time": "2021-06-30T06:49:20.425Z"
      },
      {
        "duration": 12,
        "start_time": "2021-06-30T06:49:26.851Z"
      },
      {
        "duration": 23,
        "start_time": "2021-06-30T06:49:32.088Z"
      },
      {
        "duration": 33,
        "start_time": "2021-06-30T06:50:11.274Z"
      },
      {
        "duration": 31,
        "start_time": "2021-06-30T06:50:26.262Z"
      },
      {
        "duration": 21,
        "start_time": "2021-06-30T06:50:37.720Z"
      },
      {
        "duration": 27,
        "start_time": "2021-06-30T06:50:42.575Z"
      },
      {
        "duration": 552,
        "start_time": "2021-06-30T06:52:13.382Z"
      },
      {
        "duration": 21,
        "start_time": "2021-06-30T06:52:30.686Z"
      },
      {
        "duration": 665,
        "start_time": "2021-06-30T06:53:25.859Z"
      },
      {
        "duration": 553,
        "start_time": "2021-06-30T06:53:57.541Z"
      },
      {
        "duration": 648,
        "start_time": "2021-06-30T06:54:15.339Z"
      },
      {
        "duration": 614,
        "start_time": "2021-06-30T06:54:24.831Z"
      },
      {
        "duration": 27,
        "start_time": "2021-06-30T06:54:31.574Z"
      },
      {
        "duration": 20,
        "start_time": "2021-06-30T06:54:36.106Z"
      },
      {
        "duration": 321,
        "start_time": "2021-06-30T06:56:32.889Z"
      },
      {
        "duration": 9235,
        "start_time": "2021-06-30T06:57:11.739Z"
      },
      {
        "duration": 357,
        "start_time": "2021-06-30T06:57:27.761Z"
      },
      {
        "duration": 7446,
        "start_time": "2021-06-30T06:58:24.867Z"
      },
      {
        "duration": 13,
        "start_time": "2021-06-30T06:58:35.447Z"
      },
      {
        "duration": 17,
        "start_time": "2021-06-30T06:58:55.749Z"
      },
      {
        "duration": 22,
        "start_time": "2021-06-30T06:59:02.354Z"
      },
      {
        "duration": 21,
        "start_time": "2021-06-30T06:59:06.256Z"
      },
      {
        "duration": 542,
        "start_time": "2021-06-30T06:59:30.885Z"
      },
      {
        "duration": 20,
        "start_time": "2021-06-30T06:59:47.579Z"
      },
      {
        "duration": 333,
        "start_time": "2021-06-30T07:04:03.710Z"
      },
      {
        "duration": 117,
        "start_time": "2021-06-30T07:05:19.544Z"
      },
      {
        "duration": 7,
        "start_time": "2021-06-30T07:05:26.628Z"
      },
      {
        "duration": 315,
        "start_time": "2021-06-30T07:05:40.951Z"
      },
      {
        "duration": 664,
        "start_time": "2021-06-30T07:06:31.479Z"
      },
      {
        "duration": 7,
        "start_time": "2021-06-30T07:07:10.964Z"
      },
      {
        "duration": 625,
        "start_time": "2021-06-30T07:07:54.367Z"
      },
      {
        "duration": 6,
        "start_time": "2021-06-30T07:08:32.994Z"
      },
      {
        "duration": 598,
        "start_time": "2021-06-30T07:08:33.778Z"
      },
      {
        "duration": 512,
        "start_time": "2021-06-30T07:09:25.102Z"
      },
      {
        "duration": 507,
        "start_time": "2021-06-30T07:09:39.100Z"
      },
      {
        "duration": 800,
        "start_time": "2021-06-30T07:10:13.479Z"
      },
      {
        "duration": 516,
        "start_time": "2021-06-30T07:10:23.602Z"
      },
      {
        "duration": 6,
        "start_time": "2021-06-30T07:10:56.695Z"
      },
      {
        "duration": 598,
        "start_time": "2021-06-30T07:10:57.627Z"
      },
      {
        "duration": 6,
        "start_time": "2021-06-30T07:11:05.426Z"
      },
      {
        "duration": 702,
        "start_time": "2021-06-30T07:11:06.172Z"
      },
      {
        "duration": 6,
        "start_time": "2021-06-30T07:11:21.335Z"
      },
      {
        "duration": 593,
        "start_time": "2021-06-30T07:11:22.063Z"
      },
      {
        "duration": 7,
        "start_time": "2021-06-30T07:11:32.701Z"
      },
      {
        "duration": 1239,
        "start_time": "2021-06-30T07:11:33.332Z"
      },
      {
        "duration": 6,
        "start_time": "2021-06-30T07:11:39.625Z"
      },
      {
        "duration": 593,
        "start_time": "2021-06-30T07:11:40.297Z"
      },
      {
        "duration": 6,
        "start_time": "2021-06-30T07:12:01.526Z"
      },
      {
        "duration": 582,
        "start_time": "2021-06-30T07:12:02.195Z"
      },
      {
        "duration": 6,
        "start_time": "2021-06-30T07:12:48.036Z"
      },
      {
        "duration": 599,
        "start_time": "2021-06-30T07:12:48.831Z"
      },
      {
        "duration": 592,
        "start_time": "2021-06-30T07:12:59.279Z"
      },
      {
        "duration": 602,
        "start_time": "2021-06-30T07:13:43.455Z"
      },
      {
        "duration": 7,
        "start_time": "2021-06-30T07:15:12.576Z"
      },
      {
        "duration": 601,
        "start_time": "2021-06-30T07:15:13.234Z"
      },
      {
        "duration": 292,
        "start_time": "2021-06-30T07:23:35.664Z"
      },
      {
        "duration": 315,
        "start_time": "2021-06-30T07:23:54.243Z"
      },
      {
        "duration": 7,
        "start_time": "2021-06-30T07:24:44.313Z"
      },
      {
        "duration": 6,
        "start_time": "2021-06-30T07:24:48.595Z"
      },
      {
        "duration": 6,
        "start_time": "2021-06-30T07:24:56.627Z"
      },
      {
        "duration": 5,
        "start_time": "2021-06-30T07:24:59.651Z"
      },
      {
        "duration": 6,
        "start_time": "2021-06-30T07:25:12.810Z"
      },
      {
        "duration": 6,
        "start_time": "2021-06-30T07:25:22.346Z"
      },
      {
        "duration": 24,
        "start_time": "2021-06-30T07:26:06.716Z"
      },
      {
        "duration": 16,
        "start_time": "2021-06-30T07:26:40.513Z"
      },
      {
        "duration": 14,
        "start_time": "2021-06-30T07:27:08.902Z"
      },
      {
        "duration": 7,
        "start_time": "2021-06-30T07:27:49.768Z"
      },
      {
        "duration": 16,
        "start_time": "2021-06-30T07:28:00.471Z"
      },
      {
        "duration": 19,
        "start_time": "2021-06-30T07:28:08.456Z"
      },
      {
        "duration": 17,
        "start_time": "2021-06-30T07:28:29.611Z"
      },
      {
        "duration": 17,
        "start_time": "2021-06-30T07:29:33.399Z"
      },
      {
        "duration": 4,
        "start_time": "2021-06-30T07:31:06.187Z"
      },
      {
        "duration": 570,
        "start_time": "2021-06-30T07:31:07.259Z"
      },
      {
        "duration": 5,
        "start_time": "2021-06-30T07:31:09.218Z"
      },
      {
        "duration": 19,
        "start_time": "2021-06-30T07:31:10.578Z"
      },
      {
        "duration": 18,
        "start_time": "2021-06-30T07:31:16.133Z"
      },
      {
        "duration": 7,
        "start_time": "2021-06-30T07:32:59.701Z"
      },
      {
        "duration": 628,
        "start_time": "2021-06-30T07:33:00.934Z"
      },
      {
        "duration": 20,
        "start_time": "2021-06-30T09:18:39.585Z"
      },
      {
        "duration": 27,
        "start_time": "2021-06-30T09:19:07.239Z"
      },
      {
        "duration": 17,
        "start_time": "2021-06-30T09:19:12.020Z"
      },
      {
        "duration": 7,
        "start_time": "2021-06-30T09:19:33.937Z"
      },
      {
        "duration": 318,
        "start_time": "2021-06-30T09:19:40.825Z"
      },
      {
        "duration": 28,
        "start_time": "2021-06-30T09:19:46.951Z"
      },
      {
        "duration": 607,
        "start_time": "2021-06-30T09:20:28.144Z"
      },
      {
        "duration": 455,
        "start_time": "2021-06-30T09:20:30.692Z"
      },
      {
        "duration": 22,
        "start_time": "2021-06-30T09:20:39.190Z"
      },
      {
        "duration": 4,
        "start_time": "2021-06-30T09:21:10.060Z"
      },
      {
        "duration": 346,
        "start_time": "2021-06-30T09:21:44.576Z"
      },
      {
        "duration": 425,
        "start_time": "2021-06-30T09:22:26.576Z"
      },
      {
        "duration": 108,
        "start_time": "2021-06-30T09:22:36.302Z"
      },
      {
        "duration": 124,
        "start_time": "2021-06-30T09:23:19.283Z"
      },
      {
        "duration": 338,
        "start_time": "2021-06-30T09:23:23.178Z"
      },
      {
        "duration": 294,
        "start_time": "2021-06-30T09:25:26.085Z"
      },
      {
        "duration": 450,
        "start_time": "2021-06-30T09:26:43.908Z"
      },
      {
        "duration": 107,
        "start_time": "2021-06-30T09:26:56.072Z"
      },
      {
        "duration": 107,
        "start_time": "2021-06-30T09:27:27.886Z"
      },
      {
        "duration": 96,
        "start_time": "2021-06-30T09:27:32.314Z"
      },
      {
        "duration": 342,
        "start_time": "2021-06-30T09:27:36.336Z"
      },
      {
        "duration": 440,
        "start_time": "2021-06-30T09:30:13.369Z"
      },
      {
        "duration": 51,
        "start_time": "2021-06-30T09:31:26.878Z"
      },
      {
        "duration": 64,
        "start_time": "2021-06-30T09:31:40.111Z"
      },
      {
        "duration": 124,
        "start_time": "2021-06-30T09:33:02.146Z"
      },
      {
        "duration": 103,
        "start_time": "2021-06-30T09:33:48.153Z"
      },
      {
        "duration": 107,
        "start_time": "2021-06-30T09:34:00.393Z"
      },
      {
        "duration": 143,
        "start_time": "2021-06-30T09:34:04.034Z"
      },
      {
        "duration": 168,
        "start_time": "2021-06-30T09:34:09.469Z"
      },
      {
        "duration": 379,
        "start_time": "2021-06-30T09:34:45.120Z"
      },
      {
        "duration": 46,
        "start_time": "2021-06-30T09:34:56.990Z"
      },
      {
        "duration": 88,
        "start_time": "2021-06-30T09:35:17.852Z"
      },
      {
        "duration": 47,
        "start_time": "2021-06-30T09:35:28.681Z"
      },
      {
        "duration": 6,
        "start_time": "2021-06-30T09:35:46.017Z"
      },
      {
        "duration": 26,
        "start_time": "2021-06-30T09:41:53.025Z"
      },
      {
        "duration": 32,
        "start_time": "2021-06-30T09:41:56.233Z"
      },
      {
        "duration": 47,
        "start_time": "2021-06-30T09:42:12.523Z"
      },
      {
        "duration": 68,
        "start_time": "2021-06-30T09:42:43.077Z"
      },
      {
        "duration": 63,
        "start_time": "2021-06-30T09:42:55.590Z"
      },
      {
        "duration": 129,
        "start_time": "2021-06-30T09:52:13.001Z"
      },
      {
        "duration": 295,
        "start_time": "2021-06-30T09:53:43.826Z"
      },
      {
        "duration": 289,
        "start_time": "2021-06-30T09:53:49.215Z"
      },
      {
        "duration": 31,
        "start_time": "2021-06-30T09:54:30.398Z"
      },
      {
        "duration": 33,
        "start_time": "2021-06-30T09:54:42.115Z"
      },
      {
        "duration": 28,
        "start_time": "2021-06-30T09:54:49.076Z"
      },
      {
        "duration": 23,
        "start_time": "2021-06-30T09:54:58.029Z"
      },
      {
        "duration": 18,
        "start_time": "2021-06-30T10:01:51.570Z"
      },
      {
        "duration": 5,
        "start_time": "2021-06-30T10:02:17.374Z"
      },
      {
        "duration": 16,
        "start_time": "2021-06-30T10:02:29.128Z"
      },
      {
        "duration": 322,
        "start_time": "2021-06-30T10:03:42.436Z"
      },
      {
        "duration": 31,
        "start_time": "2021-06-30T10:03:46.531Z"
      },
      {
        "duration": 6,
        "start_time": "2021-06-30T10:03:47.047Z"
      },
      {
        "duration": 17,
        "start_time": "2021-06-30T10:03:47.803Z"
      },
      {
        "duration": 31,
        "start_time": "2021-06-30T10:04:06.517Z"
      },
      {
        "duration": 5,
        "start_time": "2021-06-30T10:04:07.709Z"
      },
      {
        "duration": 18,
        "start_time": "2021-06-30T10:04:08.096Z"
      },
      {
        "duration": 31,
        "start_time": "2021-06-30T10:04:14.156Z"
      },
      {
        "duration": 5,
        "start_time": "2021-06-30T10:04:14.633Z"
      },
      {
        "duration": 19,
        "start_time": "2021-06-30T10:04:14.955Z"
      },
      {
        "duration": 108,
        "start_time": "2021-06-30T10:09:18.138Z"
      },
      {
        "duration": 97,
        "start_time": "2021-06-30T10:09:42.522Z"
      },
      {
        "duration": 124,
        "start_time": "2021-06-30T10:09:46.743Z"
      },
      {
        "duration": 7,
        "start_time": "2021-06-30T10:10:17.529Z"
      },
      {
        "duration": 3,
        "start_time": "2021-06-30T10:10:29.098Z"
      },
      {
        "duration": 4,
        "start_time": "2021-06-30T10:10:46.538Z"
      },
      {
        "duration": 4,
        "start_time": "2021-06-30T10:10:48.321Z"
      },
      {
        "duration": 107,
        "start_time": "2021-06-30T10:10:49.681Z"
      },
      {
        "duration": 3,
        "start_time": "2021-06-30T10:10:49.925Z"
      },
      {
        "duration": 91,
        "start_time": "2021-06-30T10:10:58.663Z"
      },
      {
        "duration": 7,
        "start_time": "2021-06-30T10:11:09.813Z"
      },
      {
        "duration": 5,
        "start_time": "2021-06-30T10:11:10.548Z"
      },
      {
        "duration": 8,
        "start_time": "2021-06-30T10:11:42.385Z"
      },
      {
        "duration": 5,
        "start_time": "2021-06-30T10:11:43.161Z"
      },
      {
        "duration": 7,
        "start_time": "2021-06-30T10:11:49.790Z"
      },
      {
        "duration": 5,
        "start_time": "2021-06-30T10:11:50.240Z"
      },
      {
        "duration": 7,
        "start_time": "2021-06-30T10:11:54.701Z"
      },
      {
        "duration": 6,
        "start_time": "2021-06-30T10:11:55.107Z"
      },
      {
        "duration": 3,
        "start_time": "2021-06-30T10:12:20.554Z"
      },
      {
        "duration": 348,
        "start_time": "2021-06-30T10:12:52.389Z"
      },
      {
        "duration": 175,
        "start_time": "2021-06-30T10:12:58.888Z"
      },
      {
        "duration": 91,
        "start_time": "2021-06-30T10:13:24.548Z"
      },
      {
        "duration": 23,
        "start_time": "2021-06-30T10:13:37.705Z"
      },
      {
        "duration": 6,
        "start_time": "2021-06-30T10:13:57.876Z"
      },
      {
        "duration": 5,
        "start_time": "2021-06-30T10:13:58.403Z"
      },
      {
        "duration": 1588,
        "start_time": "2021-06-30T10:21:20.075Z"
      },
      {
        "duration": 1240,
        "start_time": "2021-06-30T10:21:21.666Z"
      },
      {
        "duration": 4,
        "start_time": "2021-06-30T10:21:22.909Z"
      },
      {
        "duration": 173,
        "start_time": "2021-06-30T10:21:22.916Z"
      },
      {
        "duration": 167,
        "start_time": "2021-06-30T10:21:23.092Z"
      },
      {
        "duration": 235,
        "start_time": "2021-06-30T10:21:23.261Z"
      },
      {
        "duration": 136,
        "start_time": "2021-06-30T10:21:23.498Z"
      },
      {
        "duration": 56,
        "start_time": "2021-06-30T10:21:23.638Z"
      },
      {
        "duration": 71,
        "start_time": "2021-06-30T10:21:23.696Z"
      },
      {
        "duration": 196,
        "start_time": "2021-06-30T10:21:23.770Z"
      },
      {
        "duration": 399,
        "start_time": "2021-06-30T10:21:23.968Z"
      },
      {
        "duration": 245,
        "start_time": "2021-06-30T10:21:24.369Z"
      },
      {
        "duration": 125,
        "start_time": "2021-06-30T10:21:24.617Z"
      },
      {
        "duration": 89,
        "start_time": "2021-06-30T10:21:24.744Z"
      },
      {
        "duration": 5,
        "start_time": "2021-06-30T10:21:24.835Z"
      },
      {
        "duration": 2762,
        "start_time": "2021-06-30T10:21:24.842Z"
      },
      {
        "duration": 4,
        "start_time": "2021-06-30T10:21:27.606Z"
      },
      {
        "duration": 21,
        "start_time": "2021-06-30T10:21:27.612Z"
      },
      {
        "duration": 31,
        "start_time": "2021-06-30T10:21:27.636Z"
      },
      {
        "duration": 30,
        "start_time": "2021-06-30T10:21:27.670Z"
      },
      {
        "duration": 138,
        "start_time": "2021-06-30T10:21:27.704Z"
      },
      {
        "duration": 34,
        "start_time": "2021-06-30T10:21:27.844Z"
      },
      {
        "duration": 335165,
        "start_time": "2021-06-30T10:21:27.884Z"
      },
      {
        "duration": 731,
        "start_time": "2021-06-30T10:27:03.052Z"
      },
      {
        "duration": 5,
        "start_time": "2021-06-30T10:27:03.785Z"
      },
      {
        "duration": 78,
        "start_time": "2021-06-30T10:27:03.792Z"
      },
      {
        "duration": 7,
        "start_time": "2021-06-30T10:27:03.872Z"
      },
      {
        "duration": 14,
        "start_time": "2021-06-30T10:27:03.882Z"
      },
      {
        "duration": 5576,
        "start_time": "2021-06-30T10:27:03.898Z"
      },
      {
        "duration": 5,
        "start_time": "2021-06-30T10:27:09.477Z"
      },
      {
        "duration": 785,
        "start_time": "2021-06-30T10:27:09.484Z"
      },
      {
        "duration": 4,
        "start_time": "2021-06-30T10:27:10.271Z"
      },
      {
        "duration": 8,
        "start_time": "2021-06-30T10:27:10.278Z"
      },
      {
        "duration": 12,
        "start_time": "2021-06-30T10:27:10.288Z"
      },
      {
        "duration": 8,
        "start_time": "2021-06-30T10:27:10.302Z"
      },
      {
        "duration": 549,
        "start_time": "2021-06-30T10:27:10.312Z"
      },
      {
        "duration": 5,
        "start_time": "2021-06-30T10:27:10.867Z"
      },
      {
        "duration": 21,
        "start_time": "2021-06-30T10:27:10.875Z"
      },
      {
        "duration": 7751,
        "start_time": "2021-06-30T10:27:10.899Z"
      },
      {
        "duration": 24,
        "start_time": "2021-06-30T10:27:18.653Z"
      },
      {
        "duration": 91,
        "start_time": "2021-06-30T10:27:18.681Z"
      },
      {
        "duration": 299,
        "start_time": "2021-06-30T10:27:18.776Z"
      },
      {
        "duration": 203,
        "start_time": "2021-06-30T10:27:19.169Z"
      },
      {
        "duration": 7,
        "start_time": "2021-06-30T10:27:19.376Z"
      },
      {
        "duration": 673,
        "start_time": "2021-06-30T10:27:19.387Z"
      },
      {
        "duration": 567,
        "start_time": "2021-06-30T10:27:20.062Z"
      },
      {
        "duration": 6,
        "start_time": "2021-06-30T10:27:20.632Z"
      },
      {
        "duration": 632,
        "start_time": "2021-06-30T10:27:20.640Z"
      },
      {
        "duration": 6,
        "start_time": "2021-06-30T10:27:21.275Z"
      },
      {
        "duration": 124,
        "start_time": "2021-06-30T10:27:21.284Z"
      },
      {
        "duration": 60,
        "start_time": "2021-06-30T10:27:21.411Z"
      },
      {
        "duration": 6,
        "start_time": "2021-06-30T10:27:21.474Z"
      },
      {
        "duration": 89,
        "start_time": "2021-06-30T10:27:21.483Z"
      },
      {
        "duration": 30,
        "start_time": "2021-06-30T10:27:21.575Z"
      },
      {
        "duration": 6,
        "start_time": "2021-06-30T10:27:21.608Z"
      },
      {
        "duration": 27,
        "start_time": "2021-06-30T10:27:21.616Z"
      },
      {
        "duration": 8,
        "start_time": "2021-06-30T10:27:21.668Z"
      },
      {
        "duration": 13,
        "start_time": "2021-06-30T10:27:21.678Z"
      },
      {
        "duration": 198,
        "start_time": "2021-06-30T10:27:21.694Z"
      },
      {
        "duration": 20,
        "start_time": "2021-06-30T10:27:21.895Z"
      },
      {
        "duration": 349,
        "start_time": "2021-06-30T10:27:21.918Z"
      },
      {
        "duration": 185,
        "start_time": "2021-06-30T10:27:22.270Z"
      },
      {
        "duration": 11870,
        "start_time": "2021-06-30T10:35:41.304Z"
      },
      {
        "duration": 414,
        "start_time": "2021-06-30T10:36:01.766Z"
      },
      {
        "duration": 4,
        "start_time": "2021-06-30T10:37:16.755Z"
      },
      {
        "duration": 25,
        "start_time": "2021-06-30T10:37:31.928Z"
      },
      {
        "duration": 532,
        "start_time": "2021-06-30T10:41:35.511Z"
      },
      {
        "duration": 1687,
        "start_time": "2021-06-30T10:49:01.771Z"
      },
      {
        "duration": 1152,
        "start_time": "2021-06-30T10:49:03.461Z"
      },
      {
        "duration": 4,
        "start_time": "2021-06-30T10:49:04.617Z"
      },
      {
        "duration": 188,
        "start_time": "2021-06-30T10:49:04.624Z"
      },
      {
        "duration": 174,
        "start_time": "2021-06-30T10:49:04.814Z"
      },
      {
        "duration": 245,
        "start_time": "2021-06-30T10:49:04.990Z"
      },
      {
        "duration": 132,
        "start_time": "2021-06-30T10:49:05.237Z"
      },
      {
        "duration": 49,
        "start_time": "2021-06-30T10:49:05.373Z"
      },
      {
        "duration": 76,
        "start_time": "2021-06-30T10:49:05.425Z"
      },
      {
        "duration": 210,
        "start_time": "2021-06-30T10:49:05.504Z"
      },
      {
        "duration": 412,
        "start_time": "2021-06-30T10:49:05.717Z"
      },
      {
        "duration": 237,
        "start_time": "2021-06-30T10:49:06.131Z"
      },
      {
        "duration": 129,
        "start_time": "2021-06-30T10:49:06.371Z"
      },
      {
        "duration": 82,
        "start_time": "2021-06-30T10:49:06.503Z"
      },
      {
        "duration": 5,
        "start_time": "2021-06-30T10:49:06.587Z"
      },
      {
        "duration": 2841,
        "start_time": "2021-06-30T10:49:06.594Z"
      },
      {
        "duration": 4,
        "start_time": "2021-06-30T10:49:09.437Z"
      },
      {
        "duration": 35,
        "start_time": "2021-06-30T10:49:09.443Z"
      },
      {
        "duration": 8,
        "start_time": "2021-06-30T10:49:09.481Z"
      },
      {
        "duration": 29,
        "start_time": "2021-06-30T10:49:09.491Z"
      },
      {
        "duration": 147,
        "start_time": "2021-06-30T10:49:09.522Z"
      },
      {
        "duration": 29,
        "start_time": "2021-06-30T10:49:09.671Z"
      },
      {
        "duration": 174954,
        "start_time": "2021-06-30T10:49:09.706Z"
      },
      {
        "duration": 234,
        "start_time": "2021-06-30T10:52:04.665Z"
      },
      {
        "duration": 355,
        "start_time": "2021-06-30T10:52:04.901Z"
      },
      {
        "duration": 690,
        "start_time": "2021-06-30T10:52:04.568Z"
      },
      {
        "duration": 685,
        "start_time": "2021-06-30T10:52:04.575Z"
      },
      {
        "duration": 678,
        "start_time": "2021-06-30T10:52:04.583Z"
      },
      {
        "duration": 673,
        "start_time": "2021-06-30T10:52:04.589Z"
      },
      {
        "duration": 671,
        "start_time": "2021-06-30T10:52:04.593Z"
      },
      {
        "duration": 668,
        "start_time": "2021-06-30T10:52:04.597Z"
      },
      {
        "duration": 667,
        "start_time": "2021-06-30T10:52:04.600Z"
      },
      {
        "duration": 664,
        "start_time": "2021-06-30T10:52:04.604Z"
      },
      {
        "duration": 662,
        "start_time": "2021-06-30T10:52:04.607Z"
      },
      {
        "duration": 661,
        "start_time": "2021-06-30T10:52:04.610Z"
      },
      {
        "duration": 659,
        "start_time": "2021-06-30T10:52:04.613Z"
      },
      {
        "duration": 656,
        "start_time": "2021-06-30T10:52:04.617Z"
      },
      {
        "duration": 654,
        "start_time": "2021-06-30T10:52:04.620Z"
      },
      {
        "duration": 652,
        "start_time": "2021-06-30T10:52:04.623Z"
      },
      {
        "duration": 651,
        "start_time": "2021-06-30T10:52:04.626Z"
      },
      {
        "duration": 649,
        "start_time": "2021-06-30T10:52:04.629Z"
      },
      {
        "duration": 647,
        "start_time": "2021-06-30T10:52:04.632Z"
      },
      {
        "duration": 645,
        "start_time": "2021-06-30T10:52:04.635Z"
      },
      {
        "duration": 607,
        "start_time": "2021-06-30T10:52:04.674Z"
      },
      {
        "duration": 601,
        "start_time": "2021-06-30T10:52:04.682Z"
      },
      {
        "duration": 598,
        "start_time": "2021-06-30T10:52:04.687Z"
      },
      {
        "duration": 594,
        "start_time": "2021-06-30T10:52:04.692Z"
      },
      {
        "duration": 591,
        "start_time": "2021-06-30T10:52:04.696Z"
      },
      {
        "duration": 588,
        "start_time": "2021-06-30T10:52:04.700Z"
      },
      {
        "duration": 587,
        "start_time": "2021-06-30T10:52:04.703Z"
      },
      {
        "duration": 584,
        "start_time": "2021-06-30T10:52:04.707Z"
      },
      {
        "duration": 582,
        "start_time": "2021-06-30T10:52:04.710Z"
      },
      {
        "duration": 580,
        "start_time": "2021-06-30T10:52:04.713Z"
      },
      {
        "duration": 577,
        "start_time": "2021-06-30T10:52:04.717Z"
      },
      {
        "duration": 576,
        "start_time": "2021-06-30T10:52:04.720Z"
      },
      {
        "duration": 574,
        "start_time": "2021-06-30T10:52:04.723Z"
      },
      {
        "duration": 571,
        "start_time": "2021-06-30T10:52:04.727Z"
      },
      {
        "duration": 569,
        "start_time": "2021-06-30T10:52:04.730Z"
      },
      {
        "duration": 568,
        "start_time": "2021-06-30T10:52:04.733Z"
      },
      {
        "duration": 566,
        "start_time": "2021-06-30T10:52:04.736Z"
      },
      {
        "duration": 563,
        "start_time": "2021-06-30T10:52:04.740Z"
      },
      {
        "duration": 561,
        "start_time": "2021-06-30T10:52:04.743Z"
      },
      {
        "duration": 559,
        "start_time": "2021-06-30T10:52:04.746Z"
      },
      {
        "duration": 558,
        "start_time": "2021-06-30T10:52:04.749Z"
      },
      {
        "duration": 618,
        "start_time": "2021-06-30T10:52:04.752Z"
      },
      {
        "duration": 4380,
        "start_time": "2021-06-30T10:59:37.097Z"
      },
      {
        "duration": 3972,
        "start_time": "2021-06-30T10:59:49.546Z"
      },
      {
        "duration": 7,
        "start_time": "2021-06-30T11:00:10.005Z"
      },
      {
        "duration": 253,
        "start_time": "2021-06-30T11:00:17.956Z"
      },
      {
        "duration": 7,
        "start_time": "2021-06-30T11:00:32.202Z"
      },
      {
        "duration": 12,
        "start_time": "2021-06-30T11:00:45.168Z"
      },
      {
        "duration": 8,
        "start_time": "2021-06-30T11:00:48.804Z"
      },
      {
        "duration": 4,
        "start_time": "2021-06-30T11:01:55.676Z"
      },
      {
        "duration": 624,
        "start_time": "2021-06-30T11:02:05.560Z"
      },
      {
        "duration": 1706,
        "start_time": "2021-06-30T11:02:43.553Z"
      },
      {
        "duration": 2597,
        "start_time": "2021-06-30T11:02:45.262Z"
      },
      {
        "duration": 5,
        "start_time": "2021-06-30T11:02:47.870Z"
      },
      {
        "duration": 177,
        "start_time": "2021-06-30T11:02:47.878Z"
      },
      {
        "duration": 166,
        "start_time": "2021-06-30T11:02:48.057Z"
      },
      {
        "duration": 242,
        "start_time": "2021-06-30T11:02:48.225Z"
      },
      {
        "duration": 137,
        "start_time": "2021-06-30T11:02:48.471Z"
      },
      {
        "duration": 71,
        "start_time": "2021-06-30T11:02:48.611Z"
      },
      {
        "duration": 77,
        "start_time": "2021-06-30T11:02:48.685Z"
      },
      {
        "duration": 290,
        "start_time": "2021-06-30T11:02:48.768Z"
      },
      {
        "duration": 460,
        "start_time": "2021-06-30T11:02:49.067Z"
      },
      {
        "duration": 237,
        "start_time": "2021-06-30T11:02:49.530Z"
      },
      {
        "duration": 124,
        "start_time": "2021-06-30T11:02:49.770Z"
      },
      {
        "duration": 88,
        "start_time": "2021-06-30T11:02:49.896Z"
      },
      {
        "duration": 10,
        "start_time": "2021-06-30T11:02:49.986Z"
      },
      {
        "duration": 2933,
        "start_time": "2021-06-30T11:02:49.998Z"
      },
      {
        "duration": 4,
        "start_time": "2021-06-30T11:02:52.933Z"
      },
      {
        "duration": 36,
        "start_time": "2021-06-30T11:02:52.939Z"
      },
      {
        "duration": 8,
        "start_time": "2021-06-30T11:02:52.978Z"
      },
      {
        "duration": 33,
        "start_time": "2021-06-30T11:02:52.988Z"
      },
      {
        "duration": 140,
        "start_time": "2021-06-30T11:02:53.024Z"
      },
      {
        "duration": 29,
        "start_time": "2021-06-30T11:02:53.172Z"
      },
      {
        "duration": 113446,
        "start_time": "2021-06-30T11:02:53.205Z"
      },
      {
        "duration": 216,
        "start_time": "2021-06-30T11:04:46.655Z"
      },
      {
        "duration": 335,
        "start_time": "2021-06-30T11:04:46.874Z"
      },
      {
        "duration": 685,
        "start_time": "2021-06-30T11:04:46.527Z"
      },
      {
        "duration": 681,
        "start_time": "2021-06-30T11:04:46.533Z"
      },
      {
        "duration": 679,
        "start_time": "2021-06-30T11:04:46.536Z"
      },
      {
        "duration": 678,
        "start_time": "2021-06-30T11:04:46.539Z"
      },
      {
        "duration": 676,
        "start_time": "2021-06-30T11:04:46.542Z"
      },
      {
        "duration": 675,
        "start_time": "2021-06-30T11:04:46.545Z"
      },
      {
        "duration": 672,
        "start_time": "2021-06-30T11:04:46.549Z"
      },
      {
        "duration": 670,
        "start_time": "2021-06-30T11:04:46.553Z"
      },
      {
        "duration": 668,
        "start_time": "2021-06-30T11:04:46.556Z"
      },
      {
        "duration": 665,
        "start_time": "2021-06-30T11:04:46.560Z"
      },
      {
        "duration": 664,
        "start_time": "2021-06-30T11:04:46.563Z"
      },
      {
        "duration": 662,
        "start_time": "2021-06-30T11:04:46.567Z"
      },
      {
        "duration": 660,
        "start_time": "2021-06-30T11:04:46.570Z"
      },
      {
        "duration": 658,
        "start_time": "2021-06-30T11:04:46.574Z"
      },
      {
        "duration": 656,
        "start_time": "2021-06-30T11:04:46.577Z"
      },
      {
        "duration": 647,
        "start_time": "2021-06-30T11:04:46.587Z"
      },
      {
        "duration": 645,
        "start_time": "2021-06-30T11:04:46.591Z"
      },
      {
        "duration": 642,
        "start_time": "2021-06-30T11:04:46.595Z"
      },
      {
        "duration": 638,
        "start_time": "2021-06-30T11:04:46.600Z"
      },
      {
        "duration": 637,
        "start_time": "2021-06-30T11:04:46.603Z"
      },
      {
        "duration": 635,
        "start_time": "2021-06-30T11:04:46.606Z"
      },
      {
        "duration": 633,
        "start_time": "2021-06-30T11:04:46.609Z"
      },
      {
        "duration": 632,
        "start_time": "2021-06-30T11:04:46.612Z"
      },
      {
        "duration": 631,
        "start_time": "2021-06-30T11:04:46.615Z"
      },
      {
        "duration": 630,
        "start_time": "2021-06-30T11:04:46.618Z"
      },
      {
        "duration": 628,
        "start_time": "2021-06-30T11:04:46.621Z"
      },
      {
        "duration": 626,
        "start_time": "2021-06-30T11:04:46.624Z"
      },
      {
        "duration": 640,
        "start_time": "2021-06-30T11:04:46.627Z"
      },
      {
        "duration": 638,
        "start_time": "2021-06-30T11:04:46.630Z"
      },
      {
        "duration": 637,
        "start_time": "2021-06-30T11:04:46.633Z"
      },
      {
        "duration": 635,
        "start_time": "2021-06-30T11:04:46.637Z"
      },
      {
        "duration": 632,
        "start_time": "2021-06-30T11:04:46.641Z"
      },
      {
        "duration": 631,
        "start_time": "2021-06-30T11:04:46.644Z"
      },
      {
        "duration": 629,
        "start_time": "2021-06-30T11:04:46.647Z"
      },
      {
        "duration": 626,
        "start_time": "2021-06-30T11:04:46.651Z"
      },
      {
        "duration": 625,
        "start_time": "2021-06-30T11:04:46.654Z"
      },
      {
        "duration": 623,
        "start_time": "2021-06-30T11:04:46.657Z"
      },
      {
        "duration": 619,
        "start_time": "2021-06-30T11:04:46.662Z"
      },
      {
        "duration": 611,
        "start_time": "2021-06-30T11:04:46.672Z"
      },
      {
        "duration": 608,
        "start_time": "2021-06-30T11:04:46.676Z"
      },
      {
        "duration": 591,
        "start_time": "2021-06-30T11:04:46.695Z"
      },
      {
        "duration": 586,
        "start_time": "2021-06-30T11:04:46.701Z"
      },
      {
        "duration": 584,
        "start_time": "2021-06-30T11:04:46.704Z"
      },
      {
        "duration": 1633,
        "start_time": "2021-06-30T11:05:40.921Z"
      },
      {
        "duration": 1152,
        "start_time": "2021-06-30T11:05:42.557Z"
      },
      {
        "duration": 5,
        "start_time": "2021-06-30T11:05:43.712Z"
      },
      {
        "duration": 176,
        "start_time": "2021-06-30T11:05:43.720Z"
      },
      {
        "duration": 169,
        "start_time": "2021-06-30T11:05:43.899Z"
      },
      {
        "duration": 242,
        "start_time": "2021-06-30T11:05:44.071Z"
      },
      {
        "duration": 145,
        "start_time": "2021-06-30T11:05:44.315Z"
      },
      {
        "duration": 52,
        "start_time": "2021-06-30T11:05:44.464Z"
      },
      {
        "duration": 71,
        "start_time": "2021-06-30T11:05:44.519Z"
      },
      {
        "duration": 214,
        "start_time": "2021-06-30T11:05:44.593Z"
      },
      {
        "duration": 430,
        "start_time": "2021-06-30T11:05:44.809Z"
      },
      {
        "duration": 250,
        "start_time": "2021-06-30T11:05:45.241Z"
      },
      {
        "duration": 131,
        "start_time": "2021-06-30T11:05:45.494Z"
      },
      {
        "duration": 88,
        "start_time": "2021-06-30T11:05:45.627Z"
      },
      {
        "duration": 5,
        "start_time": "2021-06-30T11:05:45.717Z"
      },
      {
        "duration": 2983,
        "start_time": "2021-06-30T11:05:45.724Z"
      },
      {
        "duration": 4,
        "start_time": "2021-06-30T11:05:48.710Z"
      },
      {
        "duration": 24,
        "start_time": "2021-06-30T11:05:48.716Z"
      },
      {
        "duration": 25,
        "start_time": "2021-06-30T11:05:48.743Z"
      },
      {
        "duration": 31,
        "start_time": "2021-06-30T11:05:48.771Z"
      },
      {
        "duration": 143,
        "start_time": "2021-06-30T11:05:48.804Z"
      },
      {
        "duration": 38,
        "start_time": "2021-06-30T11:05:48.950Z"
      },
      {
        "duration": 31406,
        "start_time": "2021-06-30T11:05:48.994Z"
      },
      {
        "duration": 172,
        "start_time": "2021-06-30T11:06:20.405Z"
      },
      {
        "duration": 5,
        "start_time": "2021-06-30T11:06:20.580Z"
      },
      {
        "duration": 7,
        "start_time": "2021-06-30T11:06:20.587Z"
      },
      {
        "duration": 11,
        "start_time": "2021-06-30T11:06:20.596Z"
      },
      {
        "duration": 63,
        "start_time": "2021-06-30T11:06:20.610Z"
      },
      {
        "duration": 6102,
        "start_time": "2021-06-30T11:06:20.675Z"
      },
      {
        "duration": 6,
        "start_time": "2021-06-30T11:06:26.779Z"
      },
      {
        "duration": 782,
        "start_time": "2021-06-30T11:06:26.787Z"
      },
      {
        "duration": 5,
        "start_time": "2021-06-30T11:06:27.572Z"
      },
      {
        "duration": 15,
        "start_time": "2021-06-30T11:06:27.580Z"
      },
      {
        "duration": 9,
        "start_time": "2021-06-30T11:06:27.597Z"
      },
      {
        "duration": 62,
        "start_time": "2021-06-30T11:06:27.608Z"
      },
      {
        "duration": 716,
        "start_time": "2021-06-30T11:06:27.672Z"
      },
      {
        "duration": 5,
        "start_time": "2021-06-30T11:06:28.390Z"
      },
      {
        "duration": 30,
        "start_time": "2021-06-30T11:06:28.397Z"
      },
      {
        "duration": 8383,
        "start_time": "2021-06-30T11:06:28.429Z"
      },
      {
        "duration": 57,
        "start_time": "2021-06-30T11:06:36.814Z"
      },
      {
        "duration": 94,
        "start_time": "2021-06-30T11:06:36.875Z"
      },
      {
        "duration": 296,
        "start_time": "2021-06-30T11:06:36.971Z"
      },
      {
        "duration": 101,
        "start_time": "2021-06-30T11:06:37.271Z"
      },
      {
        "duration": 5,
        "start_time": "2021-06-30T11:06:37.374Z"
      },
      {
        "duration": 790,
        "start_time": "2021-06-30T11:06:37.381Z"
      },
      {
        "duration": 535,
        "start_time": "2021-06-30T11:06:38.173Z"
      },
      {
        "duration": 6,
        "start_time": "2021-06-30T11:06:38.710Z"
      },
      {
        "duration": 633,
        "start_time": "2021-06-30T11:06:38.718Z"
      },
      {
        "duration": 5,
        "start_time": "2021-06-30T11:06:39.354Z"
      },
      {
        "duration": 113,
        "start_time": "2021-06-30T11:06:39.367Z"
      },
      {
        "duration": 45,
        "start_time": "2021-06-30T11:06:39.482Z"
      },
      {
        "duration": 5,
        "start_time": "2021-06-30T11:06:39.529Z"
      },
      {
        "duration": 85,
        "start_time": "2021-06-30T11:06:39.537Z"
      },
      {
        "duration": 48,
        "start_time": "2021-06-30T11:06:39.624Z"
      },
      {
        "duration": 5,
        "start_time": "2021-06-30T11:06:39.674Z"
      },
      {
        "duration": 22,
        "start_time": "2021-06-30T11:06:39.682Z"
      },
      {
        "duration": 8,
        "start_time": "2021-06-30T11:06:39.706Z"
      },
      {
        "duration": 9,
        "start_time": "2021-06-30T11:06:39.716Z"
      },
      {
        "duration": 218,
        "start_time": "2021-06-30T11:06:39.728Z"
      },
      {
        "duration": 25,
        "start_time": "2021-06-30T11:06:39.948Z"
      },
      {
        "duration": 6000,
        "start_time": "2021-06-30T11:06:39.975Z"
      },
      {
        "duration": 495,
        "start_time": "2021-06-30T11:06:45.977Z"
      },
      {
        "duration": 3,
        "start_time": "2021-06-30T11:06:46.475Z"
      },
      {
        "duration": 27,
        "start_time": "2021-06-30T11:06:46.481Z"
      },
      {
        "duration": 566,
        "start_time": "2021-06-30T11:06:46.510Z"
      },
      {
        "duration": 10,
        "start_time": "2021-06-30T11:06:47.079Z"
      },
      {
        "duration": 4,
        "start_time": "2021-06-30T11:06:47.092Z"
      },
      {
        "duration": 62,
        "start_time": "2021-06-30T11:06:47.105Z"
      },
      {
        "duration": 7,
        "start_time": "2021-06-30T11:12:49.171Z"
      },
      {
        "duration": 1721,
        "start_time": "2021-06-30T11:13:28.332Z"
      },
      {
        "duration": 1230,
        "start_time": "2021-06-30T11:13:30.055Z"
      },
      {
        "duration": 5,
        "start_time": "2021-06-30T11:13:31.288Z"
      },
      {
        "duration": 317,
        "start_time": "2021-06-30T11:13:31.295Z"
      },
      {
        "duration": 377,
        "start_time": "2021-06-30T11:13:31.615Z"
      },
      {
        "duration": 262,
        "start_time": "2021-06-30T11:13:31.995Z"
      },
      {
        "duration": 132,
        "start_time": "2021-06-30T11:13:32.259Z"
      },
      {
        "duration": 49,
        "start_time": "2021-06-30T11:13:32.394Z"
      },
      {
        "duration": 64,
        "start_time": "2021-06-30T11:13:32.446Z"
      },
      {
        "duration": 217,
        "start_time": "2021-06-30T11:13:32.512Z"
      },
      {
        "duration": 402,
        "start_time": "2021-06-30T11:13:32.732Z"
      },
      {
        "duration": 244,
        "start_time": "2021-06-30T11:13:33.137Z"
      },
      {
        "duration": 130,
        "start_time": "2021-06-30T11:13:33.384Z"
      },
      {
        "duration": 90,
        "start_time": "2021-06-30T11:13:33.517Z"
      },
      {
        "duration": 4,
        "start_time": "2021-06-30T11:13:33.610Z"
      },
      {
        "duration": 2838,
        "start_time": "2021-06-30T11:13:33.617Z"
      },
      {
        "duration": 4,
        "start_time": "2021-06-30T11:13:36.466Z"
      },
      {
        "duration": 21,
        "start_time": "2021-06-30T11:13:36.472Z"
      },
      {
        "duration": 8,
        "start_time": "2021-06-30T11:13:36.496Z"
      },
      {
        "duration": 26,
        "start_time": "2021-06-30T11:13:36.506Z"
      },
      {
        "duration": 139,
        "start_time": "2021-06-30T11:13:36.534Z"
      },
      {
        "duration": 29,
        "start_time": "2021-06-30T11:13:36.676Z"
      },
      {
        "duration": 31613,
        "start_time": "2021-06-30T11:13:36.713Z"
      },
      {
        "duration": 169,
        "start_time": "2021-06-30T11:14:08.330Z"
      },
      {
        "duration": 4,
        "start_time": "2021-06-30T11:14:08.501Z"
      },
      {
        "duration": 6,
        "start_time": "2021-06-30T11:14:08.568Z"
      },
      {
        "duration": 11,
        "start_time": "2021-06-30T11:14:08.576Z"
      },
      {
        "duration": 18,
        "start_time": "2021-06-30T11:14:08.590Z"
      },
      {
        "duration": 9357,
        "start_time": "2021-06-30T11:14:08.611Z"
      },
      {
        "duration": 7,
        "start_time": "2021-06-30T11:14:17.970Z"
      },
      {
        "duration": 700,
        "start_time": "2021-06-30T11:14:17.979Z"
      },
      {
        "duration": 3,
        "start_time": "2021-06-30T11:14:18.682Z"
      },
      {
        "duration": 81,
        "start_time": "2021-06-30T11:14:18.688Z"
      },
      {
        "duration": 7,
        "start_time": "2021-06-30T11:14:18.772Z"
      },
      {
        "duration": 11,
        "start_time": "2021-06-30T11:14:18.782Z"
      },
      {
        "duration": 551,
        "start_time": "2021-06-30T11:14:18.795Z"
      },
      {
        "duration": 5,
        "start_time": "2021-06-30T11:14:19.348Z"
      },
      {
        "duration": 19,
        "start_time": "2021-06-30T11:14:19.367Z"
      },
      {
        "duration": 9139,
        "start_time": "2021-06-30T11:14:19.389Z"
      },
      {
        "duration": 44,
        "start_time": "2021-06-30T11:14:28.530Z"
      },
      {
        "duration": 89,
        "start_time": "2021-06-30T11:14:28.579Z"
      },
      {
        "duration": 203,
        "start_time": "2021-06-30T11:14:28.670Z"
      },
      {
        "duration": 196,
        "start_time": "2021-06-30T11:14:28.876Z"
      },
      {
        "duration": 95,
        "start_time": "2021-06-30T11:14:29.076Z"
      },
      {
        "duration": 662,
        "start_time": "2021-06-30T11:14:29.174Z"
      },
      {
        "duration": 568,
        "start_time": "2021-06-30T11:14:29.839Z"
      },
      {
        "duration": 7,
        "start_time": "2021-06-30T11:14:30.409Z"
      },
      {
        "duration": 617,
        "start_time": "2021-06-30T11:14:30.419Z"
      },
      {
        "duration": 7,
        "start_time": "2021-06-30T11:14:31.039Z"
      },
      {
        "duration": 106,
        "start_time": "2021-06-30T11:14:31.067Z"
      },
      {
        "duration": 47,
        "start_time": "2021-06-30T11:14:31.176Z"
      },
      {
        "duration": 7,
        "start_time": "2021-06-30T11:14:31.226Z"
      },
      {
        "duration": 98,
        "start_time": "2021-06-30T11:14:31.235Z"
      },
      {
        "duration": 43,
        "start_time": "2021-06-30T11:14:31.336Z"
      },
      {
        "duration": 6,
        "start_time": "2021-06-30T11:14:31.381Z"
      },
      {
        "duration": 30,
        "start_time": "2021-06-30T11:14:31.389Z"
      },
      {
        "duration": 9,
        "start_time": "2021-06-30T11:14:31.422Z"
      },
      {
        "duration": 27,
        "start_time": "2021-06-30T11:14:31.433Z"
      },
      {
        "duration": 215,
        "start_time": "2021-06-30T11:14:31.462Z"
      },
      {
        "duration": 27,
        "start_time": "2021-06-30T11:14:31.680Z"
      },
      {
        "duration": 18,
        "start_time": "2021-06-30T11:14:31.709Z"
      },
      {
        "duration": 7444,
        "start_time": "2021-06-30T11:14:31.731Z"
      },
      {
        "duration": 496,
        "start_time": "2021-06-30T11:14:39.178Z"
      },
      {
        "duration": 5,
        "start_time": "2021-06-30T11:14:39.677Z"
      },
      {
        "duration": 30,
        "start_time": "2021-06-30T11:14:39.685Z"
      },
      {
        "duration": 568,
        "start_time": "2021-06-30T11:14:39.717Z"
      },
      {
        "duration": 9,
        "start_time": "2021-06-30T11:14:40.287Z"
      },
      {
        "duration": 9,
        "start_time": "2021-06-30T11:14:40.303Z"
      },
      {
        "duration": 51,
        "start_time": "2021-06-30T11:14:40.315Z"
      }
    ],
    "kernelspec": {
      "display_name": "Python 3",
      "language": "python",
      "name": "python3"
    },
    "language_info": {
      "codemirror_mode": {
        "name": "ipython",
        "version": 3
      },
      "file_extension": ".py",
      "mimetype": "text/x-python",
      "name": "python",
      "nbconvert_exporter": "python",
      "pygments_lexer": "ipython3",
      "version": "3.7.8"
    },
    "toc": {
      "base_numbering": 1,
      "nav_menu": {},
      "number_sections": true,
      "sideBar": true,
      "skip_h1_title": true,
      "title_cell": "Содержание",
      "title_sidebar": "Contents",
      "toc_cell": true,
      "toc_position": {
        "height": "calc(100% - 180px)",
        "left": "10px",
        "top": "150px",
        "width": "366.391px"
      },
      "toc_section_display": true,
      "toc_window_display": true
    },
    "colab": {
      "name": "autos.ipynb",
      "provenance": [],
      "collapsed_sections": []
    }
  },
  "cells": [
    {
      "cell_type": "markdown",
      "metadata": {
        "toc": true,
        "id": "L4TmbaFcxXtp"
      },
      "source": [
        "<h1>Содержание<span class=\"tocSkip\"></span></h1>\n",
        "<div class=\"toc\"><ul class=\"toc-item\"><li><span><a href=\"#Загрузка-данных-и-первичный-осмотр\" data-toc-modified-id=\"Загрузка-данных-и-первичный-осмотр-1\"><span class=\"toc-item-num\">1&nbsp;&nbsp;</span>Загрузка данных и первичный осмотр</a></span><ul class=\"toc-item\"><li><span><a href=\"#Импорт-необходимых-библиотек\" data-toc-modified-id=\"Импорт-необходимых-библиотек-1.1\"><span class=\"toc-item-num\">1.1&nbsp;&nbsp;</span>Импорт необходимых библиотек</a></span></li><li><span><a href=\"#Загрузка-данных.-Осмотр-и-обработка.-Первичный-анализ\" data-toc-modified-id=\"Загрузка-данных.-Осмотр-и-обработка.-Первичный-анализ-1.2\"><span class=\"toc-item-num\">1.2&nbsp;&nbsp;</span>Загрузка данных. Осмотр и обработка. Первичный анализ</a></span></li><li><span><a href=\"#Работа-с-аномалиями.-Заключительная-преподготовка\" data-toc-modified-id=\"Работа-с-аномалиями.-Заключительная-преподготовка-1.3\"><span class=\"toc-item-num\">1.3&nbsp;&nbsp;</span>Работа с аномалиями. Заключительная преподготовка</a></span></li><li><span><a href=\"#Вывод\" data-toc-modified-id=\"Вывод-1.4\"><span class=\"toc-item-num\">1.4&nbsp;&nbsp;</span>Вывод</a></span></li></ul></li><li><span><a href=\"#Обучение-моделей\" data-toc-modified-id=\"Обучение-моделей-2\"><span class=\"toc-item-num\">2&nbsp;&nbsp;</span>Обучение моделей</a></span><ul class=\"toc-item\"><li><span><a href=\"#Подготовка-выборок\" data-toc-modified-id=\"Подготовка-выборок-2.1\"><span class=\"toc-item-num\">2.1&nbsp;&nbsp;</span>Подготовка выборок</a></span></li><li><span><a href=\"#Catboost\" data-toc-modified-id=\"Catboost-2.2\"><span class=\"toc-item-num\">2.2&nbsp;&nbsp;</span>Catboost</a></span></li><li><span><a href=\"#LightGBM\" data-toc-modified-id=\"LightGBM-2.3\"><span class=\"toc-item-num\">2.3&nbsp;&nbsp;</span>LightGBM</a></span></li><li><span><a href=\"#Ансамбль-SVR-и-LinearRegression\" data-toc-modified-id=\"Ансамбль-SVR-и-LinearRegression-2.4\"><span class=\"toc-item-num\">2.4&nbsp;&nbsp;</span>Ансамбль SVR и LinearRegression</a></span></li><li><span><a href=\"#ElasticNet\" data-toc-modified-id=\"ElasticNet-2.5\"><span class=\"toc-item-num\">2.5&nbsp;&nbsp;</span>ElasticNet</a></span></li></ul></li><li><span><a href=\"#Анализ-моделей\" data-toc-modified-id=\"Анализ-моделей-3\"><span class=\"toc-item-num\">3&nbsp;&nbsp;</span>Анализ моделей</a></span><ul class=\"toc-item\"><li><span><a href=\"#Light-GBM-с-новыми-признаками\" data-toc-modified-id=\"Light-GBM-с-новыми-признаками-3.1\"><span class=\"toc-item-num\">3.1&nbsp;&nbsp;</span>Light GBM с новыми признаками</a></span></li><li><span><a href=\"#Проверка-на-адекватность\" data-toc-modified-id=\"Проверка-на-адекватность-3.2\"><span class=\"toc-item-num\">3.2&nbsp;&nbsp;</span>Проверка на адекватность</a></span></li><li><span><a href=\"#Вывод\" data-toc-modified-id=\"Вывод-3.3\"><span class=\"toc-item-num\">3.3&nbsp;&nbsp;</span>Вывод</a></span></li></ul></li><li><span><a href=\"#Чек-лист-проверки\" data-toc-modified-id=\"Чек-лист-проверки-4\"><span class=\"toc-item-num\">4&nbsp;&nbsp;</span>Чек-лист проверки</a></span></li></ul></div>"
      ]
    },
    {
      "cell_type": "markdown",
      "metadata": {
        "id": "4ONUxKWYxXtp"
      },
      "source": [
        "<footer id=\"footer\"></footer>"
      ]
    },
    {
      "cell_type": "markdown",
      "metadata": {
        "id": "7pmf7J-0xXtq"
      },
      "source": [
        "# Определение стоимости автомобилей"
      ]
    },
    {
      "cell_type": "markdown",
      "metadata": {
        "id": "b-_rj9RaxXtq"
      },
      "source": [
        "![](https://i.ibb.co/vZrLqM2/kp108-ocenka-avto-s-probegom.jpg)"
      ]
    },
    {
      "cell_type": "markdown",
      "metadata": {
        "id": "cY4sOBw5xXtq"
      },
      "source": [
        "Сервис по продаже автомобилей с пробегом **«Не бит, не крашен»** разрабатывает приложение для привлечения новых клиентов. В нём можно быстро узнать рыночную стоимость своего автомобиля. В нашем распоряжении исторические данные: технические характеристики, комплектации и цены автомобилей. Нам нужно построить модель для определения стоимости. \n",
        "\n",
        "Заказчику важны:\n",
        "\n",
        "- качество предсказания;\n",
        "- скорость предсказания;\n",
        "- время обучения."
      ]
    },
    {
      "cell_type": "markdown",
      "metadata": {
        "id": "8yrqWipUxXtq"
      },
      "source": [
        "<a href=\"#footer\">К содержанию</a>\n",
        "<footer id=\"footer\"></footer>"
      ]
    },
    {
      "cell_type": "markdown",
      "metadata": {
        "id": "90Z9bludxXtq"
      },
      "source": [
        "## Загрузка данных и первичный осмотр"
      ]
    },
    {
      "cell_type": "markdown",
      "metadata": {
        "id": "HnLpOq6AxXtq"
      },
      "source": [
        "### Импорт необходимых библиотек"
      ]
    },
    {
      "cell_type": "code",
      "metadata": {
        "colab": {
          "base_uri": "https://localhost:8080/"
        },
        "id": "6fG3ylqXzG0X",
        "outputId": "7e8d68a1-acc4-4c22-8caa-49d46049abe9"
      },
      "source": [
        "!pip install Catboost"
      ],
      "execution_count": 1,
      "outputs": [
        {
          "output_type": "stream",
          "text": [
            "Requirement already satisfied: Catboost in /usr/local/lib/python3.7/dist-packages (0.26)\n",
            "Requirement already satisfied: graphviz in /usr/local/lib/python3.7/dist-packages (from Catboost) (0.10.1)\n",
            "Requirement already satisfied: numpy>=1.16.0 in /usr/local/lib/python3.7/dist-packages (from Catboost) (1.19.5)\n",
            "Requirement already satisfied: matplotlib in /usr/local/lib/python3.7/dist-packages (from Catboost) (3.2.2)\n",
            "Requirement already satisfied: plotly in /usr/local/lib/python3.7/dist-packages (from Catboost) (4.4.1)\n",
            "Requirement already satisfied: pandas>=0.24.0 in /usr/local/lib/python3.7/dist-packages (from Catboost) (1.1.5)\n",
            "Requirement already satisfied: six in /usr/local/lib/python3.7/dist-packages (from Catboost) (1.15.0)\n",
            "Requirement already satisfied: scipy in /usr/local/lib/python3.7/dist-packages (from Catboost) (1.4.1)\n",
            "Requirement already satisfied: pyparsing!=2.0.4,!=2.1.2,!=2.1.6,>=2.0.1 in /usr/local/lib/python3.7/dist-packages (from matplotlib->Catboost) (2.4.7)\n",
            "Requirement already satisfied: kiwisolver>=1.0.1 in /usr/local/lib/python3.7/dist-packages (from matplotlib->Catboost) (1.3.1)\n",
            "Requirement already satisfied: cycler>=0.10 in /usr/local/lib/python3.7/dist-packages (from matplotlib->Catboost) (0.10.0)\n",
            "Requirement already satisfied: python-dateutil>=2.1 in /usr/local/lib/python3.7/dist-packages (from matplotlib->Catboost) (2.8.1)\n",
            "Requirement already satisfied: retrying>=1.3.3 in /usr/local/lib/python3.7/dist-packages (from plotly->Catboost) (1.3.3)\n",
            "Requirement already satisfied: pytz>=2017.2 in /usr/local/lib/python3.7/dist-packages (from pandas>=0.24.0->Catboost) (2018.9)\n"
          ],
          "name": "stdout"
        }
      ]
    },
    {
      "cell_type": "code",
      "metadata": {
        "id": "O4DSVDNgxXtr"
      },
      "source": [
        "import pandas as pd\n",
        "import numpy as np\n",
        "import matplotlib.pyplot as plt\n",
        "import seaborn as sns\n",
        "sns.set_style(\"darkgrid\")\n",
        "from sklearn.linear_model import LinearRegression, ElasticNet\n",
        "import time\n",
        "from sklearn.svm import LinearSVR\n",
        "from sklearn.ensemble import VotingRegressor\n",
        "from sklearn.metrics import mean_squared_error\n",
        "from sklearn.model_selection import train_test_split\n",
        "from sklearn.pipeline import Pipeline\n",
        "from sklearn.preprocessing import StandardScaler, OrdinalEncoder\n",
        "from sklearn.compose import ColumnTransformer\n",
        "from catboost import CatBoostRegressor\n",
        "import lightgbm as lgb\n",
        "import warnings\n",
        "warnings.filterwarnings(\"ignore\")\n",
        "%matplotlib inline\n",
        "np.random.seed(42)"
      ],
      "execution_count": 2,
      "outputs": []
    },
    {
      "cell_type": "markdown",
      "metadata": {
        "id": "TCkFWEPJxXtr"
      },
      "source": [
        "<a href=\"#footer\">К содержанию</a>\n",
        "<footer id=\"footer\"></footer>"
      ]
    },
    {
      "cell_type": "code",
      "metadata": {
        "colab": {
          "base_uri": "https://localhost:8080/"
        },
        "id": "D0JPLmk2xb00",
        "outputId": "9d5899d0-4eb2-45fd-d301-6dfcad96bc3e"
      },
      "source": [
        "!gdown --id 1RGZmVXLyqW8g4O4J0rt2sDsQ8Yllwh5D"
      ],
      "execution_count": 3,
      "outputs": [
        {
          "output_type": "stream",
          "text": [
            "Downloading...\n",
            "From: https://drive.google.com/uc?id=1RGZmVXLyqW8g4O4J0rt2sDsQ8Yllwh5D\n",
            "To: /content/autos.csv\n",
            "44.4MB [00:00, 94.5MB/s]\n"
          ],
          "name": "stdout"
        }
      ]
    },
    {
      "cell_type": "markdown",
      "metadata": {
        "id": "xTR1s2rixXtr"
      },
      "source": [
        "### Загрузка данных. Осмотр и обработка. Первичный анализ"
      ]
    },
    {
      "cell_type": "code",
      "metadata": {
        "colab": {
          "base_uri": "https://localhost:8080/",
          "height": 394
        },
        "id": "l5Cmuhh8xXtr",
        "outputId": "5723017c-b946-4567-f9ea-f125a680ec9e"
      },
      "source": [
        "df = pd.read_csv('/content/autos.csv')\n",
        "df.head()"
      ],
      "execution_count": 4,
      "outputs": [
        {
          "output_type": "execute_result",
          "data": {
            "text/html": [
              "<div>\n",
              "<style scoped>\n",
              "    .dataframe tbody tr th:only-of-type {\n",
              "        vertical-align: middle;\n",
              "    }\n",
              "\n",
              "    .dataframe tbody tr th {\n",
              "        vertical-align: top;\n",
              "    }\n",
              "\n",
              "    .dataframe thead th {\n",
              "        text-align: right;\n",
              "    }\n",
              "</style>\n",
              "<table border=\"1\" class=\"dataframe\">\n",
              "  <thead>\n",
              "    <tr style=\"text-align: right;\">\n",
              "      <th></th>\n",
              "      <th>DateCrawled</th>\n",
              "      <th>Price</th>\n",
              "      <th>VehicleType</th>\n",
              "      <th>RegistrationYear</th>\n",
              "      <th>Gearbox</th>\n",
              "      <th>Power</th>\n",
              "      <th>Model</th>\n",
              "      <th>Kilometer</th>\n",
              "      <th>RegistrationMonth</th>\n",
              "      <th>FuelType</th>\n",
              "      <th>Brand</th>\n",
              "      <th>NotRepaired</th>\n",
              "      <th>DateCreated</th>\n",
              "      <th>NumberOfPictures</th>\n",
              "      <th>PostalCode</th>\n",
              "      <th>LastSeen</th>\n",
              "    </tr>\n",
              "  </thead>\n",
              "  <tbody>\n",
              "    <tr>\n",
              "      <th>0</th>\n",
              "      <td>2016-03-24 11:52:17</td>\n",
              "      <td>480</td>\n",
              "      <td>NaN</td>\n",
              "      <td>1993</td>\n",
              "      <td>manual</td>\n",
              "      <td>0</td>\n",
              "      <td>golf</td>\n",
              "      <td>150000</td>\n",
              "      <td>0</td>\n",
              "      <td>petrol</td>\n",
              "      <td>volkswagen</td>\n",
              "      <td>NaN</td>\n",
              "      <td>2016-03-24 00:00:00</td>\n",
              "      <td>0</td>\n",
              "      <td>70435</td>\n",
              "      <td>2016-04-07 03:16:57</td>\n",
              "    </tr>\n",
              "    <tr>\n",
              "      <th>1</th>\n",
              "      <td>2016-03-24 10:58:45</td>\n",
              "      <td>18300</td>\n",
              "      <td>coupe</td>\n",
              "      <td>2011</td>\n",
              "      <td>manual</td>\n",
              "      <td>190</td>\n",
              "      <td>NaN</td>\n",
              "      <td>125000</td>\n",
              "      <td>5</td>\n",
              "      <td>gasoline</td>\n",
              "      <td>audi</td>\n",
              "      <td>yes</td>\n",
              "      <td>2016-03-24 00:00:00</td>\n",
              "      <td>0</td>\n",
              "      <td>66954</td>\n",
              "      <td>2016-04-07 01:46:50</td>\n",
              "    </tr>\n",
              "    <tr>\n",
              "      <th>2</th>\n",
              "      <td>2016-03-14 12:52:21</td>\n",
              "      <td>9800</td>\n",
              "      <td>suv</td>\n",
              "      <td>2004</td>\n",
              "      <td>auto</td>\n",
              "      <td>163</td>\n",
              "      <td>grand</td>\n",
              "      <td>125000</td>\n",
              "      <td>8</td>\n",
              "      <td>gasoline</td>\n",
              "      <td>jeep</td>\n",
              "      <td>NaN</td>\n",
              "      <td>2016-03-14 00:00:00</td>\n",
              "      <td>0</td>\n",
              "      <td>90480</td>\n",
              "      <td>2016-04-05 12:47:46</td>\n",
              "    </tr>\n",
              "    <tr>\n",
              "      <th>3</th>\n",
              "      <td>2016-03-17 16:54:04</td>\n",
              "      <td>1500</td>\n",
              "      <td>small</td>\n",
              "      <td>2001</td>\n",
              "      <td>manual</td>\n",
              "      <td>75</td>\n",
              "      <td>golf</td>\n",
              "      <td>150000</td>\n",
              "      <td>6</td>\n",
              "      <td>petrol</td>\n",
              "      <td>volkswagen</td>\n",
              "      <td>no</td>\n",
              "      <td>2016-03-17 00:00:00</td>\n",
              "      <td>0</td>\n",
              "      <td>91074</td>\n",
              "      <td>2016-03-17 17:40:17</td>\n",
              "    </tr>\n",
              "    <tr>\n",
              "      <th>4</th>\n",
              "      <td>2016-03-31 17:25:20</td>\n",
              "      <td>3600</td>\n",
              "      <td>small</td>\n",
              "      <td>2008</td>\n",
              "      <td>manual</td>\n",
              "      <td>69</td>\n",
              "      <td>fabia</td>\n",
              "      <td>90000</td>\n",
              "      <td>7</td>\n",
              "      <td>gasoline</td>\n",
              "      <td>skoda</td>\n",
              "      <td>no</td>\n",
              "      <td>2016-03-31 00:00:00</td>\n",
              "      <td>0</td>\n",
              "      <td>60437</td>\n",
              "      <td>2016-04-06 10:17:21</td>\n",
              "    </tr>\n",
              "  </tbody>\n",
              "</table>\n",
              "</div>"
            ],
            "text/plain": [
              "           DateCrawled  Price  ... PostalCode             LastSeen\n",
              "0  2016-03-24 11:52:17    480  ...      70435  2016-04-07 03:16:57\n",
              "1  2016-03-24 10:58:45  18300  ...      66954  2016-04-07 01:46:50\n",
              "2  2016-03-14 12:52:21   9800  ...      90480  2016-04-05 12:47:46\n",
              "3  2016-03-17 16:54:04   1500  ...      91074  2016-03-17 17:40:17\n",
              "4  2016-03-31 17:25:20   3600  ...      60437  2016-04-06 10:17:21\n",
              "\n",
              "[5 rows x 16 columns]"
            ]
          },
          "metadata": {
            "tags": []
          },
          "execution_count": 4
        }
      ]
    },
    {
      "cell_type": "markdown",
      "metadata": {
        "id": "7O6votUQxXts"
      },
      "source": [
        "Для удобства приведем названия признаков к нижнему регистру и применим snake case"
      ]
    },
    {
      "cell_type": "code",
      "metadata": {
        "id": "niceWzJBxXts"
      },
      "source": [
        "df.columns = df.columns.str.lower()\n",
        "df.columns = [ 'date_crawled' , 'price' , 'vehicle_type' , 'registration_year' , 'gearbox' ,\n",
        "               'power' , 'model' , 'kilometer' , 'registration_month' , 'fuel_type' , 'brand' ,\n",
        "               'not_repaired' , 'date_created' , 'number_of_pictures' , 'postal_code' ,\n",
        "               'last_seen' ]"
      ],
      "execution_count": 5,
      "outputs": []
    },
    {
      "cell_type": "markdown",
      "metadata": {
        "id": "Q2sYP0GHxXtt"
      },
      "source": [
        "Посмотрим на типы данных и проверим пропуски"
      ]
    },
    {
      "cell_type": "code",
      "metadata": {
        "colab": {
          "base_uri": "https://localhost:8080/"
        },
        "id": "6aM8zoMZxXtt",
        "outputId": "31995a53-3d20-4c58-a4f6-fe65925c92a0"
      },
      "source": [
        "df.info()"
      ],
      "execution_count": 6,
      "outputs": [
        {
          "output_type": "stream",
          "text": [
            "<class 'pandas.core.frame.DataFrame'>\n",
            "RangeIndex: 354369 entries, 0 to 354368\n",
            "Data columns (total 16 columns):\n",
            " #   Column              Non-Null Count   Dtype \n",
            "---  ------              --------------   ----- \n",
            " 0   date_crawled        354369 non-null  object\n",
            " 1   price               354369 non-null  int64 \n",
            " 2   vehicle_type        316879 non-null  object\n",
            " 3   registration_year   354369 non-null  int64 \n",
            " 4   gearbox             334536 non-null  object\n",
            " 5   power               354369 non-null  int64 \n",
            " 6   model               334664 non-null  object\n",
            " 7   kilometer           354369 non-null  int64 \n",
            " 8   registration_month  354369 non-null  int64 \n",
            " 9   fuel_type           321474 non-null  object\n",
            " 10  brand               354369 non-null  object\n",
            " 11  not_repaired        283215 non-null  object\n",
            " 12  date_created        354369 non-null  object\n",
            " 13  number_of_pictures  354369 non-null  int64 \n",
            " 14  postal_code         354369 non-null  int64 \n",
            " 15  last_seen           354369 non-null  object\n",
            "dtypes: int64(7), object(9)\n",
            "memory usage: 43.3+ MB\n"
          ],
          "name": "stdout"
        }
      ]
    },
    {
      "cell_type": "markdown",
      "metadata": {
        "id": "pq-nf_4vxXtt"
      },
      "source": [
        "Наблюдаются пропуски в 5 признаках - `not_repaired`, `vehicle_type`, `fuel_type`, `gearbox`, `model`. Посмотрим их количество:"
      ]
    },
    {
      "cell_type": "code",
      "metadata": {
        "colab": {
          "base_uri": "https://localhost:8080/"
        },
        "id": "HQvWPrchxXtt",
        "outputId": "36373134-7e0d-4ac0-a192-40923e5aea06"
      },
      "source": [
        "df.isna().mean().sort_values(ascending=False)"
      ],
      "execution_count": 7,
      "outputs": [
        {
          "output_type": "execute_result",
          "data": {
            "text/plain": [
              "not_repaired          0.200791\n",
              "vehicle_type          0.105794\n",
              "fuel_type             0.092827\n",
              "gearbox               0.055967\n",
              "model                 0.055606\n",
              "last_seen             0.000000\n",
              "postal_code           0.000000\n",
              "number_of_pictures    0.000000\n",
              "date_created          0.000000\n",
              "brand                 0.000000\n",
              "registration_month    0.000000\n",
              "kilometer             0.000000\n",
              "power                 0.000000\n",
              "registration_year     0.000000\n",
              "price                 0.000000\n",
              "date_crawled          0.000000\n",
              "dtype: float64"
            ]
          },
          "metadata": {
            "tags": []
          },
          "execution_count": 7
        }
      ]
    },
    {
      "cell_type": "markdown",
      "metadata": {
        "id": "5AaWaIl4xXtt"
      },
      "source": [
        "Значительные пропуски наблюдаются в признаке `not_repaired` - это может быть связано как с тем, что пользователь не сообщил о факте отсутствия ремонта, либо автомобиль подвергался ремонту, данные отсутствуют в зависимости от неизвестных факторов. Вероятность пропуска могла бы быть описана на основе других атрибутов, но информация по этим атрибутам в наборе данных отсутствует, аналогично `vehicle_type`  \n",
        "\n",
        "`fuel_type`, `gearbox`, `model` - достаточно важные признаки, наблюдается 5-9% пропусков - тип топлива, коробка передач и модель автомобиля влияют на конечную цену. Могли появится по причине пропуска данных характеристик при заполнении объявления пользователем - умышленно либо по причине неосведомленности\n",
        "\n",
        "Нам дали информацию о 354369 объявлениях. Но удалять пропуски не будем - заменим на `unknown` - неизвестно. Тип данных этих столбцов object - нам не помешает в анализе подобная замена"
      ]
    },
    {
      "cell_type": "markdown",
      "metadata": {
        "id": "M2BtMmy2xXtt"
      },
      "source": [
        "<a id=nan></a>"
      ]
    },
    {
      "cell_type": "code",
      "metadata": {
        "id": "0197n9F6xXtu"
      },
      "source": [
        "nan_cols = ['not_repaired', 'vehicle_type', 'fuel_type', 'gearbox', 'model']\n",
        "df[nan_cols] = df[nan_cols].fillna('unknown')"
      ],
      "execution_count": 8,
      "outputs": []
    },
    {
      "cell_type": "code",
      "metadata": {
        "colab": {
          "base_uri": "https://localhost:8080/",
          "height": 266
        },
        "id": "80E_VVzExXtu",
        "outputId": "8ba6e07c-dc21-4626-bcb3-6923e55d893a"
      },
      "source": [
        "df.describe().T"
      ],
      "execution_count": 9,
      "outputs": [
        {
          "output_type": "execute_result",
          "data": {
            "text/html": [
              "<div>\n",
              "<style scoped>\n",
              "    .dataframe tbody tr th:only-of-type {\n",
              "        vertical-align: middle;\n",
              "    }\n",
              "\n",
              "    .dataframe tbody tr th {\n",
              "        vertical-align: top;\n",
              "    }\n",
              "\n",
              "    .dataframe thead th {\n",
              "        text-align: right;\n",
              "    }\n",
              "</style>\n",
              "<table border=\"1\" class=\"dataframe\">\n",
              "  <thead>\n",
              "    <tr style=\"text-align: right;\">\n",
              "      <th></th>\n",
              "      <th>count</th>\n",
              "      <th>mean</th>\n",
              "      <th>std</th>\n",
              "      <th>min</th>\n",
              "      <th>25%</th>\n",
              "      <th>50%</th>\n",
              "      <th>75%</th>\n",
              "      <th>max</th>\n",
              "    </tr>\n",
              "  </thead>\n",
              "  <tbody>\n",
              "    <tr>\n",
              "      <th>price</th>\n",
              "      <td>354369.0</td>\n",
              "      <td>4416.656776</td>\n",
              "      <td>4514.158514</td>\n",
              "      <td>0.0</td>\n",
              "      <td>1050.0</td>\n",
              "      <td>2700.0</td>\n",
              "      <td>6400.0</td>\n",
              "      <td>20000.0</td>\n",
              "    </tr>\n",
              "    <tr>\n",
              "      <th>registration_year</th>\n",
              "      <td>354369.0</td>\n",
              "      <td>2004.234448</td>\n",
              "      <td>90.227958</td>\n",
              "      <td>1000.0</td>\n",
              "      <td>1999.0</td>\n",
              "      <td>2003.0</td>\n",
              "      <td>2008.0</td>\n",
              "      <td>9999.0</td>\n",
              "    </tr>\n",
              "    <tr>\n",
              "      <th>power</th>\n",
              "      <td>354369.0</td>\n",
              "      <td>110.094337</td>\n",
              "      <td>189.850405</td>\n",
              "      <td>0.0</td>\n",
              "      <td>69.0</td>\n",
              "      <td>105.0</td>\n",
              "      <td>143.0</td>\n",
              "      <td>20000.0</td>\n",
              "    </tr>\n",
              "    <tr>\n",
              "      <th>kilometer</th>\n",
              "      <td>354369.0</td>\n",
              "      <td>128211.172535</td>\n",
              "      <td>37905.341530</td>\n",
              "      <td>5000.0</td>\n",
              "      <td>125000.0</td>\n",
              "      <td>150000.0</td>\n",
              "      <td>150000.0</td>\n",
              "      <td>150000.0</td>\n",
              "    </tr>\n",
              "    <tr>\n",
              "      <th>registration_month</th>\n",
              "      <td>354369.0</td>\n",
              "      <td>5.714645</td>\n",
              "      <td>3.726421</td>\n",
              "      <td>0.0</td>\n",
              "      <td>3.0</td>\n",
              "      <td>6.0</td>\n",
              "      <td>9.0</td>\n",
              "      <td>12.0</td>\n",
              "    </tr>\n",
              "    <tr>\n",
              "      <th>number_of_pictures</th>\n",
              "      <td>354369.0</td>\n",
              "      <td>0.000000</td>\n",
              "      <td>0.000000</td>\n",
              "      <td>0.0</td>\n",
              "      <td>0.0</td>\n",
              "      <td>0.0</td>\n",
              "      <td>0.0</td>\n",
              "      <td>0.0</td>\n",
              "    </tr>\n",
              "    <tr>\n",
              "      <th>postal_code</th>\n",
              "      <td>354369.0</td>\n",
              "      <td>50508.689087</td>\n",
              "      <td>25783.096248</td>\n",
              "      <td>1067.0</td>\n",
              "      <td>30165.0</td>\n",
              "      <td>49413.0</td>\n",
              "      <td>71083.0</td>\n",
              "      <td>99998.0</td>\n",
              "    </tr>\n",
              "  </tbody>\n",
              "</table>\n",
              "</div>"
            ],
            "text/plain": [
              "                       count           mean  ...       75%       max\n",
              "price               354369.0    4416.656776  ...    6400.0   20000.0\n",
              "registration_year   354369.0    2004.234448  ...    2008.0    9999.0\n",
              "power               354369.0     110.094337  ...     143.0   20000.0\n",
              "kilometer           354369.0  128211.172535  ...  150000.0  150000.0\n",
              "registration_month  354369.0       5.714645  ...       9.0      12.0\n",
              "number_of_pictures  354369.0       0.000000  ...       0.0       0.0\n",
              "postal_code         354369.0   50508.689087  ...   71083.0   99998.0\n",
              "\n",
              "[7 rows x 8 columns]"
            ]
          },
          "metadata": {
            "tags": []
          },
          "execution_count": 9
        }
      ]
    },
    {
      "cell_type": "code",
      "metadata": {
        "colab": {
          "base_uri": "https://localhost:8080/",
          "height": 328
        },
        "id": "rFMHAds1xXtu",
        "outputId": "8c4f48e9-efdc-4f0d-e26c-f122a1a582ea"
      },
      "source": [
        "df['vehicle_type'].value_counts().to_frame('qnty')"
      ],
      "execution_count": 10,
      "outputs": [
        {
          "output_type": "execute_result",
          "data": {
            "text/html": [
              "<div>\n",
              "<style scoped>\n",
              "    .dataframe tbody tr th:only-of-type {\n",
              "        vertical-align: middle;\n",
              "    }\n",
              "\n",
              "    .dataframe tbody tr th {\n",
              "        vertical-align: top;\n",
              "    }\n",
              "\n",
              "    .dataframe thead th {\n",
              "        text-align: right;\n",
              "    }\n",
              "</style>\n",
              "<table border=\"1\" class=\"dataframe\">\n",
              "  <thead>\n",
              "    <tr style=\"text-align: right;\">\n",
              "      <th></th>\n",
              "      <th>qnty</th>\n",
              "    </tr>\n",
              "  </thead>\n",
              "  <tbody>\n",
              "    <tr>\n",
              "      <th>sedan</th>\n",
              "      <td>91457</td>\n",
              "    </tr>\n",
              "    <tr>\n",
              "      <th>small</th>\n",
              "      <td>79831</td>\n",
              "    </tr>\n",
              "    <tr>\n",
              "      <th>wagon</th>\n",
              "      <td>65166</td>\n",
              "    </tr>\n",
              "    <tr>\n",
              "      <th>unknown</th>\n",
              "      <td>37490</td>\n",
              "    </tr>\n",
              "    <tr>\n",
              "      <th>bus</th>\n",
              "      <td>28775</td>\n",
              "    </tr>\n",
              "    <tr>\n",
              "      <th>convertible</th>\n",
              "      <td>20203</td>\n",
              "    </tr>\n",
              "    <tr>\n",
              "      <th>coupe</th>\n",
              "      <td>16163</td>\n",
              "    </tr>\n",
              "    <tr>\n",
              "      <th>suv</th>\n",
              "      <td>11996</td>\n",
              "    </tr>\n",
              "    <tr>\n",
              "      <th>other</th>\n",
              "      <td>3288</td>\n",
              "    </tr>\n",
              "  </tbody>\n",
              "</table>\n",
              "</div>"
            ],
            "text/plain": [
              "              qnty\n",
              "sedan        91457\n",
              "small        79831\n",
              "wagon        65166\n",
              "unknown      37490\n",
              "bus          28775\n",
              "convertible  20203\n",
              "coupe        16163\n",
              "suv          11996\n",
              "other         3288"
            ]
          },
          "metadata": {
            "tags": []
          },
          "execution_count": 10
        }
      ]
    },
    {
      "cell_type": "markdown",
      "metadata": {
        "id": "Yf87sB3uxXtu"
      },
      "source": [
        "Наблюдаются аномалии в признаки registration_year - min значится как 1000.0, аналогично для признака power аномальное значения мощности (максимальной) - 20 000 л.с. - это допустимо для мощных грузовых автомобилей, но данные значения сильно выбиваются из общей массы - большая часть сета - легковые автомобили  \n",
        "\n",
        "Будем смотреть выбросы и постараемся очистить сет от них\n"
      ]
    },
    {
      "cell_type": "markdown",
      "metadata": {
        "id": "UnzdsPDgxXtu"
      },
      "source": [
        "Признаки  \n",
        "\n",
        "\n",
        "- `date_crawled` — дата скачивания анкеты из базы\n",
        "- `vehicle_type` — тип автомобильного кузова\n",
        "- `registration_year` — год регистрации автомобиля\n",
        "- `gearbox` — тип коробки передач\n",
        "- `power` — мощность (л. с.)\n",
        "- `model` — модель автомобиля\n",
        "- `kilometer` — пробег (км)\n",
        "- `registration_month` — месяц регистрации автомобиля\n",
        "- `fuel_type` — тип топлива\n",
        "- `brand` — марка автомобиля\n",
        "- `not_repaired` — была машина в ремонте или нет\n",
        "- `date_created` — дата создания анкеты\n",
        "- `number_of_pictures` — количество фотографий автомобиля\n",
        "- `postalcode` — почтовый индекс владельца анкеты (пользователя)\n",
        "- `last_seen` — дата последней активности пользователя  \n",
        "\n",
        "\n",
        "Целевой признак \n",
        "\n",
        "\n",
        "- `price` — цена (евро)\n"
      ]
    },
    {
      "cell_type": "markdown",
      "metadata": {
        "id": "1rGYA-lcxXtv"
      },
      "source": [
        "Исходя из описания признаков, удалим те, что не несут на наш взгляд полезной нагрузки в целях обуения модели:  \n",
        "\n",
        "- `date_crawled` — дата скачивания анкеты из базы - не несет полезной нагрузки\n",
        "- `registration_month` — месяц регистрации автомобиля - оставим только год регистрации\n",
        "- `date_created` — дата создания анкеты - не несет полезной нагрузки\n",
        "- `number_of_pictures` — количество фотографий автомобиля - не несет полезной нагрузки\n",
        "- `postalcode` — почтовый индекс владельца анкеты (пользователя) - не несет полезной нагрузки, нас не интересует география пользователя, а рынок в целом\n",
        "- `last_seen` — дата последней активности пользователя - не несет полезной нагрузки в целях обучения модели, нас интересует не поведения полльзователя, а рынок в целом\n",
        "\n"
      ]
    },
    {
      "cell_type": "code",
      "metadata": {
        "colab": {
          "base_uri": "https://localhost:8080/",
          "height": 204
        },
        "id": "g6lrjo1axXtv",
        "outputId": "e7feadb3-b264-47b1-d0ab-d430e2c88e7f"
      },
      "source": [
        "cols = ['date_crawled', 'registration_month', 'date_created', \n",
        "        'number_of_pictures', 'postal_code', 'last_seen']\n",
        "df_mod = df.drop(cols, axis=1)\n",
        "df_mod.head()"
      ],
      "execution_count": 11,
      "outputs": [
        {
          "output_type": "execute_result",
          "data": {
            "text/html": [
              "<div>\n",
              "<style scoped>\n",
              "    .dataframe tbody tr th:only-of-type {\n",
              "        vertical-align: middle;\n",
              "    }\n",
              "\n",
              "    .dataframe tbody tr th {\n",
              "        vertical-align: top;\n",
              "    }\n",
              "\n",
              "    .dataframe thead th {\n",
              "        text-align: right;\n",
              "    }\n",
              "</style>\n",
              "<table border=\"1\" class=\"dataframe\">\n",
              "  <thead>\n",
              "    <tr style=\"text-align: right;\">\n",
              "      <th></th>\n",
              "      <th>price</th>\n",
              "      <th>vehicle_type</th>\n",
              "      <th>registration_year</th>\n",
              "      <th>gearbox</th>\n",
              "      <th>power</th>\n",
              "      <th>model</th>\n",
              "      <th>kilometer</th>\n",
              "      <th>fuel_type</th>\n",
              "      <th>brand</th>\n",
              "      <th>not_repaired</th>\n",
              "    </tr>\n",
              "  </thead>\n",
              "  <tbody>\n",
              "    <tr>\n",
              "      <th>0</th>\n",
              "      <td>480</td>\n",
              "      <td>unknown</td>\n",
              "      <td>1993</td>\n",
              "      <td>manual</td>\n",
              "      <td>0</td>\n",
              "      <td>golf</td>\n",
              "      <td>150000</td>\n",
              "      <td>petrol</td>\n",
              "      <td>volkswagen</td>\n",
              "      <td>unknown</td>\n",
              "    </tr>\n",
              "    <tr>\n",
              "      <th>1</th>\n",
              "      <td>18300</td>\n",
              "      <td>coupe</td>\n",
              "      <td>2011</td>\n",
              "      <td>manual</td>\n",
              "      <td>190</td>\n",
              "      <td>unknown</td>\n",
              "      <td>125000</td>\n",
              "      <td>gasoline</td>\n",
              "      <td>audi</td>\n",
              "      <td>yes</td>\n",
              "    </tr>\n",
              "    <tr>\n",
              "      <th>2</th>\n",
              "      <td>9800</td>\n",
              "      <td>suv</td>\n",
              "      <td>2004</td>\n",
              "      <td>auto</td>\n",
              "      <td>163</td>\n",
              "      <td>grand</td>\n",
              "      <td>125000</td>\n",
              "      <td>gasoline</td>\n",
              "      <td>jeep</td>\n",
              "      <td>unknown</td>\n",
              "    </tr>\n",
              "    <tr>\n",
              "      <th>3</th>\n",
              "      <td>1500</td>\n",
              "      <td>small</td>\n",
              "      <td>2001</td>\n",
              "      <td>manual</td>\n",
              "      <td>75</td>\n",
              "      <td>golf</td>\n",
              "      <td>150000</td>\n",
              "      <td>petrol</td>\n",
              "      <td>volkswagen</td>\n",
              "      <td>no</td>\n",
              "    </tr>\n",
              "    <tr>\n",
              "      <th>4</th>\n",
              "      <td>3600</td>\n",
              "      <td>small</td>\n",
              "      <td>2008</td>\n",
              "      <td>manual</td>\n",
              "      <td>69</td>\n",
              "      <td>fabia</td>\n",
              "      <td>90000</td>\n",
              "      <td>gasoline</td>\n",
              "      <td>skoda</td>\n",
              "      <td>no</td>\n",
              "    </tr>\n",
              "  </tbody>\n",
              "</table>\n",
              "</div>"
            ],
            "text/plain": [
              "   price vehicle_type  registration_year  ... fuel_type       brand not_repaired\n",
              "0    480      unknown               1993  ...    petrol  volkswagen      unknown\n",
              "1  18300        coupe               2011  ...  gasoline        audi          yes\n",
              "2   9800          suv               2004  ...  gasoline        jeep      unknown\n",
              "3   1500        small               2001  ...    petrol  volkswagen           no\n",
              "4   3600        small               2008  ...  gasoline       skoda           no\n",
              "\n",
              "[5 rows x 10 columns]"
            ]
          },
          "metadata": {
            "tags": []
          },
          "execution_count": 11
        }
      ]
    },
    {
      "cell_type": "markdown",
      "metadata": {
        "id": "aPvSbbcnxXtv"
      },
      "source": [
        "Проверим дубли и удалим их при наличии"
      ]
    },
    {
      "cell_type": "code",
      "metadata": {
        "colab": {
          "base_uri": "https://localhost:8080/"
        },
        "id": "yFv2pxzdxXtv",
        "outputId": "55d384e4-9c55-4b6f-f0f2-24e066cb54cb"
      },
      "source": [
        "print('Количество дубликатов:', df_mod.duplicated().sum())"
      ],
      "execution_count": 12,
      "outputs": [
        {
          "output_type": "stream",
          "text": [
            "Количество дубликатов: 45040\n"
          ],
          "name": "stdout"
        }
      ]
    },
    {
      "cell_type": "markdown",
      "metadata": {
        "id": "DHwSwYHwxXtv"
      },
      "source": [
        "дубликаты есть и их достаточно много, удалим их, чтобы улучшить обучение модели"
      ]
    },
    {
      "cell_type": "code",
      "metadata": {
        "colab": {
          "base_uri": "https://localhost:8080/"
        },
        "id": "9zNEvNXyxXtw",
        "outputId": "e03d21ba-b59d-4e5a-b53d-89f910e7207e"
      },
      "source": [
        "df_mod.drop_duplicates(inplace=True)\n",
        "df_mod = df_mod.reset_index(drop=True)\n",
        "print('Количество дубликатов после удаления:', df_mod.duplicated().sum())"
      ],
      "execution_count": 13,
      "outputs": [
        {
          "output_type": "stream",
          "text": [
            "Количество дубликатов после удаления: 0\n"
          ],
          "name": "stdout"
        }
      ]
    },
    {
      "cell_type": "markdown",
      "metadata": {
        "id": "3hn7e73bxXtw"
      },
      "source": [
        "<a href=\"#footer\">К содержанию</a>\n",
        "<footer id=\"footer\"></footer>"
      ]
    },
    {
      "cell_type": "markdown",
      "metadata": {
        "id": "vGxkV6dxxXtw"
      },
      "source": [
        "### Работа с аномалиями. Заключительная преподготовка"
      ]
    },
    {
      "cell_type": "markdown",
      "metadata": {
        "id": "zSSXZf1hxXtw"
      },
      "source": [
        "Мы наблюдали аномалии в признаках мощность и год регистрации, также есть проблемы с целевым столбцом цены - есть нулевые значения. Отрежем выбросы ниже 1-перцентиля и выше 99-перцентиля"
      ]
    },
    {
      "cell_type": "code",
      "metadata": {
        "colab": {
          "base_uri": "https://localhost:8080/",
          "height": 142
        },
        "id": "XZfaLyO4xXtw",
        "outputId": "4192f756-8d8b-499a-8bad-bb3bab3a3013"
      },
      "source": [
        "cols_clean = ['price', 'power', 'registration_year']\n",
        "low = .01\n",
        "high = .99\n",
        "quant_df = df_mod[cols_clean].quantile([low, high])\n",
        "df_clean = df_mod[cols_clean].apply(lambda x: x[(x > quant_df.loc[low, x.name]) & \n",
        "                                     (x < quant_df.loc[high, x.name])], axis=0)\n",
        "df_clean.dropna(inplace=True)\n",
        "df_clean.describe().T"
      ],
      "execution_count": 14,
      "outputs": [
        {
          "output_type": "execute_result",
          "data": {
            "text/html": [
              "<div>\n",
              "<style scoped>\n",
              "    .dataframe tbody tr th:only-of-type {\n",
              "        vertical-align: middle;\n",
              "    }\n",
              "\n",
              "    .dataframe tbody tr th {\n",
              "        vertical-align: top;\n",
              "    }\n",
              "\n",
              "    .dataframe thead th {\n",
              "        text-align: right;\n",
              "    }\n",
              "</style>\n",
              "<table border=\"1\" class=\"dataframe\">\n",
              "  <thead>\n",
              "    <tr style=\"text-align: right;\">\n",
              "      <th></th>\n",
              "      <th>count</th>\n",
              "      <th>mean</th>\n",
              "      <th>std</th>\n",
              "      <th>min</th>\n",
              "      <th>25%</th>\n",
              "      <th>50%</th>\n",
              "      <th>75%</th>\n",
              "      <th>max</th>\n",
              "    </tr>\n",
              "  </thead>\n",
              "  <tbody>\n",
              "    <tr>\n",
              "      <th>price</th>\n",
              "      <td>257004.0</td>\n",
              "      <td>4652.745012</td>\n",
              "      <td>4339.334153</td>\n",
              "      <td>1.0</td>\n",
              "      <td>1300.0</td>\n",
              "      <td>3000.0</td>\n",
              "      <td>6800.0</td>\n",
              "      <td>18899.0</td>\n",
              "    </tr>\n",
              "    <tr>\n",
              "      <th>power</th>\n",
              "      <td>257004.0</td>\n",
              "      <td>118.425838</td>\n",
              "      <td>48.428594</td>\n",
              "      <td>1.0</td>\n",
              "      <td>78.0</td>\n",
              "      <td>110.0</td>\n",
              "      <td>147.0</td>\n",
              "      <td>305.0</td>\n",
              "    </tr>\n",
              "    <tr>\n",
              "      <th>registration_year</th>\n",
              "      <td>257004.0</td>\n",
              "      <td>2003.422192</td>\n",
              "      <td>6.328248</td>\n",
              "      <td>1980.0</td>\n",
              "      <td>1999.0</td>\n",
              "      <td>2003.0</td>\n",
              "      <td>2008.0</td>\n",
              "      <td>2017.0</td>\n",
              "    </tr>\n",
              "  </tbody>\n",
              "</table>\n",
              "</div>"
            ],
            "text/plain": [
              "                      count         mean          std  ...     50%     75%      max\n",
              "price              257004.0  4652.745012  4339.334153  ...  3000.0  6800.0  18899.0\n",
              "power              257004.0   118.425838    48.428594  ...   110.0   147.0    305.0\n",
              "registration_year  257004.0  2003.422192     6.328248  ...  2003.0  2008.0   2017.0\n",
              "\n",
              "[3 rows x 8 columns]"
            ]
          },
          "metadata": {
            "tags": []
          },
          "execution_count": 14
        }
      ]
    },
    {
      "cell_type": "markdown",
      "metadata": {
        "id": "mr9qdDiSxXtw"
      },
      "source": [
        "таким образом получаем, что минимальный год теперь равен 1981, максимальный год - 2017, ранее имели 1000 и 9999 соответственно. По цене мы также не потеряли много - минимальная значится как 1, а максимальная 18899"
      ]
    },
    {
      "cell_type": "code",
      "metadata": {
        "colab": {
          "base_uri": "https://localhost:8080/",
          "height": 204
        },
        "id": "H-RxoIWIxXtx",
        "outputId": "fe1e1db5-d110-4da4-f1a9-783a8de2e92f"
      },
      "source": [
        "auto = df_mod[df_mod.index.isin(df_clean.index)]\n",
        "auto.head()"
      ],
      "execution_count": 15,
      "outputs": [
        {
          "output_type": "execute_result",
          "data": {
            "text/html": [
              "<div>\n",
              "<style scoped>\n",
              "    .dataframe tbody tr th:only-of-type {\n",
              "        vertical-align: middle;\n",
              "    }\n",
              "\n",
              "    .dataframe tbody tr th {\n",
              "        vertical-align: top;\n",
              "    }\n",
              "\n",
              "    .dataframe thead th {\n",
              "        text-align: right;\n",
              "    }\n",
              "</style>\n",
              "<table border=\"1\" class=\"dataframe\">\n",
              "  <thead>\n",
              "    <tr style=\"text-align: right;\">\n",
              "      <th></th>\n",
              "      <th>price</th>\n",
              "      <th>vehicle_type</th>\n",
              "      <th>registration_year</th>\n",
              "      <th>gearbox</th>\n",
              "      <th>power</th>\n",
              "      <th>model</th>\n",
              "      <th>kilometer</th>\n",
              "      <th>fuel_type</th>\n",
              "      <th>brand</th>\n",
              "      <th>not_repaired</th>\n",
              "    </tr>\n",
              "  </thead>\n",
              "  <tbody>\n",
              "    <tr>\n",
              "      <th>1</th>\n",
              "      <td>18300</td>\n",
              "      <td>coupe</td>\n",
              "      <td>2011</td>\n",
              "      <td>manual</td>\n",
              "      <td>190</td>\n",
              "      <td>unknown</td>\n",
              "      <td>125000</td>\n",
              "      <td>gasoline</td>\n",
              "      <td>audi</td>\n",
              "      <td>yes</td>\n",
              "    </tr>\n",
              "    <tr>\n",
              "      <th>2</th>\n",
              "      <td>9800</td>\n",
              "      <td>suv</td>\n",
              "      <td>2004</td>\n",
              "      <td>auto</td>\n",
              "      <td>163</td>\n",
              "      <td>grand</td>\n",
              "      <td>125000</td>\n",
              "      <td>gasoline</td>\n",
              "      <td>jeep</td>\n",
              "      <td>unknown</td>\n",
              "    </tr>\n",
              "    <tr>\n",
              "      <th>3</th>\n",
              "      <td>1500</td>\n",
              "      <td>small</td>\n",
              "      <td>2001</td>\n",
              "      <td>manual</td>\n",
              "      <td>75</td>\n",
              "      <td>golf</td>\n",
              "      <td>150000</td>\n",
              "      <td>petrol</td>\n",
              "      <td>volkswagen</td>\n",
              "      <td>no</td>\n",
              "    </tr>\n",
              "    <tr>\n",
              "      <th>4</th>\n",
              "      <td>3600</td>\n",
              "      <td>small</td>\n",
              "      <td>2008</td>\n",
              "      <td>manual</td>\n",
              "      <td>69</td>\n",
              "      <td>fabia</td>\n",
              "      <td>90000</td>\n",
              "      <td>gasoline</td>\n",
              "      <td>skoda</td>\n",
              "      <td>no</td>\n",
              "    </tr>\n",
              "    <tr>\n",
              "      <th>5</th>\n",
              "      <td>650</td>\n",
              "      <td>sedan</td>\n",
              "      <td>1995</td>\n",
              "      <td>manual</td>\n",
              "      <td>102</td>\n",
              "      <td>3er</td>\n",
              "      <td>150000</td>\n",
              "      <td>petrol</td>\n",
              "      <td>bmw</td>\n",
              "      <td>yes</td>\n",
              "    </tr>\n",
              "  </tbody>\n",
              "</table>\n",
              "</div>"
            ],
            "text/plain": [
              "   price vehicle_type  registration_year  ... fuel_type       brand not_repaired\n",
              "1  18300        coupe               2011  ...  gasoline        audi          yes\n",
              "2   9800          suv               2004  ...  gasoline        jeep      unknown\n",
              "3   1500        small               2001  ...    petrol  volkswagen           no\n",
              "4   3600        small               2008  ...  gasoline       skoda           no\n",
              "5    650        sedan               1995  ...    petrol         bmw          yes\n",
              "\n",
              "[5 rows x 10 columns]"
            ]
          },
          "metadata": {
            "tags": []
          },
          "execution_count": 15
        }
      ]
    },
    {
      "cell_type": "code",
      "metadata": {
        "colab": {
          "base_uri": "https://localhost:8080/"
        },
        "id": "ofERrsttxXtx",
        "outputId": "a987fa50-4c89-4cbf-a3ae-4e26c7d966f7"
      },
      "source": [
        "auto.info()"
      ],
      "execution_count": 16,
      "outputs": [
        {
          "output_type": "stream",
          "text": [
            "<class 'pandas.core.frame.DataFrame'>\n",
            "Int64Index: 257004 entries, 1 to 309328\n",
            "Data columns (total 10 columns):\n",
            " #   Column             Non-Null Count   Dtype \n",
            "---  ------             --------------   ----- \n",
            " 0   price              257004 non-null  int64 \n",
            " 1   vehicle_type       257004 non-null  object\n",
            " 2   registration_year  257004 non-null  int64 \n",
            " 3   gearbox            257004 non-null  object\n",
            " 4   power              257004 non-null  int64 \n",
            " 5   model              257004 non-null  object\n",
            " 6   kilometer          257004 non-null  int64 \n",
            " 7   fuel_type          257004 non-null  object\n",
            " 8   brand              257004 non-null  object\n",
            " 9   not_repaired       257004 non-null  object\n",
            "dtypes: int64(4), object(6)\n",
            "memory usage: 21.6+ MB\n"
          ],
          "name": "stdout"
        }
      ]
    },
    {
      "cell_type": "code",
      "metadata": {
        "colab": {
          "base_uri": "https://localhost:8080/"
        },
        "id": "D08Bsb-LxXtx",
        "outputId": "1e34e0ba-74ca-4dc3-ba33-def7323c954f"
      },
      "source": [
        "frac = round(auto.shape[0] / df_mod.shape[0], 2)\n",
        "print(f'Доля значений сета данных после удаления выбросов:{frac}')"
      ],
      "execution_count": 17,
      "outputs": [
        {
          "output_type": "stream",
          "text": [
            "Доля значений сета данных после удаления выбросов:0.83\n"
          ],
          "name": "stdout"
        }
      ]
    },
    {
      "cell_type": "code",
      "metadata": {
        "colab": {
          "base_uri": "https://localhost:8080/",
          "height": 879
        },
        "id": "AEUKEPkYxXtx",
        "outputId": "0c8cb4c9-62a5-40a2-c261-a0ef9d998d7f"
      },
      "source": [
        "auto.hist(bins=50, figsize=(20,15), edgecolor='black', linewidth=2)\n",
        "plt.show()"
      ],
      "execution_count": 18,
      "outputs": [
        {
          "output_type": "display_data",
          "data": {
            "image/png": "[encoded data removed]",
            "text/plain": [
              "<Figure size 1440x1080 with 4 Axes>"
            ]
          },
          "metadata": {
            "tags": [],
            "needs_background": "light"
          }
        }
      ]
    },
    {
      "cell_type": "markdown",
      "metadata": {
        "id": "ZEI4-IncxXtx"
      },
      "source": [
        "<a href='footer'>К содержанию</a>\n",
        "<footer id='footer'></footer>    "
      ]
    },
    {
      "cell_type": "markdown",
      "metadata": {
        "id": "pCG2uNGfxXtx"
      },
      "source": [
        "### Вывод"
      ]
    },
    {
      "cell_type": "markdown",
      "metadata": {
        "id": "VJUMcOgQxXtx"
      },
      "source": [
        "Подготовили данные для обучения. \n",
        "\n",
        "На этапе исследования были выявлены аномалии, дубликаты, пропуски.\n",
        "\n",
        "- пропуски были заменены на `unknown`\n",
        "- дубликаты удалены\n",
        "- аномалии почищены\n",
        "\n",
        "Мы выявили признаки, которые не несут полезной нагрузки для целей обучения: \n",
        "\n",
        "- `date_crawled` — дата скачивания анкеты из базы  \n",
        "- `registration_month` — месяц регистрации автомобиля  \n",
        "- `date_created` — дата создания анкеты  \n",
        "- `number_of_pictures` — количество фотографий автомобиля  \n",
        "- `postalcode` — почтовый индекс владельца анкеты (пользователя) \n",
        "- `last_seen` — дата последней активности пользователя  \n",
        "\n",
        "\n",
        "Итоговый сет для работы - `auto`\n",
        "\n",
        "\n",
        "обучение будет проивзодить с помощью библиотек: `Catboost`, `LightGBM` и воспользуемся ансамблем моделей из библиотеки `Sklearn`: `ElasticNet`, `SVR` и `LinearRegression`"
      ]
    },
    {
      "cell_type": "markdown",
      "metadata": {
        "id": "yHoQvJvHxXty"
      },
      "source": [
        "<a href='footer'>К содержанию</a>\n",
        "<footer id='footer'></footer>    "
      ]
    },
    {
      "cell_type": "markdown",
      "metadata": {
        "id": "Pum2SjZoxXty"
      },
      "source": [
        "## Обучение моделей"
      ]
    },
    {
      "cell_type": "markdown",
      "metadata": {
        "id": "-z2u8PerxXty"
      },
      "source": [
        "Сет разобьем на две составляющих - обучающий набор данных и тестовый набор, кросс-валидацию применять не будет для ускорения обучения. Посмотрим на результаты. Ohe применять не будем для обучения моделей библиотек Catboost, LightGBM, которые умеют работать с категориальными признаками, также попробуем сделать Ohe и стандартизацию при обучении моделей ансамбля, состоящего из SVR и LinearRegression, и отдельно попробуем ElasticNet  \n",
        "\n",
        "\n",
        "Для оценки качества моделей будем применять метрику RMSE. Создадим списки для наполнения нашими результатми. После окончания тестов - создадим таблицу и проанализируем"
      ]
    },
    {
      "cell_type": "code",
      "metadata": {
        "id": "LYPiQDIWxXty"
      },
      "source": [
        "rmse = []\n",
        "training_time = []\n",
        "prediction_time = []\n",
        "model_name = []"
      ],
      "execution_count": 19,
      "outputs": []
    },
    {
      "cell_type": "markdown",
      "metadata": {
        "id": "K8uo1yXuxXty"
      },
      "source": [
        "### Подготовка выборок"
      ]
    },
    {
      "cell_type": "markdown",
      "metadata": {
        "id": "L0APZwkCxXty"
      },
      "source": [
        "Для удобства выведем нашу таблицу"
      ]
    },
    {
      "cell_type": "code",
      "metadata": {
        "colab": {
          "base_uri": "https://localhost:8080/",
          "height": 204
        },
        "id": "H8xRNd1FxXty",
        "outputId": "5b232f69-f82c-4b8d-fafd-d57f87ef8422"
      },
      "source": [
        "auto.head()"
      ],
      "execution_count": 20,
      "outputs": [
        {
          "output_type": "execute_result",
          "data": {
            "text/html": [
              "<div>\n",
              "<style scoped>\n",
              "    .dataframe tbody tr th:only-of-type {\n",
              "        vertical-align: middle;\n",
              "    }\n",
              "\n",
              "    .dataframe tbody tr th {\n",
              "        vertical-align: top;\n",
              "    }\n",
              "\n",
              "    .dataframe thead th {\n",
              "        text-align: right;\n",
              "    }\n",
              "</style>\n",
              "<table border=\"1\" class=\"dataframe\">\n",
              "  <thead>\n",
              "    <tr style=\"text-align: right;\">\n",
              "      <th></th>\n",
              "      <th>price</th>\n",
              "      <th>vehicle_type</th>\n",
              "      <th>registration_year</th>\n",
              "      <th>gearbox</th>\n",
              "      <th>power</th>\n",
              "      <th>model</th>\n",
              "      <th>kilometer</th>\n",
              "      <th>fuel_type</th>\n",
              "      <th>brand</th>\n",
              "      <th>not_repaired</th>\n",
              "    </tr>\n",
              "  </thead>\n",
              "  <tbody>\n",
              "    <tr>\n",
              "      <th>1</th>\n",
              "      <td>18300</td>\n",
              "      <td>coupe</td>\n",
              "      <td>2011</td>\n",
              "      <td>manual</td>\n",
              "      <td>190</td>\n",
              "      <td>unknown</td>\n",
              "      <td>125000</td>\n",
              "      <td>gasoline</td>\n",
              "      <td>audi</td>\n",
              "      <td>yes</td>\n",
              "    </tr>\n",
              "    <tr>\n",
              "      <th>2</th>\n",
              "      <td>9800</td>\n",
              "      <td>suv</td>\n",
              "      <td>2004</td>\n",
              "      <td>auto</td>\n",
              "      <td>163</td>\n",
              "      <td>grand</td>\n",
              "      <td>125000</td>\n",
              "      <td>gasoline</td>\n",
              "      <td>jeep</td>\n",
              "      <td>unknown</td>\n",
              "    </tr>\n",
              "    <tr>\n",
              "      <th>3</th>\n",
              "      <td>1500</td>\n",
              "      <td>small</td>\n",
              "      <td>2001</td>\n",
              "      <td>manual</td>\n",
              "      <td>75</td>\n",
              "      <td>golf</td>\n",
              "      <td>150000</td>\n",
              "      <td>petrol</td>\n",
              "      <td>volkswagen</td>\n",
              "      <td>no</td>\n",
              "    </tr>\n",
              "    <tr>\n",
              "      <th>4</th>\n",
              "      <td>3600</td>\n",
              "      <td>small</td>\n",
              "      <td>2008</td>\n",
              "      <td>manual</td>\n",
              "      <td>69</td>\n",
              "      <td>fabia</td>\n",
              "      <td>90000</td>\n",
              "      <td>gasoline</td>\n",
              "      <td>skoda</td>\n",
              "      <td>no</td>\n",
              "    </tr>\n",
              "    <tr>\n",
              "      <th>5</th>\n",
              "      <td>650</td>\n",
              "      <td>sedan</td>\n",
              "      <td>1995</td>\n",
              "      <td>manual</td>\n",
              "      <td>102</td>\n",
              "      <td>3er</td>\n",
              "      <td>150000</td>\n",
              "      <td>petrol</td>\n",
              "      <td>bmw</td>\n",
              "      <td>yes</td>\n",
              "    </tr>\n",
              "  </tbody>\n",
              "</table>\n",
              "</div>"
            ],
            "text/plain": [
              "   price vehicle_type  registration_year  ... fuel_type       brand not_repaired\n",
              "1  18300        coupe               2011  ...  gasoline        audi          yes\n",
              "2   9800          suv               2004  ...  gasoline        jeep      unknown\n",
              "3   1500        small               2001  ...    petrol  volkswagen           no\n",
              "4   3600        small               2008  ...  gasoline       skoda           no\n",
              "5    650        sedan               1995  ...    petrol         bmw          yes\n",
              "\n",
              "[5 rows x 10 columns]"
            ]
          },
          "metadata": {
            "tags": []
          },
          "execution_count": 20
        }
      ]
    },
    {
      "cell_type": "code",
      "metadata": {
        "id": "Pv7wERSkxXtz"
      },
      "source": [
        "def split_data(data, target_column):\n",
        "    return data.drop(columns=[target_column], axis=1), data[target_column]\n",
        "\n",
        "\n",
        "def print_info(data, x, x_val):\n",
        "    return print(' Количество образцов обучающей выборки:', len(x),'\\n',\n",
        "                 'Количество образцов валидационной выборки:', len(x_val),'\\n',\n",
        "                 'Сумма выборок:', len(x) + len(x_val),'\\n',\n",
        "                 'Количество образцов подготовленной выборки (контрольная сумма):', len(data))"
      ],
      "execution_count": 21,
      "outputs": []
    },
    {
      "cell_type": "code",
      "metadata": {
        "colab": {
          "base_uri": "https://localhost:8080/"
        },
        "id": "Zz3GH1yYxXtz",
        "outputId": "2320e28d-a79a-4a01-a76c-ffab574533ac"
      },
      "source": [
        "features, target = split_data(auto, 'price')\n",
        "features.shape, target.shape"
      ],
      "execution_count": 22,
      "outputs": [
        {
          "output_type": "execute_result",
          "data": {
            "text/plain": [
              "((257004, 9), (257004,))"
            ]
          },
          "metadata": {
            "tags": []
          },
          "execution_count": 22
        }
      ]
    },
    {
      "cell_type": "markdown",
      "metadata": {
        "id": "Ia_x8yrWxXtz"
      },
      "source": [
        "Получили целевой признак и обучающие признаки. Можем разделить сет на обучабщий и тестовый:"
      ]
    },
    {
      "cell_type": "code",
      "metadata": {
        "colab": {
          "base_uri": "https://localhost:8080/"
        },
        "id": "3OZgPGSBxXtz",
        "outputId": "4d46e1f3-26fb-4f0a-e88f-867ec658d166"
      },
      "source": [
        "X_train , X_test , y_train , y_test = train_test_split (\n",
        "    features , target , test_size = .25 ,\n",
        "    random_state = 42\n",
        ")\n",
        "\n",
        "print_info ( features , X_train , X_test )"
      ],
      "execution_count": 23,
      "outputs": [
        {
          "output_type": "stream",
          "text": [
            " Количество образцов обучающей выборки: 192753 \n",
            " Количество образцов валидационной выборки: 64251 \n",
            " Сумма выборок: 257004 \n",
            " Количество образцов подготовленной выборки (контрольная сумма): 257004\n"
          ],
          "name": "stdout"
        }
      ]
    },
    {
      "cell_type": "markdown",
      "metadata": {
        "id": "3fptlkFwxXtz"
      },
      "source": [
        "<a href='footer'>К содержанию</a>\n",
        "<footer id='footer'></footer>    "
      ]
    },
    {
      "cell_type": "markdown",
      "metadata": {
        "id": "OKsNwxgbxXtz"
      },
      "source": [
        "### Catboost"
      ]
    },
    {
      "cell_type": "markdown",
      "metadata": {
        "id": "jP2o-Is-xXtz"
      },
      "source": [
        "Catboost умеет работать с категориальными переменными - в кодировании нет необходимости. Составим список наших категорий"
      ]
    },
    {
      "cell_type": "code",
      "metadata": {
        "colab": {
          "base_uri": "https://localhost:8080/"
        },
        "id": "aMJg_8tYxXtz",
        "outputId": "e1033623-4e52-40a2-ee23-3fdfbb948b8d"
      },
      "source": [
        "cat_features = list(X_train.select_dtypes(include=['object']).columns)\n",
        "cat_features"
      ],
      "execution_count": 24,
      "outputs": [
        {
          "output_type": "execute_result",
          "data": {
            "text/plain": [
              "['vehicle_type', 'gearbox', 'model', 'fuel_type', 'brand', 'not_repaired']"
            ]
          },
          "metadata": {
            "tags": []
          },
          "execution_count": 24
        }
      ]
    },
    {
      "cell_type": "code",
      "metadata": {
        "colab": {
          "base_uri": "https://localhost:8080/"
        },
        "id": "ik6MktAMxXtz",
        "outputId": "65274357-76cc-477d-de79-90ecc4b75dae"
      },
      "source": [
        "%%time\n",
        "start_cat = time.time()\n",
        "\n",
        "cat_model = CatBoostRegressor(iterations=100, learning_rate=0.25, \n",
        "                              verbose=20, cat_features=cat_features, random_seed=42)\n",
        "cat_model.fit(X_train, y_train)\n",
        "end_cat = time.time()\n",
        "elapsed_cat = end_cat - start_cat"
      ],
      "execution_count": 25,
      "outputs": [
        {
          "output_type": "stream",
          "text": [
            "0:\tlearn: 3668.6719119\ttotal: 159ms\tremaining: 15.8s\n",
            "20:\tlearn: 1742.9805879\ttotal: 1.86s\tremaining: 7s\n",
            "40:\tlearn: 1646.2078744\ttotal: 3.49s\tremaining: 5.02s\n",
            "60:\tlearn: 1605.8204040\ttotal: 5.12s\tremaining: 3.27s\n",
            "80:\tlearn: 1581.3668434\ttotal: 6.75s\tremaining: 1.58s\n",
            "99:\tlearn: 1564.8477817\ttotal: 8.26s\tremaining: 0us\n",
            "CPU times: user 16 s, sys: 284 ms, total: 16.3 s\n",
            "Wall time: 8.77 s\n"
          ],
          "name": "stdout"
        }
      ]
    },
    {
      "cell_type": "code",
      "metadata": {
        "colab": {
          "base_uri": "https://localhost:8080/"
        },
        "id": "u3vp7898xXt0",
        "outputId": "210e399b-34a9-4206-c121-f4ffc5107e71"
      },
      "source": [
        "%%time\n",
        "start_cp = time.time()\n",
        "\n",
        "cat_pred = cat_model.predict(X_test)\n",
        "cat_rmse = mean_squared_error(y_test, cat_pred) ** 0.5\n",
        "\n",
        "end_cp = time.time()\n",
        "elapsed_cp = end_cp - start_cp\n",
        "print(f'RMSE модели на базе библиотеки Catboost {cat_rmse}')"
      ],
      "execution_count": 26,
      "outputs": [
        {
          "output_type": "stream",
          "text": [
            "RMSE модели на базе библиотеки Catboost 1611.4227649771296\n",
            "CPU times: user 142 ms, sys: 7.07 ms, total: 149 ms\n",
            "Wall time: 118 ms\n"
          ],
          "name": "stdout"
        }
      ]
    },
    {
      "cell_type": "code",
      "metadata": {
        "id": "YEvrPohpxXt0"
      },
      "source": [
        "rmse.append(cat_rmse)\n",
        "training_time.append(elapsed_cat)\n",
        "prediction_time.append(elapsed_cp)\n",
        "model_name.append(cat_model.__class__.__name__)"
      ],
      "execution_count": 27,
      "outputs": []
    },
    {
      "cell_type": "markdown",
      "metadata": {
        "id": "sLXp4zFExXt0"
      },
      "source": [
        "Catboost показывает хороший результат по метрике, время обучения достаточно продолжительное. окончательные выводы сделаем после заверешения обучения всех моделей"
      ]
    },
    {
      "cell_type": "markdown",
      "metadata": {
        "id": "4eb-cZ0zxXt0"
      },
      "source": [
        "<a href='footer'>К содержанию</a>\n",
        "<footer id='footer'></footer>    "
      ]
    },
    {
      "cell_type": "markdown",
      "metadata": {
        "id": "6guG59xVxXt0"
      },
      "source": [
        "### LightGBM"
      ]
    },
    {
      "cell_type": "markdown",
      "metadata": {
        "id": "AgSRTSDJxXt0"
      },
      "source": [
        "LightGBM также умеет работать с категориальными переменными, нет необходимости применять кодирование, но нам необходимо привести категориальные признаки к типу category. Для соблюдения требований проверки скорости работы - преобразования также будем включать в замер"
      ]
    },
    {
      "cell_type": "code",
      "metadata": {
        "colab": {
          "base_uri": "https://localhost:8080/"
        },
        "id": "Yw9vuoVjxXt0",
        "outputId": "106b2860-2d24-43aa-8b92-d08bce7c2800"
      },
      "source": [
        "cat_features"
      ],
      "execution_count": 28,
      "outputs": [
        {
          "output_type": "execute_result",
          "data": {
            "text/plain": [
              "['vehicle_type', 'gearbox', 'model', 'fuel_type', 'brand', 'not_repaired']"
            ]
          },
          "metadata": {
            "tags": []
          },
          "execution_count": 28
        }
      ]
    },
    {
      "cell_type": "code",
      "metadata": {
        "colab": {
          "base_uri": "https://localhost:8080/"
        },
        "id": "UbAzOh2TxXt0",
        "outputId": "0a4f1f39-fd5a-4604-f193-8151abd8a060"
      },
      "source": [
        "gbm_features = list(X_train.columns)\n",
        "gbm_features"
      ],
      "execution_count": 29,
      "outputs": [
        {
          "output_type": "execute_result",
          "data": {
            "text/plain": [
              "['vehicle_type',\n",
              " 'registration_year',\n",
              " 'gearbox',\n",
              " 'power',\n",
              " 'model',\n",
              " 'kilometer',\n",
              " 'fuel_type',\n",
              " 'brand',\n",
              " 'not_repaired']"
            ]
          },
          "metadata": {
            "tags": []
          },
          "execution_count": 29
        }
      ]
    },
    {
      "cell_type": "code",
      "metadata": {
        "id": "4av3KdIxxXt0"
      },
      "source": [
        "X_train_gbm = X_train.copy()"
      ],
      "execution_count": 30,
      "outputs": []
    },
    {
      "cell_type": "code",
      "metadata": {
        "colab": {
          "base_uri": "https://localhost:8080/"
        },
        "id": "8pqXV2pXxXt0",
        "outputId": "6fee168f-65ad-452a-a02f-9e71aac1a574"
      },
      "source": [
        "%%time\n",
        "start_gbm = time.time()\n",
        "for cat in cat_features:\n",
        "    X_train_gbm[cat] = X_train_gbm[cat].astype('category')\n",
        "X_train_gbm.info()  \n",
        "\n",
        "\n",
        "# формирование сета данных для модели\n",
        "\n",
        "train_data = lgb.Dataset ( X_train_gbm , label = y_train , feature_name = gbm_features ,\n",
        "                           categorical_feature = cat_features\n",
        "                           )\n",
        "param = { 'learning_rate' : 0.25 , 'n_estimators' : 100 , 'objective' : 'root_mean_squared_error' }\n",
        "\n",
        "\n",
        "# обучение модели\n",
        "\n",
        "num_round = 1000\n",
        "lgb_model = lgb.train(param, train_data, num_round)\n",
        "end_gbm = time.time()\n",
        "elapsed_gbm = end_gbm - start_gbm"
      ],
      "execution_count": 31,
      "outputs": [
        {
          "output_type": "stream",
          "text": [
            "<class 'pandas.core.frame.DataFrame'>\n",
            "Int64Index: 192753 entries, 58690 to 146323\n",
            "Data columns (total 9 columns):\n",
            " #   Column             Non-Null Count   Dtype   \n",
            "---  ------             --------------   -----   \n",
            " 0   vehicle_type       192753 non-null  category\n",
            " 1   registration_year  192753 non-null  int64   \n",
            " 2   gearbox            192753 non-null  category\n",
            " 3   power              192753 non-null  int64   \n",
            " 4   model              192753 non-null  category\n",
            " 5   kilometer          192753 non-null  int64   \n",
            " 6   fuel_type          192753 non-null  category\n",
            " 7   brand              192753 non-null  category\n",
            " 8   not_repaired       192753 non-null  category\n",
            "dtypes: category(6), int64(3)\n",
            "memory usage: 7.2 MB\n",
            "CPU times: user 2.63 s, sys: 42.6 ms, total: 2.68 s\n",
            "Wall time: 1.54 s\n"
          ],
          "name": "stdout"
        }
      ]
    },
    {
      "cell_type": "code",
      "metadata": {
        "id": "j68iUZ7yxXt0"
      },
      "source": [
        "X_test_gbm = X_test.copy()"
      ],
      "execution_count": 32,
      "outputs": []
    },
    {
      "cell_type": "code",
      "metadata": {
        "colab": {
          "base_uri": "https://localhost:8080/"
        },
        "id": "yKxKfXlMxXt1",
        "outputId": "5dd01f58-5cf2-49dc-add4-1e14341a202b"
      },
      "source": [
        "%%time\n",
        "start_gbmp = time.time()\n",
        "\n",
        "for cat in cat_features:\n",
        "    X_test_gbm[cat] = X_test_gbm[cat].astype('category')\n",
        "X_test_gbm.info()\n",
        "\n",
        "\n",
        "ypred = lgb_model.predict(X_test_gbm)\n",
        "gbm_rmse = mean_squared_error(y_test, ypred) ** 0.5\n",
        "\n",
        "end_gbmp = time.time()\n",
        "elapsed_gbmp = end_gbmp - start_gbmp\n",
        "print(f'RMSE модели на базе библиотеки LGBM {gbm_rmse}')"
      ],
      "execution_count": 33,
      "outputs": [
        {
          "output_type": "stream",
          "text": [
            "<class 'pandas.core.frame.DataFrame'>\n",
            "Int64Index: 64251 entries, 251496 to 4730\n",
            "Data columns (total 9 columns):\n",
            " #   Column             Non-Null Count  Dtype   \n",
            "---  ------             --------------  -----   \n",
            " 0   vehicle_type       64251 non-null  category\n",
            " 1   registration_year  64251 non-null  int64   \n",
            " 2   gearbox            64251 non-null  category\n",
            " 3   power              64251 non-null  int64   \n",
            " 4   model              64251 non-null  category\n",
            " 5   kilometer          64251 non-null  int64   \n",
            " 6   fuel_type          64251 non-null  category\n",
            " 7   brand              64251 non-null  category\n",
            " 8   not_repaired       64251 non-null  category\n",
            "dtypes: category(6), int64(3)\n",
            "memory usage: 2.4 MB\n",
            "RMSE модели на базе библиотеки LGBM 1526.8832658251179\n",
            "CPU times: user 604 ms, sys: 7.06 ms, total: 611 ms\n",
            "Wall time: 354 ms\n"
          ],
          "name": "stdout"
        }
      ]
    },
    {
      "cell_type": "markdown",
      "metadata": {
        "id": "AEP_DTz5xXt1"
      },
      "source": [
        "LightGBM показывает отличные результаты по метрике и времени обучения. "
      ]
    },
    {
      "cell_type": "code",
      "metadata": {
        "id": "5RvzLxbVxXt1"
      },
      "source": [
        "rmse.append(gbm_rmse)\n",
        "training_time.append(elapsed_gbm)\n",
        "prediction_time.append(elapsed_gbmp)\n",
        "model_name.append('LightGBM')"
      ],
      "execution_count": 34,
      "outputs": []
    },
    {
      "cell_type": "markdown",
      "metadata": {
        "id": "heBmsLNVxXt1"
      },
      "source": [
        "<a href='footer'>К содержанию</a>\n",
        "<footer id='footer'></footer>    "
      ]
    },
    {
      "cell_type": "markdown",
      "metadata": {
        "id": "d20CpnZExXt1"
      },
      "source": [
        "<a id='SVR'></a>"
      ]
    },
    {
      "cell_type": "markdown",
      "metadata": {
        "id": "uisNO58rxXt1"
      },
      "source": [
        "### Ансамбль SVR и LinearRegression\n"
      ]
    },
    {
      "cell_type": "markdown",
      "metadata": {
        "id": "V45cEjzSxXt1"
      },
      "source": [
        "Попробуем также обучить ансамбль моделей на базе линейной регрессии и опорных векторов. Перед обучением данной модели необходимо провести OHE кодирование категориальных признаков, а также провести стандартизацию количественных"
      ]
    },
    {
      "cell_type": "code",
      "metadata": {
        "colab": {
          "base_uri": "https://localhost:8080/"
        },
        "id": "cUHZkVF3xXt1",
        "outputId": "af9dff34-65e3-4b5b-d9a3-0a3b16422f7a"
      },
      "source": [
        "cat_features"
      ],
      "execution_count": 35,
      "outputs": [
        {
          "output_type": "execute_result",
          "data": {
            "text/plain": [
              "['vehicle_type', 'gearbox', 'model', 'fuel_type', 'brand', 'not_repaired']"
            ]
          },
          "metadata": {
            "tags": []
          },
          "execution_count": 35
        }
      ]
    },
    {
      "cell_type": "code",
      "metadata": {
        "colab": {
          "base_uri": "https://localhost:8080/"
        },
        "id": "XpgWuP7zxXt1",
        "outputId": "fe72c3ba-c720-4410-bad2-b3198ea29826"
      },
      "source": [
        "num_features = list(set(X_train.columns) - set(cat_features))\n",
        "num_features"
      ],
      "execution_count": 36,
      "outputs": [
        {
          "output_type": "execute_result",
          "data": {
            "text/plain": [
              "['power', 'registration_year', 'kilometer']"
            ]
          },
          "metadata": {
            "tags": []
          },
          "execution_count": 36
        }
      ]
    },
    {
      "cell_type": "code",
      "metadata": {
        "id": "FHXzd9d_xXt1"
      },
      "source": [
        "numeric_transformer = StandardScaler()\n",
        "categorical_transformer = OrdinalEncoder ()\n",
        "preprocessor = ColumnTransformer (\n",
        "    transformers = [\n",
        "        ('num' , numeric_transformer , num_features) ,\n",
        "        ('cat' , categorical_transformer , cat_features) ]\n",
        "    )"
      ],
      "execution_count": 37,
      "outputs": []
    },
    {
      "cell_type": "code",
      "metadata": {
        "colab": {
          "base_uri": "https://localhost:8080/"
        },
        "id": "V0fbAP0fxXt2",
        "outputId": "968cc5ac-d37a-4cea-fd9f-76a9f7e6f391"
      },
      "source": [
        "%%time\n",
        "features_start = time.time()\n",
        "\n",
        "X_train_reg = preprocessor.fit_transform(X_train)\n",
        "X_test_reg  = preprocessor.transform(X_test)\n",
        "\n",
        "features_end = time.time()\n",
        "elap_feature = features_end - features_start"
      ],
      "execution_count": 38,
      "outputs": [
        {
          "output_type": "stream",
          "text": [
            "CPU times: user 495 ms, sys: 8.87 ms, total: 504 ms\n",
            "Wall time: 508 ms\n"
          ],
          "name": "stdout"
        }
      ]
    },
    {
      "cell_type": "code",
      "metadata": {
        "colab": {
          "base_uri": "https://localhost:8080/"
        },
        "id": "FejPOYBUxXt2",
        "outputId": "5fe89c4b-84b0-4e1d-f02e-3bc6d8bb9e99"
      },
      "source": [
        "X_train_reg.shape, X_test_reg.shape"
      ],
      "execution_count": 39,
      "outputs": [
        {
          "output_type": "execute_result",
          "data": {
            "text/plain": [
              "((192753, 9), (64251, 9))"
            ]
          },
          "metadata": {
            "tags": []
          },
          "execution_count": 39
        }
      ]
    },
    {
      "cell_type": "code",
      "metadata": {
        "colab": {
          "base_uri": "https://localhost:8080/",
          "height": 204
        },
        "id": "vazIT2muxXt2",
        "outputId": "83cc88fa-109b-43d0-abb0-057bb0927435"
      },
      "source": [
        "pd.DataFrame(X_train_reg[:5], columns=['registration_year', 'kilometer', 'power',\n",
        "                                      'vehicle_type', 'gearbox', 'model', 'fuel_type', 'brand', \n",
        "                                       'not_repaired'])"
      ],
      "execution_count": 40,
      "outputs": [
        {
          "output_type": "execute_result",
          "data": {
            "text/html": [
              "<div>\n",
              "<style scoped>\n",
              "    .dataframe tbody tr th:only-of-type {\n",
              "        vertical-align: middle;\n",
              "    }\n",
              "\n",
              "    .dataframe tbody tr th {\n",
              "        vertical-align: top;\n",
              "    }\n",
              "\n",
              "    .dataframe thead th {\n",
              "        text-align: right;\n",
              "    }\n",
              "</style>\n",
              "<table border=\"1\" class=\"dataframe\">\n",
              "  <thead>\n",
              "    <tr style=\"text-align: right;\">\n",
              "      <th></th>\n",
              "      <th>registration_year</th>\n",
              "      <th>kilometer</th>\n",
              "      <th>power</th>\n",
              "      <th>vehicle_type</th>\n",
              "      <th>gearbox</th>\n",
              "      <th>model</th>\n",
              "      <th>fuel_type</th>\n",
              "      <th>brand</th>\n",
              "      <th>not_repaired</th>\n",
              "    </tr>\n",
              "  </thead>\n",
              "  <tbody>\n",
              "    <tr>\n",
              "      <th>0</th>\n",
              "      <td>-0.276317</td>\n",
              "      <td>0.410297</td>\n",
              "      <td>-0.761321</td>\n",
              "      <td>4.0</td>\n",
              "      <td>0.0</td>\n",
              "      <td>116.0</td>\n",
              "      <td>2.0</td>\n",
              "      <td>38.0</td>\n",
              "      <td>0.0</td>\n",
              "    </tr>\n",
              "    <tr>\n",
              "      <th>1</th>\n",
              "      <td>0.652607</td>\n",
              "      <td>-0.063987</td>\n",
              "      <td>0.595734</td>\n",
              "      <td>4.0</td>\n",
              "      <td>0.0</td>\n",
              "      <td>95.0</td>\n",
              "      <td>2.0</td>\n",
              "      <td>20.0</td>\n",
              "      <td>0.0</td>\n",
              "    </tr>\n",
              "    <tr>\n",
              "      <th>2</th>\n",
              "      <td>-0.276317</td>\n",
              "      <td>0.094107</td>\n",
              "      <td>0.595734</td>\n",
              "      <td>4.0</td>\n",
              "      <td>1.0</td>\n",
              "      <td>42.0</td>\n",
              "      <td>6.0</td>\n",
              "      <td>24.0</td>\n",
              "      <td>0.0</td>\n",
              "    </tr>\n",
              "    <tr>\n",
              "      <th>3</th>\n",
              "      <td>-0.627243</td>\n",
              "      <td>0.726487</td>\n",
              "      <td>0.595734</td>\n",
              "      <td>0.0</td>\n",
              "      <td>1.0</td>\n",
              "      <td>211.0</td>\n",
              "      <td>2.0</td>\n",
              "      <td>20.0</td>\n",
              "      <td>0.0</td>\n",
              "    </tr>\n",
              "    <tr>\n",
              "      <th>4</th>\n",
              "      <td>0.260395</td>\n",
              "      <td>-0.696367</td>\n",
              "      <td>0.595734</td>\n",
              "      <td>5.0</td>\n",
              "      <td>0.0</td>\n",
              "      <td>103.0</td>\n",
              "      <td>6.0</td>\n",
              "      <td>10.0</td>\n",
              "      <td>0.0</td>\n",
              "    </tr>\n",
              "  </tbody>\n",
              "</table>\n",
              "</div>"
            ],
            "text/plain": [
              "   registration_year  kilometer     power  ...  fuel_type  brand  not_repaired\n",
              "0          -0.276317   0.410297 -0.761321  ...        2.0   38.0           0.0\n",
              "1           0.652607  -0.063987  0.595734  ...        2.0   20.0           0.0\n",
              "2          -0.276317   0.094107  0.595734  ...        6.0   24.0           0.0\n",
              "3          -0.627243   0.726487  0.595734  ...        2.0   20.0           0.0\n",
              "4           0.260395  -0.696367  0.595734  ...        6.0   10.0           0.0\n",
              "\n",
              "[5 rows x 9 columns]"
            ]
          },
          "metadata": {
            "tags": []
          },
          "execution_count": 40
        }
      ]
    },
    {
      "cell_type": "code",
      "metadata": {
        "colab": {
          "base_uri": "https://localhost:8080/"
        },
        "id": "4KrRnXrixXt2",
        "outputId": "16d736a8-a226-4e41-9655-0aed19137aea"
      },
      "source": [
        "%%time\n",
        "vot_start = time.time()\n",
        "\n",
        "lin_reg = LinearRegression()\n",
        "\n",
        "svr_reg = LinearSVR(epsilon=1.5, random_state=42)\n",
        "voting_reg = VotingRegressor(\n",
        "    estimators=[('lr', lin_reg), ('svr', svr_reg)])\n",
        "\n",
        "voting_reg.fit(X_train_reg, y_train)\n",
        "\n",
        "vot_end = time.time()\n",
        "vot_elapsed = vot_end - vot_start + elap_feature"
      ],
      "execution_count": 41,
      "outputs": [
        {
          "output_type": "stream",
          "text": [
            "CPU times: user 13.5 s, sys: 139 ms, total: 13.6 s\n",
            "Wall time: 13.5 s\n"
          ],
          "name": "stdout"
        }
      ]
    },
    {
      "cell_type": "code",
      "metadata": {
        "colab": {
          "base_uri": "https://localhost:8080/"
        },
        "id": "Gj7sasNXxXt2",
        "outputId": "cf4ca508-a3b4-4b74-b451-7ec402955f70"
      },
      "source": [
        "%%time\n",
        "start_votp = time.time()\n",
        "\n",
        "vot_pred = voting_reg.predict(X_test_reg)\n",
        "vot_rmse = mean_squared_error(y_test, vot_pred) ** 0.5\n",
        "\n",
        "end_votp = time.time()\n",
        "vot_el = end_votp - start_votp\n",
        "\n",
        "print(f'RMSE модели на базе библиотеки Sklearn - ансамбль {vot_rmse}')"
      ],
      "execution_count": 42,
      "outputs": [
        {
          "output_type": "stream",
          "text": [
            "RMSE модели на базе библиотеки Sklearn - ансамбль 2770.0480103161635\n",
            "CPU times: user 10.5 ms, sys: 10.9 ms, total: 21.5 ms\n",
            "Wall time: 15.8 ms\n"
          ],
          "name": "stdout"
        }
      ]
    },
    {
      "cell_type": "markdown",
      "metadata": {
        "id": "FqaaVy3wxXt2"
      },
      "source": [
        "Данная модель показывает результаты по метрике хуже, чем бустинговын модели"
      ]
    },
    {
      "cell_type": "code",
      "metadata": {
        "id": "jFdZb_fqxXt2"
      },
      "source": [
        "rmse.append(vot_rmse)\n",
        "training_time.append(vot_elapsed)\n",
        "prediction_time.append(vot_el)\n",
        "model_name.append(voting_reg.__class__.__name__)"
      ],
      "execution_count": 43,
      "outputs": []
    },
    {
      "cell_type": "markdown",
      "metadata": {
        "id": "FACHcm8pxXt3"
      },
      "source": [
        "<a href='footer'>К содержанию</a>\n",
        "<footer id='footer'></footer>    "
      ]
    },
    {
      "cell_type": "markdown",
      "metadata": {
        "id": "zwMeCipdxXt3"
      },
      "source": [
        "### ElasticNet"
      ]
    },
    {
      "cell_type": "markdown",
      "metadata": {
        "id": "KTTRVzlexXt3"
      },
      "source": [
        "Посмотрим как себя поведет Эластичная сеть. Признаки уже подгтовлены в пункте [2.4](#SVR). Учтем подготовку во времени работы этой модели"
      ]
    },
    {
      "cell_type": "code",
      "metadata": {
        "colab": {
          "base_uri": "https://localhost:8080/"
        },
        "id": "8XekK_8sxXt3",
        "outputId": "fdbdeaf9-8484-4d86-8bce-b2f8a3968092"
      },
      "source": [
        "%%time\n",
        "eln_start = time.time()\n",
        "\n",
        "eln_reg = ElasticNet(alpha=0.1, l1_ratio=0.5, random_state=42)\n",
        "eln_reg.fit(X_train_reg, y_train)\n",
        "\n",
        "eln_end = time.time()\n",
        "eln_elapsed = eln_end - eln_start + elap_feature"
      ],
      "execution_count": 44,
      "outputs": [
        {
          "output_type": "stream",
          "text": [
            "CPU times: user 182 ms, sys: 63 ms, total: 245 ms\n",
            "Wall time: 139 ms\n"
          ],
          "name": "stdout"
        }
      ]
    },
    {
      "cell_type": "code",
      "metadata": {
        "colab": {
          "base_uri": "https://localhost:8080/"
        },
        "id": "lo-Mf5P2xXt3",
        "outputId": "d3bd1ddc-86ae-4e27-d6d5-18a9ae562e3b"
      },
      "source": [
        "%%time\n",
        "\n",
        "start_elnp = time.time()\n",
        "\n",
        "eln_pred = eln_reg.predict(X_test_reg)\n",
        "eln_rmse = mean_squared_error(y_test, eln_pred) ** 0.5\n",
        "\n",
        "end_elnp = time.time()\n",
        "eln_elap = end_elnp - start_elnp\n",
        "\n",
        "print(f'RMSE модели на базе ElasticNet {eln_rmse}')"
      ],
      "execution_count": 45,
      "outputs": [
        {
          "output_type": "stream",
          "text": [
            "RMSE модели на базе ElasticNet 2740.0933785940288\n",
            "CPU times: user 7.83 ms, sys: 28 µs, total: 7.86 ms\n",
            "Wall time: 5.29 ms\n"
          ],
          "name": "stdout"
        }
      ]
    },
    {
      "cell_type": "markdown",
      "metadata": {
        "id": "QR0TI5yjxXt3"
      },
      "source": [
        "Эластичная сеть показывает результат хуже, чем ансамбль моделей"
      ]
    },
    {
      "cell_type": "code",
      "metadata": {
        "id": "dLi87eMCxXt3"
      },
      "source": [
        "rmse.append(eln_rmse)\n",
        "training_time.append(eln_elapsed)\n",
        "prediction_time.append(eln_elap)\n",
        "model_name.append(eln_reg.__class__.__name__)"
      ],
      "execution_count": 46,
      "outputs": []
    },
    {
      "cell_type": "markdown",
      "metadata": {
        "id": "Cm3a3BTZxXt3"
      },
      "source": [
        "<a href='footer'>К содержанию</a>\n",
        "<footer id='footer'></footer>    "
      ]
    },
    {
      "cell_type": "markdown",
      "metadata": {
        "id": "zKeRahphxXt3"
      },
      "source": [
        "## Анализ моделей"
      ]
    },
    {
      "cell_type": "markdown",
      "metadata": {
        "id": "1whMgbMoxXt3"
      },
      "source": [
        "Анализ моделей проведем по сводной таблице"
      ]
    },
    {
      "cell_type": "code",
      "metadata": {
        "colab": {
          "base_uri": "https://localhost:8080/",
          "height": 124
        },
        "id": "-JHRQMNaxXt4",
        "outputId": "f63d5ef8-41d1-4b95-a787-2a1fd9871778"
      },
      "source": [
        "summary = pd.DataFrame(\n",
        "    { 'model' : model_name , 'training_time, sec' : training_time ,\n",
        "      'prediction_time, sec' : prediction_time , 'rmse' : rmse }\n",
        "    ).sort_values( by = 'rmse' ).reset_index( drop = True )\n",
        "summary.style.highlight_min( 'rmse' , color = 'green' , axis = 0 ).highlight_min(\n",
        "    'prediction_time, sec' ,\n",
        "    color = 'lightblue' , axis = 0\n",
        "    )\n"
      ],
      "execution_count": 47,
      "outputs": [
        {
          "output_type": "execute_result",
          "data": {
            "text/html": [
              "<style  type=\"text/css\" >\n",
              "#T_a824b5a2_da5e_11eb_b32a_0242ac1c0002row0_col3{\n",
              "            background-color:  green;\n",
              "        }#T_a824b5a2_da5e_11eb_b32a_0242ac1c0002row2_col2{\n",
              "            background-color:  lightblue;\n",
              "        }</style><table id=\"T_a824b5a2_da5e_11eb_b32a_0242ac1c0002\" ><thead>    <tr>        <th class=\"blank level0\" ></th>        <th class=\"col_heading level0 col0\" >model</th>        <th class=\"col_heading level0 col1\" >training_time, sec</th>        <th class=\"col_heading level0 col2\" >prediction_time, sec</th>        <th class=\"col_heading level0 col3\" >rmse</th>    </tr></thead><tbody>\n",
              "                <tr>\n",
              "                        <th id=\"T_a824b5a2_da5e_11eb_b32a_0242ac1c0002level0_row0\" class=\"row_heading level0 row0\" >0</th>\n",
              "                        <td id=\"T_a824b5a2_da5e_11eb_b32a_0242ac1c0002row0_col0\" class=\"data row0 col0\" >LightGBM</td>\n",
              "                        <td id=\"T_a824b5a2_da5e_11eb_b32a_0242ac1c0002row0_col1\" class=\"data row0 col1\" >1.542483</td>\n",
              "                        <td id=\"T_a824b5a2_da5e_11eb_b32a_0242ac1c0002row0_col2\" class=\"data row0 col2\" >0.352495</td>\n",
              "                        <td id=\"T_a824b5a2_da5e_11eb_b32a_0242ac1c0002row0_col3\" class=\"data row0 col3\" >1526.883266</td>\n",
              "            </tr>\n",
              "            <tr>\n",
              "                        <th id=\"T_a824b5a2_da5e_11eb_b32a_0242ac1c0002level0_row1\" class=\"row_heading level0 row1\" >1</th>\n",
              "                        <td id=\"T_a824b5a2_da5e_11eb_b32a_0242ac1c0002row1_col0\" class=\"data row1 col0\" >CatBoostRegressor</td>\n",
              "                        <td id=\"T_a824b5a2_da5e_11eb_b32a_0242ac1c0002row1_col1\" class=\"data row1 col1\" >8.774599</td>\n",
              "                        <td id=\"T_a824b5a2_da5e_11eb_b32a_0242ac1c0002row1_col2\" class=\"data row1 col2\" >0.117631</td>\n",
              "                        <td id=\"T_a824b5a2_da5e_11eb_b32a_0242ac1c0002row1_col3\" class=\"data row1 col3\" >1611.422765</td>\n",
              "            </tr>\n",
              "            <tr>\n",
              "                        <th id=\"T_a824b5a2_da5e_11eb_b32a_0242ac1c0002level0_row2\" class=\"row_heading level0 row2\" >2</th>\n",
              "                        <td id=\"T_a824b5a2_da5e_11eb_b32a_0242ac1c0002row2_col0\" class=\"data row2 col0\" >ElasticNet</td>\n",
              "                        <td id=\"T_a824b5a2_da5e_11eb_b32a_0242ac1c0002row2_col1\" class=\"data row2 col1\" >0.646488</td>\n",
              "                        <td id=\"T_a824b5a2_da5e_11eb_b32a_0242ac1c0002row2_col2\" class=\"data row2 col2\" >0.004315</td>\n",
              "                        <td id=\"T_a824b5a2_da5e_11eb_b32a_0242ac1c0002row2_col3\" class=\"data row2 col3\" >2740.093379</td>\n",
              "            </tr>\n",
              "            <tr>\n",
              "                        <th id=\"T_a824b5a2_da5e_11eb_b32a_0242ac1c0002level0_row3\" class=\"row_heading level0 row3\" >3</th>\n",
              "                        <td id=\"T_a824b5a2_da5e_11eb_b32a_0242ac1c0002row3_col0\" class=\"data row3 col0\" >VotingRegressor</td>\n",
              "                        <td id=\"T_a824b5a2_da5e_11eb_b32a_0242ac1c0002row3_col1\" class=\"data row3 col1\" >13.993060</td>\n",
              "                        <td id=\"T_a824b5a2_da5e_11eb_b32a_0242ac1c0002row3_col2\" class=\"data row3 col2\" >0.014681</td>\n",
              "                        <td id=\"T_a824b5a2_da5e_11eb_b32a_0242ac1c0002row3_col3\" class=\"data row3 col3\" >2770.048010</td>\n",
              "            </tr>\n",
              "    </tbody></table>"
            ],
            "text/plain": [
              "<pandas.io.formats.style.Styler at 0x7f2c2558aed0>"
            ]
          },
          "metadata": {
            "tags": []
          },
          "execution_count": 47
        }
      ]
    },
    {
      "cell_type": "markdown",
      "metadata": {
        "id": "tbiJnMAexXt4"
      },
      "source": [
        "Посмотрим на примере двух лучших моделей - LightGBM и Catboost важность признаков для обучения модели:"
      ]
    },
    {
      "cell_type": "code",
      "metadata": {
        "colab": {
          "base_uri": "https://localhost:8080/",
          "height": 350
        },
        "id": "QlFwoYvqxXt4",
        "outputId": "0175c2ce-57db-41df-ccd8-58da7bf2ea4e"
      },
      "source": [
        "lgb.plot_importance(lgb_model, figsize = (12, 5))\n",
        "plt.show()"
      ],
      "execution_count": 48,
      "outputs": [
        {
          "output_type": "display_data",
          "data": {
            "image/png": "[encoded data removed]",
            "text/plain": [
              "<Figure size 864x360 with 1 Axes>"
            ]
          },
          "metadata": {
            "tags": [],
            "needs_background": "light"
          }
        }
      ]
    },
    {
      "cell_type": "markdown",
      "metadata": {
        "id": "POfQIwMzxXt4"
      },
      "source": [
        "У LightGBM самый важный признак - год регистрации автомобиля, можно попробовать провести ранжирование по годам и попробовать обучить еще раз, выделив возрастные группы, также важный признак - мощность двигателя автомобиля, что достаточно логично, третий по важности признак - модель автомобиля\n",
        "\n",
        "Для визуализации важности признаков Catboost напишем функцию - встроенные методы позволят получить лишь вектор значений"
      ]
    },
    {
      "cell_type": "code",
      "metadata": {
        "id": "t8vTn0rmxXt4"
      },
      "source": [
        "def plot_feature_importance(importance,names,model_type):\n",
        "    \n",
        "  \n",
        "    feature_importance = np.array(importance)\n",
        "    feature_names = np.array(names)\n",
        "    \n",
        "    data={'feature_names':feature_names,'feature_importance':feature_importance}\n",
        "    fi_df = pd.DataFrame(data)\n",
        "     \n",
        "    fi_df.sort_values(by=['feature_importance'], ascending=False,inplace=True)\n",
        "    \n",
        "\n",
        "    plt.figure(figsize=(10,5))\n",
        "    \n",
        "    sns.barplot(x = fi_df['feature_importance'], y = fi_df['feature_names'], palette='Set2')\n",
        "    \n",
        "    plt.title(model_type +' ' + 'feature_importance')\n",
        "    plt.xlabel('feature_importance')\n",
        "    plt.ylabel('feature names')"
      ],
      "execution_count": 49,
      "outputs": []
    },
    {
      "cell_type": "code",
      "metadata": {
        "colab": {
          "base_uri": "https://localhost:8080/",
          "height": 351
        },
        "id": "5NgkacwTxXt4",
        "outputId": "09f19d54-1f53-493b-e4b1-b1602b9a7e9a"
      },
      "source": [
        "plot_feature_importance(cat_model.get_feature_importance(), \n",
        "                        X_train.columns, cat_model.__class__.__name__)"
      ],
      "execution_count": 50,
      "outputs": [
        {
          "output_type": "display_data",
          "data": {
            "image/png": "[encoded data removed]",
            "text/plain": [
              "<Figure size 720x360 with 1 Axes>"
            ]
          },
          "metadata": {
            "tags": [],
            "needs_background": "light"
          }
        }
      ]
    },
    {
      "cell_type": "markdown",
      "metadata": {
        "id": "_5AgVesyxXt4"
      },
      "source": [
        "У Catboost аналогично LightGBM на 1 и 2 месте по важности - год регистрации и мощность двигателя, на третьем месте тип автомобиля, вместо модели.   \n",
        "\n",
        "\n",
        "Можно попробовать проранжировать мощность двигателя автомобиля и год регистрации и обучить модель еще раз. Также удалив тип unknown"
      ]
    },
    {
      "cell_type": "markdown",
      "metadata": {
        "id": "612XY5apxXt4"
      },
      "source": [
        "<a href='footer'>К содержанию</a>\n",
        "<footer id='footer'></footer>    "
      ]
    },
    {
      "cell_type": "markdown",
      "metadata": {
        "id": "oTwuLG0QxXt5"
      },
      "source": [
        "### Light GBM с новыми признаками"
      ]
    },
    {
      "cell_type": "markdown",
      "metadata": {
        "id": "BcWI-UA1xXt5"
      },
      "source": [
        "Исключим из обучабщего и тестового набора данных строки со значением unknown (по сути, мы уберем Nan из данных не заменой, а удалением строк) [1.2 замена NaN](#nan)"
      ]
    },
    {
      "cell_type": "code",
      "metadata": {
        "colab": {
          "base_uri": "https://localhost:8080/"
        },
        "id": "skSuLHt2xXt5",
        "outputId": "45dfcec4-1268-4964-93a0-35e44ff2a79a"
      },
      "source": [
        "nan_cols"
      ],
      "execution_count": 51,
      "outputs": [
        {
          "output_type": "execute_result",
          "data": {
            "text/plain": [
              "['not_repaired', 'vehicle_type', 'fuel_type', 'gearbox', 'model']"
            ]
          },
          "metadata": {
            "tags": []
          },
          "execution_count": 51
        }
      ]
    },
    {
      "cell_type": "markdown",
      "metadata": {
        "id": "i-8VLX7AxXt5"
      },
      "source": [
        "для обучающего набора:"
      ]
    },
    {
      "cell_type": "code",
      "metadata": {
        "colab": {
          "base_uri": "https://localhost:8080/",
          "height": 204
        },
        "id": "_-iPmI2VxXt5",
        "outputId": "fb4ece29-ced4-4e2d-f7b1-139b5de3e263"
      },
      "source": [
        "X_train_new = X_train[(X_train['not_repaired'] != 'unknown') & (X_train['vehicle_type'] != 'unknown')  & \\\n",
        "        (X_train['fuel_type'] != 'unknown') & (X_train['gearbox'] != 'unknown') & \\\n",
        "        (X_train['model'] != 'unknown')]\n",
        "X_train_new.head()"
      ],
      "execution_count": 52,
      "outputs": [
        {
          "output_type": "execute_result",
          "data": {
            "text/html": [
              "<div>\n",
              "<style scoped>\n",
              "    .dataframe tbody tr th:only-of-type {\n",
              "        vertical-align: middle;\n",
              "    }\n",
              "\n",
              "    .dataframe tbody tr th {\n",
              "        vertical-align: top;\n",
              "    }\n",
              "\n",
              "    .dataframe thead th {\n",
              "        text-align: right;\n",
              "    }\n",
              "</style>\n",
              "<table border=\"1\" class=\"dataframe\">\n",
              "  <thead>\n",
              "    <tr style=\"text-align: right;\">\n",
              "      <th></th>\n",
              "      <th>vehicle_type</th>\n",
              "      <th>registration_year</th>\n",
              "      <th>gearbox</th>\n",
              "      <th>power</th>\n",
              "      <th>model</th>\n",
              "      <th>kilometer</th>\n",
              "      <th>fuel_type</th>\n",
              "      <th>brand</th>\n",
              "      <th>not_repaired</th>\n",
              "    </tr>\n",
              "  </thead>\n",
              "  <tbody>\n",
              "    <tr>\n",
              "      <th>58690</th>\n",
              "      <td>sedan</td>\n",
              "      <td>2006</td>\n",
              "      <td>auto</td>\n",
              "      <td>105</td>\n",
              "      <td>golf</td>\n",
              "      <td>100000</td>\n",
              "      <td>gasoline</td>\n",
              "      <td>volkswagen</td>\n",
              "      <td>no</td>\n",
              "    </tr>\n",
              "    <tr>\n",
              "      <th>258463</th>\n",
              "      <td>sedan</td>\n",
              "      <td>2003</td>\n",
              "      <td>auto</td>\n",
              "      <td>150</td>\n",
              "      <td>e_klasse</td>\n",
              "      <td>150000</td>\n",
              "      <td>gasoline</td>\n",
              "      <td>mercedes_benz</td>\n",
              "      <td>no</td>\n",
              "    </tr>\n",
              "    <tr>\n",
              "      <th>258603</th>\n",
              "      <td>sedan</td>\n",
              "      <td>2004</td>\n",
              "      <td>manual</td>\n",
              "      <td>105</td>\n",
              "      <td>astra</td>\n",
              "      <td>150000</td>\n",
              "      <td>petrol</td>\n",
              "      <td>opel</td>\n",
              "      <td>no</td>\n",
              "    </tr>\n",
              "    <tr>\n",
              "      <th>297015</th>\n",
              "      <td>bus</td>\n",
              "      <td>2008</td>\n",
              "      <td>manual</td>\n",
              "      <td>88</td>\n",
              "      <td>sprinter</td>\n",
              "      <td>150000</td>\n",
              "      <td>gasoline</td>\n",
              "      <td>mercedes_benz</td>\n",
              "      <td>no</td>\n",
              "    </tr>\n",
              "    <tr>\n",
              "      <th>119154</th>\n",
              "      <td>small</td>\n",
              "      <td>1999</td>\n",
              "      <td>auto</td>\n",
              "      <td>131</td>\n",
              "      <td>focus</td>\n",
              "      <td>150000</td>\n",
              "      <td>petrol</td>\n",
              "      <td>ford</td>\n",
              "      <td>no</td>\n",
              "    </tr>\n",
              "  </tbody>\n",
              "</table>\n",
              "</div>"
            ],
            "text/plain": [
              "       vehicle_type  registration_year  ...          brand  not_repaired\n",
              "58690         sedan               2006  ...     volkswagen            no\n",
              "258463        sedan               2003  ...  mercedes_benz            no\n",
              "258603        sedan               2004  ...           opel            no\n",
              "297015          bus               2008  ...  mercedes_benz            no\n",
              "119154        small               1999  ...           ford            no\n",
              "\n",
              "[5 rows x 9 columns]"
            ]
          },
          "metadata": {
            "tags": []
          },
          "execution_count": 52
        }
      ]
    },
    {
      "cell_type": "markdown",
      "metadata": {
        "id": "hv_makZzxXt5"
      },
      "source": [
        "для тестового набора:"
      ]
    },
    {
      "cell_type": "code",
      "metadata": {
        "colab": {
          "base_uri": "https://localhost:8080/",
          "height": 204
        },
        "id": "5XouV2c-xXt5",
        "outputId": "8bdb2e67-7d54-4157-e7ea-b9ffdd6bb8a5"
      },
      "source": [
        "X_test_new = X_test[(X_test['not_repaired'] != 'unknown') & (X_test['vehicle_type'] != 'unknown')  & \\\n",
        "        (X_test['fuel_type'] != 'unknown') & (X_test['gearbox'] != 'unknown') & \\\n",
        "        (X_test['model'] != 'unknown')]\n",
        "X_test_new.head()"
      ],
      "execution_count": 53,
      "outputs": [
        {
          "output_type": "execute_result",
          "data": {
            "text/html": [
              "<div>\n",
              "<style scoped>\n",
              "    .dataframe tbody tr th:only-of-type {\n",
              "        vertical-align: middle;\n",
              "    }\n",
              "\n",
              "    .dataframe tbody tr th {\n",
              "        vertical-align: top;\n",
              "    }\n",
              "\n",
              "    .dataframe thead th {\n",
              "        text-align: right;\n",
              "    }\n",
              "</style>\n",
              "<table border=\"1\" class=\"dataframe\">\n",
              "  <thead>\n",
              "    <tr style=\"text-align: right;\">\n",
              "      <th></th>\n",
              "      <th>vehicle_type</th>\n",
              "      <th>registration_year</th>\n",
              "      <th>gearbox</th>\n",
              "      <th>power</th>\n",
              "      <th>model</th>\n",
              "      <th>kilometer</th>\n",
              "      <th>fuel_type</th>\n",
              "      <th>brand</th>\n",
              "      <th>not_repaired</th>\n",
              "    </tr>\n",
              "  </thead>\n",
              "  <tbody>\n",
              "    <tr>\n",
              "      <th>307728</th>\n",
              "      <td>small</td>\n",
              "      <td>1998</td>\n",
              "      <td>manual</td>\n",
              "      <td>75</td>\n",
              "      <td>polo</td>\n",
              "      <td>125000</td>\n",
              "      <td>petrol</td>\n",
              "      <td>volkswagen</td>\n",
              "      <td>no</td>\n",
              "    </tr>\n",
              "    <tr>\n",
              "      <th>7164</th>\n",
              "      <td>sedan</td>\n",
              "      <td>2002</td>\n",
              "      <td>manual</td>\n",
              "      <td>101</td>\n",
              "      <td>focus</td>\n",
              "      <td>150000</td>\n",
              "      <td>petrol</td>\n",
              "      <td>ford</td>\n",
              "      <td>no</td>\n",
              "    </tr>\n",
              "    <tr>\n",
              "      <th>219054</th>\n",
              "      <td>convertible</td>\n",
              "      <td>2008</td>\n",
              "      <td>manual</td>\n",
              "      <td>177</td>\n",
              "      <td>1er</td>\n",
              "      <td>80000</td>\n",
              "      <td>gasoline</td>\n",
              "      <td>bmw</td>\n",
              "      <td>no</td>\n",
              "    </tr>\n",
              "    <tr>\n",
              "      <th>198523</th>\n",
              "      <td>bus</td>\n",
              "      <td>2005</td>\n",
              "      <td>manual</td>\n",
              "      <td>101</td>\n",
              "      <td>combo</td>\n",
              "      <td>100000</td>\n",
              "      <td>gasoline</td>\n",
              "      <td>opel</td>\n",
              "      <td>no</td>\n",
              "    </tr>\n",
              "    <tr>\n",
              "      <th>248361</th>\n",
              "      <td>small</td>\n",
              "      <td>2004</td>\n",
              "      <td>manual</td>\n",
              "      <td>110</td>\n",
              "      <td>focus</td>\n",
              "      <td>150000</td>\n",
              "      <td>petrol</td>\n",
              "      <td>ford</td>\n",
              "      <td>no</td>\n",
              "    </tr>\n",
              "  </tbody>\n",
              "</table>\n",
              "</div>"
            ],
            "text/plain": [
              "       vehicle_type  registration_year  ...       brand  not_repaired\n",
              "307728        small               1998  ...  volkswagen            no\n",
              "7164          sedan               2002  ...        ford            no\n",
              "219054  convertible               2008  ...         bmw            no\n",
              "198523          bus               2005  ...        opel            no\n",
              "248361        small               2004  ...        ford            no\n",
              "\n",
              "[5 rows x 9 columns]"
            ]
          },
          "metadata": {
            "tags": []
          },
          "execution_count": 53
        }
      ]
    },
    {
      "cell_type": "code",
      "metadata": {
        "colab": {
          "base_uri": "https://localhost:8080/"
        },
        "id": "BEW7CReHxXt5",
        "outputId": "b3bd925f-3ada-4fe8-d57f-d88197e5bb0d"
      },
      "source": [
        "X_train_new.shape, X_test_new.shape"
      ],
      "execution_count": 54,
      "outputs": [
        {
          "output_type": "execute_result",
          "data": {
            "text/plain": [
              "((144383, 9), (48038, 9))"
            ]
          },
          "metadata": {
            "tags": []
          },
          "execution_count": 54
        }
      ]
    },
    {
      "cell_type": "markdown",
      "metadata": {
        "id": "X0_EBJ-zxXt5"
      },
      "source": [
        "Также нам необходимо привести в порядок целевые сеты"
      ]
    },
    {
      "cell_type": "code",
      "metadata": {
        "colab": {
          "base_uri": "https://localhost:8080/"
        },
        "id": "dED9XNQsxXt5",
        "outputId": "2dc3deb5-bc4f-463f-b486-460da9ab2851"
      },
      "source": [
        "y_train_new = y_train[y_train.index.isin(X_train_new.index)]\n",
        "y_test_new = y_test[y_test.index.isin(X_test_new.index)]\n",
        "y_train_new.shape, y_test_new.shape"
      ],
      "execution_count": 55,
      "outputs": [
        {
          "output_type": "execute_result",
          "data": {
            "text/plain": [
              "((144383,), (48038,))"
            ]
          },
          "metadata": {
            "tags": []
          },
          "execution_count": 55
        }
      ]
    },
    {
      "cell_type": "markdown",
      "metadata": {
        "id": "ZvdtxxiyxXt5"
      },
      "source": [
        "Теперь сделаем преобразование данных: нам необходимо добавить еще одну категорию - разделив автомобили по годам  и еще одну категорию - по мощности"
      ]
    },
    {
      "cell_type": "code",
      "metadata": {
        "id": "h3gTw_jjxXt5"
      },
      "source": [
        "pow_ser, pow_bin = pd.qcut(X_train_new['power'],5, retbins=True, labels=False)\n",
        "year_ser, year_bin = pd.qcut(X_train_new['registration_year'], 7, retbins=True, labels=False)"
      ],
      "execution_count": 56,
      "outputs": []
    },
    {
      "cell_type": "code",
      "metadata": {
        "id": "naAHxxv5xXt6"
      },
      "source": [
        "X_train_new['pow_bin'] = pow_ser\n",
        "X_train_new['year_bin'] = year_ser"
      ],
      "execution_count": 57,
      "outputs": []
    },
    {
      "cell_type": "code",
      "metadata": {
        "colab": {
          "base_uri": "https://localhost:8080/",
          "height": 204
        },
        "id": "fu1O7xXnxXt6",
        "outputId": "e3326bb0-97b6-476b-d6eb-3a52ca24685e"
      },
      "source": [
        "X_train_new.head()"
      ],
      "execution_count": 58,
      "outputs": [
        {
          "output_type": "execute_result",
          "data": {
            "text/html": [
              "<div>\n",
              "<style scoped>\n",
              "    .dataframe tbody tr th:only-of-type {\n",
              "        vertical-align: middle;\n",
              "    }\n",
              "\n",
              "    .dataframe tbody tr th {\n",
              "        vertical-align: top;\n",
              "    }\n",
              "\n",
              "    .dataframe thead th {\n",
              "        text-align: right;\n",
              "    }\n",
              "</style>\n",
              "<table border=\"1\" class=\"dataframe\">\n",
              "  <thead>\n",
              "    <tr style=\"text-align: right;\">\n",
              "      <th></th>\n",
              "      <th>vehicle_type</th>\n",
              "      <th>registration_year</th>\n",
              "      <th>gearbox</th>\n",
              "      <th>power</th>\n",
              "      <th>model</th>\n",
              "      <th>kilometer</th>\n",
              "      <th>fuel_type</th>\n",
              "      <th>brand</th>\n",
              "      <th>not_repaired</th>\n",
              "      <th>pow_bin</th>\n",
              "      <th>year_bin</th>\n",
              "    </tr>\n",
              "  </thead>\n",
              "  <tbody>\n",
              "    <tr>\n",
              "      <th>58690</th>\n",
              "      <td>sedan</td>\n",
              "      <td>2006</td>\n",
              "      <td>auto</td>\n",
              "      <td>105</td>\n",
              "      <td>golf</td>\n",
              "      <td>100000</td>\n",
              "      <td>gasoline</td>\n",
              "      <td>volkswagen</td>\n",
              "      <td>no</td>\n",
              "      <td>2</td>\n",
              "      <td>4</td>\n",
              "    </tr>\n",
              "    <tr>\n",
              "      <th>258463</th>\n",
              "      <td>sedan</td>\n",
              "      <td>2003</td>\n",
              "      <td>auto</td>\n",
              "      <td>150</td>\n",
              "      <td>e_klasse</td>\n",
              "      <td>150000</td>\n",
              "      <td>gasoline</td>\n",
              "      <td>mercedes_benz</td>\n",
              "      <td>no</td>\n",
              "      <td>3</td>\n",
              "      <td>2</td>\n",
              "    </tr>\n",
              "    <tr>\n",
              "      <th>258603</th>\n",
              "      <td>sedan</td>\n",
              "      <td>2004</td>\n",
              "      <td>manual</td>\n",
              "      <td>105</td>\n",
              "      <td>astra</td>\n",
              "      <td>150000</td>\n",
              "      <td>petrol</td>\n",
              "      <td>opel</td>\n",
              "      <td>no</td>\n",
              "      <td>2</td>\n",
              "      <td>3</td>\n",
              "    </tr>\n",
              "    <tr>\n",
              "      <th>297015</th>\n",
              "      <td>bus</td>\n",
              "      <td>2008</td>\n",
              "      <td>manual</td>\n",
              "      <td>88</td>\n",
              "      <td>sprinter</td>\n",
              "      <td>150000</td>\n",
              "      <td>gasoline</td>\n",
              "      <td>mercedes_benz</td>\n",
              "      <td>no</td>\n",
              "      <td>1</td>\n",
              "      <td>5</td>\n",
              "    </tr>\n",
              "    <tr>\n",
              "      <th>119154</th>\n",
              "      <td>small</td>\n",
              "      <td>1999</td>\n",
              "      <td>auto</td>\n",
              "      <td>131</td>\n",
              "      <td>focus</td>\n",
              "      <td>150000</td>\n",
              "      <td>petrol</td>\n",
              "      <td>ford</td>\n",
              "      <td>no</td>\n",
              "      <td>3</td>\n",
              "      <td>1</td>\n",
              "    </tr>\n",
              "  </tbody>\n",
              "</table>\n",
              "</div>"
            ],
            "text/plain": [
              "       vehicle_type  registration_year gearbox  ...  not_repaired pow_bin  year_bin\n",
              "58690         sedan               2006    auto  ...            no       2         4\n",
              "258463        sedan               2003    auto  ...            no       3         2\n",
              "258603        sedan               2004  manual  ...            no       2         3\n",
              "297015          bus               2008  manual  ...            no       1         5\n",
              "119154        small               1999    auto  ...            no       3         1\n",
              "\n",
              "[5 rows x 11 columns]"
            ]
          },
          "metadata": {
            "tags": []
          },
          "execution_count": 58
        }
      ]
    },
    {
      "cell_type": "code",
      "metadata": {
        "id": "mEY_twnRxXt6"
      },
      "source": [
        "class AttributAdder():\n",
        "    \"\"\"класс для добавления артибутов в виде ранга по году и мощности для LGBM.\n",
        " для признаков power и registration_year. Также преобразует категориальные признаки для LGBM\"\"\"\n",
        "    \n",
        "    def __init__(self, attr = True):\n",
        "        self.attr = attr\n",
        "\n",
        "    def fit(self, X, y=None):\n",
        "        return self\n",
        "    def transform(self, X, y=None):\n",
        "        pow_ser, pow_bin = pd.qcut(X['power'],5, retbins=True, labels=False)\n",
        "        year_ser, year_bin = pd.qcut(X['registration_year'], 7, retbins=True, labels=False)\n",
        "        X['pow_bin'] = pow_ser\n",
        "        X['year_bin'] = year_ser\n",
        "        cat_features = list(X.select_dtypes(include=['object']).columns)\n",
        "        for cat in cat_features:\n",
        "            X[cat] = X[cat].astype('category')\n",
        "        return X"
      ],
      "execution_count": 59,
      "outputs": []
    },
    {
      "cell_type": "code",
      "metadata": {
        "colab": {
          "base_uri": "https://localhost:8080/",
          "height": 35
        },
        "id": "st-WV7gAxXt6",
        "outputId": "794f6e44-2c69-48de-da98-fbf1fbd9961f"
      },
      "source": [
        "AttributAdder.__doc__"
      ],
      "execution_count": 60,
      "outputs": [
        {
          "output_type": "execute_result",
          "data": {
            "application/vnd.google.colaboratory.intrinsic+json": {
              "type": "string"
            },
            "text/plain": [
              "'класс для добавления артибутов в виде ранга по году и мощности для LGBM.\\n для признаков power и registration_year. Также преобразует категориальные признаки для LGBM'"
            ]
          },
          "metadata": {
            "tags": []
          },
          "execution_count": 60
        }
      ]
    },
    {
      "cell_type": "code",
      "metadata": {
        "id": "AhBdpPEAxXt6"
      },
      "source": [
        "attr_adder = AttributAdder(attr=True)\n",
        "X_lgbm_train = attr_adder.transform(X_train_new)\n",
        "X_lgbm_test = attr_adder.transform(X_test_new)"
      ],
      "execution_count": 61,
      "outputs": []
    },
    {
      "cell_type": "markdown",
      "metadata": {
        "id": "dR24Ey4QxXt6"
      },
      "source": [
        "Проверим результат"
      ]
    },
    {
      "cell_type": "code",
      "metadata": {
        "colab": {
          "base_uri": "https://localhost:8080/",
          "height": 204
        },
        "id": "TblqzR65xXt6",
        "outputId": "4f1ebf94-5d45-4474-86db-f7b6304a7458"
      },
      "source": [
        "X_lgbm_train.head()"
      ],
      "execution_count": 62,
      "outputs": [
        {
          "output_type": "execute_result",
          "data": {
            "text/html": [
              "<div>\n",
              "<style scoped>\n",
              "    .dataframe tbody tr th:only-of-type {\n",
              "        vertical-align: middle;\n",
              "    }\n",
              "\n",
              "    .dataframe tbody tr th {\n",
              "        vertical-align: top;\n",
              "    }\n",
              "\n",
              "    .dataframe thead th {\n",
              "        text-align: right;\n",
              "    }\n",
              "</style>\n",
              "<table border=\"1\" class=\"dataframe\">\n",
              "  <thead>\n",
              "    <tr style=\"text-align: right;\">\n",
              "      <th></th>\n",
              "      <th>vehicle_type</th>\n",
              "      <th>registration_year</th>\n",
              "      <th>gearbox</th>\n",
              "      <th>power</th>\n",
              "      <th>model</th>\n",
              "      <th>kilometer</th>\n",
              "      <th>fuel_type</th>\n",
              "      <th>brand</th>\n",
              "      <th>not_repaired</th>\n",
              "      <th>pow_bin</th>\n",
              "      <th>year_bin</th>\n",
              "    </tr>\n",
              "  </thead>\n",
              "  <tbody>\n",
              "    <tr>\n",
              "      <th>58690</th>\n",
              "      <td>sedan</td>\n",
              "      <td>2006</td>\n",
              "      <td>auto</td>\n",
              "      <td>105</td>\n",
              "      <td>golf</td>\n",
              "      <td>100000</td>\n",
              "      <td>gasoline</td>\n",
              "      <td>volkswagen</td>\n",
              "      <td>no</td>\n",
              "      <td>2</td>\n",
              "      <td>4</td>\n",
              "    </tr>\n",
              "    <tr>\n",
              "      <th>258463</th>\n",
              "      <td>sedan</td>\n",
              "      <td>2003</td>\n",
              "      <td>auto</td>\n",
              "      <td>150</td>\n",
              "      <td>e_klasse</td>\n",
              "      <td>150000</td>\n",
              "      <td>gasoline</td>\n",
              "      <td>mercedes_benz</td>\n",
              "      <td>no</td>\n",
              "      <td>3</td>\n",
              "      <td>2</td>\n",
              "    </tr>\n",
              "    <tr>\n",
              "      <th>258603</th>\n",
              "      <td>sedan</td>\n",
              "      <td>2004</td>\n",
              "      <td>manual</td>\n",
              "      <td>105</td>\n",
              "      <td>astra</td>\n",
              "      <td>150000</td>\n",
              "      <td>petrol</td>\n",
              "      <td>opel</td>\n",
              "      <td>no</td>\n",
              "      <td>2</td>\n",
              "      <td>3</td>\n",
              "    </tr>\n",
              "    <tr>\n",
              "      <th>297015</th>\n",
              "      <td>bus</td>\n",
              "      <td>2008</td>\n",
              "      <td>manual</td>\n",
              "      <td>88</td>\n",
              "      <td>sprinter</td>\n",
              "      <td>150000</td>\n",
              "      <td>gasoline</td>\n",
              "      <td>mercedes_benz</td>\n",
              "      <td>no</td>\n",
              "      <td>1</td>\n",
              "      <td>5</td>\n",
              "    </tr>\n",
              "    <tr>\n",
              "      <th>119154</th>\n",
              "      <td>small</td>\n",
              "      <td>1999</td>\n",
              "      <td>auto</td>\n",
              "      <td>131</td>\n",
              "      <td>focus</td>\n",
              "      <td>150000</td>\n",
              "      <td>petrol</td>\n",
              "      <td>ford</td>\n",
              "      <td>no</td>\n",
              "      <td>3</td>\n",
              "      <td>1</td>\n",
              "    </tr>\n",
              "  </tbody>\n",
              "</table>\n",
              "</div>"
            ],
            "text/plain": [
              "       vehicle_type  registration_year gearbox  ...  not_repaired pow_bin  year_bin\n",
              "58690         sedan               2006    auto  ...            no       2         4\n",
              "258463        sedan               2003    auto  ...            no       3         2\n",
              "258603        sedan               2004  manual  ...            no       2         3\n",
              "297015          bus               2008  manual  ...            no       1         5\n",
              "119154        small               1999    auto  ...            no       3         1\n",
              "\n",
              "[5 rows x 11 columns]"
            ]
          },
          "metadata": {
            "tags": []
          },
          "execution_count": 62
        }
      ]
    },
    {
      "cell_type": "code",
      "metadata": {
        "colab": {
          "base_uri": "https://localhost:8080/"
        },
        "id": "5MpjkvKqxXt6",
        "outputId": "49186bec-2373-4d2b-e8e0-92236cf84f77"
      },
      "source": [
        "X_lgbm_train.dtypes"
      ],
      "execution_count": 63,
      "outputs": [
        {
          "output_type": "execute_result",
          "data": {
            "text/plain": [
              "vehicle_type         category\n",
              "registration_year       int64\n",
              "gearbox              category\n",
              "power                   int64\n",
              "model                category\n",
              "kilometer               int64\n",
              "fuel_type            category\n",
              "brand                category\n",
              "not_repaired         category\n",
              "pow_bin                 int64\n",
              "year_bin                int64\n",
              "dtype: object"
            ]
          },
          "metadata": {
            "tags": []
          },
          "execution_count": 63
        }
      ]
    },
    {
      "cell_type": "markdown",
      "metadata": {
        "id": "2Kr0jD1uxXt6"
      },
      "source": [
        "Наш класс работает. Приступим к обучению модели"
      ]
    },
    {
      "cell_type": "code",
      "metadata": {
        "colab": {
          "base_uri": "https://localhost:8080/"
        },
        "id": "WJKBKAgtxXt6",
        "outputId": "c38126d0-32cf-41e3-8e07-3fbcf6f39d96"
      },
      "source": [
        "%%time\n",
        "start_gbm_new = time.time()\n",
        "cat_features_new = list(X_lgbm_train.select_dtypes(include=['object']).columns)\n",
        "gbm_features_new = list(X_lgbm_train.columns)\n",
        "\n",
        "train_data_new = lgb.Dataset ( X_lgbm_train , label = y_train_new , feature_name = gbm_features_new ,\n",
        "                           categorical_feature = cat_features_new\n",
        "                           )\n",
        "param = { 'learning_rate' : 0.25 , 'n_estimators' : 100 , 'objective' : 'root_mean_squared_error' }\n",
        "\n",
        "\n",
        "num_round = 1000\n",
        "lgb_model_new = lgb.train(param, train_data_new, num_round)\n",
        "end_gbm_new = time.time()\n",
        "elapsed_gbm_new = end_gbm_new - start_gbm_new"
      ],
      "execution_count": 64,
      "outputs": [
        {
          "output_type": "stream",
          "text": [
            "CPU times: user 2.2 s, sys: 60.9 ms, total: 2.26 s\n",
            "Wall time: 1.25 s\n"
          ],
          "name": "stdout"
        }
      ]
    },
    {
      "cell_type": "code",
      "metadata": {
        "colab": {
          "base_uri": "https://localhost:8080/"
        },
        "id": "UQhLNfwlxXt6",
        "outputId": "64faff4d-a9bc-4c40-a848-7592ec408fed"
      },
      "source": [
        "%%time\n",
        "start_gbmp_new = time.time()\n",
        "\n",
        "ypred_new = lgb_model_new.predict(X_lgbm_test)\n",
        "gbm_rmse_new = mean_squared_error(y_test_new, ypred_new) ** 0.5\n",
        "\n",
        "end_gbmp_new = time.time()\n",
        "elapsed_gbmp_new = end_gbmp_new - start_gbmp_new\n",
        "print(f'RMSE модели на базе библиотеки LGBM {gbm_rmse_new}')"
      ],
      "execution_count": 65,
      "outputs": [
        {
          "output_type": "stream",
          "text": [
            "RMSE модели на базе библиотеки LGBM 1512.5956321340996\n",
            "CPU times: user 440 ms, sys: 1.92 ms, total: 442 ms\n",
            "Wall time: 241 ms\n"
          ],
          "name": "stdout"
        }
      ]
    },
    {
      "cell_type": "code",
      "metadata": {
        "id": "m8Xp7oVbxXt6"
      },
      "source": [
        "rmse.append(gbm_rmse_new)\n",
        "training_time.append(elapsed_gbm_new)\n",
        "prediction_time.append(elapsed_gbmp_new)\n",
        "model_name.append('LGBM (updated)')"
      ],
      "execution_count": 66,
      "outputs": []
    },
    {
      "cell_type": "code",
      "metadata": {
        "colab": {
          "base_uri": "https://localhost:8080/",
          "height": 145
        },
        "id": "7bk9ACcAxXt7",
        "outputId": "40cee11e-8840-4f36-c4de-c550eae5db27"
      },
      "source": [
        "summary_02 = pd.DataFrame(\n",
        "    { 'model' : model_name , 'training_time, sec' : training_time ,\n",
        "      'prediction_time, sec' : prediction_time , 'rmse' : rmse }\n",
        "    ).sort_values( by = 'rmse' ).reset_index( drop = True )\n",
        "summary_02.style.highlight_min( 'rmse' , color = 'green' , axis = 0 ).highlight_min(\n",
        "    'prediction_time, sec' ,\n",
        "    color = 'lightblue' , axis = 0\n",
        "    )\n"
      ],
      "execution_count": 67,
      "outputs": [
        {
          "output_type": "execute_result",
          "data": {
            "text/html": [
              "<style  type=\"text/css\" >\n",
              "#T_a9f40874_da5e_11eb_b32a_0242ac1c0002row0_col3{\n",
              "            background-color:  green;\n",
              "        }#T_a9f40874_da5e_11eb_b32a_0242ac1c0002row3_col2{\n",
              "            background-color:  lightblue;\n",
              "        }</style><table id=\"T_a9f40874_da5e_11eb_b32a_0242ac1c0002\" ><thead>    <tr>        <th class=\"blank level0\" ></th>        <th class=\"col_heading level0 col0\" >model</th>        <th class=\"col_heading level0 col1\" >training_time, sec</th>        <th class=\"col_heading level0 col2\" >prediction_time, sec</th>        <th class=\"col_heading level0 col3\" >rmse</th>    </tr></thead><tbody>\n",
              "                <tr>\n",
              "                        <th id=\"T_a9f40874_da5e_11eb_b32a_0242ac1c0002level0_row0\" class=\"row_heading level0 row0\" >0</th>\n",
              "                        <td id=\"T_a9f40874_da5e_11eb_b32a_0242ac1c0002row0_col0\" class=\"data row0 col0\" >LGBM (updated)</td>\n",
              "                        <td id=\"T_a9f40874_da5e_11eb_b32a_0242ac1c0002row0_col1\" class=\"data row0 col1\" >1.250035</td>\n",
              "                        <td id=\"T_a9f40874_da5e_11eb_b32a_0242ac1c0002row0_col2\" class=\"data row0 col2\" >0.240439</td>\n",
              "                        <td id=\"T_a9f40874_da5e_11eb_b32a_0242ac1c0002row0_col3\" class=\"data row0 col3\" >1512.595632</td>\n",
              "            </tr>\n",
              "            <tr>\n",
              "                        <th id=\"T_a9f40874_da5e_11eb_b32a_0242ac1c0002level0_row1\" class=\"row_heading level0 row1\" >1</th>\n",
              "                        <td id=\"T_a9f40874_da5e_11eb_b32a_0242ac1c0002row1_col0\" class=\"data row1 col0\" >LightGBM</td>\n",
              "                        <td id=\"T_a9f40874_da5e_11eb_b32a_0242ac1c0002row1_col1\" class=\"data row1 col1\" >1.542483</td>\n",
              "                        <td id=\"T_a9f40874_da5e_11eb_b32a_0242ac1c0002row1_col2\" class=\"data row1 col2\" >0.352495</td>\n",
              "                        <td id=\"T_a9f40874_da5e_11eb_b32a_0242ac1c0002row1_col3\" class=\"data row1 col3\" >1526.883266</td>\n",
              "            </tr>\n",
              "            <tr>\n",
              "                        <th id=\"T_a9f40874_da5e_11eb_b32a_0242ac1c0002level0_row2\" class=\"row_heading level0 row2\" >2</th>\n",
              "                        <td id=\"T_a9f40874_da5e_11eb_b32a_0242ac1c0002row2_col0\" class=\"data row2 col0\" >CatBoostRegressor</td>\n",
              "                        <td id=\"T_a9f40874_da5e_11eb_b32a_0242ac1c0002row2_col1\" class=\"data row2 col1\" >8.774599</td>\n",
              "                        <td id=\"T_a9f40874_da5e_11eb_b32a_0242ac1c0002row2_col2\" class=\"data row2 col2\" >0.117631</td>\n",
              "                        <td id=\"T_a9f40874_da5e_11eb_b32a_0242ac1c0002row2_col3\" class=\"data row2 col3\" >1611.422765</td>\n",
              "            </tr>\n",
              "            <tr>\n",
              "                        <th id=\"T_a9f40874_da5e_11eb_b32a_0242ac1c0002level0_row3\" class=\"row_heading level0 row3\" >3</th>\n",
              "                        <td id=\"T_a9f40874_da5e_11eb_b32a_0242ac1c0002row3_col0\" class=\"data row3 col0\" >ElasticNet</td>\n",
              "                        <td id=\"T_a9f40874_da5e_11eb_b32a_0242ac1c0002row3_col1\" class=\"data row3 col1\" >0.646488</td>\n",
              "                        <td id=\"T_a9f40874_da5e_11eb_b32a_0242ac1c0002row3_col2\" class=\"data row3 col2\" >0.004315</td>\n",
              "                        <td id=\"T_a9f40874_da5e_11eb_b32a_0242ac1c0002row3_col3\" class=\"data row3 col3\" >2740.093379</td>\n",
              "            </tr>\n",
              "            <tr>\n",
              "                        <th id=\"T_a9f40874_da5e_11eb_b32a_0242ac1c0002level0_row4\" class=\"row_heading level0 row4\" >4</th>\n",
              "                        <td id=\"T_a9f40874_da5e_11eb_b32a_0242ac1c0002row4_col0\" class=\"data row4 col0\" >VotingRegressor</td>\n",
              "                        <td id=\"T_a9f40874_da5e_11eb_b32a_0242ac1c0002row4_col1\" class=\"data row4 col1\" >13.993060</td>\n",
              "                        <td id=\"T_a9f40874_da5e_11eb_b32a_0242ac1c0002row4_col2\" class=\"data row4 col2\" >0.014681</td>\n",
              "                        <td id=\"T_a9f40874_da5e_11eb_b32a_0242ac1c0002row4_col3\" class=\"data row4 col3\" >2770.048010</td>\n",
              "            </tr>\n",
              "    </tbody></table>"
            ],
            "text/plain": [
              "<pandas.io.formats.style.Styler at 0x7f2c18e99510>"
            ]
          },
          "metadata": {
            "tags": []
          },
          "execution_count": 67
        }
      ]
    },
    {
      "cell_type": "markdown",
      "metadata": {
        "id": "HmomwxFHxXt7"
      },
      "source": [
        "Немного потеряли в точности - стали хуже Catboost, но увеличили время предсказания. Возможно, эта **модель будет более оптимальной для заказчика**  - прирост во времени есть, и он может быть важнее, чем 20 единиц RMSE "
      ]
    },
    {
      "cell_type": "code",
      "metadata": {
        "colab": {
          "base_uri": "https://localhost:8080/",
          "height": 350
        },
        "id": "43KLnZRqxXt7",
        "outputId": "f875f95d-7cbf-4819-bd12-ef7df35842a8"
      },
      "source": [
        "lgb.plot_importance(lgb_model_new, figsize = (12, 5))\n",
        "plt.show()"
      ],
      "execution_count": 68,
      "outputs": [
        {
          "output_type": "display_data",
          "data": {
            "image/png": "[encoded data removed]",
            "text/plain": [
              "<Figure size 864x360 with 1 Axes>"
            ]
          },
          "metadata": {
            "tags": [],
            "needs_background": "light"
          }
        }
      ]
    },
    {
      "cell_type": "markdown",
      "metadata": {
        "id": "FWKxjbwrxXt7"
      },
      "source": [
        "Важность признаков не поменялась"
      ]
    },
    {
      "cell_type": "markdown",
      "metadata": {
        "id": "6gZrRRcjxXt7"
      },
      "source": [
        "<a href='footer'>К содержанию</a>\n",
        "<footer id='footer'></footer>    "
      ]
    },
    {
      "cell_type": "markdown",
      "metadata": {
        "id": "82hATSpLxXt7"
      },
      "source": [
        "### Проверка на адекватность"
      ]
    },
    {
      "cell_type": "markdown",
      "metadata": {
        "id": "iYf9RzjNxXt7"
      },
      "source": [
        "Данные мы чистили, возьмем за основу среднее значение целевого признака"
      ]
    },
    {
      "cell_type": "code",
      "metadata": {
        "colab": {
          "base_uri": "https://localhost:8080/"
        },
        "id": "EPxWYezOxXt7",
        "outputId": "90ba58c3-d0f7-4e22-8f77-e9ee12b8ec65"
      },
      "source": [
        "%%time\n",
        "start_const = time.time()\n",
        "\n",
        "pred_const = pd.Series(y_train.mean(), index=y_test.index)\n",
        "rmse_const = mean_squared_error(y_test, pred_const) ** 0.5\n",
        "\n",
        "end_const = time.time()\n",
        "elapsed_const = end_const - start_const\n",
        "print(f'RMSE модели на базе константсной модели {rmse_const}')"
      ],
      "execution_count": 69,
      "outputs": [
        {
          "output_type": "stream",
          "text": [
            "RMSE модели на базе константсной модели 4350.269639867979\n",
            "CPU times: user 3.74 ms, sys: 4 µs, total: 3.75 ms\n",
            "Wall time: 3.49 ms\n"
          ],
          "name": "stdout"
        }
      ]
    },
    {
      "cell_type": "code",
      "metadata": {
        "id": "O_BmRYGwxXt7"
      },
      "source": [
        "rmse.append(rmse_const)\n",
        "training_time.append(0.0)\n",
        "prediction_time.append(elapsed_const)\n",
        "model_name.append('Constant model (sanity check)')"
      ],
      "execution_count": 70,
      "outputs": []
    },
    {
      "cell_type": "code",
      "metadata": {
        "colab": {
          "base_uri": "https://localhost:8080/",
          "height": 166
        },
        "id": "6dp74lx6xXt7",
        "outputId": "0afea814-2042-461e-a5b2-10066201a84c"
      },
      "source": [
        "summary_03 = pd.DataFrame(\n",
        "    { 'model' : model_name , 'training_time, sec' : training_time ,\n",
        "      'prediction_time, sec' : prediction_time , 'rmse' : rmse }\n",
        "    ).sort_values( by = 'rmse' ).reset_index( drop = True )\n",
        "summary_03.style.highlight_min( 'rmse' , color = 'green' , axis = 0 ).highlight_min(\n",
        "    'prediction_time, sec' ,\n",
        "    color = 'lightblue' , axis = 0\n",
        "    )\n"
      ],
      "execution_count": 71,
      "outputs": [
        {
          "output_type": "execute_result",
          "data": {
            "text/html": [
              "<style  type=\"text/css\" >\n",
              "#T_aa396950_da5e_11eb_b32a_0242ac1c0002row0_col3{\n",
              "            background-color:  green;\n",
              "        }#T_aa396950_da5e_11eb_b32a_0242ac1c0002row5_col2{\n",
              "            background-color:  lightblue;\n",
              "        }</style><table id=\"T_aa396950_da5e_11eb_b32a_0242ac1c0002\" ><thead>    <tr>        <th class=\"blank level0\" ></th>        <th class=\"col_heading level0 col0\" >model</th>        <th class=\"col_heading level0 col1\" >training_time, sec</th>        <th class=\"col_heading level0 col2\" >prediction_time, sec</th>        <th class=\"col_heading level0 col3\" >rmse</th>    </tr></thead><tbody>\n",
              "                <tr>\n",
              "                        <th id=\"T_aa396950_da5e_11eb_b32a_0242ac1c0002level0_row0\" class=\"row_heading level0 row0\" >0</th>\n",
              "                        <td id=\"T_aa396950_da5e_11eb_b32a_0242ac1c0002row0_col0\" class=\"data row0 col0\" >LGBM (updated)</td>\n",
              "                        <td id=\"T_aa396950_da5e_11eb_b32a_0242ac1c0002row0_col1\" class=\"data row0 col1\" >1.250035</td>\n",
              "                        <td id=\"T_aa396950_da5e_11eb_b32a_0242ac1c0002row0_col2\" class=\"data row0 col2\" >0.240439</td>\n",
              "                        <td id=\"T_aa396950_da5e_11eb_b32a_0242ac1c0002row0_col3\" class=\"data row0 col3\" >1512.595632</td>\n",
              "            </tr>\n",
              "            <tr>\n",
              "                        <th id=\"T_aa396950_da5e_11eb_b32a_0242ac1c0002level0_row1\" class=\"row_heading level0 row1\" >1</th>\n",
              "                        <td id=\"T_aa396950_da5e_11eb_b32a_0242ac1c0002row1_col0\" class=\"data row1 col0\" >LightGBM</td>\n",
              "                        <td id=\"T_aa396950_da5e_11eb_b32a_0242ac1c0002row1_col1\" class=\"data row1 col1\" >1.542483</td>\n",
              "                        <td id=\"T_aa396950_da5e_11eb_b32a_0242ac1c0002row1_col2\" class=\"data row1 col2\" >0.352495</td>\n",
              "                        <td id=\"T_aa396950_da5e_11eb_b32a_0242ac1c0002row1_col3\" class=\"data row1 col3\" >1526.883266</td>\n",
              "            </tr>\n",
              "            <tr>\n",
              "                        <th id=\"T_aa396950_da5e_11eb_b32a_0242ac1c0002level0_row2\" class=\"row_heading level0 row2\" >2</th>\n",
              "                        <td id=\"T_aa396950_da5e_11eb_b32a_0242ac1c0002row2_col0\" class=\"data row2 col0\" >CatBoostRegressor</td>\n",
              "                        <td id=\"T_aa396950_da5e_11eb_b32a_0242ac1c0002row2_col1\" class=\"data row2 col1\" >8.774599</td>\n",
              "                        <td id=\"T_aa396950_da5e_11eb_b32a_0242ac1c0002row2_col2\" class=\"data row2 col2\" >0.117631</td>\n",
              "                        <td id=\"T_aa396950_da5e_11eb_b32a_0242ac1c0002row2_col3\" class=\"data row2 col3\" >1611.422765</td>\n",
              "            </tr>\n",
              "            <tr>\n",
              "                        <th id=\"T_aa396950_da5e_11eb_b32a_0242ac1c0002level0_row3\" class=\"row_heading level0 row3\" >3</th>\n",
              "                        <td id=\"T_aa396950_da5e_11eb_b32a_0242ac1c0002row3_col0\" class=\"data row3 col0\" >ElasticNet</td>\n",
              "                        <td id=\"T_aa396950_da5e_11eb_b32a_0242ac1c0002row3_col1\" class=\"data row3 col1\" >0.646488</td>\n",
              "                        <td id=\"T_aa396950_da5e_11eb_b32a_0242ac1c0002row3_col2\" class=\"data row3 col2\" >0.004315</td>\n",
              "                        <td id=\"T_aa396950_da5e_11eb_b32a_0242ac1c0002row3_col3\" class=\"data row3 col3\" >2740.093379</td>\n",
              "            </tr>\n",
              "            <tr>\n",
              "                        <th id=\"T_aa396950_da5e_11eb_b32a_0242ac1c0002level0_row4\" class=\"row_heading level0 row4\" >4</th>\n",
              "                        <td id=\"T_aa396950_da5e_11eb_b32a_0242ac1c0002row4_col0\" class=\"data row4 col0\" >VotingRegressor</td>\n",
              "                        <td id=\"T_aa396950_da5e_11eb_b32a_0242ac1c0002row4_col1\" class=\"data row4 col1\" >13.993060</td>\n",
              "                        <td id=\"T_aa396950_da5e_11eb_b32a_0242ac1c0002row4_col2\" class=\"data row4 col2\" >0.014681</td>\n",
              "                        <td id=\"T_aa396950_da5e_11eb_b32a_0242ac1c0002row4_col3\" class=\"data row4 col3\" >2770.048010</td>\n",
              "            </tr>\n",
              "            <tr>\n",
              "                        <th id=\"T_aa396950_da5e_11eb_b32a_0242ac1c0002level0_row5\" class=\"row_heading level0 row5\" >5</th>\n",
              "                        <td id=\"T_aa396950_da5e_11eb_b32a_0242ac1c0002row5_col0\" class=\"data row5 col0\" >Constant model (sanity check)</td>\n",
              "                        <td id=\"T_aa396950_da5e_11eb_b32a_0242ac1c0002row5_col1\" class=\"data row5 col1\" >0.000000</td>\n",
              "                        <td id=\"T_aa396950_da5e_11eb_b32a_0242ac1c0002row5_col2\" class=\"data row5 col2\" >0.003363</td>\n",
              "                        <td id=\"T_aa396950_da5e_11eb_b32a_0242ac1c0002row5_col3\" class=\"data row5 col3\" >4350.269640</td>\n",
              "            </tr>\n",
              "    </tbody></table>"
            ],
            "text/plain": [
              "<pandas.io.formats.style.Styler at 0x7f2c18ed7f50>"
            ]
          },
          "metadata": {
            "tags": []
          },
          "execution_count": 71
        }
      ]
    },
    {
      "cell_type": "markdown",
      "metadata": {
        "id": "VsTO20RBxXt7"
      },
      "source": [
        "Константная модель обучается быстро, предсказывает быстро, но метрика в разы хуже наших моделей"
      ]
    },
    {
      "cell_type": "markdown",
      "metadata": {
        "id": "HoZVVeqqxXt7"
      },
      "source": [
        "<a href='footer'>К содержанию</a>\n",
        "<footer id='footer'></footer>    "
      ]
    },
    {
      "cell_type": "markdown",
      "metadata": {
        "id": "G3IO2k64xXt7"
      },
      "source": [
        "### Вывод"
      ]
    },
    {
      "cell_type": "markdown",
      "metadata": {
        "id": "drKUQ4DSxXt8"
      },
      "source": [
        "Заказчику важны:\n",
        "\n",
        "- качество предсказания;\n",
        "- скорость предсказания;\n",
        "- время обучения.\n",
        "\n",
        "\n",
        "Самое высокое качество показывает модель на основе LightGBM, время предсказания составляет 0.69 секунды\n",
        "Самое быстрое время предсказания показывает модель на основе ElasticNet и VotingRegressor, но при этом у этих моделей страдает качество. Так же стоит отметить, что ElasticNet и обучается быстрее всех моделей. \n",
        "\n",
        "Так как **заказчику важна совокупность факторов - лучшая модель для поставленной цели будет основываться на библиотеке LightGBM**   \n",
        "\n",
        "\n",
        "При этом, стоит отметить, что при выделении корзин по годам и мощности дают прирост в скорости предсказания - необходимо предложить использование в преобразовании деление на корзины"
      ]
    },
    {
      "cell_type": "markdown",
      "metadata": {
        "id": "OixCeL47xXt8"
      },
      "source": [
        "<a href='footer'>К содержанию</a>\n",
        "<footer id='footer'></footer>    "
      ]
    }
  ]
}