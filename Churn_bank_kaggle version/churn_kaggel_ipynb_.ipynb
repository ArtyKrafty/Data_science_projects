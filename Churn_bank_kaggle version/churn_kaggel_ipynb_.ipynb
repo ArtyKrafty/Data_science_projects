{
  "nbformat": 4,
  "nbformat_minor": 0,
  "metadata": {
    "kernelspec": {
      "display_name": "Python 3",
      "language": "python",
      "name": "python3"
    },
    "language_info": {
      "codemirror_mode": {
        "name": "ipython",
        "version": 3
      },
      "file_extension": ".py",
      "mimetype": "text/x-python",
      "name": "python",
      "nbconvert_exporter": "python",
      "pygments_lexer": "ipython3",
      "version": "3.7.8"
    },
    "toc": {
      "base_numbering": 1,
      "nav_menu": {},
      "number_sections": true,
      "sideBar": true,
      "skip_h1_title": true,
      "title_cell": "Содержание",
      "title_sidebar": "Contents",
      "toc_cell": true,
      "toc_position": {
        "height": "calc(100% - 180px)",
        "left": "10px",
        "top": "150px",
        "width": "270.391px"
      },
      "toc_section_display": true,
      "toc_window_display": true
    },
    "colab": {
      "name": "churn_kaggel.ipynb\"",
      "provenance": [],
      "collapsed_sections": [],
      "toc_visible": true
    }
  },
  "cells": [
    {
      "cell_type": "markdown",
      "metadata": {
        "id": "aCaCNgXqBlA3"
      },
      "source": [
        "![](https://i.ibb.co/yQ3D64X/face.jpg)\n",
        "\n",
        "# Customer churn\n",
        "\n",
        "\n",
        "\n",
        "*It is necessary to predict whether the client will leave the bank in the near future or not.\n",
        "We have been provided with historical data on customer behavior and termination of agreements with the bank*\n"
      ]
    },
    {
      "cell_type": "markdown",
      "metadata": {
        "id": "9fvbQR_aBlA4"
      },
      "source": [
        "## General information about data in operation and preinspection"
      ]
    },
    {
      "cell_type": "markdown",
      "metadata": {
        "id": "AtXxcBqGBlA4"
      },
      "source": [
        "### Importing required libraries"
      ]
    },
    {
      "cell_type": "code",
      "metadata": {
        "colab": {
          "base_uri": "https://localhost:8080/"
        },
        "id": "ifukmtZ8B-_-",
        "outputId": "b9f2d02b-07ef-47e8-8756-f08b694bea21"
      },
      "source": [
        "!pip install catboost"
      ],
      "execution_count": 1,
      "outputs": [
        {
          "output_type": "stream",
          "text": [
            "Requirement already satisfied: catboost in /usr/local/lib/python3.7/dist-packages (0.25.1)\n",
            "Requirement already satisfied: six in /usr/local/lib/python3.7/dist-packages (from catboost) (1.15.0)\n",
            "Requirement already satisfied: matplotlib in /usr/local/lib/python3.7/dist-packages (from catboost) (3.2.2)\n",
            "Requirement already satisfied: graphviz in /usr/local/lib/python3.7/dist-packages (from catboost) (0.10.1)\n",
            "Requirement already satisfied: numpy>=1.16.0 in /usr/local/lib/python3.7/dist-packages (from catboost) (1.19.5)\n",
            "Requirement already satisfied: scipy in /usr/local/lib/python3.7/dist-packages (from catboost) (1.4.1)\n",
            "Requirement already satisfied: plotly in /usr/local/lib/python3.7/dist-packages (from catboost) (4.4.1)\n",
            "Requirement already satisfied: pandas>=0.24.0 in /usr/local/lib/python3.7/dist-packages (from catboost) (1.1.5)\n",
            "Requirement already satisfied: python-dateutil>=2.1 in /usr/local/lib/python3.7/dist-packages (from matplotlib->catboost) (2.8.1)\n",
            "Requirement already satisfied: kiwisolver>=1.0.1 in /usr/local/lib/python3.7/dist-packages (from matplotlib->catboost) (1.3.1)\n",
            "Requirement already satisfied: pyparsing!=2.0.4,!=2.1.2,!=2.1.6,>=2.0.1 in /usr/local/lib/python3.7/dist-packages (from matplotlib->catboost) (2.4.7)\n",
            "Requirement already satisfied: cycler>=0.10 in /usr/local/lib/python3.7/dist-packages (from matplotlib->catboost) (0.10.0)\n",
            "Requirement already satisfied: retrying>=1.3.3 in /usr/local/lib/python3.7/dist-packages (from plotly->catboost) (1.3.3)\n",
            "Requirement already satisfied: pytz>=2017.2 in /usr/local/lib/python3.7/dist-packages (from pandas>=0.24.0->catboost) (2018.9)\n"
          ],
          "name": "stdout"
        }
      ]
    },
    {
      "cell_type": "code",
      "metadata": {
        "colab": {
          "base_uri": "https://localhost:8080/"
        },
        "id": "NoS7CgjRCCYL",
        "outputId": "dc250954-c228-4b7c-c8b4-b5588a7fc279"
      },
      "source": [
        "!gdown --id 1cjqAvITkVdlNyIEDjPSO1wHuTGwNa616"
      ],
      "execution_count": 2,
      "outputs": [
        {
          "output_type": "stream",
          "text": [
            "Downloading...\n",
            "From: https://drive.google.com/uc?id=1cjqAvITkVdlNyIEDjPSO1wHuTGwNa616\n",
            "To: /content/Churn_Modelling.csv\n",
            "\r  0% 0.00/685k [00:00<?, ?B/s]\r100% 685k/685k [00:00<00:00, 21.6MB/s]\n"
          ],
          "name": "stdout"
        }
      ]
    },
    {
      "cell_type": "code",
      "metadata": {
        "id": "9MmuTFM6BlA4"
      },
      "source": [
        "import pandas as pd\n",
        "import numpy as np\n",
        "%matplotlib inline\n",
        "import matplotlib.pyplot as plt\n",
        "import seaborn as sns\n",
        "sns.set_style(\"darkgrid\")\n",
        "from sklearn.linear_model import LogisticRegression\n",
        "from sklearn.ensemble import RandomForestClassifier\n",
        "from sklearn.metrics import f1_score, roc_auc_score, roc_curve, precision_score, recall_score\n",
        "from sklearn.metrics import precision_recall_curve, accuracy_score\n",
        "from catboost import CatBoostClassifier\n",
        "from sklearn.preprocessing import StandardScaler\n",
        "from sklearn.model_selection import train_test_split, GridSearchCV\n",
        "from catboost import Pool, cv\n",
        "from sklearn.utils import shuffle\n",
        "import warnings\n",
        "warnings.filterwarnings(\"ignore\")\n",
        "\n"
      ],
      "execution_count": 3,
      "outputs": []
    },
    {
      "cell_type": "markdown",
      "metadata": {
        "id": "Bu2hLpL5BlA5"
      },
      "source": [
        "### Exploring Data Set"
      ]
    },
    {
      "cell_type": "code",
      "metadata": {
        "colab": {
          "base_uri": "https://localhost:8080/",
          "height": 224
        },
        "id": "89u_dXeuBlA5",
        "outputId": "e593cc87-1f73-4ade-ad97-ff651b061aa7"
      },
      "source": [
        "df = pd.read_csv('/content/Churn_Modelling.csv')\n",
        "df.head()"
      ],
      "execution_count": 4,
      "outputs": [
        {
          "output_type": "execute_result",
          "data": {
            "text/html": [
              "<div>\n",
              "<style scoped>\n",
              "    .dataframe tbody tr th:only-of-type {\n",
              "        vertical-align: middle;\n",
              "    }\n",
              "\n",
              "    .dataframe tbody tr th {\n",
              "        vertical-align: top;\n",
              "    }\n",
              "\n",
              "    .dataframe thead th {\n",
              "        text-align: right;\n",
              "    }\n",
              "</style>\n",
              "<table border=\"1\" class=\"dataframe\">\n",
              "  <thead>\n",
              "    <tr style=\"text-align: right;\">\n",
              "      <th></th>\n",
              "      <th>RowNumber</th>\n",
              "      <th>CustomerId</th>\n",
              "      <th>Surname</th>\n",
              "      <th>CreditScore</th>\n",
              "      <th>Geography</th>\n",
              "      <th>Gender</th>\n",
              "      <th>Age</th>\n",
              "      <th>Tenure</th>\n",
              "      <th>Balance</th>\n",
              "      <th>NumOfProducts</th>\n",
              "      <th>HasCrCard</th>\n",
              "      <th>IsActiveMember</th>\n",
              "      <th>EstimatedSalary</th>\n",
              "      <th>Exited</th>\n",
              "    </tr>\n",
              "  </thead>\n",
              "  <tbody>\n",
              "    <tr>\n",
              "      <th>0</th>\n",
              "      <td>1</td>\n",
              "      <td>15634602</td>\n",
              "      <td>Hargrave</td>\n",
              "      <td>619</td>\n",
              "      <td>France</td>\n",
              "      <td>Female</td>\n",
              "      <td>42</td>\n",
              "      <td>2</td>\n",
              "      <td>0.00</td>\n",
              "      <td>1</td>\n",
              "      <td>1</td>\n",
              "      <td>1</td>\n",
              "      <td>101348.88</td>\n",
              "      <td>1</td>\n",
              "    </tr>\n",
              "    <tr>\n",
              "      <th>1</th>\n",
              "      <td>2</td>\n",
              "      <td>15647311</td>\n",
              "      <td>Hill</td>\n",
              "      <td>608</td>\n",
              "      <td>Spain</td>\n",
              "      <td>Female</td>\n",
              "      <td>41</td>\n",
              "      <td>1</td>\n",
              "      <td>83807.86</td>\n",
              "      <td>1</td>\n",
              "      <td>0</td>\n",
              "      <td>1</td>\n",
              "      <td>112542.58</td>\n",
              "      <td>0</td>\n",
              "    </tr>\n",
              "    <tr>\n",
              "      <th>2</th>\n",
              "      <td>3</td>\n",
              "      <td>15619304</td>\n",
              "      <td>Onio</td>\n",
              "      <td>502</td>\n",
              "      <td>France</td>\n",
              "      <td>Female</td>\n",
              "      <td>42</td>\n",
              "      <td>8</td>\n",
              "      <td>159660.80</td>\n",
              "      <td>3</td>\n",
              "      <td>1</td>\n",
              "      <td>0</td>\n",
              "      <td>113931.57</td>\n",
              "      <td>1</td>\n",
              "    </tr>\n",
              "    <tr>\n",
              "      <th>3</th>\n",
              "      <td>4</td>\n",
              "      <td>15701354</td>\n",
              "      <td>Boni</td>\n",
              "      <td>699</td>\n",
              "      <td>France</td>\n",
              "      <td>Female</td>\n",
              "      <td>39</td>\n",
              "      <td>1</td>\n",
              "      <td>0.00</td>\n",
              "      <td>2</td>\n",
              "      <td>0</td>\n",
              "      <td>0</td>\n",
              "      <td>93826.63</td>\n",
              "      <td>0</td>\n",
              "    </tr>\n",
              "    <tr>\n",
              "      <th>4</th>\n",
              "      <td>5</td>\n",
              "      <td>15737888</td>\n",
              "      <td>Mitchell</td>\n",
              "      <td>850</td>\n",
              "      <td>Spain</td>\n",
              "      <td>Female</td>\n",
              "      <td>43</td>\n",
              "      <td>2</td>\n",
              "      <td>125510.82</td>\n",
              "      <td>1</td>\n",
              "      <td>1</td>\n",
              "      <td>1</td>\n",
              "      <td>79084.10</td>\n",
              "      <td>0</td>\n",
              "    </tr>\n",
              "  </tbody>\n",
              "</table>\n",
              "</div>"
            ],
            "text/plain": [
              "   RowNumber  CustomerId   Surname  ...  IsActiveMember EstimatedSalary Exited\n",
              "0          1    15634602  Hargrave  ...               1       101348.88      1\n",
              "1          2    15647311      Hill  ...               1       112542.58      0\n",
              "2          3    15619304      Onio  ...               0       113931.57      1\n",
              "3          4    15701354      Boni  ...               0        93826.63      0\n",
              "4          5    15737888  Mitchell  ...               1        79084.10      0\n",
              "\n",
              "[5 rows x 14 columns]"
            ]
          },
          "metadata": {
            "tags": []
          },
          "execution_count": 4
        }
      ]
    },
    {
      "cell_type": "markdown",
      "metadata": {
        "id": "3cnVG3SSBlA6"
      },
      "source": [
        "Features: \n",
        "\n",
        "- `RowNumber` - the index of the row in the data\n",
        "- `CustomerId` - unique customer identifier\n",
        "- `Surname` - surname\n",
        "- `CreditScore` - credit rating\n",
        "- `Geography` - country of residence\n",
        "- `Gender` - gender\n",
        "- `Age` - age\n",
        "- `Tenure` - how many years a person has been a client of the bank\n",
        "- `Balance` - account balance\n",
        "- `NumOfProducts` - the number of bank products used by the client\n",
        "- `HasCrCard` - availability of a credit card\n",
        "- `IsActiveMember` - client activity\n",
        "- `EstimatedSalary` - estimated salary\n",
        "\n",
        "Target column:\n",
        "\n",
        "- `Exited` - the fact of the client's departure"
      ]
    },
    {
      "cell_type": "markdown",
      "metadata": {
        "id": "Xki_f4a6BlA6"
      },
      "source": [
        "For our convenience, we will lower the name of the columns and bring them to the serpentine register"
      ]
    },
    {
      "cell_type": "code",
      "metadata": {
        "colab": {
          "base_uri": "https://localhost:8080/"
        },
        "id": "E9-ItOP7BlA6",
        "outputId": "d6b931f9-e662-4874-8530-54ad6ae59a92"
      },
      "source": [
        "df.columns = df.columns.str.lower()\n",
        "df.columns"
      ],
      "execution_count": 5,
      "outputs": [
        {
          "output_type": "execute_result",
          "data": {
            "text/plain": [
              "Index(['rownumber', 'customerid', 'surname', 'creditscore', 'geography',\n",
              "       'gender', 'age', 'tenure', 'balance', 'numofproducts', 'hascrcard',\n",
              "       'isactivemember', 'estimatedsalary', 'exited'],\n",
              "      dtype='object')"
            ]
          },
          "metadata": {
            "tags": []
          },
          "execution_count": 5
        }
      ]
    },
    {
      "cell_type": "code",
      "metadata": {
        "colab": {
          "base_uri": "https://localhost:8080/"
        },
        "id": "dJkfisMpBlA6",
        "outputId": "42f785ea-23e9-486d-c4c0-7328dd4d5740"
      },
      "source": [
        "df.columns = ['row_number', 'customer_id', 'surname', 'creditscore', 'geography',\n",
        "       'gender', 'age', 'tenure', 'balance', 'num_of_products', 'has_crcard',\n",
        "       'isactive_member', 'estimated_salary', 'exited']\n",
        "df.columns"
      ],
      "execution_count": 6,
      "outputs": [
        {
          "output_type": "execute_result",
          "data": {
            "text/plain": [
              "Index(['row_number', 'customer_id', 'surname', 'creditscore', 'geography',\n",
              "       'gender', 'age', 'tenure', 'balance', 'num_of_products', 'has_crcard',\n",
              "       'isactive_member', 'estimated_salary', 'exited'],\n",
              "      dtype='object')"
            ]
          },
          "metadata": {
            "tags": []
          },
          "execution_count": 6
        }
      ]
    },
    {
      "cell_type": "markdown",
      "metadata": {
        "id": "mpMqlgQQBlA7"
      },
      "source": [
        "Let's see general information about data in work"
      ]
    },
    {
      "cell_type": "code",
      "metadata": {
        "colab": {
          "base_uri": "https://localhost:8080/"
        },
        "id": "OPEse60xBlA7",
        "outputId": "e1a50986-2eb3-4d1d-8287-2460a9bb0cd5"
      },
      "source": [
        "print(df.shape)\n",
        "df.info()"
      ],
      "execution_count": 7,
      "outputs": [
        {
          "output_type": "stream",
          "text": [
            "(10000, 14)\n",
            "<class 'pandas.core.frame.DataFrame'>\n",
            "RangeIndex: 10000 entries, 0 to 9999\n",
            "Data columns (total 14 columns):\n",
            " #   Column            Non-Null Count  Dtype  \n",
            "---  ------            --------------  -----  \n",
            " 0   row_number        10000 non-null  int64  \n",
            " 1   customer_id       10000 non-null  int64  \n",
            " 2   surname           10000 non-null  object \n",
            " 3   creditscore       10000 non-null  int64  \n",
            " 4   geography         10000 non-null  object \n",
            " 5   gender            10000 non-null  object \n",
            " 6   age               10000 non-null  int64  \n",
            " 7   tenure            10000 non-null  int64  \n",
            " 8   balance           10000 non-null  float64\n",
            " 9   num_of_products   10000 non-null  int64  \n",
            " 10  has_crcard        10000 non-null  int64  \n",
            " 11  isactive_member   10000 non-null  int64  \n",
            " 12  estimated_salary  10000 non-null  float64\n",
            " 13  exited            10000 non-null  int64  \n",
            "dtypes: float64(2), int64(9), object(3)\n",
            "memory usage: 1.1+ MB\n"
          ],
          "name": "stdout"
        }
      ]
    },
    {
      "cell_type": "markdown",
      "metadata": {
        "id": "6k2dnVRRBlA7"
      },
      "source": [
        "We have no NaN in our set"
      ]
    },
    {
      "cell_type": "markdown",
      "metadata": {
        "id": "HL9IY_AXBlA8"
      },
      "source": [
        "\n",
        "Let's take a look at the data types in our dataframe separately:"
      ]
    },
    {
      "cell_type": "code",
      "metadata": {
        "colab": {
          "base_uri": "https://localhost:8080/"
        },
        "id": "uuZh1aEXBlA8",
        "outputId": "ca0fdfe6-a349-4a5c-d556-c354cb88abb1"
      },
      "source": [
        "df.dtypes"
      ],
      "execution_count": 8,
      "outputs": [
        {
          "output_type": "execute_result",
          "data": {
            "text/plain": [
              "row_number            int64\n",
              "customer_id           int64\n",
              "surname              object\n",
              "creditscore           int64\n",
              "geography            object\n",
              "gender               object\n",
              "age                   int64\n",
              "tenure                int64\n",
              "balance             float64\n",
              "num_of_products       int64\n",
              "has_crcard            int64\n",
              "isactive_member       int64\n",
              "estimated_salary    float64\n",
              "exited                int64\n",
              "dtype: object"
            ]
          },
          "metadata": {
            "tags": []
          },
          "execution_count": 8
        }
      ]
    },
    {
      "cell_type": "markdown",
      "metadata": {
        "id": "ZKgADEObBlA8"
      },
      "source": [
        "we need `tenure` to be integre"
      ]
    },
    {
      "cell_type": "code",
      "metadata": {
        "colab": {
          "base_uri": "https://localhost:8080/",
          "height": 390
        },
        "id": "nsdthm8LBlA8",
        "outputId": "be927cf9-c343-4e58-b057-7598d1443069"
      },
      "source": [
        "df.describe().T"
      ],
      "execution_count": 9,
      "outputs": [
        {
          "output_type": "execute_result",
          "data": {
            "text/html": [
              "<div>\n",
              "<style scoped>\n",
              "    .dataframe tbody tr th:only-of-type {\n",
              "        vertical-align: middle;\n",
              "    }\n",
              "\n",
              "    .dataframe tbody tr th {\n",
              "        vertical-align: top;\n",
              "    }\n",
              "\n",
              "    .dataframe thead th {\n",
              "        text-align: right;\n",
              "    }\n",
              "</style>\n",
              "<table border=\"1\" class=\"dataframe\">\n",
              "  <thead>\n",
              "    <tr style=\"text-align: right;\">\n",
              "      <th></th>\n",
              "      <th>count</th>\n",
              "      <th>mean</th>\n",
              "      <th>std</th>\n",
              "      <th>min</th>\n",
              "      <th>25%</th>\n",
              "      <th>50%</th>\n",
              "      <th>75%</th>\n",
              "      <th>max</th>\n",
              "    </tr>\n",
              "  </thead>\n",
              "  <tbody>\n",
              "    <tr>\n",
              "      <th>row_number</th>\n",
              "      <td>10000.0</td>\n",
              "      <td>5.000500e+03</td>\n",
              "      <td>2886.895680</td>\n",
              "      <td>1.00</td>\n",
              "      <td>2500.75</td>\n",
              "      <td>5.000500e+03</td>\n",
              "      <td>7.500250e+03</td>\n",
              "      <td>10000.00</td>\n",
              "    </tr>\n",
              "    <tr>\n",
              "      <th>customer_id</th>\n",
              "      <td>10000.0</td>\n",
              "      <td>1.569094e+07</td>\n",
              "      <td>71936.186123</td>\n",
              "      <td>15565701.00</td>\n",
              "      <td>15628528.25</td>\n",
              "      <td>1.569074e+07</td>\n",
              "      <td>1.575323e+07</td>\n",
              "      <td>15815690.00</td>\n",
              "    </tr>\n",
              "    <tr>\n",
              "      <th>creditscore</th>\n",
              "      <td>10000.0</td>\n",
              "      <td>6.505288e+02</td>\n",
              "      <td>96.653299</td>\n",
              "      <td>350.00</td>\n",
              "      <td>584.00</td>\n",
              "      <td>6.520000e+02</td>\n",
              "      <td>7.180000e+02</td>\n",
              "      <td>850.00</td>\n",
              "    </tr>\n",
              "    <tr>\n",
              "      <th>age</th>\n",
              "      <td>10000.0</td>\n",
              "      <td>3.892180e+01</td>\n",
              "      <td>10.487806</td>\n",
              "      <td>18.00</td>\n",
              "      <td>32.00</td>\n",
              "      <td>3.700000e+01</td>\n",
              "      <td>4.400000e+01</td>\n",
              "      <td>92.00</td>\n",
              "    </tr>\n",
              "    <tr>\n",
              "      <th>tenure</th>\n",
              "      <td>10000.0</td>\n",
              "      <td>5.012800e+00</td>\n",
              "      <td>2.892174</td>\n",
              "      <td>0.00</td>\n",
              "      <td>3.00</td>\n",
              "      <td>5.000000e+00</td>\n",
              "      <td>7.000000e+00</td>\n",
              "      <td>10.00</td>\n",
              "    </tr>\n",
              "    <tr>\n",
              "      <th>balance</th>\n",
              "      <td>10000.0</td>\n",
              "      <td>7.648589e+04</td>\n",
              "      <td>62397.405202</td>\n",
              "      <td>0.00</td>\n",
              "      <td>0.00</td>\n",
              "      <td>9.719854e+04</td>\n",
              "      <td>1.276442e+05</td>\n",
              "      <td>250898.09</td>\n",
              "    </tr>\n",
              "    <tr>\n",
              "      <th>num_of_products</th>\n",
              "      <td>10000.0</td>\n",
              "      <td>1.530200e+00</td>\n",
              "      <td>0.581654</td>\n",
              "      <td>1.00</td>\n",
              "      <td>1.00</td>\n",
              "      <td>1.000000e+00</td>\n",
              "      <td>2.000000e+00</td>\n",
              "      <td>4.00</td>\n",
              "    </tr>\n",
              "    <tr>\n",
              "      <th>has_crcard</th>\n",
              "      <td>10000.0</td>\n",
              "      <td>7.055000e-01</td>\n",
              "      <td>0.455840</td>\n",
              "      <td>0.00</td>\n",
              "      <td>0.00</td>\n",
              "      <td>1.000000e+00</td>\n",
              "      <td>1.000000e+00</td>\n",
              "      <td>1.00</td>\n",
              "    </tr>\n",
              "    <tr>\n",
              "      <th>isactive_member</th>\n",
              "      <td>10000.0</td>\n",
              "      <td>5.151000e-01</td>\n",
              "      <td>0.499797</td>\n",
              "      <td>0.00</td>\n",
              "      <td>0.00</td>\n",
              "      <td>1.000000e+00</td>\n",
              "      <td>1.000000e+00</td>\n",
              "      <td>1.00</td>\n",
              "    </tr>\n",
              "    <tr>\n",
              "      <th>estimated_salary</th>\n",
              "      <td>10000.0</td>\n",
              "      <td>1.000902e+05</td>\n",
              "      <td>57510.492818</td>\n",
              "      <td>11.58</td>\n",
              "      <td>51002.11</td>\n",
              "      <td>1.001939e+05</td>\n",
              "      <td>1.493882e+05</td>\n",
              "      <td>199992.48</td>\n",
              "    </tr>\n",
              "    <tr>\n",
              "      <th>exited</th>\n",
              "      <td>10000.0</td>\n",
              "      <td>2.037000e-01</td>\n",
              "      <td>0.402769</td>\n",
              "      <td>0.00</td>\n",
              "      <td>0.00</td>\n",
              "      <td>0.000000e+00</td>\n",
              "      <td>0.000000e+00</td>\n",
              "      <td>1.00</td>\n",
              "    </tr>\n",
              "  </tbody>\n",
              "</table>\n",
              "</div>"
            ],
            "text/plain": [
              "                    count          mean  ...           75%          max\n",
              "row_number        10000.0  5.000500e+03  ...  7.500250e+03     10000.00\n",
              "customer_id       10000.0  1.569094e+07  ...  1.575323e+07  15815690.00\n",
              "creditscore       10000.0  6.505288e+02  ...  7.180000e+02       850.00\n",
              "age               10000.0  3.892180e+01  ...  4.400000e+01        92.00\n",
              "tenure            10000.0  5.012800e+00  ...  7.000000e+00        10.00\n",
              "balance           10000.0  7.648589e+04  ...  1.276442e+05    250898.09\n",
              "num_of_products   10000.0  1.530200e+00  ...  2.000000e+00         4.00\n",
              "has_crcard        10000.0  7.055000e-01  ...  1.000000e+00         1.00\n",
              "isactive_member   10000.0  5.151000e-01  ...  1.000000e+00         1.00\n",
              "estimated_salary  10000.0  1.000902e+05  ...  1.493882e+05    199992.48\n",
              "exited            10000.0  2.037000e-01  ...  0.000000e+00         1.00\n",
              "\n",
              "[11 rows x 8 columns]"
            ]
          },
          "metadata": {
            "tags": []
          },
          "execution_count": 9
        }
      ]
    },
    {
      "cell_type": "markdown",
      "metadata": {
        "id": "qXwt8rNjBlA8"
      },
      "source": [
        "At first glance, we do not observe anomalies in the data, significant outliers. For example, by age, the minimum age is 18 - the maximum is 92, which may be true.\n",
        "\n",
        "Let's see the target column `exited`"
      ]
    },
    {
      "cell_type": "code",
      "metadata": {
        "colab": {
          "base_uri": "https://localhost:8080/",
          "height": 111
        },
        "id": "DR5oO2btBlA8",
        "outputId": "175f7924-879e-4842-97d0-431d3a64edef"
      },
      "source": [
        "df['exited'].value_counts().to_frame()"
      ],
      "execution_count": 10,
      "outputs": [
        {
          "output_type": "execute_result",
          "data": {
            "text/html": [
              "<div>\n",
              "<style scoped>\n",
              "    .dataframe tbody tr th:only-of-type {\n",
              "        vertical-align: middle;\n",
              "    }\n",
              "\n",
              "    .dataframe tbody tr th {\n",
              "        vertical-align: top;\n",
              "    }\n",
              "\n",
              "    .dataframe thead th {\n",
              "        text-align: right;\n",
              "    }\n",
              "</style>\n",
              "<table border=\"1\" class=\"dataframe\">\n",
              "  <thead>\n",
              "    <tr style=\"text-align: right;\">\n",
              "      <th></th>\n",
              "      <th>exited</th>\n",
              "    </tr>\n",
              "  </thead>\n",
              "  <tbody>\n",
              "    <tr>\n",
              "      <th>0</th>\n",
              "      <td>7963</td>\n",
              "    </tr>\n",
              "    <tr>\n",
              "      <th>1</th>\n",
              "      <td>2037</td>\n",
              "    </tr>\n",
              "  </tbody>\n",
              "</table>\n",
              "</div>"
            ],
            "text/plain": [
              "   exited\n",
              "0    7963\n",
              "1    2037"
            ]
          },
          "metadata": {
            "tags": []
          },
          "execution_count": 10
        }
      ]
    },
    {
      "cell_type": "code",
      "metadata": {
        "colab": {
          "base_uri": "https://localhost:8080/"
        },
        "id": "PreN2TYCBlA8",
        "outputId": "a7c3c7a0-1f68-4dcd-c589-e661d82a2277"
      },
      "source": [
        "print('Percentage of positive marks: {:.2%}'.format(df['exited'].mean()))"
      ],
      "execution_count": 11,
      "outputs": [
        {
          "output_type": "stream",
          "text": [
            "Percentage of positive marks: 20.37%\n"
          ],
          "name": "stdout"
        }
      ]
    },
    {
      "cell_type": "markdown",
      "metadata": {
        "id": "ZBEPkvwjBlA9"
      },
      "source": [
        "There is a class imbalance. We will train the model on the initial data, then we will try to overcome the imbalance and train again. Let's see the results later.\n"
      ]
    },
    {
      "cell_type": "code",
      "metadata": {
        "colab": {
          "base_uri": "https://localhost:8080/",
          "height": 769
        },
        "id": "wKK_U3eQBlA-",
        "outputId": "28ae3508-970a-4a6b-865e-e4dff15ba725"
      },
      "source": [
        "df.hist(bins=50, figsize=(20,15), edgecolor='black', linewidth=2)\n",
        "plt.show()"
      ],
      "execution_count": 12,
      "outputs": [
        {
          "output_type": "display_data",
          "data": {
            "image/png": "[encoded data removed]",
            "text/plain": [
              "<Figure size 1440x1080 with 12 Axes>"
            ]
          },
          "metadata": {
            "tags": []
          }
        }
      ]
    },
    {
      "cell_type": "markdown",
      "metadata": {
        "id": "MKlrjmmfBlA_"
      },
      "source": [
        "In the process of feature engeneering for our model, it will be possible to delete three columns - `customer_id`,` row_number` and `surname`, which do not carry the payload in our case"
      ]
    },
    {
      "cell_type": "code",
      "metadata": {
        "colab": {
          "base_uri": "https://localhost:8080/"
        },
        "id": "3PTGOQpyBlA_",
        "outputId": "7c57a34f-22f3-49a8-8952-e52df4c989b1"
      },
      "source": [
        "df.duplicated().sum()"
      ],
      "execution_count": 13,
      "outputs": [
        {
          "output_type": "execute_result",
          "data": {
            "text/plain": [
              "0"
            ]
          },
          "metadata": {
            "tags": []
          },
          "execution_count": 13
        }
      ]
    },
    {
      "cell_type": "markdown",
      "metadata": {
        "id": "rMgN_6hRBlA_"
      },
      "source": [
        "### Conclusion"
      ]
    },
    {
      "cell_type": "markdown",
      "metadata": {
        "id": "4HG_yiTPBlA_"
      },
      "source": [
        "Customer churn is the loss of customers, expressed in the absence of purchases or payments over a period of time. Churn rate is extremely important for companies with a subscription and transactional business model that means recurring payments to the company.\n",
        "\n",
        "We've previewed our dataset:\n",
        "\n",
        "- no duplicates found, no need to delete lines\n",
        "- in the process of preparing features for analysis - remove the columns `customer_id`,` row_number` and `surname`\n",
        "\n",
        "\n",
        "We can start preparing the features"
      ]
    },
    {
      "cell_type": "markdown",
      "metadata": {
        "id": "pq_wzUotBlA_"
      },
      "source": [
        "## Research of task"
      ]
    },
    {
      "cell_type": "markdown",
      "metadata": {
        "id": "h_j_B6A1BlA_"
      },
      "source": [
        "We are faced with the task of classification - it is necessary to determine whether the client will leave in the near future or not. Thus, to achieve the goals of this task, I propose to use the algorithms of Logistic Regression, Random Forest and Catboost.\n",
        "\n",
        "To evaluate the models, we will use the F1 measure (`F1 score`) (let us apply the good values is > 0.59)\n",
        "\n",
        "To evaluate the final model, we use the ROC curve with its area (`ROC-AUC`).\n",
        "\n",
        "As we found out, we have an imbalance of classes, accuracy does not suit us."
      ]
    },
    {
      "cell_type": "markdown",
      "metadata": {
        "id": "-jTMmUmRBlA_"
      },
      "source": [
        "### Features engeneering"
      ]
    },
    {
      "cell_type": "code",
      "metadata": {
        "colab": {
          "base_uri": "https://localhost:8080/",
          "height": 224
        },
        "id": "PrCfq7gDBlA_",
        "outputId": "406d725e-99ee-4d3c-dff3-912c7540409f"
      },
      "source": [
        "df.head()"
      ],
      "execution_count": 14,
      "outputs": [
        {
          "output_type": "execute_result",
          "data": {
            "text/html": [
              "<div>\n",
              "<style scoped>\n",
              "    .dataframe tbody tr th:only-of-type {\n",
              "        vertical-align: middle;\n",
              "    }\n",
              "\n",
              "    .dataframe tbody tr th {\n",
              "        vertical-align: top;\n",
              "    }\n",
              "\n",
              "    .dataframe thead th {\n",
              "        text-align: right;\n",
              "    }\n",
              "</style>\n",
              "<table border=\"1\" class=\"dataframe\">\n",
              "  <thead>\n",
              "    <tr style=\"text-align: right;\">\n",
              "      <th></th>\n",
              "      <th>row_number</th>\n",
              "      <th>customer_id</th>\n",
              "      <th>surname</th>\n",
              "      <th>creditscore</th>\n",
              "      <th>geography</th>\n",
              "      <th>gender</th>\n",
              "      <th>age</th>\n",
              "      <th>tenure</th>\n",
              "      <th>balance</th>\n",
              "      <th>num_of_products</th>\n",
              "      <th>has_crcard</th>\n",
              "      <th>isactive_member</th>\n",
              "      <th>estimated_salary</th>\n",
              "      <th>exited</th>\n",
              "    </tr>\n",
              "  </thead>\n",
              "  <tbody>\n",
              "    <tr>\n",
              "      <th>0</th>\n",
              "      <td>1</td>\n",
              "      <td>15634602</td>\n",
              "      <td>Hargrave</td>\n",
              "      <td>619</td>\n",
              "      <td>France</td>\n",
              "      <td>Female</td>\n",
              "      <td>42</td>\n",
              "      <td>2</td>\n",
              "      <td>0.00</td>\n",
              "      <td>1</td>\n",
              "      <td>1</td>\n",
              "      <td>1</td>\n",
              "      <td>101348.88</td>\n",
              "      <td>1</td>\n",
              "    </tr>\n",
              "    <tr>\n",
              "      <th>1</th>\n",
              "      <td>2</td>\n",
              "      <td>15647311</td>\n",
              "      <td>Hill</td>\n",
              "      <td>608</td>\n",
              "      <td>Spain</td>\n",
              "      <td>Female</td>\n",
              "      <td>41</td>\n",
              "      <td>1</td>\n",
              "      <td>83807.86</td>\n",
              "      <td>1</td>\n",
              "      <td>0</td>\n",
              "      <td>1</td>\n",
              "      <td>112542.58</td>\n",
              "      <td>0</td>\n",
              "    </tr>\n",
              "    <tr>\n",
              "      <th>2</th>\n",
              "      <td>3</td>\n",
              "      <td>15619304</td>\n",
              "      <td>Onio</td>\n",
              "      <td>502</td>\n",
              "      <td>France</td>\n",
              "      <td>Female</td>\n",
              "      <td>42</td>\n",
              "      <td>8</td>\n",
              "      <td>159660.80</td>\n",
              "      <td>3</td>\n",
              "      <td>1</td>\n",
              "      <td>0</td>\n",
              "      <td>113931.57</td>\n",
              "      <td>1</td>\n",
              "    </tr>\n",
              "    <tr>\n",
              "      <th>3</th>\n",
              "      <td>4</td>\n",
              "      <td>15701354</td>\n",
              "      <td>Boni</td>\n",
              "      <td>699</td>\n",
              "      <td>France</td>\n",
              "      <td>Female</td>\n",
              "      <td>39</td>\n",
              "      <td>1</td>\n",
              "      <td>0.00</td>\n",
              "      <td>2</td>\n",
              "      <td>0</td>\n",
              "      <td>0</td>\n",
              "      <td>93826.63</td>\n",
              "      <td>0</td>\n",
              "    </tr>\n",
              "    <tr>\n",
              "      <th>4</th>\n",
              "      <td>5</td>\n",
              "      <td>15737888</td>\n",
              "      <td>Mitchell</td>\n",
              "      <td>850</td>\n",
              "      <td>Spain</td>\n",
              "      <td>Female</td>\n",
              "      <td>43</td>\n",
              "      <td>2</td>\n",
              "      <td>125510.82</td>\n",
              "      <td>1</td>\n",
              "      <td>1</td>\n",
              "      <td>1</td>\n",
              "      <td>79084.10</td>\n",
              "      <td>0</td>\n",
              "    </tr>\n",
              "  </tbody>\n",
              "</table>\n",
              "</div>"
            ],
            "text/plain": [
              "   row_number  customer_id   surname  ...  isactive_member estimated_salary exited\n",
              "0           1     15634602  Hargrave  ...                1        101348.88      1\n",
              "1           2     15647311      Hill  ...                1        112542.58      0\n",
              "2           3     15619304      Onio  ...                0        113931.57      1\n",
              "3           4     15701354      Boni  ...                0         93826.63      0\n",
              "4           5     15737888  Mitchell  ...                1         79084.10      0\n",
              "\n",
              "[5 rows x 14 columns]"
            ]
          },
          "metadata": {
            "tags": []
          },
          "execution_count": 14
        }
      ]
    },
    {
      "cell_type": "markdown",
      "metadata": {
        "id": "RiSx5KcnBlBA"
      },
      "source": [
        "Let's remove unnecessary features and form a new date set so as not to overwrite variables"
      ]
    },
    {
      "cell_type": "code",
      "metadata": {
        "scrolled": true,
        "colab": {
          "base_uri": "https://localhost:8080/",
          "height": 224
        },
        "id": "R3VVgmExBlBA",
        "outputId": "a1c45ff5-cff1-4215-db26-9703518031db"
      },
      "source": [
        "data = df.drop(['row_number', 'customer_id', 'surname'], axis=1).copy()\n",
        "data.head()"
      ],
      "execution_count": 15,
      "outputs": [
        {
          "output_type": "execute_result",
          "data": {
            "text/html": [
              "<div>\n",
              "<style scoped>\n",
              "    .dataframe tbody tr th:only-of-type {\n",
              "        vertical-align: middle;\n",
              "    }\n",
              "\n",
              "    .dataframe tbody tr th {\n",
              "        vertical-align: top;\n",
              "    }\n",
              "\n",
              "    .dataframe thead th {\n",
              "        text-align: right;\n",
              "    }\n",
              "</style>\n",
              "<table border=\"1\" class=\"dataframe\">\n",
              "  <thead>\n",
              "    <tr style=\"text-align: right;\">\n",
              "      <th></th>\n",
              "      <th>creditscore</th>\n",
              "      <th>geography</th>\n",
              "      <th>gender</th>\n",
              "      <th>age</th>\n",
              "      <th>tenure</th>\n",
              "      <th>balance</th>\n",
              "      <th>num_of_products</th>\n",
              "      <th>has_crcard</th>\n",
              "      <th>isactive_member</th>\n",
              "      <th>estimated_salary</th>\n",
              "      <th>exited</th>\n",
              "    </tr>\n",
              "  </thead>\n",
              "  <tbody>\n",
              "    <tr>\n",
              "      <th>0</th>\n",
              "      <td>619</td>\n",
              "      <td>France</td>\n",
              "      <td>Female</td>\n",
              "      <td>42</td>\n",
              "      <td>2</td>\n",
              "      <td>0.00</td>\n",
              "      <td>1</td>\n",
              "      <td>1</td>\n",
              "      <td>1</td>\n",
              "      <td>101348.88</td>\n",
              "      <td>1</td>\n",
              "    </tr>\n",
              "    <tr>\n",
              "      <th>1</th>\n",
              "      <td>608</td>\n",
              "      <td>Spain</td>\n",
              "      <td>Female</td>\n",
              "      <td>41</td>\n",
              "      <td>1</td>\n",
              "      <td>83807.86</td>\n",
              "      <td>1</td>\n",
              "      <td>0</td>\n",
              "      <td>1</td>\n",
              "      <td>112542.58</td>\n",
              "      <td>0</td>\n",
              "    </tr>\n",
              "    <tr>\n",
              "      <th>2</th>\n",
              "      <td>502</td>\n",
              "      <td>France</td>\n",
              "      <td>Female</td>\n",
              "      <td>42</td>\n",
              "      <td>8</td>\n",
              "      <td>159660.80</td>\n",
              "      <td>3</td>\n",
              "      <td>1</td>\n",
              "      <td>0</td>\n",
              "      <td>113931.57</td>\n",
              "      <td>1</td>\n",
              "    </tr>\n",
              "    <tr>\n",
              "      <th>3</th>\n",
              "      <td>699</td>\n",
              "      <td>France</td>\n",
              "      <td>Female</td>\n",
              "      <td>39</td>\n",
              "      <td>1</td>\n",
              "      <td>0.00</td>\n",
              "      <td>2</td>\n",
              "      <td>0</td>\n",
              "      <td>0</td>\n",
              "      <td>93826.63</td>\n",
              "      <td>0</td>\n",
              "    </tr>\n",
              "    <tr>\n",
              "      <th>4</th>\n",
              "      <td>850</td>\n",
              "      <td>Spain</td>\n",
              "      <td>Female</td>\n",
              "      <td>43</td>\n",
              "      <td>2</td>\n",
              "      <td>125510.82</td>\n",
              "      <td>1</td>\n",
              "      <td>1</td>\n",
              "      <td>1</td>\n",
              "      <td>79084.10</td>\n",
              "      <td>0</td>\n",
              "    </tr>\n",
              "  </tbody>\n",
              "</table>\n",
              "</div>"
            ],
            "text/plain": [
              "   creditscore geography  gender  ...  isactive_member  estimated_salary  exited\n",
              "0          619    France  Female  ...                1         101348.88       1\n",
              "1          608     Spain  Female  ...                1         112542.58       0\n",
              "2          502    France  Female  ...                0         113931.57       1\n",
              "3          699    France  Female  ...                0          93826.63       0\n",
              "4          850     Spain  Female  ...                1          79084.10       0\n",
              "\n",
              "[5 rows x 11 columns]"
            ]
          },
          "metadata": {
            "tags": []
          },
          "execution_count": 15
        }
      ]
    },
    {
      "cell_type": "markdown",
      "metadata": {
        "id": "TWU1FKZjBlBA"
      },
      "source": [
        "### One-hot Encoding"
      ]
    },
    {
      "cell_type": "markdown",
      "metadata": {
        "id": "V5InfGiWBlBA"
      },
      "source": [
        "The categorical features `geography` and` gender` must be converted to numerical ones using the direct coding technique, or display (English One-Hot Encoding, OHE). We need quantitative features to be more accurate"
      ]
    },
    {
      "cell_type": "code",
      "metadata": {
        "colab": {
          "base_uri": "https://localhost:8080/"
        },
        "id": "hNyfwGfbBlBA",
        "outputId": "c15b5a0c-bfbd-448e-c8ae-9a4c7de3bcb2"
      },
      "source": [
        "data['geography'].value_counts()"
      ],
      "execution_count": 16,
      "outputs": [
        {
          "output_type": "execute_result",
          "data": {
            "text/plain": [
              "France     5014\n",
              "Germany    2509\n",
              "Spain      2477\n",
              "Name: geography, dtype: int64"
            ]
          },
          "metadata": {
            "tags": []
          },
          "execution_count": 16
        }
      ]
    },
    {
      "cell_type": "code",
      "metadata": {
        "colab": {
          "base_uri": "https://localhost:8080/"
        },
        "id": "I5mGLzdRBlBA",
        "outputId": "2212f36f-aff3-4213-97f8-9464a0b1cd05"
      },
      "source": [
        "data['gender'].value_counts()"
      ],
      "execution_count": 17,
      "outputs": [
        {
          "output_type": "execute_result",
          "data": {
            "text/plain": [
              "Male      5457\n",
              "Female    4543\n",
              "Name: gender, dtype: int64"
            ]
          },
          "metadata": {
            "tags": []
          },
          "execution_count": 17
        }
      ]
    },
    {
      "cell_type": "code",
      "metadata": {
        "colab": {
          "base_uri": "https://localhost:8080/",
          "height": 224
        },
        "id": "cGP-z9YVBlBB",
        "outputId": "98698942-3632-47c9-9285-a474a9364fc1"
      },
      "source": [
        "# OHE of features\n",
        "gender_ohe = pd.get_dummies(df[\"gender\"], drop_first=True)\n",
        "country_ohe = pd.get_dummies(df[\"geography\"], drop_first=True)\n",
        "\n",
        "# delete catfeatures\n",
        "data.drop([\"gender\", \"geography\"], axis=1, inplace=True)\n",
        "\n",
        "#concat new sets\n",
        "df_ohe = pd.concat([data, gender_ohe, country_ohe], axis=1)\n",
        "\n",
        "df_ohe.head()"
      ],
      "execution_count": 18,
      "outputs": [
        {
          "output_type": "execute_result",
          "data": {
            "text/html": [
              "<div>\n",
              "<style scoped>\n",
              "    .dataframe tbody tr th:only-of-type {\n",
              "        vertical-align: middle;\n",
              "    }\n",
              "\n",
              "    .dataframe tbody tr th {\n",
              "        vertical-align: top;\n",
              "    }\n",
              "\n",
              "    .dataframe thead th {\n",
              "        text-align: right;\n",
              "    }\n",
              "</style>\n",
              "<table border=\"1\" class=\"dataframe\">\n",
              "  <thead>\n",
              "    <tr style=\"text-align: right;\">\n",
              "      <th></th>\n",
              "      <th>creditscore</th>\n",
              "      <th>age</th>\n",
              "      <th>tenure</th>\n",
              "      <th>balance</th>\n",
              "      <th>num_of_products</th>\n",
              "      <th>has_crcard</th>\n",
              "      <th>isactive_member</th>\n",
              "      <th>estimated_salary</th>\n",
              "      <th>exited</th>\n",
              "      <th>Male</th>\n",
              "      <th>Germany</th>\n",
              "      <th>Spain</th>\n",
              "    </tr>\n",
              "  </thead>\n",
              "  <tbody>\n",
              "    <tr>\n",
              "      <th>0</th>\n",
              "      <td>619</td>\n",
              "      <td>42</td>\n",
              "      <td>2</td>\n",
              "      <td>0.00</td>\n",
              "      <td>1</td>\n",
              "      <td>1</td>\n",
              "      <td>1</td>\n",
              "      <td>101348.88</td>\n",
              "      <td>1</td>\n",
              "      <td>0</td>\n",
              "      <td>0</td>\n",
              "      <td>0</td>\n",
              "    </tr>\n",
              "    <tr>\n",
              "      <th>1</th>\n",
              "      <td>608</td>\n",
              "      <td>41</td>\n",
              "      <td>1</td>\n",
              "      <td>83807.86</td>\n",
              "      <td>1</td>\n",
              "      <td>0</td>\n",
              "      <td>1</td>\n",
              "      <td>112542.58</td>\n",
              "      <td>0</td>\n",
              "      <td>0</td>\n",
              "      <td>0</td>\n",
              "      <td>1</td>\n",
              "    </tr>\n",
              "    <tr>\n",
              "      <th>2</th>\n",
              "      <td>502</td>\n",
              "      <td>42</td>\n",
              "      <td>8</td>\n",
              "      <td>159660.80</td>\n",
              "      <td>3</td>\n",
              "      <td>1</td>\n",
              "      <td>0</td>\n",
              "      <td>113931.57</td>\n",
              "      <td>1</td>\n",
              "      <td>0</td>\n",
              "      <td>0</td>\n",
              "      <td>0</td>\n",
              "    </tr>\n",
              "    <tr>\n",
              "      <th>3</th>\n",
              "      <td>699</td>\n",
              "      <td>39</td>\n",
              "      <td>1</td>\n",
              "      <td>0.00</td>\n",
              "      <td>2</td>\n",
              "      <td>0</td>\n",
              "      <td>0</td>\n",
              "      <td>93826.63</td>\n",
              "      <td>0</td>\n",
              "      <td>0</td>\n",
              "      <td>0</td>\n",
              "      <td>0</td>\n",
              "    </tr>\n",
              "    <tr>\n",
              "      <th>4</th>\n",
              "      <td>850</td>\n",
              "      <td>43</td>\n",
              "      <td>2</td>\n",
              "      <td>125510.82</td>\n",
              "      <td>1</td>\n",
              "      <td>1</td>\n",
              "      <td>1</td>\n",
              "      <td>79084.10</td>\n",
              "      <td>0</td>\n",
              "      <td>0</td>\n",
              "      <td>0</td>\n",
              "      <td>1</td>\n",
              "    </tr>\n",
              "  </tbody>\n",
              "</table>\n",
              "</div>"
            ],
            "text/plain": [
              "   creditscore  age  tenure    balance  ...  exited  Male  Germany  Spain\n",
              "0          619   42       2       0.00  ...       1     0        0      0\n",
              "1          608   41       1   83807.86  ...       0     0        0      1\n",
              "2          502   42       8  159660.80  ...       1     0        0      0\n",
              "3          699   39       1       0.00  ...       0     0        0      0\n",
              "4          850   43       2  125510.82  ...       0     0        0      1\n",
              "\n",
              "[5 rows x 12 columns]"
            ]
          },
          "metadata": {
            "tags": []
          },
          "execution_count": 18
        }
      ]
    },
    {
      "cell_type": "code",
      "metadata": {
        "colab": {
          "base_uri": "https://localhost:8080/"
        },
        "id": "cnR8yFlMBlBB",
        "outputId": "d199d295-a348-4554-a212-e234c2549397"
      },
      "source": [
        "df_ohe.info()"
      ],
      "execution_count": 19,
      "outputs": [
        {
          "output_type": "stream",
          "text": [
            "<class 'pandas.core.frame.DataFrame'>\n",
            "RangeIndex: 10000 entries, 0 to 9999\n",
            "Data columns (total 12 columns):\n",
            " #   Column            Non-Null Count  Dtype  \n",
            "---  ------            --------------  -----  \n",
            " 0   creditscore       10000 non-null  int64  \n",
            " 1   age               10000 non-null  int64  \n",
            " 2   tenure            10000 non-null  int64  \n",
            " 3   balance           10000 non-null  float64\n",
            " 4   num_of_products   10000 non-null  int64  \n",
            " 5   has_crcard        10000 non-null  int64  \n",
            " 6   isactive_member   10000 non-null  int64  \n",
            " 7   estimated_salary  10000 non-null  float64\n",
            " 8   exited            10000 non-null  int64  \n",
            " 9   Male              10000 non-null  uint8  \n",
            " 10  Germany           10000 non-null  uint8  \n",
            " 11  Spain             10000 non-null  uint8  \n",
            "dtypes: float64(2), int64(7), uint8(3)\n",
            "memory usage: 732.5 KB\n"
          ],
          "name": "stdout"
        }
      ]
    },
    {
      "cell_type": "markdown",
      "metadata": {
        "id": "XhN2fYiQBlBB"
      },
      "source": [
        "Columns were coded. \n",
        "\n",
        "It is also necessary to standardize the characteristics, since the quantitative values ​​vary greatly. We will not apply standardization to the columns `tenure`,` num_of_products`, `has_crcard`,` isactive_member` and to the target with transformed categorical"
      ]
    },
    {
      "cell_type": "markdown",
      "metadata": {
        "id": "61LYvcO8BlBC"
      },
      "source": [
        "### Split data set"
      ]
    },
    {
      "cell_type": "markdown",
      "metadata": {
        "id": "4KTQHZhKBlBC"
      },
      "source": [
        "We have prepared features. Now we will divide our samples into training, validation for the selection of hyperparameters and test, on which we will test our model. We will not touch the test sample to the end, we will work out the best model on it"
      ]
    },
    {
      "cell_type": "code",
      "metadata": {
        "id": "Lmvvec2NBlBC"
      },
      "source": [
        "def split_data(data, target_column):\n",
        "    return data.drop(columns=[target_column], axis=1), data[target_column]"
      ],
      "execution_count": 20,
      "outputs": []
    },
    {
      "cell_type": "code",
      "metadata": {
        "id": "Ri8aprjfBlBC"
      },
      "source": [
        "features, target = split_data(df_ohe,'exited')"
      ],
      "execution_count": 21,
      "outputs": []
    },
    {
      "cell_type": "markdown",
      "metadata": {
        "id": "RYQH87RSBlBC"
      },
      "source": [
        "We get a validation sample of 20% and divide the remaining 80% again to obtain a test sample. We will conduct training on 60% of the data"
      ]
    },
    {
      "cell_type": "code",
      "metadata": {
        "id": "zyHYCfj_BlBC"
      },
      "source": [
        "features_df, features_valid, target_df, target_valid = ( \n",
        "                                train_test_split(\n",
        "                                features, target, test_size=0.20, random_state=42)\n",
        ")\n"
      ],
      "execution_count": 22,
      "outputs": []
    },
    {
      "cell_type": "code",
      "metadata": {
        "id": "AkbZkLFjBlBC"
      },
      "source": [
        "features_train, features_test, target_train, target_test = ( \n",
        "                                train_test_split(\n",
        "                                features_df, target_df, test_size=0.25, random_state=42)\n",
        ")\n"
      ],
      "execution_count": 23,
      "outputs": []
    },
    {
      "cell_type": "code",
      "metadata": {
        "colab": {
          "base_uri": "https://localhost:8080/"
        },
        "id": "gfADQLbiBlBC",
        "outputId": "e6900da9-890d-45c5-916e-bdfa09a865c1"
      },
      "source": [
        "print('Objects of train:', len(features_train))\n",
        "print('Objects of valid:', len(features_valid))\n",
        "print('Objects of test:', len(features_test))\n",
        "print('Sum of objects:', len(features_train) + len(features_test) + len(features_test))\n",
        "print()\n",
        "print('Objects of original set (check sum):', len(df_ohe))"
      ],
      "execution_count": 24,
      "outputs": [
        {
          "output_type": "stream",
          "text": [
            "Objects of train: 6000\n",
            "Objects of valid: 2000\n",
            "Objects of test: 2000\n",
            "Sum of objects: 10000\n",
            "\n",
            "Objects of original set (check sum): 10000\n"
          ],
          "name": "stdout"
        }
      ]
    },
    {
      "cell_type": "markdown",
      "metadata": {
        "id": "wQGJCY-JBlBD"
      },
      "source": [
        "The sample was divided, we can proceed to trial training of the models. In our task, there is a strong class imbalance, which has a bad effect on training the model. Let's look at the results, we will evaluate the model by the F1 measure - it is a good candidate for a formal metric for assessing the quality of the classifier. It reduces to one number two other fundamental metrics: `precision` and` recall`"
      ]
    },
    {
      "cell_type": "markdown",
      "metadata": {
        "id": "jZ-7XE2ADbFH"
      },
      "source": [
        "### Scaling"
      ]
    },
    {
      "cell_type": "markdown",
      "metadata": {
        "id": "kF-NoHuzDSIQ"
      },
      "source": [
        "Scaling features across the entire dataset can lead to a data leak. You only need to train the scaler on the train.\n",
        "\n",
        "We will train and then apply to our samples"
      ]
    },
    {
      "cell_type": "code",
      "metadata": {
        "scrolled": true,
        "colab": {
          "base_uri": "https://localhost:8080/",
          "height": 224
        },
        "id": "5fMSRArQDSId",
        "outputId": "c28dd70f-fd4d-43db-d84d-a0fca898930a"
      },
      "source": [
        "numeric = ['creditscore', 'age', 'balance', 'estimated_salary']\n",
        "scaler = StandardScaler()\n",
        "scaler.fit(features_train[numeric])\n",
        "pd.options.mode.chained_assignment = None\n",
        "features_train[numeric] = scaler.transform(features_train[numeric])\n",
        "features_train.head()"
      ],
      "execution_count": 25,
      "outputs": [
        {
          "output_type": "execute_result",
          "data": {
            "text/html": [
              "<div>\n",
              "<style scoped>\n",
              "    .dataframe tbody tr th:only-of-type {\n",
              "        vertical-align: middle;\n",
              "    }\n",
              "\n",
              "    .dataframe tbody tr th {\n",
              "        vertical-align: top;\n",
              "    }\n",
              "\n",
              "    .dataframe thead th {\n",
              "        text-align: right;\n",
              "    }\n",
              "</style>\n",
              "<table border=\"1\" class=\"dataframe\">\n",
              "  <thead>\n",
              "    <tr style=\"text-align: right;\">\n",
              "      <th></th>\n",
              "      <th>creditscore</th>\n",
              "      <th>age</th>\n",
              "      <th>tenure</th>\n",
              "      <th>balance</th>\n",
              "      <th>num_of_products</th>\n",
              "      <th>has_crcard</th>\n",
              "      <th>isactive_member</th>\n",
              "      <th>estimated_salary</th>\n",
              "      <th>Male</th>\n",
              "      <th>Germany</th>\n",
              "      <th>Spain</th>\n",
              "    </tr>\n",
              "  </thead>\n",
              "  <tbody>\n",
              "    <tr>\n",
              "      <th>8588</th>\n",
              "      <td>0.626553</td>\n",
              "      <td>-0.948125</td>\n",
              "      <td>7</td>\n",
              "      <td>0.026803</td>\n",
              "      <td>1</td>\n",
              "      <td>1</td>\n",
              "      <td>0</td>\n",
              "      <td>0.389943</td>\n",
              "      <td>0</td>\n",
              "      <td>0</td>\n",
              "      <td>1</td>\n",
              "    </tr>\n",
              "    <tr>\n",
              "      <th>3178</th>\n",
              "      <td>-1.143262</td>\n",
              "      <td>0.006684</td>\n",
              "      <td>4</td>\n",
              "      <td>0.538874</td>\n",
              "      <td>2</td>\n",
              "      <td>1</td>\n",
              "      <td>1</td>\n",
              "      <td>-1.026089</td>\n",
              "      <td>0</td>\n",
              "      <td>0</td>\n",
              "      <td>0</td>\n",
              "    </tr>\n",
              "    <tr>\n",
              "      <th>5200</th>\n",
              "      <td>-1.455583</td>\n",
              "      <td>0.293126</td>\n",
              "      <td>9</td>\n",
              "      <td>0.283178</td>\n",
              "      <td>2</td>\n",
              "      <td>1</td>\n",
              "      <td>0</td>\n",
              "      <td>-1.486725</td>\n",
              "      <td>1</td>\n",
              "      <td>1</td>\n",
              "      <td>0</td>\n",
              "    </tr>\n",
              "    <tr>\n",
              "      <th>8889</th>\n",
              "      <td>-0.747657</td>\n",
              "      <td>0.006684</td>\n",
              "      <td>9</td>\n",
              "      <td>0.833254</td>\n",
              "      <td>1</td>\n",
              "      <td>1</td>\n",
              "      <td>0</td>\n",
              "      <td>-0.246001</td>\n",
              "      <td>0</td>\n",
              "      <td>0</td>\n",
              "      <td>0</td>\n",
              "    </tr>\n",
              "    <tr>\n",
              "      <th>5789</th>\n",
              "      <td>0.387107</td>\n",
              "      <td>1.534377</td>\n",
              "      <td>1</td>\n",
              "      <td>0.000856</td>\n",
              "      <td>1</td>\n",
              "      <td>1</td>\n",
              "      <td>0</td>\n",
              "      <td>-1.006993</td>\n",
              "      <td>0</td>\n",
              "      <td>1</td>\n",
              "      <td>0</td>\n",
              "    </tr>\n",
              "  </tbody>\n",
              "</table>\n",
              "</div>"
            ],
            "text/plain": [
              "      creditscore       age  tenure  ...  Male  Germany  Spain\n",
              "8588     0.626553 -0.948125       7  ...     0        0      1\n",
              "3178    -1.143262  0.006684       4  ...     0        0      0\n",
              "5200    -1.455583  0.293126       9  ...     1        1      0\n",
              "8889    -0.747657  0.006684       9  ...     0        0      0\n",
              "5789     0.387107  1.534377       1  ...     0        1      0\n",
              "\n",
              "[5 rows x 11 columns]"
            ]
          },
          "metadata": {
            "tags": []
          },
          "execution_count": 25
        }
      ]
    },
    {
      "cell_type": "markdown",
      "metadata": {
        "id": "0HKws3zvEJIN"
      },
      "source": [
        "Let's apply a trained scaller to the validation set"
      ]
    },
    {
      "cell_type": "code",
      "metadata": {
        "colab": {
          "base_uri": "https://localhost:8080/",
          "height": 224
        },
        "id": "lGf7249TDx_k",
        "outputId": "e5921416-4459-4c46-8ffa-fd8f5573f273"
      },
      "source": [
        "features_valid[numeric] = scaler.transform(features_valid[numeric])\n",
        "features_valid.head()"
      ],
      "execution_count": 26,
      "outputs": [
        {
          "output_type": "execute_result",
          "data": {
            "text/html": [
              "<div>\n",
              "<style scoped>\n",
              "    .dataframe tbody tr th:only-of-type {\n",
              "        vertical-align: middle;\n",
              "    }\n",
              "\n",
              "    .dataframe tbody tr th {\n",
              "        vertical-align: top;\n",
              "    }\n",
              "\n",
              "    .dataframe thead th {\n",
              "        text-align: right;\n",
              "    }\n",
              "</style>\n",
              "<table border=\"1\" class=\"dataframe\">\n",
              "  <thead>\n",
              "    <tr style=\"text-align: right;\">\n",
              "      <th></th>\n",
              "      <th>creditscore</th>\n",
              "      <th>age</th>\n",
              "      <th>tenure</th>\n",
              "      <th>balance</th>\n",
              "      <th>num_of_products</th>\n",
              "      <th>has_crcard</th>\n",
              "      <th>isactive_member</th>\n",
              "      <th>estimated_salary</th>\n",
              "      <th>Male</th>\n",
              "      <th>Germany</th>\n",
              "      <th>Spain</th>\n",
              "    </tr>\n",
              "  </thead>\n",
              "  <tbody>\n",
              "    <tr>\n",
              "      <th>6252</th>\n",
              "      <td>-0.581086</td>\n",
              "      <td>-0.661682</td>\n",
              "      <td>3</td>\n",
              "      <td>0.327195</td>\n",
              "      <td>2</td>\n",
              "      <td>0</td>\n",
              "      <td>0</td>\n",
              "      <td>-1.017034</td>\n",
              "      <td>1</td>\n",
              "      <td>1</td>\n",
              "      <td>0</td>\n",
              "    </tr>\n",
              "    <tr>\n",
              "      <th>4684</th>\n",
              "      <td>-0.299998</td>\n",
              "      <td>0.388607</td>\n",
              "      <td>1</td>\n",
              "      <td>-1.218934</td>\n",
              "      <td>2</td>\n",
              "      <td>1</td>\n",
              "      <td>1</td>\n",
              "      <td>0.805136</td>\n",
              "      <td>1</td>\n",
              "      <td>0</td>\n",
              "      <td>0</td>\n",
              "    </tr>\n",
              "    <tr>\n",
              "      <th>1731</th>\n",
              "      <td>-0.529032</td>\n",
              "      <td>0.484088</td>\n",
              "      <td>4</td>\n",
              "      <td>-1.218934</td>\n",
              "      <td>2</td>\n",
              "      <td>1</td>\n",
              "      <td>0</td>\n",
              "      <td>-0.724818</td>\n",
              "      <td>0</td>\n",
              "      <td>0</td>\n",
              "      <td>1</td>\n",
              "    </tr>\n",
              "    <tr>\n",
              "      <th>4742</th>\n",
              "      <td>-1.518047</td>\n",
              "      <td>1.916301</td>\n",
              "      <td>8</td>\n",
              "      <td>0.686002</td>\n",
              "      <td>2</td>\n",
              "      <td>1</td>\n",
              "      <td>1</td>\n",
              "      <td>1.228495</td>\n",
              "      <td>1</td>\n",
              "      <td>1</td>\n",
              "      <td>0</td>\n",
              "    </tr>\n",
              "    <tr>\n",
              "      <th>4521</th>\n",
              "      <td>-0.955870</td>\n",
              "      <td>-1.139087</td>\n",
              "      <td>7</td>\n",
              "      <td>0.779430</td>\n",
              "      <td>1</td>\n",
              "      <td>1</td>\n",
              "      <td>1</td>\n",
              "      <td>0.252697</td>\n",
              "      <td>0</td>\n",
              "      <td>0</td>\n",
              "      <td>1</td>\n",
              "    </tr>\n",
              "  </tbody>\n",
              "</table>\n",
              "</div>"
            ],
            "text/plain": [
              "      creditscore       age  tenure  ...  Male  Germany  Spain\n",
              "6252    -0.581086 -0.661682       3  ...     1        1      0\n",
              "4684    -0.299998  0.388607       1  ...     1        0      0\n",
              "1731    -0.529032  0.484088       4  ...     0        0      1\n",
              "4742    -1.518047  1.916301       8  ...     1        1      0\n",
              "4521    -0.955870 -1.139087       7  ...     0        0      1\n",
              "\n",
              "[5 rows x 11 columns]"
            ]
          },
          "metadata": {
            "tags": []
          },
          "execution_count": 26
        }
      ]
    },
    {
      "cell_type": "markdown",
      "metadata": {
        "id": "v0JrOGKDETL7"
      },
      "source": [
        "Let's apply a trained scaller to the test set"
      ]
    },
    {
      "cell_type": "code",
      "metadata": {
        "colab": {
          "base_uri": "https://localhost:8080/",
          "height": 224
        },
        "id": "3sLuclFMD63u",
        "outputId": "acc43784-a3a5-4aa2-e984-b39de494f4f5"
      },
      "source": [
        "features_test[numeric] = scaler.transform(features_test[numeric])\n",
        "features_test.head()"
      ],
      "execution_count": 27,
      "outputs": [
        {
          "output_type": "execute_result",
          "data": {
            "text/html": [
              "<div>\n",
              "<style scoped>\n",
              "    .dataframe tbody tr th:only-of-type {\n",
              "        vertical-align: middle;\n",
              "    }\n",
              "\n",
              "    .dataframe tbody tr th {\n",
              "        vertical-align: top;\n",
              "    }\n",
              "\n",
              "    .dataframe thead th {\n",
              "        text-align: right;\n",
              "    }\n",
              "</style>\n",
              "<table border=\"1\" class=\"dataframe\">\n",
              "  <thead>\n",
              "    <tr style=\"text-align: right;\">\n",
              "      <th></th>\n",
              "      <th>creditscore</th>\n",
              "      <th>age</th>\n",
              "      <th>tenure</th>\n",
              "      <th>balance</th>\n",
              "      <th>num_of_products</th>\n",
              "      <th>has_crcard</th>\n",
              "      <th>isactive_member</th>\n",
              "      <th>estimated_salary</th>\n",
              "      <th>Male</th>\n",
              "      <th>Germany</th>\n",
              "      <th>Spain</th>\n",
              "    </tr>\n",
              "  </thead>\n",
              "  <tbody>\n",
              "    <tr>\n",
              "      <th>3188</th>\n",
              "      <td>1.553103</td>\n",
              "      <td>-0.661682</td>\n",
              "      <td>4</td>\n",
              "      <td>-0.017150</td>\n",
              "      <td>1</td>\n",
              "      <td>1</td>\n",
              "      <td>1</td>\n",
              "      <td>-1.084803</td>\n",
              "      <td>0</td>\n",
              "      <td>0</td>\n",
              "      <td>0</td>\n",
              "    </tr>\n",
              "    <tr>\n",
              "      <th>8293</th>\n",
              "      <td>1.188729</td>\n",
              "      <td>-1.043606</td>\n",
              "      <td>4</td>\n",
              "      <td>0.231074</td>\n",
              "      <td>1</td>\n",
              "      <td>0</td>\n",
              "      <td>1</td>\n",
              "      <td>-1.368802</td>\n",
              "      <td>0</td>\n",
              "      <td>1</td>\n",
              "      <td>0</td>\n",
              "    </tr>\n",
              "    <tr>\n",
              "      <th>1710</th>\n",
              "      <td>1.834191</td>\n",
              "      <td>-1.043606</td>\n",
              "      <td>8</td>\n",
              "      <td>0.935642</td>\n",
              "      <td>1</td>\n",
              "      <td>1</td>\n",
              "      <td>0</td>\n",
              "      <td>-0.362538</td>\n",
              "      <td>1</td>\n",
              "      <td>0</td>\n",
              "      <td>1</td>\n",
              "    </tr>\n",
              "    <tr>\n",
              "      <th>7510</th>\n",
              "      <td>1.521871</td>\n",
              "      <td>-0.279759</td>\n",
              "      <td>1</td>\n",
              "      <td>-1.218934</td>\n",
              "      <td>2</td>\n",
              "      <td>1</td>\n",
              "      <td>1</td>\n",
              "      <td>1.025781</td>\n",
              "      <td>1</td>\n",
              "      <td>0</td>\n",
              "      <td>0</td>\n",
              "    </tr>\n",
              "    <tr>\n",
              "      <th>1461</th>\n",
              "      <td>-0.424926</td>\n",
              "      <td>-0.470721</td>\n",
              "      <td>4</td>\n",
              "      <td>-1.218934</td>\n",
              "      <td>2</td>\n",
              "      <td>1</td>\n",
              "      <td>0</td>\n",
              "      <td>1.233214</td>\n",
              "      <td>1</td>\n",
              "      <td>0</td>\n",
              "      <td>1</td>\n",
              "    </tr>\n",
              "  </tbody>\n",
              "</table>\n",
              "</div>"
            ],
            "text/plain": [
              "      creditscore       age  tenure  ...  Male  Germany  Spain\n",
              "3188     1.553103 -0.661682       4  ...     0        0      0\n",
              "8293     1.188729 -1.043606       4  ...     0        1      0\n",
              "1710     1.834191 -1.043606       8  ...     1        0      1\n",
              "7510     1.521871 -0.279759       1  ...     1        0      0\n",
              "1461    -0.424926 -0.470721       4  ...     1        0      1\n",
              "\n",
              "[5 rows x 11 columns]"
            ]
          },
          "metadata": {
            "tags": []
          },
          "execution_count": 27
        }
      ]
    },
    {
      "cell_type": "markdown",
      "metadata": {
        "id": "AdmRuLFJBlBD"
      },
      "source": [
        "### Trial training of models without considering class imbalance"
      ]
    },
    {
      "cell_type": "markdown",
      "metadata": {
        "id": "KXnZKx0WBlBD"
      },
      "source": [
        "#### Logistic regression"
      ]
    },
    {
      "cell_type": "markdown",
      "metadata": {
        "id": "HULjf__0BlBD"
      },
      "source": [
        "Let's start with basic logistic regression. We do not indicate the weight of the classes"
      ]
    },
    {
      "cell_type": "code",
      "metadata": {
        "colab": {
          "base_uri": "https://localhost:8080/"
        },
        "id": "FbxhaPthBlBD",
        "outputId": "1cf936be-6b41-45b4-9859-2b5e998ee4d6"
      },
      "source": [
        "model = LogisticRegression(random_state=42, solver='liblinear')\n",
        "model.fit(features_train, target_train)\n",
        "predicted_valid = model.predict(features_valid)\n",
        "print(\"F1:\", f1_score(target_valid, predicted_valid))"
      ],
      "execution_count": 28,
      "outputs": [
        {
          "output_type": "stream",
          "text": [
            "F1: 0.29158878504672897\n"
          ],
          "name": "stdout"
        }
      ]
    },
    {
      "cell_type": "markdown",
      "metadata": {
        "id": "dvCo4YtuBlBD"
      },
      "source": [
        "\n",
        "Poor enough indicator. Let's try to specify `class_weight = 'balanced' '"
      ]
    },
    {
      "cell_type": "code",
      "metadata": {
        "colab": {
          "base_uri": "https://localhost:8080/"
        },
        "id": "LxMotO4RBlBE",
        "outputId": "314de04f-10a9-490c-9d4d-1935f453de76"
      },
      "source": [
        "model = LogisticRegression(random_state=42, solver='liblinear', class_weight='balanced')\n",
        "model.fit(features_train, target_train)\n",
        "predicted_valid = model.predict(features_valid)\n",
        "print(\"F1:\", f1_score(target_valid, predicted_valid))"
      ],
      "execution_count": 29,
      "outputs": [
        {
          "output_type": "stream",
          "text": [
            "F1: 0.5066904549509367\n"
          ],
          "name": "stdout"
        }
      ]
    },
    {
      "cell_type": "markdown",
      "metadata": {
        "id": "KUKGnVAcBlBE"
      },
      "source": [
        "Better now. At this stage, we will not select the hyperparameters, we will move on to the next algorithm"
      ]
    },
    {
      "cell_type": "markdown",
      "metadata": {
        "id": "odBPdiJCBlBE"
      },
      "source": [
        "#### Random forest"
      ]
    },
    {
      "cell_type": "code",
      "metadata": {
        "colab": {
          "base_uri": "https://localhost:8080/"
        },
        "id": "Crwx3_GlBlBE",
        "outputId": "4f864aa1-4a31-4d9d-9a1b-a5716da25c0f"
      },
      "source": [
        "model = RandomForestClassifier(random_state=42, n_estimators=10)\n",
        "model.fit(features_train, target_train)\n",
        "predicted_valid = model.predict(features_valid)\n",
        "print(\"F1:\", f1_score(target_valid, predicted_valid))"
      ],
      "execution_count": 30,
      "outputs": [
        {
          "output_type": "stream",
          "text": [
            "F1: 0.5305466237942122\n"
          ],
          "name": "stdout"
        }
      ]
    },
    {
      "cell_type": "markdown",
      "metadata": {
        "id": "LA4JKci-BlBE"
      },
      "source": [
        "The random forest did better in terms of class imbalance. Similar to logistic regression, let's try setting the `class_weight` parameter"
      ]
    },
    {
      "cell_type": "code",
      "metadata": {
        "colab": {
          "base_uri": "https://localhost:8080/"
        },
        "id": "AGHK87iNBlBE",
        "outputId": "449273d0-fc68-43ec-d071-aa8ff9408c8d"
      },
      "source": [
        "model = RandomForestClassifier(random_state=42, n_estimators=10, class_weight='balanced')\n",
        "model.fit(features_train, target_train)\n",
        "predicted_valid = model.predict(features_valid)\n",
        "print(\"F1:\", f1_score(target_valid, predicted_valid))"
      ],
      "execution_count": 31,
      "outputs": [
        {
          "output_type": "stream",
          "text": [
            "F1: 0.5016393442622952\n"
          ],
          "name": "stdout"
        }
      ]
    },
    {
      "cell_type": "markdown",
      "metadata": {
        "id": "bR3h35gdBlBE"
      },
      "source": [
        "The indicator has worsened. also now we will not change the hyperparameters, we will return to this after we fix the imbalance problem"
      ]
    },
    {
      "cell_type": "markdown",
      "metadata": {
        "id": "hSFDixdQBlBE"
      },
      "source": [
        "#### Catboost"
      ]
    },
    {
      "cell_type": "code",
      "metadata": {
        "colab": {
          "base_uri": "https://localhost:8080/"
        },
        "id": "81EI8qtcBlBF",
        "outputId": "439de96a-ccb4-42ee-85b0-df4861d77051"
      },
      "source": [
        "model = CatBoostClassifier(verbose=100, random_state=42)\n",
        "model.fit(features_train, target_train)\n",
        "predicted_valid = model.predict(features_valid)\n",
        "print(\"F1:\", f1_score(target_valid, predicted_valid))"
      ],
      "execution_count": 32,
      "outputs": [
        {
          "output_type": "stream",
          "text": [
            "Learning rate set to 0.022141\n",
            "0:\tlearn: 0.6745639\ttotal: 51.8ms\tremaining: 51.8s\n",
            "100:\tlearn: 0.3380760\ttotal: 419ms\tremaining: 3.73s\n",
            "200:\tlearn: 0.3124092\ttotal: 790ms\tremaining: 3.14s\n",
            "300:\tlearn: 0.2985487\ttotal: 1.15s\tremaining: 2.67s\n",
            "400:\tlearn: 0.2858427\ttotal: 1.5s\tremaining: 2.24s\n",
            "500:\tlearn: 0.2734469\ttotal: 1.85s\tremaining: 1.85s\n",
            "600:\tlearn: 0.2629092\ttotal: 2.21s\tremaining: 1.47s\n",
            "700:\tlearn: 0.2533047\ttotal: 2.56s\tremaining: 1.09s\n",
            "800:\tlearn: 0.2443376\ttotal: 2.94s\tremaining: 731ms\n",
            "900:\tlearn: 0.2356826\ttotal: 3.29s\tremaining: 362ms\n",
            "999:\tlearn: 0.2274841\ttotal: 3.65s\tremaining: 0us\n",
            "F1: 0.5950920245398773\n"
          ],
          "name": "stdout"
        }
      ]
    },
    {
      "cell_type": "markdown",
      "metadata": {
        "id": "8IML3MLyBlBF"
      },
      "source": [
        "F1 is a fairly high measure, let's look at the results after we select the hyperparameters and test the model on a test sample"
      ]
    },
    {
      "cell_type": "markdown",
      "metadata": {
        "id": "GgDLmtP1BlBF"
      },
      "source": [
        "### Conclusion"
      ]
    },
    {
      "cell_type": "markdown",
      "metadata": {
        "id": "HDy2Z5vmBlBF"
      },
      "source": [
        "We are faced with the task of classification. In order to improve the forecasting results and facilitate the training of the model, we have transformed the data:\n",
        "\n",
        "- removed unnecessary features - such as surname, customer id and line number\n",
        "- carried out coding of categorical variables\n",
        "- carried out scaling of quantitative variables\n",
        "- divided the samples in a ratio of 60%: 20%: 20% - training, validation for the selection of hyperparameters and model verification, test - for the final model verification and evaluation\n",
        "\n",
        "We tried to train the models on objects with class imbalance. Now let's try to get rid of this problem, select the model hyperparameters."
      ]
    },
    {
      "cell_type": "markdown",
      "metadata": {
        "id": "uD-i-lRdBlBF"
      },
      "source": [
        "## Dealing with imbalances and improving models"
      ]
    },
    {
      "cell_type": "markdown",
      "metadata": {
        "id": "eVC3PFMJBlBF"
      },
      "source": [
        "Classes are not represented in the same way in our problem, let's look again:"
      ]
    },
    {
      "cell_type": "code",
      "metadata": {
        "colab": {
          "base_uri": "https://localhost:8080/",
          "height": 111
        },
        "id": "his-n0s4BlBF",
        "outputId": "63494028-a593-4049-a993-00de14f99c0a"
      },
      "source": [
        "df['exited'].value_counts().to_frame()"
      ],
      "execution_count": 33,
      "outputs": [
        {
          "output_type": "execute_result",
          "data": {
            "text/html": [
              "<div>\n",
              "<style scoped>\n",
              "    .dataframe tbody tr th:only-of-type {\n",
              "        vertical-align: middle;\n",
              "    }\n",
              "\n",
              "    .dataframe tbody tr th {\n",
              "        vertical-align: top;\n",
              "    }\n",
              "\n",
              "    .dataframe thead th {\n",
              "        text-align: right;\n",
              "    }\n",
              "</style>\n",
              "<table border=\"1\" class=\"dataframe\">\n",
              "  <thead>\n",
              "    <tr style=\"text-align: right;\">\n",
              "      <th></th>\n",
              "      <th>exited</th>\n",
              "    </tr>\n",
              "  </thead>\n",
              "  <tbody>\n",
              "    <tr>\n",
              "      <th>0</th>\n",
              "      <td>7963</td>\n",
              "    </tr>\n",
              "    <tr>\n",
              "      <th>1</th>\n",
              "      <td>2037</td>\n",
              "    </tr>\n",
              "  </tbody>\n",
              "</table>\n",
              "</div>"
            ],
            "text/plain": [
              "   exited\n",
              "0    7963\n",
              "1    2037"
            ]
          },
          "metadata": {
            "tags": []
          },
          "execution_count": 33
        }
      ]
    },
    {
      "cell_type": "markdown",
      "metadata": {
        "id": "4yx64HseBlBF"
      },
      "source": [
        "Let's try to solve this problem in three ways. We will choose the best one and use it to improve our model."
      ]
    },
    {
      "cell_type": "markdown",
      "metadata": {
        "id": "h1Yl5qXbBlBG"
      },
      "source": [
        "### Upsampling"
      ]
    },
    {
      "cell_type": "markdown",
      "metadata": {
        "id": "x1BdjWZABlBG"
      },
      "source": [
        "To do this, let's use a function that performs the following transformations:\n",
        "\n",
        "- divide the training sample into negative and positive objects\n",
        "- copy positive objects several times\n",
        "- taking into account the received data, we will create a new training sample\n",
        "- shuffle the data "
      ]
    },
    {
      "cell_type": "code",
      "metadata": {
        "colab": {
          "base_uri": "https://localhost:8080/"
        },
        "id": "eHe58QxZBlBG",
        "outputId": "1e8b5a44-3e66-441b-e4f9-50694fd0b034"
      },
      "source": [
        "def upsample(features, target, repeat):\n",
        "    \n",
        "    features_zeros = features[target == 0]\n",
        "    features_ones = features[target == 1]\n",
        "    target_zeros = target[target == 0]\n",
        "    target_ones = target[target == 1]\n",
        "    \n",
        "    features_upsampled = pd.concat([features_zeros] + [features_ones] * repeat)\n",
        "    target_upsampled = pd.concat([target_zeros] + [target_ones] * repeat)\n",
        "    \n",
        "    features_upsampled = shuffle(features_upsampled, random_state=12345)\n",
        "    target_upsampled = shuffle(target_upsampled, random_state=12345)\n",
        "    \n",
        "    return features_upsampled, target_upsampled\n",
        "\n",
        "    \n",
        "    \n",
        "features_upsampled, target_upsampled = upsample(features_train, target_train, 5)\n",
        "\n",
        "print(features_upsampled.shape)\n",
        "print(target_upsampled.shape)"
      ],
      "execution_count": 34,
      "outputs": [
        {
          "output_type": "stream",
          "text": [
            "(10924, 11)\n",
            "(10924,)\n"
          ],
          "name": "stdout"
        }
      ]
    },
    {
      "cell_type": "markdown",
      "metadata": {
        "id": "SLkcDntjBlBG"
      },
      "source": [
        "#### Logistic regression"
      ]
    },
    {
      "cell_type": "code",
      "metadata": {
        "colab": {
          "base_uri": "https://localhost:8080/"
        },
        "id": "DNl3pmNPBlBG",
        "outputId": "c9b769da-193b-4fd2-b535-11f31ddb7538"
      },
      "source": [
        "model = LogisticRegression(random_state=42, solver='liblinear')\n",
        "model.fit(features_upsampled, target_upsampled)\n",
        "predicted_valid = model.predict(features_valid)\n",
        "print(\"F1:\", f1_score(target_valid, predicted_valid))"
      ],
      "execution_count": 35,
      "outputs": [
        {
          "output_type": "stream",
          "text": [
            "F1: 0.46636085626911317\n"
          ],
          "name": "stdout"
        }
      ]
    },
    {
      "cell_type": "markdown",
      "metadata": {
        "id": "cjA8YqcGBlBG"
      },
      "source": [
        "We observe a slight increase in the metric, close to the one we got by specifying the `class_weight` parameter"
      ]
    },
    {
      "cell_type": "markdown",
      "metadata": {
        "id": "tkigeebsBlBG"
      },
      "source": [
        "#### Random Forest"
      ]
    },
    {
      "cell_type": "code",
      "metadata": {
        "colab": {
          "base_uri": "https://localhost:8080/"
        },
        "id": "Sx0RVnK5BlBG",
        "outputId": "bf8ba510-0ef7-4f9f-8670-754c874d64f2"
      },
      "source": [
        "model = RandomForestClassifier(random_state=42, n_estimators=10)\n",
        "model.fit(features_upsampled, target_upsampled)\n",
        "predicted_valid = model.predict(features_valid)\n",
        "print(\"F1:\", f1_score(target_valid, predicted_valid))"
      ],
      "execution_count": 36,
      "outputs": [
        {
          "output_type": "stream",
          "text": [
            "F1: 0.5433854907539117\n"
          ],
          "name": "stdout"
        }
      ]
    },
    {
      "cell_type": "markdown",
      "metadata": {
        "id": "wyASaWyOBlBH"
      },
      "source": [
        "There is also an improvement here"
      ]
    },
    {
      "cell_type": "markdown",
      "metadata": {
        "id": "LHTtRPWmBlBH"
      },
      "source": [
        "#### Catboost"
      ]
    },
    {
      "cell_type": "code",
      "metadata": {
        "colab": {
          "base_uri": "https://localhost:8080/"
        },
        "id": "ZeaRIsNGBlBH",
        "outputId": "573b00cd-1e59-494e-f4a8-ddff5a3387bd"
      },
      "source": [
        "model = CatBoostClassifier(verbose=100, random_state=42)\n",
        "model.fit(features_upsampled, target_upsampled)\n",
        "predicted_valid = model.predict(features_valid)\n",
        "print(\"F1:\", f1_score(target_valid, predicted_valid))"
      ],
      "execution_count": 37,
      "outputs": [
        {
          "output_type": "stream",
          "text": [
            "Learning rate set to 0.028597\n",
            "0:\tlearn: 0.6778999\ttotal: 6.98ms\tremaining: 6.97s\n",
            "100:\tlearn: 0.4288946\ttotal: 710ms\tremaining: 6.32s\n",
            "200:\tlearn: 0.3911498\ttotal: 1.39s\tremaining: 5.53s\n",
            "300:\tlearn: 0.3633346\ttotal: 2.04s\tremaining: 4.73s\n",
            "400:\tlearn: 0.3380128\ttotal: 2.69s\tremaining: 4.01s\n",
            "500:\tlearn: 0.3152383\ttotal: 3.33s\tremaining: 3.31s\n",
            "600:\tlearn: 0.2957510\ttotal: 3.96s\tremaining: 2.63s\n",
            "700:\tlearn: 0.2779148\ttotal: 4.63s\tremaining: 1.98s\n",
            "800:\tlearn: 0.2619604\ttotal: 5.28s\tremaining: 1.31s\n",
            "900:\tlearn: 0.2474926\ttotal: 5.94s\tremaining: 653ms\n",
            "999:\tlearn: 0.2337266\ttotal: 6.56s\tremaining: 0us\n",
            "F1: 0.6117647058823529\n"
          ],
          "name": "stdout"
        }
      ]
    },
    {
      "cell_type": "markdown",
      "metadata": {
        "id": "lJyG0lz2BlBH"
      },
      "source": [
        "Catboost Shows Better Results Again On Validation Set\n",
        "\n",
        "Let's try another way - decreasing the sample"
      ]
    },
    {
      "cell_type": "markdown",
      "metadata": {
        "id": "M7nnkB6bBlBH"
      },
      "source": [
        "### Downsampling"
      ]
    },
    {
      "cell_type": "markdown",
      "metadata": {
        "id": "O9ZynFToBlBH"
      },
      "source": [
        "To do this, let's use a function that performs the following transformations:\n",
        "\n",
        "- divide the training sample into negative and positive objects\n",
        "- randomly discard some of the negative objects\n",
        "- taking into account the received data, we will create a new training sample\n",
        "- shuffle the data"
      ]
    },
    {
      "cell_type": "code",
      "metadata": {
        "colab": {
          "base_uri": "https://localhost:8080/"
        },
        "id": "J_W6H9mXBlBH",
        "outputId": "df2aa859-85c1-4352-e1f5-a791cacf0752"
      },
      "source": [
        "def downsample(features, target, fraction):\n",
        "    features_zeros = features[target == 0]\n",
        "    features_ones = features[target == 1]\n",
        "    target_zeros = target[target == 0]\n",
        "    target_ones = target[target == 1]\n",
        "\n",
        "    features_sample = features_zeros.sample(frac=0.1, random_state=12345)\n",
        "    target_sample = target_zeros.sample(frac=0.1, random_state=12345)\n",
        "    \n",
        "    features_downsampled = pd.concat([features_sample] + [features_ones])\n",
        "    target_downsampled = pd.concat([target_sample] + [target_ones])\n",
        "    \n",
        "    features_downsampled = shuffle(features_downsampled, random_state=12345)\n",
        "    target_downsampled = shuffle(target_downsampled, random_state=12345)\n",
        "    \n",
        "\n",
        "    \n",
        "    return features_downsampled, target_downsampled\n",
        "\n",
        "features_downsampled, target_downsampled = downsample(features_train, target_train, 0.1)\n",
        "\n",
        "print(features_downsampled.shape)\n",
        "print(target_downsampled.shape)"
      ],
      "execution_count": 38,
      "outputs": [
        {
          "output_type": "stream",
          "text": [
            "(1708, 11)\n",
            "(1708,)\n"
          ],
          "name": "stdout"
        }
      ]
    },
    {
      "cell_type": "markdown",
      "metadata": {
        "id": "3x4qKBGaBlBH"
      },
      "source": [
        "\n",
        "#### Logistic regression"
      ]
    },
    {
      "cell_type": "code",
      "metadata": {
        "colab": {
          "base_uri": "https://localhost:8080/"
        },
        "id": "duKDZ9RMBlBH",
        "outputId": "eb67ada6-3eca-408f-b09e-f2bfe1cc1d5e"
      },
      "source": [
        "model = LogisticRegression(random_state=42, solver='liblinear')\n",
        "model.fit(features_downsampled, target_downsampled)\n",
        "predicted_valid = model.predict(features_valid)\n",
        "print(\"F1:\", f1_score(target_valid, predicted_valid))"
      ],
      "execution_count": 39,
      "outputs": [
        {
          "output_type": "stream",
          "text": [
            "F1: 0.3993471164309031\n"
          ],
          "name": "stdout"
        }
      ]
    },
    {
      "cell_type": "markdown",
      "metadata": {
        "id": "AY1w6U6zBlBI"
      },
      "source": [
        "#### Random forest"
      ]
    },
    {
      "cell_type": "code",
      "metadata": {
        "colab": {
          "base_uri": "https://localhost:8080/"
        },
        "id": "yZMUo3b0BlBI",
        "outputId": "df5b5e1d-3c0b-44db-f54f-26a49a883ca6"
      },
      "source": [
        "model = RandomForestClassifier(random_state=42, n_estimators=10)\n",
        "model.fit(features_downsampled, target_downsampled)\n",
        "predicted_valid = model.predict(features_valid)\n",
        "print(\"F1:\", f1_score(target_valid, predicted_valid))"
      ],
      "execution_count": 40,
      "outputs": [
        {
          "output_type": "stream",
          "text": [
            "F1: 0.4709851551956815\n"
          ],
          "name": "stdout"
        }
      ]
    },
    {
      "cell_type": "markdown",
      "metadata": {
        "id": "p2vGnJPeBlBI"
      },
      "source": [
        "#### Catboost"
      ]
    },
    {
      "cell_type": "code",
      "metadata": {
        "colab": {
          "base_uri": "https://localhost:8080/"
        },
        "id": "Tof6g0-KBlBI",
        "outputId": "c4a434b1-7411-4f03-c84e-926564dc173a"
      },
      "source": [
        "model = CatBoostClassifier(verbose=100, random_state=42)\n",
        "model.fit(features_downsampled, target_downsampled)\n",
        "predicted_valid = model.predict(features_valid)\n",
        "print(\"F1:\", f1_score(target_valid, predicted_valid))\n",
        "\n"
      ],
      "execution_count": 41,
      "outputs": [
        {
          "output_type": "stream",
          "text": [
            "Learning rate set to 0.012948\n",
            "0:\tlearn: 0.6839809\ttotal: 2.16ms\tremaining: 2.16s\n",
            "100:\tlearn: 0.4169559\ttotal: 208ms\tremaining: 1.85s\n",
            "200:\tlearn: 0.3696090\ttotal: 402ms\tremaining: 1.6s\n",
            "300:\tlearn: 0.3412463\ttotal: 597ms\tremaining: 1.39s\n",
            "400:\tlearn: 0.3209387\ttotal: 805ms\tremaining: 1.2s\n",
            "500:\tlearn: 0.3017706\ttotal: 1s\tremaining: 1s\n",
            "600:\tlearn: 0.2846238\ttotal: 1.21s\tremaining: 803ms\n",
            "700:\tlearn: 0.2681526\ttotal: 1.4s\tremaining: 598ms\n",
            "800:\tlearn: 0.2526159\ttotal: 1.6s\tremaining: 397ms\n",
            "900:\tlearn: 0.2378979\ttotal: 1.79s\tremaining: 197ms\n",
            "999:\tlearn: 0.2235077\ttotal: 1.99s\tremaining: 0us\n",
            "F1: 0.47213114754098356\n"
          ],
          "name": "stdout"
        }
      ]
    },
    {
      "cell_type": "markdown",
      "metadata": {
        "id": "85LNO44iBlBI"
      },
      "source": [
        "`Downsampling` shows worse results than` upsampling` for all three algorithms.\n",
        "\n",
        "Let's try changing the threshold and see what the metrics will be - this time we'll turn to `recall` and` precision`"
      ]
    },
    {
      "cell_type": "markdown",
      "metadata": {
        "id": "5F1k7Lg-BlBI"
      },
      "source": [
        "### Change threshold"
      ]
    },
    {
      "cell_type": "markdown",
      "metadata": {
        "id": "PagerJKeBlBI"
      },
      "source": [
        "For convenience, we will translate the proximity to the classes into the probability of classes (we have two classes - 0 and 1). The probability of class \"1\" is enough for us. By default it is equal to 0.5 - let's try different parameters, for example, up to 0.95"
      ]
    },
    {
      "cell_type": "markdown",
      "metadata": {
        "id": "i5FPaB4SBlBI"
      },
      "source": [
        "#### Logistic regression"
      ]
    },
    {
      "cell_type": "code",
      "metadata": {
        "colab": {
          "base_uri": "https://localhost:8080/",
          "height": 944
        },
        "id": "8Afk3GesBlBI",
        "outputId": "3e4878a7-5bf4-4ad2-fbb5-ecd8aef3b22d"
      },
      "source": [
        "model = LogisticRegression(random_state=42, solver='liblinear')\n",
        "model.fit(features_train, target_train)\n",
        "probabilities_valid = model.predict_proba(features_valid)\n",
        "probabilities_one_valid = probabilities_valid[:, 1]\n",
        "\n",
        "for threshold in np.arange(0, 0.95, 0.05):\n",
        "    predicted_valid = probabilities_one_valid > threshold\n",
        "    precision = precision_score(target_valid, predicted_valid)\n",
        "    recall = recall_score(target_valid, predicted_valid)\n",
        "    f1 = f1_score(target_valid, predicted_valid)\n",
        "    print(\"Threshold = {:.2f} | Precision = {:.3f}, Recall = {:.3f} | F1-score = {:.3f}\".format(\n",
        "        threshold, precision, recall, f1))\n",
        "\n",
        "precision, recall, thresholds = precision_recall_curve(target_valid, probabilities_valid[:, 1])    \n",
        "plt.figure(figsize=(10, 10))\n",
        "plt.step(recall, precision, where='post')\n",
        "plt.xlabel('Recall')\n",
        "plt.ylabel('Precision')\n",
        "plt.ylim([0.0, 1.05])\n",
        "plt.xlim([0.0, 1.0])\n",
        "plt.title('PR curve')\n",
        "plt.show() "
      ],
      "execution_count": 42,
      "outputs": [
        {
          "output_type": "stream",
          "text": [
            "Threshold = 0.00 | Precision = 0.197, Recall = 1.000 | F1-score = 0.328\n",
            "Threshold = 0.05 | Precision = 0.213, Recall = 0.982 | F1-score = 0.350\n",
            "Threshold = 0.10 | Precision = 0.258, Recall = 0.924 | F1-score = 0.404\n",
            "Threshold = 0.15 | Precision = 0.308, Recall = 0.832 | F1-score = 0.450\n",
            "Threshold = 0.20 | Precision = 0.375, Recall = 0.730 | F1-score = 0.496\n",
            "Threshold = 0.25 | Precision = 0.418, Recall = 0.618 | F1-score = 0.499\n",
            "Threshold = 0.30 | Precision = 0.482, Recall = 0.519 | F1-score = 0.500\n",
            "Threshold = 0.35 | Precision = 0.517, Recall = 0.433 | F1-score = 0.471\n",
            "Threshold = 0.40 | Precision = 0.542, Recall = 0.331 | F1-score = 0.411\n",
            "Threshold = 0.45 | Precision = 0.543, Recall = 0.254 | F1-score = 0.347\n",
            "Threshold = 0.50 | Precision = 0.549, Recall = 0.198 | F1-score = 0.292\n",
            "Threshold = 0.55 | Precision = 0.632, Recall = 0.153 | F1-score = 0.246\n",
            "Threshold = 0.60 | Precision = 0.657, Recall = 0.117 | F1-score = 0.199\n",
            "Threshold = 0.65 | Precision = 0.609, Recall = 0.071 | F1-score = 0.128\n",
            "Threshold = 0.70 | Precision = 0.708, Recall = 0.043 | F1-score = 0.082\n",
            "Threshold = 0.75 | Precision = 0.714, Recall = 0.025 | F1-score = 0.049\n",
            "Threshold = 0.80 | Precision = 0.625, Recall = 0.013 | F1-score = 0.025\n",
            "Threshold = 0.85 | Precision = 0.333, Recall = 0.003 | F1-score = 0.005\n",
            "Threshold = 0.90 | Precision = 0.000, Recall = 0.000 | F1-score = 0.000\n"
          ],
          "name": "stdout"
        },
        {
          "output_type": "display_data",
          "data": {
            "image/png": "[encoded data removed]",
            "text/plain": [
              "<Figure size 720x720 with 1 Axes>"
            ]
          },
          "metadata": {
            "tags": []
          }
        }
      ]
    },
    {
      "cell_type": "markdown",
      "metadata": {
        "id": "LytUC0-xBlBJ"
      },
      "source": [
        "For a threshold of 0, the completeness is 1 - all answers are positive. At a threshold of 0.85, the model stops giving correct answers. The highest F1 value is observed with a threshold of 0.25"
      ]
    },
    {
      "cell_type": "markdown",
      "metadata": {
        "id": "SzPaDANhBlBJ"
      },
      "source": [
        "#### Random forest"
      ]
    },
    {
      "cell_type": "code",
      "metadata": {
        "colab": {
          "base_uri": "https://localhost:8080/",
          "height": 944
        },
        "id": "f31WTiwhBlBJ",
        "outputId": "68dc848a-473b-44b5-d9b5-774233ea39b4"
      },
      "source": [
        "model = RandomForestClassifier(random_state=42, n_estimators=10)\n",
        "model.fit(features_train, target_train)\n",
        "probabilities_valid = model.predict_proba(features_valid)\n",
        "probabilities_one_valid = probabilities_valid[:, 1]\n",
        "\n",
        "for threshold in np.arange(0, 0.95, 0.05):\n",
        "    predicted_valid = probabilities_one_valid > threshold\n",
        "    precision = precision_score(target_valid, predicted_valid)\n",
        "    recall = recall_score(target_valid, predicted_valid)\n",
        "    f1 = f1_score(target_valid, predicted_valid)\n",
        "    print(\"Threshold = {:.2f} | Precision = {:.3f}, Recall = {:.3f} | F1-score = {:.3f}\".format(\n",
        "        threshold, precision, recall, f1))\n",
        "\n",
        "precision, recall, thresholds = precision_recall_curve(target_valid, probabilities_valid[:, 1])    \n",
        "plt.figure(figsize=(10, 10))\n",
        "plt.step(recall, precision, where='post')\n",
        "plt.xlabel('Recall')\n",
        "plt.ylabel('Precision')\n",
        "plt.ylim([0.0, 1.05])\n",
        "plt.xlim([0.0, 1.0])\n",
        "plt.title('PR curve')\n",
        "plt.show() "
      ],
      "execution_count": 43,
      "outputs": [
        {
          "output_type": "stream",
          "text": [
            "Threshold = 0.00 | Precision = 0.276, Recall = 0.903 | F1-score = 0.423\n",
            "Threshold = 0.05 | Precision = 0.276, Recall = 0.903 | F1-score = 0.423\n",
            "Threshold = 0.10 | Precision = 0.369, Recall = 0.817 | F1-score = 0.509\n",
            "Threshold = 0.15 | Precision = 0.369, Recall = 0.817 | F1-score = 0.509\n",
            "Threshold = 0.20 | Precision = 0.461, Recall = 0.715 | F1-score = 0.560\n",
            "Threshold = 0.25 | Precision = 0.461, Recall = 0.715 | F1-score = 0.560\n",
            "Threshold = 0.30 | Precision = 0.554, Recall = 0.613 | F1-score = 0.582\n",
            "Threshold = 0.35 | Precision = 0.554, Recall = 0.613 | F1-score = 0.582\n",
            "Threshold = 0.40 | Precision = 0.629, Recall = 0.496 | F1-score = 0.555\n",
            "Threshold = 0.45 | Precision = 0.629, Recall = 0.496 | F1-score = 0.555\n",
            "Threshold = 0.50 | Precision = 0.721, Recall = 0.420 | F1-score = 0.531\n",
            "Threshold = 0.55 | Precision = 0.721, Recall = 0.420 | F1-score = 0.531\n",
            "Threshold = 0.60 | Precision = 0.775, Recall = 0.333 | F1-score = 0.466\n",
            "Threshold = 0.65 | Precision = 0.775, Recall = 0.333 | F1-score = 0.466\n",
            "Threshold = 0.70 | Precision = 0.847, Recall = 0.239 | F1-score = 0.373\n",
            "Threshold = 0.75 | Precision = 0.847, Recall = 0.239 | F1-score = 0.373\n",
            "Threshold = 0.80 | Precision = 0.927, Recall = 0.130 | F1-score = 0.228\n",
            "Threshold = 0.85 | Precision = 0.927, Recall = 0.130 | F1-score = 0.228\n",
            "Threshold = 0.90 | Precision = 0.933, Recall = 0.036 | F1-score = 0.069\n"
          ],
          "name": "stdout"
        },
        {
          "output_type": "display_data",
          "data": {
            "image/png": "[encoded data removed]",
            "text/plain": [
              "<Figure size 720x720 with 1 Axes>"
            ]
          },
          "metadata": {
            "tags": []
          }
        }
      ]
    },
    {
      "cell_type": "markdown",
      "metadata": {
        "id": "aQFroQAYBlBJ"
      },
      "source": [
        "The highest indicator is reached at a threshold of 0.2"
      ]
    },
    {
      "cell_type": "markdown",
      "metadata": {
        "id": "_jNK0dCiBlBJ"
      },
      "source": [
        "Let's choose upsampling increasing the sample. On it we will train our models and select the hyperparameters. We will not change the threshold or reduce the sample"
      ]
    },
    {
      "cell_type": "markdown",
      "metadata": {
        "id": "lFm3rrapBlBJ"
      },
      "source": [
        "### Train Models and Tuning Hyperparameters"
      ]
    },
    {
      "cell_type": "markdown",
      "metadata": {
        "id": "ShcKO72UBlBJ"
      },
      "source": [
        "We will train the model on an enlarged sample, check the parameters on a validation sample and evaluate it by the F1-measure, we will not use cross-validation for logistic regression and a random forest.\n",
        "\n",
        "The parameters will be selected through `GridSearchCV`. loop and enumeration will not be used"
      ]
    },
    {
      "cell_type": "markdown",
      "metadata": {
        "id": "1q2oi_qXBlBJ"
      },
      "source": [
        "#### Logistic regression"
      ]
    },
    {
      "cell_type": "code",
      "metadata": {
        "colab": {
          "base_uri": "https://localhost:8080/"
        },
        "id": "TKGxVFwWBlBK",
        "outputId": "11131054-1886-4d28-cbca-86a952cce452"
      },
      "source": [
        "par_grid_logist = {\n",
        "                   'intercept_scaling': [0.5, 1.0, 1.5],\n",
        "                   'class_weight': [None, 'balanced'],\n",
        "                   'C': [0.5, 1, 1.5]\n",
        "                   }\n",
        "model = LogisticRegression(solver='liblinear',random_state=42)\n",
        "\n",
        "grid_search = GridSearchCV(model, par_grid_logist, cv=5,\n",
        "                           scoring='f1')\n",
        "grid_search.fit(features_upsampled, target_upsampled)"
      ],
      "execution_count": 44,
      "outputs": [
        {
          "output_type": "execute_result",
          "data": {
            "text/plain": [
              "GridSearchCV(cv=5, error_score=nan,\n",
              "             estimator=LogisticRegression(C=1.0, class_weight=None, dual=False,\n",
              "                                          fit_intercept=True,\n",
              "                                          intercept_scaling=1, l1_ratio=None,\n",
              "                                          max_iter=100, multi_class='auto',\n",
              "                                          n_jobs=None, penalty='l2',\n",
              "                                          random_state=42, solver='liblinear',\n",
              "                                          tol=0.0001, verbose=0,\n",
              "                                          warm_start=False),\n",
              "             iid='deprecated', n_jobs=None,\n",
              "             param_grid={'C': [0.5, 1, 1.5], 'class_weight': [None, 'balanced'],\n",
              "                         'intercept_scaling': [0.5, 1.0, 1.5]},\n",
              "             pre_dispatch='2*n_jobs', refit=True, return_train_score=False,\n",
              "             scoring='f1', verbose=0)"
            ]
          },
          "metadata": {
            "tags": []
          },
          "execution_count": 44
        }
      ]
    },
    {
      "cell_type": "code",
      "metadata": {
        "colab": {
          "base_uri": "https://localhost:8080/"
        },
        "id": "AokzuulgBlBK",
        "outputId": "5c27f47a-24c4-45d8-8659-2b93d38b1e37"
      },
      "source": [
        "grid_search.best_params_"
      ],
      "execution_count": 45,
      "outputs": [
        {
          "output_type": "execute_result",
          "data": {
            "text/plain": [
              "{'C': 1.5, 'class_weight': None, 'intercept_scaling': 0.5}"
            ]
          },
          "metadata": {
            "tags": []
          },
          "execution_count": 45
        }
      ]
    },
    {
      "cell_type": "markdown",
      "metadata": {
        "id": "3DTofTPhBlBK"
      },
      "source": [
        "Let's apply our parameters and see the result:"
      ]
    },
    {
      "cell_type": "code",
      "metadata": {
        "colab": {
          "base_uri": "https://localhost:8080/"
        },
        "id": "7GuCJNZgBlBK",
        "outputId": "62dd55c9-7737-42af-8526-aa7c5506dc79"
      },
      "source": [
        "model_lreg = LogisticRegression(C=1.5, class_weight=None, intercept_scaling=0.5,\n",
        "                                solver='liblinear', random_state=42\n",
        ")\n",
        "model_lreg.fit(features_upsampled, target_upsampled)\n",
        "predicted_valid = model_lreg.predict(features_valid)\n",
        "print(\"F1:\", f1_score(target_valid, predicted_valid))\n"
      ],
      "execution_count": 46,
      "outputs": [
        {
          "output_type": "stream",
          "text": [
            "F1: 0.4670750382848391\n"
          ],
          "name": "stdout"
        }
      ]
    },
    {
      "cell_type": "markdown",
      "metadata": {
        "id": "FLQb50psBlBK"
      },
      "source": [
        "Below the threshold of 0.59, let's see how the model will behave during testing"
      ]
    },
    {
      "cell_type": "code",
      "metadata": {
        "colab": {
          "base_uri": "https://localhost:8080/",
          "height": 638
        },
        "id": "219b9RvrBlBK",
        "outputId": "9e52597a-ce95-41b3-f6a3-2ef428370e9c"
      },
      "source": [
        "probabilities_valid = model_lreg.predict_proba(features_valid)\n",
        "probabilities_one_valid = probabilities_valid[:, 1]\n",
        "\n",
        "fpr, tpr, thresholds = roc_curve(target_valid, probabilities_one_valid) \n",
        "\n",
        "plt.figure(figsize=(10, 10))\n",
        "plt.plot(fpr, tpr, linestyle='-')\n",
        "plt.plot([0, 1], [0, 1], linestyle='--')\n",
        "plt.xlim([0.0, 1.0])\n",
        "plt.ylim([0.0, 1.0])\n",
        "plt.xlabel('False Positive Rate')\n",
        "plt.ylabel('True Positive Rate')\n",
        "plt.title('ROC-curve')\n",
        "\n",
        "plt.show()\n",
        "\n",
        "auc_roc = roc_auc_score (target_valid, probabilities_one_valid)\n",
        "\n",
        "print(\"AUC:\", auc_roc)"
      ],
      "execution_count": 47,
      "outputs": [
        {
          "output_type": "display_data",
          "data": {
            "image/png": "[encoded data removed]",
            "text/plain": [
              "<Figure size 720x720 with 1 Axes>"
            ]
          },
          "metadata": {
            "tags": []
          }
        },
        {
          "output_type": "stream",
          "text": [
            "AUC: 0.7818925154104734\n"
          ],
          "name": "stdout"
        }
      ]
    },
    {
      "cell_type": "markdown",
      "metadata": {
        "id": "zXqCfj28BlBK"
      },
      "source": [
        "AUC greater than 0.5, our model is better than random"
      ]
    },
    {
      "cell_type": "markdown",
      "metadata": {
        "id": "-0rEIhj_BlBK"
      },
      "source": [
        "#### Random forest"
      ]
    },
    {
      "cell_type": "code",
      "metadata": {
        "colab": {
          "base_uri": "https://localhost:8080/"
        },
        "id": "QnHJUXonBlBL",
        "outputId": "a14c8563-0074-4f5d-f375-758da5187f89"
      },
      "source": [
        "par_grid_ensemble = {'n_estimators': [3, 10, 30],\n",
        "                     'criterion': ['gini', 'entropy'],\n",
        "                     'min_samples_split': range(5, 15)\n",
        "                    }\n",
        "model = RandomForestClassifier(random_state=42)\n",
        "\n",
        "grid_search = GridSearchCV(model, par_grid_ensemble, cv=5,\n",
        "                           scoring='accuracy'\n",
        "                          )\n",
        "grid_search.fit(features_upsampled, target_upsampled)"
      ],
      "execution_count": 48,
      "outputs": [
        {
          "output_type": "execute_result",
          "data": {
            "text/plain": [
              "GridSearchCV(cv=5, error_score=nan,\n",
              "             estimator=RandomForestClassifier(bootstrap=True, ccp_alpha=0.0,\n",
              "                                              class_weight=None,\n",
              "                                              criterion='gini', max_depth=None,\n",
              "                                              max_features='auto',\n",
              "                                              max_leaf_nodes=None,\n",
              "                                              max_samples=None,\n",
              "                                              min_impurity_decrease=0.0,\n",
              "                                              min_impurity_split=None,\n",
              "                                              min_samples_leaf=1,\n",
              "                                              min_samples_split=2,\n",
              "                                              min_weight_fraction_leaf=0.0,\n",
              "                                              n_estimators=100, n_jobs=None,\n",
              "                                              oob_score=False, random_state=42,\n",
              "                                              verbose=0, warm_start=False),\n",
              "             iid='deprecated', n_jobs=None,\n",
              "             param_grid={'criterion': ['gini', 'entropy'],\n",
              "                         'min_samples_split': range(5, 15),\n",
              "                         'n_estimators': [3, 10, 30]},\n",
              "             pre_dispatch='2*n_jobs', refit=True, return_train_score=False,\n",
              "             scoring='accuracy', verbose=0)"
            ]
          },
          "metadata": {
            "tags": []
          },
          "execution_count": 48
        }
      ]
    },
    {
      "cell_type": "code",
      "metadata": {
        "colab": {
          "base_uri": "https://localhost:8080/"
        },
        "id": "CERTPRRuBlBL",
        "outputId": "a49f3b7e-46cf-437d-d766-b62d4e00a6ba"
      },
      "source": [
        "grid_search.best_params_"
      ],
      "execution_count": 49,
      "outputs": [
        {
          "output_type": "execute_result",
          "data": {
            "text/plain": [
              "{'criterion': 'gini', 'min_samples_split': 5, 'n_estimators': 30}"
            ]
          },
          "metadata": {
            "tags": []
          },
          "execution_count": 49
        }
      ]
    },
    {
      "cell_type": "code",
      "metadata": {
        "colab": {
          "base_uri": "https://localhost:8080/"
        },
        "id": "tGFZchs8BlBL",
        "outputId": "dc06bfce-da60-4ac8-d3bd-ed073be076d8"
      },
      "source": [
        "model_rfc = RandomForestClassifier(random_state=42, criterion='gini', \n",
        "                               min_samples_split=5, n_estimators=30\n",
        "                              )\n",
        "model_rfc.fit(features_upsampled, target_upsampled)\n",
        "predicted_valid = model_rfc.predict(features_valid)\n",
        "print(\"F1:\", f1_score(target_valid, predicted_valid))"
      ],
      "execution_count": 50,
      "outputs": [
        {
          "output_type": "stream",
          "text": [
            "F1: 0.5933774834437087\n"
          ],
          "name": "stdout"
        }
      ]
    },
    {
      "cell_type": "markdown",
      "metadata": {
        "id": "rEficog7BlBL"
      },
      "source": [
        "Above the threshold of 0.59 on the validation set. Let's try on a sample test and see how the model behaves on unfamiliar data"
      ]
    },
    {
      "cell_type": "code",
      "metadata": {
        "colab": {
          "base_uri": "https://localhost:8080/",
          "height": 638
        },
        "id": "aR7Qqc5pBlBL",
        "outputId": "28d91171-3af9-4046-c2b4-7a876a712515"
      },
      "source": [
        "probabilities_valid = model_rfc.predict_proba(features_valid)\n",
        "probabilities_one_valid = probabilities_valid[:, 1]\n",
        "\n",
        "fpr, tpr, thresholds = roc_curve(target_valid, probabilities_one_valid) \n",
        "\n",
        "plt.figure(figsize=(10, 10))\n",
        "plt.plot(fpr, tpr, linestyle='-')\n",
        "plt.plot([0, 1], [0, 1], linestyle='--')\n",
        "plt.xlim([0.0, 1.0])\n",
        "plt.ylim([0.0, 1.0])\n",
        "plt.xlabel('False Positive Rate')\n",
        "plt.ylabel('True Positive Rate')\n",
        "plt.title('ROC-curve')\n",
        "plt.show()\n",
        "\n",
        "auc_roc = roc_auc_score (target_valid, probabilities_one_valid)\n",
        "\n",
        "print(\"AUC:\", auc_roc)"
      ],
      "execution_count": 51,
      "outputs": [
        {
          "output_type": "display_data",
          "data": {
            "image/png": "[encoded data removed]",
            "text/plain": [
              "<Figure size 720x720 with 1 Axes>"
            ]
          },
          "metadata": {
            "tags": []
          }
        },
        {
          "output_type": "stream",
          "text": [
            "AUC: 0.8522771715981766\n"
          ],
          "name": "stdout"
        }
      ]
    },
    {
      "cell_type": "markdown",
      "metadata": {
        "id": "EE3yOOQaBlBL"
      },
      "source": [
        "The AUC also tells us that the model is better, random, and better than logistic regression."
      ]
    },
    {
      "cell_type": "markdown",
      "metadata": {
        "id": "knTbpIxaBlBL"
      },
      "source": [
        "#### Catboost (bonus)"
      ]
    },
    {
      "cell_type": "markdown",
      "metadata": {
        "id": "XaeSaYx0BlBM"
      },
      "source": [
        "Let's try to configure Catboost using cross-validation. We will get the basic model, we will check it by the F1-score. Excluding class imbalance"
      ]
    },
    {
      "cell_type": "code",
      "metadata": {
        "id": "AR_B-1pZBlBM"
      },
      "source": [
        "model_cat = CatBoostClassifier(\n",
        "                           custom_loss=['F1'],\n",
        "                           random_seed=42,\n",
        "                           logging_level='Silent'\n",
        ")"
      ],
      "execution_count": 52,
      "outputs": []
    },
    {
      "cell_type": "code",
      "metadata": {
        "colab": {
          "base_uri": "https://localhost:8080/"
        },
        "id": "qi14KbuzBlBM",
        "outputId": "22ccd790-fa9b-40ec-c272-8d7efc1751fd"
      },
      "source": [
        "model_cat.fit(\n",
        "          features_train, target_train,\n",
        "          eval_set=(features_valid, target_valid)\n",
        "\n",
        ")"
      ],
      "execution_count": 53,
      "outputs": [
        {
          "output_type": "execute_result",
          "data": {
            "text/plain": [
              "<catboost.core.CatBoostClassifier at 0x7f016f2abad0>"
            ]
          },
          "metadata": {
            "tags": []
          },
          "execution_count": 53
        }
      ]
    },
    {
      "cell_type": "markdown",
      "metadata": {
        "id": "SMDE5XVLBlBM"
      },
      "source": [
        "Get the grid of parameters and cross-validate using the built-in Pool function"
      ]
    },
    {
      "cell_type": "code",
      "metadata": {
        "id": "g8Yg39EyBlBM"
      },
      "source": [
        "cv_params = model_cat.get_params()\n",
        "cv_params.update({\n",
        "                 'loss_function': 'Logloss'\n",
        "})\n",
        "cv_data = cv(\n",
        "             Pool(features_train, target_train),\n",
        "             cv_params\n",
        ")"
      ],
      "execution_count": 54,
      "outputs": []
    },
    {
      "cell_type": "code",
      "metadata": {
        "colab": {
          "base_uri": "https://localhost:8080/"
        },
        "id": "kTFp0yyaBlBM",
        "outputId": "a9d682d0-c7fd-4221-bdc1-50296451fe0b"
      },
      "source": [
        "print('F1-score: {}'.format(np.max(cv_data['test-F1-mean'])))"
      ],
      "execution_count": 55,
      "outputs": [
        {
          "output_type": "stream",
          "text": [
            "F1-score: 0.5970831232950118\n"
          ],
          "name": "stdout"
        }
      ]
    },
    {
      "cell_type": "code",
      "metadata": {
        "colab": {
          "base_uri": "https://localhost:8080/",
          "height": 638
        },
        "id": "nh3R7PVPBlBM",
        "outputId": "e30c8ad9-884b-4c4c-f528-4b0a668330ed"
      },
      "source": [
        "probabilities_valid = model_cat.predict_proba(features_valid)\n",
        "probabilities_one_valid = probabilities_valid[:, 1]\n",
        "\n",
        "fpr, tpr, thresholds = roc_curve(target_valid, probabilities_one_valid) \n",
        "\n",
        "plt.figure(figsize=(10, 10))\n",
        "plt.plot(fpr, tpr, linestyle='-')\n",
        "plt.plot([0, 1], [0, 1], linestyle='--')\n",
        "plt.xlim([0.0, 1.0])\n",
        "plt.ylim([0.0, 1.0])\n",
        "plt.xlabel('False Positive Rate')\n",
        "plt.ylabel('True Positive Rate')\n",
        "plt.title('ROC-curve')\n",
        "plt.show()\n",
        "\n",
        "auc_roc = roc_auc_score (target_valid, probabilities_one_valid)\n",
        "\n",
        "print(\"AUC:\", auc_roc)"
      ],
      "execution_count": 56,
      "outputs": [
        {
          "output_type": "display_data",
          "data": {
            "image/png": "[encoded data removed]",
            "text/plain": [
              "<Figure size 720x720 with 1 Axes>"
            ]
          },
          "metadata": {
            "tags": []
          }
        },
        {
          "output_type": "stream",
          "text": [
            "AUC: 0.8726199467659778\n"
          ],
          "name": "stdout"
        }
      ]
    },
    {
      "cell_type": "markdown",
      "metadata": {
        "id": "18-eUgMlBlBM"
      },
      "source": [
        "We got a very good result, let's see how the model will behave on the test set. Model is better than random"
      ]
    },
    {
      "cell_type": "markdown",
      "metadata": {
        "id": "bJCrHoltBlBN"
      },
      "source": [
        "## Model testing and validation"
      ]
    },
    {
      "cell_type": "code",
      "metadata": {
        "id": "1IiKv3fdBlBN"
      },
      "source": [
        "# collect indicators in lists\n",
        "\n",
        "table_of_model = []\n",
        "table_of_prec = []\n",
        "table_of_acc = []"
      ],
      "execution_count": 57,
      "outputs": []
    },
    {
      "cell_type": "markdown",
      "metadata": {
        "id": "RLGU5gkABlBN"
      },
      "source": [
        "### Testing Models"
      ]
    },
    {
      "cell_type": "markdown",
      "metadata": {
        "id": "_FNjSBLnBlBN"
      },
      "source": [
        "#### Logistic regression"
      ]
    },
    {
      "cell_type": "code",
      "metadata": {
        "colab": {
          "base_uri": "https://localhost:8080/"
        },
        "id": "uNyjZSUSBlBN",
        "outputId": "b2cb868c-779a-4565-83a7-a99c9bfd955d"
      },
      "source": [
        "predictions_test = model_lreg.predict(features_test)\n",
        "test_f1 = f1_score(target_test, predictions_test)\n",
        "test_acc = accuracy_score(target_test, predictions_test)\n",
        "\n",
        "print(\"Accuracy\")\n",
        "print(\"Test set:\", test_acc)\n",
        "print(\"F1-мера\")\n",
        "print(\"Test set:\", test_f1)\n",
        "\n",
        "table_of_acc.append(round(test_acc, 2))\n",
        "table_of_prec.append(round(test_f1, 2))\n",
        "table_of_model.append('LogisticRegression')"
      ],
      "execution_count": 58,
      "outputs": [
        {
          "output_type": "stream",
          "text": [
            "Accuracy\n",
            "Test set: 0.668\n",
            "F1-мера\n",
            "Test set: 0.5044776119402985\n"
          ],
          "name": "stdout"
        }
      ]
    },
    {
      "cell_type": "markdown",
      "metadata": {
        "id": "a2ZmgPQIBlBN"
      },
      "source": [
        "#### Random forest"
      ]
    },
    {
      "cell_type": "code",
      "metadata": {
        "colab": {
          "base_uri": "https://localhost:8080/"
        },
        "id": "ERx6K32BBlBN",
        "outputId": "984603f7-3792-4d6e-a519-ac4cf9991d77"
      },
      "source": [
        "predictions_test = model_rfc.predict(features_test)\n",
        "test_f1 = f1_score(target_test, predictions_test)\n",
        "test_acc = accuracy_score(target_test, predictions_test)\n",
        "\n",
        "print(\"Accuracy\")\n",
        "print(\"Test set:\", test_acc)\n",
        "print(\"F1-мера\")\n",
        "print(\"Test set:\", test_f1)\n",
        "\n",
        "table_of_acc.append(round(test_acc, 2))\n",
        "table_of_prec.append(round(test_f1, 2))\n",
        "table_of_model.append('RandomForestClassifier')"
      ],
      "execution_count": 59,
      "outputs": [
        {
          "output_type": "stream",
          "text": [
            "Accuracy\n",
            "Test set: 0.8475\n",
            "F1-мера\n",
            "Test set: 0.6074646074646074\n"
          ],
          "name": "stdout"
        }
      ]
    },
    {
      "cell_type": "code",
      "metadata": {
        "colab": {
          "base_uri": "https://localhost:8080/"
        },
        "id": "8_7IQ4XrBlBO",
        "outputId": "add1e790-8cc5-4a55-d3ea-66ef6b4d1b1d"
      },
      "source": [
        "model_rfc.feature_importances_"
      ],
      "execution_count": 60,
      "outputs": [
        {
          "output_type": "execute_result",
          "data": {
            "text/plain": [
              "array([0.13322635, 0.25047014, 0.08095032, 0.14346871, 0.13229459,\n",
              "       0.01696499, 0.03393928, 0.14376307, 0.0206356 , 0.02899979,\n",
              "       0.01528717])"
            ]
          },
          "metadata": {
            "tags": []
          },
          "execution_count": 60
        }
      ]
    },
    {
      "cell_type": "code",
      "metadata": {
        "colab": {
          "base_uri": "https://localhost:8080/"
        },
        "id": "DLCxa30RBlBO",
        "outputId": "4afd38ab-bfad-4f31-9559-2328aad53126"
      },
      "source": [
        "features_test.columns"
      ],
      "execution_count": 61,
      "outputs": [
        {
          "output_type": "execute_result",
          "data": {
            "text/plain": [
              "Index(['creditscore', 'age', 'tenure', 'balance', 'num_of_products',\n",
              "       'has_crcard', 'isactive_member', 'estimated_salary', 'Male', 'Germany',\n",
              "       'Spain'],\n",
              "      dtype='object')"
            ]
          },
          "metadata": {
            "tags": []
          },
          "execution_count": 61
        }
      ]
    },
    {
      "cell_type": "code",
      "metadata": {
        "colab": {
          "base_uri": "https://localhost:8080/",
          "height": 390
        },
        "id": "XmT_w3LzBlBO",
        "outputId": "137720e3-fccf-407e-eac2-8a32e4e93fa9"
      },
      "source": [
        "fi = pd.DataFrame({'name':features_test.columns,'fi':model_rfc.feature_importances_})\n",
        "fi.sort_values('fi',ascending=False)"
      ],
      "execution_count": 62,
      "outputs": [
        {
          "output_type": "execute_result",
          "data": {
            "text/html": [
              "<div>\n",
              "<style scoped>\n",
              "    .dataframe tbody tr th:only-of-type {\n",
              "        vertical-align: middle;\n",
              "    }\n",
              "\n",
              "    .dataframe tbody tr th {\n",
              "        vertical-align: top;\n",
              "    }\n",
              "\n",
              "    .dataframe thead th {\n",
              "        text-align: right;\n",
              "    }\n",
              "</style>\n",
              "<table border=\"1\" class=\"dataframe\">\n",
              "  <thead>\n",
              "    <tr style=\"text-align: right;\">\n",
              "      <th></th>\n",
              "      <th>name</th>\n",
              "      <th>fi</th>\n",
              "    </tr>\n",
              "  </thead>\n",
              "  <tbody>\n",
              "    <tr>\n",
              "      <th>1</th>\n",
              "      <td>age</td>\n",
              "      <td>0.250470</td>\n",
              "    </tr>\n",
              "    <tr>\n",
              "      <th>7</th>\n",
              "      <td>estimated_salary</td>\n",
              "      <td>0.143763</td>\n",
              "    </tr>\n",
              "    <tr>\n",
              "      <th>3</th>\n",
              "      <td>balance</td>\n",
              "      <td>0.143469</td>\n",
              "    </tr>\n",
              "    <tr>\n",
              "      <th>0</th>\n",
              "      <td>creditscore</td>\n",
              "      <td>0.133226</td>\n",
              "    </tr>\n",
              "    <tr>\n",
              "      <th>4</th>\n",
              "      <td>num_of_products</td>\n",
              "      <td>0.132295</td>\n",
              "    </tr>\n",
              "    <tr>\n",
              "      <th>2</th>\n",
              "      <td>tenure</td>\n",
              "      <td>0.080950</td>\n",
              "    </tr>\n",
              "    <tr>\n",
              "      <th>6</th>\n",
              "      <td>isactive_member</td>\n",
              "      <td>0.033939</td>\n",
              "    </tr>\n",
              "    <tr>\n",
              "      <th>9</th>\n",
              "      <td>Germany</td>\n",
              "      <td>0.029000</td>\n",
              "    </tr>\n",
              "    <tr>\n",
              "      <th>8</th>\n",
              "      <td>Male</td>\n",
              "      <td>0.020636</td>\n",
              "    </tr>\n",
              "    <tr>\n",
              "      <th>5</th>\n",
              "      <td>has_crcard</td>\n",
              "      <td>0.016965</td>\n",
              "    </tr>\n",
              "    <tr>\n",
              "      <th>10</th>\n",
              "      <td>Spain</td>\n",
              "      <td>0.015287</td>\n",
              "    </tr>\n",
              "  </tbody>\n",
              "</table>\n",
              "</div>"
            ],
            "text/plain": [
              "                name        fi\n",
              "1                age  0.250470\n",
              "7   estimated_salary  0.143763\n",
              "3            balance  0.143469\n",
              "0        creditscore  0.133226\n",
              "4    num_of_products  0.132295\n",
              "2             tenure  0.080950\n",
              "6    isactive_member  0.033939\n",
              "9            Germany  0.029000\n",
              "8               Male  0.020636\n",
              "5         has_crcard  0.016965\n",
              "10             Spain  0.015287"
            ]
          },
          "metadata": {
            "tags": []
          },
          "execution_count": 62
        }
      ]
    },
    {
      "cell_type": "markdown",
      "metadata": {
        "id": "yNEEKBgDBlBO"
      },
      "source": [
        "#### Catboost"
      ]
    },
    {
      "cell_type": "code",
      "metadata": {
        "colab": {
          "base_uri": "https://localhost:8080/"
        },
        "id": "Fdh7-K5RBlBO",
        "outputId": "4f57cbbb-e89c-4f5c-b2a7-b7fadafa13c2"
      },
      "source": [
        "predictions = model_cat.predict(features_test)\n",
        "test_f1 = f1_score(target_test, predictions_test)\n",
        "test_acc = accuracy_score(target_test, predictions_test)\n",
        "\n",
        "print(\"Accuracy\")\n",
        "print(\"Test set:\", test_acc)\n",
        "print(\"F1-мера\")\n",
        "print(\"Test set:\", test_f1)\n",
        "\n",
        "table_of_acc.append(round(test_acc, 2))\n",
        "table_of_prec.append(round(test_f1, 2))\n",
        "table_of_model.append('Catboost')"
      ],
      "execution_count": 63,
      "outputs": [
        {
          "output_type": "stream",
          "text": [
            "Accuracy\n",
            "Test set: 0.8475\n",
            "F1-мера\n",
            "Test set: 0.6074646074646074\n"
          ],
          "name": "stdout"
        }
      ]
    },
    {
      "cell_type": "code",
      "metadata": {
        "colab": {
          "base_uri": "https://localhost:8080/"
        },
        "id": "tosByFEHBlBO",
        "outputId": "af54cc99-8138-4401-a58e-14d739a8c988"
      },
      "source": [
        "model_cat.feature_importances_"
      ],
      "execution_count": 64,
      "outputs": [
        {
          "output_type": "execute_result",
          "data": {
            "text/plain": [
              "array([ 5.65998167, 22.16257245,  5.03798166, 12.54538519, 28.5658523 ,\n",
              "        1.20635625,  7.73938377,  4.84226016,  3.33760066,  7.36960639,\n",
              "        1.5330195 ])"
            ]
          },
          "metadata": {
            "tags": []
          },
          "execution_count": 64
        }
      ]
    },
    {
      "cell_type": "code",
      "metadata": {
        "scrolled": true,
        "colab": {
          "base_uri": "https://localhost:8080/",
          "height": 390
        },
        "id": "-v1wfqAgBlBO",
        "outputId": "31d0ea8f-3e7c-428e-abe9-14f5a044bdad"
      },
      "source": [
        "fi_cat = pd.DataFrame({'name':features_test.columns,'fi_cat':model_cat.feature_importances_})\n",
        "fi_cat.sort_values('fi_cat',ascending=False)"
      ],
      "execution_count": 65,
      "outputs": [
        {
          "output_type": "execute_result",
          "data": {
            "text/html": [
              "<div>\n",
              "<style scoped>\n",
              "    .dataframe tbody tr th:only-of-type {\n",
              "        vertical-align: middle;\n",
              "    }\n",
              "\n",
              "    .dataframe tbody tr th {\n",
              "        vertical-align: top;\n",
              "    }\n",
              "\n",
              "    .dataframe thead th {\n",
              "        text-align: right;\n",
              "    }\n",
              "</style>\n",
              "<table border=\"1\" class=\"dataframe\">\n",
              "  <thead>\n",
              "    <tr style=\"text-align: right;\">\n",
              "      <th></th>\n",
              "      <th>name</th>\n",
              "      <th>fi_cat</th>\n",
              "    </tr>\n",
              "  </thead>\n",
              "  <tbody>\n",
              "    <tr>\n",
              "      <th>4</th>\n",
              "      <td>num_of_products</td>\n",
              "      <td>28.565852</td>\n",
              "    </tr>\n",
              "    <tr>\n",
              "      <th>1</th>\n",
              "      <td>age</td>\n",
              "      <td>22.162572</td>\n",
              "    </tr>\n",
              "    <tr>\n",
              "      <th>3</th>\n",
              "      <td>balance</td>\n",
              "      <td>12.545385</td>\n",
              "    </tr>\n",
              "    <tr>\n",
              "      <th>6</th>\n",
              "      <td>isactive_member</td>\n",
              "      <td>7.739384</td>\n",
              "    </tr>\n",
              "    <tr>\n",
              "      <th>9</th>\n",
              "      <td>Germany</td>\n",
              "      <td>7.369606</td>\n",
              "    </tr>\n",
              "    <tr>\n",
              "      <th>0</th>\n",
              "      <td>creditscore</td>\n",
              "      <td>5.659982</td>\n",
              "    </tr>\n",
              "    <tr>\n",
              "      <th>2</th>\n",
              "      <td>tenure</td>\n",
              "      <td>5.037982</td>\n",
              "    </tr>\n",
              "    <tr>\n",
              "      <th>7</th>\n",
              "      <td>estimated_salary</td>\n",
              "      <td>4.842260</td>\n",
              "    </tr>\n",
              "    <tr>\n",
              "      <th>8</th>\n",
              "      <td>Male</td>\n",
              "      <td>3.337601</td>\n",
              "    </tr>\n",
              "    <tr>\n",
              "      <th>10</th>\n",
              "      <td>Spain</td>\n",
              "      <td>1.533019</td>\n",
              "    </tr>\n",
              "    <tr>\n",
              "      <th>5</th>\n",
              "      <td>has_crcard</td>\n",
              "      <td>1.206356</td>\n",
              "    </tr>\n",
              "  </tbody>\n",
              "</table>\n",
              "</div>"
            ],
            "text/plain": [
              "                name     fi_cat\n",
              "4    num_of_products  28.565852\n",
              "1                age  22.162572\n",
              "3            balance  12.545385\n",
              "6    isactive_member   7.739384\n",
              "9            Germany   7.369606\n",
              "0        creditscore   5.659982\n",
              "2             tenure   5.037982\n",
              "7   estimated_salary   4.842260\n",
              "8               Male   3.337601\n",
              "10             Spain   1.533019\n",
              "5         has_crcard   1.206356"
            ]
          },
          "metadata": {
            "tags": []
          },
          "execution_count": 65
        }
      ]
    },
    {
      "cell_type": "markdown",
      "metadata": {
        "id": "f0C8v4uaBlBP"
      },
      "source": [
        "#### Conclusion"
      ]
    },
    {
      "cell_type": "markdown",
      "metadata": {
        "id": "EuqeMnCuBlBP"
      },
      "source": [
        "\n",
        "For convenience, we will display a table of our parameters by model:"
      ]
    },
    {
      "cell_type": "code",
      "metadata": {
        "colab": {
          "base_uri": "https://localhost:8080/",
          "height": 142
        },
        "id": "ZSBEjHEUBlBP",
        "outputId": "8b6cf2fc-a9ac-4466-ec97-959d25fbfb01"
      },
      "source": [
        "table_of_models = (pd.DataFrame({'Model':table_of_model, 'Accuracy':table_of_acc, \n",
        "                                'F1 score':table_of_prec}).sort_values(by='F1 score', ascending=False).\n",
        "                  reset_index(drop=True))\n",
        "table_of_models['Threshold of testing'] = (\n",
        "                   table_of_models['F1 score'].apply(lambda x: 'good model' if x>0.59 else 'bad model')\n",
        ")\n",
        "table_of_models"
      ],
      "execution_count": 66,
      "outputs": [
        {
          "output_type": "execute_result",
          "data": {
            "text/html": [
              "<div>\n",
              "<style scoped>\n",
              "    .dataframe tbody tr th:only-of-type {\n",
              "        vertical-align: middle;\n",
              "    }\n",
              "\n",
              "    .dataframe tbody tr th {\n",
              "        vertical-align: top;\n",
              "    }\n",
              "\n",
              "    .dataframe thead th {\n",
              "        text-align: right;\n",
              "    }\n",
              "</style>\n",
              "<table border=\"1\" class=\"dataframe\">\n",
              "  <thead>\n",
              "    <tr style=\"text-align: right;\">\n",
              "      <th></th>\n",
              "      <th>Model</th>\n",
              "      <th>Accuracy</th>\n",
              "      <th>F1 score</th>\n",
              "      <th>Threshold of testing</th>\n",
              "    </tr>\n",
              "  </thead>\n",
              "  <tbody>\n",
              "    <tr>\n",
              "      <th>0</th>\n",
              "      <td>RandomForestClassifier</td>\n",
              "      <td>0.85</td>\n",
              "      <td>0.61</td>\n",
              "      <td>good model</td>\n",
              "    </tr>\n",
              "    <tr>\n",
              "      <th>1</th>\n",
              "      <td>Catboost</td>\n",
              "      <td>0.85</td>\n",
              "      <td>0.61</td>\n",
              "      <td>good model</td>\n",
              "    </tr>\n",
              "    <tr>\n",
              "      <th>2</th>\n",
              "      <td>LogisticRegression</td>\n",
              "      <td>0.67</td>\n",
              "      <td>0.50</td>\n",
              "      <td>bad model</td>\n",
              "    </tr>\n",
              "  </tbody>\n",
              "</table>\n",
              "</div>"
            ],
            "text/plain": [
              "                    Model  Accuracy  F1 score Threshold of testing\n",
              "0  RandomForestClassifier      0.85      0.61           good model\n",
              "1                Catboost      0.85      0.61           good model\n",
              "2      LogisticRegression      0.67      0.50            bad model"
            ]
          },
          "metadata": {
            "tags": []
          },
          "execution_count": 66
        }
      ]
    },
    {
      "cell_type": "markdown",
      "metadata": {
        "id": "NZDVP_tBBlBP"
      },
      "source": [
        "The best result was obtained on the Random forest - 0.61, Catboost takes the second place - but this is without correcting the imbalance problem! Logistic regression could not overcome the F1-score threshold of 0.59\n",
        "\n",
        "We also looked at what features are important for classification models:\n",
        "age, expected salary, credit rate, balance and number of products - age is in the lead"
      ]
    },
    {
      "cell_type": "markdown",
      "metadata": {
        "id": "qGCW7i58BlBP"
      },
      "source": [
        "### Senity test"
      ]
    },
    {
      "cell_type": "markdown",
      "metadata": {
        "id": "MD1cg7HkBlBP"
      },
      "source": [
        "#### Comparison with constant"
      ]
    },
    {
      "cell_type": "markdown",
      "metadata": {
        "id": "xp1qW79EBlBP"
      },
      "source": [
        "Let's compare our models with a constant model: it predicts class \"0\" for any object"
      ]
    },
    {
      "cell_type": "code",
      "metadata": {
        "id": "NC3pohwIBlBP",
        "colab": {
          "base_uri": "https://localhost:8080/"
        },
        "outputId": "7f7e916c-a7a0-4169-cc9c-b02c9659376c"
      },
      "source": [
        "target_const = target*0\n",
        "acc_const = accuracy_score(target, target_const)\n",
        "\n",
        "\n",
        "print(\"Accuracy\")\n",
        "print(\"const:\", acc_const)\n"
      ],
      "execution_count": 67,
      "outputs": [
        {
          "output_type": "stream",
          "text": [
            "Accuracy\n",
            "const: 0.7963\n"
          ],
          "name": "stdout"
        }
      ]
    },
    {
      "cell_type": "markdown",
      "metadata": {
        "id": "scJ2haACBlBP"
      },
      "source": [
        "Random Forest and Catboost have been validated. The accuracy of our models is higher than that of the random one. We also looked at ROC-AUC validations, our models performed better."
      ]
    },
    {
      "cell_type": "markdown",
      "metadata": {
        "id": "OFPbTUxRBlBQ"
      },
      "source": [
        "## Conclusion"
      ]
    },
    {
      "cell_type": "markdown",
      "metadata": {
        "id": "5CrerqzrBlBQ"
      },
      "source": [
        "We were provided with historical data on customer behavior and termination of agreements with the bank. Based on this data, we formed features for training the model in order to predict customer churn. We have achieved the best results with a model based on the Random Forest algorithm - F1 measure - `0.61`.\n",
        "\n",
        "Based on the analysis (using the best model as an example):"
      ]
    },
    {
      "cell_type": "code",
      "metadata": {
        "id": "26vScDkKBlBQ",
        "colab": {
          "base_uri": "https://localhost:8080/",
          "height": 204
        },
        "outputId": "4d3ae911-da6b-4280-89bd-30632f475f3e"
      },
      "source": [
        "fi.sort_values('fi',ascending=False).reset_index(drop=True).head()"
      ],
      "execution_count": 68,
      "outputs": [
        {
          "output_type": "execute_result",
          "data": {
            "text/html": [
              "<div>\n",
              "<style scoped>\n",
              "    .dataframe tbody tr th:only-of-type {\n",
              "        vertical-align: middle;\n",
              "    }\n",
              "\n",
              "    .dataframe tbody tr th {\n",
              "        vertical-align: top;\n",
              "    }\n",
              "\n",
              "    .dataframe thead th {\n",
              "        text-align: right;\n",
              "    }\n",
              "</style>\n",
              "<table border=\"1\" class=\"dataframe\">\n",
              "  <thead>\n",
              "    <tr style=\"text-align: right;\">\n",
              "      <th></th>\n",
              "      <th>name</th>\n",
              "      <th>fi</th>\n",
              "    </tr>\n",
              "  </thead>\n",
              "  <tbody>\n",
              "    <tr>\n",
              "      <th>0</th>\n",
              "      <td>age</td>\n",
              "      <td>0.250470</td>\n",
              "    </tr>\n",
              "    <tr>\n",
              "      <th>1</th>\n",
              "      <td>estimated_salary</td>\n",
              "      <td>0.143763</td>\n",
              "    </tr>\n",
              "    <tr>\n",
              "      <th>2</th>\n",
              "      <td>balance</td>\n",
              "      <td>0.143469</td>\n",
              "    </tr>\n",
              "    <tr>\n",
              "      <th>3</th>\n",
              "      <td>creditscore</td>\n",
              "      <td>0.133226</td>\n",
              "    </tr>\n",
              "    <tr>\n",
              "      <th>4</th>\n",
              "      <td>num_of_products</td>\n",
              "      <td>0.132295</td>\n",
              "    </tr>\n",
              "  </tbody>\n",
              "</table>\n",
              "</div>"
            ],
            "text/plain": [
              "               name        fi\n",
              "0               age  0.250470\n",
              "1  estimated_salary  0.143763\n",
              "2           balance  0.143469\n",
              "3       creditscore  0.133226\n",
              "4   num_of_products  0.132295"
            ]
          },
          "metadata": {
            "tags": []
          },
          "execution_count": 68
        }
      ]
    },
    {
      "cell_type": "markdown",
      "metadata": {
        "id": "DROEiUOMBlBQ"
      },
      "source": [
        "The most important signs to look out for are:\n",
        "\n",
        " - client's age\n",
        " - credit speed\n",
        " - expected profit\n",
        " - account balance\n",
        " - number of products\n",
        " \n",
        " \n",
        " To predict churn, you can use a model based on the Random Forest algorithm"
      ]
    }
  ]
}