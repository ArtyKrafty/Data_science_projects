{
  "nbformat": 4,
  "nbformat_minor": 0,
  "metadata": {
    "kernelspec": {
      "display_name": "Python 3",
      "language": "python",
      "name": "python3"
    },
    "language_info": {
      "codemirror_mode": {
        "name": "ipython",
        "version": 3
      },
      "file_extension": ".py",
      "mimetype": "text/x-python",
      "name": "python",
      "nbconvert_exporter": "python",
      "pygments_lexer": "ipython3",
      "version": "3.7.8"
    },
    "toc": {
      "base_numbering": 1,
      "nav_menu": {},
      "number_sections": true,
      "sideBar": true,
      "skip_h1_title": true,
      "title_cell": "Table of Contents",
      "title_sidebar": "Contents",
      "toc_cell": false,
      "toc_position": {
        "height": "calc(100% - 180px)",
        "left": "10px",
        "top": "150px",
        "width": "366.391px"
      },
      "toc_section_display": true,
      "toc_window_display": false
    },
    "colab": {
      "name": "Копия блокнота \"Анализ игр.ipynb\"",
      "provenance": [],
      "collapsed_sections": [
        "3nRxDMmmRILI",
        "NNPEKuzFRILL",
        "eI0-odR6RILN",
        "Kf7XSBY6RILO",
        "oKctXUcRRILQ",
        "aP4G7X-YRILR",
        "JNO2gjdNRILS",
        "DgZTVCqxRILT",
        "4J2CynWqRILU",
        "4MtWxKieRILV",
        "akkj5MrPRILV",
        "7z8hFHzbRILc",
        "yxKjbaBPRILc",
        "K3Y3iEsYRILe",
        "kc5xk6XaRILh",
        "rjXp2eEERILi",
        "0B9uQfQNRILj",
        "Gg5bMPzQRILm",
        "IsEHFxxGRILo",
        "AE1IX-evRILp",
        "KQaElVQNRILr",
        "OxyfU4nZRILs"
      ]
    },
    "widgets": {
      "application/vnd.jupyter.widget-state+json": {
        "3b6cbb058db7480da115cb6ffd6f5f9c": {
          "model_module": "@jupyter-widgets/controls",
          "model_name": "HBoxModel",
          "state": {
            "_view_name": "HBoxView",
            "_dom_classes": [],
            "_model_name": "HBoxModel",
            "_view_module": "@jupyter-widgets/controls",
            "_model_module_version": "1.5.0",
            "_view_count": null,
            "_view_module_version": "1.5.0",
            "box_style": "",
            "layout": "IPY_MODEL_4e2276836a31469492062d24c88f3fee",
            "_model_module": "@jupyter-widgets/controls",
            "children": [
              "IPY_MODEL_62c97b15a9cc4228833a670a920a3911",
              "IPY_MODEL_d9a1acb6b3b6470085090bcd8643dc1e"
            ]
          }
        },
        "4e2276836a31469492062d24c88f3fee": {
          "model_module": "@jupyter-widgets/base",
          "model_name": "LayoutModel",
          "state": {
            "_view_name": "LayoutView",
            "grid_template_rows": null,
            "right": null,
            "justify_content": null,
            "_view_module": "@jupyter-widgets/base",
            "overflow": null,
            "_model_module_version": "1.2.0",
            "_view_count": null,
            "flex_flow": null,
            "width": null,
            "min_width": null,
            "border": null,
            "align_items": null,
            "bottom": null,
            "_model_module": "@jupyter-widgets/base",
            "top": null,
            "grid_column": null,
            "overflow_y": null,
            "overflow_x": null,
            "grid_auto_flow": null,
            "grid_area": null,
            "grid_template_columns": null,
            "flex": null,
            "_model_name": "LayoutModel",
            "justify_items": null,
            "grid_row": null,
            "max_height": null,
            "align_content": null,
            "visibility": null,
            "align_self": null,
            "height": null,
            "min_height": null,
            "padding": null,
            "grid_auto_rows": null,
            "grid_gap": null,
            "max_width": null,
            "order": null,
            "_view_module_version": "1.2.0",
            "grid_template_areas": null,
            "object_position": null,
            "object_fit": null,
            "grid_auto_columns": null,
            "margin": null,
            "display": null,
            "left": null
          }
        },
        "62c97b15a9cc4228833a670a920a3911": {
          "model_module": "@jupyter-widgets/controls",
          "model_name": "FloatProgressModel",
          "state": {
            "_view_name": "ProgressView",
            "style": "IPY_MODEL_fd1bdc4601504c6f9f4d53e7a2b48e64",
            "_dom_classes": [],
            "description": "100%",
            "_model_name": "FloatProgressModel",
            "bar_style": "success",
            "max": 3,
            "_view_module": "@jupyter-widgets/controls",
            "_model_module_version": "1.5.0",
            "value": 3,
            "_view_count": null,
            "_view_module_version": "1.5.0",
            "orientation": "horizontal",
            "min": 0,
            "description_tooltip": null,
            "_model_module": "@jupyter-widgets/controls",
            "layout": "IPY_MODEL_e7b910a14f3846f598b1e236fb3e20ae"
          }
        },
        "d9a1acb6b3b6470085090bcd8643dc1e": {
          "model_module": "@jupyter-widgets/controls",
          "model_name": "HTMLModel",
          "state": {
            "_view_name": "HTMLView",
            "style": "IPY_MODEL_a3971eadaf1442dc96ea3a7be46be832",
            "_dom_classes": [],
            "description": "",
            "_model_name": "HTMLModel",
            "placeholder": "​",
            "_view_module": "@jupyter-widgets/controls",
            "_model_module_version": "1.5.0",
            "value": " 3/3 [00:01&lt;00:00,  2.16it/s]",
            "_view_count": null,
            "_view_module_version": "1.5.0",
            "description_tooltip": null,
            "_model_module": "@jupyter-widgets/controls",
            "layout": "IPY_MODEL_55fe4ebbf3e9408f8396810bf37009b3"
          }
        },
        "fd1bdc4601504c6f9f4d53e7a2b48e64": {
          "model_module": "@jupyter-widgets/controls",
          "model_name": "ProgressStyleModel",
          "state": {
            "_view_name": "StyleView",
            "_model_name": "ProgressStyleModel",
            "description_width": "initial",
            "_view_module": "@jupyter-widgets/base",
            "_model_module_version": "1.5.0",
            "_view_count": null,
            "_view_module_version": "1.2.0",
            "bar_color": null,
            "_model_module": "@jupyter-widgets/controls"
          }
        },
        "e7b910a14f3846f598b1e236fb3e20ae": {
          "model_module": "@jupyter-widgets/base",
          "model_name": "LayoutModel",
          "state": {
            "_view_name": "LayoutView",
            "grid_template_rows": null,
            "right": null,
            "justify_content": null,
            "_view_module": "@jupyter-widgets/base",
            "overflow": null,
            "_model_module_version": "1.2.0",
            "_view_count": null,
            "flex_flow": null,
            "width": null,
            "min_width": null,
            "border": null,
            "align_items": null,
            "bottom": null,
            "_model_module": "@jupyter-widgets/base",
            "top": null,
            "grid_column": null,
            "overflow_y": null,
            "overflow_x": null,
            "grid_auto_flow": null,
            "grid_area": null,
            "grid_template_columns": null,
            "flex": null,
            "_model_name": "LayoutModel",
            "justify_items": null,
            "grid_row": null,
            "max_height": null,
            "align_content": null,
            "visibility": null,
            "align_self": null,
            "height": null,
            "min_height": null,
            "padding": null,
            "grid_auto_rows": null,
            "grid_gap": null,
            "max_width": null,
            "order": null,
            "_view_module_version": "1.2.0",
            "grid_template_areas": null,
            "object_position": null,
            "object_fit": null,
            "grid_auto_columns": null,
            "margin": null,
            "display": null,
            "left": null
          }
        },
        "a3971eadaf1442dc96ea3a7be46be832": {
          "model_module": "@jupyter-widgets/controls",
          "model_name": "DescriptionStyleModel",
          "state": {
            "_view_name": "StyleView",
            "_model_name": "DescriptionStyleModel",
            "description_width": "",
            "_view_module": "@jupyter-widgets/base",
            "_model_module_version": "1.5.0",
            "_view_count": null,
            "_view_module_version": "1.2.0",
            "_model_module": "@jupyter-widgets/controls"
          }
        },
        "55fe4ebbf3e9408f8396810bf37009b3": {
          "model_module": "@jupyter-widgets/base",
          "model_name": "LayoutModel",
          "state": {
            "_view_name": "LayoutView",
            "grid_template_rows": null,
            "right": null,
            "justify_content": null,
            "_view_module": "@jupyter-widgets/base",
            "overflow": null,
            "_model_module_version": "1.2.0",
            "_view_count": null,
            "flex_flow": null,
            "width": null,
            "min_width": null,
            "border": null,
            "align_items": null,
            "bottom": null,
            "_model_module": "@jupyter-widgets/base",
            "top": null,
            "grid_column": null,
            "overflow_y": null,
            "overflow_x": null,
            "grid_auto_flow": null,
            "grid_area": null,
            "grid_template_columns": null,
            "flex": null,
            "_model_name": "LayoutModel",
            "justify_items": null,
            "grid_row": null,
            "max_height": null,
            "align_content": null,
            "visibility": null,
            "align_self": null,
            "height": null,
            "min_height": null,
            "padding": null,
            "grid_auto_rows": null,
            "grid_gap": null,
            "max_width": null,
            "order": null,
            "_view_module_version": "1.2.0",
            "grid_template_areas": null,
            "object_position": null,
            "object_fit": null,
            "grid_auto_columns": null,
            "margin": null,
            "display": null,
            "left": null
          }
        }
      }
    }
  },
  "cells": [
    {
      "cell_type": "markdown",
      "metadata": {
        "id": "wPnX9Dz4RILE"
      },
      "source": [
        "# Определение закономерностей формирующих успешность игры "
      ]
    },
    {
      "cell_type": "markdown",
      "metadata": {
        "id": "cWkH_VssRILE"
      },
      "source": [
        "![](https://i.ibb.co/h2wfnr3/Games-2000x1125.jpg)\n",
        "\n",
        "Из открытых источников доступны исторические данные о продажах игр, оценки пользователей и экспертов, жанры и платформы (например, **Xbox** или **PlayStation**). Нам нужно выявить определяющие успешность игры закономерности. Это позволит сделать ставку на потенциально популярный продукт и спланировать рекламные кампании.  \n",
        "Перед нами данные до 2016 года. Мы планируете кампанию на 2017-й.\n",
        " \n",
        "*Данные за 2016 год могут быть неполными*\n"
      ]
    },
    {
      "cell_type": "markdown",
      "metadata": {
        "id": "p7nvwzaVRILF"
      },
      "source": [
        "## Общая информация о данных в работе"
      ]
    },
    {
      "cell_type": "markdown",
      "metadata": {
        "id": "ANcbMEusRILF"
      },
      "source": [
        "### Загрузка и предварительный осмотр данных"
      ]
    },
    {
      "cell_type": "code",
      "metadata": {
        "id": "jfSzITK2RILF"
      },
      "source": [
        "import pandas as pd\n",
        "import numpy as np\n",
        "%matplotlib inline\n",
        "import matplotlib.pyplot as plt\n",
        "from tqdm.notebook import tqdm\n",
        "import seaborn as sns\n",
        "from scipy import stats as st\n",
        "sns.set_style(\"darkgrid\")\n"
      ],
      "execution_count": null,
      "outputs": []
    },
    {
      "cell_type": "code",
      "metadata": {
        "colab": {
          "base_uri": "https://localhost:8080/",
          "height": 204
        },
        "id": "SsPv5YRcRILG",
        "outputId": "5d008405-4579-4dc8-9277-bd28398c6095"
      },
      "source": [
        "game_df = pd.read_csv('/content/games.csv')\n",
        "game_df.head()"
      ],
      "execution_count": null,
      "outputs": [
        {
          "output_type": "execute_result",
          "data": {
            "text/html": [
              "<div>\n",
              "<style scoped>\n",
              "    .dataframe tbody tr th:only-of-type {\n",
              "        vertical-align: middle;\n",
              "    }\n",
              "\n",
              "    .dataframe tbody tr th {\n",
              "        vertical-align: top;\n",
              "    }\n",
              "\n",
              "    .dataframe thead th {\n",
              "        text-align: right;\n",
              "    }\n",
              "</style>\n",
              "<table border=\"1\" class=\"dataframe\">\n",
              "  <thead>\n",
              "    <tr style=\"text-align: right;\">\n",
              "      <th></th>\n",
              "      <th>Name</th>\n",
              "      <th>Platform</th>\n",
              "      <th>Year_of_Release</th>\n",
              "      <th>Genre</th>\n",
              "      <th>NA_sales</th>\n",
              "      <th>EU_sales</th>\n",
              "      <th>JP_sales</th>\n",
              "      <th>Other_sales</th>\n",
              "      <th>Critic_Score</th>\n",
              "      <th>User_Score</th>\n",
              "      <th>Rating</th>\n",
              "    </tr>\n",
              "  </thead>\n",
              "  <tbody>\n",
              "    <tr>\n",
              "      <th>0</th>\n",
              "      <td>Wii Sports</td>\n",
              "      <td>Wii</td>\n",
              "      <td>2006.0</td>\n",
              "      <td>Sports</td>\n",
              "      <td>41.36</td>\n",
              "      <td>28.96</td>\n",
              "      <td>3.77</td>\n",
              "      <td>8.45</td>\n",
              "      <td>76.0</td>\n",
              "      <td>8</td>\n",
              "      <td>E</td>\n",
              "    </tr>\n",
              "    <tr>\n",
              "      <th>1</th>\n",
              "      <td>Super Mario Bros.</td>\n",
              "      <td>NES</td>\n",
              "      <td>1985.0</td>\n",
              "      <td>Platform</td>\n",
              "      <td>29.08</td>\n",
              "      <td>3.58</td>\n",
              "      <td>6.81</td>\n",
              "      <td>0.77</td>\n",
              "      <td>NaN</td>\n",
              "      <td>NaN</td>\n",
              "      <td>NaN</td>\n",
              "    </tr>\n",
              "    <tr>\n",
              "      <th>2</th>\n",
              "      <td>Mario Kart Wii</td>\n",
              "      <td>Wii</td>\n",
              "      <td>2008.0</td>\n",
              "      <td>Racing</td>\n",
              "      <td>15.68</td>\n",
              "      <td>12.76</td>\n",
              "      <td>3.79</td>\n",
              "      <td>3.29</td>\n",
              "      <td>82.0</td>\n",
              "      <td>8.3</td>\n",
              "      <td>E</td>\n",
              "    </tr>\n",
              "    <tr>\n",
              "      <th>3</th>\n",
              "      <td>Wii Sports Resort</td>\n",
              "      <td>Wii</td>\n",
              "      <td>2009.0</td>\n",
              "      <td>Sports</td>\n",
              "      <td>15.61</td>\n",
              "      <td>10.93</td>\n",
              "      <td>3.28</td>\n",
              "      <td>2.95</td>\n",
              "      <td>80.0</td>\n",
              "      <td>8</td>\n",
              "      <td>E</td>\n",
              "    </tr>\n",
              "    <tr>\n",
              "      <th>4</th>\n",
              "      <td>Pokemon Red/Pokemon Blue</td>\n",
              "      <td>GB</td>\n",
              "      <td>1996.0</td>\n",
              "      <td>Role-Playing</td>\n",
              "      <td>11.27</td>\n",
              "      <td>8.89</td>\n",
              "      <td>10.22</td>\n",
              "      <td>1.00</td>\n",
              "      <td>NaN</td>\n",
              "      <td>NaN</td>\n",
              "      <td>NaN</td>\n",
              "    </tr>\n",
              "  </tbody>\n",
              "</table>\n",
              "</div>"
            ],
            "text/plain": [
              "                       Name Platform  ...  User_Score Rating\n",
              "0                Wii Sports      Wii  ...           8      E\n",
              "1         Super Mario Bros.      NES  ...         NaN    NaN\n",
              "2            Mario Kart Wii      Wii  ...         8.3      E\n",
              "3         Wii Sports Resort      Wii  ...           8      E\n",
              "4  Pokemon Red/Pokemon Blue       GB  ...         NaN    NaN\n",
              "\n",
              "[5 rows x 11 columns]"
            ]
          },
          "metadata": {
            "tags": []
          },
          "execution_count": 5
        }
      ]
    },
    {
      "cell_type": "code",
      "metadata": {
        "colab": {
          "base_uri": "https://localhost:8080/"
        },
        "id": "C-2_J6mKRILH",
        "outputId": "2e47edd3-f260-4980-ced4-c4d14796676a"
      },
      "source": [
        "game_df.info()"
      ],
      "execution_count": null,
      "outputs": [
        {
          "output_type": "stream",
          "text": [
            "<class 'pandas.core.frame.DataFrame'>\n",
            "RangeIndex: 16715 entries, 0 to 16714\n",
            "Data columns (total 11 columns):\n",
            " #   Column           Non-Null Count  Dtype  \n",
            "---  ------           --------------  -----  \n",
            " 0   Name             16713 non-null  object \n",
            " 1   Platform         16715 non-null  object \n",
            " 2   Year_of_Release  16446 non-null  float64\n",
            " 3   Genre            16713 non-null  object \n",
            " 4   NA_sales         16715 non-null  float64\n",
            " 5   EU_sales         16715 non-null  float64\n",
            " 6   JP_sales         16715 non-null  float64\n",
            " 7   Other_sales      16715 non-null  float64\n",
            " 8   Critic_Score     8137 non-null   float64\n",
            " 9   User_Score       10014 non-null  object \n",
            " 10  Rating           9949 non-null   object \n",
            "dtypes: float64(6), object(5)\n",
            "memory usage: 1.4+ MB\n"
          ],
          "name": "stdout"
        }
      ]
    },
    {
      "cell_type": "code",
      "metadata": {
        "colab": {
          "base_uri": "https://localhost:8080/",
          "height": 235
        },
        "id": "ekAYjNChRILH",
        "outputId": "467b4b2e-40c5-40f7-deb1-567c3e9d8855"
      },
      "source": [
        "game_df.describe().T"
      ],
      "execution_count": null,
      "outputs": [
        {
          "output_type": "execute_result",
          "data": {
            "text/html": [
              "<div>\n",
              "<style scoped>\n",
              "    .dataframe tbody tr th:only-of-type {\n",
              "        vertical-align: middle;\n",
              "    }\n",
              "\n",
              "    .dataframe tbody tr th {\n",
              "        vertical-align: top;\n",
              "    }\n",
              "\n",
              "    .dataframe thead th {\n",
              "        text-align: right;\n",
              "    }\n",
              "</style>\n",
              "<table border=\"1\" class=\"dataframe\">\n",
              "  <thead>\n",
              "    <tr style=\"text-align: right;\">\n",
              "      <th></th>\n",
              "      <th>count</th>\n",
              "      <th>mean</th>\n",
              "      <th>std</th>\n",
              "      <th>min</th>\n",
              "      <th>25%</th>\n",
              "      <th>50%</th>\n",
              "      <th>75%</th>\n",
              "      <th>max</th>\n",
              "    </tr>\n",
              "  </thead>\n",
              "  <tbody>\n",
              "    <tr>\n",
              "      <th>Year_of_Release</th>\n",
              "      <td>16446.0</td>\n",
              "      <td>2006.484616</td>\n",
              "      <td>5.877050</td>\n",
              "      <td>1980.0</td>\n",
              "      <td>2003.0</td>\n",
              "      <td>2007.00</td>\n",
              "      <td>2010.00</td>\n",
              "      <td>2016.00</td>\n",
              "    </tr>\n",
              "    <tr>\n",
              "      <th>NA_sales</th>\n",
              "      <td>16715.0</td>\n",
              "      <td>0.263377</td>\n",
              "      <td>0.813604</td>\n",
              "      <td>0.0</td>\n",
              "      <td>0.0</td>\n",
              "      <td>0.08</td>\n",
              "      <td>0.24</td>\n",
              "      <td>41.36</td>\n",
              "    </tr>\n",
              "    <tr>\n",
              "      <th>EU_sales</th>\n",
              "      <td>16715.0</td>\n",
              "      <td>0.145060</td>\n",
              "      <td>0.503339</td>\n",
              "      <td>0.0</td>\n",
              "      <td>0.0</td>\n",
              "      <td>0.02</td>\n",
              "      <td>0.11</td>\n",
              "      <td>28.96</td>\n",
              "    </tr>\n",
              "    <tr>\n",
              "      <th>JP_sales</th>\n",
              "      <td>16715.0</td>\n",
              "      <td>0.077617</td>\n",
              "      <td>0.308853</td>\n",
              "      <td>0.0</td>\n",
              "      <td>0.0</td>\n",
              "      <td>0.00</td>\n",
              "      <td>0.04</td>\n",
              "      <td>10.22</td>\n",
              "    </tr>\n",
              "    <tr>\n",
              "      <th>Other_sales</th>\n",
              "      <td>16715.0</td>\n",
              "      <td>0.047342</td>\n",
              "      <td>0.186731</td>\n",
              "      <td>0.0</td>\n",
              "      <td>0.0</td>\n",
              "      <td>0.01</td>\n",
              "      <td>0.03</td>\n",
              "      <td>10.57</td>\n",
              "    </tr>\n",
              "    <tr>\n",
              "      <th>Critic_Score</th>\n",
              "      <td>8137.0</td>\n",
              "      <td>68.967679</td>\n",
              "      <td>13.938165</td>\n",
              "      <td>13.0</td>\n",
              "      <td>60.0</td>\n",
              "      <td>71.00</td>\n",
              "      <td>79.00</td>\n",
              "      <td>98.00</td>\n",
              "    </tr>\n",
              "  </tbody>\n",
              "</table>\n",
              "</div>"
            ],
            "text/plain": [
              "                   count         mean        std  ...      50%      75%      max\n",
              "Year_of_Release  16446.0  2006.484616   5.877050  ...  2007.00  2010.00  2016.00\n",
              "NA_sales         16715.0     0.263377   0.813604  ...     0.08     0.24    41.36\n",
              "EU_sales         16715.0     0.145060   0.503339  ...     0.02     0.11    28.96\n",
              "JP_sales         16715.0     0.077617   0.308853  ...     0.00     0.04    10.22\n",
              "Other_sales      16715.0     0.047342   0.186731  ...     0.01     0.03    10.57\n",
              "Critic_Score      8137.0    68.967679  13.938165  ...    71.00    79.00    98.00\n",
              "\n",
              "[6 rows x 8 columns]"
            ]
          },
          "metadata": {
            "tags": []
          },
          "execution_count": 7
        }
      ]
    },
    {
      "cell_type": "markdown",
      "metadata": {
        "id": "gEvbrg3ARILI"
      },
      "source": [
        "Наблюдаем пропуски в столбцах `Year_of_Release`, `Critic_score`, `User_score`, `Rating` и незначительные пропуски в столбцах `Name` и `Genre`. Наиболее критичные пропуски в столбцах оценок и рейтинга, которые нужны для анализа. Дата сет содержит информацию об играх, выпущенных с 1980 года - возможно данные пропуски связаны с тем, что для более ранних игр - оценки не приводилось, в т.ч. в связи с неразвитой сетью интернет или отсутствием четких критериев для формирования рейтинга. "
      ]
    },
    {
      "cell_type": "markdown",
      "metadata": {
        "id": "3nRxDMmmRILI"
      },
      "source": [
        "### Описание данных\n",
        "- **Name** — название игры  \n",
        "- **Platform** — платформа  \n",
        "- **Year_of_Release** — год выпуска  \n",
        "- **Genre** — жанр игры  \n",
        "- **NA_sales** — продажи в Северной Америке (миллионы проданных копий)  \n",
        "- **EU_sales** — продажи в Европе (миллионы проданных копий)  \n",
        "- **JP_sales** — продажи в Японии (миллионы проданных копий)  \n",
        "- **Other_sales** — продажи в других странах (миллионы проданных копий)  \n",
        "- **Critic_Score** — оценка критиков (максимум 100)  \n",
        "- **User_Score** — оценка пользователей (максимум 10)  \n",
        "- **Rating** — рейтинг от организации [ESRB](https://www.esrb.org/) (англ. Entertainment Software Rating Board).\n"
      ]
    },
    {
      "cell_type": "markdown",
      "metadata": {
        "id": "lBVFRzB-RILI"
      },
      "source": [
        "- на первый взгляд, аномалий не выявлено  \n",
        "- в столбцах `Name`, `Year_of_Release`, `Genre`, `Critic_Score`, `User_Score`, `Rating` - наблюдаются пропуски, особенно в столбцах рейтингов/оценки. Пропуски изучим и примем решение, что с ними делать\n",
        "- необходимо заменить данные в столбце `Year_of_Release` - `float` на `int`. `datetime` нет необходимости вводить\n",
        "- по остальным столбцам необходимо дополнительное изучение, например: `User_Score` имеет тип object, значит в столбце находится нечисловое значение\n"
      ]
    },
    {
      "cell_type": "markdown",
      "metadata": {
        "id": "2XhRzqyHRILJ"
      },
      "source": [
        "## Предобработка данных"
      ]
    },
    {
      "cell_type": "markdown",
      "metadata": {
        "id": "Ng3HtXllRILJ"
      },
      "source": [
        "### Замена названий столбцов. "
      ]
    },
    {
      "cell_type": "code",
      "metadata": {
        "colab": {
          "base_uri": "https://localhost:8080/"
        },
        "id": "q488ulSpRILJ",
        "outputId": "e9feaa87-dda1-42f5-9237-fc04463d589a"
      },
      "source": [
        "game_df.columns"
      ],
      "execution_count": null,
      "outputs": [
        {
          "output_type": "execute_result",
          "data": {
            "text/plain": [
              "Index(['Name', 'Platform', 'Year_of_Release', 'Genre', 'NA_sales', 'EU_sales',\n",
              "       'JP_sales', 'Other_sales', 'Critic_Score', 'User_Score', 'Rating'],\n",
              "      dtype='object')"
            ]
          },
          "metadata": {
            "tags": []
          },
          "execution_count": 8
        }
      ]
    },
    {
      "cell_type": "markdown",
      "metadata": {
        "id": "CydLfFNcRILK"
      },
      "source": [
        "Приведем названия столбцов к нижнему регистру для удобства работы"
      ]
    },
    {
      "cell_type": "code",
      "metadata": {
        "colab": {
          "base_uri": "https://localhost:8080/"
        },
        "id": "SgK1YskoRILK",
        "outputId": "5f5dcadf-8f83-4199-fd30-33afb3ad3fcf"
      },
      "source": [
        "game_df.columns = game_df.columns.str.lower()\n",
        "game_df.columns"
      ],
      "execution_count": null,
      "outputs": [
        {
          "output_type": "execute_result",
          "data": {
            "text/plain": [
              "Index(['name', 'platform', 'year_of_release', 'genre', 'na_sales', 'eu_sales',\n",
              "       'jp_sales', 'other_sales', 'critic_score', 'user_score', 'rating'],\n",
              "      dtype='object')"
            ]
          },
          "metadata": {
            "tags": []
          },
          "execution_count": 9
        }
      ]
    },
    {
      "cell_type": "markdown",
      "metadata": {
        "id": "oxFYVO6wRILL"
      },
      "source": [
        "### Наличие дубликатов в сете данных. \n"
      ]
    },
    {
      "cell_type": "code",
      "metadata": {
        "colab": {
          "base_uri": "https://localhost:8080/"
        },
        "id": "fShdbxIJRILL",
        "outputId": "b7c046d2-9376-4cc0-b667-602893edd423"
      },
      "source": [
        "game_df.duplicated().sum()"
      ],
      "execution_count": null,
      "outputs": [
        {
          "output_type": "execute_result",
          "data": {
            "text/plain": [
              "0"
            ]
          },
          "metadata": {
            "tags": []
          },
          "execution_count": 10
        }
      ]
    },
    {
      "cell_type": "markdown",
      "metadata": {
        "id": "fvrLy7xxRILL"
      },
      "source": [
        "Дубликатов не обнаружили. Необходимо перейти к пропускам и их обработке"
      ]
    },
    {
      "cell_type": "markdown",
      "metadata": {
        "id": "NNPEKuzFRILL"
      },
      "source": [
        "### Подсчет пропусков и их обработка"
      ]
    },
    {
      "cell_type": "code",
      "metadata": {
        "colab": {
          "base_uri": "https://localhost:8080/"
        },
        "id": "JZwZG2ARRILL",
        "outputId": "15b3b372-62d8-4d68-c617-dc04df66d3a3"
      },
      "source": [
        "game_df.isna().mean().sort_values(ascending=False)"
      ],
      "execution_count": null,
      "outputs": [
        {
          "output_type": "execute_result",
          "data": {
            "text/plain": [
              "critic_score       0.513192\n",
              "rating             0.404786\n",
              "user_score         0.400897\n",
              "year_of_release    0.016093\n",
              "genre              0.000120\n",
              "name               0.000120\n",
              "other_sales        0.000000\n",
              "jp_sales           0.000000\n",
              "eu_sales           0.000000\n",
              "na_sales           0.000000\n",
              "platform           0.000000\n",
              "dtype: float64"
            ]
          },
          "metadata": {
            "tags": []
          },
          "execution_count": 11
        }
      ]
    },
    {
      "cell_type": "code",
      "metadata": {
        "colab": {
          "base_uri": "https://localhost:8080/"
        },
        "id": "Gf6dXoyXRILM",
        "outputId": "000e2545-a45a-4fc5-a688-bb9a5d7647ca"
      },
      "source": [
        "game_df.isna().mean().sort_values(ascending=False).plot(\n",
        "                                                  kind='bar', figsize=(15,5), \n",
        "                                                  grid=True, color='steelblue', \n",
        "                                                  edgecolor='black', linewidth=2\n",
        "                                                  )\n",
        "plt.title('Визуализация пропусков')\n",
        "plt.xlabel('Наименование столбца')\n",
        "plt.ylabel('Доля пропусков в столбце')\n",
        "plt.show()"
      ],
      "execution_count": null,
      "outputs": [
        {
          "output_type": "display_data",
          "data": {
            "image/png": "[encoded data removed]",
            "text/plain": [
              "<Figure size 1080x360 with 1 Axes>"
            ]
          },
          "metadata": {
            "tags": []
          }
        }
      ]
    },
    {
      "cell_type": "code",
      "metadata": {
        "colab": {
          "base_uri": "https://localhost:8080/",
          "referenced_widgets": [
            "3b6cbb058db7480da115cb6ffd6f5f9c",
            "4e2276836a31469492062d24c88f3fee",
            "62c97b15a9cc4228833a670a920a3911",
            "d9a1acb6b3b6470085090bcd8643dc1e",
            "fd1bdc4601504c6f9f4d53e7a2b48e64",
            "e7b910a14f3846f598b1e236fb3e20ae",
            "a3971eadaf1442dc96ea3a7be46be832",
            "55fe4ebbf3e9408f8396810bf37009b3"
          ]
        },
        "id": "KJ6iAGOsRILM",
        "outputId": "657598b7-47a8-42e6-904d-bf8008dfb529"
      },
      "source": [
        "columns_list = ['critic_score', 'user_score', 'rating']\n",
        "title_list = ['Распределение пропусков по годам в столбце critic_score', \n",
        "              'Распределение пропусков по годам в столбце user_score', \n",
        "              'Распределение пропусков по годам в столбце rating']\n",
        "\n",
        "color_list=['steelblue', 'skyblue', 'royalblue']\n",
        "\n",
        "#цикл построения наших графиков с интересующими нас параметрами\n",
        "\n",
        "for i in tqdm(range(len(columns_list))):\n",
        "    plt.figure(figsize=(15, 5))\n",
        "    plt.hist(game_df.loc[game_df[columns_list[i]].isna(), 'year_of_release'], \n",
        "            color=color_list[i], edgecolor='black', linewidth=2\n",
        "            )\n",
        "    plt.title(title_list[i])\n",
        "    plt.xlabel('') # для удаления названий столбцов\n",
        "    plt.show()"
      ],
      "execution_count": null,
      "outputs": [
        {
          "output_type": "display_data",
          "data": {
            "application/vnd.jupyter.widget-view+json": {
              "model_id": "3b6cbb058db7480da115cb6ffd6f5f9c",
              "version_minor": 0,
              "version_major": 2
            },
            "text/plain": [
              "HBox(children=(FloatProgress(value=0.0, max=3.0), HTML(value='')))"
            ]
          },
          "metadata": {
            "tags": []
          }
        },
        {
          "output_type": "display_data",
          "data": {
            "image/png": "[encoded data removed]",
            "text/plain": [
              "<Figure size 1080x360 with 1 Axes>"
            ]
          },
          "metadata": {
            "tags": []
          }
        },
        {
          "output_type": "display_data",
          "data": {
            "image/png": "[encoded data removed]",
            "text/plain": [
              "<Figure size 1080x360 with 1 Axes>"
            ]
          },
          "metadata": {
            "tags": []
          }
        },
        {
          "output_type": "display_data",
          "data": {
            "image/png": "[encoded data removed]",
            "text/plain": [
              "<Figure size 1080x360 with 1 Axes>"
            ]
          },
          "metadata": {
            "tags": []
          }
        },
        {
          "output_type": "stream",
          "text": [
            "\n"
          ],
          "name": "stdout"
        }
      ]
    },
    {
      "cell_type": "markdown",
      "metadata": {
        "id": "xDaH4_RRRILN"
      },
      "source": [
        "К сожалению, большинство пропусков наблюдается с 2000 года. Связать это с отсутствием системы оценки нельзя"
      ]
    },
    {
      "cell_type": "markdown",
      "metadata": {
        "id": "eI0-odR6RILN"
      },
      "source": [
        "#### Столбец `critic_score`"
      ]
    },
    {
      "cell_type": "markdown",
      "metadata": {
        "id": "GsPQBbmxRILN"
      },
      "source": [
        "Большое количество пропусков в стобце `critic_score`. Данные отсутствуют в зависимости от неизвестных факторов. Вероятность пропуска невозможно выразить на основе информации, содержащейся в наборе данных. Изначально преподлагали, что пропуски наблюдаются у старых игр, но на удивление - наибольшее количество пропусков наблюдается с 2010 года.  \n",
        "\n",
        "Так как уточнить возможности нет - можно применить индикаторную замену пропусков, например, на `-1`, но тогда вырастает вероятность ошибки при срезе - можем упустить данный факт - заменим на Nan. Если удалить строки - это сильно исказит анализ.\n"
      ]
    },
    {
      "cell_type": "code",
      "metadata": {
        "colab": {
          "base_uri": "https://localhost:8080/"
        },
        "id": "YROVYyxqRILN",
        "outputId": "6247371a-a890-4b18-894c-38cb42d2db38"
      },
      "source": [
        "game_df['critic_score'] = game_df['critic_score'].fillna(np.nan)\n",
        "print('Количество пропусков в столбце critic_score - {}'.format(\n",
        "                                                                game_df['critic_score'].isna().sum())\n",
        "                                                                )\n"
      ],
      "execution_count": null,
      "outputs": [
        {
          "output_type": "stream",
          "text": [
            "Количество пропусков в столбце critic_score - 8578\n"
          ],
          "name": "stdout"
        }
      ]
    },
    {
      "cell_type": "markdown",
      "metadata": {
        "id": "Kf7XSBY6RILO"
      },
      "source": [
        "#### Столбец `user_score`"
      ]
    },
    {
      "cell_type": "code",
      "metadata": {
        "colab": {
          "base_uri": "https://localhost:8080/"
        },
        "id": "aa43vLf_RILO",
        "outputId": "23f6a364-debc-41c7-9024-ac1933074e03"
      },
      "source": [
        "game_df['user_score'].unique()"
      ],
      "execution_count": null,
      "outputs": [
        {
          "output_type": "execute_result",
          "data": {
            "text/plain": [
              "array(['8', nan, '8.3', '8.5', '6.6', '8.4', '8.6', '7.7', '6.3', '7.4',\n",
              "       '8.2', '9', '7.9', '8.1', '8.7', '7.1', '3.4', '5.3', '4.8', '3.2',\n",
              "       '8.9', '6.4', '7.8', '7.5', '2.6', '7.2', '9.2', '7', '7.3', '4.3',\n",
              "       '7.6', '5.7', '5', '9.1', '6.5', 'tbd', '8.8', '6.9', '9.4', '6.8',\n",
              "       '6.1', '6.7', '5.4', '4', '4.9', '4.5', '9.3', '6.2', '4.2', '6',\n",
              "       '3.7', '4.1', '5.8', '5.6', '5.5', '4.4', '4.6', '5.9', '3.9',\n",
              "       '3.1', '2.9', '5.2', '3.3', '4.7', '5.1', '3.5', '2.5', '1.9', '3',\n",
              "       '2.7', '2.2', '2', '9.5', '2.1', '3.6', '2.8', '1.8', '3.8', '0',\n",
              "       '1.6', '9.6', '2.4', '1.7', '1.1', '0.3', '1.5', '0.7', '1.2',\n",
              "       '2.3', '0.5', '1.3', '0.2', '0.6', '1.4', '0.9', '1', '9.7'],\n",
              "      dtype=object)"
            ]
          },
          "metadata": {
            "tags": []
          },
          "execution_count": 15
        }
      ]
    },
    {
      "cell_type": "code",
      "metadata": {
        "colab": {
          "base_uri": "https://localhost:8080/"
        },
        "id": "j_wN9Ph8RILO",
        "outputId": "178cc74b-79a2-4d90-b062-3c6243612220"
      },
      "source": [
        "print('tbd встречается:', len(game_df[game_df['user_score'] == 'tbd']), 'раза')"
      ],
      "execution_count": null,
      "outputs": [
        {
          "output_type": "stream",
          "text": [
            "tbd встречается: 2424 раза\n"
          ],
          "name": "stdout"
        }
      ]
    },
    {
      "cell_type": "markdown",
      "metadata": {
        "id": "YeZeqKpFRILO"
      },
      "source": [
        "Встречается значение `tbd`. Из за этого столбец имеет тип `object`. \n",
        "\n",
        "[TBD](http://mobilradio.ru/information/vocabulary/tbd.htm) - аббревиатура от английского To Be Determined (будет определено) или To Be Decided (будет решено). Используется, если какая-то информация еще не определена или решение по вопросу не принято. Акроним служит для отметки неясностей или пропусков, которые надо заполнить, в информации требований"
      ]
    },
    {
      "cell_type": "markdown",
      "metadata": {
        "id": "6hcjOFHGRILP"
      },
      "source": [
        "Поступим аналогично `critic_score` - tbd принимаем как Nan. Пропуски не удаляем. Можно было бы применить индикаторный метод замены пропусков - но это увеличивает риски на неточный анализ. "
      ]
    },
    {
      "cell_type": "code",
      "metadata": {
        "colab": {
          "base_uri": "https://localhost:8080/"
        },
        "id": "g_IqTom_RILP",
        "outputId": "f04f7eb6-7824-4422-a9e0-498c18fd409b"
      },
      "source": [
        "game_df['user_score'] = game_df['user_score'].replace('tbd', np.nan)\n",
        "print('Количество пропусков в столбце user_score - {}'.format(\n",
        "                                                                game_df['user_score'].isna().sum())\n",
        "                                                                )\n"
      ],
      "execution_count": null,
      "outputs": [
        {
          "output_type": "stream",
          "text": [
            "Количество пропусков в столбце user_score - 9125\n"
          ],
          "name": "stdout"
        }
      ]
    },
    {
      "cell_type": "markdown",
      "metadata": {
        "id": "oKctXUcRRILQ"
      },
      "source": [
        "#### Столбец `rating`"
      ]
    },
    {
      "cell_type": "code",
      "metadata": {
        "colab": {
          "base_uri": "https://localhost:8080/"
        },
        "id": "LhW2H3OfRILQ",
        "outputId": "fe6a80f2-3999-4c1f-ac8b-16ecd68108f1"
      },
      "source": [
        "game_df['rating'].unique()"
      ],
      "execution_count": null,
      "outputs": [
        {
          "output_type": "execute_result",
          "data": {
            "text/plain": [
              "array(['E', nan, 'M', 'T', 'E10+', 'K-A', 'AO', 'EC', 'RP'], dtype=object)"
            ]
          },
          "metadata": {
            "tags": []
          },
          "execution_count": 18
        }
      ]
    },
    {
      "cell_type": "markdown",
      "metadata": {
        "id": "xYh_9vKBRILQ"
      },
      "source": [
        "Для [справки](https://ru.wikipedia.org/wiki/Entertainment_Software_Rating_Board):  \n",
        "\n",
        "- **«EC» («Early childhood»)** — «Для детей младшего возраста»: Игра подходит для детей от 3 лет и старше и не содержит материалов, которые родители могли бы счесть неподходящими. Продукты, получившие данный рейтинг, изначально разрабатываются для детей и обычно представляют собой развивающие игры. Некоторые усложнённые развивающие игры могут иметь рейтинг «Everyone». \n",
        " \n",
        " \n",
        "- **«E» («Everyone»)** — «Для всех»: Содержание вполне подходит для возрастной категории от 6 лет и старше; такие игры могут понравиться и взрослым. Игры с этим рейтингом могут содержать минимальное насилие, в основном «мультяшного» характера. Первой игрой, которая получила данный рейтинг, стала The Simpsons Cartoon Studio, выпущенная в 1996 году. Первоначально \"K-A\" (\"Kids to Adults\")  \n",
        "  \n",
        "  \n",
        "- **«E10+» («Everyone 10 and older»)** — «Для всех от 10 лет и старше»: Проекты с данным рейтингом могут содержать немного больше мультипликационного или мягкого насилия, или несколько откровенные сцены или минимальное количество крови. Рейтинг был принят ESRB 2 марта 2005 года. Первой игрой, которая получила данный рейтинг, стала Donkey Kong: Jungle Beat.  \n",
        "  \n",
        "  \n",
        "- **«T» («Teen»)** — «Подросткам»: Игра подходит для лиц от 13 лет и старше. Проекты из данной категории могут содержать насилие, непристойные сцены, грубый юмор, в меру откровенное сексуальное содержимое, кровь или нечастое использование  \n",
        "  \n",
        "  \n",
        "- **«M» («Mature»)** — «Для взрослых»: Материалы игры не подходят для подростков младше 17 лет. Проекты с данным рейтингом могут содержать достаточно жестокое насилие, большое количество крови с расчленением, непристойные сексуальные сцены или грубую ненормативную лексику, нежелательную для младшей аудитории.  \n",
        "  \n",
        "  \n",
        "- **«AO» («Adults Only 18+»)** — «Только для взрослых»: Содержание игры только для взрослых старше 18 лет. Продукты из данной категории могут содержать длительные сцены жестокого насилия и/или очень откровенное сексуальное содержимое, а также сцены с обнажением. Большинство таких игр предназначены для персональных компьютеров под управлением Microsoft Windows и Apple Macintosh. Рейтинг «Только для взрослых» является предметом многочисленных дискуссий, так как накладывает серьёзные ограничения на продажи игры.  \n",
        "  \n",
        "  \n",
        "- **«RP» («Rating Pending»)** — «Рейтинг ожидается»: Продукт был отправлен в ESRB и ожидает присвоения рейтинга. Данный логотип используется только на рекламных презентациях и в демо-версиях игр до официальной даты выпуска в продажу  "
      ]
    },
    {
      "cell_type": "markdown",
      "metadata": {
        "id": "IzO2FeDrRILQ"
      },
      "source": [
        "Помимо пропусков обнаружили, что имеем несколько вариантов названий по одному уровню рейтинга. Необходимо `K-A` переименовать в `E`. `RP` - тоже приравняем к Nan, аналогично tbd.\n",
        "\n",
        "Nan в этом случае заменим значением `RP`, так как столбец имеет тип `object`, числа нам не нужны"
      ]
    },
    {
      "cell_type": "code",
      "metadata": {
        "colab": {
          "base_uri": "https://localhost:8080/"
        },
        "id": "u2r5gC4-RILQ",
        "outputId": "ccff2178-dead-4f96-9d42-43468c271d50"
      },
      "source": [
        "game_df['rating'] = game_df['rating'].replace('K-A', 'E').fillna('RP')\n",
        "print('Количество пропусков в столбце rating - {}'.format(\n",
        "                                                                game_df['rating'].isna().sum())\n",
        "                                                                )\n",
        "\n"
      ],
      "execution_count": null,
      "outputs": [
        {
          "output_type": "stream",
          "text": [
            "Количество пропусков в столбце rating - 0\n"
          ],
          "name": "stdout"
        }
      ]
    },
    {
      "cell_type": "markdown",
      "metadata": {
        "id": "aP4G7X-YRILR"
      },
      "source": [
        "#### Столбец `year_of_release`"
      ]
    },
    {
      "cell_type": "markdown",
      "metadata": {
        "id": "KtknKWzZRILR"
      },
      "source": [
        "Посмотрим количество пропусков столбца `year_of_release`:"
      ]
    },
    {
      "cell_type": "code",
      "metadata": {
        "colab": {
          "base_uri": "https://localhost:8080/"
        },
        "id": "9mqIgKEiRILR",
        "outputId": "6c893bce-9204-45a7-938d-0e91bdf280b8"
      },
      "source": [
        "len(game_df[game_df['year_of_release'].isna()])"
      ],
      "execution_count": null,
      "outputs": [
        {
          "output_type": "execute_result",
          "data": {
            "text/plain": [
              "269"
            ]
          },
          "metadata": {
            "tags": []
          },
          "execution_count": 20
        }
      ]
    },
    {
      "cell_type": "code",
      "metadata": {
        "colab": {
          "base_uri": "https://localhost:8080/"
        },
        "id": "-ySjtrdzRILR",
        "outputId": "f2482a24-7791-4f17-a166-96681523feca"
      },
      "source": [
        "game_df['year_of_release'].unique()"
      ],
      "execution_count": null,
      "outputs": [
        {
          "output_type": "execute_result",
          "data": {
            "text/plain": [
              "array([2006., 1985., 2008., 2009., 1996., 1989., 1984., 2005., 1999.,\n",
              "       2007., 2010., 2013., 2004., 1990., 1988., 2002., 2001., 2011.,\n",
              "       1998., 2015., 2012., 2014., 1992., 1997., 1993., 1994., 1982.,\n",
              "       2016., 2003., 1986., 2000.,   nan, 1995., 1991., 1981., 1987.,\n",
              "       1980., 1983.])"
            ]
          },
          "metadata": {
            "tags": []
          },
          "execution_count": 21
        }
      ]
    },
    {
      "cell_type": "markdown",
      "metadata": {
        "id": "AfM0inkbRILR"
      },
      "source": [
        "269 пропусков по столбцу год. Можно было бы провести исследование и восстановить пропуски, но это 269 строк. Заменим на `0`, после обработки создадим новый датафрейм, исключив данные строки"
      ]
    },
    {
      "cell_type": "code",
      "metadata": {
        "colab": {
          "base_uri": "https://localhost:8080/"
        },
        "id": "nQwHsa1dRILR",
        "outputId": "7945dffc-8f22-4fcd-8713-73f781a6281f"
      },
      "source": [
        "game_df['year_of_release'] = game_df['year_of_release'].fillna(0)\n",
        "print('Количество пропусков в столбце year_of_release - {}'.format(\n",
        "                                                                game_df['year_of_release'].isna().sum())\n",
        "                                                                )"
      ],
      "execution_count": null,
      "outputs": [
        {
          "output_type": "stream",
          "text": [
            "Количество пропусков в столбце year_of_release - 0\n"
          ],
          "name": "stdout"
        }
      ]
    },
    {
      "cell_type": "markdown",
      "metadata": {
        "id": "JNO2gjdNRILS"
      },
      "source": [
        "#### Столбец `name` и `genre`"
      ]
    },
    {
      "cell_type": "code",
      "metadata": {
        "colab": {
          "base_uri": "https://localhost:8080/"
        },
        "id": "R69N8hqERILS",
        "outputId": "475bea72-a2f0-4dcf-eb3e-6d4bab0840e7"
      },
      "source": [
        "print('Количество пропусков в столбце name', len(game_df[game_df['name'].isna()]))\n",
        "print('Количество пропусков в столбце genre', len(game_df[game_df['genre'].isna()]))"
      ],
      "execution_count": null,
      "outputs": [
        {
          "output_type": "stream",
          "text": [
            "Количество пропусков в столбце name 2\n",
            "Количество пропусков в столбце genre 2\n"
          ],
          "name": "stdout"
        }
      ]
    },
    {
      "cell_type": "code",
      "metadata": {
        "colab": {
          "base_uri": "https://localhost:8080/"
        },
        "id": "OcA-yAktRILS",
        "outputId": "b66f95c7-8ea3-4392-c925-4e859d683a87"
      },
      "source": [
        "game_df[game_df['name'].isna()]"
      ],
      "execution_count": null,
      "outputs": [
        {
          "output_type": "execute_result",
          "data": {
            "text/html": [
              "<div>\n",
              "<style scoped>\n",
              "    .dataframe tbody tr th:only-of-type {\n",
              "        vertical-align: middle;\n",
              "    }\n",
              "\n",
              "    .dataframe tbody tr th {\n",
              "        vertical-align: top;\n",
              "    }\n",
              "\n",
              "    .dataframe thead th {\n",
              "        text-align: right;\n",
              "    }\n",
              "</style>\n",
              "<table border=\"1\" class=\"dataframe\">\n",
              "  <thead>\n",
              "    <tr style=\"text-align: right;\">\n",
              "      <th></th>\n",
              "      <th>name</th>\n",
              "      <th>platform</th>\n",
              "      <th>year_of_release</th>\n",
              "      <th>genre</th>\n",
              "      <th>na_sales</th>\n",
              "      <th>eu_sales</th>\n",
              "      <th>jp_sales</th>\n",
              "      <th>other_sales</th>\n",
              "      <th>critic_score</th>\n",
              "      <th>user_score</th>\n",
              "      <th>rating</th>\n",
              "    </tr>\n",
              "  </thead>\n",
              "  <tbody>\n",
              "    <tr>\n",
              "      <th>659</th>\n",
              "      <td>NaN</td>\n",
              "      <td>GEN</td>\n",
              "      <td>1993.0</td>\n",
              "      <td>NaN</td>\n",
              "      <td>1.78</td>\n",
              "      <td>0.53</td>\n",
              "      <td>0.00</td>\n",
              "      <td>0.08</td>\n",
              "      <td>NaN</td>\n",
              "      <td>NaN</td>\n",
              "      <td>RP</td>\n",
              "    </tr>\n",
              "    <tr>\n",
              "      <th>14244</th>\n",
              "      <td>NaN</td>\n",
              "      <td>GEN</td>\n",
              "      <td>1993.0</td>\n",
              "      <td>NaN</td>\n",
              "      <td>0.00</td>\n",
              "      <td>0.00</td>\n",
              "      <td>0.03</td>\n",
              "      <td>0.00</td>\n",
              "      <td>NaN</td>\n",
              "      <td>NaN</td>\n",
              "      <td>RP</td>\n",
              "    </tr>\n",
              "  </tbody>\n",
              "</table>\n",
              "</div>"
            ],
            "text/plain": [
              "      name platform  year_of_release  ... critic_score  user_score  rating\n",
              "659    NaN      GEN           1993.0  ...          NaN         NaN      RP\n",
              "14244  NaN      GEN           1993.0  ...          NaN         NaN      RP\n",
              "\n",
              "[2 rows x 11 columns]"
            ]
          },
          "metadata": {
            "tags": []
          },
          "execution_count": 24
        }
      ]
    },
    {
      "cell_type": "code",
      "metadata": {
        "colab": {
          "base_uri": "https://localhost:8080/"
        },
        "id": "QIFo7GVVRILS",
        "outputId": "1c23d973-8a08-4649-e7ad-f0f1ae4cfb05"
      },
      "source": [
        "game_df[game_df['genre'].isna()]"
      ],
      "execution_count": null,
      "outputs": [
        {
          "output_type": "execute_result",
          "data": {
            "text/html": [
              "<div>\n",
              "<style scoped>\n",
              "    .dataframe tbody tr th:only-of-type {\n",
              "        vertical-align: middle;\n",
              "    }\n",
              "\n",
              "    .dataframe tbody tr th {\n",
              "        vertical-align: top;\n",
              "    }\n",
              "\n",
              "    .dataframe thead th {\n",
              "        text-align: right;\n",
              "    }\n",
              "</style>\n",
              "<table border=\"1\" class=\"dataframe\">\n",
              "  <thead>\n",
              "    <tr style=\"text-align: right;\">\n",
              "      <th></th>\n",
              "      <th>name</th>\n",
              "      <th>platform</th>\n",
              "      <th>year_of_release</th>\n",
              "      <th>genre</th>\n",
              "      <th>na_sales</th>\n",
              "      <th>eu_sales</th>\n",
              "      <th>jp_sales</th>\n",
              "      <th>other_sales</th>\n",
              "      <th>critic_score</th>\n",
              "      <th>user_score</th>\n",
              "      <th>rating</th>\n",
              "    </tr>\n",
              "  </thead>\n",
              "  <tbody>\n",
              "    <tr>\n",
              "      <th>659</th>\n",
              "      <td>NaN</td>\n",
              "      <td>GEN</td>\n",
              "      <td>1993.0</td>\n",
              "      <td>NaN</td>\n",
              "      <td>1.78</td>\n",
              "      <td>0.53</td>\n",
              "      <td>0.00</td>\n",
              "      <td>0.08</td>\n",
              "      <td>NaN</td>\n",
              "      <td>NaN</td>\n",
              "      <td>RP</td>\n",
              "    </tr>\n",
              "    <tr>\n",
              "      <th>14244</th>\n",
              "      <td>NaN</td>\n",
              "      <td>GEN</td>\n",
              "      <td>1993.0</td>\n",
              "      <td>NaN</td>\n",
              "      <td>0.00</td>\n",
              "      <td>0.00</td>\n",
              "      <td>0.03</td>\n",
              "      <td>0.00</td>\n",
              "      <td>NaN</td>\n",
              "      <td>NaN</td>\n",
              "      <td>RP</td>\n",
              "    </tr>\n",
              "  </tbody>\n",
              "</table>\n",
              "</div>"
            ],
            "text/plain": [
              "      name platform  year_of_release  ... critic_score  user_score  rating\n",
              "659    NaN      GEN           1993.0  ...          NaN         NaN      RP\n",
              "14244  NaN      GEN           1993.0  ...          NaN         NaN      RP\n",
              "\n",
              "[2 rows x 11 columns]"
            ]
          },
          "metadata": {
            "tags": []
          },
          "execution_count": 25
        }
      ]
    },
    {
      "cell_type": "markdown",
      "metadata": {
        "id": "xwYTLmiNRILS"
      },
      "source": [
        "Провели исследование. Обнаружить и привязать данные параметры к названию игры не удалось. Заменим название на `unknown`. Удалять строки не будем. Исключим из анализа через `query()`"
      ]
    },
    {
      "cell_type": "code",
      "metadata": {
        "colab": {
          "base_uri": "https://localhost:8080/"
        },
        "id": "tRWxgA4uRILT",
        "outputId": "358b36b1-6b62-4a6b-8c8a-dfc58ff18b9c"
      },
      "source": [
        "game_df['name'] = game_df['name'].fillna('unknown')\n",
        "game_df['genre'] = game_df['genre'].fillna('Misc')\n",
        "print('Количество пропусков в столбце name - {}'.format(\n",
        "                                                       game_df['name'].isna().sum())\n",
        "                                                       )\n",
        "print('Количество пропусков в столбце genre - {}'.format(\n",
        "                                                       game_df['genre'].isna().sum())\n",
        "                                                       )\n"
      ],
      "execution_count": null,
      "outputs": [
        {
          "output_type": "stream",
          "text": [
            "Количество пропусков в столбце name - 0\n",
            "Количество пропусков в столбце genre - 0\n"
          ],
          "name": "stdout"
        }
      ]
    },
    {
      "cell_type": "code",
      "metadata": {
        "colab": {
          "base_uri": "https://localhost:8080/"
        },
        "id": "wwkEQWbERILT",
        "outputId": "e579a67f-9d8f-4811-b7f1-6b117cee267f"
      },
      "source": [
        "game_df['genre'].unique()"
      ],
      "execution_count": null,
      "outputs": [
        {
          "output_type": "execute_result",
          "data": {
            "text/plain": [
              "array(['Sports', 'Platform', 'Racing', 'Role-Playing', 'Puzzle', 'Misc',\n",
              "       'Shooter', 'Simulation', 'Action', 'Fighting', 'Adventure',\n",
              "       'Strategy'], dtype=object)"
            ]
          },
          "metadata": {
            "tags": []
          },
          "execution_count": 27
        }
      ]
    },
    {
      "cell_type": "markdown",
      "metadata": {
        "id": "-IAlRtZcRILT"
      },
      "source": [
        "Приведем столбец к нижнему регистру. `genre` заменим на `misc`"
      ]
    },
    {
      "cell_type": "code",
      "metadata": {
        "id": "L4cidnpZRILT"
      },
      "source": [
        "game_df['genre'] = game_df['genre'].str.lower()"
      ],
      "execution_count": null,
      "outputs": []
    },
    {
      "cell_type": "markdown",
      "metadata": {
        "id": "DgZTVCqxRILT"
      },
      "source": [
        "#### Преобразование данных в иные типы"
      ]
    },
    {
      "cell_type": "code",
      "metadata": {
        "colab": {
          "base_uri": "https://localhost:8080/"
        },
        "id": "Sq8rhKUARILT",
        "outputId": "888450f4-e0fa-4636-f19c-ce7b0fe7b632"
      },
      "source": [
        "game_df.info()"
      ],
      "execution_count": null,
      "outputs": [
        {
          "output_type": "stream",
          "text": [
            "<class 'pandas.core.frame.DataFrame'>\n",
            "RangeIndex: 16715 entries, 0 to 16714\n",
            "Data columns (total 11 columns):\n",
            " #   Column           Non-Null Count  Dtype  \n",
            "---  ------           --------------  -----  \n",
            " 0   name             16715 non-null  object \n",
            " 1   platform         16715 non-null  object \n",
            " 2   year_of_release  16715 non-null  float64\n",
            " 3   genre            16715 non-null  object \n",
            " 4   na_sales         16715 non-null  float64\n",
            " 5   eu_sales         16715 non-null  float64\n",
            " 6   jp_sales         16715 non-null  float64\n",
            " 7   other_sales      16715 non-null  float64\n",
            " 8   critic_score     8137 non-null   float64\n",
            " 9   user_score       7590 non-null   object \n",
            " 10  rating           16715 non-null  object \n",
            "dtypes: float64(6), object(5)\n",
            "memory usage: 1.4+ MB\n"
          ],
          "name": "stdout"
        }
      ]
    },
    {
      "cell_type": "markdown",
      "metadata": {
        "id": "rUfydu6TRILU"
      },
      "source": [
        "Для удобства работы оценку по `user_score` приведем к `100-бальной`. Заменим типы данных в столбцах `year_of_release`, `critic_score` на целочисленный."
      ]
    },
    {
      "cell_type": "code",
      "metadata": {
        "colab": {
          "base_uri": "https://localhost:8080/"
        },
        "id": "ADDxeARERILU",
        "outputId": "c7a9ec5a-89b7-4d04-d0f5-2e2807063e5f"
      },
      "source": [
        "# работа со столбцом user_score\n",
        "\n",
        "game_df['user_score'] = game_df['user_score'].astype('float64')\n",
        "game_df['user_score'] = game_df['user_score'].apply(lambda x: x*10)\n",
        "\n",
        "#так как мы меняли nan на -1 - заменим получившеся значение -10 после приведения к 100 баллам на -1:\n",
        "\n",
        "game_df['user_score'] = game_df['user_score'].replace(-10,-1)\n",
        "\n",
        "# приведение нужных столбцов к целочисленным\n",
        "\n",
        "columns_to_int = ['year_of_release', 'critic_score', 'user_score']\n",
        "for column in columns_to_int:\n",
        "    game_df[column] = game_df[game_df[column].notna()][column].astype('int64')\n",
        "game_df.info()"
      ],
      "execution_count": null,
      "outputs": [
        {
          "output_type": "stream",
          "text": [
            "<class 'pandas.core.frame.DataFrame'>\n",
            "RangeIndex: 16715 entries, 0 to 16714\n",
            "Data columns (total 11 columns):\n",
            " #   Column           Non-Null Count  Dtype  \n",
            "---  ------           --------------  -----  \n",
            " 0   name             16715 non-null  object \n",
            " 1   platform         16715 non-null  object \n",
            " 2   year_of_release  16715 non-null  int64  \n",
            " 3   genre            16715 non-null  object \n",
            " 4   na_sales         16715 non-null  float64\n",
            " 5   eu_sales         16715 non-null  float64\n",
            " 6   jp_sales         16715 non-null  float64\n",
            " 7   other_sales      16715 non-null  float64\n",
            " 8   critic_score     8137 non-null   float64\n",
            " 9   user_score       7590 non-null   float64\n",
            " 10  rating           16715 non-null  object \n",
            "dtypes: float64(6), int64(1), object(4)\n",
            "memory usage: 1.4+ MB\n"
          ],
          "name": "stdout"
        }
      ]
    },
    {
      "cell_type": "markdown",
      "metadata": {
        "id": "4J2CynWqRILU"
      },
      "source": [
        "#### Суммарные продажи по всем регионам"
      ]
    },
    {
      "cell_type": "code",
      "metadata": {
        "id": "nPxKWbs3RILU"
      },
      "source": [
        "game_df ['total_sales'] = (\n",
        "                          game_df['na_sales'] + \n",
        "                          game_df['eu_sales'] + \n",
        "                          game_df['jp_sales'] + \n",
        "                          game_df['other_sales']\n",
        ")"
      ],
      "execution_count": null,
      "outputs": []
    },
    {
      "cell_type": "code",
      "metadata": {
        "colab": {
          "base_uri": "https://localhost:8080/"
        },
        "id": "1DJx4igTRILU",
        "outputId": "ffeb6213-d7f6-4552-e8bd-bbc654068151"
      },
      "source": [
        "# исключим нулевой год\n",
        "game_df_upd = game_df[game_df['year_of_release']!= 0]\n",
        "game_df_upd.head(15)"
      ],
      "execution_count": null,
      "outputs": [
        {
          "output_type": "execute_result",
          "data": {
            "text/html": [
              "<div>\n",
              "<style scoped>\n",
              "    .dataframe tbody tr th:only-of-type {\n",
              "        vertical-align: middle;\n",
              "    }\n",
              "\n",
              "    .dataframe tbody tr th {\n",
              "        vertical-align: top;\n",
              "    }\n",
              "\n",
              "    .dataframe thead th {\n",
              "        text-align: right;\n",
              "    }\n",
              "</style>\n",
              "<table border=\"1\" class=\"dataframe\">\n",
              "  <thead>\n",
              "    <tr style=\"text-align: right;\">\n",
              "      <th></th>\n",
              "      <th>name</th>\n",
              "      <th>platform</th>\n",
              "      <th>year_of_release</th>\n",
              "      <th>genre</th>\n",
              "      <th>na_sales</th>\n",
              "      <th>eu_sales</th>\n",
              "      <th>jp_sales</th>\n",
              "      <th>other_sales</th>\n",
              "      <th>critic_score</th>\n",
              "      <th>user_score</th>\n",
              "      <th>rating</th>\n",
              "      <th>total_sales</th>\n",
              "    </tr>\n",
              "  </thead>\n",
              "  <tbody>\n",
              "    <tr>\n",
              "      <th>0</th>\n",
              "      <td>Wii Sports</td>\n",
              "      <td>Wii</td>\n",
              "      <td>2006</td>\n",
              "      <td>sports</td>\n",
              "      <td>41.36</td>\n",
              "      <td>28.96</td>\n",
              "      <td>3.77</td>\n",
              "      <td>8.45</td>\n",
              "      <td>76.0</td>\n",
              "      <td>80.0</td>\n",
              "      <td>E</td>\n",
              "      <td>82.54</td>\n",
              "    </tr>\n",
              "    <tr>\n",
              "      <th>1</th>\n",
              "      <td>Super Mario Bros.</td>\n",
              "      <td>NES</td>\n",
              "      <td>1985</td>\n",
              "      <td>platform</td>\n",
              "      <td>29.08</td>\n",
              "      <td>3.58</td>\n",
              "      <td>6.81</td>\n",
              "      <td>0.77</td>\n",
              "      <td>NaN</td>\n",
              "      <td>NaN</td>\n",
              "      <td>RP</td>\n",
              "      <td>40.24</td>\n",
              "    </tr>\n",
              "    <tr>\n",
              "      <th>2</th>\n",
              "      <td>Mario Kart Wii</td>\n",
              "      <td>Wii</td>\n",
              "      <td>2008</td>\n",
              "      <td>racing</td>\n",
              "      <td>15.68</td>\n",
              "      <td>12.76</td>\n",
              "      <td>3.79</td>\n",
              "      <td>3.29</td>\n",
              "      <td>82.0</td>\n",
              "      <td>83.0</td>\n",
              "      <td>E</td>\n",
              "      <td>35.52</td>\n",
              "    </tr>\n",
              "    <tr>\n",
              "      <th>3</th>\n",
              "      <td>Wii Sports Resort</td>\n",
              "      <td>Wii</td>\n",
              "      <td>2009</td>\n",
              "      <td>sports</td>\n",
              "      <td>15.61</td>\n",
              "      <td>10.93</td>\n",
              "      <td>3.28</td>\n",
              "      <td>2.95</td>\n",
              "      <td>80.0</td>\n",
              "      <td>80.0</td>\n",
              "      <td>E</td>\n",
              "      <td>32.77</td>\n",
              "    </tr>\n",
              "    <tr>\n",
              "      <th>4</th>\n",
              "      <td>Pokemon Red/Pokemon Blue</td>\n",
              "      <td>GB</td>\n",
              "      <td>1996</td>\n",
              "      <td>role-playing</td>\n",
              "      <td>11.27</td>\n",
              "      <td>8.89</td>\n",
              "      <td>10.22</td>\n",
              "      <td>1.00</td>\n",
              "      <td>NaN</td>\n",
              "      <td>NaN</td>\n",
              "      <td>RP</td>\n",
              "      <td>31.38</td>\n",
              "    </tr>\n",
              "    <tr>\n",
              "      <th>5</th>\n",
              "      <td>Tetris</td>\n",
              "      <td>GB</td>\n",
              "      <td>1989</td>\n",
              "      <td>puzzle</td>\n",
              "      <td>23.20</td>\n",
              "      <td>2.26</td>\n",
              "      <td>4.22</td>\n",
              "      <td>0.58</td>\n",
              "      <td>NaN</td>\n",
              "      <td>NaN</td>\n",
              "      <td>RP</td>\n",
              "      <td>30.26</td>\n",
              "    </tr>\n",
              "    <tr>\n",
              "      <th>6</th>\n",
              "      <td>New Super Mario Bros.</td>\n",
              "      <td>DS</td>\n",
              "      <td>2006</td>\n",
              "      <td>platform</td>\n",
              "      <td>11.28</td>\n",
              "      <td>9.14</td>\n",
              "      <td>6.50</td>\n",
              "      <td>2.88</td>\n",
              "      <td>89.0</td>\n",
              "      <td>85.0</td>\n",
              "      <td>E</td>\n",
              "      <td>29.80</td>\n",
              "    </tr>\n",
              "    <tr>\n",
              "      <th>7</th>\n",
              "      <td>Wii Play</td>\n",
              "      <td>Wii</td>\n",
              "      <td>2006</td>\n",
              "      <td>misc</td>\n",
              "      <td>13.96</td>\n",
              "      <td>9.18</td>\n",
              "      <td>2.93</td>\n",
              "      <td>2.84</td>\n",
              "      <td>58.0</td>\n",
              "      <td>66.0</td>\n",
              "      <td>E</td>\n",
              "      <td>28.91</td>\n",
              "    </tr>\n",
              "    <tr>\n",
              "      <th>8</th>\n",
              "      <td>New Super Mario Bros. Wii</td>\n",
              "      <td>Wii</td>\n",
              "      <td>2009</td>\n",
              "      <td>platform</td>\n",
              "      <td>14.44</td>\n",
              "      <td>6.94</td>\n",
              "      <td>4.70</td>\n",
              "      <td>2.24</td>\n",
              "      <td>87.0</td>\n",
              "      <td>84.0</td>\n",
              "      <td>E</td>\n",
              "      <td>28.32</td>\n",
              "    </tr>\n",
              "    <tr>\n",
              "      <th>9</th>\n",
              "      <td>Duck Hunt</td>\n",
              "      <td>NES</td>\n",
              "      <td>1984</td>\n",
              "      <td>shooter</td>\n",
              "      <td>26.93</td>\n",
              "      <td>0.63</td>\n",
              "      <td>0.28</td>\n",
              "      <td>0.47</td>\n",
              "      <td>NaN</td>\n",
              "      <td>NaN</td>\n",
              "      <td>RP</td>\n",
              "      <td>28.31</td>\n",
              "    </tr>\n",
              "    <tr>\n",
              "      <th>10</th>\n",
              "      <td>Nintendogs</td>\n",
              "      <td>DS</td>\n",
              "      <td>2005</td>\n",
              "      <td>simulation</td>\n",
              "      <td>9.05</td>\n",
              "      <td>10.95</td>\n",
              "      <td>1.93</td>\n",
              "      <td>2.74</td>\n",
              "      <td>NaN</td>\n",
              "      <td>NaN</td>\n",
              "      <td>RP</td>\n",
              "      <td>24.67</td>\n",
              "    </tr>\n",
              "    <tr>\n",
              "      <th>11</th>\n",
              "      <td>Mario Kart DS</td>\n",
              "      <td>DS</td>\n",
              "      <td>2005</td>\n",
              "      <td>racing</td>\n",
              "      <td>9.71</td>\n",
              "      <td>7.47</td>\n",
              "      <td>4.13</td>\n",
              "      <td>1.90</td>\n",
              "      <td>91.0</td>\n",
              "      <td>86.0</td>\n",
              "      <td>E</td>\n",
              "      <td>23.21</td>\n",
              "    </tr>\n",
              "    <tr>\n",
              "      <th>12</th>\n",
              "      <td>Pokemon Gold/Pokemon Silver</td>\n",
              "      <td>GB</td>\n",
              "      <td>1999</td>\n",
              "      <td>role-playing</td>\n",
              "      <td>9.00</td>\n",
              "      <td>6.18</td>\n",
              "      <td>7.20</td>\n",
              "      <td>0.71</td>\n",
              "      <td>NaN</td>\n",
              "      <td>NaN</td>\n",
              "      <td>RP</td>\n",
              "      <td>23.09</td>\n",
              "    </tr>\n",
              "    <tr>\n",
              "      <th>13</th>\n",
              "      <td>Wii Fit</td>\n",
              "      <td>Wii</td>\n",
              "      <td>2007</td>\n",
              "      <td>sports</td>\n",
              "      <td>8.92</td>\n",
              "      <td>8.03</td>\n",
              "      <td>3.60</td>\n",
              "      <td>2.15</td>\n",
              "      <td>80.0</td>\n",
              "      <td>77.0</td>\n",
              "      <td>E</td>\n",
              "      <td>22.70</td>\n",
              "    </tr>\n",
              "    <tr>\n",
              "      <th>14</th>\n",
              "      <td>Kinect Adventures!</td>\n",
              "      <td>X360</td>\n",
              "      <td>2010</td>\n",
              "      <td>misc</td>\n",
              "      <td>15.00</td>\n",
              "      <td>4.89</td>\n",
              "      <td>0.24</td>\n",
              "      <td>1.69</td>\n",
              "      <td>61.0</td>\n",
              "      <td>63.0</td>\n",
              "      <td>E</td>\n",
              "      <td>21.82</td>\n",
              "    </tr>\n",
              "  </tbody>\n",
              "</table>\n",
              "</div>"
            ],
            "text/plain": [
              "                           name platform  ...  rating total_sales\n",
              "0                    Wii Sports      Wii  ...       E       82.54\n",
              "1             Super Mario Bros.      NES  ...      RP       40.24\n",
              "2                Mario Kart Wii      Wii  ...       E       35.52\n",
              "3             Wii Sports Resort      Wii  ...       E       32.77\n",
              "4      Pokemon Red/Pokemon Blue       GB  ...      RP       31.38\n",
              "5                        Tetris       GB  ...      RP       30.26\n",
              "6         New Super Mario Bros.       DS  ...       E       29.80\n",
              "7                      Wii Play      Wii  ...       E       28.91\n",
              "8     New Super Mario Bros. Wii      Wii  ...       E       28.32\n",
              "9                     Duck Hunt      NES  ...      RP       28.31\n",
              "10                   Nintendogs       DS  ...      RP       24.67\n",
              "11                Mario Kart DS       DS  ...       E       23.21\n",
              "12  Pokemon Gold/Pokemon Silver       GB  ...      RP       23.09\n",
              "13                      Wii Fit      Wii  ...       E       22.70\n",
              "14           Kinect Adventures!     X360  ...       E       21.82\n",
              "\n",
              "[15 rows x 12 columns]"
            ]
          },
          "metadata": {
            "tags": []
          },
          "execution_count": 32
        }
      ]
    },
    {
      "cell_type": "code",
      "metadata": {
        "colab": {
          "base_uri": "https://localhost:8080/"
        },
        "id": "3eOHslJ7RILU",
        "outputId": "38308357-f4ad-4f3e-9484-44d4e8e754f4"
      },
      "source": [
        "game_df_upd.info()"
      ],
      "execution_count": null,
      "outputs": [
        {
          "output_type": "stream",
          "text": [
            "<class 'pandas.core.frame.DataFrame'>\n",
            "Int64Index: 16446 entries, 0 to 16714\n",
            "Data columns (total 12 columns):\n",
            " #   Column           Non-Null Count  Dtype  \n",
            "---  ------           --------------  -----  \n",
            " 0   name             16446 non-null  object \n",
            " 1   platform         16446 non-null  object \n",
            " 2   year_of_release  16446 non-null  int64  \n",
            " 3   genre            16446 non-null  object \n",
            " 4   na_sales         16446 non-null  float64\n",
            " 5   eu_sales         16446 non-null  float64\n",
            " 6   jp_sales         16446 non-null  float64\n",
            " 7   other_sales      16446 non-null  float64\n",
            " 8   critic_score     7983 non-null   float64\n",
            " 9   user_score       7463 non-null   float64\n",
            " 10  rating           16446 non-null  object \n",
            " 11  total_sales      16446 non-null  float64\n",
            "dtypes: float64(7), int64(1), object(4)\n",
            "memory usage: 1.6+ MB\n"
          ],
          "name": "stdout"
        }
      ]
    },
    {
      "cell_type": "markdown",
      "metadata": {
        "id": "4MtWxKieRILV"
      },
      "source": [
        "#### Вывод\n",
        "\n",
        "Произвели предподготовку данных.\n",
        "\n",
        "Привели название столбцов к нижнему регистру, аналогично поступили с жанрами, произвели замену типов данных,изучили пропуски и дубликаты. Пропуски отработали, строки приняли решение не удалять, исключать через `query()`. Добавили к датафрейму дополнительный столбец `total_sales`.\n"
      ]
    },
    {
      "cell_type": "markdown",
      "metadata": {
        "id": "c6W9ho5cRILV"
      },
      "source": [
        "## Исследовательский анализ данных"
      ]
    },
    {
      "cell_type": "markdown",
      "metadata": {
        "id": "akkj5MrPRILV"
      },
      "source": [
        "### Анализ количества и продаж выпускаемых игр за весь период"
      ]
    },
    {
      "cell_type": "markdown",
      "metadata": {
        "id": "piZZ8zXiRILW"
      },
      "source": [
        "Игровая индустрия начинает активно развиваться с 1994 года. Стоит отметить, что рейтинг ESRP применяют с 1993 года. Пики приходятся на 2006 - 2011 года, далее мы видим спад и с 2012 года некоторое выравнивание (от 500 до 652 игр в год - близко к уровню 2001 - 2006 года). Это может быть связано развитием игр на устройствах мобильной связи для Android или iOS - *мобилки*, которые отсутствуют в списке платформ.  \n",
        "\n",
        "Для упрощения восприятия приведем гистограмму с группировокой по названию:\n"
      ]
    },
    {
      "cell_type": "code",
      "metadata": {
        "id": "Xm3iKy5WRILW"
      },
      "source": [
        "game_df_upd.groupby('year_of_release')['name'].count().plot(\n",
        "            kind='bar', y='name', figsize=(15,5), edgecolor='black'\n",
        ")\n",
        "plt.title('Количество выпускаемых игр от 1980 года по 2016 год')\n",
        "plt.xticks(rotation=42)\n",
        "plt.xlabel('')\n",
        "plt.show()\n",
        "    "
      ],
      "execution_count": null,
      "outputs": []
    },
    {
      "cell_type": "markdown",
      "metadata": {
        "id": "fp5feRg6RILW"
      },
      "source": [
        "Посмотрим продажи игр по различным платформам в рассматриваемом периоде времени."
      ]
    },
    {
      "cell_type": "code",
      "metadata": {
        "id": "Unl8tN-aRILX"
      },
      "source": [
        "game_df_upd.groupby('platform')['total_sales'].sum().sort_values(ascending=True).plot(\n",
        "            kind='barh', y='total_sales', figsize=(15,10), edgecolor='black'\n",
        ")\n",
        "plt.title('Общие продажи игр на различных платформах')\n",
        "plt.xticks(rotation=42)\n",
        "plt.xlabel('')\n",
        "plt.ylabel('')\n",
        "plt.show()\n",
        "    "
      ],
      "execution_count": null,
      "outputs": []
    },
    {
      "cell_type": "markdown",
      "metadata": {
        "id": "D-S7yOW4RILX"
      },
      "source": [
        "Для удобства выделим топ 10 платформ по продажам:"
      ]
    },
    {
      "cell_type": "code",
      "metadata": {
        "id": "6HwAN5U4RILX"
      },
      "source": [
        "game_df_upd.groupby('platform')['total_sales'].sum().to_frame(\n",
        "                                                        'total_sales').sort_values(\n",
        "                                                        by='total_sales', ascending=False\n",
        "                                                        ).head(10)"
      ],
      "execution_count": null,
      "outputs": []
    },
    {
      "cell_type": "markdown",
      "metadata": {
        "id": "J3n9UA-FRILX"
      },
      "source": [
        "Лидерами можно выделить PS2, PS3 и Xbox360. Wii и DS также не отстают"
      ]
    },
    {
      "cell_type": "code",
      "metadata": {
        "id": "LjrCHo-GRILX"
      },
      "source": [
        "list_of_platform = ['PS4', 'PC', '3DS', 'XOne']\n",
        "games_not_new = game_df_upd.query('platform not in @list_of_platform').copy()\n",
        "born_year = games_not_new.groupby('platform')['year_of_release'].agg(min)\n",
        "deadline = games_not_new.groupby('platform')['year_of_release'].agg(max)\n",
        "life_time = deadline - born_year\n",
        "life_time.to_dict()\n",
        "games_not_new['life_time'] = games_not_new['platform'].map(life_time)\n",
        "games_not_new.head()\n"
      ],
      "execution_count": null,
      "outputs": []
    },
    {
      "cell_type": "code",
      "metadata": {
        "id": "ieKMrOp3RILY"
      },
      "source": [
        "q75 = games_not_new['life_time'].quantile([.75])\n",
        "q25 = games_not_new['life_time'].quantile([.25])\n",
        "iqr = q75 - q25\n",
        "low_range = q25 - (1.5 * iqr)\n",
        "high_range = q75 + (1.5 * iqr)\n",
        "plt.figure(figsize=(15, 5))\n",
        "sns.boxplot(games_not_new['life_time'], color='steelblue')\n",
        "plt.xlim = (low_range, high_range)\n",
        "plt.title('Разброс значений года жизни игровой платформы')\n",
        "plt.xlabel('')\n",
        "plt.show()\n"
      ],
      "execution_count": null,
      "outputs": []
    },
    {
      "cell_type": "markdown",
      "metadata": {
        "id": "_AdCg013RILY"
      },
      "source": [
        "Исключим выбросы и посмотрим среднее и медиану. "
      ]
    },
    {
      "cell_type": "code",
      "metadata": {
        "id": "o32pNoxuRILY"
      },
      "source": [
        "games_pivot = games_not_new.query('5 <= life_time <=15 ').pivot_table(index='platform', \n",
        "                         values='life_time').sort_values(\n",
        "                         by='life_time', ascending=False\n",
        "                        )\n",
        "games_pivot.head(10)"
      ],
      "execution_count": null,
      "outputs": []
    },
    {
      "cell_type": "code",
      "metadata": {
        "id": "qxYd7Nx5RILY"
      },
      "source": [
        "print('Медианное время жизни платформы: ', games_pivot['life_time'].median(), 'лет')\n",
        "print('Среднее время жизни платформы: {:.1f}'.format(games_pivot['life_time'].mean()), 'года')\n"
      ],
      "execution_count": null,
      "outputs": []
    },
    {
      "cell_type": "markdown",
      "metadata": {
        "id": "FZhIAlwURILY"
      },
      "source": [
        "Долгоживущими платформами можно назвать DS, Xbox360, PS2 и PS3, Wii. Время жизни платформы составляет 9 лет на основании приведенной оценки. При этом, стоит понимать, что это не означает период выхода новых [поколений консолей](https://ru.wikipedia.org/wiki/%D0%98%D0%B3%D1%80%D0%BE%D0%B2%D0%B0%D1%8F_%D0%BF%D1%80%D0%B8%D1%81%D1%82%D0%B0%D0%B2%D0%BA%D0%B0) - это означает время выпуска игр для данных платформ. В среднем поколения меняются один раз в 7 лет.   \n",
        "\n",
        "DS подкупает своей мобильностью и возможно играет на ностальгии выросших геймеров. При рассчете мы исключили PC и современные консоли, такие как PS4, Xbox One, 3DS. PC как платформа существует независимо - отличие лишь в системных требованиях к играм. \n",
        "\n",
        "Посмотрим как изменялись продажи, относительно количества выпущенных игр."
      ]
    },
    {
      "cell_type": "code",
      "metadata": {
        "id": "MiIJYDy2RILc"
      },
      "source": [
        "plt.figure(figsize=(15, 5))\n",
        "ax = plt.gca()\n",
        "games_not_new.groupby('year_of_release')['total_sales'].sum().plot(\n",
        "                                                                 legend=True, \n",
        "                                                                 title='Продажи и количество релизов по годам'\n",
        "                                                                 )\n",
        "games_not_new.groupby('year_of_release')['name'].count().plot(legend=True, grid=True)\n",
        "\n",
        "plt.ylabel('Количество выпущенных игр / Продажи, млн $')\n",
        "ax.vlines(x=2012, linestyle='--', color='black', ymin=0, ymax=1600)\n",
        "plt.xticks(rotation=42)\n",
        "plt.xlabel('')\n",
        "plt.show()"
      ],
      "execution_count": null,
      "outputs": []
    },
    {
      "cell_type": "markdown",
      "metadata": {
        "id": "7z8hFHzbRILc"
      },
      "source": [
        "#### Вывод\n",
        "\n",
        "Мы видим, что современное игропроизводство активно  развивается с 2001 год, это и влияет на выручку. Преполагаем, что это связано с активным развитием консольных платформ, ростом производительности игрового железа, что вызывает повыешнный спрос на видеоразвлечения.   \n",
        "\n",
        "Для планирования стратегии на 2017 год возьмем период с 2012 года до 2016 года - с момента резкого падения продаж и тенденции снижения количества производства игр - в год появления первых консолей [восьмого поколения](https://ru.wikipedia.org/wiki/%D0%A1%D0%BF%D0%B8%D1%81%D0%BE%D0%BA_%D0%B8%D0%B3%D1%80%D0%BE%D0%B2%D1%8B%D1%85_%D0%BA%D0%BE%D0%BD%D1%81%D0%BE%D0%BB%D0%B5%D0%B9#%D0%92%D0%BE%D1%81%D1%8C%D0%BC%D0%BE%D0%B5_%D0%BF%D0%BE%D0%BA%D0%BE%D0%BB%D0%B5%D0%BD%D0%B8%D0%B5_(%D1%81_2012))\n",
        "\n"
      ]
    },
    {
      "cell_type": "markdown",
      "metadata": {
        "id": "yxKjbaBPRILc"
      },
      "source": [
        "### Анализ количества и продаж выпускаемых игр за 2012-2016 года"
      ]
    },
    {
      "cell_type": "code",
      "metadata": {
        "colab": {
          "base_uri": "https://localhost:8080/"
        },
        "id": "MhqNX6P0RILc",
        "outputId": "580433d0-1d85-44fd-a6e9-8b9f33fdb694"
      },
      "source": [
        "games_12_16 = game_df_upd.query('year_of_release >=2012').reset_index(drop=True)\n",
        "games_12_16.head()"
      ],
      "execution_count": null,
      "outputs": [
        {
          "output_type": "execute_result",
          "data": {
            "text/html": [
              "<div>\n",
              "<style scoped>\n",
              "    .dataframe tbody tr th:only-of-type {\n",
              "        vertical-align: middle;\n",
              "    }\n",
              "\n",
              "    .dataframe tbody tr th {\n",
              "        vertical-align: top;\n",
              "    }\n",
              "\n",
              "    .dataframe thead th {\n",
              "        text-align: right;\n",
              "    }\n",
              "</style>\n",
              "<table border=\"1\" class=\"dataframe\">\n",
              "  <thead>\n",
              "    <tr style=\"text-align: right;\">\n",
              "      <th></th>\n",
              "      <th>name</th>\n",
              "      <th>platform</th>\n",
              "      <th>year_of_release</th>\n",
              "      <th>genre</th>\n",
              "      <th>na_sales</th>\n",
              "      <th>eu_sales</th>\n",
              "      <th>jp_sales</th>\n",
              "      <th>other_sales</th>\n",
              "      <th>critic_score</th>\n",
              "      <th>user_score</th>\n",
              "      <th>rating</th>\n",
              "      <th>total_sales</th>\n",
              "    </tr>\n",
              "  </thead>\n",
              "  <tbody>\n",
              "    <tr>\n",
              "      <th>0</th>\n",
              "      <td>Grand Theft Auto V</td>\n",
              "      <td>PS3</td>\n",
              "      <td>2013</td>\n",
              "      <td>action</td>\n",
              "      <td>7.02</td>\n",
              "      <td>9.09</td>\n",
              "      <td>0.98</td>\n",
              "      <td>3.96</td>\n",
              "      <td>97.0</td>\n",
              "      <td>82.0</td>\n",
              "      <td>M</td>\n",
              "      <td>21.05</td>\n",
              "    </tr>\n",
              "    <tr>\n",
              "      <th>1</th>\n",
              "      <td>Grand Theft Auto V</td>\n",
              "      <td>X360</td>\n",
              "      <td>2013</td>\n",
              "      <td>action</td>\n",
              "      <td>9.66</td>\n",
              "      <td>5.14</td>\n",
              "      <td>0.06</td>\n",
              "      <td>1.41</td>\n",
              "      <td>97.0</td>\n",
              "      <td>81.0</td>\n",
              "      <td>M</td>\n",
              "      <td>16.27</td>\n",
              "    </tr>\n",
              "    <tr>\n",
              "      <th>2</th>\n",
              "      <td>Call of Duty: Black Ops 3</td>\n",
              "      <td>PS4</td>\n",
              "      <td>2015</td>\n",
              "      <td>shooter</td>\n",
              "      <td>6.03</td>\n",
              "      <td>5.86</td>\n",
              "      <td>0.36</td>\n",
              "      <td>2.38</td>\n",
              "      <td>NaN</td>\n",
              "      <td>NaN</td>\n",
              "      <td>RP</td>\n",
              "      <td>14.63</td>\n",
              "    </tr>\n",
              "    <tr>\n",
              "      <th>3</th>\n",
              "      <td>Pokemon X/Pokemon Y</td>\n",
              "      <td>3DS</td>\n",
              "      <td>2013</td>\n",
              "      <td>role-playing</td>\n",
              "      <td>5.28</td>\n",
              "      <td>4.19</td>\n",
              "      <td>4.35</td>\n",
              "      <td>0.78</td>\n",
              "      <td>NaN</td>\n",
              "      <td>NaN</td>\n",
              "      <td>RP</td>\n",
              "      <td>14.60</td>\n",
              "    </tr>\n",
              "    <tr>\n",
              "      <th>4</th>\n",
              "      <td>Call of Duty: Black Ops II</td>\n",
              "      <td>PS3</td>\n",
              "      <td>2012</td>\n",
              "      <td>shooter</td>\n",
              "      <td>4.99</td>\n",
              "      <td>5.73</td>\n",
              "      <td>0.65</td>\n",
              "      <td>2.42</td>\n",
              "      <td>83.0</td>\n",
              "      <td>53.0</td>\n",
              "      <td>M</td>\n",
              "      <td>13.79</td>\n",
              "    </tr>\n",
              "  </tbody>\n",
              "</table>\n",
              "</div>"
            ],
            "text/plain": [
              "                         name platform  ...  rating total_sales\n",
              "0          Grand Theft Auto V      PS3  ...       M       21.05\n",
              "1          Grand Theft Auto V     X360  ...       M       16.27\n",
              "2   Call of Duty: Black Ops 3      PS4  ...      RP       14.63\n",
              "3         Pokemon X/Pokemon Y      3DS  ...      RP       14.60\n",
              "4  Call of Duty: Black Ops II      PS3  ...       M       13.79\n",
              "\n",
              "[5 rows x 12 columns]"
            ]
          },
          "metadata": {
            "tags": []
          },
          "execution_count": 43
        }
      ]
    },
    {
      "cell_type": "code",
      "metadata": {
        "colab": {
          "base_uri": "https://localhost:8080/"
        },
        "id": "_57pd8iRRILd",
        "outputId": "aae13632-cfe3-4ed9-8698-0b01580892c4"
      },
      "source": [
        "games_12_16.info()"
      ],
      "execution_count": null,
      "outputs": [
        {
          "output_type": "stream",
          "text": [
            "<class 'pandas.core.frame.DataFrame'>\n",
            "RangeIndex: 2886 entries, 0 to 2885\n",
            "Data columns (total 12 columns):\n",
            " #   Column           Non-Null Count  Dtype  \n",
            "---  ------           --------------  -----  \n",
            " 0   name             2886 non-null   object \n",
            " 1   platform         2886 non-null   object \n",
            " 2   year_of_release  2886 non-null   int64  \n",
            " 3   genre            2886 non-null   object \n",
            " 4   na_sales         2886 non-null   float64\n",
            " 5   eu_sales         2886 non-null   float64\n",
            " 6   jp_sales         2886 non-null   float64\n",
            " 7   other_sales      2886 non-null   float64\n",
            " 8   critic_score     1312 non-null   float64\n",
            " 9   user_score       1531 non-null   float64\n",
            " 10  rating           2886 non-null   object \n",
            " 11  total_sales      2886 non-null   float64\n",
            "dtypes: float64(7), int64(1), object(4)\n",
            "memory usage: 270.7+ KB\n"
          ],
          "name": "stdout"
        }
      ]
    },
    {
      "cell_type": "code",
      "metadata": {
        "colab": {
          "base_uri": "https://localhost:8080/"
        },
        "id": "usDPgHdqRILd",
        "outputId": "ac38bfbe-9402-4b06-9191-3d771a99e9cf"
      },
      "source": [
        "pd.crosstab(games_12_16['platform'], \n",
        "            games_12_16['year_of_release'],\n",
        "            margins=True, margins_name=\"total\"\n",
        "           ).sort_values(by='total', ascending=False)"
      ],
      "execution_count": null,
      "outputs": [
        {
          "output_type": "execute_result",
          "data": {
            "text/html": [
              "<div>\n",
              "<style scoped>\n",
              "    .dataframe tbody tr th:only-of-type {\n",
              "        vertical-align: middle;\n",
              "    }\n",
              "\n",
              "    .dataframe tbody tr th {\n",
              "        vertical-align: top;\n",
              "    }\n",
              "\n",
              "    .dataframe thead th {\n",
              "        text-align: right;\n",
              "    }\n",
              "</style>\n",
              "<table border=\"1\" class=\"dataframe\">\n",
              "  <thead>\n",
              "    <tr style=\"text-align: right;\">\n",
              "      <th>year_of_release</th>\n",
              "      <th>2012</th>\n",
              "      <th>2013</th>\n",
              "      <th>2014</th>\n",
              "      <th>2015</th>\n",
              "      <th>2016</th>\n",
              "      <th>total</th>\n",
              "    </tr>\n",
              "    <tr>\n",
              "      <th>platform</th>\n",
              "      <th></th>\n",
              "      <th></th>\n",
              "      <th></th>\n",
              "      <th></th>\n",
              "      <th></th>\n",
              "      <th></th>\n",
              "    </tr>\n",
              "  </thead>\n",
              "  <tbody>\n",
              "    <tr>\n",
              "      <th>total</th>\n",
              "      <td>653</td>\n",
              "      <td>544</td>\n",
              "      <td>581</td>\n",
              "      <td>606</td>\n",
              "      <td>502</td>\n",
              "      <td>2886</td>\n",
              "    </tr>\n",
              "    <tr>\n",
              "      <th>PS3</th>\n",
              "      <td>148</td>\n",
              "      <td>126</td>\n",
              "      <td>108</td>\n",
              "      <td>73</td>\n",
              "      <td>38</td>\n",
              "      <td>493</td>\n",
              "    </tr>\n",
              "    <tr>\n",
              "      <th>PSV</th>\n",
              "      <td>53</td>\n",
              "      <td>63</td>\n",
              "      <td>100</td>\n",
              "      <td>110</td>\n",
              "      <td>85</td>\n",
              "      <td>411</td>\n",
              "    </tr>\n",
              "    <tr>\n",
              "      <th>3DS</th>\n",
              "      <td>93</td>\n",
              "      <td>91</td>\n",
              "      <td>80</td>\n",
              "      <td>86</td>\n",
              "      <td>46</td>\n",
              "      <td>396</td>\n",
              "    </tr>\n",
              "    <tr>\n",
              "      <th>PS4</th>\n",
              "      <td>0</td>\n",
              "      <td>16</td>\n",
              "      <td>75</td>\n",
              "      <td>137</td>\n",
              "      <td>164</td>\n",
              "      <td>392</td>\n",
              "    </tr>\n",
              "    <tr>\n",
              "      <th>X360</th>\n",
              "      <td>106</td>\n",
              "      <td>75</td>\n",
              "      <td>63</td>\n",
              "      <td>35</td>\n",
              "      <td>13</td>\n",
              "      <td>292</td>\n",
              "    </tr>\n",
              "    <tr>\n",
              "      <th>PC</th>\n",
              "      <td>61</td>\n",
              "      <td>38</td>\n",
              "      <td>47</td>\n",
              "      <td>50</td>\n",
              "      <td>54</td>\n",
              "      <td>250</td>\n",
              "    </tr>\n",
              "    <tr>\n",
              "      <th>XOne</th>\n",
              "      <td>0</td>\n",
              "      <td>19</td>\n",
              "      <td>61</td>\n",
              "      <td>80</td>\n",
              "      <td>87</td>\n",
              "      <td>247</td>\n",
              "    </tr>\n",
              "    <tr>\n",
              "      <th>PSP</th>\n",
              "      <td>106</td>\n",
              "      <td>54</td>\n",
              "      <td>10</td>\n",
              "      <td>3</td>\n",
              "      <td>0</td>\n",
              "      <td>173</td>\n",
              "    </tr>\n",
              "    <tr>\n",
              "      <th>WiiU</th>\n",
              "      <td>32</td>\n",
              "      <td>42</td>\n",
              "      <td>31</td>\n",
              "      <td>28</td>\n",
              "      <td>14</td>\n",
              "      <td>147</td>\n",
              "    </tr>\n",
              "    <tr>\n",
              "      <th>Wii</th>\n",
              "      <td>31</td>\n",
              "      <td>12</td>\n",
              "      <td>6</td>\n",
              "      <td>4</td>\n",
              "      <td>1</td>\n",
              "      <td>54</td>\n",
              "    </tr>\n",
              "    <tr>\n",
              "      <th>DS</th>\n",
              "      <td>23</td>\n",
              "      <td>8</td>\n",
              "      <td>0</td>\n",
              "      <td>0</td>\n",
              "      <td>0</td>\n",
              "      <td>31</td>\n",
              "    </tr>\n",
              "  </tbody>\n",
              "</table>\n",
              "</div>"
            ],
            "text/plain": [
              "year_of_release  2012  2013  2014  2015  2016  total\n",
              "platform                                            \n",
              "total             653   544   581   606   502   2886\n",
              "PS3               148   126   108    73    38    493\n",
              "PSV                53    63   100   110    85    411\n",
              "3DS                93    91    80    86    46    396\n",
              "PS4                 0    16    75   137   164    392\n",
              "X360              106    75    63    35    13    292\n",
              "PC                 61    38    47    50    54    250\n",
              "XOne                0    19    61    80    87    247\n",
              "PSP               106    54    10     3     0    173\n",
              "WiiU               32    42    31    28    14    147\n",
              "Wii                31    12     6     4     1     54\n",
              "DS                 23     8     0     0     0     31"
            ]
          },
          "metadata": {
            "tags": []
          },
          "execution_count": 45
        }
      ]
    },
    {
      "cell_type": "markdown",
      "metadata": {
        "id": "dasBdmJ5RILd"
      },
      "source": [
        "Мы видим снижение количества созданных игр на консоли старого поколения и рост производства для консолей новго: PS4, XOne, WiiU.   \n",
        "\n",
        "Среди портативных консолей можно выделить 3DS.  \n",
        "PS vita (PSV), PSP - наблюдаем снижение"
      ]
    },
    {
      "cell_type": "code",
      "metadata": {
        "id": "kSqnMiXFRILd"
      },
      "source": [
        "lead_platforms = ['PS4', 'PC', 'XOne', '3DS']\n",
        "lead_games = games_12_16.query('platform in @lead_platforms')"
      ],
      "execution_count": null,
      "outputs": []
    },
    {
      "cell_type": "code",
      "metadata": {
        "colab": {
          "base_uri": "https://localhost:8080/"
        },
        "id": "YVf7qXUDRILd",
        "outputId": "f011ff04-9865-4bf2-c74d-b897d3b51e00"
      },
      "source": [
        "plt.figure(figsize=(15, 5))\n",
        "sns.barplot(y='total_sales', \n",
        "            x='year_of_release', \n",
        "            hue='platform', \n",
        "            data = lead_games,\n",
        "            hue_order = lead_platforms\n",
        "           )\n",
        "\n",
        "plt.title('Продажи игр потенциально прибыльных платформ, млн $ ')\n",
        "plt.xticks(rotation=42)\n",
        "plt.xlabel('')\n",
        "plt.ylabel('')\n",
        "plt.show()"
      ],
      "execution_count": null,
      "outputs": [
        {
          "output_type": "display_data",
          "data": {
            "image/png": "[encoded data removed]",
            "text/plain": [
              "<Figure size 1080x360 with 1 Axes>"
            ]
          },
          "metadata": {
            "tags": []
          }
        }
      ]
    },
    {
      "cell_type": "code",
      "metadata": {
        "colab": {
          "base_uri": "https://localhost:8080/"
        },
        "id": "WovEf9XTRILe",
        "outputId": "9b063e2b-5b92-42ce-92e2-a49d38b4d2d2"
      },
      "source": [
        "plt.figure(figsize=(15,10))\n",
        "\n",
        "sns.boxplot(y='platform', x='total_sales',\n",
        "            data = lead_games.query('total_sales < 4')\n",
        "            ,order=lead_platforms, orient='h', \n",
        "           )\n",
        "plt.title('Разброс значений глобальных продаж потенциально прибыльных платформ, млн $ ')\n",
        "plt.xlabel('')\n",
        "plt.ylabel('')\n",
        "plt.show()"
      ],
      "execution_count": null,
      "outputs": [
        {
          "output_type": "display_data",
          "data": {
            "image/png": "[encoded data removed]",
            "text/plain": [
              "<Figure size 1080x720 with 1 Axes>"
            ]
          },
          "metadata": {
            "tags": []
          }
        }
      ]
    },
    {
      "cell_type": "markdown",
      "metadata": {
        "id": "K3Y3iEsYRILe"
      },
      "source": [
        "#### Вывод\n",
        "\n",
        "Перспективными платформами являются PS4, XOne, 3DS и PC. Несмотря на то, что мы видим общий спад - лидеры и распределение прибылей не меняется. PS4 и XOne развиваются примерно одинаково, при этом PS4 продается чуть лучше, что связано с наличием эксклюзивных игр, в то время как политика Miscrosoft предполагает возможность игры и на PC. Также неплохо продается 3DS платформа, PC уступает консольным версиям, что связано с необходимостью обновления *железа* компьютера, что гораздо дороже покупки консоли  \n",
        "\n",
        "Для исключение выбросов, при отборе значений для каждой платформы будем ограничивать общие продажи\n"
      ]
    },
    {
      "cell_type": "markdown",
      "metadata": {
        "id": "NHj8F3p7RILe"
      },
      "source": [
        "### PS4. Влияние отзывов пользователей и критиков."
      ]
    },
    {
      "cell_type": "code",
      "metadata": {
        "colab": {
          "base_uri": "https://localhost:8080/",
          "height": 204
        },
        "id": "fhxHoFTcRILe",
        "outputId": "3312d353-236a-4f1f-bb07-60c35213a870"
      },
      "source": [
        "ps4_df = games_12_16.loc[(games_12_16['total_sales'] < 4) \n",
        "                               & (games_12_16['platform']=='PS4')]\n",
        "ps4_df.head()"
      ],
      "execution_count": null,
      "outputs": [
        {
          "output_type": "execute_result",
          "data": {
            "text/html": [
              "<div>\n",
              "<style scoped>\n",
              "    .dataframe tbody tr th:only-of-type {\n",
              "        vertical-align: middle;\n",
              "    }\n",
              "\n",
              "    .dataframe tbody tr th {\n",
              "        vertical-align: top;\n",
              "    }\n",
              "\n",
              "    .dataframe thead th {\n",
              "        text-align: right;\n",
              "    }\n",
              "</style>\n",
              "<table border=\"1\" class=\"dataframe\">\n",
              "  <thead>\n",
              "    <tr style=\"text-align: right;\">\n",
              "      <th></th>\n",
              "      <th>name</th>\n",
              "      <th>platform</th>\n",
              "      <th>year_of_release</th>\n",
              "      <th>genre</th>\n",
              "      <th>na_sales</th>\n",
              "      <th>eu_sales</th>\n",
              "      <th>jp_sales</th>\n",
              "      <th>other_sales</th>\n",
              "      <th>critic_score</th>\n",
              "      <th>user_score</th>\n",
              "      <th>rating</th>\n",
              "      <th>total_sales</th>\n",
              "    </tr>\n",
              "  </thead>\n",
              "  <tbody>\n",
              "    <tr>\n",
              "      <th>58</th>\n",
              "      <td>The Witcher 3: Wild Hunt</td>\n",
              "      <td>PS4</td>\n",
              "      <td>2015</td>\n",
              "      <td>role-playing</td>\n",
              "      <td>1.02</td>\n",
              "      <td>2.13</td>\n",
              "      <td>0.23</td>\n",
              "      <td>0.59</td>\n",
              "      <td>92.0</td>\n",
              "      <td>92.0</td>\n",
              "      <td>M</td>\n",
              "      <td>3.97</td>\n",
              "    </tr>\n",
              "    <tr>\n",
              "      <th>59</th>\n",
              "      <td>Assassin's Creed: Unity</td>\n",
              "      <td>PS4</td>\n",
              "      <td>2014</td>\n",
              "      <td>action</td>\n",
              "      <td>1.19</td>\n",
              "      <td>2.07</td>\n",
              "      <td>0.08</td>\n",
              "      <td>0.62</td>\n",
              "      <td>70.0</td>\n",
              "      <td>49.0</td>\n",
              "      <td>M</td>\n",
              "      <td>3.96</td>\n",
              "    </tr>\n",
              "    <tr>\n",
              "      <th>60</th>\n",
              "      <td>Batman: Arkham Knight</td>\n",
              "      <td>PS4</td>\n",
              "      <td>2015</td>\n",
              "      <td>action</td>\n",
              "      <td>1.53</td>\n",
              "      <td>1.69</td>\n",
              "      <td>0.10</td>\n",
              "      <td>0.64</td>\n",
              "      <td>87.0</td>\n",
              "      <td>76.0</td>\n",
              "      <td>M</td>\n",
              "      <td>3.96</td>\n",
              "    </tr>\n",
              "    <tr>\n",
              "      <th>62</th>\n",
              "      <td>NBA 2K16</td>\n",
              "      <td>PS4</td>\n",
              "      <td>2015</td>\n",
              "      <td>sports</td>\n",
              "      <td>2.49</td>\n",
              "      <td>0.66</td>\n",
              "      <td>0.03</td>\n",
              "      <td>0.69</td>\n",
              "      <td>87.0</td>\n",
              "      <td>67.0</td>\n",
              "      <td>E10+</td>\n",
              "      <td>3.87</td>\n",
              "    </tr>\n",
              "    <tr>\n",
              "      <th>63</th>\n",
              "      <td>Call of Duty: Ghosts</td>\n",
              "      <td>PS4</td>\n",
              "      <td>2013</td>\n",
              "      <td>shooter</td>\n",
              "      <td>1.78</td>\n",
              "      <td>1.43</td>\n",
              "      <td>0.05</td>\n",
              "      <td>0.57</td>\n",
              "      <td>78.0</td>\n",
              "      <td>37.0</td>\n",
              "      <td>M</td>\n",
              "      <td>3.83</td>\n",
              "    </tr>\n",
              "  </tbody>\n",
              "</table>\n",
              "</div>"
            ],
            "text/plain": [
              "                        name platform  ...  rating total_sales\n",
              "58  The Witcher 3: Wild Hunt      PS4  ...       M        3.97\n",
              "59   Assassin's Creed: Unity      PS4  ...       M        3.96\n",
              "60     Batman: Arkham Knight      PS4  ...       M        3.96\n",
              "62                  NBA 2K16      PS4  ...    E10+        3.87\n",
              "63      Call of Duty: Ghosts      PS4  ...       M        3.83\n",
              "\n",
              "[5 rows x 12 columns]"
            ]
          },
          "metadata": {
            "tags": []
          },
          "execution_count": 49
        }
      ]
    },
    {
      "cell_type": "code",
      "metadata": {
        "colab": {
          "base_uri": "https://localhost:8080/"
        },
        "id": "PFTiwB5zRILe",
        "outputId": "d8b861d7-8f13-4e61-b6eb-63cd241f9185"
      },
      "source": [
        "ps4_df.info()"
      ],
      "execution_count": null,
      "outputs": [
        {
          "output_type": "stream",
          "text": [
            "<class 'pandas.core.frame.DataFrame'>\n",
            "Int64Index: 375 entries, 58 to 2834\n",
            "Data columns (total 12 columns):\n",
            " #   Column           Non-Null Count  Dtype  \n",
            "---  ------           --------------  -----  \n",
            " 0   name             375 non-null    object \n",
            " 1   platform         375 non-null    object \n",
            " 2   year_of_release  375 non-null    int64  \n",
            " 3   genre            375 non-null    object \n",
            " 4   na_sales         375 non-null    float64\n",
            " 5   eu_sales         375 non-null    float64\n",
            " 6   jp_sales         375 non-null    float64\n",
            " 7   other_sales      375 non-null    float64\n",
            " 8   critic_score     239 non-null    float64\n",
            " 9   user_score       244 non-null    float64\n",
            " 10  rating           375 non-null    object \n",
            " 11  total_sales      375 non-null    float64\n",
            "dtypes: float64(7), int64(1), object(4)\n",
            "memory usage: 38.1+ KB\n"
          ],
          "name": "stdout"
        }
      ]
    },
    {
      "cell_type": "code",
      "metadata": {
        "id": "UQB4u7T_RILf"
      },
      "source": [
        "def heatmap_plot(data):\n",
        "\n",
        "    plt.figure(figsize=(15,5))\n",
        "    plt.title('Тепловая карта корреляции и распределение влияния оценки критиков и пользователей')\n",
        "    sns.heatmap(data[['total_sales', 'critic_score', 'user_score']].corr(), \n",
        "                annot=True, cmap='mako', fmt='.3f'\n",
        "               )\n",
        "    \n",
        "    sns.jointplot(x='critic_score', y='total_sales', data=data, kind='scatter')\n",
        "    sns.jointplot(x='user_score', y='total_sales', data=data, kind='scatter')\n",
        "    plt.show()\n",
        "   "
      ],
      "execution_count": null,
      "outputs": []
    },
    {
      "cell_type": "code",
      "metadata": {
        "colab": {
          "base_uri": "https://localhost:8080/",
          "height": 1000
        },
        "id": "BodOsZXGRILf",
        "outputId": "5712b7f8-d60b-46af-8eca-e531cb78af34"
      },
      "source": [
        "heatmap_plot(ps4_df)"
      ],
      "execution_count": null,
      "outputs": [
        {
          "output_type": "display_data",
          "data": {
            "image/png": "[encoded data removed]",
            "text/plain": [
              "<Figure size 1080x360 with 2 Axes>"
            ]
          },
          "metadata": {
            "tags": []
          }
        },
        {
          "output_type": "display_data",
          "data": {
            "image/png": "[encoded data removed]",
            "text/plain": [
              "<Figure size 432x432 with 3 Axes>"
            ]
          },
          "metadata": {
            "tags": []
          }
        },
        {
          "output_type": "display_data",
          "data": {
            "image/png": "[encoded data removed]",
            "text/plain": [
              "<Figure size 432x432 with 3 Axes>"
            ]
          },
          "metadata": {
            "tags": []
          }
        }
      ]
    },
    {
      "cell_type": "markdown",
      "metadata": {
        "id": "nYO-DlmcRILf"
      },
      "source": [
        "Наблюдаем положительную корреляция (прямую) между оценкой критиков и продажами и оценкой пользователей и продажей. При этом, оценка критиков **СЛАБО** коррелирует с продажами, оценка пользователей - **ОЧЕНЬ СЛАБО**. Стоит отметить, что наблюдаяется средняя корреляция между оценками пользователей и критиков, что может быть связано с некоторым влиянием оценки критика на мнение некоторых голосующих обывателей. Распределения ассиметричные."
      ]
    },
    {
      "cell_type": "markdown",
      "metadata": {
        "id": "NTVN69lnRILf"
      },
      "source": [
        "### XOne. Влияние отзывов пользователей и критиков."
      ]
    },
    {
      "cell_type": "code",
      "metadata": {
        "colab": {
          "base_uri": "https://localhost:8080/",
          "height": 204
        },
        "id": "qWUmRNTlRILf",
        "outputId": "d90ebbd2-d57f-4715-9574-fe7d0adac894"
      },
      "source": [
        "xone_df = games_12_16.loc[(games_12_16['total_sales'] < 4) \n",
        "                               & (games_12_16['platform']=='XOne')]\n",
        "xone_df.head()"
      ],
      "execution_count": null,
      "outputs": [
        {
          "output_type": "execute_result",
          "data": {
            "text/html": [
              "<div>\n",
              "<style scoped>\n",
              "    .dataframe tbody tr th:only-of-type {\n",
              "        vertical-align: middle;\n",
              "    }\n",
              "\n",
              "    .dataframe tbody tr th {\n",
              "        vertical-align: top;\n",
              "    }\n",
              "\n",
              "    .dataframe thead th {\n",
              "        text-align: right;\n",
              "    }\n",
              "</style>\n",
              "<table border=\"1\" class=\"dataframe\">\n",
              "  <thead>\n",
              "    <tr style=\"text-align: right;\">\n",
              "      <th></th>\n",
              "      <th>name</th>\n",
              "      <th>platform</th>\n",
              "      <th>year_of_release</th>\n",
              "      <th>genre</th>\n",
              "      <th>na_sales</th>\n",
              "      <th>eu_sales</th>\n",
              "      <th>jp_sales</th>\n",
              "      <th>other_sales</th>\n",
              "      <th>critic_score</th>\n",
              "      <th>user_score</th>\n",
              "      <th>rating</th>\n",
              "      <th>total_sales</th>\n",
              "    </tr>\n",
              "  </thead>\n",
              "  <tbody>\n",
              "    <tr>\n",
              "      <th>66</th>\n",
              "      <td>Star Wars Battlefront (2015)</td>\n",
              "      <td>XOne</td>\n",
              "      <td>2015</td>\n",
              "      <td>shooter</td>\n",
              "      <td>2.04</td>\n",
              "      <td>1.28</td>\n",
              "      <td>0.02</td>\n",
              "      <td>0.32</td>\n",
              "      <td>NaN</td>\n",
              "      <td>NaN</td>\n",
              "      <td>RP</td>\n",
              "      <td>3.66</td>\n",
              "    </tr>\n",
              "    <tr>\n",
              "      <th>69</th>\n",
              "      <td>Assassin's Creed: Unity</td>\n",
              "      <td>XOne</td>\n",
              "      <td>2014</td>\n",
              "      <td>action</td>\n",
              "      <td>2.27</td>\n",
              "      <td>0.90</td>\n",
              "      <td>0.00</td>\n",
              "      <td>0.33</td>\n",
              "      <td>72.0</td>\n",
              "      <td>41.0</td>\n",
              "      <td>M</td>\n",
              "      <td>3.50</td>\n",
              "    </tr>\n",
              "    <tr>\n",
              "      <th>75</th>\n",
              "      <td>Destiny</td>\n",
              "      <td>XOne</td>\n",
              "      <td>2014</td>\n",
              "      <td>shooter</td>\n",
              "      <td>2.14</td>\n",
              "      <td>0.92</td>\n",
              "      <td>0.00</td>\n",
              "      <td>0.31</td>\n",
              "      <td>75.0</td>\n",
              "      <td>55.0</td>\n",
              "      <td>T</td>\n",
              "      <td>3.37</td>\n",
              "    </tr>\n",
              "    <tr>\n",
              "      <th>80</th>\n",
              "      <td>Gears of War: Ultimate Edition</td>\n",
              "      <td>XOne</td>\n",
              "      <td>2015</td>\n",
              "      <td>shooter</td>\n",
              "      <td>2.61</td>\n",
              "      <td>0.33</td>\n",
              "      <td>0.00</td>\n",
              "      <td>0.34</td>\n",
              "      <td>82.0</td>\n",
              "      <td>75.0</td>\n",
              "      <td>M</td>\n",
              "      <td>3.28</td>\n",
              "    </tr>\n",
              "    <tr>\n",
              "      <th>81</th>\n",
              "      <td>FIFA 16</td>\n",
              "      <td>XOne</td>\n",
              "      <td>2015</td>\n",
              "      <td>sports</td>\n",
              "      <td>0.89</td>\n",
              "      <td>2.12</td>\n",
              "      <td>0.00</td>\n",
              "      <td>0.24</td>\n",
              "      <td>84.0</td>\n",
              "      <td>44.0</td>\n",
              "      <td>E</td>\n",
              "      <td>3.25</td>\n",
              "    </tr>\n",
              "  </tbody>\n",
              "</table>\n",
              "</div>"
            ],
            "text/plain": [
              "                              name platform  ...  rating total_sales\n",
              "66    Star Wars Battlefront (2015)     XOne  ...      RP        3.66\n",
              "69         Assassin's Creed: Unity     XOne  ...       M        3.50\n",
              "75                         Destiny     XOne  ...       T        3.37\n",
              "80  Gears of War: Ultimate Edition     XOne  ...       M        3.28\n",
              "81                         FIFA 16     XOne  ...       E        3.25\n",
              "\n",
              "[5 rows x 12 columns]"
            ]
          },
          "metadata": {
            "tags": []
          },
          "execution_count": 53
        }
      ]
    },
    {
      "cell_type": "code",
      "metadata": {
        "colab": {
          "base_uri": "https://localhost:8080/"
        },
        "id": "M9TQNtgkRILg",
        "outputId": "c8937443-6531-46b7-d212-88f72eae9b04"
      },
      "source": [
        "xone_df.info()"
      ],
      "execution_count": null,
      "outputs": [
        {
          "output_type": "stream",
          "text": [
            "<class 'pandas.core.frame.DataFrame'>\n",
            "Int64Index: 242 entries, 66 to 2871\n",
            "Data columns (total 12 columns):\n",
            " #   Column           Non-Null Count  Dtype  \n",
            "---  ------           --------------  -----  \n",
            " 0   name             242 non-null    object \n",
            " 1   platform         242 non-null    object \n",
            " 2   year_of_release  242 non-null    int64  \n",
            " 3   genre            242 non-null    object \n",
            " 4   na_sales         242 non-null    float64\n",
            " 5   eu_sales         242 non-null    float64\n",
            " 6   jp_sales         242 non-null    float64\n",
            " 7   other_sales      242 non-null    float64\n",
            " 8   critic_score     165 non-null    float64\n",
            " 9   user_score       178 non-null    float64\n",
            " 10  rating           242 non-null    object \n",
            " 11  total_sales      242 non-null    float64\n",
            "dtypes: float64(7), int64(1), object(4)\n",
            "memory usage: 24.6+ KB\n"
          ],
          "name": "stdout"
        }
      ]
    },
    {
      "cell_type": "code",
      "metadata": {
        "colab": {
          "base_uri": "https://localhost:8080/",
          "height": 1000
        },
        "id": "glfM9qLYRILg",
        "outputId": "7b572c6b-c754-45f1-d687-85d5f7da3bda"
      },
      "source": [
        "heatmap_plot(xone_df)"
      ],
      "execution_count": null,
      "outputs": [
        {
          "output_type": "display_data",
          "data": {
            "image/png": "[encoded data removed]",
            "text/plain": [
              "<Figure size 1080x360 with 2 Axes>"
            ]
          },
          "metadata": {
            "tags": []
          }
        },
        {
          "output_type": "display_data",
          "data": {
            "image/png": "[encoded data removed]",
            "text/plain": [
              "<Figure size 432x432 with 3 Axes>"
            ]
          },
          "metadata": {
            "tags": []
          }
        },
        {
          "output_type": "display_data",
          "data": {
            "image/png": "[encoded data removed]",
            "text/plain": [
              "<Figure size 432x432 with 3 Axes>"
            ]
          },
          "metadata": {
            "tags": []
          }
        }
      ]
    },
    {
      "cell_type": "markdown",
      "metadata": {
        "id": "VPjtl0R1RILg"
      },
      "source": [
        "Наблюдаем положительную корреляция (прямую) между оценкой критиков и продажами и отрицательную между оценкой пользователей и продажей. При этом, оценка критиков **СЛАБО** коррелирует с продажами, оценка пользователей - **ОЧЕНЬ СЛАБО**. Стоит отметить, что наблюдаяется средняя корреляция между оценками пользователей и критиков, что может быть связано с некоторым влиянием оценки критика на мнение некоторых голосующих обывателей, но это влияние меньше чем у PS4. Распределения ассиметричные."
      ]
    },
    {
      "cell_type": "markdown",
      "metadata": {
        "id": "HzawqrETRILg"
      },
      "source": [
        "### 3DS. Влияние отзывов пользователей и критиков."
      ]
    },
    {
      "cell_type": "code",
      "metadata": {
        "colab": {
          "base_uri": "https://localhost:8080/",
          "height": 204
        },
        "id": "AY8ZduwBRILg",
        "outputId": "0189aefa-a1e2-4d8c-b3c1-24c6cb3565f2"
      },
      "source": [
        "ds_df = games_12_16.loc[(games_12_16['total_sales'] < 4) \n",
        "                               & (games_12_16['platform']=='3DS')]\n",
        "ds_df.head()"
      ],
      "execution_count": null,
      "outputs": [
        {
          "output_type": "execute_result",
          "data": {
            "text/html": [
              "<div>\n",
              "<style scoped>\n",
              "    .dataframe tbody tr th:only-of-type {\n",
              "        vertical-align: middle;\n",
              "    }\n",
              "\n",
              "    .dataframe tbody tr th {\n",
              "        vertical-align: top;\n",
              "    }\n",
              "\n",
              "    .dataframe thead th {\n",
              "        text-align: right;\n",
              "    }\n",
              "</style>\n",
              "<table border=\"1\" class=\"dataframe\">\n",
              "  <thead>\n",
              "    <tr style=\"text-align: right;\">\n",
              "      <th></th>\n",
              "      <th>name</th>\n",
              "      <th>platform</th>\n",
              "      <th>year_of_release</th>\n",
              "      <th>genre</th>\n",
              "      <th>na_sales</th>\n",
              "      <th>eu_sales</th>\n",
              "      <th>jp_sales</th>\n",
              "      <th>other_sales</th>\n",
              "      <th>critic_score</th>\n",
              "      <th>user_score</th>\n",
              "      <th>rating</th>\n",
              "      <th>total_sales</th>\n",
              "    </tr>\n",
              "  </thead>\n",
              "  <tbody>\n",
              "    <tr>\n",
              "      <th>61</th>\n",
              "      <td>Monster Hunter 4 Ultimate</td>\n",
              "      <td>3DS</td>\n",
              "      <td>2014</td>\n",
              "      <td>role-playing</td>\n",
              "      <td>0.68</td>\n",
              "      <td>0.48</td>\n",
              "      <td>2.62</td>\n",
              "      <td>0.11</td>\n",
              "      <td>86.0</td>\n",
              "      <td>87.0</td>\n",
              "      <td>T</td>\n",
              "      <td>3.89</td>\n",
              "    </tr>\n",
              "    <tr>\n",
              "      <th>72</th>\n",
              "      <td>Monster Hunter 4</td>\n",
              "      <td>3DS</td>\n",
              "      <td>2013</td>\n",
              "      <td>role-playing</td>\n",
              "      <td>0.00</td>\n",
              "      <td>0.00</td>\n",
              "      <td>3.44</td>\n",
              "      <td>0.00</td>\n",
              "      <td>NaN</td>\n",
              "      <td>NaN</td>\n",
              "      <td>RP</td>\n",
              "      <td>3.44</td>\n",
              "    </tr>\n",
              "    <tr>\n",
              "      <th>77</th>\n",
              "      <td>Monster Hunter X</td>\n",
              "      <td>3DS</td>\n",
              "      <td>2015</td>\n",
              "      <td>action</td>\n",
              "      <td>0.27</td>\n",
              "      <td>0.21</td>\n",
              "      <td>2.79</td>\n",
              "      <td>0.05</td>\n",
              "      <td>NaN</td>\n",
              "      <td>NaN</td>\n",
              "      <td>RP</td>\n",
              "      <td>3.32</td>\n",
              "    </tr>\n",
              "    <tr>\n",
              "      <th>79</th>\n",
              "      <td>Yokai Watch 2 Ganso/Honke</td>\n",
              "      <td>3DS</td>\n",
              "      <td>2014</td>\n",
              "      <td>role-playing</td>\n",
              "      <td>0.09</td>\n",
              "      <td>0.00</td>\n",
              "      <td>3.18</td>\n",
              "      <td>0.01</td>\n",
              "      <td>NaN</td>\n",
              "      <td>NaN</td>\n",
              "      <td>RP</td>\n",
              "      <td>3.28</td>\n",
              "    </tr>\n",
              "    <tr>\n",
              "      <th>87</th>\n",
              "      <td>The Legend of Zelda: A Link Between Worlds</td>\n",
              "      <td>3DS</td>\n",
              "      <td>2013</td>\n",
              "      <td>action</td>\n",
              "      <td>1.40</td>\n",
              "      <td>1.01</td>\n",
              "      <td>0.46</td>\n",
              "      <td>0.23</td>\n",
              "      <td>91.0</td>\n",
              "      <td>89.0</td>\n",
              "      <td>E</td>\n",
              "      <td>3.10</td>\n",
              "    </tr>\n",
              "  </tbody>\n",
              "</table>\n",
              "</div>"
            ],
            "text/plain": [
              "                                          name platform  ...  rating total_sales\n",
              "61                   Monster Hunter 4 Ultimate      3DS  ...       T        3.89\n",
              "72                            Monster Hunter 4      3DS  ...      RP        3.44\n",
              "77                            Monster Hunter X      3DS  ...      RP        3.32\n",
              "79                   Yokai Watch 2 Ganso/Honke      3DS  ...      RP        3.28\n",
              "87  The Legend of Zelda: A Link Between Worlds      3DS  ...       E        3.10\n",
              "\n",
              "[5 rows x 12 columns]"
            ]
          },
          "metadata": {
            "tags": []
          },
          "execution_count": 56
        }
      ]
    },
    {
      "cell_type": "code",
      "metadata": {
        "colab": {
          "base_uri": "https://localhost:8080/"
        },
        "id": "eXIJLoqcRILg",
        "outputId": "6402763a-887a-44fc-fa4e-1c252fd9afbd"
      },
      "source": [
        "ds_df.info()"
      ],
      "execution_count": null,
      "outputs": [
        {
          "output_type": "stream",
          "text": [
            "<class 'pandas.core.frame.DataFrame'>\n",
            "Int64Index: 388 entries, 61 to 2873\n",
            "Data columns (total 12 columns):\n",
            " #   Column           Non-Null Count  Dtype  \n",
            "---  ------           --------------  -----  \n",
            " 0   name             388 non-null    object \n",
            " 1   platform         388 non-null    object \n",
            " 2   year_of_release  388 non-null    int64  \n",
            " 3   genre            388 non-null    object \n",
            " 4   na_sales         388 non-null    float64\n",
            " 5   eu_sales         388 non-null    float64\n",
            " 6   jp_sales         388 non-null    float64\n",
            " 7   other_sales      388 non-null    float64\n",
            " 8   critic_score     101 non-null    float64\n",
            " 9   user_score       111 non-null    float64\n",
            " 10  rating           388 non-null    object \n",
            " 11  total_sales      388 non-null    float64\n",
            "dtypes: float64(7), int64(1), object(4)\n",
            "memory usage: 39.4+ KB\n"
          ],
          "name": "stdout"
        }
      ]
    },
    {
      "cell_type": "code",
      "metadata": {
        "colab": {
          "base_uri": "https://localhost:8080/",
          "height": 1000
        },
        "id": "YTgcY_hIRILh",
        "outputId": "dd59d9dc-ba34-4bc1-95b0-caa87bce7258"
      },
      "source": [
        "heatmap_plot(ds_df)"
      ],
      "execution_count": null,
      "outputs": [
        {
          "output_type": "display_data",
          "data": {
            "image/png": "[encoded data removed]",
            "text/plain": [
              "<Figure size 1080x360 with 2 Axes>"
            ]
          },
          "metadata": {
            "tags": []
          }
        },
        {
          "output_type": "display_data",
          "data": {
            "image/png": "[encoded data removed]",
            "text/plain": [
              "<Figure size 432x432 with 3 Axes>"
            ]
          },
          "metadata": {
            "tags": []
          }
        },
        {
          "output_type": "display_data",
          "data": {
            "image/png": "[encoded data removed]",
            "text/plain": [
              "<Figure size 432x432 with 3 Axes>"
            ]
          },
          "metadata": {
            "tags": []
          }
        }
      ]
    },
    {
      "cell_type": "markdown",
      "metadata": {
        "id": "DYmC1ATmRILh"
      },
      "source": [
        "Наблюдаем положительную корреляция (прямую) между оценкой критиков и продажами и оценкой пользователей и продажей. При этом, оценка критиков **ОЧЕНЬ СЛАБО** коррелирует с продажами, оценка пользователей - **ОЧЕНЬ СЛАБО**. Стоит отметить, что наблюдается средняя корреляция между оценками пользователей и критиков, что может быть связано с некоторым влиянием оценки критика на мнение некоторых голосующих обывателей."
      ]
    },
    {
      "cell_type": "markdown",
      "metadata": {
        "id": "kc5xk6XaRILh"
      },
      "source": [
        "### PC. Влияние отзывов пользователей и критиков."
      ]
    },
    {
      "cell_type": "code",
      "metadata": {
        "colab": {
          "base_uri": "https://localhost:8080/"
        },
        "id": "_pJiL1NKRILh",
        "outputId": "0c597dc3-917c-48e0-8abb-960e23122adc"
      },
      "source": [
        "pc_df = games_12_16.loc[(games_12_16['total_sales'] < 3) \n",
        "                               & (games_12_16['platform']=='PC') \n",
        "                               & (games_12_16['critic_score']!=-1) \n",
        "                               & (games_12_16['user_score']!=-1)]\n",
        "pc_df.head()"
      ],
      "execution_count": null,
      "outputs": [
        {
          "output_type": "execute_result",
          "data": {
            "text/html": [
              "<div>\n",
              "<style scoped>\n",
              "    .dataframe tbody tr th:only-of-type {\n",
              "        vertical-align: middle;\n",
              "    }\n",
              "\n",
              "    .dataframe tbody tr th {\n",
              "        vertical-align: top;\n",
              "    }\n",
              "\n",
              "    .dataframe thead th {\n",
              "        text-align: right;\n",
              "    }\n",
              "</style>\n",
              "<table border=\"1\" class=\"dataframe\">\n",
              "  <thead>\n",
              "    <tr style=\"text-align: right;\">\n",
              "      <th></th>\n",
              "      <th>name</th>\n",
              "      <th>platform</th>\n",
              "      <th>year_of_release</th>\n",
              "      <th>genre</th>\n",
              "      <th>na_sales</th>\n",
              "      <th>eu_sales</th>\n",
              "      <th>jp_sales</th>\n",
              "      <th>other_sales</th>\n",
              "      <th>critic_score</th>\n",
              "      <th>user_score</th>\n",
              "      <th>rating</th>\n",
              "      <th>total_sales</th>\n",
              "    </tr>\n",
              "  </thead>\n",
              "  <tbody>\n",
              "    <tr>\n",
              "      <th>122</th>\n",
              "      <td>Guild Wars 2</td>\n",
              "      <td>PC</td>\n",
              "      <td>2012</td>\n",
              "      <td>action</td>\n",
              "      <td>0.96</td>\n",
              "      <td>1.07</td>\n",
              "      <td>0.0</td>\n",
              "      <td>0.27</td>\n",
              "      <td>90.0</td>\n",
              "      <td>79.0</td>\n",
              "      <td>T</td>\n",
              "      <td>2.30</td>\n",
              "    </tr>\n",
              "    <tr>\n",
              "      <th>173</th>\n",
              "      <td>World of Warcraft: Mists of Pandaria</td>\n",
              "      <td>PC</td>\n",
              "      <td>2012</td>\n",
              "      <td>role-playing</td>\n",
              "      <td>0.84</td>\n",
              "      <td>0.76</td>\n",
              "      <td>0.0</td>\n",
              "      <td>0.22</td>\n",
              "      <td>82.0</td>\n",
              "      <td>48.0</td>\n",
              "      <td>T</td>\n",
              "      <td>1.82</td>\n",
              "    </tr>\n",
              "    <tr>\n",
              "      <th>196</th>\n",
              "      <td>StarCraft II: Heart of the Swarm</td>\n",
              "      <td>PC</td>\n",
              "      <td>2013</td>\n",
              "      <td>strategy</td>\n",
              "      <td>0.83</td>\n",
              "      <td>0.66</td>\n",
              "      <td>0.0</td>\n",
              "      <td>0.18</td>\n",
              "      <td>86.0</td>\n",
              "      <td>79.0</td>\n",
              "      <td>T</td>\n",
              "      <td>1.67</td>\n",
              "    </tr>\n",
              "    <tr>\n",
              "      <th>220</th>\n",
              "      <td>Call of Duty: Black Ops II</td>\n",
              "      <td>PC</td>\n",
              "      <td>2012</td>\n",
              "      <td>shooter</td>\n",
              "      <td>0.64</td>\n",
              "      <td>0.69</td>\n",
              "      <td>0.0</td>\n",
              "      <td>0.19</td>\n",
              "      <td>74.0</td>\n",
              "      <td>42.0</td>\n",
              "      <td>M</td>\n",
              "      <td>1.52</td>\n",
              "    </tr>\n",
              "    <tr>\n",
              "      <th>233</th>\n",
              "      <td>SimCity (2013)</td>\n",
              "      <td>PC</td>\n",
              "      <td>2013</td>\n",
              "      <td>simulation</td>\n",
              "      <td>0.48</td>\n",
              "      <td>0.77</td>\n",
              "      <td>0.0</td>\n",
              "      <td>0.17</td>\n",
              "      <td>64.0</td>\n",
              "      <td>22.0</td>\n",
              "      <td>E10+</td>\n",
              "      <td>1.42</td>\n",
              "    </tr>\n",
              "  </tbody>\n",
              "</table>\n",
              "</div>"
            ],
            "text/plain": [
              "                                     name platform  ...  rating total_sales\n",
              "122                          Guild Wars 2       PC  ...       T        2.30\n",
              "173  World of Warcraft: Mists of Pandaria       PC  ...       T        1.82\n",
              "196      StarCraft II: Heart of the Swarm       PC  ...       T        1.67\n",
              "220            Call of Duty: Black Ops II       PC  ...       M        1.52\n",
              "233                        SimCity (2013)       PC  ...    E10+        1.42\n",
              "\n",
              "[5 rows x 12 columns]"
            ]
          },
          "metadata": {
            "tags": []
          },
          "execution_count": 59
        }
      ]
    },
    {
      "cell_type": "code",
      "metadata": {
        "colab": {
          "base_uri": "https://localhost:8080/"
        },
        "id": "4PVAd8bHRILh",
        "outputId": "20b8eef4-7277-4a0c-f2ce-46f266e0044d"
      },
      "source": [
        "pc_df.info()"
      ],
      "execution_count": null,
      "outputs": [
        {
          "output_type": "stream",
          "text": [
            "<class 'pandas.core.frame.DataFrame'>\n",
            "Int64Index: 248 entries, 122 to 2879\n",
            "Data columns (total 12 columns):\n",
            " #   Column           Non-Null Count  Dtype  \n",
            "---  ------           --------------  -----  \n",
            " 0   name             248 non-null    object \n",
            " 1   platform         248 non-null    object \n",
            " 2   year_of_release  248 non-null    int64  \n",
            " 3   genre            248 non-null    object \n",
            " 4   na_sales         248 non-null    float64\n",
            " 5   eu_sales         248 non-null    float64\n",
            " 6   jp_sales         248 non-null    float64\n",
            " 7   other_sales      248 non-null    float64\n",
            " 8   critic_score     196 non-null    float64\n",
            " 9   user_score       204 non-null    float64\n",
            " 10  rating           248 non-null    object \n",
            " 11  total_sales      248 non-null    float64\n",
            "dtypes: float64(7), int64(1), object(4)\n",
            "memory usage: 25.2+ KB\n"
          ],
          "name": "stdout"
        }
      ]
    },
    {
      "cell_type": "code",
      "metadata": {
        "colab": {
          "base_uri": "https://localhost:8080/"
        },
        "id": "egv7QmvZRILh",
        "outputId": "9929520d-cf18-4c56-bbb2-c4d7ea5b0d6f"
      },
      "source": [
        "heatmap_plot(pc_df)"
      ],
      "execution_count": null,
      "outputs": [
        {
          "output_type": "display_data",
          "data": {
            "image/png": "[encoded data removed]",
            "text/plain": [
              "<Figure size 1080x360 with 2 Axes>"
            ]
          },
          "metadata": {
            "tags": []
          }
        },
        {
          "output_type": "display_data",
          "data": {
            "image/png": "[encoded data removed]",
            "text/plain": [
              "<Figure size 432x432 with 3 Axes>"
            ]
          },
          "metadata": {
            "tags": []
          }
        },
        {
          "output_type": "display_data",
          "data": {
            "image/png": "[encoded data removed]",
            "text/plain": [
              "<Figure size 432x432 with 3 Axes>"
            ]
          },
          "metadata": {
            "tags": []
          }
        }
      ]
    },
    {
      "cell_type": "markdown",
      "metadata": {
        "id": "3vfN9CvIRILi"
      },
      "source": [
        "Наблюдаем положительную корреляция (прямую) между оценкой критиков и продажами и оценкой пользователей и продажей. При этом, оценка критиков **СЛАБО** коррелирует с продажами, оценка пользователей - **ОЧЕНЬ СЛАБО**. Распределения ассиметричные."
      ]
    },
    {
      "cell_type": "markdown",
      "metadata": {
        "id": "tGvdPREPRILi"
      },
      "source": [
        "Крупные проекты с большим бюджетом зачастую сопровождаются усиленной рекламной кампанией и продвижением, что может оказывать некоторое влияние на оценку критиков, в том числе из различных крупных игровых изданий. Также, критик будет оценивать игру зачастую в рамках определенного стандарта оценки, по строгим метрикам и показателям. Критик будет более объективен.\n",
        "\n",
        "Пользователи ориентируются при оценке на собственные вкусовые субъективные преподчтения. Бывают случаи, что крупные, оцененные критиками игры, плохо принимаются пользователями, которые становятся требовательнее с каждым годом. Пользователь - субъективен.\n",
        "\n",
        "Однако, наличие средней корреляции между оценками пользователей и критиков, может говорить о том, что бывают случаи, когда мнения сторон совпадает."
      ]
    },
    {
      "cell_type": "markdown",
      "metadata": {
        "id": "rjXp2eEERILi"
      },
      "source": [
        "### Анализ игр по жанрам"
      ]
    },
    {
      "cell_type": "code",
      "metadata": {
        "colab": {
          "base_uri": "https://localhost:8080/"
        },
        "id": "CW-yhEh_RILi",
        "outputId": "31273826-000b-4950-dcc3-13f31dab69ea"
      },
      "source": [
        "top_games = games_12_16.pivot_table(index='genre',columns='year_of_release'\n",
        "                        ,values='total_sales',aggfunc='sum').copy()\n",
        "top_games"
      ],
      "execution_count": null,
      "outputs": [
        {
          "output_type": "execute_result",
          "data": {
            "text/html": [
              "<div>\n",
              "<style scoped>\n",
              "    .dataframe tbody tr th:only-of-type {\n",
              "        vertical-align: middle;\n",
              "    }\n",
              "\n",
              "    .dataframe tbody tr th {\n",
              "        vertical-align: top;\n",
              "    }\n",
              "\n",
              "    .dataframe thead th {\n",
              "        text-align: right;\n",
              "    }\n",
              "</style>\n",
              "<table border=\"1\" class=\"dataframe\">\n",
              "  <thead>\n",
              "    <tr style=\"text-align: right;\">\n",
              "      <th>year_of_release</th>\n",
              "      <th>2012</th>\n",
              "      <th>2013</th>\n",
              "      <th>2014</th>\n",
              "      <th>2015</th>\n",
              "      <th>2016</th>\n",
              "    </tr>\n",
              "    <tr>\n",
              "      <th>genre</th>\n",
              "      <th></th>\n",
              "      <th></th>\n",
              "      <th></th>\n",
              "      <th></th>\n",
              "      <th></th>\n",
              "    </tr>\n",
              "  </thead>\n",
              "  <tbody>\n",
              "    <tr>\n",
              "      <th>action</th>\n",
              "      <td>119.25</td>\n",
              "      <td>122.51</td>\n",
              "      <td>97.23</td>\n",
              "      <td>72.02</td>\n",
              "      <td>30.11</td>\n",
              "    </tr>\n",
              "    <tr>\n",
              "      <th>adventure</th>\n",
              "      <td>5.79</td>\n",
              "      <td>6.09</td>\n",
              "      <td>5.57</td>\n",
              "      <td>8.16</td>\n",
              "      <td>3.82</td>\n",
              "    </tr>\n",
              "    <tr>\n",
              "      <th>fighting</th>\n",
              "      <td>9.18</td>\n",
              "      <td>7.09</td>\n",
              "      <td>15.85</td>\n",
              "      <td>7.90</td>\n",
              "      <td>4.47</td>\n",
              "    </tr>\n",
              "    <tr>\n",
              "      <th>misc</th>\n",
              "      <td>22.22</td>\n",
              "      <td>25.27</td>\n",
              "      <td>23.38</td>\n",
              "      <td>11.57</td>\n",
              "      <td>2.60</td>\n",
              "    </tr>\n",
              "    <tr>\n",
              "      <th>platform</th>\n",
              "      <td>18.37</td>\n",
              "      <td>24.54</td>\n",
              "      <td>8.81</td>\n",
              "      <td>6.05</td>\n",
              "      <td>3.23</td>\n",
              "    </tr>\n",
              "    <tr>\n",
              "      <th>puzzle</th>\n",
              "      <td>1.72</td>\n",
              "      <td>0.96</td>\n",
              "      <td>1.49</td>\n",
              "      <td>0.71</td>\n",
              "      <td>0.01</td>\n",
              "    </tr>\n",
              "    <tr>\n",
              "      <th>racing</th>\n",
              "      <td>13.61</td>\n",
              "      <td>12.37</td>\n",
              "      <td>16.66</td>\n",
              "      <td>8.07</td>\n",
              "      <td>2.79</td>\n",
              "    </tr>\n",
              "    <tr>\n",
              "      <th>role-playing</th>\n",
              "      <td>46.91</td>\n",
              "      <td>44.45</td>\n",
              "      <td>45.62</td>\n",
              "      <td>37.64</td>\n",
              "      <td>18.18</td>\n",
              "    </tr>\n",
              "    <tr>\n",
              "      <th>shooter</th>\n",
              "      <td>71.75</td>\n",
              "      <td>62.04</td>\n",
              "      <td>65.21</td>\n",
              "      <td>67.51</td>\n",
              "      <td>38.22</td>\n",
              "    </tr>\n",
              "    <tr>\n",
              "      <th>simulation</th>\n",
              "      <td>13.36</td>\n",
              "      <td>8.63</td>\n",
              "      <td>5.58</td>\n",
              "      <td>5.66</td>\n",
              "      <td>1.89</td>\n",
              "    </tr>\n",
              "    <tr>\n",
              "      <th>sports</th>\n",
              "      <td>30.42</td>\n",
              "      <td>41.17</td>\n",
              "      <td>45.15</td>\n",
              "      <td>40.84</td>\n",
              "      <td>23.49</td>\n",
              "    </tr>\n",
              "    <tr>\n",
              "      <th>strategy</th>\n",
              "      <td>3.26</td>\n",
              "      <td>6.12</td>\n",
              "      <td>0.98</td>\n",
              "      <td>1.85</td>\n",
              "      <td>1.13</td>\n",
              "    </tr>\n",
              "  </tbody>\n",
              "</table>\n",
              "</div>"
            ],
            "text/plain": [
              "year_of_release    2012    2013   2014   2015   2016\n",
              "genre                                               \n",
              "action           119.25  122.51  97.23  72.02  30.11\n",
              "adventure          5.79    6.09   5.57   8.16   3.82\n",
              "fighting           9.18    7.09  15.85   7.90   4.47\n",
              "misc              22.22   25.27  23.38  11.57   2.60\n",
              "platform          18.37   24.54   8.81   6.05   3.23\n",
              "puzzle             1.72    0.96   1.49   0.71   0.01\n",
              "racing            13.61   12.37  16.66   8.07   2.79\n",
              "role-playing      46.91   44.45  45.62  37.64  18.18\n",
              "shooter           71.75   62.04  65.21  67.51  38.22\n",
              "simulation        13.36    8.63   5.58   5.66   1.89\n",
              "sports            30.42   41.17  45.15  40.84  23.49\n",
              "strategy           3.26    6.12   0.98   1.85   1.13"
            ]
          },
          "metadata": {
            "tags": []
          },
          "execution_count": 62
        }
      ]
    },
    {
      "cell_type": "code",
      "metadata": {
        "id": "pCmDLf5hRILi"
      },
      "source": [
        "top_list = ['action', 'role-playing', 'shooter', 'sports', 'platform', 'misc']"
      ],
      "execution_count": null,
      "outputs": []
    },
    {
      "cell_type": "code",
      "metadata": {
        "colab": {
          "base_uri": "https://localhost:8080/"
        },
        "id": "KztDGXApRILj",
        "outputId": "f485d946-d0d8-462d-8468-b7314c93d0b6"
      },
      "source": [
        "top_games.query('genre in @top_list').plot(kind='bar', figsize=(15,5), edgecolor='black')\n",
        "plt.title('')\n",
        "plt.show()"
      ],
      "execution_count": null,
      "outputs": [
        {
          "output_type": "display_data",
          "data": {
            "image/png": "[encoded data removed]",
            "text/plain": [
              "<Figure size 1080x360 with 1 Axes>"
            ]
          },
          "metadata": {
            "tags": []
          }
        }
      ]
    },
    {
      "cell_type": "markdown",
      "metadata": {
        "id": "a2fKJIjWRILj"
      },
      "source": [
        "Самый популярный жанр - action и shooter, а вот puzzle сходит совсем на нет. Также к полпулярным жанрам можно отнести RPG, platform и sports. Наибольшее падение выручки получили по жанру action, стаблинее развиваются shooter и RPG"
      ]
    },
    {
      "cell_type": "markdown",
      "metadata": {
        "id": "0B9uQfQNRILj"
      },
      "source": [
        "### Вывод"
      ]
    },
    {
      "cell_type": "markdown",
      "metadata": {
        "id": "sVzTx2loRILj"
      },
      "source": [
        "Игровая индустрия начинает активно развиваться с 1994 года. Стоит отметить, что рейтинг ESRP применяют с 1993 года. Пики приходятся на 2006 - 2011 года, далее мы видим спад и с 2012 года некоторое выравнивание (от 500 до 652 игр в год - близко к уровню 2001 - 2006 года). Это может быть связано развитием игр на устройствах мобильной связи для Android или iOs. На протяжении последних лет скорость развития падает, прибыль падает.  \n",
        "\n",
        "Медианное время жизни платформы составляет 10 лет, при этом временной цикл анонса новой консоли примерно 6-7 лет\n",
        "\n",
        "\n",
        "Перспективными платформами являются PS4, XOne, 3DS и PC. Несмотря на то, что мы видим общий спад - лидеры и распределение прибылей не меняется. PS4 и XOne развиваются примерно одинаково, при этом PS4 продается чуть лучше, что связано с наличием эксклюзивных игр, в то время как политика Miscrosoft предполгает возможность игры и на PC. Также неплохо продается 3DS платформа, PC уступает консольным версиям, что связано с необходимостью обновления железа компьютера, что гораздо дороже покупки консоли  \n",
        "\n",
        "Наибольшее падение выручки получили по жанру action, стабильнее развиваются shooter и RPG. На данны момент shooter находится в лидерах продаж, но примерно равен action. Таким образом - пользователей интересуют action, RPG и shooter"
      ]
    },
    {
      "cell_type": "markdown",
      "metadata": {
        "id": "RmoZWjbhRILk"
      },
      "source": [
        "## Изучение пользователей видеоигр по регионам"
      ]
    },
    {
      "cell_type": "markdown",
      "metadata": {
        "id": "hzhdker5RILk"
      },
      "source": [
        "Для удобства выведем наш датафрейм:"
      ]
    },
    {
      "cell_type": "code",
      "metadata": {
        "colab": {
          "base_uri": "https://localhost:8080/",
          "height": 204
        },
        "id": "XdCyUSOERILk",
        "outputId": "42bf608d-abcd-4ca3-bd57-5e071090f116"
      },
      "source": [
        "games_12_16.head()"
      ],
      "execution_count": null,
      "outputs": [
        {
          "output_type": "execute_result",
          "data": {
            "text/html": [
              "<div>\n",
              "<style scoped>\n",
              "    .dataframe tbody tr th:only-of-type {\n",
              "        vertical-align: middle;\n",
              "    }\n",
              "\n",
              "    .dataframe tbody tr th {\n",
              "        vertical-align: top;\n",
              "    }\n",
              "\n",
              "    .dataframe thead th {\n",
              "        text-align: right;\n",
              "    }\n",
              "</style>\n",
              "<table border=\"1\" class=\"dataframe\">\n",
              "  <thead>\n",
              "    <tr style=\"text-align: right;\">\n",
              "      <th></th>\n",
              "      <th>name</th>\n",
              "      <th>platform</th>\n",
              "      <th>year_of_release</th>\n",
              "      <th>genre</th>\n",
              "      <th>na_sales</th>\n",
              "      <th>eu_sales</th>\n",
              "      <th>jp_sales</th>\n",
              "      <th>other_sales</th>\n",
              "      <th>critic_score</th>\n",
              "      <th>user_score</th>\n",
              "      <th>rating</th>\n",
              "      <th>total_sales</th>\n",
              "    </tr>\n",
              "  </thead>\n",
              "  <tbody>\n",
              "    <tr>\n",
              "      <th>0</th>\n",
              "      <td>Grand Theft Auto V</td>\n",
              "      <td>PS3</td>\n",
              "      <td>2013</td>\n",
              "      <td>action</td>\n",
              "      <td>7.02</td>\n",
              "      <td>9.09</td>\n",
              "      <td>0.98</td>\n",
              "      <td>3.96</td>\n",
              "      <td>97.0</td>\n",
              "      <td>82.0</td>\n",
              "      <td>M</td>\n",
              "      <td>21.05</td>\n",
              "    </tr>\n",
              "    <tr>\n",
              "      <th>1</th>\n",
              "      <td>Grand Theft Auto V</td>\n",
              "      <td>X360</td>\n",
              "      <td>2013</td>\n",
              "      <td>action</td>\n",
              "      <td>9.66</td>\n",
              "      <td>5.14</td>\n",
              "      <td>0.06</td>\n",
              "      <td>1.41</td>\n",
              "      <td>97.0</td>\n",
              "      <td>81.0</td>\n",
              "      <td>M</td>\n",
              "      <td>16.27</td>\n",
              "    </tr>\n",
              "    <tr>\n",
              "      <th>2</th>\n",
              "      <td>Call of Duty: Black Ops 3</td>\n",
              "      <td>PS4</td>\n",
              "      <td>2015</td>\n",
              "      <td>shooter</td>\n",
              "      <td>6.03</td>\n",
              "      <td>5.86</td>\n",
              "      <td>0.36</td>\n",
              "      <td>2.38</td>\n",
              "      <td>NaN</td>\n",
              "      <td>NaN</td>\n",
              "      <td>RP</td>\n",
              "      <td>14.63</td>\n",
              "    </tr>\n",
              "    <tr>\n",
              "      <th>3</th>\n",
              "      <td>Pokemon X/Pokemon Y</td>\n",
              "      <td>3DS</td>\n",
              "      <td>2013</td>\n",
              "      <td>role-playing</td>\n",
              "      <td>5.28</td>\n",
              "      <td>4.19</td>\n",
              "      <td>4.35</td>\n",
              "      <td>0.78</td>\n",
              "      <td>NaN</td>\n",
              "      <td>NaN</td>\n",
              "      <td>RP</td>\n",
              "      <td>14.60</td>\n",
              "    </tr>\n",
              "    <tr>\n",
              "      <th>4</th>\n",
              "      <td>Call of Duty: Black Ops II</td>\n",
              "      <td>PS3</td>\n",
              "      <td>2012</td>\n",
              "      <td>shooter</td>\n",
              "      <td>4.99</td>\n",
              "      <td>5.73</td>\n",
              "      <td>0.65</td>\n",
              "      <td>2.42</td>\n",
              "      <td>83.0</td>\n",
              "      <td>53.0</td>\n",
              "      <td>M</td>\n",
              "      <td>13.79</td>\n",
              "    </tr>\n",
              "  </tbody>\n",
              "</table>\n",
              "</div>"
            ],
            "text/plain": [
              "                         name platform  ...  rating total_sales\n",
              "0          Grand Theft Auto V      PS3  ...       M       21.05\n",
              "1          Grand Theft Auto V     X360  ...       M       16.27\n",
              "2   Call of Duty: Black Ops 3      PS4  ...      RP       14.63\n",
              "3         Pokemon X/Pokemon Y      3DS  ...      RP       14.60\n",
              "4  Call of Duty: Black Ops II      PS3  ...       M       13.79\n",
              "\n",
              "[5 rows x 12 columns]"
            ]
          },
          "metadata": {
            "tags": []
          },
          "execution_count": 65
        }
      ]
    },
    {
      "cell_type": "markdown",
      "metadata": {
        "id": "nRQAePgiRILk"
      },
      "source": [
        "Напишем функцию построения диаграмм для популярных жанров и платформ по регионам:"
      ]
    },
    {
      "cell_type": "code",
      "metadata": {
        "id": "c3_lwrS8RILl"
      },
      "source": [
        "def diag_plot (data, column, region):\n",
        "    region_data = games_12_16.groupby([column])[region].sum().sort_values(ascending=False).head()\n",
        "    data = region_data\n",
        "    \n",
        "    data.plot(y=column, kind='bar', figsize=(15,5),\n",
        "              color=['red', 'steelblue', 'violet', 'lightgreen', 'lightblue'],\n",
        "              edgecolor='black'\n",
        "             )\n",
        "\n",
        "    \n",
        "    plt.title('Распределение платформ по выручке')\n",
        "    plt.ylabel('')\n",
        "    plt.xlabel('')\n",
        "    plt.show()"
      ],
      "execution_count": null,
      "outputs": []
    },
    {
      "cell_type": "markdown",
      "metadata": {
        "id": "wVnpQOy0RILl"
      },
      "source": [
        "### Регион NA"
      ]
    },
    {
      "cell_type": "code",
      "metadata": {
        "colab": {
          "base_uri": "https://localhost:8080/",
          "height": 352
        },
        "id": "XOggq_9JRILl",
        "outputId": "7c1800c4-0e8a-4140-fb75-64e524555fc3"
      },
      "source": [
        "diag_plot(games_12_16, 'platform', 'na_sales')"
      ],
      "execution_count": null,
      "outputs": [
        {
          "output_type": "display_data",
          "data": {
            "image/png": "[encoded data removed]",
            "text/plain": [
              "<Figure size 1080x360 with 1 Axes>"
            ]
          },
          "metadata": {
            "tags": []
          }
        }
      ]
    },
    {
      "cell_type": "markdown",
      "metadata": {
        "id": "pesoA2ibRILl"
      },
      "source": [
        "В Северной Америке самая популярная платформа - X360 - собственно там, где ее и происхождение. При этом с выходом консолей нового поколения - лидерство переходит к PS4. 3DS - наименее популярная консоль среди лидеров."
      ]
    },
    {
      "cell_type": "code",
      "metadata": {
        "colab": {
          "base_uri": "https://localhost:8080/",
          "height": 385
        },
        "id": "q2SZiNAvRILm",
        "outputId": "be2afbf4-a6b4-414b-f58e-1c771392d102"
      },
      "source": [
        "diag_plot(games_12_16, 'genre', 'na_sales')"
      ],
      "execution_count": null,
      "outputs": [
        {
          "output_type": "display_data",
          "data": {
            "image/png": "[encoded data removed]",
            "text/plain": [
              "<Figure size 1080x360 with 1 Axes>"
            ]
          },
          "metadata": {
            "tags": []
          }
        }
      ]
    },
    {
      "cell_type": "markdown",
      "metadata": {
        "id": "jn1wbH5gRILm"
      },
      "source": [
        "Что касается жанров, то самые популярны action и shooter, замыкает тройку лидеров игрры жанра sport"
      ]
    },
    {
      "cell_type": "markdown",
      "metadata": {
        "id": "Gg5bMPzQRILm"
      },
      "source": [
        "### Регион EU"
      ]
    },
    {
      "cell_type": "code",
      "metadata": {
        "colab": {
          "base_uri": "https://localhost:8080/"
        },
        "id": "aOt0oUlyRILn",
        "outputId": "8b4b9c73-b8fe-4ccb-f978-9973b8566429"
      },
      "source": [
        "diag_plot(games_12_16, 'platform', 'eu_sales')"
      ],
      "execution_count": null,
      "outputs": [
        {
          "output_type": "display_data",
          "data": {
            "image/png": "[encoded data removed]",
            "text/plain": [
              "<Figure size 1080x360 with 1 Axes>"
            ]
          },
          "metadata": {
            "tags": []
          }
        }
      ]
    },
    {
      "cell_type": "markdown",
      "metadata": {
        "id": "XvLkHLi_RILn"
      },
      "source": [
        "У Европейских пользователей в лидерах PS4 и PS3, консоль компании Microsoft пользуется гораздо меньшим успехом, нежеле в Северной америке"
      ]
    },
    {
      "cell_type": "code",
      "metadata": {
        "colab": {
          "base_uri": "https://localhost:8080/"
        },
        "id": "AUto-JMGRILo",
        "outputId": "d78f9aae-90fb-4729-c295-4379b47d2327"
      },
      "source": [
        "diag_plot(games_12_16, 'genre', 'eu_sales')"
      ],
      "execution_count": null,
      "outputs": [
        {
          "output_type": "display_data",
          "data": {
            "image/png": "[encoded data removed]",
            "text/plain": [
              "<Figure size 1080x360 with 1 Axes>"
            ]
          },
          "metadata": {
            "tags": []
          }
        }
      ]
    },
    {
      "cell_type": "markdown",
      "metadata": {
        "id": "IsEHFxxGRILo"
      },
      "source": [
        "### Регион JP"
      ]
    },
    {
      "cell_type": "code",
      "metadata": {
        "colab": {
          "base_uri": "https://localhost:8080/"
        },
        "id": "RLW0TP3_RILo",
        "outputId": "e90a6a1f-9009-4b0f-b492-404abef1b202"
      },
      "source": [
        "diag_plot(games_12_16, 'platform', 'jp_sales')"
      ],
      "execution_count": null,
      "outputs": [
        {
          "output_type": "display_data",
          "data": {
            "image/png": "[encoded data removed]",
            "text/plain": [
              "<Figure size 1080x360 with 1 Axes>"
            ]
          },
          "metadata": {
            "tags": []
          }
        }
      ]
    },
    {
      "cell_type": "markdown",
      "metadata": {
        "id": "DAuq7LhGRILo"
      },
      "source": [
        "У японских пользователей предпочтения отдаются приставки компании Nintendo и Sony. При этом в топ-5 вошли целых две портативных консоли. Японские пользователи отдают предпочтения местынм производителям консолей"
      ]
    },
    {
      "cell_type": "code",
      "metadata": {
        "colab": {
          "base_uri": "https://localhost:8080/"
        },
        "id": "oXSMsa7ARILo",
        "outputId": "9f50564d-5d4b-49d1-f62a-040868810250"
      },
      "source": [
        "diag_plot(games_12_16, 'genre', 'jp_sales')"
      ],
      "execution_count": null,
      "outputs": [
        {
          "output_type": "display_data",
          "data": {
            "image/png": "[encoded data removed]",
            "text/plain": [
              "<Figure size 1080x360 with 1 Axes>"
            ]
          },
          "metadata": {
            "tags": []
          }
        }
      ]
    },
    {
      "cell_type": "markdown",
      "metadata": {
        "id": "GLDxLxR3RILp"
      },
      "source": [
        "Ожидаемо, что японские пользователи предпочитают RPG (множество знаменитых RPG произошли из японии, есть отдельный поджанр - [jRPG](https://ru.wikipedia.org/wiki/%D0%AF%D0%BF%D0%BE%D0%BD%D1%81%D0%BA%D0%B0%D1%8F_%D1%80%D0%BE%D0%BB%D0%B5%D0%B2%D0%B0%D1%8F_%D0%B8%D0%B3%D1%80%D0%B0)), далее идут action.\n",
        "\n",
        "Если Европа и Америка более менее схожи в предпочтении, то Япония явно выделяется на их уровне.\n",
        "Японцы зачастую много работают (свыше [60](https://rb.ru/story/karoshi/) часов в неделю) - при таком подходе - времени на домашнюю стационарную консолль не останется - возможно поэтому и лидируют портативные консоли.  К тому же, жилье японцев зачастую небольшое по площади - выбор в пользу портативной платформы - сэкономит место (нет необходимости покупать монитор или телевизор и сама консоль не будет занимать места)\n",
        "\n",
        "Что касается RPG - то ролевые игры предлагают пользователю погружение и увлечение надолгое время, в отличие от шутеров или экшн, некоторое погружение и сопоставления себя и персонажа, что помогает отвлечься от усталости\n"
      ]
    },
    {
      "cell_type": "markdown",
      "metadata": {
        "id": "AE1IX-evRILp"
      },
      "source": [
        "### Влияние рейтинга ESRB"
      ]
    },
    {
      "cell_type": "markdown",
      "metadata": {
        "id": "TzqjnTIMRILp"
      },
      "source": [
        "Построим"
      ]
    },
    {
      "cell_type": "code",
      "metadata": {
        "colab": {
          "base_uri": "https://localhost:8080/"
        },
        "id": "wDf9oS6vRILp",
        "outputId": "6859f337-9961-49f5-fc03-76116b613761"
      },
      "source": [
        "region_sales = ['na_sales', 'eu_sales', 'jp_sales']\n",
        "regions = ['Северная Америка', 'Европа','Япония']\n",
        "\n",
        "\n",
        "fig, ax = plt.subplots(1, 3, figsize=(15,5))\n",
        "fig.suptitle('Продажи по рейтингу ESRB')\n",
        "for i, sale in enumerate(region_sales):\n",
        "    for region in regions:\n",
        "        games_12_16.groupby('rating')[sale].sum().plot(\n",
        "                                                       kind='bar', ax=ax[i], title=regions[i]\n",
        "                                                       \n",
        "                                                      )\n",
        "    "
      ],
      "execution_count": null,
      "outputs": [
        {
          "output_type": "display_data",
          "data": {
            "image/png": "[encoded data removed]",
            "text/plain": [
              "<Figure size 1080x360 with 3 Axes>"
            ]
          },
          "metadata": {
            "tags": []
          }
        }
      ]
    },
    {
      "cell_type": "code",
      "metadata": {
        "colab": {
          "base_uri": "https://localhost:8080/"
        },
        "id": "WQjah-L7RILq",
        "outputId": "bc7da208-04d7-45b0-be8c-488761af6238"
      },
      "source": [
        "games_12_16.query('rating != \"RP\"').groupby('rating')['jp_sales'].sum().plot(kind='bar', figsize=(15,5))\n",
        "plt.title('Рейтинг ESRB для Японии без RP')\n",
        "plt.xlabel('')\n",
        "plt.show()"
      ],
      "execution_count": null,
      "outputs": [
        {
          "output_type": "display_data",
          "data": {
            "image/png": "[encoded data removed]",
            "text/plain": [
              "<Figure size 1080x360 with 1 Axes>"
            ]
          },
          "metadata": {
            "tags": []
          }
        }
      ]
    },
    {
      "cell_type": "markdown",
      "metadata": {
        "id": "XmcxqRe3RILq"
      },
      "source": [
        "В Северной Америке и Европе мы видим, что самые популярные игры отмечены знаком «M» («Mature»). Если вспомнить, какие жанры популярны в данных регионах (шутеры и экшн), можно сказать, что пользователи преподчитают игры с элементами насилия (например, игры про военные операции, игры, поддерживающие PVP режимы (игрок-против-игрока)). В Японии много игр не отмечены рейтингом. 3DS не пользуется популярностью у пользователей других регионов, поэтому дистрибьютеры не спешат выводить множество игр на рынки. Если не брать RP во внимание, то в Японии популярны игры, отмеченные рейтингом для всех - E."
      ]
    },
    {
      "cell_type": "markdown",
      "metadata": {
        "id": "MOievmRgRILq"
      },
      "source": [
        "Для [справки](https://ru.wikipedia.org/wiki/Entertainment_Software_Rating_Board):  \n",
        "\n",
        "- **«EC» («Early childhood»)** — «Для детей младшего возраста»: Игра подходит для детей от 3 лет и старше и не содержит материалов, которые родители могли бы счесть неподходящими. Продукты, получившие данный рейтинг, изначально разрабатываются для детей и обычно представляют собой развивающие игры. Некоторые усложнённые развивающие игры могут иметь рейтинг «Everyone». \n",
        " \n",
        " \n",
        "- **«E» («Everyone»)** — «Для всех»: Содержание вполне подходит для возрастной категории от 6 лет и старше; такие игры могут понравиться и взрослым. Игры с этим рейтингом могут содержать минимальное насилие, в основном «мультяшного» характера. Первой игрой, которая получила данный рейтинг, стала The Simpsons Cartoon Studio, выпущенная в 1996 году. Первоначально \"K-A\" (\"Kids to Adults\")  \n",
        "  \n",
        "  \n",
        "- **«E10+» («Everyone 10 and older»)** — «Для всех от 10 лет и старше»: Проекты с данным рейтингом могут содержать немного больше мультипликационного или мягкого насилия, или несколько откровенные сцены или минимальное количество крови. Рейтинг был принят ESRB 2 марта 2005 года. Первой игрой, которая получила данный рейтинг, стала Donkey Kong: Jungle Beat.  \n",
        "  \n",
        "  \n",
        "- **«T» («Teen»)** — «Подросткам»: Игра подходит для лиц от 13 лет и старше. Проекты из данной категории могут содержать насилие, непристойные сцены, грубый юмор, в меру откровенное сексуальное содержимое, кровь или нечастое использование  \n",
        "  \n",
        "  \n",
        "- **«M» («Mature»)** — «Для взрослых»: Материалы игры не подходят для подростков младше 17 лет. Проекты с данным рейтингом могут содержать достаточно жестокое насилие, большое количество крови с расчленением, непристойные сексуальные сцены или грубую ненормативную лексику, нежелательную для младшей аудитории.  \n",
        "  \n",
        "  \n",
        "- **«AO» («Adults Only 18+»)** — «Только для взрослых»: Содержание игры только для взрослых старше 18 лет. Продукты из данной категории могут содержать длительные сцены жестокого насилия и/или очень откровенное сексуальное содержимое, а также сцены с обнажением. Большинство таких игр предназначены для персональных компьютеров под управлением Microsoft Windows и Apple Macintosh. Рейтинг «Только для взрослых» является предметом многочисленных дискуссий, так как накладывает серьёзные ограничения на продажи игры.  \n",
        "  \n",
        "  \n",
        "- **«RP» («Rating Pending»)** — «Рейтинг ожидается»: Продукт был отправлен в ESRB и ожидает присвоения рейтинга. Данный логотип используется только на рекламных презентациях и в демо-версиях игр до официальной даты выпуска в продажу  "
      ]
    },
    {
      "cell_type": "markdown",
      "metadata": {
        "id": "KQaElVQNRILr"
      },
      "source": [
        "### Вывод"
      ]
    },
    {
      "cell_type": "markdown",
      "metadata": {
        "id": "i7BxCQbPRILr"
      },
      "source": [
        "В Северной Америке самая популярная платформа - X360 - собственно там, где ее и происхождение. При этом с выходом консолей нового поколения - лидерство переходит к PS4. 3DS - наименее популярная консоль среди лидеров.  \n",
        "\n",
        "У Европейских пользователей в лидерах PS4 и PS3, консоль компании Microsoft пользуется гораздо меньшим успехом, нежеле в Северной Америке, но оба региона схожи в том, что 3ds наименее популярная.  \n",
        "\n",
        "У японских пользователей предпочтения отдаются приставки компании Nintendo и Sony. При этом в топ-5 вошли целых две портативных консоли. Японские пользователи отдают предпочтения местынм производителям консолей\n",
        "\n",
        "\n",
        "Касательно жанров - пользователи Америки и Европы предпочитают экшн игры и шутеры с рейтингом М, Японские пользователи предпочитают игры для 3DS и ролевы игры. Чаще всего игры имеют в японии либо рейтинг [RP либо E](https://www.esrb.org/search/?searchKeyword=&platform=Nintendo%203DS&rating=E%2CE10%2B%2CT%2CM%2CAO&descriptor=All%20Content&pg=4&searchType=All)"
      ]
    },
    {
      "cell_type": "markdown",
      "metadata": {
        "id": "iHJYM988RILr"
      },
      "source": [
        "## Проверка статистических гипотез"
      ]
    },
    {
      "cell_type": "markdown",
      "metadata": {
        "id": "AAcGWjijRILr"
      },
      "source": [
        "Для удобства выведем датафрейм"
      ]
    },
    {
      "cell_type": "code",
      "metadata": {
        "colab": {
          "base_uri": "https://localhost:8080/",
          "height": 204
        },
        "id": "b8FHUSCcRILs",
        "outputId": "03319ce3-a807-443e-e7f5-ce0a6b22b762"
      },
      "source": [
        "games_12_16.head()"
      ],
      "execution_count": null,
      "outputs": [
        {
          "output_type": "execute_result",
          "data": {
            "text/html": [
              "<div>\n",
              "<style scoped>\n",
              "    .dataframe tbody tr th:only-of-type {\n",
              "        vertical-align: middle;\n",
              "    }\n",
              "\n",
              "    .dataframe tbody tr th {\n",
              "        vertical-align: top;\n",
              "    }\n",
              "\n",
              "    .dataframe thead th {\n",
              "        text-align: right;\n",
              "    }\n",
              "</style>\n",
              "<table border=\"1\" class=\"dataframe\">\n",
              "  <thead>\n",
              "    <tr style=\"text-align: right;\">\n",
              "      <th></th>\n",
              "      <th>name</th>\n",
              "      <th>platform</th>\n",
              "      <th>year_of_release</th>\n",
              "      <th>genre</th>\n",
              "      <th>na_sales</th>\n",
              "      <th>eu_sales</th>\n",
              "      <th>jp_sales</th>\n",
              "      <th>other_sales</th>\n",
              "      <th>critic_score</th>\n",
              "      <th>user_score</th>\n",
              "      <th>rating</th>\n",
              "      <th>total_sales</th>\n",
              "    </tr>\n",
              "  </thead>\n",
              "  <tbody>\n",
              "    <tr>\n",
              "      <th>0</th>\n",
              "      <td>Grand Theft Auto V</td>\n",
              "      <td>PS3</td>\n",
              "      <td>2013</td>\n",
              "      <td>action</td>\n",
              "      <td>7.02</td>\n",
              "      <td>9.09</td>\n",
              "      <td>0.98</td>\n",
              "      <td>3.96</td>\n",
              "      <td>97.0</td>\n",
              "      <td>82.0</td>\n",
              "      <td>M</td>\n",
              "      <td>21.05</td>\n",
              "    </tr>\n",
              "    <tr>\n",
              "      <th>1</th>\n",
              "      <td>Grand Theft Auto V</td>\n",
              "      <td>X360</td>\n",
              "      <td>2013</td>\n",
              "      <td>action</td>\n",
              "      <td>9.66</td>\n",
              "      <td>5.14</td>\n",
              "      <td>0.06</td>\n",
              "      <td>1.41</td>\n",
              "      <td>97.0</td>\n",
              "      <td>81.0</td>\n",
              "      <td>M</td>\n",
              "      <td>16.27</td>\n",
              "    </tr>\n",
              "    <tr>\n",
              "      <th>2</th>\n",
              "      <td>Call of Duty: Black Ops 3</td>\n",
              "      <td>PS4</td>\n",
              "      <td>2015</td>\n",
              "      <td>shooter</td>\n",
              "      <td>6.03</td>\n",
              "      <td>5.86</td>\n",
              "      <td>0.36</td>\n",
              "      <td>2.38</td>\n",
              "      <td>NaN</td>\n",
              "      <td>NaN</td>\n",
              "      <td>RP</td>\n",
              "      <td>14.63</td>\n",
              "    </tr>\n",
              "    <tr>\n",
              "      <th>3</th>\n",
              "      <td>Pokemon X/Pokemon Y</td>\n",
              "      <td>3DS</td>\n",
              "      <td>2013</td>\n",
              "      <td>role-playing</td>\n",
              "      <td>5.28</td>\n",
              "      <td>4.19</td>\n",
              "      <td>4.35</td>\n",
              "      <td>0.78</td>\n",
              "      <td>NaN</td>\n",
              "      <td>NaN</td>\n",
              "      <td>RP</td>\n",
              "      <td>14.60</td>\n",
              "    </tr>\n",
              "    <tr>\n",
              "      <th>4</th>\n",
              "      <td>Call of Duty: Black Ops II</td>\n",
              "      <td>PS3</td>\n",
              "      <td>2012</td>\n",
              "      <td>shooter</td>\n",
              "      <td>4.99</td>\n",
              "      <td>5.73</td>\n",
              "      <td>0.65</td>\n",
              "      <td>2.42</td>\n",
              "      <td>83.0</td>\n",
              "      <td>53.0</td>\n",
              "      <td>M</td>\n",
              "      <td>13.79</td>\n",
              "    </tr>\n",
              "  </tbody>\n",
              "</table>\n",
              "</div>"
            ],
            "text/plain": [
              "                         name platform  ...  rating total_sales\n",
              "0          Grand Theft Auto V      PS3  ...       M       21.05\n",
              "1          Grand Theft Auto V     X360  ...       M       16.27\n",
              "2   Call of Duty: Black Ops 3      PS4  ...      RP       14.63\n",
              "3         Pokemon X/Pokemon Y      3DS  ...      RP       14.60\n",
              "4  Call of Duty: Black Ops II      PS3  ...       M       13.79\n",
              "\n",
              "[5 rows x 12 columns]"
            ]
          },
          "metadata": {
            "tags": []
          },
          "execution_count": 75
        }
      ]
    },
    {
      "cell_type": "markdown",
      "metadata": {
        "id": "OxyfU4nZRILs"
      },
      "source": [
        "### Средние пользовательские рейтинги платформ Xbox One и PC одинаковые"
      ]
    },
    {
      "cell_type": "markdown",
      "metadata": {
        "id": "AKhjca--RILs"
      },
      "source": [
        "Проверим как отличаются средние пользовательские рейтинги платформ Xbox One и PC.\n",
        "Построим гипотезы: Сформулируем ее как Гипотезу о равенстве средних двух генеральных совокупностей\n",
        "\n",
        "H0 (нулевая гипотеза): Средние пользовательские рейтинги платформ Xbox One и PC **равны**.\n",
        "\n",
        "H1 (альтернативная гипотеза): Средние пользовательские рейтинги платформ Xbox One и PC **не равны**.\n",
        "\n",
        "Чтобы проверить гипотезу о равенстве среднего двух генеральных совокупностей по взятым из них выборкам, примените метод `scipy.stats.ttest_ind (array1, array2, equal_var)`, при этом критический уровень статистической значимости alpha принимаем как .05  \n",
        "\n",
        "Для начала оценим наши выборки. Это позволит нам выяснить какой параметр equal_var нам применять в тест Стьюдента. Проведем тест Левена и рассмотрим различатся ли дисперсии наших выборок."
      ]
    },
    {
      "cell_type": "code",
      "metadata": {
        "colab": {
          "base_uri": "https://localhost:8080/"
        },
        "id": "eN6yLSetRILs",
        "outputId": "e1ec297c-086b-4f25-f980-703cbf73635e"
      },
      "source": [
        "# сделаем выборки\n",
        "\n",
        "xbox_gamers = games_12_16.query('platform == \"XOne\"')\n",
        "pc_gamers = games_12_16.query('platform == \"PC\"')\n",
        "\n",
        "# создадим списки самплов\n",
        "\n",
        "sample_1 = xbox_gamers['user_score'][xbox_gamers['user_score'].notna()].tolist()\n",
        "sample_2 = pc_gamers['user_score'][pc_gamers['user_score'].notna()].tolist()\n",
        "alpha = .05\n",
        "stat, p = st.levene(sample_1, sample_2)\n",
        "result_levene = p\n",
        "\n",
        "# проведем тест Левена\n",
        "\n",
        "if result_levene < alpha:\n",
        "    print('Отвергаем Н0, дисперсии различаются, equal_var=False для ttest')\n",
        "else:\n",
        "    print(\"Не отвергаем Н0, дисперсии не различаются, equal_var=True для ttest\")\n",
        "\n",
        "var_sample = [np.var(x, ddof=1) for x in [sample_1, sample_2]]\n",
        "print('Дисперсии по выборкам: ', var_sample)\n"
      ],
      "execution_count": null,
      "outputs": [
        {
          "output_type": "stream",
          "text": [
            "Отвергаем Н0, дисперсии различаются, equal_var=False для ttest\n",
            "Дисперсии по выборкам:  [190.69968429360694, 277.04439971584185]\n"
          ],
          "name": "stdout"
        }
      ]
    },
    {
      "cell_type": "code",
      "metadata": {
        "colab": {
          "base_uri": "https://localhost:8080/"
        },
        "id": "vUst4rB7RILt",
        "outputId": "9d6aa0c5-d4a0-42c4-fbdd-2bdb5882c8ce"
      },
      "source": [
        "# Проведем ttest, equal_var=False\n",
        "\n",
        "alpha = .05 \n",
        "results = st.ttest_ind(sample_1, sample_2, equal_var=False)\n",
        "\n",
        "print('p-значение:', results.pvalue)\n",
        "\n",
        "if results.pvalue < alpha:\n",
        "    print(\"Отвергаем Н0\")\n",
        "else:\n",
        "    print(\"Не отвергаем Н0\")\n",
        "\n",
        "\n"
      ],
      "execution_count": null,
      "outputs": [
        {
          "output_type": "stream",
          "text": [
            "p-значение: 0.5489537965135056\n",
            "Не отвергаем Н0\n"
          ],
          "name": "stdout"
        }
      ]
    },
    {
      "cell_type": "markdown",
      "metadata": {
        "id": "v1JuMM9tRILt"
      },
      "source": [
        "Нулевыю гипотезу не отвергаем:\n",
        "Средние пользовательские рейтинги платформ Xbox One и PC равны.\n",
        "\n",
        "Посмотрим средние значения и удостоверимся в этом"
      ]
    },
    {
      "cell_type": "code",
      "metadata": {
        "colab": {
          "base_uri": "https://localhost:8080/"
        },
        "id": "8gPbapV4RILt",
        "outputId": "ffa565f2-93fe-4340-8c86-9bd08e231e6f"
      },
      "source": [
        "print('Средняя пользовательская оценка XOne: {:.2f}'.format(\n",
        "                                                      xbox_gamers['user_score'][xbox_gamers['user_score'].notna()].mean())\n",
        "                                                      )\n",
        "print('Средняя пользовательская оценка PC: {:.2f}'.format(\n",
        "                                                    pc_gamers['user_score'][pc_gamers['user_score'].notna()].mean())\n",
        "                                                    )"
      ],
      "execution_count": null,
      "outputs": [
        {
          "output_type": "stream",
          "text": [
            "Средняя пользовательская оценка XOne: 65.21\n",
            "Средняя пользовательская оценка PC: 64.29\n"
          ],
          "name": "stdout"
        }
      ]
    },
    {
      "cell_type": "markdown",
      "metadata": {
        "id": "Q0wiwo1KRILt"
      },
      "source": [
        "Действительно, в нашей выборке средние примерно равны"
      ]
    },
    {
      "cell_type": "markdown",
      "metadata": {
        "id": "NFoGY4mtRILt"
      },
      "source": [
        "### Средние пользовательские рейтинги жанров Action и Sports разные"
      ]
    },
    {
      "cell_type": "markdown",
      "metadata": {
        "id": "uJ0qvnOCRILu"
      },
      "source": [
        "Проверим как отличаются cредние пользовательские рейтинги жанров Action и Sports. Построим гипотезы: Сформулируем ее как Гипотезу о равенстве средних двух генеральных совокупностей\n",
        "\n",
        "H0 (нулевая гипотеза): Средние пользовательские рейтинги жанров Action и Sports равны.\n",
        "\n",
        "H1 (альтернативная гипотеза): Средние пользовательские рейтинги жанров Action и Sports не равны.\n",
        "\n",
        "Чтобы проверить гипотезу о равенстве среднего двух генеральных совокупностей по взятым из них выборкам, примените метод `scipy.stats.ttest_ind (array1, array2, equal_var)`, при этом критический уровень статистической значимости alpha принимаем как .05\n",
        "\n",
        "Для начала оценим наши выборки. Это позволит нам выяснить какой параметр equal_var нам применять в тест Стьюдента. Проведем тест Левена и рассмотрим различатся ли дисперсии наших выборок."
      ]
    },
    {
      "cell_type": "code",
      "metadata": {
        "colab": {
          "base_uri": "https://localhost:8080/"
        },
        "id": "QBWcxp1ERILu",
        "outputId": "4ff6f73a-ed47-425e-f6f7-9c9deb3bc6b1"
      },
      "source": [
        "# сделаем выборки\n",
        "\n",
        "action_gamers = games_12_16.query('genre == \"action\"')\n",
        "sports_gamers = games_12_16.query('genre == \"sports\"')\n",
        "\n",
        "# создадим списки самплов\n",
        "\n",
        "sample_01 = action_gamers['user_score'][action_gamers['user_score'].notna()].tolist()\n",
        "sample_02 = sports_gamers['user_score'][sports_gamers['user_score'].notna()].tolist()\n",
        "alpha = .05\n",
        "stat, p = st.levene(sample_01, sample_02)\n",
        "result_levene = p\n",
        "\n",
        "# проведем тест Левена\n",
        "\n",
        "if result_levene < alpha:\n",
        "    print('Отвергаем Н0, дисперсии различаются, equal_var=False для ttest')\n",
        "else:\n",
        "    print(\"Не отвергаем Н0, дисперсии не различаются, equal_var=True для ttest\")\n",
        "\n",
        "var_sample_1 = [np.var(x, ddof=1) for x in [sample_01, sample_02]]\n",
        "print('Дисперсии по выборкам: ', var_sample_1)\n"
      ],
      "execution_count": null,
      "outputs": [
        {
          "output_type": "stream",
          "text": [
            "Отвергаем Н0, дисперсии различаются, equal_var=False для ttest\n",
            "Дисперсии по выборкам:  [188.90840494348112, 302.2890298704732]\n"
          ],
          "name": "stdout"
        }
      ]
    },
    {
      "cell_type": "code",
      "metadata": {
        "colab": {
          "base_uri": "https://localhost:8080/"
        },
        "id": "2b_z6S69RILv",
        "outputId": "62e3bb53-86dc-41f2-b5ea-818bf881e520"
      },
      "source": [
        "# Проведем ttest, equal_var=False\n",
        "\n",
        "alpha = .05 \n",
        "results = st.ttest_ind(sample_01, sample_02, equal_var=False)\n",
        "\n",
        "print('p-значение:', results.pvalue)\n",
        "\n",
        "if results.pvalue < alpha:\n",
        "    print(\"Отвергаем Н0\")\n",
        "else:\n",
        "    print(\"Не отвергаем Н0\")\n",
        "\n",
        "\n"
      ],
      "execution_count": null,
      "outputs": [
        {
          "output_type": "stream",
          "text": [
            "p-значение: 4.243077765726105e-20\n",
            "Отвергаем Н0\n"
          ],
          "name": "stdout"
        }
      ]
    },
    {
      "cell_type": "markdown",
      "metadata": {
        "id": "4KQTAbl3RILv"
      },
      "source": [
        "Отвергаем нулевую гипотезу. Вероятнее всего, верно утверждение:  \n",
        "Средние пользовательские рейтинги жанров Action и Sports не равны  \n",
        "\n",
        "Посмотрим наши средние в выборке:"
      ]
    },
    {
      "cell_type": "code",
      "metadata": {
        "colab": {
          "base_uri": "https://localhost:8080/"
        },
        "id": "Ch7ds2XoRILv",
        "outputId": "d806e654-105a-4ea3-8b3a-839d9084ea3a"
      },
      "source": [
        "print('Средняя пользовательская оценка Action: {:.2f}'.format(\n",
        "                                                        action_gamers['user_score'][action_gamers['user_score'].notna()].mean())\n",
        "                                                        )\n",
        "print('Средняя пользовательская оценка Sports: {:.2f}'.format(\n",
        "                                                        sports_gamers['user_score'][sports_gamers['user_score'].notna()].mean())\n",
        "                                                         )"
      ],
      "execution_count": null,
      "outputs": [
        {
          "output_type": "stream",
          "text": [
            "Средняя пользовательская оценка Action: 68.25\n",
            "Средняя пользовательская оценка Sports: 54.56\n"
          ],
          "name": "stdout"
        }
      ]
    },
    {
      "cell_type": "markdown",
      "metadata": {
        "id": "KdOrRC8lRILw"
      },
      "source": [
        "Так и есть. Разные жанры, разные потребители, а значит и разные вкучы, что влияет на оценку пользователя. "
      ]
    },
    {
      "cell_type": "markdown",
      "metadata": {
        "id": "7doEDbinRILw"
      },
      "source": [
        "## Вывод"
      ]
    },
    {
      "cell_type": "markdown",
      "metadata": {
        "id": "tcyQI6I4RILw"
      },
      "source": [
        "По результатам анализа, предоставленных данных по 2016 год был взят актуальный период для изучения: с 2012 года по 2016 года, для прогнозирования стратегии развития на 2017 год.\n",
        "\n",
        "\n",
        "**Перспективными платформами являются Playstation 4 и Xbox One**. 3DS от Nintendo стоит рассматривать только в случае ориентирования на рынок Японии. Для отечественного рынка применимы результаты исследования Европы. Соответственно, **перспективными жанрами будут action и shooter с рейтингом М** и высокой оценкой критиков - такие игры вероятнее всего будут пользоваться спросом. Спортивные игры также популярны - их стоит также рассмотреть для реализации на рынке.  \n",
        "\n",
        "PC является менее перспективным чем консоли на данный момент, что может быть связано с развитием online сервисов по покупке игр - то есть необходимость физических носителей отпадает.\n",
        "\n",
        "Стоит отметить, что средняя оценка пользователей не зависит от платформы. Если продукт качественный - то платформа игры не имеет значение.\n",
        "\n",
        "\n",
        "Таким образом,  \n",
        "\n",
        "сконцентрировать свое внимание необходимо на консолях 8го поколения PS4 и Xbox One, при этом первая в приоритете, и играх жанров action и shooter с рейтингом M\n"
      ]
    }
  ]
}