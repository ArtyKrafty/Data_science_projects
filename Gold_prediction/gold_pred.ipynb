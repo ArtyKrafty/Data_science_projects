{
  "nbformat": 4,
  "nbformat_minor": 0,
  "metadata": {
    "kernelspec": {
      "display_name": "Python 3",
      "language": "python",
      "name": "python3"
    },
    "language_info": {
      "codemirror_mode": {
        "name": "ipython",
        "version": 3
      },
      "file_extension": ".py",
      "mimetype": "text/x-python",
      "name": "python",
      "nbconvert_exporter": "python",
      "pygments_lexer": "ipython3",
      "version": "3.7.8"
    },
    "toc": {
      "base_numbering": 1,
      "nav_menu": {},
      "number_sections": true,
      "sideBar": true,
      "skip_h1_title": true,
      "title_cell": "Содержание",
      "title_sidebar": "Contents",
      "toc_cell": true,
      "toc_position": {
        "height": "calc(100% - 180px)",
        "left": "10px",
        "top": "150px",
        "width": "366.391px"
      },
      "toc_section_display": true,
      "toc_window_display": true
    },
    "colab": {
      "name": "gold_pred.ipynb",
      "provenance": [],
      "collapsed_sections": []
    }
  },
  "cells": [
    {
      "cell_type": "markdown",
      "metadata": {
        "id": "A8ACfdNdb6l-"
      },
      "source": [
        "![](https://i.ibb.co/QjQQQxG/60f414e36219b6a3b0346935457c4879.jpg)"
      ]
    },
    {
      "cell_type": "markdown",
      "metadata": {
        "id": "tP0sxcjZb6l_"
      },
      "source": [
        "# Восстановление золота из руды"
      ]
    },
    {
      "cell_type": "markdown",
      "metadata": {
        "id": "TLG3ZaNab6l_"
      },
      "source": [
        "**Необходимо** подготовить прототип модели машинного обучения для **«Цифры»**. Компания разрабатывает решения для эффективной работы промышленных предприятий.\n",
        "\n",
        "Модель **должна предсказать коэффициент восстановления золота из золотосодержащей руды**. Нам предоставлены данные с параметрами добычи и очистки. \n",
        "\n",
        "Модель **поможет оптимизировать** производство, **чтобы не запускать предприятие с убыточными характеристиками**."
      ]
    },
    {
      "cell_type": "markdown",
      "metadata": {
        "id": "3jQEKUGsb6l_"
      },
      "source": [
        "**Этапы производства:**\n",
        "\n",
        "**1. Флотация**\n",
        "\n",
        "Во флотационную установку подаётся смесь золотосодержащей руды. После обогащения получается черновой концентрат и «отвальные хвосты», то есть остатки продукта с низкой концентрацией ценных металлов.\n",
        "На стабильность этого процесса влияет непостоянное и неоптимальное физико-химическое состояние флотационной пульпы (смеси твёрдых частиц и жидкости).  \n",
        "\n",
        "**2. Очистка**\n",
        "\n",
        "Черновой концентрат проходит две очистки. На выходе получается финальный концентрат и новые отвальные хвосты\n",
        "Описание данных\n",
        "\n",
        "Эффективность обогащения рассчитывается по **формуле**: \n",
        "\n",
        "`RECOVERY = ((C x (F-T))) / (F x (C-T))) * 100 %`\n",
        "\n",
        "где:  \n",
        "\n",
        "- **C** — доля золота в концентрате после флотации/очистки;\n",
        "- **F** — доля золота в сырье/концентрате до флотации/очистки;\n",
        "- **T** — доля золота в отвальных хвостах после флотации/очистки.  \n",
        "\n",
        "*Для прогноза коэффициента нужно найти долю золота в концентратах и хвостах. Причём важен не только финальный продукт, но и черновой концентрат*"
      ]
    },
    {
      "cell_type": "markdown",
      "metadata": {
        "id": "8Us9Dxk6b6l_"
      },
      "source": [
        ""
      ]
    },
    {
      "cell_type": "markdown",
      "metadata": {
        "id": "bhcNs_Efb6l_"
      },
      "source": [
        "<footer id=\"footer\"></footer>"
      ]
    },
    {
      "cell_type": "markdown",
      "metadata": {
        "toc": true,
        "id": "psnQ_OoCb6mA"
      },
      "source": [
        "<h1>Содержание<span class=\"tocSkip\"></span></h1>\n",
        "<div class=\"toc\"><ul class=\"toc-item\"><li><span><a href=\"#Подготовка-данных\" data-toc-modified-id=\"Подготовка-данных-1\"><span class=\"toc-item-num\">1&nbsp;&nbsp;</span>Подготовка данных</a></span><ul class=\"toc-item\"><li><span><a href=\"#Импорт-необходимых-библиотек-и-данных\" data-toc-modified-id=\"Импорт-необходимых-библиотек-и-данных-1.1\"><span class=\"toc-item-num\">1.1&nbsp;&nbsp;</span>Импорт необходимых библиотек и данных</a></span></li><li><span><a href=\"#Описание-данных\" data-toc-modified-id=\"Описание-данных-1.2\"><span class=\"toc-item-num\">1.2&nbsp;&nbsp;</span>Описание данных</a></span></li><li><span><a href=\"#Проверка-выборок-и-краткий-анализ-признаков\" data-toc-modified-id=\"Проверка-выборок-и-краткий-анализ-признаков-1.3\"><span class=\"toc-item-num\">1.3&nbsp;&nbsp;</span>Проверка выборок и краткий анализ признаков</a></span></li><li><span><a href=\"#Проверка-эффективности-обогащения-в-обучающей-выборке-на-примере-rougher.output\" data-toc-modified-id=\"Проверка-эффективности-обогащения-в-обучающей-выборке-на-примере-rougher.output-1.4\"><span class=\"toc-item-num\">1.4&nbsp;&nbsp;</span>Проверка эффективности обогащения в обучающей выборке на примере rougher.output</a></span></li><li><span><a href=\"#Предобработка\" data-toc-modified-id=\"Предобработка-1.5\"><span class=\"toc-item-num\">1.5&nbsp;&nbsp;</span>Предобработка</a></span><ul class=\"toc-item\"><li><span><a href=\"#Обработка-обучающей-выборки\" data-toc-modified-id=\"Обработка-обучающей-выборки-1.5.1\"><span class=\"toc-item-num\">1.5.1&nbsp;&nbsp;</span>Обработка обучающей выборки</a></span></li><li><span><a href=\"#Обработка-тестовой-выборки\" data-toc-modified-id=\"Обработка-тестовой-выборки-1.5.2\"><span class=\"toc-item-num\">1.5.2&nbsp;&nbsp;</span>Обработка тестовой выборки</a></span></li><li><span><a href=\"#Разделение-обучающей-выборки-по-процессам\" data-toc-modified-id=\"Разделение-обучающей-выборки-по-процессам-1.5.3\"><span class=\"toc-item-num\">1.5.3&nbsp;&nbsp;</span>Разделение обучающей выборки по процессам</a></span></li></ul></li><li><span><a href=\"#Вывод\" data-toc-modified-id=\"Вывод-1.6\"><span class=\"toc-item-num\">1.6&nbsp;&nbsp;</span>Вывод</a></span></li></ul></li><li><span><a href=\"#Анализ-данных\" data-toc-modified-id=\"Анализ-данных-2\"><span class=\"toc-item-num\">2&nbsp;&nbsp;</span>Анализ данных</a></span><ul class=\"toc-item\"><li><span><a href=\"#Изучение-концентрации-металлов\" data-toc-modified-id=\"Изучение-концентрации-металлов-2.1\"><span class=\"toc-item-num\">2.1&nbsp;&nbsp;</span>Изучение концентрации металлов</a></span><ul class=\"toc-item\"><li><span><a href=\"#Изменение-концентрации-золота\" data-toc-modified-id=\"Изменение-концентрации-золота-2.1.1\"><span class=\"toc-item-num\">2.1.1&nbsp;&nbsp;</span>Изменение концентрации золота</a></span></li><li><span><a href=\"#Изменение-концентрации-серебра\" data-toc-modified-id=\"Изменение-концентрации-серебра-2.1.2\"><span class=\"toc-item-num\">2.1.2&nbsp;&nbsp;</span>Изменение концентрации серебра</a></span></li><li><span><a href=\"#Изменение-концентрации-свинца\" data-toc-modified-id=\"Изменение-концентрации-свинца-2.1.3\"><span class=\"toc-item-num\">2.1.3&nbsp;&nbsp;</span>Изменение концентрации свинца</a></span></li><li><span><a href=\"#Размеры-гранул\" data-toc-modified-id=\"Размеры-гранул-2.1.4\"><span class=\"toc-item-num\">2.1.4&nbsp;&nbsp;</span>Размеры гранул</a></span></li></ul></li><li><span><a href=\"#Суммарная-концентрация-веществ-на-разных-стадиях-производства\" data-toc-modified-id=\"Суммарная-концентрация-веществ-на-разных-стадиях-производства-2.2\"><span class=\"toc-item-num\">2.2&nbsp;&nbsp;</span>Суммарная концентрация веществ на разных стадиях производства</a></span></li><li><span><a href=\"#Вывод\" data-toc-modified-id=\"Вывод-2.3\"><span class=\"toc-item-num\">2.3&nbsp;&nbsp;</span>Вывод</a></span></li></ul></li><li><span><a href=\"#Модель\" data-toc-modified-id=\"Модель-3\"><span class=\"toc-item-num\">3&nbsp;&nbsp;</span>Модель</a></span><ul class=\"toc-item\"><li><span><a href=\"#Подготовка-функция-для-рассчета-метрик\" data-toc-modified-id=\"Подготовка-функция-для-рассчета-метрик-3.1\"><span class=\"toc-item-num\">3.1&nbsp;&nbsp;</span>Подготовка функция для рассчета метрик</a></span></li><li><span><a href=\"#Подготовка-Pipeline\" data-toc-modified-id=\"Подготовка-Pipeline-3.2\"><span class=\"toc-item-num\">3.2&nbsp;&nbsp;</span>Подготовка Pipeline</a></span></li><li><span><a href=\"#Обучение-моделей-с-кросс-валидацией-на-обучающей-выборке-(с-выбросами-без-нулевых-значений)\" data-toc-modified-id=\"Обучение-моделей-с-кросс-валидацией-на-обучающей-выборке-(с-выбросами-без-нулевых-значений)-3.3\"><span class=\"toc-item-num\">3.3&nbsp;&nbsp;</span>Обучение моделей с кросс-валидацией на обучающей выборке (с выбросами без нулевых значений)</a></span></li><li><span><a href=\"#Обучение-моделей-с-кросс-валидацией-на-обучающей-выборке-(с-очищенными-от-выбросов-и-нулевых-значений)\" data-toc-modified-id=\"Обучение-моделей-с-кросс-валидацией-на-обучающей-выборке-(с-очищенными-от-выбросов-и-нулевых-значений)-3.4\"><span class=\"toc-item-num\">3.4&nbsp;&nbsp;</span>Обучение моделей с кросс-валидацией на обучающей выборке (с очищенными от выбросов и нулевых значений)</a></span></li></ul></li><li><span><a href=\"#Вывод\" data-toc-modified-id=\"Вывод-4\"><span class=\"toc-item-num\">4&nbsp;&nbsp;</span>Вывод</a></span></li><li><span><a href=\"#Чек-лист-готовности-проекта\" data-toc-modified-id=\"Чек-лист-готовности-проекта-5\"><span class=\"toc-item-num\">5&nbsp;&nbsp;</span>Чек-лист готовности проекта</a></span></li></ul></div>"
      ]
    },
    {
      "cell_type": "markdown",
      "metadata": {
        "id": "O4Dm-y-bb6mB"
      },
      "source": [
        "<a href=\"#footer\">К содержанию</a>\n",
        "\n",
        "<footer id=\"footer\"></footer>"
      ]
    },
    {
      "cell_type": "markdown",
      "metadata": {
        "id": "KLvAgTMcb6mB"
      },
      "source": [
        "## Подготовка данных"
      ]
    },
    {
      "cell_type": "markdown",
      "metadata": {
        "id": "Rq7NKqOVb6mB"
      },
      "source": [
        "### Импорт необходимых библиотек и данных"
      ]
    },
    {
      "cell_type": "code",
      "metadata": {
        "id": "T8_R4aQbb6mB"
      },
      "source": [
        "import warnings\n",
        "warnings.filterwarnings(\"ignore\")\n",
        "import pandas as pd\n",
        "import numpy as np\n",
        "%matplotlib inline\n",
        "import matplotlib.pyplot as plt\n",
        "import seaborn as sns\n",
        "sns.set_style(\"darkgrid\")\n",
        "from sklearn.linear_model import LinearRegression, Lasso, Ridge\n",
        "from sklearn.ensemble import RandomForestRegressor\n",
        "from sklearn.metrics.scorer import make_scorer\n",
        "from sklearn.metrics import mean_absolute_error\n",
        "from sklearn.model_selection import GridSearchCV\n",
        "from sklearn.pipeline import Pipeline\n",
        "from scipy import stats as st\n",
        "from sklearn.preprocessing import StandardScaler\n",
        "from sklearn.impute import SimpleImputer\n",
        "from sklearn.model_selection import cross_val_score\n"
      ],
      "execution_count": 1,
      "outputs": []
    },
    {
      "cell_type": "code",
      "metadata": {
        "colab": {
          "base_uri": "https://localhost:8080/"
        },
        "id": "3jd14XWpcsoT",
        "outputId": "f096d8d6-72d0-4a85-9a58-b8ee968625b8"
      },
      "source": [
        "!gdown --id 10ip7Zzgo1y7JvrbWMVE2WcRbDE1W00he\n",
        "!gdown --id 15-2wwu__x6Sx_Cy2HOO7wzjNlpaCSM4c\n",
        "!gdown --id 1jWB3VIwtGvL-1MpuUJYNrmU69eU7jYBx"
      ],
      "execution_count": 2,
      "outputs": [
        {
          "output_type": "stream",
          "text": [
            "Downloading...\n",
            "From: https://drive.google.com/uc?id=10ip7Zzgo1y7JvrbWMVE2WcRbDE1W00he\n",
            "To: /content/gold_recovery_full.csv\n",
            "35.4MB [00:00, 84.4MB/s]\n",
            "Downloading...\n",
            "From: https://drive.google.com/uc?id=15-2wwu__x6Sx_Cy2HOO7wzjNlpaCSM4c\n",
            "To: /content/gold_recovery_test.csv\n",
            "5.77MB [00:00, 143MB/s]\n",
            "Downloading...\n",
            "From: https://drive.google.com/uc?id=1jWB3VIwtGvL-1MpuUJYNrmU69eU7jYBx\n",
            "To: /content/gold_recovery_train.csv\n",
            "26.2MB [00:00, 159MB/s] \n"
          ],
          "name": "stdout"
        }
      ]
    },
    {
      "cell_type": "code",
      "metadata": {
        "id": "yhhAtjYvb6mC"
      },
      "source": [
        "df = pd.read_csv('/content/gold_recovery_full.csv')\n",
        "train = pd.read_csv('/content/gold_recovery_train.csv')\n",
        "test = pd.read_csv('/content/gold_recovery_test.csv')"
      ],
      "execution_count": 3,
      "outputs": []
    },
    {
      "cell_type": "markdown",
      "metadata": {
        "id": "_U9dNQiab6mC"
      },
      "source": [
        "<a href=\"#footer\">К содержанию</a>\n",
        "\n",
        "<footer id=\"footer\"></footer>"
      ]
    },
    {
      "cell_type": "markdown",
      "metadata": {
        "id": "633awZAib6mC"
      },
      "source": [
        "### Описание данных "
      ]
    },
    {
      "cell_type": "markdown",
      "metadata": {
        "id": "RPczp3OTb6mC"
      },
      "source": [
        "Для начала посмотрим общий сет данных, изучим наши признаки. Выработаем стратегию работы с обучающей и тестовой выборкой, чтобы не допустить смещения из-за информационного просмотра данных (data snooping)"
      ]
    },
    {
      "cell_type": "code",
      "metadata": {
        "colab": {
          "base_uri": "https://localhost:8080/"
        },
        "id": "2YnElMshb6mC",
        "outputId": "e4685c40-d21f-41c7-a8dc-94a211acc86f"
      },
      "source": [
        "df.columns"
      ],
      "execution_count": 4,
      "outputs": [
        {
          "output_type": "execute_result",
          "data": {
            "text/plain": [
              "Index(['date', 'final.output.concentrate_ag', 'final.output.concentrate_pb',\n",
              "       'final.output.concentrate_sol', 'final.output.concentrate_au',\n",
              "       'final.output.recovery', 'final.output.tail_ag', 'final.output.tail_pb',\n",
              "       'final.output.tail_sol', 'final.output.tail_au',\n",
              "       'primary_cleaner.input.sulfate', 'primary_cleaner.input.depressant',\n",
              "       'primary_cleaner.input.feed_size', 'primary_cleaner.input.xanthate',\n",
              "       'primary_cleaner.output.concentrate_ag',\n",
              "       'primary_cleaner.output.concentrate_pb',\n",
              "       'primary_cleaner.output.concentrate_sol',\n",
              "       'primary_cleaner.output.concentrate_au',\n",
              "       'primary_cleaner.output.tail_ag', 'primary_cleaner.output.tail_pb',\n",
              "       'primary_cleaner.output.tail_sol', 'primary_cleaner.output.tail_au',\n",
              "       'primary_cleaner.state.floatbank8_a_air',\n",
              "       'primary_cleaner.state.floatbank8_a_level',\n",
              "       'primary_cleaner.state.floatbank8_b_air',\n",
              "       'primary_cleaner.state.floatbank8_b_level',\n",
              "       'primary_cleaner.state.floatbank8_c_air',\n",
              "       'primary_cleaner.state.floatbank8_c_level',\n",
              "       'primary_cleaner.state.floatbank8_d_air',\n",
              "       'primary_cleaner.state.floatbank8_d_level',\n",
              "       'rougher.calculation.sulfate_to_au_concentrate',\n",
              "       'rougher.calculation.floatbank10_sulfate_to_au_feed',\n",
              "       'rougher.calculation.floatbank11_sulfate_to_au_feed',\n",
              "       'rougher.calculation.au_pb_ratio', 'rougher.input.feed_ag',\n",
              "       'rougher.input.feed_pb', 'rougher.input.feed_rate',\n",
              "       'rougher.input.feed_size', 'rougher.input.feed_sol',\n",
              "       'rougher.input.feed_au', 'rougher.input.floatbank10_sulfate',\n",
              "       'rougher.input.floatbank10_xanthate',\n",
              "       'rougher.input.floatbank11_sulfate',\n",
              "       'rougher.input.floatbank11_xanthate', 'rougher.output.concentrate_ag',\n",
              "       'rougher.output.concentrate_pb', 'rougher.output.concentrate_sol',\n",
              "       'rougher.output.concentrate_au', 'rougher.output.recovery',\n",
              "       'rougher.output.tail_ag', 'rougher.output.tail_pb',\n",
              "       'rougher.output.tail_sol', 'rougher.output.tail_au',\n",
              "       'rougher.state.floatbank10_a_air', 'rougher.state.floatbank10_a_level',\n",
              "       'rougher.state.floatbank10_b_air', 'rougher.state.floatbank10_b_level',\n",
              "       'rougher.state.floatbank10_c_air', 'rougher.state.floatbank10_c_level',\n",
              "       'rougher.state.floatbank10_d_air', 'rougher.state.floatbank10_d_level',\n",
              "       'rougher.state.floatbank10_e_air', 'rougher.state.floatbank10_e_level',\n",
              "       'rougher.state.floatbank10_f_air', 'rougher.state.floatbank10_f_level',\n",
              "       'secondary_cleaner.output.tail_ag', 'secondary_cleaner.output.tail_pb',\n",
              "       'secondary_cleaner.output.tail_sol', 'secondary_cleaner.output.tail_au',\n",
              "       'secondary_cleaner.state.floatbank2_a_air',\n",
              "       'secondary_cleaner.state.floatbank2_a_level',\n",
              "       'secondary_cleaner.state.floatbank2_b_air',\n",
              "       'secondary_cleaner.state.floatbank2_b_level',\n",
              "       'secondary_cleaner.state.floatbank3_a_air',\n",
              "       'secondary_cleaner.state.floatbank3_a_level',\n",
              "       'secondary_cleaner.state.floatbank3_b_air',\n",
              "       'secondary_cleaner.state.floatbank3_b_level',\n",
              "       'secondary_cleaner.state.floatbank4_a_air',\n",
              "       'secondary_cleaner.state.floatbank4_a_level',\n",
              "       'secondary_cleaner.state.floatbank4_b_air',\n",
              "       'secondary_cleaner.state.floatbank4_b_level',\n",
              "       'secondary_cleaner.state.floatbank5_a_air',\n",
              "       'secondary_cleaner.state.floatbank5_a_level',\n",
              "       'secondary_cleaner.state.floatbank5_b_air',\n",
              "       'secondary_cleaner.state.floatbank5_b_level',\n",
              "       'secondary_cleaner.state.floatbank6_a_air',\n",
              "       'secondary_cleaner.state.floatbank6_a_level'],\n",
              "      dtype='object')"
            ]
          },
          "metadata": {
            "tags": []
          },
          "execution_count": 4
        }
      ]
    },
    {
      "cell_type": "markdown",
      "metadata": {
        "id": "_XcANBseb6mD"
      },
      "source": [
        "Имеем следующие признаки и метки"
      ]
    },
    {
      "cell_type": "markdown",
      "metadata": {
        "id": "zOjkps94b6mD"
      },
      "source": [
        "\n",
        "\n",
        "**Технологический процесс**\n",
        "\n",
        "- `Rougher feed` — исходное сырье\n",
        "- `Rougher additions (или reagent additions)` — флотационные реагенты: Xanthate, Sulphate, Depressant  \n",
        "  \n",
        "  -- `Xanthat` — ксантогенат (промотер, или активатор флотации);   \n",
        "  -- `Sulphate` — сульфат (на данном производстве сульфид натрия);  \n",
        "  -- `Depressant` — депрессант (силикат натрия).  \n",
        "   \n",
        "   \n",
        "- `Rougher process` (англ. «грубый процесс») — флотация\n",
        "- `Rougher tails` — отвальные хвосты\n",
        "- `Float banks` — флотационная установка\n",
        "- `Cleaner process` — очистка\n",
        "- `Rougher Au` — черновой концентрат золота\n",
        "- `Final Au` — финальный концентрат золота\n",
        "\n",
        "  \n",
        "**Параметры этапов**\n",
        "\n",
        "- `air amount` — объём воздуха\n",
        "- `fluid levels` — уровень жидкости\n",
        "- `feed size` — размер гранул сырья\n",
        "- `feed rate` — скорость подачи\n",
        "\n",
        "\n",
        "**Наименование признаков**\n",
        "\n",
        "\n",
        "Наименование признаков должно быть:  \n",
        "\n",
        "**[этап].[тип_параметра].[название_параметра]**\n",
        "\n",
        "**Пример**: rougher.input.feed_ag\n",
        "\n",
        "\n",
        "Возможные значения для блока **[этап]**: \n",
        "\n",
        "- `rougher` — флотация\n",
        "- `primary_cleaner` — первичная очистка\n",
        "- `secondary_cleaner` — вторичная очистка\n",
        "- `final` — финальные характеристики  \n",
        "\n",
        "Возможные значения для блока [тип_параметра]: \n",
        "\n",
        "- `input` — параметры сырья\n",
        "- `output` — параметры продукта\n",
        "- `state` — параметры, характеризующие текущее состояние этапа\n",
        "- `calculation` — расчётные характеристики\n"
      ]
    },
    {
      "cell_type": "markdown",
      "metadata": {
        "id": "-yCUBPRRb6mD"
      },
      "source": [
        "Можно выделить два признака целевых:  \n",
        "\n",
        "\n",
        "эффективность обогащения чернового концентрата `rougher.output.recovery`;  \n",
        "эффективность обогащения финального концентрата `final.output.recovery`."
      ]
    },
    {
      "cell_type": "markdown",
      "metadata": {
        "id": "op4M7FmWb6mD"
      },
      "source": [
        "![](https://i.ibb.co/dM09JVc/viruchka-1576238830.jpg)"
      ]
    },
    {
      "cell_type": "markdown",
      "metadata": {
        "id": "ck_XoK7Lb6mD"
      },
      "source": [
        "Исходя из данной схемы, нам необходимо будет разделить обучающую выборку на два компонента - это флотации и два этапа очистки"
      ]
    },
    {
      "cell_type": "markdown",
      "metadata": {
        "id": "p2oAlu4Nb6mD"
      },
      "source": [
        "<a href=\"#footer\">К содержанию</a>\n",
        "\n",
        "<footer id=\"footer\"></footer>"
      ]
    },
    {
      "cell_type": "markdown",
      "metadata": {
        "id": "7IItytKXb6mE"
      },
      "source": [
        "### Проверка выборок и краткий анализ признаков"
      ]
    },
    {
      "cell_type": "markdown",
      "metadata": {
        "id": "aGEEl2t5b6mE"
      },
      "source": [
        "Проверим, правильно ли разделены выборки на тестовую и обучающую"
      ]
    },
    {
      "cell_type": "code",
      "metadata": {
        "id": "OkQHTULxb6mE"
      },
      "source": [
        "def print_info(data, x, x_val):\n",
        "    return print(' Количество образцов обучающей выборки:', len(x),'\\n',\n",
        "                 'Количество образцов тестовой выборки:', len(x_val),'\\n',\n",
        "                 'Сумма выборок:', len(x) + len(x_val),'\\n',\n",
        "                 'Количество образцов подготовленной выборки (контрольная сумма):', len(data))"
      ],
      "execution_count": 5,
      "outputs": []
    },
    {
      "cell_type": "code",
      "metadata": {
        "colab": {
          "base_uri": "https://localhost:8080/"
        },
        "id": "RaOwZucEb6mE",
        "outputId": "0b01229e-b00b-4775-d9c7-bde19f6918bd"
      },
      "source": [
        "print_info(df, train, test)"
      ],
      "execution_count": 6,
      "outputs": [
        {
          "output_type": "stream",
          "text": [
            " Количество образцов обучающей выборки: 16860 \n",
            " Количество образцов тестовой выборки: 5856 \n",
            " Сумма выборок: 22716 \n",
            " Количество образцов подготовленной выборки (контрольная сумма): 22716\n"
          ],
          "name": "stdout"
        }
      ]
    },
    {
      "cell_type": "code",
      "metadata": {
        "colab": {
          "base_uri": "https://localhost:8080/"
        },
        "id": "RdHFEfoHb6mE",
        "outputId": "b32e98ab-1ac1-4986-adb7-79a6415b86cf"
      },
      "source": [
        "print('Доля тестовой выборки:{:.2%}'.format((len(test)/len(df))))"
      ],
      "execution_count": 7,
      "outputs": [
        {
          "output_type": "stream",
          "text": [
            "Доля тестовой выборки:25.78%\n"
          ],
          "name": "stdout"
        }
      ]
    },
    {
      "cell_type": "code",
      "metadata": {
        "colab": {
          "base_uri": "https://localhost:8080/"
        },
        "id": "EzSk9b_-b6mE",
        "outputId": "8baf4ed1-3e56-4ac0-8b4d-41282cbb6227"
      },
      "source": [
        "print('Доля тренировочной выборки:{:.2%}'.format((len(train)/len(df))))"
      ],
      "execution_count": 8,
      "outputs": [
        {
          "output_type": "stream",
          "text": [
            "Доля тренировочной выборки:74.22%\n"
          ],
          "name": "stdout"
        }
      ]
    },
    {
      "cell_type": "markdown",
      "metadata": {
        "id": "4wJZoTDmb6mE"
      },
      "source": [
        "Приемлемо, минимум мы требуем минимум 20% от обучающей выборки. 24,78% нас устраивает\n",
        "Посмотрим, как выглядят данные в признаках"
      ]
    },
    {
      "cell_type": "code",
      "metadata": {
        "colab": {
          "base_uri": "https://localhost:8080/",
          "height": 423
        },
        "id": "tuwG8LGXb6mE",
        "outputId": "87d45c6c-2b07-4a43-8057-22cbf1258008"
      },
      "source": [
        "pd.set_option(\"display.max_columns\", 9)\n",
        "df.head()"
      ],
      "execution_count": 9,
      "outputs": [
        {
          "output_type": "execute_result",
          "data": {
            "text/html": [
              "<div>\n",
              "<style scoped>\n",
              "    .dataframe tbody tr th:only-of-type {\n",
              "        vertical-align: middle;\n",
              "    }\n",
              "\n",
              "    .dataframe tbody tr th {\n",
              "        vertical-align: top;\n",
              "    }\n",
              "\n",
              "    .dataframe thead th {\n",
              "        text-align: right;\n",
              "    }\n",
              "</style>\n",
              "<table border=\"1\" class=\"dataframe\">\n",
              "  <thead>\n",
              "    <tr style=\"text-align: right;\">\n",
              "      <th></th>\n",
              "      <th>date</th>\n",
              "      <th>final.output.concentrate_ag</th>\n",
              "      <th>final.output.concentrate_pb</th>\n",
              "      <th>final.output.concentrate_sol</th>\n",
              "      <th>...</th>\n",
              "      <th>secondary_cleaner.state.floatbank5_b_air</th>\n",
              "      <th>secondary_cleaner.state.floatbank5_b_level</th>\n",
              "      <th>secondary_cleaner.state.floatbank6_a_air</th>\n",
              "      <th>secondary_cleaner.state.floatbank6_a_level</th>\n",
              "    </tr>\n",
              "  </thead>\n",
              "  <tbody>\n",
              "    <tr>\n",
              "      <th>0</th>\n",
              "      <td>2016-01-15 00:00:00</td>\n",
              "      <td>6.055403</td>\n",
              "      <td>9.889648</td>\n",
              "      <td>5.507324</td>\n",
              "      <td>...</td>\n",
              "      <td>8.079666</td>\n",
              "      <td>-500.470978</td>\n",
              "      <td>14.151341</td>\n",
              "      <td>-605.841980</td>\n",
              "    </tr>\n",
              "    <tr>\n",
              "      <th>1</th>\n",
              "      <td>2016-01-15 01:00:00</td>\n",
              "      <td>6.029369</td>\n",
              "      <td>9.968944</td>\n",
              "      <td>5.257781</td>\n",
              "      <td>...</td>\n",
              "      <td>7.984757</td>\n",
              "      <td>-500.582168</td>\n",
              "      <td>13.998353</td>\n",
              "      <td>-599.787184</td>\n",
              "    </tr>\n",
              "    <tr>\n",
              "      <th>2</th>\n",
              "      <td>2016-01-15 02:00:00</td>\n",
              "      <td>6.055926</td>\n",
              "      <td>10.213995</td>\n",
              "      <td>5.383759</td>\n",
              "      <td>...</td>\n",
              "      <td>8.013877</td>\n",
              "      <td>-500.517572</td>\n",
              "      <td>14.028663</td>\n",
              "      <td>-601.427363</td>\n",
              "    </tr>\n",
              "    <tr>\n",
              "      <th>3</th>\n",
              "      <td>2016-01-15 03:00:00</td>\n",
              "      <td>6.047977</td>\n",
              "      <td>9.977019</td>\n",
              "      <td>4.858634</td>\n",
              "      <td>...</td>\n",
              "      <td>7.977324</td>\n",
              "      <td>-500.255908</td>\n",
              "      <td>14.005551</td>\n",
              "      <td>-599.996129</td>\n",
              "    </tr>\n",
              "    <tr>\n",
              "      <th>4</th>\n",
              "      <td>2016-01-15 04:00:00</td>\n",
              "      <td>6.148599</td>\n",
              "      <td>10.142511</td>\n",
              "      <td>4.939416</td>\n",
              "      <td>...</td>\n",
              "      <td>7.894242</td>\n",
              "      <td>-500.356035</td>\n",
              "      <td>13.996647</td>\n",
              "      <td>-601.496691</td>\n",
              "    </tr>\n",
              "  </tbody>\n",
              "</table>\n",
              "<p>5 rows × 87 columns</p>\n",
              "</div>"
            ],
            "text/plain": [
              "                  date  final.output.concentrate_ag  \\\n",
              "0  2016-01-15 00:00:00                     6.055403   \n",
              "1  2016-01-15 01:00:00                     6.029369   \n",
              "2  2016-01-15 02:00:00                     6.055926   \n",
              "3  2016-01-15 03:00:00                     6.047977   \n",
              "4  2016-01-15 04:00:00                     6.148599   \n",
              "\n",
              "   final.output.concentrate_pb  final.output.concentrate_sol  ...  \\\n",
              "0                     9.889648                      5.507324  ...   \n",
              "1                     9.968944                      5.257781  ...   \n",
              "2                    10.213995                      5.383759  ...   \n",
              "3                     9.977019                      4.858634  ...   \n",
              "4                    10.142511                      4.939416  ...   \n",
              "\n",
              "   secondary_cleaner.state.floatbank5_b_air  \\\n",
              "0                                  8.079666   \n",
              "1                                  7.984757   \n",
              "2                                  8.013877   \n",
              "3                                  7.977324   \n",
              "4                                  7.894242   \n",
              "\n",
              "   secondary_cleaner.state.floatbank5_b_level  \\\n",
              "0                                 -500.470978   \n",
              "1                                 -500.582168   \n",
              "2                                 -500.517572   \n",
              "3                                 -500.255908   \n",
              "4                                 -500.356035   \n",
              "\n",
              "   secondary_cleaner.state.floatbank6_a_air  \\\n",
              "0                                 14.151341   \n",
              "1                                 13.998353   \n",
              "2                                 14.028663   \n",
              "3                                 14.005551   \n",
              "4                                 13.996647   \n",
              "\n",
              "   secondary_cleaner.state.floatbank6_a_level  \n",
              "0                                 -605.841980  \n",
              "1                                 -599.787184  \n",
              "2                                 -601.427363  \n",
              "3                                 -599.996129  \n",
              "4                                 -601.496691  \n",
              "\n",
              "[5 rows x 87 columns]"
            ]
          },
          "metadata": {
            "tags": []
          },
          "execution_count": 9
        }
      ]
    },
    {
      "cell_type": "code",
      "metadata": {
        "id": "z2e4w3CYb6mF"
      },
      "source": [
        "pd.reset_option(\"max_columns\")"
      ],
      "execution_count": 10,
      "outputs": []
    },
    {
      "cell_type": "markdown",
      "metadata": {
        "id": "apmAiXiwb6mF"
      },
      "source": [
        "Проверим размеры тестовой выборки и обучающей"
      ]
    },
    {
      "cell_type": "code",
      "metadata": {
        "colab": {
          "base_uri": "https://localhost:8080/"
        },
        "id": "hg0riN-vb6mF",
        "outputId": "509fb044-c1f4-4142-96ef-dff40f7cb0dd"
      },
      "source": [
        "train.shape, test.shape"
      ],
      "execution_count": 11,
      "outputs": [
        {
          "output_type": "execute_result",
          "data": {
            "text/plain": [
              "((16860, 87), (5856, 53))"
            ]
          },
          "metadata": {
            "tags": []
          },
          "execution_count": 11
        }
      ]
    },
    {
      "cell_type": "markdown",
      "metadata": {
        "id": "bSDQp1EJb6mF"
      },
      "source": [
        "Тестовая выборка содержит меньше признаков, посмотрим какие отсутствуют"
      ]
    },
    {
      "cell_type": "code",
      "metadata": {
        "colab": {
          "base_uri": "https://localhost:8080/"
        },
        "id": "wAZDaMiHb6mF",
        "outputId": "d8b3eec3-c9b4-4a49-c533-8255185db432"
      },
      "source": [
        "print('Количество признаков, отсутствующих в тестовой выборке:' , len(set(train) - set(test)))\n",
        "set(train.columns) - set(test.columns)"
      ],
      "execution_count": 12,
      "outputs": [
        {
          "output_type": "stream",
          "text": [
            "Количество признаков, отсутствующих в тестовой выборке: 34\n"
          ],
          "name": "stdout"
        },
        {
          "output_type": "execute_result",
          "data": {
            "text/plain": [
              "{'final.output.concentrate_ag',\n",
              " 'final.output.concentrate_au',\n",
              " 'final.output.concentrate_pb',\n",
              " 'final.output.concentrate_sol',\n",
              " 'final.output.recovery',\n",
              " 'final.output.tail_ag',\n",
              " 'final.output.tail_au',\n",
              " 'final.output.tail_pb',\n",
              " 'final.output.tail_sol',\n",
              " 'primary_cleaner.output.concentrate_ag',\n",
              " 'primary_cleaner.output.concentrate_au',\n",
              " 'primary_cleaner.output.concentrate_pb',\n",
              " 'primary_cleaner.output.concentrate_sol',\n",
              " 'primary_cleaner.output.tail_ag',\n",
              " 'primary_cleaner.output.tail_au',\n",
              " 'primary_cleaner.output.tail_pb',\n",
              " 'primary_cleaner.output.tail_sol',\n",
              " 'rougher.calculation.au_pb_ratio',\n",
              " 'rougher.calculation.floatbank10_sulfate_to_au_feed',\n",
              " 'rougher.calculation.floatbank11_sulfate_to_au_feed',\n",
              " 'rougher.calculation.sulfate_to_au_concentrate',\n",
              " 'rougher.output.concentrate_ag',\n",
              " 'rougher.output.concentrate_au',\n",
              " 'rougher.output.concentrate_pb',\n",
              " 'rougher.output.concentrate_sol',\n",
              " 'rougher.output.recovery',\n",
              " 'rougher.output.tail_ag',\n",
              " 'rougher.output.tail_au',\n",
              " 'rougher.output.tail_pb',\n",
              " 'rougher.output.tail_sol',\n",
              " 'secondary_cleaner.output.tail_ag',\n",
              " 'secondary_cleaner.output.tail_au',\n",
              " 'secondary_cleaner.output.tail_pb',\n",
              " 'secondary_cleaner.output.tail_sol'}"
            ]
          },
          "metadata": {
            "tags": []
          },
          "execution_count": 12
        }
      ]
    },
    {
      "cell_type": "markdown",
      "metadata": {
        "id": "O50jU8IIb6mF"
      },
      "source": [
        "Мы видим, что отсутствуют признаки из блоков `output` - `параметры продуктов`, `calculation` - `расчётные характеристики`\n",
        "Также отсутствуют целевые признаки, которых можно выделить два: \n",
        "\n",
        "`rougher.output.recovery` — эффективность обогащения чернового концентрата  \n",
        "`final.output.recovery` — эффективность обогащения финального концентрата\n",
        "\n",
        "Можно предположить, что данные признаки рассчитываются на выходе продукции и доступны после этапа производства. При формировании признаков для модели учтем данный факт  \n",
        "\n",
        "\n",
        "Приведем `train` к `test` выборке"
      ]
    },
    {
      "cell_type": "markdown",
      "metadata": {
        "id": "aja7slfib6mF"
      },
      "source": [
        "Посмотрим период, за который доступны наши данные:"
      ]
    },
    {
      "cell_type": "code",
      "metadata": {
        "colab": {
          "base_uri": "https://localhost:8080/"
        },
        "id": "WIAT3ewIb6mF",
        "outputId": "6c0324d9-6fb1-4bbd-9a0f-9cbe9be58df8"
      },
      "source": [
        "print('Данные доступны за период от', pd.to_datetime(df['date'].min()), 'до', pd.to_datetime(df['date'].max()))"
      ],
      "execution_count": 13,
      "outputs": [
        {
          "output_type": "stream",
          "text": [
            "Данные доступны за период от 2016-01-15 00:00:00 до 2018-08-18 10:59:59\n"
          ],
          "name": "stdout"
        }
      ]
    },
    {
      "cell_type": "markdown",
      "metadata": {
        "id": "Qp7MOYfeb6mG"
      },
      "source": [
        "<a href=\"#footer\">К содержанию</a>\n",
        "\n",
        "<footer id=\"footer\"></footer>"
      ]
    },
    {
      "cell_type": "markdown",
      "metadata": {
        "id": "_crPrTv2b6mG"
      },
      "source": [
        "### Проверка эффективности обогащения в обучающей выборке на примере rougher.output"
      ]
    },
    {
      "cell_type": "markdown",
      "metadata": {
        "id": "lClwFQS2b6mG"
      },
      "source": [
        "Проверим, правильно ли эффективность обогащения рассчитана в обучающей выборке. Рассчитаем ее на `train` и найдем MAE"
      ]
    },
    {
      "cell_type": "code",
      "metadata": {
        "id": "z5Pm3N9gb6mG"
      },
      "source": [
        "def recovery(data):\n",
        "    C = data['rougher.output.concentrate_au']\n",
        "    F = data['rougher.input.feed_au']\n",
        "    T = data['rougher.output.tail_au']\n",
        "    \n",
        "    recovery = (((C * (F-T))) / (F * (C-T)))*100\n",
        "    return recovery"
      ],
      "execution_count": 14,
      "outputs": []
    },
    {
      "cell_type": "code",
      "metadata": {
        "colab": {
          "base_uri": "https://localhost:8080/",
          "height": 204
        },
        "id": "3NLUl2avb6mG",
        "outputId": "d603d4a2-a47b-4813-a4f9-6e13582ac6e1"
      },
      "source": [
        "train_rec = train [['rougher.output.concentrate_au', \n",
        "                    'rougher.input.feed_au', \n",
        "                    'rougher.output.tail_au',\n",
        "                    'rougher.output.recovery']].copy()\n",
        "train_rec = train_rec.dropna(axis=0)\n",
        "train_rec['test_recovery'] = train_rec.apply(recovery, axis=1)\n",
        "train_rec.head()"
      ],
      "execution_count": 15,
      "outputs": [
        {
          "output_type": "execute_result",
          "data": {
            "text/html": [
              "<div>\n",
              "<style scoped>\n",
              "    .dataframe tbody tr th:only-of-type {\n",
              "        vertical-align: middle;\n",
              "    }\n",
              "\n",
              "    .dataframe tbody tr th {\n",
              "        vertical-align: top;\n",
              "    }\n",
              "\n",
              "    .dataframe thead th {\n",
              "        text-align: right;\n",
              "    }\n",
              "</style>\n",
              "<table border=\"1\" class=\"dataframe\">\n",
              "  <thead>\n",
              "    <tr style=\"text-align: right;\">\n",
              "      <th></th>\n",
              "      <th>rougher.output.concentrate_au</th>\n",
              "      <th>rougher.input.feed_au</th>\n",
              "      <th>rougher.output.tail_au</th>\n",
              "      <th>rougher.output.recovery</th>\n",
              "      <th>test_recovery</th>\n",
              "    </tr>\n",
              "  </thead>\n",
              "  <tbody>\n",
              "    <tr>\n",
              "      <th>0</th>\n",
              "      <td>19.793808</td>\n",
              "      <td>6.486150</td>\n",
              "      <td>1.170244</td>\n",
              "      <td>87.107763</td>\n",
              "      <td>87.107763</td>\n",
              "    </tr>\n",
              "    <tr>\n",
              "      <th>1</th>\n",
              "      <td>20.050975</td>\n",
              "      <td>6.478583</td>\n",
              "      <td>1.184827</td>\n",
              "      <td>86.843261</td>\n",
              "      <td>86.843261</td>\n",
              "    </tr>\n",
              "    <tr>\n",
              "      <th>2</th>\n",
              "      <td>19.737170</td>\n",
              "      <td>6.362222</td>\n",
              "      <td>1.162562</td>\n",
              "      <td>86.842308</td>\n",
              "      <td>86.842308</td>\n",
              "    </tr>\n",
              "    <tr>\n",
              "      <th>3</th>\n",
              "      <td>19.320810</td>\n",
              "      <td>6.118189</td>\n",
              "      <td>1.079755</td>\n",
              "      <td>87.226430</td>\n",
              "      <td>87.226430</td>\n",
              "    </tr>\n",
              "    <tr>\n",
              "      <th>4</th>\n",
              "      <td>19.216101</td>\n",
              "      <td>5.663707</td>\n",
              "      <td>1.012642</td>\n",
              "      <td>86.688794</td>\n",
              "      <td>86.688794</td>\n",
              "    </tr>\n",
              "  </tbody>\n",
              "</table>\n",
              "</div>"
            ],
            "text/plain": [
              "   rougher.output.concentrate_au  ...  test_recovery\n",
              "0                      19.793808  ...      87.107763\n",
              "1                      20.050975  ...      86.843261\n",
              "2                      19.737170  ...      86.842308\n",
              "3                      19.320810  ...      87.226430\n",
              "4                      19.216101  ...      86.688794\n",
              "\n",
              "[5 rows x 5 columns]"
            ]
          },
          "metadata": {
            "tags": []
          },
          "execution_count": 15
        }
      ]
    },
    {
      "cell_type": "code",
      "metadata": {
        "colab": {
          "base_uri": "https://localhost:8080/"
        },
        "id": "aZv6rdVdb6mG",
        "outputId": "8115bdfc-739e-4bed-eeba-9fcaad4514d0"
      },
      "source": [
        "MAE = mean_absolute_error(train_rec['rougher.output.recovery'], train_rec['test_recovery'])\n",
        "print('Средняя абсолютная ошибка: {:.17f}'.format(MAE))"
      ],
      "execution_count": 16,
      "outputs": [
        {
          "output_type": "stream",
          "text": [
            "Средняя абсолютная ошибка: 0.00000000000000944\n"
          ],
          "name": "stdout"
        }
      ]
    },
    {
      "cell_type": "markdown",
      "metadata": {
        "id": "vFBBkvtdb6mH"
      },
      "source": [
        "Ошибка стремится к нулю - принимаем, что значения рассчитаны верно"
      ]
    },
    {
      "cell_type": "markdown",
      "metadata": {
        "id": "RUC1hJGzb6mH"
      },
      "source": [
        "<a href=\"#footer\">К содержанию</a>\n",
        "\n",
        "<footer id=\"footer\"></footer>"
      ]
    },
    {
      "cell_type": "markdown",
      "metadata": {
        "id": "Xl_KH5Sfb6mH"
      },
      "source": [
        "### Предобработка"
      ]
    },
    {
      "cell_type": "markdown",
      "metadata": {
        "id": "4vjlI70Fb6mH"
      },
      "source": [
        "#### Обработка обучающей выборки"
      ]
    },
    {
      "cell_type": "markdown",
      "metadata": {
        "id": "1MlYP42Tb6mH"
      },
      "source": [
        "Посмотрим общую информацию о сете в работе. Как мы видели ранее - необходимо будет его разделить на две обучающих выборки - одна для флотации и другая для этапов очистки, так как мы имеем две целевых переменных"
      ]
    },
    {
      "cell_type": "code",
      "metadata": {
        "colab": {
          "base_uri": "https://localhost:8080/"
        },
        "id": "or2RlNqfb6mH",
        "outputId": "36c19b83-c710-42f5-adb7-8285c1679fde"
      },
      "source": [
        "train.info()"
      ],
      "execution_count": 17,
      "outputs": [
        {
          "output_type": "stream",
          "text": [
            "<class 'pandas.core.frame.DataFrame'>\n",
            "RangeIndex: 16860 entries, 0 to 16859\n",
            "Data columns (total 87 columns):\n",
            " #   Column                                              Non-Null Count  Dtype  \n",
            "---  ------                                              --------------  -----  \n",
            " 0   date                                                16860 non-null  object \n",
            " 1   final.output.concentrate_ag                         16788 non-null  float64\n",
            " 2   final.output.concentrate_pb                         16788 non-null  float64\n",
            " 3   final.output.concentrate_sol                        16490 non-null  float64\n",
            " 4   final.output.concentrate_au                         16789 non-null  float64\n",
            " 5   final.output.recovery                               15339 non-null  float64\n",
            " 6   final.output.tail_ag                                16794 non-null  float64\n",
            " 7   final.output.tail_pb                                16677 non-null  float64\n",
            " 8   final.output.tail_sol                               16715 non-null  float64\n",
            " 9   final.output.tail_au                                16794 non-null  float64\n",
            " 10  primary_cleaner.input.sulfate                       15553 non-null  float64\n",
            " 11  primary_cleaner.input.depressant                    15598 non-null  float64\n",
            " 12  primary_cleaner.input.feed_size                     16860 non-null  float64\n",
            " 13  primary_cleaner.input.xanthate                      15875 non-null  float64\n",
            " 14  primary_cleaner.output.concentrate_ag               16778 non-null  float64\n",
            " 15  primary_cleaner.output.concentrate_pb               16502 non-null  float64\n",
            " 16  primary_cleaner.output.concentrate_sol              16224 non-null  float64\n",
            " 17  primary_cleaner.output.concentrate_au               16778 non-null  float64\n",
            " 18  primary_cleaner.output.tail_ag                      16777 non-null  float64\n",
            " 19  primary_cleaner.output.tail_pb                      16761 non-null  float64\n",
            " 20  primary_cleaner.output.tail_sol                     16579 non-null  float64\n",
            " 21  primary_cleaner.output.tail_au                      16777 non-null  float64\n",
            " 22  primary_cleaner.state.floatbank8_a_air              16820 non-null  float64\n",
            " 23  primary_cleaner.state.floatbank8_a_level            16827 non-null  float64\n",
            " 24  primary_cleaner.state.floatbank8_b_air              16820 non-null  float64\n",
            " 25  primary_cleaner.state.floatbank8_b_level            16833 non-null  float64\n",
            " 26  primary_cleaner.state.floatbank8_c_air              16822 non-null  float64\n",
            " 27  primary_cleaner.state.floatbank8_c_level            16833 non-null  float64\n",
            " 28  primary_cleaner.state.floatbank8_d_air              16821 non-null  float64\n",
            " 29  primary_cleaner.state.floatbank8_d_level            16833 non-null  float64\n",
            " 30  rougher.calculation.sulfate_to_au_concentrate       16833 non-null  float64\n",
            " 31  rougher.calculation.floatbank10_sulfate_to_au_feed  16833 non-null  float64\n",
            " 32  rougher.calculation.floatbank11_sulfate_to_au_feed  16833 non-null  float64\n",
            " 33  rougher.calculation.au_pb_ratio                     15618 non-null  float64\n",
            " 34  rougher.input.feed_ag                               16778 non-null  float64\n",
            " 35  rougher.input.feed_pb                               16632 non-null  float64\n",
            " 36  rougher.input.feed_rate                             16347 non-null  float64\n",
            " 37  rougher.input.feed_size                             16443 non-null  float64\n",
            " 38  rougher.input.feed_sol                              16568 non-null  float64\n",
            " 39  rougher.input.feed_au                               16777 non-null  float64\n",
            " 40  rougher.input.floatbank10_sulfate                   15816 non-null  float64\n",
            " 41  rougher.input.floatbank10_xanthate                  16514 non-null  float64\n",
            " 42  rougher.input.floatbank11_sulfate                   16237 non-null  float64\n",
            " 43  rougher.input.floatbank11_xanthate                  14956 non-null  float64\n",
            " 44  rougher.output.concentrate_ag                       16778 non-null  float64\n",
            " 45  rougher.output.concentrate_pb                       16778 non-null  float64\n",
            " 46  rougher.output.concentrate_sol                      16698 non-null  float64\n",
            " 47  rougher.output.concentrate_au                       16778 non-null  float64\n",
            " 48  rougher.output.recovery                             14287 non-null  float64\n",
            " 49  rougher.output.tail_ag                              14610 non-null  float64\n",
            " 50  rougher.output.tail_pb                              16778 non-null  float64\n",
            " 51  rougher.output.tail_sol                             14611 non-null  float64\n",
            " 52  rougher.output.tail_au                              14611 non-null  float64\n",
            " 53  rougher.state.floatbank10_a_air                     16807 non-null  float64\n",
            " 54  rougher.state.floatbank10_a_level                   16807 non-null  float64\n",
            " 55  rougher.state.floatbank10_b_air                     16807 non-null  float64\n",
            " 56  rougher.state.floatbank10_b_level                   16807 non-null  float64\n",
            " 57  rougher.state.floatbank10_c_air                     16807 non-null  float64\n",
            " 58  rougher.state.floatbank10_c_level                   16814 non-null  float64\n",
            " 59  rougher.state.floatbank10_d_air                     16802 non-null  float64\n",
            " 60  rougher.state.floatbank10_d_level                   16809 non-null  float64\n",
            " 61  rougher.state.floatbank10_e_air                     16257 non-null  float64\n",
            " 62  rougher.state.floatbank10_e_level                   16809 non-null  float64\n",
            " 63  rougher.state.floatbank10_f_air                     16802 non-null  float64\n",
            " 64  rougher.state.floatbank10_f_level                   16802 non-null  float64\n",
            " 65  secondary_cleaner.output.tail_ag                    16776 non-null  float64\n",
            " 66  secondary_cleaner.output.tail_pb                    16764 non-null  float64\n",
            " 67  secondary_cleaner.output.tail_sol                   14874 non-null  float64\n",
            " 68  secondary_cleaner.output.tail_au                    16778 non-null  float64\n",
            " 69  secondary_cleaner.state.floatbank2_a_air            16497 non-null  float64\n",
            " 70  secondary_cleaner.state.floatbank2_a_level          16751 non-null  float64\n",
            " 71  secondary_cleaner.state.floatbank2_b_air            16705 non-null  float64\n",
            " 72  secondary_cleaner.state.floatbank2_b_level          16748 non-null  float64\n",
            " 73  secondary_cleaner.state.floatbank3_a_air            16763 non-null  float64\n",
            " 74  secondary_cleaner.state.floatbank3_a_level          16747 non-null  float64\n",
            " 75  secondary_cleaner.state.floatbank3_b_air            16752 non-null  float64\n",
            " 76  secondary_cleaner.state.floatbank3_b_level          16750 non-null  float64\n",
            " 77  secondary_cleaner.state.floatbank4_a_air            16731 non-null  float64\n",
            " 78  secondary_cleaner.state.floatbank4_a_level          16747 non-null  float64\n",
            " 79  secondary_cleaner.state.floatbank4_b_air            16768 non-null  float64\n",
            " 80  secondary_cleaner.state.floatbank4_b_level          16767 non-null  float64\n",
            " 81  secondary_cleaner.state.floatbank5_a_air            16775 non-null  float64\n",
            " 82  secondary_cleaner.state.floatbank5_a_level          16775 non-null  float64\n",
            " 83  secondary_cleaner.state.floatbank5_b_air            16775 non-null  float64\n",
            " 84  secondary_cleaner.state.floatbank5_b_level          16776 non-null  float64\n",
            " 85  secondary_cleaner.state.floatbank6_a_air            16757 non-null  float64\n",
            " 86  secondary_cleaner.state.floatbank6_a_level          16775 non-null  float64\n",
            "dtypes: float64(86), object(1)\n",
            "memory usage: 11.2+ MB\n"
          ],
          "name": "stdout"
        }
      ]
    },
    {
      "cell_type": "code",
      "metadata": {
        "colab": {
          "base_uri": "https://localhost:8080/",
          "height": 419
        },
        "id": "0nHhWkPib6mH",
        "outputId": "56390b85-c83a-4c26-e6dd-5037b71043a4"
      },
      "source": [
        "train.describe().T"
      ],
      "execution_count": 18,
      "outputs": [
        {
          "output_type": "execute_result",
          "data": {
            "text/html": [
              "<div>\n",
              "<style scoped>\n",
              "    .dataframe tbody tr th:only-of-type {\n",
              "        vertical-align: middle;\n",
              "    }\n",
              "\n",
              "    .dataframe tbody tr th {\n",
              "        vertical-align: top;\n",
              "    }\n",
              "\n",
              "    .dataframe thead th {\n",
              "        text-align: right;\n",
              "    }\n",
              "</style>\n",
              "<table border=\"1\" class=\"dataframe\">\n",
              "  <thead>\n",
              "    <tr style=\"text-align: right;\">\n",
              "      <th></th>\n",
              "      <th>count</th>\n",
              "      <th>mean</th>\n",
              "      <th>std</th>\n",
              "      <th>min</th>\n",
              "      <th>25%</th>\n",
              "      <th>50%</th>\n",
              "      <th>75%</th>\n",
              "      <th>max</th>\n",
              "    </tr>\n",
              "  </thead>\n",
              "  <tbody>\n",
              "    <tr>\n",
              "      <th>final.output.concentrate_ag</th>\n",
              "      <td>16788.0</td>\n",
              "      <td>4.716907</td>\n",
              "      <td>2.096718</td>\n",
              "      <td>0.000000</td>\n",
              "      <td>3.971262</td>\n",
              "      <td>4.869346</td>\n",
              "      <td>5.821176</td>\n",
              "      <td>16.001945</td>\n",
              "    </tr>\n",
              "    <tr>\n",
              "      <th>final.output.concentrate_pb</th>\n",
              "      <td>16788.0</td>\n",
              "      <td>9.113559</td>\n",
              "      <td>3.389495</td>\n",
              "      <td>0.000000</td>\n",
              "      <td>8.825748</td>\n",
              "      <td>10.065316</td>\n",
              "      <td>11.054809</td>\n",
              "      <td>17.031899</td>\n",
              "    </tr>\n",
              "    <tr>\n",
              "      <th>final.output.concentrate_sol</th>\n",
              "      <td>16490.0</td>\n",
              "      <td>8.301123</td>\n",
              "      <td>3.825760</td>\n",
              "      <td>0.000000</td>\n",
              "      <td>6.939185</td>\n",
              "      <td>8.557228</td>\n",
              "      <td>10.289741</td>\n",
              "      <td>18.124851</td>\n",
              "    </tr>\n",
              "    <tr>\n",
              "      <th>final.output.concentrate_au</th>\n",
              "      <td>16789.0</td>\n",
              "      <td>39.467217</td>\n",
              "      <td>13.917227</td>\n",
              "      <td>0.000000</td>\n",
              "      <td>42.055722</td>\n",
              "      <td>44.498874</td>\n",
              "      <td>45.976222</td>\n",
              "      <td>53.611374</td>\n",
              "    </tr>\n",
              "    <tr>\n",
              "      <th>final.output.recovery</th>\n",
              "      <td>15339.0</td>\n",
              "      <td>67.213166</td>\n",
              "      <td>11.960446</td>\n",
              "      <td>0.000000</td>\n",
              "      <td>62.625685</td>\n",
              "      <td>67.644601</td>\n",
              "      <td>72.824595</td>\n",
              "      <td>100.000000</td>\n",
              "    </tr>\n",
              "    <tr>\n",
              "      <th>...</th>\n",
              "      <td>...</td>\n",
              "      <td>...</td>\n",
              "      <td>...</td>\n",
              "      <td>...</td>\n",
              "      <td>...</td>\n",
              "      <td>...</td>\n",
              "      <td>...</td>\n",
              "      <td>...</td>\n",
              "    </tr>\n",
              "    <tr>\n",
              "      <th>secondary_cleaner.state.floatbank5_a_level</th>\n",
              "      <td>16775.0</td>\n",
              "      <td>-500.230146</td>\n",
              "      <td>76.983542</td>\n",
              "      <td>-799.741097</td>\n",
              "      <td>-500.530594</td>\n",
              "      <td>-499.784231</td>\n",
              "      <td>-496.531781</td>\n",
              "      <td>-275.073125</td>\n",
              "    </tr>\n",
              "    <tr>\n",
              "      <th>secondary_cleaner.state.floatbank5_b_air</th>\n",
              "      <td>16775.0</td>\n",
              "      <td>12.377241</td>\n",
              "      <td>6.219989</td>\n",
              "      <td>0.427084</td>\n",
              "      <td>8.925586</td>\n",
              "      <td>11.092839</td>\n",
              "      <td>15.979467</td>\n",
              "      <td>39.846228</td>\n",
              "    </tr>\n",
              "    <tr>\n",
              "      <th>secondary_cleaner.state.floatbank5_b_level</th>\n",
              "      <td>16776.0</td>\n",
              "      <td>-498.956257</td>\n",
              "      <td>82.146207</td>\n",
              "      <td>-800.258209</td>\n",
              "      <td>-500.147603</td>\n",
              "      <td>-499.933330</td>\n",
              "      <td>-498.418000</td>\n",
              "      <td>-120.190931</td>\n",
              "    </tr>\n",
              "    <tr>\n",
              "      <th>secondary_cleaner.state.floatbank6_a_air</th>\n",
              "      <td>16757.0</td>\n",
              "      <td>18.429208</td>\n",
              "      <td>6.958294</td>\n",
              "      <td>0.024270</td>\n",
              "      <td>13.977626</td>\n",
              "      <td>18.034960</td>\n",
              "      <td>24.984992</td>\n",
              "      <td>54.876806</td>\n",
              "    </tr>\n",
              "    <tr>\n",
              "      <th>secondary_cleaner.state.floatbank6_a_level</th>\n",
              "      <td>16775.0</td>\n",
              "      <td>-521.801826</td>\n",
              "      <td>77.170888</td>\n",
              "      <td>-810.473526</td>\n",
              "      <td>-501.080595</td>\n",
              "      <td>-500.109898</td>\n",
              "      <td>-499.565540</td>\n",
              "      <td>-39.784927</td>\n",
              "    </tr>\n",
              "  </tbody>\n",
              "</table>\n",
              "<p>86 rows × 8 columns</p>\n",
              "</div>"
            ],
            "text/plain": [
              "                                              count  ...         max\n",
              "final.output.concentrate_ag                 16788.0  ...   16.001945\n",
              "final.output.concentrate_pb                 16788.0  ...   17.031899\n",
              "final.output.concentrate_sol                16490.0  ...   18.124851\n",
              "final.output.concentrate_au                 16789.0  ...   53.611374\n",
              "final.output.recovery                       15339.0  ...  100.000000\n",
              "...                                             ...  ...         ...\n",
              "secondary_cleaner.state.floatbank5_a_level  16775.0  ... -275.073125\n",
              "secondary_cleaner.state.floatbank5_b_air    16775.0  ...   39.846228\n",
              "secondary_cleaner.state.floatbank5_b_level  16776.0  ... -120.190931\n",
              "secondary_cleaner.state.floatbank6_a_air    16757.0  ...   54.876806\n",
              "secondary_cleaner.state.floatbank6_a_level  16775.0  ...  -39.784927\n",
              "\n",
              "[86 rows x 8 columns]"
            ]
          },
          "metadata": {
            "tags": []
          },
          "execution_count": 18
        }
      ]
    },
    {
      "cell_type": "markdown",
      "metadata": {
        "id": "2_aakfZKb6mH"
      },
      "source": [
        "Посмотрим пропуски"
      ]
    },
    {
      "cell_type": "code",
      "metadata": {
        "colab": {
          "base_uri": "https://localhost:8080/"
        },
        "id": "9Hhu1yI2b6mH",
        "outputId": "2f3b52a8-6707-4536-c23d-a0248cb74ac4"
      },
      "source": [
        "train.isna().mean().sort_values(ascending=False)"
      ],
      "execution_count": 19,
      "outputs": [
        {
          "output_type": "execute_result",
          "data": {
            "text/plain": [
              "rougher.output.recovery                               0.152610\n",
              "rougher.output.tail_ag                                0.133452\n",
              "rougher.output.tail_sol                               0.133393\n",
              "rougher.output.tail_au                                0.133393\n",
              "secondary_cleaner.output.tail_sol                     0.117794\n",
              "                                                        ...   \n",
              "rougher.calculation.sulfate_to_au_concentrate         0.001601\n",
              "rougher.calculation.floatbank10_sulfate_to_au_feed    0.001601\n",
              "rougher.calculation.floatbank11_sulfate_to_au_feed    0.001601\n",
              "primary_cleaner.input.feed_size                       0.000000\n",
              "date                                                  0.000000\n",
              "Length: 87, dtype: float64"
            ]
          },
          "metadata": {
            "tags": []
          },
          "execution_count": 19
        }
      ]
    },
    {
      "cell_type": "markdown",
      "metadata": {
        "id": "-7K8cC-Cb6mI"
      },
      "source": [
        "Нас больше интересуют пропуски по целевому признаку - они помешают оценке, решим, как поступить с ними на этапе подготовки признаков для модели, создадим некоторый конвейер для обработки.   \n",
        "\n",
        "Остальные признаки можно заменить методом `ffill`, так как нам известно, что значения близкие по дате будут равны. В данном случае, считаем, что это самая верная стратегия борьбы с пропусками, при этом пропуски в целевых значениях будут удалены вместе со строками, чтобы не мешать нашей модели"
      ]
    },
    {
      "cell_type": "code",
      "metadata": {
        "colab": {
          "base_uri": "https://localhost:8080/"
        },
        "id": "7WtDbwGBb6mI",
        "outputId": "901b9645-f9d2-4746-ab87-6d436a1d80e9"
      },
      "source": [
        "train[['rougher.output.recovery', 'final.output.recovery']].isna().mean().sort_values(ascending=False)"
      ],
      "execution_count": 20,
      "outputs": [
        {
          "output_type": "execute_result",
          "data": {
            "text/plain": [
              "rougher.output.recovery    0.152610\n",
              "final.output.recovery      0.090214\n",
              "dtype: float64"
            ]
          },
          "metadata": {
            "tags": []
          },
          "execution_count": 20
        }
      ]
    },
    {
      "cell_type": "markdown",
      "metadata": {
        "id": "qZ-rFOOTb6mI"
      },
      "source": [
        "Эти строки будут удалены перед обучением, чтобы не искажать результаты. Проверим дубликаты"
      ]
    },
    {
      "cell_type": "code",
      "metadata": {
        "colab": {
          "base_uri": "https://localhost:8080/"
        },
        "id": "fIfR7Q5Bb6mI",
        "outputId": "bfd1d8ab-4853-4496-afb7-d527e697fd66"
      },
      "source": [
        "train.duplicated().sum()"
      ],
      "execution_count": 21,
      "outputs": [
        {
          "output_type": "execute_result",
          "data": {
            "text/plain": [
              "0"
            ]
          },
          "metadata": {
            "tags": []
          },
          "execution_count": 21
        }
      ]
    },
    {
      "cell_type": "markdown",
      "metadata": {
        "id": "zTIyw6l2b6mI"
      },
      "source": [
        "<a href=\"#footer\">К содержанию</a>\n",
        "\n",
        "<footer id=\"footer\"></footer>"
      ]
    },
    {
      "cell_type": "markdown",
      "metadata": {
        "id": "hSIfJYc3b6mI"
      },
      "source": [
        "#### Обработка тестовой выборки"
      ]
    },
    {
      "cell_type": "markdown",
      "metadata": {
        "id": "w2_g8IIJb6mI"
      },
      "source": [
        "Тестовую выборку осмотрим бегло, чтобы не было искажений, всю обработку будем производить перед обучениям модели, чтобы выстроить конвейер работы с признаками, так как модель будет передана заказчику."
      ]
    },
    {
      "cell_type": "code",
      "metadata": {
        "colab": {
          "base_uri": "https://localhost:8080/"
        },
        "id": "CAUJx2i7b6mJ",
        "outputId": "f3f4a7f9-e0fa-46a9-d0ae-2af066beb17c"
      },
      "source": [
        "test.isna().mean().sort_values(ascending=False)"
      ],
      "execution_count": 22,
      "outputs": [
        {
          "output_type": "execute_result",
          "data": {
            "text/plain": [
              "rougher.input.floatbank11_xanthate            0.060280\n",
              "primary_cleaner.input.sulfate                 0.051571\n",
              "primary_cleaner.input.depressant              0.048497\n",
              "rougher.input.floatbank10_sulfate             0.043887\n",
              "primary_cleaner.input.xanthate                0.028347\n",
              "rougher.input.floatbank10_xanthate            0.021004\n",
              "rougher.input.feed_sol                        0.011441\n",
              "rougher.input.floatbank11_sulfate             0.009392\n",
              "rougher.input.feed_rate                       0.006831\n",
              "secondary_cleaner.state.floatbank3_a_air      0.005806\n",
              "secondary_cleaner.state.floatbank2_b_air      0.003928\n",
              "rougher.input.feed_size                       0.003757\n",
              "secondary_cleaner.state.floatbank2_a_air      0.003415\n",
              "rougher.state.floatbank10_e_air               0.002903\n",
              "rougher.state.floatbank10_d_air               0.002903\n",
              "rougher.state.floatbank10_a_air               0.002903\n",
              "rougher.state.floatbank10_b_air               0.002903\n",
              "rougher.state.floatbank10_c_air               0.002903\n",
              "rougher.state.floatbank10_f_air               0.002903\n",
              "primary_cleaner.state.floatbank8_a_air        0.002732\n",
              "primary_cleaner.state.floatbank8_a_level      0.002732\n",
              "rougher.input.feed_au                         0.002732\n",
              "primary_cleaner.state.floatbank8_d_air        0.002732\n",
              "primary_cleaner.state.floatbank8_b_air        0.002732\n",
              "primary_cleaner.state.floatbank8_d_level      0.002732\n",
              "primary_cleaner.state.floatbank8_b_level      0.002732\n",
              "rougher.input.feed_pb                         0.002732\n",
              "primary_cleaner.state.floatbank8_c_air        0.002732\n",
              "rougher.input.feed_ag                         0.002732\n",
              "primary_cleaner.state.floatbank8_c_level      0.002732\n",
              "secondary_cleaner.state.floatbank6_a_level    0.002732\n",
              "rougher.state.floatbank10_b_level             0.002732\n",
              "rougher.state.floatbank10_a_level             0.002732\n",
              "secondary_cleaner.state.floatbank6_a_air      0.002732\n",
              "secondary_cleaner.state.floatbank5_b_level    0.002732\n",
              "secondary_cleaner.state.floatbank5_b_air      0.002732\n",
              "secondary_cleaner.state.floatbank5_a_level    0.002732\n",
              "secondary_cleaner.state.floatbank5_a_air      0.002732\n",
              "secondary_cleaner.state.floatbank4_b_level    0.002732\n",
              "secondary_cleaner.state.floatbank4_b_air      0.002732\n",
              "secondary_cleaner.state.floatbank4_a_level    0.002732\n",
              "secondary_cleaner.state.floatbank4_a_air      0.002732\n",
              "secondary_cleaner.state.floatbank3_b_level    0.002732\n",
              "secondary_cleaner.state.floatbank3_b_air      0.002732\n",
              "secondary_cleaner.state.floatbank3_a_level    0.002732\n",
              "secondary_cleaner.state.floatbank2_b_level    0.002732\n",
              "secondary_cleaner.state.floatbank2_a_level    0.002732\n",
              "rougher.state.floatbank10_f_level             0.002732\n",
              "rougher.state.floatbank10_e_level             0.002732\n",
              "rougher.state.floatbank10_d_level             0.002732\n",
              "rougher.state.floatbank10_c_level             0.002732\n",
              "primary_cleaner.input.feed_size               0.000000\n",
              "date                                          0.000000\n",
              "dtype: float64"
            ]
          },
          "metadata": {
            "tags": []
          },
          "execution_count": 22
        }
      ]
    },
    {
      "cell_type": "markdown",
      "metadata": {
        "id": "JE7GY0Jfb6mJ"
      },
      "source": [
        "Пропуски не значительные. Думаем заменять с помощью интерполяции"
      ]
    },
    {
      "cell_type": "code",
      "metadata": {
        "colab": {
          "base_uri": "https://localhost:8080/"
        },
        "id": "j2sEaoyIb6mJ",
        "outputId": "66372d93-29f1-41b6-d1e7-f79653d51a37"
      },
      "source": [
        "test.duplicated().sum()"
      ],
      "execution_count": 23,
      "outputs": [
        {
          "output_type": "execute_result",
          "data": {
            "text/plain": [
              "0"
            ]
          },
          "metadata": {
            "tags": []
          },
          "execution_count": 23
        }
      ]
    },
    {
      "cell_type": "markdown",
      "metadata": {
        "id": "2XryUk22b6mJ"
      },
      "source": [
        "#### Разделение обучающей выборки по процессам"
      ]
    },
    {
      "cell_type": "markdown",
      "metadata": {
        "id": "zwYIab_Sb6mJ"
      },
      "source": [
        "Приведем признаки `train` к `test`, выделим сет процесса `rougher`"
      ]
    },
    {
      "cell_type": "code",
      "metadata": {
        "colab": {
          "base_uri": "https://localhost:8080/"
        },
        "id": "sc2hZvFIb6mJ",
        "outputId": "a33eb28b-74aa-4504-fe7c-e1d9dbdd3bb3"
      },
      "source": [
        "X_train = train[test.columns]\n",
        "\n",
        "rougher_cols = X_train.columns.str.contains('rougher')\n",
        "X_train_rougher = X_train.loc[:, rougher_cols]\n",
        "X_test_rougher = test.loc[:, rougher_cols]\n",
        "y_train_rougher = train[['rougher.output.recovery']]\n",
        "X_train_rougher.columns"
      ],
      "execution_count": 24,
      "outputs": [
        {
          "output_type": "execute_result",
          "data": {
            "text/plain": [
              "Index(['rougher.input.feed_ag', 'rougher.input.feed_pb',\n",
              "       'rougher.input.feed_rate', 'rougher.input.feed_size',\n",
              "       'rougher.input.feed_sol', 'rougher.input.feed_au',\n",
              "       'rougher.input.floatbank10_sulfate',\n",
              "       'rougher.input.floatbank10_xanthate',\n",
              "       'rougher.input.floatbank11_sulfate',\n",
              "       'rougher.input.floatbank11_xanthate', 'rougher.state.floatbank10_a_air',\n",
              "       'rougher.state.floatbank10_a_level', 'rougher.state.floatbank10_b_air',\n",
              "       'rougher.state.floatbank10_b_level', 'rougher.state.floatbank10_c_air',\n",
              "       'rougher.state.floatbank10_c_level', 'rougher.state.floatbank10_d_air',\n",
              "       'rougher.state.floatbank10_d_level', 'rougher.state.floatbank10_e_air',\n",
              "       'rougher.state.floatbank10_e_level', 'rougher.state.floatbank10_f_air',\n",
              "       'rougher.state.floatbank10_f_level'],\n",
              "      dtype='object')"
            ]
          },
          "metadata": {
            "tags": []
          },
          "execution_count": 24
        }
      ]
    },
    {
      "cell_type": "code",
      "metadata": {
        "colab": {
          "base_uri": "https://localhost:8080/"
        },
        "id": "TFPiEbFQb6mJ",
        "outputId": "1d26a7d7-ee07-47a7-ff05-0189e5219540"
      },
      "source": [
        "X_train_rougher.shape, y_train_rougher.shape, X_test_rougher.shape"
      ],
      "execution_count": 25,
      "outputs": [
        {
          "output_type": "execute_result",
          "data": {
            "text/plain": [
              "((16860, 22), (16860, 1), (5856, 22))"
            ]
          },
          "metadata": {
            "tags": []
          },
          "execution_count": 25
        }
      ]
    },
    {
      "cell_type": "markdown",
      "metadata": {
        "id": "9RlP9Mg5b6mJ"
      },
      "source": [
        "Аналогично сделаем для этапа `final`, состоящий из двух этапов очистки `cleaner`"
      ]
    },
    {
      "cell_type": "code",
      "metadata": {
        "colab": {
          "base_uri": "https://localhost:8080/"
        },
        "id": "9MQqkO53b6mJ",
        "outputId": "c50b4ea7-e673-42d1-cc86-5b346a7b74e0"
      },
      "source": [
        "final_cols = X_train.columns.str.contains('cleaner')\n",
        "X_train_final = X_train.loc[:, final_cols]\n",
        "X_test_final = test.loc[:, final_cols]\n",
        "y_train_final = train[['final.output.recovery']]\n",
        "X_train_final.columns"
      ],
      "execution_count": 26,
      "outputs": [
        {
          "output_type": "execute_result",
          "data": {
            "text/plain": [
              "Index(['primary_cleaner.input.sulfate', 'primary_cleaner.input.depressant',\n",
              "       'primary_cleaner.input.feed_size', 'primary_cleaner.input.xanthate',\n",
              "       'primary_cleaner.state.floatbank8_a_air',\n",
              "       'primary_cleaner.state.floatbank8_a_level',\n",
              "       'primary_cleaner.state.floatbank8_b_air',\n",
              "       'primary_cleaner.state.floatbank8_b_level',\n",
              "       'primary_cleaner.state.floatbank8_c_air',\n",
              "       'primary_cleaner.state.floatbank8_c_level',\n",
              "       'primary_cleaner.state.floatbank8_d_air',\n",
              "       'primary_cleaner.state.floatbank8_d_level',\n",
              "       'secondary_cleaner.state.floatbank2_a_air',\n",
              "       'secondary_cleaner.state.floatbank2_a_level',\n",
              "       'secondary_cleaner.state.floatbank2_b_air',\n",
              "       'secondary_cleaner.state.floatbank2_b_level',\n",
              "       'secondary_cleaner.state.floatbank3_a_air',\n",
              "       'secondary_cleaner.state.floatbank3_a_level',\n",
              "       'secondary_cleaner.state.floatbank3_b_air',\n",
              "       'secondary_cleaner.state.floatbank3_b_level',\n",
              "       'secondary_cleaner.state.floatbank4_a_air',\n",
              "       'secondary_cleaner.state.floatbank4_a_level',\n",
              "       'secondary_cleaner.state.floatbank4_b_air',\n",
              "       'secondary_cleaner.state.floatbank4_b_level',\n",
              "       'secondary_cleaner.state.floatbank5_a_air',\n",
              "       'secondary_cleaner.state.floatbank5_a_level',\n",
              "       'secondary_cleaner.state.floatbank5_b_air',\n",
              "       'secondary_cleaner.state.floatbank5_b_level',\n",
              "       'secondary_cleaner.state.floatbank6_a_air',\n",
              "       'secondary_cleaner.state.floatbank6_a_level'],\n",
              "      dtype='object')"
            ]
          },
          "metadata": {
            "tags": []
          },
          "execution_count": 26
        }
      ]
    },
    {
      "cell_type": "code",
      "metadata": {
        "colab": {
          "base_uri": "https://localhost:8080/"
        },
        "id": "uocEZH_Xb6mK",
        "outputId": "6f8b328c-64e9-470c-9171-b5840bf5c5f5"
      },
      "source": [
        "X_train_final.shape, y_train_final.shape, X_test_final.shape"
      ],
      "execution_count": 27,
      "outputs": [
        {
          "output_type": "execute_result",
          "data": {
            "text/plain": [
              "((16860, 30), (16860, 1), (5856, 30))"
            ]
          },
          "metadata": {
            "tags": []
          },
          "execution_count": 27
        }
      ]
    },
    {
      "cell_type": "markdown",
      "metadata": {
        "id": "76AKj1Uxb6mK"
      },
      "source": [
        "Таким образом мы имеем две выборки для обучения - одна для флотации и другая для очистки"
      ]
    },
    {
      "cell_type": "markdown",
      "metadata": {
        "id": "Z0vCeKblb6mK"
      },
      "source": [
        "<a href=\"#footer\">К содержанию</a>\n",
        "\n",
        "<footer id=\"footer\"></footer>"
      ]
    },
    {
      "cell_type": "markdown",
      "metadata": {
        "id": "BDDxofO4b6mK"
      },
      "source": [
        "### Вывод"
      ]
    },
    {
      "cell_type": "markdown",
      "metadata": {
        "id": "gnAwwM0Cb6mK"
      },
      "source": [
        "В работу нам предоставлены три сета данных:  \n",
        "\n",
        " - общий data \n",
        " - обучающий train \n",
        " - тестовый test \n",
        " \n",
        "Данные индексируются датой и временем получения информации (признак date).  \n",
        "\n",
        "Некоторые параметры недоступны, потому что замеряются и/или рассчитываются значительно позже. Из-за этого в тестовой выборке отсутствуют некоторые признаки, которые могут быть в обучающей. Также в тестовом наборе нет целевых признаков.\n",
        "Исходный датасет содержит обучающую и тестовую выборки со всеми признаками. Восстанавливать пропущенные признаки не стали, обучать будем на тренировочном сете с учетом столбцов теста\n",
        "\n",
        "\n",
        "Данные достаточно сырые - есть пропуски.  \n",
        "\n",
        "Пропуски по целевым параметрам будут удалены, пропуски по параметрам - восстановлены методом `ffill`. Удаление будет производиться через pipeline модели, так как нам необходимо передать ее заказчику  \n",
        "\n",
        "Обучающую выборку разделили на две - для этапа флотации и для этапа обработки концентрат. Аналогично поступили с тестовой выборкой"
      ]
    },
    {
      "cell_type": "markdown",
      "metadata": {
        "id": "GArJq3BWb6mK"
      },
      "source": [
        "<a href=\"#footer\">К содержанию</a>\n",
        "\n",
        "<footer id=\"footer\"></footer>"
      ]
    },
    {
      "cell_type": "markdown",
      "metadata": {
        "id": "phmdDfv0b6mK"
      },
      "source": [
        "## Анализ данных"
      ]
    },
    {
      "cell_type": "markdown",
      "metadata": {
        "id": "URCOxs46b6mK"
      },
      "source": [
        "### Изучение концентрации металлов"
      ]
    },
    {
      "cell_type": "markdown",
      "metadata": {
        "id": "FidHplAyb6mK"
      },
      "source": [
        "Посмотрим, как меняется концентрация металлов (Au, Ag, Pb) на различных этапах очистки"
      ]
    },
    {
      "cell_type": "code",
      "metadata": {
        "id": "F4f8Jzgub6mK"
      },
      "source": [
        "elements = {'золото': 'au', 'серебро': 'ag', 'свинец': 'pb'}"
      ],
      "execution_count": 28,
      "outputs": []
    },
    {
      "cell_type": "code",
      "metadata": {
        "id": "x-GhFKvnb6mL"
      },
      "source": [
        "def fraction(elem):\n",
        "    \n",
        "    cols = ['rougher.input.feed_'+elem, 'rougher.output.concentrate_'+elem, \n",
        "            'primary_cleaner.output.concentrate_'+elem, 'final.output.concentrate_'+elem]\n",
        "    fig_dims = (15, 10)\n",
        "    fig1, ax1 = plt.subplots(figsize=fig_dims) \n",
        "    for col in cols:\n",
        "                \n",
        "        sns.kdeplot(train[col], shade=True, alpha=.42, ax=ax1)\n",
        "        plt.title('Концентрация металла ' + str(elem).title() + ' на различных этапах очистки', fontsize=15)\n",
        "\n",
        "def boxplot(elem):\n",
        "\n",
        "    cols = ['rougher.input.feed_'+elem, 'rougher.output.concentrate_'+elem, \n",
        "            'primary_cleaner.output.concentrate_'+elem, 'final.output.concentrate_'+elem]\n",
        "    plt.figure(figsize=(15,10))\n",
        "    sns.boxplot(data=df[cols], linewidth=0.42, palette=\"Set2\")\n",
        "    plt.title('Концентрация металла ' + str(elem).title() + ' на различных этапах очистки', fontsize=15)"
      ],
      "execution_count": 29,
      "outputs": []
    },
    {
      "cell_type": "markdown",
      "metadata": {
        "id": "ZpcS8Syfb6mL"
      },
      "source": [
        "<a href=\"#footer\">К содержанию</a>\n",
        "\n",
        "<footer id=\"footer\"></footer>"
      ]
    },
    {
      "cell_type": "markdown",
      "metadata": {
        "id": "oM2etdy3b6mL"
      },
      "source": [
        "#### Изменение концентрации золота"
      ]
    },
    {
      "cell_type": "code",
      "metadata": {
        "colab": {
          "base_uri": "https://localhost:8080/",
          "height": 624
        },
        "id": "KK2S3Txzb6mL",
        "outputId": "c1fdf3f5-f184-4a78-f88a-41b93d0f654e"
      },
      "source": [
        "fraction(elements['золото'])"
      ],
      "execution_count": 30,
      "outputs": [
        {
          "output_type": "display_data",
          "data": {
            "image/png": "[encoded data removed]",
            "text/plain": [
              "<Figure size 1080x720 with 1 Axes>"
            ]
          },
          "metadata": {
            "tags": [],
            "needs_background": "light"
          }
        }
      ]
    },
    {
      "cell_type": "code",
      "metadata": {
        "colab": {
          "base_uri": "https://localhost:8080/",
          "height": 610
        },
        "id": "TISymqqhb6mL",
        "outputId": "fb9ff1ec-3ead-4712-e53e-531a9d8a097c"
      },
      "source": [
        "boxplot(elements['золото'])"
      ],
      "execution_count": 31,
      "outputs": [
        {
          "output_type": "display_data",
          "data": {
            "image/png": "[encoded data removed]",
            "text/plain": [
              "<Figure size 1080x720 with 1 Axes>"
            ]
          },
          "metadata": {
            "tags": [],
            "needs_background": "light"
          }
        }
      ]
    },
    {
      "cell_type": "markdown",
      "metadata": {
        "id": "nptFH-lgb6mL"
      },
      "source": [
        "Мы видим, что концентрация содержания золота повышается по мере очистки и достигиает своих максимальных значений в конце технологического процесса, что является достаточно логичным. Стоит отметит наличие выбросов и наличие нулевых значений. "
      ]
    },
    {
      "cell_type": "markdown",
      "metadata": {
        "id": "dCASUpNOb6mL"
      },
      "source": [
        "<a href=\"#footer\">К содержанию</a>\n",
        "\n",
        "<footer id=\"footer\"></footer>"
      ]
    },
    {
      "cell_type": "markdown",
      "metadata": {
        "id": "8hEqunTCb6mL"
      },
      "source": [
        "#### Изменение концентрации серебра"
      ]
    },
    {
      "cell_type": "code",
      "metadata": {
        "colab": {
          "base_uri": "https://localhost:8080/",
          "height": 624
        },
        "id": "dlx_H64gb6mL",
        "outputId": "c5faf863-e1a8-4204-debb-53195f7d5ef4"
      },
      "source": [
        "fraction(elements['серебро'])"
      ],
      "execution_count": 32,
      "outputs": [
        {
          "output_type": "display_data",
          "data": {
            "image/png": "[encoded data removed]",
            "text/plain": [
              "<Figure size 1080x720 with 1 Axes>"
            ]
          },
          "metadata": {
            "tags": [],
            "needs_background": "light"
          }
        }
      ]
    },
    {
      "cell_type": "code",
      "metadata": {
        "colab": {
          "base_uri": "https://localhost:8080/",
          "height": 610
        },
        "id": "JOQve59Yb6mL",
        "outputId": "55100ebc-9aab-4db5-cdaf-54ba4b9af6da"
      },
      "source": [
        "boxplot(elements['серебро'])"
      ],
      "execution_count": 33,
      "outputs": [
        {
          "output_type": "display_data",
          "data": {
            "image/png": "[encoded data removed]",
            "text/plain": [
              "<Figure size 1080x720 with 1 Axes>"
            ]
          },
          "metadata": {
            "tags": [],
            "needs_background": "light"
          }
        }
      ]
    },
    {
      "cell_type": "markdown",
      "metadata": {
        "id": "1PJExUKQb6mM"
      },
      "source": [
        "Мы видим, что концентрация содержания серебра повышается по завершению этапа флотации и по мере очистики начианет снижаться "
      ]
    },
    {
      "cell_type": "markdown",
      "metadata": {
        "id": "KGa-KgoEb6mM"
      },
      "source": [
        "<a href=\"#footer\">К содержанию</a>\n",
        "\n",
        "<footer id=\"footer\"></footer>"
      ]
    },
    {
      "cell_type": "markdown",
      "metadata": {
        "id": "tbKfnVpGb6mM"
      },
      "source": [
        "#### Изменение концентрации свинца"
      ]
    },
    {
      "cell_type": "code",
      "metadata": {
        "colab": {
          "base_uri": "https://localhost:8080/",
          "height": 624
        },
        "id": "HJczSo6kb6mM",
        "outputId": "3fa9d50a-f32e-4e2a-ff2a-0c856414759f"
      },
      "source": [
        "fraction(elements['свинец'])"
      ],
      "execution_count": 34,
      "outputs": [
        {
          "output_type": "display_data",
          "data": {
            "image/png": "[encoded data removed]",
            "text/plain": [
              "<Figure size 1080x720 with 1 Axes>"
            ]
          },
          "metadata": {
            "tags": [],
            "needs_background": "light"
          }
        }
      ]
    },
    {
      "cell_type": "code",
      "metadata": {
        "colab": {
          "base_uri": "https://localhost:8080/",
          "height": 610
        },
        "id": "kUCIiip-b6mM",
        "outputId": "0f6e0098-1e39-469f-a713-3819ab1b4ac2"
      },
      "source": [
        "boxplot(elements['свинец'])"
      ],
      "execution_count": 35,
      "outputs": [
        {
          "output_type": "display_data",
          "data": {
            "image/png": "[encoded data removed]",
            "text/plain": [
              "<Figure size 1080x720 with 1 Axes>"
            ]
          },
          "metadata": {
            "tags": [],
            "needs_background": "light"
          }
        }
      ]
    },
    {
      "cell_type": "markdown",
      "metadata": {
        "id": "kBBFw3Llb6mM"
      },
      "source": [
        "Мы видим, что содержание свинца начинает подниматься по завершению эатапа флотации и сохраняется либо незначительно увеличивается на этапах очистки. В сульфидных рудах свинец в основном присутствует в форме галенита, обладающего значительной плотностью зерен (7,4–7,6) и высокой флотационной активностью. Это определяет возможность эффективного извлечения свинца (вместе с ассоциированными с ним золото- и серебросодержащими минералами) из руд методами гравитационно-флотационного обогащения. Возможно остаточный свинец свидетельствует о необходимости замены реагентов"
      ]
    },
    {
      "cell_type": "markdown",
      "metadata": {
        "id": "6tFj-UxZb6mM"
      },
      "source": [
        "<a href=\"#footer\">К содержанию</a>\n",
        "\n",
        "<footer id=\"footer\"></footer>"
      ]
    },
    {
      "cell_type": "markdown",
      "metadata": {
        "id": "Bh-sbiw1b6mM"
      },
      "source": [
        "#### Размеры гранул"
      ]
    },
    {
      "cell_type": "markdown",
      "metadata": {
        "id": "sDHjK7gfb6mM"
      },
      "source": [
        "Посмотрим размеры гранул сырья этапа rougher"
      ]
    },
    {
      "cell_type": "code",
      "metadata": {
        "colab": {
          "base_uri": "https://localhost:8080/",
          "height": 623
        },
        "id": "NT-IzP4sb6mM",
        "outputId": "572dcdc7-ff1f-4e2b-8ef4-6a05ce3ab2d1"
      },
      "source": [
        "plt.figure(figsize=(15,10))\n",
        "sns.kdeplot(train['rougher.input.feed_size'].dropna(), label='train', shade=True, alpha=.42)\n",
        "sns.kdeplot(test['rougher.input.feed_size'].dropna(), label='test', shade=True, alpha=.42)\n",
        "plt.title('Распределения размеров зерен в тестовой выборке и обучающей (сырье)')\n",
        "plt.legend()\n",
        "plt.show()"
      ],
      "execution_count": 36,
      "outputs": [
        {
          "output_type": "display_data",
          "data": {
            "image/png": "[encoded data removed]",
            "text/plain": [
              "<Figure size 1080x720 with 1 Axes>"
            ]
          },
          "metadata": {
            "tags": [],
            "needs_background": "light"
          }
        }
      ]
    },
    {
      "cell_type": "markdown",
      "metadata": {
        "id": "pwWffhwqb6mN"
      },
      "source": [
        "Проведем тест Левена и рассмотрим различатся ли дисперсии наших выборок по признаку `rougher.input.feed_size`\n",
        "\n"
      ]
    },
    {
      "cell_type": "code",
      "metadata": {
        "colab": {
          "base_uri": "https://localhost:8080/"
        },
        "id": "92vxPnY5b6mN",
        "outputId": "1788245c-479a-4cf3-ad5b-cd116c51cf0c"
      },
      "source": [
        "sample_1 = train['rougher.input.feed_size'].dropna()\n",
        "sample_2 = test['rougher.input.feed_size'].dropna()\n",
        "\n",
        "alpha = .05\n",
        "stat, p = st.levene(sample_1, sample_2)\n",
        "result_levene = p\n",
        "\n",
        "if result_levene < alpha:\n",
        "    print('Отвергаем Н0, дисперсии различаются')\n",
        "else:\n",
        "    print(\"Не отвергаем Н0, дисперсии не различаются\")\n",
        "\n",
        "var_sample = [np.var(x, ddof=1) for x in [sample_1, sample_2]]\n",
        "print('Дисперсии по выборкам: ', var_sample)"
      ],
      "execution_count": 37,
      "outputs": [
        {
          "output_type": "stream",
          "text": [
            "Не отвергаем Н0, дисперсии не различаются\n",
            "Дисперсии по выборкам:  [572.2903491016468, 516.3917105196837]\n"
          ],
          "name": "stdout"
        }
      ]
    },
    {
      "cell_type": "markdown",
      "metadata": {
        "id": "Xc3iNvg2b6mN"
      },
      "source": [
        "Распределения схожи. Незначительные есть, но обучению не должно помешать. Дисперсии по выборкам не отличаются  \n",
        "\n",
        "Посмотрим как распределны значения размера зерен при первичной обработке"
      ]
    },
    {
      "cell_type": "code",
      "metadata": {
        "colab": {
          "base_uri": "https://localhost:8080/",
          "height": 623
        },
        "id": "FYyMBfGCb6mN",
        "outputId": "92105af4-e30a-435d-e55f-344ba7d845e1"
      },
      "source": [
        "plt.figure(figsize=(15,10))\n",
        "sns.kdeplot(train['primary_cleaner.input.feed_size'].dropna(), label='train', shade=True, alpha=.42)\n",
        "sns.kdeplot(test['primary_cleaner.input.feed_size'].dropna(), label='test', shade=True, alpha=.42)\n",
        "plt.title('Распределения размеров зерен в тестовой выборке и обучающей (первичная очистка)')\n",
        "plt.legend()\n",
        "plt.show()"
      ],
      "execution_count": 38,
      "outputs": [
        {
          "output_type": "display_data",
          "data": {
            "image/png": "[encoded data removed]",
            "text/plain": [
              "<Figure size 1080x720 with 1 Axes>"
            ]
          },
          "metadata": {
            "tags": [],
            "needs_background": "light"
          }
        }
      ]
    },
    {
      "cell_type": "code",
      "metadata": {
        "colab": {
          "base_uri": "https://localhost:8080/"
        },
        "id": "rT-BXm1nb6mN",
        "outputId": "f3b9295f-b968-4989-8e93-b4dc4b66ce13"
      },
      "source": [
        "sample_3 = train['primary_cleaner.input.feed_size'].dropna()\n",
        "sample_4 = test['primary_cleaner.input.feed_size'].dropna()\n",
        "\n",
        "alpha = .05\n",
        "stat, p = st.levene(sample_3, sample_4)\n",
        "result_levene = p\n",
        "\n",
        "if result_levene < alpha:\n",
        "    print('Отвергаем Н0, дисперсии различаются')\n",
        "else:\n",
        "    print(\"Не отвергаем Н0, дисперсии не различаются\")\n",
        "\n",
        "var_sample = [np.var(x, ddof=1) for x in [sample_3, sample_4]]\n",
        "print('Дисперсии по выборкам: ', var_sample)"
      ],
      "execution_count": 39,
      "outputs": [
        {
          "output_type": "stream",
          "text": [
            "Не отвергаем Н0, дисперсии не различаются\n",
            "Дисперсии по выборкам:  [0.383366239405203, 0.37396377933413605]\n"
          ],
          "name": "stdout"
        }
      ]
    },
    {
      "cell_type": "markdown",
      "metadata": {
        "id": "DIGahPPzb6mN"
      },
      "source": [
        "Распределения схожи. Дисперсии по выборкам не отличаются"
      ]
    },
    {
      "cell_type": "markdown",
      "metadata": {
        "id": "zD9C1ei7b6mN"
      },
      "source": [
        "<a href=\"#footer\">К содержанию</a>\n",
        "\n",
        "<footer id=\"footer\"></footer>"
      ]
    },
    {
      "cell_type": "markdown",
      "metadata": {
        "id": "_Az7fo4Sb6mN"
      },
      "source": [
        "### Суммарная концентрация веществ на разных стадиях производства"
      ]
    },
    {
      "cell_type": "markdown",
      "metadata": {
        "id": "FU08-7Qlb6mN"
      },
      "source": [
        "Исследуем суммарную концентрацию всех веществ на разных стадиях: в сырье, в черновом, после очистки и финальном концентратах. Для этого выделим необходимые столбцы из нашего объединенного сета"
      ]
    },
    {
      "cell_type": "code",
      "metadata": {
        "id": "tqB-KUtgb6mO"
      },
      "source": [
        "crude = 'rougher.input.feed_'\n",
        "crude_out = 'rougher.output.concentrate_'\n",
        "prim_clean = 'primary_cleaner.output.concentrate_'\n",
        "final = 'final.output.concentrate_'\n",
        "\n",
        "df['сырье'] = df[[crude+'au', crude+'ag', crude+'pb']].sum(axis=1)\n",
        "df['черновой концентрат'] = df[[crude_out+'au', crude_out+'ag', crude_out+'pb']].sum(axis=1)\n",
        "df['концентрат после очистки'] = df[[prim_clean+'au', prim_clean+'ag', prim_clean+'pb']].sum(axis=1)\n",
        "df['финальный концентрат'] = df[[final+'au', final+'ag', final+'pb']].sum(axis=1)"
      ],
      "execution_count": 40,
      "outputs": []
    },
    {
      "cell_type": "code",
      "metadata": {
        "colab": {
          "base_uri": "https://localhost:8080/",
          "height": 204
        },
        "id": "lVo5AlS9b6mO",
        "outputId": "24ab0e73-2abe-4f1c-c047-d0d06f0547af"
      },
      "source": [
        "df[['сырье', 'черновой концентрат', 'концентрат после очистки', 'финальный концентрат']].head()"
      ],
      "execution_count": 41,
      "outputs": [
        {
          "output_type": "execute_result",
          "data": {
            "text/html": [
              "<div>\n",
              "<style scoped>\n",
              "    .dataframe tbody tr th:only-of-type {\n",
              "        vertical-align: middle;\n",
              "    }\n",
              "\n",
              "    .dataframe tbody tr th {\n",
              "        vertical-align: top;\n",
              "    }\n",
              "\n",
              "    .dataframe thead th {\n",
              "        text-align: right;\n",
              "    }\n",
              "</style>\n",
              "<table border=\"1\" class=\"dataframe\">\n",
              "  <thead>\n",
              "    <tr style=\"text-align: right;\">\n",
              "      <th></th>\n",
              "      <th>сырье</th>\n",
              "      <th>черновой концентрат</th>\n",
              "      <th>концентрат после очистки</th>\n",
              "      <th>финальный концентрат</th>\n",
              "    </tr>\n",
              "  </thead>\n",
              "  <tbody>\n",
              "    <tr>\n",
              "      <th>0</th>\n",
              "      <td>14.871440</td>\n",
              "      <td>38.395653</td>\n",
              "      <td>53.111627</td>\n",
              "      <td>58.137072</td>\n",
              "    </tr>\n",
              "    <tr>\n",
              "      <th>1</th>\n",
              "      <td>14.905729</td>\n",
              "      <td>38.945647</td>\n",
              "      <td>53.174338</td>\n",
              "      <td>58.699942</td>\n",
              "    </tr>\n",
              "    <tr>\n",
              "      <th>2</th>\n",
              "      <td>14.638299</td>\n",
              "      <td>38.649756</td>\n",
              "      <td>52.927464</td>\n",
              "      <td>58.927421</td>\n",
              "    </tr>\n",
              "    <tr>\n",
              "      <th>3</th>\n",
              "      <td>14.199305</td>\n",
              "      <td>38.411473</td>\n",
              "      <td>43.979185</td>\n",
              "      <td>58.714815</td>\n",
              "    </tr>\n",
              "    <tr>\n",
              "      <th>4</th>\n",
              "      <td>13.511497</td>\n",
              "      <td>38.867359</td>\n",
              "      <td>52.121146</td>\n",
              "      <td>59.065251</td>\n",
              "    </tr>\n",
              "  </tbody>\n",
              "</table>\n",
              "</div>"
            ],
            "text/plain": [
              "       сырье  ...  финальный концентрат\n",
              "0  14.871440  ...             58.137072\n",
              "1  14.905729  ...             58.699942\n",
              "2  14.638299  ...             58.927421\n",
              "3  14.199305  ...             58.714815\n",
              "4  13.511497  ...             59.065251\n",
              "\n",
              "[5 rows x 4 columns]"
            ]
          },
          "metadata": {
            "tags": []
          },
          "execution_count": 41
        }
      ]
    },
    {
      "cell_type": "code",
      "metadata": {
        "colab": {
          "base_uri": "https://localhost:8080/",
          "height": 173
        },
        "id": "VpeoQAJBb6mO",
        "outputId": "3764239c-5b2d-4393-aed5-1715b87f097f"
      },
      "source": [
        "df[['сырье', 'черновой концентрат', 'концентрат после очистки', 'финальный концентрат']].describe().T"
      ],
      "execution_count": 42,
      "outputs": [
        {
          "output_type": "execute_result",
          "data": {
            "text/html": [
              "<div>\n",
              "<style scoped>\n",
              "    .dataframe tbody tr th:only-of-type {\n",
              "        vertical-align: middle;\n",
              "    }\n",
              "\n",
              "    .dataframe tbody tr th {\n",
              "        vertical-align: top;\n",
              "    }\n",
              "\n",
              "    .dataframe thead th {\n",
              "        text-align: right;\n",
              "    }\n",
              "</style>\n",
              "<table border=\"1\" class=\"dataframe\">\n",
              "  <thead>\n",
              "    <tr style=\"text-align: right;\">\n",
              "      <th></th>\n",
              "      <th>count</th>\n",
              "      <th>mean</th>\n",
              "      <th>std</th>\n",
              "      <th>min</th>\n",
              "      <th>25%</th>\n",
              "      <th>50%</th>\n",
              "      <th>75%</th>\n",
              "      <th>max</th>\n",
              "    </tr>\n",
              "  </thead>\n",
              "  <tbody>\n",
              "    <tr>\n",
              "      <th>сырье</th>\n",
              "      <td>22716.0</td>\n",
              "      <td>18.833952</td>\n",
              "      <td>7.418530</td>\n",
              "      <td>0.0</td>\n",
              "      <td>16.447446</td>\n",
              "      <td>19.560398</td>\n",
              "      <td>23.572584</td>\n",
              "      <td>35.071987</td>\n",
              "    </tr>\n",
              "    <tr>\n",
              "      <th>черновой концентрат</th>\n",
              "      <td>22716.0</td>\n",
              "      <td>35.500849</td>\n",
              "      <td>13.401008</td>\n",
              "      <td>0.0</td>\n",
              "      <td>37.326591</td>\n",
              "      <td>39.961497</td>\n",
              "      <td>42.181417</td>\n",
              "      <td>55.568687</td>\n",
              "    </tr>\n",
              "    <tr>\n",
              "      <th>концентрат после очистки</th>\n",
              "      <td>22716.0</td>\n",
              "      <td>45.489901</td>\n",
              "      <td>16.248774</td>\n",
              "      <td>0.0</td>\n",
              "      <td>48.745632</td>\n",
              "      <td>51.517962</td>\n",
              "      <td>53.156499</td>\n",
              "      <td>60.269003</td>\n",
              "    </tr>\n",
              "    <tr>\n",
              "      <th>финальный концентрат</th>\n",
              "      <td>22716.0</td>\n",
              "      <td>53.673032</td>\n",
              "      <td>17.975586</td>\n",
              "      <td>0.0</td>\n",
              "      <td>58.684224</td>\n",
              "      <td>60.073814</td>\n",
              "      <td>60.990543</td>\n",
              "      <td>65.575259</td>\n",
              "    </tr>\n",
              "  </tbody>\n",
              "</table>\n",
              "</div>"
            ],
            "text/plain": [
              "                            count       mean  ...        75%        max\n",
              "сырье                     22716.0  18.833952  ...  23.572584  35.071987\n",
              "черновой концентрат       22716.0  35.500849  ...  42.181417  55.568687\n",
              "концентрат после очистки  22716.0  45.489901  ...  53.156499  60.269003\n",
              "финальный концентрат      22716.0  53.673032  ...  60.990543  65.575259\n",
              "\n",
              "[4 rows x 8 columns]"
            ]
          },
          "metadata": {
            "tags": []
          },
          "execution_count": 42
        }
      ]
    },
    {
      "cell_type": "code",
      "metadata": {
        "colab": {
          "base_uri": "https://localhost:8080/",
          "height": 609
        },
        "id": "pAVqMW12b6mO",
        "outputId": "189669f1-4f43-42b1-e084-b14125830159"
      },
      "source": [
        "col_1 = ['сырье', 'черновой концентрат', 'концентрат после очистки', 'финальный концентрат']\n",
        "\n",
        "plt.figure(figsize=(15,10))\n",
        "sns.boxplot(data=df[col_1], linewidth=0.42, palette=\"Set2\")\n",
        "plt.title('Суммарная концентрация всех веществ', fontsize=15)\n",
        "plt.show()"
      ],
      "execution_count": 43,
      "outputs": [
        {
          "output_type": "display_data",
          "data": {
            "image/png": "[encoded data removed]",
            "text/plain": [
              "<Figure size 1080x720 with 1 Axes>"
            ]
          },
          "metadata": {
            "tags": [],
            "needs_background": "light"
          }
        }
      ]
    },
    {
      "cell_type": "code",
      "metadata": {
        "colab": {
          "base_uri": "https://localhost:8080/",
          "height": 623
        },
        "id": "yt24tef0b6mO",
        "outputId": "b2ce71e3-0da9-4398-ad1a-3403bfd42001"
      },
      "source": [
        "col_1 = ['сырье', 'черновой концентрат', 'концентрат после очистки', 'финальный концентрат']\n",
        "\n",
        "fig_dims = (15, 10)\n",
        "fig1, ax1 = plt.subplots(figsize=fig_dims) \n",
        "for col in col_1:\n",
        "                \n",
        "    sns.kdeplot(df[col], shade=True, alpha=.42, ax=ax1)\n",
        "    plt.title('Суммарная концентрация всех веществ', fontsize=15)\n"
      ],
      "execution_count": 44,
      "outputs": [
        {
          "output_type": "display_data",
          "data": {
            "image/png": "[encoded data removed]",
            "text/plain": [
              "<Figure size 1080x720 with 1 Axes>"
            ]
          },
          "metadata": {
            "tags": [],
            "needs_background": "light"
          }
        }
      ]
    },
    {
      "cell_type": "markdown",
      "metadata": {
        "id": "DiAsjyZZb6mO"
      },
      "source": [
        "Обнаружены выбросы и нулевые значения концентрация, которые можно принять как аномалии. Такие значения необходимо будет удалять перед обучением  \n",
        "\n",
        "Попробуем избавиться от выбросов и создать второй набор данных для обучения. Посмотрим на результаты обучения на обоих сетах - с выбросами и без"
      ]
    },
    {
      "cell_type": "code",
      "metadata": {
        "colab": {
          "base_uri": "https://localhost:8080/"
        },
        "id": "0gXcaPJvb6mO",
        "outputId": "dc5a1872-576b-4fc8-9010-97bb52f86547"
      },
      "source": [
        "df.shape"
      ],
      "execution_count": 45,
      "outputs": [
        {
          "output_type": "execute_result",
          "data": {
            "text/plain": [
              "(22716, 91)"
            ]
          },
          "metadata": {
            "tags": []
          },
          "execution_count": 45
        }
      ]
    },
    {
      "cell_type": "code",
      "metadata": {
        "colab": {
          "base_uri": "https://localhost:8080/"
        },
        "id": "NLh56Vdyb6mO",
        "outputId": "6a32b0e7-8f11-44d5-f1f1-caa720e816f1"
      },
      "source": [
        "crude = 'rougher.input.feed_'\n",
        "crude_out = 'rougher.output.concentrate_'\n",
        "prim_clean = 'primary_cleaner.output.concentrate_'\n",
        "final = 'final.output.concentrate_'\n",
        "\n",
        "cols_clean = [crude+'au', crude+'ag', crude+'pb', \n",
        "             crude_out+'au', crude_out+'ag', crude_out+'pb',\n",
        "             prim_clean+'au', prim_clean+'ag', prim_clean+'pb',\n",
        "             final+'au', final+'ag', final+'pb']\n",
        "for col in cols_clean:\n",
        "    q25, q75 = df[col].quantile(q=0.25), df[col].quantile(q=0.75)\n",
        "    iqr = q75 - q25\n",
        "    cut_off = iqr * 1.5\n",
        "    lower, upper = q25 - cut_off, q75 + cut_off\n",
        "    outliers = [x for x in df[col] if x < lower or x > upper]\n",
        "    outliers_removed = [x for x in df[col] if x > lower and x < upper]\n",
        "\n",
        "print('Найдены выбросы: %d' % len(outliers))"
      ],
      "execution_count": 46,
      "outputs": [
        {
          "output_type": "stream",
          "text": [
            "Найдены выбросы: 2340\n"
          ],
          "name": "stdout"
        }
      ]
    },
    {
      "cell_type": "markdown",
      "metadata": {
        "id": "AH6YBLRnb6mP"
      },
      "source": [
        "Попробуем максимально убрать значения за пределами усов"
      ]
    },
    {
      "cell_type": "code",
      "metadata": {
        "colab": {
          "base_uri": "https://localhost:8080/",
          "height": 224
        },
        "id": "EhO9FgOLb6mP",
        "outputId": "bc2c8587-637b-42c0-af11-748c25ddf230"
      },
      "source": [
        "low = .20\n",
        "high = .95\n",
        "quant_df = df[cols_clean].quantile([low, high])\n",
        "df_clean = df[cols_clean].apply(lambda x: x[(x > quant_df.loc[low, x.name]) & \n",
        "                                     (x < quant_df.loc[high, x.name])], axis=0)\n",
        "df_clean.dropna(inplace=True)\n",
        "df_clean.head()"
      ],
      "execution_count": 47,
      "outputs": [
        {
          "output_type": "execute_result",
          "data": {
            "text/html": [
              "<div>\n",
              "<style scoped>\n",
              "    .dataframe tbody tr th:only-of-type {\n",
              "        vertical-align: middle;\n",
              "    }\n",
              "\n",
              "    .dataframe tbody tr th {\n",
              "        vertical-align: top;\n",
              "    }\n",
              "\n",
              "    .dataframe thead th {\n",
              "        text-align: right;\n",
              "    }\n",
              "</style>\n",
              "<table border=\"1\" class=\"dataframe\">\n",
              "  <thead>\n",
              "    <tr style=\"text-align: right;\">\n",
              "      <th></th>\n",
              "      <th>rougher.input.feed_au</th>\n",
              "      <th>rougher.input.feed_ag</th>\n",
              "      <th>rougher.input.feed_pb</th>\n",
              "      <th>rougher.output.concentrate_au</th>\n",
              "      <th>rougher.output.concentrate_ag</th>\n",
              "      <th>rougher.output.concentrate_pb</th>\n",
              "      <th>primary_cleaner.output.concentrate_au</th>\n",
              "      <th>primary_cleaner.output.concentrate_ag</th>\n",
              "      <th>primary_cleaner.output.concentrate_pb</th>\n",
              "      <th>final.output.concentrate_au</th>\n",
              "      <th>final.output.concentrate_ag</th>\n",
              "      <th>final.output.concentrate_pb</th>\n",
              "    </tr>\n",
              "  </thead>\n",
              "  <tbody>\n",
              "    <tr>\n",
              "      <th>43</th>\n",
              "      <td>6.845632</td>\n",
              "      <td>6.988699</td>\n",
              "      <td>2.552393</td>\n",
              "      <td>19.161033</td>\n",
              "      <td>12.046412</td>\n",
              "      <td>7.158107</td>\n",
              "      <td>36.080017</td>\n",
              "      <td>8.830847</td>\n",
              "      <td>9.610998</td>\n",
              "      <td>45.358076</td>\n",
              "      <td>5.110753</td>\n",
              "      <td>10.726356</td>\n",
              "    </tr>\n",
              "    <tr>\n",
              "      <th>54</th>\n",
              "      <td>7.275418</td>\n",
              "      <td>7.634960</td>\n",
              "      <td>3.084302</td>\n",
              "      <td>18.861112</td>\n",
              "      <td>11.116853</td>\n",
              "      <td>7.855568</td>\n",
              "      <td>34.413681</td>\n",
              "      <td>9.492328</td>\n",
              "      <td>10.462952</td>\n",
              "      <td>43.561270</td>\n",
              "      <td>5.311343</td>\n",
              "      <td>11.675848</td>\n",
              "    </tr>\n",
              "    <tr>\n",
              "      <th>55</th>\n",
              "      <td>7.275729</td>\n",
              "      <td>7.383200</td>\n",
              "      <td>2.806724</td>\n",
              "      <td>19.326225</td>\n",
              "      <td>10.795206</td>\n",
              "      <td>7.549066</td>\n",
              "      <td>36.076596</td>\n",
              "      <td>8.777859</td>\n",
              "      <td>10.486529</td>\n",
              "      <td>44.180403</td>\n",
              "      <td>4.936983</td>\n",
              "      <td>11.510876</td>\n",
              "    </tr>\n",
              "    <tr>\n",
              "      <th>57</th>\n",
              "      <td>7.094447</td>\n",
              "      <td>7.435331</td>\n",
              "      <td>2.565581</td>\n",
              "      <td>19.107428</td>\n",
              "      <td>11.304290</td>\n",
              "      <td>7.130568</td>\n",
              "      <td>37.821583</td>\n",
              "      <td>8.321753</td>\n",
              "      <td>9.737570</td>\n",
              "      <td>46.924587</td>\n",
              "      <td>4.498173</td>\n",
              "      <td>10.570763</td>\n",
              "    </tr>\n",
              "    <tr>\n",
              "      <th>58</th>\n",
              "      <td>7.079100</td>\n",
              "      <td>7.442908</td>\n",
              "      <td>2.568697</td>\n",
              "      <td>18.592221</td>\n",
              "      <td>11.177676</td>\n",
              "      <td>6.951267</td>\n",
              "      <td>36.440323</td>\n",
              "      <td>9.029780</td>\n",
              "      <td>9.442908</td>\n",
              "      <td>45.410690</td>\n",
              "      <td>4.841728</td>\n",
              "      <td>10.625456</td>\n",
              "    </tr>\n",
              "  </tbody>\n",
              "</table>\n",
              "</div>"
            ],
            "text/plain": [
              "    rougher.input.feed_au  ...  final.output.concentrate_pb\n",
              "43               6.845632  ...                    10.726356\n",
              "54               7.275418  ...                    11.675848\n",
              "55               7.275729  ...                    11.510876\n",
              "57               7.094447  ...                    10.570763\n",
              "58               7.079100  ...                    10.625456\n",
              "\n",
              "[5 rows x 12 columns]"
            ]
          },
          "metadata": {
            "tags": []
          },
          "execution_count": 47
        }
      ]
    },
    {
      "cell_type": "code",
      "metadata": {
        "colab": {
          "base_uri": "https://localhost:8080/"
        },
        "id": "2EQ8t9ZWb6mP",
        "outputId": "e60fd7f3-83c5-43a6-c422-22b7a6ae9671"
      },
      "source": [
        "df_clean.shape"
      ],
      "execution_count": 48,
      "outputs": [
        {
          "output_type": "execute_result",
          "data": {
            "text/plain": [
              "(6038, 12)"
            ]
          },
          "metadata": {
            "tags": []
          },
          "execution_count": 48
        }
      ]
    },
    {
      "cell_type": "code",
      "metadata": {
        "id": "8aH0I8C4b6mP"
      },
      "source": [
        "df_clean['сырье'] = df_clean[[crude+'au', crude+'ag', crude+'pb']].sum(axis=1)\n",
        "df_clean['черновой концентрат'] = df_clean[[crude_out+'au', crude_out+'ag', crude_out+'pb']].sum(axis=1)\n",
        "df_clean['концентрат после очистки'] = df_clean[[prim_clean+'au', prim_clean+'ag', prim_clean+'pb']].sum(axis=1)\n",
        "df_clean['финальный концентрат'] = df_clean[[final+'au', final+'ag', final+'pb']].sum(axis=1)"
      ],
      "execution_count": 49,
      "outputs": []
    },
    {
      "cell_type": "code",
      "metadata": {
        "colab": {
          "base_uri": "https://localhost:8080/",
          "height": 611
        },
        "id": "lNBi6JZBb6mP",
        "outputId": "0775c4dc-6948-4514-9ffc-8be510288776"
      },
      "source": [
        "col_1 = ['сырье', 'черновой концентрат', 'концентрат после очистки', 'финальный концентрат']\n",
        "\n",
        "plt.figure(figsize=(15,10))\n",
        "sns.boxplot(data=df_clean[col_1], linewidth=0.42, palette=\"Set2\")\n",
        "plt.title('Суммарная концентрация всех веществ после обработки', fontsize=15)\n",
        "plt.show()"
      ],
      "execution_count": 50,
      "outputs": [
        {
          "output_type": "display_data",
          "data": {
            "image/png": "[encoded data removed]",
            "text/plain": [
              "<Figure size 1080x720 with 1 Axes>"
            ]
          },
          "metadata": {
            "tags": [],
            "needs_background": "light"
          }
        }
      ]
    },
    {
      "cell_type": "markdown",
      "metadata": {
        "id": "CnplYoixb6mP"
      },
      "source": [
        "Создадим второй сет выборок - очищенные от выбросов, попробуем также сделать предсказания по нему"
      ]
    },
    {
      "cell_type": "code",
      "metadata": {
        "colab": {
          "base_uri": "https://localhost:8080/"
        },
        "id": "wX13wL0Kb6mP",
        "outputId": "622734d3-d78e-4778-ec88-ab337647c24a"
      },
      "source": [
        "X_train_rougher_clean = X_train_rougher[X_train_rougher.index.isin(df_clean.index)]\n",
        "X_test_rougher_clean = X_test_rougher[X_test_rougher.index.isin(df_clean.index)]\n",
        "y_train_rougher_clean = train[['rougher.output.recovery']][train.index.isin(df_clean.index)]\n",
        "X_train_rougher_clean.shape, X_test_rougher_clean.shape, y_train_rougher_clean.shape"
      ],
      "execution_count": 51,
      "outputs": [
        {
          "output_type": "execute_result",
          "data": {
            "text/plain": [
              "((4906, 22), (1103, 22), (4906, 1))"
            ]
          },
          "metadata": {
            "tags": []
          },
          "execution_count": 51
        }
      ]
    },
    {
      "cell_type": "code",
      "metadata": {
        "colab": {
          "base_uri": "https://localhost:8080/"
        },
        "id": "nLt4qP7nb6mP",
        "outputId": "acd686c0-ff44-4b13-e423-2f839c32a047"
      },
      "source": [
        "X_train_final_clean = X_train_final[X_train_final.index.isin(df_clean.index)]\n",
        "X_test_final_clean = X_test_final[X_test_final.index.isin(df_clean.index)]\n",
        "y_train_final_clean = train[['final.output.recovery']][train.index.isin(df_clean.index)]\n",
        "X_train_final_clean.shape, X_test_final_clean.shape, y_train_final_clean.shape"
      ],
      "execution_count": 52,
      "outputs": [
        {
          "output_type": "execute_result",
          "data": {
            "text/plain": [
              "((4906, 30), (1103, 30), (4906, 1))"
            ]
          },
          "metadata": {
            "tags": []
          },
          "execution_count": 52
        }
      ]
    },
    {
      "cell_type": "markdown",
      "metadata": {
        "id": "a4cEJm_cb6mP"
      },
      "source": [
        "Предлагаем убирать нулевые значения - объекты со значением 0 - под удаление, они не несут полезной нагрузки, при этом исказят предсказания модели. Добавить в pipeline удаление нулевых значений"
      ]
    },
    {
      "cell_type": "markdown",
      "metadata": {
        "id": "yxyU7ZxPb6mQ"
      },
      "source": [
        "<a href=\"#footer\">К содержанию</a>\n",
        "\n",
        "<footer id=\"footer\"></footer>"
      ]
    },
    {
      "cell_type": "markdown",
      "metadata": {
        "id": "QEfXpgIhb6mQ"
      },
      "source": [
        "### Вывод"
      ]
    },
    {
      "cell_type": "markdown",
      "metadata": {
        "id": "T70KcYTQb6mQ"
      },
      "source": [
        "Проанализировали концентрации металлов на различных стадиях производства:  \n",
        "\n",
        "- **золото**:  \n",
        "  повышается по мере очистки и достигиает своих максимальных значений в конце технологического процесса \n",
        "- **серебро**:  \n",
        "  повышается по завершению этапа флотации и по мере очистики начианет снижаться  \n",
        "- **свинец**:  \n",
        "  содержание свинца начинает подниматься по завершению эатапа флотации и сохраняется либо незначительно увеличивается на этапах очистки  \n",
        "  \n",
        "Проверили распределяни значений размеров гранул как на этапе подготовки сырья, так и на этапе очистки - распредления схожи, дисперсии не различаются, нет необходимости в корректировке\n",
        "  \n",
        "**Были обнаружены нулевые значения сумм металлов - такие необходимо будет удалить перед подготовкой модели**"
      ]
    },
    {
      "cell_type": "markdown",
      "metadata": {
        "id": "zSOf8vw-b6mQ"
      },
      "source": [
        "<a href=\"#footer\">К содержанию</a>\n",
        "\n",
        "<footer id=\"footer\"></footer>"
      ]
    },
    {
      "cell_type": "markdown",
      "metadata": {
        "id": "4V5xcVPHb6mQ"
      },
      "source": [
        "## Модель"
      ]
    },
    {
      "cell_type": "markdown",
      "metadata": {
        "id": "uy3eGTpKb6mQ"
      },
      "source": [
        "### Подготовка функция для рассчета метрик"
      ]
    },
    {
      "cell_type": "markdown",
      "metadata": {
        "id": "I8srapYtb6mQ"
      },
      "source": [
        "Для решения задачи введём новую метрику качества — `sMAPE` (англ. `Symmetric Mean Absolute Percentage Error`, «симметричное среднее абсолютное процентное отклонение»).  \n",
        "Она похожа на `MAE`, но выражается не в абсолютных величинах, а в относительных  \n",
        "\n",
        "![](https://i.ibb.co/cwgLFyC/smape-1576239058.jpg)"
      ]
    },
    {
      "cell_type": "code",
      "metadata": {
        "id": "opcrySjPb6mQ"
      },
      "source": [
        "def smape(y_true, y_pred):\n",
        "    y_true = np.array(y_true)\n",
        "    y_pred = np.array(y_pred)\n",
        "    total = 0\n",
        "    for i in range(len(y_true)):\n",
        "        total += abs(y_true[i] - y_pred[i]) / ((abs(y_true[i]) + abs(y_pred[i]))/2)\n",
        "        smape = abs(total*100 / len(y_true))\n",
        "    return abs(smape)"
      ],
      "execution_count": 53,
      "outputs": []
    },
    {
      "cell_type": "code",
      "metadata": {
        "id": "IvPfA4azb6mR"
      },
      "source": [
        "scorer = make_scorer(smape, greater_is_better=False)"
      ],
      "execution_count": 54,
      "outputs": []
    },
    {
      "cell_type": "markdown",
      "metadata": {
        "id": "MSXVrpJhb6mR"
      },
      "source": [
        "Итоговая метрика складывается из двух величин:  \n",
        "\n",
        "![](https://i.ibb.co/qDTrrNM/smape-1576238814.jpg)"
      ]
    },
    {
      "cell_type": "code",
      "metadata": {
        "id": "zOAOXXvdb6mR"
      },
      "source": [
        "def smape_final(smape_rougher, smape_final):\n",
        "    smape_final = (0.25 * smape_rougher + 0.75 * smape_final)\n",
        "    return smape_final"
      ],
      "execution_count": 55,
      "outputs": []
    },
    {
      "cell_type": "markdown",
      "metadata": {
        "id": "NnMZ-zPBb6mR"
      },
      "source": [
        "Функции подготовлены, можем приступать к подготовке `Pipeline` модели и полуению предсказаний"
      ]
    },
    {
      "cell_type": "markdown",
      "metadata": {
        "id": "NV984hbyb6mR"
      },
      "source": [
        "<a href=\"#footer\">К содержанию</a>\n",
        "\n",
        "<footer id=\"footer\"></footer>"
      ]
    },
    {
      "cell_type": "markdown",
      "metadata": {
        "id": "rzj1rjXIb6mR"
      },
      "source": [
        "### Подготовка Pipeline"
      ]
    },
    {
      "cell_type": "markdown",
      "metadata": {
        "id": "4TXfXG-gb6mR"
      },
      "source": [
        "В результате проведенного EDA и статистического анализа данных, были выявлены следующие проблемы:  \n",
        "\n",
        "- нулевые значений целевых признаков\n",
        "- `nan` пропуски в признаках\n",
        "- `nan` пропуски в целевых признаках\n",
        "- необходимо провести стандартизацию данных  \n",
        "- обучить модель на двух сетах - с выбросами и без выбросов\n",
        "\n",
        "\n",
        "Учтем данные замечания при построении модели и подготовки `Pipeline`. Для начала разберемся с пропусками\n",
        "\n",
        "напишем две функции, которые необходимо будет применять перед обучением модели для автоматизации процесса\n",
        "\n",
        "1. Функция на основе метода ffill\n",
        "2. Функция для удаления срок с целеыми значениями, равными 0"
      ]
    },
    {
      "cell_type": "code",
      "metadata": {
        "id": "sdcb_gc1b6mR"
      },
      "source": [
        "def ffill_y (target):\n",
        "    target = target.ffill()\n",
        "    return target\n",
        "\n",
        "def drop_zeros(X_train, y_train):\n",
        "    y_train = y_train[(y_train != 0).all(1)]  \n",
        "    X_train = X_train.loc[y_train.index, :]\n",
        "    return X_train, y_train\n"
      ],
      "execution_count": 56,
      "outputs": []
    },
    {
      "cell_type": "markdown",
      "metadata": {
        "id": "-acyyymfb6mR"
      },
      "source": [
        "В пункте 1.5.3 мы разделили наши выборки на две составляющих - для этапа флотации и этапа очистки:  \n",
        "\n",
        "- `X_train_rougher`, `X_test_rougher`, `y_train_rougher`\n",
        "- `X_train_final`, `X_test_final`, `y_train_final`  \n",
        "\n",
        "Применим наши функции"
      ]
    },
    {
      "cell_type": "code",
      "metadata": {
        "id": "t2iiAfrGb6mS"
      },
      "source": [
        "y_train_rougher_1 = ffill_y(y_train_rougher)\n",
        "y_train_final_1 =  ffill_y(y_train_final)\n",
        "\n",
        "X_train_rougher_pred, y_train_rougher_pred = drop_zeros(X_train_rougher, y_train_rougher_1)\n",
        "X_train_final_pred, y_train_final_pred = drop_zeros(X_train_final, y_train_final_1)"
      ],
      "execution_count": 57,
      "outputs": []
    },
    {
      "cell_type": "code",
      "metadata": {
        "colab": {
          "base_uri": "https://localhost:8080/"
        },
        "id": "0iXem763b6mS",
        "outputId": "9ce1970d-3b83-4d66-e021-95fd992166d3"
      },
      "source": [
        "y_train_rougher_pred.isna().mean()"
      ],
      "execution_count": 58,
      "outputs": [
        {
          "output_type": "execute_result",
          "data": {
            "text/plain": [
              "rougher.output.recovery    0.0\n",
              "dtype: float64"
            ]
          },
          "metadata": {
            "tags": []
          },
          "execution_count": 58
        }
      ]
    },
    {
      "cell_type": "code",
      "metadata": {
        "colab": {
          "base_uri": "https://localhost:8080/"
        },
        "id": "7Kq4FxoBb6mS",
        "outputId": "5cdb9b90-410c-4e1b-8510-c5d405cba29f"
      },
      "source": [
        "y_train_final_pred.isna().mean()"
      ],
      "execution_count": 59,
      "outputs": [
        {
          "output_type": "execute_result",
          "data": {
            "text/plain": [
              "final.output.recovery    0.0\n",
              "dtype: float64"
            ]
          },
          "metadata": {
            "tags": []
          },
          "execution_count": 59
        }
      ]
    },
    {
      "cell_type": "code",
      "metadata": {
        "colab": {
          "base_uri": "https://localhost:8080/"
        },
        "id": "EXiXsTlQb6mS",
        "outputId": "45a800a0-f14e-4366-d286-311bc8afb407"
      },
      "source": [
        "X_train_rougher_pred.shape, y_train_rougher.shape"
      ],
      "execution_count": 60,
      "outputs": [
        {
          "output_type": "execute_result",
          "data": {
            "text/plain": [
              "((16284, 22), (16860, 1))"
            ]
          },
          "metadata": {
            "tags": []
          },
          "execution_count": 60
        }
      ]
    },
    {
      "cell_type": "markdown",
      "metadata": {
        "id": "CAMNNO9Kb6mS"
      },
      "source": [
        "Приступим к написанию Pipline наших моделей"
      ]
    },
    {
      "cell_type": "code",
      "metadata": {
        "id": "vamlsPKtb6mS"
      },
      "source": [
        "num_pipeline_rougher = Pipeline([\n",
        "        ('imputer', SimpleImputer(missing_values=np.nan, strategy='mean')),\n",
        "        ('std_scaler', StandardScaler()),\n",
        "    ])\n",
        "\n",
        "num_pipeline_final = Pipeline([\n",
        "        ('imputer', SimpleImputer(missing_values=np.nan, strategy='mean')),\n",
        "        ('std_scaler', StandardScaler()),\n",
        "    ])"
      ],
      "execution_count": 61,
      "outputs": []
    },
    {
      "cell_type": "code",
      "metadata": {
        "id": "-1rc_l6Zb6mS"
      },
      "source": [
        "X_train_rougher_prep = num_pipeline_rougher.fit_transform(X_train_rougher_pred)\n",
        "X_train_final_prep = num_pipeline_final.fit_transform(X_train_final_pred)"
      ],
      "execution_count": 62,
      "outputs": []
    },
    {
      "cell_type": "markdown",
      "metadata": {
        "id": "9cBfcT7gb6mS"
      },
      "source": [
        "<a href=\"#footer\">К содержанию</a>\n",
        "\n",
        "<footer id=\"footer\"></footer>"
      ]
    },
    {
      "cell_type": "markdown",
      "metadata": {
        "id": "kT2jDHsyb6mS"
      },
      "source": [
        "### Обучение моделей с кросс-валидацией на обучающей выборке (с выбросами без нулевых значений)"
      ]
    },
    {
      "cell_type": "code",
      "metadata": {
        "id": "XNV1SmJqb6mS"
      },
      "source": [
        "models = [RandomForestRegressor(random_state=42), LinearRegression(), Lasso(alpha=0.1), Ridge()]"
      ],
      "execution_count": 63,
      "outputs": []
    },
    {
      "cell_type": "code",
      "metadata": {
        "colab": {
          "base_uri": "https://localhost:8080/"
        },
        "id": "LGgqsqxEb6mS",
        "outputId": "c23a432e-edcc-4bde-c579-3505b6cd6460"
      },
      "source": [
        "%%time\n",
        "results_cross_val = []\n",
        "for model in models: \n",
        "            \n",
        "    cross_val_score_rougher = cross_val_score(model, \n",
        "                                              X_train_rougher_prep, \n",
        "                                              y_train_rougher_pred, \n",
        "                                              cv=5, scoring=scorer).mean()\n",
        "    cross_val_score_final = cross_val_score(model, \n",
        "                                            X_train_final_prep, \n",
        "                                            y_train_final_pred, \n",
        "                                            cv=5, scoring=scorer).mean()\n",
        "\n",
        "    results_cross_val.append({'model name': model.__class__.__name__, \n",
        "                              'cross_val_score_rougher': cross_val_score_rougher, \n",
        "                              'cross_val_score_final': cross_val_score_final}) \n",
        "              \n",
        "result = pd.DataFrame(results_cross_val)"
      ],
      "execution_count": 64,
      "outputs": [
        {
          "output_type": "stream",
          "text": [
            "CPU times: user 6min 14s, sys: 3.55 s, total: 6min 17s\n",
            "Wall time: 6min 13s\n"
          ],
          "name": "stdout"
        }
      ]
    },
    {
      "cell_type": "code",
      "metadata": {
        "colab": {
          "base_uri": "https://localhost:8080/",
          "height": 173
        },
        "id": "IDgv0A2Zb6mT",
        "outputId": "f2d8321a-a9f3-425d-84bf-f20eddf33f18"
      },
      "source": [
        "result"
      ],
      "execution_count": 65,
      "outputs": [
        {
          "output_type": "execute_result",
          "data": {
            "text/html": [
              "<div>\n",
              "<style scoped>\n",
              "    .dataframe tbody tr th:only-of-type {\n",
              "        vertical-align: middle;\n",
              "    }\n",
              "\n",
              "    .dataframe tbody tr th {\n",
              "        vertical-align: top;\n",
              "    }\n",
              "\n",
              "    .dataframe thead th {\n",
              "        text-align: right;\n",
              "    }\n",
              "</style>\n",
              "<table border=\"1\" class=\"dataframe\">\n",
              "  <thead>\n",
              "    <tr style=\"text-align: right;\">\n",
              "      <th></th>\n",
              "      <th>model name</th>\n",
              "      <th>cross_val_score_rougher</th>\n",
              "      <th>cross_val_score_final</th>\n",
              "    </tr>\n",
              "  </thead>\n",
              "  <tbody>\n",
              "    <tr>\n",
              "      <th>0</th>\n",
              "      <td>RandomForestRegressor</td>\n",
              "      <td>-9.082294</td>\n",
              "      <td>-13.257123</td>\n",
              "    </tr>\n",
              "    <tr>\n",
              "      <th>1</th>\n",
              "      <td>LinearRegression</td>\n",
              "      <td>-9.380047</td>\n",
              "      <td>-12.360025</td>\n",
              "    </tr>\n",
              "    <tr>\n",
              "      <th>2</th>\n",
              "      <td>Lasso</td>\n",
              "      <td>-9.151560</td>\n",
              "      <td>-11.958212</td>\n",
              "    </tr>\n",
              "    <tr>\n",
              "      <th>3</th>\n",
              "      <td>Ridge</td>\n",
              "      <td>-9.378545</td>\n",
              "      <td>-12.356513</td>\n",
              "    </tr>\n",
              "  </tbody>\n",
              "</table>\n",
              "</div>"
            ],
            "text/plain": [
              "              model name  cross_val_score_rougher  cross_val_score_final\n",
              "0  RandomForestRegressor                -9.082294             -13.257123\n",
              "1       LinearRegression                -9.380047             -12.360025\n",
              "2                  Lasso                -9.151560             -11.958212\n",
              "3                  Ridge                -9.378545             -12.356513"
            ]
          },
          "metadata": {
            "tags": []
          },
          "execution_count": 65
        }
      ]
    },
    {
      "cell_type": "markdown",
      "metadata": {
        "id": "qFTXuGdmb6mT"
      },
      "source": [
        "Лучший результат у модели Lasso, попробуем немного улучшить параметры"
      ]
    },
    {
      "cell_type": "code",
      "metadata": {
        "colab": {
          "base_uri": "https://localhost:8080/"
        },
        "id": "ML_aXBU1b6mT",
        "outputId": "21ee328b-e084-418b-961b-6009792b13bc"
      },
      "source": [
        "%%time\n",
        "param_grid = [{'fit_intercept': [True, False]}]\n",
        "\n",
        "lasso_reg = Lasso(alpha=0.1, normalize=True, max_iter=750)\n",
        "\n",
        "grid_search = GridSearchCV(lasso_reg, param_grid, cv=5,\n",
        "                           scoring=scorer, return_train_score=True)\n",
        "grid_search.fit(X_train_rougher_prep, y_train_rougher_pred)"
      ],
      "execution_count": 66,
      "outputs": [
        {
          "output_type": "stream",
          "text": [
            "CPU times: user 4.06 s, sys: 2.28 s, total: 6.35 s\n",
            "Wall time: 3.81 s\n"
          ],
          "name": "stdout"
        }
      ]
    },
    {
      "cell_type": "code",
      "metadata": {
        "id": "cbzB2sNVb6mT"
      },
      "source": [
        "final_model = grid_search.best_estimator_\n",
        "\n",
        "X_test_rougher_pred = num_pipeline_rougher.transform(X_test_rougher)\n",
        "y_test = ffill_y(df.loc[X_test_rougher.index, 'rougher.output.recovery'])\n",
        "\n",
        "final_predictions = final_model.predict(X_test_rougher_pred)\n",
        "rougher = smape(final_predictions, y_test)\n"
      ],
      "execution_count": 67,
      "outputs": []
    },
    {
      "cell_type": "code",
      "metadata": {
        "colab": {
          "base_uri": "https://localhost:8080/"
        },
        "id": "vcYOZ9NKb6mT",
        "outputId": "3efc30dd-768d-4099-f1fd-b10023db55af"
      },
      "source": [
        "%%time\n",
        "param_grid_final = [{'fit_intercept': [True, False]}]\n",
        "\n",
        "lasso_reg_final = Lasso(alpha=0.1, normalize=True, max_iter=750)\n",
        "\n",
        "grid_search_final = GridSearchCV(lasso_reg_final, param_grid_final, cv=5,\n",
        "                           scoring=scorer, return_train_score=True)\n",
        "grid_search_final.fit(X_train_final_prep, y_train_final_pred)"
      ],
      "execution_count": 68,
      "outputs": [
        {
          "output_type": "stream",
          "text": [
            "CPU times: user 4.74 s, sys: 2.27 s, total: 7.01 s\n",
            "Wall time: 4.15 s\n"
          ],
          "name": "stdout"
        }
      ]
    },
    {
      "cell_type": "code",
      "metadata": {
        "id": "DuAbB-Z8b6mT"
      },
      "source": [
        "final_model_fin = grid_search_final.best_estimator_\n",
        "X_test_final_pred = num_pipeline_final.transform(X_test_final)\n",
        "y_test_fin = ffill_y(df.loc[X_test_final.index, 'final.output.recovery'])\n",
        "\n",
        "final_predictions_final = final_model_fin.predict(X_test_final_pred)\n",
        "final = smape(final_predictions_final, y_test_fin)\n"
      ],
      "execution_count": 69,
      "outputs": []
    },
    {
      "cell_type": "code",
      "metadata": {
        "colab": {
          "base_uri": "https://localhost:8080/"
        },
        "id": "jrABb-3hb6mT",
        "outputId": "68eddd23-4058-4038-aabd-177dd8632084"
      },
      "source": [
        "print('sMAPE модели = {:.2f}'.format(smape_final (rougher, final))) "
      ],
      "execution_count": 70,
      "outputs": [
        {
          "output_type": "stream",
          "text": [
            "sMAPE модели = 13.49\n"
          ],
          "name": "stdout"
        }
      ]
    },
    {
      "cell_type": "markdown",
      "metadata": {
        "id": "V0MGFMrXb6mT"
      },
      "source": [
        "Построим константную модель и проверим нашу оценку"
      ]
    },
    {
      "cell_type": "code",
      "metadata": {
        "colab": {
          "base_uri": "https://localhost:8080/"
        },
        "id": "B4Prx6Kzb6mU",
        "outputId": "04263811-4beb-426e-e5b7-973f7280f66a"
      },
      "source": [
        "predicted_valid_rog = pd.Series(y_train_rougher_pred['rougher.output.recovery'].mean(), index=y_test.index)\n",
        "rog = smape(y_test, predicted_valid_rog)\n",
        "\n",
        "predicted_valid_fin = pd.Series(y_train_final_pred['final.output.recovery'].mean(), index=y_test_fin.index)\n",
        "fin = smape(y_test_fin, predicted_valid_fin)\n",
        "\n",
        "print('sMAPE константной модели = {:.2f}'.format(smape_final (rog, fin)))"
      ],
      "execution_count": 71,
      "outputs": [
        {
          "output_type": "stream",
          "text": [
            "sMAPE константной модели = 13.49\n"
          ],
          "name": "stdout"
        }
      ]
    },
    {
      "cell_type": "markdown",
      "metadata": {
        "id": "p2JqCzC0b6mU"
      },
      "source": [
        "Финальная метрика sMAPE на модели оказалась близкой к константной модели. Необходимо проверить разбросы средних по выборкам. Для начала оценим наши выборки. Это позволит нам выяснить какой параметр equal_var нам применять в тест Стьюдента. Проведем тест Левена и рассмотрим различатся ли дисперсии наших выборок. Для этапа `rougher`"
      ]
    },
    {
      "cell_type": "code",
      "metadata": {
        "colab": {
          "base_uri": "https://localhost:8080/"
        },
        "id": "xX2M3W6Kb6mU",
        "outputId": "b9d4cddf-53e3-4363-cdec-7036ff2d8ea6"
      },
      "source": [
        "pred_mean = pd.Series(final_predictions)\n",
        "const_mean = y_train_rougher_pred['rougher.output.recovery']\n",
        "\n",
        "alpha = .05\n",
        "stat, p = st.levene(pred_mean, const_mean)\n",
        "result_levene = p\n",
        "\n",
        "\n",
        "if result_levene < alpha:\n",
        "    print('Отвергаем Н0, дисперсии различаются, equal_var=False для ttest')\n",
        "else:\n",
        "    print(\"Не отвергаем Н0, дисперсии не различаются, equal_var=True для ttest\")\n",
        "\n",
        "var_sample = [np.var(x, ddof=1) for x in [pred_mean, const_mean]]\n",
        "print('Дисперсии по выборкам: ', var_sample)"
      ],
      "execution_count": 72,
      "outputs": [
        {
          "output_type": "stream",
          "text": [
            "Отвергаем Н0, дисперсии различаются, equal_var=False для ttest\n",
            "Дисперсии по выборкам:  [9.175597631632882e-23, 122.36374422223983]\n"
          ],
          "name": "stdout"
        }
      ]
    },
    {
      "cell_type": "markdown",
      "metadata": {
        "id": "9IwOZGMFb6mU"
      },
      "source": [
        "Построим гипотезы:\n",
        " Сформулируем ее как Гипотезу о равенстве средних двух генеральных совокупностей\n",
        " - **H0 (нулевая гипотеза)**: средние предсказания **равны** среднему константной модели.\n",
        "   \n",
        " - **H1 (альтернативная гипотеза)**:  средние предсказания **не равны** среднему константной модели."
      ]
    },
    {
      "cell_type": "code",
      "metadata": {
        "colab": {
          "base_uri": "https://localhost:8080/"
        },
        "id": "9RSQu7R8b6mU",
        "outputId": "c9dac116-5fad-4e9e-9711-e36b462adf90"
      },
      "source": [
        "alpha = .05 \n",
        "results = st.ttest_ind(pred_mean, const_mean, equal_var=False)\n",
        "\n",
        "print('p-значение:', results.pvalue)\n",
        "\n",
        "if results.pvalue < alpha:\n",
        "    print(\"Отвергаем Н0\")\n",
        "else:\n",
        "    print(\"Не отвергаем Н0\")\n"
      ],
      "execution_count": 73,
      "outputs": [
        {
          "output_type": "stream",
          "text": [
            "p-значение: 0.9999999999997384\n",
            "Не отвергаем Н0\n"
          ],
          "name": "stdout"
        }
      ]
    },
    {
      "cell_type": "code",
      "metadata": {
        "colab": {
          "base_uri": "https://localhost:8080/"
        },
        "id": "TFcEsrKeb6mU",
        "outputId": "9de97dfe-8f42-45c9-d03e-bf57b1ead6d4"
      },
      "source": [
        "pred_mean.mean(), const_mean.mean()"
      ],
      "execution_count": 74,
      "outputs": [
        {
          "output_type": "execute_result",
          "data": {
            "text/plain": [
              "(83.16912567021404, 83.16912567020388)"
            ]
          },
          "metadata": {
            "tags": []
          },
          "execution_count": 74
        }
      ]
    },
    {
      "cell_type": "markdown",
      "metadata": {
        "id": "sdVSAQJEb6mU"
      },
      "source": [
        "Действительно, по этапу `rougher` средние не различаются в нашем случае. Наша модель чуть лучше константной, но нам необходимо получить дополнительные параметры производства и попробовать обучить модель еще раз - думаю, что параметры производства будут полезны в данной ситуации. Проверим этап очистки"
      ]
    },
    {
      "cell_type": "code",
      "metadata": {
        "colab": {
          "base_uri": "https://localhost:8080/"
        },
        "id": "jfvfK8C6b6mU",
        "outputId": "c1df3058-2b2f-41fa-8ad8-5da3d3235cbd"
      },
      "source": [
        "pred_mean = pd.Series(final_predictions_final)\n",
        "const_mean = y_train_final_pred['final.output.recovery']\n",
        "\n",
        "alpha = .05\n",
        "stat, p = st.levene(pred_mean, const_mean)\n",
        "result_levene = p\n",
        "\n",
        "\n",
        "if result_levene < alpha:\n",
        "    print('Отвергаем Н0, дисперсии различаются, equal_var=False для ttest')\n",
        "else:\n",
        "    print(\"Не отвергаем Н0, дисперсии не различаются, equal_var=True для ttest\")\n",
        "\n",
        "var_sample = [np.var(x, ddof=1) for x in [pred_mean, const_mean]]\n",
        "print('Дисперсии по выборкам: ', var_sample)"
      ],
      "execution_count": 75,
      "outputs": [
        {
          "output_type": "stream",
          "text": [
            "Отвергаем Н0, дисперсии различаются, equal_var=False для ttest\n",
            "Дисперсии по выборкам:  [6.289019849113184e-23, 138.30708055740732]\n"
          ],
          "name": "stdout"
        }
      ]
    },
    {
      "cell_type": "code",
      "metadata": {
        "colab": {
          "base_uri": "https://localhost:8080/"
        },
        "id": "XSitkpzzb6mV",
        "outputId": "224c19d5-5d12-4624-df9d-a78851cd5cf9"
      },
      "source": [
        "alpha = .05 \n",
        "results = st.ttest_ind(pred_mean, const_mean, equal_var=False)\n",
        "\n",
        "print('p-значение:', results.pvalue)\n",
        "\n",
        "if results.pvalue < alpha:\n",
        "    print(\"Отвергаем Н0\")\n",
        "else:\n",
        "    print(\"Не отвергаем Н0\")\n"
      ],
      "execution_count": 76,
      "outputs": [
        {
          "output_type": "stream",
          "text": [
            "p-значение: 0.9999999999997509\n",
            "Не отвергаем Н0\n"
          ],
          "name": "stdout"
        }
      ]
    },
    {
      "cell_type": "markdown",
      "metadata": {
        "id": "fcbD8izUb6mV"
      },
      "source": [
        "В обоих случаях не отвергли нулевую гипотезу. Необходимо попробовать взять для обучения дополнительные параметры производства, не только концентрации веществ"
      ]
    },
    {
      "cell_type": "markdown",
      "metadata": {
        "id": "Khln7mdvb6mV"
      },
      "source": [
        "<a href=\"#footer\">К содержанию</a>\n",
        "\n",
        "<footer id=\"footer\"></footer>"
      ]
    },
    {
      "cell_type": "markdown",
      "metadata": {
        "id": "ek7UCOY_b6mV"
      },
      "source": [
        "### Обучение моделей с кросс-валидацией на обучающей выборке (с очищенными от выбросов и нулевых значений)"
      ]
    },
    {
      "cell_type": "markdown",
      "metadata": {
        "id": "2HyNlnNwb6mV"
      },
      "source": [
        "Подготовим наши очищенные данные для обучения"
      ]
    },
    {
      "cell_type": "code",
      "metadata": {
        "id": "TffMgX3db6mV"
      },
      "source": [
        "num_pipeline_rougher_clean = Pipeline([\n",
        "        ('imputer', SimpleImputer(missing_values=np.nan, strategy='mean')),\n",
        "        ('std_scaler', StandardScaler()),\n",
        "    ])\n",
        "\n",
        "num_pipeline_final_clean = Pipeline([\n",
        "        ('imputer', SimpleImputer(missing_values=np.nan, strategy='mean')),\n",
        "        ('std_scaler', StandardScaler()),\n",
        "    ])"
      ],
      "execution_count": 77,
      "outputs": []
    },
    {
      "cell_type": "code",
      "metadata": {
        "id": "nygtzy2Gb6mV"
      },
      "source": [
        "y_train_rougher_2 = ffill_y(y_train_rougher_clean)\n",
        "y_train_final_2 =  ffill_y(y_train_final_clean)\n",
        "\n",
        "X_train_rougher_pred_clean, y_train_rougher_pred_clean = drop_zeros(X_train_rougher_clean, y_train_rougher_2)\n",
        "X_train_final_pred_clean, y_train_final_pred_clean = drop_zeros(X_train_final_clean, y_train_final_2)"
      ],
      "execution_count": 78,
      "outputs": []
    },
    {
      "cell_type": "code",
      "metadata": {
        "id": "cSUB07KAb6mV"
      },
      "source": [
        "X_train_rougher_prep_clean = num_pipeline_rougher_clean.fit_transform(X_train_rougher_pred_clean)\n",
        "X_train_final_prep_clean = num_pipeline_final_clean.fit_transform(X_train_final_pred_clean)"
      ],
      "execution_count": 79,
      "outputs": []
    },
    {
      "cell_type": "markdown",
      "metadata": {
        "id": "4O15HlZYb6mV"
      },
      "source": [
        "Возьмем аналогичные модели и обучим их. Посмотрим на нашу метрику"
      ]
    },
    {
      "cell_type": "code",
      "metadata": {
        "id": "fuDZZ6B1b6mV"
      },
      "source": [
        "models_1 = [RandomForestRegressor(random_state=42), LinearRegression(), Lasso(alpha=0.1), Ridge()]"
      ],
      "execution_count": 80,
      "outputs": []
    },
    {
      "cell_type": "code",
      "metadata": {
        "colab": {
          "base_uri": "https://localhost:8080/"
        },
        "id": "wY0XSSWob6mV",
        "outputId": "120d6c6c-bd30-4de2-e101-868ee72d2201"
      },
      "source": [
        "%%time\n",
        "results_cross_val = []\n",
        "for model in models_1: \n",
        "            \n",
        "    cross_val_score_rougher = cross_val_score(model, \n",
        "                                              X_train_rougher_prep_clean, \n",
        "                                              y_train_rougher_pred_clean, \n",
        "                                              cv=5, scoring=scorer).mean()\n",
        "    cross_val_score_final = cross_val_score(model, \n",
        "                                            X_train_final_prep_clean, \n",
        "                                            y_train_final_pred_clean, \n",
        "                                            cv=5, scoring=scorer).mean()\n",
        "\n",
        "    results_cross_val.append({'model name': model.__class__.__name__, \n",
        "                              'cross_val_score_rougher': cross_val_score_rougher, \n",
        "                              'cross_val_score_final': cross_val_score_final}) \n",
        "              \n",
        "result_clean = pd.DataFrame(results_cross_val)"
      ],
      "execution_count": 81,
      "outputs": [
        {
          "output_type": "stream",
          "text": [
            "CPU times: user 1min 27s, sys: 904 ms, total: 1min 28s\n",
            "Wall time: 1min 27s\n"
          ],
          "name": "stdout"
        }
      ]
    },
    {
      "cell_type": "code",
      "metadata": {
        "colab": {
          "base_uri": "https://localhost:8080/",
          "height": 173
        },
        "id": "NaZenZbYb6mW",
        "outputId": "b5702d6d-cfae-4146-f9d4-9af16747d43c"
      },
      "source": [
        "result_clean"
      ],
      "execution_count": 82,
      "outputs": [
        {
          "output_type": "execute_result",
          "data": {
            "text/html": [
              "<div>\n",
              "<style scoped>\n",
              "    .dataframe tbody tr th:only-of-type {\n",
              "        vertical-align: middle;\n",
              "    }\n",
              "\n",
              "    .dataframe tbody tr th {\n",
              "        vertical-align: top;\n",
              "    }\n",
              "\n",
              "    .dataframe thead th {\n",
              "        text-align: right;\n",
              "    }\n",
              "</style>\n",
              "<table border=\"1\" class=\"dataframe\">\n",
              "  <thead>\n",
              "    <tr style=\"text-align: right;\">\n",
              "      <th></th>\n",
              "      <th>model name</th>\n",
              "      <th>cross_val_score_rougher</th>\n",
              "      <th>cross_val_score_final</th>\n",
              "    </tr>\n",
              "  </thead>\n",
              "  <tbody>\n",
              "    <tr>\n",
              "      <th>0</th>\n",
              "      <td>RandomForestRegressor</td>\n",
              "      <td>-7.837002</td>\n",
              "      <td>-12.919162</td>\n",
              "    </tr>\n",
              "    <tr>\n",
              "      <th>1</th>\n",
              "      <td>LinearRegression</td>\n",
              "      <td>-7.912719</td>\n",
              "      <td>-12.414103</td>\n",
              "    </tr>\n",
              "    <tr>\n",
              "      <th>2</th>\n",
              "      <td>Lasso</td>\n",
              "      <td>-7.464207</td>\n",
              "      <td>-11.836813</td>\n",
              "    </tr>\n",
              "    <tr>\n",
              "      <th>3</th>\n",
              "      <td>Ridge</td>\n",
              "      <td>-7.907467</td>\n",
              "      <td>-12.398676</td>\n",
              "    </tr>\n",
              "  </tbody>\n",
              "</table>\n",
              "</div>"
            ],
            "text/plain": [
              "              model name  cross_val_score_rougher  cross_val_score_final\n",
              "0  RandomForestRegressor                -7.837002             -12.919162\n",
              "1       LinearRegression                -7.912719             -12.414103\n",
              "2                  Lasso                -7.464207             -11.836813\n",
              "3                  Ridge                -7.907467             -12.398676"
            ]
          },
          "metadata": {
            "tags": []
          },
          "execution_count": 82
        }
      ]
    },
    {
      "cell_type": "code",
      "metadata": {
        "colab": {
          "base_uri": "https://localhost:8080/"
        },
        "id": "GpVegjLKb6mW",
        "outputId": "c62b273c-caf3-4ecf-d8fe-8f384c823de5"
      },
      "source": [
        "%%time\n",
        "param_grid = [{'fit_intercept': [True, False]}]\n",
        "\n",
        "lasso_reg = Lasso(alpha=0.1, normalize=True, max_iter=750)\n",
        "\n",
        "grid_search_clean = GridSearchCV(lasso_reg, param_grid, cv=5,\n",
        "                           scoring=scorer, return_train_score=True)\n",
        "grid_search_clean.fit(X_train_rougher_prep_clean, y_train_rougher_pred_clean)"
      ],
      "execution_count": 83,
      "outputs": [
        {
          "output_type": "stream",
          "text": [
            "CPU times: user 1.53 s, sys: 1.61 s, total: 3.14 s\n",
            "Wall time: 1.63 s\n"
          ],
          "name": "stdout"
        }
      ]
    },
    {
      "cell_type": "code",
      "metadata": {
        "colab": {
          "base_uri": "https://localhost:8080/"
        },
        "id": "wLvhEgNmb6mW",
        "outputId": "806cc96f-083b-4719-d964-c601d311175d"
      },
      "source": [
        "final_model = grid_search_clean.best_estimator_\n",
        "\n",
        "X_test_rougher_pred_clean = num_pipeline_rougher_clean.transform(X_test_rougher_clean)\n",
        "y_test_clean = ffill_y(df.loc[X_test_rougher_clean.index, 'rougher.output.recovery'])\n",
        "\n",
        "final_predictions = final_model.predict(X_test_rougher_pred_clean)\n",
        "rougher_clean = smape(final_predictions, y_test_clean)\n",
        "print('sMAPE = {:.2f}'.format(rougher_clean))"
      ],
      "execution_count": 84,
      "outputs": [
        {
          "output_type": "stream",
          "text": [
            "sMAPE = 6.51\n"
          ],
          "name": "stdout"
        }
      ]
    },
    {
      "cell_type": "code",
      "metadata": {
        "colab": {
          "base_uri": "https://localhost:8080/"
        },
        "id": "eFc8tYtfb6mW",
        "outputId": "4fd5488d-ed43-4d76-8685-aee664e6b3b2"
      },
      "source": [
        "%%time\n",
        "param_grid_final = [{'fit_intercept': [True, False]}]\n",
        "\n",
        "lasso_reg_final_clean = Lasso(alpha=0.1, normalize=True, max_iter=750)\n",
        "\n",
        "grid_search_final_clean = GridSearchCV(lasso_reg_final_clean, param_grid_final, cv=5,\n",
        "                           scoring=scorer, return_train_score=True)\n",
        "grid_search_final_clean.fit(X_train_final_prep_clean, y_train_final_pred_clean)"
      ],
      "execution_count": 85,
      "outputs": [
        {
          "output_type": "stream",
          "text": [
            "CPU times: user 1.64 s, sys: 1.54 s, total: 3.17 s\n",
            "Wall time: 1.67 s\n"
          ],
          "name": "stdout"
        }
      ]
    },
    {
      "cell_type": "code",
      "metadata": {
        "colab": {
          "base_uri": "https://localhost:8080/"
        },
        "id": "kW-M5kjyb6mW",
        "outputId": "406f41c9-46f9-4360-8b2c-a30e9b8a30b5"
      },
      "source": [
        "final_model_fin = grid_search_final_clean.best_estimator_\n",
        "X_test_final_pred_clean = num_pipeline_final_clean.transform(X_test_final_clean)\n",
        "y_test_fin_clean = ffill_y(df.loc[X_test_final_clean.index, 'final.output.recovery'])\n",
        "\n",
        "final_predictions_final = final_model_fin.predict(X_test_final_pred_clean)\n",
        "final_clean = smape(final_predictions_final, y_test_fin_clean)\n",
        "print('sMAPE = {:.2f}'.format(final_clean))"
      ],
      "execution_count": 86,
      "outputs": [
        {
          "output_type": "stream",
          "text": [
            "sMAPE = 6.41\n"
          ],
          "name": "stdout"
        }
      ]
    },
    {
      "cell_type": "code",
      "metadata": {
        "colab": {
          "base_uri": "https://localhost:8080/"
        },
        "id": "r8K_czDSb6mX",
        "outputId": "7287d613-8e19-47f3-87c5-14782b3c5b75"
      },
      "source": [
        "print('Финальный sMAPE = {:.6f}'.format(smape_final (rougher_clean, final_clean)))"
      ],
      "execution_count": 87,
      "outputs": [
        {
          "output_type": "stream",
          "text": [
            "Финальный sMAPE = 6.437567\n"
          ],
          "name": "stdout"
        }
      ]
    },
    {
      "cell_type": "code",
      "metadata": {
        "colab": {
          "base_uri": "https://localhost:8080/"
        },
        "id": "A-N121OEb6mX",
        "outputId": "1a8cdef9-4c61-4cf8-9937-b4d2c6a31806"
      },
      "source": [
        "predicted_valid_rog_clean = pd.Series(y_train_rougher_pred_clean['rougher.output.recovery'].mean(), index=y_test_clean.index)\n",
        "rog_clean = smape(y_test_clean, predicted_valid_rog_clean)\n",
        "\n",
        "predicted_valid_fin_clean = pd.Series(y_train_final_pred_clean['final.output.recovery'].mean(), index=y_test_fin_clean.index)\n",
        "fin_clean = smape(y_test_fin_clean, predicted_valid_fin_clean)\n",
        "\n",
        "print('Финальный sMAPE константной модели = {:.5f}'.format(smape_final (rog_clean, fin_clean)))"
      ],
      "execution_count": 88,
      "outputs": [
        {
          "output_type": "stream",
          "text": [
            "Финальный sMAPE константной модели = 6.43757\n"
          ],
          "name": "stdout"
        }
      ]
    },
    {
      "cell_type": "code",
      "metadata": {
        "colab": {
          "base_uri": "https://localhost:8080/"
        },
        "id": "2YGFx370b6mX",
        "outputId": "c8128517-be85-4201-cb69-20edd783f6ad"
      },
      "source": [
        "predicted_valid_rog_clean = pd.Series(float(y_train_rougher_pred_clean.mean()), index=y_test_clean.index)\n",
        "rog_clean = smape(y_test_clean, predicted_valid_rog_clean)\n",
        "\n",
        "predicted_valid_fin_clean = pd.Series(float(y_train_final_pred_clean.mean()), index=y_test_fin_clean.index)\n",
        "fin_clean = smape(y_test_fin_clean, predicted_valid_fin_clean)\n",
        "\n",
        "print('Финальный sMAPE константной модели = {:.6f}'.format(smape_final (rog_clean, fin_clean)))"
      ],
      "execution_count": 89,
      "outputs": [
        {
          "output_type": "stream",
          "text": [
            "Финальный sMAPE константной модели = 6.437567\n"
          ],
          "name": "stdout"
        }
      ]
    },
    {
      "cell_type": "markdown",
      "metadata": {
        "id": "jb-fNqjab6mX"
      },
      "source": [
        "Финальная метрика sMAPE на модели оказалась близкой к константной, но в данном случае обучение производили на неполных данных. Больше ориентируемся на первый вариант"
      ]
    },
    {
      "cell_type": "markdown",
      "metadata": {
        "id": "QN-QjB6kb6mX"
      },
      "source": [
        "<a href=\"#footer\">К содержанию</a>\n",
        "\n",
        "<footer id=\"footer\"></footer>"
      ]
    },
    {
      "cell_type": "markdown",
      "metadata": {
        "id": "Sd7wL6v8b6mX"
      },
      "source": [
        "## Вывод"
      ]
    },
    {
      "cell_type": "markdown",
      "metadata": {
        "id": "mTuqyqxMb6mY"
      },
      "source": [
        "Необходимо было подготовить прототип модели машинного обучения для «Цифры». \n",
        "\n",
        "Модель должна предсказать коэффициент восстановления золота из золотосодержащей руды. Нам предоставлены данные с параметрами добычи и очистки.\n",
        "\n",
        "В результате проведенного исследования, выяснили что предоставленный тестовый сет отличается по содержанию от обучающего. Было принято решение проводить обучение только по признакам, схожих в обоих сетах даннов.  \n",
        "\n",
        "В процессе исследования выяснили, что в сетах присутствуют аномалии - нулевые значения концентраций веществ, что вероятнее всего - ошибка, так как мы предлагаем, что следы того или иного металла так или иначе должны присутствовать  \n",
        "\n",
        "Мы обучили модели на двух группах даннах - с выбросами и без выбросов. Лучший результат по метрике sMAPE показала модель на основе алгоритма Lasso, **модель незначительно лучше константной**\n",
        "\n",
        "Таким образом, необходимо более тщательно изучить производственный процесс, получить дополнительные признаки для улучшения модели"
      ]
    },
    {
      "cell_type": "markdown",
      "metadata": {
        "id": "BR1dilBrb6mY"
      },
      "source": [
        "<a href=\"#footer\">К содержанию</a>\n",
        "\n",
        "<footer id=\"footer\"></footer>"
      ]
    }
  ]
}