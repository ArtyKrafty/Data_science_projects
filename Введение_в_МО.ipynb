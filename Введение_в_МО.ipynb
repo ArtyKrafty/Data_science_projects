{
  "nbformat": 4,
  "nbformat_minor": 0,
  "metadata": {
    "kernelspec": {
      "display_name": "Python 3",
      "language": "python",
      "name": "python3"
    },
    "language_info": {
      "codemirror_mode": {
        "name": "ipython",
        "version": 3
      },
      "file_extension": ".py",
      "mimetype": "text/x-python",
      "name": "python",
      "nbconvert_exporter": "python",
      "pygments_lexer": "ipython3",
      "version": "3.7.8"
    },
    "toc": {
      "base_numbering": 1,
      "nav_menu": {},
      "number_sections": true,
      "sideBar": true,
      "skip_h1_title": true,
      "title_cell": "Table of Contents",
      "title_sidebar": "Contents",
      "toc_cell": false,
      "toc_position": {
        "height": "calc(100% - 180px)",
        "left": "10px",
        "top": "150px",
        "width": "270.391px"
      },
      "toc_section_display": true,
      "toc_window_display": false
    },
    "colab": {
      "name": "Введение в МО.ipynb",
      "provenance": [],
      "include_colab_link": true
    }
  },
  "cells": [
    {
      "cell_type": "markdown",
      "metadata": {
        "id": "view-in-github",
        "colab_type": "text"
      },
      "source": [
        "<a href=\"https://colab.research.google.com/github/ArtyKrafty/Kraftyy/blob/main/%D0%92%D0%B2%D0%B5%D0%B4%D0%B5%D0%BD%D0%B8%D0%B5_%D0%B2_%D0%9C%D0%9E.ipynb\" target=\"_parent\"><img src=\"https://colab.research.google.com/assets/colab-badge.svg\" alt=\"Open In Colab\"/></a>"
      ]
    },
    {
      "cell_type": "markdown",
      "metadata": {
        "id": "HgXcCIVB4il1"
      },
      "source": [
        "# Рекомендация тарифов"
      ]
    },
    {
      "cell_type": "markdown",
      "metadata": {
        "id": "bK0Th2w74il1"
      },
      "source": [
        "В нашем распоряжении данные о поведении клиентов, которые уже перешли на тариф \"Ултра\" и \"Смарт\".  \n",
        "\n",
        "Необходимо построить модель для задачи классификации, которая выберет подходящий тариф для клиента. \n",
        "\n",
        "Выходные данные передаваться никуда не будут, конечная цель - построение модели. В качестве критериев качества выберем `Accuracy` и `F1-score` - `Recall` и `Precision` отдельно смотреть не будем, проверку будем проводить с помощью тестового и валидационного набора данных без кросс-валидации.\n",
        "\n",
        "*Примечание* пороговая правильность `0.75`\n"
      ]
    },
    {
      "cell_type": "markdown",
      "metadata": {
        "id": "S1fhjVEI4il1"
      },
      "source": [
        "## Загрузка библиотек и файла\n",
        "### Осмотр структуры файла"
      ]
    },
    {
      "cell_type": "code",
      "metadata": {
        "colab": {
          "base_uri": "https://localhost:8080/"
        },
        "id": "Qiv2jSls5poV",
        "outputId": "cdcfd61c-625c-410a-db63-a8076195965a"
      },
      "source": [
        "!pip install catboost"
      ],
      "execution_count": null,
      "outputs": [
        {
          "output_type": "stream",
          "text": [
            "Collecting catboost\n",
            "\u001b[?25l  Downloading https://files.pythonhosted.org/packages/47/80/8e9c57ec32dfed6ba2922bc5c96462cbf8596ce1a6f5de532ad1e43e53fe/catboost-0.25.1-cp37-none-manylinux1_x86_64.whl (67.3MB)\n",
            "\u001b[K     |████████████████████████████████| 67.3MB 57kB/s \n",
            "\u001b[?25hRequirement already satisfied: graphviz in /usr/local/lib/python3.7/dist-packages (from catboost) (0.10.1)\n",
            "Requirement already satisfied: numpy>=1.16.0 in /usr/local/lib/python3.7/dist-packages (from catboost) (1.19.5)\n",
            "Requirement already satisfied: six in /usr/local/lib/python3.7/dist-packages (from catboost) (1.15.0)\n",
            "Requirement already satisfied: scipy in /usr/local/lib/python3.7/dist-packages (from catboost) (1.4.1)\n",
            "Requirement already satisfied: pandas>=0.24.0 in /usr/local/lib/python3.7/dist-packages (from catboost) (1.1.5)\n",
            "Requirement already satisfied: matplotlib in /usr/local/lib/python3.7/dist-packages (from catboost) (3.2.2)\n",
            "Requirement already satisfied: plotly in /usr/local/lib/python3.7/dist-packages (from catboost) (4.4.1)\n",
            "Requirement already satisfied: python-dateutil>=2.7.3 in /usr/local/lib/python3.7/dist-packages (from pandas>=0.24.0->catboost) (2.8.1)\n",
            "Requirement already satisfied: pytz>=2017.2 in /usr/local/lib/python3.7/dist-packages (from pandas>=0.24.0->catboost) (2018.9)\n",
            "Requirement already satisfied: pyparsing!=2.0.4,!=2.1.2,!=2.1.6,>=2.0.1 in /usr/local/lib/python3.7/dist-packages (from matplotlib->catboost) (2.4.7)\n",
            "Requirement already satisfied: kiwisolver>=1.0.1 in /usr/local/lib/python3.7/dist-packages (from matplotlib->catboost) (1.3.1)\n",
            "Requirement already satisfied: cycler>=0.10 in /usr/local/lib/python3.7/dist-packages (from matplotlib->catboost) (0.10.0)\n",
            "Requirement already satisfied: retrying>=1.3.3 in /usr/local/lib/python3.7/dist-packages (from plotly->catboost) (1.3.3)\n",
            "Installing collected packages: catboost\n",
            "Successfully installed catboost-0.25.1\n"
          ],
          "name": "stdout"
        }
      ]
    },
    {
      "cell_type": "code",
      "metadata": {
        "id": "glv1jofB4il2"
      },
      "source": [
        "import pandas as pd\n",
        "import numpy as np\n",
        "%matplotlib inline\n",
        "import matplotlib.pyplot as plt\n",
        "import seaborn as sns\n",
        "sns.set_style(\"darkgrid\")\n",
        "from sklearn.model_selection import train_test_split\n",
        "from sklearn.model_selection import GridSearchCV\n",
        "from sklearn.tree import DecisionTreeClassifier\n",
        "from sklearn.linear_model import LogisticRegression\n",
        "from sklearn.ensemble import RandomForestClassifier\n",
        "from sklearn.neighbors import KNeighborsClassifier\n",
        "from sklearn.metrics import accuracy_score\n",
        "from sklearn.metrics import f1_score\n",
        "from catboost import CatBoostClassifier\n",
        "from sklearn.dummy import DummyClassifier"
      ],
      "execution_count": null,
      "outputs": []
    },
    {
      "cell_type": "markdown",
      "metadata": {
        "id": "j6LSLtHn4il2"
      },
      "source": [
        "Загрузим данные и посмотрим первые 5 строк для изучения объектов и атрибутов"
      ]
    },
    {
      "cell_type": "code",
      "metadata": {
        "colab": {
          "base_uri": "https://localhost:8080/"
        },
        "id": "S4bbISBp4qFH",
        "outputId": "f5dfd88c-49c9-448b-f818-b7c569aeff45"
      },
      "source": [
        "!gdown --id 1nPVCuV-apX3lcUfXsIerJVfEpL9TFkR8"
      ],
      "execution_count": null,
      "outputs": [
        {
          "output_type": "stream",
          "text": [
            "Downloading...\n",
            "From: https://drive.google.com/uc?id=1nPVCuV-apX3lcUfXsIerJVfEpL9TFkR8\n",
            "To: /content/users_behavior.csv\n",
            "\r  0% 0.00/134k [00:00<?, ?B/s]\r100% 134k/134k [00:00<00:00, 682kB/s]\n"
          ],
          "name": "stdout"
        }
      ]
    },
    {
      "cell_type": "code",
      "metadata": {
        "colab": {
          "base_uri": "https://localhost:8080/",
          "height": 204
        },
        "id": "3OHZ0Icf4il3",
        "outputId": "5160a768-7f26-4eed-cbaf-3e270423a242"
      },
      "source": [
        "users = pd.read_csv('/content/users_behavior.csv')\n",
        "users.head()"
      ],
      "execution_count": null,
      "outputs": [
        {
          "output_type": "execute_result",
          "data": {
            "text/html": [
              "<div>\n",
              "<style scoped>\n",
              "    .dataframe tbody tr th:only-of-type {\n",
              "        vertical-align: middle;\n",
              "    }\n",
              "\n",
              "    .dataframe tbody tr th {\n",
              "        vertical-align: top;\n",
              "    }\n",
              "\n",
              "    .dataframe thead th {\n",
              "        text-align: right;\n",
              "    }\n",
              "</style>\n",
              "<table border=\"1\" class=\"dataframe\">\n",
              "  <thead>\n",
              "    <tr style=\"text-align: right;\">\n",
              "      <th></th>\n",
              "      <th>calls</th>\n",
              "      <th>minutes</th>\n",
              "      <th>messages</th>\n",
              "      <th>mb_used</th>\n",
              "      <th>is_ultra</th>\n",
              "    </tr>\n",
              "  </thead>\n",
              "  <tbody>\n",
              "    <tr>\n",
              "      <th>0</th>\n",
              "      <td>40.0</td>\n",
              "      <td>311.90</td>\n",
              "      <td>83.0</td>\n",
              "      <td>19915.42</td>\n",
              "      <td>0</td>\n",
              "    </tr>\n",
              "    <tr>\n",
              "      <th>1</th>\n",
              "      <td>85.0</td>\n",
              "      <td>516.75</td>\n",
              "      <td>56.0</td>\n",
              "      <td>22696.96</td>\n",
              "      <td>0</td>\n",
              "    </tr>\n",
              "    <tr>\n",
              "      <th>2</th>\n",
              "      <td>77.0</td>\n",
              "      <td>467.66</td>\n",
              "      <td>86.0</td>\n",
              "      <td>21060.45</td>\n",
              "      <td>0</td>\n",
              "    </tr>\n",
              "    <tr>\n",
              "      <th>3</th>\n",
              "      <td>106.0</td>\n",
              "      <td>745.53</td>\n",
              "      <td>81.0</td>\n",
              "      <td>8437.39</td>\n",
              "      <td>1</td>\n",
              "    </tr>\n",
              "    <tr>\n",
              "      <th>4</th>\n",
              "      <td>66.0</td>\n",
              "      <td>418.74</td>\n",
              "      <td>1.0</td>\n",
              "      <td>14502.75</td>\n",
              "      <td>0</td>\n",
              "    </tr>\n",
              "  </tbody>\n",
              "</table>\n",
              "</div>"
            ],
            "text/plain": [
              "   calls  minutes  messages   mb_used  is_ultra\n",
              "0   40.0   311.90      83.0  19915.42         0\n",
              "1   85.0   516.75      56.0  22696.96         0\n",
              "2   77.0   467.66      86.0  21060.45         0\n",
              "3  106.0   745.53      81.0   8437.39         1\n",
              "4   66.0   418.74       1.0  14502.75         0"
            ]
          },
          "metadata": {
            "tags": []
          },
          "execution_count": 42
        }
      ]
    },
    {
      "cell_type": "markdown",
      "metadata": {
        "id": "vNqCBbPz4il3"
      },
      "source": [
        "Каждый объект в наборе данных — это информация о поведении одного пользователя за месяц. Известно:  \n",
        "\n",
        "- `сalls` — количество звонков,\n",
        "- `minutes` — суммарная длительность звонков в минутах,\n",
        "- `messages` — количество sms-сообщений,\n",
        "- `mb_used` — израсходованный интернет-трафик в Мб,\n",
        "- `is_ultra` — каким тарифом пользовался в течение месяца («Ультра» — 1, «Смарт» — 0)  \n",
        "\n",
        "Применим метод `info()` для получения краткого описания данных, их типа и количества, а также наличия пропусков:"
      ]
    },
    {
      "cell_type": "code",
      "metadata": {
        "colab": {
          "base_uri": "https://localhost:8080/"
        },
        "id": "G7kK0Utx4il4",
        "outputId": "cd068521-0217-497f-cab7-1c68ba9ef6c7"
      },
      "source": [
        "users.info()"
      ],
      "execution_count": null,
      "outputs": [
        {
          "output_type": "stream",
          "text": [
            "<class 'pandas.core.frame.DataFrame'>\n",
            "RangeIndex: 3214 entries, 0 to 3213\n",
            "Data columns (total 5 columns):\n",
            " #   Column    Non-Null Count  Dtype  \n",
            "---  ------    --------------  -----  \n",
            " 0   calls     3214 non-null   float64\n",
            " 1   minutes   3214 non-null   float64\n",
            " 2   messages  3214 non-null   float64\n",
            " 3   mb_used   3214 non-null   float64\n",
            " 4   is_ultra  3214 non-null   int64  \n",
            "dtypes: float64(4), int64(1)\n",
            "memory usage: 125.7 KB\n"
          ],
          "name": "stdout"
        }
      ]
    },
    {
      "cell_type": "markdown",
      "metadata": {
        "id": "w-8MIq3B4il4"
      },
      "source": [
        "В наборе данных 3214 строк. Достаточно мало, но попробовать построить модель можно. Пропусков нет, типы данных менять не требуется. Проверим дубликаты:"
      ]
    },
    {
      "cell_type": "code",
      "metadata": {
        "colab": {
          "base_uri": "https://localhost:8080/"
        },
        "id": "4qPslasf4il4",
        "outputId": "3bd73ee3-8dbb-4b32-d8bd-cbca370b2866"
      },
      "source": [
        "users.duplicated().sum()"
      ],
      "execution_count": null,
      "outputs": [
        {
          "output_type": "execute_result",
          "data": {
            "text/plain": [
              "0"
            ]
          },
          "metadata": {
            "tags": []
          },
          "execution_count": 44
        }
      ]
    },
    {
      "cell_type": "markdown",
      "metadata": {
        "id": "5bXKHnaB4il4"
      },
      "source": [
        "Посмотрим количества абонентов по тарифам:"
      ]
    },
    {
      "cell_type": "code",
      "metadata": {
        "colab": {
          "base_uri": "https://localhost:8080/"
        },
        "id": "zv-T1DQK4il5",
        "outputId": "81998d6f-ce89-4181-d568-0d756f1be781"
      },
      "source": [
        "users['is_ultra'].value_counts()"
      ],
      "execution_count": null,
      "outputs": [
        {
          "output_type": "execute_result",
          "data": {
            "text/plain": [
              "0    2229\n",
              "1     985\n",
              "Name: is_ultra, dtype: int64"
            ]
          },
          "metadata": {
            "tags": []
          },
          "execution_count": 45
        }
      ]
    },
    {
      "cell_type": "markdown",
      "metadata": {
        "id": "of6-vxI74il5"
      },
      "source": [
        "Применим метод `describe()` для получения информации о столбцах и разбросе значений:"
      ]
    },
    {
      "cell_type": "code",
      "metadata": {
        "colab": {
          "base_uri": "https://localhost:8080/",
          "height": 204
        },
        "id": "b2naHWZN4il5",
        "outputId": "3c127af3-b6d8-4ea5-f1b8-047794f59bb1"
      },
      "source": [
        "users.describe().T"
      ],
      "execution_count": null,
      "outputs": [
        {
          "output_type": "execute_result",
          "data": {
            "text/html": [
              "<div>\n",
              "<style scoped>\n",
              "    .dataframe tbody tr th:only-of-type {\n",
              "        vertical-align: middle;\n",
              "    }\n",
              "\n",
              "    .dataframe tbody tr th {\n",
              "        vertical-align: top;\n",
              "    }\n",
              "\n",
              "    .dataframe thead th {\n",
              "        text-align: right;\n",
              "    }\n",
              "</style>\n",
              "<table border=\"1\" class=\"dataframe\">\n",
              "  <thead>\n",
              "    <tr style=\"text-align: right;\">\n",
              "      <th></th>\n",
              "      <th>count</th>\n",
              "      <th>mean</th>\n",
              "      <th>std</th>\n",
              "      <th>min</th>\n",
              "      <th>25%</th>\n",
              "      <th>50%</th>\n",
              "      <th>75%</th>\n",
              "      <th>max</th>\n",
              "    </tr>\n",
              "  </thead>\n",
              "  <tbody>\n",
              "    <tr>\n",
              "      <th>calls</th>\n",
              "      <td>3214.0</td>\n",
              "      <td>63.038892</td>\n",
              "      <td>33.236368</td>\n",
              "      <td>0.0</td>\n",
              "      <td>40.0000</td>\n",
              "      <td>62.000</td>\n",
              "      <td>82.0000</td>\n",
              "      <td>244.00</td>\n",
              "    </tr>\n",
              "    <tr>\n",
              "      <th>minutes</th>\n",
              "      <td>3214.0</td>\n",
              "      <td>438.208787</td>\n",
              "      <td>234.569872</td>\n",
              "      <td>0.0</td>\n",
              "      <td>274.5750</td>\n",
              "      <td>430.600</td>\n",
              "      <td>571.9275</td>\n",
              "      <td>1632.06</td>\n",
              "    </tr>\n",
              "    <tr>\n",
              "      <th>messages</th>\n",
              "      <td>3214.0</td>\n",
              "      <td>38.281269</td>\n",
              "      <td>36.148326</td>\n",
              "      <td>0.0</td>\n",
              "      <td>9.0000</td>\n",
              "      <td>30.000</td>\n",
              "      <td>57.0000</td>\n",
              "      <td>224.00</td>\n",
              "    </tr>\n",
              "    <tr>\n",
              "      <th>mb_used</th>\n",
              "      <td>3214.0</td>\n",
              "      <td>17207.673836</td>\n",
              "      <td>7570.968246</td>\n",
              "      <td>0.0</td>\n",
              "      <td>12491.9025</td>\n",
              "      <td>16943.235</td>\n",
              "      <td>21424.7000</td>\n",
              "      <td>49745.73</td>\n",
              "    </tr>\n",
              "    <tr>\n",
              "      <th>is_ultra</th>\n",
              "      <td>3214.0</td>\n",
              "      <td>0.306472</td>\n",
              "      <td>0.461100</td>\n",
              "      <td>0.0</td>\n",
              "      <td>0.0000</td>\n",
              "      <td>0.000</td>\n",
              "      <td>1.0000</td>\n",
              "      <td>1.00</td>\n",
              "    </tr>\n",
              "  </tbody>\n",
              "</table>\n",
              "</div>"
            ],
            "text/plain": [
              "           count          mean          std  ...        50%         75%       max\n",
              "calls     3214.0     63.038892    33.236368  ...     62.000     82.0000    244.00\n",
              "minutes   3214.0    438.208787   234.569872  ...    430.600    571.9275   1632.06\n",
              "messages  3214.0     38.281269    36.148326  ...     30.000     57.0000    224.00\n",
              "mb_used   3214.0  17207.673836  7570.968246  ...  16943.235  21424.7000  49745.73\n",
              "is_ultra  3214.0      0.306472     0.461100  ...      0.000      1.0000      1.00\n",
              "\n",
              "[5 rows x 8 columns]"
            ]
          },
          "metadata": {
            "tags": []
          },
          "execution_count": 46
        }
      ]
    },
    {
      "cell_type": "markdown",
      "metadata": {
        "id": "BuCghRQz4il5"
      },
      "source": [
        "Построим гистограммы для всех атрибутов, чтобы посмотреть диапазон значений:"
      ]
    },
    {
      "cell_type": "code",
      "metadata": {
        "colab": {
          "base_uri": "https://localhost:8080/",
          "height": 879
        },
        "id": "cuREBEWE4il5",
        "outputId": "b4251a44-f258-4388-ceac-d3cb7f6bf1bc"
      },
      "source": [
        "users.hist(bins=50, figsize=(20,15), edgecolor='black', linewidth=2)\n",
        "plt.show()"
      ],
      "execution_count": null,
      "outputs": [
        {
          "output_type": "display_data",
          "data": {
            "image/png": "[encoded data removed]",
            "text/plain": [
              "<Figure size 1440x1080 with 6 Axes>"
            ]
          },
          "metadata": {
            "tags": []
          }
        }
      ]
    },
    {
      "cell_type": "code",
      "metadata": {
        "colab": {
          "base_uri": "https://localhost:8080/"
        },
        "id": "u25SnOrK4il6",
        "outputId": "62858aba-7720-4b19-9980-853e587c64a0"
      },
      "source": [
        "print('Контрольная сумма строк:', len(users))"
      ],
      "execution_count": null,
      "outputs": [
        {
          "output_type": "stream",
          "text": [
            "Контрольная сумма строк: 3214\n"
          ],
          "name": "stdout"
        }
      ]
    },
    {
      "cell_type": "markdown",
      "metadata": {
        "id": "FSM44ZqP4il6"
      },
      "source": [
        "### Вывод"
      ]
    },
    {
      "cell_type": "markdown",
      "metadata": {
        "id": "pXrJL1RR4il6"
      },
      "source": [
        "Критичных аномалий не выявлено, пропусков нет, дубликатов нет. Контрольное количество строк - 3214. Гистограммы положительно скошенные, имеют медленно убывающие хвосты, но в целом распределения достаточно близкие к колокообразным для целей МО. \n",
        "\n",
        "Преждем чем продолжить изучение данных необходимо разделить выборку на обучающую, валидационную и тестовую. Чтобы не допустить смещения из-за информационного просмотра данных - тестовую выборку отложим. Обратимся к ней в самом конце проекта после настройки моделей."
      ]
    },
    {
      "cell_type": "markdown",
      "metadata": {
        "id": "IgGnhOpC4il7"
      },
      "source": [
        "## Создание образцов данных"
      ]
    },
    {
      "cell_type": "markdown",
      "metadata": {
        "id": "licMsyww4il7"
      },
      "source": [
        "Для создания стратифицированных выборок данных недостаточно, поэтому применим функцию библиотеки `sklearn` - `train_test_split` и разделим данные случайным образом, сохранив одинаковые доли абонентов. Для начала создадим тестовый набор данных, который отложим до конца работы и получим новый сет, из которого отберем валидационную выборку и обучающую для построения и настройки модели."
      ]
    },
    {
      "cell_type": "markdown",
      "metadata": {
        "id": "EOymURHW4il7"
      },
      "source": [
        "### Создание тестового образца"
      ]
    },
    {
      "cell_type": "code",
      "metadata": {
        "id": "lUUVGKUa4il7"
      },
      "source": [
        "train, test_set = train_test_split(users, test_size=0.2, random_state=42)"
      ],
      "execution_count": null,
      "outputs": []
    },
    {
      "cell_type": "markdown",
      "metadata": {
        "id": "KkVefcGR4il7"
      },
      "source": [
        "Новый сет разделим на обучающую и валидационную выборки:"
      ]
    },
    {
      "cell_type": "markdown",
      "metadata": {
        "id": "l1qxDu7_4il8"
      },
      "source": [
        "### Создание валидационного и обучающего образцов"
      ]
    },
    {
      "cell_type": "code",
      "metadata": {
        "id": "BpkDxuOL4il8"
      },
      "source": [
        "train_set, valid_set = train_test_split(train, test_size=0.25, random_state=42)"
      ],
      "execution_count": null,
      "outputs": []
    },
    {
      "cell_type": "code",
      "metadata": {
        "colab": {
          "base_uri": "https://localhost:8080/"
        },
        "id": "8tSNMTZe4il8",
        "outputId": "4eb7e27e-ba5f-42bd-bad3-c3442b4f698f"
      },
      "source": [
        "print('Размер обучающей выборки', len(train_set))\n",
        "print('Размер валидационной выборки', len(valid_set))\n",
        "print('Размер тестовой выборки', len(test_set))"
      ],
      "execution_count": null,
      "outputs": [
        {
          "output_type": "stream",
          "text": [
            "Размер обучающей выборки 1928\n",
            "Размер валидационной выборки 643\n",
            "Размер тестовой выборки 643\n"
          ],
          "name": "stdout"
        }
      ]
    },
    {
      "cell_type": "code",
      "metadata": {
        "colab": {
          "base_uri": "https://localhost:8080/"
        },
        "id": "sGLTjtQv4il8",
        "outputId": "be3b0f9b-3c28-4c33-c142-38c861e24cd7"
      },
      "source": [
        "len(users) - (len(test_set) + len(train_set) + len(valid_set))"
      ],
      "execution_count": null,
      "outputs": [
        {
          "output_type": "execute_result",
          "data": {
            "text/plain": [
              "0"
            ]
          },
          "metadata": {
            "tags": []
          },
          "execution_count": 52
        }
      ]
    },
    {
      "cell_type": "markdown",
      "metadata": {
        "id": "tb2z1-mz4il9"
      },
      "source": [
        "Строки не потеряли, напишем функцию определения долей абонентов по выборкам для контроля и посмотрим эти доли:"
      ]
    },
    {
      "cell_type": "code",
      "metadata": {
        "id": "5n3nJkw84il9"
      },
      "source": [
        "def prop (data, column, set_name):\n",
        "    result = round((data[column].sum()/len(data[column])*100), 2)\n",
        "    return print(f'Доля в % абонентов «Ультра» в выборке {set_name}:',result)"
      ],
      "execution_count": null,
      "outputs": []
    },
    {
      "cell_type": "code",
      "metadata": {
        "colab": {
          "base_uri": "https://localhost:8080/"
        },
        "id": "dX0kIymH4il9",
        "outputId": "75aef5bc-1d35-4813-b192-50a1328555f9"
      },
      "source": [
        "prop(train_set,'is_ultra', '\"Тренировочный набор\"')\n",
        "prop(valid_set,'is_ultra', '\"Валидационный набор\"')\n",
        "prop(test_set,'is_ultra', '\"Тестовый набор\"')\n",
        "prop(users,'is_ultra', '\"Исходный набор\"')"
      ],
      "execution_count": null,
      "outputs": [
        {
          "output_type": "stream",
          "text": [
            "Доля в % абонентов «Ультра» в выборке \"Тренировочный набор\": 31.38\n",
            "Доля в % абонентов «Ультра» в выборке \"Валидационный набор\": 29.86\n",
            "Доля в % абонентов «Ультра» в выборке \"Тестовый набор\": 29.24\n",
            "Доля в % абонентов «Ультра» в выборке \"Исходный набор\": 30.65\n"
          ],
          "name": "stdout"
        }
      ]
    },
    {
      "cell_type": "markdown",
      "metadata": {
        "id": "vhitiQFe4il-"
      },
      "source": [
        "Перед построением моделей посмотрим наш начальный сет данных на предмет зависимостей"
      ]
    },
    {
      "cell_type": "code",
      "metadata": {
        "colab": {
          "base_uri": "https://localhost:8080/"
        },
        "id": "At7CnHyh4il-",
        "outputId": "0572814a-7182-433c-962e-46547432f830"
      },
      "source": [
        "users.corr()"
      ],
      "execution_count": null,
      "outputs": [
        {
          "output_type": "execute_result",
          "data": {
            "text/html": [
              "<div>\n",
              "<style scoped>\n",
              "    .dataframe tbody tr th:only-of-type {\n",
              "        vertical-align: middle;\n",
              "    }\n",
              "\n",
              "    .dataframe tbody tr th {\n",
              "        vertical-align: top;\n",
              "    }\n",
              "\n",
              "    .dataframe thead th {\n",
              "        text-align: right;\n",
              "    }\n",
              "</style>\n",
              "<table border=\"1\" class=\"dataframe\">\n",
              "  <thead>\n",
              "    <tr style=\"text-align: right;\">\n",
              "      <th></th>\n",
              "      <th>calls</th>\n",
              "      <th>minutes</th>\n",
              "      <th>messages</th>\n",
              "      <th>mb_used</th>\n",
              "      <th>is_ultra</th>\n",
              "    </tr>\n",
              "  </thead>\n",
              "  <tbody>\n",
              "    <tr>\n",
              "      <th>calls</th>\n",
              "      <td>1.000000</td>\n",
              "      <td>0.982083</td>\n",
              "      <td>0.177385</td>\n",
              "      <td>0.286442</td>\n",
              "      <td>0.207122</td>\n",
              "    </tr>\n",
              "    <tr>\n",
              "      <th>minutes</th>\n",
              "      <td>0.982083</td>\n",
              "      <td>1.000000</td>\n",
              "      <td>0.173110</td>\n",
              "      <td>0.280967</td>\n",
              "      <td>0.206955</td>\n",
              "    </tr>\n",
              "    <tr>\n",
              "      <th>messages</th>\n",
              "      <td>0.177385</td>\n",
              "      <td>0.173110</td>\n",
              "      <td>1.000000</td>\n",
              "      <td>0.195721</td>\n",
              "      <td>0.203830</td>\n",
              "    </tr>\n",
              "    <tr>\n",
              "      <th>mb_used</th>\n",
              "      <td>0.286442</td>\n",
              "      <td>0.280967</td>\n",
              "      <td>0.195721</td>\n",
              "      <td>1.000000</td>\n",
              "      <td>0.198568</td>\n",
              "    </tr>\n",
              "    <tr>\n",
              "      <th>is_ultra</th>\n",
              "      <td>0.207122</td>\n",
              "      <td>0.206955</td>\n",
              "      <td>0.203830</td>\n",
              "      <td>0.198568</td>\n",
              "      <td>1.000000</td>\n",
              "    </tr>\n",
              "  </tbody>\n",
              "</table>\n",
              "</div>"
            ],
            "text/plain": [
              "             calls   minutes  messages   mb_used  is_ultra\n",
              "calls     1.000000  0.982083  0.177385  0.286442  0.207122\n",
              "minutes   0.982083  1.000000  0.173110  0.280967  0.206955\n",
              "messages  0.177385  0.173110  1.000000  0.195721  0.203830\n",
              "mb_used   0.286442  0.280967  0.195721  1.000000  0.198568\n",
              "is_ultra  0.207122  0.206955  0.203830  0.198568  1.000000"
            ]
          },
          "metadata": {
            "tags": []
          },
          "execution_count": 55
        }
      ]
    },
    {
      "cell_type": "markdown",
      "metadata": {
        "id": "X_vUjOPl4il-"
      },
      "source": [
        "Сильная корреляция наблюдается между количеством звонков и минутами, что довольно логично. На первый взгляд выявить какую либо связь между артибутами и признаком Ультра не вышло. Визуализируем данные значения. По остальным атрибутам наблюдается низкая корреляция. Так или иначе - цель модели - классификация, задачи регрессии не ставилось"
      ]
    },
    {
      "cell_type": "code",
      "metadata": {
        "colab": {
          "base_uri": "https://localhost:8080/"
        },
        "id": "uai_kygr4il-",
        "outputId": "cd70f387-5d08-4bb4-cac4-f264c2fd09e5"
      },
      "source": [
        "plt.figure(figsize=(15,10))\n",
        "sns.heatmap(users.corr(),annot=True, cmap='mako', fmt='.2f')\n",
        "plt.title('Тепловая карта корреляции')\n",
        "plt.show()"
      ],
      "execution_count": null,
      "outputs": [
        {
          "output_type": "display_data",
          "data": {
            "image/png": "[encoded data removed]",
            "text/plain": [
              "<Figure size 1080x720 with 2 Axes>"
            ]
          },
          "metadata": {
            "tags": []
          }
        }
      ]
    },
    {
      "cell_type": "markdown",
      "metadata": {
        "id": "scy1yW2c4il_"
      },
      "source": [
        "### Вывод"
      ]
    },
    {
      "cell_type": "markdown",
      "metadata": {
        "id": "62lTEo_H4il_"
      },
      "source": [
        "Разделили выборку на три части: 60% - обучающий набор, 20% - валидационный набор, 20% - тестовый набор. Тестовый набор не смотрим, убрали до конца исследования. Доли абонентов сохранили, примерно равны по выборкам, корреляции сильной не наблюдается, кроме атрибутов звонков и минут, что довольно логично. Осмотр данных обучающего столбца аномалий не показал, можно приступать к исследованию моделей."
      ]
    },
    {
      "cell_type": "markdown",
      "metadata": {
        "id": "6cnrjL7N4il_"
      },
      "source": [
        "## Исследование моделей"
      ]
    },
    {
      "cell_type": "markdown",
      "metadata": {
        "id": "ZNtMNS2f4il_"
      },
      "source": [
        "Напишем функцию разделения выборки на целевой атрибут и атрибуты со свойствами (target и features)"
      ]
    },
    {
      "cell_type": "code",
      "metadata": {
        "id": "iZo0i4zC4imA"
      },
      "source": [
        "def split_data(data, target_column):\n",
        "    return data.drop(columns=[target_column], axis=1), data[target_column]"
      ],
      "execution_count": null,
      "outputs": []
    },
    {
      "cell_type": "markdown",
      "metadata": {
        "id": "AFqOsX0E4imA"
      },
      "source": [
        "Разделим нашу обучающую выборку для построение моделей:"
      ]
    },
    {
      "cell_type": "code",
      "metadata": {
        "id": "m8NfHQrS4imA"
      },
      "source": [
        "df_features, df_target = split_data(train_set,'is_ultra')\n",
        "valid_features, valid_target = split_data(valid_set,'is_ultra')"
      ],
      "execution_count": null,
      "outputs": []
    },
    {
      "cell_type": "markdown",
      "metadata": {
        "id": "gyifwdNt4imA"
      },
      "source": [
        "### Деревья принятия решений"
      ]
    },
    {
      "cell_type": "markdown",
      "metadata": {
        "id": "AONLuJKi4imA"
      },
      "source": [
        "#### Базовое дерево"
      ]
    },
    {
      "cell_type": "code",
      "metadata": {
        "colab": {
          "base_uri": "https://localhost:8080/"
        },
        "id": "gIR6o5m44imA",
        "outputId": "b541fef6-dc31-4f75-ffb4-67b5dc35d283"
      },
      "source": [
        "model = DecisionTreeClassifier(random_state=42)\n",
        "model.fit(df_features, df_target)\n",
        "\n",
        "\n",
        "valid_predictions = model.predict(valid_features)\n",
        "valid_acc = accuracy_score(valid_target, valid_predictions)\n",
        "\n",
        "print(\"Accuracy\")\n",
        "print(\"Валидационная выборка:\", valid_acc)"
      ],
      "execution_count": null,
      "outputs": [
        {
          "output_type": "error",
          "ename": "NameError",
          "evalue": "ignored",
          "traceback": [
            "\u001b[0;31m---------------------------------------------------------------------------\u001b[0m",
            "\u001b[0;31mNameError\u001b[0m                                 Traceback (most recent call last)",
            "\u001b[0;32m<ipython-input-1-77f0b303b5da>\u001b[0m in \u001b[0;36m<module>\u001b[0;34m()\u001b[0m\n\u001b[0;32m----> 1\u001b[0;31m \u001b[0mmodel\u001b[0m \u001b[0;34m=\u001b[0m \u001b[0mDecisionTreeClassifier\u001b[0m\u001b[0;34m(\u001b[0m\u001b[0mrandom_state\u001b[0m\u001b[0;34m=\u001b[0m\u001b[0;36m42\u001b[0m\u001b[0;34m)\u001b[0m\u001b[0;34m\u001b[0m\u001b[0;34m\u001b[0m\u001b[0m\n\u001b[0m\u001b[1;32m      2\u001b[0m \u001b[0mmodel\u001b[0m\u001b[0;34m.\u001b[0m\u001b[0mfit\u001b[0m\u001b[0;34m(\u001b[0m\u001b[0mdf_features\u001b[0m\u001b[0;34m,\u001b[0m \u001b[0mdf_target\u001b[0m\u001b[0;34m)\u001b[0m\u001b[0;34m\u001b[0m\u001b[0;34m\u001b[0m\u001b[0m\n\u001b[1;32m      3\u001b[0m \u001b[0;34m\u001b[0m\u001b[0m\n\u001b[1;32m      4\u001b[0m \u001b[0;34m\u001b[0m\u001b[0m\n\u001b[1;32m      5\u001b[0m \u001b[0mvalid_predictions\u001b[0m \u001b[0;34m=\u001b[0m \u001b[0mmodel\u001b[0m\u001b[0;34m.\u001b[0m\u001b[0mpredict\u001b[0m\u001b[0;34m(\u001b[0m\u001b[0mvalid_features\u001b[0m\u001b[0;34m)\u001b[0m\u001b[0;34m\u001b[0m\u001b[0;34m\u001b[0m\u001b[0m\n",
            "\u001b[0;31mNameError\u001b[0m: name 'DecisionTreeClassifier' is not defined"
          ]
        }
      ]
    },
    {
      "cell_type": "markdown",
      "metadata": {
        "id": "3S4Ae-de4imA"
      },
      "source": [
        "На тестовой выборке правильность ниже, дерево переобучается, необходимо настроить параметры и гиперпараметры. Сделаем это с помощью функции `GridSearchCV`, настраивает и подбирать будем минимальное число самплов для разделения и глубину дерева, оценивать будем по правильности:"
      ]
    },
    {
      "cell_type": "code",
      "metadata": {
        "id": "Q3gUWoc-4imB"
      },
      "source": [
        "param_grid = {'min_samples_split': range(2, 15),\n",
        "              'max_depth': [None, 6, 7, 8, 9, 10]\n",
        "             }\n",
        "\n",
        "model = DecisionTreeClassifier (random_state=42)\n",
        "\n",
        "grid_search = GridSearchCV(model, param_grid, cv=5,\n",
        "                           scoring='accuracy'\n",
        "                          )\n",
        "grid_search.fit(df_features, df_target)"
      ],
      "execution_count": null,
      "outputs": []
    },
    {
      "cell_type": "code",
      "metadata": {
        "id": "lzUEEKu04imB"
      },
      "source": [
        "grid_search.best_params_"
      ],
      "execution_count": null,
      "outputs": []
    },
    {
      "cell_type": "markdown",
      "metadata": {
        "id": "dp4pF7Nd4imB"
      },
      "source": [
        "Получили значения гиперпараметров для дерева. Применим"
      ]
    },
    {
      "cell_type": "markdown",
      "metadata": {
        "id": "gVuPJOvv4imC"
      },
      "source": [
        "#### Дерево с настройками"
      ]
    },
    {
      "cell_type": "code",
      "metadata": {
        "colab": {
          "base_uri": "https://localhost:8080/"
        },
        "id": "QRt-xiaq4imC",
        "outputId": "9aa2d94e-b7e0-4931-cdf6-ae645244462a"
      },
      "source": [
        "model_dtree = DecisionTreeClassifier(max_depth=7, min_samples_split=3, random_state=42)\n",
        "model_dtree.fit(df_features, df_target)\n",
        "\n",
        "\n",
        "valid_predictions = model_dtree.predict(valid_features)\n",
        "valid_acc = accuracy_score(valid_target, valid_predictions)\n",
        "\n",
        "print(\"Accuracy\")\n",
        "print(\"Валидационная выборка:\", valid_acc)"
      ],
      "execution_count": null,
      "outputs": [
        {
          "output_type": "stream",
          "text": [
            "Accuracy\n",
            "Валидационная выборка: 0.7884914463452566\n"
          ],
          "name": "stdout"
        }
      ]
    },
    {
      "cell_type": "markdown",
      "metadata": {
        "id": "1yI4UKIO4imC"
      },
      "source": [
        "#### Вывод\n",
        "\n",
        "С данными параметрами дерево более правильным. С этими параметрами будем испытывать дерево на тестовой выборке: `'max_depth': 7, 'min_samples_split': 3`"
      ]
    },
    {
      "cell_type": "markdown",
      "metadata": {
        "id": "YPoeT0Q54imC"
      },
      "source": [
        "### Логистическая регрессия"
      ]
    },
    {
      "cell_type": "markdown",
      "metadata": {
        "id": "VT8eyraK4imC"
      },
      "source": [
        "#### Базовая Логистическая регрессия"
      ]
    },
    {
      "cell_type": "markdown",
      "metadata": {
        "id": "x8Vx2nle4imD"
      },
      "source": [
        "Построим базовую модель для целей классификации на основе логистической регрессии, параметр `solver` примем как 'liblinear', так как выборка небольшая. Менять его не будем"
      ]
    },
    {
      "cell_type": "code",
      "metadata": {
        "colab": {
          "base_uri": "https://localhost:8080/"
        },
        "id": "c_2A0fMy4imD",
        "outputId": "f717dcef-91a1-4c36-d3fe-83f4857801b7"
      },
      "source": [
        "model = LogisticRegression(solver='liblinear',random_state=42)\n",
        "model.fit(df_features, df_target)\n",
        "\n",
        "\n",
        "valid_predictions = model.predict(valid_features)\n",
        "valid_acc = accuracy_score(valid_target, valid_predictions)\n",
        "\n",
        "print(\"Accuracy\")\n",
        "\n",
        "print(\"Валидационная выборка:\", valid_acc)"
      ],
      "execution_count": null,
      "outputs": [
        {
          "output_type": "stream",
          "text": [
            "Accuracy\n",
            "Валидационная выборка: 0.7216174183514774\n"
          ],
          "name": "stdout"
        }
      ]
    },
    {
      "cell_type": "markdown",
      "metadata": {
        "id": "Xj8LzEbz4imD"
      },
      "source": [
        "Модель показала хороший результат, но наш порог 0.75 - необходимо настроить модель, но мы видим что она не переобучается и недообучается. Настроим параметр `intercept_scaling` - для улучшения solver, `class_weight`, `C` - для дополнительного регулирования"
      ]
    },
    {
      "cell_type": "code",
      "metadata": {
        "colab": {
          "base_uri": "https://localhost:8080/"
        },
        "id": "pxb09Jh24imD",
        "outputId": "4aff8685-d887-4e40-86ae-d8bbe708b482"
      },
      "source": [
        "par_grid_logist = {\n",
        "                   'intercept_scaling': [0.5, 1.0, 1.5],\n",
        "                   'class_weight': [None, 'balanced'],\n",
        "                   'C': [0.5, 1, 1.5]\n",
        "                   }\n",
        "model = LogisticRegression(solver='liblinear',random_state=42)\n",
        "\n",
        "grid_search = GridSearchCV(model, par_grid_logist, cv=5,\n",
        "                           scoring='accuracy')\n",
        "grid_search.fit(df_features, df_target)"
      ],
      "execution_count": null,
      "outputs": [
        {
          "output_type": "execute_result",
          "data": {
            "text/plain": [
              "GridSearchCV(cv=5, error_score=nan,\n",
              "             estimator=LogisticRegression(C=1.0, class_weight=None, dual=False,\n",
              "                                          fit_intercept=True,\n",
              "                                          intercept_scaling=1, l1_ratio=None,\n",
              "                                          max_iter=100, multi_class='auto',\n",
              "                                          n_jobs=None, penalty='l2',\n",
              "                                          random_state=42, solver='liblinear',\n",
              "                                          tol=0.0001, verbose=0,\n",
              "                                          warm_start=False),\n",
              "             iid='deprecated', n_jobs=None,\n",
              "             param_grid={'C': [0.5, 1, 1.5], 'class_weight': [None, 'balanced'],\n",
              "                         'intercept_scaling': [0.5, 1.0, 1.5]},\n",
              "             pre_dispatch='2*n_jobs', refit=True, return_train_score=False,\n",
              "             scoring='accuracy', verbose=0)"
            ]
          },
          "metadata": {
            "tags": []
          },
          "execution_count": 64
        }
      ]
    },
    {
      "cell_type": "code",
      "metadata": {
        "colab": {
          "base_uri": "https://localhost:8080/"
        },
        "id": "UkbfHHHD4imE",
        "outputId": "8b4e89b9-7548-4405-e404-66c19a4d7ccf"
      },
      "source": [
        "grid_search.best_params_"
      ],
      "execution_count": null,
      "outputs": [
        {
          "output_type": "execute_result",
          "data": {
            "text/plain": [
              "{'C': 1.5, 'class_weight': None, 'intercept_scaling': 1.5}"
            ]
          },
          "metadata": {
            "tags": []
          },
          "execution_count": 65
        }
      ]
    },
    {
      "cell_type": "markdown",
      "metadata": {
        "id": "yvd2dzbj4imE"
      },
      "source": [
        "#### Логистическая регрессия с настройками"
      ]
    },
    {
      "cell_type": "code",
      "metadata": {
        "colab": {
          "base_uri": "https://localhost:8080/"
        },
        "id": "r_5EudKe4imE",
        "outputId": "486c539d-787f-45f1-9254-8f3b1d4f66f5"
      },
      "source": [
        "model_lreg = LogisticRegression(C=1.5, class_weight=None, intercept_scaling=1.5,\n",
        "                           solver='liblinear', random_state=42\n",
        "                          )\n",
        "model_lreg.fit(df_features, df_target)\n",
        "\n",
        "\n",
        "valid_predictions = model_lreg.predict(valid_features)\n",
        "valid_acc = accuracy_score(valid_target, valid_predictions)\n",
        "\n",
        "print(\"Accuracy\")\n",
        "\n",
        "print(\"Валидационная выборка:\", valid_acc)"
      ],
      "execution_count": null,
      "outputs": [
        {
          "output_type": "stream",
          "text": [
            "Accuracy\n",
            "Валидационная выборка: 0.7465007776049767\n"
          ],
          "name": "stdout"
        }
      ]
    },
    {
      "cell_type": "markdown",
      "metadata": {
        "id": "MJbuic1x4imE"
      },
      "source": [
        "#### Вывод  \n",
        "\n",
        "Модель сильно не улучшилась, мы находимся на пороге правильности. Модель не очень хорошо себя ведет с этими данными. Проверим на тестовой выборке с найденными параметрами и оценим модель."
      ]
    },
    {
      "cell_type": "markdown",
      "metadata": {
        "id": "UzNIM0L04imE"
      },
      "source": [
        "### Случайные леса"
      ]
    },
    {
      "cell_type": "markdown",
      "metadata": {
        "id": "4dcE4i354imE"
      },
      "source": [
        "#### Базовые Случайные леса  "
      ]
    },
    {
      "cell_type": "markdown",
      "metadata": {
        "id": "uOI3zgYd4imE"
      },
      "source": [
        "Построим модель на основе случайного леса, применим старую версию дефолтного значения эстиматоров - 10 (в версии 0.22 - 100), так как данных у нас немного:"
      ]
    },
    {
      "cell_type": "code",
      "metadata": {
        "colab": {
          "base_uri": "https://localhost:8080/"
        },
        "id": "oPuTUrlO4imE",
        "outputId": "9d90ab67-e7e2-4e86-ff57-7c83261f0a9f"
      },
      "source": [
        "model = RandomForestClassifier(random_state=42, n_estimators=10)\n",
        "model.fit(df_features, df_target)\n",
        "\n",
        "\n",
        "valid_predictions = model.predict(valid_features)\n",
        "valid_acc = accuracy_score(valid_target, valid_predictions)\n",
        "\n",
        "print(\"Accuracy\")\n",
        "print(\"Валидационная выборка:\", valid_acc)"
      ],
      "execution_count": null,
      "outputs": [
        {
          "output_type": "stream",
          "text": [
            "Accuracy\n",
            "Валидационная выборка: 0.7667185069984448\n"
          ],
          "name": "stdout"
        }
      ]
    },
    {
      "cell_type": "markdown",
      "metadata": {
        "id": "HgQ-mJD74imF"
      },
      "source": [
        "Правильность чуть превысила порог 0.75. Посмотрим в дальнейшем как модель поведет себя на тестовой выборке"
      ]
    },
    {
      "cell_type": "code",
      "metadata": {
        "colab": {
          "base_uri": "https://localhost:8080/"
        },
        "id": "ANspj5xT4imF",
        "outputId": "857b08ab-3187-4090-8afe-e8ae2202b76f"
      },
      "source": [
        "par_grid_ensemble = {'n_estimators': [3, 10, 30],\n",
        "                     'criterion': ['gini', 'entropy'],\n",
        "                     'min_samples_split': range(5, 15)\n",
        "                    }\n",
        "model = RandomForestClassifier(random_state=42)\n",
        "\n",
        "grid_search = GridSearchCV(model, par_grid_ensemble, cv=5,\n",
        "                           scoring='accuracy'\n",
        "                          )\n",
        "grid_search.fit(df_features, df_target)"
      ],
      "execution_count": null,
      "outputs": [
        {
          "output_type": "execute_result",
          "data": {
            "text/plain": [
              "GridSearchCV(cv=5, error_score=nan,\n",
              "             estimator=RandomForestClassifier(bootstrap=True, ccp_alpha=0.0,\n",
              "                                              class_weight=None,\n",
              "                                              criterion='gini', max_depth=None,\n",
              "                                              max_features='auto',\n",
              "                                              max_leaf_nodes=None,\n",
              "                                              max_samples=None,\n",
              "                                              min_impurity_decrease=0.0,\n",
              "                                              min_impurity_split=None,\n",
              "                                              min_samples_leaf=1,\n",
              "                                              min_samples_split=2,\n",
              "                                              min_weight_fraction_leaf=0.0,\n",
              "                                              n_estimators=100, n_jobs=None,\n",
              "                                              oob_score=False, random_state=42,\n",
              "                                              verbose=0, warm_start=False),\n",
              "             iid='deprecated', n_jobs=None,\n",
              "             param_grid={'criterion': ['gini', 'entropy'],\n",
              "                         'min_samples_split': range(5, 15),\n",
              "                         'n_estimators': [3, 10, 30]},\n",
              "             pre_dispatch='2*n_jobs', refit=True, return_train_score=False,\n",
              "             scoring='accuracy', verbose=0)"
            ]
          },
          "metadata": {
            "tags": []
          },
          "execution_count": 68
        }
      ]
    },
    {
      "cell_type": "code",
      "metadata": {
        "colab": {
          "base_uri": "https://localhost:8080/"
        },
        "id": "DjHV2wDC4imF",
        "outputId": "e5113865-81a4-4d76-a76b-41d78f59527a"
      },
      "source": [
        "grid_search.best_params_"
      ],
      "execution_count": null,
      "outputs": [
        {
          "output_type": "execute_result",
          "data": {
            "text/plain": [
              "{'criterion': 'entropy', 'min_samples_split': 14, 'n_estimators': 30}"
            ]
          },
          "metadata": {
            "tags": []
          },
          "execution_count": 69
        }
      ]
    },
    {
      "cell_type": "markdown",
      "metadata": {
        "id": "iaVZBHrW4imF"
      },
      "source": [
        "#### Случайные леса с настройками"
      ]
    },
    {
      "cell_type": "code",
      "metadata": {
        "colab": {
          "base_uri": "https://localhost:8080/"
        },
        "id": "aLJd80Pd4imF",
        "outputId": "714da7f3-fb6e-40af-dc92-4c384985c371"
      },
      "source": [
        "model_rfc = RandomForestClassifier(random_state=42, criterion='gini', \n",
        "                               min_samples_split=12, n_estimators=30\n",
        "                              )\n",
        "model_rfc.fit(df_features, df_target)\n",
        "\n",
        "valid_predictions = model_rfc.predict(valid_features)\n",
        "valid_acc = accuracy_score(valid_target, valid_predictions)\n",
        "\n",
        "print(\"Accuracy\")\n",
        "print(\"Валидационная выборка:\", valid_acc)"
      ],
      "execution_count": null,
      "outputs": [
        {
          "output_type": "stream",
          "text": [
            "Accuracy\n",
            "Валидационная выборка: 0.8009331259720062\n"
          ],
          "name": "stdout"
        }
      ]
    },
    {
      "cell_type": "markdown",
      "metadata": {
        "id": "6pRiHfzx4imF"
      },
      "source": [
        "#### Вывод  \n",
        "\n",
        "Правильность незначительно увеличилась. Возьмем модель с этими параметрами"
      ]
    },
    {
      "cell_type": "markdown",
      "metadata": {
        "id": "JxUblMQx4imG"
      },
      "source": [
        "### k ближайших соседей"
      ]
    },
    {
      "cell_type": "code",
      "metadata": {
        "colab": {
          "base_uri": "https://localhost:8080/"
        },
        "id": "SrDbCKTL4imG",
        "outputId": "7688c6ab-0f2d-460e-c211-98fa1f454713"
      },
      "source": [
        "model = KNeighborsClassifier(n_neighbors=5)\n",
        "model.fit(df_features, df_target)\n",
        "\n",
        "\n",
        "valid_predictions = model.predict(valid_features)\n",
        "valid_acc = accuracy_score(valid_target, valid_predictions)\n",
        "\n",
        "print(\"Accuracy\")\n",
        "\n",
        "print(\"Валидационная выборка:\", valid_acc)"
      ],
      "execution_count": null,
      "outputs": [
        {
          "output_type": "stream",
          "text": [
            "Accuracy\n",
            "Валидационная выборка: 0.749611197511664\n"
          ],
          "name": "stdout"
        }
      ]
    },
    {
      "cell_type": "code",
      "metadata": {
        "colab": {
          "base_uri": "https://localhost:8080/"
        },
        "id": "Q6u1oUay4imG",
        "outputId": "39ee12db-e74c-49d4-f5bf-114c8bd33356"
      },
      "source": [
        "par_grid_kneigh = {\n",
        "                   'n_neighbors': [5,10,15],\n",
        "                   'leaf_size': [1,3,5],\n",
        "                   'weights': ['uniform', 'distance'],\n",
        "                   'algorithm': ['ball_tree', 'kd_tree']\n",
        "                   }\n",
        "model = KNeighborsClassifier()\n",
        "\n",
        "grid_search = GridSearchCV(model, par_grid_kneigh, cv=5,\n",
        "                           scoring='accuracy')\n",
        "grid_search.fit(df_features, df_target)"
      ],
      "execution_count": null,
      "outputs": [
        {
          "output_type": "execute_result",
          "data": {
            "text/plain": [
              "GridSearchCV(cv=5, error_score=nan,\n",
              "             estimator=KNeighborsClassifier(algorithm='auto', leaf_size=30,\n",
              "                                            metric='minkowski',\n",
              "                                            metric_params=None, n_jobs=None,\n",
              "                                            n_neighbors=5, p=2,\n",
              "                                            weights='uniform'),\n",
              "             iid='deprecated', n_jobs=None,\n",
              "             param_grid={'algorithm': ['ball_tree', 'kd_tree'],\n",
              "                         'leaf_size': [1, 3, 5], 'n_neighbors': [5, 10, 15],\n",
              "                         'weights': ['uniform', 'distance']},\n",
              "             pre_dispatch='2*n_jobs', refit=True, return_train_score=False,\n",
              "             scoring='accuracy', verbose=0)"
            ]
          },
          "metadata": {
            "tags": []
          },
          "execution_count": 72
        }
      ]
    },
    {
      "cell_type": "code",
      "metadata": {
        "colab": {
          "base_uri": "https://localhost:8080/"
        },
        "id": "jFQMG1gm4imG",
        "outputId": "bfed5041-a153-4ca4-ea27-e4bd8c46c992"
      },
      "source": [
        "grid_search.best_params_"
      ],
      "execution_count": null,
      "outputs": [
        {
          "output_type": "execute_result",
          "data": {
            "text/plain": [
              "{'algorithm': 'ball_tree',\n",
              " 'leaf_size': 1,\n",
              " 'n_neighbors': 15,\n",
              " 'weights': 'uniform'}"
            ]
          },
          "metadata": {
            "tags": []
          },
          "execution_count": 73
        }
      ]
    },
    {
      "cell_type": "code",
      "metadata": {
        "colab": {
          "base_uri": "https://localhost:8080/"
        },
        "id": "WOZd6agw4imG",
        "outputId": "e1010113-4de5-452a-f825-f70281f51868"
      },
      "source": [
        "model_kn = KNeighborsClassifier(algorithm = 'ball_tree',\n",
        "                             leaf_size= 1,\n",
        "                             n_neighbors= 15,\n",
        "                             weights='uniform'\n",
        "                            )\n",
        "model_kn.fit(df_features, df_target)\n",
        "\n",
        "\n",
        "valid_predictions = model_kn.predict(valid_features)\n",
        "valid_acc = accuracy_score(valid_target, valid_predictions)\n",
        "\n",
        "print(\"Accuracy\")\n",
        "print(\"Валидационная выборка:\", valid_acc)"
      ],
      "execution_count": null,
      "outputs": [
        {
          "output_type": "stream",
          "text": [
            "Accuracy\n",
            "Валидационная выборка: 0.7651632970451011\n"
          ],
          "name": "stdout"
        }
      ]
    },
    {
      "cell_type": "markdown",
      "metadata": {
        "id": "u3ppp1vp4imH"
      },
      "source": [
        "Порог правильности превысили, посмотрим как модель себя поведет на тесте"
      ]
    },
    {
      "cell_type": "markdown",
      "metadata": {
        "id": "4lAFOicD4imH"
      },
      "source": [
        "### Catboost"
      ]
    },
    {
      "cell_type": "markdown",
      "metadata": {
        "id": "YJkfAnt44imH"
      },
      "source": [
        "Попробуем построить модель на основе open source библиотеки Catboost. Так как рассчет занимает продолжительное время относительно остальных классификаторо, подбирать параметры не будем, сделаем данную модель информационно"
      ]
    },
    {
      "cell_type": "code",
      "metadata": {
        "colab": {
          "base_uri": "https://localhost:8080/"
        },
        "id": "AvCqo8Vm4imH",
        "outputId": "0d31a6c1-0423-4f40-bed9-32ef12ba3ed6"
      },
      "source": [
        "model_cat = CatBoostClassifier(verbose=100, random_state=42)\n",
        "model_cat.fit(df_features, df_target)\n",
        "\n",
        "\n",
        "valid_predictions = model_cat.predict(valid_features)\n",
        "valid_acc = accuracy_score(valid_target, valid_predictions)\n",
        "\n",
        "print(\"Accuracy\")\n",
        "print(\"Валидационная выборка:\", valid_acc)"
      ],
      "execution_count": null,
      "outputs": [
        {
          "output_type": "stream",
          "text": [
            "Learning rate set to 0.013636\n",
            "0:\tlearn: 0.6869397\ttotal: 49.8ms\tremaining: 49.7s\n",
            "100:\tlearn: 0.4683207\ttotal: 249ms\tremaining: 2.22s\n",
            "200:\tlearn: 0.4289193\ttotal: 443ms\tremaining: 1.76s\n",
            "300:\tlearn: 0.4091795\ttotal: 646ms\tremaining: 1.5s\n",
            "400:\tlearn: 0.3939299\ttotal: 836ms\tremaining: 1.25s\n",
            "500:\tlearn: 0.3804989\ttotal: 1.03s\tremaining: 1.03s\n",
            "600:\tlearn: 0.3671992\ttotal: 1.22s\tremaining: 813ms\n",
            "700:\tlearn: 0.3526519\ttotal: 1.42s\tremaining: 605ms\n",
            "800:\tlearn: 0.3390020\ttotal: 1.61s\tremaining: 400ms\n",
            "900:\tlearn: 0.3240903\ttotal: 1.8s\tremaining: 198ms\n",
            "999:\tlearn: 0.3107701\ttotal: 2.02s\tremaining: 0us\n",
            "Accuracy\n",
            "Валидационная выборка: 0.8087091757387247\n"
          ],
          "name": "stdout"
        }
      ]
    },
    {
      "cell_type": "markdown",
      "metadata": {
        "id": "mZBRinmS4imH"
      },
      "source": [
        "#### Вывод. \n",
        "\n",
        "Catboost переобучается, но при этом показаывает самую высокую правильность на валидационной выборке. Применим модель в таком виде на тестовых данных"
      ]
    },
    {
      "cell_type": "markdown",
      "metadata": {
        "id": "dE6ueqVm4imH"
      },
      "source": [
        "## Проверка моделей на тестовой выборке"
      ]
    },
    {
      "cell_type": "markdown",
      "metadata": {
        "id": "I9bksFaq4imH"
      },
      "source": [
        "Разделим тестовую выборку на целевой атрибут и атрибуты для классификации"
      ]
    },
    {
      "cell_type": "code",
      "metadata": {
        "id": "koTHuWLT4imH"
      },
      "source": [
        "test_features, test_target = split_data(test_set,'is_ultra')"
      ],
      "execution_count": null,
      "outputs": []
    },
    {
      "cell_type": "code",
      "metadata": {
        "id": "bZJvbZaZ4imH"
      },
      "source": [
        "#для удобства вывода в дальнейшем - соберем показатели в списки\n",
        "table_of_acc = []\n",
        "table_of_model = []\n",
        "table_of_prec = []"
      ],
      "execution_count": null,
      "outputs": []
    },
    {
      "cell_type": "markdown",
      "metadata": {
        "id": "Yh_V_VCs4imH"
      },
      "source": [
        "### Дерево принятия решений"
      ]
    },
    {
      "cell_type": "code",
      "metadata": {
        "colab": {
          "base_uri": "https://localhost:8080/"
        },
        "id": "IPFOJgyI4imI",
        "outputId": "52c84a0f-0b52-48bd-a601-49b2fcf51111"
      },
      "source": [
        "test_predictions = model_dtree.predict(test_features)\n",
        "test_acc = accuracy_score(test_target, test_predictions)\n",
        "test_f1 = f1_score(test_target, test_predictions, average='weighted')\n",
        "\n",
        "print(\"Accuracy\")\n",
        "print(\"Тестовая выборка:\", test_acc)\n",
        "print(\"F1-мера\")\n",
        "print(\"Тестовая выборка:\", test_f1)\n",
        "\n",
        "\n",
        "table_of_acc.append(round(test_acc, 2))\n",
        "table_of_prec.append(round(test_f1, 2))\n",
        "table_of_model.append('DecisionTreeClassifier')\n"
      ],
      "execution_count": null,
      "outputs": [
        {
          "output_type": "stream",
          "text": [
            "Accuracy\n",
            "Тестовая выборка: 0.7993779160186625\n",
            "F1-мера\n",
            "Тестовая выборка: 0.7832868454436918\n"
          ],
          "name": "stdout"
        }
      ]
    },
    {
      "cell_type": "markdown",
      "metadata": {
        "id": "IItto8xB4imI"
      },
      "source": [
        "На тестовой выборке показывает хорошую правильность и меру F1, выше порога 0.75, данная модель примененим для нашей цели"
      ]
    },
    {
      "cell_type": "markdown",
      "metadata": {
        "id": "nmH34O2W4imJ"
      },
      "source": [
        "### Логистическая регрессия"
      ]
    },
    {
      "cell_type": "code",
      "metadata": {
        "colab": {
          "base_uri": "https://localhost:8080/"
        },
        "id": "uF_yov_g4imJ",
        "outputId": "d3f77c57-932e-445a-e022-93617a6253e1"
      },
      "source": [
        "\n",
        "test_predictions = model_lreg.predict(test_features)\n",
        "\n",
        "test_acc = accuracy_score(test_target, test_predictions)\n",
        "test_f1 = f1_score(test_target, test_predictions, average='weighted')\n",
        "\n",
        "print(\"Accuracy\")\n",
        "print(\"Тестовая выборка:\", test_acc)\n",
        "print(\"F1-мера\")\n",
        "print(\"Тестовая выборка:\", test_f1)\n",
        "\n",
        "\n",
        "table_of_acc.append(round(test_acc, 2))\n",
        "table_of_prec.append(round(test_f1, 2))\n",
        "table_of_model.append('LogisticRegression')"
      ],
      "execution_count": null,
      "outputs": [
        {
          "output_type": "stream",
          "text": [
            "Accuracy\n",
            "Тестовая выборка: 0.7589424572317263\n",
            "F1-мера\n",
            "Тестовая выборка: 0.714696906926984\n"
          ],
          "name": "stdout"
        }
      ]
    },
    {
      "cell_type": "markdown",
      "metadata": {
        "id": "BxYriK6t4imJ"
      },
      "source": [
        "На тестовой выборке логистическая регрессия показывает правильность чуть выше пороговой, но при этом F1 мера хуже, чем у дерева. На данный момент лучшая модель - на основе дерева приятия решений"
      ]
    },
    {
      "cell_type": "markdown",
      "metadata": {
        "id": "G4Ikoeb04imK"
      },
      "source": [
        "### Случайный лес"
      ]
    },
    {
      "cell_type": "code",
      "metadata": {
        "colab": {
          "base_uri": "https://localhost:8080/"
        },
        "id": "jG751N-R4imK",
        "outputId": "6a0e1ea8-38f9-47a3-92bd-bcc4cb7669d6"
      },
      "source": [
        "\n",
        "test_predictions = model_rfc.predict(test_features)\n",
        "\n",
        "test_acc = accuracy_score(test_target, test_predictions)\n",
        "test_f1 = f1_score(test_target, test_predictions, average='weighted')\n",
        "\n",
        "print(\"Accuracy\")\n",
        "print(\"Тестовая выборка:\", test_acc)\n",
        "print(\"F1-мера\")\n",
        "print(\"Тестовая выборка:\", test_f1)\n",
        "\n",
        "\n",
        "table_of_acc.append(round(test_acc, 2))\n",
        "table_of_prec.append(round(test_f1, 2))\n",
        "table_of_model.append('RandomForestClassifier')"
      ],
      "execution_count": null,
      "outputs": [
        {
          "output_type": "stream",
          "text": [
            "Accuracy\n",
            "Тестовая выборка: 0.807153965785381\n",
            "F1-мера\n",
            "Тестовая выборка: 0.7988221948898717\n"
          ],
          "name": "stdout"
        }
      ]
    },
    {
      "cell_type": "markdown",
      "metadata": {
        "id": "zdxpR7oK4imK"
      },
      "source": [
        "Случайный лес показывает отличные результаты. На данный момент - лучшие, по сравнению даже с дерево принятия решений"
      ]
    },
    {
      "cell_type": "markdown",
      "metadata": {
        "id": "DcbH1Pu24imK"
      },
      "source": [
        "### k ближайших соседей"
      ]
    },
    {
      "cell_type": "code",
      "metadata": {
        "colab": {
          "base_uri": "https://localhost:8080/"
        },
        "id": "LQGaYQzh4imK",
        "outputId": "603758cd-1061-4df8-a5a9-664bb24bafe9"
      },
      "source": [
        "\n",
        "test_predictions = model_kn.predict(test_features)\n",
        "\n",
        "test_acc = accuracy_score(test_target, test_predictions)\n",
        "test_f1 = f1_score(test_target, test_predictions)\n",
        "print(\"Accuracy\")\n",
        "print(\"Тестовая выборка:\", test_acc)\n",
        "print(\"F1-мера\")\n",
        "print(\"Тестовая выборка:\", test_f1)\n",
        "\n",
        "\n",
        "table_of_acc.append(round(test_acc, 2))\n",
        "table_of_prec.append(round(test_f1, 2))\n",
        "table_of_model.append('KNeighborsClassifier')"
      ],
      "execution_count": null,
      "outputs": [
        {
          "output_type": "stream",
          "text": [
            "Accuracy\n",
            "Тестовая выборка: 0.7807153965785381\n",
            "F1-мера\n",
            "Тестовая выборка: 0.4797047970479706\n"
          ],
          "name": "stdout"
        }
      ]
    },
    {
      "cell_type": "markdown",
      "metadata": {
        "id": "KGhtmODo4imK"
      },
      "source": [
        "У к-ближайших соседей очень низкая F1 мера, хоть порог и пройден, но данную модель лучше оставить в данном случае"
      ]
    },
    {
      "cell_type": "markdown",
      "metadata": {
        "id": "ttoXTD664imK"
      },
      "source": [
        "### Catboost"
      ]
    },
    {
      "cell_type": "code",
      "metadata": {
        "colab": {
          "base_uri": "https://localhost:8080/"
        },
        "id": "8gZhQ2wS4imK",
        "outputId": "a08eef23-b468-453d-af1f-af4a29939157"
      },
      "source": [
        "\n",
        "test_predictions = model_cat.predict(test_features)\n",
        "\n",
        "test_acc = accuracy_score(test_target, test_predictions)\n",
        "test_f1 = f1_score(test_target, test_predictions, average='weighted')\n",
        "\n",
        "print(\"Accuracy\")\n",
        "print(\"Тестовая выборка:\", test_acc)\n",
        "print(\"F1-мера\")\n",
        "print(\"Тестовая выборка:\", test_f1)\n",
        "\n",
        "\n",
        "table_of_acc.append(round(test_acc, 2))\n",
        "table_of_prec.append(round(test_f1, 2))\n",
        "table_of_model.append('CatBoostClassifier')"
      ],
      "execution_count": null,
      "outputs": [
        {
          "output_type": "stream",
          "text": [
            "Accuracy\n",
            "Тестовая выборка: 0.80248833592535\n",
            "F1-мера\n",
            "Тестовая выборка: 0.7911961254730326\n"
          ],
          "name": "stdout"
        }
      ]
    },
    {
      "cell_type": "markdown",
      "metadata": {
        "id": "XGSbZx614imL"
      },
      "source": [
        "Catboost показывает лучшие результаты по классификации среди моделей. Сведем все в таблицу:"
      ]
    },
    {
      "cell_type": "code",
      "metadata": {
        "colab": {
          "base_uri": "https://localhost:8080/"
        },
        "id": "kYRymZge4imL",
        "outputId": "88f0a233-417d-4fd0-c485-f7d9f6dff086"
      },
      "source": [
        "table_of_models = (pd.DataFrame({'Model':table_of_model, 'Accuracy':table_of_acc, \n",
        "                                'F1 score':table_of_prec}).sort_values(by='Accuracy', ascending=False).\n",
        "                  reset_index(drop=True))\n",
        "table_of_models"
      ],
      "execution_count": null,
      "outputs": [
        {
          "output_type": "execute_result",
          "data": {
            "text/html": [
              "<div>\n",
              "<style scoped>\n",
              "    .dataframe tbody tr th:only-of-type {\n",
              "        vertical-align: middle;\n",
              "    }\n",
              "\n",
              "    .dataframe tbody tr th {\n",
              "        vertical-align: top;\n",
              "    }\n",
              "\n",
              "    .dataframe thead th {\n",
              "        text-align: right;\n",
              "    }\n",
              "</style>\n",
              "<table border=\"1\" class=\"dataframe\">\n",
              "  <thead>\n",
              "    <tr style=\"text-align: right;\">\n",
              "      <th></th>\n",
              "      <th>Model</th>\n",
              "      <th>Accuracy</th>\n",
              "      <th>F1 score</th>\n",
              "    </tr>\n",
              "  </thead>\n",
              "  <tbody>\n",
              "    <tr>\n",
              "      <th>0</th>\n",
              "      <td>RandomForestClassifier</td>\n",
              "      <td>0.81</td>\n",
              "      <td>0.80</td>\n",
              "    </tr>\n",
              "    <tr>\n",
              "      <th>1</th>\n",
              "      <td>DecisionTreeClassifier</td>\n",
              "      <td>0.80</td>\n",
              "      <td>0.78</td>\n",
              "    </tr>\n",
              "    <tr>\n",
              "      <th>2</th>\n",
              "      <td>CatBoostClassifier</td>\n",
              "      <td>0.80</td>\n",
              "      <td>0.79</td>\n",
              "    </tr>\n",
              "    <tr>\n",
              "      <th>3</th>\n",
              "      <td>KNeighborsClassifier</td>\n",
              "      <td>0.78</td>\n",
              "      <td>0.48</td>\n",
              "    </tr>\n",
              "    <tr>\n",
              "      <th>4</th>\n",
              "      <td>LogisticRegression</td>\n",
              "      <td>0.76</td>\n",
              "      <td>0.71</td>\n",
              "    </tr>\n",
              "  </tbody>\n",
              "</table>\n",
              "</div>"
            ],
            "text/plain": [
              "                    Model  Accuracy  F1 score\n",
              "0  RandomForestClassifier      0.81      0.80\n",
              "1  DecisionTreeClassifier      0.80      0.78\n",
              "2      CatBoostClassifier      0.80      0.79\n",
              "3    KNeighborsClassifier      0.78      0.48\n",
              "4      LogisticRegression      0.76      0.71"
            ]
          },
          "metadata": {
            "tags": []
          },
          "execution_count": 83
        }
      ]
    },
    {
      "cell_type": "markdown",
      "metadata": {
        "id": "qltuieVA4imL"
      },
      "source": [
        "### Вывод  \n",
        "\n",
        "Лучшая модель для целей классификации на основе данных по тарифам является модель на библиотеке Catboost, далее идет модель на основе Случайного леса, далее - Дерево принятия решений. k ближайших соседей и логистическая регрессия показали недостаточно хорошие результаты по F1 мере, поэтому несмотря на тот факт, что порог правильности превышен - их не следует применять для задачи классификации в данном случае."
      ]
    },
    {
      "cell_type": "markdown",
      "metadata": {
        "id": "rqpQfzpz4imL"
      },
      "source": [
        "## Проверка модели на вменяемость"
      ]
    },
    {
      "cell_type": "markdown",
      "metadata": {
        "id": "V4DIWhG94imL"
      },
      "source": [
        "Проверим модели на вменяемость. Для это построим случайную модель на основе DummyClassifier, попробуем посмотреть количественные характеристики по выборке столбца `is_ultra`"
      ]
    },
    {
      "cell_type": "code",
      "metadata": {
        "colab": {
          "base_uri": "https://localhost:8080/"
        },
        "id": "RI2nDRED4imL",
        "outputId": "0313f2fc-7c1b-4d3b-b983-b96993b096bc"
      },
      "source": [
        "table_of_models"
      ],
      "execution_count": null,
      "outputs": [
        {
          "output_type": "execute_result",
          "data": {
            "text/html": [
              "<div>\n",
              "<style scoped>\n",
              "    .dataframe tbody tr th:only-of-type {\n",
              "        vertical-align: middle;\n",
              "    }\n",
              "\n",
              "    .dataframe tbody tr th {\n",
              "        vertical-align: top;\n",
              "    }\n",
              "\n",
              "    .dataframe thead th {\n",
              "        text-align: right;\n",
              "    }\n",
              "</style>\n",
              "<table border=\"1\" class=\"dataframe\">\n",
              "  <thead>\n",
              "    <tr style=\"text-align: right;\">\n",
              "      <th></th>\n",
              "      <th>Model</th>\n",
              "      <th>Accuracy</th>\n",
              "      <th>F1 score</th>\n",
              "    </tr>\n",
              "  </thead>\n",
              "  <tbody>\n",
              "    <tr>\n",
              "      <th>0</th>\n",
              "      <td>RandomForestClassifier</td>\n",
              "      <td>0.81</td>\n",
              "      <td>0.80</td>\n",
              "    </tr>\n",
              "    <tr>\n",
              "      <th>1</th>\n",
              "      <td>DecisionTreeClassifier</td>\n",
              "      <td>0.80</td>\n",
              "      <td>0.78</td>\n",
              "    </tr>\n",
              "    <tr>\n",
              "      <th>2</th>\n",
              "      <td>CatBoostClassifier</td>\n",
              "      <td>0.80</td>\n",
              "      <td>0.79</td>\n",
              "    </tr>\n",
              "    <tr>\n",
              "      <th>3</th>\n",
              "      <td>KNeighborsClassifier</td>\n",
              "      <td>0.78</td>\n",
              "      <td>0.48</td>\n",
              "    </tr>\n",
              "    <tr>\n",
              "      <th>4</th>\n",
              "      <td>LogisticRegression</td>\n",
              "      <td>0.76</td>\n",
              "      <td>0.71</td>\n",
              "    </tr>\n",
              "  </tbody>\n",
              "</table>\n",
              "</div>"
            ],
            "text/plain": [
              "                    Model  Accuracy  F1 score\n",
              "0  RandomForestClassifier      0.81      0.80\n",
              "1  DecisionTreeClassifier      0.80      0.78\n",
              "2      CatBoostClassifier      0.80      0.79\n",
              "3    KNeighborsClassifier      0.78      0.48\n",
              "4      LogisticRegression      0.76      0.71"
            ]
          },
          "metadata": {
            "tags": []
          },
          "execution_count": 84
        }
      ]
    },
    {
      "cell_type": "markdown",
      "metadata": {
        "id": "gVODCAQv4imL"
      },
      "source": [
        "### Dummy классификатор (рандомный)"
      ]
    },
    {
      "cell_type": "markdown",
      "metadata": {
        "id": "AmCFdTT14imL"
      },
      "source": [
        "Переберем через цикл различные значения стратегий для данного алгоритма и сравним результаты с нашими моделями:"
      ]
    },
    {
      "cell_type": "code",
      "metadata": {
        "colab": {
          "base_uri": "https://localhost:8080/"
        },
        "id": "sSd7p4C-4imM",
        "outputId": "e14a15d4-12ed-40df-c12f-2c17316f017e"
      },
      "source": [
        "strategies = ['most_frequent', 'stratified', 'uniform']\n",
        "dummies_result = []\n",
        "for strat in strategies:\n",
        "    dc = DummyClassifier(strategy=strat, random_state=42)\n",
        "    dc.fit(df_features, df_target)\n",
        "    res = dc.score(test_features, test_target)\n",
        "    dummies_result.append({strat:res})\n",
        "\n",
        "pd.DataFrame(dummies_result).fillna(0)\n",
        "\n"
      ],
      "execution_count": null,
      "outputs": [
        {
          "output_type": "execute_result",
          "data": {
            "text/html": [
              "<div>\n",
              "<style scoped>\n",
              "    .dataframe tbody tr th:only-of-type {\n",
              "        vertical-align: middle;\n",
              "    }\n",
              "\n",
              "    .dataframe tbody tr th {\n",
              "        vertical-align: top;\n",
              "    }\n",
              "\n",
              "    .dataframe thead th {\n",
              "        text-align: right;\n",
              "    }\n",
              "</style>\n",
              "<table border=\"1\" class=\"dataframe\">\n",
              "  <thead>\n",
              "    <tr style=\"text-align: right;\">\n",
              "      <th></th>\n",
              "      <th>most_frequent</th>\n",
              "      <th>stratified</th>\n",
              "      <th>uniform</th>\n",
              "    </tr>\n",
              "  </thead>\n",
              "  <tbody>\n",
              "    <tr>\n",
              "      <th>0</th>\n",
              "      <td>0.707621</td>\n",
              "      <td>0.000000</td>\n",
              "      <td>0.000000</td>\n",
              "    </tr>\n",
              "    <tr>\n",
              "      <th>1</th>\n",
              "      <td>0.000000</td>\n",
              "      <td>0.562986</td>\n",
              "      <td>0.000000</td>\n",
              "    </tr>\n",
              "    <tr>\n",
              "      <th>2</th>\n",
              "      <td>0.000000</td>\n",
              "      <td>0.000000</td>\n",
              "      <td>0.493002</td>\n",
              "    </tr>\n",
              "  </tbody>\n",
              "</table>\n",
              "</div>"
            ],
            "text/plain": [
              "   most_frequent  stratified   uniform\n",
              "0       0.707621    0.000000  0.000000\n",
              "1       0.000000    0.562986  0.000000\n",
              "2       0.000000    0.000000  0.493002"
            ]
          },
          "metadata": {
            "tags": []
          },
          "execution_count": 85
        }
      ]
    },
    {
      "cell_type": "markdown",
      "metadata": {
        "id": "gAmQmzvl4imM"
      },
      "source": [
        "Самый лучший вариант, что мы получили алгоритмом - 0.71, в то время как наши модели показывают правильность больше 0.75. "
      ]
    },
    {
      "cell_type": "markdown",
      "metadata": {
        "id": "J_2SeZ4Z4imM"
      },
      "source": [
        "### Сравнение через .shape[0] с начальной выборкой"
      ]
    },
    {
      "cell_type": "markdown",
      "metadata": {
        "id": "vJhOLN-P4imM"
      },
      "source": [
        "Наши модели считают количество угадывания, поэтому можем посмотреть количество по столбцу 'is_ultra' и оценить  доли:"
      ]
    },
    {
      "cell_type": "code",
      "metadata": {
        "colab": {
          "base_uri": "https://localhost:8080/"
        },
        "id": "kcuGeM4K4imM",
        "outputId": "0b5f0f72-8622-4786-b63a-6aced8b6b199"
      },
      "source": [
        "(users['is_ultra'].value_counts()/users.shape[0]).to_frame()"
      ],
      "execution_count": null,
      "outputs": [
        {
          "output_type": "execute_result",
          "data": {
            "text/html": [
              "<div>\n",
              "<style scoped>\n",
              "    .dataframe tbody tr th:only-of-type {\n",
              "        vertical-align: middle;\n",
              "    }\n",
              "\n",
              "    .dataframe tbody tr th {\n",
              "        vertical-align: top;\n",
              "    }\n",
              "\n",
              "    .dataframe thead th {\n",
              "        text-align: right;\n",
              "    }\n",
              "</style>\n",
              "<table border=\"1\" class=\"dataframe\">\n",
              "  <thead>\n",
              "    <tr style=\"text-align: right;\">\n",
              "      <th></th>\n",
              "      <th>is_ultra</th>\n",
              "    </tr>\n",
              "  </thead>\n",
              "  <tbody>\n",
              "    <tr>\n",
              "      <th>0</th>\n",
              "      <td>0.693528</td>\n",
              "    </tr>\n",
              "    <tr>\n",
              "      <th>1</th>\n",
              "      <td>0.306472</td>\n",
              "    </tr>\n",
              "  </tbody>\n",
              "</table>\n",
              "</div>"
            ],
            "text/plain": [
              "   is_ultra\n",
              "0  0.693528\n",
              "1  0.306472"
            ]
          },
          "metadata": {
            "tags": []
          },
          "execution_count": 86
        }
      ]
    },
    {
      "cell_type": "markdown",
      "metadata": {
        "id": "Uzkg5kru4imM"
      },
      "source": [
        "Доля клиентов с тарифом \"Ультра\" в начальной выборке 0.69. Наши модели показывают большую точность, они выявили закономерности, позволяющие предложить новым пользователям тариф"
      ]
    },
    {
      "cell_type": "markdown",
      "metadata": {
        "id": "_E3ncAsb4imN"
      },
      "source": [
        "### Ручная модель"
      ]
    },
    {
      "cell_type": "markdown",
      "metadata": {
        "id": "KzXAYjln4imN"
      },
      "source": [
        "Попробуем построить ручную модель, посмотрим нашу таблицу еще раз (отобранную тренировочную выборку)"
      ]
    },
    {
      "cell_type": "code",
      "metadata": {
        "colab": {
          "base_uri": "https://localhost:8080/"
        },
        "id": "E-niERDv4imN",
        "outputId": "2a8c6ca7-9f43-46cc-c5e6-6c6c15446ea3"
      },
      "source": [
        "train_set.head()"
      ],
      "execution_count": null,
      "outputs": [
        {
          "output_type": "execute_result",
          "data": {
            "text/html": [
              "<div>\n",
              "<style scoped>\n",
              "    .dataframe tbody tr th:only-of-type {\n",
              "        vertical-align: middle;\n",
              "    }\n",
              "\n",
              "    .dataframe tbody tr th {\n",
              "        vertical-align: top;\n",
              "    }\n",
              "\n",
              "    .dataframe thead th {\n",
              "        text-align: right;\n",
              "    }\n",
              "</style>\n",
              "<table border=\"1\" class=\"dataframe\">\n",
              "  <thead>\n",
              "    <tr style=\"text-align: right;\">\n",
              "      <th></th>\n",
              "      <th>calls</th>\n",
              "      <th>minutes</th>\n",
              "      <th>messages</th>\n",
              "      <th>mb_used</th>\n",
              "      <th>is_ultra</th>\n",
              "    </tr>\n",
              "  </thead>\n",
              "  <tbody>\n",
              "    <tr>\n",
              "      <th>3187</th>\n",
              "      <td>35.0</td>\n",
              "      <td>259.10</td>\n",
              "      <td>4.0</td>\n",
              "      <td>14857.57</td>\n",
              "      <td>0</td>\n",
              "    </tr>\n",
              "    <tr>\n",
              "      <th>1889</th>\n",
              "      <td>84.0</td>\n",
              "      <td>574.03</td>\n",
              "      <td>0.0</td>\n",
              "      <td>16028.42</td>\n",
              "      <td>0</td>\n",
              "    </tr>\n",
              "    <tr>\n",
              "      <th>1253</th>\n",
              "      <td>62.0</td>\n",
              "      <td>446.89</td>\n",
              "      <td>7.0</td>\n",
              "      <td>21571.89</td>\n",
              "      <td>0</td>\n",
              "    </tr>\n",
              "    <tr>\n",
              "      <th>1147</th>\n",
              "      <td>75.0</td>\n",
              "      <td>511.02</td>\n",
              "      <td>49.0</td>\n",
              "      <td>17120.31</td>\n",
              "      <td>0</td>\n",
              "    </tr>\n",
              "    <tr>\n",
              "      <th>2801</th>\n",
              "      <td>34.0</td>\n",
              "      <td>279.06</td>\n",
              "      <td>83.0</td>\n",
              "      <td>13463.84</td>\n",
              "      <td>0</td>\n",
              "    </tr>\n",
              "  </tbody>\n",
              "</table>\n",
              "</div>"
            ],
            "text/plain": [
              "      calls  minutes  messages   mb_used  is_ultra\n",
              "3187   35.0   259.10       4.0  14857.57         0\n",
              "1889   84.0   574.03       0.0  16028.42         0\n",
              "1253   62.0   446.89       7.0  21571.89         0\n",
              "1147   75.0   511.02      49.0  17120.31         0\n",
              "2801   34.0   279.06      83.0  13463.84         0"
            ]
          },
          "metadata": {
            "tags": []
          },
          "execution_count": 87
        }
      ]
    },
    {
      "cell_type": "markdown",
      "metadata": {
        "id": "NwE0HifO4imN"
      },
      "source": [
        "Скопируем ее и посмотрим корреляции, возможно нам это поможет выделить паттерны"
      ]
    },
    {
      "cell_type": "code",
      "metadata": {
        "colab": {
          "base_uri": "https://localhost:8080/"
        },
        "id": "bFHkZm1_4imN",
        "outputId": "0edfd645-e5bc-484e-b87e-de6c6915040d"
      },
      "source": [
        "df_man = train_set.copy()\n",
        "df_man.corr()"
      ],
      "execution_count": null,
      "outputs": [
        {
          "output_type": "execute_result",
          "data": {
            "text/html": [
              "<div>\n",
              "<style scoped>\n",
              "    .dataframe tbody tr th:only-of-type {\n",
              "        vertical-align: middle;\n",
              "    }\n",
              "\n",
              "    .dataframe tbody tr th {\n",
              "        vertical-align: top;\n",
              "    }\n",
              "\n",
              "    .dataframe thead th {\n",
              "        text-align: right;\n",
              "    }\n",
              "</style>\n",
              "<table border=\"1\" class=\"dataframe\">\n",
              "  <thead>\n",
              "    <tr style=\"text-align: right;\">\n",
              "      <th></th>\n",
              "      <th>calls</th>\n",
              "      <th>minutes</th>\n",
              "      <th>messages</th>\n",
              "      <th>mb_used</th>\n",
              "      <th>is_ultra</th>\n",
              "    </tr>\n",
              "  </thead>\n",
              "  <tbody>\n",
              "    <tr>\n",
              "      <th>calls</th>\n",
              "      <td>1.000000</td>\n",
              "      <td>0.982413</td>\n",
              "      <td>0.183205</td>\n",
              "      <td>0.291584</td>\n",
              "      <td>0.225257</td>\n",
              "    </tr>\n",
              "    <tr>\n",
              "      <th>minutes</th>\n",
              "      <td>0.982413</td>\n",
              "      <td>1.000000</td>\n",
              "      <td>0.179284</td>\n",
              "      <td>0.287777</td>\n",
              "      <td>0.232492</td>\n",
              "    </tr>\n",
              "    <tr>\n",
              "      <th>messages</th>\n",
              "      <td>0.183205</td>\n",
              "      <td>0.179284</td>\n",
              "      <td>1.000000</td>\n",
              "      <td>0.213284</td>\n",
              "      <td>0.219989</td>\n",
              "    </tr>\n",
              "    <tr>\n",
              "      <th>mb_used</th>\n",
              "      <td>0.291584</td>\n",
              "      <td>0.287777</td>\n",
              "      <td>0.213284</td>\n",
              "      <td>1.000000</td>\n",
              "      <td>0.201764</td>\n",
              "    </tr>\n",
              "    <tr>\n",
              "      <th>is_ultra</th>\n",
              "      <td>0.225257</td>\n",
              "      <td>0.232492</td>\n",
              "      <td>0.219989</td>\n",
              "      <td>0.201764</td>\n",
              "      <td>1.000000</td>\n",
              "    </tr>\n",
              "  </tbody>\n",
              "</table>\n",
              "</div>"
            ],
            "text/plain": [
              "             calls   minutes  messages   mb_used  is_ultra\n",
              "calls     1.000000  0.982413  0.183205  0.291584  0.225257\n",
              "minutes   0.982413  1.000000  0.179284  0.287777  0.232492\n",
              "messages  0.183205  0.179284  1.000000  0.213284  0.219989\n",
              "mb_used   0.291584  0.287777  0.213284  1.000000  0.201764\n",
              "is_ultra  0.225257  0.232492  0.219989  0.201764  1.000000"
            ]
          },
          "metadata": {
            "tags": []
          },
          "execution_count": 88
        }
      ]
    },
    {
      "cell_type": "markdown",
      "metadata": {
        "id": "wj2gvjW74imN"
      },
      "source": [
        "Сильной коррелляции нигде не наблюдаем, кроме минут и звонков. Предположим, что пользователи чаще тратят минуты и мегабайты и поэтому используют тариф \"Ультра\""
      ]
    },
    {
      "cell_type": "code",
      "metadata": {
        "colab": {
          "base_uri": "https://localhost:8080/"
        },
        "id": "FeJJ-3Dl4imN",
        "outputId": "64e1f3f1-e48e-4e92-b827-ae04d9328922"
      },
      "source": [
        "df_man.describe().T"
      ],
      "execution_count": null,
      "outputs": [
        {
          "output_type": "execute_result",
          "data": {
            "text/html": [
              "<div>\n",
              "<style scoped>\n",
              "    .dataframe tbody tr th:only-of-type {\n",
              "        vertical-align: middle;\n",
              "    }\n",
              "\n",
              "    .dataframe tbody tr th {\n",
              "        vertical-align: top;\n",
              "    }\n",
              "\n",
              "    .dataframe thead th {\n",
              "        text-align: right;\n",
              "    }\n",
              "</style>\n",
              "<table border=\"1\" class=\"dataframe\">\n",
              "  <thead>\n",
              "    <tr style=\"text-align: right;\">\n",
              "      <th></th>\n",
              "      <th>count</th>\n",
              "      <th>mean</th>\n",
              "      <th>std</th>\n",
              "      <th>min</th>\n",
              "      <th>25%</th>\n",
              "      <th>50%</th>\n",
              "      <th>75%</th>\n",
              "      <th>max</th>\n",
              "    </tr>\n",
              "  </thead>\n",
              "  <tbody>\n",
              "    <tr>\n",
              "      <th>calls</th>\n",
              "      <td>1928.0</td>\n",
              "      <td>63.267635</td>\n",
              "      <td>33.567751</td>\n",
              "      <td>0.0</td>\n",
              "      <td>40.0000</td>\n",
              "      <td>63.000</td>\n",
              "      <td>83.0000</td>\n",
              "      <td>244.00</td>\n",
              "    </tr>\n",
              "    <tr>\n",
              "      <th>minutes</th>\n",
              "      <td>1928.0</td>\n",
              "      <td>439.972910</td>\n",
              "      <td>237.849926</td>\n",
              "      <td>0.0</td>\n",
              "      <td>272.8225</td>\n",
              "      <td>430.090</td>\n",
              "      <td>578.2175</td>\n",
              "      <td>1632.06</td>\n",
              "    </tr>\n",
              "    <tr>\n",
              "      <th>messages</th>\n",
              "      <td>1928.0</td>\n",
              "      <td>38.260373</td>\n",
              "      <td>37.041732</td>\n",
              "      <td>0.0</td>\n",
              "      <td>9.0000</td>\n",
              "      <td>29.000</td>\n",
              "      <td>56.0000</td>\n",
              "      <td>224.00</td>\n",
              "    </tr>\n",
              "    <tr>\n",
              "      <th>mb_used</th>\n",
              "      <td>1928.0</td>\n",
              "      <td>17258.155690</td>\n",
              "      <td>7613.359618</td>\n",
              "      <td>0.0</td>\n",
              "      <td>12431.9450</td>\n",
              "      <td>17099.865</td>\n",
              "      <td>21420.6500</td>\n",
              "      <td>49745.73</td>\n",
              "    </tr>\n",
              "    <tr>\n",
              "      <th>is_ultra</th>\n",
              "      <td>1928.0</td>\n",
              "      <td>0.313797</td>\n",
              "      <td>0.464155</td>\n",
              "      <td>0.0</td>\n",
              "      <td>0.0000</td>\n",
              "      <td>0.000</td>\n",
              "      <td>1.0000</td>\n",
              "      <td>1.00</td>\n",
              "    </tr>\n",
              "  </tbody>\n",
              "</table>\n",
              "</div>"
            ],
            "text/plain": [
              "           count          mean          std  ...        50%         75%       max\n",
              "calls     1928.0     63.267635    33.567751  ...     63.000     83.0000    244.00\n",
              "minutes   1928.0    439.972910   237.849926  ...    430.090    578.2175   1632.06\n",
              "messages  1928.0     38.260373    37.041732  ...     29.000     56.0000    224.00\n",
              "mb_used   1928.0  17258.155690  7613.359618  ...  17099.865  21420.6500  49745.73\n",
              "is_ultra  1928.0      0.313797     0.464155  ...      0.000      1.0000      1.00\n",
              "\n",
              "[5 rows x 8 columns]"
            ]
          },
          "metadata": {
            "tags": []
          },
          "execution_count": 89
        }
      ]
    },
    {
      "cell_type": "code",
      "metadata": {
        "colab": {
          "base_uri": "https://localhost:8080/"
        },
        "id": "U5C7IgND4imN",
        "outputId": "921ab312-0692-4401-a42e-4cd71a6e178a"
      },
      "source": [
        "df_man['minutes'].describe()"
      ],
      "execution_count": null,
      "outputs": [
        {
          "output_type": "execute_result",
          "data": {
            "text/plain": [
              "count    1928.000000\n",
              "mean      439.972910\n",
              "std       237.849926\n",
              "min         0.000000\n",
              "25%       272.822500\n",
              "50%       430.090000\n",
              "75%       578.217500\n",
              "max      1632.060000\n",
              "Name: minutes, dtype: float64"
            ]
          },
          "metadata": {
            "tags": []
          },
          "execution_count": 90
        }
      ]
    },
    {
      "cell_type": "code",
      "metadata": {
        "colab": {
          "base_uri": "https://localhost:8080/"
        },
        "id": "M2lkReR34imN",
        "outputId": "5799e650-dd7a-4dd0-d546-428a7a8f36ae"
      },
      "source": [
        "df_man['mb_used'].describe()"
      ],
      "execution_count": null,
      "outputs": [
        {
          "output_type": "execute_result",
          "data": {
            "text/plain": [
              "count     1928.000000\n",
              "mean     17258.155690\n",
              "std       7613.359618\n",
              "min          0.000000\n",
              "25%      12431.945000\n",
              "50%      17099.865000\n",
              "75%      21420.650000\n",
              "max      49745.730000\n",
              "Name: mb_used, dtype: float64"
            ]
          },
          "metadata": {
            "tags": []
          },
          "execution_count": 91
        }
      ]
    },
    {
      "cell_type": "markdown",
      "metadata": {
        "id": "MYc-RONz4imO"
      },
      "source": [
        "Выделим группы методом qcut и присвоим им обозначения по индексу"
      ]
    },
    {
      "cell_type": "code",
      "metadata": {
        "id": "2pJJzDGk4imO"
      },
      "source": [
        "min_ser, min_bin = pd.qcut(df_man['minutes'],5, retbins=True, labels=False)\n",
        "mb_ser, mb_bin = pd.qcut(df_man['mb_used'],5, retbins=True, labels=False)\n"
      ],
      "execution_count": null,
      "outputs": []
    },
    {
      "cell_type": "markdown",
      "metadata": {
        "id": "dc-iak3R4imO"
      },
      "source": [
        "Теперь мы можем добавить столбцы с обозначением группы в нашу таблицу"
      ]
    },
    {
      "cell_type": "code",
      "metadata": {
        "id": "daXEyS-k4imO"
      },
      "source": [
        "df_man['min_bin'] = min_ser\n",
        "df_man['mb_bin'] = mb_ser"
      ],
      "execution_count": null,
      "outputs": []
    },
    {
      "cell_type": "code",
      "metadata": {
        "colab": {
          "base_uri": "https://localhost:8080/"
        },
        "id": "AjsIFrHz4imO",
        "outputId": "c27af48e-383f-42b6-d5e6-035e58be17ff"
      },
      "source": [
        "df_man.head(20)"
      ],
      "execution_count": null,
      "outputs": [
        {
          "output_type": "execute_result",
          "data": {
            "text/html": [
              "<div>\n",
              "<style scoped>\n",
              "    .dataframe tbody tr th:only-of-type {\n",
              "        vertical-align: middle;\n",
              "    }\n",
              "\n",
              "    .dataframe tbody tr th {\n",
              "        vertical-align: top;\n",
              "    }\n",
              "\n",
              "    .dataframe thead th {\n",
              "        text-align: right;\n",
              "    }\n",
              "</style>\n",
              "<table border=\"1\" class=\"dataframe\">\n",
              "  <thead>\n",
              "    <tr style=\"text-align: right;\">\n",
              "      <th></th>\n",
              "      <th>calls</th>\n",
              "      <th>minutes</th>\n",
              "      <th>messages</th>\n",
              "      <th>mb_used</th>\n",
              "      <th>is_ultra</th>\n",
              "      <th>min_bin</th>\n",
              "      <th>mb_bin</th>\n",
              "    </tr>\n",
              "  </thead>\n",
              "  <tbody>\n",
              "    <tr>\n",
              "      <th>3187</th>\n",
              "      <td>35.0</td>\n",
              "      <td>259.10</td>\n",
              "      <td>4.0</td>\n",
              "      <td>14857.57</td>\n",
              "      <td>0</td>\n",
              "      <td>1</td>\n",
              "      <td>1</td>\n",
              "    </tr>\n",
              "    <tr>\n",
              "      <th>1889</th>\n",
              "      <td>84.0</td>\n",
              "      <td>574.03</td>\n",
              "      <td>0.0</td>\n",
              "      <td>16028.42</td>\n",
              "      <td>0</td>\n",
              "      <td>3</td>\n",
              "      <td>2</td>\n",
              "    </tr>\n",
              "    <tr>\n",
              "      <th>1253</th>\n",
              "      <td>62.0</td>\n",
              "      <td>446.89</td>\n",
              "      <td>7.0</td>\n",
              "      <td>21571.89</td>\n",
              "      <td>0</td>\n",
              "      <td>2</td>\n",
              "      <td>3</td>\n",
              "    </tr>\n",
              "    <tr>\n",
              "      <th>1147</th>\n",
              "      <td>75.0</td>\n",
              "      <td>511.02</td>\n",
              "      <td>49.0</td>\n",
              "      <td>17120.31</td>\n",
              "      <td>0</td>\n",
              "      <td>3</td>\n",
              "      <td>2</td>\n",
              "    </tr>\n",
              "    <tr>\n",
              "      <th>2801</th>\n",
              "      <td>34.0</td>\n",
              "      <td>279.06</td>\n",
              "      <td>83.0</td>\n",
              "      <td>13463.84</td>\n",
              "      <td>0</td>\n",
              "      <td>1</td>\n",
              "      <td>1</td>\n",
              "    </tr>\n",
              "    <tr>\n",
              "      <th>2330</th>\n",
              "      <td>13.0</td>\n",
              "      <td>80.80</td>\n",
              "      <td>9.0</td>\n",
              "      <td>2861.00</td>\n",
              "      <td>0</td>\n",
              "      <td>0</td>\n",
              "      <td>0</td>\n",
              "    </tr>\n",
              "    <tr>\n",
              "      <th>3000</th>\n",
              "      <td>123.0</td>\n",
              "      <td>967.93</td>\n",
              "      <td>0.0</td>\n",
              "      <td>14194.09</td>\n",
              "      <td>1</td>\n",
              "      <td>4</td>\n",
              "      <td>1</td>\n",
              "    </tr>\n",
              "    <tr>\n",
              "      <th>1494</th>\n",
              "      <td>67.0</td>\n",
              "      <td>499.87</td>\n",
              "      <td>69.0</td>\n",
              "      <td>32556.54</td>\n",
              "      <td>1</td>\n",
              "      <td>3</td>\n",
              "      <td>4</td>\n",
              "    </tr>\n",
              "    <tr>\n",
              "      <th>882</th>\n",
              "      <td>66.0</td>\n",
              "      <td>494.47</td>\n",
              "      <td>0.0</td>\n",
              "      <td>17360.07</td>\n",
              "      <td>0</td>\n",
              "      <td>3</td>\n",
              "      <td>2</td>\n",
              "    </tr>\n",
              "    <tr>\n",
              "      <th>2352</th>\n",
              "      <td>32.0</td>\n",
              "      <td>283.13</td>\n",
              "      <td>60.0</td>\n",
              "      <td>19223.32</td>\n",
              "      <td>0</td>\n",
              "      <td>1</td>\n",
              "      <td>3</td>\n",
              "    </tr>\n",
              "    <tr>\n",
              "      <th>1030</th>\n",
              "      <td>85.0</td>\n",
              "      <td>621.93</td>\n",
              "      <td>46.0</td>\n",
              "      <td>16743.65</td>\n",
              "      <td>1</td>\n",
              "      <td>4</td>\n",
              "      <td>2</td>\n",
              "    </tr>\n",
              "    <tr>\n",
              "      <th>91</th>\n",
              "      <td>54.0</td>\n",
              "      <td>416.22</td>\n",
              "      <td>0.0</td>\n",
              "      <td>19871.45</td>\n",
              "      <td>0</td>\n",
              "      <td>2</td>\n",
              "      <td>3</td>\n",
              "    </tr>\n",
              "    <tr>\n",
              "      <th>574</th>\n",
              "      <td>11.0</td>\n",
              "      <td>77.94</td>\n",
              "      <td>28.0</td>\n",
              "      <td>25052.44</td>\n",
              "      <td>0</td>\n",
              "      <td>0</td>\n",
              "      <td>4</td>\n",
              "    </tr>\n",
              "    <tr>\n",
              "      <th>2289</th>\n",
              "      <td>69.0</td>\n",
              "      <td>497.90</td>\n",
              "      <td>16.0</td>\n",
              "      <td>9867.09</td>\n",
              "      <td>0</td>\n",
              "      <td>3</td>\n",
              "      <td>0</td>\n",
              "    </tr>\n",
              "    <tr>\n",
              "      <th>2584</th>\n",
              "      <td>46.0</td>\n",
              "      <td>298.79</td>\n",
              "      <td>39.0</td>\n",
              "      <td>19376.93</td>\n",
              "      <td>1</td>\n",
              "      <td>1</td>\n",
              "      <td>3</td>\n",
              "    </tr>\n",
              "    <tr>\n",
              "      <th>2900</th>\n",
              "      <td>65.0</td>\n",
              "      <td>467.47</td>\n",
              "      <td>27.0</td>\n",
              "      <td>12466.55</td>\n",
              "      <td>0</td>\n",
              "      <td>2</td>\n",
              "      <td>1</td>\n",
              "    </tr>\n",
              "    <tr>\n",
              "      <th>1853</th>\n",
              "      <td>85.0</td>\n",
              "      <td>585.62</td>\n",
              "      <td>92.0</td>\n",
              "      <td>9115.37</td>\n",
              "      <td>1</td>\n",
              "      <td>3</td>\n",
              "      <td>0</td>\n",
              "    </tr>\n",
              "    <tr>\n",
              "      <th>1476</th>\n",
              "      <td>46.0</td>\n",
              "      <td>309.99</td>\n",
              "      <td>10.0</td>\n",
              "      <td>25623.94</td>\n",
              "      <td>0</td>\n",
              "      <td>1</td>\n",
              "      <td>4</td>\n",
              "    </tr>\n",
              "    <tr>\n",
              "      <th>659</th>\n",
              "      <td>71.0</td>\n",
              "      <td>471.44</td>\n",
              "      <td>45.0</td>\n",
              "      <td>17489.44</td>\n",
              "      <td>1</td>\n",
              "      <td>2</td>\n",
              "      <td>2</td>\n",
              "    </tr>\n",
              "    <tr>\n",
              "      <th>375</th>\n",
              "      <td>81.0</td>\n",
              "      <td>533.34</td>\n",
              "      <td>0.0</td>\n",
              "      <td>8609.95</td>\n",
              "      <td>0</td>\n",
              "      <td>3</td>\n",
              "      <td>0</td>\n",
              "    </tr>\n",
              "  </tbody>\n",
              "</table>\n",
              "</div>"
            ],
            "text/plain": [
              "      calls  minutes  messages   mb_used  is_ultra  min_bin  mb_bin\n",
              "3187   35.0   259.10       4.0  14857.57         0        1       1\n",
              "1889   84.0   574.03       0.0  16028.42         0        3       2\n",
              "1253   62.0   446.89       7.0  21571.89         0        2       3\n",
              "1147   75.0   511.02      49.0  17120.31         0        3       2\n",
              "2801   34.0   279.06      83.0  13463.84         0        1       1\n",
              "2330   13.0    80.80       9.0   2861.00         0        0       0\n",
              "3000  123.0   967.93       0.0  14194.09         1        4       1\n",
              "1494   67.0   499.87      69.0  32556.54         1        3       4\n",
              "882    66.0   494.47       0.0  17360.07         0        3       2\n",
              "2352   32.0   283.13      60.0  19223.32         0        1       3\n",
              "1030   85.0   621.93      46.0  16743.65         1        4       2\n",
              "91     54.0   416.22       0.0  19871.45         0        2       3\n",
              "574    11.0    77.94      28.0  25052.44         0        0       4\n",
              "2289   69.0   497.90      16.0   9867.09         0        3       0\n",
              "2584   46.0   298.79      39.0  19376.93         1        1       3\n",
              "2900   65.0   467.47      27.0  12466.55         0        2       1\n",
              "1853   85.0   585.62      92.0   9115.37         1        3       0\n",
              "1476   46.0   309.99      10.0  25623.94         0        1       4\n",
              "659    71.0   471.44      45.0  17489.44         1        2       2\n",
              "375    81.0   533.34       0.0   8609.95         0        3       0"
            ]
          },
          "metadata": {
            "tags": []
          },
          "execution_count": 94
        }
      ]
    },
    {
      "cell_type": "markdown",
      "metadata": {
        "id": "1FMkobnN4imO"
      },
      "source": [
        "Через сводную таблицу посмотрим средние значения пользователей тарифа \"Ультра\" на пересечения минут и мегабайт:"
      ]
    },
    {
      "cell_type": "code",
      "metadata": {
        "colab": {
          "base_uri": "https://localhost:8080/"
        },
        "id": "yqXuMsWi4imO",
        "outputId": "68487104-80e3-4e8d-c875-b2c204c67e41"
      },
      "source": [
        "df_man.pivot_table(columns=['min_bin'],index=['mb_bin'], values='is_ultra', aggfunc='mean')"
      ],
      "execution_count": null,
      "outputs": [
        {
          "output_type": "execute_result",
          "data": {
            "text/html": [
              "<div>\n",
              "<style scoped>\n",
              "    .dataframe tbody tr th:only-of-type {\n",
              "        vertical-align: middle;\n",
              "    }\n",
              "\n",
              "    .dataframe tbody tr th {\n",
              "        vertical-align: top;\n",
              "    }\n",
              "\n",
              "    .dataframe thead th {\n",
              "        text-align: right;\n",
              "    }\n",
              "</style>\n",
              "<table border=\"1\" class=\"dataframe\">\n",
              "  <thead>\n",
              "    <tr style=\"text-align: right;\">\n",
              "      <th>min_bin</th>\n",
              "      <th>0</th>\n",
              "      <th>1</th>\n",
              "      <th>2</th>\n",
              "      <th>3</th>\n",
              "      <th>4</th>\n",
              "    </tr>\n",
              "    <tr>\n",
              "      <th>mb_bin</th>\n",
              "      <th></th>\n",
              "      <th></th>\n",
              "      <th></th>\n",
              "      <th></th>\n",
              "      <th></th>\n",
              "    </tr>\n",
              "  </thead>\n",
              "  <tbody>\n",
              "    <tr>\n",
              "      <th>0</th>\n",
              "      <td>0.244048</td>\n",
              "      <td>0.406250</td>\n",
              "      <td>0.272727</td>\n",
              "      <td>0.290909</td>\n",
              "      <td>0.800000</td>\n",
              "    </tr>\n",
              "    <tr>\n",
              "      <th>1</th>\n",
              "      <td>0.250000</td>\n",
              "      <td>0.147368</td>\n",
              "      <td>0.136364</td>\n",
              "      <td>0.138889</td>\n",
              "      <td>0.375000</td>\n",
              "    </tr>\n",
              "    <tr>\n",
              "      <th>2</th>\n",
              "      <td>0.178571</td>\n",
              "      <td>0.128205</td>\n",
              "      <td>0.153846</td>\n",
              "      <td>0.202247</td>\n",
              "      <td>0.347222</td>\n",
              "    </tr>\n",
              "    <tr>\n",
              "      <th>3</th>\n",
              "      <td>0.302326</td>\n",
              "      <td>0.123596</td>\n",
              "      <td>0.141026</td>\n",
              "      <td>0.166667</td>\n",
              "      <td>0.544304</td>\n",
              "    </tr>\n",
              "    <tr>\n",
              "      <th>4</th>\n",
              "      <td>0.597015</td>\n",
              "      <td>0.542373</td>\n",
              "      <td>0.253968</td>\n",
              "      <td>0.493151</td>\n",
              "      <td>0.790323</td>\n",
              "    </tr>\n",
              "  </tbody>\n",
              "</table>\n",
              "</div>"
            ],
            "text/plain": [
              "min_bin         0         1         2         3         4\n",
              "mb_bin                                                   \n",
              "0        0.244048  0.406250  0.272727  0.290909  0.800000\n",
              "1        0.250000  0.147368  0.136364  0.138889  0.375000\n",
              "2        0.178571  0.128205  0.153846  0.202247  0.347222\n",
              "3        0.302326  0.123596  0.141026  0.166667  0.544304\n",
              "4        0.597015  0.542373  0.253968  0.493151  0.790323"
            ]
          },
          "metadata": {
            "tags": []
          },
          "execution_count": 95
        }
      ]
    },
    {
      "cell_type": "markdown",
      "metadata": {
        "id": "8CFRe8dv4imO"
      },
      "source": [
        "Напишем функцию для категорирования. В процессе работы выяснили*, что наилучший порог среднего значения для добавления категории 1 Ультра - 0.29, запишем наши значения в функцию:  \n",
        "  \n",
        "\n",
        "*Примечание*: *начинали принимать в классификацию с порога 0.15 для среднего значения пользователей, потом сранивали правильность - наилучшую получили при включении значений свыше 0.29 для среднего, что и отражено в функции по пересечению индекса и колонок сводной таблицы*  \n",
        "\n",
        "*Смысл в том, что включали в функцию все значения среднего свыше 0.15 сначала и обозначали это как 1 - Ультра. Методом подбора и сравнения - выяснили - что лучшие показатели достигаются при 0.29. Но это отняло много времени, при этом функция уже имеет готовый, вид, перебор не стали включать. Например, при включении всех ячеек с средним свыше 0.15 - правильнсть accuracy была 0.39 всего*"
      ]
    },
    {
      "cell_type": "code",
      "metadata": {
        "id": "JEWcESeK4imO"
      },
      "source": [
        "def ultra_cat(row):\n",
        "\n",
        "    if row['min_bin'] >= 3 and row['mb_bin'] == 0:\n",
        "        return 1\n",
        "    elif row['min_bin'] == 4 and row['mb_bin'] == 1:\n",
        "        return 1\n",
        "    elif row['min_bin'] == 4 and row['mb_bin'] == 2:\n",
        "        return 1\n",
        "    elif row['min_bin'] == 4 and row['mb_bin'] == 3:\n",
        "        return 1\n",
        "    elif row['min_bin'] !=2 and row['mb_bin'] == 4:\n",
        "        return 1\n",
        "    else:\n",
        "        return 0"
      ],
      "execution_count": null,
      "outputs": []
    },
    {
      "cell_type": "markdown",
      "metadata": {
        "id": "fANVNYVo4imP"
      },
      "source": [
        "Применили функцию, получим выборку с предсказанными категориями "
      ]
    },
    {
      "cell_type": "code",
      "metadata": {
        "colab": {
          "base_uri": "https://localhost:8080/"
        },
        "id": "_GOF2Dlc4imP",
        "outputId": "060197fc-b789-410b-962c-644e54c8a42b"
      },
      "source": [
        "df_man['is_ultra_prd'] = df_man.apply(ultra_cat, axis=1)\n",
        "df_man.head(10)\n"
      ],
      "execution_count": null,
      "outputs": [
        {
          "output_type": "execute_result",
          "data": {
            "text/html": [
              "<div>\n",
              "<style scoped>\n",
              "    .dataframe tbody tr th:only-of-type {\n",
              "        vertical-align: middle;\n",
              "    }\n",
              "\n",
              "    .dataframe tbody tr th {\n",
              "        vertical-align: top;\n",
              "    }\n",
              "\n",
              "    .dataframe thead th {\n",
              "        text-align: right;\n",
              "    }\n",
              "</style>\n",
              "<table border=\"1\" class=\"dataframe\">\n",
              "  <thead>\n",
              "    <tr style=\"text-align: right;\">\n",
              "      <th></th>\n",
              "      <th>calls</th>\n",
              "      <th>minutes</th>\n",
              "      <th>messages</th>\n",
              "      <th>mb_used</th>\n",
              "      <th>is_ultra</th>\n",
              "      <th>min_bin</th>\n",
              "      <th>mb_bin</th>\n",
              "      <th>is_ultra_prd</th>\n",
              "    </tr>\n",
              "  </thead>\n",
              "  <tbody>\n",
              "    <tr>\n",
              "      <th>3187</th>\n",
              "      <td>35.0</td>\n",
              "      <td>259.10</td>\n",
              "      <td>4.0</td>\n",
              "      <td>14857.57</td>\n",
              "      <td>0</td>\n",
              "      <td>1</td>\n",
              "      <td>1</td>\n",
              "      <td>0</td>\n",
              "    </tr>\n",
              "    <tr>\n",
              "      <th>1889</th>\n",
              "      <td>84.0</td>\n",
              "      <td>574.03</td>\n",
              "      <td>0.0</td>\n",
              "      <td>16028.42</td>\n",
              "      <td>0</td>\n",
              "      <td>3</td>\n",
              "      <td>2</td>\n",
              "      <td>0</td>\n",
              "    </tr>\n",
              "    <tr>\n",
              "      <th>1253</th>\n",
              "      <td>62.0</td>\n",
              "      <td>446.89</td>\n",
              "      <td>7.0</td>\n",
              "      <td>21571.89</td>\n",
              "      <td>0</td>\n",
              "      <td>2</td>\n",
              "      <td>3</td>\n",
              "      <td>0</td>\n",
              "    </tr>\n",
              "    <tr>\n",
              "      <th>1147</th>\n",
              "      <td>75.0</td>\n",
              "      <td>511.02</td>\n",
              "      <td>49.0</td>\n",
              "      <td>17120.31</td>\n",
              "      <td>0</td>\n",
              "      <td>3</td>\n",
              "      <td>2</td>\n",
              "      <td>0</td>\n",
              "    </tr>\n",
              "    <tr>\n",
              "      <th>2801</th>\n",
              "      <td>34.0</td>\n",
              "      <td>279.06</td>\n",
              "      <td>83.0</td>\n",
              "      <td>13463.84</td>\n",
              "      <td>0</td>\n",
              "      <td>1</td>\n",
              "      <td>1</td>\n",
              "      <td>0</td>\n",
              "    </tr>\n",
              "    <tr>\n",
              "      <th>2330</th>\n",
              "      <td>13.0</td>\n",
              "      <td>80.80</td>\n",
              "      <td>9.0</td>\n",
              "      <td>2861.00</td>\n",
              "      <td>0</td>\n",
              "      <td>0</td>\n",
              "      <td>0</td>\n",
              "      <td>0</td>\n",
              "    </tr>\n",
              "    <tr>\n",
              "      <th>3000</th>\n",
              "      <td>123.0</td>\n",
              "      <td>967.93</td>\n",
              "      <td>0.0</td>\n",
              "      <td>14194.09</td>\n",
              "      <td>1</td>\n",
              "      <td>4</td>\n",
              "      <td>1</td>\n",
              "      <td>1</td>\n",
              "    </tr>\n",
              "    <tr>\n",
              "      <th>1494</th>\n",
              "      <td>67.0</td>\n",
              "      <td>499.87</td>\n",
              "      <td>69.0</td>\n",
              "      <td>32556.54</td>\n",
              "      <td>1</td>\n",
              "      <td>3</td>\n",
              "      <td>4</td>\n",
              "      <td>1</td>\n",
              "    </tr>\n",
              "    <tr>\n",
              "      <th>882</th>\n",
              "      <td>66.0</td>\n",
              "      <td>494.47</td>\n",
              "      <td>0.0</td>\n",
              "      <td>17360.07</td>\n",
              "      <td>0</td>\n",
              "      <td>3</td>\n",
              "      <td>2</td>\n",
              "      <td>0</td>\n",
              "    </tr>\n",
              "    <tr>\n",
              "      <th>2352</th>\n",
              "      <td>32.0</td>\n",
              "      <td>283.13</td>\n",
              "      <td>60.0</td>\n",
              "      <td>19223.32</td>\n",
              "      <td>0</td>\n",
              "      <td>1</td>\n",
              "      <td>3</td>\n",
              "      <td>0</td>\n",
              "    </tr>\n",
              "  </tbody>\n",
              "</table>\n",
              "</div>"
            ],
            "text/plain": [
              "      calls  minutes  messages  ...  min_bin  mb_bin  is_ultra_prd\n",
              "3187   35.0   259.10       4.0  ...        1       1             0\n",
              "1889   84.0   574.03       0.0  ...        3       2             0\n",
              "1253   62.0   446.89       7.0  ...        2       3             0\n",
              "1147   75.0   511.02      49.0  ...        3       2             0\n",
              "2801   34.0   279.06      83.0  ...        1       1             0\n",
              "2330   13.0    80.80       9.0  ...        0       0             0\n",
              "3000  123.0   967.93       0.0  ...        4       1             1\n",
              "1494   67.0   499.87      69.0  ...        3       4             1\n",
              "882    66.0   494.47       0.0  ...        3       2             0\n",
              "2352   32.0   283.13      60.0  ...        1       3             0\n",
              "\n",
              "[10 rows x 8 columns]"
            ]
          },
          "metadata": {
            "tags": []
          },
          "execution_count": 97
        }
      ]
    },
    {
      "cell_type": "markdown",
      "metadata": {
        "id": "gpab_fFO4imP"
      },
      "source": [
        "Предскажем значения на тестовой выборке"
      ]
    },
    {
      "cell_type": "code",
      "metadata": {
        "colab": {
          "base_uri": "https://localhost:8080/"
        },
        "id": "BcEezX784imP",
        "outputId": "93ce31d8-ff36-40fb-ab2e-1e7a56cd26fd"
      },
      "source": [
        "test_features.head()"
      ],
      "execution_count": null,
      "outputs": [
        {
          "output_type": "execute_result",
          "data": {
            "text/html": [
              "<div>\n",
              "<style scoped>\n",
              "    .dataframe tbody tr th:only-of-type {\n",
              "        vertical-align: middle;\n",
              "    }\n",
              "\n",
              "    .dataframe tbody tr th {\n",
              "        vertical-align: top;\n",
              "    }\n",
              "\n",
              "    .dataframe thead th {\n",
              "        text-align: right;\n",
              "    }\n",
              "</style>\n",
              "<table border=\"1\" class=\"dataframe\">\n",
              "  <thead>\n",
              "    <tr style=\"text-align: right;\">\n",
              "      <th></th>\n",
              "      <th>calls</th>\n",
              "      <th>minutes</th>\n",
              "      <th>messages</th>\n",
              "      <th>mb_used</th>\n",
              "    </tr>\n",
              "  </thead>\n",
              "  <tbody>\n",
              "    <tr>\n",
              "      <th>506</th>\n",
              "      <td>46.0</td>\n",
              "      <td>338.60</td>\n",
              "      <td>35.0</td>\n",
              "      <td>11428.54</td>\n",
              "    </tr>\n",
              "    <tr>\n",
              "      <th>2513</th>\n",
              "      <td>39.0</td>\n",
              "      <td>242.71</td>\n",
              "      <td>0.0</td>\n",
              "      <td>20480.11</td>\n",
              "    </tr>\n",
              "    <tr>\n",
              "      <th>354</th>\n",
              "      <td>39.0</td>\n",
              "      <td>258.02</td>\n",
              "      <td>0.0</td>\n",
              "      <td>19998.80</td>\n",
              "    </tr>\n",
              "    <tr>\n",
              "      <th>1080</th>\n",
              "      <td>36.0</td>\n",
              "      <td>230.99</td>\n",
              "      <td>19.0</td>\n",
              "      <td>23525.07</td>\n",
              "    </tr>\n",
              "    <tr>\n",
              "      <th>2389</th>\n",
              "      <td>35.0</td>\n",
              "      <td>205.35</td>\n",
              "      <td>52.0</td>\n",
              "      <td>35177.94</td>\n",
              "    </tr>\n",
              "  </tbody>\n",
              "</table>\n",
              "</div>"
            ],
            "text/plain": [
              "      calls  minutes  messages   mb_used\n",
              "506    46.0   338.60      35.0  11428.54\n",
              "2513   39.0   242.71       0.0  20480.11\n",
              "354    39.0   258.02       0.0  19998.80\n",
              "1080   36.0   230.99      19.0  23525.07\n",
              "2389   35.0   205.35      52.0  35177.94"
            ]
          },
          "metadata": {
            "tags": []
          },
          "execution_count": 98
        }
      ]
    },
    {
      "cell_type": "code",
      "metadata": {
        "id": "7lSwf_-z4imP"
      },
      "source": [
        "test_features_man = test_features.copy()"
      ],
      "execution_count": null,
      "outputs": []
    },
    {
      "cell_type": "markdown",
      "metadata": {
        "id": "k3t8yiEm4imP"
      },
      "source": [
        "Разобьем тестовую выборку на категории с аналогичным разделением как в мы делали выше с df_man, корзины мы посчитали ранее, укажем их в аргументах:"
      ]
    },
    {
      "cell_type": "code",
      "metadata": {
        "id": "1KPd-Hhe4imP"
      },
      "source": [
        "test_features_man['min_bin'] = pd.cut(test_features_man['minutes'], bins = min_bin, labels=False, include_lowest=True)\n",
        "test_features_man['mb_bin'] = pd.cut(test_features_man['mb_used'], bins = mb_bin, labels=False, include_lowest=True)"
      ],
      "execution_count": null,
      "outputs": []
    },
    {
      "cell_type": "code",
      "metadata": {
        "colab": {
          "base_uri": "https://localhost:8080/"
        },
        "id": "jhdG-LxV4imP",
        "outputId": "bca8cdec-be12-4a9d-9b6c-f5e101bc949c"
      },
      "source": [
        "test_features_man.head()"
      ],
      "execution_count": null,
      "outputs": [
        {
          "output_type": "execute_result",
          "data": {
            "text/html": [
              "<div>\n",
              "<style scoped>\n",
              "    .dataframe tbody tr th:only-of-type {\n",
              "        vertical-align: middle;\n",
              "    }\n",
              "\n",
              "    .dataframe tbody tr th {\n",
              "        vertical-align: top;\n",
              "    }\n",
              "\n",
              "    .dataframe thead th {\n",
              "        text-align: right;\n",
              "    }\n",
              "</style>\n",
              "<table border=\"1\" class=\"dataframe\">\n",
              "  <thead>\n",
              "    <tr style=\"text-align: right;\">\n",
              "      <th></th>\n",
              "      <th>calls</th>\n",
              "      <th>minutes</th>\n",
              "      <th>messages</th>\n",
              "      <th>mb_used</th>\n",
              "      <th>min_bin</th>\n",
              "      <th>mb_bin</th>\n",
              "    </tr>\n",
              "  </thead>\n",
              "  <tbody>\n",
              "    <tr>\n",
              "      <th>506</th>\n",
              "      <td>46.0</td>\n",
              "      <td>338.60</td>\n",
              "      <td>35.0</td>\n",
              "      <td>11428.54</td>\n",
              "      <td>1</td>\n",
              "      <td>1</td>\n",
              "    </tr>\n",
              "    <tr>\n",
              "      <th>2513</th>\n",
              "      <td>39.0</td>\n",
              "      <td>242.71</td>\n",
              "      <td>0.0</td>\n",
              "      <td>20480.11</td>\n",
              "      <td>1</td>\n",
              "      <td>3</td>\n",
              "    </tr>\n",
              "    <tr>\n",
              "      <th>354</th>\n",
              "      <td>39.0</td>\n",
              "      <td>258.02</td>\n",
              "      <td>0.0</td>\n",
              "      <td>19998.80</td>\n",
              "      <td>1</td>\n",
              "      <td>3</td>\n",
              "    </tr>\n",
              "    <tr>\n",
              "      <th>1080</th>\n",
              "      <td>36.0</td>\n",
              "      <td>230.99</td>\n",
              "      <td>19.0</td>\n",
              "      <td>23525.07</td>\n",
              "      <td>0</td>\n",
              "      <td>4</td>\n",
              "    </tr>\n",
              "    <tr>\n",
              "      <th>2389</th>\n",
              "      <td>35.0</td>\n",
              "      <td>205.35</td>\n",
              "      <td>52.0</td>\n",
              "      <td>35177.94</td>\n",
              "      <td>0</td>\n",
              "      <td>4</td>\n",
              "    </tr>\n",
              "  </tbody>\n",
              "</table>\n",
              "</div>"
            ],
            "text/plain": [
              "      calls  minutes  messages   mb_used  min_bin  mb_bin\n",
              "506    46.0   338.60      35.0  11428.54        1       1\n",
              "2513   39.0   242.71       0.0  20480.11        1       3\n",
              "354    39.0   258.02       0.0  19998.80        1       3\n",
              "1080   36.0   230.99      19.0  23525.07        0       4\n",
              "2389   35.0   205.35      52.0  35177.94        0       4"
            ]
          },
          "metadata": {
            "tags": []
          },
          "execution_count": 101
        }
      ]
    },
    {
      "cell_type": "markdown",
      "metadata": {
        "id": "yRSTwqyY4imP"
      },
      "source": [
        "Создадим нашу ручную модель:"
      ]
    },
    {
      "cell_type": "code",
      "metadata": {
        "colab": {
          "base_uri": "https://localhost:8080/"
        },
        "id": "gfwOVgw34imQ",
        "outputId": "b9602a32-a799-4ea5-ff93-bc0b61749afa"
      },
      "source": [
        "model_man = df_man[['mb_bin', 'min_bin', 'is_ultra_prd']].reset_index(drop=True)\n",
        "model_man.head()\n"
      ],
      "execution_count": null,
      "outputs": [
        {
          "output_type": "execute_result",
          "data": {
            "text/html": [
              "<div>\n",
              "<style scoped>\n",
              "    .dataframe tbody tr th:only-of-type {\n",
              "        vertical-align: middle;\n",
              "    }\n",
              "\n",
              "    .dataframe tbody tr th {\n",
              "        vertical-align: top;\n",
              "    }\n",
              "\n",
              "    .dataframe thead th {\n",
              "        text-align: right;\n",
              "    }\n",
              "</style>\n",
              "<table border=\"1\" class=\"dataframe\">\n",
              "  <thead>\n",
              "    <tr style=\"text-align: right;\">\n",
              "      <th></th>\n",
              "      <th>mb_bin</th>\n",
              "      <th>min_bin</th>\n",
              "      <th>is_ultra_prd</th>\n",
              "    </tr>\n",
              "  </thead>\n",
              "  <tbody>\n",
              "    <tr>\n",
              "      <th>0</th>\n",
              "      <td>1</td>\n",
              "      <td>1</td>\n",
              "      <td>0</td>\n",
              "    </tr>\n",
              "    <tr>\n",
              "      <th>1</th>\n",
              "      <td>2</td>\n",
              "      <td>3</td>\n",
              "      <td>0</td>\n",
              "    </tr>\n",
              "    <tr>\n",
              "      <th>2</th>\n",
              "      <td>3</td>\n",
              "      <td>2</td>\n",
              "      <td>0</td>\n",
              "    </tr>\n",
              "    <tr>\n",
              "      <th>3</th>\n",
              "      <td>2</td>\n",
              "      <td>3</td>\n",
              "      <td>0</td>\n",
              "    </tr>\n",
              "    <tr>\n",
              "      <th>4</th>\n",
              "      <td>1</td>\n",
              "      <td>1</td>\n",
              "      <td>0</td>\n",
              "    </tr>\n",
              "  </tbody>\n",
              "</table>\n",
              "</div>"
            ],
            "text/plain": [
              "   mb_bin  min_bin  is_ultra_prd\n",
              "0       1        1             0\n",
              "1       2        3             0\n",
              "2       3        2             0\n",
              "3       2        3             0\n",
              "4       1        1             0"
            ]
          },
          "metadata": {
            "tags": []
          },
          "execution_count": 102
        }
      ]
    },
    {
      "cell_type": "markdown",
      "metadata": {
        "id": "I6WXW-Mw4imQ"
      },
      "source": [
        "Проверим работу модели по тем же самым параметрам, что и модели МО"
      ]
    },
    {
      "cell_type": "code",
      "metadata": {
        "colab": {
          "base_uri": "https://localhost:8080/"
        },
        "id": "tlCDePVV4imQ",
        "outputId": "d0f86290-d387-4709-9ee5-4e01e002c04a"
      },
      "source": [
        "test_features_man['is_ultra_pred']= test_features_man.apply(ultra_cat, axis=1)\n",
        "\n",
        "pred = test_features_man['is_ultra_pred'].to_numpy()\n",
        "test_acc = accuracy_score(test_target, pred)\n",
        "test_f1 = f1_score(test_target, pred, average='weighted')\n",
        "\n",
        "print(\"Accuracy\")\n",
        "print(\"Тестовая выборка:\", test_acc)\n",
        "print(\"F1-мера\")\n",
        "print(\"Тестовая выборка:\", test_f1)"
      ],
      "execution_count": null,
      "outputs": [
        {
          "output_type": "stream",
          "text": [
            "Accuracy\n",
            "Тестовая выборка: 0.7262830482115086\n",
            "F1-мера\n",
            "Тестовая выборка: 0.7286869408035022\n"
          ],
          "name": "stdout"
        }
      ]
    },
    {
      "cell_type": "code",
      "metadata": {
        "colab": {
          "base_uri": "https://localhost:8080/"
        },
        "id": "_NjGKOCf4imQ",
        "outputId": "98e5a96c-dc9f-4373-efa2-943c04141e07"
      },
      "source": [
        "df_man_targ = df_man['is_ultra'].to_numpy()\n",
        "df_man['is_ultra_pred'] = df_man.apply(ultra_cat, axis=1)\n",
        "\n",
        "pred_df = df_man['is_ultra_pred'].to_numpy()\n",
        "df_test_acc = accuracy_score(df_man_targ, pred_df)\n",
        "df_test_f1 = f1_score(df_man_targ, pred_df, average='weighted')\n",
        "\n",
        "print(\"Accuracy\")\n",
        "print(\"Тренировочная выборка:\", df_test_acc)\n",
        "print(\"F1-мера\")\n",
        "print(\"Тренировочная выборка:\", test_f1)"
      ],
      "execution_count": null,
      "outputs": [
        {
          "output_type": "stream",
          "text": [
            "Accuracy\n",
            "Тренировочная выборка: 0.7225103734439834\n",
            "F1-мера\n",
            "Тренировочная выборка: 0.7286869408035022\n"
          ],
          "name": "stdout"
        }
      ]
    },
    {
      "cell_type": "markdown",
      "metadata": {
        "id": "zzCCSCxU4imQ"
      },
      "source": [
        "Наша ручная модель не дотягивает до порога правильности 0.75, при этом это самые лучшие результаты, что смогли получить"
      ]
    },
    {
      "cell_type": "markdown",
      "metadata": {
        "id": "VXqIkgeX4imQ"
      },
      "source": [
        "### Вывод"
      ]
    },
    {
      "cell_type": "markdown",
      "metadata": {
        "id": "uaXZ2k6C4imQ"
      },
      "source": [
        "Модель на основе случайности и ручная модель не смогли пройти порог правильности 0.75, в отличии от моделей Машинного обучения. Таким образом, модели МО лучше применимы в ситуации классификации на этих данных, показывая большую правильность, соответственно и рекомендации будут точнее, модели МО - вменяемы"
      ]
    },
    {
      "cell_type": "markdown",
      "metadata": {
        "id": "ZvNInVS84imQ"
      },
      "source": [
        "## Общий вывод"
      ]
    },
    {
      "cell_type": "markdown",
      "metadata": {
        "id": "J6hJV_Vd4imQ"
      },
      "source": [
        "Для классификации пользователей по тарифам и предложения им перехода на тот или иной тариф - лучше всего прменять модель на основе Catboost, при этом эта модель не требует даже дополнительной настройки - показала себя наиболее правильной.   \n",
        "\n",
        "Также подходят для данной задачи Случайный лес и Дерево принятия решений. Логистическая регрессия и k ближайших сосдей показали себя недостаточно хорошо, применять для данной задлачи их не стоит. Переда нами стояла задача построения модели - поэтому ее не сохраняли, передавать модель не требуется. \n",
        "\n",
        "Ниже приводим таблицу достигнутой правильности:"
      ]
    },
    {
      "cell_type": "code",
      "metadata": {
        "colab": {
          "base_uri": "https://localhost:8080/"
        },
        "id": "-_YSLfDQ4imR",
        "outputId": "ae895c1b-1209-4ad3-ea1a-d5c7b1a58751"
      },
      "source": [
        "table_of_models"
      ],
      "execution_count": null,
      "outputs": [
        {
          "output_type": "execute_result",
          "data": {
            "text/html": [
              "<div>\n",
              "<style scoped>\n",
              "    .dataframe tbody tr th:only-of-type {\n",
              "        vertical-align: middle;\n",
              "    }\n",
              "\n",
              "    .dataframe tbody tr th {\n",
              "        vertical-align: top;\n",
              "    }\n",
              "\n",
              "    .dataframe thead th {\n",
              "        text-align: right;\n",
              "    }\n",
              "</style>\n",
              "<table border=\"1\" class=\"dataframe\">\n",
              "  <thead>\n",
              "    <tr style=\"text-align: right;\">\n",
              "      <th></th>\n",
              "      <th>Model</th>\n",
              "      <th>Accuracy</th>\n",
              "      <th>F1 score</th>\n",
              "    </tr>\n",
              "  </thead>\n",
              "  <tbody>\n",
              "    <tr>\n",
              "      <th>0</th>\n",
              "      <td>RandomForestClassifier</td>\n",
              "      <td>0.81</td>\n",
              "      <td>0.80</td>\n",
              "    </tr>\n",
              "    <tr>\n",
              "      <th>1</th>\n",
              "      <td>DecisionTreeClassifier</td>\n",
              "      <td>0.80</td>\n",
              "      <td>0.78</td>\n",
              "    </tr>\n",
              "    <tr>\n",
              "      <th>2</th>\n",
              "      <td>CatBoostClassifier</td>\n",
              "      <td>0.80</td>\n",
              "      <td>0.79</td>\n",
              "    </tr>\n",
              "    <tr>\n",
              "      <th>3</th>\n",
              "      <td>KNeighborsClassifier</td>\n",
              "      <td>0.78</td>\n",
              "      <td>0.48</td>\n",
              "    </tr>\n",
              "    <tr>\n",
              "      <th>4</th>\n",
              "      <td>LogisticRegression</td>\n",
              "      <td>0.76</td>\n",
              "      <td>0.71</td>\n",
              "    </tr>\n",
              "  </tbody>\n",
              "</table>\n",
              "</div>"
            ],
            "text/plain": [
              "                    Model  Accuracy  F1 score\n",
              "0  RandomForestClassifier      0.81      0.80\n",
              "1  DecisionTreeClassifier      0.80      0.78\n",
              "2      CatBoostClassifier      0.80      0.79\n",
              "3    KNeighborsClassifier      0.78      0.48\n",
              "4      LogisticRegression      0.76      0.71"
            ]
          },
          "metadata": {
            "tags": []
          },
          "execution_count": 105
        }
      ]
    }
  ]
}